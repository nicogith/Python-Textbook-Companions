{
 "metadata": {
  "name": ""
 },
 "nbformat": 3,
 "nbformat_minor": 0,
 "worksheets": [
  {
   "cells": [
    {
     "cell_type": "heading",
     "level": 1,
     "metadata": {},
     "source": [
      "Chapter 12: Applied Nuclear Physics"
     ]
    },
    {
     "cell_type": "heading",
     "level": 2,
     "metadata": {},
     "source": [
      "Example 12.1, Page 12.31"
     ]
    },
    {
     "cell_type": "code",
     "collapsed": false,
     "input": [
      "from math import log\n",
      "\n",
      "# Given \n",
      "E = 1.14 # energy of gamma radiation in Mev\n",
      "l = 0.2 # length of aluminium in meter\n",
      "p = 0.03 # reduce in intensity in beam\n",
      "d = 2700 # density of aluminium in kg/m^3 \n",
      "\n",
      "#Calculations\n",
      "mu = (1 / l) * log(1 / p)\n",
      "k = mu / d\n",
      "x = 0.693 / mu\n",
      "\n",
      "#Result\n",
      "print \"Mass absorption coeffiecient of Al for this radiation is %f m^2/kg\\nHalf value thickness is %.4f meter\"%(k,x)"
     ],
     "language": "python",
     "metadata": {},
     "outputs": [
      {
       "output_type": "stream",
       "stream": "stdout",
       "text": [
        "Mass absorption coeffiecient of Al for this radiation is 0.006494 m^2/kg\n",
        "Half value thickness is 0.0395 meter\n"
       ]
      }
     ],
     "prompt_number": 1
    },
    {
     "cell_type": "heading",
     "level": 2,
     "metadata": {},
     "source": [
      "Example 12.2, Page 12.32"
     ]
    },
    {
     "cell_type": "code",
     "collapsed": false,
     "input": [
      "from math import *\n",
      "\n",
      "# Given that\n",
      "E = 1.1 # energy of gamma radiation in Mev\n",
      "l = 0.25 # length of aluminium in meter\n",
      "p = 0.02 # reduce in intensity in beam\n",
      "d = 2700 # density of aluminium in kg/m^3 \n",
      "\n",
      "#Calculations\n",
      "mu = (1 / l) * log(1 / p)\n",
      "k = mu / d\n",
      "x = 0.693 / mu\n",
      "\n",
      "#Result\n",
      "print \"Mass attenuation coefficient of Al for this radiation is %.1e m^2/kg\\nHalf value thickness is %.4f meter\"%(k,x)"
     ],
     "language": "python",
     "metadata": {},
     "outputs": [
      {
       "output_type": "stream",
       "stream": "stdout",
       "text": [
        "Mass attenuation coefficient of Al for this radiation is 5.8e-03 m^2/kg\n",
        "Half value thickness is 0.0443 meter\n"
       ]
      }
     ],
     "prompt_number": 2
    },
    {
     "cell_type": "heading",
     "level": 2,
     "metadata": {},
     "source": [
      "Example 12.3, Page 12.32"
     ]
    },
    {
     "cell_type": "code",
     "collapsed": false,
     "input": [
      "from math import *\n",
      "\n",
      "# Given \n",
      "t = 15 # half-life for Na(23) in hours\n",
      "r = 93.75 # percentage fraction of sample which decayed \n",
      "\n",
      "#Calculations\n",
      "lamda = 0.693 / t\n",
      "T = (1 / lamda) * (log(100 / (100 - r)))\n",
      "\n",
      "#Result\n",
      "print \"Time taken for 93.75 per decay of sample is %d hours\"%T"
     ],
     "language": "python",
     "metadata": {},
     "outputs": [
      {
       "output_type": "stream",
       "stream": "stdout",
       "text": [
        "Time taken for 93.75 per decay of sample is 60 hours\n"
       ]
      }
     ],
     "prompt_number": 3
    },
    {
     "cell_type": "heading",
     "level": 2,
     "metadata": {},
     "source": [
      "Example 12.4, Page 12.33"
     ]
    },
    {
     "cell_type": "code",
     "collapsed": false,
     "input": [
      "from math import *\n",
      "\n",
      "# Given \n",
      "t = 4 # half-life of radioactive element in years\n",
      "r = 1. / 64 # ratio of mass of element present in specimen to the initial mass of element \n",
      "\n",
      "#Calculations\n",
      "lamda = 0.693 / t\n",
      "T = (1 / lamda) * log(1 / r)\n",
      "\n",
      "#Result\n",
      "print \"Time after which element present in specimen reduce to 1/64 of its original value is %d years\"%T"
     ],
     "language": "python",
     "metadata": {},
     "outputs": [
      {
       "output_type": "stream",
       "stream": "stdout",
       "text": [
        "Time after which element present in specimen reduce to 1/64 of its original value is 24 years\n"
       ]
      }
     ],
     "prompt_number": 4
    },
    {
     "cell_type": "heading",
     "level": 2,
     "metadata": {},
     "source": [
      "Example 12.5, Page 12.33"
     ]
    },
    {
     "cell_type": "code",
     "collapsed": false,
     "input": [
      "from math import *\n",
      "\n",
      "# Given \n",
      "t = 15 # half-life of radioactive element in years\n",
      "r = 0.025 # ratio of mass of element present in specimen to the intial mass of element \n",
      "\n",
      "#Calculations\n",
      "lamda = 0.693 / t\n",
      "T = (1 / lamda) * log(1 / r)\n",
      "\n",
      "#result\n",
      "print \"Period in which 2.5 percent of the initial quantity left over is %.2f years\"%T"
     ],
     "language": "python",
     "metadata": {},
     "outputs": [
      {
       "output_type": "stream",
       "stream": "stdout",
       "text": [
        "Period in which 2.5 percent of the initial quantity left over is 79.85 years\n"
       ]
      }
     ],
     "prompt_number": 5
    },
    {
     "cell_type": "heading",
     "level": 2,
     "metadata": {},
     "source": [
      "Example 12.6, Page 12.33"
     ]
    },
    {
     "cell_type": "code",
     "collapsed": false,
     "input": [
      "from math import *\n",
      "\n",
      "# Given \n",
      "t = 3.8 # half-life for radon in days\n",
      "r = 60. # percentage fraction of sample which decayed \n",
      "\n",
      "#Calculations\n",
      "lamda = 0.693 / t\n",
      "T = (1 / lamda) * (log(100 / (100 - r)))\n",
      "\n",
      "#Result\n",
      "print \"Time taken for 60 percent decay of sample is %.3f days\"%T"
     ],
     "language": "python",
     "metadata": {},
     "outputs": [
      {
       "output_type": "stream",
       "stream": "stdout",
       "text": [
        "Time taken for 60 percent decay of sample is 5.024 days\n"
       ]
      }
     ],
     "prompt_number": 7
    },
    {
     "cell_type": "heading",
     "level": 2,
     "metadata": {},
     "source": [
      "Example 12.7, Page 12.34"
     ]
    },
    {
     "cell_type": "code",
     "collapsed": false,
     "input": [
      "# Given \n",
      "lamda = 4.28e-4 # decay constant in per year\n",
      "\n",
      "#Calculations\n",
      "T = 0.693 / lamda\n",
      "t = 1 / lamda\n",
      "\n",
      "#Result\n",
      "print \"Half life time is %.2f years\\nMean life time is %.2f years\"%(T,t)"
     ],
     "language": "python",
     "metadata": {},
     "outputs": [
      {
       "output_type": "stream",
       "stream": "stdout",
       "text": [
        "Half life time is 1619.16 years\n",
        "Mean life time is 2336.45 years\n"
       ]
      }
     ],
     "prompt_number": 8
    },
    {
     "cell_type": "heading",
     "level": 2,
     "metadata": {},
     "source": [
      "Example 12.8, Page 12.34"
     ]
    },
    {
     "cell_type": "code",
     "collapsed": false,
     "input": [
      "from math import *\n",
      "\n",
      "# Given \n",
      "t = 30 # time in years\n",
      "r = 1. / 64 # ratio of final mass of element to the intial mass of element \n",
      "\n",
      "#Calculations\n",
      "lamda = log(1 / r) / t\n",
      "T = 0.693 / lamda\n",
      "\n",
      "#Result\n",
      "print \"Half life of radioactive material is %d years\"%(ceil(T))"
     ],
     "language": "python",
     "metadata": {},
     "outputs": [
      {
       "output_type": "stream",
       "stream": "stdout",
       "text": [
        "Half life of radioactive material is 5 years\n"
       ]
      }
     ],
     "prompt_number": 9
    },
    {
     "cell_type": "heading",
     "level": 2,
     "metadata": {},
     "source": [
      "Example 12.9, Page 12.34"
     ]
    },
    {
     "cell_type": "code",
     "collapsed": false,
     "input": [
      "# Given \n",
      "t = 2.1 # half life in minute\n",
      "r = 60 # percentage fraction of sample which decayed \n",
      "\n",
      "#Calculation\n",
      "lamda = 0.693 / t\n",
      "\n",
      "#Result\n",
      "print \"Decay constant is %.2f per minute\"%lamda"
     ],
     "language": "python",
     "metadata": {},
     "outputs": [
      {
       "output_type": "stream",
       "stream": "stdout",
       "text": [
        "Decay constant is 0.33 per minute\n"
       ]
      }
     ],
     "prompt_number": 10
    },
    {
     "cell_type": "heading",
     "level": 2,
     "metadata": {},
     "source": [
      "Example 12.10, Page 12.35"
     ]
    },
    {
     "cell_type": "code",
     "collapsed": false,
     "input": [
      "from math import *\n",
      "\n",
      "# Given \n",
      "t = 2.7 # half-life of Au(198) in days\n",
      "m = 1e-6 # mass of sample in gm\n",
      "T = 8 * 86400 # time in seconds\n",
      "\n",
      "#Calculations\n",
      "lamda = 0.693 / (t * 86400)\n",
      "N = (m * 6.023e23) / 198 # by the formula (N = mass*Avogadro number/molar mass)\n",
      "A_ = lamda * N\n",
      "A = A_ * (1 / exp(lamda * T))\n",
      "\n",
      "#Result\n",
      "print \"Activity of sample is %.4e decays/sec\"%A"
     ],
     "language": "python",
     "metadata": {},
     "outputs": [
      {
       "output_type": "stream",
       "stream": "stdout",
       "text": [
        "Activity of sample is 1.1595e+09 decays/sec\n"
       ]
      }
     ],
     "prompt_number": 11
    },
    {
     "cell_type": "heading",
     "level": 2,
     "metadata": {},
     "source": [
      "Example 12.11, Page 12.35"
     ]
    },
    {
     "cell_type": "code",
     "collapsed": false,
     "input": [
      "# Given \n",
      "n = 3 # no. of half lives\n",
      "\n",
      "#Calculation\n",
      "f = (1. / 2)**n\n",
      "\n",
      "#Result\n",
      "print \"Fraction of sample left after %d half lives is %.3f  \"%(n,f)"
     ],
     "language": "python",
     "metadata": {},
     "outputs": [
      {
       "output_type": "stream",
       "stream": "stdout",
       "text": [
        "Fraction of sample left after 3 half lives is 0.125  \n"
       ]
      }
     ],
     "prompt_number": 12
    },
    {
     "cell_type": "heading",
     "level": 2,
     "metadata": {},
     "source": [
      "Example 12.12, Page 12.35"
     ]
    },
    {
     "cell_type": "code",
     "collapsed": false,
     "input": [
      "# Given \n",
      "t = 2 # life period of radioactive substance in years\n",
      "T = 4 # time in years\n",
      "m = 10. # mass of substance in mg\n",
      "\n",
      "#Calculation\n",
      "N = m / T # in mg\n",
      "\n",
      "#Result\n",
      "print \"Substance remained unchanged after 4 years is %.1f mg\"%N"
     ],
     "language": "python",
     "metadata": {},
     "outputs": [
      {
       "output_type": "stream",
       "stream": "stdout",
       "text": [
        "Substance remained unchanged after 4 years is 2.5 mg\n"
       ]
      }
     ],
     "prompt_number": 13
    },
    {
     "cell_type": "heading",
     "level": 2,
     "metadata": {},
     "source": [
      "Example 12.13, Page 12.36"
     ]
    },
    {
     "cell_type": "code",
     "collapsed": false,
     "input": [
      "from math import *\n",
      "\n",
      "# Given that\n",
      "m = 1. # initial mass of radium in gm\n",
      "m_ = 0.0021 # final mass of radium in gm\n",
      "t = 5. # time for decay from m to m_ in years\n",
      "\n",
      "#Calculations\n",
      "lamda = log(m / (1 - m_)) / t\n",
      "T = 0.693 / lamda\n",
      "T_ = 1. / lamda\n",
      "\n",
      "#Result\n",
      "print \"Decay constant is %.4f per year\\nHalf life of sample is %.1f years\\nAverage life of sample is %.3f years\"%(lamda,T,T_)\n",
      "#Incorrect answer in the textbook"
     ],
     "language": "python",
     "metadata": {},
     "outputs": [
      {
       "output_type": "stream",
       "stream": "stdout",
       "text": [
        "Decay constant is 0.0004 per year\n",
        "Half life of sample is 1648.3 years\n",
        "Average life of sample is 2378.452 years\n"
       ]
      }
     ],
     "prompt_number": 15
    },
    {
     "cell_type": "heading",
     "level": 2,
     "metadata": {},
     "source": [
      "Example 12.14, Page 12.36"
     ]
    },
    {
     "cell_type": "code",
     "collapsed": false,
     "input": [
      "from math import *\n",
      "\n",
      "# Given \n",
      "t = 10. # time in days\n",
      "r = 15. # percentage fraction of sample which remain \n",
      "\n",
      "#Calculations\n",
      "lamda = log(100. / 15) / t\n",
      "T = 0.693 / lamda\n",
      "\n",
      "#Result\n",
      "print \"Half life of sample is %.3f days\"%T"
     ],
     "language": "python",
     "metadata": {},
     "outputs": [
      {
       "output_type": "stream",
       "stream": "stdout",
       "text": [
        "Half life of sample is 3.653 days\n"
       ]
      }
     ],
     "prompt_number": 16
    },
    {
     "cell_type": "heading",
     "level": 2,
     "metadata": {},
     "source": [
      "Example 12.15, Page 12.36"
     ]
    },
    {
     "cell_type": "code",
     "collapsed": false,
     "input": [
      "from math import *\n",
      "\n",
      "# Given \n",
      "t = 12.3 # half life in year\n",
      "T = 50 # time in year \n",
      "\n",
      "#Calculations\n",
      "lamda = 0.693 / t\n",
      "f = 1 / exp(lamda * T)\n",
      "\n",
      "#Result\n",
      "print \"Fraction of radioactive isotope remained is %.2f \"%f"
     ],
     "language": "python",
     "metadata": {},
     "outputs": [
      {
       "output_type": "stream",
       "stream": "stdout",
       "text": [
        "Fraction of radioactive isotope remained is 0.06 \n"
       ]
      }
     ],
     "prompt_number": 17
    },
    {
     "cell_type": "heading",
     "level": 2,
     "metadata": {},
     "source": [
      "Example 12.16, Page 12.37"
     ]
    },
    {
     "cell_type": "code",
     "collapsed": false,
     "input": [
      "# Given \n",
      "R = 1 # radioactivity of Pb(214) in curie\n",
      "t = 26.8 # half life in minute \n",
      "\n",
      "#calculations\n",
      "lamda = 0.693 / (t * 60)\n",
      "R = 1 * 3.7e10 # in disintegration per sec\n",
      "m = (R * 214) / (6.023e23 * lamda)\n",
      "\n",
      "#Result\n",
      "print \"Mass of Pb(214)is %.2e gm\"%m"
     ],
     "language": "python",
     "metadata": {},
     "outputs": [
      {
       "output_type": "stream",
       "stream": "stdout",
       "text": [
        "Mass of Pb(214)is 3.05e-08 gm\n"
       ]
      }
     ],
     "prompt_number": 18
    },
    {
     "cell_type": "heading",
     "level": 2,
     "metadata": {},
     "source": [
      "Example 12.17, Page 12.37"
     ]
    },
    {
     "cell_type": "code",
     "collapsed": false,
     "input": [
      "# Given \n",
      "R = 1e6 # radioactivity of Pb(214) in disintegrations per sec\n",
      "t = 26.8 # half life in minute \n",
      "\n",
      "#Calculations\n",
      "lamda = 0.693 / (t * 60)\n",
      "m = (R * 214) / (6.023e23 * lamda)\n",
      "\n",
      "#Result\n",
      "print \"Mass of Pb(214) is %.2e gm\"%m"
     ],
     "language": "python",
     "metadata": {},
     "outputs": [
      {
       "output_type": "stream",
       "stream": "stdout",
       "text": [
        "Mass of Pb(214) is 8.24e-13 gm\n"
       ]
      }
     ],
     "prompt_number": 19
    },
    {
     "cell_type": "heading",
     "level": 2,
     "metadata": {},
     "source": [
      "Example 12.18, Page 12.37"
     ]
    },
    {
     "cell_type": "code",
     "collapsed": false,
     "input": [
      "# Given \n",
      "m = 1. # mass of Ra(226) in gm \n",
      "R = 1. # radioactivity of Ra(226) in curie\n",
      "\n",
      "#Calculations\n",
      "r = R * 3.7e10 # in disintegrations per sec\n",
      "N = 6.023e23 * m / 226\n",
      "lamda = r * 226 / 6.023e23\n",
      "T = 1. / lamda\n",
      "T_ = 0.693 / lamda\n",
      "\n",
      "#Result\n",
      "print \"Mean life of radium is %.2e year\\nHalf life of radium is %.2e year\"%(T,T_)"
     ],
     "language": "python",
     "metadata": {},
     "outputs": [
      {
       "output_type": "stream",
       "stream": "stdout",
       "text": [
        "Mean life of radium is 7.20e+10 year\n",
        "Half life of radium is 4.99e+10 year\n"
       ]
      }
     ],
     "prompt_number": 21
    },
    {
     "cell_type": "heading",
     "level": 2,
     "metadata": {},
     "source": [
      "Example 12.19, Page 12.38"
     ]
    },
    {
     "cell_type": "code",
     "collapsed": false,
     "input": [
      "# Given \n",
      "m = 0.0001 # mass of Sr(90) in gm\n",
      "t = 28. # half life of Sr(90) in year\n",
      "t_ = 9. # time in sec\n",
      "\n",
      "#Calculations\n",
      "lamda = 0.693 / (t * 86400 * 365)\n",
      "N_ = 6.023e23 * m / 90\n",
      "n = N_ * lamda * t_\n",
      "\n",
      "#Result\n",
      "print \"Activity of Sr is %.2e disintegration/sec.\"%n\n",
      "#Incorrect answer in the textbook\n",
      "\n"
     ],
     "language": "python",
     "metadata": {},
     "outputs": [
      {
       "output_type": "stream",
       "stream": "stdout",
       "text": [
        "Activity of Sr is 4.73e+09 disintegration/sec.\n"
       ]
      }
     ],
     "prompt_number": 23
    },
    {
     "cell_type": "heading",
     "level": 2,
     "metadata": {},
     "source": [
      "Example 12.20, Page 12.38"
     ]
    },
    {
     "cell_type": "code",
     "collapsed": false,
     "input": [
      "# Given \n",
      "t = 1600 # the half life of radium(226) in year\n",
      "t1 = 3.8 # the half life of radon(222) in days\n",
      "m = 1 # mass of Ra(226) in gm\n",
      "\n",
      "#Calculation\n",
      "m_ = (222 * t1 * m) / (226 * 365 * t) # by the formula N1*t = N2*t1\n",
      "\n",
      "#Result\n",
      "print \"Mass of radon is %.2e gm\"%m_"
     ],
     "language": "python",
     "metadata": {},
     "outputs": [
      {
       "output_type": "stream",
       "stream": "stdout",
       "text": [
        "Mass of radon is 6.39e-06 gm\n"
       ]
      }
     ],
     "prompt_number": 24
    },
    {
     "cell_type": "heading",
     "level": 2,
     "metadata": {},
     "source": [
      "Example 12.21, Page 12.39"
     ]
    },
    {
     "cell_type": "code",
     "collapsed": false,
     "input": [
      "# Given \n",
      "m1 = 4.002603 # mass of He(4) in a.m.u.\n",
      "m2 = 3.016056 # mass of H(3) in a.m.u.\n",
      "m3 = 1.007276 # mass of H(1) in a.m.u.\n",
      "\n",
      "#Calculations\n",
      "k = m2 + m3 - m1\n",
      "E = k * 931\n",
      "\n",
      "#Result\n",
      "print \"Energy of gamma ray photon is %.3f MeV\"%E"
     ],
     "language": "python",
     "metadata": {},
     "outputs": [
      {
       "output_type": "stream",
       "stream": "stdout",
       "text": [
        "Energy of gamma ray photon is 19.299 MeV\n"
       ]
      }
     ],
     "prompt_number": 25
    },
    {
     "cell_type": "heading",
     "level": 2,
     "metadata": {},
     "source": [
      "Example 12.22, Page 12.39"
     ]
    },
    {
     "cell_type": "code",
     "collapsed": false,
     "input": [
      "# Given \n",
      "E = 3 # kinetic energy of proton in Mev\n",
      "m1 = 1.007276 # mass of H(1) in a.m.u.\n",
      "m2 = 3.016056 # mass of H(3) in a.m.u.\n",
      "m3 = 1.008665 # mass of neutron in a.m.u.\n",
      "m4 = 3.016036 # mass of He(3) in a.m.u.\n",
      "\n",
      "#calculations\n",
      "k = m1 + m2 - m3 - m4\n",
      "E = k * 931.5\n",
      "\n",
      "#Result\n",
      "print \"Q value of reaction is %.4f MeV\"%E"
     ],
     "language": "python",
     "metadata": {},
     "outputs": [
      {
       "output_type": "stream",
       "stream": "stdout",
       "text": [
        "Q value of reaction is -1.2752 MeV\n"
       ]
      }
     ],
     "prompt_number": 1
    },
    {
     "cell_type": "heading",
     "level": 2,
     "metadata": {},
     "source": [
      "Example 12.23, Page 12.40"
     ]
    },
    {
     "cell_type": "code",
     "collapsed": false,
     "input": [
      "# Given \n",
      "E = 200 # energy released per fission in Mev\n",
      "m = 0.01 # mass of U(235) in gm\n",
      "n = 235 # atomic no of sample\n",
      "N_0=6.023e23 # Avogadro constant\n",
      "\n",
      "#calculations\n",
      "E_ = E * 1.6e-13\n",
      "k = E_ * N_0 * m / n\n",
      "H = k / 4.168\n",
      "\n",
      "#Result\n",
      "print \"Heat produce by complete disintegration is %.3e cal\\nEnergy released is %.1e J\"%(H,E_)"
     ],
     "language": "python",
     "metadata": {},
     "outputs": [
      {
       "output_type": "stream",
       "stream": "stdout",
       "text": [
        "Heat produce by complete disintegration is 1.968e+08 cal\n",
        "Energy released is 3.2e-11 J\n"
       ]
      }
     ],
     "prompt_number": 2
    },
    {
     "cell_type": "heading",
     "level": 2,
     "metadata": {},
     "source": [
      "Example 12.24, Page 12.40"
     ]
    },
    {
     "cell_type": "code",
     "collapsed": false,
     "input": [
      "# Given \n",
      "E = 200 # energy released per fission in Mev\n",
      "m = 1 # mass of U(235) in kg\n",
      "\n",
      "#Calculations\n",
      "E_ = E * 1.6e-13\n",
      "k = E_ * 6.023e26 * m / 235\n",
      "\n",
      "#Result\n",
      "print \"Energy released  by fission of 1 kg of U(235)is %.2e J\"%k"
     ],
     "language": "python",
     "metadata": {},
     "outputs": [
      {
       "output_type": "stream",
       "stream": "stdout",
       "text": [
        "Energy released  by fission of 1 kg of U(235)is 8.20e+13 J\n"
       ]
      }
     ],
     "prompt_number": 3
    },
    {
     "cell_type": "heading",
     "level": 2,
     "metadata": {},
     "source": [
      "Example 12.25, Page 12.40"
     ]
    },
    {
     "cell_type": "code",
     "collapsed": false,
     "input": [
      "# Given \n",
      "P = 1e9 # power required for enlighten the city in watt\n",
      "e = 30 # percentage efficiency of nuclear reactor\n",
      "E = 3.2e-11 # energy released per fission in J\n",
      "\n",
      "#Calculations\n",
      "E_ = E * 30 / 100\n",
      "N = P / E_\n",
      "N_ = N * 24 * 3600\n",
      "m = N_ * 235 / 6.023e26 \n",
      "\n",
      "#Result\n",
      "print \"Amount of fuel required per day is %.2f kg\"%m"
     ],
     "language": "python",
     "metadata": {},
     "outputs": [
      {
       "output_type": "stream",
       "stream": "stdout",
       "text": [
        "Amount of fuel required per day is 3.51 kg\n"
       ]
      }
     ],
     "prompt_number": 4
    },
    {
     "cell_type": "heading",
     "level": 2,
     "metadata": {},
     "source": [
      "Example 12.26, Page 12.41"
     ]
    },
    {
     "cell_type": "code",
     "collapsed": false,
     "input": [
      "# Given \n",
      "E = 200 # energy released per fission of U(235)in Mev\n",
      "m = 3.7 # mass of U(235) consumed in a day in kg\n",
      "e = 20 # percentage efficiency of reactor\n",
      "\n",
      "#Calculations\n",
      "E_ = E * 1.6e-13\n",
      "N = m * 6.023e26 / 235\n",
      "H = E_ * e / 100\n",
      "k = H * N / (24 * 3600)\n",
      "\n",
      "#Result\n",
      "print \"Power output of reactor is %.3f GW\"%(k * 1e-9)"
     ],
     "language": "python",
     "metadata": {},
     "outputs": [
      {
       "output_type": "stream",
       "stream": "stdout",
       "text": [
        "Power output of reactor is 0.702 GW\n"
       ]
      }
     ],
     "prompt_number": 5
    },
    {
     "cell_type": "heading",
     "level": 2,
     "metadata": {},
     "source": [
      "Example 12.27, Page 12.42"
     ]
    },
    {
     "cell_type": "code",
     "collapsed": false,
     "input": [
      "# Given \n",
      "m1 = 4.00260 # mass of He(4) in a.m.u.\n",
      "m2 = 0.00055 # mass of electron in a.m.u.\n",
      "m3 = 12 # mass of C(12) in a.m.u.\n",
      "\n",
      "#Calculations\n",
      "delta_m = 3 * m1 - m3\n",
      "E = delta_m * 931\n",
      "\n",
      "#Result\n",
      "print \"Energy produce by each reaction is %.4f MeV\"%E"
     ],
     "language": "python",
     "metadata": {},
     "outputs": [
      {
       "output_type": "stream",
       "stream": "stdout",
       "text": [
        "Energy produce by each reaction is 7.2618 MeV\n"
       ]
      }
     ],
     "prompt_number": 6
    },
    {
     "cell_type": "heading",
     "level": 2,
     "metadata": {},
     "source": [
      "Example 12.28, Page 12.42"
     ]
    },
    {
     "cell_type": "code",
     "collapsed": false,
     "input": [
      "# Given \n",
      "P = 5e7 # power in watt\n",
      "e = 33. # percentage efficiency of nuclear reactor\n",
      "m1 = 2.01478 # mass of H(2) in a.m.u.\n",
      "m2 = 4.00388 # mass of He(4) in a.m.u.\n",
      "\n",
      "#calculations\n",
      "m = (2 * m1) - m2\n",
      "E = m * 931 * 1.6e-13\n",
      "E_O = (E * e) /(2 * 100)\n",
      "N = P / E_O\n",
      "k = N * m1 / 6.023e26\n",
      "M = k * 24 * 3600 \n",
      "\n",
      "#Result\n",
      "print \"Mass of deuterium consumed per day is %.4f kg\"%M"
     ],
     "language": "python",
     "metadata": {},
     "outputs": [
      {
       "output_type": "stream",
       "stream": "stdout",
       "text": [
        "Mass of deuterium consumed per day is 0.0229 kg\n"
       ]
      }
     ],
     "prompt_number": 9
    },
    {
     "cell_type": "heading",
     "level": 2,
     "metadata": {},
     "source": [
      "Example 12.29, Page 12.43"
     ]
    },
    {
     "cell_type": "code",
     "collapsed": false,
     "input": [
      "from math import *\n",
      "\n",
      "# Given\n",
      "d = 1.8 # diameter in meter\n",
      "B = 0.8 # magnetic field in tesla\n",
      "m = 6.68e-27 # mass of He(4) in kg\n",
      "e = 1.6e-19 # charge on an electron in Coulomb\n",
      "\n",
      "#Calculations\n",
      "r = d / 2\n",
      "E = (B**2 * (2 * e)**2 * r**2) / (2 * m * 1.6e-19 * 10**6) \n",
      "f = B * 2 * e / (2 * pi * m)\n",
      "N = f / 2\n",
      "\n",
      "#Result\n",
      "print \"Energy  is %.2f MeV\\nNumber of revolution made by particle to obtain above energy is %.2e per sec\"%(E,N)"
     ],
     "language": "python",
     "metadata": {},
     "outputs": [
      {
       "output_type": "stream",
       "stream": "stdout",
       "text": [
        "Energy  is 24.83 MeV\n",
        "Number of revolution made by particle to obtain above energy is 3.05e+06 per sec\n"
       ]
      }
     ],
     "prompt_number": 10
    },
    {
     "cell_type": "heading",
     "level": 2,
     "metadata": {},
     "source": [
      "Example 12.30, Page 12.43"
     ]
    },
    {
     "cell_type": "code",
     "collapsed": false,
     "input": [
      "from math import *\n",
      "\n",
      "# Given\n",
      "f = 12e6 # oscillator frequency of cyclotron in Hz\n",
      "r = 0.53 # radius of dee in meter\n",
      "e = 1.6e-19 # charge on an electron in Coulomb\n",
      "\n",
      "#Calculations\n",
      "B = (2 * pi * f * 2 * 1.67e-27) / e\n",
      "\n",
      "#Result\n",
      "print \"Value of magnetic induction needed to accelerate deuteron in it is %.3f T\"%B"
     ],
     "language": "python",
     "metadata": {},
     "outputs": [
      {
       "output_type": "stream",
       "stream": "stdout",
       "text": [
        "Value of magnetic induction needed to accelerate deuteron in it is 1.574 T\n"
       ]
      }
     ],
     "prompt_number": 11
    },
    {
     "cell_type": "heading",
     "level": 2,
     "metadata": {},
     "source": [
      "Example 12.31, Page 12.44"
     ]
    },
    {
     "cell_type": "code",
     "collapsed": false,
     "input": [
      "from math import *\n",
      "\n",
      "# Given \n",
      "f = 10e6 # frequency of applied Emf in Hz\n",
      "r = 0.32 # radius in meter\n",
      "m = 3.32e-27 # mass of deuteron in kg\n",
      "e = 1.6e-19 # charge on an electron in Coulomb\n",
      "\n",
      "#Calculations\n",
      "B = (2 * pi * f * m) / e\n",
      "v = (e * B * r) / m\n",
      "\n",
      "#Result\n",
      "print \"Flux density of the magnetic field is %.3f T\\nVelocity of the deuterons emerging out of the cyclotron is %.2e m/sec \"%(B, v)"
     ],
     "language": "python",
     "metadata": {},
     "outputs": [
      {
       "output_type": "stream",
       "stream": "stdout",
       "text": [
        "Flux density of the magnetic field is 1.304 T\n",
        "Velocity of the deuterons emerging out of the cyclotron is 2.01e+07 m/sec \n"
       ]
      }
     ],
     "prompt_number": 12
    },
    {
     "cell_type": "heading",
     "level": 2,
     "metadata": {},
     "source": [
      "Example 12.32, Page 12.44"
     ]
    },
    {
     "cell_type": "code",
     "collapsed": false,
     "input": [
      "from math import *\n",
      "\n",
      "# Given \n",
      "f = 60 # operating frequency in Hz\n",
      "d = 1.6 # diameter in meter\n",
      "B = 0.5 # magnetic field at the orbit in tesla\n",
      "e = 1.6e-19 # charge on an electron in Coulomb\n",
      "\n",
      "#Calculations\n",
      "r = d / 2\n",
      "w = 2 * pi * f\n",
      "E = 4 * e * w * r**2 * B\n",
      "E_ = 3e8 * r * B / 1e6\n",
      "\n",
      "#Result\n",
      "print \"Energy gained per turn is %.1f eV\\nFinal energy is %d MeV\"%(E / e,E_)"
     ],
     "language": "python",
     "metadata": {},
     "outputs": [
      {
       "output_type": "stream",
       "stream": "stdout",
       "text": [
        "Energy gained per turn is 482.5 eV\n",
        "Final energy is 120 MeV\n"
       ]
      }
     ],
     "prompt_number": 13
    },
    {
     "cell_type": "heading",
     "level": 2,
     "metadata": {},
     "source": [
      "Example 12.33, Page 12.45"
     ]
    },
    {
     "cell_type": "code",
     "collapsed": false,
     "input": [
      "# Given \n",
      "E = 70 # energy of betatron synchrotron in Mev\n",
      "r = 0.28 # radius in meter\n",
      "e = 1.6e-19 # charge on an electron in C\n",
      "\n",
      "#Calculations\n",
      "E_ = E * 1.6e-13\n",
      "B = E_ / (3e8 * e * r)\n",
      "\n",
      "#Result\n",
      "print \"Magnitude of magnetic field is %.2f T\"%B"
     ],
     "language": "python",
     "metadata": {},
     "outputs": [
      {
       "output_type": "stream",
       "stream": "stdout",
       "text": [
        "Magnitude of magnetic field is 0.83 T\n"
       ]
      }
     ],
     "prompt_number": 14
    },
    {
     "cell_type": "heading",
     "level": 2,
     "metadata": {},
     "source": [
      "Example 12.34, Page 12.45"
     ]
    },
    {
     "cell_type": "code",
     "collapsed": false,
     "input": [
      "# Given \n",
      "E = 4.18 # energy of alpha particle in Mev\n",
      "n = 12 # no. of particle enter the chamber per sec\n",
      "E_ = 40 # required energy of an ion pair in ev\n",
      "e = 1.6e-19 # charge on an electron in C\n",
      "\n",
      "#Calculations\n",
      "R = n * E * 10**6 # in eV\n",
      "N = R / E_\n",
      "i = N * e\n",
      "\n",
      "#Result\n",
      "print \"The current produced = %.e Amp\"%i"
     ],
     "language": "python",
     "metadata": {},
     "outputs": [
      {
       "output_type": "stream",
       "stream": "stdout",
       "text": [
        "The current produced = 2e-13 Amp\n"
       ]
      }
     ],
     "prompt_number": 15
    },
    {
     "cell_type": "heading",
     "level": 2,
     "metadata": {},
     "source": [
      "Example 12.35, Page 12.46"
     ]
    },
    {
     "cell_type": "code",
     "collapsed": false,
     "input": [
      "# Given\n",
      "n = 10**8 # no. of electron per discharge counted by GM counter\n",
      "r = 500. # counting rate in counts per minutes\n",
      "e = 1.6e-19 # charge on an electron in C\n",
      "\n",
      "#Calculations\n",
      "N = r / 60\n",
      "i = N * n * e \n",
      "\n",
      "#Result\n",
      "print \"Average current in the circuit = %.2e Amp\"%i"
     ],
     "language": "python",
     "metadata": {},
     "outputs": [
      {
       "output_type": "stream",
       "stream": "stdout",
       "text": [
        "Average current in the circuit = 1.33e-10 Amp\n"
       ]
      }
     ],
     "prompt_number": 17
    },
    {
     "cell_type": "heading",
     "level": 2,
     "metadata": {},
     "source": [
      "Example 12.36, Page 12.46"
     ]
    },
    {
     "cell_type": "code",
     "collapsed": false,
     "input": [
      "from math import *\n",
      "\n",
      "# Given \n",
      "E = 10 # energy of electron in kev\n",
      "B = 5e-5 # magnetic field of earth in tesla\n",
      "e = 1.6e-19 # charge on an electron in C\n",
      "\n",
      "#Calculations\n",
      "f = e * B / 9.1e-31\n",
      "E_ = E * 1.6e-16\n",
      "v = sqrt((2 * E_) / 9.1e-31)\n",
      "r = v / f\n",
      "\n",
      "#Result\n",
      "print \"Frequency of cyclotron = %.3e per sec\\nLarmour radius = %.3f meter\"%(f,r)"
     ],
     "language": "python",
     "metadata": {},
     "outputs": [
      {
       "output_type": "stream",
       "stream": "stdout",
       "text": [
        "Frequency of cyclotron = 8.791e+06 per sec\n",
        "Larmour radius = 6.745 meter\n"
       ]
      }
     ],
     "prompt_number": 18
    },
    {
     "cell_type": "heading",
     "level": 2,
     "metadata": {},
     "source": [
      "Example 12.37, Page 12.46"
     ]
    },
    {
     "cell_type": "code",
     "collapsed": false,
     "input": [
      "# Given \n",
      "B = 5e-9 # magnetic field in tesla\n",
      "v = 3e5 # velocity of proton stream in m/sec\n",
      "e = 1.6e-19 # charge on an electron in C\n",
      "\n",
      "#calculations\n",
      "r = (1.67e-27 * v) / (e * B)\n",
      "\n",
      "#Result\n",
      "print \"Larmour radius is %.2e meter\"%r"
     ],
     "language": "python",
     "metadata": {},
     "outputs": [
      {
       "output_type": "stream",
       "stream": "stdout",
       "text": [
        "Larmour radius is 6.26e+05 meter\n"
       ]
      }
     ],
     "prompt_number": 19
    },
    {
     "cell_type": "heading",
     "level": 2,
     "metadata": {},
     "source": [
      "Example 12.38, Page 12.46"
     ]
    },
    {
     "cell_type": "code",
     "collapsed": false,
     "input": [
      "from math import *\n",
      "\n",
      "# Given \n",
      "E = 1. # energy of He+ in kev\n",
      "r = 0.188 # Larmour radius in meter\n",
      "e = 1.6e-19 # charge on an electron in C\n",
      "\n",
      "#Calculations\n",
      "E_ = E * 1.6e-16\n",
      "v = sqrt((2 * E_) / (4 * 1.67e-27))\n",
      "B = (4 * 1.67e-27 * v) / (e * r)\n",
      "\n",
      "#Result\n",
      "print \"Magnetic field is %.3e tesla\"%B"
     ],
     "language": "python",
     "metadata": {},
     "outputs": [
      {
       "output_type": "stream",
       "stream": "stdout",
       "text": [
        "Magnetic field is 4.861e-02 tesla\n"
       ]
      }
     ],
     "prompt_number": 21
    },
    {
     "cell_type": "heading",
     "level": 2,
     "metadata": {},
     "source": [
      "Example 12.39, Page 12.47"
     ]
    },
    {
     "cell_type": "code",
     "collapsed": false,
     "input": [
      "from math import *\n",
      "\n",
      "# Given \n",
      "E = 3.5 # energy of He++ ash particle in Mev\n",
      "B = 8 # magnetic field in tesla\n",
      "e = 1.6e-19 # charge on an electron in C\n",
      "\n",
      "#Calculations\n",
      "E_ = E * 1.6e-13\n",
      "v = sqrt(2 * E_ / (4 * 1.67e-27))\n",
      "r = (4 * 1.67e-27 * v) / (2 * e * B)\n",
      "\n",
      "#Result\n",
      "print \"Larmour radius is %.2e meter\"%r"
     ],
     "language": "python",
     "metadata": {},
     "outputs": [
      {
       "output_type": "stream",
       "stream": "stdout",
       "text": [
        "Larmour radius is 3.38e-02 meter\n"
       ]
      }
     ],
     "prompt_number": 22
    },
    {
     "cell_type": "heading",
     "level": 2,
     "metadata": {},
     "source": [
      "Example 12.40, Page 12.47"
     ]
    },
    {
     "cell_type": "code",
     "collapsed": false,
     "input": [
      "from math import *\n",
      "\n",
      "# Given \n",
      "d = 1e12 # electron density in number per m^3\n",
      "E = 0.1 # thermal energy in eV\n",
      "e = 1.6e-19 # charge on an electron in C\n",
      "\n",
      "#Calculations\n",
      "lamda = sqrt((8.85e-12 * E * e) / (d * e * e))\n",
      "omega = sqrt(d * e**2 / (9.1e-31 * 8.85e-12))\n",
      "f = omega / (2 * pi)\n",
      "\n",
      "#Results\n",
      "print \"Debye length is %.2e meter\\nPlasma frequency is %.2f MHz\"%(lamda,f / 1e6)"
     ],
     "language": "python",
     "metadata": {},
     "outputs": [
      {
       "output_type": "stream",
       "stream": "stdout",
       "text": [
        "Debye length is 2.35e-03 meter\n",
        "Plasma frequency is 8.97 MHz\n"
       ]
      }
     ],
     "prompt_number": 23
    },
    {
     "cell_type": "heading",
     "level": 2,
     "metadata": {},
     "source": [
      "Example 12.41, Page 12.48"
     ]
    },
    {
     "cell_type": "code",
     "collapsed": false,
     "input": [
      "from math import *\n",
      "\n",
      "# Given \n",
      "d = 1e16 # density in per m^3\n",
      "E = 2 # thermal energy in eV\n",
      "e = 1.6e-19 # charge on an electron in C\n",
      "\n",
      "#Calculations\n",
      "lamda = sqrt((8.85e-12 * E * e) / (d * e * e))\n",
      "omega = sqrt(d * e**2 / (9.1e-31 * 8.85e-12))\n",
      "f = omega / (2 * pi)\n",
      "\n",
      "#Result\n",
      "print \"Debye length is %.4e meter\\nPlasma frequency is %.3e Hz\"%(lamda,f)"
     ],
     "language": "python",
     "metadata": {},
     "outputs": [
      {
       "output_type": "stream",
       "stream": "stdout",
       "text": [
        "Debye length is 1.0518e-04 meter\n",
        "Plasma frequency is 8.973e+08 Hz\n"
       ]
      }
     ],
     "prompt_number": 25
    }
   ],
   "metadata": {}
  }
 ]
}