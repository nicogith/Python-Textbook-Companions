{
 "metadata": {
  "name": ""
 },
 "nbformat": 3,
 "nbformat_minor": 0,
 "worksheets": [
  {
   "cells": [
    {
     "cell_type": "heading",
     "level": 1,
     "metadata": {},
     "source": [
      "Chapter 22: Nanopyhsics"
     ]
    },
    {
     "cell_type": "heading",
     "level": 2,
     "metadata": {},
     "source": [
      "Example 22.1, Page 22.13"
     ]
    },
    {
     "cell_type": "code",
     "collapsed": false,
     "input": [
      "\n",
      "# Given \n",
      "d = 12e-6 # diameter in m\n",
      "d_ = 90e-9 # diameter of nanoparticle in m\n",
      "\n",
      "#Calculations\n",
      "r = d / 2\n",
      "r_ = d_ / 2\n",
      "k = r / 3\n",
      "k_ = r_ / 3\n",
      "R = k_ / k\n",
      "\n",
      "#Result\n",
      "print \"The ratio of the value of Nb/Ns of spherical particle and nanoparticle = %.1e\"%R"
     ],
     "language": "python",
     "metadata": {},
     "outputs": [
      {
       "output_type": "stream",
       "stream": "stdout",
       "text": [
        "The ratio of the value of Nb/Ns of spherical particle and nanoparticle = 7.5e-03\n"
       ]
      }
     ],
     "prompt_number": 1
    }
   ],
   "metadata": {}
  }
 ]
}