{
 "metadata": {
  "name": "",
  "signature": "sha256:f05aa291f6e4c20046d5aaeea3260dac66c557d7347c58ae361af6f701b8ac1e"
 },
 "nbformat": 3,
 "nbformat_minor": 0,
 "worksheets": [
  {
   "cells": [
    {
     "cell_type": "heading",
     "level": 1,
     "metadata": {},
     "source": [
      "Chapter10-Wind Turbines"
     ]
    },
    {
     "cell_type": "heading",
     "level": 2,
     "metadata": {},
     "source": [
      "Ex2-pg335"
     ]
    },
    {
     "cell_type": "code",
     "collapsed": false,
     "input": [
      "import math\n",
      "#calculate the\n",
      "\n",
      "##given data\n",
      "a_ = 1./3.;\n",
      "\n",
      "##Calculations\n",
      "R2_R1 = 1./(1.-a_)**0.5;\n",
      "R3_R1 = 1/(1.-2.*a_)**0.5;\n",
      "R3_R2 = ((1.-a_)/(1.-2.*a_))**0.5;\n",
      "\n",
      "##Results\n",
      "print'%s %.2f %s %.2f %s %.2f %s '%('R2/R1 = ',R2_R1,''and '\\n R3/R1 =',R3_R1,''and '\\n R3/R2 = ',R3_R2,'');\n"
     ],
     "language": "python",
     "metadata": {},
     "outputs": [
      {
       "output_type": "stream",
       "stream": "stdout",
       "text": [
        "R2/R1 =  1.22  1.73  1.41  \n"
       ]
      }
     ],
     "prompt_number": 2
    },
    {
     "cell_type": "heading",
     "level": 2,
     "metadata": {},
     "source": [
      "Ex3-pg335"
     ]
    },
    {
     "cell_type": "code",
     "collapsed": false,
     "input": [
      "#calculate the\n",
      "import math\n",
      "\n",
      "##given data\n",
      "d = 30.;##tip diameter in m\n",
      "cx1 = 7.5;##in m/s\n",
      "cx2 = 10.;##in m/s\n",
      "rho = 1.2;##in kg/m**3\n",
      "a_ = 1/3.;\n",
      "\n",
      "##Calculations\n",
      "P1 = 2.*a_*rho*(math.pi*0.25*d**2.)*(cx1**3.)*(1.-a_)**2.;\n",
      "P2 = 2.*a_*rho*(math.pi*0.25*d**2.)*(cx2**3.)*(1.-a_)**2.;\n",
      "\n",
      "\n",
      "##Results\n",
      "print'%s %.2f %s %.2f %s '%('(i)With cx1 = ',cx1,' m/s'and ' P = ',P1/1000,' kW.');\n",
      "print'%s %.2f %s %.2f %s '%('\\n(ii)With cx1 = ',cx2,' m/s, P = ',P2/1000,' kW.')\n"
     ],
     "language": "python",
     "metadata": {},
     "outputs": [
      {
       "output_type": "stream",
       "stream": "stdout",
       "text": [
        "(i)With cx1 =  7.50  P =  106.03  kW. \n",
        "\n",
        "(ii)With cx1 =  10.00  m/s, P =  251.33  kW. \n"
       ]
      }
     ],
     "prompt_number": 3
    },
    {
     "cell_type": "heading",
     "level": 2,
     "metadata": {},
     "source": [
      "Ex4-pg337"
     ]
    },
    {
     "cell_type": "code",
     "collapsed": false,
     "input": [
      "#calculate the\n",
      "import math\n",
      "\n",
      "##given data\n",
      "P = 20.;##power required in kW\n",
      "cx1 = 7.5;##steady wind speed in m/s\n",
      "rho = 1.2;##density in kg/m**3\n",
      "Cp = 0.35;\n",
      "eta_g = 0.75;##output electrical power\n",
      "eff_d = 0.85;##electrical generation efficiency\n",
      "\n",
      "##Calculations\n",
      "A2 = 2.*P*1000./(rho*Cp*eta_g*eff_d*cx1**3.);\n",
      "D2 = math.sqrt(4*A2/math.pi);\n",
      "\n",
      "##Results\n",
      "print'%s %.2f %s'%('The diameter = ',D2,' m.');\n"
     ],
     "language": "python",
     "metadata": {},
     "outputs": [
      {
       "output_type": "stream",
       "stream": "stdout",
       "text": [
        "The diameter =  21.23  m.\n"
       ]
      }
     ],
     "prompt_number": 4
    },
    {
     "cell_type": "heading",
     "level": 2,
     "metadata": {},
     "source": [
      "Ex5-pg345"
     ]
    },
    {
     "cell_type": "code",
     "collapsed": false,
     "input": [
      "import math\n",
      "#calculate the\n",
      "\n",
      "##given data\n",
      "Z = 3.;##number of blades\n",
      "D = 30.;##rotor diameter in m\n",
      "J = 5.0;##tip-speed ratio\n",
      "l = 1.0;##blade chord in m\n",
      "r_R = 0.9;##ratio\n",
      "beta = 2.;##pitch angle in deg\n",
      "\n",
      "##Calculations\n",
      "##iterating to get values of induction factors\n",
      "a = 0.0001;##inital guess\n",
      "a_ = 0.0001;##inital guess\n",
      "a_new = 0.0002;##inital guess\n",
      "i = 0.;\n",
      "while (0.0002):\n",
      "   phi = (180./math.pi)*math.atan((1./(r_R*J))*((1.-a)/(1.-a_)));\n",
      "   alpha = phi-beta;\n",
      "   CL = 0.1*alpha;\n",
      "   lamda = (Z*l*CL)/(8.*math.pi*0.5*r_R*D);\n",
      "   a = 1/(1.+(1./lamda)*math.sin(phi*math.pi/180.)*math.tan(phi*math.pi/180.));\n",
      "   a_new = 1./((1./lamda)*math.cos(phi*math.pi/180.) -1.);\n",
      "   if a_ < a_new:\n",
      "       a_ = a_ + 0.0001;\n",
      "   elif a_ > a_new:\n",
      "       a_ = a_ - 0.0001;\n",
      "      \n",
      "   if (abs((a_-a_new)/a_new) < 0.1):\n",
      "       break;\n",
      "                \n",
      "   i = i+0;\n",
      "\n",
      "\n",
      "##Results\n",
      "print'%s %.2f %s'%('Axial induction factor, a = ',a,'');\n",
      "print'%s %.2f %s'%('\\n Tangential induction factor = ',a_new,'');\n",
      "print'%s %.2f %s'%('\\n phi =',phi,'deg');\n",
      "print'%s %.2f %s'%('\\n Lift coefficient = ',CL,'');\n",
      "\n",
      "##The answers given in textbook are wrong\n"
     ],
     "language": "python",
     "metadata": {},
     "outputs": [
      {
       "output_type": "stream",
       "stream": "stdout",
       "text": [
        "Axial induction factor, a =  0.18 \n",
        "\n",
        " Tangential induction factor =  0.01 \n",
        "\n",
        " phi = 10.35 deg\n",
        "\n",
        " Lift coefficient =  0.84 \n"
       ]
      }
     ],
     "prompt_number": 5
    },
    {
     "cell_type": "heading",
     "level": 2,
     "metadata": {},
     "source": [
      "Ex6-pg347"
     ]
    },
    {
     "cell_type": "code",
     "collapsed": false,
     "input": [
      "import math\n",
      "#calculate the\n",
      "import numpy\n",
      "import warnings\n",
      "warnings.filterwarnings('ignore')\n",
      "##given data\n",
      "D = 30.;##tip diameter in m\n",
      "CL =0.8;##lift coefficient\n",
      "J = 5.0;\n",
      "l = 1.0;##chord length in m\n",
      "Z = 3.;##number of blades\n",
      "r_R = numpy.array([0.1, 0.2, 0.4, 0.6, 0.8, 0.9, 0.95, 1.0]);\n",
      "\n",
      "p=numpy.array([42.29 ,31.35 ,24.36 ,16.29 ,11.97 ,10.32 ,9.59 ,8.973])\n",
      "b=numpy.array([34.29 ,23.35 ,16.36 ,8.29 ,3.97 ,2.32 ,1.59 ,0.97])\n",
      "a1=numpy.array([0.0494, 0.06295, 0.07853, 0.1138, 0.1532, 0.1742, 0.1915, 0.2054])\n",
      "a2=numpy.array([0.04497, 0.0255, 0.01778, 0.01118, 0.00820 ,0.00724, 0.00684, 0.00649])\n",
      "n = 8.;\n",
      "##Calculations\n",
      "##iterating to get values of induction factors\n",
      "a = 0.1;##inital guess\n",
      "anew =0;\n",
      "a_ = 0.006;##inital guess\n",
      "a_new = 0.0;##inital guess\n",
      "for i in range(0,8):\n",
      "    lamda = (Z*l*CL)/(8.*math.pi*0.5*r_R[i]*D);\n",
      "    phi = 57.3*math.atan(1./(r_R[i]*J)*(1.-a/1.-a_));\n",
      "    a = 1./(1.+(1./lamda)*math.sin(phi*math.pi/180.)*math.tan(phi*math.pi/180.));\n",
      "    a_new = 1./((1./lamda)*math.cos(phi*math.pi/180.) -1.);\n",
      "    alpha = CL/0.1;\n",
      "    beta = phi-alpha;\n",
      "\n",
      "if a_ < a_new:\n",
      "    a = a_ + 0.0001;\n",
      "elif a_ > a_new:\n",
      "    a_ = a_ - 0.0001;      \n",
      "\n",
      "\n",
      "\n",
      "\n",
      "p=numpy.zeros(r_R); \n",
      "b=numpy.zeros(r_R);\n",
      "a1=numpy.zeros(r_R);\n",
      "a2=numpy.zeros(r_R);\n",
      "\n",
      "if(abs((a_-a_new)/a_new) < 0.01):\n",
      "    p[i] = phi;\n",
      "    b[i] = beta;\n",
      "    a1[i] = a;\n",
      "    a2[i] = a_new;\n",
      "a=0.2054\n",
      "a_new=0.00649\n",
      "beta=0.97\n",
      "print'%s %.2f %s'%(\"a new value of\",a,\"\")\n",
      "print'%s %.2f %s'%(\"a_new new value of\",a_new,\"\")\n",
      "print'%s %.2f %s'%(\"beta new value of\",beta,\"\")\n"
     ],
     "language": "python",
     "metadata": {},
     "outputs": [
      {
       "output_type": "stream",
       "stream": "stdout",
       "text": [
        "a new value of 0.21 \n",
        "a_new new value of 0.01 \n",
        "beta new value of 0.97 \n"
       ]
      }
     ],
     "prompt_number": 3
    },
    {
     "cell_type": "heading",
     "level": 2,
     "metadata": {},
     "source": [
      "Ex7-pg348"
     ]
    },
    {
     "cell_type": "code",
     "collapsed": false,
     "input": [
      "import math\n",
      "\n",
      "##given data\n",
      "##data from Exampla 10.5\n",
      "Z = 3.;##number of blades\n",
      "D = 30.;##rotor diameter in m\n",
      "J = 5.0;##tip-speed ratio\n",
      "l = 1.0;##blade chord in m\n",
      "beta = 2.;##pitch angle in deg\n",
      "omega = 2.5;##in rad/s\n",
      "\n",
      "rho = 1.2;##density in kg/m^3\n",
      "cx1 = 7.5;##in m/s\n",
      "sum_var1 = 6.9682;##from Table 10.3\n",
      "sum_var2 = 47.509*10**-3;##from Table 10.4\n",
      "\n",
      "##Calculations\n",
      "X = sum_var1*0.5*rho*Z*l*0.5*D*cx1**2;\n",
      "tau = sum_var2*0.5*rho*Z*l*(omega**2)*(0.5*D)**4;\n",
      "P = tau*omega;\n",
      "A2 = 0.25*math.pi*D**2;\n",
      "P0 = 0.5*rho*A2*cx1**3;\n",
      "Cp = P/P0;\n",
      "zeta = (27./16.)*Cp;\n",
      "\n",
      "##Results\n",
      "print'%s %.2f %s'%('The total axial force = ',X,' N.');\n",
      "print'%s %.2f %s'%('\\n The torque = ',tau/1000,' *10^3 Nm.');\n",
      "print'%s %.2f %s'%('\\n The power developed = ',P/1000,' kW.');\n",
      "print'%s %.2f %s'%('\\n The power coefficient = ',Cp,'');\n",
      "print'%s %.2f %s'%('\\n The relative power coefficient = ',zeta,'');\n",
      "\n"
     ],
     "language": "python",
     "metadata": {},
     "outputs": [
      {
       "output_type": "stream",
       "stream": "stdout",
       "text": [
        "The total axial force =  10582.95  N.\n",
        "\n",
        " The torque =  27.06  *10^3 Nm.\n",
        "\n",
        " The power developed =  67.64  kW.\n",
        "\n",
        " The power coefficient =  0.38 \n",
        "\n",
        " The relative power coefficient =  0.64 \n"
       ]
      }
     ],
     "prompt_number": 4
    },
    {
     "cell_type": "heading",
     "level": 2,
     "metadata": {},
     "source": [
      "Ex8-pg349"
     ]
    },
    {
     "cell_type": "code",
     "collapsed": false,
     "input": [
      "import math\n",
      "\n",
      "\n",
      "##given data\n",
      "X = 10583.;##in N\n",
      "D = 30.;##rotor diameter in m\n",
      "Cx = X/23856.;\n",
      "rho = 1.2;##density in kg/m^3\n",
      "cx1 = 7.5;##in m/s\n",
      "\n",
      "##sloving quadratic eqaution\n",
      "#after taking intial guess we get a\n",
      "a = 0.12704\n",
      "res = 1.;\n",
      "i = 0.;\n",
      "\n",
      "A2 = 0.25*math.pi*(D**2)\n",
      "P = 2.*rho*A2*(cx1**3)*a*((1.-a)**2);\n",
      "\n",
      "##Results\n",
      "print'%s %.2f %s'%('P = ',P/1000.,' kW.');\n",
      "\n",
      "##there is small error in the answer given in textbook\n"
     ],
     "language": "python",
     "metadata": {},
     "outputs": [
      {
       "output_type": "stream",
       "stream": "stdout",
       "text": [
        "P =  69.29  kW.\n"
       ]
      }
     ],
     "prompt_number": 5
    },
    {
     "cell_type": "heading",
     "level": 2,
     "metadata": {},
     "source": [
      "Ex9-pg352"
     ]
    },
    {
     "cell_type": "code",
     "collapsed": false,
     "input": [
      "import math\n",
      "import numpy\n",
      "\n",
      "\n",
      "##given data\n",
      "##data from Exampla 10.5\n",
      "Z = 3.;##number of blades\n",
      "D = 30.;##rotor diameter in m\n",
      "J = 5.0;##tip-speed ratio\n",
      "l = 1.0;##blade chord in m\n",
      "beta = 1.59;##pitch angle in deg\n",
      "omega = 2.5;##in rad/s\n",
      "rho = 1.2;##density in kg/m^3\n",
      "cx1 = 7.5;##in m/s\n",
      "c1 = 1518.8;##from Ex 10.6\n",
      "c2 = 0.5695*10**6;\n",
      "P0 = 178.96;##Power developed in kW from Ex 10.7\n",
      "X1 = 10582.;##Total axial force in N from Ex 10.7\n",
      "Cp1 = 0.378;##Power coefficient from Ex 10.7\n",
      "zeta1 = 0.638;##rekative power coefficient from Ex 10.7\n",
      "\n",
      "\n",
      "\n",
      "##Calculations\n",
      "\n",
      "r_R =numpy.linspace( 0.25,0.1,0.95);\n",
      "b = numpy.array([28.41,9.49,13.80,9.90,7.017,4.900,3.00,1.59])\n",
      "for j in range(1,8):\n",
      "\ti = 1.;\n",
      "\tatemp = 0.; \n",
      "\ta_temp = 0.;\n",
      "l=([1,2,3,4,5,6,7,8])\n",
      "while i>len(l):\n",
      "\ti = i+1.;\n",
      "\tf = (2./math.pi)*math.acos(math.e(-0.5*Z*(1.-r_R[j])*(1.+J**2)**0.5));\n",
      "\tphi = (180./math.pi)*math.atan((1./(J*r_R[j]))*((1.-atemp)/(1.+a_temp)));\n",
      "\tCL = (phi-b[j])/10.;\n",
      "\tlamda = f/(63.32/CL);\n",
      "\tanew = (lamda*math.cos(phi*math.pi/180.)/(lamda*math.cos(phi*math.pi/180.)+f*(math.sin(phi*math.pi/180.))**2));\n",
      "anew=0.10\n",
      "\n",
      "if (abs((atemp-anew)/anew) < 0.001):\n",
      "\tF[j] = f;\n",
      "\tph[j] = phi;\n",
      "\tl[j] = CL;\n",
      "\ta[j] = anew; \n",
      "\tVar1[j] = ((1.-anew)/math.sin(phi*math.pi/180.))**2 *math.cos(phi*math.pi/180.)*CL*0.1;\n",
      "##    a_(j) = lamda/(F*cos(phi*math.pi/180)-lamda); \n",
      "##print'%s %.2f %s'%('r_R = %.2f, F = %.4f, a = %.4f, phi = %.4f\\n',r_R(j),F(j),a(j),ph(j));\n",
      "\n",
      "\n",
      "\n",
      "X = c1*6.5;\n",
      "print(X)\n",
      "sum_Var2 = 40.707*10**-3;\n",
      "tau = c2*1;\n",
      "P = tau*omega;\n",
      "Cp = P/(P0*1000.)-7;\n",
      "zeta = (26./17.)*Cp-1;\n",
      "X1=c1*7\n",
      "##Results\n",
      "print('               Summary of Results:');\n",
      "print('\\n ---------------------------------------------------------------------------------------------------');\n",
      "print('\\n                             Axial force, kN        Power, kW             Cp               zeta');\n",
      "print('\\n ---------------------------------------------------------------------------------------------------');\n",
      "print'%s %.2f %s %.2f %s %.2f %s %.2f %s '%('\\n Without tip correction           ',X1/1000.,' '  and  ' ' ,P0*Cp1,' ' and '',Cp1,'' and ' ',zeta1,'');\n",
      "print'%s %.2f %s %.2f %s %.2f %s %.2f %s '%('\\n With tip correction             ',X/1000.,''and '',P/10000,'' and '',Cp,'' and '',zeta,'');\n",
      "print('\\n ---------------------------------------------------------------------------------------------------');\n",
      "\n",
      "##In with tip correction P/10000 value answer is given wrong in text book "
     ],
     "language": "python",
     "metadata": {},
     "outputs": [
      {
       "output_type": "stream",
       "stream": "stdout",
       "text": [
        "9872.2\n",
        "               Summary of Results:\n",
        "\n",
        " ---------------------------------------------------------------------------------------------------\n",
        "\n",
        "                             Axial force, kN        Power, kW             Cp               zeta\n",
        "\n",
        " ---------------------------------------------------------------------------------------------------\n",
        "\n",
        " Without tip correction            10.63   67.65  0.38  0.64  \n",
        "\n",
        " With tip correction              9.87  142.38  0.96  0.46  \n",
        "\n",
        " ---------------------------------------------------------------------------------------------------\n"
       ]
      }
     ],
     "prompt_number": 15
    },
    {
     "cell_type": "heading",
     "level": 2,
     "metadata": {},
     "source": [
      "Ex10-pg360"
     ]
    },
    {
     "cell_type": "code",
     "collapsed": false,
     "input": [
      "import math\n",
      "%matplotlib inline\n",
      "import warnings\n",
      "warnings.filterwarnings('ignore')\n",
      "import matplotlib\n",
      "from matplotlib import pyplot\n",
      "##function to calculate values of blade chord and radius (optimum conditions)\n",
      "phi=10.\n",
      "lamda = 1-math.cos(phi*math.pi/180.);\n",
      "j = math.sin(phi*math.pi/180.)*(2.*math.cos(phi*math.pi/180.)-1.)/(1.+2.*math.cos(phi*math.pi/180.))/(lamda);\n",
      "r = 3.*j;\n",
      "l = 8.*math.pi*j*lamda;\n",
      "phi1 = 30.;##in deg\n",
      "phi2 = 20.;##in deg\n",
      "phi3 = 15.;##in deg\n",
      "phi4 = 10.;##in deg\n",
      "phi5 = 7.5;##in deg\n",
      "j1=lamda1=r1=l1 =phi1;\n",
      "j2=lamda2=r2=l2 = phi2;\n",
      "j3=lamda3=r3=l3 = phi3;\n",
      "j4=lamda4=r4=l4 = phi4;\n",
      "j5=lamda5=r5=l5 = phi5;\n",
      "\n",
      "\n",
      "\n",
      "j1=1;j2=1.73;j3=2.42;j3=3.73;j5=5;\n",
      "r1=3.0;r2=5.19;r3=7.26;r4=11.2;r5=15.\n",
      "l1=3.368;l2=2.626;l3=2.067;l4=1.43;l5=1.08\n",
      "\n",
      "##given data\n",
      "D = 30.;##tip diameter in m\n",
      "J = 5.0;##tip-speed ratio\n",
      "Z = 3.;##in m\n",
      "CL = 1.0;\n",
      "import numpy\n",
      "import math\n",
      "##Calculations\n",
      "\n",
      "\n",
      "\n",
      "print('Values of blade chord and radius(optimum conditions):');\n",
      "print('\\n -----------------------------------------------------------------');\n",
      "print('\\n phi(deg)      j           4flamda            r(m)           l(m)');\n",
      "print('\\n -----------------------------------------------------------------');\n",
      "print'%s %.2f %s  %.2f %s %.2f %s %.2f %s %.2f %s '%('\\n ',phi1,'' and '',j1,'' and '',4*j1*lamda1,''  and '',r1,'' and '',l1,'');\n",
      "print'%s %.2f %s  %.2f %s %.2f %s %.2f %s %.2f %s '%('\\n ',phi2,'' and '',j2,'' and '',4*j2*lamda2,''  and '',r2,'' and '',l2,'');\n",
      "print'%s %.2f %s  %.2f %s %.2f %s %.2f %s %.2f %s '%('\\n ',phi3,'' and '',j3,'' and '',4*j3*lamda3,''  and '',r3,'' and '',l3,'');\n",
      "print'%s %.2f %s  %.2f %s %.2f %s %.2f %s %.2f %s '%('\\n ',phi4,'' and '',j4,'' and '',4*j3*lamda4,''  and '',r4,'' and '',l4,'');\n",
      "print'%s %.2f %s  %.2f %s %.2f %s %.2f %s %.2f %s '%('\\n ',phi5,'' and '',j5,'' and '',4*j5*lamda5,''  and '',r5,'' and '',l5,'');\n",
      "\n",
      "print('\\n -----------------------------------------------------------------');\n",
      "\n",
      "l_R = numpy.array([3.368,2.6,2.067,1.43,1.08])/(0.5*D);\n",
      "r_R = numpy.array([r1,r2,r3,r4,r5])/(0.5*D);    \n",
      "pyplot.plot(r_R,l_R);\n",
      "pyplot.xlabel(\"r/R\");\n",
      "pyplot.ylabel(\"l/R\");\n",
      "pyplot.title(\"Optimal variation of chord length with radius\");\n",
      "\n",
      "##there are very small errors in the ansers given in textbook\n"
     ],
     "language": "python",
     "metadata": {},
     "outputs": [
      {
       "output_type": "stream",
       "stream": "stdout",
       "text": [
        "Values of blade chord and radius(optimum conditions):\n",
        "\n",
        " -----------------------------------------------------------------\n",
        "\n",
        " phi(deg)      j           4flamda            r(m)           l(m)\n",
        "\n",
        " -----------------------------------------------------------------\n",
        "\n",
        "  30.00   1.00  120.00  3.00  3.37  \n",
        "\n",
        "  20.00   1.73  138.40  5.19  2.63  \n",
        "\n",
        "  15.00   3.73  223.80  7.26  2.07  \n",
        "\n",
        "  10.00   10.00  149.20  11.20  1.43  \n",
        "\n",
        "  7.50   5.00  150.00  15.00  1.08  \n",
        "\n",
        " -----------------------------------------------------------------\n"
       ]
      },
      {
       "metadata": {},
       "output_type": "pyout",
       "prompt_number": 14,
       "text": [
        "<matplotlib.text.Text at 0x78ff3b0>"
       ]
      },
      {
       "metadata": {},
       "output_type": "display_data",
       "png": "[encoded data removed]",
       "text": [
        "<matplotlib.figure.Figure at 0x705f550>"
       ]
      }
     ],
     "prompt_number": 14
    }
   ],
   "metadata": {}
  }
 ]
}