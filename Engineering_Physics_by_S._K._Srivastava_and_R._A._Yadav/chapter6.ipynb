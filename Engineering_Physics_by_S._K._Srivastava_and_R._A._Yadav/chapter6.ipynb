{
 "cells": [
  {
   "cell_type": "markdown",
   "metadata": {},
   "source": [
    "# Chapter6:FIBER OPTICS AND HOLOGRAPHY"
   ]
  },
  {
   "cell_type": "markdown",
   "metadata": {},
   "source": [
    "## Ex6.1:pg-189"
   ]
  },
  {
   "cell_type": "code",
   "execution_count": 1,
   "metadata": {
    "collapsed": false
   },
   "outputs": [
    {
     "name": "stdout",
     "output_type": "stream",
     "text": [
      "critical angle for core-cladding interface is theta1= 15.0 degree\n",
      "acceptance angle thetaa= 23.0 degree\n",
      "numerical aperture of fibre is NA= 0.3841 unitless\n",
      "light collected is per= 14.75 %\n"
     ]
    }
   ],
   "source": [
    "import math\n",
    "#to calculate critical angle for core-cladding interface\n",
    "n1=1.5\n",
    "n2=1.45\n",
    "thetac=math.degrees(math.asin(n2/n1))\n",
    "theta1=90-thetac\n",
    "\n",
    "print \"critical angle for core-cladding interface is theta1=\",round(theta1),\"degree\"\n",
    "#to calculate acceptance angle in air for fibre and corresponding angle of obliquences\n",
    "na=1\n",
    "thetaa=math.degrees(math.asin(n1*0.26/na))\n",
    "\n",
    "print \"acceptance angle thetaa=\",round(thetaa),\"degree\"\n",
    "#to calculate numerical aperture\n",
    "NA=((n1+n2)*(n1-n2))**(1/2.0)\n",
    "print \"numerical aperture of fibre is NA=\",round(NA,4),\"unitless\"\n",
    "#to calculate % of light\n",
    "per=(NA)**2*100\n",
    "print \"light collected is per=\",round(per,3),\"%\"\n",
    "\n",
    "\n"
   ]
  },
  {
   "cell_type": "markdown",
   "metadata": {},
   "source": [
    "## Ex6.2:pg-190"
   ]
  },
  {
   "cell_type": "code",
   "execution_count": 10,
   "metadata": {
    "collapsed": false
   },
   "outputs": [
    {
     "name": "stdout",
     "output_type": "stream",
     "text": [
      "numerical aperture is NA= 0.29 unitless\n",
      "thetac= 78 degree\n"
     ]
    }
   ],
   "source": [
    "import math\n",
    "#to calculate numerical aperture\n",
    "Del=0.02 #relative refractive index difference between the core and the cladding of the fibre i.e. del=(n1-n2)/n1\n",
    "n1=1.46      #refractive index of core of W-step index fibre \n",
    "n2=n1-Del*n1\n",
    "NA=((n1+n2)*(n1-n2))**(1/2.0)\n",
    "print \"numerical aperture is NA=\",round(NA,2),\"unitless\"\n",
    "#to calculate critical angle at the core cladding interface within the fibre\n",
    "thetac=math.degrees(math.asin(n2/n1))\n",
    "print \"thetac=\",int(thetac),\"degree\"\n"
   ]
  },
  {
   "cell_type": "markdown",
   "metadata": {},
   "source": [
    "## Ex6.3:pg-190"
   ]
  },
  {
   "cell_type": "code",
   "execution_count": 15,
   "metadata": {
    "collapsed": false
   },
   "outputs": [
    {
     "name": "stdout",
     "output_type": "stream",
     "text": [
      "refractive index is n2= 1.438 unitless\n",
      "normalised frequency V number of the fibre is V= 65.3 unitless\n",
      "total number of guided modes in the fibre is M= 2132 modes\n"
     ]
    }
   ],
   "source": [
    "import math\n",
    "#to calculate refractive index of the cladding\n",
    "a=35.0*10**-6 #core diameter in micrometre\n",
    "#formula is del=(n1-n2)/n1\n",
    "#we get\n",
    "Del=1.5/100 \n",
    "n1=1.46 #refractive index of the fibre \n",
    "lamda=0.85*10**-6 #wavelength in micrometer\n",
    "n2=n1-Del*n1\n",
    "print \"refractive index is n2=\",round(n2,3),\"unitless\"\n",
    "#to calculate normalised frequency V number of the fibre\n",
    "V=round((2*math.pi*a*n1*0.173)/lamda,1)\n",
    "print \"normalised frequency V number of the fibre is V=\",V,\"unitless\"\n",
    "#to calculate total number of guided modes in the fibre\n",
    "M=(V**2)/2.0\n",
    "print \"total number of guided modes in the fibre is M=\",int(M),\"modes\"\n",
    "\n",
    "\n"
   ]
  },
  {
   "cell_type": "markdown",
   "metadata": {},
   "source": [
    "## Ex6.4:pg-191"
   ]
  },
  {
   "cell_type": "code",
   "execution_count": 2,
   "metadata": {
    "collapsed": false
   },
   "outputs": [
    {
     "name": "stdout",
     "output_type": "stream",
     "text": [
      "cut-off wavelength is LAMBDAc= 1.354 micrometre\n"
     ]
    }
   ],
   "source": [
    "import math\n",
    "#to calculate cut-off wavelength of the fibre\n",
    "#(2*del)**(1/2)=(2*(n1-n2)/n1)**(1/2)=(0.005)**(1/2)=0.071\n",
    "a=5*10**-6 #radius in micrometre\n",
    "n1=1.46 #core refractive index in micrometre\n",
    "Vc=2.405 #cut-off value of V parametre for single mode operation\n",
    "#formula is LAMBDAc=(2*math.pi*a*n1*(2*del)**(1/2))/Vc \n",
    "lamdac=(2*math.pi*a*n1*0.071)/Vc\n",
    "print \"cut-off wavelength is LAMBDAc=\",round(lamdac/1e-6,3),\"micrometre\"\n",
    "\n",
    "# answer is slightly different due to approximation in book\n"
   ]
  },
  {
   "cell_type": "markdown",
   "metadata": {},
   "source": [
    "## Ex6.5:pg-191"
   ]
  },
  {
   "cell_type": "code",
   "execution_count": 3,
   "metadata": {
    "collapsed": false
   },
   "outputs": [
    {
     "name": "stdout",
     "output_type": "stream",
     "text": [
      "maximum value of phase constant is maximum= 12.566 radian/micrometre\n",
      "minimum value of phase constant is minimum= 11.31 radian/micrometre\n"
     ]
    }
   ],
   "source": [
    "import math\n",
    "#to calculate maximum and minimum value of phase constant\n",
    "lamda=0.8*10**-6 #wavelength in micrometre\n",
    "n1=1.6*10**-6 \n",
    "                   #refractive indices in micrometre\n",
    "n2=1.44*10**-6\n",
    "maximum=(2*math.pi*n1)/lamda\n",
    "minimum=(2*math.pi*n2)/lamda\n",
    "print \"maximum value of phase constant is maximum=\",round(maximum,3),\"radian/micrometre\"\n",
    "print \"minimum value of phase constant is minimum=\",round(minimum,3),\"radian/micrometre\"\n"
   ]
  }
 ],
 "metadata": {
  "kernelspec": {
   "display_name": "Python 2",
   "language": "python",
   "name": "python2"
  },
  "language_info": {
   "codemirror_mode": {
    "name": "ipython",
    "version": 2
   },
   "file_extension": ".py",
   "mimetype": "text/x-python",
   "name": "python",
   "nbconvert_exporter": "python",
   "pygments_lexer": "ipython2",
   "version": "2.7.3"
  }
 },
 "nbformat": 4,
 "nbformat_minor": 0
}
