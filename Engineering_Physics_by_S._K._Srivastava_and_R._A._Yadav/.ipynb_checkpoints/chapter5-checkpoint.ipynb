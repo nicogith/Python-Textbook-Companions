{
 "cells": [
  {
   "cell_type": "markdown",
   "metadata": {},
   "source": [
    "# Chapter5:LASERS"
   ]
  },
  {
   "cell_type": "markdown",
   "metadata": {},
   "source": [
    "## Ex5.1:pg-164"
   ]
  },
  {
   "cell_type": "code",
   "execution_count": 1,
   "metadata": {
    "collapsed": false
   },
   "outputs": [
    {
     "name": "stdout",
     "output_type": "stream",
     "text": [
      "the areal spread is A= 1.44e+04 m**2\n"
     ]
    }
   ],
   "source": [
    "import math\n",
    "#to calculate area of the spot on the moon\n",
    "lamda=6*10**-7 #wavelength in m\n",
    "d=2 #diameter in m\n",
    "dtheta=lamda/d #angular spread in radian\n",
    "D=4*10**8 #distance of the moon\n",
    "A=(D*dtheta)**2\n",
    "print \"the areal spread is A=\",\"{:.2e}\".format(A),\"m**2\"\n"
   ]
  },
  {
   "cell_type": "markdown",
   "metadata": {},
   "source": [
    "## Ex5.2:pg-164"
   ]
  },
  {
   "cell_type": "code",
   "execution_count": 4,
   "metadata": {
    "collapsed": false
   },
   "outputs": [
    {
     "name": "stdout",
     "output_type": "stream",
     "text": [
      "the angular spread of the beam is dtheta= 1.6e-04 radian\n",
      "the areal spread is A= 4.096e+09 m**2\n"
     ]
    }
   ],
   "source": [
    "import math\n",
    "#to calculate angular spread of the beam\n",
    "lamda=8*10**-7 #wavelength in m\n",
    "d=5*10**-3 #aperture in m\n",
    "dtheta=lamda/d \n",
    "print \"the angular spread of the beam is dtheta=\",\"{:.1e}\".format(dtheta),\"radian\"\n",
    "#to calculate the areal spread when it reaches the moon\n",
    "D=4*10**8 #distance of the moon in m\n",
    "A=(D*dtheta)**2\n",
    "print \"the areal spread is A=\",\"{:.3e}\".format(A),\"m**2\"\n"
   ]
  },
  {
   "cell_type": "markdown",
   "metadata": {},
   "source": [
    "## Ex5.3:pg-165"
   ]
  },
  {
   "cell_type": "code",
   "execution_count": 5,
   "metadata": {
    "collapsed": false
   },
   "outputs": [
    {
     "name": "stdout",
     "output_type": "stream",
     "text": [
      "the number of oscillations is n= 5.0e+04 unitless\n",
      "the coherence Time= 9.82e-11 s\n"
     ]
    }
   ],
   "source": [
    "import math\n",
    "#to calculate number of oscillations corresponding to the coherence length\n",
    "L=2.945*10**-2 #coherence length in m\n",
    "lamda=5890*10**-10 #wavelength of sodium light in m\n",
    "n=L/lamda\n",
    "print \"the number of oscillations is n=\",\"{:.1e}\".format(n),\"unitless\"\n",
    "#to calculate coherence time\n",
    "c=3*10**8 #light speed in m\n",
    "Time=L/c #coherence time\n",
    "print \"the coherence Time=\",\"{:.2e}\".format(Time),\"s\"\n"
   ]
  },
  {
   "cell_type": "markdown",
   "metadata": {},
   "source": [
    "## Ex5.4:pg-165"
   ]
  },
  {
   "cell_type": "code",
   "execution_count": 8,
   "metadata": {
    "collapsed": false
   },
   "outputs": [
    {
     "name": "stdout",
     "output_type": "stream",
     "text": [
      "areal spread = 2.074e-10 m**2\n",
      "intensity of the image is I= 2.411e+08 watts/m**2\n"
     ]
    }
   ],
   "source": [
    "import math\n",
    "#to calculate area and intensity of the image\n",
    "lamda=7200*10**-10 #wavelength in m\n",
    "d=5*10**-3 #aperture in m\n",
    "dtheta=lamda/d #angular spread in radian \n",
    "f=0.1 #focal length in m\n",
    "arealspread=(dtheta*f)**2\n",
    "print \"areal spread =\",\"{:.3e}\".format(arealspread),\"m**2\"\n",
    "power=50*10**-3\n",
    "I=power/arealspread\n",
    "print \"intensity of the image is I=\",\"{:.3e}\".format(I),\"watts/m**2\"\n"
   ]
  }
 ],
 "metadata": {
  "kernelspec": {
   "display_name": "Python 2",
   "language": "python",
   "name": "python2"
  },
  "language_info": {
   "codemirror_mode": {
    "name": "ipython",
    "version": 2
   },
   "file_extension": ".py",
   "mimetype": "text/x-python",
   "name": "python",
   "nbconvert_exporter": "python",
   "pygments_lexer": "ipython2",
   "version": "2.7.3"
  }
 },
 "nbformat": 4,
 "nbformat_minor": 0
}
