{
 "cells": [
  {
   "cell_type": "markdown",
   "metadata": {},
   "source": [
    "# Chapter13:SUPERCONDUCTIVITY"
   ]
  },
  {
   "cell_type": "markdown",
   "metadata": {},
   "source": [
    "##  Ex13.1:pg-357"
   ]
  },
  {
   "cell_type": "code",
   "execution_count": 9,
   "metadata": {
    "collapsed": false
   },
   "outputs": [
    {
     "name": "stdout",
     "output_type": "stream",
     "text": [
      "\n",
      " the value of temperature is 5.039 K\n"
     ]
    }
   ],
   "source": [
    "#example 1\n",
    "#to calculate value of Temperature\n",
    "import math\n",
    "Bc=105.0*10**3 #magnetic field in amp/m\n",
    "Bo=150.0*10**3 #critical field of the metal in amp/m \n",
    "Tc=9.2 #critical temperature of the metal in K\n",
    "T=Tc*math.sqrt(1-(Bc/Bo))#temperature\n",
    "print\"\\n the value of temperature is\",round(T,3),\"K\"\n",
    "\n"
   ]
  },
  {
   "cell_type": "markdown",
   "metadata": {},
   "source": [
    "## Ex13.2:pg-357"
   ]
  },
  {
   "cell_type": "code",
   "execution_count": 1,
   "metadata": {
    "collapsed": false
   },
   "outputs": [
    {
     "name": "stdout",
     "output_type": "stream",
     "text": [
      "\n",
      " the temperature is 3.983 K\n",
      "\n",
      " the critical current density at that temperature is 9.000e+06 A/m^2\n"
     ]
    }
   ],
   "source": [
    "#example 2\n",
    "#to calculate temperature\n",
    "import math\n",
    "Tc=7.18 #critical temperature in K\n",
    "Bc=4.5*10**3  #critical field in A/m\n",
    "Bo=6.5*10**3 #critical magnetic field in A/m\n",
    "T=Tc*math.sqrt(1-(Bc/Bo))# temperature\n",
    "print\"\\n the temperature is\",round(T,3),\"K\"\n",
    "#to calculate critical current density at that temperature\n",
    "r=1*10**-3 #diameter of the wire in mm\n",
    "TJc=(Bc*2*math.pi*r)/(math.pi*r**2)# critical current density\n",
    "print\"\\n the critical current density at that temperature is\",\"{:.3e}\".format(TJc),\"A/m^2\"\n"
   ]
  }
 ],
 "metadata": {
  "kernelspec": {
   "display_name": "Python 2",
   "language": "python",
   "name": "python2"
  },
  "language_info": {
   "codemirror_mode": {
    "name": "ipython",
    "version": 2
   },
   "file_extension": ".py",
   "mimetype": "text/x-python",
   "name": "python",
   "nbconvert_exporter": "python",
   "pygments_lexer": "ipython2",
   "version": "2.7.3"
  }
 },
 "nbformat": 4,
 "nbformat_minor": 0
}
