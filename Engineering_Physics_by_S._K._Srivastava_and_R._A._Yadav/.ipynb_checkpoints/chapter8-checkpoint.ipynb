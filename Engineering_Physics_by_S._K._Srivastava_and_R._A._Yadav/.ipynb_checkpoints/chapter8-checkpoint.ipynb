{
 "cells": [
  {
   "cell_type": "markdown",
   "metadata": {},
   "source": [
    "# Chapter8:X-RAY"
   ]
  },
  {
   "cell_type": "markdown",
   "metadata": {},
   "source": [
    "## Ex8.1:pg-240"
   ]
  },
  {
   "cell_type": "code",
   "execution_count": 2,
   "metadata": {
    "collapsed": false
   },
   "outputs": [
    {
     "name": "stdout",
     "output_type": "stream",
     "text": [
      "the value of plancks constant is h= 6.587e-34 J-s\n"
     ]
    }
   ],
   "source": [
    "import math\n",
    "#to calculate value of planck's constant\n",
    "e=1.6*10**-19 #in C\n",
    "V=100*10**3 #voltage in KV\n",
    "c=3*10**8 #light speed in m/s\n",
    "lamdamin=12.35*10**-12 #wavelength in m\n",
    "h=e*V*lamdamin/c\n",
    "print \"the value of plancks constant is h=\",\"{:.3e}\".format(h),\"J-s\"\n"
   ]
  },
  {
   "cell_type": "markdown",
   "metadata": {},
   "source": [
    "## Ex8.2:pg-240"
   ]
  },
  {
   "cell_type": "code",
   "execution_count": 3,
   "metadata": {
    "collapsed": false
   },
   "outputs": [
    {
     "name": "stdout",
     "output_type": "stream",
     "text": [
      "maximum frequency present in the radiation from an X-ray tube is numax= 7.576e+37 Hz\n"
     ]
    }
   ],
   "source": [
    "import math\n",
    "#to calculate maximum frequency\n",
    "h=6.6*10**-34 #planck's constant in J-s\n",
    "c=3.0*10**8 #light speed in m/s\n",
    "Ve=50000 #accelerating potential in V\n",
    "lamdamin=h*c/Ve #wavelength in m\n",
    "numax=c/lamdamin\n",
    "print \"maximum frequency present in the radiation from an X-ray tube is numax=\",\"{:.3e}\".format(numax),\"Hz\"\n",
    "#answer is given in thec book is incorrect =1.2*10**19 Hz\n"
   ]
  },
  {
   "cell_type": "markdown",
   "metadata": {},
   "source": [
    "## Ex8.3:pg-240"
   ]
  },
  {
   "cell_type": "code",
   "execution_count": 4,
   "metadata": {
    "collapsed": false
   },
   "outputs": [
    {
     "name": "stdout",
     "output_type": "stream",
     "text": [
      "number of electrons striking the target per second is n= 1.250e+16 unitless\n",
      "the speed with which electrons strike the target is v= 6.603e+07 m/s\n"
     ]
    }
   ],
   "source": [
    "import math\n",
    "#to calculate number of electrons \n",
    "I=2*10**-3 #current in mA\n",
    "e=1.6*10**-19 \n",
    "n=I/e\n",
    "print \"number of electrons striking the target per second is n=\",\"{:.3e}\".format(n),\"unitless\"\n",
    "#to calculate speed\n",
    "m=9.1*10**-31 #mass of electron in kg\n",
    "V=12.4*10**3 #potential difference in V\n",
    "v=math.sqrt(2*V*e/m)\n",
    "print \"the speed with which electrons strike the target is v=\",\"{:.3e}\".format(v),\"m/s\"\n"
   ]
  },
  {
   "cell_type": "markdown",
   "metadata": {},
   "source": [
    "## Ex8.4:pg-240"
   ]
  },
  {
   "cell_type": "code",
   "execution_count": 5,
   "metadata": {
    "collapsed": false
   },
   "outputs": [
    {
     "name": "stdout",
     "output_type": "stream",
     "text": [
      "the longest wavelength that can be analysed by a rock salt crystal is lamdamax= 2.820e-10 m\n"
     ]
    }
   ],
   "source": [
    "import math\n",
    "#to calculate wavelength\n",
    "n=2 #second order for longest wavelength\n",
    "d=2.82*10**-10 # spacing in angstrom\n",
    "sintheta=1 \n",
    "lamdamax=2*d*sintheta/n\n",
    "print \"the longest wavelength that can be analysed by a rock salt crystal is lamdamax=\",\"{:.3e}\".format(lamdamax),\"m\"\n"
   ]
  },
  {
   "cell_type": "markdown",
   "metadata": {},
   "source": [
    "## Ex8.5:pg-241"
   ]
  },
  {
   "cell_type": "code",
   "execution_count": 6,
   "metadata": {
    "collapsed": false
   },
   "outputs": [
    {
     "name": "stdout",
     "output_type": "stream",
     "text": [
      "the spacing of the crystal is d= 0.661 angstrom\n"
     ]
    }
   ],
   "source": [
    "import math\n",
    "#to calculate spacing of the crystal\n",
    "h=6.62*10**-34 #planck's constant in J-s\n",
    "m=9.1*10**-31 #mass of electron in kg\n",
    "V=344 #voltage in V\n",
    "e=1.6*10**-19\n",
    "lamda=h/math.sqrt(2*m*e*V) #wavelength in m\n",
    "#according to Bragg's law\n",
    "n=1\n",
    "#formula is 2*d*sintheta=n*lamda\n",
    "d=n*lamda/(2*math.sin(math.pi/6))\n",
    "print \"the spacing of the crystal is d=\",round(d/1e-10,3),\"angstrom\"\n"
   ]
  },
  {
   "cell_type": "markdown",
   "metadata": {},
   "source": [
    "## Ex8.6:pg-241"
   ]
  },
  {
   "cell_type": "code",
   "execution_count": 7,
   "metadata": {
    "collapsed": false
   },
   "outputs": [
    {
     "name": "stdout",
     "output_type": "stream",
     "text": [
      "wavelength of Kalpha line for an atom is alphaa= 1.464e-09 cm\n"
     ]
    }
   ],
   "source": [
    "import math\n",
    "#to calculate wavelength of Kalpha line for an atom\n",
    "R=1.1*10**5\n",
    "z=92\n",
    "#Ka line is emitted when electron jumps from l shell(n2=2) to k shell(n1=1)\n",
    "#formula is 1/alphaa=R*(z-b)*((1/n1**2)-(1/n2)**2)\n",
    "alphaa=4/(3*R*(z-1)**2)\n",
    "print \"wavelength of Kalpha line for an atom is alphaa=\",\"{:.3e}\".format(alphaa),\"cm\"\n"
   ]
  },
  {
   "cell_type": "markdown",
   "metadata": {},
   "source": [
    "## Ex8.7:pg-241"
   ]
  },
  {
   "cell_type": "code",
   "execution_count": 7,
   "metadata": {
    "collapsed": false
   },
   "outputs": [
    {
     "name": "stdout",
     "output_type": "stream",
     "text": [
      "thickness is x= 1.849 cm\n"
     ]
    }
   ],
   "source": [
    "import math\n",
    "#to calculate thickness\n",
    "#mass absorption coefficient mum of an absorber is related with linear absorption coefficient mu and density of the material rho is given by\n",
    "#mu=rho*mum=2.7*0.6=1.62 cm**-1\n",
    "mu=1.62\n",
    "#if initial intensity Io of the X-ray beam is reduced to I in traversing a distance x in absorber I=Io*e**-mu*x\n",
    "#where I/Io=20\n",
    "#put above values in the  below equation , we get\n",
    "x=(2.3026*(math.log(20)/math.log(10)))/1.62\n",
    "print \"thickness is x=\",round(x,3),\"cm\"\n"
   ]
  },
  {
   "cell_type": "markdown",
   "metadata": {},
   "source": [
    "## Ex8.8:pg-242"
   ]
  },
  {
   "cell_type": "code",
   "execution_count": 9,
   "metadata": {
    "collapsed": false
   },
   "outputs": [
    {
     "name": "stdout",
     "output_type": "stream",
     "text": [
      "atomic number is z= 31 unitless\n"
     ]
    }
   ],
   "source": [
    "import math\n",
    "#to calculate atomic number of the element\n",
    "#equation for balmer series in hydrogen spectrum is 1/lamda=R*((1/2**2)-(1/n**2))\n",
    "#for series limit n=infinity ,R=4/lamdainfinity i.e. R=4/364.6nm\n",
    "#X-ray wavelength of K series is 1/lamda=R*(z-1)**2*((1/1**2)-(1/n**2))\n",
    "lamda=0.1*10**-9\n",
    "R=4/(364.6*10**-9)\n",
    "#for n=infinity ,minimum wavelength of k series is given by\n",
    "z=math.sqrt(1/(lamda*R))+1\n",
    "print \"atomic number is z=\",int(z),\"unitless\"\n"
   ]
  },
  {
   "cell_type": "markdown",
   "metadata": {},
   "source": [
    "## Ex8.9:pg-242"
   ]
  },
  {
   "cell_type": "code",
   "execution_count": 11,
   "metadata": {
    "collapsed": false
   },
   "outputs": [
    {
     "name": "stdout",
     "output_type": "stream",
     "text": [
      "the wavelength of X-rays is lamda= 0.935 angstrom\n"
     ]
    }
   ],
   "source": [
    "import math\n",
    "#to calculate wavelength\n",
    "d=1.87*10**-10 #spacing in angstrom\n",
    "n=2 \n",
    "#formula is lamda=2*d*sintheta/n\n",
    "lamda=2*d*math.sin(math.pi/6)/n\n",
    "print \"the wavelength of X-rays is lamda=\",round(lamda/1e-10,3),\"angstrom\"\n"
   ]
  },
  {
   "cell_type": "markdown",
   "metadata": {},
   "source": [
    "## Ex8.10:pg-242"
   ]
  },
  {
   "cell_type": "code",
   "execution_count": 8,
   "metadata": {
    "collapsed": false
   },
   "outputs": [
    {
     "name": "stdout",
     "output_type": "stream",
     "text": [
      "wavelength of X-ray is lamda1= 1.68 angstrom\n"
     ]
    }
   ],
   "source": [
    "import math\n",
    "#to calculate wavelength of second X-ray beam\n",
    "#from bragg's law\n",
    "#lamda=(d*math.sin(math.pi/3))/n        eq(1)\n",
    "#it is given that,theta=60,n=3,lamda=1.97 angstrom\n",
    "#from eq(1) we get,2*d*sin60degree=3*0.97               eq(2)\n",
    "#let lamda' be the second X-ray beam \n",
    "#we get 2*d'*sin theta'=n'*lamda'                   eq(3)\n",
    "#from eq(2) and eq(3),we get\n",
    "lamda1=math.sin(math.pi/6)*3*0.97/math.sin(math.pi/3)   #where lamda1=lamda'\n",
    "print \"wavelength of X-ray is lamda1=\",round(lamda1,3),\"angstrom\"\n"
   ]
  },
  {
   "cell_type": "markdown",
   "metadata": {},
   "source": [
    "## Ex8.11:pg-243"
   ]
  },
  {
   "cell_type": "code",
   "execution_count": 13,
   "metadata": {
    "collapsed": false
   },
   "outputs": [
    {
     "name": "stdout",
     "output_type": "stream",
     "text": [
      "wavelength of X-ray is lamda= 0.979 angstrom\n"
     ]
    }
   ],
   "source": [
    "import math\n",
    "#to calculate wavelength\n",
    "d=2.82*10**-10 #spacing in m\n",
    "n=1 \n",
    "lamda=2*d*math.sin(10*math.pi/180)/n\n",
    "print \"wavelength of X-ray is lamda=\",round(lamda/1e-10,3),\"angstrom\"\n"
   ]
  },
  {
   "cell_type": "markdown",
   "metadata": {},
   "source": [
    "## Ex8.12:pg-243"
   ]
  },
  {
   "cell_type": "code",
   "execution_count": 14,
   "metadata": {
    "collapsed": false
   },
   "outputs": [
    {
     "name": "stdout",
     "output_type": "stream",
     "text": [
      "d1= 4e-10 m\n",
      "d2= 2e-10 m\n",
      "d3= 0.0 m\n",
      "d4= 1e-10 m\n"
     ]
    }
   ],
   "source": [
    "import math\n",
    "#deduce possible spacing of the set of planes\n",
    "#for first order , 2*d*sintheta1=1*lamda...eq(1)\n",
    "#for second order ,2*d*sintheta2=2*lamda..eq(2)\n",
    "#for third order, 2*d*sintheta3=3*lamda......eq(3)\n",
    "#for fourth order, 2*d*sintheta4=4*lamda..............eq(4)\n",
    "#divide eq(2) by eq(1),we get sintheta2=2*sintheta1\n",
    "#similarly,sintheta3=3*sintheta1,sintheta4=4*sintheta1\n",
    "lamda=1.32*10**-10\n",
    "sintheta1=0.1650\n",
    "d1=lamda/(2*sintheta1)#for first order n=1,d1=d/n\n",
    "d2=lamda/(2*2*sintheta1)   #for second order n=2,d2=d/n\n",
    "d3=lamda/(2*3*sintheta1)       #for third order n=3,d3=d/n\n",
    "d4=lamda/(2*4*sintheta1)            #for fourth order n=4,d4=d/n\n",
    "print \"d1=\",d1,\"m\"\n",
    "print \"d2=\",d2,\"m\"\n",
    "print \"d3=\",round(d3,2),\"m\"\n",
    "print \"d4=\",d4,\"m\"\n"
   ]
  },
  {
   "cell_type": "markdown",
   "metadata": {},
   "source": [
    "## Ex8.13:pg-248"
   ]
  },
  {
   "cell_type": "code",
   "execution_count": 18,
   "metadata": {
    "collapsed": false
   },
   "outputs": [
    {
     "name": "stdout",
     "output_type": "stream",
     "text": [
      "compton shift is dellamda= 0.0071 angstrom\n",
      "wavelength of the scattered X-rays is lamda= 2.0071 angstrom\n",
      "energylost = 0.00354 unitless\n"
     ]
    }
   ],
   "source": [
    "import math\n",
    "#to calculate compton shift and wavelength\n",
    "h=6.63*10**-34 #planck's constant in J-s\n",
    "m0=9.11*10**-31 #mass of electron\n",
    "c=3*10**8 #light speed in m/s\n",
    "dellamda=h*(1-(1/math.sqrt(2)))/(m0*c)\n",
    "lamda0=2*10**-10\n",
    "lamda=dellamda+lamda0\n",
    "print \"compton shift is dellamda=\",round(dellamda/1e-10,4),\"angstrom\"\n",
    "print \"wavelength of the scattered X-rays is lamda=\",round(lamda/1e-10,4),\"angstrom\"\n",
    "#to calculate fraction of energy lost by the photon in the collision\n",
    "#energy lost =E0-E/E0=(hc/lamda0)-(hc/lamda)/(ha/lamda0)\n",
    "#we get,\n",
    "energylost=dellamda/lamda\n",
    "print \"energylost =\",round(energylost,5),\"unitless\" \n"
   ]
  },
  {
   "cell_type": "markdown",
   "metadata": {},
   "source": [
    "## Ex8.14:pg-249"
   ]
  },
  {
   "cell_type": "code",
   "execution_count": 9,
   "metadata": {
    "collapsed": false
   },
   "outputs": [
    {
     "name": "stdout",
     "output_type": "stream",
     "text": [
      "wavelength is lamda= 0.0245 angstrom\n",
      "energy of the incident photon is E= 8.100e-14 J\n"
     ]
    }
   ],
   "source": [
    "import math\n",
    "#to calculate wavelength and energy\n",
    "#formula is lamda'-lamda=h*(1-cos phi)/(m0*c),where phi=90 degree, lamda'=2lamda ---------------eq(1)\n",
    "#dellamda=2lamda-lamda=lamda ----------------------------eq(2)\n",
    "h=6.62*10**-34 #planck's constant\n",
    "c=3*10**8 #light speed in m.s\n",
    "m0=9*10**-31 #mass of electron in kg\n",
    "#from eq(1) and eq(2) ,we get\n",
    "lamda=h/(m0*c)\n",
    "print \"wavelength is lamda=\",round(lamda/1e-10,4),\"angstrom\"\n",
    "E=h*c/lamda\n",
    "print \"energy of the incident photon is E=\",\"{:.3e}\".format(E),\"J\"\n"
   ]
  },
  {
   "cell_type": "markdown",
   "metadata": {},
   "source": [
    "## Ex8.15:pg-249"
   ]
  },
  {
   "cell_type": "code",
   "execution_count": 10,
   "metadata": {
    "collapsed": false
   },
   "outputs": [
    {
     "name": "stdout",
     "output_type": "stream",
     "text": [
      "wavelength of radiation is lamda1= 4.844e-12 m\n",
      "direction of emission of electron is theta= 26.607 degree\n"
     ]
    }
   ],
   "source": [
    "import math\n",
    "#to calculate wavelength of radiation and direction of emission\n",
    "h=6.6*10**-34           #planck's constant in J-s\n",
    "c=3*10**8                #speed of light in m/s\n",
    "energy=510*10**3                #energy of photon in eV\n",
    "lamda=h*c/(energy*1.6*10**-19)\n",
    "mo=9.1*10**-31             #mass of electron in Kg\n",
    "lamda1=lamda+h*(1-math.cos(math.pi/2))/(mo*c)\n",
    "print \"wavelength of radiation is lamda1=\",\"{:.3e}\".format(lamda1),\"m\"\n",
    "theta=math.degrees(math.atan(lamda*math.sin(math.pi/2)/(lamda1-lamda*math.cos(math.pi/2))))\n",
    "print\"direction of emission of electron is theta=\",round(theta,3),\"degree\"\n"
   ]
  },
  {
   "cell_type": "markdown",
   "metadata": {},
   "source": [
    "## Ex8.16:pg-249"
   ]
  },
  {
   "cell_type": "code",
   "execution_count": 11,
   "metadata": {
    "collapsed": false
   },
   "outputs": [
    {
     "name": "stdout",
     "output_type": "stream",
     "text": [
      "wavelength of two X-rays is lamda1= 10.708 picometer\n",
      "maximum wavelength present in the scattered X-rays is lamda2= 14.835 picometer\n",
      "maximum kinetic energy of the recoil electrons is Kmax= 40.333 KeV\n"
     ]
    }
   ],
   "source": [
    "import math\n",
    "#to calculate wavelength of two X-rays\n",
    "h=6.6*10**-34 #planck's constant in J-s\n",
    "c=3.0*10.0**8 #light speed in m/s\n",
    "mo=9.1*10**-31 #mass of electron in kg\n",
    "lamda=10.0*10**-12 #wavelength in pm\n",
    "lamda1=lamda+((h/(mo*c))*(1-(1/math.sqrt(2))))\n",
    "print \"wavelength of two X-rays is lamda1=\",round(lamda1*(1e12),3),\"picometer\"\n",
    "#to calculate maximum wavelength\n",
    "lamda2=lamda+((2*h)/(mo*c))\n",
    "print \"maximum wavelength present in the scattered X-rays is lamda2=\",round(lamda2*(1e12),3),\"picometer\"\n",
    "#to calculate maximum kinetic energy \n",
    "Kmax=(h*c)*((1/lamda)-(1/lamda2))/(1.6*10**-19)\n",
    "print \"maximum kinetic energy of the recoil electrons is Kmax=\",round(Kmax/1000.0,3),\"KeV\"\n",
    "\n",
    "# the answer is slightly different due to approximation\n"
   ]
  }
 ],
 "metadata": {
  "kernelspec": {
   "display_name": "Python 2",
   "language": "python",
   "name": "python2"
  },
  "language_info": {
   "codemirror_mode": {
    "name": "ipython",
    "version": 2
   },
   "file_extension": ".py",
   "mimetype": "text/x-python",
   "name": "python",
   "nbconvert_exporter": "python",
   "pygments_lexer": "ipython2",
   "version": "2.7.3"
  }
 },
 "nbformat": 4,
 "nbformat_minor": 0
}
