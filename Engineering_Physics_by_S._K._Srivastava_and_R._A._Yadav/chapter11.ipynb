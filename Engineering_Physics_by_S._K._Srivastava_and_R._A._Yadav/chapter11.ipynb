{
 "cells": [
  {
   "cell_type": "markdown",
   "metadata": {},
   "source": [
    "# Chapter11:ULTRASONICS"
   ]
  },
  {
   "cell_type": "markdown",
   "metadata": {},
   "source": [
    "## Ex11.1:pg-303"
   ]
  },
  {
   "cell_type": "code",
   "execution_count": 1,
   "metadata": {
    "collapsed": false
   },
   "outputs": [
    {
     "name": "stdout",
     "output_type": "stream",
     "text": [
      "the fundamental frequency is nu= 2729987.214 Hz\n"
     ]
    }
   ],
   "source": [
    "import math\n",
    "#to calculate fundemental frequency\n",
    "Y=7.9*10**10 #Young modulus for quartz in Nm**-2\n",
    "rho=2.65*10**3 #density of quartz in kg/m**3\n",
    "#the velocity of longitudinal wave is given by\n",
    "v=math.sqrt(Y/rho)  #in m/s\n",
    "#for fundamental mode of vibration ,thickness is given by lamda/2\n",
    "lamda=2*0.001 #wavelength in m\n",
    "nu=v/lamda\n",
    "print \"the fundamental frequency is nu=\",round(nu,3),\"Hz\"\n",
    "#answer is given wrong in the book ,nu=2730 Hz\n"
   ]
  }
 ],
 "metadata": {
  "kernelspec": {
   "display_name": "Python 2",
   "language": "python",
   "name": "python2"
  },
  "language_info": {
   "codemirror_mode": {
    "name": "ipython",
    "version": 2
   },
   "file_extension": ".py",
   "mimetype": "text/x-python",
   "name": "python",
   "nbconvert_exporter": "python",
   "pygments_lexer": "ipython2",
   "version": "2.7.3"
  }
 },
 "nbformat": 4,
 "nbformat_minor": 0
}
