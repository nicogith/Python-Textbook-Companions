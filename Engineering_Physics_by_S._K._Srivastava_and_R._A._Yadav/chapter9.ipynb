{
 "cells": [
  {
   "cell_type": "markdown",
   "metadata": {},
   "source": [
    "# Chapter9:DIELECTRIC PROPERTIESOF MATERIALS"
   ]
  },
  {
   "cell_type": "markdown",
   "metadata": {},
   "source": [
    "## Ex9.1:pg-269"
   ]
  },
  {
   "cell_type": "code",
   "execution_count": 1,
   "metadata": {
    "collapsed": false
   },
   "outputs": [
    {
     "name": "stdout",
     "output_type": "stream",
     "text": [
      "the dielectric constant of the liquid is epsilon0= 2 unitless\n"
     ]
    }
   ],
   "source": [
    "import math\n",
    "#to calculate dielectric constant of the liquid\n",
    "#capacitance of the air filled dielectric Cair=Q/Vo-----------eq(1)\n",
    "#when dielectric is filled between the plates ,Cliquid=Q/V\n",
    "#then Cliquid=epsilonr*Q/Vo------eq(2)\n",
    "Vo=60\n",
    "                  #voltage in volts\n",
    "V=30\n",
    "#from eq(1) and eq(2),we get\n",
    "epsilon0=Vo/V\n",
    "print \"the dielectric constant of the liquid is epsilon0=\",epsilon0,\"unitless\"\n"
   ]
  },
  {
   "cell_type": "markdown",
   "metadata": {},
   "source": [
    "## Ex9.2:pg-269"
   ]
  },
  {
   "cell_type": "code",
   "execution_count": 1,
   "metadata": {
    "collapsed": false
   },
   "outputs": [
    {
     "name": "stdout",
     "output_type": "stream",
     "text": [
      "the charge on the capacitance is Q= 1.417e-09 Coulomb\n"
     ]
    }
   ],
   "source": [
    "import math\n",
    "#to calculate charge on the capacitance\n",
    "epsilon0=8.854*10**-12 #permittivity\n",
    "epsilonr=6 #relative permittivity\n",
    "V=100 #voltage in volts\n",
    "d=1.5*10**-3 #distance in m\n",
    "A=4*10**-4#area in m**2\n",
    "Q=epsilon0*epsilonr*A*V/d\n",
    "print \"the charge on the capacitance is Q=\",\"{:.3e}\".format(Q),\"Coulomb\"\n"
   ]
  },
  {
   "cell_type": "markdown",
   "metadata": {},
   "source": [
    "## Ex9.3:pg-269"
   ]
  },
  {
   "cell_type": "code",
   "execution_count": 2,
   "metadata": {
    "collapsed": false
   },
   "outputs": [
    {
     "name": "stdout",
     "output_type": "stream",
     "text": [
      "the resultant voltage across the capacitor is V= 39.716 volt\n"
     ]
    }
   ],
   "source": [
    "import math\n",
    "#to calculate voltage\n",
    "A=6.50*10**-4 #area in m**2\n",
    "Q=2*10**-10 #charge in C\n",
    "d=4*10**-3 #plate separation in m\n",
    "epsilon0=8.854*10**-12\n",
    "epsilonr=3.5 #dielectric constant\n",
    "V=Q*d/(epsilon0*epsilonr*A)\n",
    "print \"the resultant voltage across the capacitor is V=\",round(V,3),\"volt\"\n"
   ]
  }
 ],
 "metadata": {
  "kernelspec": {
   "display_name": "Python 2",
   "language": "python",
   "name": "python2"
  },
  "language_info": {
   "codemirror_mode": {
    "name": "ipython",
    "version": 2
   },
   "file_extension": ".py",
   "mimetype": "text/x-python",
   "name": "python",
   "nbconvert_exporter": "python",
   "pygments_lexer": "ipython2",
   "version": "2.7.3"
  }
 },
 "nbformat": 4,
 "nbformat_minor": 0
}
