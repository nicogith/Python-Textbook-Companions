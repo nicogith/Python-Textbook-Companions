{
 "cells": [
  {
   "cell_type": "markdown",
   "metadata": {},
   "source": [
    "# Chapter4:POLARISATION"
   ]
  },
  {
   "cell_type": "markdown",
   "metadata": {},
   "source": [
    "## Ex4.1:pg-147"
   ]
  },
  {
   "cell_type": "code",
   "execution_count": 1,
   "metadata": {
    "collapsed": false
   },
   "outputs": [
    {
     "name": "stdout",
     "output_type": "stream",
     "text": [
      "the intensities of ordinary and extraordinary rays is I= 3.0 unitless\n"
     ]
    }
   ],
   "source": [
    "import math\n",
    "# compare the intensities of ordinary and extraordinary rays\n",
    "#intensity of ordinary rays is given by Io=a**2 *(sin theta)**2\n",
    "#where theta=30 degree\n",
    "#we get Io=a**2/4\n",
    "Io=1.0/4\n",
    "#intensity of extraordinary ray is given by IE=(a*cos theta)**2\n",
    "#we get IE=3*a**2/4\n",
    "IE=3.0/4\n",
    "I=IE/Io\n",
    "print \"the intensities of ordinary and extraordinary rays is I=\",I,\"unitless\"\n"
   ]
  },
  {
   "cell_type": "markdown",
   "metadata": {},
   "source": [
    "## Ex4.2:pg-147"
   ]
  },
  {
   "cell_type": "code",
   "execution_count": 1,
   "metadata": {
    "collapsed": false
   },
   "outputs": [
    {
     "name": "stdout",
     "output_type": "stream",
     "text": [
      "angle of refraction of ray is r= 30.0 degree\n"
     ]
    }
   ],
   "source": [
    "import math\n",
    "#to calculate angle of refraction\n",
    "#according to brewster's law  mu=tan ip\n",
    "mu=1.732   #refractive index\n",
    "ip=math.degrees(math.atan(mu))   #polarising angle in degree\n",
    "r=90-ip\n",
    "print \"angle of refraction of ray is r=\",round(r),\"degree\"\n"
   ]
  },
  {
   "cell_type": "markdown",
   "metadata": {},
   "source": [
    "## Ex4.3:pg-147"
   ]
  },
  {
   "cell_type": "code",
   "execution_count": 6,
   "metadata": {
    "collapsed": false
   },
   "outputs": [
    {
     "name": "stdout",
     "output_type": "stream",
     "text": [
      "polarising angle is ip= 53 degree  22.0 min\n",
      "angle of refraction is r= 36 degree 38.0 min\n"
     ]
    }
   ],
   "source": [
    "import math\n",
    "#to calculate polarising angle and angle of refraction\n",
    "mu=1.345    #refractive index, mu=1/sinc=1/sin48degree=1/0.7431 \n",
    "ip=math.degrees(math.atan(mu))\n",
    "r=90-ip\n",
    "mn1=ip-int(ip)\n",
    "mn2=60-mn1*60\n",
    "print \"polarising angle is ip=\",int(ip),\"degree \",round(mn1*60.0),\"min\"\n",
    "print \"angle of refraction is r=\",int(r),\"degree\",round(mn2),\"min\" \n"
   ]
  },
  {
   "cell_type": "markdown",
   "metadata": {},
   "source": [
    "## Ex4.4:pg-147"
   ]
  },
  {
   "cell_type": "code",
   "execution_count": 2,
   "metadata": {
    "collapsed": false
   },
   "outputs": [
    {
     "name": "stdout",
     "output_type": "stream",
     "text": [
      "thickness of a half wave plate of quartz is t= 2.78e-03 cm\n"
     ]
    }
   ],
   "source": [
    "import math\n",
    "#to calculate thickness of a half wave plate of quartz\n",
    "lamda=5*10**-5 #wavelength in cm\n",
    "mue=1.553 \n",
    "            #refractive index (unitless)\n",
    "muo=1.544\n",
    "#for a half plate of positive crystal\n",
    "t=lamda/(2*(mue-muo))\n",
    "print \"thickness of a half wave plate of quartz is t=\",\"{:.2e}\".format(t),\"cm\"\n"
   ]
  },
  {
   "cell_type": "markdown",
   "metadata": {},
   "source": [
    "## Ex4.5:pg-148"
   ]
  },
  {
   "cell_type": "code",
   "execution_count": 4,
   "metadata": {
    "collapsed": false
   },
   "outputs": [
    {
     "name": "stdout",
     "output_type": "stream",
     "text": [
      "thickness of quarter wave plate is t= 1.636e-03 cm\n"
     ]
    }
   ],
   "source": [
    "import math\n",
    "#to calculate thickness of quarter wave plate\n",
    "lamda=5.890*10**-5 #wavelength of light in cm\n",
    "mue=1.553\n",
    "              #refractive index\n",
    "muo=1.544\n",
    "t=lamda/(4*(mue-muo)) \n",
    "print \"thickness of quarter wave plate is t=\",\"{:.3e}\".format(t),\"cm\" \n"
   ]
  },
  {
   "cell_type": "markdown",
   "metadata": {},
   "source": [
    "## Ex4.6:pg-148"
   ]
  },
  {
   "cell_type": "code",
   "execution_count": 5,
   "metadata": {
    "collapsed": false
   },
   "outputs": [
    {
     "name": "stdout",
     "output_type": "stream",
     "text": [
      "thickness of a plate is t= 1.47e-03 cm\n"
     ]
    }
   ],
   "source": [
    "import math\n",
    "#to calculate thickness of a doubly refracting plate\n",
    "lamda=5.890*10**-5 #wavelength in cm\n",
    "muo=1.53 \n",
    "               #refractive index\n",
    "mue=1.54\n",
    "t=lamda/(4*(mue-muo))\n",
    "print \"thickness of a plate is t=\",\"{:.2e}\".format(t),\"cm\"\n"
   ]
  },
  {
   "cell_type": "markdown",
   "metadata": {},
   "source": [
    "## Ex4.7:pg-152"
   ]
  },
  {
   "cell_type": "code",
   "execution_count": 6,
   "metadata": {
    "collapsed": false
   },
   "outputs": [
    {
     "name": "stdout",
     "output_type": "stream",
     "text": [
      "the angle of rotation of the plane of polarisation is theta= 19.8 degree\n"
     ]
    }
   ],
   "source": [
    "import math\n",
    "#to calculate angle of rotation\n",
    "alpha=66.0 #specific rotation of cane sugar in degree\n",
    "c=15.0/100 #concentration of the solution in gm/cc\n",
    "l=20 #length of tube in cm\n",
    "theta=alpha*l*c/10\n",
    "print \"the angle of rotation of the plane of polarisation is theta=\",theta,\"degree\"\n"
   ]
  },
  {
   "cell_type": "markdown",
   "metadata": {},
   "source": [
    "## Ex4.8:pg-153"
   ]
  },
  {
   "cell_type": "code",
   "execution_count": 10,
   "metadata": {
    "collapsed": false
   },
   "outputs": [
    {
     "name": "stdout",
     "output_type": "stream",
     "text": [
      "the specific rotation is alpha= 66.0 degree\n"
     ]
    }
   ],
   "source": [
    "import math\n",
    "#to calculate specific rotation \n",
    "theta=26.4 #in degree\n",
    "l=20 #length in cm\n",
    "c=0.2 #gm/cm**3\n",
    "alpha=10*theta/(l*c)\n",
    "print \"the specific rotation is alpha=\",alpha,\"degree\"\n"
   ]
  },
  {
   "cell_type": "markdown",
   "metadata": {},
   "source": [
    "## Ex4.9:pg-153"
   ]
  },
  {
   "cell_type": "code",
   "execution_count": 7,
   "metadata": {
    "collapsed": false
   },
   "outputs": [
    {
     "name": "stdout",
     "output_type": "stream",
     "text": [
      "strength of solution is c= 0.0833 gm/cm**3\n"
     ]
    }
   ],
   "source": [
    "import math\n",
    "#to calculate strength of solution\n",
    "theta=11 #degree\n",
    "l=20.0 #length in cm\n",
    "alpha=66 #specific rotation of sugar in degree\n",
    "c=10*theta/(l*alpha)\n",
    "print \"strength of solution is c=\",round(c,4),\"gm/cm**3\"\n"
   ]
  },
  {
   "cell_type": "markdown",
   "metadata": {},
   "source": [
    "## Ex4.10:pg-153"
   ]
  },
  {
   "cell_type": "code",
   "execution_count": 8,
   "metadata": {
    "collapsed": false
   },
   "outputs": [
    {
     "name": "stdout",
     "output_type": "stream",
     "text": [
      "difference in refractive indices is mu= 8.4e-05 unitless\n"
     ]
    }
   ],
   "source": [
    "import math\n",
    "#to calculate difference in the refractive indices\n",
    "#specific rotation is theta/d=29.73 degree/mm\n",
    "theta=29.73 #where theta=theta/d\n",
    "lamda=5.086*10**-4 #wavelength in mm\n",
    "#optical rotation is given by theta=math.pi*d*(mul-mur)/lamda\n",
    "#where mul and mur are refractive indices for anti-clockwise and clockwise polarised lights\n",
    "mu=theta*lamda/180 #where mu=mul-mur\n",
    "print \"difference in refractive indices is mu=\",\"{:.1e}\".format(mu),\"unitless\"\n"
   ]
  },
  {
   "cell_type": "markdown",
   "metadata": {},
   "source": [
    "## Ex4.11:pg-153"
   ]
  },
  {
   "cell_type": "code",
   "execution_count": 5,
   "metadata": {
    "collapsed": false
   },
   "outputs": [
    {
     "name": "stdout",
     "output_type": "stream",
     "text": [
      "optical rotation is theta1= 6.5 degree\n"
     ]
    }
   ],
   "source": [
    "import math\n",
    "#to calculate optical rotation\n",
    "#let theta' be the optical rotation by a solution of strength c' in a tube of length l' then\n",
    "#we get 10*theta'/l'*c'=10*theta/l*c\n",
    "c=1.0/3 #it is given that solution is 1/3 of its previous concentration i.e. c'/c=1/3,where c=c'/c\n",
    "l1=30  #where l1=l'\n",
    "           #length in cm \n",
    "l=20.0\n",
    "theta=13 #degree\n",
    "#formula is theta'=l'*c'*theta/(l*c)\n",
    "theta1=l1*c*theta/l\n",
    "print \"optical rotation is theta1=\",theta1,\"degree\"\n"
   ]
  },
  {
   "cell_type": "markdown",
   "metadata": {},
   "source": [
    "## Ex4.12:pg-154"
   ]
  },
  {
   "cell_type": "code",
   "execution_count": 2,
   "metadata": {
    "collapsed": false
   },
   "outputs": [
    {
     "name": "stdout",
     "output_type": "stream",
     "text": [
      "the specific rotation is alpha= 66.0 degree\n"
     ]
    }
   ],
   "source": [
    "import math\n",
    "#to calculate specific rotation\n",
    "theta=52.8 #optical rotation in degree\n",
    "l=20.0 #length of the solution in cm\n",
    "c=20/50.0 #concentration of the solution in gm/cc\n",
    "alpha=10*theta/(l*c)\n",
    "print \"the specific rotation is alpha=\",alpha,\"degree\"\n"
   ]
  },
  {
   "cell_type": "markdown",
   "metadata": {},
   "source": [
    "## Ex4.13:pg-154"
   ]
  },
  {
   "cell_type": "code",
   "execution_count": 6,
   "metadata": {
    "collapsed": false
   },
   "outputs": [
    {
     "name": "stdout",
     "output_type": "stream",
     "text": [
      "length is l1= 35.0 cm\n"
     ]
    }
   ],
   "source": [
    "import math\n",
    "#to calculate length \n",
    "l=40 #length in cm\n",
    "c=5.0/100 #concentration in percentage\n",
    "theta1=35 #optical rotation in degree ,where theta1=theta'\n",
    "c1=10.0/100 #concentration in % ,where c1=c'\n",
    "theta=20\n",
    "#formula of specific rotation is alpha=10*theta/l*c\n",
    "l1=l*c*theta1/(c1*theta)\n",
    "print \"length is l1=\",l1,\"cm\"\n"
   ]
  },
  {
   "cell_type": "markdown",
   "metadata": {},
   "source": [
    "## Ex4.14:pg-155"
   ]
  },
  {
   "cell_type": "code",
   "execution_count": 9,
   "metadata": {
    "collapsed": false
   },
   "outputs": [
    {
     "name": "stdout",
     "output_type": "stream",
     "text": [
      "rotation of plane of polarisation of light is thetaR= 3 degree 19.0 min\n"
     ]
    }
   ],
   "source": [
    "import math\n",
    "#to calculate rotation of plane of polarisation of light\n",
    "mur=1.53914\n",
    "                #refractive index\n",
    "mul=1.53920\n",
    "lamda=6.5*10**-5 #wavelength in cm\n",
    "d=0.02 #distance in cm\n",
    "thetaR=180*(mul-mur)*d/lamda\n",
    "mn1=thetaR-int(thetaR)\n",
    "print \"rotation of plane of polarisation of light is thetaR=\",int(thetaR),\"degree\",round(mn1*60),\"min\"\n",
    "\n",
    "# the answer is slightly different due to approximation\n"
   ]
  },
  {
   "cell_type": "markdown",
   "metadata": {},
   "source": [
    "## Ex4.15:pg-155"
   ]
  },
  {
   "cell_type": "code",
   "execution_count": 17,
   "metadata": {
    "collapsed": false
   },
   "outputs": [
    {
     "name": "stdout",
     "output_type": "stream",
     "text": [
      "percentage of the sugar sample is per= 93.75 %\n"
     ]
    }
   ],
   "source": [
    "import math\n",
    "#to calculate % purity of the sugar sample\n",
    "theta=9.9 #optiacal rotation in degree\n",
    "alpha=66 #specific roation of pure sugar solution in dm**-1(gm/cc)**-1\n",
    "l=20 #length of tube in cm\n",
    "c=10*theta/(l*alpha) #concentration of solution in gm/c.c\n",
    "#it is given that 80 gm of impure sugar is dissolved in a litre of water\n",
    "per=(c*100*10**3)/80 #here c is in gm/litre\n",
    "print \"percentage of the sugar sample is per=\",per,\"%\"\n"
   ]
  }
 ],
 "metadata": {
  "kernelspec": {
   "display_name": "Python 2",
   "language": "python",
   "name": "python2"
  },
  "language_info": {
   "codemirror_mode": {
    "name": "ipython",
    "version": 2
   },
   "file_extension": ".py",
   "mimetype": "text/x-python",
   "name": "python",
   "nbconvert_exporter": "python",
   "pygments_lexer": "ipython2",
   "version": "2.7.3"
  }
 },
 "nbformat": 4,
 "nbformat_minor": 0
}
