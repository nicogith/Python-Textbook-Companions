{
 "cells": [
  {
   "cell_type": "markdown",
   "metadata": {},
   "source": [
    "# Chapter10:MAGNETIC PROPERTIES OF MATERIALS"
   ]
  },
  {
   "cell_type": "markdown",
   "metadata": {},
   "source": [
    "## Ex10.1:pg-288"
   ]
  },
  {
   "cell_type": "code",
   "execution_count": 1,
   "metadata": {
    "collapsed": false
   },
   "outputs": [
    {
     "name": "stdout",
     "output_type": "stream",
     "text": [
      "permeability is mu= 1.000e-03 N/A**2\n",
      "susceptibility is chim= 794.775 unitless\n"
     ]
    }
   ],
   "source": [
    "import math\n",
    "#to calculate permeability and susceptibility of the bar\n",
    "phi=2.4*10**-5 #magnetic flux in weber\n",
    "A=0.2*10**-4 #cross sectional area in m**2\n",
    "B=phi/A #magnetic induction in N/Am\n",
    "H=1200 #magnetising field in A/m\n",
    "mu=B/H\n",
    "print \"permeability is mu=\",\"{:.3e}\".format(mu),\"N/A**2\"\n",
    "muo=4*math.pi*10**-7 \n",
    "chim=(mu/muo)-1\n",
    "print \"susceptibility is chim=\",round(chim,3),\"unitless\"\n",
    "#the answer is given wrong in the book (round off error) chim=737\n"
   ]
  },
  {
   "cell_type": "markdown",
   "metadata": {},
   "source": [
    "## Ex10.2:pg-289"
   ]
  },
  {
   "cell_type": "code",
   "execution_count": 2,
   "metadata": {
    "collapsed": false
   },
   "outputs": [
    {
     "name": "stdout",
     "output_type": "stream",
     "text": [
      "current is i= 10.0 A\n"
     ]
    }
   ],
   "source": [
    "import math\n",
    "#to calculate current should be sent through the solenoid\n",
    "l=.10 #length in m\n",
    "N=50 #number of turns\n",
    "H=5*10**3 #magnetising field in A/m\n",
    "i=H*l/N \n",
    "print \"current is i=\",i,\"A\"\n"
   ]
  },
  {
   "cell_type": "markdown",
   "metadata": {},
   "source": [
    "## Ex10.3:pg-289"
   ]
  },
  {
   "cell_type": "code",
   "execution_count": 1,
   "metadata": {
    "collapsed": false
   },
   "outputs": [
    {
     "name": "stdout",
     "output_type": "stream",
     "text": [
      "the magnetic moment of the rod is M= 300.0 A-m**2\n"
     ]
    }
   ],
   "source": [
    "import math\n",
    "#to calculate magnetic moment of the rod\n",
    "#formula is B=muo*(H+I)\n",
    "#where H=ni\n",
    "n=500.0 #number of turns in turns/m\n",
    "i=0.5 #current passed through the solenoid in A\n",
    "mur=1200.0 #relative permeability\n",
    "I=(mur-1)*n*i #intensity of magnetisation in A/m\n",
    "V=10**-3 #volume in m**3\n",
    "M=I*V\n",
    "print \"the magnetic moment of the rod is M=\",round(M),\"A-m**2\"\n"
   ]
  },
  {
   "cell_type": "markdown",
   "metadata": {},
   "source": [
    "## Ex10.4:pg-290"
   ]
  },
  {
   "cell_type": "code",
   "execution_count": 7,
   "metadata": {
    "collapsed": false
   },
   "outputs": [
    {
     "name": "stdout",
     "output_type": "stream",
     "text": [
      "flux density is B= 2.000e-02 weber/m**2\n",
      "magnetic intensity is H= 300.0 A-turn/m\n",
      "permeability is mu= 6.667e-05 weber/A-m\n",
      "relative permeability is mur= 53.052 unitless\n"
     ]
    }
   ],
   "source": [
    "import math\n",
    "#to calculate flux density,magnetic intensity,permeability of iron\n",
    "phi=2.0*10**-6 #flux in the ring in weber\n",
    "A=10**-4 #cross-sectional area in m**2\n",
    "B=phi/A \n",
    "print \"flux density is B=\",\"{:.3e}\".format(B),\"weber/m**2\"\n",
    "N=200.0 #number of turns\n",
    "i=0.30 #current flows in the windings in A\n",
    "l=0.2 #length in m\n",
    "H=N*i/l\n",
    "print \"magnetic intensity is H=\",H,\"A-turn/m\"\n",
    "mu=B/H\n",
    "print \"permeability is mu=\",round(mu,8),\"weber/A-m\"\n",
    "muo=4*math.pi*10**-7 \n",
    "mur=mu/muo\n",
    "print \"relative permeability is mur=\",round(mur,3),\"unitless\"\n",
    "\n",
    "#the answer for H in the book is wrong\n",
    "#the answer for mu in book is wrong due to wrong H\n",
    "#the answer in book for mur is wrong \n"
   ]
  },
  {
   "cell_type": "markdown",
   "metadata": {},
   "source": [
    "## Ex10.5:pg-294"
   ]
  },
  {
   "cell_type": "code",
   "execution_count": 8,
   "metadata": {
    "collapsed": false
   },
   "outputs": [
    {
     "name": "stdout",
     "output_type": "stream",
     "text": [
      "the number of ampere turns is mmf= 153.846 ampere-turns\n"
     ]
    }
   ],
   "source": [
    "import math\n",
    "#to calculate number of ampere turns\n",
    "l=0.5 #length in m\n",
    "mu=6.5*10**-3 #permeability of iron in henry/m\n",
    "A=2*10**-4 #area of cross-section in m**-4\n",
    "R=l/(mu*A) #reluctance in A-turns/weber\n",
    "flux=4*10**-4 #in weber\n",
    "mmf=flux*R\n",
    "print \"the number of ampere turns is mmf=\",round(mmf,3),\"ampere-turns\"\n"
   ]
  },
  {
   "cell_type": "markdown",
   "metadata": {},
   "source": [
    "## Ex10.6:pg-294"
   ]
  },
  {
   "cell_type": "code",
   "execution_count": 9,
   "metadata": {
    "collapsed": false
   },
   "outputs": [
    {
     "name": "stdout",
     "output_type": "stream",
     "text": [
      "relative permeability of the medium is mur= 375.0 unitless\n"
     ]
    }
   ],
   "source": [
    "import math\n",
    "#to calculate relative permeability of the medium\n",
    "phi=1.5*10**-3 #magnetic flux in weber\n",
    "l=math.pi*50*10**-2 #length in m\n",
    "A=10*10**-4 #area of cross-section\n",
    "N=1000 #number of turns\n",
    "i=5 #current in A\n",
    "muo=4*math.pi*10**-7\n",
    "#phi(magnetic flux)=m.m.f/reluctance\n",
    "#phi=N*i*muo*mur*A/l\n",
    "#we get,\n",
    "mur=phi*l/(N*i*A*muo)\n",
    "print \"relative permeability of the medium is mur=\",mur,\"unitless\"\n"
   ]
  },
  {
   "cell_type": "markdown",
   "metadata": {},
   "source": [
    "## Ex10.7:pg-295"
   ]
  },
  {
   "cell_type": "code",
   "execution_count": 10,
   "metadata": {
    "collapsed": false
   },
   "outputs": [
    {
     "name": "stdout",
     "output_type": "stream",
     "text": [
      "magnetising current is i= 0.274 A\n"
     ]
    }
   ],
   "source": [
    "import math\n",
    "#to calculate magnetising current\n",
    "#formula is phi(magnetic flux)=m.m.f/reluctance\n",
    "#phi=N*i*mu*A/l--------eq(1)\n",
    "#phi=BA------------eq(2)\n",
    "B=0.20 #magnetic flux density in weber/m**2\n",
    "l=1 #average length of the circuit in m \n",
    "N=100 #number of turns\n",
    "mu=7.3*10**-3 #in h.m\n",
    "#from eq(1)and eq(2),we get\n",
    "i=B*l/(N*mu)\n",
    "print \"magnetising current is i=\",round(i,3),\"A\"\n"
   ]
  }
 ],
 "metadata": {
  "kernelspec": {
   "display_name": "Python 2",
   "language": "python",
   "name": "python2"
  },
  "language_info": {
   "codemirror_mode": {
    "name": "ipython",
    "version": 2
   },
   "file_extension": ".py",
   "mimetype": "text/x-python",
   "name": "python",
   "nbconvert_exporter": "python",
   "pygments_lexer": "ipython2",
   "version": "2.7.3"
  }
 },
 "nbformat": 4,
 "nbformat_minor": 0
}
