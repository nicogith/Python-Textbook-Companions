{
 "metadata": {
  "name": ""
 },
 "nbformat": 3,
 "nbformat_minor": 0,
 "worksheets": [
  {
   "cells": [
    {
     "cell_type": "heading",
     "level": 1,
     "metadata": {},
     "source": [
      "Chapter 13:Humidification and water cooling"
     ]
    },
    {
     "cell_type": "heading",
     "level": 2,
     "metadata": {},
     "source": [
      "Example no:13.1,Page no:740"
     ]
    },
    {
     "cell_type": "code",
     "collapsed": false,
     "input": [
      "#Variable declaration\n",
      "P=101.3e3 \n",
      "T=297  \n",
      "R=8314  #gas constant\n",
      "RH=60  #Relative humidity\n",
      "p_b1=12.2e3 #Vapor pressure at 297 K\n",
      "p_b2=6e3  #Vapor pressure at 283 K\n",
      "M_w=78  #molecular weight of benzene\n",
      "M_a=28  #Mass of nitrogen \n",
      "\n",
      "#Calculation\n",
      "#From the definition of percentage relative humidity (RH)\n",
      "P_w=(p_b1)*(RH/100.0) \n",
      "#In the benzene -nitrogen mixture:\n",
      "m_b=P_w*M_w/(R*T) #mass of benzene\n",
      "m_n=(P-P_w)*M_a/(R*T) #mass of nitrogen\n",
      "H=m_b/m_n  #Humidity at 297 K\n",
      "#In order to recover 80 per cent of the benzene, the humidity must be reduced to 20 per cent of the initial value\n",
      "H_o=H*.20 \n",
      "#Thus in equation 13.2\n",
      "P_r=p_b2+(p_b2/M_a*M_w)/H_o \n",
      "\n",
      "#Result\n",
      "print\"\\n The required pressure is =\",round(P_r*1e-3,1),\"kN/m**2\""
     ],
     "language": "python",
     "metadata": {},
     "outputs": [
      {
       "output_type": "stream",
       "stream": "stdout",
       "text": [
        "\n",
        " The required pressure is = 391.2 kN/m**2\n"
       ]
      }
     ],
     "prompt_number": 3
    },
    {
     "cell_type": "heading",
     "level": 2,
     "metadata": {},
     "source": [
      "Example no:13.2,Page no:741"
     ]
    },
    {
     "cell_type": "code",
     "collapsed": false,
     "input": [
      "#Variable declaration\n",
      "P=101.3e3  #Given pressure\n",
      "T=300  #Given Temperature\n",
      "RH=25  #Percentage relative humidity of water \n",
      "P_wo=3.6e3  #partial pressure of water vapour when air is saturated with vapour\n",
      "M_w=18  #Molecular weight of water\n",
      "M_a=29  #Molecular weight of air\n",
      "R=8314  #gas constant\n",
      "\n",
      "\n",
      "#Calculation\n",
      "P_w=P_wo*(RH/100.0) \n",
      "m_w=P_w*M_w/(R*T) #mass of water vapour\n",
      "m_a=(P-P_w)*M_a/(R*T) #mass of water air\n",
      "Vs_w=1/m_w #specific volume of water vapour at 0.9 kN/m**2\n",
      "Vs_a=1/m_a #specific volume of air at 100.4 kN/m**2\n",
      "H=m_w/m_a #Humidity\n",
      "H_v=Vs_a #Humid volume\n",
      "H_p=(P-P_wo)/(P-P_w)*RH  #Percentage humidity\n",
      "\n",
      "#Result\n",
      "print\"(a) The partial pressure of the water vapour in the vessel = \",P_w*1e-3,\"kN/m**2\"\n",
      "print\" b) Specific volume of water vapour =\",round(Vs_w),\"m**3/kg\"\n",
      "print\"    Specific volume of air =\",round(Vs_a,3),\"m**3/kg\" \n",
      "print\"(c) Humidity of air =\",round(H,4),\"kg water/kg air\"\n",
      "print\"    Humid volume =\",round(H_v,3),\"m**3/kg\"\n",
      "print\"(d) Percentage humidity =\",round(H_p,1),\"per cent\""
     ],
     "language": "python",
     "metadata": {},
     "outputs": [
      {
       "output_type": "stream",
       "stream": "stdout",
       "text": [
        "(a) The partial pressure of the water vapour in the vessel =  0.9 kN/m**2\n",
        " b) Specific volume of water vapour = 154.0 m**3/kg\n",
        "    Specific volume of air = 0.857 m**3/kg\n",
        "(c) Humidity of air = 0.0056 kg water/kg air\n",
        "    Humid volume = 0.857 m**3/kg\n",
        "(d) Percentage humidity = 24.3 per cent\n"
       ]
      }
     ],
     "prompt_number": 15
    },
    {
     "cell_type": "heading",
     "level": 2,
     "metadata": {},
     "source": [
      "Example no:13.3,Page no:743"
     ]
    },
    {
     "cell_type": "code",
     "collapsed": false,
     "input": [
      "#Variable declaration\n",
      "T=310.0  #Temperature of moist air\n",
      "T_w=300.0  #Wet bulb tempeature\n",
      "L=2440e3  #Latent heat of vapourisation of water at 300 K\n",
      "P=105e3  #Given total pressure\n",
      "P_wo1=3.6e3  #Vapour pressure of water vapour at 300 K\n",
      "P_wo2=6.33e3  #Vapour pressure of water vapour at 310 K\n",
      "M_w=18.0  #Molecular weight of water\n",
      "M_a=29.0  #Molecular weight of air\n",
      "\n",
      "#Calculation\n",
      "import sympy\n",
      "H_w=(P_wo1/(P-P_wo1))*(M_w/M_a)  #The humidity of air saturated at the wet-bulb temperature\n",
      "#Therefore, taking (h/hD*rho*A) as 1.0 kJ/kg K, in equation 13.8:\n",
      "H=H_w-(1e3/L)*(T-T_w) \n",
      "#In equation 13.2:\n",
      "x=sympy.Symbol('x') \n",
      "P_w=sympy.solve(H*(P-x)*M_a-M_w*x) \n",
      "RH=P_w[0]/P_wo2*100.0 \n",
      "\n",
      "#Result\n",
      "print\"\\n The humidity of the air =\",round(H,3),\"kg/kg\"\n",
      "print\"\\n The percentage relative humidity (RH)=\",round(RH,1),\"per cent\"\n"
     ],
     "language": "python",
     "metadata": {},
     "outputs": [
      {
       "output_type": "stream",
       "stream": "stdout",
       "text": [
        "\n",
        " The humidity of the air = 0.018 kg/kg\n",
        "\n",
        " The percentage relative humidity (RH)= 46.6 per cent\n"
       ]
      }
     ],
     "prompt_number": 19
    },
    {
     "cell_type": "heading",
     "level": 2,
     "metadata": {},
     "source": [
      "Example no:13.4,Page no:749"
     ]
    },
    {
     "cell_type": "code",
     "collapsed": false,
     "input": [
      "#Variable declaration\n",
      "#Refer HUMIDITY ENTHALPY PLOT Figure 13.5 Page 748 as Humidity Chart\n",
      "#According the given passes and situatuion\n",
      "T = [325,301,308,312,315]        #[K]\n",
      "H = [.005,.015,.022,.027,.032]    #[kg/kg]\n",
      "#From Humidity Chart on humidifying to 60 percent humidity\n",
      "Tw = [296,301,305,307]            #[K]\n",
      "\n",
      "#Calculation\n",
      "Hin = H[4]-H[0]            #[kg/kg] Increase in Humidity\n",
      "#From Humitidy Chart at the obtained leaving conditions\n",
      "v = .893         #[m**3/kg] Specific Volume of dry air\n",
      "vs = .968        #[m**3/kg] Specific Volume of Saturated air\n",
      "vh = .937        #[m**3/kg] Humid Volume of air of 60 per cent humidity by Interpolation of Curve in Humidity Chart\n",
      "x = 5        #[m**3/s] Amount of moist air leaves the dryer in (b)\n",
      "m = x/vh        #[kg/s] Mass of air passing through the dryer\n",
      "mw = m*Hin      #  [kg/s] Mass of water evaporated\n",
      "Tb = 370.0            #[K] dry Bulb temperature corresponding to humidity of .005 kg/kg and wet-bulb temperature 307 K\n",
      "\n",
      "#Result\n",
      "print'\\n\\n (a) The temperature of the material on each tray (in Kelvin)'\n",
      "print \"\\t\",Tw,\"K\"\n",
      "print' Thus the air leaving the system is at',T[4],' K and 60 per cent humidity.'\n",
      "print'\\n\\n (b) If 5 m**3/s moist air leaves the dryer, The amount of water removed is',round(mw,3),' kg/s.'\n",
      "print'\\n\\n (c) The Temperature to which the inlet air would have to be raised\\n     to carry out the drying in single stage is',Tb,'K.'\n"
     ],
     "language": "python",
     "metadata": {},
     "outputs": [
      {
       "output_type": "stream",
       "stream": "stdout",
       "text": [
        "\n",
        "\n",
        " (a) The temperature of the material on each tray (in Kelvin)\n",
        "\t[296, 301, 305, 307] K\n",
        " Thus the air leaving the system is at 315  K and 60 per cent humidity.\n",
        "\n",
        "\n",
        " (b) If 5 m**3/s moist air leaves the dryer, The amount of water removed is 0.144  kg/s.\n",
        "\n",
        "\n",
        " (c) The Temperature to which the inlet air would have to be raised\n",
        "     to carry out the drying in single stage is 370.0 K.\n"
       ]
      }
     ],
     "prompt_number": 1
    },
    {
     "cell_type": "heading",
     "level": 2,
     "metadata": {},
     "source": [
      "Example no:13.5,Page no: 753"
     ]
    },
    {
     "cell_type": "code",
     "collapsed": false,
     "input": [
      "#Variable declaration\n",
      "G1=1  #flow rate of air at 350 K\n",
      "PH1=10  #Percentage Humidity at 350 K\n",
      "G2=5  #flow rate of air at 300 K\n",
      "PH2=30  #Percentage Humidity at 300 K\n",
      "#from fig 13.4\n",
      "H1=0.043  #Humidity at 350 K and 10 percent humidity\n",
      "H2=0.0065  #Humidity at 300 K and 30 percent humidity\n",
      "\n",
      "#Calculation\n",
      "import sympy\n",
      "#Thus, in equation 13.23:\n",
      "H=((G1*H1)+(G2*H2))/(G1+G2) \n",
      "#from fig 13.5\n",
      "H_1=192e3 #Entahlpy at 350 K and 10 percent humidity\n",
      "H_2=42e3 #Enthalpy at 300 K and 30 percent humidity\n",
      "x=sympy.Symbol('x') \n",
      "H_=sympy.solve((G1*(x-H_1))-(G2*(H_2-x))) \n",
      "#From Figure 13.5:\n",
      "#at H_ (Enthalpy)= 67 kJ/kg and H(humidity) = 0.0125 kg/kg\n",
      "T=309 \n",
      "\n",
      "#Result\n",
      "print\"\\n Humidity of final stream =\",round(H,4),\"kg/kg\" \n",
      "print\"\\n Entahlpy of the resultant stream =\",round(H_[0]*1e-3),\"kJ/kg\"\n",
      "print\"\\n Temperature of the resultant stream =\",T,\"K\"\n"
     ],
     "language": "python",
     "metadata": {},
     "outputs": [
      {
       "output_type": "stream",
       "stream": "stdout",
       "text": [
        "\n",
        " Humidity of final stream = 0.0126 kg/kg\n",
        "\n",
        " Entahlpy of the resultant stream = 67.0 kJ/kg\n",
        "\n",
        " Temperature of the resultant stream = 309 K\n"
       ]
      }
     ],
     "prompt_number": 1
    },
    {
     "cell_type": "heading",
     "level": 2,
     "metadata": {},
     "source": [
      "Example no:13.6,Page no:755"
     ]
    },
    {
     "cell_type": "code",
     "collapsed": false,
     "input": [
      "#Variable declaration\n",
      "G_s=0.15  #Mass flow rate of steam\n",
      "T=400  #Temperature to which steam is superheated\n",
      "T_a=320 #Tremperature of air \n",
      "RH_a=20  #Percentage relative humidity of air\n",
      "G_a=5 #Mass flow rate of air\n",
      "L=2258e3  #latent heat of steam\n",
      "Cp=2e3  #Specific heat of superheated steam\n",
      "\n",
      "#Calculation\n",
      "#Enthalpy of steam\n",
      "H_3=4.18*(373-273)+L+Cp*(T-373) \n",
      "#From Figure .13.5:\n",
      "#at T=320 K and 20 percent Relative Humidity\n",
      "H1=0.013 #Humidity\n",
      "H_1=83e3 #Enthalpy\n",
      "#By making required constructions we get\n",
      "H=0.043 \n",
      "H_=165e3 \n",
      "T_s=324 \n",
      "#from chart and equation 13.28\n",
      "G_case2=0.41 \n",
      "\n",
      "#Result\n",
      "print\"\\n Relative humidity of stream=\",round(H,3),\"kg/kg\"\n",
      "print\" Entahlpy of stream =\",H_*1e-3,\" kJ/kg\"\n",
      "print\" Temperature of stream =\",T_s,\"K\"\n",
      "print\"\\n\\n When exit temperature = 330 K\"\n",
      "print\" The required flow of steam = \",round(G_case2,2),\" kg/s\"\n",
      "\n"
     ],
     "language": "python",
     "metadata": {},
     "outputs": [
      {
       "output_type": "stream",
       "stream": "stdout",
       "text": [
        "\n",
        " Relative humidity of stream= 0.043 kg/kg\n",
        " Entahlpy of stream = 165.0  kJ/kg\n",
        " Temperature of stream = 324 K\n",
        "\n",
        "\n",
        " When exit temperature = 330 K\n",
        " The required flow of steam =  0.41  kg/s\n"
       ]
      }
     ],
     "prompt_number": 1
    },
    {
     "cell_type": "heading",
     "level": 2,
     "metadata": {},
     "source": [
      "Example 13.7,Page no:761"
     ]
    },
    {
     "cell_type": "code",
     "collapsed": false,
     "input": [
      "#Variable declartaion\n",
      "theta1=300                  #K\n",
      "theta2=320                  #K\n",
      "H=0.2                       #Percent humidity\n",
      "\n",
      "#Calculation\n",
      "#From standard charts(Fig 13.4):\n",
      "H1=0.0045          #Humidity in kg/kg\n",
      "H2=0.0140          #Humidity in kg/kg\n",
      "\n",
      "#Heat the air from 300 to 318 K\n",
      "theta=294.5     #K\n",
      "#H=0.0140   kg/kg\n",
      "\n",
      "#Result\n",
      "print\"Heat the saturated air at H=\",H2,\"kg/kg from\",theta,\"to\",theta2,\"K\"\n"
     ],
     "language": "python",
     "metadata": {},
     "outputs": [
      {
       "output_type": "stream",
       "stream": "stdout",
       "text": [
        "Heat the saturated air at H= 0.014 kg/kg from 294.5 to 320 K\n"
       ]
      }
     ],
     "prompt_number": 2
    },
    {
     "cell_type": "heading",
     "level": 2,
     "metadata": {},
     "source": [
      "Example no 13.8,Page no:766"
     ]
    },
    {
     "cell_type": "code",
     "collapsed": false,
     "input": [
      "#Variable declaration\n",
      "T_water_enter=301.0            #Water entering the tower in [K]\n",
      "T_water_leave=294.0            #Water entering the tower in [K]\n",
      "air_drybulb=287.0              #[K]\n",
      "air_wetbulb=284.0              #[K]\n",
      "m=4810.0                       #[kg/s] Water flow rate\n",
      "\n",
      "\n",
      "#Calculation\n",
      "delta_T=T_water_enter-T_water_leave       #Temperatue range of water\n",
      "T_mean=0.5*(T_water_enter+T_water_leave)  #MEan wate temperature in [K]\n",
      "H_mean=92.6     #kJ/kg\n",
      "H_drybulb=49.5  #kJ/kg\n",
      "delTdash=T_mean-air_drybulb\n",
      "delHdash=H_mean-H_drybulb\n",
      "import math\n",
      "Dt=m/(0.00369*(delHdash/delta_T)*math.sqrt(delTdash+(0.0752*delHdash)))\n",
      "from scipy.optimize import fsolve\n",
      "Ct=5.0\n",
      "h=100.0    #height assumed in [m]\n",
      "Ab=Dt/(19.50*math.sqrt(h)/(Ct**1.5))\n",
      "Id=math.sqrt(round(Ab)*4/math.pi)\n",
      "\n",
      "#Result\n",
      "print \"Thus the internal diameter of the column at sill level,\",round(Id,1),\"m\"\n",
      "print\"Since this gives a height-dia ratio=3:2 the design is aceptable\""
     ],
     "language": "python",
     "metadata": {},
     "outputs": [
      {
       "output_type": "stream",
       "stream": "stdout",
       "text": [
        "Thus the internal diameter of the column at sill level, 64.6 m\n",
        "Since this gives a height-dia ratio=3:2 the design is aceptable\n"
       ]
      }
     ],
     "prompt_number": 1
    },
    {
     "cell_type": "heading",
     "level": 2,
     "metadata": {},
     "source": [
      "Example no:13.9,Page no:775"
     ]
    },
    {
     "cell_type": "code",
     "collapsed": false,
     "input": [
      "#Variable declaration\n",
      "Ti=293         #Inlet temperature in [K]\n",
      "L=2495         #Latent heat of water in kJ/kg\n",
      "flow=0.68      #[m**3/m**2 s] flow of air \n",
      "water_thru=0.26  #Water througput in [kg/m**2 s]\n",
      "Cp_air=1.003   #Specific heat of air in kJ/kg K\n",
      "Cp_wv=2.006  #Sp heat of water vapour\n",
      "wv_in=0.003     #Water vapour in inlet air[kg/kg dry air]\n",
      "wv_in_m=0.005    #kmol/kmol dry air\n",
      "H=0.003\n",
      "hd_a=0.2    #Resistance whole\n",
      "\n",
      "#Calculation\n",
      "Hg1=Cp_air*(Ti-273.0)+H*(L+Cp_wv*(Ti-273.0))  #;kJ/kg]\n",
      "flow=(1.0-wv_in_m)*flow\n",
      "rho=(29.0/22.4)*(273.0/Ti)      #Density of air at 293 K[kg/m**3]\n",
      "G_dash=rho*flow   #[kg/m**s]\n",
      "slope=water_thru*4.18/G_dash\n",
      "theta_l1=293  \n",
      "Hg1=27.67     #kJ/kg\n",
      "import numpy as np\n",
      "Hg=np.array([27.7,30,40,50,60,70,76.5])\n",
      "theta=np.array([293,294.5,302,309,316,323,328])\n",
      "Hf=np.array([57.7,65,98,137,190,265,355])\n",
      "Hf_Hg=Hf-Hg\n",
      "one_Hf_Hg=1.0/(Hf_Hg)\n",
      "%matplotlib inline\n",
      "plot(Hg,one_Hf_Hg)\n",
      "ylabel(\"1/(Hf-Hg)\")\n",
      "xlabel(\"Hg(kJ/kg)\")\n",
      "title(\"Evaluation of the integral of dHg/(Hf-Hg)\")\n",
      "from scipy.integrate import simps, trapz\n",
      "area = simps(Hg,one_Hf_Hg,dx=10)\n",
      "area=0.65\n",
      "#At bottom of the column:\n",
      "delta_H1=Hf[0]-Hg[0]\n",
      "#At the top of the column:\n",
      "delta_H2=Hf[6]-Hg[6]\n",
      "m_water_temp=0.5*(theta[0]+theta[6])\n",
      "Hgm=52\n",
      "Hfm=145\n",
      "del_Hm=93\n",
      "f=0.79\n",
      "intg=(Hg[6]-Hg[0])/(f*del_Hm)\n",
      "z=intg*G_dash/(hd_a*rho)\n",
      "show()\n",
      "\n",
      "#Result\n",
      "print \"Height of packing,z=\",round(z,1),\"m\"\n"
     ],
     "language": "python",
     "metadata": {},
     "outputs": [
      {
       "output_type": "stream",
       "stream": "stdout",
       "text": [
        "Populating the interactive namespace from numpy and matplotlib\n"
       ]
      },
      {
       "output_type": "stream",
       "stream": "stderr",
       "text": [
        "WARNING: pylab import has clobbered these variables: ['f']\n",
        "`%pylab --no-import-all` prevents importing * from pylab and numpy\n"
       ]
      },
      {
       "metadata": {},
       "output_type": "display_data",
       "png": "[encoded data removed]",
       "text": [
        "<matplotlib.figure.Figure at 0x7975048>"
       ]
      },
      {
       "output_type": "stream",
       "stream": "stdout",
       "text": [
        "Height of packing,z= 2.2 m\n"
       ]
      }
     ],
     "prompt_number": 16
    },
    {
     "cell_type": "heading",
     "level": 2,
     "metadata": {},
     "source": [
      "Example no:13.10,Page no:782"
     ]
    },
    {
     "cell_type": "code",
     "collapsed": false,
     "input": [
      "#Variable declaration\n",
      "L_dash=0.25     #n-butanol flow rate\n",
      "Mw=74.0         #Molecular wt of butanol\n",
      "Ma=29.0         #Molecular wt of air\n",
      "hDa=0.1         #Mass transfer  coefficient per unit volume\n",
      "b=2.34          #Psychometric ratio\n",
      "lamda=590       #kJ/kg\n",
      "Cl=2.5          #kJ/kg K\n",
      "s=1.05          #Humid heat of gas in [kJ/kg K]\n",
      "Cp_dry=1.001    #Sp heat of dry air\n",
      "G=0.7            #Vaour rate \n",
      "T=[295,300,305,310,315,320,325,330,335,340,345,350]\n",
      "Pwo=[0.59,0.86,1.27,1.75,2.48,3.32,4.49,5.99,7.89,10.36,14.97,17.5]   #kN/m**2\n",
      "Ho=[0]*12\n",
      "Hf=[0]*12\n",
      "Hf_dash=[0]*12\n",
      "\n",
      "#Calculation\n",
      "lamda_dash=lamda/b\n",
      "print\"______________________________\"\n",
      "print\"T\\tHo\\tHf\\tHf`\"\n",
      "print\"_______________________________\"\n",
      "for i in range(0,12):\n",
      "    Ho[i]=Pwo[i]/(101.3-Pwo[i])*(74/29.0)\n",
      "    Hf[i]=(1/(1+Ho[i]))*Cp_dry*(T[i]-273.0)+Ho[i]*(Cl*(T[i]-273.0)+lamda)\n",
      "    Hf_dash[i]=Cp_dry*(T[i]-273.27)/(1+Ho[i])+Ho[i]*(Cl*(T[i]-273.0)+lamda_dash)\n",
      "    print T[i],\"\\t\",round(Ho[i],4),\"\\t\",round(Hf[i],2),\"\\t\",round(Hf_dash[i],2)\n",
      "%matplotlib inline\n",
      "plot(T,Hf)\n",
      "plot(T,Hf_dash)\n",
      "xlim(285,340)\n",
      "ylim(0,200)\n",
      "theta_l1=T[0]\n",
      "Hg1=s*(290.0-273.0)\n",
      "Hg1=round(Hg1,1)\n",
      "rho_air=(Ma/22.4)*(273/310.0)\n",
      "G_dash=G*rho_air\n",
      "slope=L_dash*Cl/G_dash\n",
      "theta_l2=T[7]\n",
      "Hg2=46     #kJ/kg\n",
      "#y=mx+c\n",
      "c=Hg2-slope*theta_l2\n",
      "plot([theta_l1,theta_l2],[Hg1,Hg2])\n",
      "xlabel(\"Temperature(K)\")\n",
      "ylabel(\"Enthalpy(kJ/kg)\")\n",
      "title(\"Graphical construction\")\n",
      "Hg1_dash=(Hg1+(b-1)*s*(290.0-273.0))/b       #[kJ/kg]\n",
      "slp=-3*s\n",
      "theta_f1=293.0\n",
      "import numpy as np\n",
      "Hf_dash1=np.array([23.9,29.0,35.3,42.1,50.0,57.9,66.7,75.8])\n",
      "Hg_dash=np.array([17.9,22.0,26.0,30.0,34.0,38.1,42.0,46.0])\n",
      "Hfd_Hg=Hf_dash1-Hg_dash\n",
      "HfHG=1/(Hfd_Hg)\n",
      "mean=[0]*7\n",
      "interval=[0]*7\n",
      "value=[0]*7\n",
      "summ=0\n",
      "show()\n",
      "print\"____________________________________________________________________\"\n",
      "print\"Mean value in interval\\t\\tInterval\\tValue of integral\"\n",
      "print\"____________________________________________________________________\"\n",
      "for i in range(0,7):\n",
      "    mean[i]=(HfHG[i]+HfHG[i+1])/2.0\n",
      "    interval[i]=Hg_dash[i+1]-Hg_dash[i]\n",
      "    value[i]=mean[i]*interval[i]\n",
      "    summ=summ+value[i]\n",
      "    print round(mean[i],3),\"\\t\\t\\t\\t\",interval[i],\"\\t\\t\\t\",round(value[i],3),\"\\t\"\n",
      "z=G_dash*summ/(b*hDa)\n",
      "print\"Value of integral=\",round(summ,3)\n",
      "#Result\n",
      "print \"\\n\\n\\nHeight=\",round(z,1),\"m\"\n",
      "print\"The final point is given by theta=\",308,\"K\"\n",
      "print\"NOTE:For 2nd part,calculation can't be done on python,it is drawn geometrically\""
     ],
     "language": "python",
     "metadata": {},
     "outputs": [
      {
       "output_type": "stream",
       "stream": "stdout",
       "text": [
        "______________________________\n",
        "T\tHo\tHf\tHf`\n",
        "_______________________________\n",
        "295 \t0.0149 \t31.34 \t26.02\n",
        "300 \t0.0218 \t40.81 \t33.17\n",
        "305 \t0.0324 \t52.73 \t41.53\n",
        "310 \t0.0449 \t66.06 \t50.65\n",
        "315 \t0.064 \t84.02 \t62.13\n",
        "320 \t0.0865 \t104.48 \t75.01\n",
        "325 \t0.1183 \t131.75 \t91.53\n",
        "330 \t0.1604 \t166.64 \t112.23\n",
        "335 \t0.2155 \t211.63 \t138.59\n",
        "340 \t0.2907 \t272.16 \t173.74\n",
        "345 \t0.4425 \t390.67 \t240.99\n",
        "350 \t0.5329 \t467.26 \t287.04\n",
        "Populating the interactive namespace from numpy and matplotlib\n"
       ]
      },
      {
       "output_type": "stream",
       "stream": "stderr",
       "text": [
        "WARNING: pylab import has clobbered these variables: ['mean']\n",
        "`%pylab --no-import-all` prevents importing * from pylab and numpy\n"
       ]
      },
      {
       "metadata": {},
       "output_type": "display_data",
       "png": "[encoded data removed]",
       "text": [
        "<matplotlib.figure.Figure at 0x5797cf8>"
       ]
      },
      {
       "output_type": "stream",
       "stream": "stdout",
       "text": [
        "____________________________________________________________________\n",
        "Mean value in interval\t\tInterval\tValue of integral\n",
        "____________________________________________________________________\n",
        "0.155 \t\t\t\t4.1 \t\t\t0.635 \t\n",
        "0.125 \t\t\t\t4.0 \t\t\t0.501 \t\n",
        "0.095 \t\t\t\t4.0 \t\t\t0.38 \t\n",
        "0.073 \t\t\t\t4.0 \t\t\t0.29 \t\n",
        "0.057 \t\t\t\t4.1 \t\t\t0.232 \t\n",
        "0.045 \t\t\t\t3.9 \t\t\t0.177 \t\n",
        "0.037 \t\t\t\t4.0 \t\t\t0.148 \t\n",
        "Value of integral= 2.363\n",
        "\n",
        "\n",
        "\n",
        "Height= 8.1 m\n",
        "The final point is given by theta= 308 K\n",
        "NOTE:For 2nd part,calculation can't be done on python,it is drawn geometrically\n"
       ]
      }
     ],
     "prompt_number": 2
    },
    {
     "cell_type": "code",
     "collapsed": false,
     "input": [],
     "language": "python",
     "metadata": {},
     "outputs": []
    }
   ],
   "metadata": {}
  }
 ]
}