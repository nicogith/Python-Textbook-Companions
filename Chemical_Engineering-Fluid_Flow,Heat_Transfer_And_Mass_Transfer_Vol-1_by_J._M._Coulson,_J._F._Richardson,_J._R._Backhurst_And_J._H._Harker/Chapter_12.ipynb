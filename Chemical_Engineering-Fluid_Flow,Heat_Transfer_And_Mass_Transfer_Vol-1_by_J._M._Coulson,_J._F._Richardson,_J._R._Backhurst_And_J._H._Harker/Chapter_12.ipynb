{
 "metadata": {
  "name": ""
 },
 "nbformat": 3,
 "nbformat_minor": 0,
 "worksheets": [
  {
   "cells": [
    {
     "cell_type": "heading",
     "level": 1,
     "metadata": {},
     "source": [
      "Chapter 12:Momentum,Heat and MAss Transfer"
     ]
    },
    {
     "cell_type": "heading",
     "level": 2,
     "metadata": {},
     "source": [
      "Example no:12.1,Page no:714"
     ]
    },
    {
     "cell_type": "code",
     "collapsed": false,
     "input": [
      "#Variable declaration\n",
      "d=250e-3  #internal diameter of pipe\n",
      "u=15  #Velocity of air through the pipe\n",
      "y1=50e-3  #First point where velocity is to be found out\n",
      "y2=5e-3  #Second point where velocity is to be found out\n",
      "rho_air=1.10  #Density of air\n",
      "Meu_air=20e-6  #Viscosity of air\n",
      "\n",
      "#Calculation\n",
      "import math\n",
      "Re=d*u*rho_air/Meu_air \n",
      "#Hence, from Figure 3.7: X=R/(rho*u**2)=0.0018\n",
      "X=0.0018 \n",
      "u_s=u/0.817 \n",
      "u_star=u*X**0.5 \n",
      "#At 50 mm from the wall:\n",
      "y1_r=2*y1/d # y/r\n",
      "#Hence, from equation 12.34:\n",
      "u_x1=u_s+2.5*u_star*math.log(y1_r) \n",
      "#At 5 mm from the wall:\n",
      "y2_r=2*y2/d # y/r\n",
      "#Hence, from equation 12.34:\n",
      "u_x2=u_s+2.5*u_star*math.log(y2_r) \n",
      "#The thickness of the laminar sub-layer is given by equation 12.54:\n",
      "del_b=5*d/(Re*X**0.5) \n",
      "\n",
      "#Result\n",
      "print\"\\n The fluid velocity at 50 mm from the wall =\",round(u_x1,1),\"m/s\" \n",
      "print\"\\n The fluid velocity at 5 mm from the wall =\",round(u_x2,1),\"m/s\" \n",
      "print\"\\n The thickness of the laminar sub-layer =\",round(del_b*1e3,3),\"mm\""
     ],
     "language": "python",
     "metadata": {},
     "outputs": [
      {
       "output_type": "stream",
       "stream": "stdout",
       "text": [
        "\n",
        " The fluid velocity at 50 mm from the wall = 16.9 m/s\n",
        "\n",
        " The fluid velocity at 5 mm from the wall = 13.2 m/s\n",
        "\n",
        " The thickness of the laminar sub-layer = 0.143 mm\n"
       ]
      }
     ],
     "prompt_number": 3
    },
    {
     "cell_type": "heading",
     "level": 2,
     "metadata": {},
     "source": [
      "Example no:12.2,Page no:722"
     ]
    },
    {
     "cell_type": "code",
     "collapsed": false,
     "input": [
      "#Variable declaration\n",
      "u=10  #Velocity of air\n",
      "T=330  #Temperature of air\n",
      "d=25e-3  #Inner diameter of pipe\n",
      "T_p=415  #Temperature at which the pipe is maintained\n",
      "DP_l=80  #Drop of static pressure along the pipe per unit length\n",
      "\n",
      "import math\n",
      "#From equations 12.98 and 3.18:\n",
      "#we get h=0.05*Cp\n",
      "#The heat taken up per unit time by the air dQ=0.0052*Cp*dT......(i)\n",
      "#The heat transferred through the pipe wall is also given by: = 0.039*Cp*(415-T)......(ii)\n",
      "#Equating (i) & (ii)\n",
      "#On integrating we get\n",
      "T_0=415-(85/math.exp(0.45))\n",
      "print\"\\n The required air Temperature =%d\"%T_0,\"K\"\n"
     ],
     "language": "python",
     "metadata": {},
     "outputs": [
      {
       "output_type": "stream",
       "stream": "stdout",
       "text": [
        "\n",
        " The required air Temperature =360 K\n"
       ]
      }
     ],
     "prompt_number": 6
    },
    {
     "cell_type": "heading",
     "level": 2,
     "metadata": {},
     "source": [
      "Example no:12.2,Page no:732"
     ]
    },
    {
     "cell_type": "code",
     "collapsed": false,
     "input": [
      "#Variable declaration\n",
      "u=0.5     #m/s\n",
      "l=20.0/1000.0        #m lemngth of tube\n",
      "mu=10**-3\n",
      "rho=1000.0     #kg/m**3\n",
      "Sc=2330.0\n",
      "#Calculation\n",
      "Re=l*u*rho/mu\n",
      "Hd=u*0.032*Re**(-1/4.0)*(1+2.0*(Sc-1)*Re**(-1/8.0))**-1\n",
      "\n",
      "#result\n",
      "print\"Mass Transfer coefficient is: %.3e\"%Hd,\"kmol/m**2 s= %.3e\"%Hd,\"m/s\""
     ],
     "language": "python",
     "metadata": {},
     "outputs": [
      {
       "output_type": "stream",
       "stream": "stdout",
       "text": [
        "Mass Transfer coefficient is: 1.085e-06 kmol/m**2 s= 1.085e-06 m/s\n"
       ]
      }
     ],
     "prompt_number": 5
    },
    {
     "cell_type": "heading",
     "level": 2,
     "metadata": {},
     "source": [
      "Example no:12.3,Page no:733"
     ]
    },
    {
     "cell_type": "code",
     "collapsed": false,
     "input": [
      "#Variable declaration\n",
      "u=3.5  #Velocity of water\n",
      "d=25e-3  #Diameter of the pipe\n",
      "l=6  #Length of the pipe\n",
      "T1=300  #Temperature at enterance\n",
      "T2=330  #Temperature at exit\n",
      "rho=1000  #density of water at 310 K\n",
      "Meu=0.7e-3  #Viscosity of water at 310 K\n",
      "#Taking the fluid properties at 310 K and assuming that fully developed flow exists\n",
      "Cp=4.18e3  #heat capapcity\n",
      "k=0.65  #Thermal conductivity\n",
      "\n",
      "\n",
      "#Calculation\n",
      "Re=d*u*rho/Meu \n",
      "Pr=Cp*Meu/k \n",
      "import math\n",
      "h1=0.032*(Re**-0.25)*Cp*rho*u #....Equation 12.139\n",
      "# on solving we get final equation as\n",
      "theta_dash1=330-10**(math.log10(30)-(0.0654*h1*1e-3/2.303)) \n",
      "h2=0.032*(Re**-0.25)*(1+2*Re**(-1.0/8.0)*(Pr-1))**-1*Cp*rho*u \n",
      "# on solving we get final equation as\n",
      "theta_dash2=330-10**(math.log10(30)-(0.0654*h2*1e-3/2.303)) #....Equation 12.140\n",
      "h3=0.032*(Re**-0.25)*(1+0.82*Re**(-1.0/8.0)*((Pr-1)+math.log(0.83*Pr+0.17)))**-1*Cp*rho*u #...equation 12.141\n",
      "# on solving we get final equation as\n",
      "theta_dash3=330-10**(math.log10(30)-(0.0654*h3*1e-3/2.303)) \n",
      "h4=k/d*0.023*Re**0.8*Pr**0.33 \n",
      "# on solving we get final equation as\n",
      "theta_dash4=330-10**(math.log10(30)-(0.0654*h4*1e-3/2.303)) \n",
      "\n",
      "#Result\n",
      "print\"\\n (a) Reynolds analogy\"\n",
      "print\"\\n The outlet temperature =\",round(theta_dash1,1),\"K\"\n",
      "print\"\\n\\n (b) Taylor Prandtl Equation\"\n",
      "print\"\\n The outlet temperature =\",round(theta_dash2,1),\"K\"\n",
      "print\"\\n\\n (c) Universal velocity profile equation\"\n",
      "print\"\\n The outlet temperature =\",round(theta_dash3,1),\"K\"\n",
      "print\"\\n\\n (d) Nu=0.023*Re**0.8*Pr**0.33\"\n",
      "print\"\\n The outlet temperature = %d\"%theta_dash4,\"K\"\n"
     ],
     "language": "python",
     "metadata": {},
     "outputs": [
      {
       "output_type": "stream",
       "stream": "stdout",
       "text": [
        "\n",
        " (a) Reynolds analogy\n",
        "\n",
        " The outlet temperature = 324.1 K\n",
        "\n",
        "\n",
        " (b) Taylor Prandtl Equation\n",
        "\n",
        " The outlet temperature = 313.9 K\n",
        "\n",
        "\n",
        " (c) Universal velocity profile equation\n",
        "\n",
        " The outlet temperature = 317.2 K\n",
        "\n",
        "\n",
        " (d) Nu=0.023*Re**0.8*Pr**0.33\n",
        "\n",
        " The outlet temperature = 316 K\n"
       ]
      }
     ],
     "prompt_number": 6
    },
    {
     "cell_type": "heading",
     "level": 2,
     "metadata": {},
     "source": [
      "Example no:12.4,Page no:734"
     ]
    },
    {
     "cell_type": "code",
     "collapsed": false,
     "input": [
      "#Variable declaration\n",
      "u=3.5  #Velocity of air\n",
      "d=25e-3  #Diameter of the pipe\n",
      "l=6  #Length of the pipe\n",
      "T1=290  #Temperature at enterance\n",
      "T2=350  #Temperature at exit\n",
      "rho=29/22.4*273/310  #density of air at 310 K\n",
      "Meu=0.018e-3  #Viscosity of air at 310 K\n",
      "#Taking the physical properties at 310 K and assuming that fully developed flow exists\n",
      "Cp=1.003e3  #heat capapcity\n",
      "k=0.024  #Thermal conductivity\n",
      "\n",
      "\n",
      "#Calculation\n",
      "import math\n",
      "Re=d*u*rho/Meu \n",
      "Pr=Cp*Meu/k \n",
      "h1=0.032*(Re**-0.25)*Cp*rho*u #....Equation 12.139\n",
      "# on solving we get final equation as\n",
      "theta_dash1=350-10**(math.log10(60)-(239.88*h1*1e-3/2.303)) \n",
      "h2=0.032*(Re**-0.25)*(1+2*Re**(-1.0/8.0)*(Pr-1))**-1*Cp*rho*u \n",
      "# on solving we get final equation as\n",
      "theta_dash2=350-10**(math.log10(60)-(239.88*h2*1e-3/2.303)) #....Equation 12.140\n",
      "h3=0.032*(Re**-0.25)*(1+0.82*Re**(-1.0/8.0)*((Pr-1)+math.log(0.83*Pr+0.17)))**-1*Cp*rho*u #...equation 12.141\n",
      "# on solving we get final equation as\n",
      "theta_dash3=350-10**(math.log10(60.0)-(239.88*h3*1e-3/2.303)) \n",
      "h4=k/d*0.023*Re**0.8*Pr**0.33 \n",
      "# on solving we get final equation as\n",
      "theta_dash4=350-10**(math.log10(60)-(239.88*h4*1e-3/2.303)) \n",
      "print\"\\n (a) Reynolds analogy\"\n",
      "print\"\\n The outlet temperature =\",round(theta_dash1,1),\"K\"\n",
      "print\"\\n\\n (b) Taylor Prandtl Equation\"\n",
      "print\"\\n The outlet temperature =\",round(theta_dash2),\"K\"\n",
      "print\"\\n\\n (c) Universal velocity profile equation\"\n",
      "print\"\\n The outlet temperature = \",round(theta_dash3,1),\"K\"\n",
      "print\"\\n\\n (d) Nu=0.023*Re**0.8*Pr**0.33\"\n",
      "print\"\\n The outlet temperature =\",round(theta_dash4,1),\"K\"\n"
     ],
     "language": "python",
     "metadata": {},
     "outputs": [
      {
       "output_type": "stream",
       "stream": "stdout",
       "text": [
        "\n",
        " (a) Reynolds analogy\n",
        "\n",
        " The outlet temperature = 348.3 K\n",
        "\n",
        "\n",
        " (b) Taylor Prandtl Equation\n",
        "\n",
        " The outlet temperature = 349.0 K\n",
        "\n",
        "\n",
        " (c) Universal velocity profile equation\n",
        "\n",
        " The outlet temperature =  349.0 K\n",
        "\n",
        "\n",
        " (d) Nu=0.023*Re**0.8*Pr**0.33\n",
        "\n",
        " The outlet temperature = 349.5 K\n"
       ]
      }
     ],
     "prompt_number": 2
    }
   ],
   "metadata": {}
  }
 ]
}