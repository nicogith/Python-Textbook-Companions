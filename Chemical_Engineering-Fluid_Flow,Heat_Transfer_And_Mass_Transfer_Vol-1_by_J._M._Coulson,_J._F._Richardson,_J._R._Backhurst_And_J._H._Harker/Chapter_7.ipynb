{
 "metadata": {
  "name": ""
 },
 "nbformat": 3,
 "nbformat_minor": 0,
 "worksheets": [
  {
   "cells": [
    {
     "cell_type": "heading",
     "level": 1,
     "metadata": {},
     "source": [
      "Chapter 7:Liquid Mixing"
     ]
    },
    {
     "cell_type": "heading",
     "level": 2,
     "metadata": {},
     "source": [
      "Example no:7.2,Page no:286"
     ]
    },
    {
     "cell_type": "code",
     "collapsed": false,
     "input": [
      "#Variable declaration\n",
      "rho_sol=1650                   #Density of the solution\n",
      "Meu_sol=50e-3                  #Viscosity of the solution\n",
      "Dt=2.28                        #Density of the tank\n",
      "D=0.5                          #Diameter of the propeller mixer\n",
      "H=2.28                         #Liquid depth\n",
      "Za=0.5                         #Height of the propeller\n",
      "N=2                            #Rotational speed\n",
      "\n",
      "#Calculation\n",
      "Re=D**2*N*rho_sol/(Meu_sol) \n",
      "Fr=N**2*D/9.81 \n",
      "#From figure 7.6\n",
      "Np=0.5 \n",
      "P=Np*rho_sol*N**3*D**5 \n",
      "\n",
      "#Result\n",
      "print\"Power provided by propeller to the liquid =\",round(P),\"W\""
     ],
     "language": "python",
     "metadata": {},
     "outputs": [
      {
       "output_type": "stream",
       "stream": "stdout",
       "text": [
        "Power provided by propeller to the liquid = 206.0 W\n"
       ]
      }
     ],
     "prompt_number": 3
    },
    {
     "cell_type": "heading",
     "level": 2,
     "metadata": {},
     "source": [
      "Example no:7.3,Page no:286"
     ]
    },
    {
     "cell_type": "code",
     "collapsed": false,
     "input": [
      "#Variable declaration\n",
      "d=0.6 #tank diameter\n",
      "N1=4.0 #Rotor dpeed in Hertz\n",
      "P1=0.15 #Power consumption\n",
      "Re1=160000 #Reynold's number\n",
      "D1=d/3.0 \n",
      "\n",
      "#Calculation\n",
      "import math\n",
      "D2=6*D1 \n",
      "N2=math.pi*N1*D1/(math.pi*D2) \n",
      "P2=7.32*N2**3*D2**5 \n",
      "#For thermal similarity, that is the same temperature in both systems:\n",
      "Re2=Re1*(N2*D2**2/(N1*D1**2)) \n",
      "V2=(math.pi/4.0)*(6*d)**3 \n",
      "P=V2*0.884 \n",
      "N=(P/(7.32*(6*0.6/3.0)**5))**(1.0/3.0) \n",
      "Re=Re1*(N*D2**2/(N1*D1**2)) \n",
      "\n",
      "#Result\n",
      "print\"The new rotor speed =\",round(N2,2),\"Hz\"\n",
      "print\"The new power required =\",round(P2,2),\"kW\" \n",
      "print\"The new reynolds number =\",Re2\n",
      "print\"\\n\\n For Constant power input per unit volume:\"\n",
      "print\"The new power required =\",round(P,1),\"kW\" \n",
      "print\"The new rotor speed =\",round(N,2),\"Hz\" \n",
      "print\"The new reynolds number =%d\"%Re\n",
      "\n",
      "print\"NOTE:Wrong values of Reynolds numbers in book\""
     ],
     "language": "python",
     "metadata": {},
     "outputs": [
      {
       "output_type": "stream",
       "stream": "stdout",
       "text": [
        "The new rotor speed = 0.67 Hz\n",
        "The new power required = 5.4 kW\n",
        "The new reynolds number = 960000.0\n",
        "\n",
        "\n",
        " For Constant power input per unit volume:\n",
        "The new power required = 32.4 kW\n",
        "The new rotor speed = 1.21 Hz\n",
        "The new reynolds number =1744643\n",
        "NOTE:Wrong values of Reynolds numbers in book\n"
       ]
      }
     ],
     "prompt_number": 27
    }
   ],
   "metadata": {}
  }
 ]
}