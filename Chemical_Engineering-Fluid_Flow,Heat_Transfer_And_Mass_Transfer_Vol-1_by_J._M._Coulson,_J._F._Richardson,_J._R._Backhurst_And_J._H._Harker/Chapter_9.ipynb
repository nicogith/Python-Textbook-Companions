{
 "metadata": {
  "name": ""
 },
 "nbformat": 3,
 "nbformat_minor": 0,
 "worksheets": [
  {
   "cells": [
    {
     "cell_type": "heading",
     "level": 1,
     "metadata": {},
     "source": [
      "Chapter 9:Heat Transfer"
     ]
    },
    {
     "cell_type": "heading",
     "level": 2,
     "metadata": {},
     "source": [
      "Example no:9.1,Page no:386"
     ]
    },
    {
     "cell_type": "code",
     "collapsed": false,
     "input": [
      "#Variable declaration\n",
      "M_dot1=20  #rate of mass to be cooled\n",
      "M_dot2=25  #rate of cooling water\n",
      "Cp=4.18e3  #Heat capacity\n",
      "T1=360  #Initial temp.\n",
      "T2=340  #Final temp.\n",
      "theta_1=300  #Temperature of cooing water entering\n",
      "U=2e3  #Overall heat transfer coefficient\n",
      "\n",
      "#Calculation\n",
      "import sympy\n",
      "import math\n",
      "Q=M_dot1*Cp*(T1-T2)  #Heat load\n",
      "x=sympy.Symbol('x') \n",
      "theta_2=sympy.solve(Q-(M_dot2*Cp*(x-300)))\n",
      "theta_m1=((T1-theta_2[0])-(T2-theta_1))/(math.log((T1-theta_2[0])/(T2-theta_1))) \n",
      "A1=Q/(U*theta_m1)\n",
      "theta_m2=((T1-theta_1)-(T2-theta_2[0]))/(math.log((T1-theta_1)/(T2-theta_2[0]))) \n",
      "A2=Q/(U*theta_m2)\n",
      "\n",
      "#Result\n",
      "print\"(a).In counter flow,The surface area required\",round(A1,2),\"m**2\"\n",
      "print\"(b).In cocurrent flow,The surface area required\",round(A2,2),\"m**2\"\n"
     ],
     "language": "python",
     "metadata": {},
     "outputs": [
      {
       "output_type": "stream",
       "stream": "stdout",
       "text": [
        "(a).In counter flow,The surface area required 19.92 m**2\n",
        "(b).In cocurrent flow,The surface area required 21.28 m**2\n"
       ]
      }
     ],
     "prompt_number": 11
    },
    {
     "cell_type": "heading",
     "level": 2,
     "metadata": {},
     "source": [
      "Example no:9.2,Page no:390"
     ]
    },
    {
     "cell_type": "code",
     "collapsed": false,
     "input": [
      "#Variable declaration\n",
      "dx=0.5  #Thickness of wall\n",
      "T1=400  #Temperartue of inner surface\n",
      "T2=300  #Temperature of outer surface\n",
      "K=0.7  #Thermal conductivity\n",
      "A=1  #Area of heat transfer\n",
      "\n",
      "#Calculation\n",
      "#From equation 9.12:\n",
      "Q=K*A*(T1-T2)/dx \n",
      "\n",
      "#Result\n",
      "print\"The heat loss per square metre of surface =\",Q,\"W/m**2\""
     ],
     "language": "python",
     "metadata": {},
     "outputs": [
      {
       "output_type": "stream",
       "stream": "stdout",
       "text": [
        "The heat loss per square metre of surface = 140.0 W/m**2\n"
       ]
      }
     ],
     "prompt_number": 12
    },
    {
     "cell_type": "heading",
     "level": 2,
     "metadata": {},
     "source": [
      "Example no:9.3,Page no:391"
     ]
    },
    {
     "cell_type": "code",
     "collapsed": false,
     "input": [
      "#Variable declaration\n",
      "dx1=0.20  #thickness of firebrick\n",
      "dx2=0.10  #thickness of insulating brick\n",
      "dx3=0.20  #thickness of building brick\n",
      "k1=1.4  #Thermal conductivity of firebrick\n",
      "k2=0.21  #Thermal conductivity of insulating brick\n",
      "k3=0.7  #Thermal conductivity of building brick\n",
      "T1=1200  #Temperature at junction 1\n",
      "T4=330  #Temperature at junction 4\n",
      "\n",
      "#Calculation\n",
      "Q=(T1-T4)/((dx1/k1)+(dx2/k2)+(dx3/k3)) \n",
      "#The ratio (Temperature drop over firebrick)/(Total temperature drop)\n",
      "R=(dx1/k1)/((dx1/k1)+(dx2/k2)+(dx3/k3)) \n",
      "#Temperature drop over firebrick \n",
      "dT=(T1-T4)*R \n",
      "T2=(T1-dT) \n",
      "\n",
      "#Result\n",
      "print\"\\n Heat loss per unit area =%d\"%Q,\"W/m**2\"\n",
      "print\"\\n Temperature drop over firebrick =%d\"%dT,\"K\"\n",
      "print\"\\n The temperature at the firebrick-insulating brick interface =\",round(T2),\"K\""
     ],
     "language": "python",
     "metadata": {},
     "outputs": [
      {
       "output_type": "stream",
       "stream": "stdout",
       "text": [
        "\n",
        " Heat loss per unit area =961 W/m**2\n",
        "\n",
        " Temperature drop over firebrick =137 K\n",
        "\n",
        " The temperature at the firebrick-insulating brick interface = 1063.0 K\n"
       ]
      }
     ],
     "prompt_number": 16
    },
    {
     "cell_type": "heading",
     "level": 2,
     "metadata": {},
     "source": [
      "Example no:9.4,Page no:398"
     ]
    },
    {
     "cell_type": "code",
     "collapsed": false,
     "input": [
      "#Variable declaration\n",
      "T=295  #initial temperature of surfaces\n",
      "T2f=375  #Final temperature of far surface\n",
      "dT1=900  #Temperature of near face raised\n",
      "\n",
      "#Calculation\n",
      "import sympy\n",
      "R=(T2f-T)/(2*(dT1-T))  #ratio of theta to twice of theta dash\n",
      "x=sympy.Symbol('x') \n",
      "t=sympy.solve((1.30**2*x)-346**2) \n",
      "\n",
      "#Result\n",
      "print\"Time taken to rise from 295 to 375 K =\",round(t[0]/3600,1),\"h\""
     ],
     "language": "python",
     "metadata": {},
     "outputs": [
      {
       "output_type": "stream",
       "stream": "stdout",
       "text": [
        "Time taken to rise from 295 to 375 K = 19.7 h\n"
       ]
      }
     ],
     "prompt_number": 19
    },
    {
     "cell_type": "heading",
     "level": 2,
     "metadata": {},
     "source": [
      "Example no:9.5,Page no:400"
     ]
    },
    {
     "cell_type": "code",
     "collapsed": false,
     "input": [
      "#Variable declaration\n",
      "T=295  #initial temperature of surfaces\n",
      "T2f=375  #Final temperature of far surface\n",
      "dT1=900  #Temperature of near face raised\n",
      "DH=4.2e-7  #Thermal diffusivity\n",
      "#The development of the temperature profile is shown in Figure 9.12\n",
      "#The problem will be solved by taking relatively large intervals for dx.\n",
      "#Choosing dx = 50 mm, the construction shown in Figure 9.12\n",
      "dx=50e-3 \n",
      "#Because the second face is perfectly insulated, the temperature gradient must\n",
      "# be zero at this point.\n",
      "#It is seen that the temperature is\n",
      "#less than 375 K after time 23dt and greater than 375 K after time 25dt\n",
      "#Thus:\n",
      "#t=24*dt\n",
      "#from equation 9.43\n",
      "dt=dx**2/(2*DH) \n",
      "t=24*dt \n",
      "\n",
      "#Result\n",
      "print\"\\n The time taken to rise from 295 to 375 K =\",round(t/3600.0,1),\"h\""
     ],
     "language": "python",
     "metadata": {},
     "outputs": [
      {
       "output_type": "stream",
       "stream": "stdout",
       "text": [
        "\n",
        " The time taken to rise from 295 to 375 K = 19.8 h\n"
       ]
      }
     ],
     "prompt_number": 22
    },
    {
     "cell_type": "heading",
     "level": 2,
     "metadata": {},
     "source": [
      "Example no:9.6,Page no:403"
     ]
    },
    {
     "cell_type": "code",
     "collapsed": false,
     "input": [
      "#Variable declaration\n",
      "d=25e-3  #Diameter of copper sphere\n",
      "l=25e-3  #Side length of a copper cube\n",
      "h=75  #External heat transfer coefficient\n",
      "rho_cu=8950  #Density of copper at mean temperature\n",
      "Cp=0.38e3  #Heat capacity of copper at mean temperature\n",
      "k=385  # Thermal conductivity of copper at mean temperature\n",
      "Tf=923  #Temperature of the furnace\n",
      "Ta=368  #Temperature at which they are annealed\n",
      "t=5*60  # time taken\n",
      "\n",
      "#Calculation\n",
      "import math\n",
      "import sympy\n",
      "V_Ae_S=(d/6.0)  #V/Ae tor the sphere\n",
      "V_Ae_C=(l/6.0)  #V/Ae tor the cube\n",
      "Bi=h*(V_Ae_S)/k \n",
      "#The use of a lumped capacity method is therefore justified\n",
      "tao=rho_cu*Cp*V_Ae_S/h \n",
      "x=sympy.Symbol('x') \n",
      "T=sympy.solve(((x-Ta)/(Tf-Ta))-math.exp(-t/tao)) \n",
      "\n",
      "#Result\n",
      "print\"Temperature of the sphere and of the cube at the end of 5 minutes =%d\"%(T[0]-273),\"C\""
     ],
     "language": "python",
     "metadata": {},
     "outputs": [
      {
       "output_type": "stream",
       "stream": "stdout",
       "text": [
        "Temperature of the sphere and of the cube at the end of 5 minutes =208 C\n"
       ]
      }
     ],
     "prompt_number": 28
    },
    {
     "cell_type": "heading",
     "level": 2,
     "metadata": {},
     "source": [
      "Example no:9.7,Page no:409"
     ]
    },
    {
     "cell_type": "code",
     "collapsed": false,
     "input": [
      "#Variable declaration\n",
      "k=2.5  #Thermal conductivity\n",
      "DH=2e-7 #Thermal diffusivity of the surrounding fluid\n",
      "h=100  #External heat transfer coefficient\n",
      "To=293  #Initial Temperature\n",
      "T_dash=373  #Oven Temperture\n",
      "Tc=353  #temperature throughout the whole of the sheet reaches a minimum\n",
      "l=10e-3  #thickness of sheet\n",
      "L=l/2 \n",
      "\n",
      "\n",
      "#Calculation\n",
      "#For the given process, the Biot number\n",
      "Bi=h*L/k \n",
      "Bi_1=1/Bi \n",
      "lim_val=(T_dash-Tc)/(T_dash-To) \n",
      "#From Figure 9.17, the Fourier number\n",
      "Fo=7.7  \n",
      "t=Fo*L**2/DH\n",
      "\n",
      "#Result\n",
      "print\"The minimum time for which the sheet must be heated =%d\"%(t/60.0),\"min\""
     ],
     "language": "python",
     "metadata": {},
     "outputs": [
      {
       "output_type": "stream",
       "stream": "stdout",
       "text": [
        "The minimum time for which the sheet must be heated =16 min\n"
       ]
      }
     ],
     "prompt_number": 32
    },
    {
     "cell_type": "heading",
     "level": 2,
     "metadata": {},
     "source": [
      "Example no:9.8,Page no:413"
     ]
    },
    {
     "cell_type": "code",
     "collapsed": false,
     "input": [
      "#Variable declaration\n",
      "l=5 #Length of the channel of uranium reactor\n",
      "Q=.25e6  #Heat release from uranium reactor\n",
      "k=33  #Thermal conductivity of the uranium\n",
      "\n",
      "#Calculation\n",
      "import math\n",
      "Q_m=Q/l  #Heat release rate\n",
      "#Thus, from equation 9.52:\n",
      "dT=Q_m/(4*math.pi*k) \n",
      "\n",
      "#Result\n",
      "print\"The temperature difference between the surface and the centre of the uranium element =\",round(dT),\"K\""
     ],
     "language": "python",
     "metadata": {},
     "outputs": [
      {
       "output_type": "stream",
       "stream": "stdout",
       "text": [
        "The temperature difference between the surface and the centre of the uranium element = 121.0 K\n"
       ]
      }
     ],
     "prompt_number": 37
    },
    {
     "cell_type": "heading",
     "level": 2,
     "metadata": {},
     "source": [
      "Example no:9.9,Page no:429"
     ]
    },
    {
     "cell_type": "code",
     "collapsed": false,
     "input": [
      "#Variable declaration\n",
      "Cp=2380 #specific heat capacity of nitrobenzene\n",
      "k=0.15 \n",
      "Meu=0.70e-3 #Viscosity of nitrobenzene\n",
      "d_i=15e-3 #internal diameter of tube\n",
      "d_o=19e-3 #external diameter of the tube\n",
      "d_s=0.44 #shell diameter\n",
      "b_s=0.150 #baffle spacing\n",
      "p=0.025 #pitch\n",
      "c=0.006 #clearance\n",
      "#(i)Tube side coefficient\n",
      "h_i=1000 #based on inside area\n",
      "\n",
      "\n",
      "#Calculation\n",
      "import math\n",
      "h_io=1000*d_i/d_o #based on outside area\n",
      "#(ii) Shell side coefficient.\n",
      "A=d_s*b_s*c/p #Area for flow\n",
      "G_s_=4/A \n",
      "#Taking Meu/Meu_s=1 in equation 9.91\n",
      "d_e=4*((25e-3**2-(math.pi*d_o**2/4))/(math.pi/d_o)) \n",
      "h_o=0.36*k/d_e*(d_e*G_s_/Meu)**0.55*(Cp*Meu/k)**0.33 \n",
      "#(iii) Overall coefficient\n",
      "#The math.logarithmic mean temperature difference is given by:\n",
      "Tm=(((400.0-345.0)-(315.0-305.0))/math.log((400.0-345.0)/(315.0-305.0))) \n",
      "#The corrected mean temperature difference is\n",
      "Tm_c=Tm*0.8 \n",
      "Q=4*Cp*(400.0-315.0) \n",
      "#The surface area of each tube\n",
      "A_t=0.0598 \n",
      "U_o=Q/(2*166*5*A_t*Tm_c) \n",
      "#(iv) Scale resistance.\n",
      "R_d=(1/U_o)-(1.0/750.0)-(1.0/1000.0) \n",
      "\n",
      "#Result\n",
      "print\"\\n Value of scale resistance that could be allowed =\",round(R_d,5),\"m**2 K/W\""
     ],
     "language": "python",
     "metadata": {},
     "outputs": [
      {
       "output_type": "stream",
       "stream": "stdout",
       "text": [
        "\n",
        " Value of scale resistance that could be allowed = 0.00026 m**2 K/W\n"
       ]
      }
     ],
     "prompt_number": 39
    },
    {
     "cell_type": "heading",
     "level": 2,
     "metadata": {},
     "source": [
      "Example no:9.10,Page no:432"
     ]
    },
    {
     "cell_type": "code",
     "collapsed": false,
     "input": [
      "#Variable declaration\n",
      "G=15.0 #Mass flow rate of benzene\n",
      "d_s=1.0  #Internal diameter of Heat Exchanger\n",
      "l=5.0  #Length of tubes\n",
      "od=19e-3  #Outer diameter of tubes\n",
      "C=6e-3  #Clearance\n",
      "l_b=0.25  #Baffle spacing\n",
      "Meu=.5e-3 \n",
      "Y=25e-3  #dimension of square pitch\n",
      "N=19.0  #no. of Baffles\n",
      "\n",
      "\n",
      "#Calculation\n",
      "import math\n",
      "As=d_s*l_b*C/Y  #Cross-flow area\n",
      "G_dash_s=G/As  #Mass flow\n",
      "d_e=4*(Y**2-(math.pi*od**2.0/4.0))/(math.pi*od) #Equivalent Diameter\n",
      "Re=G_dash_s*d_e/Meu \n",
      "#From Figure 9.29:\n",
      "f_dash=0.280\n",
      "rho_b=881 #density of benzene\n",
      "DPf=f_dash*G_dash_s**2*(N+1)*d_s/(2*rho_b*d_e) \n",
      "\n",
      "#Result\n",
      "print\"The pressure drop over the tube bundle =%d\"%DPf,\"N/m**2=\",round(DPf/(rho_b*9.81)),\"m of Benzene\"\n",
      "print\"NOTE:Approx value of pressure drop is given in book\"\n",
      "\n",
      "\n"
     ],
     "language": "python",
     "metadata": {},
     "outputs": [
      {
       "output_type": "stream",
       "stream": "stdout",
       "text": [
        "The pressure drop over the tube bundle =8680 N/m**2= 1.0 m of Benzene\n",
        "NOTE:Approx value of pressure drop is given in book\n"
       ]
      }
     ],
     "prompt_number": 47
    },
    {
     "cell_type": "heading",
     "level": 2,
     "metadata": {},
     "source": [
      "Example no:9.11,Page no:437"
     ]
    },
    {
     "cell_type": "code",
     "collapsed": false,
     "input": [
      "#Variable declaration\n",
      "d=0.15  #Diameter of pipe\n",
      "Ts=400  #Surface temperature\n",
      "Ta=294  #Air temperture\n",
      "k=0.0310  #Thermal conductivity ---Table 6, Appendix A1\n",
      "\n",
      "\n",
      "#Calculation\n",
      "X=36/k**4 \n",
      "#From Equation 9.102:\n",
      "GrPr=X*(Ts-Ta)*d**3 \n",
      "#From Table 9.5:\n",
      "n=0.25 \n",
      "C_dd=1.32 \n",
      "#Thus, in Equation 9.104:\n",
      "h=C_dd*(Ts-Ta)**n*d**(3*n-1) \n",
      "\n",
      "#result\n",
      "print\"\\n The heat transfer coefficient =\",round(h,2),\"W/m**2 K\"\n"
     ],
     "language": "python",
     "metadata": {},
     "outputs": [
      {
       "output_type": "stream",
       "stream": "stdout",
       "text": [
        "\n",
        " The heat transfer coefficient = 6.81 W/m**2 K\n"
       ]
      }
     ],
     "prompt_number": 48
    },
    {
     "cell_type": "heading",
     "level": 2,
     "metadata": {},
     "source": [
      "Example no:9.12,Page no:439"
     ]
    },
    {
     "cell_type": "code",
     "collapsed": false,
     "input": [
      "#Variable declaration\n",
      "lamda=1e-6 #Wavelength\n",
      "E_l_b=1e9  #Emissive power at given lambda\n",
      "C2=1.439e-2 \n",
      "C1=3.742e-16 \n",
      "\n",
      "#Calculation\n",
      "import math\n",
      "T=C2/lamda/math.log(C1/(E_l_b*lamda**5)) \n",
      "#With an error of +2 per cent, the correct value is given by:\n",
      "E_l_b_n=(100-2)*E_l_b/100 \n",
      "#In equation 9.108:1\n",
      "T_n=C2/lamda/math.log(C1/(E_l_b_n*lamda**5)) \n",
      "\n",
      "#Result\n",
      "print\"\\n The temperature of surface =%d\"%T,\"K\"\n",
      "print\"\\n The temperature of surface with +2 per cent error=\",round(T_n),\"K\""
     ],
     "language": "python",
     "metadata": {},
     "outputs": [
      {
       "output_type": "stream",
       "stream": "stdout",
       "text": [
        "\n",
        " The temperature of surface =1121 K\n",
        "\n",
        " The temperature of surface with +2 per cent error= 1120.0 K\n"
       ]
      }
     ],
     "prompt_number": 52
    },
    {
     "cell_type": "heading",
     "level": 2,
     "metadata": {},
     "source": [
      "Example no:9.13,Page no:441"
     ]
    },
    {
     "cell_type": "code",
     "collapsed": false,
     "input": [
      "#Variable declaration\n",
      "d=10e-3  #Diameter of carbide elements\n",
      "l=0.5  #Length of carbide elements\n",
      "Ts=1750  #Maximun surface temperature of carbide\n",
      "P=500e3  #Thermal power output required\n",
      "sigma=5.67e-8 \n",
      "\n",
      "#Calculation\n",
      "Eb=sigma*Ts**4 \n",
      "A=math.pi*d*l \n",
      "P1=Eb*A #Power dissipated by one element\n",
      "n=P/P1  #Number of elements required\n",
      "\n",
      "#Result\n",
      "print\"Number of elements required =%d\"%round(n)\n"
     ],
     "language": "python",
     "metadata": {},
     "outputs": [
      {
       "output_type": "stream",
       "stream": "stdout",
       "text": [
        "Number of elements required =60\n"
       ]
      }
     ],
     "prompt_number": 55
    },
    {
     "cell_type": "heading",
     "level": 2,
     "metadata": {},
     "source": [
      "Example no:9.14,Page no:444"
     ]
    },
    {
     "cell_type": "code",
     "collapsed": false,
     "input": [
      "#Variable declaration\n",
      "A=10.0  #Area of the surface\n",
      "P_r=1000e3  #Power radiated\n",
      "T1=1500.0  #First Temperature\n",
      "T2=1600.0  #Second Temperatue\n",
      "sigma=5.67e-8 \n",
      "\n",
      "#Calculation\n",
      "E=P_r/A  #The emissive Power\n",
      "#From equation 9,118:\n",
      "e=E/(sigma*T1**4) \n",
      "E2=e*sigma*T2**4 \n",
      "\n",
      "#Result\n",
      "print\"\\n Emissivity when T=1500 K =\",round(e,3)\n",
      "print\"\\n The Emissive power when T=1600 K =\",round(E2*1e-2),\"kW\""
     ],
     "language": "python",
     "metadata": {},
     "outputs": [
      {
       "output_type": "stream",
       "stream": "stdout",
       "text": [
        "\n",
        " Emissivity when T=1500 K = 0.348\n",
        "\n",
        " The Emissive power when T=1600 K = 1295.0 kW\n"
       ]
      }
     ],
     "prompt_number": 59
    },
    {
     "cell_type": "heading",
     "level": 2,
     "metadata": {},
     "source": [
      "Example no:9.15,Page no:448"
     ]
    },
    {
     "cell_type": "code",
     "collapsed": false,
     "input": [
      "import math\n",
      "#Variable declaration\n",
      "A1=2.0  #Area of rectangle(Surface 1)\n",
      "A2=math.pi*1**2.0/4.0  #Area of disc (Surface 2)\n",
      "T1=1500.0  #Temperature of Surface 1\n",
      "T2=750.0  #Temperature of Surface 2\n",
      "F12=0.25  #View factor\n",
      "sigma=5.67e-8 \n",
      "\n",
      "#Calculation\n",
      "#From equation 9. 1 26:\n",
      "F21=A1*F12/A2 \n",
      "Q12=sigma*A1*F12*(T1**4-T2**4) \n",
      "\n",
      "#Result\n",
      "print\"View factor, F12 =\",round(F21,3)\n",
      "print\"The net radiation transfer =\",round(Q12*1e-3,1),\"kW\"\n",
      "print\"NOTE:Calculation mistake in book\""
     ],
     "language": "python",
     "metadata": {},
     "outputs": [
      {
       "output_type": "stream",
       "stream": "stdout",
       "text": [
        "View factor, F12 = 0.637\n",
        "The net radiation transfer = 134.6 kW\n",
        "NOTE:Calculation mistake in book\n"
       ]
      }
     ],
     "prompt_number": 64
    },
    {
     "cell_type": "heading",
     "level": 2,
     "metadata": {},
     "source": [
      "Example no:9.16,Page no:449"
     ]
    },
    {
     "cell_type": "code",
     "collapsed": false,
     "input": [
      "#Variable declaration\n",
      "X=4.0 #width of horizontal plate and length vertical plate\n",
      "Y=6.0 #length of horizontal plate\n",
      "Z=3.0 #height of verical plate\n",
      "\n",
      "#Calculation\n",
      "W=Y/X \n",
      "H=Z/X \n",
      "A1=Z*X #Area of plate 1\n",
      "A2=X*Y #Area of plate 2\n",
      "F12=0.12 \n",
      "#From equation 9.126:\n",
      "F21=A1*F12/A2 \n",
      "#For the two spheres\n",
      "r1=1.0  #Diameter of sphere 1\n",
      "r2=2.0  #Diameter of sphere 2\n",
      "F12b=1.0 \n",
      "F21b=(r1/r2)**2 \n",
      "F22b=1.0-F21b \n",
      "\n",
      "#Result\n",
      "print\"For vertical plate\"\n",
      "print\"View Factor, F12=\",F12\n",
      "print\"View Factor, F21=\",F21\n",
      "print\"\\nFor sphere:\"\n",
      "print\"View Factor, F21=\",F21b\n",
      "print\"View Factor, F22=\",F22b"
     ],
     "language": "python",
     "metadata": {},
     "outputs": [
      {
       "output_type": "stream",
       "stream": "stdout",
       "text": [
        "For vertical plate\n",
        "View Factor, F12= 0.12\n",
        "View Factor, F21= 0.06\n",
        "\n",
        "For sphere:\n",
        "View Factor, F21= 0.25\n",
        "View Factor, F22= 0.75\n"
       ]
      }
     ],
     "prompt_number": 68
    },
    {
     "cell_type": "heading",
     "level": 2,
     "metadata": {},
     "source": [
      "Example no:9.17,Page no:454"
     ]
    },
    {
     "cell_type": "code",
     "collapsed": false,
     "input": [
      "#Variable declaration\n",
      "ri_u=0.2 # Inner radius of the upper ring\n",
      "ro_u=0.3 # Outer radius of the upper ring\n",
      "ri_l=0.3 # Inner radius of the lower ring\n",
      "ro_l=0.4 # Outer radius of the lower ring\n",
      "F12_34=0.4 \n",
      "F12_4=0.22 \n",
      "F1_34=0.55 \n",
      "F14=0.30 \n",
      "\n",
      "#Calculation\n",
      "A12_A2=ro_l**2/(ro_l**2-ri_l**2) \n",
      "A1_A2=ro_u**2/(ro_l**2-ri_l**2) \n",
      "F23=((A12_A2)*(F12_34-F12_4))+((A1_A2)*(F1_34-F14)) \n",
      "\n",
      "#Result\n",
      "print\"\\n F23 =\",round(F23,2)"
     ],
     "language": "python",
     "metadata": {},
     "outputs": [
      {
       "output_type": "stream",
       "stream": "stdout",
       "text": [
        "\n",
        " F23 = 0.73\n"
       ]
      }
     ],
     "prompt_number": 73
    },
    {
     "cell_type": "heading",
     "level": 2,
     "metadata": {},
     "source": [
      "Example no:9.18,Page no:455"
     ]
    },
    {
     "cell_type": "code",
     "collapsed": false,
     "input": [
      "#Variable declaration\n",
      "d=1  #Diameter of plate\n",
      "r1=0.5 \n",
      "r4=r1  #Radius of the imaginary disc sealing the hemisphere\n",
      "L=r1  #The distance between the plate and the bottom of the dome\n",
      "\n",
      "#Calculation\n",
      "import math\n",
      "A1=math.pi*d**2/4.0  #Area of the plate\n",
      "A2=2*math.pi*d**2/4.0  #Area of the underside of the Hemisphere\n",
      "A4=math.pi*r4**2/4.0 #Area of an imaginary disc sealing the hemisphere and parallel \n",
      "                  #to the plate\n",
      "T1=750 #Temperature of the plate\n",
      "T2=1200 #Temperature of hemispherical cone\n",
      "T3=290 #Temperature of the surroundings\n",
      "sigma=5.67e-8 \n",
      "R1=r1/L \n",
      "R4=r4/L \n",
      "S=1+(1+R4**2)/(R1**2) \n",
      "F14=0.5*(S-(S**2-4*(r4/r1)**2)**0.5) \n",
      "F12=F14 \n",
      "F13=1-F12 \n",
      "Q1=sigma*A1*F12*(T2**4-T1**4)+sigma*A1*F13*(T3**4-T1**4) \n",
      "\n",
      "#Result\n",
      "print\"The net rate of heat transfer by radiation to the plate =\",round(Q1*1e-3,1),\"kW\""
     ],
     "language": "python",
     "metadata": {},
     "outputs": [
      {
       "output_type": "stream",
       "stream": "stdout",
       "text": [
        "The net rate of heat transfer by radiation to the plate = 21.4 kW\n"
       ]
      }
     ],
     "prompt_number": 75
    },
    {
     "cell_type": "heading",
     "level": 2,
     "metadata": {},
     "source": [
      "Example no:9.19,Page no:457"
     ]
    },
    {
     "cell_type": "code",
     "collapsed": false,
     "input": [
      "#Variable declaration\n",
      "d=2  #Diameter of the cylinder\n",
      "h=1  #Depth of insulated cylinder\n",
      "T1=1500 \n",
      "T2=373 \n",
      "#From Figure 9.40ii, with i = 1, j = 2\n",
      "r1=1 \n",
      "r2=1 \n",
      "L=1 \n",
      "\n",
      "\n",
      "#Calculation\n",
      "A1=math.pi*d**2.0/4.0  #Radiant heater surface\n",
      "A2=A1  #Under-Surface of the vessel\n",
      "A_R=math.pi*d*h \n",
      "#The view factor may also be obtained from Figure 9.39ii as follows:\n",
      "R1=r1/L \n",
      "R2=r2/L \n",
      "S=1+(1+R2**2)/(R1**2) \n",
      "F12=0.5*(S-(S**2-4*(r2/r1)**2)**0.5) \n",
      "sigma=5.67e-8 \n",
      "#Using the summation rule\n",
      "#F11=0\n",
      "F1R=1-F12  \n",
      "F2R=F1R \n",
      "Q2=(A1*F12+((1/(A1*F1R)+(1/(A2*F2R))))**-1)*sigma*(T1**4-T2**4) \n",
      "#If the surroundings without insulation are surface 3 at\n",
      "T3=290 \n",
      "F23=F2R \n",
      "#from equation 9.135\n",
      "Q2_d=sigma*A1*F12*(T1**4-T2**4)+sigma*A2*F23*(T3**4-T2**4) \n",
      "red=(Q2-Q2_d)/Q2*100  #Percentage Reduction\n",
      "\n",
      "#Result\n",
      "print\"The rate of radiant heat transfer to the vessel =%d\"%(Q2*1e-3),\"kW\"\n",
      "print\"If the insulation were removed ,The rate of radiant heat transfer to the vessel=\",round(Q2_d*1e-3),\"kW\"\n",
      "print\"Reduction percentage =\",round(red),\"%\"\n"
     ],
     "language": "python",
     "metadata": {},
     "outputs": [
      {
       "output_type": "stream",
       "stream": "stdout",
       "text": [
        "The rate of radiant heat transfer to the vessel =620 kW\n",
        "If the insulation were removed ,The rate of radiant heat transfer to the vessel= 342.0 kW\n",
        "Reduction percentage = 45.0 %\n"
       ]
      }
     ],
     "prompt_number": 79
    },
    {
     "cell_type": "heading",
     "level": 2,
     "metadata": {},
     "source": [
      "Example no:9.20,Page no:459"
     ]
    },
    {
     "cell_type": "code",
     "collapsed": false,
     "input": [
      "#Variable declaration\n",
      "e=0.75  #Emissivity of grey surface\n",
      "r=1-e  #reflectivity of surface\n",
      "Ts=400  #Temperature of surface\n",
      "T_amb=295 \n",
      "sigma=5.67e-8 \n",
      "q1=3e3  #Rate of radiation arriving at grey surface\n",
      "\n",
      "#Calculation\n",
      "#From equation 9.118\n",
      "Eb=sigma*Ts**4 \n",
      "#From equation 9.138\n",
      "qo=e*Eb+r*q1 \n",
      "#From equation 9.140\n",
      "Q_A=e/r*(Eb-qo) \n",
      "q=Q_A \n",
      "#For convective heat transfer from the surface\n",
      "qc=-1*q \n",
      "hc=qc/(Ts-T_amb) \n",
      "\n",
      "#Result\n",
      "print\"\\n Radiosity =%d\"%round(qo),\"W/m**2\"\n",
      "print\"\\n The net rate of radiation trasfer = %d\"%q,\"W/m**2\"\n",
      "print\"\\n Coefficient of heat transfer =\",round(hc,1),\"W/m**2 K\""
     ],
     "language": "python",
     "metadata": {},
     "outputs": [
      {
       "output_type": "stream",
       "stream": "stdout",
       "text": [
        "\n",
        " Radiosity =1839 W/m**2\n",
        "\n",
        " The net rate of radiation trasfer = -1161 W/m**2\n",
        "\n",
        " Coefficient of heat transfer = 11.1 W/m**2 K\n"
       ]
      }
     ],
     "prompt_number": 84
    },
    {
     "cell_type": "heading",
     "level": 2,
     "metadata": {},
     "source": [
      "Example no:9.21,Page no:464"
     ]
    },
    {
     "cell_type": "code",
     "collapsed": false,
     "input": [
      "#Variable declaration\n",
      "sigma=5.67e-8 \n",
      "T=[1000,500,300] #tempertaure of surfaces\n",
      "A=[1.07,1.07,0.628] #Array of area of surfaces\n",
      "e=[0.75,0.50,1.0] #Array of emissivity of the surfaces\n",
      "r=[0.250,0.50] # Array of radius of two surfaces\n",
      "L=0.2  #distance between two discs\n",
      "\n",
      "X=[0]*3\n",
      "Y=[0]*3\n",
      "R=[0]*2\n",
      "\n",
      "\n",
      "#Calculation\n",
      "from scipy.optimize import fsolve\n",
      "for i in range(0,2):\n",
      "    X[i]=A[i]/r[i] \n",
      "    Y[i]=A[i]*e[i]/r[i] \n",
      "    R[i]=r[i]/L \n",
      "F11=0 \n",
      "F22=0 \n",
      "S=1+(1+R[1]**2)/(R[1]**2) \n",
      "F12=0.5*(S-(S**2-4*(r[1]/(2*r[0]))**2)**0.5) \n",
      "A1_F11=0 \n",
      "A2_F22=0 \n",
      "A1_F12=A[0]*F12 \n",
      "A1_F13=A[0]-(A[0]*F11+A[1]*F12) \n",
      "#for surface 2:\n",
      "A2_F21=A1_F12 \n",
      "A2_F23=A1_F13 \n",
      "#for surface 3:\n",
      "#By reciprocity rule\n",
      "A3_F31=A1_F13 \n",
      "A3_F32=A2_F23 \n",
      "A3_F33=A[2]-(A3_F31+A3_F32) \n",
      "\n",
      "#From equation 9.112:\n",
      "E_b=[0]*3\n",
      "for i in range(0,3):\n",
      "    E_b[i]=sigma*T[i]**4/1000.0 \n",
      "\n",
      "#since surface 3 is a black body\n",
      "q_o3=E_b[2] \n",
      "#From equations 9.157 and 9.158:\n",
      "#we get\n",
      "f=[0,0]\n",
      "def F(p):\n",
      "    \n",
      "    x,y=p\n",
      "    f[0]=(A1_F11-A[0]/r[0])*x+A2_F21*y+A3_F31*q_o3+E_b[0]*A[0]*e[0]/r[0] \n",
      "    f[1]=(A1_F12*x)+((A2_F22-A[1]/r[1])*y)+E_b[1]*A[1]*e[1]/r[1] \n",
      "    return(f[0],f[1])\n",
      "q_o=fsolve(F,(0,0)) \n",
      "#From equation 9.140:\n",
      "Q1=(A[0]*e[0]/r[0])*(E_b[0]-q_o[0]) \n",
      "Q2=(A[1]*e[1]/r[1])*(E_b[1]-q_o[1]) \n",
      "\n",
      "#Result\n",
      "print\"\\n Power input to the heater ,Q1 =\",round(Q1,2),\"kW\"\n",
      "print\"\\n The rate of heat transfer to the plate ,Q2 =\",round(Q2,2),\"kW\"\n"
     ],
     "language": "python",
     "metadata": {},
     "outputs": [
      {
       "output_type": "stream",
       "stream": "stdout",
       "text": [
        "\n",
        " Power input to the heater ,Q1 = 36.19 kW\n",
        "\n",
        " The rate of heat transfer to the plate ,Q2 = -14.44 kW\n"
       ]
      }
     ],
     "prompt_number": 5
    },
    {
     "cell_type": "heading",
     "level": 2,
     "metadata": {},
     "source": [
      "Example no:9.22,Page no:470"
     ]
    },
    {
     "cell_type": "code",
     "collapsed": false,
     "input": [
      "#Variable declaration\n",
      "d=0.5 #diameter of chamber\n",
      "l=2.0 #Length of chamber\n",
      "e=0.5 #Emissivity\n",
      "T_s=750.0 #Temperature at which the chamber is maintained\n",
      "P=150e3 \n",
      "T_g=1250.0 \n",
      "sigma=5.67e-8 \n",
      "P_c=0.1*P \n",
      "P_w=P_c \n",
      "\n",
      "#Calculation\n",
      "import math\n",
      "V=math.pi/4.0*d**2*l #Volume of the chamber\n",
      "A_s=(2*math.pi/4.0*d**2)+(math.pi*d*l) #total surface are of chamber\n",
      "L_e=3.6*(V/A_s) \n",
      "C_w=1.4 \n",
      "e_w1=C_w*0.075 \n",
      "C_c1=1.2 \n",
      "e_c1=(C_c1*0.037) \n",
      "A=(P_w+P_c)*L_e \n",
      "B=P_c/(P_c+P_w)\n",
      "De=0.001 \n",
      "e_g=e_w1+0.044-De \n",
      "e_w2=(0.12*C_w) \n",
      "a_w=e_w2*(T_g/T_s)**0.65 \n",
      "C_c2=1.02 \n",
      "e_c2=(0.08*C_c2) \n",
      "a_c=e_c2*(T_g/T_s)**0.65 \n",
      "a_g=a_w+a_c \n",
      "#If the surrounding surface is black, then:\n",
      "Q=sigma*A_s*(e_g*T_g**4-a_g*T_s**4) \n",
      "#For grey walls, the correction factor allowing for multiple reflection of\n",
      "#incident radiation is:\n",
      "C_g=0.5/(1.0-(1.0-0.326)*(1.0-0.5)) \n",
      "Q_w=(Q*C_g) \n",
      "\n",
      "#Result\n",
      "print\"\\n Radiation to the walls if the surface is black =%.1f\"%(Q*1e-3),\"kW\" \n",
      "print\"\\n Net radiation to the walls =%.2f\"%(Q_w*1e-3),\"kW\""
     ],
     "language": "python",
     "metadata": {},
     "outputs": [
      {
       "output_type": "stream",
       "stream": "stdout",
       "text": [
        "\n",
        " Radiation to the walls if the surface is black =50.3 kW\n",
        "\n",
        " Net radiation to the walls =37.97 kW\n"
       ]
      }
     ],
     "prompt_number": 14
    },
    {
     "cell_type": "heading",
     "level": 2,
     "metadata": {},
     "source": [
      "Example no:9.23,Page no:479"
     ]
    },
    {
     "cell_type": "code",
     "collapsed": false,
     "input": [
      "#Variable declaration:\n",
      "def mole(w,m):\n",
      "    n = w/m \n",
      "    return(n)    \n",
      "def partial(n1):\n",
      "    p = 308*(n1/total) \n",
      "    return(p)\n",
      "w_steam = 0.57       #mass flow rate of steam entering in [kg/sec]\n",
      "w_CO2 = 0.20         #mass flow rate of CO2 entering in [kg/sec]\n",
      "m_water = 18         #molecular mass of water in kg\n",
      "m_CO2 = 44           #molecular mass of CO2 in kg\n",
      "n_steam = mole(w_steam,m_water)      #number of moles in kmol\n",
      "n_CO2 = mole(w_CO2,m_CO2)            #number of moles in kmol\n",
      "\n",
      "#Calculation\n",
      "import math\n",
      "total = n_steam + n_CO2 \n",
      "p_steam = partial(n_steam) \n",
      "p_CO2 = partial(n_CO2) \n",
      "mean_mol = (0.57 + 0.20)/total      #mean molecular weight of the mixture in kg/kmol\n",
      "outlet_steam = 11.7             #partial pressure of water in kN/m**2\n",
      "outlet_CO2 = 308 - outlet_steam  #partial pressure of water in kN/m**2\n",
      "n_s = n_CO2*outlet_steam/outlet_CO2 \n",
      "steam_condensed = n_steam - n_s \n",
      "p_steam_401K = 252.2    #[kN/m**2]\n",
      "p_CO2_401K = 308 - 252.2 #[kN/m**2]\n",
      "steam_remaining = 0.0045*p_steam_401K/p_CO2_401K \n",
      "s_c = n_steam - steam_remaining    #[kmol]\n",
      "Heat_cond = s_c*18*(2180 + 1.93*(404-401))          #[kW]\n",
      "Heat_uncondensed_steam = 0.0203*18*1.93*(404-401)   #[kW]\n",
      "Heat_CO2 = 0.020*0.92*(404-401) \n",
      "total_heat = Heat_cond + Heat_uncondensed_steam + Heat_CO2 \n",
      "flow_water = 1407.3/(4.187*(319-300))       #[kg/sec]\n",
      "hi = 6.36        #[kW/m**2 K]Based on flow velocity of 1425 kg/m**2 sec\n",
      "ho = 5.25        #[kW/m**2 K]Based on outside area\n",
      "Cp = (0.20*0.92 + 0.57*1.93)/0.77   #[kJ/kg K]\n",
      "k_mean = 0.025    #[kW/m K]\n",
      "a = 0.0411        #[m**2]\n",
      "mass_velocity = (0.20+0.57)/0.0411      #[kg/m**2 sec]\n",
      "hg = 107          #[W/m**2 K] at Re = 29,800 at equivalent diameter = 0.024m\n",
      "u_pD = 0.62       #(u/pD)**0.67 = 0.62\n",
      "Cpu_k = 1.01      #(Cp*u/k)**0.67\n",
      "Psf = (122.6 - 38)/math.log(122.6/38) \n",
      "kG = hg*(Cpu_k)/(1000*Cp*Psf*u_pD) \n",
      "\n",
      "#Result\n",
      "print\"\\n Assuming no scale resistance, the overall coefficient =\",round(1407.3/(34.8*74.2),3) ,\"W/m** K\"\n",
      "print\"\\n Actual coeficient =\",round(1407.3/(53.9*74.2),3) ,\"kW/m**2 K\"\n",
      "print\"\\n Dirt factor =\",round((0.545-0.352)/(0.545*0.352),2),\"K/kW\" \n"
     ],
     "language": "python",
     "metadata": {},
     "outputs": [
      {
       "output_type": "stream",
       "stream": "stdout",
       "text": [
        "\n",
        " Assuming no scale resistance, the overall coefficient = 0.545 W/m** K\n",
        "\n",
        " Actual coeficient = 0.352 kW/m**2 K\n",
        "\n",
        " Dirt factor = 1.01 K/kW\n"
       ]
      }
     ],
     "prompt_number": 5
    },
    {
     "cell_type": "heading",
     "level": 2,
     "metadata": {},
     "source": [
      "Example no:9.24,Page no:498"
     ]
    },
    {
     "cell_type": "code",
     "collapsed": false,
     "input": [
      "#Variable declaration\n",
      "d_v=1.0 #diameter of the vessel\n",
      "L=0.3 #diameter of propeller agitator\n",
      "N=2.5 #rotating speed of propeller agitator\n",
      "T=310.0 #Temperature\n",
      "G=0.5 #circulation speed of cooling water\n",
      "d_o=25e-3 #outer diameter of stainless steel coil\n",
      "d=22e-3 #inner diameter of stainless steel coil\n",
      "d_w=(d_o+d)/2 \n",
      "d_c=0.8 #diameter of helix\n",
      "T_m=290.0 #mean temperature\n",
      "k1=0.59 \n",
      "Meu1=1.08e-3 \n",
      "C_p1=4.18e3 \n",
      "x_w=1.5e-3 \n",
      "\n",
      "\n",
      "#Calculation\n",
      "h_i=(k1/d)*(1+3.5*(d/d_c))*0.023*(d*1315.0/Meu1)**0.8*(C_p1*Meu1/k1)**0.4 \n",
      "#The external film coefficient is given by equation 9.204:\n",
      "C_p2=1.88e3 #Specefic heat capacity\n",
      "Meu2=6.5e-3 #viscosity\n",
      "k2=0.40 \n",
      "rho=1666 \n",
      "Meu_s=8.6e-3 \n",
      "h_o=0.87*(C_p2*Meu2/k2)**(1.0/3.0)*(L**2*N*rho/Meu2)**0.62*(Meu2/Meu_s)**0.14*k2/d_v \n",
      "\n",
      "k_w=15.9 \n",
      "R_o=0.0004 \n",
      "R_i=0.0002 \n",
      "U_o=((1/h_o)+(x_w*d_o/(k_w*d_w))+(d_o/(h_i*d))+(R_o)+(R_i*d_o/d))**-1 \n",
      "\n",
      "#Result\n",
      "print\"The overall coeffecient of heat transfer =\",round(U_o),\"W/m**2.K\"\n",
      "\n"
     ],
     "language": "python",
     "metadata": {},
     "outputs": [
      {
       "output_type": "stream",
       "stream": "stdout",
       "text": [
        "The overall coeffecient of heat transfer = 498.0 W/m**2.K\n"
       ]
      }
     ],
     "prompt_number": 23
    },
    {
     "cell_type": "heading",
     "level": 2,
     "metadata": {},
     "source": [
      "Example no:9.25,Page no:501"
     ]
    },
    {
     "cell_type": "code",
     "collapsed": false,
     "input": [
      "#Variable declaration\n",
      "C_p=4e3 \n",
      "\n",
      "#Calculation\n",
      "import sympy\n",
      "from scipy.integrate import quad\n",
      "x=sympy.Symbol('x') \n",
      "T_max=sympy.solve((600*0.5)*(393-x)-(10*6)*(x-293)) \n",
      "#solving the equation finally we get \n",
      "def f(T):\n",
      "    return(11111*(1/(376.3-T)))\n",
      "t1=quad(f,293.0,353.0)\n",
      "#The steam is turned off for 7200 s and during this time a heat balance gives:\n",
      "#on solving as given in book we get\n",
      "T=346.9 \n",
      "#The time taken to reheat the liquid to 353 K is then given by:\n",
      "t2=quad(f,T,353)\n",
      "\n",
      "#Result\n",
      "print\"\\n\\n Maximum temperature to which it can be heated =\",round(T_max[0],1),\"K\"\n",
      "print\"\\n Time taken to heat the liquid from 293 K to 353 K =%d\"%t1[0],\"s\"\n",
      "print\"\\n Time taken to reheat the liquid to 353 K =%d\"%round(t2[0]),\"s\""
     ],
     "language": "python",
     "metadata": {},
     "outputs": [
      {
       "output_type": "stream",
       "stream": "stdout",
       "text": [
        "\n",
        "\n",
        " Maximum temperature to which it can be heated = 376.3 K\n",
        "\n",
        " Time taken to heat the liquid from 293 K to 353 K =14155 s\n",
        "\n",
        " Time taken to reheat the liquid to 353 K =2584 s\n"
       ]
      }
     ],
     "prompt_number": 31
    },
    {
     "cell_type": "heading",
     "level": 2,
     "metadata": {},
     "source": [
      "Example no:9.26,Page no:516"
     ]
    },
    {
     "cell_type": "code",
     "collapsed": false,
     "input": [
      "#Variable declaration\n",
      "#As in Example 9.1, the heat load = 1672 kW\n",
      "Q=1672 \n",
      "#With reference to Figure 9.71:\n",
      "T1=360 \n",
      "T2=340 \n",
      "theta1=300 #Temperature of cooling water entering\n",
      "theta2=316 \n",
      "\n",
      "#Calculation\n",
      "X=(theta2-theta1)/(T1-theta1) \n",
      "Y=(T1-T2)/(theta2-theta1) \n",
      "#from Figure 9.58\n",
      "F=0.97 \n",
      "theta_m=41.9 \n",
      "#and hence:\n",
      "A=Q/(2*F*theta_m) #the heat transfer area\n",
      "\n",
      "#Result\n",
      "print\"\\n The heat transfer area is =\",round(A,1),\"m**2\""
     ],
     "language": "python",
     "metadata": {},
     "outputs": [
      {
       "output_type": "stream",
       "stream": "stdout",
       "text": [
        "\n",
        " The heat transfer area is = 20.6 m**2\n"
       ]
      }
     ],
     "prompt_number": 33
    },
    {
     "cell_type": "heading",
     "level": 2,
     "metadata": {},
     "source": [
      "Example no:9.27,Page no:521"
     ]
    },
    {
     "cell_type": "code",
     "collapsed": false,
     "input": [
      "#Variable declaration\n",
      "#As in Example 9.1, the heat load = 1672 kW\n",
      "Q=1672.0 \n",
      "#With reference to Figure 9.71:\n",
      "T1=360.0 \n",
      "T2=340.0 \n",
      "theta1=300.0 #Temperature of cooling water entering\n",
      "theta2=316.0 \n",
      "F_theta_m=40.6 #corrected mean temperature difference\n",
      "\n",
      "#Calculation\n",
      "T=(T1+T2)/2.0 \n",
      "d=1.9e-3 #Tube diameter\n",
      "u=1 #Water velocity\n",
      "#then, in equation 9,221:\n",
      "h_i=4.28*(0.00488*T-1)*u**0.8/d**0.2 \n",
      "#From Table 9.18, an estimate of the shell-side film coefficient is:\n",
      "h_o=(1700.0+11000.0)/2000.0 \n",
      "#For steel tubes of a wall thickness of 1.6 mm, the thermal resistance of the wall, from Table 9.15 is:\n",
      "xw_kw=0.025 \n",
      "#the thermal resistance for treated water, from Table 9.16, is 0.26 m2K/kW\n",
      "Ri=0.26 \n",
      "Ro=Ri \n",
      "U=((1.0/h_o)+xw_kw+Ri+Ro+(1.0/h_i))**-1 \n",
      "A=Q/(F_theta_m*U) \n",
      "\n",
      "#Result\n",
      "print\"\\n The heat transfer area =\",round(A,1),\"m**2\""
     ],
     "language": "python",
     "metadata": {},
     "outputs": [
      {
       "output_type": "stream",
       "stream": "stdout",
       "text": [
        "\n",
        " The heat transfer area = 32.8 m**2\n"
       ]
      }
     ],
     "prompt_number": 37
    },
    {
     "cell_type": "heading",
     "level": 2,
     "metadata": {},
     "source": [
      "Example no:9.28,Page no:531"
     ]
    },
    {
     "cell_type": "code",
     "collapsed": false,
     "input": [
      "#Variable declaration\n",
      "mh = 30.0             #[kg/s] Hot fluid flow rate\n",
      "Thi = 370.0          #[K] Hot Fluid Inlet Temperature\n",
      "Tho = 315.0          #[K] Hot Fluid outlet Temperature\n",
      "Tci = 300.0          #[K] Cold Fluid Inlet Temperature\n",
      "Tco = 315.0          #[K] Cold Fluid Outlet Temperature\n",
      "cpc = 4.18*10**3         #[J/kg.K] Thermal Conductivity of Cold Fluid\n",
      "#From table A1.3 at mean temperature 343 K\n",
      "cph = 2.9*10**3             #[J/kg.K] Thermal Capacity of Hot fluid\n",
      "\n",
      "\n",
      "#Calculation\n",
      "import math\n",
      "q = mh*cph*(Thi-Tho)         #[kW] Heat load\n",
      "mc = q/(cpc*(Tco-Tci))       #[kg/s] Flow of cooling water\n",
      "Tln = ((Thi-Tho)-(Tco-Tci))/(math.log((Thi-Tho)/(Tco-Tci)))     #[K] logarithm mean temperature difference\n",
      "X = (Thi - Tho)/(Tco-Tci) \n",
      "Y = (Tco-Tci)/(Thi - Tci) \n",
      "F = .85 \n",
      "U = 500.0        #[W/m**2.K]\n",
      "A = q/(F*Tln * U) \n",
      "od = .02        #[m] outer dia\n",
      "id = .016       #[m] inner dia\n",
      "l = 4.83        #[m] effective tube length\n",
      "s = math.pi*od*l \n",
      "N = A/s \n",
      "db = (1210/.249)**(2.207)**-1*20/1000.0             #[m]\n",
      "dc = .068        #[m] diametric clearance between shell and tubes\n",
      "ds = db+dc            #[m] Shell dia\n",
      "Ac = math.pi/4*id**2            #[m**2] Cross sectional area\n",
      "Ntp = N/2.0\n",
      "Af = N/2.0*Ac        #[m**2] Tube side flow area\n",
      "mw = 76.3/Af            #[kg/m**2.s] Mass velocity of water\n",
      "rho = 995        #[kg/m**3] mas density of water\n",
      "u = mw/rho            #[m/s] water velocity\n",
      "vu = .8*10**-3            #[N.s/m**2] viscosity\n",
      "k = .59                #[W/m.K]\n",
      "Re = id*u*rho/vu \n",
      "Pr = cpc*vu/k \n",
      "ld = l/id \n",
      "jh = 3.7*10**-3\n",
      "hi = jh*Re*Pr**.3334*.59/id             #[W/m**2.K]\n",
      "dbf = .20*ds         #[m] Baffle Dia\n",
      "tb = 1.25*20*10**-3        #[mm] Tube Pitch\n",
      "As = (25.0-20.0)/25.0*10**3*(ds*Ac)            #[m**2]\n",
      "Gs = 30.0/As                         #[kg/m**2.s]\n",
      "de = 1.1*(.025**2-.917*od**2)/od             #[m]\n",
      "rho2 = 780.0            #[kg/m**3] density\n",
      "vu2 = .8*10**-3            #[N.s/m**2] viscosity\n",
      "Cp2 = 3.1*10**3                #[J/kg.K] Heat capacity\n",
      "k2 = .16                #[W/m.K]\n",
      "Re2 = Gs*de/vu2 \n",
      "Pr2 = Cp2*vu2/k2 \n",
      "jh2 = 5*10**-3 \n",
      "hs = jh2*Re2*Pr2**.334*k2/de \n",
      "k3 = 50.0                #[W/m.K]        Thermal Conductivity\n",
      "Rw = .00020            #[m**2.K/W]      Scale Resistances \n",
      "Ro = .00015            #[m**2.K/W]      Resistance for organic\n",
      "U = (1.0/hs + Rw + 0.5*(od-id)/k3 + Ro*od/id+od/(id*hi))**-1\n",
      "#From figure 9.78\n",
      "jf = 4.5*10**-3 \n",
      "n = 2.0 \n",
      "delP = n*(4*jf*(4.830/id) + 1.25)*(rho*u**2) \n",
      "u2 = Gs/rho2 \n",
      "jf2 = 4.6*10**-2 \n",
      "N2 = 1.0 \n",
      "delP2 = N2*(4*jf2*(4.830/od)*(1005/14.2))*(rho2*u2**2) \n",
      "\n",
      "#Increasing the baffle spacing pressure drop is reduced one-fourth\n",
      "delPs = delP2/4.0 \n",
      "ho = hs*(.5)**.8             #[W/m**2.K]\n",
      "U2 = (1.0/ho + Rw + .5*(od-id)/k3 + Ro*od/id+od/(id*hi))**-1\n",
      "\n",
      "#REsult\n",
      "print\"Overall Coefficient of %d\"%U2,\" W/m**2.K \\n Number of tubes/pass =\",round(Ntp),\"\\n Number of tubes required = %d\"%N\n",
      "print\"NOTE:Very approximate values are used in textbook for Calculation\\nThat's why answer is different\""
     ],
     "language": "python",
     "metadata": {},
     "outputs": [
      {
       "output_type": "stream",
       "stream": "stdout",
       "text": [
        "Overall Coefficient of 563  W/m**2.K \n",
        " Number of tubes/pass = 603.0 \n",
        " Number of tubes required = 1205\n",
        "NOTE:Very approximate values are used in textbook for Calculation\n",
        "That's why answer is different\n"
       ]
      }
     ],
     "prompt_number": 1
    },
    {
     "cell_type": "heading",
     "level": 2,
     "metadata": {},
     "source": [
      "Example no:9.29,Page no:535"
     ]
    },
    {
     "cell_type": "code",
     "collapsed": false,
     "input": [
      "#Variable declaration\n",
      "G=1.0  #Flow rate of organic liquid\n",
      "Cp=2e3#Heat capacity of organic liquid\n",
      "T1=350.0 \n",
      "T2=330.0 \n",
      "theta1=290.0\n",
      "theta2=320.0 \n",
      "\n",
      "\n",
      "#Calculation\n",
      "Q=G*Cp*(T2-T1) #heat load\n",
      "G_cool=Q/(4187*(theta1-theta2)) #flow of water\n",
      "GCp_hot=(G*Cp) #for organic\n",
      "GCp_cold=(G_cool*4187) \n",
      "#From equation 9.235:\n",
      "eta=GCp_hot*(T1-T2)/(GCp_cold*(T1-theta1)) \n",
      "\n",
      "#Result\n",
      "print\" Effectiveness of the given double pipe heat exchanger =\",round(eta,2)"
     ],
     "language": "python",
     "metadata": {},
     "outputs": [
      {
       "output_type": "stream",
       "stream": "stdout",
       "text": [
        " Effectiveness of the given double pipe heat exchanger = 0.5\n"
       ]
      }
     ],
     "prompt_number": 45
    },
    {
     "cell_type": "heading",
     "level": 2,
     "metadata": {},
     "source": [
      "Example no:9.30,Page no:538"
     ]
    },
    {
     "cell_type": "code",
     "collapsed": false,
     "input": [
      "#Variable declaration\n",
      "Tci = 320.0        #[K] Cold Fluid Initial Temperature\n",
      "Tce = 340.0        #[K] Cold Fluid Final Temperature\n",
      "mc = 4.0            #[kg/s] Flow rate of cold fluid\n",
      "mh = 8.0            #[kg/s] Flow rate of hot fluid\n",
      "import numpy as np\n",
      "Thi = np.array([380,370,360,350])    #[K] Hot fluid initial temperature\n",
      "Cp = 4.18            #[kJ/kg.K] mean heat capacity\n",
      "U = 1.5        #[W/m**2.K] Overall heat transfer coefficient\n",
      "\n",
      "\n",
      "#Calculation\n",
      "GCpu= mh*Cp             #[kW/K]\n",
      "GCpp= mc*Cp             #[kW/K]\n",
      "if(GCpu<GCpp):\n",
      "    GCpmin = GCpu        #[kW/K]\n",
      "    ratio = GCpmin/GCpp \n",
      "else:\n",
      "    GCpmin = GCpp       #[kW/K]\n",
      "    ratio = GCpmin/GCpu \n",
      "    \n",
      "#Equation 9.235\n",
      "n = mc*Cp*(Tce-Tci)*(mc*Cp*(Thi - Tci))**-1 \n",
      "#From Figure 9.85b Number of transfer Units\n",
      "N = np.array([.45,.6,.9,1.7])     #[NTU]\n",
      "A = N*GCpmin/U         #Area of required [m**2]\n",
      "\n",
      "#Result\n",
      "print\"Thi(K)   n      N     A (m**2)\" \n",
      "for i in range(0,4):\n",
      "    print Thi[i],\"\\t\",round(n[i],2),\"\\t\",N[i],\"\\t\",round(A[i],1)\n"
     ],
     "language": "python",
     "metadata": {},
     "outputs": [
      {
       "output_type": "stream",
       "stream": "stdout",
       "text": [
        "Thi(K)   n      N     A (m**2)\n",
        "380 \t0.33 \t0.45 \t5.0\n",
        "370 \t0.4 \t0.6 \t6.7\n",
        "360 \t0.5 \t0.9 \t10.0\n",
        "350 \t0.67 \t1.7 \t18.9\n"
       ]
      }
     ],
     "prompt_number": 60
    },
    {
     "cell_type": "heading",
     "level": 2,
     "metadata": {},
     "source": [
      "Example no:9.31,Page no:544"
     ]
    },
    {
     "cell_type": "code",
     "collapsed": false,
     "input": [
      "#Variable declaration\n",
      "o_d=10e-3 #outer diameter of the tube\n",
      "i_d=8.2e-3  #inner diameter of the tube\n",
      "h=140 #coeffecient of heat transfer between gas and copper tube\n",
      "k=350 #Thermal conductivity of copper tube\n",
      "L=0.075 \n",
      "\n",
      "#Calculation\n",
      "import math\n",
      "b=math.pi*o_d #perimeter of tube\n",
      "A=math.pi/4*(o_d**2-i_d**2) #cross sectional area of the metal\n",
      "m=((h*b)/(k*A))**0.5 \n",
      "T_g=((475*math.cosh(m*L))-365)/(math.cosh(m*L)-1) \n",
      "\n",
      "#Result\n",
      "print\"The gas temperature is =%d\"%T_g,\"K\""
     ],
     "language": "python",
     "metadata": {},
     "outputs": [
      {
       "output_type": "stream",
       "stream": "stdout",
       "text": [
        "The gas temperature is =539 K\n"
       ]
      }
     ],
     "prompt_number": 64
    },
    {
     "cell_type": "heading",
     "level": 2,
     "metadata": {},
     "source": [
      "Example no:9.32,Page no:545"
     ]
    },
    {
     "cell_type": "code",
     "collapsed": false,
     "input": [
      "#Variable declaration\n",
      "d2=54e-3  #outer diameter of the tube\n",
      "d1=70e-3  # fin diameter\n",
      "w=2e-3  #fin thickness\n",
      "n=230.0 # number of fins per metre run\n",
      "T_s=370.0  #Surface temperature\n",
      "T=280.0  #Temperature of surroundings\n",
      "h=30.0  #Heat transfer coeffecient between gas and fin\n",
      "k=43.0  #Thermal conductivity of steel\n",
      "L=(d1-d2)/2.0 \n",
      "\n",
      "#Calculation\n",
      "import math\n",
      "theta1=T_s-T \n",
      "#Assuming that the height of the fin is small compared with its circumference \n",
      "#and that it may be treated as a straight fin of length\n",
      "l=(math.pi/2.0)*(d1+d2) \n",
      "b=2*l #perimeter\n",
      "A=l*w #the average area at right-angles to the heat flow\n",
      "m=((h*b)/(k*A))**0.5 \n",
      "#From equation 9.254, the heat flow is given for case (b) as:\n",
      "Qf=m*k*A*theta1*(math.exp(2*m*L)-1)/(1+math.exp(2*m*L)) \n",
      "Q=Qf*n #Heat loss per meter run of tube\n",
      "\n",
      "#Result\n",
      "print\"The heat loss per metre run of tube =\",round(Q*1e-3,2),\"kW/m\"\n"
     ],
     "language": "python",
     "metadata": {},
     "outputs": [
      {
       "output_type": "stream",
       "stream": "stdout",
       "text": [
        "The heat loss per metre run of tube = 1.91 kW/m\n"
       ]
      }
     ],
     "prompt_number": 67
    },
    {
     "cell_type": "heading",
     "level": 2,
     "metadata": {},
     "source": [
      "Example no:9.33,Page no:556"
     ]
    },
    {
     "cell_type": "code",
     "collapsed": false,
     "input": [
      "#Variable declaration\n",
      "d=150e-3 #Internal diameter of tube\n",
      "d_o=168e-3 #outer diameter of tube\n",
      "d_w=159e-3 \n",
      "d_s=268e-3 \n",
      "d_m=(d_s-d_o)/math.log(d_s/d_o) #log mean of d_o and d_s\n",
      "h_i=8500 #The coefficient for condensing steam together with that for any scale\n",
      "k_w=45 \n",
      "k_l=0.073 \n",
      "x_l=50e-3 \n",
      "x_w=9e-3 \n",
      "DT=444-294 \n",
      "sigma=5.67e-8 \n",
      "\n",
      "#Calculation\n",
      "import math\n",
      "#The temperature on the outside of the lagging is estimated at 314 K and (hr + hc) will be taken as 10 W/m2 K.\n",
      "#total thermal resisitance \n",
      "R=(h_i*math.pi*d)**-1+(10*math.pi*d_s)**-1+(k_w*math.pi*d_w/x_w)**-1+(k_l*math.pi*d_m/x_l)**-1 \n",
      "Q_l=DT/R  #The heat loss per metre of length(from eq 9.261)\n",
      "DT_lagging=((k_l*math.pi*d_m/x_l)**-1/R)*DT \n",
      "#Taking an emissivity of 0.9, from equation 9.119:\n",
      "\n",
      "h_r=(0.9*sigma*(310**4-294**4))/(310-294) \n",
      "C=1.32 \n",
      "#Substituting in equation 9.105 (putting l = diameter = 0.268 m):\n",
      "h_c=C*((310.0-294.0)/d_s)**0.25 \n",
      "#If the pipe were unlagged,(hc+hr)for DT=150 K would be about 20 W/m2 K and the heat loss would then be:\n",
      "Q_l=20*math.pi*d_o*150 \n",
      "\n",
      "#Result\n",
      "print\"The heat loss to the air =\",round(Q_l*1e-3,2),\"kW/m\""
     ],
     "language": "python",
     "metadata": {},
     "outputs": [
      {
       "output_type": "stream",
       "stream": "stdout",
       "text": [
        "The heat loss to the air = 1.58 kW/m\n"
       ]
      }
     ],
     "prompt_number": 71
    },
    {
     "cell_type": "heading",
     "level": 2,
     "metadata": {},
     "source": [
      "Example no:9.34,Page no:560"
     ]
    },
    {
     "cell_type": "code",
     "collapsed": false,
     "input": [
      "#Variable declaration\n",
      "T1=420 #temperature of steam\n",
      "k=0.1 #Thermal conductivity\n",
      "T2=285  #Ambient temperature\n",
      "h=10 #the coefficient of heat transfer from the outside of the lagging to \n",
      "     #the surroundings\n",
      "    \n",
      "    \n",
      "#Calculation\n",
      "\n",
      "#determining Q/l from equation 9.21 and equating it to heat loss from the\n",
      "#outside of the lagging we get\n",
      "#(Q/l)=84.82/(math.log(d_o/0.1)+(0.02/d_o)) W/m\n",
      "#using various equations we finally get an equation in terms of d_o and we\n",
      "# will solve it by using fsolve\n",
      "def F(d_o):\n",
      "    return((1/(math.log(d_o/0.1)+(0.02/d_o))**2)-(2.35*(d_o**3)/(d_o-0.02))) \n",
      "ans=fsolve(F,1) \n",
      "E_t=(ans-0.1)/2\n",
      "\n",
      "#Result\n",
      "print\"\\n Economic thickness of lagging =\",round(E_t[0]*1e3),\"mm\""
     ],
     "language": "python",
     "metadata": {},
     "outputs": [
      {
       "output_type": "stream",
       "stream": "stdout",
       "text": [
        "\n",
        " Economic thickness of lagging = 163.0 mm\n"
       ]
      }
     ],
     "prompt_number": 76
    }
   ],
   "metadata": {}
  }
 ]
}