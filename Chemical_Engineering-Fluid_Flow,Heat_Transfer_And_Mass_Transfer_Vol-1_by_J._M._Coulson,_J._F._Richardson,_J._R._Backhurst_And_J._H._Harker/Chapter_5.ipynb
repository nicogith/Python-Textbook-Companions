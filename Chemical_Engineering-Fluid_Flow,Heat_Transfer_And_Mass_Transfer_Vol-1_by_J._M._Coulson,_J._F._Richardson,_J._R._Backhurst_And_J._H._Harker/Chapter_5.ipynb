{
 "metadata": {
  "name": ""
 },
 "nbformat": 3,
 "nbformat_minor": 0,
 "worksheets": [
  {
   "cells": [
    {
     "cell_type": "heading",
     "level": 1,
     "metadata": {},
     "source": [
      "Chapter 5:Flow of Multiphase Mixtures"
     ]
    },
    {
     "cell_type": "heading",
     "level": 2,
     "metadata": {},
     "source": [
      "Example no:5.1,Page no:190"
     ]
    },
    {
     "cell_type": "code",
     "collapsed": false,
     "input": [
      "#Variable declaration\n",
      "id=75e-3  # internal diameter of pipe\n",
      "f_r_s=0.05  # Flow rate of steam in (kg/s)\n",
      "f_r_w=1.5  # Flow rate of water in (kg/s)\n",
      "T=330  # Mean Temperature\n",
      "P=120  # Mean Pressure drop\n",
      "\n",
      "#Calculation\n",
      "import math\n",
      "area=math.pi*id**2/4.0  # Cross-sectional area for flow\n",
      "f_r_w_m3s=f_r_w/1000.0  # Flow of water\n",
      "wtr_vel=f_r_w_m3s/area  #Water velocity\n",
      "rho_steam=18*273*120.0/(22.4*330.0*101.3)  # density of steam at 330 K and 120 kN/m**2\n",
      "f_r_s_m3s=f_r_s/rho_steam  #Flow of Steam\n",
      "steam_vel=f_r_s_m3s/area  #Steam velocity\n",
      "meu_steam=0.0113e-3 \n",
      "meu_water=0.52e-3 \n",
      "Rel=id*wtr_vel*1000/meu_water \n",
      "Reg=id*steam_vel*rho_steam/meu_steam \n",
      "DPl=4*0.0025*(1000*wtr_vel**2)/id \n",
      "DPg=4*0.0022*(rho_steam*steam_vel**2)/id \n",
      "X=(DPl/DPg)**0.5 \n",
      "phi_l=4.35 \n",
      "phi_g=3.95 \n",
      "DP_tpf=phi_g**2*DPg/1000 \n",
      "\n",
      "#Result\n",
      "print\"Pressure drop per unit length of pipe =\",round(DP_tpf,3),\"kN/m**2\"\n"
     ],
     "language": "python",
     "metadata": {},
     "outputs": [
      {
       "output_type": "stream",
       "stream": "stdout",
       "text": [
        "Pressure drop per unit length of pipe = 0.298 kN/m**2\n"
       ]
      }
     ],
     "prompt_number": 9
    },
    {
     "cell_type": "heading",
     "level": 2,
     "metadata": {},
     "source": [
      "Example no:5.2,Page no:212"
     ]
    },
    {
     "cell_type": "code",
     "collapsed": false,
     "input": [
      "#Variable declaration\n",
      "M_p_d=0.2e-3  # Mean particle diameter\n",
      "f_r_w=0.5  #Flow rate of water\n",
      "id=25e-3  #Diameter of pipe\n",
      "l=100  #length of pipe\n",
      "t_vel=0.0239  #Terminal velocity of falling sand particles\n",
      "\n",
      "\n",
      "#Calculation\n",
      "import math\n",
      "import sympy\n",
      "Um=f_r_w/(1000*math.pi*id**2/4) \n",
      "Re=id*Um*1000/0.001 \n",
      "#Assuming e/d = 0.008, then, from Figure 3.7:\n",
      "phi=0.0046 \n",
      "f=0.0092 \n",
      "#From, equation 3.20, the head loss is:\n",
      "hf=4*phi*l*Um**2/(9.81*id) \n",
      "iw=hf/l \n",
      "i=300*1000/(1000*9.81*100) \n",
      "# Substituting in equation 5.20:\n",
      "C=(iw/(i-iw)*(1100*9.81*id*(2.6-1)*t_vel)/(Um**2*Um))**-1 \n",
      "#If G kg/s is the mass flow of sand, then:\n",
      "G=sympy.Symbol('G') \n",
      "p=sympy.solve(2600**-1*G-0.30*(2600**-1*G+.0005))\n",
      "\n",
      "#Result\n",
      "print\"\\n Mass flow of sand =\",round(p[0],2),\"kg/s=\",round(p[0]*3600.0/1000.0),\"tonne/h\"\n"
     ],
     "language": "python",
     "metadata": {},
     "outputs": [
      {
       "output_type": "stream",
       "stream": "stdout",
       "text": [
        "\n",
        " Mass flow of sand = 0.56 kg/s= 2.0 tonne/h\n"
       ]
      }
     ],
     "prompt_number": 16
    },
    {
     "cell_type": "heading",
     "level": 2,
     "metadata": {},
     "source": [
      "Example no:5.3,Page no:225"
     ]
    },
    {
     "cell_type": "code",
     "collapsed": false,
     "input": [
      "#Variable declaration\n",
      "p_s=1.25e-3  # Particle size of sand\n",
      "rho_sand=2600.0  #Density of sand\n",
      "flow_sand=1.0  #flow rate of sand in air\n",
      "l=200.0  #length of pipe\n",
      "d=100e-3  # taking nearest standard size of pipe\n",
      "Uo=4.7 \n",
      "Ug=30.0\n",
      "Meu_air=1.7e-5  # viscosity of air\n",
      "rho_air=1  # Density of air\n",
      "\n",
      "#Calculation\n",
      "import math\n",
      "flow_air=flow_sand/5.0 \n",
      "vol_flow_air=1*flow_air \n",
      "area=flow_air/Ug\n",
      "pipe_dia=math.sqrt(4*area/math.pi)\n",
      "Ug=flow_air/(math.pi*(0.1**2)/4.0)\n",
      "Ug=round(Ug,1)\n",
      "Us=Ug-(Uo/(0.468+(7.25*(Uo/rho_sand)**0.5))) \n",
      "\n",
      "Re=(d*Ug*rho_air/Meu_air) \n",
      "phi=0.004 \n",
      "DP_air=(4*phi*l/d)*rho_air*Ug**2/2.0 \n",
      "DP_x=2805.0*DP_air/(Uo*Us**2) \n",
      "DP=DP_air+DP_x \n",
      "\n",
      "#Result\n",
      "print\"Volumetric flow rate of air =\",vol_flow_air,\"m**3/s\" \n",
      "print\"The cross-sectional area of a 100 mm ID. pipe =\",round(pipe_dia*1000),\"mm\\nThe nearest stand size is 100 mm\"\n",
      "print\"Pressure drop due to air =\",round(DP_air/1000,1),\"kN/m**2\"\n",
      "print\"Pressure drop due to sand particles =\",round(DP_x/1000,1),\"kN/m**2\"\n",
      "print\"The total pressure drop =\",round(DP/1000,1),\"kN/m**2\""
     ],
     "language": "python",
     "metadata": {},
     "outputs": [
      {
       "output_type": "stream",
       "stream": "stdout",
       "text": [
        "Volumetric flow rate of air = 0.2 m**3/s\n",
        "The cross-sectional area of a 100 mm ID. pipe = 92.0 mm\n",
        "The nearest stand size is 100 mm\n",
        "Pressure drop due to air = 10.4 kN/m**2\n",
        "Pressure drop due to sand particles = 16.4 kN/m**2\n",
        "The total pressure drop = 26.8 kN/m**2\n"
       ]
      }
     ],
     "prompt_number": 41
    }
   ],
   "metadata": {}
  }
 ]
}