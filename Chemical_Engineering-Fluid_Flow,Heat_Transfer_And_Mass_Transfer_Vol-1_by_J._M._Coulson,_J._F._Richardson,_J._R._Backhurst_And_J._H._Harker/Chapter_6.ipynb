{
 "metadata": {
  "name": ""
 },
 "nbformat": 3,
 "nbformat_minor": 0,
 "worksheets": [
  {
   "cells": [
    {
     "cell_type": "heading",
     "level": 1,
     "metadata": {},
     "source": [
      "Chapter 6:Flow and Pressure Measurement"
     ]
    },
    {
     "cell_type": "heading",
     "level": 2,
     "metadata": {},
     "source": [
      "Example no:6.1,Page no:252"
     ]
    },
    {
     "cell_type": "code",
     "collapsed": false,
     "input": [
      "#Variable declaration\n",
      "d_o=25e-3 #Diameter of orifice\n",
      "d_p=75e-3 #Diameter of pipe\n",
      "flow_o=300e-6 #Flow rate through pipe\n",
      "Meu_watr=1e-3 #Viscosity of water\n",
      "\n",
      "#Calculation\n",
      "import math\n",
      "import sympy\n",
      "area_o=math.pi/4*d_o**2 #Area of orifice\n",
      "vel_o=flow_o/area_o #Velocity of water through the orifice\n",
      "Re_o=d_o*vel_o*1000/Meu_watr #Re at the orifice\n",
      "Cd=0.61 \n",
      "G=flow_o*1e3  #mass flow rate water\n",
      "ho=sympy.Symbol('ho') \n",
      "p=sympy.solve(G**2-((Cd*area_o*1000)**2*2*9.81*ho))\n",
      "\n",
      "#Result\n",
      "print\"Difference in level on a water manometer =\",round(p[0]*1000),\"mm of water\""
     ],
     "language": "python",
     "metadata": {},
     "outputs": [
      {
       "output_type": "stream",
       "stream": "stdout",
       "text": [
        "Difference in level on a water manometer = 51.0 mm of water\n"
       ]
      }
     ],
     "prompt_number": 16
    },
    {
     "cell_type": "heading",
     "level": 2,
     "metadata": {},
     "source": [
      "Example no:6.2,Page no:253"
     ]
    },
    {
     "cell_type": "code",
     "collapsed": false,
     "input": [
      "#Variable declaration\n",
      "rho_sul=1300.0                   #Density of sulphuric acid\n",
      "id=50e-3                         #Internal diameter of pipe\n",
      "d_o=10e-3                        #Diameter of orifice\n",
      "h=.1                             #Differential pressure shown on a mercury manometer\n",
      "Cd=0.61                          #Coeffecient of discharge\n",
      "rho_merc=13550.0                 #Density of mercury\n",
      "rho_watr=1000.0                  #Density of water\n",
      "\n",
      "#Calculation\n",
      "area_o=math.pi/4*d_o**2           #area of orifice\n",
      "h_sul=h*(rho_merc-rho_sul)/rho_sul \n",
      "G_sul=Cd*area_o*rho_sul*(2*9.81*h_sul)**0.5 \n",
      "DP=rho_sul*9.81*h_sul \n",
      "\n",
      "#Result\n",
      "print\"(a).The mass flow rate of acid =\",round(G_sul,3),\"kg/s\"\n",
      "print\"(b).The drop in pressure =\",round(DP/1000),\"kN/m**2\""
     ],
     "language": "python",
     "metadata": {},
     "outputs": [
      {
       "output_type": "stream",
       "stream": "stdout",
       "text": [
        "(a).The mass flow rate of acid = 0.268 kg/s\n",
        "(b).The drop in pressure = 12.0 kN/m**2\n"
       ]
      }
     ],
     "prompt_number": 18
    },
    {
     "cell_type": "heading",
     "level": 2,
     "metadata": {},
     "source": [
      "Example no:6.3,Page no:256"
     ]
    },
    {
     "cell_type": "code",
     "collapsed": false,
     "input": [
      "#Variable declaration\n",
      "d=150e-3 #Diameter of pipe\n",
      "d_t=50e-3 #Throat diameter\n",
      "hv=121e-3 #Pressure drop over the converging section\n",
      "G=2.91  #Mass Flow rate of water\n",
      "\n",
      "#Calculation\n",
      "import math\n",
      "A1=math.pi*d**2/4.0 \n",
      "A2=math.pi*d_t**2/4.0 \n",
      "Cd=G*math.sqrt(A1**2-A2**2)/(1000*A1*A2*math.sqrt(2*9.8*hv)) \n",
      "\n",
      "#Result\n",
      "print\"Coefficient for the converging cone of the meter at given flowrate =\",round(Cd,2),\"(Approx)\""
     ],
     "language": "python",
     "metadata": {},
     "outputs": [
      {
       "output_type": "stream",
       "stream": "stdout",
       "text": [
        "Coefficient for the converging cone of the meter at given flowrate = 0.96 (Approx)\n"
       ]
      }
     ],
     "prompt_number": 27
    },
    {
     "cell_type": "heading",
     "level": 2,
     "metadata": {},
     "source": [
      "Example no:6.4,Page no:261"
     ]
    },
    {
     "cell_type": "code",
     "collapsed": false,
     "input": [
      "#Variable declaration\n",
      "l=0.3 #length of tube\n",
      "id_t=25e-3 #Top internal diameter of tube\n",
      "id_b=20e-3 #Bottom internal diameter of tube\n",
      "d_f=20e-3 #Diameter of float\n",
      "v_f=6e-6 #Volume of float\n",
      "Cd=0.7 #Coefficient of discharge\n",
      "rho=1000 #Density of water\n",
      "rho_f=4800 #Density of float\n",
      "\n",
      "#Calculation\n",
      "import math\n",
      "area_t=math.pi/4.0*id_t**2 #Cross-sectional area at top of tube\n",
      "area_b=math.pi/4.0*id_b**2 #Cross-sectional area at bottom of tube\n",
      "A_f=math.pi/4.0*d_f**2 #Area of float\n",
      "A1=math.pi/4.0*((id_t+id_b)/2)**2 \n",
      "A2=A1-A_f \n",
      "G=Cd*A2*math.sqrt((2*9.81*v_f*(rho_f-rho)*rho)/(A_f*(1-(A2/A1)**2)))\n",
      "\n",
      "#Result\n",
      "print\"The flow rate of water =\",round(G,3),\"kg/s\""
     ],
     "language": "python",
     "metadata": {},
     "outputs": [
      {
       "output_type": "stream",
       "stream": "stdout",
       "text": [
        "The flow rate of water = 0.071 kg/s\n"
       ]
      }
     ],
     "prompt_number": 30
    },
    {
     "cell_type": "heading",
     "level": 2,
     "metadata": {},
     "source": [
      "Example no:6.5,Page no:262"
     ]
    },
    {
     "cell_type": "code",
     "collapsed": false,
     "input": [
      "#Variable declaration\n",
      "L=0.5 # Length of the weir\n",
      "D=100e-3 #Height of water over the weir\n",
      "n=0 \n",
      "\n",
      "#Calculation\n",
      "#Using Francis formula:\n",
      "Q=1.84*(L-(0.1*n*D))*D**1.5 \n",
      "\n",
      "#Result\n",
      "print\"Volumetric flowrate of water =\",round(Q,2),\"m**3/s\""
     ],
     "language": "python",
     "metadata": {},
     "outputs": [
      {
       "output_type": "stream",
       "stream": "stdout",
       "text": [
        "Volumetric flowrate of water = 0.03 m**3/s\n"
       ]
      }
     ],
     "prompt_number": 34
    },
    {
     "cell_type": "heading",
     "level": 2,
     "metadata": {},
     "source": [
      "Example no:6.6,Page no:263"
     ]
    },
    {
     "cell_type": "code",
     "collapsed": false,
     "input": [
      "#Variable declaration\n",
      "G=15.0  #Mass flow rate of organic liquid\n",
      "L_ow=2.0 #Length of the weir\n",
      "rho_l=650.0 \n",
      "\n",
      "#Calculation\n",
      "Q=G/rho_l\n",
      "Q=round(Q,3)\n",
      "#Use is made of the Francis formula (equation 6.43),\n",
      "h_ow=(2.0/3.0)*(Q/L_ow)**(2.0/3.0) \n",
      "\n",
      "#Result\n",
      "print\"Height of liquid flowing over the weir =%d\"%(h_ow*1000),\"mm\""
     ],
     "language": "python",
     "metadata": {},
     "outputs": [
      {
       "output_type": "stream",
       "stream": "stdout",
       "text": [
        "Height of liquid flowing over the weir =33 mm\n"
       ]
      }
     ],
     "prompt_number": 42
    }
   ],
   "metadata": {}
  }
 ]
}