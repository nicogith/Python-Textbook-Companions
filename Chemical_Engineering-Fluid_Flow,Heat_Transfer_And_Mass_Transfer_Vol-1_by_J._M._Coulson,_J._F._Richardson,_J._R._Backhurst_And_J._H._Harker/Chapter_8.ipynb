{
 "metadata": {
  "name": ""
 },
 "nbformat": 3,
 "nbformat_minor": 0,
 "worksheets": [
  {
   "cells": [
    {
     "cell_type": "heading",
     "level": 1,
     "metadata": {},
     "source": [
      "Chapter 8:Pumping of Fluids"
     ]
    },
    {
     "cell_type": "heading",
     "level": 2,
     "metadata": {},
     "source": [
      "Example no:8.1,Page no:320"
     ]
    },
    {
     "cell_type": "code",
     "collapsed": false,
     "input": [
      "#Variable declaration\n",
      "dia_cy=110e-3  #Cylinder diameter\n",
      "stro=230e-3  #stroke\n",
      "l_su=6  #Suction line length\n",
      "d_su=50e-3  #Suction line diameter\n",
      "lvl_wtr=3  #level of the water in the suction tank\n",
      "atm_P=10.36 \n",
      "head=1.2   #m water\n",
      "\n",
      "#Calculation\n",
      "import sympy\n",
      "import math\n",
      "N=sympy.Symbol('N')    #Maximum speed   \n",
      "ang_vel=2*math.pi*N    #Angular velocity in rad/s\n",
      "#at\n",
      "t=0                    #Initially\n",
      "max_acc=0.5*stro*(2*math.pi*N)**2*math.cos(2*math.pi*N*t)  #Maximum acceleration\n",
      "max_2=(dia_cy/d_su)**2*max_acc   #Maximum acceleration  of liquid in suction pipe\n",
      "acc_F=max_2*(math.pi/4.0)*d_su**2*l_su*1000   #Accelerating force on the liquid[ N]\n",
      "P=max_2*l_su*1000     #Pressure drop in suction line N/m**2\n",
      "P=P/(1000*9.81)     #in m water\n",
      "n=sympy.solve(head-atm_P+lvl_wtr+P)  #speed\n",
      "\n",
      "#Result\n",
      "print\"Maximum speed at which the pump can run =\",round(n[1],3),\"Hz\" "
     ],
     "language": "python",
     "metadata": {},
     "outputs": [
      {
       "output_type": "stream",
       "stream": "stdout",
       "text": [
        "Maximum speed at which the pump can run = 0.677 Hz\n"
       ]
      }
     ],
     "prompt_number": 3
    },
    {
     "cell_type": "heading",
     "level": 2,
     "metadata": {},
     "source": [
      "Example no:8.2,Page no:343"
     ]
    },
    {
     "cell_type": "code",
     "collapsed": false,
     "input": [
      "#Variable declaration\n",
      "rho_l=800  #Density of liquid\n",
      "Meu_l=0.5e-3 #Viscosity of liquid\n",
      "Q=0.0004 #Volumetric flow rate\n",
      "liq_depth=0.07 \n",
      "d=25e-3 #Diameter of pipe used\n",
      "p_v_r=1e3 #Pressure of vapor in reboiler\n",
      "Z=2 #Net Positive Suction Head\n",
      "\n",
      "#Calculation\n",
      "import math\n",
      "A=math.pi/4*d**2 #Cross sectional area of pipe\n",
      "u=Q/A #Velocity in pipe\n",
      "Re=d*u*rho_l/Meu_l #Reynolds no.\n",
      "phi=0.0028 \n",
      "hf_l=(4*phi*u**2)/(d*9.81) \n",
      "l=10 \n",
      "hf=hf_l*l \n",
      "ho=Z+hf \n",
      "\n",
      "#Result\n",
      "print\"The minimum height required =\",round(ho,1),\"m\"\n"
     ],
     "language": "python",
     "metadata": {},
     "outputs": [
      {
       "output_type": "stream",
       "stream": "stdout",
       "text": [
        "The minimum height required = 2.3 m\n"
       ]
      }
     ],
     "prompt_number": 8
    },
    {
     "cell_type": "heading",
     "level": 2,
     "metadata": {},
     "source": [
      "Example no:8.3,Page no:356"
     ]
    },
    {
     "cell_type": "code",
     "collapsed": false,
     "input": [
      "#Variable declaration\n",
      "Q=0.1 #Flow rate of air suppplied by compressor\n",
      "T=273 #Temperature\n",
      "P=101.3e3 #Pressure\n",
      "P2=380e3 #Air compressed to a pressure\n",
      "T2=289 #Suction Temperature\n",
      "l=0.25 #Length of the stroke\n",
      "u=4 #Speed\n",
      "c=4/100.0 #Cylinder clearance\n",
      "Gamma=1.4 \n",
      "\n",
      "#Calculation\n",
      "import math\n",
      "V=Q*T2/(u*T) #Volume per stroke\n",
      "R=P2/P #Compression ratio\n",
      "Vs=V/(1+c-(c*(R)**(1/Gamma))) \n",
      "A=Vs/l #Cross sectional Area of cylinder\n",
      "d=(A/math.pi*4)**0.5 #Diameter of cylinder\n",
      "W=P*V*(Gamma/(Gamma-1))*((R)**((Gamma-1)/Gamma)-1) \n",
      "\n",
      "#Result\n",
      "print\"\\n Diameter of cylinder =\",round(d,2),\"m\"\n",
      "print\"\\n Theoretical power requirements =\",round(W*4/1e3,1),\"kW\""
     ],
     "language": "python",
     "metadata": {},
     "outputs": [
      {
       "output_type": "stream",
       "stream": "stdout",
       "text": [
        "\n",
        " Diameter of cylinder = 0.38 m\n",
        "\n",
        " Theoretical power requirements = 17.2 kW\n"
       ]
      }
     ],
     "prompt_number": 10
    },
    {
     "cell_type": "heading",
     "level": 2,
     "metadata": {},
     "source": [
      "Example no:8.4,Page no:357"
     ]
    },
    {
     "cell_type": "code",
     "collapsed": false,
     "input": [
      "#Variable declaration\n",
      "T=290 #Temperature at which compression takes place\n",
      "P1=101.3e3 #Initial pressure\n",
      "P2=2065e3 #Final pressure\n",
      "eta=0.85 #Mechanical efficiecy\n",
      "c1=4/100.0 #Clearance in cylinder 1\n",
      "c2=5/100.0 #Clearance in cylinder 1\n",
      "\n",
      "#calculation\n",
      "import math\n",
      "R=P2/P1                         #Overall compression ratio\n",
      "V_spe=22.4/28.8*T/273.0 #Specific volume of air at 290 K\n",
      "W=P1*V_spe*2*(1.25/(1.25-1))*(R**.1-1) \n",
      "W_act=W/0.85 \n",
      "W_it=P1*V_spe*math.log(R) \n",
      "eta_it=100*W_it/W_act \n",
      "Gamma=1.4 \n",
      "W_ie=P1*V_spe*(Gamma/(Gamma-1))*((R)**((Gamma-1)/Gamma)-1) \n",
      "eta_ie=100*W_ie/W_act \n",
      "Vs1=V_spe/(1+c1-(c1*(R)**(1/(2*2.5)))) \n",
      "Vs2=V_spe*(1/R)**0.5/(1+c2-(c2*(R)**(1/(2*2.5)))) \n",
      "ratio=Vs1/Vs2 \n",
      "\n",
      "#Result\n",
      "print\"(a).Energy supplied to the compressor, that is the work of compression =\",round(W_act*1e-3,1),\"kJ/kg\"\n",
      "print\"(b).Isothermal efficiency =\",round(eta_it),\"%\"\n",
      "print\"(c).Isentropic efficiency =\",round(eta_ie),\"%\"\n",
      "print\"(d).The ratio of the swept volumes in the two cylinders =\",round(ratio,2)"
     ],
     "language": "python",
     "metadata": {},
     "outputs": [
      {
       "output_type": "stream",
       "stream": "stdout",
       "text": [
        "(a).Energy supplied to the compressor, that is the work of compression = 346.5 kJ/kg\n",
        "(b).Isothermal efficiency = 73.0 %\n",
        "(c).Isentropic efficiency = 116.0 %\n",
        "(d).The ratio of the swept volumes in the two cylinders = 4.48\n"
       ]
      }
     ],
     "prompt_number": 13
    },
    {
     "cell_type": "heading",
     "level": 2,
     "metadata": {},
     "source": [
      "Example no:8.5,Page no:360"
     ]
    },
    {
     "cell_type": "code",
     "collapsed": false,
     "input": [
      "#Variable declaration\n",
      "Q_l=7.5e-4 \n",
      "rho_l=1200.0 \n",
      "h=20.0 \n",
      "P=450e3 \n",
      "eta=30.0/100.0 \n",
      "P_atm=101.3e3 \n",
      "Gamma=1.4 \n",
      "G=Q_l*rho_l #Mass flow of liquid\n",
      "W=G*9.81*h \n",
      "W_act=W/eta \n",
      "M=28.9 \n",
      "va=22.4/M \n",
      "\n",
      "#Calculation\n",
      "import sympy\n",
      "import math\n",
      "x=sympy.Symbol('x') \n",
      "Ga=sympy.solve(P_atm*va*x*math.log(P/P_atm)-W_act) \n",
      "Q=Ga[0]*va \n",
      "Power=(P_atm*Q)*(Gamma/(Gamma-1))*((P/P_atm)**((Gamma-1)/Gamma)-1) \n",
      "Power_reqd=Power/1000 \n",
      "\n",
      "#Result\n",
      "print\"Power requirement of the pump =\",round(Power_reqd,3),\"kW\""
     ],
     "language": "python",
     "metadata": {},
     "outputs": [
      {
       "output_type": "stream",
       "stream": "stdout",
       "text": [
        "Power requirement of the pump = 0.734 kW\n"
       ]
      }
     ],
     "prompt_number": 15
    },
    {
     "cell_type": "heading",
     "level": 2,
     "metadata": {},
     "source": [
      "Example no:8.6,Page no:360"
     ]
    },
    {
     "cell_type": "code",
     "collapsed": false,
     "input": [
      "#Variable declaration\n",
      "P1=101.3e3 \n",
      "Q_watr=0.01 \n",
      "depth=100 \n",
      "d=100e-3 \n",
      "depth_watr=40 \n",
      "Q_air=0.1 \n",
      "P2=800e3 \n",
      "Gamma=1.4 \n",
      "#V1=Q_air \n",
      "\n",
      "#Calculation\n",
      "G_watr=Q_watr*1000 #Mass flow of water\n",
      "W=G_watr*depth_watr*9.81 \n",
      "E=P1*Q_air*(1.4/0.4)*((P2/P1)**(0.4/1.4)-1) #     equation 8.37\n",
      "effi=W/E*100 \n",
      "P=345e3 \n",
      "v1=8314*273/(29*P) \n",
      "v2=8314*273/(29*P1) \n",
      "G_air=Q_air/v2  #mass flowrate of the air is:\n",
      "Q_mean=G_air*v1 #Mean volumetric flowrate of air\n",
      "Q_tot=Q_watr+Q_mean #Total volumetric flowrate\n",
      "A=math.pi/4*d**2 #Area of pipe\n",
      "v_mean=Q_tot/A \n",
      "\n",
      "#Result\n",
      "print\"Efficiency =\",round(effi,1),\"%\"\n",
      "print\"Mean velocity of the mixture =\",round(v_mean,2),\"m/s\"\n"
     ],
     "language": "python",
     "metadata": {},
     "outputs": [
      {
       "output_type": "stream",
       "stream": "stdout",
       "text": [
        "Efficiency = 13.8 %\n",
        "Mean velocity of the mixture = 5.01 m/s\n"
       ]
      }
     ],
     "prompt_number": 17
    },
    {
     "cell_type": "heading",
     "level": 2,
     "metadata": {},
     "source": [
      "Example no:8.7,Page no:369"
     ]
    },
    {
     "cell_type": "code",
     "collapsed": false,
     "input": [
      "#Variable declaration\n",
      "d=40e-3 #Internal Diameter of the pipe\n",
      "l_p=150.0  #Lendth of pipe\n",
      "Q_watr=600e-6 #Flow of water\n",
      "h1=10.0  #Vertical Height\n",
      "h2=2.0  #head lost across heat exchanger\n",
      "eta=60.0/100.0  #Efficiency of pump\n",
      "\n",
      "\n",
      "#Calculation\n",
      "import math\n",
      "A=math.pi/4*d**2  #Area for flow\n",
      "u=Q_watr/A  #Velocity\n",
      "#At 320 K,\n",
      "Meu=0.65e-3 \n",
      "rho=1000 \n",
      "Re=d*u*rho/Meu \n",
      "phi=0.004  #for a relative roughness of 0.005\n",
      "l=l_p+h1+(260*d) \n",
      "hf=4*phi*l*u**2/(d*9.81) \n",
      "h_tot=hf+h1+h2 #Total head to be developed\n",
      "G=Q_watr*rho # Mass flow of water\n",
      "P_r=G*h_tot*9.81  #Power Required\n",
      "P_s=P_r/eta  #Power Supplied\n",
      "\n",
      "#Result\n",
      "print\"Power Required =\",round(P_s,2),\"W\"\n",
      "print\"NOTE:Very Approximate answer in book\""
     ],
     "language": "python",
     "metadata": {},
     "outputs": [
      {
       "output_type": "stream",
       "stream": "stdout",
       "text": [
        "Power Required = 133.26 W\n",
        "NOTE:Very Approximate answer in book\n"
       ]
      }
     ],
     "prompt_number": 23
    },
    {
     "cell_type": "heading",
     "level": 2,
     "metadata": {},
     "source": [
      "Example no:8.8,Page no:370"
     ]
    },
    {
     "cell_type": "code",
     "collapsed": false,
     "input": [
      "#Variable declaration\n",
      "%matplotlib inline\n",
      "eta=0.50 \n",
      "Q=[0.0028,0.0039,0.0050,0.0056,0.0059]\n",
      "h=[23.2,21.3,18.9,15.2,11.0]\n",
      "Q1=linspace(0.0015,0.0060,42)\n",
      "h1=10+2.205e5*Q1**2 \n",
      "plot(Q,h,label=\"Pump Characteristics\") \n",
      "plot(Q1,h1,label=\"h=10+2.205e5*Q**2\") \n",
      "plt.ylim(0,30)\n",
      "plt.xlim(0.0005,0.006)\n",
      "title(\"Data for Example 8.8\")\n",
      "plt.xlabel(\"$Discharge (Q m**3/s)$\")\n",
      "plt.ylabel(\"$Head (m water)$\") \n",
      "legend() \n",
      "#showing the intersection point\n",
      "x1=[0,0.0054] \n",
      "y1=[16.43,16.43] \n",
      "x2=[0.0054,0.0054] \n",
      "y2=[0,16.43] \n",
      "#plot(x1,y1,x2,y2) \n",
      "Q_r=0.0054 \n",
      "h_r=10+2.205e5*Q_r**2 \n",
      "P=Q_r*1000*h_r*9.81/eta \n",
      "\n",
      "#Result\n",
      "show()\n",
      "print\"\\n The discharge at the point of intersection between\\n the purnp characteristic equation =\",Q_r,\"m**3/s\"\n",
      "print\"\\n Power required=\",round(P*1e-3,2),\"kW\""
     ],
     "language": "python",
     "metadata": {},
     "outputs": [
      {
       "output_type": "stream",
       "stream": "stdout",
       "text": [
        "Populating the interactive namespace from numpy and matplotlib\n"
       ]
      },
      {
       "metadata": {},
       "output_type": "display_data",
       "png": "[encoded data removed]",
       "text": [
        "<matplotlib.figure.Figure at 0x7ec6ac8>"
       ]
      },
      {
       "output_type": "stream",
       "stream": "stdout",
       "text": [
        "\n",
        " The discharge at the point of intersection between\n",
        " the purnp characteristic equation = 0.0054 m**3/s\n",
        "\n",
        " Power required= 1.74 kW\n"
       ]
      }
     ],
     "prompt_number": 20
    },
    {
     "cell_type": "heading",
     "level": 2,
     "metadata": {},
     "source": [
      "Example no:8.10,Page no:375"
     ]
    },
    {
     "cell_type": "code",
     "collapsed": false,
     "input": [
      "#Variable declaration\n",
      "Meu_H2=0.009e-3  #Viscosity of hydrogen\n",
      "P2=2e6  #Downstream Pressure\n",
      "P1=2.5e6 #Upstream pressure\n",
      "P_m=(P1+P2)/2 #Mean Pressure\n",
      "T=295.0 #Temperature of the gas\n",
      "l=500.0 #Length of the pipe used\n",
      "d=50e-3 #diameter of pipe used\n",
      "\n",
      "#Calculation\n",
      "rho_H2=2*P_m*273.0/(22.4*101.3e3*T) #Density of hydrogen at the mean pressure\n",
      "A=math.pi*d**2/4.0 #Area of the pipe\n",
      "eta=0.60  #Efficiency of the pump\n",
      "v_m=1/rho_H2 \n",
      "phi=0.0024 \n",
      "x=sympy.Symbol('x') \n",
      "G=sympy.solve((x/A)**2*math.log(P1/P2)+(P2-P1)*rho_H2+4*phi*l/d*(x/A)**2) \n",
      "P=round(G[1],1)*P_m*v_m*math.log(P1/P2)/eta \n",
      "\n",
      "#Result\n",
      "print\"Mass flow rate =\",round(G[1],1),\"kg/s\"\n",
      "print\"Power required =\",round(P*1e-3,2),\"kW(approx)\""
     ],
     "language": "python",
     "metadata": {},
     "outputs": [
      {
       "output_type": "stream",
       "stream": "stdout",
       "text": [
        "Mass flow rate = 0.2 kg/s\n",
        "Power required = 91.19 kW(approx)\n"
       ]
      }
     ],
     "prompt_number": 55
    }
   ],
   "metadata": {}
  }
 ]
}