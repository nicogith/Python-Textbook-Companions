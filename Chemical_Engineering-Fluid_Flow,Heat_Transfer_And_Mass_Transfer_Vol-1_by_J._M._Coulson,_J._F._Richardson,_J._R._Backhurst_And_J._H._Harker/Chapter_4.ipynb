{
 "metadata": {
  "name": ""
 },
 "nbformat": 3,
 "nbformat_minor": 0,
 "worksheets": [
  {
   "cells": [
    {
     "cell_type": "heading",
     "level": 1,
     "metadata": {},
     "source": [
      "Chapter 4:Flow of compressible Fluids"
     ]
    },
    {
     "cell_type": "heading",
     "level": 2,
     "metadata": {},
     "source": [
      "Example no:4.1,Page no:150"
     ]
    },
    {
     "cell_type": "code",
     "collapsed": false,
     "input": [
      "#Variable declaration\n",
      "d=0.006 #Diameter of the cylinder\n",
      "Gamma=1.47 \n",
      "#The critical pressures ratio for discharge through the valve\n",
      "C_r=(2/(Gamma+1))**(Gamma/(Gamma-1)) \n",
      "#(i) Sonic velocity will occur until the\n",
      "P_c=101.3/C_r #pressure at which sonic velocity will occur\n",
      "M=29 #molecular mass of air\n",
      "\n",
      "\n",
      "#Calculatiom\n",
      "\n",
      "%matplotlib inline\n",
      "import numpy as np\n",
      "import math\n",
      "G=[0]*13\n",
      "G2=[0]*11\n",
      "P1a=[0.1,0.125,0.15,0.17,0.19,0.2,0.5,1.0,2.0,3.0,4.0,5.0,6.0]\n",
      "for i in range(4,13):\n",
      "    G[i]=4.23e-2*P1a[i] \n",
      "for j in range(0,4):\n",
      "    \n",
      "    G[j]=0.0314*(P1a[j])**0.286*math.sqrt((1.0-round(0.519*(P1a[j])**(-0.286),2)))\n",
      "P2a=[0,1,2,2.65,3,3.5,4,4.5,4.9,4.95,5] \n",
      "for j in range(4,11):\n",
      "    G2[j]=0.2548*P2a[j]**0.714*math.sqrt(1-0.631*P2a[j]**0.286) \n",
      "\n",
      "for i in range(0,4):\n",
      "    G2[i]=0.210 \n",
      "    \n",
      "\n",
      "#Result\n",
      "print\"\\n\\n(i)...The discharge rate are plotted as:\"\n",
      "print\"G vs P1a data:\"\n",
      "print\"Above P1a=0.19 MN/m**2\"\n",
      "print\"P1a(MN/m^2)\\tG(kg/s)\"\n",
      "for z in range(4,13):\n",
      "    \n",
      "        print P1a[z],\"\\t\\t\",round(G[z],4)\n",
      "print\"\\nBelow P1a=0.19 MN/m**2\"\n",
      "print\"P1a(MN/m^2)\\tG(kg/s)\"\n",
      "for w in range(0,5):\n",
      "    print P1a[w],\"\\t\\t\",round(G[w],4)\n",
      "a=plt.plot(P1a,G) \n",
      "plt.title('Rate of discharge of air vs Cylider Pressure\\n')\n",
      "plt.xlabel('$Cylinder Pressure,P1a(MN/m**2$')\n",
      "plt.ylabel('$Mass flow G (kg/s)$')\n",
      "show(a)\n",
      "print\"\\n\\n(ii)...The Values of G as a functio of P2a:\"\n",
      "print\"P2a(MN/m^2)\\tG(kg/s)\"\n",
      "print \"<0.265\",\"\\t\\t\",round(G2[3],4)\n",
      "for w in range(4,10):\n",
      "    print P2a[w],\"\\t\\t\",round(G2[w],4)\n",
      "print P2a[10],\"\\t\\t\",round(G2[10])\n",
      "b=plt.plot(P2a,G2) \n",
      "plt.annotate('G max', xy=(1,0.22), xytext=(1,0.22))\n",
      "plt.title('Rate of discharge of air vs Downstream Pressure\\n')\n",
      "plt.xlabel('$Downstream Pressure,P2a(MN/m**2)$')\n",
      "plt.ylabel('$Mass flow rate G (kg/s)$')\n",
      "\n",
      "show(b)"
     ],
     "language": "python",
     "metadata": {},
     "outputs": [
      {
       "output_type": "stream",
       "stream": "stdout",
       "text": [
        "Populating the interactive namespace from numpy and matplotlib\n",
        "\n",
        "\n",
        "(i)...The discharge rate are plotted as:\n",
        "G vs P1a data:\n",
        "Above P1a=0.19 MN/m**2\n",
        "P1a(MN/m^2)\tG(kg/s)\n",
        "0.19 \t\t0.008\n",
        "0.2 \t\t0.0085\n",
        "0.5 \t\t0.0211\n",
        "1.0 \t\t0.0423\n",
        "2.0 \t\t0.0846\n",
        "3.0 \t\t0.1269\n",
        "4.0 \t\t0.1692\n",
        "5.0 \t\t0.2115\n",
        "6.0 \t\t0.2538\n",
        "\n",
        "Below P1a=0.19 MN/m**2\n",
        "P1a(MN/m^2)\tG(kg/s)\n",
        "0.1 \t\t0.0\n",
        "0.125 \t\t0.0042\n",
        "0.15 \t\t0.0061\n",
        "0.17 \t\t0.0071\n",
        "0.19 \t\t0.008\n"
       ]
      },
      {
       "metadata": {},
       "output_type": "display_data",
       "png": "[encoded data removed]",
       "text": [
        "<matplotlib.figure.Figure at 0xb351c18>"
       ]
      },
      {
       "output_type": "stream",
       "stream": "stdout",
       "text": [
        "\n",
        "\n",
        "(ii)...The Values of G as a functio of P2a:\n",
        "P2a(MN/m^2)\tG(kg/s)\n",
        "<0.265 \t\t0.21\n",
        "3 \t\t0.2059\n",
        "3.5 \t\t0.1942\n",
        "4 \t\t0.1707\n",
        "4.5 \t\t0.1288\n",
        "4.9 \t\t0.0609\n",
        "4.95 \t\t0.0439\n",
        "5 \t\t0.0\n"
       ]
      },
      {
       "metadata": {},
       "output_type": "display_data",
       "png": "[encoded data removed]",
       "text": [
        "<matplotlib.figure.Figure at 0xaa87c50>"
       ]
      }
     ],
     "prompt_number": 75
    },
    {
     "cell_type": "heading",
     "level": 2,
     "metadata": {},
     "source": [
      "Example no:4.2,Page no:167"
     ]
    },
    {
     "cell_type": "code",
     "collapsed": false,
     "input": [
      "#Variable declaration\n",
      "l=30 #Length of the tube\n",
      "d=150e-3 #Diameter of the tube\n",
      "P1=0.4e3 #Initial Pressure\n",
      "P2=0.13e3 #final Pressure\n",
      "X=0.003 \n",
      "Y=0.005 \n",
      "v1=21.15e1 \n",
      "\n",
      "#Calculation\n",
      "import math\n",
      "import sympy\n",
      "G_A=sympy.Symbol('G_A') \n",
      "f=(G_A**2*math.log(P1/P2))+((P2**2-P1**2)/(2*P1*v1))+(4*(Y*l/d)*G_A**2) \n",
      "A=sympy.solve(f) \n",
      "\n",
      "#Result\n",
      "print\"The approximate flow rate =\",round(A[1],2),\"kg/m**2 s\""
     ],
     "language": "python",
     "metadata": {},
     "outputs": [
      {
       "output_type": "stream",
       "stream": "stdout",
       "text": [
        "The approximate flow rate = 0.41 kg/m**2 s\n"
       ]
      }
     ],
     "prompt_number": 81
    },
    {
     "cell_type": "heading",
     "level": 2,
     "metadata": {},
     "source": [
      "Example no:4.3,Page no:168"
     ]
    },
    {
     "cell_type": "code",
     "collapsed": false,
     "input": [
      "#Variable declaration\n",
      "Q=50.0  #volumetric flow rate of methane\n",
      "P=101.3e3 #Given Pressure\n",
      "T1=288.0 #Given Temperature\n",
      "d=0.6 #Diameter of pipeline\n",
      "l=3e3 #length of the pipe line\n",
      "R_R=0.0001 #Relative roughness\n",
      "P2=1.7*10**5 #Pressure at which methane is to be discharged\n",
      "T2=297.0 #Temperature at which methane leaves the compressor\n",
      "M=16.0 #molecular mass of methane\n",
      "R=8314.0 #Gas constant\n",
      "Meu=1e-5 #Viscosity of methane at 293 K\n",
      "\n",
      "#Calculation\n",
      "import math\n",
      "from scipy.optimize import fsolve\n",
      "T=(T1+T2)/2.0 #Mean temperature\n",
      "P1_v1=R*T/(M) \n",
      "#At 288 K and 101.3 kN/m**2\n",
      "v=P1_v1/P*T1/T \n",
      "G=Q/v #Mass flow rate of methane\n",
      "A=math.pi/4*d**2 #cross sectional area of pipeline\n",
      "G_A=G/A\n",
      "Re=G_A*d/Meu \n",
      "#Y=R/(rho*u**2) = 0.0015\n",
      "Y=0.0015 #(from fig 3.7)\n",
      "#The upstream pressure is calculated using equation 4.55:\n",
      "def pressure(P1):\n",
      "    return((G_A**2)*math.log(P1/P2)+(P2**2-P1**2)/(2*P1_v1)+4*Y*(l/d)*G_A**2)\n",
      "#P1 = 1e5 \n",
      "z = fsolve(pressure,100000) \n",
      "\n",
      "#Result\n",
      "print\"Pressure to  developed at the compressor in order to achieve this flowrate =%.3e\"%z,\"N/m**2\" \n",
      "print\"NOTE:Approx answer is given in book\"\n"
     ],
     "language": "python",
     "metadata": {},
     "outputs": [
      {
       "output_type": "stream",
       "stream": "stdout",
       "text": [
        "Pressure to  developed at the compressor in order to achieve this flowrate =4.042e+05 N/m**2\n",
        "NOTE:Approx answer is given in book\n"
       ]
      }
     ],
     "prompt_number": 104
    },
    {
     "cell_type": "heading",
     "level": 2,
     "metadata": {},
     "source": [
      "Example no:4.4,Page no:176"
     ]
    },
    {
     "cell_type": "code",
     "collapsed": false,
     "input": [
      "#Variable declaration\n",
      "A1=0.007 #cross sectional area of stack pipe\n",
      "A2=4000e-6 #flow area of ruptured disc\n",
      "P1=10e6 #Pressure of the gas in the vessel\n",
      "Gamma=1.4 \n",
      "M=40 #mean molecular weight of gas\n",
      "\n",
      "#Calculation\n",
      "import math\n",
      "w_c=(2/(Gamma+1))**(Gamma/(Gamma-1)) \n",
      "w_c=round(w_c,2)\n",
      "\n",
      "V1=(22.4/M)*(500.0/273.0)*(101.3e3/P1) #Specific volume of the gas in the reactor\n",
      "V=V1*(1/w_c)**(1/Gamma) #Specific volume of gas at the throat\n",
      "u=math.sqrt(Gamma*5.3e6*V) #velocity at the throat\n",
      "G=u*A2/V #initial rate of discharge\n",
      "#obtaining the equations as given in book and solving for 'w' we get\n",
      "w=0.0057 #Pressure ratio\n",
      "P_u=P1*w \n",
      "Mach_no=2.23*(w**(-0.29)-1)**0.5 \n",
      "P_s=56.3*w*(w**(-0.29)-1)*1e6 \n",
      "\n",
      "\n",
      "#Result\n",
      "print\"(a)Initial rate of discharge of gas =\",round(G,1),\"kg/s\"\n",
      "print\"(b)The pressure upstream from the shockwave =\",P_u/1000.0,\"kN/m**2\"\n",
      "print\"The mach number is =\",round(Mach_no,2)\n",
      "print\"(c)The pressure downstream from the shockwave =\",P_s/1000,\"kN/m**2\"\n",
      "print\"NOTE:Mismatched answer due to very approximate value of v1 taken in book\"\n"
     ],
     "language": "python",
     "metadata": {},
     "outputs": [
      {
       "output_type": "stream",
       "stream": "stdout",
       "text": [
        "(a)Initial rate of discharge of gas = 85.2 kg/s\n",
        "(b)The pressure upstream from the shockwave = 57.0 kN/m**2\n",
        "The mach number is = 4.16\n",
        "(c)The pressure downstream from the shockwave = 1115.17300403 kN/m**2\n",
        "NOTE:Mismatched answer due to very approximate value of v1 taken in book\n"
       ]
      }
     ],
     "prompt_number": 133
    }
   ],
   "metadata": {}
  }
 ]
}