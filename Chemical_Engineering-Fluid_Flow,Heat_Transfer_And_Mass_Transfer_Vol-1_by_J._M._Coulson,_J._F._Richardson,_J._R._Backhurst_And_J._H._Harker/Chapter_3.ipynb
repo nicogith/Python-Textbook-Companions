{
 "metadata": {
  "name": ""
 },
 "nbformat": 3,
 "nbformat_minor": 0,
 "worksheets": [
  {
   "cells": [
    {
     "cell_type": "heading",
     "level": 1,
     "metadata": {},
     "source": [
      "Chapter 3:FLOW OF LIQUIDS IN PIPES AND OPEN CHANNELS"
     ]
    },
    {
     "cell_type": "heading",
     "level": 2,
     "metadata": {},
     "source": [
      "Example no:3.1,Page no:70"
     ]
    },
    {
     "cell_type": "code",
     "collapsed": false,
     "input": [
      "#Variable declaration\n",
      "sap=1.25  #Sulphuric acid pumped\n",
      "d=25e-3  #Diameter of pipe\n",
      "l=30  #length of pipe\n",
      "meu=25e-3  #Viscosity of acid\n",
      "rho_a=1840  #Density of acid\n",
      "\n",
      "#Calculation\n",
      "import math\n",
      "Re=4*sap/(math.pi*meu*d) \n",
      "u=sap/(rho_a*math.pi/4*d**2) \n",
      "#calculating pressure drop from the energy balance equation and equation 3.19\n",
      "Dp=rho_a*((0.5+4*0.006*30/0.025)*u**2+9.81*12) \n",
      "\n",
      "#Result\n",
      "print\"\\n Pressure drop =\",round((Dp/10**3)),\"kN/m**2\""
     ],
     "language": "python",
     "metadata": {},
     "outputs": [
      {
       "output_type": "stream",
       "stream": "stdout",
       "text": [
        "\n",
        " Pressure drop = 320.0 kN/m**2\n"
       ]
      }
     ],
     "prompt_number": 110
    },
    {
     "cell_type": "heading",
     "level": 2,
     "metadata": {},
     "source": [
      "Example no:3.2,Page no:70"
     ]
    },
    {
     "cell_type": "code",
     "collapsed": false,
     "input": [
      "#Variable declaration\n",
      "d=50e-3  #Diameter of pipe\n",
      "l=100.0  #length of pipe\n",
      "e=0.013  #Roughness of pipe\n",
      "DPf=50e3  #Maximum pressure drop\n",
      "rho=1000.0  #density of water\n",
      "meu=1e-3  #viscosity of water\n",
      "\n",
      "#Calculatiom\n",
      "phi_re2=(DPf)*d**3*rho/(4*l*meu**2) \n",
      "e_d=e/(d*1e3) \n",
      "Re=7.9e4 \n",
      "u=Re*meu/(rho*d) \n",
      "\n",
      "#Result\n",
      "print\"The maximum allowable velocity is =\",round(u,1),\"m/s\""
     ],
     "language": "python",
     "metadata": {},
     "outputs": [
      {
       "output_type": "stream",
       "stream": "stdout",
       "text": [
        "The maximum allowable velocity is = 1.6 m/s\n"
       ]
      }
     ],
     "prompt_number": 111
    },
    {
     "cell_type": "heading",
     "level": 2,
     "metadata": {},
     "source": [
      "Example no:3.3,Page no:71"
     ]
    },
    {
     "cell_type": "code",
     "collapsed": false,
     "input": [
      "#Variable declaration\n",
      "Dia_tank=5  #Diameter of the tank\n",
      "len_pipe=100.0  #Length of pipe\n",
      "dia_pipe=225e-3  #Diameter of pipe\n",
      "\n",
      "#Calculation\n",
      "X=.0020 \n",
      "def f(D):\n",
      "    return(111.5*(1+(3552*X))**0.5*D**-0.5)\n",
      "from scipy.integrate import quad\n",
      "t=quad(f,0.3,3) \n",
      "\n",
      "print\"The time taken for the level to fall is therefore about %d\"%t[0],\"s or %.1f\"%(t[0]/60.0),\"min\""
     ],
     "language": "python",
     "metadata": {},
     "outputs": [
      {
       "output_type": "stream",
       "stream": "stdout",
       "text": [
        "The time taken for the level to fall is therefore about 751 s or 12.5 min\n"
       ]
      }
     ],
     "prompt_number": 112
    },
    {
     "cell_type": "heading",
     "level": 2,
     "metadata": {},
     "source": [
      "Example no:3.4,Page no:72"
     ]
    },
    {
     "cell_type": "code",
     "collapsed": false,
     "input": [
      "#Variable declaration\n",
      "d1=0.3  #diameter of pipe from junction A to D or B to D\n",
      "l1=1.5e3  #length of pipe from junction A to D or B to D\n",
      "d2=0.5  # diameter of pipe from junction D to C\n",
      "l2=0.75e3  # length of pipe from junction D to C\n",
      "h_A=10  # height of tank A above C\n",
      "h_B=h_A+6  # height of tank A above C\n",
      "rho=870  # density of liquid\n",
      "Meu_l=0.7e-3  # viscosity of liquid\n",
      "\n",
      "#Calculation\n",
      "import math\n",
      "import sympy\n",
      "import numpy as np\n",
      "x=Symbol('x') \n",
      "u2=sympy.solve(x**4-(7.38*x**2)+13.57) \n",
      "u1=(np.square(u2)-1.47)**0.5 \n",
      "u3=(u1+u2)/2.78 \n",
      "#taking the positive values and which satisfy equation 7\n",
      "U1=u1[2] \n",
      "U2=u2[2]\n",
      "U3=u3[2]\n",
      "Q=math.pi/4*d2**2*U3 \n",
      "\n",
      "#Result\n",
      "print\"\\n The volumetric flow rate =%.2f\"%Q,\"m**3/s\" "
     ],
     "language": "python",
     "metadata": {},
     "outputs": [
      {
       "output_type": "stream",
       "stream": "stdout",
       "text": [
        "\n",
        " The volumetric flow rate =0.23 m**3/s\n"
       ]
      }
     ],
     "prompt_number": 113
    },
    {
     "cell_type": "heading",
     "level": 2,
     "metadata": {},
     "source": [
      "Example no:3.5,Page no:86"
     ]
    },
    {
     "cell_type": "code",
     "collapsed": false,
     "input": [
      "#Variable declaration\n",
      "r=50.0 \n",
      "\n",
      "#Calculation\n",
      "from scipy.optimize import fsolve\n",
      "a=Symbol('a') \n",
      "def f(a):\n",
      "    return(105*a**(8.0/7.0)-56*a**(15.0/7.0)-24.5)\n",
      "p=fsolve(f,0.5)\n",
      "y=p[0]*r \n",
      "\n",
      "#Result\n",
      "print\"a =\",round(p[0],2)\n",
      "print\"y =\",round(y,1),\"mm\""
     ],
     "language": "python",
     "metadata": {},
     "outputs": [
      {
       "output_type": "stream",
       "stream": "stdout",
       "text": [
        "a = 0.33\n",
        "y = 16.6 mm\n"
       ]
      }
     ],
     "prompt_number": 114
    },
    {
     "cell_type": "heading",
     "level": 2,
     "metadata": {},
     "source": [
      "Example no:3.6,Page no:88"
     ]
    },
    {
     "cell_type": "code",
     "collapsed": false,
     "input": [
      "#Variable declaration\n",
      "Q=7.2 #Water flow rate\n",
      "d1=40e-3  #initial pipe diameter\n",
      "d2=50e-3  #diameter of pipe after enlargement\n",
      "g=9.81 \n",
      "\n",
      "#Calculation\n",
      "import math\n",
      "u1=(Q/3600.0)/(math.pi/4*d1**2) #Velocity in 40 mm pipe\n",
      "u2=(Q/3600.0)/(math.pi/4*d2**2) #Velocity in 50 mm pipe\n",
      "# The head lost is given by equation 3.77 as:\n",
      "hf=(u1-u2)**2.0/(2.0*g) \n",
      "\n",
      "#Result\n",
      "print\"Head lost =\",round(hf*1e3,1),\"mm of water\""
     ],
     "language": "python",
     "metadata": {},
     "outputs": [
      {
       "output_type": "stream",
       "stream": "stdout",
       "text": [
        "Head lost = 16.7 mm of water\n"
       ]
      }
     ],
     "prompt_number": 115
    },
    {
     "cell_type": "heading",
     "level": 2,
     "metadata": {},
     "source": [
      "Example no:3.7,Page no:92"
     ]
    },
    {
     "cell_type": "code",
     "collapsed": false,
     "input": [
      "#Variable declaration\n",
      "Q_h=2.27  # flow rate of water in m**3/h\n",
      "T=320  #Temperature of water to be pumped\n",
      "id=40e-3  #internal diameter of pipe\n",
      "l_h=150.0  #length of pipe horizontally\n",
      "l_v=10.0  #length of pipe vertically\n",
      "e=0.2e-3 \n",
      "g=9.81 \n",
      "rho=1000.0 \n",
      "\n",
      "#Calculation\n",
      "rel_rough=e/id  #Relative roughness\n",
      "meu=0.65e-3  #Viscosity at 320 K\n",
      "Q_s=Q_h/3600.0  #flow rate of water in m**3/s\n",
      "area=math.pi/4*id**2  # Area for flow\n",
      "u=Q_s/area  #Velocity\n",
      "Re=(id*u*rho)/meu \n",
      "#X=R/(rho*u**2)=0.004 (from Figure 3.7)\n",
      "X=.004 \n",
      "equi_len=l_h+l_v+(260*id)  # Equivalent length of pipe\n",
      "hf=4*X*equi_len*u**2/(id*g) \n",
      "tot_head=hf+1.5+10  # Total head to be developed\n",
      "mass_thr=Q_s*rho  #Mass throughput\n",
      "power_reqd=(mass_thr*tot_head*g)/0.60 \n",
      "\n",
      "#Result\n",
      "print\"Power required =%.1f\"%power_reqd,\"W =%.3f\"%(power_reqd*1e-3),\"kW\""
     ],
     "language": "python",
     "metadata": {},
     "outputs": [
      {
       "output_type": "stream",
       "stream": "stdout",
       "text": [
        "Power required =136.6 W =0.137 kW\n"
       ]
      }
     ],
     "prompt_number": 116
    },
    {
     "cell_type": "heading",
     "level": 2,
     "metadata": {},
     "source": [
      "Example no:3.8,Page no:92"
     ]
    },
    {
     "cell_type": "code",
     "collapsed": false,
     "input": [
      "#Variable declaration\n",
      "d=0.15  # diameter of pipe\n",
      "g=9.81 \n",
      "phi=.0045 \n",
      "\n",
      "#Calculation\n",
      "import sympy\n",
      "import math\n",
      "x=Symbol('x') \n",
      "u=sympy.solve((7.6+4*phi*(105/.15))*x**2/(2*g)-10) \n",
      "rate_dis=u[1]*math.pi*d**2/4 \n",
      "\n",
      "#Result\n",
      "print\"\\n Rate of discharge =%.d\"%(rate_dis*1e3),\"kg/s\""
     ],
     "language": "python",
     "metadata": {},
     "outputs": [
      {
       "output_type": "stream",
       "stream": "stdout",
       "text": [
        "\n",
        " Rate of discharge =55 kg/s\n"
       ]
      }
     ],
     "prompt_number": 117
    },
    {
     "cell_type": "heading",
     "level": 2,
     "metadata": {},
     "source": [
      "Example no:3.9,Page no:103"
     ]
    },
    {
     "cell_type": "code",
     "collapsed": false,
     "input": [
      "#Variable declaration\n",
      "u1=1.5  # velocity\n",
      "D1=75e-3  #depth\n",
      "g=9.81 \n",
      "\n",
      "#Calculation\n",
      "#The depth of fluid in the channel after the jump is given by:\n",
      "D2=0.5*(-D1+(D1**2+(8*u1**2*D1/g)**0.5))  #equation 3.113\n",
      "#If the channel is of uniform cross-sectional area, then:\n",
      "u2=u1*D1/D2 \n",
      "\n",
      "#Result\n",
      "print\"\\n The velocity of fluid in the channel after the jump is =\",round(u2,2),\"m/s\""
     ],
     "language": "python",
     "metadata": {},
     "outputs": [
      {
       "output_type": "stream",
       "stream": "stdout",
       "text": [
        "\n",
        " The velocity of fluid in the channel after the jump is = 0.75 m/s\n"
       ]
      }
     ],
     "prompt_number": 118
    },
    {
     "cell_type": "heading",
     "level": 2,
     "metadata": {},
     "source": [
      "Example no:3.10,Page no:127"
     ]
    },
    {
     "cell_type": "code",
     "collapsed": false,
     "input": [
      "#Variable declaration\n",
      "k=10 \n",
      "n=0.2 \n",
      "Ucl=1  # centre line velocity\n",
      "l=200  # length of pipe\n",
      "r=.02  # radius of pipe\n",
      "dux_dy_1=10 \n",
      "dux_dy_2=50 \n",
      "Ry_1=k*dux_dy_1**0.2 \n",
      "Ry_2=k*dux_dy_2**0.2 \n",
      "\n",
      "\n",
      "#Calculation\n",
      "#Using the Bingham-plastic model (equation 3.125):\n",
      "import numpy as np\n",
      "A=np.array([[1,10],[1,50]])\n",
      "B=np.array([15.85,21.87])\n",
      "C=np.linalg.inv(A)*B \n",
      "Ry=C[0] \n",
      "Meu_p=C[1] \n",
      "# Using Equation 3.131\n",
      "DP=2*k*l*Ucl**n*((n+1)/n)**n*r**(-n-1) \n",
      "# For a Bingham-plastic fluid:\n",
      "# The centre line velocity is given by equation 3.145:\n",
      "X=(l*2*Ry)/(r*DP) \n",
      "Up=(DP*r**2*(2-4*X+2*X**2))/(8*Meu_p*l) \n",
      "\n",
      "#Result\n",
      "print\"Plastic viscosity (Meu_p) =\",C[1][0]+C[1][1],\"N s/m**2\" \n",
      "print\"\\nYeild stress (Ry) =\",C[0][0]+C[0][1],\"N s/m**2\"\n",
      "print\"\\nPressure drop (Bingham plastic model)=%.2e\"%DP,\"N/m**2\"\n",
      "print\"\\ncentre line velocity (Bingham plastic model) = \",round(Up[0]+Up[1],2),\"m/s (APPROX taken in book)\" "
     ],
     "language": "python",
     "metadata": {},
     "outputs": [
      {
       "output_type": "stream",
       "stream": "stdout",
       "text": [
        "Plastic viscosity (Meu_p) = 0.1505 N s/m**2\n",
        "\n",
        "Yeild stress (Ry) = 14.345 N s/m**2\n",
        "\n",
        "Pressure drop (Bingham plastic model)=6.26e+05 N/m**2\n",
        "\n",
        "centre line velocity (Bingham plastic model) =  0.68 m/s (APPROX taken in book)\n"
       ]
      }
     ],
     "prompt_number": 119
    },
    {
     "cell_type": "heading",
     "level": 2,
     "metadata": {},
     "source": [
      "Example no:3.11,Page no:129"
     ]
    },
    {
     "cell_type": "code",
     "collapsed": false,
     "input": [
      "#Variable declaration\n",
      "Meu=0.1  # Viscosity of liquid\n",
      "d=25e-3  # Diameter of pipe\n",
      "l=20.0  # length of pipe\n",
      "DP=1e5  # Pressure drop\n",
      "n=1/3.0  # flow index of polymer solution\n",
      "dux_dy=1000.0 \n",
      "k=Meu \n",
      "\n",
      "#Calculation\n",
      "Meu_a=Meu \n",
      "k_poly_sol=Meu_a/(dux_dy)**(n-1) \n",
      "Ry=10.0*(dux_dy)**n \n",
      "#From equation 3.136:\n",
      "#For a power-law fluid:\n",
      "u2=((DP/(4*k_poly_sol*l))**3)*(n*(d**((n+1)/n)))/(2*(3*n+1)) \n",
      "u1=(DP/(4*k*l))*(d**2)/8.0\n",
      "ratio=u2/u1 \n",
      "\n",
      "#Result\n",
      "print\"Ratio of the volumetric flow rates of the two liquids =\",round(ratio,3)\n"
     ],
     "language": "python",
     "metadata": {},
     "outputs": [
      {
       "output_type": "stream",
       "stream": "stdout",
       "text": [
        "Ratio of the volumetric flow rates of the two liquids = 0.065\n"
       ]
      }
     ],
     "prompt_number": 1
    },
    {
     "cell_type": "heading",
     "level": 2,
     "metadata": {},
     "source": [
      "Examople no:3.12,Page no:129"
     ]
    },
    {
     "cell_type": "code",
     "collapsed": false,
     "input": [
      "#Variable declaration\n",
      "n=0.5\n",
      "du_dy=0.01\n",
      "import sympy\n",
      "mu=sympy.Symbol('mu')\n",
      "\n",
      "#Calculation\n",
      "k=mu/(du_dy)**(n-1)\n",
      "Ry=k*du_dy**(n-1)\n",
      "#ux=(rho*g/k)**(1/n)*((s-y)**(n+1)/n)*(-n/(n+1)]+constant\n",
      "#At the surface\n",
      "y=0\n",
      "ux=0\n",
      "#At free surface:\n",
      "#y=s\n",
      "#us=(rho*g/k)**(1/n)*(n/(n+1))**(s*(n+1)/n)\n",
      "s=sympy.Symbol('s')\n",
      "sn=sympy.Symbol('sn')\n",
      "#For non-newtonian:\n",
      "us1=0.00592*sn**6/s**5\n",
      "#For newtonian:\n",
      "us2=0.0067*sn**5/s**4\n",
      "sn_s=1/(us1/us2)\n",
      "\n",
      "#Result\n",
      "print\" sN/s=\",round(sn_s*sn/s,3)"
     ],
     "language": "python",
     "metadata": {},
     "outputs": [
      {
       "output_type": "stream",
       "stream": "stdout",
       "text": [
        " sN/s= 1.132\n"
       ]
      }
     ],
     "prompt_number": 15
    }
   ],
   "metadata": {}
  }
 ]
}