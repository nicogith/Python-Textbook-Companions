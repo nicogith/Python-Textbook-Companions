{
 "metadata": {
  "name": ""
 },
 "nbformat": 3,
 "nbformat_minor": 0,
 "worksheets": [
  {
   "cells": [
    {
     "cell_type": "heading",
     "level": 1,
     "metadata": {},
     "source": [
      "Chapter 2:Flow of Fluids \u2014Energy and Momentum Relationships"
     ]
    },
    {
     "cell_type": "heading",
     "level": 2,
     "metadata": {},
     "source": [
      "Example no:2.1,Page no:36"
     ]
    },
    {
     "cell_type": "code",
     "collapsed": false,
     "input": [
      "#Variable declaration\n",
      "#(a) PV = 1 * RT, where \n",
      "R=8314.0 \n",
      "P=60.0*10**6 \n",
      "T=320.0 \n",
      "Tc=191.0 \n",
      "Pc=4.64*10**6 \n",
      "\n",
      "#Calculation\n",
      "V1=8314.0*T/P \n",
      "#(b) In van der Waals equation (2.32), the constants may be taken as:\n",
      "a=27*R**2*Tc**2.0/(64.0*Pc) \n",
      "b=R*Tc/(8.0*Pc) \n",
      "#Thus using equation 2.32:\n",
      "import sympy\n",
      "x=Symbol('x') \n",
      "p=sympy.solve((60*10**6*x**2+a)*(x-0.0427)-(8314*320*x**2)) \n",
      "#(c) Tr=T/Tc  ,Pr=P/Pc\n",
      "Tr=T/Tc \n",
      "Pr=P/Pc \n",
      "#Thus from Figure 2.1, \n",
      "Z=1.33 \n",
      "#V = ZnRT/P (from equation 2.31)\n",
      "V3=Z*R*T/P \n",
      "\n",
      "#Result\n",
      "print\"(a) Volume of vessel (ideal gas law) =\",round(V1,4),\"m**3\"\n",
      "print\"(b) Volume of vessel(van der waals eq.) =\",round(p[0],3),\"m**3\"\n",
      "print\"(c) Volume of vessel(generalised compressibility-factor chart) =\",round(V3,4),\"m**3\""
     ],
     "language": "python",
     "metadata": {},
     "outputs": [
      {
       "output_type": "stream",
       "stream": "stdout",
       "text": [
        "(a) Volume of vessel (ideal gas law) = 0.0443 m**3\n",
        "(b) Volume of vessel(van der waals eq.) = 0.066 m**3\n",
        "(c) Volume of vessel(generalised compressibility-factor chart) = 0.059 m**3\n"
       ]
      }
     ],
     "prompt_number": 24
    },
    {
     "cell_type": "heading",
     "level": 2,
     "metadata": {},
     "source": [
      "Example no:2.3,Page no:43"
     ]
    },
    {
     "cell_type": "code",
     "collapsed": false,
     "input": [
      "#Variable declaration\n",
      "#Mass rate of discharge of water, G = rho*u*A\n",
      "rho=1000.0  #Density of Water\n",
      "d=25.0*10**-3  #Diameter of nozzle\n",
      "u=25.0  #Velocity of water at nozzle\n",
      "\n",
      "#Calculation\n",
      "import math\n",
      "G=rho*u*math.pi/4*d**2 \n",
      "#Momentum of fluid per second = Gu\n",
      "F=G*25 \n",
      "\n",
      "#Result\n",
      "print\"\\n Reaction force = Rate of change of momentum =\",round(F),\"N\""
     ],
     "language": "python",
     "metadata": {},
     "outputs": [
      {
       "output_type": "stream",
       "stream": "stdout",
       "text": [
        "\n",
        " Reaction force = Rate of change of momentum = 307.0 N\n"
       ]
      }
     ],
     "prompt_number": 31
    },
    {
     "cell_type": "heading",
     "level": 2,
     "metadata": {},
     "source": [
      "Example no:2.4,Page no:43"
     ]
    },
    {
     "cell_type": "code",
     "collapsed": false,
     "input": [
      "#Variable declaration\n",
      "#Momentum per second of approaching liquid in Y-direction = rho*u**2*A\n",
      "rho=1000.0  #Density of water\n",
      "d=50.0*10**-3  #Diameter of pipe\n",
      "u=5.0  #Velocity of water in pipe\n",
      "\n",
      "#Calculation\n",
      "import math\n",
      "M=rho*u**2*math.pi/4*d**2 \n",
      "Rf=M*(math.cos(math.pi/4)+math.sin(math.pi/4)) \n",
      "\n",
      "#Result\n",
      "print\"\\n The resultant force in direction of arm of bracket =\",round(Rf,1),\"N\""
     ],
     "language": "python",
     "metadata": {},
     "outputs": [
      {
       "output_type": "stream",
       "stream": "stdout",
       "text": [
        "\n",
        " The resultant force in direction of arm of bracket = 69.4 N\n"
       ]
      }
     ],
     "prompt_number": 32
    },
    {
     "cell_type": "heading",
     "level": 2,
     "metadata": {},
     "source": [
      "Example no:2.5,Page no:48"
     ]
    },
    {
     "cell_type": "code",
     "collapsed": false,
     "input": [
      "#Variable declaration\n",
      "#From equation 2.68:\n",
      "# 0.5*((u2)**2-(u1)**2)=g*(z1-z2)+((P1-P2)/rho)\n",
      "#Suffix 1 to denote conditions in the pipe and suffix 2 to denote conditions in the jet\n",
      "#Symbols have their usual meaning\n",
      "u1=0.0 \n",
      "z1=0.0 \n",
      "z2=0.0 \n",
      "P1=250.0*10**3 \n",
      "P2=0.0 \n",
      "rho=1000.0 #Density of water\n",
      "g=9.81 \n",
      "\n",
      "#Calculation\n",
      "import sympy\n",
      "x=Symbol('x') \n",
      "u2=solve((0.5*(x)**2)-((P1-P2)/rho)) \n",
      "print\"Velocity of the jet, u2 =\",round(u2[1],1),\"m/s\""
     ],
     "language": "python",
     "metadata": {},
     "outputs": [
      {
       "output_type": "stream",
       "stream": "stdout",
       "text": [
        "Velocity of the jet, u2 = 22.4 m/s\n"
       ]
      }
     ],
     "prompt_number": 33
    },
    {
     "cell_type": "heading",
     "level": 2,
     "metadata": {},
     "source": [
      "Example no:2.6,Page no:54"
     ]
    },
    {
     "cell_type": "code",
     "collapsed": false,
     "input": [
      "#Variable declaration\n",
      "id=0.5  #internal diameter of pipe\n",
      "rs=50  #revolution speed\n",
      "ir=0.15  #internal radius of water\n",
      "rho=1000  #density of water\n",
      "\n",
      "#Calculation\n",
      "omega=2*math.pi*rs \n",
      "#The wall pressure is given by equation 2.82 as:\n",
      "wall_pressure=rho*(omega)**2/2*((id/2)**2-ir**2) \n",
      "\n",
      "#Result\n",
      "print\"\\n The wall pressure is %.2e\"%wall_pressure,\"N/m**2\""
     ],
     "language": "python",
     "metadata": {},
     "outputs": [
      {
       "output_type": "stream",
       "stream": "stdout",
       "text": [
        "\n",
        " The wall pressure is 1.97e+06 N/m**2\n"
       ]
      }
     ],
     "prompt_number": 34
    }
   ],
   "metadata": {}
  }
 ]
}