{
 "metadata": {
  "name": ""
 },
 "nbformat": 3,
 "nbformat_minor": 0,
 "worksheets": [
  {
   "cells": [
    {
     "cell_type": "heading",
     "level": 1,
     "metadata": {},
     "source": [
      "Chapter 11:The Boundary Layer"
     ]
    },
    {
     "cell_type": "heading",
     "level": 2,
     "metadata": {},
     "source": [
      "Example no:11.1,Page no:680"
     ]
    },
    {
     "cell_type": "code",
     "collapsed": false,
     "input": [
      "#Variable declaration\n",
      "u_s=1  #Velocity of water\n",
      "w=0.6  #Width of plane surface\n",
      "l=1  #Length of plane surface\n",
      "A=0.6*1  #Area of the surface\n",
      "Re_xc=10**5    #Reynods group\n",
      "\n",
      "#Calculation\n",
      "#Taking\n",
      "Meu=1e-3 #Viscosity of water\n",
      "rho=1000  #Density of water\n",
      "Re=rho*u_s*l/Meu\n",
      "#Mean value of S/pw2 from equation 11.41\n",
      "#X=R/(rho*u**2)\n",
      "X=0.037*(Re)**-0.2+(Re**-1)*(0.646*(10**5)**0.5-0.037*(10**5)**0.8)\n",
      "F=X*rho*u_s**2*A \n",
      "\n",
      "#Result\n",
      "print\"\\n Total drag force =\",round(F,2),\"N (approx)\""
     ],
     "language": "python",
     "metadata": {},
     "outputs": [
      {
       "output_type": "stream",
       "stream": "stdout",
       "text": [
        "\n",
        " Total drag force = 1.3 N (approx)\n"
       ]
      }
     ],
     "prompt_number": 6
    },
    {
     "cell_type": "heading",
     "level": 2,
     "metadata": {},
     "source": [
      "Example no:11.2,Page no:680"
     ]
    },
    {
     "cell_type": "code",
     "collapsed": false,
     "input": [
      "#Variable declaration\n",
      "x=150e-3  #Distance from leading edge where thicness is to be found\n",
      "Meu_o=0.05  #viscosity of oil\n",
      "rho_o=1000  #Density of oil\n",
      "u=0.3  #Velocity of flow\n",
      "\n",
      "#Calculation\n",
      "Re_x=x*u*rho_o/Meu_o \n",
      "#For streamline flow:\n",
      "#from equation 11.17\n",
      "dell=4.64*x/Re_x**0.5 #thickness of the boundary layer\n",
      "#from equation 11.20\n",
      "del_star=0.375*dell \n",
      "\n",
      "#Result\n",
      "print\"\\n The thickness of the boundary layer =\",dell*1e3,\"mm\"\n",
      "print\"\\n The displacement thickness =\",del_star*1e3,\"mm\"\n"
     ],
     "language": "python",
     "metadata": {},
     "outputs": [
      {
       "output_type": "stream",
       "stream": "stdout",
       "text": [
        "\n",
        " The thickness of the boundary layer = 23.2 mm\n",
        "\n",
        " The displacement thickness = 8.7 mm\n"
       ]
      }
     ],
     "prompt_number": 4
    },
    {
     "cell_type": "heading",
     "level": 2,
     "metadata": {},
     "source": [
      "Example no:11.3,Page no:684"
     ]
    },
    {
     "cell_type": "code",
     "collapsed": false,
     "input": [
      "#Variable declaration\n",
      "D=50e-3  #Diameter of the pipe\n",
      "Q=2e-3  #Flow rate of benzene through pipe\n",
      "rho_b=870  #Density of benzene\n",
      "Meu_b=0.7e-3  #Viscosity of benzene\n",
      "\n",
      "#Calculation\n",
      "import math\n",
      "G=Q*rho_b  #Mass flow rate of benzene\n",
      "Re=4*G/(Meu_b*math.pi*D)  #Reynolds number\n",
      "#From equation 11.49:\n",
      "del_b=62*D*Re**(-7.0/8.0) \n",
      "area=math.pi/4*D**2  #Cross sectional are of pipe\n",
      "u=G/(rho_b*area)  #mean velocity\n",
      "#From equation 11.47:\n",
      "u_b=2.49*u*Re**(-1.0/8.0) \n",
      "print\"\\n The thickness of the laminar sub-layer =\",round(del_b*1e3,3),\"mm\"\n",
      "print\"\\n The velocity of the benzene at the edge of the laminar sub-layer =\",round(u_b,3),\"m/s\"\n"
     ],
     "language": "python",
     "metadata": {},
     "outputs": [
      {
       "output_type": "stream",
       "stream": "stdout",
       "text": [
        "\n",
        " The thickness of the laminar sub-layer = 0.195 mm\n",
        "\n",
        " The velocity of the benzene at the edge of the laminar sub-layer = 0.637 m/s\n"
       ]
      }
     ],
     "prompt_number": 8
    }
   ],
   "metadata": {}
  }
 ]
}