{
 "metadata": {
  "name": ""
 },
 "nbformat": 3,
 "nbformat_minor": 0,
 "worksheets": [
  {
   "cells": [
    {
     "cell_type": "heading",
     "level": 1,
     "metadata": {},
     "source": [
      "Chapter 10:Mass Transfer"
     ]
    },
    {
     "cell_type": "heading",
     "level": 2,
     "metadata": {},
     "source": [
      "Example no:10.1,Page no:580"
     ]
    },
    {
     "cell_type": "code",
     "collapsed": false,
     "input": [
      "#Variable declaration\n",
      "x=1e-3  #Thickness of stagnant air film\n",
      "D=1.8e-5 #Difffusivity of ammonia\n",
      "R=8314  #Gas constant\n",
      "T=295  #Temperature \n",
      "P=101.3e3  #Total Pressure\n",
      "\n",
      "\n",
      "#Calculation\n",
      "import math\n",
      "#If the subscripts 1 and 2 refer to the two sides of the stagnant layer and \n",
      "#the subscripts A and B refer to ammonia and air respectively,\n",
      "P_A1=.50*P \n",
      "P_A2=0 \n",
      "P_B1=P-P_A1 \n",
      "P_B2=P-P_A2 \n",
      "P_BM=(P-P_A1)/math.log(P/P_A1) \n",
      "#Thus, substituting in equation 10.31 gives:\n",
      "N_A=(-D/(R*T*x))*(P/P_BM)*(P_A2-P_A1) \n",
      "\n",
      "#Result\n",
      "print\"The rate of diffusion of ammonia through the layer = %.2e\"%N_A,\"kmol/m**2*s\""
     ],
     "language": "python",
     "metadata": {},
     "outputs": [
      {
       "output_type": "stream",
       "stream": "stdout",
       "text": [
        "The rate of diffusion of ammonia through the layer = 5.15e-04 kmol/m**2*s\n"
       ]
      }
     ],
     "prompt_number": 7
    },
    {
     "cell_type": "heading",
     "level": 2,
     "metadata": {},
     "source": [
      "Example no:10.2,Page no:582"
     ]
    },
    {
     "cell_type": "code",
     "collapsed": false,
     "input": [
      "#Variable declaration\n",
      "import numpy as np\n",
      "%matplotlib inline\n",
      "th=np.array([0,0,3,7,22,32,46,55,80,106])       #Time in hours\n",
      "tm=np.array([0,26,5,36,16,38,50,25,22,25])      #Time in min\n",
      "tim=[0]*10\n",
      "#Conversion to kilo seconds\n",
      "for i in range(0,10):\n",
      "    tm[i]=tm[i]*60.0 \n",
      "    th[i]=th[i]*3600.0 \n",
      "    tim[i]=(tm[i]+th[i])/1000.0 \n",
      "\n",
      "L=np.array([0,2.5,12.9,23.2,43.9,54.7,67.0,73.8,90.3,104.8])    #in mm\n",
      "Lo=L[0] \n",
      "\n",
      "#Calculation\n",
      "x=L-Lo \n",
      "y=[0]*10 \n",
      "for j in range(1,10):\n",
      "    y[j]=tim[j]/(L[j]-Lo) \n",
      "plot(x,y,marker='+') \n",
      "plt.title('t/(L-L0) vs (L-L0)')\n",
      "plt.xlabel('$(L-L0) in mm$')\n",
      "plt.ylabel('$t/(L-L0) in ks/mm**2$') \n",
      "\n",
      "#Calculation of slope\n",
      "s=(y[3]-y[2])/(x[3]-x[2])*10**3*10**6 \n",
      "Vl=22.4                  #Molar volume in litres\n",
      "den=1540                 #Density in kg/m**3\n",
      "T0=273 \n",
      "T=321 \n",
      "vp=37.6                  #vapour pressure in kPa\n",
      "P0=101.3                 #PRessue in kPa\n",
      "M=154 \n",
      "Ct=T0/(Vl*T) \n",
      "Ca=(vp*Ct)/P0 \n",
      "Cb1=Ct \n",
      "Cb2=(P0-vp)*Ct/P0 \n",
      "Cbm=(Cb1-Cb2)/math.log(Cb1/Cb2) \n",
      "#Diffusivity calculation\n",
      "D=den*Cbm/(2*M*Ca*Ct*s) \n",
      "\n",
      "\n",
      "#Result\n",
      "show()\n",
      "print\"\\nSlope is %.1e\"%s,\"s/m**2\"\n",
      "print\"\\nDiffusivity is %.2e\"%D,\" m**2/s\"\n"
     ],
     "language": "python",
     "metadata": {},
     "outputs": [
      {
       "output_type": "stream",
       "stream": "stdout",
       "text": [
        "Populating the interactive namespace from numpy and matplotlib\n"
       ]
      },
      {
       "metadata": {},
       "output_type": "display_data",
       "png": "[encoded data removed]",
       "text": [
        "<matplotlib.figure.Figure at 0x5bbe390>"
       ]
      },
      {
       "output_type": "stream",
       "stream": "stdout",
       "text": [
        "\n",
        "Slope is 3.1e+07 s/m**2\n",
        "\n",
        "Diffusivity is 9.17e-06  m**2/s\n"
       ]
      }
     ],
     "prompt_number": 24
    },
    {
     "cell_type": "heading",
     "level": 2,
     "metadata": {},
     "source": [
      "Example no:10.3,Page no:585"
     ]
    },
    {
     "cell_type": "code",
     "collapsed": false,
     "input": [
      "#Variable declaration\n",
      "P=101.3e3  #pressure of the operating column\n",
      "T=295.0  #Temperature of the operating column\n",
      "P_A=7.0e3  #partial pressure of ammonia\n",
      "x=1.0e-3  #=(y1-y2)Thickness of stationary gas film\n",
      "D=2.36e-5  #Diffusivity of ammonia\n",
      "\n",
      "#Calculation\n",
      "import math\n",
      "C_A=(1.0/22.4)*(273.0/T)*(P_A/P) #=(C_A1-C_A2)Concentration of ammonia gas\n",
      "#X=C_T/C_BM\n",
      "X=P*math.log(P/(P-P_A))/(P-(P-P_A)) \n",
      "#From equation 10.33\n",
      "N_A_=(D/x)*X*(C_A) \n",
      "\n",
      "#Result\n",
      "print\"The transfer rate per unit area = %.2e\"%N_A_,\"kmol/m**2*s\""
     ],
     "language": "python",
     "metadata": {},
     "outputs": [
      {
       "output_type": "stream",
       "stream": "stdout",
       "text": [
        "The transfer rate per unit area = 6.98e-05 kmol/m**2*s\n"
       ]
      }
     ],
     "prompt_number": 29
    },
    {
     "cell_type": "heading",
     "level": 2,
     "metadata": {},
     "source": [
      "Example no:10.4,Page no:606"
     ]
    },
    {
     "cell_type": "code",
     "collapsed": false,
     "input": [
      "#Variable declaration\n",
      "Q=3e-6  #Flow rate of water\n",
      "Meu=1e-3  #Viscosity of water\n",
      "D=1.5e-9  #diffusivity of carbon dioxide in water\n",
      "rho=1e3  #Density of water\n",
      "\n",
      "#Calculation\n",
      "s=(Q*1e2*Meu*3/(rho*9.81))**(1.0/3.0) #Thickness of film\n",
      "A=0.95 \n",
      "y=s*(1-A)**0.5 #The distance below the free surface\n",
      "t=(1.305/1.822)**2\n",
      "Us=rho*9.81*s**2/(2*Meu) #surface velocity\n",
      "L=Us*t #The maximum lend=gth of column\n",
      "\n",
      "#Result\n",
      "print\"\\n The maximum length of column =\",round(L,2),\" m\""
     ],
     "language": "python",
     "metadata": {},
     "outputs": [
      {
       "output_type": "stream",
       "stream": "stdout",
       "text": [
        "\n",
        " The maximum length of column = 0.51  m\n"
       ]
      }
     ],
     "prompt_number": 31
    },
    {
     "cell_type": "heading",
     "level": 2,
     "metadata": {},
     "source": [
      "Example no:10.5,Page no:608"
     ]
    },
    {
     "cell_type": "code",
     "collapsed": false,
     "input": [
      "#Variable declaration\n",
      "N_dot=50  #Initial maas transfer rate\n",
      "D=1.8e-9  #Diffusivity of gas in liquid phase\n",
      "C_bg=(1/22.4)*(273.0/293.0)  #bulk gas concentration\n",
      "\n",
      "#Calculation\n",
      "import math\n",
      "N_C=N_dot*C_bg  #Initial maas transfer rate in terms of cocentration\n",
      "h=N_C/0.04 # Effective Mass transfer coefficient\n",
      "R=1/h #Equivalent resistance\n",
      "R_l=R*9  #Liquid phase resistance\n",
      "h_l=1/R_l  #Liquid phase coefficient\n",
      "#From equation 10.113 and using liquid phase resistance\n",
      "t=R_l**2/(math.pi/D) \n",
      "\n",
      "#Result\n",
      "print\"The required time is =%.2e\"%t,\"s\""
     ],
     "language": "python",
     "metadata": {},
     "outputs": [
      {
       "output_type": "stream",
       "stream": "stdout",
       "text": [
        "The required time is =1.72e-11 s\n"
       ]
      }
     ],
     "prompt_number": 34
    },
    {
     "cell_type": "heading",
     "level": 2,
     "metadata": {},
     "source": [
      "Example no:10.6,Page no:608"
     ]
    },
    {
     "cell_type": "code",
     "collapsed": false,
     "input": [
      "#Variable declaration\n",
      "import math\n",
      "#Diffusivity of CO2 in ethanol\n",
      "D=4*10**-9                #in m**2/sw\n",
      "t=100                 #Time in sec\n",
      "import sympy\n",
      "Cai=sympy.Symbol('x') \n",
      "\n",
      "#Calculation\n",
      "y=[0,10**-3] \n",
      "\n",
      "mole=[0]*3\n",
      "for i in range(0,2):\n",
      "    mole[i]=((2*math.sqrt(D*t/math.pi)*math.exp(-y[i]**2/(4*D*t)))-(y[i]*math.erfc(y[i]/(2*math.sqrt(D*t))))) \n",
      "\n",
      "ret=(mole[0]-mole[1])/mole[0] \n",
      "\n",
      "#Result\n",
      "print\"Proportion retained is %d\"%(ret*100),\"%\""
     ],
     "language": "python",
     "metadata": {},
     "outputs": [
      {
       "output_type": "stream",
       "stream": "stdout",
       "text": [
        "Proportion retained is 83 %\n"
       ]
      }
     ],
     "prompt_number": 1
    },
    {
     "cell_type": "heading",
     "level": 2,
     "metadata": {},
     "source": [
      "Example no:10.8,Page no:621"
     ]
    },
    {
     "cell_type": "code",
     "collapsed": false,
     "input": [
      "#Variable declaration\n",
      "L=825.0e-3  #length of the tube\n",
      "d=15.0e-3  #diameter of the tube\n",
      "P_i=7.5e3  #Partial pressure of ammonia at inlet\n",
      "P_o=2.0e3  #Partial pressure of ammonia at inlet\n",
      "A_r=2.0e-5  #Air rate\n",
      "P=101.3e3  #Atmospheric pressure\n",
      "\n",
      "#Calculation\n",
      "import math\n",
      "D_F_m=(P_i-P_o)/math.log(P_i/P_o) #Mean driving force\n",
      "A_absorbd=A_r*((P_i/(P-P_i))-(P_o/(P-P_o))) \n",
      "A_w=math.pi*d*L #Wetted surface\n",
      "K_G=(A_absorbd/(A_w*D_F_m)) #Overall transfer coefficient\n",
      "\n",
      "#Result\n",
      "print\"Overall Transfer coefficient =%.2e\"%K_G,\"kmol/[m**2 s (N/m**2)]\"\n",
      "print\"NOTE:Very approx answer in book\""
     ],
     "language": "python",
     "metadata": {},
     "outputs": [
      {
       "output_type": "stream",
       "stream": "stdout",
       "text": [
        "Overall Transfer coefficient =7.40e-09 kmol/[m**2 s (N/m**2)]\n",
        "NOTE:Very approx answer in book\n"
       ]
      }
     ],
     "prompt_number": 45
    },
    {
     "cell_type": "heading",
     "level": 2,
     "metadata": {},
     "source": [
      "Example no:10.9,Page no:628"
     ]
    },
    {
     "cell_type": "code",
     "collapsed": false,
     "input": [
      "#Variable declaration\n",
      "\n",
      "z=0.693 \n",
      "#Calculation\n",
      "import math\n",
      "ratio=(math.exp(math.sqrt(z))+math.exp(-math.sqrt(z))-4.0)/(2.0*(1-math.exp(-math.sqrt(z))-math.exp(math.sqrt(z)))) \n",
      "\n",
      "#Result\n",
      "print\"The final ratio is\",round(ratio,1)\n",
      "print\"NOTE:Wrong answer in book\"\n"
     ],
     "language": "python",
     "metadata": {},
     "outputs": [
      {
       "output_type": "stream",
       "stream": "stdout",
       "text": [
        "The final ratio is 0.4\n",
        "NOTE:Wrong answer in book\n"
       ]
      }
     ],
     "prompt_number": 2
    },
    {
     "cell_type": "heading",
     "level": 2,
     "metadata": {},
     "source": [
      "Example no:10.10,Page no:629"
     ]
    },
    {
     "cell_type": "code",
     "collapsed": false,
     "input": [
      "#Variable declaration\n",
      "#After denoting the original conditions by subscript 1,\n",
      "#The mass transfer rate (moles/unit area and unit time) is given by\n",
      "#N_A2=0.83*N_A1\n",
      "\n",
      "\n",
      "#Calculation\n",
      "import math\n",
      "n=2*(math.log(0.83/(1.35)**0.5)/math.log(0.8))-1 \n",
      "\n",
      "#Result\n",
      "print\"n =\",round(n,2)\n",
      "print\"Thus the reaction is of second order\"\n"
     ],
     "language": "python",
     "metadata": {},
     "outputs": [
      {
       "output_type": "stream",
       "stream": "stdout",
       "text": [
        "n = 2.01\n",
        "Thus the reaction is of second order\n"
       ]
      }
     ],
     "prompt_number": 51
    },
    {
     "cell_type": "heading",
     "level": 2,
     "metadata": {},
     "source": [
      "Example no:10.11,Page no:630"
     ]
    },
    {
     "cell_type": "code",
     "collapsed": false,
     "input": [
      "#Variable declaration\n",
      "k = 2.5*10**-6            #[s**-1] Rate constant\n",
      "E = 2.643*10**7           #[J/kmol] Energy of Activation\n",
      "R = 8314                 #[J/kmol.K] Universal gas contss\n",
      "D = 10**-9                #[m**2/s] MOlecular diffuisivity\n",
      "L = .01                  #[m] Film Thickness\n",
      "\n",
      "\n",
      "#Calculation\n",
      "import math\n",
      "#At T =293K\n",
      "T = 293                 #[K] temperature\n",
      "A = k/math.exp(-E/(R*T))     #[s**-1]\n",
      "e = math.exp(-2*L*math.sqrt(k/D)) \n",
      "N = math.sqrt(k/D)*(1+e)/(1-e)  #Consider relative Solubility at 293 K be unity\n",
      "#At T =313K\n",
      "T2 = 313                 #[K] temperature\n",
      "k2 = A*math.exp(-E/(R*T2))     #[s**-1]\n",
      "e2 = math.exp(-2*L*math.sqrt(k2/D)) \n",
      "N2 = .8*math.sqrt(k2/D)*(1+e2)/(1-e2)  #Consider relative Solubility at 313 K be .8 wrt that of 293K\n",
      "\n",
      "Nr = N2/N \n",
      "\n",
      "#Result\n",
      "print'Change in mass transfer rate is given by factor',round(Nr,2)\n"
     ],
     "language": "python",
     "metadata": {},
     "outputs": [
      {
       "output_type": "stream",
       "stream": "stdout",
       "text": [
        "Change in mass transfer rate is given by factor 0.86\n"
       ]
      }
     ],
     "prompt_number": 54
    },
    {
     "cell_type": "heading",
     "level": 2,
     "metadata": {},
     "source": [
      "Example no:10.12,Page no:643"
     ]
    },
    {
     "cell_type": "code",
     "collapsed": false,
     "input": [
      "#Variable declaration\n",
      "k=5e-4 #first order rate constant\n",
      "D_e=2e-9 #effective diffusivity of reactants in the pores of the particles\n",
      "\n",
      "#Calculation\n",
      "import math\n",
      "lamda=(k/D_e)**0.5 \n",
      "# (i) For the platelet of thickness 8 mm,\n",
      "L=0.5*(8e-3) \n",
      "phi=lamda*L #thiele modulus\n",
      "#From equation 10.202, the effectiveness factor 'eta' is given by:\n",
      "eta=(1/phi)*math.tanh(phi) \n",
      "#(ii) For the sphere of diameter 10 mm, r_o = 0.005 m**-1.\n",
      "r_o=5e-3 \n",
      "phi_o=lamda*r_o #Thiele modulus\n",
      "#From equation 10.212, the effectiveness factor 'eta' is given by:\n",
      "eta_o=(3/phi_o)*((1.0/math.tanh(phi_o))-(1/phi_o)) \n",
      "\n",
      "#result\n",
      "print\"\\n (i) Thiele modulus =\",phi \n",
      "print\"\\n     The effectiveness factor =\",round(eta,3)\n",
      "print\"\\n (ii) Thiele modulus =\",phi_o\n",
      "print\"\\n     The effectiveness factor =\",round(eta_o,3)\n"
     ],
     "language": "python",
     "metadata": {},
     "outputs": [
      {
       "output_type": "stream",
       "stream": "stdout",
       "text": [
        "\n",
        " (i) Thiele modulus = 2.0\n",
        "\n",
        "     The effectiveness factor = 0.482\n",
        "\n",
        " (ii) Thiele modulus = 2.5\n",
        "\n",
        "     The effectiveness factor = 0.736\n"
       ]
      }
     ],
     "prompt_number": 58
    },
    {
     "cell_type": "heading",
     "level": 2,
     "metadata": {},
     "source": [
      "Example no:10.13,Page no:644"
     ]
    },
    {
     "cell_type": "code",
     "collapsed": false,
     "input": [
      "#Variable declaration\n",
      "D_e=1e-5 #Effective diffusivity for the reactants in the catalyst particle\n",
      "k=14.4 #first order rate constant\n",
      "L=2.5e-3 \n",
      "\n",
      "#Calculation\n",
      "import math\n",
      "lamda=(k/D_e)**0.5 \n",
      "phi=(k/D_e)**0.5*(L) #Thiele modulus\n",
      "#From equation 10.202, the effectiveness factor,\n",
      "eta=(1/phi)*math.tanh(phi) \n",
      "#The concentration profile is given by equation 10.198\n",
      "y=1.25e-3 \n",
      "C_Ai=0.15 \n",
      "C_A=C_Ai*(math.cosh(lamda*y)/math.cosh(lamda*L)) \n",
      "\n",
      "#Result\n",
      "print\"\\n (i) The effectiveness factor =\",round(eta,3)\n",
      "print\"\\n (ii) The concentration of reactant at a position half-way between the centre and the outside of the\\n\\t pellet =\",round(C_A,3),\"kmol/m**3\"\n"
     ],
     "language": "python",
     "metadata": {},
     "outputs": [
      {
       "output_type": "stream",
       "stream": "stdout",
       "text": [
        "\n",
        " (i) The effectiveness factor = 0.332\n",
        "\n",
        " (ii) The concentration of reactant at a position half-way between the centre and the outside of the\n",
        "\t pellet = 0.035 kmol/m**3\n"
       ]
      }
     ],
     "prompt_number": 61
    },
    {
     "cell_type": "heading",
     "level": 2,
     "metadata": {},
     "source": [
      "Example no:10.14,Page no:645"
     ]
    },
    {
     "cell_type": "code",
     "collapsed": false,
     "input": [
      "#Variable declaration\n",
      "R_r=8.2e-2 #reaction rate when concentration =0.011 kmol/m**3\n",
      "D_e=7.5e-8 #Effective diffusivity\n",
      "\n",
      "#Calculation\n",
      "#catalyst = eta*k*C_Ai (equation 10.217),\n",
      "#eta=phi_L**-1\n",
      "#Substituting numerical values in prev eqn:\n",
      "k=(1.217*R_r/0.011)**2 \n",
      "phi_L=1.217*(k)**0.5 \n",
      "eta=phi_L**-1 \n",
      "\n",
      "#Result\n",
      "print\"Effectiveness factor =\",round(eta,4)"
     ],
     "language": "python",
     "metadata": {},
     "outputs": [
      {
       "output_type": "stream",
       "stream": "stdout",
       "text": [
        "Effectiveness factor = 0.0906\n"
       ]
      }
     ],
     "prompt_number": 3
    }
   ],
   "metadata": {}
  }
 ]
}