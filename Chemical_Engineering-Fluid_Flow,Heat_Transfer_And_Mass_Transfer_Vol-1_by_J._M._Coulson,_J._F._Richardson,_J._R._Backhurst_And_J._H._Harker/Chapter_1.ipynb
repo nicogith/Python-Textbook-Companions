{
 "metadata": {
  "name": ""
 },
 "nbformat": 3,
 "nbformat_minor": 0,
 "worksheets": [
  {
   "cells": [
    {
     "cell_type": "heading",
     "level": 1,
     "metadata": {},
     "source": [
      "Chapter 1:Units & Dimensions"
     ]
    },
    {
     "cell_type": "heading",
     "level": 2,
     "metadata": {},
     "source": [
      "Example no:1.1,Page no:9"
     ]
    },
    {
     "cell_type": "code",
     "collapsed": false,
     "input": [
      "#Variable declaration\n",
      "# 1 Poise = 1g/cm s = ((1/453.6)lb)/((1/30.48)ft*1s)\n",
      "\n",
      "#Calculation\n",
      "be=30.48/453.6*3600  #be->british engineering unit\n",
      "# 1 Poise = 1g/cm s = ((1/1000)kg)/((1/100)m*1s)\n",
      "si=100/1000.0  #si->SI units\n",
      "\n",
      "#Result\n",
      "print\" 1 Poise=\",round(be),\"lb/ft h\" \n",
      "print\"\\n 1 Poise =\",si,\"N s/m**2 \""
     ],
     "language": "python",
     "metadata": {},
     "outputs": [
      {
       "output_type": "stream",
       "stream": "stdout",
       "text": [
        " 1 Poise= 242.0 lb/ft h\n",
        "\n",
        " 1 Poise = 0.1 N s/m**2 \n"
       ]
      }
     ],
     "prompt_number": 8
    },
    {
     "cell_type": "heading",
     "level": 2,
     "metadata": {},
     "source": [
      "Example no:1.2,Page no:10"
     ]
    },
    {
     "cell_type": "code",
     "collapsed": false,
     "input": [
      "#Variable declaration\n",
      "\n",
      "# 1 kW= 103 W = 103 J/s = 10**3 * (1 kg*1 m**2)/1 s**3\n",
      "#                       = (10**3 * (1/0.4536) lb x (1/0.3048)**2 ft**2)/1 s**3\n",
      "\n",
      "#Calculation\n",
      "lfs=(10**3*(1/0.4536)*(1/.3048)**2)  #lfs->lb ft**2/s**3\n",
      "sfs=lfs/32.2  #sfs->slug ft**2/s**3\n",
      "hp=sfs/550.0 \n",
      "\n",
      "#Result\n",
      "print\"\\n 1 kW =\",round(hp,2),\"h.p.\"\n"
     ],
     "language": "python",
     "metadata": {},
     "outputs": [
      {
       "output_type": "stream",
       "stream": "stdout",
       "text": [
        "\n",
        " 1 kW = 1.34 h.p.\n"
       ]
      }
     ],
     "prompt_number": 4
    }
   ],
   "metadata": {}
  }
 ]
}