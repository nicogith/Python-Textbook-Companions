{
 "metadata": {
  "name": "",
  "signature": "sha256:dac7a0b06f622e783ea6c469bf1c100c0c8157cc5e77bffea65e378f258808b2"
 },
 "nbformat": 3,
 "nbformat_minor": 0,
 "worksheets": [
  {
   "cells": [
    {
     "cell_type": "heading",
     "level": 1,
     "metadata": {},
     "source": [
      "Chapter 12:Fibre Optics"
     ]
    },
    {
     "cell_type": "heading",
     "level": 2,
     "metadata": {},
     "source": [
      "Example 12.1 , Page no:360"
     ]
    },
    {
     "cell_type": "code",
     "collapsed": false,
     "input": [
      "import math\n",
      "from __future__ import division\n",
      "\n",
      "#given\n",
      "u1=1.563; #refractive index of core\n",
      "u2=1.498; #refractive index of cladding\n",
      "\n",
      "#calculate\n",
      "d=(u1-u2)/u1; #calculation of fractional index change\n",
      "\n",
      "#result\n",
      "print\"The fractional index change for a given optical fibre is =\",round(d,4);"
     ],
     "language": "python",
     "metadata": {},
     "outputs": [
      {
       "output_type": "stream",
       "stream": "stdout",
       "text": [
        "The fractional index change for a given optical fibre is = 0.0416\n"
       ]
      }
     ],
     "prompt_number": 1
    },
    {
     "cell_type": "heading",
     "level": 2,
     "metadata": {},
     "source": [
      "Example 12.2 , Page no:360"
     ]
    },
    {
     "cell_type": "code",
     "collapsed": false,
     "input": [
      "import math\n",
      "from __future__ import division\n",
      "\n",
      "#given\n",
      "u1=1.55; #refractive index of core\n",
      "u2=1.50; #refractive index of cladding\n",
      "\n",
      "#calculate\n",
      "d=(u1-u2)/u1; #calculation of fractional index change\n",
      "NA=u1*math.sqrt(2*d); #calculation of numerical aperture\n",
      "theta=math.asin(NA); #calculation of acceptance angle\n",
      "theta1=theta*180/3.14;\n",
      "\n",
      "#result\n",
      "print\"The numerical aperture of the fibre is NA=\",round(NA,3);\n",
      "print\"The acceptance angle of the optical fibre is =\",round(theta1,2),\"degree\";"
     ],
     "language": "python",
     "metadata": {},
     "outputs": [
      {
       "output_type": "stream",
       "stream": "stdout",
       "text": [
        "The numerical aperture of the fibre is NA= 0.394\n",
        "The acceptance angle of the optical fibre is = 23.2 degree\n"
       ]
      }
     ],
     "prompt_number": 2
    },
    {
     "cell_type": "heading",
     "level": 2,
     "metadata": {},
     "source": [
      "Example 12.3 , Page no:360"
     ]
    },
    {
     "cell_type": "code",
     "collapsed": false,
     "input": [
      "import math\n",
      "from __future__ import division\n",
      "\n",
      "#given\n",
      "u1=1.563; #refractive index of core\n",
      "u2=1.498; #refractive index of cladding\n",
      "\n",
      "#calculate\n",
      "NA=math.sqrt(u1**2-u2**2); #calculation of numerical aperture\n",
      "theta=math.asin(NA); #calculation of acceptance angle\n",
      "theta1=theta*180/3.14;\n",
      "#result\n",
      "print\"The numerical aperture of the fibre is NA=\",round(NA,4);\n",
      "print\"The acceptance angle of the optical fibre is =\",round(theta1,2),\"degree\";"
     ],
     "language": "python",
     "metadata": {},
     "outputs": [
      {
       "output_type": "stream",
       "stream": "stdout",
       "text": [
        "The numerical aperture of the fibre is NA= 0.4461\n",
        "The acceptance angle of the optical fibre is = 26.5 degree\n"
       ]
      }
     ],
     "prompt_number": 3
    },
    {
     "cell_type": "heading",
     "level": 2,
     "metadata": {},
     "source": [
      "Example 12.4 , Page no:360"
     ]
    },
    {
     "cell_type": "code",
     "collapsed": false,
     "input": [
      "import math\n",
      "from __future__ import division\n",
      "\n",
      "#given\n",
      "NA=0.39; #numerical aperture of the optical fibre\n",
      "d=0.05; #difference in the refractive index of the material of the core and cladding\n",
      "\n",
      "#calculate\n",
      "#since NA=u1*sqrt(2*d)\n",
      "#we have u1=NA/sqrt(2*d)\n",
      "u1= NA/math.sqrt(2*d); #calculation of refractive index of  material of the core\n",
      "\n",
      "#result\n",
      "print\"The refractive index of  material of the core is u1=\",round(u1,3);"
     ],
     "language": "python",
     "metadata": {},
     "outputs": [
      {
       "output_type": "stream",
       "stream": "stdout",
       "text": [
        "The refractive index of  material of the core is u1= 1.233\n"
       ]
      }
     ],
     "prompt_number": 4
    },
    {
     "cell_type": "heading",
     "level": 2,
     "metadata": {},
     "source": [
      "Example 12.5 , Page no:361"
     ]
    },
    {
     "cell_type": "code",
     "collapsed": false,
     "input": [
      "import math\n",
      "from __future__ import division\n",
      "\n",
      "#given\n",
      "u1=1.50; #refractive index of core\n",
      "u2=1.45; #refractive index of cladding\n",
      "\n",
      "#calculate\n",
      "d=(u1-u2)/u1; #calculation of fractional index change\n",
      "NA=u1*math.sqrt(2*d); #calculation of numerical aperture\n",
      "theta_0=math.asin(NA); #calculation of acceptance angle\n",
      "theta_01=theta_0*180/3.14;\n",
      "theta_c=math.asin(u2/u1); #calculation of critical angle\n",
      "theta_c1=theta_c*180/3.14;\n",
      "\n",
      "#result\n",
      "print\"The numerical aperture of the fibre is NA=\",round(NA,3);\n",
      "print\"The acceptance angle of the optical fibre is =\",round(theta_01,2),\"degree\";\n",
      "print\"The critical angle of the optical fibre is =\",round(theta_c1,2),\"degree\";"
     ],
     "language": "python",
     "metadata": {},
     "outputs": [
      {
       "output_type": "stream",
       "stream": "stdout",
       "text": [
        "The numerical aperture of the fibre is NA= 0.387\n",
        "The acceptance angle of the optical fibre is = 22.8 degree\n",
        "The critical angle of the optical fibre is = 75.2 degree\n"
       ]
      }
     ],
     "prompt_number": 5
    },
    {
     "cell_type": "heading",
     "level": 2,
     "metadata": {},
     "source": [
      "Example 12.6 , Page no:361"
     ]
    },
    {
     "cell_type": "code",
     "collapsed": false,
     "input": [
      "import math\n",
      "from __future__ import division\n",
      "\n",
      "#given\n",
      "NA=0.33; #numerical aperture\n",
      "d=0.02; #difference in the refractive index of the core and cladding of the material\n",
      "\n",
      "#calculate\n",
      "#since NA=u1*sqrt(2*d)\n",
      "#therefore we have\n",
      "u1=NA/math.sqrt(2*d); #calculation of refractive index of the core\n",
      "#since d=(u1-u2)/u2\n",
      "#therefore we have\n",
      "u2=(1-d)*u1; #calculation of refractive index of the cladding\n",
      "\n",
      "#result\n",
      "print\"The refractive index of the core is u1=\",round(u1,2);\n",
      "print\"The refractive index of the cladding is u2=\",round(u2,3);\n",
      "print \"NOTE: The answer in the textbook is wrong\" "
     ],
     "language": "python",
     "metadata": {},
     "outputs": [
      {
       "output_type": "stream",
       "stream": "stdout",
       "text": [
        "The refractive index of the core is u1= 1.65\n",
        "The refractive index of the cladding is u2= 1.617\n",
        "NOTE: The answer in the textbook is wrong\n"
       ]
      }
     ],
     "prompt_number": 6
    },
    {
     "cell_type": "heading",
     "level": 2,
     "metadata": {},
     "source": [
      "Example 12.7 , Page no:361"
     ]
    },
    {
     "cell_type": "code",
     "collapsed": false,
     "input": [
      "import math\n",
      "from __future__ import division\n",
      "\n",
      "#given\n",
      "u1=3.5; #refractive index of core\n",
      "u2=3.45; #refractive index of cladding\n",
      "u0=1; #refractive index of the air\n",
      "\n",
      "#calculate\n",
      "NA=math.sqrt(u1**2-u2**2); #calculation of numerical aperture\n",
      "NA1=NA/u0;\n",
      "alpha=math.asin(NA); #calculation of acceptance angle\n",
      "alpha1=alpha*180/3.14;\n",
      "#result\n",
      "print\"The numerical aperture of the fibre is NA=\",round(NA1,2);\n",
      "print\"The acceptance angle of the optical fibre is =\",round(alpha1,2),\"degree\";"
     ],
     "language": "python",
     "metadata": {},
     "outputs": [
      {
       "output_type": "stream",
       "stream": "stdout",
       "text": [
        "The numerical aperture of the fibre is NA= 0.59\n",
        "The acceptance angle of the optical fibre is = 36.14 degree\n"
       ]
      }
     ],
     "prompt_number": 7
    },
    {
     "cell_type": "heading",
     "level": 2,
     "metadata": {},
     "source": [
      "Example 12.8 , Page no:361"
     ]
    },
    {
     "cell_type": "code",
     "collapsed": false,
     "input": [
      "import math\n",
      "from __future__ import division\n",
      "\n",
      "#given\n",
      "u1=1.48; #refractive index of core\n",
      "u2=1.45; #refractive index of cladding\n",
      "\n",
      "#calculate\n",
      "NA=math.sqrt(u1**2-u2**2); #calculation of numerical aperture\n",
      "theta=math.asin(NA); #calculation of acceptance angle\n",
      "theta1=theta*180/3.14;\n",
      "#result\n",
      "print\"The numerical aperture of the fibre is NA=\",round(NA,3);\n",
      "print\"The acceptance angle of the optical fibre is =\",round(theta1,2),\"degree\";\n",
      "print \"   (roundoff error)\""
     ],
     "language": "python",
     "metadata": {},
     "outputs": [
      {
       "output_type": "stream",
       "stream": "stdout",
       "text": [
        "The numerical aperture of the fibre is NA= 0.296\n",
        "The acceptance angle of the optical fibre is = 17.26 degree\n",
        "   (roundoff error)\n"
       ]
      }
     ],
     "prompt_number": 8
    }
   ],
   "metadata": {}
  }
 ]
}