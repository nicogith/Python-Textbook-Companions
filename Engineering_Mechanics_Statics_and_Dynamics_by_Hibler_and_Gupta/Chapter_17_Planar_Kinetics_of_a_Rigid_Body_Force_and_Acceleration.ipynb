{
 "cells": [
  {
   "cell_type": "markdown",
   "metadata": {},
   "source": [
    "# Chapter 17 Planar Kinetics of a Rigid Body Force and Acceleration"
   ]
  },
  {
   "cell_type": "markdown",
   "metadata": {},
   "source": [
    "## Ex 17.2 Page No 719"
   ]
  },
  {
   "cell_type": "code",
   "execution_count": 2,
   "metadata": {
    "collapsed": false
   },
   "outputs": [
    {
     "name": "stdout",
     "output_type": "stream",
     "text": [
      "Iy =  0.349 Mg.m**(2)\n"
     ]
    }
   ],
   "source": [
    "# Ex 17.2\n",
    "from scipy import integrate\n",
    "import math\n",
    "\n",
    "# Calculation\n",
    "y = lambda y: ((math.pi*2)/2)*y**(8)\n",
    "Iy = round(integrate.quad(y, 0, 1)[0],3)  #[milligram meter square]\n",
    "\n",
    "# Result\n",
    "print\"Iy = \",(Iy),\"Mg.m**(2)\""
   ]
  },
  {
   "cell_type": "markdown",
   "metadata": {},
   "source": [
    "## Ex 17.3 Page No 722"
   ]
  },
  {
   "cell_type": "code",
   "execution_count": 2,
   "metadata": {
    "collapsed": false
   },
   "outputs": [
    {
     "name": "stdout",
     "output_type": "stream",
     "text": [
      "IO =  1.2 kg m**(2)\n"
     ]
    }
   ],
   "source": [
    "# Ex 17.3\n",
    "from __future__ import division\n",
    "import math\n",
    "\n",
    "# Variable Declaration\n",
    "d = 8000  #[kilogram per meter cube]\n",
    "t = 0.01  #[meter]\n",
    "\n",
    "# Calculation\n",
    "md = round(d*math.pi*0.25**(2)*t,2)\n",
    "# Disk\n",
    "IdO = (1/2)*md*0.25**(2)+md*0.25**(2)  #[kilogram meter square]\n",
    "\n",
    "# Hole\n",
    "IhO = (1/2)*3.93*0.125**(2)+3.93*0.25**(2)  #[kilogram meter square]\n",
    "\n",
    "# Let IO be moment of inertia about point O\n",
    "IO = round(IdO-IhO,2)  #[kilogram meter square]\n",
    "\n",
    "# Result\n",
    "print\"IO = \",(IO),\"kg m**(2)\""
   ]
  },
  {
   "cell_type": "markdown",
   "metadata": {},
   "source": [
    "## Ex 17.4 Page No 723"
   ]
  },
  {
   "cell_type": "code",
   "execution_count": 7,
   "metadata": {
    "collapsed": false
   },
   "outputs": [
    {
     "name": "stdout",
     "output_type": "stream",
     "text": [
      "IO =  14.167 kg.m**(2)\n",
      "IG =  2.917 kg.m**(2)\n"
     ]
    }
   ],
   "source": [
    "# Ex 17.4\n",
    "from __future__ import division\n",
    "\n",
    "# Variable Declaration\n",
    "m = 10  #[kilogram]\n",
    "\n",
    "# Calculation\n",
    "# Part(a)\n",
    "IOAO = (1/3)*m*1**(2)  #[kilogram meter square]\n",
    "IBCO = (1/12)*m*1**(2)+m*1**(2)  #[kilogram meter square]\n",
    "# Let IO be moment of inertia about O\n",
    "IO = round(IOAO+IBCO,3)  #[kilogram meter square]\n",
    "\n",
    "# Part(b)\n",
    "ybar = (0.5*10+1*10)/(10+10)  #[meter]\n",
    "IG = round(IO-2*m*ybar**(2),3)  #[kilogram meter square]\n",
    "\n",
    "# Result\n",
    "print\"IO = \",(IO),\"kg.m**(2)\"\n",
    "print\"IG = \",(IG),\"kg.m**(2)\""
   ]
  },
  {
   "cell_type": "markdown",
   "metadata": {},
   "source": [
    "## Ex 17.5 Page No 733"
   ]
  },
  {
   "cell_type": "code",
   "execution_count": 8,
   "metadata": {
    "collapsed": false
   },
   "outputs": [
    {
     "name": "stdout",
     "output_type": "stream",
     "text": [
      "NA =  6.88 kN\n",
      "NB =  12.74 kN\n",
      "aG =  1.59 m/s**(2)\n"
     ]
    }
   ],
   "source": [
    "# Ex 17.5\n",
    "import numpy as np\n",
    "\n",
    "# Calculation\n",
    "# Using +ΣF_x = m(aG)_x, +ΣF_y = m(aG)_y and +ΣMG(counter clockwise)=0 \n",
    "a = np.array([[0,-0.25,2000],[1,1,0],[-1.25,-0.25*0.3+0.75,0]])\n",
    "b = np.array([0,2000*9.81,0])\n",
    "x = np.linalg.solve(a, b)\n",
    "NA = round(x[0]/1000,2)  #[kilo Newton]\n",
    "NB = round(x[1]/1000,2)  #[kilo Newton]\n",
    "aG = round(x[2],2)  #[meters per second square]\n",
    "\n",
    "# Result\n",
    "print\"NA = \",(NA),\"kN\"\n",
    "print\"NB = \",(NB),\"kN\"\n",
    "print\"aG = \",(aG),\"m/s**(2)\""
   ]
  },
  {
   "cell_type": "markdown",
   "metadata": {},
   "source": [
    "## Ex 17.6 Page No 734"
   ]
  },
  {
   "cell_type": "code",
   "execution_count": 13,
   "metadata": {
    "collapsed": false
   },
   "outputs": [
    {
     "name": "stdout",
     "output_type": "stream",
     "text": [
      "usmin =  0.912\n"
     ]
    }
   ],
   "source": [
    "# Ex 17.6\n",
    "import numpy as np\n",
    "\n",
    "# Variable Declaration\n",
    "mm = 125  #[kilogram]\n",
    "mr = 75  #[kilogram]\n",
    "\n",
    "# Calculation\n",
    "# Using +ΣF_x = m(aG)_x, +ΣF_y = m(aG)_y and +ΣMG(counter clockwise)=0 \n",
    "a = np.array([[1,0,-(mm+mr)],[0,1,0],[0,0,mr*0.9+mm*0.6]])\n",
    "b = np.array([0,735.75+1226.25,-735.75*0.4-1226.25*0.8])\n",
    "x = np.linalg.solve(a, b)\n",
    "FB = round(x[0],1)  #[kilo Newton]\n",
    "NB = round(x[1],1)  #[kilo Newton]\n",
    "aG = round(x[2],2)  #[meters per second square]\n",
    "# Let usmin be minimum coefficient of static friction\n",
    "usmin = round(-FB/NB,3)\n",
    "\n",
    "# Result\n",
    "print\"usmin = \",(usmin)"
   ]
  },
  {
   "cell_type": "markdown",
   "metadata": {},
   "source": [
    "## Ex 17.7 Page No 736"
   ]
  },
  {
   "cell_type": "code",
   "execution_count": 14,
   "metadata": {
    "collapsed": false
   },
   "outputs": [
    {
     "name": "stdout",
     "output_type": "stream",
     "text": [
      "NC =  490.5 N\n",
      "x =  0.467 m\n",
      "aG =  10.0 m/s**(2)\n"
     ]
    }
   ],
   "source": [
    "# Ex 17.7\n",
    "\n",
    "# Variable Declaration\n",
    "P = 600  #[Newton]\n",
    "uk = 0.2\n",
    "\n",
    "# Calculation\n",
    "# Using +ΣF_y = m(aG)_y\n",
    "NC = 490.5  #[Newton]\n",
    "\n",
    "# Using +ΣF_x = m(aG)_x\n",
    "aG = round((600-uk*NC)/50,1)  #[meters per second square]\n",
    "\n",
    "# Using +ΣMG(counter clockwise)=0 \n",
    "x = round((uk*NC*0.5+600*0.3)/NC,3)  #[meter]\n",
    "\n",
    "# Result\n",
    "print\"NC = \",(NC),\"N\"\n",
    "print\"x = \",(x),\"m\"\n",
    "print\"aG = \",(aG),\"m/s**(2)\""
   ]
  },
  {
   "cell_type": "markdown",
   "metadata": {
    "collapsed": true
   },
   "source": [
    "## Ex 17.8 Page No 736"
   ]
  },
  {
   "cell_type": "code",
   "execution_count": 3,
   "metadata": {
    "collapsed": false
   },
   "outputs": [
    {
     "name": "stdout",
     "output_type": "stream",
     "text": [
      "TB =  1.32 kN\n",
      "TD =  1.32 kN\n",
      "aG =  4.9 m/s**(2)\n"
     ]
    }
   ],
   "source": [
    "# Ex 17.8\n",
    "import numpy as np\n",
    "import math\n",
    "\n",
    "# Variable Declaration\n",
    "theta = 30  #[Degrees]\n",
    "\n",
    "# Calculation\n",
    "# Using +ΣFn = 0, +ΣFt = 0 and +ΣMG(counterclockwise) = 0\n",
    "a = np.array([[1,1,0],[0,0,100],[-math.cos(math.pi*theta/180)*0.4,0.4*math.cos(math.pi*theta/180),0]])\n",
    "b = np.array([981*math.cos(math.pi*theta/180)+100*18,981*math.sin(math.pi*theta/180),0])\n",
    "x = np.linalg.solve(a, b)\n",
    "TB = round(x[0]/1000,2)  #[kilo Newton]\n",
    "TD = round(x[1]/1000,2)  #[kilo Newton]\n",
    "aG = round(x[2],2)  #[meters per second square]\n",
    "\n",
    "# Result\n",
    "print\"TB = \",(TB),\"kN\"\n",
    "print\"TD = \",(TD),\"kN\"\n",
    "print\"aG = \",(aG),\"m/s**(2)\""
   ]
  },
  {
   "cell_type": "markdown",
   "metadata": {},
   "source": [
    "## Ex 17.9 Page No 742"
   ]
  },
  {
   "cell_type": "code",
   "execution_count": 5,
   "metadata": {
    "collapsed": false
   },
   "outputs": [
    {
     "name": "stdout",
     "output_type": "stream",
     "text": [
      "Ox =  0 N\n",
      "Oy =  304.3 N\n",
      "theta =  2.72 rev\n"
     ]
    }
   ],
   "source": [
    "# Ex 17.9\n",
    "\n",
    "# Calculation\n",
    "# Using +ΣFx(right) = m(aG)x\n",
    "Ox = 0  #[Newton]\n",
    "\n",
    "# Using +ΣFy(upward) = m(aG)y\n",
    "Oy = 294.3+10  #[Newton]\n",
    "\n",
    "# Using +ΣMO(counterclockwise) = IO*alpha\n",
    "alpha = (-10*0.2-5)/-0.6\n",
    "theta = (-20**(2))/(2*-11.7)\n",
    "theta = round(theta*(1/(2*math.pi)),2)\n",
    "\n",
    "# Result\n",
    "print\"Ox = \",(Ox),\"N\"\n",
    "print\"Oy = \",(Oy),\"N\"\n",
    "print\"theta = \",(theta),\"rev\" "
   ]
  },
  {
   "cell_type": "markdown",
   "metadata": {},
   "source": [
    "## Ex 17.10 Page No 743"
   ]
  },
  {
   "cell_type": "code",
   "execution_count": 10,
   "metadata": {
    "collapsed": false
   },
   "outputs": [
    {
     "name": "stdout",
     "output_type": "stream",
     "text": [
      "Solution 1\n",
      "On =  750.0 N\n",
      "Ot =  19.05 N\n",
      "alpha =  5.91 rad/s**(2)\n",
      "\n",
      "Solution 2\n",
      "alpha =  5.91 rad/s**(2)\n",
      "\n",
      "Solution 3\n",
      "alpha =  5.91 rad/s**(2)\n",
      "\n"
     ]
    }
   ],
   "source": [
    "# Ex 17.10\n",
    "import numpy as np\n",
    "from __future__ import division\n",
    "\n",
    "# Calculation Solution 1\n",
    "# Using +ΣFn(left) = mw**(2)rG, +ΣFt(downwards) = malpharG and +ΣMG(clockwise) = IGalpha\n",
    "a = np.array([[1,0,0],[0,1,20*1.5],[0,1.5,-(1/12)*20*3**(2)]])\n",
    "b = np.array([20*5**(2)*1.5,20*9.81,-60])\n",
    "x = np.linalg.solve(a, b)\n",
    "On = round(x[0],2)  #[Newton]\n",
    "Ot = round(x[1],2)  #[Newton]\n",
    "alpha = round(x[2],2)  #[radians per second square]\n",
    "\n",
    "\n",
    "# Result Solution 1\n",
    "print\"Solution 1\"\n",
    "print\"On = \",(On),\"N\"\n",
    "print\"Ot = \",(Ot),\"N\"\n",
    "print\"alpha = \",(alpha),\"rad/s**(2)\\n\"\n",
    "\n",
    "# Calculation Solution 2\n",
    "# Using +ΣMO(clockwise) = Σ(Mk)O\n",
    "alpha = round((60+20*9.81*1.5)/((1/12)*20*3**(2)+20*1.5*1.5),2)  #[radians per second square]\n",
    "\n",
    "# Result Solution 2\n",
    "print\"Solution 2\"\n",
    "print\"alpha = \",(alpha),\"rad/s**(2)\\n\"\n",
    "\n",
    "# Calculation Solution 3\n",
    "# Using +ΣMO(clockwise) = IOalpha\n",
    "alpha = round((60+20*9.81*1.5)/((1/3)*20*3**(2)),2)  #[radians per second square]\n",
    "\n",
    "# Result Solution 3\n",
    "print\"Solution 3\"\n",
    "print\"alpha = \",(alpha),\"rad/s**(2)\\n\"\n"
   ]
  },
  {
   "cell_type": "markdown",
   "metadata": {},
   "source": [
    "## Ex 17.11 Page No 744"
   ]
  },
  {
   "cell_type": "code",
   "execution_count": 3,
   "metadata": {
    "collapsed": false
   },
   "outputs": [
    {
     "name": "stdout",
     "output_type": "stream",
     "text": [
      "Solution 1\n",
      "alpha =  11.3 rad/s**(2)\n",
      "\n",
      "Solution 2\n",
      "alpha =  11.3 rad/s**(2)\n"
     ]
    }
   ],
   "source": [
    "# Ex 17.11\n",
    "import numpy as np\n",
    "\n",
    "# Variable Declaration\n",
    "m = 60  #[kilogram]\n",
    "k = 0.25  #[meters]\n",
    "\n",
    "# Calculation Solution 1\n",
    "IO = m*k**(2)\n",
    "# Using +ΣMO(counterclockwise) = IOalpha, +ΣFy(upward) = m(aG)y and +a(counterclockwise) = alpha*r\n",
    "a = np.array([[0.4,0,-IO],[1,20,0],[0,1,-0.4]])\n",
    "b = np.array([0,20*9.81,0])\n",
    "x = np.linalg.solve(a, b)\n",
    "T = round(x[0],2)  #[Newton]\n",
    "a = round(x[1],2)  #[meters per second square]\n",
    "alpha = round(x[2],1)  #[radians per second square]\n",
    "\n",
    "# Result Solution 1\n",
    "print\"Solution 1\"\n",
    "print\"alpha = \",(alpha),\"rad/s**(2)\\n\"\n",
    "\n",
    "# Calculation Solution 2\n",
    "# Using +ΣMO(clockwise) = Σ(Mk)O\n",
    "alpha = round((20*9.81*0.4)/(3.75+20*0.4*0.4),1)   #[radians per second square]\n",
    "\n",
    "\n",
    "# Result Solution 2\n",
    "print\"Solution 2\"\n",
    "print\"alpha = \",(alpha),\"rad/s**(2)\"\n"
   ]
  },
  {
   "cell_type": "markdown",
   "metadata": {},
   "source": [
    "## Ex 17.12 Page No 745"
   ]
  },
  {
   "cell_type": "code",
   "execution_count": 15,
   "metadata": {
    "collapsed": false
   },
   "outputs": [
    {
     "name": "stdout",
     "output_type": "stream",
     "text": [
      "On =  1600.0 N\n",
      "Ot =  223.9 N\n",
      "alpha =  10.66 rad/s**(2)\n"
     ]
    }
   ],
   "source": [
    "# Ex 17.12\n",
    "import numpy as np\n",
    "\n",
    "# Calculation\n",
    "# Using +ΣFn(left) = mw**(2)rG, +ΣFt(upward) = m*alpha*rG and +ΣMG(clockwise) = IG*alpha\n",
    "a = np.array([[1,0,0],[0,1,50*0.5],[0,0.5,-18]])\n",
    "b = np.array([50*8**(2)*0.5,50*9.81,-80])\n",
    "x = np.linalg.solve(a, b)\n",
    "On = round(x[0],2)  #[Newton]\n",
    "Ot = round(x[1],2)  #[Newton]\n",
    "alpha = round(x[2],2)  #[radians per second square]\n",
    "\n",
    "\n",
    "# Result\n",
    "print\"On = \",(On),\"N\"\n",
    "print\"Ot = \",(Ot),\"N\"  # Correction in the textbook\n",
    "print\"alpha = \",(alpha),\"rad/s**(2)\""
   ]
  },
  {
   "cell_type": "markdown",
   "metadata": {},
   "source": [
    "## Ex 17.14 Page No 754"
   ]
  },
  {
   "cell_type": "code",
   "execution_count": 5,
   "metadata": {
    "collapsed": false
   },
   "outputs": [
    {
     "name": "stdout",
     "output_type": "stream",
     "text": [
      "Solution 1\n",
      "alpha =  10.3 rad/s**(2)\n",
      "\n",
      "Solution 2\n",
      "alpha =  10.3 rad/s**(2)\n"
     ]
    }
   ],
   "source": [
    "# Ex 17.14\n",
    "import numpy as np\n",
    "\n",
    "# Calculation Solution 1\n",
    "IG = 8*0.35**(2)  #[kilogram meter square]\n",
    "# Using +ΣFy(upward) = m(aG)y, +ΣMG(clockwise) = IG*alpha and +aG(clockwise) = alpha*r\n",
    "a = np.array([[1,-8,0],[0.5,0,IG],[0,1,-0.5]])\n",
    "b = np.array([-100+78.48,100*0.2,0])\n",
    "x = np.linalg.solve(a, b)\n",
    "T = round(x[0],2)  #[Newton]\n",
    "aG = round(x[1],2)  #[meters per second square]\n",
    "alpha = round(x[2],1)  #[radians per second square]\n",
    "\n",
    "# Result Solution 1\n",
    "print\"Solution 1\"\n",
    "print\"alpha = \",(alpha),\"rad/s**(2)\\n\"\n",
    "\n",
    "# Calculation Solution 2\n",
    "# Using +ΣMA(clockwise) = Σ(Mk)A and aG = 0.5*alpha\n",
    "alpha = round((100*0.7-78.48*0.5)/(0.980+8*0.5*0.5),1)  #[radians per second square]\n",
    "\n",
    "# Result Solution 2\n",
    "print\"Solution 2\"\n",
    "print\"alpha = \",(alpha),\"rad/s**(2)\""
   ]
  },
  {
   "cell_type": "markdown",
   "metadata": {},
   "source": [
    "## Ex 17.15 Page No 755"
   ]
  },
  {
   "cell_type": "code",
   "execution_count": 8,
   "metadata": {
    "collapsed": false
   },
   "outputs": [
    {
     "name": "stdout",
     "output_type": "stream",
     "text": [
      "aG =  2.453 m/s**(2)\n"
     ]
    }
   ],
   "source": [
    "# Ex 17.15\n",
    "import numpy as np\n",
    "\n",
    "# Calculation\n",
    "# Slipping\n",
    "# Using +ΣFx(right) = m(aG)x, +ΣFy(upward) = m(aG)y, +ΣMG(clockwise) = IG*alpha and FA = 0.25*NA\n",
    "a = np.array([[1,0,-5,0],[0,1,0,0],[1.25,0,0,2.45],[1,-0.25,0,0]])\n",
    "b = np.array([0,5*9.81,35,0])\n",
    "x = np.linalg.solve(a, b)\n",
    "FA = round(x[0],2)  #[Newton]\n",
    "NA = round(x[1],2)  #[Newton]\n",
    "aG = round(x[2],3)  #[meters per second square]\n",
    "alpha = round(x[3],2)  #[radians per second square]\n",
    "\n",
    "# Result\n",
    "print\"aG = \",(aG),\"m/s**(2)\""
   ]
  },
  {
   "cell_type": "markdown",
   "metadata": {},
   "source": [
    "## Ex 17.16 Page No 756"
   ]
  },
  {
   "cell_type": "code",
   "execution_count": 12,
   "metadata": {
    "collapsed": false
   },
   "outputs": [
    {
     "name": "stdout",
     "output_type": "stream",
     "text": [
      "alpha =  -0.428 rad/s**(2)\n"
     ]
    }
   ],
   "source": [
    "# Ex 17.16\n",
    "import numpy as np\n",
    "\n",
    "# Calculation\n",
    "# Slipping\n",
    "# Using +ΣFx(right) = m(aG)x, +ΣFy(upward) = m(aG)y, +ΣMG(clockwise) = IG*alpha and FA = 0.25*NA\n",
    "a = np.array([[1,0,100,0],[0,1,0,0],[1.5,0,0,-75],[1,-0.25,0,0]])\n",
    "b = np.array([400,981,400,0])\n",
    "x = np.linalg.solve(a, b)\n",
    "FA = round(x[0],2)  #[Newton]\n",
    "NA = round(x[1],2)  #[Newton]\n",
    "aG = round(x[2],3)  #[meters per second square]\n",
    "alpha = round(x[3],3)  #[radians per second square]\n",
    "\n",
    "# Result\n",
    "print\"alpha = \",(alpha),\"rad/s**(2)\""
   ]
  },
  {
   "cell_type": "markdown",
   "metadata": {},
   "source": [
    "## Ex 17.17 Page No 757"
   ]
  },
  {
   "cell_type": "code",
   "execution_count": 14,
   "metadata": {
    "collapsed": false
   },
   "outputs": [
    {
     "name": "stdout",
     "output_type": "stream",
     "text": [
      "alpha =  10.3 rad/s**(2)\n"
     ]
    }
   ],
   "source": [
    "# Ex 17.17\n",
    "import numpy as np\n",
    "\n",
    "# Calculation\n",
    "# Using +ΣMA(counterclockwise) = Σ(Mk)A, aGx = alpha*0.25 and aGy = alpha*0.1\n",
    "a = np.array([[0.675,30*0.25,30*0.1],[0.25,-1,0],[0.1,0,-1]])\n",
    "b = np.array([30*9.81*0.1,0,0])\n",
    "x = np.linalg.solve(a, b)\n",
    "alpha = round(x[0],1)  #[radians per second square]\n",
    "aGx = round(x[1],2)  #[meters per second square]\n",
    "aGy = round(x[2],2)  #[meters per second square]\n",
    "\n",
    "# Result\n",
    "print\"alpha = \",(alpha),\"rad/s**(2)\""
   ]
  },
  {
   "cell_type": "code",
   "execution_count": null,
   "metadata": {
    "collapsed": true
   },
   "outputs": [],
   "source": []
  }
 ],
 "metadata": {
  "anaconda-cloud": {},
  "kernelspec": {
   "display_name": "Python [default]",
   "language": "python",
   "name": "python2"
  },
  "language_info": {
   "codemirror_mode": {
    "name": "ipython",
    "version": 2
   },
   "file_extension": ".py",
   "mimetype": "text/x-python",
   "name": "python",
   "nbconvert_exporter": "python",
   "pygments_lexer": "ipython2",
   "version": "2.7.12"
  }
 },
 "nbformat": 4,
 "nbformat_minor": 1
}
