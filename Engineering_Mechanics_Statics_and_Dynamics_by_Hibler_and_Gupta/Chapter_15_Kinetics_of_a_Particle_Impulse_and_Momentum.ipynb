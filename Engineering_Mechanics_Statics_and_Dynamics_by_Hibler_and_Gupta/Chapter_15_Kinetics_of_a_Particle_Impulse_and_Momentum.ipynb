{
 "cells": [
  {
   "cell_type": "markdown",
   "metadata": {},
   "source": [
    "# Chapter 15 Kinetics of a Particle : Impulse and Momentum"
   ]
  },
  {
   "cell_type": "markdown",
   "metadata": {},
   "source": [
    "## Ex 15.1 Page No 607"
   ]
  },
  {
   "cell_type": "code",
   "execution_count": 1,
   "metadata": {
    "collapsed": false
   },
   "outputs": [
    {
     "name": "stdout",
     "output_type": "stream",
     "text": [
      "v2 =  14.1 m/s\n",
      "NC =  839.6 N\n"
     ]
    }
   ],
   "source": [
    "# Ex 15.1\n",
    "import math\n",
    "\n",
    "# Variable Declaration\n",
    "ws = 100  #[kilogram]\n",
    "F = 200  #[Newton]\n",
    "theta = 45  #[degrees]\n",
    "\n",
    "# Calculation\n",
    "v2 = round(F*10*math.cos(math.pi*theta/180)/100,1)  #[meters per second]\n",
    "NC = round((9.81*ws*10-F*10*math.sin(math.pi*theta/180))/10,1)  #[Newtons]\n",
    "\n",
    "# Result\n",
    "print\"v2 = \",(v2),\"m/s\"\n",
    "print\"NC = \",(NC),\"N\""
   ]
  },
  {
   "cell_type": "markdown",
   "metadata": {},
   "source": [
    "## Ex 15.2 Page No 608"
   ]
  },
  {
   "cell_type": "code",
   "execution_count": 3,
   "metadata": {
    "collapsed": false
   },
   "outputs": [
    {
     "name": "stdout",
     "output_type": "stream",
     "text": [
      "v2 =  7.67 m/s\n",
      "NC =  433.0 N\n"
     ]
    }
   ],
   "source": [
    "# Ex 15.2\n",
    "import math\n",
    "\n",
    "# Calculation\n",
    "# Using +ΣFy = 0\n",
    "NC = round(500*math.cos(math.pi*30/180),1)  #[Newtons]\n",
    "v2 = round((50.97+100-0.6*NC+500)/50.97,2)  #[meters per second]\n",
    "\n",
    "# Result\n",
    "print\"v2 = \",(v2),\"m/s\"\n",
    "print\"NC = \",(NC),\"N\""
   ]
  },
  {
   "cell_type": "markdown",
   "metadata": {},
   "source": [
    "## Ex 15.3 Page No 609"
   ]
  },
  {
   "cell_type": "code",
   "execution_count": 12,
   "metadata": {
    "collapsed": false
   },
   "outputs": [
    {
     "name": "stdout",
     "output_type": "stream",
     "text": [
      "vB2 =  35.8 m/s\n",
      "TB =  19.2 N\n"
     ]
    }
   ],
   "source": [
    "# Ex 15.3\n",
    "import numpy as np\n",
    "from __future__ import division\n",
    "\n",
    "# Calculation\n",
    "a = np.array([[-(1/2)*3,2*6], [5,6]])\n",
    "b = np.array([3*9.81*6,5*9.81*6])\n",
    "x = np.linalg.solve(a, b)\n",
    "vB2 = round(x[0],1)  #[meters per second]\n",
    "TB = round(x[1],1)  #[Newtons]\n",
    "\n",
    "# Result\n",
    "print\"vB2 = \",(vB2),\"m/s\"\n",
    "print\"TB = \",(TB),\"N\""
   ]
  },
  {
   "cell_type": "markdown",
   "metadata": {},
   "source": [
    "## Ex 15.4 Page No 616"
   ]
  },
  {
   "cell_type": "code",
   "execution_count": 14,
   "metadata": {
    "collapsed": false
   },
   "outputs": [
    {
     "name": "stdout",
     "output_type": "stream",
     "text": [
      "v2 =  0.5 m/s\n",
      "Favg =  18.75 kN\n"
     ]
    }
   ],
   "source": [
    "# Ex 15.4\n",
    "\n",
    "# Calculation\n",
    "# Part(a)\n",
    "v2 = (15000*1.5-12000*0.75)/27000   #[meters per second]\n",
    "# Part(b)\n",
    "Favg = (15000*1.5-15000*0.5)/0.8  #[Newtons]\n",
    "\n",
    "# Result\n",
    "print\"v2 = \",(v2),\"m/s\"\n",
    "print\"Favg = \",(Favg/1000),\"kN\""
   ]
  },
  {
   "cell_type": "markdown",
   "metadata": {},
   "source": [
    "## Ex 15.5 Page No 617"
   ]
  },
  {
   "cell_type": "code",
   "execution_count": 17,
   "metadata": {
    "collapsed": false
   },
   "outputs": [
    {
     "name": "stdout",
     "output_type": "stream",
     "text": [
      "vC2 =  4.0 m/s\n",
      "Favg =  66.67 kN\n"
     ]
    }
   ],
   "source": [
    "# Ex 15.5\n",
    "\n",
    "# Calculation\n",
    "# Part(a)\n",
    "vC2 = 4*500/500  #[meters per second]\n",
    "# Part(b)\n",
    "Favg = 4*500/0.03  #[Newtons]\n",
    "\n",
    "# Result\n",
    "print\"vC2 = \",(vC2),\"m/s\"\n",
    "print\"Favg = \",round((Favg/1000),2),\"kN\""
   ]
  },
  {
   "cell_type": "markdown",
   "metadata": {},
   "source": [
    "## Ex 15.6 Page No 618"
   ]
  },
  {
   "cell_type": "code",
   "execution_count": 20,
   "metadata": {
    "collapsed": false
   },
   "outputs": [
    {
     "name": "stdout",
     "output_type": "stream",
     "text": [
      "vT2 =  2.63 m/s\n"
     ]
    }
   ],
   "source": [
    "# Ex 15.6\n",
    "\n",
    "# Calculation\n",
    "vT2 = round((350*10**(3)*3)/(350*10**(3)+50*10**(3)),2)  #[meters per second]\n",
    "\n",
    "# Result\n",
    "print\"vT2 = \",(vT2),\"m/s\""
   ]
  },
  {
   "cell_type": "markdown",
   "metadata": {},
   "source": [
    "## Ex 15.7 Page No 619"
   ]
  },
  {
   "cell_type": "code",
   "execution_count": 5,
   "metadata": {
    "collapsed": false
   },
   "outputs": [
    {
     "name": "stdout",
     "output_type": "stream",
     "text": [
      "Impulse =  682.9 N.s\n"
     ]
    }
   ],
   "source": [
    "# Ex 15.7\n",
    "import math\n",
    "from __future__ import division\n",
    "\n",
    "# Variable Declaration\n",
    "mH = 300  #[kilogram]\n",
    "mP = 800  #[kilogram]\n",
    "\n",
    "# Calculation\n",
    "# Using conservation of energy\n",
    "vH1 = round(math.sqrt((mH*9.81*0.5)/((1/2)*mH)),2)  #[meters per second]\n",
    "# Using conservation of momentum\n",
    "v2 = (mH*3.13)/(mH+mP)  #[meters per second]\n",
    "# Using Principle of Impulse and Momentum\n",
    "Impulse = round(300*vH1-300*v2,1)  #[Newtons second]\n",
    "\n",
    "# Result\n",
    "print\"Impulse = \",(Impulse),\"N.s\"\n"
   ]
  },
  {
   "cell_type": "markdown",
   "metadata": {},
   "source": [
    "## Ex 15.9 Page No 627"
   ]
  },
  {
   "cell_type": "code",
   "execution_count": 24,
   "metadata": {
    "collapsed": false
   },
   "outputs": [
    {
     "name": "stdout",
     "output_type": "stream",
     "text": [
      "Energy_loss =  -33.15 J\n"
     ]
    }
   ],
   "source": [
    "# Ex 15.9\n",
    "import numpy as np\n",
    "from __future__ import division\n",
    "\n",
    "# Calculation\n",
    "# Using conservation of energy\n",
    "vA1 = round(math.sqrt((6*9.81*1)/((1/2)*6)),2)\n",
    "# Using Conservation of Momentum and formula for coefficient of restitution\n",
    "a = np.array([[1,3], [1,-1]])\n",
    "b = np.array([4.43,-2.215])\n",
    "x = np.linalg.solve(a, b)\n",
    "vA2 = round(x[0],3)  #[meters per second]\n",
    "vB2 = round(x[1],2) #[meters per second]\n",
    "Energy_loss = round((1/2)*18*vB2**(2)+(1/2)*6*vA2**(2)-(1/2)*6*vA1**(2),2)  #[Joules]\n",
    "\n",
    "# Result\n",
    "print\"Energy_loss = \",(Energy_loss),\"J\""
   ]
  },
  {
   "cell_type": "markdown",
   "metadata": {},
   "source": [
    "## Ex 15.10 Page No 628"
   ]
  },
  {
   "cell_type": "code",
   "execution_count": 6,
   "metadata": {
    "collapsed": false
   },
   "outputs": [
    {
     "name": "stdout",
     "output_type": "stream",
     "text": [
      "s3 =  237.0 mm\n"
     ]
    }
   ],
   "source": [
    "# Ex 15.10\n",
    "from __future__ import division\n",
    "import numpy as np\n",
    "import math\n",
    "\n",
    "# Variable Declaration\n",
    "wB = 1.5  #[kilogram]\n",
    "k = 800  #[Newton meter]\n",
    "\n",
    "# Calculation\n",
    "# Using Principle of conservation of energy\n",
    "vB1 = round(math.sqrt((-wB*9.81*1.25+(1/2)*k*0.25**(2))/((1/2)*1.5)),2)  #[meters per second]\n",
    "# Using Principle of coefficient of restitution\n",
    "vB2 = 0.8*(0-2.97)+0  #[meters per second]\n",
    "# Using Principle of conservation of energy\n",
    "coeff = [400,-14.72,-18.94]\n",
    "# Taking positive root\n",
    "s3 = round(np.roots(coeff)[0],3)  #[meters]\n",
    "\n",
    "# Result\n",
    "print\"s3 = \",(s3*1000),\"mm\""
   ]
  },
  {
   "cell_type": "markdown",
   "metadata": {},
   "source": [
    "## Ex 15.11 Page No 629"
   ]
  },
  {
   "cell_type": "code",
   "execution_count": 32,
   "metadata": {
    "collapsed": false
   },
   "outputs": [
    {
     "name": "stdout",
     "output_type": "stream",
     "text": [
      "vAx2 =  -1.26 m/s\n",
      "vBx2 =  1.22 m/s\n",
      "vAy2 =  1.5 m/s\n",
      "vBy2 =  -0.71 m/s\n"
     ]
    }
   ],
   "source": [
    "# Ex 15.11\n",
    "import numpy as np\n",
    "import math\n",
    "\n",
    "# Calculation\n",
    "vAx1 = round(3*math.cos(math.pi*30/180),2)\n",
    "vAy1 = round(3*math.sin(math.pi*30/180),2)\n",
    "vBx1 = round(-1*math.cos(math.pi*45/180),2)\n",
    "vBy1 = round(-1*math.sin(math.pi*45/180),2)\n",
    "# Using Conservation of \"x\" Momentum and Coefficient of restitution\n",
    "a = np.array([[1,2], [-1,1]])\n",
    "b = np.array([1.18,2.48])\n",
    "x = np.linalg.solve(a, b)\n",
    "vAx2 = round(x[0],3)  #[meters per second]\n",
    "vBx2 = round(x[1],2) #[meters per second]\n",
    "# Using Conservation of \"x\" Momentum\n",
    "vAy2 = vAy1\n",
    "vBy2 = vBy1\n",
    "\n",
    "# Result\n",
    "print\"vAx2 = \",(vAx2),\"m/s\"\n",
    "print\"vBx2 = \",(vBx2),\"m/s\"\n",
    "print\"vAy2 = \",(vAy2),\"m/s\"\n",
    "print\"vBy2 = \",(vBy2),\"m/s\""
   ]
  },
  {
   "cell_type": "markdown",
   "metadata": {},
   "source": [
    "## Ex 15.13 Page No 640"
   ]
  },
  {
   "cell_type": "code",
   "execution_count": 7,
   "metadata": {
    "collapsed": false
   },
   "outputs": [
    {
     "name": "stdout",
     "output_type": "stream",
     "text": [
      "vA2 =  20.0 m/s\n"
     ]
    }
   ],
   "source": [
    "# Ex 15.13\n",
    "from __future__ import division\n",
    "\n",
    "# Variable Declaration\n",
    "P = 10  #[Newton]\n",
    "wB = 5  #[kilogram]\n",
    "\n",
    "# Calculation\n",
    "vA2 = ((3/2)*(4**(2)-0**(2))+0.4*P*4)/(wB*0.4)  #[meters per second]\n",
    "\n",
    "# Result\n",
    "print\"vA2 = \",(vA2),\"m/s\""
   ]
  },
  {
   "cell_type": "markdown",
   "metadata": {},
   "source": [
    "## Ex 15.14 Page No 641"
   ]
  },
  {
   "cell_type": "code",
   "execution_count": 35,
   "metadata": {
    "collapsed": false
   },
   "outputs": [
    {
     "name": "stdout",
     "output_type": "stream",
     "text": [
      "UF =  2.31 J\n"
     ]
    }
   ],
   "source": [
    "# Ex 15.14\n",
    "\n",
    "# Variable Declaration\n",
    "v1 = 1  #[meters per second]\n",
    "r1 = 0.5  #[meters]\n",
    "r2 = 0.2  #[meters]\n",
    "vC = 2  #[meters per second]\n",
    "\n",
    "# Calculation\n",
    "# Part(a)\n",
    "# Using principle of Conservation of Angular Momentum\n",
    "v2dash = (r1*0.5*v1)/(r2*0.5)  #[meters per second]\n",
    "v2 = round(math.sqrt(2.5**(2)+2**(2)),2)  #[meters per second]\n",
    "# Part(b)\n",
    "UF = (1/2)*0.5*v2**(2)-(1/2)*0.5*v1**(2)  #[Joules]\n",
    "\n",
    "# Result\n",
    "print\"UF = \",(UF),\"J\""
   ]
  },
  {
   "cell_type": "markdown",
   "metadata": {},
   "source": [
    "## Ex 15.15 Page No 642"
   ]
  },
  {
   "cell_type": "code",
   "execution_count": 38,
   "metadata": {
    "collapsed": false
   },
   "outputs": [
    {
     "name": "stdout",
     "output_type": "stream",
     "text": [
      "vD2doubledash =  0.838 m/s\n"
     ]
    }
   ],
   "source": [
    "# Ex 15.15\n",
    "import math\n",
    "from __future__ import division\n",
    "\n",
    "# Variable Declaration\n",
    "vD1 = 1.5  #[meters per second]\n",
    "kc = 20  #[Newtons per meter]\n",
    "\n",
    "# Calculation\n",
    "# Using principle of Conservation of Angular Momentum\n",
    "vD2dash = (0.5*2*1.5)/(0.7*2)  #[meters per second]\n",
    "# Using Conservation of Energy\n",
    "vD2 = round(math.sqrt(((1/2)*2*vD1**(2)-(1/2)*kc*0.2**(2))/((1/2)*2)),2)  #[meters per second]\n",
    "vD2doubledash = round(math.sqrt(vD2**(2)-vD2dash**(2)),3)  #[meters per second]\n",
    "\n",
    "# Result\n",
    "print\"vD2doubledash = \",(vD2doubledash),\"m/s\""
   ]
  },
  {
   "cell_type": "code",
   "execution_count": null,
   "metadata": {
    "collapsed": true
   },
   "outputs": [],
   "source": []
  }
 ],
 "metadata": {
  "kernelspec": {
   "display_name": "Python [default]",
   "language": "python",
   "name": "python2"
  },
  "language_info": {
   "codemirror_mode": {
    "name": "ipython",
    "version": 2
   },
   "file_extension": ".py",
   "mimetype": "text/x-python",
   "name": "python",
   "nbconvert_exporter": "python",
   "pygments_lexer": "ipython2",
   "version": "2.7.12"
  }
 },
 "nbformat": 4,
 "nbformat_minor": 1
}
