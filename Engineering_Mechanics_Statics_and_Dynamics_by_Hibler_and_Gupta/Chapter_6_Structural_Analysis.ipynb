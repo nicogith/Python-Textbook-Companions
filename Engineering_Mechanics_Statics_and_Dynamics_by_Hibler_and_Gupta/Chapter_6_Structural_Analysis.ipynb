{
 "cells": [
  {
   "cell_type": "markdown",
   "metadata": {},
   "source": [
    "# Chapter 6 Structural Analysis"
   ]
  },
  {
   "cell_type": "markdown",
   "metadata": {},
   "source": [
    "## Ex 6.1 Page No 212"
   ]
  },
  {
   "cell_type": "code",
   "execution_count": 6,
   "metadata": {
    "collapsed": false
   },
   "outputs": [
    {
     "name": "stdout",
     "output_type": "stream",
     "text": [
      "FBC =  707.1 N\n",
      "FBA =  500.0 N\n",
      "FCA =  500.0 N\n",
      "C_y =  500.0 N\n",
      "A_x =  500 N\n",
      "A_y =  500 N\n"
     ]
    }
   ],
   "source": [
    "# Example 6.1\n",
    "import math\n",
    "\n",
    "# Calculation\n",
    "\n",
    "# Joint B\n",
    "# Using  +ΣF_x(right) = 0\n",
    "FBC = round(500/math.sin(math.pi*45/180),1)  #[Newton]\n",
    "\n",
    "# Using  +ΣF_y(upward) = 0\n",
    "FBA = round(FBC*math.cos(math.pi*45/180),1)  #[Newton]\n",
    "\n",
    "# Joint C\n",
    "# Using  +ΣF_x(right) = 0\n",
    "FCA = round(FBC*math.cos(math.pi*45/180),1)  #[Newton]\n",
    "\n",
    "# Using  +ΣF_y(upward) = 0\n",
    "C_y = round(FBC*math.sin(math.pi*45/180),1)  #[Newton]\n",
    "\n",
    "# Joint A\n",
    "# # Using  +ΣF_x(right) = 0\n",
    "A_x = 500  #[Newton]\n",
    "A_y = 500  #[Newton]\n",
    "\n",
    "# Result\n",
    "print\"FBC = \",(FBC),\"N\"\n",
    "print\"FBA = \",(FBA),\"N\"\n",
    "print\"FCA = \",(FCA),\"N\"\n",
    "print\"C_y = \",(C_y),\"N\"\n",
    "print\"A_x = \",(A_x),\"N\"\n",
    "print\"A_y = \",(A_y),\"N\"\n",
    "\n"
   ]
  },
  {
   "cell_type": "markdown",
   "metadata": {},
   "source": [
    "## Ex 6.2 Page No 213"
   ]
  },
  {
   "cell_type": "code",
   "execution_count": 8,
   "metadata": {
    "collapsed": false
   },
   "outputs": [
    {
     "name": "stdout",
     "output_type": "stream",
     "text": [
      "FCB =  5.02 kN\n",
      "FCD =  4.1 kN\n",
      "FDA =  4.1 kN\n",
      "FDB =  4.1 kN\n"
     ]
    }
   ],
   "source": [
    "# Example 6.2\n",
    "import math\n",
    "import numpy as np\n",
    "\n",
    "# Calculation\n",
    "# Joint C\n",
    "# Using  +ΣF_x(right) = 0 and  +ΣF_y(upward) = 0\n",
    "a = np.array([[-math.cos(math.pi*30/180),math.sin(math.pi*45/180)],[math.sin(math.pi*30/180),-math.cos(math.pi*45/180)]])\n",
    "b = np.array([0,-1.5])\n",
    "x = np.linalg.solve(a, b)\n",
    "FCD = round(x[0],2)  #[kilo Newton]\n",
    "FCB = round(x[1],2)  #[kilo Newton]\n",
    "\n",
    "# Calculation\n",
    "# Joint D\n",
    "# Using  +ΣF_x(right) = 0\n",
    "FDA = round(FCD*math.cos(math.pi*30/180)/math.cos(math.pi*30/180),2)  #[kilo Newton]\n",
    "# Using  +ΣF_y(upward) = 0\n",
    "FDB = round(2*FCD*math.sin(math.pi*30/180),2)  #[kilo Newton]\n",
    "\n",
    "# Result\n",
    "print\"FCB = \",(FCB),\"kN\"\n",
    "print\"FCD = \",(FCD),\"kN\"\n",
    "print\"FDA = \",(FDA),\"kN\"\n",
    "print\"FDB = \",(FDB),\"kN\"\n",
    "\n"
   ]
  },
  {
   "cell_type": "markdown",
   "metadata": {},
   "source": [
    "## Ex 6.3 Page No 214"
   ]
  },
  {
   "cell_type": "code",
   "execution_count": 24,
   "metadata": {
    "collapsed": false
   },
   "outputs": [
    {
     "name": "stdout",
     "output_type": "stream",
     "text": [
      "FAB =  750.0 N\n",
      "FAD =  450.0 N\n",
      "FDB =  -250.0 N\n",
      "FDC =  200.0 N\n",
      "FCB =  600 N\n"
     ]
    }
   ],
   "source": [
    "# Example 6.3\n",
    "from __future__ import division\n",
    "\n",
    "# Calculation\n",
    "# Using  +ΣF_x(right) = 0\n",
    "C_x = 600  #[Newton]\n",
    "# Using  +ΣMC(counterclockwise) = 0\n",
    "A_y = (400*3+600*4)/6  #[Newton]\n",
    "# Using  +ΣF_y(upward) = 0\n",
    "C_y = A_y - 400  #[Newton]\n",
    "\n",
    "# Joint A\n",
    "# Using  +ΣF_y(upward) = 0\n",
    "FAB = 600*(5/4)  #[Newton]\n",
    "# Using  +ΣF_x(right) = 0\n",
    "FAD = (3/5)*FAB  #[Newton]\n",
    "\n",
    "# Joint D\n",
    "# Using  +ΣF_x(right) = 0\n",
    "FDB = (450-600)*(5/3)  #[Newton]\n",
    "# Using  +ΣF_y(upward) = 0\n",
    "FDC = (-4/5)*(FDB)  #[Newton]\n",
    "\n",
    "# Joint C\n",
    "# Using  +ΣF_x(right) = 0\n",
    "FCB = 600  #[Newton]\n",
    "\n",
    "# Result\n",
    "print\"FAB = \",(FAB),\"N\"\n",
    "print\"FAD = \",(FAD),\"N\"\n",
    "print\"FDB = \",(FDB),\"N\"\n",
    "print\"FDC = \",(FDC),\"N\"\n",
    "print\"FCB = \",(FCB),\"N\"\n"
   ]
  },
  {
   "cell_type": "markdown",
   "metadata": {
    "collapsed": true
   },
   "source": [
    "## Ex 6.4 Page No 218"
   ]
  },
  {
   "cell_type": "code",
   "execution_count": 1,
   "metadata": {
    "collapsed": false
   },
   "outputs": [
    {
     "name": "stdout",
     "output_type": "stream",
     "text": [
      "FGC =  0 N\n",
      "FDF=  0 N\n"
     ]
    }
   ],
   "source": [
    "# Example 6.4\n",
    "\n",
    "# Calculation\n",
    "# Using  +ΣF_y(upward) = 0 at joint G\n",
    "FGC = 0  #[Newton]\n",
    "\n",
    "# GC is a zero force menber means that 5-kN load at C must be supported by members CB,CH,CF and CD\n",
    "# Using  +ΣF_y(upward) = 0 at joint F\n",
    "FDF = 0  #[Newton]\n",
    "\n",
    "# Result\n",
    "print\"FGC = \",(FGC),\"N\"\n",
    "print\"FDF= \",(FDF),\"N\"\n"
   ]
  },
  {
   "cell_type": "markdown",
   "metadata": {},
   "source": [
    "## Ex 6.5 Page No 225"
   ]
  },
  {
   "cell_type": "code",
   "execution_count": 25,
   "metadata": {
    "collapsed": false
   },
   "outputs": [
    {
     "name": "stdout",
     "output_type": "stream",
     "text": [
      "FBC =  800.0 N\n",
      "FGE =  800.0 N\n",
      "FGC =  500.0 N\n"
     ]
    }
   ],
   "source": [
    "# Example 6.5\n",
    "from __future__ import division\n",
    "\n",
    "# Calculation\n",
    "# Applying equations of equilibrium\n",
    "# Using  +ΣF_x(right) = 0\n",
    "A_x = 400  #[Newton]\n",
    "\n",
    "# Using  +ΣMA(counterclockwise) = 0\n",
    "D_y = (400*3+1200*8)/12  #[Newton]\n",
    "\n",
    "# Using  +ΣF_y(upward) = 0\n",
    "A_y = 1200-900  #[Newton]\n",
    "\n",
    "# Using  +ΣMG(counterclockwise) = 0\n",
    "FBC = (400*3+300*4)/3  #[Newton]\n",
    "\n",
    "# Using  +ΣMC(counterclockwise) = 0\n",
    "FGE = (300*8)/3  #[Newton]\n",
    "\n",
    "# Using  +ΣF_y(upward) = 0\n",
    "FGC = (300*5)/3  #[Newton]\n",
    "\n",
    "# Result\n",
    "print\"FBC = \",(FBC),\"N\"\n",
    "print\"FGE = \",(FGE),\"N\"\n",
    "print\"FGC = \",(FGC),\"N\""
   ]
  },
  {
   "cell_type": "markdown",
   "metadata": {},
   "source": [
    "## Ex 6.6 Page No 226"
   ]
  },
  {
   "cell_type": "code",
   "execution_count": 12,
   "metadata": {
    "collapsed": false
   },
   "outputs": [
    {
     "name": "stdout",
     "output_type": "stream",
     "text": [
      "FCF =  0.589 kN\n"
     ]
    }
   ],
   "source": [
    "# Example 6.6\n",
    "import math\n",
    "from __future__ import division\n",
    "\n",
    "# Calculation\n",
    "# Using  +ΣMO(counterclockwise) = 0\n",
    "FCF = round((3*8-4.75*4)/(12*math.sin(math.pi*45/180)),3)  #[kilo Newton]\n",
    "\n",
    "# Result\n",
    "print\"FCF = \",(FCF),\"kN\"\n"
   ]
  },
  {
   "cell_type": "markdown",
   "metadata": {},
   "source": [
    "## Ex 6.7 Page No 227"
   ]
  },
  {
   "cell_type": "code",
   "execution_count": 13,
   "metadata": {
    "collapsed": false
   },
   "outputs": [
    {
     "name": "stdout",
     "output_type": "stream",
     "text": [
      "FEB =  2000.0 N\n"
     ]
    }
   ],
   "source": [
    "# Example 6.7\n",
    "import math\n",
    "\n",
    "# Calculation\n",
    "# Using  +ΣMB(counterclockwise) = 0\n",
    "FED = (-1000*4-3000*2+4000*4)/(math.sin(math.pi*30/180)*4)  #[Newton]\n",
    "\n",
    "# Using  +ΣF_x(right) = 0 for section bb Fig 6-18c\n",
    "FEF = 3000*math.cos(math.pi*30/180)/math.cos(math.pi*30/180)  #[Newton]\n",
    "\n",
    "# Using  +ΣF_y(upward) = 0\n",
    "FEB = 2*3000*math.sin(math.pi*30/180)-1000  #[Newton]\n",
    "\n",
    "# Result\n",
    "print\"FEB = \",(FEB),\"N\""
   ]
  },
  {
   "cell_type": "markdown",
   "metadata": {},
   "source": [
    "## Ex 6.8 Page No 231"
   ]
  },
  {
   "cell_type": "code",
   "execution_count": 14,
   "metadata": {
    "collapsed": false
   },
   "outputs": [
    {
     "name": "stdout",
     "output_type": "stream",
     "text": [
      "FAE =  0.0 kN\n",
      "FAB =  4.0 kN\n",
      "FAC =  0.0 kN\n",
      "RB =  5.66 kN\n",
      "FBE =  5.66 kN\n",
      "FBD =  2.0 kN\n",
      "FDE =  0 kN\n",
      "FDC =  0 kN\n",
      "FCE =  0 kN\n"
     ]
    }
   ],
   "source": [
    "# Example 6.8\n",
    "import numpy as np\n",
    "import math\n",
    "\n",
    "# Calculation\n",
    "# At joint A, ΣF_x = 0, ΣF_y = 0, ΣF_z = 0\n",
    "a = np.array([[0.577,0,0],[0.577,1,0],[-0.577,0,-1]])\n",
    "b = np.array([0,4,0])\n",
    "x = np.linalg.solve(a, b)\n",
    "FAE = round(x[0],2)  #[kilo Newton]\n",
    "FAB = round(x[1],2)  #[kilo Newton]\n",
    "FAC = round(x[2],2)  #[kilo Newton]\n",
    "\n",
    "# At joint B, ΣF_x = 0, ΣF_y = 0, ΣF_z = 0\n",
    "a = np.array([[-math.cos(math.pi*45/180),0.707,0],[math.sin(math.pi*45/180),0,0],[0,-0.707,1]])\n",
    "b = np.array([0,4,-2])\n",
    "x = np.linalg.solve(a, b)\n",
    "RB = round(x[0],2)  #[kilo Newton]\n",
    "FBE = round(x[1],2)  #[kilo Newton]\n",
    "FBD = round(x[2],2)  #[kilo Newton]\n",
    "\n",
    "# The scalar equation of equilibrium can be applied at joints D and C\n",
    "FDE = FDC = FCE = 0  #[kilo Newton]\n",
    "\n",
    "# Result\n",
    "print\"FAE = \",(FAE),\"kN\"\n",
    "print\"FAB = \",(FAB),\"kN\"\n",
    "print\"FAC = \",(-FAC),\"kN\"\n",
    "print\"RB = \",(RB),\"kN\"\n",
    "print\"FBE = \",(FBE),\"kN\"\n",
    "print\"FBD = \",(FBD),\"kN\"\n",
    "print\"FDE = \",(FDE),\"kN\"\n",
    "print\"FDC = \",(FDC),\"kN\"\n",
    "print\"FCE = \",(FCE),\"kN\""
   ]
  },
  {
   "cell_type": "markdown",
   "metadata": {},
   "source": [
    "## Ex 6.14 Page No 241"
   ]
  },
  {
   "cell_type": "code",
   "execution_count": 18,
   "metadata": {
    "collapsed": false
   },
   "outputs": [
    {
     "name": "stdout",
     "output_type": "stream",
     "text": [
      "C_x =  577.4 N\n",
      "C_y =  1000.0 N\n"
     ]
    }
   ],
   "source": [
    "# Example 6.14\n",
    "import math\n",
    "from __future__ import division\n",
    "\n",
    "# Calculation\n",
    "\n",
    "# Solution 1\n",
    "# Applying equations of equilibrium to member CB\n",
    "# Using  +ΣMC(counterclockwise) = 0\n",
    "FAB = round((2000*2)/(math.sin(math.pi*60/180)*4),1)  #[Newton meter]\n",
    "# Using  +ΣF_x(right) = 0\n",
    "C_x = round(FAB*math.cos(math.pi*60/180),1)   #[Newton]\n",
    "# Using  +ΣF_y(upward) = 0\n",
    "C_y = round(-FAB*math.sin(math.pi*60/180)+2000,1)   #[Newton]\n",
    "\n",
    "# Solution 2 \n",
    "# Using  +ΣMC(counterclockwise) = 0 at Member BC\n",
    "B_y = (2000*2)/4   #[Newton]\n",
    "# Using  +ΣMA(counterclockwise) = 0 at Member AB\n",
    "B_x = round(B_y*3*math.cos(math.pi*60/180)/(3*math.sin(math.pi*60/180)),1)   #[Newton]\n",
    "# Using  +ΣF_y(upward) = 0 at member BC\n",
    "C_x = B_x   #[Newton]\n",
    "C_y = 2000-B_y   #[Newton]\n",
    "# Result\n",
    "print\"C_x = \",(C_x),\"N\"\n",
    "print\"C_y = \",(C_y),\"N\""
   ]
  },
  {
   "cell_type": "markdown",
   "metadata": {},
   "source": [
    "## Ex 6.15 Page No 242"
   ]
  },
  {
   "cell_type": "code",
   "execution_count": 20,
   "metadata": {
    "collapsed": false
   },
   "outputs": [
    {
     "name": "stdout",
     "output_type": "stream",
     "text": [
      "A_x =  6.0 kN\n",
      "A_y =  12.0 kN\n",
      "MA =  32.0 kN.m\n",
      "B_x =  0 kN\n",
      "B_y =  4.0 kN\n",
      "C_y =  4.0 kN\n"
     ]
    }
   ],
   "source": [
    "# Example 6.15\n",
    "from __future__ import division\n",
    "\n",
    "# Calculation\n",
    "# Using  +ΣF_x(right) = 0 at member BC\n",
    "B_x = 0  #[kilo Newton]\n",
    "# Using  +ΣMB(counterclockwise) = 0 at member BC\n",
    "C_y = (8*1)/2  #[kilo Newton]\n",
    "# Using  +ΣF_y(upward) = 0 at member BC\n",
    "B_y = 8-C_y   #[kilo Newton]\n",
    "# Using  +ΣF_x(right) = 0 at member AB\n",
    "A_x = 10*(3/5)-B_x  #[kilo Newton]\n",
    "# Using  +ΣMA(counterclockwise) = 0 at member AB\n",
    "MA = 10*(4/5)*2+B_y*4  #[kilo Newton meter]\n",
    "# Using  +ΣF_y(upward) = 0 at member AB\n",
    "A_y = 10*(4/5)+B_y  #[kilo Newton]\n",
    "\n",
    "# Result\n",
    "print\"A_x = \",(A_x),\"kN\"\n",
    "print\"A_y = \",(A_y),\"kN\"\n",
    "print\"MA = \",(MA),\"kN.m\"\n",
    "print\"B_x = \",(B_x),\"kN\"\n",
    "print\"B_y = \",(B_y),\"kN\"\n",
    "print\"C_y = \",(C_y),\"kN\"\n"
   ]
  },
  {
   "cell_type": "markdown",
   "metadata": {},
   "source": [
    "## Ex 6.16 Page No 243"
   ]
  },
  {
   "cell_type": "code",
   "execution_count": 21,
   "metadata": {
    "collapsed": false
   },
   "outputs": [
    {
     "name": "stdout",
     "output_type": "stream",
     "text": [
      "C_x =  1226.3 N\n",
      "C_y =  -245.3 N\n"
     ]
    }
   ],
   "source": [
    "# Example 6.16\n",
    "import math\n",
    "\n",
    "# Calculation\n",
    "# Using  +ΣMA(counterclockwise) = 0\n",
    "D_x = (981*2)/2.8   #[Newton]\n",
    "# Using  +ΣF_x(right) = 0\n",
    "A_x = D_x   #[Newton]\n",
    "# Using  +ΣF_y(upward) = 0\n",
    "A_y = 981   #[Newton]\n",
    "\n",
    "# Consider member CEF\n",
    "# Using  +ΣMC(counterclockwise) = 0\n",
    "FB = round((-981*2)/(math.sin(math.pi*45/180)*1.6),1)   #[Newton]\n",
    "# Using  +ΣF_x(right) = 0\n",
    "C_x = round(-FB*math.cos(math.pi*45/180),1)   #[Newton]\n",
    "# Using  +ΣF_y(upward) = 0\n",
    "C_y = round(FB*math.sin(math.pi*45/180)+981,1)   #[Newton]\n",
    "\n",
    "# Result\n",
    "print\"C_x = \",(C_x),\"N\"\n",
    "print\"C_y = \",(C_y),\"N\""
   ]
  },
  {
   "cell_type": "markdown",
   "metadata": {
    "collapsed": true
   },
   "source": [
    "## Ex 6.17 Page No 243"
   ]
  },
  {
   "cell_type": "code",
   "execution_count": 22,
   "metadata": {
    "collapsed": false
   },
   "outputs": [
    {
     "name": "stdout",
     "output_type": "stream",
     "text": [
      "B_x =  18.2 N\n",
      "B_y =  20 N\n",
      "D_x =  0 N\n",
      "D_y =  20 N\n"
     ]
    }
   ],
   "source": [
    "# Example 6.17\n",
    "\n",
    "# Calculation\n",
    "# Consider entire frame\n",
    "# Using  +ΣMA(counterclockwise) = 0\n",
    "C_x = (20*1)/1.1   #[Newton]\n",
    "# Using  +ΣF_x(right) = 0\n",
    "A_x = 18.2   #[Newton]\n",
    "A_y = 20   #[Newton]\n",
    "\n",
    "# Consider member AB\n",
    "# Using  +ΣF_x(right) = 0\n",
    "B_x= 18.2   #[Newton]\n",
    "# Using  +ΣMB(counterclockwise) = 0\n",
    "ND = (20*2)/1   #[Newton]\n",
    "# Using  +ΣF_y(upward) = 0\n",
    "B_y = 40-20   #[Newton]\n",
    "\n",
    "# Consider Disk\n",
    "# Using  +ΣF_x(right) = 0\n",
    "D_x = 0   #[Newton]\n",
    "# Using  +ΣF_y(upward) = 0\n",
    "D_y = 40-20   #[Newton]\n",
    "\n",
    "# Result\n",
    "print\"B_x = \",(B_x),\"N\"\n",
    "print\"B_y = \",(B_y),\"N\"\n",
    "print\"D_x = \",(D_x),\"N\"\n",
    "print\"D_y = \",(D_y),\"N\""
   ]
  },
  {
   "cell_type": "markdown",
   "metadata": {},
   "source": [
    "## Ex 6.18 Page No 245"
   ]
  },
  {
   "cell_type": "code",
   "execution_count": 3,
   "metadata": {
    "collapsed": false
   },
   "outputs": [
    {
     "name": "stdout",
     "output_type": "stream",
     "text": [
      "P =  200 N\n",
      "T =  400 N\n",
      "R =  800 N\n"
     ]
    }
   ],
   "source": [
    "# Example 6.18\n",
    "\n",
    "# Calculation\n",
    "# Using equations of equilibrium\n",
    "\n",
    "# Pulley A\n",
    "# Using  +ΣF_y(upward) = 0\n",
    "P = 600/3   #[Newton]\n",
    "\n",
    "# Pulley B\n",
    "# Using  +ΣF_y(upward) = 0\n",
    "T = 2*P   #[Newton]\n",
    "\n",
    "# Pulley C\n",
    "# Using  +ΣF_y(upward) = 0\n",
    "R = 2*P+T   #[Newton]\n",
    "\n",
    "# Result\n",
    "print\"P = \",(P),\"N\"\n",
    "print\"T = \",(T),\"N\"\n",
    "print\"R = \",(R),\"N\"\n"
   ]
  },
  {
   "cell_type": "markdown",
   "metadata": {},
   "source": [
    "## Ex 6.19 Page No 246"
   ]
  },
  {
   "cell_type": "code",
   "execution_count": 23,
   "metadata": {
    "collapsed": false
   },
   "outputs": [
    {
     "name": "stdout",
     "output_type": "stream",
     "text": [
      "B_x =  346.8 N\n",
      "B_y =  837.3 N\n",
      "FCB =  1659.8 N\n",
      "FAB =  1342.7 N\n"
     ]
    }
   ],
   "source": [
    "# Example 6.19\n",
    "import math\n",
    "from __future__ import division\n",
    "\n",
    "# Calculation\n",
    "# Applying equations of equilibrium to pulley B\n",
    "# Using  +ΣF_x(right) = 0\n",
    "B_x = round(490.5*math.cos(math.pi*45/180),1)   #[Newton]\n",
    "# Using  +ΣF_y(upward) = 0\n",
    "B_y = round(490.5*math.sin(math.pi*45/180)+490.5,1)   #[Newton]\n",
    "\n",
    "# Applying equations of equilibrium to pin\n",
    "# Using  +ΣF_y(upward) = 0\n",
    "FCB = round((B_y+490.5)*(5/4),1)   #[Newton]\n",
    "# Using  +ΣF_x(right) = 0\n",
    "FAB = round((3/5)*FCB+B_x,1)   #[Newton]\n",
    "\n",
    "# Result\n",
    "print\"B_x = \",(B_x),\"N\"\n",
    "print\"B_y = \",(B_y),\"N\"\n",
    "print\"FCB = \",(FCB),\"N\"\n",
    "print\"FAB = \",(FAB),\"N\""
   ]
  },
  {
   "cell_type": "code",
   "execution_count": null,
   "metadata": {
    "collapsed": true
   },
   "outputs": [],
   "source": []
  }
 ],
 "metadata": {
  "anaconda-cloud": {},
  "kernelspec": {
   "display_name": "Python [default]",
   "language": "python",
   "name": "python2"
  },
  "language_info": {
   "codemirror_mode": {
    "name": "ipython",
    "version": 2
   },
   "file_extension": ".py",
   "mimetype": "text/x-python",
   "name": "python",
   "nbconvert_exporter": "python",
   "pygments_lexer": "ipython2",
   "version": "2.7.12"
  }
 },
 "nbformat": 4,
 "nbformat_minor": 1
}
