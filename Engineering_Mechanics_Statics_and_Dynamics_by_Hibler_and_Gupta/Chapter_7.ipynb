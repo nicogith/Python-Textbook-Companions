{
 "cells": [
  {
   "cell_type": "markdown",
   "metadata": {},
   "source": [
    "# Chapter 7 Internal Forces"
   ]
  },
  {
   "cell_type": "markdown",
   "metadata": {},
   "source": [
    "## Ex 7.1 Page no 261"
   ]
  },
  {
   "cell_type": "code",
   "execution_count": 16,
   "metadata": {
    "collapsed": false
   },
   "outputs": [
    {
     "name": "stdout",
     "output_type": "stream",
     "text": [
      "A_y =  8 kN\n",
      "NC =  4 kN\n"
     ]
    }
   ],
   "source": [
    "# Example 7.1\n",
    "\n",
    "# Calculation\n",
    "# Applying +ΣF_y(upward) = 0 Refer fig 7-4b\n",
    "A_y = 16+4-12  #[kilo Newton]\n",
    "\n",
    "# Applying +ΣF_y(upward) = 0 to segment AB\n",
    "NB = 8  #[kilo Newton]\n",
    "\n",
    "# Applying +ΣF_y(upward) = 0 to segment DC\n",
    "NC = 4  #[kilo Newton]\n",
    "\n",
    "# Result\n",
    "print\"A_y = \",(A_y),\"kN\"\n",
    "print\"NC = \",(NC),\"kN\"\n",
    "\n"
   ]
  },
  {
   "cell_type": "markdown",
   "metadata": {},
   "source": [
    "## Ex 7.2 Page no 262"
   ]
  },
  {
   "cell_type": "code",
   "execution_count": 5,
   "metadata": {
    "collapsed": false
   },
   "outputs": [
    {
     "name": "stdout",
     "output_type": "stream",
     "text": [
      "TB =  5 N.m\n",
      "TC =  25 N.m\n"
     ]
    }
   ],
   "source": [
    "# Example 7.2\n",
    "\n",
    "# Calculation\n",
    "# Applying +ΣM_x = 0 Refer fig 7-5b\n",
    "TD = -10+15+20  #[Newton meter]\n",
    "\n",
    "# Applying +ΣM_x = 0 to segment AB\n",
    "TB = -10+15  #[Newton meter]\n",
    "\n",
    "# Applying +ΣM_x = 0 to segment CD\n",
    "TC = 25  #[Newton meter]\n",
    "\n",
    "# Result\n",
    "print\"TB = \",(TB),\"N.m\"\n",
    "print\"TC = \",(TC),\"N.m\"\n"
   ]
  },
  {
   "cell_type": "markdown",
   "metadata": {},
   "source": [
    "## Ex 7.3 Page no 263"
   ]
  },
  {
   "cell_type": "code",
   "execution_count": 4,
   "metadata": {
    "collapsed": false
   },
   "outputs": [
    {
     "name": "stdout",
     "output_type": "stream",
     "text": [
      "NB =  0 kN\n",
      "VB =  5 kN\n",
      "MB =  15 kN.m\n",
      "NC =  0 kN\n",
      "VC =  1 kN\n",
      "MC =  15 kN.m\n"
     ]
    }
   ],
   "source": [
    "# Example 7.3\n",
    "from __future__ import division\n",
    "\n",
    "# Calculation\n",
    "# Applying +ΣMD(counterclockwise) = 0 Refer fig 7-6b\n",
    "A_y = (9+6*6)/9\n",
    "\n",
    "# Consider segment AB\n",
    "# Applying +ΣF_x(right) = 0\n",
    "NB = 0  #[kilo Newton]\n",
    "# Applying +ΣF_y(upward) = 0\n",
    "VB = 5  #[kilo Newton]\n",
    "# Applying +ΣMB(counterclockwise) = 0 \n",
    "MB = 5*3  #[kilo Newton meter]\n",
    "\n",
    "# Consider segment AC\n",
    "# Applying +ΣF_x(right) = 0\n",
    "NC = 0  #[kilo Newton]\n",
    "# Applying +ΣF_y(upward) = 0\n",
    "VC = 6-5  #[kilo Newton]\n",
    "# Applying +ΣMC(counterclockwise) = 0\n",
    "MC = 5*3  #[kilo Newton meter]\n",
    "\n",
    "# Result\n",
    "print\"NB = \",(NB),\"kN\"\n",
    "print\"VB = \",(VB),\"kN\"\n",
    "print\"MB = \",(MB),\"kN.m\"\n",
    "print\"NC = \",(NB),\"kN\"\n",
    "print\"VC = \",(VC),\"kN\"\n",
    "print\"MC = \",(MC),\"kN.m\""
   ]
  },
  {
   "cell_type": "markdown",
   "metadata": {},
   "source": [
    "## Ex 7.4 Page no 264"
   ]
  },
  {
   "cell_type": "code",
   "execution_count": 15,
   "metadata": {
    "collapsed": false
   },
   "outputs": [
    {
     "name": "stdout",
     "output_type": "stream",
     "text": [
      "NB =  266.7 N\n",
      "VB =  0 N\n",
      "MB =  400 N.m\n"
     ]
    }
   ],
   "source": [
    "# Example 7.4\n",
    "from __future__ import division\n",
    "\n",
    "# Calculation\n",
    "# Refer fig 7-7b\n",
    "# Applying +ΣMA(counterclockwise) = 0\n",
    "FDC = (400*4)/((3/5)*8)  #[Newton]\n",
    "# Applying +ΣF_x(right) = 0\n",
    "A_x = (4/5)*333.3   #[Newton]\n",
    "# Applying +ΣF_y(upward) = 0\n",
    "A_y = 400-((3/5)*333.3)   #[Newton]\n",
    "\n",
    "# Applying equations of equilibrium to segment AB\n",
    "# Applying +ΣF_x(right) = 0\n",
    "NB = 266.7   #[Newton]\n",
    "# Applying +ΣF_y(upward) = 0\n",
    "VB = 200-200   #[Newton]\n",
    "# Applying +ΣMB(counterclockwise) = 0\n",
    "MB = 200*4-200*2   #[Newton meter]\n",
    "\n",
    "# Result\n",
    "print\"NB = \",(NB),\"N\"\n",
    "print\"VB = \",(VB),\"N\"\n",
    "print\"MB = \",(MB),\"N.m\""
   ]
  },
  {
   "cell_type": "markdown",
   "metadata": {},
   "source": [
    "## Ex 7.5 Page no 265"
   ]
  },
  {
   "cell_type": "code",
   "execution_count": 14,
   "metadata": {
    "collapsed": false
   },
   "outputs": [
    {
     "name": "stdout",
     "output_type": "stream",
     "text": [
      "VE =  600.0 N\n",
      "NE =  600.0 N\n",
      "ME =  300.0 N.m\n"
     ]
    }
   ],
   "source": [
    "# Example 7.5\n",
    "import math\n",
    "\n",
    "# Calculation\n",
    "# Using  +ΣF_y(upward) = 0 Refer fig 7-8b\n",
    "R = round(600/math.sin(math.pi*45/180),1)  #[Newton]\n",
    "# Applying equations of equilibrium \n",
    "# Applying +ΣF_x(right) = 0\n",
    "VE = round(R*math.cos(math.pi*45/180),1)  #[Newton]\n",
    "# Applying +ΣF_y(upward) = 0\n",
    "NE = round(R*math.sin(math.pi*45/180),1)  #[Newton]\n",
    "# Applying +ΣME(counterclockwise) = 0\n",
    "ME = round(R*math.cos(math.pi*45/180)*0.5,1)  #[Newton meter]\n",
    "\n",
    "# Result\n",
    "print\"VE = \",(VE),\"N\"\n",
    "print\"NE = \",(NE),\"N\"\n",
    "print\"ME = \",(ME),\"N.m\"\n"
   ]
  },
  {
   "cell_type": "markdown",
   "metadata": {},
   "source": [
    "## Ex 7.6 Page no 266"
   ]
  },
  {
   "cell_type": "code",
   "execution_count": 13,
   "metadata": {
    "collapsed": false
   },
   "outputs": [
    {
     "name": "stdout",
     "output_type": "stream",
     "text": [
      "MA_x =  -19.1 kN.m\n",
      "MA_y =  70.9 kN.m\n",
      "MA_z =  -40.5 kN.m\n"
     ]
    }
   ],
   "source": [
    "# Example 7.6\n",
    "from __future__ import division\n",
    "import numpy as np\n",
    "\n",
    "# Calculation\n",
    "W = 650*9.81  #[kilo Newton]\n",
    "Fw = 900/(6*2.5)  #[kilo Newton]\n",
    "# Using +ΣF_x(right) = 0\n",
    "FA_x = 13.5  #[kilo Newton]\n",
    "FA_y  = 0  #[kilo Newton]\n",
    "FA_z = 6.376  #[kilo Newton]\n",
    "# Using ΣMA = 0, MA + r X (Fw + W)\n",
    "a = np.cross([0,3,5.25],[-13.5,0,6.376])\n",
    "MA_x = round(-a[0],1)  #[kilo Newton meter]\n",
    "MA_y = round(-a[1],1)  #[kilo Newton meter]\n",
    "MA_z = round(-a[2],1)  #[kilo Newton meter]\n",
    "\n",
    "# Result\n",
    "print\"MA_x = \",(MA_x),\"kN.m\"\n",
    "print\"MA_y = \",(MA_y),\"kN.m\"\n",
    "print\"MA_z = \",(MA_z),\"kN.m\"  # Correction in MA_z\n"
   ]
  },
  {
   "cell_type": "markdown",
   "metadata": {},
   "source": [
    "## Ex 7.13 Page no 286"
   ]
  },
  {
   "cell_type": "code",
   "execution_count": 30,
   "metadata": {
    "collapsed": false
   },
   "outputs": [
    {
     "name": "stdout",
     "output_type": "stream",
     "text": [
      "TBC =  10.2 kN\n",
      "TAB =  13.6 kN\n",
      "TCD =  9.5 kN\n",
      "TED =  11.8 kN\n"
     ]
    }
   ],
   "source": [
    "# Example 7.13\n",
    "from __future__ import division\n",
    "import math \n",
    "\n",
    "# Calculation\n",
    "# Consider free body diagram Refer fig 7-21b\n",
    "# Using +ΣME(counterclockwise) = 0\n",
    "A_y = (4*15+15*10+3*2)/18   #[kilo Newton]\n",
    "# Using +ΣF_y(upward) = 0\n",
    "E_y = -12+4+15+3  #[kilo Newton]\n",
    "\n",
    "# Consider leftmost section which cuts cable BC Refer fig 7-21b\n",
    "# Using +ΣMC(counterclockwise) = 0\n",
    "A_x = (12*8-4*5)/12  #[kilo Newton]\n",
    "thetaBC = round(math.degrees(math.atan((12-4)/6.33)),1)  #[Degrees]\n",
    "# Using +ΣF_x(right) = 0\n",
    "TBC = round(6.33/math.cos(math.pi*thetaBC/180),1)  #[kilo Newton]\n",
    "thetaAB = round(math.degrees(math.atan(12/6.33)),1)  #[Degrees]\n",
    "\n",
    "# Applying +ΣF_x(right) = 0 at point A\n",
    "TAB = round(12/math.sin(math.pi*thetaAB/180),1)  #[kilo Newton]\n",
    "thetaCD = round(math.degrees(math.atan((-10.2*math.sin(math.pi*51.6/180)+15)/(10.2*math.cos(math.pi*51.6/180)))),1)  #[Degrees]\n",
    "\n",
    "# Applying +ΣF_x(right) = 0 at point C\n",
    "TCD = round((10.2*math.cos(math.pi*51.6/180))/math.cos(math.pi*thetaCD/180),1)  #[kilo Newton]\n",
    "thetaED = round(math.degrees(math.atan(10/6.33)),1)  #[Degrees]\n",
    "\n",
    "# Applying +ΣF_x(right) = 0 at point E\n",
    "TED = round(10/math.sin(math.pi*thetaED/180),1)  #[kilo Newton]\n",
    "\n",
    "print\"TBC = \",(TBC),\"kN\"\n",
    "print\"TAB = \",(TAB),\"kN\"\n",
    "print\"TCD = \",(TCD),\"kN\"\n",
    "print\"TED = \",(TED),\"kN\"                "
   ]
  },
  {
   "cell_type": "code",
   "execution_count": null,
   "metadata": {
    "collapsed": true
   },
   "outputs": [],
   "source": []
  }
 ],
 "metadata": {
  "anaconda-cloud": {},
  "kernelspec": {
   "display_name": "Python [default]",
   "language": "python",
   "name": "python2"
  },
  "language_info": {
   "codemirror_mode": {
    "name": "ipython",
    "version": 2
   },
   "file_extension": ".py",
   "mimetype": "text/x-python",
   "name": "python",
   "nbconvert_exporter": "python",
   "pygments_lexer": "ipython2",
   "version": "2.7.12"
  }
 },
 "nbformat": 4,
 "nbformat_minor": 1
}
