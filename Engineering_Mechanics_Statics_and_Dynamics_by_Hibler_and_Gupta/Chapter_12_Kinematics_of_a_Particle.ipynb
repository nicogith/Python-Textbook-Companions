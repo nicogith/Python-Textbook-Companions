{
 "cells": [
  {
   "cell_type": "markdown",
   "metadata": {},
   "source": [
    "# Chapter 12 Kinematics of a Particle"
   ]
  },
  {
   "cell_type": "markdown",
   "metadata": {},
   "source": [
    "## Ex 12.1 Page No 450"
   ]
  },
  {
   "cell_type": "code",
   "execution_count": 3,
   "metadata": {
    "collapsed": false
   },
   "outputs": [
    {
     "name": "stdout",
     "output_type": "stream",
     "text": [
      "s =  36.0 m\n",
      "a =  20.0 m/s**(2)\n"
     ]
    }
   ],
   "source": [
    "# Ex 12.1\n",
    "from scipy import integrate\n",
    "from scipy.misc import derivative\n",
    "\n",
    "# Calculation\n",
    "# Position\n",
    "t = lambda t: 3*t**2+2*t\n",
    "s = round(integrate.quad(t, 0, 3)[0],1)  #[meter]\n",
    "# Acceleration\n",
    "# a = dv/dt\n",
    "def f(t):\n",
    "    return 3*t**2+2*t\n",
    "a = round(derivative(f, 3),1)  #[meter per seconds square]\n",
    "\n",
    "# Result\n",
    "print\"s = \",(s),\"m\"\n",
    "print\"a = \",(a),\"m/s**(2)\""
   ]
  },
  {
   "cell_type": "markdown",
   "metadata": {},
   "source": [
    "## Ex 12.2 Page No 451"
   ]
  },
  {
   "cell_type": "code",
   "execution_count": 5,
   "metadata": {
    "collapsed": false
   },
   "outputs": [
    {
     "name": "stdout",
     "output_type": "stream",
     "text": [
      "v =  0.559 m/s\n",
      "s =  4.43 m\n"
     ]
    }
   ],
   "source": [
    "# Ex 12.2\n",
    "from scipy import integrate\n",
    "from __future__ import division\n",
    "\n",
    "# Calculation\n",
    "# At t = 4 s\n",
    "v = round(((1/(60**(2))) +0.8*4)**(-0.5),3)  #[meter per second]\n",
    "# ds = vdt\n",
    "t = lambda t: ((1/(60**(2))) +0.8*t)**(-0.5) \n",
    "s = round(integrate.quad(t, 0, 4)[0],2)  #[meter]\n",
    "\n",
    "# Result\n",
    "print\"v = \",(v),\"m/s\"\n",
    "print\"s = \",(s),\"m\""
   ]
  },
  {
   "cell_type": "markdown",
   "metadata": {},
   "source": [
    "## Ex 12.3 Page No 452"
   ]
  },
  {
   "cell_type": "code",
   "execution_count": 11,
   "metadata": {
    "collapsed": false
   },
   "outputs": [
    {
     "name": "stdout",
     "output_type": "stream",
     "text": [
      "sB =  326.7 m\n",
      "vC =  80.1 m\n"
     ]
    }
   ],
   "source": [
    "# Ex 12.3\n",
    "from __future__ import division\n",
    "import math\n",
    "\n",
    "# Variable Declaration\n",
    "vA = 75  #[meter per second]\n",
    "aC = -9.81  #[meter per second square]\n",
    "sA = 40  #[meter]\n",
    "\n",
    "# Calculation\n",
    "# Maximum height\n",
    "sB = round((-75**(2)/(2*-9.81))+40,1)  #[meter]\n",
    "# Velocity\n",
    "# Method 1\n",
    "vC = round(math.sqrt(0+2*(-9.81)*(0-327)),1)  #[meter per second]\n",
    "# Method 2\n",
    "vC = round(math.sqrt(75**(2)+2*(-9.81)*(0-40)),1)  #[meter per second]\n",
    "\n",
    "# Result\n",
    "print\"sB = \",(sB),\"m\"\n",
    "print\"vC = \",(vC),\"m\""
   ]
  },
  {
   "cell_type": "markdown",
   "metadata": {},
   "source": [
    "## Ex 12.4 Page No 453"
   ]
  },
  {
   "cell_type": "code",
   "execution_count": 14,
   "metadata": {
    "collapsed": false
   },
   "outputs": [
    {
     "name": "stdout",
     "output_type": "stream",
     "text": [
      "vB =  346.4 mm/s\n",
      "t =  0.658 s\n"
     ]
    }
   ],
   "source": [
    "# Ex 12.4\n",
    "from scipy import integrate\n",
    "\n",
    "# Calculation\n",
    "vB = round(2*(0.2**(2)-0.01)**(0.5)*1000,1)  #[millimeter per second]\n",
    "s = lambda s: (0.5)*(1/math.sqrt(s**(2)-0.01))\n",
    "t = round(integrate.quad(s, 0.1, 0.2)[0],3)  #[seconds]\n",
    "\n",
    "# Result\n",
    "print\"vB = \",(vB),\"mm/s\"\n",
    "print\"t = \",(t),\"s\""
   ]
  },
  {
   "cell_type": "markdown",
   "metadata": {},
   "source": [
    "## Ex 12.5 Page No 454"
   ]
  },
  {
   "cell_type": "code",
   "execution_count": 20,
   "metadata": {
    "collapsed": false
   },
   "outputs": [
    {
     "name": "stdout",
     "output_type": "stream",
     "text": [
      "sT =  14.1 m\n",
      "v_avg =  1.75 m/s\n",
      "vsp_avg =  4.03 m/s\n"
     ]
    }
   ],
   "source": [
    "# Ex 12.5\n",
    "\n",
    "# Calculation\n",
    "# ds = vdt\n",
    "# s = t**(3)-3*t**(2) m\n",
    "\n",
    "# Let s1 be displacement at t = 0 sec\n",
    "s1 = 0**(3)-3*0**(2)  #[meter]   \n",
    "\n",
    "# Let s2 be displacement at t = 2 sec\n",
    "s2 = 2**(3)-3*2**(2)  #[meter]   \n",
    "\n",
    "# Let s3 be displacement at t = 0 sec\n",
    "s3 = 3.5**(3)-3*3.5**(2)  #[meter]   \n",
    "\n",
    "# Let sT be distance travelled in 3.5 sec\n",
    "sT = round(abs(s2)+abs(s2)+abs(s3),1)  #[meter]   \n",
    "\n",
    "# Velocity\n",
    "# Let delta_s be displacement from t = 0 to t = 3.5 s\n",
    "delta_s = s3 - s1  #[meter]   \n",
    "\n",
    "# let v_avg be average velocity\n",
    "v_avg = delta_s/(3.5-0)  #[meter per second]   \n",
    "\n",
    "# Let vsp_avg be average speed defined in terms of distance travelled sT\n",
    "vsp_avg = round(sT/(3.5-0),2)  #[meter per second]   \n",
    "\n",
    "# Result\n",
    "print\"sT = \",(sT),\"m\"\n",
    "print\"v_avg = \",(v_avg),\"m/s\"\n",
    "print\"vsp_avg = \",(vsp_avg),\"m/s\""
   ]
  },
  {
   "cell_type": "markdown",
   "metadata": {},
   "source": [
    "## Ex 12.6 Page No 460"
   ]
  },
  {
   "cell_type": "code",
   "execution_count": 32,
   "metadata": {
    "collapsed": false
   },
   "outputs": [
    {
     "data": {
      "image/png": "[encoded data removed]",
      "text/plain": [
       "<matplotlib.figure.Figure at 0x660cc90>"
      ]
     },
     "metadata": {},
     "output_type": "display_data"
    },
    {
     "name": "stdout",
     "output_type": "stream",
     "text": [
      "\n",
      "\n",
      "\n"
     ]
    },
    {
     "data": {
      "image/png": "[encoded data removed]",
      "text/plain": [
       "<matplotlib.figure.Figure at 0x64b49d0>"
      ]
     },
     "metadata": {},
     "output_type": "display_data"
    }
   ],
   "source": [
    "# Ex 12.6\n",
    "%matplotlib inline\n",
    "from matplotlib.pyplot import plot,title,xlabel,ylabel,text,axis,show\n",
    "\n",
    "# Calculation\n",
    "# v-t graph\n",
    "plot(\n",
    "          [0,10,30],\n",
    "          [0,10,10],\n",
    "          color='b',linewidth = 2\n",
    "          )  \n",
    "plot(\n",
    "         [0,10],\n",
    "         [10,10],\n",
    "         color='g',linestyle='--'\n",
    "         ) \n",
    "plot(\n",
    "         [10,10],\n",
    "         [0,10],\n",
    "         color='g',linestyle='--'\n",
    "         ) \n",
    "plot(\n",
    "         [30,30],\n",
    "         [0,10],\n",
    "         color='g',linestyle='--'\n",
    "         ) \n",
    "text(2.6,5.8,'v = t',color='r')\n",
    "text(15,10.2,'v = 10',color='r')\n",
    "axis([0,40,0,20])\n",
    "title('Plot of v-t')\n",
    "xlabel('t(s)')\n",
    "ylabel('v(m/s)')\n",
    "show()\n",
    "print\"\\n\\n\"\n",
    "# a-t graph\n",
    "plot(\n",
    "          [0,10],\n",
    "          [1,1],\n",
    "          color='b',linewidth = 2\n",
    "          )  \n",
    "plot(\n",
    "          [10,30],\n",
    "          [0,0],\n",
    "          color='b',linewidth = 2\n",
    "          )  \n",
    "plot(\n",
    "         [10,10],\n",
    "         [0,1],\n",
    "         color='g',linestyle='--'\n",
    "         )\n",
    "axis([0,40,0,2])\n",
    "title('Plot of a-t')\n",
    "xlabel('t(s)')\n",
    "ylabel('a(m/s**(2))')\n",
    "show()"
   ]
  },
  {
   "cell_type": "markdown",
   "metadata": {
    "collapsed": true
   },
   "source": [
    "## Ex 12.7 Page No 462"
   ]
  },
  {
   "cell_type": "code",
   "execution_count": 22,
   "metadata": {
    "collapsed": false
   },
   "outputs": [
    {
     "data": {
      "image/png": "[encoded data removed]",
      "text/plain": [
       "<matplotlib.figure.Figure at 0x5ce2cf0>"
      ]
     },
     "metadata": {},
     "output_type": "display_data"
    },
    {
     "name": "stdout",
     "output_type": "stream",
     "text": [
      "\n",
      "\n",
      "\n"
     ]
    },
    {
     "data": {
      "image/png": "[encoded data removed]",
      "text/plain": [
       "<matplotlib.figure.Figure at 0x5863e50>"
      ]
     },
     "metadata": {},
     "output_type": "display_data"
    }
   ],
   "source": [
    "# Ex 12.7\n",
    "%matplotlib inline\n",
    "from matplotlib.pyplot import plot,title,xlabel,ylabel,text,axis,show\n",
    "\n",
    "# Calculation\n",
    "# v-t graph\n",
    "plot(\n",
    "          [0,10,60],\n",
    "          [0,100,0],\n",
    "          color='b',linewidth = 2\n",
    "          )  \n",
    "plot(\n",
    "         [10,10],\n",
    "         [0,100],\n",
    "         color='g',linestyle='--'\n",
    "         ) \n",
    "plot(\n",
    "         [0,10],\n",
    "         [100,100],\n",
    "         color='g',linestyle='--'\n",
    "         ) \n",
    "text(0,95,'v = 10t',color='r')\n",
    "text(30,66,'v = -2t + 120',color='r')\n",
    "axis([0,80,0,150])\n",
    "title('Plot of v-t')\n",
    "xlabel('t(s)')\n",
    "ylabel('v(m/s)')\n",
    "show()\n",
    "print\"\\n\\n\"\n",
    "# s-t graph\n",
    "l1 = []\n",
    "l2 = []\n",
    "for i in range(0,11,1):\n",
    "    l1.append(i)\n",
    "    l2.append(5*i**(2))\n",
    "plot(\n",
    "          l1,\n",
    "          l2,\n",
    "          color='b',linewidth = 2\n",
    "          )  \n",
    "l1 = []\n",
    "l2 = []\n",
    "for i in range(10,61,1):\n",
    "    l1.append(i)\n",
    "    l2.append(-(i**(2))+120*i-600)\n",
    "plot(\n",
    "          l1,\n",
    "          l2,\n",
    "          color='b',linewidth = 2\n",
    "          )  \n",
    "plot(\n",
    "         [10,10],\n",
    "         [0,500],\n",
    "         color='g',linestyle='--'\n",
    "         ) \n",
    "plot(\n",
    "         [0,10],\n",
    "         [500,500],\n",
    "         color='g',linestyle='--'\n",
    "         )\n",
    "plot(\n",
    "         [60,60],\n",
    "         [0,3000],\n",
    "         color='g',linestyle='--'\n",
    "         )\n",
    "plot(\n",
    "         [0,60],\n",
    "         [3000,3000],\n",
    "         color='g',linestyle='--'\n",
    "         )\n",
    "text(8,200,'s = 5t**(2)',color='r')\n",
    "text(25,1500,'s = t**(2) + 120t - 600',color='r')\n",
    "axis([0,80,0,3500])\n",
    "title('Plot of s-t')\n",
    "xlabel('t(s)')\n",
    "ylabel('s(m)')\n",
    "show()"
   ]
  },
  {
   "cell_type": "markdown",
   "metadata": {},
   "source": [
    "## Ex 12.8 Page No 464"
   ]
  },
  {
   "cell_type": "code",
   "execution_count": 32,
   "metadata": {
    "collapsed": false
   },
   "outputs": [
    {
     "data": {
      "image/png": "[encoded data removed]",
      "text/plain": [
       "<matplotlib.figure.Figure at 0x5ae16d0>"
      ]
     },
     "metadata": {},
     "output_type": "display_data"
    },
    {
     "name": "stdout",
     "output_type": "stream",
     "text": [
      "\n",
      "\n",
      "\n",
      "t =  12.07 s\n"
     ]
    }
   ],
   "source": [
    "# Ex 12.8\n",
    "%matplotlib inline\n",
    "from matplotlib.pyplot import plot,title,xlabel,ylabel,text,axis,show\n",
    "from  __future__ import division\n",
    "\n",
    "# Calculation\n",
    "# a-s graph\n",
    "l1 = []\n",
    "l2 = []\n",
    "for i in range(0,51,1):\n",
    "    l1.append(i)\n",
    "    l2.append(0.16*i+2)\n",
    "plot(\n",
    "          l1,\n",
    "          l2,\n",
    "          color='b',linewidth = 2\n",
    "          )   \n",
    "l1 = []\n",
    "l2 = []\n",
    "for i in range(50,101,1):\n",
    "    l1.append(i)\n",
    "    l2.append(0)\n",
    "plot(\n",
    "          l1,\n",
    "          l2,\n",
    "          color='b',linewidth = 2\n",
    "          ) \n",
    "plot(\n",
    "         [50,50],\n",
    "         [0,10],\n",
    "         color='g',linestyle='--'\n",
    "         ) \n",
    "plot(\n",
    "         [0,50],\n",
    "         [10,10],\n",
    "         color='g',linestyle='--'\n",
    "         ) \n",
    "text(4,8,'a = 0.16*s + 2',color='r')\n",
    "text(52,2,'a = 0',color='r')\n",
    "axis([0,120,0,15])\n",
    "title('Plot of s-t')\n",
    "xlabel('t(s)')\n",
    "ylabel('s(m)')\n",
    "show()            \n",
    "print\"\\n\\n\"\n",
    "# Variable Declaration\n",
    "s = 100  #[meter]\n",
    "t = s/50 + 10.07  #[seconds]\n",
    "\n",
    "# Result\n",
    "print\"t = \",(t),\"s\""
   ]
  },
  {
   "cell_type": "markdown",
   "metadata": {},
   "source": [
    "## Ex 12.9 Page No 473"
   ]
  },
  {
   "cell_type": "code",
   "execution_count": 35,
   "metadata": {
    "collapsed": false
   },
   "outputs": [
    {
     "name": "stdout",
     "output_type": "stream",
     "text": [
      "r =  30.2 m\n",
      "v =  26.8 m/s\n",
      "theta_v =  72.6 degrees\n",
      "a =  12.8 m/s**(2)\n",
      "theta_a =  90 degrees\n"
     ]
    }
   ],
   "source": [
    "# Ex 12.9\n",
    "import math\n",
    "from __future__ import division\n",
    "\n",
    "# Calculation\n",
    "# Position\n",
    "x = 16  #[meter]\n",
    "y = 16**(2)/10  #[meter]\n",
    "# Let r be straight line distance from A to B\n",
    "r = round(math.sqrt(x**(2)+y**(2)),1)  #[meter]\n",
    "\n",
    "# Velocity\n",
    "vx = 8  #[meter per second]\n",
    "vy = (2*16*8)/10  #[meter per second]\n",
    "# Let v be magnitude of velocity at t = 2 s\n",
    "v = round(math.sqrt(vx**(2)+vy**(2)),1)  #[meter per second]\n",
    "theta_v = round(math.degrees(math.atan(vy/vx)),1)  #[Degrees]\n",
    "\n",
    "# Accceleration\n",
    "ax = 0  #[meter per second square]\n",
    "ay = 2*8**(2)/10+2*16*0/10  #[meter per second square]\n",
    "a = round(math.sqrt(ax**(2)+ay**(2)),1)   #[meter per second square]\n",
    "theta_a = 90  #[Degrees]\n",
    "\n",
    "# Result\n",
    "print\"r = \",(r),\"m\"\n",
    "print\"v = \",(v),\"m/s\"\n",
    "print\"theta_v = \",(theta_v),\"degrees\"\n",
    "print\"a = \",(a),\"m/s**(2)\"\n",
    "print\"theta_a = \",(theta_a),\"degrees\""
   ]
  },
  {
   "cell_type": "markdown",
   "metadata": {},
   "source": [
    "## Ex 12.10 Page No 474"
   ]
  },
  {
   "cell_type": "code",
   "execution_count": 44,
   "metadata": {
    "collapsed": false
   },
   "outputs": [
    {
     "name": "stdout",
     "output_type": "stream",
     "text": [
      "r_x =  0.499 m\n",
      "r_y =  0.0354 m\n",
      "r_z =  -0.15 m\n",
      "r =  0.522 m\n",
      "alpha =  17.1 degrees\n",
      "beta =  86.1 degrees\n",
      "gamma =  106.7 degrees\n",
      "v =  1.02 m/s\n",
      "a =  2.0 m/s**(2)\n"
     ]
    }
   ],
   "source": [
    "# Ex 12.10\n",
    "import math\n",
    "\n",
    "# Calculation\n",
    "# Position\n",
    "r_x = round(0.5*math.sin(1.5),3)  #[meter]\n",
    "r_y = round(0.5*math.cos(1.5),4)  #[meter]\n",
    "r_z = round(-0.2*(0.75),4)  #[meter]\n",
    "r = round(math.sqrt(r_x**(2)+r_y**(2)+r_z**(2)),3)  #[meter]\n",
    "alpha = round(math.degrees(math.acos(r_x/r)),1)  #[Degrees]\n",
    "beta = round(math.degrees(math.acos(r_y/r)),1)  #[Degrees]\n",
    "gamma = round(math.degrees(math.acos(r_z/r)),1)  #[Degrees]\n",
    "\n",
    "# Velocity\n",
    "v = round(math.sqrt((1*math.cos(1.5))**(2)+(-1*math.sin(1.5))**(2)+(-0.2)**(2)),3)  #[meter per second]\n",
    "\n",
    "# Accelaration\n",
    "a = math.sqrt((-2*math.sin(1.5))**(2)+(-2*math.cos(1.5))**(2))  #[meter per second square]\n",
    "\n",
    "# Result\n",
    "print\"r_x = \",(r_x),\"m\"\n",
    "print\"r_y = \",(r_y),\"m\"\n",
    "print\"r_z = \",(r_z),\"m\"\n",
    "print\"r = \",(r),\"m\"\n",
    "print\"alpha = \",(alpha),\"degrees\"\n",
    "print\"beta = \",(beta),\"degrees\"\n",
    "print\"gamma = \",(gamma),\"degrees\"\n",
    "print\"v = \",(v),\"m/s\"\n",
    "print\"a = \",(a),\"m/s**(2)\""
   ]
  },
  {
   "cell_type": "markdown",
   "metadata": {
    "collapsed": true
   },
   "source": [
    "## Ex 12.11 Page No 477"
   ]
  },
  {
   "cell_type": "code",
   "execution_count": 1,
   "metadata": {
    "collapsed": false
   },
   "outputs": [
    {
     "name": "stdout",
     "output_type": "stream",
     "text": [
      "tAB =  1.11 s\n",
      "R =  13.32 m\n"
     ]
    }
   ],
   "source": [
    "# Ex 12.11\n",
    "from __future__ import division\n",
    "import math\n",
    "\n",
    "# Variable Declaration\n",
    "v = 12  #[meters]\n",
    "# Calculation\n",
    "# Vertical motion\n",
    "tAB = round(math.sqrt(-6/((1/2)*(-9.81))),2)  #[seconds]\n",
    "\n",
    "# Horizontal motion\n",
    "R = 0+v*1.11  #[meter]\n",
    "\n",
    "# Result\n",
    "print\"tAB = \",(tAB),\"s\"\n",
    "print\"R = \",(R),\"m\""
   ]
  },
  {
   "cell_type": "markdown",
   "metadata": {},
   "source": [
    "## Ex 12.12 Page No 478"
   ]
  },
  {
   "cell_type": "code",
   "execution_count": 8,
   "metadata": {
    "collapsed": false
   },
   "outputs": [
    {
     "name": "stdout",
     "output_type": "stream",
     "text": [
      "h =  1.433 m\n"
     ]
    }
   ],
   "source": [
    "# Ex 12.12\n",
    "import math\n",
    "from __future__ import division\n",
    "\n",
    "# Variable Declaration\n",
    "v0 = 10  #[meter per second]\n",
    "theta = 30  #[degrees]\n",
    "\n",
    "# Calculation\n",
    "vo_x = round(v0*math.cos(math.pi*30/180),2)  #[meter per second]\n",
    "vo_y = round(v0*math.sin(math.pi*30/180),2)  #[meter per second]\n",
    "\n",
    "# Horizontal Motion\n",
    "tOA = round((8-0)/vo_x,4)  #[seconds]\n",
    "\n",
    "# Vertical Motion\n",
    "h = round(0+5*tOA+(1/2)*(-9.81)*tOA**(2)+1,3)  #[meter]\n",
    "\n",
    "# Result\n",
    "print\"h = \",(h),\"m\""
   ]
  },
  {
   "cell_type": "markdown",
   "metadata": {},
   "source": [
    "## Ex 12.13 Page No 479"
   ]
  },
  {
   "cell_type": "code",
   "execution_count": 13,
   "metadata": {
    "collapsed": false
   },
   "outputs": [
    {
     "name": "stdout",
     "output_type": "stream",
     "text": [
      "vA =  13.38 m/s\n",
      "R =  17.4 m\n",
      "h =  3.28 m\n"
     ]
    }
   ],
   "source": [
    "# Ex 12.13\n",
    "from __future__ import division\n",
    "import math\n",
    "\n",
    "# Calculation\n",
    "# Vertical Motion\n",
    "vA = round((-1-(1/2)*-9.81*1.5**(2))/(math.sin(math.pi*30/180)*1.5),2)  #[meter per second]\n",
    "\n",
    "# Horizontal Motion\n",
    "R = round(0+vA*math.cos(math.pi*30/180)*1.5,1)  #[meter]\n",
    "h = round(((0**(2)-(vA*math.sin(math.pi*30/180))**(2))/(2*(-9.81)))+1,2)  #[meter]\n",
    "\n",
    "# Result\n",
    "print\"vA = \",(vA),\"m/s\"\n",
    "print\"R = \",(R),\"m\"\n",
    "print\"h = \",(h),\"m\""
   ]
  },
  {
   "cell_type": "markdown",
   "metadata": {},
   "source": [
    "## Ex 12.14 Page No 487"
   ]
  },
  {
   "cell_type": "code",
   "execution_count": 16,
   "metadata": {
    "collapsed": false
   },
   "outputs": [
    {
     "name": "stdout",
     "output_type": "stream",
     "text": [
      "vA =  6 m/s\n",
      "a =  2.37 m/s**(2)\n"
     ]
    }
   ],
   "source": [
    "# Ex 12.14\n",
    "\n",
    "# Calculation\n",
    "# Velocity\n",
    "# Velocity is always directed tangent to the path\n",
    "vA = 6  #[meter per second]\n",
    "\n",
    "# Acceleration\n",
    "rho = round(((1+((1/10)*10)**(2))**(3/2))/(1/10),2)  #[meter]\n",
    "at = 2  #[meter per second**(2)]\n",
    "an = round((6**(2))/rho,3)  #[meter per second**(2)]\n",
    "a = round(math.sqrt(at**(2)+an**(2)),2)  #[meter per second**(2)]\n",
    "phi = round(math.degrees(math.atan(at/an)),1)  #[Degrees]\n",
    "\n",
    "# Result\n",
    "print\"vA = \",(vA),\"m/s\"\n",
    "print\"a = \",(a),\"m/s**(2)\""
   ]
  },
  {
   "cell_type": "markdown",
   "metadata": {},
   "source": [
    "## Ex 12.15 Page No 488"
   ]
  },
  {
   "cell_type": "code",
   "execution_count": 17,
   "metadata": {
    "collapsed": false
   },
   "outputs": [
    {
     "name": "stdout",
     "output_type": "stream",
     "text": [
      "t =  7.48 s\n",
      "v =  22.44 m/s\n"
     ]
    }
   ],
   "source": [
    "# Ex 12.15\n",
    "\n",
    "# Calculation\n",
    "# Let t be time needed for acceleration to reach 3 m/s**(2)\n",
    "t = round(math.sqrt((math.sqrt(3**(2)-2**(2)))/0.04),2)  #[seconds]\n",
    "\n",
    "# Velocity\n",
    "# Let v be speed at time t = 7.48 s\n",
    "v = 3*t  #[meter per second]\n",
    "\n",
    "# Result\n",
    "print\"t = \",(t),\"s\"\n",
    "print\"v = \",(v),\"m/s\""
   ]
  },
  {
   "cell_type": "markdown",
   "metadata": {},
   "source": [
    "## Ex 12.16 Page No 489"
   ]
  },
  {
   "cell_type": "code",
   "execution_count": 22,
   "metadata": {
    "collapsed": false
   },
   "outputs": [
    {
     "name": "stdout",
     "output_type": "stream",
     "text": [
      "aB =  5.37 m/s**(2)\n"
     ]
    }
   ],
   "source": [
    "# Ex 12.16\n",
    "import math\n",
    "from __future__ import division\n",
    "\n",
    "# Calculation\n",
    "tB = round((6.142/0.0333)**(1/3),3)  #[seconds]\n",
    "aBt = 0.2*5.690  #[meter per second square]\n",
    "vB = 0.1*(tB**(2))  #[meter per second]\n",
    "aBn = (vB**(2))/2  #[meter per second square]\n",
    "aB = round(math.sqrt(aBt**(2)+aBn**(2)),2)  #[meter per second square]\n",
    "\n",
    "# Result\n",
    "print\"aB = \",(aB),\"m/s**(2)\"\n"
   ]
  },
  {
   "cell_type": "markdown",
   "metadata": {},
   "source": [
    "## Ex 12.18 Page No 498"
   ]
  },
  {
   "cell_type": "code",
   "execution_count": 25,
   "metadata": {
    "collapsed": false
   },
   "outputs": [
    {
     "name": "stdout",
     "output_type": "stream",
     "text": [
      "v =  360.6 mm/s\n",
      "delta =  56.3 degrees\n",
      "a =  1931.3 mm/s**(2)\n",
      "phi =  -68.7 degrees\n"
     ]
    }
   ],
   "source": [
    "# Ex 12.18\n",
    "import math\n",
    "\n",
    "# Calculation\n",
    "vr = 200*1  #[millimeter per second]\n",
    "vtheta = 100*(1)**(2)*3**(1)  #[millimeter per second]\n",
    "v = round(math.sqrt(vr**(2)+vtheta**(2)),1)\n",
    "delta = round(math.degrees(math.atan(vtheta/vr)),1)  #[Degrees]\n",
    "ar = 200-100*(3**(2))  #[millimeter per second square]\n",
    "atheta = 100*6+2*200*3  #[millimeter per second square]\n",
    "a = round(math.sqrt(ar**(2)+atheta**(2)),1)  #[millimeter per second square]\n",
    "phi = round(math.degrees(math.atan(atheta/ar)),1)   #[Degrees]\n",
    "\n",
    "# Result\n",
    "print\"v = \",(v),\"mm/s\"\n",
    "print\"delta = \",(delta),\"degrees\"\n",
    "print\"a = \",(a),\"mm/s**(2)\"\n",
    "print\"phi = \",(phi),\"degrees\"\n"
   ]
  },
  {
   "cell_type": "markdown",
   "metadata": {
    "collapsed": true
   },
   "source": [
    "## Ex 12.19 Page No 499"
   ]
  },
  {
   "cell_type": "code",
   "execution_count": 4,
   "metadata": {
    "collapsed": false
   },
   "outputs": [
    {
     "name": "stdout",
     "output_type": "stream",
     "text": [
      "v =  800.0 m/s\n",
      "a =  6400.0 m/s**(2)\n"
     ]
    }
   ],
   "source": [
    "# Ex 12.19\n",
    "import math\n",
    "from __future__ import division\n",
    "\n",
    "# Calculation\n",
    "vr = round(400*(1/math.cos(math.pi*45/180))*math.tan(math.pi*45/180),1)  #[meter per second]\n",
    "vtheta = round(100*(1/math.cos(math.pi*45/180))*4,1)  #[meter per second]\n",
    "v = round(math.sqrt(vr**(2)+vtheta**(2)),1)  #[meter per second]\n",
    "ar = round((1600*((1/math.cos(math.pi*45/180))*(math.tan(math.pi*45/180)**(2))+(1/math.cos(math.pi*45/180)**(3)))) - 100*(1/math.cos(math.pi*45/180))*4**(2),1)  #[meter per second square]\n",
    "atheta = round(100*(1/math.cos(math.pi*45/180))*0+2*400*(1/math.cos(math.pi*45/180))*math.tan(math.pi*45/180)*4,1)  #[meter per second square]\n",
    "a = round(math.sqrt(ar**(2)+atheta**(2)),1)  #[meter per second square]\n",
    "\n",
    "# Result\n",
    "print\"v = \",(v),\"m/s\"\n",
    "print\"a = \",(a),\"m/s**(2)\"\n",
    "           "
   ]
  },
  {
   "cell_type": "markdown",
   "metadata": {
    "collapsed": true
   },
   "source": [
    "## Ex 12.20 Page No 500"
   ]
  },
  {
   "cell_type": "code",
   "execution_count": 10,
   "metadata": {
    "collapsed": false
   },
   "outputs": [
    {
     "name": "stdout",
     "output_type": "stream",
     "text": [
      "theta_dot =  1.0 rad/s\n",
      "theta_doubledot =  9.89 rad/s**(2)\n"
     ]
    }
   ],
   "source": [
    "# Ex 12.20\n",
    "import math\n",
    "\n",
    "# Variable Declaration\n",
    "a = 10  #[meter per second square]\n",
    "v = 1  #[meter per second]\n",
    "\n",
    "# Calculation\n",
    "theta_dot = math.sqrt((v**(2))-(0**(2)))  #[radian per second]\n",
    "theta_doubledot = round(math.sqrt((10**(2))-((-1.5)**(2))),2)  #[radian per second square]\n",
    "\n",
    "# Result\n",
    "print\"theta_dot = \",(theta_dot),\"rad/s\"\n",
    "print\"theta_doubledot = \",(theta_doubledot),\"rad/s**(2)\"  # Correction in the answer"
   ]
  },
  {
   "cell_type": "markdown",
   "metadata": {},
   "source": [
    "## Ex 12.21 Page No 506"
   ]
  },
  {
   "cell_type": "code",
   "execution_count": 11,
   "metadata": {
    "collapsed": false
   },
   "outputs": [
    {
     "name": "stdout",
     "output_type": "stream",
     "text": [
      "vA =  6 m/s\n"
     ]
    }
   ],
   "source": [
    "# Ex 12.21\n",
    "\n",
    "# Calculation\n",
    "vA = -3*-2  #[meter per second]\n",
    "\n",
    "# Result\n",
    "print\"vA = \",(vA),\"m/s\""
   ]
  },
  {
   "cell_type": "markdown",
   "metadata": {},
   "source": [
    "## Ex 12.22 Page No 507"
   ]
  },
  {
   "cell_type": "code",
   "execution_count": 12,
   "metadata": {
    "collapsed": false
   },
   "outputs": [
    {
     "name": "stdout",
     "output_type": "stream",
     "text": [
      "vA =  8 m/s\n"
     ]
    }
   ],
   "source": [
    "# Ex 12.22\n",
    "\n",
    "# Calculation\n",
    "vA = -4*-2  #[meter per second]\n",
    "\n",
    "# Result\n",
    "print\"vA = \",(vA),\"m/s\""
   ]
  },
  {
   "cell_type": "markdown",
   "metadata": {},
   "source": [
    "## Ex 12.23 Page No 508"
   ]
  },
  {
   "cell_type": "code",
   "execution_count": 13,
   "metadata": {
    "collapsed": false
   },
   "outputs": [
    {
     "name": "stdout",
     "output_type": "stream",
     "text": [
      "vB =  -0.5 m/s\n"
     ]
    }
   ],
   "source": [
    "# Ex 12.23\n",
    "\n",
    "# Calculation\n",
    "vB = -2/4\n",
    "\n",
    "# Result\n",
    "print\"vB = \",(vB),\"m/s\""
   ]
  },
  {
   "cell_type": "markdown",
   "metadata": {},
   "source": [
    "## Ex 12.24 Page No 509"
   ]
  },
  {
   "cell_type": "code",
   "execution_count": 2,
   "metadata": {
    "collapsed": false
   },
   "outputs": [
    {
     "name": "stdout",
     "output_type": "stream",
     "text": [
      "vS =  400.0 mm/s\n",
      "aS =  3.6 mm/s**(2)\n"
     ]
    }
   ],
   "source": [
    "# Ex 12.24\n",
    "from __future__ import division\n",
    "\n",
    "# Variable Declaration\n",
    "vA = 0.5  #[meter per second]\n",
    "\n",
    "# Calculation\n",
    "vS = round((20*vA)/math.sqrt(225+20**(2)),1)  #[meter per second]\n",
    "aS = (225*vA**(2))/((225+20**(2))**(3/2))  #[meter per second square]\n",
    "\n",
    "# Result\n",
    "print\"vS = \",(vS*1000),\"mm/s\"\n",
    "print\"aS = \",(aS*1000),\"mm/s**(2)\""
   ]
  },
  {
   "cell_type": "markdown",
   "metadata": {},
   "source": [
    "## Ex 12.25 Page No 512"
   ]
  },
  {
   "cell_type": "code",
   "execution_count": 19,
   "metadata": {
    "collapsed": false
   },
   "outputs": [
    {
     "name": "stdout",
     "output_type": "stream",
     "text": [
      "Solution 1\n",
      "vTA_x  =  28.2 km/hr\n",
      "vTA_y  =  -31.8 km/hr\n",
      "vTA  =  42.5 km/hr\n",
      "theta  =  48.4 degrees\n",
      "Solution 2\n",
      "vTA_x  =  28.2 km/hr\n",
      "vTA_y  =  -31.8 km/hr\n"
     ]
    }
   ],
   "source": [
    "# Ex 12.25\n",
    "import math\n",
    "\n",
    "# Calculation Solution 1 Vector Analysis\n",
    "vTA_x = round(60-45*math.cos(math.pi*45/180),1)  #[kilometer per hr]\n",
    "vTA_y = round(-45*math.sin(math.pi*45/180),1)  #[kilometer per hr]\n",
    "vTA = round(math.sqrt(vTA_x**(2)+vTA_y**(2)),1)  #[kilometer per hr]\n",
    "theta = round(math.degrees(math.atan(abs(vTA_y)/vTA_x)),1)  #[Degrees]\n",
    "\n",
    "# Result Solution 1\n",
    "print\"Solution 1\"\n",
    "print\"vTA_x  = \",(vTA_x),\"km/hr\"\n",
    "print\"vTA_y  = \",(vTA_y),\"km/hr\"\n",
    "print\"vTA  = \",(vTA),\"km/hr\"\n",
    "print\"theta  = \",(theta),\"degrees\"\n",
    "\n",
    "# Calculation Solution 2 Scalar Analysis\n",
    "# vT = vA + vT/A\n",
    "vTA_x = round(60-45*math.cos(math.pi*45/180),1)  #[kilometer per hr]\n",
    "vTA_y = round(-45*math.sin(math.pi*45/180),1)  #[kilometer per hr]\n",
    "\n",
    "# Result Solution 2\n",
    "print\"Solution 2\"\n",
    "print\"vTA_x  = \",(vTA_x),\"km/hr\"\n",
    "print\"vTA_y  = \",(vTA_y),\"km/hr\""
   ]
  },
  {
   "cell_type": "markdown",
   "metadata": {},
   "source": [
    "## Ex 12.26 Page No 513"
   ]
  },
  {
   "cell_type": "code",
   "execution_count": 21,
   "metadata": {
    "collapsed": false
   },
   "outputs": [
    {
     "name": "stdout",
     "output_type": "stream",
     "text": [
      "aBA =  912.4 km/hr**(2)\n",
      "theta =  9.5 degrees\n"
     ]
    }
   ],
   "source": [
    "# Ex 12.26\n",
    "import math\n",
    "\n",
    "# Variable Declaration\n",
    "rho = 400  #[kilometers]\n",
    "\n",
    "# Calculation\n",
    "# Velocity\n",
    "vBA = 600-700  #[kilometers per hr]\n",
    "# Acceleration\n",
    "aBn = 600**(2)/rho  #[kilometers per hr square]\n",
    "aBA_x = 900  #[kilometers per hr square]\n",
    "aBA_y = -100-50  #[kilometers per hr square]\n",
    "aBA = round(math.sqrt(aBA_x**(2)+aBA_y**(2)),1)  #[kilometers per hr square]\n",
    "theta = round(math.degrees(math.atan(abs(aBA_y)/aBA_x)),1)  #[Degrees]\n",
    "\n",
    "# Result\n",
    "print\"aBA = \",(aBA),\"km/hr**(2)\"\n",
    "print\"theta = \",(theta),\"degrees\"\n",
    "\n"
   ]
  },
  {
   "cell_type": "markdown",
   "metadata": {},
   "source": [
    "## Ex 12.27 Page No 514"
   ]
  },
  {
   "cell_type": "code",
   "execution_count": 27,
   "metadata": {
    "collapsed": false
   },
   "outputs": [
    {
     "name": "stdout",
     "output_type": "stream",
     "text": [
      "vBA =  9.69 m/s\n",
      "theta =  21.7 degrees\n",
      "aBA =  5.32 m/s**(2)\n",
      "phi =  62.7 degrees\n"
     ]
    }
   ],
   "source": [
    "# Ex 12.27\n",
    "import math\n",
    "\n",
    "# Variable Declaration\n",
    "vA = 18  #[meter per second]\n",
    "vB = 12  #[meter per second]\n",
    "\n",
    "# Calculation\n",
    "# Velocity\n",
    "vBA_x = 18*math.cos(math.pi*60/180)  #[meter per second]\n",
    "vBA_y = 18*math.sin(math.pi*60/180)-12   #[meter per second]\n",
    "vBA = round(math.sqrt(vBA_x**(2)+vBA_y**(2)),2)  #[meter per second]\n",
    "theta = round(math.degrees(math.atan(vBA_y/vBA_x)),1)  #[Degrees]\n",
    "\n",
    "# Acceleration\n",
    "aBn = vB**(2)/100  #[meter per second square]\n",
    "aBA_x = round(-1.440-2*math.cos(math.pi*60/180),3)  #[meter per second square]\n",
    "aBA_y = round(-3-2*math.sin(math.pi*60/180),3)  #[meter per second square]\n",
    "aBA = round(math.sqrt(aBA_x**(2)+aBA_y**(2)),2)  #[meter per second square]\n",
    "phi = round(math.degrees(math.atan(aBA_y/aBA_x)),1)  #[Degrees]\n",
    " \n",
    "# Result\n",
    "print\"vBA = \",(vBA),\"m/s\"\n",
    "print\"theta = \",(theta),\"degrees\"\n",
    "print\"aBA = \",(aBA),\"m/s**(2)\"\n",
    "print\"phi = \",(phi),\"degrees\""
   ]
  },
  {
   "cell_type": "code",
   "execution_count": null,
   "metadata": {
    "collapsed": true
   },
   "outputs": [],
   "source": []
  }
 ],
 "metadata": {
  "anaconda-cloud": {},
  "kernelspec": {
   "display_name": "Python [default]",
   "language": "python",
   "name": "python2"
  },
  "language_info": {
   "codemirror_mode": {
    "name": "ipython",
    "version": 2
   },
   "file_extension": ".py",
   "mimetype": "text/x-python",
   "name": "python",
   "nbconvert_exporter": "python",
   "pygments_lexer": "ipython2",
   "version": "2.7.12"
  }
 },
 "nbformat": 4,
 "nbformat_minor": 1
}
