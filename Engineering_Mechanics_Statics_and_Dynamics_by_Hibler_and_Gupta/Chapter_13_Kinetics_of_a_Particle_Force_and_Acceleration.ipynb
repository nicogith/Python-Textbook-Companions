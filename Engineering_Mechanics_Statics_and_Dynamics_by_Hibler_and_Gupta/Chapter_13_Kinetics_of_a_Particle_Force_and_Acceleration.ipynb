{
 "cells": [
  {
   "cell_type": "markdown",
   "metadata": {},
   "source": [
    "# Chapter 13 Kinetics of a Particle Force and Acceleration"
   ]
  },
  {
   "cell_type": "markdown",
   "metadata": {},
   "source": [
    "## Ex 13.1 Page No 535"
   ]
  },
  {
   "cell_type": "code",
   "execution_count": 1,
   "metadata": {
    "collapsed": false
   },
   "outputs": [
    {
     "name": "stdout",
     "output_type": "stream",
     "text": [
      "v =  15.6 m/s\n"
     ]
    }
   ],
   "source": [
    "# Ex 13.1\n",
    "import numpy as np\n",
    "import math\n",
    "\n",
    "# Variable Declaration\n",
    "uk = 0.3\n",
    "F = 400  #[Newton]\n",
    "\n",
    "# Calculation\n",
    "# Using  ΣF_x(right) = m*a_x and ΣF_y(upward) = m*a_y\n",
    "a = np.array([[uk,50],[1,0] ])\n",
    "b = np.array([F*math.cos(math.pi*30/180),490.5-F*math.sin(math.pi*30/180)])\n",
    "x = np.linalg.solve(a, b)\n",
    "NC = round(x[0],1)  #[Newton]\n",
    "a =  round(x[1],1)  #[meters per second square]\n",
    "v = 0+a*3  #[meter per second]\n",
    "\n",
    "# Result\n",
    "print\"v = \",(v),\"m/s\"\n"
   ]
  },
  {
   "cell_type": "markdown",
   "metadata": {},
   "source": [
    "## Ex 13.2 Page No 536"
   ]
  },
  {
   "cell_type": "code",
   "execution_count": 7,
   "metadata": {
    "collapsed": false
   },
   "outputs": [
    {
     "name": "stdout",
     "output_type": "stream",
     "text": [
      "Part(a)\n",
      "h =  127.4 m\n",
      "\n",
      "Part(b)\n",
      "h =  113.5 m\n"
     ]
    }
   ],
   "source": [
    "# Ex 13.2\n",
    "from __future__ import division\n",
    "from scipy import integrate\n",
    "\n",
    "# Calculation Part(a)\n",
    "h = round(-(50**(2))/(2*-9.81),1)  #[meters]\n",
    "\n",
    "# Result Part(a)\n",
    "print\"Part(a)\"\n",
    "print\"h = \",(h),\"m\\n\"\n",
    "\n",
    "# Calculation Part(b)\n",
    "v = lambda v: -v/(0.001*v**(2)+9.81)   \n",
    "h = round(integrate.quad(v, 50, 0)[0],1)  #[meters]\n",
    "\n",
    "# Result Part(b)\n",
    "print\"Part(b)\"\n",
    "print\"h = \",(h),\"m\"\n"
   ]
  },
  {
   "cell_type": "markdown",
   "metadata": {},
   "source": [
    "## Ex 13.3 Page No 537"
   ]
  },
  {
   "cell_type": "code",
   "execution_count": 10,
   "metadata": {
    "collapsed": false
   },
   "outputs": [
    {
     "name": "stdout",
     "output_type": "stream",
     "text": [
      "v =  0.44 m/s\n",
      "T =  39.4 N\n"
     ]
    }
   ],
   "source": [
    "# Ex 13.3\n",
    "from scipy import integrate\n",
    "from __future__ import division\n",
    "\n",
    "# Calculation\n",
    "V = lambda t: 0.221*t\n",
    "v = round(integrate.quad(V, 0, 2)[0],2)  #[meters per second]\n",
    "# Using  ΣF_x(left) = m*a_x\n",
    "T = round(40*2-(900/9.81)*0.221*2,1)  #[Newton]\n",
    "\n",
    "# Result\n",
    "print\"v = \",(v),\"m/s\"\n",
    "print\"T = \",(T),\"N\""
   ]
  },
  {
   "cell_type": "markdown",
   "metadata": {},
   "source": [
    "## Ex 13.4 Page No 538"
   ]
  },
  {
   "cell_type": "code",
   "execution_count": 12,
   "metadata": {
    "collapsed": false
   },
   "outputs": [
    {
     "name": "stdout",
     "output_type": "stream",
     "text": [
      "NC =  0.901 N\n",
      "a =  9.21 m/s**(2)\n"
     ]
    }
   ],
   "source": [
    "# Ex 13.4\n",
    "import numpy as np\n",
    "import math\n",
    "\n",
    "# Variable Declaration\n",
    "k = 3  #[Newtons per meter]\n",
    "ul = 0.75  #[meter] (ul is the unstretched length)\n",
    "y = 1  #[meter]\n",
    "\n",
    "# Calculation\n",
    "Fs = round(k*(math.sqrt(y**(2)+0.75**(2))-ul),2)  #[Newton]\n",
    "theta = round(math.degrees(math.atan(y/0.75)),1)  #[Degrees]\n",
    "# Using  ΣF_x(right) = m*a_x and ΣF_y(downward) = m*a_y\n",
    "a = np.array([[1,0],[0,2] ])\n",
    "b = np.array([Fs*math.cos(math.pi*theta/180),19.62-Fs*math.sin(math.pi*theta/180)])\n",
    "x = np.linalg.solve(a, b)\n",
    "NC = round(x[0],3)  #[Newton]\n",
    "a = round(x[1],2)  #[meters per second square]\n",
    "\n",
    "# Result\n",
    "print\"NC = \",(NC),\"N\"\n",
    "print\"a = \",(a),\"m/s**(2)\""
   ]
  },
  {
   "cell_type": "markdown",
   "metadata": {},
   "source": [
    "## Ex 13.5 Page No 539"
   ]
  },
  {
   "cell_type": "code",
   "execution_count": 14,
   "metadata": {
    "collapsed": false
   },
   "outputs": [
    {
     "name": "stdout",
     "output_type": "stream",
     "text": [
      "v =  -13.1 m/s\n"
     ]
    }
   ],
   "source": [
    "# Ex 13.5\n",
    "import numpy as np\n",
    "\n",
    "# Calculation\n",
    "# Using  ΣF_y(downward) = m*a_y (Block A), ΣF_y(downward) = m*a_y (Block B) and 2*aA = -aB\n",
    "a = np.array([[2,100],[1,20*-2] ])\n",
    "b = np.array([981,196.2])\n",
    "x = np.linalg.solve(a, b)\n",
    "T = round(x[0],1)  #[Newton]\n",
    "aA = round(x[1],2)  #[meters per second square]\n",
    "aB = -2*aA  #[meters per second square]\n",
    "v = round(0+aB*2,1)  #[meters per second]\n",
    "\n",
    "# Result\n",
    "print\"v = \",(v),\"m/s\"\n"
   ]
  },
  {
   "cell_type": "markdown",
   "metadata": {},
   "source": [
    "## Ex 13.7 Page No 548"
   ]
  },
  {
   "cell_type": "code",
   "execution_count": 18,
   "metadata": {
    "collapsed": false
   },
   "outputs": [
    {
     "name": "stdout",
     "output_type": "stream",
     "text": [
      "t =  5.88 s\n"
     ]
    }
   ],
   "source": [
    "# Ex 13.7\n",
    "from __future__ import division\n",
    "\n",
    "# Variable Declaration\n",
    "uk = 0.1\n",
    "\n",
    "# Calculation\n",
    "# Using  ΣFb = 0\n",
    "ND = 29.43  #[Newton]\n",
    "# Using ΣFt = m*at\n",
    "at = (0.1*ND)/3  #[meters per second square]\n",
    "# Using ΣFn = m*an\n",
    "vcr = round(math.sqrt(100/3),2)  #[meters per second]\n",
    "t = round((vcr-0)/at,2)  #[seconds]\n",
    "\n",
    "# Result\n",
    "print\"t = \",(t),\"s\""
   ]
  },
  {
   "cell_type": "markdown",
   "metadata": {},
   "source": [
    "## Ex 13.8 Page No 549"
   ]
  },
  {
   "cell_type": "code",
   "execution_count": 22,
   "metadata": {
    "collapsed": false
   },
   "outputs": [
    {
     "name": "stdout",
     "output_type": "stream",
     "text": [
      "NA =  1651.4 N\n",
      "aA =  13.33 m/s**(2)\n"
     ]
    }
   ],
   "source": [
    "# Ex 13.8\n",
    "from __future__ import division\n",
    "\n",
    "# Variable Declaration\n",
    "v = 20  #[meters per second]\n",
    "\n",
    "# Calculation\n",
    "rho = ((1+0**(2))**(3/2))/(1/30)  #[meters]\n",
    "# Using ΣFn = m*an\n",
    "NA = round(700+(700/9.81)*(20**(2)/rho),1)  #[Newtons]\n",
    "an = v**(2)/rho  #[meters per second square]\n",
    "aA = round(an,2)   #[meters per second square]\n",
    "\n",
    "# Result\n",
    "print\"NA = \",(NA),\"N\"\n",
    "print\"aA = \",(aA),\"m/s**(2)\""
   ]
  },
  {
   "cell_type": "markdown",
   "metadata": {},
   "source": [
    "## Ex 13.9 Page No 550"
   ]
  },
  {
   "cell_type": "code",
   "execution_count": 23,
   "metadata": {
    "collapsed": false
   },
   "outputs": [
    {
     "name": "stdout",
     "output_type": "stream",
     "text": [
      "thetamax =  42.1 degrees\n"
     ]
    }
   ],
   "source": [
    "# Ex 13.9\n",
    "\n",
    "# Calculation\n",
    "thetamax = round(math.degrees((9.81+1)/((19.62*0.5/2)+9.81)),1)  #[Degrees]\n",
    "\n",
    "# Result\n",
    "print\"thetamax = \",(thetamax),\"degrees\""
   ]
  },
  {
   "cell_type": "markdown",
   "metadata": {
    "collapsed": true
   },
   "source": [
    "## Ex 13.10 Page No 556"
   ]
  },
  {
   "cell_type": "code",
   "execution_count": 4,
   "metadata": {
    "collapsed": false
   },
   "outputs": [
    {
     "name": "stdout",
     "output_type": "stream",
     "text": [
      "F =  0.41 N\n",
      "N =  0.28 N\n"
     ]
    }
   ],
   "source": [
    "# Ex 13.10\n",
    "import numpy as np\n",
    "import math\n",
    "from __future__ import division\n",
    "\n",
    "# Calculation\n",
    "a = np.array([[math.cos(math.pi*14.04/180),-math.sin(math.pi*14.04/180)],[math.sin(math.pi*14.04/180),math.cos(math.pi*14.04/180)] ])\n",
    "b = np.array([(2/32.2)*(6-3*0.5**(2)),(2/32.2)*(3*0+2*6*0.5)])\n",
    "x = np.linalg.solve(a, b)\n",
    "F = round(x[0],2)  #[Newton]\n",
    "N = round(x[1],2)  #[Newton]\n",
    "\n",
    "# Result\n",
    "print\"F = \",(F),\"N\"  #[Correction in the answer]\n",
    "print\"N = \",(N),\"N\"  #[Correction in the answer]"
   ]
  },
  {
   "cell_type": "markdown",
   "metadata": {},
   "source": [
    "## Ex 13.11 Page No 557"
   ]
  },
  {
   "cell_type": "code",
   "execution_count": 10,
   "metadata": {
    "collapsed": false
   },
   "outputs": [
    {
     "name": "stdout",
     "output_type": "stream",
     "text": [
      "FP =  -0.354 N\n",
      "NC =  19.4 N\n"
     ]
    }
   ],
   "source": [
    "# Ex 13.11\n",
    "import numpy as np\n",
    "import math\n",
    "\n",
    "\n",
    "# Variable Declaration\n",
    "theta = 60  #[Degrees]\n",
    "\n",
    "# Calculation\n",
    "a = np.array([[0,-math.sin(math.pi*theta/180)],[1,-math.cos(math.pi*theta/180)] ])\n",
    "b = np.array([2*(0.192-0.462*(0.5**(2)))-19.62*math.sin(math.pi*theta/180),2*(0+2*-0.133*0.5)-19.62*math.cos(math.pi*theta/180)])\n",
    "x = np.linalg.solve(a, b)\n",
    "FP = round(x[0],3)  #[Newton]\n",
    "NC = round(x[1],1)  #[Newton]\n",
    "\n",
    "# Result\n",
    "print\"FP = \",(FP),\"N\"  \n",
    "print\"NC = \",(NC),\"N\"  "
   ]
  },
  {
   "cell_type": "markdown",
   "metadata": {},
   "source": [
    "## Ex 13.12 Page No 558"
   ]
  },
  {
   "cell_type": "code",
   "execution_count": 17,
   "metadata": {
    "collapsed": false
   },
   "outputs": [
    {
     "name": "stdout",
     "output_type": "stream",
     "text": [
      "FC =  0.8 N\n",
      "NC =  -2.64 N\n"
     ]
    }
   ],
   "source": [
    "# Ex 13.12\n",
    "import numpy as np\n",
    "import math\n",
    "from __future__ import division\n",
    "\n",
    "# Calculation\n",
    "a = np.array([[0,math.cos(math.pi*17.7/180)],[1,-math.sin(math.pi*17.7/180)] ])\n",
    "b = np.array([0.5*(0-0.1*math.pi*4**(2)),0.5*(0+2*0.4*4)])\n",
    "x = np.linalg.solve(a, b)\n",
    "FC = round(x[0],1)  #[Newton]\n",
    "NC = round(x[1],2)  #[Newton]\n",
    "\n",
    "# Result\n",
    "print\"FC = \",(FC),\"N\"  \n",
    "print\"NC = \",(NC),\"N\"  "
   ]
  },
  {
   "cell_type": "code",
   "execution_count": null,
   "metadata": {
    "collapsed": true
   },
   "outputs": [],
   "source": []
  }
 ],
 "metadata": {
  "anaconda-cloud": {},
  "kernelspec": {
   "display_name": "Python [default]",
   "language": "python",
   "name": "python2"
  },
  "language_info": {
   "codemirror_mode": {
    "name": "ipython",
    "version": 2
   },
   "file_extension": ".py",
   "mimetype": "text/x-python",
   "name": "python",
   "nbconvert_exporter": "python",
   "pygments_lexer": "ipython2",
   "version": "2.7.12"
  }
 },
 "nbformat": 4,
 "nbformat_minor": 1
}
