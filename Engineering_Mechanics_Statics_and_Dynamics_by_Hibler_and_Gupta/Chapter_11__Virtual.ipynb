{
 "cells": [
  {
   "cell_type": "markdown",
   "metadata": {},
   "source": [
    "# Chapter 11 Virtual Work"
   ]
  },
  {
   "cell_type": "markdown",
   "metadata": {},
   "source": [
    "## Ex 11.1 Page No 418"
   ]
  },
  {
   "cell_type": "code",
   "execution_count": 1,
   "metadata": {
    "collapsed": false
   },
   "outputs": [
    {
     "name": "stdout",
     "output_type": "stream",
     "text": [
      "theta =  63.0 degrees\n"
     ]
    }
   ],
   "source": [
    "# Ex 11.1\n",
    "import math\n",
    "from __future__ import division\n",
    "\n",
    "# Calculation\n",
    "theta = round(math.degrees(math.atan(98.1/50)),1)  #[Degrees]\n",
    "\n",
    "# Result\n",
    "print\"theta = \",(theta),\"degrees\""
   ]
  },
  {
   "cell_type": "markdown",
   "metadata": {},
   "source": [
    "## Ex 11.3 Page No 420"
   ]
  },
  {
   "cell_type": "code",
   "execution_count": 8,
   "metadata": {
    "collapsed": false
   },
   "outputs": [
    {
     "name": "stdout",
     "output_type": "stream",
     "text": [
      "xc =  0.981 m\n",
      "Cx =  114.0 N\n"
     ]
    }
   ],
   "source": [
    "# Ex 11.3\n",
    "import math\n",
    "import numpy as np\n",
    "\n",
    "# Variable Declaration\n",
    "theta = 45  #[Degrees]\n",
    "\n",
    "# Calculation\n",
    "coeff = [1, -1.2*math.cos(math.pi*theta/180), -0.13]\n",
    "# Taking only the positive root\n",
    "xc = round(np.roots(coeff)[0],3)  #[meter]\n",
    "Cx = round(((-120*math.cos(math.pi*theta/180))*(1.2*math.cos(math.pi*theta/180)-2*xc))/(1.2*xc*math.sin(math.pi*theta/180)),0)  #[Newton]\n",
    "\n",
    "# Result\n",
    "print\"xc = \",(xc),\"m\"\n",
    "print\"Cx = \",(Cx),\"N\""
   ]
  },
  {
   "cell_type": "markdown",
   "metadata": {},
   "source": [
    "## Ex 11.5 Page No 433"
   ]
  },
  {
   "cell_type": "code",
   "execution_count": 66,
   "metadata": {
    "collapsed": false
   },
   "outputs": [
    {
     "name": "stdout",
     "output_type": "stream",
     "text": [
      "theta =  53.8 degrees\n",
      "V1 =  -29.4 (unstable equilibrium at theta = 0 degrees)\n",
      "V2 =  46.9 (stable equilibrium at theta = 53.8 degrees)\n"
     ]
    }
   ],
   "source": [
    "# Ex 11.5\n",
    "import math\n",
    "from scipy.misc import derivative\n",
    "from __future__ import division\n",
    "\n",
    "# Variable Declaration\n",
    "W = 10*9.81   #[Newton]\n",
    "k = 200  #[Newton per meter]\n",
    "l = 0.6  #[meter]\n",
    "\n",
    "# Calculation\n",
    "\n",
    "# Let V1 = d**(2)V/dtheta**(2) at theta = 0 \n",
    "def f1(x):\n",
    "    return (1/2)*k*(l**(2))*((1-math.cos(x))**(2))-(W*l/2)*(2-math.cos(x))\n",
    "V1 = round(derivative(f1, 0*math.pi/180,dx=1e-6, n=2),1)\n",
    "\n",
    "# Let V2 = d**(2)V/dtheta**(2) at theta = 53.8 \n",
    "def f2(x):\n",
    "    return (1/2)*k*(l**(2))*((1-math.cos(x))**(2))-(W*l/2)*(2-math.cos(x))\n",
    "V2 = round(derivative(f2, 53.8*math.pi/180,dx=1e-6, n=2),1)\n",
    "                     \n",
    "# Result\n",
    "print\"theta = \",(theta),\"degrees\"\n",
    "print\"V1 = \",(V1),\"(unstable equilibrium at theta = 0 degrees)\"\n",
    "print\"V2 = \",round(V2,1),\"(stable equilibrium at theta = 53.8 degrees)\"                     "
   ]
  },
  {
   "cell_type": "markdown",
   "metadata": {},
   "source": [
    "## Ex 11.6 Page No 434"
   ]
  },
  {
   "cell_type": "code",
   "execution_count": 65,
   "metadata": {
    "collapsed": false
   },
   "outputs": [
    {
     "name": "stdout",
     "output_type": "stream",
     "text": [
      "m =  6.53 kg\n",
      "V =  -47.6  (unstable equilibrium at theta = 20 degrees)\n"
     ]
    }
   ],
   "source": [
    "# Ex 11.6\n",
    "import math\n",
    "from __future__ import division\n",
    "from scipy.misc import derivative\n",
    "\n",
    "# Calculation\n",
    "# From dV/dtheta at theta = 20 degrees\n",
    "m = round(69.14/10.58,2)  #[kilogram]\n",
    "def f(x):\n",
    "    return 98.1*(1.5*math.sin(x)/2)-m*9.81*(1.92-math.sqrt(3.69-3.6*math.sin(x)))\n",
    "\n",
    "# Let V = d**(2)V/dtheta**(2) at theta = 20 degrees\n",
    "V = round(derivative(f, 20*math.pi/180,dx=1e-6, n=2),1)\n",
    "# Result\n",
    "print\"m = \",(m),\"kg\"\n",
    "print\"V = \",(V),\" (unstable equilibrium at theta = 20 degrees)\"\n",
    "\n"
   ]
  },
  {
   "cell_type": "code",
   "execution_count": null,
   "metadata": {
    "collapsed": true
   },
   "outputs": [],
   "source": []
  }
 ],
 "metadata": {
  "anaconda-cloud": {},
  "kernelspec": {
   "display_name": "Python [default]",
   "language": "python",
   "name": "python2"
  },
  "language_info": {
   "codemirror_mode": {
    "name": "ipython",
    "version": 2
   },
   "file_extension": ".py",
   "mimetype": "text/x-python",
   "name": "python",
   "nbconvert_exporter": "python",
   "pygments_lexer": "ipython2",
   "version": "2.7.12"
  }
 },
 "nbformat": 4,
 "nbformat_minor": 1
}
