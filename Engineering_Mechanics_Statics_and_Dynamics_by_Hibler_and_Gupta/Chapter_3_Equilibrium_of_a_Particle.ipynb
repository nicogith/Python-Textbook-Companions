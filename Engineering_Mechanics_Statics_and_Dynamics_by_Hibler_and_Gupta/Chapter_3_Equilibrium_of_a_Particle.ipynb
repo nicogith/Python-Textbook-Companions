{
 "cells": [
  {
   "cell_type": "markdown",
   "metadata": {},
   "source": [
    "# Chapter 3 : Equilibrium of a Particle"
   ]
  },
  {
   "cell_type": "markdown",
   "metadata": {},
   "source": [
    "## Ex 3.2 Page No. 75"
   ]
  },
  {
   "cell_type": "code",
   "execution_count": 3,
   "metadata": {
    "collapsed": false
   },
   "outputs": [
    {
     "name": "stdout",
     "output_type": "stream",
     "text": [
      "TB =  4.9 kN\n",
      "TD =  4.25 kN\n"
     ]
    }
   ],
   "source": [
    "# Example 3.2\n",
    "import math\n",
    "import numpy as np\n",
    "\n",
    "# Variable Declaration\n",
    "theta = 30  #[Degrees]\n",
    "\n",
    "# Calculation\n",
    "# The two unknown magnitudes TB and TD can be obtained from two scalar equations of equilibrium ΣF_x = 0 and ΣF_y = 0\n",
    "a = np.array([[math.cos(math.pi*theta/180),-1], [math.sin(math.pi*theta/180),0]])\n",
    "b = np.array([0,2.452])\n",
    "x = np.linalg.solve(a, b)\n",
    "TB = round(x[0],2)  #[kilo Newton]\n",
    "TD = round(x[1],2)  #[kilo Newton]\n",
    "\n",
    "# Result\n",
    "print\"TB = \",(TB),\"kN\"\n",
    "print\"TD = \",(TD),\"kN\""
   ]
  },
  {
   "cell_type": "markdown",
   "metadata": {},
   "source": [
    "## Ex 3.3 Page No. 76"
   ]
  },
  {
   "cell_type": "code",
   "execution_count": 9,
   "metadata": {
    "collapsed": false
   },
   "outputs": [
    {
     "name": "stdout",
     "output_type": "stream",
     "text": [
      "TB =  54.6 N\n",
      "TD =  38.6 N\n",
      "TCD =  34.1 N\n",
      "WB =  47.8 N\n"
     ]
    }
   ],
   "source": [
    "# Example 3.3\n",
    "import math\n",
    "import numpy as np\n",
    "from __future__ import division\n",
    "\n",
    "# Variable Declaration\n",
    "WA = 20   #[Newton]\n",
    "\n",
    "# Calculation\n",
    "# The two unknown magnitudes TEG and TEC can be obtained from two scalar equations of equilibrium ΣF_x = 0 and ΣF_y = 0 at point E\n",
    "a = np.array([[math.sin(math.pi*30/180),-math.cos(math.pi*45/180)], [math.cos(math.pi*30/180),-math.sin(math.pi*45/180)]])\n",
    "b = np.array([0,20])\n",
    "x = np.linalg.solve(a, b)\n",
    "TEG = round(x[0],1)  #[Newton]\n",
    "TEC = round(x[1],1)  #[Newton]\n",
    "\n",
    "# The two unknown magnitudes TCD and WB can be obtained from two scalar equations of equilibrium ΣF_x = 0 and ΣF_y = 0 at point C\n",
    "a = np.array([[-(4/5),0], [3/5,-1]])\n",
    "b = np.array([-38.6*math.cos(math.pi*45/180), -38.6*math.sin(math.pi*45/180)])\n",
    "x = np.linalg.solve(a, b)\n",
    "TCD = round(x[0],1)  #[Newton]\n",
    "WB = round(x[1],1)  #[Newton]\n",
    "\n",
    "# Result\n",
    "print\"TB = \",(TEG),\"N\"\n",
    "print\"TD = \",(TEC),\"N\"\n",
    "print\"TCD = \",(TCD),\"N\"\n",
    "print\"WB = \",(WB),\"N\""
   ]
  },
  {
   "cell_type": "markdown",
   "metadata": {},
   "source": [
    "## Ex 3.4 Page No. 77"
   ]
  },
  {
   "cell_type": "code",
   "execution_count": 12,
   "metadata": {
    "collapsed": false
   },
   "outputs": [
    {
     "name": "stdout",
     "output_type": "stream",
     "text": [
      "lAC =  1.32 m\n"
     ]
    }
   ],
   "source": [
    "# Example 3.4\n",
    "import math\n",
    "import numpy as np\n",
    "from __future__ import division\n",
    "\n",
    "# Variable Declaration\n",
    "lAB_dash = 0.4  #[meter]\n",
    "kAB = 300 #[Newton/meter]\n",
    "\n",
    "# Calculation\n",
    "# Let W be weight of lamp\n",
    "W = 8*9.81  #[Newton]\n",
    "\n",
    "# The two unknown magnitudes TAB and TAC can be obtained from two scalar equations of equilibrium ΣF_x = 0 and ΣF_y = 0 at point A\n",
    "a = np.array([[1,-math.cos(math.pi*30/180)], [0,math.sin(math.pi*30/180)]])\n",
    "b = np.array([0, 78.5])\n",
    "x = np.linalg.solve(a, b)\n",
    "TAB = round(x[0],1)  #[Newton]\n",
    "TAC = round(x[1],1)  #[Newton]\n",
    "\n",
    "# Let sAB denote the stretch of string\n",
    "sAB = TAB/kAB\n",
    "\n",
    "# Let lAB denote the stretch of string\n",
    "lAB = lAB_dash + sAB\n",
    "lAC = round((2 - lAB)/math.cos(math.pi*30/180),2)\n",
    "\n",
    "# Result\n",
    "print\"lAC = \",(lAC),\"m\"\n"
   ]
  },
  {
   "cell_type": "markdown",
   "metadata": {},
   "source": [
    "## Ex 3.5 Page No. 84"
   ]
  },
  {
   "cell_type": "code",
   "execution_count": 16,
   "metadata": {
    "collapsed": false
   },
   "outputs": [
    {
     "name": "stdout",
     "output_type": "stream",
     "text": [
      "FB =  207.8 N\n",
      "FC =  150.0 N\n",
      "FD =  240.0 N\n",
      "sAB =  41.6 mm\n"
     ]
    }
   ],
   "source": [
    "# Example 3.5\n",
    "import math\n",
    "import numpy as np\n",
    "from __future__ import division\n",
    "\n",
    "# Variable Declaration\n",
    "L = 90  #[Newton]\n",
    "k = 5000  #[Newton/meter]\n",
    "\n",
    "# Calculation\n",
    "# The three unknown magnitudes FB, FC and FD can be obtained from three scalar equations of equilibrium ΣF_x = 0,ΣF_y = 0 and ΣF_z = 0 at point A\n",
    "a = np.array([[0,-4/5,math.sin(math.pi*30/180)], [1,0,-math.cos(math.pi*30/180)], [0,3/5,0]])\n",
    "b = np.array([0, 0, 90])\n",
    "x = np.linalg.solve(a, b)\n",
    "FB = round(x[0],1)  #[Newton]\n",
    "FC = round(x[1],1)  #[Newton]\n",
    "FD = round(x[2],1)  #[Newton]\n",
    "\n",
    "# Let sAB denote stretch of a string\n",
    "sAB= round((FB*1000)/k,1)  #[millimeter]\n",
    "\n",
    "# Result\n",
    "print\"FB = \",(FB),\"N\"\n",
    "print\"FC = \",(FC),\"N\"\n",
    "print\"FD = \",(FD),\"N\"\n",
    "print\"sAB = \",(sAB),\"mm\""
   ]
  },
  {
   "cell_type": "markdown",
   "metadata": {},
   "source": [
    "## Ex 3.6 Page No. 85"
   ]
  },
  {
   "cell_type": "code",
   "execution_count": 19,
   "metadata": {
    "collapsed": false
   },
   "outputs": [
    {
     "name": "stdout",
     "output_type": "stream",
     "text": [
      "F =  300.0 N\n",
      "alpha =  48.2 degrees\n",
      "beta =  109.5 degrees\n",
      "gamma =  48.2 degrees\n"
     ]
    }
   ],
   "source": [
    "# Example 3.6\n",
    "import math\n",
    "from __future__ import division\n",
    "\n",
    "# Variable Declaration\n",
    "B_x = -2  #[meter]\n",
    "B_y = -3  #[meter]\n",
    "B_z = 6  #[meter]\n",
    "F1_x = 0 #[Newton]\n",
    "F1_y = 400  #[Newton]\n",
    "F1_z = 0  #[Newton]\n",
    "F2_x = 0  #[Newton]\n",
    "F2_y = 0  #[Newton]\n",
    "F2_z = -800  #[Newton]\n",
    "F3 = 700  #[Newton]\n",
    "\n",
    "# Calculation\n",
    "# Let rB be unit vector along OB\n",
    "rB_x = -2\n",
    "rB_y = -3\n",
    "rB_z = 6\n",
    "rB = math.sqrt(rB_x**(2)+rB_y**(2)+rB_z**(2))\n",
    "F3_x = F3*(rB_x/rB)  #[Newton]\n",
    "F3_y = F3*(rB_y/rB)  #[Newton]\n",
    "F3_z = F3*(rB_z/rB)  #[Newton]\n",
    "\n",
    "# For equilibrium ΣF = 0 and F1+F2+F3+F = 0\n",
    "F_x = 0 - (F1_x +F2_x +F3_x)  #[Newton]\n",
    "F_y = 0 - (F1_y +F2_y +F3_y)  #[Newton]\n",
    "F_z = 0 - (F1_z +F2_z +F3_z)  #[Newton]\n",
    "F = round(math.sqrt(F_x**(2)+F_y**(2)+F_z**(2)),1)  #[Newton]\n",
    "alpha = round(math.degrees(math.acos(F_x/F)),1)  #[Degrees]\n",
    "beta = round(math.degrees(math.acos(F_y/F)),1)  #[Degrees]\n",
    "gamma = round(math.degrees(math.acos(F_z/F)),1)  #[Degrees]\n",
    "\n",
    "\n",
    "# Result\n",
    "print\"F = \",(F),\"N\"\n",
    "print\"alpha = \",(alpha),\"degrees\"\n",
    "print\"beta = \",(beta),\"degrees\"\n",
    "print\"gamma = \",(gamma),\"degrees\"\n"
   ]
  },
  {
   "cell_type": "markdown",
   "metadata": {},
   "source": [
    "## Ex 3.7 Page No. 86"
   ]
  },
  {
   "cell_type": "code",
   "execution_count": 6,
   "metadata": {
    "collapsed": false
   },
   "outputs": [
    {
     "name": "stdout",
     "output_type": "stream",
     "text": [
      "FB =  23.6 N\n",
      "FC =  23.6 N\n",
      "FD =  15.0 N\n"
     ]
    }
   ],
   "source": [
    "# Example 3.7\n",
    "import math\n",
    "import numpy as np\n",
    "from __future__ import division\n",
    "\n",
    "# Variable Declaration\n",
    "B_x = -3  #[meter]\n",
    "B_y = -4  #[meter]\n",
    "B_z = 8  #[meter]\n",
    "C_x = -3  #[meter]\n",
    "C_y = 4  #[meter]\n",
    "C_z = 8  #[meter]\n",
    "\n",
    "# Calculation\n",
    "# let FB_x/FB = b_x, FB_y/FB = b_y, FB_z/FB = b_z \n",
    "b_x = round(B_x/(math.sqrt(B_x**(2)+B_y**(2)+B_z**(2))),3)  #[Newton]\n",
    "b_y = round(B_y/(math.sqrt(B_x**(2)+B_y**(2)+B_z**(2))),3)  #[Newton]\n",
    "b_z = round(B_z/(math.sqrt(B_x**(2)+B_y**(2)+B_z**(2))),3)  #[Newton]\n",
    "\n",
    "# let FC_x/FC = c_x, FC_y/FC = c_y, FC_z/FC = c_z \n",
    "c_x = round(C_x/(math.sqrt(C_x**(2)+C_y**(2)+C_z**(2))),3)  #[Newton]\n",
    "c_y = round(C_y/(math.sqrt(C_x**(2)+C_y**(2)+C_z**(2))),3)  #[Newton]\n",
    "c_z = round(C_z/(math.sqrt(C_x**(2)+C_y**(2)+C_z**(2))),3)  #[Newton]\n",
    "\n",
    "# let FD_x/FD = d_x, FD_y/FD = d_y, FD_z/FD = d_z \n",
    "d_x = 1\n",
    "d_y = 0\n",
    "d_z = 0\n",
    "\n",
    "W_x = 0\n",
    "W_y = 0\n",
    "W_z = -40\n",
    "\n",
    "# The three unknown magnitudes FB, FC and FD can be obtained from three scalar equations of equilibrium ΣF_x = 0,ΣF_y = 0 and ΣF_z = 0 at point A\n",
    "a = np.array([[b_x,c_x,d_x], [b_y,c_y,d_y], [b_z,c_z,d_z]])\n",
    "b = np.array([0, 0, -W_z])\n",
    "x = np.linalg.solve(a, b)\n",
    "FB = round(x[0],1)  #[Newton]\n",
    "FC = round(x[1],1)  #[Newton]\n",
    "FD = round(x[2],1)  #[Newton]\n",
    "\n",
    "# Result\n",
    "print\"FB = \",(FB),\"N\"\n",
    "print\"FC = \",(FC),\"N\"\n",
    "print\"FD = \",(FD),\"N\""
   ]
  },
  {
   "cell_type": "markdown",
   "metadata": {
    "collapsed": true
   },
   "source": [
    "## Ex 3.8 Page No. 87"
   ]
  },
  {
   "cell_type": "code",
   "execution_count": 5,
   "metadata": {
    "collapsed": false
   },
   "outputs": [
    {
     "name": "stdout",
     "output_type": "stream",
     "text": [
      "FB =  693.2 N\n",
      "FC =  812.7 N\n",
      "FD =  861.6 N\n",
      "s =  0.462 m\n"
     ]
    }
   ],
   "source": [
    "# Ex 3.8\n",
    "import math\n",
    "import numpy as np\n",
    "from __future__ import division\n",
    "\n",
    "# Variable Declaration\n",
    "W = 981  #[Newton]\n",
    "D_x = -1   #[meter]\n",
    "D_y = 2   #[meter]\n",
    "D_z = 2   #[meter]\n",
    "k = 1500   #[Newton meter]\n",
    "\n",
    "# Calculation\n",
    "# let FB_x/FB = b_x, FB_y/FB = b_y, FB_z/FB = b_z \n",
    "b_x = 1  \n",
    "b_y = 0\n",
    "b_z = 0\n",
    "\n",
    "# let FC_x/FC = c_x, FC_y/FC = c_y, FC_z/FC = c_z \n",
    "c_x = math.cos(120*math.pi/180)  #[Newton]\n",
    "c_y = math.cos(135*math.pi/180)  #[Newton]\n",
    "c_z = math.cos(60*math.pi/180)  #[Newton]\n",
    "\n",
    "# let FD_x/FD = d_x, FD_y/FD = d_y, FD_z/FD = d_z \n",
    "d_x = round(D_x/(math.sqrt(D_x**(2)+D_y**(2)+D_z**(2))),3)  #[Newton]\n",
    "d_y = round(D_y/(math.sqrt(D_x**(2)+D_y**(2)+D_z**(2))),3)  #[Newton]\n",
    "d_z = round(D_z/(math.sqrt(D_x**(2)+D_y**(2)+D_z**(2))),3)  #[Newton]\n",
    "\n",
    "W_x = 0  #[Newton]\n",
    "W_y = 0  #[Newton]\n",
    "W_z = -981  #[Newton]\n",
    "\n",
    "# The three unknown magnitudes FB, FC and FD can be obtained from three scalar equations of equilibrium ΣF_x = 0,ΣF_y = 0 and ΣF_z = 0 at point A\n",
    "a = np.array([[b_x,c_x,d_x], [b_y,c_y,d_y], [b_z,c_z,d_z]])\n",
    "b = np.array([0, 0, -W_z])\n",
    "x = np.linalg.solve(a, b)\n",
    "FB = round(x[0],1)  #[Newton]\n",
    "FC = round(x[1],1)  #[Newton]\n",
    "FD = round(x[2],1)  #[Newton]\n",
    "\n",
    "# Let stretch of spring be denoted by s\n",
    "s = round(FB/k,3)\n",
    "\n",
    "# Result\n",
    "print\"FB = \",(FB),\"N\"\n",
    "print\"FC = \",(FC),\"N\"\n",
    "print\"FD = \",(FD),\"N\"\n",
    "print\"s = \",(s),\"m\""
   ]
  },
  {
   "cell_type": "code",
   "execution_count": null,
   "metadata": {
    "collapsed": true
   },
   "outputs": [],
   "source": []
  }
 ],
 "metadata": {
  "kernelspec": {
   "display_name": "Python [default]",
   "language": "python",
   "name": "python2"
  },
  "language_info": {
   "codemirror_mode": {
    "name": "ipython",
    "version": 2
   },
   "file_extension": ".py",
   "mimetype": "text/x-python",
   "name": "python",
   "nbconvert_exporter": "python",
   "pygments_lexer": "ipython2",
   "version": "2.7.12"
  }
 },
 "nbformat": 4,
 "nbformat_minor": 2
}
