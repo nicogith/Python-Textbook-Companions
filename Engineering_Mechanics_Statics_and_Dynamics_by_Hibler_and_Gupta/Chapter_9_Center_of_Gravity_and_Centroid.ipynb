{
 "cells": [
  {
   "cell_type": "markdown",
   "metadata": {},
   "source": [
    "# Chapter 9 Center of Gravity and Centroid"
   ]
  },
  {
   "cell_type": "markdown",
   "metadata": {},
   "source": [
    "## Ex 9.1 Page No 337"
   ]
  },
  {
   "cell_type": "code",
   "execution_count": 12,
   "metadata": {
    "collapsed": false
   },
   "outputs": [
    {
     "name": "stdout",
     "output_type": "stream",
     "text": [
      "xbar =  0.41 m\n",
      "ybar =  0.574 m\n"
     ]
    }
   ],
   "source": [
    "# Example 9.1\n",
    "from scipy import integrate\n",
    "import math\n",
    "\n",
    "# Calculation\n",
    "a = lambda y: y**(2)*math.sqrt(4*y**(2)+1)\n",
    "b = lambda y: math.sqrt(4*y**(2)+1)\n",
    "xbar = integrate.quad(a, 0, 1)[0]/integrate.quad(b, 0, 1)[0]  #[meter]\n",
    "\n",
    "c = lambda y: y*math.sqrt(4*y**(2)+1)\n",
    "d = lambda y: math.sqrt(4*y**(2)+1)\n",
    "ybar = integrate.quad(c, 0, 1)[0]/integrate.quad(d, 0, 1)[0]  #[meter]\n",
    "\n",
    "# Result\n",
    "print\"xbar = \",round(xbar,3),\"m\"\n",
    "print\"ybar = \",round(ybar,3),\"m\""
   ]
  },
  {
   "cell_type": "markdown",
   "metadata": {},
   "source": [
    "## Ex 9.5 Page No 342"
   ]
  },
  {
   "cell_type": "code",
   "execution_count": 18,
   "metadata": {
    "collapsed": false
   },
   "outputs": [
    {
     "name": "stdout",
     "output_type": "stream",
     "text": [
      "Solution 1\n",
      "xbar =  0.75 m\n",
      "ybar =  0.3 m\n",
      "\n",
      "Solution 2\n",
      "xbar =  0.75 m\n",
      "ybar =  0.3 m\n"
     ]
    }
   ],
   "source": [
    "# Example 9.5\n",
    "from scipy import integrate\n",
    "import math\n",
    "from __future__ import division\n",
    "\n",
    "# Calculation\n",
    "# Solution 1\n",
    "a = lambda x: x**(3)\n",
    "b = lambda x: x**(2)\n",
    "xbar = integrate.quad(a, 0, 1)[0]/integrate.quad(b, 0, 1)[0]  #[meter]\n",
    "c = lambda x: (x**(4))/2\n",
    "d = lambda x: x**(2)\n",
    "ybar = integrate.quad(c, 0, 1)[0]/integrate.quad(d, 0, 1)[0]  #[meter]\n",
    "\n",
    "# Result Solution 1\n",
    "print\"Solution 1\"\n",
    "print\"xbar = \",round(xbar,3),\"m\"\n",
    "print\"ybar = \",round(ybar,3),\"m\\n\"\n",
    "\n",
    "# Solution 2\n",
    "a = lambda y: (1-y)/2\n",
    "b = lambda y: 1-math.sqrt(y)\n",
    "xbar = integrate.quad(a, 0, 1)[0]/integrate.quad(b, 0, 1)[0]  #[meter]\n",
    "c = lambda y: y-y**(3/2)\n",
    "d = lambda y: 1-math.sqrt(y)\n",
    "ybar = integrate.quad(c, 0, 1)[0]/integrate.quad(d, 0, 1)[0]  #[meter]\n",
    "\n",
    "# Result Solution 2\n",
    "print\"Solution 2\"\n",
    "print\"xbar = \",round(xbar,3),\"m\"\n",
    "print\"ybar = \",round(ybar,3),\"m\""
   ]
  },
  {
   "cell_type": "markdown",
   "metadata": {},
   "source": [
    "## Ex 9.6 Page No 343"
   ]
  },
  {
   "cell_type": "code",
   "execution_count": 19,
   "metadata": {
    "collapsed": false
   },
   "outputs": [
    {
     "name": "stdout",
     "output_type": "stream",
     "text": [
      "Solution 1\n",
      "xbar =  0.5 m\n",
      "\n",
      "Solution 2\n",
      "xbar =  0.5 m\n"
     ]
    }
   ],
   "source": [
    "# Example 9.6\n",
    "from scipy import integrate\n",
    "import math\n",
    "from __future__ import division\n",
    "\n",
    "# Calculation\n",
    "# Solution 1\n",
    "a = lambda x: x*(x-x**(2))\n",
    "b = lambda x: (x-x**(2))\n",
    "xbar = integrate.quad(a, 0, 1)[0]/integrate.quad(b, 0, 1)[0]  #[meter]\n",
    "\n",
    "\n",
    "# Result Solution 1\n",
    "print\"Solution 1\"\n",
    "print\"xbar = \",round(xbar,3),\"m\\n\"\n",
    "\n",
    "\n",
    "# Solution 2\n",
    "a = lambda y: ((math.sqrt(y)+y)/2)*(math.sqrt(y)-y)\n",
    "b = lambda y: math.sqrt(y)-y\n",
    "xbar = integrate.quad(a, 0, 1)[0]/integrate.quad(b, 0, 1)[0]  #[meter]\n",
    "\n",
    "\n",
    "# Result Solution 2\n",
    "print\"Solution 2\"\n",
    "print\"xbar = \",round(xbar,3),\"m\"\n"
   ]
  },
  {
   "cell_type": "markdown",
   "metadata": {},
   "source": [
    "## Ex 9.7 Page No 344"
   ]
  },
  {
   "cell_type": "code",
   "execution_count": 22,
   "metadata": {
    "collapsed": false
   },
   "outputs": [
    {
     "name": "stdout",
     "output_type": "stream",
     "text": [
      "ybar =  66.7 mm\n"
     ]
    }
   ],
   "source": [
    "# Example 9.7\n",
    "from scipy import integrate\n",
    "import math\n",
    "\n",
    "# Calculation\n",
    "a = lambda y: 100*math.pi*y**(2)\n",
    "b = lambda y: 100*math.pi*y\n",
    "ybar = integrate.quad(a, 0, 100)[0]/integrate.quad(b, 0, 100)[0]  #[millimeter]\n",
    "\n",
    "# Result\n",
    "print\"ybar = \",round(ybar,1),\"mm\""
   ]
  },
  {
   "cell_type": "markdown",
   "metadata": {
    "collapsed": true
   },
   "source": [
    "## Ex 9.8 Page No 346"
   ]
  },
  {
   "cell_type": "code",
   "execution_count": 3,
   "metadata": {
    "collapsed": false
   },
   "outputs": [
    {
     "name": "stdout",
     "output_type": "stream",
     "text": [
      "zbar =  0.667 m\n"
     ]
    }
   ],
   "source": [
    "# Example 9.8\n",
    "from scipy import integrate\n",
    "import math\n",
    "\n",
    "# Calculation\n",
    "a = lambda z: z*200*z*math.pi*0.5**(2)\n",
    "b = lambda z: 200*z*math.pi*0.5**(2)\n",
    "zbar = integrate.quad(a, 0, 1)[0]/integrate.quad(b, 0, 1)[0]  #[meter]\n",
    "\n",
    "# Result\n",
    "print\"zbar = \",round(zbar,3),\"m\""
   ]
  },
  {
   "cell_type": "markdown",
   "metadata": {},
   "source": [
    "## Ex 9.9 Page No 352"
   ]
  },
  {
   "cell_type": "code",
   "execution_count": 7,
   "metadata": {
    "collapsed": false
   },
   "outputs": [
    {
     "name": "stdout",
     "output_type": "stream",
     "text": [
      "xbar =  45.5 mm\n",
      "ybar =  -22.5 mm\n",
      "zbar =  -0.805 mm\n"
     ]
    }
   ],
   "source": [
    "# Example 9.9\n",
    "import math\n",
    "\n",
    "# Calculation\n",
    "xbar = (60*math.pi*60+0*40+0*20)/(math.pi*60+40+20)  #[millimeter]\n",
    "ybar = (-38.2*math.pi*60+20*40+40*20)/(math.pi*60+40+20)  #[millimeter]\n",
    "zbar = (0*math.pi*60+0*40+-10*20)/(math.pi*60+40+20)  #[millimeter]\n",
    "\n",
    "# Result\n",
    "print\"xbar = \",round(xbar,1),\"mm\"\n",
    "print\"ybar = \",round(ybar,1),\"mm\"\n",
    "print\"zbar = \",round(zbar,3),\"mm\""
   ]
  },
  {
   "cell_type": "markdown",
   "metadata": {},
   "source": [
    "## Ex 9.10 Page No 353"
   ]
  },
  {
   "cell_type": "code",
   "execution_count": 9,
   "metadata": {
    "collapsed": false
   },
   "outputs": [
    {
     "name": "stdout",
     "output_type": "stream",
     "text": [
      "xbar =  -0.348 m\n",
      "ybar =  1.22 m\n"
     ]
    }
   ],
   "source": [
    "# Example 9.10\n",
    "\n",
    "# Calculation\n",
    "xbar = (1*0.5*3*3+(-1.5)*3*3+(-2.5)*(-2)*1)/(0.5*3*3+3*3+(-2)*1)  #[meter]\n",
    "ybar = (1*0.5*3*3+1.5*3*3+2*(-2)*1)/(0.5*3*3+3*3+(-2)*1)  #[meter]\n",
    "\n",
    "# Result\n",
    "print\"xbar = \",round(xbar,3),\"m\"\n",
    "print\"ybar = \",round(ybar,2),\"m\"\n"
   ]
  },
  {
   "cell_type": "markdown",
   "metadata": {},
   "source": [
    "## Ex 9.11 Page No 354"
   ]
  },
  {
   "cell_type": "code",
   "execution_count": 2,
   "metadata": {
    "collapsed": false
   },
   "outputs": [
    {
     "name": "stdout",
     "output_type": "stream",
     "text": [
      "zbar =  14.6 mm\n"
     ]
    }
   ],
   "source": [
    "# Example 9.11\n",
    "import math\n",
    "from __future__ import division\n",
    "\n",
    "# Variable Declaration\n",
    "pc = 8  #[milligram per meter cube]\n",
    "ph = 4  #[milligram per meter cube]\n",
    "\n",
    "# Calculation\n",
    "zbar = (50*pc*10**(-6)*(1/3)*math.pi*50**(2)*200 + (-18.75)*ph*10**(-6)*(2/3)*math.pi*50**(3) + 125*(-pc)*10**(-6)*(1/3)*math.pi*25**(2)*100 + 50*(-pc)*10**(-6)*math.pi*25**(2)*100)/(pc*10**(-6)*(1/3)*math.pi*50**(2)*200+ph*10**(-6)*(2/3)*math.pi*50**(3)+(-pc)*10**(-6)*(1/3)*math.pi*25**(2)*100+(-pc)*10**(-6)*math.pi*25**(2)*100)  #[millimeter]\n",
    "\n",
    "# Result\n",
    "print\"zbar = \",round(zbar,1),\"mm\""
   ]
  },
  {
   "cell_type": "markdown",
   "metadata": {},
   "source": [
    "## Ex 9.13 Page No 368"
   ]
  },
  {
   "cell_type": "code",
   "execution_count": 3,
   "metadata": {
    "collapsed": false
   },
   "outputs": [
    {
     "name": "stdout",
     "output_type": "stream",
     "text": [
      "Solutuon 1\n",
      "FR =  154.5 kN\n",
      "h =  1.3 m\n",
      "\n",
      "Solutuon 2\n",
      "FR =  154.5 kN\n",
      "h =  1.3 m\n"
     ]
    }
   ],
   "source": [
    "# Example 9.13\n",
    "from __future__ import division\n",
    "\n",
    "# Variable Declaration\n",
    "b = 1.5  #[meter]\n",
    "pw = 1000  #[kilogram per meter cube]\n",
    "# Calculation\n",
    "# Solution 1\n",
    "# Let water pressure at depth A be pA and water pressure at depth B be pB\n",
    "pA = pw*9.81*2/1000  #[kilo Pascal]\n",
    "pB = pw*9.81*5/1000  #[kilo Pascal]\n",
    "wA = round(b*pA,2)  #[kilo Newton per meter]\n",
    "wB = round(b*pB,2)  #[kilo Newton per meter]\n",
    "# let FR be area of trapezoid\n",
    "FR = round((1/2)*3*(wA+wB),1)  #[kilo Newton]\n",
    "# Let h be force acting through centroid\n",
    "h = round((1/3)*((2*wA+wB)/(wA+wB))*3,1)  #[meter]\n",
    "\n",
    "# Result Solution 1\n",
    "print\"Solutuon 1\"\n",
    "print\"FR = \",(FR),\"kN\"\n",
    "print\"h = \",(h),\"m\\n\"\n",
    "\n",
    "# Solution 2\n",
    "FRe = round(wA*3,1)  #[kilo Newton]\n",
    "Ft = round((1/2)*(wB-wA)*3,1)  #[kilo Newton]\n",
    "FR = FRe + Ft  #[kilo Newton]\n",
    "# +ΣMRB(clockwise) = ΣMB\n",
    "h = round((FRe*1.5+Ft*1)/FR,1)  #[meter]\n",
    "\n",
    "# Result Solution 2\n",
    "print\"Solutuon 2\"\n",
    "print\"FR = \",(FR),\"kN\" \n",
    "print\"h = \",(h),\"m\""
   ]
  },
  {
   "cell_type": "markdown",
   "metadata": {},
   "source": [
    "## Ex 9.14 Page No 369"
   ]
  },
  {
   "cell_type": "code",
   "execution_count": 4,
   "metadata": {
    "collapsed": false
   },
   "outputs": [
    {
     "name": "stdout",
     "output_type": "stream",
     "text": [
      "FR =  231.0 kN\n"
     ]
    }
   ],
   "source": [
    "# Example 9.14\n",
    "from __future__ import division\n",
    "\n",
    "# Variable Declaration\n",
    "b = 5  #[meter]\n",
    "pw = 1020  #[kilogram per meter cube]\n",
    "\n",
    "# Calculation\n",
    "pB = round(pw*9.81*3/1000,2)  #[kilo Pascal]\n",
    "wB = round(b*pB,1)  #[kilo Newton per meter]\n",
    "F_x = round((1/2)*3*wB,1)  #[kilo Newton]\n",
    "F_y = round(pw*9.81*5*(1/3)*1*3/1000,1)  #[kilo Newton]\n",
    "FR = round(math.sqrt(F_x**(2)+F_y**(2)),0)  #[kilo Newton]\n",
    "\n",
    "# Result\n",
    "print\"FR = \",(FR),\"kN\""
   ]
  },
  {
   "cell_type": "markdown",
   "metadata": {},
   "source": [
    "## Ex 9.15 Page No 370"
   ]
  },
  {
   "cell_type": "code",
   "execution_count": 31,
   "metadata": {
    "collapsed": false
   },
   "outputs": [
    {
     "name": "stdout",
     "output_type": "stream",
     "text": [
      "F =  1.64 kN\n",
      "xbar =  0\n",
      "zbar =  0.5 m\n"
     ]
    }
   ],
   "source": [
    "# Example 9.15\n",
    "from scipy import integrate\n",
    "from __future__ import division\n",
    "\n",
    "# Calculation\n",
    "a = lambda z: 9810*(z-z**(2))\n",
    "F = round(integrate.quad(a, 0, 1)[0],2)  #[Newton]\n",
    "\n",
    "# Resultant passes through centroid of volume\n",
    "xbar = 0\n",
    "a = lambda z: (9810/1635)*(z**(2)-z**(3))\n",
    "zbar = round(integrate.quad(a, 0, 1)[0],1)  #[meter]\n",
    "\n",
    "# Result\n",
    "print\"F = \",(round(F/1000,2)),\"kN\"\n",
    "print\"xbar = \",(xbar)\n",
    "print\"zbar = \",(zbar),\"m\""
   ]
  },
  {
   "cell_type": "code",
   "execution_count": null,
   "metadata": {
    "collapsed": true
   },
   "outputs": [],
   "source": []
  }
 ],
 "metadata": {
  "anaconda-cloud": {},
  "kernelspec": {
   "display_name": "Python [default]",
   "language": "python",
   "name": "python2"
  },
  "language_info": {
   "codemirror_mode": {
    "name": "ipython",
    "version": 2
   },
   "file_extension": ".py",
   "mimetype": "text/x-python",
   "name": "python",
   "nbconvert_exporter": "python",
   "pygments_lexer": "ipython2",
   "version": "2.7.12"
  }
 },
 "nbformat": 4,
 "nbformat_minor": 1
}
