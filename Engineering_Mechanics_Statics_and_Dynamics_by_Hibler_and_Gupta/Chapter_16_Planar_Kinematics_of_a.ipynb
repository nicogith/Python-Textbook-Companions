{
 "cells": [
  {
   "cell_type": "markdown",
   "metadata": {},
   "source": [
    "# Chapter 16 Planar Kinematics of a Rigid Body"
   ]
  },
  {
   "cell_type": "markdown",
   "metadata": {},
   "source": [
    "## Ex 16.2 Page No 659"
   ]
  },
  {
   "cell_type": "code",
   "execution_count": 5,
   "metadata": {
    "collapsed": false
   },
   "outputs": [
    {
     "name": "stdout",
     "output_type": "stream",
     "text": [
      "vP =  1.23 m/s\n",
      "alphaP =  3.78 m/s**(2)\n"
     ]
    }
   ],
   "source": [
    "# Ex 16.2\n",
    "import math\n",
    "\n",
    "# Variable Declaration\n",
    "alphaA = 2  #[radians per second square]\n",
    "\n",
    "# Calculation\n",
    "thetaB = round(1*(2*math.pi)/1,3)  #[radians]\n",
    "thetaA = round(thetaB*0.4/0.15,2)  #[radians]\n",
    "wA = round(math.sqrt(0+2*2*(thetaA-0)),3)  #[radians per second]\n",
    "wB = wA*0.15/0.4  #[radians per second]\n",
    "alphaB = alphaA*0.15/0.4  #[radians per second square]\n",
    "vP = round(wB*0.4,2)  #[meters per second]\n",
    "alphaPt = alphaB*0.4  #[radians per second square]\n",
    "alphaPn = wB**(2)*0.4  #[radians per second square]\n",
    "alphaP = round(math.sqrt(alphaPt**(2)+alphaPn**(2)),2)  #[radians per second square]\n",
    "\n",
    "# Result\n",
    "print\"vP = \",(vP),\"m/s\"\n",
    "print\"alphaP = \",(alphaP),\"m/s**(2)\""
   ]
  },
  {
   "cell_type": "markdown",
   "metadata": {
    "collapsed": true
   },
   "source": [
    "## Ex 16.5 Page No 666"
   ]
  },
  {
   "cell_type": "code",
   "execution_count": 1,
   "metadata": {
    "collapsed": false
   },
   "outputs": [
    {
     "name": "stdout",
     "output_type": "stream",
     "text": [
      "w =  0.62 rad/s\n",
      "alpha =  -0.416 rad/s**(2)\n"
     ]
    }
   ],
   "source": [
    "# Ex 16.5\n",
    "import math\n",
    "from __future__ import division\n",
    "\n",
    "# Variable Declaration\n",
    "theta = 30  #[degrees]\n",
    "vC = 0.5  #[meter per second]\n",
    "\n",
    "# Calculation\n",
    "s = round(math.sqrt(5-4*math.cos(math.pi*theta/180)),3)  #[meters]\n",
    "w = round((s*0.5)/(2*math.sin(math.pi*theta/180)),3)  #[radians per second]\n",
    "alpha = round((0.5**(2)-2*math.cos(math.pi*theta/180)*w**(2))/(2*math.sin(math.pi*theta/180)),3)  #[Degrees]\n",
    "\n",
    "# Result\n",
    "print\"w = \",(w),\"rad/s\"\n",
    "print\"alpha = \",(alpha),\"rad/s**(2)\""
   ]
  },
  {
   "cell_type": "markdown",
   "metadata": {},
   "source": [
    "## Ex 16.6 Page No 673"
   ]
  },
  {
   "cell_type": "code",
   "execution_count": 17,
   "metadata": {
    "collapsed": false
   },
   "outputs": [
    {
     "name": "stdout",
     "output_type": "stream",
     "text": [
      "w =  14.1 rad/s\n",
      "vB =  2.0 m/s\n"
     ]
    }
   ],
   "source": [
    "# Ex 16.6\n",
    "import math\n",
    "\n",
    "# Variable Declaration\n",
    "vA = 2  #[meters per second]\n",
    "theta = 45  #[Degrees]\n",
    "\n",
    "# Calculation\n",
    "# Equating j component\n",
    "w = round(vA/(0.2*math.sin(math.pi*theta/180)),1)  #[radians per second]\n",
    "# Equating i component\n",
    "vB = round(0.2*w*math.sin(math.pi*theta/180),1)  #[meters per second]\n",
    "\n",
    "# Result\n",
    "print\"w = \",(w),\"rad/s\"\n",
    "print\"vB = \",(vB),\"m/s\""
   ]
  },
  {
   "cell_type": "markdown",
   "metadata": {},
   "source": [
    "## Ex 16.7 Page No 674"
   ]
  },
  {
   "cell_type": "code",
   "execution_count": 11,
   "metadata": {
    "collapsed": false
   },
   "outputs": [
    {
     "name": "stdout",
     "output_type": "stream",
     "text": [
      "Solution 1 Vector Analysis\n",
      "vA =  5.0 m/s\n",
      "theta =  36.9 degrees\n",
      "\n",
      "Solution 2 Scalar Analysis\n",
      "vA =  5.0 m/s\n",
      "theta =  36.9 degrees\n"
     ]
    }
   ],
   "source": [
    "# Ex 16.7\n",
    "import math\n",
    "\n",
    "# Calculation\n",
    "# Solution 1 Vector Analysis\n",
    "vA_x = 1+3.0  #[meters per second]\n",
    "vA_y = 3   #[meters per second]\n",
    "vA = round(math.sqrt(vA_x**(2)+vA_y**(2)),1)   #[meters per second]\n",
    "theta = round(math.degrees(math.atan(vA_y/vA_x)),1)  #[Degrees]\n",
    "\n",
    "# Result 1 Vector Analysis\n",
    "print\"Solution 1 Vector Analysis\"\n",
    "print\"vA = \",(vA),\"m/s\"\n",
    "print\"theta = \",(theta),\"degrees\\n\"\n",
    "\n",
    "# Solution 2  Scalar Analysis\n",
    "vA_x = 1+4.24*math.cos(math.pi*45/180)   #[meters per second]\n",
    "vA_y = 0+4.24*math.sin(math.pi*45/180)   #[meters per second]\n",
    "vA = round(math.sqrt(vA_x**(2)+vA_y**(2)),1)   #[meters per second]\n",
    "theta = round(math.degrees(math.atan(vA_y/vA_x)),1)  #[Degrees]\n",
    "\n",
    "# Result 2 Scalar Analysis\n",
    "print\"Solution 2 Scalar Analysis\"\n",
    "print\"vA = \",(vA),\"m/s\"\n",
    "print\"theta = \",(theta),\"degrees\""
   ]
  },
  {
   "cell_type": "markdown",
   "metadata": {},
   "source": [
    "## Ex 16.8 Page No 675"
   ]
  },
  {
   "cell_type": "code",
   "execution_count": 14,
   "metadata": {
    "collapsed": false
   },
   "outputs": [
    {
     "name": "stdout",
     "output_type": "stream",
     "text": [
      "vB =  2.0 m/s\n",
      "wAB =  10.0 rad/s\n"
     ]
    }
   ],
   "source": [
    "# Ex 16.8\n",
    "\n",
    "# Calculation\n",
    "# Link CB\n",
    "wCB = 2/0.2  #[radians per second]\n",
    "vB = 0.2*wCB  #[meters per second]\n",
    "# Link AB\n",
    "wAB = 2/0.2  #[radians per second]\n",
    "\n",
    "# Result\n",
    "print\"vB = \",(vB),\"m/s\"\n",
    "print\"wAB = \",(wAB),\"rad/s\""
   ]
  },
  {
   "cell_type": "markdown",
   "metadata": {},
   "source": [
    "## Ex 16.9 Page No 676"
   ]
  },
  {
   "cell_type": "code",
   "execution_count": 25,
   "metadata": {
    "collapsed": false
   },
   "outputs": [
    {
     "name": "stdout",
     "output_type": "stream",
     "text": [
      "wBC =  15.0 rad/s\n",
      "wD =  52.0 rad/s\n"
     ]
    }
   ],
   "source": [
    "# Ex 16.9\n",
    "\n",
    "# Calculation\n",
    "# Link BC\n",
    "vC = 5.20  #[meters per second]\n",
    "wBC = 3.0/0.2  #[radians per second]\n",
    "# Wheel\n",
    "wD = 5.20/0.1  #[radians per second]\n",
    "\n",
    "# Result\n",
    "print\"wBC = \",(wBC),\"rad/s\"\n",
    "print\"wD = \",(wD),\"rad/s\""
   ]
  },
  {
   "cell_type": "markdown",
   "metadata": {},
   "source": [
    "## Ex 16.11 Page No 684"
   ]
  },
  {
   "cell_type": "code",
   "execution_count": 22,
   "metadata": {
    "collapsed": false
   },
   "outputs": [
    {
     "name": "stdout",
     "output_type": "stream",
     "text": [
      "wBD =  5.3 rad/s\n",
      "wAB =  5.3 rad/s\n"
     ]
    }
   ],
   "source": [
    "# Ex 16.10\n",
    "import math\n",
    "\n",
    "# Variable Declaration\n",
    "vD = 3  #[meters per second]\n",
    "\n",
    "# Calculation\n",
    "rBIC = round(0.4*math.tan(math.pi*45/180),1)   #[meters]\n",
    "rDIC = round(0.4/math.cos(math.pi*45/180),3)   #[meters]\n",
    "wBD = round(vD/rDIC,2)  #[radians per second]\n",
    "vB = wBD*rBIC  #[meters per second]\n",
    "wAB = vB/0.4  #[radians per second]\n",
    "\n",
    "# Result\n",
    "print\"wBD = \",(wBD),\"rad/s\"\n",
    "print\"wAB = \",(wAB),\"rad/s\"\n",
    "\n"
   ]
  },
  {
   "cell_type": "markdown",
   "metadata": {},
   "source": [
    "## Ex 16.12 Page No 685"
   ]
  },
  {
   "cell_type": "code",
   "execution_count": 24,
   "metadata": {
    "collapsed": false
   },
   "outputs": [
    {
     "name": "stdout",
     "output_type": "stream",
     "text": [
      "w =  2.6 rad/s\n",
      "vC =  0.075 m/s\n"
     ]
    }
   ],
   "source": [
    "# Ex 16.12\n",
    "\n",
    "# Calculation\n",
    "x = 0.1/0.65   #[meters]\n",
    "w = 0.4/x  #[radians per second]\n",
    "vC = w*(x-0.125)  #[meters per second]\n",
    "\n",
    "# Result\n",
    "print\"w = \",(w),\"rad/s\"\n",
    "print\"vC = \",(vC),\"m/s\""
   ]
  },
  {
   "cell_type": "markdown",
   "metadata": {},
   "source": [
    "## Ex 16.13 Page No 691"
   ]
  },
  {
   "cell_type": "code",
   "execution_count": 28,
   "metadata": {
    "collapsed": false
   },
   "outputs": [
    {
     "name": "stdout",
     "output_type": "stream",
     "text": [
      "alpha =  0.344 rad/s**(2)\n"
     ]
    }
   ],
   "source": [
    "# Ex 16.13\n",
    "import numpy as np\n",
    "import math\n",
    "\n",
    "# Calculation\n",
    "a = np.array([[math.cos(math.pi*45/180),0],[math.sin(math.pi*45/180),-10]])\n",
    "b = np.array([3*math.cos(math.pi*45/180)-0.283**(2)*10,-3*math.sin(math.pi*45/180)])\n",
    "x = np.linalg.solve(a, b)\n",
    "aB = x[0]  #[meters per second square]\n",
    "alpha = round(x[1],3)  #[radians per second square]\n",
    "              \n",
    "# Result\n",
    "print\"alpha = \",(alpha),\"rad/s**(2)\"              "
   ]
  },
  {
   "cell_type": "markdown",
   "metadata": {},
   "source": [
    "## Ex 16.15 Page No 693"
   ]
  },
  {
   "cell_type": "code",
   "execution_count": 29,
   "metadata": {
    "collapsed": false
   },
   "outputs": [
    {
     "name": "stdout",
     "output_type": "stream",
     "text": [
      "aB_x  =  -20.0 m/s**(2)\n",
      "aB_y  =  2.0 m/s**(2)\n",
      "aA_x  =  -4.0 m/s**(2)\n",
      "aA_y  =  -18.0 m/s**(2)\n"
     ]
    }
   ],
   "source": [
    "# Ex 16.15\n",
    "\n",
    "# Calculation\n",
    "# For point B\n",
    "aB_x = -2-6**(2)*0.5  #[meters per second square]\n",
    "aB_y = 4*0.5  #[meters per second square]\n",
    "# For point A\n",
    "aA_x = -2-4*0.5  #[meters per second square]\n",
    "aA_y = -6**(2)*0.5  #[meters per second square]\n",
    "\n",
    "# Result\n",
    "print\"aB_x  = \",(aB_x),\"m/s**(2)\"\n",
    "print\"aB_y  = \",(aB_y),\"m/s**(2)\"\n",
    "print\"aA_x  = \",(aA_x),\"m/s**(2)\"\n",
    "print\"aA_y  = \",(aA_y),\"m/s**(2)\""
   ]
  },
  {
   "cell_type": "markdown",
   "metadata": {},
   "source": [
    "## Ex 16.16 Page No 694"
   ]
  },
  {
   "cell_type": "code",
   "execution_count": 2,
   "metadata": {
    "collapsed": false
   },
   "outputs": [
    {
     "name": "stdout",
     "output_type": "stream",
     "text": [
      "aB =  9.25 m/s**(2)\n",
      "theta =  71.1 degrees\n"
     ]
    }
   ],
   "source": [
    "# Ex 16.16\n",
    "import math\n",
    "\n",
    "# Variable Declaration\n",
    "w = 3  #[radians per second]\n",
    "alpha = 4  #[radians per second square]\n",
    "\n",
    "# Calculation\n",
    "aB_x = alpha*0.75  #[meters per second square]\n",
    "aB_y = -2-w**(2)*0.75  #[meters per second square]\n",
    "aB = round(math.sqrt(aB_x**(2)+aB_y**(2)),2)  #[meters per second square]\n",
    "theta = round(math.degrees(math.atan(-aB_y/aB_x)),1)  #[Degrees]\n",
    "\n",
    "# Result\n",
    "print\"aB = \",(aB),\"m/s**(2)\"\n",
    "print\"theta = \",(theta),\"degrees\""
   ]
  },
  {
   "cell_type": "markdown",
   "metadata": {},
   "source": [
    "## Ex 16.17 Page No 695"
   ]
  },
  {
   "cell_type": "code",
   "execution_count": 34,
   "metadata": {
    "collapsed": false
   },
   "outputs": [
    {
     "name": "stdout",
     "output_type": "stream",
     "text": [
      "alphaCB =  5.0 rad/s**(2)\n",
      "alphaAB =  -95.0 rad/s**(2)\n"
     ]
    }
   ],
   "source": [
    "# Ex 16.17\n",
    "import numpy as np\n",
    "\n",
    "# Calculation\n",
    "a = np.array([[0.2,-0.2],[0,0.2]])\n",
    "b = np.array([-20,1])\n",
    "x = np.linalg.solve(a, b)\n",
    "alphaAB = round(x[0],1)  #[meters per second square]\n",
    "alphaCB = round(x[1],1)  #[radians per second square]\n",
    "                \n",
    "# Result\n",
    "print\"alphaCB = \",(alphaCB),\"rad/s**(2)\"   \n",
    "print\"alphaAB = \",(alphaAB),\"rad/s**(2)\"                "
   ]
  },
  {
   "cell_type": "markdown",
   "metadata": {},
   "source": [
    "## Ex 16.18 Page No 696"
   ]
  },
  {
   "cell_type": "code",
   "execution_count": 40,
   "metadata": {
    "collapsed": false
   },
   "outputs": [
    {
     "name": "stdout",
     "output_type": "stream",
     "text": [
      "alphaBC =  27.7 rad/s**(2)\n",
      "aC =  -13.6 m/s**(2)\n"
     ]
    }
   ],
   "source": [
    "# Ex 16.18\n",
    "import numpy as np\n",
    "import math\n",
    "\n",
    "# Calculation\n",
    "rB_x = -0.25*math.sin(math.pi*45/180)  #[meters]\n",
    "rB_y = 0.25*math.cos(math.pi*45/180)  #[meters]\n",
    "rCB_x = 0.75*math.sin(math.pi*13.6/180)  #[meters]\n",
    "rCB_y = 0.75*math.cos(math.pi*13.6/180)  #[meters]\n",
    "aB_x = np.cross([0,0,-20],[-0.177,0.177,0])[0]-10**(2)*-0.177  #[meters per second square]\n",
    "aB_y = np.cross([0,0,-20],[-0.177,0.177,0])[1]-10**(2)*0.177   #[meters per second square]\n",
    "alphaBC = round(20.17/0.729,1)   #[radians per second square]\n",
    "aC = round(0.176*alphaBC-18.45,1)   #[meters per second square]\n",
    "\n",
    "# Result\n",
    "print\"alphaBC = \",(alphaBC),\"rad/s**(2)\"\n",
    "print\"aC = \",(aC),\"m/s**(2)\""
   ]
  },
  {
   "cell_type": "markdown",
   "metadata": {},
   "source": [
    "## Ex 16.19 Page No 705"
   ]
  },
  {
   "cell_type": "code",
   "execution_count": 43,
   "metadata": {
    "collapsed": false
   },
   "outputs": [
    {
     "name": "stdout",
     "output_type": "stream",
     "text": [
      "aCor_x =  0 m/s**(2)\n",
      "aCor_y =  -12 m/s**(2)\n",
      "vC_x =  2 m/s\n",
      "vC_y =  -0.6 m/s\n",
      "aC_x =  1.2 m/s\n",
      "aC_y =  -12.4 m/s\n"
     ]
    }
   ],
   "source": [
    "# Ex 16.19\n",
    "import numpy as np\n",
    "\n",
    "# Calculation\n",
    "aCor_x = np.cross([0,0,2*-3],[2,0,0])[0]  #[meters per second square]\n",
    "aCor_y = np.cross([0,0,2*-3],[2,0,0])[1]  #[meters per second square]\n",
    "vC_x = 2  #[meters per second]\n",
    "vC_y = -0.6  #[meters per second]\n",
    "aC_x = 3-1.80  #[meters per second square]\n",
    "aC_y = -0.4-12  #[meters per second square]\n",
    "\n",
    "# Result\n",
    "print\"aCor_x = \",(aCor_x),\"m/s**(2)\"\n",
    "print\"aCor_y = \",(aCor_y),\"m/s**(2)\"\n",
    "print\"vC_x = \",(vC_x),\"m/s\"\n",
    "print\"vC_y = \",(vC_y),\"m/s\"\n",
    "print\"aC_x = \",(aC_x),\"m/s\"\n",
    "print\"aC_y = \",(aC_y),\"m/s\""
   ]
  },
  {
   "cell_type": "markdown",
   "metadata": {},
   "source": [
    "## Ex 16.20 Page No 706"
   ]
  },
  {
   "cell_type": "code",
   "execution_count": 45,
   "metadata": {
    "collapsed": false
   },
   "outputs": [
    {
     "name": "stdout",
     "output_type": "stream",
     "text": [
      "wDE =  3 rad/s\n",
      "alphaDE =  -5.0 rad/s**(2)\n"
     ]
    }
   ],
   "source": [
    "# Ex 16.20\n",
    "\n",
    "# Calculation\n",
    "vCDxyz = 1.2  #[meters per second]\n",
    "wDE = 3  #[radians per second]\n",
    "aCDxyz = 3.6-2  #[meters per second square]\n",
    "alphaDE = (7.2-5.2)/-0.4  #[radians per second square]\n",
    "\n",
    "# Result\n",
    "print\"wDE = \",(wDE),\"rad/s\"\n",
    "print\"alphaDE = \",(alphaDE),\"rad/s**(2)\""
   ]
  },
  {
   "cell_type": "markdown",
   "metadata": {
    "collapsed": true
   },
   "source": [
    "## Ex 16.21 Page No 707"
   ]
  },
  {
   "cell_type": "code",
   "execution_count": 6,
   "metadata": {
    "collapsed": false
   },
   "outputs": [
    {
     "name": "stdout",
     "output_type": "stream",
     "text": [
      "vABxyz_x =  0 km/h\n",
      "vABxyz_y =  94.0 km/h\n",
      "aABxyz_x =  -609 km/h**(2)\n",
      "aABxyz_y =  152 km/h**(2)\n"
     ]
    }
   ],
   "source": [
    "# Ex 16.21\n",
    "\n",
    "# Calculation\n",
    "vABxyz_x = 0  #[kilometer per hour]\n",
    "vABxyz_y = 700-600-(-1.5*-4)   #[kilometer per hour]\n",
    "aABxyz_x = -900+9+282  #[kilometer per hour square]\n",
    "aABxyz_y = 50+100+2  #[kilometer per hour square]\n",
    "\n",
    "# Result\n",
    "print\"vABxyz_x = \",(vABxyz_x),\"km/h\"\n",
    "print\"vABxyz_y = \",(vABxyz_y),\"km/h\"\n",
    "print\"aABxyz_x = \",(aABxyz_x),\"km/h**(2)\"\n",
    "print\"aABxyz_y = \",(aABxyz_y),\"km/h**(2)\""
   ]
  },
  {
   "cell_type": "code",
   "execution_count": null,
   "metadata": {
    "collapsed": true
   },
   "outputs": [],
   "source": []
  }
 ],
 "metadata": {
  "anaconda-cloud": {},
  "kernelspec": {
   "display_name": "Python [default]",
   "language": "python",
   "name": "python2"
  },
  "language_info": {
   "codemirror_mode": {
    "name": "ipython",
    "version": 2
   },
   "file_extension": ".py",
   "mimetype": "text/x-python",
   "name": "python",
   "nbconvert_exporter": "python",
   "pygments_lexer": "ipython2",
   "version": "2.7.12"
  }
 },
 "nbformat": 4,
 "nbformat_minor": 1
}
