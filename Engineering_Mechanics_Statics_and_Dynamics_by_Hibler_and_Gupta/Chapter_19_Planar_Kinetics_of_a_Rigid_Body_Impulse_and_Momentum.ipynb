{
 "cells": [
  {
   "cell_type": "markdown",
   "metadata": {},
   "source": [
    "# Chapter 19 Planar Kinetics of a Rigid Body Impulse and Momentum"
   ]
  },
  {
   "cell_type": "markdown",
   "metadata": {},
   "source": [
    "## Ex 19.1 Page No 802"
   ]
  },
  {
   "cell_type": "code",
   "execution_count": 3,
   "metadata": {
    "collapsed": false
   },
   "outputs": [
    {
     "name": "stdout",
     "output_type": "stream",
     "text": [
      "HG =  2.5 m**(2)/s\n",
      "HB =  7.5 m**(2)/s\n",
      "HG =  3.85 m**(2)/s\n",
      "HIC =  15.4 m**(2)/s\n"
     ]
    }
   ],
   "source": [
    "# Ex 19.1\n",
    "from __future__ import division \n",
    "\n",
    "# Variable Declaration\n",
    "md = 10  #[kilogram]\n",
    "mb = 5  #[kilogram]\n",
    "\n",
    "# Calculation Disk\n",
    "# Using +HG(clockwise) = IG*w\n",
    "HG = (1/2)*md*0.25**(2)*8  #[meters square per second]\n",
    "# Using +HB(clockwise) = IG*w +m(vG)rG\n",
    "HB = HG+md*2*0.25  #[meters square per second]\n",
    "\n",
    "# Result Disk\n",
    "print\"HG = \",(HG),\"m**(2)/s\"\n",
    "print\"HB = \",(HB),\"m**(2)/s\"\n",
    "\n",
    "\n",
    "# Calculation Bar\n",
    "# Using +HG(clockwise) = IG*w\n",
    "HG = round((1/12)*mb*4**(2)*0.5774,2)  #[meters square per second]\n",
    "HIC = round(HG+2*mb*1.155,2)  #[meters square per second]\n",
    "\n",
    "# Result Bar\n",
    "print\"HG = \",(HG),\"m**(2)/s\"\n",
    "print\"HIC = \",(HIC),\"m**(2)/s\"\n"
   ]
  },
  {
   "cell_type": "markdown",
   "metadata": {},
   "source": [
    "## Ex 19.2 Page No 806"
   ]
  },
  {
   "cell_type": "code",
   "execution_count": 4,
   "metadata": {
    "collapsed": false
   },
   "outputs": [
    {
     "name": "stdout",
     "output_type": "stream",
     "text": [
      "Ax =  0.0 N\n",
      "Ay =  140.0 N\n",
      "w2 =  69.7 rad/s\n"
     ]
    }
   ],
   "source": [
    "# Ex 19.2\n",
    "import numpy as np\n",
    "from __future__ import division \n",
    "\n",
    "# Calculation\n",
    "IA = round((1/2)*(100/9.81)*0.3**(2),3)  #[kilogram meter square]\n",
    "# Using principle of impulse and momentum\n",
    "a = np.array([[2,0,0],[0,2,0],[0,0,IA]])\n",
    "b = np.array([0,100*2+40*2,4*2+40*2*0.3])\n",
    "x = np.linalg.solve(a, b)\n",
    "Ax = round(x[0],1)  #[Newton]\n",
    "Ay = round(x[1],1)  #[Newton]\n",
    "w2 = round(x[2],1)  #[radians per second]\n",
    "\n",
    "# Result\n",
    "print\"Ax = \",(Ax),\"N\"\n",
    "print\"Ay = \",(Ay),\"N\"\n",
    "print\"w2 = \",(w2),\"rad/s\""
   ]
  },
  {
   "cell_type": "markdown",
   "metadata": {},
   "source": [
    "## Ex 19.3 Page No 807"
   ]
  },
  {
   "cell_type": "code",
   "execution_count": 6,
   "metadata": {
    "collapsed": false
   },
   "outputs": [
    {
     "name": "stdout",
     "output_type": "stream",
     "text": [
      "w2 =  1.05 rad/s\n"
     ]
    }
   ],
   "source": [
    "# Ex 19.3\n",
    "import numpy as np\n",
    "from __future__ import division \n",
    "\n",
    "# Calculation\n",
    "IG = round(100*0.35**(2),3)  #[kilogram meter square]\n",
    "# Using principle of impulse and momentum\n",
    "a = np.array([[1,100*0.75],[0.75,-12.25]])\n",
    "b = np.array([62.5,-25])\n",
    "x = np.linalg.solve(a, b)\n",
    "w2 = round(x[1],2)  #[radians per second]\n",
    "\n",
    "# Result\n",
    "\n",
    "print\"w2 = \",(w2),\"rad/s\""
   ]
  },
  {
   "cell_type": "markdown",
   "metadata": {},
   "source": [
    "## Ex 19.4 Page No 808"
   ]
  },
  {
   "cell_type": "code",
   "execution_count": 13,
   "metadata": {
    "collapsed": false
   },
   "outputs": [
    {
     "name": "stdout",
     "output_type": "stream",
     "text": [
      "Solution 1\n",
      "vB2 =  13.0 m/s\n",
      "\n",
      "Solution 2\n",
      "vB2 =  26.0725 m/s\n"
     ]
    }
   ],
   "source": [
    "# Ex 19.4\n",
    "import numpy as np\n",
    "from __future__ import division \n",
    "\n",
    "# Variable Declaration\n",
    "IA = 0.40  #[kilogram meter square]\n",
    "\n",
    "# Calculation Solution 1\n",
    "# Using principle of impulse and momentum\n",
    "a = np.array([[3*0.2,-IA/0.2],[3,6]])\n",
    "b = np.array([-IA*10,6*2+58.86*3])\n",
    "x = np.linalg.solve(a, b)\n",
    "T = round(x[0],1)  #[Newton]\n",
    "vB2 = round(x[1],1)  #[meters per second]\n",
    "\n",
    "# Result Solution 1\n",
    "print\"Solution 1\"\n",
    "print\"vB2 = \",(vB2),\"m/s\\n\"\n",
    "\n",
    "# Calculation Solution 2\n",
    "# Using principle of angular impulse and momentum\n",
    "vB2 = (6*2*0.2+0.4*10+58.86*3*0.2)/(6*0.2+0.4*5*0.2)   #[meters per second]\n",
    "\n",
    "\n",
    "# Result Solution 2\n",
    "print\"Solution 2\"\n",
    "print\"vB2 = \",(vB2),\"m/s\""
   ]
  },
  {
   "cell_type": "markdown",
   "metadata": {},
   "source": [
    "## Ex 19.6 Page No 816"
   ]
  },
  {
   "cell_type": "code",
   "execution_count": 18,
   "metadata": {
    "collapsed": false
   },
   "outputs": [
    {
     "name": "stdout",
     "output_type": "stream",
     "text": [
      "vG1 =  0.73 m/s\n"
     ]
    }
   ],
   "source": [
    "# Ex 19.5\n",
    "from __future__ import division\n",
    "import math\n",
    "\n",
    "# Variable Declaration\n",
    "IG = 0.156  #[kilogram meter square]\n",
    "\n",
    "# Calculation\n",
    "# Using principle of conservation of energy\n",
    "vG2 = math.sqrt((98.1*0.03)/((1/2)*10+(1/2)*IG*25))  #[meters per second]\n",
    "# vG2 = 0.892*vG1\n",
    "vG1 = round(vG2/0.892,3)   #[meters per second]\n",
    "\n",
    "# Result\n",
    "print\"vG1 = \",(vG1),\"m/s\"\n"
   ]
  },
  {
   "cell_type": "markdown",
   "metadata": {},
   "source": [
    "## Ex 19.7 Page No 817"
   ]
  },
  {
   "cell_type": "code",
   "execution_count": 21,
   "metadata": {
    "collapsed": false
   },
   "outputs": [
    {
     "name": "stdout",
     "output_type": "stream",
     "text": [
      "w2 =  0.622 rad/s\n"
     ]
    }
   ],
   "source": [
    "# Ex 19.7\n",
    "from __future__ import division\n",
    "\n",
    "# Calculation\n",
    "#  Σ(HO)1 =  Σ(HO)2, vG2 = 0.5*w2 and vB2 = 0.75*w2\n",
    "w2 = round((1.039)/(0.003*0.75+2.5*0.5+0.417),3)  #[radians per second]\n",
    "\n",
    "# Result\n",
    "print\"w2 = \",(w2),\"rad/s\""
   ]
  },
  {
   "cell_type": "markdown",
   "metadata": {},
   "source": [
    "## Ex 19.8 Page No 821"
   ]
  },
  {
   "cell_type": "code",
   "execution_count": 24,
   "metadata": {
    "collapsed": false
   },
   "outputs": [
    {
     "name": "stdout",
     "output_type": "stream",
     "text": [
      "w2 =  3.65 rad/s\n"
     ]
    }
   ],
   "source": [
    "# Ex 19.8\n",
    "import numpy as np\n",
    "\n",
    "# Calculation\n",
    "# Using principle of conservation of angular momentum and coefficient of restitution\n",
    "a = np.array([[1.67,0.5],[0.5,-1]])\n",
    "b = np.array([5,4])\n",
    "x = np.linalg.solve(a, b)\n",
    "w2 = round(x[0],2)  #[radians per second]\n",
    "vB2 = round(x[1],2)  #[meters per second]\n",
    "\n",
    "# Result\n",
    "print\"w2 = \",(w2),\"rad/s\""
   ]
  },
  {
   "cell_type": "code",
   "execution_count": null,
   "metadata": {
    "collapsed": true
   },
   "outputs": [],
   "source": []
  }
 ],
 "metadata": {
  "anaconda-cloud": {},
  "kernelspec": {
   "display_name": "Python [default]",
   "language": "python",
   "name": "python2"
  },
  "language_info": {
   "codemirror_mode": {
    "name": "ipython",
    "version": 2
   },
   "file_extension": ".py",
   "mimetype": "text/x-python",
   "name": "python",
   "nbconvert_exporter": "python",
   "pygments_lexer": "ipython2",
   "version": "2.7.12"
  }
 },
 "nbformat": 4,
 "nbformat_minor": 1
}
