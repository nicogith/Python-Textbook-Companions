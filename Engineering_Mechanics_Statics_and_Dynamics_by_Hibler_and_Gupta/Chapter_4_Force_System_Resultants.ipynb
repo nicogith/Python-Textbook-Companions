{
 "cells": [
  {
   "cell_type": "markdown",
   "metadata": {},
   "source": [
    "# Chapter 4 : Force System Resultants"
   ]
  },
  {
   "cell_type": "markdown",
   "metadata": {},
   "source": [
    "## Ex 4.1 Page No 98"
   ]
  },
  {
   "cell_type": "code",
   "execution_count": 5,
   "metadata": {
    "collapsed": false
   },
   "outputs": [
    {
     "name": "stdout",
     "output_type": "stream",
     "text": [
      "Fig 4-4a MO =  200 N.m(clockwise)\n",
      "Fig 4-4b MO =  37.5 N.m(clockwise)\n",
      "Fig 4-4c MO =  229.3 N.m(clockwise)\n",
      "Fig 4-4d MO =  42.4 N.m(anti clockwise)\n",
      "Fig 4-4e MO =  21.0 kN.m(anti clockwise)\n"
     ]
    }
   ],
   "source": [
    "# Ex 4.1\n",
    "import math\n",
    "\n",
    "# Calculation Fig 4-4a\n",
    "MO = 100*2  #[Newton meter]\n",
    "\n",
    "# Result Fig 4-4a\n",
    "print\"Fig 4-4a MO = \",(MO),\"N.m(clockwise)\"\n",
    "\n",
    "# Calculation Fig 4-4b\n",
    "MO = 50*0.75  #[Newton meter]\n",
    "\n",
    "# Result Fig 4-4b\n",
    "print\"Fig 4-4b MO = \",(MO),\"N.m(clockwise)\"\n",
    "\n",
    "# Calculation Fig 4-4c\n",
    "MO = round(40*(4+2*math.cos(math.pi*30/180)),1)  #[Newton meter]\n",
    "\n",
    "# Result Fig 4-4b\n",
    "print\"Fig 4-4c MO = \",(MO),\"N.m(clockwise)\"\n",
    "\n",
    "# Calculation Fig 4-4d\n",
    "MO = round(60*1*math.sin(math.pi*45/180),1)  #[Newton meter]\n",
    "\n",
    "# Result Fig 4-4d\n",
    "print\"Fig 4-4d MO = \",(MO),\"N.m(anti clockwise)\"\n",
    "\n",
    "# Calculation Fig 4-4e\n",
    "MO = round(7*(4-1),1)  #[Newton meter]\n",
    "\n",
    "# Result Fig 4-4e\n",
    "print\"Fig 4-4e MO = \",(MO),\"kN.m(anti clockwise)\""
   ]
  },
  {
   "cell_type": "markdown",
   "metadata": {},
   "source": [
    "## Ex 4.2 Page No 99"
   ]
  },
  {
   "cell_type": "code",
   "execution_count": 1,
   "metadata": {
    "collapsed": false
   },
   "outputs": [
    {
     "name": "stdout",
     "output_type": "stream",
     "text": [
      "MA =  2000.0 N.m(clockwise)\n",
      "MB =  1200.0 N.m(clockwise)\n",
      "MC =  0\n",
      "MD =  400.0 N.m(anti clockwise)\n"
     ]
    }
   ],
   "source": [
    "# Example 4.2\n",
    "\n",
    "# Variable Declaration\n",
    "F = 800  #[Newton]\n",
    "\n",
    "# Calculation\n",
    "MA = F*2.5  #[Newton meter]\n",
    "MB = F*1.5  #[Newton meter]\n",
    "MC = F*0  #[Newton meter]\n",
    "MD = F*0.5  #[Newton meter]\n",
    "\n",
    "# Result\n",
    "print\"MA = \",(MA),\"N.m(clockwise)\"\n",
    "print\"MB = \",(MB),\"N.m(clockwise)\"\n",
    "print\"MC = \",(MC)\n",
    "print\"MD = \",(MD),\"N.m(anti clockwise)\""
   ]
  },
  {
   "cell_type": "markdown",
   "metadata": {},
   "source": [
    "## Ex 4.3 Page No 99"
   ]
  },
  {
   "cell_type": "code",
   "execution_count": 11,
   "metadata": {
    "collapsed": false
   },
   "outputs": [
    {
     "name": "stdout",
     "output_type": "stream",
     "text": [
      "MRO =  -334.0 N.m =  334.0 N.m(clockwise)\n"
     ]
    }
   ],
   "source": [
    "# Ex 4.3\n",
    "import math\n",
    "\n",
    "# Calculation\n",
    "# Assuming positive moments act in +k direction i.e counterclockwise\n",
    "# +MRO(counterclockwise) = ΣFd\n",
    "MRO = round(-50*(2)+60*(0)+20*(3*math.sin(30*math.pi/180))-40*(4+3*math.cos(30*math.pi/180)),0)  #[Newton meter]\n",
    "\n",
    "# Result\n",
    "print\"MRO = \",(MRO),\"N.m = \",(abs(MRO)),\"N.m(clockwise)\""
   ]
  },
  {
   "cell_type": "markdown",
   "metadata": {},
   "source": [
    "## Ex 4.4 Page No 106"
   ]
  },
  {
   "cell_type": "code",
   "execution_count": 2,
   "metadata": {
    "collapsed": false
   },
   "outputs": [
    {
     "name": "stdout",
     "output_type": "stream",
     "text": [
      "MA =  224.0 N.m\n"
     ]
    }
   ],
   "source": [
    "# Ex 4.4\n",
    "import math\n",
    "import numpy as np\n",
    "\n",
    "# Variable Declaration\n",
    "F = 60  #[Newton]\n",
    "B_x = 1  #[meter]\n",
    "B_y = 3  #[meter]\n",
    "B_z = 2  #[meter]\n",
    "C_x = 3  #[meter]\n",
    "C_y = 4  #[meter]\n",
    "C_z = 0  #[meter]\n",
    "\n",
    "# Calculation\n",
    "rB_x = B_x  #[meter]\n",
    "rB_y = B_y  #[meter]\n",
    "rB_z = B_z  #[meter]\n",
    "F_x = round(F*((C_x-B_x)/math.sqrt((C_x-B_x)**(2)+(C_y-B_y)**(2)+(C_z-B_z)**(2))),1)  #[Newton]\n",
    "F_y = round(F*((C_y-B_y)/math.sqrt((C_x-B_x)**(2)+(C_y-B_y)**(2)+(C_z-B_z)**(2))),1)  #[Newton]\n",
    "F_z = round(F*((C_z-B_z)/math.sqrt((C_x-B_x)**(2)+(C_y-B_y)**(2)+(C_z-B_z)**(2))),1)  #[Newton]\n",
    "\n",
    "# Let a = rB X F\n",
    "a = np.cross([rB_x,rB_y,rB_z],[F_x,F_y,F_z])\n",
    "MA_x = a[0]  #[Newton meter]\n",
    "MA_y = a[1]  #[Newton meter]\n",
    "MA_z = a[2]  #[Newton meter]\n",
    "MA = round(math.sqrt(MA_x**(2)+MA_y**(2)+MA_z**(2)),0)  #[Newton meter]\n",
    "\n",
    "# Result\n",
    "print\"MA = \",(MA),\"N.m\""
   ]
  },
  {
   "cell_type": "markdown",
   "metadata": {
    "collapsed": true
   },
   "source": [
    "## Ex 4.5 Page No 107"
   ]
  },
  {
   "cell_type": "code",
   "execution_count": 4,
   "metadata": {
    "collapsed": false
   },
   "outputs": [
    {
     "name": "stdout",
     "output_type": "stream",
     "text": [
      "MRO_x =  30 N.m\n",
      "MRO_y =  -40 N.m\n",
      "MRO_z =  60 N.m\n",
      "alpha =  67.4 degrees\n",
      "beta =  120.8 degrees\n",
      "gamma =  39.8 degrees\n"
     ]
    }
   ],
   "source": [
    "# Example 4.5\n",
    "import math\n",
    "from __future__ import division\n",
    "import numpy as np\n",
    "\n",
    "# Variable Declaration\n",
    "F1_x = -60   #[Newton]\n",
    "F1_y = 40   #[Newton]\n",
    "F1_z = 20   #[Newton]\n",
    "F2_x = 0   #[Newton]\n",
    "F2_y = 50   #[Newton]\n",
    "F2_z = 0   #[Newton]\n",
    "F3_x = 80   #[Newton]\n",
    "F3_y = 40   #[Newton]\n",
    "F3_z = -30   #[Newton]\n",
    "rA_x = 0  #[meter]\n",
    "rA_y = 5   #[meter]\n",
    "rA_z = 0   #[meter]\n",
    "rB_x = 4   #[meter]\n",
    "rB_y = 5   #[meter]\n",
    "rB_z = -2   #[meter]\n",
    "\n",
    "# Calculation\n",
    "# Let MRO be resultant moment about O\n",
    "# Let a = rA X F1, b = rA X F2, c = rB X F3\n",
    "a = np.cross([rA_x,rA_y,rA_z],[F1_x,F1_y,F1_z])\n",
    "b = np.cross([rA_x,rA_y,rA_z],[F2_x,F2_y,F2_z])\n",
    "c = np.cross([rB_x,rB_y,rB_z],[F3_x,F3_y,F3_z])\n",
    "MRO_x = a[0]+b[0]+c[0]  #[Newton meter]\n",
    "MRO_y = a[1]+b[1]+c[1]  #[Newton meter]\n",
    "MRO_z = a[2]+b[2]+c[2]  #[Newton meter]\n",
    "MRO = round(math.sqrt(MRO_x**(2)+MRO_y**(2)+MRO_z**(2)),2)  #[Newton meter]\n",
    "\n",
    "# Let u be unit vector which defines the direction of moment axis\n",
    "u_x = MRO_x/MRO\n",
    "u_y = MRO_y/MRO\n",
    "u_z = MRO_z/MRO\n",
    "\n",
    "# Let alpha,beta and gamma be coordinate direction angles of moment axis \n",
    "alpha = round(math.degrees(math.acos(u_x)),1)  #[degrees]\n",
    "beta = round(math.degrees(math.acos(u_y)),1)  #[degrees]\n",
    "gamma = round(math.degrees(math.acos(u_z)),1)  #[degrees]\n",
    "\n",
    "# Result\n",
    "print\"MRO_x = \",(MRO_x),\"N.m\"\n",
    "print\"MRO_y = \",(MRO_y),\"N.m\"\n",
    "print\"MRO_z = \",(MRO_z),\"N.m\"\n",
    "print\"alpha = \",(alpha),\"degrees\"\n",
    "print\"beta = \",(beta),\"degrees\"\n",
    "print\"gamma = \",(gamma),\"degrees\""
   ]
  },
  {
   "cell_type": "markdown",
   "metadata": {},
   "source": [
    "## Ex 4.6 Page No 109"
   ]
  },
  {
   "cell_type": "code",
   "execution_count": 7,
   "metadata": {
    "collapsed": false
   },
   "outputs": [
    {
     "name": "stdout",
     "output_type": "stream",
     "text": [
      "Solution 1\n",
      "MA_x = 0 N.m\n",
      "MA_y = 0 N.m\n",
      "MA_z =  14.1 N.m\n",
      "\n",
      "Solution 2\n",
      "MA_x = 0 N.m\n",
      "MA_y = 0 N.m\n",
      "MA_z =  14.1 N.m\n"
     ]
    }
   ],
   "source": [
    "# Ex 4.6\n",
    "import math\n",
    "from __future__ import division\n",
    "\n",
    "# Variable Declaration\n",
    "F = 200   #[Newton]\n",
    "\n",
    "# Calculation Solution 1\n",
    "# Moment arm d can be found by trigonometry Refer Fig 4-19b\n",
    "d = (100*math.cos(math.pi*45/180))/1000  #[meter]\n",
    "# MA = Fd\n",
    "MA = round(F*d,1)  #[Newton meter]\n",
    "\n",
    "# Result Solution 1\n",
    "# According to right hand thumb rule MA is directed in +k direction\n",
    "print\"Solution 1\"\n",
    "print\"MA_x = 0 N.m\"\n",
    "print\"MA_y = 0 N.m\"\n",
    "print\"MA_z = \",(MA),\"N.m\\n\"\n",
    "\n",
    "# Calculation Solution 2\n",
    "# F is resolved into x and y components Refer Fig 4-19c\n",
    "# MA = ΣFd\n",
    "MA = round(F*math.sin(math.pi*45/180)*(0.20)-200*math.cos(math.pi*45/180)*(0.10),1)  #[Newton meter]\n",
    "\n",
    "# Result Solution 2\n",
    "# According to right hand thumb rule MA is directed in +k direction\n",
    "print\"Solution 2\"\n",
    "print\"MA_x = 0 N.m\"\n",
    "print\"MA_y = 0 N.m\"\n",
    "print\"MA_z = \",(MA),\"N.m\"\n",
    "\n"
   ]
  },
  {
   "cell_type": "markdown",
   "metadata": {},
   "source": [
    "## Ex 4.7 Page No 110"
   ]
  },
  {
   "cell_type": "code",
   "execution_count": 5,
   "metadata": {
    "collapsed": false
   },
   "outputs": [
    {
     "name": "stdout",
     "output_type": "stream",
     "text": [
      "Solution 1(Scalar Analysis)\n",
      "MO_x = 0 N.m\n",
      "MO_y = 0 N.m\n",
      "MO_z =  -98.6 N.m\n",
      "\n",
      "Solution 2(Vector Analysis)\n",
      "MO_x =  0.0 N.m\n",
      "MO_y =  -0.0 N.m\n",
      "MO_z =  -98.56 N.m\n",
      "\n"
     ]
    }
   ],
   "source": [
    "# Example 4.7\n",
    "import math\n",
    "import numpy as np \n",
    "\n",
    "# Variable Declaration\n",
    "F = 400  #[Newton]\n",
    "\n",
    "# Calculation(Scalar Analysis)\n",
    "# F is resolved into x and y components Refer 4-20b\n",
    "# Taking +ve moments about O in +k direction\n",
    "MO = round(F*math.sin(math.pi*30/180)*(0.2)-F*math.cos(math.pi*30/180)*(0.4),1)  #[Newton meter]\n",
    "\n",
    "# Result Solution 1\n",
    "print\"Solution 1(Scalar Analysis)\"\n",
    "print\"MO_x = 0 N.m\"\n",
    "print\"MO_y = 0 N.m\"\n",
    "print\"MO_z = \",(MO),\"N.m\\n\"\n",
    "\n",
    "# Calculation(Vector Analysis)\n",
    "# let r be positon vector and F be force vector\n",
    "r_x = 0.4  #[meter]\n",
    "r_y = -0.2  #[meter]\n",
    "r_z = 0  #[meter]\n",
    "F_x = round(F*math.sin(math.pi*30/180),1)  #[Newton]\n",
    "F_y = round(-F*math.cos(math.pi*30/180),1)  #[Newton]\n",
    "F_z = 0  #[Newton]\n",
    "\n",
    "# Let MO be the moment given by MO = r X F\n",
    "a = np.cross([r_x,r_y,r_z],[F_x,F_y,F_z])\n",
    "MO_x = a[0]   #[Newton meter]\n",
    "MO_y = a[1]  #[Newton meter]\n",
    "MO_z=  a[2] #[Newton meter]\n",
    "\n",
    "# Result Solution 2\n",
    "print\"Solution 2(Vector Analysis)\"\n",
    "print\"MO_x = \",(MO_x),\"N.m\"\n",
    "print\"MO_y = \",(-MO_y),\"N.m\"\n",
    "print\"MO_z = \",(MO_z),\"N.m\\n\"\n",
    "\n",
    "\n"
   ]
  },
  {
   "cell_type": "markdown",
   "metadata": {},
   "source": [
    "## Ex 4.8 Page No 118"
   ]
  },
  {
   "cell_type": "code",
   "execution_count": 9,
   "metadata": {
    "collapsed": false
   },
   "outputs": [
    {
     "name": "stdout",
     "output_type": "stream",
     "text": [
      "Solution 1(Vector Analysis)\n",
      "Mx =  -80 N.m\n",
      "Ma =  -120.0 N.m\n",
      "\n",
      "Solution 2(Scalar Analysis)\n",
      "Mx =  -80 N.m\n"
     ]
    }
   ],
   "source": [
    "# Example 4.8\n",
    "import math\n",
    "from __future__ import division\n",
    "import numpy as np\n",
    "\n",
    "# Variable Declaration\n",
    "F_x = -40  #[Newton]\n",
    "F_y = 20  #[Newton]\n",
    "F_z = 10  #[Newton]\n",
    "rA_x = -3  #[meter]\n",
    "rA_y = 4  #[meter]\n",
    "rA_z = 6  #[meter]\n",
    "ua_x = -3/5\n",
    "ua_y = 4/5\n",
    "ua_z = 0\n",
    "\n",
    "# Calculation Solution 1(Vector Analysis)\n",
    "# Mx = i.(rA X F)\n",
    "Mx = np.dot([1,0,0],np.cross([rA_x,rA_y,rA_z],[F_x,F_y,F_z]))  #[Newton meter]\n",
    "# Ma = ua.(rA X F)\n",
    "Ma = np.dot([ua_x,ua_y,ua_z],np.cross([rA_x,rA_y,rA_z],[F_x,F_y,F_z]))  #[Newton meter]\n",
    "\n",
    "# Result Solution 1\n",
    "print\"Solution 1(Vector Analysis)\"\n",
    "print\"Mx = \",(Mx),\"N.m\"\n",
    "print\"Ma = \",(Ma),\"N.m\\n\"\n",
    "\n",
    "# Calculation Solution 2(Scalar Analysis)\n",
    "# Refer Fig 4-23c\n",
    "Mx = 10*4 - 20*6  #[Newton meter]\n",
    "My = 10*3 - 40*6  #[Newton meter]\n",
    "Mz = 40*4 - 20*3  #[Newton meter]\n",
    "\n",
    "# Result Solution 2\n",
    "print\"Solution 2(Scalar Analysis)\"\n",
    "print\"Mx = \",(Mx),\"N.m\"\n"
   ]
  },
  {
   "cell_type": "markdown",
   "metadata": {},
   "source": [
    "## Ex 4.9 Page No 119"
   ]
  },
  {
   "cell_type": "code",
   "execution_count": 18,
   "metadata": {
    "collapsed": false
   },
   "outputs": [
    {
     "name": "stdout",
     "output_type": "stream",
     "text": [
      "MAB_x =  -48.0 N.m\n",
      "MAB_y =  -24.0 N.m\n"
     ]
    }
   ],
   "source": [
    "# Example 4.9\n",
    "import math\n",
    "from __future__ import division\n",
    "import numpy as np\n",
    "\n",
    "# Variable Declaration\n",
    "F_x = -600  #[Newton]\n",
    "F_y = 200  #[Newton]\n",
    "F_z = -300  #[Newton]\n",
    "rD_x = 0  #[meter]\n",
    "rD_y = 0.2  #[meter]\n",
    "rD_z = 0  #[meter]\n",
    "\n",
    "# Calculation\n",
    "# Unit vector uB defines the direction of AB axis of the rod\n",
    "uB_x = 0.4/math.sqrt(0.4**(2)+0.2**(2))\n",
    "uB_y = 0.2/math.sqrt(0.4**(2)+0.2**(2)) \n",
    "uB_z = 0\n",
    "# MAB = uB.(rD X F)\n",
    "MAB = np.dot([uB_x,uB_y,uB_z],np.cross([rD_x,rD_y,rD_z],[F_x,F_y,F_z])) #[Newton meter]\n",
    "MAB_x = MAB*uB_x  #[Newton meter]\n",
    "MAB_y = MAB*uB_y  #[Newton meter]\n",
    "\n",
    "# Result\n",
    "print\"MAB_x = \",(MAB_x),\"N.m\"\n",
    "print\"MAB_y = \",(MAB_y),\"N.m\"\n",
    "\n",
    "\n"
   ]
  },
  {
   "cell_type": "markdown",
   "metadata": {
    "collapsed": true
   },
   "source": [
    "## Ex 4.10 Page No 123"
   ]
  },
  {
   "cell_type": "code",
   "execution_count": 1,
   "metadata": {
    "collapsed": false
   },
   "outputs": [
    {
     "name": "stdout",
     "output_type": "stream",
     "text": [
      "F =  120.0 N\n"
     ]
    }
   ],
   "source": [
    "# Example 4.10\n",
    "from __future__ import division\n",
    "\n",
    "# Calculation\n",
    "# Let the couple has magnitude of M having direction out of page\n",
    "M = 40*0.6  #[Newton meter]\n",
    "# To preserve counterclockwise rotation of M vertical forces acting through points A and B must be directed as shown in Fig 4-29c\n",
    "F = M/0.2   #[Newton]\n",
    "\n",
    "# Result\n",
    "print\"F = \",(F),\"N\"\n"
   ]
  },
  {
   "cell_type": "markdown",
   "metadata": {},
   "source": [
    "## Ex 4.11 Page No 124"
   ]
  },
  {
   "cell_type": "code",
   "execution_count": 4,
   "metadata": {
    "collapsed": false
   },
   "outputs": [
    {
     "name": "stdout",
     "output_type": "stream",
     "text": [
      "Moment calculated about D\n",
      "MD =  195.0 N.m(counterclockwise)\n",
      "Moment calculated about A\n",
      "MA =  195.0 N.m(counterclockwise)\n"
     ]
    }
   ],
   "source": [
    "# Example 4.11\n",
    "from __future__ import division\n",
    "\n",
    "# Variable Declaration\n",
    "F = 150   #[Newton]\n",
    "\n",
    "# Calculation\n",
    "F_x = (4/5)*F   #[Newton]\n",
    "F_y = (3/5)*F   #[Newton]\n",
    "\n",
    "#  Let the couple moment is calculated about D\n",
    "MD = F_x*0 - F_y*1 + F_y*2.5 + F_x*0.5  #[Newton meter]\n",
    "\n",
    "# Let the couple moment is calculated about A\n",
    "MA = F_y*1.5 + F_x*0.5  #[Newton meter]\n",
    "\n",
    "# Result\n",
    "print\"Moment calculated about D\"\n",
    "print\"MD = \",(MD),\"N.m(counterclockwise)\"\n",
    "print\"Moment calculated about A\"\n",
    "print\"MA = \",(MA),\"N.m(counterclockwise)\"\n"
   ]
  },
  {
   "cell_type": "markdown",
   "metadata": {},
   "source": [
    "## Ex 4.12 Page No 125"
   ]
  },
  {
   "cell_type": "code",
   "execution_count": 20,
   "metadata": {
    "collapsed": false
   },
   "outputs": [
    {
     "name": "stdout",
     "output_type": "stream",
     "text": [
      "Solution 1 (Vector Analysis)\n",
      "MO_x =  0.0 N.m\n",
      "MO_y =  -13.0 N.m\n",
      "MO_z =  0.0 N.m\n",
      "MA_x =  0.0 N.m\n",
      "MA_y =  -13.0 N.m\n",
      "MA_z =  0.0 N.m\n",
      "\n",
      "Solution 2 (Scalar Analysis)\n",
      "M_x =  0 N.m\n",
      "M_y =  -13.0 N.m\n",
      "M_z =  0 N.m\n"
     ]
    }
   ],
   "source": [
    "# Example 4.12\n",
    "import math\n",
    "\n",
    "# Variable Declaration\n",
    "rA_x = 0   #[meter]\n",
    "rA_y = 0.8   #[meter]\n",
    "rA_z = 0   #[meter]\n",
    "rB_x = 0.6*math.cos(math.pi*30/180)   #[meter]\n",
    "rB_y = 0.8   #[meter]\n",
    "rB_z = -0.6*math.sin(math.pi*30/180)   #[meter]\n",
    "rAB_x = 0.6*math.cos(math.pi*30/180)   #[meter]\n",
    "rAB_y = 0   #[meter]\n",
    "rAB_z = -0.6*math.sin(math.pi*30/180)   #[meter]\n",
    "# Let force acting at B be FB\n",
    "FB_x = 0   #[Newton]\n",
    "FB_y = 0   #[Newton]\n",
    "FB_z = -25   #[Newton]\n",
    "# Let force acting at A be FA\n",
    "FA_x = 0   #[Newton]\n",
    "FA_y = 0   #[Newton]\n",
    "FA_z = 25   #[Newton]\n",
    "\n",
    "# Calculation Solution 1(Vector Analysis)\n",
    "# Let MO be moment about about O Refer Fig 4-31b\n",
    "# Let a = rA X FB, b = rB X FA\n",
    "a = np.cross([rA_x,rA_y,rA_z],[FB_x,FB_y,FB_z])\n",
    "b = np.cross([rB_x,rB_y,rB_z],[FA_x,FA_y,FA_z])\n",
    "MO_x = round(a[0]+b[0],1) #[Newton meter]\n",
    "MO_y = round(a[1]+b[1],1)  #[Newton meter]\n",
    "MO_z = round(a[2]+b[2],1)  #[Newton meter]\n",
    "\n",
    "# Let MA be moment about about A Refer Fig 4-31c\n",
    "# MA = rAB X FA\n",
    "a = np.cross([rAB_x,rAB_y,rAB_z],[FA_x,FA_y,FA_z])\n",
    "MA_x = round(a[0],1)  #[Newton meter]\n",
    "MA_y = round(a[1],1)  #[Newton meter]\n",
    "MA_z = round(a[2],1)  #[Newton meter]\n",
    "\n",
    "# Calculation Solution 2(Vector Analysis)\n",
    "M = 25*0.52  #[Newton meter]\n",
    "# M acts in -j direction\n",
    "M_x = 0  #[Newton meter]\n",
    "M_y = -M  #[Newton meter]\n",
    "M_z = 0  #[Newton meter]\n",
    "\n",
    "# Result \n",
    "print\"Solution 1 (Vector Analysis)\"\n",
    "print\"MO_x = \",(MO_x),\"N.m\"\n",
    "print\"MO_y = \",(MO_y),\"N.m\"\n",
    "print\"MO_z = \",(MO_z),\"N.m\"\n",
    "print\"MA_x = \",(MA_x),\"N.m\"\n",
    "print\"MA_y = \",(MA_y),\"N.m\"\n",
    "print\"MA_z = \",(MA_z),\"N.m\\n\"\n",
    "print\"Solution 2 (Scalar Analysis)\"\n",
    "print\"M_x = \",(M_x),\"N.m\"\n",
    "print\"M_y = \",(M_y),\"N.m\"\n",
    "print\"M_z = \",(M_z),\"N.m\""
   ]
  },
  {
   "cell_type": "markdown",
   "metadata": {},
   "source": [
    "## Ex 4.13 Page No 126"
   ]
  },
  {
   "cell_type": "code",
   "execution_count": 22,
   "metadata": {
    "collapsed": false
   },
   "outputs": [
    {
     "name": "stdout",
     "output_type": "stream",
     "text": [
      "MR_x =  60.0 N.m\n",
      "MR_y =  22.5 N.m\n",
      "MR_z=  30.0 N.m\n"
     ]
    }
   ],
   "source": [
    "# Example 4.13\n",
    "from __future__ import division\n",
    "import numpy as np\n",
    "\n",
    "# Variable Declaration\n",
    "rDC_x = 0.3  #[meter]\n",
    "rDC_y = 0  #[meter]\n",
    "rDC_z = 0  #[meter]\n",
    "FC_x = 0  #[Newton]\n",
    "FC_y = 125*(4/5)  #[Newton]\n",
    "FC_z = -125*(3/5)  #[Newton]\n",
    "\n",
    "# Calculation\n",
    "M1 = 150*0.4   #[Newton meter]\n",
    "\n",
    "# By right hand rule M1 acts in +i direction\n",
    "M1_x = M1   #[Newton meter]\n",
    "M1_y = 0   #[Newton meter]\n",
    "M1_z = 0   #[Newton meter]\n",
    "\n",
    "# M2 = rDC X FC\n",
    "a = np.cross([rDC_x,rDC_y,rDC_z],[FC_x,FC_y,FC_z]) \n",
    "M2_x = a[0]  #[Newton meter]\n",
    "M2_y = a[1]   #[Newton meter]\n",
    "M2_z = a[2] #[Newton meter]\n",
    "\n",
    "# M1 and M2 are free vectors.So they may be moved to some arbitrary point P and added vectorially.\n",
    "# The resultant couple moment becomes MR = M1 + M2\n",
    "MR_x = M1_x + M2_x   #[Newton meter]\n",
    "MR_y = M1_y + M2_y   #[Newton meter]\n",
    "MR_z = M1_z + M2_z   #[Newton meter]\n",
    "\n",
    "# Result\n",
    "print\"MR_x = \",(MR_x),\"N.m\"\n",
    "print\"MR_y = \",(MR_y),\"N.m\"\n",
    "print\"MR_z= \",(MR_z),\"N.m\""
   ]
  },
  {
   "cell_type": "markdown",
   "metadata": {},
   "source": [
    "## Ex 4.14 Page No 133"
   ]
  },
  {
   "cell_type": "code",
   "execution_count": 9,
   "metadata": {
    "collapsed": false
   },
   "outputs": [
    {
     "name": "stdout",
     "output_type": "stream",
     "text": [
      "FR =  962.3 N\n",
      "theta =  66.6 degrees\n",
      "MRA =  -551.1 N.m =  551.1 N.m(clockwise)\n"
     ]
    }
   ],
   "source": [
    "# Example 4.14\n",
    "import math \n",
    "\n",
    "# Calculation\n",
    "# Let resultant force be FR\n",
    "FR_x = -100-400*math.cos(math.pi*45/180)  #[Newton]\n",
    "FR_y = -600-400*math.sin(math.pi*45/180)  #[Newton]\n",
    "FR = round(math.sqrt(FR_x**(2)+FR_y**(2)),1)  #[Newton]\n",
    "theta = round(math.degrees(math.atan(FR_y/FR_x)),1)  #[degrees]\n",
    "\n",
    "# Let resultant couple moment be MRA which is calculated by summing moments of forces about A\n",
    "MRA = round(100*0-600*0.4-400*math.sin(math.pi*45/180)*0.8-400*math.cos(math.pi*45/180)*0.3,1)   #[Newton meter]\n",
    "\n",
    "# Result\n",
    "print\"FR = \",(FR),\"N\"\n",
    "print\"theta = \",(theta),\"degrees\"\n",
    "print\"MRA = \",(MRA),\"N.m = \",(-MRA),\"N.m(clockwise)\"\n",
    "\n",
    "\n"
   ]
  },
  {
   "cell_type": "markdown",
   "metadata": {},
   "source": [
    "## Ex 4.15 Page No 134"
   ]
  },
  {
   "cell_type": "code",
   "execution_count": null,
   "metadata": {
    "collapsed": false
   },
   "outputs": [],
   "source": [
    "# Example 4.15\n",
    "import math\n",
    "from __future__ import division\n",
    "import numpy as np\n",
    "\n",
    "# Variable Declaration\n",
    "F1_x = 0  #[Newton]\n",
    "F1_y = 0  #[Newton]\n",
    "F1_z = -800  #[Newton]\n",
    "F2 = 300  #[Newton]\n",
    "rCB_x = -0.15   #[meter]\n",
    "rCB_y = 0.1   #[meter]\n",
    "rCB_z = 0   #[meter]\n",
    "rC_x =  0  #[meter]\n",
    "rC_y =  0   #[meter]\n",
    "rC_z = 1   #[meter]\n",
    "rB_x = -0.15   #[meter]\n",
    "rB_y = 0.1   #[meter]\n",
    "rB_z = 1   #[meter]\n",
    "# Calculation\n",
    "# Let uCB be unit vector along rCB\n",
    "uCB_x = rCB_x/math.sqrt(rCB_x**(2)+rCB_y**(2)+rCB_z**(2))\n",
    "uCB_y = rCB_y/math.sqrt(rCB_x**(2)+rCB_y**(2)+rCB_z**(2))\n",
    "uCB_z = rCB_z/math.sqrt(rCB_x**(2)+rCB_y**(2)+rCB_z**(2))\n",
    "F2_x = round(300*uCB_x,1)  #[Newton]\n",
    "F2_y = round(300*uCB_y,1)  #[Newton]\n",
    "F2_z = round(300*uCB_z,1)  #[Newton]\n",
    "M_x = 0  #[Newton meter]\n",
    "M_y = -500*(4/5)  #[Newton meter]\n",
    "M_z = 500*(3/5)  #[Newton meter]\n",
    "# FR = F1 + F2\n",
    "FR_x = F1_x + F2_x  #[Newton]\n",
    "FR_y = F1_y + F2_y  #[Newton]\n",
    "FR_z = F1_z + F2_z  #[Newton]\n",
    "\n",
    "# MRO = M + rC X F1 + rB X F2\n",
    "# Let a = rC X F1 and b = rB X F2\n",
    "a = np.cross([rC_x,rC_y,rC_z], [F1_x,F1_y,F1_z])\n",
    "b = np.cross([rB_x,rB_y,rB_z], [F2_x,F2_y,F2_z])\n",
    "MRO_x = M_x + a[0] + b[0]  #[Newton meter]\n",
    "MRO_y = M_y + a[1] + b[1]  #[Newton meter]\n",
    "MRO_z = M_z + a[2] + b[2]  #[Newton meter]\n",
    "\n",
    "# Result\n",
    "print\"FR_x = \",(FR_x),\"N\"\n",
    "print\"FR_y = \",(FR_y),\"N\"\n",
    "print\"FR_z = \",(FR_z),\"N\"\n",
    "print\"MRO_x = \",(MRO_x),\"N\"\n",
    "print\"MRO_y = \",(MRO_y),\"N\"\n",
    "print\"MRO_z = \",(MRO_z),\"N\""
   ]
  },
  {
   "cell_type": "markdown",
   "metadata": {},
   "source": [
    "## Ex 4.16 Page No 139"
   ]
  },
  {
   "cell_type": "code",
   "execution_count": 1,
   "metadata": {
    "collapsed": false
   },
   "outputs": [
    {
     "name": "stdout",
     "output_type": "stream",
     "text": [
      "FR =  420.5 N\n",
      "theta =  33.7 degrees\n",
      "d =  3.57 m\n"
     ]
    }
   ],
   "source": [
    "# Example 4.16\n",
    "import math\n",
    "from __future__ import division\n",
    "# Calculation\n",
    "FR_x = 500*math.cos(math.pi*60/180)+100  #[Newton]\n",
    "FR_y = -500*math.sin(math.pi*60/180)+200  #[Newton]\n",
    "FR = round(math.sqrt(FR_x**(2)+FR_y**(2)),1)  #[Newton]\n",
    "theta = round(math.degrees(math.atan(FR_y/FR_x)),1)  #[degrees]\n",
    "\n",
    "# +MRE(counterclockwise) = ΣME\n",
    "d = round((500*math.sin(math.pi*60/180)*(4) + 500*math.cos(math.pi*60/180)*(0) - 100*0.5 - 200*2.5 - 350)/233.0,2)   #[meter] \n",
    "\n",
    "# Result\n",
    "print\"FR = \",(FR),\"N\"\n",
    "print\"theta = \",(-theta),\"degrees\"\n",
    "print\"d = \",(d),\"m\"  # Correction in the answer"
   ]
  },
  {
   "cell_type": "markdown",
   "metadata": {
    "collapsed": true
   },
   "source": [
    "## Ex 4.17 Page No 140"
   ]
  },
  {
   "cell_type": "code",
   "execution_count": 5,
   "metadata": {
    "collapsed": false
   },
   "outputs": [
    {
     "name": "stdout",
     "output_type": "stream",
     "text": [
      "y =  1.146 m\n",
      "x =  5.442 m\n"
     ]
    }
   ],
   "source": [
    "# Example 4.17\n",
    "import math\n",
    "from __future__ import division\n",
    "\n",
    "# Calculation\n",
    "# Let FR be resultant force\n",
    "FR_x = -250*(3/5)-175  #[Newton]\n",
    "FR_y = -250*(4/5)-60  #[Newton]\n",
    "FR = round(math.sqrt(FR_x**(2)+FR_y**(2)),1)  #[Newton]\n",
    "theta = round(math.degrees(math.atan(FR_y/FR_x)),1)  #[degrees]\n",
    "\n",
    "# +MRA(counterclockwise) = ΣMA\n",
    "y = round((175*2.5 - 60*1.5 + 250*(3/5)*5.5 - 250*(4/5)*4 - 260*(0))/325,3)   #[meter]\n",
    "\n",
    "# By principle of transmissibility FR can be treated as intersecting BC Refer Fig 4-44b\n",
    "# +MRA(counterclockwise) = ΣMA\n",
    "x = round((325*5.5 - 175*2.5 + 60*1.5 - 250*(3/5)*5.5 + 250*(4/5)*4)/260,3)   #[meter]\n",
    "\n",
    "# Result\n",
    "print\"y = \",(y),\"m\"\n",
    "print\"x = \",(x),\"m\""
   ]
  },
  {
   "cell_type": "markdown",
   "metadata": {
    "collapsed": true
   },
   "source": [
    "## Ex 4.18 Page No 141"
   ]
  },
  {
   "cell_type": "code",
   "execution_count": 7,
   "metadata": {
    "collapsed": false
   },
   "outputs": [
    {
     "name": "stdout",
     "output_type": "stream",
     "text": [
      "y =  2.5 m\n",
      "x =  3.0 m\n"
     ]
    }
   ],
   "source": [
    "# Example 4.18\n",
    "\n",
    "# Calculation\n",
    "# +FR = ΣF Refer Fig 4-45a\n",
    "FR = -600+100-400-500  #[Newton]\n",
    "# Using right hand thumb rule where ppsitive moments act in +i direction we have MR_x = ΣM_x\n",
    "y = round(-(600*(0)+100*5-400*10+500*0)/1400,2)   #[meter]\n",
    "# Assuming positive moments act in +j direction\n",
    "# MR_y = ΣM_y\n",
    "x = round((600*8-100*6+400*0+500*0)/1400,2)   #[meter]\n",
    "\n",
    "# Result\n",
    "print\"y = \",(y),\"m\"\n",
    "print\"x = \",(x),\"m\""
   ]
  },
  {
   "cell_type": "markdown",
   "metadata": {},
   "source": [
    "## Ex 4.19 Page No 142"
   ]
  },
  {
   "cell_type": "code",
   "execution_count": 14,
   "metadata": {
    "collapsed": false
   },
   "outputs": [
    {
     "name": "stdout",
     "output_type": "stream",
     "text": [
      "FR_x =  0 N\n",
      "FR_y =  0 N\n",
      "FR_z =  -650 N\n",
      "x =  0.6 m\n",
      "y =  -0.29 m\n"
     ]
    }
   ],
   "source": [
    "# Example 4.19\n",
    "import math\n",
    "import numpy as np\n",
    "\n",
    "# Variable Declaration\n",
    "FR_x = 0  #[Newton]\n",
    "FR_y = 0  #[Newton]\n",
    "FR_z = -300-200-150  #[Newton]\n",
    "rA_x = 2   #[meter]\n",
    "rA_y = 0    #[meter]\n",
    "rA_z = 0   #[meter]  \n",
    "rB_x = 0    #[meter]\n",
    "rB_y = -2    #[meter]\n",
    "rB_z = 0   #[meter]\n",
    "rC_x = -2*math.sin(math.pi*45/180)   #[meter] \n",
    "rC_y = 2*math.cos(math.pi*45/180)   #[meter]\n",
    "rC_z = 0   #[meter]\n",
    "\n",
    "# Let a = rA X (-300k), b = rB X (-200k), c = rC X (-150k)\n",
    "a = np.cross([rA_x,rA_y,rA_z], [0,0,-300])\n",
    "b = np.cross([rB_x,rB_y,rB_z], [0,0,-200])\n",
    "c = np.cross([rC_x,rC_y,rC_z], [0,0,-150])\n",
    "x = round((a[1]+b[1]+c[1])/650,2)   #[meter]\n",
    "y = round(-((a[0]+b[0]+c[0]))/650,2)   #[meter]\n",
    "\n",
    "# Result\n",
    "print\"FR_x = \",(FR_x),\"N\"\n",
    "print\"FR_y = \",(FR_y),\"N\"\n",
    "print\"FR_z = \",(FR_z),\"N\"\n",
    "print\"x = \",(x),\"m\"\n",
    "print\"y = \",(y),\"m\"\n",
    "\n"
   ]
  },
  {
   "cell_type": "markdown",
   "metadata": {
    "collapsed": true
   },
   "source": [
    "## Ex 4.20 Page No 148"
   ]
  },
  {
   "cell_type": "code",
   "execution_count": 2,
   "metadata": {
    "collapsed": false
   },
   "outputs": [
    {
     "name": "stdout",
     "output_type": "stream",
     "text": [
      "FR =  160.0 N\n",
      "x_bar =  1.5 m\n"
     ]
    }
   ],
   "source": [
    "# Example 4.20\n",
    "from scipy import integrate\n",
    "import numpy as np\n",
    "\n",
    "# Calculation\n",
    "# The coloured differential area element dA = wdx = 60x**(2)\n",
    "# Summing these elements from x = 0 to x = 2m we obtain force FR\n",
    "# FR = ΣF\n",
    "var = lambda x: 60*x**(2)\n",
    "a = integrate.quad(var, 0, 2)\n",
    "FR = a[0]  #[Newton]\n",
    "\n",
    "# Since the element of area dA is located at distance x from O, the location x_bar of FR is measured from O\n",
    "var = lambda x: x*60*x**(2)\n",
    "a = integrate.quad(var, 0, 2)\n",
    "x_bar = a[0]/FR   #[meter]\n",
    "\n",
    "# Result\n",
    "print\"FR = \",(FR),\"N\"\n",
    "print\"x_bar = \",(x_bar),\"m\""
   ]
  },
  {
   "cell_type": "markdown",
   "metadata": {},
   "source": [
    "## Ex 4.21 Page No 149"
   ]
  },
  {
   "cell_type": "code",
   "execution_count": 9,
   "metadata": {
    "collapsed": false
   },
   "outputs": [
    {
     "name": "stdout",
     "output_type": "stream",
     "text": [
      "FR =  6.48 kN\n",
      "x_bar = 6.0 m\n"
     ]
    }
   ],
   "source": [
    "# Example 4.21\n",
    "from __future__ import division\n",
    "\n",
    "# Calculation\n",
    "# The magnitude of resultant force is equal to the area under the triangle\n",
    "FR = (0.5*9*1440)/1000  #[Newton]\n",
    "\n",
    "# The line of action of FR passes through the centroid C of the triangle\n",
    "x_bar = 9-(1/3)*9   #[meter]\n",
    "\n",
    "# Result\n",
    "print\"FR = \",(FR),\"kN\"\n",
    "print\"x_bar =\",(x_bar),\"m\"\n"
   ]
  },
  {
   "cell_type": "markdown",
   "metadata": {},
   "source": [
    "## Ex 4.22 Page No 150"
   ]
  },
  {
   "cell_type": "code",
   "execution_count": 12,
   "metadata": {
    "collapsed": false
   },
   "outputs": [
    {
     "name": "stdout",
     "output_type": "stream",
     "text": [
      "FR =  225.0 N\n",
      "x_bar =  1.33333333333 m\n"
     ]
    }
   ],
   "source": [
    "# Example 4.22\n",
    "\n",
    "# Calculation\n",
    "# Refer Fig 4-50b\n",
    "# The magnitude of the force represented by each of these loadings is equal to its associated area\n",
    "F1 = 0.5*3*50  #[Newton]\n",
    "F2 = 3*50  #[Newton]\n",
    "\n",
    "# The lines of action of these parallel forces act through the centroid of their associated areas\n",
    "x1_bar = (1/3)*3   #[meter]\n",
    "x2_bar = (1/2)*3   #[meter]\n",
    "\n",
    "# +FR(downward) = ΣF\n",
    "FR = F1 + F2  #[Newton]\n",
    "\n",
    "# +MRA(clockwise) = ΣMA\n",
    "x_bar = (1*75+1.5*150)/225   #[meter]\n",
    "\n",
    "# Result\n",
    "print\"FR = \",(FR),\"N\"\n",
    "print\"x_bar = \",(x_bar),\"m\""
   ]
  },
  {
   "cell_type": "code",
   "execution_count": null,
   "metadata": {
    "collapsed": true
   },
   "outputs": [],
   "source": []
  }
 ],
 "metadata": {
  "anaconda-cloud": {},
  "kernelspec": {
   "display_name": "Python [default]",
   "language": "python",
   "name": "python2"
  },
  "language_info": {
   "codemirror_mode": {
    "name": "ipython",
    "version": 2
   },
   "file_extension": ".py",
   "mimetype": "text/x-python",
   "name": "python",
   "nbconvert_exporter": "python",
   "pygments_lexer": "ipython2",
   "version": "2.7.12"
  }
 },
 "nbformat": 4,
 "nbformat_minor": 2
}
