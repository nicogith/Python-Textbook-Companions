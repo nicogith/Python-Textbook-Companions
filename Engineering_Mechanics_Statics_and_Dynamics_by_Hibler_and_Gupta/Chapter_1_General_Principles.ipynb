{
 "cells": [
  {
   "cell_type": "markdown",
   "metadata": {},
   "source": [
    "# Chapter 1 General Principles"
   ]
  },
  {
   "cell_type": "markdown",
   "metadata": {},
   "source": [
    "## Ex 1.1  Page No 10 "
   ]
  },
  {
   "cell_type": "code",
   "execution_count": 27,
   "metadata": {
    "collapsed": false
   },
   "outputs": [
    {
     "name": "stdout",
     "output_type": "stream",
     "text": [
      "Part(a)\n",
      "(10 mN)(5 GN) =  50 kilo Newton square\n",
      "\n",
      "Part(b)\n",
      "(100 mm)(0.5 MN square) =  25 Gigameter Newton square\n",
      "\n",
      "Part(c)\n",
      "(50 MN cube)(500 Gg) =  100 Kilo Newton cube per kg\n"
     ]
    }
   ],
   "source": [
    "# Example Number 1.1\n",
    "\n",
    "# Part(a)\n",
    "# Variable Declaration\n",
    "a = 10                        # [micro Newton(mN)]\n",
    "b = 5                         # [Giga Newton(GN)]\n",
    "\n",
    "# Calculation\n",
    "# We have to find c = a * b\n",
    "c = 10*5                      # [micro Newton(mN)*Giga Newton(GN)]\n",
    "c = (10*10**(-3))*(5*10**(9)) # [N**(2)]\n",
    "c = (10*10**(-3))*(5*10**(9))*10**(-6) #[kN**(2)]\n",
    "\n",
    "#Result\n",
    "print\"Part(a)\"\n",
    "print \"(10 mN)(5 GN) = \",int(c),\"kilo Newton square\\n\"\n",
    "\n",
    "# Part(b)\n",
    "# Variable Declaration\n",
    "a = 100                      #[millimeter(mm)]\n",
    "b = 0.5**(2)                 #[mega Newton square(MN**(2))]\n",
    "\n",
    "# Calculation\n",
    "# We have to find c = a * b\n",
    "c = (100*10**(-3))*(0.25*10**(12))  #[m.N**(2)]\n",
    "c = (100*10**(-3))*(0.25*10**(12))*10**(-9) #[Gm.N**(2)]\n",
    "\n",
    "#Result\n",
    "print\"Part(b)\"\n",
    "print \"(100 mm)(0.5 MN square) = \",int(c),\"Gigameter Newton square\\n\"\n",
    "\n",
    "# Part(c) (Correction in the question (50 MN cube)(500 Gg))\n",
    "# Variable Declaration\n",
    "a = 50                     #[mega newton cube((MN)**(3))]\n",
    "b = 500                    #[gigagram(Gg)]\n",
    "\n",
    "# Calculation\n",
    "# We have to find c = a / b\n",
    "c = 50*(10**(6))**3 / 500*10**(6)     #[N**(3)/kg]\n",
    "c = (50*((10**(6))**3) / (500*10**(6)))*10**(-9) #[kN**(3)/kg]\n",
    "\n",
    "#Result\n",
    "print\"Part(c)\"\n",
    "print \"(50 MN cube)(500 Gg) = \",int(c),\"Kilo Newton cube per kg\"\n"
   ]
  },
  {
   "cell_type": "code",
   "execution_count": null,
   "metadata": {
    "collapsed": true
   },
   "outputs": [],
   "source": []
  }
 ],
 "metadata": {
  "kernelspec": {
   "display_name": "Python 2",
   "language": "python",
   "name": "python2"
  },
  "language_info": {
   "codemirror_mode": {
    "name": "ipython",
    "version": 2
   },
   "file_extension": ".py",
   "mimetype": "text/x-python",
   "name": "python",
   "nbconvert_exporter": "python",
   "pygments_lexer": "ipython2",
   "version": "2.7.12"
  }
 },
 "nbformat": 4,
 "nbformat_minor": 2
}
