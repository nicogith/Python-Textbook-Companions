{
 "cells": [
  {
   "cell_type": "markdown",
   "metadata": {},
   "source": [
    "# Chapter 10 Moments of Inertia"
   ]
  },
  {
   "cell_type": "markdown",
   "metadata": {},
   "source": [
    "## Ex 10.2 Page No 382 "
   ]
  },
  {
   "cell_type": "code",
   "execution_count": 20,
   "metadata": {
    "collapsed": false
   },
   "outputs": [
    {
     "name": "stdout",
     "output_type": "stream",
     "text": [
      "Solution 1\n",
      "I_x =  106666667.0 mm**(4)\n",
      "\n",
      "Solution 2\n",
      "I_x =  106666667.0 mm**(4)\n"
     ]
    }
   ],
   "source": [
    "# Ex 10.2\n",
    "from scipy import integrate\n",
    "from __future__ import division\n",
    "\n",
    "# Calculation Solution 1\n",
    "a = lambda y: (y**2)*(100-(y**2)/400)\n",
    "I_x = round(integrate.quad(a, 0, 200)[0],0)   #[millimeter**(4)]\n",
    "\n",
    "# Result Solution 1\n",
    "print\"Solution 1\"\n",
    "print\"I_x = \",(I_x),\"mm**(4)\\n\"\n",
    "\n",
    "# Calculation Solution 2\n",
    "a = lambda x: (1/3)*(400*x)**(3/2)\n",
    "I_x = round(integrate.quad(a, 0, 100)[0],0)  #[millimeter**(4)]\n",
    "\n",
    "# Result Solution 2\n",
    "print\"Solution 2\"\n",
    "print\"I_x = \",(I_x),\"mm**(4)\""
   ]
  },
  {
   "cell_type": "markdown",
   "metadata": {},
   "source": [
    "## Ex 10.4 Page No 384"
   ]
  },
  {
   "cell_type": "code",
   "execution_count": 12,
   "metadata": {
    "collapsed": false
   },
   "outputs": [
    {
     "name": "stdout",
     "output_type": "stream",
     "text": [
      "Solution 1\n",
      "I_x =  0.0357 m**(4)\n",
      "\n",
      "Solution 2\n",
      "I_x =  0.0357 m**(4)\n"
     ]
    }
   ],
   "source": [
    "# Ex 10.4\n",
    "\n",
    "from scipy import integrate\n",
    "from __future__ import division\n",
    "import math\n",
    "\n",
    "# Calculation Solution 1\n",
    "a = lambda y: y**(2)*(math.sqrt(y)-y)\n",
    "I_x = round(integrate.quad(a, 0, 1)[0],4)  #[meter**(4)]\n",
    "\n",
    "# Result Solution 1\n",
    "print\"Solution 1\"\n",
    "print\"I_x = \",(I_x),\"m**(4)\\n\"\n",
    "\n",
    "# Calculation Solution 2\n",
    "a = lambda x: (1/3)*(x**(3)-x**(6))\n",
    "I_x = round(integrate.quad(a, 0, 1)[0],4)  #[meter**(4)]\n",
    "\n",
    "# Result Solution 2\n",
    "print\"Solution 2\"\n",
    "print\"I_x = \",(I_x),\"m**(4)\""
   ]
  },
  {
   "cell_type": "markdown",
   "metadata": {},
   "source": [
    "## Ex 10.5 Page No 387"
   ]
  },
  {
   "cell_type": "code",
   "execution_count": 13,
   "metadata": {
    "collapsed": false
   },
   "outputs": [
    {
     "name": "stdout",
     "output_type": "stream",
     "text": [
      "I_x =  101148542.17 mm**(4)\n"
     ]
    }
   ],
   "source": [
    "# Ex 10.5\n",
    "import math\n",
    "from __future__ import division\n",
    "\n",
    "# Calculation\n",
    "# Using Parallel Axis Theorem\n",
    "# Circle\n",
    "I_xc = (1/4)*math.pi*25**(4)+math.pi*25**(2)*75**(2)  #[millimeter**(4)]\n",
    "# Rectangle\n",
    "I_xr = (1/12)*100*150**(3)+100*150*75**(2)  #[millimeter**(4)]\n",
    "# Let I_x be moment of inertia for composite area\n",
    "I_x = -I_xc+I_xr  #[millimeter**(4)]\n",
    "\n",
    "# Result\n",
    "print\"I_x = \",(I_x),\"mm**(4)\""
   ]
  },
  {
   "cell_type": "markdown",
   "metadata": {},
   "source": [
    "## Ex 10.6 Page No 388"
   ]
  },
  {
   "cell_type": "code",
   "execution_count": 21,
   "metadata": {
    "collapsed": false
   },
   "outputs": [
    {
     "name": "stdout",
     "output_type": "stream",
     "text": [
      "I_x =  2900000000.0 mm**(4)\n",
      "I_y =  5600000000.0 mm**(4)\n"
     ]
    }
   ],
   "source": [
    "# Ex 10.6\n",
    "import math\n",
    "from __future__ import division\n",
    "\n",
    "# Calculation\n",
    "# Using Parallel axis theorem\n",
    "# Rectangle A\n",
    "I_xA = (1/12)*100*300**(3)+100*300*200**(2)  #[millimeter**(4)]\n",
    "I_yA = (1/12)*300*100**(3)+100*300*250**(2)  #[millimeter**(4)]\n",
    "# Rectangle B\n",
    "I_xB = (1/12)*600*100**(3)  #[millimeter**(4)]\n",
    "I_yB = (1/12)*100*600**(3)  #[millimeter**(4)]\n",
    "# Rectangle D\n",
    "I_xD = (1/12)*100*300**(3)+100*300*200**(2)  #[millimeter**(4)]\n",
    "I_yD = (1/12)*300*100**(3)+100*300*250**(2)  #[millimeter**(4)]\n",
    "I_x = I_xA+I_xB+I_xD  #[millimeter**(4)]\n",
    "I_y = I_yA+I_yB+I_yD  #[millimeter**(4)]\n",
    "\n",
    "# Result\n",
    "print\"I_x = \",(I_x),\"mm**(4)\"\n",
    "print\"I_y = \",(I_y),\"mm**(4)\""
   ]
  },
  {
   "cell_type": "markdown",
   "metadata": {},
   "source": [
    "## Ex 10.8 Page No 394"
   ]
  },
  {
   "cell_type": "code",
   "execution_count": 22,
   "metadata": {
    "collapsed": false
   },
   "outputs": [
    {
     "name": "stdout",
     "output_type": "stream",
     "text": [
      "I_xy =  -3000000000 mm**(4)\n"
     ]
    }
   ],
   "source": [
    "# Ex 10.8\n",
    "\n",
    "# Calculation\n",
    "# Rectangle A\n",
    "I_xyA = 0+300*100*(-250)*(200)\n",
    "# Rectangle B\n",
    "I_xyB = 0+0\n",
    "# Rectangle D\n",
    "I_xyD = 0+300*100*(250)*(-200)\n",
    "# Let I_xy be product of inertia for entire cross section\n",
    "I_xy = I_xyA+I_xyB+I_xyD\n",
    "\n",
    "# Result\n",
    "print\"I_xy = \",(I_xy),\"mm**(4)\"\n"
   ]
  },
  {
   "cell_type": "markdown",
   "metadata": {},
   "source": [
    "## Ex 10.10 Page No 400"
   ]
  },
  {
   "cell_type": "code",
   "execution_count": 23,
   "metadata": {
    "collapsed": false
   },
   "outputs": [
    {
     "name": "stdout",
     "output_type": "stream",
     "text": [
      "I_y =  0.873 kg.m**(2)\n"
     ]
    }
   ],
   "source": [
    "# Ex 10.10\n",
    "from scipy import integrate\n",
    "from __future__ import division\n",
    "import math\n",
    "\n",
    "# Variable Declaration\n",
    "rho = 5  #[milligram per meter cube]\n",
    "\n",
    "# Calculation \n",
    "a = lambda y: ((5*math.pi)/2)*y**(8)\n",
    "I_y = round(integrate.quad(a, 0, 1)[0],3)  #[kg meter square]\n",
    "\n",
    "# Result\n",
    "print\"I_y = \",(I_y),\"kg.m**(2)\"\n",
    "\n",
    "\n",
    "\n"
   ]
  },
  {
   "cell_type": "markdown",
   "metadata": {},
   "source": [
    "## Ex 10.11 Page No 403"
   ]
  },
  {
   "cell_type": "code",
   "execution_count": 25,
   "metadata": {
    "collapsed": false
   },
   "outputs": [
    {
     "name": "stdout",
     "output_type": "stream",
     "text": [
      "IO =  1.2 kg.m**(2)\n"
     ]
    }
   ],
   "source": [
    "# Ex 10.11\n",
    "import math\n",
    "\n",
    "# Variable Declaration\n",
    "rho = 8000  #[kg meter**(2)]\n",
    "t = 0.01  #[meter]\n",
    "\n",
    "# Calculation\n",
    "# Disk\n",
    "IOd = (1/2)*15.71*0.25**(2)+15.71*0.25**(2)  #[kg meter**(2)]\n",
    "# Hole\n",
    "IOh = (1/2)*3.93*0.125**(2)+3.93*0.25**(2)  #[kg meter**(2)]\n",
    "IO = round(IOd-IOh,2)  #[kg meter**(2)]\n",
    "# Result\n",
    "print\"IO = \",(IO),\"kg.m**(2)\"\n"
   ]
  },
  {
   "cell_type": "markdown",
   "metadata": {},
   "source": [
    "## Ex 10.12 Page No 404"
   ]
  },
  {
   "cell_type": "code",
   "execution_count": 29,
   "metadata": {
    "collapsed": false
   },
   "outputs": [
    {
     "name": "stdout",
     "output_type": "stream",
     "text": [
      "IO =  17.0 kg.m**(2)\n",
      "IG =  8.0 kg.m**(2)\n"
     ]
    }
   ],
   "source": [
    "# Ex 10.12\n",
    "import math\n",
    "from __future__ import division\n",
    "\n",
    "# Variable Declaration\n",
    "W = 3  #[kilogram]\n",
    "\n",
    "# Calculation\n",
    "# Rod OA\n",
    "IOAO = (1/3)*W*(2**(2))  #[kg meter**(2)]\n",
    "# Rod BC\n",
    "IBCO = (1/12)*W*(2**(2))+W*(2**(2))  #[kg meter**(2)]\n",
    "# Let IO be moment of inertia of pendulum about O\n",
    "IO = round(IOAO+IBCO,1)  #[kg meter**(2)]\n",
    "ybar = ((1*W+2*W)/(3+3))  #[meter]\n",
    "IG = IO-2*W*ybar  #[kg meter**(2)]\n",
    "\n",
    "# Result\n",
    "print\"IO = \",(IO),\"kg.m**(2)\"\n",
    "print\"IG = \",(IG),\"kg.m**(2)\"\n"
   ]
  },
  {
   "cell_type": "code",
   "execution_count": null,
   "metadata": {
    "collapsed": true
   },
   "outputs": [],
   "source": []
  }
 ],
 "metadata": {
  "anaconda-cloud": {},
  "kernelspec": {
   "display_name": "Python [default]",
   "language": "python",
   "name": "python2"
  },
  "language_info": {
   "codemirror_mode": {
    "name": "ipython",
    "version": 2
   },
   "file_extension": ".py",
   "mimetype": "text/x-python",
   "name": "python",
   "nbconvert_exporter": "python",
   "pygments_lexer": "ipython2",
   "version": "2.7.12"
  }
 },
 "nbformat": 4,
 "nbformat_minor": 1
}
