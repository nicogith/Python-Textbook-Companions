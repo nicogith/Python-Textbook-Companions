{
 "metadata": {
  "name": "",
  "signature": "sha256:74a00fabf3de3a229499fd336c46d9a546ea42ad7cb4fbe98a92a6ea72f21fa8"
 },
 "nbformat": 3,
 "nbformat_minor": 0,
 "worksheets": [
  {
   "cells": [
    {
     "cell_type": "heading",
     "level": 1,
     "metadata": {},
     "source": [
      "Chapter 2: Bonding in Solids"
     ]
    },
    {
     "cell_type": "heading",
     "level": 2,
     "metadata": {},
     "source": [
      "Example 2.1,Page number 62"
     ]
    },
    {
     "cell_type": "code",
     "collapsed": false,
     "input": [
      "import math\n",
      "\n",
      "#Given Data\n",
      "epsilon_0 = 8.854*10**-12; # Absolute electrical permittivity of free space, F/m\n",
      "e = 1.6*10**-19;   # Energy equivalent of 1 eV, eV/J\n",
      "r = 3.147*10**-10;     # Nearest neighbour distance for KCl, m\n",
      "n = 9.1;    # Repulsive exponent of KCl\n",
      "A = 1.748;  # Madelung constant for lattice binding energy\n",
      "E = A*e**2/(4*math.pi*epsilon_0*r)*(n-1)/n/e;     # Binding energy of KCl, eV\n",
      "print\"The binding energy of KCl = \",round(E,4),\"eV\";\n"
     ],
     "language": "python",
     "metadata": {},
     "outputs": [
      {
       "output_type": "stream",
       "stream": "stdout",
       "text": [
        "The binding energy of KCl =  7.10982502818 eV\n"
       ]
      }
     ],
     "prompt_number": 5
    },
    {
     "cell_type": "heading",
     "level": 2,
     "metadata": {},
     "source": [
      "Example 2.2,Page number 62"
     ]
    },
    {
     "cell_type": "code",
     "collapsed": false,
     "input": [
      "import math\n",
      "\n",
      "#Given Data\n",
      "\n",
      "epsilon_0 = 8.854*10**-12; # Absolute electrical permittivity of free space, F/m\n",
      "N = 6.023*10**23;     # Avogadro's number\n",
      "e = 1.6*10**-19;   # Energy equivalent of 1 eV, eV/J\n",
      "a0 = 5.63*10**-10;      # Lattice parameter of NaCl, m\n",
      "r0 = a0/2;      # Nearest neighbour distance for NaCl, m\n",
      "n = 8.4;    # Repulsive exponent of NaCl\n",
      "A = 1.748;  # Madelung constant for lattice binding energy\n",
      "E = A*e**2/(4*pi*epsilon_0*r0)*(n-1)/n/e;     # Binding energy of NaCl, eV\n",
      "print\"The binding energy of NaCl = \",round(E*N*e/(4.186*1000),4),\"kcal/mol\" ;\n"
     ],
     "language": "python",
     "metadata": {},
     "outputs": [
      {
       "output_type": "stream",
       "stream": "stdout",
       "text": [
        "The binding energy of NaCl =  181.1005 kcal/mol\n"
       ]
      }
     ],
     "prompt_number": 7
    },
    {
     "cell_type": "heading",
     "level": 2,
     "metadata": {},
     "source": [
      "Example 2.3,Page number 62"
     ]
    },
    {
     "cell_type": "code",
     "collapsed": false,
     "input": [
      "import math\n",
      "\n",
      "#Given Data\n",
      "\n",
      "epsilon_0 = 8.854*10**-12; # Absolute electrical permittivity of free space, F/m\n",
      "N = 6.023*10**23;     # Avogadro's number\n",
      "e = 1.6*10**-19;   # Energy equivalent of 1 eV, eV/J\n",
      "E = 162.9*10**3;  # Binding energy of KCl, cal/mol\n",
      "n = 8.6;    # Repulsive exponent of KCl\n",
      "A = 1.747;  # Madelung constant for lattice binding energy\n",
      "# As lattice binding energy, E = A*e**2/(4*%pi*epsilon_0*r0)*(n-1)/n, solving for r0\n",
      "r0 = A*N*e**2/(4*pi*epsilon_0*E*4.186)*(n-1)/n;     # Nearest neighbour distance of KCl, m\n",
      "print\"The nearest neighbour distance of KCl = \",round(r0*10**10,4),\"angstorm\";\n"
     ],
     "language": "python",
     "metadata": {},
     "outputs": [
      {
       "output_type": "stream",
       "stream": "stdout",
       "text": [
        "The nearest neighbour distance of KCl =  3.1376 angstorm\n"
       ]
      }
     ],
     "prompt_number": 12
    },
    {
     "cell_type": "heading",
     "level": 2,
     "metadata": {},
     "source": [
      "Example 2.4,Page number 63"
     ]
    },
    {
     "cell_type": "code",
     "collapsed": false,
     "input": [
      "import math\n",
      "\n",
      "#Given Data\n",
      "\n",
      "epsilon_0 = 8.854*10**-12; # Absolute electrical permittivity of free space, F/m\n",
      "N = 6.023*10**23;     # Avogadro's number\n",
      "e = 1.6*10**-19;   # Energy equivalent of 1 eV, eV/J\n",
      "E = 152*10**3;  # Binding energy of CsCl, cal/mol\n",
      "n = 10.6;    # Repulsive exponent of CsCl\n",
      "A = 1.763;  # Madelung constant for lattice binding energy\n",
      "\n",
      "# As lattice binding energy, E = A*e**2/(4*pi*epsilon_0*r0)*(n-1)/n, solving for r0\n",
      "r0 = A*N*e**2/(4*pi*epsilon_0*E*4.186)*(n-1)/n;     # Nearest neighbour distance of CsCl, m\n",
      "print\"The nearest neighbour distance of CsCl = \",round(r0*10**10,4),\"angstrom\";\n"
     ],
     "language": "python",
     "metadata": {},
     "outputs": [
      {
       "output_type": "stream",
       "stream": "stdout",
       "text": [
        "The nearest neighbour distance of CsCl =  3.4776 angstrom\n"
       ]
      }
     ],
     "prompt_number": 13
    },
    {
     "cell_type": "heading",
     "level": 2,
     "metadata": {},
     "source": [
      "Example 2.5,Page number 63"
     ]
    },
    {
     "cell_type": "code",
     "collapsed": false,
     "input": [
      "import math\n",
      "\n",
      "#Given Data\n",
      "\n",
      "epsilon_0 = 8.854*10**-12; # Absolute electrical permittivity of free space, F/m\n",
      "N = 6.023*10**23;     # Avogadro's number\n",
      "e = 1.6*10**-19;   # Energy equivalent of 1 eV, eV/J\n",
      "r0 = 6.46*10**-10;     # Nearest neighbour distance of NaI\n",
      "E = 157.1*10**3;  # Binding energy of NaI, cal/mol\n",
      "A = 1.747;  # Madelung constant for lattice binding energy\n",
      "\n",
      "# As lattice binding energy, E = -A*e**2/(4*pi*epsilon_0*r0)*(n-1)/n, solving for n\n",
      "n = 1/(1+(4.186*E*4*pi*epsilon_0*r0)/(N*A*e**2));   # Repulsive exponent of NaI\n",
      "print\"\\nThe repulsive exponent of NaI = \",round(n,4);"
     ],
     "language": "python",
     "metadata": {},
     "outputs": [
      {
       "output_type": "stream",
       "stream": "stdout",
       "text": [
        "\n",
        "The repulsive exponent of NaI =  0.363\n"
       ]
      }
     ],
     "prompt_number": 15
    },
    {
     "cell_type": "heading",
     "level": 2,
     "metadata": {},
     "source": [
      "Example 2.6,Page number 63"
     ]
    },
    {
     "cell_type": "code",
     "collapsed": false,
     "input": [
      "import math\n",
      "\n",
      "#Given Data\n",
      "\n",
      "e = 1.6*10**-19;   # Energy equivalent of 1 eV, eV/J\n",
      "a0 = 2.8158*10**-10;     # Nearest neighbour distance of solid\n",
      "A = 1.747;  # Madelung constant for lattice binding energy\n",
      "n = 8.6;    # The repulsive exponent of solid\n",
      "c = 2;  # Structural factor for rocksalt\n",
      "# As n = 1 + (9*c*a0**4)/(K0*e**2*A), solving for K0\n",
      "K0 = 9*c*a0**4/((n-1)*e**2*A);        # Compressibility of solid, metre square per newton\n",
      "print\"The compressibility of the solid = \", \"{0:.3e}\".format(K0),\"metre square per newton\";"
     ],
     "language": "python",
     "metadata": {},
     "outputs": [
      {
       "output_type": "stream",
       "stream": "stdout",
       "text": [
        "The compressibility of the solid =  3.329e-01 metre square per newton\n"
       ]
      }
     ],
     "prompt_number": 18
    },
    {
     "cell_type": "heading",
     "level": 2,
     "metadata": {},
     "source": [
      "Example 2.7,Page number 69"
     ]
    },
    {
     "cell_type": "code",
     "collapsed": false,
     "input": [
      "import math\n",
      "\n",
      "#Given Data\n",
      "\n",
      "chi_diff = 1;   # Electronegativity difference between the constituent of elements of solid\n",
      "percent_ion = 100*(1-math.e**(-(0.25*chi_diff**2)));  # Percentage ionic character present in solid given by Pauling\n",
      "print\"The percentage ionic character present in solid = \",round(percent_ion,2),\"percent \";\n"
     ],
     "language": "python",
     "metadata": {},
     "outputs": [
      {
       "output_type": "stream",
       "stream": "stdout",
       "text": [
        "The percentage ionic character present in solid =  22.12 percent \n"
       ]
      }
     ],
     "prompt_number": 20
    },
    {
     "cell_type": "heading",
     "level": 2,
     "metadata": {},
     "source": [
      "Example 2.8,Page number 69"
     ]
    },
    {
     "cell_type": "code",
     "collapsed": false,
     "input": [
      "import math\n",
      "\n",
      "#Given Data\n",
      "\n",
      "Eh_GaAs = 4.3;       # Homopolar gap of GaAs compound, eV\n",
      "C_GaAs = 2.90;      # Ionic gap of GaAs compound, eV\n",
      "Eh_CdTe = 3.08;      # Homopolar gap of CdTe compound, eV\n",
      "C_CdTe = 4.90;      # Ionic gap of CdTe compound, eV\n",
      "\n",
      "fi_GaAs = C_GaAs**2/(Eh_GaAs**2 + C_GaAs**2);\n",
      "fi_CdTe = C_CdTe**2/(Eh_CdTe**2 + C_CdTe**2);\n",
      "print\"The fractional ionicity of GaAs = \",round(fi_GaAs,4);\n",
      "print\"The fractional ionicity of CdTe = \",round(fi_CdTe,4);\n"
     ],
     "language": "python",
     "metadata": {},
     "outputs": [
      {
       "output_type": "stream",
       "stream": "stdout",
       "text": [
        "The fractional ionicity of GaAs =  0.3126\n",
        "The fractional ionicity of CdTe =  0.7168\n"
       ]
      }
     ],
     "prompt_number": 3
    },
    {
     "cell_type": "code",
     "collapsed": false,
     "input": [],
     "language": "python",
     "metadata": {},
     "outputs": []
    }
   ],
   "metadata": {}
  }
 ]
}