{
 "metadata": {
  "name": ""
 },
 "nbformat": 3,
 "nbformat_minor": 0,
 "worksheets": [
  {
   "cells": [
    {
     "cell_type": "heading",
     "level": 1,
     "metadata": {},
     "source": [
      "Chapter 23: Polymer Materials"
     ]
    },
    {
     "cell_type": "heading",
     "level": 2,
     "metadata": {},
     "source": [
      "Example 23.1, page no-625"
     ]
    },
    {
     "cell_type": "code",
     "collapsed": false,
     "input": [
      "#Sulphur required for final rubber product\n",
      "\n",
      "import math\n",
      "#Variable Declaration\n",
      "p_wt=500                      # weight of final rubber product\n",
      "w1= 32.0                      # atomic weight of sulphur\n",
      "w2= 54.0                      # weight of monomer unit\n",
      "\n",
      "#Calculation\n",
      "s_req=w1/(w1+w2)\n",
      "s_req= math.floor(s_req*100)/100\n",
      "\n",
      "\n",
      "#Result\n",
      "print('Therefore, sulphur required for %d *10^3 kg of final  rubber product = %d * 10^-3 kg'%(p_wt,s_req*p_wt))"
     ],
     "language": "python",
     "metadata": {},
     "outputs": [
      {
       "output_type": "stream",
       "stream": "stdout",
       "text": [
        "Therefore, sulphur required for 500 *10^3 kg of final  rubber product = 185 * 10^-3 kg\n"
       ]
      }
     ],
     "prompt_number": 5
    },
    {
     "cell_type": "heading",
     "level": 2,
     "metadata": {},
     "source": [
      "Example 23.2, page no-625"
     ]
    },
    {
     "cell_type": "code",
     "collapsed": false,
     "input": [
      "# Photon energy to break C C bond\n",
      "\n",
      "import math\n",
      "#Variable Declaration\n",
      "E=370*10**3                  # energy of c-c bond j/mol\n",
      "lam=3200*10**-10             # wavelength of UV light\n",
      "h=6.626*10**-34              # Planck's constant\n",
      "c=3*10**8                    # speed of light\n",
      "\n",
      "#Calculation\n",
      "E1=h*c/lam\n",
      "Ec=E/(6.02*10**23)\n",
      "\n",
      "#Result\n",
      "print('\\nE=%.1f*10^-19 J'%(E1*10**19))\n",
      "print('\\nThe Energy of c-c Bond = %.1f * 10^-19'%(Ec*10**19))\n",
      "print('\\n\\nThe UV light photon energy is sufficient to break a C-C bond.\\nTherefore, the polymer deteriorates under the influence of UV light')"
     ],
     "language": "python",
     "metadata": {},
     "outputs": [
      {
       "output_type": "stream",
       "stream": "stdout",
       "text": [
        "\n",
        "E=6.2*10^-19 J\n",
        "\n",
        "The Energy of c-c Bond = 6.1 * 10^-19\n",
        "\n",
        "\n",
        "The UV light photon energy is sufficient to break a C-C bond.\n",
        "Therefore, the polymer deteriorates under the influence of UV light\n"
       ]
      }
     ],
     "prompt_number": 7
    }
   ],
   "metadata": {}
  }
 ]
}