{
 "metadata": {
  "name": ""
 },
 "nbformat": 3,
 "nbformat_minor": 0,
 "worksheets": [
  {
   "cells": [
    {
     "cell_type": "heading",
     "level": 1,
     "metadata": {},
     "source": [
      "Chapter 11: Mechanical Properties"
     ]
    },
    {
     "cell_type": "heading",
     "level": 2,
     "metadata": {},
     "source": [
      " Example 11.1, page no-332"
     ]
    },
    {
     "cell_type": "code",
     "collapsed": false,
     "input": [
      "# Stress produced in an Al\n",
      "\n",
      "import math\n",
      "#Variable Declaration\n",
      "ld=2000.0                        # Load applied\n",
      "g=9.8                            # Acceleration due to gravity in m/s^2\n",
      "r=0.005                          # radious of test piece\n",
      "\n",
      "#Calculation\n",
      "force=ld*g\n",
      "stress= force/(math.pi*r**2)\n",
      "\n",
      "#Result\n",
      "print('The stress produce in an aluminium alloy is %.1f MPa'%(stress*10**-6))"
     ],
     "language": "python",
     "metadata": {},
     "outputs": [
      {
       "output_type": "stream",
       "stream": "stdout",
       "text": [
        "The stress produce in an aluminium alloy is 249.6 MPa\n"
       ]
      }
     ],
     "prompt_number": 3
    },
    {
     "cell_type": "heading",
     "level": 2,
     "metadata": {},
     "source": [
      "Example 11.2, page no-332"
     ]
    },
    {
     "cell_type": "code",
     "collapsed": false,
     "input": [
      "# perentage elongation and reduction\n",
      "\n",
      "import math\n",
      "#Variable Declaration\n",
      "lf=53.75*10**-3\n",
      "l0=50*10**-3\n",
      "df=9.4*10**-3\n",
      "d0=8.8*10**-3\n",
      "\n",
      "#Calculation\n",
      "pl=(lf-l0)*100.0/l0\n",
      "pa=((math.pi*df**2)-(math.pi*d0**2))*100.0/(math.pi*df**2)\n",
      "\n",
      "#Result\n",
      "print('\\nThe %% elongation is %.1f%% and \\nthe %% reduction in area is %.2f%%'%(pl,pa))"
     ],
     "language": "python",
     "metadata": {},
     "outputs": [
      {
       "output_type": "stream",
       "stream": "stdout",
       "text": [
        "\n",
        "The % elongation is 7.5% and \n",
        "the % reduction in area is 12.36%\n"
       ]
      }
     ],
     "prompt_number": 6
    },
    {
     "cell_type": "heading",
     "level": 2,
     "metadata": {},
     "source": [
      "Example 11.3, page no-332"
     ]
    },
    {
     "cell_type": "code",
     "collapsed": false,
     "input": [
      "#Brinell Hardness Number\n",
      "\n",
      "import math\n",
      "#Variable Declaration\n",
      "ts=937.0                # Tensile strength of steel\n",
      "\n",
      "\n",
      "#Calculation\n",
      "bhn=ts/3.45\n",
      "\n",
      "#Result\n",
      "print('The Brinell Hardness Number is %.2f'%bhn)"
     ],
     "language": "python",
     "metadata": {},
     "outputs": [
      {
       "output_type": "stream",
       "stream": "stdout",
       "text": [
        "The Brinell Hardness Number is 271.59\n"
       ]
      }
     ],
     "prompt_number": 7
    },
    {
     "cell_type": "heading",
     "level": 2,
     "metadata": {},
     "source": [
      "Example 11.4, page no-333"
     ]
    },
    {
     "cell_type": "code",
     "collapsed": false,
     "input": [
      "#Tensile strength and fatigue limit of Steel plate\n",
      "\n",
      "import math\n",
      "#Variable Declaration\n",
      "p=3000.0                         # Load applied\n",
      "D=10.0                           # diameter of the indenter\n",
      "d=2.2                            # diameter of the impression\n",
      "\n",
      "#Calculation\n",
      "Hb=2*p/(math.pi*D*(D-math.sqrt(D**2-d**2)))\n",
      "Hb= math.floor(Hb*10)/10\n",
      "ts=3.45*Hb\n",
      "fl=0.5*ts\n",
      "\n",
      "#Result\n",
      "print('\\nBrinell Hardness Number of steel Plate, Hb=%.1f\\n'%Hb)\n",
      "print('\\nThe Tensile strength of steel plate is %.3f MPa\\n'%ts)\n",
      "print('\\nThe Fatigue limit of steel plate is %.4f MPa'%fl)"
     ],
     "language": "python",
     "metadata": {},
     "outputs": [
      {
       "output_type": "stream",
       "stream": "stdout",
       "text": [
        "\n",
        "Brinell Hardness Number of steel Plate, Hb=779.5\n",
        "\n",
        "\n",
        "The Tensile strength of steel plate is 2689.275 MPa\n",
        "\n",
        "\n",
        "The Fatigue limit of steel plate is 1344.6375 MPa\n"
       ]
      }
     ],
     "prompt_number": 12
    }
   ],
   "metadata": {}
  }
 ]
}