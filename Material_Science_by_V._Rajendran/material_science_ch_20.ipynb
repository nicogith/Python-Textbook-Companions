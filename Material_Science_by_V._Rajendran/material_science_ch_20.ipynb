{
 "metadata": {
  "name": ""
 },
 "nbformat": 3,
 "nbformat_minor": 0,
 "worksheets": [
  {
   "cells": [
    {
     "cell_type": "heading",
     "level": 1,
     "metadata": {},
     "source": [
      "Chapter 20: Super Conducting Materials"
     ]
    },
    {
     "cell_type": "heading",
     "level": 2,
     "metadata": {},
     "source": [
      "Example 20.2, page no-568"
     ]
    },
    {
     "cell_type": "code",
     "collapsed": false,
     "input": [
      "# Critical field\n",
      "\n",
      "import math\n",
      "#variable declaration\n",
      "h0=0.0306                   # critical field\n",
      "t1=2.0                      # Temperature \n",
      "t2=3.7                      # Temperature corresponds to h0\n",
      "\n",
      "#calculation\n",
      "he=h0*(1-((t1**2)/t2**2))\n",
      "\n",
      "#Result\n",
      "print(\"The critical field at %d K is %.5f T\"%(t1,he))"
     ],
     "language": "python",
     "metadata": {},
     "outputs": [
      {
       "output_type": "stream",
       "stream": "stdout",
       "text": [
        "The critical field at 2 K is 0.02166 T\n"
       ]
      }
     ],
     "prompt_number": 1
    },
    {
     "cell_type": "heading",
     "level": 2,
     "metadata": {},
     "source": [
      "Example 20.3, page no-569"
     ]
    },
    {
     "cell_type": "code",
     "collapsed": false,
     "input": [
      "# Critical current for a wire\n",
      "\n",
      "import math\n",
      "#variable declaration\n",
      "t1=4.2                      # Temperature \n",
      "t2=7.18                     # critical Temperature\n",
      "h0=6.5*10**4                # critical magnetic field\n",
      "\n",
      "#calculations\n",
      "he=h0*(1-((t1**2)/t2**2)) \n",
      "r=0.5*10**-3\n",
      "I=2*3.14*he*r\n",
      "\n",
      "#Result\n",
      "print(\"The critical current through a wire of lead is %.2f A\"%I)"
     ],
     "language": "python",
     "metadata": {},
     "outputs": [
      {
       "output_type": "stream",
       "stream": "stdout",
       "text": [
        "The critical current through a wire of lead is 134.26 A\n"
       ]
      }
     ],
     "prompt_number": 7
    },
    {
     "cell_type": "heading",
     "level": 2,
     "metadata": {},
     "source": [
      "Example 20.4, page no-570"
     ]
    },
    {
     "cell_type": "code",
     "collapsed": false,
     "input": [
      "#critical temperature\n",
      "\n",
      "import math\n",
      "#variable declaration\n",
      "tc1=4.185                 # Critical temperature of lead\n",
      "m1=199.5                  # isotopic mass 1\n",
      "m2=203.4                  # isotopic mass 2\n",
      "\n",
      "#calculation\n",
      "tc2=tc1* math.sqrt(m1/m2)\n",
      "\n",
      "#Result\n",
      "print(\"The critical temperature for metal with isotopic mass of %.1f is %.3f K\"%(m2,tc2))\n"
     ],
     "language": "python",
     "metadata": {},
     "outputs": [
      {
       "output_type": "stream",
       "stream": "stdout",
       "text": [
        "The critical temperature for metal with isotopic mass of 203.4 is 4.145 K\n"
       ]
      }
     ],
     "prompt_number": 9
    }
   ],
   "metadata": {}
  }
 ]
}