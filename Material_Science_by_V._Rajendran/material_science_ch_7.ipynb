{
 "metadata": {
  "name": ""
 },
 "nbformat": 3,
 "nbformat_minor": 0,
 "worksheets": [
  {
   "cells": [
    {
     "cell_type": "heading",
     "level": 1,
     "metadata": {},
     "source": [
      "Chapter 7: Elecron theory of Solids"
     ]
    },
    {
     "cell_type": "heading",
     "level": 2,
     "metadata": {},
     "source": [
      "Example 7.1, page no-160"
     ]
    },
    {
     "cell_type": "code",
     "collapsed": false,
     "input": [
      "# Mobility ofelectrons\n",
      "\n",
      "import math\n",
      "#variable declaration\n",
      "rho=1.73*10**-8                      # Resistivity of copper\n",
      "z=63.5                               # atomic weight of copper\n",
      "d=8.92*10**3                         # density of copper\n",
      "avg=6.023*10**26                     # Avogadro's number\n",
      "e=1.6*10**-19                        # charge of an electron\n",
      "m=9.11*10**-31                       # mass of an electron\n",
      "\n",
      "#variable declaration\n",
      "n=avg*d/z\n",
      "sig=1/rho\n",
      "tau=sig*m/(n*e**2)\n",
      "mu=sig/(n*e)\n",
      "\n",
      "#Result\n",
      "print(\"Mobility of electrons in copper is %.2f *10^-3 m^2/V-s\"%(mu*10**3))"
     ],
     "language": "python",
     "metadata": {},
     "outputs": [
      {
       "output_type": "stream",
       "stream": "stdout",
       "text": [
        "Mobility of electrons in copper is 4.27 *10^-3 m^2/V-s\n"
       ]
      }
     ],
     "prompt_number": 4
    },
    {
     "cell_type": "heading",
     "level": 2,
     "metadata": {},
     "source": [
      "Example 7.2, page no-161"
     ]
    },
    {
     "cell_type": "code",
     "collapsed": false,
     "input": [
      "# Resistivity of copper\n",
      "\n",
      "import math\n",
      "#variable declaration\n",
      "r=1.85*10**-10                      # radius of the sodium atom\n",
      "t=3*10**-14                         # mean free time of sodium atom\n",
      "m=9.11*10**-31                      # mass of electron\n",
      "e=1.6*10**-19                       # charge of an atom\n",
      "n= 2.0                              # No of atoms per unit cell\n",
      "\n",
      "#calculations\n",
      "a=r*(4.0/math.sqrt(3.0))  \n",
      "a= math.floor(a*10**12)/10**12       \n",
      "ne=n/a**3\n",
      "ne= math.ceil(ne*10**-26)/10**-26\n",
      "rho=m/(ne*t*e**2)\n",
      "\n",
      "#Result\n",
      "print(\"Resistivity of copper is %.3f*10^-8 Ohm-m\"%(rho*10**8))"
     ],
     "language": "python",
     "metadata": {},
     "outputs": [
      {
       "output_type": "stream",
       "stream": "stdout",
       "text": [
        "Resistivity of copper is 4.616*10^-8 Ohm-m\n"
       ]
      }
     ],
     "prompt_number": 23
    },
    {
     "cell_type": "heading",
     "level": 2,
     "metadata": {},
     "source": [
      "Example 7.3, page no-161"
     ]
    },
    {
     "cell_type": "code",
     "collapsed": false,
     "input": [
      "# Electrical resistivity of sodium\n",
      "\n",
      "import math\n",
      "#variable declaration\n",
      "t=3.1*10**14                       # mean free time of electron\n",
      "m=9.11*10**-31                     # mass of an electron\n",
      "e=1.6*10**-19                      # charge of an electron \n",
      "n=25.33*10**27                     # no of electrons per unit volume\n",
      "\n",
      "#calculations\n",
      "rho=m/(n*t*e**2)\n",
      "\n",
      "#Result\n",
      "print(\"The electric resistivity of sodium at 0\u00b0C is %.3f*10^-36 Ohm-m\"%(rho*10**36))"
     ],
     "language": "python",
     "metadata": {},
     "outputs": [
      {
       "output_type": "stream",
       "stream": "stdout",
       "text": [
        "The electric resistivity of sodium at 0\u00b0C is 4.532*10^-36 Ohm-m\n"
       ]
      }
     ],
     "prompt_number": 25
    },
    {
     "cell_type": "heading",
     "level": 2,
     "metadata": {},
     "source": [
      "Example 7.4, page no-162"
     ]
    },
    {
     "cell_type": "code",
     "collapsed": false,
     "input": [
      "# mobility of the electron\n",
      "\n",
      "import math\n",
      "#variable declaration\n",
      "t=3.4*10**-14                     # relaxation time of conduction electrons\n",
      "m=9.11*10**-31                    # mass of electron\n",
      "e=1.6*10**-19                     # charge of electron\n",
      "n=5.8*10**28                      # no of force electrons per unit volume\n",
      "\n",
      "#calculations\n",
      "rho=m/(n*t*e**2)\n",
      "print(\"\\nThe electric resistivity of material is %.3f*10^-8 Ohm-m\"%(rho*10**8))\n",
      "mu=e*t/m\n",
      "print(\"\\nThe mobility of the electron in a metal is %.2f*10^-3 m^2/v-s\"%(mu*10**3))"
     ],
     "language": "python",
     "metadata": {},
     "outputs": [
      {
       "output_type": "stream",
       "stream": "stdout",
       "text": [
        "\n",
        "The electric resistivity of material is 1.805*10^-8 Ohm-m\n",
        "\n",
        "The mobility of the electron in a metal is 5.97*10^-3 m^2/v-s\n"
       ]
      }
     ],
     "prompt_number": 27
    },
    {
     "cell_type": "heading",
     "level": 2,
     "metadata": {},
     "source": [
      "Example 7.5, page no-163"
     ]
    },
    {
     "cell_type": "code",
     "collapsed": false,
     "input": [
      "# drift velocity\n",
      "\n",
      "import math\n",
      "#variable declaration\n",
      "rho=1.54*10**-8                   # resistivity of silver\n",
      "E=100                             # electric field along the wire\n",
      "n=5.8*10**28                      # carrier concentration of electron\n",
      "e=1.6*10**-19                     # charge on electron\n",
      "\n",
      "#calculation\n",
      "mu=1/(rho*n*e)\n",
      "vd=mu*E\n",
      "\n",
      "#Result\n",
      "print(\"\\nMobility of electron in silvetr is %.4f*10^-3 m^2/v-s\\n\\nThe drift velocity of the electron in silver is %.5f m/s \"%(mu*10**3,vd))\n"
     ],
     "language": "python",
     "metadata": {},
     "outputs": [
      {
       "output_type": "stream",
       "stream": "stdout",
       "text": [
        "\n",
        "Mobility of electron in silvetr is 6.9973*10^-3 m^2/v-s\n",
        "\n",
        "The drift velocity of the electron in silver is 0.69973 m/s \n"
       ]
      }
     ],
     "prompt_number": 28
    },
    {
     "cell_type": "heading",
     "level": 2,
     "metadata": {},
     "source": [
      "Example 7.6, page no-163"
     ]
    },
    {
     "cell_type": "code",
     "collapsed": false,
     "input": [
      "# mobility ofelectron\n",
      "\n",
      "import math\n",
      "#variable declaration\n",
      "d=10.5*10**3                      # density of silver\n",
      "sig=6.8*10**7                     # conductivity of silver\n",
      "wt=107.9                          # atomic weight of silver\n",
      "e=1.609*10**-19                   # charge of electron\n",
      "avg=6.023*10**26                  # avogadro's number\n",
      "\n",
      "#calculations\n",
      "n=avg*d/wt\n",
      "mu=sig/(n*e)\n",
      "\n",
      "#Result\n",
      "print(\"The mobility of electron is %.2f *10^-2 m^2.V/s\"%(mu*10**2))\n"
     ],
     "language": "python",
     "metadata": {},
     "outputs": [
      {
       "output_type": "stream",
       "stream": "stdout",
       "text": [
        "The mobility of electron is 0.72 *10^-2 m^2.V/s\n"
       ]
      }
     ],
     "prompt_number": 32
    },
    {
     "cell_type": "heading",
     "level": 2,
     "metadata": {},
     "source": [
      "Example 7.7, page no-164"
     ]
    },
    {
     "cell_type": "code",
     "collapsed": false,
     "input": [
      "#Lorentz number\n",
      "\n",
      "import math\n",
      "#variable declaration\n",
      "sig=5.87*10**7                    # electrical conductivity of  copper\n",
      "k=390.0                           # thermal conductivity of copper\n",
      "T=293.0                           # temperature\n",
      "\n",
      "#calculation\n",
      "L=k/(sig*T)\n",
      "\n",
      "#Result\n",
      "print(\"The Lorentz number is %.3f *10^-8 W.Ohm/K^2\"%(L*10**8))"
     ],
     "language": "python",
     "metadata": {},
     "outputs": [
      {
       "output_type": "stream",
       "stream": "stdout",
       "text": [
        "The Lorentz number is 2.268 *10^-8 W.Ohm/K^2\n"
       ]
      }
     ],
     "prompt_number": 33
    },
    {
     "cell_type": "heading",
     "level": 2,
     "metadata": {},
     "source": [
      "Example 7.8, page no-164"
     ]
    },
    {
     "cell_type": "code",
     "collapsed": false,
     "input": [
      "#Lorentz number\n",
      "import math\n",
      "\n",
      "#variable declaration\n",
      "t=1*10**-14                        # relaxation time\n",
      "T=300                              # temperature\n",
      "m=9.1*10**-31                      # mass of electron\n",
      "e=1.6*10**-19                      # charge of electron\n",
      "n=6*10**28                         # electron concentration\n",
      "\n",
      "#calculations\n",
      "sig=(n*t*e**2)/m\n",
      "k=1.38*10**-23\n",
      "k1=n*math.pi**2*k**2*T*t/(3*m)\n",
      "L=k1/(sig*T)\n",
      "\n",
      "#Result\n",
      "print(\"\\nThe electrical conductivity is %.4f * 10^7/ohm-m\"%(sig*10**-7))\n",
      "print(\"\\n\\nThermal conductivity is %.2f W/m-k\"%k1)\n",
      "print(\"\\n\\nThe Lorentz number is %.4f *10^-8 W.Ohm/k^2\"%(L*10**8))\n"
     ],
     "language": "python",
     "metadata": {},
     "outputs": [
      {
       "output_type": "stream",
       "stream": "stdout",
       "text": [
        "\n",
        "The electrical conductivity is 1.6879 * 10^7/ohm-m\n",
        "\n",
        "\n",
        "Thermal conductivity is 123.93 W/m-k\n",
        "\n",
        "\n",
        "The Lorentz number is 2.4474 *10^-8 W.Ohm/k^2\n"
       ]
      }
     ],
     "prompt_number": 36
    },
    {
     "cell_type": "heading",
     "level": 2,
     "metadata": {},
     "source": [
      "Example 7.9, page no-165"
     ]
    },
    {
     "cell_type": "code",
     "collapsed": false,
     "input": [
      "# Electrical conductivity\n",
      "\n",
      "import math\n",
      "\n",
      "#variable declaration\n",
      "d=8900                            # Density of copper\n",
      "cu=63.5                           # Atomic weight of Cu\n",
      "t=10**-14                         # Relaxation time\n",
      "avg=6.022*10**23                  # Avogadro's number\n",
      "m=9.1*10**-31                     # mass of electron\n",
      "e=1.6*10**-19                     # charge of electron\n",
      "\n",
      "#Calculations\n",
      "n=avg*d*1000/cu\n",
      "sig=(n*t*e**2)/m\n",
      "print(\"The electrical conductivity is %.3f *10^7 /Ohm-m\"%(sig*10**-7))"
     ],
     "language": "python",
     "metadata": {},
     "outputs": [
      {
       "output_type": "stream",
       "stream": "stdout",
       "text": [
        "The electrical conductivity is 2.374 *10^7 /Ohm-m\n"
       ]
      }
     ],
     "prompt_number": 38
    },
    {
     "cell_type": "heading",
     "level": 2,
     "metadata": {},
     "source": [
      "Example 7.10, page no-166"
     ]
    },
    {
     "cell_type": "code",
     "collapsed": false,
     "input": [
      "# Drift velocity of electrons\n",
      "import math\n",
      "\n",
      "#variable declaration\n",
      "rho=1.6*10**-8                     # resistivity of the silver piece\n",
      "e=1.603*10**-19                    # charge of an electron\n",
      "fe=5.5*e                           # energy of the silver\n",
      "avg=6.023*10**23                   # avogadro's number\n",
      "d=1.05*10**4                       # density of silver\n",
      "wt=107.9*10**-3                    # atomic weight of silver\n",
      "m=9.1*10**-31                      # mass of electron\n",
      "c=3*10**8                          # speed of light\n",
      "\n",
      "#calculations\n",
      "sig=1/rho\n",
      "n=avg*d/wt\n",
      "t=sig*m/(n*e**2)\n",
      "lam=c*t\n",
      "vd=sig*100/(n*e)\n",
      "\n",
      "#Result\n",
      "print(\"\\nThe conductivity of silver piece is %.2f*10^7 per Ohm-m\\n\\nThe relaxation time is %.2f*10^-14 s\"%(sig*10**-7,t*10**14))\n",
      "print(\"\\nThe drift velocity of electrons in the silver piece is %.2f m/s\"%(math.floor(vd*100)/100))\n"
     ],
     "language": "python",
     "metadata": {},
     "outputs": [
      {
       "output_type": "stream",
       "stream": "stdout",
       "text": [
        "\n",
        "The conductivity of silver piece is 6.25*10^7 per Ohm-m\n",
        "\n",
        "The relaxation time is 3.78*10^-14 s\n",
        "\n",
        "The drift velocity of electrons in the silver piece is 0.66 m/s\n"
       ]
      }
     ],
     "prompt_number": 51
    },
    {
     "cell_type": "heading",
     "level": 2,
     "metadata": {},
     "source": [
      "Example 7.11, page no-167"
     ]
    },
    {
     "cell_type": "code",
     "collapsed": false,
     "input": [
      "# resistivityy of the copper\n",
      "\n",
      "import math\n",
      "#variable declaration\n",
      "r1=1.7*10**-8                    # resistivity of copper at T1\n",
      "t2=300.0                         # temperature(T1)\n",
      "t1=700.0+273                     # temperature(T2)\n",
      "\n",
      "#calculation\n",
      "r2=r1*math.sqrt((t1/t2))\n",
      "print(\"The resistivityy of the copper wire is %.4f*10^-8 Ohm-m\"%(r2*10**8))\n"
     ],
     "language": "python",
     "metadata": {},
     "outputs": [
      {
       "output_type": "stream",
       "stream": "stdout",
       "text": [
        "The resistivityy of the copper wire is 3.0616*10^-8 Ohm-m\n"
       ]
      }
     ],
     "prompt_number": 52
    },
    {
     "cell_type": "heading",
     "level": 2,
     "metadata": {},
     "source": [
      "Example 7.12, page no-168"
     ]
    },
    {
     "cell_type": "code",
     "collapsed": false,
     "input": [
      "# Relaxation time, Drift velocity, Fermi velocity, mean free path\n",
      "\n",
      "import math\n",
      "#variable declarations\n",
      "rho=1.54*10**-8                      # Resistivity \n",
      "e=1.6*10**-19                        # charge of electron\n",
      "ef=5.5*e                             # Fermi energy\n",
      "n=5.8*10**28                         # concentration of electrons\n",
      "m=9.1*10**-31                        # mass of electron \n",
      "\n",
      "#(i)\n",
      "t=m/(rho*n*e**2)\n",
      "mu=e*t/m\n",
      "print(\"\\n(i)\\nThe relaxation time is %.2f*10^-14 s\\nThe mobility of the electrons is %.4f *10^-3 m^2/V-s\"%(t*10**14,mu*10**3))\n",
      "\n",
      "#(ii)\n",
      "vd=e*t*100/m\n",
      "print(\"\\n\\n(ii)\\nthe drift velocity of elctron is %.5f m/s\"%vd)\n",
      "\n",
      "#(iii)\n",
      "vf=math.sqrt(2*ef/m)\n",
      "print(\"\\n\\n(iii)\\nFermi velocity is %.2f*10^6 m/s\"%(vf*10**-6))\n",
      "\n",
      "#(iv)\n",
      "lam=vf*t\n",
      "print(\"\\n\\n(iv)\\nThe mean free path is %.3f*10^-8 m\"%(lam*10**8))"
     ],
     "language": "python",
     "metadata": {},
     "outputs": [
      {
       "output_type": "stream",
       "stream": "stdout",
       "text": [
        "\n",
        "(i)\n",
        "The relaxation time is 3.98*10^-14 s\n",
        "The mobility of the electrons is 6.9973 *10^-3 m^2/V-s\n",
        "\n",
        "\n",
        "(ii)\n",
        "the drift velocity of elctron is 0.69973 m/s\n",
        "\n",
        "\n",
        "(iii)\n",
        "Fermi velocity is 1.39*10^6 m/s\n",
        "\n",
        "\n",
        "(iv)\n",
        "The mean free path is 5.535*10^-8 m\n"
       ]
      }
     ],
     "prompt_number": 55
    }
   ],
   "metadata": {}
  }
 ]
}