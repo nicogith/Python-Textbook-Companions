{
 "metadata": {
  "name": ""
 },
 "nbformat": 3,
 "nbformat_minor": 0,
 "worksheets": [
  {
   "cells": [
    {
     "cell_type": "heading",
     "level": 1,
     "metadata": {},
     "source": [
      "Chapter 16: Photoconductivity "
     ]
    },
    {
     "cell_type": "heading",
     "level": 2,
     "metadata": {},
     "source": [
      "Example 16.1, page no-416"
     ]
    },
    {
     "cell_type": "code",
     "collapsed": false,
     "input": [
      "#Pairs generated per second\n",
      "\n",
      "import math\n",
      "#Variable Declaration\n",
      "lam=0.4*10**-6                    # wavelength of light\n",
      "A=4*10**-6                        # area of the crystal\n",
      "in1=200.0                         # intensity of light in W/m^2\n",
      "h=6.626*10**-34                   # Planck's constant\n",
      "c=3*10**8                         # speed of light\n",
      "\n",
      "\n",
      "#Calculation\n",
      "N=in1*A*lam/(h*c)\n",
      "\n",
      "\n",
      "#Result\n",
      "print('The number of pairs generated per second is %.3f * 10^14'%(N*10**-14))"
     ],
     "language": "python",
     "metadata": {},
     "outputs": [
      {
       "output_type": "stream",
       "stream": "stdout",
       "text": [
        "The number of pairs generated per second is 16.098 * 10^14\n"
       ]
      }
     ],
     "prompt_number": 1
    },
    {
     "cell_type": "heading",
     "level": 2,
     "metadata": {},
     "source": [
      "Example 16.2, page no-417"
     ]
    },
    {
     "cell_type": "code",
     "collapsed": false,
     "input": [
      "# Wavelength of emitted radiation\n",
      "\n",
      "import math\n",
      "#Variable Declaration\n",
      "e=1.6*10**-19                 # Charge of electron\n",
      "eg=1.43                       # band gap energy in eV\n",
      "h=6.626*10**-34               # Planck's constant\n",
      "c=3*10**8                     # speed of light in m/s\n",
      "\n",
      "\n",
      "#Calculation\n",
      "E=e*eg \n",
      "lam=h*c/E\n",
      "\n",
      "\n",
      "#Result\n",
      "print('The wavelength of emitted radiation is %.2f \u00b5m'%(lam*10**6))"
     ],
     "language": "python",
     "metadata": {},
     "outputs": [
      {
       "output_type": "stream",
       "stream": "stdout",
       "text": [
        "The wavelength of emitted radiation is 0.87 \u00b5m\n"
       ]
      }
     ],
     "prompt_number": 2
    }
   ],
   "metadata": {}
  }
 ]
}