{
 "metadata": {
  "name": ""
 },
 "nbformat": 3,
 "nbformat_minor": 0,
 "worksheets": [
  {
   "cells": [
    {
     "cell_type": "heading",
     "level": 1,
     "metadata": {},
     "source": [
      "Chapter 15: Display Devices"
     ]
    },
    {
     "cell_type": "heading",
     "level": 2,
     "metadata": {},
     "source": [
      "Example 15.1, page no-406"
     ]
    },
    {
     "cell_type": "code",
     "collapsed": false,
     "input": [
      "# wavelength of light\n",
      "\n",
      "import math\n",
      "#Variable Declaration\n",
      "e=1.609*10**-19           # Charge of electron\n",
      "eg=1.8                    # energy band gap\n",
      "E=e*eg                    \n",
      "h=6.626*10**-34           # Planck's constant\n",
      "c=3*10**8                 # speed of light\n",
      "\n",
      "#Calculation\n",
      "lam=h*c/E\n",
      "\n",
      "#Result\n",
      "print('The wavelenth of light emitted from given LED is %.4f \u00b5m'%(lam*10**6))"
     ],
     "language": "python",
     "metadata": {},
     "outputs": [
      {
       "output_type": "stream",
       "stream": "stdout",
       "text": [
        "The wavelenth of light emitted from given LED is 0.6863 \u00b5m\n"
       ]
      }
     ],
     "prompt_number": 2
    },
    {
     "cell_type": "heading",
     "level": 2,
     "metadata": {},
     "source": [
      "Example 15.2, page no-406"
     ]
    },
    {
     "cell_type": "code",
     "collapsed": false,
     "input": [
      "# Band Gap of GaAsP\n",
      "\n",
      "import math\n",
      "#Variable Declaration\n",
      "e=1.6*10**-19             # Charge of electron\n",
      "h=6.626*10**-34           # planck's constant\n",
      "c=3*10**8                 # speed of light in m/s\n",
      "lam=6751*10**-10          # wavelength of green light from mercury lamp\n",
      "\n",
      "#Calculation\n",
      "E=h*c/lam\n",
      "E=E/e\n",
      "\n",
      "#Result\n",
      "print('The band gap of the given GaAsP is %.1f eV'%E)\n"
     ],
     "language": "python",
     "metadata": {},
     "outputs": [
      {
       "output_type": "stream",
       "stream": "stdout",
       "text": [
        "The band gap of the given GaAsP is 1.8 eV\n"
       ]
      }
     ],
     "prompt_number": 3
    }
   ],
   "metadata": {}
  }
 ]
}