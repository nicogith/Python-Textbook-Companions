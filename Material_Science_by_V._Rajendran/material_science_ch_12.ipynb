{
 "metadata": {
  "name": ""
 },
 "nbformat": 3,
 "nbformat_minor": 0,
 "worksheets": [
  {
   "cells": [
    {
     "cell_type": "heading",
     "level": 1,
     "metadata": {},
     "source": [
      "Chapter 12: Thermal Properties"
     ]
    },
    {
     "cell_type": "heading",
     "level": 2,
     "metadata": {},
     "source": [
      "Example 12.1, page no-350"
     ]
    },
    {
     "cell_type": "code",
     "collapsed": false,
     "input": [
      "# Change in length due to heating\n",
      "\n",
      "import math\n",
      "#Variable Declaration\n",
      "alfe=8.8*10**-6                    # linear coefficient of thermal expansion for alumina\n",
      "lo=0.1                             # length of the alumina rod\n",
      "delT=973.0                         # difference in temperature\n",
      "\n",
      "#Calculation\n",
      "delL=alfe*lo*delT\n",
      "\n",
      "#Result\n",
      "print('The change in length produced by heating is %.3f mm'%(delL*10**3))"
     ],
     "language": "python",
     "metadata": {},
     "outputs": [
      {
       "output_type": "stream",
       "stream": "stdout",
       "text": [
        "The change in length produced by heating is 0.856 mm\n"
       ]
      }
     ],
     "prompt_number": 1
    },
    {
     "cell_type": "heading",
     "level": 2,
     "metadata": {},
     "source": [
      "Example 12.2, page no-350"
     ]
    },
    {
     "cell_type": "code",
     "collapsed": false,
     "input": [
      "# Change in length due to heating\n",
      "\n",
      "import math\n",
      "#Variable Declaration\n",
      "alfe=5.3*10**-6                  # linear coefficient of thermal expansion or alumina\n",
      "lo=0.1                           # length of the alumina rod\n",
      "delT=973.0                       # difference in temperature\n",
      "\n",
      "#Calculation\n",
      "delL=alfe*lo*delT\n",
      "\n",
      "#Result\n",
      "print('The change in length produced by heating is %.3f mm'%(delL*10**3))"
     ],
     "language": "python",
     "metadata": {},
     "outputs": [
      {
       "output_type": "stream",
       "stream": "stdout",
       "text": [
        "The change in length produced by heating is 0.516 mm\n"
       ]
      }
     ],
     "prompt_number": 2
    },
    {
     "cell_type": "heading",
     "level": 3,
     "metadata": {},
     "source": [
      "Example 12.3, page no-351"
     ]
    },
    {
     "cell_type": "code",
     "collapsed": false,
     "input": [
      "# Steady state heat Transfer\n",
      "\n",
      "import math\n",
      "#Variable Declaration\n",
      "k=371.0                    # Thermal conductivity of copper in J/msk\n",
      "delT=50.0                  # change in temperature\n",
      "delx=10*10**-3             # change in thickness of the copper's sheet   \n",
      "\n",
      "#Calculation\n",
      "ht=k*delT/delx\n",
      "\n",
      "#Result\n",
      "print('The steady state heat transfer of 10 mm copper sheet is %.3f *10^6 J.m^-2.s^-1'%(ht*10**-6))"
     ],
     "language": "python",
     "metadata": {},
     "outputs": [
      {
       "output_type": "stream",
       "stream": "stdout",
       "text": [
        "The steady state heat transfer of 10 mm copper sheet is 1.855 *10^6 J.m^-2.s^-1\n"
       ]
      }
     ],
     "prompt_number": 3
    },
    {
     "cell_type": "heading",
     "level": 2,
     "metadata": {},
     "source": [
      "Example 12.4, page no-351"
     ]
    },
    {
     "cell_type": "code",
     "collapsed": false,
     "input": [
      "# Compression Stress due to Heating\n",
      "\n",
      "import math\n",
      "#Variable Declaration\n",
      "alfe=8.8*10**-6                           # linear coefficient of thermal expansion for alumina\n",
      "t1=1300.0                                 # Temperature 1\n",
      "t2=327.0                                  # Temperature 2\n",
      "E=370.0                                   # modulus of elasticity\n",
      "\n",
      "\n",
      "#Calculation\n",
      "delT=t1-t2\n",
      "ep=alfe*delT\n",
      "sig=ep*E\n",
      "\n",
      "#Result\n",
      "print('\\nThe unconstrained thermal expansion produced by the heating is %.4f *10^-3'%(ep*10**3))\n",
      "print('\\nthe compression stress produced by heating is %.3f GPa'%(math.ceil(sig*1000)/1000))"
     ],
     "language": "python",
     "metadata": {},
     "outputs": [
      {
       "output_type": "stream",
       "stream": "stdout",
       "text": [
        "\n",
        "The unconstrained thermal expansion produced by the heating is 8.5624 *10^-3\n",
        "\n",
        "the compression stress produced by heating is 3.169 GPa\n"
       ]
      }
     ],
     "prompt_number": 4
    },
    {
     "cell_type": "heading",
     "level": 3,
     "metadata": {},
     "source": [
      "Example 12.5, page no-352"
     ]
    },
    {
     "cell_type": "code",
     "collapsed": false,
     "input": [
      "# Heat flux transmitted\n",
      "\n",
      "import math\n",
      "#Variable Declaration\n",
      "K=120.0                       # thermal conductivity of brass\n",
      "t2=423.0                      # Temperature 2\n",
      "t1=323.0                      # Temperature 1\n",
      "delT=t2-t1                    # temperature difference\n",
      "delx=7.5*10**-3               # change in thickness of the brass's sheet\n",
      "A=0.5                         # Area of the sheet\n",
      "\n",
      "#Calculation\n",
      "Q=K*A*(delT/delx)\n",
      "hph=Q*3600\n",
      "\n",
      "#Result\n",
      "print('The heat flux transmitted through a sheet per hour is %.2f *10^9 J.h^-1'%(hph*10**-9))"
     ],
     "language": "python",
     "metadata": {},
     "outputs": [
      {
       "output_type": "stream",
       "stream": "stdout",
       "text": [
        "The heat flux transmitted through a sheet per hour is 2.88 *10^9 J.h^-1\n"
       ]
      }
     ],
     "prompt_number": 5
    },
    {
     "cell_type": "heading",
     "level": 2,
     "metadata": {},
     "source": [
      "Example 12.6, page no-353"
     ]
    },
    {
     "cell_type": "code",
     "collapsed": false,
     "input": [
      "# Young's Modulus\n",
      "\n",
      "import math\n",
      "#Variable Declaration\n",
      "alfe=17*10**-6               # linear coefficient of thermal expansion for copper\n",
      "t2=293.0                     # Temperature 2\n",
      "t1=233.0                     # Temperature 1\n",
      "delT=t2-t1                   # temperature difference\n",
      "st=119.0                     # Maximum thermally induced stress\n",
      "\n",
      "#Calculation\n",
      "k=alfe*delT\n",
      "E=(st*10**6)/k\n",
      "\n",
      "#Result\n",
      "print('\\nThe strain produced in te rod is %.2f * 10^-3'%(k*10**3))\n",
      "print('\\nThe Youngs Modulus of the rod is %.1f GPa'%(E*10**-9))"
     ],
     "language": "python",
     "metadata": {},
     "outputs": [
      {
       "output_type": "stream",
       "stream": "stdout",
       "text": [
        "\n",
        "The strain produced in te rod is 1.02 * 10^-3\n",
        "\n",
        "The Youngs Modulus of the rod is 116.7 GPa\n"
       ]
      }
     ],
     "prompt_number": 6
    },
    {
     "cell_type": "heading",
     "level": 2,
     "metadata": {},
     "source": [
      "Example 12.7, page no-353"
     ]
    },
    {
     "cell_type": "code",
     "collapsed": false,
     "input": [
      "# Temperature Change\n",
      "\n",
      "import math\n",
      "#Variable Declaration\n",
      "lo=11.6                       # length of the steel rod\n",
      "delx=5.4*10**-3               # difference in length\n",
      "alfL=12*10**-6                # Linear coefficient of thermal expansion for steel\n",
      "\n",
      "#Calculation\n",
      "delT=delx/(lo*alfL)\n",
      "\n",
      "#Result\n",
      "print('The maximum temperature cange can withstand without any thermal stress is %.2f K'%delT)"
     ],
     "language": "python",
     "metadata": {},
     "outputs": [
      {
       "output_type": "stream",
       "stream": "stdout",
       "text": [
        "The maximum temperature cange can withstand without any thermal stress is 38.79 K\n"
       ]
      }
     ],
     "prompt_number": 7
    },
    {
     "cell_type": "heading",
     "level": 2,
     "metadata": {},
     "source": [
      "Example 12.8, page no-354"
     ]
    },
    {
     "cell_type": "code",
     "collapsed": false,
     "input": [
      "#compressive Sress\n",
      "\n",
      "import math\n",
      "#Variable Declaration\n",
      "lo=0.35                         # length of the Al rod\n",
      "alfe=23.6*10**-6                # Linear coefficient of thermal expansion for Al\n",
      "t2=358.0                        # temperature 2\n",
      "t1=288.0                        # temperature 1\n",
      "delT=t2-t1                      # temperature difference\n",
      "ym=69.0                         # Young's modulus\n",
      "\n",
      "#Calculation\n",
      "k=alfe*delT\n",
      "E=ym*k*10**9\n",
      "\n",
      "#Result\n",
      "print('\\nThe strain produced in te rod is %.3f * 10^-3'%(k*10**3))\n",
      "print('\\nThe compressive stress produced in Al rod is %.3f GPa'%(E*10**-9))"
     ],
     "language": "python",
     "metadata": {},
     "outputs": [
      {
       "output_type": "stream",
       "stream": "stdout",
       "text": [
        "\n",
        "The strain produced in te rod is 1.652 * 10^-3\n",
        "\n",
        "The compressive stress produced in Al rod is 0.114 GPa\n"
       ]
      }
     ],
     "prompt_number": 8
    },
    {
     "cell_type": "heading",
     "level": 2,
     "metadata": {},
     "source": [
      "Example 12.9, page no-355"
     ]
    },
    {
     "cell_type": "code",
     "collapsed": false,
     "input": [
      "# limit to compression stress\n",
      "\n",
      "import math\n",
      "#Variable Declaration\n",
      "alfe=20*10**-6               # Linear coefficient of thermal expansion for alumina\n",
      "t1=293.0                     # temperature \n",
      "sig=172.0                    # compressive stress\n",
      "E=100.0                      # modulus of elasticity\n",
      "\n",
      "#Calculation\n",
      "delT=(sig*10**6)/(E*alfe*10**9)\n",
      "\n",
      "#Result\n",
      "print('\\nTf-Ti=%.0f'%delT)\n",
      "print('\\n\\nThe maximum temperature at which the rod may be heated without\\nexceeding a compresssive stress of %.0f MPa is %.0f K'%(sig,delT+t1))"
     ],
     "language": "python",
     "metadata": {},
     "outputs": [
      {
       "output_type": "stream",
       "stream": "stdout",
       "text": [
        "\n",
        "Tf-Ti=86\n",
        "\n",
        "\n",
        "The maximum temperature at which the rod may be heated without\n",
        "exceeding a compresssive stress of 172 MPa is 379 K\n"
       ]
      }
     ],
     "prompt_number": 9
    },
    {
     "cell_type": "heading",
     "level": 2,
     "metadata": {},
     "source": [
      "Example 12.10, page no-356"
     ]
    },
    {
     "cell_type": "code",
     "collapsed": false,
     "input": [
      "# Heat energy Requirement\n",
      "\n",
      "import math\n",
      "#Variable Declaration\n",
      "h_ir=444.0                   # specific heat capacity of iron in J.kg^-1.K^-1\n",
      "h_gr=711.0                   # specific heat capacity of graphite in J.kg^-1.K^-1\n",
      "h_pl=1880.0                  # specific heat capacity of polypropylene in J.kg^-1.K^-1\n",
      "t2=373.0                     # Temperature 2\n",
      "t1=300.0                     # Temperature 1\n",
      "delT=t2-t1                   # difference in temperature\n",
      "W=2.0                        # weight\n",
      "\n",
      "\n",
      "#Calculation\n",
      "\n",
      "#(a) For Iron\n",
      "q=W*h_ir*delT\n",
      "\n",
      "#(b)for Graphite\n",
      "q1=W*h_gr*delT\n",
      "\n",
      "#(b)for polypropylene\n",
      "q2=W*h_pl*delT\n",
      "\n",
      "\n",
      "#Result\n",
      "print('The heat energy required to raise temperature %.0f K from its temperature of \\niron, graphite and polypropylene is %.0f,%.0f,%.0f J respectively'%(delT,q,q1,q2))"
     ],
     "language": "python",
     "metadata": {},
     "outputs": [
      {
       "output_type": "stream",
       "stream": "stdout",
       "text": [
        "The heat energy required to raise temperature 73 K from its temperature of \n",
        "iron, graphite and polypropylene is 64824,103806,274480 J respectively\n"
       ]
      }
     ],
     "prompt_number": 10
    }
   ],
   "metadata": {}
  }
 ]
}