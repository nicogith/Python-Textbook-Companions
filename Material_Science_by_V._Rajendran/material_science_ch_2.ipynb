{
 "metadata": {
  "name": ""
 },
 "nbformat": 3,
 "nbformat_minor": 0,
 "worksheets": [
  {
   "cells": [
    {
     "cell_type": "heading",
     "level": 1,
     "metadata": {},
     "source": [
      "Chapter 2: Crystal Structure"
     ]
    },
    {
     "cell_type": "heading",
     "level": 2,
     "metadata": {},
     "source": [
      "Example 2.2, page no-30"
     ]
    },
    {
     "cell_type": "code",
     "collapsed": false,
     "input": [
      "# Lattice spacing from Miller indices\n",
      "\n",
      "import math\n",
      "# Intercepts are in the ratio 3a:4b along X,Y and parallel to Z axis\n",
      "# x-intercept 3, y-intercept 4 and z-intercept infinity \n",
      "\n",
      "#variable declaration\n",
      "a=2.0*10**-10       # 2 Angstrom\n",
      "h=4.0               # Miller indices wrt X-axis\n",
      "k=3.0               # Miller indices wrt Y-axis\n",
      "l=0.0               # Miller indices wrt Z-axis\n",
      "\n",
      "#calculation\n",
      "d=a/math.sqrt(h**2+k**2+l**2)\n",
      "\n",
      "#result\n",
      "print('The lattice spacing for the plane (%d%d%d) is %.1f*10^-10 m'%(h,k,l,d*10**10))"
     ],
     "language": "python",
     "metadata": {},
     "outputs": [
      {
       "output_type": "stream",
       "stream": "stdout",
       "text": [
        "The lattice spacing for the plane (430) is 0.4*10^-10 m\n"
       ]
      }
     ],
     "prompt_number": 2
    },
    {
     "cell_type": "heading",
     "level": 2,
     "metadata": {},
     "source": [
      "Example 2.3, page no-31"
     ]
    },
    {
     "cell_type": "code",
     "collapsed": false,
     "input": [
      "#Lattice constant of Sodium\n",
      "\n",
      "import math\n",
      "#variable declaration\n",
      "d=9.6*10**2          # Density of sodium in kg/m^3\n",
      "awt=23               # Atomic weight of sodium\n",
      "n=2                  # No of sodium atoms present in one unit cell\n",
      "avg=6.023*10**26     # Avogadro number\n",
      "\n",
      "\n",
      "#calculation\n",
      "m=n*awt/avg\n",
      "a=(m/d)**(1.0/3.0)\n",
      "\n",
      "#Result\n",
      "print('The lattice constant of sodium is %.1f A\u00b0'%(a*10**10))"
     ],
     "language": "python",
     "metadata": {},
     "outputs": [
      {
       "output_type": "stream",
       "stream": "stdout",
       "text": [
        "The lattice constant of sodium is 4.3 A\u00b0\n"
       ]
      }
     ],
     "prompt_number": 3
    },
    {
     "cell_type": "heading",
     "level": 2,
     "metadata": {},
     "source": [
      "Example 2.4, page no-31"
     ]
    },
    {
     "cell_type": "code",
     "collapsed": false,
     "input": [
      "#Avogadro Constant \n",
      "\n",
      "import math\n",
      "#variable declaration\n",
      "d=4.0*10**3                 # Density of CsCl in kg/m^3\n",
      "awtcs=132.9                 # Atomic weigt of Cs \n",
      "awtcl=35.5                  # Atomic weigt of Cl\n",
      "a=4.12*10**-10              # Lattice constant\n",
      "\n",
      "#Calculations\n",
      "m=d*a**3\n",
      "N=(awtcs+awtcl)/m\n",
      "\n",
      "#Result\n",
      "print('The value of Avogadro Constant %.4f *10^26 per kg mole'%(N*10**-26))"
     ],
     "language": "python",
     "metadata": {},
     "outputs": [
      {
       "output_type": "stream",
       "stream": "stdout",
       "text": [
        "The value of Avogadro Constant 6.0199 *10^26 per kg mole\n"
       ]
      }
     ],
     "prompt_number": 4
    },
    {
     "cell_type": "heading",
     "level": 2,
     "metadata": {},
     "source": [
      "Example 2.5, page no-31"
     ]
    },
    {
     "cell_type": "code",
     "collapsed": false,
     "input": [
      "# Interatomic spacing\n",
      "\n",
      "import math \n",
      "#variable declaration\n",
      "lam=1.5418*10**-10         # Wavelength of X-rays\n",
      "theta=30.0                 # Angle of diffracted angle\n",
      "h=1.0                      # Miller indices wrt X-axis\n",
      "k=1.0                      # Miller indices wrt Y-axis\n",
      "l=1.0                      # Miller indices wrt Z-axis\n",
      "\n",
      "#Calculation\n",
      "a=lam*math.sqrt(h**2+k**2+l**2)/(2*math.sin(theta*math.pi/180))\n",
      "\n",
      "#Result\n",
      "print('The lattice constant is %.4f *10^-10 m'%(a*10**10))"
     ],
     "language": "python",
     "metadata": {},
     "outputs": [
      {
       "output_type": "stream",
       "stream": "stdout",
       "text": [
        "The lattice constant is 2.6705 *10^-10 m\n"
       ]
      }
     ],
     "prompt_number": 5
    },
    {
     "cell_type": "heading",
     "level": 2,
     "metadata": {},
     "source": [
      "Example 2.6, page no-33"
     ]
    },
    {
     "cell_type": "code",
     "collapsed": false,
     "input": [
      "#Lattice spacing in a rock salt\n",
      "\n",
      "import math\n",
      "#variable cdeclaration\n",
      "h=1.0                      # Miller indices wrt X-axis\n",
      "k=0.0                      # Miller indices wrt Y-axis\n",
      "l=0.0                      # Miller indices wrt Z-axis\n",
      "a=2.814*10**-10            # interatomic spacing\n",
      "\n",
      "#calculations\n",
      "d=a/math.sqrt(h**2+k**2+l**2)\n",
      "\n",
      "#Result\n",
      "print('The lattice spacing for the plane(%d%d%d) is %.3f*10^-10 m'%(h,k,l,d*10**10))"
     ],
     "language": "python",
     "metadata": {},
     "outputs": [
      {
       "output_type": "stream",
       "stream": "stdout",
       "text": [
        "The lattice spacing for the plane(100) is 2.814*10^-10 m\n"
       ]
      }
     ],
     "prompt_number": 6
    },
    {
     "cell_type": "heading",
     "level": 2,
     "metadata": {},
     "source": [
      "Example 2.7, page no-33"
     ]
    },
    {
     "cell_type": "code",
     "collapsed": false,
     "input": [
      "#Lattice spacing from Miller indices\n",
      "\n",
      "import math\n",
      "#variable declaration\n",
      "h=3.0                       # Miller indices wrt X-axis\n",
      "k=2.0                       # Miller indices wrt Y-axis\n",
      "l=1.0                       # Miller indices wrt Z-axis\n",
      "a=4.12*10**-10              # interatomic spacing\n",
      "\n",
      "#calculation\n",
      "d=a/math.sqrt(h**2+k**2+l**2)\n",
      "\n",
      "#result\n",
      "print('The lattice spacing for the plane(%d%d%d) is %.4f*10^-10 m'%(h,k,l,d*10**10))"
     ],
     "language": "python",
     "metadata": {},
     "outputs": [
      {
       "output_type": "stream",
       "stream": "stdout",
       "text": [
        "The lattice spacing for the plane(321) is 1.1011*10^-10 m\n"
       ]
      }
     ],
     "prompt_number": 7
    },
    {
     "cell_type": "heading",
     "level": 2,
     "metadata": {},
     "source": [
      "Example 2.8, page no-34"
     ]
    },
    {
     "cell_type": "code",
     "collapsed": false,
     "input": [
      "#Lattice spacing from Miller indices\n",
      "\n",
      "import math\n",
      "#(i)\n",
      "#variable declaration\n",
      "h=1.0                              # Miller indices wrt X-axis\n",
      "k=0.0                              # Miller indices wrt Y-axis\n",
      "l=1.0                              # Miller indices wrt Z-axis\n",
      "a=4.2*10**-10                    # lattice constant\n",
      "\n",
      "#calculation\n",
      "d=a/math.sqrt(h**2+k**2+l**2)\n",
      "\n",
      "#Result\n",
      "print('\\nThe lattice spacing for the plane(%d%d%d) is %.4f*10^-10 m'%(h,k,l,d*10**10))\n",
      "\n",
      "#(ii)\n",
      "#variable declaration\n",
      "h=2                            # Miller indices wrt X-axis\n",
      "k=2                            # Miller indices wrt Y-axis\n",
      "l=1                            # Miller indices wrt Z-axis\n",
      "a=4.12*10**-10                 # Lattice constant \n",
      "\n",
      "#calculation\n",
      "d=a/math.sqrt(h**2+k**2+l**2)\n",
      "\n",
      "#Result\n",
      "print('\\nThe lattice spacing for the plane(%d%d%d) is %.1f*10^-10 m'%(h,k,l,d*10**10))\n",
      "\n",
      "#Answer in the book for plane(101) is wrong"
     ],
     "language": "python",
     "metadata": {},
     "outputs": [
      {
       "output_type": "stream",
       "stream": "stdout",
       "text": [
        "\n",
        "The lattice spacing for the plane(101) is 2.9698*10^-10 m\n",
        "\n",
        "The lattice spacing for the plane(221) is 1.4*10^-10 m\n"
       ]
      }
     ],
     "prompt_number": 12
    },
    {
     "cell_type": "heading",
     "level": 2,
     "metadata": {},
     "source": [
      "Example 2.13, page no-37"
     ]
    },
    {
     "cell_type": "code",
     "collapsed": false,
     "input": [
      "#Lattice spacing from Miller indices\n",
      "\n",
      "import math\n",
      "\n",
      "#(i)\n",
      "#variable declaration\n",
      "h=1.0                    # Miller indices wrt X-axis\n",
      "k=1.0                    # Miller indices wrt Y-axis\n",
      "l=1.0                    # Miller indices wrt Z-axis\n",
      "a=4.12*10**-10           # lattice Constant\n",
      "\n",
      "#calculation\n",
      "d=a/math.sqrt(h**2+k**2+l**2)\n",
      "\n",
      "#Result\n",
      "print('\\nFor (%d%d%d) plane\\nThe lattice spacing is %.4f*10^-10 m'%(h,k,l,d*10**10))\n",
      "\n",
      "#(ii)\n",
      "\n",
      "#variable declaration\n",
      "h=1.0                  # Miller indices wrt X-axis\n",
      "k=1.0                  # Miller indices wrt Y-axis\n",
      "l=2.0                  # Miller indices wrt Z-axis\n",
      "a=4.12*10**-10         # Lattice Constant\n",
      "\n",
      "#calculation\n",
      "d=a/math.sqrt(h**2+k**2+l**2)\n",
      "\n",
      "#Result\n",
      "print('\\n\\nFor (%d%d%d) plane\\nThe lattice spacing is %.4f*10^-10 m'%(h,k,l,d*10**10))\n",
      "\n",
      "\n",
      "#(iii)\n",
      "\n",
      "#variable declaration\n",
      "h=1.0                   # Miller indices wrt X-axis\n",
      "k=2.0                   # Miller indices wrt Y-axis  \n",
      "l=3.0                   # Miller indices wrt Z-axis\n",
      "a=4.12*10**-10          # Lattice Constant\n",
      "\n",
      "#calculation\n",
      "d=a/math.sqrt(h**2+k**2+l**2)\n",
      "\n",
      "#Result\n",
      "print('\\n\\nFor (%d%d%d) plane\\nThe lattice spacing is %.4f*10^-10 m'%(h,k,l,d*10**10))"
     ],
     "language": "python",
     "metadata": {},
     "outputs": [
      {
       "output_type": "stream",
       "stream": "stdout",
       "text": [
        "\n",
        "For (111) plane\n",
        "The lattice spacing is 2.3787*10^-10 m\n",
        "\n",
        "\n",
        "For (112) plane\n",
        "The lattice spacing is 1.6820*10^-10 m\n",
        "\n",
        "\n",
        "For (123) plane\n",
        "The lattice spacing is 1.1011*10^-10 m\n"
       ]
      }
     ],
     "prompt_number": 16
    },
    {
     "cell_type": "heading",
     "level": 2,
     "metadata": {},
     "source": [
      "Example 2.15, page no-38"
     ]
    },
    {
     "cell_type": "code",
     "collapsed": false,
     "input": [
      "# Lattice spacing from Miller indice\n",
      "\n",
      "import math\n",
      "#variable declaration\n",
      "h=2.0                     # Miller indices wrt X-axis\n",
      "k=2.0                     # Miller indices wrt Y-axis \n",
      "l=0.0                     # Miller indices wrt Z-axis\n",
      "a=4.938*10**-10           # Lattice Constant\n",
      "\n",
      "#calculation\n",
      "d=a/math.sqrt(h**2+k**2+l**2)\n",
      "\n",
      "#Result\n",
      "print('\\nThe lattice spacing for (%d%d%d) plane is %.4f*10^-10 m'%(h,k,l,d*10**10))\n",
      "\n",
      "#Note: Final answer in the book is as follow:\n",
      "# The lattice spacing for the plane (110) is 2.968 x 10^-10 m "
     ],
     "language": "python",
     "metadata": {},
     "outputs": [
      {
       "output_type": "stream",
       "stream": "stdout",
       "text": [
        "\n",
        "The lattice spacing for (220) plane is 1.7458*10^-10 m\n"
       ]
      }
     ],
     "prompt_number": 19
    },
    {
     "cell_type": "heading",
     "level": 2,
     "metadata": {},
     "source": [
      "Example 2.16, page no-39"
     ]
    },
    {
     "cell_type": "code",
     "collapsed": false,
     "input": [
      "#Number of atoms in Al foil\n",
      "\n",
      "import math\n",
      "#variable declaration\n",
      "a=0.405*10**-10      # lattice constant\n",
      "t=0.005              # thickness of Al foil\n",
      "A=25*10**-2          # side length of Al foil\n",
      "\n",
      "#calculation\n",
      "n=t*A/a**3\n",
      "\n",
      "#Result\n",
      "print('The number of atoms in the Al foil is %.2f * 10^28'%(n*10**-28))"
     ],
     "language": "python",
     "metadata": {},
     "outputs": [
      {
       "output_type": "stream",
       "stream": "stdout",
       "text": [
        "The number of atoms in the Al foil is 1.88 * 10^28\n"
       ]
      }
     ],
     "prompt_number": 20
    },
    {
     "cell_type": "heading",
     "level": 2,
     "metadata": {},
     "source": [
      "Example 2.17, page no-39"
     ]
    },
    {
     "cell_type": "code",
     "collapsed": false,
     "input": [
      "#no of unit cells in 1 kg metal\n",
      "\n",
      "import math\n",
      "#variable declaration\n",
      "a=2.88*10**-10          # lattice constant\n",
      "d=7200.0                # Density of metal in k/m^3\n",
      "\n",
      "#calculation\n",
      "n=1/(d*a**3)\n",
      "\n",
      "#Result\n",
      "print('The number of unit cells present in 1 kg metal is %.4f *10^24'%(n*10**-24))"
     ],
     "language": "python",
     "metadata": {},
     "outputs": [
      {
       "output_type": "stream",
       "stream": "stdout",
       "text": [
        "The number of unit cells present in 1 kg metal is 5.8142 *10^24\n"
       ]
      }
     ],
     "prompt_number": 21
    },
    {
     "cell_type": "heading",
     "level": 2,
     "metadata": {},
     "source": [
      "Example 2.18, page no-39"
     ]
    },
    {
     "cell_type": "code",
     "collapsed": false,
     "input": [
      "#percentage volume change during structural changes\n",
      "\n",
      "import math\n",
      "#variable declaration\n",
      "rbcc=0.1258*10**-9              # Atomic radius at bcc state\n",
      "rfcc=0.1292*10**-9              # Atomic radius at fcc state\n",
      "\n",
      "#calculation\n",
      "a=4*rbcc/math.sqrt(3)\n",
      "vbcc=(a**3)/2\n",
      "a1=4*rfcc/math.sqrt(2)\n",
      "vfcc=(a1**3)/4\n",
      "vp=(vbcc-vfcc)\n",
      "vp=math.floor(vp*10**32)\n",
      "vp=vp*10**-32/vbcc\n",
      "\n",
      "#Result\n",
      "print('The volume change in %% duringg the structural change is %.4f'%(vp*100))"
     ],
     "language": "python",
     "metadata": {},
     "outputs": [
      {
       "output_type": "stream",
       "stream": "stdout",
       "text": [
        "The volume change in % duringg the structural change is 0.4894\n"
       ]
      }
     ],
     "prompt_number": 22
    },
    {
     "cell_type": "heading",
     "level": 2,
     "metadata": {},
     "source": [
      "Example 2.19, page no-40"
     ]
    },
    {
     "cell_type": "code",
     "collapsed": false,
     "input": [
      "#Copper Density\n",
      "\n",
      "import math\n",
      "#variable declaration\n",
      "awt=63.5*10**-3              # Atomic weight of copper\n",
      "avg=6.023*10**26             # Avagadro No. \n",
      "r=1.273*10**-10              # Atomic radius for fcc system\n",
      "n=4.0                        # No of atoms per unit cell for fcc\n",
      "\n",
      "#calculation\n",
      "a=4*r/math.sqrt(2)\n",
      "a= math.floor(a*10**11)/10**11\n",
      "d=n*awt/(avg*a**3)\n",
      "\n",
      "#Result\n",
      "print('The density of copper is %.5f gm/m^3'%d)"
     ],
     "language": "python",
     "metadata": {},
     "outputs": [
      {
       "output_type": "stream",
       "stream": "stdout",
       "text": [
        "The density of copper is 9.03885 gm/m^3\n"
       ]
      }
     ],
     "prompt_number": 35
    },
    {
     "cell_type": "heading",
     "level": 2,
     "metadata": {},
     "source": [
      "Example 2.20, page no-41"
     ]
    },
    {
     "cell_type": "code",
     "collapsed": false,
     "input": [
      "# Atomic Radius\n",
      "\n",
      "import math\n",
      "#variable declaration\n",
      "d=7860.0                   # Density of alfa-iron\n",
      "m=55.85                    # atomic weight of alfa-iron\n",
      "n=2.0                      # No of atoms per unit cell for Bcc\n",
      "avg=6.023*10**26           # Avoigadro's Number\n",
      "\n",
      "#calculation\n",
      "a=(n*m*10**-3/(avg*d))**(1.0/3.0)\n",
      "r=a*math.sqrt(3)/4.0\n",
      "\n",
      "#Result\n",
      "print('\\nThe lattice constant of alfa-iron is %.4f A\u00b0'%(a*10**10))\n",
      "print('\\nThe atomic radius  of alfa-iron is %.5f *10^-10 m'%(r*10**10))"
     ],
     "language": "python",
     "metadata": {},
     "outputs": [
      {
       "output_type": "stream",
       "stream": "stdout",
       "text": [
        "\n",
        "The lattice constant of alfa-iron is 0.2868 A\u00b0\n",
        "\n",
        "The atomic radius  of alfa-iron is 0.12420 *10^-10 m\n"
       ]
      }
     ],
     "prompt_number": 36
    },
    {
     "cell_type": "heading",
     "level": 2,
     "metadata": {},
     "source": [
      "Example 2.21, page no-42"
     ]
    },
    {
     "cell_type": "code",
     "collapsed": false,
     "input": [
      "#Lattice constant\n",
      "\n",
      "import math\n",
      "#variable declaration\n",
      "d=8960.0                     # Density of copper\n",
      "m=63.54                      # Atomic weight of copper\n",
      "n=4.0                        # No of atoms per unit cell for Fcc\n",
      "avg=6.023*10**26             # Avogadro's number\n",
      "\n",
      "#calculation\n",
      "a=(n*m*10**-3/(avg*d))**(1.0/3.0)\n",
      "\n",
      "#Result\n",
      "print('\\nThe lattice constant of copper is %.4f A\u00b0'%(a*10**10))"
     ],
     "language": "python",
     "metadata": {},
     "outputs": [
      {
       "output_type": "stream",
       "stream": "stdout",
       "text": [
        "\n",
        "The lattice constant of copper is 0.3611 A\u00b0\n"
       ]
      }
     ],
     "prompt_number": 37
    },
    {
     "cell_type": "heading",
     "level": 2,
     "metadata": {},
     "source": [
      "Example 2.22, page no-42"
     ]
    },
    {
     "cell_type": "code",
     "collapsed": false,
     "input": [
      "# Glancing angle \n",
      "\n",
      "import math\n",
      "#variable declaration\n",
      "a=3.81*10**-10               # lattice spacing\n",
      "h=1.0                        # Miller indices wrt X-axis\n",
      "k=3.0                        # Miller indices wrt Y-axis\n",
      "l=2.0                        # Miller indices wrt Z-axis\n",
      "lam=0.58*10**-10             # Wavelength of X-rays\n",
      "n=2.0                        # order of diffraction\n",
      "\n",
      "#calculation\n",
      "d=a/math.sqrt(h**2+k**2+l**2)\n",
      "theta=math.asin(n*lam/(2*d))\n",
      "\n",
      "#Result\n",
      "print('The angle of glancing at which 2nd order diffraction pattern of NaCl occurs is %.2f\u00b0'%(theta*180/math.pi))"
     ],
     "language": "python",
     "metadata": {},
     "outputs": [
      {
       "output_type": "stream",
       "stream": "stdout",
       "text": [
        "The angle of glancing at which 2nd order diffraction pattern of NaCl occurs is 34.72\u00b0\n"
       ]
      }
     ],
     "prompt_number": 40
    },
    {
     "cell_type": "heading",
     "level": 2,
     "metadata": {},
     "source": [
      "Example 2.23, page no-43"
     ]
    },
    {
     "cell_type": "code",
     "collapsed": false,
     "input": [
      "# Lattice constant\n",
      "\n",
      "import math\n",
      "#variable declaration\n",
      "h=3.0                          # Miller indices wrt X-axis                     \n",
      "k=0.0                          # Miller indices wrt Y-axis \n",
      "l=2.0                          # Miller indices wrt Z-axis \n",
      "theta=35                       # glancing angle\n",
      "lam=0.7*10**-10                # wavelength of X-rays \n",
      "n=1.0                          # order of diffraction\n",
      "\n",
      "#calculations\n",
      "d=n*lam/(2*math.sin(theta*math.pi/180))\n",
      "a=d*math.sqrt(h**2+k**2+l**2)\n",
      "\n",
      "#Result\n",
      "print('\\nThe interplanar distance for(302) plane is %.3f*10^-11 m'%(d*10**11))\n",
      "print('\\nThe lattice constance is %.2f*10^-10 m'%(a*10**10))\n"
     ],
     "language": "python",
     "metadata": {},
     "outputs": [
      {
       "output_type": "stream",
       "stream": "stdout",
       "text": [
        "\n",
        "The interplanar distance for(302) plane is 6.102*10^-11 m\n",
        "\n",
        "The lattice constance is 2.20*10^-10 m\n"
       ]
      }
     ],
     "prompt_number": 41
    },
    {
     "cell_type": "heading",
     "level": 2,
     "metadata": {},
     "source": [
      "Example 2.24, page no-44"
     ]
    },
    {
     "cell_type": "heading",
     "level": 3,
     "metadata": {},
     "source": [
      "For plane (0 0 1)"
     ]
    },
    {
     "cell_type": "code",
     "collapsed": false,
     "input": [
      "# Plane drawing 1\n",
      "\n",
      "from mpl_toolkits.mplot3d import Axes3D\n",
      "import numpy as np\n",
      "import matplotlib.pyplot as plt\n",
      "\n",
      "point = np.array([0, 0, 1])\n",
      "normal = np.array([0, 0, 1])\n",
      "\n",
      "# calculations\n",
      "d = -point.dot(normal)\n",
      "x, y = np.meshgrid(range(10), range(10))                           # create x,y\n",
      "z = (-normal[0] * x - normal[1] * y - d) * 1. / normal[2]          # calculate corresponding z\n",
      "\n",
      "# Result\n",
      "plt3d = plt.figure().gca(projection='3d')\n",
      "plt3d.plot_surface(x, y, z, rstride=1, cstride=1)\n",
      "plt.show()"
     ],
     "language": "python",
     "metadata": {},
     "outputs": [
      {
       "metadata": {},
       "output_type": "display_data",
       "png": "[encoded data removed]",
       "text": [
        "<matplotlib.figure.Figure at 0xa2a3780>"
       ]
      }
     ],
     "prompt_number": 31
    },
    {
     "cell_type": "heading",
     "level": 3,
     "metadata": {},
     "source": [
      "For plane(1 0 1)"
     ]
    },
    {
     "cell_type": "code",
     "collapsed": false,
     "input": [
      "# Plane drawing 2\n",
      "\n",
      "from mpl_toolkits.mplot3d import Axes3D\n",
      "import numpy as np\n",
      "import matplotlib.pyplot as plt\n",
      "\n",
      "point = np.array([1, 0, 1])\n",
      "normal = np.array([1, 0, 1])\n",
      "\n",
      "# calculations\n",
      "d = -point.dot(normal)\n",
      "x, y = np.meshgrid(range(10), range(10))                           # create x,y\n",
      "z = (-normal[0] * x - normal[1] * y - d) * 1. / normal[2]          # calculate corresponding z\n",
      "\n",
      "# Result\n",
      "plt3d = plt.figure().gca(projection='3d')\n",
      "plt3d.plot_surface(x, y, z, rstride=1, cstride=1)\n",
      "plt.show()"
     ],
     "language": "python",
     "metadata": {},
     "outputs": [
      {
       "metadata": {},
       "output_type": "display_data",
       "png": "[encoded data removed]",
       "text": [
        "<matplotlib.figure.Figure at 0xaf62438>"
       ]
      }
     ],
     "prompt_number": 32
    },
    {
     "cell_type": "heading",
     "level": 3,
     "metadata": {},
     "source": [
      "For plane(1 1 1)"
     ]
    },
    {
     "cell_type": "code",
     "collapsed": false,
     "input": [
      "# Plane drawing 3\n",
      "\n",
      "from mpl_toolkits.mplot3d import Axes3D\n",
      "import numpy as np\n",
      "import matplotlib.pyplot as plt\n",
      "\n",
      "point = np.array([1, 1, 1])\n",
      "normal = np.array([1, 1, 1])\n",
      "\n",
      "# calculations\n",
      "d = -point.dot(normal)\n",
      "x, y = np.meshgrid(range(10), range(10))                           # create x,y\n",
      "z = (-normal[0] * x - normal[1] * y - d) * 1. / normal[2]          # calculate corresponding z\n",
      "\n",
      "# Result\n",
      "plt3d = plt.figure().gca(projection='3d')\n",
      "plt3d.plot_surface(x, y, z, rstride=1, cstride=1)\n",
      "plt.show()"
     ],
     "language": "python",
     "metadata": {},
     "outputs": [
      {
       "metadata": {},
       "output_type": "display_data",
       "png": "[encoded data removed]",
       "text": [
        "<matplotlib.figure.Figure at 0xad8ab00>"
       ]
      }
     ],
     "prompt_number": 37
    },
    {
     "cell_type": "heading",
     "level": 2,
     "metadata": {},
     "source": [
      "Example 2.25, page no-45"
     ]
    },
    {
     "cell_type": "code",
     "collapsed": false,
     "input": [
      "# InterPlanar Spacing\n",
      "\n",
      "import math\n",
      "#Variable Declaration\n",
      "theta=12                   # glancing angle\n",
      "lam=2.82*10**-10           # interplanar spacing\n",
      "n=1.0                      # order of diffraction\n",
      "\n",
      "#Calculation\n",
      "d=n*lam/(2*math.sin(theta*math.pi/180))\n",
      "\n",
      "#Result\n",
      "print('The interplanar spacing is %.3f *10^-10 m'%(d*10**10))"
     ],
     "language": "python",
     "metadata": {},
     "outputs": [
      {
       "output_type": "stream",
       "stream": "stdout",
       "text": [
        "The interplanar spacing is 6.782 *10^-10 m\n"
       ]
      }
     ],
     "prompt_number": 42
    },
    {
     "cell_type": "heading",
     "level": 2,
     "metadata": {},
     "source": [
      "Example 2.26, page no-46"
     ]
    },
    {
     "cell_type": "code",
     "collapsed": false,
     "input": [
      "# Lattice spacing and deBroglie wavelength\n",
      "\n",
      "import math\n",
      "#variable Declaration\n",
      "theta=27.5/2                 # glancing angle \n",
      "a=0.563*10**-9               # lattice constant\n",
      "n=1.0                        # order of diffraction\n",
      "h=1.0                        # Miller indices wrt X-axis\n",
      "k=1.0                        # Miller indices wrt Y-axis\n",
      "l=1.0                        # Miller indices wrt Z-axis\n",
      "\n",
      "#calaculation\n",
      "d=a/math.sqrt(h**2+k**2+l**2)\n",
      "lam=2*d*math.sin(theta*math.pi/180)/n\n",
      "\n",
      "#Result\n",
      "print('\\nThe lattice spacing for the plane (111) is %.2f * 10^-10 m'%(d*10**10))\n",
      "print('\\nThe deBroglie wavelength of the neutrons is %.3f *10^-10 m'%(lam*10**10))"
     ],
     "language": "python",
     "metadata": {},
     "outputs": [
      {
       "output_type": "stream",
       "stream": "stdout",
       "text": [
        "\n",
        "The lattice spacing for the plane (111) is 3.25 * 10^-10 m\n",
        "\n",
        "The deBroglie wavelength of the neutrons is 1.545 *10^-10 m\n"
       ]
      }
     ],
     "prompt_number": 45
    },
    {
     "cell_type": "heading",
     "level": 2,
     "metadata": {},
     "source": [
      "Example 2.27, page no-46"
     ]
    },
    {
     "cell_type": "code",
     "collapsed": false,
     "input": [
      "# Lattice constant and atomic radius\n",
      "\n",
      "import math\n",
      "#variable declaration\n",
      "h=1.0                       # Miller indices wrt X-axis\n",
      "k=1.0                       # Miller indices wrt Y-axis\n",
      "l=0.0                       # Miller indices wrt Z-axis\n",
      "d=2*10**-10                 #interplanar spacing\n",
      "\n",
      "#Calculation\n",
      "a=d*math.sqrt(h**2+k**2+l**2)\n",
      "R=a/(2*math.sqrt(2))\n",
      "\n",
      "#Result\n",
      "print('The lattice constant is %.3f*10^-10 m\\nThe atomic radius of the crystal is %.1f *10^-10 m'%(a*10**10,R*10**10))\n",
      "\n",
      "#Answer in the book for lattice constant is wrong"
     ],
     "language": "python",
     "metadata": {},
     "outputs": [
      {
       "output_type": "stream",
       "stream": "stdout",
       "text": [
        "The lattice constant is 2.828*10^-10 m\n",
        "The atomic radius of the crystal is 1.0 *10^-10 m\n"
       ]
      }
     ],
     "prompt_number": 46
    },
    {
     "cell_type": "heading",
     "level": 2,
     "metadata": {},
     "source": [
      "Example 2.28, page no-47"
     ]
    },
    {
     "cell_type": "code",
     "collapsed": false,
     "input": [
      "#energy of the neutron\n",
      "\n",
      "import math\n",
      "#variable declaration\n",
      "theta=22                     # glancing angle\n",
      "d=1.8*10**-10                # interplanar spacing\n",
      "n=1.0                        # order of diffraction\n",
      "h=6.626*10**-34              # planck's constant\n",
      "m=9.11*10**-31               # mass of an atom kg\n",
      "e=1.609*10**-19              # Charge of an electron\n",
      "\n",
      "#calculations\n",
      "lam=2*d*math.sin(theta*math.pi/180)/n\n",
      "lam= math.ceil(lam*10**13)/10**13\n",
      "E=(1/(2*m))*(h/lam)**(2)\n",
      "\n",
      "#result\n",
      "print('\\nThe deBroglie wavelength of the neutron is %.3f *10^-10\\nthe energy of the neutron is %.3f eV'%(lam*10**10,E/e))"
     ],
     "language": "python",
     "metadata": {},
     "outputs": [
      {
       "output_type": "stream",
       "stream": "stdout",
       "text": [
        "\n",
        "The deBroglie wavelength of the neutron is 1.349 *10^-10\n",
        "the energy of the neutron is 82.295 eV\n"
       ]
      }
     ],
     "prompt_number": 53
    },
    {
     "cell_type": "heading",
     "level": 2,
     "metadata": {},
     "source": [
      "Example 2.29, page no-48"
     ]
    },
    {
     "cell_type": "code",
     "collapsed": false,
     "input": [
      "# InterPlanar Spacing\n",
      "\n",
      "import math\n",
      "#variable declaration\n",
      "h=1.0                      # Miller indices wrt X-axis\n",
      "k=1.0                      # Miller indices wrt Y-axis\n",
      "l=1.0                      # Miller indices wrt Z-axis\n",
      "a=3*10**-10                # lattice spacing\n",
      "\n",
      "#calculation\n",
      "d=a/math.sqrt(h**2+k**2+l**2)\n",
      "\n",
      "#Result\n",
      "print('\\nThe interplanar spacing for the plane(%d%d%d) is %.3f*10^-10 m'%(h,k,l,d*10**10))"
     ],
     "language": "python",
     "metadata": {},
     "outputs": [
      {
       "output_type": "stream",
       "stream": "stdout",
       "text": [
        "\n",
        "The interplanar spacing for the plane(111) is 1.732*10^-10 m\n"
       ]
      }
     ],
     "prompt_number": 54
    },
    {
     "cell_type": "heading",
     "level": 2,
     "metadata": {},
     "source": [
      "Example 2.30, page no-48"
     ]
    },
    {
     "cell_type": "code",
     "collapsed": false,
     "input": [
      "# Lattice spacing from Miller indices \n",
      "\n",
      "import math\n",
      "#variable declaration\n",
      "h=3.0                      # Miller indices wrt X-axis\n",
      "k=2.0                      # Miller indices wrt Y-axis\n",
      "l=1.0                      # Miller indices wrt Z-axis \n",
      "rfcc=0.1278*10**-9         # Atomic radius at Fcc State\n",
      "\n",
      "#calculation\n",
      "a=4*rfcc/math.sqrt(2)\n",
      "d=a/math.sqrt(h**2+k**2+l**2)\n",
      "\n",
      "#Result\n",
      "print('\\nThe lattice constant = %.3f *10^-10\\nThe interplanar spacing for the plane(%d%d%d) is %.2f*10^-11 m'%(a*10**10,h,k,l,d*10**11))"
     ],
     "language": "python",
     "metadata": {},
     "outputs": [
      {
       "output_type": "stream",
       "stream": "stdout",
       "text": [
        "\n",
        "The lattice constant = 3.615 *10^-10\n",
        "The interplanar spacing for the plane(321) is 9.66*10^-11 m\n"
       ]
      }
     ],
     "prompt_number": 56
    },
    {
     "cell_type": "heading",
     "level": 2,
     "metadata": {},
     "source": [
      "Example 2.31, page no-49"
     ]
    },
    {
     "cell_type": "code",
     "collapsed": false,
     "input": [
      "# Number of atoms in Al foil\n",
      "\n",
      "import math\n",
      "#variable declaration\n",
      "a=0.4049*10**-10             # lattice constant\n",
      "t=0.005                      # thickness of the coil\n",
      "A=25*10**-2                  # Area of the foil\n",
      "\n",
      "#calculation\n",
      "n=t*A/a**3\n",
      "\n",
      "#Result\n",
      "print('The number of atoms in the Al foil is %.2f * 10^28'%(n*10**-28))"
     ],
     "language": "python",
     "metadata": {},
     "outputs": [
      {
       "output_type": "stream",
       "stream": "stdout",
       "text": [
        "The number of atoms in the Al foil is 1.88 * 10^28\n"
       ]
      }
     ],
     "prompt_number": 57
    },
    {
     "cell_type": "heading",
     "level": 2,
     "metadata": {},
     "source": [
      "Example 2.32, page no-49"
     ]
    },
    {
     "cell_type": "code",
     "collapsed": false,
     "input": [
      "# energy of the neutron\n",
      "\n",
      "import math\n",
      "#variable declaration\n",
      "theta=20                   # glancing angle\n",
      "d=2*10**-10                # interplanar spacing\n",
      "n=1.0                      # order of diffraction\n",
      "h=6.626*10**-34            # planck's constant\n",
      "m=1.67*10**-27             # mass of an atom\n",
      "e=1.609*10**-19            # charge of an electron\n",
      "\n",
      "#Calculation\n",
      "lam=2*d*math.sin(theta*math.pi/180)/n\n",
      "E=(1/(2*m))*(h/lam)**(2)\n",
      "\n",
      "#Result\n",
      "print('\\nThe deBroglie wavelength of the neutron is %.3f *10^-10\\nthe energy of the neutron is %.5f eV'%(lam*10**10,E/e))"
     ],
     "language": "python",
     "metadata": {},
     "outputs": [
      {
       "output_type": "stream",
       "stream": "stdout",
       "text": [
        "\n",
        "The deBroglie wavelength of the neutron is 1.368 *10^-10\n",
        "the energy of the neutron is 0.04365 eV\n"
       ]
      }
     ],
     "prompt_number": 63
    },
    {
     "cell_type": "heading",
     "level": 2,
     "metadata": {},
     "source": [
      "Example 2.35, page no-51"
     ]
    },
    {
     "cell_type": "code",
     "collapsed": false,
     "input": [
      "# deBroglie wavelength of electrons\n",
      "\n",
      "import math\n",
      "#variable declaration\n",
      "e=1.602*10**-19                 # charge of an electron\n",
      "h=6.626*10**-34                 # planck's constant\n",
      "m=9.11*10**-31                  # mass of an electron\n",
      "ek=235.2*e                      # kinetic energy\n",
      "n=1.0                           # order of diffraction\n",
      "theta=9.21                      # glancing angle\n",
      "\n",
      "#Calculation\n",
      "lam=h/math.sqrt(2*m*ek)\n",
      "d=n*lam/(2*math.sin(theta*math.pi/180))\n",
      "\n",
      "#Result\n",
      "print('\\nThe deBroglie wavelength of electron is %.3f *10^-11 m\\nThe interplanar spacing is %.3f *10^-10 m'%(lam*10**11,d*10**10))"
     ],
     "language": "python",
     "metadata": {},
     "outputs": [
      {
       "output_type": "stream",
       "stream": "stdout",
       "text": [
        "\n",
        "The deBroglie wavelength of electron is 7.997 *10^-11 m\n",
        "The interplanar spacing is 2.498 *10^-10 m\n"
       ]
      }
     ],
     "prompt_number": 64
    },
    {
     "cell_type": "heading",
     "level": 2,
     "metadata": {},
     "source": [
      "Example 2.36, page no-52"
     ]
    },
    {
     "cell_type": "code",
     "collapsed": false,
     "input": [
      "# Lattice spacing from Miller indices\n",
      "\n",
      "import math\n",
      "# Intercepts are in the ratio 3a:4b along X,Y and parallel to Z axis\n",
      "# x-intercept 3, y-intercept 4 and z-intercept infinity \n",
      "\n",
      "#variable declaration\n",
      "a=2.0*10**-10       # 2 Angstrom\n",
      "h=4.0               # Miller indices wrt X-axis\n",
      "k=3.0               # Miller indices wrt Y-axis\n",
      "l=0.0               # Miller indices wrt Z-axis\n",
      "\n",
      "#calculation\n",
      "d=a/math.sqrt(h**2+k**2+l**2)\n",
      "\n",
      "#result\n",
      "print('The lattice spacing for the plane (%d%d%d) is %.1f*10^-10 m'%(h,k,l,d*10**10))"
     ],
     "language": "python",
     "metadata": {},
     "outputs": [
      {
       "output_type": "stream",
       "stream": "stdout",
       "text": [
        "The lattice spacing for the plane (430) is 0.4*10^-10 m\n"
       ]
      }
     ],
     "prompt_number": 65
    },
    {
     "cell_type": "heading",
     "level": 2,
     "metadata": {},
     "source": [
      "Example 2.38, page no-53"
     ]
    },
    {
     "cell_type": "code",
     "collapsed": false,
     "input": [
      "# Plane Drawing\n",
      "print('Same as example 2.24 of the same chapter')"
     ],
     "language": "python",
     "metadata": {},
     "outputs": [
      {
       "output_type": "stream",
       "stream": "stdout",
       "text": [
        "Same as example 2.24 of the same chapter\n"
       ]
      }
     ],
     "prompt_number": 35
    }
   ],
   "metadata": {}
  }
 ]
}