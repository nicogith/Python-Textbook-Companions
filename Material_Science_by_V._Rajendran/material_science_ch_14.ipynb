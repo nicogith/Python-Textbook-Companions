{
 "metadata": {
  "name": ""
 },
 "nbformat": 3,
 "nbformat_minor": 0,
 "worksheets": [
  {
   "cells": [
    {
     "cell_type": "heading",
     "level": 1,
     "metadata": {},
     "source": [
      "Chapter 14: Luminescence"
     ]
    },
    {
     "cell_type": "heading",
     "level": 2,
     "metadata": {},
     "source": [
      "Example 14.1, page no-385"
     ]
    },
    {
     "cell_type": "code",
     "collapsed": false,
     "input": [
      "# Penetration depth of electron\n",
      "\n",
      "import math\n",
      "#Variable Declaration\n",
      "eb=10000.0              # Energy of incident beam in eV\n",
      "k=1.2*10**-4            # Constant depending on marerial  \n",
      "b=0.151                 # Constant depending on marerial\n",
      "e=1.6*10**-19           # charge of an electron\n",
      "\n",
      "#Calculation\n",
      "rc=k*(eb*e)**b\n",
      "\n",
      "#Result\n",
      "print('The penetration depth of the electron is %.4f \u00b5m'%(rc*10**6))"
     ],
     "language": "python",
     "metadata": {},
     "outputs": [
      {
       "output_type": "stream",
       "stream": "stdout",
       "text": [
        "The penetration depth of the electron is 0.6998 \u00b5m\n"
       ]
      }
     ],
     "prompt_number": 1
    },
    {
     "cell_type": "heading",
     "level": 2,
     "metadata": {},
     "source": [
      "Example 14.2, page no-386"
     ]
    },
    {
     "cell_type": "code",
     "collapsed": false,
     "input": [
      "# Luminescent lifetime\n",
      "\n",
      "import math\n",
      "#Variable Declaration\n",
      "ed=0.4                   # difference in energy level in eV\n",
      "e=1.6*10**-19            # Charge of an electron\n",
      "kT=0.025                 # temperature equivalent \n",
      "q=10**8                  # constant\n",
      "\n",
      "#Calculation\n",
      "r=q*math.e**(-(ed/kT))\n",
      "\n",
      "#Result\n",
      "print('The escape rate per unit time = %.1f per sec\\nTherefore, the luminescent lifetime is nearly %.0f sec'%(math.floor(r*10)/10,r))"
     ],
     "language": "python",
     "metadata": {},
     "outputs": [
      {
       "output_type": "stream",
       "stream": "stdout",
       "text": [
        "The escape rate per unit time = 11.2 per sec\n",
        "Therefore, the luminescent lifetime is nearly 11 sec\n"
       ]
      }
     ],
     "prompt_number": 5
    }
   ],
   "metadata": {}
  }
 ]
}