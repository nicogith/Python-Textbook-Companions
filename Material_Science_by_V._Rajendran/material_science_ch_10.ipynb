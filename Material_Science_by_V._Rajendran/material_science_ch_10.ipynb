{
 "metadata": {
  "name": ""
 },
 "nbformat": 3,
 "nbformat_minor": 0,
 "worksheets": [
  {
   "cells": [
    {
     "cell_type": "heading",
     "level": 1,
     "metadata": {},
     "source": [
      "Chapter 10: Transport Properties of Semiconductors"
     ]
    },
    {
     "cell_type": "heading",
     "level": 2,
     "metadata": {},
     "source": [
      "Example 10.1, page no-267"
     ]
    },
    {
     "cell_type": "code",
     "collapsed": false,
     "input": [
      "# intrinsic properties\n",
      "import math\n",
      "\n",
      "#Variable declaration\n",
      "T=300                          # Temperature\n",
      "mue=0.4                        # Electron mobility \n",
      "muh=0.2                        # Hole mobility \n",
      "e=1.6*10**-19                  # electronic charge\n",
      "eg=0.7*e                       # Band gap\n",
      "m=9.1*10**-31                  # Mass of electron\n",
      "me=0.55                        # electron effective mass \n",
      "mh=0.37                        # hole effective \n",
      "h=6.626*10**-34                # Planck's constant\n",
      "k=1.38*10**-23                 # Boltzmann's constant\n",
      "\n",
      "#Calculations\n",
      "ni=2*(2*math.pi*k*T/(h**2))**(1.5)\n",
      "ni=ni*(m**1.5)*(mh*me)**(3.0/4.0)\n",
      "ni=ni*math.e**(-eg/(k*T))\n",
      "sig=ni*e*(mue+muh)\n",
      "rho=1/sig\n",
      "\n",
      "# Result\n",
      "print(\"\\nThe intrinsic concentration ni=%.3f *10^13 /m^3\"%(ni*10**-13))\n",
      "print(\"\\nIntrinsic Conductivity,Sigma =%.3f *10^-6 per m^3\\n\\nIntrinsic Resistivity, rho = %.2f*10^6 Ohm-m\"%(sig*10**6,rho*10**-6))\n"
     ],
     "language": "python",
     "metadata": {},
     "outputs": [
      {
       "output_type": "stream",
       "stream": "stdout",
       "text": [
        "\n",
        "The intrinsic concentration ni=1.352 *10^13 /m^3\n",
        "\n",
        "Intrinsic Conductivity,Sigma =1.298 *10^-6 per m^3\n",
        "\n",
        "Intrinsic Resistivity, rho = 0.77*10^6 Ohm-m\n"
       ]
      }
     ],
     "prompt_number": 3
    },
    {
     "cell_type": "heading",
     "level": 2,
     "metadata": {},
     "source": [
      "Example 10.2, page no-268"
     ]
    },
    {
     "cell_type": "code",
     "collapsed": false,
     "input": [
      "# Fermi energy\n",
      "\n",
      "import math\n",
      "# variable declaration\n",
      "ni=1.45*10**10                  # intrinsic concentration\n",
      "nd=10**16                       # donor concentration\n",
      "k=1.38*10**-23                  # Boltzmann's constant\n",
      "T=300                           # Temperature\n",
      "e=1.6*10**-19                   # electronic charge\n",
      "\n",
      "#Calculations\n",
      "Ef=k*T*math.log(nd/ni)\n",
      "Ef=Ef/e\n",
      "\n",
      "#Result\n",
      "print(\"The Fermi energy with respect to Ef in intrinsic Si = %.3f eV\"%Ef)"
     ],
     "language": "python",
     "metadata": {},
     "outputs": [
      {
       "output_type": "stream",
       "stream": "stdout",
       "text": [
        "The Fermi energy with respect to Ef in intrinsic Si = 0.348 eV\n"
       ]
      }
     ],
     "prompt_number": 4
    },
    {
     "cell_type": "heading",
     "level": 2,
     "metadata": {},
     "source": [
      "Example 10.3, page no-269"
     ]
    },
    {
     "cell_type": "code",
     "collapsed": false,
     "input": [
      "# conductivity of intrinsic\n",
      "\n",
      "import math\n",
      "#Variable declarations\n",
      "ni=2.5*10**19                    # intrinsic concentration\n",
      "mue=0.39                         # electron mobility \n",
      "muh=0.19                         # hole mobility \n",
      "l=10**-2                         # length of rod\n",
      "e=1.6*10**-19                    # charge of an electron\n",
      "\n",
      "# Calculations\n",
      "sig=ni*e*(mue+muh)\n",
      "R=l/(sig*10**-6)\n",
      "\n",
      "#Result\n",
      "print(\"The conductivity of intrinsic Ge is %.2f /ohm-m\\nThe Resistance is %.0f\"%(sig,R))\n"
     ],
     "language": "python",
     "metadata": {},
     "outputs": [
      {
       "output_type": "stream",
       "stream": "stdout",
       "text": [
        "The conductivity of intrinsic Ge is 2.32 /ohm-m\n",
        "The Resistance is 4310\n"
       ]
      }
     ],
     "prompt_number": 5
    },
    {
     "cell_type": "heading",
     "level": 2,
     "metadata": {},
     "source": [
      "Example 10.4, page no-269"
     ]
    },
    {
     "cell_type": "code",
     "collapsed": false,
     "input": [
      "# conductivity of intrinsic Ge\n",
      "\n",
      "import math\n",
      "#Variable declaration\n",
      "ni=1.5*10**16                      # intrinsic concentration\n",
      "mue=0.13                           # electron mobility \n",
      "muh=0.05                           # hole mobility \n",
      "e=1.6*10**-19                      # electronic charge\n",
      "\n",
      "#Calculations\n",
      "sig=ni*e*(mue+muh)\n",
      "\n",
      "#Result\n",
      "print(\"The conductivity of intrinsic Ge is %.2f *10^-4 /ohm-m\"%(sig*10**4))\n"
     ],
     "language": "python",
     "metadata": {},
     "outputs": [
      {
       "output_type": "stream",
       "stream": "stdout",
       "text": [
        "The conductivity of intrinsic Ge is 4.32 *10^-4 /ohm-m\n"
       ]
      }
     ],
     "prompt_number": 6
    },
    {
     "cell_type": "heading",
     "level": 2,
     "metadata": {},
     "source": [
      "Example 10.5, page no-270"
     ]
    },
    {
     "cell_type": "code",
     "collapsed": false,
     "input": [
      "# intrinsic conductivity and resistivity\n",
      "\n",
      "import math\n",
      "\n",
      "#variable declaration\n",
      "ni=2.15*10**13                      # intrinsic concentration\n",
      "mue=3900                            # electron mobility \n",
      "muh=1900                            # hole concentration\n",
      "e=1.6*10**-19                       # electronic charge\n",
      "\n",
      "#calculation\n",
      "sig=ni*e*(mue+muh)\n",
      "r=1/sig\n",
      "\n",
      "# Result\n",
      "print(\"The conductivity of intrinsic Ge is %.2f *10^-2 /ohm-cm\\nThe intrinsic resistivity is %.0f Ohm-cm\"%(sig*10**2,r))\n",
      "#answers in the book is wrong"
     ],
     "language": "python",
     "metadata": {},
     "outputs": [
      {
       "output_type": "stream",
       "stream": "stdout",
       "text": [
        "The conductivity of intrinsic Ge is 2.00 *10^-2 /ohm-cm\n",
        "The intrinsic resistivity is 50 Ohm-cm\n"
       ]
      }
     ],
     "prompt_number": 8
    },
    {
     "cell_type": "heading",
     "level": 2,
     "metadata": {},
     "source": [
      "Example 10.6, page no-270"
     ]
    },
    {
     "cell_type": "code",
     "collapsed": false,
     "input": [
      "# intrinsic conductivity and resistivity\n",
      "\n",
      "import math\n",
      "# variable declaration\n",
      "ni=2.1*10**19                     # intrinsic concentration\n",
      "mue=0.4                           # electron mobility \n",
      "muh=0.2                           # hole mobility\n",
      "e=1.6*10**-19                     # electronic charge\n",
      "p=4.5*10**23                      # boron density \n",
      "\n",
      "# Calculation\n",
      "sig=ni*e*(mue+muh)\n",
      "r=p*e*muh\n",
      "\n",
      "#Result\n",
      "print(\"The conductivity of intrinsic Ge is %.3f *10^-2 /ohm-cm\\nThe intrinsic resistivity is %.2f *10^4  per ohm-m\"%(sig,r*10**-4))"
     ],
     "language": "python",
     "metadata": {},
     "outputs": [
      {
       "output_type": "stream",
       "stream": "stdout",
       "text": [
        "The conductivity of intrinsic Ge is 2.016 *10^-2 /ohm-cm\n",
        "The intrinsic resistivity is 1.44 *10^4  per ohm-m\n"
       ]
      }
     ],
     "prompt_number": 10
    },
    {
     "cell_type": "heading",
     "level": 2,
     "metadata": {},
     "source": [
      "Example 10.7, page no-271"
     ]
    },
    {
     "cell_type": "code",
     "collapsed": false,
     "input": [
      "# intrinsic conductivity and resistivity\n",
      "\n",
      "import math\n",
      "# variable declaration\n",
      "n=5*10**28                       # Atomic concentration\n",
      "ni=1.45*10**13                   # intrinsic concentration\n",
      "mue=1.35                         # electron mobility\n",
      "muh=0.45                         # hole mobility\n",
      "e=1.6*10**-19                    # electronic charge\n",
      "p=4.5*10**23                     # boron density\n",
      "\n",
      "# calculation\n",
      "sig=ni*e*(mue+muh)\n",
      "rho=1/sig\n",
      "r=rho*10**12\n",
      "nd=n/10**9\n",
      "p=(ni**2)/nd\n",
      "sig2=nd*e*mue\n",
      "\n",
      "#Result\n",
      "print(\"\\nThe intrinsic conductivity is %.2f *10^-6 /ohm-cm\\n\\nThe intrinsic resistivity is %.2f *10^-5 Ohm-m\\n\\nResistance = %.2f*10^7 Ohm\\n\\nDonar concentration is %.0f*10^19\\n\\nConcentration of hole is %.1f*10^6 m^-3\\n\\nConductivity = %.1f per ohm-m\"%(sig*10**6,rho*10**-5,r*10**-17,nd*10**-19,p*10**-6,sig2))"
     ],
     "language": "python",
     "metadata": {},
     "outputs": [
      {
       "output_type": "stream",
       "stream": "stdout",
       "text": [
        "\n",
        "The intrinsic conductivity is 4.18 *10^-6 /ohm-cm\n",
        "\n",
        "The intrinsic resistivity is 2.39 *10^-5 Ohm-m\n",
        "\n",
        "Resistance = 2.39*10^7 Ohm\n",
        "\n",
        "Donar concentration is 5*10^19\n",
        "\n",
        "Concentration of hole is 4.2*10^6 m^-3\n",
        "\n",
        "Conductivity = 10.8 per ohm-m\n"
       ]
      }
     ],
     "prompt_number": 13
    },
    {
     "cell_type": "heading",
     "level": 2,
     "metadata": {},
     "source": [
      "Example 10.8, page no-272"
     ]
    },
    {
     "cell_type": "code",
     "collapsed": false,
     "input": [
      "# Conductivity, Intrinsic carrier concentration and band gap of Ge\n",
      "\n",
      "import math\n",
      "# Variable declaration\n",
      "T=300                         # Temperature\n",
      "rho=2.12                      # Resistivity\n",
      "mue=0.36                      # Electron mobility\n",
      "muh=0.17                      # Hole mobility\n",
      "e=1.6*10**-19                 # electronic charge\n",
      "m=9.1*10**-31                 # mass of electron\n",
      "h=6.626*10**-34               # Planck's constant\n",
      "k=1.38*10**-23                # Boltzmann's constant\n",
      "\n",
      "# Calculations\n",
      "sig=1/rho\n",
      "ni=sig/(e*(muh+mue))\n",
      "Nc=2*(2*math.pi*k*T/h**(2))**(1.5)\n",
      "Nc=Nc*(0.5*m)**(1.5)\n",
      "Nv=2*(2*math.pi*k*T/h**(2))**(1.5)\n",
      "Nv=Nv*(0.37*m)**(1.5)\n",
      "eg=2*k*T*math.log(math.sqrt(Nc*Nv)/ni)\n",
      "eg=eg/e\n",
      "\n",
      "# Result\n",
      "print(\"\\nConductivity = %.6f per Ohm-m\\nIntrinsic carrier concentration, ni=%.5f*10^18\"%(sig,ni*10**-18))\n",
      "print(\"\\nNc=%.3f*10^24\\nNv=%.3f*10^24\"%(Nc*10**-24,Nv*10**-24))\n",
      "print(\"\\nThe band gap of Ge is %.3f eV\"%eg)\n"
     ],
     "language": "python",
     "metadata": {},
     "outputs": [
      {
       "output_type": "stream",
       "stream": "stdout",
       "text": [
        "\n",
        "Conductivity = 0.471698 per Ohm-m\n",
        "Intrinsic carrier concentration, ni=5.56248*10^18\n",
        "\n",
        "Nc=8.852*10^24\n",
        "Nv=5.635*10^24\n",
        "\n",
        "The band gap of Ge is 0.727 eV\n"
       ]
      }
     ],
     "prompt_number": 4
    },
    {
     "cell_type": "heading",
     "level": 2,
     "metadata": {},
     "source": [
      "Example 10.9, page no-273"
     ]
    },
    {
     "cell_type": "code",
     "collapsed": false,
     "input": [
      "# carrier concentration \n",
      "\n",
      "import math\n",
      "# Variable declaration\n",
      "e=1.6*10**-19                   # Electronic charge\n",
      "m=9.1*10**-31                   # Mass of electron\n",
      "h=6.62*10**-34                 # Planck's constant\n",
      "k=1.38*10**-23                  # Boltzmann's constant\n",
      "eg=0.7*e                        # Band gap energy\n",
      "T=300                           # Temperature\n",
      "\n",
      "#Calculations\n",
      "ni=2*(2*3.14*m*k*T/(h**(2)))**(1.5)                      # math.pi= 3.14\n",
      "ni=ni*math.e**(-eg/(2*k*T))\n",
      "\n",
      "#Result\n",
      "print(\"The carrier concentration of an intrinsic semiconductor is = %.2f*10^18 per m^3\"%(ni*10**-18))"
     ],
     "language": "python",
     "metadata": {},
     "outputs": [
      {
       "output_type": "stream",
       "stream": "stdout",
       "text": [
        "The carrier concentration of an intrinsic semiconductor is = 33.49*10^18 per m^3\n"
       ]
      }
     ],
     "prompt_number": 9
    },
    {
     "cell_type": "heading",
     "level": 2,
     "metadata": {},
     "source": [
      "Example 10.10, page no-273"
     ]
    },
    {
     "cell_type": "code",
     "collapsed": false,
     "input": [
      "# Carrier concentration\n",
      "\n",
      "import math\n",
      "# Variable declaration\n",
      "e=1.6*10**-19                         # Electronic charge\n",
      "m=9.1*10**-31                         # mass of electron\n",
      "h=6.626*10**-34                       # planck's constant\n",
      "k=1.38*10**-23                        # Boltzmann's constant\n",
      "eg=1.1*e                              # Energy gap\n",
      "mue=0.48                              # Mobility of electron\n",
      "muh=0.013                             # Mobility of hole\n",
      "T=300                                 # temperature\n",
      "\n",
      "#Calculations\n",
      "ni=2*(2*math.pi*m*k*T/(h**(2)))**(1.5)\n",
      "ni=ni*math.e**(-eg/(2*k*T))\n",
      "sig=ni*e*(mue+muh)\n",
      "\n",
      "#Result\n",
      "print(\"\\nThe carrier concentration of an intrinsic semiconductor is = %.2f*10^16 per m^3\\nThe electrical conductiivity of Si is %.2f*10^-3 per Ohm-m\"%(ni*10**-16,sig*10**3))"
     ],
     "language": "python",
     "metadata": {},
     "outputs": [
      {
       "output_type": "stream",
       "stream": "stdout",
       "text": [
        "\n",
        "The carrier concentration of an intrinsic semiconductor is = 1.47*10^16 per m^3\n",
        "The electrical conductiivity of Si is 1.16*10^-3 per Ohm-m\n"
       ]
      }
     ],
     "prompt_number": 12
    },
    {
     "cell_type": "heading",
     "level": 2,
     "metadata": {},
     "source": [
      "Example 10.11, page no-275"
     ]
    },
    {
     "cell_type": "code",
     "collapsed": false,
     "input": [
      "# Fermi energy of Si\n",
      "\n",
      "import math\n",
      "# Variable declaration\n",
      "e=1.6*10**-19               # ELectronic charge\n",
      "eg=1.12                     # Band gap\n",
      "me=0.12                     # Effective mass of electron\n",
      "mh=0.28                     # Effective mass of hole\n",
      "T=300                       # Temperature \n",
      "k=1.38*10**-23              # Boltzmann's constant\n",
      "\n",
      "# Calculations\n",
      "ef=(eg/2)+(3*k*T/(4*e))*math.log(mh/me)\n",
      "\n",
      "# Result\n",
      "print(\"The Fermi energy of Si at 300 K is %.3f eV\"%ef)\n"
     ],
     "language": "python",
     "metadata": {},
     "outputs": [
      {
       "output_type": "stream",
       "stream": "stdout",
       "text": [
        "The Fermi energy of Si at 300 K is 0.576 eV\n"
       ]
      }
     ],
     "prompt_number": 14
    },
    {
     "cell_type": "heading",
     "level": 2,
     "metadata": {},
     "source": [
      "Example 10.12, page no-275"
     ]
    },
    {
     "cell_type": "code",
     "collapsed": false,
     "input": [
      "# Fermi level shift\n",
      "\n",
      "import math\n",
      "# Variable declaration\n",
      "e=1.6*10**-19             # Electronic charge\n",
      "eg=1*e                     # Energy gap\n",
      "k=1.38*10**-23             # Boltzmann's constant\n",
      "m=4.0                      # hole to elctron mass ratio\n",
      "\n",
      "# calculations\n",
      "T=0.1*e*4/(3*k*math.log(m))\n",
      "\n",
      "# Result\n",
      "print(\"Temperature at which Fermi level is shifted 10%% is %.f K\"%T)\n",
      "# Answer in the book is wrong"
     ],
     "language": "python",
     "metadata": {},
     "outputs": [
      {
       "output_type": "stream",
       "stream": "stdout",
       "text": [
        "Temperature at which Fermi level is shifted 10% is 1115 K\n"
       ]
      }
     ],
     "prompt_number": 16
    },
    {
     "cell_type": "heading",
     "level": 2,
     "metadata": {},
     "source": [
      "Example 10.13, page no-276"
     ]
    },
    {
     "cell_type": "code",
     "collapsed": false,
     "input": [
      "# conductivity of Ge\n",
      "\n",
      "import math\n",
      "# variable declaration\n",
      "e=1.6*10**-19               # electronic charge\n",
      "ni=2.4*10**19               # intrinsic concentration\n",
      "mue=0.39                    # Electron mobility \n",
      "muh=0.19                    # hole mobility\n",
      "\n",
      "# caclualtions\n",
      "sig=ni*e*(mue+muh)\n",
      "\n",
      "#Result\n",
      "print(\"The conductivity of Ge at 300 K is %.2f per Ohm-m\"%(math.floor(sig*100)/100))\n"
     ],
     "language": "python",
     "metadata": {},
     "outputs": [
      {
       "output_type": "stream",
       "stream": "stdout",
       "text": [
        "The conductivity of Ge at 300 K is 2.22 per Ohm-m\n"
       ]
      }
     ],
     "prompt_number": 19
    },
    {
     "cell_type": "heading",
     "level": 2,
     "metadata": {},
     "source": [
      "Example 10.14, page no-277"
     ]
    },
    {
     "cell_type": "code",
     "collapsed": false,
     "input": [
      "# Fermi energy level position\n",
      "\n",
      "import math\n",
      "# variable declaration\n",
      "e=1.6*10**-19               # electronic charge\n",
      "T1=300                      # Lower Temperature \n",
      "T2=330                      # Higher Temperature\n",
      "eg=0.3                      # Fermi level posiion at lower temperature\n",
      "\n",
      "# Calculations\n",
      "eg2=eg*T2/T1\n",
      "\n",
      "#Result\n",
      "print(\"E_c-E_f330=%.2f eV\\n\\nAt 330 K, the Fermi energy level lies %.2f eV, bellow the conduction band.\"%(eg2,eg2))\n"
     ],
     "language": "python",
     "metadata": {},
     "outputs": [
      {
       "output_type": "stream",
       "stream": "stdout",
       "text": [
        "E_c-E_f330=0.33 eV\n",
        "\n",
        "At 330 K, the Fermi energy level lies 0.33 eV, bellow the conduction band.\n"
       ]
      }
     ],
     "prompt_number": 20
    },
    {
     "cell_type": "heading",
     "level": 2,
     "metadata": {},
     "source": [
      "Example 10.15, page no-277"
     ]
    },
    {
     "cell_type": "code",
     "collapsed": false,
     "input": [
      "# conductivity of Ge\n",
      "\n",
      "import math\n",
      "# Variable declaration\n",
      "e=1.6*10**-19                       # Charge of electron\n",
      "eg=0.72*e                           # Energy gap\n",
      "t1=293.0                            # lower temperature\n",
      "t2=313.0                            # higher temperature\n",
      "k=1.38*10**-23                      # Boltzmann's constant\n",
      "\n",
      "# calculations\n",
      "sig1=2\n",
      "n=((t2/t1)**(3.0/2.0))*math.e**((eg/(2*k))*((1/t1)-(1/t2)))\n",
      "sig2=sig1*n\n",
      "\n",
      "#Result\n",
      "print(\"The conductivity of Ge at 40\u00b0C is %.3f per Ohm-m\"%sig2)\n"
     ],
     "language": "python",
     "metadata": {},
     "outputs": [
      {
       "output_type": "stream",
       "stream": "stdout",
       "text": [
        "The conductivity of Ge at 40\u00b0C is 5.487 per Ohm-m\n"
       ]
      }
     ],
     "prompt_number": 27
    },
    {
     "cell_type": "heading",
     "level": 2,
     "metadata": {},
     "source": [
      "Example 10.16, page no-278"
     ]
    },
    {
     "cell_type": "code",
     "collapsed": false,
     "input": [
      "# intrinsic concentration of Si\n",
      "\n",
      "import math\n",
      "# Variable declaration\n",
      "e=1.6*10**-19              # electronic charge\n",
      "m=9.1*10**-31              # mass of electron \n",
      "mm=0.31*m                  # effective mass of electron\n",
      "h=6.626*10**-34            # Planck's constant\n",
      "k=1.38*10**-23             # Boltzmann's constant  \n",
      "eg=1.1*e                   # Energy gap\n",
      "T=300                      # Temperature\n",
      "\n",
      "# Calculations\n",
      "ni=2*(2*math.pi*mm*k*T/(h**(2)))**(1.5)\n",
      "ni=ni*math.e**(-eg/(2*k*T))\n",
      "\n",
      "#Result\n",
      "print(\"The intrinsic concentration of Si at %d K is %.4f * 10^15 electrons per m^3\"%(T,ni*10**-15))"
     ],
     "language": "python",
     "metadata": {},
     "outputs": [
      {
       "output_type": "stream",
       "stream": "stdout",
       "text": [
        "The intrinsic concentration of Si at 300 K is 2.5367 * 10^15 electrons per m^3\n"
       ]
      }
     ],
     "prompt_number": 28
    },
    {
     "cell_type": "heading",
     "level": 2,
     "metadata": {},
     "source": [
      "Example 10.17, page no-279"
     ]
    },
    {
     "cell_type": "code",
     "collapsed": false,
     "input": [
      "# drift mobility\n",
      "import math\n",
      "# Variable declaration\n",
      "hc=0.55*10**-10               # Hall coefficient of Cu (modulus)\n",
      "cc=5.9*10**7                  # Conductivity of Cu \n",
      "T=300                         # Temperature\n",
      "\n",
      "#Calculations\n",
      "dm=hc*cc\n",
      "\n",
      "#Result\n",
      "print(\"The drift mobility is given by mu_d = %.1f * 10^-3 m^2/V-s\"%(dm*10**3))\n"
     ],
     "language": "python",
     "metadata": {},
     "outputs": [
      {
       "output_type": "stream",
       "stream": "stdout",
       "text": [
        "The drift mobility is given by mu_d = 3.2 * 10^-3 m^2/V-s\n"
       ]
      }
     ],
     "prompt_number": 29
    },
    {
     "cell_type": "heading",
     "level": 2,
     "metadata": {},
     "source": [
      "Example 10.18, page no-279"
     ]
    },
    {
     "cell_type": "code",
     "collapsed": false,
     "input": [
      "# concentration and averrage o of electron contributed per atom\n",
      "\n",
      "import math\n",
      "#Variable declaration\n",
      "sig=5.9*10**7                     # Resistivity\n",
      "e=1.6*10**-19                     # electronic charge\n",
      "mu=3.2*10**-3                     # electron drift mobility \n",
      "d=8900                            # Density\n",
      "avg=6.022*10**23                  # Avogadro's number\n",
      "awt=63.5                          # Atomic weight\n",
      "\n",
      "#calculations\n",
      "ni=sig/(e*mu)                     \n",
      "n=avg*d*1000/awt\n",
      "k=ni/n\n",
      "\n",
      "#Result\n",
      "print(\"Concentration of free electron in pure Cu is %.2f*10^28\\nThe average number of electrons contributed per Cu atom is %.2f i.e. %.0f\"%(n*10**-28,math.floor(k*100)/100,k))"
     ],
     "language": "python",
     "metadata": {},
     "outputs": [
      {
       "output_type": "stream",
       "stream": "stdout",
       "text": [
        "Concentration of free electron in pure Cu is 8.44*10^28\n",
        "The average number of electrons contributed per Cu atom is 1.36 i.e. 1\n"
       ]
      }
     ],
     "prompt_number": 33
    },
    {
     "cell_type": "heading",
     "level": 2,
     "metadata": {},
     "source": [
      "Example 10.19, page no-280"
     ]
    },
    {
     "cell_type": "code",
     "collapsed": false,
     "input": [
      "# mobility of the Ge\n",
      "\n",
      "import math\n",
      "# Variable declaration\n",
      "i=5*10**-3                     # current through the specimen\n",
      "v=1.35                         # voltage across the specimen   \n",
      "l=0.01                         # length of the sample\n",
      "b=5*10**-3                     # Breadth of the sample     \n",
      "t=10**-3                       # Thickness of the sample\n",
      "a=5*10**-6                     # Area of the sample\n",
      "vy=20*10**-3                   # Hall voltage\n",
      "H=0.45                         # Magnetic field\n",
      "\n",
      "# Calculations\n",
      "rho=v*a/(l*i)\n",
      "Ey=vy/t\n",
      "j=i/a\n",
      "k=Ey/(H*j)\n",
      "Rh=3*math.pi*k/8\n",
      "mu=Rh/rho\n",
      "\n",
      "#Result\n",
      "print(\"The mobility of the Ge sample is %.2f m^2/V-s\"%mu)\n"
     ],
     "language": "python",
     "metadata": {},
     "outputs": [
      {
       "output_type": "stream",
       "stream": "stdout",
       "text": [
        "The mobility of the Ge sample is 0.39 m^2/V-s\n"
       ]
      }
     ],
     "prompt_number": 34
    },
    {
     "cell_type": "heading",
     "level": 2,
     "metadata": {},
     "source": [
      "Example 10.20, page no-282"
     ]
    },
    {
     "cell_type": "code",
     "collapsed": false,
     "input": [
      "#Hall potential difference\n",
      "\n",
      "import math\n",
      "#Variable declaration\n",
      "I=200                            # current flowing\n",
      "H=1.5                            # Applied magnetic field\n",
      "n=8.4*10**28                     # no of electrons per unit volume\n",
      "d=1.0*10**-3                     # thickness of the strip\n",
      "e=1.6*10**-19                    # electronic charge\n",
      "\n",
      "# calculations\n",
      "v=I*H/(n*d*e)\n",
      "\n",
      "# Result\n",
      "print(\"The Hall potential difference appearance between the ship is %.0f \u00b5v\"%(v*10**6))\n"
     ],
     "language": "python",
     "metadata": {},
     "outputs": [
      {
       "output_type": "stream",
       "stream": "stdout",
       "text": [
        "The Hall potential difference appearance between the ship is 22 \u00b5v\n"
       ]
      }
     ],
     "prompt_number": 35
    },
    {
     "cell_type": "heading",
     "level": 2,
     "metadata": {},
     "source": [
      "Example 10.21, page no-283"
     ]
    },
    {
     "cell_type": "code",
     "collapsed": false,
     "input": [
      "#carrier concentration and mobility of Si\n",
      "\n",
      "import math\n",
      "#Variable declaration\n",
      "rh=3.66*10**-4              # Hall coefficient of specimen\n",
      "rho=8.93*10**-3             # resistivity of thespecimen\n",
      "e=1.6*10**-19               # electronic charge\n",
      "\n",
      "#calculations\n",
      "ni=1/(rh*e)\n",
      "muh=rh/rho\n",
      "\n",
      "#Result\n",
      "print(\"the carrier concentration of Si doped specimen is %.3f *10^22 m^-3\"%(ni*10**-22))\n",
      "print(\"\\n The mobility of Si doped specimen is %.5f m^2/V-s\"%muh)\n"
     ],
     "language": "python",
     "metadata": {},
     "outputs": [
      {
       "output_type": "stream",
       "stream": "stdout",
       "text": [
        "the carrier concentration of Si doped specimen is 1.708 *10^22 m^-3\n",
        "\n",
        " The mobility of Si doped specimen is 0.04099 m^2/V-s\n"
       ]
      }
     ],
     "prompt_number": 36
    },
    {
     "cell_type": "heading",
     "level": 2,
     "metadata": {},
     "source": [
      "Example 10.22, page no-283"
     ]
    },
    {
     "cell_type": "code",
     "collapsed": false,
     "input": [
      "# #carrier concentration and  electron mobility\n",
      "\n",
      "import math\n",
      "#Variable declaration\n",
      "Rh=3.66*10**-11                     # Hall coefficient\n",
      "sig=112*10**7                       # Conductivity\n",
      "e=1.6*10**-19                       # electronic charge\n",
      "\n",
      "# Calculations\n",
      "n=3*math.pi/(8*Rh*e)\n",
      "mu=sig/(n*e)\n",
      "\n",
      "# Result\n",
      "print(\"\\nThe concentration of electrons is %.0f*10^29 m^-3\\nthe electron mobility at room temperature = %.3f m^2/V-s\"%(n*10**-29,mu))"
     ],
     "language": "python",
     "metadata": {},
     "outputs": [
      {
       "output_type": "stream",
       "stream": "stdout",
       "text": [
        "\n",
        "The concentration of electrons is 2*10^29 m^-3\n",
        "the electron mobility at room temperature = 0.035 m^2/V-s\n"
       ]
      }
     ],
     "prompt_number": 37
    },
    {
     "cell_type": "heading",
     "level": 2,
     "metadata": {},
     "source": [
      "Example 10.23, page no-284"
     ]
    },
    {
     "cell_type": "code",
     "collapsed": false,
     "input": [
      "# Hall voltage\n",
      "\n",
      "import math\n",
      "# Variable declaration\n",
      "I=50                      # Current\n",
      "B=1.5                     # Magnetic field \n",
      "t=0.5*10**-2              # Thickness of the slab\n",
      "e=1.6*10**-19             # Electronic charge\n",
      "d=2*10**-2                # Width of the slab  \n",
      "N=8.4*10**28              # Concentration of electron\n",
      "\n",
      "# Calculations\n",
      "v=B*I/(N*e*d)\n",
      "\n",
      "# Result\n",
      "print(\"The Hall voltage is %.2f *10^-7 V\"%(v*10**7))\n"
     ],
     "language": "python",
     "metadata": {},
     "outputs": [
      {
       "output_type": "stream",
       "stream": "stdout",
       "text": [
        "The Hall voltage is 2.79 *10^-7 V\n"
       ]
      }
     ],
     "prompt_number": 39
    },
    {
     "cell_type": "heading",
     "level": 2,
     "metadata": {},
     "source": [
      "Example 10.24, page no-284"
     ]
    },
    {
     "cell_type": "code",
     "collapsed": false,
     "input": [
      "# relaxation time of electrons in metal\n",
      "import math\n",
      "# Variable declaration\n",
      "rho=1.54*10**-8                 # resistivity of metal\n",
      "ni=5.8*10**28                   # carrier concentration\n",
      "m=9.1*10**-31                   # mass of an electron\n",
      "e=1.6*10**-19                   # electronic charge\n",
      "\n",
      "# Calculations\n",
      "tau=m/(rho*ni*(e**2))\n",
      "\n",
      "#Result\n",
      "print(\"The relaxation time of electrons in metal is %.2f*10^-14 s\"%(tau*10**14))\n"
     ],
     "language": "python",
     "metadata": {},
     "outputs": [
      {
       "output_type": "stream",
       "stream": "stdout",
       "text": [
        "The relaxation time of electrons in metal is 3.98*10^-14 s\n"
       ]
      }
     ],
     "prompt_number": 40
    },
    {
     "cell_type": "heading",
     "level": 2,
     "metadata": {},
     "source": [
      "Example 10.25, page no-285"
     ]
    },
    {
     "cell_type": "code",
     "collapsed": false,
     "input": [
      "# mobility of electrons\n",
      "\n",
      "import math\n",
      "# variable declaration\n",
      "sig=6.22*10**7                    # conductivity of metal\n",
      "n=5.9*10**28                      # carrier concentration of electron\n",
      "e=1.6*10**-19                     # electronic charge\n",
      "\n",
      "#calculation\n",
      "mu=sig/(n*e)\n",
      "\n",
      "# Result\n",
      "print(\"The mobility of electrons in Si is %.2f*10^-3 m^2/V-s\"%(mu*10**3))\n"
     ],
     "language": "python",
     "metadata": {},
     "outputs": [
      {
       "output_type": "stream",
       "stream": "stdout",
       "text": [
        "The mobility of electrons in Si is 6.59*10^-3 m^2/V-s\n"
       ]
      }
     ],
     "prompt_number": 41
    },
    {
     "cell_type": "heading",
     "level": 2,
     "metadata": {},
     "source": [
      "Example 10.26, page no-285"
     ]
    },
    {
     "cell_type": "code",
     "collapsed": false,
     "input": [
      "# mobility of the electrons\n",
      "\n",
      "import math\n",
      "# Variable declaration\n",
      "rho=0.1                   # resistivity of metal\n",
      "ni=10**20                 # carrier concentration of electron \n",
      "vd=1                      # drift velocity      \n",
      "e=1.6*10**-19             # electronic charge\n",
      "\n",
      "# calculations\n",
      "mu=1/(rho*ni*e)\n",
      "E=vd/mu\n",
      "\n",
      "# Result\n",
      "print(\"\\nThe mobility of the electrons in material is %.3f m^2/V-s\\nThe electric field is %.1f V/m\"%(mu,E))"
     ],
     "language": "python",
     "metadata": {},
     "outputs": [
      {
       "output_type": "stream",
       "stream": "stdout",
       "text": [
        "\n",
        "The mobility of the electrons in material is 0.625 m^2/V-s\n",
        "The electric field is 1.6 V/m\n"
       ]
      }
     ],
     "prompt_number": 42
    },
    {
     "cell_type": "heading",
     "level": 2,
     "metadata": {},
     "source": [
      "Example 10.27, page no-286"
     ]
    },
    {
     "cell_type": "code",
     "collapsed": false,
     "input": [
      "# mobility of electrons\n",
      "\n",
      "import math\n",
      "#variable declaration\n",
      "sig=6.22*10**7              # conductivity of metal\n",
      "n=5.9*10**28                #carrier concentration of electron  \n",
      "e=1.6*10**-19               # electronic charge\n",
      "\n",
      "# calculations\n",
      "mu=sig/(n*e)\n",
      "\n",
      "# Result\n",
      "print(\"The mobility of electrons in silver is %.2f*10^-3 m^2/V-s\"%(mu*10**3))\n"
     ],
     "language": "python",
     "metadata": {},
     "outputs": [
      {
       "output_type": "stream",
       "stream": "stdout",
       "text": [
        "The mobility of electrons in silver is 6.59*10^-3 m^2/V-s\n"
       ]
      }
     ],
     "prompt_number": 43
    },
    {
     "cell_type": "heading",
     "level": 2,
     "metadata": {},
     "source": [
      "Example 10.28, page no-286"
     ]
    },
    {
     "cell_type": "code",
     "collapsed": false,
     "input": [
      "# mobility of the electrons\n",
      "\n",
      "import math\n",
      "# Variable declaration\n",
      "rho=0.1                   # resistivity of metal\n",
      "ni=10**20                 # carrier concentration of electron \n",
      "vd=1                      # drift velocity      \n",
      "e=1.6*10**-19             # electronic charge\n",
      "\n",
      "# calculations\n",
      "mu=1/(rho*ni*e)\n",
      "E=vd/mu\n",
      "\n",
      "# Result\n",
      "print(\"\\nThe mobility of the electrons in material is %.3f m^2/V-s\\nThe electric field is %.1f V/m\"%(mu,E))"
     ],
     "language": "python",
     "metadata": {},
     "outputs": [
      {
       "output_type": "stream",
       "stream": "stdout",
       "text": [
        "\n",
        "The mobility of the electrons in material is 0.625 m^2/V-s\n",
        "The electric field is 1.6 V/m\n"
       ]
      }
     ],
     "prompt_number": 44
    },
    {
     "cell_type": "heading",
     "level": 2,
     "metadata": {},
     "source": [
      "Example 10.29, page no-287"
     ]
    },
    {
     "cell_type": "code",
     "collapsed": false,
     "input": [
      "# relaxation time, mobility and conductivity\n",
      "\n",
      "import math\n",
      "#variable declaration\n",
      "avg=6.023*10**23                    # Avogadro's number\n",
      "m=9.1*10**-31                       # mass of electron\n",
      "e=1.6*10**-19                       # charge of an electron   \n",
      "d=8.92*10**3                        # density of copper \n",
      "rho=1.73*10**-8                     # resistivity of copper\n",
      "z=63.5                              # Atomic weight of copper\n",
      "\n",
      "# Calculations\n",
      "n=avg*d/z\n",
      "sig=1/rho\n",
      "tau=sig*m/(n*(e**2))\n",
      "mu=sig/(e*n)\n",
      "\n",
      "#Result\n",
      "print(\"\\nThe relaxation time is %.2f *10^-11 s\\nThe mobility of electrons in copper is %.2f m^2/V-s\"%(tau*10**11,mu))\n",
      "print(\"The conductivity of coppper is %.2f * 10^7 per Ohm-m\\n\"%(sig*10**-7))\n"
     ],
     "language": "python",
     "metadata": {},
     "outputs": [
      {
       "output_type": "stream",
       "stream": "stdout",
       "text": [
        "\n",
        "The relaxation time is 2.43 *10^-11 s\n",
        "The mobility of electrons in copper is 4.27 m^2/V-s\n",
        "The conductivity of coppper is 5.78 * 10^7 per Ohm-m\n",
        "\n"
       ]
      }
     ],
     "prompt_number": 45
    },
    {
     "cell_type": "heading",
     "level": 2,
     "metadata": {},
     "source": [
      "Example 10.30, page no-288"
     ]
    },
    {
     "cell_type": "code",
     "collapsed": false,
     "input": [
      "# mobility of electrons and drift velocity\n",
      "\n",
      "import math\n",
      "#variable declaration\n",
      "rho=1.54*10**-8               # resistivity of silver\n",
      "E=100                         # electric field along the wire\n",
      "ni=5.8*10**28                 # carrier concentration of electron\n",
      "e=1.6*10**-19                 # electronic charge\n",
      "\n",
      "# calculations\n",
      "mu=1/(rho*ni*e)\n",
      "vd=mu*E\n",
      "\n",
      "#Result\n",
      "print(\"The mobility of electrons in silver is %.4f*10^-3 m^2/V-s\\nThe drift velocity id %.5f m/s\"%(mu*10**3,vd))"
     ],
     "language": "python",
     "metadata": {},
     "outputs": [
      {
       "output_type": "stream",
       "stream": "stdout",
       "text": [
        "The mobility of electrons in silver is 6.9973*10^-3 m^2/V-s\n",
        "The drift velocity id 0.69973 m/s\n"
       ]
      }
     ],
     "prompt_number": 46
    },
    {
     "cell_type": "heading",
     "level": 2,
     "metadata": {},
     "source": [
      "Example 10.31, page no-288"
     ]
    },
    {
     "cell_type": "code",
     "collapsed": false,
     "input": [
      "# relaxation time for electrons\n",
      "\n",
      "import math\n",
      "#variable declaration\n",
      "rho=1.43*10**-8               # resistivity of metal\n",
      "ni=6.5*10**28                 # carrier concentration of electron\n",
      "e=1.6*10**-19                 # electronic charge\n",
      "m=9.1*10**-31                 # mass of an electron\n",
      "\n",
      "# calculations\n",
      "tau=m/(rho*ni*e**2)\n",
      "\n",
      "# Result\n",
      "print(\"The relaxation time for electrons in the metal is %.2f *10^-14 s\"%(math.ceil(tau*10**16)/100))"
     ],
     "language": "python",
     "metadata": {},
     "outputs": [
      {
       "output_type": "stream",
       "stream": "stdout",
       "text": [
        "The relaxation time for electrons in the metal is 3.83 *10^-14 s\n"
       ]
      }
     ],
     "prompt_number": 50
    },
    {
     "cell_type": "heading",
     "level": 2,
     "metadata": {},
     "source": [
      "Example 10.32, page no-289"
     ]
    },
    {
     "cell_type": "code",
     "collapsed": false,
     "input": [
      "# concentration, mobility  and velocity of electron\n",
      "\n",
      "import math\n",
      "#variable declaration\n",
      "R=60                      # resistance of aluminium\n",
      "rho=2.7*10**-8            # resistivity of aluminium\n",
      "i=15                      # current in the wire\n",
      "l=5                       # length of the aluminium wire\n",
      "m=3                       # number of free electron per atom   \n",
      "e=1.6*10**-19             # electronic charge   \n",
      "d=2.7*10**3               # density of aluminium\n",
      "awt=26.98                 # Atomic weight of aluminium\n",
      "avg=6.023*10**23          # Avogadro's number\n",
      "\n",
      "# calculations\n",
      "n=m*avg*1000*d/awt\n",
      "mu=1/(rho*n*e)\n",
      "vd=mu*i*R*10**-3/l\n",
      "\n",
      "# Result\n",
      "print(\"Free electron concentration is %.3f * 10^29\"%(n*10**-29))\n",
      "print(\"\\nThe mobility of electron in aluminium is %.4f*10^-3 m^2/v-s\"%(mu*10**3))\n",
      "print(\"\\nThe drift velocity of the electron in Al is %.1f*10^-4 m/s\"%(vd*10**4))"
     ],
     "language": "python",
     "metadata": {},
     "outputs": [
      {
       "output_type": "stream",
       "stream": "stdout",
       "text": [
        "Free electron concentration is 1.808 * 10^29\n",
        "\n",
        "The mobility of electron in aluminium is 1.2801*10^-3 m^2/v-s\n",
        "\n",
        "The drift velocity of the electron in Al is 2.3*10^-4 m/s\n"
       ]
      }
     ],
     "prompt_number": 51
    },
    {
     "cell_type": "heading",
     "level": 2,
     "metadata": {},
     "source": [
      "Example 10.33, page no-290"
     ]
    },
    {
     "cell_type": "code",
     "collapsed": false,
     "input": [
      "# Thermal and drift velocity of electron in copper\n",
      "\n",
      "import math\n",
      "# variable declaration\n",
      "R=0.02                    # resistance of the Cu\n",
      "i=15                      # current in the wire\n",
      "mu=4.3*10**-3             # mobility of the free electron  \n",
      "l=2                       # length of the Cu wire\n",
      "k=1.38*10**-23            # Boltzmann's constant   \n",
      "m=9.1*10**-31             # mass of electron\n",
      "T=300                     # temperature \n",
      "\n",
      "# Calculations\n",
      "v=i*R          \n",
      "E=v/l\n",
      "vd=E*mu\n",
      "vth=math.sqrt(3*k*T/m)\n",
      "\n",
      "# Result\n",
      "print(\"\\nThe thermal velocity of the free electrons in copper is %.3f mm/s\"%(vth*10**-5))\n",
      "print(\"The drift velocity of electrons in copper is %.3f mm/s\"%(vd*10**3))"
     ],
     "language": "python",
     "metadata": {},
     "outputs": [
      {
       "output_type": "stream",
       "stream": "stdout",
       "text": [
        "\n",
        "The thermal velocity of the free electrons in copper is 1.168 mm/s\n",
        "The drift velocity of electrons in copper is 0.645 mm/s\n"
       ]
      }
     ],
     "prompt_number": 52
    }
   ],
   "metadata": {}
  }
 ]
}