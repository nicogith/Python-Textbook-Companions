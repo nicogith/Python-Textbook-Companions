{
 "metadata": {
  "name": ""
 },
 "nbformat": 3,
 "nbformat_minor": 0,
 "worksheets": [
  {
   "cells": [
    {
     "cell_type": "heading",
     "level": 1,
     "metadata": {},
     "source": [
      "Chapter 4: Cohesion between atoms"
     ]
    },
    {
     "cell_type": "heading",
     "level": 2,
     "metadata": {},
     "source": [
      "Example 4.1, page no-92"
     ]
    },
    {
     "cell_type": "code",
     "collapsed": false,
     "input": [
      "# Coulomb interatomic energy\n",
      "\n",
      "import math\n",
      "#Variable declaration\n",
      "R=2.81*10**-10                    # distance between oppositely charged ion\n",
      "e=1.6*10**-19                     # Charge of an electron\n",
      "eps=8.854*10**-12                 # epsilon\n",
      "\n",
      "#calculation\n",
      "U=-(e**2)/(4*math.pi*eps*R)\n",
      "\n",
      "#Result\n",
      "print('The Coulomb interatomic energy is %.2f eV'%(U*10**19/1.6))"
     ],
     "language": "python",
     "metadata": {},
     "outputs": [
      {
       "output_type": "stream",
       "stream": "stdout",
       "text": [
        "The Coulomb interatomic energy is -5.12 eV\n"
       ]
      }
     ],
     "prompt_number": 1
    }
   ],
   "metadata": {}
  }
 ]
}