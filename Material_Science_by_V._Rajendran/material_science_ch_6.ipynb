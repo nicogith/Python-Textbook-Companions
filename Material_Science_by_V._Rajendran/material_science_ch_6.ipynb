{
 "metadata": {
  "name": ""
 },
 "nbformat": 3,
 "nbformat_minor": 0,
 "worksheets": [
  {
   "cells": [
    {
     "cell_type": "heading",
     "level": 1,
     "metadata": {},
     "source": [
      "Chapter 6: Classification of solids"
     ]
    },
    {
     "cell_type": "heading",
     "level": 2,
     "metadata": {},
     "source": [
      "Example 6.1, page no-143"
     ]
    },
    {
     "cell_type": "code",
     "collapsed": false,
     "input": [
      "# Wavelength of light emitted from LED\n",
      "\n",
      "import math\n",
      "#variable declaration\n",
      "e=1.609*10**-19             # charge of an electron\n",
      "eg=1.8                      # energy band gap\n",
      "h=6.626*10**-34             # Planck's constant\n",
      "c=3*10**8                   # speed of light\n",
      "\n",
      "\n",
      "#calculation\n",
      "E=e*eg\n",
      "lamda=h*c/E\n",
      "\n",
      "#Result\n",
      "print('The wavelength of light emitted from given LED is %.3f \u00b5m'%(lamda*10**7))"
     ],
     "language": "python",
     "metadata": {},
     "outputs": [
      {
       "output_type": "stream",
       "stream": "stdout",
       "text": [
        "The wavelength of light emitted from given LED is 6.863 \u00b5m\n"
       ]
      }
     ],
     "prompt_number": 1
    },
    {
     "cell_type": "heading",
     "level": 2,
     "metadata": {},
     "source": [
      "Example 6.2, page no-144"
     ]
    },
    {
     "cell_type": "code",
     "collapsed": false,
     "input": [
      "#Band gap of given GaAsP\n",
      "\n",
      "import math\n",
      "#variable declaration\n",
      "lam=6715*10**-10          # wavelength of greenlight from mercury lamp\n",
      "h=6.626*10**-34           # planck's constant\n",
      "c=3*10**8                 # speed of light\n",
      "e=1.6*10**-19             # charge of an electron\n",
      "\n",
      "#calculation\n",
      "Eg=h*c/lam\n",
      "Eg=Eg/e\n",
      "\n",
      "#Result\n",
      "print('The band gap of the given GaAsP is %.1f eV'%(math.floor(Eg*10)/10))"
     ],
     "language": "python",
     "metadata": {},
     "outputs": [
      {
       "output_type": "stream",
       "stream": "stdout",
       "text": [
        "The band gap of the given GaAsP is 1.8 eV\n"
       ]
      }
     ],
     "prompt_number": 5
    }
   ],
   "metadata": {}
  }
 ]
}