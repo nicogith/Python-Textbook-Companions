{
 "metadata": {
  "name": "",
  "signature": "sha256:a7b78cc7b7d590f810fd93c40136d5a33fbff1ab60f975547f5786bad9064d2a"
 },
 "nbformat": 3,
 "nbformat_minor": 0,
 "worksheets": [
  {
   "cells": [
    {
     "cell_type": "heading",
     "level": 1,
     "metadata": {},
     "source": [
      "Chapter 9 Special Theory of relativity"
     ]
    },
    {
     "cell_type": "heading",
     "level": 2,
     "metadata": {},
     "source": [
      "Example 9.1 Page no 329"
     ]
    },
    {
     "cell_type": "code",
     "collapsed": false,
     "input": [
      "#Given\n",
      "d=11.5                     #m\n",
      "w=5*10**-7\n",
      "v=3*10**4                      #m/s\n",
      "c=3*10**8\n",
      "\n",
      "#Calculation\n",
      "a=2*d*v**2/(w*c**2)\n",
      "\n",
      "#Result\n",
      "print\"Fringe shift is\",a,\"Fringes\""
     ],
     "language": "python",
     "metadata": {},
     "outputs": [
      {
       "output_type": "stream",
       "stream": "stdout",
       "text": [
        "Fringe shift is 0.46 Fringes\n"
       ]
      }
     ],
     "prompt_number": 2
    },
    {
     "cell_type": "heading",
     "level": 2,
     "metadata": {},
     "source": [
      "Example 9.4 Page no 331"
     ]
    },
    {
     "cell_type": "code",
     "collapsed": false,
     "input": [
      "#Given\n",
      "l=6371\n",
      "v=30*10**3\n",
      "c=3.0*10**8\n",
      "\n",
      "#Calculation\n",
      "A=0.5*2*l*(v/c)**2\n",
      "\n",
      "#Result\n",
      "print\"Change in length in the diameter is\",round(A*10**5,2),\"*10**2 m\""
     ],
     "language": "python",
     "metadata": {},
     "outputs": [
      {
       "output_type": "stream",
       "stream": "stdout",
       "text": [
        "Change in length in the diameter is 6.37 *10**2 m\n"
       ]
      }
     ],
     "prompt_number": 11
    },
    {
     "cell_type": "heading",
     "level": 2,
     "metadata": {},
     "source": [
      "Example 9.5 Page no 331"
     ]
    },
    {
     "cell_type": "code",
     "collapsed": false,
     "input": [
      "#Given\n",
      "a=60.0\n",
      "\n",
      "#Calculation\n",
      "v=(a**2+1)*(a**2-1)/a**4\n",
      "\n",
      "#Result\n",
      "print\"Maximum speed is\",v,\"c\""
     ],
     "language": "python",
     "metadata": {},
     "outputs": [
      {
       "output_type": "stream",
       "stream": "stdout",
       "text": [
        "Maximum speed is 0.99999992284 c\n"
       ]
      }
     ],
     "prompt_number": 17
    },
    {
     "cell_type": "heading",
     "level": 2,
     "metadata": {},
     "source": [
      "Example 9.6 Page no 332"
     ]
    },
    {
     "cell_type": "code",
     "collapsed": false,
     "input": [
      "#Given\n",
      "c=3*10**8\n",
      "a=0.95\n",
      "b=20\n",
      "\n",
      "#Calculation\n",
      "import math\n",
      "t=b*c/(a*c)\n",
      "L=math.sqrt(1-a**2)*b\n",
      "T=L/a\n",
      "\n",
      "#Result\n",
      "print\"(a) time taken to cover the distance of star from earth\", round(t,2),\"Years\"\n",
      "print\"(b) Time taken is\",round(T,2),\"Years\""
     ],
     "language": "python",
     "metadata": {},
     "outputs": [
      {
       "output_type": "stream",
       "stream": "stdout",
       "text": [
        "(a) time taken to cover the distance of star from earth 21.05 Years\n",
        "(b) Time taken is 6.57 Years\n"
       ]
      }
     ],
     "prompt_number": 31
    },
    {
     "cell_type": "heading",
     "level": 2,
     "metadata": {},
     "source": [
      "Example 9.7 Page no 332"
     ]
    },
    {
     "cell_type": "code",
     "collapsed": false,
     "input": [
      "#Given\n",
      "L=5                           #m\n",
      "v=0.6\n",
      "c=1\n",
      "t=10                          #Second\n",
      "\n",
      "#Calculation\n",
      "import math\n",
      "L0=L/math.sqrt(1-(v/c)**2)\n",
      "T=t*math.sqrt(1-(v/c)**2)\n",
      "\n",
      "#Result\n",
      "print\"(a) Length is\", L0,\"m\"\n",
      "print\"(b) Time is\",T,\"Seconds\""
     ],
     "language": "python",
     "metadata": {},
     "outputs": [
      {
       "output_type": "stream",
       "stream": "stdout",
       "text": [
        "(a) Length is 6.25 m\n",
        "(b) Time is 8.0 Seconds\n"
       ]
      }
     ],
     "prompt_number": 36
    },
    {
     "cell_type": "heading",
     "level": 2,
     "metadata": {},
     "source": [
      "Example 9.8 Page no 332"
     ]
    },
    {
     "cell_type": "code",
     "collapsed": false,
     "input": [
      "#Given\n",
      "L0=120\n",
      "v=0.95                         #C\n",
      "\n",
      "#Calculation\n",
      "import math\n",
      "L=L0*math.sqrt(1-v**2)\n",
      "t=L/v\n",
      "T=2*t\n",
      "\n",
      "#Result\n",
      "print\"Time taken is\",round(T,2),\"Years\""
     ],
     "language": "python",
     "metadata": {},
     "outputs": [
      {
       "output_type": "stream",
       "stream": "stdout",
       "text": [
        "Time taken is 78.88 Years\n"
       ]
      }
     ],
     "prompt_number": 40
    },
    {
     "cell_type": "heading",
     "level": 2,
     "metadata": {},
     "source": [
      "Example 9.10 Page no 333"
     ]
    },
    {
     "cell_type": "code",
     "collapsed": false,
     "input": [
      "#Given\n",
      "t=24*60\n",
      "v=1440\n",
      "c=1442.0\n",
      "\n",
      "#Calculation\n",
      "import math\n",
      "v=math.sqrt(1-(v/c)**2)\n",
      "\n",
      "#Result\n",
      "print\"Speed is\",round(v,4),\"C\""
     ],
     "language": "python",
     "metadata": {},
     "outputs": [
      {
       "output_type": "stream",
       "stream": "stdout",
       "text": [
        "Speed is 0.0526 C\n"
       ]
      }
     ],
     "prompt_number": 44
    },
    {
     "cell_type": "heading",
     "level": 2,
     "metadata": {},
     "source": [
      "Example 9.11 Page no 333"
     ]
    },
    {
     "cell_type": "code",
     "collapsed": false,
     "input": [
      "#Given\n",
      "B=1.5                            #T\n",
      "v=0.5                           #c\n",
      "m0=6.1*10**-31                     #Kg\n",
      "c=3.0*10**8\n",
      "e=1.602*10**-19\n",
      "\n",
      "#Calculation\n",
      "import math\n",
      "A=1-(v**2/c**2)\n",
      "r=(m0*v*c)/(B*math.sqrt(A))\n",
      "\n",
      "#Result\n",
      "print\"Radius of curvature of path is\", r*10**23,\"*10**-4 m\""
     ],
     "language": "python",
     "metadata": {},
     "outputs": [
      {
       "output_type": "stream",
       "stream": "stdout",
       "text": [
        "Radius of curvature of path is 6.1 *10**-4 m\n"
       ]
      }
     ],
     "prompt_number": 22
    },
    {
     "cell_type": "heading",
     "level": 2,
     "metadata": {},
     "source": [
      "Example 9.12 Page no 333"
     ]
    },
    {
     "cell_type": "code",
     "collapsed": false,
     "input": [
      "#Given\n",
      "m=8.0\n",
      "c=3*10**8                          #m/s\n",
      "v=1\n",
      "\n",
      "#Calculation\n",
      "import math\n",
      "v=math.sqrt((v-(v/m)**2)*c**2)\n",
      "\n",
      "#Result\n",
      "print\"Speed of particle is\", round(v*10**-8,3),\"*10**8 m/s\""
     ],
     "language": "python",
     "metadata": {},
     "outputs": [
      {
       "output_type": "stream",
       "stream": "stdout",
       "text": [
        "Speed of particle is 2.976 *10**8 m/s\n"
       ]
      }
     ],
     "prompt_number": 63
    },
    {
     "cell_type": "heading",
     "level": 2,
     "metadata": {},
     "source": [
      "Example 9.13 Page no 334"
     ]
    },
    {
     "cell_type": "code",
     "collapsed": false,
     "input": [
      "#Given\n",
      "d=1.5*10**11\n",
      "a=1.35*10**3\n",
      "c=3.0*10**8\n",
      "\n",
      "#Calculation\n",
      "import math\n",
      "E=4*math.pi*d**2*a\n",
      "m=E/c**2\n",
      "\n",
      "#Result\n",
      "print\"Decrease in the mass of sun per second is\",round(m*10**-9,1),\"*10**9 Kg\""
     ],
     "language": "python",
     "metadata": {},
     "outputs": [
      {
       "output_type": "stream",
       "stream": "stdout",
       "text": [
        "Decrease in the mass of sun per second is 4.2 *10**9 Kg\n"
       ]
      }
     ],
     "prompt_number": 68
    },
    {
     "cell_type": "heading",
     "level": 2,
     "metadata": {},
     "source": [
      "Example 9.14 Page no 334"
     ]
    },
    {
     "cell_type": "code",
     "collapsed": false,
     "input": [
      "#Given\n",
      "v=0.8                          #c\n",
      "m0=2.5*10**-28\n",
      "c=1\n",
      "C=3*10**8\n",
      "V=2.4*10**8\n",
      "\n",
      "#Calculation\n",
      "import math\n",
      "m=m0/(math.sqrt(1-(v/c)**2))\n",
      "T=(m-m0)*C**2\n",
      "T1=m0*V**2/2.0\n",
      "\n",
      "#Result\n",
      "print \"Kinetic energy is\",T1,\"J\""
     ],
     "language": "python",
     "metadata": {},
     "outputs": [
      {
       "output_type": "stream",
       "stream": "stdout",
       "text": [
        "Kinetic energy is 7.2e-12 J\n"
       ]
      }
     ],
     "prompt_number": 73
    },
    {
     "cell_type": "heading",
     "level": 2,
     "metadata": {},
     "source": [
      "Example 9.15 Page no 334"
     ]
    },
    {
     "cell_type": "code",
     "collapsed": false,
     "input": [
      "#Given\n",
      "E=3.2*10**-13                   #J\n",
      "c=3.0*10**8\n",
      "m0=9.1*10**-31\n",
      "\n",
      "#Calculation\n",
      "m=E/c**2\n",
      "v=(1-(m0/m)**2)\n",
      "\n",
      "#Result\n",
      "print\"Mass is\", round(m*10**30,2)*10**-30,\"Kg\"\n",
      "print\"Speed is\",round(v,3),\"C\""
     ],
     "language": "python",
     "metadata": {},
     "outputs": [
      {
       "output_type": "stream",
       "stream": "stdout",
       "text": [
        "Mass is 3.56e-30 Kg\n",
        "Speed is 0.934 C\n"
       ]
      }
     ],
     "prompt_number": 89
    },
    {
     "cell_type": "heading",
     "level": 2,
     "metadata": {},
     "source": [
      "Example 9.16 Page no 335"
     ]
    },
    {
     "cell_type": "code",
     "collapsed": false,
     "input": [
      "#Given\n",
      "KE=2.5                         #Mev\n",
      "m=0.511 \n",
      "\n",
      "#Calculation\n",
      "E=KE+m\n",
      "\n",
      "#Result\n",
      "print\"Total energy is\",E,\"Mev\""
     ],
     "language": "python",
     "metadata": {},
     "outputs": [
      {
       "output_type": "stream",
       "stream": "stdout",
       "text": [
        "Total energy is 3.011 Mev\n"
       ]
      }
     ],
     "prompt_number": 91
    },
    {
     "cell_type": "heading",
     "level": 2,
     "metadata": {},
     "source": [
      "Example 9.17 Page no 335"
     ]
    },
    {
     "cell_type": "code",
     "collapsed": false,
     "input": [
      "#Given\n",
      "v=2.0\n",
      "c=3.8*10**8\n",
      "\n",
      "#Calculation\n",
      "import math\n",
      "V=math.sqrt(1-(1/v)**2)\n",
      "\n",
      "#Result\n",
      "print\"Speed of particle is\", round(V,3),\"c\""
     ],
     "language": "python",
     "metadata": {},
     "outputs": [
      {
       "output_type": "stream",
       "stream": "stdout",
       "text": [
        "Speed of particle is 0.866 c\n"
       ]
      }
     ],
     "prompt_number": 105
    },
    {
     "cell_type": "heading",
     "level": 2,
     "metadata": {},
     "source": [
      "Example 9.18 Page no 335"
     ]
    },
    {
     "cell_type": "code",
     "collapsed": false,
     "input": [
      "#Given\n",
      "e=13.6*1.6*10**-19                       #J\n",
      "c=3*10**8\n",
      "\n",
      "#Calculation\n",
      "m=e/c**2\n",
      "\n",
      "#Result\n",
      "print\"Loss of mass is\",round(m*10**35,2)*10**-35,\"Kg\""
     ],
     "language": "python",
     "metadata": {},
     "outputs": [
      {
       "output_type": "stream",
       "stream": "stdout",
       "text": [
        "Loss of mass is 2.42e-35 Kg\n"
       ]
      }
     ],
     "prompt_number": 110
    },
    {
     "cell_type": "heading",
     "level": 2,
     "metadata": {},
     "source": [
      "Example 9.19 Page no 335"
     ]
    },
    {
     "cell_type": "code",
     "collapsed": false,
     "input": [
      "#Given\n",
      "E=8*10**-11                          #J\n",
      "c=3.0*10**8\n",
      "\n",
      "#Calculation\n",
      "m=E/c**2\n",
      "\n",
      "#Result\n",
      "print\"Mass of proton is\", round(m*10**28,2)*10**-23,\"Kg\""
     ],
     "language": "python",
     "metadata": {},
     "outputs": [
      {
       "output_type": "stream",
       "stream": "stdout",
       "text": [
        "Mass of proton is 8.89e-23 Kg\n"
       ]
      }
     ],
     "prompt_number": 116
    },
    {
     "cell_type": "heading",
     "level": 2,
     "metadata": {},
     "source": [
      "Example 9.20 Page no 336"
     ]
    },
    {
     "cell_type": "code",
     "collapsed": false,
     "input": [
      "#Given\n",
      "m0=2.5*10**-28\n",
      "c=9*10**16\n",
      "v=1.5*10**8\n",
      "c=3.0*10**8\n",
      "e=1.16*10**-13\n",
      "\n",
      "#Calculation\n",
      "import math\n",
      "X=math.sqrt(1-(v/c))\n",
      "T=(m0*c*((1/X)-1))/e\n",
      "\n",
      "#Result\n",
      "print\"Kinetic energy is\",round(T*10**8,0),\"Mev\""
     ],
     "language": "python",
     "metadata": {},
     "outputs": [
      {
       "output_type": "stream",
       "stream": "stdout",
       "text": [
        "Kinetic energy is 27.0 Mev\n"
       ]
      }
     ],
     "prompt_number": 131
    },
    {
     "cell_type": "heading",
     "level": 2,
     "metadata": {},
     "source": [
      "Example 9.21 Page no 336"
     ]
    },
    {
     "cell_type": "code",
     "collapsed": false,
     "input": [
      "#Given\n",
      "m=9.1*10**-31                         #Kg\n",
      "c=3*10**8\n",
      "e=1.6*10**-19\n",
      "\n",
      "#Calculation\n",
      "E=(m*c**2)/e\n",
      "\n",
      "#Result\n",
      "print\"Energy is\",round(E*10**-6,2),\"Mev\""
     ],
     "language": "python",
     "metadata": {},
     "outputs": [
      {
       "output_type": "stream",
       "stream": "stdout",
       "text": [
        "Energy is 0.51 Mev\n"
       ]
      }
     ],
     "prompt_number": 143
    },
    {
     "cell_type": "heading",
     "level": 2,
     "metadata": {},
     "source": [
      "Example 9.22 Page no 336"
     ]
    },
    {
     "cell_type": "code",
     "collapsed": false,
     "input": [
      "#given\n",
      "m0=1.67*10**-27\n",
      "v=0.8\n",
      "c=3*10**8\n",
      "e=1.6*10**-19\n",
      "\n",
      "#Calculation\n",
      "import math\n",
      "E=(m0*c**2/(math.sqrt(1-v**2)))/e\n",
      "\n",
      "#Result\n",
      "print\"Energy is\",round(E*10**-6,0),\"Mev\""
     ],
     "language": "python",
     "metadata": {},
     "outputs": [
      {
       "output_type": "stream",
       "stream": "stdout",
       "text": [
        "Energy is 1566.0 Mev\n"
       ]
      }
     ],
     "prompt_number": 148
    },
    {
     "cell_type": "heading",
     "level": 2,
     "metadata": {},
     "source": [
      "Example 9.23 Page no 337"
     ]
    },
    {
     "cell_type": "code",
     "collapsed": false,
     "input": [
      "#Given\n",
      "v=2.983*10**8                     #m/s\n",
      "m0=9.101*10**-31\n",
      "v=100\n",
      "c=101.0\n",
      "C=2.998*10**8\n",
      "\n",
      "#Calculation\n",
      "import math\n",
      "V=math.sqrt(v/c)\n",
      "V1=V*C\n",
      "m=m0/(math.sqrt(1-(v/c)))\n",
      "E=m*C**2\n",
      "\n",
      "#Result\n",
      "print\"Energy is\",E\n",
      "print\"Velocity is\", round(V1*10**-8,3),\"*10**8 m/s\""
     ],
     "language": "python",
     "metadata": {},
     "outputs": [
      {
       "output_type": "stream",
       "stream": "stdout",
       "text": [
        "Energy is 8.2207806109e-13\n",
        "Velocity is 2.983 *10**8 m/s\n"
       ]
      }
     ],
     "prompt_number": 158
    },
    {
     "cell_type": "heading",
     "level": 2,
     "metadata": {},
     "source": [
      "Example 9.24 Page no 337"
     ]
    },
    {
     "cell_type": "code",
     "collapsed": false,
     "input": [
      "#Given\n",
      "m0=5*10**-6                     #Kg\n",
      "C=2.998*10**8\n",
      "\n",
      "#Calculation\n",
      "E=m0*C\n",
      "\n",
      "#Result\n",
      "print\"Energy is\",E*10**-2,\"*10**2 Joules\""
     ],
     "language": "python",
     "metadata": {},
     "outputs": [
      {
       "output_type": "stream",
       "stream": "stdout",
       "text": [
        "Energy is 14.99 *10**2 Joules\n"
       ]
      }
     ],
     "prompt_number": 161
    },
    {
     "cell_type": "heading",
     "level": 2,
     "metadata": {},
     "source": [
      "Example 9.25 Page no 337"
     ]
    },
    {
     "cell_type": "code",
     "collapsed": false,
     "input": [
      "#Given\n",
      "m=1.67*10**-27                      #Kg\n",
      "c=3*10**8\n",
      "e=1.6*10**-19\n",
      "\n",
      "#Calculation\n",
      "E=m*c**2/e\n",
      "\n",
      "#Result\n",
      "print\"Energy is\",round(E*10**-6,0),\"Mev\""
     ],
     "language": "python",
     "metadata": {},
     "outputs": [
      {
       "output_type": "stream",
       "stream": "stdout",
       "text": [
        "Energy is 939.0 Mev\n"
       ]
      }
     ],
     "prompt_number": 166
    }
   ],
   "metadata": {}
  }
 ]
}