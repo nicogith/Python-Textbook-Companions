{
 "metadata": {
  "name": "",
  "signature": "sha256:fbefe45753ab0203894f5afad5e792e20da756faab0edd14dfdedec2c8be513a"
 },
 "nbformat": 3,
 "nbformat_minor": 0,
 "worksheets": [
  {
   "cells": [
    {
     "cell_type": "heading",
     "level": 1,
     "metadata": {},
     "source": [
      "Chapter Seven : The class interface"
     ]
    },
    {
     "cell_type": "heading",
     "level": 3,
     "metadata": {},
     "source": [
      "EXAMPLE 7.1 page no : 57\n"
     ]
    },
    {
     "cell_type": "code",
     "collapsed": false,
     "input": [
      "\n",
      "class Point:\n",
      "    def __init__(self,x,y):\n",
      "        self.xM = x\n",
      "        self.yM = y\n",
      "\n",
      "    def x(self):\n",
      "        return self.xM\n",
      "        \n",
      "    def y(self):\n",
      "        return self.yM\n",
      "\n",
      "    def x_(self,x):\n",
      "        self.xM = x\n",
      "        \n",
      "    def y_(self,y):\n",
      "        self.yM = y\n",
      "\n",
      "    def __add__(self,p2):    \n",
      "        return Point(self.x() + p2.x(), self.y() + p2.y())"
     ],
     "language": "python",
     "metadata": {},
     "outputs": [],
     "prompt_number": 1
    },
    {
     "cell_type": "heading",
     "level": 3,
     "metadata": {},
     "source": [
      "example 7.2 page no : 59\n"
     ]
    },
    {
     "cell_type": "code",
     "collapsed": false,
     "input": [
      "\n",
      "\n",
      "def valueFunc(t):\n",
      "    pass\n",
      "\n",
      "def pointerFunc(tp):\n",
      "    pass\n",
      "\n",
      "def referenceFunc(tr):\n",
      "    pass"
     ],
     "language": "python",
     "metadata": {},
     "outputs": [],
     "prompt_number": 2
    },
    {
     "cell_type": "heading",
     "level": 3,
     "metadata": {},
     "source": [
      "example 7.3 page no : 60\n"
     ]
    },
    {
     "cell_type": "code",
     "collapsed": false,
     "input": [
      "\n",
      "\n",
      "def func1(c):\n",
      "    pass\n",
      "\n",
      "def func2(i):\n",
      "    pass\n",
      "    \n",
      "def func3(d):\n",
      "    pass\n",
      "    \n",
      "def func(c):\n",
      "    pass"
     ],
     "language": "python",
     "metadata": {},
     "outputs": [],
     "prompt_number": 3
    },
    {
     "cell_type": "heading",
     "level": 3,
     "metadata": {},
     "source": [
      "EXAMPLE 7.4 page no : 61\n"
     ]
    },
    {
     "cell_type": "code",
     "collapsed": false,
     "input": [
      "\n",
      "class EmcMathVector:\n",
      "    def __init__(self,x,y):\n",
      "        self.xM = x\n",
      "        self.yM = y\n",
      "\n",
      "    def __mul__(self,i):\n",
      "        self.xM *= i\n",
      "        self.yM *= i\n",
      "\n",
      "    def x(self):\n",
      "        return self.xM\n",
      "        \n",
      "    def y(self):\n",
      "        return self.yM\n",
      "\n",
      "    def x_(self,x):\n",
      "        self.xM = x\n",
      "        \n",
      "    def y_(self,y):\n",
      "        yM = y\n",
      "\n",
      "a = EmcMathVector(5,10)\n",
      "print a.xM,a.yM\n",
      "a * 5\n",
      "print a.xM,a.yM"
     ],
     "language": "python",
     "metadata": {},
     "outputs": [
      {
       "output_type": "stream",
       "stream": "stdout",
       "text": [
        "5 10\n",
        "25 50\n"
       ]
      }
     ],
     "prompt_number": 4
    },
    {
     "cell_type": "heading",
     "level": 3,
     "metadata": {},
     "source": [
      "EXAMPLE 7.5 page no : 63\n"
     ]
    },
    {
     "cell_type": "code",
     "collapsed": false,
     "input": [
      "\n",
      "\n",
      "class vector:\n",
      "    def __init__(self,first,last):\n",
      "        pass\n",
      "\n",
      "    def begin(self):\n",
      "        pass\n",
      "\n",
      "    def push_back(self,x):\n",
      "        pass\n",
      "    \n",
      "    def insert(self,x):\n",
      "        pass"
     ],
     "language": "python",
     "metadata": {},
     "outputs": [],
     "prompt_number": 5
    },
    {
     "cell_type": "heading",
     "level": 3,
     "metadata": {},
     "source": [
      "EXAMPLE 7.6 page no : 64\n"
     ]
    },
    {
     "cell_type": "code",
     "collapsed": false,
     "input": [
      "\n",
      "\n",
      "class basic_ofstream:\n",
      "    def __init__(self,x,y):\n",
      "        self.x = x\n",
      "        self.y = y\n",
      "\n",
      "    def print_(self):\n",
      "        print self.x , \", \" , self.y;\n",
      "\n",
      "\n",
      "v = basic_ofstream(1.2, 5.5);\n",
      "v.print_()"
     ],
     "language": "python",
     "metadata": {},
     "outputs": [
      {
       "output_type": "stream",
       "stream": "stdout",
       "text": [
        "1.2 ,  5.5\n"
       ]
      }
     ],
     "prompt_number": 6
    },
    {
     "cell_type": "heading",
     "level": 3,
     "metadata": {},
     "source": [
      "EXAMPLE 7.7 page no : 65 \n"
     ]
    },
    {
     "cell_type": "code",
     "collapsed": false,
     "input": [
      "\n",
      "\n",
      "def uselessPrint(v):\n",
      "    # NO: Compile error\n",
      "    print v.x() , \", \" , v.y();"
     ],
     "language": "python",
     "metadata": {},
     "outputs": [],
     "prompt_number": 7
    },
    {
     "cell_type": "heading",
     "level": 3,
     "metadata": {},
     "source": [
      "example 7.8 page no : 65\n"
     ]
    },
    {
     "cell_type": "code",
     "collapsed": false,
     "input": [
      "\n",
      "\n",
      "\n",
      "array = ['','','']\n",
      "# assign to first element\n",
      "arrayPointer =  42 #*(arrayPointer = array) = 42\n",
      "print arrayPointer"
     ],
     "language": "python",
     "metadata": {},
     "outputs": [
      {
       "output_type": "stream",
       "stream": "stdout",
       "text": [
        "42\n"
       ]
      }
     ],
     "prompt_number": 8
    },
    {
     "cell_type": "heading",
     "level": 3,
     "metadata": {},
     "source": [
      "EXAMPLE 7.10 page no : 67\n"
     ]
    },
    {
     "cell_type": "code",
     "collapsed": false,
     "input": [
      "\n",
      "\n",
      "def arraySum(array,first,last):\n",
      "    s = 0\n",
      "    for i in array:\n",
      "        # It is possible to update first since\n",
      "        # it has not been declared const.\n",
      "        s += i\n",
      "    return s;\n",
      "    \n",
      "print arraySum([5,4,3,2],5,2)    "
     ],
     "language": "python",
     "metadata": {},
     "outputs": [
      {
       "output_type": "stream",
       "stream": "stdout",
       "text": [
        "14\n"
       ]
      }
     ],
     "prompt_number": 9
    },
    {
     "cell_type": "heading",
     "level": 3,
     "metadata": {},
     "source": [
      "EXAMPLE 7.11 page no : 68\n"
     ]
    },
    {
     "cell_type": "code",
     "collapsed": false,
     "input": [
      "\n",
      "class EmcStack:\n",
      "    def __init__(self):\n",
      "        self.repM = []\n",
      "        self.allocatedM = 0\n",
      "        self.topM = 0\n",
      "        \n",
      "    def push(t):\n",
      "        if self.topM == allocatedM : # allocate more memory\n",
      "            pass    #size_t newSize = 2 * allocatedM;\n",
      "        self.repM.append(t)\n",
      "        self.topM +=1"
     ],
     "language": "python",
     "metadata": {},
     "outputs": [],
     "prompt_number": 10
    },
    {
     "cell_type": "heading",
     "level": 3,
     "metadata": {},
     "source": [
      "EXAMPLE 7.12 page no : 69\n"
     ]
    },
    {
     "cell_type": "code",
     "collapsed": false,
     "input": [
      "\n",
      "\n",
      "message1 = \"Calling Orson\";\n",
      "message2 = \"Ice Hockey\";\n",
      "message3 = \"Terminator\";\n",
      "message4 = \"I like candy\"\n",
      "\n",
      "print message1\n",
      "print message2\n",
      "print message3\n",
      "print message4"
     ],
     "language": "python",
     "metadata": {},
     "outputs": [
      {
       "output_type": "stream",
       "stream": "stdout",
       "text": [
        "Calling Orson\n",
        "Ice Hockey\n",
        "Terminator\n",
        "I like candy\n"
       ]
      }
     ],
     "prompt_number": 11
    },
    {
     "cell_type": "heading",
     "level": 3,
     "metadata": {},
     "source": [
      "EXAMPLE 7.13 page no : 70\n"
     ]
    },
    {
     "cell_type": "code",
     "collapsed": false,
     "input": [
      "\n",
      "\n",
      "class UselessString:\n",
      "    def __init__(self,c=None):\n",
      "        pass\n",
      "        \n",
      "    def cStr(self):\n",
      "        pass\n",
      "        \n",
      "    def length(self):\n",
      "        pass\n",
      "        \n",
      "    def at(self,index):\n",
      "        pass\n",
      "        \n",
      "    def print_(self):\n",
      "        print self.s "
     ],
     "language": "python",
     "metadata": {},
     "outputs": [],
     "prompt_number": 12
    },
    {
     "cell_type": "heading",
     "level": 3,
     "metadata": {},
     "source": [
      "EXAMPLE 7.14 page no : 71\n"
     ]
    },
    {
     "cell_type": "code",
     "collapsed": false,
     "input": [
      "\n",
      "class Silly:\n",
      "    def __init__(self,val):\n",
      "        self.valM = val\n",
      "        \n",
      "    def me(self,s):\n",
      "        pass"
     ],
     "language": "python",
     "metadata": {},
     "outputs": [],
     "prompt_number": 13
    },
    {
     "cell_type": "heading",
     "level": 3,
     "metadata": {},
     "source": [
      "EXAMPLE 7.15 page no : 72\n"
     ]
    },
    {
     "cell_type": "code",
     "collapsed": false,
     "input": [
      "\n",
      "\n",
      "name = \"John Bauer\";\n",
      "print name[0]"
     ],
     "language": "python",
     "metadata": {},
     "outputs": [
      {
       "output_type": "stream",
       "stream": "stdout",
       "text": [
        "J\n"
       ]
      }
     ],
     "prompt_number": 14
    },
    {
     "cell_type": "heading",
     "level": 3,
     "metadata": {},
     "source": [
      "EXAMPLE 7.16 page no : 75\n"
     ]
    },
    {
     "cell_type": "code",
     "collapsed": false,
     "input": [
      "\n",
      "cosmonaut = \"Juri Gagarin\"\n",
      "c = 'a';\n",
      "cValue = c in cosmonaut # cValue == true\n",
      "uri = \"uri\"\n",
      "uriValue = uri in cosmonaut # uriValue == true\n",
      "print cValue\n",
      "print uriValue"
     ],
     "language": "python",
     "metadata": {},
     "outputs": [
      {
       "output_type": "stream",
       "stream": "stdout",
       "text": [
        "True\n",
        "True\n"
       ]
      }
     ],
     "prompt_number": 15
    },
    {
     "cell_type": "heading",
     "level": 3,
     "metadata": {},
     "source": [
      "EXAMPLE 7.17 page no : 76 \n"
     ]
    },
    {
     "cell_type": "code",
     "collapsed": false,
     "input": [
      "\n",
      "def max_(x,y):\n",
      "    if (x > y): # could use: < instead\n",
      "        # We also expect that:\n",
      "        # y < x\n",
      "        return x;\n",
      "    else:\n",
      "        # We also expect that:\n",
      "        # x <= y\n",
      "        return y;\n",
      "\n",
      "x = 42;\n",
      "y = 0;\n",
      "print max(x,y)\n",
      "\n"
     ],
     "language": "python",
     "metadata": {},
     "outputs": [
      {
       "output_type": "stream",
       "stream": "stdout",
       "text": [
        "42\n"
       ]
      }
     ],
     "prompt_number": 16
    },
    {
     "cell_type": "heading",
     "level": 3,
     "metadata": {},
     "source": [
      "EXAMPLE 7.18 page no : 76\n"
     ]
    },
    {
     "cell_type": "code",
     "collapsed": false,
     "input": [
      "'''\n",
      "Implementation of closely related operators\n",
      "Python has inbuilt this facility. No need to write functions for that.\n",
      "''' "
     ],
     "language": "python",
     "metadata": {},
     "outputs": [
      {
       "metadata": {},
       "output_type": "pyout",
       "prompt_number": 17,
       "text": [
        "'\\nEXAMPLE 7.18 page no : 76\\nImplementation of closely related operators\\nPython has inbuilt this facility. No need to write functions for that.\\n'"
       ]
      }
     ],
     "prompt_number": 17
    },
    {
     "cell_type": "heading",
     "level": 3,
     "metadata": {},
     "source": [
      "EXAMPLE 7.19 page no : 77\n"
     ]
    },
    {
     "cell_type": "code",
     "collapsed": false,
     "input": [
      "\n",
      "class Base:\n",
      "    def f(char):\n",
      "        pass\n",
      "    def f(i):\n",
      "        pass\n",
      "    def v(char):\n",
      "        pass\n",
      "\n",
      "class Derived(Base):\n",
      "    def __init__(self):\n",
      "        pass\n",
      "\n",
      "    def f(self,i):\n",
      "        pass\n",
      "    \n",
      "    def v(self,c):\n",
      "        self.f(c)"
     ],
     "language": "python",
     "metadata": {},
     "outputs": [],
     "prompt_number": 18
    },
    {
     "cell_type": "heading",
     "level": 3,
     "metadata": {},
     "source": [
      "EXAMPLE 7.20 page no : 79\n"
     ]
    },
    {
     "cell_type": "code",
     "collapsed": false,
     "input": [
      "\n",
      "class EmcCollection:\n",
      "    def isEqual(self):\n",
      "        pass\n",
      "        \n",
      "class EmcBoundedCollection(EmcCollection):\n",
      "\n",
      "    def isEqual(a):\n",
      "        pass"
     ],
     "language": "python",
     "metadata": {},
     "outputs": [],
     "prompt_number": 19
    },
    {
     "cell_type": "heading",
     "level": 3,
     "metadata": {},
     "source": [
      "example 7.21 page no : 80\n"
     ]
    },
    {
     "cell_type": "code",
     "collapsed": false,
     "input": [
      "\n",
      "\n",
      "def f(x,y = 2):\n",
      "    print x\n",
      "    print y\n",
      " \n",
      "f(1)\n",
      "f(2,3)"
     ],
     "language": "python",
     "metadata": {},
     "outputs": [
      {
       "output_type": "stream",
       "stream": "stdout",
       "text": [
        "1\n",
        "2\n",
        "2\n",
        "3\n"
       ]
      }
     ],
     "prompt_number": 20
    },
    {
     "cell_type": "heading",
     "level": 3,
     "metadata": {},
     "source": [
      "EXAMPLE 7.22 page no : 80\n"
     ]
    },
    {
     "cell_type": "code",
     "collapsed": false,
     "input": [
      "\n",
      "\n",
      "class RanDraw:\n",
      "    def __init__(self, limit,seed, t = 'Good' ):\n",
      "        pass # Default argument for t in class definition\n"
     ],
     "language": "python",
     "metadata": {},
     "outputs": [],
     "prompt_number": 21
    },
    {
     "cell_type": "heading",
     "level": 3,
     "metadata": {},
     "source": [
      "EXAMPLE 7.23 page no : 82\n"
     ]
    },
    {
     "cell_type": "code",
     "collapsed": false,
     "input": [
      "\n",
      "class Other:\n",
      "    def __init__(self,a): #No implicit conversion from Any\n",
      "        pass\n",
      "        \n",
      "    def foo(self,o):\n",
      "        pass"
     ],
     "language": "python",
     "metadata": {},
     "outputs": [],
     "prompt_number": 22
    },
    {
     "cell_type": "heading",
     "level": 3,
     "metadata": {},
     "source": [
      "example 7.24 page no : 82\n"
     ]
    },
    {
     "cell_type": "code",
     "collapsed": false,
     "input": [
      "\n",
      "class EmcString:\n",
      "    def cStr(): # conversion to const char*\n",
      "        pass\n",
      "\n",
      "    def log(cp):   \n",
      "        pass\n",
      "\n",
      "magicPlace =\"Ngoro-Ngoro crater at dusk\"\n",
      "print magicPlace # Explicit conversion from String to const char*"
     ],
     "language": "python",
     "metadata": {},
     "outputs": [
      {
       "output_type": "stream",
       "stream": "stdout",
       "text": [
        "Ngoro-Ngoro crater at dusk\n"
       ]
      }
     ],
     "prompt_number": 23
    },
    {
     "cell_type": "code",
     "collapsed": false,
     "input": [],
     "language": "python",
     "metadata": {},
     "outputs": []
    }
   ],
   "metadata": {}
  }
 ]
}