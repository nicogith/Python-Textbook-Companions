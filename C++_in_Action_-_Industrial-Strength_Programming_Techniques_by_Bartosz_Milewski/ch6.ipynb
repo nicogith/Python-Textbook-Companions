{
 "metadata": {
  "name": "",
  "signature": "sha256:7e4ca4515204ca5f28b7ad14f25998ad16f2910d212e32a1071b57e6d0d7e56b"
 },
 "nbformat": 3,
 "nbformat_minor": 0,
 "worksheets": [
  {
   "cells": [
    {
     "cell_type": "heading",
     "level": 1,
     "metadata": {},
     "source": [
      "Chapter Six : Conversions"
     ]
    },
    {
     "cell_type": "heading",
     "level": 3,
     "metadata": {},
     "source": [
      "EXAMPLE 6.1 page no : 48\n"
     ]
    },
    {
     "cell_type": "code",
     "collapsed": false,
     "input": [
      "\n",
      "large = 456789; # Potentially dangerous conversion\n",
      "size = float(large)\n",
      "print size"
     ],
     "language": "python",
     "metadata": {},
     "outputs": [
      {
       "output_type": "stream",
       "stream": "stdout",
       "text": [
        "456789.0\n"
       ]
      }
     ],
     "prompt_number": 1
    },
    {
     "cell_type": "heading",
     "level": 3,
     "metadata": {},
     "source": [
      "EXAMPLE 6.2 page no : 49\n"
     ]
    },
    {
     "cell_type": "code",
     "collapsed": false,
     "input": [
      "\n",
      "\n",
      "class DangerousString :\n",
      "    def __init__(self):\n",
      "        pass # self.s = ''\n",
      "\n",
      "    def __str__(self):\n",
      "        pass # return self.s"
     ],
     "language": "python",
     "metadata": {},
     "outputs": [],
     "prompt_number": 2
    },
    {
     "cell_type": "heading",
     "level": 3,
     "metadata": {},
     "source": [
      "EXAMPLE 6.3 page no : 51\n"
     ]
    },
    {
     "cell_type": "code",
     "collapsed": false,
     "input": [
      "\n",
      "\n",
      "large = 456789\n",
      "size = int(large);\n",
      "three = \"three\" \n",
      "print large,size,three"
     ],
     "language": "python",
     "metadata": {},
     "outputs": [
      {
       "output_type": "stream",
       "stream": "stdout",
       "text": [
        "456789 456789 three\n"
       ]
      }
     ],
     "prompt_number": 9
    },
    {
     "cell_type": "heading",
     "level": 3,
     "metadata": {},
     "source": [
      "EXAMPLE 6.4 page no : 51\n"
     ]
    },
    {
     "cell_type": "code",
     "collapsed": false,
     "input": [
      "\n",
      "class B:\n",
      "    pass\n",
      "    \n",
      "class D( B):\n",
      "    pass\n",
      "\n",
      "class E:\n",
      "    pass\n",
      "    \n",
      "def dynamicCast(b):\n",
      "     \n",
      "    return D(b)\n",
      "\n",
      "def constCast(d1):\n",
      "    \n",
      "    return D(d1)\n",
      "\n",
      "def reinterpretCast(d):\n",
      "    \n",
      "    return E(d)"
     ],
     "language": "python",
     "metadata": {},
     "outputs": [],
     "prompt_number": 5
    },
    {
     "cell_type": "heading",
     "level": 3,
     "metadata": {},
     "source": [
      "EXAMPLE 6.5 page no : 52\n"
     ]
    },
    {
     "cell_type": "code",
     "collapsed": false,
     "input": [
      "\n",
      "\n",
      "def addToFileList(s):\n",
      "    pass\n",
      "    \n",
      "def addFiles(s):\n",
      "    m = len(s)\n",
      "    for i in range(m):\n",
      "        addToFileList(s[i])"
     ],
     "language": "python",
     "metadata": {},
     "outputs": [],
     "prompt_number": 6
    },
    {
     "cell_type": "heading",
     "level": 3,
     "metadata": {},
     "source": [
      "EXAMPLE 6.6 page no : 52\n"
     ]
    },
    {
     "cell_type": "code",
     "collapsed": false,
     "input": [
      "\n",
      " \n",
      "ci = 22;\n",
      "pi = ci # NO: Const cast away\n",
      "i = pi; # OK\n",
      " \n",
      "pi = 7 \n",
      "print ci, pi, i "
     ],
     "language": "python",
     "metadata": {},
     "outputs": [
      {
       "output_type": "stream",
       "stream": "stdout",
       "text": [
        "22 7 22\n"
       ]
      }
     ],
     "prompt_number": 7
    },
    {
     "cell_type": "heading",
     "level": 3,
     "metadata": {},
     "source": [
      "example 6.7 page no : 53\n"
     ]
    },
    {
     "cell_type": "code",
     "collapsed": false,
     "input": [
      "\n",
      "class EmcMatrix:\n",
      "    def __init__(self):\n",
      "        self.isDirtyM = False\n",
      "        self.detM = 0.0\n",
      "\n",
      "    def calculateDeterminant(self):\n",
      "        pass\n",
      "\n",
      "    def determinant(self):\n",
      "        if(isDirtyM):\n",
      "            # OK, access to mutable data members\n",
      "            self.detM = self.calculateDeterminant();\n",
      "            self.isDirtyM = False;\n",
      "        return self.detM;"
     ],
     "language": "python",
     "metadata": {},
     "outputs": [],
     "prompt_number": 8
    },
    {
     "cell_type": "code",
     "collapsed": false,
     "input": [],
     "language": "python",
     "metadata": {},
     "outputs": []
    }
   ],
   "metadata": {}
  }
 ]
}