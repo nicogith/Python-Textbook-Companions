{
 "metadata": {
  "name": "",
  "signature": "sha256:814e2a9ffe7448c8830af394019244e2f81fe0819c83f253105a48f1b6c7edaf"
 },
 "nbformat": 3,
 "nbformat_minor": 0,
 "worksheets": [
  {
   "cells": [
    {
     "cell_type": "heading",
     "level": 1,
     "metadata": {},
     "source": [
      "Chapter Four : Control flow"
     ]
    },
    {
     "cell_type": "heading",
     "level": 3,
     "metadata": {},
     "source": [
      "Example 4.1 page no : 27\n"
     ]
    },
    {
     "cell_type": "code",
     "collapsed": false,
     "input": [
      "\n",
      "\n",
      "numberOfObjects = 42;\n",
      "a = []\n",
      "for i in range(numberOfObjects):\n",
      "    # Recommended\n",
      "    print  i \n",
      "    a.append(i)"
     ],
     "language": "python",
     "metadata": {},
     "outputs": [
      {
       "output_type": "stream",
       "stream": "stdout",
       "text": [
        "0\n",
        "1\n",
        "2\n",
        "3\n",
        "4\n",
        "5\n",
        "6\n",
        "7\n",
        "8\n",
        "9\n",
        "10\n",
        "11\n",
        "12\n",
        "13\n",
        "14\n",
        "15\n",
        "16\n",
        "17\n",
        "18\n",
        "19\n",
        "20\n",
        "21\n",
        "22\n",
        "23\n",
        "24\n",
        "25\n",
        "26\n",
        "27\n",
        "28\n",
        "29\n",
        "30\n",
        "31\n",
        "32\n",
        "33\n",
        "34\n",
        "35\n",
        "36\n",
        "37\n",
        "38\n",
        "39\n",
        "40\n",
        "41\n"
       ]
      }
     ],
     "prompt_number": 1
    },
    {
     "cell_type": "heading",
     "level": 3,
     "metadata": {},
     "source": [
      "EXAMPLE 4.2 page no :27\n"
     ]
    },
    {
     "cell_type": "code",
     "collapsed": false,
     "input": [
      "\n",
      "numberOfObjects = 42;\n",
      "a = []\n",
      "for i in range(numberOfObjects):\n",
      "    # Recommended\n",
      "    a.append(i)\n",
      "\n",
      "print \"Enter value: \";\n",
      "value = int(raw_input())\n",
      "\n",
      "if value == 1 or value==2:\n",
      "    print \"1 or 2: \" , a[value] \n",
      "else:\n",
      "    if (value > 2 and value < numberOfObjects):\n",
      "        print \"Not 1 or 2: \" , a[value] "
     ],
     "language": "python",
     "metadata": {},
     "outputs": [
      {
       "output_type": "stream",
       "stream": "stdout",
       "text": [
        "Enter value: \n"
       ]
      },
      {
       "name": "stdout",
       "output_type": "stream",
       "stream": "stdout",
       "text": [
        "10\n"
       ]
      },
      {
       "output_type": "stream",
       "stream": "stdout",
       "text": [
        "Not 1 or 2:  10\n"
       ]
      }
     ],
     "prompt_number": 2
    },
    {
     "cell_type": "heading",
     "level": 3,
     "metadata": {},
     "source": [
      "EXAMPLE 4.3 page no : 28\n"
     ]
    },
    {
     "cell_type": "code",
     "collapsed": false,
     "input": [
      "\n",
      "\n",
      "class Status:\n",
      "    red = 1\n",
      "    green = 2\n",
      "\n",
      "def convertStatus(status):\n",
      "    if status == Status.red:\n",
      "        return \"Red\"\n",
      "    elif status == Status.green:\n",
      "        return \"Green\"\n",
      "    else: \n",
      "        return \"Illegal value\"        \n",
      "\n",
      "print convertStatus(1)        \n",
      "print convertStatus(2)\n",
      "print convertStatus(5)"
     ],
     "language": "python",
     "metadata": {},
     "outputs": [
      {
       "output_type": "stream",
       "stream": "stdout",
       "text": [
        "Red\n",
        "Green\n",
        "Illegal value\n"
       ]
      }
     ],
     "prompt_number": 3
    },
    {
     "cell_type": "heading",
     "level": 3,
     "metadata": {},
     "source": [
      "EXAMPLE 4.4 page no : 29"
     ]
    },
    {
     "cell_type": "code",
     "collapsed": false,
     "input": [
      "\n",
      "m = 10;\n",
      "errorflag = False;\n",
      "\n",
      "for i in range(m):\n",
      "    if (True):\n",
      "        errorflag = True;\n",
      "        break; # leaves loop\n",
      "\n",
      "# no goto needed\n",
      "if(errorflag):\n",
      "    pass"
     ],
     "language": "python",
     "metadata": {},
     "outputs": [],
     "prompt_number": 4
    },
    {
     "cell_type": "code",
     "collapsed": false,
     "input": [],
     "language": "python",
     "metadata": {},
     "outputs": []
    }
   ],
   "metadata": {}
  }
 ]
}