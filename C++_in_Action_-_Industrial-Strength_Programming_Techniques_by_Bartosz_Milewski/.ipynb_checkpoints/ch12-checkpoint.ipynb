{
 "metadata": {
  "name": "",
  "signature": "sha256:3fda869111a137bc83ae4b79f3c57ac84f247031c3e08ac7d6dfb9bb168b3105"
 },
 "nbformat": 3,
 "nbformat_minor": 0,
 "worksheets": [
  {
   "cells": [
    {
     "cell_type": "markdown",
     "metadata": {},
     "source": [
      "<h1>Chapter  Twelve : Error handling"
     ]
    },
    {
     "cell_type": "markdown",
     "metadata": {},
     "source": [
      "<h3>EXAMPLE 12.1 page no : 135"
     ]
    },
    {
     "cell_type": "code",
     "collapsed": false,
     "input": [
      "import socket\n",
      "import sys\n",
      "import os\n",
      "sock = socket.socket(socket.AF_UNIX, socket.SOCK_STREAM,0)\n",
      "\n",
      "if(sock < 0):\n",
      "    pass"
     ],
     "language": "python",
     "metadata": {},
     "outputs": [],
     "prompt_number": 7
    },
    {
     "cell_type": "markdown",
     "metadata": {},
     "source": [
      "<h3>EXAMPLE 12.2 page no : 136"
     ]
    },
    {
     "cell_type": "code",
     "collapsed": true,
     "input": [
      "\n",
      "class EmcException:\n",
      "    def operator(self,n):\n",
      "        pass\n",
      "\n",
      "class EmcSystemException( EmcException):\n",
      "    def __init__(self,m):\n",
      "        pass\n",
      "    \n",
      "    def emcSocket(self,family,t,protocol):\n",
      "        # create socket\n",
      "        socketfd = socket(family, t, protocol);\n",
      "        if (socketfd < 0): # check status value\n",
      "            raise EmcSystemException(\"emcSocket\");\n",
      "        return socketfd;"
     ],
     "language": "python",
     "metadata": {},
     "outputs": [],
     "prompt_number": 2
    },
    {
     "cell_type": "markdown",
     "metadata": {},
     "source": [
      "<h3>EXAMPLE 12.3 page no :  139"
     ]
    },
    {
     "cell_type": "code",
     "collapsed": true,
     "input": [
      "\n",
      "\n",
      "def __init__(self,cp):\n",
      "    self.lengthM = len(cp)\n",
      "    self.cpM = cp"
     ],
     "language": "python",
     "metadata": {},
     "outputs": [],
     "prompt_number": 13
    },
    {
     "cell_type": "markdown",
     "metadata": {},
     "source": [
      "<h3>EXAMPLE 12.5 page no : 141"
     ]
    },
    {
     "cell_type": "code",
     "collapsed": true,
     "input": [
      "\n",
      "class EmcLog:\n",
      "    def __init__(self,filename):\n",
      "        pass\n",
      "\n",
      "    def message(self,EmcString):\n",
      "        pass\n",
      "\n",
      "    def __del__(self):\n",
      "        if uncaught_exception():\n",
      "            self.flush()\n",
      "            \n",
      "    def flush(self):\n",
      "        if ( not uncaught_exception()):\n",
      "            raise EmcSystemException(\"EmcLog::flush()\")"
     ],
     "language": "python",
     "metadata": {},
     "outputs": [],
     "prompt_number": 4
    },
    {
     "cell_type": "markdown",
     "metadata": {},
     "source": [
      "<h3>EXAMPLE 12.6 page no : 142"
     ]
    },
    {
     "cell_type": "code",
     "collapsed": true,
     "input": [
      "\n",
      "class EmcException:\n",
      "    def __init__(self,m):\n",
      "        maxSizeM = 100\n",
      "        actualLength = len(m);\n",
      "        self.lengthM = min(maxSizeM,actualLength);\n",
      "        self.messageM = message"
     ],
     "language": "python",
     "metadata": {},
     "outputs": [],
     "prompt_number": 5
    },
    {
     "cell_type": "markdown",
     "metadata": {},
     "source": [
      "<h3>EXAMPLE 12.7"
     ]
    },
    {
     "cell_type": "code",
     "collapsed": true,
     "input": [
      "\n",
      "\n",
      "def f():\n",
      "    ip = 1\n",
      "    g(ip)\n",
      "\n",
      "\n",
      "def g(i):\n",
      "    raise Exception(i)"
     ],
     "language": "python",
     "metadata": {},
     "outputs": [],
     "prompt_number": 6
    },
    {
     "cell_type": "markdown",
     "metadata": {},
     "source": [
      "<h3>EXAMPLE 12.8 page no :  146"
     ]
    },
    {
     "cell_type": "code",
     "collapsed": true,
     "input": [
      "\n",
      "\n",
      "def f():\n",
      "    ip = 1\n",
      "    g(ip)\n",
      "\n",
      "def g(i):\n",
      "    raise Exception(i)"
     ],
     "language": "python",
     "metadata": {},
     "outputs": [],
     "prompt_number": 7
    },
    {
     "cell_type": "markdown",
     "metadata": {},
     "source": [
      "<h3>EXAMPLE 12.9 page no :146"
     ]
    },
    {
     "cell_type": "code",
     "collapsed": true,
     "input": [
      "\n",
      "def f():\n",
      "    ip = 1\n",
      "    g(ip)"
     ],
     "language": "python",
     "metadata": {},
     "outputs": [],
     "prompt_number": 8
    },
    {
     "cell_type": "markdown",
     "metadata": {},
     "source": [
      "<h3>EXAMPLE 12.10 page no : 148"
     ]
    },
    {
     "cell_type": "code",
     "collapsed": true,
     "input": [
      "\n",
      "class EmcStack:\n",
      "    defaultSizeM = 100\n",
      "    def __init__(self,size = 100):\n",
      "        pass\n",
      "\n",
      "    def __del__(self):\n",
      "        pass\n",
      "\n",
      "    def operator(self,s):\n",
      "        pass\n",
      "\n",
      "    def empty(self):\n",
      "        pass\n",
      "        \n",
      "    def top(self):\n",
      "        pass\n",
      "\n",
      "    def push(self,i):\n",
      "        pass\n",
      "    \n",
      "    def pop(self):\n",
      "        pass"
     ],
     "language": "python",
     "metadata": {},
     "outputs": [],
     "prompt_number": 9
    },
    {
     "cell_type": "markdown",
     "metadata": {},
     "source": [
      "<h3>EXAMPLE 12.12 page no :  151"
     ]
    },
    {
     "cell_type": "code",
     "collapsed": true,
     "input": [
      "\n",
      "class EmcException:\n",
      "    def __init__(self,m):\n",
      "        pass\n",
      "      \n",
      "    def operator(self,o,EmcException):\n",
      "        pass\n",
      "\n",
      "    def printOn(self,o):   \n",
      "        print self.messageM;"
     ],
     "language": "python",
     "metadata": {},
     "outputs": [],
     "prompt_number": 10
    },
    {
     "cell_type": "markdown",
     "metadata": {},
     "source": [
      "<h3>EXAMPLE 12.13 page no : 153"
     ]
    },
    {
     "cell_type": "code",
     "collapsed": false,
     "input": [
      "\n",
      "try:\n",
      "    socketfd = emcSocket(AF_UNIX, SOCK_STREAM, 0);\n",
      "except Exception,e:\n",
      "    print e"
     ],
     "language": "python",
     "metadata": {},
     "outputs": [
      {
       "output_type": "stream",
       "stream": "stdout",
       "text": [
        "name 'emcSocket' is not defined"
       ]
      }
     ],
     "prompt_number": 11
    },
    {
     "cell_type": "markdown",
     "metadata": {},
     "source": [
      "<h3>EXAMPLE 12.14 page no :  155"
     ]
    },
    {
     "cell_type": "code",
     "collapsed": true,
     "input": [
      "\n",
      "\n",
      "def at(s,pos):\n",
      "    if (pos > len(s)):\n",
      "        raise Exception;"
     ],
     "language": "python",
     "metadata": {},
     "outputs": [],
     "prompt_number": 12
    },
    {
     "cell_type": "code",
     "collapsed": true,
     "input": [],
     "language": "python",
     "metadata": {},
     "outputs": []
    }
   ],
   "metadata": {}
  }
 ]
}