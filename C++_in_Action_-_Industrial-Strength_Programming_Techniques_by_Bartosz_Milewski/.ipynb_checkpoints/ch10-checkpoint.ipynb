{
 "metadata": {
  "name": "",
  "signature": "sha256:70f9ab632bffbd9fecc3bdcee575cac266cb09d4df74fddec4e595d028f134df"
 },
 "nbformat": 3,
 "nbformat_minor": 0,
 "worksheets": [
  {
   "cells": [
    {
     "cell_type": "markdown",
     "metadata": {},
     "source": [
      "<h1> Chapter Ten : Object-oriented programming </h1>"
     ]
    },
    {
     "cell_type": "markdown",
     "metadata": {},
     "source": [
      "<h3>Example 10.1 page no :105"
     ]
    },
    {
     "cell_type": "code",
     "collapsed": false,
     "input": [
      "\n",
      "\n",
      "s = \"hello\"  # length() == 5\n",
      "print s\n",
      "print len(s)"
     ],
     "language": "python",
     "metadata": {},
     "outputs": [
      {
       "output_type": "stream",
       "stream": "stdout",
       "text": [
        "hello\n",
        "5"
       ]
      }
     ],
     "prompt_number": 1
    },
    {
     "cell_type": "markdown",
     "metadata": {},
     "source": [
      "<h3>EXAMPLE 10.2 page no : 106"
     ]
    },
    {
     "cell_type": "code",
     "collapsed": false,
     "input": [
      "\n",
      "s = \"Hello\"\n",
      "\n",
      "s = s.lower()\n",
      "print s"
     ],
     "language": "python",
     "metadata": {},
     "outputs": [
      {
       "output_type": "stream",
       "stream": "stdout",
       "text": [
        "hello"
       ]
      }
     ],
     "prompt_number": 2
    },
    {
     "cell_type": "markdown",
     "metadata": {},
     "source": [
      "<h3> example 10.3 page no :107"
     ]
    },
    {
     "cell_type": "code",
     "collapsed": false,
     "input": [
      "\n",
      "\n",
      "class EmcCollection:\n",
      "   \n",
      "    def insert(self,t):\n",
      "        pass\n",
      "    \n",
      "    def operator(self, coll):\n",
      "        pass\n",
      "\n",
      "class EmcArrayCollection(EmcCollection):\n",
      "    initialSize = 10\n",
      "\n",
      "    def __init__(self,maxsize):\n",
      "        pass\n",
      "\n",
      "\"\"\"\n",
      "class InvalidCollectionType(EmcException):\n",
      "    \n",
      "    def __init__(self,i):\n",
      "        pass\n",
      "        \"\"\"\n",
      "\n",
      "class EmcCollectionFactory:\n",
      "    def __init__(self):\n",
      "        pass\n",
      "\n",
      "    def create(self,type):\n",
      "        pass\n",
      "\n",
      "    def createArray(self):\n",
      "        pass"
     ],
     "language": "python",
     "metadata": {},
     "outputs": [],
     "prompt_number": 2
    },
    {
     "cell_type": "markdown",
     "metadata": {},
     "source": [
      "<h3>example 10.4 page no :109"
     ]
    },
    {
     "cell_type": "code",
     "collapsed": false,
     "input": [
      "class EmcCollectionFactory:\n",
      "    def __init__(self):\n",
      "        pass\n",
      "\n",
      "    def create(self,type):\n",
      "        pass\n",
      "\n",
      "    def createArray(self):\n",
      "        pass\n",
      "\n",
      "factory = EmcCollectionFactory()\n",
      "collection = factory.create(\"Array\")\n",
      "collection.insert(42); # EmcArrayCollection<int>::insert() is called\n",
      "print collection"
     ],
     "language": "python",
     "metadata": {},
     "outputs": [
      {
       "output_type": "stream",
       "stream": "stdout",
       "text": [
        "None\n"
       ]
      }
     ],
     "prompt_number": 32
    },
    {
     "cell_type": "markdown",
     "metadata": {},
     "source": [
      "<h3>example 10.5 page no : 111"
     ]
    },
    {
     "cell_type": "code",
     "collapsed": true,
     "input": [
      "\n",
      "class EmcCollection:\n",
      "    def __del__(self):\n",
      "        pass\n",
      "\n",
      "class EmcArrayCollection( EmcCollection):\n",
      "    def __del__(self):\n",
      "        pass"
     ],
     "language": "python",
     "metadata": {},
     "outputs": [],
     "prompt_number": 5
    },
    {
     "cell_type": "markdown",
     "metadata": {},
     "source": [
      "<h3>example 10.6 page no :112"
     ]
    },
    {
     "cell_type": "code",
     "collapsed": true,
     "input": [
      "\n",
      "class EmcLogged:\n",
      "    def writeClassName(self,o):\n",
      "        pass\n",
      "\n",
      "    def writeValue(self,o):\n",
      "        pass\n",
      "\n",
      "    def logMessage(self,message):\n",
      "        pass\n",
      "\n",
      "    def __del__(self):\n",
      "        pass\n",
      "\n",
      "class EmcLoggedCollection(EmcCollection):\n",
      "\n",
      "    def writeValue(self,o):\n",
      "        pass\n",
      "\n",
      "    def __del__(self):\n",
      "        pass        "
     ],
     "language": "python",
     "metadata": {},
     "outputs": [],
     "prompt_number": 6
    },
    {
     "cell_type": "markdown",
     "metadata": {},
     "source": [
      "<h3>EXAMPLE 10.7 Page no :  117"
     ]
    },
    {
     "cell_type": "code",
     "collapsed": true,
     "input": [
      "\n",
      "\n",
      "\n",
      "class EmcIntStack:\n",
      "    def empty(self):\n",
      "        pass\n",
      "\n",
      "    def full(self):\n",
      "        pass\n",
      "        \n",
      "    def top(self):\n",
      "        pass\n",
      "        \n",
      "    def push(self,i):\n",
      "        pass\n",
      "    \n",
      "    def pop(self):\n",
      "        pass"
     ],
     "language": "python",
     "metadata": {},
     "outputs": [],
     "prompt_number": 7
    },
    {
     "cell_type": "markdown",
     "metadata": {},
     "source": [
      "<h3>EXAMPLE 10.8 Page no : 117"
     ]
    },
    {
     "cell_type": "code",
     "collapsed": true,
     "input": [
      "\n",
      "\n",
      "def makeString(stack):\n",
      "    returnValue = ''\n",
      "    copy = stack\n",
      "    while (not copy.empty()):\n",
      "        # loop condition makes precondition valid\n",
      "        print copy.pop() # Precondition: ! copy.empty()\n",
      "        returnValue += copy.pop\n",
      "\n",
      "    return returnValue;"
     ],
     "language": "python",
     "metadata": {},
     "outputs": [],
     "prompt_number": 8
    },
    {
     "cell_type": "markdown",
     "metadata": {},
     "source": [
      "<h3>EXAMPLE 10.9 page no : 118"
     ]
    },
    {
     "cell_type": "code",
     "collapsed": true,
     "input": [
      "\n",
      "\n",
      "class EmcString:\n",
      "    def cStr(self):\n",
      "        pass\n",
      "        # cStr() returns 0-terminated string\n",
      "\n",
      "    def length(self):\n",
      "        pass"
     ],
     "language": "python",
     "metadata": {},
     "outputs": [],
     "prompt_number": 9
    },
    {
     "cell_type": "markdown",
     "metadata": {},
     "source": [
      "<h3>EXAMPLE 10.10 page no : 119"
     ]
    },
    {
     "cell_type": "code",
     "collapsed": true,
     "input": [
      "\n",
      "\n",
      "class EmcCollection:\n",
      "    def __del__(self):\n",
      "        pass\n",
      "\n",
      "    def insert(self,T):\n",
      "        pass\n",
      "\n",
      "    def clear(self):\n",
      "        pass\n",
      "\n",
      "    def remove(self):\n",
      "        pass"
     ],
     "language": "python",
     "metadata": {},
     "outputs": [],
     "prompt_number": 10
    },
    {
     "cell_type": "markdown",
     "metadata": {},
     "source": [
      "<h3>EXAMPLE 10.11 page no : 120"
     ]
    },
    {
     "cell_type": "code",
     "collapsed": false,
     "input": [
      "\n",
      "class EmcCollectionFactory:\n",
      "    def __init__(self):\n",
      "        pass\n",
      "\n",
      "    def create(self,type):\n",
      "        pass\n",
      "\n",
      "    def createArray(self):\n",
      "        pass\n",
      "    \n",
      "factrory = EmcCollectionFactory()\n",
      "collection = factory.create(\"Array\");\n",
      "if (not collection.isFull()):\n",
      "    collection.insert(42);"
     ],
     "language": "python",
     "metadata": {},
     "outputs": [],
     "prompt_number": 36
    },
    {
     "cell_type": "markdown",
     "metadata": {},
     "source": [
      "<h3>EXAMPLE 10.12 page no : 121"
     ]
    },
    {
     "cell_type": "code",
     "collapsed": true,
     "input": [
      "\n",
      "def insertObject(c,element):\n",
      "  \n",
      "    if (not c.isFull()):\n",
      "        c.insert(element)\n",
      "        return True\n",
      "    return False"
     ],
     "language": "python",
     "metadata": {},
     "outputs": [],
     "prompt_number": 12
    },
    {
     "cell_type": "markdown",
     "metadata": {},
     "source": [
      "<h3>EXAMPLE 10.13 Page no :  121"
     ]
    },
    {
     "cell_type": "code",
     "collapsed": true,
     "input": [
      "\n",
      "def insert(T):\n",
      "    pass"
     ],
     "language": "python",
     "metadata": {},
     "outputs": [],
     "prompt_number": 13
    },
    {
     "cell_type": "markdown",
     "metadata": {},
     "source": [
      "<h3>EXAMPLE 10.14 page no : 123"
     ]
    },
    {
     "cell_type": "code",
     "collapsed": true,
     "input": [
      "\n",
      "\n",
      "class EmcCollection:\n",
      "    pass"
     ],
     "language": "python",
     "metadata": {},
     "outputs": [],
     "prompt_number": 14
    },
    {
     "cell_type": "markdown",
     "metadata": {},
     "source": [
      "<h3>EXAMPLE 10.15 page no : 124"
     ]
    },
    {
     "cell_type": "code",
     "collapsed": true,
     "input": [
      "\n",
      "class EmcCollection:\n",
      "    def templateRequirements(self):\n",
      "        pass\n",
      "\n",
      "    def templateRequirements(self):\n",
      "       \n",
      "        t1 = T1()\n",
      "      \n",
      "        t2 =t1\n",
      "\n",
      "        t2 = t1;\n",
      "        # Assignable\n",
      "        b = (t2 == t1); # EqualityComparable"
     ],
     "language": "python",
     "metadata": {},
     "outputs": [],
     "prompt_number": 15
    },
    {
     "cell_type": "code",
     "collapsed": true,
     "input": [],
     "language": "python",
     "metadata": {},
     "outputs": []
    }
   ],
   "metadata": {}
  }
 ]
}