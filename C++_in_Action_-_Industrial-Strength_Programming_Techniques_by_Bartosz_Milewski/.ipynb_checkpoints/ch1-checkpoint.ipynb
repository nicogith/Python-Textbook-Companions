{
 "metadata": {
  "name": "",
  "signature": "sha256:2af50dca95bb8940069ca1eefad39c58f8f97bbf13a194cd9fff16b4f6521b4f"
 },
 "nbformat": 3,
 "nbformat_minor": 0,
 "worksheets": [
  {
   "cells": [
    {
     "cell_type": "heading",
     "level": 1,
     "metadata": {},
     "source": [
      "Chapter One : Naming"
     ]
    },
    {
     "cell_type": "heading",
     "level": 3,
     "metadata": {},
     "source": [
      "EXAMPLE 1.1 Page no : 2 \n"
     ]
    },
    {
     "cell_type": "code",
     "collapsed": false,
     "input": [
      "\n",
      "\n",
      "strL = 0  # Not recommended\n",
      "stringLength = 0 # Recommended"
     ],
     "language": "python",
     "metadata": {},
     "outputs": [],
     "prompt_number": 1
    },
    {
     "cell_type": "heading",
     "level": 3,
     "metadata": {},
     "source": [
      "Example 2 Page no : 3\n"
     ]
    },
    {
     "cell_type": "code",
     "collapsed": false,
     "input": [
      "\n",
      "\n",
      "class EmcFruit:\n",
      "    def print_(self):\n",
      "        pass\n",
      "\n",
      "class EmcApple(EmcFruit):\n",
      "    def print_(self):\n",
      "        pass\n",
      "\n",
      "fp = EmcApple()\n",
      "print fp "
     ],
     "language": "python",
     "metadata": {},
     "outputs": [
      {
       "output_type": "stream",
       "stream": "stdout",
       "text": [
        "<__main__.EmcApple instance at 0x9d29c8c>\n"
       ]
      }
     ],
     "prompt_number": 2
    },
    {
     "cell_type": "heading",
     "level": 3,
     "metadata": {},
     "source": [
      "EXAMPLE 1.3 Page no : 4\n"
     ]
    },
    {
     "cell_type": "code",
     "collapsed": false,
     "input": [
      "\n",
      "class Point:\n",
      "    def __init__(self,a,b):\n",
      "        self.x = a\n",
      "        self.y = b\n",
      "    def x1(self,a):\n",
      "        self.x = a\n",
      "\n",
      "p = Point(0,0) # a point in a 2-dimensional space\n",
      "p.x1(1); # set X-coordinate\n",
      "print  p.x  # prints X-coordinate, \"1\""
     ],
     "language": "python",
     "metadata": {},
     "outputs": [
      {
       "output_type": "stream",
       "stream": "stdout",
       "text": [
        "1\n"
       ]
      }
     ],
     "prompt_number": 3
    },
    {
     "cell_type": "heading",
     "level": 3,
     "metadata": {},
     "source": [
      "EXAMPLE 1.4 page no : 4\n"
     ]
    },
    {
     "cell_type": "code",
     "collapsed": false,
     "input": [
      "\n",
      "\n",
      "def check_assign(a,i,t):\n",
      "    if (i < len(a)):\n",
      "        a[i] = t;"
     ],
     "language": "python",
     "metadata": {},
     "outputs": [],
     "prompt_number": 4
    },
    {
     "cell_type": "heading",
     "level": 3,
     "metadata": {},
     "source": [
      "EXAMPLE 1.5 Page no : 6\n"
     ]
    },
    {
     "cell_type": "code",
     "collapsed": false,
     "input": [
      "\n",
      "class String:\n",
      "    pass\n",
      "\n",
      "class DynamicArray:\n",
      "    pass"
     ],
     "language": "python",
     "metadata": {},
     "outputs": [],
     "prompt_number": 5
    },
    {
     "cell_type": "heading",
     "level": 3,
     "metadata": {},
     "source": [
      "EXAMPLE 1.6 page no : 6\n"
     ]
    },
    {
     "cell_type": "code",
     "collapsed": false,
     "input": [
      "\n",
      "a = 'aaa' \n",
      "s1 = 'xyz'\n",
      "s = 'abc' # Emc::String s;\n"
     ],
     "language": "python",
     "metadata": {},
     "outputs": [],
     "prompt_number": 6
    },
    {
     "cell_type": "heading",
     "level": 3,
     "metadata": {},
     "source": [
      "EXAMPLE 1.8 page no : 7\n"
     ]
    },
    {
     "cell_type": "code",
     "collapsed": false,
     "input": [
      "#s1 = EmcString() # Belongs to the Emc Class Library\n",
      "#s2 = OtherString() # Belongs to the Other Class Library"
     ],
     "language": "python",
     "metadata": {},
     "outputs": [],
     "prompt_number": 4
    },
    {
     "cell_type": "heading",
     "level": 3,
     "metadata": {},
     "source": [
      "EXAMPLE 1.9 Page no : 8\n"
     ]
    },
    {
     "cell_type": "code",
     "collapsed": false,
     "input": [
      "\n",
      "#import RWCstring #include \"RWCstring.h\" /* Recommended */\n",
      "#from rw import cstring #include \"rw/cstring.h\" /* Sometimes needed */"
     ],
     "language": "python",
     "metadata": {},
     "outputs": [],
     "prompt_number": 5
    },
    {
     "cell_type": "heading",
     "level": 3,
     "metadata": {},
     "source": [
      "EXAMPLE 1.10 page no : 9\n"
     ]
    },
    {
     "cell_type": "code",
     "collapsed": false,
     "input": [
      "\n",
      "\n",
      "i__j = 11;\n",
      "_K = 22;\n",
      "_m = 33;\n"
     ],
     "language": "python",
     "metadata": {},
     "outputs": [],
     "prompt_number": 9
    },
    {
     "cell_type": "code",
     "collapsed": false,
     "input": [],
     "language": "python",
     "metadata": {},
     "outputs": []
    }
   ],
   "metadata": {}
  }
 ]
}