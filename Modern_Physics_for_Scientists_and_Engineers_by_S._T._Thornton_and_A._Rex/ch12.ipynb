{
 "metadata": {
  "name": "",
  "signature": "sha256:6270762d6231ec0577735987cb74ce2b57535e026b96bfac7596018acfb359e4"
 },
 "nbformat": 3,
 "nbformat_minor": 0,
 "worksheets": [
  {
   "cells": [
    {
     "cell_type": "heading",
     "level": 1,
     "metadata": {},
     "source": [
      "Chapter 12: The Atomic Nuleus"
     ]
    },
    {
     "cell_type": "heading",
     "level": 2,
     "metadata": {},
     "source": [
      "Example 12.1, Page 432"
     ]
    },
    {
     "cell_type": "code",
     "collapsed": false,
     "input": [
      "import math\n",
      "\n",
      "#Variable declaration\n",
      "h = 6.62e-034;    # Planck's constant, Js\n",
      "h_bar = h/(2*math.pi);    # Reduced Planck's constant, Js\n",
      "m = 1.67e-027;    # Rest mass of proton, kg\n",
      "e = 1.602e-019;    # Energy equivalent of 1 eV, J\n",
      "c = 3.00e+008;    # Speed of light, m/s\n",
      "delta_x = 8.0e-015;    # Size of the nucleus, m\n",
      "\n",
      "#Calculations\n",
      "delta_p = h_bar/(2*delta_x*e);    # Uncertainty in momentum of proton from Heisenberg Uncertainty Principle, eV-s/m\n",
      "p_min = delta_p;    # Minimum momentum of the proton inside the nucleus, eV-s/m\n",
      "K = (p_min*c)**2*e/(2*m*c**2*1e+006);    # The minimum kinetic energy of the proton in a medium sized nucleus, MeV\n",
      "\n",
      "#Result\n",
      "print \"The minimum kinetic energy of the proton in a medium sized nucleus = %4.2f MeV\"%K"
     ],
     "language": "python",
     "metadata": {},
     "outputs": [
      {
       "output_type": "stream",
       "stream": "stdout",
       "text": [
        "The minimum kinetic energy of the proton in a medium sized nucleus = 0.08 MeV\n"
       ]
      }
     ],
     "prompt_number": 1
    },
    {
     "cell_type": "heading",
     "level": 2,
     "metadata": {},
     "source": [
      "Example 12.2, Page 436"
     ]
    },
    {
     "cell_type": "code",
     "collapsed": false,
     "input": [
      "import math\n",
      "\n",
      "#Variable declaration\n",
      "c = 3.00e+008;    # Speed of light, m/s\n",
      "e = 1.602e-019;    # Energy equivalent of 1 eV, J\n",
      "m_e = 0.511;    # Rest mass energy of electron, MeV\n",
      "m_p = 938.3;    # Rest mass energy of proton, MeV\n",
      "h = 6.62e-034;    # Planck's constant, Js\n",
      "A = 40;    # Mass number of Ca-40\n",
      "r0 = 1.2;    # Nuclear radius constant, fm\n",
      "\n",
      "#Calculations&Results\n",
      "R = r0*A**(1./3);    # Radius of Ca-40 nucleus, fm\n",
      "print \"The radius of Ca-40 nucleus = %3.1f fm\"%R\n",
      "lamda = 2.0;    # de-Broglie wavelength to distinguish a distance at least half the radius, fm\n",
      "# Electron energy\n",
      "E = math.ceil(math.sqrt(m_e**2+(h*c/(lamda*e*1e+006*1e-015))**2));    # Total energy of the probing electron, MeV\n",
      "K = E - m_e;    # Kinetic energy of probing electron, MeV\n",
      "print \"The kinetic energy of probing electron = %3d MeV\"%math.ceil(K)\n",
      "# Proton energy\n",
      "E = math.ceil(math.sqrt(m_p**2+(h*c/(lamda*e*1e+006*1e-015))**2));    # Total energy of the probing electron, MeV\n",
      "K = E - m_p;    # Kinetic energy of probing electron, MeV\n",
      "print \"The kinetic energy of probing proton = %3d MeV\"%math.ceil(K)\n",
      "\n",
      "#answers differ due to rounding errors"
     ],
     "language": "python",
     "metadata": {},
     "outputs": [
      {
       "output_type": "stream",
       "stream": "stdout",
       "text": [
        "The radius of Ca-40 nucleus = 4.1 fm\n",
        "The kinetic energy of probing electron = 620 MeV\n",
        "The kinetic energy of probing proton = 187 MeV\n"
       ]
      }
     ],
     "prompt_number": 3
    },
    {
     "cell_type": "heading",
     "level": 2,
     "metadata": {},
     "source": [
      "Example 12.3, Page 437"
     ]
    },
    {
     "cell_type": "code",
     "collapsed": false,
     "input": [
      "#Variable declaration\n",
      "A_U238 = 238;    # Mass number of U-238\n",
      "A_He4 = 4;    # Mass number of He-4\n",
      "r0 = 1.2;    # Nuclear radius constant, nm\n",
      "\n",
      "#Calculations&Results\n",
      "R_U238 = r0*A_U238**(1./3);    # Radius of U-238 nucleus, fm\n",
      "R_He4 = r0*A_He4**(1./3);    # Radius of He-4 nucleus, fm\n",
      "print \"The radii of U-238 and He-4 nuclei are %3.1f fm and %3.1f fm repectively\"%(R_U238, R_He4)\n",
      "ratio = R_U238/R_He4;    # Ratio of the two radii\n",
      "print \"The ratio of radius to U-238 to that of He-4 = %3.1f\"%ratio"
     ],
     "language": "python",
     "metadata": {},
     "outputs": [
      {
       "output_type": "stream",
       "stream": "stdout",
       "text": [
        "The radii of U-238 and He-4 nuclei are 7.4 fm and 1.9 fm repectively\n",
        "The ratio of radius to U-238 to that of He-4 = 3.9\n"
       ]
      }
     ],
     "prompt_number": 4
    },
    {
     "cell_type": "heading",
     "level": 2,
     "metadata": {},
     "source": [
      "Example 12.4, Page 438"
     ]
    },
    {
     "cell_type": "code",
     "collapsed": false,
     "input": [
      "#Variable declaration\n",
      "h = 6.62e-034;    # Planck's constant, Js\n",
      "c = 3.00e+008;    # Speed of light, m/s\n",
      "e = 1.602e-019;    # Energy equivalent of 1 eV, J\n",
      "B = 2.0;    # Applied magnetic field, T\n",
      "mu_N = 3.15e-008;    # Nucleon magnetic moment, eV/T\n",
      "\n",
      "#Calculations\n",
      "mu_p = 2.79*mu_N;    # Proton magnetic moment, eV/T\n",
      "delta_E = 2*mu_p*B;    # Energy difference between the up and down proton states, eV\n",
      "f = delta_E*e/h;    # Frequency of electromagnetic radiation that flips the proton spins, Hz\n",
      "lamda = c/f;    # Wavelength of electromagnetic radiation that flips the proton spins, m\n",
      "\n",
      "#Results\n",
      "print \"The energy difference between the up and down proton states = %3.1e eV\"%delta_E\n",
      "print \"The frequency of electromagnetic radiation that flips the proton spins = %2d MHz\"%(f/1e+006)\n",
      "print \"The wavelength of electromagnetic radiation that flips the proton spins = %3.1f m\"%lamda"
     ],
     "language": "python",
     "metadata": {},
     "outputs": [
      {
       "output_type": "stream",
       "stream": "stdout",
       "text": [
        "The energy difference between the up and down proton states = 3.5e-07 eV\n",
        "The frequency of electromagnetic radiation that flips the proton spins = 85 MHz\n",
        "The wavelength of electromagnetic radiation that flips the proton spins = 3.5 m\n"
       ]
      }
     ],
     "prompt_number": 5
    },
    {
     "cell_type": "heading",
     "level": 2,
     "metadata": {},
     "source": [
      "Example 12.5, Page 443"
     ]
    },
    {
     "cell_type": "code",
     "collapsed": false,
     "input": [
      "#Variable declaration\n",
      "c = 3.00e+008;    # Speed of light, m/s\n",
      "e = 1.602e-019;    # Energy equivalent of 1 eV, J\n",
      "u = 931.5;    # Energy equivalent of 1 amu, MeV\n",
      "m_n = 1.008665;    # Mass of a neutron, u\n",
      "M_H = 1.007825;    # Mass of a proton, u\n",
      "M_He = 4.002603;    # Mass of helium nucleus\n",
      "M_Be = 8.005305;    # Mass of Be-8, u\n",
      "\n",
      "#Calculations&Results\n",
      "B_Be = (4*m_n+4*M_H - M_Be)*u;\n",
      "B_Be_2alpha = (2*M_He - M_Be)*u;\n",
      "print \"The binding energy of Be-8 = %4.1f MeV and is positive\"%B_Be\n",
      "if (B_Be_2alpha > 0):\n",
      "    print \"The Be-4 is stable w.r.t. decay into two alpha particles.\";\n",
      "else:\n",
      "    print \"The Be-4 is unstable w.r.t. decay into two alpha particles since the decay has binding energy of %5.3f MeV\"%B_Be_2alpha     \n",
      "\n"
     ],
     "language": "python",
     "metadata": {},
     "outputs": [
      {
       "output_type": "stream",
       "stream": "stdout",
       "text": [
        "The binding energy of Be-8 = 56.5 MeV and is positive\n",
        "The Be-4 is unstable w.r.t. decay into two alpha particles since the decay has binding energy of -0.092 MeV\n"
       ]
      }
     ],
     "prompt_number": 6
    },
    {
     "cell_type": "heading",
     "level": 2,
     "metadata": {},
     "source": [
      "Example 12.6, Page 444"
     ]
    },
    {
     "cell_type": "code",
     "collapsed": false,
     "input": [
      "#Variable declaration\n",
      "Z = 92;    # Atomic number of U-238\n",
      "A = 238;    # Mass number of U-238\n",
      "\n",
      "#Calculations\n",
      "E_Coul = 0.72*Z*(Z-1)*A**(-1./3);    # Total Coulomb energy of U-238, MeV\n",
      "\n",
      "#Result\n",
      "print \"The total Coulomb energy of U-238 = %3d MeV\"%E_Coul"
     ],
     "language": "python",
     "metadata": {},
     "outputs": [
      {
       "output_type": "stream",
       "stream": "stdout",
       "text": [
        "The total Coulomb energy of U-238 = 972 MeV\n"
       ]
      }
     ],
     "prompt_number": 7
    },
    {
     "cell_type": "heading",
     "level": 2,
     "metadata": {},
     "source": [
      "Example 12.8, Page 447"
     ]
    },
    {
     "cell_type": "code",
     "collapsed": false,
     "input": [
      "#Variable declaration\n",
      "u = 931.5;    # Energy equivalent of 1 amu, MeV\n",
      "m_p = 1.007825;    # Mass of proton, amu\n",
      "m_n = 1.008665;     # Mass of neutron, amu\n",
      "M_Ne = 19.992440; # Mass of Ne-20 nucleus, amu\n",
      "M_Fe = 55.934942;    # Mass of Fe-56 nucleus, amu\n",
      "M_U = 238.050783;    # Mass of U-238 nucleus, amu\n",
      "A_Ne = 20;    # Mass number of Ne-20 nucleus\n",
      "A_Fe = 56;    # Mass number of Fe-56 nucleus\n",
      "A_U = 238;    # Mass number of U-238 nucleus\n",
      "\n",
      "#Calculations\n",
      "BE_Ne = (10*m_p+10*m_n-M_Ne)*u;    # Binding energy of Ne-20 nucleus, MeV\n",
      "BE_Fe = (26*m_p+30*m_n-M_Fe)*u;    # Binding energy of Fe-56 nucleus, MeV\n",
      "BE_U = (92*m_p+146*m_n-M_U)*u;    # Binding energy of U-238 nucleus, MeV\n",
      "\n",
      "#Results\n",
      "print \"The binding energy per nucleon for Ne-20 : %4.2f MeV/nucleon\"%(BE_Ne/A_Ne)\n",
      "print \"The binding energy per nucleon for Fe-56 : %4.2f MeV/nucleon\"%(BE_Fe/A_Fe)\n",
      "print \"The binding energy per nucleon for U-238 : %4.2f MeV/nucleon\"%(BE_U/A_U)"
     ],
     "language": "python",
     "metadata": {},
     "outputs": [
      {
       "output_type": "stream",
       "stream": "stdout",
       "text": [
        "The binding energy per nucleon for Ne-20 : 8.03 MeV/nucleon\n",
        "The binding energy per nucleon for Fe-56 : 8.79 MeV/nucleon\n",
        "The binding energy per nucleon for U-238 : 7.57 MeV/nucleon\n"
       ]
      }
     ],
     "prompt_number": 8
    },
    {
     "cell_type": "heading",
     "level": 2,
     "metadata": {},
     "source": [
      "Example 12.10, Page 451"
     ]
    },
    {
     "cell_type": "code",
     "collapsed": false,
     "input": [
      "import math\n",
      "\n",
      "#Variable declaration\n",
      "N_A = 6.023e+023;    # Avogadro's number\n",
      "T = 138*24*3600;    # Half life of Po-210, s\n",
      "R = 2000;    # Activity of Po-210, disintegrations/s\n",
      "M = 0.210;    # Gram molecular mass of Po-210, kg\n",
      "\n",
      "#Calculations\n",
      "f = 1/3.7e+010;    # Conversion factor to convert from decays/s to Ci\n",
      "A = R*f/1e-006;    # Activity of Po-210, micro-Ci\n",
      "N = R*T/math.log(2);    # Number of radioactive nuclei of Po-210, nuclei\n",
      "m = N*M/N_A;    # Mass of Po-210 sample, kg\n",
      "\n",
      "#Results\n",
      "print \"The activity of Po-210 = %5.3f micro-Ci\"%A\n",
      "print \"The mass of Po-210 sample = %3.1e kg\"%m"
     ],
     "language": "python",
     "metadata": {},
     "outputs": [
      {
       "output_type": "stream",
       "stream": "stdout",
       "text": [
        "The activity of Po-210 = 0.054 micro-Ci\n",
        "The mass of Po-210 sample = 1.2e-14 kg\n"
       ]
      }
     ],
     "prompt_number": 9
    },
    {
     "cell_type": "heading",
     "level": 2,
     "metadata": {},
     "source": [
      "Example 12.11, Page 452"
     ]
    },
    {
     "cell_type": "code",
     "collapsed": false,
     "input": [
      "import math\n",
      "\n",
      "#Variable declaration\n",
      "T = 110;    # Half life of F-18, min\n",
      "f_remain = 0.01;    # Fraction of the F-18 sample remained\n",
      "\n",
      "#Calculations\n",
      "t = -math.log(0.01)/(math.log(2)*60)*T;    # Time taken by the F-18 sample to decay to 1 percent of its initial value, h\n",
      "\n",
      "#Result\n",
      "print \"The time taken for 99 percent of the F-18 sample to decay = %4.1f h\"%t"
     ],
     "language": "python",
     "metadata": {},
     "outputs": [
      {
       "output_type": "stream",
       "stream": "stdout",
       "text": [
        "The time taken for 99 percent of the F-18 sample to decay = 12.2 h\n"
       ]
      }
     ],
     "prompt_number": 10
    },
    {
     "cell_type": "heading",
     "level": 2,
     "metadata": {},
     "source": [
      "Example 12.12, Page 452"
     ]
    },
    {
     "cell_type": "code",
     "collapsed": false,
     "input": [
      "import math\n",
      "\n",
      "#Variable declaration\n",
      "N_A = 6.023e+023;    # Avogadro's number\n",
      "M = 10e+03;    # Mass of the U-235, g\n",
      "M_U235 = 235;    # Molecular mass of U-235, g\n",
      "t_half = 7.04e+008;    # Half life of U-235, y\n",
      "\n",
      "#Calculations\n",
      "N = M*N_A/M_U235;    # Number of U-235 atoms in 10 kg sample\n",
      "R = math.log(2)*N/t_half;    # The alpha activity of 10 kg sample of U-235, decays/y\n",
      "\n",
      "#Result\n",
      "print \"The alpha activity of 10 kg sample of U-235 = %3.1e Bq\"%(R/(365.25*24*60*60))"
     ],
     "language": "python",
     "metadata": {},
     "outputs": [
      {
       "output_type": "stream",
       "stream": "stdout",
       "text": [
        "The alpha activity of 10 kg sample of U-235 = 8.0e+08 Bq\n"
       ]
      }
     ],
     "prompt_number": 11
    },
    {
     "cell_type": "heading",
     "level": 2,
     "metadata": {},
     "source": [
      "Example 12.13, Page 453"
     ]
    },
    {
     "cell_type": "code",
     "collapsed": false,
     "input": [
      "#Variable declaration\n",
      "u = 931.5;    # Energy equivalent of 1 u, MeV\n",
      "M_U230 = 230.033927;    # Atomic mass of U-230, u\n",
      "m_n = 1.008665;    # Mass of a neutron, u\n",
      "M_H = 1.007825;    # Mass of hydrogen, u\n",
      "M_U229 = 229.033496;    # Gram atomic mass of U-230\n",
      "\n",
      "#Calculations&Results\n",
      "Q = (M_U230 - M_U229 - m_n)*u;    # Q-value of the reaction emitting a neutron\n",
      "if (Q < 0):\n",
      "    print \"The neutron decay in this reaction is not possible.\"\n",
      "else:\n",
      "    print \"The neutron decay in this reaction is possible.\"\n",
      "\n",
      "Q = (M_U230 - M_U229 - M_H)*u;    # Q-value of the reaction emitting a proton\n",
      "if (Q < 0):\n",
      "    print \"The proton decay in this reaction is not possible.\"\n",
      "else:\n",
      "    print \"The proton decay in this reaction is possible.\""
     ],
     "language": "python",
     "metadata": {},
     "outputs": [
      {
       "output_type": "stream",
       "stream": "stdout",
       "text": [
        "The neutron decay in this reaction is not possible.\n",
        "The proton decay in this reaction is not possible.\n"
       ]
      }
     ],
     "prompt_number": 14
    },
    {
     "cell_type": "heading",
     "level": 2,
     "metadata": {},
     "source": [
      "Example 12.15, Page 461"
     ]
    },
    {
     "cell_type": "code",
     "collapsed": false,
     "input": [
      "#Variable declaration\n",
      "u = 931.5;    # Energy equivalent of 1 u, MeV\n",
      "M_Fe55 = 54.938298;    # Atomic mass of Fe-55, u\n",
      "M_Mn55 = 54.938050;    # Atomic mass of Mn-55, u\n",
      "m_e = 0.000549;    # Mass of the electron, u\n",
      "\n",
      "#Calculations&Results\n",
      "Q = (M_Fe55 - M_Mn55 - 2*m_e)*u;    # Q-value of the reaction undergoing beta+ decay, MeV\n",
      "if (Q < 0):\n",
      "    print \"The beta+ decay is not allowed for Fe-55\"\n",
      "else:\n",
      "    print \"The beta+ decay is allowed for Fe-55\"\n",
      "\n",
      "Q = (M_Fe55 - M_Mn55)*u;    # Q-value of the reaction undergoing electron capture, MeV\n",
      "if (Q < 0):\n",
      "    print \"Fe-55 may not undergo electron capture\"\n",
      "else:\n",
      "    print \"Fe-55 may undergo electron capture\""
     ],
     "language": "python",
     "metadata": {},
     "outputs": [
      {
       "output_type": "stream",
       "stream": "stdout",
       "text": [
        "The beta+ decay is not allowed for Fe-55\n",
        "Fe-55 may undergo electron capture\n"
       ]
      }
     ],
     "prompt_number": 13
    },
    {
     "cell_type": "heading",
     "level": 2,
     "metadata": {},
     "source": [
      "Example 12.16, Page 462"
     ]
    },
    {
     "cell_type": "code",
     "collapsed": false,
     "input": [
      "#Variable declaration\n",
      "def check_allowance(Q, decay_type):\n",
      "    if (Q < 0):\n",
      "\tprint \"The %s is not allowed for Ac-226\"%decay_type\n",
      "    else:\n",
      "\tprint \"The %s is allowed for Ac-226\"%decay_type\n",
      "\n",
      "\n",
      "u = 931.5;    # Energy equivalent of 1 u, MeV\n",
      "M_Ac226 = 226.026090;    # Atomic mass of Ac-226, u\n",
      "M_Fr222 = 222.017544;    # Atomic mass of Fr-222, u\n",
      "M_He4 = 4.002603;    # Atomic mass of He-4, u\n",
      "M_Th226 = 226.024891;    # Atomic mass of M_Th226, u\n",
      "M_Ra226 = 226.025403;    # Atomic mass of M_Ra226, u\n",
      "m_e = 0.000549;    # Mass of the electron, u\n",
      "\n",
      "#Calculations\n",
      "# Alpha Decay\n",
      "Q = (M_Ac226 - M_Fr222 - M_He4)*u;    # Q-value of the reaction undergoing alpha decay, MeV\n",
      "check_allowance(Q, \"alpha decay\");\n",
      "# Beta- Decay\n",
      "Q = (M_Ac226 - M_Th226)*u;    # Q-value of the reaction undergoing beta- decay, MeV\n",
      "check_allowance(Q, \"beta- decay\");\n",
      "# Beta+ Decay\n",
      "Q = (M_Ac226 - M_Ra226 - 2*m_e)*u;    # Q-value of the reaction undergoing beta+ decay, MeV\n",
      "check_allowance(Q, \"beta+ decay\");\n",
      "# Electron Capture\n",
      "Q = (M_Ac226 - M_Ra226)*u;    # Q-value of the reaction undergoing electron capture, MeV\n",
      "check_allowance(Q, \"electron capture\");\n"
     ],
     "language": "python",
     "metadata": {},
     "outputs": [
      {
       "output_type": "stream",
       "stream": "stdout",
       "text": [
        "The alpha decay is allowed for Ac-226\n",
        "The beta- decay is allowed for Ac-226\n",
        "The beta+ decay is not allowed for Ac-226\n",
        "The electron capture is allowed for Ac-226\n"
       ]
      }
     ],
     "prompt_number": 15
    },
    {
     "cell_type": "heading",
     "level": 2,
     "metadata": {},
     "source": [
      "Example 12.17, Page 463"
     ]
    },
    {
     "cell_type": "code",
     "collapsed": false,
     "input": [
      "#Variable declaration\n",
      "u = 931.5;    # Energy equivalent of 1 u, MeV\n",
      "E_ex = 0.072;    # Energy of the excited state, MeV\n",
      "\n",
      "#Calculations\n",
      "M = 226*u*1e+0;    # Energy equivalent of atomic mass of Th-226, MeV\n",
      "x = E_ex/(2*M);    # The error introduced in the gamma ray energy by approximation\n",
      "\n",
      "#Result\n",
      "print \"The error introduced in the gamma ray energy by approximation = %3.1e\"%x"
     ],
     "language": "python",
     "metadata": {},
     "outputs": [
      {
       "output_type": "stream",
       "stream": "stdout",
       "text": [
        "The error introduced in the gamma ray energy by approximation = 1.7e-07\n"
       ]
      }
     ],
     "prompt_number": 16
    },
    {
     "cell_type": "heading",
     "level": 2,
     "metadata": {},
     "source": [
      "Example 12.18, Page 467"
     ]
    },
    {
     "cell_type": "code",
     "collapsed": false,
     "input": [
      "import math\n",
      "\n",
      "#Variable declaration\n",
      "t_half = 4.47e+009;    # The half life of uranium ore, years\n",
      "R_prime = 0.60;    # The ratio of Pb206 abundance to that of U238\n",
      "\n",
      "#Calculations\n",
      "t = t_half/math.log(2)*math.log(R_prime + 1);    # Age of the uranuim ore, years\n",
      "\n",
      "#Result\n",
      "print \"The age of U-238 ore = %3.1e years\"%t"
     ],
     "language": "python",
     "metadata": {},
     "outputs": [
      {
       "output_type": "stream",
       "stream": "stdout",
       "text": [
        "The age of U-238 ore = 3.0e+09 years\n"
       ]
      }
     ],
     "prompt_number": 17
    },
    {
     "cell_type": "heading",
     "level": 2,
     "metadata": {},
     "source": [
      "Example 12.19, Page 469"
     ]
    },
    {
     "cell_type": "code",
     "collapsed": false,
     "input": [
      "import math\n",
      "\n",
      "#Variable declaration\n",
      "t_half = 5730;    # The half life of uranium ore, years\n",
      "R0 = 1.2e-012;    # The initial ratio of C14 to C12 at the time of death\n",
      "R = 1.10e-012;    # The final ratio of C14 to C12 t years after death\n",
      "\n",
      "#Calculations\n",
      "# As R = R0*math.exp(-lambda*t), solving for t\n",
      "t = -math.log(R/R0)*t_half/math.log(2);    # Age of the bone, years\n",
      "\n",
      "#Result\n",
      "print \"The %3d years age of bone does not date from the Roman Empire.\"%math.ceil(t)"
     ],
     "language": "python",
     "metadata": {},
     "outputs": [
      {
       "output_type": "stream",
       "stream": "stdout",
       "text": [
        "The 720 years age of bone does not date from the Roman Empire.\n"
       ]
      }
     ],
     "prompt_number": 18
    }
   ],
   "metadata": {}
  }
 ]
}