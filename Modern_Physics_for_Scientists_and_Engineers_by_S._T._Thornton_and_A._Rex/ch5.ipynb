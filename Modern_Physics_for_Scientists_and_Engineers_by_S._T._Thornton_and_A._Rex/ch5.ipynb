{
 "metadata": {
  "name": "",
  "signature": "sha256:7517050ba0696175203050b56e4b3028360e141a8084f59fc65a505aa1a45787"
 },
 "nbformat": 3,
 "nbformat_minor": 0,
 "worksheets": [
  {
   "cells": [
    {
     "cell_type": "heading",
     "level": 1,
     "metadata": {},
     "source": [
      "Chapter 5: Wave Properties of Matter and Quantum Mechanics I"
     ]
    },
    {
     "cell_type": "heading",
     "level": 2,
     "metadata": {},
     "source": [
      "Example 5.1, Page 167"
     ]
    },
    {
     "cell_type": "code",
     "collapsed": false,
     "input": [
      "import math\n",
      "\n",
      "#Variable declaration\n",
      "N_A = 6.022e+23;    # Avogdaro's No., per mole\n",
      "n = 1;    # Order of diffraction\n",
      "M = 58.5;    # Molecular mass of NaCl, g/mol\n",
      "rho = 2.16;    # Density of rock salt, g/cc\n",
      "two_theta = 20;   # Scattering angle, degree \n",
      "theta = two_theta/2;    # Diffraction angle, degree\n",
      "\n",
      "#Calculations\n",
      "N = N_A*rho*2/(M*1e-006); # Number of atoms per unit volume, per metre cube   \n",
      "d = (1/N)**(1./3);  # Interplanar spacing of NaCl crystal, m \n",
      "lamda = 2*d*math.sin(theta*math.pi/180)/n ;    # Wavelength of X-rays using Bragg's law, m\n",
      "\n",
      "#Result\n",
      "print \"The wavelength of the incident X rays  = %5.3f nm\"%(lamda/1e-009)"
     ],
     "language": "python",
     "metadata": {},
     "outputs": [
      {
       "output_type": "stream",
       "stream": "stdout",
       "text": [
        "The wavelength of the incident X rays  = 0.098 nm\n"
       ]
      }
     ],
     "prompt_number": 1
    },
    {
     "cell_type": "heading",
     "level": 2,
     "metadata": {},
     "source": [
      "Example 5.2, Page 168"
     ]
    },
    {
     "cell_type": "code",
     "collapsed": false,
     "input": [
      "import math\n",
      "\n",
      "#Variable declaration\n",
      "h = 6.63e-034;    # Planck's constant, Js\n",
      "c = 3e+008;    # Speed of light, m/s\n",
      "\n",
      "#Calculations&Results\n",
      "# For a moving ball\n",
      "m = 0.057;    # Mass of the ball, kg\n",
      "v = 25;    # Velocity of ball, m/s\n",
      "p = m*v;    # Momentum of the ball, kgm/s\n",
      "lamda = h/p;    # Lambda is the wavelength of ball, nm\n",
      "print \"The wavelength of ball = %3.1e m\"%lamda\n",
      "\n",
      "# For a moving electron\n",
      "m = 0.511e+006;    # Rest mass of an electron, eV\n",
      "K = 50;    # Kinetic energy of the electron, eV\n",
      "p = math.sqrt(2*m*K);    # Momentum of the electron, kgm/s\n",
      "lamda = h*c/(1.602e-019*p*1e-009);    # Wavelength of the electron, nm\n",
      "print \"The wavelength of the electron = %4.2f nm\"%lamda\n"
     ],
     "language": "python",
     "metadata": {},
     "outputs": [
      {
       "output_type": "stream",
       "stream": "stdout",
       "text": [
        "The wavelength of ball = 4.7e-34 m\n",
        "The wavelength of the electron = 0.17 nm\n"
       ]
      }
     ],
     "prompt_number": 2
    },
    {
     "cell_type": "heading",
     "level": 2,
     "metadata": {},
     "source": [
      "Example 5.3, Page 173"
     ]
    },
    {
     "cell_type": "code",
     "collapsed": false,
     "input": [
      "import math\n",
      "\n",
      "#Variable declaration\n",
      "m = 9.1e-31;    # Mass of the electron, kg\n",
      "h = 6.63e-34;    # Planck's constant, Js\n",
      "c = 3e+008;    # Speed of light, m/s\n",
      "e = 1.6e-19;    # Energy equivalent of 1 eV, J/eV\n",
      "V0 = 54;    # Potential difference between electrodes, V\n",
      "\n",
      "#Calculations\n",
      "lamda = h*c/(math.sqrt(2*m*c**2/e*V0)*e*1e-009);    # de Broglie wavelength of the electron, nm\n",
      "\n",
      "#Result\n",
      "print \"The de Broglie wavelength of the electron used by Davisson and Germer = %5.3f nm\"%lamda"
     ],
     "language": "python",
     "metadata": {},
     "outputs": [
      {
       "output_type": "stream",
       "stream": "stdout",
       "text": [
        "The de Broglie wavelength of the electron used by Davisson and Germer = 0.167 nm\n"
       ]
      }
     ],
     "prompt_number": 3
    },
    {
     "cell_type": "heading",
     "level": 2,
     "metadata": {},
     "source": [
      "Example 5.4, Page 174"
     ]
    },
    {
     "cell_type": "code",
     "collapsed": false,
     "input": [
      "import math\n",
      "\n",
      "#Variable declaration\n",
      "h = 6.63e-34;    # Planck's constant, Js\n",
      "c = 3e+008;    # Speed of light, m/s\n",
      "e = 1.6e-19;    # Energy equivalent of 1 eV, J/eV\n",
      "m = 1.67e-27;    # Mass of a neutron, kg\n",
      "k = 1.38e-23;    # Boltzmann constant, J/mol/K\n",
      "T = [300, 77];    # Temperatures, K\n",
      "\n",
      "#Calculations&Results\n",
      "lamda = h*c/(math.sqrt(3*m*c**2/e*k/e*T[0])*e);    # The wavelength of the neutron at 300 K, nm\n",
      "print \"The wavelength of the neutron at %d K = %5.3f nm\"%(T[0], lamda/1e-09)\n",
      "lamda = h*c/(math.sqrt(3*m*c**2/e*k/e*T[1])*e);    # The wavelength of the neutron at 77 K, nm\n",
      "print \"The wavelength of the neutron at %d K = %5.3f nm\"%(T[1], lamda/1e-09)"
     ],
     "language": "python",
     "metadata": {},
     "outputs": [
      {
       "output_type": "stream",
       "stream": "stdout",
       "text": [
        "The wavelength of the neutron at 300 K = 0.146 nm\n",
        "The wavelength of the neutron at 77 K = 0.287 nm\n"
       ]
      }
     ],
     "prompt_number": 4
    },
    {
     "cell_type": "heading",
     "level": 2,
     "metadata": {},
     "source": [
      "Example 5.7, Page 184"
     ]
    },
    {
     "cell_type": "code",
     "collapsed": false,
     "input": [
      "import math\n",
      "\n",
      "#Variable declaration\n",
      "h = 6.626e-34;    # Planck's constant, Js\n",
      "c = 3e+008;    # Speed of light, m/s\n",
      "e = 1.602e-019;    # Energy equivalent of 1 eV, J/ev\n",
      "d = 2000;    # Distance between slit centres, nm\n",
      "K = 50e+003;    # Kinetic energy of electrons, eV\n",
      "l = 350e+006;    # Distance of screen from the slits, nm\n",
      "\n",
      "#Calculations\n",
      "lamda = 1.226/math.sqrt(K);    # Non-relativistic value of de Broglie wavelength of the electrons, nm\n",
      "E0 = 0.511e+006;    # Rest energy of the electron, J\n",
      "E = K + E0;    # Total energy of the electron, J\n",
      "p_c = math.sqrt(E**2 - E0**2);    # Relativistic mass energy relation, eV\n",
      "lambda_r = h*c/(p_c*e*1e-009);    # Relativistic value of de Broglie wavelength, nm\n",
      "percent_d = (lamda - lambda_r)/lamda*100;    # Percentage decrease in relativistic value relative to non-relavistic value\n",
      "sin_theta = lambda_r/d;    # Bragg's law\n",
      "y = l*sin_theta;    # The distance of first maximum from the screen, nm\n",
      "\n",
      "#Results\n",
      "print \"The percentage decrease in relativistic value relative to non-relativistic value = %1.0f percent\"%percent_d\n",
      "print \"The distance between first two maxima = %3.0f nm\"%y"
     ],
     "language": "python",
     "metadata": {},
     "outputs": [
      {
       "output_type": "stream",
       "stream": "stdout",
       "text": [
        "The percentage decrease in relativistic value relative to non-relativistic value = 2 percent\n",
        "The distance between first two maxima = 938 nm\n"
       ]
      }
     ],
     "prompt_number": 5
    },
    {
     "cell_type": "heading",
     "level": 2,
     "metadata": {},
     "source": [
      "Example 5.8, Page 187"
     ]
    },
    {
     "cell_type": "code",
     "collapsed": false,
     "input": [
      "#Variable declaration\n",
      "dx = 17.5;    # The uncertainty in position, m\n",
      "h = 1.05e-034;    # Reduced Planck's constant, Js\n",
      "\n",
      "#Calculations&Results\n",
      "dp_x = h/(2*dx);    # The uncertainty in momentum, kgm/s\n",
      "print \"The uncertainty in momentum of the ball = %1.0e kg-m/s\"%dp_x\n",
      "dx = 0.529e-010;    # The uncertainty in position, m\n",
      "dp_x = h/(2*dx);    # The uncertainty in momentum, kgm/s\n",
      "print \"The uncertainty in momentum of the electron = %1.0e kg-m/s\"%dp_x"
     ],
     "language": "python",
     "metadata": {},
     "outputs": [
      {
       "output_type": "stream",
       "stream": "stdout",
       "text": [
        "The uncertainty in momentum of the ball = 3e-36 kg-m/s\n",
        "The uncertainty in momentum of the electron = 1e-24 kg-m/s\n"
       ]
      }
     ],
     "prompt_number": 6
    },
    {
     "cell_type": "heading",
     "level": 2,
     "metadata": {},
     "source": [
      "Example 5.9, Page 188"
     ]
    },
    {
     "cell_type": "code",
     "collapsed": false,
     "input": [
      "import math\n",
      "\n",
      "#Variable declaration\n",
      "a_0 = 5.29e-11;    # Radius of H-atom, m\n",
      "l = 2*a_0;    # Length, m\n",
      "h = 6.63e-34;    # Planck's constant, Js\n",
      "m = 9.1e-31;    # Mass of electron, kg\n",
      "\n",
      "#Calculations\n",
      "K_min = h**2/(8*(math.pi)**2*m*l**2);    # Minimum kinetic energy possesed, J\n",
      "\n",
      "#Result\n",
      "print \"The minimum kinetic energy of the electron = %3.1f eV\"%(K_min/1.6e-19)"
     ],
     "language": "python",
     "metadata": {},
     "outputs": [
      {
       "output_type": "stream",
       "stream": "stdout",
       "text": [
        "The minimum kinetic energy of the electron = 3.4 eV\n"
       ]
      }
     ],
     "prompt_number": 7
    },
    {
     "cell_type": "heading",
     "level": 2,
     "metadata": {},
     "source": [
      "Example 5.10, Page 190"
     ]
    },
    {
     "cell_type": "code",
     "collapsed": false,
     "input": [
      "import math\n",
      "\n",
      "#Variable declaration\n",
      "dx = 6e-015;    # The uncertainty in position of the electron, m\n",
      "h_bar = 1.054e-034;    # PReduced Planck's constant, Js\n",
      "e = 1.602e-019;    # Energy equivalnet of 1 eV, J/eV\n",
      "c = 3e+008;    # Speed of light, m/s\n",
      "E0 = 0.511e+006;    # Rest mass energy of the electron, J\n",
      "\n",
      "#Calculations\n",
      "dp = h_bar*c/(2*dx*e);    # Minimum electron momentum, eV/c\n",
      "p = dp;    # Momentum of the electron at least equal to the uncertainty in momentum, eV/c\n",
      "E = math.sqrt(p**2+E0**2)/1e+006;    # Relativistic energy of the electron, MeV \n",
      "K = E - E0/1e+006;    # Minimum kinetic energy of the electron, MeV\n",
      "\n",
      "#Result\n",
      "print \"The minimum kinetic energy of the electron = %4.1f MeV\"%K"
     ],
     "language": "python",
     "metadata": {},
     "outputs": [
      {
       "output_type": "stream",
       "stream": "stdout",
       "text": [
        "The minimum kinetic energy of the electron = 15.9 MeV\n"
       ]
      }
     ],
     "prompt_number": 8
    },
    {
     "cell_type": "heading",
     "level": 2,
     "metadata": {},
     "source": [
      "Example 5.12, Page 191"
     ]
    },
    {
     "cell_type": "code",
     "collapsed": false,
     "input": [
      "import math\n",
      "\n",
      "#Variable declaration\n",
      "c = 3e+8;    # Speed of light, m/s\n",
      "dt = 1e-08;    # Relaxation time of atom, s\n",
      "h = 6.6e-34;    # Planck's constant, Js\n",
      "dE = h/(4*math.pi*dt);    # Energy width of excited state of atom, J\n",
      "lamda = 300e-009;    # Wavelegth of emitted photon, m\n",
      "\n",
      "#Calculations&Results\n",
      "f = c/lamda;    # Frequency of emitted photon, per sec\n",
      "print \"The energy width of excited state of the atom = %3.1e eV\"%(dE/1.6e-019)\n",
      "df = dE/h;    # Uncertainty in frequency, per sec\n",
      "print \"The uncertainty ratio of the frequency = %1.0e\"%(df/f)\n",
      "\n",
      "\n"
     ],
     "language": "python",
     "metadata": {},
     "outputs": [
      {
       "output_type": "stream",
       "stream": "stdout",
       "text": [
        "The energy width of excited state of the atom = 3.3e-08 eV\n",
        "The uncertainty ratio of the frequency = 8e-09\n"
       ]
      }
     ],
     "prompt_number": 9
    },
    {
     "cell_type": "heading",
     "level": 2,
     "metadata": {},
     "source": [
      "Example 5.13, Page 195"
     ]
    },
    {
     "cell_type": "code",
     "collapsed": false,
     "input": [
      "#Variable declaration\n",
      "e = 1.6e-019;   # Energy equivalent of 1 eV, J/eV\n",
      "c = 3e008;    # Speed of light, m/s\n",
      "h = 6.63e-034;    # Planck's constant, Js\n",
      "m = 9.1e-031;    # Mass of the proton, kg\n",
      "l = 0.1;    # Length of one-dimensional box, nm\n",
      "\n",
      "#Calculations&Results\n",
      "for n in range(1,4):\n",
      "    E_n = n**2*(h*c/(e*1e-009))**2/(8*m*c**2/e*l**2);    # Energy of nth level, eV\n",
      "    print \"The first three energy levels are %3.0f eV\"%(E_n)\n",
      "\n"
     ],
     "language": "python",
     "metadata": {},
     "outputs": [
      {
       "output_type": "stream",
       "stream": "stdout",
       "text": [
        "The first three energy levels are  38 eV\n",
        "The first three energy levels are 151 eV\n",
        "The first three energy levels are 340 eV\n"
       ]
      }
     ],
     "prompt_number": 10
    }
   ],
   "metadata": {}
  }
 ]
}