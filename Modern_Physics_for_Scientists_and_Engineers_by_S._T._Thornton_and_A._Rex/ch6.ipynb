{
 "metadata": {
  "name": "",
  "signature": "sha256:a935d76914a9e4ae6d3e19bff37ec8b5eb26eace520b4d5bf46176dc57b307c5"
 },
 "nbformat": 3,
 "nbformat_minor": 0,
 "worksheets": [
  {
   "cells": [
    {
     "cell_type": "heading",
     "level": 1,
     "metadata": {},
     "source": [
      "Chapter 6: Quantum Mechanics II"
     ]
    },
    {
     "cell_type": "heading",
     "level": 2,
     "metadata": {},
     "source": [
      "Example 6.4, Page 205"
     ]
    },
    {
     "cell_type": "code",
     "collapsed": false,
     "input": [
      "\n",
      "import scipy\n",
      "import math\n",
      "from scipy.integrate import quad\n",
      "\n",
      "#Variable declaration\n",
      "alpha = 1;    # For simplicity assume alpha to be unity\n",
      "\n",
      "#Calculations&Results\n",
      "p = lambda x: math.sqrt(alpha)*math.exp(-2*alpha*x)    # Probability that the particle lies between 0 and 1/alpha\n",
      "integ, err = scipy.integrate.quad(p,0,1/alpha)\n",
      "print \"The probability that the particle lies between 0 and 1/alpha = %5.3f\"%integ\n",
      "p = lambda x: math.sqrt(alpha)*math.exp(-2*alpha*x)\n",
      "integ, err = scipy.integrate.quad(p,1/alpha,2/alpha) # Probability that the particle lies between 1/alpha and 2/alpha\n",
      "print \"The probability that the particle lies between 1/alpha and 2/alpha = %5.3f\"%integ\n",
      "\n"
     ],
     "language": "python",
     "metadata": {},
     "outputs": [
      {
       "output_type": "stream",
       "stream": "stdout",
       "text": [
        "The probability that the particle lies between 0 and 1/alpha = 0.432\n",
        "The probability that the particle lies between 1/alpha and 2/alpha = 0.059\n"
       ]
      }
     ],
     "prompt_number": 1
    },
    {
     "cell_type": "heading",
     "level": 2,
     "metadata": {},
     "source": [
      "Example 6.9, Page 215"
     ]
    },
    {
     "cell_type": "code",
     "collapsed": false,
     "input": [
      "import math\n",
      "\n",
      "#Variable declaration\n",
      "h = 6.62e-034;    # Planck's constant, Js\n",
      "h_bar = h/(2*math.pi);    # Reduced Planck's constant, Js\n",
      "c = 3.00e+008;    # Speed of light, m/s\n",
      "e = 1.602e-019;    # Energy equivalent of 1 eV, J\n",
      "m = 938.3e+006;    # Energy equivalent of proton mass, eV\n",
      "L = 1e-005;    # Diameter of the nucleus, nm\n",
      "\n",
      "#Calculations\n",
      "E1 = math.pi**2*(h_bar*c/(e*1e-009))**2/(2*L**2*m*1e+006);      # Energy of the ground state of proton, MeV\n",
      "E2 = 4*E1;    # Energy of first excited state of proton, MeV\n",
      "delta_E = E2 -E1;    # Transition energy of the proton inside the nucleus, MeV\n",
      "\n",
      "#Result\n",
      "print \"The transition energy of the proton inside the nucleus = %1d MeV\"%delta_E"
     ],
     "language": "python",
     "metadata": {},
     "outputs": [
      {
       "output_type": "stream",
       "stream": "stdout",
       "text": [
        "The transition energy of the proton inside the nucleus = 6 MeV\n"
       ]
      }
     ],
     "prompt_number": 2
    },
    {
     "cell_type": "heading",
     "level": 2,
     "metadata": {},
     "source": [
      "Example 6.14, Page 229"
     ]
    },
    {
     "cell_type": "code",
     "collapsed": false,
     "input": [
      "import math\n",
      "\n",
      "#Variable declaration\n",
      "h = 6.62e-034;    # Planck's constant, Js\n",
      "h_bar = h/(2*math.pi);    # Reduced Planck's constant, Js\n",
      "c = 3.00e+008;    # Speed of light, m/s\n",
      "e = 1.602e-019;    # Energy equivalent of 1 eV, J\n",
      "m = 0.511e+006;    # Energy equivalent of electron rest mass, eV\n",
      "V0 = 10;    # Height of potential barrier, eV\n",
      "E = 5;    # Energy of the incident electrons, eV\n",
      "L = 0.8e-009;    # Width of the potential barrier, m\n",
      "\n",
      "#Calculations\n",
      "k = math.sqrt(2*m*(V0 - E))*e/(h_bar*c);    # Schrodinger's constant, per m\n",
      "T = (1 + V0**2*math.sinh(k*L)**2/(4*E*(V0 - E)))**(-1);    # Transmission electron probability\n",
      "\n",
      "#Result\n",
      "print \"The fraction of electrons tunnelled through the barrier = %3.1e\"%T"
     ],
     "language": "python",
     "metadata": {},
     "outputs": [
      {
       "output_type": "stream",
       "stream": "stdout",
       "text": [
        "The fraction of electrons tunnelled through the barrier = 4.4e-08\n"
       ]
      }
     ],
     "prompt_number": 3
    },
    {
     "cell_type": "heading",
     "level": 2,
     "metadata": {},
     "source": [
      "Example 6.15, Page 229"
     ]
    },
    {
     "cell_type": "code",
     "collapsed": false,
     "input": [
      "import math\n",
      "\n",
      "#Variable declaration\n",
      "h = 6.62e-034;    # Planck's constant, Js\n",
      "h_bar = h/(2*math.pi);    # Reduced Planck's constant, Js\n",
      "c = 3.00e+008;    # Speed of light, m/s\n",
      "e = 1.602e-019;    # Energy equivalent of 1 eV, J\n",
      "m = 0.511e+006;    # Energy equivalent of electron rest mass, eV\n",
      "V0 = 10;    # Height of potential barrier, eV\n",
      "\n",
      "#Calculations\n",
      "Sum_M = 0;\n",
      "i = 1;\n",
      "for E in range(1,5):    # Range of energies of the incident electrons, eV\n",
      "    M = 16*E/V0*(1-E/V0);    # All the factors multiplying the exponential term\n",
      "    Sum_M = Sum_M + M;    # Accumulator\n",
      "    i = i + 1;\n",
      "\n",
      "E = 5;    # Given energy of the incident electrons, eV\n",
      "M = int(Sum_M/i);    # Average value of M\n",
      "L = 0.8e-009;    # Width of the potential barrier, m\n",
      "k = math.sqrt(2*m*(V0 - E))*e/(h_bar*c);    # Schrodinger's constant, per m\n",
      "T = M*math.exp(-2*k*L);    # Transmission electron probability\n",
      "\n",
      "#Result\n",
      "print \"The fraction of electrons tunnelled through the barrier = %3.1e\"%T"
     ],
     "language": "python",
     "metadata": {},
     "outputs": [
      {
       "output_type": "stream",
       "stream": "stdout",
       "text": [
        "The fraction of electrons tunnelled through the barrier = 2.2e-08\n"
       ]
      }
     ],
     "prompt_number": 5
    },
    {
     "cell_type": "heading",
     "level": 2,
     "metadata": {},
     "source": [
      "Example 6.16, Page 230"
     ]
    },
    {
     "cell_type": "code",
     "collapsed": false,
     "input": [
      "import math\n",
      "\n",
      "#Variable declaration\n",
      "h = 6.62e-034;    # Planck's constant, Js\n",
      "h_bar = h/(2*math.pi);    # Reduced Planck's constant, Js\n",
      "c = 3.00e+008;    # Speed of light, m/s\n",
      "e = 1.602e-019;    # Energy equivalent of 1 eV, J\n",
      "m = 0.511e+006;    # Energy equivalent of electron rest mass, eV\n",
      "V0 = 10;    # Height of potential barrier, eV\n",
      "E = 5;    # Given energy of the incident electrons, eV\n",
      "\n",
      "#Calculations\n",
      "l = h_bar*c/(2*math.sqrt(2*m*(V0 - E))*1e-009*e);    # Penetration distance into the barrier when the probability of the particle penetration drops to 1/e, nm\n",
      "\n",
      "#Result\n",
      "print \"The penetration distance for a %d eV electron approaching a step barrier of %d eV = %5.3f nm\"%(E, V0, l)"
     ],
     "language": "python",
     "metadata": {},
     "outputs": [
      {
       "output_type": "stream",
       "stream": "stdout",
       "text": [
        "The penetration distance for a 5 eV electron approaching a step barrier of 10 eV = 0.044 nm\n"
       ]
      }
     ],
     "prompt_number": 6
    },
    {
     "cell_type": "heading",
     "level": 2,
     "metadata": {},
     "source": [
      "Example 6.17, Page 234"
     ]
    },
    {
     "cell_type": "code",
     "collapsed": false,
     "input": [
      "import math\n",
      "\n",
      "#Variable declaration\n",
      "h = 6.62e-034;    # Planck's constant, Js\n",
      "h_bar = h/(2*math.pi);    # Reduced Planck's constant, Js\n",
      "c = 3.00e+008;    # Speed of light, m/s\n",
      "e = 1.602e-019;    # Charge on an electron, C\n",
      "k = 9e+009;    # Coulomb constant, N-Sq.m./C^2\n",
      "m = 3727;    # Energy equivalent of alpha particle rest mass, MeV\n",
      "E = 5;    # Given energy of the incident electrons, eV\n",
      "Z1 = 2;    # Atomic number of an alpha particle\n",
      "Z2 = 92;    # Atomic number of the U-238 nucleus\n",
      "r_N = 7e-015;    # Nuclear radius, m\n",
      "K = 4.2;    # Kinetic energy of alpha particle, MeV\n",
      "\n",
      "#Calculations\n",
      "V_C = Z1*Z2*e**2*k/(r_N*e*1e+006);    # Coulomb Potential, MeV\n",
      "r_prime = V_C*r_N/(K*1e-015);    # Distance through which the alpha particle must tunnel, fm\n",
      "kapa = math.sqrt(2*m*(V_C-E))*e/(h_bar*c*1e-006);    # Schronginger's Constant, per m\n",
      "L = r_prime - r_N/1e-015;    # Barrier width, fm\n",
      "T = 16*(K/V_C)*(1-K/V_C)*math.exp(-2*kapa*L*1e-015);    # Tunnelling probability of alpha particle\n",
      "V_C_new = V_C/2;    # Potential equal to half the Coulomb potential, MeV\n",
      "L = L/2;    # Width equal to half the barrier width, fm\n",
      "kapa = math.sqrt(2*m*(V_C_new-E))*e/(h_bar*c*1e-006);    # Schronginger's Constant, per m\n",
      "T_a = 16*(K/V_C_new)*(1-K/V_C_new)*math.exp(-2*kapa*L*1e-015);    # Approximated tunnelling probability of alpha particle\n",
      "v = math.sqrt(2*K/m)*c;    # Speed of the alpha particle, m/s\n",
      "t = r_N/v;    # Time taken by alpha particle to cross the U-238 nucleus, s\n",
      "\n",
      "#Results\n",
      "print \"The barrier height = %2d MeV\"%(math.ceil(V_C))\n",
      "print \"The distance that alpha particle must tunnel = %2d fm\"%r_prime\n",
      "print \"The tunnelling potential assuming square-top potential = %1.0e\"%T\n",
      "print \"The approximated tunnelling potential = %3.1e\"%T_a\n",
      "print \"The speed of the alpha particle = %3.1e m/s\"%v\n",
      "print \"The time taken by alpha particle to cross the U-238 nucleus = %1.0e s\"%t\n",
      "\n",
      "# Some answers are given wrong in the textbook for this problem"
     ],
     "language": "python",
     "metadata": {},
     "outputs": [
      {
       "output_type": "stream",
       "stream": "stdout",
       "text": [
        "The barrier height = 38 MeV\n",
        "The distance that alpha particle must tunnel = 63 fm\n",
        "The tunnelling potential assuming square-top potential = 6e-123\n",
        "The approximated tunnelling potential = 3.8e-40\n",
        "The speed of the alpha particle = 1.4e+07 m/s\n",
        "The time taken by alpha particle to cross the U-238 nucleus = 5e-22 s\n"
       ]
      }
     ],
     "prompt_number": 7
    }
   ],
   "metadata": {}
  }
 ]
}