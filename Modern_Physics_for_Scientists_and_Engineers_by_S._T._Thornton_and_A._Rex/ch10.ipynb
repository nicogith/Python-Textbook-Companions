{
 "metadata": {
  "name": "",
  "signature": "sha256:0de7fdc3a9080098412999030f35bc2fb5913b94ca2786fe525f30a16f00b7a8"
 },
 "nbformat": 3,
 "nbformat_minor": 0,
 "worksheets": [
  {
   "cells": [
    {
     "cell_type": "heading",
     "level": 1,
     "metadata": {},
     "source": [
      "Chapter 10: Molecules, Lasers and Solids"
     ]
    },
    {
     "cell_type": "heading",
     "level": 2,
     "metadata": {},
     "source": [
      "Example 10.1, Page 342"
     ]
    },
    {
     "cell_type": "code",
     "collapsed": false,
     "input": [
      "import math\n",
      "\n",
      "#Variable declaration\n",
      "m = 2.33e-026;    # Mass of a nitrogen atom, kg\n",
      "R = 1.1e-010;    # Interatomic separation between two nitrogen atoms, m\n",
      "h = 6.626e-034;    # Planck's constant, Js\n",
      "e = 1.6e-019;    # Energy equivalent of 1 eV, J\n",
      "\n",
      "#Calculations\n",
      "h_bar = h/(2*math.pi);    # Reduced Planck's constant, Js\n",
      "I = m*R**2/2;    # Momemt of rotational inertia of nitrogen gas molecule, kg-Sq.m\n",
      "l = 1;    # Rotational angular momentum quantum number\n",
      "E_rot = h_bar**2*l*(l+1)/(2*I);    # The energy for lowest rotational state of the nitrogen molecule, J\n",
      "\n",
      "#Result\n",
      "print \"The energy for lowest rotational state of the nitrogen molecule = %4.2e eV\"%(E_rot/e)"
     ],
     "language": "python",
     "metadata": {},
     "outputs": [
      {
       "output_type": "stream",
       "stream": "stdout",
       "text": [
        "The energy for lowest rotational state of the nitrogen molecule = 4.93e-04 eV\n"
       ]
      }
     ],
     "prompt_number": 1
    },
    {
     "cell_type": "heading",
     "level": 2,
     "metadata": {},
     "source": [
      "Example 10.2, Page 343"
     ]
    },
    {
     "cell_type": "code",
     "collapsed": false,
     "input": [
      "import math\n",
      "\n",
      "#Variable declaration\n",
      "h = 6.626e-034;    # Planck's constant, Js\n",
      "e = 1.6e-019;    # Energy equivalent of 1 eV, J\n",
      "h_bar = h/(2*math.pi);    # Reduced Planck's constant, Js\n",
      "k = 1.38e-023;    # Boltzmann constant, J/K\n",
      "u = 1.67e-027;    # Mass equivalent of 1 amu, kg\n",
      "\n",
      "#Calculations\n",
      "m1 = 34.97*u;    # Atomic mass of chlorine atom, kg\n",
      "m2 = 1.008*u;    # Atomic mass of hydrogen atom, kg\n",
      "mu = m1*m2/(m1 + m2);    # Reduced mass of the HCl system, kg\n",
      "delta_E = 0.36;    # Spacing between vibrational energy levels of the HCl molecule, eV\n",
      "omega = delta_E*e/h_bar;    # Angular frequency of vibration, rad/s\n",
      "kapa = mu*omega**2;    # Effective force constant for HCl molecule, N/m\n",
      "T = delta_E*e/k;    # Classical temperature associated with the rotational energy spacing, K\n",
      "\n",
      "#Results\n",
      "print \"The effective force constant for HCl molecule = %3d N/m\"%(math.ceil(kapa))\n",
      "print \"The classical temperature associated with the rotational energy spacing = %4d K\"%(math.ceil(T))\n",
      "#answers differ due to rounding errors"
     ],
     "language": "python",
     "metadata": {},
     "outputs": [
      {
       "output_type": "stream",
       "stream": "stdout",
       "text": [
        "The effective force constant for HCl molecule = 489 N/m\n",
        "The classical temperature associated with the rotational energy spacing = 4174 K\n"
       ]
      }
     ],
     "prompt_number": 2
    },
    {
     "cell_type": "heading",
     "level": 2,
     "metadata": {},
     "source": [
      "Example 10.4, Page 358"
     ]
    },
    {
     "cell_type": "code",
     "collapsed": false,
     "input": [
      "#Variable declaration\n",
      "e = 1.602e-019;    # Charge on an electron, C\n",
      "N_A = 6.023e+023;    # Avogadro's number\n",
      "alpha = 1.7476;    # Madelung constant\n",
      "E = -764.4e+003;    # Dissociation energy of NaCl molecule, J/mol\n",
      "V = E/N_A;    # Repulsive potential energy, J\n",
      "k = 8.988e+009;    # Coulomb's constant, N-Sq.m/C^2\n",
      "r0 = 0.282e-009;    # Equilibrium separation for nearest neighbour in NaCl, m\n",
      "\n",
      "#Calculations\n",
      "rho = r0*(1+r0*V/(k*alpha*e**2));    # Range parameter for NaCl, nm\n",
      "\n",
      "#Result\n",
      "print \"The range parameter for NaCl = %6.4f nm\"%(rho/1e-009)"
     ],
     "language": "python",
     "metadata": {},
     "outputs": [
      {
       "output_type": "stream",
       "stream": "stdout",
       "text": [
        "The range parameter for NaCl = 0.0316 nm\n"
       ]
      }
     ],
     "prompt_number": 3
    },
    {
     "cell_type": "heading",
     "level": 2,
     "metadata": {},
     "source": [
      "Example 10.5, Page 365"
     ]
    },
    {
     "cell_type": "code",
     "collapsed": false,
     "input": [
      "#Variable declaration\n",
      "e = 1.602e-019;    # Charge on an electron, C\n",
      "r = 5.29e-011;    # Orbital radius of electron equal to Bohr radius, m\n",
      "B = 2.0;    # Applied magnetic field, T\n",
      "m = 9.11e-031;    # Mass of an electron, kg\n",
      "\n",
      "#Calculations\n",
      "delta_mu = e**2*r**2*B/(4*m);    # Induced diamagnetic moment in the atom, J/T\n",
      "\n",
      "#Result\n",
      "print \"The induced diamagnetic moment in the atom = %3.1e J/T\"%delta_mu"
     ],
     "language": "python",
     "metadata": {},
     "outputs": [
      {
       "output_type": "stream",
       "stream": "stdout",
       "text": [
        "The induced diamagnetic moment in the atom = 3.9e-29 J/T\n"
       ]
      }
     ],
     "prompt_number": 4
    },
    {
     "cell_type": "heading",
     "level": 2,
     "metadata": {},
     "source": [
      "Example 10.6, Page 366"
     ]
    },
    {
     "cell_type": "code",
     "collapsed": false,
     "input": [
      "import math\n",
      "\n",
      "#Variable declaration\n",
      "mu_B = 9.27e-024;    # Bohr's magneton, J/T\n",
      "B = 0.50;    # Applied magnetic field, T\n",
      "k = 1.38e-023;    # Boltzmann constant, J/K\n",
      "\n",
      "#Calculations&Results\n",
      "T = 10*mu_B*B/k;    # Temperature at which mu*B = 0.1k*T, K\n",
      "b_muB = mu_B*B/(k*T);\n",
      "ratio = b_muB/math.tanh(b_muB);    # Ratio of b_muB and tanh(b_muB)\n",
      "if (ratio - 1) < 0.01:\n",
      "    print \"The value of T = %4.2f K is suitable as a classical temperature.\"%T\n",
      "else:\n",
      "    print \"The value of T = %4.2f K is not suitable as a classical temperature.\"%T\n",
      "\n",
      "# For higher temperature\n",
      "T = 100;    # Given temperature\n",
      "b_muB = mu_B*B/(k*T);\n",
      "ratio = b_muB/math.tanh(b_muB);    # Ratio of b_muB and tanh(b_muB)\n",
      "if (ratio - 1) < 0.001:\n",
      "    print \"At the value of T = %4.2f K, the approximation is an excellent one.\"%T\n",
      "else:\n",
      "    print \"At the value of T = %4.2f K, the approximation is not an excellent.\"%T"
     ],
     "language": "python",
     "metadata": {},
     "outputs": [
      {
       "output_type": "stream",
       "stream": "stdout",
       "text": [
        "The value of T = 3.36 K is suitable as a classical temperature.\n",
        "At the value of T = 100.00 K, the approximation is an excellent one.\n"
       ]
      }
     ],
     "prompt_number": 5
    },
    {
     "cell_type": "heading",
     "level": 2,
     "metadata": {},
     "source": [
      "Example 10.7, Page 374"
     ]
    },
    {
     "cell_type": "code",
     "collapsed": false,
     "input": [
      "#Variable declaration\n",
      "k = 1.38e-023;    # Boltzmann constant, J/K\n",
      "e = 1.602e-019;    # Energy equivalent of 1 eV, J\n",
      "h = 6.62e-034;    # Planck's constant, Js\n",
      "c = 3.00e+008;    # Speed of light, m/s\n",
      "T_c = 9.25;    # Critical temperature for niobium, K\n",
      "\n",
      "#Calculations\n",
      "E_g = 3.54*k*T_c;    # Energy gap for niobium from BCS theory, J\n",
      "lamda = h*c/E_g;    # Minimum photon wavelength needed to break the Cooper pair, m\n",
      "\n",
      "#Results\n",
      "print \"The energy gap for niobium = %4.2f meV\"%(E_g/(e*1e-003))\n",
      "print \"The minimum photon wavelength needed to break the Cooper pair = %4.2e m\"%lamda"
     ],
     "language": "python",
     "metadata": {},
     "outputs": [
      {
       "output_type": "stream",
       "stream": "stdout",
       "text": [
        "The energy gap for niobium = 2.82 meV\n",
        "The minimum photon wavelength needed to break the Cooper pair = 4.39e-04 m\n"
       ]
      }
     ],
     "prompt_number": 6
    },
    {
     "cell_type": "heading",
     "level": 2,
     "metadata": {},
     "source": [
      "Example 10.8, Page 382"
     ]
    },
    {
     "cell_type": "code",
     "collapsed": false,
     "input": [
      "import math\n",
      "\n",
      "#Variable declaration\n",
      "r = 1e-002;    # Radius of the loop, m\n",
      "phi0 = 2.068e-015;    # Magnetic flux penetrating to the loop, T-Sq.m\n",
      "\n",
      "#Calculations\n",
      "A = math.pi*r**2;    # Area of the loop, Sq.m\n",
      "B = phi0/A;    # Magnetic field perpendicular to the loop, T\n",
      "\n",
      "#Result\n",
      "print \"The magnetic field perpendicular to the loop = %4.2e T\"%B"
     ],
     "language": "python",
     "metadata": {},
     "outputs": [
      {
       "output_type": "stream",
       "stream": "stdout",
       "text": [
        "The magnetic field perpendicular to the loop = 6.58e-12 T\n"
       ]
      }
     ],
     "prompt_number": 7
    }
   ],
   "metadata": {}
  }
 ]
}