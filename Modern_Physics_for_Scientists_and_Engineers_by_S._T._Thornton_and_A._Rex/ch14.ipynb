{
 "metadata": {
  "name": "",
  "signature": "sha256:ced2862e28b6da072a8a3e26efc3e44712d4ce0118ffb609847f53a2c9c6d14f"
 },
 "nbformat": 3,
 "nbformat_minor": 0,
 "worksheets": [
  {
   "cells": [
    {
     "cell_type": "heading",
     "level": 1,
     "metadata": {},
     "source": [
      "Chapter 14: Particle Physics"
     ]
    },
    {
     "cell_type": "heading",
     "level": 2,
     "metadata": {},
     "source": [
      "Example 14.1, Page 522"
     ]
    },
    {
     "cell_type": "code",
     "collapsed": false,
     "input": [
      "import math\n",
      "\n",
      "#Variable declaration\n",
      "e = 1.6e-019;  # Energy equivalent of 1 eV, J\n",
      "h = 6.62e-034;    # Planck's constant, Js\n",
      "c = 3.00e+008;    # Speed of light in vacuum, m/s\n",
      "h_bar = h/(2*math.pi);    # Reduced Planck's constant, Js\n",
      "R_N = 1e-015;     # Range of nuclear force, m\n",
      "\n",
      "#Calculations\n",
      "# As delta_E*delta_t = h_bar/2 and delta_E = m_pion*c^2, solving for m_pion\n",
      "m_pion = h_bar*c/(2*R_N*e*1e+006);    # Mass of the meson, MeV/c^2\n",
      "\n",
      "#Result\n",
      "print \"The estimated mass of meson from Heisenberg uncertainty principle = %.2f MeV/c^2\"%(m_pion)"
     ],
     "language": "python",
     "metadata": {},
     "outputs": [
      {
       "output_type": "stream",
       "stream": "stdout",
       "text": [
        "The estimated mass of meson from Heisenberg uncertainty principle = 98.78 MeV/c^2\n"
       ]
      }
     ],
     "prompt_number": 1
    },
    {
     "cell_type": "heading",
     "level": 2,
     "metadata": {},
     "source": [
      "Example 14.2, Page 526"
     ]
    },
    {
     "cell_type": "code",
     "collapsed": false,
     "input": [
      "import math\n",
      "\n",
      "#Variable declaration\n",
      "e = 1.6e-019;  # Energy equivalent of 1 eV, J\n",
      "h = 6.62e-034;    # Planck's constant, Js\n",
      "c = 3.00e+008;    # For simplicity assume speed of light to be unity\n",
      "h_bar = h/(2*math.pi);    # Reduced Planck's constant, Js\n",
      "m_W = 80.4;    # Energy equivalent of mass of W- particle, MeV\n",
      "\n",
      "#Calculations\n",
      "R_W = h_bar*c/(2*m_W*e*1e+009);    # Range of W- particle, m\n",
      "delta_t = h_bar/(2*m_W*e*1e+009);    # Time during which the energy conservation is violated, s\n",
      "\n",
      "#Results\n",
      "print \"The range of W- particle = %3.1e m\"%R_W\n",
      "print \"The time during which the energy conservation is violated = %1.0e s\"%delta_t"
     ],
     "language": "python",
     "metadata": {},
     "outputs": [
      {
       "output_type": "stream",
       "stream": "stdout",
       "text": [
        "The range of W- particle = 1.2e-18 m\n",
        "The time during which the energy conservation is violated = 4e-27 s\n"
       ]
      }
     ],
     "prompt_number": 2
    },
    {
     "cell_type": "heading",
     "level": 2,
     "metadata": {},
     "source": [
      "Example 14.10, Page 548"
     ]
    },
    {
     "cell_type": "code",
     "collapsed": false,
     "input": [
      "import math\n",
      "\n",
      "#Variable declaration\n",
      "m_p = 0.938;    # Rest mass energy of the proton, GeV\n",
      "K = 6.4;    # Kinetic energy of the proton projectile, GeV\n",
      "\n",
      "#Calculations\n",
      "E_cm = math.sqrt(2*m_p**2+2*m_p*K);    # Centre of mass energy of proton collsion with the fixed proton target, GeV\n",
      "Q = 2*m_p - 4*m_p;     # Q value of the reaction, GeV\n",
      "K_th = -3*Q;    # Threshold kinetic energy required to produce the antiprotons, GeV\n",
      "K = 1000;    # Kinetic energy of the protons in Tevatron, GeV\n",
      "E_cm_T = math.sqrt(2*m_p**2+2*m_p*K);    # Centre-of-mass energy available for the reaction for the Tevatron, GeV\n",
      "\n",
      "#Results\n",
      "print \"The available energy in the center on mass = %4.2f GeV\"%E_cm\n",
      "print \"The threshold kinetic energy required to produce the antiprotons = %3.1f GeV\"%K_th\n",
      "print \"The centre-of-mass energy available for the reaction for the Tevatron = %d GeV\"%E_cm_T"
     ],
     "language": "python",
     "metadata": {},
     "outputs": [
      {
       "output_type": "stream",
       "stream": "stdout",
       "text": [
        "The available energy in the center on mass = 3.71 GeV\n",
        "The threshold kinetic energy required to produce the antiprotons = 5.6 GeV\n",
        "The centre-of-mass energy available for the reaction for the Tevatron = 43 GeV\n"
       ]
      }
     ],
     "prompt_number": 3
    },
    {
     "cell_type": "heading",
     "level": 2,
     "metadata": {},
     "source": [
      "Example 14.11, Page 550"
     ]
    },
    {
     "cell_type": "code",
     "collapsed": false,
     "input": [
      "import math\n",
      "\n",
      "#Variable declaration\n",
      "m_p = 0.938;    # Rest mass energy of the proton, GeV\n",
      "E_cm = 14000;    # Centre of mass energy of colliding proton beams at LHC, GeV\n",
      "\n",
      "#Calculations\n",
      "# As E_cm = math.sqrt(2*m_p**2+2*m_p*K), solving for K\n",
      "K = E_cm**2*1e+009/(2*m_p);    # Approx. kinetic energy of the protons needed for fixed-target experiment, eV \n",
      "\n",
      "#Result\n",
      "print \"The kinetic energy of the protons needed for fixed-target experiment = %3.1e eV\"%K"
     ],
     "language": "python",
     "metadata": {},
     "outputs": [
      {
       "output_type": "stream",
       "stream": "stdout",
       "text": [
        "The kinetic energy of the protons needed for fixed-target experiment = 1.0e+17 eV\n"
       ]
      }
     ],
     "prompt_number": 4
    }
   ],
   "metadata": {}
  }
 ]
}