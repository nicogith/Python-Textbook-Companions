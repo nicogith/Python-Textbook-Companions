{
 "metadata": {
  "name": ""
 },
 "nbformat": 3,
 "nbformat_minor": 0,
 "worksheets": [
  {
   "cells": [
    {
     "cell_type": "heading",
     "level": 1,
     "metadata": {},
     "source": [
      "Chapter 10: Crystal Growth and Epitaxy"
     ]
    },
    {
     "cell_type": "heading",
     "level": 2,
     "metadata": {},
     "source": [
      "Example 10.1 Page 337"
     ]
    },
    {
     "cell_type": "code",
     "collapsed": false,
     "input": [
      "#initialisation of variable\n",
      "from math import *\n",
      "N=10**16;#atoms concentration\n",
      "m=60;#mass\n",
      "A=10.8 #atomic weight\n",
      "d=2.53;#density\n",
      "k=.8;#constant\n",
      "Na=6.02*10**23;#avagadro's no.\n",
      "\n",
      "#calculation\n",
      "C=N/k;#initial concentration\n",
      "V=m*10**3/d;#volume\n",
      "Nb=C*V;#no. of bororn atoms\n",
      "M=Nb*A/Na;#mass\n",
      "\n",
      "#result\n",
      "print\"initial concentration is\",round(C,2),\"boron atoms/cm^3\"\n",
      "print\"mass of boron added is\",round(M*1000,3),\"mg\""
     ],
     "language": "python",
     "metadata": {},
     "outputs": [
      {
       "output_type": "stream",
       "stream": "stdout",
       "text": [
        "initial concentration is 1.25e+16 boron atoms/cm^3\n",
        "mass of boron added is 5.318 mg\n"
       ]
      }
     ],
     "prompt_number": 1
    },
    {
     "cell_type": "heading",
     "level": 2,
     "metadata": {},
     "source": [
      "Example 10.3 Page 359"
     ]
    },
    {
     "cell_type": "code",
     "collapsed": false,
     "input": [
      "#initialisation of variable\n",
      "from math import *\n",
      "T=300;#K\n",
      "D=3.64;#diameter\n",
      "Ns=7.54*10**14;#concentration\n",
      "P1=1;#pressure\n",
      "P2=10**-4;#pressure\n",
      "P3=10**-8;#pressure\n",
      "M=32;#mass\n",
      "\n",
      "#calculation\n",
      "t1=Ns*(M*T)**.5/(2.64*10**20*P1);#time for P1\n",
      "t2=Ns*(M*T)**.5/(2.64*10**20*P2);#time for P2\n",
      "t3=Ns*(M*T)**.5/(2.64*10**20*P3);#time for P3\n",
      "\n",
      "#result \n",
      "print\"time for P1 is\",round(t1*1000,2),\"ms\"\n",
      "print\"time for P2 is\",round(t2,2),\"s\"\n",
      "print\"time for P3 is\",round(t3/3600,2),\"hr\""
     ],
     "language": "python",
     "metadata": {},
     "outputs": [
      {
       "output_type": "stream",
       "stream": "stdout",
       "text": [
        "time for P1 is 0.28 ms\n",
        "time for P2 is 2.8 s\n",
        "time for P3 is 7.77 hr\n"
       ]
      }
     ],
     "prompt_number": 3
    },
    {
     "cell_type": "heading",
     "level": 2,
     "metadata": {},
     "source": [
      "Example 10.4 Page 360"
     ]
    },
    {
     "cell_type": "code",
     "collapsed": false,
     "input": [
      "#initialisation of variable\n",
      "from math import *\n",
      "A=.5;#area\n",
      "L=10;#length\n",
      "T=1173;#temperature\n",
      "t=2.8;#thickness\n",
      "d=6*10**14;#surface density\n",
      "k=2.54*10**20;\n",
      "P1=5.5*10**-2;#pressure\n",
      "P2=1.1;#pressure\n",
      "M1=69.72;#Mol.Wt of Ga\n",
      "M2=74.92*2;#Mol.Wt of As2\n",
      "\n",
      "#calculation\n",
      "A1=k*P1*A/(M1*T)**.5/(3*L**2);#arrival rate\n",
      "A2=k*P2*A/(M2*T)**.5/(3*L**2);#arrival rate\n",
      "G=A1*t/d;#growth rate\n",
      "\n",
      "#result\n",
      "print\"growth rate of GaAs2 is\",round(G*60,0),\"nm/min\""
     ],
     "language": "python",
     "metadata": {},
     "outputs": [
      {
       "output_type": "stream",
       "stream": "stdout",
       "text": [
        "growth rate of GaAs2 is 23.0 nm/min\n"
       ]
      }
     ],
     "prompt_number": 2
    }
   ],
   "metadata": {}
  }
 ]
}