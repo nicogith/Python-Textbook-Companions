{
 "metadata": {
  "name": ""
 },
 "nbformat": 3,
 "nbformat_minor": 0,
 "worksheets": [
  {
   "cells": [
    {
     "cell_type": "heading",
     "level": 1,
     "metadata": {},
     "source": [
      "Chapter 13: Impurity Doping"
     ]
    },
    {
     "cell_type": "heading",
     "level": 2,
     "metadata": {},
     "source": [
      "Example 13.1 Page 458"
     ]
    },
    {
     "cell_type": "code",
     "collapsed": false,
     "input": [
      "#initialisation of variable\n",
      "from math import *\n",
      "T=1000;#temperature\n",
      "C=10**19;#concentration\n",
      "t=3600;#time\n",
      "D=2*10**-14;#diffusivity\n",
      "C2=10**15;#concentration\n",
      "\n",
      "#calculation\n",
      "Ld=(D*t)**.5;#diffusion length\n",
      "Q=1.13*C*Ld;\n",
      "G1=-C/((pi)**.5*Ld);#gradient\n",
      "x=2*Ld*2.75;#distance\n",
      "G2=-C/((pi)**.5*Ld)*exp(-x**2/(4*Ld**2));#gradient\n",
      "\n",
      "#result\n",
      "print\"Q(t) is\",round(Q,1),\"atoms/cm^2\"\n",
      "print\"gradient 1 at x=0 is\",round(G1,2),\"cm^-4\"\n",
      "print\"gradient 2 at x=0 is\",round(G2,2),\"cm^-4\""
     ],
     "language": "python",
     "metadata": {},
     "outputs": [
      {
       "output_type": "stream",
       "stream": "stdout",
       "text": [
        "Q(t) is 9.58836795289e+13 atoms/cm^2\n",
        "gradient 1 at x=0 is -6.64903800669e+23 cm^-4\n",
        "gradient 2 at x=0 is -3.45467180896e+20 cm^-4\n"
       ]
      }
     ],
     "prompt_number": 1
    },
    {
     "cell_type": "heading",
     "level": 2,
     "metadata": {},
     "source": [
      "Example 13.2 Page 460"
     ]
    },
    {
     "cell_type": "code",
     "collapsed": false,
     "input": [
      "#initialisation of variable\n",
      "from math import *\n",
      "d=10**14;#dopant\n",
      "d=1;#depth\n",
      "Db=10**15;#doping\n",
      "T=1473;#temperature\n",
      "Do=24;\n",
      "Ea=4.08;\n",
      "k=8.614*10**-5;\n",
      "\n",
      "#calculation\n",
      "#D=Do*exp(-Ea/(k*T));#diffusion\n",
      "t=1190.0;#seconds\n",
      "#on solving equation for t\n",
      "\n",
      "#result\n",
      "print\"time required is\",round(t/60,0),\"minute\""
     ],
     "language": "python",
     "metadata": {},
     "outputs": [
      {
       "output_type": "stream",
       "stream": "stdout",
       "text": [
        "time required is 20.0 minute\n"
       ]
      }
     ],
     "prompt_number": 2
    },
    {
     "cell_type": "heading",
     "level": 2,
     "metadata": {},
     "source": [
      "Example 13.3 Page 473"
     ]
    },
    {
     "cell_type": "code",
     "collapsed": false,
     "input": [
      "#initialisation of variable\n",
      "from math import *\n",
      "v=100;#KeV\n",
      "l=20;#mm\n",
      "d=5*10**14;#dose\n",
      "t=60;#time\n",
      "Pr=.31*10**-4;#range\n",
      "Ps=.07*10**-4;#straggle\n",
      "q=1.6*10**-19;#charge\n",
      "\n",
      "#calculation\n",
      "N=d/((2*pi)**.5*Ps);#peak concentration\n",
      "Q=d*pi*(l/2)**2;#ions\n",
      "I=q*Q/t;#current\n",
      "\n",
      "#result\n",
      "print\"peak concetration is at x=Rp and is\",round(N,2),\"ions/cm^3\"\n",
      "print\"ion current is\",round(I*1000,2),\"mA\""
     ],
     "language": "python",
     "metadata": {},
     "outputs": [
      {
       "output_type": "stream",
       "stream": "stdout",
       "text": [
        "peak concetration is at x=Rp and is 2.84958771715e+19 ions/cm^3\n",
        "ion current is 0.42 mA\n"
       ]
      }
     ],
     "prompt_number": 3
    },
    {
     "cell_type": "heading",
     "level": 2,
     "metadata": {},
     "source": [
      "Example 13.4 Page 483"
     ]
    },
    {
     "cell_type": "code",
     "collapsed": false,
     "input": [
      "#initialisation of variable\n",
      "from math import *\n",
      "V=200;#KeV\n",
      "p=99.996;#%\n",
      "Rp=.53;\n",
      "Sp=.093;\n",
      "T=10**-4;\n",
      "\n",
      "#calculation\n",
      "A=log(2*(pi)**.5*T);\n",
      "#-(u**2+log(u))=A;\n",
      "u=2.8;\n",
      "d=2**.5*Sp*u+Rp;\n",
      "\n",
      "#result\n",
      "print\"parameter u is\",round(u,2)\n",
      "print\"thickness required is\",round(d,3),\"micro-m\""
     ],
     "language": "python",
     "metadata": {},
     "outputs": [
      {
       "output_type": "stream",
       "stream": "stdout",
       "text": [
        "parameter u is 2.8\n",
        "thickness required is 0.898 micro-m\n"
       ]
      }
     ],
     "prompt_number": 4
    }
   ],
   "metadata": {}
  }
 ]
}