{
 "metadata": {
  "name": ""
 },
 "nbformat": 3,
 "nbformat_minor": 0,
 "worksheets": [
  {
   "cells": [
    {
     "cell_type": "heading",
     "level": 1,
     "metadata": {},
     "source": [
      "Chapter 3: Carrier Transport Phenomena"
     ]
    },
    {
     "cell_type": "heading",
     "level": 2,
     "metadata": {},
     "source": [
      "Example 3.1 Page 51"
     ]
    },
    {
     "cell_type": "code",
     "collapsed": false,
     "input": [
      "#initialisation of variable\n",
      "from math import *\n",
      "M=.1;#mobility\n",
      "t=300;#kelvin\n",
      "n=.26;\n",
      "q=1.6*10**-19;#C\n",
      "m=9.1*10**-31;#kg\n",
      "v=100000;#m/s\n",
      "\n",
      "#calculation\n",
      "T=(n*m*M)/q;#mean free time\n",
      "P=v*T;#mean free path\n",
      "\n",
      "#result\n",
      "print\"mean free time is\",round(T*10**12,3),\"ps\"\n",
      "print\"mean free path is\",round(P*10**9,1),\"nm\""
     ],
     "language": "python",
     "metadata": {},
     "outputs": [
      {
       "output_type": "stream",
       "stream": "stdout",
       "text": [
        "mean free time is 0.148 ps\n",
        "mean free path is 14.8 nm\n"
       ]
      }
     ],
     "prompt_number": 4
    },
    {
     "cell_type": "heading",
     "level": 2,
     "metadata": {},
     "source": [
      "Example 3.2 Page 54"
     ]
    },
    {
     "cell_type": "code",
     "collapsed": false,
     "input": [
      "#initialisation of variable\n",
      "from math import *\n",
      "D=10**16;#doping\n",
      "n=1300;\n",
      "q=1.6*10**-19;#Charge\n",
      "\n",
      "#calculation\n",
      "R=1/(D*n*q);#resistivity\n",
      "\n",
      "#result\n",
      "print\"resistivity is\",round(R,2),\"ohm-cm\""
     ],
     "language": "python",
     "metadata": {},
     "outputs": [
      {
       "output_type": "stream",
       "stream": "stdout",
       "text": [
        "resistivity is 0.48 ohm-cm\n"
       ]
      }
     ],
     "prompt_number": 5
    },
    {
     "cell_type": "heading",
     "level": 2,
     "metadata": {},
     "source": [
      "Example 3.3 Page 56"
     ]
    },
    {
     "cell_type": "code",
     "collapsed": false,
     "input": [
      "#initialisation of variable\n",
      "from math import *\n",
      "D=10**16;#doping\n",
      "W=500;#width\n",
      "A=2.5/1000;#area\n",
      "I=1;#mA\n",
      "B=10**-4;#Wb/cm^2\n",
      "q=1.6*10**-19;#charge\n",
      "\n",
      "#calculation\n",
      "R=-1/(q*D);#hall coefficient\n",
      "Vh=(R*I*B*W)/A;#hall voltage\n",
      "\n",
      "#result\n",
      "print\"Hall voltage is\",round(Vh/10000,2),\"mV\""
     ],
     "language": "python",
     "metadata": {},
     "outputs": [
      {
       "output_type": "stream",
       "stream": "stdout",
       "text": [
        "Hall voltage is -1.25 mV\n"
       ]
      }
     ],
     "prompt_number": 1
    },
    {
     "cell_type": "heading",
     "level": 2,
     "metadata": {},
     "source": [
      "Example 3.4 Page 58"
     ]
    },
    {
     "cell_type": "code",
     "collapsed": false,
     "input": [
      "#initialisation of variable\n",
      "from math import *\n",
      "T=300;#K\n",
      "n1=10**18;#concentration\n",
      "n2=7*10**17;#concentration\n",
      "x=.1;#distance\n",
      "D=22.5;#diffusion coefficient\n",
      "q=1.6*10**-19;#charge\n",
      "\n",
      "#calculation\n",
      "Id=q*D*(n1-n2)/x;#diffusion current\n",
      "\n",
      "#result\n",
      "print\"diffusion current density is\",round(Id,2),\"A/cm^2\""
     ],
     "language": "python",
     "metadata": {},
     "outputs": [
      {
       "output_type": "stream",
       "stream": "stdout",
       "text": [
        "diffusion current density is 10.8 A/cm^2\n"
       ]
      }
     ],
     "prompt_number": 6
    },
    {
     "cell_type": "heading",
     "level": 2,
     "metadata": {},
     "source": [
      "Example 3.5 Page 59"
     ]
    },
    {
     "cell_type": "code",
     "collapsed": false,
     "input": [
      "#initialisation of variable\n",
      "from math import *\n",
      "E=50;#V/cm\n",
      "x=1;#cm\n",
      "t=.1#ms\n",
      "\n",
      "#calculation\n",
      "Vd=x/t;#drift velocity\n",
      "u=Vd/E;\n",
      "D=.0259*u;#diffusivity\n",
      "\n",
      "#result\n",
      "print\"drift velocity is\",round(Vd*1000,2),\"cm/s\"\n",
      "print\"diffusivity is\",round(D*1000,2),\"cm^2/s\""
     ],
     "language": "python",
     "metadata": {},
     "outputs": [
      {
       "output_type": "stream",
       "stream": "stdout",
       "text": [
        "drift velocity is 10000.0 cm/s\n",
        "diffusivity is 5.18 cm^2/s\n"
       ]
      }
     ],
     "prompt_number": 1
    },
    {
     "cell_type": "heading",
     "level": 2,
     "metadata": {},
     "source": [
      "Example 3.6 Page 63"
     ]
    },
    {
     "cell_type": "code",
     "collapsed": false,
     "input": [
      "#initialisation of variable\n",
      "from math import *\n",
      "n1=10**14;#concentration\n",
      "n2=9.65*10**9;\n",
      "n3=10**13;#hole-pair concentration\n",
      "t=2;#time\n",
      "\n",
      "#calculation\n",
      "p=((n2)**2)/n1;\n",
      "C=p+t*n3;#concentration\n",
      "\n",
      "#result\n",
      "print\"change in minority carrier concentration is\",round(C/10**13)*10**13,\"cm^-3\""
     ],
     "language": "python",
     "metadata": {},
     "outputs": [
      {
       "output_type": "stream",
       "stream": "stdout",
       "text": [
        "change in minority carrier concentration is 2e+13 cm^-3\n"
       ]
      }
     ],
     "prompt_number": 7
    },
    {
     "cell_type": "heading",
     "level": 2,
     "metadata": {},
     "source": [
      "Example 3.7 Page 71"
     ]
    },
    {
     "cell_type": "code",
     "collapsed": false,
     "input": [
      "#initialisation of variable\n",
      "from math import *\n",
      "t1=100;#time\n",
      "t2=200;#time\n",
      "f=5;#factor\n",
      "\n",
      "#calculation\n",
      "L=(t2-t1)/log(f/2**.5);#lifetime\n",
      "\n",
      "#result\n",
      "print\"minority carrier lifetime is\",round(L,0),\"micro sec\""
     ],
     "language": "python",
     "metadata": {},
     "outputs": [
      {
       "output_type": "stream",
       "stream": "stdout",
       "text": [
        "minority carrier lifetime is 79.0 micro sec\n"
       ]
      }
     ],
     "prompt_number": 6
    },
    {
     "cell_type": "heading",
     "level": 2,
     "metadata": {},
     "source": [
      "Example 3.8 Page 73"
     ]
    },
    {
     "cell_type": "code",
     "collapsed": false,
     "input": [
      "#initialisation of variable\n",
      "from math import *\n",
      "E1=4.05;#eV\n",
      "E2=.2;#eV\n",
      "n=2.86*10**19;#concentration\n",
      "E3=.6;#eV\n",
      "\n",
      "#calculation\n",
      "N1=n*exp(-(E1+E2)/.0259);#electron density\n",
      "N3=n*exp(-(E2+E3)/.0259);#electron density\n",
      "\n",
      "#result\n",
      "print\"emitted electron density 1 is\",round(N1/2,52),\"is almost equals 0\"\n",
      "print\"emitted electron density 2 is\",round(round(N3/1000000)*10**6,2),\"cm^-3\""
     ],
     "language": "python",
     "metadata": {},
     "outputs": [
      {
       "output_type": "stream",
       "stream": "stdout",
       "text": [
        "emitted electron density 1 is 1e-52 is almost equals 0\n",
        "emitted electron density 2 is 1000000.0 cm^-3\n"
       ]
      }
     ],
     "prompt_number": 5
    }
   ],
   "metadata": {}
  }
 ]
}