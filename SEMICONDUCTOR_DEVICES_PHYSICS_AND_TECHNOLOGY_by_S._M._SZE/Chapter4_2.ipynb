{
 "metadata": {
  "name": ""
 },
 "nbformat": 3,
 "nbformat_minor": 0,
 "worksheets": [
  {
   "cells": [
    {
     "cell_type": "heading",
     "level": 1,
     "metadata": {},
     "source": [
      "Chapter 4: p-n Junction"
     ]
    },
    {
     "cell_type": "heading",
     "level": 2,
     "metadata": {},
     "source": [
      "Example 4.1, Page92"
     ]
    },
    {
     "cell_type": "code",
     "collapsed": false,
     "input": [
      "#initialisation of variable\n",
      "from math import *\n",
      "Na=10**18;#concentration\n",
      "Nd=10**15;#concentration\n",
      "N=9.65*10**9\n",
      "\n",
      "#calculation\n",
      "Vb=.0259*log(Na*Nd/N**2);#built in potential\n",
      "\n",
      "#result\n",
      "print\"built in potential is\",round(Vb,3),\"V\""
     ],
     "language": "python",
     "metadata": {},
     "outputs": [
      {
       "output_type": "stream",
       "stream": "stdout",
       "text": [
        "Populating the interactive namespace from numpy and matplotlib\n",
        "built in potential is 0.777 V\n"
       ]
      }
     ],
     "prompt_number": 1
    },
    {
     "cell_type": "heading",
     "level": 2,
     "metadata": {},
     "source": [
      "Example4.2 Page96"
     ]
    },
    {
     "cell_type": "code",
     "collapsed": false,
     "input": [
      "#initialisation of variable\n",
      "from math import *\n",
      "Na=10**19;#concentration\n",
      "Nd=10**16#concentration\n",
      "N=9.65*10**9\n",
      "q=1.6*10**-19#charge\n",
      "Es=10**-12;#constant\n",
      "\n",
      "#calculation\n",
      "Vb=.0259*log(Na*Nd/N**2);#voltage\n",
      "W=(2*Es*Vb/q/Nd)**.5;#width\n",
      "Em=q*W*Na/Es;#field\n",
      "\n",
      "#result\n",
      "print\"built in potential is\",round(Vb,3),\"V\"\n",
      "print\"depletion layer width is\",round(W*10**4,3),\"micro-m\"\n",
      "print\"maximum field at zero bias is\",round(Em/10299,0),\"V/cm\""
     ],
     "language": "python",
     "metadata": {},
     "outputs": [
      {
       "output_type": "stream",
       "stream": "stdout",
       "text": [
        "built in potential is 0.896 V\n",
        "depletion layer width is 0.335 micro-m\n",
        "maximum field at zero bias is 5200.0 V/cm\n"
       ]
      }
     ],
     "prompt_number": 1
    },
    {
     "cell_type": "heading",
     "level": 2,
     "metadata": {},
     "source": [
      "Example4.3 Page 99"
     ]
    },
    {
     "cell_type": "code",
     "collapsed": false,
     "input": [
      "#initialisation of variable\n",
      "from math import *\n",
      "I=10**20;#impurity\n",
      "W=.50;#width\n",
      "q=1.6*10**-19;#charge\n",
      "E=8.85*10**-14#constant\n",
      "N=9.65*10**9;#concentration\n",
      "\n",
      "#calculation\n",
      "Em=q*I*W**2/(8*11.9*E);#maximum field\n",
      "Vb=.0259*I*W/N/2;#built-in voltage\n",
      "\n",
      "#result\n",
      "print\"maximum field is\",round(Em/10**8,0),\"V/cm\"\n",
      "print\"built-in voltage is\",round(Vb/10**8,2),\"V\""
     ],
     "language": "python",
     "metadata": {},
     "outputs": [
      {
       "output_type": "stream",
       "stream": "stdout",
       "text": [
        "maximum field is 4748.0 V/cm\n",
        "built-in voltage is 0.67 V\n"
       ]
      }
     ],
     "prompt_number": 14
    },
    {
     "cell_type": "heading",
     "level": 2,
     "metadata": {},
     "source": [
      "Example4.4 Page101"
     ]
    },
    {
     "cell_type": "code",
     "collapsed": false,
     "input": [
      "#initialisation of variable\n",
      "from math import *\n",
      "Na=2*10**19;#concentration\n",
      "Nd=8*10**15;#concentration\n",
      "V=4.0;#voltage\n",
      "N=9.65*10**9\n",
      "q=1.6*10**-19;#charge\n",
      "E=10.53*10**-13#constant\n",
      "\n",
      "#calculation\n",
      "Vb=.0259*log(Na*Nd/N**2);#voltage at zero bias\n",
      "W1=(2*E*Vb/q/Nd)**.5;#width\n",
      "C1=E/W1;#capacitance at zero bias\n",
      "W2=(2*E*(Vb+V)/q/Nd)**.5;#width\n",
      "C2=E/W2;#capacitance at reverse bias\n",
      "\n",
      "#result\n",
      "print\"capacitance at zero bias is\",round(C1,11),\"F/cm^2\"\n",
      "print\"capacitance at reverse bias is\",round(C2,11),\"F/cm^2\""
     ],
     "language": "python",
     "metadata": {},
     "outputs": [
      {
       "output_type": "stream",
       "stream": "stdout",
       "text": [
        "capacitance at zero bias is 2.723e-08 F/cm^2\n",
        "capacitance at reverse bias is 1.172e-08 F/cm^2\n"
       ]
      }
     ],
     "prompt_number": 2
    },
    {
     "cell_type": "heading",
     "level": 2,
     "metadata": {},
     "source": [
      "Example 4.5 Page109"
     ]
    },
    {
     "cell_type": "code",
     "collapsed": false,
     "input": [
      "#initialisation of variable\n",
      "from math import *\n",
      "Na=5*10**16;#concentration\n",
      "Nd=10**16;#concentration\n",
      "N=9.65*10**9\n",
      "Dn=21\n",
      "A=2*10**-4;#area\n",
      "Dp=10\n",
      "T=5*10**-7;#time\n",
      "q=1.6*10**-19;#charge\n",
      "\n",
      "#calculation\n",
      "J=q*(N**2)*(((Dp/T)**.5)/Nd +((Dn/T)**.5)/Na);#current density\n",
      "I=A*J;#ideal reverse current\n",
      "\n",
      "#result\n",
      "print\"ideal reverse current is\",round(I,17),\"A\"\n"
     ],
     "language": "python",
     "metadata": {},
     "outputs": [
      {
       "output_type": "stream",
       "stream": "stdout",
       "text": [
        "ideal reverse current is 1.72e-15 A\n"
       ]
      }
     ],
     "prompt_number": 3
    },
    {
     "cell_type": "heading",
     "level": 2,
     "metadata": {},
     "source": [
      "Example4.6 Page110"
     ]
    },
    {
     "cell_type": "code",
     "collapsed": false,
     "input": [
      "#initialisation of variable\n",
      "from math import *\n",
      "Na=5*10**16;#concentration\n",
      "Nd=10**16;#concentration\n",
      "N=9.65*10**9\n",
      "V=4;#voltage\n",
      "E=10.53*10**-13;#constant\n",
      "T=5*10**-7;#time\n",
      "q=1.6*10**-19;#charge\n",
      "\n",
      "#calculation\n",
      "W=(2*E*(Na+Nd)/(q*Na*Nd)*(.0259*log(Na*Nd/N**2)+V))**.5;#width\n",
      "J=q*N*W/T;#current density\n",
      "\n",
      "#result\n",
      "print\"generation current density is\",round(J,9),\"A/cm^2\""
     ],
     "language": "python",
     "metadata": {},
     "outputs": [
      {
       "output_type": "stream",
       "stream": "stdout",
       "text": [
        "generation current density is 2.68e-07 A/cm^2\n"
       ]
      }
     ],
     "prompt_number": 4
    },
    {
     "cell_type": "heading",
     "level": 2,
     "metadata": {},
     "source": [
      "Example 4.7 Page115"
     ]
    },
    {
     "cell_type": "code",
     "collapsed": false,
     "input": [
      "#initialisation of variable\n",
      "from math import *\n",
      "Nd=8*10**15;#concentration\n",
      "V=1.00;#voltage\n",
      "L=5*10**-4;#length of holes\n",
      "q=1.6*10**-19;#charge\n",
      "N=9.65*10**9\n",
      "\n",
      "#calculation\n",
      "Q=q*L*N**2/Nd*(e**(1/.0259)-1);#minority carriers\n",
      "\n",
      "#result\n",
      "print\"stored minority carriers is\",round(Q,2),\"C/cm^2\"\n",
      "print\"the answer in book is slightly wrong\""
     ],
     "language": "python",
     "metadata": {},
     "outputs": [
      {
       "output_type": "stream",
       "stream": "stdout",
       "text": [
        "stored minority carriers is 0.05 C/cm^2\n",
        "the answer in book is slightly wrong\n"
       ]
      }
     ],
     "prompt_number": 16
    },
    {
     "cell_type": "heading",
     "level": 2,
     "metadata": {},
     "source": [
      "Example4.8, Page120"
     ]
    },
    {
     "cell_type": "code",
     "collapsed": false,
     "input": [
      "#initialisation of variable\n",
      "from math import *\n",
      "Nd=5*10**16;#concentration\n",
      "E=10.53*10**-13;#constant\n",
      "N=5.7*10**5\n",
      "q=1.6*10**-19;#charge\n",
      "\n",
      "#calculation\n",
      "Vb=E*N**2/2/q/Nd;#breakdown voltage\n",
      "\n",
      "#result\n",
      "print\"breakdown voltage is\",round(Vb,1),\"V\""
     ],
     "language": "python",
     "metadata": {},
     "outputs": [
      {
       "output_type": "stream",
       "stream": "stdout",
       "text": [
        "breakdown voltage is 21.4 V\n"
       ]
      }
     ],
     "prompt_number": 34
    },
    {
     "cell_type": "heading",
     "level": 2,
     "metadata": {},
     "source": [
      "Example4.9 Page122"
     ]
    },
    {
     "cell_type": "code",
     "collapsed": false,
     "input": [
      "#initialisation of variable\n",
      "from math import *\n",
      "Nb=8*10**14;#concentration\n",
      "E=8.85*10**-14;#constant\n",
      "q=1.6*10**-19;#charge\n",
      "V=500;#voltage\n",
      "W=20*10**-4;#width\n",
      "\n",
      "#calculation\n",
      "Wm=(24.8*E*V/q/Nb)**.5;#width\n",
      "Vb=V*(W/Wm)*(2-(W/Wm));#breakdown voltage\n",
      "\n",
      "#result\n",
      "print\"width is\",round(Wm*10**4,1),\"micro-m\"\n",
      "print\"breakdown voltage is\",round(Vb,3),\"V\""
     ],
     "language": "python",
     "metadata": {},
     "outputs": [
      {
       "output_type": "stream",
       "stream": "stdout",
       "text": [
        "width is 29.3 micro-m\n",
        "breakdown voltage is 449.771 V\n"
       ]
      }
     ],
     "prompt_number": 10
    },
    {
     "cell_type": "heading",
     "level": 2,
     "metadata": {},
     "source": [
      "Example4.10 Page126"
     ]
    },
    {
     "cell_type": "code",
     "collapsed": false,
     "input": [
      "#initialisation of variable\n",
      "from math import *\n",
      "V=1.60;#voltage\n",
      "C1=10**16;#concentration\n",
      "C2=3*10**19;#concentration\n",
      "D1=12.00;#dielectric constant\n",
      "D2=13.00;#dielectric constant\n",
      "E=8.85*10**-14;#constant\n",
      "q=1.6*10**-19;#charge\n",
      "\n",
      "#calculation\n",
      "V1=D2*C2*V/(D1*C1+D2*C2);#voltage\n",
      "V2=D1*C1*V/(D1*C1+D2*C2);#voltage\n",
      "W1=(2*D1*D2*E*C2*V/(C1*D1+C2*D2)/q/C1)**.5;#depletion width\n",
      "W2=(2*D1*D2*E*C1*V/(C1*D1+C2*D2)/q/C2)**.5;#depletion width\n",
      "\n",
      "#result\n",
      "print\"electrostatic potential 1 is\",round(V1,2),\"V\"\n",
      "print\"electrostatic potential 2 is\",round(V2,5),\"V\"\n",
      "print\"depletion width 1 is\",round(W1,8),\"cm\"\n",
      "print\"depletion width 2 is\",round(W2,11),\"cm\""
     ],
     "language": "python",
     "metadata": {},
     "outputs": [
      {
       "output_type": "stream",
       "stream": "stdout",
       "text": [
        "electrostatic potential 1 is 1.6 V\n",
        "electrostatic potential 2 is 0.00049 V\n",
        "depletion width 1 is 4.608e-05 cm\n",
        "depletion width 2 is 1.536e-08 cm\n"
       ]
      }
     ],
     "prompt_number": 11
    }
   ],
   "metadata": {}
  }
 ]
}