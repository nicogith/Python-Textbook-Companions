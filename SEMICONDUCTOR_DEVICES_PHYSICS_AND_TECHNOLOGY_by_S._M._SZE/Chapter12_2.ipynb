{
 "metadata": {
  "name": ""
 },
 "nbformat": 3,
 "nbformat_minor": 0,
 "worksheets": [
  {
   "cells": [
    {
     "cell_type": "heading",
     "level": 1,
     "metadata": {},
     "source": [
      "Chapter 12: Lithography and Etching"
     ]
    },
    {
     "cell_type": "heading",
     "level": 2,
     "metadata": {},
     "source": [
      "Example 12.1 Page 406"
     ]
    },
    {
     "cell_type": "code",
     "collapsed": false,
     "input": [
      "#initialisation of variable\n",
      "from math import *\n",
      "l=.2;#mm\n",
      "t=1;#time\n",
      "F=30;#flow\n",
      "p=350;#particles\n",
      "\n",
      "#calculation\n",
      "V=F*pi*(l/2)**2*t;#volume\n",
      "N=p*V;#number\n",
      "\n",
      "#result\n",
      "print\"air volume in 1min in waafer\",round(V,3),\"m^3\"\n",
      "print\"number of dust particles is\",round(N,0)"
     ],
     "language": "python",
     "metadata": {},
     "outputs": [
      {
       "output_type": "stream",
       "stream": "stdout",
       "text": [
        "air volume in 1min in waafer 0.942 m^3\n",
        "number of dust particles is 330.0\n"
       ]
      }
     ],
     "prompt_number": 1
    },
    {
     "cell_type": "heading",
     "level": 2,
     "metadata": {},
     "source": [
      "Example 12.2 Page 414"
     ]
    },
    {
     "cell_type": "code",
     "collapsed": false,
     "input": [
      "#initialisation of variable\n",
      "from math import *\n",
      "Et1=90;#mJ/cm^2\n",
      "E11=45;#mJ/cm^2\n",
      "Et2=7.0;#mJ/cm^2\n",
      "E12=12.0;#mJ/cm^2\n",
      "\n",
      "#calculation\n",
      "G1=(log(Et1/E11))**-1;#gamma1\n",
      "G2=(log(E12/Et2))**-1;#gamma2\n",
      "\n",
      "#result\n",
      "print\"for +ve resist gamma is\",round(G1,1)\n",
      "print\"for -ve resist gamma is\",round(G2,1)"
     ],
     "language": "python",
     "metadata": {},
     "outputs": [
      {
       "output_type": "stream",
       "stream": "stdout",
       "text": [
        "for +ve resist gamma is 1.4\n",
        "for -ve resist gamma is 1.9\n"
       ]
      }
     ],
     "prompt_number": 2
    },
    {
     "cell_type": "heading",
     "level": 2,
     "metadata": {},
     "source": [
      "Example 12.3 Page 427"
     ]
    },
    {
     "cell_type": "code",
     "collapsed": false,
     "input": [
      "#initialisation of variable\n",
      "from math import *\n",
      "Ec=750.0;#centre\n",
      "El=812.0;#left\n",
      "Er=765.0;#right\n",
      "Et=743.0;#top\n",
      "Eb=798.0;#bottom\n",
      "D=200.0;#diameter\n",
      "\n",
      "#calculation\n",
      "A=(Ec+El+Er+Et+Eb)/5;#average\n",
      "U=(El-Et)/(El+Et)*100;#uniformity\n",
      "\n",
      "#result\n",
      "print\"average etch rate is\",round(A,1),\"nm/min\"\n",
      "print\"etch rate uniformity is\",round(U,1),\"%\""
     ],
     "language": "python",
     "metadata": {},
     "outputs": [
      {
       "output_type": "stream",
       "stream": "stdout",
       "text": [
        "average etch rate is 773.6 nm/min\n",
        "etch rate uniformity is 4.4 %\n"
       ]
      }
     ],
     "prompt_number": 3
    },
    {
     "cell_type": "heading",
     "level": 2,
     "metadata": {},
     "source": [
      "Example 12.4 Page 433"
     ]
    },
    {
     "cell_type": "code",
     "collapsed": false,
     "input": [
      "#initialisation of variable\n",
      "from math import *\n",
      "Pr=200;#pressure\n",
      "Ph=5;#pressure\n",
      "Na=6.02*10**23;#avagadro no.\n",
      "R=.082;#rydberg's constant\n",
      "T=300;#K\n",
      "E1=10**9;#electron density\n",
      "E2=10**10;#electron density\n",
      "E3=10**11;#electron density\n",
      "E4=10**12;#electron density\n",
      "\n",
      "#calculation\n",
      "#For RIE system\n",
      "N1=Pr/(760000*R*T)*Na/1000;\n",
      "Ie1=E1/N1;#efficiency\n",
      "Ie2=E2/N1;#efficiency\n",
      "#For HDP system\n",
      "N2=Ph/(760000*R*T)*Na/1000;\n",
      "Ie3=E3/N2;#efficiency\n",
      "Ie4=E4/N2;#efficiency\n",
      "\n",
      "#result\n",
      "print\"Ionization efficiency for RIE ranges from\",round(Ie1,9),\"to\",round(Ie2,8)\n",
      "print\"Ionization efficiency for HDP ranges from\",round(Ie3,6),\"to\",round(Ie4,5)"
     ],
     "language": "python",
     "metadata": {},
     "outputs": [
      {
       "output_type": "stream",
       "stream": "stdout",
       "text": [
        "Ionization efficiency for RIE ranges from 1.55e-07 to 1.55e-06\n",
        "Ionization efficiency for HDP ranges from 0.000621 to 0.00621\n"
       ]
      }
     ],
     "prompt_number": 4
    }
   ],
   "metadata": {}
  }
 ]
}