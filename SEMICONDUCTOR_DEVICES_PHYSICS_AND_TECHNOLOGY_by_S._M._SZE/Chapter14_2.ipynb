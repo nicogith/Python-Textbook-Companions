{
 "metadata": {
  "name": ""
 },
 "nbformat": 3,
 "nbformat_minor": 0,
 "worksheets": [
  {
   "cells": [
    {
     "cell_type": "heading",
     "level": 1,
     "metadata": {},
     "source": [
      "Chapter 14: Integrated Devices"
     ]
    },
    {
     "cell_type": "heading",
     "level": 2,
     "metadata": {},
     "source": [
      "Example 14.1 Page 493"
     ]
    },
    {
     "cell_type": "code",
     "collapsed": false,
     "input": [
      "#initialisation of variable\n",
      "\n",
      "from math import *\n",
      "Rs=1;#resistance\n",
      "l=90;#length\n",
      "w=10;#width\n",
      "e=1.3;\n",
      "\n",
      "#calculation\n",
      "n=l/w;#number\n",
      "R=(n+e)*Rs;#resistance\n",
      "\n",
      "#result\n",
      "print\"resistance is\",round(R,2),\"Kohm\""
     ],
     "language": "python",
     "metadata": {},
     "outputs": [
      {
       "output_type": "stream",
       "stream": "stdout",
       "text": [
        "resistance is 10.3 Kohm\n"
       ]
      }
     ],
     "prompt_number": 1
    },
    {
     "cell_type": "heading",
     "level": 2,
     "metadata": {},
     "source": [
      "Example 14.2 Page 494"
     ]
    },
    {
     "cell_type": "code",
     "collapsed": false,
     "input": [
      "#initialisation of variable\n",
      "from math import *\n",
      "A=4*10**-8;#area\n",
      "E=8.85*10**-14;#constant\n",
      "V=5;#voltage\n",
      "t1=1*10**-6;#nm\n",
      "t2=5*10**-7;#nm\n",
      "D1=3.9;#dielectric constant\n",
      "D2=25;#dielectric constant\n",
      "q=1.6*10**-19;#charge\n",
      "\n",
      "#calculation\n",
      "Qa=D1*E*A*V/t1;#charge\n",
      "Na=Qa/q;#number\n",
      "Qb=D2*E*A*V/t2;#charge\n",
      "Nb=Qb/q;#number\n",
      "\n",
      "#result\n",
      "print\"stored charge for Sio2 is\",round(Qa,16),\"C\"\n",
      "print\"stored charge for Ta2O5 is\",round(Qb,15),\"C\"\n",
      "print\"no. of electrons for Sio2 is\",round(Na,2),\"electrons\"\n",
      "print\"no. of electrons for ta2O5 is\",round(Nb,2),\"electrons\""
     ],
     "language": "python",
     "metadata": {},
     "outputs": [
      {
       "output_type": "stream",
       "stream": "stdout",
       "text": [
        "stored charge for Sio2 is 6.9e-14 C\n",
        "stored charge for Ta2O5 is 8.85e-13 C\n",
        "no. of electrons for Sio2 is 431437.5 electrons\n",
        "no. of electrons for ta2O5 is 5531250.0 electrons\n"
       ]
      }
     ],
     "prompt_number": 2
    },
    {
     "cell_type": "heading",
     "level": 2,
     "metadata": {},
     "source": [
      "Example 14.3 Page 496"
     ]
    },
    {
     "cell_type": "code",
     "collapsed": false,
     "input": [
      "#initialisation of variable\n",
      "from math import *\n",
      "H=10**-8;#Henry\n",
      "N=20;#turns\n",
      "u=1.2*10**-6;#constant\n",
      "\n",
      "#calculation\n",
      "r=H/u/N**2;#radius\n",
      "\n",
      "#result\n",
      "print\"required radius is\",round(r*10**6,1),\"micro-m\""
     ],
     "language": "python",
     "metadata": {},
     "outputs": [
      {
       "output_type": "stream",
       "stream": "stdout",
       "text": [
        "required radius is 20.8 micro-m\n"
       ]
      }
     ],
     "prompt_number": 3
    },
    {
     "cell_type": "heading",
     "level": 2,
     "metadata": {},
     "source": [
      "Example 14.4 Page 507"
     ]
    },
    {
     "cell_type": "code",
     "collapsed": false,
     "input": [
      "#initialisation of variable\n",
      "from math import *\n",
      "l=5;#length\n",
      "B=8;#MV/cm\n",
      "\n",
      "#calculation\n",
      "V=l*B;#voltage\n",
      "\n",
      "#result\n",
      "print\"gate-to-source voltage is\",round(V/10,2),\"V\""
     ],
     "language": "python",
     "metadata": {},
     "outputs": [
      {
       "output_type": "stream",
       "stream": "stdout",
       "text": [
        "gate-to-source voltage is 4.0 V\n"
       ]
      }
     ],
     "prompt_number": 4
    },
    {
     "cell_type": "heading",
     "level": 2,
     "metadata": {},
     "source": [
      "Example 14.5 Page 525"
     ]
    },
    {
     "cell_type": "code",
     "collapsed": false,
     "input": [
      "#initialisation of variable\n",
      "from math import *\n",
      "t=1.5;#thickness\n",
      "eo=3.9;\n",
      "e1=7;\n",
      "e2=25;#for Ta2O5\n",
      "e3=80;#for TiO2\n",
      "\n",
      "#calculation\n",
      "Dn=t*e1/eo;#nitride\n",
      "D1=t*e2/eo;#for Ta2O5\n",
      "D2=t*e3/eo;#for TiO2\n",
      "\n",
      "#result\n",
      "print\"oxide thickness for nitride is\",round(Dn,2),\"nm\"\n",
      "print\"oxide thickness for Ta2O5 is\",round(D1,2),\"nm\"\n",
      "print\"oxide thickness for TiO2 is\",round(D2,2),\"nm\"\n",
      "print\"the answer for part 3 is incorrect in the textbook\""
     ],
     "language": "python",
     "metadata": {},
     "outputs": [
      {
       "output_type": "stream",
       "stream": "stdout",
       "text": [
        "oxide thickness for nitride is 2.69 nm\n",
        "oxide thickness for Ta2O5 is 9.62 nm\n",
        "oxide thickness for TiO2 is 30.77 nm\n",
        "the answer for part 3 is incorrect in the textbook\n"
       ]
      }
     ],
     "prompt_number": 2
    }
   ],
   "metadata": {}
  }
 ]
}