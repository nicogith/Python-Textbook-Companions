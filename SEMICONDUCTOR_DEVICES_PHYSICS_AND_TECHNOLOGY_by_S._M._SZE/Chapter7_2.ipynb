{
 "metadata": {
  "name": ""
 },
 "nbformat": 3,
 "nbformat_minor": 0,
 "worksheets": [
  {
   "cells": [
    {
     "cell_type": "heading",
     "level": 1,
     "metadata": {},
     "source": [
      "Chapter 7:MESFET and Related Devices"
     ]
    },
    {
     "cell_type": "heading",
     "level": 2,
     "metadata": {},
     "source": [
      "Example 7.1 Page 231"
     ]
    },
    {
     "cell_type": "code",
     "collapsed": false,
     "input": [
      "#initialisation of variable\n",
      "from math import *\n",
      "S=-4.4*10**15;#slope\n",
      "q=1.6*10**-19;#charge\n",
      "E=11.9*8.85*10**-14;#constant\n",
      "Vb=.42;#Voltage\n",
      "\n",
      "#calculation\n",
      "N=2/(q*E)/-S;#concentration\n",
      "V=.0259*log(2.86*10**19/(2.7*10**15));#voltage\n",
      "B=Vb+V;#barrier height\n",
      "\n",
      "#result\n",
      "print\"donor concentration is\",round(N,2),\"cm^-3\"\n",
      "print\"barrier height is\",round(B,2),\"V\""
     ],
     "language": "python",
     "metadata": {},
     "outputs": [
      {
       "output_type": "stream",
       "stream": "stdout",
       "text": [
        "donor concentration is 2.69753510033e+15 cm^-3\n",
        "barrier height is 0.66 V\n"
       ]
      }
     ],
     "prompt_number": 1
    },
    {
     "cell_type": "heading",
     "level": 2,
     "metadata": {},
     "source": [
      "Example 7.2 Page 233"
     ]
    },
    {
     "cell_type": "code",
     "collapsed": false,
     "input": [
      "#initialisation of variable\n",
      "from math import *\n",
      "Nd=10**16;#concentration\n",
      "t=10**-6;#time\n",
      "Js=6.5*10**-5;#A/cm^2\n",
      "Nc=2.86*10**19;\n",
      "q=1.6*10**-19;#charge\n",
      "Dp=10;\n",
      "E=4.096*10**-10;#constant\n",
      "N=9.65*10**9;\n",
      "\n",
      "#calculation\n",
      "Bn=.0259*log(110*300**2/Js);#barrier height\n",
      "Vn=.0259*log(Nc/Nd);\n",
      "V=Bn-Vn;#built-in potential\n",
      "W=(2*E*V/q/Nd)**.5;#depletion layer width\n",
      "Lp=(Dp*t)**.5;\n",
      "Jp=q*Dp*N**2/Lp/Nd;#minority carrier current density\n",
      "R=Js/Jp;#ratio\n",
      "\n",
      "#result\n",
      "print\"built-in potential is\",round(V,2),\"V\"\n",
      "print\"depletion layer width is\",round(W/10**8,14),\"cm\"\n",
      "print\"ratio of Js to Jpo is\",round(R,2)"
     ],
     "language": "python",
     "metadata": {},
     "outputs": [
      {
       "output_type": "stream",
       "stream": "stdout",
       "text": [
        "built-in potential is 0.46 V\n",
        "depletion layer width is 4.86e-12 cm\n",
        "ratio of Js to Jpo is 13795541.35\n"
       ]
      }
     ],
     "prompt_number": 2
    },
    {
     "cell_type": "heading",
     "level": 2,
     "metadata": {},
     "source": [
      "Example 7.3 Page 236"
     ]
    },
    {
     "cell_type": "code",
     "collapsed": false,
     "input": [
      "#initialisation of variable\n",
      "from math import *\n",
      "A=10**-5;#area\n",
      "R=10**-6;#resistance\n",
      "Nd=5*10**19;\n",
      "V=.8;#Voltage\n",
      "M=.26*9.1*10**-31;#mass\n",
      "I=1;#A\n",
      "E=1.05*10**-12;#constant\n",
      "h=1.05*10**-34;#constant\n",
      "\n",
      "#calculation\n",
      "Rc=R/A;#ohmic resistance\n",
      "C=2*(M*E)**.5/h*10;\n",
      "Io=1/Rc*(Nd*10**6)**.5/C*exp(C*V/(Nd*10**6)**.5);#current\n",
      "Vd=V-Nd**.5/C*log(Io/I)*1000;#voltage drop\n",
      "\n",
      "#result\n",
      "print\"voltage drop is\",round(Vd*1000,2),\"mV\"\n",
      "print\"the answer differs slightly from the book due to rounding off in the book\""
     ],
     "language": "python",
     "metadata": {},
     "outputs": [
      {
       "output_type": "stream",
       "stream": "stdout",
       "text": [
        "voltage drop is 21.94 mV\n",
        "the answer differs slightly from the book due to rounding off in the book\n"
       ]
      }
     ],
     "prompt_number": 3
    },
    {
     "cell_type": "heading",
     "level": 2,
     "metadata": {},
     "source": [
      "Example 7.4 Page 242"
     ]
    },
    {
     "cell_type": "code",
     "collapsed": false,
     "input": [
      "#initialisation of variable\n",
      "from math import *\n",
      "N=2*10**15;\n",
      "T=300;#K\n",
      "H=.89;#barrier height\n",
      "D=12.4;\n",
      "q=1.6*10**-19;#charge\n",
      "E=8.85*10**-14;#constant\n",
      "d=.6*10**-4;#thickness\n",
      "\n",
      "#calculation\n",
      "Vp=q*N*d**2/(2*D*E);#pinch-off voltage\n",
      "Vn=.026*log(4.7*10**17/N);\n",
      "Vb=H-Vn;#built-in potential\n",
      "\n",
      "#result\n",
      "print\"pinch-off voltage is\",round(Vp,3),\"V\"\n",
      "print\"built-in potential is\",round(Vb,2),\"V\""
     ],
     "language": "python",
     "metadata": {},
     "outputs": [
      {
       "output_type": "stream",
       "stream": "stdout",
       "text": [
        "pinch-off voltage is 0.525 V\n",
        "built-in potential is 0.75 V\n"
       ]
      }
     ],
     "prompt_number": 13
    },
    {
     "cell_type": "heading",
     "level": 2,
     "metadata": {},
     "source": [
      "Example 7.5 Page 248"
     ]
    },
    {
     "cell_type": "code",
     "collapsed": false,
     "input": [
      "#initialisation of variable\n",
      "from math import *\n",
      "N=2*10**18;\n",
      "q=1.6*10**-19;#charge\n",
      "E=8.85*10**-14;#constant\n",
      "d=40*10**-7;#thickness\n",
      "H=.85;#barrier height\n",
      "D=12.3;#dielectric constant\n",
      "V=.23;#Voltage\n",
      "\n",
      "#calculation\n",
      "Vp=q*N*d**2/(2*D*E);#volt\n",
      "Vt=H-V-Vp;#threshold voltage\n",
      "Ns=D*E/(q*(d+11*10**-7))*1.73;#electron gas concentration\n",
      "\n",
      "#result\n",
      "print\"pinch-off voltage is\",round(Vp,2),\"V\"\n",
      "print\"two-dimensional electron gas concentration is\",round(Ns,2),\"cm^-2\""
     ],
     "language": "python",
     "metadata": {},
     "outputs": [
      {
       "output_type": "stream",
       "stream": "stdout",
       "text": [
        "pinch-off voltage is 2.35 V\n",
        "two-dimensional electron gas concentration is 2.30783272059e+12 cm^-2\n"
       ]
      }
     ],
     "prompt_number": 13
    }
   ],
   "metadata": {}
  }
 ]
}