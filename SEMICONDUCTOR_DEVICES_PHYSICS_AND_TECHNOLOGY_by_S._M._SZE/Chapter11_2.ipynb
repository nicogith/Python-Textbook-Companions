{
 "metadata": {
  "name": ""
 },
 "nbformat": 3,
 "nbformat_minor": 0,
 "worksheets": [
  {
   "cells": [
    {
     "cell_type": "heading",
     "level": 1,
     "metadata": {},
     "source": [
      "Chapter 11: Film Formation"
     ]
    },
    {
     "cell_type": "heading",
     "level": 2,
     "metadata": {},
     "source": [
      "Example 11.1 Page 371"
     ]
    },
    {
     "cell_type": "code",
     "collapsed": false,
     "input": [
      "#initialisation of variable\n",
      "from math import *\n",
      "M1=28.9;#mass\n",
      "M2=60.08;#mass\n",
      "d1=2.33;#density of Si\n",
      "d2=2.21;#density of SiO2\n",
      "\n",
      "#calculation\n",
      "V1=M1/d1;#volume\n",
      "V2=M2/d2;#volume\n",
      "T=V1/V2;#thickness\n",
      "\n",
      "#result\n",
      "print\"thickness of Si consumed per 100nm of SiO2 layer is\",round(T*100,2),\"nm\"\n",
      "print\"(answer differ slightly due to approximation)\""
     ],
     "language": "python",
     "metadata": {},
     "outputs": [
      {
       "output_type": "stream",
       "stream": "stdout",
       "text": [
        "thickness of Si consumed per 100nm of SiO2 layer is 45.63 nm\n",
        "(answer differ slightly due to approximation)\n"
       ]
      }
     ],
     "prompt_number": 1
    },
    {
     "cell_type": "heading",
     "level": 2,
     "metadata": {},
     "source": [
      "Example 11.2 Page 386"
     ]
    },
    {
     "cell_type": "code",
     "collapsed": false,
     "input": [
      "#initialisation of variable\n",
      "from math import *\n",
      "a=.5;#width\n",
      "l=1;#length\n",
      "K=2.7;#dielectric constant\n",
      "t=.5;#thickness\n",
      "R=2.7;#resistivity\n",
      "E=8.85*10**-14;#constant\n",
      "\n",
      "#calculation\n",
      "Rc=R*l/a**2*E*K*l/t/2;#intrinsic RC\n",
      "\n",
      "#result\n",
      "print\"intrinsic RC is\",round(Rc*10**12,2),\"ps\""
     ],
     "language": "python",
     "metadata": {},
     "outputs": [
      {
       "output_type": "stream",
       "stream": "stdout",
       "text": [
        "intrinsic RC is 2.58 ps\n"
       ]
      }
     ],
     "prompt_number": 2
    },
    {
     "cell_type": "heading",
     "level": 2,
     "metadata": {},
     "source": [
      "Example 11.3 Page 387"
     ]
    },
    {
     "cell_type": "code",
     "collapsed": false,
     "input": [
      "#initialisation of variable\n",
      "from math import *\n",
      "C=40;#capacitance\n",
      "A=1.28;#cell size\n",
      "k1=3.9;#dielectric constant\n",
      "k2=25;#dielectric constant\n",
      "\n",
      "#calculation\n",
      "Ae=k1/k2*A;#cell size\n",
      "\n",
      "#result\n",
      "print\"equivalent cell size is\",round(Ae,2),\"micro-m^2\""
     ],
     "language": "python",
     "metadata": {},
     "outputs": [
      {
       "output_type": "stream",
       "stream": "stdout",
       "text": [
        "equivalent cell size is 0.2 micro-m^2\n"
       ]
      }
     ],
     "prompt_number": 11
    },
    {
     "cell_type": "heading",
     "level": 2,
     "metadata": {},
     "source": [
      "Example 11.4 Page 394 "
     ]
    },
    {
     "cell_type": "code",
     "collapsed": false,
     "input": [
      "#initialisation of variable\n",
      "from math import *\n",
      "T=500;#temperature\n",
      "t=30;#min\n",
      "ZL=16;\n",
      "Z=5;\n",
      "H=1;\n",
      "D=2*10**-8;#cm^2/sec\n",
      "S=.8;#%\n",
      "Dr=1.16;#density ratio\n",
      "\n",
      "#calculation\n",
      "d=2*(D*t*60)**.5*Z*H/ZL*S*Dr;#depth\n",
      "\n",
      "#result\n",
      "print\"depth is\",round(d*100,2),\"micro-m\""
     ],
     "language": "python",
     "metadata": {},
     "outputs": [
      {
       "output_type": "stream",
       "stream": "stdout",
       "text": [
        "depth is 0.35 micro-m\n"
       ]
      }
     ],
     "prompt_number": 6
    },
    {
     "cell_type": "heading",
     "level": 2,
     "metadata": {},
     "source": [
      "Example 11.5 Page 396"
     ]
    },
    {
     "cell_type": "code",
     "collapsed": false,
     "input": [
      "#initialisation of variable\n",
      "from math import *\n",
      "k1=3.9;#dielectric constant for SiO2\n",
      "k2=2.6;#dielectric constant for CuAl\n",
      "r1=2.7;#resistivity of Al\n",
      "r2=1.7;#resistivity of Cu\n",
      "\n",
      "#calculation\n",
      "P=r2/r1*k2/k1*100;\n",
      "\n",
      "#result\n",
      "print\"reduction of RC time is\",round(P,0),\"%\""
     ],
     "language": "python",
     "metadata": {},
     "outputs": [
      {
       "output_type": "stream",
       "stream": "stdout",
       "text": [
        "reduction of RC time is 42.0 %\n"
       ]
      }
     ],
     "prompt_number": 7
    },
    {
     "cell_type": "heading",
     "level": 2,
     "metadata": {},
     "source": [
      "Example 11.6 Page 398"
     ]
    },
    {
     "cell_type": "code",
     "collapsed": false,
     "input": [
      "#initialisation of variable\n",
      "from math import *\n",
      "R1=1;\n",
      "R2=.1;\n",
      "T=5.5;#time\n",
      "t1=1;#layer1\n",
      "t2=.01;#layer2\n",
      "\n",
      "#calculation\n",
      "r=((t1/R1)+(t2/R2))/T;#removal rate\n",
      "\n",
      "#result\n",
      "print\"removal rate is\",round(r,2),\"micro-m/min\""
     ],
     "language": "python",
     "metadata": {},
     "outputs": [
      {
       "output_type": "stream",
       "stream": "stdout",
       "text": [
        "removal rate is 0.2 micro-m/min\n"
       ]
      }
     ],
     "prompt_number": 25
    },
    {
     "cell_type": "heading",
     "level": 2,
     "metadata": {},
     "source": [
      "Example 11.7 Page 400"
     ]
    },
    {
     "cell_type": "code",
     "collapsed": false,
     "input": [
      "#initialisation of variable\n",
      "from math import *\n",
      "R=.6;#resistance\n",
      "r=18;#resistivity\n",
      "\n",
      "#calculation\n",
      "t=r/R;#thickness\n",
      "\n",
      "#result\n",
      "print\"film thickness is\",round(t*10,2),\"nm\""
     ],
     "language": "python",
     "metadata": {},
     "outputs": [
      {
       "output_type": "stream",
       "stream": "stdout",
       "text": [
        "film thickness is 300.0 nm\n"
       ]
      }
     ],
     "prompt_number": 3
    }
   ],
   "metadata": {}
  }
 ]
}