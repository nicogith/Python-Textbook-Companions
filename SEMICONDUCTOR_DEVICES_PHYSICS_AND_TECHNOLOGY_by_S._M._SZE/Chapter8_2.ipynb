{
 "metadata": {
  "name": ""
 },
 "nbformat": 3,
 "nbformat_minor": 0,
 "worksheets": [
  {
   "cells": [
    {
     "cell_type": "heading",
     "level": 1,
     "metadata": {},
     "source": [
      "Chapter 8:Microwave Diodes, Quantum-Effect, and Hot-Electron Devices"
     ]
    },
    {
     "cell_type": "heading",
     "level": 2,
     "metadata": {},
     "source": [
      "Example 8.1 Page 257"
     ]
    },
    {
     "cell_type": "code",
     "collapsed": false,
     "input": [
      "#initialisation of variable\n",
      "from math import *\n",
      "L=10*10**-9;#inductance\n",
      "C=4*10**-12;#capacitance\n",
      "\n",
      "#calculation\n",
      "Z=(L/C)**.5;#impedence\n",
      "\n",
      "#result\n",
      "print\"characteristics impedence is\",round(Z,2),\"ohm\""
     ],
     "language": "python",
     "metadata": {},
     "outputs": [
      {
       "output_type": "stream",
       "stream": "stdout",
       "text": [
        "characteristics impedence is 50.0 ohm\n"
       ]
      }
     ],
     "prompt_number": 3
    },
    {
     "cell_type": "heading",
     "level": 2,
     "metadata": {},
     "source": [
      "Example 8.2 Page 258"
     ]
    },
    {
     "cell_type": "code",
     "collapsed": false,
     "input": [
      "#initialisation of variable\n",
      "from math import *\n",
      "a=.05;#m\n",
      "b=.025;#cm\n",
      "d=.1;#m\n",
      "c=3*10**8;#speed\n",
      "\n",
      "#calculation\n",
      "f=c/2*((1/a)**2+(1/d)**2)**.5;#frequency\n",
      "\n",
      "#result\n",
      "print\"resonant frequncy is\",round(f/10**9,3),\"GHz\""
     ],
     "language": "python",
     "metadata": {},
     "outputs": [
      {
       "output_type": "stream",
       "stream": "stdout",
       "text": [
        "resonant frequncy is 3.354 GHz\n"
       ]
      }
     ],
     "prompt_number": 1
    },
    {
     "cell_type": "heading",
     "level": 2,
     "metadata": {},
     "source": [
      "Example 8.3 Page 263"
     ]
    },
    {
     "cell_type": "code",
     "collapsed": false,
     "input": [
      "#initialisation of variable\n",
      "from math import *\n",
      "b=10**-4;\n",
      "W=6*10**-4;#width\n",
      "F=3.3*10**5;#field\n",
      "Q=2*10**12;#charge density\n",
      "q=1.6*10**-19;#charge\n",
      "D=11.9;\n",
      "E=8.85*10**-14;#constant\n",
      "\n",
      "#calculation\n",
      "a=W-b;\n",
      "Vb=(F*10**-4+(F-q*Q/D/E)*a);#brekdown voltage\n",
      "Fd=13/a;#field\n",
      "f=10**7/2/a;#frequency\n",
      "\n",
      "#result\n",
      "print\"breakdown voltage is\",round(Vb,2),\"V\"\n",
      "print\"field in drift region is\",round(Fd,2),\"V/cm\"\n",
      "print\"frequency is\",round(f/10**9,2),\"GHz\"\n"
     ],
     "language": "python",
     "metadata": {},
     "outputs": [
      {
       "output_type": "stream",
       "stream": "stdout",
       "text": [
        "breakdown voltage is 46.07 V\n",
        "field in drift region is 26000.0 V/cm\n",
        "frequency is 10.0 GHz\n"
       ]
      }
     ],
     "prompt_number": 1
    },
    {
     "cell_type": "heading",
     "level": 2,
     "metadata": {},
     "source": [
      "Example8.4 Page269"
     ]
    },
    {
     "cell_type": "code",
     "collapsed": false,
     "input": [
      "#initialisation of variable\n",
      "from math import *\n",
      "l=10;#length\n",
      "L=10**-3;\n",
      "v=10**7;#velocity\n",
      "\n",
      "#calculation\n",
      "t=L/v;#time\n",
      "\n",
      "#result\n",
      "print\"time required is\",round(t*10**9,2),\"ns\""
     ],
     "language": "python",
     "metadata": {},
     "outputs": [
      {
       "output_type": "stream",
       "stream": "stdout",
       "text": [
        "time required is 0.1 ns\n"
       ]
      }
     ],
     "prompt_number": 4
    },
    {
     "cell_type": "heading",
     "level": 2,
     "metadata": {},
     "source": [
      "Example 8.5 Page 273"
     ]
    },
    {
     "cell_type": "code",
     "collapsed": false,
     "input": [
      "#initialisation of variable\n",
      "from math import *\n",
      "Lw=4.5;#nm\n",
      "Vp1=700;#mV\n",
      "Vp2=280;#mV\n",
      "\n",
      "#calculation\n",
      "V=Vp1-Vp2;\n",
      "\n",
      "#result\n",
      "print\"ground water level is 140mV and peak width is 1meV for\",round(Lw,1),\"nm\"\n",
      "print\"difference of voltage drop due to accumulation and depletion region is\",round(V,2),\"mV\""
     ],
     "language": "python",
     "metadata": {},
     "outputs": [
      {
       "output_type": "stream",
       "stream": "stdout",
       "text": [
        "ground water level is 140mV and peak width is 1meV for 4.5 nm\n",
        "difference of voltage drop due to accumulation and depletion region is 420.0 mV\n"
       ]
      }
     ],
     "prompt_number": 2
    }
   ],
   "metadata": {}
  }
 ]
}