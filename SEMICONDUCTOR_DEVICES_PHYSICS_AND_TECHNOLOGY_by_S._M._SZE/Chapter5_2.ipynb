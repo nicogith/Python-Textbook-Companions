{
 "metadata": {
  "name": ""
 },
 "nbformat": 3,
 "nbformat_minor": 0,
 "worksheets": [
  {
   "cells": [
    {
     "cell_type": "heading",
     "level": 1,
     "metadata": {},
     "source": [
      "Chapter 5: Bipolar Transistor and Related Devices"
     ]
    },
    {
     "cell_type": "heading",
     "level": 2,
     "metadata": {},
     "source": [
      "Example 5.1 Page 136"
     ]
    },
    {
     "cell_type": "code",
     "collapsed": false,
     "input": [
      "#initialisation of variable\n",
      "from math import *\n",
      "IEp=3.0000000;#mA\n",
      "IEn=.0100000;#mA\n",
      "ICp=2.9900000;#mA\n",
      "ICn=.0010000;#mA\n",
      "\n",
      "#calculation\n",
      "E=IEp/(IEp+IEn);#emitter efficiency\n",
      "At=ICp/IEp;#base transport factor\n",
      "Ao=E*At;#common-base current\n",
      "IE=IEp+IEn;\n",
      "IC=ICp+ICn;\n",
      "Icbo=round(IC,6)-round((Ao*IE),6);#ICBO\n",
      "\n",
      "#result\n",
      "print\"emitter efficiency is\",round(E,4)\n",
      "print\"base transport factor is\",round(At,4)\n",
      "print\"common-base current is\",round(Ao,4)\n",
      "print \"ICBO is\",round(Icbo*100,4),\"micro-amp\"\n",
      "print\"(slight change in the answer due to round off error)\""
     ],
     "language": "python",
     "metadata": {},
     "outputs": [
      {
       "output_type": "stream",
       "stream": "stdout",
       "text": [
        "emitter efficiency is 0.9967\n",
        "base transport factor is 0.9967\n",
        "common-base current is 0.9934\n",
        "ICBO is 0.1 micro-amp\n",
        "(slight change in the answer due to round off error)\n"
       ]
      }
     ],
     "prompt_number": 1
    },
    {
     "cell_type": "heading",
     "level": 2,
     "metadata": {},
     "source": [
      "Example 5.2 Page 141"
     ]
    },
    {
     "cell_type": "code",
     "collapsed": false,
     "input": [
      "#initialisation of variable\n",
      "from math import *\n",
      "C1=10**19;#concentration\n",
      "C2=10**17;#concentration\n",
      "C3=5*10**15;#concentration\n",
      "T1=10**-8;#s\n",
      "T2=10**-7;#s\n",
      "T3=10**-6;#s\n",
      "A=.05;#area\n",
      "V=.6;#V\n",
      "De=1;\n",
      "Dp=10;\n",
      "Dc=2;\n",
      "W=.5;#width\n",
      "n=9.65*10**9;#constant\n",
      "q=1.6*10**-19;#charge\n",
      "\n",
      "#calculation\n",
      "Lp=(Dp*T2)**.5;#base region\n",
      "Le=(De*T1)**.5;#emitter region\n",
      "P=n**2/C2;\n",
      "N=n**2/C1;\n",
      "Iep=q*A*N*e**23.17*10**5/W;#A\n",
      "Icp=Iep;#A\n",
      "Ien=q*A*N*(e**23.17-1)*100;#A\n",
      "Ao=Icp/(Iep+Ien);#current\n",
      "\n",
      "#result\n",
      "print\"common-base current gain is\",round(Ao,4)"
     ],
     "language": "python",
     "metadata": {},
     "outputs": [
      {
       "output_type": "stream",
       "stream": "stdout",
       "text": [
        "common-base current gain is 0.9995\n"
       ]
      }
     ],
     "prompt_number": 2
    },
    {
     "cell_type": "heading",
     "level": 2,
     "metadata": {},
     "source": [
      "Example 5.3 Page 145"
     ]
    },
    {
     "cell_type": "code",
     "collapsed": false,
     "input": [
      "#initialisation of variable\n",
      "from math import *\n",
      "IEp=3.0000000;#mA\n",
      "IEn=.0100000;#mA\n",
      "ICp=2.9900000;#mA\n",
      "ICn=.0010000;#mA\n",
      "Icbo=.87e-6;#ICBO\n",
      "\n",
      "#calculation\n",
      "E=IEp/(IEp+IEn);#emitter efficiency\n",
      "At=ICp/IEp;#base transport factor\n",
      "Ao=E*At;#common-base current\n",
      "IE=IEp+IEn;#A\n",
      "IC=ICp+ICn;#A\n",
      "B=Ao/(1.0000-Ao)+1;\n",
      "Iceo=(B+1)*Icbo;#A\n",
      "\n",
      "#result\n",
      "print\"common-emitter current gain is\",round(B,4)\n",
      "print\"ICEO is\",round(Iceo*10**4,2)/10**4,\"A\""
     ],
     "language": "python",
     "metadata": {},
     "outputs": [
      {
       "output_type": "stream",
       "stream": "stdout",
       "text": [
        "common-emitter current gain is 150.5\n",
        "ICEO is 0.000132 A\n"
       ]
      }
     ],
     "prompt_number": 3
    },
    {
     "cell_type": "heading",
     "level": 2,
     "metadata": {},
     "source": [
      "Example 5.4 Page 152"
     ]
    },
    {
     "cell_type": "code",
     "collapsed": false,
     "input": [
      "#initialisation of variable\n",
      "from math import *\n",
      "E1=1.62;#eV\n",
      "E2=1.42;#eV\n",
      "B1=1.42;#eV\n",
      "B2=1.42;#eV\n",
      "De=10**18;\n",
      "Db=10**15;\n",
      "\n",
      "#xalculation\n",
      "B=e**((E1-E2)/.0259);#beta\n",
      "Nb=B*Db;#doping\n",
      "\n",
      "#result\n",
      "print\"improvement is\",round(B,0),\"times\"\n",
      "print\"increase of base doping is\",round(Nb,0),\"cm^-3\"\n"
     ],
     "language": "python",
     "metadata": {},
     "outputs": [
      {
       "output_type": "stream",
       "stream": "stdout",
       "text": [
        "improvement is 2257.0 times\n",
        "increase of base doping is 2.25748744092e+18 cm^-3\n"
       ]
      }
     ],
     "prompt_number": 4
    },
    {
     "cell_type": "heading",
     "level": 2,
     "metadata": {},
     "source": [
      "Example 5.5 Page159"
     ]
    },
    {
     "cell_type": "code",
     "collapsed": false,
     "input": [
      "#initialisation of variable\n",
      "from math import *\n",
      "I1=.4;#mA\n",
      "I2=.6;#mA\n",
      "a1=.01;#alpha1\n",
      "a2=.9999;#alpha2\n",
      "\n",
      "#calculation\n",
      "Ia=(I1+I2)/(1-a1);#forward blocking character 1\n",
      "Ib=(I1+I2)/(1-a2);#forward blocking character 2\n",
      "\n",
      "#result\n",
      "print\"forward blocking character 1 is\",round(Ia,2),\"mA\"\n",
      "print\"forward blocking character 2 is\",round(Ib/1000,2),\"A\""
     ],
     "language": "python",
     "metadata": {},
     "outputs": [
      {
       "output_type": "stream",
       "stream": "stdout",
       "text": [
        "forward blocking character 1 is 1.01 mA\n",
        "forward blocking character 2 is 10.0 A\n"
       ]
      }
     ],
     "prompt_number": 5
    }
   ],
   "metadata": {}
  }
 ]
}