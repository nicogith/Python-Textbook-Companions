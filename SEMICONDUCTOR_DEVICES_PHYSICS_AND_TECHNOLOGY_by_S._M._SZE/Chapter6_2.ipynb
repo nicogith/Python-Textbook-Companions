{
 "metadata": {
  "name": ""
 },
 "nbformat": 3,
 "nbformat_minor": 0,
 "worksheets": [
  {
   "cells": [
    {
     "cell_type": "heading",
     "level": 1,
     "metadata": {},
     "source": [
      "Chapter 6: MOSFET and Related Devices"
     ]
    },
    {
     "cell_type": "heading",
     "level": 2,
     "metadata": {},
     "source": [
      "Example 6.1 Page 175"
     ]
    },
    {
     "cell_type": "code",
     "collapsed": false,
     "input": [
      "#initialisation of variable\n",
      "from math import *\n",
      "N=10**17;#concentration\n",
      "n=9.65*10**9;#constant\n",
      "Dp=11.9*8.85*10**-14;#dielectric permitivity\n",
      "V=.026;#voltage\n",
      "q=1.6*10**-19;#charge\n",
      "\n",
      "#calculation\n",
      "W=2*(Dp*V*log(N/n)/q/N)**.5#width\n",
      "\n",
      "#result\n",
      "print\"maximum width is\",round(W*10**4,1),\"micro-m\""
     ],
     "language": "python",
     "metadata": {},
     "outputs": [
      {
       "output_type": "stream",
       "stream": "stdout",
       "text": [
        "maximum width is 0.1 micro-m\n"
       ]
      }
     ],
     "prompt_number": 1
    },
    {
     "cell_type": "heading",
     "level": 2,
     "metadata": {},
     "source": [
      "Example 6.2 Page 179"
     ]
    },
    {
     "cell_type": "code",
     "collapsed": false,
     "input": [
      "#initialisation of variable\n",
      "from math import *\n",
      "N=10**17;#concentration\n",
      "d=5*10**-7;#mm\n",
      "D=3.9;#dielectric constant\n",
      "Dp=8.85*10**-14;#constant\n",
      "W=10**-5;#width\n",
      "n=9.65*10**9;\n",
      "\n",
      "#calculation\n",
      "C=D*Dp/d;#capacitance\n",
      "w=2*.026*log(N/n);\n",
      "Cmin=D*Dp/(d+(D/11.9)*W);#min. capacitance\n",
      "P=Cmin*100/C;#%\n",
      "\n",
      "#result\n",
      "print\"mininmum capacitance is\",round(Cmin,9),\"F/cm^2\"\n",
      "print\"Cmin is about\",round(P,0),\"% of Co\""
     ],
     "language": "python",
     "metadata": {},
     "outputs": [
      {
       "output_type": "stream",
       "stream": "stdout",
       "text": [
        "mininmum capacitance is 9.1e-08 F/cm^2\n",
        "Cmin is about 13.0 % of Co\n"
       ]
      }
     ],
     "prompt_number": 2
    },
    {
     "cell_type": "heading",
     "level": 2,
     "metadata": {},
     "source": [
      "Example 6.3 Page 184"
     ]
    },
    {
     "cell_type": "code",
     "collapsed": false,
     "input": [
      "#initialisation of variable\n",
      "from math import *\n",
      "N=10**17;#concentration\n",
      "d=5;#nm\n",
      "Co=6.9*10**-7;#capacitance\n",
      "q=1.6*10**-19;#charge\n",
      "Q=-.98;\n",
      "Qf=5*10**11;#cm^-2\n",
      "\n",
      "#calculation\n",
      "V=Q-(q*Qf)/Co;#Voltage\n",
      "\n",
      "#result\n",
      "print\"flat-band voltage is\",round(V,2),\"V\""
     ],
     "language": "python",
     "metadata": {},
     "outputs": [
      {
       "output_type": "stream",
       "stream": "stdout",
       "text": [
        "flat-band voltage is -1.1 V\n"
       ]
      }
     ],
     "prompt_number": 11
    },
    {
     "cell_type": "heading",
     "level": 2,
     "metadata": {},
     "source": [
      "Example 6.4 Page 184"
     ]
    },
    {
     "cell_type": "code",
     "collapsed": false,
     "input": [
      "#initialisation of variable\n",
      "from math import *\n",
      "import math\n",
      "from scipy import integrate\n",
      "t=20;#thickness\n",
      "D1=0.00;\n",
      "D2=2.00*10**-6;\n",
      "q=1.6*10**-19;#charge\n",
      "k=8.85*10**-14;#constant\n",
      "Dc=3.9;#dielectric constant\n",
      "\n",
      "#calculation\n",
      "C=q/Dc/k;#constant\n",
      "def integrand(x):\n",
      "     return x*(10**18-5*10**23*x)\n",
      "\n",
      "V=integrate.quad(integrand,D1,D2)\n",
      "\n",
      "#result\n",
      "print\"change in flat-band voltage is\",round(C*V[0],2),\"V\""
     ],
     "language": "python",
     "metadata": {},
     "outputs": [
      {
       "output_type": "stream",
       "stream": "stdout",
       "text": [
        "change in flat-band voltage is 0.31 V\n"
       ]
      }
     ],
     "prompt_number": 6
    },
    {
     "cell_type": "heading",
     "level": 2,
     "metadata": {},
     "source": [
      "Example 6.5 Page 192"
     ]
    },
    {
     "cell_type": "code",
     "collapsed": false,
     "input": [
      "#initialisation of variable\n",
      "from math import *\n",
      "N=10**17;#concentration\n",
      "d=8*10**-7;#mm\n",
      "Vg=3;#V\n",
      "q=1.6*10**-19;#charge\n",
      "Co=4.32*10**-7;#capacitance\n",
      "E=11.9*8.85*10**-14;#constant\n",
      "F=.42;#V\n",
      "\n",
      "#calculation\n",
      "K=(E*q*N)**.5/Co;\n",
      "Vd=Vg-2*F+K**2*(1-(1+(2*Vg/K**2))**.5);#volatge\n",
      "\n",
      "#result\n",
      "print\"VDsat is\",round(Vd,2),\"V\""
     ],
     "language": "python",
     "metadata": {},
     "outputs": [
      {
       "output_type": "stream",
       "stream": "stdout",
       "text": [
        "VDsat is 1.51 V\n"
       ]
      }
     ],
     "prompt_number": 12
    },
    {
     "cell_type": "heading",
     "level": 2,
     "metadata": {},
     "source": [
      "Example 6.6 Page 196"
     ]
    },
    {
     "cell_type": "code",
     "collapsed": false,
     "input": [
      "#initialisation of variable\n",
      "from math import *\n",
      "N=10**17;#concentration\n",
      "Qf=5*10**11;\n",
      "d=5;#\n",
      "Vt=.6#terminal voltage\n",
      "Co=6.9*10**-7;#capacitance\n",
      "f=.42;#V\n",
      "Vfb=-1.1;#Voltage forward biasisng\n",
      "q=1.6*10**-19;#charge\n",
      "E=11.9*8.85*10**-14;#constant\n",
      "\n",
      "#calculation\n",
      "VT=Vfb+2*f+(2*E*q*N*2*f)**.5/Co;#voltage\n",
      "Fb=(Vt-VT)*Co/q;#flat-band shift\n",
      "\n",
      "#result\n",
      "print\"VT for gate oxide is\",round(VT,2),\"V\"\n",
      "print\"flat-band shift is\",round(Fb,2),\"cm^-2\""
     ],
     "language": "python",
     "metadata": {},
     "outputs": [
      {
       "output_type": "stream",
       "stream": "stdout",
       "text": [
        "VT for gate oxide is -0.02 V\n",
        "flat-band shift is 2.65717617948e+12 cm^-2\n"
       ]
      }
     ],
     "prompt_number": 16
    },
    {
     "cell_type": "heading",
     "level": 2,
     "metadata": {},
     "source": [
      "Example 6.7 Page197"
     ]
    },
    {
     "cell_type": "code",
     "collapsed": false,
     "input": [
      "#initialisation of variable\n",
      "from math import *\n",
      "N=10**17;#concentration\n",
      "Qf=5*10**11;#factor\n",
      "q=1.6*10**-19;#charge\n",
      "d=500;#nm\n",
      "Co=6.9*10**-9;#capacitance\n",
      "f=.42;#V\n",
      "Vfb=-1.1;#voltage\n",
      "E=11.9*8.85*10**-14;#constant\n",
      "\n",
      "#calculation\n",
      "Vt=Vfb+2*f+(2*E*q*N*2*f)**.5/Co;#voltage\n",
      "\n",
      "#result\n",
      "print\"VT is\",round(Vt,2),\"V\""
     ],
     "language": "python",
     "metadata": {},
     "outputs": [
      {
       "output_type": "stream",
       "stream": "stdout",
       "text": [
        "VT is 24.12 V\n"
       ]
      }
     ],
     "prompt_number": 17
    },
    {
     "cell_type": "heading",
     "level": 2,
     "metadata": {},
     "source": [
      "Example 6.8 Page 198"
     ]
    },
    {
     "cell_type": "code",
     "collapsed": false,
     "input": [
      "#initialisation of variable\n",
      "from math import *\n",
      "N=10**17;#concentration\n",
      "Qf=5*10**11;#factor\n",
      "q=1.6*10**-19;#charge\n",
      "d=500;#nm\n",
      "Co=6.9*10**-7;#capacitance\n",
      "f=.42;#V\n",
      "Vbs=2;#Voltage\n",
      "E=11.9*8.85*10**-14;#constant\n",
      "\n",
      "#calculation\n",
      "dVt=((2*E*q*N*2*f)**.5/Co)*((2*f+Vbs)**.5-(2*f)**.5);#change in threshold voltage\n",
      "\n",
      "#result\n",
      "print\"change in threshold voltage is\",round(dVt,1),\"V\""
     ],
     "language": "python",
     "metadata": {},
     "outputs": [
      {
       "output_type": "stream",
       "stream": "stdout",
       "text": [
        "change in threshold voltage is 0.2 V\n"
       ]
      }
     ],
     "prompt_number": 18
    },
    {
     "cell_type": "heading",
     "level": 2,
     "metadata": {},
     "source": [
      "Example 6.9 Page 213"
     ]
    },
    {
     "cell_type": "code",
     "collapsed": false,
     "input": [
      "#initialisation of variable\n",
      "from math import *\n",
      "N=10**17;#concentration\n",
      "Qf=5*10**11;#factor\n",
      "q=1.6*10**-19;#charge\n",
      "d=5;#nm\n",
      "dsi=5*10**-6;#nm\n",
      "Co=6.9*10**-7;#capacitance\n",
      "f=.42;#V\n",
      "Vfb=-1.1;#Voltage\n",
      "E=11.9*8.85*10**-14;#constant\n",
      "\n",
      "#calculation\n",
      "Vt=Vfb+2*f+q*N*dsi/Co;#threshold voltage\n",
      "\n",
      "#result\n",
      "print\"threshold voltage is\",round(Vt,2),\"V\""
     ],
     "language": "python",
     "metadata": {},
     "outputs": [
      {
       "output_type": "stream",
       "stream": "stdout",
       "text": [
        "threshold voltage is -0.14 V\n"
       ]
      }
     ],
     "prompt_number": 3
    }
   ],
   "metadata": {}
  }
 ]
}