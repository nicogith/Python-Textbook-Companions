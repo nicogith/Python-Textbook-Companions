{
 "metadata": {
  "name": ""
 },
 "nbformat": 3,
 "nbformat_minor": 0,
 "worksheets": [
  {
   "cells": [
    {
     "cell_type": "heading",
     "level": 1,
     "metadata": {},
     "source": [
      "Chapter 2: Energy Bands and Carrier Concentration in Thermal Equillibrium"
     ]
    },
    {
     "cell_type": "heading",
     "level": 2,
     "metadata": {},
     "source": [
      "Example 2.1,Page21"
     ]
    },
    {
     "cell_type": "code",
     "collapsed": false,
     "input": [
      "#initialisation of variable\n",
      "from math import *\n",
      "S=2;#spheres\n",
      "D=3**.5/2;#diameter\n",
      "\n",
      "#calculation\n",
      "R=D/2;#radius\n",
      "V=4*pi*R**3/3;#volume\n",
      "F=S*V;\n",
      "\n",
      "#result\n",
      "print\"fraction of volume of bcc unit cell is\",round(F*100,1),\"%\""
     ],
     "language": "python",
     "metadata": {},
     "outputs": [
      {
       "output_type": "stream",
       "stream": "stdout",
       "text": [
        "fraction of volume of bcc unit cell is 68.0 %\n"
       ]
      }
     ],
     "prompt_number": 3
    },
    {
     "cell_type": "heading",
     "level": 2,
     "metadata": {},
     "source": [
      "Example2.2, Page22"
     ]
    },
    {
     "cell_type": "code",
     "collapsed": false,
     "input": [
      "#initialisation of variable\n",
      "from math import *\n",
      "T=300;#K\n",
      "r=5.43*10**-10;#radius\n",
      "A=6.023*10**23;#avagadro's no.\n",
      "W=28.09;#atomic weight\n",
      "\n",
      "#calculation\n",
      "N=8/r**3;#number\n",
      "D=N*W/A;#density\n",
      "\n",
      "#result\n",
      "print\"number is\",round(N/10**28)*10**22,\"atoms/cm^3\"\n",
      "print\"density is\",round(D/1000000,2),\"g/cm^3\""
     ],
     "language": "python",
     "metadata": {},
     "outputs": [
      {
       "output_type": "stream",
       "stream": "stdout",
       "text": [
        "number is 5e+22 atoms/cm^3\n",
        "density is 2.33 g/cm^3\n"
       ]
      }
     ],
     "prompt_number": 8
    },
    {
     "cell_type": "heading",
     "level": 2,
     "metadata": {},
     "source": [
      "\n",
      "Example2.4 Page41"
     ]
    },
    {
     "cell_type": "code",
     "collapsed": false,
     "input": [
      "#initialisation of variable\n",
      "from math import *\n",
      "D=10**16;#doping\n",
      "T=300;#K\n",
      "N=9.65*10**9\n",
      "Nc=2.86*10**19\n",
      "\n",
      "#calculation\n",
      "p=N**2/D;#carrier concentration\n",
      "F1=.0259*log(Nc/D);#fermi level\n",
      "F2=.0259*log(D/N);#fermi level\n",
      "\n",
      "#result\n",
      "print\"carrier concentration is\",round(p,2),\"cm^-3\"\n",
      "print\"conduction band fermi level is\",round(F1,3),\"eV\"\n",
      "print\"intrinsic level fermi level is\",round(F2,3),\"eV\""
     ],
     "language": "python",
     "metadata": {},
     "outputs": [
      {
       "output_type": "stream",
       "stream": "stdout",
       "text": [
        "carrier concentration is 9312.25 cm^-3\n",
        "conduction band fermi level is 0.206 eV\n",
        "intrinsic level fermi level is 0.359 eV\n"
       ]
      }
     ],
     "prompt_number": 6
    }
   ],
   "metadata": {}
  }
 ]
}