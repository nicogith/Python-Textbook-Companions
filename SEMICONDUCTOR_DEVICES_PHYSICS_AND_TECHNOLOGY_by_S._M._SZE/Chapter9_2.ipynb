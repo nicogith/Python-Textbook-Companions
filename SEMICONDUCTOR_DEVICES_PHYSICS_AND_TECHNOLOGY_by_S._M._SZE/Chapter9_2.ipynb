{
 "metadata": {
  "name": ""
 },
 "nbformat": 3,
 "nbformat_minor": 0,
 "worksheets": [
  {
   "cells": [
    {
     "cell_type": "heading",
     "level": 1,
     "metadata": {},
     "source": [
      "Chapter 9: Photonic Devices"
     ]
    },
    {
     "cell_type": "heading",
     "level": 2,
     "metadata": {},
     "source": [
      "Example 9.1 Page 287"
     ]
    },
    {
     "cell_type": "code",
     "collapsed": false,
     "input": [
      "#initialisation of variable\n",
      "from math import *\n",
      "T=.25*10**-4;#thickness\n",
      "E=3.00;#energy\n",
      "P=10;#power\n",
      "a=4*10**4#absorption coefficient\n",
      "Eg=1.12;\n",
      "q=1.6*10**-19;#charge\n",
      "\n",
      "#calculation\n",
      "Es=10**-2*(1-exp(-a*T));#energy absorbed per second\n",
      "Ee=(E-Eg)/E;#photons energy converted to heat\n",
      "L=Ee*Es;#energy to lattice\n",
      "Ps=(Es-L)/(q*Eg);#photons per second\n",
      "\n",
      "#result\n",
      "print\"energy absorbed per second is\",round(Es*1000,1),\"mW\"\n",
      "print\"portion of photons energy converted to heat is\",round(Ee*100,2),\"%\"\n",
      "print\"number of photons per second is\",round(Ps,2),\"photons/sec\""
     ],
     "language": "python",
     "metadata": {},
     "outputs": [
      {
       "output_type": "stream",
       "stream": "stdout",
       "text": [
        "energy absorbed per second is 6.3 mW\n",
        "portion of photons energy converted to heat is 62.67 %\n",
        "number of photons per second is 1.31691783089e+16 photons/sec\n"
       ]
      }
     ],
     "prompt_number": 1
    },
    {
     "cell_type": "heading",
     "level": 2,
     "metadata": {},
     "source": [
      "Example 9.2 Page 297"
     ]
    },
    {
     "cell_type": "code",
     "collapsed": false,
     "input": [
      "#initialisation of variable\n",
      "from math import *\n",
      "t=500*10**-12;#time\n",
      "\n",
      "#calculation\n",
      "f=1/(2*pi*t);#bandwidth\n",
      "\n",
      "#result\n",
      "print\"modulation bandwidth is\",round(f/10**6,0),\"MHz\""
     ],
     "language": "python",
     "metadata": {},
     "outputs": [
      {
       "output_type": "stream",
       "stream": "stdout",
       "text": [
        "modulation bandwidth is 318.0 MHz\n"
       ]
      }
     ],
     "prompt_number": 2
    },
    {
     "cell_type": "heading",
     "level": 2,
     "metadata": {},
     "source": [
      "Example 9.3 Page 302"
     ]
    },
    {
     "cell_type": "code",
     "collapsed": false,
     "input": [
      "#initialisation of variable\n",
      "from math import *\n",
      "n=3.6;#constant\n",
      "\n",
      "#calculation\n",
      "R=((n-1)/(n+1))**2;#reflectivity\n",
      "\n",
      "#result\n",
      "print\"reflected light is\",round(R*100,0),\"%\""
     ],
     "language": "python",
     "metadata": {},
     "outputs": [
      {
       "output_type": "stream",
       "stream": "stdout",
       "text": [
        "reflected light is 32.0 %\n"
       ]
      }
     ],
     "prompt_number": 3
    },
    {
     "cell_type": "heading",
     "level": 2,
     "metadata": {},
     "source": [
      "Example 9.4 Page 303"
     ]
    },
    {
     "cell_type": "code",
     "collapsed": false,
     "input": [
      "#initialisation of variable\n",
      "from math import *\n",
      "l=.94;#wavelength\n",
      "n=3.6;\n",
      "L=300;#length\n",
      "\n",
      "#calculation\n",
      "A=l**2/(2*n*L);#mode spacing\n",
      "\n",
      "#result\n",
      "print\"mode spacing is\",round(A*10**4,0),\"angstron\""
     ],
     "language": "python",
     "metadata": {},
     "outputs": [
      {
       "output_type": "stream",
       "stream": "stdout",
       "text": [
        "mode spacing is 4.0 angstron\n"
       ]
      }
     ],
     "prompt_number": 4
    },
    {
     "cell_type": "heading",
     "level": 2,
     "metadata": {},
     "source": [
      "Example 9.5 Page 306"
     ]
    },
    {
     "cell_type": "code",
     "collapsed": false,
     "input": [
      "#initialisation of variable\n",
      "from math import *\n",
      "R1=.44;#front reflectivity\n",
      "R2=.99;#rear reflectivity\n",
      "L=300*10**-4;#length\n",
      "W=5*10**-4;#width\n",
      "a=100;#alpha\n",
      "b=.1;#beta\n",
      "g=100;\n",
      "T=.9;#constant\n",
      "\n",
      "#calculation\n",
      "J=g*T/b+1/b*(a+1/(2*L)*log(1/(R1*R2)));#current density\n",
      "I=J*L*W;#current\n",
      "\n",
      "#result\n",
      "print\"current density is\",round(J,2),\"A/cm^2\"\n",
      "print\"threshold current is\",round(I*1000,2),\"mA\""
     ],
     "language": "python",
     "metadata": {},
     "outputs": [
      {
       "output_type": "stream",
       "stream": "stdout",
       "text": [
        "current density is 2038.51 A/cm^2\n",
        "threshold current is 30.58 mA\n"
       ]
      }
     ],
     "prompt_number": 5
    },
    {
     "cell_type": "heading",
     "level": 2,
     "metadata": {},
     "source": [
      "Example 9.6 Page 307"
     ]
    },
    {
     "cell_type": "code",
     "collapsed": false,
     "input": [
      "#initialisation of variable\n",
      "from math import *\n",
      "T1=27;#temperature\n",
      "l=110;\n",
      "\n",
      "#calculation\n",
      "T=T1+l*log(2);#temperature\n",
      "\n",
      "#result\n",
      "print\"temperature is\",round(T,0),\"deg.Celsius\""
     ],
     "language": "python",
     "metadata": {},
     "outputs": [
      {
       "output_type": "stream",
       "stream": "stdout",
       "text": [
        "temperature is 103.0 deg.Celsius\n"
       ]
      }
     ],
     "prompt_number": 6
    },
    {
     "cell_type": "heading",
     "level": 2,
     "metadata": {},
     "source": [
      "Example 9.7 Page 313"
     ]
    },
    {
     "cell_type": "code",
     "collapsed": false,
     "input": [
      "#initialisation of variable\n",
      "from math import *\n",
      "N=5*10**12;#photons/s\n",
      "n=.8;#constant\n",
      "l=5*10**-10;#lifetime\n",
      "u=2500;\n",
      "E=5000;#V/cm\n",
      "L=10*10**-4;#length\n",
      "q=1.6*10**-19;#charge\n",
      "\n",
      "#calculation\n",
      "I=q*n*N*u*l*E/L;#photocurrent\n",
      "G=u*l*E/L;#gain\n",
      "\n",
      "#result\n",
      "print\"photocurrent is\",round(I*10**6,2),\"microAmp\"\n",
      "print\"gain is\",round(G,2)"
     ],
     "language": "python",
     "metadata": {},
     "outputs": [
      {
       "output_type": "stream",
       "stream": "stdout",
       "text": [
        "photocurrent is 4.0 microAmp\n",
        "gain is 6.25\n"
       ]
      }
     ],
     "prompt_number": 7
    },
    {
     "cell_type": "heading",
     "level": 2,
     "metadata": {},
     "source": [
      "Example 9.8 Page 315"
     ]
    },
    {
     "cell_type": "code",
     "collapsed": false,
     "input": [
      "#initialisation of variable\n",
      "from math import *\n",
      "a=10**4;#cm^-1\n",
      "R=.1;\n",
      "\n",
      "#calculation\n",
      "X=-1/a*log(1/(2*(1-R)));#depth\n",
      "\n",
      "#result\n",
      "print\"dpeth for half power absorbed is\",round(X,2),\"micro-m\""
     ],
     "language": "python",
     "metadata": {},
     "outputs": [
      {
       "output_type": "stream",
       "stream": "stdout",
       "text": [
        "dpeth for half power absorbed is 0.59 micro-m\n"
       ]
      }
     ],
     "prompt_number": 8
    },
    {
     "cell_type": "heading",
     "level": 2,
     "metadata": {},
     "source": [
      "Example 9.9 Page 319 "
     ]
    },
    {
     "cell_type": "code",
     "collapsed": false,
     "input": [
      "#initialisation of variable\n",
      "from math import *\n",
      "s=1.118;#m\n",
      "h=1;#height\n",
      "\n",
      "#calculation\n",
      "M=(1+(s/h)**2)**.5;#air mass\n",
      "\n",
      "#result\n",
      "print\"air mass is\",round(M,2)"
     ],
     "language": "python",
     "metadata": {},
     "outputs": [
      {
       "output_type": "stream",
       "stream": "stdout",
       "text": [
        "air mass is 1.5\n"
       ]
      }
     ],
     "prompt_number": 9
    },
    {
     "cell_type": "heading",
     "level": 2,
     "metadata": {},
     "source": [
      "Example 9.10 Page 322"
     ]
    },
    {
     "cell_type": "code",
     "collapsed": false,
     "input": [
      "#initialisation of variable\n",
      "from math import *\n",
      "Vs=.35;#voltage\n",
      "Is=1*10**-9;#current\n",
      "Il=.1;#A\n",
      "Vl=.026;#V\n",
      "\n",
      "#calculation\n",
      "Voc=Vl*log(Il/Is);#open-circuit voltage\n",
      "P=-Is*Vs*(exp(Vs/Vl)-1)-(-Il*Vs);#power\n",
      "\n",
      "#result\n",
      "print\"open-circuit voltage is\",round(Voc,2),\"V\"\n",
      "print\"output power is\",round(P,4),\"W\""
     ],
     "language": "python",
     "metadata": {},
     "outputs": [
      {
       "output_type": "stream",
       "stream": "stdout",
       "text": [
        "open-circuit voltage is 0.48 V\n",
        "output power is 0.0348 W\n"
       ]
      }
     ],
     "prompt_number": 10
    }
   ],
   "metadata": {}
  }
 ]
}