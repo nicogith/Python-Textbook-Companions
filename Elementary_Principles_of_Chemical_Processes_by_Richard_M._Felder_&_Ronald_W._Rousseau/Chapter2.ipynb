{
 "metadata": {
  "name": "",
  "signature": "sha256:1e57dcb73985a42b8c9ee1409e50d4315b6a10f8a73cdae8a91714580c2fe346"
 },
 "nbformat": 3,
 "nbformat_minor": 0,
 "worksheets": [
  {
   "cells": [
    {
     "cell_type": "heading",
     "level": 1,
     "metadata": {},
     "source": [
      "Chapter 2: Introduction to Engineering Calculations"
     ]
    },
    {
     "cell_type": "heading",
     "level": 2,
     "metadata": {},
     "source": [
      "Example 2.2-1, page no. 10"
     ]
    },
    {
     "cell_type": "code",
     "collapsed": false,
     "input": [
      "\n",
      "\n",
      "#Initialization of variables\n",
      "import math\n",
      "import numpy\n",
      "from numpy import linalg\n",
      "\n",
      "AcclInitial=1.0           #cm/s^2\n",
      "\n",
      "#Calculations and printing :\n",
      "print(\" All the values in the textbook are Approximated hence the values in this code differ from those of Textbook\")\n",
      "AcclFinal=AcclInitial*math.pow(3600*24*365,2)/math.pow(10,5)\n",
      "#the calculations involved are the conversion factors\n",
      "print '%s %.3E' %(\" \\n final acceleration (Km/Yr^2) = \",AcclFinal)\n",
      "raw_input('press enter key to exit')"
     ],
     "language": "python",
     "metadata": {},
     "outputs": [
      {
       "output_type": "stream",
       "stream": "stdout",
       "text": [
        " All the values in the textbook are Approximated hence the values in this code differ from those of Textbook\n",
        " \n",
        " final acceleration (Km/Yr^2) =  9.945E+09\n"
       ]
      },
      {
       "name": "stdout",
       "output_type": "stream",
       "stream": "stdout",
       "text": [
        "press enter key to exit\n"
       ]
      },
      {
       "metadata": {},
       "output_type": "pyout",
       "prompt_number": 2,
       "text": [
        "''"
       ]
      }
     ],
     "prompt_number": 2
    },
    {
     "cell_type": "heading",
     "level": 2,
     "metadata": {},
     "source": [
      "Example 2.3-1, page no. 11"
     ]
    },
    {
     "cell_type": "code",
     "collapsed": false,
     "input": [
      "\n",
      "\n",
      "#Initialization of variables\n",
      "import math\n",
      "import numpy\n",
      "from numpy import linalg\n",
      "\n",
      "Initial=23.0  #lb.ft/min^2\n",
      "\n",
      "#Calculations and printing :\n",
      "\n",
      "Final=Initial*0.453593*100/(3.281*60*60)\n",
      "#the calculations involved are conversion factors\n",
      "print '%s %.4f' %(\"final (kg.cm/s^2) = \",Final)\n",
      "raw_input('press enter key to exit')"
     ],
     "language": "python",
     "metadata": {},
     "outputs": [
      {
       "output_type": "stream",
       "stream": "stdout",
       "text": [
        "final (kg.cm/s^2) =  0.0883\n"
       ]
      },
      {
       "name": "stdout",
       "output_type": "stream",
       "stream": "stdout",
       "text": [
        "press enter key to exit\n"
       ]
      },
      {
       "metadata": {},
       "output_type": "pyout",
       "prompt_number": 4,
       "text": [
        "''"
       ]
      }
     ],
     "prompt_number": 4
    },
    {
     "cell_type": "heading",
     "level": 2,
     "metadata": {},
     "source": [
      "Example 2.4-1, page no. 13"
     ]
    },
    {
     "cell_type": "code",
     "collapsed": false,
     "input": [
      "\n",
      "\n",
      "#Initialization of variables\n",
      "import math\n",
      "import numpy\n",
      "from numpy import linalg\n",
      "\n",
      "density=62.4            #lbm/ft^3\n",
      "volume=2.0              #ft^3\n",
      "\n",
      "#Calculations and printing :\n",
      "mass=volume*density\n",
      "print '%s %.3f' %(\"mass of the water = volume x density(lbm) = \",mass)\n",
      "print(\" \\n At sealevel, g=32.174 ft/s^2\")\n",
      "g=32.174\n",
      "weight=mass*g/32.174\n",
      "print '%s %.3f' %(\" \\n weight at sealevel (lbf) = \",weight)\n",
      "print(\" \\n At denver, g=32.139 ft/s^2\")\n",
      "g=32.139\n",
      "weight=mass*g/32.174\n",
      "print '%s %.3f' %(\"\\n weight at denver (lbf) = \",weight)\n",
      "#the division with 32.174 is to convert lbm.math.pow(ft/s,2) to lbf\n",
      "raw_input('press enter key to exit')"
     ],
     "language": "python",
     "metadata": {},
     "outputs": [
      {
       "output_type": "stream",
       "stream": "stdout",
       "text": [
        "mass of the water = volume x density(lbm) =  124.800\n",
        " \n",
        " At sealevel, g=32.174 ft/s^2\n",
        " \n",
        " weight at sealevel (lbf) =  124.800\n",
        " \n",
        " At denver, g=32.139 ft/s^2\n",
        "\n",
        " weight at denver (lbf) =  124.664\n"
       ]
      },
      {
       "name": "stdout",
       "output_type": "stream",
       "stream": "stdout",
       "text": [
        "press enter key to exit\n"
       ]
      },
      {
       "metadata": {},
       "output_type": "pyout",
       "prompt_number": 7,
       "text": [
        "''"
       ]
      }
     ],
     "prompt_number": 7
    },
    {
     "cell_type": "heading",
     "level": 2,
     "metadata": {},
     "source": [
      "Example 2.5-2, page no. 19"
     ]
    },
    {
     "cell_type": "code",
     "collapsed": false,
     "input": [
      "\n",
      " \n",
      "#Initialization of variables\n",
      "import math\n",
      "import numpy\n",
      "from numpy import linalg\n",
      "#the badbatches per week are taken as elements of a vector y\n",
      "\n",
      "y=[17, 27, 18, 18, 23, 19, 18, 21, 20, 19, 21, 18]\n",
      "\n",
      "#Calculations and printing :\n",
      "#Here We used standard library functions mean and st_deviation\n",
      "ybar=numpy.mean(y)\n",
      "sy=numpy.std(y)\n",
      "defaultvalue=ybar+3*sy+1\n",
      "print '%s %d' %(\"the maximum allowed value of y i.e. bad batches in a week is \", defaultvalue+1)\n",
      "print(\" \\n in case of 2 standard deviations\")\n",
      "defaultvalue=ybar+2*sy+1\n",
      "print '%s %d' %(\"the limiting value of y i.e. bad batches in a week is \",defaultvalue)\n",
      "raw_input('press enter key to exit')"
     ],
     "language": "python",
     "metadata": {},
     "outputs": [
      {
       "output_type": "stream",
       "stream": "stdout",
       "text": [
        "the maximum allowed value of y i.e. bad batches in a week is  29\n",
        " \n",
        " in case of 2 standard deviations\n",
        "the limiting value of y i.e. bad batches in a week is  26\n"
       ]
      },
      {
       "name": "stdout",
       "output_type": "stream",
       "stream": "stdout",
       "text": [
        "press enter key to exit\n"
       ]
      },
      {
       "metadata": {},
       "output_type": "pyout",
       "prompt_number": 3,
       "text": [
        "''"
       ]
      }
     ],
     "prompt_number": 3
    },
    {
     "cell_type": "heading",
     "level": 2,
     "metadata": {},
     "source": [
      "Example 2.7-1, page no. 24"
     ]
    },
    {
     "cell_type": "code",
     "collapsed": false,
     "input": [
      "\n",
      "\n",
      "#Initialization of variables\n",
      "import math\n",
      "import numpy\n",
      "from numpy import linalg\n",
      "from matplotlib import pyplot\n",
      "%matplotlib inline\n",
      "x=numpy.array([10., 30., 50., 70., 90.])\n",
      "y=numpy.array([20., 52.1, 84.6, 118.3, 151.0])\n",
      "\n",
      "#Calculations and printing :\n",
      "#this program uses least squares fit to solve for slope and intercept.\n",
      "#hence the value differs from textbook a bit.\n",
      "sx=sum(x)\n",
      "sx2=sum(x*x)\n",
      "sy=sum(y)\n",
      "D=numpy.transpose(y)\n",
      "sxy=sum(x*D)\n",
      "n=len(x)\n",
      "A=([[sx,n],[sx2,sx]])\n",
      "B=([[sy],[sxy]])\n",
      "p=numpy.dot(linalg.inv(A),B)\n",
      "m=p[0,0]\n",
      "b=p[1,0]\n",
      "yf=m*x+b\n",
      "pyplot.plot(x,yf)\n",
      "pyplot.xlim(min(x)-1,max(x)+1)\n",
      "pyplot.ylim(min(yf)-1,max(yf)+1)\n",
      "pyplot.xlabel('R')\n",
      "pyplot.ylabel('V')\n",
      "pyplot.show()\n",
      "print(\"in case 2, R=36\")\n",
      "R=36\n",
      "V=m*R+b\n",
      "print '%s %.3f' %(\"then V (L/min) =\",V),\n"
     ],
     "language": "python",
     "metadata": {},
     "outputs": [
      {
       "output_type": "stream",
       "stream": "stdout",
       "text": [
        " Populating the interactive namespace from numpy and matplotlib\n"
       ]
      },
      {
       "metadata": {},
       "output_type": "display_data",
       "png": "[encoded data removed]",
       "text": [
        "<matplotlib.figure.Figure at 0x2da0750>"
       ]
      },
      {
       "output_type": "stream",
       "stream": "stdout",
       "text": [
        "in case 2, R=36\n",
        "then V (L/min) = 62.226\n"
       ]
      }
     ],
     "prompt_number": 2
    },
    {
     "cell_type": "heading",
     "level": 2,
     "metadata": {},
     "source": [
      "Example 2.7-2, page no. 26"
     ]
    },
    {
     "cell_type": "code",
     "collapsed": false,
     "input": [
      "\n",
      "\n",
      "#Initialization of variables\n",
      "import math\n",
      "import numpy\n",
      "from numpy import linalg\n",
      "from matplotlib import pyplot\n",
      "%matplotlib inline\n",
      "\n",
      "T=[10., 20., 40., 80.]\n",
      "M=[14.76, 20.14, 27.73, 38.47]\n",
      "sqrtT=numpy.sqrt(T)\n",
      "\n",
      "\n",
      "#Calculations and printing :\n",
      "sx=sum(sqrtT)\n",
      "sx2=sum(T)\n",
      "sy=sum(M)\n",
      "D=numpy.transpose(M)\n",
      "sxy=sum(sqrtT*D)\n",
      "n=len(T)\n",
      "A=([[sx,n],[sx2,sx]]) \n",
      "B=([[sy],[sxy]])\n",
      "p=numpy.dot(linalg.inv(A),B)\n",
      "a=p[0,0]\n",
      "b=p[1,0]\n",
      "yf=a*sqrtT+b\n",
      "x=sqrtT\n",
      "pyplot.plot(x,yf)\n",
      "pyplot.xlim(min(x)-1,max(x)+1)\n",
      "pyplot.ylim(min(yf)-1,max(yf)+1)\n",
      "pyplot.xlabel('sqrtT')\n",
      "pyplot.ylabel('M')\n",
      "pyplot.show()\n",
      "print '%s %.3f' %(\"slope (g/s*K^.5) =\",a)\n",
      "print '%s %.3f' %(\"\\n intercept (g/s) =\",b)\n"
     ],
     "language": "python",
     "metadata": {},
     "outputs": [
      {
       "output_type": "stream",
       "stream": "stdout",
       "text": [
        "Populating the interactive namespace from numpy and matplotlib\n"
       ]
      },
      {
       "metadata": {},
       "output_type": "display_data",
       "png": "[encoded data removed]",
       "text": [
        "<matplotlib.figure.Figure at 0x2d9a8d0>"
       ]
      },
      {
       "output_type": "stream",
       "stream": "stdout",
       "text": [
        "slope (g/s*K^.5) = 4.100\n",
        "\n",
        " intercept (g/s) = 1.798\n"
       ]
      }
     ],
     "prompt_number": 4
    },
    {
     "cell_type": "heading",
     "level": 2,
     "metadata": {},
     "source": [
      "Example 2.7-3, page no. 29"
     ]
    },
    {
     "cell_type": "code",
     "collapsed": false,
     "input": [
      "\n",
      "\n",
      "#Initilization of variables\n",
      "#Units are not mentioned in this example\n",
      "import math\n",
      "t1=15.\n",
      "t2=30.\n",
      "F1=0.298\n",
      "F2=0.0527\n",
      "#Calculations and printing:\n",
      "print(\"Semi-log plot\")\n",
      "b1=(math.log(F2/F1))/(t2-t1)\n",
      "a1=math.exp(math.log(F1) -b1*t1)\n",
      "print '%s %.3f %s %.4f %s' %(\" \\n F=\",a1,\"exp(\",b1,\"t)\")\n",
      "print(\"\\n Log plot\")\n",
      "b2=(math.log(F2/F1))/(math.log(t2/t1))\n",
      "a2=math.exp(math.log(F1) -b2*math.log(t1))\n",
      "print '%s %.1f %s %.1f %s' %(\" \\n F=\",a2,\"exp(\",b2,\"t)\")\n",
      "raw_input(\"Press the Enter key to quit\")"
     ],
     "language": "python",
     "metadata": {},
     "outputs": [
      {
       "output_type": "stream",
       "stream": "stdout",
       "text": [
        "Semi-log plot\n",
        " \n",
        " F= 1.685 exp( -0.1155 t)\n",
        "\n",
        " Log plot\n",
        " \n",
        " F= 259.3 exp( -2.5 t)\n"
       ]
      },
      {
       "name": "stdout",
       "output_type": "stream",
       "stream": "stdout",
       "text": [
        "Press the Enter key to quit\n"
       ]
      },
      {
       "metadata": {},
       "output_type": "pyout",
       "prompt_number": 15,
       "text": [
        "''"
       ]
      }
     ],
     "prompt_number": 15
    }
   ],
   "metadata": {}
  }
 ]
}