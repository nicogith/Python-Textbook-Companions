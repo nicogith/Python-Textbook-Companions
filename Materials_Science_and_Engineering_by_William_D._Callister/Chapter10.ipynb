{
 "metadata": {
  "name": ""
 },
 "nbformat": 3,
 "nbformat_minor": 0,
 "worksheets": [
  {
   "cells": [
    {
     "cell_type": "heading",
     "level": 1,
     "metadata": {},
     "source": [
      "Chapter 10 : Elastic. Anelastic and Viscoelastic Behaviour"
     ]
    },
    {
     "cell_type": "heading",
     "level": 2,
     "metadata": {},
     "source": [
      "Example 10.1, Page No 241"
     ]
    },
    {
     "cell_type": "code",
     "collapsed": false,
     "input": [
      "import math\n",
      "#initialisation of variables\n",
      "n = 1.0\n",
      "m = 9.0\n",
      "A = 7.68e-29    # Constant having unit J m \n",
      "r_0 = 2.5e-10   # bonding distance in m\n",
      "\n",
      "#Calculations\n",
      "B = A*r_0**8.0/9\n",
      "Y = (90*B/(r_0)**11-2*A/(r_0)**3)/r_0\n",
      "\n",
      "#Results\n",
      "print(\"Young\u2019s modulus of material is %d GN m^-2\" %(Y/1e9))\n"
     ],
     "language": "python",
     "metadata": {},
     "outputs": [
      {
       "output_type": "stream",
       "stream": "stdout",
       "text": [
        "Young\u2019s modulus of material is 157 GN m^-2\n"
       ]
      }
     ],
     "prompt_number": 6
    },
    {
     "cell_type": "heading",
     "level": 2,
     "metadata": {},
     "source": [
      "Example 10.2, Page No 245"
     ]
    },
    {
     "cell_type": "code",
     "collapsed": false,
     "input": [
      "import math\n",
      "#initialisation of variables\n",
      "Y_f = 440.0\n",
      "Y_m = 71.0 \n",
      "sigma_total= 100.0     # total load\n",
      "\n",
      "#Calculations\n",
      "r = Y_f/Y_m\n",
      "sigma_f = r*(sigma_total/0.7)/(1+r*3/7)\n",
      "\n",
      "#Results\n",
      "print(\" Part A:\")\n",
      "print(\" When load is applied parallel to fiber then, stress in fiber is %d MN m^-2\" %sigma_f)\n",
      "\n",
      "print(\" Part B:\")\n",
      "print(\" When load is applied perpendicular to fiber then, stress in fiber and matrix is same i.e. %d MN m^-2\" %sigma_total)\n",
      "\n"
     ],
     "language": "python",
     "metadata": {},
     "outputs": [
      {
       "output_type": "stream",
       "stream": "stdout",
       "text": [
        " Part A:\n",
        " When load is applied parallel to fiber then, stress in fiber is 242 MN m^-2\n",
        " Part B:\n",
        " When load is applied perpendicular to fiber then, stress in fiber and matrix is same i.e. 100 MN m^-2\n"
       ]
      }
     ],
     "prompt_number": 7
    },
    {
     "cell_type": "heading",
     "level": 2,
     "metadata": {},
     "source": [
      "Example 10.3, Page No 251"
     ]
    },
    {
     "cell_type": "code",
     "collapsed": false,
     "input": [
      "import math\n",
      "#initialisation of variables\n",
      "t_r = 100.0   # relaxation time in s\n",
      "d = 2.5       # distance in angstrom\n",
      "\n",
      "#Calculations\n",
      "f = 1.0/t_r    # jump frequency\n",
      "D = (d*1e-10)**2*f\n",
      "\n",
      "#Results\n",
      "print(\"Diffusion coefficient is %.2e m^2 s^-1\" %D)\n"
     ],
     "language": "python",
     "metadata": {},
     "outputs": [
      {
       "output_type": "stream",
       "stream": "stdout",
       "text": [
        "Diffusion coefficient is 6.25e-22 m^2 s^-1\n"
       ]
      }
     ],
     "prompt_number": 8
    }
   ],
   "metadata": {}
  }
 ]
}