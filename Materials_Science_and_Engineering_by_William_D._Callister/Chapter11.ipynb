{
 "metadata": {
  "name": ""
 },
 "nbformat": 3,
 "nbformat_minor": 0,
 "worksheets": [
  {
   "cells": [
    {
     "cell_type": "heading",
     "level": 1,
     "metadata": {},
     "source": [
      "Chapter 11 : Plastic Deformation and Creep in Crystalline Materials"
     ]
    },
    {
     "cell_type": "heading",
     "level": 2,
     "metadata": {},
     "source": [
      "Example 11.2, Page No 272"
     ]
    },
    {
     "cell_type": "code",
     "collapsed": false,
     "input": [
      "import math\n",
      "#initialisation of variables\n",
      "b = 2.0 \t\t# burger vector in angstrom\n",
      "v = 20*b**3 \t# activation volume \n",
      "tau_pn = 1000.0 # P-N stress of crystal in MNm**-2\n",
      "k = 1.38e-23 \t# physical constant\n",
      "t1 = 0 \t\t\t# temperature in K\n",
      "t2 = 100.0\t\t# temperature in K \n",
      "t3 = 300.0\t\t# temperature in K\n",
      "t4 = 500.0\t\t# temperature in K\n",
      "T = t1\t\n",
      "\n",
      "#Calculations\n",
      "tau_app = tau_pn - 40.0*k*T/(v*1e-30)\n",
      "print(\"The stress required to move the dislocation at temperature %dK is %d MNm**-2\" %(T,tau_app))\n",
      "print(\"Part B:\")\n",
      "T = t2\n",
      "tau_app = tau_pn - 40*k*T/(v*1e-30*1e6)\n",
      "print(\"The stress required to move the dislocation at temperature %dK is %d MNm**-2\" %(T,tau_app))\n",
      "print(\"Part C:\")\n",
      "T = t3\n",
      "tau_app = tau_pn - 40*k*T/(v*1e-30*1e6)\n",
      "if tau_app<0 :\n",
      "    print(\" Stress to be applied is zero\")\n",
      "    print(\"The stress required to move the dislocation at temperature %dK entirely overcome by thermal fluctuations\" %T)\n",
      "\n",
      "print(\"Part D:\")\n",
      "T = t4\n",
      "tau_app = tau_pn - 40*k*T/(v*1e-30*1e6)\n",
      "\n",
      "#Results\n",
      "if tau_app<0 :\n",
      "    print(\"Stress to be applied is zero\")\n",
      "    print(\"The stress required to move the dislocation at temperature %dK entirely overcome by thermal fluctuations\" %T)\n"
     ],
     "language": "python",
     "metadata": {},
     "outputs": [
      {
       "output_type": "stream",
       "stream": "stdout",
       "text": [
        "The stress required to move the dislocation at temperature 0K is 1000 MNm**-2\n",
        "Part B:\n",
        "The stress required to move the dislocation at temperature 100K is 655 MNm**-2\n",
        "Part C:\n",
        " Stress to be applied is zero\n",
        "The stress required to move the dislocation at temperature 300K entirely overcome by thermal fluctuations\n",
        "Part D:\n",
        "Stress to be applied is zero\n",
        "The stress required to move the dislocation at temperature 500K entirely overcome by thermal fluctuations\n"
       ]
      }
     ],
     "prompt_number": 1
    },
    {
     "cell_type": "heading",
     "level": 2,
     "metadata": {},
     "source": [
      "Example 11.3, Page No 278"
     ]
    },
    {
     "cell_type": "code",
     "collapsed": false,
     "input": [
      "import math\n",
      "#initialisation of variables\n",
      "mu = 44.0 # shear modulus of copper in GN m^-2\n",
      "b = 2.55 # burgers vector in angstrom\n",
      "tau = 35.0 # shear stress in MN m^-2\n",
      "\n",
      "#Calculations\n",
      "l = mu*1e9*b*1e-10/(tau*1e6)\n",
      "rho = 1/l**2\n",
      "\n",
      "#Results\n",
      "print(\"Dislocation density in copper is %.1e  m^-2\" %rho)\n",
      "# Answer in book is 1e12 m^-2\n"
     ],
     "language": "python",
     "metadata": {},
     "outputs": [
      {
       "output_type": "stream",
       "stream": "stdout",
       "text": [
        "Dislocation density in copper is 9.7e+12  m^-2\n"
       ]
      }
     ],
     "prompt_number": 2
    },
    {
     "cell_type": "heading",
     "level": 2,
     "metadata": {},
     "source": [
      "Example 11.4, Page No 280"
     ]
    },
    {
     "cell_type": "code",
     "collapsed": false,
     "input": [
      "import math\n",
      "#initialisation of variables\n",
      "sigma1 = 120.0 # initial yield strength of material in MNm**-2\n",
      "sigma2 = 220.0 # Final yield strength of material in MN m**-2\n",
      "d1 = 0.04 # initial diameter in mm\n",
      "d2 = 0.01 # final diameter in mm\n",
      "n = 9.0 # astm number\n",
      "\n",
      "#Calculations\n",
      "print(\"Example 11.4\")\n",
      "k = (sigma2-sigma1)*1e6/(1/math.sqrt(d2*1e-3)-1/math.sqrt(d1*1e-3))\n",
      "sigma_i = sigma1*1e6 -k/math.sqrt((d1*1e-3))\n",
      "d = 1/math.sqrt(2**(n-1)*1e4/645)\n",
      "sigma_y = sigma_i+k*(d*1e-3)**(-0.5)\n",
      "\n",
      "#Results\n",
      "print(\"Yield stress for a grain size of ASTM 9 is %d MN m**-2\" %math.ceil(sigma_y/1e6))\n"
     ],
     "language": "python",
     "metadata": {},
     "outputs": [
      {
       "output_type": "stream",
       "stream": "stdout",
       "text": [
        "Example 11.4\n",
        "Yield stress for a grain size of ASTM 9 is 179 MN m**-2\n"
       ]
      }
     ],
     "prompt_number": 6
    },
    {
     "cell_type": "heading",
     "level": 2,
     "metadata": {},
     "source": [
      "Example 11.5 Page No 283"
     ]
    },
    {
     "cell_type": "code",
     "collapsed": false,
     "input": [
      "import math\n",
      "#initialisation of variables\n",
      "n1 = 1e6 # initial number of particles\n",
      "n2 = 1e3 # final number of particle\n",
      "\n",
      "#Calculations\n",
      "k = (n1/n2)**(1.0/3)\n",
      "\n",
      "#Results\n",
      "print(\"Yield strength would have decreased to %d percent of its initial value.\" %(100.0/k))"
     ],
     "language": "python",
     "metadata": {},
     "outputs": [
      {
       "output_type": "stream",
       "stream": "stdout",
       "text": [
        "Yield strength would have decreased to 10 of its initial value.\n"
       ]
      }
     ],
     "prompt_number": 7
    }
   ],
   "metadata": {}
  }
 ]
}