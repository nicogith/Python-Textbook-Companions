{
 "metadata": {
  "name": ""
 },
 "nbformat": 3,
 "nbformat_minor": 0,
 "worksheets": [
  {
   "cells": [
    {
     "cell_type": "heading",
     "level": 1,
     "metadata": {},
     "source": [
      "Chapter 14 : Conductors and Resistors"
     ]
    },
    {
     "cell_type": "heading",
     "level": 2,
     "metadata": {},
     "source": [
      "Example 14.1, Page No 336"
     ]
    },
    {
     "cell_type": "code",
     "collapsed": false,
     "input": [
      "import math\n",
      "#initialisation of variables\n",
      "n_x1 = 1.0  # atomic level\n",
      "n_y1 = 1.0  # atomic level\n",
      "n_z1 = 1.0  # atomic level\n",
      "n_x2 = 2.0  # atomic level\n",
      "L = 10.0    # lattice parameter in mm\n",
      "h = 6.626e-34 # plank constant\n",
      "m_e = 9.109e-31 # mass of electron in kg\n",
      "\n",
      "#Calculations\n",
      "E1 = h**2*(n_x1**2+n_y1**2+n_z1**2)/(8*m_e*(L*1e-3)**2)\n",
      "E2 = h**2*(n_x2**2+n_y1**2+n_z1**2)/(8*m_e*(L*1e-3)**2)\n",
      "E = E2-E1 # energy difference \n",
      "\n",
      "#Results\n",
      "print(\"Energy difference is %.2e J \" %E)\n"
     ],
     "language": "python",
     "metadata": {},
     "outputs": [
      {
       "output_type": "stream",
       "stream": "stdout",
       "text": [
        "Energy difference is 1.81e-33 J \n"
       ]
      }
     ],
     "prompt_number": 2
    },
    {
     "cell_type": "heading",
     "level": 2,
     "metadata": {},
     "source": [
      "Example 14.2, Page No 340"
     ]
    },
    {
     "cell_type": "code",
     "collapsed": false,
     "input": [
      "import math\n",
      "#initialisation of variables\n",
      "tau = 2e-14 # collision time of electron in s\n",
      "e = 1.602e-19 # charge on electron\n",
      "m_e = 9.1e-31 # mass of electron in kg\n",
      "\n",
      "#Calculations\n",
      "n = 6.023e23*8960/0.06354\n",
      "sigma= n*e**2*tau/m_e\n",
      "\n",
      "#Results\n",
      "print(\"Conductivity of copper at 300 K is %.1e ohm^-1 m^-1 \" %sigma)\n"
     ],
     "language": "python",
     "metadata": {},
     "outputs": [
      {
       "output_type": "stream",
       "stream": "stdout",
       "text": [
        "Conductivity of copper at 300 K is 4.8e+07 ohm^-1 m^-1 \n"
       ]
      }
     ],
     "prompt_number": 3
    },
    {
     "cell_type": "heading",
     "level": 2,
     "metadata": {},
     "source": [
      "Example 14.3, Page No 341"
     ]
    },
    {
     "cell_type": "code",
     "collapsed": false,
     "input": [
      "import math\n",
      "#initialisation of variables\n",
      "r_cu = 1.8e-8 \t\t# resistivity of pure copper in ohm-m\n",
      "r_Ni_cu = 7e-8 \t\t#resistivity of copper 4% Ni in ohm-m\n",
      "per1 = 4.0\t\t\t#impurity in percent\n",
      "per2 = 1.0\t\t\t # impurity in percent\n",
      "\n",
      "#Calculations\n",
      "r = (r_Ni_cu-r_cu)*per2/per1 \t# resistivity of copper 1% Ni in ohm-m\n",
      "\n",
      "#Results\n",
      "print(\"Resistivity due to impurity scattering of 1 %% of Nickel in copper lattice is %.1e ohm-m\" %r)\n"
     ],
     "language": "python",
     "metadata": {},
     "outputs": [
      {
       "output_type": "stream",
       "stream": "stdout",
       "text": [
        "Resistivity due to impurity scattering of 1 % of Nickel in copper lattice is 1.3e-08 ohm-m\n"
       ]
      }
     ],
     "prompt_number": 4
    }
   ],
   "metadata": {}
  }
 ]
}