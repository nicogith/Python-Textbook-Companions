{
 "metadata": {
  "name": ""
 },
 "nbformat": 3,
 "nbformat_minor": 0,
 "worksheets": [
  {
   "cells": [
    {
     "cell_type": "heading",
     "level": 1,
     "metadata": {},
     "source": [
      "Chapter 16 : Magnetic Materials"
     ]
    },
    {
     "cell_type": "heading",
     "level": 2,
     "metadata": {},
     "source": [
      "Example 16.1, Page No 396"
     ]
    },
    {
     "cell_type": "code",
     "collapsed": false,
     "input": [
      "import math\n",
      "#initialisation of variables\n",
      "a = 2.87 # lattice parameter in angstrom\n",
      "n = 2 # number of atoms per unit cell\n",
      "m = 1750 # Saturation magnetization in kAm^-1\n",
      "mu = 9.273e-24 # bohr magneton \n",
      "\n",
      "#Calculations\n",
      "m_atom = m*1e3*(a*1e-10)**3/n\n",
      "mu_b = m_atom/mu\n",
      "\n",
      "#Results\n",
      "print(\" Net magnetic moment per iron atom in crystal is %.3e Am^2\" %m_atom)\n",
      "print(\" In unit of mu_b, Net magnetic moment per iron atom in crystal is %.1f \" %mu_b)\n"
     ],
     "language": "python",
     "metadata": {},
     "outputs": [
      {
       "output_type": "stream",
       "stream": "stdout",
       "text": [
        " Net magnetic moment per iron atom in crystal is 2.068e-23 Am^2\n",
        " In unit of mu_b, Net magnetic moment per iron atom in crystal is 2.2 \n"
       ]
      }
     ],
     "prompt_number": 1
    },
    {
     "cell_type": "heading",
     "level": 2,
     "metadata": {},
     "source": [
      "Example 16.2, Page No 398"
     ]
    },
    {
     "cell_type": "code",
     "collapsed": false,
     "input": [
      "import math\n",
      "#initialisation of variables\n",
      "t1 = 0 \t\t\t# temperature in kelvin\n",
      "t2 = 300.0 \t\t# temperature in kelvin\n",
      "m_net_Gd = 7.0 \t# net magnetic moment of gadolinium\n",
      "m_net_Co = 1.7 \t# net magnetic moment of cobalt\n",
      "t_c_Gd = 289.0 # curie temperature for Gd\n",
      "\n",
      "#Calculations\n",
      "print(\" Part A:\")\n",
      "if m_net_Gd> m_net_Co :\n",
      "\tprint(\" At %d K, Net magnetic moment of gadolinium i.e. %d is greater than net magnetic moment of cobalt i.e. %.1f \" %(t1,m_net_Gd,m_net_Co))\n",
      "\tprint(\" So, Gd will have higher saturation magnetization\")\n",
      "\n",
      "print(\" Part B:\")\n",
      "if t_c_Gd<t2 :\n",
      "    print(\" At temperature %d K, Gd is above its curie temperature of %dK\" %(t2,t_c_Gd))\n",
      "    print(\" Gd will be paramagnetic at %d K and will have negligible magnetization as compared to Co, which has higher curie temperature\" %t2)\n"
     ],
     "language": "python",
     "metadata": {},
     "outputs": [
      {
       "output_type": "stream",
       "stream": "stdout",
       "text": [
        " Part A:\n",
        " At 0 K, Net magnetic moment of gadolinium i.e. 7 is greater than net magnetic moment of cobalt i.e. 1.7 \n",
        " So, Gd will have higher saturation magnetization\n",
        " Part B:\n",
        " At temperature 300 K, Gd is above its curie temperature of 289K\n",
        " Gd will be paramagnetic at 300 K and will have negligible magnetization as compared to Co, which has higher curie temperature\n"
       ]
      }
     ],
     "prompt_number": 2
    },
    {
     "cell_type": "heading",
     "level": 2,
     "metadata": {},
     "source": [
      "Example 16.4, Page No 402"
     ]
    },
    {
     "cell_type": "code",
     "collapsed": false,
     "input": [
      "import math\n",
      "#initialisation of variables\n",
      "v = 0.01 # volume in m^3\n",
      "x = 1e-4 # axis intercept\n",
      "y = 1e2 # axis intercept\n",
      "a = 60000.0 # Hysteresis loop area\n",
      "f = 50.0 # frequency in Hz\n",
      "\n",
      "#Calculations\n",
      "e = x*y*a # Energy loss in one loop\n",
      "E = e*v # energy loss in core in one cycle\n",
      "P = E*f # Power loss\n",
      "\n",
      "#Results\n",
      "print(\" Power loss due to hysteresis is %d W\" %P)\n"
     ],
     "language": "python",
     "metadata": {},
     "outputs": [
      {
       "output_type": "stream",
       "stream": "stdout",
       "text": [
        " Power loss due to hysteresis is 300 W\n"
       ]
      }
     ],
     "prompt_number": 3
    },
    {
     "cell_type": "heading",
     "level": 2,
     "metadata": {},
     "source": [
      "Example 16.5 Page No 405"
     ]
    },
    {
     "cell_type": "code",
     "collapsed": false,
     "input": [
      "import math\n",
      "#initialisation of variables\n",
      "Total1 = 2300.0 \t# total iron loss in W at 440 V and 50 Hz\n",
      "Total2 = 750.0 \t# total iron loss in W at 220 V and 25 Hz\n",
      "\n",
      "#Calculations\n",
      "W_e = 1.0/2*(Total1-2*Total2)\n",
      "\n",
      "#Results\n",
      "print(\" Eddy current loss at normal voltage and frequency is %d W\" %(4*W_e))"
     ],
     "language": "python",
     "metadata": {},
     "outputs": [
      {
       "output_type": "stream",
       "stream": "stdout",
       "text": [
        " Eddy current loss at normal voltage and frequency is 1600 W\n"
       ]
      }
     ],
     "prompt_number": 4
    }
   ],
   "metadata": {}
  }
 ]
}