{
 "metadata": {
  "name": ""
 },
 "nbformat": 3,
 "nbformat_minor": 0,
 "worksheets": [
  {
   "cells": [
    {
     "cell_type": "heading",
     "level": 1,
     "metadata": {},
     "source": [
      "Chapter 09 : Phase Transformations"
     ]
    },
    {
     "cell_type": "heading",
     "level": 2,
     "metadata": {},
     "source": [
      "Example 9.1, Page No 206"
     ]
    },
    {
     "cell_type": "code",
     "collapsed": false,
     "input": [
      "import math\n",
      "#initialisation of variables\n",
      "del_t1 = 0\t\t# temperature difference in degree Celsius\n",
      "del_t2 = -5     # temperature difference in degree Celsius\n",
      "del_t3 = -40    # temperature difference in degree Celsius\n",
      "del_h = 6.02    # enthalpy of fusion in kJ/mol\n",
      "T_m = 273.0     # mean temperature\n",
      "Gamma = 0.076   # energy of ice water interface in J /m^2\n",
      "v = 19.0        # molar volume of ice\n",
      "\n",
      "#Calculations\n",
      "print(\" Part A\")\n",
      "print(\" At del_t = %d, there is no supercooling. So there is no critical radius\" %del_t1)\n",
      "print(\" Part B\")\n",
      "del_f = 16.0/3*math.pi*(Gamma)**3*T_m**2/((del_h*1e3*1e6/v)**2*del_t2**2)\n",
      "r = 2*T_m*Gamma/(-del_h*1e3*1e6/v*del_t2)\n",
      "print(\" Critical free energy of nucleation is %.1eJ\" %del_f)\n",
      "print(\" Critical radius is %d angstrom\" %math.ceil(r*1e10))\n",
      "print(\" Part C\")\n",
      "temp_r = del_t3/del_t2\n",
      "del_f_ = del_f/temp_r**2\n",
      "r_ = r/temp_r\n",
      "\n",
      "#Results\n",
      "print(\" Critical free energy of nucleation is %.1eJ\" %del_f_)\n",
      "print(\" Critical radius is %d angstrom.\"   %math.ceil(r_*1e10))\n"
     ],
     "language": "python",
     "metadata": {},
     "outputs": [
      {
       "output_type": "stream",
       "stream": "stdout",
       "text": [
        " Part A\n",
        " At del_t = 0, there is no supercooling. So there is no critical radius\n",
        " Part B\n",
        " Critical free energy of nucleation is 2.2e-16J\n",
        " Critical radius is 262 angstrom\n",
        " Part C\n",
        " Critical free energy of nucleation is 3.4e-18J\n",
        " Critical radius is 33 angstrom.\n"
       ]
      }
     ],
     "prompt_number": 13
    },
    {
     "cell_type": "heading",
     "level": 2,
     "metadata": {},
     "source": [
      "Example 9.2, Page No 208"
     ]
    },
    {
     "cell_type": "code",
     "collapsed": false,
     "input": [
      "import math\n",
      "#initialisation of variables\n",
      "T= 300.0     # temperature in kelvin\n",
      "R = 8.314    # universal gas constant\n",
      "k = 2.303    # conversion factor\n",
      "a1 = 1e42\n",
      "a2 = 1e6 \t # nucleation rate\n",
      "a3 = 1e10    # nucleation rate\n",
      "\n",
      "#Calculations\n",
      "I1 = (math.log(a1,10)-math.log(a2,10))*k*R*T      #exponent factor\n",
      "I2 = (math.log(a1)-math.log(a3))*k*R*T            # exponent factor\n",
      "del_f = I1-I2                                     # difference \n",
      "a = 10**(math.log(a3,10)-math.log(a2,10))\n",
      "\n",
      "#Results\n",
      "print(\"A change of %d KJ mol^-1 energy is required to increase nucleation factor from \\n  %.0e m^-3 s^-1  to  %.0e m^-3 s^-1 \" %(math.ceil(del_f/1e3),a,a3))\n"
     ],
     "language": "python",
     "metadata": {},
     "outputs": [
      {
       "output_type": "stream",
       "stream": "stdout",
       "text": [
        "A change of -216 KJ mol^-1 energy is required to increase nucleation factor from \n",
        "  1e+04 m^-3 s^-1  to  1e+10 m^-3 s^-1 \n"
       ]
      }
     ],
     "prompt_number": 14
    },
    {
     "cell_type": "heading",
     "level": 2,
     "metadata": {},
     "source": [
      "Example 9.4, Page No 211"
     ]
    },
    {
     "cell_type": "code",
     "collapsed": false,
     "input": [
      "import math\n",
      "#initialisation of variables\n",
      "Gamma_alpha_del = 0.5    # in J m^-2\n",
      "Gamma_alpha_beta = 0.5   # in J m^-2\n",
      "Gamma_beta_del = 0.01    # in J m^-2\n",
      "\n",
      "#Calculations\n",
      "theta = math.acos((Gamma_alpha_del -Gamma_beta_del)/Gamma_alpha_beta)\n",
      "del_f_ratio = 1.0/4*(2-3*math.cos(theta)+(math.cos(theta))**3)\n",
      "\n",
      "#Results\n",
      "print(\"del_f_het is %0.4f th fraction of  del_f_homo.\" %del_f_ratio)\n"
     ],
     "language": "python",
     "metadata": {},
     "outputs": [
      {
       "output_type": "stream",
       "stream": "stdout",
       "text": [
        "del_f_het is 0.0003 th fraction of  del_f_homo.\n"
       ]
      }
     ],
     "prompt_number": 15
    },
    {
     "cell_type": "heading",
     "level": 2,
     "metadata": {},
     "source": [
      "Example 9.6 Page No 229"
     ]
    },
    {
     "cell_type": "code",
     "collapsed": false,
     "input": [
      "import math\n",
      "#initialisation of variables\n",
      "mu = 45.5e9\n",
      "b = 2.55e-10\n",
      "n1 = 1e9 \t\t# initial dislocation density\n",
      "n2 = 1e13       # final dislocation density\n",
      "\n",
      "#Calculations\n",
      "\n",
      "E = 1.0/2*mu*b**2*n2\n",
      "del_g = E       # as difference between initial and final dislocation energy is four order magnitude\n",
      "\n",
      "#Results\n",
      "print(\"Free energy change during recrystallization is %d J m^-3\" %-del_g)\n",
      "\n",
      "#Numerical value of answer in book is 14800\n"
     ],
     "language": "python",
     "metadata": {},
     "outputs": [
      {
       "output_type": "stream",
       "stream": "stdout",
       "text": [
        "Free energy change during recrystallization is -14793 J m^-3\n"
       ]
      }
     ],
     "prompt_number": 16
    }
   ],
   "metadata": {}
  }
 ]
}