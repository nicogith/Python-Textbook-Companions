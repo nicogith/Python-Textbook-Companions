{
 "metadata": {
  "name": ""
 },
 "nbformat": 3,
 "nbformat_minor": 0,
 "worksheets": [
  {
   "cells": [
    {
     "cell_type": "heading",
     "level": 1,
     "metadata": {},
     "source": [
      "Chapter 12 : Fracture"
     ]
    },
    {
     "cell_type": "heading",
     "level": 2,
     "metadata": {},
     "source": [
      "Example 12.1, Page No 302"
     ]
    },
    {
     "cell_type": "code",
     "collapsed": false,
     "input": [
      "import math\n",
      "#initialisation of variables\n",
      "c = 2.0 \t# crack of half length in micro meter\n",
      "Y = 70.0 \t# young\u2019s modulus in GN m^-2\n",
      "Gamma = 1.0\t # specific surface energy \n",
      "\n",
      "#Calculations\n",
      "sigma_f = math.sqrt(2*Gamma*Y*1e9/(math.pi*c*1e-6))/1e6\n",
      "r = Y*1e3/sigma_f\n",
      "\n",
      "#Results\n",
      "print(\" Fracture strength of %d MN m^-2 is 1/%d th of young\u2019s modulus. \"%(math.ceil(sigma_f),math.ceil(r/100.0)*100.0))\n",
      "print(\" Thus Griffiths criterion bridges the gap between the  observed and ideal strengths of brittle material\")\n"
     ],
     "language": "python",
     "metadata": {},
     "outputs": [
      {
       "output_type": "stream",
       "stream": "stdout",
       "text": [
        " Fracture strength of 150 MN m^-2 is 1/500 th of young\u2019s modulus. \n",
        " Thus Griffiths criterion bridges the gap between the  observed and ideal strengths of brittle material\n"
       ]
      }
     ],
     "prompt_number": 1
    },
    {
     "cell_type": "heading",
     "level": 2,
     "metadata": {},
     "source": [
      "Example 12.2, Page No 304"
     ]
    },
    {
     "cell_type": "code",
     "collapsed": false,
     "input": [
      "import math\n",
      "#initialisation of variables\n",
      "Gamma = 1.5\t\t# specific surface energy in J/m^2\n",
      "Y = 200.0\t \t# Young\u2019s modulus in GN/m^2\n",
      "c = 2.0\t\t    # half length of crack\n",
      "\n",
      "#Calculations\n",
      "sigma_f = math.sqrt(2*Gamma*Y*1e9/(math.pi*c*1e-6))\n",
      "\n",
      "#Results\n",
      "print(\" Brittle fracture strength at low temperatures is %d MNm^-2 \" %(sigma_f/1e6))# answer in book is 310MNm^-2\n",
      "\n"
     ],
     "language": "python",
     "metadata": {},
     "outputs": [
      {
       "output_type": "stream",
       "stream": "stdout",
       "text": [
        " Brittle fracture strength at low temperatures is 309 MNm^-2 \n"
       ]
      }
     ],
     "prompt_number": 3
    },
    {
     "cell_type": "heading",
     "level": 2,
     "metadata": {},
     "source": [
      "Example 12.3, Page No 306"
     ]
    },
    {
     "cell_type": "code",
     "collapsed": false,
     "input": [
      "import math\n",
      "#initialisation of variables\n",
      "Gamma = 2.0\t\t # specific surface energy in J/m**2\n",
      "Y = 350.0\t\t # Young\u2019s modulus in GN/m**2\n",
      "c = 2.0\t\t\t # half length of crack\n",
      "de_dt1 = 1e-2 \t\t# strain rate\n",
      "de_dt2 = 1e-5 \t# strain rate\n",
      "\n",
      "#Calculations\n",
      "print(\" Part A:\")\n",
      "sigma_f = math.sqrt(2*Gamma*Y*1e9/(math.pi*c*1e-6))\n",
      "sigma_y = sigma_f/1e6\n",
      "T = 173600/(sigma_y-20.6-61.3*math.log(de_dt1,10))\t# temperature calculation\n",
      "\n",
      "print(\" Transition temperature for strain rate %.0e s**-1 is %d K\" %(de_dt1,T))   # answer in book is 300 K\n",
      "print(\" Part B:\")\n",
      "\n",
      "T = 173600/(sigma_y-20.6-61.3*math.log(de_dt2,10))\t# temperature calculation\n",
      "\n",
      "\n",
      "#Results\n",
      "print(\" Transition temperature for strain rate %.0e s**-1 is %d K\" %(de_dt2,T))   # answer in book is 230 K\n",
      "# Solution in book for two parts is divided into three parts\n"
     ],
     "language": "python",
     "metadata": {},
     "outputs": [
      {
       "output_type": "stream",
       "stream": "stdout",
       "text": [
        " Part A:\n",
        " Transition temperature for strain rate 1e-02 s**-1 is 302 K\n",
        " Part B:\n",
        " Transition temperature for strain rate 1e-05 s**-1 is 229 K\n"
       ]
      }
     ],
     "prompt_number": 5
    }
   ],
   "metadata": {}
  }
 ]
}