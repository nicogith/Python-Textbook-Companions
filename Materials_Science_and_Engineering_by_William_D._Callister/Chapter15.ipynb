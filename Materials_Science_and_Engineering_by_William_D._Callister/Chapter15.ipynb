{
 "metadata": {
  "name": ""
 },
 "nbformat": 3,
 "nbformat_minor": 0,
 "worksheets": [
  {
   "cells": [
    {
     "cell_type": "heading",
     "level": 1,
     "metadata": {},
     "source": [
      "Chapter 15 : Semiconductors"
     ]
    },
    {
     "cell_type": "heading",
     "level": 2,
     "metadata": {},
     "source": [
      "Example 15.1, Page No 364"
     ]
    },
    {
     "cell_type": "code",
     "collapsed": false,
     "input": [
      "import math\n",
      "#initialisation of variables\n",
      "rho = 3000.0 # resistivity in ohm m\n",
      "mu_e = 0.14\n",
      "mu_h = 0.05 \n",
      "e = 1.602e-19 # charge on electron\n",
      "\n",
      "#Calculations\n",
      "sigma = 1.0/rho\n",
      "n = sigma/((mu_e+mu_h)*e)\n",
      "\n",
      "#Results\n",
      "print(\" Intrinsic carrier density is %.3e m^-3\" %n)\n"
     ],
     "language": "python",
     "metadata": {},
     "outputs": [
      {
       "output_type": "stream",
       "stream": "stdout",
       "text": [
        " Intrinsic carrier density is 1.095e+16 m^-3\n"
       ]
      }
     ],
     "prompt_number": 1
    }
   ],
   "metadata": {}
  }
 ]
}