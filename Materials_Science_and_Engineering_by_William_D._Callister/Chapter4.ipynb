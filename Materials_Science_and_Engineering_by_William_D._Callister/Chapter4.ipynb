{
 "metadata": {
  "name": ""
 },
 "nbformat": 3,
 "nbformat_minor": 0,
 "worksheets": [
  {
   "cells": [
    {
     "cell_type": "heading",
     "level": 1,
     "metadata": {},
     "source": [
      "Chapter 04 : Atomic Structure and Chemical Bonding"
     ]
    },
    {
     "cell_type": "heading",
     "level": 2,
     "metadata": {},
     "source": [
      "Example 4.1, Page No 56"
     ]
    },
    {
     "cell_type": "code",
     "collapsed": false,
     "input": [
      "import math\n",
      "#initialisation of variables\n",
      "\n",
      "E = 1.64e-18 # energy difference between two states in J\n",
      "h= 6.626e-34 # planks constant\n",
      "c = 2.998e8 # speed of light in m/s\n",
      "\n",
      "#Calculations\n",
      "nu = E/h\n",
      "lambda1 = c/nu\n",
      "\n",
      "#Results\n",
      "print(\"Frequency of emitted radiation is %.2e Hz\" %nu)\n",
      "print(\"Wavelength of emitted radiation is %.2e m\" %lambda1)    # answer in book is 1210 angstrom\n",
      "print(\"  %d angstrom \" %(lambda1*1e10))\n"
     ],
     "language": "python",
     "metadata": {},
     "outputs": [
      {
       "output_type": "stream",
       "stream": "stdout",
       "text": [
        "Frequency of emitted radiation is 2.48e+15 Hz\n",
        "Wavelength of emitted radiation is 1.21e-07 m\n",
        "  1211 angstrom \n"
       ]
      }
     ],
     "prompt_number": 9
    },
    {
     "cell_type": "heading",
     "level": 2,
     "metadata": {},
     "source": [
      "Example 4.3, Page No 70"
     ]
    },
    {
     "cell_type": "code",
     "collapsed": false,
     "input": [
      "import math\n",
      "#initialisation of variables\n",
      "e_a = 713.0 # enthalpy of atomization in kJ/mol\n",
      "e_b = 347.0 # bond energy in kJ/mol\n",
      "a = 4.0 # total number of atoms in single crystal structure\n",
      "b = 2 # number of atoms in a bond\n",
      "\n",
      "#Calculations\n",
      "k = a/b \t\t# effective number of bond per atom\n",
      "e = k*e_b\n",
      "\n",
      "#Results\n",
      "print(\"%d kJ should be the enthalpy of atomization of diamond\" %e)\n",
      "print(\"However, %d kJ is very close to \" %e)\n",
      "print(\"%d kJ\" %e_a)\n",
      "\n"
     ],
     "language": "python",
     "metadata": {},
     "outputs": [
      {
       "output_type": "stream",
       "stream": "stdout",
       "text": [
        "694 kJ should be the enthalpy of atomization of diamond\n",
        "However, 694 kJ is very close to \n",
        "713 kJ\n"
       ]
      }
     ],
     "prompt_number": 10
    },
    {
     "cell_type": "heading",
     "level": 2,
     "metadata": {},
     "source": [
      "Example 4.4, Page No 73"
     ]
    },
    {
     "cell_type": "code",
     "collapsed": false,
     "input": [
      "import math\n",
      "#initialisation of variables\n",
      "del_h = 6.02    # enthalpy of fusion in kJ/mol\n",
      "n = 2.0         # number of hydrogen atom in 1 water atom\n",
      "del_b = 20.5    # hydrogen bond energy in kJ/mol\n",
      "\n",
      "#Calculations\n",
      "f = del_h/(n*del_b)\n",
      "\n",
      "#Results\n",
      "print(\"Fraction of hydrogen bonds which broken is %.2f\" %f)\n"
     ],
     "language": "python",
     "metadata": {},
     "outputs": [
      {
       "output_type": "stream",
       "stream": "stdout",
       "text": [
        "Fraction of hydrogen bonds which broken is 0.15\n"
       ]
      }
     ],
     "prompt_number": 11
    }
   ],
   "metadata": {}
  }
 ]
}