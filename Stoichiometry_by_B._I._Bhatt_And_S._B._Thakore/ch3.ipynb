{
 "cells": [
  {
   "cell_type": "markdown",
   "metadata": {},
   "source": [
    "# Chapter 3 : Material Balances without Chemical Reaction"
   ]
  },
  {
   "cell_type": "markdown",
   "metadata": {},
   "source": [
    "### Example 3.1   Page 60"
   ]
  },
  {
   "cell_type": "code",
   "execution_count": 18,
   "metadata": {
    "collapsed": false
   },
   "outputs": [
    {
     "name": "stdout",
     "output_type": "stream",
     "text": [
      "Percentage of feed water to be blown down is  0.342857142857 .\n"
     ]
    }
   ],
   "source": [
    "# solution \n",
    "\n",
    "# Variables \n",
    "m = 1.               #[kg] feed water\n",
    "m1 = 1200.           #[mg] dissolved solids in 1 kg feed water\n",
    "m2 = 3500.           #[mg] max dissolved solid content \n",
    "\n",
    "# Calculation \n",
    "x = (m*m1)/m2        # [kg] blown down water\n",
    "\n",
    "# Result\n",
    "print \"Percentage of feed water to be blown down is \",x,\".\"\n"
   ]
  },
  {
   "cell_type": "markdown",
   "metadata": {},
   "source": [
    "### Example 3.2   Page 61"
   ]
  },
  {
   "cell_type": "code",
   "execution_count": 2,
   "metadata": {
    "collapsed": false
   },
   "outputs": [
    {
     "name": "stdout",
     "output_type": "stream",
     "text": [
      "Amount of water that evaporated is  84  kg.\n"
     ]
    }
   ],
   "source": [
    "# solution \n",
    "\n",
    "# Variables \n",
    "m = 100.                 #[kg] weak liquor (feed)\n",
    "m1 = 4.                  #[kg] NaOH\n",
    "p = .25\n",
    "\n",
    "# Calculation \n",
    "x = 4./p                 # water left\n",
    "y = 100-16               # [kg] evaporated water\n",
    "\n",
    "# Result\n",
    "print \"Amount of water that evaporated is \",y,\" kg.\"\n"
   ]
  },
  {
   "cell_type": "markdown",
   "metadata": {},
   "source": [
    "###  Example 3.3   Page 61"
   ]
  },
  {
   "cell_type": "code",
   "execution_count": 3,
   "metadata": {
    "collapsed": false
   },
   "outputs": [
    {
     "name": "stdout",
     "output_type": "stream",
     "text": [
      "Percentage of Tannin recovered during leaching is  94.5625688387 .\n"
     ]
    }
   ],
   "source": [
    "# solution \n",
    "\n",
    "# Variables \n",
    "m = 100.                     #[kg] babul bark (basis)\n",
    "m1 = 5.8                     #[kg] moisture\n",
    "m2 = 12.6                    #[kg] Tannin\n",
    "m3 = 8.3                     #[kg] soluble non tannin organic material\n",
    "m4 = m-m1-m2-m3              # [kg] Lignin\n",
    "\n",
    "# Calculation \n",
    "# lignin content remains unaffected during leaching\n",
    "m5 = 100-.92-.65             # [kg lignin/kg dry residue]\n",
    "x = (m4*100)/m5              # [kg]\n",
    "T1 = x*.0092                 #[kg] Tannin present in residue\n",
    "T2 = m2 - T1                 # [kg] Tannin recovered\n",
    "T = (T2/m2)*100\n",
    "\n",
    "# Result \n",
    "print \"Percentage of Tannin recovered during leaching is \",T,\".\"\n"
   ]
  },
  {
   "cell_type": "markdown",
   "metadata": {},
   "source": [
    "###  Example 3.4   Page 62"
   ]
  },
  {
   "cell_type": "code",
   "execution_count": 4,
   "metadata": {
    "collapsed": false
   },
   "outputs": [
    {
     "name": "stdout",
     "output_type": "stream",
     "text": [
      "a  mass of extract phase per kg of dry leaves is  0.0243902439024  kg   \n",
      "b  percent recovery of Alpha Tocopherol is  82.1845174973 .\n"
     ]
    }
   ],
   "source": [
    "# solution \n",
    "\n",
    "# Variables \n",
    "m = 1.                   #[kg] dry neem leaves (basis)\n",
    "m1 = .01/100             #[kg] beta cartene content of leaves\n",
    "\n",
    "# Calculation\n",
    "Ex = (m1*100)/.41        #[kg] extract quantity\n",
    "Tc1 = Ex*.155            #[kg] Alpha Tocopherol in the extract\n",
    "Tc2 = .46/100            #[kg] Alpha Tocopherol in the neem leaves\n",
    "R = (Tc1*100)/Tc2        # recovery of Alpha Tocopherol \n",
    "\n",
    "# Result\n",
    "print \"a  mass of extract phase per kg of dry leaves is \"\\\n",
    ",Ex,\" kg   \\nb  percent recovery of Alpha Tocopherol is \",R,\".\"\n"
   ]
  },
  {
   "cell_type": "markdown",
   "metadata": {},
   "source": [
    "### Example 3.5   Page 62"
   ]
  },
  {
   "cell_type": "code",
   "execution_count": 4,
   "metadata": {
    "collapsed": false
   },
   "outputs": [
    {
     "name": "stdout",
     "output_type": "stream",
     "text": [
      "a)  Upper layer =  93.4470832373  kg \n",
      "and Lower layer =  102.421028361   \n",
      "b)  mass ratio of the mixed solvent to the original mixture is  -0.9989     \n",
      "c)  water mass percent =  58.9418250036 \n",
      "and acetic acid mass percent =  41.0581749964 .\n"
     ]
    }
   ],
   "source": [
    "# solution \n",
    "from numpy import array, linalg\n",
    "\n",
    "# Variables \n",
    "m= 100.                  #[kg] original mixture (basis)\n",
    "A = 27.8                 #[kg]\n",
    "B = 72.2                 #[kg]\n",
    "\n",
    "# let x and y be uper and lower layer amounts\n",
    "# total mixture = (x+y) kg\n",
    "# balancing A and B\n",
    "X = array([[.075 ,.203],[.035, .673]])\n",
    "d = array([27.8,72.2])\n",
    "\n",
    "# Calculation \n",
    "x = linalg.solve(X,d)\n",
    "M = X[0][0]+X[1,0]          # [kg] total mixture\n",
    "Ms = M - m                  #[kg] mixed solvent\n",
    "Mr = Ms/m\n",
    "S1 = x[0]*.574+x[1]*.028            #[kg] water balance\n",
    "S2 = x[0]*.316+x[1]*.096            #[kg] acetic acid balance\n",
    "Qs = S1+S2\n",
    "pS1 = (S1*100)/Qs\n",
    "pS2 = 100-pS1\n",
    "\n",
    "# Result\n",
    "print \"a)  Upper layer = \",x[0],\" kg \\nand Lower layer = \",x[1],\\\n",
    "\"  \\nb)  mass ratio of the mixed solvent to the original mixture is \",Mr,\\\n",
    "\"    \\nc)  water mass percent = \",pS1,\"\\nand acetic acid mass percent = \",pS2,\".\"\n"
   ]
  },
  {
   "cell_type": "markdown",
   "metadata": {},
   "source": [
    "### Example 3.6   Page 63"
   ]
  },
  {
   "cell_type": "code",
   "execution_count": 6,
   "metadata": {
    "collapsed": false
   },
   "outputs": [
    {
     "name": "stdout",
     "output_type": "stream",
     "text": [
      "Vol percent of N2 is  70.6666666667  and Vol percent of O2 is  29.3333333333 .\n"
     ]
    }
   ],
   "source": [
    "# solution \n",
    "# Variables \n",
    "m = 170.                         #[Nm**3/h] air (basis)\n",
    "m1 = 50*.99                     #[Nm**3/h] N2 content of the stream\n",
    "m2 = 50*.01                      #[Nm**3/h]\n",
    "\n",
    "# Calculation \n",
    "N = m*.79-m1                     # [Nm**3/h] N2\n",
    "O = m*.21-m2                     # [Nm**3/h] O2\n",
    "V1 = N*100/(N+O)\n",
    "V2 = O*100/(N+O)\n",
    "\n",
    "# Result\n",
    "print \"Vol percent of N2 is \",V1,\" and Vol percent of O2 is \",V2,\".\"\n"
   ]
  },
  {
   "cell_type": "markdown",
   "metadata": {},
   "source": [
    "### Example 3.7   Page 64"
   ]
  },
  {
   "cell_type": "code",
   "execution_count": 7,
   "metadata": {
    "collapsed": false
   },
   "outputs": [
    {
     "name": "stdout",
     "output_type": "stream",
     "text": [
      "Strength of Oleum required is  22.8571428571  HNO3 and Oleum are required to be mixed in the proportion of  0.942857142857 :1.\n"
     ]
    }
   ],
   "source": [
    "# solution \n",
    "# Variables \n",
    "m = 100.                     #[kg] SO3 free mixed acid (basis)\n",
    "m1 = 55.                     #[kg] HNO3\n",
    "m2 = 45.                     #[kg] H2SO4\n",
    "\n",
    "# Calculation \n",
    "# SO3 + H2O --> H2SO4\n",
    "m3 = (80./18)*3              #[kg] SO3 equivalent to 3 kg of water\n",
    "Q = m2+m3                    #[kg] oleum to be mixed\n",
    "S = (m3/Q)*100               # strength of oleum\n",
    "R = m1/Q \n",
    "\n",
    "# Result\n",
    "print \"Strength of Oleum required is \",S,\" HNO3 and Oleum are required\\\n",
    " to be mixed in the proportion of \",R,\":1.\"\n"
   ]
  },
  {
   "cell_type": "markdown",
   "metadata": {},
   "source": [
    "### Example 3.8   Page 64"
   ]
  },
  {
   "cell_type": "code",
   "execution_count": 3,
   "metadata": {
    "collapsed": false
   },
   "outputs": [
    {
     "name": "stdout",
     "output_type": "stream",
     "text": [
      "quantities of acids required are :\n",
      "    Spent  =   76.4139267072 kg\n",
      "    HNO3   =   345.961362536  kg\n",
      "    H2SO4  =   577.624710757  kg.\n"
     ]
    }
   ],
   "source": [
    "from numpy import array, linalg\n",
    "\n",
    "# solution \n",
    "# Variables \n",
    "m = 1000.                #[kg] mixed acid (basis)\n",
    "# doing overall mass balance, H2SO4 balance and HNO3 balance\n",
    "A = array([[1, 1, 1],[.444, 0, .98],[.113, .9, 0]])\n",
    "d = array([1000,600,320])\n",
    "\n",
    "# Calculation \n",
    "x = linalg.solve(A,d)\n",
    "\n",
    "# Result\n",
    "print \"quantities of acids required are :\"\n",
    "print \"    Spent  =  \",x[0],\"kg\"\n",
    "print \"    HNO3   =  \",x[1],\" kg\"\n",
    "print \"    H2SO4  =  \",x[2],\" kg.\"\n"
   ]
  },
  {
   "cell_type": "markdown",
   "metadata": {},
   "source": [
    "### Example 3.9   Page 65"
   ]
  },
  {
   "cell_type": "code",
   "execution_count": 5,
   "metadata": {
    "collapsed": false
   },
   "outputs": [
    {
     "name": "stdout",
     "output_type": "stream",
     "text": [
      "Component analysis of raw water:\n",
      " Compound          mg/l \n",
      " Ca(HCO3)2        505.62\n",
      " Mg(HCO3)2          49.896\n",
      " NaHCO3           11.088\n",
      " Na2CO3           69.854\n",
      " NaCl             783.735211268\n",
      " Na2SO4           152.20625\n"
     ]
    }
   ],
   "source": [
    "# solution \n",
    "# Variables \n",
    "l = 1.                      #[litre] water (basis)\n",
    "Cl = 475.6                  #[mg]\n",
    "m1 = (58.5/35.5)*Cl         #[mg] NaCl present in water\n",
    "SO4 = 102.9                 #[mg] # SO4\n",
    "m3 = (142./96)*SO4          #[mg] Na2SO4 present in water\n",
    "\n",
    "# Calculation \n",
    "# carbonates are present due to Na2CO3\n",
    "# eq mass of CaCO3 = 50\n",
    "# eq mass of Na2CO3 = 53\n",
    "m4 = (53./50)*65.9          # [mg] Na2CO3 present in water\n",
    "\n",
    "# NaHCO3 in water = bicarbonates - temporary hardness\n",
    "m5 = 390.6-384              # [mg] NaHCO3 present as CaCO3\n",
    "m6 = (84./50)*m5            # [mg] NaHCO3 present in water\n",
    "\n",
    "# equivalent mass of Mg(HCO3)2 = 73.15\n",
    "m7 = (m6/50.)*225\n",
    "m8  = 384-225               #[mg] CaCO3 from Ca(HCO3)2\n",
    "# equivalent mass of Ca(HCO3)2 is 81\n",
    "m9 = (m8/50.)*159           #[mg] Ca(HCO3)2 present in water\n",
    "\n",
    "# Result\n",
    "print \"Component analysis of raw water:\"\n",
    "print \" Compound          mg/l \"\n",
    "print \" Ca(HCO3)2       \",m9\n",
    "print \" Mg(HCO3)2         \",m7\n",
    "print \" NaHCO3          \",m6\n",
    "print \" Na2CO3          \",m4\n",
    "print \" NaCl            \",m1\n",
    "print \" Na2SO4          \",m3\n"
   ]
  },
  {
   "cell_type": "markdown",
   "metadata": {},
   "source": [
    "### Example 3.11   Page 68"
   ]
  },
  {
   "cell_type": "code",
   "execution_count": 10,
   "metadata": {
    "collapsed": false
   },
   "outputs": [
    {
     "name": "stdout",
     "output_type": "stream",
     "text": [
      "Flowrates are : \n",
      "   A =  158.0  kg/h\n",
      "   B =  422.0  kg/h\n",
      "   C =  420.0  kg/h\n"
     ]
    }
   ],
   "source": [
    "from numpy import array, linalg\n",
    "# solution \n",
    "# Variables \n",
    "# basis : 1000 kg/h of feed\n",
    "# balancing H2SO4, HNO3 and H2O in all the three product streams\n",
    "M = array([[1, 0, 0, 1, 0, 0, 1, 0, 0],[0, 1, 0 ,0, 1, 0, 0, 1, 0],\\\n",
    "[0, 0, 1, 0, 0, 1, 0, 0, 1],[1, 0, 0, 0, 0, 0, 0, 0, 0],[0, 1, 0, 0, 0, 0, 0, 0, 0]\\\n",
    ",[0, 0, 1, 0, 0, 0, 0, 0, 0],[0 ,0, 0, 1, 0, 0, 0, 0, 0],[0, 0, 0, 0, 1, 0, 0, 0, 0],\\\n",
    "[0, 0, 0, 0, 0, 1, 0, 0, 0]])\n",
    "v = array([400,100,500,4,94,60,16,6,400])\n",
    "\n",
    "# Calculation \n",
    "s = linalg.solve(M,v)\n",
    "A = s[0]+s[1]+s[2]\n",
    "B = s[3]+s[4]+s[5]\n",
    "C = s[6]+s[7]+s[8]\n",
    "\n",
    "# Result\n",
    "print \"Flowrates are : \"\n",
    "print \"   A = \",A,\" kg/h\"\n",
    "print \"   B = \",B,\" kg/h\"\n",
    "print \"   C = \",C,\" kg/h\"\n"
   ]
  },
  {
   "cell_type": "markdown",
   "metadata": {},
   "source": [
    "###  Example 3.12   Page 70"
   ]
  },
  {
   "cell_type": "code",
   "execution_count": 2,
   "metadata": {
    "collapsed": false
   },
   "outputs": [
    {
     "data": {
      "image/png": "[encoded data removed]",
      "text/plain": [
       "<matplotlib.figure.Figure at 0x7f0690347e50>"
      ]
     },
     "metadata": {},
     "output_type": "display_data"
    },
    {
     "name": "stdout",
     "output_type": "stream",
     "text": [
      "a  Upper layer =  93.4  kg and Lower layer =  102.4\n",
      "b  mass ratio of the mixed solvent to the original mixture is  0.958\n",
      "c  water mass percent =  58.9403862931  and acetic acid mass percent =  41.0596137069 .\n"
     ]
    }
   ],
   "source": [
    "%matplotlib inline\n",
    "from numpy import linspace\n",
    "from matplotlib.pyplot import plot, show\n",
    "# solution \n",
    "# Variables \n",
    "m = 100.                      # kg\n",
    "x = linspace(70,110,5);\n",
    "y = linspace(100,115,4);\n",
    "\n",
    "# Calculation \n",
    "y1 = 27.8/.203 - .075*x/.203\n",
    "y2 = 72.2/.673 - .035*x/.673\n",
    "x = linspace(70,110,5);\n",
    "plot(x,y1)\n",
    "plot(x,y2)\n",
    "show()\n",
    "x = 93.4;\n",
    "y = 102.4;\n",
    "M = x+y                      # [kg] total mixture\n",
    "Ms = M - m                   #[kg] mixed solvent\n",
    "Mr = Ms/m                    # mixed solvent/original mixture\n",
    "S1 = x*.574+y*.028           #[kg] water balance\n",
    "S2 = x*.316+y*.096           #[kg] acetic acid balance\n",
    "Qs = S1+S2\n",
    "pS1 = (S1*100)/Qs\n",
    "pS2 = 100-pS1\n",
    "\n",
    "# Result\n",
    "print \"a  Upper layer = \",x,\" kg and Lower layer = \",y\n",
    "print \"b  mass ratio of the mixed solvent to the original mixture is \",Mr\n",
    "print \"c  water mass percent = \",pS1,\" and acetic acid mass percent = \",pS2,\".\"\n"
   ]
  },
  {
   "cell_type": "markdown",
   "metadata": {},
   "source": [
    "###  Example 3.14   Page 73"
   ]
  },
  {
   "cell_type": "code",
   "execution_count": 13,
   "metadata": {
    "collapsed": false
   },
   "outputs": [
    {
     "name": "stdout",
     "output_type": "stream",
     "text": [
      "a  recovery percent of glycerine is  85.9864521592\n",
      "   b  percent loss of glycerinr is  1.04784081287\n",
      "   c  product contamination with respect to salt NaCl is  0.283116033416\n"
     ]
    }
   ],
   "source": [
    "# solution \n",
    "# Variables \n",
    "#using table 2.7 on page no 75\n",
    "Rg = 8124.*100/9448                 # recovery of glycerine\n",
    "Lg = (16+83)*100./9448              # loss of glycerine in waste\n",
    "Reg = 100-Rg-Lg                     # recycle of glycerine\n",
    "\n",
    "# Calculation \n",
    "m1 = 238/8124.                      # NaCl in product\n",
    "m2 = Rg*12/100.                     # glycerine in product\n",
    "m3 = m1+m2                          # total solute\n",
    "n = m1*100/m3                       # NaCl percent in total solute\n",
    "\n",
    "# Result\n",
    "print \"a  recovery percent of glycerine is \",Rg\n",
    "print \"   b  percent loss of glycerinr is \",Lg\n",
    "print \"   c  product contamination with respect to salt NaCl is \",n\n"
   ]
  },
  {
   "cell_type": "markdown",
   "metadata": {},
   "source": [
    "### Example 3.15   Page 76"
   ]
  },
  {
   "cell_type": "code",
   "execution_count": 14,
   "metadata": {
    "collapsed": false
   },
   "outputs": [
    {
     "name": "stdout",
     "output_type": "stream",
     "text": [
      "a  moisture removed in AC plant =  1.48829053429\n",
      "  b  moisture added in auditorium =  4249.92025923\n",
      "   c  recycle ratio of moles of air recycled per mole mole of fresh ambient air input =  3.89342336\n"
     ]
    }
   ],
   "source": [
    "# solution \n",
    "\n",
    "# Variables \n",
    "f1 = 1.25                   #[m**3/s] fresh ambient air as feed (basis)\n",
    "f2 = 5.806                  #[m**/s] air entering auditorium\n",
    "v1 = 8.314*290/101.3        #[m**3/kmol] sp. vol. of moist air at 101.3 kPa and 290 K\n",
    "na1 = f2*1000/v1            # [mol/s] molar flow rate of air entering auditorium\n",
    "nw1 = 243.95*.0163/1.0163   # [mol/s]\n",
    "na2 = 243.95 - nw1          #[mol/s] dry air flow\n",
    "nw2 = 240.04*.0225          #[mol/s] moisture enterin air conditioning plant\n",
    "\n",
    "# Calculation \n",
    "# using table 3.8\n",
    "m1 = (nw2-nw1)              #[kg/h] moisture removed in a c plant\n",
    "m2 = na2-.0181              #[mol/s] moisture in air leaving auditorium\n",
    "m3 = (m2-nw1)*18            # [kg/h] moisture added in auditorium\n",
    "Vm2 = 8.314*308/101.3       # [m**3/kmol]\n",
    "na3 = (f1/25.28)*1000       #[mol/s] \n",
    "n4 = 5.40-1.925             #[mol/s] moisture in recycle stream\n",
    "mr = 240.04-47.525          #[mol/s] molar flow rate of wet recycle stream\n",
    "R = mr/na3\n",
    "\n",
    "# Result\n",
    "print \"a  moisture removed in AC plant = \",m1\n",
    "print \"  b  moisture added in auditorium = \",m3\n",
    "print \"   c  recycle ratio of moles of air recycled per mole mole of fresh ambient air input = \",R\n"
   ]
  },
  {
   "cell_type": "markdown",
   "metadata": {},
   "source": [
    "### Example 3.16   Page 78"
   ]
  },
  {
   "cell_type": "code",
   "execution_count": 15,
   "metadata": {
    "collapsed": false
   },
   "outputs": [
    {
     "name": "stdout",
     "output_type": "stream",
     "text": [
      "Overall Efficiency = E1 E2 E3*100/[1-E11-E2+E2 E3].\n"
     ]
    }
   ],
   "source": [
    "# solution \n",
    "\n",
    "# screen 1\n",
    "# feed = N kg\n",
    "# Oversize particle = NE1 kg\n",
    "# Undersize particle = N-NE1\n",
    "\n",
    "#screen 2\n",
    "#feed = NE1+X kg\n",
    "# Oversize particle = (NE1+X)*E2 kg\n",
    "# Undersize particle = (NE1+X)(1-E2) kg\n",
    "\n",
    "\n",
    "#screen 3\n",
    "# feed = (NE1+X)*E2 kg\n",
    "# Oversize particle = (NE1+X)*E2*E3 kg\n",
    "# Undersize particle = (NE1+X)*E2*(1-E3) kg\n",
    "print \"Overall Efficiency = E1 E2 E3*100/[1-E11-E2+E2 E3].\"\n"
   ]
  },
  {
   "cell_type": "markdown",
   "metadata": {},
   "source": [
    "### Example 3.17   Page 79"
   ]
  },
  {
   "cell_type": "code",
   "execution_count": 16,
   "metadata": {
    "collapsed": false
   },
   "outputs": [
    {
     "name": "stdout",
     "output_type": "stream",
     "text": [
      "a  \n",
      "     Flow rate of product stream is  2234.89795918  kmol/h.\n",
      "b  \n",
      "    Product H2 stream :   H2 =  2605.30204082  kmol/h   CO =  159.8  kmol/h \n",
      "c  \n",
      "    Composition of Mixed feed :   H2 =  66.842375    CO =  33.157625\n"
     ]
    }
   ],
   "source": [
    "# solution \n",
    "# Variables \n",
    "print \"a  \"\n",
    "F = 5000.                       #[kmol/h] feed (basis)\n",
    "\n",
    "# Calculation \n",
    "m1 = F*.47                      #[kmol/h] CO in F\n",
    "m2 = F-m1                       #[kmol/h] H2 in F\n",
    "m3 = m1*.932                    # CO in product stream\n",
    "n2 = m3/.98                      #[kmol/h] \n",
    "\n",
    "# Result\n",
    "print \"     Flow rate of product stream is \",n2,\" kmol/h.\\nb  \"\n",
    "n2 = n2-m3                      #[kmol/h] H2 in CO stream\n",
    "print \"    Product H2 stream :   H2 = \",m2-n2,\" kmol/h   CO = \",m1-m3,\" kmol/h \\nc  \"\n",
    "nH2 = 2697.39                   #[kmol/h]\n",
    "nCO = 3000-nH2                  # [kmol/h]\n",
    "n4 = m2+nH2\n",
    "n5 = m1+nCO\n",
    "n6 = n4+n5\n",
    "\n",
    "print \"    Composition of Mixed feed :   H2 = \",n4*100/n6,\"   CO = \",n5*100/n6\n"
   ]
  },
  {
   "cell_type": "markdown",
   "metadata": {},
   "source": [
    "### Example 3.18   Page 79"
   ]
  },
  {
   "cell_type": "code",
   "execution_count": 1,
   "metadata": {
    "collapsed": false
   },
   "outputs": [
    {
     "name": "stdout",
     "output_type": "stream",
     "text": [
      "F =  8.2196969697\n",
      " m**3/h R1 =  60.8294930876\n",
      " m**3/h P =  11.25\n",
      " m**3/h R2 =  1.25\n",
      " m**3/h recycle ratio =  0.152073732719\n",
      " rejection percentage of salt in module I =  95.3914154639\n"
     ]
    }
   ],
   "source": [
    "# solution \n",
    "\n",
    "# Variables \n",
    "\n",
    "# Overall balance\n",
    "# F=R1+P2\n",
    "# Balance across Module I\n",
    "# F+R2 = R1+P1 ==> R1+P2+R2 = R1+P1\n",
    "# balance across module II\n",
    "# P1 = P2+R2\n",
    "P2 = 5.                     #[m**3/h]\n",
    "P1 = P2/.8                  #[m**3/h]\n",
    "R2 = P1-P2                  #[m**3/h]\n",
    "F = P1/.66 - R2             #[m**3/h]\n",
    "R1 = F-P2                   #[m**3/h]\n",
    "\n",
    "# Calculation \n",
    "# Overall balance of DS in water\n",
    "xR1 = (F*4200-P2*5.)/R1     #[mg/l]\n",
    "xP1 = (P2*5)/(.015*P1)      # [mg/l]\n",
    "xR2 = (P1*xP1-P2*5)/R2      #[mg/l]\n",
    "m1 = F*4200+R2*xR2          #[g] DS mixeed in MF\n",
    "C1 = m1/(F+R2)              # [mg/l]\n",
    "m2 = R1*xR1                 #[g] DS in R1\n",
    "r = m2*100/m1               # rejection in module in I\n",
    "m3 = m1-m2                  #[g] DS in P1\n",
    "C2 = m3/P1                  # [mg/l] \n",
    "R = R2/F \n",
    "R1 = P2*100/F\n",
    "\n",
    "# Result\n",
    "print \"F = \",F\n",
    "print \" m**3/h R1 = \",R1\n",
    "print \" m**3/h P = \",P1+P2\n",
    "print \" m**3/h R2 = \",R2\n",
    "print \" m**3/h recycle ratio = \",R\n",
    "print \" rejection percentage of salt in module I = \",r\n"
   ]
  },
  {
   "cell_type": "code",
   "execution_count": null,
   "metadata": {
    "collapsed": true
   },
   "outputs": [],
   "source": []
  }
 ],
 "metadata": {
  "kernelspec": {
   "display_name": "Python 2",
   "language": "python",
   "name": "python2"
  },
  "language_info": {
   "codemirror_mode": {
    "name": "ipython",
    "version": 2
   },
   "file_extension": ".py",
   "mimetype": "text/x-python",
   "name": "python",
   "nbconvert_exporter": "python",
   "pygments_lexer": "ipython2",
   "version": "2.7.6"
  }
 },
 "nbformat": 4,
 "nbformat_minor": 0
}
