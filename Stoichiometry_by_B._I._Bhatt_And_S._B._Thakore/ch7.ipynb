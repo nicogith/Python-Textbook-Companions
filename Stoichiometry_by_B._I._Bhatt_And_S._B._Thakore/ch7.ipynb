{
 "cells": [
  {
   "cell_type": "markdown",
   "metadata": {},
   "source": [
    "# Chapter 7 : Combustion"
   ]
  },
  {
   "cell_type": "markdown",
   "metadata": {},
   "source": [
    "### Example 7.1   Page 434"
   ]
  },
  {
   "cell_type": "code",
   "execution_count": 1,
   "metadata": {
    "collapsed": false
   },
   "outputs": [
    {
     "name": "stdout",
     "output_type": "stream",
     "text": [
      "a   Net H2 in coal =  0.535  kg.    b   \n",
      "Combined water in the coal =  20.304  kg.    c   \n",
      "GCV by Dulongs formula =  17855.94  kJ/kg.    d   \n",
      "NCV of the coal =  16057.95325  kJ/kg.    e   \n",
      "Total Carbon by Calderwood eq =  43.5822593081 .\n"
     ]
    }
   ],
   "source": [
    "# solution \n",
    "\n",
    "# Variables \n",
    "# basis 100 kg as received coal\n",
    "O2 = 18.04                      #kg\n",
    "nH2 = 2.79-(O2/8)               #kg\n",
    "print \"a   Net H2 in coal = \",nH2,\" kg.    b   \"\n",
    "cbW = 1.128*18                  # kg \n",
    "print \"Combined water in the coal = \",cbW,\" kg.    c   \"\n",
    "\n",
    "# Calculation \n",
    "# Dulong's formula\n",
    "GCV1 = 33950*(50.22/100) + 144200*nH2/100 + 9400*.37/100            # kJ/kg\n",
    "\n",
    "# Result\n",
    "print \"GCV by Dulongs formula = \",GCV1,\" kJ/kg.    d   \"\n",
    "tH2 = 1.395                     # kmol\n",
    "wp = tH2*18 + 7\n",
    "Hv = 2442.5*wp/100              # kJ/kg fuel\n",
    "GCV2 = 23392*(1-.21-.07)        # as of received coal\n",
    "NCV = GCV2-Hv\n",
    "print \"NCV of the coal = \",NCV,\" kJ/kg.    e   \"\n",
    "# Calderwood eq\n",
    "# Total C = 5.88 + .00512(B-40.5S) +- .0053[80-100*(VM/FC)]**1.55\n",
    "C = 5.88 + .00512*(7240.8-40.5*.37)+.0053*(80-56.52)**1.55\n",
    "print \"Total Carbon by Calderwood eq = \",C,\".\"\n"
   ]
  },
  {
   "cell_type": "markdown",
   "metadata": {},
   "source": [
    "###  Example 7.2   Page 436"
   ]
  },
  {
   "cell_type": "code",
   "execution_count": 2,
   "metadata": {
    "collapsed": false
   },
   "outputs": [
    {
     "name": "stdout",
     "output_type": "stream",
     "text": [
      "NCV =  42323.1875  kJ/kg.\n"
     ]
    }
   ],
   "source": [
    "# solution \n",
    "\n",
    "# Variables \n",
    "# basis 1 kg crude oil\n",
    "H2 = .125                   # kg   burnt\n",
    "\n",
    "# Calculation \n",
    "H2O = H2*18/2.\n",
    "Lh = H2O*2442.5             #kJ\n",
    "GCV = 45071\n",
    "NCV = GCV-Lh                #kJ/kg oil\n",
    "\n",
    "# Result\n",
    "print \"NCV = \",NCV,\" kJ/kg.\"\n"
   ]
  },
  {
   "cell_type": "markdown",
   "metadata": {},
   "source": [
    "###  Example 7.3   Page 444"
   ]
  },
  {
   "cell_type": "code",
   "execution_count": 3,
   "metadata": {
    "collapsed": false
   },
   "outputs": [
    {
     "name": "stdout",
     "output_type": "stream",
     "text": [
      "NHV =  2043.160519  kJ/mol.\n"
     ]
    }
   ],
   "source": [
    "# solution \n",
    "# Variables \n",
    "\n",
    "# basis 1 mol of gaseous propane\n",
    "H2O = 4*18.0153             #g\n",
    "\n",
    "# Calculation \n",
    "NHV = 2219.17-(H2O*2442.5/1000.)\n",
    "\n",
    "# Result\n",
    "print \"NHV = \",NHV,\" kJ/mol.\"\n"
   ]
  },
  {
   "cell_type": "markdown",
   "metadata": {},
   "source": [
    "###  Example 7.4   Page 444"
   ]
  },
  {
   "cell_type": "code",
   "execution_count": 4,
   "metadata": {
    "collapsed": false
   },
   "outputs": [
    {
     "name": "stdout",
     "output_type": "stream",
     "text": [
      " GCV =  52126.6269579  kJ/kg.  NCV =  47260.2164681  kJ/kg.\n"
     ]
    }
   ],
   "source": [
    "# solution \n",
    "\n",
    "# Variables \n",
    "# basis 1 mol of natural gas\n",
    "# using table 7.7\n",
    "# Calculation \n",
    "H2O = (2*.894+3*.05+.019+5*(.004+.006))*18              # g\n",
    "Hv = H2O*2442.5/1000.\n",
    "NCV1 = 945.16-Hv\n",
    "GCV = 945.16*1000/18.132\n",
    "NCV = NCV1*1000/18.132\n",
    "\n",
    "# Result\n",
    "print \" GCV = \",GCV,\" kJ/kg.  NCV = \",NCV,\" kJ/kg.\"\n"
   ]
  },
  {
   "cell_type": "markdown",
   "metadata": {},
   "source": [
    "###  Example 7.5   Page 451"
   ]
  },
  {
   "cell_type": "code",
   "execution_count": 5,
   "metadata": {
    "collapsed": false
   },
   "outputs": [
    {
     "name": "stdout",
     "output_type": "stream",
     "text": [
      "a   Theoratical O2 requirement per unit mass of coal =  1.38592  kg.   b   Theoratical dry air requirement =  5.94790666667  kg/kg coal.\n"
     ]
    }
   ],
   "source": [
    "# solution \n",
    "\n",
    "# Variables \n",
    "# basis 100 kg fuel\n",
    "O2req = 4.331*32                    # kg\n",
    "\n",
    "# Calculation \n",
    "rO2req = O2req/100\n",
    "N2in = (79/21.)*4.331               # kmol\n",
    "AIRreq = O2req+N2in*28              #kg\n",
    "rAIRreq = AIRreq/100.\n",
    "R = AIRreq/100.\n",
    "AIRspld = R*2                       # kg/kg coal\n",
    "O2spld = 4.331*2                    # kmol\n",
    "N2spld = N2in*2\n",
    "N2coal = 2.05/28                    # kmol\n",
    "tN2 = N2spld+N2coal\n",
    "moist = 1.395+(7/18.)               # kmol\n",
    "\n",
    "# Result\n",
    "print \"a   Theoratical O2 requirement per unit mass of coal = \",rO2req,\\\n",
    "\" kg.   b   Theoratical dry air requirement = \",rAIRreq,\" kg/kg coal.\"\n"
   ]
  },
  {
   "cell_type": "markdown",
   "metadata": {},
   "source": [
    "###  Example 7.6   Page 452"
   ]
  },
  {
   "cell_type": "code",
   "execution_count": 6,
   "metadata": {
    "collapsed": false
   },
   "outputs": [
    {
     "name": "stdout",
     "output_type": "stream",
     "text": [
      "a   Theoretical air required =  13.514  kg/kg fuel.  \n",
      "b   Actual dry air supplied =  0.5825  kg/kg fuel.  \n",
      "c   Concentration of SO2 =  2490.75695661  mg/kg. \n",
      "d   Concentration of SO2 =  1135.99480688  ppm vol/vol.\n",
      "e   Concentration of SO2 if gases are discharged at 523.15K and100.7kPa =  1683.25355648  mg/m**3. \n",
      "f   Dew Point of flue gas =  424.4  K.\n"
     ]
    }
   ],
   "source": [
    "# solution \n",
    "\n",
    "# Variables \n",
    "# basis 100 kg of RFO\n",
    "O2req = 9.786                   #kmol\n",
    "N2req = (79/21.)*O2req          #kmol\n",
    "AIRreq = O2req+N2req            #kmol\n",
    "rAIRreq = AIRreq*29/100\n",
    "AIRspld = AIRreq*1.25\n",
    "rAIRspld = AIRspld/100\n",
    "\n",
    "\n",
    "# Calculation \n",
    "# using table 7.11 and 7.12\n",
    "xSO2 = .07/(55.925+5.695)       # kmol SO2/kmol wet gas\n",
    "vSO2 = xSO2*10**6               # ppm\n",
    "mSO2 = 4.48*10**6/(1696.14+102.51)\n",
    "\n",
    "# at 523.15 K and 100.7 kPa\n",
    "V = ((55.925+5.695)*8.314*523.15)/100.7         # m**3\n",
    "cSO2 = (4.48*10**6)/V                           # mg/m**3\n",
    "#from fig 7.3\n",
    "dp = 424.4                      #K\n",
    "\n",
    "# Result\n",
    "print \"a   Theoretical air required = \",rAIRreq,\" kg/kg fuel.  \"\n",
    "print \"b   Actual dry air supplied = \",rAIRspld,\" kg/kg fuel.  \"\n",
    "print \"c   Concentration of SO2 = \",mSO2,\" mg/kg. \"\n",
    "print \"d   Concentration of SO2 = \",vSO2,\" ppm vol/vol.\"\n",
    "print \"e   Concentration of SO2 if gases are discharged at 523.15K and100.7kPa = \",cSO2,\" mg/m**3. \"\n",
    "print \"f   Dew Point of flue gas = \",dp,\" K.\"\n"
   ]
  },
  {
   "cell_type": "markdown",
   "metadata": {},
   "source": [
    "###  Example 7.7   Page 454"
   ]
  },
  {
   "cell_type": "code",
   "execution_count": 7,
   "metadata": {
    "collapsed": false
   },
   "outputs": [
    {
     "name": "stdout",
     "output_type": "stream",
     "text": [
      "a   Percent excess air =  23.0320699708 .   b   In fuel C:H =  5.00333333333 .\n"
     ]
    }
   ],
   "source": [
    "# solution \n",
    "\n",
    "# Variables \n",
    "# basis 100 kmol of dry flue gas\n",
    "O2acntd = 11.4+4.2                  # kmol\n",
    "O2avlbl = (21./79)*84.4              # kmol\n",
    "O2excs = 4.2                        #kmol\n",
    "\n",
    "# Calculation \n",
    "O2unactd = O2avlbl-O2acntd\n",
    "H2brnt = O2unactd*2\n",
    "O2req = 11.4+O2unactd\n",
    "pexcsAIR = O2excs*100/O2req\n",
    "mH2brnt = H2brnt*2                  # kg\n",
    "mCbrnt = 11.4*12\n",
    "r = mCbrnt/mH2brnt\n",
    "\n",
    "# Result\n",
    "print \"a   Percent excess air = \",pexcsAIR,\".   b   In fuel C:H = \",r,\".\"\n"
   ]
  },
  {
   "cell_type": "markdown",
   "metadata": {},
   "source": [
    "###  Example 7.8   Page 459"
   ]
  },
  {
   "cell_type": "code",
   "execution_count": 2,
   "metadata": {
    "collapsed": false
   },
   "outputs": [
    {
     "name": "stdout",
     "output_type": "stream",
     "text": [
      "a   Theoretical air required =  2.3432  kg dry air/kg fuel.  \n",
      "  b    Percent excess air =  30.2652456295 . \n",
      "  c    Dew Point of flue gas =  339.85 K.  \n",
      "  d    Thermal efficiency of the boiler =  0.728802718447 .\n"
     ]
    }
   ],
   "source": [
    "# solution \n",
    "\n",
    "# Variables \n",
    "# basis 100 kg of bagasse fired in th boiler\n",
    "#(a)\n",
    "O2req = 2.02                    # kmol\n",
    "N2in = (79/21)*O2req            # kmol\n",
    "AIRreq = (O2req+N2in)*29        # kg\n",
    "rAIR = AIRreq/100\n",
    "print \"a   Theoretical air required = \",rAIR,\" kg dry air/kg fuel.  \\n  b   \",\n",
    "\n",
    "# Calculation \n",
    "# (b)\n",
    "tflugas = 1.95/.1565            #/kmol\n",
    "xcsO2N2 = tflugas - 1.95\n",
    "x = (xcsO2N2-7.6)/4.76          # kmol\n",
    "pxcsAIR = x*100/O2req\n",
    "\n",
    "# Result\n",
    "print \"Percent excess air = \",pxcsAIR,\". \\n  c   \",\n",
    "#(c)\n",
    "pW = 100*.2677                  # kPa    partial p of water vap\n",
    "# from fig 6.13\n",
    "dp = 339.85                     #K\n",
    "print \"Dew Point of flue gas = \",dp,\"K.  \\n  d   \",\n",
    "# (d)\n",
    "# from appendix IV\n",
    "hfw = 292.97                    #kJ/kg     enthalpy of feed water at 343.15 K\n",
    "Hss = 3180.15                   # kJ/kg   enthalpy of super heated steam at 2.15 bar and 643.15K\n",
    "Hgain = Hss - hfw\n",
    "H6 = Hgain*2.6*100              # kJ    heat gained by water\n",
    "H1 = 100*1030000.               # kJ\n",
    "GCV = H6*100/H1\n",
    "print \"Thermal efficiency of the boiler = \",GCV,\".\"\n"
   ]
  },
  {
   "cell_type": "markdown",
   "metadata": {},
   "source": [
    "###  Example 7.9   Page 465"
   ]
  },
  {
   "cell_type": "code",
   "execution_count": 9,
   "metadata": {
    "collapsed": false
   },
   "outputs": [
    {
     "name": "stdout",
     "output_type": "stream",
     "text": [
      "Overall efficiency rate =  0.0230701331531  percent.\n"
     ]
    }
   ],
   "source": [
    "# solution \n",
    "\n",
    "\n",
    "# Variables \n",
    "# using mean heat capacity data Table 7.21\n",
    "# basis 100 kmol of dry flue gas\n",
    "\n",
    "# Calculation \n",
    "H7 = 1.0875*100*30.31*(423.15-298.15)\n",
    "H71 = 3633.654*(423.15-298.15)\n",
    "fi7 = H71*3900*.7671/162.2              # kJ/h\n",
    "fi1 = 3.9*1000*26170                    # kJ/h\n",
    "# performing heat balance\n",
    "Hsteamgen = 23546.07  \n",
    "eff = Hsteamgen*100/fi1                 # overall efficiency rate\n",
    "\n",
    "# Result\n",
    "print \"Overall efficiency rate = \",eff,\" percent.\"\n"
   ]
  },
  {
   "cell_type": "markdown",
   "metadata": {},
   "source": [
    "###  Example 7.10   Page 468"
   ]
  },
  {
   "cell_type": "code",
   "execution_count": 1,
   "metadata": {
    "collapsed": false
   },
   "outputs": [
    {
     "name": "stdout",
     "output_type": "stream",
     "text": [
      "a   NCV =  41561.332  kJ/kg.  \n",
      "  b   Theoretical air required =  12.8699733333  kg/kg fuel. \n",
      "   c    When fluid is burnt with theoretical air AFT =  2612.71  K.    d   \n",
      "When 30 percent excess air is supplied AFT =  2178.66  K.    d   Dew Point =  429.0  K.    e   For incomplete combustion AFT =  2561.42  K.\n"
     ]
    }
   ],
   "source": [
    "# solution \n",
    "\n",
    "\n",
    "# Variables \n",
    "# basis 100 kg of fuel oil\n",
    "O2req =  9.364              # kmol\n",
    "N2in = (79/21.)*O2req\n",
    "tN2 = N2in+.036\n",
    "AIRreq = O2req*32 + tN2*28  \n",
    "rAIR = AIRreq/100.          # kg/kg\n",
    "wp = 4.5                    # kmol\n",
    "Hloss = 2442.8*wp*18/100    # kJ/kg fuel\n",
    "NCV = 43540-Hloss\n",
    "print \"a   NCV = \",NCV,\" kJ/kg.  \\n  b   Theoretical air required = \",rAIR,\" kg/kg fuel. \\n   c   \",\n",
    "H1 = 100*41561.33           # kJ\n",
    "\n",
    "# Calculation \n",
    "# from table 5.1\n",
    "H71 = 1349.726*(1500-298.15)+252.924*10**-3 * ((1500**2-298.15**2)/2)+ \\\n",
    "257.436*10**-6*((1500**3-298.15**3)/3)-137.532*10**-9*((1500**4-298.15**4)/4)   # upto 1500 K\n",
    "H711 = H1-H71               # above 1500K\n",
    "# F(T) = {1500 to T} integr[1477.301+375.2710*10**-3T-91.2760*10**-6T**2+8.146*10**-9T**3]dT-2147118     (i)\n",
    "# solving it for T = 2000\n",
    "AFT = 2612.71               # K\n",
    "\n",
    "# Result\n",
    "print \"When fluid is burnt with theoretical air AFT = \",AFT,\" K.    d   \"\n",
    "# with 30% excess air\n",
    "O2spld = 9.364*1.3\n",
    "xcsO2 = O2spld-O2req\n",
    "N2in1 = (79/21.)*O2spld\n",
    "tN21 = N2in1+.036\n",
    "# now, using table 7.26, table 7.27 and eq(i)  we get\n",
    "AFT1 = 2178.66              # K\n",
    "# from fig 7.3\n",
    "dp = 429.                   # K\n",
    "# similarly for incomplete combustion we find\n",
    "AFT2 = 2561.42              #K\n",
    "print \"When 30 percent excess air is supplied AFT = \",AFT1,\\\n",
    "\" K.    d   Dew Point = \",dp,\" K.    e   For incomplete combustion AFT = \",AFT2,\" K.\"\n"
   ]
  },
  {
   "cell_type": "markdown",
   "metadata": {},
   "source": [
    "###  Example 7.11   Page 473"
   ]
  },
  {
   "cell_type": "code",
   "execution_count": 1,
   "metadata": {
    "collapsed": false
   },
   "outputs": [
    {
     "name": "stdout",
     "output_type": "stream",
     "text": [
      " After performing material and thermal balance operations we get    Overall thermal efficiency of the boiler based on GCV  of the fuel =  67.4403345362  percent.   Overall efficiency of the boiler based   on NCV of the fuel =  71.464013185  percent.   Steam to fuel ratio =  10.9125     at 16 bar.   Equivalent boiler capacity =  5051.22697062  kg/h.\n"
     ]
    }
   ],
   "source": [
    "# solution \n",
    "\n",
    "# Variables\n",
    "# basis 100 kg of fuel\n",
    "# material balance of carbon\n",
    "CO2 = 7.092+.047                #kmol   in flue gases\n",
    "N2 = 11.94*7.139/7.01\n",
    "O2 = 11.94*7.139/7.01\n",
    "flue = CO2+N2+O2\n",
    "\n",
    "# Calculation \n",
    "# material balance of O2\n",
    "O2air = 21*N2/79.\n",
    "airin = N2+O2air\n",
    "tO2in = O2air+.078              # O2 in burner\n",
    "O2xcs = tO2in-9.864\n",
    "# material balance of water vapour\n",
    "moistfrmd = 5.45                # kmol    from combustion of H2\n",
    "H = .0331                       # kmol/kmol of dry air        humidity at 100.7 kPa\n",
    "moistair = H*104.482            #kmol\n",
    "tmoist = moistfrmd+moistair\n",
    "pxcsair = O2xcs*100/9.786\n",
    "# now using table 7.32\n",
    "H7 = 3391.203*(563.15-298.15)   #kJ\n",
    "Ff = 400.                       # kg/h   fuel firing rate\n",
    "tH = 2791.7-179.99              # kJ/kg    total heat supplied in boiler\n",
    "fi5 = tH*4365                   # kJ/h\n",
    "fi8 = 5.45*18*Ff*2403.5/100     # kJ/h\n",
    "GCVf = 42260.                   #kJ/kg\n",
    "fi1 = Ff*GCVf\n",
    "Fdryair = 104.482*29*Ff/100\n",
    "Cha = 1.006+1.84*.0205          # kJ/kg dry air K\n",
    "fi3 = Fdryair*Cha*(308.15-298.15)\n",
    "fi2 = Ff*1.758*(353.15-298.15)\n",
    "BOILEReff1 = fi5*100/fi1\n",
    "NCVf = GCVf-(18.0153/2.016)*.109*2442.8  # kJ/kg\n",
    "BOILEReff2 = fi5*100/(Ff*NCVf)\n",
    "r = 4365/Ff                     # steam:fuel\n",
    "BOILERcapacity = fi5/2256.9\n",
    "\n",
    "# Result\n",
    "print \" After performing material and thermal balance\\\n",
    " operations we get    Overall thermal efficiency of the boiler based on GCV\\\n",
    "  of the fuel = \",BOILEReff1,\" percent.   Overall efficiency of the boiler based\\\n",
    "   on NCV of the fuel = \",BOILEReff2,\" percent.   Steam to fuel ratio = \",r,\" \\\n",
    "   at 16 bar.   Equivalent boiler capacity = \",BOILERcapacity,\" kg/h.\"\n"
   ]
  },
  {
   "cell_type": "markdown",
   "metadata": {},
   "source": [
    "###  Example 7.12   Page 478"
   ]
  },
  {
   "cell_type": "code",
   "execution_count": 12,
   "metadata": {
    "collapsed": false
   },
   "outputs": [
    {
     "name": "stdout",
     "output_type": "stream",
     "text": [
      " a   Moistproducer gas obtained =  3.9053717744  Nm**3/kg coal.  \n",
      "   b   Air supplied =  3.15945684695  kg/kg coal gassified.  \n",
      "  c   Steam supplied =  0.289649027717  kg/kg coal.\n"
     ]
    }
   ],
   "source": [
    "# solution \n",
    "\n",
    "# Variables\n",
    "# basis 100 kmol of dry producer gas\n",
    "C = 33*12.                  # kg\n",
    "O2 = 18.5*32                #kg\n",
    "H2 = 20*2.                  # kg\n",
    "O2air = 21*51/79.           # kmol\n",
    "COALgassified = 396/.672    # kg\n",
    "\n",
    "# Calculation \n",
    "O2coal = COALgassified*.061/32              # kmol\n",
    "tO2 = O2coal + O2air\n",
    "O2steam = 18.5-tO2          # kmol\n",
    "H2steam = 2*O2steam         # kmol\n",
    "H2fuel = 20-H2steam\n",
    "dryproducergas = 100*22.41/COALgassified    # Nm**3/kg coal\n",
    "Pw = 2.642                  # kPa\n",
    "Ha = Pw/(100.7-Pw)          # kmol/kmol dry gas\n",
    "water = Ha*100.\n",
    "moistproducergas = (100+water)*22.41/COALgassified          # Nm**3/kg coal\n",
    "dryair = (51*28+O2air*32)/COALgassified                     # kg/kg coal\n",
    "tsteamsupplied = H2steam+water-(COALgassified*.026/18)      # kmol\n",
    "steam = tsteamsupplied*18/COALgassified\n",
    "\n",
    "# Result\n",
    "print \" a   Moistproducer gas obtained = \",moistproducergas,\" Nm**3/kg coal.  \\n \\\n",
    "  b   Air supplied = \",dryair,\" kg/kg coal gassified.  \\n  c   Steam supplied = \",steam,\" kg/kg coal.\"\n"
   ]
  },
  {
   "cell_type": "markdown",
   "metadata": {},
   "source": [
    "###  Example 7.13   Page 479"
   ]
  },
  {
   "cell_type": "code",
   "execution_count": 15,
   "metadata": {
    "collapsed": false
   },
   "outputs": [
    {
     "name": "stdout",
     "output_type": "stream",
     "text": [
      "Heat Balance of Waste Heat Boiler kJ/h  \n",
      "Heat Output  Steam rising  Economiser 2864424.0   \n",
      "Steam generator                14971273.0  \n",
      "Super heater   1856650.0    \n",
      "Heat loss in flue gases    11409604.8615   \n",
      "Unaccounted heat loss   4715492.33477\n"
     ]
    }
   ],
   "source": [
    "# solution \n",
    "\n",
    "# Variables\n",
    "# solving by alternate method on page 483\n",
    "# basis 100 kmol of dry producer gas\n",
    "# using tables 7.38 and 7.39\n",
    "fi7 = 6469.67*(833.15-298.15)*(27650/2672.)          # kJ/h\n",
    "\n",
    "# Calculation \n",
    "# heat output basis 1 kg of steam\n",
    "# referring Appendix IV\n",
    "H4 = 675.47-272.03                                  # kJ/kg\n",
    "Ts = 463.                                           # K\n",
    "h = 806.69                                          # kJ/kg\n",
    "lambdav = 1977.4                                    # kJ/kg\n",
    "Hss = 2784.1                                        # kJ/kg at Ts\n",
    "i = 3045.6                                          # kJ/kg\n",
    "H6 = i-Hss\n",
    "fi4 = H4*7100                                       # kJ/h\n",
    "fi5 = (Hss-675.47)*7100                             # kJ/h\n",
    "fi6 = H6*7100                                       # kJ/h\n",
    "recovery = fi4+fi5+fi6\n",
    "BOILERcapacity = recovery*3600/2256.9               # kg/h\n",
    "fi8 = 6125.47*(478.15-298.15)*(27650/2672.)         # kJ/h\n",
    "hloss = fi7-fi4-fi5-fi6-fi8                         #/ kJ/h\n",
    "\n",
    "# Result\n",
    "print \"Heat Balance of Waste Heat Boiler kJ/h  \\nHeat Output  Steam rising  Economiser\",fi4,\\\n",
    "\"  \\nSteam generator               \",fi5,\" \\nSuper heater  \",fi6,\\\n",
    "\"   \\nHeat loss in flue gases   \",fi8,\"  \\nUnaccounted heat loss  \",hloss\n"
   ]
  }
 ],
 "metadata": {
  "kernelspec": {
   "display_name": "Python 2",
   "language": "python",
   "name": "python2"
  },
  "language_info": {
   "codemirror_mode": {
    "name": "ipython",
    "version": 2
   },
   "file_extension": ".py",
   "mimetype": "text/x-python",
   "name": "python",
   "nbconvert_exporter": "python",
   "pygments_lexer": "ipython2",
   "version": "2.7.6"
  }
 },
 "nbformat": 4,
 "nbformat_minor": 0
}
