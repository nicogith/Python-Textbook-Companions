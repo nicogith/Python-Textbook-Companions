{
 "cells": [
  {
   "cell_type": "markdown",
   "metadata": {},
   "source": [
    "# Chapter 1 : Dimensions and Units"
   ]
  },
  {
   "cell_type": "markdown",
   "metadata": {},
   "source": [
    "### Example 1.1  Page 12"
   ]
  },
  {
   "cell_type": "code",
   "execution_count": 1,
   "metadata": {
    "collapsed": false
   },
   "outputs": [
    {
     "name": "stdout",
     "output_type": "stream",
     "text": [
      "mass flow rate =  4.54609513159  [kg/s] \n"
     ]
    }
   ],
   "source": [
    "\n",
    "\n",
    "# solution\n",
    " \n",
    "# Variables \n",
    "# Using conversion factors from table 1.3 (Pg 9)\n",
    "q1 = 75.                     # [gallon/min] (volumetric flow rate)\n",
    "q2 = 75./(60*.219969)        # [dm**3/s]\n",
    "row = 0.8                    # [kg/dm**3]\n",
    "\n",
    "# Calculation \n",
    "q3 = q2*row                  # [kg/s] (mass flow rate)\n",
    "\n",
    "# Result\n",
    "print \"mass flow rate = \",q3,\" [kg/s] \"\n"
   ]
  },
  {
   "cell_type": "markdown",
   "metadata": {},
   "source": [
    "### Example 1.2   Page 12"
   ]
  },
  {
   "cell_type": "code",
   "execution_count": 2,
   "metadata": {
    "collapsed": false
   },
   "outputs": [
    {
     "name": "stdout",
     "output_type": "stream",
     "text": [
      "velocity of the steam in the pipeline is  53.7752187869  m/s\n"
     ]
    }
   ],
   "source": [
    "import math\n",
    "# solution \n",
    "\n",
    "# Variables \n",
    "qm = 2000.                   # [kg/h] (mass flow rate)\n",
    "d1 = 3.068                   # [in] (internal dia of pipe)\n",
    "\n",
    "# Calculation \n",
    "# Using conversion factors from table 1.3 (Pg 9)\n",
    "d2 = 3.068/.0393701          # [mm]\n",
    "A = ((math.pi/4)*d2**2)/10**6       # [m**2] (cross section area)\n",
    "\n",
    "# Using steam tables; Appendix IV.3\n",
    "v = 0.46166                  # [m**3/kg] (sp. vol. of steam at 440 kPa)\n",
    "qv = (qm*v)/3600.            # [m**3/s]\n",
    "vs = qv/A                    # [m/s]\n",
    "\n",
    "# Result\n",
    "print \"velocity of the steam in the pipeline is \",vs,\" m/s\"\n"
   ]
  },
  {
   "cell_type": "markdown",
   "metadata": {},
   "source": [
    "### Example 1.3  Page 13"
   ]
  },
  {
   "cell_type": "code",
   "execution_count": 3,
   "metadata": {
    "collapsed": false
   },
   "outputs": [
    {
     "name": "stdout",
     "output_type": "stream",
     "text": [
      "1 TR =  3.51450421333  kW\n"
     ]
    }
   ],
   "source": [
    "# solution \n",
    "\n",
    "# Variables \n",
    "m = 2000.            # [lb] (mass flow rate)\n",
    "t = 24.              #[hr]\n",
    "lf = 144.            # [Btu/lb] (latent heat of fusion)\n",
    "\n",
    "# Calculation \n",
    "# Using conversion factors from table 1.3 (Pg 9)\n",
    "TR = (m*lf*.251996*4.184)/(3600*24.)\n",
    "\n",
    "# Result\n",
    "print \"1 TR = \",TR,\" kW\"\n"
   ]
  },
  {
   "cell_type": "markdown",
   "metadata": {},
   "source": [
    "### Example 1.4   Page 13"
   ]
  },
  {
   "cell_type": "code",
   "execution_count": 4,
   "metadata": {
    "collapsed": false
   },
   "outputs": [
    {
     "name": "stdout",
     "output_type": "stream",
     "text": [
      "eq in SI becomes  C =  36.4488724075 *T/M**.5  [m**3/s]\n"
     ]
    }
   ],
   "source": [
    "\n",
    "# solution \n",
    "\n",
    "# Variables \n",
    "# C = 89.2*A*(T/M**).5   [ft**3/s]\n",
    "k = 89.2 \n",
    "C1 = 1.              # [ft**3/s]\n",
    "\n",
    "# Calculation \n",
    "# Using conversion factors from table 1.3 (Pg 9)\n",
    "C2 = 35.31467*C1\n",
    "T1 = 1.              #[dgree R]\n",
    "T2 = 1.8*T1 # [K]\n",
    "A1 = 1.              # [ft**2]\n",
    "A2 = 10.76391\n",
    "k2 = (k*A2*(1.8)**.5)/35.34167\n",
    "\n",
    "# Result\n",
    "print \"eq in SI becomes  C = \",k2,\"*T/M**.5  [m**3/s]\"\n"
   ]
  }
 ],
 "metadata": {
  "kernelspec": {
   "display_name": "Python 2",
   "language": "python",
   "name": "python2"
  },
  "language_info": {
   "codemirror_mode": {
    "name": "ipython",
    "version": 2
   },
   "file_extension": ".py",
   "mimetype": "text/x-python",
   "name": "python",
   "nbconvert_exporter": "python",
   "pygments_lexer": "ipython2",
   "version": "2.7.6"
  }
 },
 "nbformat": 4,
 "nbformat_minor": 0
}
