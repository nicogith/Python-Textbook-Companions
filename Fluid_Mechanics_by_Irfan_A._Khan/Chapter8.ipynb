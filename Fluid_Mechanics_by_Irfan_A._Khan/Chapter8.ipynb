{
 "cells": [
  {
   "cell_type": "markdown",
   "metadata": {},
   "source": [
    "## Chapter 8 : Laminar Flow"
   ]
  },
  {
   "cell_type": "markdown",
   "metadata": {},
   "source": [
    "### Example 8.1 Page no 286"
   ]
  },
  {
   "cell_type": "code",
   "execution_count": 1,
   "metadata": {
    "collapsed": false
   },
   "outputs": [
    {
     "name": "stdout",
     "output_type": "stream",
     "text": [
      "(a) Maximum shear stress = 1.232 N/m**2\n",
      "(b) Maximum velocity = 0.645 m/s\n",
      "(c) Discharge =  4.1e-06 m**3/s\n",
      "Reynolds number = 547.0 is less than 2000, the flow is laminar and the calculations are valid\n"
     ]
    }
   ],
   "source": [
    "# Determine maximum velocity and shear stress\n",
    "\n",
    "# Given\n",
    "\n",
    "from math import *\n",
    "\n",
    "P1 = 200                 # Pressure at inlet in kPa\n",
    "\n",
    "P2 = 260                # Pressure at outlet in kPa\n",
    "\n",
    "d = 0.004                      # diameter in m\n",
    "\n",
    "L = 8                          # length of pipe in meters\n",
    "\n",
    "z = 6                          # height of the pipe from the ground\n",
    "\n",
    "g = 9.81                       # acceleration due to gravity in m/s**2\n",
    "\n",
    "# properties of kerosene\n",
    "\n",
    "mu = 19.1*10**-4               # viscosity of kerosene at 20 deg C\n",
    "\n",
    "S = 0.81                       # specific gravity of kerosene\n",
    "\n",
    "rho = 1000                     # density in kg/m**3\n",
    "\n",
    "# Solution\n",
    "\n",
    "# calculating direction of flow\n",
    "\n",
    "p1 = (P1+g*z*S)*1000                # point 1\n",
    "\n",
    "p2 = (P2)*1000                     # point 2\n",
    "\n",
    "# direction of flow is from point 1-2\n",
    "\n",
    "# shear stress\n",
    "\n",
    "Sp = -((p1-p2)/sqrt(L**2+z**2))\n",
    "\n",
    "r = d/2\n",
    "\n",
    "Tau_max = r*Sp/2\n",
    "\n",
    "print \"(a) Maximum shear stress =\",round(Tau_max,3),\"N/m**2\"\n",
    "\n",
    "# maximum velocity\n",
    "\n",
    "Vmax = r**2*Sp/(4*mu)\n",
    "\n",
    "print \"(b) Maximum velocity =\",round(Vmax,3),\"m/s\"\n",
    "\n",
    "# discharge\n",
    "\n",
    "Q = pi*r**4*Sp/(8*mu)\n",
    "\n",
    "print \"(c) Discharge = \",round(Q,7),\"m**3/s\"\n",
    "\n",
    "# calculate reynolds number\n",
    "\n",
    "V = Vmax/2\n",
    "\n",
    "R = rho*V*d*S/mu\n",
    "\n",
    "print \"Reynolds number =\",round(R,0),\"is less than 2000, the flow is laminar and the calculations are valid\"\n"
   ]
  },
  {
   "cell_type": "markdown",
   "metadata": {},
   "source": [
    "### Example no 8.2 Page no 289"
   ]
  },
  {
   "cell_type": "code",
   "execution_count": 2,
   "metadata": {
    "collapsed": false
   },
   "outputs": [
    {
     "name": "stdout",
     "output_type": "stream",
     "text": [
      "R =  1299.0 is lesss than 2000 , the flow is laminar\n",
      "Head loss =  3.77 cm of water\n"
     ]
    }
   ],
   "source": [
    "# Determine the head loss\n",
    "\n",
    "# Given\n",
    "\n",
    "d = 0.02                  # diameter of the pipe in m\n",
    "\n",
    "l = 30                    # length of the pipe in m\n",
    "\n",
    "v = 0.1                   # velocity in m/s\n",
    "\n",
    "g = 9.81                  # acceleration due to gravity in m/s**2\n",
    "\n",
    "# for water at 5 deg C\n",
    "\n",
    "nu = 1.54*10**-6          # kinematic viscosity of water in m**2/s\n",
    "\n",
    "# Solution\n",
    "\n",
    "R = v*d/nu\n",
    "\n",
    "print \"R = \",round(R,0),\"is lesss than 2000 , the flow is laminar\"\n",
    "\n",
    "f = 64/R                 # friction factor\n",
    "\n",
    "Hf = f*l*v**2/(2*g*d)    # head loss due to friction\n",
    "\n",
    "H=Hf*100\n",
    "\n",
    "print \"Head loss = \",round(H,2),\"cm of water\"\n"
   ]
  },
  {
   "cell_type": "markdown",
   "metadata": {},
   "source": [
    "### Example 8.3 Page no 290"
   ]
  },
  {
   "cell_type": "code",
   "execution_count": 3,
   "metadata": {
    "collapsed": false
   },
   "outputs": [
    {
     "name": "stdout",
     "output_type": "stream",
     "text": [
      "R = 40.07 is less than 2000 and hence flow is laminar\n",
      "Horse power required to pump the oil =  10.6\n"
     ]
    }
   ],
   "source": [
    "# Horsepower required to pump 50 tons of oil\n",
    "\n",
    "# Given\n",
    "\n",
    "from math import *\n",
    "\n",
    "# oil properties\n",
    "\n",
    "S = 0.92             # specific gravity\n",
    "\n",
    "gma = S*62.4         # density in lbs/ft**3\n",
    "\n",
    "nu=0.0205            # viscosity in ft**2/s\n",
    "\n",
    "W = 50         # weight of oil\n",
    "\n",
    "d = 9                # diameter of the pipe in inches\n",
    "\n",
    "g = 32.2             # acceleration due to gravity in ft/s**2\n",
    "\n",
    "# Solution\n",
    "\n",
    "Q = W*2000/(gma*3600)       # discharge in ft**3/s\n",
    "\n",
    "A = pi*d**2/(4*144)         # area of pipe\n",
    "\n",
    "V = Q*1000/(A)                     # velocity in ft/s\n",
    "\n",
    "R = V*0.75/(nu*1000)                  # Reynolds number\n",
    "\n",
    "print \"R =\",round(R,2),\"is less than 2000 and hence flow is laminar\"\n",
    "\n",
    "f = 64/R               # friction factor\n",
    "\n",
    "Hf = (f*5280*(V/1000)**2)/(2*g*0.75)\n",
    "\n",
    "Hp = gma*Q*Hf/(550)\n",
    "\n",
    "print \"Horse power required to pump the oil = \",round(Hp,1)"
   ]
  },
  {
   "cell_type": "markdown",
   "metadata": {},
   "source": [
    "### Example 8.4 Page no 291"
   ]
  },
  {
   "cell_type": "code",
   "execution_count": 4,
   "metadata": {
    "collapsed": false
   },
   "outputs": [
    {
     "name": "stdout",
     "output_type": "stream",
     "text": [
      "Viscosity of the liquid = 0.0182 poise\n"
     ]
    }
   ],
   "source": [
    "# Viscosity of the liquid in poise\n",
    "\n",
    "# Given\n",
    "\n",
    "from math import *\n",
    "\n",
    "V = 50                      # Volume in m**3\n",
    "\n",
    "d = 5                       # diameter in m\n",
    "\n",
    "d1 = 0.1                    # diameter of bore\n",
    "\n",
    "l = 10                      # length of the tube\n",
    "\n",
    "t = 20*60                   # time in seconds\n",
    "\n",
    "rho = 0.88                  # density in g/cm**3\n",
    "\n",
    "H1 = 5                    # height from the base in m\n",
    "\n",
    "A = pi*d**2/4\n",
    "\n",
    "a = pi*d1**2/4\n",
    "\n",
    "# Solution\n",
    "\n",
    "# From derivation we obtain a equation for T\n",
    "\n",
    "H2 = H1-(V/A)\n",
    "\n",
    "mu = t*rho*a*(0.1)*98.1/(32*A*10*log(H1/H2))\n",
    "\n",
    "print \"Viscosity of the liquid =\",round(mu,4),\"poise\""
   ]
  },
  {
   "cell_type": "markdown",
   "metadata": {},
   "source": [
    "### Example 8.5 Page no 297"
   ]
  },
  {
   "cell_type": "code",
   "execution_count": 5,
   "metadata": {
    "collapsed": false
   },
   "outputs": [
    {
     "name": "stdout",
     "output_type": "stream",
     "text": [
      "Discharge q =  0.013 per unit ft of the plate\n",
      "Shear stress on the plate =  0.086 lbs/ft**2 and resisting the motion of the plate\n"
     ]
    }
   ],
   "source": [
    "# Velocity distribution; Discharge ; shear on the upper plate\n",
    "\n",
    "# Given\n",
    "\n",
    "from math import *\n",
    "\n",
    "# properties of kerosene oil at 20 deg C\n",
    "\n",
    "S = 0.81                # specific gravity of oil\n",
    "\n",
    "mu = 4*10**-5           # viscosity of oil in lb.s/ft**2\n",
    "\n",
    "gma = 62.4*S            # density in lbs/ft**3\n",
    "\n",
    "p1 = 6.51               # pressure at point 1 in psia\n",
    "\n",
    "p2 = 8                  # pressure at point 2 in psia\n",
    "\n",
    "h = 0.006               # distance between the plate in ft\n",
    "\n",
    "l = 4                   # length of the plate in ft\n",
    "\n",
    "theta = pi/6            # angle of inclination\n",
    "\n",
    "# Solution\n",
    "\n",
    "# point 1\n",
    "\n",
    "P1 = p1*144 + gma*l*sin(theta)\n",
    "\n",
    "# point 2\n",
    "\n",
    "P2 = p2*144\n",
    "\n",
    "# flow is taking from poont 2-1\n",
    "\n",
    "Sp = (P2-P1)/4\n",
    "\n",
    "# equation for u = 2154.75*y-359125*y**2\n",
    "\n",
    "y = h\n",
    "\n",
    "# discharge per ft width\n",
    "\n",
    "q = (2154.75*y**2/2) - (359125*y**3/3)\n",
    "\n",
    "print \"Discharge q = \",round(q,3),\"per unit ft of the plate\"\n",
    "\n",
    "# to find shear at the top of the plate take du/dy = 0\n",
    "\n",
    "dV = 2154.75 - 718250*h\n",
    "\n",
    "# shear stress\n",
    "\n",
    "T = -mu*dV\n",
    "\n",
    "print \"Shear stress on the plate = \",round(T,3),\"lbs/ft**2 and resisting the motion of the plate\"\n",
    "\n"
   ]
  },
  {
   "cell_type": "code",
   "execution_count": null,
   "metadata": {
    "collapsed": false
   },
   "outputs": [],
   "source": []
  }
 ],
 "metadata": {
  "kernelspec": {
   "display_name": "Python 2",
   "language": "python",
   "name": "python2"
  },
  "language_info": {
   "codemirror_mode": {
    "name": "ipython",
    "version": 2
   },
   "file_extension": ".py",
   "mimetype": "text/x-python",
   "name": "python",
   "nbconvert_exporter": "python",
   "pygments_lexer": "ipython2",
   "version": "2.7.3"
  }
 },
 "nbformat": 4,
 "nbformat_minor": 0
}
