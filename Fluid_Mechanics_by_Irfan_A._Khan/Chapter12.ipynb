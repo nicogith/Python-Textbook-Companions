{
 "cells": [
  {
   "cell_type": "markdown",
   "metadata": {},
   "source": [
    "## Chapter 12: Turbomachines"
   ]
  },
  {
   "cell_type": "markdown",
   "metadata": {},
   "source": [
    "### Example 12.1 Page no 443"
   ]
  },
  {
   "cell_type": "code",
   "execution_count": 1,
   "metadata": {
    "collapsed": false
   },
   "outputs": [
    {
     "name": "stdout",
     "output_type": "stream",
     "text": [
      "Efficiency of th pump = 74.0 %\n"
     ]
    }
   ],
   "source": [
    "# Example 12.1\n",
    "\n",
    "from math import *\n",
    "\n",
    "from __future__ import division\n",
    "\n",
    "# Given\n",
    "\n",
    "Q = 0.25                      # discharge from the pump in m**3/s\n",
    "\n",
    "gma= 0.8*9810                 # specific weight in kg/m**3\n",
    "\n",
    "H=25                          # elevation head in m\n",
    "\n",
    "T = 350                       # Torque to drive the shaft in Nm\n",
    "\n",
    "N = 1800                      # Speed in RPM\n",
    "\n",
    "w = 2*pi*N/60                 # angular velocity\n",
    "\n",
    "# Solution\n",
    "\n",
    "Eff = gma*Q*H*100/(T*w)          # efficiency\n",
    "\n",
    "print \"Efficiency of th pump =\",round(Eff,0),\"%\""
   ]
  },
  {
   "cell_type": "markdown",
   "metadata": {},
   "source": [
    "### Example 12.2 Page no 447"
   ]
  },
  {
   "cell_type": "code",
   "execution_count": 3,
   "metadata": {
    "collapsed": false
   },
   "outputs": [
    {
     "name": "stdout",
     "output_type": "stream",
     "text": [
      " (a)\n",
      "Radial velocity at exit = 10.6 m/s\n",
      "Whirl velocity =  25.3 m/s\n",
      "Relative velocity =  12.25 m/s\n",
      "Actual velocity = 27.43 m/s\n",
      "(b)\n",
      "Head added for no inlet whirl = 81.0 m\n",
      "(c)\n",
      "Power required = 317.8 kW\n"
     ]
    }
   ],
   "source": [
    "# Example 12.2\n",
    "\n",
    "from math import *\n",
    "\n",
    "from __future__ import division\n",
    "\n",
    "# Given\n",
    "\n",
    "d = 0.4                     # diameter of the pump in m\n",
    "\n",
    "b = 0.03                    # width in m\n",
    "\n",
    "theta = pi/3                # blade angle\n",
    "\n",
    "N = 1500                    # speed in RPM\n",
    "\n",
    "Q = 0.4                     # flow rate in m**3/s\n",
    "\n",
    "g = 9.81                    # acceleration due to gravity in m/s**2\n",
    "\n",
    "# Solution\n",
    "\n",
    "w = 2*pi*N/60               # anggular velocity in rad/s\n",
    "\n",
    "u2 = (d/2)*w                # blade velocity in m/s\n",
    "\n",
    "V2r = Q/(2*pi*(d/2)*b)      # relative velocity in m/s\n",
    "\n",
    "print \"(a)\"\n",
    "\n",
    "print \"Radial velocity at exit =\",round(V2r,1),\"m/s\"\n",
    "\n",
    "V2t = u2 - V2r*(cos(theta)/sin(theta))\n",
    "\n",
    "print \"Whirl velocity = \",round(V2t,1),\"m/s\"\n",
    "\n",
    "v2 = V2r/sin(theta)\n",
    "\n",
    "print \"Relative velocity = \",round(v2,2),\"m/s\"\n",
    "\n",
    "V2 = sqrt(V2t**2+V2r**2)\n",
    "\n",
    "print \"Actual velocity =\",round(V2,2),\"m/s\"\n",
    "\n",
    "print \"(b)\"\n",
    "\n",
    "H = u2*V2t/g\n",
    "\n",
    "print\"Head added for no inlet whirl =\",round(H,0),\"m\"\n",
    "\n",
    "print \"(c)\"\n",
    "\n",
    "P = g*Q*H\n",
    "\n",
    "print \"Power required =\",round(P,1),\"kW\""
   ]
  },
  {
   "cell_type": "markdown",
   "metadata": {},
   "source": [
    "### Example 12.3 Page no 450"
   ]
  },
  {
   "cell_type": "code",
   "execution_count": 4,
   "metadata": {
    "collapsed": false
   },
   "outputs": [
    {
     "name": "stdout",
     "output_type": "stream",
     "text": [
      "Impeller size = 38.45 cm\n",
      "Speed of the pump = 1500.0 RPM\n"
     ]
    }
   ],
   "source": [
    "# Example 12.3\n",
    "\n",
    "from math import *\n",
    "\n",
    "from __future__ import division\n",
    "\n",
    "# Given\n",
    "\n",
    "d = 0.36                       # diameter of the impeller of pump\n",
    "\n",
    "N = 1500                       # Speed of impeller in RPM\n",
    "\n",
    "# Solution\n",
    "\n",
    "# For best efficiency\n",
    "\n",
    "Q1 = 82                       # discharge in l/s\n",
    "\n",
    "H1 = 17.5                     # Head in m\n",
    "\n",
    "Eta = 0.8                     # efficiency \n",
    "\n",
    "Q2 = 100                      # discharge in l/s\n",
    "\n",
    "H2 = 20                       # head in m\n",
    "\n",
    "# Solving the simulataneous equation we get\n",
    "\n",
    "D2 = 38.45\n",
    "\n",
    "print \"Impeller size =\",round(D2,2),\"cm\"\n",
    "\n",
    "N2 = 1500 \n",
    "\n",
    "print \"Speed of the pump =\",round(N2,0),\"RPM\""
   ]
  },
  {
   "cell_type": "markdown",
   "metadata": {},
   "source": [
    "### Example 12.4 Page no 454 "
   ]
  },
  {
   "cell_type": "code",
   "execution_count": 5,
   "metadata": {
    "collapsed": false
   },
   "outputs": [
    {
     "name": "stdout",
     "output_type": "stream",
     "text": [
      "Discharge, Q =  1.11 ft**3/s\n",
      "Dynamic head of the pump, H = 122.1 m\n",
      "Specific speed of the pump, Ns = 1096.0 RPM\n"
     ]
    }
   ],
   "source": [
    "# Example 12.4\n",
    "\n",
    "from math import *\n",
    "\n",
    "from __future__ import division\n",
    "\n",
    "# Given\n",
    "\n",
    "q = 500                         # discharge in cgm\n",
    "\n",
    "Q = 500/449                     # discharge in ft**3/s\n",
    "\n",
    "D = 0.667                       # diameter in ft\n",
    "\n",
    "A = pi*D**2/4\n",
    "\n",
    "V = Q/A                         # velocity in ft/s\n",
    "\n",
    "g = 32.2                        # acceleration due to gravity in ft/s**2\n",
    "\n",
    "N = 1800                        # speed in RPM\n",
    "\n",
    "# Solution\n",
    "\n",
    "# for water at 65 deg C\n",
    "\n",
    "nu = 1.134*10**-5               # viscosity in ft**2/s\n",
    "\n",
    "e = 0.00085                     # epssilon in ft\n",
    "\n",
    "r = 0.001275                    \n",
    "\n",
    "R = V*D/nu                      # reynolds no\n",
    "\n",
    "f = 0.022                       # from moody's diagram\n",
    "\n",
    "Hl = V**2*(12.1+(f*224.9))/64.4\n",
    "\n",
    "hs = 119.4 + Hl\n",
    "\n",
    "print \"Discharge, Q = \",round(Q,2),\"ft**3/s\"\n",
    "print \"Dynamic head of the pump, H =\",round(hs,1),\"m\"\n",
    "\n",
    "Ns = N*sqrt(q)/(hs)**(3/4)\n",
    "\n",
    "print \"Specific speed of the pump, Ns =\",round(Ns,0),\"RPM\""
   ]
  },
  {
   "cell_type": "markdown",
   "metadata": {},
   "source": [
    "### Example 12.5 Page no 457"
   ]
  },
  {
   "cell_type": "code",
   "execution_count": 6,
   "metadata": {
    "collapsed": false
   },
   "outputs": [
    {
     "name": "stdout",
     "output_type": "stream",
     "text": [
      "Minimum value of static suction lift =  4.02 m\n"
     ]
    }
   ],
   "source": [
    "# Example 12.5 \n",
    "\n",
    "from math import *\n",
    "\n",
    "from __future__ import division\n",
    "\n",
    "# Given\n",
    "\n",
    "H = 60                        # height in m\n",
    "\n",
    "Pb = 98*10**3                 # barometric pressure in N/m**2\n",
    "\n",
    "Hl = 1                        # head in m\n",
    "\n",
    "Pv = 1707                     # vapour pressure \n",
    "\n",
    "sigma = 0.08\n",
    "\n",
    "w = 9810                      # specific weight\n",
    "\n",
    "# Solution\n",
    "\n",
    "Npsh_m = sigma*60             # minimum NPSH\n",
    "\n",
    "Hsm = (Pb/w)-(Pv/w)-Npsh_m-Hl\n",
    "\n",
    "print \"Minimum value of static suction lift = \",round(Hsm,2),\"m\""
   ]
  },
  {
   "cell_type": "code",
   "execution_count": null,
   "metadata": {
    "collapsed": false
   },
   "outputs": [],
   "source": []
  }
 ],
 "metadata": {
  "kernelspec": {
   "display_name": "Python 2",
   "language": "python",
   "name": "python2"
  },
  "language_info": {
   "codemirror_mode": {
    "name": "ipython",
    "version": 2
   },
   "file_extension": ".py",
   "mimetype": "text/x-python",
   "name": "python",
   "nbconvert_exporter": "python",
   "pygments_lexer": "ipython2",
   "version": "2.7.3"
  }
 },
 "nbformat": 4,
 "nbformat_minor": 0
}
