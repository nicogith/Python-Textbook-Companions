{
 "cells": [
  {
   "cell_type": "markdown",
   "metadata": {},
   "source": [
    "## Chapter 10 : Open Channel Flow     "
   ]
  },
  {
   "cell_type": "markdown",
   "metadata": {},
   "source": [
    "### Example 10.1 Page no 363"
   ]
  },
  {
   "cell_type": "code",
   "execution_count": 1,
   "metadata": {
    "collapsed": false
   },
   "outputs": [
    {
     "name": "stdout",
     "output_type": "stream",
     "text": [
      "Top width = 5.0 m\n",
      "Area of flow = 8.0 m**2\n",
      "Wetted perimeter = 7.472 m\n",
      "Hydraulic radius = 1.07 m\n",
      "Hydraulic depth = 1.6 m\n",
      "Secton Factor = 10.12 m**2\n"
     ]
    }
   ],
   "source": [
    "# Top width, area of lfow, hydraulic radius\n",
    "\n",
    "from math import *\n",
    "\n",
    "from __future__ import division\n",
    "\n",
    "# Given\n",
    "\n",
    "b = 3                            # base of the channel\n",
    "\n",
    "z = 0.5                          # slope of the channel\n",
    "\n",
    "y = 2                            # depth of the channel\n",
    "\n",
    "# Solution\n",
    "\n",
    "T = b + 2*z*y\n",
    "\n",
    "print \"Top width =\",round(T,0),\"m\"\n",
    "\n",
    "A = (b+z*y)*y\n",
    "\n",
    "print \"Area of flow =\",round(A,0),\"m**2\"\n",
    "\n",
    "P = b + 2*y*sqrt(1+z**2)\n",
    "\n",
    "print \"Wetted perimeter =\",round(P,3),\"m\"\n",
    "\n",
    "R = A/P\n",
    "\n",
    "print \"Hydraulic radius =\",round(R,2),\"m\"\n",
    "\n",
    "D = A/T\n",
    "\n",
    "print \"Hydraulic depth =\",round(D,2),\"m\"\n",
    "\n",
    "Z = A*sqrt(D)\n",
    "\n",
    "print \"Secton Factor =\",round(Z,2),\"m**2\""
   ]
  },
  {
   "cell_type": "markdown",
   "metadata": {},
   "source": [
    "### Example 10.2 Page no 366"
   ]
  },
  {
   "cell_type": "code",
   "execution_count": 2,
   "metadata": {
    "collapsed": false
   },
   "outputs": [
    {
     "name": "stdout",
     "output_type": "stream",
     "text": [
      "Discharge for the channel = 16.1 m**3/s\n"
     ]
    }
   ],
   "source": [
    "# Discharge for the trapezoidal channel\n",
    "\n",
    "from math import *\n",
    "\n",
    "from __future__ import division\n",
    "\n",
    "# Given\n",
    "\n",
    "z = 1.0                # slide slope\n",
    "\n",
    "b = 3.0                # base width\n",
    "\n",
    "y = 1.5                # depth\n",
    "\n",
    "S = 0.0009\n",
    "\n",
    "n = 0.012             # for concrete\n",
    "\n",
    "# Solution\n",
    "\n",
    "A = (b+z*y)*y\n",
    "\n",
    "P = P = b + 2*y*sqrt(1+z**2)\n",
    "\n",
    "R = A/P\n",
    "\n",
    "# from mannings eqquation\n",
    "\n",
    "Q = A*(1/n)*(R**(2/3)*S**(1/2))\n",
    "\n",
    "print \"Discharge for the channel =\",round(Q,2),\"m**3/s\""
   ]
  },
  {
   "cell_type": "markdown",
   "metadata": {},
   "source": [
    "### Example 10.4 Page no 373"
   ]
  },
  {
   "cell_type": "code",
   "execution_count": 3,
   "metadata": {
    "collapsed": false
   },
   "outputs": [
    {
     "name": "stdout",
     "output_type": "stream",
     "text": [
      "depth(y) = 5.05 ft\n",
      "base width(b) = 4.18 ft\n"
     ]
    }
   ],
   "source": [
    "# Determine cross sectional area\n",
    "\n",
    "from __future__ import division\n",
    "\n",
    "from math import *\n",
    "\n",
    "# Given\n",
    "\n",
    "z = 1\n",
    "\n",
    "Q = 10000/60                     # discharge of water in ft**#/s\n",
    "\n",
    "# Solution\n",
    "\n",
    "y = (Q/(1.828*2.25*sqrt(0.5)))**(2/5)\n",
    "\n",
    "print \"depth(y) =\",round(y,2),\"ft\"\n",
    "\n",
    "b = 0.828*y\n",
    "\n",
    "print \"base width(b) =\",round(b,2),\"ft\""
   ]
  },
  {
   "cell_type": "markdown",
   "metadata": {},
   "source": [
    "### Example 10.5 Page no 378"
   ]
  },
  {
   "cell_type": "code",
   "execution_count": 4,
   "metadata": {
    "collapsed": false
   },
   "outputs": [
    {
     "name": "stdout",
     "output_type": "stream",
     "text": [
      "Critical depth = 3.44 m\n"
     ]
    }
   ],
   "source": [
    "# Calculate criticcal depth\n",
    "\n",
    "from math import *\n",
    "\n",
    "from __future__ import division\n",
    "\n",
    "# Given\n",
    "\n",
    "y = 2.5                 # depth\n",
    "\n",
    "V = 8                  # velocity in m/s\n",
    "\n",
    "g = 9.81               # acceleration due to gravity in m/s**2\n",
    "\n",
    "# Solution\n",
    "\n",
    "Yc = (20**2/g)**(1/3)\n",
    "\n",
    "print \"Critical depth =\",round(Yc,2),\"m\""
   ]
  },
  {
   "cell_type": "markdown",
   "metadata": {},
   "source": [
    "### Example 10.6 Page no 380"
   ]
  },
  {
   "cell_type": "code",
   "execution_count": 7,
   "metadata": {
    "collapsed": false
   },
   "outputs": [
    {
     "name": "stdout",
     "output_type": "stream",
     "text": [
      "a )Normal Depth = 2.22 m\n",
      "b )F =  0.31  Since the Froude number is less than 1, the flow is subcritical\n",
      "c )Critical depth is =  1.08 m\n"
     ]
    }
   ],
   "source": [
    "# determine normal depth, flow regine, critical depth\n",
    "\n",
    "from math import *\n",
    "\n",
    "from __future__ import division\n",
    "\n",
    "# Given\n",
    "\n",
    "Q = 15 # flow rate in m**3/s\n",
    "\n",
    "w = 4.0  # bottom width\n",
    "\n",
    "S = 0.0008 # bed slope\n",
    "\n",
    "n = 0.025 # manning constant\n",
    "\n",
    "z = 0.5 # slope\n",
    "\n",
    "# Solution\n",
    "\n",
    "# We use a trial and error method here to find the value of y i.e. normal depth\n",
    "\n",
    "y = 2.22 # we take the value of y as 2.2 m\n",
    "\n",
    "Q = ((4+0.5*y)*(y/(n))*(((4+0.5*y)*y)/(4+2.236*y))**(0.667)*(S)**(0.5))\n",
    "\n",
    "print \"a )Normal Depth =\",round(y,2),\"m\"\n",
    "\n",
    "A = (4+0.5*y)*y\n",
    "\n",
    "T = (w+2*z*y)\n",
    "\n",
    "D = A/T\n",
    "\n",
    "V = (Q/A)\n",
    "\n",
    "F =V/(sqrt(9.81*D)) \n",
    "\n",
    "print \"b )F = \",round(F,2),\" Since the Froude number is less than 1, the flow is subcritical\"\n",
    "\n",
    "# we use trail and error to find the value of yc for critical depth\n",
    "\n",
    "yc = 1.08\n",
    "\n",
    "Q1 = (4+z*yc)*yc*sqrt((9.81*(4+0.5*yc)*yc)/(4+2*z*yc)) \n",
    "\n",
    "print \"c )Critical depth is = \",round(yc,2),\"m\"\n"
   ]
  },
  {
   "cell_type": "markdown",
   "metadata": {},
   "source": [
    "###  Example 10.8 Page no 390"
   ]
  },
  {
   "cell_type": "code",
   "execution_count": 8,
   "metadata": {
    "collapsed": false
   },
   "outputs": [
    {
     "name": "stdout",
     "output_type": "stream",
     "text": [
      "Since F1 = 1.86  It is a weak jump\n",
      "Length of the jump = 23.0 ft\n",
      "Total energy loss = 133.7 HP\n"
     ]
    }
   ],
   "source": [
    "# Height, type and length of jump and loss of energy\n",
    "\n",
    "from math import *\n",
    "\n",
    "from __future__ import division\n",
    "\n",
    "# Given\n",
    "\n",
    "b = 60                   # base width in ft\n",
    "\n",
    "y1 = 2.5                 # base depth in ft\n",
    "\n",
    "Q = 2500                 # discharge in ft**3/s\n",
    "\n",
    "g = 32.2\n",
    "\n",
    "# Solution\n",
    "\n",
    "V1 = Q/(b*y1)\n",
    "\n",
    "F1 = V1/sqrt(g*y1)\n",
    "\n",
    "y2 = y1*0.5*(sqrt(1+8*F1**2)-1)\n",
    "\n",
    "V2 = Q/(b*y2)\n",
    "\n",
    "print \"Since F1 =\",round(F1,2),\" It is a weak jump\"\n",
    "\n",
    "L = y2*4.25\n",
    "\n",
    "print \"Length of the jump =\",round(L,0),\"ft\"\n",
    "\n",
    "E1 = y1+(V1**2/(2*g))\n",
    "\n",
    "E2 = y2+(V2**2/(2*g))\n",
    "\n",
    "El = E1-E2\n",
    "\n",
    "Te = El*62.4*Q/543\n",
    "\n",
    "print \"Total energy loss =\",round(Te,2),\"HP\"\n"
   ]
  },
  {
   "cell_type": "markdown",
   "metadata": {},
   "source": [
    "### Example 10.12 Page no 409"
   ]
  },
  {
   "cell_type": "code",
   "execution_count": 9,
   "metadata": {
    "collapsed": false
   },
   "outputs": [
    {
     "name": "stdout",
     "output_type": "stream",
     "text": [
      "Discharge = 503.0 cfs\n"
     ]
    }
   ],
   "source": [
    "# Determine flow rate\n",
    "\n",
    "from math import *\n",
    "\n",
    "from __future__ import division\n",
    "\n",
    "# Given\n",
    "\n",
    "d = 6                      # depth of the channel\n",
    "\n",
    "w= 12                      # width of the channel\n",
    "\n",
    "h  = 1.0                   # height of the channel\n",
    "\n",
    "p = 9                      # pressure drop in m\n",
    "\n",
    "g = 32.2\n",
    "\n",
    "# Solution\n",
    "\n",
    "y2 = y1 - h - 0.75\n",
    "\n",
    "V1 = sqrt(2*g*0.75/((1.41)**2-1))\n",
    "\n",
    "Q = w*b*V1/10\n",
    "\n",
    "print \"Discharge =\",round(Q,0),\"cfs\""
   ]
  },
  {
   "cell_type": "code",
   "execution_count": null,
   "metadata": {
    "collapsed": false
   },
   "outputs": [],
   "source": []
  }
 ],
 "metadata": {
  "kernelspec": {
   "display_name": "Python 2",
   "language": "python",
   "name": "python2"
  },
  "language_info": {
   "codemirror_mode": {
    "name": "ipython",
    "version": 2
   },
   "file_extension": ".py",
   "mimetype": "text/x-python",
   "name": "python",
   "nbconvert_exporter": "python",
   "pygments_lexer": "ipython2",
   "version": "2.7.3"
  }
 },
 "nbformat": 4,
 "nbformat_minor": 0
}
