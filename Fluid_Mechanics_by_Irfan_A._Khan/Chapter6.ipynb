{
 "cells": [
  {
   "cell_type": "markdown",
   "metadata": {},
   "source": [
    "## Chapter 6 : Dimensional Analysis and Dynamic Similitude"
   ]
  },
  {
   "cell_type": "markdown",
   "metadata": {},
   "source": [
    "### Example 6.2 Page no 233"
   ]
  },
  {
   "cell_type": "code",
   "execution_count": 3,
   "metadata": {
    "collapsed": false
   },
   "outputs": [
    {
     "name": "stdout",
     "output_type": "stream",
     "text": [
      "Hence the model should be tested at a velocity of  2.7 m/s. This velocity in the model is called corresponding velocity\n"
     ]
    }
   ],
   "source": [
    "# Velocity of the flow\n",
    "\n",
    "# Given\n",
    "\n",
    "L = 10                          # length scale lp/l\n",
    "\n",
    "# crue oil at 20 deg C\n",
    "\n",
    "rhop = 0.86*998.2                 # density inn kg/m**3\n",
    "\n",
    "mup = 8*10**-3                    # viscosity in Ns/m**2\n",
    "\n",
    "Vp = 2.5                          # Velocity in m/s\n",
    "\n",
    "# water at 20 deg C\n",
    "\n",
    "rhom = 998.2                     # density in kg/m**3\n",
    "\n",
    "mum = 1.005*10**-3               # viscosity in Ns/m**2\n",
    "\n",
    "# Solution\n",
    "\n",
    "Vm = Vp*L*(rhop/rhom)*(mum/mup)  # velocity in m/s\n",
    "\n",
    "print \"Hence the model should be tested at a velocity of \",round(Vm,2),\"m/s. This velocity in the model is called corresponding velocity\""
   ]
  },
  {
   "cell_type": "markdown",
   "metadata": {},
   "source": [
    "### Example 6.3 Page no 233"
   ]
  },
  {
   "cell_type": "code",
   "execution_count": 1,
   "metadata": {
    "collapsed": false
   },
   "outputs": [
    {
     "name": "stdout",
     "output_type": "stream",
     "text": [
      "Maximum discharge, Qm =  5.65685425 cfs\n",
      "Maximum head over crest =  4.74 ft\n"
     ]
    }
   ],
   "source": [
    "# Mximum head on the crest and corresponding discharge for dynamically similar conditions\n",
    "\n",
    "# Given\n",
    "\n",
    "from __future__ import division\n",
    "\n",
    "from math import *\n",
    "\n",
    "l = 300                               # length in ft\n",
    "\n",
    "Q = 100000                            # discharge in cfs\n",
    "\n",
    "Cd = 3.8                              # coefficient of discharge\n",
    "\n",
    "L = (1/50)                              # length scale\n",
    "\n",
    "# Solution\n",
    "\n",
    "Qm = 100000*(L)**(5/2)                     # model discharge in cfs\n",
    "\n",
    "print \"Maximum discharge, Qm = \",round(Qm,8),\"cfs\"\n",
    "\n",
    "H = (Q/(Cd*l))**(2/3)                 # height over spill way\n",
    "\n",
    "h = H*L*12                              # head over spill model\n",
    "\n",
    "print \"Maximum head over crest = \",round(h,2),\"ft\""
   ]
  },
  {
   "cell_type": "code",
   "execution_count": null,
   "metadata": {
    "collapsed": false
   },
   "outputs": [],
   "source": []
  }
 ],
 "metadata": {
  "kernelspec": {
   "display_name": "Python 2",
   "language": "python",
   "name": "python2"
  },
  "language_info": {
   "codemirror_mode": {
    "name": "ipython",
    "version": 2
   },
   "file_extension": ".py",
   "mimetype": "text/x-python",
   "name": "python",
   "nbconvert_exporter": "python",
   "pygments_lexer": "ipython2",
   "version": "2.7.3"
  }
 },
 "nbformat": 4,
 "nbformat_minor": 0
}
