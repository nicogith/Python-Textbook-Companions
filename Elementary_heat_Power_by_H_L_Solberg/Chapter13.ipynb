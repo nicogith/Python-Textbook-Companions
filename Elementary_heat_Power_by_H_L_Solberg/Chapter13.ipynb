{
 "metadata": {
  "name": "Chapter 13"
 },
 "nbformat": 3,
 "nbformat_minor": 0,
 "worksheets": [
  {
   "cells": [
    {
     "cell_type": "heading",
     "level": 1,
     "metadata": {},
     "source": "Mechanical Refrigeration"
    },
    {
     "cell_type": "heading",
     "level": 2,
     "metadata": {},
     "source": "Example 13.2,Page 596"
    },
    {
     "cell_type": "code",
     "collapsed": false,
     "input": "# Initialization of Variable\nfrom math import pi\nfrom math import atan\nfrom numpy import *\nmr=3.0 #lb\nmj=5.0 #lb\nt2=67.0 #F\nt1=60.0 #lb\nihp=7.25\n#\"From mollier charts\"\nh4=709 #Btu/b\nh3=618 #Btu/lb\n\n#calculations\nenergyin=ihp*2545/60\nenergyout=mr*(h4-h3) + mj*(t2-t1)\n\n#results\nprint \"Energy in  Btu/min\",round(energyin,3)\nprint \"Energy out  Btu/min\",round(energyout,3)",
     "language": "python",
     "metadata": {},
     "outputs": [
      {
       "output_type": "stream",
       "stream": "stdout",
       "text": "Energy in  Btu/min 307.521\nEnergy out  Btu/min 308.0\n"
      }
     ],
     "prompt_number": 10
    },
    {
     "cell_type": "heading",
     "level": 2,
     "metadata": {},
     "source": "Example 13.3,Page 602"
    },
    {
     "cell_type": "code",
     "collapsed": false,
     "input": "# Initialization of Variable\nfrom math import pi\nfrom math import atan\nfrom numpy import *\nr=3.0 #lb\nhp=10.0 #hp\n\n#calculations\nh3=618 #Btu/lb\nh1=131 #Btu/lb\nQe=mr*(h3-h1)\nwork=hp*2545/60\ncop=Qe/work\n\n#results\nprint \"Coefficient of performance \",round(cop,3)",
     "language": "python",
     "metadata": {},
     "outputs": [
      {
       "output_type": "stream",
       "stream": "stdout",
       "text": "Coefficient of performance  3.444\n"
      }
     ],
     "prompt_number": 11
    }
   ],
   "metadata": {}
  }
 ]
}