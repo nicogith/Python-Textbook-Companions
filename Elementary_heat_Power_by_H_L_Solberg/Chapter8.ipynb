{
 "metadata": {
  "name": "EHP-8"
 },
 "nbformat": 3,
 "nbformat_minor": 0,
 "worksheets": [
  {
   "cells": [
    {
     "cell_type": "heading",
     "level": 1,
     "metadata": {},
     "source": "Steam Engines"
    },
    {
     "cell_type": "heading",
     "level": 2,
     "metadata": {},
     "source": "Example 8.1,Page 461"
    },
    {
     "cell_type": "code",
     "collapsed": false,
     "input": "# Initialization of Variable\nfrom math import pi\nfrom math import atan\nfrom numpy import *\narea1=2.7\nlength=3.4\nscale=60\narea2=2.75\ndia=12 #ft\nd2=2.5 #ft\nL=15.0/12 #ft\nn=250.0 #rpm\nF=600.0 #lb\nr=3 #ft\n\n#calculations\nAh=dia**2 *pi/4\nAc=(dia**2 -d2**2)*pi/4\nPih=area1/length *scale\nPic=area2/length *scale\nHihp=Pih*L*Ah*n/33000.0\nCihp=Pic*L*Ac*n/33000.0\nTihp=Hihp+Cihp\nBhp=2*pi*r*F*n/33000.0\nFhp=Tihp-Bhp\neff=Bhp/Tihp *100 #efficiency\n\n#results\nprint \"Ihp in ihp\",round(Tihp,3)\nprint \"Bhp in bhp\",round(Bhp,3)\nprint \"Fhp in fhp\",round(Fhp,3)\nprint \"Efficiency in percent\",round(eff,3)\nprint \"The answer is a bit different due to rounding off error in the textbook\"",
     "language": "python",
     "metadata": {},
     "outputs": [
      {
       "output_type": "stream",
       "stream": "stdout",
       "text": "Ihp in ihp 100.749\nBhp in bhp 85.68\nFhp in fhp 15.069\nEfficiency in percent 85.043\nThe answer is a bit different due to rounding off error in the textbook\n"
      }
     ],
     "prompt_number": 1
    },
    {
     "cell_type": "heading",
     "level": 2,
     "metadata": {},
     "source": "Example 8.2,Page 468"
    },
    {
     "cell_type": "code",
     "collapsed": false,
     "input": "# Initialization of Variable\nfrom math import pi\nfrom math import atan\nfrom numpy import *\nIhp=101.1\nBhp=85.7\nmd=3000.0 #lb/hr\nh1=1172.0 #Btu/hr\nh2=180.0 #Btu/hr\nh3=1025.0 #Btu/hr\n\n#calculations\neta1=Ihp*2545/(md*(h1-h2)) *100 #efficiency\neta2=Bhp*2545/(md*(h1-h2)) *100 #efficiency\netat=(h1-h3)/(h1-h2) *100 #efficiency\nengeff=eta1/etat *100 #engine efficiency\nrate1= md/Ihp\nrate2=md/Bhp\nh22=h1-2545/rate1 #enthalpy\n\n#results\nprint \"Actual thermal efficiency based upon Ihp in lb per ihp hr\",round(eta1,3)\nprint \"Actual thermal efficiency based upon Bhp in lb per ihp hr\",round(eta2,3)\nprint \"Ideal thermal efficiency in percent \",round(etat,3)\nprint \"Engine efficiency in percent\",round(engeff,3)\nprint \"Steam rate in lb per ihp hr\",round(rate1,3)\nprint \"Steam rate in lb per bhp hr\",round(rate2,3)\nprint \"Enthalpy of exhaust steam in Btu per lb of steam\",round(h22,3)\n",
     "language": "python",
     "metadata": {},
     "outputs": [
      {
       "output_type": "stream",
       "stream": "stdout",
       "text": "Actual thermal efficiency based upon Ihp in lb per ihp hr 8.646\nActual thermal efficiency based upon Bhp in lb per ihp hr 7.329\nIdeal thermal efficiency in percent  14.819\nEngine efficiency in percent 58.345\nSteam rate in lb per ihp hr 29.674\nSteam rate in lb per bhp hr 35.006\nEnthalpy of exhaust steam in of steam 1086.234\n"
      }
     ],
     "prompt_number": 5
    }
   ],
   "metadata": {}
  }
 ]
}