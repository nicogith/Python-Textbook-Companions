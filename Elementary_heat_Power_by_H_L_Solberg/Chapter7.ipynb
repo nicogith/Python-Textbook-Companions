{
 "metadata": {
  "name": "EHP-7"
 },
 "nbformat": 3,
 "nbformat_minor": 0,
 "worksheets": [
  {
   "cells": [
    {
     "cell_type": "heading",
     "level": 1,
     "metadata": {},
     "source": "Steam Turbines"
    },
    {
     "cell_type": "heading",
     "level": 2,
     "metadata": {},
     "source": "Example 7.1,Page 390"
    },
    {
     "cell_type": "code",
     "collapsed": false,
     "input": "# Initialization of Variable\nfrom math import pi\nfrom math import atan\nfrom numpy import *\nP1=200.0 #psia\nT1=500.0 #psia\nm=1.0 #lb /s\nP4=140.0 #psia\nP11=1.0 #psia\nx=0.808\n\n#calculations\n#\"From mollier charts\"\nh1=1268.9 #Btu/lb\nh4=1234.7 #Btu/lb\nV4=223.8*sqrt(h1-h4)\nv4=3.584 #cu ft/lb\nA4=m*v4/V4\nh11=907.4 #Btu/lb\nV11=223.8*sqrt(h1-h11)\nvf=0.01614 #cu ft/lb\nvg=333.6 #cu ft/lb\nvfg=vg-vf\nv11=x*vg\nA11=m*v11/V11 #area\n\n#results\nprint \"Area of nozzle in sq ft\",round(A4,6)\nprint \" Area of nozzle in sq ft\",round(A11,6)",
     "language": "python",
     "metadata": {},
     "outputs": [
      {
       "output_type": "stream",
       "stream": "stdout",
       "text": "Area of nozzle in sq ft 0.002738\n Area of nozzle in sq ft 0.063347\n"
      }
     ],
     "prompt_number": 18
    },
    {
     "cell_type": "heading",
     "level": 2,
     "metadata": {},
     "source": "Example 7.4,Page 410"
    },
    {
     "cell_type": "code",
     "collapsed": false,
     "input": "# Initialization of Variable\nfrom math import pi\nfrom math import atan, cos\nfrom numpy import *\nP1=200.0 #psia\nT1=500.0 #F\nP2=1.0 #psia\nalpha=20.0 #degrees\nn=3600.0\ng=32.2 #ft/s^2\n\n#calculations\n#\"From mollier charts\"\nV1=4240.0 #fps\nVb=V1*cos(alpha*pi/180) /2\nR=Vb*60/(n*2*pi)\nwork=1/32.2 *(V1*cos(alpha*pi/180))*Vb\neff=work/(V1**2 /(2*g)) *100 #efficiency\n\n#results\nprint \"Blade velocity in fps\",round(Vb,3)\nprint \" Blade radius in ft\",round(R,3)\nprint \" Work done in per lb of steam\",round(work,3)\nprint \" Blade efficiency in percent\",round(eff,3)\nprint \"The answers are a bit different due to rounding off error in textbook\"\n",
     "language": "python",
     "metadata": {},
     "outputs": [
      {
       "output_type": "stream",
       "stream": "stdout",
       "text": "Blade velocity in fps 1992.148\n Blade radius in ft 5.284\n Work done in per lb of steam 246500.315\n Blade efficiency in percent 88.302\nThe answers are a bit different due to rounding off error in textbook\n"
      }
     ],
     "prompt_number": 19
    },
    {
     "cell_type": "heading",
     "level": 2,
     "metadata": {},
     "source": "Example 7.5,Page 411"
    },
    {
     "cell_type": "code",
     "collapsed": false,
     "input": "# Initialization of Variable\nfrom math import pi\nfrom math import atan\nfrom numpy import *\nP1=200.0 #psia\nT1=500.0 #F\nP2=1.0 #psia\nalpha=20.0 #degrees\nn=3600.0\ng=32.2 #ft/s^2\nVb=1200.0 #fps\n\n#calculations\n#\"From mollier charts\"\nV1=4240.0 #fps\nV1x=3980.0 #fps\nV2x=-1580.0 #fps\nwork=1/32.2 *(V1x - V2x)*Vb\neff=work/(V1**2 /(2*g)) *100 #efficiency\n\n#results\nprint \" Work done in per lb of steam\",round(work,3)\nprint \" Blade efficiency in percent\",round(eff,3)\nprint \"The answers are a bit different due to rounding off error in textbook\"\n",
     "language": "python",
     "metadata": {},
     "outputs": [
      {
       "output_type": "stream",
       "stream": "stdout",
       "text": " Work done in per lb of steam 207204.969\n Blade efficiency in percent 74.226\nThe answers are a bit different due to rounding off error in textbook\n"
      }
     ],
     "prompt_number": 20
    },
    {
     "cell_type": "heading",
     "level": 2,
     "metadata": {},
     "source": "Example 7.6,Page 413"
    },
    {
     "cell_type": "code",
     "collapsed": false,
     "input": "# Initialization of Variable\nfrom math import pi\nfrom math import atan, cos, tan\nfrom numpy import *\nP1=200.0 #psia\nT1=500.0 #F\nP2=1.0 #psia\nalpha=20.0 #degrees\nn=3600.0\ng=32.2 #ft/s^2\n\n#calculations\n#\"From mollier charts\")\nV1=2450 #fps\nVb=V1*cos(alpha*pi/180) /2\nR=Vb*60/(n*2*pi)\nwork=1/32.2 *(V1*cos(alpha*pi/180))*Vb\nw3=3*work  #workdone\n\n#results\nprint \"Blade velocity in fps\",round(Vb,3)\nprint \"Blade radius in ft\",round(R,3)\nprint \" Work done in per lb of steam\",round(w3,3)\nprint \"The answers are a bit different due to rounding off error in textbook\"\n",
     "language": "python",
     "metadata": {},
     "outputs": [
      {
       "output_type": "stream",
       "stream": "stdout",
       "text": "Blade velocity in fps 1151.123\nBlade radius in ft 3.053\n Work done in per lb of steam 246910.29\nThe answers are a bit different due to rounding off error in textbook\n"
      }
     ],
     "prompt_number": 2
    },
    {
     "cell_type": "heading",
     "level": 2,
     "metadata": {},
     "source": "Example 7.7, Page 416"
    },
    {
     "cell_type": "code",
     "collapsed": false,
     "input": "# Initialization of Variable\nfrom math import pi\nfrom math import atan\nfrom numpy import *\nP1=200.0 #psia\nT1=500.0 #F\nP2=1.0 #psia\nalpha=20.0 #degrees\nn=3600.0\ng=32.2 #ft/s^2\nstage=2.0\n\n#calculations\n#\"From mollier charts\"\nV1=4240.0 #fps\nVb=V1*cos(alpha*pi/180) /(2*stage)\nR=Vb*60/(n*2*pi)\nV1x=3980 #fps\nV2x=-1990 #fps\nwork1=1/g *(V1x-V2x)*Vb #work\nwork2=1/g *(-V2x)*Vb #work\nwt=work1+work2 #work done\n\n#results\nprint \"Blade velocity in fps\",round(Vb,3)\nprint \" Blade radius in ft\",round(R,3)\nprint \" Work done in per lb of steam\",round(wt,3)\nprint \"The answers are a bit different due to rounding off error in textbook\"",
     "language": "python",
     "metadata": {},
     "outputs": [
      {
       "output_type": "stream",
       "stream": "stdout",
       "text": "Blade velocity in fps 996.074\n Blade radius in ft 2.642\n Work done in per lb of steam 246234.486\nThe answers are a bit different due to rounding off error in textbook\n"
      }
     ],
     "prompt_number": 2
    },
    {
     "cell_type": "heading",
     "level": 2,
     "metadata": {},
     "source": "Example 7.8,Page 422"
    },
    {
     "cell_type": "code",
     "collapsed": false,
     "input": "# Initialization of Variable\nfrom math import pi\nfrom math import atan,cos, tan\nfrom numpy import *\nalpha=20.0 #degrees\nn=3600.0\ng=32.2 #ft/s^2\nV1=500 #fps\n\n#calculations\nVb=V1*cos(alpha*pi/180) #blade velocity\nV1x=Vb\nwork=1/32.2 *(V1x)*Vb #work done\n\n#results\nprint \"Blade velocity in fps\",round(Vb,3)\nprint \" Work done in per lb of steam\",round(work,3)\nprint \"The answers are a bit different due to rounding off error in textbook.\"\n",
     "language": "python",
     "metadata": {},
     "outputs": [
      {
       "output_type": "stream",
       "stream": "stdout",
       "text": "Blade velocity in fps 469.846\n Work done in per lb of steam 6855.763\nThe answers are a bit different due to rounding off error in textbook.\n"
      }
     ],
     "prompt_number": 3
    },
    {
     "cell_type": "heading",
     "level": 2,
     "metadata": {},
     "source": "Example 7.9,Page 436"
    },
    {
     "cell_type": "code",
     "collapsed": false,
     "input": "# Initialization of Variable\nfrom math import pi\nfrom math import atan\nfrom numpy import *\npower=1000.0 #kw\nms=16000.0 #lb/hr\nP=200.0 #psia\nT=540 #F\n\n#calculations\n#\"From mollier charts\"\nh1=1290.0 #Btu/hr\nh2=940.0 #Btu/hr\ndh=h1-h2\nrate=3413.0/dh\nact=ms/power #steam rate\n\n#results\nprint \"Ideal steam rate in per kw hr\",round(rate,3)\nprint \" Actual steam rate in per kw hr\",round(act,3)",
     "language": "python",
     "metadata": {},
     "outputs": [
      {
       "output_type": "stream",
       "stream": "stdout",
       "text": "Ideal steam rate in per kw hr 9.751\n Actual steam rate in per kw hr 16.0\n"
      }
     ],
     "prompt_number": 5
    },
    {
     "cell_type": "heading",
     "level": 2,
     "metadata": {},
     "source": "Example 7.10,Page 439"
    },
    {
     "cell_type": "code",
     "collapsed": false,
     "input": "# Initialization of Variable\nfrom math import pi\nfrom math import atan\nfrom numpy import *\nP=200 #psia\nT=540 #F\npower=1000 #kw\nms=16000 #lb/hr\n\n#calculations\n#\"From mollier charts\")\nh1=1290.0 #Btu/hr\nh2=940.0 #Btu/hr\ndh=h1-h2\nhf2=83.0 #Btu/lb\netat=(h1-h2)/(h1-hf2)\nact=power*3413/(ms*(h1-hf2)) #thermal efficiency\netae=act/etat #efficiency of engine\n\n#results\nprint \"Ideal thermal efficiency in percent\",round(etat*100,3)\nprint \"Actual thermal efficiency in percent\",round(act*100,3)\nprint \" Engine efficiency in percent\",round( etae*100,3)\n",
     "language": "python",
     "metadata": {},
     "outputs": [
      {
       "output_type": "stream",
       "stream": "stdout",
       "text": "Ideal thermal efficiency in percent 28.998\nActual thermal efficiency in percent 17.673\n Engine efficiency in percent 60.946\n"
      }
     ],
     "prompt_number": 7
    }
   ],
   "metadata": {}
  }
 ]
}