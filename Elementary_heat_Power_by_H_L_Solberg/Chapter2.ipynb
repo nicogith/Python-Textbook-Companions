{
 "metadata": {
  "name": "EHP-2"
 },
 "nbformat": 3,
 "nbformat_minor": 0,
 "worksheets": [
  {
   "cells": [
    {
     "cell_type": "heading",
     "level": 1,
     "metadata": {},
     "source": "Fuels and Combustion"
    },
    {
     "cell_type": "heading",
     "level": 2,
     "metadata": {},
     "source": "Example 2.1,Page 76"
    },
    {
     "cell_type": "code",
     "collapsed": false,
     "input": "# Initialization of Variable\nfrom math import pi\nfrom math import atan\nfrom numpy import *\nx1=0.135 #moisture \nx2=0.056 #ash content\nveca=array([32.5, 48.4, 5.6, 13.5]) #materials as received\nB1=11788.0 #Btu/lb\n\n#calculations\nvecb=veca/(1-x1) #moisture free\nvecc=veca/(1-x1-x2) #moisture and ash free\nB2=B1/(1-x1)\nB3=B1/(1-x1-x2)\nvecb[3]=0\nvecc[3]=0\nvecc[2]=0\n\n#results\nprint \"In Moisture free case\",vecb\nprint \"In Moisture and Ash free case \",vecc\nprint \"Energy in Moisture free case  Btu per lb\",round(B2,3)\nprint \"Energy in Moisture and ash free case Btu per lb\",round(B3,2)",
     "language": "python",
     "metadata": {},
     "outputs": [
      {
       "output_type": "stream",
       "stream": "stdout",
       "text": "In Moisture free case [ 37.57225434  55.95375723   6.47398844   0.        ]"
      },
      {
       "output_type": "stream",
       "stream": "stdout",
       "text": "\nIn Moisture and Ash free case  [ 40.17305315  59.82694685   0.           0.        ]\nEnergy in Moisture free case  Btu per lb 13627.746\nEnergy in Moisture and ash free case Btu per lb 14571.08\n"
      }
     ],
     "prompt_number": 1
    },
    {
     "cell_type": "heading",
     "level": 2,
     "metadata": {},
     "source": "Example 2.2,Page 77"
    },
    {
     "cell_type": "code",
     "collapsed": false,
     "input": "# Initialization of Variable\nfrom math import pi\nfrom math import atan\nfrom numpy import *\ny1=13.5\nx1=0.135 #moisture \nx2=0.056 #ash \nveca=array([66.0, 1.5, 1.1, 5.6, 5.9, 19.9]) # fram table 2.3\nvecb=array([66.0, 1.5, 1.1, 5.6, 5.9, 19.9,13.5]) #with moisture \n\n#calculations\nvecb[4] = vecb[4] - 1.0/9*y1 ;\nvecb[5] = vecb[5] - 8.0/9*y1 ;\nvecc=vecb/(1-x1)\nvecd=vecb/(1-x1-x2) # moisture and ash free\nvecd[3]=0\nvecd[6]=0\nvecc[6]=0\ns1=sum(vecc)\ns2=sum(vecd)\n\n#results\nprint \"With moisture as a separate item\",vecb\nprint \"In Moisture free case, \",vecc\nprint \"In Moisture and Ash free case\",vecd\nprint \"Total Mositure free content  percent\",round(s1,3)\nprint \" Total Mositure and ash free content  percent\",round(s2,3)\nprint \"slight error due to rounding off error\"",
     "language": "python",
     "metadata": {},
     "outputs": [
      {
       "output_type": "stream",
       "stream": "stdout",
       "text": "With moisture as a separate item [ 66.    1.5   1.1   5.6   4.4   7.9  13.5]\nIn Moisture free case,  [ 76.30057803   1.73410405   1.2716763    6.47398844   5.0867052\n   9.13294798   0.        ]\nIn Moisture and Ash free case [ 81.58220025   1.85414091   1.35970334   6.92212608   0.           9.76514215\n   0.        ]\nTotal Mositure free content  percent 100.0\n Total Mositure and ash free content  percent 101.483\n"
      }
     ],
     "prompt_number": 5
    },
    {
     "cell_type": "heading",
     "level": 2,
     "metadata": {},
     "source": "Example 2.3,Page 78"
    },
    {
     "cell_type": "code",
     "collapsed": false,
     "input": "# Initialization of Variable\nfrom math import pi\nfrom math import atan\nfrom numpy import *\nH=5.9 \nO=19.9 \nH2=4.4 \nO2=7.9  \n\n#calculations\nHa1=H-O/8\nHa2=H2-O2/8\n\n#results\nprint \"Available hydrogen in case 1  percent by weight\",round(Ha1,3)\nprint \" Available hydrogen in case 2  percent by weight\",round(Ha2,3)\n",
     "language": "python",
     "metadata": {},
     "outputs": [
      {
       "output_type": "stream",
       "stream": "stdout",
       "text": "Available hydrogen in case 1  percent by weight 3.413\n Available hydrogen in case 2  percent by weight 3.413\n"
      }
     ],
     "prompt_number": 3
    },
    {
     "cell_type": "heading",
     "level": 2,
     "metadata": {},
     "source": "Example 2.4,Page 93"
    },
    {
     "cell_type": "code",
     "collapsed": false,
     "input": "# Initialization of Variable\nfrom math import pi\nfrom math import atan\nfrom numpy import *\nH1=0.059\nO1=0.199\nH2=0.044\nO2=0.079\nC=0.66\nS=0.011\n\n#calculations\nQh1= 14600*C+62000*(H1-O1/8)+4050*S #heating value\nQh2=14600*C+62000*(H2-O2/8)+4050*S  #heating value\n\n#results\nprint \"Heating value in case 1  Btu/lb \",round(Qh1,3)\nprint \" Heating value in case 2  Btu/lb \",round(Qh2,3)",
     "language": "python",
     "metadata": {},
     "outputs": [
      {
       "output_type": "stream",
       "stream": "stdout",
       "text": "Heating value in case 1  Btu/lb  11796.3\n Heating value in case 2  Btu/lb  11796.3\n"
      }
     ],
     "prompt_number": 6
    },
    {
     "cell_type": "heading",
     "level": 2,
     "metadata": {},
     "source": "Example 2.5,Page 110"
    },
    {
     "cell_type": "code",
     "collapsed": false,
     "input": "# Initialization of Variable\nfrom math import pi\nfrom math import atan\nfrom numpy import *\nH1=0.059\nO1=0.199\nC=0.66\nS=0.011\n\n#calculations\nQh1= 11.52*C+34.56*(H1-O1/8)+4.32*S\n\n#results\nprint \"Theoretical air required in lb of air per lb of coal \",round(Qh1,3)",
     "language": "python",
     "metadata": {},
     "outputs": [
      {
       "output_type": "stream",
       "stream": "stdout",
       "text": "Theoretical air required in lb of air per lb of coal  8.83\n"
      }
     ],
     "prompt_number": 5
    },
    {
     "cell_type": "heading",
     "level": 2,
     "metadata": {},
     "source": "Example 2.6,Page 110"
    },
    {
     "cell_type": "code",
     "collapsed": false,
     "input": "# Initialization of Variable\nfrom math import pi\nfrom math import atan\nfrom numpy import *\nmf=10000 #lb\nmr=700 #lb\nCr=0.20\nCco2=14.1 #% CO2\nCo2=5.1 #% O2\nCco=0.1 #% CO\nCf=0.66 \n\n#calculations\nCn2=100-(Cco2+Co2+Cco) #% N2\nCi=mf*Cf #carbon input\nCa=mr*Cr #carbon in ashpit\nCb=(Ci-Ca)/mf\nCb2=((mf*Cf)-mr*Cr)/(mf)\nMco2=Cco2 *44 #mass of CO2\nMo2=Co2 *32   #mass of O2\nMco=Cco *28   #mass of CO\nMn2=Cn2 *28   #mass of N2\nsumvec=Mo2+Mco2+Mco+Mn2;\nLbc=Cco2*12 + Cco*12\nGc=sumvec/Lbc\nGf=Gc*Cb\n\n#results\nprint \"Carbon in the dry products combustion in lb per lb of fuel\",round(Cb,3)\nprint \" In case 2, Carbon in the dry products combustion in lb per lb of fuel\",round(Cb2,3)\nprint \" Dry gaseous products of combstion per lb of coal in lb \",round(Gf,3)",
     "language": "python",
     "metadata": {},
     "outputs": [
      {
       "output_type": "stream",
       "stream": "stdout",
       "text": "Carbon in the dry products combustion in lb per lb of fuel 0.646\n In case 2, Carbon in the dry products combustion in lb per lb of fuel 0.646\n Dry gaseous products of combstion per lb of coal in lb  11.548\n"
      }
     ],
     "prompt_number": 12
    },
    {
     "cell_type": "heading",
     "level": 2,
     "metadata": {},
     "source": "Example 2.7,Page 111"
    },
    {
     "cell_type": "code",
     "collapsed": false,
     "input": "# Initialization of Variable\nfrom math import pi\nfrom math import atan\nfrom numpy import *\nmf=10000.0 #lb\nmr=700.0 #lb\nCr=0.20\nCco2=14.1\nCo2=5.1\nCco=0.1\nCf=0.66\n\n#calculations\nCn2=100-(Cco2+Co2+Cco)\nCi=mf*Cf\nCa=mr*Cr\nCb=(Ci-Ca)/mf\nCb2=((mf*Cf)-mr*Cr)/(mf)\nMco2=Cco2 *44 #mass of CO2\nMo2=Co2 *32   #mass of O2\nMco=Cco *28   #mass of CO\nMn2=Cn2 *28   #mass of N2\nsumvec=Mn2+Mco2+Mco+Mn2;\nCbb1=Cb*Cco*12/(Cco2*12 + Cco*12)\nCbb2= Cb*(Cco /(Cco + Cco2))\n\n#results\nprint \"In case 1, Carbon burned per lb of fuel in lb per lb of fuel\",round(Cbb1,6)\nprint \" In case 2, Carbon burned per lb of fuel in lb per lb of fuel\",round(Cbb2,6)",
     "language": "python",
     "metadata": {},
     "outputs": [
      {
       "output_type": "stream",
       "stream": "stdout",
       "text": "In case 1, Carbon burned per lb of fuel in lb per lb of fuel 0.004549\n In case 2, Carbon burned per lb of fuel in lb per lb of fuel 0.004549\n"
      }
     ],
     "prompt_number": 8
    },
    {
     "cell_type": "heading",
     "level": 2,
     "metadata": {},
     "source": "Example 2.8,Page 111"
    },
    {
     "cell_type": "code",
     "collapsed": false,
     "input": "# Initialization of Variable\nfrom math import pi\nfrom math import atan\nfrom numpy import *\nH=4.4/100 #hydrogen\nM=13.5/100 #moisture\nH2=0.059  #hydrogen\n\n#calculations\npro=M+9*H\npro2=9*H2\n\n#results\nprint \"In case 1, watervapor present in products in lb\",round(pro,3)\nprint  \"In case 2, watervapor present in products in lb\",round(pro2,3)",
     "language": "python",
     "metadata": {},
     "outputs": [
      {
       "output_type": "stream",
       "stream": "stdout",
       "text": "In case 1, watervapor present in products in lb 0.531\nIn case 2, watervapor present in products in lb 0.531\n"
      }
     ],
     "prompt_number": 7
    },
    {
     "cell_type": "heading",
     "level": 2,
     "metadata": {},
     "source": "Example 2.9,Page 113"
    },
    {
     "cell_type": "code",
     "collapsed": false,
     "input": "# Initialization of Variable\nfrom math import pi\nfrom math import atan\nfrom numpy import *\nGf=11.57;#lb\nf=11.57 #lb per lb of fuel\nH=4.4/100\nM=13.5/100\nmr=700.0 #lb\nmf=10000.0 #lb\nmc=1 #lb\n\n#calculations\npro=M+9*H\nmrf=mr/mf\nAa=Gf+pro+mrf-mc\n\n#results\nprint \"Actual air supplied in lb of air supplied per lb of fuel\",round(Aa,3)",
     "language": "python",
     "metadata": {},
     "outputs": [
      {
       "output_type": "stream",
       "stream": "stdout",
       "text": "Actual air supplied in lb of air supplied per lb of fuel 11.171\n"
      }
     ],
     "prompt_number": 8
    },
    {
     "cell_type": "heading",
     "level": 2,
     "metadata": {},
     "source": "Example 2.10,Page 114"
    },
    {
     "cell_type": "code",
     "collapsed": false,
     "input": "# Initialization of Variable\nfrom math import pi\nfrom math import atan\nfrom numpy import *\nGf=11.57 #lb per lb of fuel\nH=4.4/100\nM=13.5/100\nmr=700.0\nmf=10000.0\nmc=1.0 #lb\n\n#calculations\npro=M+9*H\nmrf=mr/mf\nAa=Gf+pro+mrf-mc\nAt=8.83\nea=(Aa-At)/At *100\n\n#results\nprint \"Excess air in percent\",round(ea,3)",
     "language": "python",
     "metadata": {},
     "outputs": [
      {
       "output_type": "stream",
       "stream": "stdout",
       "text": "26.512 Excess air in percent\n"
      }
     ],
     "prompt_number": 33
    },
    {
     "cell_type": "heading",
     "level": 2,
     "metadata": {},
     "source": "Example 2.11a,Page 114"
    },
    {
     "cell_type": "code",
     "collapsed": false,
     "input": "# Initialization of Variable\nfrom math import pi\nfrom math import atan\nfrom numpy import *\nGf=11.57 #lb per lb of fuel\ntg=500 #F\nta=70 #F\n#calculations\n\nQ1=0.24*Gf*(tg-ta)\n\n#results\nprint \"Heat loss in Btu per lb of fuel\",round(Q1,3)",
     "language": "python",
     "metadata": {},
     "outputs": [
      {
       "output_type": "stream",
       "stream": "stdout",
       "text": "Heat loss in Btu per lb of fuel 1194.024\n"
      }
     ],
     "prompt_number": 1
    },
    {
     "cell_type": "heading",
     "level": 2,
     "metadata": {},
     "source": "Example 2.11b,Page 115"
    },
    {
     "cell_type": "code",
     "collapsed": false,
     "input": "# Initialization of Variable\nfrom math import pi\nfrom math import atan\nfrom numpy import *\nCo=0.1\nCo2=14.1\nCb=0.646\n\n#calculations\nQ2=Co/(Co+Co2) *Cb*10160\n\n#results\nprint \"Heat loss in Btu per lb of fuel\",round(Q2,3)",
     "language": "python",
     "metadata": {},
     "outputs": [
      {
       "output_type": "stream",
       "stream": "stdout",
       "text": "46.221 Heat loss in Btu per lb of fuel\n"
      }
     ],
     "prompt_number": 35
    },
    {
     "cell_type": "heading",
     "level": 2,
     "metadata": {},
     "source": "Example 2.11c ,Page 115"
    },
    {
     "cell_type": "code",
     "collapsed": false,
     "input": "# Initialization of Variable\nfrom math import pi\nfrom math import atan\nfrom numpy import *\nmf=10000.0 #lb \nmr=700.0 #lb\nCr=0.2\n\n#calculations\nQ3=mr*Cr/mf *14600\n\n#results\nprint \"Heat loss in Btu per lb of fuel\",round(Q3,2)",
     "language": "python",
     "metadata": {},
     "outputs": [
      {
       "output_type": "stream",
       "stream": "stdout",
       "text": "204.4 Heat loss in Btu per lb of fuel\n"
      }
     ],
     "prompt_number": 37
    },
    {
     "cell_type": "heading",
     "level": 2,
     "metadata": {},
     "source": "Example 2.11d,Page 115"
    },
    {
     "cell_type": "code",
     "collapsed": false,
     "input": "# Initialization of Variable\nfrom math import pi\nfrom math import atan\nfrom numpy import *\nM=0.135\ntg=500.0 #F\nta=70.0 #F\n\n#calculations\nQ4=M*(1089+0.46*tg-ta) #heat loss\n\n#results\nprint \"Heat loss in Btu per lb of fuel\",round(Q4,3)",
     "language": "python",
     "metadata": {},
     "outputs": [
      {
       "output_type": "stream",
       "stream": "stdout",
       "text": "168.615 Heat loss in Btu per lb of fuel\n"
      }
     ],
     "prompt_number": 39
    },
    {
     "cell_type": "heading",
     "level": 2,
     "metadata": {},
     "source": "Example 2.11e,Page 115"
    },
    {
     "cell_type": "code",
     "collapsed": false,
     "input": "# Initialization of Variable\nfrom math import pi\nfrom math import atan\nfrom numpy import *\nPer=0.044 #percentage\ntg=500 #F\nta=70 #F\n\n#calculations\nQ5=9*Per*(1089+0.46*tg-ta) #heat loss\n\n#results\nprint \"Heat loss in Btu per lb of fuel\",round(Q5,3)",
     "language": "python",
     "metadata": {},
     "outputs": [
      {
       "output_type": "stream",
       "stream": "stdout",
       "text": "Heat loss in Btu per lb of fuel 494.604\n"
      }
     ],
     "prompt_number": 2
    }
   ],
   "metadata": {}
  }
 ]
}