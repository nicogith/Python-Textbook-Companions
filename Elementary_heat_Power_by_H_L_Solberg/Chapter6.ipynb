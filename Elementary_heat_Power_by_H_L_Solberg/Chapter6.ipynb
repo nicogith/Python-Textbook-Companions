{
 "metadata": {
  "name": "EHP-6"
 },
 "nbformat": 3,
 "nbformat_minor": 0,
 "worksheets": [
  {
   "cells": [
    {
     "cell_type": "heading",
     "level": 1,
     "metadata": {},
     "source": "Steam Power Plant Cycles"
    },
    {
     "cell_type": "heading",
     "level": 2,
     "metadata": {},
     "source": "Example 6.1,Page 366"
    },
    {
     "cell_type": "code",
     "collapsed": false,
     "input": "# Initialization of Variable\nfrom math import pi\nfrom math import atan\nfrom numpy import *\nP1=200.0 #psia\nT1=600.0 #F\nP2=2.0 #psia\nJ=778.0\n\n#calculations\n#\"from mollier charts,\"\nh1=1322 #Btu/lb\nh2=974 #Btu/lb\nvf2=0.01623 #cu ft per lb\nhf2=94.0 #Btu/lb\nt2=126.0 #F\nWtj=h1-h2\nQout=h2-hf2\nWp=(P1-P2)*vf2\nWpj=Wp/J\nh3=hf2+Wpj\nQin=h1-h3\netat=((h1-h2)-Wpj)/(h1-(hf2+Wpj)) #efficiency\neta=((h1-h2))/(h1-(hf2)) #efficiency\n\n#results\nprint round(etat*100,3),\"Efficiency of rankine cycle in percent\"\nprint round(eta*100,3),\" Efficiency of rankine cycle neglecting boiler feed pump in percent\"",
     "language": "python",
     "metadata": {},
     "outputs": [
      {
       "output_type": "stream",
       "stream": "stdout",
       "text": "28.339 Efficiency of rankine cycle in percent\n28.339  Efficiency of rankine cycle neglecting boiler feed pump in percent\n"
      }
     ],
     "prompt_number": 1
    },
    {
     "cell_type": "heading",
     "level": 2,
     "metadata": {},
     "source": "Example 6.2,Page 366"
    },
    {
     "cell_type": "code",
     "collapsed": false,
     "input": "# Initialization of Variable\nfrom math import pi\nfrom math import atan\nfrom numpy import *\nB=70 #F\nP1=140 #psia\nx=0.986\nP2=14.7 #psia\nms=2000.0 #lb/hr\nIhp=80.0\n\n#calculations\n#\"From mollier charts\"\nhc=38 #Btu/lb\nhf=324.82 #Btu/lb\nhfg=868.2 #Btu/lb\nh1=hf+x*hfg\nQin=ms*(h1-hc)\neta=Ihp*2545*100/(Qin) #efficiency\nQw=Ihp*2545 \nQr=Qin-Qw\nper=Qr/Qin *100 #percent\n\n#results\nprint \"Heat input to the boiler in Btu/hr\",round(Qin,3)\nprint \" Cycle efficiency in percent\",round(eta,3)\nprint \" Heat rejected to waste in Btu/hr is\",round(Qr,3),\" or in percent of Qin\",round(per,3)\nprint \"The answer is a bit different due to rounding off error in textbook\"",
     "language": "python",
     "metadata": {},
     "outputs": [
      {
       "output_type": "stream",
       "stream": "stdout",
       "text": "Heat input to the boiler in Btu/hr 2285730.4\n Cycle efficiency in percent 8.907\n Heat rejected to waste in Btu/hr 2082130.4  or in percent of Qin 91.093\nThe answer is a bit different due to rounding off error in textbook\n"
      }
     ],
     "prompt_number": 1
    },
    {
     "cell_type": "heading",
     "level": 2,
     "metadata": {},
     "source": "Example 6.3,Page 372"
    },
    {
     "cell_type": "code",
     "collapsed": false,
     "input": "# Initialization of Variable\nfrom math import pi\nfrom math import atan\nfrom numpy import *\nB=70.0 #F\nP1=140.0 #psia\nx=0.986\nP2=14.7 #psia\nms=2000 #lb/hr\nIhp=80\n\n#calculations\n#\"From mollier charts\"\nhc=180.0 #Btu/lb\nhf=324.82 #Btu/lb\nhfg=868.2 #Btu/lb\nh1=hf+x*hfg\nQin=ms*(h1-hc)\neta=Ihp*2545*100/(Qin)\nQw=Ihp*2545 #Btu/hr\nQr=Qin-Qw #Btu/hr\nper=Qr/Qin *100 #percent\n\n#results\nprint \"Heat input to the boiler in Btu/hr\",round(Qin,3)\nprint \" Cycle efficiency in percent\",round(eta,3)\nprint \" Heat rejected to waste in Btu/hr is\",round(Qr,3),\" or in percent of Qin\",round(per,3)\nprint \"The answer is a bit different due to rounding off error in textbook\"",
     "language": "python",
     "metadata": {},
     "outputs": [
      {
       "output_type": "stream",
       "stream": "stdout",
       "text": "Heat input to the boiler in Btu/hr 2001730.4\n Cycle efficiency in percent 10.171\n Heat rejected to waste in Btu/hr 1798130.4  in percent of Qin 89.829\nThe answer is a bit different due to rounding off error in textbook\n"
      }
     ],
     "prompt_number": 2
    },
    {
     "cell_type": "heading",
     "level": 2,
     "metadata": {},
     "source": "Example 6.4,Page 380"
    },
    {
     "cell_type": "code",
     "collapsed": false,
     "input": "# Initialization of Variable\nfrom math import pi\nfrom math import atan\nfrom numpy import *\nm=1.24 #lb\nHV=11300 #Btu/lb\n\n#calculations\nHR=m*HV\neff=3413/HR #efficiency\n\n#results\nprint \"Plant heat rate in Btu/kw hr\",round(HR,3)\nprint \" Overall efficiency in percent\",round(eff*100,3)",
     "language": "python",
     "metadata": {},
     "outputs": [
      {
       "output_type": "stream",
       "stream": "stdout",
       "text": "Plant heat rate in Btu/kw hr 14012.0\n Overall efficiency in percent 24.358\n"
      }
     ],
     "prompt_number": 10
    }
   ],
   "metadata": {}
  }
 ]
}