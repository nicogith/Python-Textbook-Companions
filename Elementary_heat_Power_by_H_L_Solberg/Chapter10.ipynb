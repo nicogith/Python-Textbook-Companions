{
 "metadata": {
  "name": "EHP-10"
 },
 "nbformat": 3,
 "nbformat_minor": 0,
 "worksheets": [
  {
   "cells": [
    {
     "cell_type": "heading",
     "level": 1,
     "metadata": {},
     "source": "Drafts Fans Blowers and Compressors"
    },
    {
     "cell_type": "heading",
     "level": 2,
     "metadata": {},
     "source": "Example 10.1,Page 515"
    },
    {
     "cell_type": "code",
     "collapsed": false,
     "input": "# Initialization of Variable\nfrom math import pi\nfrom math import atan, cos\nfrom numpy import *\nhb=29.0 #in of Hg\nsg=0.491 #specific gravity\nRa=53.3\nTa=460+40.0 #R\nTg=540+460.0 #R\nH=300 #ft\ngam=62.4 #lb/cu ft\n\n#calculations\npb=hb*sg*144\nrhoa=pb/(Ra*Ta) #density\nrhog=pb/(Ra*Tg) #density\ndp=H*(rhoa-rhog)\nD=dp/(gam)\n\n#results\nprint \"Theoretical draft in psf\",round(dp,3)\nprint \" Draft in ft H2O\",round(D,3)",
     "language": "python",
     "metadata": {},
     "outputs": [
      {
       "output_type": "stream",
       "stream": "stdout",
       "text": "Theoretical draft in psf 11.541\n Draft in ft H2O 0.185\n"
      }
     ],
     "prompt_number": 1
    },
    {
     "cell_type": "heading",
     "level": 2,
     "metadata": {},
     "source": "Example 10.2,Page 516"
    },
    {
     "cell_type": "code",
     "collapsed": false,
     "input": "# Initialization of Variable\nfrom math import pi\nfrom math import atan, cos\nfrom numpy import *\nmd=15.0 #lb per lb of coal\nx=0.1\nmss=1.0 #basis\nrea=29.0 #in of Hg\nsg=0.491\nR=53.3\nT=540+460.0 #R\nV=25.0 #fps\ngam=0.038 #lb/ft^3\n\n#calculations\nm=mss-mss*x+md\nms=m\nrhog=rea*0.491*144/(R*T) #density\nA=ms/(gam*V)\n\n#results\nprint \"stack area in sq ft\",round(A,3)",
     "language": "python",
     "metadata": {},
     "outputs": [
      {
       "output_type": "stream",
       "stream": "stdout",
       "text": "stack area in sq ft 16.737\n"
      }
     ],
     "prompt_number": 2
    },
    {
     "cell_type": "heading",
     "level": 2,
     "metadata": {},
     "source": "Example 10.3,Page 526"
    },
    {
     "cell_type": "code",
     "collapsed": false,
     "input": "# Initialization of Variable\nfrom math import pi\nfrom math import atan, cos\nfrom numpy import *\np=144*29*0.491 #psf\nR=53.3\nT=70+460.0 #R\ngamw=62.4 #lb/ft^3\ngama=0.073 #lb/ft^3\nhw=3.0/12 #ft\nhw2=3.5/12 #ft\nhv=32.2 #ft/s^2\nms=9.0 #lb\ng=32.2 #ft/s^2\n\n#calculations\nrhoa=p/(R*T)\nhs=hw*gamw/gama\nht=hw2*gamw/gama\nhv=ht-hs\nV=sqrt(2*g*hv)\nmsv=ms*V*60.0\nmm=msv*gama\nairhp= ht*mm/33000.0\n\n#results\nprint \"Velocity head in ft of air\",round(hv,3)\nprint \" velocity of air in the duct in fps\",round(V,3)\nprint \" volume in cu ft per min\",round(msv,3)\nprint \" Mass flow rate in lb/min\",round(mm,3)\nprint \" Air horsepower in hp\",round(airhp,3)\nprint \"The answers in the textbook are a bit different due to rounding off error in the textbook Please use a calculator\"",
     "language": "python",
     "metadata": {},
     "outputs": [
      {
       "output_type": "stream",
       "stream": "stdout",
       "text": "Velocity head in ft of air 35.616\n velocity of air in the duct in fps 47.893\n volume in cu ft per min 25861.99\n Mass flow rate in lb/min 1887.925\n Air hp in hp 14.263\nThe answers in the textbook are a bit different due to rounding off error in the textbook Please use a calculator\n"
      }
     ],
     "prompt_number": 11
    },
    {
     "cell_type": "heading",
     "level": 2,
     "metadata": {},
     "source": "Example 10.4,Page 528"
    },
    {
     "cell_type": "code",
     "collapsed": false,
     "input": "# Initialization of Variable\nfrom math import pi\nfrom math import atan, cos\nfrom numpy import *\nA2=9.0 #sq ft\np2=3.0/12 *62.4 #psf\np1=-1.0/12 *62.4 #psf\nms=20000.0 #cfm\nA1=16.0 #sq ft\ngam=0.075 #lb/ft^3\ng=32.2 #ft/s^2\ninp=17.0 #hp\n\n#calculations\nV2=ms/60 *1/A2\nV1=ms/60 *1/A1\nht=(p2-p1)/gam +(V2**2 -V1**2)/(2*g)\nairhp=ht*ms*gam/33000\neta=airhp/inp *100\n\n#results\nprint \"Total head in ft of air\",round(ht,3)\nprint \" Air horsepower in hp\",round(airhp,3)\nprint \" Effifciency in percent\",round(eta,3)",
     "language": "python",
     "metadata": {},
     "outputs": [
      {
       "output_type": "stream",
       "stream": "stdout",
       "text": "Total head in ft of air 291.894\n Air hp in hp 13.268\n Effifciency in percent 78.047\n"
      }
     ],
     "prompt_number": 12
    },
    {
     "cell_type": "heading",
     "level": 2,
     "metadata": {},
     "source": "Example 10.5,Page 532"
    },
    {
     "cell_type": "code",
     "collapsed": false,
     "input": "\n# Initialization of Variable\nfrom math import pi\nfrom math import atan, cos\nfrom numpy import *\nn1=400.0 #rpm\nmv1=10000.0 #lb\nmv2=15000.0 #lb\nh1=2.0 #in of water\nhp1=4.0 #hp\n\n#calculations\nn2=mv2/mv1 *n1 #speed\nh2=h1*(n2/n1)**2 #pressure height\nhp2=hp1 *(n2/n1)**3 #power\n\n#results\nprint  \"The speed in rpm\",round(n2,3)\nprint \" The pressure in inch of water\",round(h2,3)\nprint \" Power in hp\",round(hp2,3)",
     "language": "python",
     "metadata": {},
     "outputs": [
      {
       "output_type": "stream",
       "stream": "stdout",
       "text": "The speed in rpm 600.0\n The pressure in in of water 4.5\n Power in hp 13.5\n"
      }
     ],
     "prompt_number": 13
    },
    {
     "cell_type": "heading",
     "level": 2,
     "metadata": {},
     "source": "Example 10.6,Page 546"
    },
    {
     "cell_type": "code",
     "collapsed": false,
     "input": "# Initialization of Variable\nfrom math import pi\nfrom math import atan, cos\nfrom numpy import *\nm=100000.0 #lb/hr\np1=1.0 #psia\nx=0.8\np2=14.7 #psia\nt2=300.0 #F\n\n#calculations\n#\"from table A3 and A2\"\nh2=1192.8 #Btu/lb\nhf=69.7 #Btu/lb\nhfg=1036.3 #Btu/lb\nh1=hf+x*hfg\nW=h2-h1\npower=m*W\nhp=power/2545.0\n\n#results\nprint \"Power required in hp\",round(hp,3)",
     "language": "python",
     "metadata": {},
     "outputs": [
      {
       "output_type": "stream",
       "stream": "stdout",
       "text": "11554.42 Power required in hp\n"
      }
     ],
     "prompt_number": 8
    },
    {
     "cell_type": "heading",
     "level": 2,
     "metadata": {},
     "source": "Example 10.7,Page 546"
    },
    {
     "cell_type": "code",
     "collapsed": false,
     "input": "# Initialization of Variable\nfrom math import pi\nfrom math import atan, cos\nfrom numpy import *\np1=14.7 #psia\nt1=60.0 #F\np2=60.0 #psia\nt2=440.0 #F\nm=10.0 #lb/sec\n\n#calculations\n#\"From mollier charts\"\nh2=216.3 #Btu/lb\nh1=124.3 #Btu/lb\nW21=h2-h1\npower=W21*m\nhp=power*3600/2545\ncp=0.237\nW212=cp*(t2-t1)\npower2=W212*m\nhp2=power2*3600.0/2545.0\n\n#results\nprint \"Power required in hp\",round(hp,3)\nprint \" Power required in hp\",round(hp2,3)\nprint \" Work done in Btu/lb\",round(W212,3)",
     "language": "python",
     "metadata": {},
     "outputs": [
      {
       "output_type": "stream",
       "stream": "stdout",
       "text": "Power required in hp 1301.375\n Power required in hp 1273.933\n Work done in Btu/lb 90.06\n"
      }
     ],
     "prompt_number": 14
    }
   ],
   "metadata": {}
  }
 ]
}