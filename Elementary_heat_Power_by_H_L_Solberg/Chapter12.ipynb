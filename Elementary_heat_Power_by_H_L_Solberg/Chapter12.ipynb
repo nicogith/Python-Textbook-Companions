{
 "metadata": {
  "name": "EHP-12"
 },
 "nbformat": 3,
 "nbformat_minor": 0,
 "worksheets": [
  {
   "cells": [
    {
     "cell_type": "heading",
     "level": 1,
     "metadata": {},
     "source": "The Gas Turbine Power Plant"
    },
    {
     "cell_type": "heading",
     "level": 2,
     "metadata": {},
     "source": "Example 12.1,Page 577"
    },
    {
     "cell_type": "code",
     "collapsed": false,
     "input": "# Initialization of Variable\nfrom math import pi\nfrom math import atan\nfrom numpy import *\nT1=80.0 #F\nT2=460.0 #F\nT3=1300.0 #F\nT4=780.0 #F\n\n#calculations\n#\"from mollier charts\"\nh1=129.1 #Btu/lb\nh2 = 221.2 #Btu/lb\nh3= 438.8 #Btu/lb\nh4 = 301.5 #Btu/lb\nwcom=h2-h1\nwcob=h3-h2\nwtur=h3-h4\neta=(wtur-wcom)/wcob *100\n\n#results\nprint \" work done by compressor in btu input as work per lb of air compressed\",round(wcom,3)\nprint \" Heat supplied in the combustor in Btu supplied per lb of air \",round(wcob,3)\nprint \" work done in the turbine in Btu output as work per lb of air\",round(wtur,3)\nprint \" Cycle efficiency in percent\",round(eta,3)",
     "language": "python",
     "metadata": {},
     "outputs": [
      {
       "output_type": "stream",
       "stream": "stdout",
       "text": " work done by compressor in btu input as work per lb of air compressed 92.1\n Heat supplied in the combustor in Btu supplied per lb of air  217.6\n work done in the turbine in Btu output as work per lb of air 137.3\n Cycle efficiency in percent 20.772\n"
      }
     ],
     "prompt_number": 3
    },
    {
     "cell_type": "heading",
     "level": 2,
     "metadata": {},
     "source": "Example 12.2,Page 579 "
    },
    {
     "cell_type": "code",
     "collapsed": false,
     "input": "# Initialization of Variable\nfrom math import pi\nfrom math import atan\nfrom numpy import *\nT1=80 #F\nT2=460 #F\nT=700 #F\nT3=1300 #F\nT4=780 #F\n#\"from mollier charts\"\nh1=129.1 #Btu/lb\nh2 = 221.2 #Btu/lb\nh3= 438.8 #Btu/lb\nh4 = 301.5 #Btu/lb\nh=281.1 #Btu/lb\n\n#calculations\nwcom=h2-h1\nwcob=h3-h2\nwtur=h3-h4\noutput=-wcom+wtur\nQ=h3-h\neff=output/Q *100\n\n#results\nprint \" Heat supplied in the combustor in Btu supplied per lb of air \",round(Q,3)\nprint \" Cycle efficiency in percent\",round(eff,3)\n",
     "language": "python",
     "metadata": {},
     "outputs": [
      {
       "output_type": "stream",
       "stream": "stdout",
       "text": " Heat supplied in the combustor in Btu supplied per lb of air  157.7\n Cycle efficiency in percent 28.662\n"
      }
     ],
     "prompt_number": 4
    }
   ],
   "metadata": {}
  }
 ]
}