{
 "metadata": {
  "name": "EHP-11"
 },
 "nbformat": 3,
 "nbformat_minor": 0,
 "worksheets": [
  {
   "cells": [
    {
     "cell_type": "heading",
     "level": 1,
     "metadata": {},
     "source": "Feed Water Heaters and Condensers"
    },
    {
     "cell_type": "heading",
     "level": 2,
     "metadata": {},
     "source": "Example 11.1,Page 554"
    },
    {
     "cell_type": "code",
     "collapsed": false,
     "input": "# Initialization of Variable\nfrom math import pi\nfrom math import atan, cos\nfrom numpy import *\nm1=1000.0 #lb/hr\nm2=5000.0 #lb/hr\nm3=3000.0 #lb/hr\n#From mollier charts\nh5=196.16 #Btu/lb\nh1=38.04 #Btu/lb\nh2=67.97 #Btu/lb\nh3=117.89 #Btu/lb\nh4=1156.3 #Btu/lb\n\n#calculations\nm4=(m1*h1+m2*h2+m3*h3-(m1+m2+m3)*h5)/(h5-h4) #mass rate\n\n#results\nprint \"Pounds of steam entering the heater in lb/hr\", round(m4,3)",
     "language": "python",
     "metadata": {},
     "outputs": [
      {
       "output_type": "stream",
       "stream": "stdout",
       "text": "Pounds of steam entering the heater in lb/hr 1076.801\n"
      }
     ],
     "prompt_number": 3
    },
    {
     "cell_type": "heading",
     "level": 2,
     "metadata": {},
     "source": "Example 11.2,Page 558"
    },
    {
     "cell_type": "code",
     "collapsed": false,
     "input": "# Initialization of Variable\nfrom math import pi\nfrom math import atan, cos\nfrom numpy import *\nP1=100.0 #psia\nT1=400.0 #F\nT2=70.0 #F\n#\"From mollier charts\"\nh1=1227.6 #Btu/lb\nh2=298.4 #Btu/lb\nh3=279.9 #Btu/lb\nh4=38.04 #Btu/lb\n\n#calculations\nm1=(h3-h4)/(h1-h2)\n#results\nprint \"Mass of steam required in lb steam per lb water\",round(m1,3)",
     "language": "python",
     "metadata": {},
     "outputs": [
      {
       "output_type": "stream",
       "stream": "stdout",
       "text": "Mass of steam required in lb steam per lb water 0.26\n"
      }
     ],
     "prompt_number": 4
    },
    {
     "cell_type": "heading",
     "level": 2,
     "metadata": {},
     "source": "Example 11.3,Page 567"
    },
    {
     "cell_type": "code",
     "collapsed": false,
     "input": "# Initialization of Variable\nfrom math import pi\nfrom math import atan, cos\nfrom numpy import *\nh0=1260.0 #Btu/lb\nmsr=15.0 #lb\nm4=15.0 #lb per hr per kw\nt2=80.0 #F\nt3=60.0 #F\n\n#calculations\nh1=h0-3413/msr \n#\"from mollier charts\"\nh4=58 #Btu/lb\ndt=t2-t3\nm3=m4*(h1-h4)/dt\n\n#results\nprint \"enthalpy of steam entering the condenser in Btu/lb\",round(h1,3)\nprint \" mass of cooling water in lb per hr per kw\",round(m3,3)",
     "language": "python",
     "metadata": {},
     "outputs": [
      {
       "output_type": "stream",
       "stream": "stdout",
       "text": "enthalpy of steam entering the condenser in Btu/lb 1032.467\n mass of cooling water in lb per hr per kw 730.85\n"
      }
     ],
     "prompt_number": 5
    },
    {
     "cell_type": "heading",
     "level": 2,
     "metadata": {},
     "source": "Example 11.4,Page 568"
    },
    {
     "cell_type": "code",
     "collapsed": false,
     "input": "# Initialization of Variable\nfrom math import pi\nfrom math import atan, cos\nfrom numpy import *\nm4=8*1000000 #lb per hr\ndt=12 #F\n\n#calculations\n#from mollier charts\")\ndh4=950 #Btu/lb\nm3=m4*(dh4)/dt #mass rate\n\n#results\nprint \" mass of cooling water in lb per hr\",round(m3,4)",
     "language": "python",
     "metadata": {},
     "outputs": [
      {
       "output_type": "stream",
       "stream": "stdout",
       "text": " mass of cooling water in lb per hr 633333333.0\n"
      }
     ],
     "prompt_number": 6
    }
   ],
   "metadata": {}
  }
 ]
}