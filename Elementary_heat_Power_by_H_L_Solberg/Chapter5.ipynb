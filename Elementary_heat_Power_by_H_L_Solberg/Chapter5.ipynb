{
 "metadata": {
  "name": "EHP-5"
 },
 "nbformat": 3,
 "nbformat_minor": 0,
 "worksheets": [
  {
   "cells": [
    {
     "cell_type": "heading",
     "level": 1,
     "metadata": {},
     "source": "Steam Generation"
    },
    {
     "cell_type": "heading",
     "level": 2,
     "metadata": {},
     "source": "Example 5.1,Page 296"
    },
    {
     "cell_type": "code",
     "collapsed": false,
     "input": "# Initialization of Variable\nfrom math import pi\nfrom math import atan\nfrom numpy import *\nx=0.98\nvg=26.80\nvf=0.01672\n\n#calculations\nvx=x*vg+(1-x)*vf #specific wet volume\n\n#results\nprint \"Specific volume of wet steam in cu ft per lb\",round(vx,3)",
     "language": "python",
     "metadata": {},
     "outputs": [
      {
       "output_type": "stream",
       "stream": "stdout",
       "text": "Specific volume of wet steam in cu ft per lb 26.264\n"
      }
     ],
     "prompt_number": 22
    },
    {
     "cell_type": "heading",
     "level": 2,
     "metadata": {},
     "source": "Example 5.2,Page 298"
    },
    {
     "cell_type": "code",
     "collapsed": false,
     "input": "# Initialization of Variable\nfrom math import pi\nfrom math import atan\nfrom numpy import *\nhf=167.99 #Btu/lb\nhg=4.5 #Btu/lb\n\n#calculations\nhc=hf+hg\n\n#results\nprint \"Enthalpy of water in Btu/lb\",round(hc,3)",
     "language": "python",
     "metadata": {},
     "outputs": [
      {
       "output_type": "stream",
       "stream": "stdout",
       "text": "Enthalpy of water in Btu/lb 172.49\n"
      }
     ],
     "prompt_number": 21
    },
    {
     "cell_type": "heading",
     "level": 2,
     "metadata": {},
     "source": "Example 5.3,Page 300"
    },
    {
     "cell_type": "code",
     "collapsed": false,
     "input": "# Initialization of Variable\nfrom math import pi\nfrom math import atan\nfrom numpy import *\nx=0.97\nhg=1187.2 #Btu/lb\nhf=298.40 #Btu/lb\nhfg=888.8 #Btu/lb\n\n#calculations\nhx1=x*hg+(1-x)*hf\nhx2=hf+x*hfg\nhx3=hg-(1-x)*hfg\n\n#results\nprint \" In case 1, enthalpy in Btu/lb\",round(hx1,3)\nprint \" In case 2, enthalpy in Btu/lb\",round(hx2,3)\nprint \" In case 3, enthalpy in Btu/lb\",round(hx3,3)\n",
     "language": "python",
     "metadata": {},
     "outputs": [
      {
       "output_type": "stream",
       "stream": "stdout",
       "text": " In case 1, enthalpy in Btu/lb 1160.536\n In case 2, enthalpy in Btu/lb 1160.536\n In case 3, enthalpy in Btu/lb 1160.536\n"
      }
     ],
     "prompt_number": 23
    },
    {
     "cell_type": "heading",
     "level": 2,
     "metadata": {},
     "source": "Example 5.4,Page 302"
    },
    {
     "cell_type": "code",
     "collapsed": false,
     "input": "# Initialization of Variable\nfrom math import pi\nfrom math import atan\nfrom numpy import *\nh1=1172.0 #Btu/lb\nhf1=355.36 #Btu/lb\nhfg1=843.0 #Btu/lb\n\n#calculations\nh2=h1\nx1= (h2-hf1)/hfg1\n\n#results\nprint \"Quality of steam in percent\",round(x1*100,3)",
     "language": "python",
     "metadata": {},
     "outputs": [
      {
       "output_type": "stream",
       "stream": "stdout",
       "text": "96.873 Quality of steam in percent\n"
      }
     ],
     "prompt_number": 7
    },
    {
     "cell_type": "heading",
     "level": 2,
     "metadata": {},
     "source": "Example 5.7,Page 306"
    },
    {
     "cell_type": "code",
     "collapsed": false,
     "input": "# Initialization of Variable\nfrom math import pi\nfrom math import atan\nfrom numpy import *\nP=200 #psia\nT=260 #F\n\n#calculations\n#\"From mollier chart\"\nhx=1174 #Btu/lb\nx1=2.8 #percent\ny1=100-x1 #percent\n\n#results\nprint \"Quality in percent\",round(y1,3)",
     "language": "python",
     "metadata": {},
     "outputs": [
      {
       "output_type": "stream",
       "stream": "stdout",
       "text": "Quality in percent 97.2\n"
      }
     ],
     "prompt_number": 26
    },
    {
     "cell_type": "heading",
     "level": 2,
     "metadata": {},
     "source": "Example 5.8,Page 306"
    },
    {
     "cell_type": "code",
     "collapsed": false,
     "input": "# Initialization of Variable\nfrom math import pi\nfrom math import atan\nfrom numpy import *\nP=200 #psia\nT=500 #F\n\n#calculations\n#\"From mollier chart\"\nhi=1269 #Btu/lb\nhf=1063 #Btu/lb\ndh=hi-hf\ny1=91\n\n#results\nprint \"Quality in percent\",round(y1,3)\nprint  \" Change in enthalpy in Btu/lb\",round(dh,3)",
     "language": "python",
     "metadata": {},
     "outputs": [
      {
       "output_type": "stream",
       "stream": "stdout",
       "text": "Quality in percent 91.0\n Change in enthalpy in Btu/lb 206.0\n"
      }
     ],
     "prompt_number": 27
    },
    {
     "cell_type": "heading",
     "level": 2,
     "metadata": {},
     "source": "Example 5.9,Page 307"
    },
    {
     "cell_type": "code",
     "collapsed": false,
     "input": "# Initialization of Variable\nfrom math import pi\nfrom math import atan\nfrom numpy import *\nP=200 #psia\nTs=260 #F\nTf=220 #F\nm=10000 #lb\nPc=20 #psia\n\n#calculations\n#\"From mollier charts\"\nhf=188.0 #Btu/lb\nh2=1172.0 #Btu/lb\nQ=m*(h2-hf)\n\n#results\nprint \"Heat absorption in Btu/hr\",round(Q,3)",
     "language": "python",
     "metadata": {},
     "outputs": [
      {
       "output_type": "stream",
       "stream": "stdout",
       "text": "9840000.0 Heat absorption in Btu/hr\n"
      }
     ],
     "prompt_number": 13
    },
    {
     "cell_type": "heading",
     "level": 2,
     "metadata": {},
     "source": "Example 5.10,Page 307"
    },
    {
     "cell_type": "code",
     "collapsed": false,
     "input": "# Initialization of Variable\nfrom math import pi\nfrom math import atan\nfrom numpy import *\nm=150000.0 #lb\nP1=1000.0 #psia\nTs=900.0 #F\nTf=200.0 #F\n\n#calculations\n#\"From mollier charts\"\nh2=1448.2 #Btu/lb\nhf=167.99 #Btu/lb\ncorrec=2.2 #Btu/lb\nhc=hf+correc\nQ=m*(h2-hc)\n\n#results\nprint \"Heat absorption in Btu/hr\",round(Q,3)\nprint\"The answer is a bit different due to rounding off error in textbook\"",
     "language": "python",
     "metadata": {},
     "outputs": [
      {
       "output_type": "stream",
       "stream": "stdout",
       "text": "Heat absorption in Btu/hr 191701500.0\nThe answer is a bit different due to rounding off error in textbook\n"
      }
     ],
     "prompt_number": 28
    },
    {
     "cell_type": "heading",
     "level": 2,
     "metadata": {},
     "source": "Example 5.11,Page 308"
    },
    {
     "cell_type": "code",
     "collapsed": false,
     "input": "# Initialization of Variable\nfrom math import pi\nfrom math import atan\nfrom numpy import *\nm=150000.0 #lb\nP1=1000.0 #psia\nTs=900.0 #F\nTf=200.0 #F\n\n#calculations\n#\"From mollier charts\"\nh2=1448.2 #Btu/lb\nhf=167.99 #Btu/lb\ncorrec=2.2 #Btu/lb\nhc=hf+correc\nQ=m*(h2-hc)\noutput=Q/1000\n\n#results\nprint \"Output of the steam generating unit  kB/hr\",round(output,3)\n",
     "language": "python",
     "metadata": {},
     "outputs": [
      {
       "output_type": "stream",
       "stream": "stdout",
       "text": "Output of the steam generating unit  kB/hr 191701.5\n"
      }
     ],
     "prompt_number": 29
    },
    {
     "cell_type": "heading",
     "level": 2,
     "metadata": {},
     "source": "Example 5.12,Page 308"
    },
    {
     "cell_type": "code",
     "collapsed": false,
     "input": "# Initialization of Variable\nfrom math import pi\nfrom math import atan\nfrom numpy import *\nm=150000 #lb\nP1=1000 #psia\nTs=900 #F\nTf=200 #F\nm2=21000 #lb\nHV=12000 #Btu/lb\n\n#calculations\n#\"From mollier charts\"\nh2=1448.2 #Btu/lb\nhf=167.99 #Btu/lb\ncorrec=2.2 #Btu/lb\nhc=hf+correc\nQ=m*(h2-hc)\noutput=Q\ninpu=m2*HV\neta=output/inpu\n\n#results\nprint \"Efficiency of the steam generating unit in percent\",round(eta*100,3)",
     "language": "python",
     "metadata": {},
     "outputs": [
      {
       "output_type": "stream",
       "stream": "stdout",
       "text": "Efficiency of the steam generating unit in percent 76.072\n"
      }
     ],
     "prompt_number": 30
    },
    {
     "cell_type": "heading",
     "level": 2,
     "metadata": {},
     "source": "Example 5.13,Page 309"
    },
    {
     "cell_type": "code",
     "collapsed": false,
     "input": "# Initialization of Variable\nfrom math import pi\nfrom math import atan\nfrom numpy import *\nhv=11780 #Btu/lb\nsteam=55000 #lb/hr\ncoal=6480 #lb\nx1=0.66 # %Carbon\nx2=0.044 #% Hydrogen\nx3=0.079 #% Oxygen\nx4=0.015 #% Nitrogen\nx5=0.11 # % Sulphur\nz1=14.5 # % CO2\nz2=0.2 # CO\nz3=4.4 # O2\nz4=80.9 # N2\nxash=0.076 #% ash\nxmois=0.115 # % moisture\nyc=0.21 # % Carbon in refuse\nrefuse=622 #lb/hr\ncp=0.24 #coeff of heat\ntg=400 #F\nta=70 #F\nQco=10160 #Btu/lb\nQc=14600 #Btu/lb\n\n#calculations\n#\"From steam tables\"\nhf=269.6 #Btu/lbm\nhfg=1.5 #Btu/lbm\nh1=hf+hfg #Btu/lbm\nh2=1196.5\nQb=h2-h1\nh3=1407.7 #Btu/lbm\nQs=h3-h2\nh4=h3-h1\nout=steam*h4/1000\neff=steam*h4/(coal*hv)\n#Energy balance\nCi=coal*x1\nCr=refuse*yc\nCb=(Ci-Cr)/coal\nlbt= z1*44+z2*28+z3*32+z4*28\nlbC=z1*12+z2*12\ndry=lbt/lbC *Cb\nloss1=dry*cp*(tg-ta)\nloss2=z2*12/(lbC) *Cb*Qco\nloss3=Cr*Qc/coal\nloss4=xmois*(1089+0.46*tg-ta)\nloss5=x2*9*(1089+0.46*tg-ta)\nloss6=steam*h4/coal\n\n#results\nprint \"Heat absorbed in the boiler in Btu per lb of steam generated\",round(Qb,3)\nprint \" Heat absorbed in the superheater in Btu/lb of steam\",round(Qs,3)\nprint  \" Heat absorbed in steam generating in Btu/lb of steam generated\",round(h4,3)\nprint \" Output of steam generating unit in kB\",round(out,3)\nprint \" Efficiency of steam generating unit in percent\",round(eff*100,3)\nprint  \" Carbon burned to CO and CO2 in lb of C per lb of fuel\",round(Cb,3)\nprint \" Dry products of combustion in lb per lb of fuel\",round(dry,3)\nprint \" Loss due to sensible heat in dry gaseous products of combustion in Btu/lb of fuel\",round(loss1,3)\nprint \" Loss due to CO in dry products of combustion in Btu/lb of fuel\",round(loss2,3)\nprint  \" Loss due to C in refuse in Btu/lb of fuel\",round(loss3,3)\nprint \" Loss due to evaporating moisture in fuel in Btu/lb of fuel\",round(loss4,3)\nprint \" Loss due to water vapor formed from H in Btu/lb of fuel\",round(loss5,3)\nprint  \" Energy absorbed in generating steam in Btu/lb of fuel\",round(loss6,3)\nprint \"The answers are a bit different due to rounding off error in the textbook\"",
     "language": "python",
     "metadata": {},
     "outputs": [
      {
       "output_type": "stream",
       "stream": "stdout",
       "text": "Heat absorbed in the boiler in Btu per lb of steam generated 925.4\n Heat absorbed in the superheater in Btu/lb of steam 211.2\n Heat absorbed in steam generating in Btu/lb of steam generated 1136.6\n Output of steam generating unit in kB 62513.0\n Efficiency of steam generating unit in percent 81.894\n Carbon burned to CO and CO2 in lb of C per lb of fuel 0.64\n Dry products of combustion in lb per lb of fuel 11.062\n Loss due to sensible heat in dry gaseous products of combustion in Btu/lb of fuel 876.078\n Loss due to CO in dry products of combustion in Btu/lb of fuel 88.446\n Loss due to C in refuse in Btu/lb of fuel 294.298\n Loss due to evaporating moisture in fuel in Btu/lb of fuel 138.345\n Loss due to water vapor formed from H in Btu/lb of fuel 476.388\n Energy absorbed in generating steam in Btu/lb of fuel 9647.068\nThe answers are a bit different due to rounding off error in the textbook\n"
      }
     ],
     "prompt_number": 31
    }
   ],
   "metadata": {}
  }
 ]
}