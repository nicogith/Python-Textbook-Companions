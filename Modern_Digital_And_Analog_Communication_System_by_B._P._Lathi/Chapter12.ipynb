{
 "cells": [
  {
   "cell_type": "markdown",
   "metadata": {},
   "source": [
    "# Chapter 12 : Behaviour of analog systems in the presence of noise "
   ]
  },
  {
   "cell_type": "markdown",
   "metadata": {},
   "source": [
    "## page no 536 Example 12.1"
   ]
  },
  {
   "cell_type": "code",
   "execution_count": 1,
   "metadata": {
    "collapsed": false
   },
   "outputs": [
    {
     "name": "stdout",
     "output_type": "stream",
     "text": [
      "output SNR = 78.36 dB\n"
     ]
    }
   ],
   "source": [
    "from math import pi,log\n",
    "#from mpmath import quad\n",
    "from mpmath import quad\n",
    "# Let the received signal be km(t)cos(wct) , demodulator input is [km(t)+nc(t)]cos(wct)+[ns(t)sin(wct)]. When this is multiplied by 2coswct and low pass filtered the output is s0(t)+n0(t)=km(t)+nc(t).\n",
    "# Hence So=k**2*m**2' , No=nc**2'. But the power of the received signal km(t)cos(wct)= 1uW. Hence k**2*m**2'/2=10**-6\n",
    "So=2*10**-6#\n",
    "# to compute nc: (nc**2)'=(n**2)'=x\n",
    "t0=496000.#\n",
    "t1=504000. #\n",
    "a=10**6 * pi#\n",
    "y=quad (lambda t:1/((t**2)+(a**2)),[t0,t1])\n",
    "# to compute output SNR\n",
    "SNR=So/y#\n",
    "val=(10.*(log (SNR)))#\n",
    "print \"output SNR = %0.2f dB\"%val"
   ]
  },
  {
   "cell_type": "markdown",
   "metadata": {},
   "source": [
    "## Page 540 Problem 12.2"
   ]
  },
  {
   "cell_type": "code",
   "execution_count": 2,
   "metadata": {
    "collapsed": false
   },
   "outputs": [
    {
     "name": "stdout",
     "output_type": "stream",
     "text": [
      "gamma threshold : 13.8155\n"
     ]
    }
   ],
   "source": [
    "from math import log,exp\n",
    "#as En=sqrt(nc**2+ns**2),where both nc and ns are gaussian with variance 6n**2,according to the following eqn P(En>=A)=integrate(En/6n**2)*e**(-En**2/2*6n**2)dEn#\n",
    "# the value of this integral is the probability of which is 0.01\n",
    "#hence e**(-A**2/2*6n**2)=0.01\n",
    "#let g=A**2/(2*6n**2)#\n",
    "g=-(log(0.01)/log(exp(1)))#\n",
    "# the variance 6n**2 of the bandpass noise of PSD N/2 and the bandwidth 2B is 2NB.Hence at the onset of the threshold\n",
    "# therefore A**2/(2*6n**2)=A**2/(4NB)=g\n",
    "#for tone modulation\n",
    "#Si=A**2+m'**2/2#\n",
    "#Si=3*A**2/4#\n",
    "gma_th=3*(g)## gma_th=Si/NB=3*A**2/(4NB)#\n",
    "print 'gamma threshold : %0.4f'%gma_th"
   ]
  },
  {
   "cell_type": "markdown",
   "metadata": {},
   "source": [
    "## Page 547 Problem 12.3"
   ]
  },
  {
   "cell_type": "code",
   "execution_count": 3,
   "metadata": {
    "collapsed": false
   },
   "outputs": [
    {
     "name": "stdout",
     "output_type": "stream",
     "text": [
      "SIGNAL TO NOISE RATIO : 0.0053\n"
     ]
    }
   ],
   "source": [
    "# for a gaussian m(t),mp will be assumed as 36m\n",
    "Sg=3##assumed\n",
    "Mbar=(Sg**2)#\n",
    "MP=((3.*Sg)**2)#\n",
    "B=0.2##ASSUMED\n",
    "gma=0.4##assumed\n",
    "SNR=3.*B**2*(Mbar/MP)*gma#\n",
    "print 'SIGNAL TO NOISE RATIO : %0.4f'%SNR"
   ]
  },
  {
   "cell_type": "markdown",
   "metadata": {},
   "source": [
    "## Page 550 Problem 12.4"
   ]
  },
  {
   "cell_type": "code",
   "execution_count": 4,
   "metadata": {
    "collapsed": false
   },
   "outputs": [
    {
     "name": "stdout",
     "output_type": "stream",
     "text": [
      "value of Bm : 8.3333\n"
     ]
    }
   ],
   "source": [
    "from mpmath import quad\n",
    "t0=-5#\n",
    "t1=5#\n",
    "y=quad(lambda t:t**2,[t0,t1])#\n",
    "f=quad(lambda t:1,[t0,t1])\n",
    "Bm=y/f#\n",
    "print 'value of Bm : %0.4f'%Bm"
   ]
  },
  {
   "cell_type": "markdown",
   "metadata": {},
   "source": [
    "## Page 550 Problem 12.5"
   ]
  },
  {
   "cell_type": "code",
   "execution_count": 5,
   "metadata": {
    "collapsed": false
   },
   "outputs": [
    {
     "name": "stdout",
     "output_type": "stream",
     "text": [
      "Bm2 :  3.0\n"
     ]
    }
   ],
   "source": [
    "from mpmath import quad\n",
    "from math import exp\n",
    "# Sm(w)=k*e**(-w2/26**2) this is given\n",
    "# let us the assume the value of constant 6**2/4(pi**2) =3\n",
    "# thus the variance can be calculated as\n",
    "f0=0#\n",
    "f1=15#\n",
    "y=quad(lambda f:(f**2)*(exp(-(f**2)/6)),[f0,f1])\n",
    "g=quad(lambda f:exp(-(f**2)/6),[f0,f1])#\n",
    "v=y/g#\n",
    "print 'Bm2 : ',v"
   ]
  },
  {
   "cell_type": "markdown",
   "metadata": {},
   "source": [
    "## Page 552 Prob 12.6"
   ]
  },
  {
   "cell_type": "code",
   "execution_count": 6,
   "metadata": {
    "collapsed": false
   },
   "outputs": [
    {
     "name": "stdout",
     "output_type": "stream",
     "text": [
      "factor of superiority of PM over FM :  3.0\n"
     ]
    }
   ],
   "source": [
    "from mpmath import quad\n",
    "from math import exp,pi\n",
    "#for the same transmission bandwidth variance of PM and FM systems is same\n",
    "#hence the ratio of SNR of PM to FM is B**2/(3Bm'**2)\n",
    "#assuming 6=1\n",
    "B=3/(2*pi)##because W=2*pi*B\n",
    "#variance is Bm2\n",
    "f0=0#\n",
    "f1=15.#\n",
    "y=quad(lambda f:(f**2)*(exp(-(f**2)*2*(pi**2))),[f0,f1])\n",
    "g=quad(lambda f:exp(-(f**2)*2*(pi**2)),[f0,f1])\n",
    "Bm2=y/g#\n",
    "l=(B**2)/(3*(Bm2))#\n",
    "print 'factor of superiority of PM over FM : ',l"
   ]
  },
  {
   "cell_type": "markdown",
   "metadata": {},
   "source": [
    "## page no 555 Example 12.7"
   ]
  },
  {
   "cell_type": "code",
   "execution_count": 7,
   "metadata": {
    "collapsed": false
   },
   "outputs": [
    {
     "name": "stdout",
     "output_type": "stream",
     "text": [
      "threshold SNR = 300.00 \n",
      "Threshold SNR = -104.68 dB \n",
      "system is not in threshold\n"
     ]
    }
   ],
   "source": [
    "from math  import log\n",
    "B=4# SNR=20.5# # given\n",
    "r=20*(B+1)##as B=4\n",
    "#output SNR is given as So/No=3*B**2*r*(m**2'/mp**2)\n",
    "m=4.# m=mp/6m is given\n",
    "SNRt=3*(B**2)*r*(1/m)**2#\n",
    "print \"threshold SNR = %0.2f \"%SNRt\n",
    "# to calculate output SNR in dB\n",
    "SNRdB=20*log(SNR)#\n",
    "print \"Threshold SNR = %0.2f dB \"%SNRdB\n",
    "if 20.5<SNRdB:\n",
    "  print \"system is in threshold\"\n",
    "else: \n",
    "  print 'system is not in threshold'"
   ]
  },
  {
   "cell_type": "markdown",
   "metadata": {},
   "source": [
    "## Page 561 Prob 12.8"
   ]
  },
  {
   "cell_type": "code",
   "execution_count": 8,
   "metadata": {
    "collapsed": false
   },
   "outputs": [
    {
     "name": "stdout",
     "output_type": "stream",
     "text": [
      "SNR is equal : 21845.33\n",
      "SNR = 43.394 dB\n"
     ]
    }
   ],
   "source": [
    "from math import log10\n",
    "#for a gausssian signal,mp=infinity(00),but we may assume 36 loading,thus mp=3*6,\n",
    "Sgm=3.#\n",
    "m2=(Sgm**2)#\n",
    "mp2=((3*Sgm)**2)#\n",
    "y=(m2)/(mp2)#\n",
    "# to calculate SNR,we have SNR=3(2**n)*((m**2)/(mp**2)) \n",
    "n=8##given\n",
    "l=3*(2**(2*n))*y##by formula\n",
    "print 'SNR is equal : %0.2f'%l\n",
    "print 'SNR = %0.3f dB'%(10*(log10(l)))"
   ]
  },
  {
   "cell_type": "markdown",
   "metadata": {},
   "source": [
    "## Page 567 Prob 12.10"
   ]
  },
  {
   "cell_type": "code",
   "execution_count": 9,
   "metadata": {
    "collapsed": false
   },
   "outputs": [
    {
     "name": "stdout",
     "output_type": "stream",
     "text": [
      "value of |m| : 0.80\n"
     ]
    }
   ],
   "source": [
    "from math import pi,sqrt,exp\n",
    "from mpmath import quad\n",
    "# to calculate |m|\n",
    "m0=0#\n",
    "m1=50.#\n",
    "m=quad(lambda m:(m*(exp(-(m**2)/2.))),[m0,m1])##assuming 6m=1\n",
    "print 'value of |m| : %0.2f'%(sqrt(2/pi)*m)"
   ]
  },
  {
   "cell_type": "markdown",
   "metadata": {},
   "source": [
    "## Page 569 Prob 12.11"
   ]
  },
  {
   "cell_type": "code",
   "execution_count": 10,
   "metadata": {
    "collapsed": false
   },
   "outputs": [
    {
     "name": "stdout",
     "output_type": "stream",
     "text": [
      "transmitted power : 1.01e-04\n",
      "SNR without pre-emphasis and de-emphasis : 2.53e-08\n",
      "S is 2.44e+00\n",
      "SNR at the output : 3.31e-08\n",
      "Improvement factor in SNR with pre-emphasis and de-emphasis : 1.31\n"
     ]
    }
   ],
   "source": [
    "from math import pi,sqrt\n",
    "from mpmath import quad\n",
    "a=1400.*pi##given\n",
    "c=1.##assumed\n",
    "w0=0\n",
    "w1=8000.*pi#\n",
    "S=quad(lambda w:1/((w**2)+(a**2)),[w0,w1])\n",
    "So=S/pi#\n",
    "print 'transmitted power : %0.2e'%So##assuming G=1,hence St=So\n",
    "#assuming N=1\n",
    "No=4000.##because No=N*B\n",
    "SNR=So/No#\n",
    "print 'SNR without pre-emphasis and de-emphasis : %0.2e'%SNR\n",
    "S=quad(lambda w:1/(sqrt((w**2)+(a**2))),[w0,w1])#\n",
    "print 'S is %0.2e'%S\n",
    "SNRo=(10**-8)*4*(pi**2)/(2*(S**2))#\n",
    "print 'SNR at the output : %0.2e'%SNRo\n",
    "print 'Improvement factor in SNR with pre-emphasis and de-emphasis : %0.2f'%(SNRo/SNR)"
   ]
  }
 ],
 "metadata": {
  "kernelspec": {
   "display_name": "Python 2",
   "language": "python",
   "name": "python2"
  },
  "language_info": {
   "codemirror_mode": {
    "name": "ipython",
    "version": 2
   },
   "file_extension": ".py",
   "mimetype": "text/x-python",
   "name": "python",
   "nbconvert_exporter": "python",
   "pygments_lexer": "ipython2",
   "version": "2.7.9"
  }
 },
 "nbformat": 4,
 "nbformat_minor": 0
}
