{
 "cells": [
  {
   "cell_type": "markdown",
   "metadata": {},
   "source": [
    "# Chapter 3 : Analysis and transmission of signals"
   ]
  },
  {
   "cell_type": "markdown",
   "metadata": {},
   "source": [
    "## Page no 75 Prob 3.1"
   ]
  },
  {
   "cell_type": "code",
   "execution_count": 5,
   "metadata": {
    "collapsed": false
   },
   "outputs": [
    {
     "name": "stdout",
     "output_type": "stream",
     "text": [
      "fourier transform of x(t)=:\n",
      "[ 1.58195029+0.j          1.33722176-0.38516024j  1.02105993-0.4033185j\n",
      "  0.84862839-0.29364174j  0.76732853-0.17191927j  0.73478625-0.05628763j\n",
      "  0.73478625+0.05628763j  0.76732853+0.17191927j  0.84862839+0.29364174j\n",
      "  1.02105993+0.4033185j   1.33722176+0.38516024j]\n"
     ]
    }
   ],
   "source": [
    "from scipy.fftpack import fft\n",
    "from math import exp\n",
    "# given signal is x(t)= e**(-at) * u(t)\n",
    "#unity function u(t)=1 for 0 to infinity \n",
    "#therefore\n",
    "x=1#\n",
    "#here we consider 'infinity' value as 10 and the value of 'a' is 1\n",
    "t= range(0,11)\n",
    "a=1## a >0\n",
    "z=[]\n",
    "for tt in t:z.append((exp(-a*tt) * x))\n",
    "y=fft(z)#\n",
    "print 'fourier transform of x(t)=:\\n',y"
   ]
  },
  {
   "cell_type": "markdown",
   "metadata": {},
   "source": [
    "## Page no 81 Prob 3.2"
   ]
  },
  {
   "cell_type": "code",
   "execution_count": 10,
   "metadata": {
    "collapsed": false
   },
   "outputs": [
    {
     "name": "stdout",
     "output_type": "stream",
     "text": [
      "fourier transform of x(t)=:\n",
      "[ 1.+0.j]\n"
     ]
    }
   ],
   "source": [
    "from scipy.fftpack import fft\n",
    "\n",
    "#given signal is x(t) = rect(t/T)\n",
    "#rect(t/T) = 1 for |t| < T/2  and   \n",
    "#          = 0 for |t| > T/2\n",
    "# therefore we have to find out fourier transform of x(t)= 1 for |t| < T/2 thus,\n",
    "x=[1]#\n",
    "T= 200# # consider \n",
    "t= range(-T/2,T/2+1)##range for fourer transform\n",
    "y=fft(x)#\n",
    "print 'fourier transform of x(t)=:\\n',y"
   ]
  },
  {
   "cell_type": "markdown",
   "metadata": {},
   "source": [
    "## Page no 82 Prob 3.3"
   ]
  },
  {
   "cell_type": "code",
   "execution_count": 12,
   "metadata": {
    "collapsed": false
   },
   "outputs": [
    {
     "name": "stdout",
     "output_type": "stream",
     "text": [
      "fourier transform of x(t)=:\n",
      "[ 1.+0.j]\n"
     ]
    }
   ],
   "source": [
    "from scipy.fftpack import fft\n",
    "\n",
    "# given signal is x(t)= unit impulse d(t) \n",
    "#it is defined as d(t) = 1 for t=0\n",
    "#therefore \n",
    "x=1#\n",
    "y=fft([x])#\n",
    "print 'fourier transform of x(t)=:\\n',y"
   ]
  },
  {
   "cell_type": "markdown",
   "metadata": {},
   "source": [
    "## Page 84 problem 3.7"
   ]
  },
  {
   "cell_type": "code",
   "execution_count": 14,
   "metadata": {
    "collapsed": false
   },
   "outputs": [
    {
     "name": "stdout",
     "output_type": "stream",
     "text": [
      "fourier transform of signum funcion is : \n",
      "[ 0.00000000 +0.j         -1.98883083+13.19503037j -0.04442719 +0.14402943j\n",
      " -1.90096887 +3.94740253j -0.17376123 +0.25486091j -1.73305187 +1.86778571j\n",
      " -0.37651020 +0.30025686j -1.50000000 +0.8660254j  -0.63465898 +0.24908529j\n",
      " -1.22252093 +0.27903243j -0.92526991 +0.06933939j -0.92526991 -0.06933939j\n",
      " -1.22252093 -0.27903243j -0.63465898 -0.24908529j -1.50000000 -0.8660254j\n",
      " -0.37651020 -0.30025686j -1.73305187 -1.86778571j -0.17376123 -0.25486091j\n",
      " -1.90096887 -3.94740253j -0.04442719 -0.14402943j -1.98883083-13.19503037j]\n"
     ]
    }
   ],
   "source": [
    "from numpy import sign\n",
    "t=range(-10,11)#\n",
    "y=sign(t)#\n",
    "g=fft(y)#\n",
    "print \"fourier transform of signum funcion is : \\n\",g"
   ]
  }
 ],
 "metadata": {
  "kernelspec": {
   "display_name": "Python 2",
   "language": "python",
   "name": "python2"
  },
  "language_info": {
   "codemirror_mode": {
    "name": "ipython",
    "version": 2
   },
   "file_extension": ".py",
   "mimetype": "text/x-python",
   "name": "python",
   "nbconvert_exporter": "python",
   "pygments_lexer": "ipython2",
   "version": "2.7.9"
  }
 },
 "nbformat": 4,
 "nbformat_minor": 0
}
