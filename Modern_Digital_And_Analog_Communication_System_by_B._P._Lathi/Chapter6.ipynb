{
 "cells": [
  {
   "cell_type": "markdown",
   "metadata": {},
   "source": [
    "# Chapter 6: Sampling and pulse code modulation"
   ]
  },
  {
   "cell_type": "markdown",
   "metadata": {},
   "source": [
    "## page no 271 prob no. 6.2"
   ]
  },
  {
   "cell_type": "code",
   "execution_count": 5,
   "metadata": {
    "collapsed": false
   },
   "outputs": [
    {
     "name": "stdout",
     "output_type": "stream",
     "text": [
      "Enter the band limited freq in hertz is 1100\n",
      "minimum transmission bandwidth = 8800.00 Hertz\n",
      "enter the no of signal to be multiplexed 25\n",
      "minimum transmission bandwidth = 220000.00 Hertz\n"
     ]
    }
   ],
   "source": [
    "from math import log\n",
    "fm=input(\"Enter the band limited freq in hertz is \")\n",
    "Rn=2*fm# # Nyquist sampling rate\n",
    "Ra=Rn*(4/3)## actual Nyquist sampling rate\n",
    "# here the maximum quantization error(E) is 0.5% of the peak amplitide mp. Hence, E=mp/L=0.5*mp/100*L\n",
    "mp=1##we assume peak amplitude is unity\n",
    "L=(mp*100)/(0.5*mp)#\n",
    "for i in range(0,11):\n",
    "    j=2**i\n",
    "    if(j>=L):\n",
    "        L1=j#\n",
    "        break#\n",
    "    \n",
    "n=log(L1,2)## bits per sample\n",
    "c=n*Ra## total no of bits transmitted\n",
    "# Beause we can transmit up to 2bits/per hertz of bandwidth,we require minimum transmission bandwidth Bt=c/2\n",
    "Bt=c/2#\n",
    "print \"minimum transmission bandwidth = %.2f Hertz\"%Bt\n",
    "s=input(\"enter the no of signal to be multiplexed \")\n",
    "Cm=s*c##total no of bits of 's' signal\n",
    "c1=Cm/2## minimum transmission bandwidth\n",
    "print \"minimum transmission bandwidth = %.2f Hertz\"%c1"
   ]
  },
  {
   "cell_type": "markdown",
   "metadata": {},
   "source": [
    "## Page no 273 prob no 6.3"
   ]
  },
  {
   "cell_type": "code",
   "execution_count": 6,
   "metadata": {
    "collapsed": false
   },
   "outputs": [
    {
     "name": "stdout",
     "output_type": "stream",
     "text": [
      "enter the value of L = 12\n",
      "enter the bandwidth of signal in hertz350\n",
      "SNR ratio is = 13.00 \n"
     ]
    }
   ],
   "source": [
    "from math import log,log10\n",
    "# from the expresion given on the page no 272# (So/No)=(a+6n) dB where a=10log[3/[ln(1+u)]**2]\n",
    "#check the ollowing code for L=64 and L=256\n",
    "L=input(\"enter the value of L = \")\n",
    "B=input(\"enter the bandwidth of signal in hertz : \")\n",
    "n=log(L,2)#\n",
    "Bt=n*B#\n",
    "u=100##given\n",
    "a=10*log10(3/(log(1+u))**2)\n",
    "SNR=(a+(6*n))#\n",
    "print \"SNR ratio is = %0.2f \"%SNR\n",
    "# Here the SNR ratio for the two cases are found out. The difference between the two SNRs is 12dB which is the ratio of 16. Thus the SNR for L=256 is 16 times the SNR for L=64. The former requires just about 33% more bandwidth compared to the later."
   ]
  }
 ],
 "metadata": {
  "kernelspec": {
   "display_name": "Python 2",
   "language": "python",
   "name": "python2"
  },
  "language_info": {
   "codemirror_mode": {
    "name": "ipython",
    "version": 2
   },
   "file_extension": ".py",
   "mimetype": "text/x-python",
   "name": "python",
   "nbconvert_exporter": "python",
   "pygments_lexer": "ipython2",
   "version": "2.7.9"
  }
 },
 "nbformat": 4,
 "nbformat_minor": 0
}
