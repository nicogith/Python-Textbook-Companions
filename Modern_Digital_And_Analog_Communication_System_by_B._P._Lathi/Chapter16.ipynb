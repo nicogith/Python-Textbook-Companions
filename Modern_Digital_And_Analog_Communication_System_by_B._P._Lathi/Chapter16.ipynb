{
 "cells": [
  {
   "cell_type": "markdown",
   "metadata": {},
   "source": [
    "# Chapter16 : Error correcting codes"
   ]
  },
  {
   "cell_type": "markdown",
   "metadata": {},
   "source": [
    "## Page no 732 Example no 16.1"
   ]
  },
  {
   "cell_type": "code",
   "execution_count": 35,
   "metadata": {
    "collapsed": false
   },
   "outputs": [
    {
     "name": "stdout",
     "output_type": "stream",
     "text": [
      "code words are given as\n",
      "[[1 1 1 0 0 0]]\n",
      "[[1 1 0 1 1 0]]\n",
      "[[1 0 1 0 1 1]]\n",
      "[[1 0 0 1 0 1]]\n",
      "[[0 1 1 1 0 1]]\n",
      "[[0 1 0 0 1 1]]\n",
      "[[0 0 1 1 1 0]]\n",
      "[[0 0 0 0 0 0]]\n"
     ]
    }
   ],
   "source": [
    "from numpy import mat,shape\n",
    "\n",
    "#here generator matrix is given\n",
    "G=mat([[1, 0, 0, 1 ,0 ,1],[0, 1, 0, 0, 1, 1],[0, 0, 1, 1, 1, 0]])\n",
    "d1=mat([[1, 1, 1]])\n",
    "d2=mat([[1, 1, 0]])\n",
    "d3=mat([[1, 0, 1]])\n",
    "d4=mat([[1, 0, 0]])\n",
    "d5=mat([[0, 1, 1]])\n",
    "d6=mat([[0, 1, 0]])\n",
    "d7=mat([[0, 0, 1]])\n",
    "d8=mat([[0, 0 ,0]])\n",
    "c1=d1*G\n",
    "\n",
    "for i in range(0,6):\n",
    "    if c1[0,i]==2:\n",
    "        c1[0,i]=0\n",
    "    \n",
    "\n",
    "c2=d2*G#\n",
    "for i in range(0,6):\n",
    "    if c2[0,i]==2:\n",
    "        c2[0,i]=0\n",
    "    \n",
    "\n",
    "c3=d3*G#\n",
    "for i in range(0,6):\n",
    "    if c3[0,i]==2:\n",
    "        c3[0,i]=0\n",
    "    \n",
    "   \n",
    "c4=d4*G#\n",
    "for i in range(0,6):\n",
    "    if c4[0,i]==2:\n",
    "        c4[0,i]=0\n",
    "    \n",
    "\n",
    "c5=d5*G#\n",
    "for i in range(0,6):\n",
    "    if c5[0,i]==2:\n",
    "        c5[0,i]=0#\n",
    "    \n",
    "\n",
    "c6=d6*G#\n",
    "for i in range(0,6):\n",
    "    if c6[0,i]==2:\n",
    "        c6[0,i]=0#\n",
    "   \n",
    "\n",
    "c7=d7*G#\n",
    "for i in range(0,6):\n",
    "    if c7[0,i]==2:\n",
    "        c7[0,i]=0#\n",
    "   \n",
    "\n",
    "c8=d8*G#\n",
    "for i in range(0,6):\n",
    "    if c8[0,i]==2:\n",
    "        c8[0,i]=0#\n",
    "   \n",
    "\n",
    "print \"code words are given as\"\n",
    "print c1\n",
    "print c2\n",
    "\n",
    "print c3\n",
    "print c4\n",
    "print c5\n",
    "print c6\n",
    "print c7\n",
    "print c8"
   ]
  }
 ],
 "metadata": {
  "kernelspec": {
   "display_name": "Python 2",
   "language": "python",
   "name": "python2"
  },
  "language_info": {
   "codemirror_mode": {
    "name": "ipython",
    "version": 2
   },
   "file_extension": ".py",
   "mimetype": "text/x-python",
   "name": "python",
   "nbconvert_exporter": "python",
   "pygments_lexer": "ipython2",
   "version": "2.7.9"
  }
 },
 "nbformat": 4,
 "nbformat_minor": 0
}
