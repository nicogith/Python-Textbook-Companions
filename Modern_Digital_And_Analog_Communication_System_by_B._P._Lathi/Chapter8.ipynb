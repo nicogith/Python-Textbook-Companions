{
 "cells": [
  {
   "cell_type": "markdown",
   "metadata": {},
   "source": [
    "# Chapter 8 : Emerging digital communications technologies"
   ]
  },
  {
   "cell_type": "markdown",
   "metadata": {},
   "source": [
    "## page no. 367 Prob no. 8.3"
   ]
  },
  {
   "cell_type": "code",
   "execution_count": 1,
   "metadata": {
    "collapsed": false
   },
   "outputs": [
    {
     "name": "stdout",
     "output_type": "stream",
     "text": [
      "No. of hours for resynchronizing : 60 Hr\n"
     ]
    }
   ],
   "source": [
    "#since both the plots can be out of synchronization by as much as 6 parts (bits)in 10**13 , we have \n",
    "# timing error bits per second can be calculated as-\n",
    "#error in synchronization is given as\n",
    "e=6.0/(10**13)##timing eeor bits per transmitted bits\n",
    "#bit rate is given as\n",
    "r =1544000.0 ## in bits/sec\n",
    "#timing error bits per second ,Te is given as\n",
    "Te=e*r#\n",
    "S=1/Te## seconds per timing error bits\n",
    "H=S/3600.0## hours per timing error bits\n",
    "#since a synchronization error can occur whenever the network is out of synchronization by 1/5 bits, the time between resynchronizing is given as\n",
    "T=H/5.0#\n",
    "print \"No. of hours for resynchronizing : %.f Hr\"%T"
   ]
  }
 ],
 "metadata": {
  "kernelspec": {
   "display_name": "Python 2",
   "language": "python",
   "name": "python2"
  },
  "language_info": {
   "codemirror_mode": {
    "name": "ipython",
    "version": 2
   },
   "file_extension": ".py",
   "mimetype": "text/x-python",
   "name": "python",
   "nbconvert_exporter": "python",
   "pygments_lexer": "ipython2",
   "version": "2.7.9"
  }
 },
 "nbformat": 4,
 "nbformat_minor": 0
}
