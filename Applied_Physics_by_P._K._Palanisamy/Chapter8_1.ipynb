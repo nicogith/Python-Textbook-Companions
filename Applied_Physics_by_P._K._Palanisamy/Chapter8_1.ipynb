{
 "metadata": {
  "name": "",
  "signature": "sha256:56ac13dd16475ea277515219c6087df27ecfe535e7f6298ab44a9065695ca2d8"
 },
 "nbformat": 3,
 "nbformat_minor": 0,
 "worksheets": [
  {
   "cells": [
    {
     "cell_type": "heading",
     "level": 1,
     "metadata": {},
     "source": [
      " 8: Semiconductors"
     ]
    },
    {
     "cell_type": "heading",
     "level": 2,
     "metadata": {},
     "source": [
      "Example number 8.1, Page number 8.11"
     ]
    },
    {
     "cell_type": "code",
     "collapsed": false,
     "input": [
      "#importing modules\n",
      "import math\n",
      "from __future__ import division\n",
      "\n",
      "#Variable declaration\n",
      "ni = 2.37*10**19;      #intrinsic carrier density(per m^3)\n",
      "mew_e = 0.38;      #electron mobility(m^2/Vs)\n",
      "mew_h = 0.18;      #hole mobility(m^2/Vs)\n",
      "e = 1.6*10**-19;\n",
      "\n",
      "#Calculation\n",
      "sigma_i = ni*e*(mew_e+mew_h);      #conductivity(ohm-1 m-1)\n",
      "rho = 1/sigma_i;      #resistivity(ohm m)\n",
      "rho = math.ceil(rho*10**3)/10**3;   #rounding off to 3 decimals\n",
      "\n",
      "#Result\n",
      "print \"resistivity is\",rho,\"ohm m\""
     ],
     "language": "python",
     "metadata": {},
     "outputs": [
      {
       "output_type": "stream",
       "stream": "stdout",
       "text": [
        "resistivity is 0.471 ohm m\n"
       ]
      }
     ],
     "prompt_number": 3
    },
    {
     "cell_type": "heading",
     "level": 2,
     "metadata": {},
     "source": [
      "Example number 8.2, Page number 8.12"
     ]
    },
    {
     "cell_type": "code",
     "collapsed": false,
     "input": [
      "#importing modules\n",
      "import math\n",
      "from __future__ import division\n",
      "import numpy as np\n",
      "\n",
      "#Variable declaration\n",
      "Eg = 1.12;       #band gap(eV)\n",
      "k = 1.38*10**-23;\n",
      "T = 300;     #temperature(K)\n",
      "e = 1.6*10**-19;\n",
      "m0 = 1;     #for simplicity assume value of m0 to be unity\n",
      "\n",
      "#Calculation\n",
      "mh = 0.28*m0;\n",
      "me = 0.12*m0;\n",
      "EF = (Eg/2)+(3*k*T*np.log(mh/me)/(4*e));      #position of Fermi level(eV)\n",
      "EF = math.ceil(EF*10**4)/10**4;   #rounding off to 4 decimals\n",
      "\n",
      "#Result\n",
      "print \"position of Fermi level is\",EF,\"eV from the top of valence band\""
     ],
     "language": "python",
     "metadata": {},
     "outputs": [
      {
       "output_type": "stream",
       "stream": "stdout",
       "text": [
        "position of Fermi level is 0.5765 eV from the top of valence band\n"
       ]
      }
     ],
     "prompt_number": 11
    },
    {
     "cell_type": "heading",
     "level": 2,
     "metadata": {},
     "source": [
      "Example number 8.3, Page number 8.12"
     ]
    },
    {
     "cell_type": "code",
     "collapsed": false,
     "input": [
      "#importing modules\n",
      "import math\n",
      "from __future__ import division\n",
      "\n",
      "#Variable declaration\n",
      "T = 300;      #temperature(K)\n",
      "e = 1.6*10**-19;\n",
      "m = 9.109*10**-31;     #mass of electron(kg)\n",
      "k = 1.38*10**-23;      #boltzmann's constant\n",
      "h = 6.626*10**-34;      #planck's constant\n",
      "Eg = 0.7;      #band gap(eV)\n",
      "\n",
      "#Calculation\n",
      "Eg = Eg*e;     #band gap(J)\n",
      "A = (2*math.pi*m*k*T/h**2)**(3/2);\n",
      "B = math.exp(-Eg/(2*k*T));\n",
      "ni = 2*A*B;     #concentration of intrinsic charge carriers per m^3\n",
      "\n",
      "#Result\n",
      "print \"concentration of intrinsic charge carriers is\",round(ni/1e+19,3),\"*10^19 per m^3\""
     ],
     "language": "python",
     "metadata": {},
     "outputs": [
      {
       "output_type": "stream",
       "stream": "stdout",
       "text": [
        "concentration of intrinsic charge carriers is 3.348 *10^19 per m^3\n"
       ]
      }
     ],
     "prompt_number": 10
    },
    {
     "cell_type": "heading",
     "level": 2,
     "metadata": {},
     "source": [
      "Example number 8.4, Page number 8.13"
     ]
    },
    {
     "cell_type": "code",
     "collapsed": false,
     "input": [
      "#importing modules\n",
      "import math\n",
      "from __future__ import division\n",
      "\n",
      "#Variable declaration\n",
      "ni = 2.4*10**19;      #intrinsic carrier density(per m^3)\n",
      "mew_e = 0.39;      #electron mobility(m^2/Vs)\n",
      "mew_h = 0.19;      #hole mobility(m^2/Vs)\n",
      "e = 1.6*10**-19;\n",
      "\n",
      "#Calculation\n",
      "sigma_i = ni*e*(mew_e+mew_h);      #conductivity(ohm-1 m-1)\n",
      "rho = 1/sigma_i;      #resistivity(ohm m)\n",
      "rho = math.ceil(rho*10**3)/10**3;   #rounding off to 3 decimals\n",
      "\n",
      "#Result\n",
      "print \"resistivity is\",rho,\"ohm m\""
     ],
     "language": "python",
     "metadata": {},
     "outputs": [
      {
       "output_type": "stream",
       "stream": "stdout",
       "text": [
        "resistivity is 0.449 ohm m\n"
       ]
      }
     ],
     "prompt_number": 13
    },
    {
     "cell_type": "heading",
     "level": 2,
     "metadata": {},
     "source": [
      "Example number 8.5, Page number 8.13"
     ]
    },
    {
     "cell_type": "code",
     "collapsed": false,
     "input": [
      "#importing modules\n",
      "import math\n",
      "from __future__ import division\n",
      "\n",
      "#Variable declaration\n",
      "ni = 2.5*10**19;      #intrinsic carrier density(per m^3)\n",
      "mew_e = 0.39;      #electron mobility(m^2/Vs)\n",
      "mew_h = 0.19;      #hole mobility(m^2/Vs)\n",
      "e = 1.6*10**-19;\n",
      "w = 1;     #width(mm)\n",
      "t = 1;     #thickness(mm)\n",
      "l = 1;     #length(cm)\n",
      "\n",
      "#Calculation\n",
      "sigma_i = ni*e*(mew_e+mew_h);      #conductivity(ohm-1 m-1)\n",
      "w = w*10**-3;       #width(m)\n",
      "t = t*10**-3;     #thickness(m)\n",
      "A = w*t;      #area(m^2)\n",
      "l = l*10**-2;     #length(m)\n",
      "R = l/(sigma_i*A);      #resistivity(ohm m)\n",
      "R = R/10**3;\n",
      "R = math.ceil(R*10**3)/10**3;   #rounding off to 3 decimals\n",
      "\n",
      "#Result\n",
      "print \"resistance of intrinsic Ge rod is\",R,\"*10^3 ohm\""
     ],
     "language": "python",
     "metadata": {},
     "outputs": [
      {
       "output_type": "stream",
       "stream": "stdout",
       "text": [
        "resistance of intrinsic Ge rod is 4.311 *10^3 ohm\n"
       ]
      }
     ],
     "prompt_number": 18
    },
    {
     "cell_type": "heading",
     "level": 2,
     "metadata": {},
     "source": [
      "Example number 8.6, Page number 8.14"
     ]
    },
    {
     "cell_type": "code",
     "collapsed": false,
     "input": [
      "#importing modules\n",
      "import math\n",
      "from __future__ import division\n",
      "\n",
      "#Variable declaration\n",
      "m = 9.109*10**-31;    #mass of electron(kg)\n",
      "k = 1.38*10**-23;     #boltzmann constant\n",
      "h = 6.626*10**-34;      #planck's constant\n",
      "T = 300;     #temperature(K)\n",
      "kT = 0.026;\n",
      "e = 1.6*10**-19;\n",
      "Eg = 1.1;    #energy gap(eV)\n",
      "mew_e = 0.48;      #electron mobility(m^2/Vs)\n",
      "mew_h = 0.013;     #hole mobility(m^2/Vs)\n",
      "\n",
      "#Calculation\n",
      "C = 2*(2*math.pi*m*k/h**2)**(3/2);\n",
      "ni = C*(T**(3/2))*math.exp(-Eg/(2*kT));      #intrinsic carrier density per m^3\n",
      "sigma_i = ni*e*(mew_e+mew_h);      #conductivity(ohm-1 m-1)\n",
      "sigma_i = sigma_i*10**3;\n",
      "sigma_i = math.ceil(sigma_i*10**3)/10**3;   #rounding off to 3 decimals\n",
      "\n",
      "#Result\n",
      "print \"conductivity is\",sigma_i,\"*10**-3 ohm-1 m-1\"\n",
      "print \"answer given in the book differs due to rounding off errors\""
     ],
     "language": "python",
     "metadata": {},
     "outputs": [
      {
       "output_type": "stream",
       "stream": "stdout",
       "text": [
        "conductivity is 1.286 *10**-3 ohm-1 m-1\n",
        "answer given in the book differs due to rounding off errors\n"
       ]
      }
     ],
     "prompt_number": 24
    },
    {
     "cell_type": "heading",
     "level": 2,
     "metadata": {},
     "source": [
      "Example number 8.7, Page number 8.15"
     ]
    },
    {
     "cell_type": "code",
     "collapsed": false,
     "input": [
      "#importing modules\n",
      "import math\n",
      "from __future__ import division\n",
      "\n",
      "#Variable declaration\n",
      "m = 9.109*10**-31;    #mass of electron(kg)\n",
      "k = 1.38*10**-23;     #boltzmann constant\n",
      "h = 6.626*10**-34;      #planck's constant\n",
      "T = 300;     #temperature(K)\n",
      "e = 1.6*10**-19;\n",
      "Eg = 0.7;    #energy gap(eV)\n",
      "mew_e = 0.4;      #electron mobility(m^2/Vs)\n",
      "mew_h = 0.2;      #hole mobility(m^2/Vs)\n",
      "\n",
      "#Calculation\n",
      "ni = 2*(2*math.pi*m*k*T/h**2)**(3/2)*math.exp(-Eg*e/(2*k*T));     #intrinsic carrier density per m^3\n",
      "sigma = ni*e*(mew_e+mew_h);      #conductivity(ohm-1 m-1)\n",
      "sigma = math.ceil(sigma*10**2)/10**2;   #rounding off to 2 decimals\n",
      "\n",
      "#Result\n",
      "print \"intrinsic carrier density is\",round(ni/1e+19,2),\"*10^19 per m^3\"\n",
      "print \"conductivity is\",sigma,\"ohm-1 m-1\"\n",
      "print \"answer given in the book is wrong\""
     ],
     "language": "python",
     "metadata": {},
     "outputs": [
      {
       "output_type": "stream",
       "stream": "stdout",
       "text": [
        "intrinsic carrier density is 3.35 *10^19 per m^3\n",
        "conductivity is 3.22 ohm-1 m-1\n",
        "answer given in the book is wrong\n"
       ]
      }
     ],
     "prompt_number": 27
    },
    {
     "cell_type": "heading",
     "level": 2,
     "metadata": {},
     "source": [
      "Example number 8.8, Page number 8.16"
     ]
    },
    {
     "cell_type": "code",
     "collapsed": false,
     "input": [
      "#importing modules\n",
      "import math\n",
      "from __future__ import division\n",
      "import numpy as np\n",
      "\n",
      "#Variable declaration\n",
      "rho = 2.12;      #resistivity(ohm m)\n",
      "e = 1.6*10**-19;\n",
      "m = 9.109*10**-31;    #mass of electron(kg)\n",
      "k = 1.38*10**-23;     #boltzmann constant\n",
      "h = 6.626*10**-34;      #planck's constant\n",
      "mew_e = 0.36;      #electron mobility(m^2/Vs)\n",
      "mew_h = 0.17;      #hole mobility(m^2/Vs)\n",
      "T = 300;     #temperature(K)\n",
      "\n",
      "#Calculation\n",
      "sigma = 1/rho;    #conductivity(ohm-1 m-1)\n",
      "ni = sigma/(e*(mew_e+mew_h));       #intrinsic carrier density per m^3\n",
      "C = 2*(2*math.pi*m*k/h**2)**(3/2);\n",
      "#let exp(Eg/(2*k*T)) be a\n",
      "a = (C*T**(3/2))/ni;\n",
      "#Eg/(2*k*T) = log(a) and Eg = 2*k*T*log(a)\n",
      "Eg = 2*k*T*np.log(a)/e;      #forbidden energy gap(eV)\n",
      "Eg = math.ceil(Eg*10**3)/10**3;   #rounding off to 3 decimals\n",
      "\n",
      "#Result\n",
      "print \"forbidden energy gap is\",Eg,\"eV\"\n",
      "print \"answer given in the book differs due to rounding off errors\""
     ],
     "language": "python",
     "metadata": {},
     "outputs": [
      {
       "output_type": "stream",
       "stream": "stdout",
       "text": [
        "forbidden energy gap is 0.793 eV\n",
        "answer given in the book differs due to rounding off errors\n"
       ]
      }
     ],
     "prompt_number": 2
    },
    {
     "cell_type": "heading",
     "level": 2,
     "metadata": {},
     "source": [
      "Example number 8.9, Page number 8.17"
     ]
    },
    {
     "cell_type": "code",
     "collapsed": false,
     "input": [
      "#importing modules\n",
      "import math\n",
      "from __future__ import division\n",
      "import numpy as np\n",
      "\n",
      "#Variable declaration\n",
      "rho_2 = 4.5;      #resistivity at 20C\n",
      "rho_1 = 2;        #resistivity at 32C\n",
      "T1 = 20;      #temperature(C)\n",
      "T2 = 32;    #temperature(C)\n",
      "k = 8.616*10**-5;\n",
      "\n",
      "#Calculation\n",
      "T1 = T1+273;     #temperature(K)\n",
      "T2 = T2+273;    #temperature(K)\n",
      "dy = np.log10(rho_2)-np.log10(rho_1);\n",
      "dx = (1/T1)-(1/T2);\n",
      "Eg = 2*k*dy/dx;       #energy band gap(eV)\n",
      "Eg = math.ceil(Eg*10**3)/10**3;   #rounding off to 3 decimals\n",
      "\n",
      "#Result\n",
      "print \"energy band gap is\",Eg,\"eV\"\n",
      "print \"answer given in the book differs due to rounding off errors\""
     ],
     "language": "python",
     "metadata": {},
     "outputs": [
      {
       "output_type": "stream",
       "stream": "stdout",
       "text": [
        "energy band gap is 0.452 eV\n",
        "answer given in the book differs due to rounding off errors\n"
       ]
      }
     ],
     "prompt_number": 4
    },
    {
     "cell_type": "heading",
     "level": 2,
     "metadata": {},
     "source": [
      "Example number 8.10, Page number 8.17"
     ]
    },
    {
     "cell_type": "code",
     "collapsed": false,
     "input": [
      "#importing modules\n",
      "import math\n",
      "from __future__ import division\n",
      "import numpy as np\n",
      "\n",
      "#Variable declaration\n",
      "Eg = 1;      #band gap(eV)\n",
      "e = 1.602*10**-19;\n",
      "me = 1;     #for simplicity assume me to be unity\n",
      "E_Ef = 10/100;     #fermi level shift(eV)\n",
      "k = 1.38*10**-23;     #boltzmann constant\n",
      "\n",
      "#Calculation\n",
      "Eg = Eg*e;     #band gap(J)\n",
      "mh = 4*me;     #effective mass of holes is 4 times of electrons\n",
      "E_Ef = E_Ef*e;     #fermi level shift(J)\n",
      "#E_Ef = 3*k*T*np.log(mh/me)/4\n",
      "T = 4*E_Ef/(3*k*np.log(mh/me));      #temperature(K)\n",
      "\n",
      "#Result\n",
      "print \"temperature is\",int(T),\"K\""
     ],
     "language": "python",
     "metadata": {},
     "outputs": [
      {
       "output_type": "stream",
       "stream": "stdout",
       "text": [
        "temperature is 1116 K\n"
       ]
      }
     ],
     "prompt_number": 37
    },
    {
     "cell_type": "heading",
     "level": 2,
     "metadata": {},
     "source": [
      "Example number 8.11, Page number 8.18"
     ]
    },
    {
     "cell_type": "code",
     "collapsed": false,
     "input": [
      "#importing modules\n",
      "import math\n",
      "from __future__ import division\n",
      "\n",
      "#Variable declaration\n",
      "Na = 5*10**23;      #atoms of boron\n",
      "Nd = 3*10**23;      #arsenic atoms\n",
      "ni = 2*10**16;        #intrinsic charge carriers per m^3\n",
      "\n",
      "#Calculation\n",
      "p = 2*(Na-Nd)/2;      #hole concentration per m^3\n",
      "n = ni**2/p;           #electron concentration per m^3\n",
      "n = n/10**9;\n",
      "\n",
      "#Result\n",
      "print \"electron concentration is\",int(n),\"*10**9 per m^3\""
     ],
     "language": "python",
     "metadata": {},
     "outputs": [
      {
       "output_type": "stream",
       "stream": "stdout",
       "text": [
        "electron concentration is 2 *10**9 per m^3\n"
       ]
      }
     ],
     "prompt_number": 7
    },
    {
     "cell_type": "heading",
     "level": 2,
     "metadata": {},
     "source": [
      "Example number 8.12, Page number 8.19"
     ]
    },
    {
     "cell_type": "code",
     "collapsed": false,
     "input": [
      "#importing modules\n",
      "import math\n",
      "from __future__ import division\n",
      "\n",
      "#Variable declaration\n",
      "ni = 1.5*10**16;      #intrinsic charge carriers per m^3\n",
      "e = 1.6*10**-19;\n",
      "mew_e = 0.13;      #electron mobility(m^2/Vs)\n",
      "mew_h = 0.05;      #hole mobility(m^2/Vs)\n",
      "AW = 28.1;      #atomic weight of Si(kg)\n",
      "d = 2.33*10**3;     #density of Si(kg/m^3)\n",
      "N = 6.02*10**26;    #avagadro number\n",
      "\n",
      "#Calculation\n",
      "sigma = ni*e*(mew_e+mew_h);      #conductivity(ohm-1 m-1)\n",
      "sigma = sigma*10**3;\n",
      "Nd = d*N/AW;        #impurity atoms per m^3\n",
      "Nd = Nd/10**8;      #extent of 10^8 Si atoms\n",
      "p = ni**2/Nd;       #hole concentration per m^3\n",
      "sigma_ex = Nd*e*mew_e;       #conductivity(ohm-1 m-1)\n",
      "sigma_ex = math.ceil(sigma_ex*10**3)/10**3;   #rounding off to 3 decimals\n",
      "Na = Nd;\n",
      "n = ni**2/Na;      #electron concentration per m^3\n",
      "sigma_EX = Na*e*mew_h;       #conductivity(ohm-1 m-1)\n",
      "sigma_EX = math.ceil(sigma_EX*10**3)/10**3;   #rounding off to 3 decimals\n",
      "\n",
      "#Result\n",
      "print \"conductivity is\",sigma,\"*10^-3 ohm-1 m-1\"\n",
      "print \"conductivity if donor type impurity is added is\",sigma_ex,\"ohm-1 m-1\"\n",
      "print \"conductivity if acceptor type impurity is added is\",sigma_EX,\"ohm-1 m-1\""
     ],
     "language": "python",
     "metadata": {},
     "outputs": [
      {
       "output_type": "stream",
       "stream": "stdout",
       "text": [
        "conductivity is 0.432 *10^-3 ohm-1 m-1\n",
        "conductivity if donor type impurity is added is 10.383 ohm-1 m-1\n",
        "conductivity if acceptor type impurity is added is 3.994 ohm-1 m-1\n"
       ]
      }
     ],
     "prompt_number": 47
    },
    {
     "cell_type": "heading",
     "level": 2,
     "metadata": {},
     "source": [
      "Example number 8.13, Page number 8.21"
     ]
    },
    {
     "cell_type": "code",
     "collapsed": false,
     "input": [
      "#importing modules\n",
      "import math\n",
      "from __future__ import division\n",
      "import numpy as np\n",
      "\n",
      "#Variable declaration\n",
      "ni = 1.5*10**16;      #intrinsic charge carriers per m^3\n",
      "e = 1.6*10**-19;\n",
      "mew_e = 0.135;      #electron mobility(m^2/Vs)\n",
      "mew_h = 0.048;      #hole mobility(m^2/Vs)\n",
      "Nd = 10**23;      #phosphorus atoms per m^3\n",
      "k = 1.38*10**-23;     #boltzmann constant\n",
      "T = 300;     #temperature(K)\n",
      "\n",
      "#Calculation\n",
      "sigma = ni*e*(mew_e+mew_h);      #conductivity(ohm-1 m-1)\n",
      "sigma = sigma*10**3;\n",
      "p = (ni**2)/Nd;      #hole concentration per m^3\n",
      "p = p/10**9;\n",
      "sigma_ex = Nd*e*mew_e;      #conductivity(ohm-1 m-1)\n",
      "#EF = (Eg/2)+(3*k*T*log(mew_e/mew_h)/4)\n",
      "X = 3*k*T*np.log(mew_e/mew_h)/(4*e);\n",
      "X = math.ceil(X*10**3)/10**3;   #rounding off to 3 decimals\n",
      "#EF = (Eg/2)+X\n",
      "\n",
      "#Result\n",
      "print \"conductivity is\",sigma,\"*10^-3 ohm-1 m-1\"\n",
      "print \"hole concentration is\",p,\"*10**9 per m^3\"\n",
      "print \"answer for hole concentration given in the book is wrong\"\n",
      "print \"EF = Eg/2 + \",X\n",
      "print \"Fermi level will be positioned at \",X,\"eV above intrinsic level\""
     ],
     "language": "python",
     "metadata": {},
     "outputs": [
      {
       "output_type": "stream",
       "stream": "stdout",
       "text": [
        "conductivity is 0.4392 *10^-3 ohm-1 m-1\n",
        "hole concentration is 2.25 *10**9 per m^3\n",
        "answer for hole concentration given in the book is wrong\n",
        "EF = Eg/2 +  0.021\n",
        "Fermi level will be positioned at  0.021 eV above intrinsic level\n"
       ]
      }
     ],
     "prompt_number": 13
    },
    {
     "cell_type": "heading",
     "level": 2,
     "metadata": {},
     "source": [
      "Example number 8.14, Page number 8.36"
     ]
    },
    {
     "cell_type": "code",
     "collapsed": false,
     "input": [
      "#importing modules\n",
      "import math\n",
      "from __future__ import division\n",
      "\n",
      "#Variable declaration\n",
      "mew_e = 0.19;      #electron mobility(m^2/Vs)\n",
      "k = 1.38*10**-23;     #boltzmann constant\n",
      "T = 300;     #temperature(K)\n",
      "e = 1.6*10**-19;\n",
      "\n",
      "#Calculation\n",
      "Dn = mew_e*k*T/e;     #diffusion coefficient(m^2/s)\n",
      "Dn = Dn*10**4;\n",
      "Dn = math.ceil(Dn*10**2)/10**2;   #rounding off to 2 decimals\n",
      "\n",
      "#Result\n",
      "print \"diffusion coefficient of electrons is\",Dn,\"*10^-4 m^2/s\""
     ],
     "language": "python",
     "metadata": {},
     "outputs": [
      {
       "output_type": "stream",
       "stream": "stdout",
       "text": [
        "diffusion coefficient of electrons is 49.17 *10^-4 m^2/s\n"
       ]
      }
     ],
     "prompt_number": 59
    },
    {
     "cell_type": "heading",
     "level": 2,
     "metadata": {},
     "source": [
      "Example number 8.15, Page number 8.46"
     ]
    },
    {
     "cell_type": "code",
     "collapsed": false,
     "input": [
      "#importing modules\n",
      "import math\n",
      "from __future__ import division\n",
      "\n",
      "#Variable declaration\n",
      "RH = 3.66*10**-4;     #Hall coefficient(m^3/coulomb)\n",
      "I = 10**-2;      #current(amp)\n",
      "B = 0.5;      #magnetic field(Wb/m^2)\n",
      "t = 1;        #thickness(mm)\n",
      "\n",
      "#Calculation\n",
      "t = t*10**-3;     #thickness(m)\n",
      "VH = RH*I*B/t;      #Hall voltage(V)\n",
      "VH = VH*10**3;      #Hall voltage(mV)\n",
      "\n",
      "#Result\n",
      "print \"Hall voltage developed is\",VH,\"mV\""
     ],
     "language": "python",
     "metadata": {},
     "outputs": [
      {
       "output_type": "stream",
       "stream": "stdout",
       "text": [
        "Hall voltage developed is 1.83 mV\n"
       ]
      }
     ],
     "prompt_number": 60
    },
    {
     "cell_type": "heading",
     "level": 2,
     "metadata": {},
     "source": [
      "Example number 8.16, Page number 8.47"
     ]
    },
    {
     "cell_type": "code",
     "collapsed": false,
     "input": [
      "#importing modules\n",
      "import math\n",
      "from __future__ import division\n",
      "\n",
      "#Variable declaration\n",
      "Vy = 37;      #voltage(micro-V)\n",
      "t = 1;     #thickness(mm)\n",
      "Bz = 0.5;      #flux density(Wb/m^2)\n",
      "Ix = 20;     #current(mA)\n",
      "\n",
      "#Calculation\n",
      "Vy = Vy*10**-6;     #voltage(V)\n",
      "t = t*10**-3;     #thickness(m)\n",
      "Ix = Ix*10**-3;     #current(A)\n",
      "RH = Vy*t/(Ix*Bz);     #Hall coefficient(C-1 m^3)\n",
      "\n",
      "#Result\n",
      "print \"Hall coefficient of semiconductor is\",RH,\"C-1 m^3\""
     ],
     "language": "python",
     "metadata": {},
     "outputs": [
      {
       "output_type": "stream",
       "stream": "stdout",
       "text": [
        "Hall coefficient of semiconductor is 3.7e-06 C-1 m^3\n"
       ]
      }
     ],
     "prompt_number": 62
    },
    {
     "cell_type": "heading",
     "level": 2,
     "metadata": {},
     "source": [
      "Example number 8.17, Page number 8.48"
     ]
    },
    {
     "cell_type": "code",
     "collapsed": false,
     "input": [
      "#importing modules\n",
      "import math\n",
      "from __future__ import division\n",
      "\n",
      "#Variable declaration\n",
      "RH = -7.35*10**-5;      #Hall coefficient(m^3/C)\n",
      "e = 1.6*10**-19;\n",
      "sigma = 200;      #conductivity(ohm-1 m-1)\n",
      "\n",
      "#Calculation\n",
      "n = -1/(RH*e);       #density(m^3)\n",
      "mew = sigma/(n*e);     #mobility(m^2/Vs)\n",
      "mew = mew*10**3;\n",
      "\n",
      "#Result\n",
      "print \"density of charge carriers is\",round(n/1e+22,3),\"*10^22 m^3\"\n",
      "print \"mobility of charge carriers is\",mew,\"*10^-3 m^2/Vs\""
     ],
     "language": "python",
     "metadata": {},
     "outputs": [
      {
       "output_type": "stream",
       "stream": "stdout",
       "text": [
        "density of charge carriers is 8.503 *10^22 m^3\n",
        "mobility of charge carriers is 14.7 *10^-3 m^2/Vs\n"
       ]
      }
     ],
     "prompt_number": 66
    },
    {
     "cell_type": "heading",
     "level": 2,
     "metadata": {},
     "source": [
      "Example number 8.18, Page number 8.48"
     ]
    },
    {
     "cell_type": "code",
     "collapsed": false,
     "input": [
      "#importing modules\n",
      "import math\n",
      "from __future__ import division\n",
      "\n",
      "#Variable declaration\n",
      "I = 50;     #current(A)\n",
      "B = 1.5;    #magnetic field(T)\n",
      "e = 1.6*10**-19;\n",
      "n = 8.4*10**28;      #free electron concentration(electron/m^3)\n",
      "t = 0.5;     #thickness(cm)\n",
      "\n",
      "#Calculation\n",
      "t = t*10**-2;     #thickness(m)\n",
      "VH = I*B/(n*e*t);     #hall voltage(V)\n",
      "VH = VH*10**6;     #hall voltage(micro-V)\n",
      "VH = math.ceil(VH*10**4)/10**4;   #rounding off to 4 decimals\n",
      "\n",
      "#Result\n",
      "print \"magnitude of Hall voltage is\",VH,\"micro-V\""
     ],
     "language": "python",
     "metadata": {},
     "outputs": [
      {
       "output_type": "stream",
       "stream": "stdout",
       "text": [
        "magnitude of Hall voltage is 1.1161 micro-V\n"
       ]
      }
     ],
     "prompt_number": 69
    },
    {
     "cell_type": "heading",
     "level": 2,
     "metadata": {},
     "source": [
      "Example number 8.19, Page number 8.49"
     ]
    },
    {
     "cell_type": "code",
     "collapsed": false,
     "input": [
      "#importing modules\n",
      "import math\n",
      "from __future__ import division\n",
      "\n",
      "#Variable declaration\n",
      "RH = 3.66*10**-4;      #Hall coefficient(m^3/C)\n",
      "e = 1.6*10**-19;\n",
      "rho_n = 8.93*10**-3;     #resistivity(ohm m)\n",
      "\n",
      "#Calculation\n",
      "n = 1/(RH*e);\n",
      "mew_e = RH/rho_n;\n",
      "mew_e = math.ceil(mew_e*10**3)/10**3;   #rounding off to 3 decimals\n",
      "\n",
      "#Result\n",
      "print \"value of n is\",round(n/1e+22,3),\"*10^22 per m^3\"\n",
      "print \"value of mew_e is\",mew_e,\"m^2/Vs\""
     ],
     "language": "python",
     "metadata": {},
     "outputs": [
      {
       "output_type": "stream",
       "stream": "stdout",
       "text": [
        "value of n is 1.708 *10^22 per m^3\n",
        "value of mew_e is 0.041 m^2/Vs\n"
       ]
      }
     ],
     "prompt_number": 72
    }
   ],
   "metadata": {}
  }
 ]
}