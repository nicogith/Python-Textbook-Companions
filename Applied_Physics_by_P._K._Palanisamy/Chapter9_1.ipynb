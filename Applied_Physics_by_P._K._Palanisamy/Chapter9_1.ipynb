{
 "metadata": {
  "name": "",
  "signature": "sha256:c4f4158f2a13ac09e07abe135472c68abbdd09915f4866e5eedc3ddf9b9f42f5"
 },
 "nbformat": 3,
 "nbformat_minor": 0,
 "worksheets": [
  {
   "cells": [
    {
     "cell_type": "heading",
     "level": 1,
     "metadata": {},
     "source": [
      "9: Superconductivity"
     ]
    },
    {
     "cell_type": "heading",
     "level": 2,
     "metadata": {},
     "source": [
      "Example number 9.1, Page number 9.3"
     ]
    },
    {
     "cell_type": "code",
     "collapsed": false,
     "input": [
      "#importing modules\n",
      "import math\n",
      "from __future__ import division\n",
      "\n",
      "#Variable declaration\n",
      "Tc = 3.7      #critical temperature(K)\n",
      "Hc_0 = 0.0306    #critical field(T)\n",
      "T = 2     #temperature(K)\n",
      "\n",
      "#Calculation\n",
      "Hc_2 = Hc_0*(1-(T/Tc)**2)     #critical field(T)\n",
      "Hc_2 = math.ceil(Hc_2*10**5)/10**5   #rounding off to 5 decimals\n",
      "\n",
      "#Result\n",
      "print \"critical field at 2K is\",Hc_2,\"T\""
     ],
     "language": "python",
     "metadata": {},
     "outputs": [
      {
       "output_type": "stream",
       "stream": "stdout",
       "text": [
        "critical field at 2K is 0.02166 T\n"
       ]
      }
     ],
     "prompt_number": 1
    },
    {
     "cell_type": "heading",
     "level": 2,
     "metadata": {},
     "source": [
      "Example number 9.2, Page number 9.5"
     ]
    },
    {
     "cell_type": "code",
     "collapsed": false,
     "input": [
      "#importing modules\n",
      "import math\n",
      "from __future__ import division\n",
      "\n",
      "#Variable declaration\n",
      "T = 4.2     #temperature(K)\n",
      "d = 1       #diameter(mm)\n",
      "Tc = 7.18    #critical temperature(K)\n",
      "H0 = 6.5*10**4     #critical field(A/m)\n",
      "\n",
      "#Calculation\n",
      "d = d*10**-3     #diameter(m)\n",
      "Hc = H0*(1-((T/Tc)**2))    #critical field at 2K(A/m)\n",
      "ic = math.pi*d*round(Hc);     #critical current(A)\n",
      "ic = math.ceil(ic*10**2)/10**2;   #rounding off to 2 decimals\n",
      "\n",
      "#Result\n",
      "print \"critical current for lead is\",ic,\"A\"\n",
      "print \"answer given in the book differs due to rounding off errors\""
     ],
     "language": "python",
     "metadata": {},
     "outputs": [
      {
       "output_type": "stream",
       "stream": "stdout",
       "text": [
        "critical current for lead is 134.34 A\n",
        "answer given in the book is wrong\n"
       ]
      }
     ],
     "prompt_number": 10
    },
    {
     "cell_type": "heading",
     "level": 2,
     "metadata": {},
     "source": [
      "Example number 9.3, Page number 9.13"
     ]
    },
    {
     "cell_type": "code",
     "collapsed": false,
     "input": [
      "#importing modules\n",
      "import math\n",
      "from __future__ import division\n",
      "\n",
      "#Variable declaration\n",
      "lamda_T = 750    #penetration depth of mercury(Armstrong)\n",
      "T = 3.5    #temperature(K)\n",
      "Tc = 4.12    #critical temperarure(K)\n",
      "\n",
      "#Calculation\n",
      "lamda_0 = lamda_T*((1-(T/Tc)**4))**(1/2)     #penetration depth(Armstrong)\n",
      "\n",
      "#Result\n",
      "print \"penetration depth at 0K is\",int(lamda_0),\"armstrong\""
     ],
     "language": "python",
     "metadata": {},
     "outputs": [
      {
       "output_type": "stream",
       "stream": "stdout",
       "text": [
        "penetration depth at 0K is 519 armstrong\n"
       ]
      }
     ],
     "prompt_number": 3
    },
    {
     "cell_type": "heading",
     "level": 2,
     "metadata": {},
     "source": [
      "Example number 9.4, Page number 9.13"
     ]
    },
    {
     "cell_type": "code",
     "collapsed": false,
     "input": [
      "#importing modules\n",
      "import math\n",
      "from __future__ import division\n",
      "\n",
      "#Variable declaration\n",
      "T1 = 3     #temperature(K)\n",
      "T2 = 7.1    #temperature(K)\n",
      "lamda_T1 = 396    #penetration depth(armstrong)\n",
      "lamda_T2 = 1730    #penetration depth(armstrong)\n",
      "\n",
      "#Calculation\n",
      "A = (((lamda_T2/lamda_T1)**2)*T2**4) - T1**4\n",
      "B = ((lamda_T2/lamda_T1)**2)-1\n",
      "Tc = (A/B)**(1/4)      #critical temperature(K)\n",
      "Tc = math.ceil(Tc*10**4)/10**4;   #rounding off to 4 decimals\n",
      "\n",
      "#Result\n",
      "print \"critical temperature for lead is\",Tc,\"K\""
     ],
     "language": "python",
     "metadata": {},
     "outputs": [
      {
       "output_type": "stream",
       "stream": "stdout",
       "text": [
        "critical temperature for lead is 7.1932 K\n"
       ]
      }
     ],
     "prompt_number": 4
    }
   ],
   "metadata": {}
  }
 ]
}