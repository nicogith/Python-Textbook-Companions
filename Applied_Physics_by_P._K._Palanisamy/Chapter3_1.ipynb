{
 "metadata": {
  "name": "",
  "signature": "sha256:50d61ee8fa972cdf457beff8302930b51b8d1018696b3dbcc148db2d3f471c34"
 },
 "nbformat": 3,
 "nbformat_minor": 0,
 "worksheets": [
  {
   "cells": [
    {
     "cell_type": "heading",
     "level": 1,
     "metadata": {},
     "source": [
      "3: Principles of Quantum Mechanics"
     ]
    },
    {
     "cell_type": "heading",
     "level": 2,
     "metadata": {},
     "source": [
      "Example number 3.1, Page number 3.12"
     ]
    },
    {
     "cell_type": "code",
     "collapsed": false,
     "input": [
      "#importing modules\n",
      "import math\n",
      "from __future__ import division\n",
      "\n",
      "#Variable declaration\n",
      "c = 3*10**8     #velocity of light(m/sec)\n",
      "m = 1.67*10**-27     #mass of proton(kg)\n",
      "h = 6.626*10**-34    #planck's constant\n",
      "\n",
      "#Calculation\n",
      "v = (1/10)*c      #velocity of proton(m/sec)\n",
      "lamda = h/(m*v)     #de Broglie wavelength(m)\n",
      "\n",
      "#Result\n",
      "print \"de Broglie wavelength of proton is\",round(lamda/1e-14,3),\"*10^-14 m\""
     ],
     "language": "python",
     "metadata": {},
     "outputs": [
      {
       "output_type": "stream",
       "stream": "stdout",
       "text": [
        "de Broglie wavelength of proton is 1.323 *10^-14 m\n"
       ]
      }
     ],
     "prompt_number": 2
    },
    {
     "cell_type": "heading",
     "level": 2,
     "metadata": {},
     "source": [
      "Example number 3.2, Page number 3.12"
     ]
    },
    {
     "cell_type": "code",
     "collapsed": false,
     "input": [
      "#importing modules\n",
      "import math\n",
      "from __future__ import division\n",
      "\n",
      "#Variable declaration\n",
      "V = 400      #potential(V)\n",
      "\n",
      "#Calculation\n",
      "lamda = 12.26/math.sqrt(V)      #de Broglie wavelength(angstrom)\n",
      "\n",
      "#Result\n",
      "print \"de Broglie wavelength of electron is\",lamda,\"angstrom\""
     ],
     "language": "python",
     "metadata": {},
     "outputs": [
      {
       "output_type": "stream",
       "stream": "stdout",
       "text": [
        "de Broglie wavelength of electron is 0.613 angstrom\n"
       ]
      }
     ],
     "prompt_number": 3
    },
    {
     "cell_type": "heading",
     "level": 2,
     "metadata": {},
     "source": [
      "Example number 3.3, Page number 3.13"
     ]
    },
    {
     "cell_type": "code",
     "collapsed": false,
     "input": [
      "#importing modules\n",
      "import math\n",
      "from __future__ import division\n",
      "\n",
      "#Variable declaration\n",
      "m = 1.674*10**-27     #mass of neutron(kg)\n",
      "h = 6.626*10**-34     #planck's constant\n",
      "e = 1.6*10**-19\n",
      "KE = 0.025     #kinetic energy(eV)\n",
      "\n",
      "#Calculation\n",
      "E = KE*e     #kinetic energy(J)\n",
      "lamda = h/math.sqrt(2*m*E)      #de Broglie wavelength(m)\n",
      "lamda_nm = lamda*10**9      #de Broglie wavelength(nm)\n",
      "lamda_nm = math.ceil(lamda_nm*10**4)/10**4   #rounding off to 4 decimals\n",
      "\n",
      "#Result\n",
      "print \"de Broglie wavelength is\",lamda_nm,\"nm\" "
     ],
     "language": "python",
     "metadata": {},
     "outputs": [
      {
       "output_type": "stream",
       "stream": "stdout",
       "text": [
        "de Broglie wavelength is 0.1811 nm\n"
       ]
      }
     ],
     "prompt_number": 4
    },
    {
     "cell_type": "heading",
     "level": 2,
     "metadata": {},
     "source": [
      "Example number 3.4, Page number 3.14"
     ]
    },
    {
     "cell_type": "code",
     "collapsed": false,
     "input": [
      "#importing modules\n",
      "import math\n",
      "from __future__ import division\n",
      "\n",
      "#Variable declaration\n",
      "V = 1600      #potential(V)\n",
      "\n",
      "#Calculation\n",
      "lamda = 12.26/math.sqrt(V)      #de Broglie wavelength(angstrom)\n",
      "\n",
      "#Result\n",
      "print \"de Broglie wavelength of electron is\",lamda,\"angstrom\""
     ],
     "language": "python",
     "metadata": {},
     "outputs": [
      {
       "output_type": "stream",
       "stream": "stdout",
       "text": [
        "de Broglie wavelength of electron is 0.3065 angstrom\n"
       ]
      }
     ],
     "prompt_number": 5
    },
    {
     "cell_type": "heading",
     "level": 2,
     "metadata": {},
     "source": [
      "Example number 3.5, Page number 3.18"
     ]
    },
    {
     "cell_type": "code",
     "collapsed": false,
     "input": [
      "#importing modules\n",
      "import math\n",
      "from __future__ import division\n",
      "\n",
      "#Variable declaration\n",
      "delta_x = 0.2      #electron distance(angstrom)\n",
      "h = 6.626*10**-34    #planck's constant\n",
      "\n",
      "#Calculation\n",
      "delta_x = delta_x*10**-10      #electron distance(m)\n",
      "delta_p = h/(2*math.pi*delta_x)      #uncertainity in momentum(kg.m/s)\n",
      "\n",
      "#Result\n",
      "print \"uncertainity in momentum is\",round(delta_p/1e-24,3),\"*10^-24 kg m/s\""
     ],
     "language": "python",
     "metadata": {},
     "outputs": [
      {
       "output_type": "stream",
       "stream": "stdout",
       "text": [
        " uncertainity in momentum is 5.273 *10^-24 kg m/s\n"
       ]
      }
     ],
     "prompt_number": 8
    },
    {
     "cell_type": "heading",
     "level": 2,
     "metadata": {},
     "source": [
      "Example number 3.6, Page number 3.27"
     ]
    },
    {
     "cell_type": "code",
     "collapsed": false,
     "input": [
      "#importing modules\n",
      "import math\n",
      "from __future__ import division\n",
      "\n",
      "#Variable declaration\n",
      "n1 = 1\n",
      "n2 = 1\n",
      "n3 = 1      #for lowest energy\n",
      "e = 1.6*10**-19\n",
      "h = 6.62*10**-34      #planck's constant\n",
      "m = 9.1*10**-31      #mass of electron(kg)\n",
      "L = 0.1     #side of box(nm)\n",
      "\n",
      "#Calculation\n",
      "L = L*10**-9    #side of box(m)\n",
      "E1 = h**2*(n1**2+n2**2+n3**2)/(8*m*L**2)      #lowest energy(J)\n",
      "E1 = E1/e      #lowest energy(eV)\n",
      "E1 = math.ceil(E1*10)/10    #rounding off to 1 decimal\n",
      "\n",
      "#Result\n",
      "print \"lowest energy of electron is\",E1,\"eV\""
     ],
     "language": "python",
     "metadata": {},
     "outputs": [
      {
       "output_type": "stream",
       "stream": "stdout",
       "text": [
        "lowest energy of electron is 112.9 eV\n"
       ]
      }
     ],
     "prompt_number": 9
    },
    {
     "cell_type": "heading",
     "level": 2,
     "metadata": {},
     "source": [
      "Example number 3.7, Page number 3.27"
     ]
    },
    {
     "cell_type": "code",
     "collapsed": false,
     "input": [
      "#importing modules\n",
      "import math\n",
      "from __future__ import division\n",
      "\n",
      "#Variable declaration\n",
      "n1 = 1\n",
      "n2 = 1\n",
      "n3 = 2      #for level next to the lowest\n",
      "e = 1.6*10**-19\n",
      "h = 6.62*10**-34      #planck's constant\n",
      "m = 9.1*10**-31       #mass of electron(kg)\n",
      "L = 0.1     #side of box(nm)\n",
      "\n",
      "#Calculation\n",
      "L = L*10**-9    #side of box(m)\n",
      "E1 = h**2*(n1**2+n2**2+n3**2)/(8*m*L**2)      #lowest energy(J)\n",
      "E1 = E1/e      #lowest energy(eV)\n",
      "E1 = math.ceil(E1*10**2)/10**2    #rounding off to 2 decimals\n",
      "\n",
      "#Result\n",
      "print \"energy of electron is\",E1,\"eV\""
     ],
     "language": "python",
     "metadata": {},
     "outputs": [
      {
       "output_type": "stream",
       "stream": "stdout",
       "text": [
        "energy of electron is 225.75 eV\n"
       ]
      }
     ],
     "prompt_number": 10
    },
    {
     "cell_type": "heading",
     "level": 2,
     "metadata": {},
     "source": [
      "Example number 3.8, Page number 3.28"
     ]
    },
    {
     "cell_type": "code",
     "collapsed": false,
     "input": [
      "#importing modules\n",
      "import math\n",
      "from __future__ import division\n",
      "\n",
      "#Variable declaration\n",
      "m = 9.1*10**-31     #mass of electron(kg)\n",
      "h = 6.626*10**-34    #planck's constant\n",
      "e = 1.6*10**-19\n",
      "E = 2000     #energy(eV)\n",
      "\n",
      "#Calculation\n",
      "E = E*e      #energy(J)\n",
      "lamda = h/math.sqrt(2*m*E)      #wavelength(m)\n",
      "lamda_nm = lamda*10**9      #velength(nm)\n",
      "lamda_nm = math.ceil(lamda_nm*10**4)/10**4    #rounding off to 4 decimals\n",
      "\n",
      "#Result\n",
      "print \"wavelength is\",lamda_nm,\"nm\""
     ],
     "language": "python",
     "metadata": {},
     "outputs": [
      {
       "output_type": "stream",
       "stream": "stdout",
       "text": [
        "wavelength is 0.0275 nm\n"
       ]
      }
     ],
     "prompt_number": 11
    },
    {
     "cell_type": "heading",
     "level": 2,
     "metadata": {},
     "source": [
      "Example number 3.9, Page number 3.28"
     ]
    },
    {
     "cell_type": "code",
     "collapsed": false,
     "input": [
      "#importing modules\n",
      "import math\n",
      "from __future__ import division\n",
      "\n",
      "#Variable declaration\n",
      "n = 1     #for minimum energy\n",
      "h = 6.626*10**-34      #planck's constant(J sec)\n",
      "m = 9.91*10**-31      #mass of electron(kg)\n",
      "L = 4*10**-10     #side of box(m)\n",
      "\n",
      "#Calculation\n",
      "E1 = ((h**2)*(n**2))/(8*m*(L**2))      #lowest energy(J)\n",
      "E1 = E1*10**18;\n",
      "E1 = math.ceil(E1*10**4)/10**4    #rounding off to 4 decimals\n",
      "\n",
      "#Result\n",
      "print \"energy of electron is\",E1,\"*10**-18 J\""
     ],
     "language": "python",
     "metadata": {},
     "outputs": [
      {
       "output_type": "stream",
       "stream": "stdout",
       "text": [
        "energy of electron is 0.3462 *10**-18 J\n"
       ]
      }
     ],
     "prompt_number": 12
    },
    {
     "cell_type": "heading",
     "level": 2,
     "metadata": {},
     "source": [
      "Example number 3.10, Page number 3.29"
     ]
    },
    {
     "cell_type": "code",
     "collapsed": false,
     "input": [
      "#importing modules\n",
      "import math\n",
      "from __future__ import division\n",
      "\n",
      "#Variable declaration\n",
      "n1 = 1     #for ground state\n",
      "n2 = 2     #for 1st excited state\n",
      "n3 = 3     #for 2nd excited state\n",
      "h = 6.626*10**-34      #planck's constant(J sec)\n",
      "m = 9.1*10**-31      #mass of electron(kg)\n",
      "L = 1*10**-10       #width(m)\n",
      "\n",
      "#Calculation\n",
      "E1 = h**2*n1**2/(8*m*L**2)      #energy in ground state(J)\n",
      "E2 = n2**2*E1       #energy in 1st excited state(J)\n",
      "E3 = n3**2*E1       #energy in 2nd excited state(J)\n",
      "\n",
      "#Result\n",
      "print \"energy in ground state is\",round(E1/1e-18,3),\"*10^-18 J\"\n",
      "print \"energy in 1st excited state is\",round(E2/1e-17,3),\"*10^-17 J\"\n",
      "print \"energy in 2nd excited state is\",round(E3/1e-17,3),\"*10^-17 J\""
     ],
     "language": "python",
     "metadata": {},
     "outputs": [
      {
       "output_type": "stream",
       "stream": "stdout",
       "text": [
        "energy in ground state is 6.031 *10^-18 J\n",
        "energy in 1st excited state is 2.412 *10^-17 J\n",
        "energy in 2nd excited state is 5.428 *10^-17 J\n"
       ]
      }
     ],
     "prompt_number": 18
    },
    {
     "cell_type": "heading",
     "level": 2,
     "metadata": {},
     "source": [
      "Example number 3.11, Page number 3.30"
     ]
    },
    {
     "cell_type": "code",
     "collapsed": false,
     "input": [
      "#importing modules\n",
      "import math\n",
      "from __future__ import division\n",
      "\n",
      "#Variable declaration\n",
      "h = 6.626*10**-34      #planck's constant(J sec)\n",
      "m = 9.1*10**-31      #mass of electron(kg)\n",
      "e = 1.6*10**-19\n",
      "lamda = 1.66*10**-10     #wavelength(m)\n",
      "\n",
      "#Calculation\n",
      "v = h/(m*lamda)      #velocity of electron(m/sec)\n",
      "v_km = v*10**-3      #velocity of electron(km/sec)\n",
      "KE = (1/2)*m*v**2    #kinetic energy(J)\n",
      "KE_eV = KE/e        #kinetic energy(eV)\n",
      "KE_eV = math.ceil(KE_eV*10**3)/10**3    #rounding off to 3 decimals\n",
      "\n",
      "#Result\n",
      "print \"velocity of electron is\",int(v_km),\"km/sec\"\n",
      "print \"kinetic energy of electron is\",KE_eV,\"eV\""
     ],
     "language": "python",
     "metadata": {},
     "outputs": [
      {
       "output_type": "stream",
       "stream": "stdout",
       "text": [
        "velocity of electron is 4386 km/sec\n",
        "kinetic energy of electron is 54.714 eV\n"
       ]
      }
     ],
     "prompt_number": 19
    },
    {
     "cell_type": "heading",
     "level": 2,
     "metadata": {},
     "source": [
      "Example number 3.12, Page number 3.31"
     ]
    },
    {
     "cell_type": "code",
     "collapsed": false,
     "input": [
      "#importing modules\n",
      "import math\n",
      "from __future__ import division\n",
      "\n",
      "#Variable declaration\n",
      "V = 15      #potential(kV)\n",
      "\n",
      "#Calculation\n",
      "V = V*10**3     #potential(V)\n",
      "lamda = 12.26/math.sqrt(V)      #de Broglie wavelength(angstrom)\n",
      "lamda = math.ceil(lamda*100)/100    #rounding off to 2 decimals\n",
      "\n",
      "#Result\n",
      "print \"wavelength of electron waves is\",lamda,\"angstrom\""
     ],
     "language": "python",
     "metadata": {},
     "outputs": [
      {
       "output_type": "stream",
       "stream": "stdout",
       "text": [
        "wavelength of electron waves is 0.11 angstrom\n"
       ]
      }
     ],
     "prompt_number": 20
    },
    {
     "cell_type": "heading",
     "level": 2,
     "metadata": {},
     "source": [
      "Example number 3.13, Page number 3.31"
     ]
    },
    {
     "cell_type": "code",
     "collapsed": false,
     "input": [
      "#importing modules\n",
      "import math\n",
      "from __future__ import division\n",
      "\n",
      "#Variable declaration\n",
      "V = 344      #potential(V)\n",
      "n = 1     #for 1st reflection maximum\n",
      "theta = 60     #glancing angle(degrees)\n",
      "\n",
      "#Calculation\n",
      "lamda = 12.26/math.sqrt(V)      #de Broglie wavelength(angstrom)\n",
      "lamda_m = lamda*10**-10     #de Broglie wavelength(m)\n",
      "theta = theta*math.pi/180     ##glancing angle(radians)\n",
      "d = n*lamda_m/(2*math.sin(theta))      #interatomic spacing(m)\n",
      "d = d*10**10       #interatomic spacing(angstrom)\n",
      "d = math.ceil(d*10**5)/10**5    #rounding off to 5 decimals\n",
      "\n",
      "#Result\n",
      "print \"interatomic spacing of crystal is\",d,\"angstrom\""
     ],
     "language": "python",
     "metadata": {},
     "outputs": [
      {
       "output_type": "stream",
       "stream": "stdout",
       "text": [
        "interatomic spacing of crystal is 0.38164 angstrom\n"
       ]
      }
     ],
     "prompt_number": 21
    }
   ],
   "metadata": {}
  }
 ]
}