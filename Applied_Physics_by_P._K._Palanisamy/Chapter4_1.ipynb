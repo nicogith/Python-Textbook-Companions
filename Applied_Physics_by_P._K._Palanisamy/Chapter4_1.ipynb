{
 "metadata": {
  "name": "",
  "signature": "sha256:7ccac901d3d7a8c9dde630e169f5e7e52a039a9eb5d4b37586cb97d5a7fe1fca"
 },
 "nbformat": 3,
 "nbformat_minor": 0,
 "worksheets": [
  {
   "cells": [
    {
     "cell_type": "heading",
     "level": 1,
     "metadata": {},
     "source": [
      "4: Electron Theory of Metals"
     ]
    },
    {
     "cell_type": "heading",
     "level": 2,
     "metadata": {},
     "source": [
      "Example number 4.1, Page number 4.5"
     ]
    },
    {
     "cell_type": "code",
     "collapsed": false,
     "input": [
      "#importing modules\n",
      "import math\n",
      "from __future__ import division\n",
      "\n",
      "#Variable declaration\n",
      "rho_s = 10.5*10**3    #density of silver(kg/m^3)\n",
      "NA = 6.02*10**26     #avagadro number(per k-mol)\n",
      "MA = 107.9     #atomic weight of silver\n",
      "sigma = 6.8*10**7;     #conductivity of silver(ohm-1 m-1)\n",
      "e = 1.6*10**-19\n",
      "\n",
      "#Calculation\n",
      "n = rho_s*NA/MA      #molar volume of silver\n",
      "mew = sigma/(n*e)     #mobility of electrons(m^2/Vs)\n",
      "mew = mew*10**2\n",
      "mew = math.ceil(mew*10**4)/10**4;   #rounding off to 4 decimals\n",
      "\n",
      "#Result\n",
      "print \"density of electrons in silver is\",round(n/1e28,2),\"*10^28\"\n",
      "print \"mobility of electrons is\",mew,\"*10**-2 m**2/Vs\""
     ],
     "language": "python",
     "metadata": {},
     "outputs": [
      {
       "output_type": "stream",
       "stream": "stdout",
       "text": [
        "density of electrons in silver is 5.86 *10^28\n",
        "mobility of electrons is 0.7255 *10**-2 m**2/Vs\n"
       ]
      }
     ],
     "prompt_number": 7
    },
    {
     "cell_type": "heading",
     "level": 2,
     "metadata": {},
     "source": [
      "Example number 4.2, Page number 4.6"
     ]
    },
    {
     "cell_type": "code",
     "collapsed": false,
     "input": [
      "#importing modules\n",
      "import math\n",
      "from __future__ import division\n",
      "\n",
      "#Variable declaration\n",
      "d = 8.92*10**3      #density(kg/m^3)\n",
      "e = 1.6*10**-19\n",
      "m = 9.1*10**-31      #mass of electron(kg)\n",
      "N = 6.02*10**26      #avagadro's number(per k-mol)\n",
      "AW = 63.5     #atomic weight\n",
      "rho = 1.73*10**-8     #resistivity of copper, ohm-m\n",
      "\n",
      "#Calculation\n",
      "n = d*N/AW       #number of cu atoms(per m^3)\n",
      "mew = 1/(rho*n*e)      #mobility of electrons(m/Vs)\n",
      "mew = mew*10**2\n",
      "mew = math.ceil(mew*10**4)/10**4;   #rounding off to 4 decimals\n",
      "tow = m/(n*e**2*rho)    #relaxation time(s)\n",
      "\n",
      "#Result\n",
      "print \"mobility of electrons is\",round(mew,3),\"*10**-2 m/Vs\"\n",
      "print \"relaxation time is\",round(tow/1e-14,3),\"*10^-14 sec\"\n"
     ],
     "language": "python",
     "metadata": {},
     "outputs": [
      {
       "output_type": "stream",
       "stream": "stdout",
       "text": [
        "mobility of electrons is 0.427 *10**-2 m/Vs\n",
        "relaxation time is 2.43 *10^-14 sec\n"
       ]
      }
     ],
     "prompt_number": 5
    },
    {
     "cell_type": "heading",
     "level": 2,
     "metadata": {},
     "source": [
      "Example number 4.3, Page number 4.7"
     ]
    },
    {
     "cell_type": "code",
     "collapsed": false,
     "input": [
      "#importing modules\n",
      "import math\n",
      "from __future__ import division\n",
      "\n",
      "#Variable declaration\n",
      "rho = 1.54*10**-8      #resistivity(ohm-m)\n",
      "n = 5.8*10**28      #conduction electrons(per m^3)\n",
      "m = 9.108*10**-31    #mass of electron(kg)\n",
      "e = 1.602*10**-19\n",
      "\n",
      "#Calculation\n",
      "tow = m/(n*(e**2)*rho)    #relaxation time(sec)\n",
      "\n",
      "#Result\n",
      "print \"relaxation time of conduction electrons is\",round(tow/1e-14,2),\"*10^-14 sec\" "
     ],
     "language": "python",
     "metadata": {},
     "outputs": [
      {
       "output_type": "stream",
       "stream": "stdout",
       "text": [
        "relaxation time of conduction electrons is 3.97 *10^-14 sec\n"
       ]
      }
     ],
     "prompt_number": 8
    },
    {
     "cell_type": "heading",
     "level": 2,
     "metadata": {},
     "source": [
      "Example number 4.4, Page number 4.8"
     ]
    },
    {
     "cell_type": "code",
     "collapsed": false,
     "input": [
      "#importing modules\n",
      "import math\n",
      "from __future__ import division\n",
      "\n",
      "#Variable declaration\n",
      "R = 0.06      #resistance(ohm)\n",
      "D = 5      #length of Al wire(m)\n",
      "e = 1.602*10**-19\n",
      "rho = 2.7*10**-8     #resistivity of Al(ohm-m)\n",
      "MA = 26.98     #atomic weight\n",
      "NA = 6.025*10**26     #avagadro number(k/mol)\n",
      "rho_s = 2.7*10**3     #density(kg/m^3)\n",
      "I = 15     #current(A)\n",
      "\n",
      "#Calculation\n",
      "n = 3*rho_s*NA/MA     #free electron concentration(electrons/m^3)\n",
      "mew = 1/(n*e*rho)     #mobility(m/Vs)\n",
      "E = I*R/D      #electric field(V/m)\n",
      "vd = mew*E     #drift velocity(m/s)\n",
      "vd = vd*10**3\n",
      "mew = mew*10**3\n",
      "mew = math.ceil(mew*10**4)/10**4;   #rounding off to 4 decimals\n",
      "vd = math.ceil(vd*10**4)/10**4;   #rounding off to 4 decimals\n",
      "\n",
      "#Result\n",
      "print \"free electron concentration is\",round(n/1e29,4),\"*10^29 electrons/m^2\"\n",
      "print \"mobility is\",round(mew,3),\"*10^-3 m/Vs\"\n",
      "print \"drift velocity is\",round(vd,2),\"*10^-3 m/s\""
     ],
     "language": "python",
     "metadata": {},
     "outputs": [
      {
       "output_type": "stream",
       "stream": "stdout",
       "text": [
        "free electron concentration is 1.8088 *10^29 electrons/m^2\n",
        "mobility is 1.278 *10^-3 m/Vs\n",
        "drift velocity is 0.23 *10^-3 m/s\n"
       ]
      }
     ],
     "prompt_number": 17
    },
    {
     "cell_type": "heading",
     "level": 2,
     "metadata": {},
     "source": [
      "Example number 4.5, Page number 4.13"
     ]
    },
    {
     "cell_type": "code",
     "collapsed": false,
     "input": [
      "#importing modules\n",
      "import math\n",
      "from __future__ import division\n",
      "\n",
      "#Variable declaration\n",
      "n1 = 1\n",
      "n2 = 1\n",
      "n3 = 1      #for lowest energy\n",
      "h = 6.62*10**-34     #planck's constant(Js)\n",
      "e = 1.6*10**-19\n",
      "m = 9.1*10**-31      #mass of electron(kg)\n",
      "L = 0.1     #side of box(nm)\n",
      "\n",
      "#Calculation\n",
      "L = L*10**-9    #side of box(m)\n",
      "E1 = (h**2)*(n1**2+n2**2+n3**2)/(8*m*L**2)      #lowest energy(J)\n",
      "E1 = E1/e        #lowest energy(eV)\n",
      "E1 = math.ceil(E1*10)/10   #rounding off to 1 decimal\n",
      "\n",
      "#Result\n",
      "print \"lowest energy of electron is\",E1,\"eV\""
     ],
     "language": "python",
     "metadata": {},
     "outputs": [
      {
       "output_type": "stream",
       "stream": "stdout",
       "text": [
        "lowest energy of electron is 112.9 eV\n"
       ]
      }
     ],
     "prompt_number": 18
    },
    {
     "cell_type": "heading",
     "level": 2,
     "metadata": {},
     "source": [
      "Example number 4.6, Page number 4.14"
     ]
    },
    {
     "cell_type": "code",
     "collapsed": false,
     "input": [
      "#importing modules\n",
      "import math\n",
      "\n",
      "#Calculation\n",
      "#Fermi function F(E) = 1/(1+exp((E-Ef)/(kT)))\n",
      "#given E-Ef = kT. therefore F(E) = 1/(1+exp(1))\n",
      "F_E = 1/(1+math.exp(1))\n",
      "F_E = math.ceil(F_E*10**3)/10**3;   #rounding off to 3 decimals\n",
      "\n",
      "#Result\n",
      "print \"fermi function is\",F_E"
     ],
     "language": "python",
     "metadata": {},
     "outputs": [
      {
       "output_type": "stream",
       "stream": "stdout",
       "text": [
        "fermi function is 0.269\n"
       ]
      }
     ],
     "prompt_number": 19
    },
    {
     "cell_type": "heading",
     "level": 2,
     "metadata": {},
     "source": [
      "Example number 4.7, Page number 4.14"
     ]
    },
    {
     "cell_type": "code",
     "collapsed": false,
     "input": [
      "#importing modules\n",
      "import math\n",
      "from __future__ import division\n",
      "\n",
      "#Variable declaration\n",
      "F_E = 10      #probability in percent\n",
      "k = 1.38*10**-23\n",
      "EF = 5.5      #fermi energy(eV)\n",
      "\n",
      "#Calculation\n",
      "E = EF+(EF/100)     #energy(eV)\n",
      "X = E-EF     #E-EF(eV)\n",
      "X = X*e      #E-EF(J)\n",
      "T = X/(k*math.log(F_E-1))      #temperature(K)\n",
      "T = math.ceil(T*10**2)/10**2   #rounding off to 2 decimals\n",
      "\n",
      "#Result\n",
      "print \"temperature is\",round(T,1),\"K\""
     ],
     "language": "python",
     "metadata": {},
     "outputs": [
      {
       "output_type": "stream",
       "stream": "stdout",
       "text": [
        "temperature is 290.2 K\n"
       ]
      }
     ],
     "prompt_number": 21
    },
    {
     "cell_type": "heading",
     "level": 2,
     "metadata": {},
     "source": [
      "Example number 4.8, Page number 4.17"
     ]
    },
    {
     "cell_type": "code",
     "collapsed": false,
     "input": [
      "#importing modules\n",
      "import math\n",
      "from __future__ import division\n",
      "\n",
      "#Variable declaration\n",
      "F_E = 0.01      #probability in percent\n",
      "k = 1.38*10**-23\n",
      "e = 1.6*10**-19\n",
      "#let E-EF be X\n",
      "X = 0.5      #E-EF(eV)\n",
      "\n",
      "#Calculation\n",
      "kT = X/(2.303*math.log10((1-F_E)*100))    #value of kT(eV)\n",
      "T = kT*e/k        #temperature(K)\n",
      "T = math.ceil(T*10)/10   #rounding off to 1 decimal\n",
      "\n",
      "#Result\n",
      "print \"temperature is\",T,\"K\"\n",
      "print \"answer given in the book is wrong by a decimal point\""
     ],
     "language": "python",
     "metadata": {},
     "outputs": [
      {
       "output_type": "stream",
       "stream": "stdout",
       "text": [
        "temperature is 1261.4 K\n",
        "answer given in the book is wrong by a decimal point\n"
       ]
      }
     ],
     "prompt_number": 23
    }
   ],
   "metadata": {}
  }
 ]
}