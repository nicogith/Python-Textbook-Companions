{
 "metadata": {
  "name": ""
 },
 "nbformat": 3,
 "nbformat_minor": 0,
 "worksheets": [
  {
   "cells": [
    {
     "cell_type": "heading",
     "level": 1,
     "metadata": {},
     "source": [
      "Chapter 8 - 555 Timer "
     ]
    },
    {
     "cell_type": "heading",
     "level": 2,
     "metadata": {},
     "source": [
      "Example 8.1 Page No.315"
     ]
    },
    {
     "cell_type": "code",
     "collapsed": false,
     "input": [
      "# Given data \n",
      "\n",
      "R = 100*10**3\n",
      "T = 100*10**-3\n",
      "\n",
      "# Solution \n",
      "\n",
      "C = T/(1.1*R)\n",
      "\n",
      "print \"The value of C =\",round(C*10**6,1),\"uF\"\n"
     ],
     "language": "python",
     "metadata": {},
     "outputs": [
      {
       "output_type": "stream",
       "stream": "stdout",
       "text": [
        "The value of C = 0.9 uF\n"
       ]
      }
     ],
     "prompt_number": 1
    },
    {
     "cell_type": "heading",
     "level": 2,
     "metadata": {},
     "source": [
      "Example 8.2 Page No.322"
     ]
    },
    {
     "cell_type": "code",
     "collapsed": false,
     "input": [
      "# Given Data\n",
      "\n",
      "Ra = 6.8*10**3\n",
      "Rb = 3.3*10**3\n",
      "C = 0.1*10**-6\n",
      "\n",
      "# Solution \n",
      "# Solution of part a\n",
      "\n",
      "tHIGH = round(0.69*(Ra + Rb)*C,5)*10**3\n",
      "\n",
      "# Solution pf part b\n",
      "\n",
      "tLOW = round(0.69*(Rb)*C,5)*10**3\n",
      "\n",
      "# Solution of part c\n",
      "\n",
      "f = int(1.45/((Ra + 2*Rb)*C))*10**-3\n",
      "\n",
      "# Solution for part d\n",
      "\n",
      "D = round(Rb/(Ra + 2*Rb),2)\n",
      "\n",
      "\n",
      "# Displaying the answers \n",
      "\n",
      "print \"The value of tHIGH        =\",tHIGH,\"ms\"\n",
      "print \"The value of tLOW         =\",tLOW,\"ms\"\n",
      "print \"The value of frequency f  =\",f,\"kHz\"\n",
      "print \"The value of Duty cycle D =\",D,\"or\",D*100,\"%\"  \n"
     ],
     "language": "python",
     "metadata": {},
     "outputs": [
      {
       "output_type": "stream",
       "stream": "stdout",
       "text": [
        "The value of tHIGH        = 0.7 ms\n",
        "The value of tLOW         = 0.23 ms\n",
        "The value of frequency f  = 1.082 kHz\n",
        "The value of Duty cycle D = 0.25 or 25.0 %\n"
       ]
      }
     ],
     "prompt_number": 2
    },
    {
     "cell_type": "code",
     "collapsed": false,
     "input": [],
     "language": "python",
     "metadata": {},
     "outputs": []
    }
   ],
   "metadata": {}
  }
 ]
}