{
 "metadata": {
  "name": ""
 },
 "nbformat": 3,
 "nbformat_minor": 0,
 "worksheets": [
  {
   "cells": [
    {
     "cell_type": "heading",
     "level": 1,
     "metadata": {},
     "source": [
      "Chapter 5 : Comparators and Waveform generators"
     ]
    },
    {
     "cell_type": "heading",
     "level": 2,
     "metadata": {},
     "source": [
      "Example 5.1 Page No.212"
     ]
    },
    {
     "cell_type": "code",
     "collapsed": false,
     "input": [
      "%matplotlib inline\n",
      "import matplotlib.pylab as plt\n",
      "import numpy as np\n",
      "# Given Data \n",
      "\n",
      "Vz1 = 9.0\n",
      "Vz2 = 9.0\n",
      "\n",
      "x  = np.array([-1, -1, -1, -1, -1, 0, 1, 1, 1, 1, 1]) \n",
      "plt.plot(9.7*x)\n",
      "plt.xlabel('Time')\n",
      "plt.ylabel('Voltage')\n",
      "plt.show()\n",
      "\n",
      "\n"
     ],
     "language": "python",
     "metadata": {},
     "outputs": [
      {
       "metadata": {},
       "output_type": "display_data",
       "png": "[encoded data removed]",
       "text": [
        "<matplotlib.figure.Figure at 0xb659de2c>"
       ]
      }
     ],
     "prompt_number": 1
    },
    {
     "cell_type": "heading",
     "level": 2,
     "metadata": {},
     "source": [
      "Example 5.2 Page No.215"
     ]
    },
    {
     "cell_type": "code",
     "collapsed": false,
     "input": [
      "# Given data \n",
      "\n",
      "R2 = 100.0\n",
      "R1 = 50.0*10**3\n",
      "Vref = 0\n",
      "vi = 1\n",
      "Vsat = 14.0\n",
      "\n",
      "# Solution \n",
      "\n",
      "VUT = (R2*Vsat)/(R1+R2)\n",
      "VLT = (R2*-Vsat)/(R1+R2)\n",
      "\n",
      "# Displaying the values\n",
      "\n",
      "print \"The value of Upper threshold voltage =  \",int(round(VUT*10**3,0)),\"mV\"\n",
      "print \"The value of Lower threshold voltage = \",int(round(VLT*10**3,0)),\"mV\"\n"
     ],
     "language": "python",
     "metadata": {},
     "outputs": [
      {
       "output_type": "stream",
       "stream": "stdout",
       "text": [
        "The value of Upper threshold voltage =   28 mV\n",
        "The value of Lower threshold voltage =  -28 mV\n"
       ]
      }
     ],
     "prompt_number": 1
    },
    {
     "cell_type": "heading",
     "level": 2,
     "metadata": {},
     "source": [
      "Example 5.3 Page No.216"
     ]
    },
    {
     "cell_type": "code",
     "collapsed": false,
     "input": [
      "import numpy as np \n",
      "# Given data\n",
      "\n",
      "VUT = 0\n",
      "VH = 0.2\n",
      "f = 10.0**3\n",
      "# Solution \n",
      "\n",
      "VLT = VUT - VH\n",
      "theta = round(np.arcsin(VH/2),1)\n",
      "T = 1/f\n",
      "Ttheta = theta/(2*np.pi*f) \n",
      "T1 = (T/2) + Ttheta\n",
      "T2 = (T/2) - Ttheta \n",
      "\n",
      "# Displayig the values \n",
      "\n",
      "print \"The value of Lower threshold voltage = \",VLT,\"V\"\n",
      "print \"The value of angle theta             = \",theta,\"Radian\"\n",
      "print \"The value of Timeperiode             = \",round(Ttheta*10**3,3),\"ms\"\n",
      "print \"The value of T1                      = \",round(T1*10**3,3),\"ms\"\n",
      "print \"The value of T2                      = \",round(T2*10**3,3),\"ms\"\n",
      "\n"
     ],
     "language": "python",
     "metadata": {},
     "outputs": [
      {
       "output_type": "stream",
       "stream": "stdout",
       "text": [
        "The value of Lower threshold voltage =  -0.2 V\n",
        "The value of angle theta             =  0.1 Radian\n",
        "The value of Timeperiode             =  0.016 ms\n",
        "The value of T1                      =  0.516 ms\n",
        "The value of T2                      =  0.484 ms\n"
       ]
      }
     ],
     "prompt_number": 2
    },
    {
     "cell_type": "heading",
     "level": 2,
     "metadata": {},
     "source": [
      "Example 5.4 Page No.225 "
     ]
    },
    {
     "cell_type": "code",
     "collapsed": false,
     "input": [
      "import math\n",
      "# Given data \n",
      "\n",
      "f = 100\n",
      "C = 0.1*10**-6\n",
      "\n",
      "# Solution \n",
      "\n",
      "R = 1/(math.sqrt(6)*2*math.pi*(10**-7)*100)\n",
      "R1 = 10*R\n",
      "Rf = 29*R1\n",
      "\n",
      "# Displaying the solutions \n",
      "\n",
      "print \"The value of R  =\",round(R*10**-3,3),\"Kilo Ohms\"\n",
      "print \"The value of R1 =\",int(round(R1*10**-3,0)),\"Kilo Ohms\"\n",
      "print \"The value of Rf =\",int(round(Rf*10**-3,0)),\"Kilo Ohms\"\n",
      "\n"
     ],
     "language": "python",
     "metadata": {},
     "outputs": [
      {
       "output_type": "stream",
       "stream": "stdout",
       "text": [
        "The value of R  = 6.497 Kilo Ohms\n",
        "The value of R1 = 65 Kilo Ohms\n",
        "The value of Rf = 1884 Kilo Ohms\n"
       ]
      }
     ],
     "prompt_number": 3
    },
    {
     "cell_type": "code",
     "collapsed": false,
     "input": [],
     "language": "python",
     "metadata": {},
     "outputs": []
    }
   ],
   "metadata": {}
  }
 ]
}