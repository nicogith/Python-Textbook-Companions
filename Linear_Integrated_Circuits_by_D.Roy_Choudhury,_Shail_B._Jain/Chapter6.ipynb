{
 "metadata": {
  "name": ""
 },
 "nbformat": 3,
 "nbformat_minor": 0,
 "worksheets": [
  {
   "cells": [
    {
     "cell_type": "heading",
     "level": 1,
     "metadata": {},
     "source": [
      "Chapter 6 : Voltage Regulators"
     ]
    },
    {
     "cell_type": "heading",
     "level": 2,
     "metadata": {},
     "source": [
      "Example 6.1 Page No.246"
     ]
    },
    {
     "cell_type": "code",
     "collapsed": false,
     "input": [
      "# Given data \n",
      "\n",
      "Veb = 1.0\n",
      "beta = 15.0\n",
      "Vc = 5.0\n",
      "Io = 1.0   # for 7805 maximum value of I b is 1 Ampere \n",
      "R1 = 7.0\n",
      "# Solution \n",
      "\n",
      "# for Load = 100ohms \n",
      "\n",
      "Rl = 100.0\n",
      "\n",
      "Il=Ic=Ii = Vc/Rl\n",
      "# voltage across R1\n",
      "V1 = R1*(50*10**-3)\n",
      "# for load = 5 ohms\n",
      "\n",
      "Rl1 = 5.0\n",
      "Il1 = Vc/Rl1\n",
      "V12 = Il1 * Rl1 # Finding the Voltage drop across R1 when Rl = 5 Ohms \n",
      "# Finding the value of Io\n",
      "Io = (Il1 + (beta*(Veb/R1)))/(beta + 1)\n",
      "Ic = beta*(Io - (Veb/R1))\n",
      "\n",
      "# for load = 1 Ohm\n",
      "\n",
      "Rl2 = 1.0\n",
      "Il2 = Vc/Rl2\n",
      "# Finding the value of Io\n",
      "Io1 = (Il2 + (beta*(Veb/R1)))/(beta + 1)\n",
      "Ic1 = beta*(Io1 - (Veb/R1))\n",
      "\n",
      "print \" The value of load current when Rl = 100 ohms is =\",int(Il*10**3),\"mA\"\n",
      "print \" The voltage across R1 when load is 100 ohms     =\",int(V1*10**3),\"mV\"\n",
      "print \" The value of load current when Rl = 5 ohms      =\",int(Il1),\"A\"\n",
      "print \" The voltage across R1 when load is 5 Ohms       =\",int(V12),\"V\"\n",
      "print \" The value of output current when load is 5 ohms =\",int(Io*10**3),\"mA\"\n",
      "print \" The value of collector current is               =\",int(round(Ic*10**3)),\"mA\"\n",
      "print \" The value of output current when load is 1 Ohm  =\",int(Io1*10**3),\"mA\"\n",
      "print \" The value of collector current is               =\",round(Ic1,2),\"A\" \n"
     ],
     "language": "python",
     "metadata": {},
     "outputs": [
      {
       "output_type": "stream",
       "stream": "stdout",
       "text": [
        " The value of load current when Rl = 100 ohms is = 50 mA\n",
        " The voltage across R1 when load is 100 ohms     = 350 mV\n",
        " The value of load current when Rl = 5 ohms      = 1 A\n",
        " The voltage across R1 when load is 5 Ohms       = 5 V\n",
        " The value of output current when load is 5 ohms = 196 mA\n",
        " The value of collector current is               = 804 mA\n",
        " The value of output current when load is 1 Ohm  = 446 mA\n",
        " The value of collector current is               = 4.55 A\n"
       ]
      }
     ],
     "prompt_number": 1
    },
    {
     "cell_type": "heading",
     "level": 2,
     "metadata": {},
     "source": [
      "Example 6.2 Page No.247"
     ]
    },
    {
     "cell_type": "code",
     "collapsed": false,
     "input": [
      "# Given data\n",
      "\n",
      "Vo = 7.5\n",
      "Iq = 4.2*10**-3\n",
      "Ir1 = 25*10**-3\n",
      "Vr = 5\n",
      "\n",
      "# Solution \n",
      "\n",
      "R1 = Vr/Ir1\n",
      "R2 = 2.5/(Ir1 + Iq)\n",
      "\n",
      "# Displaying the outputs \n",
      "\n",
      "print \"The value of R1 =\",int(R1),\"Ohms\" \n",
      "print \"The value of R2 =\",int(R2),\"Ohms\"\n"
     ],
     "language": "python",
     "metadata": {},
     "outputs": [
      {
       "output_type": "stream",
       "stream": "stdout",
       "text": [
        "The value of R1 = 200 Ohms\n",
        "The value of R2 = 85 Ohms\n"
       ]
      }
     ],
     "prompt_number": 2
    },
    {
     "cell_type": "code",
     "collapsed": false,
     "input": [],
     "language": "python",
     "metadata": {},
     "outputs": []
    }
   ],
   "metadata": {}
  }
 ]
}