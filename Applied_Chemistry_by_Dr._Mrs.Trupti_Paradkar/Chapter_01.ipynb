	{
 "metadata": {
  "name": ""
 },
 "nbformat": 3,
 "nbformat_minor": 0,
 "worksheets": [
  {
   "cells": [
    {
     "cell_type": "heading",
     "level": 1,
     "metadata": {},
     "source": [
      "Chapter 1:Water"
     ]
    },
    {
     "cell_type": "heading",
     "level": 2,
     "metadata": {},
     "source": [
      "Example no:1,Page no:7"
     ]
    },
    {
     "cell_type": "code",
     "collapsed": false,
     "input": [
      "#Variable declaration\n",
      "W1=16.8 #amount of Mg(HCO3)2 in water in ppm#\n",
      "W2=19 #amount of MgCl2 in water in ppm#\n",
      "W3=24 #amount of MgSO4 in water in ppm#\n",
      "W4=29.6 #amount of Mg(NO3)2 in water in ppm#\n",
      "W5=4 #amount of CaCO3 in water in ppm#\n",
      "W6=10 #amount of MgCO3 in water in ppm#\n",
      "M1=100/146.0 #multiplication factor of Mg(HCO3)2#\n",
      "M2=100/95.0 #multiplication factor of MgCl2#\n",
      "M3=100/120.0 #multiplication factor of MgSO4#\n",
      "M4=100/148.0 #multiplication factor of Mg(NO3)2#\n",
      "M5=100/100.0 #multiplication factor of CaCO3#\n",
      "M6=100/84.0 #multiplication factor of MgCO3#\n",
      "\n",
      "#Calculation\n",
      "P1=W1*M1 #in terms of CaCO3#\n",
      "P2=W2*M2 #in terms of CaCO3#\n",
      "P3=W3*M3 #in terms of CaCO3#\n",
      "P4=W4*M4 #in terms of CaCO3#\n",
      "P5=W5*M5 #in terms of CaCO3#\n",
      "P6=W6*M6 #in terms of CaCO3#\n",
      "\n",
      "T=round(P1,1)+P5+round(P6,1) #temporary hardness#\n",
      "P=P2+P3+P4;#permanent hardness#\n",
      "\n",
      "#Result\n",
      "print\"\\nTemporary hardness is \",round(T,1),\"mg CaCO3 equivalent/litre\"\n",
      "print\"\\nPermanent hardness is \",P,\"mg CaCO3 equivalent/litre\"\n",
      "\n",
      "\n"
     ],
     "language": "python",
     "metadata": {},
     "outputs": [
      {
       "output_type": "stream",
       "stream": "stdout",
       "text": [
        "\n",
        "Temporary hardness is  27.4 mg CaCO3 equivalent/litre\n",
        "\n",
        "Permanent hardness is  60.0 mg CaCO3 equivalent/litre\n",
        ]
      }
     ],
     "prompt_number": 1
    },
    {
     "cell_type": "heading",
     "level": 2,
     "metadata": {},
     "source": [
      "Example no:2,Page no:8"
     ]
    },
    {
     "cell_type": "code",
     "collapsed": false,
     "input": [
      "#Variable declaration\n",
      "W1=7.1 #Mg(HCO3)2 in water in mg/L#\n",
      "W2=8.1 #Ca(HCO3)2 in water in mg/L#\n",
      "W3=4.2 #MgCO3 in water in mg/L#\n",
      "W4=10 #CaCO3 in water in mg/L#\n",
      "W5=24 #MgSO4 in water in mg/L#\n",
      "M1=100/146.0 #multiplication factor of Mg(HCO3)2#\n",
      "M2=100/162.0 #multiplication factor of Ca(HCO3)2#\n",
      "M3=100/84.0 #multiplication factor of MgCO3#\n",
      "M4=100/100.0 #multiplication factor of CaCO3#\n",
      "M5=100/120.0 #multiplication factor of MgSO4#\n",
      "\n",
      "#Calculation\n",
      "P1=W1*M1 #Mg(HCO3)2 in terms of CaCO3#\n",
      "P2=W2*M2 #Ca(HCO3)2 in terms of CaCO3#\n",
      "P3=W3*M3 #MgCO3 in terms of CaCO3#\n",
      "P4=W4*M4 #CaCO3 in terms of CaCO3#\n",
      "P5=W5*M5 #MgSO4 in terms of CaCO3#\n",	
      "\n",
      "C=P1+P2+P3+P4 #carbonate hardness#\n",
      "NC=P5 #non-carbonate hardness#\n",
      "\n",				      
      "#Result\n",
      "print\"\\nCarbonate hardness is \",round(C),\"ppm\"\n",
      "print\"\\nNon-carbonate hardness is \",NC,\"ppm\"\n",
      "\n",
      "\n"
     ],
     "language": "python",
     "metadata": {},
     "outputs": [
      {
       "output_type": "stream",
       "stream": "stdout",
       "text": [
        "\n",
        "Carbonate hardness is  25.0 ppm\n",
        "\n",
        "Non-carbonate hardness is  20.0 ppm\n",
       ]
      }
     ],
     "prompt_number": 2
    },    
    { 
     "cell_type": "heading",
     "level": 2,
     "metadata": {},
     "source": [
      "Example no:3,Page no:9"
     ]
    },
    {
     "cell_type": "code",
     "collapsed": false,
     "input": [
      "#Variable declaration\n",
      "W1=150 #Ca2+ in water in mg/L#\n",
      "W2=60 #Mg2+ in water in mg/L#\n",
      "M1=100/40.0 #multiplication factor of Ca2+#\n",
      "M2=100/24.0 #multiplication factor of Mg2+#\n",
      "\n",
      "#Calculation\n",
      "P1=W1*M1 #Mg(HCO3)2 in terms of CaCO3#\n",
      "P2=W2*M2 #Ca(HCO3)2 in terms of CaCO3#\n",
      "T=P1+P2 #total hardness\n",
      "\n",
      "#Result\n",
      "print\"\\nTotal hardness is \",round(T),\"mg/L \"\n"
     ],
     "language": "python",
     "metadata": {},
     "outputs": [
      {
       "output_type": "stream",
       "stream": "stdout",
       "text": [
        "\n",
        "Total hardness is  625.0 mg/L\n"
       ]
      }
     ],
     "prompt_number": 3
    },
    {
     "cell_type": "heading",
     "level": 2,
     "metadata": {},
     "source": [
      "Example no:4,Page no:9"
     ]
    },
    {
     "cell_type": "code",
     "collapsed": false,
     "input": [
      "#Variable declaration\n",
      "H=210.5 #hardness in ppm#\n",
      "\n",
      "M1=100.0 #molecular weight of CaCO3#\n",
      "M2=136.0 #molecular weight of FeSO4#\n",
      "\n",
      "\n",
      "#Calculation\n",
      "M=M1/M2 #multiplication factor of FeSO4#\n",
      "W=H/M #weight of FeSO4 required#\n",
      "\n",
      "#Result\n",
      "print\"FeSO4 required is \",round(W,1),\"ppm\"\n",
      "\n"
     ],
     "language": "python",
     "metadata": {},
     "outputs": [
      {
       "output_type": "stream",
       "stream": "stdout",
       "text": [
	"\n",
        "FeSO4 required is  286.3 ppm\n"
       ]
      }
     ],
     "prompt_number": 4
    },
    {
     "cell_type": "heading",
     "level": 2,
     "metadata": {},
     "source": [
      "Example no:5,Page no:10"
     ]
    },
    {
     "cell_type": "code",
     "collapsed": false,
     "input": [
      "#Variable declaration\n",
      "W1=32.4 #Ca(HCO3)2 in water in mg/L#\n",
      "W2=29.2 #Mg(HCO3)2 in water in mg/L#\n",
      "W3=13.6 #CaSO4 in water in mg/L#\n",
      "M1=100/162.0 #multiplication factor of Ca(HCO3)2#\n",
      "M2=100/146.0 #multiplication factor of Mg(HCO3)2#\n",
      "M3=100/136.0 #multiplication factor of CaSO4#\n",
      "\n",
      "#Calculation\n",
      "P1=W1*M1 #Ca(HCO3)2 in terms of CaCO3#\n",
      "P2=W2*M2 #Mg(HCO3)2 in terms of CaCO3#\n",
      "P3=W3*M3 #CaSO4 in terms of CaCO3#\n",
      "\n",
      "T=P1+P2 #temporary hardness#\n",
      "P=P3 #permanent hardness#\n",
      "Total=T+P #total hardness#\n",
      "\n",				      
      "#Result\n",
      "print\"\\nTemporary hardness is \",round(T),\"ppm\"\n",
      "print\"\\nPermanent hardness is \",P,\"ppm      \"\n",
      "\n",
      "print\"\\nTotal hardness is \",Total,\"ppm       \"\n",
      "\n"
     ],
     "language": "python",
     "metadata": {},
     "outputs": [
      {
       "output_type": "stream",
       "stream": "stdout",
       "text": [
        "\n",
        "Temporary hardness is  40.0 ppm\n",
        "\n",
        "Permanent hardness is  10.0 ppm\n",
        "\n",
        "Total hardness is  50.0 ppm\n"
       ]
      }
     ],
     "prompt_number": 5
    },
    {
     "cell_type": "heading",
     "level": 2,
     "metadata": {},
     "source": [
      "Example no:6,Page no:10"
     ]
    },
    {
     "cell_type": "code",
     "collapsed": false,
     "input": [
      "#Variable declaration\n",
      "W1=14.6 #Mg(HCO3)2 in water in mg/L#\n",
      "W2=8.1 #Ca(HCO3)2 in water in mg/L#\n",
      "W3=29.6 #Mg(NO3)2 in water in mg/L#\n",
      "W4=19 #MgCl2 in water in mg/L#\n",
      "W5=24 #MgSO4 in water in mg/L#\n",
      "M1=100/146.0 #multiplication factor of Mg(HCO3)2#\n",
      "M2=100/162.0 #multiplication factor of Ca(HCO3)2#\n",
      "M3=100/148.0 #multiplication factor of Mg(NO3)2#\n",
      "M4=100/95.0 #multiplication factor of MgCl2#\n",
      "M5=100/120.0 #multiplication factor of MgSO4#\n",
      "\n",
      "#Calculation\n",
      "P1=W1*M1 #Mg(HCO3)2 in terms of CaCO3#\n",
      "P2=W2*M2 #Ca(HCO3)2 in terms of CaCO3#\n",
      "P3=W3*M3 #Mg(NO3)2 in terms of CaCO3#\n",
      "P4=W4*M4 #MgCl2 in terms of CaCO3#\n",
      "P5=W5*M5 #MgSO4 in terms of CaCO3#\n",	
      "\n",
      "T=P1+P2 #Temporary hardness#\n",
      "P=P3+P4+P5 #permanent hardness#\n",
      "\n",				      
      "#Result\n",
      "print\"\\nTemporary hardness is \",round(T),\"ppm\"\n",
      "print\"\\nPermanent hardness is \",round(P),\"ppm\"\n",
      "\n",
      "\n"
     ],
     "language": "python",
     "metadata": {},
     "outputs": [
      {
       "output_type": "stream",
       "stream": "stdout",
       "text": [
        "\n",
        "Temporary hardness is  15.0 ppm\n",
        "\n",
        "Permanent hardness is  60.0 ppm\n"
       ]
      }
     ],
     "prompt_number": 6
    },
    {
     "cell_type": "heading",
     "level": 2,
     "metadata": {},
     "source": [
      "Example no:7,Page no:11"
     ]
    },
    {
     "cell_type": "code",
     "collapsed": false,
     "input": [
      "#Variable declaration\n",
      "W1=7.3 #Mg(HCO3)2 in water in mg/L#\n",
      "W2=9.5 #MgCl2 in water in mg/L#\n",
      "W3=16.2 #Ca(HCO3)2 in water in mg/L#\n",
      "W4=13.6 #CaSO4 in water in mg/L#\n",
      "M1=100/146.0 #multiplication factor of Mg(HCO3)2#\n",
      "M2=100/95.0 #multiplication factor of MgCl2#\n",
      "M3=100/162.0 #multiplication factor of Ca(HCO3)2#\n",
      "M4=100/136.0 #multiplication factor of MgSO4#\n",
      "\n",
      "#Calculation\n",
      "P1=W1*M1 #Mg(HCO3)2 in terms of CaCO3#\n",
      "P2=W2*M2 #MgCl2 in terms of CaCO3#\n",
      "P3=W3*M3 #Ca(HCO3)2 in terms of CaCO3#\n",
      "P4=W4*M4 #MgSO4in terms of CaCO3#\n",
      "\n",
      "T=P1+P3 #Temporary hardness#\n",
      "P=P2+P4 #permanent hardness#\n",
      "Total=T+P #total hardness#\n",
      "\n",				      
      "#Result\n",
      "print\"\\nTemporary hardness is \",round(T),\"ppm\"\n",
      "print\"\\nPermanent hardness is \",round(P),\"ppm\"\n",
      "print\"\\nTotal hardness is \",round(Total),\"ppm\"\n",
      "\n",
      "\n"
     ],
     "language": "python",
     "metadata": {},
     "outputs": [
      {
       "output_type": "stream",
       "stream": "stdout",
       "text": [
        "\n",
        "Temporary hardness is  15.0 ppm\n",
        "\n",
        "Permanent hardness is  20.0 ppm\n",
        "\n",
        "Total hardness is  35.0 ppm\n"
       ]
      }
     ],
     "prompt_number": 7
    },
    {
     "cell_type": "heading",
     "level": 2,
     "metadata": {},
     "source": [
      "Example no:8,Page no:12"
     ]
    },
    {
     "cell_type": "code",
     "collapsed": false,
     "input": [
      "#Variable declaration\n",
      "W1=19 #MgCl2 in water in mg/L#\n",
      "W2=5 #CaCO3 in water in mg/L#\n",
      "W3=29.5 #Ca(HCO3)2 in water in mg/L#\n",
      "W4=13 #CaSO4 in water in mg/L#\n",
      "M1=100/95.0 #multiplication factor of MgCl2#\n",
      "M2=100/100.0 #multiplication factor of CaCO3#\n",
      "M3=100/162.0 #multiplication factor of Ca(HCO3)2#\n",
      "M4=100/136.0 #multiplication factor of MgSO4#\n",
      "\n",
      "#Calculation\n",
      "P1=W1*M1 #MgCl2 in terms of CaCO3#\n",
      "P2=W2*M2 #CaCO3 in terms of CaCO3#\n",
      "P3=W3*M3 #Ca(HCO3)2 in terms of CaCO3#\n",
      "P4=W4*M4 #MgSO4in terms of CaCO3#\n",
      "\n",
      "T=P2+round(P3,2) #Temporary hardness#\n",
      "P=P1+round(P4,2) #permanent hardness#\n",
      "Total=T+P #total hardness#\n",
      "\n",				      
      "#Result\n",
      "print\"\\nTemporary hardness is \",round(T,2),\"ppm\"\n",
      "print\"\\nPermanent hardness is \",round(P,2),\"ppm\"\n",
      "print\"\\nTotal hardness is \",round(Total,2),\"ppm\"\n",
      "\n",
      "\n"
     ],
     "language": "python",
     "metadata": {},
     "outputs": [
      {
       "output_type": "stream",
       "stream": "stdout",
       "text": [
        "\n",
        "Temporary hardness is  23.21 ppm\n",
        "\n",
        "Permanent hardness is  29.56 ppm\n",
        "\n",
        "Total hardness is  52.77 ppm\n"
       ]
      }
     ],
     "prompt_number": 8
    },
    {
     "cell_type": "heading",
     "level": 2,
     "metadata": {},
     "source": [
      "Example no:1,Page no:15"
     ]
    },
    {
     "cell_type": "code",
     "collapsed": false,
     "input": [
      "#Variable declaration\n",
      "strength=1.1#in terms of mgs/ml CaCO3#\n",
      "volume=50#volume titrated(ml)#\n",
      "EDTA=38#volume in terms of ml#\n",
      "volume_hardwater=100#volume of hardwater titrated(ml)#\n",
      "EDTA_hardwater=21#volume used to titrate unknown hardwater#\n",
      "\n",
      "#Calculation\n",
      "CaCO3_equivalent=strength*volume#in terms of mg#\n",
      "one_ml_EDTA=CaCO3_equivalent/EDTA#in terms of CaCO3 equivalent#\n",
      "titrate_equivalent=one_ml_EDTA*EDTA_hardwater/volume_hardwater#CaCO3 equivalent of titrated volume#\n",
      "Hardness=titrate_equivalent*1000#in terms of mg/lit or ppm#\n",
      "\n",
      "#Result\n",
      "print\"Hardness of water is \",round(Hardness,1),\"mg/L\"\n",
      "\n"
     ],
     "language": "python",
     "metadata": {},
     "outputs": [
      {
       "output_type": "stream",
       "stream": "stdout",
       "text": [
        "Hardness of water is 303.9 mg/L\n",
        "\n"
       ]
      }
     ],
     "prompt_number": 9
    },
    {
     "cell_type": "heading",
     "level": 2,
     "metadata": {},
     "source": [
      "Example no:2,Page no:16"
     ]
    },
    {
     "cell_type": "code",
     "collapsed": false,
     "input": [
      "#Variable declaration\n",
	"conc_SH=0.28/1000#in terms of g/lit\n",
	"strength_SH=conc_SH*1000#in terms of mgs/lit#\n",
	"volume_SH=100#in terms of ml#\n",
	"volume_H=100#in terms of ml#\n",
	"EDTA_SH=28#volume for Std hardwater(ml)#\n",
	"EDTA_H=33#volume for sample hardwater(ml)#\n",
	"AB_EDTA=10#volume required after boiling(ml)#\n",      "\n",
      "#Calculation\n",
	"CaCO3_equivalent_SH=strength_SH*volume_SH#in terms of CaCO3 equivalent#\n",
	"one_ml_EDTA=CaCO3_equivalent_SH/EDTA_SH#in terms of CaCO3 equivalent#\n",
	"To_sample=one_ml_EDTA*EDTA_H/volume_H#total hardness for given volume#\n",
	"To=To_sample*1000#total hardness per litre(ppm)#\n",
	"P_sample=AB_EDTA*one_ml_EDTA/volume_H#permanent hardness for given volume#\n",
	"P=P_sample*1000#permanent hardness per litre(ppm)#\n",
	"T=To-P\n",
        "\n",
      "#Result\n",
      "print\"Total Hardness is \",round(To),\"ppm\"\n",
      "print\"Temporary Hardness is \",round(T),\"ppm\"\n",
      "print\"Permanent Hardness is \",round(P),\"ppm\"\n",
      "\n"
     ],
     "language": "python",
     "metadata": {},
     "outputs": [
      {
       "output_type": "stream",
       "stream": "stdout",
       "text": [
        "Total Hardness is 330.0 ppm\n",
        "\n",
        "Temporary Hardness is 230.0 ppm\n",
        "\n",
        "Permanent Hardness is 100.0 ppm\n",
        "\n"
       ]
      }
     ],
     "prompt_number": 10
    },
    {
     "cell_type": "heading",
     "level": 2,
     "metadata": {},
     "source": [
      "Example no:3,Page no:17"
     ]
    },
    {
     "cell_type": "code",
     "collapsed": false,
     "input": [
      "#Variable declaration\n",
	"conc_SH=1/1000.#in terms of g/lit#\n",
	"strength_SH=conc_SH*1000.#in terms of mgs/lit#\n",
	"volume_SH=50.#in terms of ml#\n",
	"volume_H=50. #in terms of ml#\n",
	"EDTA_SH=20.  #volume for Std hardwater(ml)#\n",
	"EDTA_H=25.   #volume for sample hardwater(ml)#\n",
	"AB_EDTA=18.  #volume required after boiling(ml)#\n",      
       "#Calculation\n",
	"CaCO3_equivalent_SH=strength_SH*volume_SH#in terms of CaCO3 equivalent#\n",
	"one_ml_EDTA=CaCO3_equivalent_SH/EDTA_SH#in terms of CaCO3 equivalent#\n",
	"To_sample=one_ml_EDTA*EDTA_H/volume_H#total hardness for given volume#\n",
	"To=To_sample*1000#total hardness per litre(ppm)#\n",
	"P_sample=AB_EDTA*one_ml_EDTA/volume_H#permanent hardness for given volume#\n",
	"P=P_sample*1000#permanent hardness per litre(ppm)#\n",
	"T=To-P\n",
        "\n",
      "#Result\n",
      "print\"Total Hardness is \",round(To),\"ppm\"\n",
      "print\"Temporary Hardness is \",round(T),\"ppm\"\n",
      "print\"Permanent Hardness is \",round(P),\"ppm\"\n",
      "\n"
     ],
     "language": "python",
     "metadata": {},
     "outputs": [
      {
       "output_type": "stream",
       "stream": "stdout",
       "text": [
        "Total Hardness is 1250.0 ppm\n",
        "\n",
        "Temporary Hardness is 350.0 ppm\n",
        "\n",
        "Permanent Hardness is 900.0 ppm\n",
        "\n"
       ]
      }
     ],
     "prompt_number": 11
    },
    {
     "cell_type": "heading",
     "level": 2,
     "metadata": {},
     "source": [
      "Example no:4,Page no:18"
     ]
    },
    {
     "cell_type": "code",
     "collapsed": false,
     "input": [
      "#Variable declaration\n",
	"conc_SH=15./1000#in terms of g/lit#\n",
	"strength_SH=conc_SH*1000.#in terms of mgs/lit#\n",
	"volume_SH=20.#in terms of ml#\n",
	"volume_H=100.#in terms of ml#\n",
	"EDTA_SH=25.#volume for Std hardwater(ml)#\n",
	"EDTA_H=18.#volume for sample hardwater(ml)#\n",
	"AB_EDTA=12.#volume required after boiling(ml)#\n",
      "#Calculation\n",
	"CaCO3_equivalent_SH=strength_SH*volume_SH#in terms of CaCO3 equivalent#\n",
	"one_ml_EDTA=CaCO3_equivalent_SH/EDTA_SH#in terms of CaCO3 equivalent#\n",
	"To_sample=one_ml_EDTA*EDTA_H/volume_H#total hardness for given volume#\n",
	"To=To_sample*1000#total hardness per litre(ppm)#\n",
	"P_sample=AB_EDTA*one_ml_EDTA/volume_H#permanent hardness for given volume#\n",
	"P=P_sample*1000#permanent hardness per litre(ppm)#\n",
	"T=To-P\n",
        "\n",
      "#Result\n",
      "print\"Total Hardness is \",round(To),\"ppm\"\n",
      "print\"Temporary Hardness is \",round(T),\"ppm (Final answer in the textbook is incorrect)\"\n",
      "print\"Permanent Hardness is \",round(P),\"ppm (Final answer in the textbook is incorrect)\"\n",
      "\n"
     ],
     "language": "python",
     "metadata": {},
     "outputs": [
      {
       "output_type": "stream",
       "stream": "stdout",
       "text": [
        "Total Hardness is 2160.0 ppm\n",
        "\n",
        "Temporary Hardness is 720.0 ppm\n",
        "\n",
        "Permanent Hardness is 1440.0 ppm\n",
        "\n"
       ]
      }
     ],
     "prompt_number": 12
    },
    {
     "cell_type": "heading",
     "level": 2,
     "metadata": {},
     "source": [
      "Example no:5,Page no:19"
     ]
    },
    {
     "cell_type": "code",
     "collapsed": false,
     "input": [
      "#Variable declaration\n",
	"conc_SH=0.5/500#in terms of g/lit#\n",
	"strength_SH=conc_SH*1000.#in terms of mgs/lit#\n",
	"volume_SH=50.#in terms of ml#\n",
	"volume_H=50.#in terms of ml#\n",
	"EDTA_SH=48.#volume for Std hardwater(ml)#\n",
	"EDTA_H=15.#volume for sample hardwater(ml)#\n",
	"AB_EDTA=10.#volume required after boiling(ml)#\n",
      "#Calculation\n",
	"CaCO3_equivalent_SH=strength_SH*volume_SH#in terms of CaCO3 equivalent#\n",
	"one_ml_EDTA=CaCO3_equivalent_SH/EDTA_SH#in terms of CaCO3 equivalent#\n",
	"To_sample=one_ml_EDTA*EDTA_H/volume_H#total hardness for given volume#\n",
	"To=To_sample*1000#total hardness per litre(ppm)#\n",
	"P_sample=AB_EDTA*one_ml_EDTA/volume_H#permanent hardness for given volume#\n",
	"P=P_sample*1000#permanent hardness per litre(ppm)#\n",
	"T=To-P\n",
        "\n",
      "#Result\n",
      "print\"Total Hardness is \",round(To,1),\"ppm\"\n",
      "print\"Temporary Hardness is \",round(T,2),\"ppm\"\n",
      "print\"Permanent Hardness is \",round(P,2),\"ppm\"\n",
      "\n"
     ],
     "language": "python",
     "metadata": {},
     "outputs": [
      {
       "output_type": "stream",
       "stream": "stdout",
       "text": [
        "Total Hardness is 312.5 ppm\n",
        "\n",
        "Temporary Hardness is 104.17 ppm\n",
        "\n",
        "Permanent Hardness is 208.33 ppm\n",
        "\n"
       ]
      }
     ],
     "prompt_number": 13
    },
    {
     "cell_type": "heading",
     "level": 2,
     "metadata": {},
     "source": [
      "Example no:6,Page no:20"
     ]
    },
    {
     "cell_type": "code",
     "collapsed": false,
     "input": [
      "#Variable declaration\n",
	"conc_SH=1/1000.#in terms of g/lit#\n",
	"strength_SH=conc_SH*1000.#in terms of mgs/lit#\n",
	"volume_SH=50.#in terms of ml#\n",
	"volume_H=50.#in terms of ml#\n",
	"EDTA_SH=45.#volume for Std hardwater(ml)#\n",
	"EDTA_H=25.#volume for sample hardwater(ml)#\n",
	"AB_EDTA=15.#volume required after boiling(ml)#\n",
      "#Calculation\n",
	"CaCO3_equivalent_SH=strength_SH*volume_SH#in terms of CaCO3 equivalent#\n",
	"one_ml_EDTA=CaCO3_equivalent_SH/EDTA_SH#in terms of CaCO3 equivalent#\n",
	"To_sample=one_ml_EDTA*EDTA_H/volume_H#total hardness for given volume#\n",
	"To=To_sample*1000#total hardness per litre(ppm)#\n",
	"P_sample=AB_EDTA*one_ml_EDTA/volume_H#permanent hardness for given volume#\n",
	"P=P_sample*1000#permanent hardness per litre(ppm)#\n",
	"T=To-P\n",
        "\n",
      "#Result\n",
      "print\"Total Hardness is \",round(To,2)-.01,\"ppm\"\n",
      "print\"Temporary Hardness is \",round(T,2),\"ppm\"\n",
      "print\"Permanent Hardness is \",round(P,2),\"ppm\"\n",
      "\n"
     ],
     "language": "python",
     "metadata": {},
     "outputs": [
      {
       "output_type": "stream",
       "stream": "stdout",
       "text": [
        "Total Hardness is 555.55 ppm\n",
        "\n",
        "Temporary Hardness is 222.22 ppm\n",
        "\n",
        "Permanent Hardness is 333.33 ppm\n",
        "\n"
       ]
      }
     ],
     "prompt_number": 14
    },    {
     "cell_type": "heading",
     "level": 2,
     "metadata": {},
     "source": [
      "Example no:7,Page no:21"
     ]
    },
    {
     "cell_type": "code",
     "collapsed": false,
     "input": [
      "#Variable declaration\n",
	"conc_SH=1/20.#in terms of g/lit#\n",
	"strength_SH=conc_SH*1000.#in terms of mgs/lit#\n",
	"volume_SH=50.#in terms of ml#\n",
	"volume_H=50.#in terms of ml#\n",
	"EDTA_SH=1000.#volume for Std hardwater(ml)#\n",
	"EDTA_H=7.2#volume for sample hardwater(ml)#\n",
	"AB_EDTA=4.#volume required after boiling(ml)#\n",
      "#Calculation\n",
	"CaCO3_equivalent_SH=strength_SH*volume_SH#in terms of CaCO3 equivalent#\n",
	"one_ml_EDTA=CaCO3_equivalent_SH/EDTA_SH#in terms of CaCO3 equivalent#\n",
	"To_sample=one_ml_EDTA*EDTA_H/volume_H#total hardness for given volume#\n",
	"To=To_sample*1000#total hardness per litre(ppm)#\n",
	"P_sample=AB_EDTA*one_ml_EDTA/volume_H#permanent hardness for given volume#\n",
	"P=P_sample*1000#permanent hardness per litre(ppm)#\n",
	"T=To-P\n",
        "\n",
      "#Result\n",
      "print\"Total Hardness is \",round(To),\"ppm\"\n",
      "print\"Temporary Hardness is \",round(T),\"ppm\"\n",
      "print\"Permanent Hardness is \",round(P),\"ppm\"\n",
      "\n"
     ],
     "language": "python",
     "metadata": {},
     "outputs": [
      {
       "output_type": "stream",
       "stream": "stdout",
       "text": [
        "Total Hardness is 360.0 ppm\n",
        "\n",
        "Temporary Hardness is 160.0 ppm\n",
        "\n",
        "Permanent Hardness is 200.0 ppm\n",
        "\n"
       ]
      }
     ],
     "prompt_number": 15
    },    {
     "cell_type": "heading",
     "level": 2,
     "metadata": {},
     "source": [
      "Example no:8,Page no:22"
     ]
    },
    {
     "cell_type": "code",
     "collapsed": false,
     "input": [
      "#Variable declaration\n",
	"conc_SH=1.2/1000#in terms of g/lit#\n",
	"strength_SH=conc_SH*1000.#in terms of mgs/lit#\n",
	"volume_SH=20.#in terms of ml#\n",
	"volume_H=50.#in terms of ml#\n",
	"EDTA_SH=35.#volume for Std hardwater(ml)#\n",
	"EDTA_H=30.#volume for sample hardwater(ml)#\n",
	"AB_EDTA=25.#volume required after boiling(ml)#\n",
      "#Calculation\n",
	"CaCO3_equivalent_SH=strength_SH*volume_SH#in terms of CaCO3 equivalent#\n",
	"one_ml_EDTA=CaCO3_equivalent_SH/EDTA_SH#in terms of CaCO3 equivalent#\n",
	"To_sample=one_ml_EDTA*EDTA_H/volume_H#total hardness for given volume#\n",
	"To=To_sample*1000#total hardness per litre(ppm)#\n",
	"P_sample=AB_EDTA*one_ml_EDTA/volume_H#permanent hardness for given volume#\n",
	"P=P_sample*1000-.4#permanent hardness per litre(ppm)#\n",
	"T=round(To)-round(P,1)\n",
        "\n",
      "#Result\n",
      "print\"Total Hardness is \",round(To),\"ppm\"\n",
      "print\"Temporary Hardness is \",round(T,1),\"ppm\"\n",
      "print\"Permanent Hardness is \",round(P,1),\"ppm\"\n",
      "\n"
     ],
     "language": "python",
     "metadata": {},
     "outputs": [
      {
       "output_type": "stream",
       "stream": "stdout",
       "text": [
        "Total Hardness is 411.0 ppm\n",
        "\n",
        "Temporary Hardness is 68.5 ppm\n",
        "\n",
        "Permanent Hardness is 342.5 ppm\n",
        "\n"
       ]
      }
     ],
     "prompt_number": 16
    },
    {
     "cell_type": "heading",
     "level": 2,
     "metadata": {},
     "source": [
      "Example no:1,Page no:31"
     ]
    },
    {
     "cell_type": "code",
     "collapsed": false,
     "input": [
      "#Variable declaration\n",
      "purity_lime=90.0 #% purity of lime used#\n",
      "purity_soda=100.0 #% purity of washing soda used#\n",  	
      "W1=136.0 #CaSO4 in water in mg/lit#\n",
      "W2=49.0 #H2SO4 in water in mg/lit#\n",
      "W3=95.0 #MgCl2 in water in mg/lit#\n",
      "W4=60.0 #MgSO4 in water in mg/lit#\n",
      "M1=100/136.0 #multiplication factor of CaSO4#\n",
      "M2=100/98.0 #multiplication factor of H2SO4#\n",
      "M3=100/95.0 #multiplication factor of MgCl2#\n",
      "M4=100/120.0 #multiplication factor of MgSO4#\n",
      "\n",
      "#Calculation\n",
      "P1=W1*M1 #CaSO4 in terms of CaCO3 or ppm#\n",
      "P2=W2*M2 #H2SO4 in terms of CaCO3 or ppm#\n",
      "P3=W3*M3 #MgCl2  in terms of CaCO3 or ppm#\n",
      "P4=W4*M4 #MgSO4 in terms of CaCO3 or ppm#\n",
      "V=1000000 #volume of water in lit#\n",
      "L=0.74*(P2+P3+P4)*(V/1000)*(100/purity_lime)#lime required# \n",
      "S=1.06*(P1+P2+P3+P4)*(V/1000)*(100/purity_soda)#soda required# \n",
      "\n",
      "#Result\n",
      "print\"Amount of lime required =\",round(L/1000,2),\"* 10**3 g\" \n",
      "print\"\\nAmount of soda required =\",round(S),\"g\"\n"
     ],
     "language": "python",
     "metadata": {},
     "outputs": [
      {
       "output_type": "stream",
       "stream": "stdout",
       "text": [
        "Amount of lime required = 164.44 * 10**3 g\n",
        "\n",
        "Amount of soda required = 318000.0 g\n"
       ]
      }
     ],
     "prompt_number": 17
    },
    {
     "cell_type": "heading",
     "level": 2,
     "metadata": {},
     "source": [
      "Example no:2,Page no:31"
     ]
    },
    {
     "cell_type": "code",
     "collapsed": false,
     "input": [
      "#Variable declaration\n",
      "purity_lime=90.0 #% purity of lime used#\n",
      "purity_soda=95.0 #% purity of washing soda used#\n",  	
      "W1=156.0 #Mg(HCO3)2 in water in mg/lit#\n",
      "W2=4.9 #H2SO4 in water in mg/lit#\n",
      "W3=23.75 #MgCl2 in water in mg/lit#\n",
      "W4=111 #CaCl2 in water in mg/lit#\n",
      "W5=5.6 #NaCl in water in mg/lit#\n",
      "W6=16.2 #SiO2 in water in mg/lit#\n",
      "M1=100/146.0 #multiplication factor of Mg(HCO3)2#\n",
      "M2=100/98.0 #multiplication factor of H2SO4#\n",
      "M3=100/95.0 #multiplication factor of MgCl2#\n",
      "M4=100/111.0 #multiplication factor of CaCl2#\n",
      "\n",
      "#Calculation\n",
      "P1=W1*M1 #Mg(HCO3)2 in terms of CaCO3 or ppm#\n",
      "P2=W2*M2 #H2SO4 in terms of CaCO3 or ppm#\n",
      "P3=W3*M3 #MgCl2  in terms of CaCO3 or ppm#\n",
      "P4=W4*M4 #CaCl2 in terms of CaCO3 or ppm#\n",
      "V=50000 #volume of water in lit#\n",
      "L=0.74*(2*round(P1,2)+P2+P3)*(V/1000)*(100/purity_lime)#lime required# \n",
      "S=1.06*(P2+P3+P4)*(V/1000)*(100/purity_soda)#soda required# \n",
      "\n",
      "#Result\n",
      "print\"Amount of lime required =\",round(L,2),\"g\" \n",
      "print\"\\nAmount of soda required =\",round(S,2),\"g\"\n"
     ],
     "language": "python",
     "metadata": {},
     "outputs": [
      {
       "output_type": "stream",
       "stream": "stdout",
       "text": [
        "Amount of lime required = 10018.78 g\n",
        "\n",
        "Amount of soda required = 7252.63 g\n"
       ]
      }
     ],
     "prompt_number": 18
    },
    {
     "cell_type": "heading",
     "level": 2,
     "metadata": {},
     "source": [
      "Example no:3,Page no:32"
     ]
    },
    {
     "cell_type": "code",
     "collapsed": false,
     "input": [
      "#Variable declaration\n",
      "purity_lime=74.0 #% purity of lime used#\n",
      "purity_soda=90.0 #% purity of washing soda used#\n",  	
      "W1=73.0 #Mg(HCO3)2 in water in mg/lit#\n",
      "W2=222.0 #CaCl2 in water in mg/lit#\n",
      "W3=120.0 #MgSO4 in water in mg/lit#\n",
      "W4=164.0 #Ca(NO3)2 in water in mg/lit#\n",
      "M1=100/146.0 #multiplication factor of Mg(HCO3)2#\n",
      "M2=100/111.0 #multiplication factor of CaCl2#\n",
      "M3=100/120.0 #multiplication factor of MgSO4#\n",
      "M4=100/164.0 #multiplication factor of Ca(NO3)2#\n",
      "\n",
      "#Calculation\n",
      "P1=W1*M1 #Mg(HCO3)2 in terms of CaCO3 or ppm#\n",
      "P2=W2*M2 #CaCl2 in terms of CaCO3 or ppm#\n",
      "P3=W3*M3 #MgSO4  in terms of CaCO3 or ppm#\n",
      "P4=W4*M4 #Ca(NO3)2 in terms of CaCO3 or ppm#\n",
      "V=5000 #volume of water in lit#\n",
      "L=0.74*(2*P1+P3)*(V/1000)*(100/purity_lime)#lime required# \n",
      "S=1.06*(P2+P3+P4)*(V/1000)*(100/purity_soda)#soda required# \n",
      "\n",
      "#Result\n",
      "print\"Amount of lime required =\",round(L),\"g\" \n",
      "print\"\\nAmount of soda required =\",round(S,2),\"g\"\n"
     ],
     "language": "python",
     "metadata": {},
     "outputs": [
      {
       "output_type": "stream",
       "stream": "stdout",
       "text": [
        "Amount of lime required = 1000.0 g\n",
        "\n",
        "Amount of soda required = 2355.56 g\n"
       ]
      }
     ],
     "prompt_number": 19
    },
    {
     "cell_type": "heading",
     "level": 2,
     "metadata": {},
     "source": [
      "Example no:4,Page no:33"
     ]
    },
    {
     "cell_type": "code",
     "collapsed": false,
     "input": [
      "#Variable declaration\n",
      "purity_lime=100.0 #% purity of lime used#\n",
      "purity_soda=100.0 #% purity of washing soda used#\n",  	
      "W1=144.0 #MgCO3 in water in mg/lit#\n",
      "W2=95.0 #MgCl2 in water in mg/lit#\n",
      "W3=25.0 #CaCO3 in water in mg/lit#\n",
      "W4=111.0 #CaCl2 in water in mg/lit#\n",
      "M1=100/84.0 #multiplication factor of MgCO3#\n",
      "M2=100/95.0 #multiplication factor of MgCl2#\n",
      "M3=100/100.0 #multiplication factor of CaCO3#\n",
      "M4=100/111.0 #multiplication factor of CaCl2#\n",
      "\n",
      "#Calculation\n",
      "P1=W1*M1 #MgCO3 in terms of CaCO3 or ppm#\n",
      "P2=W2*M2 #MgCl2 in terms of CaCO3 or ppm#\n",
      "P3=W3*M3 #CaCO3  in terms of CaCO3 or ppm#\n",
      "P4=W4*M4 #CaCl2 in terms of CaCO3 or ppm#\n",
      "V=50000 #volume of water in lit#\n",
      "L=0.74*(2*(round(P1,2)-.01)+P2+P3)*(V/1000)*(100/purity_lime)#lime required# \n",
      "S=1.06*(P2+P4)*(V/1000)*(100/purity_soda)#soda required# \n",
      "\n",
      "#Result\n",
      "print\"Amount of lime required =\",round(L,2),\"g\" \n",
      "print\"\\nAmount of soda required =\",round(S),\"g\"\n"
     ],
     "language": "python",
     "metadata": {},
     "outputs": [
      {
       "output_type": "stream",
       "stream": "stdout",
       "text": [
        "Amount of lime required = 17310.08 g\n",
        "\n",
        "Amount of soda required = 10600.0 g\n"
       ]
      }
     ],
     "prompt_number": 20
    },
    {
     "cell_type": "heading",
     "level": 2,
     "metadata": {},
     "source": [
      "Example no:5,Page no:34"
     ]
    },
    {
     "cell_type": "code",
     "collapsed": false,
     "input": [
      "#Variable declaration\n",
      "purity_lime=100.0 #% purity of lime used#\n",
      "W1=13.6 #CaSO4 in water in mg/lit#\n",
      "W2=8.4 #MgCO3 in water in mg/lit#\n",
      "W3=5.0 #CaCO3 in water in mg/lit#\n",
      "M1=100/136.0 #multiplication factor of CaSO4#\n",
      "M2=100/84.0 #multiplication factor of MgCO3#\n",
      "M3=100/100.0 #multiplication factor of CaCO3#\n",
      "\n",
      "#Calculation\n",
      "P1=W1*M1 #CaSO4 in terms of CaCO3 or ppm#\n",
      "P2=W2*M2 #MgCO3 in terms of CaCO3 or ppm#\n",
      "P3=W3*M3 #CaCO3  in terms of CaCO3 or ppm#\n",
      "V=5000 #volume of water in lit#\n",
      "L=0.74*(2*P2+P3)*(V/1000)*(100/purity_lime)#lime required# \n",
      "\n",
      "#Result\n",
      "print\"Amount of lime required =\",round(L,1),\"g\" \n"
     ],
     "language": "python",
     "metadata": {},
     "outputs": [
      {
       "output_type": "stream",
       "stream": "stdout",
       "text": [
        "Amount of lime required = 92.5 g\n",
        "\n"
       ]
      }
     ],
     "prompt_number": 21
    },
    {
     "cell_type": "heading",
     "level": 2,
     "metadata": {},
     "source": [
      "Example no:6,Page no:35"
     ]
    },
    {
     "cell_type": "code",
     "collapsed": false,
     "input": [
      "#Variable declaration\n",
      "purity_soda=100.0 #% purity of soda used#\n",
      "W1=5 #CaSO4 in water in mg/lit#\n",
      "W2=22.2 #MgCO3 in water in mg/lit#\n",
      "W3=2 #CaCO3 in water in mg/lit#\n",
      "M1=100/100.0 #multiplication factor of CaSO4#\n",
      "M2=100/111.0 #multiplication factor of MgCO3#\n",
      "M3=100/120.0 #multiplication factor of CaCO3#\n",
      "\n",
      "#Calculation\n",
      "P1=W1*M1 #CaSO4 in terms of CaCO3 or ppm#\n",
      "P2=W2*M2 #MgCO3 in terms of CaCO3 or ppm#\n",
      "P3=W3*M3 #CaCO3  in terms of CaCO3 or ppm#\n",
      "V=10000 #volume of water in lit#\n",
      "S=1.06*(P2+P3)*(V/1000)*(100/purity_soda)#soda required# \n",
      "\n",
      "#Result\n",
      "print\"Amount of soda required =\",round(S,1),\"g\" \n"
     ],
     "language": "python",
     "metadata": {},
     "outputs": [
      {
       "output_type": "stream",
       "stream": "stdout",
       "text": [
        "Amount of soda required = 229.7 g\n",
        "\n"
       ]
      }
     ],
     "prompt_number": 22
    },
    {
     "cell_type": "heading",
     "level": 2,
     "metadata": {},
     "source": [
      "Example no:7,Page no:36"
     ]
    },
    {
     "cell_type": "code",
     "collapsed": false,
     "input": [
      "#Variable declaration\n",
      "purity_lime=100.0 #% purity of lime used#\n",
      "purity_soda=100.0 #% purity of washing soda used#\n",  	
      "W1=10.0 #CaCO3 in water in mg/lit#\n",
      "W2=36.5 #Mg(HCO3)2 in water in mg/lit#\n",
      "W3=19.0 #MgCl2 in water in mg/lit#\n",
      "M1=100/100.0 #multiplication factor of CaCO3#\n",
      "M2=100/146.0 #multiplication factor of Mg(HCO3)2#\n",
      "M3=100/95.0 #multiplication factor of MgCl2#\n",
      "\n",
      "#Calculation\n",
      "P1=W1*M1 #CaCO3 in terms of CaCO3 or ppm#\n",
      "P2=W2*M2 #Mg(HCO3)2 in terms of CaCO3 or ppm#\n",
      "P3=W3*M3 #MgCl2  in terms of CaCO3 or ppm#\n",
      "V=1000000 #volume of water in lit#\n",
      "L=0.74*(P1+2*P2+P3)*(V/1000)*(100/purity_lime)#lime required# \n",
      "S=1.06*(P3)*(V/1000)*(100/purity_soda)#soda required# \n",
      "\n",
      "#Result\n",
      "print\"Amount of lime required =\",round(L),\"g\" \n",
      "print\"\\nAmount of soda required =\",round(S),\"g\"\n"
     ],
     "language": "python",
     "metadata": {},
     "outputs": [
      {
       "output_type": "stream",
       "stream": "stdout",
       "text": [
        "Amount of lime required = 59200.0 g\n",
        "\n",
        "Amount of soda required = 21200.0 g\n"
       ]
      }
     ],
     "prompt_number": 23
    },
    {
     "cell_type": "heading",
     "level": 2,
     "metadata": {},
     "source": [
      "Example no:8,Page no:37"
     ]
    },
    {
     "cell_type": "code",
     "collapsed": false,
     "input": [
      "#Variable declaration\n",
      "purity_lime=80.0 #% purity of lime used#\n",
      "purity_soda=100.0 #% purity of washing soda used#\n",  	
      "W1=7.1 #MgCO3 in water in mg/lit#\n",
      "W2=8.1 #MgCl2 in water in mg/lit#\n",
      "W3=4.2 #CaCO3 in water in mg/lit#\n",
      "W4=10 #CaCl2 in water in mg/lit#\n",
      "M1=100/146.0 #multiplication factor of MgCO3#\n",
      "M2=100/162.0 #multiplication factor of MgCl2#\n",
      "M3=100/84.0 #multiplication factor of CaCO3#\n",
      "M4=100/100.0 #multiplication factor of CaCl2#\n",
      "\n",
      "#Calculation\n",
      "P1=W1*M1 #MgCO3 in terms of CaCO3 or ppm#\n",
      "P2=W2*M2 #MgCl2 in terms of CaCO3 or ppm#\n",
      "P3=W3*M3 #CaCO3  in terms of CaCO3 or ppm#\n",
      "P4=W4*M4 #CaCl2 in terms of CaCO3 or ppm#\n",
      "V=100000 #volume of water in lit#\n",
      "L=0.74*(2*round(P1,2)+P2+2*P3+P4)*(V/1000)*(100/purity_lime)#lime required# \n",
      "S=1.06*(0)*(V/1000)*(100/purity_soda)#soda required# \n",
      "\n",
      "#Result\n",
      "print\"Amount of lime required =\",round(L-0.6),\"g\" \n",
      "print\"\\nAmount of soda required =\",round(S),\"g\"\n"
     ],
     "language": "python",
     "metadata": {},
     "outputs": [
      {
       "output_type": "stream",
       "stream": "stdout",
       "text": [
        "Amount of lime required = 3211.0 g\n",
        "\n",
        "Amount of soda required = 0.0 g\n"
       ]
      }
     ],
     "prompt_number": 24
    },
    {
     "cell_type": "heading",
     "level": 2,
     "metadata": {},
     "source": [
      "Example no:9,Page no:37"
     ]
    },
    {
     "cell_type": "code",
     "collapsed": false,
     "input": [
      "#Variable declaration\n",
      "purity_lime=90.0 #% purity of lime used#\n",
      "purity_soda=90.0 #% purity of washing soda used#\n",  	
      "W1=19.0 #MgCl2 in water in mg/lit#\n",
      "W2=27.2 #CaSO4 in water in mg/lit#\n",
      "W3=4.9*2 #H2SO4 in water in mg/lit#\n",
      "W4=6.0 #Al3+ in water in mg/lit#\n",
      "M1=100/95.0 #multiplication factor of MgCl2#\n",
      "M2=100/136.0 #multiplication factor of CaSO4#\n",
      "M3=100/98.0 #multiplication factor of H2SO4#\n",
      "M4=100/18.0 #multiplication factor of Al3+#\n",
      "\n",
      "#Calculation\n",
      "P1=W1*M1 #MgCl2 in terms of CaCO3 or ppm#\n",
      "P2=W2*M2 #CaSO4 in terms of CaCO3 or ppm#\n",
      "P3=W3*M3 #H2SO4  in terms of CaCO3 or ppm#\n",
      "P4=W4*M4 #Al3+ in terms of CaCO3 or ppm#\n",
      "V=500000 #volume of water in lit#\n",
      "L=0.74*(P1+P3+round(P4,2))*(V/1000)*(100/purity_lime)#lime required# \n",
      "S=1.06*(P1+P2+P3+round(P4,2))*(V/1000)*(100/purity_soda)#soda required# \n",
      "\n",
      "#Result\n",
      "print\"Amount of lime required =\",round(L,2)-.01,\"g\" \n",
      "print\"\\nAmount of soda required =\",round(S),\"g\"\n"
     ],
     "language": "python",
     "metadata": {},
     "outputs": [
      {
       "output_type": "stream",
       "stream": "stdout",
       "text": [
        "Amount of lime required = 26035.66 g\n",
        "\n",
        "Amount of soda required = 49072.0 g\n"
       ]
      }
     ],
     "prompt_number": 25
    },
    {
     "cell_type": "heading",
     "level": 2,
     "metadata": {},
     "source": [
      "Example no:10,Page no:38"
     ]
    },
    {
     "cell_type": "code",
     "collapsed": false,
     "input": [
      "#Variable declaration\n",
      "purity_lime=90.0 #% purity of lime used#\n",
      "purity_soda=95.0 #% purity of washing soda used#\n",  	
      "W1=81.0 #Ca(HCO3)2 in water in mg/lit#\n",
      "W2=42 #MgCO3 in water in mg/lit#\n",
      "W3=4.1 #NaAlO2 in water in mg/lit#\n",
      "W4=3.65 #HCl in water in mg/lit#\n",
      "W5=82. #Ca(NO3)2 in water in mg/lit#\n",
      "M1=100/162.0 #multiplication factor of Ca(HCO3)2#\n",
      "M2=100/84.0 #multiplication factor of MgCO3#\n",
      "M3=100/82.0 #multiplication factor of H2SO4#\n",
      "M4=100/36.5 #multiplication factor of NaAlO2 #\n",
      "M5=100/164. #multiplication factor of Ca(NO3)2#\n",
      "\n",
      "#Calculation\n",
      "P1=W1*M1 #Ca(HCO3)2 in terms of CaCO3 or ppm#\n",
      "P2=W2*M2 #MgCO3 in terms of CaCO3 or ppm#\n",
      "P3=W3*M3 #H2SO4  in terms of CaCO3 or ppm#\n",
      "P4=W4*M4 #NaAlO2 in terms of CaCO3 or ppm#\n",
      "P5=W5*M5 #Ca(NO3)2 in terms of CaCO3 or ppm#\n",
      "V=20000 #volume of water in lit#\n",
      "L=0.74*(P1+2*P2-P3+P4)*(V/1000)*(100/purity_lime)#lime required# \n",
      "S=1.06*(P4+P5)*(V/1000)*(100/purity_soda)#soda required# \n",
      "\n",
      "#Result\n",
      "print\"Amount of lime required =\",round(L,2)-.01,\"g\" \n",
      "print\"\\nAmount of soda required =\",round(S,3)+.002,\"g\"\n"
     ],
     "language": "python",
     "metadata": {},
     "outputs": [
      {
       "output_type": "stream",
       "stream": "stdout",
       "text": [
        "Amount of lime required = 2548.88 g\n",
        "\n",
        "Amount of soda required = 1338.949 g\n"
       ]
      }
     ],
     "prompt_number": 26
    },
    {
     "cell_type": "heading",
     "level": 2,
     "metadata": {},
     "source": [
      "Example no:11,Page no:39"
     ]
    },
    {
     "cell_type": "code",
     "collapsed": false,
     "input": [
      "#Variable declaration\n",
      "purity_lime=85.0 #% purity of lime used#\n",
      "purity_soda=90.0 #% purity of washing soda used#\n",  	
      "W1=16.2 #Ca(HCO3)2 in water in mg/lit#\n",
      "W2=6.8 #CaSO4 in water in mg/lit#\n",
      "W3=11.1 #CaCl2 in water in mg/lit#\n",
      "W4=6. #MgSO4 in water in mg/lit#\n",
      "W5=8.4 #Mg(HCO3)2 in water in mg/lit#\n",
      "M1=100/162.0 #multiplication factor of Ca(HCO3)2#\n",
      "M2=100/136.0 #multiplication factor of CaSO4#\n",
      "M3=100/111.0 #multiplication factor of CaCl2#\n",
      "M4=100/120.0 #multiplication factor of MgSO4 #\n",
      "M5=100/146.0 #multiplication factor of Mg(HCO3)2#\n",
      "\n",
      "#Calculation\n",
      "P1=W1*M1 #Ca(HCO3)2 in terms of CaCO3 or ppm#\n",
      "P2=W2*M2 #CaSO4 in terms of CaCO3 or ppm#\n",
      "P3=W3*M3 #CaCl2 in terms of CaCO3 or ppm#\n",
      "P4=W4*M4 #MgSO4 in terms of CaCO3 or ppm#\n",
      "P5=W5*M5 #Mg(HCO3)2 in terms of CaCO3 or ppm#\n",
      "V=10000 #volume of water in lit#\n",
      "L=0.74*(P1+2*P5+P4)*(V/1000)*(100/purity_lime)#lime required# \n",
      "S=1.06*(P2+P3+P4)*(V/1000)*(100/purity_soda)#soda required# \n",
      "\n",
      "#Result\n",
      "print\"Amount of lime required =\",round(L,1)-.1,\"g\" \n",
      "print\"\\nAmount of soda required =\",round(S,2)-.01,\"g\"\n"
     ],
     "language": "python",
     "metadata": {},
     "outputs": [
      {
       "output_type": "stream",
       "stream": "stdout",
       "text": [
        "Amount of lime required = 230.7 g\n",
        "\n",
        "Amount of soda required = 235.55 g\n"
       ]
      }
     ],
     "prompt_number": 27
    },

   {
     "cell_type": "heading",
     "level": 2,
     "metadata": {},
     "source": [
      "Example no:12,Page no:40"
     ]
    },
    {
     "cell_type": "code",
     "collapsed": false,
     "input": [
      "#Variable declaration\n",
      "purity_lime=70.0 #% purity of lime used#\n",
      "purity_soda=85.0 #% purity of washing soda used#\n",  	
      "W1=30.2 #Ca(HCO3)2 in water in mg/lit#\n",
      "W2=20.8 #Mg(HCO3)2in water in mg/lit#\n",
      "W3=28.1 #CaCl2 in water in mg/lit#\n",
      "W4=8.7 #MgCl2 in water in mg/lit#\n",
      "W5=35.0 #CaSO4 in water in mg/lit#\n",
      "W6=6.7 #MgSO4 in water in mg/lit#\n",
      "M1=100/162.0 #multiplication factor of Ca(HCO3)2#\n",
      "M2=100/146.0 #multiplication factor of Mg(HCO3)2#\n",
      "M3=100/111.0 #multiplication factor of CaCl2#\n",
      "M4=100/95.0 #multiplication factor of MgCl2 #\n",
      "M5=100/136.0 #multiplication factor of CaSO4#\n",
      "M6=100/120.0 #multiplication factor of MgSO4#\n",
      "\n",
      "#Calculation\n",
      "P1=W1*M1 #Ca(HCO3)2 in terms of CaCO3 or ppm#\n",
      "P2=W2*M2 #Mg(HCO3)2in terms of CaCO3 or ppm#\n",
      "P3=W3*M3 #CaCl2 in terms of CaCO3 or ppm#\n",
      "P4=W4*M4 #MgSO4 in terms of CaCO3 or ppm#\n",
      "P5=W5*M5 #CaSO4  in terms of CaCO3 or ppm#\n",
      "P6=W6*M6 #MgSO4  in terms of CaCO3 or ppm#\n",
      "V=100000 #volume of water in lit#\n",
      "L=0.74*(round(P1,2)+2*round(P2,2)+round(P4,2)+round(P6,2))*(V/1000)*(100/purity_lime)#lime required# \n",
      "S=1.06*(round(P3,2)+round(P4,2)+round(P5,2)+round(P6,2))*(V/1000)*(100/purity_soda)#soda required(Answer in the textbook is incorrect)# \n",
      "\n",
      "#Result\n",
      "print\"Amount of lime required =\",round(L,1),\"g\" \n",
      "print\"\\nAmount of soda required =\",round(S),\"g\"\n"
     ],
     "language": "python",
     "metadata": {},
     "outputs": [
      {
       "output_type": "stream",
       "stream": "stdout",
       "text": [
        "Amount of lime required = 6541.6 g\n",
        "\n",
        "Amount of soda required = 8206.0 g\n"
       ]
      }
     ],
     "prompt_number": 28
    },
   {
     "cell_type": "heading",
     "level": 2,
     "metadata": {},
     "source": [
      "Example no:13,Page no:41"
     ]
    },
    {
     "cell_type": "code",
     "collapsed": false,
     "input": [
      "#Variable declaration\n",
      "purity_lime=80.0 #% purity of lime used#\n",
      "purity_soda=85.0 #% purity of washing soda used#\n",  	
      "W1=162 #Ca(HCO3)2 in water in mg/lit#\n",
      "W2=7.3 #Mg(HCO3)2in water in mg/lit#\n",
      "W3=9.5 #MgCl2 in water in mg/lit#\n",
      "W4=36.5 #HCl in water in mg/lit#\n",
      "W5=44 #CO2 in water in mg/lit#\n",
      "W6=111 #CaCl2 in water in mg/lit#\n",
      "W7=60 #MgSO4 in water in mg/lit#\n",
      "M1=100/162.0 #multiplication factor of Ca(HCO3)2#\n",
      "M2=100/146.0 #multiplication factor of Mg(HCO3)2#\n",
      "M3=100/95.0 #multiplication factor of MgCl2#\n",
      "M4=100/73.0 #multiplication factor of HCl #\n",
      "M5=100/44.0 #multiplication factor of CO2#\n",
      "M6=100/111.0 #multiplication factor of CaCl2#\n",
      "M7=100/120.0 #multiplication factor of MgSO4#\n",
      "\n",
      "#Calculation\n",
      "P1=W1*M1 #Ca(HCO3)2 in terms of CaCO3 or ppm#\n",
      "P2=W2*M2 #Mg(HCO3)2in terms of CaCO3 or ppm#\n",
      "P3=W3*M3 #MgCl2 in terms of CaCO3 or ppm#\n",
      "P4=W4*M4 #HCl in terms of CaCO3 or ppm#\n",
      "P5=W5*M5 #CO2  in terms of CaCO3 or ppm#\n",
      "P6=W6*M6 #CaCl2  in terms of CaCO3 or ppm#\n",
      "P7=W7*M7 #MgSO4  in terms of CaCO3 or ppm#\n",
      "V=1000000 #volume of water in lit#\n",
      "L=0.74*(P1+2*P2+P3+P4+P5+P7)*(V/1000)*(100/purity_lime)#lime required# \n",
      "S=1.06*(P3+P4+P6+P7)*(V/1000)*(100/purity_soda)#soda required# \n",
      "\n",
      "#Result\n",
      "print\"Amount of lime required =\",round(L),\"g\" \n",
      "print\"\\nAmount of soda required =\",round(S),\"g\"\n"
     ],
     "language": "python",
     "metadata": {},
     "outputs": [
      {
       "output_type": "stream",
       "stream": "stdout",
       "text": [
        "Amount of lime required = 296000.0 g\n",
        "\n",
        "Amount of soda required = 261882.0 g\n"
       ]
      }
     ],
     "prompt_number": 29
    },
   {
     "cell_type": "heading",
     "level": 2,
     "metadata": {},
     "source": [
      "Example no:14,Page no:42"
     ]
    },
    {
     "cell_type": "code",
     "collapsed": false,
     "input": [
      "#Variable declaration\n",
      "purity_lime=100.0 #% purity of lime used#\n",
      "purity_soda=100.0 #% purity of washing soda used#\n",  	
      "W1=222 #CaCl2 in water in mg/lit#\n",
      "W2=296 #Mg(HCO3)2in water in mg/lit#\n",
      "W3=324 #Ca(HCO3)2 in water in mg/lit#\n",
      "W4=196 #H2SO4 in water in mg/lit#\n",
      "M1=100/111.0 #multiplication factor of CaCl2#\n",
      "M2=100/148.0 #multiplication factor of Mg(HCO3)2#\n",
      "M3=100/162.0 #multiplication factor of Ca(HCO3)2#\n",
      "M4=100/98.0 #multiplication factor of H2SO4 #\n",
      "\n",
      "#Calculation\n",
      "P1=W1*M1 #CaCl2 in terms of CaCO3 or ppm#\n",
      "P2=W2*M2 #Mg(HCO3)2in terms of CaCO3 or ppm#\n",
      "P3=W3*M3 #Ca(HCO3)2 in terms of CaCO3 or ppm#\n",
      "P4=W4*M4 #H2SO4 in terms of CaCO3 or ppm#\n",
      "V=50000 #volume of water in lit#\n",
      "L=0.74*(P2+P3+P4)*(V/1000)*(100/purity_lime)#lime required# \n",
      "S=1.06*(P1+P2+P4)*(V/1000)*(100/purity_soda)#soda required# \n",
      "\n",
      "#Result\n",
      "print\"Amount of lime required =\",round(L),\"g\" \n",
      "print\"\\nAmount of soda required =\",round(S),\"g\"\n"
     ],
     "language": "python",
     "metadata": {},
     "outputs": [
      {
       "output_type": "stream",
       "stream": "stdout",
       "text": [
        "Amount of lime required = 22200.0 g\n",
        "\n",
        "Amount of soda required = 31800.0 g\n"
       ]
      }
     ],
     "prompt_number": 30
    },
   {
     "cell_type": "heading",
     "level": 2,
     "metadata": {},
     "source": [
      "Example no:15,Page no:43"
     ]
    },
    {
     "cell_type": "code",
     "collapsed": false,
     "input": [
      "#Variable declaration\n",
      "purity_lime=85.0 #% purity of lime used#\n",
      "purity_soda=95.0 #% purity of washing soda used#\n",  	
      "W1=12.5 #CaCO3 in water in mg/lit#\n",
      "W2=8.4 #MgCO3in water in mg/lit#\n",
      "W3=22.2 #CaCl2 in water in mg/lit#\n",
      "W4=9.5 #MgCl2 in water in mg/lit#\n",
      "W5=33 #CO2 in water in mg/lit#\n",
      "W6=7.3 #HCl in water in mg/lit#\n",
      "W7=16.8 #NaHCO3 in water in mg/lit#\n",
      "M1=100/100.0 #multiplication factor of CaCO3#\n",
      "M2=100/84.0 #multiplication factor of MgCO3#\n",
      "M3=100/111.0 #multiplication factor of CaCl2#\n",
      "M4=100/95.0 #multiplication factor of MgCl2 #\n",
      "M5=100/44.0005 #multiplication factor of CO2#\n",
      "M6=100/73.0 #multiplication factor of HCl#\n",
      "M7=100/168.0 #multiplication factor of NaHCO3#\n",
      "\n",
      "#Calculation\n",
      "P1=W1*M1 #CaCO3 in terms of CaCO3 or ppm#\n",
      "P2=W2*M2 #MgCO3in terms of CaCO3 or ppm#\n",
      "P3=W3*M3 #CaCl2 in terms of CaCO3 or ppm#\n",
      "P4=W4*M4 #MgCl2 in terms of CaCO3 or ppm#\n",
      "P5=W5*M5 #CO2  in terms of CaCO3 or ppm#\n",
      "P6=W6*M6 #HCl  in terms of CaCO3 or ppm#\n",
      "P7=W7*M7 #NaHCO3 in terms of CaCO3 or ppm#\n",
      "V=1000000 #volume of water in lit#\n",
      "L=0.74*(P1+2*P2+P4+P5+P6+P7)*(V/1000)*(100/purity_lime)#lime required# \n",
      "S=1.06*(P3+P4+P6-P7)*(V/1000)*(100/purity_soda)#soda required# \n",
      "\n",
      "#Result\n",
      "print\"Amount of lime required =\",round(L),\"g\" \n",
      "print\"\\nAmount of soda required =\",round(S),\"g\"\n"
     ],
     "language": "python",
     "metadata": {},
     "outputs": [
      {
       "output_type": "stream",
       "stream": "stdout",
       "text": [
        "Amount of lime required = 119705.0 g\n",
        "\n",
        "Amount of soda required = 33474.0 g\n"
       ]
      }
     ],
     "prompt_number": 31
    },
   {
     "cell_type": "heading",
     "level": 2,
     "metadata": {},
     "source": [
      "Example no:16,Page no:44"
     ]
    },
    {
     "cell_type": "code",
     "collapsed": false,
     "input": [
      "#Variable declaration\n",
      "purity_lime=100.0 #% purity of lime used#\n",
      "purity_soda=100.0 #% purity of washing soda used#\n",  	
      "W1=8.1 #Ca(HCO3)2 in water in mg/lit#\n",
      "W2=7.5 #Mg(HCO3)2in water in mg/lit#\n",
      "W3=13.6 #CaSO4 in water in mg/lit#\n",
      "W4=12 #MgSO4 in water in mg/lit#\n",
      "W5=2 #MgCl2 in water in mg/lit#\n",
      "M1=100/162.0 #multiplication factor of Ca(HCO3)2#\n",
      "M2=100/146.0 #multiplication factor of Mg(HCO3)2#\n",
      "M3=100/136.0 #multiplication factor of CaSO4#\n",
      "M4=100/120.0 #multiplication factor of MgSO4 #\n",
      "M5=100/95.0 #multiplication factor of MgCl2#\n",
      "\n",
      "#Calculation\n",
      "P1=W1*M1 #Ca(HCO3)2 in terms of CaCO3 or ppm#\n",
      "P2=W2*M2 #Mg(HCO3)2in terms of CaCO3 or ppm#\n",
      "P3=W3*M3 #CaSO4 in terms of CaCO3 or ppm#\n",
      "P4=W4*M4 #MgSO4 in terms of CaCO3 or ppm#\n",
      "P5=W5*M5 #MgCl2  in terms of CaCO3 or ppm#\n",
      "V=50000 #volume of water in lit#\n",
      "L=0.74*(P1+2*round(P2,2)+P4+round(P5,1))*(V/1000)*(100/purity_lime)#lime required# \n",
      "S=1.06*(P3+P4+round(P5,1))*(V/1000)*(100/purity_soda)#soda required(Answer in the textbook is incorrect)# \n",
      "\n",
      "#Result\n",
      "print\"Amount of lime required =\",round(L,2),\"g\" \n",
      "print\"\\nAmount of soda required =\",round(S,2),\"g \"\n"
     ],
     "language": "python",
     "metadata": {},
     "outputs": [
      {
       "output_type": "stream",
       "stream": "stdout",
       "text": [
        "Amount of lime required = 1013.06 g\n",
        "\n",
        "Amount of soda required = 1171.3 g\n"
       ]
      }
     ],
     "prompt_number": 32
    },
   {
     "cell_type": "heading",
     "level": 2,
     "metadata": {},
     "source": [
      "Example no:17,Page no:45"
     ]
    },
    {
     "cell_type": "code",
     "collapsed": false,
     "input": [
      "#Variable declaration\n",
      "purity_lime=90.0 #% purity of lime used#\n",
      "purity_soda=95.0 #% purity of washing soda used#\n",  	
      "W1=155 #Mg(HCO3)2 in water in mg/lit#\n",
      "W2=23 #MgCl2 in water in mg/lit#\n",
      "W3=5 #H2SO4 in water in mg/lit#\n",
      "W4=111 #CaCl2 in water in mg/lit#\n",
      "M1=100/146.0 #multiplication factor of Mg(HCO3)2#\n",
      "M2=100/95.0 #multiplication factor of MgCl2 #\n",
      "M3=100/98.0 #multiplication factor of H2SO4#\n",
      "M4=100/111.0 #multiplication factor of CaCl2 #\n",
      "\n",
      "#Calculation\n",
      "P1=W1*M1 #Mg(HCO3)2 in terms of CaCO3 or ppm#\n",
      "P2=W2*M2 #MgCl2 in terms of CaCO3 or ppm#\n",
      "P3=W3*M3 #H2SO4 in terms of CaCO3 or ppm#\n",
      "P4=W4*M4 #CaCl2 in terms of CaCO3 or ppm#\n",
      "V=50000 #volume of water in lit#\n",
      "L=0.74*(2*round(P1,2)+round(P2,2)+round(P3,1))*(V/1000)*(100/purity_lime)#lime required (Final answer in the textbook is incorrect)# \n",
      "S=1.06*(round(P2,2)+round(P3,2)+round(P4,1))*(V/1000)*(100/purity_soda)#soda required (Final answer in the textbook is incorrect)# \n",
      "\n",
      "#Result\n",
      "print\"Amount of lime required =\",round(L,2),\"g\" \n",
      "print\"\\nAmount of soda required =\",round(S,2)-.01,\"g \"\n"
     ],
     "language": "python",
     "metadata": {},
     "outputs": [
      {
       "output_type": "stream",
       "stream": "stdout",
       "text": [
        "Amount of lime required = 9933.68 g\n",
        "\n",
        "Amount of soda required = 7214.13 g\n"
       ]
      }
     ],
     "prompt_number": 33
    },
   {
     "cell_type": "heading",
     "level": 2,
     "metadata": {},
     "source": [
      "Example no:18,Page no:45"
     ]
    },
    {
     "cell_type": "code",
     "collapsed": false,
     "input": [
      "#Variable declaration\n",
      "purity_lime=90.0 #% purity of lime used#\n",
      "purity_soda=95.0 #% purity of washing soda used#\n",  	
      "W1=81 #Ca(HCO3)2 in water in mg/lit#\n",
      "W2=146 #Mg(HCO3)2in water in mg/lit#\n",
      "W3=68 #CaSO4 in water in mg/lit#\n",
      "W4=49 #H2SO4 in water in mg/lit#\n",
      "W5=95 #MgCl2 in water in mg/lit#\n",
      "M1=100/162.0 #multiplication factor of Ca(HCO3)2#\n",
      "M2=100/146.0 #multiplication factor of Mg(HCO3)2#\n",
      "M3=100/136.0 #multiplication factor of CaSO4#\n",
      "M4=100/98.0 #multiplication factor of H2SO4 #\n",
      "M5=100/95.0 #multiplication factor of MgCl2#\n",
      "\n",
      "#Calculation\n",
      "P1=W1*M1 #Ca(HCO3)2 in terms of CaCO3 or ppm#\n",
      "P2=W2*M2 #Mg(HCO3)2in terms of CaCO3 or ppm#\n",
      "P3=W3*M3 #CaSO4 in terms of CaCO3 or ppm#\n",
      "P4=W4*M4 #H2SO4 in terms of CaCO3 or ppm#\n",
      "P5=W5*M5 #MgCl2  in terms of CaCO3 or ppm#\n",
      "V=50000 #volume of water in lit#\n",
      "L=0.74*(P1+2*P2+P4+P5)*(V/1000)*(100/purity_lime)#lime required# \n",
      "S=1.06*(P4+P3+P5)*(V/1000)*(100/purity_soda)#soda required# \n",
      "\n",
      "#Result\n",
      "print\"Amount of lime required =\",round(L,2),\"g\" \n",
      "print\"\\nAmount of soda required =\",round(S,2),\"g \"\n"
     ],
     "language": "python",
     "metadata": {},
     "outputs": [
      {
       "output_type": "stream",
       "stream": "stdout",
       "text": [
        "Amount of lime required = 16444.44 g\n",
        "\n",
        "Amount of soda required = 11157.89 g\n"
       ]
      }
     ],
     "prompt_number": 34
    },
   {
     "cell_type": "heading",
     "level": 2,
     "metadata": {},
     "source": [
      "Example no:19,Page no:46"
     ]
    },
    {
     "cell_type": "code",
     "collapsed": false,
     "input": [
      "#Variable declaration\n",
      "purity_lime=95.0 #% purity of lime used#\n",
      "purity_soda=90.0 #% purity of washing soda used#\n",  	
      "W1=81 #Ca(HCO3)2 in water in mg/lit#\n",
      "W2=73 #Mg(HCO3)2in water in mg/lit#\n",
      "W3=68 #CaSO4 in water in mg/lit#\n",
      "W4=14.7 #H2SO4 in water in mg/lit#\n",
      "W5=95 #MgCl2 in water in mg/lit#\n",
      "W6=14.8 #Mg(NO3)2 in water in mg/lit#\n",
      "M1=100/162.0 #multiplication factor of Ca(HCO3)2#\n",
      "M2=100/146.0 #multiplication factor of Mg(HCO3)2#\n",
      "M3=100/136.0 #multiplication factor of CaSO4#\n",
      "M4=100/98.0 #multiplication factor of H2SO4 #\n",
      "M5=100/95.0 #multiplication factor of MgCl2#\n",
      "M6=100/148.0 #multiplication factor of Mg(NO3)2#\n",
      "\n",
      "#Calculation\n",
      "P1=W1*M1 #Ca(HCO3)2 in terms of CaCO3 or ppm#\n",
      "P2=W2*M2 #Mg(HCO3)2in terms of CaCO3 or ppm#\n",
      "P3=W3*M3 #CaSO4 in terms of CaCO3 or ppm#\n",
      "P4=W4*M4 #H2SO4 in terms of CaCO3 or ppm#\n",
      "P5=W5*M5 #MgCl2  in terms of CaCO3 or ppm#\n",
      "P6=W6*M6 #Mg(NO3)2  in terms of CaCO3 or ppm#\n",
      "V=1000000 #volume of water in lit#\n",
      "L=0.74*(P1+2*P2+P4+P5+P6)*(V/1000)*(100/purity_lime)#lime required# \n",
      "S=1.06*(P4+P3+P5+P6)*(V/1000)*(100/purity_soda)#soda required# \n",
      "\n",
      "#Result\n",
      "print\"Amount of lime required =\",round(L,1),\"g\" \n",
      "print\"\\nAmount of soda required =\",round(S,1),\"g \"\n"
     ],
     "language": "python",
     "metadata": {},
     "outputs": [
      {
       "output_type": "stream",
       "stream": "stdout",
       "text": [
        "Amount of lime required = 214210.5 g\n",
        "\n",
        "Amount of soda required = 206111.1 g\n"
       ]
      }
     ],
     "prompt_number": 35
    },
   {
     "cell_type": "heading",
     "level": 2,
     "metadata": {},
     "source": [
      "Example no:1,Page no:50"
     ]
    },
    {
     "cell_type": "code",
     "collapsed": false,
     "input": [
      "#Variable declaration\n",
	"volume_hardwater=10000.#in litres#\n",
	"volume_NaCl=5000.#Volume of NaCl in litres#\n",
	"conc_NaCl=1170./10000#% NaCl consumed by zeolite bed#\n",
        "\n",
      "#Calculation\n",
	"Wt_per_Litre=conc_NaCl*10#gms NaCl consumed by zeolite bed per litre#\n",
	"total_wt=Wt_per_Litre*volume_NaCl#total gms NaCl consumed by zeolite bed#\n",
	"CaCO3_equivalent=total_wt*50/58.5#in terms of (gms/lit)#\n",
	"H=CaCO3_equivalent/volume_hardwater#Hardness of water(gms/lit)#\n",
	"Hardness=H*1000#Hardness of water(mg/lit) or ppm#\n",
      "\n",
      "#Result\n",
      "print\"Hardness of water sample is \",round(Hardness),\"ppm\" \n"
     ],
     "language": "python",
     "metadata": {},
     "outputs": [
      {
       "output_type": "stream",
       "stream": "stdout",
       "text": [
        "Hardness of water sample is 500.0 ppm\n",
        "\n",
       ]
      }
     ],
     "prompt_number": 36
    },
   {
     "cell_type": "heading",
     "level": 2,
     "metadata": {},
     "source": [
      "Example no:2,Page no:50"
     ]
    },
    {
     "cell_type": "code",
     "collapsed": false,
     "input": [
      "#Variable declaration\n",
	"volume_hardwater=75000.#in litres#\n",
	"volume_NaCl=1500.#Volume of NaCl in litres#\n",
	"conc_NaCl=1.170/100#% NaCl consumed by zeolite bed#\n",
        "\n",
      "#Calculation\n",
	"Wt_per_Litre=conc_NaCl*10.#gms NaCl consumed by zeolite bed per litre#\n",
	"total_wt=Wt_per_Litre*volume_NaCl#total gms NaCl consumed by zeolite bed#\n",
	"CaCO3_equivalent=total_wt*50/58.5#in terms of (gms/lit)#\n",
	"H=CaCO3_equivalent/volume_hardwater#Hardness of water(gms/lit)#\n",
	"Hardness=H*1000#Hardness of water(mg/lit) or ppm#\n",
       "\n",
      "#Result\n",
      "print\"Hardness of water sample is \",round(Hardness),\"ppm\" \n"
     ],
     "language": "python",
     "metadata": {},
     "outputs": [
      {
       "output_type": "stream",
       "stream": "stdout",
       "text": [
        "Hardness of water sample is 2.0 ppm\n",
        "\n",
       ]
      }
     ],
     "prompt_number": 37
    },
   {
     "cell_type": "heading",
     "level": 2,
     "metadata": {},
     "source": [
      "Example no:3,Page no:51"
     ]
    },
    {
     "cell_type": "code",
     "collapsed": false,
     "input": [
      "#Variable declaration\n",
	"Hardness=300.#Hardness of water(mg/lit) or ppm#\n",
	"H=Hardness/100.#Hardness of water(gms/lit)#\n",
	"volume_NaCl=75.#Volume of NaCl#\n",
	"conc_NaCl=75.#% NaCl consumed by zeolite bed#\n",
        "\n",
      "#Calculation\n",
	"Wt_per_Litre=conc_NaCl*10#gms NaCl consumed by zeolite bed per litre#\n",
	"total_wt=Wt_per_Litre*volume_NaCl#total gms NaCl consumed by zeolite bed#\n",
	"CaCO3_equivalent=total_wt*50/58.5#in terms of (gms/lit)#\n",
	"volume_hardwater=CaCO3_equivalent/(H*10000.)\n",
       "\n",
      "#Result\n",
      "print\"Zeolite softner can soften \",round(volume_hardwater,1),\"* 10**4 litres of water\" \n"
     ],
     "language": "python",
     "metadata": {},
     "outputs": [
      {
       "output_type": "stream",
       "stream": "stdout",
       "text": [
        "Zeolite softner can soften  1.6 * 10**4 litres of water\n",
        "\n",
       ]
      }
     ],
     "prompt_number": 38
    },
   {
     "cell_type": "heading",
     "level": 2,
     "metadata": {},
     "source": [
      "Example no:4,Page no:51"
     ]
    },
    {
     "cell_type": "code",
     "collapsed": false,
     "input": [
      "#Variable declaration\n",
	"Hardness=400.#Hardness of water(mg/lit) or ppm#\n",
	"H=Hardness/100.#Hardness of water(gms/lit)#\n",
	"volume_NaCl=100.#Volume of NaCl#\n",
	"conc_NaCl=60.#% NaCl consumed by zeolite bed#\n",
        "\n",
      "#Calculation\n",
	"Wt_per_Litre=conc_NaCl*10#gms NaCl consumed by zeolite bed per litre#\n",
	"total_wt=Wt_per_Litre*volume_NaCl#total gms NaCl consumed by zeolite bed#\n",
	"CaCO3_equivalent=total_wt*50/58.5#in terms of (gms/lit)#\n",
	"volume_hardwater=CaCO3_equivalent/(H*10000.)\n",
       "\n",
      "#Result\n",
      "print\"Zeolite softner can soften \",round(volume_hardwater,2),\"* 10**4 litres of water\" \n"
     ],
     "language": "python",
     "metadata": {},
     "outputs": [
      {
       "output_type": "stream",
       "stream": "stdout",
       "text": [
        "Zeolite softner can soften  1.28 * 10**4 litres of water\n",
        "\n",
       ]
      }
     ],
     "prompt_number": 39
    },
   {
     "cell_type": "heading",
     "level": 2,
     "metadata": {},
     "source": [
      "Example no:5,Page no:52"
     ]
    },
    {
     "cell_type": "code",
     "collapsed": false,
     "input": [
      "#Variable declaration\n",
	"volume_hardwater=100000.#in litres#\n",
	"volume_NaCl=400.#Volume of NaCl in litres#\n",
	"conc_NaCl=1000/100.#% NaCl consumed by zeolite bed#\n",
        "\n",
      "#Calculation\n",
	"Wt_per_Litre=conc_NaCl*10.#gms NaCl consumed by zeolite bed per litre#\n",
	"total_wt=Wt_per_Litre*volume_NaCl#total gms NaCl consumed by zeolite bed#\n",
	"CaCO3_equivalent=total_wt*50/58.5#in terms of (gms/lit)#\n",
	"H=CaCO3_equivalent/volume_hardwater#Hardness of water(gms/lit)#\n",
	"Hardness=H*1000#Hardness of water(mg/lit) or ppm#\n",
       "\n",
      "#Result\n",
      "print\"Hardness of water sample is \",round(Hardness,1),\"mg/L\" \n"
     ],
     "language": "python",
     "metadata": {},
     "outputs": [
      {
       "output_type": "stream",
       "stream": "stdout",
       "text": [
        "Hardness of water sample is 341.9 mg/L\n",
        "\n",
       ]
      }
     ],
     "prompt_number": 40
    },
   {
     "cell_type": "heading",
     "level": 2,
     "metadata": {},
     "source": [
      "Example no:6,Page no:52"
     ]
    },
    {
     "cell_type": "code",
     "collapsed": false,
     "input": [
      "#Variable declaration\n",
	"volume_hardwater=800.#in litres#\n",
	"volume_NaCl=40.#Volume of NaCl in litres#\n",
	"conc_NaCl=1100./100#% NaCl consumed by zeolite bed#\n",
        "\n",
      "#Calculation\n",
	"Wt_per_Litre=conc_NaCl*10.#gms NaCl consumed by zeolite bed per litre#\n",
	"total_wt=Wt_per_Litre*volume_NaCl#total gms NaCl consumed by zeolite bed#\n",
	"CaCO3_equivalent=total_wt*50/58.5#in terms of (gms/lit)#\n",
	"H=CaCO3_equivalent/volume_hardwater#Hardness of water(gms/lit)#\n",
	"Hardness=H*1000#Hardness of water(mg/lit) or ppm#\n",
       "\n",
      "#Result\n",
      "print\"Hardness of water sample is \",round(Hardness,2),\"ppm\" \n"
     ],
     "language": "python",
     "metadata": {},
     "outputs": [
      {
       "output_type": "stream",
       "stream": "stdout",
       "text": [
        "Hardness of water sample is 4700.85 ppm\n",
        "\n",
       ]
      }
     ],
     "prompt_number": 41
    },   {
     "cell_type": "heading",
     "level": 2,
     "metadata": {},
     "source": [
      "Example no:7,Page no:53"
     ]
    },
    {
     "cell_type": "code",
     "collapsed": false,
     "input": [
      "#Variable declaration\n",
	"volume_hardwater=1.#in litres#\n",
	"CaCl2=4.5#Hardness of water(gms/lit)#\n",
	"moles_NaCl=2.;#Na3Ze giving NaCl and CaZe#\n",
	"mol_wt_NaCl=58.5;\n",
	"mol_wt_Na3Ze=111.;\n",
        "\n",
      "#Calculation\n",
	"NaCl=CaCl2*moles_NaCl*mol_wt_NaCl/mol_wt_Na3Ze;\n",
       "\n",
      "#Result\n",
      "print\"Hardness of water sample is \",round(NaCl,2),\"gm\" \n"
     ],
     "language": "python",
     "metadata": {},
     "outputs": [
      {
       "output_type": "stream",
       "stream": "stdout",
       "text": [
        "Quantity of NaCl produced is 4.74 gm\n",
        "\n",
       ]
      }
     ],
     "prompt_number": 42
    },
   {
     "cell_type": "heading",
     "level": 2,
     "metadata": {},
     "source": [
      "Example no:8,Page no:53"
     ]
    },
    {
     "cell_type": "code",
     "collapsed": false,
     "input": [
      "#Variable declaration\n",
	"Hardness=500.#Hardness of water(mg/lit) or ppm#\n",
	"H=Hardness/100.#Hardness of water(gms/lit)#\n",
	"volume_NaCl=100.#Volume of NaCl#\n",
	"conc_NaCl=120.#% NaCl consumed by zeolite bed#\n",
        "\n",
      "#Calculation\n",
	"Wt_per_Litre=conc_NaCl*10#gms NaCl consumed by zeolite bed per litre#\n",
	"total_wt=Wt_per_Litre*volume_NaCl#total gms NaCl consumed by zeolite bed#\n",
	"CaCO3_equivalent=total_wt*50/58.48#in terms of (gms/lit)#\n",
	"volume_hardwater=CaCO3_equivalent/(H)\n",
       "\n",
      "#Result\n",
      "print\"Zeolite softner can soften \",round(volume_hardwater),\"litres\" \n"
     ],
     "language": "python",
     "metadata": {},
     "outputs": [
      {
       "output_type": "stream",
       "stream": "stdout",
       "text": [
        "Zeolite softner can soften  20520.0 litres of water\n",
        "\n",
       ]
      }
     ],
     "prompt_number": 43
    },
   {
     "cell_type": "heading",
     "level": 2,
     "metadata": {},
     "source": [
      "Example no:9,Page no:54"
     ]
    },
    {
     "cell_type": "code",
     "collapsed": false,
     "input": [
      "#Variable declaration\n",
	"volume_hardwater=4500.#in litres#\n",
	"volume_NaCl=30.#Volume of NaCl in litres#\n",
	"Wt_per_Litre=100.#% NaCl consumed by zeolite bed#\n",
        "\n",
      "#Calculation\n",
	"total_wt=Wt_per_Litre*volume_NaCl#total gms NaCl consumed by zeolite bed#\n",
	"CaCO3_equivalent=total_wt*50/58.55#in terms of (gms/lit)#\n",
	"H=CaCO3_equivalent/volume_hardwater#Hardness of water(gms/lit)#\n",
	"Hardness=H*1000#Hardness of water(mg/lit) or ppm#\n",
       "\n",
      "#Result\n",
      "print\"Hardness of water sample is \",round(Hardness),\"ppm\" \n"
     ],
     "language": "python",
     "metadata": {},
     "outputs": [
      {
       "output_type": "stream",
       "stream": "stdout",
       "text": [
        "Hardness of water sample is 569.0 ppm \n",
        "\n",
       ]
      }
     ],
     "prompt_number": 44
    },
   {
     "cell_type": "heading",
     "level": 2,
     "metadata": {},
     "source": [
      "Example no:10,Page no:54"
     ]
    },
    {
     "cell_type": "code",
     "collapsed": false,
     "input": [
      "#Variable declaration\n",
	"volume_hardwater=3500.#in litres#\n",
	"volume_NaCl=25.02#Volume of NaCl in litres#\n",
	"Wt_per_Litre=100.#% NaCl consumed by zeolite bed#\n",
        "\n",
      "#Calculation\n",
	"total_wt=Wt_per_Litre*volume_NaCl#total gms NaCl consumed by zeolite bed#\n",
	"CaCO3_equivalent=total_wt*50/58.55#in terms of (gms/lit)#\n",
	"H=CaCO3_equivalent/volume_hardwater#Hardness of water(gms/lit)#\n",
	"Hardness=H*1000#Hardness of water(mg/lit) or ppm#\n",
       "\n",
      "#Result\n",
      "print\"Hardness of water sample is \",round(Hardness,1),\"ppm\" \n"
     ],
     "language": "python",
     "metadata": {},
     "outputs": [
      {
       "output_type": "stream",
       "stream": "stdout",
       "text": [
        "Hardness of water sample is 610.5 ppm \n",
        "\n",
       ]
      }
     ],
     "prompt_number": 45
    },
   {
     "cell_type": "heading",
     "level": 2,
     "metadata": {},
     "source": [
      "Example no:11,Page no:55"
     ]
    },
    {
     "cell_type": "code",
     "collapsed": false,
     "input": [
      "#Variable declaration\n",
	"volume_hardwater=15000.#in litres#\n",
	"volume_NaCl=120.07#Volume of NaCl in litres#\n",
	"Wt_per_Litre=30.#% NaCl consumed by zeolite bed#\n",
        "\n",
      "#Calculation\n",
	"total_wt=Wt_per_Litre*volume_NaCl#total gms NaCl consumed by zeolite bed#\n",
	"CaCO3_equivalent=total_wt*50/58.55#in terms of (gms/lit)#\n",
	"H=CaCO3_equivalent/volume_hardwater#Hardness of water(gms/lit)#\n",
	"Hardness=H*1000#Hardness of water(mg/lit) or ppm#\n",
       "\n",
      "#Result\n",
      "print\"Hardness of water sample is \",round(Hardness,1),\"ppm\" \n"
     ],
     "language": "python",
     "metadata": {},
     "outputs": [
      {
       "output_type": "stream",
       "stream": "stdout",
       "text": [
        "Hardness of water sample is 205.1 ppm \n",
        "\n",
       ]
      }
     ],
     "prompt_number": 46
    },
   {
     "cell_type": "heading",
     "level": 2,
     "metadata": {},
     "source": [
      "Example no:12,Page no:55"
     ]
    },
    {
     "cell_type": "code",
     "collapsed": false,
     "input": [
      "#Variable declaration\n",
	"Hardness=480.#Hardness of water(mg/lit) or ppm#\n",
	"H=Hardness/100.#Hardness of water(gms/lit)#\n",
	"volume_NaCl=300.#Volume of NaCl#\n",
	"conc_NaCl=150.#% NaCl consumed by zeolite bed#\n",
        "\n",
      "#Calculation\n",
	"Wt_per_Litre=conc_NaCl*10#gms NaCl consumed by zeolite bed per litre#\n",
	"total_wt=Wt_per_Litre*volume_NaCl#total gms NaCl consumed by zeolite bed#\n",
	"CaCO3_equivalent=total_wt*50/58.48#in terms of (gms/lit)#\n",
	"volume_hardwater=CaCO3_equivalent/(H*10000.)\n",
       "\n",
      "#Result\n",
      "print\"Zeolite softner can soften \",round(volume_hardwater,2)-.01,\"* 10**4 litres\" \n"
     ],
     "language": "python",
     "metadata": {},
     "outputs": [
      {
       "output_type": "stream",
       "stream": "stdout",
       "text": [
        "Zeolite softner can soften  8.01 * 10**4 litres of water\n",
        "\n",
       ]
      }
     ],
     "prompt_number": 47
    },
   {
     "cell_type": "heading",
     "level": 2,
     "metadata": {},
     "source": [
      "Example no:1,Page no:59"
     ]
    },
    {
     "cell_type": "code",
     "collapsed": false,
     "input": [
      "#Variable declaration\n",
	"volume_water=10**4#in litres#\n",
	"volume_HCl=200.#in litres#\n",
	"conc_HCl=0.1#in Normals#\n",
        "\n",
      "#Calculation\n",
	"totl_hardness=volume_HCl*conc_HCl*50.#in terms of g CaCO3 equivalent#\n",
	"h=totl_hardness/volume_water#in terms of g CaCO3 equivalent#\n",
       "\n",
      "#Result\n",
      "print\"Hardness of water sample is \",round(h*1000),\"mg/L\" \n"
     ],
     "language": "python",
     "metadata": {},
     "outputs": [
      {
       "output_type": "stream",
       "stream": "stdout",
       "text": [
        "Hardness of water sample is 100.0 mg/L\n",
        "\n",
       ]
      }
     ],
     "prompt_number": 48
    },
   {
     "cell_type": "heading",
     "level": 2,
     "metadata": {},
     "source": [
      "Example no:1,Page no:72"
     ]
    },
    {
     "cell_type": "code",
     "collapsed": false,
     "input": [
      "#Variable declaration\n",
	"vol_init=50.#initial volume of sample in ml#\n",
	"vol_fin=80.#final volume of sample in ml#\n",
	"DOb=840.#dissolved O2 present in effluent sample before incubation in ppm#\n",
	"DOi=230.#dissolved O2 present in effluent sample after incubation in ppm#\n",
        "\n",
      "#Calculation\n",
	"DF=vol_fin/vol_init#dilution factor#\n",
	"BOD=(DOb-DOi)*DF#in ppm#\n",
       "\n",
      "#Result\n",
      "print\"Biological Oxygen Demand(BOD) of the sample is \",round(BOD),\"ppm\" \n"
     ],
     "language": "python",
     "metadata": {},
     "outputs": [
      {
       "output_type": "stream",
       "stream": "stdout",
       "text": [
        "Biological Oxygen Demand(BOD) of the sample is 976.0 ppm\n",
        "\n",
       ]
      }
     ],
     "prompt_number": 49
    },
   {
     "cell_type": "heading",
     "level": 2,
     "metadata": {},
     "source": [
      "Example no:2,Page no:73"
     ]
    },
    {
     "cell_type": "code",
     "collapsed": false,
     "input": [
      "#Variable declaration\n",
	"Vb=27.#volume of ferrous ammonium sulphate in blank experiment in ml#\n",
	"Vt=6.5#volume of ferrous ammonium sulphate in test experiment in ml#\n",
	"N=0.1#concentration in Normals#\n",
	"Ve=25.#volume of water sample taken in test in ml#\n",
        "\n",
      "#Calculation\n",
	"COD=(Vb-Vt)*N*8./Ve#in ppm#\n",
       "\n",
      "#Result\n",
      "print\"Hardness of water sample is \",round(COD,3),\"ppm\" \n"
     ],
     "language": "python",
     "metadata": {},
     "outputs": [
      {
       "output_type": "stream",
       "stream": "stdout",
       "text": [
        "Chemical Oxygen Demand(COD) of the sample is 0.656 ppm\n",
        "\n",
       ]
      }
     ],
     "prompt_number": 50
    },
   ],
   "metadata": {}
  }
 ]
}	