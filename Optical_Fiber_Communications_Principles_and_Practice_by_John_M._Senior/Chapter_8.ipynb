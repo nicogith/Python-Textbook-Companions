{
 "metadata": {
  "name": "Chapter_8"
 },
 "nbformat": 3,
 "nbformat_minor": 0,
 "worksheets": [
  {
   "cells": [
    {
     "cell_type": "heading",
     "level": 1,
     "metadata": {},
     "source": "Chapter - 8 : Optical detectors"
    },
    {
     "cell_type": "heading",
     "level": 2,
     "metadata": {},
     "source": "Example 8.1, page 454"
    },
    {
     "cell_type": "code",
     "collapsed": false,
     "input": "#Variable declaration\nn=1.2*10**11                           #no of electrons\nm=3*10**11                             #no of photons\ne=1.602*10**-19                        #1 electron volt\nh=0.85*10**-6                          #wavelength\nh1=6.626*10**-34                       #plancks constant\nc=2.998*10**8                          #speed of light\n\n#Calculation\nQ=n/m                                  #quantum efficiency\nR=(Q*e*h)/(h1*c)                       #responsivity\n\n#Result\nprint'Quantum efficiency = %.1f '%Q\nprint'Responsivity = %.3f A W^-1'%R",
     "language": "python",
     "metadata": {},
     "outputs": [
      {
       "output_type": "stream",
       "stream": "stdout",
       "text": "Quantum efficiency = 0.4 \nResponsivity = 0.274 A W^-1\n"
      }
     ],
     "prompt_number": 1
    },
    {
     "cell_type": "heading",
     "level": 2,
     "metadata": {},
     "source": "Example 8.2, page 454"
    },
    {
     "cell_type": "code",
     "collapsed": false,
     "input": "import math\n\n#Variable declaration\nh1=6.626*10**-34                       #plancks constant\nc=2.998*10**8                          #speed of light\nE=1.5*10**-19                          #energy of photons\nn=0.65                              #quantum efficiency\ne=1.602*10**-19                        #1 electron volt\nio=2.5*10**-6                          #photocurrent\n\n#Calculation\nh=h1*c/E                          #wavelength\nR=(n*e)/(E)                       #responsivity\npo=io/R                           #incident optical power\n\n#Result\nprint'(a) Wavelength = %.2f um'%(h*10**6)\nprint'(b) Incident optical power = %.2f uW'%(po*10**6)        \n",
     "language": "python",
     "metadata": {},
     "outputs": [
      {
       "output_type": "stream",
       "stream": "stdout",
       "text": "(a) Wavelength = 1.32 um\n(b) Incident optical power = 3.60 uW\n"
      }
     ],
     "prompt_number": 1
    },
    {
     "cell_type": "heading",
     "level": 2,
     "metadata": {},
     "source": "Example 8.3, page 456"
    },
    {
     "cell_type": "code",
     "collapsed": false,
     "input": "import math\n\n#Variable declaration\nh1=6.626*10**-34                       #plancks constant\nc=2.998*10**8                          #speed of light\ne=1.602*10**-19                        #1 electron volt\nE=1.43                                 #bandgap energy in eV\n\n#Calculation\nh=h1*c/(E*e)                             #wavelength\n\n#Result\nprint'Wavelength = %.3f um'%(h*10**6)",
     "language": "python",
     "metadata": {},
     "outputs": [
      {
       "output_type": "stream",
       "stream": "stdout",
       "text": "Wavelength = 0.867 um\n"
      }
     ],
     "prompt_number": 3
    },
    {
     "cell_type": "heading",
     "level": 2,
     "metadata": {},
     "source": "Example 8.4, page 463"
    },
    {
     "cell_type": "code",
     "collapsed": false,
     "input": "import math\n\n#Variable declaration\nw=20*10**-6                                   #width\nvd=10**5                                      #drift velocity\nr=500*10**-6                                  #diameter in meter\nes=10.5*10**-13                               #permitivity\n\n#Calculation\ntd=w/vd                                      #drift time\nA=math.pi*r**2                               #area\ncj=es*A/w                                   #junction capacitance\n\n#Result\nprint'Drift time = %.1f x 10^-10 S'%(td*10**10)\nprint'Junction capacitance = %.2f x 10^-13 F'%(cj*10**13)",
     "language": "python",
     "metadata": {},
     "outputs": [
      {
       "output_type": "stream",
       "stream": "stdout",
       "text": "Drift time = 2.0 x 10^-10 S\nJunction capacitance = 0.41 x 10^-13 F\n"
      }
     ],
     "prompt_number": 4
    },
    {
     "cell_type": "heading",
     "level": 2,
     "metadata": {},
     "source": "Example 8.5, page 464"
    },
    {
     "cell_type": "code",
     "collapsed": false,
     "input": "import math\n\n#Variable declaration\nvd=3*10**4                                      #drift velocity\nw=25*10**-6                                   #width\n\n#Calculation\nBm=vd/(2*math.pi*w)                            #maximum bandwidth\ntr=1/Bm                                        #maximum response time\n\n#Result\nprint'Maximum response time = %.1f ns'%(tr*10**9)",
     "language": "python",
     "metadata": {},
     "outputs": [
      {
       "output_type": "stream",
       "stream": "stdout",
       "text": "Maximum response time = 5.2 ns\n"
      }
     ],
     "prompt_number": 5
    },
    {
     "cell_type": "heading",
     "level": 2,
     "metadata": {},
     "source": "Example 8.6, page 470"
    },
    {
     "cell_type": "code",
     "collapsed": false,
     "input": "import math\n\n#Variable declaration\nh1=6.626*10**-34                       #plancks constant\nc=2.998*10**8                          #speed of light\ne=1.602*10**-19                        #1 electron volt\nl=8*10**-9                              #dark current\nn=0.55                                  #quantum efficiency\nh=1.3*10**-6                            #wavelength\nA=100*50*10**-12\n\n#Calculation\nnep=(h1*c*math.sqrt(2*e*l))/(n*e*h)     #Noise equivalent power\nD=math.sqrt(A)/nep                      #Specific detectivity\n\n#Result\nprint'Noise equivalent power = %.2f x 10^-14 W'%(nep*10**14)\nprint'Specific detectivity = %.1f x 10^8 m Hz^(1/2) W^-1'%(D*10**-8)",
     "language": "python",
     "metadata": {},
     "outputs": [
      {
       "output_type": "stream",
       "stream": "stdout",
       "text": "Noise equivalent power = 8.78 x 10^-14 W\nSpecific detectivity = 8.1 x 10^8 m Hz^(1/2) W^-1\n"
      }
     ],
     "prompt_number": 6
    },
    {
     "cell_type": "heading",
     "level": 2,
     "metadata": {},
     "source": "Example 8.7, page 482"
    },
    {
     "cell_type": "code",
     "collapsed": false,
     "input": "import math\n\n#Variable declaration\nh1=6.626*10**-34                       #plancks constant\nc=2.998*10**8                          #speed of light\ne=1.602*10**-19                        #1 electron volt\nn=0.8                                  #quantum efficiency\nh=0.9*10**-6                          #wavelength\npo=0.5*10**-6                          #incident optical power\nI=11*10**-6                            #output current\n\n#Calculation\nR=(n*e*h)/(h1*c)                       #resposivity\nIp=po*R                                #photocurrent\nM=I/Ip                                 #multiplication factor\n\n#Result\nprint'Multiplication factor = %.2f '%M\n",
     "language": "python",
     "metadata": {},
     "outputs": [
      {
       "output_type": "stream",
       "stream": "stdout",
       "text": "Multiplication factor = 37.89 \n"
      }
     ],
     "prompt_number": 7
    },
    {
     "cell_type": "heading",
     "level": 2,
     "metadata": {},
     "source": "Example 8.8, page 487"
    },
    {
     "cell_type": "code",
     "collapsed": false,
     "input": "import math\n\n#Variable declaration\nh1=6.626*10**-34                       #plancks constant\nc=2.998*10**8                          #speed of light\ne=1.602*10**-19                        #1 electron volt\nh=1.26*10**-6                          #wavelength\nIc=15*10**-3                           #collector current\npo=125*10**-6                          #incident optical power\nn=0.4                                   #quantum efficiency\n\n#Calculation\ngo=(h1*c*Ic)/(h*e*po)                     #Optical gain\nhfe=go/n                                   #Common emitter current gain\n \n#Result\nprint'Optical gain, Go = %.1f'%go\nprint'Common emitter current gain, hfe = %.1f '%hfe",
     "language": "python",
     "metadata": {},
     "outputs": [
      {
       "output_type": "stream",
       "stream": "stdout",
       "text": "Optical gain, Go = 118.1\nCommon emitter current gain, hfe = 295.2 \n"
      }
     ],
     "prompt_number": 8
    },
    {
     "cell_type": "heading",
     "level": 2,
     "metadata": {},
     "source": "Example 8.9, page 491"
    },
    {
     "cell_type": "code",
     "collapsed": false,
     "input": "import math\n\n#Variable declaration\nt=5*10**-12                                    #electron transit time\nG=70                                          #Optical gain\n\n#Calculation\nB=1/(2*math.pi*t*G)                           #Maximum 3dB bandwidth\n\n#Result\nprint'Maximum bandwidth = %.1f MHz'%(B*10**-6)",
     "language": "python",
     "metadata": {},
     "outputs": [
      {
       "output_type": "stream",
       "stream": "stdout",
       "text": "Maximum bandwidth = 454.7 MHz\n"
      }
     ],
     "prompt_number": 9
    }
   ],
   "metadata": {}
  }
 ]
}