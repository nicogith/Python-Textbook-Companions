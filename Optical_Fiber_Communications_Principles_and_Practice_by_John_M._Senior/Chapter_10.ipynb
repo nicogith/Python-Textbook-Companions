{
 "metadata": {
  "name": "Chapter_10"
 },
 "nbformat": 3,
 "nbformat_minor": 0,
 "worksheets": [
  {
   "cells": [
    {
     "cell_type": "heading",
     "level": 1,
     "metadata": {},
     "source": "Chapter 10 : Optical amplification, wavelength conversion and regeneration\n"
    },
    {
     "cell_type": "heading",
     "level": 2,
     "metadata": {},
     "source": "Example 10.1, page 555"
    },
    {
     "cell_type": "code",
     "collapsed": false,
     "input": "import math\n\n#Variable declaration\nh=1.5*10**-6                         #peak gain wavelength\ndelt=10**-9                          #mode spacing\nl=300*10**-6                        #length\nc=2.998*10**8                        #speed of light\nr=0.09                              #facet reflectivities\ngs=3.020\n\n#Calculation\nn=(h**2)/(2*delt*l)                       #refractive index\na=c/(math.pi*n*l)\nd=1-(math.sqrt(r)*gs)\nf=2*math.sqrt(math.sqrt(r)*gs)\nB=a*math.asin(d/f)                        #spectral bandwidth\n#Result\nprint'Refractive index of a medium = %.2f'%n\nprint'3dB spectral bandwidth = %.1f GHz'%(B*10**-9)",
     "language": "python",
     "metadata": {},
     "outputs": [
      {
       "output_type": "stream",
       "stream": "stdout",
       "text": "Refractive index of a medium = 3.75\n3dB spectral bandwidth = 4.2 GHz\n"
      }
     ],
     "prompt_number": 1
    },
    {
     "cell_type": "heading",
     "level": 2,
     "metadata": {},
     "source": "Example 10.3, page 562"
    },
    {
     "cell_type": "code",
     "collapsed": false,
     "input": "import math\n\n#Variable declaration\ngs=30                                #gain in dB\ng=200                                #net gain\nloge=0.434                           #log(e)\ngs1=1000\nm=2.2                                #mode no\nnsp=4                                #spontaneous emission factor\nh1=6.626*10**-34                     #plancks constant\nf=1.94*10**14\nB=1.0*10**12                         #bandwidth\n\n#Calculation\nL=gs/(10*g*loge)                       #length of the device\nP=m*nsp*(gs1-1)*h1*f*B                 #noise power spectral density\n\n#Result\nprint'(a) Length of the device = %.2f mm'%(L*10**3)\nprint'(b) Noise power spectral density = %.2f mW'%(P*10**3)",
     "language": "python",
     "metadata": {},
     "outputs": [
      {
       "output_type": "stream",
       "stream": "stdout",
       "text": "(a) Length of the device = 34.56 mm\n(b) Noise power spectral density = 1.13 mW\n"
      }
     ],
     "prompt_number": 2
    },
    {
     "cell_type": "heading",
     "level": 2,
     "metadata": {},
     "source": "Example 10.4, page 580"
    },
    {
     "cell_type": "code",
     "collapsed": false,
     "input": "import math\n\n#Variable declaration\nGp=62.2                                           #parametric peak gain in dB\nlog=10*math.log10(0.25)\nPp=1.4                                            #signal power in watt\nL=500                                             #length in meter\nlog2=20*math.log10(2.7182818284)\n\n\n#Calculation\ny=(Gp-log)/(Pp*L*log2)                              #fiber nonlinear coefficient\nGp2=10*math.log10((y*Pp*L)**2)                      #parametric gain\n \n#Result\nprint'(a) Fiber nonlinear coefficient = %.2f x 10^-3 W^-1 km^-1'%(y*1000)\nprint'(b) Quadratic gain, Gp = %.2f dB'%(Gp2)",
     "language": "python",
     "metadata": {},
     "outputs": [
      {
       "output_type": "stream",
       "stream": "stdout",
       "text": "(a) Fiber nonlinear coefficient = 11.22 x 10^-3 W^-1 km^-1\n(b) Quadratic gain, Gp = 17.90 dB\n"
      }
     ],
     "prompt_number": 3
    },
    {
     "cell_type": "heading",
     "level": 2,
     "metadata": {},
     "source": "Example 10.5, page 589 "
    },
    {
     "cell_type": "code",
     "collapsed": false,
     "input": "import math\n\n#Variable declaration\npt=0.5*10**-3                                #input signal power\ndpt=0.01*10**-6                              #input signal power variation\nh=1.55*10**-6                                #signal wavelength\na=-1                                         #linewidth enhancement factor\ndn=-1.2*10**-26                              #differential refractive index\n\n#Calculation\ndelt=(-a*dpt)/(4*math.pi*pt)                  #frequency chirp\ndg=(4*math.pi*dn)/(h*a)                       #differential gain\n \n#Result\nprint'(a) Frequency chirp variation = %.2f MHz'%(delt*10**6)\nprint'(b) Differential gain = %.2f x10^-20 m^2'%(dg*10**20)",
     "language": "python",
     "metadata": {},
     "outputs": [
      {
       "output_type": "stream",
       "stream": "stdout",
       "text": "(a) Frequency chirp variation = 1.59 MHz\n(b) Differential gain = 9.73 x10^-20 m^2\n"
      }
     ],
     "prompt_number": 4
    }
   ],
   "metadata": {}
  }
 ]
}