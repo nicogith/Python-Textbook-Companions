{
 "metadata": {
  "name": "Chapter_11"
 },
 "nbformat": 3,
 "nbformat_minor": 0,
 "worksheets": [
  {
   "cells": [
    {
     "cell_type": "heading",
     "level": 1,
     "metadata": {},
     "source": "Chapter 11 : Integrated optics and photonics"
    },
    {
     "cell_type": "heading",
     "level": 2,
     "metadata": {},
     "source": "Example 11.1, page 624"
    },
    {
     "cell_type": "code",
     "collapsed": false,
     "input": "import math\n\n#Variable declaration\nh=1.3*10**-6                            #wavlength\nd=25*10**-6                             #distance between the electrodes\nn1=2.1                                  #refractive index\nr=30.8*10**-12                          #electro-optic coefficient\nl=2*10**-2                              #length\n\n\n#Calculation\nV=(h*d)/(n1**3*r*l)                       #voltage\n\n#Result\nprint'Voltage = %.1f V'%V",
     "language": "python",
     "metadata": {},
     "outputs": [
      {
       "output_type": "stream",
       "stream": "stdout",
       "text": "Voltage = 5.7 V\n"
      }
     ],
     "prompt_number": 1
    },
    {
     "cell_type": "heading",
     "level": 2,
     "metadata": {},
     "source": "Example 11.2, page 629"
    },
    {
     "cell_type": "code",
     "collapsed": false,
     "input": "import math\n\n#Variable declaration\nn1=3.1                                         #refractive index\nthet=1                                      #angle in degree\nh=1.52*10**-6                                  #wavelength\nl=10**-2                                         #length\n\n#Calculation\nne=n1*math.sin(2*thet*math.pi/180)             #effective refractive index\nD=h/(2*ne)                                     #Corrugation period\ns=D*h/l                                        #filter bandwidth\n\n\n#Result\nprint'Corrugation period = %.1f um'%(D*10**6)\nprint'Filter 3 dB bandwidth = %.1f \u00c5 '%(s*10**10)",
     "language": "python",
     "metadata": {},
     "outputs": [
      {
       "output_type": "stream",
       "stream": "stdout",
       "text": "Corrugation period = 7.0 um\nFilter 3 dB bandwidth = 10.7 \u00c5 \n"
      }
     ],
     "prompt_number": 2
    },
    {
     "cell_type": "heading",
     "level": 2,
     "metadata": {},
     "source": "Example 11.3, page 631"
    },
    {
     "cell_type": "code",
     "collapsed": false,
     "input": "import math\n\n#Variable declaration\nn1=8                                #no of bands\nN1=0                                #no of channels between any two bands\nN2=1                                #no of channels between any two bands\nN3=2                                #no of channels between any two bands\nM=4                                 #no of channels in each band\n\n#Calculation\nCs1=(n1-1)*N1                       #total number of channels skipped \nCt1=(n1*M)+Cs1                      #total number of channels for 4 skip-0 scheme\nCs2=(n1-1)*N2                       #total number of channels skipped \nCt2=(n1*M)+Cs2                      #total number of channels for 4 skip-1 scheme\nCs3=(n1-1)*N3                       #total number of channels skipped \nCt3=(n1*M)+Cs3                      #total number of channels for 4 skip-2 scheme\n\n#Result\nprint'Total number ofchannels required for each interleaver band filter'\nprint'(i) 4-skip-0:'\nprint'     Ctotal = %d'%Ct1\nprint'(ii) 4-skip-1:'\nprint'     Ctotal = %d'%Ct2\nprint'(iii) 4-skip-2:'\nprint'     Ctotal = %d'%Ct3",
     "language": "python",
     "metadata": {},
     "outputs": [
      {
       "output_type": "stream",
       "stream": "stdout",
       "text": "Total number ofchannels required for each interleaver band filter\n(i) 4-skip-0:\n     Ctotal = 32\n(ii) 4-skip-1:\n     Ctotal = 39\n(iii) 4-skip-2:\n     Ctotal = 46\n"
      }
     ],
     "prompt_number": 9
    }
   ],
   "metadata": {}
  }
 ]
}