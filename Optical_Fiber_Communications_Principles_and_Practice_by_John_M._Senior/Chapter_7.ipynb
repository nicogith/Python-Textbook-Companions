{
 "metadata": {
  "name": "Chapter_7"
 },
 "nbformat": 3,
 "nbformat_minor": 0,
 "worksheets": [
  {
   "cells": [
    {
     "cell_type": "heading",
     "level": 1,
     "metadata": {},
     "source": "Chapter 2 - Optical sources 2: the light-emitting diode\n"
    },
    {
     "cell_type": "heading",
     "level": 2,
     "metadata": {},
     "source": "Example 7.1, page 401"
    },
    {
     "cell_type": "code",
     "collapsed": false,
     "input": "import math\n\n#Variable declaration\ntr=60*10**-9                             #radiative ecombination lifetime\ntnr=100*10**-9                           #nonradiative ecombination lifetime\nh=6.626*10**-34                          #plancks const\nc=2.998*10**8                           #speed of light\ni=40*10**-3                             #drive current\ne=1.602*10**-19                          #1 electron volt\nh1=0.87*10**-6                           #wavelength\n\n#Calculation\nt=(tr*tnr)/(tr+tnr)                      #total carrier recombination lifetime\nn=t/tr                                   #quantum efficiency \npin=n*h*c*i/(e*h1)                       #internal power generated\n\n#Result\nprint'Total carrier recombination lifetime = %.1f ns'%(t*10**9)\nprint'Power internally generated = %.1f mW'%(pin*10**3)",
     "language": "python",
     "metadata": {},
     "outputs": [
      {
       "output_type": "stream",
       "stream": "stdout",
       "text": "Total carrier recombination lifetime = 37.5 ns\nPower internally generated = 35.6 mW\n"
      }
     ],
     "prompt_number": 1
    },
    {
     "cell_type": "heading",
     "level": 2,
     "metadata": {},
     "source": "Example 7.2, page 402"
    },
    {
     "cell_type": "code",
     "collapsed": false,
     "input": "import math\n\n#Variable declaration\nF=0.68                                       #crystal\u2013air interface\nn=1                                           #refractive index of air\nnx=3.6                                        #refractive index of Ga\n\n\n#Calculation\npe=(F*n**2)/(4*nx**2)                         #Optical power emitted\nn1=pe*100/2                                   #External power efficiency\n\n#Result\nprint'Optical power emitted = %.3f *Pint'%(pe)\nprint'External power efficiency = %.2f percent'%n1",
     "language": "python",
     "metadata": {},
     "outputs": [
      {
       "output_type": "stream",
       "stream": "stdout",
       "text": "Optical power emitted = 0.013 *Pint\nExternal power efficiency = 0.66 percent\n"
      }
     ],
     "prompt_number": 2
    },
    {
     "cell_type": "heading",
     "level": 2,
     "metadata": {},
     "source": "Example 7.3, page 404"
    },
    {
     "cell_type": "code",
     "collapsed": false,
     "input": "import math\n\n#Variable declaration\nNA=0.2                                 #numerical aperture\npe=0.013                               #optical power emitted\n\n#Calculation\nnc=NA**2                               #coupling efficiency\nLoss=-10*math.log10(nc)                #optical loss\npc=nc*pe                               #coupling power\nLoss1=-10*math.log10(pc)               #internal power relative loss\n\n#Result\nprint'Coupling efficiency = %.2f'%nc\nprint'Optical loss = %.1f dB'%Loss\nprint'Loss due internal optical power = %.1f dB'%Loss1",
     "language": "python",
     "metadata": {},
     "outputs": [
      {
       "output_type": "stream",
       "stream": "stdout",
       "text": "Coupling efficiency = 0.04\nOptical loss = 14.0 dB\nLoss due internal optical power = 32.8 dB\n"
      }
     ],
     "prompt_number": 3
    },
    {
     "cell_type": "heading",
     "level": 2,
     "metadata": {},
     "source": "Example 7.4, page 409"
    },
    {
     "cell_type": "code",
     "collapsed": false,
     "input": "import math\n\n#Variable declaration\nr=0.01                                       #fresnel reflection coefficient \nRd=30                                        #radiance\nNA=0.15                                      #numerical aperture\na=25*10**-4                                  \n\n#Calculation\nA=math.pi*a**2                               #emission area\npc=math.pi*(1-r)*A*Rd*NA**2                  #optical power\n\n#Result\nprint'Optical power = %.1f uW'%(pc*10**6)",
     "language": "python",
     "metadata": {},
     "outputs": [
      {
       "output_type": "stream",
       "stream": "stdout",
       "text": "Optical power = 41.2 uW\n"
      }
     ],
     "prompt_number": 4
    },
    {
     "cell_type": "heading",
     "level": 2,
     "metadata": {},
     "source": "Example 7.5, page 421"
    },
    {
     "cell_type": "code",
     "collapsed": false,
     "input": "import math\n\n#Variable declaration\npc=190*10**-6                              #optical power\np=25*10**-3                                #forward current\nv=1.5                                     #voltage\n\n\n#Calculation\nn=(pc/(p*v))*100                        #power efficiency\n\n#Result\nprint'Overall power efficiency = %.1f percent'%n",
     "language": "python",
     "metadata": {},
     "outputs": [
      {
       "output_type": "stream",
       "stream": "stdout",
       "text": "Overall power efficiency = 0.5 percent\n"
      }
     ],
     "prompt_number": 5
    },
    {
     "cell_type": "heading",
     "level": 2,
     "metadata": {},
     "source": "Example 7.7, page 430"
    },
    {
     "cell_type": "code",
     "collapsed": false,
     "input": "import math\n\n#Variable declaration\npdc=300*10**-6                            #optical output power\nf=20*10**6                                #frequency in hertz\nti=5*10**-9                               #minority carrier recombination lifetime\nf2=100*10**6                              #frequency in hertz\nt=10**-8\nw=math.sqrt(3)\n\n#Calculation\npe1=pdc/math.sqrt(1+(2*math.pi*f*ti)**2)     #Optical output power (f=20 MHz)\npe2=pdc/math.sqrt(1+(2*math.pi*f2*ti)**2)    #Optical output power (f=100 MHz)\nf=w/(math.pi*t)\nB=f/math.sqrt(2)\n\n#Result\nprint'(a) Optical output power (f=20 MHz) = %.2f uW'%(pe1*10**6)\nprint'(b) Optical output power (f=100 MHz) = %.2f uW'%(pe2*10**6)\nprint'Electrical bandwidth = %.1f MHz'%(B*10**-6)",
     "language": "python",
     "metadata": {},
     "outputs": [
      {
       "output_type": "stream",
       "stream": "stdout",
       "text": "(a) Optical output power (f=20 MHz) = 254.02 uW\n(b) Optical output power (f=100 MHz) = 90.99 uW\nElectrical bandwidth = 39.0 MHz\n"
      }
     ],
     "prompt_number": 6
    },
    {
     "cell_type": "heading",
     "level": 2,
     "metadata": {},
     "source": "Example 7.8, page 435"
    },
    {
     "cell_type": "code",
     "collapsed": false,
     "input": "import math\n\n#Variable declaration\nbo=1.84*10**7                                       #proportionality constant\ne=-1.602*10**-19                                    #charge of electron\nk=1.38*10**-23                                      #boltzman constant\nt1=290                                               #tempreture in kelvin\nexp=0.67\n\n\n\n#Calculation\nbt=bo*math.exp(e/(k*t1))                         #degradation rate\nt=-math.log(exp)/bt                                #operating lifetime\n\n#Result\nprint'CW operating lifetime = %.1f x 10^9 h'%(t*10**-9)",
     "language": "python",
     "metadata": {},
     "outputs": [
      {
       "output_type": "stream",
       "stream": "stdout",
       "text": "CW operating lifetime = 5.3 x 10^9 h\n"
      }
     ],
     "prompt_number": 7
    }
   ],
   "metadata": {}
  }
 ]
}