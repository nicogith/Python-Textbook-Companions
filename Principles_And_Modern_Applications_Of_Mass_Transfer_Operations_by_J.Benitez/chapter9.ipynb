{
 "metadata": {
  "name": ""
 },
 "nbformat": 3,
 "nbformat_minor": 0,
 "worksheets": [
  {
   "cells": [
    {
     "cell_type": "heading",
     "level": 1,
     "metadata": {},
     "source": [
      "Chapter 9:Membranes,Solid Sorption Agents"
     ]
    },
    {
     "cell_type": "heading",
     "level": 3,
     "metadata": {},
     "source": [
      "Example 9.1,Page number:508"
     ]
    },
    {
     "cell_type": "code",
     "collapsed": false,
     "input": [
      "\t#  A-solute    B-solvent\n",
      "ci_f = 50  \t\t\t\t\t# [feed side concentration, mole/cubic m]\n",
      "ci_p = 15  \t\t\t\t\t# [permeate side concentration, mole/cubic m]\n",
      "t = 2*10**-4  \t\t\t\t\t# [membrane thickness, cm]\n",
      "q_A = 176  \t\t\t\t\t# [permeability, barrer]\n",
      "D = 4*10**-1  \t\t\t\t\t# [tube inside diameter, cm]\n",
      "D_A = 5*10**-5  \t\t\t\t# [diffusuvity, square cm/s]\n",
      "Re = 20000  \t\t\t\t\t# [reynolds number]\n",
      "Sc = 450  \t\t\t\t\t# [Schmidt number]\n",
      "mtc_p = 0.12  \t\t\t\t\t# [square cm/s]\n",
      "\n",
      "#Calculation\n",
      "\n",
      "\t# From equation 9.6, 1 barrer = 8.3*10**-9 square cm/s \n",
      "\t# Therefore \n",
      "q_A = q_A*8.3*10**-9  \t\t\t\t# [square cm/s]\n",
      "Q_A = q_A/t \t\t\t\t\t# [permeance, cm/s]\n",
      "\t# The mass-transfer coefficient on the feed side is from equation (2-75) for turbulent \tflow of a liquid inside a circular pipe:\n",
      "Sh = 0.023*Re**0.83*Sc**(1.0/3.0) \n",
      "\t# Now mass transfer coefficient\n",
      "k_af = Sh*D_A/D  \t\t\t\t# [cm/s]\n",
      "\t# Total resistance to mass transfer \n",
      "res_total = (1/k_af)+(1/Q_A)+(1/mtc_p)  \t# [s/cm]\n",
      "\t# Transmembrane flux of solute A\n",
      "N_A = (ci_f-ci_p)/(res_total*100)  \t\t# [mole/square m.s]\n",
      "\n",
      "#Result\n",
      "\n",
      "print\"The transmembrane flux of solute A is\",round(N_A,5),\"mole/square m.s\"\n",
      "\n",
      "percent_mem_res = ((1/Q_A)/res_total)*100  \t# [%]\n",
      "print\"Membrane resistance is\",round(percent_mem_res),\"percent of the total\""
     ],
     "language": "python",
     "metadata": {},
     "outputs": [
      {
       "output_type": "stream",
       "stream": "stdout",
       "text": [
        "The transmembrane flux of solute A is 0.00222 mole/square m.s\n",
        "Membrane resistance is 87.0 percent of the total\n"
       ]
      }
     ],
     "prompt_number": 1
    },
    {
     "cell_type": "heading",
     "level": 3,
     "metadata": {},
     "source": [
      "Example 9.2,Page number:511"
     ]
    },
    {
     "cell_type": "code",
     "collapsed": false,
     "input": [
      "import math\n",
      "from scipy.optimize import fsolve\n",
      "from numpy import *\n",
      "\n",
      "\n",
      "# solution\n",
      "\n",
      "#  A-oxygen    B-nitrogen\n",
      "t = 0.2*10**-6  # [m]\n",
      "qA = 3.97*10**-13  # [mole/m.s.kPa]\n",
      "qB = 0.76*10**-13  # [mole/m.s.kPa]\n",
      "v = 1  # [Air flow rate at STP, cubic m/s]\n",
      "Pp = 0.1*10**6  # [Pa]\n",
      "R = 8.314 # [cubic m.Pa/mole.K]\n",
      "T = 298  # [K]\n",
      "Pf = 1*10**6  # [Pa]\n",
      "\n",
      "# Using equation 9.14\n",
      "alphaA = qA/qB \n",
      "QA = qA/t  # [mole/square m.s.kPa]\n",
      "# molar flow rate\n",
      "nf = v*1000/(22.4)  # [mole/s]\n",
      "r = Pp/Pf  # [pressure ratio]\n",
      "QB = qB/t  # [mole/square m.s.kPa]\n",
      "alphaid = QA/QB \n",
      "xFa = 0.21 \n",
      "xFb = 0.79 \n",
      "\n",
      "# For Q = 0.1\n",
      "Q1 = 0.1\n",
      "    # Solution of simultaneous equation\n",
      "def F(e):\n",
      "    f1 = e[0] - (e[2]*(1-e[1]))/((e[1]*(1-e[2]))) \n",
      "    f2 = e[1] - (xFa - (e[2]*Q1))/(1-Q1) \n",
      "    f3 = e[0] - (alphaid*(e[1]*(e[0]-1)+1- (r*e[0])))/(e[1]*(e[0]-1)+1 - r) \n",
      "    return(f1,f2,f3)\n",
      "\n",
      "# Initial guess\n",
      "e = [4,0.13,0.4] \n",
      "y = fsolve(F,e) \n",
      "alpha1 = y[0] \n",
      "Xa1 = y[1] \n",
      "Ya1 = y[2] \n",
      "Am1 = Ya1*Q1*nf/(QA*(Xa1*Pf-Ya1*Pp))*1000  # [square m]\n",
      "\n",
      "# For Q = 0.2\n",
      "Q2 = 0.2\n",
      "    # Solution of simultaneous equation\n",
      "def F(e):\n",
      "    f1 = e[0] - (e[2]*(1-e[1]))/((e[1]*(1-e[2]))) \n",
      "    f2 = e[1] - (xFa - (e[2]*Q2))/(1-Q2) \n",
      "    f3 = e[0] - (alphaid*(e[1]*(e[0]-1)+1- (r*e[0])))/(e[1]*(e[0]-1)+1 - r) \n",
      "    return(f1,f2,f3)\n",
      "\n",
      "# Initial guess\n",
      "e = [4,0.13,0.4] \n",
      "y = fsolve(F,e) \n",
      "alpha2 = y[0] \n",
      "Xa2 = y[1] \n",
      "Ya2 = y[2] \n",
      "Am2 = Ya2*Q2*nf/(QA*(Xa2*Pf-Ya2*Pp))*1000  # [square m]\n",
      "\n",
      "# For Q = 0.9\n",
      "Q9 = 0.9\n",
      "    # Solution of simultaneous equation\n",
      "def F(e):\n",
      "    f1 = e[0] - (e[2]*(1-e[1]))/((e[1]*(1-e[2]))) \n",
      "    f2 = e[1] - (xFa - (e[2]*Q9))/(1-Q9) \n",
      "    f3 = e[0] - (alphaid*(e[1]*(e[0]-1)+1- (r*e[0])))/(e[1]*(e[0]-1)+1 - r) \n",
      "    return(f1,f2,f3)\n",
      "\n",
      "# Initial guess\n",
      "e = [4,0.13,0.4] \n",
      "y = fsolve(F,e) \n",
      "alpha9 = y[0] \n",
      "Xa9 = y[1] \n",
      "Ya9 = y[2] \n",
      "Am9 = Ya2*Q9*nf/(QA*(Xa9*Pf-Ya9*Pp))*1000  # [square m]\n",
      "\n",
      "# Similarly for Q =0.3......0.9, Xa, Ya, alpha and Am are calculated\n",
      "# Therefore we obtained\n",
      "# Solution = [Q,alpha,Xa,Ya]\n",
      "Solution = zeros((9,4)) \n",
      "Solution =matrix([[0.1,4.112,0.181,0.475],[0.2,4.062,0.156,0.428],[0.3,4.018,0.135,0.385],[0.4,3.98,0.118,0.348],[0.5,3.949,0.105,0.315],[0.6,3.922,0.093,0.288],[0.7,3.9,0.084,0.264],[0.8,3.881,0.077,0.243],[0.9,3.864,0.07,0.226]]) \n",
      "Am =matrix([[8037],[17074],[26963],[37531],[48618],[60099],[71876],[83879],[96056]]) \n",
      "\n",
      "\n",
      "print\"The maximum oxygen content of the permeate (%f percent) occurs with the smallest cut (Q = 0.1).\",round(Ya1*100)\n",
      "print\"The maximum nitrogen content of the retentate (%f percent) occurs at the largest cut (Q = 0.9).\\n\\n\",round((1-Xa9)*100)\n",
      "\n",
      "print\"The membrane area requirements are very large (e.g, Am = 60,100 square m for Q = 0.6) even though the volumetric flow rate of air is relatively small)\""
     ],
     "language": "python",
     "metadata": {},
     "outputs": [
      {
       "output_type": "stream",
       "stream": "stdout",
       "text": [
        "The maximum oxygen content of the permeate (%f percent) occurs with the smallest cut (Q = 0.1). 48.0\n",
        "The maximum nitrogen content of the retentate (%f percent) occurs at the largest cut (Q = 0.9).\n",
        "\n",
        "93.0\n",
        "The membrane area requirements are very large (e.g, Am = 60,100 square m for Q = 0.6) even though the volumetric flow rate of air is relatively small)\n"
       ]
      }
     ],
     "prompt_number": 2
    },
    {
     "cell_type": "heading",
     "level": 3,
     "metadata": {},
     "source": [
      "Example 9.4,Page number:520"
     ]
    },
    {
     "cell_type": "code",
     "collapsed": false,
     "input": [
      "\n",
      "import math\n",
      "from numpy import *\n",
      "Pexp = array([0.276,1.138,2.413,3.758,5.240,6.274,6.688 ])  # [MPa]\n",
      "V = array([45.5,91.5,113,121,125,126,126 ])  # [cubic cm of CH4/gram carbon]\n",
      "Ma = 16  # [gram/mole]\n",
      "Vstp = 22.4  # [L/mole]\n",
      "q = V*Ma/Vstp  # [mg/g]\n",
      "\n",
      "# Linearize data for Langmuir isotherm\n",
      "y = Pexp/q \n",
      "\n",
      "\n",
      "#y = array([0.0030667,0.01264,0.02681,0.0417556,0.0582,0.06971,0.07431 ])\n",
      "\n",
      "\n",
      "\n",
      "a2=plot(Pexp,q, marker='o')\n",
      "\n",
      "xlabel(\"Pexp, MPa\") \n",
      "ylabel(\"y, MPa.mg/g\")  \n",
      "\n",
      "# Now qm = 1/(slope of Pexp v/s y curve)\n",
      "# From graph of Pexp v/s y, the slope is \n",
      "s = 0.01022 \n",
      "# And intercept \n",
      "i = 5.4865*10**-3 \n",
      "qm = 1/s  # [mg/g]\n",
      "K = 1/(qm*i)  # [1/MPa]\n",
      "\n",
      "# Therefore\n",
      "# qlp = K*qm*p/(1+Kp)\n",
      "print\"Data for Langmuir isotherm are K =\",round(K,3),\"MPa**-1 and qm =\",round(qm,2) \n",
      "\n",
      "# Linearize data for Freundlich isotherm\n",
      "# y1 = log(q/(mg/g)) , x1 = log(Pexp/MPa)\n",
      "y1 = numpy.log(q) \n",
      "x1 = numpy.log(Pexp) \n",
      "\n",
      "twiny()\n",
      "twinx()\n",
      "plot(x1,y1, linestyle='--', color='r')\n",
      "plt.xticks(np.arange(min(x1), max(x1)+1, 2))\n",
      "\n",
      "xlabel(\"$log(Pexp/(Mpa))$\") \n",
      "ylabel(\"$log(q/(mg/g))$\") \n",
      "title(' Langmuir and Freundlich isotherms fitted to data')\n",
      "\n",
      "#plt.xlim(0,8)\n",
      "#plt.ylim(20,100)\n",
      "\n",
      "\n",
      "# From graph of log(q) v/s log(Pexp)\n",
      "# slope = 0.31\n",
      "s = 0.31 \n",
      "# and intercept is\n",
      "i = 4 \n",
      "# Therefore n = 1/slope\n",
      "n = 1/s \n",
      "k =math.exp(i)  # [(mg CH4/g of carbon.MPa**(-1/n)]\n",
      "print\"Data for Freundlich isotherm are n = \",round(n,2),\"and k =\",round(k,2)\n",
      "\n",
      "# Therefore\n",
      "# qFp = k*(p/1 Mpa)**(1/n)\n",
      "print\"Figure shows a q-p plot of the experimental data and the corresponding predictions of the Langmuir and Freundlich isotherms.\\n It is evident from the plot that in this case, the Langmuir isotherm fits the data significantly better than the Freundlich isotherm.\""
     ],
     "language": "python",
     "metadata": {},
     "outputs": [
      {
       "output_type": "stream",
       "stream": "stdout",
       "text": [
        "Data for Langmuir isotherm are K = 1.863 MPa**-1 and qm = 97.85\n",
        "Data for Freundlich isotherm are n = "
       ]
      },
      {
       "output_type": "stream",
       "stream": "stdout",
       "text": [
        " 3.23 and k = 54.6\n",
        "Figure shows a q-p plot of the experimental data and the corresponding predictions of the Langmuir and Freundlich isotherms.\n",
        " It is evident from the plot that in this case, the Langmuir isotherm fits the data significantly better than the Freundlich isotherm.\n"
       ]
      },
      {
       "metadata": {},
       "output_type": "display_data",
       "png": "[encoded data removed]",
       "text": [
        "<matplotlib.figure.Figure at 0x7ffd128>"
       ]
      }
     ],
     "prompt_number": 6
    },
    {
     "cell_type": "heading",
     "level": 3,
     "metadata": {},
     "source": [
      "Example 9.5,Page number:526"
     ]
    },
    {
     "cell_type": "code",
     "collapsed": false,
     "input": [
      "#Variable declaration\n",
      "\t# A-Na+    B-Cu+2\n",
      "\t# Using the data from Table 9.1\n",
      "KA = 1.98 \n",
      "KB = 3.47 \n",
      "import math\n",
      "from scipy.optimize import fsolve\n",
      "from pylab import *\n",
      "from numpy import *\n",
      "Q = 2.4  \t\t\t\t\t# [eq/L of resin]\n",
      "\t# Charge ratio is 'n'\n",
      "n = 2 \n",
      "C = 0.05  \t\t\t\t\t#[total concentration, eq/L]\n",
      "\t# From equ 9.48\n",
      "KAB = KB/KA \n",
      "\t# From equ 9.47\n",
      "\t# ya*(1-xa)**2/(xa*(1-ya)**2) = KAB*Q/C = T\n",
      "T = KAB*Q/C \n",
      "\t# Substituting values of xA in the range 0.1< xa <1.0, we generate the       # \tdistribution curve\n",
      "ya=zeros((20))\n",
      "for i in range(1,20):\n",
      "    def f16(ya):\n",
      "        return(ya*(1-i*0.05)**2/(i*0.05*(1-ya)**2)- T) \n",
      "    ya[i] = fsolve(f16,0.99) \n",
      "    \n",
      "xa =[0,0.05,0.1,0.15,0.2,0.25,0.3,0.35,0.4,0.45,0.5,0.55,0.6,0.65,0.7,0.75,0.8,0.85,0.9,0.95] \n",
      "\n",
      "a1=plot(xa,ya) \n",
      "ylim(0,1)\n",
      "xlabel(\"$xa,Fraction of Cu+2 in Solution$\") \n",
      "ylabel(\"$ya,Fraction of CuR2 in resin$\") \n",
      "plt.grid()\n",
      "show(a1)\n",
      "print\"The curve is similar in shape to an adsorption isotherm of the very favorable type.\""
     ],
     "language": "python",
     "metadata": {},
     "outputs": [
      {
       "metadata": {},
       "output_type": "display_data",
       "png": "[encoded data removed]",
       "text": [
        "<matplotlib.figure.Figure at 0x8ef8748>"
       ]
      },
      {
       "output_type": "stream",
       "stream": "stdout",
       "text": [
        "The curve is similar in shape to an adsorption isotherm of the very favorable type.\n"
       ]
      }
     ],
     "prompt_number": 63
    },
    {
     "cell_type": "heading",
     "level": 3,
     "metadata": {},
     "source": [
      "Example 9.8,Page number:535"
     ]
    },
    {
     "cell_type": "code",
     "collapsed": false,
     "input": [
      "#Variable declaration\n",
      "\t# From example 9.7 \n",
      "alpha = 0.891  \n",
      "\t# For bed length Z = 1.829\n",
      "Z1 = 1.829  \t\t\t\t\t\t# [m]\n",
      "\n",
      "#Calculation\n",
      "\n",
      "LUB = (1-alpha)*Z1  \t\t\t\t\t# [length of unused bed, m]\n",
      "\t# For this bed length \n",
      "tb1 = 139.7  \t\t\t\t\t\t# [min]\n",
      "\t# If the bed length is increased to Z2 = 3 m\n",
      "Z2 = 3  \t\t\t\t\t\t# [m]\n",
      "\t# New break through time will be given by equation 9.64\n",
      "tb2 = tb1*(Z2/Z1)*(1-LUB/Z2)/(1-LUB/Z1)  \t\t# [min]\n",
      "\n",
      "#Result\n",
      "\n",
      "print\"The new time of breakthrough assuming constant LUB is\",round(tb2),\"minutes\""
     ],
     "language": "python",
     "metadata": {},
     "outputs": [
      {
       "output_type": "stream",
       "stream": "stdout",
       "text": [
        "The new time of breakthrough assuming constant LUB is 240.0 minutes\n"
       ]
      }
     ],
     "prompt_number": 5
    },
    {
     "cell_type": "heading",
     "level": 3,
     "metadata": {},
     "source": [
      "Example 9.9,Page number:536"
     ]
    },
    {
     "cell_type": "code",
     "collapsed": false,
     "input": [
      "#Variable declaration\n",
      "import math\n",
      "F = 7  \t\t\t\t\t# [water flow rate, L/s]\n",
      "Z = 3  \t\t\t\t\t# [m]\n",
      "d = 2.6  \t\t\t\t# [m]\n",
      "\n",
      "#Calculations\n",
      "\n",
      "A = math.pi*d**2/4  \t\t\t# [cross sectional area, square m]\n",
      "vo = 0.013  \t\t\t\t# [superficial velocity, m/s]\n",
      "\n",
      "cf = 7*10**-3  \t\t\t\t# [Ca2+ ion concentration, eq/L]\n",
      "qstar_F = 2.9  \t\t\t\t# [cation capacity, eq/kg]\n",
      "rowp = 1.34  \t\t\t\t# [kg/L]\n",
      "e = 0.38  \t\t\t\t# [porosity]\n",
      "\t# From equation 9.66\n",
      "t_star = Z*qstar_F*rowp*(1-e)/(vo*cf*3600)  \t\t\t# [hour]\n",
      "\n",
      "#Result\n",
      "\n",
      "print\"The ideal breakthrough time for the ion exchanger is\",round(t_star),\"hour\""
     ],
     "language": "python",
     "metadata": {},
     "outputs": [
      {
       "output_type": "stream",
       "stream": "stdout",
       "text": [
        "The ideal breakthrough time for the ion exchanger is 22.0 hour\n"
       ]
      }
     ],
     "prompt_number": 6
    },
    {
     "cell_type": "heading",
     "level": 3,
     "metadata": {},
     "source": [
      "Example 9.11,Page number:542"
     ]
    },
    {
     "cell_type": "code",
     "collapsed": false,
     "input": [
      "\n",
      "#Variable declaration\n",
      "mtc = 0.02  \t\t\t\t\t# [mass transfer coefficient, cm/min]\n",
      "p = 0.03  \t\t\t\t\t# [permeance, cm/min]\n",
      "F = 1  \t\t\t\t\t\t# [cubic m/h]\n",
      "W = 1000  \t\t\t\t\t# [water wash rate, kg/h]\n",
      "\t# Density of 25% H2SO4 solution at 298 K is \n",
      "d1 = 1175  \t\t\t\t\t# [kg/cubic m]\n",
      "x = 0.25  \t\t\t\t\t# [fraction of H2SO4 in solution]\n",
      "cF = 294  \t\t\t\t\t# [kg/cubic m]\n",
      "\n",
      "\n",
      "#Calculation\n",
      "\n",
      "\n",
      "K = (1/p+1/mtc)**-1 \t\t\t\t # [overall mass transfer coefficient, cm/min]\n",
      "\n",
      "\t# Flow of H2SO4 in feed\n",
      "F_sul = F*d1*x  \t\t\t\t# [kg/h]\n",
      "import math\n",
      "\t\t# For 60% recovery and rest in dialysate\n",
      "yr = 0.60 \n",
      "yd = 0.40 \n",
      "\t\t# Transmembrane flow of acid\n",
      "Ft = F_sul*yr  \t\t\t\t\t# [kg/h]\n",
      "\t# From the given water transport number, Transmembrane counterflow of water \n",
      "Fw = Ft*0.8  \t\t\t\t\t# [kg/h]\n",
      "\n",
      "\t# Now inlet and outlet concentration  from material balances\n",
      "\t# Flow of acid in dialysate\n",
      "Fad = F_sul*yd  \t\t\t\t# [kg/h]\n",
      "\n",
      "\t# Total dialysate flow\n",
      "D = F*d1-Ft+Fw  \t\t\t\t# [kg/h]\n",
      "x_aD = Fad/D  \t\t\t\t\t# [mass fraction of acid in dialysate]\n",
      "\n",
      "\t# Density of 10.3 wt % aqueous solution of sulfuric acid at 298K is\n",
      "d2 = 1064  \t\t\t\t\t# [kg/cubic m] \n",
      "\n",
      "cR = x_aD*d2  \t\t\t\t\t# [kg/cubic m]\n",
      "\t# Flow of acid in diffusate\n",
      "Fd = Ft  \t\t\t\t\t# [kg/h]\n",
      "\t\t# Total Diffusate flow\n",
      "Di = 1000-Fw+Fd \t\t\t\t # [kg/h]\n",
      "x_aDi = Fd/Di  \t\t\t\t\t# [mass fraction acid in diffusate]\n",
      "\n",
      "\t# Density of 17 wt % aqueous solution of sulfuric acid at 298 K is\n",
      "d3 = 1114  \t\t\t\t\t# [kg/cubic m]\n",
      "\n",
      "cP = x_aDi*d3  \t\t\t\t\t# [kg/cubic m]\n",
      "\t# At the free end of dialyzer \n",
      "deltaC1 = cF-cP  \t\t\t\t# [kg/cubic m]\n",
      "\t# At the dialysate end\t\n",
      "deltaC2 = cR-0  \t\t\t\t# [kg/cubic m]\n",
      "lmdf = (deltaC2-deltaC1)/(math.log(deltaC2/deltaC1))  \t# [math.log-mean driving force, kg/cubic \t\t\t\t\t\t\t\tm]\n",
      "\n",
      "\t# Therefore\n",
      "Am = Fd*100/(K*lmdf*60) \n",
      "\n",
      "#Result\n",
      "\n",
      "print\"The membrane area required is\",round(Am),\"square m\""
     ],
     "language": "python",
     "metadata": {},
     "outputs": [
      {
       "output_type": "stream",
       "stream": "stdout",
       "text": [
        "The membrane area required is 229.0 square m\n"
       ]
      }
     ],
     "prompt_number": 7
    },
    {
     "cell_type": "heading",
     "level": 3,
     "metadata": {},
     "source": [
      "Example 9.12,Page number:545"
     ]
    },
    {
     "cell_type": "code",
     "collapsed": false,
     "input": [
      "#Variable declaration\n",
      "\t# A-NaCl\n",
      "vo = 0.05  \t\t\t\t\t# [superficial velocity of water in the shell, \t\t\t\t\t\tm/s]\n",
      "T = 298  \t\t\t\t\t# [K]\n",
      "Pf = 70  \t\t\t\t\t# [bar]\n",
      "Pp = 3  \t\t\t\t\t# [pressure at permeate side, bar]\n",
      "p = 1.1*10**-5  \t\t\t\t# [water permeance, g/square cm.s.bar]\n",
      "R1 = 0.97  \t\t\t\t\t# [salt rejection]\n",
      "R = 8.314 \n",
      "xAf = 0.02  \t\t\t\t\t# [fraction of NaCl in feed side]\n",
      "xAp = 0.0005  \t\t\t\t\t# [fraction of NaCl in permeate side]\n",
      "MA = 58.5 \t\t\t\t\t # [gram/mole]\n",
      "\n",
      "\n",
      "print\"\\nSolution 9.12(a)\" \n",
      "\t# Solution(a)\n",
      "\n",
      "deltaP = Pf-Pp  \t\t\t\t# [bar]\n",
      "\t# Density of both feed and permeate is 1 g/cc\n",
      "df = 1000\t\t\t\t\t  # [kg/cubic m]\n",
      "dp = df \n",
      "\t# Bulk feed salt concentration \n",
      "csf = xAf*2*1000/MA  \t\t\t\t# [kmole/cubic m]\n",
      "\t# Bulk permeate salt concentration\n",
      "csp = xAp*2*1000/MA  \t\t\t\t# [kmole/cubic m]\n",
      "\n",
      "\t# From equation 9.76\n",
      "pif = R*T*csf/100  \t\t\t\t# [osmotic pressure at feed side, bar]\n",
      "pip = R*T*csp/100  \t\t\t\t# [osmotic pressure at permeate side, bar]\n",
      "deltapi = pif-pip  \t\t\t\t# [bar]\n",
      "\n",
      "Y = deltaP-deltapi  \t\t\t\t# [bar]\n",
      "\t# Transmembrane flux of water\n",
      "nH2O = p*Y*10**-3/(df*(10**-4*1/(60*60*24)))  \t# [cubic m/square m.day]\n",
      "\n",
      "print\"The transmembrane flux of water is\",round(nH2O,2),\"cubic m/square m.day.\"\n",
      "\n",
      "print\"\\nSolution 9.12(b)\" \n",
      "\t# Solution(b)\n",
      "\n",
      "\t# Properties of water are\n",
      "dw = 1000  \t\t\t\t\t# [kg/cubic m]\n",
      "uw = 0.9*10**-3  \t\t\t\t# [kg/m.s]\n",
      "DA = 1.6*10**-9  \t\t\t\t# [Diffusivity of NaCl in water, square m/s]\n",
      "d = 290*10**-6  \t\t\t\t# [outside diameter of fibres, m]\n",
      "phi = 0.4 \n",
      "\t# For a superficial velocity of 5 cm/sec\n",
      "Re = dw*vo*d/uw  \t\t\t\t# [Renoylds number]\n",
      "Sc = uw/(dw*DA)  \t\t\t\t# [Schmidt number]\n",
      "Sh = 8.63  \t\t\t\t\t# [Sherwood number]\n",
      "\t# Therefore \n",
      "ks = Sh*DA/d  \t\t\t\t\t# [m/s]\n",
      "\t# From equation 9.81\n",
      "\n",
      "t = nH2O*R1/(ks) \n",
      "#Since we have to find the value of 't' PER DAY...therefore we will divide by day\n",
      "#.ie\n",
      "t=t/(24*60*60)\n",
      "\n",
      "#result\n",
      "print\"The concentration polarization factor is\",round(t,3)"
     ],
     "language": "python",
     "metadata": {},
     "outputs": [
      {
       "output_type": "stream",
       "stream": "stdout",
       "text": [
        "\n",
        "Solution 9.12(a)\n",
        "The transmembrane flux of water is 0.48 cubic m/square m.day.\n",
        "\n",
        "Solution 9.12(b)\n",
        "The concentration polarization factor is 0.113\n"
       ]
      }
     ],
     "prompt_number": 8
    },
    {
     "cell_type": "heading",
     "level": 3,
     "metadata": {},
     "source": [
      "Example 9.13,Page number:548"
     ]
    },
    {
     "cell_type": "code",
     "collapsed": false,
     "input": [
      "\n",
      "#variable declaration\n",
      "import math\n",
      "\t# w-water a-proteins\n",
      "T = 293  \t\t\t\t\t# [K]\n",
      "d = 2  \t\t\t\t\t\t# [diameter of tube, cm]\n",
      "dw = 1  \t\t\t\t\t# [g/cubic cm]\n",
      "uw = 0.01  \t\t\t\t\t# [cP]\n",
      "Da = 4*10**-7  \t\t\t\t\t# [Diffusivity of proteins, square cm/s]\n",
      "vo = 1.5*100  \t\t\t\t\t# [m/s]\n",
      "Qm = 250*10**-3/3600*100  \t\t\t# [water permeance, cm/s.atm]\n",
      "cR = 40  \t\t\t\t\t# [g/L]\n",
      "\n",
      "print\"Solution 9.13(a)\\n\" \n",
      "\t# Solution(a)\n",
      "\n",
      "v = 25*10**-3/3600*100  \t\t\t# [cm/s]\n",
      "\n",
      "Re = d*vo*dw/uw  \t\t\t\t# [Renoylds number]\n",
      "Sc = uw/(dw*Da)  \t\t\t\t# [Schmidt number]\n",
      "Sh = 0.0048*Re**0.913*Sc**0.346  \t\t# [Sherwood number]\n",
      "ks = Sh*Da/d \n",
      "\t# From equation 9.87\n",
      "cS = cR*math.exp(v/ks)  \t\t\t\t# [g/L]\n",
      "\n",
      "\t# From figure 9.12\n",
      "pi1 = 2  \t\t\t\t\t# [osmotic pressure, atm]\n",
      "\t# For 100% rejection deltapi = pi1 because pi2 = 0\n",
      "\t# Therefore\n",
      "deltapi = pi1  \t\t\t\t\t# [atm]\n",
      "\t# From equation 9.83\n",
      "deltaP = deltapi+(v/Qm) \n",
      "\n",
      "print\"The required pressure differential to produce a water transmembrane volume flux of 25 L/square m.h when the membrane is clean is\",deltaP,\"atm\"\n",
      "\n",
      "\n",
      "print\"\\nSolution 9.13(b)\\n\" \n",
      "\t# Solution(b)\n",
      "\n",
      "\t# Membrane permeance is reduced fivefold by fouling\n",
      "Qm = Qm/5  \t\t\t\t\t# [cm/s.atm]\n",
      "\t# Here deltaP remains same\n",
      "\t# Equations 9.83 and 9.87, and the osmotic pressure data of Figure 9.12 must be solved \tsimultaneously by trial and error to calculate new values for these three variables.\n",
      "\t# The results are\n",
      "cS2 = 213  \t\t\t\t\t# [g/L]\n",
      "deltapi2 = 1.63  \t\t\t\t# [atm]\n",
      "v2 = 6.53*10**-4  \t\t\t\t# [cm/s]\n",
      "\n",
      "#Result\n",
      "\n",
      "print\"The water flux if the applied pressure differential remains the same as calculated in part (a) is\",round(v2*1000*10**-2*3600,1),\"L/square m.hr\"\n"
     ],
     "language": "python",
     "metadata": {},
     "outputs": [
      {
       "output_type": "stream",
       "stream": "stdout",
       "text": [
        "Solution 9.13(a)\n",
        "\n",
        "The required pressure differential to produce a water transmembrane volume flux of 25 L/square m.h when the membrane is clean is 2.1 atm\n",
        "\n",
        "Solution 9.13(b)\n",
        "\n",
        "The water flux if the applied pressure differential remains the same as calculated in part (a) is 23.5 L/square m.hr\n"
       ]
      }
     ],
     "prompt_number": 9
    }
   ],
   "metadata": {}
  }
 ]
}