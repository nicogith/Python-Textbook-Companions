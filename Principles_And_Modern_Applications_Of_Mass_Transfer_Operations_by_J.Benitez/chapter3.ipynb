{
 "metadata": {
  "name": ""
 },
 "nbformat": 3,
 "nbformat_minor": 0,
 "worksheets": [
  {
   "cells": [
    {
     "cell_type": "heading",
     "level": 1,
     "metadata": {},
     "source": [
      "Chapter 3:lnterphase Mass Transfer"
     ]
    },
    {
     "cell_type": "heading",
     "level": 3,
     "metadata": {},
     "source": [
      "Example 3.1,Page number:161"
     ]
    },
    {
     "cell_type": "code",
     "collapsed": false,
     "input": [
      "#Variable declaration\n",
      "\t# a-benzene   b-toluene\n",
      "T = 300  \t\t\t\t\t# [K]\n",
      "x_a = 0.4  \t\t\t\t\t# [mole fraction in liquid phase]\n",
      "\t# Antoine constants for benzene and toluene are given\n",
      "\t# For benzene\n",
      "A_a = 15.9008 \n",
      "B_a = 2788.51 \n",
      "C_a = -52.36 \n",
      "# For toluene\n",
      "A_b = 16.0137 \n",
      "B_b = 3096.52 \n",
      "C_b = -53.67 \n",
      "\n",
      "#Calculation\n",
      "\n",
      "import math\n",
      "\n",
      "\t# Using equation 3.5 vapor pressure of component 'a' and 'b'\n",
      "P_a = math.exp(A_a-(B_a/(T+C_a)))  \t\t# [mm of Hg]\n",
      "P_b = math.exp(A_b-(B_b/(T+C_b)))  \t\t# [mm of Hg]\n",
      "\n",
      "P_a = P_a*101.3/760  \t\t\t\t# [kPa]\n",
      "P_b = P_b*101.3/760  \t\t\t\t# [kPa]\n",
      "\t# Partial pressure of component 'a' and 'b'\n",
      "p_a = x_a*P_a  \t\t\t\t\t# [kPa]\n",
      "p_b = (1-x_a)*P_b  \t\t\t\t# [kPa]\n",
      "P_total = p_a+p_b  \t\t\t\t# [kPa]\n",
      "\n",
      "#Result\n",
      "\n",
      "print\"The total equilibrium pressure of the binary system of benzene and toluene is\",round(P_total,2),\" kPa\" \n",
      "\n",
      "y_a = p_a/P_total  \t\t\t\t# [mole fraction in vapor phase]\n",
      "print\"The composition of the vapor in equilibrium is\",round(y_a,3)  "
     ],
     "language": "python",
     "metadata": {},
     "outputs": [
      {
       "output_type": "stream",
       "stream": "stdout",
       "text": [
        "The total equilibrium pressure of the binary system of benzene and toluene is 8.02  kPa\n",
        "The composition of the vapor in equilibrium is 0.688\n"
       ]
      }
     ],
     "prompt_number": 9
    },
    {
     "cell_type": "heading",
     "level": 3,
     "metadata": {},
     "source": [
      "Example 3.2,Page number:162"
     ]
    },
    {
     "cell_type": "code",
     "collapsed": false,
     "input": [
      "#Variable declaration\n",
      "\t# A-oxygen   B-water\n",
      "T = 298  \t\t\t\t\t# [K]\n",
      "H = 4.5*10**4  \t\t\t\t\t# [atm/mole fraction]\n",
      "P = 1  \t\t\t\t\t\t# [atm]\n",
      "row_B = 1000.0 \t\t\t\t\t# [density of water, kg/cubic m]\n",
      "M_B = 18.0  \t\t\t\t\t# [Molecular mass of water, gram/mole]\n",
      "M_A = 32.0  \t\t\t\t\t# [,Molecular mass of oxygen, gram/mole]\n",
      "\n",
      "\n",
      "\t# Dry air contains 21% oxygen  then p_A = y*P = 0.21 atm\n",
      "\t# Therefore using Henry's Law\n",
      "p_A = 0.21  \t\t\t\t\t# [atm]\n",
      "x_A = p_A/H  \t\t\t\t\t# [mole fraction in liquid phase]\n",
      "\n",
      "\t# Basis: 1L of saturated solution\n",
      "\t# For 1 L of very dilute solution of oxygen in water, the total moles of solution, n_t, \twill be approximately equal to the moles of water\n",
      "n_t = row_B/M_B\n",
      "\t# Moles of oxygen in 1L saturated solution is\n",
      "n_o = n_t*x_A  \t\t\t\t\t# [mole]\n",
      "\t# Saturation concentration\n",
      "c_A = n_o*M_A*1000  \t\t\t\t# [mg/L]\n",
      "\n",
      "#Result\n",
      "\n",
      "print\"The saturation concentration of oxygen in water exposed to dry air at 298 K and 1 atm is\",round(c_A,2),\"mg/L\"  "
     ],
     "language": "python",
     "metadata": {},
     "outputs": [
      {
       "output_type": "stream",
       "stream": "stdout",
       "text": [
        "The saturation concentration of oxygen in water exposed to dry air at 298 K and 1 atm is 8.3 mg/L\n"
       ]
      }
     ],
     "prompt_number": 10
    },
    {
     "cell_type": "heading",
     "level": 3,
     "metadata": {},
     "source": [
      "Example 3.3,Page number:162"
     ]
    },
    {
     "cell_type": "code",
     "collapsed": false,
     "input": [
      "#Variable declaration\n",
      "\t# a-ammonia   b-air   c-water\n",
      "T = 300  \t\t\t\t\t# [K]\n",
      "P = 101.3  \t\t\t\t\t# [kPa]\n",
      "R = 8.314  \t\t\t\t\t# [cubic m.Pa/mole.K]\n",
      "V_b = 15.0  \t\t\t\t\t# [cubic m]\n",
      "m_a = 10.0  \t\t\t\t\t# [kg]\n",
      "m_c = 45.0  \t\t\t\t\t# [kg]\n",
      "M_a = 17.0  \t\t\t\t\t# [molecular mass of ammonia, gram/mole\n",
      "M_c = 18.0  \t\t\t\t\t# [molecular mass of water, gram/mole]\n",
      "\n",
      "\n",
      "#Calculations\n",
      "\n",
      "n_b = V_b*P/(R*T)  \t\t\t\t# [kmole]\n",
      "n_a = m_a/M_a  \t\t\t\t\t# [kmole]\n",
      "n_c = m_c/M_c  \t\t\t\t\t# [kmole]\n",
      "\n",
      "import math\n",
      "from scipy.optimize import fsolve\n",
      "\n",
      "def f12(L_a):\n",
      "    return(((n_a-L_a)/(n_b+n_a-L_a))-(10.51*(0.156+(0.622*(L_a/(n_c+L_a))*(5.765*(L_a/(n_c+L_a))-1)))*(L_a/(n_c+L_a)))) \n",
      "L_a = fsolve(f12,0.3)  # [kmole]\n",
      "\n",
      "x_a = L_a/(n_c+L_a) \n",
      "y_a = (n_a-L_a)/(n_b+n_a-L_a) \n",
      "gammma_a = 0.156+0.622*x_a*(5.765*x_a-1) \n",
      "\n",
      "#Result\n",
      "\n",
      "print\"At equilibrium the ammonia content of the liquid phase will be\",x_a[0] \n",
      "print\"At equilibrium the ammonia content of the gas phase will be\",y_a[0] \n",
      "print\"The amount of ammonia absorbed by the water will be\",round(L_a[0],3),\"kmole\"   "
     ],
     "language": "python",
     "metadata": {},
     "outputs": [
      {
       "output_type": "stream",
       "stream": "stdout",
       "text": [
        "At equilibrium the ammonia content of the liquid phase will be 0.144495485596\n",
        "At equilibrium the ammonia content of the gas phase will be 0.214117393686\n",
        "The amount of ammonia absorbed by the water will be 0.422 kmole\n"
       ]
      }
     ],
     "prompt_number": 11
    },
    {
     "cell_type": "heading",
     "level": 3,
     "metadata": {},
     "source": [
      "Example 3.4,Page number:169"
     ]
    },
    {
     "cell_type": "code",
     "collapsed": false,
     "input": [
      "#Variable declaration\n",
      "\t#  a-ammonia\n",
      "T  = 300  \t\t\t\t\t# [K]\n",
      "P = 101.3  \t\t\t\t\t# [kPa]\n",
      "Kg = 2.75*10**-6  \t\t\t\t# [kmole/square m.s.kPa]\n",
      "m = 1.64 \n",
      "res = 0.85  \t\t\t\t\t# [gas phase resistance]\n",
      "xa_g = 0.115/100.0  \t\t\t\t# [mole fraction of NH3 in liquid phase at a \t\t\t\t\t\t\tpoint]]\n",
      "\n",
      "#Calculations\n",
      "\n",
      "ya_g = 8.0/100.0  \t\t\t\t\t# [mole fraction of NH3 in gas phase at a \t\t\t\t\t\t\tpoint]\n",
      "import math\n",
      "from scipy.optimize import fsolve\n",
      "\n",
      "Ky = Kg*P  \t\t\t\t\t# [kmole/square m.s]\n",
      "\t# Using equation 3.24\n",
      "ky = Ky/res  \t\t\t\t\t# [kmole/square m.s]\n",
      "\t\t\t\t\t\t# Using equation 3.21\n",
      "def f12(kx):\n",
      "    return((m/kx)-(1/Ky)+(1/ky)) \n",
      "kx = fsolve(f12,0.0029)  \t\t\t# [kmole/square m.s]\n",
      "\n",
      "\t# Interfacial concentrations at this particular point in the column, using equation \t\t\t(3.15)\n",
      "ystar_a = m*xa_g \n",
      "\t# Using equation 3.12\n",
      "N_a = Ky*(ya_g-ystar_a)  \t\t\t# [kmole/square m.s]\n",
      "\t# Gas-phase interfacial concentration from equation (3.9)\n",
      "ya_i = ya_g-(N_a/ky) \n",
      "\t# Since the interfacial concentrations lie on the equilibrium line, therefore\n",
      "xa_i = ya_i/m \n",
      "\t# Cross checking the value of N_a\n",
      "N_a = kx*(xa_i-xa_g)  \t\t\t\t# [kmole/square m.s]\n",
      "\n",
      "\n",
      "#Result\n",
      "\n",
      "print\"The individual liquid film coefficient and gas film coefficient are\",round(kx[0],5),\"kmole/square m.s and \",round(ky,6),\"kmole/square m.s respectively\" \n",
      "\n",
      "print\"The gas phase and liquid phase interfacial concentrations are\",round(ya_i,5),\"and,\",round(xa_i,5),\"respectively\" "
     ],
     "language": "python",
     "metadata": {},
     "outputs": [
      {
       "output_type": "stream",
       "stream": "stdout",
       "text": [
        "The individual liquid film coefficient and gas film coefficient are 0.00305 kmole/square m.s and  0.000328 kmole/square m.s respectively\n",
        "The gas phase and liquid phase interfacial concentrations are 0.0136 and, 0.00829 respectively\n"
       ]
      }
     ],
     "prompt_number": 12
    },
    {
     "cell_type": "heading",
     "level": 3,
     "metadata": {},
     "source": [
      "Example 3.5,Page number:171"
     ]
    },
    {
     "cell_type": "code",
     "collapsed": false,
     "input": [
      "#Variable declaration\n",
      "\t#  a-ammonia\n",
      "T = 300  \t\t\t\t\t# [K]\n",
      "P = 101.3  \t\t\t\t\t# [kPa]\n",
      "ya_g = 0.6  \t\t\t\t\t# [ammonia concentration in bulk gas]\n",
      "xa_l = 0.12  \t\t\t\t\t# [ammonia concentration in bulk liquid]\n",
      "Fl = 3.5*10**-3 \t \t\t\t# [kmole/square m.s]\n",
      "Fg = 2*10**-3  \t\t\t\t\t# [kmole/square m.s]\n",
      "\n",
      "#Calculations\n",
      "\n",
      "import math\n",
      "from scipy.optimize import fsolve \n",
      "# Algebraic solution (a)\n",
      "\n",
      "\n",
      "def f12(xa_i):\n",
      "    return(1-(1-ya_g)*((1-xa_l)/(1-xa_i))**(Fl/Fg) - 10.51*(0.156+0.622*xa_i*(5.765*xa_i-1))*xa_i) \n",
      "xa_i = fsolve(f12,0.2) \n",
      "\n",
      "ya_i = 1-(1-ya_g)*((1-xa_l)/(1-xa_i))**(Fl/Fg) \n",
      "\n",
      "#Result\n",
      "\n",
      "print\"The local gas and liquid interfacial concentrations are\",round(ya_i[0],3),\"and\",round(xa_i[0],3),\"respectively\" \n",
      "\t# Using equation 3.28 \n",
      "\n",
      "N_a = Fg*math.log((1-ya_i)/(1-ya_g)) \n",
      "\n",
      "print\"The local ammonia mass-transfer flux is\",round(N_a,5),\"kmole/square m.s\"\n",
      " "
     ],
     "language": "python",
     "metadata": {},
     "outputs": [
      {
       "output_type": "stream",
       "stream": "stdout",
       "text": [
        "The local gas and liquid interfacial concentrations are 0.494 and 0.231 respectively\n",
        "The local ammonia mass-transfer flux is 0.00047 kmole/square m.s\n"
       ]
      }
     ],
     "prompt_number": 13
    },
    {
     "cell_type": "heading",
     "level": 3,
     "metadata": {},
     "source": [
      "Example 3.6,Page number:174"
     ]
    },
    {
     "cell_type": "code",
     "collapsed": false,
     "input": [
      "#Variable declaration\n",
      "#  a-methanol   b-water\n",
      "T = 360.0  # [K]\n",
      "P = 101.3  # [kPa]\n",
      "lambda_a = 33.3  # [MJ/kmole]\n",
      "lambda_b = 41.3  # [MJ/kmole]\n",
      "Fg = 0.0017  # [kmole/square m.s]\n",
      "Fl = 0.0149  # [kmole/square m.s]\n",
      "yag = 0.36  # [bulk gas phase concentration]\n",
      "xag = 0.20  # [bulk liquid phase concentration]\n",
      "R = 1.987  \n",
      "\n",
      "\n",
      "#Calculations\n",
      "\n",
      "import math\n",
      "from numpy import *\n",
      "from scipy.optimize import fsolve\n",
      "\n",
      "\n",
      "sia_ag= 1.0/(1-(lambda_a/lambda_b))\n",
      "print\"sia_g is\",sia_ag\n",
      "#sia_ag =5.155 \n",
      "sia_al = sia_ag \n",
      "# Therefore equation 3.29 becomes\n",
      "# yai = 5.155-4.795(4.955/(5.155-xai))**8.765\n",
      "\n",
      "# Using equation 3.33, 3.34, 3.35\n",
      "V2 = 18.07  # [cubic cm/mole]\n",
      "V1 = 40.73  # [cubic cm/mole]\n",
      "a12 = 107.38  # [cal/mole]\n",
      "a21 = 469.5  # [cal/mole]\n",
      "\n",
      "# Solution of simultaneous equation \n",
      "def F(e):\n",
      "    x1,x2,y1,y2,e4=e\n",
      "     \n",
      "    #####SIDE Quantities#####\n",
      "    a=(V1/V2)*math.exp(-a21/(R*e4))           #d2lT\n",
      "    a1=(V2/V1)*math.exp(-a12/(R*e4))             #dl2(T) \n",
      "    b=math.exp(16.2620-3800.0/(e4-47))           #P2(T)\n",
      "    b1=math.exp(16.5938-3644.3/(e4-33))           #P1(T)\n",
      "    c=math.exp(-log(x2+x1*a)-x1*(a1/(x1+x2*a1)-a/(x2+x1*a)))     #gamma_2\n",
      "    d=math.exp(-log(x1+x2*a1)-x1*(a1/(x1+x2*a1)-a/(x2+x1*a)))    #gamma_1\n",
      "    #########################\n",
      "    x1=1-x2\n",
      "    y2=1-y1\n",
      "    y1=5.155-4.795*(4.955/(5.155-x2))**(Fl/Fg) \n",
      "    y1=x1*d*b1/P\n",
      "    y2=x2*c*b/P\n",
      "    return(x1,x2,y1,y2,e4)    \n",
      "# Initial guess\n",
      "y = fsolve(F,(0.1,0.9,0.2,0.8,300)) \n",
      "xai = y[0] \n",
      "xbi = y[1] \n",
      "yai = y[2] \n",
      "ybi = y[3] \n",
      "T = y[4]  # [K]\n",
      "\n",
      "print\"yai is\",yai\n",
      "print\"ybi is\",ybi\n",
      "print\"xai is\",xai\n",
      "print\"xbi is\",xbi\n",
      "print\"Temperature is\",T,\"K\" \n",
      "# Local Methanol flux, using equation 3.28\n",
      "Na = sia_ag*Fg*math.log((sia_ag-yai)/(sia_ag-yag))  # [kmole/square m.s]\n",
      "# From energy balance\n",
      "Nb = -(lambda_a/lambda_b)*Na\n",
      "#Result\n",
      "\n",
      "print\"Local Methanol flux is\",round(Na,4),\" (APPROX) kmole/square m.s\""
     ],
     "language": "python",
     "metadata": {},
     "outputs": [
      {
       "output_type": "stream",
       "stream": "stdout",
       "text": [
        "sia_g is 5.1625\n",
        "yai is 0.2\n",
        "ybi is 0.8\n",
        "xai is 0.1\n",
        "xbi is 0.9\n",
        "Temperature is 300.0 K\n",
        "Local Methanol flux is 0.0003  (APPROX) kmole/square m.s\n"
       ]
      }
     ],
     "prompt_number": 14
    },
    {
     "cell_type": "heading",
     "level": 3,
     "metadata": {},
     "source": [
      "Example 3.7,Page number:183"
     ]
    },
    {
     "cell_type": "code",
     "collapsed": false,
     "input": [
      "#Variable declaration\n",
      "\t# 1-benzene a-absorber s-steams\n",
      "T = 300  \t\t\t\t\t\t# [K]\n",
      "P = 101.3  \t\t\t\t\t\t# [kPa]\n",
      "R = 8.314  \t\t\t\t\t\t# [gas constant]\n",
      "v = 1  \t\t\t\t\t\t\t# [cubic m/s]\n",
      "\t# Gas in\n",
      "y1a = 0.074 \n",
      "\t# Liquid in\n",
      "x2a = 0.0476\n",
      "\t# Recovery is 85 %\n",
      "\t# Calculations for absorber section\n",
      "\n",
      "\n",
      "#Calculations\n",
      "import matplotlib\n",
      "%matplotlib inline\n",
      "import math\n",
      "from pylab import *\n",
      "from numpy import *\n",
      "\n",
      "\n",
      "V1a = P*v/(R*T)  \t\t\t\t\t# [kmole/s]\n",
      "\t\t\t\t\t\t\t# Inert gas molar velocity\n",
      "Vsa = V1a*(1-y1a)  \t\t\t\t\t# [kmole/s]\n",
      "Y1a = y1a/(1-y1a)  \t\t\t\t\t# [kmole of benzene/kmole of dry gas]\n",
      "\n",
      "X2a = x2a/(1-x2a)  \t\t\t\t\t# [kmole of benzene/kmole of oil]\n",
      "\t# Since the absorber will recover 85% of the benzene in the entering gas, the \t\tconcentration of the gas leaving it will be\n",
      "r = 0.85 \n",
      "Y2a = (1-r)*Y1a  \t\t\t\t\t# [kmole of benzene/kmole of dry gas]\n",
      "\t# The benzene-wash oil solutions are ideal, and the pressure is low  therefore, Raoult\u2019s \t\tlaw applies. From equations 3.1, 3.44, and 3.45\n",
      "\t#      yia = 0.136*xia\n",
      "\t# or   Yia/(1+Yia) = 0.136*Xia/(1+Xia)\n",
      "\n",
      "\t# Data_eqm = [Xia,Yia]\n",
      "Data_eqm =matrix([[0,0],[0.1,0.013],[0.2,0.023],[0.3,0.032],[0.4,0.04],[0.6,0.054],[0.8,0.064],[1,0.073],[1.2,0.080],[1.4,0.086]])\n",
      "\n",
      "\t# Here because of the shape of equilibrium curve, the operating line for minimum oil rate \tmust be tangent to curve\n",
      "\t# Therefore\n",
      "\t# From the curve X1a_max = 0.91\n",
      "X1a_max = 0.91  \t\t\t\t\t# [kmol benzene/kmol oil]\n",
      "\n",
      "\t# For minimum operating line slope is \n",
      "S = (Y1a-Y2a)/(X1a_max-X2a)  \t\t\t\t# [kmol oil/kmol air]\n",
      "\t# Therfore\n",
      "Lsa_min = S*Vsa  \t\t\t\t\t# [kmole oil/s]\n",
      "Data_minSlope1 = matrix([[X2a,Y2a],[X1a_max,Y1a]]) \n",
      " \n",
      "\t# For Actual operating line, oil flow rate is twice the minimum\n",
      "Lsa = 2*Lsa_min  \t\t\t\t\t# [kmole oil/s]\n",
      "M_oil = 198  \t\t\t\t\t\t# [molecular weight of oil, gram/mole]\n",
      "\n",
      "Wsa = Lsa*M_oil  \t\t\t\t\t# [mass flow rate of oil, kg/s]\n",
      "\t# Using equation 3.47 to calculate the actual concentration of the liquid phase leaving \tthe absorber\n",
      "X1a = X2a + Vsa*(Y1a-Y2a)/Lsa  \t\t\t\t# [kmol benzene/kmol oil]\n",
      "Data_opline1 = matrix([[X2a,Y2a],[X1a,Y1a]]) \n",
      "figure(1)\n",
      "a1=plot(Data_eqm[:,0],Data_eqm[:,1],label='$Equilibrium line for absorber$')\n",
      "a2=plot(Data_minSlope1[:,0],Data_minSlope1[:,1],label='$Minimum Flow Rate Line for absorber$')\n",
      "a3=plot(Data_opline1[:,0],Data_opline1[:,1],label='$Operating Line for absorber$') \n",
      "legend(loc='lower right')\n",
      "plt.grid()\n",
      "xlabel(\"Xa,mole benzene/mole oil\") \n",
      "ylabel(\"Ya, mole benzene/mole air\") \n",
      "title(\"XY diagram for the absorber of Example 3.7\")\n",
      "show(a1)\n",
      "show(a2)\n",
      "show(a3)\n",
      "\t# Calculations for stripping section\n",
      "Lss = Lsa \n",
      "X2s = X1a \n",
      "X1s = X2a \n",
      "Y1s = 0 \n",
      "T = 373  # [K]\n",
      "\t# Applying Raoult\u2019s law at this temperature gives us\n",
      "\t# yis = 1.77*xis\n",
      "\t# Yis/(1+Yis) = 1.77*Xis/(1+Xis)\n",
      "\n",
      "\t# Equilibrium data \n",
      "\t# Data_equm = [Xis,Yis]\n",
      "Data_equm = matrix([[0,0],[0.05,0.092],[0.1,0.192],[0.15,0.3],[0.2,0.418],[0.25,0.548],[0.3,0.691],[0.35,0.848],[0.4,1.023],[0.45,1.219],[0.5,1.439]]) \n",
      "\n",
      "\t# Similar procedure as above is followed\n",
      "\t# The operating line for minimum oil rate must be tangent to curve \t\n",
      "\t# Therefore from the curve\n",
      "Y2s_max = 1.175  \t\t\t\t\t# [kmol benzene/kmol steam]\n",
      "S = (Y2s_max-Y1s)/(X2s-X1s)  \t\t\t\t# [kmole oil/kmole steam]\n",
      "Vss_min = Lss/S  \t\t\t\t\t# [kmole/s]\n",
      "Vss = 1.5*Vss_min  \t\t\t\t\t# [kmole/s]\n",
      "Mss = 18 \t\t\t\t\t\t# [molecular weight of steam, gram/mole]\n",
      "Wss = Vss*Mss  \t\t\t\t\t\t# [kg steam/s]\n",
      "\n",
      "Data_minSlope2 = matrix([[X1s,Y1s],[X2s,Y2s_max]]) \n",
      "\n",
      "Y2s_act = Y1s + Lss*(X2s-X1s)/Vss  \t\t\t# [kmol benzene/kmol steam]\n",
      "\n",
      "Data_opline2 = matrix([[X1s,Y1s],[X2s,Y2s_act]]) \n",
      "\n",
      "figure(2)\n",
      "a1=plot(Data_equm[:,0],Data_equm[:,1],label='$Equilibrium line for stripping$')\n",
      "a2=plot(Data_minSlope2[:,0],Data_minSlope2[:,1],label='$Minimum Flow Rate for stripping Line$')\n",
      "a3=plot(Data_opline2[:,0],Data_opline2[:,1],label='$Operating Line for stripping$') \n",
      "#legend(\"Equilibrium line for stripping\",\"Minimum Flow Rate for stripping Line\",\"Operating Line #for stripping\") \n",
      "legend(loc='upper left')\n",
      "xlabel(\"Xa, mole benzene/mole oil\") \n",
      "ylabel(\"Ya, mole benzene/mole air\") \n",
      "title(\"XY diagram for stripper of Example 3.7\")\n",
      "plt.grid()\n",
      "show(a1)\n",
      "show(a2)\n",
      "show(a3)\n",
      "#Result\n",
      "\n",
      "print\"The oil circulation rate and steam rate required for the operation is\",round(Wsa,2),\"kg/s\",round(Wss,3),\" kg steam/s respectively\" "
     ],
     "language": "python",
     "metadata": {},
     "outputs": [
      {
       "metadata": {},
       "output_type": "display_data",
       "png": "[encoded data removed]",
       "text": [
        "<matplotlib.figure.Figure at 0x7f5ee15fab90>"
       ]
      },
      {
       "metadata": {},
       "output_type": "display_data",
       "png": "[encoded data removed]",
       "text": [
        "<matplotlib.figure.Figure at 0x7f5ee1400250>"
       ]
      },
      {
       "output_type": "stream",
       "stream": "stdout",
       "text": [
        "The oil circulation rate and steam rate required for the operation is 1.18 kg/s 0.059  kg steam/s respectively\n"
       ]
      }
     ],
     "prompt_number": 1
    },
    {
     "cell_type": "heading",
     "level": 3,
     "metadata": {},
     "source": [
      "Example 3.8,Page number:190"
     ]
    },
    {
     "cell_type": "code",
     "collapsed": false,
     "input": [
      "import matplotlib\n",
      "%matplotlib inline\n",
      "from numpy import *\n",
      "from pylab import *\n",
      "#Variable declaration\n",
      "\t# 1-Nitrogen dioxide  2-air\n",
      "T = 298  \t\t\t\t\t# [K]\n",
      "P = 101.3  \t\t\t\t\t# [kPa]\n",
      "y1 = 0.015 \n",
      "V1 = 0.5  \t\t\t\t\t# [mass flow rate of the gas entering the \t\t\t\t\t\tadsorber, kg/s]\n",
      "M1 = 46  \t\t\t\t\t# [gram/mole]\n",
      "M2 = 29  \t\t\t\t\t# [gram/mole]\n",
      "\n",
      "\n",
      "#Calculations\n",
      "\n",
      "\t# Data_eqm1 = [P1 m] (where 'P1' is Partial pressure of NO2 in mm of Hg, 'm' is solid \tconcentration in kg NO2/kg gel)\n",
      "Data_eqm1 = matrix([[0,0],[2,0.4],[4,0.9],[6,1.65],[8,2.60],[10,3.65],[12,4.85]]) \n",
      "\n",
      "\n",
      "Y1 = y1*M1/((1-y1)*M2)  \t\t\t# [kg NO2/kg air]\n",
      "\t# For 85% removal of the NO2,\n",
      "Y2 = 0.15*Y1  \t\t\t\t\t# [kg NO2/kg air]\n",
      "\t# Since the entering gel is free of NO2,\n",
      "X2 = 0 \n",
      "\n",
      "Data_eqm =matrix([[0,0],[0.4,0.42],[0.9,0.83],[1.65,1.26],[2.6,1.69],[3.65,2.11],[4.85,2.54]]) \n",
      "\n",
      "\t# The operating line for minimum slope is tangent to curve, from which we get\n",
      "X1_max = 0.0375  \t\t\t\t# [kg NO2/kg gel]\n",
      "\n",
      "wb1 = 1/(1+Y1) \n",
      "Vs = V1*wb1  \t\t\t\t\t# [mass velocity of the air, kg/s] \n",
      "Ls_min = Vs*(Y1-Y2)/(X1_max-X2)  \t\t# [kg gel/s]\n",
      "Data_minSlope = matrix([[X2,Y2],[X1_max,Y1]])*100 \n",
      "\t\t\t\t\t\t# Operating line\n",
      "Ls = 2*Ls_min  \t\t\t\t\t# [kg gel/s]\n",
      "\n",
      "X1 = X2 + Vs*(Y1-Y2)/Ls  \t\t\t# [kg NO2/kg gel]\n",
      "\n",
      "\n",
      "#Result\n",
      "\n",
      "\n",
      "a1=plot(Data_eqm[:,0],Data_eqm[:,1],label='$Equilibrium line$')\n",
      "a2=plot(Data_minSlope[:,0],Data_minSlope[:,1],label='$Minimum Flow Rate Line$')\n",
      "a3=plot((3.75,3.75),(0,2.45),'--')\n",
      "a4=plot((0,3.75),(2.45,2.45),'r--')\n",
      "legend(loc='upper left')\n",
      "xlabel(\"$Xa*100, kg NO2/kg gel$\") \n",
      "ylabel(\"$Ya*100, kh NO2/kg air$\") \n",
      "title('X-Y diagram for the adsorber')\n",
      "annotate(\"X1(max)\", xy=(3.75, 2.45), xytext=(4,2.5),\n",
      "            arrowprops=dict(facecolor='black', shrink=0.01),\n",
      "            )\n",
      "show(a1)\n",
      "show(a2)\n",
      "show(a3)\n",
      "show(a4)\n",
      "print\"Mass flow rate of the and the composition of the gel leaving the absorber are\",round(Ls,3),\"kg gel/s and\",round(X1,4),\"kg No2/kg gel\""
     ],
     "language": "python",
     "metadata": {},
     "outputs": [
      {
       "metadata": {},
       "output_type": "display_data",
       "png": "[encoded data removed]",
       "text": [
        "<matplotlib.figure.Figure at 0x7f51ee6d47d0>"
       ]
      },
      {
       "output_type": "stream",
       "stream": "stdout",
       "text": [
        "Mass flow rate of the and the composition of the gel leaving the absorber are 0.535 kg gel/s and 0.0187 kg No2/kg gel\n"
       ]
      }
     ],
     "prompt_number": 1
    },
    {
     "cell_type": "heading",
     "level": 3,
     "metadata": {},
     "source": [
      "Example 3.9,Page number:194"
     ]
    },
    {
     "cell_type": "code",
     "collapsed": false,
     "input": [
      "#Variable declaration\n",
      "\t# 1-Nitrogen dioxide  2-air\n",
      "\t# From Example 3.8\n",
      "Y1 = 0.0242  \t\t\t\t\t# [kg NO2/kg air]\n",
      "Y2 = 0.0036  \t\t\t\t\t# [kg NO2/kg air]\n",
      "Vs = 0.488  \t\t\t\t\t# [kg air/s]\n",
      "M1 = 46  \t\t\t\t\t# [gram/mole]\n",
      "M2 = 29  \t\t\t\t\t# [gram/mole]\n",
      "\t# However here\n",
      "import matplotlib\n",
      "%matplotlib inline\n",
      "import math \n",
      "from pylab import *\n",
      "from numpy import *\n",
      "X1 = 0 \n",
      "\n",
      "\n",
      "#Calculations\n",
      "\n",
      "\t# Data_eqm1 = [P1 m] (where 'P1' is Partial pressure of NO2 in mm of Hg, 'm' is solid \tconcentration in kg NO2/kg gel)\n",
      "Data_eqm1 =matrix([[0,0],[2,0.4],[4,0.9],[6,1.65],[8,2.60],[10,3.65],[12,4.85]]) \n",
      "\n",
      "\t# The equilibrium data are converted to mass ratios as follows:\n",
      "\t# Yi = P1/(760-P1)*46/29 (kg NO2/kg air)  Xi = m/100 (kg NO2/kg gel)\n",
      "\t# Equilibrium data\n",
      "\t# Data_eqm = [Xi*100 Yi*100]\n",
      "\n",
      "Data_eqm=matrix([[0,0],[0.4,0.4185242],[0.9,0.8392629],[1.65,1.2622336],[2.6,1.6874541],[3.65,2.1149425],[4.85,2.5447169]]) \n",
      "\t# From the intersection of the minimum operating line and equilibrium curve\n",
      "X2_max = 0.0034  \t\t\t\t# [kg NO2/kg gel]\n",
      "S = (Y1-Y2)/(X1-X2_max)  \t\t\t# [kg gel/kg air]\n",
      "Ls_min = -S*Vs  \t\t\t\t# [kg/s]\n",
      "\n",
      "Ls = 2*Ls_min  \t\t\t\t\t# [kg/s]\n",
      "Data_minSlope =matrix([[X1,Y1],[X2_max,Y2]])*100 \n",
      "\n",
      "\n",
      "#Result\n",
      "\n",
      "\n",
      "a1=plot(Data_eqm[:,0],Data_eqm[:,1],label='$Equilibrium line $')\n",
      "a2=plot(Data_minSlope[:,0],Data_minSlope[:,1],label='$Minimum Flow Rate Line$') \n",
      "legend(loc='upper right') \n",
      "xlabel(\"Xa*100, kg NO2/kg gel\") \n",
      "ylabel(\"Ya*100, kh NO2/kg air\") \n",
      "title('X-Y diagram for the cocurrent adsorber')\n",
      "annotate(\"M\", xy=(0.34,0.36), xytext=(0.34,0.36)\n",
      "            )\n",
      "annotate(\"X2(max)\", xy=(0.34,0.0), xytext=(0.34,0.01)\n",
      "            )\n",
      "show(a1)\n",
      "show(a2)\n",
      "print\"The mass velocity of the silica gel required for cocurrent operation is\",round(Ls,2),\"kg/s which is 11 times that required for countercurrent operation\""
     ],
     "language": "python",
     "metadata": {},
     "outputs": [
      {
       "metadata": {},
       "output_type": "display_data",
       "png": "[encoded data removed]",
       "text": [
        "<matplotlib.figure.Figure at 0x7f51ee6250d0>"
       ]
      },
      {
       "output_type": "stream",
       "stream": "stdout",
       "text": [
        "The mass velocity of the silica gel required for cocurrent operation is 5.91 kg/s which is 11 times that required for countercurrent operation\n"
       ]
      }
     ],
     "prompt_number": 2
    },
    {
     "cell_type": "heading",
     "level": 3,
     "metadata": {},
     "source": [
      "Example 3.10,Page number:199"
     ]
    },
    {
     "cell_type": "code",
     "collapsed": false,
     "input": [
      "#Variable declaration\n",
      "# From Example 3.7\n",
      "X2a = 0.05  \n",
      "X0 = X2a  \t\t\t\t# [kmole benzene/kmole oil]\n",
      "Y2a = 0.012 \n",
      "Y1 = Y2a  \t\t\t\t# [kmole benzene/kmole dry gas]\n",
      "X1a = 0.480  \n",
      "Xn = X1a  \t\t\t\t# [kmole benzene/kmole oil]\n",
      "Y1a = 0.080  \n",
      "Yn1 = Y1a  \t\t\t\t# [kmole benzene/kmole dry gas]\n",
      "\t# Ideal stages for absorber section\n",
      "\n",
      "m = 0.097  \t\t\t\t# [mole of oil/mole of dry gas]\n",
      "Lsa = 0.006  \t\t\t\t# [kmole/s]\n",
      "Vsa = 0.038  \t\t\t\t# [kmole/s]\n",
      "\n",
      "#Calculations\n",
      "\n",
      "A = Lsa/(m*Vsa)  \t\t\t# [Absorption factor]\n",
      "import math\n",
      "\t# From equation 3.54 by Kremser equation\n",
      "Nk = math.log((((Yn1-m*X0)*(1-1/A))/(Y1-m*X0))+1/A)/(math.log(A)) \n",
      "\n",
      "\n",
      "\t# Ideal stages from graph \n",
      "\t# Stair case construction is being made between equilibrium curve and operating line from \tpiont X2a,Y2a to X1a,Y1a\n",
      "\t# A more precise estimate of stages\n",
      "\t# From figure 3.25 or from graph made for absorber in Example 3.7\n",
      "Xa = 0.283 \n",
      "Xb = 0.480 \n",
      "Xc = 0.530 \n",
      "Na = 3+(Xb-Xa)/(Xc-Xa)\n",
      "print\"ABSORBER\"\n",
      "print\"The number of ideal stages from graph in the absorber is\",round(Na,1)\n",
      "print\"Number of ideal stages from Kremser equation in the absorber is\",round(Nk,2)\n",
      "\t# Ideal satges for stripping section\n",
      "X2s = 0.480  \n",
      "X0 = X2s  \t\t\t\t# [kmol benzene/kmol oil]\n",
      "Y2s = 0.784  \n",
      "Y1 = Y2s  \t\t\t\t# [kmol benzene/kmol steam]\n",
      "X1s = 0.05  \n",
      "Xn = X1s  \t\t\t\t# [kmol benzene/kmol oil]\n",
      "Y1s = 0  \n",
      "Yn1 = Y1s  \t\t\t\t# [kmol benzene/kmol steam]\n",
      "\n",
      "\t# Similarly here also stair case construction is being made between equilibrium curve and \toperating line from piont X0,Y1 to Xn,Yn1\n",
      "\t# A more precise estimate of stages\n",
      "\t# From figure 3.26 or from graph made for stripping section in Example 3.7\n",
      "Ns = 5+(0.070-0.050)/(0.070-0.028) \n",
      "\n",
      "#Result\n",
      "print\"STRIPPER\"\n",
      "print\"The number of ideal stages from graph in the stripping section is\",round(Ns,1)"
     ],
     "language": "python",
     "metadata": {},
     "outputs": [
      {
       "output_type": "stream",
       "stream": "stdout",
       "text": [
        "ABSORBER\n",
        "The number of ideal stages from graph in the absorber is 3.8\n",
        "Number of ideal stages from Kremser equation in the absorber is 3.16\n",
        "STRIPPER\n",
        "The number of ideal stages from graph in the stripping section is 5.5\n"
       ]
      }
     ],
     "prompt_number": 20
    }
   ],
   "metadata": {}
  }
 ]
}