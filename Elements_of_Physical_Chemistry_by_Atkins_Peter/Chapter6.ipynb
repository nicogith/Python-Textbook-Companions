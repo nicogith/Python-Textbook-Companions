{
 "metadata": {
  "name": ""
 },
 "nbformat": 3,
 "nbformat_minor": 0,
 "worksheets": [
  {
   "cells": [
    {
     "cell_type": "heading",
     "level": 1,
     "metadata": {},
     "source": [
      "Chapter 6 - The properties of mixtures"
     ]
    },
    {
     "cell_type": "heading",
     "level": 2,
     "metadata": {},
     "source": [
      "Example E1 - Pg 112"
     ]
    },
    {
     "cell_type": "code",
     "collapsed": false,
     "input": [
      "#Calculate the mole fraction of glycerine\n",
      "#Initialization of variables\n",
      "m=0.14 #mol/kg\n",
      "w=1. #kg Assume\n",
      "#Calculations\n",
      "ngly=m*w\n",
      "nwater=w*1000 /18.02\n",
      "ntotal=ngly+nwater\n",
      "xgly=ngly/ntotal\n",
      "#results\n",
      "print '%s %.2e' %('Mole fraction of glycerine  is xgly =',xgly)\n"
     ],
     "language": "python",
     "metadata": {},
     "outputs": [
      {
       "output_type": "stream",
       "stream": "stdout",
       "text": [
        "Mole fraction of glycerine  is xgly = 2.52e-03\n"
       ]
      }
     ],
     "prompt_number": 20
    },
    {
     "cell_type": "heading",
     "level": 2,
     "metadata": {},
     "source": [
      "Example E2 - Pg 114"
     ]
    },
    {
     "cell_type": "code",
     "collapsed": false,
     "input": [
      "#calculate the volume of the mixture\n",
      "#Initialization of variables\n",
      "mE=50. #g\n",
      "mW=50. #g\n",
      "#calculations\n",
      "nE=mE/46.\n",
      "nW=mW/18.\n",
      "ntotal=nE+nW\n",
      "xE=nE/ntotal\n",
      "xW=1-xE\n",
      "print '%s' %('for the observed xE and xW')\n",
      "vE=55 #cc/mol\n",
      "vW=18 #cc/mol\n",
      "V=nE*vE+nW*vW\n",
      "#results\n",
      "print '%s %.1f %s' %('\\n Volume of the mixture =',V,'cm^3 ')\n"
     ],
     "language": "python",
     "metadata": {},
     "outputs": [
      {
       "output_type": "stream",
       "stream": "stdout",
       "text": [
        "for the observed xE and xW\n",
        "\n",
        " Volume of the mixture = 109.8 cm^3 \n"
       ]
      }
     ],
     "prompt_number": 21
    },
    {
     "cell_type": "heading",
     "level": 2,
     "metadata": {},
     "source": [
      "Example E3 - Pg 121"
     ]
    },
    {
     "cell_type": "code",
     "collapsed": false,
     "input": [
      "# Calculate Ka and Kc from the raoults law line \n",
      "#Initialization of variables\n",
      "import matplotlib\n",
      "from matplotlib import pyplot\n",
      "xc=([0, 0.20, 0.40, 0.60, 0.80, 1])\n",
      "pc=([0, 35, 82, 142, 219, 293])\n",
      "pa=([347, 270, 185, 102, 37, 0])\n",
      "#calculations\n",
      "pyplot.plot(xc,pc)\n",
      "pyplot.plot(xc,pa)\n",
      "pyplot.xlabel('Mole fraction xc')\n",
      "pyplot.ylabel('Pressure /Torr')\n",
      "print '%s' %('From the graph it is clear that KA=175 torr and KC=165 torr. They are plotted with Raoults law lines')\n",
      "pyplot.show()"
     ],
     "language": "python",
     "metadata": {},
     "outputs": [
      {
       "output_type": "stream",
       "stream": "stdout",
       "text": [
        "From the graph it is clear that KA=175 torr and KC=165 torr. They are plotted with Raoults law lines\n"
       ]
      },
      {
       "metadata": {},
       "output_type": "display_data",
       "png": "[encoded data removed]",
       "text": [
        "<matplotlib.figure.Figure at 0x6121270>"
       ]
      }
     ],
     "prompt_number": 22
    },
    {
     "cell_type": "heading",
     "level": 2,
     "metadata": {},
     "source": [
      "Example E4 - Pg 123"
     ]
    },
    {
     "cell_type": "code",
     "collapsed": false,
     "input": [
      "#Calculate if required concentration can be maintained under normal conditions.\n",
      "#Initialization of variables\n",
      "import math\n",
      "C=4/1000. #g/L\n",
      "MO2=32. #g/mol\n",
      "Mw=18.\n",
      "w=1 #L\n",
      "K=3.3*math.pow(10,7) #torr\n",
      "patm=0.21*760 #torr\n",
      "#calculations\n",
      "nO2=C/MO2\n",
      "nH2O=w*1000. /Mw\n",
      "xO2=nO2/(nO2+nH2O)\n",
      "pO2=xO2*K\n",
      "if(pO2<patm):\n",
      "    print '%s %.1e' %('The required concentration can be maintained under normal conditions and pressure is (Torr)',pO2)\n",
      "else:\n",
      "    print '%s %.e' %('The required concentration cannot be maintained under normal conditions and pressure is (Torr)',pO2)\n"
     ],
     "language": "python",
     "metadata": {},
     "outputs": [
      {
       "output_type": "stream",
       "stream": "stdout",
       "text": [
        "The required concentration can be maintained under normal conditions and pressure is (Torr) 7.4e+01\n"
       ]
      }
     ],
     "prompt_number": 6
    },
    {
     "cell_type": "heading",
     "level": 2,
     "metadata": {},
     "source": [
      "Example E5 - Pg 131"
     ]
    },
    {
     "cell_type": "code",
     "collapsed": false,
     "input": [
      "#Calculate the molar mass of the enzyme\n",
      "#Initialization of variables\n",
      "%matplotlib inline\n",
      "import numpy as np\n",
      "from numpy import linalg\n",
      "import matplotlib\n",
      "from matplotlib import pyplot\n",
      "c=([1, 2, 4, 7, 9])\n",
      "hbyc=([0.28, 0.36, 0.503, 0.739, 0.889])\n",
      "R=8.3145 #J/K mol\n",
      "T=298 #K\n",
      "g=9.81 #m/s^2\n",
      "d=0.9998 #g/cm^3\n",
      "#calculations\n",
      "pyplot.plot(c,hbyc)\n",
      "pyplot.xlabel('c')\n",
      "pyplot.ylabel('hbyc')\n",
      "A = np.vstack([c, np.ones(len(c))]).T\n",
      "vector=numpy.linalg.lstsq(A,hbyc)\n",
      "intercept=vector[0]\n",
      "intercept1=intercept[1]/100.\n",
      "M=R*T/(d*g*intercept1)/1000.\n",
      "#results\n",
      "print '%s %d %s' %('Molar mass of the enzyme is close to',M,'kDa')\n",
      "print '%s' %('The answer is a bit different in the textbook due to rounding off error in the textbook')\n",
      "pyplot.show()\n"
     ],
     "language": "python",
     "metadata": {},
     "outputs": [
      {
       "output_type": "stream",
       "stream": "stdout",
       "text": [
        "Populating the interactive namespace from numpy and matplotlib\n",
        "Molar mass of the enzyme is close to 123 kDa"
       ]
      },
      {
       "output_type": "stream",
       "stream": "stdout",
       "text": [
        "\n",
        "The answer is a bit different in the textbook due to rounding off error in the textbook\n"
       ]
      },
      {
       "metadata": {},
       "output_type": "display_data",
       "png": "[encoded data removed]",
       "text": [
        "<matplotlib.figure.Figure at 0x9caefb0>"
       ]
      }
     ],
     "prompt_number": 19
    },
    {
     "cell_type": "heading",
     "level": 2,
     "metadata": {},
     "source": [
      "Example E6 - Pg 136"
     ]
    },
    {
     "cell_type": "code",
     "collapsed": false,
     "input": [
      "#calculate how many times the rich phase is more abundant in nitrobenzene\n",
      "#Initialization of variables\n",
      "nB=0.59 #mol\n",
      "nNB=0.41 #mol\n",
      "xN1=0.38\n",
      "xN2=0.74\n",
      "xNm=0.41\n",
      "#calculations\n",
      "print '%s' %('By lever rule')\n",
      "ratio=(xNm-xN1)/(xN2-xNm)\n",
      "percent=ratio*100. +1\n",
      "#results\n",
      "print '%s %d %s' %(\"The rich phase is\",percent,\"times more abundant in nitrobenzene\")\n"
     ],
     "language": "python",
     "metadata": {},
     "outputs": [
      {
       "output_type": "stream",
       "stream": "stdout",
       "text": [
        "By lever rule\n",
        "The rich phase is 10 times more abundant in nitrobenzene\n"
       ]
      }
     ],
     "prompt_number": 24
    }
   ],
   "metadata": {}
  }
 ]
}