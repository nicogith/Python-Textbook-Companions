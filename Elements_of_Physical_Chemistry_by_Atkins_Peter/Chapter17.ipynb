{
 "metadata": {
  "name": ""
 },
 "nbformat": 3,
 "nbformat_minor": 0,
 "worksheets": [
  {
   "cells": [
    {
     "cell_type": "heading",
     "level": 1,
     "metadata": {},
     "source": [
      "Chapter 17 - Molecular rotations and vibrations"
     ]
    },
    {
     "cell_type": "heading",
     "level": 2,
     "metadata": {},
     "source": [
      "Example E1 - Pg 423"
     ]
    },
    {
     "cell_type": "code",
     "collapsed": false,
     "input": [
      "#calculate the frequency of transistion\n",
      "#Initialization of variables\n",
      "import math\n",
      "mH=1.673*math.pow(10,-27) #kg\n",
      "mCl=5.807*math.pow(10,-26) #kg\n",
      "R=127.4 *math.pow(10,-12) #m\n",
      "#calculations\n",
      "mu=mH*mCl/(mH+mCl)\n",
      "I=mu*R*R\n",
      "B=1.05457*math.pow(10,-34) /(4*math.pi*I)\n",
      "f=2*B/math.pow(10,9)\n",
      "#results\n",
      "print '%s %.1f %s' %(\"Frequency of transistion =\",f,\"GHz\")\n"
     ],
     "language": "python",
     "metadata": {},
     "outputs": [
      {
       "output_type": "stream",
       "stream": "stdout",
       "text": [
        "Frequency of transistion = 635.9 GHz\n"
       ]
      }
     ],
     "prompt_number": 1
    },
    {
     "cell_type": "heading",
     "level": 2,
     "metadata": {},
     "source": [
      "Example I1 - Pg 428"
     ]
    },
    {
     "cell_type": "code",
     "collapsed": false,
     "input": [
      "#calculate the wavenumber and wavelength\n",
      "#Initialization of variables\n",
      "import math\n",
      "v=89.6*math.pow(10,12) #Hz\n",
      "#calculations\n",
      "l=3*math.pow(10,8) /v\n",
      "wn=math.pow(10,-2) /l\n",
      "#results\n",
      "print '%s %d %s' %(\"Wavenumber =\",wn,\" cm^-1\")\n",
      "print '%s %.2f %s' % (\"\\n Wavelength =\",l*math.pow(10,6),\"mu m\")\n"
     ],
     "language": "python",
     "metadata": {},
     "outputs": [
      {
       "output_type": "stream",
       "stream": "stdout",
       "text": [
        "Wavenumber = 2986  cm^-1\n",
        "\n",
        " Wavelength = 3.35 mu m\n"
       ]
      }
     ],
     "prompt_number": 2
    }
   ],
   "metadata": {}
  }
 ]
}