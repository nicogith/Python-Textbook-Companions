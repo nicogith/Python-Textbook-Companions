{
 "metadata": {
  "name": ""
 },
 "nbformat": 3,
 "nbformat_minor": 0,
 "worksheets": [
  {
   "cells": [
    {
     "cell_type": "heading",
     "level": 1,
     "metadata": {},
     "source": [
      "Chapter 3 - Thermochemistry"
     ]
    },
    {
     "cell_type": "heading",
     "level": 2,
     "metadata": {},
     "source": [
      "Example I1 - Pg 67"
     ]
    },
    {
     "cell_type": "code",
     "collapsed": false,
     "input": [
      "#Calculate the change in enthalpy\n",
      "#Initialization of variables\n",
      "dU=-969.6 #kJ/mol\n",
      "nN2=1/2.\n",
      "nCO2=2.\n",
      "nO2=9./4.\n",
      "T=298.15 #K\n",
      "#Calculations\n",
      "n=nCO2+nN2-nO2\n",
      "H=dU+n*8.3145*T/1000.\n",
      "#results\n",
      "print '%s %.1f %s' %('Enthalpy change = ',H,'kJ/mol')\n"
     ],
     "language": "python",
     "metadata": {},
     "outputs": [
      {
       "output_type": "stream",
       "stream": "stdout",
       "text": [
        "Enthalpy change =  -969.0 kJ/mol\n"
       ]
      }
     ],
     "prompt_number": 1
    },
    {
     "cell_type": "heading",
     "level": 2,
     "metadata": {},
     "source": [
      "Example E1 - Pg 58"
     ]
    },
    {
     "cell_type": "code",
     "collapsed": false,
     "input": [
      "#Calculate the Molar Enthalpy Change\n",
      "#Initialization of variables\n",
      "I=0.682 #A\n",
      "V=12 #V\n",
      "t=500. #s\n",
      "m=4.33 #g\n",
      "MW=46.07 #g/mol\n",
      "#Calculations\n",
      "q=I*V*t\n",
      "n=m/MW\n",
      "H=q/n/1000.\n",
      "#Results\n",
      "print '%s %.1f %s' %('Molar enthalpy change =',H,'kJ/mol')\n"
     ],
     "language": "python",
     "metadata": {},
     "outputs": [
      {
       "output_type": "stream",
       "stream": "stdout",
       "text": [
        "Molar enthalpy change = 43.5 kJ/mol\n"
       ]
      }
     ],
     "prompt_number": 2
    },
    {
     "cell_type": "heading",
     "level": 2,
     "metadata": {},
     "source": [
      "Example E2 - Pg 62"
     ]
    },
    {
     "cell_type": "code",
     "collapsed": false,
     "input": [
      "#Calculate the Heat supplied\n",
      "#Initialization of variables\n",
      "m=1 #g\n",
      "MW=24.31 #g/mol\n",
      "H=2337 #kJ/mol\n",
      "#Calculations\n",
      "n=m/MW\n",
      "q=n*H\n",
      "#results\n",
      "print '%s %.1f %s' %('Heat supplied =',q,'kJ')\n"
     ],
     "language": "python",
     "metadata": {},
     "outputs": [
      {
       "output_type": "stream",
       "stream": "stdout",
       "text": [
        "Heat supplied = 96.1 kJ\n"
       ]
      }
     ],
     "prompt_number": 3
    },
    {
     "cell_type": "heading",
     "level": 2,
     "metadata": {},
     "source": [
      "Example E3 - Pg 65"
     ]
    },
    {
     "cell_type": "code",
     "collapsed": false,
     "input": [
      "#Calculate the sum of enthalpy changes\n",
      "#Initialization of variables\n",
      "HC=716.68 #kJ\n",
      "HH=871.88 #kJ\n",
      "HO=249.17 #kJ\n",
      "Hcond=-38 #kJ\n",
      "HCH=-412\n",
      "HCO=-360\n",
      "HOH=-463\n",
      "#Calculations\n",
      "H1=HC+HH+HO\n",
      "H2=3*HCH+HCO+HOH\n",
      "H3=Hcond\n",
      "H=H1+H2+H3\n",
      "#results\n",
      "print '%s %d %s' %('Sum of enthalpy changes =',H,' kJ')\n"
     ],
     "language": "python",
     "metadata": {},
     "outputs": [
      {
       "output_type": "stream",
       "stream": "stdout",
       "text": [
        "Sum of enthalpy changes = -259  kJ\n"
       ]
      }
     ],
     "prompt_number": 5
    },
    {
     "cell_type": "heading",
     "level": 2,
     "metadata": {},
     "source": [
      "Example E4 - Pg 68"
     ]
    },
    {
     "cell_type": "code",
     "collapsed": false,
     "input": [
      "#Calculate the standard enthalpy of combustion of propene\n",
      "#Initialization of variables\n",
      "Hf=-124 #kJ\n",
      "Hoxi=-2220 #kJ\n",
      "Hwater=286 #kJ\n",
      "#Calculations\n",
      "H=Hf+Hoxi+Hwater\n",
      "#results\n",
      "print '%s %d %s' %('Standard enthalpy of combustion of propene =',H,'kJ/mol')\n"
     ],
     "language": "python",
     "metadata": {},
     "outputs": [
      {
       "output_type": "stream",
       "stream": "stdout",
       "text": [
        "Standard enthalpy of combustion of propene = -2058 kJ/mol\n"
       ]
      }
     ],
     "prompt_number": 6
    },
    {
     "cell_type": "heading",
     "level": 2,
     "metadata": {},
     "source": [
      "Example E5 - Pg 70"
     ]
    },
    {
     "cell_type": "code",
     "collapsed": false,
     "input": [
      "#Calculate the standard enthalpy of combustion of benzene\n",
      "#Initialization of variables\n",
      "nCO2=6 #mol\n",
      "nH2O=3 #mol\n",
      "nO2=15/2. #mol\n",
      "nC6H6=1 #mol\n",
      "HC6H6=49 #kJ/mol\n",
      "HH2O=-285.83\n",
      "HO2=0\n",
      "HCO2=-393.51 \n",
      "#Calculations\n",
      "H=nCO2*HCO2+nH2O*HH2O-nC6H6*HC6H6-nO2*HO2\n",
      "#results\n",
      "print '%s %.1f %s' %('Standard enthalpy of combustion of benzene is',H,'kJ/mol')\n"
     ],
     "language": "python",
     "metadata": {},
     "outputs": [
      {
       "output_type": "stream",
       "stream": "stdout",
       "text": [
        "Standard enthalpy of combustion of benzene is -3267.6 kJ/mol\n"
       ]
      }
     ],
     "prompt_number": 7
    },
    {
     "cell_type": "heading",
     "level": 2,
     "metadata": {},
     "source": [
      "Example E6 - Pg 74"
     ]
    },
    {
     "cell_type": "code",
     "collapsed": false,
     "input": [
      "#Calculate the enthalpy of formation of water\n",
      "#Initialization of variables\n",
      "HH2O=-241.82 #kJ/mol\n",
      "T1=25 #C\n",
      "T2=100 #C\n",
      "CpH2O=33.58 #J/K mol\n",
      "CpH2=28.84 #J/K mol\n",
      "CpO2=29.37  #J/K mol\n",
      "#calculations\n",
      "dCp=CpH2O-CpH2-0.5*CpO2\n",
      "dH=HH2O+dCp*(T2-T1)/1000.\n",
      "#results\n",
      "print '%s %.2f %s' %('Enthalpy of formation of water at 100 C is',dH,'kJ/mol')\n"
     ],
     "language": "python",
     "metadata": {},
     "outputs": [
      {
       "output_type": "stream",
       "stream": "stdout",
       "text": [
        "Enthalpy of formation of water at 100 C is -242.57 kJ/mol\n"
       ]
      }
     ],
     "prompt_number": 8
    }
   ],
   "metadata": {}
  }
 ]
}