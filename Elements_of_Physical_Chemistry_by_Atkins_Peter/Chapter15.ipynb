{
 "metadata": {
  "name": ""
 },
 "nbformat": 3,
 "nbformat_minor": 0,
 "worksheets": [
  {
   "cells": [
    {
     "cell_type": "heading",
     "level": 1,
     "metadata": {},
     "source": [
      "Chapter 15 - Metallic and Ionic Solids"
     ]
    },
    {
     "cell_type": "heading",
     "level": 2,
     "metadata": {},
     "source": [
      "Example E1 - Pg 361"
     ]
    },
    {
     "cell_type": "code",
     "collapsed": false,
     "input": [
      "#calculate the lattice energy\n",
      "#Initialization of variables\n",
      "Hs=89 #kJ/mol\n",
      "HI=418 #kJ/mol\n",
      "HD=244 #kJ/mol\n",
      "HE=-349 #kJ/mol\n",
      "Hf=-437 #kJ/mol\n",
      "#calculations\n",
      "HL=Hs+HD/2. +HI+HE-Hf\n",
      "#results\n",
      "print '%s %d %s' %(\"Lattice energy =\",HL,\"kJ/mol\")\n"
     ],
     "language": "python",
     "metadata": {},
     "outputs": [
      {
       "output_type": "stream",
       "stream": "stdout",
       "text": [
        "Lattice energy = 717 kJ/mol\n"
       ]
      }
     ],
     "prompt_number": 1
    },
    {
     "cell_type": "heading",
     "level": 2,
     "metadata": {},
     "source": [
      "Example E2 - Pg 369"
     ]
    },
    {
     "cell_type": "code",
     "collapsed": false,
     "input": [
      "#Calculate the separation between the molecules in both the cases\n",
      "#Initialization of variables\n",
      "import math\n",
      "a=0.82 #nm\n",
      "b=0.94 #nm\n",
      "c=0.75 #nm\n",
      "h=1.\n",
      "k=2.\n",
      "l=3.\n",
      "#calculations\n",
      "invd=math.sqrt(h*h/(a*a) + k*k/(b*b) + l*l/(c*c))\n",
      "d=1./invd\n",
      "invd2=math.sqrt(h*h*4/(a*a) + k*k*4/(b*b) + l*l*4/(c*c))\n",
      "d2=1./invd2\n",
      "#results\n",
      "print '%s %.2f %s' %(\"In case 1, separation =\",d,\" nm\")\n",
      "print '%s %.2f %s' %(\"\\n In case 2, separation =\",d2,\" nm\")\n"
     ],
     "language": "python",
     "metadata": {},
     "outputs": [
      {
       "output_type": "stream",
       "stream": "stdout",
       "text": [
        "In case 1, separation = 0.21  nm\n",
        "\n",
        " In case 2, separation = 0.11  nm\n"
       ]
      }
     ],
     "prompt_number": 2
    },
    {
     "cell_type": "heading",
     "level": 2,
     "metadata": {},
     "source": [
      "Example E3 - Pg 371"
     ]
    },
    {
     "cell_type": "code",
     "collapsed": false,
     "input": [
      "#calculate the length of the side of the unit cell\n",
      "#Initialization of variables\n",
      "import math\n",
      "l=154. #pm\n",
      "theta=11.2 #degrees\n",
      "#calculations\n",
      "d=l/(2*math.sin(theta*math.pi/180.))\n",
      "a=d*math.sqrt(3)\n",
      "#results\n",
      "print '%s %.1f %s' %(\"Length of the side of the unit cell =\",a,\"pm\")\n"
     ],
     "language": "python",
     "metadata": {},
     "outputs": [
      {
       "output_type": "stream",
       "stream": "stdout",
       "text": [
        "Length of the side of the unit cell = 686.6 pm\n"
       ]
      }
     ],
     "prompt_number": 3
    }
   ],
   "metadata": {}
  }
 ]
}