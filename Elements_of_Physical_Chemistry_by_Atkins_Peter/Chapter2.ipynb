{
 "metadata": {
  "name": ""
 },
 "nbformat": 3,
 "nbformat_minor": 0,
 "worksheets": [
  {
   "cells": [
    {
     "cell_type": "heading",
     "level": 1,
     "metadata": {},
     "source": [
      "Chapter 2 - Thermodynamics : The first law"
     ]
    },
    {
     "cell_type": "heading",
     "level": 2,
     "metadata": {},
     "source": [
      "Example I1 - Pg 46"
     ]
    },
    {
     "cell_type": "code",
     "collapsed": false,
     "input": [
      "#Calculate the change in temperature\n",
      "#Initialization of variables\n",
      "Cpm=75 #J/k mol\n",
      "n=5.55 #mol\n",
      "q=1 #kJ\n",
      "#Calculations\n",
      "deltaT=q*1000/(n*Cpm)\n",
      "#results\n",
      "print '%s %.1f %s' %('Change in temperature =',deltaT,'K')\n"
     ],
     "language": "python",
     "metadata": {},
     "outputs": [
      {
       "output_type": "stream",
       "stream": "stdout",
       "text": [
        "Change in temperature = 2.4 K\n"
       ]
      }
     ],
     "prompt_number": 1
    },
    {
     "cell_type": "heading",
     "level": 2,
     "metadata": {},
     "source": [
      "Example I4 - Pg 52"
     ]
    },
    {
     "cell_type": "code",
     "collapsed": false,
     "input": [
      "#Calculate the change in enthalpy of the sample\n",
      "#Initialization of variables\n",
      "n=5.55 #mol\n",
      "T1=20 #C\n",
      "T2=80 #K\n",
      "Cpm=75.29 #J/K mol\n",
      "#Calculations\n",
      "H=n*Cpm*(T2-T1)/1000.\n",
      "#results\n",
      "print '%s %d %s' %('Enthalpy of the sample changes by',H,'kJ')\n"
     ],
     "language": "python",
     "metadata": {},
     "outputs": [
      {
       "output_type": "stream",
       "stream": "stdout",
       "text": [
        "Enthalpy of the sample changes by 25 kJ\n"
       ]
      }
     ],
     "prompt_number": 2
    },
    {
     "cell_type": "heading",
     "level": 2,
     "metadata": {},
     "source": [
      "Example E1 - Pg 45"
     ]
    },
    {
     "cell_type": "code",
     "collapsed": false,
     "input": [
      "#Calculate the heat supplied, heat capacity and heat output of the calorimeter\n",
      "#Initialization of variables\n",
      "A=1.23 #A\n",
      "V=12 #V\n",
      "t=123 #s\n",
      "Temp=4.47 #C\n",
      "rise=3.22 #C\n",
      "#Calculations\n",
      "q=A*V*t\n",
      "C=q/Temp\n",
      "Output= C*rise/1000.\n",
      "#Results\n",
      "print '%s %.1f %s' %('heat supplied during calibration =',q,'J')\n",
      "print '%s %.1f %s' %('\\n Heat capacity of the calorimeter =',C,'J/C')\n",
      "print '%s %.2f %s' %('\\n Heat output =',Output,' kJ')\n"
     ],
     "language": "python",
     "metadata": {},
     "outputs": [
      {
       "output_type": "stream",
       "stream": "stdout",
       "text": [
        "heat supplied during calibration = 1815.5 J\n",
        "\n",
        " Heat capacity of the calorimeter = 406.1 J/C\n",
        "\n",
        " Heat output = 1.31  kJ\n"
       ]
      }
     ],
     "prompt_number": 3
    },
    {
     "cell_type": "heading",
     "level": 2,
     "metadata": {},
     "source": [
      "Example E2 - Pg 48"
     ]
    },
    {
     "cell_type": "code",
     "collapsed": false,
     "input": [
      "#Calculate the amount by which the person's internal energy falls\n",
      "#Initialization of variables\n",
      "work=-622 #kJ\n",
      "heat=-82 #kJ\n",
      "#Calculations\n",
      "U=work+heat\n",
      "#results\n",
      "print '%s %d %s' %('The persons internal energy falls by',-U,'kJ')\n"
     ],
     "language": "python",
     "metadata": {},
     "outputs": [
      {
       "output_type": "stream",
       "stream": "stdout",
       "text": [
        "The persons internal energy falls by 704 kJ\n"
       ]
      }
     ],
     "prompt_number": 2
    }
   ],
   "metadata": {}
  }
 ]
}