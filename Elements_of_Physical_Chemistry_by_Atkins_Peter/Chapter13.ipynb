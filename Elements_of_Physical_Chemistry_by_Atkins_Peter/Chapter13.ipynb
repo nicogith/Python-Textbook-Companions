{
 "metadata": {
  "name": ""
 },
 "nbformat": 3,
 "nbformat_minor": 0,
 "worksheets": [
  {
   "cells": [
    {
     "cell_type": "heading",
     "level": 1,
     "metadata": {},
     "source": [
      "Chapter 13 - Atomic structure"
     ]
    },
    {
     "cell_type": "heading",
     "level": 2,
     "metadata": {},
     "source": [
      "Example I2 - Pg 302"
     ]
    },
    {
     "cell_type": "code",
     "collapsed": false,
     "input": [
      "#calculate the probability of finding the electron and the chance that the electron would be found\n",
      "#Initialization of variables\n",
      "import math\n",
      "dv=1 #pm^3\n",
      "a0=52.9 #pm\n",
      "#calculations\n",
      "Probability=dv/(math.pi*a0*a0*a0)\n",
      "#results\n",
      "print '%s %.1e' %(\"probability of finding electron = \",Probability)\n",
      "print '%s %d %s' %(\"\\n Chance that electron would be found is one in\",1./Probability,\"times\")\n",
      "#The answer is a bit different due to rounding off error in textbook"
     ],
     "language": "python",
     "metadata": {},
     "outputs": [
      {
       "output_type": "stream",
       "stream": "stdout",
       "text": [
        "probability of finding electron =  2.2e-06\n",
        "\n",
        " Chance that electron would be found is one in 465068 times\n"
       ]
      }
     ],
     "prompt_number": 1
    },
    {
     "cell_type": "heading",
     "level": 2,
     "metadata": {},
     "source": [
      "Example I3 - Pg 304"
     ]
    },
    {
     "cell_type": "code",
     "collapsed": false,
     "input": [
      "#calculate the probability of finding the electron\n",
      "#Initialization of variables\n",
      "import math\n",
      "dr=1 #pm\n",
      "r=52.9 #pm\n",
      "#calculations\n",
      "Probability=4*math.pow(math.e,(-2)) *dr/r\n",
      "#results\n",
      "print '%s %.1f' %(\"About 1 inspection in \",1./Probability)\n",
      "#The answer is a bit different due to rounding off error in textbook"
     ],
     "language": "python",
     "metadata": {},
     "outputs": [
      {
       "output_type": "stream",
       "stream": "stdout",
       "text": [
        "About 1 inspection in  97.7\n"
       ]
      }
     ],
     "prompt_number": 2
    }
   ],
   "metadata": {}
  }
 ]
}