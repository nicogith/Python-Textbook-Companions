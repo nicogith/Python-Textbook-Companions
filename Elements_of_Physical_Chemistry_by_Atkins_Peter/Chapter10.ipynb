{
 "metadata": {
  "name": ""
 },
 "nbformat": 3,
 "nbformat_minor": 0,
 "worksheets": [
  {
   "cells": [
    {
     "cell_type": "heading",
     "level": 1,
     "metadata": {},
     "source": [
      "    Chapter 10 - The rates of reactions"
     ]
    },
    {
     "cell_type": "heading",
     "level": 2,
     "metadata": {},
     "source": [
      "Example E1 - Pg 222"
     ]
    },
    {
     "cell_type": "code",
     "collapsed": false,
     "input": [
      "#Calculate the overall rate constant and hence the overall rate law\n",
      "#Initialization of variables\n",
      "%matplotlib inline\n",
      "import math\n",
      "import numpy as np\n",
      "from numpy import linalg\n",
      "import matplotlib\n",
      "from matplotlib import pyplot\n",
      "def fun(x,n):\n",
      "\tfor i in range(0,len(x)):\n",
      "\t\tx[i]=x[i]*math.pow(10,-n)\n",
      "\treturn\n",
      "\n",
      "I=([1., 2., 4., 6.])\n",
      "r1=([1.070, 3.48, 13.9, 31.3])\n",
      "r2=([4.35, 17.4, 69.6, 157])\n",
      "r3=([10.69, 34.7, 138, 313])\n",
      "Ar=([1., 5., 10.])\n",
      "fun(r1,3)\n",
      "fun(I,5)\n",
      "fun(r2,3)\n",
      "fun(r3,3)\n",
      "fun(Ar,3)\n",
      "#calculations\n",
      "def fun1(x):\n",
      "\tfor i in range(0,len(x)):\n",
      "\t\tx[i]=math.log10(x[i])\n",
      "\treturn x\n",
      "\n",
      "logI=fun1(I)\n",
      "logr1=fun1(r1)\n",
      "logr2=fun1(r2)\n",
      "logr3=fun1(r3)\n",
      "#The calculations are approximate.hence the value differs from textbook a bit.\n",
      "x=logI\n",
      "y=logr1\n",
      "A = np.vstack([x, np.ones(len(x))]).T\n",
      "m1, b1 = np.linalg.lstsq(A, y)[0]\n",
      "\n",
      "y=logr2\n",
      "A = np.vstack([x, np.ones(len(x))]).T\n",
      "m2, b2 = np.linalg.lstsq(A, y)[0]\n",
      "\n",
      "y=logr3\n",
      "A = np.vstack([x, np.ones(len(x))]).T\n",
      "m3, b3 = np.linalg.lstsq(A, y)[0]\n",
      "\n",
      "logAr=fun1(Ar)\n",
      "kdash=([b1, b2, b3])\n",
      "pyplot.plot(logAr,kdash)\n",
      "pyplot.xlabel('log(Ar)')\n",
      "pyplot.ylabel('log(kdash)')\n",
      "x=logAr\n",
      "y=kdash\n",
      "\n",
      "A = np.vstack([x, np.ones(len(x))]).T\n",
      "m4, b4 = np.linalg.lstsq(A, y)[0]\n",
      "\n",
      "logk=b4\n",
      "k=math.pow(10,logk)\n",
      "#results\n",
      "print '%s %.1e %s' %(\"Overall rate law is r =\",k,\" [I]^2 [Ar]\")\n",
      "pyplot.show()\n",
      "print '%s' %('The answers in the textbook are rounded and hence a bit different from the code.')"
     ],
     "language": "python",
     "metadata": {},
     "outputs": [
      {
       "output_type": "stream",
       "stream": "stdout",
       "text": [
        "Populating the interactive namespace from numpy and matplotlib\n",
        "Overall rate law is r = 8.1e+09  [I]^2 [Ar]"
       ]
      },
      {
       "output_type": "stream",
       "stream": "stdout",
       "text": [
        "\n"
       ]
      },
      {
       "metadata": {},
       "output_type": "display_data",
       "png": "[encoded data removed]",
       "text": [
        "<matplotlib.figure.Figure at 0x6097fd0>"
       ]
      },
      {
       "output_type": "stream",
       "stream": "stdout",
       "text": [
        "The answers in the textbook are rounded and hence a bit different from the code.\n"
       ]
      }
     ],
     "prompt_number": 1
    },
    {
     "cell_type": "heading",
     "level": 2,
     "metadata": {},
     "source": [
      "Example E2 - Pg 224"
     ]
    },
    {
     "cell_type": "code",
     "collapsed": false,
     "input": [
      "#calcualte the rate constant for the given first order reaction\n",
      "#Initialization of variables\n",
      "import math\n",
      "import numpy as np\n",
      "import matplotlib\n",
      "from matplotlib import pyplot\n",
      "t=([0, 1000., 2000., 3000., 4000.])\n",
      "p=[10.20, 5.72, 3.99, 2.78, 1.94]\n",
      "def fun2(x):\n",
      "\tfor i in range(0,len(x)):\n",
      "\t\tx[i]=math.log(x[i])\n",
      "\treturn x\n",
      "lnp=fun2(p)\n",
      "x=t\n",
      "y=lnp\n",
      "#hence the value differs from textbook a bit.\n",
      "A = np.vstack([x, np.ones(len(x))]).T\n",
      "m1, b1 = np.linalg.lstsq(A, y)[0]\n",
      "k= -m1\n",
      "pyplot.plot(x,y)\n",
      "pyplot.xlabel('time t/sec ')\n",
      "pyplot.ylabel('ln(P/Torr)')\n",
      "#Since first order reaction\n",
      "#results\n",
      "print '%s %.2e %s' %(\"rate constant =\",k,\" s^-1\")\n",
      "pyplot.show()"
     ],
     "language": "python",
     "metadata": {},
     "outputs": [
      {
       "output_type": "stream",
       "stream": "stdout",
       "text": [
        "rate constant = 4.04e-04  s^-1\n"
       ]
      },
      {
       "metadata": {},
       "output_type": "display_data",
       "png": "[encoded data removed]",
       "text": [
        "<matplotlib.figure.Figure at 0x5d4f970>"
       ]
      }
     ],
     "prompt_number": 8
    },
    {
     "cell_type": "heading",
     "level": 2,
     "metadata": {},
     "source": [
      "Example E3 - Pg 230"
     ]
    },
    {
     "cell_type": "code",
     "collapsed": false,
     "input": [
      "#Calculate the Activation energy and Arrhenius factor\n",
      "#Initialization of variables\n",
      "import math\n",
      "import numpy as np\n",
      "from numpy import linalg\n",
      "T=[700, 730, 760, 790, 810, 840, 910, 1000]\n",
      "k=[0.011, 0.035, 0.105, 0.343, 0.789, 2.17, 20, 145]\n",
      "#calculations\n",
      "def fun1(x):\n",
      "\tfor i in range(0,len(x)):\n",
      "\t\tx[i]=1000./(x[i])\n",
      "\treturn x\n",
      "x= fun1(T)\n",
      "def fun2(x):\n",
      "\tfor i in range(0,len(x)):\n",
      "\t\tx[i]=math.log(x[i])\n",
      "\treturn x\n",
      "y=fun2(k)\n",
      "A = np.vstack([x, np.ones(len(x))]).T\n",
      "m1, b1 = np.linalg.lstsq(A, y)[0]\n",
      "print '%s' %('from graph')\n",
      "Ea=-m1*8.3145/1000. *1000.\n",
      "A=math.pow(math.e,(b1))\n",
      "#results\n",
      "print '%s %d %s' %(\"Activation energy =\",Ea,\" kJ/mol\")\n",
      "print '%s %.2e %s' %(\"\\n Arrhenius factor =\",A,\"L/ mol s\")"
     ],
     "language": "python",
     "metadata": {},
     "outputs": [
      {
       "output_type": "stream",
       "stream": "stdout",
       "text": [
        "from graph\n",
        "Activation energy = 188  kJ/mol\n",
        "\n",
        " Arrhenius factor = 1.08e+12 L/ mol s\n"
       ]
      }
     ],
     "prompt_number": 19
    },
    {
     "cell_type": "heading",
     "level": 2,
     "metadata": {},
     "source": [
      "Example I1 - Pg 228"
     ]
    },
    {
     "cell_type": "code",
     "collapsed": false,
     "input": [
      "#calculate the net time required\n",
      "#Initialization of variables\n",
      "import math\n",
      "t=28.4 #min\n",
      "#calculations\n",
      "n=math.log10(8.) / math.log10(2.)\n",
      "time=n*t\n",
      "#results\n",
      "print '%s %.1f %s' %(\"Time required =\",time,\"min\")\n"
     ],
     "language": "python",
     "metadata": {},
     "outputs": [
      {
       "output_type": "stream",
       "stream": "stdout",
       "text": [
        "Time required = 85.2 min\n"
       ]
      }
     ],
     "prompt_number": 20
    },
    {
     "cell_type": "heading",
     "level": 2,
     "metadata": {},
     "source": [
      "Example I2 - Pg 230"
     ]
    },
    {
     "cell_type": "code",
     "collapsed": false,
     "input": [
      "#calculate the value of kdash\n",
      "#Initialization of variables\n",
      "import math\n",
      "E=50*1000. #J/mol\n",
      "T1=25+273. #K\n",
      "T2=37+273. #K\n",
      "#calculations\n",
      "ln=E/8.3145 *(1./T1-1./T2)\n",
      "factor=math.pow(math.e,(ln))\n",
      "#results\n",
      "print '%s %.2f %s' %(\"kdash =\",factor,\"k\")\n"
     ],
     "language": "python",
     "metadata": {},
     "outputs": [
      {
       "output_type": "stream",
       "stream": "stdout",
       "text": [
        "kdash = 2.18 k\n"
       ]
      }
     ],
     "prompt_number": 21
    }
   ],
   "metadata": {}
  }
 ]
}