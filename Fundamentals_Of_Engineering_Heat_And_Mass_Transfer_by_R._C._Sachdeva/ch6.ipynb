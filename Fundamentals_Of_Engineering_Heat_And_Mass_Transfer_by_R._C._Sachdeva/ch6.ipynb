{
 "metadata": {
  "name": "",
  "signature": "sha256:ffaa9591022d13ef65a41826984b020004775f9f4dff2ea59062ac5a8175fc23"
 },
 "nbformat": 3,
 "nbformat_minor": 0,
 "worksheets": [
  {
   "cells": [
    {
     "cell_type": "heading",
     "level": 1,
     "metadata": {},
     "source": [
      "Chapter 6 : Fundamentals of convective heat transfer"
     ]
    },
    {
     "cell_type": "heading",
     "level": 2,
     "metadata": {},
     "source": [
      "Example 6.2  Page No : 241"
     ]
    },
    {
     "cell_type": "code",
     "collapsed": false,
     "input": [
      "import math \n",
      "\n",
      "\n",
      "# Variables\n",
      "L = 1;\t\t\t#Length of the palte in m\n",
      "W = 1;\t\t\t#Width of the plate in m\n",
      "v = 2.5;\t\t\t#Velocity of air in m/s\n",
      "Re = (5*10**5);\t\t\t#Reynolds number at the transition from laminar to turbulant\n",
      "p = (0.85*10**-5);\t\t\t#Dynamic vismath.cosity in N.s/m**2\n",
      "r = 1.12;\t\t\t#Density in kg/m**3\n",
      "\n",
      "# Calculations\n",
      "x = (p*Re)/(r*v);\t\t\t#Calculated length in m\n",
      "\n",
      "# Results\n",
      "print 'The actual length of the plate is %i m, which is less than %3.2f m'%(L,x)\n",
      "\n",
      "\n"
     ],
     "language": "python",
     "metadata": {},
     "outputs": [
      {
       "output_type": "stream",
       "stream": "stdout",
       "text": [
        "The actual length of the plate is 1 m, which is less than 1.52 m\n"
       ]
      }
     ],
     "prompt_number": 1
    },
    {
     "cell_type": "heading",
     "level": 2,
     "metadata": {},
     "source": [
      "Example 6.6  Page No : 247"
     ]
    },
    {
     "cell_type": "code",
     "collapsed": false,
     "input": [
      "# Variables\n",
      "p = 0.8;\t\t\t#Dynamic viscosity in N.s/m**2\n",
      "k = 0.15;\t\t\t#Thermal conductivity in W/m.K\n",
      "Tb = 10;\t\t\t#Temperature of bearing in degree C\n",
      "Ts = 30;\t\t\t#Temperature of the shaft in degree C\n",
      "C = 0.002;\t\t\t#Clearance between bearig and shaft in m\n",
      "U = 6;\t\t\t#Velocity in m/s\n",
      "\n",
      "# Calculations\n",
      "qb = (((-p*U**2)/(2*C))-((k/C)*(Ts-Tb)))/1000;\t\t\t#Surface heat flux at the bearing in kW/m**2\n",
      "qs = (((p*U**2)/(2*C))-((k/C)*(Ts-Tb)))/1000;\t\t\t#Surface heat flux at the shaft in kW/m**2\n",
      "Tmax = Tb+(((p*U**2)/(2*k))*(0.604-0.604**2))+((Ts-Tb)*0.604);\t\t\t#Maximum temperature in degree C occurs when ymax = 0.604L\n",
      "\n",
      "# Results\n",
      "print 'Maximum temperature rise is %3.3f degree C  \\n \\\n",
      "Heat fux to the bearing is %3.1f kW/m**2  \\n \\\n",
      "Heat fux to the shaft is %3.1f kW/m**2'%(Tmax,qb,qs)\n",
      "\n",
      "\n"
     ],
     "language": "python",
     "metadata": {},
     "outputs": [
      {
       "output_type": "stream",
       "stream": "stdout",
       "text": [
        "Maximum temperature rise is 45.042 degree C  \n",
        " Heat fux to the bearing is -8.7 kW/m**2  \n",
        " Heat fux to the shaft is 5.7 kW/m**2\n"
       ]
      }
     ],
     "prompt_number": 2
    },
    {
     "cell_type": "heading",
     "level": 2,
     "metadata": {},
     "source": [
      "Example 6.7  Page No : 257"
     ]
    },
    {
     "cell_type": "code",
     "collapsed": false,
     "input": [
      "# Variables\n",
      "D = 0.02;\t\t\t#I.D of the tube in m\n",
      "Q = 1.5;\t\t\t#Flow rate in litres per minute\n",
      "k = (1*10**-6);\t\t\t#kinematic vismath.cosity in m**2/s\n",
      "\n",
      "# Calculations\n",
      "um = ((Q/60)*10**-3)/(3.14*(D**2/4));\t\t\t#Average velocity in m/s\n",
      "Re = (um*D)/k;\t\t\t#Reynolds number\n",
      "x = 0.05*D*Re;\t\t\t#Entry length in m\n",
      "\n",
      "# Results\n",
      "print 'Re which is %3.0f less than 2300, the flow is laminar.  \\n \\\n",
      "Entry length is %3.3f m'%(Re,x)\n"
     ],
     "language": "python",
     "metadata": {},
     "outputs": [
      {
       "output_type": "stream",
       "stream": "stdout",
       "text": [
        "Re which is 1592 less than 2300, the flow is laminar.  \n",
        " Entry length is 1.592 m\n"
       ]
      }
     ],
     "prompt_number": 3
    },
    {
     "cell_type": "heading",
     "level": 2,
     "metadata": {},
     "source": [
      "Example 6.8  Page No : 257"
     ]
    },
    {
     "cell_type": "code",
     "collapsed": false,
     "input": [
      "# Variables\n",
      "L = 3000;\t\t\t#Distance transported in m\n",
      "D = 0.02;\t\t\t#I.D of the tube in m\n",
      "Q = 1.5;\t\t\t#Flow rate in litres per minute\n",
      "k = (1*10**-6);\t\t\t#kinematic vismath.cosity in m**2/s\n",
      "pw = 1000;\t\t\t#Density of water in kg/m**3\n",
      "\n",
      "# Calculations\n",
      "um = ((Q/60)*10**-3)/(3.14*(D**2/4));\t\t\t#Average velocity in m/s\n",
      "Re = (um*D)/k;\t\t\t#Reynolds number\n",
      "x = 0.05*D*Re;\t\t\t#Entry length in m\n",
      "hL = ((64./Re)*L*um**2)/(2*D*9.81)\t\t\t#Head loss in m\n",
      "P = (pw*9.81*(3.14/4)*D**2*um*hL);\t\t\t#Power required to maintain this flow rate in W\n",
      "\n",
      "# Results\n",
      "print 'Head loss is %3.2f m  \\n \\\n",
      "Power required to maintain this flow rate is %3.4f W'%(hL,P)\n"
     ],
     "language": "python",
     "metadata": {},
     "outputs": [
      {
       "output_type": "stream",
       "stream": "stdout",
       "text": [
        "Head loss is 1.95 m  \n",
        " Power required to maintain this flow rate is 0.4777 W\n"
       ]
      }
     ],
     "prompt_number": 5
    },
    {
     "cell_type": "heading",
     "level": 2,
     "metadata": {},
     "source": [
      "Example 6.9  Page No : 258"
     ]
    },
    {
     "cell_type": "code",
     "collapsed": false,
     "input": [
      "# Variables\n",
      "L = 100;\t\t\t#Length of rectangular duct in m\n",
      "A = [0.02,0.025];\t\t\t#Area of duct in m**2\n",
      "Tw = 40;\t\t\t#Temperature of water in degree C\n",
      "v = 0.5;\t\t\t#Velocity of flow in m/s\n",
      "k = (0.66*10**-6);\t\t\t#kinematic viscosity in m**2/s\n",
      "p = 995;\t\t\t#Density of water in kg/m**3\n",
      "\n",
      "# Calculations\n",
      "P = 2*(A[0]+A[1]);\t\t\t#Perimeter of the duct in m\n",
      "Dh = (4*(A[0]*A[1]))/P\t\t\t#Hydraulic diameter of the duct in m\n",
      "Re = (v*Dh)/k;\t\t\t#Reynolds number\n",
      "f = 0.316*Re**(-0.25);\t\t\t#Friction factor \n",
      "hL = (f*L*v**2)/(2*Dh*9.81);\t\t\t#Head loss in m\n",
      "P = (hL*9.81*p)/10**4;\t\t\t#Pressure drop in smooth rectangular duct in 10**4 N/m**2\n",
      "\n",
      "# Results\n",
      "print 'Pressure drop in smooth rectangular duct is %3.4f*10**4 N/m**2'%(P)\n",
      "\n",
      "\n"
     ],
     "language": "python",
     "metadata": {},
     "outputs": [
      {
       "output_type": "stream",
       "stream": "stdout",
       "text": [
        "Pressure drop in smooth rectangular duct is 1.5527*10**4 N/m**2\n"
       ]
      }
     ],
     "prompt_number": 4
    }
   ],
   "metadata": {}
  }
 ]
}