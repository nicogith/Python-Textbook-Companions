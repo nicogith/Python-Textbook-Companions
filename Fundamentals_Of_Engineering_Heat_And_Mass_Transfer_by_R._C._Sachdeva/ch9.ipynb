{
 "metadata": {
  "name": "",
  "signature": "sha256:20bf663c37cc88094e4d6e0d7e23e0cfc96b3cd4eb305559eda1ce27188b9a4a"
 },
 "nbformat": 3,
 "nbformat_minor": 0,
 "worksheets": [
  {
   "cells": [
    {
     "cell_type": "heading",
     "level": 1,
     "metadata": {},
     "source": [
      "Chapter 9 : Thermal radiation basic\n",
      "relations"
     ]
    },
    {
     "cell_type": "heading",
     "level": 2,
     "metadata": {},
     "source": [
      "Example 9.1  Page No : 378"
     ]
    },
    {
     "cell_type": "code",
     "collapsed": false,
     "input": [
      "import math \n",
      "\n",
      "# Variables\n",
      "T = 5527;\t\t\t#Temperature of black body in degree C\n",
      "D = (1.39*10**6);\t\t\t#Diameter of the sun in km\n",
      "L = (1.5*10**8);\t\t\t#Distance between the earth and sun in km\n",
      "\n",
      "# Calculations\n",
      "q = (5.67*10**-8*(T+273)**4*D**2)/(4*L**2);\t\t\t#Rate of solar radiation in W/m**2\n",
      "\n",
      "# Results\n",
      "print 'Rate of solar radiation on a plane normal to sun rays is %3.0f W/m**2'%(q)\n",
      "\n",
      "\n"
     ],
     "language": "python",
     "metadata": {},
     "outputs": [
      {
       "output_type": "stream",
       "stream": "stdout",
       "text": [
        "Rate of solar radiation on a plane normal to sun rays is 1377 W/m**2\n"
       ]
      }
     ],
     "prompt_number": 1
    },
    {
     "cell_type": "heading",
     "level": 2,
     "metadata": {},
     "source": [
      "Example 9.2  Page No : 383"
     ]
    },
    {
     "cell_type": "code",
     "collapsed": false,
     "input": [
      "# Variables\n",
      "T = (727+273);\t\t\t#Temperature of black body in K\n",
      "l1 = 1;\t\t\t#Wavelength in micro meter\n",
      "l2 = 5;\t\t\t#Wavelength in micro meter\n",
      "F1 = 0.0003;\t\t\t#From Table 9.2 on page no. 385\n",
      "F2 = 0.6337;\t\t\t#From Table 9.2 on page no. 385\n",
      "\n",
      "# Calculations\n",
      "a = (5.67*10**-8*T**4)/1000;\t\t\t#Heat transfer in kW/m**2\n",
      "F = (F2-F1)*a;\t\t\t#Fraction of thermal radiation emitted by the surface in kW/m**2\n",
      "\n",
      "# Results\n",
      "print 'Fraction of thermal radiation emitted by the surface is %3.1f kW/m**2'%(F)\n",
      "\n",
      "\n"
     ],
     "language": "python",
     "metadata": {},
     "outputs": [
      {
       "output_type": "stream",
       "stream": "stdout",
       "text": [
        "Fraction of thermal radiation emitted by the surface is 35.9 kW/m**2\n"
       ]
      }
     ],
     "prompt_number": 2
    },
    {
     "cell_type": "heading",
     "level": 2,
     "metadata": {},
     "source": [
      "Example 9.3  Page No : 384"
     ]
    },
    {
     "cell_type": "code",
     "collapsed": false,
     "input": [
      "# Variables\n",
      "t = 0.8;\t\t\t#Transmittivity of glass in the region except in the wave length region [0.4,3]\n",
      "T = 5555;\t\t\t#Temperature of black body in K\n",
      "\n",
      "# Calculations\n",
      "ao = 0;\t\t\t#a0 in micro K\n",
      "a1 = (0.4*T);\t\t\t#a1 for the wavelength 0.4 micro meter in micro K\n",
      "a2 = (3*T);\t\t\t#a1 for the wavelength 3 micro meter in micro K\n",
      "F0 = 0;\t\t\t#From Table 9.2 on page no.385\n",
      "F1 = 0.10503;\t\t\t#From Table 9.2 on page no.385\n",
      "F2 = 0.97644;\t\t\t#From Table 9.2 on page no.385\n",
      "t1 = t*(F2-F1);\t\t\t#Average hemispherical transmittivity of glass \n",
      "\n",
      "# Results\n",
      "print 'Average hemispherical transmittivity of glass is %3.2f'%(t1)\n"
     ],
     "language": "python",
     "metadata": {},
     "outputs": [
      {
       "output_type": "stream",
       "stream": "stdout",
       "text": [
        "Average hemispherical transmittivity of glass is 0.70\n"
       ]
      }
     ],
     "prompt_number": 3
    },
    {
     "cell_type": "heading",
     "level": 2,
     "metadata": {},
     "source": [
      "Example 9.4  Page No : 386"
     ]
    },
    {
     "cell_type": "code",
     "collapsed": false,
     "input": [
      "# Variables\n",
      "l = 0.5;\t\t\t#Wavelength at maximum intensity of radiation in micro meter\n",
      "C3 = 0.289*10**-2   #mK\n",
      "\n",
      "# Calculations\n",
      "T = C3/(l*10**-6);\t\t\t#Temperature according to Wien's print lacement law in degree C\n",
      "E = (5.67*10**-8*T**4)/10**6;\t\t\t#Emissive power umath.sing Stefan-Boltzmann law in MW/m**2\n",
      "\n",
      "# Results\n",
      "print 'Surface temperature is %3.0f K Emissive power is %3.1f MW/m**2'%(T,E)\n",
      "\n",
      "\n"
     ],
     "language": "python",
     "metadata": {},
     "outputs": [
      {
       "output_type": "stream",
       "stream": "stdout",
       "text": [
        "Surface temperature is 5780 K Emissive power is 63.3 MW/m**2\n"
       ]
      }
     ],
     "prompt_number": 1
    },
    {
     "cell_type": "heading",
     "level": 2,
     "metadata": {},
     "source": [
      "Example 9.5  Page No : 389"
     ]
    },
    {
     "cell_type": "code",
     "collapsed": false,
     "input": [
      "# Variables\n",
      "Ts = (827+273);\t\t\t#Surface temperature in degree C\n",
      "E = (1.37*10**10);\t\t\t#Emmisive power in W/m**3\n",
      "\n",
      "# Calculations\n",
      "Eblmax = (1.307*10**-5*Ts**5);\t\t\t#Maximum emissive power in W/m**3\n",
      "e = (E/Eblmax);\t\t\t#Emissivity of the body \n",
      "lmax = ((0.289*10**-2)/Ts)/10**-6;\t\t\t#Wavelength correspoing to the maximum spectral intensity of radiation in micro meter\n",
      "\n",
      "# Results\n",
      "print 'Wavelength corresponding to the maximum spectral intensity of radiation is %3.2f micro meter'%(lmax)\n",
      "\n",
      "\n"
     ],
     "language": "python",
     "metadata": {},
     "outputs": [
      {
       "output_type": "stream",
       "stream": "stdout",
       "text": [
        "Wavelength corresponding to the maximum spectral intensity of radiation is 2.63 micro meter\n"
       ]
      }
     ],
     "prompt_number": 6
    },
    {
     "cell_type": "heading",
     "level": 2,
     "metadata": {},
     "source": [
      "Example 9.6  Page No : 389"
     ]
    },
    {
     "cell_type": "code",
     "collapsed": false,
     "input": [
      "import math\n",
      "# Variables\n",
      "T = (1400+273);\t\t\t#Temperature of the body in K\n",
      "l = 0.65;\t\t\t#Wavelength in micro meter\n",
      "e = 0.6;\t\t\t#Emissivity\n",
      "\n",
      "# Calculations\n",
      "T = (1./((1./T)-((l*10**-6*math.log(1./e))/(1.439*10**-2))));\t\t\t#Temperature of the body in K\n",
      "Tb = (T-273);\t\t\t#Temperature of the body in degree C\n",
      "\n",
      "# Results\n",
      "print 'Temperature of the body is %3.0f degree C'%(Tb)\n",
      "\n",
      "\n"
     ],
     "language": "python",
     "metadata": {},
     "outputs": [
      {
       "output_type": "stream",
       "stream": "stdout",
       "text": [
        "Temperature of the body is 1467 degree C\n"
       ]
      }
     ],
     "prompt_number": 7
    },
    {
     "cell_type": "heading",
     "level": 2,
     "metadata": {},
     "source": [
      "Example 9.7  Page No : 391"
     ]
    },
    {
     "cell_type": "code",
     "collapsed": false,
     "input": [
      "# Variables\n",
      "Ts = (37+273);\t\t\t#Temperature of metallic bar in K\n",
      "T = 1100;\t\t\t#Interior temperature in K\n",
      "a = 0.52;\t\t\t#Absorptivity at 1100 K\n",
      "e = 0.8;\t\t\t#Emissivity at 310 K\n",
      "\n",
      "# Calculations\n",
      "Q = (a*5.67*10**-8*T**4)/1000;\t\t\t#Rate of absorption in kW/m**2\n",
      "E = (e*5.67*10**-8*Ts**4)/1000;\t\t\t#Rate of emission in kW/m**2\n",
      "\n",
      "# Results\n",
      "print 'Rate of absorption is %3.2f kW/m**2 \\n \\\n",
      "Rate of emission is %3.2f kW/m**2'%(Q,E)\n",
      "\n",
      "\n"
     ],
     "language": "python",
     "metadata": {},
     "outputs": [
      {
       "output_type": "stream",
       "stream": "stdout",
       "text": [
        "Rate of absorption is 43.17 kW/m**2 \n",
        " Rate of emission is 0.42 kW/m**2\n"
       ]
      }
     ],
     "prompt_number": 2
    },
    {
     "cell_type": "heading",
     "level": 2,
     "metadata": {},
     "source": [
      "Example 9.8  Page No : 391"
     ]
    },
    {
     "cell_type": "code",
     "collapsed": false,
     "input": [
      "# Variables\n",
      "e1 = 0.3\t\t\t#Emissivity of glass upto 3 micro meter\n",
      "e2 = 0.9;\t\t\t#Emissivity of glass above 3 micro meter\n",
      "t = 0.8;\t\t\t#Transmittivity of glass in the region except in the wave length region [0.4,3]\n",
      "\n",
      "# Calculations\n",
      "E = (5.67*10**-8*5780**4)/10**6;\t\t\t#Emissive power in MW/m**2\n",
      "F1 = 0.10503;\t\t\t#From Table 9.2 on page no.385\n",
      "F2 = 0.97644;\t\t\t#From Table 9.2 on page no.385\n",
      "I = (E*10**6*(F2-F1))/10**6;\t\t\t#Total incident radiation in MW/m**2\n",
      "T = (t*I);\t\t\t#Total radiation transmitted in MW/m**2\n",
      "t1 = (e1*I);\t\t\t#Absorbed radiation in MW/m**2 in wavelength  [0.4,3] micro meter\n",
      "t2 = (e1*E*F1);\t\t\t#Absorbed radiation in MW/m**2 in wavelength not in the range [0.4,3] micro meter\n",
      "t3 = (e2*(1-F2)*E);\t\t\t#Absorbed radiation in MW/m**2 in wavelength greater than 3 micro meter\n",
      "R = (t1+t2+t3);\t\t\t#Total radiation absorbed in MW/m**2\n",
      "\n",
      "# Results\n",
      "print 'Total radiation transmitted is %3.2f MW/m**2 \\n \\\n",
      "Total radiation absorbed is %3.2f MW/m**2'%(T,R)\n"
     ],
     "language": "python",
     "metadata": {},
     "outputs": [
      {
       "output_type": "stream",
       "stream": "stdout",
       "text": [
        "Total radiation transmitted is 44.12 MW/m**2 \n",
        " Total radiation absorbed is 19.88 MW/m**2\n"
       ]
      }
     ],
     "prompt_number": 9
    }
   ],
   "metadata": {}
  }
 ]
}