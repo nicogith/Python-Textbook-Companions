{
 "metadata": {
  "name": "",
  "signature": "sha256:756d82bd4f6b1c40b9796c02104f4ba9dd307f7a3eb5083116664c3ed159b9c9"
 },
 "nbformat": 3,
 "nbformat_minor": 0,
 "worksheets": [
  {
   "cells": [
    {
     "cell_type": "heading",
     "level": 1,
     "metadata": {},
     "source": [
      "Chapter 1 : Basic Concepts"
     ]
    },
    {
     "cell_type": "heading",
     "level": 2,
     "metadata": {},
     "source": [
      "Example 1.1  Page No : 9"
     ]
    },
    {
     "cell_type": "code",
     "collapsed": false,
     "input": [
      "# Variables\n",
      "L = 0.02;\t\t    \t#Thicness of stainless steel plate in m\n",
      "T = [550,50];\t\t\t#Temperatures at both the faces in degree C\n",
      "k = 19.1;\t\t    \t#Thermal Conductivity of stainless steel at 300 degree C in W/m.K\n",
      "    \n",
      "# Calculations\n",
      "q = ((k*(T[0]-T[1]))/(L*1000));\t\t\t#Heat transfered per uni area in kW/m**2\n",
      "\n",
      "# Results\n",
      "print 'The heat transfered through the material per unit area is %3.1f kW/m**2'%(q)\n"
     ],
     "language": "python",
     "metadata": {},
     "outputs": [
      {
       "output_type": "stream",
       "stream": "stdout",
       "text": [
        "The heat transfered through the material per unit area is 477.5 kW/m**2\n"
       ]
      }
     ],
     "prompt_number": 1
    },
    {
     "cell_type": "heading",
     "level": 2,
     "metadata": {},
     "source": [
      "Example 1.2  Page No : 11"
     ]
    },
    {
     "cell_type": "code",
     "collapsed": false,
     "input": [
      "# Variables\n",
      "L = 1.;\t\t\t#Length of the flat plate in m\n",
      "w = 0.5;\t\t\t#Width of the flat plate in m\n",
      "T = 30.;\t\t\t#Air stream temperature in degree C\n",
      "h = 30.;\t\t\t#Convective heat transfer coefficient in W/m**2.K\n",
      "Ts = 300.;\t\t\t#Temperature of the plate in degree C\n",
      "\n",
      "# Calculations\n",
      "A = (L*w)               \t\t\t#Area of the plate in m**2\n",
      "Q = (h*A*(Ts-T)/(1000));\t\t\t#Heat transfer in kW\n",
      "\n",
      "# Results\n",
      "print 'Heat transfer rate is %3.2f kW'%(Q)\n"
     ],
     "language": "python",
     "metadata": {},
     "outputs": [
      {
       "output_type": "stream",
       "stream": "stdout",
       "text": [
        "Heat transfer rate is 4.05 kW\n"
       ]
      }
     ],
     "prompt_number": 2
    },
    {
     "cell_type": "heading",
     "level": 2,
     "metadata": {},
     "source": [
      "Example 1.3  Page No : 11"
     ]
    },
    {
     "cell_type": "code",
     "collapsed": false,
     "input": [
      "# Variables\n",
      "T = 55.\t\t\t#Surface temperature in degree C\n",
      "\n",
      "# Calculations\n",
      "q = (5.6697*10**-8*(273+T)**4)/1000;\t\t\t#The rate at which the radiator emits radiant heat per unit area if it behaves as a black body in kW/m**2\n",
      "\n",
      "# Results\n",
      "print 'The rate at which the radiator emits radiant heat per unit area is %3.2f kW/m**2'%(q)\n",
      "\n",
      "\n"
     ],
     "language": "python",
     "metadata": {},
     "outputs": [
      {
       "output_type": "stream",
       "stream": "stdout",
       "text": [
        "The rate at which the radiator emits radiant heat per unit area is 0.66 kW/m**2\n"
       ]
      }
     ],
     "prompt_number": 1
    },
    {
     "cell_type": "heading",
     "level": 2,
     "metadata": {},
     "source": [
      "Example 1.5  Page No : 20"
     ]
    },
    {
     "cell_type": "code",
     "collapsed": false,
     "input": [
      "# Variables\n",
      "k = 0.145;\t\t\t#Thermal conductivity of Firebrick in W/m.K\n",
      "e = 0.85;\t\t\t#Emissivity\n",
      "L = 0.145;\t\t\t#Thickness of the wall in m\n",
      "Tg = 800.;\t\t\t#Gas temperature in degree C\n",
      "Twg = 798.;\t\t\t#Wall temperature ion gas side in degree C\n",
      "hg = 40.;\t\t\t#Film conductance on gas side in W/m**2.K\n",
      "hc = 10.;\t\t\t#Film conductance on coolant side in W/m**2.K\n",
      "F = 1.; \t\t\t#Radiation Shape factor between wall and gas\n",
      "\n",
      "# Calculations\n",
      "R1 = (((e*5.67*10**-8*F*((Tg+273)**4-(Twg+273)**4))/(Tg-Twg))+(1./hg));\t\t\t#Thermal resistance inverse\n",
      "R2 = (L/k);     \t    \t\t#Thermal resistance\n",
      "R3 = (1./hc);\t    \t    \t#Thermal resistance\n",
      "U = 1./((1./R1)+R2+R3);\t\t\t#Overall heat transfer coefficient in W/m**2.K\n",
      "\n",
      "# Results\n",
      "print 'Overall heat transfer coefficient is %3.3f W/m**2.K'%(U)\n"
     ],
     "language": "python",
     "metadata": {},
     "outputs": [
      {
       "output_type": "stream",
       "stream": "stdout",
       "text": [
        "Overall heat transfer coefficient is 0.906 W/m**2.K\n"
       ]
      }
     ],
     "prompt_number": 4
    },
    {
     "cell_type": "heading",
     "level": 2,
     "metadata": {},
     "source": [
      "Example 1.6  Page No : 21"
     ]
    },
    {
     "cell_type": "code",
     "collapsed": false,
     "input": [
      "# Variables\n",
      "D = 0.05;\t\t\t#Outside diameter of the pipe in m\n",
      "e = 0.8;\t\t\t#Emmissivity\n",
      "T = 30;\t\t\t#Room Temperature in degree C\n",
      "Ts = 250;\t\t\t#Surface temperature in degree C\n",
      "h = 10;\t\t\t#Convective heat transfer coefficient in W/m**2.K\n",
      "\n",
      "# Calculations\n",
      "q = ((h*3.14*D*(Ts-T))+(e*3.14*D*5.67*10**-8*((Ts+473)**4-(T+273)**4)));\t\t\t#Heat loss per unit length of pipe in W/m\n",
      "\n",
      "# Results\n",
      "print 'Heat loss per unit length of pipe is %3.1f W/m'%(q) \n",
      "\n",
      "\n"
     ],
     "language": "python",
     "metadata": {},
     "outputs": [
      {
       "output_type": "stream",
       "stream": "stdout",
       "text": [
        "Heat loss per unit length of pipe is 2231.3 W/m\n"
       ]
      }
     ],
     "prompt_number": 5
    },
    {
     "cell_type": "heading",
     "level": 2,
     "metadata": {},
     "source": [
      "Example 1.7  Page No : 21"
     ]
    },
    {
     "cell_type": "code",
     "collapsed": false,
     "input": [
      "# Variables\n",
      "A = 0.1;\t\t\t#Surface area of water heater in m**2\n",
      "Q = 1000.;\t\t\t#Heat transfer rate in W\n",
      "Twater = 40;\t\t\t#Temperature of water in degree C\n",
      "h1 = 300;\t\t\t#Heat transfer coefficient in W/m**2.K\n",
      "Tair = 40;\t\t\t#Temperature of air in degree C\n",
      "h2 = 9;\t\t\t#Heat transfer coefficient in W/m**2.K \n",
      "\n",
      "# Calculations\n",
      "Tsw = (Q/(h1*A))+Twater;\t\t\t#Temperature when used in water in degree C\n",
      "Tsa = (Q/(h2*A))+Tair;\t\t\t#Temperature when used in air in degree C\n",
      "\n",
      "# Results\n",
      "print 'Temperature when used in water is %3.1f degree C  \\n \\\n",
      "Temperature when used in air is %i degree C'%(Tsw,Tsa)\n"
     ],
     "language": "python",
     "metadata": {},
     "outputs": [
      {
       "output_type": "stream",
       "stream": "stdout",
       "text": [
        "Temperature when used in water is 73.3 degree C  \n",
        " Temperature when used in air is 1151 degree C\n"
       ]
      }
     ],
     "prompt_number": 7
    }
   ],
   "metadata": {}
  }
 ]
}