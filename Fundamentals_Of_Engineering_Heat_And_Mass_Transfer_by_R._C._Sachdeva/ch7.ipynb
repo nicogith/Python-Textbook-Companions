{
 "metadata": {
  "name": "",
  "signature": "sha256:9c4fb6b8e822716d4e29e95db1a4da7b71b979535df0e47c4729b7b08b5165ec"
 },
 "nbformat": 3,
 "nbformat_minor": 0,
 "worksheets": [
  {
   "cells": [
    {
     "cell_type": "heading",
     "level": 1,
     "metadata": {},
     "source": [
      "Chapter 7 : Forced Convection Systems"
     ]
    },
    {
     "cell_type": "heading",
     "level": 2,
     "metadata": {},
     "source": [
      "Example 7.1  Page No : 275"
     ]
    },
    {
     "cell_type": "code",
     "collapsed": false,
     "input": [
      "import math \n",
      "\n",
      "# Variables\n",
      "Ta = 20;\t\t\t#Temperature of air in degree C\n",
      "Tp = 134;\t\t\t#Temperature of heated plate in degree C\n",
      "v = 3;\t\t\t#Velocity of flow in m/s\n",
      "L = 2;\t\t\t#Length of plate in m\n",
      "W = 1.5;\t\t\t#Width of plate in m\n",
      "x = 0.4;\t\t\t#Distance of plane from the plate in m\n",
      "k = (15.06*10**-6);\t\t\t#Kinematic vismath.cosity in m**2/s\n",
      "\n",
      "# Calculations\n",
      "Re = (v*x)/k;\t\t\t#Reynold number\n",
      "q = ((5*x)/math.sqrt(Re))*1000;\t\t\t#Thickness of boundary layer in mm\n",
      "Cfx = (0.664/math.sqrt(Re))/10**-3;\t\t\t#Local skin friction coefficient *10**-3\n",
      "\n",
      "# Results\n",
      "print 'Thickness of boundary layer is %3.1f mm Local skin friction coefficient is %3.2f*10**-3'%(q,Cfx)\n"
     ],
     "language": "python",
     "metadata": {},
     "outputs": [
      {
       "output_type": "stream",
       "stream": "stdout",
       "text": [
        "Thickness of boundary layer is 7.1 mm Local skin friction coefficient is 2.35*10**-3\n"
       ]
      }
     ],
     "prompt_number": 2
    },
    {
     "cell_type": "heading",
     "level": 2,
     "metadata": {},
     "source": [
      "Example 7.2  Page No : 275"
     ]
    },
    {
     "cell_type": "code",
     "collapsed": false,
     "input": [
      "# Variables\n",
      "Ta = 20;\t\t\t#Temperature of air in degree C\n",
      "Tp = 134;\t\t\t#Temperature of heated plate in degree C\n",
      "v = 3;\t\t\t#Velocity of flow in m/s\n",
      "L = 2;\t\t\t#Length of plate in m\n",
      "W = 1.5;\t\t\t#Width of plate in m\n",
      "x = 0.4;\t\t\t#Distance of plane from the plate in m\n",
      "k = (15.06*10**-6);\t\t\t#Kinematic vismath.cosity in m**2/s\n",
      "\n",
      "# Calculations\n",
      "Tf = (Ta+Tp)/2;\t\t\t#Film temperature in degree C\n",
      "pw = 0.998;\t\t\t#Density of air at 77 degree C\n",
      "Cp = 1009;\t\t\t#Specific heat of air at 77 degree C\n",
      "kw = (20.76*10**-6);\t\t\t#Kinematic viscosity of air at 77 degree C\n",
      "k = 0.03;\t\t\t#Thermal conductivity of air at 77 degree C\n",
      "Pr = 0.697;\t\t\t#prantl number of air at 77 degree C\n",
      "Re = (v*x)/kw;\t\t\t#Reynolds number\n",
      "Nu = (0.332*Re**0.5*Pr**(1./3));\t\t\t#Nusselts number\n",
      "h = (Nu*k)/x;\t\t\t#Heat transfer coefficient in W/m**2.K\n",
      "h1 = (h*2);\t\t\t#Average value of heat transfer coefficient in W/m**2.K\n",
      "Q = h1*x*W*(Tp-Ta);\t\t\t#Heat flow in W\n",
      "Q1 = (2*Q);\t\t\t#Heat flow from both sides of the plate in W\n",
      "\n",
      "# Results\n",
      "print 'Heat flow from both sides of the plate is %3.0f W'%(round(Q1,-1))\n",
      "\n",
      "\n"
     ],
     "language": "python",
     "metadata": {},
     "outputs": [
      {
       "output_type": "stream",
       "stream": "stdout",
       "text": [
        "Heat flow from both sides of the plate is 1450 W\n"
       ]
      }
     ],
     "prompt_number": 1
    },
    {
     "cell_type": "heading",
     "level": 2,
     "metadata": {},
     "source": [
      "Example 7.3  Page No : 282"
     ]
    },
    {
     "cell_type": "code",
     "collapsed": false,
     "input": [
      "import math\n",
      "# Variables\n",
      "Ta = 20;\t\t\t#Temperature of air in degree C\n",
      "v = 3;\t\t\t#Velocity of flow in m/s\n",
      "L = 2;\t\t\t#Length of plate in m\n",
      "W = 1;\t\t\t#Width of plate in m\n",
      "x1 = 0.3;\t\t\t#Initial point of the boundary layer in m\n",
      "x2 = 0.8;\t\t\t#Final point of the boundary layer in m\n",
      "p = 1.17;\t\t\t#Density of air at 20 degree C in kg/m**3\n",
      "k = (15*10**-6);\t\t\t#Kinematic vismath.cosity in m**2/s\n",
      "Re = (5*10**5);\t\t\t#Reynolds number at the transition frm laminar to turbulant\n",
      "\n",
      "# Calculations\n",
      "x = (k*Re)/v;\t\t                    \t#Critical length in m\n",
      "Rel = (v*L)/k;                   \t\t\t#Reynolds number\n",
      "q = (4.64*L)/math.sqrt(Rel)*1000;\t\t\t#Boundary layer thickness at the trailing edge of plate in mm\n",
      "ts = 1.292*(0.5*p*v**2)*math.sqrt(1./Rel);\t#Average shear stress in N/m**2\n",
      "F = (2*L*ts);\t\t                    \t#Drag force on the two sides of the plate in N\n",
      "q80 = (4.64*x2)/math.sqrt((v*x2)/k);\t\t\t#Boundray layer thickness at x = 0.8 m\n",
      "q30 = (4.64*x1)/math.sqrt((v*x1)/k);\t\t\t#Boundray layer thickness at x = 0.3 m\n",
      "m = ((5./8)*p*v*(q80-q30))/10**-3;\t\t\t#Mass flow of air in kg/s\n",
      "\n",
      "# Results\n",
      "print 'Boundary layer thickness at the trailing edge of plate is % 3.2f mm \\n \\\n",
      "Drag force on the two sides of the plate is %3.4f N \\n \\\n",
      "Mass flow of air is %3.1f*10**-3 kg/s'%(q,F,m)\n"
     ],
     "language": "python",
     "metadata": {},
     "outputs": [
      {
       "output_type": "stream",
       "stream": "stdout",
       "text": [
        "Boundary layer thickness at the trailing edge of plate is  14.67 mm \n",
        " Drag force on the two sides of the plate is 0.0430 N \n",
        " Mass flow of air is 7.9*10**-3 kg/s\n"
       ]
      }
     ],
     "prompt_number": 4
    },
    {
     "cell_type": "heading",
     "level": 2,
     "metadata": {},
     "source": [
      "Example 7.4  Page No : 283"
     ]
    },
    {
     "cell_type": "code",
     "collapsed": false,
     "input": [
      "import math\n",
      "# Variables\n",
      "P = 8.;\t\t\t#Pressure of air in kN/m**2\n",
      "Ta = 250.;\t\t\t#Temperature of air in degree C\n",
      "L = 1.;\t\t\t#Length of the palte in m\n",
      "W = 0.3;\t\t\t#Width of the plate in m\n",
      "v = 8.;\t\t\t#Velocity of air in m/s\n",
      "Tp = 78.;\t\t\t#Temperature of plate in degree C\n",
      "\n",
      "# Calculations\n",
      "Tf = (Ta+Tp)/2;\t\t\t#Film temperature in degree C\n",
      "Cp = 1018;\t\t\t#Specific heat of air at 164 degree C and 1 atm pressure\n",
      "kw = (30.8*10**-6);\t\t\t#Kinematic viscosity of air at 164 degree C and 1 atm pressure\n",
      "k = 0.0364;\t\t\t#Thermal conductivity of air at 164 degree C and 1 atm pressure\n",
      "Pr = 0.69;\t\t\t#prant number of air at 164 degree C and 1 atm pressure\n",
      "k1 = kw*(101330/(P*1000));\t\t\t#Kinematic viscosity of air at 164 degree C and 8kN/m**2 pressure\n",
      "Re = (v*L)/k1;\t\t\t#Reynolds number\n",
      "h = 0.662*(k/L)*math.sqrt(Re)*Pr**(1./3);\t\t\t#Heat transfer coefficient in W/m.K\n",
      "Q = 2*h*L*W*(Ta-Tp);\t\t\t#Rate of heat removal in W\n",
      "\n",
      "\n",
      "# Results\n",
      "print 'Rate of heat removal is %3.1f W'%(Q)\n",
      "\n",
      "#note : answer is slightly different because of rounding off error."
     ],
     "language": "python",
     "metadata": {},
     "outputs": [
      {
       "output_type": "stream",
       "stream": "stdout",
       "text": [
        "Rate of heat removal is 314.7 W\n"
       ]
      }
     ],
     "prompt_number": 5
    },
    {
     "cell_type": "heading",
     "level": 2,
     "metadata": {},
     "source": [
      "Example 7.5  Page No : 286"
     ]
    },
    {
     "cell_type": "code",
     "collapsed": false,
     "input": [
      "import math\n",
      "# Variables\n",
      "P = 8.;\t\t\t#Pressure of air in kN/m**2\n",
      "Ta = 250.;\t\t\t#Temperature of air in degree C\n",
      "L = 1.;\t\t\t#Length of the palte in m\n",
      "W = 0.3;\t\t\t#Width of the plate in m\n",
      "v = 8.;\t\t\t#Velocity of air in m/s\n",
      "Tp = 78.;\t\t\t#Temperature of plate in degree C\n",
      "R = 287.;\t\t\t#Universal gas constant in J/kg.K\n",
      "\n",
      "# Calculations\n",
      "Tf = (Ta+Tp)/2;\t\t\t#Film temperature in degree C\n",
      "Cp = 1018;\t\t\t#Specific heat of air at 164 degree C and 1 atm pressure\n",
      "kw = (30.8*10**-6);\t\t\t#Kinematic viscosity of air at 164 degree C and 1 atm pressure\n",
      "k = 0.0364;\t\t\t#Thermal conductivity of air at 164 degree C and 1 atm pressure\n",
      "Pr = 0.69;\t\t\t#prant number of air at 164 degree C and 1 atm pressure\n",
      "k1 = kw*(101330/(P*1000));\t\t\t#Kinematic viscosity of air at 164 degree C and 8kN/m**2 pressure\n",
      "Re = (v*L)/k1;\t\t\t#Reynolds number\n",
      "h = 0.662*(k/L)*math.sqrt(Re)*Pr**(1./3);\t\t\t#Heat transfer coefficient in W/m.K\n",
      "Q = 2*h*L*W*(Ta-Tp);\t\t\t#Rate of heat removal in W\n",
      "p = (P*1000)/(R*(Tf+273));\t\t\t#Density in kg/m**3\n",
      "St = (h/(p*Cp*v));\t\t\t#Stanton number\n",
      "Cfx2 = (St*Pr**(2/3));\t\t\t#Colburn factor\n",
      "ts = (Cfx2*p*v**2);\t\t\t#Average shear stress in N/m**2\n",
      "D = (0.0186*W*L);\t\t\t#Drag force on one side of plate in N\n",
      "D2 = (2*D)/10**-3;\t\t\t#Total drag force on both sides of plate in N\n",
      "\n",
      "# Results\n",
      "print 'The drag force exerted on the plate is %3.2f*10**-3 N'%(D2)"
     ],
     "language": "python",
     "metadata": {},
     "outputs": [
      {
       "output_type": "stream",
       "stream": "stdout",
       "text": [
        "The drag force exerted on the plate is 11.16*10**-3 N\n"
       ]
      }
     ],
     "prompt_number": 8
    },
    {
     "cell_type": "heading",
     "level": 2,
     "metadata": {},
     "source": [
      "Example 7.6  Page No : 289"
     ]
    },
    {
     "cell_type": "code",
     "collapsed": false,
     "input": [
      "# Variables\n",
      "L = 1;\t\t\t#Length of the palte in m\n",
      "W = 1;\t\t\t#Width of the plate in m\n",
      "Ts = 10;\t\t\t#Temperature of free strem air in degree C\n",
      "v = 80;\t\t\t#Velocity of free stream air in m/s\n",
      "\n",
      "# Calculations\n",
      "k = 0.025;\t\t\t                        #Thermal conductivity of air at 10 degree C \n",
      "Pr = 0.72;\t\t\t                        #prant number of air at 10 degree C\n",
      "v1 = (14.15*10**-6);\t\t\t            #Kinematic viscosity of air at 10 degree C \n",
      "Re = (v*L)/v1;\t\t\t                    #Reynolds number\n",
      "q = 0.381*L*Re**(-1./5);\t\t        \t#Thickness of the boundary layer at the trailing edge of the plate in m\n",
      "Nu = (0.037*Re**(4./5)*Pr**(1./3));\t\t\t#Nusselts number\n",
      "h = (Nu*k)/L;                   \t\t\t#Mean value of the heat transfer coefficient in W/m**2.K\n",
      "\n",
      "# Results\n",
      "print 'Thickness of the boundary layer at the trailing edge of the plate is %3.4f m \\n \\\n",
      "Mean value of the heat transfer coefficient is %3.0f W/m**2.K'%(q,h)"
     ],
     "language": "python",
     "metadata": {},
     "outputs": [
      {
       "output_type": "stream",
       "stream": "stdout",
       "text": [
        "Thickness of the boundary layer at the trailing edge of the plate is 0.0170 m \n",
        " Mean value of the heat transfer coefficient is 209 W/m**2.K\n"
       ]
      }
     ],
     "prompt_number": 8
    },
    {
     "cell_type": "heading",
     "level": 2,
     "metadata": {},
     "source": [
      "Example 7.7  Page No : 290"
     ]
    },
    {
     "cell_type": "code",
     "collapsed": false,
     "input": [
      "# Variables\n",
      "Ta = 0.;\t\t    \t#Temperature of air stream in degree C\n",
      "Tp = 90.;    \t\t#Temperature of heated plate in degree C\n",
      "v = 75.;\t\t    \t#Speed of air in m/s\n",
      "L = 0.45;\t\t\t#Length of the palte in m\n",
      "W = 0.6;\t\t\t#Width of the plate in m\n",
      "Re = (5.*10**5);\t\t#Reynolds number at the transition from laminar to turbulant\n",
      "\n",
      "# Calculations\n",
      "Tf = (Ta+Tp)/2;\t\t\t#Film temperature in degree C\n",
      "k = 0.028;\t\t\t#Thermal conductivity of air at 10 degree C \n",
      "Pr = 0.698;\t\t\t#prant number of air at 10 degree C\n",
      "v1 = (17.45*10**-6);\t\t\t#Kinematic viscosity of air at 10 degree C \n",
      "x = (Re*v1)/v;\t\t\t#Critical length in m\n",
      "Rel = (v*L)/v1;\t\t\t#Reynolds number\n",
      "Cfl = ((0.074/Rel**(1./5))-(1740/Rel))/10**-3;\t\t\t#Average value of friction coefficient *10**-3\n",
      "Nu = ((0.037*Rel**(4./5))-870)*Pr**(1./3);\t\t\t#Nussults number\n",
      "h = (Nu*k)/L;\t\t\t#Heat transfer coefficient in W/m**2.K\n",
      "Q = (2*h*L*W*Tp);\t\t\t#Rate of energy dissipation in W\n",
      "\n",
      "# Results\n",
      "print 'Average value of friction coefficient is %3.2f*10**-3 \\n \\\n",
      "Heat transfer coefficient is %3.0f W/m**2.K \\n \\\n",
      "Rate of energy dissipation is %i W'%(Cfl,h,Q)\n",
      "\n",
      "# note : book answer is wrong"
     ],
     "language": "python",
     "metadata": {},
     "outputs": [
      {
       "output_type": "stream",
       "stream": "stdout",
       "text": [
        "Average value of friction coefficient is 3.19*10**-3 \n",
        " Heat transfer coefficient is 170 W/m**2.K \n",
        " Rate of energy dissipation is 8281 W\n"
       ]
      }
     ],
     "prompt_number": 9
    },
    {
     "cell_type": "heading",
     "level": 2,
     "metadata": {},
     "source": [
      "Example 7.8  Page No : 296"
     ]
    },
    {
     "cell_type": "code",
     "collapsed": false,
     "input": [
      "# Variables\n",
      "D = 0.3;\t\t\t#Diameter of cylinder in m\n",
      "L = 1.7;\t\t\t#Height of cylinder in m\n",
      "Ts = 30.;\t\t\t#Surface temperature in degree C\n",
      "v = 10.;\t\t\t#Speed of wind in m/s\n",
      "Ta = 10.;\t\t\t#Temperature of air in degree C\n",
      "\n",
      "# Calculations\n",
      "Tf = (Ta+Ts)/2;\t\t\t#Film temperature in degree C\n",
      "k = 0.0259;\t\t\t#Thermal conductivity of air at 20 degree C \n",
      "Pr = 0.707;\t\t\t#prant number of air at 20 degree C\n",
      "v1 = (15*10**-6);\t\t\t#Kinematic viscosity of air at 20 degree C\n",
      "Re = (v*D)/v1;\t\t\t#Reynolds number\n",
      "Nu = 0.027*Re**0.805*Pr**(1./3)\t\t\t#Nusselts number\n",
      "h = (Nu*k)/D;\t\t\t#Heat transfer coefficent in W/m**2.K\n",
      "Q = (h*3.14*D*L*(Ts-Ta));\t\t\t#Rate of heat loss in W\n",
      "\n",
      "# Results\n",
      "print 'Rate of heat loss is %3.1f W'%(Q)\n"
     ],
     "language": "python",
     "metadata": {},
     "outputs": [
      {
       "output_type": "stream",
       "stream": "stdout",
       "text": [
        "Rate of heat loss is 1230.9 W\n"
       ]
      }
     ],
     "prompt_number": 11
    },
    {
     "cell_type": "heading",
     "level": 2,
     "metadata": {},
     "source": [
      "Example 7.9  Page No : 297"
     ]
    },
    {
     "cell_type": "code",
     "collapsed": false,
     "input": [
      "# Variables\n",
      "Ta = 27;\t\t\t#Temperature of air stream in degree C\n",
      "v = 0.3;\t\t\t#Velodity of air in m/s\n",
      "Q = 100;\t\t\t#Poer of electric bulb in W\n",
      "Te = 127;\t\t\t#Temperature of electric bulb in degree C\n",
      "D = 0.06;\t\t\t#Diameter of sphere in m\n",
      "\n",
      "# Calculations\n",
      "Tf = (Ta+Te)/2;\t\t\t#Film temperature in degree C\n",
      "k = 0.03;\t\t\t#Thermal conductivity of air at 77 degree C \n",
      "Pr = 0.697;\t\t\t#prant number of air at 77 degree C\n",
      "v1 = (2.08*10**-5);\t\t\t#Kinematic viscosity of air at 77 degree C\n",
      "Re = (v*D)/v1;\t\t\t#Reynolds number\n",
      "h = (k*0.37*Re**0.6)/D;\t\t\t#Heat transfer coefficient in W/m**2.K\n",
      "Q = (h*3.14*D**2*(Te-Ta));\t\t\t#Heat transfer rate in W\n",
      "Qp = (Q*100)/100;\t\t\t#Percentage of heat lost by forced convection \n",
      "\n",
      "# Results\n",
      "print \"Heat transfer rate is %3.2f W \\n \\\n",
      "Percentage of power lost due to convection is %3.2f percent\"%(Q,Qp)"
     ],
     "language": "python",
     "metadata": {},
     "outputs": [
      {
       "output_type": "stream",
       "stream": "stdout",
       "text": [
        "Heat transfer rate is 12.10 W \n",
        " Percentage of power lost due to convection is 12.10 percent\n"
       ]
      }
     ],
     "prompt_number": 12
    },
    {
     "cell_type": "heading",
     "level": 2,
     "metadata": {},
     "source": [
      "Example 7.10  Page No : 297"
     ]
    },
    {
     "cell_type": "code",
     "collapsed": false,
     "input": [
      "import math\n",
      "# Variables\n",
      "D = 0.015;\t\t\t#Diamter of copper bus bar in m\n",
      "Ta = 20;\t\t\t#Temperature of air stream in degree C\n",
      "v = 1;\t\t\t#Velocity of air in m/s\n",
      "Ts = 80;\t\t\t#Surface temperature in degree C\n",
      "p = 0.0175;\t\t\t#Resistivity of copper in ohm mm**2/m\n",
      "\n",
      "# Calculations\n",
      "Tf = (Ta+Ts)/2;\t\t\t#Film temperature in degree C\n",
      "k = 0.02815;\t\t\t#Thermal conductivity of air at 50 degree C \n",
      "Pr = 0.703;\t\t\t#prant number of air at 50 degree C\n",
      "v1 = (18.9*10**-6);\t\t\t#Kinematic viscosity of air at 50 degree C\n",
      "Re = (v*D)/v1;\t\t\t#Reynolds number\n",
      "Nu = 0.3+(((0.62*math.sqrt(Re)*Pr**(1./3))/(1+(0.4/Pr)**(2./3))**(1./4))*(1+(Re/28200.)**(5./8))**(4./5));\t\t\t#Nusselts number\n",
      "h = (Nu*k)/D;\t\t\t#Heat transfer coefficent in W/m**2.K\n",
      "I = 1000*3.14*D*math.sqrt((h*(Ts-Ta)*D)/(4*p));\t\t\t#Current in A\n",
      "\n",
      "# Results\n",
      "print 'Heat transfer coefficient between the bus bar and cooling air is %3.2f W/m**2.K \\n \\\n",
      "Maximum admissible current intensity for the bus bar is %3.0f A'%(h,I)\n"
     ],
     "language": "python",
     "metadata": {},
     "outputs": [
      {
       "output_type": "stream",
       "stream": "stdout",
       "text": [
        "Heat transfer coefficient between the bus bar and cooling air is 28.31 W/m**2.K \n",
        " Maximum admissible current intensity for the bus bar is 899 A\n"
       ]
      }
     ],
     "prompt_number": 14
    },
    {
     "cell_type": "heading",
     "level": 2,
     "metadata": {},
     "source": [
      "Example 7.11  Page No : 298"
     ]
    },
    {
     "cell_type": "code",
     "collapsed": false,
     "input": [
      "# Variables\n",
      "Ta = 30;\t\t\t#Temperature of air stream in degree C\n",
      "v = 25;\t\t\t#Velocity of stream in m/s\n",
      "x = 0.05;\t\t\t#Side of a square in m\n",
      "D = 0.05;\t\t\t#Diameter of circular cylinder in m\n",
      "Ts = 124;\t\t\t#Surface temperature in degree C\n",
      "\n",
      "# Calculations\n",
      "Tf = (Ta+Ts)/2;\t\t\t#Film temperature in degree C\n",
      "k = 0.03;\t\t\t#Thermal conductivity of air at 77 degree C \n",
      "Pr = 0.7;\t\t\t#prantL number of air at 77 degree C\n",
      "v1 = (20.92*10**-6);\t\t\t#Kinematic viscosity of air at 77 degree C\n",
      "Re = (v*D)/v1;\t\t\t#Reynolds number\n",
      "Nu1 = 0.027*Re**0.805*Pr**(1./3);\t\t\t#Nussults number for circulat tube\n",
      "h1 = (Nu1*k)/D;\t\t\t#Heat tansfer coefficient for circular tube in W/m**2.K\n",
      "Nu2 = 0.102*Re**0.675*Pr**(1./3);\t\t\t#Nussults number for square tube\n",
      "h2 = (Nu2*k)/D;\t\t\t#Heat transfer coefficient for square tube in W/m**2.K\n",
      "\n",
      "# Results\n",
      "print 'Heat transfer coefficient for circular tube is %3.1f W/m**2.K \\n \\\n",
      "Heat transfer coefficient for square tube is %3.2f W/m**2.K'%(h1,h2)\n"
     ],
     "language": "python",
     "metadata": {},
     "outputs": [
      {
       "output_type": "stream",
       "stream": "stdout",
       "text": [
        "Heat transfer coefficient for circular tube is 100.7 W/m**2.K \n",
        " Heat transfer coefficient for square tube is 91.02 W/m**2.K\n"
       ]
      }
     ],
     "prompt_number": 15
    },
    {
     "cell_type": "heading",
     "level": 2,
     "metadata": {},
     "source": [
      "Example 7.12  Page No : 302"
     ]
    },
    {
     "cell_type": "code",
     "collapsed": false,
     "input": [
      "# Variables\n",
      "n = 7;\t\t\t#Number of rows of tube\n",
      "Ta = 15;\t\t\t#Temperature of air in degree C\n",
      "v = 6;\t\t\t#Velocity of air in m/s\n",
      "ST = 0.0205;\t\t\t#Transverse  pitch in m\n",
      "SD = 0.0205;\t\t\t#Longitudinal pitch in m\n",
      "D = 0.0164;\t\t\t#Outside diameter of the tube in m\n",
      "Ts = 70;\t\t\t#Surface temperature in degree C\n",
      "\n",
      "# Calculations\n",
      "Tf = (Ta+Ts)/2;\t\t\t#Film temperature in degree C\n",
      "k = 0.0274;\t\t\t#Thermal conductivity of air at 42.5 degree C \n",
      "Pr = 0.705;\t\t\t#prant number of air at 42.5 degree C\n",
      "v1 = (17.4*10**-6);\t\t\t#Kinematic viscosity of air at 42.5 degree C\n",
      "p = 1.217;\t\t\t#Density in kg/m**3\n",
      "vmax = (v*ST)/(ST-D);\t\t\t#Maximum velocity in m/s\n",
      "Re = (vmax*D)/v1;\t\t\t#Reynolds number\n",
      "Nu = (1.13*0.518*Re**0.556*Pr**(1./3))*0.97;\t\t\t#Nusselts number\n",
      "h = (Nu*k)/D;\t\t\t#Heat transfer coefficent in W/m**2.K\n",
      "f = 0.4;\t\t\t#From Fig. 7.10 on page no 303 \n",
      "g = 1.04;\t\t\t#From Fig. 7.10 on page no 303\n",
      "dp = (n*f*p*vmax**2*g)/2;\t\t\t#Pressure drop in N/m**2\n",
      "\n",
      "# Results\n",
      "print 'Heat transfer coefficent is %3.2f W/m**2.K \\n \\\n",
      "Pressure drop is %3.0f N/m**2'%(h,dp)\n",
      "\n",
      "\n"
     ],
     "language": "python",
     "metadata": {},
     "outputs": [
      {
       "output_type": "stream",
       "stream": "stdout",
       "text": [
        "Heat transfer coefficent is 252.04 W/m**2.K \n",
        " Pressure drop is 1595 N/m**2\n"
       ]
      }
     ],
     "prompt_number": 16
    },
    {
     "cell_type": "heading",
     "level": 2,
     "metadata": {},
     "source": [
      "Example 7.13  Page No : 304"
     ]
    },
    {
     "cell_type": "code",
     "collapsed": false,
     "input": [
      "# Variables\n",
      "n = 7;\t\t\t#Number of rows of tube\n",
      "Ta = 15;\t\t\t#Temperature of air in degree C\n",
      "v = 6;\t\t\t#Velocity of air in m/s\n",
      "ST = 0.0205;\t\t\t#Transverse  pitch in m\n",
      "SD = 0.0205;\t\t\t#Longitudinal pitch in m\n",
      "D = 0.0164;\t\t\t#Outside diameter of the tube in m\n",
      "Ts = 70;\t\t\t#Surface temperature in degree C\n",
      "\n",
      "# Calculations\n",
      "Tf = (Ta+Ts)/2;\t\t\t#Film temperature in degree C\n",
      "k = 0.0253;\t\t\t#Thermal conductivity of air at 15 degree C \n",
      "Pr = 0.710;\t\t\t#prant number of air at 15 degree C\n",
      "v1 = (14.82*10**-6);\t\t\t#Kinematic viscosity of air at 15 degree C\n",
      "p = 1.217;\t\t\t#Density in kg/m**3\n",
      "Pr1 = 0.701;\t\t\t#prant number of air at 70 degree C\n",
      "vmax = (v*ST)/(ST-D);\t\t\t#Maximum velocity in m/s\n",
      "Re = (vmax*D)/v1;\t\t\t#Reynolds number\n",
      "Nu = 0.35*Re**0.6*(Pr/Pr1)**0.25;\t\t\t#\n",
      "h = (Nu*k)/D;\t\t\t#Heat transfer coefficient in W/m**2.K\n",
      "\n",
      "# Results\n",
      "print ' Heat transfer coefficient is %3.1f W/m**2 K'%(h) \n"
     ],
     "language": "python",
     "metadata": {},
     "outputs": [
      {
       "output_type": "stream",
       "stream": "stdout",
       "text": [
        " Heat transfer coefficient is 279.5 W/m**2 K\n"
       ]
      }
     ],
     "prompt_number": 1
    },
    {
     "cell_type": "heading",
     "level": 2,
     "metadata": {},
     "source": [
      "Example 7.14  Page No : 305"
     ]
    },
    {
     "cell_type": "code",
     "collapsed": false,
     "input": [
      "# Variables\n",
      "m = 0.314;\t\t\t#Mass flow rate of air in m**3/s\n",
      "n1 = 7;\t\t\t#Number of tubes in the direction of flow\n",
      "n2 = 8;\t\t\t#Number of tubes perpendicular to the direction of flow\n",
      "L = 1.25;\t\t\t#Length of each tube in m\n",
      "D = 0.019;\t\t\t#Outer diameter in m\n",
      "ST = 0.0286;\t\t\t#Transverse  pitch in m\n",
      "SD = 0.038;\t\t\t#Longitudinal pitch in m\n",
      "Ta = 200;\t\t\t#Temperature of air in degree C\n",
      "Ts = 96;\t\t\t#Surface temperature in degree C\n",
      "\n",
      "# Calculations\n",
      "Tf = (Ta+Ts)/2;\t\t\t#Film temperature in degree C\n",
      "k = 0.039;\t\t\t#Thermal conductivity of air at 15 degree C \n",
      "Pr = 0.688;\t\t\t#prantl number of air at 15 degree C\n",
      "v1 = (3*10**-5);\t\t\t#Kinematic vismath.cosity of air at 15 degree C\n",
      "vmax = (m/((ST*n2*L)-(D*n2*L)));\t\t\t#Maximum velocity in m/s\n",
      "Re = (vmax*D)/v1;\t\t\t#Reynolds number\n",
      "Nu = (0.299*Re**0.602*Pr**(1./3));\t\t\t#Nusselts number\n",
      "X = 0.96;\t\t\t#From Table 7.5 on page no.302\n",
      "Nux = (X*Nu);\t\t\t#Average nusselts number\n",
      "h = (Nux*k)/D;\t\t\t#Convective heat transfer coefficient in W/m**2.K\n",
      "\n",
      "# Results\n",
      "print 'Convective heat transfer coefficient is %3.2f W/m**2.K'%(h)\n",
      "\n",
      "\n"
     ],
     "language": "python",
     "metadata": {},
     "outputs": [
      {
       "output_type": "stream",
       "stream": "stdout",
       "text": [
        "Convective heat transfer coefficient is 51.58 W/m**2.K\n"
       ]
      }
     ],
     "prompt_number": 18
    },
    {
     "cell_type": "heading",
     "level": 2,
     "metadata": {},
     "source": [
      "Example 7.15  Page No : 310"
     ]
    },
    {
     "cell_type": "code",
     "collapsed": false,
     "input": [
      "# Variables\n",
      "D = 0.2;\t\t\t#Diameter of pipeline in m\n",
      "\t\t\t#velocity profile is given by u = 96r-190r**2 m/s\n",
      "\t\t\t#Temperature profile is given by T = 100(1-2r) degree C\n",
      "\n",
      "# Calculations\n",
      "vmax = (64*(D/2))-(95*(D/2)**2);\t\t\t#Mean velocity in m/s\n",
      "T = (2/(vmax*(D/2)**2))*(((9600*(D/2)**3)/3)-((38200*(D/2)**4)/4)+((38000*(D/2)**5)/5));\t\t\t#Average temperature of the fluid in degree C\n",
      "\n",
      "# Results\n",
      "print 'Average temperature of the fluid is %3.2f degree C'%(T)\n",
      "\n",
      "\n"
     ],
     "language": "python",
     "metadata": {},
     "outputs": [
      {
       "output_type": "stream",
       "stream": "stdout",
       "text": [
        "Average temperature of the fluid is 85.17 degree C\n"
       ]
      }
     ],
     "prompt_number": 19
    },
    {
     "cell_type": "heading",
     "level": 2,
     "metadata": {},
     "source": [
      "Example 7.16  Page No : 311"
     ]
    },
    {
     "cell_type": "code",
     "collapsed": false,
     "input": [
      "# Variables\n",
      "Di = 0.025;\t\t\t#I.D of the tube in m\n",
      "Do = 0.04;\t\t\t#O.D of the tube in m\n",
      "m = 5.;\t\t\t#Mass flow rate of water in kg/m\n",
      "T = [20.,70.];\t\t\t#Temperature at entry and exit of water in degree C\n",
      "Q = 10.**7;\t\t\t#Heat in W/m**3\n",
      "Ts = 80.;\t\t\t#Surface temperature in degree C\n",
      "Cp = 4179.;\t\t\t#Specific heat of water in J/kg.K\n",
      "\n",
      "# Calculations\n",
      "Tb = (T[0]+T[1])/2;\t\t\t#Film temperature in degree C\n",
      "L = ((4*(m/60)*Cp*(T[1]-T[0]))/(3.14*(Do**2-Di**2)*Q));\t\t\t#Length of tube in m\n",
      "qs = ((Q*(Do**2-Di**2))/(4*Di));\t\t\t#Heat flux at the surface in W/m**2\n",
      "h = (qs/(Ts-T[1]));\t\t\t#Heat transfer coefficient at the outlet in W/m**2.K\n",
      "\n",
      "\n",
      "# Results\n",
      "print 'Length of tube is %3.3f m \\nHeat transfer coefficient at the outlet is %3.0f W/m**2.K'%(L,h)\n",
      "\n",
      "\n"
     ],
     "language": "python",
     "metadata": {},
     "outputs": [
      {
       "output_type": "stream",
       "stream": "stdout",
       "text": [
        "Length of tube is 2.275 m \n",
        "Heat transfer coefficient at the outlet is 9750 W/m**2.K\n"
       ]
      }
     ],
     "prompt_number": 1
    },
    {
     "cell_type": "heading",
     "level": 2,
     "metadata": {},
     "source": [
      "Example 7.17  Page No : 312"
     ]
    },
    {
     "cell_type": "code",
     "collapsed": false,
     "input": [
      "# Variables\n",
      "k = 0.175;\t\t\t#Thermal conductivity in W/m.K\n",
      "Di = 0.006;\t\t\t#I.D of the tube in m\n",
      "L = 8;\t\t\t#Length of the tube in m\n",
      "dT = 50;\t\t\t#Mean temperature difference in degree C\n",
      "\n",
      "# Calculations\n",
      "h = (3.66*k)/Di;\t\t\t#Heat transfer coefficient in W/m**2.K\n",
      "Q = (h*3.14*Di*L*dT);\t\t\t#Heat transfer rate in W\n",
      "\n",
      "# Results\n",
      "print 'Heat transfer coefficient is %3.2f W/m**2.K Heat transfer rate is %3.0f W'%(h,Q)\n"
     ],
     "language": "python",
     "metadata": {},
     "outputs": [
      {
       "output_type": "stream",
       "stream": "stdout",
       "text": [
        "Heat transfer coefficient is 106.75 W/m**2.K Heat transfer rate is 804 W\n"
       ]
      }
     ],
     "prompt_number": 21
    },
    {
     "cell_type": "heading",
     "level": 2,
     "metadata": {},
     "source": [
      "Example 7.18  Page No : 312"
     ]
    },
    {
     "cell_type": "code",
     "collapsed": false,
     "input": [
      "# Variables\n",
      "Ti = 25;\t\t\t#Initial temperature of water in degree C\n",
      "D = 0.05;\t\t\t#Diamter of the tube in m\n",
      "Re = 1600;\t\t\t#Reynolds number\n",
      "q = 800;\t\t\t#Heat flux in W/m\n",
      "Tf = 50;\t\t\t#Final temperature of water in degree C\n",
      "\n",
      "# Calculations\n",
      "k = 0.61;\t\t\t#Thermal conductivity of water at 25 degree C in W/m.K\n",
      "u = (915*10**-6);\t\t\t#Dynamic viscosity in N.s/m**2\n",
      "m = (Re*3.14*D*u)/4;\t\t\t#Mass flow rate of water in kg/s\n",
      "h = (4.364*k)/D;\t\t\t#Heat transfer coefficient in W/m**2.K\n",
      "qs = (q/(3.14*D));\t\t\t#Constant heat flux in W/m**2\n",
      "Cp = 4178;\t\t\t#Specific heat of water in J/kg.K\n",
      "L = ((m*Cp*(Tf-Ti))/q);\t\t\t#Length of the tube in m\n",
      "\n",
      "# Results\n",
      "print 'Average heat transfer coefficient is %3.2f W/m**2.K \\n \\\n",
      "Length of the tube is %3.3f m'%(h,L)\n",
      "\n",
      "\n"
     ],
     "language": "python",
     "metadata": {},
     "outputs": [
      {
       "output_type": "stream",
       "stream": "stdout",
       "text": [
        "Average heat transfer coefficient is 53.24 W/m**2.K \n",
        " Length of the tube is 7.502 m\n"
       ]
      }
     ],
     "prompt_number": 22
    },
    {
     "cell_type": "heading",
     "level": 2,
     "metadata": {},
     "source": [
      "Example 7.19  Page No : 314"
     ]
    },
    {
     "cell_type": "code",
     "collapsed": false,
     "input": [
      "# Variables\n",
      "Di = 0.015;\t\t\t#I.D of the tube in m\n",
      "Tb = 60;\t\t\t#Temperature of the tube in degree C\n",
      "m = 10;\t\t\t#Flow rate of water in ml/s\n",
      "Ti = 20;\t\t\t#Temperature of water at entry in degree C\n",
      "x = 1;\t\t\t#Dismath.tance form the plane in m\n",
      "Tx = 34;\t\t\t#Temperature of water at 1 m dismath.tance in degree C\n",
      "\n",
      "# Calculations\n",
      "Tbm = (Ti+Tx)/2;\t\t\t#Mean value of bulk temperature in degree C\n",
      "pw = 997;\t\t\t#Density of air at 27 degree C in kg/m**3\n",
      "Cp = 4180;\t\t\t#Specific heat of air at 27 degree C in J/kg.K\n",
      "u = (855*10**-6);\t\t\t#Dynamic vismath.cosity of air at 27 degree C in N.s/m**2\n",
      "k = 0.613;\t\t\t#Thermal conductivity of air at 27 degree C in W/m.K\n",
      "Pr = 5.83;\t\t\t#prantl number of air at 27 degree C\n",
      "us = (464*10**-6);\t\t\t#Dynamic vismath.cosity of air at 60 degree C in Ns/m**2\n",
      "um = (m*10**-6)/((3.14/4)*Di**2);\t\t\t#Mean speed in m/s\n",
      "Re = (pw*um*Di)/u;\t\t\t#Reynolds number\n",
      "Nu = 3.66+((0.0668*(Di/x)*Re*Pr)/(1+(0.04*((Di/x)*Re*Pr)**(2./3))));\t\t\t#Nusselts number in Haussen correlation\n",
      "Nux = (1.86*((Re*Pr)/(x/Di))**(1./3)*(u/us)**0.14);\t\t\t#Nusselsts number in Sieder - Tate correlation \n",
      "\n",
      "# Results\n",
      "print 'Nusselts number in Haussen correlation is %3.2f \\n \\\n",
      "Nusselsts number in Sieder - Tate correlation is %3.3f'%(Nu,Nux)\n"
     ],
     "language": "python",
     "metadata": {},
     "outputs": [
      {
       "output_type": "stream",
       "stream": "stdout",
       "text": [
        "Nusselts number in Haussen correlation is 6.90 \n",
        " Nusselsts number in Sieder - Tate correlation is 8.964\n"
       ]
      }
     ],
     "prompt_number": 2
    },
    {
     "cell_type": "heading",
     "level": 2,
     "metadata": {},
     "source": [
      "Example 7.20  Page No : 318"
     ]
    },
    {
     "cell_type": "code",
     "collapsed": false,
     "input": [
      "# Variables\n",
      "Tw = 50;\t\t\t#Temperature of water in degree C\n",
      "Di = 0.005;\t\t\t#Inner diameter of the tube in m\n",
      "L = 0.5;\t\t\t#Length of the tube in m\n",
      "v = 1;\t\t\t#Mean velocity in m/s\n",
      "Ts = 30;\t\t\t#Surface temperature in degree C\n",
      "\n",
      "# Calculations\n",
      "Tf = (Tw+Ts)/2;\t\t\t#Film temperature in degree C\n",
      "k = 0.039;\t\t\t#Thermal conductivity of air at 15 degree C \n",
      "Pr = 0.688;\t\t\t#prant number of air at 15 degree C\n",
      "p = 990;\t\t\t#Density of air at 50 degree C in kg/m**3\n",
      "Cp = 4178;\t\t\t#Specific heat of air at 50 degree C in J/kg.K\n",
      "v1 = (5.67*10**-7);\t\t\t#Kinematic viscosity of air at 50 degree C\n",
      "v2 = (6.57*10**-7);\t\t\t#Kinematic viscosity of air at 40 degree C\n",
      "Re = (v*Di)/v1;\t\t\t#Reynolds number\n",
      "h = ((0.316/8)*((v*Di*10)/v2)**(-0.25)*p*Cp*v*(4.34)**(-2./3));\t\t\t#Heat transfer coefficient umath.sing the Colburn anamath.logy in W/m**2.K\n",
      "\n",
      "# Results\n",
      "print 'Heat transfer coefficient using the Colburn analogy is %3.0f W/m**2.K'%(h)\n",
      "\n",
      "\n"
     ],
     "language": "python",
     "metadata": {},
     "outputs": [
      {
       "output_type": "stream",
       "stream": "stdout",
       "text": [
        "Heat transfer coefficient using the Colburn analogy is 3697 W/m**2.K\n"
       ]
      }
     ],
     "prompt_number": 2
    },
    {
     "cell_type": "heading",
     "level": 2,
     "metadata": {},
     "source": [
      "Example 7.21  Page No : 319"
     ]
    },
    {
     "cell_type": "code",
     "collapsed": false,
     "input": [
      "# Variables\n",
      "Ti = 50;\t\t\t#Temperature of water at inlet in degree C\n",
      "D = 0.015;\t\t\t#Diameter of tube in m\n",
      "L = 3;\t\t\t#Length of the tube in m\n",
      "v = 1;\t\t\t#Velocity of flow in m/s\n",
      "Tb = 90;\t\t\t#Temperature of tube wall in degree C\n",
      "Tf = 64;\t\t\t#Exit temperature of water in degree C\n",
      "\n",
      "# Calculations\n",
      "Tm = (Ti+Tf)/2;\t\t\t#Bulk mean temperature in degree C\n",
      "p = 990;\t\t\t#Density of air at 57 degree C in kg/m**3\n",
      "Cp = 4184;\t\t\t#Specific heat of air at 57 degree C in J/kg.K\n",
      "u = (0.517*10**-6);\t\t\t#Kinematic viscosity of air at 57 degree C in m**2/s\n",
      "k = 0.65;\t\t\t#Thermal conductivity of air at 57 degree C in W/m.K\n",
      "Pr = 3.15;\t\t\t#prantl number of air at 57 degree C \n",
      "Re = (v*D)/u;\t\t\t#Reynolds number\n",
      "Nu = (0.023*Re**(4./5)*Pr**0.4);\t\t\t#Nusselts number\n",
      "h = (Nu*k)/D;\t\t\t#Heat transfer coefficient in W/m**2.K\n",
      "Q = (h*3.14*D*L*(Tb-Tm))/1000;\t\t\t#Rate of heat transfered in kW\n",
      "\n",
      "# Results\n",
      "print 'Heat transfer coefficient is %3.0f W/m**2.K \\nRate of heat transfered is %3.2f kW'%(h,Q)\n",
      "\n",
      "\n"
     ],
     "language": "python",
     "metadata": {},
     "outputs": [
      {
       "output_type": "stream",
       "stream": "stdout",
       "text": [
        "Heat transfer coefficient is 5861 W/m**2.K \n",
        "Rate of heat transfered is 27.33 kW\n"
       ]
      }
     ],
     "prompt_number": 27
    },
    {
     "cell_type": "heading",
     "level": 2,
     "metadata": {},
     "source": [
      "Example 7.22  Page No : 320"
     ]
    },
    {
     "cell_type": "code",
     "collapsed": false,
     "input": [
      "# Variables\n",
      "D = 0.022;\t\t\t#Diamter of the tube in m\n",
      "v = 2;\t\t\t#Average velocity in m/s\n",
      "Tw = 95;\t\t\t#Temperature of tube wall in degree C\n",
      "T = [15,60];\t\t\t#Initial and final temperature of water in degree C\n",
      "\n",
      "# Calculations\n",
      "Tm = (T[0]+T[1])/2;\t\t\t#Bulk mean temperature in degree C\n",
      "p = 990;\t\t\t#Density of air at 37.5 degree C in kg/m**3\n",
      "Cp = 4160;\t\t\t#Specific heat of air at 37.5 degree C in J/kg.K\n",
      "u = (0.69*10**-3);\t\t\t#Dynamic viscosity of air at 37.5 degree C in Ns/m**2\n",
      "k = 0.63;\t\t\t#Thermal conductivity of air at 37.5 degree C in W/m.K\n",
      "us = (0.3*10**-3);\t\t\t#Dynamic viscosity of air at 37.5 degree C in Ns/m**2\n",
      "Re = (p*v*D)/u;\t\t\t#Reynolds number\n",
      "Pr = (u*Cp)/k;\t\t\t#Prantl number\n",
      "Nu = (0.027*Re**(4./5)*Pr**(1./3)*(u/us)**0.14);\t\t\t#Nusselts number\n",
      "h = (Nu*k)/D;\t\t\t#Heat transfer coefficient in W/m**2.K\n",
      "\n",
      "# Results\n",
      "print 'Heat transfer coefficient is %3.0f W/m**2.K'%(h)\n",
      "\n",
      "\n"
     ],
     "language": "python",
     "metadata": {},
     "outputs": [
      {
       "output_type": "stream",
       "stream": "stdout",
       "text": [
        "Heat transfer coefficient is 9969 W/m**2.K\n"
       ]
      }
     ],
     "prompt_number": 28
    },
    {
     "cell_type": "heading",
     "level": 2,
     "metadata": {},
     "source": [
      "Example 7.23  Page No : 320"
     ]
    },
    {
     "cell_type": "code",
     "collapsed": false,
     "input": [
      "# Variables\n",
      "D = 0.05;\t\t\t#Diamter of the tube in m\n",
      "T = 147;\t\t\t#Average temperature in degree C\n",
      "v = 0.8;\t\t\t#Flow vwlocity in m/s\n",
      "Tw = 200;\t\t\t#Wall temperature in degree C\n",
      "L = 2;\t\t\t#Length of the tube in m\n",
      "\n",
      "# Calculations\n",
      "p = 812.1;\t\t\t#Density in kg/m**3 of oil at 147 degree C\n",
      "Cp = 2427;\t\t\t#Specific heat of oil at 147 degree C in J/kg.K\n",
      "u = (6.94*10**-6);\t\t\t#Kinematic viscosity of oil at 147 degree C in m**2/s\n",
      "k = 0.133;\t\t\t#Thermal conductivity of oil at 147 degree C in W/m.K\n",
      "Pr = 103;\t\t\t#prantl number of oil at 147 degree C \n",
      "Re = (v*D)/u;\t\t\t#Reynolds number\n",
      "Nu = (0.036*Re**0.8*Pr**(1./3)*(D/L)**0.055);\t\t\t#Nussults number\n",
      "h = (Nu*k)/D;\t\t\t#Average heat transfer coefficient in W/m**2.K\n",
      "\n",
      "# Results\n",
      "print 'Average heat transfer coefficient is %3.1f W/m**2.K'%(h)"
     ],
     "language": "python",
     "metadata": {},
     "outputs": [
      {
       "output_type": "stream",
       "stream": "stdout",
       "text": [
        "Average heat transfer coefficient is 373.7 W/m**2.K\n"
       ]
      }
     ],
     "prompt_number": 29
    },
    {
     "cell_type": "heading",
     "level": 2,
     "metadata": {},
     "source": [
      "Example 7.24  Page No : 321"
     ]
    },
    {
     "cell_type": "code",
     "collapsed": false,
     "input": [
      "# Variables\n",
      "D = [0.4,0.8];\t\t\t#Dimensions of the trunk duct in m\n",
      "Ta = 20;\t\t\t#Temperature of air in degree C\n",
      "v = 7;\t\t\t#Velocity of air in m/s\n",
      "v1 = (15.06*10**-6);\t\t\t#Kinematic viscosity in m**2/s\n",
      "a = (7.71*10**-2);\t\t\t#Thermal diffusivity in m**2/h\n",
      "k = 0.0259;\t\t\t#Thermal conductivity in W/m.K\n",
      "\n",
      "# Calculations\n",
      "Dh = (4*(D[0]*D[1]))/(2*(D[0]+D[1]));\t\t\t#Value of Dh in m\n",
      "Re = (v*Dh)/v1;\t\t\t#Reynolds number\n",
      "Pr = (v1/a)*3600;\t\t\t#Prantl number\n",
      "Nu = (0.023*Re**(4./5)*Pr**0.4);\t\t\t#Nussults number\n",
      "h = (Nu*k)/Dh;\t\t\t#Heat transfer coefficient in W/m**2.K\n",
      "Q = (h*(2*(D[0]+D[1])));\t\t\t#Heat leakage per unit length per unit difference in W\n",
      "\n",
      "# Results\n",
      "print 'Heat leakage per unit length per unit difference is %3.2f W'%(Q)"
     ],
     "language": "python",
     "metadata": {},
     "outputs": [
      {
       "output_type": "stream",
       "stream": "stdout",
       "text": [
        "Heat leakage per unit length per unit difference is 48.14 W\n"
       ]
      }
     ],
     "prompt_number": 31
    },
    {
     "cell_type": "heading",
     "level": 2,
     "metadata": {},
     "source": [
      "Example 7.25  Page No : 322"
     ]
    },
    {
     "cell_type": "code",
     "collapsed": false,
     "input": [
      "# Variables\n",
      "Di = 0.03125;\t\t\t#I.D of the annulus in m\n",
      "Do = 0.05;\t\t\t#O.D of the annulus in m\n",
      "Ts = 50;\t\t\t#Outer surface temperature in degree C\n",
      "Ti = 16;\t\t\t#Temeperature at which air enters in degree C\n",
      "Tf = 32;\t\t\t#Temperature at which air exits in degree C\n",
      "v = 30;\t\t\t#Flow rate in m/s\n",
      "\n",
      "# Calculations\n",
      "Tb = (Ti+Tf)/2;\t\t\t#Mean bulk temperature of air in degree C\n",
      "p = 1.614;\t\t\t#Density in kg/m**3 of air at 24 degree C\n",
      "Cp = 1007;\t\t\t#Specific heat of air at 24 degree C in J/kg.K\n",
      "u = (15.9*10**-6);\t\t\t#Kinematic viscosity of air at 24 degree C in m**2/s\n",
      "k = 0.0263;\t\t\t#Thermal conductivity of air at 24 degree C in W/m.K\n",
      "Pr = 0.707;\t\t\t#prantl number of air at 24 degree C\n",
      "Dh = (4*(3.14/4)*(Do**2-Di**2))/(3.14*(Do+Di));\t\t\t#Hydraulic diameter in m\n",
      "Re = (v*Dh)/u;\t\t\t#Reynolds number\n",
      "Nu = (0.023*Re**0.8*Pr**0.4);\t\t\t#Nussults number\n",
      "h = (Nu*k)/Dh;\t\t\t#Heat transfer coefficient in W/m**2.K\n",
      "\n",
      "# Results\n",
      "print 'Heat transfer coefficient is %3.1f W/m**2.K'%(h)\n",
      "\n",
      "\n"
     ],
     "language": "python",
     "metadata": {},
     "outputs": [
      {
       "output_type": "stream",
       "stream": "stdout",
       "text": [
        "Heat transfer coefficient is 122.3 W/m**2.K\n"
       ]
      }
     ],
     "prompt_number": 33
    },
    {
     "cell_type": "heading",
     "level": 2,
     "metadata": {},
     "source": [
      "Example 7.26  Page No : 324"
     ]
    },
    {
     "cell_type": "code",
     "collapsed": false,
     "input": [
      "# Variables\n",
      "T = [120,149];\t\t\t#Initail and final temperatures in degree C\n",
      "m = 2.3;\t\t\t#Mass flow rate in kg/s\n",
      "D = 0.025;\t\t\t#Diameter of the tube in m\n",
      "Ts = 200;\t\t\t#Surface temperature in degree C\n",
      "\n",
      "# Calculations\n",
      "Tb = (T[0]+T[1])/2;\t\t\t#Bulk mean temperature in degree C\n",
      "p = 916;\t\t\t#Density in kg/m**3 of air at 134.5 degree C\n",
      "Cp = 1356.6;\t\t\t#Specific heat of air at 134.5 degree C in J/kg.K\n",
      "u = (0.594*10**-6);\t\t\t#Kinematic viscosity of air at 134.5 degree C in m**2/s\n",
      "k = 84.9;\t\t\t#Thermal conductivity of air at 134.5 degree C in W/m.K\n",
      "Pr = 0.0087;\t\t\t#prantl number of air at 134.5 degree C\n",
      "Q = (m*Cp*(T[1]-T[0]))/1000;\t\t\t#Total heat transfer in kW\n",
      "v = (m/(p*(3.14/4)*D**2));\t\t\t#Velocity of flow in m/s\n",
      "Re = (v*D)/u;\t\t\t#Reynolds number\n",
      "Pe = (Pr*Re);\t\t\t#Peclet number\n",
      "Nu = (4.82+(0.0185*Pe**0.827));\t\t\t#Nussults number\n",
      "h = (Nu*k)/D;\t\t\t#Heat transfer coefficient in W/m**2.K\n",
      "L = ((Q*1000)/(h*3.14*D*(Ts-Tb)));\t\t\t#Minimum length of the tube in m if the wall temperature is not to exceed 200 degree C\n",
      "\n",
      "# Results\n",
      "print 'Minimum length of the tube if the wall temperature is not to exceed 200 degree C is %3.3f m'%(L)\n",
      "\n",
      "\n"
     ],
     "language": "python",
     "metadata": {},
     "outputs": [
      {
       "output_type": "stream",
       "stream": "stdout",
       "text": [
        "Minimum length of the tube if the wall temperature is not to exceed 200 degree C is 0.361 m\n"
       ]
      }
     ],
     "prompt_number": 34
    }
   ],
   "metadata": {}
  }
 ]
}