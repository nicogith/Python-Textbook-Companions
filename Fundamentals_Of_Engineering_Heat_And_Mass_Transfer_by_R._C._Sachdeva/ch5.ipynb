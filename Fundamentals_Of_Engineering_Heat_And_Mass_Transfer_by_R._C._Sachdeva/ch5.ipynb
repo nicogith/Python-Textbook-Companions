{
 "metadata": {
  "name": "",
  "signature": "sha256:61a219887cda63633e57a8123bccc97a816d976e2f7d7f9c9b9bf006f781c953"
 },
 "nbformat": 3,
 "nbformat_minor": 0,
 "worksheets": [
  {
   "cells": [
    {
     "cell_type": "heading",
     "level": 1,
     "metadata": {},
     "source": [
      "Chapter 5 : Transient Heat Conduction"
     ]
    },
    {
     "cell_type": "heading",
     "level": 2,
     "metadata": {},
     "source": [
      "Example 5.1  Page No : 159"
     ]
    },
    {
     "cell_type": "code",
     "collapsed": false,
     "input": [
      "import math \n",
      "\n",
      "\n",
      "# Variables\n",
      "t = 0.5;\t\t\t#Thickness of slab in m\n",
      "A = 5;\t\t\t#Area of slab in m**2\n",
      "k = 1.2;\t\t\t#Thermal conductivity in W/m.K\n",
      "a = 0.00177;\t\t\t#Thermal diffusivity in m**2/h\n",
      "\n",
      "# Calculations\n",
      "x = 0;\n",
      "y = -50+(24*x)+(60*x**2)-(60*x**3);\t\t\t#Temperature when x = 0\n",
      "Qo = (-k*A*y);\t\t\t#Heat entering the slab in W \n",
      "x = 0.5;\n",
      "y = -50+(24*x)+(60*x**2)-(60*x**3);\t\t\t#Temperature when x = 0.5\n",
      "QL = (-k*A*y);\t\t\t#Heat leaving the slab in W\n",
      "R = (Qo-QL);\t\t\t#Rate of heat storage in W\n",
      "x = 0;\n",
      "z1 = 24+(120*x)-(180*x**2);\t\t\t#T' when x = 0\n",
      "p1 = (a*z1);\t\t\t#Rate of temperature change at one side of slab in degree C/h\n",
      "x = 0.5;\n",
      "z2 = 24+(120*x)-(180*x**2);\t\t\t#T' when x = 0.5\n",
      "p2 = (a*z2);\t\t\t#Rate of temperature change at one side of slab in degree C/h\n",
      "\t\t\t#For the rate of heating or cooling to be maximum, T''' = 0\n",
      "x = (120./360);\n",
      "\n",
      "# Results\n",
      "print 'a)\\n \\\n",
      "i)Heat entering the slab is %i W \\n \\\n",
      "ii)Heat leaving the slab is %i W \\n\\n\\\n",
      "b)Rate of heat storage is %i Wc \\n \\\n",
      "i)Rate of temperature change at one side of slab is %3.4f degree C/h \\n \\\n",
      "ii)Rate of temperature change at other side of slab is %3.4f degree C/h \\\n",
      "\\n\\nd)For the rate of heating or cooling to be maximum x = %3.2f'%(Qo,QL,R,p1,p2,x)\n"
     ],
     "language": "python",
     "metadata": {},
     "outputs": [
      {
       "output_type": "stream",
       "stream": "stdout",
       "text": [
        "a)\n",
        " i)Heat entering the slab is 300 W \n",
        " ii)Heat leaving the slab is 183 W \n",
        "\n",
        "b)Rate of heat storage is 117 Wc \n",
        " i)Rate of temperature change at one side of slab is 0.0425 degree C/h \n",
        " ii)Rate of temperature change at other side of slab is 0.0690 degree C/h \n",
        "\n",
        "d)For the rate of heating or cooling to be maximum x = 0.33\n"
       ]
      }
     ],
     "prompt_number": 7
    },
    {
     "cell_type": "heading",
     "level": 2,
     "metadata": {},
     "source": [
      "Example 5.2  Page No : 164"
     ]
    },
    {
     "cell_type": "code",
     "collapsed": false,
     "input": [
      "import math\n",
      "\n",
      "# Variables\n",
      "A = (0.4*0.4);\t\t\t#Area of copper slab in m**2\n",
      "t = 0.005;\t\t\t#Thickness of copper slab in m\n",
      "T = 250.;\t\t\t#Uniform teperature  in degree c\n",
      "Ts = 30.;\t\t\t#Surface temperature in degree C\n",
      "Tsl = 90.;\t\t\t#Slab temperature in degree C\n",
      "p = 9000.;\t\t\t#Density in kg/m**3\n",
      "c = 380.;\t\t\t#Specific heat in J/kg.K\n",
      "k = 370.;\t\t\t#Thermal conductivity in W/m.K\n",
      "h = 90.;\t\t\t#Heat transfer coefficient in W/m**2.K\n",
      "\n",
      "# Calculations\n",
      "A1 = (2*A);\t\t\t#Area of two sides in m**2\n",
      "V = (A*t);\t\t\t#Volume of the slab in m**3\n",
      "Lc = (V/A1);\t\t\t#Corrected length in m\n",
      "Bi = ((h*Lc)/k);\t\t\t#Biot number\n",
      "t = -math.log((Tsl-Ts)/(T-Ts))/((h*A1)/(p*c*V));\t\t\t#Time at which slab temperature becomes 90 degree C in s\n",
      "y = (h*A1)/(p*c*V);\n",
      "\n",
      "# Results\n",
      "print 'Time at which slab temperature becomes 90 degree C is %3.2f s'%(t)\n",
      "\n",
      "\n"
     ],
     "language": "python",
     "metadata": {},
     "outputs": [
      {
       "output_type": "stream",
       "stream": "stdout",
       "text": [
        "Time at which slab temperature becomes 90 degree C is 123.43 s\n"
       ]
      }
     ],
     "prompt_number": 3
    },
    {
     "cell_type": "heading",
     "level": 2,
     "metadata": {},
     "source": [
      "Example 5.3  Page No : 164"
     ]
    },
    {
     "cell_type": "code",
     "collapsed": false,
     "input": [
      "import math\n",
      "\n",
      "# Variables\n",
      "D = 0.01;\t\t\t#Outer diameter of the rod in m\n",
      "T = 320.;\t\t\t#Original temperature in degree C\n",
      "Tl = 120.;\t\t\t#Temperature of liquid in degree C\n",
      "h = 100.;\t\t\t#Heat transfer coefficient in W/m**2.K\n",
      "Tf = 200.;\t\t\t#Final temperature of rod in degree C\n",
      "k = 40.;\t\t\t#Thermal conductivity in W/m.K\n",
      "c = 460.;\t\t\t#Specific heat in J/kg.K\n",
      "p = 7800.;\t\t\t#Density in kg/m**3\n",
      "\n",
      "# Calculations\n",
      "V = (3.14*D**2*1)/4;\t\t#Volume of rod in m**3 taking 1m length\n",
      "A = (3.14*D*1);\t\t    \t#Surface area of rod in m**2 taking 1m length\n",
      "Lc = (D/4);\t\t\t        #Corrected length in m\n",
      "Bi = ((h*Lc)/k);\t\t\t#Biot number\n",
      "t = -math.log((Tf-Tl)/(T-Tl))/((h*4)/(p*c*D));\t\t\t#Time at which rod temperature becomes 200 degree C in s\n",
      "\n",
      "# Results\n",
      "print 'Time at which rod temperature becomes 200 degree C is %3.2f s'%(t)\n",
      "\n",
      "\n"
     ],
     "language": "python",
     "metadata": {},
     "outputs": [
      {
       "output_type": "stream",
       "stream": "stdout",
       "text": [
        "Time at which rod temperature becomes 200 degree C is 82.19 s\n"
       ]
      }
     ],
     "prompt_number": 4
    },
    {
     "cell_type": "heading",
     "level": 2,
     "metadata": {},
     "source": [
      "Example 5.4  Page No : 165"
     ]
    },
    {
     "cell_type": "code",
     "collapsed": false,
     "input": [
      "import math\n",
      "\n",
      "# Variables\n",
      "w = 5.5;\t\t\t#Weight of the sphere in kg\n",
      "Ti = 290.;\t\t\t#Initial temperature in degree C\n",
      "Tl = 15.;\t\t\t#Temperature of liquid in degree C\n",
      "h = 58.;\t\t\t#Heat transfer coefficient in W/m**2.K\n",
      "Tf = 95.;\t\t\t#Final temperature in degree C\n",
      "k = 205.;\t\t\t#Thermal conductivity in W/m.K\n",
      "c = 900.;\t\t\t#Specific heat in J/kg.K\n",
      "p = 2700.;\t\t\t#Density in kg/m**3\n",
      "\n",
      "# Calculations\n",
      "V = (w/p);\t\t\t#Volume of the sphere in m**3\n",
      "R = ((3*V)/(4*3.14))**(1./3);\t\t\t#Radius of sphere in m\n",
      "Lc = (R/3.);\t\t\t#Corrected length in m\n",
      "t = -math.log((Tf-Tl)/(Ti-Tl))/((h*3)/(p*c*R));\t\t\t#Time at which rod temperature becomes 95 degree C in s\n",
      "\n",
      "# Results\n",
      "print 'Time at which rod temperature becomes 95 degree C is %3.0f s'%(t)\n",
      "\n",
      "\n",
      "# note : answer is slightly different because of rouding off error."
     ],
     "language": "python",
     "metadata": {},
     "outputs": [
      {
       "output_type": "stream",
       "stream": "stdout",
       "text": [
        "Time at which rod temperature becomes 95 degree C is 1356 s\n"
       ]
      }
     ],
     "prompt_number": 3
    },
    {
     "cell_type": "heading",
     "level": 2,
     "metadata": {},
     "source": [
      "Example 5.5  Page No : 166"
     ]
    },
    {
     "cell_type": "code",
     "collapsed": false,
     "input": [
      "import math\n",
      "\n",
      "# Variables\n",
      "Ti = 100.;\t\t\t#Temperature of air in degree C\n",
      "t = 0.03;\t\t\t#Thickness of slab in m\n",
      "To = 210.;\t\t\t#Initial temperature of the plate in degree C\n",
      "t = 300.;\t\t\t#Time for attaining temperature in s\n",
      "T = 170.;\t\t\t#Temperature decreased in degree C\n",
      "c = 380.;\t\t\t#Specific heat in J/kg.K\n",
      "p = 9000.;\t\t\t#Density in kg/m**3\n",
      "\n",
      "# Calculations\n",
      "Lc = (t/2);\t\t\t#Corrected length in m\n",
      "h = -math.log((T-Ti)/(To-Ti))/((t*10**4)/(p*c*Lc));\t\t\t#Heat transfer coefficient in W/m**2.K\n",
      "\n",
      "# Results\n",
      "print 'Heat transfer coefficient is %3.2f W/m**2.K'%(h)\n"
     ],
     "language": "python",
     "metadata": {},
     "outputs": [
      {
       "output_type": "stream",
       "stream": "stdout",
       "text": [
        "Heat transfer coefficient is 77.29 W/m**2.K\n"
       ]
      }
     ],
     "prompt_number": 7
    },
    {
     "cell_type": "heading",
     "level": 2,
     "metadata": {},
     "source": [
      "Example 5.6  Page No : 167"
     ]
    },
    {
     "cell_type": "code",
     "collapsed": false,
     "input": [
      "import math\n",
      "\n",
      "# Variables\n",
      "D = 0.00071;\t\t\t#Diameter of thermocouple in m\n",
      "h = 600.;\t\t\t#Heat transfer coefficient in W/m**2.K\n",
      "c = 420.;\t\t\t#Specific heat in J/kg.K\n",
      "p = 8600.;\t\t\t#Density in kg/m**3\n",
      "\n",
      "# Calculations\n",
      "t = (p*c*D)/(4*h);\t\t\t#Time period in s\n",
      "T = math.exp(-1);\t\t\t#Temperture distribution ratio\n",
      "t1 = (4*t);\t\t\t#Total time in s\n",
      "\n",
      "# Results\n",
      "print 'At the end of time period t* = %3.3f s the temperature difference \\\n",
      " between the body and the source would be %3.3f of the initial temperature differnce.\\n\\\n",
      " To get a true reading of gas temperature, it should be recorded after 4t*  =  %i seconds after\\\n",
      " the thermocouple has been \\nintroduced into the stream'%(t,T,t1)\n"
     ],
     "language": "python",
     "metadata": {},
     "outputs": [
      {
       "output_type": "stream",
       "stream": "stdout",
       "text": [
        "At the end of time period t* = 1.069 s the temperature difference  between the body and the source would be 0.368 of the initial temperature differnce.\n",
        " To get a true reading of gas temperature, it should be recorded after 4t*  =  4 seconds after the thermocouple has been \n",
        "introduced into the stream\n"
       ]
      }
     ],
     "prompt_number": 14
    },
    {
     "cell_type": "heading",
     "level": 2,
     "metadata": {},
     "source": [
      "Example 5.8  Page No : 177"
     ]
    },
    {
     "cell_type": "code",
     "collapsed": false,
     "input": [
      "import math\n",
      "\n",
      "# Variables\n",
      "x = 0.2;\t\t\t#Distance of plane from the wall in m\n",
      "t = 10;\t\t\t#Time for heat flow in h\n",
      "T = [25,800];\t\t\t#Initial and final tempertaure in degree C\n",
      "k = 0.8;\t\t\t#Thermal conductivity in W/m.K\n",
      "a = 0.003;\t\t\t#Thermal diffusivity in m**2/h\n",
      "\n",
      "# Calculations\n",
      "X = (x*(2*math.sqrt(a*t)));\t\t\t#Calculation of X for erf function\n",
      "Y = 0.585                           #erf(X) from table 5.1\n",
      "Ti = T[1]-((T[1]-T[0]))*Y;\t\t\t#Temperarture of the plane in degree C\n",
      "Qi = ((-k*(T[0]-T[1])*math.exp(-x**2/(4*a*t)))/(math.sqrt(3.14*a*t)));\t\t\t#Instanteneous heat flow rate per unit area in W/m**2\n",
      "Q = ((2*k*(T[1]-T[0])*3600)/(math.sqrt((3.14*a)/t)))/10**8;\t\t\t            #Total heat energy taken up by the wall in 10 hours in J/m**2\n",
      "print \n",
      "# Results\n",
      "print 'Temperarture of the plane is %3.2f degree C\\nInstanteneous heat flow rate per \\\n",
      " unit area is %i W/m**2 \\nTotal heat energy taken up by the wall in 10 hours is %3.3f*10**8 J/m**2'%(Ti,Qi,Q)"
     ],
     "language": "python",
     "metadata": {},
     "outputs": [
      {
       "output_type": "stream",
       "stream": "stdout",
       "text": [
        "\n",
        "Temperarture of the plane is 346.62 degree C\n",
        "Instanteneous heat flow rate per  unit area is 1447 W/m**2 \n",
        "Total heat energy taken up by the wall in 10 hours is 1.454*10**8 J/m**2\n"
       ]
      }
     ],
     "prompt_number": 28
    },
    {
     "cell_type": "heading",
     "level": 2,
     "metadata": {},
     "source": [
      "Example 5.9  Page No : 177"
     ]
    },
    {
     "cell_type": "code",
     "collapsed": false,
     "input": [
      "# Variables\n",
      "Tc = 55;\t\t\t#Tempertaure of the concrete in degree C\n",
      "Ts = 35;\t\t\t#Temperature lowered in degree C\n",
      "Tf = 45;\t\t\t#Final temperature in degree C\n",
      "x = 0.05;\t\t\t#Depth of the slab in m\n",
      "k = 1.279;\t\t\t#Thermal conductivity in W/m.K\n",
      "a = 0.00177;\t\t\t#Thermal diffusivity in m**2/h\n",
      "\n",
      "# Calculations\n",
      "T = (Tf-Ts)/(Tc-Ts);\t\t\t#Temperature distribution\n",
      "X = 0.485;\t\t\t#Taking 0.5 = erf(0.482) from table 5.1 on page no. 175\n",
      "t = (x**2)/(4*X**2*a);\t\t\t#Time taken to cool the concrete to 45 degree C in h\n",
      "\n",
      "# Results\n",
      "print 'Time taken to cool the concrete to 45 degree C is %3.2f h'%(t)\n",
      "\n",
      "\n"
     ],
     "language": "python",
     "metadata": {},
     "outputs": [
      {
       "output_type": "stream",
       "stream": "stdout",
       "text": [
        "Time taken to cool the concrete to 45 degree C is 1.50 h\n"
       ]
      }
     ],
     "prompt_number": 11
    },
    {
     "cell_type": "heading",
     "level": 2,
     "metadata": {},
     "source": [
      "Example 5.10  Page No : 178"
     ]
    },
    {
     "cell_type": "code",
     "collapsed": false,
     "input": [
      "import math\n",
      "\n",
      "# Variables\n",
      "q = (0.3*10**6);\t\t\t#Heat flux in W/m**2\n",
      "t = (10./60);\t\t\t#Time taken for heat transfer in s\n",
      "Ti = 30.;\t\t\t#Initial temperature of the slab in degree C\n",
      "x = 0.2;\t\t\t#Distance of the plane from the surface in m\n",
      "k = 386.;\t\t\t#Thermal conductivity in W/m.K\n",
      "a = 0.404;\t\t\t#Thermal diffusivity in m**2/h\n",
      "\n",
      "# Calculations\n",
      "Ts = ((q*math.sqrt(3.14*a*t))/k)+Ti;\t\t\t#Surface temperature in degree C\n",
      "X = (x/(2*math.sqrt(a*t)));\t\t\t#X for calculating erf function\n",
      "Y = 0.4134;\t\t\t#Taking ref(0.385) = 0.4134 from table 5.1 on page no. 175\n",
      "T = Ts-(Y*(Ts-Ti));\t\t\t#Tempertaure at a distance of 20 cm from the surface after 10 min in degree C\n",
      "\n",
      "# Results\n",
      "print 'Tempertaure at a distance of 20 cm from the surface after 10 min is %3.2f degree C'%(T)\n"
     ],
     "language": "python",
     "metadata": {},
     "outputs": [
      {
       "output_type": "stream",
       "stream": "stdout",
       "text": [
        "Tempertaure at a distance of 20 cm from the surface after 10 min is 239.63 degree C\n"
       ]
      }
     ],
     "prompt_number": 12
    },
    {
     "cell_type": "heading",
     "level": 2,
     "metadata": {},
     "source": [
      "Example 5.11  Page No : 178"
     ]
    },
    {
     "cell_type": "code",
     "collapsed": false,
     "input": [
      "import math\n",
      "\n",
      "# Variables\n",
      "a = 0.405;\t\t\t#Thermal diffusivity in m**2/h\n",
      "Ti = 100;\t\t\t#Initial temperture in degree C\n",
      "Tf = 0;\t\t\t#Final tempertaure in degree C\n",
      "Tg = (4*100);\t#Temperature gradient in degree C/m\n",
      "t1 = 1;\t\t\t#Time taken in m\n",
      "\n",
      "# Calculations\n",
      "t = (Ti-Tf)**2/(Tg**2*3.14*a);\t\t\t#Time required for the temperature gradient at the surface to reach 4 degree/cm in h\n",
      "x = math.sqrt(2*a*(t1/60.));\t\t\t#The depth at which the rate of cooling is maximum after 1 minute in m\n",
      "\n",
      "# Results\n",
      "print 'Time required for the temperature gradient at the surface to reach 4 degree/cm is %3.3f h \\\n",
      "\\nThe depth at which the rate of cooling is maximum after 1 minute is %3.4f m'%(t,x)\n",
      "\n",
      "\n"
     ],
     "language": "python",
     "metadata": {},
     "outputs": [
      {
       "output_type": "stream",
       "stream": "stdout",
       "text": [
        "Time required for the temperature gradient at the surface to reach 4 degree/cm is 0.049 h \n",
        "The depth at which the rate of cooling is maximum after 1 minute is 0.1162 m\n"
       ]
      }
     ],
     "prompt_number": 15
    },
    {
     "cell_type": "heading",
     "level": 2,
     "metadata": {},
     "source": [
      "Example 5.12  Page No : 185"
     ]
    },
    {
     "cell_type": "code",
     "collapsed": false,
     "input": [
      "# Variables\n",
      "x = 0.1;\t\t\t#Thickness of the slab in m\n",
      "Ti = 500;\t\t\t#Initial temperature in degree C\n",
      "Tl = 100;\t\t\t#Liquid temperature in degree C\n",
      "h = 1200;\t\t\t#Heat transfer coefficient in W/m**2.K\n",
      "t = (1*60);\t\t\t#Time for immersion in s\n",
      "k = 215;\t\t\t#Thermal conductivity in W/m.K\n",
      "a = (8.4*10**-5);\t\t\t#Thermal diffusivity in m**2/h\n",
      "c = 900;\t\t\t#Specific heat in J/kg/K\n",
      "p = 2700;\t\t\t#Density in kg/m**3\n",
      "\n",
      "# Calculations\n",
      "X = (a*t)/(x/2)**2;\t\t\t#Calculation for input in Heisler charts\n",
      "B = (k/(h*(x/2)));\t\t\t#Calculation for input in Heisler charts\n",
      "T1 = 0.68;\t\t\t#T value taken from Fig. 5.7 on page no. 183\n",
      "Tc1 = (T1*(Ti-Tl));\t\t\t#Temperature in degree C\n",
      "To = Tc1+Tl;\t\t\t#Temperature in degree C\n",
      "T2 = 0.880;\t\t\t#From Fig 5.8 on page no. 184 at x/L = 1.0 and for k/hL = 3.583, tempertaure in degree C\n",
      "Tc2 = (T2*(To-Tl))+Tl;\t\t\t#Temperature in degree C \n",
      "Y = (h**2*a*t)/(k**2);\t\t\t#Y to calculate the energy losses\n",
      "Bi = (h*(x/2))/k;\t\t\t#Biot number\n",
      "U = 0.32;\t\t\t#U/Uo value from Fig. 5.9 on page no.185 \n",
      "Uo = (p*c*x*(Ti-Tl));\t\t\t#For unit area in J/m**2\n",
      "U1 = (U*Uo)/(10**6);\t\t\t#Heat removed per unit surface area in MJ/m**2\n",
      "\n",
      "# Results\n",
      "print 'Temperature at the centreline and the surface 1 minute after the immersion is %3.2f degree C  \\n \\\n",
      "Heat removed per unit surface area is %3.1f*10**6 J/m**2'%(Tc2,U1)"
     ],
     "language": "python",
     "metadata": {},
     "outputs": [
      {
       "output_type": "stream",
       "stream": "stdout",
       "text": [
        "Temperature at the centreline and the surface 1 minute after the immersion is 339.36 degree C  \n",
        " Heat removed per unit surface area is 31.1*10**6 J/m**2\n"
       ]
      }
     ],
     "prompt_number": 16
    },
    {
     "cell_type": "heading",
     "level": 2,
     "metadata": {},
     "source": [
      "Example 5.13  Page No : 186"
     ]
    },
    {
     "cell_type": "code",
     "collapsed": false,
     "input": [
      "# Variables\n",
      "D = 0.12;\t\t\t#Diameter of cylinder in m\n",
      "Ti = 20;\t\t\t#Initial temperature in degree C\n",
      "Tf = 820;\t\t\t#Temperature of furnace in degree C\n",
      "h = 140;\t\t\t#Heat transfer coefficient in W/m**2.K\n",
      "Ta = 800;\t\t\t#Axis temperature in degree C\n",
      "r = 0.054;\t\t\t#Radius in m\n",
      "k = 21;\t\t\t#Thermal conductivity in W/m.K\n",
      "a = (6.11*10**-6);\t\t\t#Thermal diffusivity in m**2/h\n",
      "\n",
      "# Calculations\n",
      "Bi = (h*(D/2))/(2*k);\t\t\t#Biot number\n",
      "T = (Ta-Tf)/(Ti-Tf);\t\t\t#Temperature distribution\n",
      "Fo = 5.2;\t\t\t#Umath.sing Fig.5.10, on page no.187 for 1./(2Bi) = 2.5 \n",
      "t = (Fo*(D/2)**2)/a;\t\t\t#Time required for the axis temperature to reach 800 degree C in s\n",
      "r1 = (r/(D/2));\t\t\t#Ratio at a radius of 5.4 cm\n",
      "X = 0.85;\t\t\t#From Fig.5.11 on page no. 188 the temperature at r = 5.4 i sgiven by X\n",
      "T1 = X*(Ta-Tf)+Tf;\t\t\t#Temperature at a radius of 5.4 cm at that tim ein degree C\n",
      "\n",
      "# Results\n",
      "print 'Time required for the axis temperature to reach 800 degree C is %3.0f s \\n \\\n",
      "Temperature at a radius of 5.4 cm at that time is %i degree C'%(t,T1)\n",
      "\n",
      "\n"
     ],
     "language": "python",
     "metadata": {},
     "outputs": [
      {
       "output_type": "stream",
       "stream": "stdout",
       "text": [
        "Time required for the axis temperature to reach 800 degree C is 3064 s \n",
        " Temperature at a radius of 5.4 cm at that time is 803 degree C\n"
       ]
      }
     ],
     "prompt_number": 17
    },
    {
     "cell_type": "heading",
     "level": 2,
     "metadata": {},
     "source": [
      "Example 5.14  Page No : 189"
     ]
    },
    {
     "cell_type": "code",
     "collapsed": false,
     "input": [
      "import math\n",
      "import math\n",
      "# Variables\n",
      "r = 0.01;\t\t\t#Radius of the mettalic sphere in m\n",
      "Ti = 400.;\t\t\t#Initial temperature in degree C\n",
      "h1 = 10.;\t\t\t#Heat transfer coefficient in W/m**2.K\n",
      "Ta = 20.;\t\t\t#Temperature of air in degree C\n",
      "Tc = 335.;\t\t\t#Central temperature in degree C\n",
      "Tw = 20.;\t\t\t#Temperature of water bath in degree C\n",
      "h2 = 6000.;\t\t\t#Heat transfer coefficient in W/m**2.K\n",
      "Tf = 50.;\t\t\t#Final temperature of the sphere in degree C\n",
      "k = 20.;\t\t\t#Thermal conductivity in W/m.K\n",
      "a = (6.66*10**-6);\t\t\t#Thermal diffusivity in m**2/h\n",
      "c = 1000.;\t\t\t#Specific heat in J/kg/K\n",
      "p = 3000.;\t\t\t#Density in kg/m**3\n",
      "\n",
      "# Calculations\n",
      "Bi1 = (h1*r)/(3*k);\t\t\t#Biot number\n",
      "t = ((p*r*c)/(3*h1)*math.log((Ti-Ta)/(Tc-Ta)))\t\t\t#Time required for cooling in air in s\n",
      "Bi2 = (h2*r)/(3*k);\t\t\t#Biot number\n",
      "X = 1./(3*Bi2);\t\t\t#X value for lumped capacity method\n",
      "T = (Tf-Ta)/(Tc-Ta);\t\t\t#Temperature distribution\n",
      "Fo = 0.5;\t\t\t#Umath.sing Fig.5.13, on page no.190\n",
      "t1 = (Fo*r**2)/a;\t\t\t#Time required for cooling in water in s\n",
      "Z = 0.33;\t\t\t#Umath.sing Fig.5.14, on page no.191\n",
      "Tr = Z*(Tf-Ta)+Ta;\t\t\t#Surface temperature at the end of cooling in degree C\n",
      "\n",
      "\n",
      "# Results\n",
      "print 'Time required for cooling in air is %3.0f s \\n \\\n",
      "Time required for cooling in water is %3.1f s \\n \\\n",
      "Surface temperature at the end of cooling is %3.0f degree C'%(t,t1,Tr)\n"
     ],
     "language": "python",
     "metadata": {},
     "outputs": [
      {
       "output_type": "stream",
       "stream": "stdout",
       "text": [
        "Time required for cooling in air is 188 s \n",
        " Time required for cooling in water is 7.5 s \n",
        " Surface temperature at the end of cooling is  30 degree C\n"
       ]
      }
     ],
     "prompt_number": 9
    },
    {
     "cell_type": "heading",
     "level": 2,
     "metadata": {},
     "source": [
      "Example 5.15  Page No : 192"
     ]
    },
    {
     "cell_type": "code",
     "collapsed": false,
     "input": [
      "import math\n",
      "# Variables\n",
      "Ti = 250.;\t\t\t#Temperature of aluminium slab in degree C\n",
      "Tc = 50.;\t\t\t#Convective environment temperature in degree C\n",
      "h = 500.;\t\t\t#Heat transfer coefficient in W/m**2.K\n",
      "x = 0.05;\t\t\t#Depth of the plane in m\n",
      "t = (1.*3600);\t\t\t#Time in s\n",
      "k = 215.;\t\t\t#Thermal conductivity in W/m.K\n",
      "a = (8.4*10**-5);\t\t\t#Thermal diffusivity in m**2/h\n",
      "\n",
      "# Calculations\n",
      "X = (h*math.sqrt(a*t))/k;\t\t\t#X for calculating Temperature\n",
      "Y = (x/(2*math.sqrt(a*t)));\t\t\t#Y for calculating Temperature\n",
      "Z = 0.62;\t\t\t#From Fig. 5.16 on page no.193\n",
      "T = (Z*(Tc-Ti)+Ti);\t\t\t#Temperature at a depth of 5 cm after 1 hour in degree C\n",
      "\n",
      "# Results\n",
      "print 'Temperature at a depth of 5 cm after 1 hour is %3.0f degree C'%(T)\n"
     ],
     "language": "python",
     "metadata": {},
     "outputs": [
      {
       "output_type": "stream",
       "stream": "stdout",
       "text": [
        "Temperature at a depth of 5 cm after 1 hour is 126 degree C\n"
       ]
      }
     ],
     "prompt_number": 19
    },
    {
     "cell_type": "heading",
     "level": 2,
     "metadata": {},
     "source": [
      "Example 5.16  Page No : 196"
     ]
    },
    {
     "cell_type": "code",
     "collapsed": false,
     "input": [
      "# Variables\n",
      "D = 0.08;\t\t\t#Diameter of the cylinder in m\n",
      "L = 0.16;\t\t\t#Length of the cylinder in m\n",
      "Ti = 800;\t\t\t#Initial tempertaure in degree C\n",
      "Tm = 30;\t\t\t#Temperature of the medium in degree C\n",
      "h = 120;\t\t\t#Heat transfer coefficient in W/m**2.K\n",
      "t = (30*60);\t\t\t#Time for cooling in s\n",
      "k = 23.5;\t\t\t#Thermal conductivity in W/m.K\n",
      "a = 0.022;\t\t\t#Thermal diffusivity in m**2/h\n",
      "\n",
      "# Calculations\n",
      "Bi2 = (h*(D/2))/k;\t\t\t#2 times the Biot number\n",
      "X = (a*t)/(D/2)**2;\t\t\t#X for calculating C(R)\n",
      "CR = 0.068;\t\t\t#From Fig.5.10 on page no.187\n",
      "Bi1 = (k/(h*L));\t\t\t#Biot number\n",
      "Y = (a*t)/L**2;\t\t\t#Y for calculating P(X)\n",
      "PX = 0.54;\t\t\t#From Fig.5.7 on page no.183\n",
      "T = CR*PX;\t\t\t#Temperature at the centre of the cylinder in degree C\n",
      "T30 = T*(Ti-Tm)+Tm;\t\t\t#Temperature at the centre of cylinder 30 minutes after cooling is initiated in degree C\n",
      "\n",
      "# Results\n",
      "print 'Temperature at the centre of cylinder 30 minutes after cooling is initiated is %3.2f degree C'%(T30)\n"
     ],
     "language": "python",
     "metadata": {},
     "outputs": [
      {
       "output_type": "stream",
       "stream": "stdout",
       "text": [
        "Temperature at the centre of cylinder 30 minutes after cooling is initiated is 58.27 degree C\n"
       ]
      }
     ],
     "prompt_number": 20
    },
    {
     "cell_type": "heading",
     "level": 2,
     "metadata": {},
     "source": [
      "Example 5.17  Page No : 197"
     ]
    },
    {
     "cell_type": "code",
     "collapsed": false,
     "input": [
      "import math \n",
      "from numpy import *\n",
      "\n",
      "\n",
      "# Variables\n",
      "L = array([0.5,0.4,0.2]);\t\t\t#Lengths of sides of a recmath.tangular steel billet in m\n",
      "Ti = 30;\t\t\t#Initial temperature in degree C\n",
      "Tf = 1000;\t\t\t#Final temperature in degree C\n",
      "t = (90*60);\t\t\t#Time for heating in s\n",
      "h = 185;\t\t\t#Heat transfer coefficient in W/m**2.K\n",
      "k = 37;\t\t\t#Thermal conductivity in W/m.K\n",
      "a = 0.025;\t\t\t#Thermal diffusivity in m**2/h\n",
      "\n",
      "# Calculations\n",
      "L1 = L/2;\t\t\t#L values of the parallelepiped in m\n",
      "Bi1 = (h*L[0])/k;\t\t\t#Biot number\n",
      "X1 = (a*t)/L[0]**2;\t\t\t#X1 for calculating P(X1)\n",
      "PX1 = 0.68;\t\t\t#P(X1) value from From Fig.5.7 on page no.183\n",
      "Bi2 = (h*L[1])/k;\t\t\t#Biot number\n",
      "X1 = (a*t)/L[1]**2;\t\t\t#X1 for calculating P(X2)\n",
      "PX2 = 0.57;\t\t\t#P(X2) value from From Fig.5.7 on page no.183\n",
      "Bi3 = (h*L[2])/k;\t\t\t#Biot number\n",
      "Y = (1./Bi3);\t\t\t#Inverse of Biot number\n",
      "X1 = (a*t)/L[2]**2;\t\t\t#X1 for calculating P(X3)\n",
      "PX3 = 0.22;\t\t\t#P(X3) value from From Fig.5.7 on page no.183\n",
      "T = PX1*PX2*PX3;\t\t\t#Temperature at the centre of billet in degree C\n",
      "T1 = T*(Ti-Tf)+Tf;\t\t\t#Temperature at the centre of cylinder 90 minutes after heating is initiated in degree C\n",
      "\n",
      "# Results\n",
      "print 'Temperature at the centre of cylinder 90 minutes after heating is initiated is %3.2f degree C'%(T1)\n",
      "\n",
      "\n"
     ],
     "language": "python",
     "metadata": {},
     "outputs": [
      {
       "output_type": "stream",
       "stream": "stdout",
       "text": [
        "Temperature at the centre of cylinder 90 minutes after heating is initiated is 917.29 degree C\n"
       ]
      }
     ],
     "prompt_number": 22
    },
    {
     "cell_type": "heading",
     "level": 2,
     "metadata": {},
     "source": [
      "Example 5.18  Page No : 202"
     ]
    },
    {
     "cell_type": "code",
     "collapsed": false,
     "input": [
      "# Variables\n",
      "Ti = 30;\t\t\t#Initial temperature of the slab in degree C\n",
      "q = (2*10**5);\t\t\t#Constant heat flux in W/m**2\n",
      "k = 400;\t\t\t#Thermal conductivity in W/m.K\n",
      "a = (117*10**-6);\t\t\t#Thermal diffusivity in m**2/h\n",
      "n = 0.075;\t\t\t#Nodal spacing in m\n",
      "x = 0.15;\t\t\t#Depth in m\n",
      "t = (4*60);\t\t\t#Time elapsed in s\n",
      "\n",
      "#CALCULATION\n",
      "R = (x**2/(a*t));\t\t\t#R value for t1\n",
      "t1 = (n**2/(R*a));\t\t\t#Value of t1 in s\n",
      "To = 121.9;\t\t\t#The surface temperature after 4 min in degree C from the table on page no. 203\n",
      "T2 = 64;\t\t\t#Temperature at 0.15 m from the surface after 4 minutes in degree C from the table on page no. 203\n",
      "\n",
      "# Results\n",
      "print 'The surface temperature after 4 min is %3.1f degree C  \\n \\\n",
      "Temperature at 0.15 m from the surface after 4 minutes is %i degree C'%(To,T2)\n",
      "\n",
      "\n"
     ],
     "language": "python",
     "metadata": {},
     "outputs": [
      {
       "output_type": "stream",
       "stream": "stdout",
       "text": [
        "The surface temperature after 4 min is 121.9 degree C  \n",
        " Temperature at 0.15 m from the surface after 4 minutes is 64 degree C\n"
       ]
      }
     ],
     "prompt_number": 23
    },
    {
     "cell_type": "heading",
     "level": 2,
     "metadata": {},
     "source": [
      "Example 5.19  Page No : 205"
     ]
    },
    {
     "cell_type": "code",
     "collapsed": false,
     "input": [
      "# Variables\n",
      "t = 0.6;\t\t\t#Thickness of the wall in m\n",
      "x = 0.1;\t\t\t#x value taken from Fig.Ex. 5.19 on page no. 205\n",
      "Ti = 20;\t\t\t#Initial temperature in degree C\n",
      "T = [150,300];\t\t\t#Temperatures of the sides of the wall in degree C\n",
      "Tf = 150;\t\t\t#Final temperature of the wall in degree C\n",
      "a = (1.66*10**-3);\t\t\t#Thermal diffusivity in m**2/h\n",
      "\n",
      "# Calculations\n",
      "t = (x**2/(2*a));\t\t\t#Length of one time increment in h\n",
      "t1 = (9*t);\t        \t\t#Elapsed time in h\n",
      "\n",
      "# Results\n",
      "print 'Elasped time before the centre of the wall attains a temperature of 150 degree C is %3.0f h'%(t1)\n",
      "\n",
      "\n"
     ],
     "language": "python",
     "metadata": {},
     "outputs": [
      {
       "output_type": "stream",
       "stream": "stdout",
       "text": [
        "Elasped time before the centre of the wall attains a temperature of 150 degree C is  27 h\n"
       ]
      }
     ],
     "prompt_number": 24
    },
    {
     "cell_type": "heading",
     "level": 2,
     "metadata": {},
     "source": [
      "Example 5.20  Page No : 206"
     ]
    },
    {
     "cell_type": "code",
     "collapsed": false,
     "input": [
      "# Variables\n",
      "k = 0.175;\t\t\t#Thermal conductivity in W/m.K\n",
      "a = (0.833*10**-7);\t\t\t#Thermal diffusivity in m**2/h\n",
      "Th = 144;\t\t\t#Heated temeparture in degree C\n",
      "Tc = 15;\t\t\t#Cooled temperature in degree C\n",
      "x = 0.02;\t\t\t#Thickness of the plate in m\n",
      "h = 65;\t\t\t#Heat transfer coefficient in W/m**2.K\n",
      "t = (4*60);\t\t\t#Tiem elapsed in s\n",
      "\n",
      "# Calculations\n",
      "s = 0.002;\t\t\t#Space increment in m from FIg. Ex. 5.20 on page no. 207\n",
      "t1 = (s**2/(2*a));\t\t\t#Time increment for the space increment in s\n",
      "x1 = (k/h);\t\t\t#Convective film thickness in mm\n",
      "Tn = 114;\t\t\t#Temperature at the centre in degree C from Fig. Ex.5.20 on page no. 207\n",
      "Ts = 50;\t\t\t#Surface temperature in degree C from Fig. Ex.5.20 on page no. 207\n",
      "\n",
      "# Results\n",
      "print 'Temperature at the centre is %i degree C \\n \\\n",
      "Surface temperature is %i degree C'%(Tn,Ts)\n"
     ],
     "language": "python",
     "metadata": {},
     "outputs": [
      {
       "output_type": "stream",
       "stream": "stdout",
       "text": [
        "Temperature at the centre is 114 degree C \n",
        " Surface temperature is 50 degree C\n"
       ]
      }
     ],
     "prompt_number": 25
    },
    {
     "cell_type": "heading",
     "level": 2,
     "metadata": {},
     "source": [
      "Example 5.21  Page No : 213"
     ]
    },
    {
     "cell_type": "code",
     "collapsed": false,
     "input": [
      "import math\n",
      "# Variables\n",
      "t = 24;\t\t\t#Time period in h\n",
      "T = [-10,10];\t\t\t#Range of temperatures in degree C\n",
      "x = 0.1;\t\t\t#Depth in m\n",
      "c = 1970;\t\t\t#Specific heat in J/kg/K\n",
      "p = 1000;\t\t\t#Density in kg/m**3\n",
      "k = 0.349;\t\t\t#Thermal conductivity in W/m.K\n",
      "ta = 5;\t\t\t#Time in h\n",
      "\n",
      "# Calculations\n",
      "w = (2*3.14)/t;\t\t\t#Angular velocity in rad/h\n",
      "Tm = (T[0]+T[1])/2;\t\t\t#Mean teperature in degree C\n",
      "Tmax = T[1]-Tm;\t\t\t#Maximum temperature in degree C\n",
      "a = ((k*3600)/(p*c));\t\t\t#Thermal diffusivity in m**2/h\n",
      "Txmax = Tmax*exp(-math.sqrt(w/(2*a))*x);\t\t\t#Amplitude of temperature variation in degree C\n",
      "t1 = math.sqrt(1./(2*a*w))*x;\t\t\t#Time lag of temperature wave at a depth of 0.1 m in h\n",
      "t2 = (3.14/w);\t\t\t#Time for surface temperature is minimum in h\n",
      "t3 = t2+ta;\t\t\t#Time in h\n",
      "Tx = Tmax*exp(-math.sqrt(w/(2*a))*x)*math.cos((w*t3)-(x*x*math.sqrt(w/(2*a))));\t\t\t#Temperature at 0.1m 5 hours after the surface temperature reaches the minimum in degree C\n",
      "\n",
      "# Results\n",
      "print 'Amplitude of temperature variation at a depth of 0.1m is %3.2f degree C  \\n \\\n",
      "Time lag of temperature wave at a depth of 0.1 m is %3.2f h  \\n \\\n",
      "Temperature at 0.1m 5 hours after the surface temperature reaches the minimum is %3.3f degree C'%(Txmax,t1,Tx)\n"
     ],
     "language": "python",
     "metadata": {},
     "outputs": [
      {
       "output_type": "stream",
       "stream": "stdout",
       "text": [
        "Amplitude of temperature variation at a depth of 0.1m is 2.39 degree C  \n",
        " Time lag of temperature wave at a depth of 0.1 m is 5.47 h  \n",
        " Temperature at 0.1m 5 hours after the surface temperature reaches the minimum is -0.946 degree C\n"
       ]
      }
     ],
     "prompt_number": 27
    },
    {
     "cell_type": "heading",
     "level": 2,
     "metadata": {},
     "source": [
      "Example 5.22  Page No : 214"
     ]
    },
    {
     "cell_type": "code",
     "collapsed": false,
     "input": [
      "import math\n",
      "\n",
      "# Variables\n",
      "T = [800.,200.];\t\t\t#Limits in which temperature varies in degree C\n",
      "t = 12.;\t\t\t#Cycle time in h\n",
      "x = 0.1;\t\t\t#Depth of penetration in m\n",
      "k = 1.8;\t\t\t#Thermal conductivity in W/m.K\n",
      "a = 0.02;\t\t\t#Thermal diffusivity in m**2/h\n",
      "\n",
      "# Calculations\n",
      "w = (2*3.14)/t;\t\t\t#Angular velocity in rad/h\n",
      "t1 = math.sqrt(1./(2*a*w))*x;\t\t\t#Time lag in h\n",
      "Tmax = (T[0]-T[1])/2;\t\t\t#Range of maximum temperature in degree C\n",
      "q = ((2*k*Tmax)/math.sqrt(math.pi/6*a))*(3600./1000);\t\t\t#Heat flow through the surface in kJ/m**2\n",
      "\n",
      "# Results\n",
      "print 'i)Time lag of the temperature wave at a depth of 10 cm from the inner surface is %3.2f h \\n \\\n",
      "ii)The flow through a surface located at a distance of 10 cm from the surface during the first\\\n",
      " six hours interval while the temperature is above the mean value is %i kJ/m**2'%(t1,q) "
     ],
     "language": "python",
     "metadata": {},
     "outputs": [
      {
       "output_type": "stream",
       "stream": "stdout",
       "text": [
        "i)Time lag of the temperature wave at a depth of 10 cm from the inner surface is 0.69 h \n",
        " ii)The flow through a surface located at a distance of 10 cm from the surface during the first six hours interval while the temperature is above the mean value is 37993 kJ/m**2\n"
       ]
      }
     ],
     "prompt_number": 12
    },
    {
     "cell_type": "heading",
     "level": 2,
     "metadata": {},
     "source": [
      "Example 5.23  Page No : 215"
     ]
    },
    {
     "cell_type": "code",
     "collapsed": false,
     "input": [
      "# Variables\n",
      "N = 2000;\t\t\t#Speed of the engine\n",
      "a = 0.06;\t\t\t#Thermal diffusivity in m**2/h\n",
      "\n",
      "# Calculations\n",
      "t = 1./(60*N);\t\t\t#Period of on oscillation in h\n",
      "x = (1.6*math.sqrt(3.14*a*t))*1000;\t\t\t#Depth of penetration in mm\n",
      "\n",
      "# Results\n",
      "print 'Depth of penetration of the temperature oscillation into the cylinder wall of a \\\n",
      "single acting cylinder two stroke IC engine is%3.0f mm'%(x)\n"
     ],
     "language": "python",
     "metadata": {},
     "outputs": [
      {
       "output_type": "stream",
       "stream": "stdout",
       "text": [
        "Depth of penetration of the temperature oscillation into the cylinder wall of a single acting cylinder two stroke IC engine is  2 mm\n"
       ]
      }
     ],
     "prompt_number": 29
    },
    {
     "cell_type": "heading",
     "level": 2,
     "metadata": {},
     "source": [
      "Example 5.24  Page No : 218"
     ]
    },
    {
     "cell_type": "code",
     "collapsed": false,
     "input": [
      "import math\n",
      "# Variables\n",
      "Tc = 55;\t\t\t#Tempaerature of concrete hyway in degree C\n",
      "Tl = 35;\t\t\t#Temperature lowered in degree C\n",
      "Tf = 45;\t\t\t#Final temperature in degree C\n",
      "x = 0.05;\t\t\t#Depth in m\n",
      "k = 1.279;\t\t\t#Thermal conductivity in W/m.K\n",
      "a = (1.77*10**-3);\t\t\t#Thermal diffusivity in m**2/h\n",
      "\n",
      "# Calculations\n",
      "t = 1.4;\t\t\t#Time taken from page no. 219 in h\n",
      "q = 2*(k*(Tl-Tf))/(math.sqrt(3*a*t));\t\t\t#Instantaneous heat removal rate in W/m**2\n",
      "\n",
      "# Results\n",
      "print 'Instantaneous heat removal rate is %3.1f W/m**2'%(q)"
     ],
     "language": "python",
     "metadata": {},
     "outputs": [
      {
       "output_type": "stream",
       "stream": "stdout",
       "text": [
        "Instantaneous heat removal rate is -296.7 W/m**2\n"
       ]
      }
     ],
     "prompt_number": 30
    }
   ],
   "metadata": {}
  }
 ]
}