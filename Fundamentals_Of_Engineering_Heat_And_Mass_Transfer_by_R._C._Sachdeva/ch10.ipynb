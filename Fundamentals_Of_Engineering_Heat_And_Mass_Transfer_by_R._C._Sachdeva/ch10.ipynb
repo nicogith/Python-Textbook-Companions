{
 "metadata": {
  "name": "",
  "signature": "sha256:4a3273e6ea6b2958563a9e1b4fdabb424a50f820382694523b368d9f9ad6e27a"
 },
 "nbformat": 3,
 "nbformat_minor": 0,
 "worksheets": [
  {
   "cells": [
    {
     "cell_type": "heading",
     "level": 1,
     "metadata": {},
     "source": [
      "Chapter 10 : Radiative Heat exchange between surfaces"
     ]
    },
    {
     "cell_type": "heading",
     "level": 2,
     "metadata": {},
     "source": [
      "Example 10.1  Page No : 403"
     ]
    },
    {
     "cell_type": "code",
     "collapsed": false,
     "input": [
      "import math \n",
      "\n",
      "# Variables\n",
      "I = 1350;\t\t\t#Solar Irradiation in W/m**2\n",
      "L = (1.5*10**8);\t\t\t#Approximate dismath.tance in km\n",
      "D = (1.39*10**6);\t\t\t#Approximate diameter in km\n",
      "\n",
      "\n",
      "# Calculations\n",
      "E = (I*(L*1000)**2*3.14)/((3.14/4)*(D*1000)**2);\t\t\t#Emissive power of Earth \n",
      "Ts = (E/(5.67*10**-8))**0.25;\t\t\t#Surface temperature of sun in K\n",
      "\n",
      "# Results\n",
      "print 'Surface temperature of sun is %d K'%(Ts)\n",
      "\n",
      "\n"
     ],
     "language": "python",
     "metadata": {},
     "outputs": [
      {
       "output_type": "stream",
       "stream": "stdout",
       "text": [
        "Surface temperature of sun is 5770 K\n"
       ]
      }
     ],
     "prompt_number": 1
    },
    {
     "cell_type": "heading",
     "level": 2,
     "metadata": {},
     "source": [
      "Example 10.4  Page No : 409"
     ]
    },
    {
     "cell_type": "code",
     "collapsed": false,
     "input": [
      "# Variables\n",
      "S = 1;\t\t\t#Side of a square in m\n",
      "L = 0.4;\t\t\t#Distance between the plates in m\n",
      "T1 = 900;\t\t\t#Temperature of one plate in degree C\n",
      "T2 = 400;\t\t\t#Temperature of the other plate in degree C\n",
      "\n",
      "# Calculations\n",
      "R = (S/L);\t\t\t#Ratio of the side of the square to the distance between plates\n",
      "F12 = 0.415;\t\t\t#From Fig.10.4 on page no.409\n",
      "Q = (5.67*10**-8*S*S*F12*((T1+273)**4-(T2+273)**4))/1000;\t\t\t#The net heat transfer in kW\n",
      "\n",
      "# Results\n",
      "print 'The net exchange of energy due to radiation between the plates is %3.1f kW'%(Q)\n",
      "\n",
      "\n"
     ],
     "language": "python",
     "metadata": {},
     "outputs": [
      {
       "output_type": "stream",
       "stream": "stdout",
       "text": [
        "The net exchange of energy due to radiation between the plates is 39.7 kW\n"
       ]
      }
     ],
     "prompt_number": 3
    },
    {
     "cell_type": "heading",
     "level": 2,
     "metadata": {},
     "source": [
      "Example 10.5  Page No : 411"
     ]
    },
    {
     "cell_type": "code",
     "collapsed": false,
     "input": [
      "# Variables\n",
      "A51 = 2;\t\t\t#Ratio of areas A5 and A1\n",
      "A21 = 1;\t\t\t#Ratio of areas A2 and A1\n",
      "F56 = 0.15;\t\t\t#Shape factor\n",
      "F53 = 0.11;\t\t\t#Shape factor\n",
      "F26 = 0.24;\t\t\t#Shape Factor\n",
      "F23 = 0.2;\t\t\t#Shape Factor\n",
      "\n",
      "# Calculations\n",
      "F14 = (A51*(F56-F53))-(A21*(F26-F23));\t\t\t#Shape factor\n",
      "\n",
      "# Results\n",
      "print 'Shape factor F14 is %3.2f'%(F14)\n",
      "\n",
      "\n"
     ],
     "language": "python",
     "metadata": {},
     "outputs": [
      {
       "output_type": "stream",
       "stream": "stdout",
       "text": [
        "Shape factor F14 is 0.04\n"
       ]
      }
     ],
     "prompt_number": 4
    },
    {
     "cell_type": "heading",
     "level": 2,
     "metadata": {},
     "source": [
      "Example 10.8  Page No : 415"
     ]
    },
    {
     "cell_type": "code",
     "collapsed": false,
     "input": [
      "# Variables\n",
      "Th = 40.;\t\t\t#Radiating heating panel in degree C\n",
      "Tb = 5.;\t\t\t#Temperature of black plane in degree C\n",
      "Tc = 31.;\t\t\t#Temperature of ceiling in degree C\n",
      "A = (10.*12);\t\t#Area in m**2\n",
      "\n",
      "# Calculations\n",
      "F56 = 0.075;\t\t\t#Using Fig.10.2 on page no. 408\n",
      "F63 = 0.04;\t    \t\t#Using Fig.10.2 on page no. 408\n",
      "F12 = 0.052;\t\t\t#Shape factor\n",
      "F1w = (1-F12);\t\t\t#Shape factor between the floor and all the walls but the window\n",
      "Q12 = (A*F12*5.67*10**-8*((Th+273)**4-(Tb+273)**4));\t\t\t#Heat exchange between the floor and window in W\n",
      "#Q1 = (5.67*10**-8*A*((Th+273.15)**4-((F12*(Th+273.15)**4)-(F1w*(Tb+273.15)**4))))/1000;\t\t\t#Net heat given up by the floor in kW\n",
      "Q1 = (5.67*10**-8*A*((Th+273)**4-((F12*(Th+273)**4)-(F1w*(294)**4))))/1000;\t\t\t#Net heat given up by the floor in kW\n",
      "\n",
      "\n",
      "# Results\n",
      "print 'Heat exchange between the floor and window is %3.0f W \\n \\\n",
      "Net heat given up by the floor is %3.1f kW'%(Q12,Q1)\n",
      "\n",
      "\n",
      "# Note : rounding off error."
     ],
     "language": "python",
     "metadata": {},
     "outputs": [
      {
       "output_type": "stream",
       "stream": "stdout",
       "text": [
        "Heat exchange between the floor and window is 1283 W \n",
        " Net heat given up by the floor is 110.1 kW\n"
       ]
      }
     ],
     "prompt_number": 4
    },
    {
     "cell_type": "heading",
     "level": 2,
     "metadata": {},
     "source": [
      "Example 10.14  Page No : 424"
     ]
    },
    {
     "cell_type": "code",
     "collapsed": false,
     "input": [
      "# Variables\n",
      "A2 = (6.*2);\t\t\t#Area of windows in m**2\n",
      "A1 = (10.*12);\t\t\t#Area of floor in m**2\n",
      "Th = 40.;\t\t\t#Radiating heating panel in degree C\n",
      "Tb = 5.;\t\t\t#Temperature of black plane in degree C\n",
      "F12 = 0.052;\t\t\t#Shape factor\n",
      "\n",
      "# Calculations\n",
      "F12a = ((A2-(A1*F12**2))/(A1+A2-(2*A1*F12)));\t\t\t#Shape factor\n",
      "Q12 = (A1*F12a*5.67*10**-8*((Th+273)**4-(Tb+273)**4));\t\t\t#Net heat exchange in W\n",
      "X = (((A2/A1)-F12)/(1-F12));\t\t\t#X value for equilibrium temperature\n",
      "T = (((Th+273)**4+(X*(Tb+273)**4))/(X+1))**0.25;\t\t\t#Equilibrium temperature in K\n",
      "\n",
      "# Results\n",
      "print 'Net heat exchange is %3.0f W Equilibrium temperature is %3.2f K'%(Q12,T)\n",
      "\n"
     ],
     "language": "python",
     "metadata": {},
     "outputs": [
      {
       "output_type": "stream",
       "stream": "stdout",
       "text": [
        "Net heat exchange is 2409 W Equilibrium temperature is 311.57 K\n"
       ]
      }
     ],
     "prompt_number": 5
    },
    {
     "cell_type": "heading",
     "level": 2,
     "metadata": {},
     "source": [
      "Example 10.15  Page No : 430"
     ]
    },
    {
     "cell_type": "code",
     "collapsed": false,
     "input": [
      "# Variables\n",
      "D = 0.2;\t\t\t            #Diameter of each disc in m\n",
      "L = 2;\t\t\t                #Distance between the plates in m\n",
      "T = 800+273,300+273;\t\t\t#Temperatures of the plates in K\n",
      "e = [0.3,0.5]       ;\t\t\t#Emissivities of plates\n",
      "\n",
      "# Calculations\n",
      "e1 = (e[0]*e[1]);\t\t\t#Equivalent emissivity\n",
      "R = (D/L);\t\t\t#Ratio between diameter and distance between the plates\n",
      "F = 0.014;\t\t\t#F value from Fig.10.4 from page no. 409\n",
      "Q = (e1*(3.14/4)*D**2*F*5.67*10**-8*((T[0]**4-(T[1]**4))));\t\t\t#Radiant heat exchange for the plates in W\n",
      "\n",
      "# Results\n",
      "print 'Radiant heat exchange for the plates is %3.2f W'%(Q)\n",
      "\n",
      "\n"
     ],
     "language": "python",
     "metadata": {},
     "outputs": [
      {
       "output_type": "stream",
       "stream": "stdout",
       "text": [
        "Radiant heat exchange for the plates is 4.55 W\n"
       ]
      }
     ],
     "prompt_number": 8
    },
    {
     "cell_type": "heading",
     "level": 2,
     "metadata": {},
     "source": [
      "Example 10.16  Page No : 430"
     ]
    },
    {
     "cell_type": "code",
     "collapsed": false,
     "input": [
      "# Variables\n",
      "e = 0.8;\t\t\t#Emissivity of brick wall\n",
      "D1 = [6,4];\t\t\t#Width and Height in m\n",
      "L = 0.04;\t\t\t#Distance from the wall in m\n",
      "D2 = [0.2,0.2];\t\t\t#Dimensions of the furnace wall in m\n",
      "D3 = [1,1];\t\t\t#Dimensions at lower and left of the centre of the wall in m\n",
      "T = [1523+273,37+273];\t\t\t#Furnace temperature and wall temperature in degree C\n",
      "\n",
      "# Calculations\n",
      "F12 = 0.033;\t\t\t#Shape factor from Fig.10.3 on page no. 409\n",
      "F13 = 0.05;\t\t\t#Shape factor from Fig.10.3 on page no. 409\n",
      "F14 = 0.12;\t\t\t#Shape factor from Fig.10.3 on page no. 409\n",
      "F15 = 0.08;\t\t\t#Shape factor from Fig.10.3 on page no. 409\n",
      "Fow = (F12+F13+F14+F15);\t\t\t#Shape factor between opening and wall\n",
      "Q = (e*L*Fow*5.67*10**-8*(T[0]**4-T[1]**4))/1000;\t\t\t#Net radiation exchange in kW\n",
      "\n",
      "# Results\n",
      "print 'Net radiation exchange between the opening and the wall is %3.1f kW'%(Q)\n",
      "\n",
      "\n"
     ],
     "language": "python",
     "metadata": {},
     "outputs": [
      {
       "output_type": "stream",
       "stream": "stdout",
       "text": [
        "Net radiation exchange between the opening and the wall is 5.3 kW\n"
       ]
      }
     ],
     "prompt_number": 9
    },
    {
     "cell_type": "heading",
     "level": 2,
     "metadata": {},
     "source": [
      "Example 10.17  Page No : 431"
     ]
    },
    {
     "cell_type": "code",
     "collapsed": false,
     "input": [
      "# Variables\n",
      "D = [2,1,1];\t\t\t#Dimensions of the math.tank in m\n",
      "A = 8;\t\t\t#Area of the tank in m**2\n",
      "e = 0.9;\t\t\t#Surface emissivity \n",
      "Ts = 25+273;\t\t\t#Surface temperature in K\n",
      "Ta = 2+273;\t\t\t#Ambient temperature in K\n",
      "e1 = 0.5;\t\t\t#Emissivity of aluminium \n",
      "\n",
      "# Calculations\n",
      "Q = (e*A*5.67*10**-8*(Ts**4-Ta**4))/1000;\t\t\t#Heat lost by radiation in kW\n",
      "r = ((e-e1)/e)*Q;\t\t\t#Reduction in heat loss if the tank is coated with an aluminium paint in kW\n",
      "\n",
      "# Results\n",
      "print 'Heat lost by radiation is %3.2f kW \\n \\\n",
      "Reduction in heat loss if the tank is coated with an aluminium paint is %3.3f kW'%(Q,r)\n",
      "\n",
      "\n"
     ],
     "language": "python",
     "metadata": {},
     "outputs": [
      {
       "output_type": "stream",
       "stream": "stdout",
       "text": [
        "Heat lost by radiation is 0.88 kW \n",
        " Reduction in heat loss if the tank is coated with an aluminium paint is 0.393 kW\n"
       ]
      }
     ],
     "prompt_number": 10
    },
    {
     "cell_type": "heading",
     "level": 2,
     "metadata": {},
     "source": [
      "Example 10.18  Page No : 432"
     ]
    },
    {
     "cell_type": "code",
     "collapsed": false,
     "input": [
      "# Variables\n",
      "D = 0.2;\t\t\t#Outer diameter of the pipe in m\n",
      "Ta = 30+273;\t\t\t#Temperature of the air in K\n",
      "Ts = 400+273;\t\t\t#Surface temperature in K\n",
      "e = 0.8;\t\t\t#Emissivity of the pipe surface\n",
      "D1 = 0.4;\t\t\t#Diamter of brick in m\n",
      "e1 = 0.91;\t\t\t#Emissivity of brick\n",
      "\n",
      "# Calculations\n",
      "Q = (e*3.14*D*5.67*10**-8*(Ts**4-Ta**4))/1000;\t\t\t#Loss of heat by thermal radiation in kW/m\n",
      "e2 = (1./((1./e)+((D/D1)*((1./e1)-1))));\t\t\t#Equivalent emissivity\n",
      "Q1 = (e2*3.14*D*5.67*10**-8*(Ts**4-Ta**4))/1000;\t\t\t#Heat loss when brick is used in kW/m\n",
      "r = (round(Q,2)-round(Q1,2))*1000;\t\t\t#Reduction in heat loss in W/m\n",
      "\n",
      "# Results\n",
      "print 'Loss of heat by thermal radiation is %3.1f*10**3 W/m \\n \\\n",
      "Reduction in heat loss is %3.0f W/m'%(Q,r)\n"
     ],
     "language": "python",
     "metadata": {},
     "outputs": [
      {
       "output_type": "stream",
       "stream": "stdout",
       "text": [
        "Loss of heat by thermal radiation is 5.6*10**3 W/m \n",
        " Reduction in heat loss is 210 W/m\n"
       ]
      }
     ],
     "prompt_number": 5
    },
    {
     "cell_type": "heading",
     "level": 2,
     "metadata": {},
     "source": [
      "Example 10.19  Page No : 433"
     ]
    },
    {
     "cell_type": "code",
     "collapsed": false,
     "input": [
      "# Variables\n",
      "e = 0.03;\t\t\t#Emissivity of silver\n",
      "T2 = -153.+273;\t\t\t#Temperature of the outer surface of the inner wall in K\n",
      "T1 = 27.+273;\t\t\t#Temperature of the inner surface of the outer wall in K\n",
      "D1 = 0.42;\t\t\t#Diamter of first sphere in m\n",
      "D2 = 0.6;\t\t\t#Diamter of the second sphere in m\n",
      "V = 220.;\t\t\t#Rate of vapourization in kJ/kg\n",
      "\n",
      "# Calculations\n",
      "e1 = (1./((1./e)+((D1/D2)**2*((1./e)-1))));\t\t\t#Equivalent emissivity\n",
      "A = (4*3.14*(D1/2)**2);\t\t\t#Area in m**2\n",
      "Q = (e1*A*5.67*10**-8*(T1**4-T2**4))/(1000./3600);\t\t\t#Radiation heat transfer through walls into the vessel in kJ/h\n",
      "R = (Q/V);\t\t\t#Rate of evaporation in kg/h\n",
      "\n",
      "# Results\n",
      "print 'Radiation heat transfer through walls into the vessel is %3.3f kJ/h \\n \\\n",
      "Rate of evaporation of liqiud oxygen is %3.4f kg/h'%(Q,R)\n",
      "\n",
      "\n"
     ],
     "language": "python",
     "metadata": {},
     "outputs": [
      {
       "output_type": "stream",
       "stream": "stdout",
       "text": [
        "Radiation heat transfer through walls into the vessel is 18.146 kJ/h \n",
        " Rate of evaporation of liqiud oxygen is 0.0825 kg/h\n"
       ]
      }
     ],
     "prompt_number": 16
    },
    {
     "cell_type": "heading",
     "level": 2,
     "metadata": {},
     "source": [
      "Example 10.20  Page No : 433"
     ]
    },
    {
     "cell_type": "code",
     "collapsed": false,
     "input": [
      "# Variables\n",
      "T = [800+273,300+273];\t\t\t#Temperatures of the plates in K\n",
      "e = [0.3,0.5];\t\t\t#Emissivities of the plates\n",
      "\n",
      "# Calculations\n",
      "Q = ((5.67*10**-8*(T[0]**4-T[1]**4))/((1./e[0])+((1./e[1]))-1))/1000;\t\t\t#Net radiant heat exchange in kW/m**2\n",
      "\n",
      "# Results\n",
      "print 'Net radiant heat exchange is %3.2f kW/m**2'%(Q)\n"
     ],
     "language": "python",
     "metadata": {},
     "outputs": [
      {
       "output_type": "stream",
       "stream": "stdout",
       "text": [
        "Net radiant heat exchange is 15.93 kW/m**2\n"
       ]
      }
     ],
     "prompt_number": 17
    },
    {
     "cell_type": "heading",
     "level": 2,
     "metadata": {},
     "source": [
      "Example 10.21  Page No : 434"
     ]
    },
    {
     "cell_type": "code",
     "collapsed": false,
     "input": [
      "# Variables\n",
      "T1 = 127+273;\t\t\t#Temperature of the outer side of the brick setting in K\n",
      "T2 = 50+273;\t\t\t#Temperature of the inside of the steel plate in K\n",
      "e1 = 0.6;\t\t\t#Emissivity of steel\n",
      "e2 = 0.8;\t\t\t#Emissivity of fireclay\n",
      "\n",
      "# Calculations\n",
      "Q = ((5.67*10**-8*(T1**4-T2**4))/((1./e1)+((1./e2))-1));\t\t\t#Net radiant heat exchange in W/m**2\n",
      "\n",
      "# Results\n",
      "print 'Net radiant heat exchange is %3.0f W/m**2'%(Q)\n",
      "\n",
      "\n"
     ],
     "language": "python",
     "metadata": {},
     "outputs": [
      {
       "output_type": "stream",
       "stream": "stdout",
       "text": [
        "Net radiant heat exchange is 435 W/m**2\n"
       ]
      }
     ],
     "prompt_number": 18
    },
    {
     "cell_type": "heading",
     "level": 2,
     "metadata": {},
     "source": [
      "Example 10.22  Page No : 445"
     ]
    },
    {
     "cell_type": "code",
     "collapsed": false,
     "input": [
      "# Variables\n",
      "D = 1;\t\t\t#Dimension of the plate in m\n",
      "L = 0.5;\t\t\t#Distance between the plates in m\n",
      "Ts = 27+273;\t\t\t#Surface temperature of the walls in K\n",
      "T = [900+273,400+273];\t\t\t#Temperature of the plates in K\n",
      "e = [0.2,0.5];\t\t\t#Emissivities of the plates \n",
      "\n",
      "# Calculations\n",
      "F12 = 0.415;\t\t\t#From Fig.10.4 on page no.409\n",
      "F13 = (1-F12);\t\t\t#Shape factor\n",
      "F23 = (1-F12);\t\t\t#Shape factor\n",
      "R1 = (1-e[0])/(e[0]*D*D);\t\t\t#Resistance for 1\n",
      "R2 = (1-e[1])/(e[1]*D*D);\t\t\t#Resistance for 2\n",
      "R3 = 0;\t\t\t                    #Resistance for 3\n",
      "A1F12I = (1./(D*D*F12));\t\t\t#Inverse of the product of area and Shape factor\n",
      "A1F13I = (1./(D*D*F13));\t\t\t#Inverse of the product of area and Shape factor\n",
      "A2F23I = (1./(D*D*F23));\t\t\t#Inverse of the product of area and Shape factor\n",
      "Eb1 = (5.67*10**-8*T[0]**4)/1000;\t\t\t#Emissive power of 1 in kW/m**2\n",
      "Eb2 = (5.67*10**-8*T[1]**4)/1000;\t\t\t#Emissive power of 2 in kW/m**2\n",
      "Eb3 = (5.67*10**-8*Ts**4);\t\t\t#Emissive power of 3 in W/m**2\n",
      "J1 = 25;\t\t\t#Radiosity at node 1 in kW/m**2\n",
      "J2 = 11.53;\t\t\t#Radiosity at node 2 in kW/m**2\n",
      "J3 = 0.46;\t\t\t#Radiosity at node 3 in kW/m**2\n",
      "Q1 = ((Eb1-J1)/R1);\t\t\t#Total heat loss by plate 1 in kW\n",
      "Q2 = ((Eb2-J2)/R2);\t\t\t#Total heat loss by plate 2 in kW\n",
      "Q3 = ((J1-J3)/(A1F13I))+((J2-J3)/(A2F23I));\t\t\t#Total heat received by the room in kW\n",
      "\n",
      "# Results\n",
      "print 'Total heat loss by plate 1 is %3.1f kW Total heat loss by plate 2 is %3.1f kW \\n \\\n",
      "Total heat received by the room is %3.2f kW'%(Q1,Q2,Q3)\n",
      "\n",
      "\n"
     ],
     "language": "python",
     "metadata": {},
     "outputs": [
      {
       "output_type": "stream",
       "stream": "stdout",
       "text": [
        "Total heat loss by plate 1 is 20.6 kW Total heat loss by plate 2 is 0.1 kW \n",
        " Total heat received by the room is 20.83 kW\n"
       ]
      }
     ],
     "prompt_number": 19
    },
    {
     "cell_type": "heading",
     "level": 2,
     "metadata": {},
     "source": [
      "Example 10.23  Page No : 447"
     ]
    },
    {
     "cell_type": "code",
     "collapsed": false,
     "input": [
      "# Variables\n",
      "T = [800+273,300+273];\t\t\t#Temperatures of the plates in K\n",
      "e = [0.3,0.5];\t\t\t#Emissivities of the plates\n",
      "e3 = 0.05;\t\t\t#Emissivity of aluminium\n",
      "\n",
      "# Calculations\n",
      "q = ((5.67*10**-8*(T[0]**4-T[1]**4))/((1./e[0])+(1./e[1])-1))/1000;\t\t\t#Heat transfer without the shield in kW/m**2\n",
      "R1 = (1-e[0])/e[0];\t\t\t#Resistance in 1\n",
      "R2 = (1-e[1])/e[1];\t\t\t#Resistance in 2\n",
      "R3 = (1-e3)/e3;\t\t\t#Resistance in 3\n",
      "R = (R1+(2*R2)+(2*R3));\t\t\t#Total resismath.tance \n",
      "q1 = ((5.67*10**-8*(T[0]**4-T[1]**4))/R)/1000;\t\t\t#Heat transfer with shield in kW/m**2\n",
      "r = ((q-q1)*100)/q;\t\t\t#Reduction in heat transfer \n",
      "X1 = ((1./e3)+(1./e[1])-1);\t\t\t#X1 for tempearture T3\n",
      "X2 = ((1./e[0])+(1./e3)-1);\t\t\t#X1 for tempearture T3\n",
      "T3 = (((X1*T[0]**4)+(X2*T[1]**4))/(X2+X1))**0.25;\t\t\t#Temperature of the sheild in K\n",
      "T3c = T3-273;\t\t\t#Temperature of the sheild in degree C\n",
      "\n",
      "# Results\n",
      "print 'Percentage reduction in heat transfer is %3.0f percent \\n \\\n",
      "Temperature of the sheild is %3.2f degree C'%(r,T3c)\n"
     ],
     "language": "python",
     "metadata": {},
     "outputs": [
      {
       "output_type": "stream",
       "stream": "stdout",
       "text": [
        "Percentage reduction in heat transfer is  90 percent \n",
        " Temperature of the sheild is 641.02 degree C\n"
       ]
      }
     ],
     "prompt_number": 20
    },
    {
     "cell_type": "heading",
     "level": 2,
     "metadata": {},
     "source": [
      "Example 10.24  Page No : 448"
     ]
    },
    {
     "cell_type": "code",
     "collapsed": false,
     "input": [
      "# Variables\n",
      "Q = 79;\t\t\t#Reduction in net radiation from the surfaces \n",
      "e1 = 0.05;\t\t\t#Emissivity of the screen\n",
      "e2 = 0.8;\t\t\t#Emissivity of the surface\n",
      "\n",
      "# Calculations\n",
      "n = (((Q*((2/e2)-1))-((2/e2)+1))/((2/e1)-1));\t\t\t#Number of screens to be placed between the two surfaces to achieve the reduction in heat exchange\n",
      "\n",
      "# Results\n",
      "print 'Number of screens to be placed between the two surfaces to achieve the reduction in heat exchange is%3.0f'%(n)\n"
     ],
     "language": "python",
     "metadata": {},
     "outputs": [
      {
       "output_type": "stream",
       "stream": "stdout",
       "text": [
        "Number of screens to be placed between the two surfaces to achieve the reduction in heat exchange is  3\n"
       ]
      }
     ],
     "prompt_number": 21
    },
    {
     "cell_type": "heading",
     "level": 2,
     "metadata": {},
     "source": [
      "Example 10.25  Page No : 449"
     ]
    },
    {
     "cell_type": "code",
     "collapsed": false,
     "input": [
      "# Variables\n",
      "e = 0.8;\t\t\t#Emissivity of the pipe\n",
      "D = 0.275;\t\t\t#Diameter of the pipe in m\n",
      "Ts = 500+273;\t\t\t#Surface temperature in K\n",
      "Te = 30+273;\t\t\t#Temperature of enclosure in K\n",
      "D1 = 0.325;\t\t\t#Diamter of the steel screen in m\n",
      "e1 = 0.7;\t\t\t#Emissivity of steel screen\n",
      "Tsc = 240+273;\t\t\t#Temperature of screen in K\n",
      "\n",
      "#CALCUATIONS\n",
      "Q = (e*5.67*10**-8*3.14*D*(Ts**4-Te**4))/1000;\t\t\t#Loss of heat per unit length by radiation in kW/m\n",
      "e2 = (1./((1./e)+((D/D1)*((1./e1)-1))));\t\t\t#Equivalent emissivity\n",
      "Q1 = (e2*5.67*10**-8*3.14*D*(Ts**4-Tsc**4))/1000;\t\t\t#Radiant heat exchange per unit length of header with screen in kW/m\n",
      "R = (Q-Q1);\t\t\t#Reduction in heat by radiation due to the provision of the screen in kW/m\n",
      "\n",
      "# Results\n",
      "print 'Loss of heat per unit length by radiation is %3.1f kW/m \\n \\\n",
      "Reduction in heat by radiation due to the provision of the screen is %3.2f kW/m'%(Q,R)\n",
      "\n",
      "\n"
     ],
     "language": "python",
     "metadata": {},
     "outputs": [
      {
       "output_type": "stream",
       "stream": "stdout",
       "text": [
        "Loss of heat per unit length by radiation is 13.7 kW/m \n",
        " Reduction in heat by radiation due to the provision of the screen is 4.92 kW/m\n"
       ]
      }
     ],
     "prompt_number": 22
    },
    {
     "cell_type": "heading",
     "level": 2,
     "metadata": {},
     "source": [
      "Example 10.26  Page No : 451"
     ]
    },
    {
     "cell_type": "code",
     "collapsed": false,
     "input": [
      "# Variables\n",
      "e = 0.6;\t\t    \t#Emissivity of thermocouple\n",
      "Ta = 20+273;\t\t\t#Ambient temperature in K\n",
      "Tt = 500+273;\t\t\t#Temperature from the thermocouple in K\n",
      "e = 0.3;\t    \t\t#Emissivity of radiation shield\n",
      "h = 200;\t\t    \t#Convective heat transfer coefficient in W/m**2.K\n",
      "Ts = 833;\t\t\t    #Temperature in K\n",
      "\n",
      "# Calculations\n",
      "T = ((5.67*10**-8*e*(Tt**4-Ta**4))/(h*1000))+Tt;\t\t\t#Temperature of the shield in K\n",
      "T1 = (Ts-T);\t\t\t#Error between the thermocouple temperature and gas temperature in K\n",
      "Ts = 825.;  \t\t\t#Surface temperature with radiation shield in K\n",
      "Tc = 829.;\t    \t\t#Thermocouple temperature with radiation shield in K\n",
      "e = (Tc-Ts);\t\t\t#Error between the thermocouple temperature and gas temperature with the shielded thermocouple arrangement in K\n",
      "\n",
      "# Results\n",
      "print 'Error between the thermocouple temperature and gas temperature is%3.0f K \\n \\\n",
      "Error between the thermocouple temperature and gas temperature with the shielded thermocouple arrangement is%3.0f K'%(T1,e)\n"
     ],
     "language": "python",
     "metadata": {},
     "outputs": [
      {
       "output_type": "stream",
       "stream": "stdout",
       "text": [
        "Error between the thermocouple temperature and gas temperature is 60 K \n",
        " Error between the thermocouple temperature and gas temperature with the shielded thermocouple arrangement is  4 K\n"
       ]
      }
     ],
     "prompt_number": 23
    },
    {
     "cell_type": "heading",
     "level": 2,
     "metadata": {},
     "source": [
      "Example 10.27  Page No : 452"
     ]
    },
    {
     "cell_type": "code",
     "collapsed": false,
     "input": [
      "# Variables\n",
      "D = 0.2;\t\t\t#Diameter of pipe in m\n",
      "Ta = 30+273;\t\t\t#Temperature of air in K\n",
      "Ts = 200+273;\t\t\t#Temperature of surface in K\n",
      "e = 0.8;\t\t\t#Emissivity of the pipe\n",
      "\n",
      "# Calculations\n",
      "Q = (e*5.67*10**-8*3.14*D*(Ts**4-Ta**4));\t\t\t#Heat lost by thermal radiation in W/m\n",
      "T = (Ta+Ts)/2;\t\t\t#Film temperature in degree C\n",
      "k = 0.03306;\t\t\t#Thermal conductivity in W/m.K\n",
      "v1 = (24.93*10**-6);\t\t\t#Kinematic viscosity in m**2/s\n",
      "b = (1./388);\t\t\t#Coefficient of thermal expansion in 1./K\n",
      "Pr = 0.687;\t\t\t#Prantl number\n",
      "Ra = ((9.81*b*D**3*(Ts-Ta)*Pr)/(v1**2));\t\t\t#Rayleigh number\n",
      "Nu = (0.53*(Ra)**0.25);\t\t\t#Nussults number\n",
      "h = (k*Nu)/D;\t\t\t#Heat transfer coefficient in W/m**2.K\n",
      "Q1 = (h*3.14*D*(Ts-Ta));\t\t\t#Heat lost by convection in W/m\n",
      "Q2 = (Q+Q1);\t\t\t#Total heat lost per meter length in W/m\n",
      "\n",
      "# Results\n",
      "print 'Heat lost by thermal radiation is %3.0f W/m \\n \\\n",
      "Heat lost by convection is %3.1f W/m'%(Q,Q1)\n"
     ],
     "language": "python",
     "metadata": {},
     "outputs": [
      {
       "output_type": "stream",
       "stream": "stdout",
       "text": [
        "Heat lost by thermal radiation is 1186 W/m \n",
        " Heat lost by convection is 734.4 W/m\n"
       ]
      }
     ],
     "prompt_number": 24
    },
    {
     "cell_type": "heading",
     "level": 2,
     "metadata": {},
     "source": [
      "Example 10.28  Page No : 453"
     ]
    },
    {
     "cell_type": "code",
     "collapsed": false,
     "input": [
      "# Variables\n",
      "Ts = 200+273;\t\t\t#Temperature of stream main in K\n",
      "Ta = 30+273;\t\t\t#Rooom temperature in K\n",
      "h = 17.98;\t\t\t#Heat transfer coefficient in W/m**2.K\n",
      "e = 0.8;\t\t\t#Emissivity of the pipe surface\n",
      "\n",
      "# Calculations\n",
      "q = (5.67*10**-8*e*(Ts**4-Ta**4));\t\t\t#Heat transfer by radiation in W/m**2\n",
      "hr = (q/(Ts-Ta));\t\t\t                #Heat transfer coefficient due to radiation in W/m**2.K\n",
      "hc = (h-hr);\t\t\t                    #Heat transfer coefficient due to convection in W/m**2.K\n",
      "\n",
      "# Results\n",
      "print 'Heat transfer coefficient due to radiation is %3.1f W/m**2.K \\n \\\n",
      "Heat transfer coefficient due to convection is %3.2f W/m**2.K'%(hr,hc)\n"
     ],
     "language": "python",
     "metadata": {},
     "outputs": [
      {
       "output_type": "stream",
       "stream": "stdout",
       "text": [
        "Heat transfer coefficient due to radiation is 11.1 W/m**2.K \n",
        " Heat transfer coefficient due to convection is 6.87 W/m**2.K\n"
       ]
      }
     ],
     "prompt_number": 25
    },
    {
     "cell_type": "heading",
     "level": 2,
     "metadata": {},
     "source": [
      "Example 10.29  Page No : 461"
     ]
    },
    {
     "cell_type": "code",
     "collapsed": false,
     "input": [
      "import math\n",
      "# Variables\n",
      "t = 0.05;\t\t\t#Thickness of the gas layer in m\n",
      "r = 0.1;\t\t\t#Remaining radiation  intensity\n",
      "\n",
      "# Calculations\n",
      "a = (-1./t)*2.3*(math.log(r)/math.log(10));\t\t\t#Extinction coefficient per m\n",
      "\n",
      "# Results\n",
      "print 'Extinction coefficient is %3.2f/m'%(a)\n"
     ],
     "language": "python",
     "metadata": {},
     "outputs": [
      {
       "output_type": "stream",
       "stream": "stdout",
       "text": [
        "Extinction coefficient is 46.00/m\n"
       ]
      }
     ],
     "prompt_number": 26
    },
    {
     "cell_type": "heading",
     "level": 2,
     "metadata": {},
     "source": [
      "Example 10.30  Page No : 462"
     ]
    },
    {
     "cell_type": "code",
     "collapsed": false,
     "input": [
      "# Variables\n",
      "A = 30.;\t\t\t#Total surface area in m**2\n",
      "V = 10.;\t\t\t#Volume in m**3\n",
      "Ts = 1000.;\t\t\t#Temperature of the furnace in degree C\n",
      "p = 2.; \t\t\t#Total pressure in atm\n",
      "ph2o = 0.1;\t\t\t#Partial pressure of water vapour in atm\n",
      "pco2 = 0.3;\t\t\t#Partial pressure of CO2\n",
      "\n",
      "# Calculations\n",
      "lms = (3.6*V)/A;\t\t\t#Mean beam length in m\n",
      "pco2lms = (pco2*lms);\t\t\t#pco2lms in m.atm\n",
      "eco2 = 0.16;\t\t\t#From Fig.10.23 on page no. 458\n",
      "cco2 = 1.11;\t\t\t#From Fig.10.23 on page no. 458\n",
      "cco2eco2 = (cco2*eco2);\t\t\t#cco2eco2 value\n",
      "ph2olms = (ph2o*lms);\t\t\t#ph2olms in m.atm\n",
      "eh2o = 0.12;\t\t\t#From Fig.10.24 on page no. 459\n",
      "P = (p+ph2o)/2;\t\t\t#P value in atm\n",
      "ch2o = 1.43;\t\t\t#From Fig.10.26 on page no. 460\n",
      "ch2oeh2o = (ch2o*eh2o);\t\t\t#ch2oeh2o value\n",
      "P1 = (ph2o/(ph2o+pco2));\t\t\t#Ratio of pressures\n",
      "X = (pco2lms+ph2olms);\t\t\t#X value in m.atm\n",
      "e = 0.035;\t\t\t#Error value from Fig. 10.27 on page no.461\n",
      "et = (cco2eco2+ch2oeh2o-e);\t\t\t#Total emissivity of the gaseous mixture \n",
      "\n",
      "# Results\n",
      "print 'Emissivity of the gaseous mixture is %3.4f'%(et)"
     ],
     "language": "python",
     "metadata": {},
     "outputs": [
      {
       "output_type": "stream",
       "stream": "stdout",
       "text": [
        "Emissivity of the gaseous mixture is 0.3142\n"
       ]
      }
     ],
     "prompt_number": 27
    },
    {
     "cell_type": "heading",
     "level": 2,
     "metadata": {},
     "source": [
      "Example 10.31  Page No : 463"
     ]
    },
    {
     "cell_type": "code",
     "collapsed": false,
     "input": [
      "# Variables\n",
      "Tg = 950+273;\t\t\t#Flue gas temperature in K\n",
      "p = 1;\t\t\t#Total pressure in atm\n",
      "pco2 = 0.1;\t\t\t#Percent of co2\n",
      "ph2o = 0.04;\t\t\t#Percent of h2o\n",
      "D = 0.044;\t\t\t#Diameter of the tube in m\n",
      "e = 0.8;\t\t\t#Emissivity of grey surface \n",
      "Tw = 500+273.;\t\t\t#Uniform temperature in K\n",
      "\n",
      "# Calculations\n",
      "lms = (3*0.044);\t\t\t#lms value from Table 10.2 on page no. 457\n",
      "pco2lms = (pco2*lms);\t\t\t#pco2lms in m.atm\n",
      "ph2olms = (ph2o*lms);\t\t\t#ph2olms in m.atm\n",
      "eco2 = 0.05;\t\t\t#From Fig.10.23 on page no. 458\n",
      "eh2o = 0.005;\t\t\t#From Fig.10.24 on page no. 459\n",
      "b = 1.05;\t\t\t#Correction factor from Fig. 10.28 on page no. 461\n",
      "eg = 0.061;\t\t\t#Total emissivity of gaseous mixture\n",
      "ag = ((0.056*(Tg/Tw)**0.65)+(b*0.021));\t\t\t#Absorbtivity of the gases \n",
      "q = (0.5*(e+1)*5.67*10**-8*((eg*Tg**4)-(ag*Tw**4)));\t\t\t#Heat transfer rate by radiation in W/m**2\n",
      "hr = (q/(Tg-Tw));\t\t\t#Radiation heat transfer coefficient in W/m**2.degree C\n",
      "\n",
      "# Results\n",
      "print 'Net radiation exchange between the gas and the tube walls is %3.0f W/m**2 \\n \\\n",
      "Radiation heat transfer coefficient is %3.2f W/m**2.degree C'%(q,hr)\n",
      "\n",
      "\n"
     ],
     "language": "python",
     "metadata": {},
     "outputs": [
      {
       "output_type": "stream",
       "stream": "stdout",
       "text": [
        "Net radiation exchange between the gas and the tube walls is 5187 W/m**2 \n",
        " Radiation heat transfer coefficient is 11.53 W/m**2.degree C\n"
       ]
      }
     ],
     "prompt_number": 6
    }
   ],
   "metadata": {}
  }
 ]
}