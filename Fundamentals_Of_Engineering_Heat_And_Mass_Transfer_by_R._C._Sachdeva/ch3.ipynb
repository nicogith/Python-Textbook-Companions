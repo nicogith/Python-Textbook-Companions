{
 "metadata": {
  "name": "",
  "signature": "sha256:a4eb855d2f94bc4d3b88cc418db7aa787fc638da4c248a8ac28f23e0760aff9c"
 },
 "nbformat": 3,
 "nbformat_minor": 0,
 "worksheets": [
  {
   "cells": [
    {
     "cell_type": "heading",
     "level": 1,
     "metadata": {},
     "source": [
      "Chapter 3 : OneDimensional Steady State Heat Conduction"
     ]
    },
    {
     "cell_type": "heading",
     "level": 2,
     "metadata": {},
     "source": [
      "Example 3.1  Page No : 45"
     ]
    },
    {
     "cell_type": "code",
     "collapsed": false,
     "input": [
      "\n",
      "\n",
      "# Variables\n",
      "l = 5;\t\t    \t#Length of the wall in m\n",
      "h = 4;\t\t\t    #Height of the wall in m\n",
      "L = 0.25;\t\t\t#Thickness of the wall in m\n",
      "T = [110,40];\t\t#Temperature on the inner and outer surface in degree C\n",
      "k = 0.7;\t\t\t#Thermal conductivity in W/m.K\n",
      "x = 0.20;\t\t\t#Distance from the inner wall in m\n",
      "\n",
      "# Calculations\n",
      "A = l*h;\t\t\t                    #Arear of the wall in m**2\n",
      "Q = (k*A*(T[0]-T[1]))/L;\t    \t\t#Heat transfer rate in W\n",
      "T = (((T[1]-T[0])*x)/L)+T[0];\t\t\t#Temperature at interior point of the wall, 20 cm distant from the inner wall in degree C\n",
      "\n",
      "# Results\n",
      "print 'a)Heat transfer rate is %i W  \\n \\\n",
      "b)Temperature at interior point of the wall, 20 cm distant from the inner wall is %i degree C'%(Q, T)\n",
      "\n",
      "\n"
     ],
     "language": "python",
     "metadata": {},
     "outputs": [
      {
       "output_type": "stream",
       "stream": "stdout",
       "text": [
        "a)Heat transfer rate is 3920 W  \n",
        " b)Temperature at interior point of the wall, 20 cm distant from the inner wall is 54 degree C\n"
       ]
      }
     ],
     "prompt_number": 1
    },
    {
     "cell_type": "heading",
     "level": 2,
     "metadata": {},
     "source": [
      "Example 3.2  Page No : 48"
     ]
    },
    {
     "cell_type": "code",
     "collapsed": false,
     "input": [
      "import math \n",
      "\n",
      "# Variables\n",
      "Di = 0.05;\t\t    \t#Inner diameter of hollow cylinder in m\n",
      "Do = 0.1;\t\t\t    #Outer diameter of hollow cylinder in m\n",
      "T = [200,100];\t\t\t#Inner and outer surface temperature in degree C\n",
      "k = 70;\t\t\t        #Thermal conductivity in W/m.K\n",
      "\n",
      "# Calculations\n",
      "ro = (Do/2);\t\t\t#Outer radius of hollow cylinder in m\n",
      "ri = (Di/2);\t\t\t#Inner radius of hollow cylinder in m\n",
      "Q = ((2*3.14*k*(T[0]-T[1]))/(math.log(ro/ri)));\t\t\t#Heat transfer rate in W\n",
      "r1 = (ro+ri)/2;\t\t\t#Radius at halfway between ro and ri in m\n",
      "T1 = T[0]-((T[0]-T[1])*(math.log(r1/ri)/(math.log(ro/ri))));\t\t\t#Temperature of the point halfway between the inner and outer surface in degree C\n",
      "\n",
      "# Results\n",
      "print 'Heat transfer rate is %3.1f W /m \\n \\\n",
      "Temperature of the point halfway between the inner and outer surface is %3.1f degree C'%(Q,T1)\n",
      "\n",
      "\n"
     ],
     "language": "python",
     "metadata": {},
     "outputs": [
      {
       "output_type": "stream",
       "stream": "stdout",
       "text": [
        "Heat transfer rate is 63420.9 W /m \n",
        " Temperature of the point halfway between the inner and outer surface is 141.5 degree C\n"
       ]
      }
     ],
     "prompt_number": 3
    },
    {
     "cell_type": "heading",
     "level": 2,
     "metadata": {},
     "source": [
      "Example 3.3  Page No : 51"
     ]
    },
    {
     "cell_type": "code",
     "collapsed": false,
     "input": [
      "# Variables\n",
      "Di = 0.1;\t\t\t#Inner diameter of hollow sphere in m\n",
      "Do = 0.3;\t\t\t#Outer diameter of hollow sphere in m\n",
      "k = 50.  \t\t\t#Thermal conductivity in W/m.K\n",
      "T = [300,100];\t\t\t#Inner and outer surface temperature in degree C\n",
      "\n",
      "# Calculations\n",
      "ro = (Do/2);\t\t\t#Outer radius of hollow sphere in m\n",
      "ri = (Di/2);\t\t\t#Inner radius of hollow sphere in m\n",
      "Q = ((4*3.14*ro*ri*k*(T[0]-T[1]))/(ro-ri))/1000;\t\t\t#Heat transfer rate in W\n",
      "r = ri+(0.25*(ro-ri));\t\t\t#The value at one-fourth way of te inner and outer surfaces in m\n",
      "T = ((ro*(r-ri)*(T[1]-T[0]))/(r*(ro-ri)))+T[0];\t\t\t#Temperature at a point a quarter of the way between the inner and outer surfaces in degree C\n",
      "\n",
      "# Results\n",
      "print 'Heat flow rate through the sphere is %3.2f kW \\n \\\n",
      " Temperature at a point a quarter of the way between the inner and outer surfaces is %i degree C'%(Q,T)\n"
     ],
     "language": "python",
     "metadata": {},
     "outputs": [
      {
       "output_type": "stream",
       "stream": "stdout",
       "text": [
        "Heat flow rate through the sphere is 9.42 kW \n",
        "  Temperature at a point a quarter of the way between the inner and outer surfaces is 200 degree C\n"
       ]
      }
     ],
     "prompt_number": 4
    },
    {
     "cell_type": "heading",
     "level": 2,
     "metadata": {},
     "source": [
      "Example 3.4  Page No : 55"
     ]
    },
    {
     "cell_type": "code",
     "collapsed": false,
     "input": [
      "# Variables\n",
      "L = 0.4;\t\t\t#Thickness of the furnace in m\n",
      "T = [300,50];\t\t\t#Surface temperatures in degree C\n",
      "#k = 0.005T-5*10**-6T**2\n",
      "\n",
      "# Calculations\n",
      "q = ((1./L)*(((0.005/2)*(T[0]**2-T[1]**2))-((5*10**-6*(T[0]**3-T[1]**3))/3)));\t\t\t#Heat loss per square meter surface area in W/m**2\n",
      "\n",
      "# Results\n",
      "print 'Heat loss per square meter surface area is %3.0f W/m**2'%(q)\n",
      "\n"
     ],
     "language": "python",
     "metadata": {},
     "outputs": [
      {
       "output_type": "stream",
       "stream": "stdout",
       "text": [
        "Heat loss per square meter surface area is 435 W/m**2\n"
       ]
      }
     ],
     "prompt_number": 1
    },
    {
     "cell_type": "heading",
     "level": 2,
     "metadata": {},
     "source": [
      "Example 3.5  Page No : 55"
     ]
    },
    {
     "cell_type": "code",
     "collapsed": false,
     "input": [
      "# Variables\n",
      "L = 0.2;\t\t\t    #Thickness of the wall in m\n",
      "T = [1000,200];\t\t\t#Surface temperatures in degree C\n",
      "ko = 0.813;\t\t\t    #Value of thermal conductivity at T = 0 in W/m.K\n",
      "b = 0.0007158;\t\t\t#Temperature coefficient of thermal conductivity in 1./K\n",
      "\n",
      "# Calculations\n",
      "km = ko*(1+((b*(T[0]+T[1]))/2));\t\t\t#Constant thermal conductivity in W/m.K\n",
      "q = ((km*(T[0]-T[1]))/L);\t\t\t        #Rate of heat flow in W/m**2\n",
      "\n",
      "# Results\n",
      "print 'Rate of heat flow is %3.0f W/m**2'%(q)\n",
      "\n",
      "\n"
     ],
     "language": "python",
     "metadata": {},
     "outputs": [
      {
       "output_type": "stream",
       "stream": "stdout",
       "text": [
        "Rate of heat flow is 4649 W/m**2\n"
       ]
      }
     ],
     "prompt_number": 6
    },
    {
     "cell_type": "heading",
     "level": 2,
     "metadata": {},
     "source": [
      "Example 3.6  Page No : 58"
     ]
    },
    {
     "cell_type": "code",
     "collapsed": false,
     "input": [
      "import math\n",
      "# Variables\n",
      "r = [0.01,0.02];\t\t\t#Inner and outer radius of a copper cylinder in m\n",
      "T = [310,290];\t\t\t#Inner and Outer surface temperature in degree C\n",
      "ko = 371.9;\t\t\t#Value of thermal conductivity at T = 0 in W/m.K\n",
      "b = (9.25*10**-5);\t\t\t#Temperature coefficient of thermal conductivity in 1./K\n",
      "\n",
      "# Calculations\n",
      "Tm = ((T[0]-150)+(T[1]-150))/2;\t\t\t#Mean temperature in degree C\n",
      "km = ko*(1-(b*Tm));\t\t\t            #Constant thermal conductivity in W/m.K\n",
      "q = ((2*3.14*km*(T[0]-T[1]))/math.log(r[1]/r[0]))/1000;\t\t\t#Heat loss per unit length in kW/m\n",
      "\n",
      "# Results\n",
      "print 'Heat loss per unit length is %3.2f kW/m'%(q)\n"
     ],
     "language": "python",
     "metadata": {},
     "outputs": [
      {
       "output_type": "stream",
       "stream": "stdout",
       "text": [
        "Heat loss per unit length is 66.45 kW/m\n"
       ]
      }
     ],
     "prompt_number": 7
    },
    {
     "cell_type": "heading",
     "level": 2,
     "metadata": {},
     "source": [
      "Example 3.8  Page No : 63"
     ]
    },
    {
     "cell_type": "code",
     "collapsed": false,
     "input": [
      "# Variables\n",
      "L1 = 0.5;\t\t    \t#Thickness of the wall in m\n",
      "k1 = 1.4;\t\t\t    #Thermal conductivity in W/m.K\n",
      "k2 = 0.35;\t\t\t    #Thermal conductivity of insulating material in W/m.K\n",
      "q = 1450.;\t\t\t    #Heat loss per square metre in W\n",
      "T = [1200,15];\t\t\t#Inner and outer surface temperatures in degree C\n",
      "\n",
      "# Calculations\n",
      "L2 = (((T[0]-T[1])/q)-(L1/k1))*k2;\t\t\t#Thickness of the insulation required in m\n",
      "\n",
      "# Results\n",
      "print 'Thickness of the insulation required is %3.3f m'%(L2)\n",
      "\n",
      "\n"
     ],
     "language": "python",
     "metadata": {},
     "outputs": [
      {
       "output_type": "stream",
       "stream": "stdout",
       "text": [
        "Thickness of the insulation required is 0.161 m\n"
       ]
      }
     ],
     "prompt_number": 1
    },
    {
     "cell_type": "heading",
     "level": 2,
     "metadata": {},
     "source": [
      "Example 3.9  Page No : 64"
     ]
    },
    {
     "cell_type": "code",
     "collapsed": false,
     "input": [
      "# Variables\n",
      "L1 = 0.006; \t\t\t#Thickness of each glass sheet in m\n",
      "L2 = 0.002;\t    \t\t#Thickness of air gap in m\n",
      "Tb = -20;\t\t    \t#Temperature of the air inside the room in degree C\n",
      "Ta = 30;\t\t\t    #Ambient temperature of air in degree C\n",
      "ha = 23.26;\t\t\t    #Heat transfer coefficient between glass and air in W/m**2.K\n",
      "kglass = 0.75;\t\t\t#Thermal conductivity of glass in W/m.K\n",
      "kair = 0.02;\t\t\t#Thermal conductivity of air in W/m.K\n",
      "\n",
      "# Calculations\n",
      "q = ((Ta-Tb)/((1./ha)+(L1/kglass)+(L2/kair)+(L1/kglass)+(1./ha)));\t\t\t#Rate of heat leaking into the room per unit area of the door in W/m**2\n",
      "\n",
      "# Results\n",
      "print 'Rate of heat leaking into the room per unit area of the door is %3.1f W/m**2'%(q)\n"
     ],
     "language": "python",
     "metadata": {},
     "outputs": [
      {
       "output_type": "stream",
       "stream": "stdout",
       "text": [
        "Rate of heat leaking into the room per unit area of the door is 247.5 W/m**2\n"
       ]
      }
     ],
     "prompt_number": 13
    },
    {
     "cell_type": "heading",
     "level": 2,
     "metadata": {},
     "source": [
      "Example 3.10  Page No : 65"
     ]
    },
    {
     "cell_type": "code",
     "collapsed": false,
     "input": [
      "# Variables\n",
      "LA = 0.05;\t\t\t#Length of section A in m\n",
      "LB = 0.1;\t\t\t#Length of section A in m\n",
      "LC = 0.1;\t\t\t#Length of section A in m\n",
      "LD = 0.05;\t\t\t#Length of section A in m\n",
      "LE = 0.05;\t\t\t#Length of section A in m\n",
      "kA = 50;\t\t\t#Thermal conductivity of section A in W/m.K\n",
      "kB = 10;\t\t\t#Thermal conductivity of section B in W/m.K\n",
      "kC = 6.67;\t\t\t#Thermal conductivity of section C in W/m.K\n",
      "kD = 20;\t\t\t#Thermal conductivity of section D in W/m.K\n",
      "kE = 30;\t\t\t#Thermal conductivity of section E in W/m.K\n",
      "Aa = 1;\t\t\t#Area of section A in m**2\n",
      "Ab = 0.5;\t\t\t#Area of section B in m**2\n",
      "Ac = 0.5;\t\t\t#Area of section C in m**2\n",
      "Ad = 1;\t\t\t#Area of section D in m**2\n",
      "Ae = 1;\t\t\t#Area of section E in m**2\n",
      "T = [800,100];\t\t\t#Temperature at inlet and outlet temperatures in degree C\n",
      "\n",
      "# Calculations\n",
      "Ra = (LA/(kA*Aa));  \t\t\t#Thermal Resistance of section A in K/W\n",
      "Rb = (LB/(kB*Ab));\t    \t\t#Thermal Resistance of section B in K/W\n",
      "Rc = (LC/(kC*Ac));\t\t    \t#Thermal Resistance of section C in K/W\n",
      "Rd = (LD/(kD*Ad));\t\t\t    #Thermal Resistance of section D in K/W\n",
      "Re = (LE/(kE*Ae));\t\t    \t#Thermal Resistance of section E in K/W\n",
      "Rf = ((Rb*Rc)/(Rb+Rc));\t\t\t#Equivalent resistance of section B and section C in K/W\n",
      "R = Ra+Rf+Rd+Re;\t\t\t    #Equivalent resistance of all sections in K/W\n",
      "Q = ((T[0]-T[1])/R)/1000;\t\t\t#Heat transfer through the composite wall in kW\n",
      "\n",
      "# Results\n",
      "print 'Heat transfer through the composite wall is %3.1f kW'%(Q)\n"
     ],
     "language": "python",
     "metadata": {},
     "outputs": [
      {
       "output_type": "stream",
       "stream": "stdout",
       "text": [
        "Heat transfer through the composite wall is 40.8 kW\n"
       ]
      }
     ],
     "prompt_number": 14
    },
    {
     "cell_type": "heading",
     "level": 2,
     "metadata": {},
     "source": [
      "Example 3.11  Page No : 66"
     ]
    },
    {
     "cell_type": "code",
     "collapsed": false,
     "input": [
      "# Variables\n",
      "T1 = 2000;\t\t\t#Temperature of hot gas in degree C\n",
      "Ta = 45;\t\t\t#Room air temperature in degree C\n",
      "Qr1 = 23.260;\t\t\t#Heat flow by radiation from gases to inside surface of the wall in kW/m**2\n",
      "h = 11.63;\t\t\t#Convective heat transfer coefficient in W/m**2.\n",
      "C = 58;\t\t\t#Thermal conductance of the wall in W/m**2.K\n",
      "Q = 9.3;\t\t\t#Heat flow by radiation from external surface to the surrounding in kW.m**2\n",
      "T2 = 1000;\t\t\t#Interior wall temperature in degree C\n",
      "\n",
      "# Calculations\n",
      "qr1 = Qr1;\t\t\t#Haet by radiation in kW/m**2\n",
      "qc1 = h*((T1-T2)/1000);\t\t\t#Heat by conduction in kW/m**2\n",
      "q = qc1+qr1;\t\t\t#Total heat entering the wall in kW/m**2\n",
      "R = (1./C);\t\t\t#Thermal resistance in m**2.K/W\n",
      "T3 = T2-(q*R*1000);\t\t\t#External wall temperature in degree C\n",
      "Ql = q-Q;\t\t\t#Heat loss due to convection kW/m**2\n",
      "h4 = (Ql*1000)/(T3-Ta);\t\t\t#Convective conductance in W/m**2.K\n",
      "\n",
      "# Results\n",
      "print 'The surface temperature is %i degree C \\n \\\n",
      "The convective conductance is %3.1f W/m**2.K'%(T3,h4)\n"
     ],
     "language": "python",
     "metadata": {},
     "outputs": [
      {
       "output_type": "stream",
       "stream": "stdout",
       "text": [
        "The surface temperature is 398 degree C \n",
        " The convective conductance is 72.4 W/m**2.K\n"
       ]
      }
     ],
     "prompt_number": 2
    },
    {
     "cell_type": "heading",
     "level": 2,
     "metadata": {},
     "source": [
      "Example 3.12  Page No : 67"
     ]
    },
    {
     "cell_type": "code",
     "collapsed": false,
     "input": [
      "# Variables\n",
      "L1 = 0.125;\t\t\t#Thickness of fireclay layer in m\n",
      "L2 = 0.5;\t\t\t#Thickness of red brick layer in m\n",
      "T = [1100,50];\t\t\t#Temperatures at inside and outside the furnaces in degree C\n",
      "k1 = 0.533;\t\t\t#Thermal conductivity of fireclay in W/m.K\n",
      "k2 = 0.7;\t\t\t#Thermal conductivity of red brick in W/m.K\n",
      "\n",
      "# Calculations\n",
      "R1 = (L1/k1);\t\t\t#Resismath.tance of fireclay per unit area in K/W\n",
      "R2 = (L2/k2);\t\t\t#Resistance of red brick per unit area in K/W\n",
      "R = R1+R2;\t\t\t#Total resistance in K/W\n",
      "q = (T[0]-T[1])/R;\t\t\t#Heat transfer in W/m**2\n",
      "T2 =  T[0]-(q*R1);\t\t\t#Temperature in degree C\n",
      "T3 = T[1]+(q*R2*0.5);\t\t\t#Temperature at the interface between the two layers in degree C\n",
      "km = 0.113+(0.00023*((T2+T3)/2));\t\t\t#Mean thermal conductivity in W/m.K\n",
      "x = ((T2-T3)/q)*km;\t\t\t#Thickness of diatomite in m\n",
      "\n",
      "# Results\n",
      "print 'Amount of heat loss is %3.1f W/m**2  \\n \\\n",
      "Thickness of diatomite is %3.4f m'%(q,x )\n",
      "\n",
      "\n"
     ],
     "language": "python",
     "metadata": {},
     "outputs": [
      {
       "output_type": "stream",
       "stream": "stdout",
       "text": [
        "Amount of heat loss is 1106.7 W/m**2  \n",
        " Thickness of diatomite is 0.0932 m\n"
       ]
      }
     ],
     "prompt_number": 17
    },
    {
     "cell_type": "heading",
     "level": 2,
     "metadata": {},
     "source": [
      "Example 3.13  Page No : 70"
     ]
    },
    {
     "cell_type": "code",
     "collapsed": false,
     "input": [
      "import math\n",
      "# Variables\n",
      "Di = 0.1;\t\t\t#I.D of the pipe in m\n",
      "L = 0.01;\t\t\t#Thickness of the wall in m\n",
      "L1 = 0.03;\t\t\t#Thickness of insulation in m\n",
      "Ta = 85;\t\t\t#Temperature of hot liquid in degree C\n",
      "Tb = 25;\t\t\t#Temperature of surroundings in degree C\n",
      "k1 = 58;\t\t\t#Thermal conductivity of steel in W/m.K\n",
      "k2 = 0.2;\t\t\t#Thermal conductivity of insulating material in W/m.K\n",
      "ha = 720;\t\t\t#Inside heat transfer coefficient in W/m**2.K\n",
      "hb = 9;\t\t\t    #Outside heat transfer coefficient in W/m**2.K\n",
      "D2 = 0.12;\t\t\t#Inner diameter in m\n",
      "r3 = 0.09;\t\t\t#Radius in m\n",
      "\n",
      "# Calculations\n",
      "q = ((2*3.14*(Ta-Tb))/((1./(ha*(Di/2)))+(1./(hb*r3))+(math.log(D2/Di)/k1)+(math.log(r3/(D2/2))/k2)));\t\t\t#Heat loss fro an insulated pipe in W/m\n",
      "\n",
      "# Results\n",
      "print 'Heat loss from an insulated pipe is %3.2f W/m'%(q)"
     ],
     "language": "python",
     "metadata": {},
     "outputs": [
      {
       "output_type": "stream",
       "stream": "stdout",
       "text": [
        "Heat loss from an insulated pipe is 114.43 W/m\n"
       ]
      }
     ],
     "prompt_number": 3
    },
    {
     "cell_type": "heading",
     "level": 2,
     "metadata": {},
     "source": [
      "Example 3.14  Page No : 71"
     ]
    },
    {
     "cell_type": "code",
     "collapsed": false,
     "input": [
      "import math\n",
      "\n",
      "# Variables\n",
      "Di = 0.1;\t\t\t#I.D of the pipe in m\n",
      "Do = 0.11;\t\t\t#O.D of the pipe in m\n",
      "L = 0.005;\t\t\t#Thickness of the wall in m\n",
      "k1 = 50;\t\t\t#Thermal conductivity of steel pipe line in W/m.K\n",
      "k2 = 0.06;\t\t\t#Thermal conductivity of first insulating material in W/m.K\n",
      "k3 = 0.12;\t\t\t#Thermal conductivity of second insulating material in W/m.K\n",
      "T = [250,50];\t\t\t#Temperature at inside tube surface and outside surface of insulation in degree C\n",
      "r3 = 0.105;\t\t\t#Radius of r3 in m as shown in fig.3.14 on page no.71\n",
      "r4 = 0.155;\t\t\t#Radius of r4 in m as shown in fig.3.14 on page no.71\n",
      "\n",
      "# Calculations\n",
      "r1 = (Di/2);\t\t\t#Radius of the pipe in m\n",
      "r2 = (Do/2);\t\t\t#Radius of the pipe in m\n",
      "q = ((2*3.14*(T[0]-T[1]))/(((math.log(r2/r1))/k1)+((math.log(r3/r2))/k2)+((math.log(r4/r3))/k3)));\t\t\t#Loss of heat per metre length of pipe in W/m\n",
      "T3 = ((q*math.log(r4/r3))/(2*3.14*k3))+T[1];\t\t\t#Interface temperature in degree C\n",
      "\n",
      "# Results\n",
      "print 'Loss of heat per metre length of pipe is %3.1f W/m  \\n \\\n",
      "Interface temperature is %3.1f degree C'%(q,T3)"
     ],
     "language": "python",
     "metadata": {},
     "outputs": [
      {
       "output_type": "stream",
       "stream": "stdout",
       "text": [
        "Loss of heat per metre length of pipe is 89.6 W/m  \n",
        " Interface temperature is 96.3 degree C\n"
       ]
      }
     ],
     "prompt_number": 21
    },
    {
     "cell_type": "heading",
     "level": 2,
     "metadata": {},
     "source": [
      "Example 3.15  Page No : 72"
     ]
    },
    {
     "cell_type": "code",
     "collapsed": false,
     "input": [
      "import math\n",
      "\n",
      "# Variables\n",
      "Di = 0.1;\t\t\t#I.D of the pipe in m\n",
      "Do = 0.11;\t\t\t#O.D of the pipe in m\n",
      "L = 0.005;\t\t\t#Thickness of the wall in m\n",
      "k1 = 50;\t\t\t#Thermal conductivity of steel pipe line in W/m.K\n",
      "k3 = 0.06;\t\t\t#Thermal conductivity of first insulating material in W/m.K\n",
      "k2 = 0.12;\t\t\t#Thermal conductivity of second insulating material in W/m.K\n",
      "T = [250,50];\t\t\t#Temperature at inside tube surface and outside surface of insulation in degree C\n",
      "r3 = 0.105;\t\t\t#Radius of r3 in m as shown in fig.3.14 on page no.71\n",
      "r4 = 0.155;\t\t\t#Radius of r4 in m as shown in fig.3.14 on page no.71\n",
      "\n",
      "# Calculations\n",
      "r1 = (Di/2);\t\t\t#Radius of the pipe in m\n",
      "r2 = (Do/2);\t\t\t#Radius of the pipe in m\n",
      "q = ((2*3.14*(T[0]-T[1]))/(((math.log(r2/r1))/k1)+((math.log(r3/r2))/k2)+((math.log(r4/r3))/k3)));\t\t\t#Loss of heat per metre length of pipe in W/m\n",
      "\n",
      "# Results\n",
      "print 'Loss of heat per metre length of pipe is %3.2f W/m'%(q)\n",
      "\n"
     ],
     "language": "python",
     "metadata": {},
     "outputs": [
      {
       "output_type": "stream",
       "stream": "stdout",
       "text": [
        "Loss of heat per metre length of pipe is 105.71 W/m\n"
       ]
      }
     ],
     "prompt_number": 22
    },
    {
     "cell_type": "heading",
     "level": 2,
     "metadata": {},
     "source": [
      "Example 3.16  Page No : 73"
     ]
    },
    {
     "cell_type": "code",
     "collapsed": false,
     "input": [
      "import math\n",
      "\n",
      "# Variables\n",
      "D1 = 0.1;\t\t\t#O.D of the pipe in m\n",
      "P = 1373;\t\t\t#Pressure of saturated steam in kPa\n",
      "D2 = 0.2;\t\t\t#Diameter of magnesia in m\n",
      "k1 = 0.07;\t\t\t#Thermal conductivity of magnesia in W/m.K\n",
      "k2 = 0.08;\t\t\t#Thermal conductivity of asbestos in W/m.K\n",
      "D3 = 0.25;\t\t\t#Diameter of asbestos in m\n",
      "T3 = 20;\t\t\t#Temerature under the canvas in degree C\n",
      "t = 12;\t\t\t    #Time for condensation in hours\n",
      "l = 150;\t\t\t#Lemgth of pipe in m\n",
      "T1 = 194.14;\t\t\t#Saturation temperature of steam in degree C from Table A.6 (Appendix A) at 1373 kPa on page no. 643\n",
      "hfg = 1963.15;\t\t\t#Latent heat of steam in kJ/kg from Table A.6 (Appendix A) at 1373 kPa on page no. 643\n",
      "\n",
      "# Calculations\n",
      "r1 = (D1/2);\t\t\t#Radius of the pipe in m\n",
      "r2 = (D2/2);\t\t\t#Radius of magnesia in m\n",
      "r3 = (D3/2);\t\t\t#Radius of asbestos in m\n",
      "Q = (((2*3.14*l*(T1-T3))/((math.log(r2/r1)/k1)+(math.log(r3/r2)/k2)))*(3600./1000));\t\t\t#Heat transfer rate in kJ/h\n",
      "m = (Q/hfg);\t\t\t#Mass of steam condensed per hour\n",
      "m1 = (m*t);\t\t\t#Mass of steam condensed in 12 hours\n",
      "\n",
      "# Results\n",
      "print 'Mass of steam condensed in 12 hours is %3.2f kg'%(m1)\n",
      "\n",
      "\n"
     ],
     "language": "python",
     "metadata": {},
     "outputs": [
      {
       "output_type": "stream",
       "stream": "stdout",
       "text": [
        "Mass of steam condensed in 12 hours is 284.43 kg\n"
       ]
      }
     ],
     "prompt_number": 24
    },
    {
     "cell_type": "heading",
     "level": 2,
     "metadata": {},
     "source": [
      "Example 3.17  Page No : 74"
     ]
    },
    {
     "cell_type": "code",
     "collapsed": false,
     "input": [
      "# Variables\n",
      "D1 = 0.1;\t\t\t#I.D of the first pipe in m\n",
      "D2 = 0.3;\t\t\t#O.D of the first pipe in m\n",
      "k1 = 70;\t\t\t#Thermal conductivity of first material in W/m.K\n",
      "D3 = 0.4;\t\t\t#O.D of the second pipe in m\n",
      "k2 = 15;\t\t\t#Thermal conductivity of second material in W/m.K\n",
      "T = [300,30];\t\t\t#Inside and outside temperatures in degree C\n",
      "\n",
      "# Calculations\n",
      "r1 = (D1/2);\t\t\t#Inner Radius of first pipe in m\n",
      "r2 = (D2/2);\t\t\t#Outer Radius of first pipe in m\n",
      "r3 = (D3/2);\t\t\t#Radius of second pipe in m\n",
      "Q = ((4*3.14*(T[0]-T[1]))/(((r2-r1)/(k1*r1*r2))+((r3-r2)/(k2*r2*r3))))/1000;\t\t\t#Rate of heat flow through the sphere in kW\n",
      "\n",
      "# Results\n",
      "print 'Rate of heat flow through the sphere is %3.2f kW'%(Q)\n",
      "\n",
      "\n"
     ],
     "language": "python",
     "metadata": {},
     "outputs": [
      {
       "output_type": "stream",
       "stream": "stdout",
       "text": [
        "Rate of heat flow through the sphere is 11.24 kW\n"
       ]
      }
     ],
     "prompt_number": 26
    },
    {
     "cell_type": "heading",
     "level": 2,
     "metadata": {},
     "source": [
      "Example 3.18  Page No : 77"
     ]
    },
    {
     "cell_type": "code",
     "collapsed": false,
     "input": [
      "import math\n",
      "\n",
      "# Variables\n",
      "Di = 0.1;\t\t\t#I.D of a steam pipe in m\n",
      "Do = 0.25;\t\t\t#I.D of a steam pipe in m\n",
      "k = 1.;\t\t\t#Thermal conductivity of insulating material in W/m.K\n",
      "T = [200.,20];\t\t\t#Steam temperature and ambient temperatures in degree C\n",
      "h = 8.;\t\t\t#Convective heat transfer coefficient between the insulation surface and air in W/m**2.K\n",
      "\n",
      "# Calculations\n",
      "ri = (Di/2);\t\t\t#Inner Radius of steam pipe in m\n",
      "ro = (Do/2);\t\t\t#Outer Radius of steam pipe in m\n",
      "rc = (k/h)*100;\t\t\t#Critical radius of insulation in cm\n",
      "q = ((T[0]-T[1])/((math.log(ro/ri)/(2*3.14*k)+(1./(2*3.14*ro*h)))));\t\t\t#Heat loss per metre of pipe at critical radius in W/m\n",
      "Ro = (q/(2*3.14*ro*h))+T[1];\t\t\t#Outer surface temperature in degree C\n",
      "\n",
      "# Results\n",
      "print 'Heat loss per metre of pipe at critical radius is %i W/m  \\n \\\n",
      "Outer surface temperature is %3.2f degree C'%(q,Ro)\n",
      "\n",
      "# Note : Answer in book is wrong. Please check manually."
     ],
     "language": "python",
     "metadata": {},
     "outputs": [
      {
       "output_type": "stream",
       "stream": "stdout",
       "text": [
        "Heat loss per metre of pipe at critical radius is 589 W/m  \n",
        " Outer surface temperature is 113.93 degree C\n"
       ]
      }
     ],
     "prompt_number": 8
    },
    {
     "cell_type": "heading",
     "level": 2,
     "metadata": {},
     "source": [
      "Example 3.19  Page No : 78"
     ]
    },
    {
     "cell_type": "code",
     "collapsed": false,
     "input": [
      "import math\n",
      "\n",
      "# Variables\n",
      "Di = 0.001;\t\t    \t#Diameter of copper wire in m\n",
      "t = 0.001;\t\t    \t#Thickness of insulation in m;\n",
      "To = 20;\t\t    \t#Temperature of surrondings in degree C\n",
      "Ti = 80;\t\t    \t#Maximum temperature of the plastic in degree C\n",
      "kcopper = 400;\t\t\t#Thermal conductivity of copper in W/m.K\n",
      "kplastic = 0.5;\t\t\t#Thermal conductivity of plastic in W/m.K\n",
      "h = 8;\t        \t\t#Heat transfer coefficient in W/m**2.K\n",
      "p = (3*10**-8);\t\t\t#Specific electric resistance of copper in Ohm.m\n",
      "\n",
      "# Calculations\n",
      "r = (Di/2);\t\t\t#Radius of copper tube in m\n",
      "ro = (r+t);\t\t\t#Radius in m \n",
      "R = (p/(3.14*r*r*0.01));\t\t\t#Electrical resistance per meter length in ohm/m\n",
      "Rth = ((1./(2*3.14*ro*h))+(math.log(ro/r)/(2*3.14*kplastic)));\t\t\t#Thermal resistance of convection film insulation per metre length \n",
      "Q = ((Ti-To)/Rth);\t\t\t#Heat transfer in W\n",
      "I = math.sqrt(Q/R);\t\t\t#Maximum safe current limit in A\n",
      "rc = ((kplastic*100)/h);\t\t\t#Critical radius in cm\n",
      "\n",
      "# Results\n",
      "print 'The maximum safe current limit is %3.3f A  \\n \\\n",
      "As the critical radius of insulation is much greater,the current carrying capacity of the conductor can be raised upto %3.1f cm \\n \\\n",
      "considerably in increasing the radius of plastic covering'%(I,rc)\n",
      "\n",
      "\n"
     ],
     "language": "python",
     "metadata": {},
     "outputs": [
      {
       "output_type": "stream",
       "stream": "stdout",
       "text": [
        "The maximum safe current limit is 1.074 A  \n",
        " As the critical radius of insulation is much greater,the current carrying capacity of the conductor can be raised upto 6.2 cm \n",
        " considerably in increasing the radius of plastic covering\n"
       ]
      }
     ],
     "prompt_number": 6
    },
    {
     "cell_type": "heading",
     "level": 2,
     "metadata": {},
     "source": [
      "Example 3.20  Page No : 83"
     ]
    },
    {
     "cell_type": "code",
     "collapsed": false,
     "input": [
      "# Variables\n",
      "L = 0.1;\t\t\t#Thickness of the wall in m\n",
      "Q = (4*10**4);\t\t\t#Heat transfer rate in W/m**3\n",
      "h = 50;\t\t\t#Convective heat transfer coefficient in W/m**2.K\n",
      "T = 20;\t\t\t#Ambient air temperature in degree C\n",
      "k = 15;\t\t\t#Thermal conductivity of the material in W/m.K\n",
      "\n",
      "# Calculations\n",
      "Tw = (T+((Q*L)/(2*h)));\t\t\t#Surface temperature in degree C\n",
      "Tmax = (Tw+((Q*L*L)/(8*k)));\t\t\t#Maximum temperature in the wall in degree C\n",
      "\n",
      "# Results\n",
      "print 'Surface temperature is %i degree C \\nMaximum temperature in the wall is %3.3f degree C'%(Tw,Tmax)\n"
     ],
     "language": "python",
     "metadata": {},
     "outputs": [
      {
       "output_type": "stream",
       "stream": "stdout",
       "text": [
        "Surface temperature is 60 degree C \n",
        "Maximum temperature in the wall is 63.333 degree C\n"
       ]
      }
     ],
     "prompt_number": 7
    },
    {
     "cell_type": "heading",
     "level": 2,
     "metadata": {},
     "source": [
      "Example 3.21  Page No : 85"
     ]
    },
    {
     "cell_type": "code",
     "collapsed": false,
     "input": [
      "import math\n",
      "\n",
      "# Variables\n",
      "Do = 0.006;\t\t\t#Outer diameter of hallow cylinder in m\n",
      "Di = 0.004;\t\t\t#Inner diameter of hallow cylinder in m\n",
      "I = 1000;\t\t\t#Current in A\n",
      "T = 30;\t\t\t#Temperature of water in degree C\n",
      "h = 35000;\t\t\t#Heat transfer coefficient in W/m**2.K\n",
      "k = 18;\t\t\t#Thermal conductivity of the material in W/m.K\n",
      "R = 0.1;\t\t\t#Electrical reisitivity of the material in ohm.mm**2/m\n",
      "\n",
      "# Calculations\n",
      "ro = (Do/2);\t\t\t#Outer radius of hallow cylinder in m\n",
      "ri = (Di/2);\t\t\t#Inner radius of hallow cylinder in m\n",
      "V = ((3.14*(ro**2-ri**2)));\t\t\t#Vol. of wire in m**2\n",
      "Rth = (R/(3.14*(ro**2-ri**2)*10**6));\t\t\t#Resistivity in ohm/mm**2\n",
      "q = ((I*I*Rth)/V);\t\t\t#Heat transfer rate in W/m**3\n",
      "To = T+(((q*ri*ri)/(4*k))*((((2*k)/(h*ri))-1)*((ro/ri)**2-1)+(2*(ro/ri)**2*math.log(ro/ri))));\t\t\t#Temperature at the outer surface in degree C\n",
      "\n",
      "# Results\n",
      "print 'Temperature at the outer surface is %3.2f degree C'%(To)"
     ],
     "language": "python",
     "metadata": {},
     "outputs": [
      {
       "output_type": "stream",
       "stream": "stdout",
       "text": [
        "Temperature at the outer surface is 57.44 degree C\n"
       ]
      }
     ],
     "prompt_number": 31
    },
    {
     "cell_type": "heading",
     "level": 2,
     "metadata": {},
     "source": [
      "Example 3.22  Page No : 88"
     ]
    },
    {
     "cell_type": "code",
     "collapsed": false,
     "input": [
      "# Variables\n",
      "D = 0.025;\t\t\t#Diameter of annealed copper wire in m\n",
      "I = 200;\t\t\t#Current in A\n",
      "R = (0.4*10**-4);\t#Resistance in ohm/cm\n",
      "T = [200,10];\t\t#Surface temperature and ambient temperature in degree C\n",
      "k = 160;\t\t\t#Thermal conductivity in W/m.K\n",
      "\n",
      "# Calculations\n",
      "r = (D/2);\t\t\t#Radius of annealed copper wire in m\n",
      "Q = (I*I*R*100);\t#Heat transfer rate in W/m\n",
      "V = (3.14*r*r);\t    #Vol. of wire in m**2\n",
      "q = (Q/V);\t\t\t#Heat loss in conductor in W/m**2\n",
      "Tc = T[0]+((q*r*r)/(4*k));\t\t\t#Maximum temperature in the wire in degree C\n",
      "h = ((r*q)/(2*(T[0]-T[1])));\t\t#Heat transfer coefficient in W/m**2.K\n",
      "\n",
      "# Results\n",
      "print 'Maximum temperature in the wire is %3.2f degree C  \\nHeat transfer coefficient is %3.2f W/m**2.K'%(Tc,h)"
     ],
     "language": "python",
     "metadata": {},
     "outputs": [
      {
       "output_type": "stream",
       "stream": "stdout",
       "text": [
        "Maximum temperature in the wire is 200.08 degree C  \n",
        "Heat transfer coefficient is 10.73 W/m**2.K\n"
       ]
      }
     ],
     "prompt_number": 8
    },
    {
     "cell_type": "heading",
     "level": 2,
     "metadata": {},
     "source": [
      "Example 3.23  Page No : 89"
     ]
    },
    {
     "cell_type": "code",
     "collapsed": false,
     "input": [
      "import math\n",
      "\n",
      "# Variables\n",
      "p = 100.;\t\t\t#Resistivity of nichrome in \u00b5 ohm-cm \n",
      "Q = 10000.;\t\t\t#Heat input of a heater in W\n",
      "T = 1220.;\t\t\t#Surface temperature of nichrome in degree C\n",
      "Ta = 20.;\t\t\t#Temperature of surrounding air in degree C\n",
      "h = 1150.;\t\t\t#Outside surface coeffient in W/m**2.K\n",
      "k = 17.;\t\t\t#Thermal conductivity of nichrome in W/m.K\n",
      "L = 1.; \t\t\t#Length of heater in m\n",
      "\n",
      "# Calculations\n",
      "d = (Q/((T-Ta)*3.14*h))*1000;\t#Diameter of nichrome wire in mm\n",
      "A = (3.14*d*d)/4;\t\t\t    #Area of the wire in m**2\n",
      "R = ((p*10**-8*L)/A);\t\t\t#Resistance of the wire in ohm\n",
      "I = math.sqrt(Q/R)/1000;\t\t#Rate of current flow in A\n",
      "\n",
      "# Results\n",
      "print 'Diameter of nichrome wire is %3.4f mm  \\n \\\n",
      "Rate of current flow is %i A'%(d,I)"
     ],
     "language": "python",
     "metadata": {},
     "outputs": [
      {
       "output_type": "stream",
       "stream": "stdout",
       "text": [
        "Diameter of nichrome wire is 2.3078 mm  \n",
        " Rate of current flow is 204 A\n"
       ]
      }
     ],
     "prompt_number": 33
    },
    {
     "cell_type": "heading",
     "level": 2,
     "metadata": {},
     "source": [
      "Example 3.24  Page No : 93"
     ]
    },
    {
     "cell_type": "code",
     "collapsed": false,
     "input": [
      "# Variables\n",
      "Do = 0.025;\t\t\t#O.D of the rod in m\n",
      "k = 20;\t\t\t#Thermal conductivity in W/m.K\n",
      "Q = (2.5*10**6);\t\t\t#Rate of heat removal in W/m**2\n",
      "\n",
      "# Calculations\n",
      "ro = (Do/2);\t\t\t#Outer radius of the rod in m\n",
      "q = ((4*Q)/(ro));\t\t\t#Heat transfer rate in W/m**3\n",
      "T = ((-3*q*ro**2)/(16*k));\t\t\t#Temperature drop from the centre line to the surface in degree C\n",
      "\n",
      "# Results\n",
      "print 'Temperature drop from the centre line to the surface is %3.3f degree C'%(T)\n"
     ],
     "language": "python",
     "metadata": {},
     "outputs": [
      {
       "output_type": "stream",
       "stream": "stdout",
       "text": [
        "Temperature drop from the centre line to the surface is -1171.875 degree C\n"
       ]
      }
     ],
     "prompt_number": 34
    },
    {
     "cell_type": "heading",
     "level": 2,
     "metadata": {},
     "source": [
      "Example 3.25  Page No : 95"
     ]
    },
    {
     "cell_type": "code",
     "collapsed": false,
     "input": [
      "# Variables\n",
      "Q = 300;\t\t\t#Heat produced by the oranges in W/m**2\n",
      "s = 0.08;\t\t\t#Size of the orange in m\n",
      "k = 0.15;\t\t\t#Thermal conductivity of the sphere in W/m.K\n",
      "\n",
      "# Calculations\n",
      "q = (3*Q)/(s/2);\t\t\t#Heat flux in W/m**2\n",
      "Tc = 10+((q*(s/2)**2)/(6*k));\t\t\t#Temperature at the centre of the sphere in degree C\n",
      "\n",
      "# Results\n",
      "print 'Temperature at the centre of the orange is %i degree C'%(Tc)"
     ],
     "language": "python",
     "metadata": {},
     "outputs": [
      {
       "output_type": "stream",
       "stream": "stdout",
       "text": [
        "Temperature at the centre of the orange is 50 degree C\n"
       ]
      }
     ],
     "prompt_number": 35
    },
    {
     "cell_type": "heading",
     "level": 2,
     "metadata": {},
     "source": [
      "Example 3.26  Page No : 102"
     ]
    },
    {
     "cell_type": "code",
     "collapsed": false,
     "input": [
      "import math\n",
      "\n",
      "# Variables\n",
      "To = 140;\t\t\t#Temperature at the junction in degree C\n",
      "Ti = 15;\t\t\t#Temperature of air in the room in degree C\n",
      "D = 0.003;\t\t\t#Diameter of the rod in m\n",
      "h = 300;\t\t\t#Heat transfer coefficient in W/m**2.K\n",
      "k = 150;\t\t\t#Thermal conductivity in W/m.K\n",
      "\n",
      "# Calculations\n",
      "P = (3.14*D);\t\t\t#Perimeter of the rod in m\n",
      "A = (3.14*D**2)/4;\t\t\t#Area of the rod in m**2\n",
      "Q = math.sqrt(h*P*k*A)*(To-Ti);\t\t\t#Total heat dissipated by the rod in W\n",
      "\n",
      "# Results\n",
      "print 'Total heat dissipated by the rod is %3.3f W'%(Q)"
     ],
     "language": "python",
     "metadata": {},
     "outputs": [
      {
       "output_type": "stream",
       "stream": "stdout",
       "text": [
        "Total heat dissipated by the rod is 6.841 W\n"
       ]
      }
     ],
     "prompt_number": 36
    },
    {
     "cell_type": "heading",
     "level": 2,
     "metadata": {},
     "source": [
      "Example 3.27  Page No : 103"
     ]
    },
    {
     "cell_type": "code",
     "collapsed": false,
     "input": [
      "import math\n",
      "\n",
      "# Variables\n",
      "D = 0.025\t\t\t#Diameter of the rod in m\n",
      "Ti = 22.;\t\t\t#Temperature of air in the room in degree C\n",
      "x = 0.1;\t\t\t#Dismtance between the points in m\n",
      "T = [110.,85.];\t\t#Temperature sat two points in degree C\n",
      "h = 28.4;\t\t\t#Heat transfer coefficient in W/m**2.K\n",
      "\n",
      "# Calculations\n",
      "m = -math.log((T[1]-Ti)/(T[0]-Ti))/x;\t\t\t#Calculation of m for obtaining k\n",
      "P = (3.14*D);\t\t\t#Perimeter of the rod in m\n",
      "A = (3.14*D**2)/4;\t\t\t#Area of the rod in m**2\n",
      "k = ((h*P)/((m)**2*A));\t\t\t#Thermal conductivity of the rod material in W/m.K\n",
      "\n",
      "# Results\n",
      "print 'Thermal conductivity of the rod material is %3.1f W/m.K'%(k)"
     ],
     "language": "python",
     "metadata": {},
     "outputs": [
      {
       "output_type": "stream",
       "stream": "stdout",
       "text": [
        "Thermal conductivity of the rod material is 406.8 W/m.K\n"
       ]
      }
     ],
     "prompt_number": 38
    },
    {
     "cell_type": "heading",
     "level": 2,
     "metadata": {},
     "source": [
      "Example 3.28  Page No : 103"
     ]
    },
    {
     "cell_type": "code",
     "collapsed": false,
     "input": [
      "import math\n",
      "\n",
      "# Variables\n",
      "L = 0.06;\t\t\t#Length of the turbine blade in m\n",
      "A = (4.65*10**-4);\t#Cross sectional area in m**2\n",
      "P = 0.12;\t\t\t#Perimeter in m\n",
      "k = 23.3;\t\t\t#Thermal conductivity of stainless steel in W/m.K\n",
      "To = 500;\t\t\t#Temperature at the root in degree C\n",
      "Ti = 870;\t\t\t#Temperature of the hot gas in degree C\n",
      "h = 442;\t\t\t#Heat transfer coefficient in W/m**2.K\n",
      "\n",
      "# Calculations\n",
      "m = math.sqrt((h*P)/(k*A));\t\t\t#Calculation of m for calculating heat transfer rate\n",
      "X = (To-Ti)/math.cosh(m*L);\t\t\t#X for calculating tempetarure distribution\n",
      "Q = math.sqrt(h*P*k*A)*(To-Ti)*math.tanh(m*L);\t\t\t#Heat transfer rate in W\n",
      "\n",
      "# Results\n",
      "print 'Temperature distribution is given by :\\n T-Ti  =  %i cosh[%3.2f%3.2f-x)] cosh[%3.2f%3.2f)] \\n \\\n",
      "Heat transfer rate is %3.1f W'%(To-Ti,m,L,m,L,Q)\n",
      "\n"
     ],
     "language": "python",
     "metadata": {},
     "outputs": [
      {
       "output_type": "stream",
       "stream": "stdout",
       "text": [
        "Temperature distribution is given by :\n",
        " T-Ti  =  -370 cosh[69.970.06-x)] cosh[69.970.06)] \n",
        " Heat transfer rate is -280.4 W\n"
       ]
      }
     ],
     "prompt_number": 15
    },
    {
     "cell_type": "heading",
     "level": 2,
     "metadata": {},
     "source": [
      "Example 3.29  Page No : 104"
     ]
    },
    {
     "cell_type": "code",
     "collapsed": false,
     "input": [
      "import math\n",
      "\n",
      "# Variables\n",
      "W = 1;\t\t\t#Length of the cylinder in m\n",
      "D = 0.05;\t\t\t#Diameter of the cylinder in m\n",
      "Ta = 45;\t\t\t#Ambient temperature in degree C\n",
      "n = 10;\t\t\t#Number of fins\n",
      "k = 120;\t\t\t#Thermal conductivity of the fin material in W/m.K\n",
      "t = 0.00076;\t\t\t#Thickness of fin in m\n",
      "L = 0.0127;\t\t\t#Height of fin in m\n",
      "h = 17;\t\t\t#Heat transfer coefficient in W/m**2.K\n",
      "Ts = 150;\t\t\t#Surface temperature of cylinder in m\n",
      "\n",
      "# Calculations\n",
      "P = (2*W);\t\t\t#Perimeter of cylinder in m\n",
      "A = (W*t);\t\t\t#Surface area of cyinder in m**2\n",
      "m = round(math.sqrt((h*P)/(k*A)),2);\t\t\t#Calculation of m for determining heat transfer rate\n",
      "Qfin = (math.sqrt(h*P*k*A)*(Ts-Ta)*((math.tanh(m*L)+(h/(m*k)))/(1+((h/(m*k))*math.tanh(m*L)))));\t\t\t#Heat transfer through the fin in kW\n",
      "Qb = h*((3.14*D)-(n*t))*W*(Ts-Ta);\t\t\t#Heat from unfinned (base) surface in W\n",
      "Q = ((Qfin*10)+Qb);\t\t\t#Total heat transfer in W\n",
      "Ti = ((Ts-Ta)/(math.cosh(m*L)+((h*math.sinh(m*L))/(m*k))));\t\t\t#Ti to calculate temperature at the end of the fin in degree C\n",
      "T = (Ti+Ta);\t\t\t#Temperature at the end of the fin in degree C\n",
      "\n",
      "# Results\n",
      "print 'Rate of heat transfer is %3.2f W \\nTemperature at the end of the fin is %3.2f degree C'%(Q,T )\n",
      "\n"
     ],
     "language": "python",
     "metadata": {},
     "outputs": [
      {
       "output_type": "stream",
       "stream": "stdout",
       "text": [
        "Rate of heat transfer is 723.99 W \n",
        "Temperature at the end of the fin is 146.74 degree C\n"
       ]
      }
     ],
     "prompt_number": 12
    },
    {
     "cell_type": "heading",
     "level": 2,
     "metadata": {},
     "source": [
      "Example 3.31  Page No : 109"
     ]
    },
    {
     "cell_type": "code",
     "collapsed": false,
     "input": [
      "import math\n",
      "\n",
      "# Variables\n",
      "t = 0.025;\t\t\t#Thickness of fin in m\n",
      "L = 0.1;\t\t\t#Length of fin in m\n",
      "k = 17.7;\t\t\t#Thermal conductivity of the fin material in W/m.K\n",
      "p = 7850;\t\t\t#Density in kg/m**3\n",
      "Tw = 600;\t\t\t#Temperature of the wall in degree C\n",
      "Ta = 40;\t\t\t#Temperature of the air in degree C\n",
      "h = 20;\t\t\t    #Heat transfer coefficient in W/m**2.K\n",
      "I0 = 2.1782;\t\t\t#Io value taken from table 3.2 on page no.108\n",
      "I1 = 1.48871;\t\t\t#I1 value taken from table 3.2 on page no. 108\n",
      "\n",
      "# Calculations\n",
      "B = math.sqrt((2*L*h)/(k*t));\t\t\t#Calculation of B for determining temperature distribution \n",
      "\n",
      "X = ((Tw-Ta)/2.1782);\t\t\t#Calculation of X for determining temperature distribution \n",
      "Y = (2*B);\t\t\t#Calculation of Y for determining temperature distribution \n",
      "Q = (math.sqrt(2*h*k*t)*(Tw-Ta)*((1.48871))/(2.1782));\n",
      "m = ((p*t*L)/2);\t\t\t#Mass of the fin per meter of width in kg/m\n",
      "q = (Q/m);\t\t\t#Rate of heat flow per unit mass in W/kg\n",
      "\n",
      "# Results\n",
      "print 'Temperature distribution is T = %i+%3.1f(%3.4f\u221ax) \\n \\\n",
      "Rate of heat flow per unit \\\n",
      " mass of the fin is %3.2f W/kg'%(Ta,X,Y,q)\n",
      "\n",
      "\n"
     ],
     "language": "python",
     "metadata": {},
     "outputs": [
      {
       "output_type": "stream",
       "stream": "stdout",
       "text": [
        "Temperature distribution is T = 40+257.1(6.0132\u221ax) \n",
        " Rate of heat flow per unit  mass of the fin is 164.10 W/kg\n"
       ]
      }
     ],
     "prompt_number": 10
    },
    {
     "cell_type": "heading",
     "level": 2,
     "metadata": {},
     "source": [
      "Example 3.32  Page No : 116"
     ]
    },
    {
     "cell_type": "code",
     "collapsed": false,
     "input": [
      "import math\n",
      "\n",
      "# Variables\n",
      "t = 0.002;\t\t\t#Thickness of fin in m\n",
      "L = 0.015;\t\t\t#Length of fin in m\n",
      "k1 = 210.;\t\t\t#Thermal conductivity of aluminium in W/m.K\n",
      "h1 = 285.;\t\t\t#Heat transfer coefficient of aluminium in W/m**2.K\n",
      "k2 = 40.;\t\t\t#Thermal conductivity of steel in W/m.K\n",
      "h2 = 510.;\t\t\t#Heat transfer coefficient of steel in W/m**2.K\n",
      "\n",
      "# Calculations\n",
      "Lc = (L+(t/2));\t\t\t#Corrected length of fin in m\n",
      "mLc1 = Lc*math.sqrt((2*h1)/(k1*t));\t\t\t#Calculation of mLc for efficiency\n",
      "n1 = math.tanh(mLc1)/mLc1;\t\t\t#Efficiency of fin when aluminium is used\n",
      "mLc2 = Lc*math.sqrt((2*h2)/(k2*t));\t\t\t#Calculation of mLc for efficiency\n",
      "n2 = math.tanh(mLc2)/mLc2;\t\t\t#Efficiency of fin when steel is used\n",
      "\n",
      "\n",
      "# Results\n",
      "print 'Efficiency of fin when aluminium is used is %3.4f \\n \\\n",
      "Efficiency of fin when steel is used is %3.3f'%(n1,n2)\n",
      "\n"
     ],
     "language": "python",
     "metadata": {},
     "outputs": [
      {
       "output_type": "stream",
       "stream": "stdout",
       "text": [
        "Efficiency of fin when aluminium is used is 0.8983 \n",
        " Efficiency of fin when steel is used is 0.524\n"
       ]
      }
     ],
     "prompt_number": 11
    },
    {
     "cell_type": "heading",
     "level": 2,
     "metadata": {},
     "source": [
      "Example 3.33  Page No : 117"
     ]
    },
    {
     "cell_type": "code",
     "collapsed": false,
     "input": [
      "import math\n",
      "\n",
      "# Variables\n",
      "k = 200;\t\t\t#Thermal conductivity of aluminium in W/m.K\n",
      "t = 0.001;\t\t\t#Thickness of fin in m\n",
      "L = 0.015;\t\t\t#Width of fin in m\n",
      "D = 0.025;\t\t\t#Diameter of the tube in m\n",
      "Tb = 170;\t\t\t#Fin base temperature in degree C\n",
      "Ta = 25;\t\t\t#Ambient fluid temperature in degree C\n",
      "h = 130;\t\t\t#Heat transfer coefficient in W/m**2.K\n",
      "\n",
      "# Calculations\n",
      "Lc = (L+(t/2));\t\t\t#Corrected length of fin in m\n",
      "r1 = (D/2);\t\t\t#Radius of tube in m\n",
      "r2c = (r1+Lc);\t\t\t#Corrected radius in m\n",
      "Am = t*(r2c-r1);\t\t\t#Corrected area in m**2\n",
      "x = Lc**(3/2)*math.sqrt(h/(k*Am));\t\t\t#x for calculating efficiency\n",
      "n = 0.82;\t\t\t#From fig. 3.18 on page no. 112 efficiency is 0.82\n",
      "qmax = (2*3.14*(r2c**2-r1**2)*h*(Tb-Ta));\t\t\t#Maximum heat transfer in W\n",
      "qactual = (n*qmax);\t\t\t#Actual heat transfer in W\n",
      "\n",
      "# Results\n",
      "print 'Heat loss per fin is %3.2f W'%(qactual)\n",
      "\n",
      "\n"
     ],
     "language": "python",
     "metadata": {},
     "outputs": [
      {
       "output_type": "stream",
       "stream": "stdout",
       "text": [
        "Heat loss per fin is 60.94 W\n"
       ]
      }
     ],
     "prompt_number": 51
    },
    {
     "cell_type": "heading",
     "level": 2,
     "metadata": {},
     "source": [
      "Example 3.34  Page No : 117"
     ]
    },
    {
     "cell_type": "code",
     "collapsed": false,
     "input": [
      "import math\n",
      "\n",
      "# Variables\n",
      "k = 16;\t\t\t#Thermal conductivity of fin in W/m.K\n",
      "L = 0.1;\t\t\t#Length of fin in m\n",
      "D = 0.01;\t\t\t#Diameter of fin in m\n",
      "h = 5000;\t\t\t#Heat transfer coefficient in W/m**2.K\n",
      "\n",
      "# Calculations\n",
      "P = (3.14*D);\t\t\t#Perimeter of fin in m\n",
      "A = (3.14*D**2)/4;\t\t\t#Area of fin in m**2\n",
      "m = math.sqrt((h*P)/(k*A));\t\t\t#Calculation of m for determining heat transfer rate\n",
      "n = math.tanh(m*L)/math.sqrt((h*A)/(k*P));\t\t\t#Calculation of n for checking whether installation of fin is desirable or not\n",
      "x = (n-1)*100;\t\t\t#Conversion into percentage\n",
      "\n",
      "# Results\n",
      "print 'This large fin only produces an increase of %i percent in heat dissipation, \\\n",
      " so naturally this configuration is undesirable'%(x)\n"
     ],
     "language": "python",
     "metadata": {},
     "outputs": [
      {
       "output_type": "stream",
       "stream": "stdout",
       "text": [
        "This large fin only produces an increase of 13 percent in heat dissipation,  so naturally this configuration is undesirable\n"
       ]
      }
     ],
     "prompt_number": 52
    },
    {
     "cell_type": "heading",
     "level": 2,
     "metadata": {},
     "source": [
      "Example 3.35  Page No : 119"
     ]
    },
    {
     "cell_type": "code",
     "collapsed": false,
     "input": [
      "import math\n",
      "\n",
      "# Variables\n",
      "k = 55.8;\t\t\t#Thermal conductivity of steel in W/m.K\n",
      "t = 0.0015;\t\t\t#Thickness of steel tube in m\n",
      "L = 0.12;\t\t\t#Length of steel tube in m\n",
      "h = 23.3;\t\t\t#Heat transfer coefficient in W/m**2.K\n",
      "Tl = 84;\t\t\t#Temperature recorded by the thermometer in degree C\n",
      "Tb = 40;\t\t\t#Temperature at the base of the well in degree C\n",
      "\n",
      "# Calculations\n",
      "m = math.sqrt(h/(k*t));\t\t\t#Calculation of m for determining the temperature distribution\n",
      "x = 1./math.cosh(m*L);\t\t\t#Calculation of x for determining the temperature distribution\n",
      "Ti = ((Tl-(x*Tb))/(1-x));\t\t\t#Temperature distribution in degree C\n",
      "T = (Ti-Tl);\t\t\t#Measurement error in degree C\n",
      "\n",
      "# Results\n",
      "print 'Measurement error is %3.0f degree C'%(T)\n",
      "\n",
      "\n"
     ],
     "language": "python",
     "metadata": {},
     "outputs": [
      {
       "output_type": "stream",
       "stream": "stdout",
       "text": [
        "Measurement error is  16 degree C\n"
       ]
      }
     ],
     "prompt_number": 16
    }
   ],
   "metadata": {}
  }
 ]
}