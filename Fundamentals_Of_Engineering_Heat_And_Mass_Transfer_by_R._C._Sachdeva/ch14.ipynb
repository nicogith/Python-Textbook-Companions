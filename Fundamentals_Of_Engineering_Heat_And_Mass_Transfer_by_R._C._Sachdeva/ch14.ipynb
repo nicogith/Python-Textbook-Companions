{
 "metadata": {
  "name": "",
  "signature": "sha256:484a2df5b3762980a76b55ab94f7de4a4a7924fa2fa9ffe86e0603d655f531d8"
 },
 "nbformat": 3,
 "nbformat_minor": 0,
 "worksheets": [
  {
   "cells": [
    {
     "cell_type": "heading",
     "level": 1,
     "metadata": {},
     "source": [
      "Chapter 14 : Convective Mass Transfer"
     ]
    },
    {
     "cell_type": "heading",
     "level": 2,
     "metadata": {},
     "source": [
      "Example 14.1  Page No : 574"
     ]
    },
    {
     "cell_type": "code",
     "collapsed": false,
     "input": [
      "import math \n",
      "\n",
      "# Variables\n",
      "D = 0.025;\t\t\t    #Diameter of the cylinder in m\n",
      "R = (2*10**-6);\t\t\t#Rate of sublime in kg/s\n",
      "C = (6*10**-6);\t\t\t#Saturated vapour concentration in kmol/m**3\n",
      "W = 128;\t\t\t    #Molecular weight in kg/kmol\n",
      "\n",
      "# Calculations\n",
      "q = (R/W);\t\t\t            #Molar transfer rate in k.mol/sm\n",
      "h = (q/(math.pi*D*C));\t\t\t#Convective mass transfer coefficient in m/s\n",
      "\n",
      "# Results\n",
      "print 'Convective mass transfer coefficient is %3.3f m/s'%(h)"
     ],
     "language": "python",
     "metadata": {},
     "outputs": [
      {
       "output_type": "stream",
       "stream": "stdout",
       "text": [
        "Convective mass transfer coefficient is 0.033 m/s\n"
       ]
      }
     ],
     "prompt_number": 1
    },
    {
     "cell_type": "heading",
     "level": 2,
     "metadata": {},
     "source": [
      "Example 14.2  Page No : 576"
     ]
    },
    {
     "cell_type": "code",
     "collapsed": false,
     "input": [
      "import math\n",
      "# Variables\n",
      "pA = -0.9;\t\t\t#Partial pressure of water vapour in atm\n",
      "t = 0.0025;\t\t\t#Boundary layer thickness in m\n",
      "\n",
      "# Calculations\n",
      "y = 0;\n",
      "pAs1 = math.exp(-33.35*y)-0.9;\t\t\t#Partial pressure in atm\n",
      "y = t;\n",
      "pAs2 = math.exp(-33.35*y)-0.9;\t\t\t#Partial pressure in atm\n",
      "#partial derivative of pA wrt y is -33.35exp(y)-0.9\n",
      "x = 0;\n",
      "X = (-33.35*math.exp(x))-pA;\t\t\t#Partial derivative value at x = 0\n",
      "DAB = (0.26*10**-4)\t\t\t#DAB value in m**2/s\n",
      "h = (DAB*X)/(pAs2-pAs1);\t\t\t#Local mass transfer coefficient in m/s\n",
      "\n",
      "# Results\n",
      "print 'Local mass transfer coefficient is %3.3f m/s'%(h)\n"
     ],
     "language": "python",
     "metadata": {},
     "outputs": [
      {
       "output_type": "stream",
       "stream": "stdout",
       "text": [
        "Local mass transfer coefficient is 0.011 m/s\n"
       ]
      }
     ],
     "prompt_number": 7
    },
    {
     "cell_type": "heading",
     "level": 2,
     "metadata": {},
     "source": [
      "Example 14.3  Page No : 583"
     ]
    },
    {
     "cell_type": "code",
     "collapsed": false,
     "input": [
      "# Variables\n",
      "T = 27;\t\t\t#Temperature of dry air in degree C\n",
      "p = 1;\t\t\t#Pressure of dry air in atm\n",
      "L = 0.5;\t\t\t#Length of the plate in m\n",
      "v = 50;\t\t\t#Velocity in m/s\n",
      "\n",
      "# Calculations\n",
      "DAB = (0.26*10**-4)\t\t\t#DAB value in m**2/s\n",
      "p = 1.16;\t\t\t#Density in kg/m**3\n",
      "u = (184.6*10**-7);\t\t\t#Dynamic viscosity in N.s/m**2\n",
      "Pr = 0.707;\t\t\t#Prantl number\n",
      "Sc = (u/(p*DAB));\t\t\t#Schmidt number\n",
      "Re = (p*v*L)/u;\t\t\t#Reynolds number\n",
      "jm = (0.0296*(Re**(-1./5)));\t\t\t#jm value\n",
      "h = (jm*v)/Sc**(2./3);\t\t\t#Mass transfer coefficient of water vapour in m/s\n",
      "\n",
      "# Results\n",
      "print 'Mass transfer coefficient of water vapour is %3.3f m/s'%(h)\n",
      "\n",
      "\n"
     ],
     "language": "python",
     "metadata": {},
     "outputs": [
      {
       "output_type": "stream",
       "stream": "stdout",
       "text": [
        "Mass transfer coefficient of water vapour is 0.118 m/s\n"
       ]
      }
     ],
     "prompt_number": 3
    },
    {
     "cell_type": "heading",
     "level": 2,
     "metadata": {},
     "source": [
      "Example 14.4  Page No : 583"
     ]
    },
    {
     "cell_type": "code",
     "collapsed": false,
     "input": [
      "# Variables\n",
      "T = 27;\t\t\t#Temperature of swimming pool in degree C\n",
      "h = 0.4;\t\t\t#Relative humidity\n",
      "v = 2;\t\t\t#Speed of wind in m/s\n",
      "v1 = (15.89*10**-6);\t\t\t#Kinematic viscosity in m**2/s\n",
      "p = 0.0436;\t\t\t#Density in kg/m**3\n",
      "DAB = (0.26*10**-4)\t\t\t#DAB value in m**2/s\n",
      "L = 15;\t\t\t#Length in m\n",
      "\n",
      "\n",
      "# Calculations\n",
      "Sc = (v1/DAB);\t\t\t#Schmidt number\n",
      "Re = (v*L)/v1;\t\t\t#Reynolds number\n",
      "ShL = (((0.037*Re**(4./5))-870)*Sc**(1./3));\t\t\t#Equivalent Schmidt number\n",
      "h1 = (ShL*(DAB/L))/10**-3;\t\t\t#Mass transfer coefficient for evaporation in mm/s\n",
      "\n",
      "# Results\n",
      "print 'Mass transfer coefficient for evaporation is %3.1f*10**-3 m/s'%(h1)\n",
      "\n",
      "\n"
     ],
     "language": "python",
     "metadata": {},
     "outputs": [
      {
       "output_type": "stream",
       "stream": "stdout",
       "text": [
        "Mass transfer coefficient for evaporation is 4.4*10**-3 m/s\n"
       ]
      }
     ],
     "prompt_number": 5
    },
    {
     "cell_type": "heading",
     "level": 2,
     "metadata": {},
     "source": [
      "Example 14.5  Page No : 585"
     ]
    },
    {
     "cell_type": "code",
     "collapsed": false,
     "input": [
      "# Variables\n",
      "T = 25;\t\t\t#Temperature of air in degree C\n",
      "v = 3;\t\t\t#Velocity im m/s\n",
      "D = 0.01;\t\t\t#Diameter of tube in m\n",
      "L = 1;\t\t\t#Length of tube in m\n",
      "\n",
      "# Calculations\n",
      "v1 = (15.7*10**-6);\t\t\t#Kinematic viscosity in m**2/s\n",
      "DAB = (0.62*10**-5)\t\t\t#DAB value in m**2/s\n",
      "Re = (v*D)/v1;\t\t\t#Reynolds number\n",
      "Sh = 3.66;\t\t\t#Schmidt number\n",
      "h = (Sh*DAB)/D;\t\t\t#Average mass transfer coefficient in m/s\n",
      "\n",
      "# Results\n",
      "print 'Average mass transfer coefficient is %3.5f m/s'%(h)\n"
     ],
     "language": "python",
     "metadata": {},
     "outputs": [
      {
       "output_type": "stream",
       "stream": "stdout",
       "text": [
        "Average mass transfer coefficient is 0.00227 m/s\n"
       ]
      }
     ],
     "prompt_number": 6
    },
    {
     "cell_type": "heading",
     "level": 2,
     "metadata": {},
     "source": [
      "Example 14.6  Page No : 586"
     ]
    },
    {
     "cell_type": "code",
     "collapsed": false,
     "input": [
      "# Variables\n",
      "T = 25;\t\t\t#Temperature of air in degree C\n",
      "v = 5;\t\t\t#Velocity in m/s\n",
      "D = 0.03;\t\t\t#Diameter of tube in m\n",
      "DAB = (0.82*10**-5)\t\t\t#DAB value in m**2/s\n",
      "\n",
      "# Calculations\n",
      "v1 = (15.7*10**-6);\t\t\t#Kinematic viscosity in m**2/s\n",
      "Sc = (v1/DAB);\t\t\t#Schnidt number\n",
      "Re = (v*D)/v1;\t\t\t#Reynolds number\n",
      "h = (0.023*Re**(4./5)*Sc**(1./3)*DAB)/D;\t\t\t#Mass transfer coefficient in m/s\n",
      "\n",
      "# Results\n",
      "print 'Mass transfer coefficient is %3.4f m/s'%(h)\n",
      "\n",
      "\n"
     ],
     "language": "python",
     "metadata": {},
     "outputs": [
      {
       "output_type": "stream",
       "stream": "stdout",
       "text": [
        "Mass transfer coefficient is 0.0119 m/s\n"
       ]
      }
     ],
     "prompt_number": 8
    },
    {
     "cell_type": "heading",
     "level": 2,
     "metadata": {},
     "source": [
      "Example 14.7  Page No : 589"
     ]
    },
    {
     "cell_type": "code",
     "collapsed": false,
     "input": [
      "import math\n",
      "# Variables\n",
      "Ta = 40.+273;\t\t\t#Temperature of air in K\n",
      "w = 100.;\t\t\t    #Molecular weight in kg/k.mol\n",
      "H = 120.;\t\t\t    #Latent heat of vapourisation of volatile liquid in kJ/kg\n",
      "p = 3530.;\t\t\t    #Saturated vapour pressure in N/m**2\n",
      "DAB = (0.2*10**-4);\t\t#DAB value in m**2/s\n",
      "\n",
      "# Calculations\n",
      "p1 = 1.16;\t\t\t#Density in kg/m**2\n",
      "Cp = 1.007;\t\t\t#Specific heat in J/kg.K\n",
      "a = (22.5*10**-6);\t\t\t#Diffusivity in m**2/s\n",
      "X = ((H*100*p*10**-3)/(8.315*p1*Cp*(a/DAB)**(2./3)));\t\t\t#X value for temperature\n",
      "T = (Ta+math.sqrt((Ta**2-(4*X))))*0.5;\t\t\t#Temperature in K\n",
      "\n",
      "# Results\n",
      "print 'Steady state temperature of cold water inside the pot is %3.1f K'%(T)\n",
      "\n",
      "\n"
     ],
     "language": "python",
     "metadata": {},
     "outputs": [
      {
       "output_type": "stream",
       "stream": "stdout",
       "text": [
        "Steady state temperature of cold water inside the pot is 299.5 K\n"
       ]
      }
     ],
     "prompt_number": 9
    },
    {
     "cell_type": "heading",
     "level": 2,
     "metadata": {},
     "source": [
      "Example 14.8  Page No : 590"
     ]
    },
    {
     "cell_type": "code",
     "collapsed": false,
     "input": [
      "# Variables\n",
      "T = 22. + 273;\t\t\t#Thermometer reading in K\n",
      "\n",
      "# Calculations\n",
      "p = 2617;\t\t\t#Pressure in N/m**2\n",
      "hfg = 2449;\t\t\t#Enthalpy in kJ/kg\n",
      "p1 = (p*18)/(8315*T);\t\t\t#Density in kg/m**3\n",
      "p2 = (1.0132*10**5)/(287*T);\t\t\t#Density in kg/m**3\n",
      "Cp = 1.008;\t\t\t#Specific heat in kJ/kg.K\n",
      "a = (26.2*10**-6);\t\t\t#Diffusivity in m**2/s\n",
      "DAB = (0.26*10**-4);\t\t\t#DAB value in m**2/s\n",
      "Ts = ((T-273)+((hfg*1000*p1)/(p2*Cp*1000)));\t\t\t#True air temperature in degree C\n",
      "\n",
      "# Results\n",
      "print 'True air temperature is %3.2f degree C'%(Ts)\n"
     ],
     "language": "python",
     "metadata": {},
     "outputs": [
      {
       "output_type": "stream",
       "stream": "stdout",
       "text": [
        "True air temperature is 60.99 degree C\n"
       ]
      }
     ],
     "prompt_number": 10
    },
    {
     "cell_type": "heading",
     "level": 2,
     "metadata": {},
     "source": [
      "Example 14.9  Page No : 591"
     ]
    },
    {
     "cell_type": "code",
     "collapsed": false,
     "input": [
      "# Variables\n",
      "T = 50.;\t\t\t#Temperature of air stream in degree C\n",
      "Tb = 22.;\t\t\t#Bulb temperature in degree C\n",
      "\n",
      "# Calculations\n",
      "Tf = (T+Tb)/2;\t\t\t#Film temperature in degree C\n",
      "p = 1.14;\t\t\t#Density in kg/m**3\n",
      "Cp = 1.006;\t\t\t#Specific heat in J/kg.K\n",
      "Pr = 0.7;\t\t\t#Prantl number\n",
      "u = (2*10**-5);\t\t\t#Dynamic viscosity in Ns/m**2\n",
      "DAB = (0.26*10**-4);\t\t\t#DAB value in m**2/s\n",
      "Sc = (u/(p*DAB));\t\t\t#Schmidt nuber\n",
      "Le = (Sc/Pr);\t\t\t#Lewis number\n",
      "p1 = 0.01920;\t\t\t#Density in kg/m**3\n",
      "hfg = 2449;\t\t\t#Enthalpy in kJ/kg\n",
      "pA = 0.0064;\t\t\t#Density in kg/m**3\n",
      "psat = (1./12.23);\t\t\t#Saturation density in kg/m**3\n",
      "RH = (pA/0.0817)*100;\t\t\t#Relative humidity\n",
      "\n",
      "# Results\n",
      "print 'Relative humidity of the airstream is %3.2f percent'%(RH)\n",
      "\n",
      "\n"
     ],
     "language": "python",
     "metadata": {},
     "outputs": [
      {
       "output_type": "stream",
       "stream": "stdout",
       "text": [
        "Relative humidity of the airstream is 7.83 percent\n"
       ]
      }
     ],
     "prompt_number": 11
    },
    {
     "cell_type": "heading",
     "level": 2,
     "metadata": {},
     "source": [
      "Example 14.10  Page No : 592"
     ]
    },
    {
     "cell_type": "code",
     "collapsed": false,
     "input": [
      "# Variables\n",
      "Td = 27.;\t\t\t#Dry bulb teperature in degree C\n",
      "Tw = 17.;\t\t\t#Wet bulb temperature in degree C\n",
      "Pr = 0.74;\t\t\t#Prantl number\n",
      "Sc = 0.6;\t\t\t#Schmidt number\n",
      "Mv = 18.;\t\t\t#Molecular weight of vapour\n",
      "Ma = 29.;\t\t\t#Molecular weight of air\n",
      "Cp = 1004.;\t\t\t#Specific heat in J/kg.K\n",
      "p = (1.0132*10**5);\t\t\t#Pressure in N/m**2\n",
      "\n",
      "# Calculations\n",
      "pv2 = 1917;\t\t\t#Saturation presusre of air at 17 degree C in N/m**2\n",
      "hfg = 2461;\t\t\t#Enthalpy in kJ/kg\n",
      "w2 = (Mv*pv2)/(Ma*(p-pv2));\t\t\t#Weight in kg/kg of dry air\n",
      "w1 = w2-((Cp*(Pr/Sc)**(2./3)*(Td-Tw))/(hfg*1000));\t\t\t#Specific humidity of air in kg/kg of dry air\n",
      "\n",
      "# Results\n",
      "print 'Specific humidity of air is %3.5f kg/kg of dry air'%(w1)\n",
      "\n",
      "\n"
     ],
     "language": "python",
     "metadata": {},
     "outputs": [
      {
       "output_type": "stream",
       "stream": "stdout",
       "text": [
        "Specific humidity of air is 0.00728 kg/kg of dry air\n"
       ]
      }
     ],
     "prompt_number": 12
    },
    {
     "cell_type": "heading",
     "level": 2,
     "metadata": {},
     "source": [
      "Example 14.11  Page No : 592"
     ]
    },
    {
     "cell_type": "code",
     "collapsed": false,
     "input": [
      "# Variables\n",
      "T = 27.;\t\t    \t#Temperature of swimming pool in degree C\n",
      "Ts = 37.;\t\t\t#Surface temperature in degree C\n",
      "h = 0.4;\t\t\t#Relative humidity\n",
      "D1 = 5.;\t\t    \t#Dimension of swimming pool in m\n",
      "D2 = 15.;\t\t\t#Dimension of swimming pool in m\n",
      "v = 2.;\t\t    \t#Speed of wind in m/s\n",
      "v1 = (15.89*10**-6);\t\t\t#Kinematic viscosity in m**2/s\n",
      "p = 0.0436;\t\t\t            #Density in kg/m**3\n",
      "DAB = (0.26*10**-4)\t    \t\t#DAB value in m**2/s\n",
      "Sc = (v1/DAB);\t\t        \t#Schmidt number\n",
      "Re = (v*D2)/v1;\t\t        \t#Reynolds number\n",
      "ShL = (((0.037*Re**(4./5))-870)*Sc**(1./3));\t\t\t#Equivalent Schmidt number\n",
      "h1 = (ShL*(DAB/D2));\t\t\t#Mass transfer coefficient for evaporation in m/s\n",
      "\n",
      "# Calculations\n",
      "Psat = 3531.;\t\t\t#Partial pressure of water vapour in N/m**2\n",
      "pi = (0.4*6221);\t\t\t#Saturation pressure of water vapour in N/m**2\n",
      "pt = 101325.;\t\t\t#Total pressure of air in N/m**2\n",
      "pAs = (18*Psat)/(8361*(T+273));\t\t\t#Density at the water surface in kg/m\n",
      "pAi = (18*pi)/(8316*(T+273));\t\t\t#Density at the water surface in kg/m\n",
      "n = round((h1*(pAs-pAi)*3600*24),);\t\t\t#Rate of evaporation of water in kg/m**2 day\n",
      "L = (n*D1*D2);\t\t\t#Total water loss from the swimming pool in kg/day\n",
      "\n",
      "# Results\n",
      "print 'Rate of evaporation of water is %3.1f kg/day'%(L)\n",
      "\n",
      "# there is a rounding off error in textbook."
     ],
     "language": "python",
     "metadata": {},
     "outputs": [
      {
       "output_type": "stream",
       "stream": "stdout",
       "text": [
        "Rate of evaporation of water is 225.0 kg/day\n"
       ]
      }
     ],
     "prompt_number": 4
    },
    {
     "cell_type": "code",
     "collapsed": false,
     "input": [],
     "language": "python",
     "metadata": {},
     "outputs": []
    }
   ],
   "metadata": {}
  }
 ]
}