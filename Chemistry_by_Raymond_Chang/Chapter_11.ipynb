{
 "metadata": {
  "name": ""
 },
 "nbformat": 3,
 "nbformat_minor": 0,
 "worksheets": [
  {
   "cells": [
    {
     "cell_type": "heading",
     "level": 1,
     "metadata": {},
     "source": [
      "Chapter 11:Intermolecular Forces and Liquids and Solids"
     ]
    },
    {
     "cell_type": "heading",
     "level": 2,
     "metadata": {},
     "source": [
      "Example no:11.3,Page no:479"
     ]
    },
    {
     "cell_type": "code",
     "collapsed": false,
     "input": [
      "import math\n",
      "#Variable declaration\n",
      "atoms=8*1.0/8.0+6*1.0/2.0 #atoms in a cell\n",
      "d=19.3 #density, g/cc\n",
      "Au=197.0 #mol mass of Au, g\n",
      "NA=6.022*10**23 #avogadro no.\n",
      "\n",
      "#Calculation\n",
      "m=atoms*Au/NA #mass of 1 cell, g\n",
      "V=m/d #volume, cc\n",
      "a=V**(1/3.0) #edge length, cm\n",
      "r=a/math.sqrt(8.0)/100.0 #radius in m\n",
      "\n",
      "#Result\n",
      "print\"The atomic radius of Au is :\",round(r*10**12),\"pm\"\n"
     ],
     "language": "python",
     "metadata": {},
     "outputs": [
      {
       "output_type": "stream",
       "stream": "stdout",
       "text": [
        "The atomic radius of Au is : 144.0 pm\n"
       ]
      }
     ],
     "prompt_number": 31
    },
    {
     "cell_type": "heading",
     "level": 2,
     "metadata": {},
     "source": [
      "Example no:11.4,Page no:481"
     ]
    },
    {
     "cell_type": "code",
     "collapsed": false,
     "input": [
      "import math\n",
      "#Variable declaration\n",
      "n=1.0 \n",
      "lamda=154 #wavelength, pm\n",
      "theta=19.3 #angle of reflection, degree\n",
      "\n",
      "#Calculation\n",
      "d=n*lamda/(2*math.sin(theta*math.pi/180.0)) #spacing between the planes\n",
      "\n",
      "#Result\n",
      "print\"The spacing between planes is :\",round(d),\"pm\"\n"
     ],
     "language": "python",
     "metadata": {},
     "outputs": [
      {
       "output_type": "stream",
       "stream": "stdout",
       "text": [
        "The spacing between planes is : 233.0 pm\n"
       ]
      }
     ],
     "prompt_number": 32
    },
    {
     "cell_type": "heading",
     "level": 2,
     "metadata": {},
     "source": [
      "Example no:11.6,Page no:483"
     ]
    },
    {
     "cell_type": "code",
     "collapsed": false,
     "input": [
      "#Variable declaration\n",
      "Na=22.99 #mass of one atom of Na, amu\n",
      "Cl=35.45 #mass of one atom of Cl, amu\n",
      "NA=6.022*10**23 #avogadro no.\n",
      "\n",
      "#Calculation\n",
      "mass=4*(Na+Cl)/NA #mass in a unit cell in grams\n",
      "a=564*10**-10 #edge length, cm\n",
      "V=a**3 #volume of unit cell, cc\n",
      "d=mass/V #density in g/cc\n",
      "\n",
      "#Result\n",
      "print\"The density of NaCl is :\",round(d,2),\"g/cm**3\""
     ],
     "language": "python",
     "metadata": {},
     "outputs": [
      {
       "output_type": "stream",
       "stream": "stdout",
       "text": [
        "The density of NaCl is : 2.16 g/cm**3\n"
       ]
      }
     ],
     "prompt_number": 33
    },
    {
     "cell_type": "heading",
     "level": 2,
     "metadata": {},
     "source": [
      "Example no:11.7,Page no:492"
     ]
    },
    {
     "cell_type": "code",
     "collapsed": false,
     "input": [
      "import math\n",
      "#Variable declaration\n",
      "P1=401.0 #vapor pressure at 18C, mm Hg\n",
      "T1=18.0+273.0 #temperature, K\n",
      "T2=32.0+273.0 #temperature, K\n",
      "deltaH=26000.0 #heat of vaporisation, J/mol\n",
      "R=8.314 #gas constant, J/K.mol\n",
      "\n",
      "#Calculation\n",
      "X=deltaH/R*(T1-T2)/(T1*T2) \n",
      "P2=401*math.exp(-X) #vapor pressure at 32C, mmHg(from ln(P1/P1)=deltaH/R*((T1-T2)/(T1*T2)))\n",
      "\n",
      "#Result\n",
      "print\"The pressure at 32 C is \",round(P2,1),\"mm Hg\""
     ],
     "language": "python",
     "metadata": {},
     "outputs": [
      {
       "output_type": "stream",
       "stream": "stdout",
       "text": [
        "The pressure at 32 C is  656.7 mm Hg\n"
       ]
      }
     ],
     "prompt_number": 34
    },
    {
     "cell_type": "heading",
     "level": 2,
     "metadata": {},
     "source": [
      "Example no:11.8,Page no:497"
     ]
    },
    {
     "cell_type": "code",
     "collapsed": false,
     "input": [
      "#Variable declaration\n",
      "m=346 #mass of H2O in g\n",
      "s=4.184 #specific heat of H2O, J/g C\n",
      "deltaH=40.79 #heat of vaporisation in kJ\n",
      "H2O=18.02 #mol mass of H2O, g\n",
      "s2=1.99 #specific heat of steam, J/g C\n",
      "\n",
      "#Calculation\n",
      "#from 0 to 100 C\n",
      "deltaT=100.0-0.0 #change in Temp, C\n",
      "q1=round((m*s*deltaT)/1000.0) #heating H2O, kJ\n",
      "#for evaporation at 100 C\n",
      "deltaT2=182-100 #change in temp of steam, kJ\n",
      "q2=round(m*deltaH/H2O) #heat of vaporising water, kJ\n",
      "#for steam from 100 to 182 C\n",
      "q3=round(m*s2*deltaT2/1000.0,1) #heating steam, kJ\n",
      "q=round(q1)+round(q2)+round(q3,1) #overall energy required, kJ\n",
      "\n",
      "\n",
      "#Result\n",
      "print\"The overall energy required is :\",round(q),\"kJ\""
     ],
     "language": "python",
     "metadata": {},
     "outputs": [
      {
       "output_type": "stream",
       "stream": "stdout",
       "text": [
        "The overall energy required is : 985.0 kJ\n"
       ]
      }
     ],
     "prompt_number": 15
    }
   ],
   "metadata": {}
  }
 ]
}