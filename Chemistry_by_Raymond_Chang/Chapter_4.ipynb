{
 "metadata": {
  "name": ""
 },
 "nbformat": 3,
 "nbformat_minor": 0,
 "worksheets": [
  {
   "cells": [
    {
     "cell_type": "heading",
     "level": 1,
     "metadata": {},
     "source": [
      "Chapter 4:Reactions in Aqueous Solutions"
     ]
    },
    {
     "cell_type": "heading",
     "level": 2,
     "metadata": {},
     "source": [
      "Example no:4.6,Page no:148"
     ]
    },
    {
     "cell_type": "code",
     "collapsed": false,
     "input": [
      "#Variable declaration\n",
      "K2Cr2O7=294.2 #mol mass of K2Cr2O7, g\n",
      "M=2.16 #Concentration of K2Cr2O7, M\n",
      "V=0.250 #volume of K2Cr2O7, L\n",
      "\n",
      "#Calculation\n",
      "moles=M*V #moles of K2Cr2O7\n",
      "mass=moles*K2Cr2O7 \n",
      "\n",
      "#Result\n",
      "print\"The mass of the K2Cr2O7 needed is :\",round(mass),\"g K2Cr2O7\\n\"\n"
     ],
     "language": "python",
     "metadata": {},
     "outputs": [
      {
       "output_type": "stream",
       "stream": "stdout",
       "text": [
        "The mass of the K2Cr2O7 needed is : 159.0 g K2Cr2O7\n",
        "\n"
       ]
      }
     ],
     "prompt_number": 12
    },
    {
     "cell_type": "heading",
     "level": 2,
     "metadata": {},
     "source": [
      "Example no:4.7,Page no:149"
     ]
    },
    {
     "cell_type": "code",
     "collapsed": false,
     "input": [
      "#Variable declaration\n",
      "mGlucose=3.81 #mass of Glucose, g\n",
      "Glucose=180.2 #mol mass of Glucose, g\n",
      "M=2.53 #Concentration of Glucose, M\n",
      "\n",
      "#Calculation\n",
      "moles=mGlucose/Glucose #moles of Glucose\n",
      "V=moles/M #volume of Glucose, L\n",
      "\n",
      "#Result\n",
      "print\"The volume of the Glucose needed is :\",round(V*1000,2),\"mL soln\\n\"\n"
     ],
     "language": "python",
     "metadata": {},
     "outputs": [
      {
       "output_type": "stream",
       "stream": "stdout",
       "text": [
        "The volume of the Glucose needed is : 8.36 mL soln\n",
        "\n"
       ]
      }
     ],
     "prompt_number": 14
    },
    {
     "cell_type": "heading",
     "level": 2,
     "metadata": {},
     "source": [
      "Example no:4.8,Page no:150"
     ]
    },
    {
     "cell_type": "code",
     "collapsed": false,
     "input": [
      "#Variable declaration\n",
      "M2=1.75 #final Concentration of H2SO4, M\n",
      "V2=500 #final volume of H2SO4, mL\n",
      "M1=8.61 #initial Concentration of H2SO4, M\n",
      "\n",
      "#Calculation\n",
      "V1=M2*V2/M1 #initail volume of H2SO4, mL\n",
      "\n",
      "#Result\n",
      "print\"The volume of the H2SO4 needed to dilute the solution is :\",round(V1),\"mL\""
     ],
     "language": "python",
     "metadata": {},
     "outputs": [
      {
       "output_type": "stream",
       "stream": "stdout",
       "text": [
        "The volume of the H2SO4 needed to dilute the solution is : 102.0 mL\n"
       ]
      }
     ],
     "prompt_number": 16
    },
    {
     "cell_type": "heading",
     "level": 2,
     "metadata": {},
     "source": [
      "Example no:4.9,Page no:152"
     ]
    },
    {
     "cell_type": "code",
     "collapsed": false,
     "input": [
      "#Variable declaration\n",
      "mSample=0.5662 #mass of sample, g\n",
      "Cl=35.5 #mol mass of Cl, g\n",
      "AgCl=143.4 #mol mass of AgCl, g\n",
      "mAgCl=1.0882 #mass of AgCl formed, g\n",
      "\n",
      "#Calculation\n",
      "p_Cl_AgCl=Cl/AgCl*100.0 #percent Cl in AgCl\n",
      "mCl=p_Cl_AgCl*mAgCl/100.0 #mass of Cl in AgCl, g\n",
      "mCl=round(mCl,3)\n",
      "#the same amount of Cl is present in initial sample\n",
      "p_Cl=mCl/mSample*100.0 #percent Cl in initial sample\n",
      "\n",
      "#Result\n",
      "print\"The percentage of Cl in sample is :\",round(p_Cl,2),\"%\"\n"
     ],
     "language": "python",
     "metadata": {},
     "outputs": [
      {
       "output_type": "stream",
       "stream": "stdout",
       "text": [
        "The percentage of Cl in sample is : 47.51 %\n"
       ]
      }
     ],
     "prompt_number": 25
    },
    {
     "cell_type": "heading",
     "level": 2,
     "metadata": {},
     "source": [
      "Example no:4.10,Page no:154"
     ]
    },
    {
     "cell_type": "code",
     "collapsed": false,
     "input": [
      "#Variable declaration\n",
      "mKHP=0.5468 #mass of KHP, g\n",
      "KHP=204.2 #mol mass of KHP, g\n",
      "\n",
      "#Calculation\n",
      "nKHP=mKHP/KHP #moles of KHP\n",
      "VNaOH=23.48 #volume of NaOH, mL\n",
      "MNaOH=nKHP/VNaOH*1000 #molarity of NaOH sol, M\n",
      "\n",
      "#Result\n",
      "print\"The molarity of NaOH solution is :\",round(MNaOH,4),\"M\\n\""
     ],
     "language": "python",
     "metadata": {},
     "outputs": [
      {
       "output_type": "stream",
       "stream": "stdout",
       "text": [
        "The molarity of NaOH solution is : 0.114 M\n",
        "\n"
       ]
      }
     ],
     "prompt_number": 18
    },
    {
     "cell_type": "heading",
     "level": 2,
     "metadata": {},
     "source": [
      "Example no:4.11,Page no:155"
     ]
    },
    {
     "cell_type": "code",
     "collapsed": false,
     "input": [
      "#Variable declaration\n",
      "MNaOH=0.610 #molarity of NaOH, M\n",
      "VH2SO4=20 #volume of H2SO4, mL\n",
      "MH2SO4=0.245 #molarity of H2SO4, M\n",
      "\n",
      "#Calculation\n",
      "nH2SO4=MH2SO4*VH2SO4/1000 #moles of H2SO4\n",
      "VNaOH=2*nH2SO4/MNaOH #Volume of NaOH, L\n",
      "\n",
      "#Result\n",
      "print\"The volume of NaOH solution is :\",round(VNaOH*1000,1),\"mL\\n\""
     ],
     "language": "python",
     "metadata": {},
     "outputs": [
      {
       "output_type": "stream",
       "stream": "stdout",
       "text": [
        "The volume of NaOH solution is : 16.1 mL\n",
        "\n"
       ]
      }
     ],
     "prompt_number": 19
    },
    {
     "cell_type": "heading",
     "level": 2,
     "metadata": {},
     "source": [
      "Example no:4.12,Page no:157"
     ]
    },
    {
     "cell_type": "code",
     "collapsed": false,
     "input": [
      "#Variable declaration\n",
      "MKMnO4=0.1327 #molarity of KMnO4, M\n",
      "VKMnO4=16.42 #volume of KMnO4, mL\n",
      "\n",
      "#Calculation\n",
      "nKMnO4=MKMnO4*VKMnO4/1000 \n",
      "nFeSO4=5*nKMnO4 \n",
      "VFeSO4=25 #volume of FeSO4, mL\n",
      "MFeSO4=nFeSO4/VFeSO4*1000 \n",
      "\n",
      "#Result\n",
      "print\"The molarity of FeSO4 solution is :\",round(MFeSO4,3),\"M\\n\""
     ],
     "language": "python",
     "metadata": {},
     "outputs": [
      {
       "output_type": "stream",
       "stream": "stdout",
       "text": [
        "The molarity of FeSO4 solution is : 0.436 M\n",
        "\n"
       ]
      }
     ],
     "prompt_number": 20
    }
   ],
   "metadata": {}
  }
 ]
}