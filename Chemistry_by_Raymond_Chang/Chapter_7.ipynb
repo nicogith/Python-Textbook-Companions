{
 "metadata": {
  "name": ""
 },
 "nbformat": 3,
 "nbformat_minor": 0,
 "worksheets": [
  {
   "cells": [
    {
     "cell_type": "heading",
     "level": 1,
     "metadata": {},
     "source": [
      "Chapter 7:Quantum theorem and electronic structure of Atoms"
     ]
    },
    {
     "cell_type": "heading",
     "level": 2,
     "metadata": {},
     "source": [
      "Example no:7.1,Page no:27"
     ]
    },
    {
     "cell_type": "code",
     "collapsed": false,
     "input": [
      "#Variable declaration\n",
      "lamda=522*10**-9 #wavelength, m\n",
      "c=3*10**8 #speed of light in vacuum, m/s\n",
      "\n",
      "#Calculation\n",
      "v=c/lamda #frequency, Hz\n",
      "\n",
      "#Result\n",
      "print\"The frequency of the wave is :%.2e\"%v,\"Hz\""
     ],
     "language": "python",
     "metadata": {},
     "outputs": [
      {
       "output_type": "stream",
       "stream": "stdout",
       "text": [
        "The frequency of the wave is :5.75e+14 Hz\n"
       ]
      }
     ],
     "prompt_number": 58
    },
    {
     "cell_type": "heading",
     "level": 2,
     "metadata": {},
     "source": [
      "Example no:7.2,Page no:280"
     ]
    },
    {
     "cell_type": "code",
     "collapsed": false,
     "input": [
      "#Variable declaration\n",
      "c=3*10**8 #speed of light in vacuum, m/s\n",
      "h=6.63*10**-34 #planck's constant, J s\n",
      "lamda1=5*10**-5 #wavelength, m\n",
      "lamda2=5*10**-11 #wavelength, m\n",
      "\n",
      "#Calculation\n",
      "#(a)\n",
      "E1=h*c/lamda1 #energy, J\n",
      "#(b)\n",
      "E2=h*c/lamda2 #energy, J\n",
      "\n",
      "#Result\n",
      "print\"(a) the energy of the photon is :%.2e\"%E1,\"J\"\n",
      "print\"(b) the energy of the photon is :%.2e\"%E2,\"J\"\n"
     ],
     "language": "python",
     "metadata": {},
     "outputs": [
      {
       "output_type": "stream",
       "stream": "stdout",
       "text": [
        "(a) the energy of the photon is :3.98e-21 J\n",
        "(b) the energy of the photon is :3.98e-15 J\n"
       ]
      }
     ],
     "prompt_number": 59
    },
    {
     "cell_type": "heading",
     "level": 2,
     "metadata": {},
     "source": [
      "Example no:7.3,Page no:281"
     ]
    },
    {
     "cell_type": "code",
     "collapsed": false,
     "input": [
      "#Variable declaration\n",
      "W=3.42*10**-19      #Work function of cesium in J\n",
      "h=6.63*10**-34      #planck's constant in J.s\n",
      "v2=10**15     #Freq for irridation in s-1\n",
      "\n",
      "#Calculation\n",
      "#part a\n",
      "KE=0\n",
      "#hv=KE+w\n",
      "v=W/h\n",
      "#part b\n",
      "KE=h*v2-W\n",
      "\n",
      "#Result\n",
      "print\"(a)Minimum frequency of light is %.2e\"%v,\"s**-1\"\n",
      "print\"(b).Kinetic energy of ejected electron is\",KE,\"J\""
     ],
     "language": "python",
     "metadata": {},
     "outputs": [
      {
       "output_type": "stream",
       "stream": "stdout",
       "text": [
        "(a)Minimum frequency of light is 5.16e+14 s**-1\n",
        "(b).Kinetic energy of ejected electron is 3.21e-19 J\n"
       ]
      }
     ],
     "prompt_number": 60
    },
    {
     "cell_type": "heading",
     "level": 2,
     "metadata": {},
     "source": [
      "Example no:7.4,Page no:287"
     ]
    },
    {
     "cell_type": "code",
     "collapsed": false,
     "input": [
      "#Variable declaration\n",
      "c=3*10**8 #speed of light in vacuum, m/s\n",
      "h=6.63*10**-34 #planck's constant, J s\n",
      "Rh=2.18*10**-18 #rydberg's constant, J\n",
      "ni=5.0 #initial orbit\n",
      "nf=2.0 #final orbit\n",
      "\n",
      "#Calculation\n",
      "deltaE=Rh*(1/ni**2-1/nf**2) \n",
      "lamda=c*h/-deltaE \n",
      "\n",
      "#Result\n",
      "print\"The wavelength of the photon is :\",round(lamda*10**9),\"nm\"\n"
     ],
     "language": "python",
     "metadata": {},
     "outputs": [
      {
       "output_type": "stream",
       "stream": "stdout",
       "text": [
        "The wavelength of the photon is : 434.0 nm\n"
       ]
      }
     ],
     "prompt_number": 61
    },
    {
     "cell_type": "heading",
     "level": 2,
     "metadata": {},
     "source": [
      "Example no:7.5,Page no:291"
     ]
    },
    {
     "cell_type": "code",
     "collapsed": false,
     "input": [
      "#Variable declaration\n",
      "h=6.63*10**-34 #planck's constant, J s\n",
      "m1=0.06 #mass, kg\n",
      "u1=68.0 #speed, m/s\n",
      "m2=9.1094*10**-31 #mass, kg\n",
      "u2=68 #speed, m/s\n",
      "\n",
      "#Calculation\n",
      "# (a)\n",
      "lamda1=h/(m1*u1) #wavelength, m\n",
      "#(b)\n",
      "lamda2=h/(m2*u2) #wavelength, m\n",
      "\n",
      "#Result\n",
      "print\"The wavelength of the tennis ball is :\",lamda1,\"m\"\n",
      "print\"The wavelength of the electron is :%.1e\"%lamda2,\"m\""
     ],
     "language": "python",
     "metadata": {},
     "outputs": [
      {
       "output_type": "stream",
       "stream": "stdout",
       "text": [
        "The wavelength of the tennis ball is : 1.625e-34 m\n",
        "The wavelength of the electron is :1.1e-05 m\n"
       ]
      }
     ],
     "prompt_number": 62
    },
    {
     "cell_type": "heading",
     "level": 2,
     "metadata": {},
     "source": [
      "Example no:,7.7,Page no:299"
     ]
    },
    {
     "cell_type": "code",
     "collapsed": false,
     "input": [
      "#Variable declaration\n",
      "n=3    #Principal quantum no\n",
      "\n",
      "#Calculation\n",
      "#The possible values of l are 0,1,2\n",
      "s=1    #One 3s orbital,n=3,l=0,ml=0\n",
      "p=3    #Three p obitals\n",
      "d=5    #five 'd' orbital\n",
      "total=s+p+d\n",
      "\n",
      "#Result\n",
      "print\"The total no of orbitals is:\",total"
     ],
     "language": "python",
     "metadata": {},
     "outputs": [
      {
       "output_type": "stream",
       "stream": "stdout",
       "text": [
        "The total no of orbitals is: 9\n"
       ]
      }
     ],
     "prompt_number": 63
    },
    {
     "cell_type": "heading",
     "level": 2,
     "metadata": {},
     "source": [
      "Example no:7.9,Page no:306"
     ]
    },
    {
     "cell_type": "code",
     "collapsed": false,
     "input": [
      "#Variable declaration\n",
      "n=3    #Principal quantum number\n",
      "l=[0,1,2]\n",
      "n=[0,0,0]\n",
      "\n",
      "#Calculation\n",
      "print\"Value of l \\t\\t No of orbitals(2l+1)\"\n",
      "print\"--------------------------------------------\"\n",
      "total=0\n",
      "for i in range(0,3):\n",
      "    n[i]=2*l[i]+1\n",
      "    print l[i],\"\\t\\t\\t\\t\",n[i]\n",
      "    total=n[i]+total\n",
      "max=2*total\n",
      "\n",
      "#Result\n",
      "print\"The maximum number of electrons that can reside is\",max\n",
      "   \n",
      "\n"
     ],
     "language": "python",
     "metadata": {},
     "outputs": [
      {
       "output_type": "stream",
       "stream": "stdout",
       "text": [
        "Value of l \t\t No of orbitals(2l+1)\n",
        "--------------------------------------------\n",
        "0 \t\t\t\t1\n",
        "1 \t\t\t\t3\n",
        "2 \t\t\t\t5\n",
        "The maximum number of electrons that can reside is 18\n"
       ]
      }
     ],
     "prompt_number": 64
    }
   ],
   "metadata": {}
  }
 ]
}