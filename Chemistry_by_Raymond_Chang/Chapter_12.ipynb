{
 "metadata": {
  "name": ""
 },
 "nbformat": 3,
 "nbformat_minor": 0,
 "worksheets": [
  {
   "cells": [
    {
     "cell_type": "heading",
     "level": 1,
     "metadata": {},
     "source": [
      "Chapter 12:Physical Properties of Solutions"
     ]
    },
    {
     "cell_type": "heading",
     "level": 2,
     "metadata": {},
     "source": [
      "Example no:12.2,Page no:518"
     ]
    },
    {
     "cell_type": "code",
     "collapsed": false,
     "input": [
      "#Variable declaration\n",
      "msolute=0.892 #mass of solute, g\n",
      "msolvent=54.6 #mass of solvent, g\n",
      "\n",
      "#Calculation\n",
      "percent=msolute/(msolute+msolvent)*100 #concentration, percent by mass\n",
      "\n",
      "#Result\n",
      "print\"The concentration of KCl solution by mass is :\",round(percent,2),\"%\""
     ],
     "language": "python",
     "metadata": {},
     "outputs": [
      {
       "output_type": "stream",
       "stream": "stdout",
       "text": [
        "The concentration of KCl solution by mass is : 1.61 %\n"
       ]
      }
     ],
     "prompt_number": 39
    },
    {
     "cell_type": "heading",
     "level": 2,
     "metadata": {},
     "source": [
      "Example no:12.3,Page no:518"
     ]
    },
    {
     "cell_type": "code",
     "collapsed": false,
     "input": [
      "#Variable declaration \n",
      "mass=24.4 #mass of H2SO4, g\n",
      "M=98.09 #mol maass of H2SO4, g\n",
      "\n",
      "#Calculation\n",
      "n=mass/M #moles of H2SO4\n",
      "massH2O=0.198 #mass of H2O, kg\n",
      "m=n/massH2O #molality of H2SO4, molal\n",
      "\n",
      "#Result\n",
      "print\"The molality of sulfuric acid solution is :\",round(m,2),\"m\"\n"
     ],
     "language": "python",
     "metadata": {},
     "outputs": [
      {
       "output_type": "stream",
       "stream": "stdout",
       "text": [
        "The molality of sulfuric acid solution is : 1.26 m\n"
       ]
      }
     ],
     "prompt_number": 40
    },
    {
     "cell_type": "heading",
     "level": 2,
     "metadata": {},
     "source": [
      "Example no:12.4,Page no:520"
     ]
    },
    {
     "cell_type": "code",
     "collapsed": false,
     "input": [
      "#Variable declaration\n",
      "#considering 1L solution\n",
      "msolution=976 #mass of solution, g\n",
      "n=2.45 #moles\n",
      "CH3OH=32.04 #mol. mass of CH3OH, g\n",
      "\n",
      "#Calculation\n",
      "msolute=n*CH3OH #mass of solute, g\n",
      "msolvent=(msolution-msolute)/1000 #mass of solvent, kg\n",
      "m=n/msolvent #molality, molal\n",
      "\n",
      "#Result\n",
      "print\"The molality of CH3OH solution is :\",round(m,2),\"m\""
     ],
     "language": "python",
     "metadata": {},
     "outputs": [
      {
       "output_type": "stream",
       "stream": "stdout",
       "text": [
        "The molality of CH3OH solution is : 2.73 m\n"
       ]
      }
     ],
     "prompt_number": 41
    },
    {
     "cell_type": "heading",
     "level": 2,
     "metadata": {},
     "source": [
      "Example no:12.5,Page no:520"
     ]
    },
    {
     "cell_type": "code",
     "collapsed": false,
     "input": [
      "#Variable declaration\n",
      "#considering 100g of solution\n",
      "percent=35.4 #mass percent of H3PO4\n",
      "H3PO4=97.99 #mol mass of H3PO4\n",
      "\n",
      "#Calculation\n",
      "n=percent/H3PO4 #moles of H3PO4\n",
      "mH2O=(100-percent)/1000 #mass of solvent\n",
      "m=n/mH2O #molality of H3PO4, molal\n",
      "\n",
      "#Result\n",
      "print\"the molality of H3PO4 solution is :\",round(m,2),\"m\""
     ],
     "language": "python",
     "metadata": {},
     "outputs": [
      {
       "output_type": "stream",
       "stream": "stdout",
       "text": [
        "the molality of H3PO4 solution is : 5.59 m\n"
       ]
      }
     ],
     "prompt_number": 32
    },
    {
     "cell_type": "heading",
     "level": 2,
     "metadata": {},
     "source": [
      "Example no:12.6,Page no:525"
     ]
    },
    {
     "cell_type": "code",
     "collapsed": false,
     "input": [
      "#Variable declaration\n",
      "c=6.8*10**-4 #solubility of N2 in water, M\n",
      "P=1 #pressure, atm\n",
      "\n",
      "#Calculation\n",
      "k=c/P #henry's constant\n",
      "#for partial pressure of N2=0.78atm\n",
      "P=0.78 #partial pressure of N2, atm\n",
      "c=k*P #solubility of N2, M\n",
      "\n",
      "#Result\n",
      "print\"The solubility of N2 gas in water is :%.1e\"%c,\"M\"\n"
     ],
     "language": "python",
     "metadata": {},
     "outputs": [
      {
       "output_type": "stream",
       "stream": "stdout",
       "text": [
        "The solubility of N2 gas in water is :5.3e-04 M\n"
       ]
      }
     ],
     "prompt_number": 42
    },
    {
     "cell_type": "heading",
     "level": 2,
     "metadata": {},
     "source": [
      "Example no:12.7,Page no:527"
     ]
    },
    {
     "cell_type": "code",
     "collapsed": false,
     "input": [
      "#Variable declaration\n",
      "H2O=18.02 #mol mass of H2O, g\n",
      "V=460 #volume of water, mL\n",
      "glucose=180.2 #mol. mass of glucose, g\n",
      "mass=218 #mass of gllucose, g\n",
      "\n",
      "#Calculation\n",
      "n1=V/H2O #moles of water\n",
      "n2=mass/glucose #moles of glucose\n",
      "x1=n1/(n1+n2) #mole fraction of water\n",
      "P=31.82 #vapor pressure of pure water, mmHg\n",
      "P1=x1*P #vapor pressure afteraddition of glucose, mmHg\n",
      "#Result\n",
      "print\"Vapor pressure is:\",round(P1,1),\"mm Hg\"\n",
      "print\"The vapor pressure lowering is :\",round(P-P1,1),\"mmHg\""
     ],
     "language": "python",
     "metadata": {},
     "outputs": [
      {
       "output_type": "stream",
       "stream": "stdout",
       "text": [
        "Vapor pressure is: 30.4 mm Hg\n",
        "The vapor pressure lowering is : 1.4 mmHg\n"
       ]
      }
     ],
     "prompt_number": 43
    },
    {
     "cell_type": "heading",
     "level": 2,
     "metadata": {},
     "source": [
      "Example no:12.8,Page no:532"
     ]
    },
    {
     "cell_type": "code",
     "collapsed": false,
     "input": [
      "#Variable declaration\n",
      "mH2O=2.505 #mass of H2O, kg\n",
      "mEG=651 #mass of EG, g\n",
      "EG=62.07 #mol mass of EG, g\n",
      "\n",
      "#Calculation\n",
      "n=mEG/EG #moles of EG\n",
      "m=n/mH2O #molality of EG\n",
      "Kf=1.86 #molal freezing point depression constant, C/m\n",
      "deltaTf=Kf*m #depression in freezing point, C\n",
      "Kb=0.52 #molal boiling point elevation constant, C/m\n",
      "deltaTb=Kb*m #elevation in boiling point, C\n",
      "\n",
      "#Result\n",
      "print\"The depression in freezing point is\",round(deltaTf,2),\"C\"\n",
      "print\"Elevation in boiling point is :\",round(deltaTb,1),\"C\""
     ],
     "language": "python",
     "metadata": {},
     "outputs": [
      {
       "output_type": "stream",
       "stream": "stdout",
       "text": [
        "The depression in freezing point is 7.79 C\n",
        "Elevation in boiling point is : 2.2 C\n"
       ]
      }
     ],
     "prompt_number": 44
    },
    {
     "cell_type": "heading",
     "level": 2,
     "metadata": {},
     "source": [
      "Example no:12.9,Page no:536"
     ]
    },
    {
     "cell_type": "code",
     "collapsed": false,
     "input": [
      "#Variable declaration\n",
      "pie=30 #osmotic pressure, atm\n",
      "R=0.0821 #gas constant, L atm/K mol\n",
      "T=298 #temp., K\n",
      "\n",
      "#Calculation\n",
      "M=pie/(R*T) #molar concentration, M\n",
      "\n",
      "#Result\n",
      "print\"The molar concentration is :\",round(M,2),\"M\""
     ],
     "language": "python",
     "metadata": {},
     "outputs": [
      {
       "output_type": "stream",
       "stream": "stdout",
       "text": [
        "The molar concentration is : 1.23 M\n"
       ]
      }
     ],
     "prompt_number": 45
    },
    {
     "cell_type": "heading",
     "level": 2,
     "metadata": {},
     "source": [
      "Example no:12.10,Page no:537"
     ]
    },
    {
     "cell_type": "code",
     "collapsed": false,
     "input": [
      "#Variable declaration\n",
      "deltaTf=1.05 #depression in freezing point, C\n",
      "Kf=5.12 #molal freezing point depression constant\n",
      "\n",
      "#Calculation\n",
      "m=deltaTf/Kf #molality of solution, molal\n",
      "mbenzene=301/1000.0 #mass of benzene, kg\n",
      "n=m*mbenzene #moles of sapmle\n",
      "msample=7.85 #mass of sample, g\n",
      "molarmass=msample/n #molar mass of sample, g/mol\n",
      "\n",
      "#Result\n",
      "print\"The molar mass of the sample is :\",round(molarmass),\"g/mol \""
     ],
     "language": "python",
     "metadata": {},
     "outputs": [
      {
       "output_type": "stream",
       "stream": "stdout",
       "text": [
        "The molar mass of the sample is : 127.0 g/mol \n"
       ]
      }
     ],
     "prompt_number": 46
    },
    {
     "cell_type": "heading",
     "level": 2,
     "metadata": {},
     "source": [
      "Example no:12.11,Page no:538"
     ]
    },
    {
     "cell_type": "code",
     "collapsed": false,
     "input": [
      "#Variable declaration\n",
      "R=0.0821 #gas constant, L atm/K mol\n",
      "T=298 #temp, K\n",
      "pie=10/760.0 #osmotic pressure, atm\n",
      "\n",
      "#Calculation\n",
      "M=pie/(R*T) #molarity of the solution, M\n",
      "#taking 1L of solution\n",
      "mass=35 #mass of Hg, g\n",
      "n=M #moles\n",
      "molarmass=mass/n #molar mass of hemoglobin, g/mol\n",
      "\n",
      "#Result\n",
      "print\"The molar mass of the hemoglobin is :%.2e\"%molarmass,\"g/mol\""
     ],
     "language": "python",
     "metadata": {},
     "outputs": [
      {
       "output_type": "stream",
       "stream": "stdout",
       "text": [
        "The molar mass of the hemoglobin is :6.51e+04 g/mol\n"
       ]
      }
     ],
     "prompt_number": 47
    },
    {
     "cell_type": "heading",
     "level": 2,
     "metadata": {},
     "source": [
      "Example no:12.12,Page no:540"
     ]
    },
    {
     "cell_type": "code",
     "collapsed": false,
     "input": [
      "#Variable declaration\n",
      "R=0.0821 #gas constant, L atm/K mol\n",
      "T=298 #temp, K\n",
      "pie=0.465 #osmotic pressure, atm\n",
      "M=0.01 #molarity of the solution, M\n",
      "\n",
      "#Calculation\n",
      "i=pie/(M*R*T) #vant hoff factor of KI\n",
      "\n",
      "#Result\n",
      "print\"The vant hoff factor of KI at 25 C is :\",round(i,2)\n"
     ],
     "language": "python",
     "metadata": {},
     "outputs": [
      {
       "output_type": "stream",
       "stream": "stdout",
       "text": [
        "The vant hoff factor of KI at 25 C is : 1.9\n"
       ]
      }
     ],
     "prompt_number": 48
    }
   ],
   "metadata": {}
  }
 ]
}