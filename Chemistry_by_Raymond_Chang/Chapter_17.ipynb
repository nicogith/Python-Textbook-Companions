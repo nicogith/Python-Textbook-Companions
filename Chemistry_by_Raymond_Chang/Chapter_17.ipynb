{
 "metadata": {
  "name": ""
 },
 "nbformat": 3,
 "nbformat_minor": 0,
 "worksheets": [
  {
   "cells": [
    {
     "cell_type": "heading",
     "level": 1,
     "metadata": {},
     "source": [
      "Chapter 17:Chemistry in the Atmosphere"
     ]
    },
    {
     "cell_type": "heading",
     "level": 2,
     "metadata": {},
     "source": [
      "Example no:17.1,Page no:774"
     ]
    },
    {
     "cell_type": "code",
     "collapsed": false,
     "input": [
      "#Variable declaration\n",
      "E=498.7*10**3/(6.022*10**23) #energy in J/molecule\n",
      "h=6.63*10**-34               #plancks constant, J s\n",
      "\n",
      "#Calculation\n",
      "v=E/h #frequency of the photon, s**-1\n",
      "lamda=3*10**8/v #wavelength in m, since v*lambda=speed of light in vacuum\n",
      "\n",
      "#Variable declaration\n",
      "print\"The maximum wavelength of the photon which can dissociate an O2 molecule is :\",round(lamda*10**9),\"nm\""
     ],
     "language": "python",
     "metadata": {},
     "outputs": [
      {
       "output_type": "stream",
       "stream": "stdout",
       "text": [
        "The maximum wavelength of the photon which can dissociate an O2 molecule is : 240.0 nm\n"
       ]
      }
     ],
     "prompt_number": 2
    },
    {
     "cell_type": "heading",
     "level": 2,
     "metadata": {},
     "source": [
      "Example no:17.3,Page no:792"
     ]
    },
    {
     "cell_type": "code",
     "collapsed": false,
     "input": [
      "#Variable declaration\n",
      "Rninitial=1 #initial mass of Rn, g\n",
      "\n",
      "#Calculation\n",
      "Rnfinal=Rninitial*0.5**10 #final mass of Rn, g\n",
      "\n",
      "#Result\n",
      "print\"The amount of Rn left after 10 half lives is :%.1e\"%Rnfinal,\"g\""
     ],
     "language": "python",
     "metadata": {},
     "outputs": [
      {
       "output_type": "stream",
       "stream": "stdout",
       "text": [
        "The amount of Rn left after 10 half lives is :9.8e-04 g\n"
       ]
      }
     ],
     "prompt_number": 5
    }
   ],
   "metadata": {}
  }
 ]
}