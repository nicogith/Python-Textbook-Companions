{
 "metadata": {
  "name": ""
 },
 "nbformat": 3,
 "nbformat_minor": 0,
 "worksheets": [
  {
   "cells": [
    {
     "cell_type": "heading",
     "level": 1,
     "metadata": {},
     "source": [
      "Chpater 1:Chemistry-The Study of Change"
     ]
    },
    {
     "cell_type": "heading",
     "level": 2,
     "metadata": {},
     "source": [
      "Example no:1.1,Page no:19"
     ]
    },
    {
     "cell_type": "code",
     "collapsed": false,
     "input": [
      "#Variable declaration\n",
      "m=301;#mass of gold, g\n",
      "v=15.6;# volume of gold, cm**3\n",
      "\n",
      "#Calculation\n",
      "d=m/v;#density of gold, g/cm**3\n",
      "\n",
      "#Result\n",
      "print\"The density of gold is : \",round(d,1),\" g/cm**3\"\n"
     ],
     "language": "python",
     "metadata": {},
     "outputs": [
      {
       "output_type": "stream",
       "stream": "stdout",
       "text": [
        "The density of gold is :  19.3  g/cm**3\n",
        "\n"
       ]
      }
     ],
     "prompt_number": 39
    },
    {
     "cell_type": "heading",
     "level": 2,
     "metadata": {},
     "source": [
      "Example no:1.2,Page no:19"
     ]
    },
    {
     "cell_type": "code",
     "collapsed": false,
     "input": [
      "#Variable declaration\n",
      "d=13.6;#density of mercury, g/ml\n",
      "v=5.50;# volume of mercury, ml\n",
      "\n",
      "#Calculation\n",
      "m=d*v;#mass of mercury, g\n",
      "\n",
      "#Result\n",
      "print\"The mass of mercury is : \",round(m,1),\" g\"\n"
     ],
     "language": "python",
     "metadata": {},
     "outputs": [
      {
       "output_type": "stream",
       "stream": "stdout",
       "text": [
        "The mass of mercury is :  74.8  g\n",
        "\n"
       ]
      }
     ],
     "prompt_number": 40
    },
    {
     "cell_type": "heading",
     "level": 2,
     "metadata": {},
     "source": [
      "Example no:1.3,Page no:20"
     ]
    },
    {
     "cell_type": "code",
     "collapsed": false,
     "input": [
      "\n",
      "#Variable declaration\n",
      "C1=224.0#melting point of solder, C\n",
      "F=-452.0#boiling point of helium, F\n",
      "C3=-38.9#meltiing point of mercury, C\n",
      "\n",
      "#Calculation\n",
      "#(a)\n",
      "F1=(C1*(9.0/5.0)+32.0)       #melting point of solder, F\n",
      "#(b)\n",
      "C2=(F-32.0)*5.0/9.0       #boiling point of helium, C\n",
      "#(c)\n",
      "K=C3+273.15#meltiing point of mercury, K\n",
      "\n",
      "#Result\n",
      "print\"(a) The melting point of solder is : \",round(F1),\" F\"\n",
      "print\"(b) The boiling point of helium is :\",round(C2),\"C\"\n",
      "print\"(c) The meltiing point of mercury is :\",round(K,1),\"K\"\n"
     ],
     "language": "python",
     "metadata": {},
     "outputs": [
      {
       "output_type": "stream",
       "stream": "stdout",
       "text": [
        "(a) The melting point of solder is :  435.0  F\n",
        "\n",
        "(b) The boiling point of helium is : -269.0 C\n",
        "\n",
        "(c) The meltiing point of mercury is : 234.2 K\n",
        "\n"
       ]
      }
     ],
     "prompt_number": 15
    },
    {
     "cell_type": "heading",
     "level": 2,
     "metadata": {},
     "source": [
      "Example no:1.5,Page no:25"
     ]
    },
    {
     "cell_type": "code",
     "collapsed": false,
     "input": [
      "#Variable declaration\n",
      "A1=11254.1;#g\n",
      "B1=0.1983;#g\n",
      "A2=66.59;#L\n",
      "B2=3.113;#L\n",
      "A3=8.16;#m\n",
      "B3=5.1355;\n",
      "A4=0.0154;#kg\n",
      "B4=88.3;#mL\n",
      "A5=2.64*10**3;#cm\n",
      "B5=3.27*10**2;#cm\n",
      "\n",
      "#Calculation\n",
      "#(a)\n",
      "C1=A1+B1;#g\n",
      "#(b)\n",
      "C2=A2-B2;#L\n",
      "#(c)\n",
      "C3=A3*B3;#m\n",
      "#(d)\n",
      "C4=A4/B4;#kg/mL\n",
      "#(e)\n",
      "C5=A5+B5;#cm\n",
      "print\"(a) (\",round(A1,1),\"+\",round(B1,4),\")g=\",round(C1,1),\"g\\n\"\n",
      "print\"(b) (\",A2,\" -\",B2,\")L=\",round(C2,2),\"L\\n\"\n",
      "print\"(c) \",A3,\"m*\",B3,\"=\",C3,\"m =\",round(C3,1),\"m\\n\"\n",
      "print\"(d) \",A4,\" kg /\",B4,\" mL =\",C4,\"=\",round(C4,6),\"kg/mL=%.2e\"%round(C4,6),\"kg/mL\\n\"\n",
      "print\"(e) (\",(A5*10**-3),\"*10**3 + %.2f\"%(B5*10**-2),\"*10**2 )cm =\",(C5*10**-3),\"*10**3 cm\\n\""
     ],
     "language": "python",
     "metadata": {},
     "outputs": [
      {
       "output_type": "stream",
       "stream": "stdout",
       "text": [
        "(a) ( 11254.1 + 0.1983 )g= 11254.3 g\n",
        "\n",
        "(b) ( 66.59  - 3.113 )L= 63.48 L\n",
        "\n",
        "(c)  8.16 m* 5.1355 = 41.90568 m = 41.9 m\n",
        "\n",
        "(d)  0.0154  kg / 88.3  mL = 0.000174405436014 = 0.000174 kg/mL=1.74e-04 kg/mL\n",
        "\n",
        "(e) ( 2.64 *10**3 + 3.27 *10**2 )cm = 2.967 *10**3 cm\n",
        "\n"
       ]
      }
     ],
     "prompt_number": 41
    },
    {
     "cell_type": "heading",
     "level": 2,
     "metadata": {},
     "source": [
      "Example no:1.6,Page no:29"
     ]
    },
    {
     "cell_type": "code",
     "collapsed": false,
     "input": [
      "#Variable declaration\n",
      "lb=0.0833;#pound mass, lb\n",
      "\n",
      "#Calculation\n",
      "g=lb*453.6;#pound mass to gram mass, 1lb=453.6g\n",
      "mg=1000*g;#gram to milligram\n",
      "\n",
      "#Result\n",
      "print\"The mass of glucose is :%.2e\"%mg,\"mg\""
     ],
     "language": "python",
     "metadata": {},
     "outputs": [
      {
       "output_type": "stream",
       "stream": "stdout",
       "text": [
        "The mass of glucose is :3.78e+04 mg\n"
       ]
      }
     ],
     "prompt_number": 51
    },
    {
     "cell_type": "heading",
     "level": 2,
     "metadata": {},
     "source": [
      "Example no:1.7,Page no:30"
     ]
    },
    {
     "cell_type": "code",
     "collapsed": false,
     "input": [
      "#Variable declaration\n",
      "L=5.2;#volume in litres\n",
      "\n",
      "#Calculation\n",
      "cc=1000*L;#litre to cm**3\n",
      "mc=cc/10**6;#cm**3 to m**3\n",
      "\n",
      "#Result\n",
      "print\"The volume of blood is %.1e\"%mc,\"m**3\""
     ],
     "language": "python",
     "metadata": {},
     "outputs": [
      {
       "output_type": "stream",
       "stream": "stdout",
       "text": [
        "The volume of blood is 5.2e-03 m**3\n"
       ]
      }
     ],
     "prompt_number": 2
    },
    {
     "cell_type": "heading",
     "level": 2,
     "metadata": {},
     "source": [
      "Example no:1.8,Page no:30"
     ]
    },
    {
     "cell_type": "code",
     "collapsed": false,
     "input": [
      "#Variable declaration\n",
      "gpcc=0.808;#density in gram per cm**3\n",
      "\n",
      "#Calculation\n",
      "kgpmc=1000*gpcc;#g/cm**3 to kg/m**3, as 1000g=1kg and 1cm=10**-2 m\n",
      "\n",
      "#Result\n",
      "print\"The density of liquid nitrogen is :\",kgpmc,\"kg/m**3\""
     ],
     "language": "python",
     "metadata": {},
     "outputs": [
      {
       "output_type": "stream",
       "stream": "stdout",
       "text": [
        "The density of liquid nitrogen is : 808.0 kg/m**3\n"
       ]
      }
     ],
     "prompt_number": 1
    }
   ],
   "metadata": {}
  }
 ]
}