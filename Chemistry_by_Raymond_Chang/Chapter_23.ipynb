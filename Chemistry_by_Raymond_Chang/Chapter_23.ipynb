{
 "metadata": {
  "name": ""
 },
 "nbformat": 3,
 "nbformat_minor": 0,
 "worksheets": [
  {
   "cells": [
    {
     "cell_type": "heading",
     "level": 1,
     "metadata": {},
     "source": [
      "Chapter 23:Nuclear Chemistry"
     ]
    },
    {
     "cell_type": "heading",
     "level": 2,
     "metadata": {},
     "source": [
      "Example no:23.2,Page no:994"
     ]
    },
    {
     "cell_type": "code",
     "collapsed": false,
     "input": [
      "#Variable declaration\n",
      "NA=6.022*10**23 #avogadro number\n",
      "c=3*10**8 #speed of light, m/s\n",
      "p=1.007825 #mass of proton, amu\n",
      "n=1.008665 #mass of neutron, amu\n",
      "mI=126.9004 #atomic mass of I, amu\n",
      "\n",
      "#Calculation\n",
      "pI=53*p+74*n #estimated mass of I, amu\n",
      "deltam=mI-pI #mass defect, amu\n",
      "deltaE=-deltam*c**2 #energy released, amu m**2/s**2\n",
      "deltaE=deltaE/(NA*1000) #energy released in J\n",
      "print\"Nuclear binding energy is %.2e\"%deltaE,\"J\"\n",
      "deltaE=deltaE/127 #binding energy per nucleon, J\n",
      "\n",
      "#Result\n",
      "print\"The nuclear binding energy per nucleon is :%.2e\"%deltaE,\"J/nucleon\""
     ],
     "language": "python",
     "metadata": {},
     "outputs": [
      {
       "output_type": "stream",
       "stream": "stdout",
       "text": [
        "Nuclear binding energy is 1.73e-10 J\n",
        "The nuclear binding energy per nucleon is :1.36e-12 J/nucleon\n"
       ]
      }
     ],
     "prompt_number": 5
    }
   ],
   "metadata": {}
  }
 ]
}