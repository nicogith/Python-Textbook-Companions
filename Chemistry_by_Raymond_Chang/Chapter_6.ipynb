{
 "metadata": {
  "name": ""
 },
 "nbformat": 3,
 "nbformat_minor": 0,
 "worksheets": [
  {
   "cells": [
    {
     "cell_type": "heading",
     "level": 1,
     "metadata": {},
     "source": [
      "Chapter 6:Thermochemistry"
     ]
    },
    {
     "cell_type": "heading",
     "level": 2,
     "metadata": {},
     "source": [
      "Example no:6.1,Page no:237"
     ]
    },
    {
     "cell_type": "code",
     "collapsed": false,
     "input": [
      "#Variable declaration\n",
      "P1=0 #external pressure, atm\n",
      "Vf1=6 #final volume, L\n",
      "Vi1=2 #initial volume, L\n",
      "P2=1.2 #external pressure, atm\n",
      "Vf2=6 #final volume, L\n",
      "Vi2=2 #initial volume, L\n",
      "\n",
      "\n",
      "#Calculation\n",
      "#(a)\n",
      "W1=-P1*(Vf1-Vi1) #work in atm.L\n",
      "#(b)\n",
      "W2=-P2*(Vf2-Vi2) #work in atm.L\n",
      "W2=W2*101.3 #work in J\n",
      "\n",
      "#Result\n",
      "print\"(a).The work done in expansion against vacuum is :\",W1,\"J\\n\"\n",
      "print\"(b).The work done in expansion against 1.2 atm pressure is :%.1e\"%W2,\"J\\n\"\n"
     ],
     "language": "python",
     "metadata": {},
     "outputs": [
      {
       "output_type": "stream",
       "stream": "stdout",
       "text": [
        "(a).The work done in expansion against vacuum is : 0 J\n",
        "\n",
        "(b).The work done in expansion against 1.2 atm pressure is :-4.9e+02 J\n",
        "\n"
       ]
      }
     ],
     "prompt_number": 44
    },
    {
     "cell_type": "heading",
     "level": 2,
     "metadata": {},
     "source": [
      "Example no:6.2,Page no:238"
     ]
    },
    {
     "cell_type": "code",
     "collapsed": false,
     "input": [
      "#Variable declaration\n",
      "q=-128 #heat transfer from the gas, J\n",
      "w=462 #work done in compressing the gas, J\n",
      "\n",
      "#Calculation\n",
      "deltaE=q+w #change in energy of the gas, J\n",
      "\n",
      "#Result\n",
      "print\"The change in energy for the process is :\",deltaE,\"J\\n\""
     ],
     "language": "python",
     "metadata": {},
     "outputs": [
      {
       "output_type": "stream",
       "stream": "stdout",
       "text": [
        "The change in energy for the process is : 334 J\n",
        "\n"
       ]
      }
     ],
     "prompt_number": 45
    },
    {
     "cell_type": "heading",
     "level": 2,
     "metadata": {},
     "source": [
      "Example no:6.3,Page no:243"
     ]
    },
    {
     "cell_type": "code",
     "collapsed": false,
     "input": [
      "#Variable declaration\n",
      "mSO2=87.9 #mass in g\n",
      "SO2=64.07 #molar mass in g\n",
      "\n",
      "#Calculation\n",
      "nSO2=mSO2/SO2 #moles of SO2\n",
      "deltaH=-198.2 #heat produced for 2 mol, in kJ/mol\n",
      "deltaH=deltaH/2  #for one mole SO2,in kJ/mol\n",
      "Hprod=deltaH*nSO2 #heat produced in this case, in kJ/mol\n",
      "\n",
      "#Result\n",
      "print\"The heat produced in a reaction is :\",round(Hprod),\"kJ\\n\""
     ],
     "language": "python",
     "metadata": {},
     "outputs": [
      {
       "output_type": "stream",
       "stream": "stdout",
       "text": [
        "The heat produced in a reaction is : -136.0 kJ\n",
        "\n"
       ]
      }
     ],
     "prompt_number": 46
    },
    {
     "cell_type": "heading",
     "level": 2,
     "metadata": {},
     "source": [
      "Example no:6.4,Page no:245"
     ]
    },
    {
     "cell_type": "code",
     "collapsed": false,
     "input": [
      "#Variable declaration\n",
      "R=8.314 #gas constant, J/K. mol\n",
      "T=298 #temp in K\n",
      "deltaH=-566 #enthalpy change, kJ/mol\n",
      "deltan=2-3 #change in gas moles\n",
      "\n",
      "#Calculation\n",
      "deltaE=deltaH-R*T*deltan/1000.0 #change in internal energy, kJ/mol\n",
      "\n",
      "#Result\n",
      "print\"The change in internal energy in the reaction is :\",round(deltaE,1),\"kJ/mol\\n\""
     ],
     "language": "python",
     "metadata": {},
     "outputs": [
      {
       "output_type": "stream",
       "stream": "stdout",
       "text": [
        "The change in internal energy in the reaction is : -563.5 kJ/mol\n",
        "\n"
       ]
      }
     ],
     "prompt_number": 47
    },
    {
     "cell_type": "heading",
     "level": 2,
     "metadata": {},
     "source": [
      "Example no:6.5,Page no:246"
     ]
    },
    {
     "cell_type": "code",
     "collapsed": false,
     "input": [
      "#Variable declaration\n",
      "m=466 #mass in g\n",
      "s=4.184 #specific heat in J/g C\n",
      "\n",
      "#Calculation\n",
      "deltaT=74.6-8.5 #change in temp, C/K\n",
      "q=m*s*deltaT/1000 #amount of heat absorbed, kJ\n",
      "\n",
      "#Result\n",
      "print\"\\t the amount of heat absorbed is :\",round(q),\"kJ\\n\""
     ],
     "language": "python",
     "metadata": {},
     "outputs": [
      {
       "output_type": "stream",
       "stream": "stdout",
       "text": [
        "\t the amount of heat absorbed is : 129.0 kJ\n",
        "\n"
       ]
      }
     ],
     "prompt_number": 48
    },
    {
     "cell_type": "heading",
     "level": 2,
     "metadata": {},
     "source": [
      "Example no:6.6,Page no:248"
     ]
    },
    {
     "cell_type": "code",
     "collapsed": false,
     "input": [
      "#Variable declaration\n",
      "Ccal=10.17 #heat capacity, kJ/C\n",
      "deltaT=25.95-20.28 #change in temp, C\n",
      "m=1.435 #mass of naphthalene, g\n",
      "molm=128.2 #mol mass of naphthalene, g\n",
      "\n",
      "#Calculation\n",
      "qcal=Ccal*deltaT \n",
      "q=-qcal*molm/m #molar heat of combustion of naphthalene, kJ\n",
      "\n",
      "#Result\n",
      "print\"The molar heat of combustion of naphthalene is :%.3g\"%q,\"kJ/mol\\n\""
     ],
     "language": "python",
     "metadata": {},
     "outputs": [
      {
       "output_type": "stream",
       "stream": "stdout",
       "text": [
        "The molar heat of combustion of naphthalene is :-5.15e+03 kJ/mol\n",
        "\n"
       ]
      }
     ],
     "prompt_number": 49
    },
    {
     "cell_type": "heading",
     "level": 2,
     "metadata": {},
     "source": [
      "Example no:6.7,Page no:249"
     ]
    },
    {
     "cell_type": "code",
     "collapsed": false,
     "input": [
      "#Variable declaration\n",
      "#for water\n",
      "m=100 #mass, g\n",
      "s=4.184 #specific heat, J/g C\n",
      "deltaT=23.17-22.5 #change in temp., C\n",
      "qH2O=m*s*deltaT #heat gained by water, J\n",
      "\n",
      "#for lead\n",
      "qPb=-qH2O #heat lost by lead, J\n",
      "m=26.47 #mass, g\n",
      "\n",
      "#Calculation\n",
      "deltaT=23.17-89.98 #change in temp., C\n",
      "s=qPb/(m*deltaT) #specific heat, J/g C\n",
      "\n",
      "#Result\n",
      "print\"The specific heat of lead is :\",round(s,3),\"J/g C\\n\""
     ],
     "language": "python",
     "metadata": {},
     "outputs": [
      {
       "output_type": "stream",
       "stream": "stdout",
       "text": [
        "The specific heat of lead is : 0.159 J/g C\n",
        "\n"
       ]
      }
     ],
     "prompt_number": 50
    },
    {
     "cell_type": "heading",
     "level": 2,
     "metadata": {},
     "source": [
      "Example no:6.8,Page no:249"
     ]
    },
    {
     "cell_type": "code",
     "collapsed": false,
     "input": [
      "#Variable declaration\n",
      "#for water\n",
      "m=100+100 #mass, g\n",
      "s=4.184 #specific heat, J/g C\n",
      "deltaT=25.86-22.5 #change in temp., C\n",
      "\n",
      "#Calculation\n",
      "qsoln=m*s*deltaT/1000 #heat gained by water, kJ\n",
      "qrxn=-qsoln \n",
      "Hneut=qrxn/(0.5*0.1) \n",
      "\n",
      "#Result\n",
      "print\"The heat of neutralization is :\",round(Hneut,1),\"kJ/mol\\n\""
     ],
     "language": "python",
     "metadata": {},
     "outputs": [
      {
       "output_type": "stream",
       "stream": "stdout",
       "text": [
        "The heat of neutralization is : -56.2 kJ/mol\n",
        "\n"
       ]
      }
     ],
     "prompt_number": 52
    },
    {
     "cell_type": "heading",
     "level": 2,
     "metadata": {},
     "source": [
      "Example no:6.9,Page no:256"
     ]
    },
    {
     "cell_type": "code",
     "collapsed": false,
     "input": [
      "#Variable declaration\n",
      "deltaH1=-393.5        #kJ/mol\n",
      "deltaH2=-285.8        #kJ/mol\n",
      "deltaH3=-2598.8       #kJ/mol\n",
      "\n",
      "#Calculation\n",
      "deltaH4=2*(deltaH1)\n",
      "deltaH5=(-1.0/2.0)*deltaH3\n",
      "std_H=deltaH4+deltaH2+deltaH5\n",
      "#Result\n",
      "print\"Standard enthalpy of formation of acetylene is:\",std_H,\"kJ/mol\""
     ],
     "language": "python",
     "metadata": {},
     "outputs": [
      {
       "output_type": "stream",
       "stream": "stdout",
       "text": [
        "1299.4\n",
        "Standard enthalpy of formation of acetylene is: 226.6 kJ/mol\n"
       ]
      }
     ],
     "prompt_number": 5
    },
    {
     "cell_type": "heading",
     "level": 2,
     "metadata": {},
     "source": [
      "Example no:6.10,Page no:258"
     ]
    },
    {
     "cell_type": "code",
     "collapsed": false,
     "input": [
      "#Variable declaration\n",
      "deltaH_Fel=12.4        #Heat of frmtn of Fe(l) in kJ/mol\n",
      "deltaH_Al2O3=-1669.8   #Heat of formation of Al2O3 in kJ/mol\n",
      "deltaH_Al=0            #Heat of formation of Al\n",
      "deltaH_Fe2O3=-822.2     #Heat of formtion of Fe2O3 kJ/mol\n",
      "M_Al=26.98           #Molar mass of Al\n",
      "\n",
      "#Calculation\n",
      "deltaH_rxn=(deltaH_Al2O3+2*deltaH_Fel)-(2*deltaH_Al+deltaH_Fe2O3)\n",
      "ratio=deltaH_rxn/2.0\n",
      "heat_released=ratio/M_Al\n",
      "\n",
      "#Result\n",
      "print\"Heat released per gram of Al is\",round(heat_released,2),\"kJ/g\"\n",
      "\n"
     ],
     "language": "python",
     "metadata": {},
     "outputs": [
      {
       "output_type": "stream",
       "stream": "stdout",
       "text": [
        "Heat released per gram of Al is -15.25 kJ/g\n"
       ]
      }
     ],
     "prompt_number": 7
    }
   ],
   "metadata": {}
  }
 ]
}