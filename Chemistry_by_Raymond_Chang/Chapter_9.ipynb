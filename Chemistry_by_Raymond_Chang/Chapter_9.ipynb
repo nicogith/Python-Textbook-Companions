{
 "metadata": {
  "name": ""
 },
 "nbformat": 3,
 "nbformat_minor": 0,
 "worksheets": [
  {
   "cells": [
    {
     "cell_type": "heading",
     "level": 1,
     "metadata": {},
     "source": [
      "Chapter 9:Chemical Bonding I\n",
      "Basic Concepts"
     ]
    },
    {
     "cell_type": "heading",
     "level": 2,
     "metadata": {},
     "source": [
      "Example no:9.13,Page no:397"
     ]
    },
    {
     "cell_type": "code",
     "collapsed": false,
     "input": [
      "#Variable declaration\n",
      "#Type of bond broken:\n",
      "hh_no=1         #No.of bonds broken\n",
      "hh_be=436.4     #Bond enthalpy in kJ/mol\n",
      "hh_ec=436.4     #Energy Change in kJ/mol\n",
      "cl_no=1         #No.of bonds broken\n",
      "cl_be=242.7     #Bond enthalpy in kJ/mol\n",
      "cl_ec=242.7     #Energy Change in kJ/mol\n",
      "#Type of bonds formed\n",
      "hcl_no=2         #No.of bonds formed\n",
      "hcl_be=431.9     #Bond enthalpy in kJ/mol\n",
      "hcl_ec=863.8     #Energy Change in kJ/mol\n",
      "#data:\n",
      "Hf_hcl=-92.3     #Heat of formation of Hcl in kJ/mol\n",
      "Hf_H2=0          #Heat of formation of H2 in kJ/mol\n",
      "Hf_Cl2=0         #Heat of formation of Cl2 in kJ/mol \n",
      "\n",
      "#Calculation\n",
      "energy_in=hh_ec+cl_ec       #Total energy input in kJ/mol\n",
      "energy_rlsd=hcl_ec          #Total energy released\n",
      "delta_H=energy_in-energy_rlsd      #enthalpy change in kJ/mol\n",
      "delta_Ho=2*(-92.3)-(Hf_H2+Hf_Cl2)    #Ethalpy change from eq 6.18\n",
      "\n",
      "\n",
      "#Result\n",
      "print \"Using equation 9.3,delta_H=\",delta_H,\"kJ/mol\"\n",
      "print\"Alternatively:\"\n",
      "print\"Enthalpy change is:\",delta_Ho,\"kJ/mol\""
     ],
     "language": "python",
     "metadata": {},
     "outputs": [
      {
       "output_type": "stream",
       "stream": "stdout",
       "text": [
        "Using equation 9.3,delta_H= -184.7 kJ/mol\n",
        "Alternatively:\n",
        "Enthalpy change is: -184.6 kJ/mol\n"
       ]
      }
     ],
     "prompt_number": 4
    },
    {
     "cell_type": "heading",
     "level": 2,
     "metadata": {},
     "source": [
      "Example no:9.14,Page no:398"
     ]
    },
    {
     "cell_type": "code",
     "collapsed": false,
     "input": [
      "#Variable declaration\n",
      "#Type of bond broken:\n",
      "hh_no=2          #No.of bonds broken\n",
      "hh_be=436.4      #Bond enthalpy in kJ/mol\n",
      "hh_Ec=872.8      #Energy Change in kJ/mol\n",
      "oo_no=1           #No.of bonds broken\n",
      "oo_be=498.7       #Bond enthalpy in kJ/mol\n",
      "oo_Ec=498.7       #Energy Change in kJ/mol\n",
      "#Types of bond formed\n",
      "nn_oh=4          #No.of bonds formed\n",
      "nn_be=460        #Bond enthalpy in kJ/mol\n",
      "bb_Ec=1840       #Energy Change in kJ/mol\n",
      "#data:\n",
      "Hf_h2o=-241.8     #Heat of formation of H2O in kJ/mol\n",
      "Hf_h2=0           #Heat of formation of H2 in kJ/mol\n",
      "Hf_O2=0           #Heat of formation of O2 in kJ/mol\n",
      "\n",
      "#Calculation\n",
      "energy_in=hh_Ec+oo_Ec       #Total energy input in kJ/mol\n",
      "energy_rlsd=bb_Ec           #Total energy released\n",
      "delta_h=energy_in-energy_rlsd            #enthalpy change in kJ/mol\n",
      "delta_Ho=2*(Hf_h2o)-(2*Hf_h2+Hf_O2)      #Ethalpy change from eq 6.18\n",
      "\n",
      "#Result\n",
      "print\"Enthalpy change is\",delta_Ho,\"kJ/mol\""
     ],
     "language": "python",
     "metadata": {},
     "outputs": [
      {
       "output_type": "stream",
       "stream": "stdout",
       "text": [
        "Enthalpy change is -483.6 kJ/mol\n"
       ]
      }
     ],
     "prompt_number": 5
    }
   ],
   "metadata": {}
  }
 ]
}