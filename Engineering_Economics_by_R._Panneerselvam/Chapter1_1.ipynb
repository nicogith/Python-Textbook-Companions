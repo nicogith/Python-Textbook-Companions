{
 "metadata": {
  "name": "EE-1"
 },
 "nbformat": 3,
 "nbformat_minor": 0,
 "worksheets": [
  {
   "cells": [
    {
     "cell_type": "heading",
     "level": 1,
     "metadata": {},
     "source": "Introduction"
    },
    {
     "cell_type": "heading",
     "level": 2,
     "metadata": {},
     "source": "Example 1.1 Page 10"
    },
    {
     "cell_type": "code",
     "collapsed": false,
     "input": "#initialisation of Variable\nFC=2000000.0;#in Rs\nv=100.0;#in Rs\ns=200.0;#in Rs\nQ=60000.0;#in units\n\n#Part a \n# calculation\nBEQ=FC/(s-v);#in units\n\n#result\nprint \"Break even quantity in units : \",round(BEQ,3)\n\n#Part b \n#calculation\nBES=FC*s/(s-v);#in Rs\n\nprint \"Break even sales in Rs. : \",round(BES,3)\n\n#Part c \n#calculation\nCon=s*Q-v*Q;#in Rs\nMos=Q*s-BES;#in Rs\n\n#result\nprint \"Contribution in units : \",round(Con,3)\nprint \"Margin of safety in Rs. : \",round(Mos,3)",
     "language": "python",
     "metadata": {},
     "outputs": [
      {
       "output_type": "stream",
       "stream": "stdout",
       "text": "Break even quantity in units :  20000.0\nBreak even sales in Rs. :  4000000.0\nContribution in units :  6000000.0\nMargin of safety in Rs. :  8000000.0\n"
      }
     ],
     "prompt_number": 3
    },
    {
     "cell_type": "heading",
     "level": 2,
     "metadata": {},
     "source": "Example 1.2,Page 12"
    },
    {
     "cell_type": "code",
     "collapsed": false,
     "input": "#initialisation of variable\nFC=25000.0;#in Rs\nv=45000.0;#in Rs\ns=120000.0;#in Rs\n\n#Part a \n#calculation\nCon=s-v;#in Rs\n\n#result\nprint \"Contribution in Rs  \",round(Con,3)\n\n#Part b \n#calculation\nProf=Con-FC;#in Rs\n\n#result\nprint \"Profit in Rs  \",round(Prof,3);\n\n#Part c \n#calculation\nPVratio=Con*100.0/s;#in %\nBEP=FC*100.0/PVratio;#in Rs\n\n#result\nprint \"BEP in Rs \", round(BEP,3)\n\n#Part d \n#calculoation\nMS=Prof*100/PVratio;#in Rs\n\n#result\nprint\"M.S. in Rs  \", round(MS,3)",
     "language": "python",
     "metadata": {},
     "outputs": [
      {
       "output_type": "stream",
       "stream": "stdout",
       "text": "Contribution in Rs   75000.0\nProfit in Rs   50000.0\nBEP in Rs  40000.0\nM.S. in Rs   80000.0\n"
      }
     ],
     "prompt_number": 5
    },
    {
     "cell_type": "heading",
     "level": 2,
     "metadata": {},
     "source": "Example 1.3 Page 13"
    },
    {
     "cell_type": "code",
     "collapsed": false,
     "input": "#initialisation of variable\nFC=15000.0;#in Rs\nv=35000.0;#in Rs\ns=80000.0;#in Rs\n\n#Part a \n#calculation\nCon=s-v;#in Rs\n\n#result\nprint \"Contribution in Rs\", round(Con,3);\n\n#Part b \n#calcualtion\nProf=Con-FC;#in Rs\n\n#result\nprint \"Profit in Rs \", round(Prof,3)\n\n#Part c \n#calculation\nPVratio=Con*100/s;\nBEP=FC*100/PVratio;#in Rs\n\n#result\nprint \"BEP in Rs  \",round(BEP,3)\n\n#Part d \n#calculation\nMS=Prof*100/PVratio;#in Rs\n\nprint \"M.S. in Rs\",round(MS,3);",
     "language": "python",
     "metadata": {},
     "outputs": [
      {
       "output_type": "stream",
       "stream": "stdout",
       "text": "Contribution in Rs 45000.0\nProfit in Rs  30000.0\nBEP in Rs   26666.667\nM.S. in Rs 53333.333\n"
      }
     ],
     "prompt_number": 7
    }
   ],
   "metadata": {}
  }
 ]
}