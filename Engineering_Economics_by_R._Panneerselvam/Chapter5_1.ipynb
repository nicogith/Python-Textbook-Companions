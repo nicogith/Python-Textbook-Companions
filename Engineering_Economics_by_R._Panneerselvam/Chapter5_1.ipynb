{
 "metadata": {
  "name": "EE-5"
 },
 "nbformat": 3,
 "nbformat_minor": 0,
 "worksheets": [
  {
   "cells": [
    {
     "cell_type": "heading",
     "level": 1,
     "metadata": {},
     "source": "Future Worth Method"
    },
    {
     "cell_type": "heading",
     "level": 2,
     "metadata": {},
     "source": "Example 5.1,Page 54"
    },
    {
     "cell_type": "code",
     "collapsed": false,
     "input": "#initialisation of variable\n#alternate A\nP=5000000.0;#in Rs\nA=2000000.0;#in Rs\ni=18.0;#in % per annum\nn=4.0;#in years\n\n#calculation\nFW_A=(-P*(1+i/100)**n)+(A*(((1+i/100)**n)-1)/(i/100));#in RS\n\n#result\nprint \"The future worth amount of alternative A in RS.  \",round(FW_A,3);\n\n#alternate B\nP=4500000.0;#in Rs\nA=1800000.0;#in Rs\ni=18.0;#in % per annum\nn=4.0;#in years\n\n#calculation\nFW_B=(-P*(1+i/100)**n)+(A*(((1+i/100)**n)-1)/(i/100));#in RS\nprint \"The future worth amount of alternative B in RS.  \", round(FW_B,3);\nprint \"The future worth of alternative A is greater than that of alternative B. Thus, alternative A should be selected.\";\nprint \" Calculation in the book is not accurate.\"",
     "language": "python",
     "metadata": {},
     "outputs": [
      {
       "output_type": "stream",
       "stream": "stdout",
       "text": "The future worth amount of alternative A in RS.   736975.2\nThe future worth amount of alternative B in RS.   663277.68\nThe future worth of alternative A is greater than that of alternative B. Thus, alternative A should be selected.\n Calculation in the book is not accurate.\n"
      }
     ],
     "prompt_number": 3
    },
    {
     "cell_type": "heading",
     "level": 3,
     "metadata": {},
     "source": "Example 5.2,Page 58"
    },
    {
     "cell_type": "code",
     "collapsed": false,
     "input": "#initialisation of variable\n#alternate 1\nFC=2000000.0;#in Rs\nAI=800000.0;#in Rs\nATax=80000.0;#in Rs\nNetAI=AI-ATax;#in Rs\ni=12.0;#in % per annum\nn=20.0;#in years\n\n#calculation\nFW_1=(-FC*(1+i/100)**n)+(NetAI*(((1+i/100)**n)-1)/(i/100));#in RS\n\n#result\nprint \"The future worth amount of alternative 1 in RS. : \", round(FW_1,3)\n\n#alternative2\nFC=3600000.0;#in Rs\nAI=980000.0;#in Rs\nATax=150000.0;#in Rs\nNetAI=AI-ATax;#in Rs\ni=12.0;#in % per annum\nn=20.0;#in years\n\n#calculation\nFW_2=(-FC*(1+i/100)**n)+(NetAI*(((1+i/100)**n)-1)/(i/100));#in RS\n\n#result\nprint \"The future worth amount of alternative 2 in RS.\",round(FW_2,3)\nprint\"The future worth of alternative 1 is greater than that of alternative 2. Thus, building the gas station is the best alternative.\";\nprint \" Calculation in the book is not accurate.\"",
     "language": "python",
     "metadata": {},
     "outputs": [
      {
       "output_type": "stream",
       "stream": "stdout",
       "text": "The future worth amount of alternative 1 in RS. :  32585172.373\nThe future worth amount of alternative 2 in RS. 25076872.093\nThe future worth of alternative 1 is greater than that of alternative 2. Thus, building the gas station is the best alternative.\n Calculation in the book is not accurate.\n"
      }
     ],
     "prompt_number": 5
    },
    {
     "cell_type": "heading",
     "level": 2,
     "metadata": {},
     "source": "Example 5.3,Page 59"
    },
    {
     "cell_type": "code",
     "collapsed": false,
     "input": "#initialisation of variable\n#part a\n#alternative 1\nP=500000.0;#in Rs\nA1=50000.0;#in Rs\nG=50000.0;#in Rs\ni=8.0;#in % per annum\nn=6.0;#in years\n\n#calculation\nFW_1=(-P*(1+i/100)**n)+(A1+G*(((1+i/100)**n)-i*n/100-1)/(((i/100)*(1+i/100)**n)-i/100))*(((1+i/100)**n)-1)/(i/100);#in RS\n\n#result\nprint \"The future worth amount of alternative 1 in RS.  \", round(FW_1,3);\n\n#alternative 2\nP=700000.0;#in Rs\nA1=70000.0;#in Rs\nG=70000.0;#in Rs\ni=8.0;#in % per annum\nn=6.0;#in years\n\n#calculation\nFW_2=(-P*(1+i/100)**n)+(A1+G*(((1+i/100)**n)-i*n/100-1)/(((i/100)*(1+i/100)**n)-i/100))*(((1+i/100)**n)-1)/(i/100);#in RS\n\n#result\nprint \"The future worth amount of alternative 2 in RS.  \", round(FW_2,3);\nprint \"The future worth of alternative 2 is greater than that of alternative 1. Thus, alternative 2 must be selected.\";\n\n\n#part b\n#alternative a\nP=500000.0;#in Rs\nA1=50000.0;#in Rs\nG=50000.0;#in Rs\ni=9.0;#in % per annum\nn=6.0;#in years\n\n#calculation\nFW_1=(-P*(1+i/100)**n)+(A1+G*(((1+i/100)**n)-i*n/100-1)/(((i/100)*(1+i/100)**n)-i/100))*(((1+i/100)**n)-1)/(i/100);#in RS\n\n#result\nprint \"The future worth amount of alternative 1 in RS.  \", round(FW_1,3);\n\n#altenative 2\nP=700000.0;#in Rs\nA1=70000.0;#in Rs\nG=70000.0;#in Rs\ni=9.0;#in % per annum\nn=6.0;#in years\n\n#calculation\nFW_1=(-P*(1+i/100)**n)+(A1+G*(((1+i/100)**n)-i*n/100-1)/(((i/100)*(1+i/100)**n)-i/100))*(((1+i/100)**n)-1)/(i/100);#in RS\n\n#result\nprint \"The future worth amount of alternative 2 in RS.\", round(FW_1,3);\nprint \"The negative sign of alternatives future worth indicates that alternative 2 incurs loss. Thus, none of the two alternatives should be selected. \";\nprint \" Calculation in the book is not accurate.\"",
     "language": "python",
     "metadata": {},
     "outputs": [
      {
       "output_type": "stream",
       "stream": "stdout",
       "text": "The future worth amount of alternative 1 in RS.   408314.938\nThe future worth amount of alternative 2 in RS.   571640.914\nThe future worth of alternative 2 is greater than that of alternative 1. Thus, alternative 2 must be selected.\nThe future worth amount of alternative 1 in RS.   383913.653\nThe future worth amount of alternative 2 in RS. 537479.115\nThe negative sign of alternatives future worth indicates that alternative 2 incurs loss. Thus, none of the two alternatives should be selected. \n Calculation in the book is not accurate.\n"
      }
     ],
     "prompt_number": 8
    },
    {
     "cell_type": "heading",
     "level": 2,
     "metadata": {},
     "source": "Example 5.4 Page 62"
    },
    {
     "cell_type": "code",
     "collapsed": false,
     "input": "#initialisation of variable\n#alternative 1\nP=8000000.0;#in Rs\nA=800000.0;#in Rs\ni=20.0;#in % per annum\nn=12.0;#in years\nSalvage=500000;#in Rs\n\n#calcualtion\nFW1=P*(1+i/100)**n+A*(((1+i/100)**n)-1)/(i/100)-Salvage;#in RS\n\n#result\nprint \"The future worth for this alternative in RS.\",round(FW1,3)\n\n#alternative 2\nP=7000000.0;#in Rs\nA=900000.0;#in Rs\ni=20.0;#in % per annum\nn=12.0;#in years\nSalvage=400000;#in Rs\n\n#calculation\nFW2=P*(1+i/100)**n+A*(((1+i/100)**n)-1)/(i/100)-Salvage;#in RS\n\n#result\nprint \"The future worth for this alternative in RS.\",round(FW2,3);\n\n#alternative 3\nP=9000000.0;#in Rs\nA=850000.0;#in Rs\ni=20.0;#in % per annum\nn=12.0;#in years\nSalvage=700000;#in Rs\n\n#calculation\nFW3=P*(1+i/100)**n+A*(((1+i/100)**n)-1)/(i/100)-Salvage;#in RS\n\nprint \"The future worth for this alternative in RS.  \",round(FW3,3)\nprint \"The future worth of alternative 2 is less than that of other two alternatives. Thus, Ms. Krishna castings should buy the annealing furnace from manufacturer 2.\";\nprint \" Calculation in the book is not accurate.\"",
     "language": "python",
     "metadata": {},
     "outputs": [
      {
       "output_type": "stream",
       "stream": "stdout",
       "text": "The future worth for this alternative in RS. 102493205.379\nThe future worth for this alternative in RS. 97635155.155\nThe future worth for this alternative in RS.   113188330.939\nThe future worth of alternative 2 is less than that of other two alternatives. Thus, Ms. Krishna castings should buy the annealing furnace from manufacturer 2.\n Calculation in the book is not accurate.\n"
      }
     ],
     "prompt_number": 10
    },
    {
     "cell_type": "heading",
     "level": 2,
     "metadata": {},
     "source": "Example 5.5 Page 64"
    },
    {
     "cell_type": "code",
     "collapsed": false,
     "input": "#initialisation of variable\n#Machine A\nP=400000.0;#in Rs\nA=40000.0;#in Rs\nS=200000.0;#in Rs\ni=12.0;#in % per annum\nn=4.0#in years\n\n#calculation\nFW_A=(P*(1+i/100)**n)+(A*(((1+i/100)**n)-1)/(i/100))-S;#in RS\n\n#result\nprint \"The future worth amount of Machine A in RS. \",round(FW_A,3);\n\n#Machine B\nP=800000.0;#in Rs\nA=0.0;#in Rs\nS=550000.0;#in Rs\ni=12.0;#in % per annum\nn=4.0#in years\n\n#calculation\nFW_B=(P*(1+i/100)**n)+(A*(((1+i/100)**n)-1)/(i/100))-S;#in RS\n\n#result\nprint \"The future worth amount of Machine B in RS. \",round(FW_B,3);\nprint \"The future worth of Machine A is less than that of Machine B. Thus, Machine A should be selected.\";\nprint \" Calculation in the book is not accurate\"",
     "language": "python",
     "metadata": {},
     "outputs": [
      {
       "output_type": "stream",
       "stream": "stdout",
       "text": "The future worth amount of Machine A in RS.  620580.864\nThe future worth amount of Machine B in RS.  708815.488\nThe future worth of Machine A is less than that of Machine B. Thus, Machine A should be selected.\n Calculation in the book is not accurate\n"
      }
     ],
     "prompt_number": 13
    }
   ],
   "metadata": {}
  }
 ]
}