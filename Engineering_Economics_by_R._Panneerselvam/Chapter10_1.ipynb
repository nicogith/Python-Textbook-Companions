{
 "metadata": {
  "name": "EE-10"
 },
 "nbformat": 3,
 "nbformat_minor": 0,
 "worksheets": [
  {
   "cells": [
    {
     "cell_type": "heading",
     "level": 1,
     "metadata": {},
     "source": "Evaluation of Public Alternatives"
    },
    {
     "cell_type": "heading",
     "level": 2,
     "metadata": {},
     "source": "Example 10.1 Page 138"
    },
    {
     "cell_type": "code",
     "collapsed": false,
     "input": "#initiation of variable\nIi=4000000.0;#in Rs.\nAM=150000.0;#in Rs.\nAFS=600000.0;#in Rs.\nEinc=50000.0;#in Rs.\ni=12.0;#in % per annum\nn=15.0;#in years\n\n#calculation\nCp=AM*(((1+i/100)**n)-1)/((i/100)*(1+i/100)**n);#in Rs\nTPW=Ii+Cp;#in RS\n\n#result\nprint \"Total present worth of costs in RS. : \",round(TPW,3);\n\n#Total present worth of fuel savings:\nAI=600000.0;#in Rs.\nG=50000.0;#in Rs.\ni=12.0;#in % per annum\nn=15.0;#in years\n\n#calculation\nA=AI+G*(((1+i/100)**n)-i*n/100-1)/(((i/100)*(1+i/100)**n)-i/100);#in RS\nBp=A*(((1+i/100)**n)-1)/((i/100)*(1+i/100)**n);#in Rs.\nBCratio=Bp/(Ii+Cp);#unitless\n\n#result\nprint \"Present worth of fuel savings in Rs. : \",round(Bp,3);\nprint \"BCratio : \",round(BCratio,3);\nprint\"Since BC ratio is more than 1, the construction of the bridge across the river is justified.\";",
     "language": "python",
     "metadata": {},
     "outputs": [
      {
       "output_type": "stream",
       "stream": "stdout",
       "text": "Total present worth of costs in RS. :  5021629.673\nPresent worth of fuel savings in Rs. :  5782527.265\nBCratio :  1.152\nSince BC ratio is more than 1, the construction of the bridge across the river is justified.\n"
      }
     ],
     "prompt_number": 2
    },
    {
     "cell_type": "heading",
     "level": 2,
     "metadata": {},
     "source": "Example 10.2 Page 139"
    },
    {
     "cell_type": "code",
     "collapsed": false,
     "input": "#initiation of variable\nIc=80000000.0;#in Rs.\nAps=6000000.0;#in Rs.\nAfs=3000000.0;#in Rs.\nAib=5000000.0;#in Rs.\nArb=2000000.0;#in Rs.\nAmc=3000000.0;#in Rs.\ni=12.0;#in % per annum\nn=50.0;#in years\n\n#calculation\nTAB=Afs+Aib+Arb;#in Rs.\nPW_B=TAB*(((1+i/100)**n)-1)/((i/100)*(1+i/100)**n);#in Rs\n\n#result\nprint \"Total present worth of benefits in RS. : \",round(PW_B,3);\n\n#Present worth of costs:\nPW_C=Ic+Amc*(((1+i/100)**n)-1)/((i/100)*(1+i/100)**n)-Aps*(((1+i/100)**n)-1)/((i/100)*(1+i/100)**n);#in RS\nBCratio=PW_B/PW_C;#unitless\n\n#result\nprint \"Present worth of costs in Rs. : \",round(PW_C,3);\nprint \"BCratio : \",round(BCratio,3);\nprint \"Since BC ratio is more than 1, the state govt. can implement the hydroelectric project.\";",
     "language": "python",
     "metadata": {},
     "outputs": [
      {
       "output_type": "stream",
       "stream": "stdout",
       "text": "Total present worth of benefits in RS. :  83044984.884\nPresent worth of costs in Rs. :  55086504.535\nBCratio :  1.508\nSince BC ratio is more than 1, the state govt. can implement the hydroelectric project.\n"
      }
     ],
     "prompt_number": 3
    },
    {
     "cell_type": "heading",
     "level": 3,
     "metadata": {},
     "source": "Example 10.3 Page 140"
    },
    {
     "cell_type": "code",
     "collapsed": false,
     "input": "#initiation of variable\n#alternative 1\nP=3000000.0;#in Rs.\nB=900000.0;#in Rs.\ni=10.0;#in % per annum\nn=5.0;#in years\n\n#calculation\nAE1=P*((i/100)*(1+i/100)**n)/(((1+i/100)**n)-1);#in Rs\nBCratio=B/AE1;#unitless\n\n#result\nprint \"Annual equivalent of initial cost in Rs. : \",round(AE1,3);\nprint \"BCratio : \",round(BCratio,3);\n\n#Alternative A2 : \nP=6000000.0;#in Rs.\nB=1500000.0;#in Rs.\ni=10.0;#in % per annum\nn=7.0;#in years\n\n#calculation\nAE2=P*((i/100)*(1+i/100)**n)/(((1+i/100)**n)-1);#in Rs\nBCratio=B/AE2;#unitless\n\n#result\nprint \"Annual equivalent of initial cost in Rs. : \",round(AE2,3);\nprint \"BCratio : \",round(BCratio,3);\nprint \"The benefit cost ratio of alternative 2 is more than that of alternative A1. Hence, alternative A2 is to be selected. The comparisoon is made on a 35 years period which is the minimum common multiple of the lives of alternative 1 and 2\";",
     "language": "python",
     "metadata": {},
     "outputs": [
      {
       "output_type": "stream",
       "stream": "stdout",
       "text": "Annual equivalent of initial cost in Rs. :  791392.442\nBCratio :  1.137\nAnnual equivalent of initial cost in Rs. :  1232432.998\nBCratio :  1.217\nThe benefit cost ratio of alternative 2 is more than that of alternative A1. Hence, alternative A2 is to be selected. The comparisoon is made on a 35 years period which is the minimum common multiple of the lives of alternative 1 and 2\n"
      }
     ],
     "prompt_number": 4
    },
    {
     "cell_type": "heading",
     "level": 2,
     "metadata": {},
     "source": "Example 10.4 Page 141"
    },
    {
     "cell_type": "code",
     "collapsed": false,
     "input": "#initiation of variable\n#cost of the state\nn=20.0;#in years\nP=2500000000.0;#in Rs.\nAgt=10000000.0;#in Rs.\nAi=1000000.0;#in Rs.\nCom=48000.0;#in Rs./year/employee\nC1=Com*300;#in Rs.\ni=10.0;#in % per annum\n\n#calculation\nC2=P*((i/100)*(1+i/100)**n)/(((1+i/100)**n)-1);#in Rs\nCA=C2+C1;#in Rs\n\n#result\nprint \"Annual equivalent initial cost in Rs. : \",round(C2,3);\nprint \"Total Annual equivalent cost of the project in Rs. : \",round(CA,3);\n\n#Benefit to the state : \nW=30000000.0;#in Rs.\nA1=W*((i/100)*(1+i/100)**n)/(((1+i/100)**n)-1);#in Rs.\nAgpy=10000000.0;#in ton/year\nA2=Agpy*(30-10);#in Rs.\nAvgAI=1000000.0;#in tons Km.\nG=20000000.0;#in Rs.\n\n#calculation\nA3=A2+G*(((1+i/100)**n)-i*n/100-1)/(((i/100)*(1+i/100)**n)-i/100) ;#in Rs.\nBA=A1+A3;#in Rs\nBCratio=BA/CA;#unitless\nprint \"Annual equivalent average of transport cost saving in Rs. : \",round(A3,3);\nprint \"Total annual equivalent benefits to the state : \",round(BA,3);\nprint \"BCratio : \",round(BCratio,3);\nprint \"The benefit cost ratio is more than 1,the project is justified.\";",
     "language": "python",
     "metadata": {},
     "outputs": [
      {
       "output_type": "stream",
       "stream": "stdout",
       "text": "Annual equivalent initial cost in Rs. :  293649061.931\nTotal Annual equivalent cost of the project in Rs. :  308049061.931\nAnnual equivalent average of transport cost saving in Rs. :  330161500.91\nTotal annual equivalent benefits to the state :  333685289.653\nBCratio :  1.083\nThe benefit cost ratio is more than 1,the project is justified.\n"
      }
     ],
     "prompt_number": 5
    },
    {
     "cell_type": "heading",
     "level": 2,
     "metadata": {},
     "source": "Example 10.5 Page 143"
    },
    {
     "cell_type": "code",
     "collapsed": false,
     "input": "#initiation of variable\n#project A\ni=9.0;#% per annum\nn=50.0;#in years\nP_A=150000000.0;#in RS.\nFcs_A=2500000;#in Rs.\nIb_A=3500000;#in Rs.\nRb_A=1000000;#in RS.\nOMC_A=2000000.0;#in Rs.\nPsy_A=10000000.0;#in Rs.\n\n#calculation\nAE_A=P_A*((i/100)*(1+i/100)**n)/(((1+i/100)**n)-1);\nCpy_A=AE_A+OMC_A-Psy_A;#in Rs.\nBpy_A=Fcs_A+Ib_A+Rb_A;#in Rs.\nBCratio_A=Bpy_A/Cpy_A;#unitless\n\n#result\nprint \"Costs/year : \",round(Cpy_A,3);\nprint \"Benefits/year : \",round(Bpy_A,3);\nprint \"BC Ratio of project A : \",round(BCratio_A,3)\n\n\n#Project B : \nP_B=250000000.0;#in Rs.\n\nOMC_B=2500000.0;#in Rs.\nPsy_B=12000000.0;#in Rs.\nFcs_B=3500000.0;#in Rs.\nIb_B=4500000.0;#in Rs.\nRb_B=2000000.0;#in RS.\nAE_B=P_B*((i/100)*(1+i/100)**n)/(((1+i/100)**n)-1);\nCpy_B=AE_B+OMC_B-Psy_B;#in Rs.\nBpy_B=Fcs_B+Ib_B+Rb_B;#in Rs.\nBCratio_B=Bpy_B/Cpy_B;#unitless\n\n#result\nprint \"Costs/year : \",round(Cpy_B,3);\nprint \"Benefits/year : \",round(Bpy_B,3);\nprint \"BC Ratio of project B : \",round(BCratio_B,3)\n\n#Project C : \nP_C=400000000.0;#in Rs.\nOMC_C=3500000.0;#in Rs.\nPsy_C=18000000.0;#in Rs.\nFcs_C=5000000.0;#in Rs.\nIb_C=6000000.0;#in Rs.\nRb_C=3500000.0;#in RS.\nAE_C=P_C*((i/100)*(1+i/100)**n)/(((1+i/100)**n)-1);\nBpy_C=Fcs_C+Ib_C+Rb_C;#in Rs.\nCpy_C=AE_C+OMC_C-Psy_C;#in Rs.\nBCratio_C=Bpy_C/Cpy_C;#unitless\n\n#result\nprint \"Costs/year : \",round(Cpy_C,3);\nprint \"Benefits/year : \",round(Bpy_C,3);\nprint \"BC Ratio of project C : \",round(BCratio_C,3)\nprint\"From the computations it is clear that only alternative A is eligible because other two alternatives have BC ratio less than one.\"",
     "language": "python",
     "metadata": {},
     "outputs": [
      {
       "output_type": "stream",
       "stream": "stdout",
       "text": "Costs/year :  5684030.212\nBenefits/year :  7000000.0\nBC Ratio of project A :  1.232\nCosts/year :  13306717.021\nBenefits/year :  10000000.0\nBC Ratio of project B :  0.752\nCosts/year :  21990747.233\nBenefits/year :  14500000.0\nBC Ratio of project C :  0.659\nFrom the computations it is clear that only alternative A is eligible because other two alternatives have BC ratio less than one.\n"
      }
     ],
     "prompt_number": 8
    }
   ],
   "metadata": {}
  }
 ]
}