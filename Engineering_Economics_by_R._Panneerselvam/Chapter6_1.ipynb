{
 "metadata": {
  "name": "EE-6"
 },
 "nbformat": 3,
 "nbformat_minor": 0,
 "worksheets": [
  {
   "cells": [
    {
     "cell_type": "heading",
     "level": 1,
     "metadata": {},
     "source": "Annual Equivalent Method"
    },
    {
     "cell_type": "heading",
     "level": 2,
     "metadata": {},
     "source": "Example 6.1 Page 70"
    },
    {
     "cell_type": "code",
     "collapsed": false,
     "input": "#initiation of variable\nrun=20000.0; #km\nkmperlitre=9; #kmpl\ncost=21;\nG=2222.20;#in Rs.\ni=18.0;#in % per annum\nn=4.0;#in years\n\n#calculation\ncon=run/kmperlitre;#consumption\nA1=con*cost;\nA=A1+G*(((1+i/100)**n)-i*n/100-1)/(((i/100)*(1+i/100)**n)-i/100) ;\n\n#result\nprint \"Annual equal amount spending for petrol in Rs. : \",round(A,3);\nprint \"This amoount is less than the annual rental value of Rs. 60000. Therefore, the company should continue to provide its own car to its executive. \";",
     "language": "python",
     "metadata": {},
     "outputs": [
      {
       "output_type": "stream",
       "stream": "stdout",
       "text": "Annual equal amount spending for petrol in Rs. :  49543.741\nThis amoount is less than the annual rental value of Rs. 60000. Therefore, the company should continue to provide its own car to its executive. \n"
      }
     ],
     "prompt_number": 3
    },
    {
     "cell_type": "heading",
     "level": 2,
     "metadata": {},
     "source": "Example 6.2 Page 71"
    },
    {
     "cell_type": "code",
     "collapsed": false,
     "input": "#initiation of variable\n#alternative 1\nP=500000.0;#in Rs\nA=200000.0;#in Rs\ni=20.0;#in % per annum\nn=15.0;#in years\n\n#calcultion\nAE_1=P*((i/100)*(1+i/100)**n)/(((1+i/100)**n)-1)+A;#in RS\n\n#result\nprint \"The Annual equivalent cost of alternative 1 in RS. : \",round(AE_1,3);\n\n#alternative 2\nP=400000.0;#in Rs\nA=300000.0;#in Rs\ni=20.0;#in % per annum\nn=15.0;#in years\n\n#calculation\nAE_2=P*((i/100)*(1+i/100)**n)/(((1+i/100)**n)-1)+A;#in RS\n\n#result\nprint \"The Annual equivalent cost of alternative 2 in RS. : \",round(AE_2,3);\n\n#alternative 3\nP=600000.0;#in Rs\nA=150000.0;#in Rs\ni=20.0;#in % per annum\nn=15.0;#in years\n\n#calculation\nAE_3=P*((i/100)*(1+i/100)**n)/(((1+i/100)**n)-1)+A;#in RS\n\n#result\nprint \"The Annual equivalent cost of alternative 3 in RS. : \",round(AE_3,3);\nprint\"The annual equivalent cost of manufacturer 3 is less than that of other two. Therefore, company should buy advanced machine centre from manufacturer 3. \";\nprint \" Calculation in the book is not accurate.\"",
     "language": "python",
     "metadata": {},
     "outputs": [
      {
       "output_type": "stream",
       "stream": "stdout",
       "text": "The Annual equivalent cost of alternative 1 in RS. :  306941.06\nThe Annual equivalent cost of alternative 2 in RS. :  385552.848\nThe Annual equivalent cost of alternative 3 in RS. :  278329.272\nThe annual equivalent cost of manufacturer 3 is less than that of other two. Therefore, company should buy advanced machine centre from manufacturer 3. \n Calculation in the book is not accurate.\n"
      }
     ],
     "prompt_number": 8
    },
    {
     "cell_type": "heading",
     "level": 2,
     "metadata": {},
     "source": "Example 6.3 Page 73"
    },
    {
     "cell_type": "code",
     "collapsed": false,
     "input": "#initiation  of variable\n#alternative a\nP=150000.0;#in Rs\nA=60000.0;#in Rs\nS=15000.0;#in Rs\ni=25.0;#in % per annum\nn=5.0;#in years\n\n#calculation\nAE_A=-P*((i/100)*(1+i/100)**n)/(((1+i/100)**n)-1)+A+S*(i/100)/(((1+i/100)**n)-1);#in RS\n\n#result\nprint \"The Annual equivalent revenue of alternative A in RS. : \",round(AE_A,3)\n\n#alternative b\nP=175000.0;#in Rs\nA=70000.0;#in Rs\nS=35000.0;#in Rs\ni=25.0;#in % per annum\nn=5.0;#in years\n\n#calculation\nAE_B=-P*((i/100)*(1+i/100)**n)/(((1+i/100)**n)-1)+A+S*(i/100)/(((1+i/100)**n)-1);#in RS\n\n#result\nprint \"The Annual equivalent revenue of alternative B in RS. : \",round(AE_B,3)\nprint \"The annual equivalent net return of alternative B is more than that of alternative A. Thus the company should select alternative A\";\nprint \" Calculation in the book is not accurate.\"",
     "language": "python",
     "metadata": {},
     "outputs": [
      {
       "output_type": "stream",
       "stream": "stdout",
       "text": "The Annual equivalent revenue of alternative A in RS. :  6050.69\nThe Annual equivalent revenue of alternative B in RS. :  9191.456\nThe annual equivalent net return of alternative B is more than that of alternative A. Thus the company should select alternative A\n Calculation in the book is not accurate.\n"
      }
     ],
     "prompt_number": 10
    },
    {
     "cell_type": "heading",
     "level": 2,
     "metadata": {},
     "source": "Example 6.4 Page 75"
    },
    {
     "cell_type": "code",
     "collapsed": false,
     "input": "#initiation of variable\n#machine X\nP=150000.0;#in Rs\nA=0.0;#in Rs\nS=0.0;#in Rs\ni=15.0;#in % per annum\nn=12.0;#in years\n\n#calcualtion\nAE_X=P*((i/100)*(1+i/100)**n)/(((1+i/100)**n)-1);#in RS\n\n#result\nprint \"The Annual equivalent cost of machine X in RS. : \",round(AE_X,3);\n\n#machine Y\nP=240000.0;#in Rs\nA=4500.0;#in Rs\nS=60000.0;#in Rs\ni=15.0;#in % per annum\nn=12.0;#in years\n\n#calcualtion\nAE_Y=P*((i/100)*(1+i/100)**n)/(((1+i/100)**n)-1);#in RS\n\n#result\nprint \"The Annual equivalent cost of machine Y in RS. : \",round(AE_Y,3);\nprint \"The annual equivalent cost of machine X is less than that of machine Y.So machine X is more cost effective machine. \";\nprint\" Calculation in the book is not accurate.\"",
     "language": "python",
     "metadata": {},
     "outputs": [
      {
       "output_type": "stream",
       "stream": "stdout",
       "text": "The Annual equivalent cost of machine X in RS. :  27672.116\nThe Annual equivalent cost of machine Y in RS. :  44275.386\nThe annual equivalent cost of machine X is less than that of machine Y.So machine X is more cost effective machine. \n Calculation in the book is not accurate.\n"
      }
     ],
     "prompt_number": 14
    },
    {
     "cell_type": "heading",
     "level": 2,
     "metadata": {},
     "source": "Example 6.5 Page 76"
    },
    {
     "cell_type": "code",
     "collapsed": false,
     "input": "#initialisation of variable\n#alternative 1\nFC=15*150000.0;#in Rs\nMC=15*6000.0;#in Rs\nPL=15*15000.0;#in Rs\n\n#calculation\nMCPL=MC+PL;#in Rs\nS=15*90000.0;#in Rs\ni=15.0;#in % per annum\nn=15.0;#in years\nAE1=FC*((i/100)*(1+i/100)**n)/(((1+i/100)**n)-1)+MCPL-S*(i/100)/(((1+i/100)**n)-1);#in RS\n\n#result\nprint \"The Annual equivalent cost for this alternative in RS. \",round(AE1,3);\n\n#alternative 2\nFC=5*750000.0;#in Rs\nMC=5*12000.0;#in Rs\nPL=5*15000.0;#in Rs\nMCPL=MC+PL;#in Rs\nS=5*150000.0;#in Rs\ni=15.0;#in % per annum\nn=15.0;#in years\n\n#calcualtion\nAE2=FC*((i/100)*(1+i/100)**n)/(((1+i/100)**n)-1)+MCPL-S*(i/100)/(((1+i/100)**n)-1);#in RS\n\n#result\nprint \"The Annual equivalent cost for this alternative in RS. \",round(AE2,3);\nprint \"The annual equivalent cost of alternative 1 is less than that of alternative 2. Therefore, select the route around the lake for laying the power line.\";\nprint \" Calculation in the book is not accurate.\"",
     "language": "python",
     "metadata": {},
     "outputs": [
      {
       "output_type": "stream",
       "stream": "stdout",
       "text": "The Annual equivalent cost for this alternative in RS.  671415.347\nThe Annual equivalent cost for this alternative in RS.  760551.158\nThe annual equivalent cost of alternative 1 is less than that of alternative 2. Therefore, select the route around the lake for laying the power line.\n Calculation in the book is not accurate.\n"
      }
     ],
     "prompt_number": 2
    },
    {
     "cell_type": "heading",
     "level": 2,
     "metadata": {},
     "source": "Example 6.6 Page 78"
    },
    {
     "cell_type": "code",
     "collapsed": false,
     "input": "#initiation of variable\n#alternative 1\nVC=390000.0;#in Rs\nLpY=60000.0/30;#in litres\nFcY=2000.0*8;#in Rs\nAllExp=FcY+9000.0+15000.0;#in Rs\nS=60000.0;#in Rs\ni=20.0;#in % per annum\nn=4.0;#in years\n\n#calcualtion\nAE1=VC*((i/100)*(1+i/100)**n)/(((1+i/100)**n)-1)+AllExp-S*(i/100)/(((1+i/100)**n)-1);#in RS\n\n#result\nprint \"The Annual equivalent cost for this alternative in RS.  \",round(AE1,3);\n\n#alternative 2\nVC=360000.0;#in Rs\nLpY=60000.0/20;#in litres\nFcY=3000.0*20;#in Rs\nAllExp=FcY+6000.0+15000.0;#in Rs\nS=90000.0;#in Rs\ni=20.0;#in % per annum\nn=3.0;#in years\n\n#calculation\nAE2=VC*((i/100)*(1+i/100)**n)/(((1+i/100)**n)-1)+AllExp-S*(i/100)/(((1+i/100)**n)-1);# in RS\n\n#result\nprint \"The Annual equivalent cost for this alternative in RS.  \",round(AE2,3);\nprint \"The annual equivalent cost of purchase and operation of cars with diesel engine is less than that of cars with petrol engine. Therefore, the taxy company should buy cars with diesel engine.\";\nprint \" Calculation in the book is not accurate.\"",
     "language": "python",
     "metadata": {},
     "outputs": [
      {
       "output_type": "stream",
       "stream": "stdout",
       "text": "The Annual equivalent cost for this alternative in RS.   179475.41\nThe Annual equivalent cost for this alternative in RS.   227175.824\nThe annual equivalent cost of purchase and operation of cars with diesel engine is less than that of cars with petrol engine. Therefore, the taxy company should buy cars with diesel engine.\n Calculation in the book is not accurate.\n"
      }
     ],
     "prompt_number": 3
    },
    {
     "cell_type": "heading",
     "level": 2,
     "metadata": {},
     "source": "Example 6.7 Page 79"
    },
    {
     "cell_type": "code",
     "collapsed": false,
     "input": "#initiation of variable\n#alternative 1\nPprice=390000.0;#in Rs\nn=3.0;#in years\nn=n*12;#in months\nS=120000.0;#in Rs\ni=12.0;#in % nominal rate(Compounded anually)\ni=i/12.0;#in % compounded monthly\n\n#calculation\nME1=Pprice*((i/100)*(1+i/100)**n)/(((1+i/100)**n)-1)-S*(i/100)/(((1+i/100)**n)-1);#in RS\n\n#result\nprint \"The Monthly equivalent cost for this alternative in RS.  \",round(ME1,3);\n\n#Alternative 2 \nLeaseAmount=10500.0;#in Rs\n\n#calcualtion\nMonthlyEquiCost=LeaseAmount;#in Rs.\n\n#result\nprint\"The Monthly equivalent cost for this alternative in RS. \",round(MonthlyEquiCost,3);\nprint\"The monthly equivalent cost of alternative 1 is less than that of alternative 2. hence the salesman should purchase the car for cash.\"",
     "language": "python",
     "metadata": {},
     "outputs": [
      {
       "output_type": "stream",
       "stream": "stdout",
       "text": "The Monthly equivalent cost for this alternative in RS.   10167.864\nThe Monthly equivalent cost for this alternative in RS.  10500.0\nThe monthly equivalent cost of alternative 1 is less than that of alternative 2. hence the salesman should purchase the car for cash.\n"
      }
     ],
     "prompt_number": 5
    },
    {
     "cell_type": "heading",
     "level": 2,
     "metadata": {},
     "source": "Example 6.8 Page 81"
    },
    {
     "cell_type": "code",
     "collapsed": false,
     "input": "#initiation of variable\n#machine A\nIC=300000.0;#in Rs\nn=4.0;#in years\nS=200000.0;#in Rs\nAM=30000.0;#in Rs\ni=15.0;#in % per annum\n\n#calcualtion\nAE_A=IC*((i/100)*(1+i/100)**n)/(((1+i/100)**n)-1)+AM-S*(i/100)/(((1+i/100)**n)-1);#in RS\n\n#result\nprint \"The Annual equivalent cost of machine X in RS. \",round(AE_A,3);\n\n#Machine B :\nIC=600000.0;#in Rs\nn=4.0;#in years\nS=300000.0;#in Rs\nAM=0.0;#in Rs\ni=15.0;#in % per annum\n\n#calcualtion\nAE_B=IC*((i/100)*(1+i/100)**n)/(((1+i/100)**n)-1)+AM-S*(i/100)/(((1+i/100)**n)-1);#in RS\n\n#result\nprint \"The Annual equivalent cost of machine X in RS. \",round(AE_B,3);\nprint \"The annual equivalent cost of machine A is less than that of machine B.So machine A is more cost effective machine. It is advised to buy machine A \";\nprint \" Calculation in the book is not accurate.\"",
     "language": "python",
     "metadata": {},
     "outputs": [
      {
       "output_type": "stream",
       "stream": "stdout",
       "text": "The Annual equivalent cost of machine X in RS.  95026.535\nThe Annual equivalent cost of machine X in RS.  150079.605\nThe annual equivalent cost of machine A is less than that of machine B.So machine A is more cost effective machine. It is advised to buy machine A \n Calculation in the book is not accurate.\n"
      }
     ],
     "prompt_number": 6
    },
    {
     "cell_type": "heading",
     "level": 2,
     "metadata": {},
     "source": "Example 6.9 Page 83"
    },
    {
     "cell_type": "code",
     "collapsed": false,
     "input": "#initiation of variable\n#alternative 1\nDP=60000.0;#in Rs\nP1=15000.0;#in Rs\nn=1.0;#in years\ni=12.0;#in % Compounded anually\n\n#calculation\nPW1=DP+P1*1/((1+i/100)**n);#in RS\nn=4.0;#in years\nAE1=PW1*((i/100)*(1+i/100)**n)/(((1+i/100)**n)-1)\n\n#result\nprint \"The annual equivalent for this alternative in RS. \",round(PW1,3);\nprint \"The annual equivalent for this alternative in RS.\",round(AE1,3);\n\n#alternative 2\nP4y=90000.0;#in Rs\nAE2=P4y*(i/100)/(((1+i/100)**n)-1);#in Rs.\n\n#result\nprint \"The annual equivalent for this alternative in RS. \",round(AE2,3);\nprint \"The annual equivalent cost of alternative 2 is less than that of alternative 1. Hence, Joshi Lakshimi should select alternative 2 for purchasing the home equipment.\";\nprint \" Calculation in the book is not accurate.\"",
     "language": "python",
     "metadata": {},
     "outputs": [
      {
       "output_type": "stream",
       "stream": "stdout",
       "text": "The annual equivalent for this alternative in RS.  73392.857\nThe annual equivalent for this alternative in RS. 24163.456\nThe annual equivalent for this alternative in RS.  18831.099\nThe annual equivalent cost of alternative 2 is less than that of alternative 1. Hence, Joshi Lakshimi should select alternative 2 for purchasing the home equipment.\n Calculation in the book is not accurate.\n"
      }
     ],
     "prompt_number": 8
    },
    {
     "cell_type": "heading",
     "level": 2,
     "metadata": {},
     "source": "Example 6.10 Page 85"
    },
    {
     "cell_type": "code",
     "collapsed": false,
     "input": "#initation of variable\n#Brand C : \nw=12.0;#in months\nP=1200.0;#in Rs/tyre\ni=12.0;#in % nominal rate(Compounded anually)\ni=i/12.0;#in % compounded monthly\n\n#calculation\nAE_C=P*((i/100)*(1+i/100)**w)/(((1+i/100)**w)-1);#in RS\n\n#result\nprint \"The annual equivalent for this brand in RS. \",round(AE_C,3);\n\n#Brand C : \nw=24.0;#in months\nP=1800.0;#in Rs/tyre\ni=12.0;#in % nominal rate(Compounded anually)\ni=i/12.0;#in % compounded monthly\n\n#calculation\nAE_C=P*((i/100)*(1+i/100)**w)/(((1+i/100)**w)-1);#in RS\n\n#result\nprint \"The annual equivalent for this brand in RS. \",round(AE_C,3);\n\n#Brand C : \nw=36.0;#in months\nP=2100.0;#in Rs/tyre\ni=12.0;#in % nominal rate(Compounded anually)\ni=i/12.0;#in % compounded monthly\n\n#calculation\nAE_C=P*((i/100)*(1+i/100)**w)/(((1+i/100)**w)-1);#in RS\n\n#result\nprint \"The annual equivalent for this brand in RS. \",round(AE_C,3);\n\n#Brand D : \nw=48.0;#in months\nP=2700.0;#in Rs/tyre\ni=12.0;#in % nominal rate(Compounded anually)\ni=i/12.0;#in % compounded monthly\n\n#calculation\nAE_D=P*((i/100)*(1+i/100)**w)/(((1+i/100)**w)-1);#in RS\n\n#result\nprint \"The annual equivalent for this brand in RS. \",round(AE_D,3);\nprint \"Here common multiple lives of tyres is considered. This is 144 months. Therefore, the comparison is nade on 144 months basis.\";\nprint \"The annual equivalent cost of Brand C is less than that of other brands. hence, it should be used in the vehicles of the trucking company. It should be replaced  for times during the 144 months period.\";",
     "language": "python",
     "metadata": {},
     "outputs": [
      {
       "output_type": "stream",
       "stream": "stdout",
       "text": "The annual equivalent for this brand in RS.  106.619\nThe annual equivalent for this brand in RS.  84.732\nThe annual equivalent for this brand in RS.  69.75\nThe annual equivalent for this brand in RS.  71.101\nHere common multiple lives of tyres is considered. This is 144 months. Therefore, the comparison is nade on 144 months basis.\nThe annual equivalent cost of Brand C is less than that of other brands. hence, it should be used in the vehicles of the trucking company. It should be replaced  for times during the 144 months period.\n"
      }
     ],
     "prompt_number": 9
    }
   ],
   "metadata": {}
  }
 ]
}