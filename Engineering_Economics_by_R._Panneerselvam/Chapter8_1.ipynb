{
 "metadata": {
  "name": "EE-8"
 },
 "nbformat": 3,
 "nbformat_minor": 0,
 "worksheets": [
  {
   "cells": [
    {
     "cell_type": "heading",
     "level": 1,
     "metadata": {},
     "source": "Replacement and Maintenance Analysis"
    },
    {
     "cell_type": "heading",
     "level": 2,
     "metadata": {},
     "source": "Example 8.1 Page 103"
    },
    {
     "cell_type": "code",
     "collapsed": false,
     "input": "#initiation of variable\nFC=4000.0;#in Rs.\ni=0.0;#in % per annum\nMC1=0;#in Rs.\nprint \"Tabulation to determine economic life : \";\nprint\"End of     Maintenance     Summation of     Avg cost of     Avg FC if     Avg total\";\nprint\" year      cost at end     maintenance      maintenance    replaced at    cost through\";\nprint\"             of year         costs          through year    year given    year given\";\nprint\"  A           B(Rs.)        C(Rs.)             D(Rs.)        E(Rs.)        F(Rs.)\";\nprint\"  1            0                0                 0          4000          4000\";\nprint\"  2          200              200               100          2000          2100\";\nprint\"  3          400              600               200       1333.33       1533.33\";\nprint\"  4          600             1200               300          1000          1300\";\nprint\"  5          800             2000               400           800          1200\";\nprint\"  6         1000             3000               500        666.67       1166.67\";\nprint\"  7         1200             4200               600        571.43       1171.43\";\nprint\"Economic life of the machine : 6 years\";\nprint\"Column C summarizes the summation of maintenance costs for each replacement period. The value corresponding to any end of year in this column represents the total maintenance costs of using the equipment till the end of that year. It gives the Economic life of the machine : 6 years\";\n\n#When i=12%\ni=12.0;#in % per annum\nFC=4000.0;#in Rs.\nprint\"Tabulation to determine economic life : \";\nprint\"End of     Maintenance         P/F       PW as of begin   Summation of    PW of        A/P     Annual equi\";\nprint\" year      cost at end        12%         of year of         PW of      cumulative     12%     total cost\";\nprint\"             of year           n          maintenance     maintenance   maintenance     n       of year\";\nprint\"  A           B(Rs.)        C(Rs.)             D(Rs.)        E(Rs.)        F(Rs.)    G(rs.)      H(rs.)\";\nprint\"  1            0           0.8929              0.00          0.00       4000.00     1.1200     4480.00\";\nprint\"  2          200           0.7972            159.44        159.44       4159.44     0.5917     2461.14\";\nprint\"  3          400           0.7118            284.72        444.16       4444.16     0.4163     1850.10\";\nprint\"  4          600           0.6355            381.30        825.46       4825.46     0.3292     1588.54\";\nprint\"  5          800           0.5674            453.92       1279.38       5279.38     0.2774     1464.50\";\nprint\"  6         1000           0.5066            506.60       1785.98       5785.98     0.2432     1407.15\";\nprint\"  7         1200           0.4524            542.88       2328.86       6328.86     0.2191     1386.65\";\nprint\"  8         1400           0.4039            565.46       2894.32       6894.32     0.2013     1387.83\";\nprint\"  9         1600           0.3606            576.96       3471.28       7471.28     0.1877     1402.36\";\nprint\" 10         1800           0.3220            579.60       4050.88       8050.88     0.1770     1425.00\";\nprint\"Economic life of the machine : 7 years\";\nprint\"For this problem, the annual equivalent total cost is minimum at the end of year 7. Therefore, the economic life of the equipment is 7 year.\";\n",
     "language": "python",
     "metadata": {},
     "outputs": [
      {
       "output_type": "stream",
       "stream": "stdout",
       "text": "Tabulation to determine economic life : \nEnd of     Maintenance     Summation of     Avg cost of     Avg FC if     Avg total\n year      cost at end     maintenance      maintenance    replaced at    cost through\n             of year         costs          through year    year given    year given\n  A           B(Rs.)        C(Rs.)             D(Rs.)        E(Rs.)        F(Rs.)\n  1            0                0                 0          4000          4000\n  2          200              200               100          2000          2100\n  3          400              600               200       1333.33       1533.33\n  4          600             1200               300          1000          1300\n  5          800             2000               400           800          1200\n  6         1000             3000               500        666.67       1166.67\n  7         1200             4200               600        571.43       1171.43\nEconomic life of the machine : 6 years\nColumn C summarizes the summation of maintenance costs for each replacement period. The value corresponding to any end of year in this column represents the total maintenance costs of using the equipment till the end of that year. It gives the Economic life of the machine : 6 years\nTabulation to determine economic life : \nEnd of     Maintenance         P/F       PW as of begin   Summation of    PW of        A/P     Annual equi\n year      cost at end        12%         of year of         PW of      cumulative     12%     total cost\n             of year           n          maintenance     maintenance   maintenance     n       of year\n  A           B(Rs.)        C(Rs.)             D(Rs.)        E(Rs.)        F(Rs.)    G(rs.)      H(rs.)\n  1            0           0.8929              0.00          0.00       4000.00     1.1200     4480.00\n  2          200           0.7972            159.44        159.44       4159.44     0.5917     2461.14\n  3          400           0.7118            284.72        444.16       4444.16     0.4163     1850.10\n  4          600           0.6355            381.30        825.46       4825.46     0.3292     1588.54\n  5          800           0.5674            453.92       1279.38       5279.38     0.2774     1464.50\n  6         1000           0.5066            506.60       1785.98       5785.98     0.2432     1407.15\n  7         1200           0.4524            542.88       2328.86       6328.86     0.2191     1386.65\n  8         1400           0.4039            565.46       2894.32       6894.32     0.2013     1387.83\n  9         1600           0.3606            576.96       3471.28       7471.28     0.1877     1402.36\n 10         1800           0.3220            579.60       4050.88       8050.88     0.1770     1425.00\nEconomic life of the machine : 7 years\nFor this problem, the annual equivalent total cost is minimum at the end of year 7. Therefore, the economic life of the equipment is 7 year.\n"
      }
     ],
     "prompt_number": 1
    },
    {
     "cell_type": "heading",
     "level": 2,
     "metadata": {},
     "source": "Example 8.2 Page 105"
    },
    {
     "cell_type": "code",
     "collapsed": false,
     "input": "#initiation of variable\nFC=20000.0;#in Rs.\ni=15.0;#in % per annum\n\n#result\nprint \"The other details are summarized in Table 8.3. It can be seen from the book.\";\nprint \"Total annual equivalent cost = [cumulative sum of PW as of beginning of year 1 of operation & maintenance cost + FC - PW as of beginning of year 1 of salvage]*(A/P,15,n)\";\nprint \"In column L, the annual equivalent cost is minimum for n=5. Therefore, the economic life of the machine is 5 years. \";",
     "language": "python",
     "metadata": {},
     "outputs": [
      {
       "output_type": "stream",
       "stream": "stdout",
       "text": "The other details are summarized in Table 8.3. It can be seen from the book.\nTotal annual equivalent cost = [cumulative sum of PW as of beginning of year 1 of operation & maintenance cost + FC - PW as of beginning of year 1 of salvage]*(A/P,15,n)\nIn column L, the annual equivalent cost is minimum for n=5. Therefore, the economic life of the machine is 5 years. \n"
      }
     ],
     "prompt_number": 2
    },
    {
     "cell_type": "heading",
     "level": 2,
     "metadata": {},
     "source": "Example 8.3 Page 107"
    },
    {
     "cell_type": "code",
     "collapsed": false,
     "input": "#initiation of variable\nFC=20000.0;#in Rs.\ni=15.0;#in % per annum\n\n#result\nprint \"The details are summarized in Table 8.4. It can be seen from the book.\";\nprint\"Total annual equivalent cost = [summation of PW of maintenance cost + FC]]*(A/P,15,n)\";\nprint\"(column E + Rs. 6000)* Column G\";\nprint \"Column F * Column G\";\nprint \"In column H, the minimum annual equivalent cost occurs when n=8. Therefore, the economic life of the machine B is 8 years. \";\nprint \"RESULT : Min annual equivalent cost for machine A : Rs. 2780\";\nprint \"Min annual equivalent cost for machine B : Rs. 3672.30\";",
     "language": "python",
     "metadata": {},
     "outputs": [
      {
       "output_type": "stream",
       "stream": "stdout",
       "text": "The details are summarized in Table 8.4. It can be seen from the book.\nTotal annual equivalent cost = [summation of PW of maintenance cost + FC]]*(A/P,15,n)\n(column E + Rs. 6000)* Column G\nColumn F * Column G\nIn column H, the minimum annual equivalent cost occurs when n=8. Therefore, the economic life of the machine B is 8 years. \nRESULT : Min annual equivalent cost for machine A : Rs. 2780\nMin annual equivalent cost for machine B : Rs. 3672.30\n"
      }
     ],
     "prompt_number": 3
    },
    {
     "cell_type": "heading",
     "level": 2,
     "metadata": {},
     "source": "Example 8.4 Page 109"
    },
    {
     "cell_type": "code",
     "collapsed": false,
     "input": "#initiation of variable\n#alternative 1\nPprice=200000.0;#in Rs\nP=120000.0;#in Rs\nF=25000.0;#in Rs\nA=25000.0;#in Rs\ni=12.0;#in % per annum\nn=6.0;#in years\n\n#calculation\nAE1=(P-F)*((i/100)*(1+i/100)**n)/(((1+i/100)**n)-1)+F*i/100+A;#in RS\n\n#result\nprint \"The annual equivalent cost(AE(12%)) of this alternative in RS.  \",round(AE1,3);\n\n#Alternative 2\nP=150000.0;#in Rs\nF=20000.0;#in Rs\nA=14000.0;#in Rs\ni=12.0;#in % per annum\nn=6.0;#in years\n\n#calcualion\nAE2=(P-F)*((i/100)*(1+i/100)**n)/(((1+i/100)**n)-1)+F*i/100+A;#in RS\n\n#result\nprint \"The annual equivalent cost(AE(12%)) of this alternative in RS.  \",round(AE2,3);\nprint \"Since, The equivalent cost of new machine is less than that of present machine, it is suggested that the present machine be replaced with the new machine.\";",
     "language": "python",
     "metadata": {},
     "outputs": [
      {
       "output_type": "stream",
       "stream": "stdout",
       "text": "The annual equivalent cost(AE(12%)) of this alternative in RS.   51106.443\nThe annual equivalent cost(AE(12%)) of this alternative in RS.   48019.343\nSince, The equivalent cost of new machine is less than that of present machine, it is suggested that the present machine be replaced with the new machine.\n"
      }
     ],
     "prompt_number": 6
    },
    {
     "cell_type": "heading",
     "level": 2,
     "metadata": {},
     "source": "Example 8.5 Page 111"
    },
    {
     "cell_type": "code",
     "collapsed": false,
     "input": "#initation of variable\n#alternative 1\nPprice=50000.0;#in Rs\nP=15000.0;#in Rs\nF=8000.0;#in Rs\nA=14000.0;#in Rs\ni=15.0;#in % per annum\nn=5.0;#in years\n\n#calcualtion\nAE1=(P-F)*((i/100)*(1+i/100)**n)/(((1+i/100)**n)-1)+F*i/100+A;#in RS\n\n#result\nprint \"The annual equivalent cost(AE(15%)) of this alternative in RS.  \",round(AE1,3);\n\n#Alternative 2\nP=65000.0;#in Rs\nF=13000.0;#in Rs\nA=9000.0;#in Rs\ni=15.0;#in % per annum\nn=20.0;#in years\n\n#calculation\nAE2=(P-F)*((i/100)*(1+i/100)**n)/(((1+i/100)**n)-1)+F*i/100+A;#in RS\n\n#result\nprint \"The annual equivalent cost(AE(15%)) of this alternative in RS. : \",round(AE2,3);\nprint \"Since, The equivalent cost of Old deisel Engine is less than that of New deisel Engine, it is suggested to keep the Old deisel Engine.\";",
     "language": "python",
     "metadata": {},
     "outputs": [
      {
       "output_type": "stream",
       "stream": "stdout",
       "text": "The annual equivalent cost(AE(15%)) of this alternative in RS.   17288.209\nThe annual equivalent cost(AE(15%)) of this alternative in RS. :  19257.596\nSince, The equivalent cost of Old deisel Engine is less than that of New deisel Engine, it is suggested to keep the Old deisel Engine.\n"
      }
     ],
     "prompt_number": 7
    },
    {
     "cell_type": "heading",
     "level": 2,
     "metadata": {},
     "source": "Example 8.6 Page 113"
    },
    {
     "cell_type": "code",
     "collapsed": false,
     "input": "#intiation of variable\nP=660000.0;#in Rs\nF=400000.0;#in Rs\nA=96000.0;#in Rs\ni=10.0;#in % per annum\nn=5.0;#in years\n\n#caculation\nAE1=(P-F)*((i/100)*(1+i/100)**n)/(((1+i/100)**n)-1)+F*i/100+A;#in RS\n\n#result\nprint \"The annual equivalent cost(AE(10%)) of this alternative in RS. : \",round(AE1,3);\n\n#Alternative 2\nP=150000.0;#in Rs\nX=420000.0;#in Rs\ni=10.0;#in % per annum\nn=40.0;#in years\n\n#calcualtion\nAE2=(P-X)*((i/100)*(1+i/100)**n)/(((1+i/100)**n)-1)+F*i/100+A;#in RS\n\n#result\nprint \"The annual equivalent cost(AE(10%)) of this alternative in RS. : \",round(AE2,3);\nprint \"Since, The equivalent cost of alternative 2 is less than that of alternative 1, it is suggested that alternative 2 should be selected.\";\nprint \" calculations in the book is not accurate.\"",
     "language": "python",
     "metadata": {},
     "outputs": [
      {
       "output_type": "stream",
       "stream": "stdout",
       "text": "The annual equivalent cost(AE(10%)) of this alternative in RS. :  204587.345\nThe annual equivalent cost(AE(10%)) of this alternative in RS. :  108389.958\nSince, The equivalent cost of alternative 2 is less than that of alternative 1, it is suggested that alternative 2 should be selected.\n calculations in the book is not accurate.\n"
      }
     ],
     "prompt_number": 10
    },
    {
     "cell_type": "heading",
     "level": 2,
     "metadata": {},
     "source": "Example 8.7 Page 113"
    },
    {
     "cell_type": "code",
     "collapsed": false,
     "input": "#initiation of variable\n#alternative 1\nP=10000.0;#in Rs\nF=1500.0;#in Rs\nA=1600.0;#in Rs\ni=15.0;#in % per annum\nn=7.0;#in years\n\n#calcualtion\nAE1=(P-F)*((i/100)*(1+i/100)**n)/(((1+i/100)**n)-1)+F*i/100+A;#in RS\n\n#result\nprint \"The annual equivalent cost(AE(10%)) of 10 hp motor  in RS. : \",round(AE1,3);\n\n#alternative 1 part 2\nP=10000;#in Rs\nF=800.0;#in Rs\nA=1000.0;#in Rs\ni=15.0;#in % per annum\nn=7.0;#in years\n\n#calcualtion\nAE2=(P-F)*((i/100)*(1+i/100)**n)/(((1+i/100)**n)-1)+F*i/100+A;#in RS\n\n#result\nprint \"The annual equivalent cost(AE(10%)) of 10 hp motor  in RS.  \",round(AE2,3);\nprint \"Total annual equivalent cost of alternative in Rs. : \",round(AE1+AE2,3);\n\n\n#Alternative 2\nP=35000.0;#in Rs\nF=4000.0;#in Rs\nA=500.0;#in Rs\ni=15.0;#in % per annum\nn=7.0;#in years\n\n#calcualtion\nAE=(P-F)*((i/100)*(1+i/100)**n)/(((1+i/100)**n)-1)+F*i/100+A;#in RS\n\nprint \"The annual equivalent cost of alternative 2 in RS.\",round(AE,3);\nprint\"Since, The equivalent cost of alternative 1 is less than that of alternative 2, it is suggested that the present 10 hp motor be augmented with an additional 5 hp motor.\";\nprint \" calculations in the book is not accurate\"",
     "language": "python",
     "metadata": {},
     "outputs": [
      {
       "output_type": "stream",
       "stream": "stdout",
       "text": "The annual equivalent cost(AE(10%)) of 10 hp motor  in RS. :  3868.063\nThe annual equivalent cost(AE(10%)) of 10 hp motor  in RS.   3331.315\nTotal annual equivalent cost of alternative in Rs. :  7199.378\nThe annual equivalent cost of alternative 2 in RS. 8551.171\nSince, The equivalent cost of alternative 1 is less than that of alternative 2, it is suggested that the present 10 hp motor be augmented with an additional 5 hp motor.\n calculations in the book is not accurate\n"
      }
     ],
     "prompt_number": 12
    },
    {
     "cell_type": "heading",
     "level": 2,
     "metadata": {},
     "source": "Example 8.8 Page 115"
    },
    {
     "cell_type": "code",
     "collapsed": false,
     "input": "#initiation of variable\nP=10000.0;#in Rs\nF=4000.0;#in Rs\nA=500.0;#in Rs\ni=12.0;#in % per annum\nn=4.0;#in years\n\n#calcualtion\nAE=(P-F)*((i/100)*(1+i/100)**n)/(((1+i/100)**n)-1)+F*i/100+A;#in RS\nX= (AE-1000*i/100-750)/0.3292+1000;\n#result\nprint \"The annual equivalent cost(AE(15%)) of n in RSew machine : \",round(AE,3);\nprint \"The comparative use value of old machine is Rs.\", round(X,3), \"which is less than the price(Rs. 8000) offered by the company which is supplying the new machine in the event of replacing the old machine by nw machine. \";\nprint\"Therefore, it is advisable to replace the old machine with the new one.\";",
     "language": "python",
     "metadata": {},
     "outputs": [
      {
       "output_type": "stream",
       "stream": "stdout",
       "text": "The annual equivalent cost(AE(15%)) of n in RSew machine :  2955.407\nThe comparative use value of old machine is Rs. 7334.771 which is less than the price(Rs. 8000) offered by the company which is supplying the new machine in the event of replacing the old machine by nw machine. \nTherefore, it is advisable to replace the old machine with the new one.\n"
      }
     ],
     "prompt_number": 22
    },
    {
     "cell_type": "heading",
     "level": 2,
     "metadata": {},
     "source": "Example 8.9 Page 117"
    },
    {
     "cell_type": "code",
     "collapsed": false,
     "input": "#Intiation of Variable\np1=0.07;#unitless\np2=0.11;#unitless\np3=0.12;#unitless\np4=0.18;#unitless\np5=0.21;#unitless\np6=0.20;#unitless\np7=0.11;#unitless\nN0=100.0;#no. of transistors\n\n#calcualtion\nN1=N0*p1;#no. of transistors\nN2=N0*p2;#no. of transistors\nN3=N0*p3;#no. of transistors\nN4=N0*p4;#no. of transistors\nN5=N0*p5;#no. of transistors\nN6=N0*p6;#no. of transistors\nN7=N0*p7;#no. of transistors\nLife=0;#in weeks\np=[p1, p2, p3, p4, p5, p6, p7];#Unitless\nfor i in range (7): \n    Life=Life+(i+1)*p[i];\n\n#result\nprint \"Expected life of each transistor in weeks : \",round(Life,3)\nprint \"Average No. of failures/week :  \",round(100/Life);\n\n#result of group replacement cost \nprint \"Cost of transistor when replaced simultaneously = Rs. 3\";\nprint \"Cost of transistor when replaced individually = Rs. 9\";\nprint \"The cost of group replacement policy for seeral replacement periods are summarized in Table 8.6. This table can be seen from the book.\";\nprint \"From table it is clear that the avg cost/week is minimum for the 4th week. Hence, the group replacement period is 4 weeks.\";\nprint \"Individual replacement cost/week = Rs. 207\";\nprint \"Minimum group replacement ost/week = Rs. 196.50\";\nprint \"Since the min group replacement cost/week is less than the individual replacement cost/week, the group replacement policy is the best, and hence all the transistors should be replaced in 4 weeks.\"",
     "language": "python",
     "metadata": {},
     "outputs": [
      {
       "output_type": "stream",
       "stream": "stdout",
       "text": "Expected life of each transistor in weeks :  4.39\nAverage No. of failures/week :   23.0\nCost of transistor when replaced simultaneously = Rs. 3\nCost of transistor when replaced individually = Rs. 9\nThe cost of group replacement policy for seeral replacement periods are summarized in Table 8.6. This table can be seen from the book.\nFrom table it is clear that the avg cost/week is minimum for the 4th week. Hence, the group replacement period is 4 weeks.\nIndividual replacement cost/week = Rs. 207\nMinimum group replacement ost/week = Rs. 196.50\nSince the min group replacement cost/week is less than the individual replacement cost/week, the group replacement policy is the best, and hence all the transistors should be replaced in 4 weeks.\n"
      }
     ],
     "prompt_number": 18
    },
    {
     "cell_type": "heading",
     "level": 2,
     "metadata": {},
     "source": "Example 8.10 Page 119"
    },
    {
     "cell_type": "code",
     "collapsed": false,
     "input": "#initiation of variable\np1=(100.0-96)/100;#unitless\np2=(96.0-89)/100;#unitless\np3=(89-68)/100;#unitless\np4=(68.0-37)/100;#unitless\np5=(37.0-13)/100;#unitless\np6=(13.0-0)/100;#unitless\nN0=1000.0;#no. of resistors\n\n#calculation\nN1=N0*p1;#no. of resistors\nN2=N0*p2+N1*p1;#no. of resistors\nN3=N0*p3+N1*p2+N2*p1;#no. of resistors\nN4=N0*p4+N1*p3+N2*p2+N3*p1;#no. of resistors\nN5=N0*p5+N1*p4+N2*p3+N3*p2+N4*p1;#no. of resistors\nN6=N0*p6+N1*p5+N2*p4+N3*p3+N4*p2+N5*p1    ;#no. of resistors\n\nLife=0;#in months\np=[p1, p2, p3, p4, p5, p6, p7];#Unitless\nfor i in range (7): \n    Life=Life+(i+1)*p[i];\n\n#result\nprint \"Expected life of each transistor in weeks : \",round(Life,3)\nprint \"Average No. of failures/week :  \",round(100/Life);\n\n#result of group replacement cost\nprint \"Cost/transistor when replaced simultaneously = Rs. 4\";\nprint \"Cost/transistor when replaced individually = Rs. 10\";\nprint \"The cost of group replacement policy for several replacement periods are summarized in Table 8.7. This table can be seen from the book.\";\nprint \"From table it is clear that the avg cost/month is minimum for the 3rd month. Hence, the group replacement period is 3 months.\";\nprint \"Individual replacement cost/month = Rs. 2480\";\nprint \"Minimum group replacement ost/month = Rs. 2426.67\";\nprint \"Since the min group replacement cost/month is less than the individual replacement cost/month, the group replacement policy is the best, and hence all the transistors should be replaced in 3 months.\"",
     "language": "python",
     "metadata": {},
     "outputs": [
      {
       "output_type": "stream",
       "stream": "stdout",
       "text": "Expected life of each transistor in weeks :  4.17\nAverage No. of failures/week :   24.0\nCost/transistor when replaced simultaneously = Rs. 4\nCost/transistor when replaced individually = Rs. 10\nThe cost of group replacement policy for several replacement periods are summarized in Table 8.7. This table can be seen from the book.\nFrom table it is clear that the avg cost/month is minimum for the 3rd month. Hence, the group replacement period is 3 months.\nIndividual replacement cost/month = Rs. 2480\nMinimum group replacement ost/month = Rs. 2426.67\nSince the min group replacement cost/month is less than the individual replacement cost/month, the group replacement policy is the best, and hence all the transistors should be replaced in 3 months.\n"
      }
     ],
     "prompt_number": 23
    }
   ],
   "metadata": {}
  }
 ]
}