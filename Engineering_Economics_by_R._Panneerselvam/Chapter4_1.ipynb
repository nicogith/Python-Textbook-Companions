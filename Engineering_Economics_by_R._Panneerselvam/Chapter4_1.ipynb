{
 "metadata": {
  "name": "EE-4"
 },
 "nbformat": 3,
 "nbformat_minor": 0,
 "worksheets": [
  {
   "cells": [
    {
     "cell_type": "heading",
     "level": 1,
     "metadata": {},
     "source": "Present Worth Method of Comparision"
    },
    {
     "cell_type": "heading",
     "level": 2,
     "metadata": {},
     "source": "Example 4.1 Page 44"
    },
    {
     "cell_type": "code",
     "collapsed": false,
     "input": "#initiation of variable\n#technology 1\nP=1200000.0;#in Rs\nA=400000.0;#in Rs\ni=20.0;#in % per annum\nn=10.0;#in years\n\n#calculation\nPW=-P+A*(((1+i/100)**n)-1)/((i/100)*(1+i/100)**n);#in RS\n\n#result\nprint \"The present worth for this technology in RS.  \",round(PW,3);\n\n#technology 2\nP=2000000.0;#in Rs\nA=600000.0;#in Rs\ni=20.0;#in % per annum\nn=10.0;#in years\n\n#calculation\nPW=-P+A*(((1+i/100)**n)-1)/((i/100)*(1+i/100)**n);#in RS\n\n#result\nprint \"The present worth for this technology in RS.  \",round(PW,3);\n\n#technology 3\nP=1800000.0;#in Rs\nA=500000.0;#in Rs\ni=20.0;#in % per annum\nn=10.0;#in years\n\n#calculation\nPW=-P+A*(((1+i/100)**n)-1)/((i/100)*(1+i/100)**n);#in RS\n\n#result\nprint \"The present worth for this technology in RS.  \",round(PW,3);\nprint \"It is clear from the calculations that the present worth of technology 2 is the highest among all technologies. Therefore technology 2 is suggested for implementation to expand the production.\";",
     "language": "python",
     "metadata": {},
     "outputs": [
      {
       "output_type": "stream",
       "stream": "stdout",
       "text": "The present worth for this technology in RS.   476988.834\nThe present worth for this technology in RS.   515483.251\nThe present worth for this technology in RS.   296236.043\nIt is clear from the calculations that the present worth of technology 2 is the highest among all technologies. Therefore technology 2 is suggested for implementation to expand the production.\n"
      }
     ],
     "prompt_number": 2
    },
    {
     "cell_type": "heading",
     "level": 2,
     "metadata": {},
     "source": "Example 4.2 Page 46"
    },
    {
     "cell_type": "code",
     "collapsed": false,
     "input": "#initiation of variable\n#bid 1\nP=450000.0;#in Rs\nA=27000.0;#in Rs\ni=15.0;#in % per annum\nn=15.0;#in years\n\n#calculation\nPW=P+A*(((1+i/100)**n)-1)/((i/100)*(1+i/100)**n);#in RS\n\n#result\nprint \"The present worth for this bid in RS. \",round(PW,3)\n\n#bid 2\nP=540000.0;#in Rs\nA=28500.0;#in Rs\ni=15.0;#in % per annum\nn=15.0;#in years\n\n#calculation\nPW=P+A*(((1+i/100)**n)-1)/((i/100)*(1+i/100)**n);#in RS\n\n#result\nprint \"The present worth for this bid in RS. \",round(PW,3)\nprint \"The total present worth cost of bid 1 is less than that of bid 2. Hence bid 1 is to be selected for implementation. That is, the Elevator from Alpha Elevator Inc. is to be purchased and installed in the new building.\";",
     "language": "python",
     "metadata": {},
     "outputs": [
      {
       "output_type": "stream",
       "stream": "stdout",
       "text": "The present worth for this bid in RS.  607878.993\nThe present worth for this bid in RS.  706650.048\nThe total present worth cost of bid 1 is less than that of bid 2. Hence bid 1 is to be selected for implementation. That is, the Elevator from Alpha Elevator Inc. is to be purchased and installed in the new building.\n"
      }
     ],
     "prompt_number": 3
    },
    {
     "cell_type": "heading",
     "level": 2,
     "metadata": {},
     "source": "Example 4.3 Page 47"
    },
    {
     "cell_type": "code",
     "collapsed": false,
     "input": "#initiation of variable\n#investment proposal A\nP1=-10000.0;#in Rs\nP2=3000.0;#in Rs\nP3=3000.0;#in Rs\nP4=7000.0;#in Rs\nP5=6000.0;#in Rs\ni=18.0;#in % per annum\n\n#calculation\nPW_A=P1+P2*1/((1+i/100)**1)+P3*1/((1+i/100)**2)+P4*1/((1+i/100)**3)+P5*1/((1+i/100)**4);#in RS\n\n#result\nprint \"The present worth of A in RS.  \",round(PW_A,3);\n\n#investment proposal B\nP1=-10000.0;#in Rs\nP2=6000.0;#in Rs\nP3=6000.0;#in Rs\nP4=3000.0;#in Rs\nP5=3000.0;#in Rs\ni=18.0;#in % per annum\n\n#calculation\nPW_B=P1+P2*1/((1+i/100)**1)+P3*1/((1+i/100)**2)+P4*1/((1+i/100)**3)+P5*1/((1+i/100)**4);#in RS\n\n#result\nprint \"The present worth of B in RS.  \",round(PW_B,3);\nprint\"At i=18%, the present worth of proposal B is higher than that of proposal A. Therefore, select proposal B.\"",
     "language": "python",
     "metadata": {},
     "outputs": [
      {
       "output_type": "stream",
       "stream": "stdout",
       "text": "The present worth of A in RS.   2052.076\nThe present worth of B in RS.   2767.112\nAt i=18%, the present worth of proposal B is higher than that of proposal A. Therefore, select proposal B.\n"
      }
     ],
     "prompt_number": 4
    },
    {
     "cell_type": "heading",
     "level": 2,
     "metadata": {},
     "source": "Example 4.4 Page 48"
    },
    {
     "cell_type": "code",
     "collapsed": false,
     "input": "#initiation of variable\nP0=400000.0;#in Rs\nP=200000.0;#in Rs\ni=18.0;#in % per annum\nn=10.0;#in years\n\n#calcualtion\nPW=P0+P*(((1+i/100)**n)-1)/((i/100)*(1+i/100)**n);#in RS\n\n#result\nprint \"The present worth of alternative 2 in RS. \",round(PW,3);\nprint \"The present worth of 2nd alternative is less than that of first one i.e., complete downpayment of Rs. 1600000. Hence, select 2nd alternative.\";\n",
     "language": "python",
     "metadata": {},
     "outputs": [
      {
       "output_type": "stream",
       "stream": "stdout",
       "text": "The present worth of alternative 2 in RS.  1298817.259\nThe present worth of 2nd alternative is less than that of first one i.e., complete downpayment of Rs. 1600000. Hence, select 2nd alternative.\n"
      }
     ],
     "prompt_number": 5
    },
    {
     "cell_type": "heading",
     "level": 2,
     "metadata": {},
     "source": "Example 4.5 Page 49"
    },
    {
     "cell_type": "code",
     "collapsed": false,
     "input": "#initiation of variable\n#plan 1\nP0=-1000.0;#in Rs\nP=12000.0;#in Rs\ni=12.0;#in % per annum\nn=15.0;#in years\n\n#calculation\nPW1=P0+P*1/((1+i/100)**n);#in RS\n\n#result\nprint \"The present worth of Plan-1 in RS.  \",round(PW1,3);\n\n#plan 2\nP0=-1000.0;#in Rs\nP=4000.0;#in Rs\ni=12.0;#in % per annum\nn1=10.0;#in years\nn2=15.0;#in years\n\n#calculation\nPW2=P0+P*1/((1+i/100)**n1)++P*1/((1+i/100)**n2);#in RS\n\n#result\nprint \"The present worth of Plan-2 in RS.\",round(PW2,3);\nprint \"The present worth of Plan-1 is more than that of Plan-1. Therefore plan 1 is the best plan from the investors point of view.\";",
     "language": "python",
     "metadata": {},
     "outputs": [
      {
       "output_type": "stream",
       "stream": "stdout",
       "text": "The present worth of Plan-1 in RS.   1192.355\nThe present worth of Plan-2 in RS. 1018.678\nThe present worth of Plan-1 is more than that of Plan-1. Therefore plan 1 is the best plan from the investors point of view.\n"
      }
     ],
     "prompt_number": 8
    },
    {
     "cell_type": "heading",
     "level": 2,
     "metadata": {},
     "source": "Example 4.6,Page 50"
    },
    {
     "cell_type": "code",
     "collapsed": false,
     "input": "#initiation of variable\n#plan 1\nP0=-10000.0;#in Rs\nP=800000.0;#in Rs\ni=12.0;#in % per annum\nn=20.0;#in years\n\n#calcualtion\nPW1=P0*(((1+i/100)**n)-1)/((i/100)*(1+i/100)**n)+P*1/((1+i/100)**n);#in RS\n\n#result\nprint \"The present worth of Plan-1 in RS. \",round(PW1,3);\n\n#plan 2\nP0=-10000.0;#in Rs\nP=1500000.0;#in Rs\ni=12.0;#in % per annum\nn1=20.0;#in years\nn2=25.0;#in years\n\n#calcualtion\nPW2=P0*(((1+i/100)**n1)-1)/((i/100)*(1+i/100)**n1)+P*1/((1+i/100)**n2);#in RS\n\n#result\nprint \"The present worth of Plan-2 in RS. \",round(PW2,3);\nprint \"The present worth of Innovative Investment Ltd. Plan is more than that of Novel Investment Ltd. Plan. Therefore Innovative Investment Ltd. Plan is the best plan from the investors point of view.\";",
     "language": "python",
     "metadata": {},
     "outputs": [
      {
       "output_type": "stream",
       "stream": "stdout",
       "text": "The present worth of Plan-1 in RS.  8238.976\nThe present worth of Plan-2 in RS.  13540.524\nThe present worth of Innovative Investment Ltd. Plan is more than that of Novel Investment Ltd. Plan. Therefore Innovative Investment Ltd. Plan is the best plan from the investors point of view.\n"
      }
     ],
     "prompt_number": 12
    },
    {
     "cell_type": "heading",
     "level": 2,
     "metadata": {},
     "source": "Example 4.7 Page 50"
    },
    {
     "cell_type": "code",
     "collapsed": false,
     "input": "#initiation of variable\nP=12000.0;#in Rs\nA1=10000.0;#in Rs\nG=1000.0;#in Rs\ni=18.0;#in % per annum\nn=10.0;#in years\n\n#calculation\nPW=-P+(A1+G*(((1+i/100)**n)-i*n/100-1)/(((i/100)*(1+i/100)**n)-i/100))*(((1+i/100)**n)-1)/((i/100)*(1+i/100)**n);#in RS\n\n#result\nprint \"The present worth of the small business in RS.  \",round(PW,3);",
     "language": "python",
     "metadata": {},
     "outputs": [
      {
       "output_type": "stream",
       "stream": "stdout",
       "text": "The present worth of the small business in RS.   47293.316\n"
      }
     ],
     "prompt_number": 13
    }
   ],
   "metadata": {}
  }
 ]
}