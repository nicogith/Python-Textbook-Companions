{
 "metadata": {
  "name": "EE-7"
 },
 "nbformat": 3,
 "nbformat_minor": 0,
 "worksheets": [
  {
   "cells": [
    {
     "cell_type": "heading",
     "level": 1,
     "metadata": {},
     "source": "Rate of Return Method"
    },
    {
     "cell_type": "heading",
     "level": 2,
     "metadata": {},
     "source": "Example 7.1 Page 89"
    },
    {
     "cell_type": "code",
     "collapsed": false,
     "input": "#initiation of vriable\nIi=100000.0;#in Rs\nAr=30000.0;#in Rs\nn=5.0;#in years\ni1=10.0;#in % per annum\n\n#calcualton\nPW1=-Ii+Ar*(((1+i1/100)**n)-1)/((i1/100)*(1+i1/100)**n);#in RS\n\n#result\nprint \"The present worth for i=10% in RS. \",round(PW1,3);\n\n#calcualtion\ni2=15.0;#in % per annum\nPW2=-Ii+Ar*(((1+i2/100)**n)-1)/((i2/100)*(1+i2/100)**n);#in RS\n\n#result\nprint \"The present worth for i=15% in RS. \",round(PW2,3);\n\n#calculation\ni3=18.0;#in % per annum\nPW3=-Ii+Ar*(((1+i3/100)**n)-1)/((i3/100)*(1+i3/100)**n);#in RS\ni=15+(PW2-0)*(i3-i2)/(PW2-PW3);#in Rs\n\n#result\nprint \"The present worth for i=18% in RS. \",round(PW3,3)\nprint \"Present worth for i=15% is suitable.\";\nprint \"Therefore, the rate of return for the new business in % per annum \",round(i,3);",
     "language": "python",
     "metadata": {},
     "outputs": [
      {
       "output_type": "stream",
       "stream": "stdout",
       "text": "The present worth for i=10% in RS.  13723.603\nThe present worth for i=15% in RS.  564.653\nThe present worth for i=18% in RS.  -6184.869\nPresent worth for i=15% is suitable.\nTherefore, the rate of return for the new business in % per annum  15.251\n"
      }
     ],
     "prompt_number": 2
    },
    {
     "cell_type": "heading",
     "level": 2,
     "metadata": {},
     "source": "Example 7.2 Page 90"
    },
    {
     "cell_type": "code",
     "collapsed": false,
     "input": "#initiation of variable\nIo=2000000.0;#in Rs\nANP=350000.0;#in Rs\nS=0.0;#in Rs\nn=10.0;#in years\ni1=10.0;#in % per annum\n\n#calcualtion\nPW1=-Io+ANP*(((1+i1/100)**n)-1)/((i1/100)*(1+i1/100)**n);#in RS\n\n#result\nprint \"The present worth for i=10% in RS.  \",round(PW1,3);\n\n#calculation\ni2=12.0;#in % per annum\nPW2=-Io+ANP*(((1+i2/100)**n)-1)/((i2/100)*(1+i2/100)**n);#in RS\ni=10+(PW1-0)*(i2-i1)/(PW1-PW2);#in Rs.\n\n#result\nprint \"The present worth for i=15% in RS. \",round(PW2,3);\nprint \"Present worth for i=10% is suitable.\";\nprint \"Therefore, the rate of return for the new business in % per annum \",round(i,3);",
     "language": "python",
     "metadata": {},
     "outputs": [
      {
       "output_type": "stream",
       "stream": "stdout",
       "text": "The present worth for i=10% in RS.   150598.487\nThe present worth for i=15% in RS.  -22421.94\nPresent worth for i=10% is suitable.\nTherefore, the rate of return for the new business in % per annum  11.741\n"
      }
     ],
     "prompt_number": 4
    },
    {
     "cell_type": "heading",
     "level": 2,
     "metadata": {},
     "source": "Example 7.3 Page 91"
    },
    {
     "cell_type": "code",
     "collapsed": false,
     "input": "#initiation of variable\n#alternate 1\nIo=150000.0;#in Rs\nAp=45570.0;#in Rs\nn=5.0;#in years\n\n#calculation\ni1=10.0;#in % per annum\nPW1=-Io+Ap*(((1+i1/100)**n)-1)/((i1/100)*(1+i1/100)**n);#in RS\ni2=12.0;#in % per annum\nPW2=-Io+Ap*(((1+i2/100)**n)-1)/((i2/100)*(1+i2/100)**n);#in RS\ni3=15.0;#in % per annum\nPW3=-Io+Ap*(((1+i3/100)**n)-1)/((i3/100)*(1+i3/100)**n);#in RS\ni4=18.0;#in % per annum\nPW4=-Io+Ap*(((1+i4/100)**n)-1)/((i4/100)*(1+i4/100)**n);#in RS\ni=i3+(PW3-0)*(i4-i3)/(PW3-PW4);#in Rs.\n\n#result\nprint \"The present worth for i=10% in RS.  \",round(PW1,3);\nprint \"The present worth for i=12% in RS. \",round(PW2,3);\nprint \"The present worth for i=15% in RS. \",round(PW3,3);\nprint \"The present worth for i=18% in RS. \",round(PW4,3);\nprint\"Present worth for i=15% is suitable.\";\nprint \"Therefore, the rate of return of alternative in % per annum :\",round(i,3);\n\n#alternative 2\nIo=210000.0;#in Rs\nAp=58260.0;#in Rs\nn=5.0;#in years\ni1=12.0;#in % per annum\n\n#calcualtion\nPW1=-Io+Ap*(((1+i1/100)**n)-1)/((i1/100)*(1+i1/100)**n);#in RS\ni2=13.0;#in % per annum\nPW2=-Io+Ap*(((1+i2/100)**n)-1)/((i2/100)*(1+i2/100)**n);#in RS\ni=i1+(PW1-0)*(i2-i1)/(PW1-PW2);#in Rs.\n\n#result\nprint \"The present worth for i=12% in RS. \",round(PW1,3);\nprint \"The present worth for i=13% in RS. \",round(PW2,3);\nprint\"Present worth for i=12% is suitable.\";\nprint \"Therefore, the rate of return of alternative in % per annum :\",round(i,3);\n\n#Alternative 3:\nIo=255000.0;#in Rs\nAp=69000.0;#in Rs\nn=5.0;#in years\ni1=11.0;#in % per annum\nPW1=-Io+Ap*(((1+i1/100)**n)-1)/((i1/100)*(1+i1/100)**n);#in RS\ni2=12.0;#in % per annum\nPW2=-Io+Ap*(((1+i2/100)**n)-1)/((i2/100)*(1+i2/100)**n);#in RS\ni=i1+(PW1-0)*(i2-i1)/(PW1-PW2);#in Rs.\n\n#result\nprint \"The present worth for i=11% in RS. \",round(PW1,3);\nprint \"The present worth for i=12% in RS. \",round(PW2,3);\nprint\"Present worth for i=12% is suitable.\";\nprint \"Therefore, the rate of return of alternative in % per annum :\",round(i,3);\nprint\"It is clear that rate of return for alternative 3v is less than the minimum attractive rate of return of 12 %. So it should not be considered for comparison. the remaining two alternatives are qualified for consideration. Among the alternatives 1 and 2, the rate of return of 1 is greater than that of 2. hence,alternative 1 should be selected. \";",
     "language": "python",
     "metadata": {},
     "outputs": [
      {
       "output_type": "stream",
       "stream": "stdout",
       "text": "The present worth for i=10% in RS.   22746.153\nThe present worth for i=12% in RS.  14269.652\nThe present worth for i=15% in RS.  2757.708\nThe present worth for i=18% in RS.  -7494.817\nPresent worth for i=15% is suitable.\nTherefore, the rate of return of alternative in % per annum : 15.807\nThe present worth for i=12% in RS.  14.262\nThe present worth for i=13% in RS.  -5086.107\nPresent worth for i=12% is suitable.\nTherefore, the rate of return of alternative in % per annum : 12.003\nThe present worth for i=11% in RS.  16.894\nThe present worth for i=12% in RS.  -6270.442\nPresent worth for i=12% is suitable.\nTherefore, the rate of return of alternative in % per annum : 11.003\nIt is clear that rate of return for alternative 3v is less than the minimum attractive rate of return of 12 %. So it should not be considered for comparison. the remaining two alternatives are qualified for consideration. Among the alternatives 1 and 2, the rate of return of 1 is greater than that of 2. hence,alternative 1 should be selected. \n"
      }
     ],
     "prompt_number": 7
    },
    {
     "cell_type": "heading",
     "level": 2,
     "metadata": {},
     "source": "Example 7.4 Page 94"
    },
    {
     "cell_type": "code",
     "collapsed": false,
     "input": "#initiation of variable\nA0=-1275.0;#in Rs\nA1=150.0;#in Rs\nG=150.0;#in Rs\ni=10.0;#in % per annum\nn=5.0;#in years\n\n#calcualtion\nA=A1+G*(((1+i/100)**n)-i*n/100-1)/(((i/100)*(1+i/100)**n)-i/100) ;#in RS\ni1=10.0;#in % per annum\nPW1=A0+(A1+G*(((1+i1/100)**n)-i1*n/100-1)/(((i1/100)*(1+i1/100)**n)-i1/100))*(((1+i1/100)**n)-1)/((i1/100)*(1+i1/100)**n);#i1n Rs.\ni2=12.0;#i2n % per annum\nPW2=A0+(A1+G*(((1+i2/100)**n)-i2*n/100-1)/(((i2/100)*(1+i2/100)**n)-i2/100))*(((1+i2/100)**n)-1)/((i2/100)*(1+i2/100)**n);#i2n Rs.\ni3=15.0;#i3n % per annum\nPW3=A0+(A1+G*(((1+i3/100)**n)-i3*n/100-1)/(((i3/100)*(1+i3/100)**n)-i3/100))*(((1+i3/100)**n)-1)/((i3/100)*(1+i3/100)**n);#i3n Rs.\ni4=18.0;#in % per annum\nPW4=A0+(A1+G*(((1+i4/100)**n)-i4*n/100-1)/(((i4/100)*(1+i4/100)**n)-i4/100))*(((1+i4/100)**n)-1)/((i4/100)*(1+i4/100)**n);#in Rs.\ni=i3+(PW3-0)*(i4-i3)/(PW3-PW4);#in Rs.\n\n#result\nprint \"The annual equivalent of the positive cash flows in RS. : \",round(A,3);\nprint \"PW(10)\",round(PW1,3);\nprint \"PW(12)\",round(PW2,3);\nprint \"PW(15)\",round(PW3,3);\nprint \"PW(18)\",round(PW1,4);\nprint\"Present worth for i=15% is suitable.\";\nprint \"Therefore, the rate of return for the given cash flow in % per annum :\",round(i,3);",
     "language": "python",
     "metadata": {},
     "outputs": [
      {
       "output_type": "stream",
       "stream": "stdout",
       "text": "The annual equivalent of the positive cash flows in RS. :  421.519\nPW(10) 322.888\nPW(12) 225.269\nPW(15) 94.095\nPW(18) 322.8882\nPresent worth for i=15% is suitable.\nTherefore, the rate of return for the given cash flow in % per annum : 17.448\n"
      }
     ],
     "prompt_number": 9
    },
    {
     "cell_type": "heading",
     "level": 2,
     "metadata": {},
     "source": "Example 7.5 Page 95"
    },
    {
     "cell_type": "code",
     "collapsed": false,
     "input": "#initiation of variable\n#alternative 1\nIo=500000.0;#in Rs\nAr=170000.0;#in Rs\nn=5.0;#in years\ni1=15.0;#in % per annum\n\n#calculation\nPW1=-Io+Ar*(((1+i1/100)**n)-1)/((i1/100)*(1+i1/100)**n);#in RS\ni2=17.0;#in % per annum\nPW2=-Io+Ar*(((1+i2/100)**n)-1)/((i2/100)*(1+i2/100)**n);#in RS\ni3=20.0;#in % per annum\nPW3=-Io+Ar*(((1+i3/100)**n)-1)/((i3/100)*(1+i3/100)**n);#in RS\ni4=22.0;#in % per annum\nPW4=-Io+Ar*(((1+i4/100)**n)-1)/((i4/100)*(1+i4/100)**n);#in RS\ni=i3+(PW3-0)*(i4-i3)/(PW3-PW4);#in Rs.\n\n#result\nprint \"The present worth(PW(15%)) for i=10% in RS.  \",round(PW1,3);\nprint \"The present worth(PW(17%)) for i=10% in RS.  \",round(PW2,3);\nprint \"The present worth(PW(20%)) for i=10% in RS.  \",round(PW3,3);\nprint \"The present worth(PW(22%)) for i=10% in RS.  \",round(PW4,3);\nprint \"Present worth for i=15% is suitable.\";\nprint \"Therefore, the rate of return of alternative 1 in % per annum \",round(i,3);\n\n#altenative 2\nIo=800000.0;#in Rs\nAr=270000.0;#in Rs\nn=5.0;#in years\ni3=20.0;#in % per annum\n\n#calculation\nPW3=-Io+Ar*(((1+i3/100)**n)-1)/((i3/100)*(1+i3/100)**n);#in RS\ni4=22.0;#in % per annum\nPW4=-Io+Ar*(((1+i4/100)**n)-1)/((i4/100)*(1+i4/100)**n);#in RS\ni=i3+(PW3-0)*(i4-i3)/(PW3-PW4);#in Rs.\n\n#result\nprint \"The present worth(PW(20%)) for i=10% in RS.  \",round(PW3,3);\nprint \"The present worth(PW(22%)) for i=10% in RS.  \",round(PW4,3);\nprint \"Present worth for i=15% is suitable.\";\nprint \"Therefore, the rate of return of alternative 2 in % per annum \",round(i,3);\nprint \"Since the rate of return of alternative 1 is greater than that of the alternative 2, select alternative 1. \";",
     "language": "python",
     "metadata": {},
     "outputs": [
      {
       "output_type": "stream",
       "stream": "stdout",
       "text": "The present worth(PW(15%)) for i=10% in RS.   69866.367\nThe present worth(PW(17%)) for i=10% in RS.   43888.848\nThe present worth(PW(20%)) for i=10% in RS.   8404.064\nThe present worth(PW(22%)) for i=10% in RS.   -13181.241\nPresent worth for i=15% is suitable.\nTherefore, the rate of return of alternative 1 in % per annum  20.779\nThe present worth(PW(20%)) for i=10% in RS.   7465.278\nThe present worth(PW(22%)) for i=10% in RS.   -26817.264\nPresent worth for i=15% is suitable.\nTherefore, the rate of return of alternative 2 in % per annum  20.436\nSince the rate of return of alternative 1 is greater than that of the alternative 2, select alternative 1. \n"
      }
     ],
     "prompt_number": 11
    }
   ],
   "metadata": {}
  }
 ]
}