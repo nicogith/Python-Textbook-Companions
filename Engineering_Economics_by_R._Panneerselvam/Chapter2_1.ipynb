{
 "metadata": {
  "name": "EE-2"
 },
 "nbformat": 3,
 "nbformat_minor": 0,
 "worksheets": [
  {
   "cells": [
    {
     "cell_type": "heading",
     "level": 1,
     "metadata": {},
     "source": "Elementary Economic Analysis"
    },
    {
     "cell_type": "heading",
     "level": 2,
     "metadata": {},
     "source": "Example 2.1 Page 16"
    },
    {
     "cell_type": "code",
     "collapsed": false,
     "input": "#initialisation of variable\n#Part a \nw1=1.2;#in Kg\nc1=80.0;#cost of making aluminium casting in Rs/Kg\nc2=150.0;#ost of machining aluminium casting per unit in Rs\n\n#calculation\nTc1=c1*w1+c2;#Total cost of jet engine part made of aluminium per unit in Rs\n\n#result\nprint \"Total cost of jet engine part made of aluminium per unit in Rs \",round(Tc1,3)\n\n#Part b \nw2=1.35;#in Kg\nc1=35.0;#in Rs/Kg\nc2=170.0;#in Rs\nc3=1300.0;#in Rs/Kg\n\n#calculation\nTc2=c1*w2+c2+c3*(w2-w1);#in Rs\n\n#result\nprint \"Total cost of jet engine part made of steel per unit in Rs : \",round(Tc2,3);\nprint \"DECISION : The total cost/unit of a jet engine part made of aluminium is less than that for an engine made of steel. Hence, aluminium is suggested for making jet engine part. The economic advantage of aluminium over steel per unit in Rs  \",round(Tc2-Tc1,3)",
     "language": "python",
     "metadata": {},
     "outputs": [
      {
       "output_type": "stream",
       "stream": "stdout",
       "text": "Total cost of jet engine part made of aluminium per unit in Rs  246.0\nTotal cost of jet engine part made of steel per unit in Rs :  412.25\nDECISION : The total cost/unit of a jet engine part made of aluminium is less than that for an engine made of steel. Hence, aluminium is suggested for making jet engine part. The economic advantage of aluminium over steel per unit in Rs   166.25\n"
      }
     ],
     "prompt_number": 1
    },
    {
     "cell_type": "heading",
     "level": 2,
     "metadata": {},
     "source": "Example 2.2, Page 17"
    },
    {
     "cell_type": "code",
     "collapsed": false,
     "input": "#initialisation of variable\n#Part a \nwood=0.1;#in m^3\nWoodCost=12000.0;#in Rs/m^3\nTable=1;#in units\nTableTopCost=3000.0;#in Rs/unit\nLegBushes=4.0;#units\nLegBushesCost=10.0;#Rs/units\nNails=100.0;#in grams\nNailsCost=300.0;#in Rs/Kg\nTotalLabour=15.0;#in Hours\nTotalLabourCost=50.0;#in Rs/Hours\n\n#calcualtion\nWoodCostframelegs=WoodCost*wood;#in Rs\nWoodTopCost=3000.0;#in Rs\nBushesCost=LegBushesCost*LegBushes;#in Rs\nNailsCost=Nails*NailsCost/1000;#in Rs\nLabourCost=TotalLabourCost*TotalLabour;#in Rs\nTotalCost1=WoodCostframelegs+WoodTopCost+BushesCost+NailsCost+LabourCost;#in Rs\n\n#result\nprint \"Cost of Table with wooden top in Rs \",round(TotalCost1,3)\n\n#given data for table with granite top\n#Part b \nwood=0.15;#in m^3\nWoodCost=12000.0;#in Rs/m^3\nGranite=1.62;#in m^2\nGraniteCost=800.0;#in Rs/m^2\nLegBushes=4.0;#units\nLegBushesCost=25.0;#Rs/units\nNails=50.0;#in grams\nNailsCost=300.0;#in Rs/Kg\nTotalLabour=8.0;#in Hours\nTotalLabourCost=50.0;#in Rs/Hours\n\n\nWoodCostframelegs=WoodCost*wood;#in Rs\nGraniteTopCost=Granite*GraniteCost;#in Rs\nBushesCost=LegBushesCost*LegBushes;#in Rs\nNailsCost=Nails*NailsCost/1000;#in Rs\nLabourCost=TotalLabourCost*TotalLabour;#in Rs\nTotalCost2=WoodCostframelegs+GraniteTopCost+BushesCost+NailsCost+LabourCost;#in Rs\n\n#result\nprint \"Cost of Table with Granite top in Rs \",round(TotalCost2,3);\nprint \"Economic advantage of table with granite top in Rs  \",round(TotalCost1-TotalCost2,3)",
     "language": "python",
     "metadata": {},
     "outputs": [
      {
       "output_type": "stream",
       "stream": "stdout",
       "text": "Cost of Table with wooden top in Rs  5020.0\nCost of Table with Granite top in Rs  3611.0\nEconomic advantage of table with granite top in Rs   1409.0\n"
      }
     ],
     "prompt_number": 3
    },
    {
     "cell_type": "heading",
     "level": 2,
     "metadata": {},
     "source": "Example 2.3 Page 19"
    },
    {
     "cell_type": "code",
     "collapsed": false,
     "input": "#initialisation of variable\n#design A\nLatheCost=200.0;#in Rs/hour\ngrinderCost=150.0;#in Rs/hour\nHoursOfLathe=16.0;#in hours/1000Unit\nHoursOfGrinder=4.5;#in hours/1000Unit\n\n#calcualtion\nTotalCostA=LatheCost*HoursOfLathe+grinderCost*HoursOfGrinder;#in Rs/1000unit\n\n#result\nprint \"Total cost of design A per 100,000 units  \",round(TotalCostA*100000.0/1000,3);\n\n# Design B\nHoursOfLathe=7.0;#in hours/1000Unit\nHoursOfGrinder=12.0;#in hours/1000Unit\nTotalCostB=LatheCost*HoursOfLathe+grinderCost*HoursOfGrinder;#in Rs/1000unit\n\n#result\nprint \"Total cost of design A per 100,000 units\",round(TotalCostB*100000.0/1000,3);\nprint \"Economic advantage of design B over design A per 100,000 units in Rs  \",round(TotalCostA-TotalCostB,3);",
     "language": "python",
     "metadata": {},
     "outputs": [
      {
       "output_type": "stream",
       "stream": "stdout",
       "text": "Total cost of design A per 100,000 units   387500.0\nTotal cost of design A per 100,000 units 320000.0\nEconomic advantage of design B over design A per 100,000 units in Rs   675.0\n"
      }
     ],
     "prompt_number": 6
    },
    {
     "cell_type": "heading",
     "level": 2,
     "metadata": {},
     "source": "Example 2.4,Page 20"
    },
    {
     "cell_type": "code",
     "collapsed": false,
     "input": "#initialisation of variable\nfrom math import pi\nTanks=4.0;#units\nTankDia=5.2;#in meter\n\n#calcualtion\nTankRad=TankDia/2;#in meters\nTankHeight=7;#in meters\nHeightDiaRatio=TankHeight/TankDia;#unitless\nVolPerTank=(22/7)*TankRad**2*TankHeight;#in m^3\nh=VolPerTank/(pi)*64;#in meters\nr=h/8;#in meters\nd=2*r;#in meters\nCostNewDesign=900000*(100.0/111);#in Rs\n\n#result\nprint \"Expected savings by redesign in Rs  \",round(900000-CostNewDesign,3);",
     "language": "python",
     "metadata": {},
     "outputs": [
      {
       "output_type": "stream",
       "stream": "stdout",
       "text": "Expected savings by redesign in Rs   89189.189\n"
      }
     ],
     "prompt_number": 10
    },
    {
     "cell_type": "heading",
     "level": 2,
     "metadata": {},
     "source": "Example 2.5,Page 21"
    },
    {
     "cell_type": "code",
     "collapsed": false,
     "input": "#initialisation of variable\n#steel frame\ndistance=2500.0;#in Km\nTransCost=1.0;#in Rs/Kg/100Km\nSteelFramePrice=1000.0;#in Rs/Unit\nSteelFrameWeight=75.0;#in Kg/Unit\n\n#calculation\nTotalCost1=SteelFramePrice+TransCost*SteelFrameWeight*distance/100;#in Rs\n\n#result\nprint \"Total cost of steel window frame per unit in Rs  \",round(TotalCost1,3);\n\n# Aluminium window frame\nAlumilniumFramePrice=1500.0;#in Rs/Unit\nAlumilniumFrameWeight=28.0;#in Kg/Unit\n\n#calculation\nTotalCost2=AlumilniumFramePrice+TransCost*AlumilniumFrameWeight*distance/100;#in Rs\n\n#result\nprint \"Total cost of Alumilnium window frame per unit in Rs \",round(TotalCost2,3);\nprint \"DECISION : The total cost per unit of the aluminium window frame is less than that of steel window frame. Hence, Alumilnium window frame is recommended. The Economic advantage per unit of the Alumilnium window frame over steel window frame in Rs  \",round(TotalCost1-TotalCost2,3)",
     "language": "python",
     "metadata": {},
     "outputs": [
      {
       "output_type": "stream",
       "stream": "stdout",
       "text": "Total cost of steel window frame per unit in Rs   2875.0\nTotal cost of Alumilnium window frame per unit in Rs  2200.0\nDECISION : The total cost per unit of the aluminium window frame is less than that of steel window frame. Hence, Alumilnium window frame is recommended. The Economic advantage per unit of the Alumilnium window frame over steel window frame in Rs   675.0\n"
      }
     ],
     "prompt_number": 11
    },
    {
     "cell_type": "heading",
     "level": 2,
     "metadata": {},
     "source": "Example 2.6,Page 23"
    },
    {
     "cell_type": "code",
     "collapsed": false,
     "input": "#initialisation of variable\n#Cost of component using process sequence 1\nprint\"The process sequence 1 of the component is as follows : Turning - Milling - Shaping - Drilling\" ;\nprint \"Calculations are summarized in form of table below : \";\nprint \"Operation     Operation       Time       Machine Hour rate     Cost\";\nprint \"   No.                     Min    Hour           Rs.             Rs.\";\nprint \"   1           Turning       5   0.083          200           16.60\";\nprint \"   2           Milling       8   0.133          400           53.20\";\nprint \"   3          Shapiing      10   0.167          350           58.45\";\nprint \"   4          Drilling       3   0.050          300           15.00\";\nprint \"                                                   Total     143.25\";\n\n#Cost of component using process sequence 2\nprint \"The process sequence 2 of the component is as follows : Turning - Milling - Drilling\" ;\nprint \"Calculations are summarized in form of table below : \";\nprint \"Operation     Operation       Time       Machine Hour rate     Cost\";\nprint \"   No.                     Min    Hour           Rs.             Rs.\";\nprint \"   1           Turning       5   0.083          200           16.60\";\nprint \"   2           Milling      14   0.233          400           93.20\";\nprint \"   4          Drilling       3   0.050          300           15.00\";\nprint \"                                                   Total     124.80\";\n\n#Cost of component using process sequence 3\nprint \"The process sequence 3 of the component is as follows : Only CNC operations\" ;\nprint \"Calculations are summarized in form of table below : \";\nprint \"Operation     Operation       Time       Machine Hour rate     Cost\";\nprint \"   No.                     Min    Hour           Rs.             Rs.\";\nprint \"   1             CNC         8   0.133         1000             133\";\n\nprint \"The process sequence 2 has the least cost. Therefore, it should be selected for manufacturing the component.\"",
     "language": "python",
     "metadata": {},
     "outputs": [
      {
       "output_type": "stream",
       "stream": "stdout",
       "text": "The process sequence 1 of the component is as follows : Turning - Milling - Shaping - Drilling\nCalculations are summarized in form of table below : \nOperation     Operation       Time       Machine Hour rate     Cost\n   No.                     Min    Hour           Rs.             Rs.\n   1           Turning       5   0.083          200           16.60\n   2           Milling       8   0.133          400           53.20\n   3          Shapiing      10   0.167          350           58.45\n   4          Drilling       3   0.050          300           15.00\n                                                   Total     143.25\nThe process sequence 2 of the component is as follows : Turning - Milling - Drilling\nCalculations are summarized in form of table below : \nOperation     Operation       Time       Machine Hour rate     Cost\n   No.                     Min    Hour           Rs.             Rs.\n   1           Turning       5   0.083          200           16.60\n   2           Milling      14   0.233          400           93.20\n   4          Drilling       3   0.050          300           15.00\n                                                   Total     124.80\nThe process sequence 3 of the component is as follows : Only CNC operations\nCalculations are summarized in form of table below : \nOperation     Operation       Time       Machine Hour rate     Cost\n   No.                     Min    Hour           Rs.             Rs.\n   1             CNC         8   0.133         1000             133\nThe process sequence 2 has the least cost. Therefore, it should be selected for manufacturing the component.\n"
      }
     ],
     "prompt_number": 13
    }
   ],
   "metadata": {}
  }
 ]
}