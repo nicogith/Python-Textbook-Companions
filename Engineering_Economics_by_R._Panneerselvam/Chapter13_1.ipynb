{
 "metadata": {
  "name": "EE-13"
 },
 "nbformat": 3,
 "nbformat_minor": 0,
 "worksheets": [
  {
   "cells": [
    {
     "cell_type": "heading",
     "level": 1,
     "metadata": {},
     "source": "Make or Buy Decision"
    },
    {
     "cell_type": "heading",
     "level": 2,
     "metadata": {},
     "source": "Example 13.1 Page 168"
    },
    {
     "cell_type": "code",
     "collapsed": false,
     "input": "#initiation of variable\nmaterial=300.0;#in Rs.\nlabour=250.0;#in Rs.\noverhead=100.0;#in Rs.\n\n#calculation\nVC=material+labour+overhead;#in Rs.\ndemand=5000.0;#in units\nTVC=demand*VC;#in Rs.\nFC=1000000;#in Rs.\nTC=FC+TVC;#in Rs.\n\n#result\nprint \"Total cost in Rs. : \",round(TC,3);\n\n#Cost to buy :\nPcost=900*demand;#in Rs.\nFC=1000000.0;#in Rs.\nTC=FC+Pcost;#in Rs.\n\n#result\nprint \"Total cost in Rs. : \",round(TC,3);\nprint \"The cost of making fixtures is less than the cost of buying fixtures from outside. Therefore, the organisation should make the fixtures.\"",
     "language": "python",
     "metadata": {},
     "outputs": [
      {
       "output_type": "stream",
       "stream": "stdout",
       "text": "Total cost in Rs. :  4250000.0\nTotal cost in Rs. :  5500000.0\nThe cost of making fixtures is less than the cost of buying fixtures from outside. Therefore, the organisation should make the fixtures.\n"
      }
     ],
     "prompt_number": 1
    },
    {
     "cell_type": "heading",
     "level": 2,
     "metadata": {},
     "source": "Example 13.2 Page 171"
    },
    {
     "cell_type": "code",
     "collapsed": false,
     "input": "#initiation of variable\nfrom math import sqrt\nPbuy=8.0;#in Rs/unit\nD=2000.0;#in units/year\nCo=120.0;#in Rs./order\nCc=1.60;#in Rs./units/year\n\n#calculation\nQ1=sqrt(2*Co*D/Cc);#in units\nTC=D*Pbuy+D*Co/Q1+Q1*Cc/2;#in Rs.\nprint \"Total cost of buying in Rs. : \",round(TC,3)\n\n#Make Option :\nPmake=5.0;#in Rs/unit\nCo=60.0;#in Rs./setup\nCc=1.0;#in Re1/units/year\nr=2000.0;#in units/year\nk=8000.0;#in units/year\n\n#calculation\nQ2=sqrt(2*Co*r/(Cc*(1-r/k)));#in units\nTC=D*Pmake+D*Co/Q2+Q2*Cc*(k-r)/(2*k);#in Rs.\n\n#result\nprint \"Total cost of making in Rs. : \",round(TC,3)\nprint\"The cost of making is less than the cost of buying . Therefore, the firm should go in for making option.\";",
     "language": "python",
     "metadata": {},
     "outputs": [
      {
       "output_type": "stream",
       "stream": "stdout",
       "text": "Total cost of buying in Rs. :  16876.356\nTotal cost of making in Rs. :  10424.264\nThe cost of making is less than the cost of buying . Therefore, the firm should go in for making option.\n"
      }
     ],
     "prompt_number": 2
    },
    {
     "cell_type": "heading",
     "level": 2,
     "metadata": {},
     "source": "Example 13.3 Page 173"
    },
    {
     "cell_type": "code",
     "collapsed": false,
     "input": "#initiation of variable\nSP=500.0;#in Rs.\nVC=300.0;#in Rs.\nFC=400000.0;#in RS.\n\n#calculation\nBEP=FC/(SP-VC);#in units\n\n#results\nprint \"BEP in units : \",round(BEP,3);\nprint\"Since the demand(1500units) is less than the break even quantity, the company should buy the cabinets for its TV production.\"",
     "language": "python",
     "metadata": {},
     "outputs": [
      {
       "output_type": "stream",
       "stream": "stdout",
       "text": "BEP in units :  2000.0\nSince the demand(1500units) is less than the break even quantity, the company should buy the cabinets for its TV production.\n"
      }
     ],
     "prompt_number": 3
    },
    {
     "cell_type": "heading",
     "level": 2,
     "metadata": {},
     "source": "Example 13.4 Page 173"
    },
    {
     "cell_type": "code",
     "collapsed": false,
     "input": "#initiation of variable\nvolume=8000;#in units\n#Process A :\nFC=500000.0;#in RS.\nVC=175.0;#in Rs.\n\n#calculation\nAC=FC+VC*volume;#in Rs.\n\n#result\nprint \"Annual Cost of Process A in Rs. :\",round(AC,3);\n\n#Process B :\nFC=600000.0;#in RS.\nVC=150;#in Rs.\n\n#calculation\nAC=FC+VC*volume;#in Rs.\n\n#result\nprint \"Annual Cost of Process A in Rs. :\",round(AC,3);\n\n#Buy option:\nPprice=125.0;#in RS./Unit\nVC=175.0;#in Rs.\nAC=Pprice*volume;#in Rs\n\n#result.\nprint \"Annual Cost of Buy in Rs. :\",round(AC,3);\nprint\"Since the annual cost of buy option is the minimum among all the alternatives, the company should buy the product.\"",
     "language": "python",
     "metadata": {},
     "outputs": [
      {
       "output_type": "stream",
       "stream": "stdout",
       "text": "Annual Cost of Process A in Rs. : 1900000.0\nAnnual Cost of Process A in Rs. : 1800000.0\nAnnual Cost of Buy in Rs. : 1000000.0\nSince the annual cost of buy option is the minimum among all the alternatives, the company should buy the product.\n"
      }
     ],
     "prompt_number": 4
    }
   ],
   "metadata": {}
  }
 ]
}