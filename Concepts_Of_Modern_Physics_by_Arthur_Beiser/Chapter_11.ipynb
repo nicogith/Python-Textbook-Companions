{
 "metadata": {
  "name": ""
 },
 "nbformat": 3,
 "nbformat_minor": 0,
 "worksheets": [
  {
   "cells": [
    {
     "cell_type": "heading",
     "level": 1,
     "metadata": {},
     "source": [
      "Chapter 11:Nuclear Structure"
     ]
    },
    {
     "cell_type": "heading",
     "level": 2,
     "metadata": {},
     "source": [
      "Example no:11.1,Page no:393"
     ]
    },
    {
     "cell_type": "code",
     "collapsed": false,
     "input": [
      "#Variable declaration \n",
      "u= 1.66*(10**(-27))  #atomic mass unit, kg\n",
      "Mc= 12*u  # atomic mass of Carbon-12, kg\n",
      "R= 2.7  #radius of nucleus, fm\n",
      "\n",
      "#Calculation\n",
      "import math\n",
      "R=R*(10**(-15))  #converting to m\n",
      "density= Mc/((4.0/3.0)*(math.pi)*(R**3))  # kg/m**3\n",
      "\n",
      "#Calculation\n",
      "print\"Density of Carbon 12 nucleus is:%.2g\"%density,\"kg/m**3\"\n",
      " \n"
     ],
     "language": "python",
     "metadata": {},
     "outputs": [
      {
       "output_type": "stream",
       "stream": "stdout",
       "text": [
        "Density of Carbon 12 nucleus is:2.4e+17 kg/m**3\n"
       ]
      }
     ],
     "prompt_number": 2
    },
    {
     "cell_type": "heading",
     "level": 2,
     "metadata": {},
     "source": [
      "Example no:11.2,Page no:393"
     ]
    },
    {
     "cell_type": "code",
     "collapsed": false,
     "input": [
      "#Variable declaration\n",
      "r= 2.4  #distance between centre of the protons, fm\n",
      "r= r*(10**(-15))  #converting to m\n",
      "e= 1.6*(10**(-19))  #charge of an electron, C\n",
      "Po= 8.85*(10**(-12))  #Permittivity of free space, F/m\n",
      "\n",
      "#Calculation\n",
      "K=1/(4*(math.pi)*Po)  #constant, N.m**2/C**2\n",
      "F= K*(e**2)/(r**2)  #N\n",
      "\n",
      "#Result\n",
      "print\"The repulsive force is: \",round(F),\"N\"\n"
     ],
     "language": "python",
     "metadata": {},
     "outputs": [
      {
       "output_type": "stream",
       "stream": "stdout",
       "text": [
        "The repulsive force is:  40.0 N\n"
       ]
      }
     ],
     "prompt_number": 3
    },
    {
     "cell_type": "heading",
     "level": 2,
     "metadata": {},
     "source": [
      "Example no:11.3,Page no:395"
     ]
    },
    {
     "cell_type": "code",
     "collapsed": false,
     "input": [
      "#Variable declaration\n",
      "B= 1.0  #strength of magnetic field, T\n",
      "Mneutron= 3.152*(10**(-8))  #Magnetic moment for neutron, eV/T\n",
      "\n",
      "#Calculation\n",
      "#Part (a)\n",
      "Mproton= 2.793*Mneutron  #Magnetic moment for proton, eV/T\n",
      "dE= 2*Mproton*B  #eV\n",
      "#Part (b)\n",
      "h= 4.13*(10**(-15))  #Planck's constant, eV.s\n",
      "Flarmor= dE/h  #Hz\n",
      "Flarmor= Flarmor/(10**6)  #converting to MHz\n",
      "\n",
      "#Result\n",
      "print\"(a).The energy difference is:%.4g\"%dE,\"eV\"\n",
      "print\"(b).The Larmor frequency for a proton in the field is:\",round(Flarmor,1),\"MHz(APPROX)\"\n"
     ],
     "language": "python",
     "metadata": {},
     "outputs": [
      {
       "output_type": "stream",
       "stream": "stdout",
       "text": [
        "(a).The energy difference is:1.761e-07 eV\n",
        "(b).The Larmor frequency for a proton in the field is: 42.6 MHz(APPROX)\n"
       ]
      }
     ],
     "prompt_number": 4
    },
    {
     "cell_type": "heading",
     "level": 2,
     "metadata": {},
     "source": [
      "Example no:11.4,Page no:401"
     ]
    },
    {
     "cell_type": "code",
     "collapsed": false,
     "input": [
      "#Variable declaration \n",
      "Ebinding= 160.647  #binding nergy, MeV\n",
      "Mh= 1.007825  #Mass of H1 atom, u\n",
      "Mn= 1.008665  #Mass of neutron, u\n",
      "Z=10  #number of protons\n",
      "N=10  #number of neutrons\n",
      "\n",
      "#Calculation\n",
      "Mneon= ((Z*Mh)+(N*Mn))-(Ebinding/931.49)  #using Eqn 11.7\n",
      "\n",
      "#Result\n",
      "print\"The atomic mass of Neon 10 isotope is: \",round(Mneon,3),\"u\"\n"
     ],
     "language": "python",
     "metadata": {},
     "outputs": [
      {
       "output_type": "stream",
       "stream": "stdout",
       "text": [
        "The atomic mass of Neon 10 isotope is:  19.992 u\n"
       ]
      }
     ],
     "prompt_number": 5
    },
    {
     "cell_type": "heading",
     "level": 2,
     "metadata": {},
     "source": [
      "Example no:11.5,Page no:402"
     ]
    },
    {
     "cell_type": "code",
     "collapsed": false,
     "input": [
      "#Variable declaration\n",
      "\n",
      "#Part(a)\n",
      "Ca_42=41.958622       #[u]  Mass of 42Ca20 \n",
      "\n",
      "#from table\n",
      "M_neutron=1.008665     #[u]  Mass of a free neutron\n",
      "Ca_41=40.962278        #[u]  Mass of 41Ca20 after removal of 1 neutron\n",
      "#Part(b):\n",
      "#from table\n",
      "M_proton=1.007276466812   #[u]   Mass of a free proton\n",
      "K_19=40.96237          #[u] Mass of Potasium Isotope  41K19\n",
      "\n",
      "\n",
      "#Calculation\n",
      "#Part (a):\n",
      "n_total=Ca_41+M_neutron\n",
      "p_total=K_19+M_proton\n",
      "neutron_BE=931.49*(n_total-Ca_42)#Binding energy in MeV\n",
      "proton_BE=931.49*(p_total-Ca_42)\n",
      "print \"(a).Binding energy of missing neutron is: \",round(neutron_BE,2),\"MeV\"\n",
      "print\"(b).Binding energy for missing proton=\",round(proton_BE,2),\"MeV\""
     ],
     "language": "python",
     "metadata": {},
     "outputs": [
      {
       "output_type": "stream",
       "stream": "stdout",
       "text": [
        "(a).Binding energy of missing neutron is:  11.48 MeV\n",
        "(b).Binding energy for missing proton= 10.27 MeV\n"
       ]
      }
     ],
     "prompt_number": 6
    },
    {
     "cell_type": "heading",
     "level": 2,
     "metadata": {},
     "source": [
      "Example no:11.6,Page no:407"
     ]
    },
    {
     "cell_type": "code",
     "collapsed": false,
     "input": [
      "#Variable declaration \n",
      "Z= 30.0  #proton number\n",
      "N=34.0  #Neutron number\n",
      "\n",
      "#Calculation\n",
      "#Using Eqn 11.7\n",
      "Mh= 1.007825  #Mass of H1 atom, u\n",
      "Mn= 1.008665  #Mass of neutron, u\n",
      "Mzinc= 63.929  #atomic mass of zinc, u\n",
      "Ebinding= ((Z*Mh)+(N*Mn)-Mzinc)*931.49  #MeV\n",
      "#Using semiempirical formula, Eqn 11.18, Page  407\n",
      "a1= 14.1  #Mev\n",
      "a2= 13.0  #MeV\n",
      "a3= 0.595  #Mev\n",
      "a4= 19.0   #MeV\n",
      "a5= 33.5  #MeV\n",
      "A= Z+N \n",
      "E2= ((a1*A)-(a2*(A**(2.0/3.0)))-(a3*Z*(Z-1)/(A**(1.0/3.0)))-(a4*((A-2*Z)**2)/A)+(a5/(A**(3.0/4.0))))  #MeV\n",
      "\n",
      "#Result\n",
      "print\"Binding energy of Zinc 64 isotope is: \",round(Ebinding,1),\"MeV\"\n",
      "print\"The binding energy using semi-empirical formula, in MeV, is: \",round(E2,1),\"MeV\""
     ],
     "language": "python",
     "metadata": {},
     "outputs": [
      {
       "output_type": "stream",
       "stream": "stdout",
       "text": [
        "Binding energy of Zinc 64 isotope is:  559.2 MeV\n",
        "The binding energy using semi-empirical formula, in MeV, is:  561.7 MeV\n"
       ]
      }
     ],
     "prompt_number": 7
    },
    {
     "cell_type": "heading",
     "level": 2,
     "metadata": {},
     "source": [
      "Example no:11.7,Page no:408"
     ]
    },
    {
     "cell_type": "code",
     "collapsed": false,
     "input": [
      "#Variable declaration\n",
      "A=25\n",
      "\n",
      "#Calculation\n",
      "#Derivation part\n",
      "#dEb/dZ=-a3*(2*z-1)/A^(1/3)+4*a4*(A-2*Z)/A\n",
      "#Z=a3*A**-1/3+4*a4/(2*a3*A^-1/3+8*a4*A**-1)\n",
      "Z=(0.595*A**(-1.0/3.0)+76)/(1.19*A**(-1.0/3.0)+(152*A**-1))\n",
      "print \"For A=25,Z=\",round(Z,1),\"\\nfor which we conclude that Z=\",round(Z),\"should be the atomic no. of most stable isobar of A=25\""
     ],
     "language": "python",
     "metadata": {},
     "outputs": [
      {
       "output_type": "stream",
       "stream": "stdout",
       "text": [
        "For A=25,Z= 11.7 \n",
        "for which we conclude that Z= 12.0 should be the atomic no. of most stable isobar of A=25\n"
       ]
      }
     ],
     "prompt_number": 8
    }
   ],
   "metadata": {}
  }
 ]
}