{
 "metadata": {
  "name": ""
 },
 "nbformat": 3,
 "nbformat_minor": 0,
 "worksheets": [
  {
   "cells": [
    {
     "cell_type": "heading",
     "level": 1,
     "metadata": {},
     "source": [
      "Chapter 3:Wave propoerties of particles"
     ]
    },
    {
     "cell_type": "heading",
     "level": 2,
     "metadata": {},
     "source": [
      "Example no:3.1,Page no:94"
     ]
    },
    {
     "cell_type": "code",
     "collapsed": false,
     "input": [
      "#Variable declaration\n",
      "m= 46.0  #mass, gms\n",
      "v=30.0  #velocity, m/s\n",
      "h= 6.63*(10**(-34))  #Planck's constant, J.s\n",
      "m=m/1000.0  #convert to kgs\n",
      "\n",
      "#Calculation\n",
      "a=h/(m*v)  #de Broglie wavelength, m\n",
      "print\"The de Broglie wavelength of the golf ball (in m) is:%.2g\"%a,\"m\"\n",
      "#Part(b)\n",
      "m= 9.1*(10**(-31))  #mass, kg\n",
      "v=10**7  #velocity, m/s\n",
      "h= 6.63*(10**(-34))  #Planck's constant, J.s\n",
      "a=h/(m*v)  #de Broglie wavelength, mts\n",
      "\n",
      "#Result\n",
      "print\"de Broglie wavelength for the electron (in m) is:%.2g\"%a,\"m\"\n"
     ],
     "language": "python",
     "metadata": {},
     "outputs": [
      {
       "output_type": "stream",
       "stream": "stdout",
       "text": [
        "The de Broglie wavelength of the golf ball (in m) is:4.8e-34 m\n",
        "de Broglie wavelength for the electron (in m) is:7.3e-11 m\n"
       ]
      }
     ],
     "prompt_number": 1
    },
    {
     "cell_type": "heading",
     "level": 2,
     "metadata": {},
     "source": [
      "Example no:3.2,Page no:94"
     ]
    },
    {
     "cell_type": "code",
     "collapsed": false,
     "input": [
      "#Variable declaration\n",
      "a=10**(-15)  #de Broglie wavelength, mts\n",
      "Eo= 0.938  #proton rest energy, GeV\n",
      "h= 4.136*(10**(-15))  #Planck's constant, eV.s\n",
      "c= 2.998*(10**8)  #velocity of light, m/s\n",
      "\n",
      "#Calculation\n",
      "import math\n",
      "p= h/a  # p is momentum, kg.m/s \n",
      "pc= (h*c)/a  #Photon's energy, ev\n",
      "pc=pc*(10**(-9))  #convert to GeV\n",
      "\t\t\t\t#pc>E0, relativistic calculation\n",
      "E= math.sqrt((Eo**2) + (pc**2))  #total energy, GeV\n",
      "KE = E-Eo  #Kinetic energy, GeV\n",
      "KE= KE*1000  # convert to MeV\n",
      "\n",
      "#Result\n",
      "print\"Kinetic Energy of the proton (in MeV) is: \",round(KE),\"MeV\"\n"
     ],
     "language": "python",
     "metadata": {},
     "outputs": [
      {
       "output_type": "stream",
       "stream": "stdout",
       "text": [
        "Kinetic Energy of the proton (in MeV) is:  617.0 MeV\n"
       ]
      }
     ],
     "prompt_number": 3
    },
    {
     "cell_type": "heading",
     "level": 2,
     "metadata": {},
     "source": [
      "Example no:3.3,Page no:103"
     ]
    },
    {
     "cell_type": "code",
     "collapsed": false,
     "input": [
      "\n",
      "#Variable declaration\n",
      "a= 2*(10**(-12))  #de Broglie wavelength, mts\n",
      "h= 4.136*(10**(-15))  #Planck's constant, eV.s\n",
      "c= 3*(10**8)  #velocity of light, m/s\n",
      "\n",
      "#Calculation\n",
      "pc= (h*c)/a  #p is momentum, pc is electron's energy, eV\n",
      "pc= pc/1000  #convert to keV\n",
      "Eo= 511  #rest energy, keV\n",
      "E= math.sqrt((Eo**2)+(pc**2))  #Total Energy, keV\n",
      "KE= E-Eo  #Kinetic energy, keV\n",
      "\n",
      "#Result\n",
      "print\"kinetic energy of the electron (in keV) is,KE: \",round(KE,1),\"keV\"\n",
      "vg= c*(math.sqrt(1-(Eo**2/E**2))) #group velocity, m/s\n",
      "vp= c**2/vg #phase velocity, m/s\n",
      "print\"group velocity of the electron (in m/s) is,vg: \",round(vg/c,3),\"c\"\n",
      "print\"phase velocity of the electron (in m/s) is,vp:\",round(vp/c,1),\"c\"\n"
     ],
     "language": "python",
     "metadata": {},
     "outputs": [
      {
       "output_type": "stream",
       "stream": "stdout",
       "text": [
        "kinetic energy of the electron (in keV) is,KE:  292.8 keV\n",
        "group velocity of the electron (in m/s) is,vg:  0.772 c\n",
        "phase velocity of the electron (in m/s) is,vp: 1.3 c\n"
       ]
      }
     ],
     "prompt_number": 4
    },
    {
     "cell_type": "heading",
     "level": 2,
     "metadata": {},
     "source": [
      "Example no:3.4,Page no:107"
     ]
    },
    {
     "cell_type": "code",
     "collapsed": false,
     "input": [
      "%matplotlib inline\n",
      "#Variable declaration\n",
      "m= 9.1*(10**(-31))  #mass, kg\n",
      "L= 0.10  #length of box, nm\n",
      "L= L*(10**(-9))  #convert to m\n",
      "h= 6.63*(10**(-34))  #Planck's constant, J.s\n",
      "\n",
      "#Calculation\n",
      "En=range(4)\n",
      "p=range(5)\n",
      "import matplotlib.pyplot as plt\n",
      "#from numpy import random\n",
      "import numpy as np\n",
      "for n in range(1,5):\n",
      "    En[n-1]=(n**2)*(h**2)/(8*m*(L**2))  #Permitted energies, J\n",
      "    print\"For level:\",n\n",
      "    print\"Permitted ernergis :%.2g\"%En[n-1],\"J\"\n",
      "    En[n-1]=38*(n**2) \n",
      "    plt.plot([En[n-1]])\n",
      "    print\"Permitted energies (in eV) :\",En[n-1], \"eV\"\n",
      "    p[n]=plt.hlines(En[n-1],0,5, colors=np.random.rand(3,1), linestyles='solid', label='d', hold=None,)\n",
      "    p[n].axes.get_xaxis().set_visible(False)\n",
      "plt.legend([p[1],p[2],p[3],p[4]],[\"n=1\",\"n=2\",\"n=3\",\"n=4\"])\n",
      "plt.ylabel(\"Energy,eV\")\n",
      "plt.title(\"Energy levels of an e- confined to a box 1nm wide\")\n",
      "\n",
      "plt.show()\n",
      "\n",
      "#Result\n",
      "print\"\\nANS::The minimum energy the electron can have is:\",min(En),\"n**2 eV\\n\\n\"\n",
      "\n",
      "\n"
     ],
     "language": "python",
     "metadata": {},
     "outputs": [
      {
       "output_type": "stream",
       "stream": "stdout",
       "text": [
        "Populating the interactive namespace from numpy and matplotlib\n",
        "For level: 1\n",
        "Permitted ernergis :6e-18 J\n",
        "Permitted energies (in eV) : 38 eV\n",
        "For level:"
       ]
      },
      {
       "output_type": "stream",
       "stream": "stdout",
       "text": [
        " 2\n",
        "Permitted ernergis :2.4e-17 J\n",
        "Permitted energies (in eV) : 152 eV\n",
        "For level: 3\n",
        "Permitted ernergis :5.4e-17 J\n",
        "Permitted energies (in eV) : 342 eV\n",
        "For level: 4\n",
        "Permitted ernergis :9.7e-17 J\n",
        "Permitted energies (in eV) : 608 eV\n"
       ]
      },
      {
       "metadata": {},
       "output_type": "display_data",
       "png": "[encoded data removed]",
       "text": [
        "<matplotlib.figure.Figure at 0x79807f0>"
       ]
      },
      {
       "output_type": "stream",
       "stream": "stdout",
       "text": [
        "\n",
        "ANS::The minimum energy the electron can have is: 38 n**2 eV\n",
        "\n",
        "\n"
       ]
      }
     ],
     "prompt_number": 5
    },
    {
     "cell_type": "heading",
     "level": 2,
     "metadata": {},
     "source": [
      "Example no:3.5,Page no:107"
     ]
    },
    {
     "cell_type": "code",
     "collapsed": false,
     "input": [
      "#Variable declaration\n",
      "m= 10.0  #mass, gms\n",
      "m= m/1000.0 #convert to kgs\n",
      "L= 10.0  #Length of box, cms\n",
      "L= L/100.0 #convert to mts\n",
      "h= 6.63*(10**(-34)) #Planck's constant, J.s\n",
      "\n",
      "#Calculation\n",
      "En=range(5)\n",
      "for n in range(1,5):\n",
      "    En[n-1]=(n**2)*(h**2)/(8*m*(L**2))  #Permitted energies, J\n",
      "    print\"for level:\",n\n",
      "    print\"Permitted ernergis :%.2g\"%En[n-1],\"J\"\n",
      "    \n",
      "#Result\n",
      "print \"Minimum energy is :En=%.2g\"%min(En),\"n**2 J,corresponding to n=1\"\n",
      "\n",
      " \n",
      "#corresponding kinetic energy is very low, hence Quantum effects are imperceptible, and Newtonian mechanics is dominant"
     ],
     "language": "python",
     "metadata": {},
     "outputs": [
      {
       "output_type": "stream",
       "stream": "stdout",
       "text": [
        "for level: 1\n",
        "Permitted ernergis :5.5e-64 J\n",
        "for level: 2\n",
        "Permitted ernergis :2.2e-63 J\n",
        "for level: 3\n",
        "Permitted ernergis :4.9e-63 J\n",
        "for level: 4\n",
        "Permitted ernergis :8.8e-63 J\n",
        "Minimum energy is :En=5.5e-64 n**2 J,corresponding to n=1\n"
       ]
      }
     ],
     "prompt_number": 6
    },
    {
     "cell_type": "heading",
     "level": 2,
     "metadata": {},
     "source": [
      "Example no:3.6,Page no:112"
     ]
    },
    {
     "cell_type": "code",
     "collapsed": false,
     "input": [
      "#Variable declaration\n",
      "Xo= 10**(-11)  #uncertainty at time t=o, mts\n",
      "hb= 1.054*(10**(-34))  #h-bar, reduced Planck's constant, J.s\n",
      "t= 1  #time, s\n",
      "m= 1.672*(10**(-27))  #mass, kg\n",
      "\n",
      "#Calculation\n",
      "x1= hb*t/(2*m*Xo)  #uncertainty at time t=1, mts\n",
      "\n",
      "#Result\n",
      "print\"accuracy in position of proton after 1.00 seconds  is ,delta_x>=:%.3g\"%x1,\"m\"\n"
     ],
     "language": "python",
     "metadata": {},
     "outputs": [
      {
       "output_type": "stream",
       "stream": "stdout",
       "text": [
        "accuracy in position of proton after 1.00 seconds  is ,delta_x>=:3.15e+03 m\n"
       ]
      }
     ],
     "prompt_number": 7
    },
    {
     "cell_type": "heading",
     "level": 2,
     "metadata": {},
     "source": [
      "Example no:3.7,Page no:114"
     ]
    },
    {
     "cell_type": "code",
     "collapsed": false,
     "input": [
      "#Variable declaration\n",
      "r= 5*(10**(-15))  #radius of nucleus, mts\n",
      "Xo= 5*(10**(-15))  #assumed initial uncertainty, mts\n",
      "hb= 1.054*(10**(-34))  #reduced Planck's constant, J.s\n",
      "\n",
      "#Calculation\n",
      "p= hb/(2*Xo)  #uncertainty in momentum, kg.m/s\n",
      "c= 3*(10**8)  #velocity of light, m/s\n",
      "KE= p*c  #minimum kinetic energy required, J\n",
      "\n",
      "#Result\n",
      "print\"Uncertainty in momentum of the electron is :%.2g\"%p,\"kg.m/s\"\n",
      "print\"The minimum energy required is :%.2g\"%KE,\"J \\n or\"\n",
      "KE= KE/(1.6*(10**(-19)))  #convert to eV\n",
      "KE= KE/(10**6)  #convert to MeV\n",
      "print\"The minimum energy required is : \",round(KE),\"MeV\"\n",
      " \n",
      " "
     ],
     "language": "python",
     "metadata": {},
     "outputs": [
      {
       "output_type": "stream",
       "stream": "stdout",
       "text": [
        "Uncertainty in momentum of the electron is :1.1e-20 kg.m/s\n",
        "The minimum energy required is :3.2e-12 J \n",
        " or\n",
        "The minimum energy required is :  20.0 MeV\n"
       ]
      }
     ],
     "prompt_number": 8
    },
    {
     "cell_type": "heading",
     "level": 2,
     "metadata": {},
     "source": [
      "Example no:3.8,Page no:115"
     ]
    },
    {
     "cell_type": "code",
     "collapsed": false,
     "input": [
      "#Variable declaration\n",
      "r= 5.3*(10**(-11))  #radius of atom, mts\n",
      "Xo= 5.3*(10**(-11))  #uncertainty in position, mts\n",
      "hb= 1.054*(10**(-34))  #Reduced planck Constant, J.s\n",
      "\n",
      "#Calculation\n",
      "p= hb/(2*Xo)  #uncertainty in momentum, kg.m/s\n",
      "m= 9.1*(10**(-31))  #mass, kg\n",
      "KE= p**2/(2*m)  # minimum kinetic energy, J\n",
      "\n",
      "#Result\n",
      "print\"The minimum possible kinetic energy for an electron in the atom is :%.2g\"%KE,\"J\"\n",
      "KE= KE/(1.6*(10**(-19)))  #convert to eV\n",
      "print\"OR,in eV:KE=\",round(KE,1),\"eV\"\n",
      "\n"
     ],
     "language": "python",
     "metadata": {},
     "outputs": [
      {
       "output_type": "stream",
       "stream": "stdout",
       "text": [
        "The minimum possible kinetic energy for an electron in the atom is :5.4e-19 J\n",
        "OR,in eV:KE= 3.4 eV\n"
       ]
      }
     ],
     "prompt_number": 9
    },
    {
     "cell_type": "heading",
     "level": 2,
     "metadata": {},
     "source": [
      "Example no:3.9,Page no:116"
     ]
    },
    {
     "cell_type": "code",
     "collapsed": false,
     "input": [
      "#Variable declaration\n",
      "t= 10**(-8)  #time period between excitation and radiation, s\n",
      "hb= 1.054*(10**(-34))  #Reduced Planck's constant, J.s\n",
      "\n",
      "#Calculation\n",
      "Eo= hb/(2*t)  #uncertainty in photon energy, J\n",
      "h=hb*(2*(math.pi))  #Planck's constant\n",
      "Fo= Eo/h  #uncertainty in frequency of light, Hz\n",
      "\n",
      "#Result\n",
      "print\"Photon energy is uncertain by (in J) :%.2g\"%Eo,\"J\"\n",
      "print\"Frquency of photon is uncertain by (in Hz) :%.2g\"%Fo,\"Hz\""
     ],
     "language": "python",
     "metadata": {},
     "outputs": [
      {
       "output_type": "stream",
       "stream": "stdout",
       "text": [
        "Photon energy is uncertain by (in J) :5.3e-27 J\n",
        "Frquency of photon is uncertain by (in Hz) :8e+06 Hz\n"
       ]
      }
     ],
     "prompt_number": 10
    }
   ],
   "metadata": {}
  }
 ]
}