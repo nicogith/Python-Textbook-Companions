{
 "metadata": {
  "name": ""
 },
 "nbformat": 3,
 "nbformat_minor": 0,
 "worksheets": [
  {
   "cells": [
    {
     "cell_type": "heading",
     "level": 1,
     "metadata": {},
     "source": [
      "Chapter 7:Many electron Atoms"
     ]
    },
    {
     "cell_type": "heading",
     "level": 2,
     "metadata": {},
     "source": [
      "Example 7.1,Page no:230"
     ]
    },
    {
     "cell_type": "code",
     "collapsed": false,
     "input": [
      "#Variable declaration \n",
      "r= 5*(10**(-17))  #radius of spherical electron, m\n",
      "Me= 9.1*(10**(-31))  #mass of electron, kg\n",
      "h= 6.63*(10**(-34))  #Planck's constant, J.s\n",
      "\n",
      "#Calculation\n",
      "import math\n",
      "hbar= h/(2*(math.pi))  #reduced Planck's constant, J.s\n",
      "v= (5*math.sqrt(3)/4)*(hbar/(Me*r))  #using Eqn 7.1, Page 230\n",
      "c= 3*(10**8)  #velocity of light, m/s\n",
      "v= v/c  #converting in terms of c, m/s\n",
      "\n",
      "#Result\n",
      "print\"The velocity of electron in times of c is:%.3g\"%v,\"c\"\n"
     ],
     "language": "python",
     "metadata": {},
     "outputs": [
      {
       "output_type": "stream",
       "stream": "stdout",
       "text": [
        "The velocity of electron in times of c is:1.67e+04 c\n"
       ]
      }
     ],
     "prompt_number": 2
    },
    {
     "cell_type": "heading",
     "level": 2,
     "metadata": {},
     "source": [
      "Example 7.2,Page no:241"
     ]
    },
    {
     "cell_type": "code",
     "collapsed": false,
     "input": [
      "#Variable declaration \n",
      "n= 2  #outer (2s) orbit of lithium\n",
      "E2= -5.39  #Ionisation energy of lithium, for n=2 eV\n",
      "E1= -13.6  #for n=1, eV\n",
      "\n",
      "#Calculation\n",
      "Z= n*(math.sqrt(E2/E1)) #modification factor for effective charge\n",
      "e= 1.6*(10**(-19))  #charge of an electron, C\n",
      "Ceffective = Z*e \n",
      " \n",
      "#Result    \n",
      "print\"The effective charge is: \",round(Ceffective/e,2),\"e or%.3g\"%Ceffective,\"C\"\n",
      " \n"
     ],
     "language": "python",
     "metadata": {},
     "outputs": [
      {
       "output_type": "stream",
       "stream": "stdout",
       "text": [
        "The effective charge is:  1.26 e or2.01e-19 C\n"
       ]
      }
     ],
     "prompt_number": 3
    },
    {
     "cell_type": "heading",
     "level": 2,
     "metadata": {},
     "source": [
      "Example 7.3,Page no:248"
     ]
    },
    {
     "cell_type": "code",
     "collapsed": false,
     "input": [
      "#Variable declaration \n",
      "n= 2  #for 2p state\n",
      "Ao= 5.29*(10**(-11))  #Bohr's orbit for n=1, m\n",
      "r= (n**2)*Ao  #orbital radius, m\n",
      "f= 8.4*(10**14)  #frequency of revolution, Hz ,using Eqn 4.4\n",
      "\n",
      "#Calculation\n",
      "Mo= 4*(math.pi)*(10**(-7))  #Magnetic constant, T.m/A\n",
      "e= 1.6*(10**(-19))  #charge of an electron, C\n",
      "B= (Mo*f*e)/(2*r)  #Magnetic field, T\n",
      "Mb= 9.27*(10**(-24))  #Bohr Magneton, J/T\n",
      "Um= Mb*B  #Magnetic energy, J\n",
      "Um= Um/e  #converting to eV\n",
      "\n",
      "#Result\n",
      "print\"The magnetic energy for electron  is:%.2g\"%Um,\"eV\"\n",
      "print\"\\nThe energy difference is twice this,which is:%.2g\"%(2*Um),\"eV\"\n"
     ],
     "language": "python",
     "metadata": {},
     "outputs": [
      {
       "output_type": "stream",
       "stream": "stdout",
       "text": [
        "The magnetic energy for electron  is:2.3e-05 eV\n",
        "\n",
        "The energy difference is twice this,which is:4.6e-05 eV\n"
       ]
      }
     ],
     "prompt_number": 4
    },
    {
     "cell_type": "heading",
     "level": 2,
     "metadata": {},
     "source": [
      "Example 7.8,Page no:257"
     ]
    },
    {
     "cell_type": "code",
     "collapsed": false,
     "input": [
      "#Variable declaration \n",
      "l= 0.180  #wavelength, nm\n",
      "l= l* 10**(-9)  #converting to m\n",
      "c= 3*(10**8)  #velocity of light, m/s\n",
      "\n",
      "#Calculation\n",
      "f= c/l  #frequency, Hz\n",
      "R= 1.097*(10**7)  #Rydberg's constant, per m\n",
      "Z= 1+(math.sqrt((4*f)/(3*c*R)))  #using Eqn 7.21\n",
      "\n",
      "#Result\n",
      "print\"The element has atomic number: \",round(Z)\n"
     ],
     "language": "python",
     "metadata": {},
     "outputs": [
      {
       "output_type": "stream",
       "stream": "stdout",
       "text": [
        "The element has atomic number:  27.0\n"
       ]
      }
     ],
     "prompt_number": 5
    }
   ],
   "metadata": {}
  }
 ]
}