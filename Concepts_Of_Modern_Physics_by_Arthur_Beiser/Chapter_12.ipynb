{
 "metadata": {
  "name": ""
 },
 "nbformat": 3,
 "nbformat_minor": 0,
 "worksheets": [
  {
   "cells": [
    {
     "cell_type": "heading",
     "level": 1,
     "metadata": {},
     "source": [
      "Chapter 12:Nuclear Transformations"
     ]
    },
    {
     "cell_type": "heading",
     "level": 2,
     "metadata": {},
     "source": [
      "Example no:12.2,Page no:425"
     ]
    },
    {
     "cell_type": "code",
     "collapsed": false,
     "input": [
      "#Variable declaration\n",
      "Thalf= 3.82  #half-life in days, d\n",
      "Lambda= 0.693/Thalf  #decay constant\n",
      "p= 0.6  # 60.0 percent of sample\n",
      "\n",
      "#Calculation\n",
      "import numpy\n",
      "import math\n",
      "No= numpy.poly([1])  #Number of undecayed nuclei, at time t=0\n",
      "N= (1.0-p)*No  #Number of undecayed nuclei, at time t\n",
      "t= (1.0/Lambda)*(np.log((N/No)))  #decay time in days, d\n",
      "t= t*(-1.0)  \n",
      "\n",
      "#Result\n",
      "print\"The decay time for Radon is: \",round(t[0],2),\"d\"\n"
     ],
     "language": "python",
     "metadata": {},
     "outputs": [
      {
       "output_type": "stream",
       "stream": "stdout",
       "text": [
        "The decay time for Radon is:  5.05 d\n"
       ]
      }
     ],
     "prompt_number": 20
    },
    {
     "cell_type": "heading",
     "level": 2,
     "metadata": {},
     "source": [
      "Example no:12.3,Page no:427"
     ]
    },
    {
     "cell_type": "code",
     "collapsed": false,
     "input": [
      "#Variable declaration \n",
      "Thalf= 3.82  #half-life in days, d\n",
      "Lambda= 0.693/(Thalf*86400.0)  #decay constant, s**(-1)\n",
      "Wradon= 1.00  #weight of sample, mg\n",
      "MRadon= 222.0  #atomic mass of sample, u\n",
      "\n",
      "#Calculation\n",
      "N= Wradon*(10**(-6))/(MRadon*(1.66*(10**(-27))))  #number of atoms\n",
      "R= Lambda*N  #decays/sec\n",
      "R_tbq=round(R/10**12,2)       #in TBq\n",
      "R_Ci=R_tbq*27.15              #Ci  Calories\n",
      "\n",
      "\n",
      "#Result\n",
      "print\"The activity of the sample is: %.2g\"%R,\"decays/sec=\",R_tbq,\"TBq=\",round(R_Ci),\"Ci\"\n",
      " \n"
     ],
     "language": "python",
     "metadata": {},
     "outputs": [
      {
       "output_type": "stream",
       "stream": "stdout",
       "text": [
        "The activity of the sample is: 5.7e+12 decays/sec= 5.7 TBq= 155.0 Ci\n"
       ]
      }
     ],
     "prompt_number": 2
    },
    {
     "cell_type": "heading",
     "level": 2,
     "metadata": {},
     "source": [
      "Example no:12.4,Page no:427"
     ]
    },
    {
     "cell_type": "code",
     "collapsed": false,
     "input": [
      "#Variable declaration\n",
      "Ro= 155  #initial activity, Ci\n",
      "Lambda= 2.11*(10**(-6))  #decay constant, s**(-1)\n",
      "t= 7  #days\n",
      "\n",
      "#Calculation\n",
      "import math\n",
      "t= t*86400  #converting to s\n",
      "R= Ro*((math.exp(-(Lambda*t))))  #final activity, Ci\n",
      "\n",
      "#Result\n",
      "print\"The activity after one week is: \",round(R),\"Ci\"\n"
     ],
     "language": "python",
     "metadata": {},
     "outputs": [
      {
       "output_type": "stream",
       "stream": "stdout",
       "text": [
        "The activity after one week is:  43.0 Ci\n"
       ]
      }
     ],
     "prompt_number": 13
    },
    {
     "cell_type": "heading",
     "level": 2,
     "metadata": {},
     "source": [
      "Example no:12.5,Page no:428"
     ]
    },
    {
     "cell_type": "code",
     "collapsed": false,
     "input": [
      "#Variable declaration \n",
      "R= 13.0  #present activity,\n",
      "Ro= 16.0  #activity of live wood\n",
      "Thalf= 5760.0  #half life of radiocarbon, y\n",
      "\n",
      "#Calculation\n",
      "Lambda= 0.693/(Thalf)  #decay constant, y**(-1)\n",
      "t= (1.0/Lambda)*(math.log(Ro/R))  #age of sample, y\n",
      "\n",
      "#Result\n",
      "print\"The age of the wooden sample is:  %.2g\"%t,\"y\"\n"
     ],
     "language": "python",
     "metadata": {},
     "outputs": [
      {
       "output_type": "stream",
       "stream": "stdout",
       "text": [
        "The age of the wooden sample is:  1.7e+03 y\n"
       ]
      }
     ],
     "prompt_number": 12
    },
    {
     "cell_type": "heading",
     "level": 2,
     "metadata": {},
     "source": [
      "Example no:12.6,Page no:432"
     ]
    },
    {
     "cell_type": "code",
     "collapsed": false,
     "input": [
      "#Variable declaration \n",
      "Thalf1= 2.5*(10**5)  #half-life of U-234, y\n",
      "AtomicRatio= 1.8*(10**4)  #atomic ratio of u-238 and U-234 in the sample\n",
      "\n",
      "#Calculation\n",
      "Thalf2= AtomicRatio*Thalf1  #using Eqn12.9\n",
      "\n",
      "#Result\n",
      "print\"The half-life of Uranium-238  is:  %.2g\"%Thalf2,\"years\" \n"
     ],
     "language": "python",
     "metadata": {},
     "outputs": [
      {
       "output_type": "stream",
       "stream": "stdout",
       "text": [
        "The half-life of Uranium-238  is:  4.5e+09 years\n"
       ]
      }
     ],
     "prompt_number": 5
    },
    {
     "cell_type": "heading",
     "level": 2,
     "metadata": {},
     "source": [
      "Example no:12.7,Page no:433"
     ]
    },
    {
     "cell_type": "code",
     "collapsed": false,
     "input": [
      "#Variable declaration \n",
      "Npolonium= 84  #atomic number of polonium\n",
      "Nalpha= 2  #atomic number of alpha particle\n",
      "Z= Npolonium-Nalpha  #atomic number of daughter nuclide\n",
      "Mpolonium= 209.9829  #mass number of polonium, u\n",
      "Malpha= 4.0026  #mass number of alpha particle, u\n",
      "\n",
      "#Calculation\n",
      "A= Mpolonium-Malpha  #mass number of daughter nuclide\n",
      "# The daughter nuclide has atomic number:    \n",
      "#   82.  \n",
      "\n",
      "# and mass number:    \n",
      "#    205.9803.  \n",
      " \n",
      "Ealpha= 5.3  #energy of alpha particle, MeV\n",
      "Q= Mpolonium*Ealpha/A  #disintegration energy, MeV\n",
      "Mq= Q/931  #mass equivalent for Q, u\n",
      "Mnuclide= Mpolonium-Malpha-Mq  #u\n",
      "\n",
      "#Result\n",
      "print\"(a)The daughter nuclide has atomic number: \",Z\n",
      "print\"and mass number: \",round(A)\n",
      "print\"(b).The atomic mass of the daughter nuclide is: \",round(Mnuclide,4)\n"
     ],
     "language": "python",
     "metadata": {},
     "outputs": [
      {
       "output_type": "stream",
       "stream": "stdout",
       "text": [
        "(a)The daughter nuclide has atomic number:  82\n",
        "and mass number:  206.0\n",
        "(b).The atomic mass of the daughter nuclide is:  205.9745\n"
       ]
      }
     ],
     "prompt_number": 6
    },
    {
     "cell_type": "heading",
     "level": 2,
     "metadata": {},
     "source": [
      "Example no:12.8,Page no:444"
     ]
    },
    {
     "cell_type": "code",
     "collapsed": false,
     "input": [
      "#Variable declaration \n",
      "CrossSection= 2*(10**4)  # capture cross section of Cadmium-113\n",
      "CrossSection= CrossSection*(10**(-28))  # converting to m**2\n",
      "Mcadmium= 112.0  #mean atomic mass of cadmium, u\n",
      "density= 8.64*(10**3)  #density of cadmium sheet used, kg/m**3\n",
      "\n",
      "#Calculation\n",
      "#Part (a)\n",
      "import math\n",
      "t= 0.1  #hickness of sheet used, mm\n",
      "t= t*10**(-3)  #converting to m\n",
      "p= 12.0  #percent of Cadmium-113 in natural cadmium\n",
      "u= 1.66*(10**(-27))  #atomic mass unit, kg\n",
      "n= (p/100.0)*density/(Mcadmium*u)  #number of atoms, atoms/m**3\n",
      "Fabsorbed= 1.0- (math.exp((-n)*(CrossSection)*(t)))  #absorbed fraction\n",
      "#Part (b)\n",
      "t2= (-(math.log(0.01)))/(n*CrossSection)  #required thickness, m\n",
      "t2= t2*10**(3.0)  #converting to mm\n",
      "\n",
      "\n",
      "#Result\n",
      "print\"(a).The fraction of incident beam absorbed is: \",round(Fabsorbed,2)\n",
      "print\"(b).The thickness required to absorb 99 percent of incident thermal neutrons is: \",round(t2,2),\"mm\"\n",
      "\n"
     ],
     "language": "python",
     "metadata": {},
     "outputs": [
      {
       "output_type": "stream",
       "stream": "stdout",
       "text": [
        "(a).The fraction of incident beam absorbed is:  0.67\n",
        "(b).The thickness required to absorb 99 percent of incident thermal neutrons is:  0.41 mm\n"
       ]
      }
     ],
     "prompt_number": 11
    },
    {
     "cell_type": "heading",
     "level": 2,
     "metadata": {},
     "source": [
      "Example no:12.9,Page no:445"
     ]
    },
    {
     "cell_type": "code",
     "collapsed": false,
     "input": [
      "#Variable declaration\n",
      "CrossSection= 2.0*(10**4)  # capture cross section of Cadmium-113, b\n",
      "CrossSection= CrossSection*(10**(-28))  # converting to m**2\n",
      "\n",
      "#Calculation\n",
      "n= (12.0/100.0)*(8.64*10**3)/(112.0*(1.66*10**(-27)))  #number of atoms, atoms/m**3\n",
      "Lambda= 1.0/(n*CrossSection)  #mean free path, m\n",
      "Lambda= Lambda*10**3  #converting to, mm\n",
      "\n",
      "#Result\n",
      "print\"The mean free path is: \",round(Lambda,4),\"mm\"\n"
     ],
     "language": "python",
     "metadata": {},
     "outputs": [
      {
       "output_type": "stream",
       "stream": "stdout",
       "text": [
        "The mean free path is:  0.0897 mm\n"
       ]
      }
     ],
     "prompt_number": 8
    },
    {
     "cell_type": "heading",
     "level": 2,
     "metadata": {},
     "source": [
      "Example no:12.10,Page no:446"
     ]
    },
    {
     "cell_type": "code",
     "collapsed": false,
     "input": [
      "#Variable declaration \n",
      "Thalf= 2.69  #half life of gold,d\n",
      "Lambda= 0.693/(Thalf*86400.0)  #decay constant, s**(-1)\n",
      "R= 200.0  #required activity, mCi\n",
      "R= R*10**(-6)  #converting to Ci\n",
      "\n",
      "#Calculation\n",
      "dN= R/(Lambda/(3.70*10**(10)))  #atoms\n",
      "Wgold= 10.0  #mass of foil, mg\n",
      "u= 1.66*(10**(-27))  #atomic mass unit, kg\n",
      "Mgold= 197.0  # u\n",
      "n2= Wgold*10.0**(-6)/(Mgold*u)  #total no. of atoms\n",
      "phi= 2.0*10**(16)  #flux, neutrons/m**2\n",
      "CrossSection= 99.0*10**(-28)  #m**2\n",
      "dT= dN/(phi*n2*CrossSection)   #s\n",
      "dT_m=divmod(dT,60)\n",
      "#Result\n",
      "print\"The irradiation period required is: \",round(dT,1),\"s=\",round(dT_m[0],1),\"min\",round(dT_m[1],1),\"seconds(Approx)\"\n",
      " "
     ],
     "language": "python",
     "metadata": {},
     "outputs": [
      {
       "output_type": "stream",
       "stream": "stdout",
       "text": [
        "The irradiation period required is:  409.9 s= 6.0 min 49.9 seconds(Approx)\n"
       ]
      }
     ],
     "prompt_number": 9
    },
    {
     "cell_type": "heading",
     "level": 2,
     "metadata": {},
     "source": [
      "Example no:12.11,Page no:450"
     ]
    },
    {
     "cell_type": "code",
     "collapsed": false,
     "input": [
      "#Variable declaration \n",
      "m1= 14.00307  #u\n",
      "m2= 4.00260  #u\n",
      "m3= 1.00783  #u\n",
      "m4= 16.99913  #u\n",
      "\n",
      "#Calculation\n",
      "k= m1+m2-m3-m4  # difference in total mass of reactants and products, u\n",
      "Q= k*931.5  #energy exchanged, MeV\n",
      "KEcm= -Q  #minimum KE needed in centre of mass system, MeV\n",
      "KElab= KEcm*(m2+m1)/m1  #minimum KE in laboratory system\n",
      "\n",
      "#Result\n",
      "print\"The minimum KE required by the alpha particle is: \",round(KElab,3),\"MeV(APPROX)\"\n"
     ],
     "language": "python",
     "metadata": {},
     "outputs": [
      {
       "output_type": "stream",
       "stream": "stdout",
       "text": [
        "The minimum KE required by the alpha particle is:  1.545 MeV(APPROX)\n"
       ]
      }
     ],
     "prompt_number": 10
    }
   ],
   "metadata": {}
  }
 ]
}