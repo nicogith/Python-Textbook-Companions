{
 "metadata": {
  "name": ""
 },
 "nbformat": 3,
 "nbformat_minor": 0,
 "worksheets": [
  {
   "cells": [
    {
     "cell_type": "heading",
     "level": 1,
     "metadata": {},
     "source": [
      "Chaptet 6:Quantum theory of the Hydrogen Atom"
     ]
    },
    {
     "cell_type": "heading",
     "level": 2,
     "metadata": {},
     "source": [
      "Example 6.4,Page no:226"
     ]
    },
    {
     "cell_type": "code",
     "collapsed": false,
     "input": [
      "#Variable declaration\n",
      "B= 0.300  #magnetic field, T\n",
      "Lambda= 450  #wavelength, nm\n",
      "Lambda= Lambda*(10**(-9))  #converting to m\n",
      "e= 1.6*(10**(-19))  #charge of an electron, C\n",
      "Me= 9.1*(10**(-31))  #mass of electron, kg\n",
      "c= 3 *(10**8)  #speed of light, m/s\n",
      "import math\n",
      "#Calculation\n",
      "dLambda= e*B*(Lambda**2)/(4*(math.pi)*Me*c)  #m\n",
      "dLambda= dLambda*(10**9)  #converting to nm\n",
      "\n",
      "#Result\n",
      "print\"The separation between Zeeman components is: \",round(dLambda,5),\"nm\"\n"
     ],
     "language": "python",
     "metadata": {},
     "outputs": [
      {
       "output_type": "stream",
       "stream": "stdout",
       "text": [
        "The separation between Zeeman components is:  0.00283 nm\n"
       ]
      }
     ],
     "prompt_number": 2
    }
   ],
   "metadata": {}
  }
 ]
}