{
 "metadata": {
  "name": ""
 },
 "nbformat": 3,
 "nbformat_minor": 0,
 "worksheets": [
  {
   "cells": [
    {
     "cell_type": "heading",
     "level": 1,
     "metadata": {},
     "source": [
      "Chapter 4:Atomic Structure"
     ]
    },
    {
     "cell_type": "heading",
     "level": 2,
     "metadata": {},
     "source": [
      "Example no:4.1,Page no:125"
     ]
    },
    {
     "cell_type": "code",
     "collapsed": false,
     "input": [
      "#Variable declaration \n",
      "E= -13.6; #Energy required to separate electron and proton, eV\n",
      "e= 1.6*(10**(-19)); #charge of an electron, C\n",
      "E= E*e; #converting to J\n",
      "Po= 8.85*(10**(-12)); #Permittivity of free space, F/m\n",
      "\n",
      "#Calculation\n",
      "import math\n",
      "r= e**2/(8*(math.pi)*Po*E); #radius, m\n",
      "r= -r;\n",
      "m= 9.1*(10**(-31)); #mass of electron, kg\n",
      "v=e/math.sqrt(4*(math.pi)*Po*m*r); #velocity, m/s\n",
      "\n",
      "#Result\n",
      "print\"The orbital radius of the electron is:%.2g\"%r,\"m\"\n",
      "print\"The velocity of electron is:%.2g\"%v,\"m/s\"\n",
      " \n",
      " "
     ],
     "language": "python",
     "metadata": {},
     "outputs": [
      {
       "output_type": "stream",
       "stream": "stdout",
       "text": [
        "The orbital radius of the electron is:5.3e-11 m\n",
        "The velocity of electron is:2.2e+06 m/s\n"
       ]
      }
     ],
     "prompt_number": 2
    },
    {
     "cell_type": "heading",
     "level": 2,
     "metadata": {},
     "source": [
      "Example no:4.2,Page no:135"
     ]
    },
    {
     "cell_type": "code",
     "collapsed": false,
     "input": [
      "#Variable declaration \n",
      "n1=1.0; #initial state\n",
      "n2=3.0; #final state\n",
      "E= -13.6; #energy in ground state, eV\n",
      "\n",
      "#Calculation\n",
      "dE= E*((1/n2**2)-(1/n1**2)); #Change in energy, eV\n",
      "\n",
      "#Result\n",
      "print\"The energy change of Hydrogen atom is: \",round(dE,1),\"eV\"\n",
      " "
     ],
     "language": "python",
     "metadata": {},
     "outputs": [
      {
       "output_type": "stream",
       "stream": "stdout",
       "text": [
        "The energy change of Hydrogen atom is:  12.1 eV\n"
       ]
      }
     ],
     "prompt_number": 3
    },
    {
     "cell_type": "heading",
     "level": 2,
     "metadata": {},
     "source": [
      "Example no:4.3,Page no:135"
     ]
    },
    {
     "cell_type": "code",
     "collapsed": false,
     "input": [
      "#Variable declaration\n",
      "#Part(a)\n",
      "Rn= 10.0**(-5); #radius of Rydberg atom, m\n",
      "Ao= 5.29*(10**(-11)); #Bohr radius, m\n",
      "\n",
      "#Calculation\n",
      "n= math.sqrt(Rn/Ao); #Quantum number\n",
      "E1= -13.6; #Ground state energy level, eV\n",
      "En= E1/n**2.0; #Nth state energy level, eV\n",
      "\n",
      "#Result\n",
      "print\"(a).The quantum number of the Rydberg atom is: \",round(n)\n",
      "print\"(b).The energy ofthe rydberg atom is:%.3g\"%En,\"eV\"\n",
      " "
     ],
     "language": "python",
     "metadata": {},
     "outputs": [
      {
       "output_type": "stream",
       "stream": "stdout",
       "text": [
        "(a).The quantum number of the Rydberg atom is:  435.0\n",
        "(b).The energy ofthe rydberg atom is:-7.19e-05 eV\n"
       ]
      }
     ],
     "prompt_number": 4
    },
    {
     "cell_type": "heading",
     "level": 2,
     "metadata": {},
     "source": [
      "Example no:4.4,Page no:138"
     ]
    },
    {
     "cell_type": "code",
     "collapsed": false,
     "input": [
      "#Variable declaration\n",
      "n1= 3.0; #initial state\n",
      "n2= 2.0; #final state\n",
      "R= 1.097*(10**7); #Rydberg's constant, m**(-1)\n",
      "\n",
      "#Calculation\n",
      "k= (1/n2**2)-(1/n1**2);\n",
      "l= 1/(k*R); #longest wavelength, m\n",
      "l= l*(10**9); #converting to nm\n",
      "\n",
      "#Result\n",
      "print\"The longest in Balmer series of Hydrogen, in nm, is: \",round(l),\"nm\"\n",
      " "
     ],
     "language": "python",
     "metadata": {},
     "outputs": [
      {
       "output_type": "stream",
       "stream": "stdout",
       "text": [
        "The longest in Balmer series of Hydrogen, in nm, is:  656.0 nm\n"
       ]
      }
     ],
     "prompt_number": 5
    },
    {
     "cell_type": "heading",
     "level": 2,
     "metadata": {},
     "source": [
      "Example no:4.5,Page no:139"
     ]
    },
    {
     "cell_type": "code",
     "collapsed": false,
     "input": [
      "#Variable declaration\n",
      "n1=1.0; #initial state\n",
      "n2=2.0; #final state\n",
      "E1= 2.18*(10**(-18)); #Rydberg's constant, J\n",
      "h= 6.63*(10**(-34)); #Planck's constant, J.s\n",
      "\n",
      "#Calculation\n",
      "f1= (E1/h)*(2.0/n1**3); #Frequency for first orbit, rev/s\n",
      "f2= (E1/h)*(2.0/n2**3); #Frequency for second orbit, rev/s\n",
      "print\"Ans (A):Frequency of revolution for orbit n=1 is,f1: %.3g\"%f1,\"rev/s\"\n",
      "print\"Frequency of revolution for orbit n=2 is,f2:%.2e\"%f2,\"rev/s\"\n",
      "print\"which is equivalent to 0.823*10**15 rev/s 'without' any scientific notation\\n\"\n",
      "#Part (b)\n",
      "n1=2.0; #initial orbit\n",
      "n2=1.0; #final orbit\n",
      "f= (E1/(h))*((1.0/(n2**2))-(1.0/n1**3)); #frequency, Hz\n",
      "print\"Ans(B):Frequency of emitted photon is: %.3g\"%f,\"Hz\\n\"\n",
      "#Part (c)\n",
      "n= 2.0; #orbit\n",
      "f= f2; #from part (a)\n",
      "dt= 10.0**(-8); # time duration, s\n",
      "N= f*dt; #Number of revolutions\n",
      "#Result\n",
      "print\"Ans(C):Number of revolutions the electron makes is:%.3g\"%N\n",
      " "
     ],
     "language": "python",
     "metadata": {},
     "outputs": [
      {
       "output_type": "stream",
       "stream": "stdout",
       "text": [
        "Ans (A):Frequency of revolution for orbit n=1 is,f1: 6.58e+15 rev/s\n",
        "Frequency of revolution for orbit n=2 is,f2:8.22e+14 rev/s\n",
        "which is equivalent to 0.823*10**15 rev/s 'without' any scientific notation\n",
        "\n",
        "Ans(B):Frequency of emitted photon is: 2.88e+15 Hz\n",
        "\n",
        "Ans(C):Number of revolutions the electron makes is:8.22e+06\n"
       ]
      }
     ],
     "prompt_number": 6
    },
    {
     "cell_type": "heading",
     "level": 2,
     "metadata": {},
     "source": [
      "Example no:4.7,Page no:142"
     ]
    },
    {
     "cell_type": "code",
     "collapsed": false,
     "input": [
      "#Variable declaration\n",
      "#Part (a) \n",
      "Me= 9.1*(10**(-31)); #mass of electron, kg\n",
      "m= 207*Me; #mass of muon, kg\n",
      "\n",
      "#Calculation\n",
      "Mp= 1836*Me; #mass of proton, kg\n",
      "Mreduced= (m*Mp)/(m+Mp); #reduced mass, kg\n",
      "Ao= 5.29*(10**(-11)); #Bohr's orbit for n=1, m\n",
      "r1= Ao; #expected orbit for atom, m\n",
      "r2= (Me/Mreduced)*r1; #reduced radius of orbit, m\n",
      "#Part (b)\n",
      "E=-13.6; # energy for elctron in n=1, eV\n",
      "Ereduced= (Mreduced/Me)*E; #energy for eectron in mounic atom, eV\n",
      "Ereduced= Ereduced/(10**3);#converting to keV\n",
      "\n",
      "#Result\n",
      "print\"(A)Radius of the mounic atom formed, in m, is:%.3g\"%r2,\"m\"\n",
      "print\"(B)Ionisation energy for the muonic atom  is: \",round(Ereduced,2),\"keV\"\n",
      " "
     ],
     "language": "python",
     "metadata": {},
     "outputs": [
      {
       "output_type": "stream",
       "stream": "stdout",
       "text": [
        "(A)Radius of the mounic atom formed, in m, is:2.84e-13 m\n",
        "(B)Ionisation energy for the muonic atom  is:  -2.53 keV\n"
       ]
      }
     ],
     "prompt_number": 7
    },
    {
     "cell_type": "heading",
     "level": 2,
     "metadata": {},
     "source": [
      "Example no:4.8,Page no:156"
     ]
    },
    {
     "cell_type": "code",
     "collapsed": false,
     "input": [
      "#Variable declaration \n",
      "I= 7.7; #Intensity of beam, MeV\n",
      "Dgold= 1.93*(10**4); #density of gold foil used, kg/m**3\n",
      "u= 1.66*(10**(-27)); #atomic mass unit, kg\n",
      "Mgold= 197*u; #atomic mass of gold, per atom\n",
      "\n",
      "#Calculation\n",
      "n= Dgold/Mgold; #number of atoms per unit volume, atoms/m**3\n",
      "Zgold= 79; #atomic number of gold\n",
      "e= 1.6*(10**(-19)); #electronis charge, C\n",
      "KE= (I*e)/(10**(-6)); #converting to J\n",
      "angle= 45; #degree\n",
      "p=1/math.tan(math.radians(angle/2));\n",
      "Po= 8.85*(10**(-12)); #Permittivity of free space, F/m\n",
      "t= 3*(10**(-7)); #thickness of foil, m\n",
      "f= (math.pi)*n*t*(((Zgold*(e**2))/(4*(math.pi)*Po*KE))**2)*(p**2) #using Rutherford scattering formula\n",
      "\n",
      "#Result\n",
      "print\"f=%.g\"%f\n",
      "print\"Fraction of the beam scattered through 45 degree or more is: \",round(f*100,3),\"%\"\n",
      " "
     ],
     "language": "python",
     "metadata": {},
     "outputs": [
      {
       "output_type": "stream",
       "stream": "stdout",
       "text": [
        "f=7e-05\n",
        "Fraction of the beam scattered through 45 degree or more is:  0.007 %\n"
       ]
      }
     ],
     "prompt_number": 8
    }
   ],
   "metadata": {}
  }
 ]
}