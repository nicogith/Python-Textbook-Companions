{
 "metadata": {
  "name": ""
 },
 "nbformat": 3,
 "nbformat_minor": 0,
 "worksheets": [
  {
   "cells": [
    {
     "cell_type": "heading",
     "level": 1,
     "metadata": {},
     "source": [
      "Chapter 8:Molecules"
     ]
    },
    {
     "cell_type": "heading",
     "level": 2,
     "metadata": {},
     "source": [
      "Exampnle no:8.1,Page no:283"
     ]
    },
    {
     "cell_type": "code",
     "collapsed": false,
     "input": [
      "#Variable declaration \n",
      "r= 0.113  #bond length, nm\n",
      "Mc= 1.99*(10**(-26))  #mass of C12, kg\n",
      "Mo= 2.66*(10**(-26))  #mass of O16, kg\n",
      "\n",
      "#Calculation\n",
      "#Part (a)\n",
      "import math\n",
      "Mco= (Mc*Mo)/(Mc+Mo)  #mass of CO, kg\n",
      "I= Mco*((r*(10.0**(-9.0)))**2.0)  #moment of inertia, kg.m**2\n",
      "J=1.0  #lowest rotational state\n",
      "h= 6.63*(10**(-34))  #Planck's constant, J.s\n",
      "hbar= h/(2.0*(math.pi))  #reduced Planck's constant, J.s\n",
      "E1= (J*(J+1)*(hbar**2))/(2.0*I)  #energy corresponding to state J=1, J\n",
      "e= 1.6*(10**(-19))  #charge of an electron, C\n",
      "E1= E1/e  #converting to eV\n",
      "#Part(b)\n",
      "w= math.sqrt((2.0*7.61*10**-23)/(1.46*10**-46))  #angular velocity, rad/s\n",
      "\n",
      "#Result\n",
      "print\"(a).The energy of CO molecule is:%.2e\"%E1,\"eV(approx)\"\n",
      "print\"(b).The angular velocity is:%.3g\"%w,\"rad/sec\\n\"\n",
      "\n",
      "print\"NOTE:(Calculation mistake):Incorrect answer in book for (b) part\"\n"
     ],
     "language": "python",
     "metadata": {},
     "outputs": [
      {
       "output_type": "stream",
       "stream": "stdout",
       "text": [
        "(a).The energy of CO molecule is:4.79e-04 eV(approx)\n",
        "(b).The angular velocity is:1.02e+12 rad/sec\n",
        "\n",
        "NOTE:(Calculation mistake):Incorrect answer in book for (b) part\n"
       ]
      }
     ],
     "prompt_number": 2
    },
    {
     "cell_type": "heading",
     "level": 2,
     "metadata": {},
     "source": [
      "Exampnle no:8.2,Page no:285"
     ]
    },
    {
     "cell_type": "code",
     "collapsed": false,
     "input": [
      "#Variable declaration\n",
      "Ji=0  #initial state\n",
      "Jf=1  #final state\n",
      "f= 1.15*(10**11)  #frequency for the absorption, Hz\n",
      "h= 6.63*(10**(-34))  #Planck's constant, J.s\n",
      "\n",
      "#Calculation\n",
      "hbar= h/(2*(math.pi))  #reduced Planck's constant, J.s\n",
      "Ico= hbar*Jf/(2*(math.pi)*f)  #moment of inertia, kg.m**2\n",
      "Mco= 1.14*(10**(-26))  #Mass of CO, refer Exa 8.1\n",
      "r= math.sqrt(Ico/Mco)  #bond length, m\n",
      "r= r*(10**9)  #converting to nm\n",
      "\n",
      "#Result\n",
      "print\"The bond length of CO molecule is: \",round(r,3),\"nm\"\n"
     ],
     "language": "python",
     "metadata": {},
     "outputs": [
      {
       "output_type": "stream",
       "stream": "stdout",
       "text": [
        "The bond length of CO molecule is:  0.113 nm\n"
       ]
      }
     ],
     "prompt_number": 3
    },
    {
     "cell_type": "heading",
     "level": 2,
     "metadata": {},
     "source": [
      "Exampnle no:8.3,Page no:288"
     ]
    },
    {
     "cell_type": "code",
     "collapsed": false,
     "input": [
      "#Variable declaration\n",
      "f= 6.42*(10**13)  #frequency of absorbed radiation, Hz\n",
      "Mco= 1.14*(10**(-26))  #mass of CO, kg\n",
      "h= 6.63*(10**(-34))  #Planck's constant, J.s\n",
      "\n",
      "#Calculation\n",
      "#Part (a)\n",
      "k= 4*((math.pi)**2)*(f**2)*Mco  #using Eqn 8.15, Page 287\n",
      "#Part (b)\n",
      "dE= h*f  #separation, J\n",
      "etoJ=dE*6.24*10**18 \n",
      "\n",
      "#Result\n",
      "print\"(a).The force constant for the bond in CO molecule  is: %.3g\"%k,\"N/m\"\n",
      "print\"\\nNOTE:Slight error in calculation of book,'k' is written as 1.86*10**3\\n\\n\"\n",
      "print\"(b).The separation in its vibrational eergy levels is:%.3g\"%dE,\"J=\",round(etoJ,3),\"eV\"\n"
     ],
     "language": "python",
     "metadata": {},
     "outputs": [
      {
       "output_type": "stream",
       "stream": "stdout",
       "text": [
        "(a).The force constant for the bond in CO molecule  is: 1.85e+03 N/m\n",
        "\n",
        "NOTE:Slight error in calculation of book,'k' is written as 1.86*10**3\n",
        "\n",
        "\n",
        "(b).The separation in its vibrational eergy levels is:4.26e-20 J= 0.266 eV\n"
       ]
      }
     ],
     "prompt_number": 4
    }
   ],
   "metadata": {}
  }
 ]
}