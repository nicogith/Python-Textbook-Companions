{
 "metadata": {
  "name": "",
  "signature": "sha256:1a361e48153d58a5820c879429a5bbafe3e6e3df7d99a198492b082874550ac1"
 },
 "nbformat": 3,
 "nbformat_minor": 0,
 "worksheets": [
  {
   "cells": [
    {
     "cell_type": "heading",
     "level": 1,
     "metadata": {},
     "source": [
      "Conducting materials"
     ]
    },
    {
     "cell_type": "heading",
     "level": 2,
     "metadata": {},
     "source": [
      "Example number 8.1, Page number 231"
     ]
    },
    {
     "cell_type": "code",
     "collapsed": false,
     "input": [
      "\n",
      "\n",
      "#Variable declaration\n",
      "m=9.1*10**-31;      #mass of the electron in kg\n",
      "n=2.533*10**28;    #concentration of electrons per m^3\n",
      "e=1.6*10**-19;\n",
      "tow_r=3.1*10**-14;    #relaxation time in sec\n",
      "\n",
      "#Calculation\n",
      "rho=m/(n*(e**2*tow_r));\n",
      "\n",
      "#Result\n",
      "print(\"electrical resistivity in ohm metre is\",rho);"
     ],
     "language": "python",
     "metadata": {},
     "outputs": [
      {
       "output_type": "stream",
       "stream": "stdout",
       "text": [
        "('electrical resistivity in ohm metre is', 4.526937967219795e-08)\n"
       ]
      }
     ],
     "prompt_number": 1
    },
    {
     "cell_type": "heading",
     "level": 2,
     "metadata": {},
     "source": [
      "Example number 8.2, Page number 231"
     ]
    },
    {
     "cell_type": "code",
     "collapsed": false,
     "input": [
      "\n",
      "\n",
      "#importing modules\n",
      "import math\n",
      "\n",
      "#Variable declaration\n",
      "s=3.75*10**3;       #slope\n",
      "k=1.38*10**-23;\n",
      "\n",
      "#Calculation\n",
      "Eg=2*k*s;\n",
      "Eg=Eg/(1.6*10**-19);    #converting J to eV\n",
      "Eg=math.ceil(Eg*10**3)/10**3;   #rounding off to 3 decimals\n",
      "\n",
      "#Result\n",
      "print(\"band gap of semiconductor in eV is\",Eg);"
     ],
     "language": "python",
     "metadata": {},
     "outputs": [
      {
       "output_type": "stream",
       "stream": "stdout",
       "text": [
        "('band gap of semiconductor in eV is', 0.647)\n"
       ]
      }
     ],
     "prompt_number": 3
    },
    {
     "cell_type": "heading",
     "level": 2,
     "metadata": {},
     "source": [
      "Example number 8.3, Page number 231"
     ]
    },
    {
     "cell_type": "code",
     "collapsed": false,
     "input": [
      "\n",
      "#importing modules\n",
      "import math\n",
      "\n",
      "#Variable declaration\n",
      "T=989;       #temperature in C\n",
      "k=1.38*10**-23;\n",
      "#let E-EF be E\n",
      "E=0.5;        #occupied level of electron in eV\n",
      "\n",
      "#Calculation\n",
      "T=T+273;     #temperature in K\n",
      "E=E*1.6*10**-19;       #converting eV to J\n",
      "#let fermi=dirac distribution function f(E) be f\n",
      "f=1/(1+math.exp(E/(k*T)));\n",
      "f=math.ceil(f*10**3)/10**3;   #rounding off to 3 decimals\n",
      "\n",
      "#Result\n",
      "print(\"probability of occupation of electrons is\",f);"
     ],
     "language": "python",
     "metadata": {},
     "outputs": [
      {
       "output_type": "stream",
       "stream": "stdout",
       "text": [
        "('probability of occupation of electrons is', 0.011)\n"
       ]
      }
     ],
     "prompt_number": 4
    },
    {
     "cell_type": "heading",
     "level": 2,
     "metadata": {},
     "source": [
      "Example number 8.4, Page number 232"
     ]
    },
    {
     "cell_type": "code",
     "collapsed": false,
     "input": [
      "\n",
      "\n",
      "#Variable declaration\n",
      "mew_e=0.0035;    #mobility of electrons in m^2/Vs\n",
      "E=0.5;       #electric field strength in V/m\n",
      "\n",
      "#Calculation\n",
      "vd=mew_e*E;\n",
      "vd=vd*10**3;\n",
      "\n",
      "#Result\n",
      "print(\"drift velocity of free electrons in m/sec is\",vd,\"*10**-3\");\n",
      "\n",
      "#answer given in the book is wrong"
     ],
     "language": "python",
     "metadata": {},
     "outputs": [
      {
       "output_type": "stream",
       "stream": "stdout",
       "text": [
        "('drift velocity of free electrons in m/sec is', 1.75, '*10**-3')\n"
       ]
      }
     ],
     "prompt_number": 1
    },
    {
     "cell_type": "heading",
     "level": 2,
     "metadata": {},
     "source": [
      "Example number 8.5, Page number 232"
     ]
    },
    {
     "cell_type": "code",
     "collapsed": false,
     "input": [
      "\n",
      "\n",
      "#importing modules\n",
      "import math\n",
      "\n",
      "#Variable declaration\n",
      "A=6.022*10**23;    #avagadro number\n",
      "e=1.6*10**-19;\n",
      "rho=1.73*10**-8;    #resistivity of Cu in ohm metre\n",
      "w=63.5;     #atomic weight \n",
      "d=8.92*10**3;     #density in kg/m^3\n",
      "\n",
      "#Calculation\n",
      "d=d*10**3;\n",
      "sigma=1/rho;\n",
      "sigmaa=sigma/10**7;\n",
      "sigmaa=math.ceil(sigmaa*10**3)/10**3;   #rounding off to 3 decimals\n",
      "n=(d*A)/w;\n",
      "mew=sigma/(n*e);     #mobility of electrons\n",
      "mew=mew*10**3;\n",
      "mew=math.ceil(mew*10**4)/10**4;   #rounding off to 4 decimals\n",
      "\n",
      "#Result\n",
      "print(\"electrical conductivity in ohm-1 m-1\",sigmaa,\"*10**7\");\n",
      "print(\"concentration of carriers per m^3\",n);\n",
      "print(\"mobility of electrons in m^2/Vsec is\",mew,\"*10**-3\");"
     ],
     "language": "python",
     "metadata": {},
     "outputs": [
      {
       "output_type": "stream",
       "stream": "stdout",
       "text": [
        "('electrical conductivity in ohm-1 m-1', 5.781, '*10**7')\n",
        "('concentration of carriers per m^3', 8.459250393700786e+28)\n",
        "('mobility of electrons in m^2/Vsec is', 4.2708, '*10**-3')\n"
       ]
      }
     ],
     "prompt_number": 16
    },
    {
     "cell_type": "heading",
     "level": 2,
     "metadata": {},
     "source": [
      "Example number 8.6, Page number 232"
     ]
    },
    {
     "cell_type": "code",
     "collapsed": false,
     "input": [
      "\n",
      "\n",
      "#importing modules\n",
      "import math\n",
      "\n",
      "#Variable declaration\n",
      "n=18.1*10**28;       #concentration of electrons per m^3\n",
      "h=6.62*10**-34;   #planck constant in Js\n",
      "me=9.1*10**-31;    #mass of electron in kg\n",
      "\n",
      "#Calculation\n",
      "X=h**2/(8*me);\n",
      "E_F0=X*(((3*n)/math.pi)**(2/3));\n",
      "E_F0=E_F0/(1.6*10**-19);    #converting J to eV\n",
      "\n",
      "#Result\n",
      "print(\"Fermi energy in eV is\",E_F0);\n",
      "\n",
      "#answer given in the book is wrong"
     ],
     "language": "python",
     "metadata": {},
     "outputs": [
      {
       "output_type": "stream",
       "stream": "stdout",
       "text": [
        "('Fermi energy in eV is', 3.762396978021977e-19)\n"
       ]
      }
     ],
     "prompt_number": 18
    },
    {
     "cell_type": "heading",
     "level": 2,
     "metadata": {},
     "source": [
      "Example number 8.7, Page number 233"
     ]
    },
    {
     "cell_type": "code",
     "collapsed": false,
     "input": [
      "\n",
      "import math\n",
      "\n",
      "#Variable declaration\n",
      "E_F0=5.5;    #fermi energy in eV\n",
      "h=6.63*10**-34;   #planck constant in Js\n",
      "me=9.1*10**-31;    #mass of electron in kg\n",
      "\n",
      "#Calculation\n",
      "E_F0=E_F0*1.6*10**-19;    #converting eV to J\n",
      "n=((2*me*E_F0)**(3/2))*((8*math.pi)/(3*h**3));\n",
      "\n",
      "#Result\n",
      "print(\"concentration of free electrons per unit volume of silver per m^3 is\",n);\n",
      "\n",
      "#answer given in the book is wrong\n"
     ],
     "language": "python",
     "metadata": {},
     "outputs": [
      {
       "output_type": "stream",
       "stream": "stdout",
       "text": [
        "('concentration of free electrons per unit volume of silver per m^3 is', 4.603965704817037e+52)\n"
       ]
      }
     ],
     "prompt_number": 19
    },
    {
     "cell_type": "heading",
     "level": 2,
     "metadata": {},
     "source": [
      "Example number 8.8, Page number 233"
     ]
    },
    {
     "cell_type": "code",
     "collapsed": false,
     "input": [
      "\n",
      "\n",
      "#importing modules\n",
      "import math\n",
      "\n",
      "#Variable declaration\n",
      "Eg=1.07;    #energy gap of silicon in eV\n",
      "k=1.38*10**-23;\n",
      "T=298;     #temperature in K\n",
      "\n",
      "#Calculation\n",
      "Eg=Eg*1.6*10**-19;     #converting eV to J\n",
      "#let the probability of electron f(E) be X\n",
      "#X=1/(1+exp((E-Ef)/(k*T)))\n",
      "#but E=Ec and Ec-Ef=Eg/2\n",
      "X=1/(1+math.exp(Eg/(2*k*T)))\n",
      "\n",
      "#Result\n",
      "print(\"probability of an electron thermally excited is\",X);"
     ],
     "language": "python",
     "metadata": {},
     "outputs": [
      {
       "output_type": "stream",
       "stream": "stdout",
       "text": [
        "('probability of an electron thermally excited is', 9.122602463573379e-10)\n"
       ]
      }
     ],
     "prompt_number": 21
    },
    {
     "cell_type": "heading",
     "level": 2,
     "metadata": {},
     "source": [
      "Example number 8.9, Page number 234"
     ]
    },
    {
     "cell_type": "code",
     "collapsed": false,
     "input": [
      "\n",
      "\n",
      "#importing modules\n",
      "import math\n",
      "\n",
      "#Variable declaration\n",
      "k=1.38*10**-23;\n",
      "m=9.1*10**-31;     #mass of the electron in kg\n",
      "vf=0.86*10**6;    #fermi velocity in m/sec\n",
      "\n",
      "#Calculation\n",
      "Efj=(m*vf**2)/2;\n",
      "Ef=Efj/(1.6*10**-19);    #converting J to eV\n",
      "Ef=math.ceil(Ef*10**3)/10**3;   #rounding off to 3 decimals\n",
      "Tf=Efj/k;\n",
      "Tf=Tf/10**4;\n",
      "Tf=math.ceil(Tf*10**4)/10**4;   #rounding off to 4 decimals\n",
      "\n",
      "#Result\n",
      "print(\"fermi energy of metal in J is\",Efj);\n",
      "print(\"fermi energy of metal in eV is\",Ef);\n",
      "print(\"fermi temperature in K is\",Tf,\"*10**4\");\n"
     ],
     "language": "python",
     "metadata": {},
     "outputs": [
      {
       "output_type": "stream",
       "stream": "stdout",
       "text": [
        "('fermi energy of metal in J is', 3.3651800000000002e-19)\n",
        "('fermi energy of metal in eV is', 2.104)\n",
        "('fermi temperature in K is', 2.4386, '*10**4')\n"
       ]
      }
     ],
     "prompt_number": 24
    },
    {
     "cell_type": "heading",
     "level": 2,
     "metadata": {},
     "source": [
      "Example number 8.10, Page number 234"
     ]
    },
    {
     "cell_type": "code",
     "collapsed": false,
     "input": [
      "\n",
      "#Variable declaration\n",
      "sigma=5.82*10**7;      #electrical conductivity in ohm^-1m^-1\n",
      "K=387;      #thermal conductivity of Cu in W/mK\n",
      "T=27;     #temperature in C\n",
      "\n",
      "#Calculation\n",
      "T=T+273;       #temperature in K\n",
      "L=K/(sigma*T);\n",
      "\n",
      "#Result\n",
      "print(\"lorentz number in W ohm/K^2 is\",L);\n"
     ],
     "language": "python",
     "metadata": {},
     "outputs": [
      {
       "output_type": "stream",
       "stream": "stdout",
       "text": [
        "('lorentz number in W ohm/K^2 is', 2.2164948453608246e-08)\n"
       ]
      }
     ],
     "prompt_number": 25
    },
    {
     "cell_type": "heading",
     "level": 2,
     "metadata": {},
     "source": [
      "Example number 8.11, Page number 235"
     ]
    },
    {
     "cell_type": "code",
     "collapsed": false,
     "input": [
      "\n",
      "import math\n",
      "\n",
      "#Variable declaration\n",
      "m=9.1*10**-31;     #mass of the electron in kg\n",
      "e=1.6*10**-19;\n",
      "k=1.38*10**-23;\n",
      "n=8.49*10**28;     #concentration of electrons in Cu per m^3\n",
      "tow_r=2.44*10**-14;   #relaxation time in sec\n",
      "T=20;     #temperature in C\n",
      "\n",
      "#Calculation\n",
      "T=T+273;     #temperature in K\n",
      "sigma=(n*(e**2)*tow_r)/m;\n",
      "sigmaa=sigma/10**7;\n",
      "sigmaa=math.ceil(sigmaa*10**4)/10**4;   #rounding off to 4 decimals\n",
      "K=(n*(math.pi**2)*(k**2)*T*tow_r)/(3*m);\n",
      "K=math.ceil(K*100)/100;   #rounding off to 2 decimals\n",
      "L=K/(sigma*T);\n",
      "\n",
      "#Result\n",
      "print(\"electrical conductivity in ohm^-1 m^-1 is\",sigmaa,\"*10**7\");\n",
      "print(\"thermal conductivity in W/mK is\",K);\n",
      "print(\"Lorentz number in W ohm/K^2 is\",L);\n",
      "\n",
      "#answer for lorentz number given in the book is wrong\n"
     ],
     "language": "python",
     "metadata": {},
     "outputs": [
      {
       "output_type": "stream",
       "stream": "stdout",
       "text": [
        "('electrical conductivity in ohm^-1 m^-1 is', 5.8277, '*10**7')\n",
        "('thermal conductivity in W/mK is', 417.89)\n",
        "('Lorentz number in W ohm/K^2 is', 2.4473623172034308e-08)\n"
       ]
      }
     ],
     "prompt_number": 29
    },
    {
     "cell_type": "code",
     "collapsed": false,
     "input": [],
     "language": "python",
     "metadata": {},
     "outputs": []
    }
   ],
   "metadata": {}
  }
 ]
}