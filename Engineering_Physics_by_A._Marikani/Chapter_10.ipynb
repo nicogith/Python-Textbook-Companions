{
 "metadata": {
  "name": "",
  "signature": "sha256:e2ed8f14e9384f32112bf8b476c63d65b4316d749e72b2c8fa7bc92794bf7f8a"
 },
 "nbformat": 3,
 "nbformat_minor": 0,
 "worksheets": [
  {
   "cells": [
    {
     "cell_type": "heading",
     "level": 1,
     "metadata": {},
     "source": [
      "Magnetic materials"
     ]
    },
    {
     "cell_type": "heading",
     "level": 2,
     "metadata": {},
     "source": [
      "Example number 10.1, Page number 305"
     ]
    },
    {
     "cell_type": "code",
     "collapsed": false,
     "input": [
      "\n",
      "\n",
      "#importing modules\n",
      "import math\n",
      "\n",
      "#Variable declaration\n",
      "H=10**6;    #magnetic field strength in A/m\n",
      "chi=0.5*10**-5;    #magnetic susceptibility\n",
      "\n",
      "#Calculation\n",
      "mew0=4*math.pi*10**-7;\n",
      "M=chi*H;\n",
      "B=mew0*(M+H);\n",
      "B=math.ceil(B*10**3)/10**3;   #rounding off to 3 decimals\n",
      "\n",
      "#Result\n",
      "print(\"intensity of magnetisation in A/m is\",M);\n",
      "print(\"flux density in Wb/m^2 is\",B);\n"
     ],
     "language": "python",
     "metadata": {},
     "outputs": [
      {
       "output_type": "stream",
       "stream": "stdout",
       "text": [
        "('intensity of magnetisation in A/m is', 5.0)\n",
        "('flux density in Wb/m^2 is', 1.257)\n"
       ]
      }
     ],
     "prompt_number": 1
    },
    {
     "cell_type": "heading",
     "level": 2,
     "metadata": {},
     "source": [
      "Example number 10.2, Page number 306"
     ]
    },
    {
     "cell_type": "code",
     "collapsed": false,
     "input": [
      "\n",
      "#importing modules\n",
      "import math\n",
      "\n",
      "#Variable declaration\n",
      "A=6.022*10**23;     #avagadro number\n",
      "mew0=4*math.pi*10**-7;\n",
      "w=58.7;       #atomic weight of Ni\n",
      "B=0.65;    #saturation magnetic induction in Wb/m^2\n",
      "rho=8906;    #density in kg/m^3\n",
      "\n",
      "#Calculation\n",
      "rho=rho*10**3;     #converting into gm/m^3\n",
      "N=(rho*A)/w;\n",
      "mew_m=B/(N*mew0);\n",
      "#mew_m/(9.27*10^-24) gives mew_m in mewB\n",
      "mew_m=mew_m/(9.27*10**-24);\n",
      "mew_m=math.ceil(mew_m*10**3)/10**3;   #rounding off to 3 decimals\n",
      "\n",
      "#Result\n",
      "print(\"magnetic moment of Ni is\",mew_m,\"mew_b\");\n",
      "#that is mew_m=0.61 mew_b"
     ],
     "language": "python",
     "metadata": {},
     "outputs": [
      {
       "output_type": "stream",
       "stream": "stdout",
       "text": [
        "('magnetic moment of Ni is', 0.611, 'mew_b')\n"
       ]
      }
     ],
     "prompt_number": 5
    },
    {
     "cell_type": "heading",
     "level": 2,
     "metadata": {},
     "source": [
      "Example number 10.3, Page number 306"
     ]
    },
    {
     "cell_type": "code",
     "collapsed": false,
     "input": [
      "\n",
      "#importing modules\n",
      "import math\n",
      "\n",
      "#Variable declaration\n",
      "mew_0=4*math.pi*10**-7;\n",
      "H=1800;       #magnetic field in A/m\n",
      "phi=3*10**-5;     #magnetic flux in Wb\n",
      "A=0.2;     #area of cross section in cm^2\n",
      "\n",
      "#Calculation\n",
      "A=A*10**-4;   #area in m^2\n",
      "B=phi/A;\n",
      "mew_r=B/(mew_0*H);\n",
      "mew_r=math.ceil(mew_r*10**3)/10**3;   #rounding off to 3 decimals\n",
      "\n",
      "#Result\n",
      "print(\"permeability of material is\",mew_r);"
     ],
     "language": "python",
     "metadata": {},
     "outputs": [
      {
       "output_type": "stream",
       "stream": "stdout",
       "text": [
        "('permeability of material is', 663.146)\n"
       ]
      }
     ],
     "prompt_number": 6
    },
    {
     "cell_type": "heading",
     "level": 2,
     "metadata": {},
     "source": [
      "Example number 10.4, Page number 307"
     ]
    },
    {
     "cell_type": "code",
     "collapsed": false,
     "input": [
      "\n",
      "#importing modules\n",
      "import math\n",
      "\n",
      "#Variable declaration\n",
      "mew=18.4;       #magnetic moment in mew_b\n",
      "a=0.835;     #lattice parameter in nm\n",
      "\n",
      "#Calculation\n",
      "mew=mew*9.27*10**-24;\n",
      "a=a*10**-9;    #converting nm to m\n",
      "V=a**3;\n",
      "M=mew/V;\n",
      "M=M/10**5;\n",
      "M=math.ceil(M*10**4)/10**4;   #rounding off to 4 decimals\n",
      "\n",
      "#Result\n",
      "print(\"saturation magnetisation in A/m is\",M,\"*10**5\");"
     ],
     "language": "python",
     "metadata": {},
     "outputs": [
      {
       "output_type": "stream",
       "stream": "stdout",
       "text": [
        "('saturation magnetisation in A/m is', 2.9299, '*10**5')\n"
       ]
      }
     ],
     "prompt_number": 8
    },
    {
     "cell_type": "heading",
     "level": 2,
     "metadata": {},
     "source": [
      "Example number 10.5, Page number 307"
     ]
    },
    {
     "cell_type": "code",
     "collapsed": false,
     "input": [
      "\n",
      "\n",
      "#importing modules\n",
      "import math\n",
      "\n",
      "#Variable declaration\n",
      "mew_0=4*math.pi*10**-7;\n",
      "H=2*10**5;     #magnetic field strength in A/m\n",
      "mew_r=1.01;    #relative permeability\n",
      "\n",
      "#Calculation\n",
      "B=mew_0*mew_r*H;\n",
      "B=math.ceil(B*10**5)/10**5;   #rounding off to 3 decimals\n",
      "M=(B/mew_0)-H;\n",
      "M=math.ceil(M*10**2)/10**2;   #rounding off to 2 decimals\n",
      "\n",
      "#Result\n",
      "print(\"magnetic flux density in Wb/m^2 is\",B);\n",
      "print(\"magnetisation in A/m is\",M);\n",
      "\n",
      "#answer for magnetisation given in the book is wrong"
     ],
     "language": "python",
     "metadata": {},
     "outputs": [
      {
       "output_type": "stream",
       "stream": "stdout",
       "text": [
        "('magnetic flux density in Wb/m^2 is', 0.25385)\n",
        "('magnetisation in A/m is', 2007.42)\n"
       ]
      }
     ],
     "prompt_number": 9
    },
    {
     "cell_type": "heading",
     "level": 2,
     "metadata": {},
     "source": [
      "Example number 10.6, Page number 307"
     ]
    },
    {
     "cell_type": "code",
     "collapsed": false,
     "input": [
      "\n",
      "\n",
      "#importing modules\n",
      "import math\n",
      "\n",
      "#Variable declaration\n",
      "mew_0=4*math.pi*10**-7;\n",
      "H=500;      #magnetic field strength in A/m\n",
      "chi=1.2;    #susceptibility\n",
      "\n",
      "#Calculation\n",
      "M=chi*H;\n",
      "B=mew_0*(M+H);\n",
      "B=B*10**3;\n",
      "B=math.ceil(B*10**4)/10**4;   #rounding off to 4 decimals\n",
      "\n",
      "#Result\n",
      "print(\"magnetic flux density in Wb/m^2 is\",B,\"*10**-3\");"
     ],
     "language": "python",
     "metadata": {},
     "outputs": [
      {
       "output_type": "stream",
       "stream": "stdout",
       "text": [
        "('magnetic flux density in Wb/m^2 is', 1.3824, '*10**-3')\n"
       ]
      }
     ],
     "prompt_number": 14
    },
    {
     "cell_type": "code",
     "collapsed": false,
     "input": [],
     "language": "python",
     "metadata": {},
     "outputs": []
    }
   ],
   "metadata": {}
  }
 ]
}