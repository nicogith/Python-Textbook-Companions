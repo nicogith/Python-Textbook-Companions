{
 "metadata": {
  "name": "",
  "signature": "sha256:40ea4bb009666aeba2b07d31c3573a833c155d9ac8e902b20b5967865ae89dbb"
 },
 "nbformat": 3,
 "nbformat_minor": 0,
 "worksheets": [
  {
   "cells": [
    {
     "cell_type": "heading",
     "level": 1,
     "metadata": {},
     "source": [
      "Superconducting Materials"
     ]
    },
    {
     "cell_type": "heading",
     "level": 2,
     "metadata": {},
     "source": [
      "Example number 12.1, Page number 356"
     ]
    },
    {
     "cell_type": "code",
     "collapsed": false,
     "input": [
      "\n",
      "\n",
      "#importing modules\n",
      "import math\n",
      "\n",
      "#Variable declaration\n",
      "Tc=3.7;   #critical temperature in K\n",
      "H0=0.0306;   #magnetic field in T\n",
      "T=2;    #temperature in K\n",
      "\n",
      "#Calculation\n",
      "Hc=H0*(1-(T**2/Tc**2));\n",
      "Hc=math.ceil(Hc*10**5)/10**5;   #rounding off to 5 decimals\n",
      "\n",
      "#Result\n",
      "print(\"critical field in T is\",Hc);\n"
     ],
     "language": "python",
     "metadata": {},
     "outputs": [
      {
       "output_type": "stream",
       "stream": "stdout",
       "text": [
        "('critical field in T is', 0.02166)\n"
       ]
      }
     ],
     "prompt_number": 1
    },
    {
     "cell_type": "heading",
     "level": 2,
     "metadata": {},
     "source": [
      "Example number 12.2, Page number 356"
     ]
    },
    {
     "cell_type": "code",
     "collapsed": false,
     "input": [
      "\n",
      "\n",
      "#importing modules\n",
      "import math\n",
      "\n",
      "#Variable declaration\n",
      "Tc=7.26;   #critical temperature in K\n",
      "H0=6.4*10**3;   #magnetic field in T\n",
      "T=5;    #temperature in K\n",
      "\n",
      "#Calculation\n",
      "Hc=H0*(1-(T**2/Tc**2));\n",
      "Hc=math.ceil(Hc*10**3)/10**3;   #rounding off to 3 decimals\n",
      "\n",
      "#Result\n",
      "print(\"critical field in T is\",Hc);"
     ],
     "language": "python",
     "metadata": {},
     "outputs": [
      {
       "output_type": "stream",
       "stream": "stdout",
       "text": [
        "('critical field in T is', 3364.385)\n"
       ]
      }
     ],
     "prompt_number": 2
    },
    {
     "cell_type": "heading",
     "level": 2,
     "metadata": {},
     "source": [
      "Example number 12.3, Page number 357"
     ]
    },
    {
     "cell_type": "code",
     "collapsed": false,
     "input": [
      "\n",
      "#importing modules\n",
      "import math\n",
      "\n",
      "#Variable declaration\n",
      "Tc1=4.185;   #critical temperature in K\n",
      "M1=199.5;     #atomic mass\n",
      "M2=203.4;     #atomic mass after changing\n",
      "\n",
      "#Calculation\n",
      "#according to maxwell equation Tc*M^0.5=constant\n",
      "#Tc1*M1^0.5=Tc2*M2^0.5\n",
      "Tc2=(Tc1*M1**0.5)/M2**0.5;\n",
      "Tc2=math.ceil(Tc2*10**6)/10**6;   #rounding off to 6 decimals\n",
      "\n",
      "#Result\n",
      "print(\"critical temperature of Hg in K is\",Tc2);\n"
     ],
     "language": "python",
     "metadata": {},
     "outputs": [
      {
       "output_type": "stream",
       "stream": "stdout",
       "text": [
        "('critical temperature of Hg in K is', 4.144685)\n"
       ]
      }
     ],
     "prompt_number": 3
    },
    {
     "cell_type": "heading",
     "level": 2,
     "metadata": {},
     "source": [
      "Example number 12.4, Page number 357"
     ]
    },
    {
     "cell_type": "code",
     "collapsed": false,
     "input": [
      "\n",
      "\n",
      "#importing modules\n",
      "import math\n",
      "\n",
      "#Variable declaration\n",
      "d=1;    #diameter of wire in mm\n",
      "T=4.2;       #temperature in K\n",
      "Tc=7.18;   #critical temperature in K\n",
      "H0=6.5*10**4;   #magnetic field\n",
      "\n",
      "#Calculation\n",
      "d=d*10**-3;     #diameter in m\n",
      "R=d/2;\n",
      "Hc=H0*(1-(T**2/Tc**2));\n",
      "HC=Hc/10**4;\n",
      "HC=math.ceil(HC*10**3)/10**3;   #rounding off to 2 decimals\n",
      "Ic=2*math.pi*R*Hc;\n",
      "Ic=math.ceil(Ic*10**2)/10**2;   #rounding off to 2 decimals\n",
      "A=math.pi*R**2;\n",
      "J=Ic/A;\n",
      "J=J/10**8;\n",
      "J=math.ceil(J*10**5)/10**5;   #rounding off to 5 decimals\n",
      "\n",
      "#Result\n",
      "print(\"critical magnetic field at 4.2K in A/m is\",HC,\"*10**4\");\n",
      "print(\"critical current in A is\",Ic);\n",
      "print(\"critical current density in A/m^2 is\",J,\"*10**8\");"
     ],
     "language": "python",
     "metadata": {},
     "outputs": [
      {
       "output_type": "stream",
       "stream": "stdout",
       "text": [
        "('critical magnetic field at 4.2K in A/m is', 4.276, '*10**4')\n",
        "('critical current in A is', 134.33)\n",
        "('critical current density in A/m^2 is', 1.71035, '*10**8')\n"
       ]
      }
     ],
     "prompt_number": 15
    },
    {
     "cell_type": "heading",
     "level": 2,
     "metadata": {},
     "source": [
      "Example number 12.5, Page number 358"
     ]
    },
    {
     "cell_type": "code",
     "collapsed": false,
     "input": [
      "\n",
      "#importing modules\n",
      "import math\n",
      "\n",
      "#Variable declaration\n",
      "e=1.6*10**-19;\n",
      "h=6.626*10**-34;\n",
      "V=6;    #voltage applied in micro volts\n",
      "\n",
      "#Calculation\n",
      "V=V*10**-6;    #converting micro volts to volts\n",
      "new=(2*e*V)/h;\n",
      "new=new/10**9;\n",
      "new=math.ceil(new*10**4)/10**4;   #rounding off to 4 decimals\n",
      "\n",
      "#Result\n",
      "print(\"frequency of ac signal in Hz is\",new,\"*10**9\");"
     ],
     "language": "python",
     "metadata": {},
     "outputs": [
      {
       "output_type": "stream",
       "stream": "stdout",
       "text": [
        "('frequency of ac signal in Hz is', 2.8977, '*10**9')\n"
       ]
      }
     ],
     "prompt_number": 16
    },
    {
     "cell_type": "heading",
     "level": 2,
     "metadata": {},
     "source": [
      "Example number 12.6, Page number 358"
     ]
    },
    {
     "cell_type": "code",
     "collapsed": false,
     "input": [
      "\n",
      "\n",
      "#importing modules\n",
      "import math\n",
      "\n",
      "#Variable declaration\n",
      "Kb=1.38*10**-23;\n",
      "Tc=7.19;    #critical temperature in K\n",
      "\n",
      "#Calculation\n",
      "Eg=3.5*Kb*Tc;\n",
      "Eg=Eg/(1.6*10**-19);    #converting J to eV\n",
      "Eg=Eg*10**3;    #converting eV into milli eV\n",
      "Eg=math.ceil(Eg*10**3)/10**3;   #rounding off to 3 decimals\n",
      "\n",
      "#Result\n",
      "print(\"band gap of superconducting lead in meV is\",Eg);"
     ],
     "language": "python",
     "metadata": {},
     "outputs": [
      {
       "output_type": "stream",
       "stream": "stdout",
       "text": [
        "('band gap of superconducting lead in meV is', 2.171)\n"
       ]
      }
     ],
     "prompt_number": 17
    },
    {
     "cell_type": "code",
     "collapsed": false,
     "input": [],
     "language": "python",
     "metadata": {},
     "outputs": []
    }
   ],
   "metadata": {}
  }
 ]
}