{
 "metadata": {
  "name": "",
  "signature": "sha256:6c9d1e462fb51d212d5e8b8f597a34ef40452b9332c91d54e15e6a4dccd85074"
 },
 "nbformat": 3,
 "nbformat_minor": 0,
 "worksheets": [
  {
   "cells": [
    {
     "cell_type": "heading",
     "level": 1,
     "metadata": {},
     "source": [
      "Dielectric materials"
     ]
    },
    {
     "cell_type": "heading",
     "level": 2,
     "metadata": {},
     "source": [
      "Example number 11.1, Page number 335"
     ]
    },
    {
     "cell_type": "code",
     "collapsed": false,
     "input": [
      "\n",
      "#importing modules\n",
      "import math\n",
      "\n",
      "#Variable declaration\n",
      "epsilon_0=8.854*10**-12;\n",
      "A=10*10*10**-6;    #area of capacitor in m^2\n",
      "d=2*10**-3;     #distance of seperation in m\n",
      "C=10**-9;      #capacitance in F\n",
      "\n",
      "#Calculation\n",
      "epsilon_r=(C*d)/(epsilon_0*A);\n",
      "epsilon_r=math.ceil(epsilon_r*10**2)/10**2;   #rounding off to 2 decimals\n",
      "\n",
      "#Result\n",
      "print(\"dielectric constant of material is\",epsilon_r);\n"
     ],
     "language": "python",
     "metadata": {},
     "outputs": [
      {
       "output_type": "stream",
       "stream": "stdout",
       "text": [
        "('dielectric constant of material is', 2258.87)\n"
       ]
      }
     ],
     "prompt_number": 1
    },
    {
     "cell_type": "heading",
     "level": 2,
     "metadata": {},
     "source": [
      "Example number 11.2, Page number 335"
     ]
    },
    {
     "cell_type": "code",
     "collapsed": false,
     "input": [
      "\n",
      "#Variable declaration\n",
      "epsilon_0=8.854*10**-12;\n",
      "epsilon_r=1.0000684;     #dielectric constant of He gas\n",
      "N=2.7*10**25;    #concentration of dipoles per m^3\n",
      "\n",
      "#Calculation\n",
      "#alpha_e=P/(N*E) and P=epsilon_0(epsilon_r-1)*E\n",
      "#therefore alpha_e=epsilon_0(epsilon_r-1)/N\n",
      "alpha_e=(epsilon_0*(epsilon_r-1))/N;\n",
      "\n",
      "#Result\n",
      "print(\"electronic polarizability of He gas in Fm^2 is\",alpha_e);\n"
     ],
     "language": "python",
     "metadata": {},
     "outputs": [
      {
       "output_type": "stream",
       "stream": "stdout",
       "text": [
        "('electronic polarizability of He gas in Fm^2 is', 2.2430133333322991e-41)\n"
       ]
      }
     ],
     "prompt_number": 2
    },
    {
     "cell_type": "heading",
     "level": 2,
     "metadata": {},
     "source": [
      "Example number 11.3, Page number 336"
     ]
    },
    {
     "cell_type": "code",
     "collapsed": false,
     "input": [
      "\n",
      "#Variable declaration\n",
      "epsilon_0=8.854*10**-12;\n",
      "epsilon_r=6;  #dielectric constant\n",
      "E=100;    #electric field intensity in V/m\n",
      "\n",
      "#Calculation\n",
      "P=epsilon_0*(epsilon_r-1)*E;\n",
      "\n",
      "#Result\n",
      "print(\"polarization in C/m^2 is\",P);\n"
     ],
     "language": "python",
     "metadata": {},
     "outputs": [
      {
       "output_type": "stream",
       "stream": "stdout",
       "text": [
        "('polarization in C/m^2 is', 4.426999999999999e-09)\n"
       ]
      }
     ],
     "prompt_number": 3
    },
    {
     "cell_type": "heading",
     "level": 2,
     "metadata": {},
     "source": [
      "Example number 11.4, Page number 336"
     ]
    },
    {
     "cell_type": "code",
     "collapsed": false,
     "input": [
      "\n",
      "#importing modules\n",
      "import math\n",
      "\n",
      "#Variable declaration\n",
      "epsilon_0=8.854*10**-12;\n",
      "R=0.158;    #radius of Ne in nm\n",
      "\n",
      "#Calculation\n",
      "R=R*10**-9;      #converting nm to m\n",
      "alpha_e=4*math.pi*epsilon_0*R**3;\n",
      "\n",
      "#Result\n",
      "print(\"electronic polarizability in Fm^2 is\",alpha_e);\n"
     ],
     "language": "python",
     "metadata": {},
     "outputs": [
      {
       "output_type": "stream",
       "stream": "stdout",
       "text": [
        "('electronic polarizability in Fm^2 is', 4.3885458748002144e-40)\n"
       ]
      }
     ],
     "prompt_number": 5
    },
    {
     "cell_type": "heading",
     "level": 2,
     "metadata": {},
     "source": [
      "Example number 11.5, Page number 336"
     ]
    },
    {
     "cell_type": "code",
     "collapsed": false,
     "input": [
      "\n",
      "\n",
      "#importing modules\n",
      "import math\n",
      "\n",
      "#Variable declaration\n",
      "epsilon_0=8.854*10**-12;\n",
      "C=0.02;      #capacitance in micro farad\n",
      "epsilon_r=6;  #dielectric constant\n",
      "t=0.002;     #thickness of mica in cm\n",
      "d=0.002;    #thickness of metal sheet in cm\n",
      "\n",
      "#Calculation\n",
      "C=C*10**-6;    #converting micro farad to farad\n",
      "d=d*10**-2;    #converting cm to m\n",
      "A=(C*d)/(epsilon_0*epsilon_r);\n",
      "A=A*10**3;\n",
      "A=math.ceil(A*10**4)/10**4;   #rounding off to 4 decimals\n",
      "A1=A*10;    #converting m**2 to cm**2\n",
      "A1=math.ceil(A1*10**3)/10**3;   #rounding off to 3 decimals\n",
      "\n",
      "#Result\n",
      "print(\"area of metal sheet in m^2 is\",A,\"*10**-3\");\n",
      "print(\"area of metal sheet in cm^2 is\",A1);"
     ],
     "language": "python",
     "metadata": {},
     "outputs": [
      {
       "output_type": "stream",
       "stream": "stdout",
       "text": [
        "('area of metal sheet in m^2 is', 7.5296, '*10**-3')\n",
        "('area of metal sheet in cm^2 is', 75.296)\n"
       ]
      }
     ],
     "prompt_number": 9
    },
    {
     "cell_type": "heading",
     "level": 2,
     "metadata": {},
     "source": [
      "Example number 11.6, Page number 336"
     ]
    },
    {
     "cell_type": "code",
     "collapsed": false,
     "input": [
      "\n",
      "#importing modules\n",
      "import math\n",
      "\n",
      "#Variable declaration\n",
      "epsilon_0=8.854*10**-12;\n",
      "E=1000;     #electric field in V/m\n",
      "P=4.3*10**-8;     #polarization in C/m^2\n",
      "\n",
      "#Calculation\n",
      "epsilon_r=(P/(E*epsilon_0)+1);\n",
      "epsilon_r=math.ceil(epsilon_r*10**4)/10**4;   #rounding off to 4 decimals\n",
      "\n",
      "#Result\n",
      "print(\"dielectric constant is\",epsilon_r);\n"
     ],
     "language": "python",
     "metadata": {},
     "outputs": [
      {
       "output_type": "stream",
       "stream": "stdout",
       "text": [
        "('dielectric constant is', 5.8566)\n"
       ]
      }
     ],
     "prompt_number": 10
    },
    {
     "cell_type": "heading",
     "level": 2,
     "metadata": {},
     "source": [
      "Example number 11.7, Page number 337"
     ]
    },
    {
     "cell_type": "code",
     "collapsed": false,
     "input": [
      "\n",
      "#Variable declaration\n",
      "epsilon_0=8.854*10**-12;\n",
      "chi=4.94;    #relative susceptibility\n",
      "N=10**28;     #number of dipoles per m^3\n",
      "\n",
      "#Calculation\n",
      "#polarisation P=N*alpha*E and P=epsilon_0*chi*E. equate the two equations\n",
      "#epsilon_0*chi*E=N*alpha*E\n",
      "alpha=(epsilon_0*chi)/N;\n",
      "\n",
      "#Result\n",
      "print(\"polarisability of material in F/m^2 is\",alpha);\n"
     ],
     "language": "python",
     "metadata": {},
     "outputs": [
      {
       "output_type": "stream",
       "stream": "stdout",
       "text": [
        "('polarisability of material in F/m^2 is', 4.373876e-39)\n"
       ]
      }
     ],
     "prompt_number": 11
    },
    {
     "cell_type": "code",
     "collapsed": false,
     "input": [],
     "language": "python",
     "metadata": {},
     "outputs": []
    }
   ],
   "metadata": {}
  }
 ]
}