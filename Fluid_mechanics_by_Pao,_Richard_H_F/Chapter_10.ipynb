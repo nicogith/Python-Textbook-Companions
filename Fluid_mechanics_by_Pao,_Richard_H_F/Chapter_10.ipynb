{
 "metadata": {
  "name": "",
  "signature": "sha256:8ebaaa4d9fc694c6b4303418dc1faf3eef2d83f1637b122e018c6c5eac0aba66"
 },
 "nbformat": 3,
 "nbformat_minor": 0,
 "worksheets": [
  {
   "cells": [
    {
     "cell_type": "heading",
     "level": 1,
     "metadata": {},
     "source": [
      "Chapter 10 - Dynamic lift"
     ]
    },
    {
     "cell_type": "heading",
     "level": 2,
     "metadata": {},
     "source": [
      "Example 2a - Pg 427"
     ]
    },
    {
     "cell_type": "code",
     "collapsed": false,
     "input": [
      "#calculate the max. theoretical propulsive force\n",
      "#Initialization of variables\n",
      "import math\n",
      "vel=50. #mph\n",
      "w=240. #rpm\n",
      "r0=3. #ft\n",
      "L=30. #ft\n",
      "rho=0.00230 #slug/ft^2\n",
      "theta=30*math.pi/180. #radians\n",
      "#calculations\n",
      "V=vel*5280./3600.\n",
      "T=2*math.pi*r0*r0 *w*2*math.pi/60.\n",
      "Fl=rho*V*T*L\n",
      "F=r0*Fl*math.cos(theta)\n",
      "#results\n",
      "print '%s %d %s' %(\"Max. theoretical porpulsive force =\",F,\"lb\")\n",
      "print '%s' %(\"The answers are a bit different from textbook due to rounding off error\")"
     ],
     "language": "python",
     "metadata": {},
     "outputs": [
      {
       "output_type": "stream",
       "stream": "stdout",
       "text": [
        "Max. theoretical porpulsive force = 18683 lb\n",
        "The answers are a bit different from textbook due to rounding off error\n"
       ]
      }
     ],
     "prompt_number": 1
    },
    {
     "cell_type": "heading",
     "level": 2,
     "metadata": {},
     "source": [
      "Example 2b - Pg 428"
     ]
    },
    {
     "cell_type": "code",
     "collapsed": false,
     "input": [
      "#calculate the force required for the operation\n",
      "#Initialization of variables\n",
      "import math\n",
      "vel=50. #mph\n",
      "w=240. #rpm\n",
      "r0=3. #ft\n",
      "L=30. #ft\n",
      "rho=0.00230 #slug/ft^2\n",
      "theta=30*math.pi/180. #radians\n",
      "Cl=2\n",
      "Cd=1\n",
      "#calculations\n",
      "vc=r0*w\n",
      "V=vel*5280./3600.\n",
      "vr=vc/V\n",
      "A=2*r0*L\n",
      "Fl=Cl*A*0.5*rho*V*V \n",
      "Fd=Cd*A*0.5*rho*V*V\n",
      "F=r0*(Fl*math.cos(theta) + Fd*math.sin(theta))\n",
      "#results\n",
      "print '%s %d %s' %(\"Force required =\",F,\"lb\")\n",
      "print '%s' %(\"The answers are a bit different from textbook due to rounding off error\")"
     ],
     "language": "python",
     "metadata": {},
     "outputs": [
      {
       "output_type": "stream",
       "stream": "stdout",
       "text": [
        "Force required = 7454 lb\n",
        "The answers are a bit different from textbook due to rounding off error\n"
       ]
      }
     ],
     "prompt_number": 2
    },
    {
     "cell_type": "heading",
     "level": 2,
     "metadata": {},
     "source": [
      "Example 3a - Pg 432"
     ]
    },
    {
     "cell_type": "code",
     "collapsed": false,
     "input": [
      "#calculate the boundary circulation\n",
      "#Initialization of variables\n",
      "W=7500 #pounds\n",
      "rho=0.00230\n",
      "V=175*5280/3600 #ft/s\n",
      "B=50\n",
      "#calculations\n",
      "T=W/(rho*V*B)\n",
      "#results\n",
      "print '%s %d %s' %(\"Boundary circulation =\",T,\"ft^2/s\")\n"
     ],
     "language": "python",
     "metadata": {},
     "outputs": [
      {
       "output_type": "stream",
       "stream": "stdout",
       "text": [
        "Boundary circulation = 254 ft^2/s\n"
       ]
      }
     ],
     "prompt_number": 4
    },
    {
     "cell_type": "heading",
     "level": 2,
     "metadata": {},
     "source": [
      "Example 3b - Pg 433"
     ]
    },
    {
     "cell_type": "code",
     "collapsed": false,
     "input": [
      "#calculate the horsepower required for the operation\n",
      "#Initialization of variables\n",
      "W=7500. #pounds\n",
      "rho=0.00230\n",
      "V=175*5280./3600. #ft/s\n",
      "B=50.\n",
      "A=350. #ft^2\n",
      "#calculations\n",
      "Cl=W/(A*0.5*rho*V*V)\n",
      "Cd=0.03\n",
      "Fd=Cd*A*0.5*rho*V*V \n",
      "hp=Fd*V/550.\n",
      "#results\n",
      "print '%s %d %s' %(\"Horsepower required =\",hp,\"hp\")"
     ],
     "language": "python",
     "metadata": {},
     "outputs": [
      {
       "output_type": "stream",
       "stream": "stdout",
       "text": [
        "Horsepower required = 371 hp\n"
       ]
      }
     ],
     "prompt_number": 5
    },
    {
     "cell_type": "heading",
     "level": 2,
     "metadata": {},
     "source": [
      "Example 4 - Pg 437"
     ]
    },
    {
     "cell_type": "code",
     "collapsed": false,
     "input": [
      "#calculate the horsepower required for the operation\n",
      "#Initialization of variables\n",
      "import math\n",
      "Fl=7500. #pounds\n",
      "rho=0.00230\n",
      "V=175*5280./3600. #ft/s\n",
      "B=50\n",
      "A=350 #ft^2\n",
      "#calculations\n",
      "Vi=2*Fl/(math.pi*rho*V*B*B)\n",
      "Cl=Fl/(A*0.5*rho*V*V)\n",
      "Cdi=Cl*Vi/(V)\n",
      "Fdi=Cdi*A*0.5*rho*V*V\n",
      "hp=Fdi*V/550\n",
      "#results\n",
      "print '%s %.1f %s' %(\"Horsepower required =\",hp,\"hp\")"
     ],
     "language": "python",
     "metadata": {},
     "outputs": [
      {
       "output_type": "stream",
       "stream": "stdout",
       "text": [
        "Horsepower required = 44.1 hp\n"
       ]
      }
     ],
     "prompt_number": 6
    }
   ],
   "metadata": {}
  }
 ]
}