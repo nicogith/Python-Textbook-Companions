{
 "cells": [
  {
   "cell_type": "markdown",
   "metadata": {},
   "source": [
    "# Chapter 8 Friction"
   ]
  },
  {
   "cell_type": "markdown",
   "metadata": {},
   "source": [
    "## Ex 8.1 Page No 305"
   ]
  },
  {
   "cell_type": "code",
   "execution_count": 4,
   "metadata": {
    "collapsed": false
   },
   "outputs": [
    {
     "name": "stdout",
     "output_type": "stream",
     "text": [
      "F =  69.3 N\n",
      "NC =  236.2 N\n",
      "x =  -9.08 mm\n"
     ]
    }
   ],
   "source": [
    "# Example 8.1\n",
    "import math\n",
    "\n",
    "# Variable Declaration\n",
    "P = 80  #[Newton]\n",
    "\n",
    "# Calculation\n",
    "# Using +ΣF_x(right) = 0+ΣMO(counterclockwise) = 0\n",
    "F = round(80*math.cos(math.pi*30/180),1)  #[Newton]\n",
    "\n",
    "# Using +ΣF_y(upward) = 0\n",
    "NC = round(80*math.sin(math.pi*30/180)+196.2,1)  #[Newton]\n",
    "\n",
    "# Using +ΣMO(counterclockwise) = 0\n",
    "x = (80*math.cos(math.pi*30/180)*0.2-80*math.sin(math.pi*30/180)*0.4)/NC  #[meter]\n",
    "\n",
    "# Result\n",
    "print\"F = \",(F),\"N\"\n",
    "print\"NC = \",(NC),\"N\"\n",
    "print\"x = \",(round(x*1000,2)),\"mm\"\n"
   ]
  },
  {
   "cell_type": "markdown",
   "metadata": {},
   "source": [
    "## Ex 8.2 Page No 306"
   ]
  },
  {
   "cell_type": "code",
   "execution_count": 6,
   "metadata": {
    "collapsed": false
   },
   "outputs": [
    {
     "name": "stdout",
     "output_type": "stream",
     "text": [
      "us =  0.466\n"
     ]
    }
   ],
   "source": [
    "# Ex 8.2\n",
    "import math\n",
    "\n",
    "# Calculation\n",
    "# W*sin25 = us(W*cos25)\n",
    "us = round(math.tan(math.pi*25/180),3)\n",
    "\n",
    "# Result\n",
    "print\"us = \",(us)\n"
   ]
  },
  {
   "cell_type": "markdown",
   "metadata": {},
   "source": [
    "## Ex 8.3 Page No 307"
   ]
  },
  {
   "cell_type": "code",
   "execution_count": 10,
   "metadata": {
    "collapsed": false
   },
   "outputs": [
    {
     "name": "stdout",
     "output_type": "stream",
     "text": [
      "us =  0.228\n"
     ]
    }
   ],
   "source": [
    "# Ex 8.3\n",
    "import numpy as np\n",
    "\n",
    "# Calculation\n",
    "coeff = [1, -4.619, 1]\n",
    "us = np.roots(coeff)\n",
    "\n",
    "# Result\n",
    "# Finding the smallest root\n",
    "print\"us = \",(round(min(us),3))"
   ]
  },
  {
   "cell_type": "markdown",
   "metadata": {},
   "source": [
    "## Ex 8.4 Page No 308"
   ]
  },
  {
   "cell_type": "code",
   "execution_count": 14,
   "metadata": {
    "collapsed": false
   },
   "outputs": [
    {
     "name": "stdout",
     "output_type": "stream",
     "text": [
      "us_min =  0.268\n",
      "ug_min =  0.0893\n"
     ]
    }
   ],
   "source": [
    "# Ex 8.4\n",
    "import math\n",
    "\n",
    "# Calculation\n",
    "# Using +ΣF_x(right) = 0,FA = F and NA = N for bottom pipe\n",
    "# us_min = F/N\n",
    "us_min = round(math.sin(math.pi*30/180)/(1+math.cos(math.pi*30/180)),3)\n",
    "# Let smallest required coefficient of static friction be ug_min\n",
    "# ug_min = F/NC\n",
    "ug_min = round(0.2679*0.5/1.5,4)\n",
    "\n",
    "# Result\n",
    "print\"us_min = \",(us_min)\n",
    "print\"ug_min = \",(ug_min)"
   ]
  },
  {
   "cell_type": "markdown",
   "metadata": {},
   "source": [
    "## Ex 8.5 Page No 309"
   ]
  },
  {
   "cell_type": "code",
   "execution_count": 1,
   "metadata": {
    "collapsed": false
   },
   "outputs": [
    {
     "name": "stdout",
     "output_type": "stream",
     "text": [
      "P =  266.7 N\n",
      "NC =  400 N\n",
      "FC =  200.0 N\n",
      "FB =  66.7 N\n"
     ]
    }
   ],
   "source": [
    "# Ex 8.5\n",
    "import numpy as np\n",
    "\n",
    "# Variable Declaration\n",
    "uB = 0.2\n",
    "uC = 0.5\n",
    "\n",
    "# Calculation\n",
    "# Post slips only at B\n",
    "# FB = uB*NB\n",
    "FB = uB*400  #[Newton]\n",
    "# Using +ΣMC(counterclockwise) = 0\n",
    "P = FB/0.25  #[Newton]\n",
    "# Using +ΣF_y(upward) = 0\n",
    "NC = 400  #[Newton]\n",
    "# Using +ΣF_x(right) = 0\n",
    "FC = P-FB  #[Newton]\n",
    "\n",
    "# Post slips only at C\n",
    "FC = uC*NC  #[Newton]\n",
    "# Using +ΣF_x(right) = 0 and # Using +ΣMC(counterclockwise) = 0\n",
    "a = np.array([[1,-1],[-0.25,1]])\n",
    "b = np.array([200,0])\n",
    "x = np.linalg.solve(a, b)\n",
    "P = round(x[0],1)  #[Newton]\n",
    "FB = round(x[1],1)  #[Newton]\n",
    "\n",
    "# Result\n",
    "print\"P = \",(P),\"N\"\n",
    "print\"NC = \",(NC),\"N\"\n",
    "print\"FC = \",(FC),\"N\"\n",
    "print\"FB = \",(FB),\"N\""
   ]
  },
  {
   "cell_type": "markdown",
   "metadata": {
    "collapsed": true
   },
   "source": [
    "## Ex 8.6 Page No 310"
   ]
  },
  {
   "cell_type": "code",
   "execution_count": 6,
   "metadata": {
    "collapsed": false
   },
   "outputs": [
    {
     "name": "stdout",
     "output_type": "stream",
     "text": [
      "NA =  1084.5 N\n",
      "FA =  162.7 N\n",
      "FB =  162.7 N\n",
      "P =  498.2 N\n"
     ]
    }
   ],
   "source": [
    "# Ex 8.6\n",
    "import math\n",
    "import numpy as np\n",
    "\n",
    "# Variable Declaration\n",
    "usA = 0.15\n",
    "usB = 0.4\n",
    "\n",
    "# Calculation\n",
    "\n",
    "# Pipe rolls up incline\n",
    "# Using +ΣF_x(right) = 0, +ΣMO(counterclockwise) = 0 and FB = 0.4*P\n",
    "a = np.array([[-1,1],[-400,0.4*400]])\n",
    "b = np.array([981*math.sin(math.pi*20/180),0])\n",
    "x = np.linalg.solve(a, b)\n",
    "FA = round(x[0],1)  #[Newton]\n",
    "P = round(x[1],1)  #[Newton]\n",
    "FB = FA  #[Newton]\n",
    "NA = round(FB+981*math.cos(math.pi*20/180),1)  #[Newton]\n",
    "P = round(981*math.sin(math.pi*20/180)+FA,1)  #[Newton]\n",
    "\n",
    "# Pipe slides up incline\n",
    "# Using +ΣMO(counterclockwise) = 0 and FA = 0.15*NA\n",
    "a = np.array([[-0.15*400,400],[1,-1]])\n",
    "b = np.array([0,981*math.cos(math.pi*20/180)])\n",
    "x = np.linalg.solve(a, b)\n",
    "NA = round(x[0],1)  #[Newton]\n",
    "FB = round(x[1],1)  #[Newton]\n",
    "FA = FB  #[Newton]\n",
    "P = round(FA+981*math.sin(math.pi*20/180),1)  #[Newton]\n",
    "\n",
    "# Result\n",
    "print\"NA = \",(NA),\"N\"\n",
    "print\"FA = \",(FA),\"N\"\n",
    "print\"FB = \",(FB),\"N\"\n",
    "print\"P = \",(P),\"N\"\n"
   ]
  },
  {
   "cell_type": "markdown",
   "metadata": {},
   "source": [
    "## Ex 8.8 Page No 319"
   ]
  },
  {
   "cell_type": "code",
   "execution_count": 14,
   "metadata": {
    "collapsed": false
   },
   "outputs": [
    {
     "name": "stdout",
     "output_type": "stream",
     "text": [
      "M =  6.38 N.m\n"
     ]
    }
   ],
   "source": [
    "# Ex 8.8\n",
    "import math\n",
    "from __future__ import division\n",
    "\n",
    "# Variable Declaration\n",
    "us = 0.25\n",
    "W = 2000  #[Newton]\n",
    "r = 5  #[millimeter]\n",
    "\n",
    "# Calculation\n",
    "phi_s = round(math.degrees(math.atan(us)),2)\n",
    "theta = round(math.degrees(math.atan(2/(2*math.pi*5))),2)\n",
    "M = 2*W*r*math.tan(math.pi*(phi_s+theta)/180)  #[Newton millimeter]\n",
    "\n",
    "# Result\n",
    "print\"M = \",round(M/1000,2),\"N.m\"\n"
   ]
  },
  {
   "cell_type": "markdown",
   "metadata": {
    "collapsed": true
   },
   "source": [
    "## Ex 8.9 Page No 324"
   ]
  },
  {
   "cell_type": "code",
   "execution_count": 2,
   "metadata": {
    "collapsed": false
   },
   "outputs": [
    {
     "name": "stdout",
     "output_type": "stream",
     "text": [
      "m =  15.7 kg\n"
     ]
    }
   ],
   "source": [
    "# Ex 8.9\n",
    "import math\n",
    "from __future__ import division\n",
    "\n",
    "# Variable Declaration\n",
    "us = 0.25\n",
    "\n",
    "# Calculation\n",
    "T1 = round(500/(math.exp(us*(3/4)*math.pi)),1)\n",
    "W = round(T1/(math.exp(us*(3/4)*math.pi)),1)\n",
    "m = round(W/9.81,1)\n",
    "\n",
    "# Result\n",
    "print\"m = \",(m),\"kg\""
   ]
  },
  {
   "cell_type": "code",
   "execution_count": null,
   "metadata": {
    "collapsed": true
   },
   "outputs": [],
   "source": []
  }
 ],
 "metadata": {
  "anaconda-cloud": {},
  "kernelspec": {
   "display_name": "Python [default]",
   "language": "python",
   "name": "python2"
  },
  "language_info": {
   "codemirror_mode": {
    "name": "ipython",
    "version": 2
   },
   "file_extension": ".py",
   "mimetype": "text/x-python",
   "name": "python",
   "nbconvert_exporter": "python",
   "pygments_lexer": "ipython2",
   "version": "2.7.12"
  }
 },
 "nbformat": 4,
 "nbformat_minor": 1
}
