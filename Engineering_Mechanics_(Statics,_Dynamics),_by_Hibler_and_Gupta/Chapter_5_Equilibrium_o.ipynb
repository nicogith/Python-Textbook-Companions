{
 "cells": [
  {
   "cell_type": "markdown",
   "metadata": {},
   "source": [
    "# Chapter 5 Equilibrium of a Rigid Body"
   ]
  },
  {
   "cell_type": "markdown",
   "metadata": {},
   "source": [
    "## Ex 5.6 Page No 174 "
   ]
  },
  {
   "cell_type": "code",
   "execution_count": 5,
   "metadata": {
    "collapsed": false
   },
   "outputs": [
    {
     "name": "stdout",
     "output_type": "stream",
     "text": [
      "B_x =  424.3 N\n",
      "A_y =  319.5 N\n",
      "B_y =  405.3 N\n"
     ]
    }
   ],
   "source": [
    "# Example 5.6\n",
    "import math\n",
    "\n",
    "# Calculation\n",
    "# Summing forces in the x direction +ΣF_x(right) = 0\n",
    "B_x = round(600*math.cos(math.pi*45/180),1)  #[Newton]\n",
    "\n",
    "# Refer Fig 5-14b we have +ΣMB(counterclockwise) = 0\n",
    "A_y = round((100*2+600*math.sin(math.pi*45/180)*5-600*math.cos(math.pi*45/180)*0.2)/7,1)   #[Newton]\n",
    "\n",
    "# Summing forces in y direction +ΣF_y(upward) = 0\n",
    "B_y = round(-319+600*math.sin(math.pi*45/180)+100+200,1)   #[Newton]\n",
    "\n",
    "# Result\n",
    "print\"B_x = \",(B_x),\"N\"\n",
    "print\"A_y = \",(A_y),\"N\"\n",
    "print\"B_y = \",(B_y),\"N\"\n"
   ]
  },
  {
   "cell_type": "markdown",
   "metadata": {},
   "source": [
    "## Ex 5.7 Page No 175"
   ]
  },
  {
   "cell_type": "code",
   "execution_count": 1,
   "metadata": {
    "collapsed": false
   },
   "outputs": [
    {
     "name": "stdout",
     "output_type": "stream",
     "text": [
      "T =  100.0 N\n",
      "A_x =  50.0 N\n",
      "A_y =  186.6 N\n"
     ]
    }
   ],
   "source": [
    "# Example 5.7\n",
    "import math\n",
    "from __future__ import division\n",
    "\n",
    "# Variable Declaration\n",
    "F = 100  #[Newton]\n",
    "\n",
    "# Calculation\n",
    "# Summing moments about point A to eliminate A_x and A_y Refer Fig 5-15c\n",
    "# +ΣMA(counterclockwise) = 0\n",
    "T = round((F*0.5)/0.5,1)   #[Newton]\n",
    "\n",
    "# Using result of T a force summation is applied to determine the components of reaction at pin A\n",
    "# +ΣF_x(right) = 0\n",
    "A_x = round(F*math.sin(math.pi*30/180),1)   #[Newton]\n",
    "\n",
    "# +ΣF_y(upward) = 0\n",
    "A_y = round(F+F*math.cos(math.pi*30/180),1)   #[Newton]\n",
    "                      \n",
    "# Result\n",
    "print\"T = \",(T),\"N\"\n",
    "print\"A_x = \",(A_x),\"N\"\n",
    "print\"A_y = \",(A_y),\"N\"\n",
    "                       "
   ]
  },
  {
   "cell_type": "markdown",
   "metadata": {},
   "source": [
    "## Ex 5.8 Page No 176"
   ]
  },
  {
   "cell_type": "code",
   "execution_count": 13,
   "metadata": {
    "collapsed": false
   },
   "outputs": [
    {
     "name": "stdout",
     "output_type": "stream",
     "text": [
      "A_x =  100.0 N\n",
      "A_y =  233.2 N\n"
     ]
    }
   ],
   "source": [
    "# Example 5.8\n",
    "import math\n",
    "\n",
    "# Calculation\n",
    "# Summing moments about A, we obtain direct solution for NB\n",
    "# +ΣMA(counterclockwise) = 0\n",
    "NB = (90+60)/0.75   #[Newton]\n",
    "\n",
    "# +ΣF_x(right) = 0\n",
    "A_x = round(NB*math.sin(math.pi*30/180),1)   #[Newton]\n",
    "\n",
    "# +ΣF_y(upward) = 0\n",
    "A_y = round(NB*math.cos(math.pi*30/180)+60,1)   #[Newton]\n",
    "\n",
    "# Result\n",
    "print\"A_x = \",(A_x),\"N\"\n",
    "print\"A_y = \",(A_y),\"N\""
   ]
  },
  {
   "cell_type": "markdown",
   "metadata": {},
   "source": [
    "## Ex 5.9 Page No 177"
   ]
  },
  {
   "cell_type": "code",
   "execution_count": 14,
   "metadata": {
    "collapsed": false
   },
   "outputs": [
    {
     "name": "stdout",
     "output_type": "stream",
     "text": [
      "A_x =  5.0 N\n",
      "A_y =  74.0 N\n",
      "MA =  32.6 N.m\n",
      "FA =  74.2 N\n"
     ]
    }
   ],
   "source": [
    "# Example 5.9\n",
    "import math\n",
    "from __future__ import division\n",
    "\n",
    "# Calculation\n",
    "# +ΣF_x(right) = 0\n",
    "A_x = round(52*(5/13)-30*math.cos(math.pi*60/180),1)  #[Newton]\n",
    "# +ΣF_y(upward) = 0\n",
    "A_y = round(52*(12/13)+30*math.sin(math.pi*60/180),1)  #[Newton]\n",
    "# +ΣMA(counterclockwise) = 0\n",
    "MA = round(52*(12/13)*0.3+30*math.sin(math.pi*60/180)*0.7,1)  #[Newton meter]\n",
    "FA = round(math.sqrt(A_x**(2)+A_y**(2)),1)  #[Newton]\n",
    "theta = math.degrees(math.atan(A_y/A_x))  #[degrees]\n",
    "\n",
    "# Result\n",
    "print\"A_x = \",(A_x),\"N\"\n",
    "print\"A_y = \",(A_y),\"N\"\n",
    "print\"MA = \",(MA),\"N.m\"\n",
    "print\"FA = \",(FA),\"N\"\n"
   ]
  },
  {
   "cell_type": "markdown",
   "metadata": {},
   "source": [
    "## Ex 5.10 Page No 178"
   ]
  },
  {
   "cell_type": "code",
   "execution_count": 1,
   "metadata": {
    "collapsed": false
   },
   "outputs": [
    {
     "name": "stdout",
     "output_type": "stream",
     "text": [
      "C_y_dash =  1.3464 kN\n",
      "B_y_dash =  -1.0 kN\n",
      "A_x =  173.2 Nnn\n"
     ]
    }
   ],
   "source": [
    "# Example 5.10\n",
    "import math\n",
    "import numpy as np\n",
    "\n",
    "# Calculation\n",
    "# Refer Fig 5-18b\n",
    "# Using +ΣF_y(upward) = 0 and +ΣMA(counterclockwise) = 0\n",
    "a = np.array([[math.cos(math.pi*30/180),math.cos(math.pi*30/180)], [6,2]])\n",
    "b = np.array([300,4000+300*math.cos(math.pi*30/180)*8])\n",
    "x = np.linalg.solve(a, b)\n",
    "C_y_dash = round(x[0],1)  #[Newton]\n",
    "B_y_dash = round(x[1],1)  #[Newton]\n",
    "\n",
    "# Using +ΣF_x(right) = 0\n",
    "A_x = round(C_y_dash*math.sin(math.pi*30/180)+B_y_dash*math.sin(math.pi*30/180),1)  #[Newton]\n",
    "\n",
    "# Result\n",
    "print\"C_y_dash = \",(C_y_dash/1000),\"kN\"\n",
    "print\"B_y_dash = \",(B_y_dash/1000),\"kN\"\n",
    "print\"A_x = \",(A_x),\"N\""
   ]
  },
  {
   "cell_type": "markdown",
   "metadata": {
    "collapsed": true
   },
   "source": [
    "## Ex 5.11 Page No 181"
   ]
  },
  {
   "cell_type": "code",
   "execution_count": 5,
   "metadata": {
    "collapsed": false
   },
   "outputs": [
    {
     "name": "stdout",
     "output_type": "stream",
     "text": [
      "theta =  60.3 degrees\n",
      "FA =  1.07 kN\n",
      "F =  1.32 kN\n"
     ]
    }
   ],
   "source": [
    "# Example 5.11\n",
    "import math\n",
    "import numpy as np\n",
    "\n",
    "# Calculation\n",
    "# Since ΣMO = 0 angle theta which defines the line of action of FA can be determined by trigonometry\n",
    "theta = round(math.degrees(math.atan(0.7/0.4)),1)  #[Degrees]\n",
    "\n",
    "# Using +ΣF_x(right) = 0 and +ΣF_y(upward) = 0\n",
    "a = np.array([[math.cos(math.pi*theta/180),-math.cos(math.pi*45/180)], [math.sin(math.pi*theta/180),-math.sin(math.pi*45/180)]])\n",
    "b = np.array([-400,0])\n",
    "x = np.linalg.solve(a, b)\n",
    "FA = round(x[0]/1000,2)  #[Newton]\n",
    "F = round(x[1]/1000,2)  #[Newton]\n",
    "\n",
    "# Result\n",
    "print\"theta = \",(theta),\"degrees\"\n",
    "print\"FA = \",(FA),\"kN\"\n",
    "print\"F = \",(F),\"kN\""
   ]
  },
  {
   "cell_type": "markdown",
   "metadata": {},
   "source": [
    "## Ex 5.13 Page No 197"
   ]
  },
  {
   "cell_type": "code",
   "execution_count": 10,
   "metadata": {
    "collapsed": false
   },
   "outputs": [
    {
     "name": "stdout",
     "output_type": "stream",
     "text": [
      "B_x =  0 N\n",
      "B_y =  0 N\n",
      "A_z =  790.5 N\n",
      "B_z =  -216.7 N\n",
      "TC =  707.2 N\n"
     ]
    }
   ],
   "source": [
    "# Example 5.13\n",
    "\n",
    "# Calculation\n",
    "# Using ΣF_x = 0ΣF_z = 0\n",
    "B_x = 0  #[Newton]\n",
    "# Using ΣF_y= 0\n",
    "B_y = 0  #[Newton]\n",
    "# Using ΣF_z = 0, A_z + B_z + TC = 300 + 981(1)\n",
    "# Using ΣM_x = 0, 2TC + 2B_z = 981(2)\n",
    "# Using ΣM_y = 0, 3B_z + 3A_z = 300(1.5) + 981(1.5) - 200(3)\n",
    "# Solving (1),(2) and (3)\n",
    "a = np.array([[1,1,1], [0,2,2],[3,3,0] ])\n",
    "b = np.array([300+981,981,300*1.5+981*1.5-200])\n",
    "x = np.linalg.solve(a, b)\n",
    "A_z = round(x[0],1)  #[Newton]\n",
    "B_z = round(x[1],1)  #[Newton]\n",
    "TC = round(x[2],1)  #[Newton]\n",
    "\n",
    "# Result\n",
    "print\"B_x = \",(B_x),\"N\"\n",
    "print\"B_y = \",(B_y),\"N\"\n",
    "print\"A_z = \",(A_z),\"N\"\n",
    "print\"B_z = \",(B_z),\"N\"\n",
    "print\"TC = \",(TC),\"N\""
   ]
  },
  {
   "cell_type": "markdown",
   "metadata": {},
   "source": [
    "## Ex 5.14 Page No 198"
   ]
  },
  {
   "cell_type": "code",
   "execution_count": 13,
   "metadata": {
    "collapsed": false
   },
   "outputs": [
    {
     "name": "stdout",
     "output_type": "stream",
     "text": [
      "P =  377.6 N\n",
      "A_z =  424.3 N\n",
      "B_z =  934.3 N\n"
     ]
    }
   ],
   "source": [
    "# Example 5.14\n",
    "import math \n",
    "\n",
    "# Calculation\n",
    "# Using right hand rule and assuming positive moments act in +i direction, ΣM_x = 0\n",
    "P = round((981*0.1)/(0.3*math.cos(math.pi*30/180)),1)   #[Newton]\n",
    "\n",
    "# Using this result for P and summing moments about y and z axis, ΣM_y = 0 and  ΣM_z = 0\n",
    "A_z = round((981*0.5-P*0.4)/0.8,1)   #[Newton]\n",
    "A_y = -0/0.8   #[Newton]\n",
    "\n",
    "# The reactions at B are determined by using ΣF_x = 0, ΣF_y = 0 and ΣF_z = 0\n",
    "A_x = 0   #[Newton]\n",
    "B_y = 0   #[Newton]\n",
    "B_z = round(P+981-A_z,1)   #[Newton]\n",
    "\n",
    "# Result\n",
    "print\"P = \",(P),\"N\"\n",
    "print\"A_z = \",(A_z),\"N\"\n",
    "print\"B_z = \",(B_z),\"N\"\n",
    "\n"
   ]
  },
  {
   "cell_type": "markdown",
   "metadata": {},
   "source": [
    "## Ex 5.15 Page No 199"
   ]
  },
  {
   "cell_type": "code",
   "execution_count": 19,
   "metadata": {
    "collapsed": false
   },
   "outputs": [
    {
     "name": "stdout",
     "output_type": "stream",
     "text": [
      "TC =  707.5 N\n",
      "TD =  1500.0 N\n",
      "A_x =  -0.0 N\n",
      "A_y =  0.0 N\n",
      "A_z =  1500.2 N\n"
     ]
    }
   ],
   "source": [
    "# Example 5.15\n",
    "import numpy as np\n",
    "from __future__ import division\n",
    "\n",
    "# Calculation\n",
    "# Summing moments about point A ΣMA = 0, rB X (F+TC+TD)\n",
    "# Evaluating cross product\n",
    "a = np.array([[0,-4], [4.24,-2]])\n",
    "b = np.array([-6000,0])\n",
    "x = np.linalg.solve(a, b)\n",
    "TC = round(x[0],1)   #[Newton]\n",
    "TD = round(x[1],1)   #[Newton]\n",
    "\n",
    "# Using ΣF_x = 0\n",
    "A_x = round(-0.707*TC+(3/9)*TD,0)   #[Newton]\n",
    "\n",
    "# Using ΣF_y = 0   \n",
    "A_y = round(1000-(6/9)*TD,1)   #[Newton]\n",
    "\n",
    "# Using ΣF_z= 0\n",
    "A_z = round(0.707*TC+(6/9)*TD,1)   #[Newton]\n",
    "              \n",
    "# Result\n",
    "print\"TC = \",(TC),\"N\"  \n",
    "print\"TD = \",(TD),\"N\" \n",
    "print\"A_x = \",(A_x),\"N\"  \n",
    "print\"A_y = \",(A_y),\"N\"                \n",
    "print\"A_z = \",(A_z),\"N\"                "
   ]
  },
  {
   "cell_type": "markdown",
   "metadata": {},
   "source": [
    "## Ex 5.16 Page No 200"
   ]
  },
  {
   "cell_type": "code",
   "execution_count": 2,
   "metadata": {
    "collapsed": false
   },
   "outputs": [
    {
     "name": "stdout",
     "output_type": "stream",
     "text": [
      "TD =  100.0 N\n",
      "TE =  100.0 N\n",
      "A_x =  -50.0 N\n",
      "A_y =  -100.0 N\n",
      "A_z =  200 N\n"
     ]
    }
   ],
   "source": [
    "# Example 5.16\n",
    "from __future__ import division\n",
    "\n",
    "# Calculation\n",
    "# Summing moments about point A, ΣMA = 0 and rC X F + rB X (TE + TD) = 0\n",
    "# Using ΣM_x = 0 and ΣM_y = 0\n",
    "TD = 200/2   #[Newton]\n",
    "TE = 100/2   #[Newton]\n",
    "\n",
    "# Using ΣF_x = 0, ΣF_y = 0 and ΣF_z = 0\n",
    "A_x = -TE   #[Newton]\n",
    "A_y = -TD   #[Newton]\n",
    "A_z = 200   #[Newton]\n",
    "\n",
    "# Result\n",
    "print\"TD = \",(TD),\"N\"\n",
    "print\"TE = \",(TD),\"N\"\n",
    "print\"A_x = \",(A_x),\"N\"\n",
    "print\"A_y = \",(A_y),\"N\"\n",
    "print\"A_z = \",(A_z),\"N\""
   ]
  },
  {
   "cell_type": "markdown",
   "metadata": {},
   "source": [
    "## Ex 5.17 Page No 201"
   ]
  },
  {
   "cell_type": "code",
   "execution_count": 23,
   "metadata": {
    "collapsed": false
   },
   "outputs": [
    {
     "name": "stdout",
     "output_type": "stream",
     "text": [
      "TB =  572.3 N\n"
     ]
    }
   ],
   "source": [
    "# Example 5.17\n",
    "\n",
    "# Calculation\n",
    "# Using u.(rB X TB + rE X W)\n",
    "TB = round(490.5/0.857,1)   #[Newton]\n",
    "\n",
    "print\"TB = \",(TB),\"N\""
   ]
  },
  {
   "cell_type": "code",
   "execution_count": null,
   "metadata": {
    "collapsed": true
   },
   "outputs": [],
   "source": []
  }
 ],
 "metadata": {
  "anaconda-cloud": {},
  "kernelspec": {
   "display_name": "Python [default]",
   "language": "python",
   "name": "python2"
  },
  "language_info": {
   "codemirror_mode": {
    "name": "ipython",
    "version": 2
   },
   "file_extension": ".py",
   "mimetype": "text/x-python",
   "name": "python",
   "nbconvert_exporter": "python",
   "pygments_lexer": "ipython2",
   "version": "2.7.12"
  }
 },
 "nbformat": 4,
 "nbformat_minor": 1
}
