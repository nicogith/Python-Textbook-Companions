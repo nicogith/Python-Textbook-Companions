{
 "cells": [
  {
   "cell_type": "markdown",
   "metadata": {},
   "source": [
    "# Chapter 18 Planar Kinetics of a Rigid Body Work and Energy"
   ]
  },
  {
   "cell_type": "markdown",
   "metadata": {},
   "source": [
    "## Ex 18.1 Page No 768"
   ]
  },
  {
   "cell_type": "code",
   "execution_count": 3,
   "metadata": {
    "collapsed": false
   },
   "outputs": [
    {
     "name": "stdout",
     "output_type": "stream",
     "text": [
      "T =  4.96 J\n"
     ]
    }
   ],
   "source": [
    "# Ex 18.1\n",
    "from __future__ import division\n",
    "\n",
    "# Variable Declaration \n",
    "mB = 6  #[kilogram]\n",
    "mD = 10  #[kilogram]\n",
    "mC = 12  #[kilogram]\n",
    "\n",
    "# Calculation\n",
    "# Block\n",
    "TB = (1/2)*mB*0.8**(2)  #[Joules]\n",
    "# Disk\n",
    "TD = (1/2)*(1/2)*mD*0.1**(2)*8**(2)  #[Joules]\n",
    "# Cylinder\n",
    "TC = (1/2)*12*0.4**(2)+(1/2)*(1/2)*mC*0.1**(2)*4**(2)  #[Joules]\n",
    "# Let T be total kinetic energy of system\n",
    "T = TB+TD+TC  #[Joules]\n",
    "\n",
    "# Result\n",
    "print\"T = \",(T),\"J\""
   ]
  },
  {
   "cell_type": "markdown",
   "metadata": {},
   "source": [
    "## Ex 18.2 Page No 772"
   ]
  },
  {
   "cell_type": "code",
   "execution_count": 5,
   "metadata": {
    "collapsed": false
   },
   "outputs": [
    {
     "name": "stdout",
     "output_type": "stream",
     "text": [
      "U =  527.6 J\n"
     ]
    }
   ],
   "source": [
    "# Ex 18.2\n",
    "import math\n",
    "from __future__ import division\n",
    "\n",
    "# Variable Declaration\n",
    "M = 50  #[Newton meter]\n",
    "P = 80  #[Newton]\n",
    "\n",
    "# Calculation\n",
    "# Weight W\n",
    "UW = 98.1*1.5  #[Joules]\n",
    "# Couple Moment\n",
    "UM = M*math.pi/2  #[Joules]\n",
    "# Spring Force Fs\n",
    "Us = -((1/2)*30*2.25**(2)-(1/2)*30*0.25**(2))  #[Joules]\n",
    "# Force P\n",
    "UP = P*4.712  #[Joules]\n",
    "# let U be total work\n",
    "U = round(UW+UM+Us+UP,1)  #[Joules]\n",
    "\n",
    "# Result\n",
    "print\"U = \",(U),\"J\""
   ]
  },
  {
   "cell_type": "markdown",
   "metadata": {
    "collapsed": true
   },
   "source": [
    "## Ex 18.3 Page No 775"
   ]
  },
  {
   "cell_type": "code",
   "execution_count": 4,
   "metadata": {
    "collapsed": false
   },
   "outputs": [
    {
     "name": "stdout",
     "output_type": "stream",
     "text": [
      "theta =  2.73 rev\n"
     ]
    }
   ],
   "source": [
    "# Ex 18.3\n",
    "from __future__ import division\n",
    "import math\n",
    "\n",
    "# Variable Declaration\n",
    "F = 10  #[Newton]\n",
    "w = 20  #[radians per second]\n",
    "M = 5  #[Newton meter]\n",
    "\n",
    "# Calculation\n",
    "# Kinetic Energy\n",
    "T1 = 0  #[Joules]\n",
    "T2 = (1/2)*(1/2)*30*(0.2**(2))*(w**(2))  #[Joules]\n",
    "# Using principle of Work and Energy\n",
    "theta = (T2-T1)/(M+F*0.2)  #[radians]\n",
    "theta = round((theta*1)/(2*math.pi),2)  #[rev]\n",
    "\n",
    "# Result\n",
    "print\"theta = \",(theta),\"rev\""
   ]
  },
  {
   "cell_type": "markdown",
   "metadata": {},
   "source": [
    "## Ex 18.4 Page No 776"
   ]
  },
  {
   "cell_type": "code",
   "execution_count": 8,
   "metadata": {
    "collapsed": false
   },
   "outputs": [
    {
     "name": "stdout",
     "output_type": "stream",
     "text": [
      "FdashT =  0.0 kN\n",
      "NdashT =  4.24 kN\n"
     ]
    }
   ],
   "source": [
    "# Ex 18.4\n",
    "import math\n",
    "\n",
    "# Calculation\n",
    "w2 = math.sqrt((700*9.81*0.05359)/63.875)  #[radians per second]\n",
    "# Using +ΣFn(upward) = m(aG)n\n",
    "NT = 700*9.81+700*2.40**(2)*0.4  #[kilo Newton]\n",
    "# Using +ΣMO = IO*alpha\n",
    "alpha = 0/(700*0.15**(2)+700*0.4**(2))  #[radians per second square]\n",
    "# Using +ΣFt(left) = m(aG)t and (aG)t = 0.4*alpha\n",
    "FT = 700*0.4*alpha  #[kilo Newton]\n",
    "# there are two tines to support the load\n",
    "FdashT = 0  #[Newton]\n",
    "NdashT = NT/2  #[Newton]\n",
    "\n",
    "# Result\n",
    "print\"FdashT = \",(FdashT/1000),\"kN\"\n",
    "print\"NdashT = \",round((NdashT/1000),2),\"kN\""
   ]
  },
  {
   "cell_type": "markdown",
   "metadata": {},
   "source": [
    "## Ex 18.5 Page No 778"
   ]
  },
  {
   "cell_type": "code",
   "execution_count": 9,
   "metadata": {
    "collapsed": false
   },
   "outputs": [
    {
     "name": "stdout",
     "output_type": "stream",
     "text": [
      "w2 =  1.48 rad/s\n"
     ]
    }
   ],
   "source": [
    "# Ex 18.5\n",
    "import math\n",
    "\n",
    "# Variable Declaration\n",
    "M = 75  #[Newton meter]\n",
    "k = 50  #[Newton per meter]\n",
    "W = 20  #[kilogram]\n",
    "\n",
    "# Calculation\n",
    "# Using Principle of work and energy\n",
    "w2 = round(math.sqrt((M*0.625-(1/2)*k*1**(2))/10),2)  #[radians per second]\n",
    "\n",
    "# Result\n",
    "print\"w2 = \",(w2),\"rad/s\""
   ]
  },
  {
   "cell_type": "markdown",
   "metadata": {},
   "source": [
    "## Ex 18.6 Page No 779"
   ]
  },
  {
   "cell_type": "code",
   "execution_count": 12,
   "metadata": {
    "collapsed": false
   },
   "outputs": [
    {
     "name": "stdout",
     "output_type": "stream",
     "text": [
      "w2 =  6.11 rad/s\n"
     ]
    }
   ],
   "source": [
    "# Ex 18.6\n",
    "import math\n",
    "\n",
    "# Variable Declaration\n",
    "P = 50  #[Newton]\n",
    "\n",
    "# Calculation\n",
    "# Using Principle of work and energy\n",
    "w2 = round(math.sqrt((98.1*(0.4-0.4*math.cos(math.pi*45/180))+50*0.8*math.sin(math.pi*45/180))/(1.067)),2)  #[radians per second]\n",
    "\n",
    "# Result\n",
    "print\"w2 = \",(w2),\"rad/s\""
   ]
  },
  {
   "cell_type": "markdown",
   "metadata": {},
   "source": [
    "## Ex 18.7 Page No 787"
   ]
  },
  {
   "cell_type": "code",
   "execution_count": 14,
   "metadata": {
    "collapsed": false
   },
   "outputs": [
    {
     "name": "stdout",
     "output_type": "stream",
     "text": [
      "w2 =  4.81 rad/s\n"
     ]
    }
   ],
   "source": [
    "# Ex 18.7\n",
    "import math\n",
    "from __future__ import division\n",
    "\n",
    "# Variable Declaration\n",
    "m = 10  #[kilogram]\n",
    "k = 800  #[Newton per meter]\n",
    "\n",
    "# Calculation\n",
    "# Potential Energy\n",
    "V1 = round(-98.1*(0.2*math.sin(math.pi*30/180))+(1/2)*k*(0.4*math.sin(math.pi*30/180))**(2),2)  #[Joules]\n",
    "# CG is located at datum\n",
    "V2 = 0  #[Joules]\n",
    "# Kinetic Energy\n",
    "# Since the rod is released from rest position 1\n",
    "T1 = 0  #[Joules]\n",
    "# Using principle of conservation of energy\n",
    "w2 = round(math.sqrt((T1+V1-V2)/0.267),2)  #[radians per second]\n",
    "\n",
    "# Result\n",
    "print\"w2 = \",(w2),\"rad/s\""
   ]
  },
  {
   "cell_type": "markdown",
   "metadata": {},
   "source": [
    "## Ex 18.8 Page No 788"
   ]
  },
  {
   "cell_type": "code",
   "execution_count": 16,
   "metadata": {
    "collapsed": false
   },
   "outputs": [
    {
     "name": "stdout",
     "output_type": "stream",
     "text": [
      "w2 =  3.9 rad/s\n"
     ]
    }
   ],
   "source": [
    "# Ex 18.8\n",
    "from __future__ import division\n",
    "import math\n",
    "\n",
    "# Variable Declaration\n",
    "k = 30  #[Newton per meter]\n",
    "\n",
    "# Calculation\n",
    "V1 = (1/2)*k*(math.sqrt(0.9**(2)+1.2**(2))-0.3)**(2)  #[Joules]\n",
    "V2 = (1/2)*k*(1.2-0.3)**(2)  #[Joules]\n",
    "# The disk is releaseg from rest  \n",
    "T1 = 0  #[Joules]\n",
    "# Using principle of conservation of energy\n",
    "w2 = round(math.sqrt((T1+V1-V2)/0.6227),2)  #[radians per second]\n",
    "\n",
    "# Result\n",
    "print\"w2 = \",(w2),\"rad/s\""
   ]
  },
  {
   "cell_type": "markdown",
   "metadata": {},
   "source": [
    "## Ex 18.9 Page No 789"
   ]
  },
  {
   "cell_type": "code",
   "execution_count": 18,
   "metadata": {
    "collapsed": false
   },
   "outputs": [
    {
     "name": "stdout",
     "output_type": "stream",
     "text": [
      "wR2 =  6.52 rad/s\n"
     ]
    }
   ],
   "source": [
    "# Ex 18.9\n",
    "import math\n",
    "\n",
    "# Calculation\n",
    "# Potential energy\n",
    "V1 = 49.05*0.3*math.sin(math.pi*60/180)  #[Joules]\n",
    "# At position 2 weight of rod and disk have zero potential energy\n",
    "V2 = 0  #[Joules]\n",
    "# Kinetic energy\n",
    "# Since the entire system is at rest\n",
    "T1 = 0  #[Joules]\n",
    "# Using conservation of energy\n",
    "wR2 = round(math.sqrt((T1+V1-V2)/0.3),2)  #[radians per second]\n",
    "\n",
    "# Result\n",
    "print\"wR2 = \",(wR2),\"rad/s\""
   ]
  },
  {
   "cell_type": "code",
   "execution_count": null,
   "metadata": {
    "collapsed": true
   },
   "outputs": [],
   "source": []
  }
 ],
 "metadata": {
  "anaconda-cloud": {},
  "kernelspec": {
   "display_name": "Python [default]",
   "language": "python",
   "name": "python2"
  },
  "language_info": {
   "codemirror_mode": {
    "name": "ipython",
    "version": 2
   },
   "file_extension": ".py",
   "mimetype": "text/x-python",
   "name": "python",
   "nbconvert_exporter": "python",
   "pygments_lexer": "ipython2",
   "version": "2.7.12"
  }
 },
 "nbformat": 4,
 "nbformat_minor": 1
}
