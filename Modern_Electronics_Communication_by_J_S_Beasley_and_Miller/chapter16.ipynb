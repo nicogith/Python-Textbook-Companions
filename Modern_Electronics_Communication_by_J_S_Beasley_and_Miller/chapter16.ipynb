{
 "metadata": {
  "name": ""
 },
 "nbformat": 3,
 "nbformat_minor": 0,
 "worksheets": [
  {
   "cells": [
    {
     "cell_type": "heading",
     "level": 1,
     "metadata": {},
     "source": [
      "Chapter 16 Microwaves and Lasers"
     ]
    },
    {
     "cell_type": "heading",
     "level": 2,
     "metadata": {},
     "source": [
      "Example 16.1 Page no 753"
     ]
    },
    {
     "cell_type": "code",
     "collapsed": false,
     "input": [
      "#given\n",
      "h=0.3                    #curve depth of parabolic reflector\n",
      "D=3                      #diameter of parabolic reflector\n",
      "\n",
      "#calculation\n",
      "f=D/(16*h)               #focal \n",
      "\n",
      "#result\n",
      "print\"The focal length is \",f,\" m out from the center of the parabolic reflector\"\n",
      "\n"
     ],
     "language": "python",
     "metadata": {},
     "outputs": [
      {
       "output_type": "stream",
       "stream": "stdout",
       "text": [
        "The focal length is  0.625  m out from the center of the parabolic reflector\n"
       ]
      }
     ],
     "prompt_number": 1
    },
    {
     "cell_type": "heading",
     "level": 2,
     "metadata": {},
     "source": [
      "Example 16.2 Page no 755"
     ]
    },
    {
     "cell_type": "code",
     "collapsed": false,
     "input": [
      "#given\n",
      "D=3.0                    #diameter of microwave dish\n",
      "k=0.6                    #efficiency of reflector\n",
      "c=2.997925*10**8         #velocity of light\n",
      "f=10.0*10**9             #frequency\n",
      "\n",
      "#calculation\n",
      "import math\n",
      "Ap=10*math.log10((c/f)*k*((math.pi*D)**2/(c/f)**2))      #powergain\n",
      "B=(70*(c/f))/D                                         #beamwidth\n",
      "\n",
      "#result\n",
      "print\"beamwidth = \",round(B,3),\"micrometer\"\n"
     ],
     "language": "python",
     "metadata": {},
     "outputs": [
      {
       "output_type": "stream",
       "stream": "stdout",
       "text": [
        "beamwidth =  0.7 micrometer\n"
       ]
      }
     ],
     "prompt_number": 2
    },
    {
     "cell_type": "heading",
     "level": 2,
     "metadata": {},
     "source": [
      "Example 16.3 Page no 756"
     ]
    },
    {
     "cell_type": "code",
     "collapsed": false,
     "input": [
      "#given\n",
      "D=4.5                       #diameter of parabolic reflector\n",
      "k=0.62                      #efficiency factor\n",
      "\n",
      "#calculation\n",
      "import math\n",
      "Ae=(k*math.pi)*(D/2.0)**2                       #aperture efficiency\n",
      "i=(math.pi*(D/2.0)**2)                #ideal capture area\n",
      "\n",
      "#result\n",
      "print\"The ideal capture area for\",D,\"m\",\"1f m parabolic antenna is\",round(i,3),\"sq.m\"\n"
     ],
     "language": "python",
     "metadata": {},
     "outputs": [
      {
       "output_type": "stream",
       "stream": "stdout",
       "text": [
        "The ideal capture area for 4.5 m 1f m parabolic antenna is 15.904 sq.m\n"
       ]
      }
     ],
     "prompt_number": 5
    }
   ],
   "metadata": {}
  }
 ]
}