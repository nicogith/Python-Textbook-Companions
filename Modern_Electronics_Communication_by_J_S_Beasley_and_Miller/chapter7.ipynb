{
 "metadata": {
  "name": ""
 },
 "nbformat": 3,
 "nbformat_minor": 0,
 "worksheets": [
  {
   "cells": [
    {
     "cell_type": "heading",
     "level": 1,
     "metadata": {},
     "source": [
      "Chapter 7 Communication Techniques"
     ]
    },
    {
     "cell_type": "heading",
     "level": 2,
     "metadata": {},
     "source": [
      "Example 7.6 Page no 304"
     ]
    },
    {
     "cell_type": "code",
     "collapsed": false,
     "input": [
      "#given\n",
      "Q=60\n",
      "IF=455*10**3\n",
      "x=680.0*10**3\n",
      "\n",
      "#calculation\n",
      "import math\n",
      "imf=x+2*(IF)              #image frequency\n",
      "a=(imf/x)\n",
      "b=(x/imf)\n",
      "c=(Q*(a-b))\n",
      "d=20*math.log10(c)\n",
      "\n",
      "#result\n",
      "print\"The image frequency is \",imf,\"Hz\"\n",
      "print\"image rejection = \",round(d,3),\"dB\"\n"
     ],
     "language": "python",
     "metadata": {},
     "outputs": [
      {
       "output_type": "stream",
       "stream": "stdout",
       "text": [
        "The image frequency is  1590000.0 Hz\n",
        "image rejection =  41.186 dB\n"
       ]
      }
     ],
     "prompt_number": 4
    },
    {
     "cell_type": "heading",
     "level": 2,
     "metadata": {},
     "source": [
      "Example 7.7 Page no 314"
     ]
    },
    {
     "cell_type": "code",
     "collapsed": false,
     "input": [
      "#given\n",
      "NF=20.0\n",
      "df=10**6\n",
      "\n",
      "#calculation\n",
      "x=10*math.log10(df)\n",
      "S=-174+NF+x\n",
      "a=5                           #input intercept\n",
      "dr=2/3.0*(a-S)\n",
      "\n",
      "#result\n",
      "print\"S= \",S,\"dB\"\n",
      "print\"dynamic range= \",dr,\"dB\""
     ],
     "language": "python",
     "metadata": {},
     "outputs": [
      {
       "output_type": "stream",
       "stream": "stdout",
       "text": [
        "S=  -94.0 dB\n",
        "dynamic range=  66.0 dB\n"
       ]
      }
     ],
     "prompt_number": 1
    },
    {
     "cell_type": "heading",
     "level": 2,
     "metadata": {},
     "source": [
      "Example 7.8 Page no 315"
     ]
    },
    {
     "cell_type": "code",
     "collapsed": false,
     "input": [
      "#given\n",
      "nf=5.0\n",
      "x=24.0\n",
      "y=20.0\n",
      "\n",
      "#calculation\n",
      "import math\n",
      "NR0=10**(nf/10.0)\n",
      "NR1=10**(y/10.0)\n",
      "PG1=10**(x/10.0)\n",
      "NR=NR0+((NR1-1)/PG1)\n",
      "NF=10*math.log10(NR)\n",
      "S=-174+NF+60\n",
      "a=nf-x                             #the system's third-order intercept point \n",
      "dr=2/3.0*(a-S)\n",
      "\n",
      "#result\n",
      "print\"NR1 = \",round(NR0,3)\n",
      "print\"NR2 = \",NR1\n",
      "print\"PG1=  = \",round(PG1,3)\n",
      "print\"NR = \",round(NR,3),\"dB\"\n",
      "print\"NF = \",round(NF,3),\"dB\"             #total system noise figure\n",
      "print\"S = \",round(S,3),\"dBm\"             #sensitivity\n",
      "print\"the systems third-order intercept point is\",a,\"dB\"\n",
      "print\"dynamic range = \",round(dr,1),\"dB\"\n"
     ],
     "language": "python",
     "metadata": {},
     "outputs": [
      {
       "output_type": "stream",
       "stream": "stdout",
       "text": [
        "NR1 =  3.162\n",
        "NR2 =  100.0\n",
        "PG1=  =  251.189\n",
        "NR =  3.556 dB\n",
        "NF =  5.51 dB\n",
        "S =  -108.49 dBm\n",
        "the systems third-order intercept point is -19.0 dB\n",
        "dynamic range =  59.7 dB\n"
       ]
      }
     ],
     "prompt_number": 1
    },
    {
     "cell_type": "heading",
     "level": 2,
     "metadata": {},
     "source": [
      "Example 7.9 Page no 315"
     ]
    },
    {
     "cell_type": "code",
     "collapsed": false,
     "input": [
      "#given\n",
      "x=24\n",
      "nf=-5\n",
      "NR = 3.16+(99/10.0)\n",
      "\n",
      "#calculation\n",
      "import math\n",
      "NF = 10*math.log10(NR)\n",
      "S=-174+NF+60\n",
      "dr = 2/3.0*(nf-S)\n",
      "\n",
      "#result\n",
      "print\"NR = \",NR                #noise ratio\n",
      "print\"NF = \",round(NF,3),\"dB\"             #noise figure\n",
      "print\"S = \",round(S,3),\"dBm\"            #sensitivity\n",
      "print\"dynamic range = \",round(dr,3),\"dB\"\n"
     ],
     "language": "python",
     "metadata": {},
     "outputs": [
      {
       "output_type": "stream",
       "stream": "stdout",
       "text": [
        "NR =  13.06\n",
        "NF =  11.159 dB\n",
        "S =  -102.841 dBm\n",
        "dynamic range =  65.227 dB\n"
       ]
      }
     ],
     "prompt_number": 9
    },
    {
     "cell_type": "heading",
     "level": 2,
     "metadata": {},
     "source": [
      "Example 7.10 Page no 329"
     ]
    },
    {
     "cell_type": "code",
     "collapsed": false,
     "input": [
      "#given\n",
      "x=0.40*100*10**6\n",
      "y=(100*10**6/(2.0**32))\n",
      "#fCLK is reference oscillator\n",
      "\n",
      "#result\n",
      "print\"The maximum output frequency is approximately 40 percent of fCLK MAX\",x,\"Hz\"\n",
      "print\"The frequency resolution is given by \",round(y,3),\"Hz\""
     ],
     "language": "python",
     "metadata": {},
     "outputs": [
      {
       "output_type": "stream",
       "stream": "stdout",
       "text": [
        "The maximum output frequency is approximately 40 percent of fCLK MAX 40000000.0 Hz\n",
        "The frequency resolution is given by  0.023 Hz\n"
       ]
      }
     ],
     "prompt_number": 10
    }
   ],
   "metadata": {}
  }
 ]
}