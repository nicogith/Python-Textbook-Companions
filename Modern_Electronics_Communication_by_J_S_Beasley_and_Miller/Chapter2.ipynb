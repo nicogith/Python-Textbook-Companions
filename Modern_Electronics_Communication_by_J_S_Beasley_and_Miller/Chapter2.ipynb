{
 "metadata": {
  "name": ""
 },
 "nbformat": 3,
 "nbformat_minor": 0,
 "worksheets": [
  {
   "cells": [
    {
     "cell_type": "heading",
     "level": 1,
     "metadata": {},
     "source": [
      "chapter 2 Amplitude Modulation-Transmission"
     ]
    },
    {
     "cell_type": "heading",
     "level": 2,
     "metadata": {},
     "source": [
      "Example 2.1 Page no 74"
     ]
    },
    {
     "cell_type": "code",
     "collapsed": false,
     "input": [
      "# given\n",
      "c=1.4*10**6             #frequency of carrier wave,Hz\n",
      "m1=20                   #frequency component,Hz\n",
      "m2=10*10**3             #KHz\n",
      "\n",
      "#calculation \n",
      "Ur1=c+m1\n",
      "Ur2=c+m2\n",
      "Lr1=c-m1\n",
      "Lr2=c-m2\n",
      "\n",
      "#result\n",
      "#range of upper sideband(usb)\n",
      "print\"upper sideband will include frequencies from  \",Ur1,\"Hz\"\n",
      "print\"to  \",Ur2,\"Hz\"\n",
      "#range of lower sideband (lsb)\n",
      "print\"lower sideband will include frequencies from \",Lr2,\"Hz\"\n",
      "print\"to  \",Lr1,\"Hz\""
     ],
     "language": "python",
     "metadata": {},
     "outputs": [
      {
       "output_type": "stream",
       "stream": "stdout",
       "text": [
        "upper sideband will include frequencies from   1400020.0 Hz\n",
        "to   1410000.0 Hz\n",
        "lower sideband will include frequencies from  1390000.0 Hz\n",
        "to   1399980.0 Hz\n"
       ]
      }
     ],
     "prompt_number": 1
    },
    {
     "cell_type": "heading",
     "level": 2,
     "metadata": {},
     "source": [
      "Example 2.2 Page no 78"
     ]
    },
    {
     "cell_type": "code",
     "collapsed": false,
     "input": [
      "# given\n",
      "b=100.0                       #maximum p-p carrier (V)\n",
      "a=60.0\n",
      "d=125.0\n",
      "c=35.0\n",
      "x=180\n",
      "y=0\n",
      "\n",
      "#Calculation\n",
      "m1=((b-a)/(b+a))*100\n",
      "m2=((d-c)/(d+c))*100\n",
      "m3=((x-y)/(y+x))*100\n",
      "\n",
      "#result\n",
      "print\"(a) percent(m) =  \",m1,\"percent\"\n",
      "print\"(b) percent(m) = \",m2,\"percent\"\n",
      "print\"(c) percent(m) = \",m3,\"percent\"\n",
      "print\"(d) this is a case of overmodulation\"\n",
      "print\"(e) this is a distorted AM wave as the increase > decrease in carrier's amplitude\""
     ],
     "language": "python",
     "metadata": {},
     "outputs": [
      {
       "output_type": "stream",
       "stream": "stdout",
       "text": [
        "(a) percent(m) =   25.0 percent\n",
        "(b) percent(m) =  56.25 percent\n",
        "(c) percent(m) =  100 percent\n",
        "(d) this is a case of overmodulation\n",
        "(e) this is a distorted AM wave as the increase > decrease in carrier's amplitude\n"
       ]
      }
     ],
     "prompt_number": 3
    },
    {
     "cell_type": "heading",
     "level": 2,
     "metadata": {},
     "source": [
      "Example 2.3 Page no 79"
     ]
    },
    {
     "cell_type": "code",
     "collapsed": false,
     "input": [
      "#given\n",
      "c=1*10**3       #carrier output\n",
      "\n",
      "#calculation\n",
      "esb= 1/4.0*(c)\n",
      "tsp=(esb*2)\n",
      "tp=(tsp+c)\n",
      "\n",
      "#result\n",
      "print\"Total transmitted power =\",tp,\"W\"\n"
     ],
     "language": "python",
     "metadata": {},
     "outputs": [
      {
       "output_type": "stream",
       "stream": "stdout",
       "text": [
        "Total transmitted power = 1500.0 W\n"
       ]
      }
     ],
     "prompt_number": 5
    },
    {
     "cell_type": "heading",
     "level": 2,
     "metadata": {},
     "source": [
      "Example 2.4 Page no 81"
     ]
    },
    {
     "cell_type": "code",
     "collapsed": false,
     "input": [
      "# given\n",
      "m=0.9                           #modulation index\n",
      "Pc=500                          #carrier Power \n",
      "\n",
      "#calculation\n",
      "x=(m**2)/2.0\n",
      "y=(1+x)*Pc\n",
      "\n",
      "#result\n",
      "print\"total transmitted power=  \",y,\"W\"               #total transmitted powwer\n"
     ],
     "language": "python",
     "metadata": {},
     "outputs": [
      {
       "output_type": "stream",
       "stream": "stdout",
       "text": [
        "total transmitted power=   702.5 W\n"
       ]
      }
     ],
     "prompt_number": 6
    },
    {
     "cell_type": "heading",
     "level": 2,
     "metadata": {},
     "source": [
      "Example 2.5 Page no 81"
     ]
    },
    {
     "cell_type": "code",
     "collapsed": false,
     "input": [
      "# given\n",
      "m=0.95                                                     #modulation index\n",
      "Pt= 50*10**3                                               #total transmitted power\n",
      "\n",
      "#calculation\n",
      "x=(m**2)/2.0\n",
      "y=1+x\n",
      "z=(Pt/y)\n",
      "Pi=Pt-z\n",
      "\n",
      "#result\n",
      "print\"Pc = \",round(z,2),\"W\"                                #carrier power\n",
      "print\"total intelligence power = \",round(Pi,2),\"W\"         #intelligence signal\n"
     ],
     "language": "python",
     "metadata": {},
     "outputs": [
      {
       "output_type": "stream",
       "stream": "stdout",
       "text": [
        "Pc =  34453.06 W\n",
        "total intelligence power =  15546.94 W\n"
       ]
      }
     ],
     "prompt_number": 7
    },
    {
     "cell_type": "heading",
     "level": 2,
     "metadata": {},
     "source": [
      "Example 2.6 Page no 81"
     ]
    },
    {
     "cell_type": "code",
     "collapsed": false,
     "input": [
      "# given\n",
      "Ic=12                             #antenna current of AM transmitter when unmodulated\n",
      "It=13                             #current when modulated\n",
      "\n",
      "#calculation\n",
      "import math\n",
      "x=2*((13/12.0)**2-1)\n",
      "m=math.sqrt(x)\n",
      "a=m*100\n",
      "\n",
      "#result\n",
      "print\"percent(m) = \",round(a,0),\"percent\"            \n"
     ],
     "language": "python",
     "metadata": {},
     "outputs": [
      {
       "output_type": "stream",
       "stream": "stdout",
       "text": [
        "percent(m) =  59.0 percent\n"
       ]
      }
     ],
     "prompt_number": 9
    },
    {
     "cell_type": "heading",
     "level": 2,
     "metadata": {},
     "source": [
      "Example 2.7 Page no 82"
     ]
    },
    {
     "cell_type": "code",
     "collapsed": false,
     "input": [
      "# given\n",
      "n=0.7                                    #efficiency\n",
      "c=10*10**3                               #carrier wave\n",
      "\n",
      "#calculation\n",
      "Is=0.5*c                                 #intelligence signal\n",
      "p=(Is/n)\n",
      "\n",
      "#result\n",
      "print\"dc input power = \",round(p,2),\"W\"       #dc input power"
     ],
     "language": "python",
     "metadata": {},
     "outputs": [
      {
       "output_type": "stream",
       "stream": "stdout",
       "text": [
        "dc input power =  7142.86 W\n"
       ]
      }
     ],
     "prompt_number": 14
    },
    {
     "cell_type": "heading",
     "level": 2,
     "metadata": {},
     "source": [
      "Example 2.8 Page no 82"
     ]
    },
    {
     "cell_type": "code",
     "collapsed": false,
     "input": [
      "#given\n",
      "Pc=10.0*10**3                                  #carrier power\n",
      "Pt=11.2*10**3                                  #transmitted power\n",
      "m2=0.5                                         #modulation index of another sine wave\n",
      "\n",
      "#calculation\n",
      "import math\n",
      "x=2*((Pt/Pc)-1)\n",
      "m=math.sqrt(x)\n",
      "meff=math.sqrt((m**2)+(m2**2))\n",
      "a=Pc*(1+((meff**2)/2.0))\n",
      "\n",
      "#result\n",
      "print\"Pt = \",a,\"W\"                             #total transmitted power"
     ],
     "language": "python",
     "metadata": {},
     "outputs": [
      {
       "output_type": "stream",
       "stream": "stdout",
       "text": [
        "Pt =  12450.0 W\n"
       ]
      }
     ],
     "prompt_number": 15
    },
    {
     "cell_type": "heading",
     "level": 2,
     "metadata": {},
     "source": [
      "Example 2.9 Page no 100"
     ]
    },
    {
     "cell_type": "code",
     "collapsed": false,
     "input": [
      "# given\n",
      "v1=1.0\n",
      "v2=0.03\n",
      "v3=0.05\n",
      "v4=0.02\n",
      "v5=0.04\n",
      "\n",
      "#calculation\n",
      "import math\n",
      "x=math.sqrt((v2**2+v3**2+v4**2+v5**2)/v1**2)\n",
      "y=x*100\n",
      "\n",
      "#result\n",
      "print\"THD = \",round(y,2),\"percent\"            #Total harmonic distortion      "
     ],
     "language": "python",
     "metadata": {},
     "outputs": [
      {
       "output_type": "stream",
       "stream": "stdout",
       "text": [
        "THD =  7.35 percent\n"
       ]
      }
     ],
     "prompt_number": 4
    }
   ],
   "metadata": {}
  }
 ]
}