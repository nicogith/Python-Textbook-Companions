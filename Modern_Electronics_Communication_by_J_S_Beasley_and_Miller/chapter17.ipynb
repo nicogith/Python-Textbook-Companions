{
 "metadata": {
  "name": ""
 },
 "nbformat": 3,
 "nbformat_minor": 0,
 "worksheets": [
  {
   "cells": [
    {
     "cell_type": "heading",
     "level": 1,
     "metadata": {},
     "source": [
      "Chapter 17 Television"
     ]
    },
    {
     "cell_type": "heading",
     "level": 2,
     "metadata": {},
     "source": [
      "Example 17.1 Page no 882"
     ]
    },
    {
     "cell_type": "code",
     "collapsed": false,
     "input": [
      "#given\n",
      "bw=5*10**6            #bandwidth\n",
      "t=53.5*10**-6         #time allocated for each visible trace\n",
      "\n",
      "#calculation\n",
      "T=2*bw*t              #increase in horizontal resolution\n",
      "\n",
      "#result\n",
      "print\"Thus, the total number of vertical lines resolvable is \",T,\"lines\""
     ],
     "language": "python",
     "metadata": {},
     "outputs": [
      {
       "output_type": "stream",
       "stream": "stdout",
       "text": [
        "Thus, the total number of vertical lines resolvable is  535.0 lines\n"
       ]
      }
     ],
     "prompt_number": 1
    },
    {
     "cell_type": "heading",
     "level": 2,
     "metadata": {},
     "source": [
      "Example 17.2 Page no 822"
     ]
    },
    {
     "cell_type": "code",
     "collapsed": false,
     "input": [
      "#given\n",
      "bw=5.0*10**6                    #bandwidth\n",
      "l=428                           #horizontal resolution\n",
      "\n",
      "#calculation\n",
      "t=l/(bw*2)                      #trace time\n",
      "x=1/30.0                        #time available for a full picture\n",
      "y=t+10.0*10**-6                 #assuming that 10us is used for horizontal blanking\n",
      "n=x/y                           #no. of horizontal traces\n",
      "c=600*0.7                       #allowing 32 lines for vertical retrace\n",
      "\n",
      "#result\n",
      "print\"vertical resolution = \",c,\"lines\"\n"
     ],
     "language": "python",
     "metadata": {},
     "outputs": [
      {
       "output_type": "stream",
       "stream": "stdout",
       "text": [
        "vertical resolution =  420.0 lines\n"
       ]
      }
     ],
     "prompt_number": 2
    }
   ],
   "metadata": {}
  }
 ]
}