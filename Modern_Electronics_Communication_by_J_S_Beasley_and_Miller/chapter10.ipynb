{
 "metadata": {
  "name": ""
 },
 "nbformat": 3,
 "nbformat_minor": 0,
 "worksheets": [
  {
   "cells": [
    {
     "cell_type": "heading",
     "level": 1,
     "metadata": {},
     "source": [
      "Chapter 10 Wireless digital communication"
     ]
    },
    {
     "cell_type": "heading",
     "level": 2,
     "metadata": {},
     "source": [
      "Example 10.2 Page no 467"
     ]
    },
    {
     "cell_type": "code",
     "collapsed": false,
     "input": [
      "#given\n",
      "n=3                 #shift registers\n",
      "n1=7\n",
      "\n",
      "#calculation\n",
      "x=(2**n)-1\n",
      "y=(2**7)-1\n",
      "\n",
      "#result\n",
      "print\"(a) n =\",n,\"PN sequence length = \",x\n",
      "print\"(b) n =\",n1,\"PN sequence length = \",y"
     ],
     "language": "python",
     "metadata": {},
     "outputs": [
      {
       "output_type": "stream",
       "stream": "stdout",
       "text": [
        "(a) n = 3 PN sequence length =  7\n",
        "(b) n = 7 PN sequence length =  127\n"
       ]
      }
     ],
     "prompt_number": 3
    },
    {
     "cell_type": "heading",
     "level": 2,
     "metadata": {},
     "source": [
      "Example 10.3 Page no 477"
     ]
    },
    {
     "cell_type": "code",
     "collapsed": false,
     "input": [
      "#given\n",
      "x=56.0                                #modulation bit rate\n",
      "y=560                                 #chip rate\n",
      "a=256.0                               #modulation bit rate\n",
      "b=1792                                #chip rate\n",
      "\n",
      "#calculation\n",
      "z=y/x\n",
      "c=b/a\n",
      "\n",
      "#result\n",
      "#part(a)\n",
      "print\"Spreading of a DSSS signal = \",z\n",
      "print\"Spreading of a DSSS signal = \",c"
     ],
     "language": "python",
     "metadata": {},
     "outputs": [
      {
       "output_type": "stream",
       "stream": "stdout",
       "text": [
        "Spreading of a DSSS signal =  10.0\n",
        "Spreading of a DSSS signal =  7.0\n"
       ]
      }
     ],
     "prompt_number": 4
    }
   ],
   "metadata": {}
  }
 ]
}