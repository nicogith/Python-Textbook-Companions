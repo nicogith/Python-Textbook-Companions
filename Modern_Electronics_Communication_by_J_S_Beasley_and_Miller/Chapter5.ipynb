{
 "metadata": {
  "name": ""
 },
 "nbformat": 3,
 "nbformat_minor": 0,
 "worksheets": [
  {
   "cells": [
    {
     "cell_type": "heading",
     "level": 1,
     "metadata": {},
     "source": [
      "Chapter 5 Frequency Modulation : Transmission"
     ]
    },
    {
     "cell_type": "heading",
     "level": 2,
     "metadata": {},
     "source": [
      "Example 5.1 Page no 209"
     ]
    },
    {
     "cell_type": "code",
     "collapsed": false,
     "input": [
      "#given\n",
      "v=25*10**-3\n",
      "f=750                        #deviation constant\n",
      "vg=10.0*10**-3                 #deviation constant\n",
      "\n",
      "#calculation\n",
      "pfd=v*(f/vg)                 #positive frequency deviation\n",
      "nfd=-v*(f/vg)                #negative frequency deviation\n",
      "\n",
      "#result\n",
      "print\"(a) positive frequency deviation = \",pfd,\"Hz\"\n",
      "print\"negative frequency deviation = \",nfd,\"Hz\"\n",
      "print\"The total deviation is written as +-2.25kHz for the given input signal level\"\n",
      "print\"(b) The carrier wil deviate \",pfd,\"Hz\",\"&\",nfd,\"Hz\",\"at 400 Hz\"\n"
     ],
     "language": "python",
     "metadata": {},
     "outputs": [
      {
       "output_type": "stream",
       "stream": "stdout",
       "text": [
        "(a) positive frequency deviation =  1875.0 Hz\n",
        "negative frequency deviation =  -1875.0 Hz\n",
        "The total deviation is written as +-2.25kHz for the given input signal level\n",
        "(b) The carrier wil deviate  1875.0 Hz & -1875.0 Hz at 400 Hz\n"
       ]
      }
     ],
     "prompt_number": 5
    },
    {
     "cell_type": "heading",
     "level": 2,
     "metadata": {},
     "source": [
      "Example 5.3 Page no 214"
     ]
    },
    {
     "cell_type": "code",
     "collapsed": false,
     "input": [
      "#given\n",
      "d=20*10**3     #maximum deviation\n",
      "fi=10.0*10**3  #input frequency\n",
      "\n",
      "#calculation\n",
      "mf=d/fi\n",
      "a=mf*40\n",
      "\n",
      "#result\n",
      "print\"total required bandwidth is \",a,\"KHz\"\n"
     ],
     "language": "python",
     "metadata": {},
     "outputs": [
      {
       "output_type": "stream",
       "stream": "stdout",
       "text": [
        "total required bandwidth is  80.0 KHz\n"
       ]
      }
     ],
     "prompt_number": 6
    },
    {
     "cell_type": "heading",
     "level": 2,
     "metadata": {},
     "source": [
      "Example 5.4 Page no 214"
     ]
    },
    {
     "cell_type": "code",
     "collapsed": false,
     "input": [
      "#given\n",
      "d=20*10**3                    #maximum deviation\n",
      "fi=5.0*10**3                  #input frequency\n",
      "\n",
      "#calculation\n",
      "mf=d/fi\n",
      "a=2*35\n",
      "\n",
      "#print\n",
      "print\"the required bandwidth is \",mf\n"
     ],
     "language": "python",
     "metadata": {},
     "outputs": [
      {
       "output_type": "stream",
       "stream": "stdout",
       "text": [
        "the required bandwidth is  4.0\n"
       ]
      }
     ],
     "prompt_number": 2
    },
    {
     "cell_type": "heading",
     "level": 2,
     "metadata": {},
     "source": [
      "Example 5.5 Page no 215"
     ]
    },
    {
     "cell_type": "code",
     "collapsed": false,
     "input": [
      "#given\n",
      "Vm=2000\n",
      "R=50.0                          #resistance, ohm\n",
      "\n",
      "#calcultion\n",
      "import math\n",
      "fc=(2*math.pi*(10**8))/2.0*math.pi\n",
      "P=(2000/math.sqrt(2))**2/R\n",
      "mf=2                                                     #by inspection of FM equation\n",
      "fi=(math.pi*10**4)/(2.0*math.pi)\n",
      "d=(mf*fi)\n",
      "BW=mf*40\n",
      "bw=2*(d+fi)\n",
      "P1=((0.58*2000/math.sqrt(2))**2)/R\n",
      "P2=((0.03*2000/math.sqrt(2))**2)/R\n",
      "\n",
      "#result\n",
      "print\"(a) carrier frequency = \",round(fc,-9),\"Hz\"        #by inspection of FM equation\n",
      "print\"(b) the peak voltage is 2000V P thus= \",P,\"W\"\n",
      "print\"(c) mf = 2\"                                        #by inspection of FM equation\n",
      "print\"(d) the intelligence frequency fi = \",fi,\"Hz\"\n",
      "print\"(e) BW = \",bw ,\"Hz\"                                #using carson's rule \n",
      "print\"(f) The smallest sideband J4 is 0.03 times the carrier = \",P2,\"W\""
     ],
     "language": "python",
     "metadata": {},
     "outputs": [
      {
       "output_type": "stream",
       "stream": "stdout",
       "text": [
        "(a) carrier frequency =  1000000000.0 Hz\n",
        "(b) the peak voltage is 2000V P thus=  40000.0 W\n",
        "(c) mf = 2\n",
        "(d) the intelligence frequency fi =  5000.0 Hz\n",
        "(e) BW =  30000.0 Hz\n",
        "(f) The smallest sideband J4 is 0.03 times the carrier =  36.0 W\n"
       ]
      }
     ],
     "prompt_number": 6
    },
    {
     "cell_type": "heading",
     "level": 2,
     "metadata": {},
     "source": [
      "Example 5.6 Page no 218"
     ]
    },
    {
     "cell_type": "code",
     "collapsed": false,
     "input": [
      "#given\n",
      "d=75*10**3                       #maximum deviation\n",
      "fi=30.0                          #modulating frequency, Hz\n",
      "fi1=15.0*10**3                   \n",
      "d1=1*10**3\n",
      "fi2=100                           #Hz\n",
      "fi3=2.0*10**3\n",
      "\n",
      "#calculation\n",
      "mf1=d/fi\n",
      "mf2=d/fi1\n",
      "mf3=d1/fi2\n",
      "mf4=d1/fi3\n",
      "DR=d1/fi3\n",
      "\n",
      "#result\n",
      "print\"(a)maximum deviation at 30 Hz = \",mf1                           \n",
      "print\"maximum deviation at 15kHz= \",mf2\n",
      "print\"(b) maximum deviation at 100Hz = \",mf3\n",
      "print\"maximum deviation at 2KHz= \",mf4\n",
      "print \"(c)Deviation Ratio \",DR                  #deviation ratio"
     ],
     "language": "python",
     "metadata": {},
     "outputs": [
      {
       "output_type": "stream",
       "stream": "stdout",
       "text": [
        "(a)maximum deviation at 30 Hz =  2500.0\n",
        "maximum deviation at 15kHz=  5.0\n",
        "(b) maximum deviation at 100Hz =  10\n",
        "maximum deviation at 2KHz=  0.5\n",
        "(c)Deviation Ratio  0.5\n"
       ]
      }
     ],
     "prompt_number": 1
    },
    {
     "cell_type": "heading",
     "level": 2,
     "metadata": {},
     "source": [
      "Example 5.7 Page no 218"
     ]
    },
    {
     "cell_type": "code",
     "collapsed": false,
     "input": [
      "#given\n",
      "mf=0.25\n",
      "a=0.98\n",
      "b=0.12\n",
      "x=10*10**3                      #power, watt\n",
      "\n",
      "#calculation\n",
      "P=(a**2)*x\n",
      "P1=(b**2)*x\n",
      "t=P+2*P1\n",
      "\n",
      "#result\n",
      "print\"power of each sideband = \",P1,\"W\"\n",
      "print\"total power = \",round(t,-4),\"W\"\n"
     ],
     "language": "python",
     "metadata": {},
     "outputs": [
      {
       "output_type": "stream",
       "stream": "stdout",
       "text": [
        "power of each sideband =  144.0 W\n",
        "total power =  10000.0 W\n"
       ]
      }
     ],
     "prompt_number": 31
    },
    {
     "cell_type": "heading",
     "level": 2,
     "metadata": {},
     "source": [
      "Example 5.8 Page no 222"
     ]
    },
    {
     "cell_type": "code",
     "collapsed": false,
     "input": [
      "#given\n",
      "phi=0.5                          #maximum intelligence frequency\n",
      "fi=5.0*10**3\n",
      "x=75*10**3\n",
      "\n",
      "#calculation\n",
      "d=phi*fi\n",
      "y=x/d\n",
      "\n",
      "#result\n",
      "print\"o/p S/N = \",y\n"
     ],
     "language": "python",
     "metadata": {},
     "outputs": [
      {
       "output_type": "stream",
       "stream": "stdout",
       "text": [
        "o/p S/N =  30.0\n"
       ]
      }
     ],
     "prompt_number": 34
    },
    {
     "cell_type": "heading",
     "level": 2,
     "metadata": {},
     "source": [
      "Example 5.9 Page no 222"
     ]
    },
    {
     "cell_type": "code",
     "collapsed": false,
     "input": [
      "#given\n",
      "dm=10*10**3\n",
      "x=(1/3.0)                      #N/S input ratio\n",
      "\n",
      "#calculation\n",
      "import math\n",
      "phi=math.asin(x)\n",
      "phi1=math.asin(x)\n",
      "fi=3*10**3\n",
      "d=phi1*fi\n",
      "a=dm/d\n",
      "\n",
      "#result\n",
      "print\"The S/N output will be \",round(a,0)\n"
     ],
     "language": "python",
     "metadata": {},
     "outputs": [
      {
       "output_type": "stream",
       "stream": "stdout",
       "text": [
        "The S/N output will be  10.0\n"
       ]
      }
     ],
     "prompt_number": 36
    }
   ],
   "metadata": {}
  }
 ]
}