{
 "metadata": {
  "name": ""
 },
 "nbformat": 3,
 "nbformat_minor": 0,
 "worksheets": [
  {
   "cells": [
    {
     "cell_type": "heading",
     "level": 1,
     "metadata": {},
     "source": [
      "Chapter 4 single-sideband communication"
     ]
    },
    {
     "cell_type": "heading",
     "level": 2,
     "metadata": {},
     "source": [
      "Example 4.1 Page no 172"
     ]
    },
    {
     "cell_type": "code",
     "collapsed": false,
     "input": [
      "#given\n",
      "x=1*10**6           #DSB range\n",
      "y=10**(80/20.0)\n",
      "\n",
      "#calculation\n",
      "import math\n",
      "z=math.sqrt(y)\n",
      "df=200.0\n",
      "Q=(x*z)/(4.0*df)\n",
      "a=100*10**3\n",
      "Q1=(a*z)/(4.0*df)\n",
      "\n",
      "\n",
      "#result\n",
      "print\"(a) Q for 1MHz  = \",Q\n",
      "print\"(b) Q for 100KHz = \",Q1"
     ],
     "language": "python",
     "metadata": {},
     "outputs": [
      {
       "output_type": "stream",
       "stream": "stdout",
       "text": [
        "(a) Q for 1MHz  =  125000.0\n",
        "(b) Q for 100KHz =  12500.0\n"
       ]
      }
     ],
     "prompt_number": 1
    },
    {
     "cell_type": "heading",
     "level": 2,
     "metadata": {},
     "source": [
      "Example 4.2 Page no 178"
     ]
    },
    {
     "cell_type": "code",
     "collapsed": false,
     "input": [
      "#given\n",
      "a=3*10**6\n",
      "b=3.1*10**6                  #new DSB signal range\n",
      "c=2.9*10**6                  #new DSB signal range\n",
      "\n",
      "#calculation\n",
      "Q=(a/(b-c))\n",
      "\n",
      "#result\n",
      "print\"the required filter Q is = \",Q"
     ],
     "language": "python",
     "metadata": {},
     "outputs": [
      {
       "output_type": "stream",
       "stream": "stdout",
       "text": [
        "the required filter Q is =  15.0\n"
       ]
      }
     ],
     "prompt_number": 1
    },
    {
     "cell_type": "heading",
     "level": 2,
     "metadata": {},
     "source": [
      "Example 4.4 Page no 187"
     ]
    },
    {
     "cell_type": "code",
     "collapsed": false,
     "input": [
      "#given\n",
      "a=455\n",
      "x=2000+1     #frequency\n",
      "y=2000+3     #frequency\n",
      "\n",
      "#calculation\n",
      "c=2000+a      #local oscillator value\n",
      "d=c-x\n",
      "e=c-y\n",
      "f=a-454\n",
      "g=a-452\n",
      "\n",
      "#result\n",
      "print\"RF =\",x,\"KHz\", \"at which first mixer input=\" ,y,\"kHz\"\n",
      "print\"local oscillator value is \",c,\"KHz\"\n",
      "print\"First mixer output is\",d,\"to\",e,\"KHz\"                #IF amp and second mixer input\n",
      "print\"BFO = \",a,\"KHz\"\n",
      "print\"Second mixer output is\",f,\"KHz\", \"and audio amplifier value is =\",g, \"kHz\""
     ],
     "language": "python",
     "metadata": {},
     "outputs": [
      {
       "output_type": "stream",
       "stream": "stdout",
       "text": [
        "RF = 2001 KHz at which first mixer input= 2003 kHz\n",
        "local oscillator value is  2455 KHz\n",
        "First mixer output is 454 to 452 KHz\n",
        "BFO =  455 KHz\n",
        "Second mixer output is 1 KHz and audio amplifier value is = 3 kHz\n"
       ]
      }
     ],
     "prompt_number": 8
    }
   ],
   "metadata": {}
  }
 ]
}