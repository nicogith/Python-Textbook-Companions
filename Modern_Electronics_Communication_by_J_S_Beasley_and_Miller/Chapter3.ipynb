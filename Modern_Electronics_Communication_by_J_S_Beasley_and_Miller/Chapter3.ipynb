{
 "metadata": {
  "name": ""
 },
 "nbformat": 3,
 "nbformat_minor": 0,
 "worksheets": [
  {
   "cells": [
    {
     "cell_type": "heading",
     "level": 1,
     "metadata": {},
     "source": [
      "Chapter 3 Amplitude modulation-Reception "
     ]
    },
    {
     "cell_type": "heading",
     "level": 2,
     "metadata": {},
     "source": [
      "Example 3.1 Page no 120"
     ]
    },
    {
     "cell_type": "code",
     "collapsed": false,
     "input": [
      "# given\n",
      "fr=550*10**3                           #frequency, Hz\n",
      "L=10.0*10**-6                          #inductor, H\n",
      "fr1=1550*10**3\n",
      "\n",
      "#calculation \n",
      "import math\n",
      "a=fr*2*math.pi\n",
      "x=fr1*2*math.pi\n",
      "b=1/a\n",
      "y=1/x\n",
      "C1=((b)**2/L)\n",
      "C2=((y)**2/L)\n",
      "fr2=1100*10**3\n",
      "BW=10.0*10**3\n",
      "Q=(fr2/BW)\n",
      "BW1=(fr1/Q)\n",
      "BW2=(fr/Q)\n",
      "\n",
      "#result\n",
      "print\"(a) required range of capacitance is from \",round(C2,12),\"F\",\"to\",round(C1,12),\"F\"\n",
      "print\"(b) Q= \",Q\n",
      "print\"(c) Bandwidth of receiver at 1550 KHz = \",round(BW1,2),\"Hz\"\n",
      "print\"Babdwidth of receiver at 550 KHz = \",BW2,\"Hz\""
     ],
     "language": "python",
     "metadata": {},
     "outputs": [
      {
       "output_type": "stream",
       "stream": "stdout",
       "text": [
        "(a) required range of capacitance is from  1.054e-09 F to 8.374e-09 F\n",
        "(b) Q=  110.0\n",
        "(c) Bandwidth of receiver at 1550 KHz =  14090.91 Hz\n",
        "Babdwidth of receiver at 550 KHz =  5000.0 Hz\n"
       ]
      }
     ],
     "prompt_number": 11
    },
    {
     "cell_type": "heading",
     "level": 2,
     "metadata": {},
     "source": [
      "Example 3.2 Page no 134"
     ]
    },
    {
     "cell_type": "code",
     "collapsed": false,
     "input": [
      "# given\n",
      "f=620*10**3                                    #frequency, Hz\n",
      "IF=455*10**3\n",
      "\n",
      "#calculation\n",
      "LO=f+IF\n",
      "X=IF+LO\n",
      "# image frequency of local oscillator\n",
      "#station frequency = 620 kHz\n",
      "\n",
      "#Result\n",
      "print\"LO =  Hz\",LO\n",
      "print\"X-1075kHz=\",X,\"Hz\"\n"
     ],
     "language": "python",
     "metadata": {},
     "outputs": [
      {
       "output_type": "stream",
       "stream": "stdout",
       "text": [
        "LO =  Hz 1075000\n",
        "X-1075kHz= 1530000 Hz\n"
       ]
      }
     ],
     "prompt_number": 3
    },
    {
     "cell_type": "heading",
     "level": 2,
     "metadata": {},
     "source": [
      "Example 3.3 Page no 150"
     ]
    },
    {
     "cell_type": "code",
     "collapsed": false,
     "input": [
      "#Given\n",
      "V=8*10**-6                         #microvolts\n",
      "R=50                               #input resistance, ohm\n",
      "\n",
      "#Calculation\n",
      "import math\n",
      "P=(V**2)/R\n",
      "dBm=10*math.log10(P/0.001)\n",
      "dBW=10*math.log10(P/1)\n",
      "a=(-89+8+3+24+26+26-2+34)\n",
      "x=(a/10)\n",
      "y=10**x\n",
      "z=y*0.001\n",
      "\n",
      "#Result\n",
      "print\"input power  is= \",P,\"W\"      \n",
      "print\"dBm = \",round(dBm,0),\"dBm\"\n",
      "print\"dBW = \",round(dBW,0),\"dBw\"\n",
      "print\"Pout(dBm) =\",a,\" dBm into speaker\"\n",
      "print\"Pout(dBW) =\",z,\"W\"\n",
      "\n"
     ],
     "language": "python",
     "metadata": {},
     "outputs": [
      {
       "output_type": "stream",
       "stream": "stdout",
       "text": [
        "input power  is=  1.28e-12 W\n",
        "dBm =  -89.0 dBm\n",
        "dBW =  -119.0 dBw\n",
        "Pout(dBm) = 30  dBm into speaker\n",
        "Pout(dBW) = 1.0 W\n"
       ]
      }
     ],
     "prompt_number": 14
    }
   ],
   "metadata": {}
  }
 ]
}