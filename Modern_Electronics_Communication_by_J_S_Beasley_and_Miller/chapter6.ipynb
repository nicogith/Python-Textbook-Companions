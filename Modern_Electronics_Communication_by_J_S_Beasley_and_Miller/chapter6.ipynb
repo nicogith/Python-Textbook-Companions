{
 "metadata": {
  "name": ""
 },
 "nbformat": 3,
 "nbformat_minor": 0,
 "worksheets": [
  {
   "cells": [
    {
     "cell_type": "heading",
     "level": 1,
     "metadata": {},
     "source": [
      "Chapter 6: Frequency Modulation:Reception"
     ]
    },
    {
     "cell_type": "heading",
     "level": 2,
     "metadata": {},
     "source": [
      "Example 6.1 Page no 265"
     ]
    },
    {
     "cell_type": "code",
     "collapsed": false,
     "input": [
      "#Given\n",
      "G=200000                  #voltage gain\n",
      "v=200*10**-3              #quieting voltage\n",
      "\n",
      "#calculation\n",
      "In=v/G\n",
      "\n",
      "#Result\n",
      "print\"To reach quieting, the input must be \",In*10**6,\"microV\""
     ],
     "language": "python",
     "metadata": {},
     "outputs": [
      {
       "output_type": "stream",
       "stream": "stdout",
       "text": [
        "To reach quieting, the input must be  1.0 microV\n"
       ]
      }
     ],
     "prompt_number": 6
    },
    {
     "cell_type": "heading",
     "level": 2,
     "metadata": {},
     "source": [
      "Example 6.2 Page no 272"
     ]
    },
    {
     "cell_type": "code",
     "collapsed": false,
     "input": [
      "#Given\n",
      "f=10*10**6      #frequency\n",
      "f1=50*10**3     #input frequency\n",
      "f2=200*10**3    #output frequency\n",
      "\n",
      "#Calculatiion\n",
      "x=f1*2\n",
      "y=f2*2\n",
      "\n",
      "#Result\n",
      "print\"The capture occurred at from the free-running VCO frequency.\",f1,\"Hz\"\n",
      "print\"Assume symmetrical operation,which implies a capture range of \",x,\"Hz\"\n",
      "print\"Once captured the VCO follows the input to a \",f2,\"Hz deviation,implying a lock range of \",y,\"Hz\"\n"
     ],
     "language": "python",
     "metadata": {},
     "outputs": [
      {
       "output_type": "stream",
       "stream": "stdout",
       "text": [
        "The capture occurred at from the free-running VCO frequency. 50000 Hz\n",
        "Assume symmetrical operation,which implies a capture range of  100000 Hz\n",
        "Once captured the VCO follows the input to a  200000 Hz deviation,implying a lock range of  400000 Hz\n"
       ]
      }
     ],
     "prompt_number": 11
    }
   ],
   "metadata": {}
  }
 ]
}