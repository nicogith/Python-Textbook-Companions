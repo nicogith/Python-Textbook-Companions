{
 "metadata": {
  "name": "",
  "signature": "sha256:358c1b86e82f27b9eee799b4793457200c3f930f370a7e7347103331d9245d4d"
 },
 "nbformat": 3,
 "nbformat_minor": 0,
 "worksheets": [
  {
   "cells": [
    {
     "cell_type": "heading",
     "level": 1,
     "metadata": {},
     "source": [
      "Chapter 13 Wave Propagation"
     ]
    },
    {
     "cell_type": "heading",
     "level": 2,
     "metadata": {},
     "source": [
      "Example 13.1 Page no 628"
     ]
    },
    {
     "cell_type": "code",
     "collapsed": false,
     "input": [
      "#given\n",
      "x=(2*(1/2.0))\n",
      "a=15\n",
      "d=53.5*10**-6                           #duration for each horizontal line on the reciever\n",
      "t=1/186000.0                            #time delay between direct and reflected signal\n",
      "\n",
      "#calculation\n",
      "g=(t/d)*a                               #ghost width\n",
      "\n",
      "#result\n",
      "print\"ghost width = \",round(g,2),\"in.\""
     ],
     "language": "python",
     "metadata": {},
     "outputs": [
      {
       "output_type": "stream",
       "stream": "stdout",
       "text": [
        "ghost width =  1.51 in.\n"
       ]
      }
     ],
     "prompt_number": 2
    },
    {
     "cell_type": "heading",
     "level": 2,
     "metadata": {},
     "source": [
      "Example 13.2 Page no 641"
     ]
    },
    {
     "cell_type": "code",
     "collapsed": false,
     "input": [
      "#given\n",
      "S=83                        #satellite longitude in degrees\n",
      "N=90                        #site longitude in degrees\n",
      "L=35                        #site longitude in degrees\n",
      "\n",
      "#calculation\n",
      "import math\n",
      "b=0.1512                     #constant in equation\n",
      "A=180+math.atan(math.tan(-7*3.14/180)/math.sin(35*3.14/180))*180/3.14  \n",
      "E=math.atan((math.cos((S-N)*3.14/180)*math.cos(L*3.14/180)-b)/math.sqrt(1-((math.cos(L*3.14/180))**2*(math.cos((S-N)*3.14/180))**2)))*180/3.14\n",
      "\n",
      "#Result\n",
      "print\"The azimuth is equal to A = \",round(A,0),\"degree\"\n",
      "print\"the elevation angle  = \",round(E,1),\"degree\""
     ],
     "language": "python",
     "metadata": {},
     "outputs": [
      {
       "output_type": "stream",
       "stream": "stdout",
       "text": [
        "The azimuth is equal to A =  168.0 degree\n",
        "the elevation angle  =  48.7 degree\n"
       ]
      }
     ],
     "prompt_number": 7
    },
    {
     "cell_type": "heading",
     "level": 2,
     "metadata": {},
     "source": [
      "Example 13.3 Page no 646"
     ]
    },
    {
     "cell_type": "code",
     "collapsed": false,
     "input": [
      "#given\n",
      "import math\n",
      "x=(32+(44/60.0)+(36/3600.0))                           # N latitude\n",
      "y=(106+(16/60.0)+(37/3600.0))                          #W longitude\n",
      "D=42.1642*10**6                                    #distance from the satellite to the center of the earth\n",
      "R=6.378*10**6                                      #earth's radius\n",
      "a=32.74333*3.14/180.0                             #in degree\n",
      "B=-7.27694*3.14/180.0                               #in degree\n",
      "\n",
      "#calculation\n",
      "q=math.cos(a)*math.cos(B)\n",
      "\n",
      "d=math.sqrt(D**2+R**2-(2*D*R*q))\n",
      "c=2.997925*10**5                                    #velocity of light\n",
      "de=d/c\n",
      "rd=(2*d)/c\n",
      "\n",
      "#result\n",
      "print\"N longitude converted into degrees = \",round(x,2)\n",
      "print\"W longitude  coverted into degrees =\",round(y,2)\n",
      "print\"distance =  \",round(d/1000,1),\"*10**6 meters\"\n",
      "print\"delay =\",round(de/1000,3),\"seconds\"\n",
      "print\"roundtrip delay = \",round(rd/1000,3),\"seconds\" \n",
      "\n"
     ],
     "language": "python",
     "metadata": {},
     "outputs": [
      {
       "output_type": "stream",
       "stream": "stdout",
       "text": [
        "N longitude converted into degrees =  32.74\n",
        "W longitude  coverted into degrees = 106.28\n",
        "distance =   37009.1 *10**6 meters\n",
        "delay = 0.123 seconds\n",
        "roundtrip delay =  0.247 seconds\n"
       ]
      }
     ],
     "prompt_number": 7
    },
    {
     "cell_type": "heading",
     "level": 2,
     "metadata": {},
     "source": [
      "Example 13.4 Page no 651"
     ]
    },
    {
     "cell_type": "code",
     "collapsed": false,
     "input": [
      "#given\n",
      "G=45                                     #antenna gain\n",
      "nt=25                                    #antenna noise temperature\n",
      "nt1=70                                   #LNB noise temperature\n",
      "nt2=2                                    #noise temperature(reciever and passive components)\n",
      "\n",
      "#calculation\n",
      "import math\n",
      "T=nt+nt1+nt2                             #total noise temperature\n",
      "x=G-10*math.log10(T)                     #figure of merit\n",
      "\n",
      "#result\n",
      "print\"Sum of all of the noise temperature contributions Ts = \",T,\"k\"\n",
      "print\"The figure of merit = \",round(x,2),\"dB\"\n"
     ],
     "language": "python",
     "metadata": {},
     "outputs": [
      {
       "output_type": "stream",
       "stream": "stdout",
       "text": [
        "Sum of all of the noise temperature contributions Ts =  97 k\n",
        "The figure of merit =  25.13 dB\n"
       ]
      }
     ],
     "prompt_number": 19
    },
    {
     "cell_type": "heading",
     "level": 2,
     "metadata": {},
     "source": [
      "Example 13.5 Page no 652"
     ]
    },
    {
     "cell_type": "code",
     "collapsed": false,
     "input": [
      "#given\n",
      "d=41.130383*10**6                                #dismath.tance\n",
      "c=2.997925*10**8                                 #velocity of light\n",
      "f=14.25*10**9                                    #uplink frequency\n",
      "\n",
      "#calculation\n",
      "import math\n",
      "h=c/f                                            #wavelength\n",
      "x=(4*math.pi*d)/h\n",
      "Lp=20*math.log10(x)                              #free-space path loss\n",
      "\n",
      "#result\n",
      "print\"The wavelength is= \",round(h,2)\n",
      "print\"Lp(dB)= \",round(Lp,2),\"dB\"\n",
      "#INcorrect answer of h in the textbook"
     ],
     "language": "python",
     "metadata": {},
     "outputs": [
      {
       "output_type": "stream",
       "stream": "stdout",
       "text": [
        "The wavelength is=  0.02\n",
        "Lp(dB)=  207.81 dB\n"
       ]
      }
     ],
     "prompt_number": 9
    }
   ],
   "metadata": {}
  }
 ]
}