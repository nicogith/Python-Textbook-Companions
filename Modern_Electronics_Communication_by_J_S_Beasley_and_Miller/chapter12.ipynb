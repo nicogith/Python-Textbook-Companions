{
 "metadata": {
  "name": ""
 },
 "nbformat": 3,
 "nbformat_minor": 0,
 "worksheets": [
  {
   "cells": [
    {
     "cell_type": "heading",
     "level": 1,
     "metadata": {},
     "source": [
      "Chapter 12 Transmission Lines"
     ]
    },
    {
     "cell_type": "heading",
     "level": 2,
     "metadata": {},
     "source": [
      "Example 12.1 Page no 573"
     ]
    },
    {
     "cell_type": "code",
     "collapsed": false,
     "input": [
      "#given\n",
      "L=73.75*10**-9                    #inductance, H\n",
      "C=29.5*10**-12                    #capacitance\n",
      "x=5280\n",
      "\n",
      "#calculation\n",
      "import math\n",
      "Z=math.sqrt(L/C)\n",
      "z1=math.sqrt((x*L)/(x*C))\n",
      "\n",
      "#result\n",
      "print\"characterstics impedence for 1-ft =\",Z,\"ohm\"\n",
      "print\"characterstics impedence for 1-mi = \",z1,\"ohm\""
     ],
     "language": "python",
     "metadata": {},
     "outputs": [
      {
       "output_type": "stream",
       "stream": "stdout",
       "text": [
        "characterstics impedence for 1-ft = 50.0 ohm\n",
        "characterstics impedence for 1-mi =  50.0 ohm\n"
       ]
      }
     ],
     "prompt_number": 2
    },
    {
     "cell_type": "heading",
     "level": 2,
     "metadata": {},
     "source": [
      "Example 12.2 Page no 574"
     ]
    },
    {
     "cell_type": "code",
     "collapsed": false,
     "input": [
      "#given\n",
      "a=2                           #parallel wire line\n",
      "b=2.35                        #coaxial line\n",
      "D=0.285\n",
      "d=0.08\n",
      "e=1.0                         #dielectric constant of insulating material relative to air\n",
      "\n",
      "#calculation\n",
      "import math\n",
      "z=(276/e)*math.log10(2*2)\n",
      "z1=(138/e)*math.log10(b)\n",
      "z2=(138/math.sqrt(2.3)*math.log10(D/d))\n",
      "\n",
      "#result\n",
      "print\"(a) characterstics impedence for a parallel wire = \",round(z,0),\"ohm\"\n",
      "print\"(b) characterstics impedence for a air dielectric coaxial line= \",round(z1,1),\"ohm\"\n",
      "print\"(c) characterstics impedence = \",round(z2,0),\"ohm\""
     ],
     "language": "python",
     "metadata": {},
     "outputs": [
      {
       "output_type": "stream",
       "stream": "stdout",
       "text": [
        "(a) characterstics impedence for a parallel wire =  166.0 ohm\n",
        "(b) characterstics impedence for a air dielectric coaxial line=  51.2 ohm\n",
        "(c) characterstics impedence =  50.0 ohm\n"
       ]
      }
     ],
     "prompt_number": 7
    },
    {
     "cell_type": "heading",
     "level": 2,
     "metadata": {},
     "source": [
      "Example 12.3 Page no 579"
     ]
    },
    {
     "cell_type": "code",
     "collapsed": false,
     "input": [
      "#given\n",
      "L=73.75*10**-9                #inductance, H\n",
      "C=29.5*10**-12                #capacitance\n",
      "d=1                           #distance\n",
      "\n",
      "#calculation\n",
      "import math\n",
      "t=math.sqrt(L*C)\n",
      "Vp=d/t\n",
      "\n",
      "#result\n",
      "print\"the delay introduced is t =\",round(t,10),\"s\"\n",
      "print\"The velocity of propagation is  \",round(Vp*10**-8,3),\"*10**8 ft/s\""
     ],
     "language": "python",
     "metadata": {},
     "outputs": [
      {
       "output_type": "stream",
       "stream": "stdout",
       "text": [
        "the delay introduced is t = 1.5e-09 s\n",
        "The velocity of propagation is   6.78 *10**8 ft/s\n"
       ]
      }
     ],
     "prompt_number": 11
    },
    {
     "cell_type": "heading",
     "level": 2,
     "metadata": {},
     "source": [
      "Example 12.4 Page no 580"
     ]
    },
    {
     "cell_type": "code",
     "collapsed": false,
     "input": [
      "#given\n",
      "v=2.07*10**8                     #velocity\n",
      "c=3.0*10**8                      #velocity of light\n",
      "Er=2.3                           #relative dielectric constant\n",
      "\n",
      "#calculation\n",
      "import math\n",
      "vf=(v/c)                         #velocity factor\n",
      "vf1=1/math.sqrt(Er)\n",
      "\n",
      "#result\n",
      "print\"The velocity = \",vf,\"m/s\"\n",
      "print\"vf = \",round(vf1,3)"
     ],
     "language": "python",
     "metadata": {},
     "outputs": [
      {
       "output_type": "stream",
       "stream": "stdout",
       "text": [
        "The velocity =  0.69 m/s\n",
        "vf =  0.659\n"
       ]
      }
     ],
     "prompt_number": 1
    },
    {
     "cell_type": "heading",
     "level": 2,
     "metadata": {},
     "source": [
      "Example 12.5 Page no 581"
     ]
    },
    {
     "cell_type": "code",
     "collapsed": false,
     "input": [
      "#given\n",
      "c=3*10**8                         #speed of light\n",
      "f=100.0*10**6                     #frequency of signal\n",
      "x=2.07*10**8                      #velocity of wave propagation\n",
      "\n",
      "#Calcultion\n",
      "w=c/f                             #wavelength in free-space\n",
      "w1=x/f                            #wavelength while traveling through an RG-8A/U coaxial cable\n",
      "\n",
      "#Result\n",
      "print\"In free space, lambda =\",w,\"m\"\n",
      "print\"While traveling through RG-8A/U cable, lamda= \",w1,\"m\"\n"
     ],
     "language": "python",
     "metadata": {},
     "outputs": [
      {
       "output_type": "stream",
       "stream": "stdout",
       "text": [
        "In free space, lambda = 3.0 m\n",
        "While traveling through RG-8A/U cable, lamda=  2.07 m\n"
       ]
      }
     ],
     "prompt_number": 1
    },
    {
     "cell_type": "heading",
     "level": 2,
     "metadata": {},
     "source": [
      "Example 12.7 Page no 592"
     ]
    },
    {
     "cell_type": "code",
     "collapsed": false,
     "input": [
      "#Given\n",
      "Zl=300.0                                     #load impedance\n",
      "Zo=50.0                                      #characteristic impedance\n",
      "v=2.07*10**8                                 #velocity in RG-8A/U cable\n",
      "f=27.0*10**6                                 #operating frequency of citizen's band transmitter\n",
      "Po=4                                         #output power of transmitter\n",
      "l=10                                         #length of RG-8A/U cable\n",
      "Rl=300                                       #input resistance of antenna\n",
      "\n",
      "#calculation\n",
      "T=((Zl-Zo)/(Zl+Zo))                          #reflection coefficient\n",
      "h=v/f                                        #length of cable in wavelength\n",
      "le=l/h                                       #electrical length\n",
      "x=Rl/Zo                                      #VSWR\n",
      "y=((1+T)/(1-T))                              #VSWR\n",
      "rp=(T)**2*Po                                 #reflected power\n",
      "Pl=Po-rp                                     #load power\n",
      "#part(a): The reflection coefficient\n",
      "\n",
      "#result\n",
      "print\"(a) reflection cofficient = \",round(T,2)\n",
      "print\"(b) electrical length =\",round(le,2),\"lambda\"\n",
      "print\"(c) VSWR = \",y\n",
      "print\"(d) the reflected voltage = \",round(Pl,2),\"W\"\n",
      "\n"
     ],
     "language": "python",
     "metadata": {},
     "outputs": [
      {
       "output_type": "stream",
       "stream": "stdout",
       "text": [
        "(a) reflection cofficient =  0.71\n",
        "(b) electrical length = 1.3 lambda\n",
        "(c) VSWR =  6.0\n",
        "(d) the reflected voltage =  1.96 W\n"
       ]
      }
     ],
     "prompt_number": 1
    },
    {
     "cell_type": "heading",
     "level": 2,
     "metadata": {},
     "source": [
      "Example 12.8 Page no 597"
     ]
    },
    {
     "cell_type": "code",
     "collapsed": false,
     "input": [
      "#given\n",
      "Zo=100.0                             #characteristic impedance\n",
      "j=1j\n",
      "Zl = 200-j*150                       #load impedance\n",
      "l=4.3                                #length of transmission line\n",
      "\n",
      "#calculation\n",
      "x=200/Zo\n",
      "y=150/Zo\n",
      "a=0.4*Zo\n",
      "b=0.57*Zo\n",
      "\n",
      "#result\n",
      "print\"Zin = \",a,\"Ohm\",\"+j*\",b,\"Ohm\"\n"
     ],
     "language": "python",
     "metadata": {},
     "outputs": [
      {
       "output_type": "stream",
       "stream": "stdout",
       "text": [
        "Zin =  40.0 Ohm +j* 57.0 Ohm\n"
       ]
      }
     ],
     "prompt_number": 10
    },
    {
     "cell_type": "heading",
     "level": 2,
     "metadata": {},
     "source": [
      "Example 12.9 Page no 599"
     ]
    },
    {
     "cell_type": "code",
     "collapsed": false,
     "input": [
      "#given\n",
      "import cmath\n",
      "j=1j\n",
      "RL=120                                     #load resistance from smith chart\n",
      "ZL=complex(75,50)                 #load impedance\n",
      "Z0=50.0                             #characteristic impedance\n",
      "\n",
      "#calculation\n",
      "import math\n",
      "z1=ZL/Z0\n",
      "z=2.4                                      #normalized z at a point that is purely resistive\n",
      "ar=z*Z0                                    #actual resistance\n",
      "x=math.sqrt(Z0*RL)\n",
      "\n",
      "#Result\n",
      "print\"zl= \",z1\n",
      "#VSWR,zin,R can be found out from smith chart manually\n",
      "print\"characteristic impedance is =\",round(x,2),\"ohm\"              \n"
     ],
     "language": "python",
     "metadata": {},
     "outputs": [
      {
       "output_type": "stream",
       "stream": "stdout",
       "text": [
        "zl=  (1.5+1j)\n",
        "characteristic impedance is = 77.46 ohm\n"
       ]
      }
     ],
     "prompt_number": 8
    },
    {
     "cell_type": "heading",
     "level": 2,
     "metadata": {},
     "source": [
      "Example 12.10 Page no 601"
     ]
    },
    {
     "cell_type": "code",
     "collapsed": false,
     "input": [
      "#given\n",
      "import cmath\n",
      "Z0=75.0                              #characteristic impedance\n",
      "j=1j\n",
      "ZL=complex(50,-100)                 #load impedance\n",
      "\n",
      "#Calculation\n",
      "zL=ZL/Z0\n",
      "#Result\n",
      "print\"zL =\",zL\n"
     ],
     "language": "python",
     "metadata": {},
     "outputs": [
      {
       "output_type": "stream",
       "stream": "stdout",
       "text": [
        "zL = (0.666666666667-1.33333333333j)\n"
       ]
      }
     ],
     "prompt_number": 7
    }
   ],
   "metadata": {}
  }
 ]
}