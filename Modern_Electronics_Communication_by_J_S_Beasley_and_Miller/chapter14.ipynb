{
 "metadata": {
  "name": ""
 },
 "nbformat": 3,
 "nbformat_minor": 0,
 "worksheets": [
  {
   "cells": [
    {
     "cell_type": "heading",
     "level": 1,
     "metadata": {},
     "source": [
      "Chapter 14 Antennas"
     ]
    },
    {
     "cell_type": "heading",
     "level": 2,
     "metadata": {},
     "source": [
      "Example 14.1 Page no 669"
     ]
    },
    {
     "cell_type": "code",
     "collapsed": false,
     "input": [
      "#given\n",
      "c=3*10**8                   #m/s , speed of light              \n",
      "f=150*10**6                 #frequency\n",
      "\n",
      "#calculation\n",
      "h=c/f\n",
      "x=1/2.0                     #antennas dimension(D)\n",
      "D=0.5*2\n",
      "Rff=5*D\n",
      "h=c/f \n",
      "D = h/2\n",
      "\n",
      "#result\n",
      "print\" distance =\",Rff,\"m\"\n"
     ],
     "language": "python",
     "metadata": {},
     "outputs": [
      {
       "output_type": "stream",
       "stream": "stdout",
       "text": [
        " distance = 5.0 m\n"
       ]
      }
     ],
     "prompt_number": 2
    },
    {
     "cell_type": "heading",
     "level": 2,
     "metadata": {},
     "source": [
      "Example 14.2 Page no 669"
     ]
    },
    {
     "cell_type": "code",
     "collapsed": false,
     "input": [
      "#given\n",
      "c=3*10**8       #velocity of light\n",
      "f=12.0*10**9    #frequency\n",
      "D=4.5           #diameter of parabolic reflector\n",
      "\n",
      "#calculation\n",
      "h=c/f           #wavelength\n",
      "x=D/h\n",
      "R=(2*D**2)/h\n",
      "\n",
      "#result\n",
      "print\"distance from parabolic reflector= \",R,\"m\""
     ],
     "language": "python",
     "metadata": {},
     "outputs": [
      {
       "output_type": "stream",
       "stream": "stdout",
       "text": [
        "distance from parabolic reflector=  1620.0 m\n"
       ]
      }
     ],
     "prompt_number": 3
    },
    {
     "cell_type": "heading",
     "level": 2,
     "metadata": {},
     "source": [
      "Example 14.3 Page no 671"
     ]
    },
    {
     "cell_type": "code",
     "collapsed": false,
     "input": [
      "#given\n",
      "Pt=10                   #transmitted power\n",
      "#dipoles have gain 2.15dB  \n",
      "Gr=1.64\n",
      "c=3*10**8               #velocity of light\n",
      "f=144.0*10**6           #frequency\n",
      "d=50*10**3              #distance between antennas\n",
      "Gt=1.64                 #recieving antenna gain(ratio) compared to isotropic radiator\n",
      "\n",
      "#calculation\n",
      "import math\n",
      "Pr=Pt*Gt*Gr*(c/f)**2/((16*(math.pi)**2)*(d**2))                #power recieved\n",
      "\n",
      "#result\n",
      "print\"Power received = \",round(Pr,12),\"w\"\n",
      "\n"
     ],
     "language": "python",
     "metadata": {},
     "outputs": [
      {
       "output_type": "stream",
       "stream": "stdout",
       "text": [
        "Power received =  2.96e-10 w\n"
       ]
      }
     ],
     "prompt_number": 2
    },
    {
     "cell_type": "heading",
     "level": 2,
     "metadata": {},
     "source": [
      "Example 14.4 Page no 674"
     ]
    },
    {
     "cell_type": "code",
     "collapsed": false,
     "input": [
      "#Given\n",
      "c=3*10**8         #velocity of light\n",
      "f=100*10**6       #frequency\n",
      "\n",
      "#Calculation\n",
      "h=c/f         #wavelength\n",
      "x=h/2.0         #dipole i.e h/2\n",
      "l=0.95*x       #applying 95% correction,the actual optimum physical length\n",
      "L=486/100.0      #alternative method to find length\n",
      "\n",
      "#Result\n",
      "print\"length of antenna = \",l,\"m\"\n"
     ],
     "language": "python",
     "metadata": {},
     "outputs": [
      {
       "output_type": "stream",
       "stream": "stdout",
       "text": [
        "length of antenna =  1.425 m\n"
       ]
      }
     ],
     "prompt_number": 1
    }
   ],
   "metadata": {}
  }
 ]
}