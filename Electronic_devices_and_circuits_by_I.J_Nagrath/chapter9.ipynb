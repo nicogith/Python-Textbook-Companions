{
 "metadata": {
  "name": "",
  "signature": "sha256:2422fd711b2fd56d40e4219a033361f9b209ac35916fbe15f9fd192288113f4c"
 },
 "nbformat": 3,
 "nbformat_minor": 0,
 "worksheets": [
  {
   "cells": [
    {
     "cell_type": "heading",
     "level": 1,
     "metadata": {},
     "source": [
      "Chapter 9:Integrated Circuit Fabrication"
     ]
    },
    {
     "cell_type": "heading",
     "level": 2,
     "metadata": {},
     "source": [
      "Example 9.2,Page number 470"
     ]
    },
    {
     "cell_type": "code",
     "collapsed": false,
     "input": [
      "#Variable declaration\n",
      "t=1                   #thickness(mil)         \n",
      "e=1.6*10**-19         #charge on electron(C)\n",
      "Pp=10**17             #concentration of phosphorous(atoms/cm^3)\n",
      "Bn=5*10**16           #boron concentration(atoms/cm^3)\n",
      "un=.135               #mobility(m^2/Vs)\n",
      "\n",
      "#Calculations\n",
      "n=(Pp-Bn)*10**6       #net concentration(atoms/cm^3)\n",
      "g=e*un*n              #conductivity()\n",
      "rho=10**6/(g*25)      #resistivity(ohm mil)\n",
      "Rs=rho/t              #sheet resistance(ohm mil^2)\n",
      "\n",
      "#Results\n",
      "print\"Sheet resistance is\",round(Rs),\"ohm(mil**2)\""
     ],
     "language": "python",
     "metadata": {},
     "outputs": [
      {
       "output_type": "stream",
       "stream": "stdout",
       "text": [
        "Sheet resistance is 37.0 ohm(mil**2)\n"
       ]
      }
     ],
     "prompt_number": 9
    },
    {
     "cell_type": "heading",
     "level": 2,
     "metadata": {},
     "source": [
      "Example 9.3,Page number 471"
     ]
    },
    {
     "cell_type": "code",
     "collapsed": false,
     "input": [
      "#Variable declaration\n",
      "R=20*10**3              #resistance of resistor(ohms)\n",
      "w=25                    #width(um)\n",
      "Rs=200                  #sheet resistance(ohm/square)\n",
      "R1=5*10**3              #resistance(ohms)\n",
      "\n",
      "#Calculations\n",
      "#Part a\n",
      "l=(R*w)/Rs              #length required to fabricate 20 kohms(um)\n",
      "\n",
      "#Part b\n",
      "L=25             #length of resistor of 5 k ohms(um)\n",
      "w1=(Rs*L)/R1     #width required to fabricate 5 kohms(um)\n",
      "#Results\n",
      "print\"length required to fabricate 20 kohms resistor is\",l,\"um\"\n",
      "print\"width required to fabricate 5 kohms resistor is\",w1,\"um\""
     ],
     "language": "python",
     "metadata": {},
     "outputs": [
      {
       "output_type": "stream",
       "stream": "stdout",
       "text": [
        "length required to fabricate 20 kohms resistor is 2500 um\n",
        "width required to fabricate 5 kohms resistor is 1 um\n"
       ]
      }
     ],
     "prompt_number": 2
    },
    {
     "cell_type": "heading",
     "level": 2,
     "metadata": {},
     "source": [
      "Example 9.4,Page number 471"
     ]
    },
    {
     "cell_type": "code",
     "collapsed": false,
     "input": [
      "#Variable declaration\n",
      "C=0.4*10**-12               #capacitance(pF/um^2)\n",
      "A=10**-12                   #area of film(m^2)\n",
      "d=400*10**-10               #thickness of SiO2(amstrong)\n",
      "Eo=8.849*10**-12            #absolute electrical permitivity of free space\n",
      "\n",
      "#Calculations\n",
      "Er=(C*d)/(Eo*A)             #relative dielectric constant\n",
      "\n",
      "#Results\n",
      "print\"relative dielectric constant of SiO2 is\",round(Er),\"(Solution given in the textbook is incorrect)\""
     ],
     "language": "python",
     "metadata": {},
     "outputs": [
      {
       "output_type": "stream",
       "stream": "stdout",
       "text": [
        "relative dielectric constant of SiO2 is 1808.0 (Solution given in the textbook is incorrect)\n"
       ]
      }
     ],
     "prompt_number": 2
    },
    {
     "cell_type": "heading",
     "level": 2,
     "metadata": {},
     "source": [
      "Example 9.5,Page number 471"
     ]
    },
    {
     "cell_type": "code",
     "collapsed": false,
     "input": [
      "#Variable declaration\n",
      "C=250*10**-12               #capacitance(pF)\n",
      "d=500*10**-10               #thickness of SiO2 layer(amstrong)\n",
      "Eo=8.849*10**-12            #absolute electrical permitivity of free space\n",
      "Er=3.5                      #relative dielectric constant\n",
      "\n",
      "#Calculations\n",
      "A=(C*d)/(Eo*Er)            #chip area(um^2)\n",
      "\n",
      "#Results\n",
      "print\"chip area needed for a 250 pF  MOS capacitor\",round(A/1e-7,2),\"(um)^2(Solution given in the textbook is incorrect)\""
     ],
     "language": "python",
     "metadata": {},
     "outputs": [
      {
       "output_type": "stream",
       "stream": "stdout",
       "text": [
        "chip area needed for a 250 pF  MOS capacitor 4.04 (um)^2(Solution given in the textbook is incorrect)\n"
       ]
      }
     ],
     "prompt_number": 8
    }
   ],
   "metadata": {}
  }
 ]
}