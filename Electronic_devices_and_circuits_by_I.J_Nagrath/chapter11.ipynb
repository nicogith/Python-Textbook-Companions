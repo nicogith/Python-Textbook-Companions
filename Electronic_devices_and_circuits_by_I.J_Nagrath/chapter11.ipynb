{
 "metadata": {
  "name": "",
  "signature": "sha256:9ece3b9f8730ff4f15d623a124d9415b373cdc935ed6cb089360bef5516a2604"
 },
 "nbformat": 3,
 "nbformat_minor": 0,
 "worksheets": [
  {
   "cells": [
    {
     "cell_type": "heading",
     "level": 1,
     "metadata": {},
     "source": [
      "                                Chapter 11: Cathode Ray Oscilloscope"
     ]
    },
    {
     "cell_type": "heading",
     "level": 2,
     "metadata": {},
     "source": [
      "Example 11.2,Page number 532"
     ]
    },
    {
     "cell_type": "code",
     "collapsed": false,
     "input": [
      "#Variable declaration\n",
      "E=120                  #electric field(V/m)              \n",
      "B=5*10**-5             #magnetic field(T) \n",
      "q=1.6*10**-19          #charge on electron(C)\n",
      "u=10**6                #velocity of electron(m/s)\n",
      "m=9.1*10**-31          #mass of electron(Kg) \n",
      "a=9.81                 #acceleration of gravitation(m/s^2)\n",
      "\n",
      "#Calculations\n",
      "#Part a\n",
      "fe=q*E                #force on electron due to electric field(N)\n",
      "\n",
      "#Part\n",
      "fm=B*q*u             #force on electron due to magnetic field(N)\n",
      "\n",
      "#Part c\n",
      "fg=m*a               #force on electron due to gravitational field(N)\n",
      "\n",
      "#Results\n",
      "print\"force on electron due to electric field is\",fe,\"N\"\n",
      "print\"force on electron due to magnetic field is\",fm,\"N\"\n",
      "print\"force on electron due to gravitational field is\",fg,\"N\""
     ],
     "language": "python",
     "metadata": {},
     "outputs": [
      {
       "output_type": "stream",
       "stream": "stdout",
       "text": [
        "force on electron due to electric field is 1.92e-17 N\n",
        "force on electron due to magnetic field is 8e-18 N\n",
        "force on electron due to gravitational field is 8.9271e-30 N\n"
       ]
      }
     ],
     "prompt_number": 11
    },
    {
     "cell_type": "heading",
     "level": 2,
     "metadata": {},
     "source": [
      "Example 11.3,Page number 532"
     ]
    },
    {
     "cell_type": "code",
     "collapsed": false,
     "input": [
      "import math\n",
      "\n",
      "#Variable declaration\n",
      "T1=1200.                         #temperature(k)\n",
      "T2=1000.                         #temperature(k)\n",
      "Ww=1.2*10**5                     #work function(eV)\n",
      "k=8.62\n",
      "Ie1=200                         #emission current density\n",
      "T3=1500.                        #temperature(k)\n",
      "\n",
      "#Calculations\n",
      "Ie2=Ie1*(T2/T1)**2*math.exp(-(Ww/k)*((1/T2)-(1/T1)))             #current density(mA/cm^2) at 1000k\n",
      "Ie3=Ie1*(T3/T1)**2*math.exp(-(Ww/k)*((1/T3)-(1/T1)))             #current density(mA/cm^2) at 1000k\n",
      "\n",
      "#Results\n",
      "print\"current density at 1000 k is\",round(Ie2,2),\"mA/cm^2\"\n",
      "print\"current density at 1500 k is\",round(Ie3,2),\"mA/cm^2\""
     ],
     "language": "python",
     "metadata": {},
     "outputs": [
      {
       "output_type": "stream",
       "stream": "stdout",
       "text": [
        "current density at 1000 k is 13.65 mA/cm^2\n",
        "current density at 1500 k is 3180.49 mA/cm^2\n"
       ]
      }
     ],
     "prompt_number": 7
    },
    {
     "cell_type": "heading",
     "level": 2,
     "metadata": {},
     "source": [
      "Example 11.4,Page number 533"
     ]
    },
    {
     "cell_type": "code",
     "collapsed": false,
     "input": [
      "import math\n",
      "\n",
      "#Variable declaration\n",
      "Ls=40                     #distance from screen(m)\n",
      "d=1.5                     #distance between plates(cm)\n",
      "Va=1200                   #accelerating potential(V) \n",
      "L=3                       #length of CRT(m)\n",
      "e=1.6*10**-19             #charge on electron(C)\n",
      "m=9.1*10**-31             #mass of electron(Kg) \n",
      "Y=4*10**-2                #vertical deflection(V)\n",
      "\n",
      "#Calculations\n",
      "#Part a\n",
      "U=math.sqrt((2*e*Va)/m)   #velocity of electron upon striking screen(m/s)\n",
      "\n",
      "#Part\n",
      "Vd=(2*d*Va*Y)/(L*Ls)      #deflecting voltage(V)\n",
      "\n",
      "#Part c\n",
      "Vdmax=(m*d**2*U**2)/(e*L**2)   #maximum allowable deflection(V)\n",
      "\n",
      "#Results\n",
      "print\"velocity of electron upon stricking the screen is\",round((U/1E+7),3),\"*10^7 m/s\"\n",
      "print\"deflecting voltage is\",round(Vd/1E-2),\"V\"\n",
      "print\"maximum allowable deflection is\",Vdmax,\"V\""
     ],
     "language": "python",
     "metadata": {},
     "outputs": [
      {
       "output_type": "stream",
       "stream": "stdout",
       "text": [
        "velocity of electron upon stricking the screen is 2.054 *10^7 m/s\n",
        "deflecting voltage is 120.0 V\n",
        "maximum allowable deflection is 600.0 V\n"
       ]
      }
     ],
     "prompt_number": 1
    }
   ],
   "metadata": {}
  }
 ]
}