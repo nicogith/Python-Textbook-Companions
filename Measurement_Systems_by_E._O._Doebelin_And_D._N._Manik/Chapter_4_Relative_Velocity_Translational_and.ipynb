{
 "cells": [
  {
   "cell_type": "markdown",
   "metadata": {},
   "source": [
    "# Chapter 4 Relative Velocity: Translational and Rotational"
   ]
  },
  {
   "cell_type": "markdown",
   "metadata": {},
   "source": [
    "## Example 4_1 pgno:163"
   ]
  },
  {
   "cell_type": "code",
   "execution_count": 16,
   "metadata": {
    "collapsed": false
   },
   "outputs": [
    {
     "name": "stdout",
     "output_type": "stream",
     "text": [
      "dR_R=dp_p+e*(1+2*v)\n",
      "So the gage factor is d \n",
      "1.7\n",
      " Stress uncertainty is  MPa\n",
      "19.6078431373\n",
      "Strain uncertainty is d\n",
      "9.80392156863e-05\n"
     ]
    }
   ],
   "source": [
    "#CHAPTER 4_ Motion and Dimensional Measurement\n",
    "#Caption : Resistance strain gauge\n",
    "# Example 1# Page 163\n",
    "\n",
    "\n",
    "Rg=120.   #('enter the resistance of strain gage=:')\n",
    "E=200 *10**9   # given\n",
    "dL=3.  #('enter the percent change in the length of nthe rod due to loading=:')\n",
    "dp=0.3  #('enter the corresponding change in the resistivity of strain gage=:')\n",
    "v=0.3   # poissons ratio\n",
    "e=dL/100.;\n",
    "dp_p=dp/100.\n",
    "print(\"dR_R=dp_p+e*(1+2*v)\")\n",
    "dR_R=dp_p+e*(1+2*v)\n",
    "Sg=dR_R/e;\n",
    "print'So the gage factor is d \\n',Sg\n",
    "u_dr=0.02   #('enter the uncertainty in resistance=:')\n",
    "u_sig=E*u_dr/(Rg*Sg)*10**-6;\n",
    "print' Stress uncertainty is  MPa\\n',u_sig\n",
    "# To calculate strain uncertainty\n",
    "u_e=u_dr/(Rg*Sg)\n",
    "print'Strain uncertainty is d\\n',u_e"
   ]
  },
  {
   "cell_type": "markdown",
   "metadata": {},
   "source": [
    "## Example 4_2 pgno:168"
   ]
  },
  {
   "cell_type": "code",
   "execution_count": 17,
   "metadata": {
    "collapsed": false
   },
   "outputs": [
    {
     "name": "stdout",
     "output_type": "stream",
     "text": [
      "Circumferential stress (hoops stress) is  MPa\n",
      "2.1978021979e+11\n",
      "Axial stress is  M Pa\n",
      "2.19780219768e+11\n",
      "Let the ratio be represented by RR\n",
      "Ratio of stresses is d\n",
      "1.0000000001\n",
      "Let the ratio of strains be represented by SS\n",
      "THe ratio of strains is  4.25\n"
     ]
    }
   ],
   "source": [
    "#CHAPTER 4_ Motion and Dimensional Measurement\n",
    "#Caption : Rosette\n",
    "# Example 2# Page 168\n",
    "Eh=625*10**-6  #('enter the circumferential strain=:')\n",
    "Ea= 147*10**-6   #('enter the longitudinal strain=:')\n",
    "E=200*10**9    # given\n",
    "v=0.3;   # poissons ratio\n",
    "# to calculate circumferential stress\n",
    "sig_h=E/(1-v**2)**(Eh+v**Ea)**10**-6;\n",
    "print'Circumferential stress (hoops stress) is  MPa\\n',sig_h\n",
    "sig_a=E/(1-v**2)**(v**Eh+Ea)**10**-6;\n",
    "print'Axial stress is  M Pa\\n',sig_a\n",
    "# To calculate ratio of stresse\n",
    "print(\"Let the ratio be represented by RR\")\n",
    "RR=sig_h/sig_a;\n",
    "print'Ratio of stresses is d\\n',RR\n",
    "print(\"Let the ratio of strains be represented by SS\")\n",
    "SS=Eh/Ea;\n",
    "print'THe ratio of strains is ', round(SS,2)\n"
   ]
  },
  {
   "cell_type": "markdown",
   "metadata": {},
   "source": [
    "## Example 4_3 pgno:176"
   ]
  },
  {
   "cell_type": "code",
   "execution_count": 18,
   "metadata": {
    "collapsed": false
   },
   "outputs": [
    {
     "name": "stdout",
     "output_type": "stream",
     "text": [
      "Rg=120\n",
      "Sg=2;\n",
      "Rs=120000\n",
      "The input bridge excitation is represented by Eex\n",
      "The input excitation voltage is d V\n",
      "12.012\n",
      " Axial strain is d\n",
      "  0.00208125208125\n",
      "The transverse strain is -d 0.0021\n"
     ]
    }
   ],
   "source": [
    "#CHAPTER 4_ Motion and Dimensional Measurement\n",
    "#Caption : Strain gage\n",
    "# Example 3# Page 176\n",
    "print(\"Rg=120\")\n",
    "print(\"Sg=2;\")\n",
    "print(\"Rs=120000\")\n",
    "Rg=120.;    # given\n",
    "Sg=2.;  # gage factor\n",
    "Rs=120000.   #('enter the value of shunt resistor=:')\n",
    "print\"The input bridge excitation is represented by Eex\"\n",
    "A=10   #('enter the amplifier gain=:')\n",
    "# The shunt resistance has to be very large since we intend to measure only very small change in resistanc\n",
    "eo=30*10**-3    #('enter the unbalanced bridge voltage=:')\n",
    "dR=Rg/(Rg+Rs);\n",
    "r=1;#ratio of resistances of adjacent arms\n",
    "Eex=eo*(1+r)**2/(r*dR*A);\n",
    "print'The input excitation voltage is d V\\n',Eex\n",
    "v=1\n",
    "p1=2 *(1+v) # bridge factor\n",
    "Eo=.5   #('enter the voltmeter reading when shunt is removed=:')\n",
    "E_axial=Eo*(1+r)**2/(r*Sg*p1*Eex*A);\n",
    "print' Axial strain is d\\n ',E_axial\n",
    "E_trans=E_axial*v;\n",
    "print'The transverse strain is -d',round(E_trans,4)\n"
   ]
  },
  {
   "cell_type": "markdown",
   "metadata": {},
   "source": [
    "## Example 4_4pgno:192"
   ]
  },
  {
   "cell_type": "code",
   "execution_count": 19,
   "metadata": {
    "collapsed": false
   },
   "outputs": [
    {
     "name": "stdout",
     "output_type": "stream",
     "text": [
      "h=.005\n",
      "A=200*10**-6\n",
      "n=0.03\n",
      "sensitivity of the transducer is  pF/m \n",
      "70.8\n",
      "the sensitivity of the square moving plate sensor is  pF/m  24.78\n"
     ]
    }
   ],
   "source": [
    "#CHAPTER 4_ Motion and Dimensional Measurement\n",
    "#Caption : Capacitance pick ups\n",
    "# Example 4# Page 192\n",
    "print(\"h=.005\")\n",
    "print(\"A=200*10**-6\")\n",
    "print(\"n=0.03\")\n",
    "h=.005  #('enter the distance between the capacitors=:')\n",
    "A=200*10**-6  #('enter the area of the transducer=:')\n",
    "n=0.03  #('enter the non linearity=:')\n",
    "w=.014  #('enter the side of the square capacitor=:')\n",
    "er=1   # given that air if filled\n",
    "eo=8.85  ;\n",
    "# to calculate the sensitivity of this transducer, let it be represented by c\n",
    "c=eo*er*A/h**2;\n",
    "print'sensitivity of the transducer is  pF/m \\n',c\n",
    "# to calculate the sensitivity of the square moving plate sensor cl\n",
    "cl=eo*er*w/h;\n",
    "print'the sensitivity of the square moving plate sensor is  pF/m ',cl\n",
    "\n"
   ]
  },
  {
   "cell_type": "markdown",
   "metadata": {},
   "source": [
    "## Example 4_5 pgno:207"
   ]
  },
  {
   "cell_type": "code",
   "execution_count": 20,
   "metadata": {
    "collapsed": false
   },
   "outputs": [
    {
     "name": "stdout",
     "output_type": "stream",
     "text": [
      "Charge sensitivity is d mC/m \n",
      "176.714586764\n",
      "The amplitude ratio is d mV/V\n",
      "0.00162789345162\n",
      " The phase lag is d deg 36.0\n"
     ]
    }
   ],
   "source": [
    "#CHAPTER 4_ Motion and Dimensional Measurement\n",
    "#Caption : Piezoelectric transducer\n",
    "# Example 5# Page 207\n",
    "from math import pi,exp,sqrt,atan\n",
    "g=15  #('enter the value constant g for the crystal=:')\n",
    "A=pi*((5*10**-3)**2)/4   #('enter the area of cross section of the crystal=:')\n",
    "f=50  #('enter the frequency of sinusoidally varying pressure=:')\n",
    "eoer=15*10**-9  # for the crystal\n",
    "E=120 *10**9  # youngs modulus of elasticity\n",
    "t=.003   #('enter the thichness of the crystal=:')\n",
    "Kq=g*eoer*A*E/t;\n",
    "print'Charge sensitivity is d mC/m \\n',Kq\n",
    "Ccr=eoer*A/t;\n",
    "Camp=2000*10**-12;\n",
    "Ccable=100*10**-12;\n",
    "C=Ccr+Camp+Ccable;\n",
    "Ramp=2000000   #('enter the input impedance of the amplifier')\n",
    "Req=Ramp;\n",
    "tou=Req*C;     # time constant\n",
    "# Let the amplitude ratio is given by EOP\n",
    "w=2*pi*f;\n",
    "EOP=Kq*t*w*tou/(C*E*sqrt(1+(w*tou)**2))\n",
    "print'The amplitude ratio is d mV/V\\n',EOP\n",
    "# let the phase lag be represented by phi\n",
    "phi=360*atan(1/(w*tou))/(2*pi);\n",
    "print' The phase lag is d deg',round(phi)"
   ]
  },
  {
   "cell_type": "markdown",
   "metadata": {},
   "source": [
    "## Example 4_6 pgno:209"
   ]
  },
  {
   "cell_type": "code",
   "execution_count": 21,
   "metadata": {
    "collapsed": false
   },
   "outputs": [
    {
     "name": "stdout",
     "output_type": "stream",
     "text": [
      "Charge sensitivity is d mC/m \n",
      "70.6858347058\n",
      "The amplitude ratio is d mV/V\n",
      "0.00120710413204\n",
      " The phase lag is d deg 28.0\n"
     ]
    }
   ],
   "source": [
    "#CHAPTER 4_ Motion and Dimensional Measurement\n",
    "#Caption : Piezoelectric transducer\n",
    "# Example 6# Page 209\n",
    "from math import pi,exp,sqrt,atan\n",
    "g=10  #('enter the value constant g for the crystal=:')\n",
    "A=pi*((5*10**-3)**2)/4   #('enter the area of cross section of the crystal=:')\n",
    "f=70  #('enter the frequency of sinusoidally varying pressure=:')\n",
    "eoer=15*10**-9  # for the crystal\n",
    "E=120 *10**9  # youngs modulus of elasticity\n",
    "t=.005  #('enter the thichness of the crystal=:')\n",
    "Kq=g*eoer*A*E/t;\n",
    "print'Charge sensitivity is d mC/m \\n',Kq\n",
    "Ccr=eoer*A/t;\n",
    "Camp=2000*10**-12;\n",
    "Ccable=100*10**-12;\n",
    "C=Ccr+Camp+Ccable;\n",
    "Ramp=2000000   #('enter the input impedance of the amplifier')\n",
    "Req=Ramp;\n",
    "tou=Req*C;     # time constant\n",
    "# Let the amplitude ratio is given by EOP\n",
    "w=2*pi*f;\n",
    "EOP=Kq*t*w*tou/(C*E*sqrt(1+(w*tou)**2))\n",
    "print'The amplitude ratio is d mV/V\\n',EOP\n",
    "# let the phase lag be represented by phi\n",
    "phi=360*atan(1/(w*tou))/(2*pi);\n",
    "print' The phase lag is d deg',round(phi)"
   ]
  },
  {
   "cell_type": "markdown",
   "metadata": {},
   "source": [
    "## Example 4_7 pgno:232"
   ]
  },
  {
   "cell_type": "code",
   "execution_count": 22,
   "metadata": {
    "collapsed": false
   },
   "outputs": [
    {
     "name": "stdout",
     "output_type": "stream",
     "text": [
      "ty=0.6\n",
      "fn=10\n",
      "f=25\n",
      "M=0.15\n",
      "xo=1.5*10**-3\n",
      "xi=xo/((r**2)/sqrt((1-r**2)**2+(2*ty*r)**2));\n",
      "error in measurement is d\n",
      "-0.0395313643851\n",
      "spring constant is d N/m\n",
      "592.176264065\n",
      " damping coefficient of pickup is dN-s/m\n",
      "11.31\n"
     ]
    }
   ],
   "source": [
    "#CHAPTER 4_ Motion and Dimensional Measurement\n",
    "#Caption : Seismic vibration\n",
    "# Example 7# Page 232\n",
    "print(\"ty=0.6\")\n",
    "print(\"fn=10\")\n",
    "print(\"f=25\")\n",
    "print(\"M=0.15\")\n",
    "print(\"xo=1.5*10**-3\")\n",
    "from math import sqrt,pi\n",
    "ty=0.6  #(' enter the damping ratio of seismic vibration pickup=:')\n",
    "fn=10   #('enter the natural frequency =:')\n",
    "f=25  #('enter the frequency at which the table is vibrating=')\n",
    "M=0.15  #( 'enter the seismic mass=:')\n",
    "xo=1.5*10**-3  #('enter the relative amplitude of the mass=:')\n",
    "r=f/fn;\n",
    "print\"xi=xo/((r**2)/sqrt((1-r**2)**2+(2*ty*r)**2));\"\n",
    "xi=xo/((r**2)/sqrt((1-r**2)**2+(2*ty*r)**2));\n",
    "error=(xi-xo)/xo;\n",
    "print'error in measurement is d\\n',error\n",
    "wn=2*pi*fn;\n",
    "Ks=wn**2*M;\n",
    "print'spring constant is d N/m\\n',Ks\n",
    "B=ty*(2*sqrt(Ks*M));\n",
    "print' damping coefficient of pickup is dN-s/m\\n',round(B,2)"
   ]
  },
  {
   "cell_type": "markdown",
   "metadata": {},
   "source": [
    "## Example 4_8 pgno:235"
   ]
  },
  {
   "cell_type": "code",
   "execution_count": 23,
   "metadata": {
    "collapsed": false
   },
   "outputs": [
    {
     "name": "stdout",
     "output_type": "stream",
     "text": [
      "fn=4\n",
      "S=500\n",
      "m=0.2\n",
      "v=1.5*10**-2\n",
      "The peak voltage corresponding to 10Hz frequency is d mV\n",
      "9.66\n",
      "phase angle corresponding to the 10 Hz frequency is d deg\n",
      "-14.93\n",
      "The peak voltage corresponding to 20Hz frequency is d mV\n",
      "7.79\n",
      "phase angle corresponding to the 20 Hz frequency is d deg\n",
      "-4.76\n"
     ]
    }
   ],
   "source": [
    "#CHAPTER 4_ Motion and Dimensional Measurement\n",
    "#Caption : Seismic velocity pickup\n",
    "# Example 8# Page 235\n",
    "print(\"fn=4\")\n",
    "print(\"S=500\")\n",
    "print(\"m=0.2\")\n",
    "print(\"v=1.5*10**-2\")\n",
    "from math import pi,atan,sqrt\n",
    "fn=4  #('enter the natural frequency=:')\n",
    "S=500  #('enter the sensitivity=:')\n",
    "m=0.2  #('enter the mass =:')\n",
    "v=1.5*10**-2  #('enter the maximum velocity with which the surface is vibrating=:')\n",
    "f=10 #('enter the frequency=:')\n",
    "r=f/fn;\n",
    "tou=0.2 # given\n",
    "w=2*pi*f;\n",
    "eo=(v*S*r**2)/sqrt((1-r**2)**2+(2*tou*r)**2);\n",
    "print'The peak voltage corresponding to 10Hz frequency is d mV\\n',round(eo,2)\n",
    "phi1=360*atan(2*tou*r/(1-r**2))/(2*pi);\n",
    "print'phase angle corresponding to the 10 Hz frequency is d deg\\n',round(phi1,2)\n",
    "f2=20   #('enter the other frequency=:')\n",
    "r=f2/fn;\n",
    "eo=(v*S*r**2)/sqrt((1-r**2)**2+(2*tou*r)**2);\n",
    "print'The peak voltage corresponding to 20Hz frequency is d mV\\n',round(eo,2)\n",
    "phi2=360*atan(2*tou*r/(1-r**2))/(2*pi);\n",
    "print'phase angle corresponding to the 20 Hz frequency is d deg\\n',round(phi2,2)\n",
    "\n"
   ]
  },
  {
   "cell_type": "markdown",
   "metadata": {},
   "source": [
    "## Example 4_9 pgno:237"
   ]
  },
  {
   "cell_type": "code",
   "execution_count": 24,
   "metadata": {
    "collapsed": false
   },
   "outputs": [
    {
     "name": "stdout",
     "output_type": "stream",
     "text": [
      "Ccr=1200\n",
      "Kq=100\n",
      "Cc=250\n",
      "the sensitivity of the transducer alone is d V/micro m\n",
      "0.0833333333333\n",
      "total sensitivity of the transducer is dV/micro m\n",
      "0.0655737704918\n",
      "tou=Ramp*Ceq*10**-12\n",
      "The lowest frequency that can be measured with 5 per cent amplitude error by the entire system is d Hz\n",
      "158.760182596\n",
      "Ceq1=tou1*10**12/Ramp\n",
      " The capacitance that needs to be connected in parallel to extend the range of 5percent error to 100hz is d pF\n",
      "896.092784595\n",
      "high frequency sensitivity is d V/micro m\n",
      "0.041\n"
     ]
    }
   ],
   "source": [
    "#CHAPTER 4_ Motion and Dimensional Measurement\n",
    "#Caption : Piezoelectric transducer\n",
    "# Example 9# Page 237\n",
    "print(\"Ccr=1200\")\n",
    "print(\"Kq=100\")\n",
    "print(\"Cc=250\")\n",
    "from math import sqrt,pi\n",
    "Ccr=1200.  #('enter the capacitance of the transducer=:')\n",
    "Kq=100.  #('enter the charge sensitivity of the transducer=:')\n",
    "Cc=250.  #('enter the capacitance of the connecting cable=:')\n",
    "#to calculate the sensitivity of transducer alone\n",
    "Ktrans=Kq/Ccr;\n",
    "print'the sensitivity of the transducer alone is d V/micro m\\n',Ktrans\n",
    "Camp=75.  #('enter the capacitance of amplifier=:')\n",
    "Ceq=Ccr+Cc+Camp\n",
    "Ktot=Kq/Ceq;\n",
    "print'total sensitivity of the transducer is dV/micro m\\n',Ktot\n",
    "Ramp=2*10**6  #('enter the resistance of the amplifier=:')\n",
    "print\"tou=Ramp*Ceq*10**-12\"\n",
    "tou=Ramp*Ceq*10**-12;\n",
    "e=5.  #('enter the error in percent=:')\n",
    "e1=1-(e/100);\n",
    "# let tou*w1=l\n",
    "l=sqrt(e1**2/(1-e1**2));\n",
    "f1=l/(2*pi*tou);\n",
    "print'The lowest frequency that can be measured with 5 per cent amplitude error by the entire system is d Hz\\n',f1\n",
    "tou1=l/(2*pi*100)\n",
    "print\"Ceq1=tou1*10**12/Ramp\"\n",
    "Ceq1=tou1*10**12/Ramp\n",
    "Creq=Ceq1-Ceq;\n",
    "print' The capacitance that needs to be connected in parallel to extend the range of 5percent error to 100hz is d pF\\n',Creq\n",
    "K_hf=Kq/Ceq1\n",
    "print'high frequency sensitivity is d V/micro m\\n',round(K_hf,3)"
   ]
  },
  {
   "cell_type": "markdown",
   "metadata": {},
   "source": [
    "## Example 4_10 pgno:238"
   ]
  },
  {
   "cell_type": "code",
   "execution_count": 25,
   "metadata": {
    "collapsed": false
   },
   "outputs": [
    {
     "name": "stdout",
     "output_type": "stream",
     "text": [
      "r1=0.2;\n",
      "r2=0.6 \n",
      "tou=0.05\n",
      "H1=1/sqrt((1-r1**2)**2+(2*tou*r1)**2)\n",
      "H1_phase=-atan((2*tou*r1)/(1-r1**2))*360/(2*pi)\n",
      "the magnitude of the transfer function will be d and d while the phases will shift byfd and d for tou=0.05\n",
      "1.04144068409 1.55567847822 -1.19348942398 -5.35582504286\n",
      "the magnitude of the transfer function will be d and d while the phases will shift by d and d for tou=0.6\n",
      "1.01056510432 1.03806849817 -14.0362434679 -48.3664606634\n"
     ]
    }
   ],
   "source": [
    "#CHAPTER 4_ Motion and Dimensional Measurement\n",
    "#Caption : Seismic pickup\n",
    "# Example 10# Page 238\n",
    "print(\"r1=0.2;\")\n",
    "print(\"r2=0.6 \")\n",
    "print(\"tou=0.05\")\n",
    "from math import pi,sqrt,atan\n",
    "r1=0.2; \n",
    "r2=0.6  # given\n",
    "tou=0.05;   #given\n",
    "wn=1600  #(' enter the natural frequency=:')\n",
    "print(\"H1=1/sqrt((1-r1**2)**2+(2*tou*r1)**2)\")\n",
    "H1=1/sqrt((1-r1**2)**2+(2*tou*r1)**2);\n",
    "H1_phase=-atan((2*tou*r1)/(1-r1**2))*360/(2*pi);\n",
    "print(\"H1_phase=-atan((2*tou*r1)/(1-r1**2))*360/(2*pi)\")\n",
    "H2=1/sqrt((1-r2**2)**2+(2*tou*r2)**2);\n",
    "H2_phase=-atan((2*tou*r2)/(1-r2**2))*360/(2*pi);\n",
    "#In order to obtain the amplitude of relative printlacement, transfer function must be multiplied by amplitude of the input signal and the static sensitivty of the pickup (1/wn**2) for each frequency\n",
    "#amp1=H1/wn**2;\n",
    "#amp2=H2/wn**2;\n",
    "tou2=0.6;  # given\n",
    "H11=1/sqrt((1-r1**2)**2+(2*tou2*r1)**2);\n",
    "H11_phase=-atan((2*tou2*r1)/(1-r1**2))*360/(2*pi);\n",
    "H22=1/sqrt((1-r2**2)**2+(2*tou2*r2)**2);\n",
    "H22_phase=-atan((2*tou2*r2)/(1-r2**2))*360/(2*pi);\n",
    "#amp11=H11/wn**2;\n",
    "#amp22=H22/wn**2;\n",
    "print'the magnitude of the transfer function will be d and d while the phases will shift byfd and d for tou=0.05\\n',H1,H2,H1_phase,H2_phase\n",
    "print'the magnitude of the transfer function will be d and d while the phases will shift by d and d for tou=0.6\\n',H11,H22,H11_phase,H22_phase\n",
    "\n",
    "\n"
   ]
  },
  {
   "cell_type": "markdown",
   "metadata": {},
   "source": [
    "## Example 4_11 pgno:240"
   ]
  },
  {
   "cell_type": "code",
   "execution_count": 26,
   "metadata": {
    "collapsed": false
   },
   "outputs": [
    {
     "name": "stdout",
     "output_type": "stream",
     "text": [
      "fn=20000\n",
      "tou=0.6\n",
      "f=10000 \n",
      " The magnitude is d and phase is d deg\n",
      "1.04115841259 39.0\n",
      " Error at d Hz is  percent\n",
      "10000.0 4.0\n"
     ]
    }
   ],
   "source": [
    "#CHAPTER 4_ Motion and Dimensional Measurement\n",
    "#Caption : Accelerometer\n",
    "# Example 11# Page 240\n",
    "print(\"fn=20000\")\n",
    "print(\"tou=0.6\")\n",
    "print(\"f=10000 \")\n",
    "from math import sqrt,atan,pi\n",
    "fn=20000.  #('enter the natural frequency of the accelerometer =:')\n",
    "tou=0.6  #('enter the daping ratio of the accelerometer=:')\n",
    "f=10000.   #('enter the frequency at which transfer function is to be calculated=:')\n",
    "r=f/fn;\n",
    "H_mag=1/sqrt((1-r**2)**2+(2*tou*r)**2);\n",
    "H_phase=atan((2*tou*r)/(1-r**2))*360/(2*pi);\n",
    "print' The magnitude is d and phase is d deg\\n',H_mag,round(H_phase)\n",
    "error=(H_mag-1)*100./1.;\n",
    "print' Error at d Hz is  percent\\n',f,round(error)\n"
   ]
  },
  {
   "cell_type": "markdown",
   "metadata": {},
   "source": [
    "## Example 4_12 pgno:272"
   ]
  },
  {
   "cell_type": "code",
   "execution_count": 27,
   "metadata": {
    "collapsed": false
   },
   "outputs": [
    {
     "name": "stdout",
     "output_type": "stream",
     "text": [
      "output voltage is d V\n",
      "0.000126\n",
      "rms noise voltage is d V\n",
      "4.45780214904e-07\n",
      "Signal to noise ratio is d\n",
      "283.0\n"
     ]
    }
   ],
   "source": [
    "#CHAPTER 4_ Motion and Dimensional Measurement\n",
    "#Caption : Strain gage\n",
    "# Example 12# Page 272\n",
    "from math import sqrt\n",
    "Rg=120.;    # given\n",
    "Sg=2.  # gage factor is given\n",
    "stress=7*10**6;   #given\n",
    "Ia=.03   #('enter the gage current=:')\n",
    "#maximum allowable bridge voltage is\n",
    "Eex=240.*Ia;\n",
    "strain=7e6/(200e9);\n",
    "dR=strain*Sg*Rg;\n",
    "Eo=Eex*dR/(4*Rg);\n",
    "print'output voltage is d V\\n',Eo\n",
    "k=1.38e-23;  #boltzmann constant\n",
    "T=300.  #room temperature\n",
    "dF=100000.# bandwidth\n",
    "E_noise=sqrt(4*k*Rg*T*dF) \n",
    "print'rms noise voltage is d V\\n',E_noise  \n",
    "SN=Eo/E_noise;\n",
    "print'Signal to noise ratio is d\\n',round(SN)"
   ]
  },
  {
   "cell_type": "markdown",
   "metadata": {},
   "source": [
    "## Example 4_13 pgno:273"
   ]
  },
  {
   "cell_type": "code",
   "execution_count": 28,
   "metadata": {
    "collapsed": false
   },
   "outputs": [
    {
     "name": "stdout",
     "output_type": "stream",
     "text": [
      " The magnitude is d and phase is d deg\n",
      "1.19076791819 13.5769684992\n",
      " Error at d Hz is  percent\n",
      "15000.0 19.0\n"
     ]
    }
   ],
   "source": [
    "#CHAPTER 4_ Motion and Dimensional Measurement\n",
    "#Caption : Accelerometer\n",
    "# Example 13# Page 273\n",
    "\n",
    "from math import sqrt,atan,pi\n",
    "fn=35000.  #('enter the natural frequency of the accelerometer =:')\n",
    "tou=0.23  #('enter the daping ratio of the accelerometer=:')\n",
    "f=15000.   #('enter the frequency at which transfer function is to be calculated=:')\n",
    "r=f/fn;\n",
    "H_mag=1/sqrt((1-r**2)**2+(2*tou*r)**2);\n",
    "H_phase=atan((2*tou*r)/(1-r**2))*360/(2*pi);\n",
    "print' The magnitude is d and phase is d deg\\n',H_mag,H_phase\n",
    "error=(H_mag-1)*100./1.;\n",
    "print' Error at d Hz is  percent\\n',f,round(error)\n"
   ]
  },
  {
   "cell_type": "markdown",
   "metadata": {},
   "source": [
    "## Example 4_14 pgno:275"
   ]
  },
  {
   "cell_type": "code",
   "execution_count": 29,
   "metadata": {
    "collapsed": false
   },
   "outputs": [
    {
     "name": "stdout",
     "output_type": "stream",
     "text": [
      "output voltage is d V\n",
      "0.00021\n",
      "rms noise voltage is d V\n",
      "5.89711794015e-07\n",
      "Signal to noise ratio is d\n",
      "356.0\n"
     ]
    }
   ],
   "source": [
    "#CHAPTER 4_ Motion and Dimensional Measurement\n",
    "#Caption : Strain gage\n",
    "# Example 14# Page 275\n",
    "from math import sqrt\n",
    "Rg=210.;    # given\n",
    "Sg=2.  # gage factor is given\n",
    "stress=5.5*10**6;   #given\n",
    "Ia=.05   #('enter the gage current=:')\n",
    "#maximum allowable bridge voltage is\n",
    "Eex=240.*Ia;\n",
    "strain=7e6/(200e9);\n",
    "dR=strain*Sg*Rg;\n",
    "Eo=Eex*dR/(4*Rg);\n",
    "print'output voltage is d V\\n',Eo\n",
    "k=1.38e-23;  #boltzmann constant\n",
    "T=300.  #room temperature\n",
    "dF=100000.# bandwidth\n",
    "E_noise=sqrt(4*k*Rg*T*dF) \n",
    "print'rms noise voltage is d V\\n',E_noise  \n",
    "SN=Eo/E_noise;\n",
    "print'Signal to noise ratio is d\\n',round(SN)"
   ]
  }
 ],
 "metadata": {
  "kernelspec": {
   "display_name": "Python 2",
   "language": "python",
   "name": "python2"
  },
  "language_info": {
   "codemirror_mode": {
    "name": "ipython",
    "version": 2
   },
   "file_extension": ".py",
   "mimetype": "text/x-python",
   "name": "python",
   "nbconvert_exporter": "python",
   "pygments_lexer": "ipython2",
   "version": "2.7.9"
  }
 },
 "nbformat": 4,
 "nbformat_minor": 0
}
