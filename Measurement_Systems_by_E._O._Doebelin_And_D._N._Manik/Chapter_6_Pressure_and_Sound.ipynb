{
 "cells": [
  {
   "cell_type": "markdown",
   "metadata": {},
   "source": [
    "# Chapter 6 Pressure and Sound Measurement"
   ]
  },
  {
   "cell_type": "markdown",
   "metadata": {},
   "source": [
    "## Example 6_1 pgno329"
   ]
  },
  {
   "cell_type": "code",
   "execution_count": 13,
   "metadata": {
    "collapsed": false
   },
   "outputs": [
    {
     "name": "stdout",
     "output_type": "stream",
     "text": [
      "The pressure difference is given by:\n",
      "P=h*(1+((D2/D1)**2)*g*(pho_liquid-pho_air))\n",
      "So the pressure difference is given by  kPa \n",
      "0.119\n"
     ]
    }
   ],
   "source": [
    "#CHAPTER 6 _ PRESSURE AND SOUND MEASUREMENT\n",
    "#Caption : MANOMETERS\n",
    "# Example 1 # Page 329\n",
    "D1=0.1   #('Enter the diameter of well =:')\n",
    "D2=0.01    #('Enter the diameter of the tube =:')\n",
    "g=9.81;\n",
    "pho_air=1.23   #('Enter the density of air in kg/m**3 =:')\n",
    "pho_liquid=1200.  #('Enter the density of liquid in manometer =:')\n",
    "h=1.     #('Enter the height by which liquid decreases in smaller area arm when exposed to the nominal pressure of p2 =:')\n",
    "# Let the pressure difference is represented by P=p1-p2\n",
    "print(\"The pressure difference is given by:\")\n",
    "print(\"P=h*(1+((D2/D1)**2)*g*(pho_liquid-pho_air))\")\n",
    "P=h*(1+((D2/D1)**2)*g*(pho_liquid-pho_air))*10**-3;\n",
    "print'So the pressure difference is given by  kPa \\n',round(P,3)\n",
    "\n",
    "\n"
   ]
  },
  {
   "cell_type": "markdown",
   "metadata": {},
   "source": [
    "## Example 6_2 pgno:329"
   ]
  },
  {
   "cell_type": "code",
   "execution_count": 14,
   "metadata": {
    "collapsed": false
   },
   "outputs": [
    {
     "name": "stdout",
     "output_type": "stream",
     "text": [
      "pho_l=900 \n",
      "Pa= 500000 \n",
      "t=298 \n",
      "R=287;\n",
      "pho_a=Pa/(R*T);\n",
      "The density of air is d kg/m**3 \n",
      "3.051\n",
      "Pres_diff=(g*h)*(pho_l-pho_a)\n",
      "The differential pressure is  kPa\n",
      "1.76\n"
     ]
    }
   ],
   "source": [
    "#CHAPTER 6 _ PRESSURE AND SOUND MEASUREMENT\n",
    "#Caption : MANOMETERS\n",
    "# Example 2 # Page 329\n",
    "pho_l=900.  \n",
    "print(\"pho_l=900 \")  #('Enter the density of the fluid =:')\n",
    "Pa= 500000. \n",
    "print(\"Pa= 500000 \")  #('Enter the air pressure =:')\n",
    "t=298. \n",
    "print(\"t=298 \")   #('Air is at what temperature(in deg cent) =:')\n",
    "R=287.;\n",
    "print(\"R=287;\")\n",
    "g=9.81;\n",
    "T=t+273;\n",
    "print(\"pho_a=Pa/(R*T);\")\n",
    "pho_a=Pa/(R*T);\n",
    "print'The density of air is d kg/m**3 \\n',round(pho_a,3)\n",
    "h=.2    #('Enter the difference in the height of the fluid in the manometer=:')\n",
    "print(\"Pres_diff=(g*h)*(pho_l-pho_a)\")\n",
    "Pres_diff=(g*h)*(pho_l-pho_a)*10**-3\n",
    "print'The differential pressure is  kPa\\n',round(Pres_diff,3)\n",
    "\n"
   ]
  },
  {
   "cell_type": "markdown",
   "metadata": {},
   "source": [
    "## Example 6_3 pgno:337"
   ]
  },
  {
   "cell_type": "code",
   "execution_count": 15,
   "metadata": {
    "collapsed": false
   },
   "outputs": [
    {
     "name": "stdout",
     "output_type": "stream",
     "text": [
      "Sa=1000\n",
      "E=200*10**9 \n",
      "v=0.3 \n",
      "d=0.2  \n",
      "P_max=2*10**6 \n",
      "Thickness is given by:\n",
      "t=(3*P_max*R**4*(1-v**4)/(4*E))**(1/4);\n",
      "Thickness is  mm\n",
      "1000.0\n",
      "So the minimum pressure and resolution is  Pa \n",
      "11721611721.6\n",
      "The natural frequency of diaphragm is d Hz 1021.0\n"
     ]
    }
   ],
   "source": [
    "#CHAPTER 6 _ PRESSURE AND SOUND MEASUREMENT\n",
    "#Caption : Elastic Transducers\n",
    "# Example 3 # Page 337\n",
    "Sa=1000.\n",
    "print(\"Sa=1000\")    #('Enter the sensitivity of LVDT =:')\n",
    "#Properties of diaphragm\n",
    "E=200*10**9   #('Enter the value of modulus of elasticity=:')\n",
    "print(\"E=200*10**9 \")\n",
    "v=0.3  #('Enter the Poissons ratio=:')\n",
    "print(\"v=0.3 \")\n",
    "d=0.2   #('Enter the diameter of diaphragm=:')\n",
    "print(\"d=0.2  \")\n",
    "R=d*(1./2.);\n",
    "P_max=2*10**6  #('What is the maximum pressure?')\n",
    "print(\"P_max=2*10**6 \")\n",
    "p=7800   #('What is the density of steel?')\n",
    "print(\"Thickness is given by:\")\n",
    "print(\"t=(3*P_max*R**4*(1-v**4)/(4*E))**(1/4);\")\n",
    "t=(3*P_max*R**4*(1-v**4)/(4*E))**(1/4)\n",
    "T=t*1000;\n",
    "print'Thickness is  mm\\n',T\n",
    "#To calculate the lowest pressure in kPa which may be sensed by this instrument , resolution and the natural frequency of the diaphragm\n",
    "y=.001   #('Enter  the l)east value of measurement=:')\n",
    "p_min=(y*16*E*t**3)/(3*R**4*(1-v**2)*Sa)\n",
    "print'So the minimum pressure and resolution is  Pa \\n',p_min\n",
    "f=(10.21/R**2)*((E*t**2)/(12*(1-v**2)*p))**(1/2)\n",
    "print'The natural frequency of diaphragm is d Hz',f\n",
    "\n",
    "\n",
    "\n",
    "\n"
   ]
  },
  {
   "cell_type": "markdown",
   "metadata": {},
   "source": [
    "## Example 6_4 pgno:338"
   ]
  },
  {
   "cell_type": "code",
   "execution_count": 16,
   "metadata": {
    "collapsed": false
   },
   "outputs": [
    {
     "name": "stdout",
     "output_type": "stream",
     "text": [
      "0.00191076894253\n",
      "thickness comes out to be d m\n",
      "0.00191076894253\n",
      "So the max radial stress is d Pa\n",
      "1283881477.53\n",
      "The given fatigue strength is 500MPa\n",
      "\n",
      "The diaphragm must be redesigned\n",
      "The required thickness is d m\n",
      "0.00306186217848\n",
      "The voltage ratio is d\n",
      "2.48733333333\n",
      "Let the sensitivity of the transducer be represented by ss\n",
      "sensitivity is d\n",
      "0.0\n",
      "SENSITIVITY OF LVDT IS d \n",
      "5207.0\n"
     ]
    }
   ],
   "source": [
    "#CHAPTER 6 _ PRESSURE AND SOUND MEASUREMENT\n",
    "#Caption : Design of Pressure Transducers\n",
    "# Example 4 # Page 338\n",
    "p_max=10*10**6    #('Enter the capacity of the transducer=:')\n",
    "D=.05   #('Enter the diameter of diaphragm=:')\n",
    "R=D/2;\n",
    "v=0.3;   # poissons ratio\n",
    "E=200*10**9;\n",
    "# We know that\n",
    "# y=3pR**4(1-v**2)/16t**3E\n",
    "# if y<t/4, the non linearity is restricted to 0.3%\n",
    "#So t is given by\n",
    "t=(3*p_max*R**4*(1-v**2)/(4*E))**(1./4.)\n",
    "print(t)\n",
    "print'thickness comes out to be d m\\n',t\n",
    "Sr_max=(3*p_max*R**2)/(4*t**2)\n",
    "print'So the max radial stress is d Pa\\n',Sr_max\n",
    "print'The given fatigue strength is 500MPa\\n' \n",
    "if (Sr_max > 500*10**6):\n",
    "      print(\"The diaphragm must be redesigned\");\n",
    "      t1=((3*p_max*R**2)/(4*500*10**6))**(1./2.);\n",
    "      print'The required thickness is d m\\n',t1\n",
    "else:\n",
    "    \tprint(\"The design is OK\");\n",
    "\n",
    "# Let the voltage ratio be represented by Err\n",
    "Err=(820*p_max*R**2*(1-v**2))/(E*(t1**2))\n",
    "print'The voltage ratio is d\\n', Err\n",
    "# For maximum power dissipation\n",
    "PT=1.\n",
    "RT=120.\n",
    "Ei=2*(PT*RT)**(1./2.);\n",
    "print(\"Let the sensitivity of the transducer be represented by ss\")\n",
    "ss=(820*R**2*(1-v**2)*Ei)/(E*t1**2)\n",
    "print'sensitivity is d\\n', round(ss)\n",
    "# Part c\n",
    "S_LVDT=(ss*16*t**3*E)/(3*R**4*(1-v**2)*Ei)\n",
    "print'SENSITIVITY OF LVDT IS d \\n',round(S_LVDT)\n",
    "\n"
   ]
  },
  {
   "cell_type": "markdown",
   "metadata": {},
   "source": [
    "## Example 6_5 pgno:347"
   ]
  },
  {
   "cell_type": "code",
   "execution_count": 17,
   "metadata": {
    "collapsed": false
   },
   "outputs": [
    {
     "name": "stdout",
     "output_type": "stream",
     "text": [
      "Let t/R be represented by TR \n",
      "value of R is d m\n",
      "0.782261801366\n",
      " value of t is d m \n",
      "0.78\n",
      " So the total sensitivity of the pressure transducer is given by pF/MPa\n",
      "-11.36\n"
     ]
    }
   ],
   "source": [
    "#CHAPTER 6 _ PRESSURE AND SOUND MEASUREMENT\n",
    "#Caption : Pressure Gage\n",
    "# Example 5 # Page 347\n",
    "from math import pi,sqrt\n",
    "p_max=10*10**6    #('Enter the maximum differential pressure')\n",
    "fn=20000.  #(' Enter the frequency')\n",
    "E=200*10**9;   # modulus of elasticity\n",
    "v=0.3;   # poissons ratio\n",
    "p=7800.    # density of steel\n",
    "print(\"Let t/R be represented by TR \")\n",
    "TR=((3*p_max*(1-v**2))/(4*E))**(1/4)\n",
    "# we know R**2/t = r2t=10.21(Et**2/12(1-v**2)p)**0.5/R**2     using it , we have\n",
    "r2t=(10.21*sqrt(E/(12*(1-v**2)*p)))/fn\n",
    "R=TR*r2t;\n",
    "print'value of R is d m\\n', R\n",
    "\n",
    "t=R*TR;\n",
    "print' value of t is d m \\n',round(t,2)\n",
    "\n",
    "eo=8.85*10**-12\n",
    "er=1.0006;\n",
    "d=.001   #('Enter the distance between the plates of capacitor=:')\n",
    "S=-(eo*er*pi*R**2)/d**2;\n",
    "# variation of capacitor distance with respect to pressure is given by\n",
    "q=(3*R**4*(1-v**2))/(16*E*t**3)\n",
    "# total sensitivity of the pressure transducer is given by\n",
    "sensitivity=S*q*10**18;\n",
    "print' So the total sensitivity of the pressure transducer is given by pF/MPa\\n',round(sensitivity,2)"
   ]
  },
  {
   "cell_type": "markdown",
   "metadata": {},
   "source": [
    "## Example 6_6 pgno:357"
   ]
  },
  {
   "cell_type": "code",
   "execution_count": 18,
   "metadata": {
    "collapsed": false
   },
   "outputs": [
    {
     "name": "stdout",
     "output_type": "stream",
     "text": [
      "R1=100\n",
      "b=25*10**-12;\n",
      "u=0.5\n",
      "So the maximum uncertainty in measuring resistance is d ohm \n",
      "0.00012375\n",
      "p1=0.1*10**6\n",
      "R2=R1*(1+b*p1)\n",
      "p2=10*10**6 \n",
      " The output bridge voltage is d volt\n",
      "0.0003\n"
     ]
    }
   ],
   "source": [
    "#CHAPTER 6 _ PRESSURE AND SOUND MEASUREMENT\n",
    "#Caption : High Pressure Measurement\n",
    "# Example 6 # Page 357\n",
    "R1=100   #(' Enter the resistance of Mangnin wire=:')\n",
    "print(\"R1=100\")\n",
    "b=25*10**-12; # standard for mangnin\n",
    "print(\"b=25*10**-12;\")\n",
    "print(\"u=0.5\")\n",
    "u=0.5    #(' enter the uncertainty in measuring pressure for gage=:')\n",
    "# to calculate maximum uncertainty in differential pressure\n",
    "udp=u*(10-0.1)*10**6/100;\n",
    "uR=R1*b*udp;\n",
    "print'So the maximum uncertainty in measuring resistance is d ohm \\n',uR\n",
    "#to calculate the output bridge voltage for 10 MPa\n",
    "Ei=5   #('enter the input voltage=:')\n",
    "print(\"p1=0.1*10**6\")\n",
    "print(\"R2=R1*(1+b*p1)\")\n",
    "print(\"p2=10*10**6 \")\n",
    "p1=0.1*10**6     #('enter the pressure at which bridge is assumed to be balanced=:')\n",
    "R2=R1*(1+b*p1)\n",
    "p2=10*10**6    #('enter the pressure at which output voltage is to be calculated=:')\n",
    "R3=R1*(1+b*p2);\n",
    "dR=R3-R2;\n",
    "r=1;\n",
    "Eo=(r*dR*Ei)/((1+r)**2*R2)\n",
    "print' The output bridge voltage is d volt\\n',round(Eo,4)\n",
    "\n",
    "\n"
   ]
  },
  {
   "cell_type": "markdown",
   "metadata": {},
   "source": [
    "## Example 6_7 pgno:362"
   ]
  },
  {
   "cell_type": "code",
   "execution_count": 19,
   "metadata": {
    "collapsed": false
   },
   "outputs": [
    {
     "name": "stdout",
     "output_type": "stream",
     "text": [
      "Vb=150*10**-6\n",
      "d=1.5*10**-3\n",
      "a=pi*d**2/4;\n",
      "The gage reading comes out to be d mof Hg\n",
      "0.058\n"
     ]
    }
   ],
   "source": [
    "#CHAPTER 6 _ PRESSURE AND SOUND MEASUREMENT\n",
    "#Caption : McLeod Gage\n",
    "# Example 7 # Page 362\n",
    "print(\"Vb=150*10**-6\")\n",
    "print(\"d=1.5*10**-3\")\n",
    "print(\"a=pi*d**2/4;\")\n",
    "from math import pi,sqrt\n",
    "Vb=150*10**-6   #('enter the volume of the Mc Leod gage=:')\n",
    "d=1.5*10**-3   #('enter the diameter of capillary=:')\n",
    "a=pi*d**2./4.;\n",
    "p=40*10**-6    #('enter the pressure for which the gage reading is to be noted=:')\n",
    "#y=(-p*area_cap+sqrt((p*area_cap)**2-4*p*area_cap*Vb))/(2*area_cap);\n",
    "l=p*a;\n",
    "\n",
    "y=(sqrt(l**2+(4*l*Vb))-l)/(2*a)\n",
    "print'The gage reading comes out to be d mof Hg\\n',round(y,3)\n"
   ]
  },
  {
   "cell_type": "markdown",
   "metadata": {},
   "source": [
    "## Example 6_8 pgno:363"
   ]
  },
  {
   "cell_type": "code",
   "execution_count": 20,
   "metadata": {
    "collapsed": false
   },
   "outputs": [
    {
     "name": "stdout",
     "output_type": "stream",
     "text": [
      "So the  required force is  N 88.944\n"
     ]
    }
   ],
   "source": [
    "#CHAPTER 6 _ PRESSURE AND SOUND MEASUREMENT\n",
    "#Caption : Knudsen Gage\n",
    "# Example 8 # Page 363\n",
    "\n",
    "Td=40.   #('enter the temperature difference=:')\n",
    "Tv=300. #('enter the gas temperature at which the force has to be calculated=:')\n",
    "p=2*10**-6   #('enter the pressure(in m of Hg)=:')\n",
    "pa=p*13600*9.81;\n",
    "k=4*10**-4;    # knudsen constant\n",
    "F=(pa*Td)/(k*Tv);\n",
    "print'So the  required force is  N',F\n",
    "\n"
   ]
  },
  {
   "cell_type": "markdown",
   "metadata": {},
   "source": [
    "## Example 6_9 pgno:369"
   ]
  },
  {
   "cell_type": "code",
   "execution_count": 21,
   "metadata": {
    "collapsed": false
   },
   "outputs": [
    {
     "name": "stdout",
     "output_type": "stream",
     "text": [
      "Lp=104\n",
      "pa=20*10**-6;\n",
      "p=sqrt(10**(Lp/10)*pa**2);\n",
      "root mean square sound pressure is Pa\n",
      "2.0\n"
     ]
    }
   ],
   "source": [
    "#CHAPTER 6 _ PRESSURE AND SOUND MEASUREMENT\n",
    "#Caption : Sound Measurement\n",
    "# Example 9# Page 369\n",
    "from math import sqrt\n",
    "print(\"Lp=104\")\n",
    "Lp=104  #('enter the sound pressure level in decibles=:')\n",
    "print(\"pa=20*10**-6;\")\n",
    "print(\"p=sqrt(10**(Lp/10)*pa**2);\")\n",
    "pa=20*10**-6;   # rms pressure threshold of hearing\n",
    "p=sqrt(10**(Lp/10)*pa**2);\n",
    "print'root mean square sound pressure is Pa\\n',p\n"
   ]
  },
  {
   "cell_type": "markdown",
   "metadata": {},
   "source": [
    "## Example 6_10 pgno:370"
   ]
  },
  {
   "cell_type": "code",
   "execution_count": 22,
   "metadata": {
    "collapsed": false
   },
   "outputs": [
    {
     "name": "stdout",
     "output_type": "stream",
     "text": [
      "Since the noise levels are incoherent,the total sound pressure is the sum of the mean square value of the individual sound pressures\n",
      "The total sound pressure is dB 74.77\n"
     ]
    }
   ],
   "source": [
    "#CHAPTER 6 _ PRESSURE AND SOUND MEASUREMENT\n",
    "#Caption : Sound Measurement\n",
    "# Example 10# Page 370\n",
    "Lp1=75   #('enter the sound level first machine=:')\n",
    "Lp2=77   #('enter the sound level second machine=:')\n",
    "Lp3=79   #('enter the sound level third machine=:')\n",
    "from math import log10\n",
    "\n",
    "print(\"Since the noise levels are incoherent,the total sound pressure is the sum of the mean square value of the individual sound pressures\")\n",
    "\n",
    "Lp_total=10*log10(10**(Lp1/10)+10**(Lp2/10)+10**(Lp3/10));\n",
    "print'The total sound pressure is dB',round(Lp_total,2)\n",
    "#decibles are normally rounded off to the nearest integers"
   ]
  },
  {
   "cell_type": "markdown",
   "metadata": {},
   "source": [
    "## Example 6_11 pgno:371"
   ]
  },
  {
   "cell_type": "code",
   "execution_count": 23,
   "metadata": {
    "collapsed": false
   },
   "outputs": [
    {
     "name": "stdout",
     "output_type": "stream",
     "text": [
      "So the  required force is  N 80.0\n"
     ]
    }
   ],
   "source": [
    "#CHAPTER 6 _ PRESSURE AND SOUND MEASUREMENT\n",
    "#Caption : Knudsen Gage\n",
    "# Example 11 # Page 371\n",
    "\n",
    "Td=20.   #('enter the temperature difference=:')\n",
    "Tv=500. #('enter the gas temperature at which the force has to be calculated=:')\n",
    "p=6*10**-6   #('enter the pressure(in m of Hg)=:')\n",
    "pa=p*13600*9.81;\n",
    "k=4*10**-4;    # knudsen constant\n",
    "F=(pa*Td)/(k*Tv);\n",
    "print'So the  required force is  N',round(F)\n",
    "\n"
   ]
  },
  {
   "cell_type": "markdown",
   "metadata": {},
   "source": [
    "## Example 6_12 pgno:373"
   ]
  },
  {
   "cell_type": "code",
   "execution_count": 24,
   "metadata": {
    "collapsed": false
   },
   "outputs": [
    {
     "name": "stdout",
     "output_type": "stream",
     "text": [
      "The gage reading comes out to be d mof Hg\n",
      "0.0615\n"
     ]
    }
   ],
   "source": [
    "#CHAPTER 6 _ PRESSURE AND SOUND MEASUREMENT\n",
    "#Caption : McLeod Gage\n",
    "# Example 12 # Page 373\n",
    "\n",
    "from math import pi,sqrt\n",
    "Vb=110*10**-6   #('enter the volume of the Mc Leod gage=:')\n",
    "d=1.72*10**-3   #('enter the diameter of capillary=:')\n",
    "a=pi*d**2./4.;\n",
    "p=80*10**-6    #('enter the pressure for which the gage reading is to be noted=:')\n",
    "#y=(-p*area_cap+sqrt((p*area_cap)**2-4*p*area_cap*Vb))/(2*area_cap);\n",
    "l=p*a;\n",
    "\n",
    "y=(sqrt(l**2+(4*l*Vb))-l)/(2*a)\n",
    "print'The gage reading comes out to be d mof Hg\\n',round(y,4)\n"
   ]
  }
 ],
 "metadata": {
  "kernelspec": {
   "display_name": "Python 2",
   "language": "python",
   "name": "python2"
  },
  "language_info": {
   "codemirror_mode": {
    "name": "ipython",
    "version": 2
   },
   "file_extension": ".py",
   "mimetype": "text/x-python",
   "name": "python",
   "nbconvert_exporter": "python",
   "pygments_lexer": "ipython2",
   "version": "2.7.9"
  }
 },
 "nbformat": 4,
 "nbformat_minor": 0
}
