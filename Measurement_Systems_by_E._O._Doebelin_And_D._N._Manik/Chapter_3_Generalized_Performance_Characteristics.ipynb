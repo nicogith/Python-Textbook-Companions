{
 "cells": [
  {
   "cell_type": "markdown",
   "metadata": {},
   "source": [
    "# Chapter 3 Generalized Performance Characteristics of Instruments"
   ]
  },
  {
   "cell_type": "markdown",
   "metadata": {},
   "source": [
    "## Example 3_1 pgno:60"
   ]
  },
  {
   "cell_type": "code",
   "execution_count": 8,
   "metadata": {
    "collapsed": false
   },
   "outputs": [
    {
     "name": "stdout",
     "output_type": "stream",
     "text": [
      "using    k =abs((x-me)/((2**0.5)*stddev));\n",
      "Value of eta1 is  \n",
      "1.41421356237\n",
      "Value of eta2 is  \n",
      "0.707106781187\n",
      "probability of having length less than 6 cm is   0.975\n",
      "probability of having length less than 67.5cm is   0.84\n",
      "Number of samples in the given length range=\n",
      "27.0\n"
     ]
    }
   ],
   "source": [
    "#Chapter_3 Generalized Performance Characteristics Of Instruments\n",
    "#Caption:Gaussian Distribution\n",
    "# Example 1\n",
    "\n",
    "\n",
    "me=7. ;\n",
    "stddev=0.5;\n",
    "x = 6.  #('enter the lower limit of the range=:')\n",
    "y= 7.5  #('enter the upper limit of the range=:')\n",
    "n= 200.  #('enter the number of samples=:')\n",
    "print\"using    k =abs((x-me)/((2**0.5)*stddev));\"\n",
    "k =abs((x-me)/((2**0.5)*stddev));\n",
    "print'Value of eta1 is  \\n',k\n",
    "\n",
    "p=abs((y-me)/((2**0.5)*stddev));\n",
    "print'Value of eta2 is  \\n',p\n",
    "#Using the gaussian probability error function table, find the error function corresponding to the value of k and p\n",
    "#LET IT BE s\n",
    "s= 0.95  # ('enter the error function corresponding to k value=:')\n",
    "Fx=(1./2.)+(1./2.*s);# Probability of having lengths less than x\n",
    "l= 0.68   # ('enter the error function corresponding to p value=:')\n",
    "Fy=(1./2.)+(1./2.*l);# Probability of having lengths less than y\n",
    "\n",
    "print'probability of having length less than 6 cm is  ',Fx\n",
    "print'probability of having length less than 67.5cm is  ',Fy\n",
    "\n",
    "Px=abs(Fy-Fx);\n",
    "print\"Number of samples in the given length range=\"\n",
    "m=(n*Px);\n",
    "print(m);\n",
    "\n",
    "\n",
    "\n",
    "\n"
   ]
  },
  {
   "cell_type": "markdown",
   "metadata": {},
   "source": [
    "## Example 3_2 pgno:62"
   ]
  },
  {
   "cell_type": "code",
   "execution_count": 9,
   "metadata": {
    "collapsed": false
   },
   "outputs": [
    {
     "name": "stdout",
     "output_type": "stream",
     "text": [
      "49.9716388246\n",
      "The absolute error is  \n",
      "36.798728247\n",
      "Total uncertainty is \n",
      "22.075336595\n"
     ]
    }
   ],
   "source": [
    "#Caption:Combination of component errors in overall system-accuracy calculations\n",
    "#example2\n",
    "#page 62\n",
    "\n",
    "#Consider an experiment for measuring, by means of a dynamometer, the average power transmitted by a rotating sheft\n",
    "\n",
    "from math import pi\n",
    "R=1202.  #('Enter the revolutions of shaft during time t=:')\n",
    "F=45.  #('Enter the force at end oftorque arm=:')\n",
    "L=0.397 #('Enter the length of torque arm=:')\n",
    "t=60.  #('Enter the time length of run=:')\n",
    "W=(2*pi*R*F*L)/t;\n",
    "#Computing various partial dervatives\n",
    "dWF=(2*pi*R*L)/t; \n",
    "print(dWF)   #dWF represents dW/dF\n",
    "dWR=(2*pi*F*L)/t;\n",
    "dWL=(2*pi*F*R)/t;\n",
    "dWt=-(2*pi*R*F*L)/(t**2);\n",
    "#Let f, r, l and t represent the uncertainties\n",
    "\n",
    "f=0.18   #('Enter the uncertainty in force=:')\n",
    "r=1  #('Enter the uncertainty in the no of revolutions=:')\n",
    "l=0.00127   #('Enter the uncertainty in the length=:')\n",
    "t=0.5  #('Enter the uncertainty in the time length of run=:')\n",
    "Ea=(dWF*f)+(dWR*r)+(dWL*l)+abs(dWt*t);      #absolute error\n",
    "print\"The absolute error is  \"\n",
    "print(Ea);\n",
    "#To find total uncertainty\n",
    "U=(((dWF*f)**2)+(dWR*r)**2+(dWL*l)**2+abs(dWt*t)**2)**0.5\n",
    "print\"Total uncertainty is \"\n",
    "print(U)\n",
    "\n"
   ]
  },
  {
   "cell_type": "markdown",
   "metadata": {},
   "source": [
    "## Example 3_3 pgno:64"
   ]
  },
  {
   "cell_type": "code",
   "execution_count": 10,
   "metadata": {
    "collapsed": false
   },
   "outputs": [
    {
     "name": "stdout",
     "output_type": "stream",
     "text": [
      "382.919303768\n",
      "The absolute error is  \n",
      "1809.7878357\n",
      "Total uncertainty is \n",
      "1631.45984422\n"
     ]
    }
   ],
   "source": [
    "#Caption:Combination of component errors in overall system-accuracy calculations\n",
    "#example3\n",
    "#page 64\n",
    "\n",
    "#Consider an experiment for measuring, by means of a dynamometer, the average power transmitted by a rotating sheft\n",
    "\n",
    "from math import pi\n",
    "R=1305.  #('Enter the revolutions of shaft during time t=:')\n",
    "F=85.  #('Enter the force at end oftorque arm=:')\n",
    "L=0.467 #('Enter the length of torque arm=:')\n",
    "t=10.  #('Enter the time length of run=:')\n",
    "W=(2*pi*R*F*L)/t;\n",
    "#Computing various partial dervatives\n",
    "dWF=(2*pi*R*L)/t; \n",
    "print(dWF)   #dWF represents dW/dF\n",
    "dWR=(2*pi*F*L)/t;\n",
    "dWL=(2*pi*F*R)/t;\n",
    "dWt=-(2*pi*R*F*L)/(t**2);\n",
    "#Let f, r, l and t represent the uncertainties\n",
    "\n",
    "f=0.18   #('Enter the uncertainty in force=:')\n",
    "r=1  #('Enter the uncertainty in the no of revolutions=:')\n",
    "l=0.00127   #('Enter the uncertainty in the length=:')\n",
    "t=0.5  #('Enter the uncertainty in the time length of run=:')\n",
    "Ea=(dWF*f)+(dWR*r)+(dWL*l)+abs(dWt*t);      #absolute error\n",
    "print\"The absolute error is  \"\n",
    "print(Ea);\n",
    "#To find total uncertainty\n",
    "U=(((dWF*f)**2)+(dWR*r)**2+(dWL*l)**2+abs(dWt*t)**2)**0.5\n",
    "print\"Total uncertainty is \"\n",
    "print(U)\n",
    "\n"
   ]
  },
  {
   "cell_type": "markdown",
   "metadata": {},
   "source": [
    "## Example 3_4 pgno:94"
   ]
  },
  {
   "cell_type": "code",
   "execution_count": 11,
   "metadata": {
    "collapsed": false
   },
   "outputs": [
    {
     "name": "stdout",
     "output_type": "stream",
     "text": [
      "the value of the time constatn is  130500.0\n"
     ]
    }
   ],
   "source": [
    "# Chapter_3 Generalized Performance Characteristics Of Instruments\n",
    "#Caption:First order instrument\n",
    "#Example 4\n",
    "#Page no. 94\n",
    "d=.006   #('Enter the diameter of the diameter of the sphere in meters=:')\n",
    "p=14500.  #('Enter the density of the liquid in glass bulb=:')\n",
    "c=180.   #('Enter the specific heat of liquid(in j/kg degree centigrade)=:')\n",
    "U=20.  #('Enter the heat transfer coefficient in W/m^2-degree centigrade=:')\n",
    "from math import pi\n",
    "Vb=(pi*d*d*d)/6;    #Volume of sphere\n",
    "Ab=pi*d*d;    #Surface area of sphere\n",
    "timconstant=(p*c*Vb*1000)/(U*Ab);    #time constant\n",
    "print \"the value of the time constatn is \",(timconstant)\n",
    "\n"
   ]
  },
  {
   "cell_type": "markdown",
   "metadata": {},
   "source": [
    "## Example 3_5 pgno:96"
   ]
  },
  {
   "cell_type": "code",
   "execution_count": 12,
   "metadata": {
    "collapsed": false
   },
   "outputs": [
    {
     "name": "stdout",
     "output_type": "stream",
     "text": [
      "the value of the time constatn is  34000.0\n"
     ]
    }
   ],
   "source": [
    "# Chapter_3 Generalized Performance Characteristics Of Instruments\n",
    "#Caption:First order instrument\n",
    "#Example 5\n",
    "#Page no. 96\n",
    "d=.004   #('Enter the diameter of the diameter of the sphere in meters=:')\n",
    "p=13600.  #('Enter the density of the liquid in glass bulb=:')\n",
    "c=150.   #('Enter the specific heat of liquid(in j/kg degree centigrade)=:')\n",
    "U=40.  #('Enter the heat transfer coefficient in W/m^2-degree centigrade=:')\n",
    "from math import pi\n",
    "Vb=(pi*d*d*d)/6;    #Volume of sphere\n",
    "Ab=pi*d*d;    #Surface area of sphere\n",
    "timconstant=(p*c*Vb*1000)/(U*Ab);    #time constant\n",
    "print \"the value of the time constatn is \",(timconstant)\n",
    "\n"
   ]
  },
  {
   "cell_type": "markdown",
   "metadata": {},
   "source": [
    "## Example 3_6 pgno:"
   ]
  },
  {
   "cell_type": "code",
   "execution_count": 13,
   "metadata": {
    "collapsed": false
   },
   "outputs": [
    {
     "name": "stdout",
     "output_type": "stream",
     "text": [
      "Temperature at the end of first interval\n",
      "25.0\n",
      "Temperature at the end of second interval\n",
      "53.4454251473\n",
      "Temperature at the end of third interval\n",
      "53.0\n"
     ]
    }
   ],
   "source": [
    "#Caption:Step response of first order systems\n",
    "#Example 6\n",
    "# page 100\n",
    "\n",
    "# Given:In air, probe dry          timeconstant(tc)=30s\n",
    "#       In water                                tc=5s\n",
    "#       In air, probe wet                       tc=20s\n",
    "# for t<0,T=25 degree C(initial temperature)\n",
    "#     0<t<7, T=35 degree C(dry probe in air)\n",
    "#     7<t<15, T=70 degree C(probe in water)\n",
    "#     15<t<30, T=35 degree C(wet probe in air) \n",
    "from math import e\n",
    "#case i T(a)=25\n",
    "T7=35+(25-35)*e**(-(7/30))\n",
    "print\"Temperature at the end of first interval\"\n",
    "print(T7);\n",
    "#case ii T(a)=T7\n",
    "T15=70+(T7-70)*e**(-((15-7)/5))\n",
    "print\"Temperature at the end of second interval\"\n",
    "print(T15);\n",
    "#case iii T(a)=T15\n",
    "T30=35+(T15-35)*e**(-((30-15)/20))\n",
    "print\"Temperature at the end of third interval\"\n",
    "print(round(T30));\n"
   ]
  },
  {
   "cell_type": "markdown",
   "metadata": {},
   "source": [
    "## Example 3_7 pgno:103"
   ]
  },
  {
   "cell_type": "code",
   "execution_count": 14,
   "metadata": {
    "collapsed": false
   },
   "outputs": [
    {
     "name": "stdout",
     "output_type": "stream",
     "text": [
      "sinusoidal transfer function at 2 rad/sec is\n",
      "0.928476690885\n",
      "-21.8014094864\n",
      "sinusoidal transfer function at 20rad/sec is\n",
      "0.242535625036\n",
      "-75.9637565321\n",
      "qo/K can be written as\n",
      "      qo=0.93K sin(2t-21.8)+(0.24K) 0.3sin(20t-76)\n",
      "sinusoidal transfer function at 2 rad/sec is\n",
      "0.999992000096\n",
      "-0.229181895754\n",
      "sinusoidal transfer function at 20rad/sec is\n",
      "0.999200958722\n",
      "-2.29061004264\n",
      "qo/K can be written as\n",
      "qo=K sin(2t-0.23)+K 0.3sin(20t-2.3)\n",
      "Clearly, this instrument measures the given qi faithfully\n"
     ]
    }
   ],
   "source": [
    "#Caption:Adequate frequency response conditions for first order instruments\n",
    "#Example 7\n",
    "#Page 103\n",
    "# To measure qi given by \n",
    "# qi=sin2t+0.3sin20t\n",
    "# timeconstant=0.2s\n",
    "from math import pi,atan\n",
    "H=1/((0.16+1)**0.5);       #H(jw)=qo/qiK\n",
    "phi=((atan(-2*0.2))*180)/pi ;\n",
    "H2=1/((16+1)**0.5);\n",
    "phi2=((atan(-20*0.2))*180)/pi;\n",
    "print\"sinusoidal transfer function at 2 rad/sec is\"\n",
    "print(H);\n",
    "print(phi)\n",
    "print\"sinusoidal transfer function at 20rad/sec is\"\n",
    "print(H2)\n",
    "print(phi2)\n",
    "\n",
    "print\"qo/K can be written as\"\n",
    "\n",
    "print\"      qo=0.93K sin(2t-21.8)+(0.24K) 0.3sin(20t-76)\"\n",
    "#Suppose we consider use of an instrument with timeconstant=0.002s\n",
    "H=1/((1.6*(10)**(-5)+1)**0.5);\n",
    "phi=((atan(-2*.002))*180)/pi ;\n",
    "H2=1/((1.6*(10**-3)+1)**0.5);\n",
    "phi2=((atan(-20*0.002))*180)/pi;\n",
    "print\"sinusoidal transfer function at 2 rad/sec is\"\n",
    "print(H);\n",
    "print(phi)\n",
    "print\"sinusoidal transfer function at 20rad/sec is\"\n",
    "print(H2)\n",
    "print(phi2)\n",
    "print\"qo/K can be written as\"\n",
    "print\"qo=K sin(2t-0.23)+K 0.3sin(20t-2.3)\"\n",
    "print\"Clearly, this instrument measures the given qi faithfully\"\n"
   ]
  }
 ],
 "metadata": {
  "kernelspec": {
   "display_name": "Python 2",
   "language": "python",
   "name": "python2"
  },
  "language_info": {
   "codemirror_mode": {
    "name": "ipython",
    "version": 2
   },
   "file_extension": ".py",
   "mimetype": "text/x-python",
   "name": "python",
   "nbconvert_exporter": "python",
   "pygments_lexer": "ipython2",
   "version": "2.7.9"
  }
 },
 "nbformat": 4,
 "nbformat_minor": 0
}
