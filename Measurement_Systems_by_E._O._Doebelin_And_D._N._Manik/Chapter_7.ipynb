{
 "cells": [
  {
   "cell_type": "markdown",
   "metadata": {},
   "source": [
    "# Chapter 7 Flow Measurement"
   ]
  },
  {
   "cell_type": "markdown",
   "metadata": {},
   "source": [
    "## Example 7_1 pgno:406"
   ]
  },
  {
   "cell_type": "code",
   "execution_count": 26,
   "metadata": {
    "collapsed": false
   },
   "outputs": [
    {
     "name": "stdout",
     "output_type": "stream",
     "text": [
      "Density is given by:\n",
      "pho1=p1/(R*t);\n",
      "Uncertainty in velocity is given by \n",
      "Wv=(1/2)*(2/(pho1*Pd))**0.5*Wp;\n",
      "So the percentage uncertainty in the measurement of velocity is d\n",
      "0.84091\n"
     ]
    }
   ],
   "source": [
    "#CHAPTER 7_ Flow Measurement\n",
    "#Caption : Flow  Measurement\n",
    "# Example 1# Page 406\n",
    "t=293.   #('Entering the temperature(in k) of pitot tube =:')\n",
    "p1=0.1*10**6    #('entering the air pressure in pitot tube=:')\n",
    "v=10.     #('entering the velocity of air in pitot tube=:')\n",
    "R=287.;\n",
    "print(\"Density is given by:\")\n",
    "print(\"pho1=p1/(R*t);\")\n",
    "pho1=p1/(R*t);\n",
    "# dynamic pressure\n",
    "Pd=pho1*v**2/2;\n",
    "#we know that  v=sqrt(2Pd/pho)\n",
    "# dv/dP=1/2(2/pho*Pd)**0.5\n",
    "# Let the error or uncertainty in velocity is represented by Wv and in pressure by Wp\n",
    "Wp=1.    #('entering the uncertainty in the measurement of dynamic pressure=:')\n",
    "print(\"Uncertainty in velocity is given by \")\n",
    "print(\"Wv=(1/2)*(2/(pho1*Pd))**0.5*Wp;\")\n",
    "Wv=(1./2.)*(2/(pho1*Pd))**0.5*Wp;\n",
    "per_unc=Wv*100/10;\n",
    "print'So the percentage uncertainty in the measurement of velocity is d\\n',per_unc\n",
    " "
   ]
  },
  {
   "cell_type": "markdown",
   "metadata": {},
   "source": [
    "## Example 7_2 pgno:426"
   ]
  },
  {
   "cell_type": "code",
   "execution_count": 27,
   "metadata": {
    "collapsed": false
   },
   "outputs": [
    {
     "name": "stdout",
     "output_type": "stream",
     "text": [
      "C0+C1(v)**.5)(Tw-Tf)=Iw**2Rw\n",
      "Rw= Rr[1+a(Tw-Tr)]\n",
      "Rw/Rr=1+a(Tw-Tr)\n",
      "Tw-Tr=1/a[Rw/Rr-1]\n",
      "Tw=1/a[Rw/Rr-1]+Tr\n",
      "Co+C1(v)**0.5=Iw**2Rw/Tw-Tf\n",
      "so,\n",
      "v=1/C1[{Iw**2Rw/(1/a[Rw/Rr-1]+Tr-Tf)]}**2-C0\n"
     ]
    }
   ],
   "source": [
    "#CHAPTER 7_ Flow Measurement\n",
    "#Caption : Anemometers\n",
    "# Example 2# Page 426\n",
    "# To derive an expression for velocity across a hot  wire anemometer in terms of the wire resistance Rw, the current through the wire Iw and the empirical constants C0 and C1 and the fluid temperature.\n",
    "print(\"C0+C1(v)**.5)(Tw-Tf)=Iw**2Rw\")\n",
    "print(\"Rw= Rr[1+a(Tw-Tr)]\")\n",
    "print(\"Rw/Rr=1+a(Tw-Tr)\")\n",
    "print(\"Tw-Tr=1/a[Rw/Rr-1]\")\n",
    "print(\"Tw=1/a[Rw/Rr-1]+Tr\")\n",
    "print(\"Co+C1(v)**0.5=Iw**2Rw/Tw-Tf\")\n",
    "print(\"so,\")\n",
    "print(\"v=1/C1[{Iw**2Rw/(1/a[Rw/Rr-1]+Tr-Tf)]}**2-C0\")\n",
    "\n",
    "\n",
    "\n"
   ]
  },
  {
   "cell_type": "markdown",
   "metadata": {},
   "source": [
    "## Example 7_3 pgno:438"
   ]
  },
  {
   "cell_type": "code",
   "execution_count": 28,
   "metadata": {
    "collapsed": false
   },
   "outputs": [
    {
     "name": "stdout",
     "output_type": "stream",
     "text": [
      "Minimum flow rate is given by:\n",
      "mdot_min=i*dp*u*Rn_min/4\n",
      "Minimum flow rate at 25 deg cent is  kg/s\n",
      "0.135088484104\n",
      "To calculate the mercury reading corresponding to minimum flow, using-\n",
      "h_min=((mdot_min*sqrt(1-B**4))/((sqrt(2*g*(pm-pf/pf))*pf*At*Cd)))**2;\n",
      "So the pressure reading observed for the given flow ratre is  mm of Hg\n",
      "12.4342610047\n",
      "The maximum flow rate is kg/s\n",
      "0.606\n"
     ]
    }
   ],
   "source": [
    "#CHAPTER 7_ Flow Measurement\n",
    "#Caption : Gross volume flow rate(venturi)\n",
    "# Example 3# Page 438\n",
    "from math import sqrt,pi\n",
    "dp=0.02     #('entering the diameter of the line in which water is flowing=:')\n",
    "dt=0.01    #('entering the diameter of venturi=:')\n",
    "B=0.5;   # given\n",
    "# The discharge coefficients remains in the flat portion of the curve for reynolds numbers 10**4 to 10**6 Cd=0.95\n",
    "u=8.6*10**-4    #('entering the viscosity=:')\n",
    "Cd=0.95;\n",
    "Rn_min=10**4;\n",
    "print(\"Minimum flow rate is given by:\")\n",
    "print(\"mdot_min=i*dp*u*Rn_min/4\")\n",
    "mdot_min=pi*dp*u*Rn_min/4\n",
    "g=9.81;\n",
    "print'Minimum flow rate at 25 deg cent is  kg/s\\n',mdot_min\n",
    "pf=1000   # density of water\n",
    "At=78.53*10**-6    #('entering the throat area=:')\n",
    "pm=13.6      #('entering the density of manometer  fluid=:')\n",
    "\n",
    "#h is the height of mercury column due to flow\n",
    "print(\"To calculate the mercury reading corresponding to minimum flow, using-\")\n",
    "print(\"h_min=((mdot_min*sqrt(1-B**4))/((sqrt(2*g*(pm-pf/pf))*pf*At*Cd)))**2;\")\n",
    "h_min=((mdot_min*sqrt(1-B**4))/((sqrt(2*g*(pm-pf/pf))*pf*At*Cd)))**2;\n",
    "#in mm\n",
    "H_min=h_min*1000\n",
    "print'So the pressure reading observed for the given flow ratre is  mm of Hg\\n',H_min\n",
    "h_max=.25    #('entering the  value of h maximum=:')\n",
    "m_max=(pf*At*Cd*sqrt(2*g*(pm-pf/pf))*sqrt(h_max))/sqrt(1-B**4);\n",
    "print'The maximum flow rate is kg/s\\n',round(m_max,3)\n",
    "\n",
    "\n",
    "\n",
    "\n",
    "\n",
    "\n"
   ]
  },
  {
   "cell_type": "markdown",
   "metadata": {},
   "source": [
    "## Example 7_4 pgno:439"
   ]
  },
  {
   "cell_type": "code",
   "execution_count": 32,
   "metadata": {
    "collapsed": false
   },
   "outputs": [
    {
     "name": "stdout",
     "output_type": "stream",
     "text": [
      "Mass flow is given by :\n",
      "mdot=pf*At*Cd*(1/(1-B**4)**(1/2))*sqrt(2*g*((pm/pf)-1)*sqrt h)\n",
      "So the mass flow at 25 deg cent   is d kg/s\n",
      "117.815982147\n",
      " The mass flow at 0 deg cent is d kg/s\n",
      "121.904616185\n",
      " Change in temperature of water introduces insignificant error in mass flow measurement i.e.  \n",
      "3.47035602801\n",
      "  The mass flow at 50 deg cent is d kg/s\n",
      "121.285\n",
      "Therefore, change in temperature of water introduces insignificant error in mass flow measurement i.e. \n",
      "2.944\n"
     ]
    }
   ],
   "source": [
    "#CHAPTER 7_ Flow Measurement\n",
    "#Caption : Gross volume flow rate(venturi)\n",
    "# Example 4# Page 439\n",
    "from math import pi,sqrt\n",
    "dt=0.15    #('entering the throat diameter=:')\n",
    "dp=0.3     #('entering the upstream diameter=:')\n",
    "Cd=0.95;\n",
    "B=0.5;\n",
    "pm=13600.       #('entering the density of manometer  fluid=:')\n",
    "At=pi*dt**2/4;\n",
    "g=9.81;\n",
    "\n",
    "pf=995.8     \n",
    "h=0.2      #('entering the height of mercury column  due to flow (in m)=:')\n",
    "q=pf*At*Cd;\n",
    "w=(1-B**4)**(1/2);\n",
    "e=sqrt(2*g*((pm/pf)-1));\n",
    "mdot_25=q*e*sqrt(h)/w\n",
    "print(\"Mass flow is given by :\")\n",
    "print(\"mdot=pf*At*Cd*(1/(1-B**4)**(1/2))*sqrt(2*g*((pm/pf)-1)*sqrt h)\")\n",
    "print'So the mass flow at 25 deg cent   is d kg/s\\n',mdot_25\n",
    "\n",
    "\n",
    "\n",
    "pf=999.8    #('entering density of water at 25 deg cent=:')\n",
    "h=0.2    #('entering the height of mercury column  due to flow (in m)=:')\n",
    "q=pf*At*Cd;\n",
    "w=(1-B**4)**(1./2.);\n",
    "e=sqrt(2*g*((pm/pf)-1));\n",
    "mdot=q*e*sqrt(h)/w\n",
    "# error is mdot(25 deg cent)-mdot(t deg cent)\n",
    "print' The mass flow at 0 deg cent is d kg/s\\n',mdot\n",
    "error1=abs(((mdot_25-mdot)/mdot_25)*100);\n",
    "\n",
    "\n",
    "\n",
    "print' Change in temperature of water introduces insignificant error in mass flow measurement i.e.  \\n',error1\n",
    "pf=988.8    #('entering density of water at 25 deg cent=:')\n",
    "h=0.2    #('entering the height of mercury column  due to flow (in m)=:')\n",
    "q=pf*At*Cd;\n",
    "w=(1-B**4)**(1./2.);\n",
    "e=sqrt(2*g*((pm/pf)-1));\n",
    "mdot=q*e*sqrt(h)/w\n",
    "# error is mdot(25 deg cent)-mdot(t deg cent)\n",
    "print'  The mass flow at 50 deg cent is d kg/s\\n',round(mdot,3)\n",
    "error2=abs(((mdot_25-mdot)/mdot_25)*100);\n",
    "\n",
    "\n",
    "\n",
    "print'Therefore, change in temperature of water introduces insignificant error in mass flow measurement i.e. \\n',round(error2,3)\n",
    "\n",
    "\n",
    "\n",
    "\n"
   ]
  },
  {
   "cell_type": "markdown",
   "metadata": {},
   "source": [
    "## Example 7_5 pgno:440"
   ]
  },
  {
   "cell_type": "code",
   "execution_count": 33,
   "metadata": {
    "collapsed": false
   },
   "outputs": [
    {
     "name": "stdout",
     "output_type": "stream",
     "text": [
      "('The ideal volume flow rate sensitivity is  (m**3/s/h**0.5)\\n', 0.019081731639616538)\n",
      "Actual volume rate sensitivity is given by :\n",
      "S_actual=S_ideal/Cd\n",
      "('The actual volume rate sensitivity is  \\n', 0.02)\n",
      "Actual volume flow rate is given by:\n",
      "Q_actual=S_actual*sqrt(h)\n",
      "('The actual volume flow rate is  m**3/s\\n', 0.011)\n"
     ]
    }
   ],
   "source": [
    "#CHAPTER 7_ Flow Measurement\n",
    "#Caption : Gross volume flow rate(venturi)\n",
    "# Example 5# Page 440\n",
    "from math import pi,sqrt\n",
    "dt=.1     #('entering the throat diameter=:')\n",
    "dp=.2      #('entering the upstream diameter=:')\n",
    "Cd=0.95;\n",
    "g=9.81\n",
    "B=0.5;\n",
    "At=pi*dt**2./4.;\n",
    "pf=780.    #('entering density of oil in the pipeline =:')\n",
    "pm=1000.    #('entering the density of manometer  fluid=:')\n",
    "w=(1-B**4)**(1./2.);\n",
    "e=sqrt(2*g*((pm/pf)-1));\n",
    "S_ideal=At*e/w;\n",
    "print('The ideal volume flow rate sensitivity is  (m**3/s/h**0.5)\\n',S_ideal)\n",
    "# part b\n",
    "print(\"Actual volume rate sensitivity is given by :\")\n",
    "print(\"S_actual=S_ideal/Cd\")\n",
    "S_actual=S_ideal/Cd;\n",
    "print('The actual volume rate sensitivity is  \\n',round(S_actual,3))\n",
    "h=.3    #('entering the manometer reading of water height=:')\n",
    "print(\"Actual volume flow rate is given by:\")\n",
    "print(\"Q_actual=S_actual*sqrt(h)\")\n",
    "Q_actual=S_actual*sqrt(h);\n",
    "print('The actual volume flow rate is  m**3/s\\n',round(Q_actual,3))\n"
   ]
  },
  {
   "cell_type": "markdown",
   "metadata": {},
   "source": [
    "## Example 7_6 pgno:443"
   ]
  },
  {
   "cell_type": "code",
   "execution_count": 34,
   "metadata": {
    "collapsed": false
   },
   "outputs": [
    {
     "name": "stdout",
     "output_type": "stream",
     "text": [
      "Let uncertainty in mass flow rate be represented by wm\n",
      "Let uncertainty with pressure be represented by wp\n",
      "Let uncertainty with temperature measurement be represented by wt\n",
      "Uncertainty in temperature is given by:\n",
      "wt_t=2*sqrt(wm_m**2-wp_p**2)*100\n",
      "uncertainty in the temperature measurement is \n",
      "3.46\n"
     ]
    }
   ],
   "source": [
    "#CHAPTER 7_ Flow Measurement\n",
    "#Caption : Sonic nozzle\n",
    "# Example 6# Page 443\n",
    "from math import sqrt\n",
    "print\"Let uncertainty in mass flow rate be represented by wm\"\n",
    "print\"Let uncertainty with pressure be represented by wp\"\n",
    "print\"Let uncertainty with temperature measurement be represented by wt\"\n",
    "# To calculate the uncertainty in the temperature measurement\n",
    "wm_m=0.02    #('entering the uncertainty in mass flow=:')\n",
    "wp_p=0.01    #('entering the uncertainty in pressure measurement=:')\n",
    "print\"Uncertainty in temperature is given by:\"\n",
    "print\"wt_t=2*sqrt(wm_m**2-wp_p**2)*100\"\n",
    "wt_t=2*sqrt(wm_m**2-wp_p**2)*100\n",
    "print'uncertainty in the temperature measurement is \\n',round(wt_t,2)"
   ]
  },
  {
   "cell_type": "markdown",
   "metadata": {},
   "source": [
    "## Example 7_7 pgno:446"
   ]
  },
  {
   "cell_type": "code",
   "execution_count": 35,
   "metadata": {
    "collapsed": false
   },
   "outputs": [
    {
     "name": "stdout",
     "output_type": "stream",
     "text": [
      "So the throat diameters for maximum and minimum flows so the reynolds number does not exceed 10**5 are  m and  m respectively\n",
      "0.68965417871 0.206896253613\n",
      "The differential pressure for maximum flow rate is  Pa\n",
      "0.06\n",
      "The differential pressure for minimum flow rate is  mPa\n",
      "5.26\n"
     ]
    }
   ],
   "source": [
    "#CHAPTER 7_ Flow Measurement\n",
    "#Caption : Venturi\n",
    "# Example 7# Page 446\n",
    "from math import pi,sqrt\n",
    "p1=5*10**6    #('entering the pressure of air when venturi is to be used =:')\n",
    "t1=298.    #('entering the temperature of air for the same=:')\n",
    "m_max=1.    #('entering the maximum flow rate=:')\n",
    "m_min=0.3   #('entering the minimum flow rate=:')\n",
    "Re_min=10**5   #('entering the throats reynold number=:')\n",
    "R=287.;   # for air\n",
    "pho1=p1/(R*t1);\n",
    "b=0.5;\n",
    "mu=1.8462*10**-5   #('enter the absolute viscosity=:')\n",
    "D_max=(4*m_max)/(pi*Re_min*mu);\n",
    "D_min=(4*m_min)/(pi*Re_min*mu);\n",
    "print'So the throat diameters for maximum and minimum flows so the reynolds number does not exceed 10**5 are  m and  m respectively\\n',D_max,D_min\n",
    "# To calculate the differential pressure\n",
    "At=pi*D_max**2./4.;\n",
    "C=1;    # discharge coefficient\n",
    "M=1.0328;    # Velocity approach coefficient\n",
    "Y=.9912;   # Expansion factor\n",
    "dP_max=(m_max)**2/(Y**2*M**2*C**2*At**2*2*pho1);\n",
    "print'The differential pressure for maximum flow rate is  Pa\\n',round(dP_max,2)\n",
    "dP_min=(m_min)**2/(Y**2*M**2*C**2*At**2*2*pho1)*1000;\n",
    "print'The differential pressure for minimum flow rate is  mPa\\n',round(dP_min,2)\n",
    "\n"
   ]
  },
  {
   "cell_type": "markdown",
   "metadata": {},
   "source": [
    "## Example 7_8 pgno:455"
   ]
  },
  {
   "cell_type": "code",
   "execution_count": 36,
   "metadata": {
    "collapsed": false
   },
   "outputs": [
    {
     "name": "stdout",
     "output_type": "stream",
     "text": [
      "Tube taper is given by:\n",
      "a=(Qd*2)/(pi*D*y*j**(1/2))\n",
      "tube taper is  m/m(taper)\n",
      "0.085\n"
     ]
    }
   ],
   "source": [
    "#CHAPTER 7_ Flow Measurement\n",
    "#Caption : Constant-Pressure-Drop , Variable-Area Meters(Rotameters)\n",
    "# Example 8# Page 455\n",
    "from math import pi\n",
    "Qd=.1/60    #('enter the maximum flow of water=:')\n",
    "t=298.  #('enter the temperature in k=:')\n",
    "d=.03  #('enter the float diameter in m=:')\n",
    "L=0.5  #('enter the total length of rotameter=:')\n",
    "D=.03  #('enter the diameter of tube at inlet=:')\n",
    "Vb=25*10**-6  #('enter the total volume of float=:')\n",
    "Af=7.068*10**-4    # area of float\n",
    "j=2*9.81*Vb/Af;\n",
    "y=L;\n",
    "print(\"Tube taper is given by:\")\n",
    "print(\"a=(Qd*2)/(pi*D*y*j**(1/2))\")\n",
    "a=(Qd*2)/(pi*D*y*j**(1./2.));\n",
    "print'tube taper is  m/m(taper)\\n',round(a,3)\n"
   ]
  },
  {
   "cell_type": "markdown",
   "metadata": {},
   "source": [
    "## Example 7_9 pgno:457"
   ]
  },
  {
   "cell_type": "code",
   "execution_count": 37,
   "metadata": {
    "collapsed": false
   },
   "outputs": [
    {
     "name": "stdout",
     "output_type": "stream",
     "text": [
      "Minimum flow rate is given by:\n",
      "mdot_min=i*dp*u*Rn_min/4\n",
      "Minimum flow rate at 25 deg cent is  kg/s\n",
      "0.139015474921\n",
      "To calculate the mercury reading corresponding to minimum flow, using-\n",
      "h_min=((mdot_min*sqrt(1-B**4))/((sqrt(2*g*(pm-pf/pf))*pf*At*Cd)))**2;\n",
      "So the pressure reading observed for the given flow ratre is  mm of Hg\n",
      "10.6732034107\n",
      "The maximum flow rate is kg/s\n",
      "0.673\n"
     ]
    }
   ],
   "source": [
    "#CHAPTER 7_ Flow Measurement\n",
    "#Caption : Gross volume flow rate(venturi)\n",
    "# Example 9# Page 457\n",
    "from math import sqrt,pi\n",
    "dp=0.03     #('entering the diameter of the line in which water is flowing=:')\n",
    "dt=0.02    #('entering the diameter of venturi=:')\n",
    "B=0.7;   # given\n",
    "# The discharge coefficients remains in the flat portion of the curve for reynolds numbers 10**4 to 10**6 Cd=0.95\n",
    "u=5.9*10**-4    #('entering the viscosity=:')\n",
    "Cd=0.95;\n",
    "Rn_min=10**4;\n",
    "print(\"Minimum flow rate is given by:\")\n",
    "print(\"mdot_min=i*dp*u*Rn_min/4\")\n",
    "mdot_min=pi*dp*u*Rn_min/4\n",
    "g=9.81;\n",
    "print'Minimum flow rate at 25 deg cent is  kg/s\\n',mdot_min\n",
    "pf=1000   # density of water\n",
    "At=78.53*10**-6    #('entering the throat area=:')\n",
    "pm=13.6      #('entering the density of manometer  fluid=:')\n",
    "\n",
    "#h is the height of mercury column due to flow\n",
    "print(\"To calculate the mercury reading corresponding to minimum flow, using-\")\n",
    "print(\"h_min=((mdot_min*sqrt(1-B**4))/((sqrt(2*g*(pm-pf/pf))*pf*At*Cd)))**2;\")\n",
    "h_min=((mdot_min*sqrt(1-B**4))/((sqrt(2*g*(pm-pf/pf))*pf*At*Cd)))**2;\n",
    "#in mm\n",
    "H_min=h_min*1000\n",
    "print'So the pressure reading observed for the given flow ratre is  mm of Hg\\n',H_min\n",
    "h_max=.25    #('entering the  value of h maximum=:')\n",
    "m_max=(pf*At*Cd*sqrt(2*g*(pm-pf/pf))*sqrt(h_max))/sqrt(1-B**4);\n",
    "print'The maximum flow rate is kg/s\\n',round(m_max,3)\n",
    "\n",
    "\n",
    "\n",
    "\n",
    "\n",
    "\n"
   ]
  },
  {
   "cell_type": "markdown",
   "metadata": {},
   "source": [
    "## Example 7_10 pgno:460"
   ]
  },
  {
   "cell_type": "code",
   "execution_count": 38,
   "metadata": {
    "collapsed": false
   },
   "outputs": [
    {
     "name": "stdout",
     "output_type": "stream",
     "text": [
      "('The ideal volume flow rate sensitivity is  (m**3/s/h**0.5)\\n', 0.1747784665992925)\n",
      "Actual volume rate sensitivity is given by :\n",
      "S_actual=S_ideal/Cd\n",
      "('The actual volume rate sensitivity is  \\n', 0.184)\n",
      "Actual volume flow rate is given by:\n",
      "Q_actual=S_actual*sqrt(h)\n",
      "('The actual volume flow rate is  m**3/s\\n', 0.101)\n"
     ]
    }
   ],
   "source": [
    "#CHAPTER 7_ Flow Measurement\n",
    "#Caption : Gross volume flow rate(venturi)\n",
    "# Example 10# Page 460\n",
    "from math import pi,sqrt\n",
    "dt=.3     #('entering the throat diameter=:')\n",
    "dp=.5      #('entering the upstream diameter=:')\n",
    "Cd=0.95;\n",
    "g=9.81\n",
    "B=0.5;\n",
    "At=pi*dt**2./4.;\n",
    "pf=890.    #('entering density of oil in the pipeline =:')\n",
    "pm=1150.    #('entering the density of manometer  fluid=:')\n",
    "w=(1-B**4)**(1./2.);\n",
    "e=sqrt(2*g*((pm/pf)-1));\n",
    "S_ideal=At*e/w;\n",
    "print('The ideal volume flow rate sensitivity is  (m**3/s/h**0.5)\\n',S_ideal)\n",
    "# part b\n",
    "print(\"Actual volume rate sensitivity is given by :\")\n",
    "print(\"S_actual=S_ideal/Cd\")\n",
    "S_actual=S_ideal/Cd;\n",
    "print('The actual volume rate sensitivity is  \\n',round(S_actual,3))\n",
    "h=.3    #('entering the manometer reading of water height=:')\n",
    "print(\"Actual volume flow rate is given by:\")\n",
    "print(\"Q_actual=S_actual*sqrt(h)\")\n",
    "Q_actual=S_actual*sqrt(h);\n",
    "print('The actual volume flow rate is  m**3/s\\n',round(Q_actual,3))\n"
   ]
  },
  {
   "cell_type": "markdown",
   "metadata": {},
   "source": [
    "## Example 7_11 pgno:461"
   ]
  },
  {
   "cell_type": "code",
   "execution_count": 39,
   "metadata": {
    "collapsed": false
   },
   "outputs": [
    {
     "name": "stdout",
     "output_type": "stream",
     "text": [
      "Tube taper is given by:\n",
      "a=(Qd*2)/(pi*D*y*j**(1/2))\n",
      "tube taper is  m/m(taper)\n",
      "0.142\n"
     ]
    }
   ],
   "source": [
    "#CHAPTER 7_ Flow Measurement\n",
    "#Caption : Constant-Pressure-Drop , Variable-Area Meters(Rotameters)\n",
    "# Example 11# Page 461\n",
    "from math import pi\n",
    "Qd=.1/60    #('enter the maximum flow of water=:')\n",
    "t=469.  #('enter the temperature in k=:')\n",
    "d=.25  #('enter the float diameter in m=:')\n",
    "L=0.3  #('enter the total length of rotameter=:')\n",
    "D=.03  #('enter the diameter of tube at inlet=:')\n",
    "Vb=25*10**-6  #('enter the total volume of float=:')\n",
    "Af=7.068*10**-4    # area of float\n",
    "j=2*9.81*Vb/Af;\n",
    "y=L;\n",
    "print(\"Tube taper is given by:\")\n",
    "print(\"a=(Qd*2)/(pi*D*y*j**(1/2))\")\n",
    "a=(Qd*2)/(pi*D*y*j**(1./2.));\n",
    "print'tube taper is  m/m(taper)\\n',round(a,3)\n"
   ]
  }
 ],
 "metadata": {
  "kernelspec": {
   "display_name": "Python 2",
   "language": "python",
   "name": "python2"
  },
  "language_info": {
   "codemirror_mode": {
    "name": "ipython",
    "version": 2
   },
   "file_extension": ".py",
   "mimetype": "text/x-python",
   "name": "python",
   "nbconvert_exporter": "python",
   "pygments_lexer": "ipython2",
   "version": "2.7.9"
  }
 },
 "nbformat": 4,
 "nbformat_minor": 0
}
