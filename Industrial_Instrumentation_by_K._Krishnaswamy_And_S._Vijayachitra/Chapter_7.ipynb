{
 "metadata": {
  "name": "",
  "signature": "sha256:7398e89d85008e2cdad3036771199a6877abb82c38f4bdc25b1a999f38a5b0fa"
 },
 "nbformat": 3,
 "nbformat_minor": 0,
 "worksheets": [
  {
   "cells": [
    {
     "cell_type": "markdown",
     "metadata": {},
     "source": [
      "<h1>Chapter 7: Velocity Humidity and Moisture<h1>"
     ]
    },
    {
     "cell_type": "markdown",
     "metadata": {},
     "source": [
      "<h3>Example 7.1, Page NUmber: 436<h3>"
     ]
    },
    {
     "cell_type": "code",
     "collapsed": false,
     "input": [
      "\n",
      "\n",
      "#variable declaration\n",
      "f=2*9.8*10**5            # Force in Dynes\n",
      "A=100.0                  # area in cm^2\n",
      "V=20.0                   # velocity in m/sec\n",
      "l=10.0                   # length in cm\n",
      "\n",
      "#calculation\n",
      "mu=(f/A)/(V/l)\n",
      "mu=mu/1000.0\n",
      "\n",
      "#result\n",
      "print('The absolute viscosity mu = %.1f*10^5 centipoises'%mu)"
     ],
     "language": "python",
     "metadata": {},
     "outputs": [
      {
       "output_type": "stream",
       "stream": "stdout",
       "text": [
        "The absolute viscosity mu = 9.8*10^5 centipoises"
       ]
      }
     ],
     "prompt_number": 4
    },
    {
     "cell_type": "markdown",
     "metadata": {},
     "source": [
      "<h3>Example 7.2, Page Number:437<h3>"
     ]
    },
    {
     "cell_type": "code",
     "collapsed": false,
     "input": [
      "\n",
      "\n",
      "#(a)\n",
      "\n",
      "#variable declaration\n",
      "v=10.0                # absolute viscosity\n",
      "\n",
      "#calculation\n",
      "F=1/v\n",
      "\n",
      "#result\n",
      "print('(a)\\nFluidity = %.1f rhe'%F)\n",
      "\n",
      "#(b)\n",
      "\n",
      "#variable declaration\n",
      "mu=10.0                  # absolute viscosity\n",
      "rho=0.8                  # density in m/cm^3\n",
      "\n",
      "#calculation\n",
      "ve=mu/rho\n",
      "\n",
      "#result\n",
      "print('\\n(b)\\nKinematic viscosity (v)= %.1f cm^2/sec'%ve)\n",
      "\n",
      "\n",
      "#(c)\n",
      "\n",
      "#variable declaration\n",
      "ab=1000.0                # absolute viscosity \n",
      "abwt=1.002               # absolute viscosity of water at 20 deree celcius\n",
      "\n",
      "#calculation\n",
      "rv=ab/abwt\n",
      "\n",
      "#result\n",
      "print('\\n(c)\\nRelative viscosity = %d centipoises'%rv)\n",
      "\n",
      "#(d)\n",
      "\n",
      "#variable declaration\n",
      "PAS=10.0\n",
      "\n",
      "#Result\n",
      "print('\\n(c)\\nAbsolute viscosity = 1000 centipoises =10 poises = 1PAS')"
     ],
     "language": "python",
     "metadata": {},
     "outputs": [
      {
       "output_type": "stream",
       "stream": "stdout",
       "text": [
        "(a)\n",
        "Fluidity = 0.1 rhe\n",
        "\n",
        "(b)\n",
        "Kinematic viscosity (v)= 12.5 cm^2/sec\n",
        "\n",
        "(c)\n",
        "Relative viscosity = 998 centipoises\n",
        "\n",
        "(c)\n",
        "Absolute viscosity = 1000 centipoises =10 poises = 1PAS"
       ]
      }
     ],
     "prompt_number": 5
    },
    {
     "cell_type": "markdown",
     "metadata": {},
     "source": [
      "<h3>Example 7.3, Page Number: 438<h3>"
     ]
    },
    {
     "cell_type": "code",
     "collapsed": false,
     "input": [
      "\n",
      "\n",
      "import math\n",
      "#b)\n",
      "\n",
      "#variable declaration\n",
      "R=0.5                      # radius\n",
      "L=5                        # length\n",
      "p_diff=800.0               # pressure difference\n",
      "V=10.0                     # volume\n",
      "\n",
      "#calculation\n",
      "mu=(math.pi*R**4)*p_diff/(8*V*L)\n",
      "\n",
      "#result\n",
      "print('(b)\\nmu=%.4f poise =%.2f centipoise'%(mu,mu*100))"
     ],
     "language": "python",
     "metadata": {},
     "outputs": [
      {
       "output_type": "stream",
       "stream": "stdout",
       "text": [
        "(b)\n",
        "mu=0.3927 poise =39.27 centipoise"
       ]
      }
     ],
     "prompt_number": 6
    },
    {
     "cell_type": "markdown",
     "metadata": {},
     "source": [
      "<h3>Example 7.4, Page Number: 439<h3>"
     ]
    },
    {
     "cell_type": "code",
     "collapsed": false,
     "input": [
      "\n",
      "\n",
      "import math \n",
      "#(a)\n",
      "\n",
      "#variable declaration\n",
      "g=980.0                   # acceleration due to gravity\n",
      "h=4                       # Height\n",
      "R=0.5                     # radius\n",
      "V=10.0                    # volume \n",
      "l=5.0                     # length \n",
      "t=1.0\n",
      "\n",
      "#calculation\n",
      "v=(math.pi*g*h*t*R**4)/(8*l*V)\n",
      "\n",
      "#result\n",
      "print('(a)\\n v = %.2f stokes'%v)\n",
      "\n",
      "#calculation\n",
      "mu=0.3925\n",
      "rho=mu/v\n",
      "\n",
      "#result\n",
      "print('\\n(b)\\n Density of the fluid rho = %.3f gm/cm^3'%rho)"
     ],
     "language": "python",
     "metadata": {},
     "outputs": [
      {
       "output_type": "stream",
       "stream": "stdout",
       "text": [
        "(a)\n",
        " v = 1.92 stokes\n",
        "\n",
        "(b)\n",
        " Density of the fluid rho = 0.204 gm/cm^3"
       ]
      }
     ],
     "prompt_number": 7
    },
    {
     "cell_type": "markdown",
     "metadata": {},
     "source": [
      "<h3>Example 7.5, Page Number: 440<h3>"
     ]
    },
    {
     "cell_type": "code",
     "collapsed": false,
     "input": [
      "\n",
      "#variable declaration\n",
      "\n",
      "#(a)\n",
      "A=0.226      # value of A as per equation\n",
      "B=195.0      # value of B as per equation\n",
      "t=60.0       # Efflux time\n",
      "\n",
      "#calcullation\n",
      "v=A*t-B/t\n",
      "A1=0.220\n",
      "B1=135.0\n",
      "t1=140.0\n",
      "v1=A1*t1-B1/t1\n",
      "\n",
      "#result\n",
      "print('(a) Fluid X\\n v = %.2f centipoises'%v)\n",
      "print('\\n(b)Fluid Y\\n v = %.1f centipoises'%v1)"
     ],
     "language": "python",
     "metadata": {},
     "outputs": [
      {
       "output_type": "stream",
       "stream": "stdout",
       "text": [
        "(a) Fluid X\n",
        " v = 10.31 centipoises\n",
        "\n",
        "(b)Fluid Y\n",
        " v = 29.8 centipoises"
       ]
      }
     ],
     "prompt_number": 8
    },
    {
     "cell_type": "markdown",
     "metadata": {},
     "source": [
      "<h3>Example 7.6, Page Number: 441<h3>"
     ]
    },
    {
     "cell_type": "code",
     "collapsed": false,
     "input": [
      "\n",
      "\n",
      "import math\n",
      "\n",
      "#variable declaration\n",
      "t=12.0                    # time interval of falling ball in sec \n",
      "Rsb=7.0                   # Specific gravity of ball\n",
      "Rsf=1.12                  # Specific gravity of fluid\n",
      "B=1.5                     # Ball constant in centipoises\n",
      "\n",
      "#calculation\n",
      "mu=t*(Rsb-Rsf)*B\n",
      "\n",
      "#result\n",
      "print('mu= %.2f centipoises = %d centipoises(approx)'%(mu,math.ceil(mu)))"
     ],
     "language": "python",
     "metadata": {},
     "outputs": [
      {
       "output_type": "stream",
       "stream": "stdout",
       "text": [
        "mu= 105.84 centipoises = 106 centipoises(approx)"
       ]
      }
     ],
     "prompt_number": 9
    },
    {
     "cell_type": "markdown",
     "metadata": {},
     "source": [
      "<h3>Example 7.7, Page Number: 441<h3>"
     ]
    },
    {
     "cell_type": "code",
     "collapsed": false,
     "input": [
      "\n",
      "\n",
      "#(a)\n",
      "\n",
      "#variable declaration\n",
      "B=45.0             # dry bulb temperature\n",
      "W=25.0             # wet bulb temperature\n",
      "\n",
      "#result\n",
      "print('\\n(b)\\nPsychromatic differential : %d\u00b0C'%(B-W))\n",
      "print('\\n Relative humidity is 80%% corresponding to')\n",
      "print(' \\ntemperature 45\u00b0C  and psychromatic differential 20\u00b0C')\n",
      "\n",
      "#(b)\n",
      "\n",
      "#variable declaration\n",
      "B1=30.0               # dry bulb temperature\n",
      "W1=27.0               # wet bulb temperature\n",
      "\n",
      "#result\n",
      "print('\\n(b)\\nPsychromatic differential : %d\u00b0C'%(B1-W1))\n",
      "print('\\n Relative humidity is 80%% corresponding to')\n",
      "print(' \\ntemperature 30\u00b0C  and psychromatic differential 3\u00b0C')"
     ],
     "language": "python",
     "metadata": {},
     "outputs": [
      {
       "output_type": "stream",
       "stream": "stdout",
       "text": [
        "\n",
        "(b)\n",
        "Psychromatic differential : 20\u00b0C\n",
        "\n",
        " Relative humidity is 80%% corresponding to\n",
        " \n",
        "temperature 45\u00b0C  and psychromatic differential 20\u00b0C\n",
        "\n",
        "(b)\n",
        "Psychromatic differential : 3\u00b0C\n",
        "\n",
        " Relative humidity is 80%% corresponding to\n",
        " \n",
        "temperature 30\u00b0C  and psychromatic differential 3\u00b0C"
       ]
      }
     ],
     "prompt_number": 10
    },
    {
     "cell_type": "markdown",
     "metadata": {},
     "source": [
      "<h3>Example 7.8, Page Number: 441<h3>"
     ]
    },
    {
     "cell_type": "code",
     "collapsed": false,
     "input": [
      "\n",
      "\n",
      "#variable declaration\n",
      "D=80.0                # intersection point of DB temperature\n",
      "W=66.5                # intersection point of WB temperature\n",
      "\n",
      "#Result\n",
      "\n",
      "#(a)\n",
      "print('(a)\\nThe intersection point of DB temperature 80\u00b0F and WB temperature 66.5\u00b0F')\n",
      "print(' \\nlines on the relative humidity curve for 50%.\\n RH = 50%')\n",
      "\n",
      "#(b)\n",
      "print('\\n(b)\\nFrom the point of intersection of the dry and wet bulb curves, move left')\n",
      "print(' \\nhorizontally to the dew point temperature curve where it meets at 60\u00b0F')\n",
      "print('\\nDew Point = 60\u00b0F')\n",
      "\n",
      "#(c)\n",
      "print('\\n(c)\\nFrom the point of intersection of the dry and wet bulb curves,')\n",
      "print('\\nhorizontally to the right to the moisture content plot where it meets at 76.')\n",
      "print('\\nMoisture Content : 76 grains of water per pound of dry air.')"
     ],
     "language": "python",
     "metadata": {},
     "outputs": [
      {
       "output_type": "stream",
       "stream": "stdout",
       "text": [
        "(a)\n",
        "The intersection point of DB temperature 80\u00b0F and WB temperature 66.5\u00b0F\n",
        " \n",
        "lines on the relative humidity curve for 50%.\n",
        " RH = 50%\n",
        "\n",
        "(b)\n",
        "From the point of intersection of the dry and wet bulb curves, move left\n",
        " \n",
        "horizontally to the dew point temperature curve where it meets at 60\u00b0F\n",
        "\n",
        "Dew Point = 60\u00b0F\n",
        "\n",
        "(c)\n",
        "From the point of intersection of the dry and wet bulb curves,\n",
        "\n",
        "horizontally to the right to the moisture content plot where it meets at 76.\n",
        "\n",
        "Moisture Content : 76 grains of water per pound of dry air."
       ]
      }
     ],
     "prompt_number": 11
    },
    {
     "cell_type": "markdown",
     "metadata": {},
     "source": [
      "<h3>Example 7.9, Page Number: 442<h3>"
     ]
    },
    {
     "cell_type": "code",
     "collapsed": false,
     "input": [
      "\n",
      "\n",
      "#variable declaration\n",
      "wt_vap=500.0           # Amount of water vapour present\n",
      "wt_vap_to_sat=1500.0   # Amount of water vapour added to saturate\n",
      "\n",
      "#calculation\n",
      "total=wt_vap+wt_vap_to_sat\n",
      "Rh=(wt_vap/total)*100\n",
      "\n",
      "#result\n",
      "print('RH = %d%%'%Rh)"
     ],
     "language": "python",
     "metadata": {},
     "outputs": [
      {
       "output_type": "stream",
       "stream": "stdout",
       "text": [
        "RH = 25%"
       ]
      }
     ],
     "prompt_number": 12
    },
    {
     "cell_type": "markdown",
     "metadata": {},
     "source": [
      "<h3>Example 7.10, Page Number: 442<h3>"
     ]
    },
    {
     "cell_type": "code",
     "collapsed": false,
     "input": [
      "\n",
      "\n",
      "#variable declaration\n",
      "pv=30.0             # partial pressure of water vapour\n",
      "ps=60.0             # Saturation partial pressure \n",
      "\n",
      "#calculations\n",
      "Rh=(pv/ps)*100\n",
      "\n",
      "#Result\n",
      "print('%%RH = %d%%'%Rh)"
     ],
     "language": "python",
     "metadata": {},
     "outputs": [
      {
       "output_type": "stream",
       "stream": "stdout",
       "text": [
        "%RH = 50%"
       ]
      }
     ],
     "prompt_number": 13
    },
    {
     "cell_type": "markdown",
     "metadata": {},
     "source": [
      "<h3>Example 7.11, Page Number: 442<h3>"
     ]
    },
    {
     "cell_type": "code",
     "collapsed": false,
     "input": [
      "\n",
      "\n",
      "#variable declaration\n",
      "i1=250.0                  # ionazation current \n",
      "i2=350.0                  # ionazation current \n",
      "\n",
      "#calculation\n",
      "m=(i2-i1)*100/i1\n",
      "\n",
      "#result\n",
      "print('%% increase in moisture content = %d%%'%m)"
     ],
     "language": "python",
     "metadata": {},
     "outputs": [
      {
       "output_type": "stream",
       "stream": "stdout",
       "text": [
        "% increase in moisture content = 40%"
       ]
      }
     ],
     "prompt_number": 14
    },
    {
     "cell_type": "markdown",
     "metadata": {},
     "source": [
      "<h3>Example 7.12, Page Number: 443<h3>"
     ]
    },
    {
     "cell_type": "code",
     "collapsed": false,
     "input": [
      "\n",
      "\n",
      "#variable declaraton\n",
      "i2=150.0    # wet weight\n",
      "i1=125.0    # dry weight\n",
      "\n",
      "#calculation\n",
      "m=(i2-i1)*100/i1\n",
      "\n",
      "#result\n",
      "print('Moisture percentage = %d%%'%m)"
     ],
     "language": "python",
     "metadata": {},
     "outputs": [
      {
       "output_type": "stream",
       "stream": "stdout",
       "text": [
        "Moisture percentage = 20%"
       ]
      }
     ],
     "prompt_number": 15
    }
   ],
   "metadata": {}
  }
 ]
}