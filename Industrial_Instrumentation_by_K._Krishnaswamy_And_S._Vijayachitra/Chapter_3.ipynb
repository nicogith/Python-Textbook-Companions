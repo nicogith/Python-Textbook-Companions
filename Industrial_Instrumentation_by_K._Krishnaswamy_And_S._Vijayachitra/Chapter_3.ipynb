{
 "metadata": {
  "name": "",
  "signature": "sha256:40aab97a0942d997de9cd8ee539182af9fd67e045ac34df8f9ba65083df3fe50"
 },
 "nbformat": 3,
 "nbformat_minor": 0,
 "worksheets": [
  {
   "cells": [
    {
     "cell_type": "markdown",
     "metadata": {},
     "source": [
      "<h1>Chapter_3: Force Torque and Velocity<h1>"
     ]
    },
    {
     "cell_type": "markdown",
     "metadata": {},
     "source": [
      "<h3>Example 3.1, Page Number: 163<h3>"
     ]
    },
    {
     "cell_type": "code",
     "collapsed": false,
     "input": [
      "\n",
      "\n",
      "#variable declaration\n",
      "m1=20                       #mass of the body in Kg \n",
      "a=5                         #acceleration in m/s^2\n",
      "\n",
      "#calculation\n",
      "F=m1*a\n",
      "\n",
      "#result\n",
      "print('F = %d Newtons'%F)"
     ],
     "language": "python",
     "metadata": {},
     "outputs": [
      {
       "output_type": "stream",
       "stream": "stdout",
       "text": [
        "F = 100 Newtons"
       ]
      }
     ],
     "prompt_number": 6
    },
    {
     "cell_type": "markdown",
     "metadata": {},
     "source": [
      "<h3>Example 3.2, Page Number: 163<h3>"
     ]
    },
    {
     "cell_type": "code",
     "collapsed": false,
     "input": [
      "\n",
      "\n",
      "#variable declaration\n",
      "m1=50                      #mass of the body in Kg \n",
      "g1=9.8                     #acceleration due to gravity\n",
      "\n",
      "#calculation\n",
      "W2=m1*g1\n",
      "\n",
      "#result\n",
      "print('W = %d Newtons = %d kgf' %(W2,m1))"
     ],
     "language": "python",
     "metadata": {},
     "outputs": [
      {
       "output_type": "stream",
       "stream": "stdout",
       "text": [
        "W = 490 Newtons = 50 kgf"
       ]
      }
     ],
     "prompt_number": 7
    },
    {
     "cell_type": "markdown",
     "metadata": {},
     "source": [
      "<h3>Example 3.3, Page Number: 164<h3>"
     ]
    },
    {
     "cell_type": "code",
     "collapsed": false,
     "input": [
      "\n",
      "\n",
      "#variable declaration\n",
      "wt_material=2500.0         #weight of 1 m^3 material\n",
      "wt_water=1000.0            #weight of 1 m^3 water\n",
      "\n",
      "#calculation\n",
      "spe_grav=wt_material/wt_water\n",
      "\n",
      "#result\n",
      "print('Specific gravity of the material = %.1f' %spe_grav)"
     ],
     "language": "python",
     "metadata": {},
     "outputs": [
      {
       "output_type": "stream",
       "stream": "stdout",
       "text": [
        "Specific gravity of the material = 2.5"
       ]
      }
     ],
     "prompt_number": 8
    },
    {
     "cell_type": "markdown",
     "metadata": {},
     "source": [
      "<h3>Example 3.4, Page Number: 164<h3>"
     ]
    },
    {
     "cell_type": "code",
     "collapsed": false,
     "input": [
      "\n",
      "\n",
      "import math\n",
      "#variable declaration\n",
      "L=20.0                     # length in cm\n",
      "W=2000.0                   # Weight of mass in gm       \n",
      "db=0.02                    # length in cm \n",
      "Wb=100.0                   # Weight of mass in gm       \n",
      "dG=0.5                     # length in cm\n",
      "\n",
      "#calculation\n",
      "S=L/(2*W*db+Wb*dG)\n",
      "fi=0.2\n",
      "DeltaW=fi*math.pi/(180*S)\n",
      "\n",
      "#result\n",
      "print('S = %.3f rad/g' %S)\n",
      "print('\\nDeltaW = %.3f g' %DeltaW)"
     ],
     "language": "python",
     "metadata": {},
     "outputs": [
      {
       "output_type": "stream",
       "stream": "stdout",
       "text": [
        "S = 0.154 rad/g\n",
        "\n",
        "DeltaW = 0.023 g"
       ]
      }
     ],
     "prompt_number": 9
    },
    {
     "cell_type": "markdown",
     "metadata": {},
     "source": [
      "<h3>Example 3.5, Page Number: 164<h3>"
     ]
    },
    {
     "cell_type": "code",
     "collapsed": false,
     "input": [
      "\n",
      "\n",
      "import math\n",
      "\n",
      "#variable declaration\n",
      "hp=746.0                   # horse power\n",
      "P=5*hp                     # Saft power in Watts\n",
      "N=1500.0                   # speed in rpm\n",
      "\n",
      "#calculation\n",
      "n=N/60.0\n",
      "T=P*60/(2*math.pi*n)\n",
      "\n",
      "#result\n",
      "print('T = %.0f Newton meters' %(math.ceil(T)))"
     ],
     "language": "python",
     "metadata": {},
     "outputs": [
      {
       "output_type": "stream",
       "stream": "stdout",
       "text": [
        "T = 1425 Newton meters"
       ]
      }
     ],
     "prompt_number": 10
    },
    {
     "cell_type": "markdown",
     "metadata": {},
     "source": [
      "<h3>Example 3.6, Page Number: 165<h3>"
     ]
    },
    {
     "cell_type": "code",
     "collapsed": false,
     "input": [
      "\n",
      "\n",
      "#variable declaration\n",
      "ch_l=0.075               #change in length\n",
      "orig_l=50.0              #Original length\n",
      "\n",
      "#calculation\n",
      "S=ch_l/orig_l\n",
      "E=9.66*10**5\n",
      "stress=E*S\n",
      "area=1.5\n",
      "f=stress*area\n",
      "\n",
      "#result\n",
      "print('Strain = %.4f cm/cm\\nStress =%d kg/cm^2\\nForce = %.1f kg'%(S,stress,f))"
     ],
     "language": "python",
     "metadata": {},
     "outputs": [
      {
       "output_type": "stream",
       "stream": "stdout",
       "text": [
        "Strain = 0.0015 cm/cm\n",
        "Stress =1449 kg/cm^2\n",
        "Force = 2173.5 kg"
       ]
      }
     ],
     "prompt_number": 11
    },
    {
     "cell_type": "markdown",
     "metadata": {},
     "source": [
      "<h3>Example 3.7, Page Number: 165<h3>"
     ]
    },
    {
     "cell_type": "code",
     "collapsed": false,
     "input": [
      "\n",
      "\n",
      "import math\n",
      "\n",
      "#(a)\n",
      "\n",
      "#variable declaration\n",
      "R1=120.0                    # resistance in Ohm\n",
      "R2=120.0                    # resistance in Ohm\n",
      "R3=120.0                    # resistance in Ohm\n",
      "R4=120.0                    # resistance in Ohm\n",
      "Rg=100.0                    # resistance in Ohm\n",
      "\n",
      "#calculation\n",
      "C=(R1*R2*R4)+(R1*R3*R4)+(R1*R2*R3)+(R2*R3*R4)+(Rg*(R1+R4)*(R2+R3))\n",
      "C=C/(10**7)\n",
      "\n",
      "#result\n",
      "print('(a)\\nC=%.3f*10^7' %C)\n",
      "E=10\n",
      "F=(E*R3*R1*2*10**3)/(C*10**7)\n",
      "print('\\nF = %.1f *10^3 A/mm = %.1f mA/mm'%(F,F))\n",
      "\n",
      "#(b)\n",
      "\n",
      "#calculation\n",
      "Fe=2*10**-4\n",
      "E=10\n",
      "DeltaE=Fe*E/(4+4*10**-4)\n",
      "DeltaE=DeltaE*10**3\n",
      "\n",
      "#Result\n",
      "print('\\n(b)\\nDeltaEg=%.1f mV' %DeltaE)"
     ],
     "language": "python",
     "metadata": {},
     "outputs": [
      {
       "output_type": "stream",
       "stream": "stdout",
       "text": [
        "(a)\n",
        "C=1.267*10^7\n",
        "\n",
        "F = 22.7 *10^3 A/mm = 22.7 mA/mm\n",
        "\n",
        "(b)\n",
        "DeltaEg=0.5 mV"
       ]
      }
     ],
     "prompt_number": 12
    },
    {
     "cell_type": "markdown",
     "metadata": {},
     "source": [
      "<h3>Example 3.8, PAge Number: 167<h3>"
     ]
    },
    {
     "cell_type": "code",
     "collapsed": false,
     "input": [
      "\n",
      "\n",
      "#(a)\n",
      "import math\n",
      "\n",
      "#variable Declaration\n",
      "r1=2500.0                       # Highest flasing rate \n",
      "r2=1500.0                       # next Highest flasing rate \n",
      "\n",
      "#calculation\n",
      "n=(r1*r2)/(r1-r2)\n",
      "\n",
      "#result\n",
      "print('(a)\\nn = %d rpm'%n)\n",
      "\n",
      "#(b)\n",
      "\n",
      "#variable declaration\n",
      "N=5.0                         # Fift time syncronization for same speed\n",
      "\n",
      "#calculation\n",
      "r5=n*r1/((r1*(N-1))+n)\n",
      "r5=math.ceil(r5)\n",
      "\n",
      "#result\n",
      "print('\\n(b)\\nr5=%d Flashes/Minute' %r5)"
     ],
     "language": "python",
     "metadata": {},
     "outputs": [
      {
       "output_type": "stream",
       "stream": "stdout",
       "text": [
        "(a)\n",
        "n = 3750 rpm\n",
        "\n",
        "(b)\n",
        "r5=682 Flashes/Minute"
       ]
      }
     ],
     "prompt_number": 13
    },
    {
     "cell_type": "markdown",
     "metadata": {},
     "source": [
      "<h3>Example 3.9, Page Number: 167<h3>"
     ]
    },
    {
     "cell_type": "code",
     "collapsed": false,
     "input": [
      "\n",
      "\n",
      "#variable declaration\n",
      "rpm=1500.0                   #rotation in rpm\n",
      "f=200.0                      #frequency\n",
      "\n",
      "#calculation\n",
      "N=60*f/rpm\n",
      "\n",
      "#result\n",
      "print('No of teeth on the wheel\\nN=%d' %N)"
     ],
     "language": "python",
     "metadata": {},
     "outputs": [
      {
       "output_type": "stream",
       "stream": "stdout",
       "text": [
        "No of teeth on the wheel\n",
        "N=8"
       ]
      }
     ],
     "prompt_number": 14
    }
   ],
   "metadata": {}
  }
 ]
}