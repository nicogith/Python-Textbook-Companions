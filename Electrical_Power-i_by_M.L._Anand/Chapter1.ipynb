{
 "metadata": {
  "name": "",
  "signature": ""
 },
 "nbformat": 3,
 "nbformat_minor": 0,
 "worksheets": [
  {
   "cells": [
    {
     "cell_type": "heading",
     "level": 1,
     "metadata": {},
     "source": [
      "Chapter 1, Basic Concepts"
     ]
    },
    {
     "cell_type": "heading",
     "level": 2,
     "metadata": {},
     "source": [
      "Exa 1.1 - page 13"
     ]
    },
    {
     "cell_type": "code",
     "collapsed": false,
     "input": [
      "from __future__ import division\n",
      "from numpy import sqrt\n",
      "#Given data : \n",
      "R=4 #in ohm\n",
      "XL=3 #in ohm\n",
      "VL=400 #in volt\n",
      "Vph=VL/sqrt(3) #in volt\n",
      "Zph=sqrt(R**2+XL**2) #in ohm\n",
      "Iph=Vph/Zph #in Ampere\n",
      "#In star connected IL=Iph\n",
      "IL=Iph #in Ampere\n",
      "print \"Line Current = %0.1f A\" %IL\n",
      "cosfi=R/Zph #unitless\n",
      "PowerConsumed=sqrt(3)*VL*IL*cosfi #in watts\n",
      "print \"Total power consumed by the load = %.f Watts\" %PowerConsumed "
     ],
     "language": "python",
     "metadata": {},
     "outputs": [
      {
       "output_type": "stream",
       "stream": "stdout",
       "text": [
        "Line Current = 46.2 A\n",
        "Total power consumed by the load = 25600 Watts\n"
       ]
      }
     ],
     "prompt_number": 4
    },
    {
     "cell_type": "heading",
     "level": 2,
     "metadata": {},
     "source": [
      "Exa 1.2 - page 14"
     ]
    },
    {
     "cell_type": "code",
     "collapsed": false,
     "input": [
      "from __future__ import division\n",
      "from numpy import sqrt\n",
      "#Given data : \n",
      "VL=440 #in volt\n",
      "IL=10 #in Ampere\n",
      "#In star connected :\n",
      "print \"In star connected :\" \n",
      "Iph=IL #in Ampere\n",
      "Vph=VL/sqrt(3) #in volt\n",
      "Rph=Vph/Iph #in ohm\n",
      "print \"Value of each resistor = %.1f ohm\" %Rph\n",
      "#In delta connected :\n",
      "print \"In delta connected :\"\n",
      "Iph=IL/sqrt(3) #in Ampere\n",
      "Vph=Iph*Rph #in volt\n",
      "print \"Voltage in delta connection = %.2f volt\" %Vph"
     ],
     "language": "python",
     "metadata": {},
     "outputs": [
      {
       "output_type": "stream",
       "stream": "stdout",
       "text": [
        "In star connected :\n",
        "Value of each resistor = 25.4 ohm\n",
        "In delta connected :\n",
        "Voltage in delta connection = 146.67 volt\n"
       ]
      }
     ],
     "prompt_number": 8
    },
    {
     "cell_type": "heading",
     "level": 2,
     "metadata": {},
     "source": [
      "Exa 1.3 - page 15"
     ]
    },
    {
     "cell_type": "code",
     "collapsed": false,
     "input": [
      "from __future__ import division\n",
      "from numpy import sqrt, pi\n",
      "#Given Data :\n",
      "R=16 #in ohm\n",
      "L=38.2 #in mH\n",
      "L=38.2*10**-3 #in H\n",
      "VL=400 #in volt\n",
      "f=50 #in Hz\n",
      "XL=2*pi*f*L #in ohm\n",
      "Zph=sqrt(R**2+XL**2) #in ohm\n",
      "#In star connected :\n",
      "Vph=VL/sqrt(3) #in volt\n",
      "Iph=Vph/Zph #in Ampere\n",
      "IL=Iph #in Ampere\n",
      "print \"Line Current = %0.2f A\" %IL\n",
      "cosfi=R/Zph #unitless\n",
      "print \"Power factor = %.1f\" %cosfi\n",
      "P=sqrt(3)*VL*IL*cosfi #in watts\n",
      "P/=10**3  # kW\n",
      "print \"Total power consumed by the load = %0.3f kW\" %P"
     ],
     "language": "python",
     "metadata": {},
     "outputs": [
      {
       "output_type": "stream",
       "stream": "stdout",
       "text": [
        "Line Current = 11.55 A\n",
        "Power factor = 0.8\n",
        "Total power consumed by the load = 6.400 kW\n"
       ]
      }
     ],
     "prompt_number": 12
    },
    {
     "cell_type": "heading",
     "level": 2,
     "metadata": {},
     "source": [
      "Exa 1.4 - page 15"
     ]
    },
    {
     "cell_type": "code",
     "collapsed": false,
     "input": [
      "from __future__ import division\n",
      "from numpy import sqrt\n",
      "#Given Data :\n",
      "R=15 #in ohm\n",
      "X=40 #in ohm\n",
      "VL=440 #in volt\n",
      "#In delta connection : \n",
      "Vph=VL #in volt\n",
      "Zph=sqrt(R**2+X**2) #in ohm\n",
      "Iph=Vph/Zph #in Ampere\n",
      "print \"Phase Current = %0.1f A\" %Iph\n",
      "IL=Iph*sqrt(3) #in Ampere\n",
      "print \"Line Current = %0.2f A\" %IL"
     ],
     "language": "python",
     "metadata": {},
     "outputs": [
      {
       "output_type": "stream",
       "stream": "stdout",
       "text": [
        "Phase Current = 10.3 A\n",
        "Line Current = 17.84 A\n"
       ]
      }
     ],
     "prompt_number": 13
    }
   ],
   "metadata": {}
  }
 ]
}
