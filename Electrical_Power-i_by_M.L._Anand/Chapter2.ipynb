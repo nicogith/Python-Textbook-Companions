{
 "metadata": {
  "name": "",
  "signature": ""
 },
 "nbformat": 3,
 "nbformat_minor": 0,
 "worksheets": [
  {
   "cells": [
    {
     "cell_type": "heading",
     "level": 1,
     "metadata": {},
     "source": [
      "chapter 2, Layout of transmission systems"
     ]
    },
    {
     "cell_type": "heading",
     "level": 2,
     "metadata": {},
     "source": [
      "Exa 2.1 : page 32"
     ]
    },
    {
     "cell_type": "code",
     "collapsed": false,
     "input": [
      "from sympy import symbols\n",
      "from __future__ import division\n",
      "a=symbols('a')\n",
      "#Given Data :\n",
      "CableCost=20+400*a #in Rs./meter (a=cross section in cm**2)\n",
      "Cable_cost=(20+400*a)*1000 #in Rs./km\n",
      "l=1 #in Km\n",
      "P=1 #in MW\n",
      "V=11 #in KV\n",
      "cosfi=0.8 #powerfactor\n",
      "h=3000 #hours\n",
      "i=10 #in %\n",
      "E_cost=15 #in paisa/kwh\n",
      "rho=1.75*10**-6 #sp. resistance in ohm-cm\n",
      "C1=CableCost*1000 #in Rs./km\n",
      "R=rho*l*10**3/(a*10**-2) #in ohm\n",
      "Ifl=(P*10**6)/(V*10**3*cosfi) #in Ampere\n",
      "Ploss=2*Ifl**2*R #in Watts\n",
      "Annual_cost=Ploss*10**-3*h*E_cost/100 #in Rs.\n",
      "AnnualCost2=400*10**3*a*i/100 #in Rs.\n",
      "annually_energy_lost = 40000/a  # Rs.\n",
      "#comparing Annual_cost = AnnualCost2\n",
      "a=Annual_cost/AnnualCost2*a**2\n",
      "print \"Most economical cross section area, a = \",round(a,4), \"cm2 \""
     ],
     "language": "python",
     "metadata": {},
     "outputs": [
      {
       "output_type": "stream",
       "stream": "stdout",
       "text": [
        "Most economical cross section area, a =  0.0508 cm2 \n"
       ]
      }
     ],
     "prompt_number": 245
    },
    {
     "cell_type": "heading",
     "level": 2,
     "metadata": {},
     "source": [
      "Exa 2.2 : page 33"
     ]
    },
    {
     "cell_type": "code",
     "collapsed": false,
     "input": [
      "from math import sqrt\n",
      "#Given Data :\n",
      "Pt=30*10**6 #in watt\n",
      "V=220*10**3 #in volt\n",
      "l=275*10**3 #in meter\n",
      "R=0.173 #in ohm/km\n",
      "Eta=90 #in %\n",
      "density=8.9 #copper density\n",
      "Loss=100-Eta #in %\n",
      "cosfi=0.8 #powerfactor\n",
      "print \"3-phase 3 wire :\"\n",
      "IL=Pt/(sqrt(3)*V*cosfi) #in Ampere\n",
      "LineLosses=(Loss/100)*Pt #in watts\n",
      "rho=R*10**-4/(1*10**3) #in ohm-meter\n",
      "a=3*IL**2*rho*l/(LineLosses) #in m**2\n",
      "Volume=3*a*l #in m**3\n",
      "Cu_weight=Volume*density #in Tones\n",
      "print \"Weight of copper = %0.f Tones\" %Cu_weight\n",
      "print \"Single phase 2 wire :\"\n",
      "IL=Pt/(V*cosfi) #in Ampere\n",
      "a=2*IL**2*rho*l/(LineLosses) #in m**2\n",
      "Volume=2*a*l #in m**3\n",
      "Cu_weight=Volume*density #in Tones\n",
      "print \"Weight of copper = %0.1f Tones\" %Cu_weight\n",
      "#Note : answer is not accurate in the book."
     ],
     "language": "python",
     "metadata": {},
     "outputs": [
      {
       "output_type": "stream",
       "stream": "stdout",
       "text": [
        "3-phase 3 wire :\n",
        "Weight of copper = 338 Tones\n",
        "Single phase 2 wire :\n",
        "Weight of copper = 451.1 Tones\n"
       ]
      }
     ],
     "prompt_number": 246
    },
    {
     "cell_type": "heading",
     "level": 2,
     "metadata": {},
     "source": [
      "Exa 2.3 : page 35"
     ]
    },
    {
     "cell_type": "code",
     "collapsed": false,
     "input": [
      "from sympy import symbols\n",
      "from __future__ import division\n",
      "from math import sqrt\n",
      "a=symbols('a')\n",
      "#Given Data :\n",
      "l=1 #in Km\n",
      "l=l*10**5 #in cm\n",
      "I=200 #in Ampere\n",
      "CableCost=50*a #in Rs./meter (a=cross section in cm**2)\n",
      "E_cost=5 #in paisa/kwh\n",
      "i=10 #in %\n",
      "rho=1.72*10**-6 #resistivity in ohm-cm\n",
      "R=rho*l/a #in ohm\n",
      "Eloss=2*I**2*R*24*365/1000 #in kwh\n",
      "AnnualCost2=(E_cost/100)*2*I**2*rho*l*24*365/1000/a  #in Rs.\n",
      "C1=CableCost*1000 #in Rs./km\n",
      "AnnualCharges=C1*i/100 #in Rs.\n",
      "a=sqrt(AnnualCost2/AnnualCharges*a**2)  # cm2\n",
      "print \"Most economical cross section area a = %0.3f cm2\" %a"
     ],
     "language": "python",
     "metadata": {},
     "outputs": [
      {
       "output_type": "stream",
       "stream": "stdout",
       "text": [
        "Most economical cross section area a = 1.098 cm2\n"
       ]
      }
     ],
     "prompt_number": 247
    },
    {
     "cell_type": "heading",
     "level": 2,
     "metadata": {},
     "source": [
      "Exa 2.4 : page 36"
     ]
    },
    {
     "cell_type": "code",
     "collapsed": false,
     "input": [
      "from sympy import symbols\n",
      "from __future__ import division\n",
      "from math import sqrt\n",
      "a=symbols('a')\n",
      "#Given Data : \n",
      "l=4*10**5 #in cm\n",
      "VL=30 #in KV\n",
      "LineCost=40000*a+7500 #in Rs/km\n",
      "i=8 #in %\n",
      "E_cost=4 #in paisa/kwh\n",
      "rho=1.72*10**-6 #in ohm-cm\n",
      "R=rho*l/a #in ohm\n",
      "P1=3*10**6 #in watt\n",
      "h1=10 #in hours\n",
      "cosfi1=0.8#unitless\n",
      "I1=P1/(sqrt(3)*VL*10**3*cosfi1) #in Ampere\n",
      "P2=1.5*10**6 #in watt\n",
      "h2=6 #in hours\n",
      "cosfi2=0.9#unitless\n",
      "I2=P2/(sqrt(3)*VL*10**3*cosfi2) #in Ampere\\\n",
      "P3=0.5*10**6 #in watt\n",
      "h3=8 #in hours\n",
      "cosfi3=0.9 #unitless\n",
      "I3=P3/(sqrt(3)*VL*10**3*cosfi3) #in Ampere\n",
      "Etot=3*(I1**2*h1+I2**2*h2+I3**2*h3)*R*365/1000 #in kwh\n",
      "Ccost_line=40000*a*4 #in Rs.\n",
      "AnnualCharges=Ccost_line*i/100 #in Rs.\n",
      "AnnualCost2=(E_cost/100)*Etot  #in Rs.\n",
      "a=sqrt(AnnualCost2/AnnualCharges*a**2)  # cm2\n",
      "print \"Most economical cross section area a = %0.2f cm2\" %a"
     ],
     "language": "python",
     "metadata": {},
     "outputs": [
      {
       "output_type": "stream",
       "stream": "stdout",
       "text": [
        "Most economical cross section area a = 0.37 cm2\n"
       ]
      }
     ],
     "prompt_number": 248
    },
    {
     "cell_type": "heading",
     "level": 2,
     "metadata": {},
     "source": [
      "Exa 2.5 : page 37"
     ]
    },
    {
     "cell_type": "code",
     "collapsed": false,
     "input": [
      "from sympy import symbols\n",
      "from __future__ import division\n",
      "from math import sqrt\n",
      "a, l=symbols('a l')\n",
      "#Given Data :\n",
      "P=5*10**6 #in watt\n",
      "VL=33*10**3 #in volt\n",
      "cosfi=0.8#unitless\n",
      "LineCost=31250*a+4000 #in Rs/km\n",
      "rho=10**-6 #in ohm-cm\n",
      "i=8 #in %\n",
      "E_cost=4 #in paisa/kwh\n",
      "IL=P/(sqrt(3)*VL*cosfi) #in Ampere\n",
      "Line_length=l*10**5 #in cm\n",
      "R=rho*l*10**5/a #in ohm\n",
      "E_lost=3*IL**2*R*365/1000 #in kwh\n",
      "Ccost_line=31250*a*l #in Rs.\n",
      "AnnualCharges=Ccost_line*i/100 #in Rs.\n",
      "a=sqrt(E_lost/AnnualCharges*a**2)\n",
      "print \"Most economical cross section area a = %0.2f cm2\" %a"
     ],
     "language": "python",
     "metadata": {},
     "outputs": [
      {
       "output_type": "stream",
       "stream": "stdout",
       "text": [
        "Most economical cross section area a = 0.72 cm2\n"
       ]
      }
     ],
     "prompt_number": 249
    },
    {
     "cell_type": "heading",
     "level": 2,
     "metadata": {},
     "source": [
      "Exa 2.6 : page 38"
     ]
    },
    {
     "cell_type": "code",
     "collapsed": false,
     "input": [
      "#Given Data :\n",
      "P=50*10**6 #in watt\n",
      "VL=220*10**3 #in volt\n",
      "cosfi=0.8#unitless\n",
      "Eta=90 #in %\n",
      "l=200*10**3 #in meter\n",
      "rho=1.75*10**-8 #in ohm-cm\n",
      "W=P*(100-Eta)/100 #in Wats(Line losses)\n",
      "#Part (i) : 3 phase 3 wire with Cu condutor\n",
      "gravity=8.9 #specific gravity\n",
      "IL=P/(sqrt(3)*VL*cosfi) #in Ampere\n",
      "a=3*IL**2*rho*l/W #in m**2\n",
      "Vol3=3*a*l #volume of 3 lines(in m**3)\n",
      "CuWeight=Vol3*gravity #in Tones\n",
      "print \"Weight of copper = %0.2f Tones\" %CuWeight \n",
      "#Part (ii) : When Al conductor is used.\n",
      "gravity=2.7 #specific gravity\n",
      "rho=3*10**-8 #in ohm-meter\n",
      "a=3*IL**2*rho*(l/W) #in m**2\n",
      "Vol=3*a*l #volume of 3 lines(in m**3)\n",
      "AlWeight=Vol*gravity #in Tones\n",
      "print \"Weight of Alluminium = %0.3f Tones\" %AlWeight "
     ],
     "language": "python",
     "metadata": {},
     "outputs": [
      {
       "output_type": "stream",
       "stream": "stdout",
       "text": [
        "Weight of copper = 301.69 Tones\n",
        "Weight of Alluminium = 156.896 Tones\n"
       ]
      }
     ],
     "prompt_number": 250
    },
    {
     "cell_type": "heading",
     "level": 2,
     "metadata": {},
     "source": [
      "Exa 2.7 : page 39"
     ]
    },
    {
     "cell_type": "code",
     "collapsed": false,
     "input": [
      "from sympy import symbols\n",
      "from __future__ import division\n",
      "from math import sqrt\n",
      "P2, V, cosfi, R = symbols('P2 V cosfi R')\n",
      "#Given Data :\n",
      "Vcon=V #in volt\n",
      "pf=cosfi #unitless\n",
      "Rcon=R #in ohm\n",
      "P1=15*10**6 #in watt\n",
      "I1=P1/(V*cosfi) #in Ampere\n",
      "W1=2*I1**2*Rcon #in Wats(Line losses)\n",
      "Lloss_percent=W1/P1*100 #in %         eqn(1)\n",
      "\n",
      "I2=P2/(V*cosfi*sqrt(3)) #in Ampere\n",
      "W2=3*I2**2*Rcon #in Wats(Line losses)\n",
      "Lloss_percent=W2/P2*100 #in %         eqn(2)\n",
      "# Equating eqn(1) & eqn(2)\n",
      "P2=W1/P1*100/W2/100*P2**2   # W\n",
      "P2/=10**6  # MW\n",
      "print \"3 phase load = %0.f MW \" %P2"
     ],
     "language": "python",
     "metadata": {},
     "outputs": [
      {
       "output_type": "stream",
       "stream": "stdout",
       "text": [
        "3 phase load = 30 MW \n"
       ]
      }
     ],
     "prompt_number": 251
    },
    {
     "cell_type": "heading",
     "level": 2,
     "metadata": {},
     "source": [
      "Exa 2.8 : page 40"
     ]
    },
    {
     "cell_type": "code",
     "collapsed": false,
     "input": [
      "#Given Data :\n",
      "from sympy import symbols\n",
      "P, V, rho, l, a = symbols('P V rho l a')\n",
      "I=P/V #in Ampere\n",
      "R=rho*l/a\n",
      "a=2*I**2*2*rho*l/W\n",
      "K=a*V**2\n",
      "#(i) When V=220 volts\n",
      "V1=220 #in volts\n",
      "vol1=K/V1**2\n",
      "#(ii) When V=500 volts\n",
      "V2=500 #in volts\\\n",
      "vol2=K/V2**2\n",
      "saving=(vol1-vol2)/vol1*100 # in % \n",
      "print \"Saving in copper =\",round(saving,2),\"%\"\n",
      "# Answer not accurate in the textbook."
     ],
     "language": "python",
     "metadata": {},
     "outputs": [
      {
       "output_type": "stream",
       "stream": "stdout",
       "text": [
        "Saving in copper = 80.64 %\n"
       ]
      }
     ],
     "prompt_number": 252
    },
    {
     "cell_type": "heading",
     "level": 2,
     "metadata": {},
     "source": [
      "Exa 2.9 : page 41"
     ]
    },
    {
     "cell_type": "code",
     "collapsed": false,
     "input": [
      "#Given Data :\n",
      "P=30*10**6 #in watts\n",
      "V=220*10**3 #in Volt\n",
      "l=250*10**3 #in meter\n",
      "Eta=85 #in %\n",
      "rho=3*10**-8 #in ohm-meter\n",
      "cosfi=0.8 #power factor\n",
      "W=P*(100-Eta)/100 #in watts\n",
      "I=P/(sqrt(3)*V*cosfi) #in Ampere\n",
      "a=3*I**2*rho*l/W #in m**2\n",
      "Volume=3*a*l #in m**3\n",
      "print \"Volume of the conductor material = %0.1f m3\" %Volume\n"
     ],
     "language": "python",
     "metadata": {},
     "outputs": [
      {
       "output_type": "stream",
       "stream": "stdout",
       "text": [
        "Volume of the conductor material = 36.3 m3\n"
       ]
      }
     ],
     "prompt_number": 253
    },
    {
     "cell_type": "heading",
     "level": 2,
     "metadata": {},
     "source": [
      "Exa 2.10 : page 42"
     ]
    },
    {
     "cell_type": "code",
     "collapsed": false,
     "input": [
      "#Given Data :\n",
      "P=20*10**6 #in VA\n",
      "cosfi=0.75 #power factor\n",
      "P=20*10**6*cosfi #in watts\n",
      "V=33*10**3 #in Volt\n",
      "l=20*10**3 #in meter\n",
      "Eta=85 #in %\n",
      "rho=3*10**-8 #in ohm-meter\n",
      "W=P*(100-Eta)/100 #in watts\n",
      "#For single phase system :\n",
      "I=P/(V*cosfi) #in Ampere\n",
      "a1=2*I**2*rho*l/W #in m**2\n",
      "V1=2*a1*l #in m**3\n",
      "print \"For single phase system :\\nVolume of the conductor material = %0.3f m3\" %(V1)\n",
      "#For 3 phase 3 wire system :\n",
      "I=P/(sqrt(3)*V*cosfi) #in Ampere\n",
      "a2=3*I**2*rho*l/W #in m**2\n",
      "V2=3*a2*l #in m**3\n",
      "print \"For three phase 3-wire system :\\nVolume of the conductor material = %0.2f m3\" %V2"
     ],
     "language": "python",
     "metadata": {},
     "outputs": [
      {
       "output_type": "stream",
       "stream": "stdout",
       "text": [
        "For single phase system :\n",
        "Volume of the conductor material = 7.836 m3\n",
        "For three phase 3-wire system :\n",
        "Volume of the conductor material = 5.88 m3\n"
       ]
      }
     ],
     "prompt_number": 254
    },
    {
     "cell_type": "heading",
     "level": 2,
     "metadata": {},
     "source": [
      "Exa 2.11 : page 43"
     ]
    },
    {
     "cell_type": "code",
     "collapsed": false,
     "input": [
      "from sympy import symbols\n",
      "from __future__ import division\n",
      "from math import sqrt\n",
      "a=symbols('a')#Given Data :\n",
      "l=1*10**3 #in meter\n",
      "rho=1.85*10**-6 #in ohm-cm\n",
      "R=rho*l*100/a #in ohm\n",
      "IL=300 #in Ampere\n",
      "Rate=10 #in Rs/kwh\n",
      "Eloss=2*IL**2*R*365*24/1000 #in kwh\n",
      "CableCost=100*a #in Rs/meter : a=cross sectional area(in cm**2)\n",
      "i=10 #in %\n",
      "AnnualCost=Eloss/Rate #in Rs\n",
      "Ccost=100*a*l #in Rs\n",
      "Ccost=Ccost*i/100  # with effet of depreciation\n",
      "#a=sqrt(29170.8/10000)\n",
      "a=sqrt(AnnualCost/Ccost*a**2)  # cm2\n",
      "print \"Most economical cross section = %0.3f cm2\" %a"
     ],
     "language": "python",
     "metadata": {},
     "outputs": [
      {
       "output_type": "stream",
       "stream": "stdout",
       "text": [
        "Most economical cross section = 1.708 cm2\n"
       ]
      }
     ],
     "prompt_number": 255
    },
    {
     "cell_type": "heading",
     "level": 2,
     "metadata": {},
     "source": [
      "Exa 2.12 : page 44    "
     ]
    },
    {
     "cell_type": "code",
     "collapsed": false,
     "input": [
      "from sympy import symbols\n",
      "pf, Vcon, Rcon = symbols('cosfi V R')\n",
      "#Given Data :\n",
      "#Part (i) : single phase system\n",
      "P1=5*10**6 #in watt\n",
      "I1=P1/(Vcon*pf) #in Ampere\n",
      "W1=2*I1**2*Rcon #in Watts(Line losses)\n",
      "Lloss_percent=W1/P1*100 #in %         eqn(1)\n",
      "#Part (ii) : 3 phase 3 wire system\n",
      "P2 = symbols('P2') # MW\n",
      "I2=P2/(Vcon*pf*sqrt(3)) #in Ampere\n",
      "W2=3*I2**2*Rcon #in Watts(Line losses)\n",
      "Lloss_percent=W2/P2*100 #in %         eqn(2)\n",
      "# Equating two eqn\n",
      "P2=(W1/P1*100)/(W2*100)*P2**2\n",
      "P2/=10**6   # MW\n",
      "print \"3 phase load = %0.f MW \" %P2"
     ],
     "language": "python",
     "metadata": {},
     "outputs": [
      {
       "output_type": "stream",
       "stream": "stdout",
       "text": [
        "3 phase load = 10 MW \n"
       ]
      }
     ],
     "prompt_number": 256
    },
    {
     "cell_type": "heading",
     "level": 2,
     "metadata": {},
     "source": [
      "Exa 2.13 : page 45"
     ]
    },
    {
     "cell_type": "code",
     "collapsed": false,
     "input": [
      "import math\n",
      "#Given Data :\n",
      "from sympy import symbols\n",
      "P, V, rho, l, a = symbols('P V rho l a')\n",
      "I=P/V #in Ampere\n",
      "R=rho*l/a\n",
      "a=2*I**2*2*rho*l/W\n",
      "K=a*V**2\n",
      "#(i) When V=200 volts\n",
      "V1=200 #in volts\n",
      "vol1=K/V1**2\n",
      "#(ii) When V=600 volts\n",
      "V2=600 #in volts\\\n",
      "vol2=K/V2**2\n",
      "saving=(vol1-vol2)/vol1*100 # in % \n",
      "print \"Saving in copper =\",math.floor(saving),\"%\""
     ],
     "language": "python",
     "metadata": {},
     "outputs": [
      {
       "output_type": "stream",
       "stream": "stdout",
       "text": [
        "Saving in copper = 88.0 %\n"
       ]
      }
     ],
     "prompt_number": 257
    }
   ],
   "metadata": {}
  }
 ]
}
