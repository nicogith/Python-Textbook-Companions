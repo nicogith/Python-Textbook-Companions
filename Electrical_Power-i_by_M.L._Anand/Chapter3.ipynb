{
 "metadata": {
  "name": "",
  "signature": ""
 },
 "nbformat": 3,
 "nbformat_minor": 0,
 "worksheets": [
  {
   "cells": [
    {
     "cell_type": "heading",
     "level": 1,
     "metadata": {},
     "source": [
      "Chapter 3, Constructional Mechanical Features of line"
     ]
    },
    {
     "cell_type": "heading",
     "level": 2,
     "metadata": {},
     "source": [
      "Exa 3.1 : page 70"
     ]
    },
    {
     "cell_type": "code",
     "collapsed": false,
     "input": [
      "from __future__ import division\n",
      "from numpy import sqrt\n",
      "#Given Data :\n",
      "m=1/10 #unitless\n",
      "EL=66 #in KV\n",
      "E=EL/sqrt(3) #in KV\n",
      "#Formula : E=E1+(11/10)*E1+(131/100)*E1+(1651/1000)*E1=(5061/1000)*E1\n",
      "E1=E*(1000/5061) #in KV\n",
      "print \"E1 = %0.2f KV\" %E1 \n",
      "E2=E1*(11/10) #in KV\n",
      "print \"E2 = %0.3f KV\" %E2\n",
      "E3=E1*(131/100) #in KV\n",
      "print \"E3 = %0.2f KV\" %E3\n",
      "E4=E1*(1651/1000) #in KV\n",
      "print \"E4 = %0.2f KV\" %E4\n",
      "Eta=(E/(4*E4))*100 #in %\n",
      "print \"String Efficiency = %0.1f %%\" %Eta"
     ],
     "language": "python",
     "metadata": {},
     "outputs": [
      {
       "output_type": "stream",
       "stream": "stdout",
       "text": [
        "E1 = 7.53 KV\n",
        "E2 = 8.282 KV\n",
        "E3 = 9.86 KV\n",
        "E4 = 12.43 KV\n",
        "String Efficiency = 76.6 %\n"
       ]
      }
     ],
     "prompt_number": 5
    },
    {
     "cell_type": "heading",
     "level": 2,
     "metadata": {},
     "source": [
      "Exa 3.2 : page 71"
     ]
    },
    {
     "cell_type": "code",
     "collapsed": false,
     "input": [
      "from __future__ import division\n",
      "from numpy import sqrt\n",
      "#Given Data :\n",
      "W=0.85 #in Kg/meter\n",
      "L=250 #in meter\n",
      "Ww=1.4 #in Kg\n",
      "SafetyFactor=5 #unitless\n",
      "UTS=10128 #Ultimate tensile strength in Kg\n",
      "T=UTS/SafetyFactor #in Kg\n",
      "Wi=0 #there is no ice\n",
      "Wr=sqrt((W+Wi)**2+Ww**2) #in Kg\n",
      "S=Wr*L**2/(8*T) #in meter\n",
      "Sv=(W/Wr)*S #in meter\n",
      "print \"Horizontal sag = %0.3f m\" %S\n",
      "print \"Vertical sag = %0.3f m\" %Sv "
     ],
     "language": "python",
     "metadata": {},
     "outputs": [
      {
       "output_type": "stream",
       "stream": "stdout",
       "text": [
        "Horizontal sag = 6.317 m\n",
        "Vertical sag = 3.278 m\n"
       ]
      }
     ],
     "prompt_number": 7
    },
    {
     "cell_type": "heading",
     "level": 2,
     "metadata": {},
     "source": [
      "Exa 3.3 : page 72"
     ]
    },
    {
     "cell_type": "code",
     "collapsed": false,
     "input": [
      "from __future__ import division\n",
      "from numpy import sqrt\n",
      "#Given Data :\n",
      "L=150 #in meter\n",
      "A=2 #in cm**2(cross sectional area)\n",
      "US=5000 #in Kg/cm**2(ultimate strength)\n",
      "g=8.9 #specific gravity\n",
      "Ww=1.5 #in Kg/m(wind pressure)\n",
      "SafetyFactor=5 #unitless\n",
      "B_strength=2*US #in Kg\n",
      "T=B_strength/SafetyFactor #in Kg\n",
      "Volume=A*100 #in cm**2\n",
      "Wc=1.78 #in Kg/m\n",
      "Wr=sqrt(Wc**2+Ww**2) #in Kg\n",
      "Sag=Wr*L**2/(8*T) #in meter\n",
      "print \"Sag = %0.2f m\" % Sag "
     ],
     "language": "python",
     "metadata": {},
     "outputs": [
      {
       "output_type": "stream",
       "stream": "stdout",
       "text": [
        "Sag = 3.27 m\n"
       ]
      }
     ],
     "prompt_number": 8
    },
    {
     "cell_type": "heading",
     "level": 2,
     "metadata": {},
     "source": [
      "Exa 3.4 : page 73"
     ]
    },
    {
     "cell_type": "code",
     "collapsed": false,
     "input": [
      "from __future__ import division\n",
      "from numpy import sqrt, pi\n",
      "#Given Data :\n",
      "L=160 #in meter\n",
      "d=0.95 #in cm\n",
      "A=pi*d**2/4 #in cm**2(cross sectional area)\n",
      "US=4250 #in Kg/cm**2(ultimate strength)\n",
      "g=8.9 #specific gravity\n",
      "Ww=1.5 #in Kg/m(wind pressure)\n",
      "SafetyFactor=5 #unitless\n",
      "B_strength=2*US #in Kg\n",
      "T=B_strength/SafetyFactor #in Kg\n",
      "Volume=A*100 #in cm**2\n",
      "Wc=1.78 #in Kg/m\n",
      "Wr=sqrt(Wc**2+Ww**2) #in Kg\n",
      "Sag=Wr*L**2/(8*T) #in meter\n",
      "print \"Sag = %.f m\" % Sag \n",
      "#Note : Answer in the book is not accurate."
     ],
     "language": "python",
     "metadata": {},
     "outputs": [
      {
       "output_type": "stream",
       "stream": "stdout",
       "text": [
        "Sag = 4 m\n"
       ]
      }
     ],
     "prompt_number": 11
    },
    {
     "cell_type": "heading",
     "level": 2,
     "metadata": {},
     "source": [
      "Exa 3.5 : page 73"
     ]
    },
    {
     "cell_type": "code",
     "collapsed": false,
     "input": [
      "from __future__ import division\n",
      "#Given Data :\n",
      "m=75-45 #in meter\n",
      "L=300 #in meter\n",
      "T=2500 #in Kg\n",
      "w=0.9 #in kg/meter\n",
      "x=L/2-T*m/(w*L) #in meters\n",
      "print \"x = %0.2f m\" %x\n",
      "x=L/2-x #in meter\n",
      "print \"Centre point P from O is %0.2f m\" %(x) \n",
      "y=w*x**2/(2*T) #in meter\n",
      "print \"Height of point P, y= %0.2f m\" %y\n",
      "x=L/2-T*m/(w*L) #in meters\n",
      "z=w*(L-x)**2/(2*T) #in meters\n",
      "print \"Height of B above O is, z = %0.2f m\" %z \n",
      "print \"The mid point of the line is \",(z-y),\" meter below point B, i.e., \",(75-(z-y)),\" meter above water level.\""
     ],
     "language": "python",
     "metadata": {},
     "outputs": [
      {
       "output_type": "stream",
       "stream": "stdout",
       "text": [
        "x = -127.78 m\n",
        "Centre point P from O is 277.78 m\n",
        "Height of point P, y= 13.89 m\n",
        "Height of B above O is, z = 32.94 m\n",
        "The mid point of the line is  19.05  meter below point B, i.e.,  55.95  meter above water level.\n"
       ]
      }
     ],
     "prompt_number": 17
    },
    {
     "cell_type": "heading",
     "level": 2,
     "metadata": {},
     "source": [
      "Exa 3.6 : page 74"
     ]
    },
    {
     "cell_type": "code",
     "collapsed": false,
     "input": [
      "from __future__ import division\n",
      "#Given Data :\n",
      "L=60 #in meter\n",
      "S=25*10**-2 #in meter\n",
      "A=61.36 #in mm**2(cross sectional area)\n",
      "W=0.5445 #in Kg/m\n",
      "UTS=42.20 #in Kg/mm**2\n",
      "T=W*L**2/(8*S) #in Kg\n",
      "B_strength=UTS*A #in Kg\n",
      "SafetyFactor=B_strength/T #unitless\n",
      "print \"Factor of safety =\", round(SafetyFactor,2) "
     ],
     "language": "python",
     "metadata": {},
     "outputs": [
      {
       "output_type": "stream",
       "stream": "stdout",
       "text": [
        "Factor of safety = 2.64\n"
       ]
      }
     ],
     "prompt_number": 18
    },
    {
     "cell_type": "heading",
     "level": 2,
     "metadata": {},
     "source": [
      "Exa 3.7 : page 75"
     ]
    },
    {
     "cell_type": "code",
     "collapsed": false,
     "input": [
      "from __future__ import division\n",
      "#Given Data :\n",
      "L=220 #in meter\n",
      "W=0.604 #in Kg/m\n",
      "T_strength=5758 #in Kg\n",
      "SafetyFactor=2 #unitless\n",
      "T=T_strength/SafetyFactor #in Kg\n",
      "S=W*L**2/(8*T) #in meter\n",
      "print \"Sag = %0.2f m \" %S "
     ],
     "language": "python",
     "metadata": {},
     "outputs": [
      {
       "output_type": "stream",
       "stream": "stdout",
       "text": [
        "Sag = 1.27 m \n"
       ]
      }
     ],
     "prompt_number": 20
    },
    {
     "cell_type": "heading",
     "level": 2,
     "metadata": {},
     "source": [
      "Exa 3.8 : page 75"
     ]
    },
    {
     "cell_type": "code",
     "collapsed": false,
     "input": [
      "#Given Data :\n",
      "W=850/1000 #in Kg/m\n",
      "US=7950 #in kg\n",
      "L=275 #in meter\n",
      "h=8 #in meter(ground clearance)\n",
      "SafetyFactor=2 #unitless\n",
      "T=US/SafetyFactor #in Kg\n",
      "S=W*L**2/(8*T) #in meter\n",
      "H=h+S #in meter\n",
      "print \"Height above the ground = %0.2f m \" %H"
     ],
     "language": "python",
     "metadata": {},
     "outputs": [
      {
       "output_type": "stream",
       "stream": "stdout",
       "text": [
        "Height above the ground = 10.02 m \n"
       ]
      }
     ],
     "prompt_number": 21
    },
    {
     "cell_type": "heading",
     "level": 2,
     "metadata": {},
     "source": [
      "Exa 3.9 : page 76"
     ]
    },
    {
     "cell_type": "code",
     "collapsed": false,
     "input": [
      "from math import floor\n",
      "#Given Data :\n",
      "m=1/9 #unitless\n",
      "EL=33 #in K\n",
      "EbyE1=1+(1+m)+(1+3*m+m**2) #assumed\n",
      "E=EL/sqrt(3) #in KV\n",
      "E1=E/EbyE1 #in KV\n",
      "print \"E1 = %0.2f kV\" %E1\n",
      "E2=(1+m)*E1 #in KV\n",
      "print \"E2 = %0.2f kV\" %E2 \n",
      "E3=(1+3*m+m**2)*E1 #in KV\n",
      "print \"E3 = %0.2f kV\" %E3 \n",
      "E=E1+E2+E3 #in KV\n",
      "Eff=E/(3*E3) \n",
      "Eff*=100  # %\n",
      "print \"String Efficiency = %.f %%\" %floor(Eff)\n"
     ],
     "language": "python",
     "metadata": {},
     "outputs": [
      {
       "output_type": "stream",
       "stream": "stdout",
       "text": [
        "E1 = 5.51 kV\n",
        "E2 = 6.12 kV\n",
        "E3 = 7.42 kV\n",
        "String Efficiency = 85 %\n"
       ]
      }
     ],
     "prompt_number": 27
    },
    {
     "cell_type": "heading",
     "level": 2,
     "metadata": {},
     "source": [
      "Exa 3.10 : page 77"
     ]
    },
    {
     "cell_type": "code",
     "collapsed": false,
     "input": [
      "#Given Data :\n",
      "#Applying KCL we get I1+i1=I2+ix and I2+i2=I3+iy\n",
      "#On solving we get : 1*2*E1=1*1*E2+0*1*E3 and 0*2*E1=-1*2*E2+1*3*E3 \n",
      "E1byE=1/(1+(154/155)+(166/155)) #assumed\n",
      "E2byE=(154/155)*E1byE #assumed\n",
      "E3byE=(166/155)*E1byE #assumed\n",
      "Eff=1/((3*(166/155)*E1byE))\n",
      "Eff*=100  # %\n",
      "print \"String Efficiency = %.f %%\" %Eff "
     ],
     "language": "python",
     "metadata": {},
     "outputs": [
      {
       "output_type": "stream",
       "stream": "stdout",
       "text": [
        "String Efficiency = 95 %\n"
       ]
      }
     ],
     "prompt_number": 29
    },
    {
     "cell_type": "heading",
     "level": 2,
     "metadata": {},
     "source": [
      "Exa 3.11 - page : 78"
     ]
    },
    {
     "cell_type": "code",
     "collapsed": false,
     "input": [
      "#Given Data :\n",
      "L=200 #in meter\n",
      "W=684/1000 #in Kg/m\n",
      "T=1450 #in Kg\n",
      "S=W*L**2/(8*T) #in meter\n",
      "print \"Sag = %0.2f m\" %S"
     ],
     "language": "python",
     "metadata": {},
     "outputs": [
      {
       "output_type": "stream",
       "stream": "stdout",
       "text": [
        "Sag = 2.36 m\n"
       ]
      }
     ],
     "prompt_number": 30
    },
    {
     "cell_type": "heading",
     "level": 2,
     "metadata": {},
     "source": [
      "Exa 3.12 : page 78"
     ]
    },
    {
     "cell_type": "code",
     "collapsed": false,
     "input": [
      "from math import sqrt\n",
      "#Given Data :\n",
      "L=220 #in meter\n",
      "T=586 #in Kg\n",
      "Wc=0.62 #in Kg\n",
      "Ww=39.2*0.94/100 #in Kg\n",
      "Wr=sqrt(Wc**2+Ww**2) #in Kg\n",
      "cos_theta=Wc/Wr #unitless\n",
      "Sv=Wr*L**2*cos_theta/(8*T) #in meter\n",
      "print \"Vertical Sag = %0.2f m\" %Sv \n",
      "# Answer is not accurate in the textbook."
     ],
     "language": "python",
     "metadata": {},
     "outputs": [
      {
       "output_type": "stream",
       "stream": "stdout",
       "text": [
        "Vertical Sag = 6.40 m\n"
       ]
      }
     ],
     "prompt_number": 34
    }
   ],
   "metadata": {}
  }
 ]
}
