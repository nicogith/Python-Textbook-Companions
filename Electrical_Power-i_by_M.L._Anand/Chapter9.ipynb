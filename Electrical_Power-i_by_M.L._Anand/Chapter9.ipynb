{
 "metadata": {
  "name": "",
  "signature": ""
 },
 "nbformat": 3,
 "nbformat_minor": 0,
 "worksheets": [
  {
   "cells": [
    {
     "cell_type": "heading",
     "level": 1,
     "metadata": {},
     "source": [
      "Chapter9 - Substations and earthing"
     ]
    },
    {
     "cell_type": "heading",
     "level": 2,
     "metadata": {},
     "source": [
      "Problem 9.1 - page 252"
     ]
    },
    {
     "cell_type": "code",
     "collapsed": false,
     "input": [
      "from numpy import pi\n",
      "#Given Data :\n",
      "V=250 #in volt\n",
      "f=50 #in Hz\n",
      "l=300 #in km\n",
      "C_earth=0.03 #in uF\n",
      "C=l*C_earth*10**-6 #in F\n",
      "XL=1/(3*2*pi*f*C) #in ohm\n",
      "print \"Reactance required for the Peterson coil = %.f ohm\" %XL"
     ],
     "language": "python",
     "metadata": {},
     "outputs": [
      {
       "output_type": "stream",
       "stream": "stdout",
       "text": [
        "Reactance required for the Peterson coil = 118 ohm\n"
       ]
      }
     ],
     "prompt_number": 2
    }
   ],
   "metadata": {}
  }
 ]
}
