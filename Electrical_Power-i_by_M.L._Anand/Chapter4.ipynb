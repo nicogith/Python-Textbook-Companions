{
 "metadata": {
  "name": "",
  "signature": ""
 },
 "nbformat": 3,
 "nbformat_minor": 0,
 "worksheets": [
  {
   "cells": [
    {
     "cell_type": "heading",
     "level": 1,
     "metadata": {},
     "source": [
      "Chapter 4, Electrical Features of lines - 1"
     ]
    },
    {
     "cell_type": "heading",
     "level": 2,
     "metadata": {},
     "source": [
      "Exa 4.1 : page 104"
     ]
    },
    {
     "cell_type": "code",
     "collapsed": false,
     "input": [
      "from __future__ import division\n",
      "from numpy import log, pi\n",
      "import math\n",
      "#Given Data :\n",
      "r=1.213/2 #in cm\n",
      "f=60 #in Hz\n",
      "ds=0.77888*r #in cm\n",
      "spacing=1.25 #in meter\n",
      "L=4*10**-7*log(spacing*100/ds) #in H/m\n",
      "L*=1000  # in H/km\n",
      "print \"Inductance = %0.2e H/km\" %L\n",
      "XL=2*pi*f*L #in ohm/km\n",
      "XL*=60  # ohm per 60 km\n",
      "print \"Inductive reactance for 60 km line = %0.1f ohm\" %XL"
     ],
     "language": "python",
     "metadata": {},
     "outputs": [
      {
       "output_type": "stream",
       "stream": "stdout",
       "text": [
        "Inductance = 2.23e-03 H/km\n",
        "Inductive reactance for 60 km line = 50.5 ohm\n"
       ]
      }
     ],
     "prompt_number": 105
    },
    {
     "cell_type": "heading",
     "level": 2,
     "metadata": {},
     "source": [
      "Exa 4.2 : page 105"
     ]
    },
    {
     "cell_type": "code",
     "collapsed": false,
     "input": [
      "from __future__ import division\n",
      "from math import log\n",
      "#Given Data : \n",
      "l=20  # km (length of line)\n",
      "d=2.8*100 #in cm(spacing)\n",
      "r=0.5*1.5 #in cm\n",
      "ds=0.77888*r #in cm\n",
      "L=0.2*log(d/ds) #in H/m/phase\n",
      "L*=l # mH for 20km line\n",
      "print \"Inductance per phase for a 20 km line = %0.2f mH\" %L"
     ],
     "language": "python",
     "metadata": {},
     "outputs": [
      {
       "output_type": "stream",
       "stream": "stdout",
       "text": [
        "Inductance per phase for a 20 km line = 24.69 mH\n"
       ]
      }
     ],
     "prompt_number": 106
    },
    {
     "cell_type": "heading",
     "level": 2,
     "metadata": {},
     "source": [
      "Exa 4.3 : page 105"
     ]
    },
    {
     "cell_type": "code",
     "collapsed": false,
     "input": [
      "from __future__ import division\n",
      "from math import log\n",
      "#Given Data :\n",
      "a=1.5 #in cm**2\n",
      "d=8 #in meter(spacing)\n",
      "r=39.8/2 #in mm\n",
      "l=1*10**5 #in cm\n",
      "rho=1.73*10**-6 #in ohm-cm\n",
      "R=rho*l/a #in ohm/km\n",
      "print \"Resistance of line = %0.4f ohms/km\" %R\n",
      "ds=0.77888*r #in cm\n",
      "L=0.2*log(d/(ds*10**-3)) #in mH/km/phase\n",
      "print \"Inductance per phase for a 1 km line = %0.3f mH/km\" %L"
     ],
     "language": "python",
     "metadata": {},
     "outputs": [
      {
       "output_type": "stream",
       "stream": "stdout",
       "text": [
        "Resistance of line = 0.1153 ohms/km\n",
        "Inductance per phase for a 1 km line = 1.249 mH/km\n"
       ]
      }
     ],
     "prompt_number": 107
    },
    {
     "cell_type": "heading",
     "level": 2,
     "metadata": {},
     "source": [
      "Exa 4.4 : page 106"
     ]
    },
    {
     "cell_type": "code",
     "collapsed": false,
     "input": [
      "from __future__ import division\n",
      "#Given Data :\n",
      "Cs=1/3 #in uF\n",
      "Cc=(0.6-Cs)/2 #in uF\n",
      "#Part (a) :\n",
      "C1=(3/2)*Cc+(1/2)*Cs #in uF(between any two conductor)\n",
      "print \"Capacitance between any two conductor = %0.3f uF\" %C1\n",
      "#Part (b) :\n",
      "C2=2*Cc+2*Cs/3\n",
      "print \"Capacitance between any shorted conductors = %0.3f uF\" %C2"
     ],
     "language": "python",
     "metadata": {},
     "outputs": [
      {
       "output_type": "stream",
       "stream": "stdout",
       "text": [
        "Capacitance between any two conductor = 0.367 uF\n",
        "Capacitance between any shorted conductors = 0.489 uF\n"
       ]
      }
     ],
     "prompt_number": 108
    },
    {
     "cell_type": "heading",
     "level": 2,
     "metadata": {},
     "source": [
      "Exa 4.5 : page 107"
     ]
    },
    {
     "cell_type": "code",
     "collapsed": false,
     "input": [
      "from __future__ import division\n",
      "#Given Data :\n",
      "d1=3 #in meter\n",
      "d2=3 #in meter\n",
      "d3=d1+d2 #in meter\n",
      "d=378 #in cm\n",
      "dia=2.5 #in cm\n",
      "r=dia/2 #in cm\n",
      "epsilon_o=8.854*10**-12 #constnt\n",
      "L=(0.5+2*log10(d/r))*10**-7 #in H/m\n",
      "L*=60*1000*1000  # mH per 60 km\n",
      "print \"Inductance for 60 km line %0.2f mH\" %L\n",
      "C=2*pi*epsilon_o/log(d/r) #in F/m\n",
      "C*=60*10**3*10**6 # uF per 60 km line\n",
      "print \"Capacitnce for 60 km line = %0.4f uF\" %C\n",
      "# Answer is not accurate in the textbook."
     ],
     "language": "python",
     "metadata": {},
     "outputs": [
      {
       "output_type": "stream",
       "stream": "stdout",
       "text": [
        "Inductance for 60 km line 32.77 mH\n",
        "Capacitnce for 60 km line = 0.5844 uF\n"
       ]
      }
     ],
     "prompt_number": 109
    },
    {
     "cell_type": "heading",
     "level": 2,
     "metadata": {},
     "source": [
      "Exa 4.6 : page 107"
     ]
    },
    {
     "cell_type": "code",
     "collapsed": false,
     "input": [
      "from __future__ import division\n",
      "from numpy import log10\n",
      "#Given Data : \n",
      "dinner=6 #in meter\n",
      "douter=12 #in meter\n",
      "d=(dinner**2*douter)**(1/3) #in meter\n",
      "r=2.8 #in meter\n",
      "ds=0.7788*r #in cm\n",
      "L=2*log10(d*100/ds) #in mH/phase/km\n",
      "L*=100   # mH per 100 km\n",
      "print \"Inductance for 100 km line %0.f mH\" %L"
     ],
     "language": "python",
     "metadata": {},
     "outputs": [
      {
       "output_type": "stream",
       "stream": "stdout",
       "text": [
        "Inductance for 100 km line 508 mH\n"
       ]
      }
     ],
     "prompt_number": 110
    },
    {
     "cell_type": "heading",
     "level": 2,
     "metadata": {},
     "source": [
      "Exa 4.7 : page 108"
     ]
    },
    {
     "cell_type": "code",
     "collapsed": false,
     "input": [
      "from __future__ import division\n",
      "from math import log\n",
      "#Given Data :\n",
      "dia=5 #in mm\n",
      "d=1.5 #in meter(spacing)\n",
      "r=dia/2 #in mm\n",
      "r=r*10**-3 #in meter\n",
      "epsilon_o=8.854*10**-12 #constnt\n",
      "C=pi*epsilon_o/log(d/r) #in Farad per meter\n",
      "C*=50*1000 # F per 50km line\n",
      "print \"Capacitance for 50 km line = %0.2e F\" %C\n",
      "#Note : answer is not accurate in the book. "
     ],
     "language": "python",
     "metadata": {},
     "outputs": [
      {
       "output_type": "stream",
       "stream": "stdout",
       "text": [
        "Capacitance for 50 km line = 2.17e-07 F\n"
       ]
      }
     ],
     "prompt_number": 111
    },
    {
     "cell_type": "heading",
     "level": 2,
     "metadata": {},
     "source": [
      "Exa 4.8 : page 108"
     ]
    },
    {
     "cell_type": "code",
     "collapsed": false,
     "input": [
      "from __future__ import division\n",
      "from math import log\n",
      "#Given Data :\n",
      "d=300 #in cm(spacing)\n",
      "r=1 #in cm\n",
      "#Formula : L=10**-7*[mu_r+4*log10(d/r)] #in H/m\n",
      "#Part (i) : mu_r=1\n",
      "mu_r=1 #constant\n",
      "L=10**-4*(mu_r+4*log(d/r)) #in H/m\n",
      "L*=1000 # mh per km\n",
      "print \"Loop inductance per km for copper %0.2f mH\" %L\n",
      "#Part (ii) : mu_r=100\n",
      "mu_r=100 #constant\n",
      "L=10**-4*(mu_r+4*log(d/r)) #in H/m\n",
      "L*=1000 # mH per km\n",
      "print \"Loop inductance per km for steel = %0.2f mH\" %L\n",
      "# Answer not calculated completely and calculation mistake."
     ],
     "language": "python",
     "metadata": {},
     "outputs": [
      {
       "output_type": "stream",
       "stream": "stdout",
       "text": [
        "Loop inductance per km for copper 2.38 mH\n",
        "Loop inductance per km for steel = 12.28 mH\n"
       ]
      }
     ],
     "prompt_number": 112
    },
    {
     "cell_type": "heading",
     "level": 2,
     "metadata": {},
     "source": [
      "Exa 4.9 : page 109"
     ]
    },
    {
     "cell_type": "code",
     "collapsed": false,
     "input": [
      "from __future__ import division\n",
      "from math import log\n",
      "#Given Data :\n",
      "d1=100 #in cm(spacing)\n",
      "d2=100 #in cm(spacing)\n",
      "d3=100 #in cm\n",
      "r=1 #in cm\n",
      "L=10**-7*(0.5+2*log((d1*d2*d3)**(1/3)/r)) #in H/m\n",
      "L=L*1000*1000 #in mH/km\n",
      "print \"Inductance per km = %0.2f mH\" %L\n",
      "#Note : Answer in the book is wrong due to calculation mistake.\n",
      "#Note : In the last line it should be multiply by 10**6 to convert from H/m to mH/km instead of 10**8."
     ],
     "language": "python",
     "metadata": {},
     "outputs": [
      {
       "output_type": "stream",
       "stream": "stdout",
       "text": [
        "Inductance per km = 0.97 mH\n"
       ]
      }
     ],
     "prompt_number": 113
    },
    {
     "cell_type": "heading",
     "level": 2,
     "metadata": {},
     "source": [
      "Exa 4.10 : page 109"
     ]
    },
    {
     "cell_type": "code",
     "collapsed": false,
     "input": [
      "from __future__ import division\n",
      "from numpy import log\n",
      "#Given Data : \n",
      "d1=2 #in cm\n",
      "d2=2.5 #in cm\n",
      "d3=4.5 #in cm\n",
      "r=1.24/2 #in cm\n",
      "L=10**-7*(0.5+2*log((d1*d2*d3)**(1/3)/r)) #in H/m\n",
      "L=L*1000*1000 #in mH/km\n",
      "print \"Inductance per km per phase = %0.2f mH\" %L\n",
      "#Note : Answer in the book is wrong(calculation mistake)."
     ],
     "language": "python",
     "metadata": {},
     "outputs": [
      {
       "output_type": "stream",
       "stream": "stdout",
       "text": [
        "Inductance per km per phase = 0.35 mH\n"
       ]
      }
     ],
     "prompt_number": 114
    },
    {
     "cell_type": "heading",
     "level": 2,
     "metadata": {},
     "source": [
      "Exa 4.11 : page 110"
     ]
    },
    {
     "cell_type": "code",
     "collapsed": false,
     "input": [
      "from __future__ import division\n",
      "from numpy import log\n",
      "#Given Data :\n",
      "r=0.75*10 #in mm\n",
      "d=1.5*10**3 #in mm\n",
      "ds=0.7788*r #in mm\n",
      "L=4*10**-7*log(d/ds) #in H/m\n",
      "L=L*10**6 #in mH/km\n",
      "print \"Inductance of line = %0.2f mH/km\" %L"
     ],
     "language": "python",
     "metadata": {},
     "outputs": [
      {
       "output_type": "stream",
       "stream": "stdout",
       "text": [
        "Inductance of line = 2.22 mH/km\n"
       ]
      }
     ],
     "prompt_number": 115
    },
    {
     "cell_type": "heading",
     "level": 2,
     "metadata": {},
     "source": [
      "Exa 4.12 : page 110"
     ]
    },
    {
     "cell_type": "code",
     "collapsed": false,
     "input": [
      "from __future__ import division\n",
      "from numpy import log\n",
      "#Given Data :\n",
      "d1=4*100 #in cm\n",
      "d2=5*100 #in cm\n",
      "d3=6*100 #in cm\n",
      "r=1 #in cm\n",
      "ds=0.7788*r #in cm\n",
      "L=(0.2*log((d1*d2*d3)**(1/3)/ds)) #in mH\n",
      "L*=10**3  # uH\n",
      "print \"Inductance per km = %0.2f uH\" %L\n",
      "#Note : answer in the book is wrong."
     ],
     "language": "python",
     "metadata": {},
     "outputs": [
      {
       "output_type": "stream",
       "stream": "stdout",
       "text": [
        "Inductance per km = 1290.20 uH\n"
       ]
      }
     ],
     "prompt_number": 116
    },
    {
     "cell_type": "heading",
     "level": 2,
     "metadata": {},
     "source": [
      "Exa 4.13 : page 110"
     ]
    },
    {
     "cell_type": "code",
     "collapsed": false,
     "input": [
      "from __future__ import division\n",
      "from numpy import log\n",
      "#Given Data :\n",
      "d=300 #in cm(spacing)\n",
      "r=1 #in cm\n",
      "epsilon_o=8.854*10**-12 #constnt\n",
      "C=pi*epsilon_o/log(d/r) #in Farad per meter\n",
      "C*=30*1000*10**6  # uF per 30k km line\n",
      "print \"Capacitance for 30 km line = %0.2f uF\" %C"
     ],
     "language": "python",
     "metadata": {},
     "outputs": [
      {
       "output_type": "stream",
       "stream": "stdout",
       "text": [
        "Capacitance for 30 km line = 0.15 uF\n"
       ]
      }
     ],
     "prompt_number": 117
    },
    {
     "cell_type": "heading",
     "level": 2,
     "metadata": {},
     "source": [
      "Exa 4.14 : page 111"
     ]
    },
    {
     "cell_type": "code",
     "collapsed": false,
     "input": [
      "from __future__ import division\n",
      "from numpy import log\n",
      "#Given Data :\n",
      "d=2.5*100 #in cm(spacing)\n",
      "r=2/2 #in cm\n",
      "epsilon_o=8.854*10**-12 #constnt\n",
      "C=2*pi*epsilon_o/log(d/r) #in Farad per meter\n",
      "C*=10*1000*10**6  # uF per 10 km line\n",
      "print \"Capacitance for 10 km line = %0.2f uF\" %C\n",
      "#Note : answer given in the book is wrong but calculated is right."
     ],
     "language": "python",
     "metadata": {},
     "outputs": [
      {
       "output_type": "stream",
       "stream": "stdout",
       "text": [
        "Capacitance for 10 km line = 0.10 uF\n"
       ]
      }
     ],
     "prompt_number": 119
    },
    {
     "cell_type": "heading",
     "level": 2,
     "metadata": {},
     "source": [
      "Exa 4.15 : page 111"
     ]
    },
    {
     "cell_type": "code",
     "collapsed": false,
     "input": [
      "#Given Data :\n",
      "VL=33 #in KV\n",
      "f=50 #in hz\n",
      "d1=4 #in meter\n",
      "d2=4 #in meter\n",
      "d3=8 #in meter\n",
      "d=(d1*d2*d3)**(1/3) #in meter\n",
      "epsilon_o=8.854*10**-12 #constnt\n",
      "d=d*100 #in cm\n",
      "r=0.62 #in cm\n",
      "C=2*pi*epsilon_o/log(d/r) #in Farad per meter\n",
      "C*=50*1000*10**6  # uF per  m line\n",
      "print \"Capacitance for 50 km line %0.3f uF\" %C\n",
      "Vp=VL/sqrt(3) #in KV\n",
      "Vp=Vp*10**3 #in volt\n",
      "Ic=2*pi*f*(C*10**-6)*Vp #in Ampere\n",
      "print \"The charging current = %0.2f Ampere\" %Ic"
     ],
     "language": "python",
     "metadata": {},
     "outputs": [
      {
       "output_type": "stream",
       "stream": "stdout",
       "text": [
        "Capacitance for 50 km line 0.415 uF\n",
        "The charging current = 2.48 Ampere\n"
       ]
      }
     ],
     "prompt_number": 120
    }
   ],
   "metadata": {}
  }
 ]
}
