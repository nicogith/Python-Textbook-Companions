{
 "metadata": {
  "celltoolbar": "Raw Cell Format",
  "name": "",
  "signature": "sha256:1b2e4fb9c2f216cbf762800ac72003e90570cd62834a70860272dd5120eea60f"
 },
 "nbformat": 3,
 "nbformat_minor": 0,
 "worksheets": [
  {
   "cells": [
    {
     "cell_type": "heading",
     "level": 1,
     "metadata": {},
     "source": [
      "Chapter 2: Diffraction of light"
     ]
    },
    {
     "cell_type": "heading",
     "level": 2,
     "metadata": {},
     "source": [
      "Example 2.1,Page number 2-30"
     ]
    },
    {
     "cell_type": "code",
     "collapsed": false,
     "input": [
      "import math\n",
      "\n",
      "#Given Data:\n",
      "m=4       #order\n",
      "N=1./5000*10**-2    #N=(a+b) grating element(cm)\n",
      "\n",
      "#Calculations:\n",
      "\n",
      "#We know, (a+b)*sin(theta)=m*lamda\n",
      "#for longest wavelength, sin(theta)=1\n",
      "lamda=(N/m)     #longest wavelength\n",
      "print\"The longest wavelength is =\" ,lamda,\"m\"\n"
     ],
     "language": "python",
     "metadata": {},
     "outputs": [
      {
       "output_type": "stream",
       "stream": "stdout",
       "text": [
        "The longest wavelength is = 5e-07 m\n"
       ]
      }
     ],
     "prompt_number": 6
    },
    {
     "cell_type": "heading",
     "level": 2,
     "metadata": {},
     "source": [
      "Example 2.2,Page number 2-30"
     ]
    },
    {
     "cell_type": "code",
     "collapsed": false,
     "input": [
      "import math\n",
      "\n",
      "#Given Data:\n",
      "m=1                #order\n",
      "lamda=6.5*10**-7      #Wavelength of red light\n",
      "theta=30*3.142/180   #angle of diffraction\n",
      "\n",
      "#Calculations:\n",
      "\n",
      "#We know, a*sin(theta)=m*lamda\n",
      "a=m*lamda/math.sin(theta)   #width of slit\n",
      "print\"width of slit is = \",a,\"m\"\n"
     ],
     "language": "python",
     "metadata": {},
     "outputs": [
      {
       "output_type": "stream",
       "stream": "stdout",
       "text": [
        "width of slit is =  1.29984715296e-06 m\n"
       ]
      }
     ],
     "prompt_number": 22
    },
    {
     "cell_type": "heading",
     "level": 2,
     "metadata": {},
     "source": [
      "Example 2.3,Page number 2-31"
     ]
    },
    {
     "cell_type": "code",
     "collapsed": false,
     "input": [
      "import math\n",
      "\n",
      "#Given Data:\n",
      "m=1                #order\n",
      "lamda=4*10**-7        #Wavelength of light\n",
      "a=10**-6            #width of slit\n",
      "\n",
      "#Calculations:\n",
      "\n",
      "#We know, a*sin(theta)=m*lamda\n",
      "theta=math.asin(m*lamda/a)*180/3.142    #angular position in first minima\n",
      "print\"angular position in first minima is =\",theta,\"degrees\"\n"
     ],
     "language": "python",
     "metadata": {},
     "outputs": [
      {
       "output_type": "stream",
       "stream": "stdout",
       "text": [
        "angular position in first minima is = 23.5751216716 degrees\n"
       ]
      }
     ],
     "prompt_number": 7
    },
    {
     "cell_type": "heading",
     "level": 2,
     "metadata": {},
     "source": [
      "Example 2.4,Page number 2-31"
     ]
    },
    {
     "cell_type": "code",
     "collapsed": false,
     "input": [
      "import math\n",
      "\n",
      "#Given Data:\n",
      "m=1                 #order\n",
      "lamda1=4*10**-7       #Wavelength of light\n",
      "lamda2=7*10**-7       #Wavelength of light\n",
      "n=1./6000*10**-2       #n=(a+b) grating element\n",
      "\n",
      "#Calculations:\n",
      "\n",
      "#We know, (a+b)*sin(theta)=m*lamda\n",
      "theta1=math.asin(m*lamda1/n)*(180/3.142)   #angle of diffraction\n",
      "theta2=math.asin(m*lamda2/n)*(180/3.142)   #angle of diffraction\n",
      "d=theta2-theta1                  #angular breadth of first order visible spectrum\n",
      "print\"angular breadth of first order visible spectrum is = \",d,\"degrees\""
     ],
     "language": "python",
     "metadata": {},
     "outputs": [
      {
       "output_type": "stream",
       "stream": "stdout",
       "text": [
        "angular breadth of first order visible spectrum is =  10.9466277612 degrees\n"
       ]
      }
     ],
     "prompt_number": 8
    },
    {
     "cell_type": "heading",
     "level": 2,
     "metadata": {},
     "source": [
      "Example 2.5,Page number 2-31"
     ]
    },
    {
     "cell_type": "code",
     "collapsed": false,
     "input": [
      "import math\n",
      "\n",
      "#Given Data:\n",
      "m=1                         #order\n",
      "lamda=6.56*10**-7           #Wavelength of red light\n",
      "theta=18.25*math.pi/180    #angle of diffraction\n",
      "W=2*10**-2                 #width of grating\n",
      "\n",
      "#Calculations:\n",
      "\n",
      "#We know, (a+b)*sin(theta)=m*lamda\n",
      "N=math.sin(theta)/(m*lamda)   #N-number of lines per m, N=1/(a+b)\n",
      "Tn=N*W                     #Total number of lines on grating\n",
      "print\"Total number of lines on grating is =\",Tn\n"
     ],
     "language": "python",
     "metadata": {},
     "outputs": [
      {
       "output_type": "stream",
       "stream": "stdout",
       "text": [
        "Total number of lines on grating is = 9547.67702694\n"
       ]
      }
     ],
     "prompt_number": 1
    },
    {
     "cell_type": "heading",
     "level": 2,
     "metadata": {},
     "source": [
      "Example 2.7,Page number 2-33"
     ]
    },
    {
     "cell_type": "code",
     "collapsed": false,
     "input": [
      "import math\n",
      "\n",
      "#Given Data:\n",
      "GE=2.54/15000*10**-2       #GE=(a+b) grating element\n",
      "lamda1=4*10**-7            #Wavelength of light\n",
      "lamda2=7*10**-7            #Wavelength of light\n",
      "\n",
      "#Calculations:\n",
      "\n",
      "#We know, (a+b)*sin(theta)=m*lamda\n",
      "theta11=math.asin(1*lamda1/GE)*180/math.pi       #angular position of first minima for lamda1\n",
      "theta12=math.asin(2*lamda1/GE)*180/math.pi       #angular position of second minima for lamda1\n",
      "theta13=math.asin(3*lamda1/GE)*180/math.pi       #angular position of third minima for lamda1\n",
      "\n",
      "theta21=math.asin(1*lamda2/GE)*180/math.pi       #angular position of first minima for lamda2\n",
      "theta22=math.asin(2*lamda2/GE)*180/math.pi       #angular position of second minima for lamda2\n",
      "theta23=math.asin(1)*180/math.pi                 #angular position of third minima for lamda2\n",
      "\n",
      "print\"Thus the angular position for lamda1 and lamda2 are as follows:\"\n",
      "print\"First order:\",theta11,\"degrees\"\n",
      "print\"\",theta21,\"degrees --Isolated\"\n",
      "\n",
      "print\"Second order:\",theta12,\"degrees\"\n",
      "print\"\",theta22,\"degrees --Overlap\"\n",
      "\n",
      "print\"Third order: \",theta13,\"degrees\"\n",
      "print\"\",theta23,\" degrees --Overlap \"\n",
      "\n"
     ],
     "language": "python",
     "metadata": {},
     "outputs": [
      {
       "output_type": "stream",
       "stream": "stdout",
       "text": [
        "Thus the angular position for lamda1 and lamda2 are as follows:\n",
        "First order: 13.6635763633 degrees\n",
        " 24.4177053663 degrees --Isolated\n",
        "Second order: 28.1928605617 degrees\n",
        " 55.7685229906 degrees --Overlap\n",
        "Third order:  45.1261086702 degrees\n",
        " 90.0  degrees --Overlap \n"
       ]
      }
     ],
     "prompt_number": 13
    },
    {
     "cell_type": "heading",
     "level": 2,
     "metadata": {},
     "source": [
      "Example 2.8,Page number 2-34"
     ]
    },
    {
     "cell_type": "code",
     "collapsed": false,
     "input": [
      "import math\n",
      "\n",
      "#Given Data:\n",
      "lamda=5.893*10**-7        #Wavelength of light\n",
      "d=0.01*10**-2             #width of slit (a=d)\n",
      "f=1                      #distance between screen and slit\n",
      "\n",
      "#Calculations:\n",
      "x=f*lamda/d              #separation between central maxima and first minima\n",
      "print\"Separation between central maxima and first minima is = \",x,\"m\"\n"
     ],
     "language": "python",
     "metadata": {},
     "outputs": [
      {
       "output_type": "stream",
       "stream": "stdout",
       "text": [
        " Separation between central maxima and first minima is =  0.005893 m\n"
       ]
      }
     ],
     "prompt_number": 16
    },
    {
     "cell_type": "heading",
     "level": 2,
     "metadata": {},
     "source": [
      "Example 2.9,Page number 2-34"
     ]
    },
    {
     "cell_type": "code",
     "collapsed": false,
     "input": [
      "import math\n",
      "\n",
      "#Given Data:\n",
      "m=1                 #order\n",
      "lamda=6*10**-7        #Wavelength of light\n",
      "a=12*10**-7         #width of slit\n",
      "\n",
      "#Calculations:\n",
      "\n",
      "#We know, a*sin(theta)=m*lamda\n",
      "theta=math.asin(m*lamda/a)*180/math.pi    #angular position in first minima\n",
      "print\"Half angular width of first maxima is =\",theta,\"Degrees\"\n"
     ],
     "language": "python",
     "metadata": {},
     "outputs": [
      {
       "output_type": "stream",
       "stream": "stdout",
       "text": [
        "Half angular width of first maxima is = 30.0 Degrees\n"
       ]
      }
     ],
     "prompt_number": 1
    },
    {
     "cell_type": "heading",
     "level": 2,
     "metadata": {},
     "source": [
      "Example 2.10,Page number 2-34"
     ]
    },
    {
     "cell_type": "code",
     "collapsed": false,
     "input": [
      "import math\n",
      "\n",
      "#Given Data:\n",
      "lamda=6*10**-7          #Wavelength of light\n",
      "a=0.02*10**-2           #width of slit (a=d)\n",
      "f=2                    #distance between screen and slit\n",
      "\n",
      "#Calculations:\n",
      "\n",
      "#We know, a*sin(theta)=m*lamda, here m=1\n",
      "theta=math.asin(lamda/a)*180*60/math.pi      #angular position in first minima (1 degree=60 minutes)\n",
      "print\"Total angular width is =\",2*theta,\"minutes\"\n",
      "\n",
      "x=f*lamda/a              #separation between central maxima and first minima\n",
      "print\"Linear width is = \",2*x,\"m\"\n"
     ],
     "language": "python",
     "metadata": {},
     "outputs": [
      {
       "output_type": "stream",
       "stream": "stdout",
       "text": [
        "Total angular width is = 20.6265115646 minutes\n",
        "Linear width is =  0.012 m\n"
       ]
      }
     ],
     "prompt_number": 19
    },
    {
     "cell_type": "heading",
     "level": 2,
     "metadata": {},
     "source": [
      "Example 2.11,Page number 2-35"
     ]
    },
    {
     "cell_type": "code",
     "collapsed": false,
     "input": [
      "import math\n",
      "\n",
      "#Given Data:\n",
      "a=0.14*10**-3         #width of slit\n",
      "n=2                   #order\n",
      "y=1.6*10**-2          #separation between second dark band and central bright band\n",
      "D=2                   #distance between screen and slit\n",
      "\n",
      "#Calculations:\n",
      "\n",
      "theta=y/D            #from diagram \n",
      "\n",
      "#We know, a*sin(theta)=n*lamda\n",
      "#here sin(theta)=theta\n",
      "lamda=a*theta/n       #wavelength of light\n",
      "print\"wavelength of light is =\",lamda,\"m\"\n"
     ],
     "language": "python",
     "metadata": {},
     "outputs": [
      {
       "output_type": "stream",
       "stream": "stdout",
       "text": [
        "wavelength of light is = 5.6e-07 m\n"
       ]
      }
     ],
     "prompt_number": 20
    },
    {
     "cell_type": "heading",
     "level": 2,
     "metadata": {},
     "source": [
      "Example 2.13,Page number 2-36"
     ]
    },
    {
     "cell_type": "code",
     "collapsed": false,
     "input": [
      "import math\n",
      "\n",
      "#Given Data:\n",
      "lamda=6.328*10**-7        #Wavelength of light\n",
      "N=1./6000*10**-2           #N=(a+b) grating element\n",
      "\n",
      "#Calculations:\n",
      "\n",
      "#We know, N*sin(theta)=m*lamda\n",
      "theta1=math.asin(1*lamda/N)*180/math.pi    #angular position in first order maxima,m=1\n",
      "print\"Angular position in first order maxima is =\",theta1,\"Degrees\"\n",
      "\n",
      "theta2=math.asin(2*lamda/N)*180/math.pi    #angular position in second order maxima,m=2\n",
      "print\"Angular position in second order maxima is = \",theta2,\"Degrees\"\n"
     ],
     "language": "python",
     "metadata": {},
     "outputs": [
      {
       "output_type": "stream",
       "stream": "stdout",
       "text": [
        "Angular position in first order maxima is = 22.3138625335 Degrees\n",
        "Angular position in second order maxima is =  49.4078093436 Degrees\n"
       ]
      }
     ],
     "prompt_number": 21
    },
    {
     "cell_type": "heading",
     "level": 2,
     "metadata": {},
     "source": [
      "Example 2.14,Page number 2-37"
     ]
    },
    {
     "cell_type": "code",
     "collapsed": false,
     "input": [
      "import math\n",
      "\n",
      "#Given Data:\n",
      "lamda1=6*10**-7         #wavelength of yellow light\n",
      "lamda2=4.8*10**-7       #wavelength of blue light\n",
      "theta=(math.asin(3/4))    #angle of diffraction\n",
      "\n",
      "#Calculations:\n",
      "\n",
      "#for consecutive bands, n*lamda1=(n+1)*lamda2. thus,\n",
      "n=lamda2/(lamda1-lamda2)   #order\n",
      "\n",
      "#We know, (a+b)*sin(theta)=m*lamda\n",
      "N=n*lamda1/(3./4)    #N=(a+b) grating element\n",
      "print\"Grating element (a+b) is =\",N,\"m\"\n"
     ],
     "language": "python",
     "metadata": {},
     "outputs": [
      {
       "output_type": "stream",
       "stream": "stdout",
       "text": [
        "Grating element (a+b) is = 3.2e-06 m\n"
       ]
      }
     ],
     "prompt_number": 9
    },
    {
     "cell_type": "heading",
     "level": 2,
     "metadata": {},
     "source": [
      "Example 2.15.1,Page number 2-54"
     ]
    },
    {
     "cell_type": "code",
     "collapsed": false,
     "input": [
      "import math\n",
      "\n",
      "#Given Data:\n",
      "a=0.2*10**-3          #width of slit\n",
      "n=1                   #order\n",
      "y=0.5*10**-2          #separation between first minima and central bright band\n",
      "D=2                   #distance between screen and slit\n",
      "\n",
      "#Calculations:\n",
      "\n",
      "theta=y/D            #from diagram \n",
      "\n",
      "#We know, a*sin(theta)=n*lamda\n",
      "#here sin(theta)=theta\n",
      "lamda=a*theta/n       #wavelength of light\n",
      "print\"wavelength of light is = \",lamda,\"m\"\n"
     ],
     "language": "python",
     "metadata": {},
     "outputs": [
      {
       "output_type": "stream",
       "stream": "stdout",
       "text": [
        "wavelength of light is =  5e-07 m\n"
       ]
      }
     ],
     "prompt_number": 7
    },
    {
     "cell_type": "heading",
     "level": 2,
     "metadata": {},
     "source": [
      "Example 2.15.2,Page number 2-55"
     ]
    },
    {
     "cell_type": "code",
     "collapsed": false,
     "input": [
      "import math\n",
      "\n",
      "#Given Data:\n",
      "lamda1=5.4*10**-7              #Wavelength of light\n",
      "lamda2=4.05*10**-7             #Wavelength of light\n",
      "theta=30*math.pi/180          #angle of diffraction\n",
      "\n",
      "#Calculations:\n",
      "#We know, (a+b)*sin(theta)=n*lamda\n",
      "#n*lamda1=(n+1)*lamda2, we get \n",
      "n=3\n",
      "N=math.sin(theta)/(n*lamda1)*10**-2      #Number of lines per m= 1/(a+b)*10^-2\n",
      "print\"Number of lines per cm is = \",N\n"
     ],
     "language": "python",
     "metadata": {},
     "outputs": [
      {
       "output_type": "stream",
       "stream": "stdout",
       "text": [
        "Number of lines per cm is =  3086.41975309\n"
       ]
      }
     ],
     "prompt_number": 20
    },
    {
     "cell_type": "heading",
     "level": 2,
     "metadata": {},
     "source": [
      "Example 2.15.4,Page number 2-56"
     ]
    },
    {
     "cell_type": "code",
     "collapsed": false,
     "input": [
      "import math\n",
      "\n",
      "#Given Data:\n",
      "GE=1./6000*10**-2               #GE=(a+b) grating element\n",
      "lamda1=5.893*10**-7             #Wavelength of light\n",
      "lamda2=5.896*10**-7             #Wavelength of light\n",
      "m=2                             #order\n",
      "\n",
      "#Calculations:\n",
      "theta1=math.asin(m*lamda1/GE)*180/math.pi     #angular position in first minima\n",
      "theta2=math.asin(m*lamda2/GE)*180/math.pi     #angular position in second minima\n",
      "\n",
      "a_s=(theta2-theta1)            #Angular separation in minutes\n",
      "print\"Angular separation is =\",a_s,\"Degrees\"\n",
      "\n",
      "dlamda=lamda2-lamda1            #difference in wavelength\n",
      "lamda=(lamda2+lamda1)/2         #Mean wavelength\n",
      "\n",
      "#We know that R.P.=lamda/dlamda=m*N\n",
      "N=lamda/dlamda/m                 #Number of lines on grating for first order\n",
      "print\"Number of lines on grating for first order is =\",N\n",
      "print\"But, number of lines per cm on grating is 6000. \\n Which is greater than number of lines per cm needed for resolution.\"\n",
      "print\"Hence, both lines will be well resolved in 2nd order.\"\n",
      "\n"
     ],
     "language": "python",
     "metadata": {},
     "outputs": [
      {
       "output_type": "stream",
       "stream": "stdout",
       "text": [
        "Angular separation is = 0.0291798772234 Degrees\n",
        "Number of lines on grating for first order is = 982.416666667\n",
        "But, number of lines per cm on grating is 6000. \n",
        " Which is greater than number of lines per cm needed for resolution.\n",
        "Hence, both lines will be well resolved in 2nd order.\n"
       ]
      }
     ],
     "prompt_number": 21
    },
    {
     "cell_type": "heading",
     "level": 2,
     "metadata": {},
     "source": [
      "Example 2.17,Page number 2-39"
     ]
    },
    {
     "cell_type": "code",
     "collapsed": false,
     "input": [
      "import math\n",
      "\n",
      "#Given Data:\n",
      "d=0.04*10**-2       #Separation between slits\n",
      "D=1.7              #distance between screen and slit\n",
      "B=0.25*10**-2       #Fringe spacing\n",
      "\n",
      "#Calculations:\n",
      "#We know,B=D*lamda/d\n",
      "lamda=B*d/D         #Wavelength of light\n",
      "print\"Wavelength of light is = \",lamda,\"m\"\n",
      "\n",
      "#The condition for missing order is,\n",
      "#(a+b)/a = m/n\n",
      "b=0.04*10**-2       #Separation in slits\n",
      "a=0.08*10**-3       #Slit width\n",
      "n=(a+b)/a          #missing orders for m=1,2,3\n",
      "\n",
      "n1=1*n\n",
      "n2=2*n\n",
      "n3=3*n\n",
      "print\"Missing orders are =\",n1,\",\",n2,\",\",n3\n"
     ],
     "language": "python",
     "metadata": {},
     "outputs": [
      {
       "output_type": "stream",
       "stream": "stdout",
       "text": [
        "Wavelength of light is =  5.88235294118e-07 m\n",
        "Missing orders are = 6.0 , 12.0 , 18.0\n"
       ]
      }
     ],
     "prompt_number": 26
    },
    {
     "cell_type": "heading",
     "level": 2,
     "metadata": {},
     "source": [
      "Example 2.18,Page number 2-39"
     ]
    },
    {
     "cell_type": "code",
     "collapsed": false,
     "input": [
      "import math\n",
      "\n",
      "#Given Data:\n",
      "N=2.54/2620*10**-2     #N=(a+b) grating element\n",
      "lamda=5*10**-7           #Wavelength of red light\n",
      "\n",
      "#Calculations:\n",
      "\n",
      "#We know, (a+b)*sin(theta)=n*lamda\n",
      "#maximum value of sin(theta)=1\n",
      "n=N/lamda               #Maximum number of orders visible\n",
      "print\"Maximum number of orders visible is =\",n\n"
     ],
     "language": "python",
     "metadata": {},
     "outputs": [
      {
       "output_type": "stream",
       "stream": "stdout",
       "text": [
        "Maximum number of orders visible is = 19.3893129771\n"
       ]
      }
     ],
     "prompt_number": 2
    },
    {
     "cell_type": "heading",
     "level": 2,
     "metadata": {},
     "source": [
      "Example 2.19,Page number 2-40"
     ]
    },
    {
     "cell_type": "code",
     "collapsed": false,
     "input": [
      "import math\n",
      "\n",
      "#Given Data:\n",
      "N=1./4000*10**-2       #N=(a+b) grating element\n",
      "lamda1=5*10**-7         #Wavelength of light\n",
      "lamda2=7.5*10**-7       #Wavelength of light\n",
      "\n",
      "#Calculations:\n",
      "\n",
      "#We know, (a+b)*sin(theta)=n*lamda\n",
      "#maximum value of sin(theta)=1\n",
      "n1=N/lamda1               #Maximum number of orders visible\n",
      "n2=N/lamda2               #Maximum number of orders visible\n",
      "print\"The observed number of orders range between =\",n2,\"to\",n1\n",
      "\n"
     ],
     "language": "python",
     "metadata": {},
     "outputs": [
      {
       "output_type": "stream",
       "stream": "stdout",
       "text": [
        "The observed number of orders range between = 3.33333333333 to 5.0\n"
       ]
      }
     ],
     "prompt_number": 5
    },
    {
     "cell_type": "heading",
     "level": 2,
     "metadata": {},
     "source": [
      "Example 2.20,Page number 2-40"
     ]
    },
    {
     "cell_type": "code",
     "collapsed": false,
     "input": [
      "import math\n",
      "\n",
      "#Given Data:\n",
      "n=5                #order\n",
      "lamda=6*10**-7     #Wavelength of light\n",
      "\n",
      "#Calculations:\n",
      "#We know, a*sin(theta)=n*lamda\n",
      "#n*lamda=n1*lamda1\n",
      "lamda1=n*lamda/4        #for n1=4\n",
      "print\"For n1=4 wavelength is =\",lamda1,\"m\"\n",
      "\n",
      "lamda2=n*lamda/5        #for n1=5\n",
      "print\"For n1=5 wavelength is =\",lamda2,\"m\"\n",
      "\n",
      "lamda3=n*lamda/6        #for n1=6\n",
      "print\"For n1=5 wavelength is =\",lamda3,\"m\"\n",
      "\n",
      "lamda4=n*lamda/7        #for n1=7\n",
      "print\"For n1=5 wavelength is =\",lamda4,\"m\"\n",
      "\n",
      "lamda5=n*lamda/8        #for n1=8\n",
      "print\"For n1=5 wavelength is =\",lamda5,\"m\"\n",
      "\n",
      "\n",
      "print\"So,in the grating spectrum spectrum lines with wavelengths n1=6 and n1=7 will coincide with fifth order line of 6*10^-7 m\"\n"
     ],
     "language": "python",
     "metadata": {},
     "outputs": [
      {
       "output_type": "stream",
       "stream": "stdout",
       "text": [
        "For n1=4 wavelength is = 7.5e-07 m\n",
        "For n1=5 wavelength is = 6e-07 m\n",
        "For n1=5 wavelength is = 5e-07 m\n",
        "For n1=5 wavelength is = 4.28571428571e-07 m\n",
        "For n1=5 wavelength is = 3.75e-07 m\n",
        "So,in the grating spectrum spectrum lines with wavelengths n1=6 and n1=7 will coincide with fifth order line of 6*10^-7 m\n"
       ]
      }
     ],
     "prompt_number": 6
    },
    {
     "cell_type": "heading",
     "level": 2,
     "metadata": {},
     "source": [
      "Example 2.21,Page number 2-41"
     ]
    },
    {
     "cell_type": "code",
     "collapsed": false,
     "input": [
      "import math\n",
      "\n",
      "#Given Data:\n",
      "GE=18000*10**-10         #GE=(a+b) grating element\n",
      "lamda=5*10**-7             #Wavelength of red light\n",
      "\n",
      "#Calculations:\n",
      "DP1=1./sqrt(GE**2-lamda**2)*10**-10        #Dispersive power\n",
      "print\"Dispersive power for first order is =\",DP1,\"rad/Angstrom\"\n",
      "\n",
      "m=3\n",
      "DP2=1/sqrt((GE/m)**2-lamda**2)*10**-10    #Dispersive power\n",
      "print\"Dispersive power for second order is =\",DP2,\"rad/Angstrom\"\n"
     ],
     "language": "python",
     "metadata": {},
     "outputs": [
      {
       "output_type": "stream",
       "stream": "stdout",
       "text": [
        "Dispersive power for first order is = 5.78314931966e-05 rad/Angstrom\n",
        "Dispersive power for second order is = 0.000301511344578 rad/Angstrom\n"
       ]
      }
     ],
     "prompt_number": 13
    },
    {
     "cell_type": "heading",
     "level": 2,
     "metadata": {},
     "source": [
      "Example 2.22,Page number 2-42"
     ]
    },
    {
     "cell_type": "code",
     "collapsed": false,
     "input": [
      "import math\n",
      "\n",
      "#Given Data:\n",
      "N=2.54/15000*10**-2      #N=(a+b) grating element\n",
      "lamda=5.9*10**-7         #Wavelength of light\n",
      "m=2                      #order\n",
      "f=25*10**-2              #focal length of lens\n",
      "\n",
      "#Calculations:\n",
      "\n",
      "#We know, (a+b)*sin(theta)=m*lamda\n",
      "theta=math.asin(m*lamda/N)      #angular position in first minima\n",
      "\n",
      "Ad=m/N/cos(theta)              #angular dispersion\n",
      "\n",
      "ld=f*Ad*10**-8                 #linear dispersion (dx/dl) in cm/angstrom\n",
      "print\"Linear dispersion in spectrograph is =\",ld,\"cm/angstrom\"\n",
      "\n",
      "dlamda=(5896-5890)               #difference in wavelength\n",
      "dx=ld*dlamda*10**-2              #separation between spectral lines in meter\n",
      "print\"Separation between spectral lines is =\",dx,\"m\"\n"
     ],
     "language": "python",
     "metadata": {},
     "outputs": [
      {
       "output_type": "stream",
       "stream": "stdout",
       "text": [
        "Linear dispersion in spectrograph is = 0.00411696586101 cm/angstrom\n",
        "Separation between spectral lines is = 0.00024701795166 m\n"
       ]
      }
     ],
     "prompt_number": 15
    },
    {
     "cell_type": "heading",
     "level": 2,
     "metadata": {},
     "source": [
      "Example 2.23,Page number 2-47"
     ]
    },
    {
     "cell_type": "code",
     "collapsed": false,
     "input": [
      "import math\n",
      "\n",
      "#Given Data:\n",
      "m=1                              #order\n",
      "lamda1=5.89*10**-7               #Wavelength of light\n",
      "lamda2=5.896*10**-7              #Wavelength of light\n",
      "\n",
      "#Calculations:\n",
      "dlamda=lamda2-lamda1                #difference in wavelength\n",
      "lamda=(lamda2+lamda1)/2             #Mean wavelength\n",
      "\n",
      "#We know that R.P.=m*N=lamda/dlamda\n",
      "N=lamda/dlamda/m                  #minimum number of lines which will just resolve\n",
      "print\"Minimum number of lines which will just resolve is =\",N\n"
     ],
     "language": "python",
     "metadata": {},
     "outputs": [
      {
       "output_type": "stream",
       "stream": "stdout",
       "text": [
        "Minimum number of lines which will just resolve is = 982.166666667\n"
       ]
      }
     ],
     "prompt_number": 16
    },
    {
     "cell_type": "heading",
     "level": 2,
     "metadata": {},
     "source": [
      "Example 2.24,Page number 2-47"
     ]
    },
    {
     "cell_type": "code",
     "collapsed": false,
     "input": [
      "import math\n",
      "\n",
      "#Given Data:\n",
      "N=5*5000           #N=W/(a+b) Number of lines on grating\n",
      "m=2               #order\n",
      "lamda=6*10**-7    #Wavelength of light\n",
      "\n",
      "#Calculations:\n",
      "#(i)\n",
      "RP=m*N             #Resolving power\n",
      "print\"(i)Resolving power is =\",RP\n",
      "\n",
      "#(ii)\n",
      "#We know that R.P.=lamda/dlamda\n",
      "dlamda=lamda/RP       #Smallest wavelength which can be resolved\n",
      "print\"(ii)Smallest wavelength which can be resolved is =\",dlamda,\"m\"\n"
     ],
     "language": "python",
     "metadata": {},
     "outputs": [
      {
       "output_type": "stream",
       "stream": "stdout",
       "text": [
        "(i)Resolving power is = 50000\n",
        "(ii)Smallest wavelength which can be resolved is = 1.2e-11 m\n"
       ]
      }
     ],
     "prompt_number": 19
    },
    {
     "cell_type": "heading",
     "level": 2,
     "metadata": {},
     "source": [
      "Example 2.25,Page number 2-48"
     ]
    },
    {
     "cell_type": "code",
     "collapsed": false,
     "input": [
      "import math\n",
      "\n",
      "#Given Data:\n",
      "GE=1./4000*10**-2         #GE=(a+b) grating element\n",
      "lamda=5*10**-7             #Wavelength of red light\n",
      "m=3                      #order\n",
      "\n",
      "#Calculations:\n",
      "\n",
      "#We know, (a+b)*sin(theta)=m*lamda\n",
      "theta=math.asin(m*lamda/GE)    #ngular position in first minima\n",
      "\n",
      "DP=m/(GE*math.cos(theta))*10**-2     #Dispersive power\n",
      "print\"Dispersive power is =\",DP\n"
     ],
     "language": "python",
     "metadata": {},
     "outputs": [
      {
       "output_type": "stream",
       "stream": "stdout",
       "text": [
        "Dispersive power is = 15000.0\n"
       ]
      }
     ],
     "prompt_number": 22
    },
    {
     "cell_type": "heading",
     "level": 2,
     "metadata": {},
     "source": [
      "Example 2.26,Page number 2-48"
     ]
    },
    {
     "cell_type": "code",
     "collapsed": false,
     "input": [
      "import math\n",
      "\n",
      "#Given Data:\n",
      "m=2                  #order\n",
      "lamda=6*10**-7       #Wavelength of light\n",
      "dlamda=6*10**-10     #difference in wavelength\n",
      "W=2*10**-2           #Width of surface\n",
      "\n",
      "#Calculations:\n",
      "\n",
      "#We know that R.P.=lamda/dlamda=m*N\n",
      "N=lamda/dlamda/m     #Number of lines on grating\n",
      "GE=W/N               #Grating element=(a+b)\n",
      "print\"Grating element is =\",GE,\"cm\"\n"
     ],
     "language": "python",
     "metadata": {},
     "outputs": [
      {
       "output_type": "stream",
       "stream": "stdout",
       "text": [
        "Grating element is = 4e-05 cm\n"
       ]
      }
     ],
     "prompt_number": 23
    },
    {
     "cell_type": "heading",
     "level": 2,
     "metadata": {},
     "source": [
      "Example 2.27,Page number 2-49"
     ]
    },
    {
     "cell_type": "code",
     "collapsed": false,
     "input": [
      "import math\n",
      "\n",
      "#Given Data:\n",
      "m=2                           #order\n",
      "lamda1=5.77*10**-7            #Wavelength of light\n",
      "lamda2=5.791*10**-7           #Wavelength of light\n",
      "GE=1./6000*10**-2             #GE=(a+b) grating element\n",
      "\n",
      "#Calculations:\n",
      "\n",
      "#We know, (a+b)*sin(theta)=m*lamda\n",
      "theta1=math.asin(m*lamda1/GE)*180/math.pi      #angular position in first minima\n",
      "theta2=math.asin(m*lamda2/GE)*180/math.pi      #angular position in second minima\n",
      "\n",
      "a_s=(theta2-theta1)*60         #Angular separation in minutes\n",
      "print\"Angular separation is = \",a_s,\"minutes\"\n"
     ],
     "language": "python",
     "metadata": {},
     "outputs": [
      {
       "output_type": "stream",
       "stream": "stdout",
       "text": [
        "Angular separation is =  12.0270825521 minutes\n"
       ]
      }
     ],
     "prompt_number": 25
    },
    {
     "cell_type": "heading",
     "level": 2,
     "metadata": {},
     "source": [
      "Example 2.28,Page number 2-49"
     ]
    },
    {
     "cell_type": "code",
     "collapsed": false,
     "input": [
      "import math\n",
      "\n",
      "#Given Data:\n",
      "n=1                 #order\n",
      "lam=5.89*10**-7     #Wavelength of light\n",
      "a=0.3*10**-3        #width of slit\n",
      "\n",
      "#Calculations:\n",
      "\n",
      "#We know, a*sin(theta)=n*lamda\n",
      "theta1=math.asin(n*lamda/a)*180/math.pi*60    #angular position in first dark band in minutes\n",
      "print\"Angular position in first dark band is = \",theta1,\"mimutes\"\n",
      "\n",
      "#We know,for bright band   a*sin(theta)=(2n+1)*lamda/2\n",
      "theta2=math.asin(1.5*lamda/a)*180/math.pi*60    #angular position in first bright band in minutes\n",
      "print\"Angular position in first bright band is =\",theta2,\"minutes\"\n"
     ],
     "language": "python",
     "metadata": {},
     "outputs": [
      {
       "output_type": "stream",
       "stream": "stdout",
       "text": [
        "Angular position in first dark band is =  6.87549812524 mimutes\n",
        "Angular position in first bright band is = 10.3132557823 minutes\n"
       ]
      }
     ],
     "prompt_number": 26
    },
    {
     "cell_type": "heading",
     "level": 2,
     "metadata": {},
     "source": [
      "Example 2.29,Page number 2-50"
     ]
    },
    {
     "cell_type": "code",
     "collapsed": false,
     "input": [
      "import math\n",
      "\n",
      "#Given Data:\n",
      "GE=2.54/16000*10**-2      #GE=(a+b) grating element\n",
      "lamda=6*10**-7             #Wavelength of light\n",
      "\n",
      "#Calculations:\n",
      "\n",
      "#We know, (a+b)*sin(theta)=m*lamda\n",
      "#maximum value of sin(theta)=1\n",
      "m=GE/lamda                 #Maximum order of spectra\n",
      "print\"Maximum order of spectra is =\",m\n"
     ],
     "language": "python",
     "metadata": {},
     "outputs": [
      {
       "output_type": "stream",
       "stream": "stdout",
       "text": [
        "Maximum order of spectra is = 2.64583333333\n"
       ]
      }
     ],
     "prompt_number": 28
    },
    {
     "cell_type": "heading",
     "level": 2,
     "metadata": {},
     "source": [
      "Example 2.30,Page number 2-50"
     ]
    },
    {
     "cell_type": "code",
     "collapsed": false,
     "input": [
      "import math\n",
      "\n",
      "#Given Data:\n",
      "GE=1./5000*10**-2        #GE=(a+b) grating element\n",
      "lamda=5.89*10**-7         #Wavelength of light\n",
      "N=3*5000               #N=W/(a+b) Number of lines on grating\n",
      " \n",
      "#Calculations:\n",
      "\n",
      "#We know, (a+b)*sin(theta)=m*lamda\n",
      "#maximum value of sin(theta)=1\n",
      "m=GE/lamda               #Maximum order of spectra\n",
      "print\"Maximum order of spectra is =\",m\n",
      "\n",
      "RP=3*N                 #Resolving power (round of m to 3)\n",
      "print\"Resolving power is =\",RP\n"
     ],
     "language": "python",
     "metadata": {},
     "outputs": [
      {
       "output_type": "stream",
       "stream": "stdout",
       "text": [
        "Maximum order of spectra is = 3.39558573854\n",
        "Resolving power is = 45000\n"
       ]
      }
     ],
     "prompt_number": 29
    },
    {
     "cell_type": "heading",
     "level": 2,
     "metadata": {},
     "source": [
      "Example 2.32,Page number 2-52"
     ]
    },
    {
     "cell_type": "code",
     "collapsed": false,
     "input": [
      "import math\n",
      "\n",
      "#Given Data:\n",
      "lamda1=5.89*10**-7               #Wavelength of light\n",
      "lamda2=5.896*10**-7              #Wavelength of light\n",
      "\n",
      "#Calculations:\n",
      "dlamda=lamda2-lamda1                #difference in wavelength\n",
      "lamda=(lamda2+lamda1)/2             #Mean wavelength\n",
      "\n",
      "#(i)\n",
      "m1=1               #first order\n",
      "#We know that R.P.=lamda/dlamda=m*N\n",
      "N1=lamda/dlamda/m1      #Number of lines on grating\n",
      "print\"(i)Number of lines on grating for first order is =\",N1\n",
      "\n",
      "#(ii)\n",
      "m2=2               #second order\n",
      "#We know that R.P.=lamda/dlamda=m*N\n",
      "N2=lamda/dlamda/m2    #Number of lines on grating\n",
      "print\"(ii)Number of lines on grating for second order is =\",N2\n"
     ],
     "language": "python",
     "metadata": {},
     "outputs": [
      {
       "output_type": "stream",
       "stream": "stdout",
       "text": [
        "(i)Number of lines on grating for first order is = 982.166666667\n",
        "(ii)Number of lines on grating for second order is = 491.083333333\n"
       ]
      }
     ],
     "prompt_number": 30
    },
    {
     "cell_type": "heading",
     "level": 2,
     "metadata": {},
     "source": [
      "Example 2.33,Page number 2-52"
     ]
    },
    {
     "cell_type": "code",
     "collapsed": false,
     "input": [
      "import math\n",
      "\n",
      "#Given Data:\n",
      "m=1                    #order\n",
      "lamda=6.553*10**-7     #Wavelength of light\n",
      "dlamda=1.8*10**-10     #difference in wavelength\n",
      "\n",
      "\n",
      "#Calculations:\n",
      "\n",
      "#We know that R.P.=lam/dlam=m*N\n",
      "N=lamda/dlamda/m        #Number of lines on grating\n",
      "print\"Number of lines on grating is =\",N\n"
     ],
     "language": "python",
     "metadata": {},
     "outputs": [
      {
       "output_type": "stream",
       "stream": "stdout",
       "text": [
        "Number of lines on grating is = 3640.55555556\n"
       ]
      }
     ],
     "prompt_number": 31
    },
    {
     "cell_type": "heading",
     "level": 2,
     "metadata": {},
     "source": [
      "Example 2.34,Page number 2-53"
     ]
    },
    {
     "cell_type": "code",
     "collapsed": false,
     "input": [
      "import math\n",
      "\n",
      "#Given Data:\n",
      "lamda1=5.14034*10**-7               #Wavelength of light\n",
      "lamda2=5.14085*10**-7               #Wavelength of light\n",
      "\n",
      "#Calculations:\n",
      "dlamda=lamda2-lamda1                #difference in wavelength\n",
      "lamda=(lamda2+lamda1)/2             #Mean wavelength\n",
      "\n",
      "#We know that R.P.=lamda/dlamda=m*N\n",
      "N=lamda/dlamda/1       #Number of lines on grating\n",
      "print\"Number of lines on grating for first order is =\",N\n",
      "\n",
      "#Hence R.P. for second order should be\n",
      "RP1=2*N\n",
      "print\"Resolving power in second order should be is= \",RP1\n",
      "\n",
      "#But here,\n",
      "\n",
      "lamda3=8.03720*10**-7               #Wavelength of light\n",
      "lamda4=8.03750*10**-7               #Wavelength of light\n",
      "dlamda2=lamda4-lamda3               #difference in wavelength\n",
      "lamda2=(lamda4+lamda3)/2            #Mean wavelength\n",
      "\n",
      "RP2=lamda2/dlamda2\n",
      "print\"Resolving power in second order is= \",RP2\n",
      "\n",
      "print\"So, the grating will not be able to resolve 8.0372*10^-7 and 8.03750*10^-7 in second order.\"\n",
      "print\"Because Resolving power is greter than actual Resolving power.\"\n"
     ],
     "language": "python",
     "metadata": {},
     "outputs": [
      {
       "output_type": "stream",
       "stream": "stdout",
       "text": [
        "Number of lines on grating for first order is = 10079.5980392\n",
        "Resolving power in second order should be is=  20159.1960784\n",
        "Resolving power in second order is=  26791.1666667\n",
        "So, the grating will not be able to resolve 8.0372*10^-7 and 8.03750*10^-7 in second order.\n",
        "Because Resolving power is greter than actual Resolving power.\n"
       ]
      }
     ],
     "prompt_number": 32
    },
    {
     "cell_type": "heading",
     "level": 2,
     "metadata": {},
     "source": [
      "Example 2.35,Page number 2-53"
     ]
    },
    {
     "cell_type": "code",
     "collapsed": false,
     "input": [
      "import math\n",
      "\n",
      "#For grating , Condition of maxima is (a+b)sin(theta)=n*lamda\n",
      "#Given (a+b) < 2*lamda\n",
      "#For maximum order, sin(90)=1\n",
      "#So, n must be less than 2\n",
      "#i.e. only first order possible if width of grating element is less than twice the wavelength\n",
      "print\"Hence, Only first order possible if width of grating element is less than twice the wavelength.\"\n"
     ],
     "language": "python",
     "metadata": {},
     "outputs": [
      {
       "output_type": "stream",
       "stream": "stdout",
       "text": [
        "Hence, Only first order possible if width of grating element is less than twice the wavelength.\n"
       ]
      }
     ],
     "prompt_number": 33
    },
    {
     "cell_type": "heading",
     "level": 2,
     "metadata": {},
     "source": [
      "Example 2.36,Page number 2-54"
     ]
    },
    {
     "cell_type": "code",
     "collapsed": false,
     "input": [
      "import math\n",
      "\n",
      "#Given Data:\n",
      "n=1                 #order\n",
      "lamda=5.89*10**-7   #Wavelength of light\n",
      "a=0.3*10**-3        #width of slit\n",
      "\n",
      "#Calculations:\n",
      "\n",
      "#We know, a*sin(theta)=n*lamda\n",
      "theta1=math.asin(n*lam/a)*180/math.pi    #angular position in first dark band\n",
      "print\"Angular position in first dark band is =\",theta1,\"Degrees\"\n",
      "\n",
      "#We know,for bright band   a*sin(theta)=(2n+1)*lamda/2\n",
      "theta2=math.asin(1.5*lamda/a)*180/math.pi    #angular position in first bright band\n",
      "print\"Angular position in first bright band is =\",theta2,\"Degrees\"\n"
     ],
     "language": "python",
     "metadata": {},
     "outputs": [
      {
       "output_type": "stream",
       "stream": "stdout",
       "text": [
        "Angular position in first dark band is = 0.112490786047 Degrees\n",
        "Angular position in first bright band is = 0.168736314576 Degrees\n"
       ]
      }
     ],
     "prompt_number": 35
    }
   ],
   "metadata": {}
  }
 ]
}