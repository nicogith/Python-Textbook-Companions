{
 "metadata": {
  "celltoolbar": "Raw Cell Format",
  "name": "",
  "signature": "sha256:fec7a7bbab2881090f60069cf3d4c856415ca45a1545225541a225f28ce72b8e"
 },
 "nbformat": 3,
 "nbformat_minor": 0,
 "worksheets": [
  {
   "cells": [
    {
     "cell_type": "heading",
     "level": 1,
     "metadata": {},
     "source": [
      "Chapter 5: Foundations of Quantum Mechanics"
     ]
    },
    {
     "cell_type": "heading",
     "level": 2,
     "metadata": {},
     "source": [
      "Example 5.1,Page number 5-23"
     ]
    },
    {
     "cell_type": "code",
     "collapsed": false,
     "input": [
      "import math\n",
      "\n",
      "#Given Data:\n",
      "m=6.68*10**-27       #mass of alpha particle\n",
      "V=30*10**3           #potential difference\n",
      "e=1.6*10**-19        #charge of an electron\n",
      "q=2*e                #Charge of alpha particle\n",
      "h=6.63*10**-34       #Planck's constant\n",
      "\n",
      "#Calculations:\n",
      "lamda=h/math.sqrt(2*m*q*V)     #de Broglie wavelength\n",
      "print\"de Broglie wavelength associated with alpha particle is =\" ,lamda,\"m\""
     ],
     "language": "python",
     "metadata": {},
     "outputs": [
      {
       "output_type": "stream",
       "stream": "stdout",
       "text": [
        "de Broglie wavelength associated with alpha particle is = 5.85429607723e-14 m\n"
       ]
      }
     ],
     "prompt_number": 1
    },
    {
     "cell_type": "heading",
     "level": 2,
     "metadata": {},
     "source": [
      "Example 5.2,Page number 5-23"
     ]
    },
    {
     "cell_type": "code",
     "collapsed": false,
     "input": [
      "import math\n",
      "\n",
      "#Given Data:\n",
      "m=1                  #mass of given particle in kg\n",
      "h=6.63*10**-34       #Planck's constant\n",
      "v=1*10**3            #velocity of particle\n",
      "\n",
      "#Calculations:\n",
      "lamda=h/(m*v)         #de Broglie wavelength\n",
      "print\"de Broglie wavelength associated with particle is =\",lamda,\"m\"\n",
      "print\"This wavelength is too small for any practical significance.\"\n"
     ],
     "language": "python",
     "metadata": {},
     "outputs": [
      {
       "output_type": "stream",
       "stream": "stdout",
       "text": [
        "de Broglie wavelength associated with particle is = 6.63e-37 m\n",
        "This wavelength is too small for any practical significance.\n"
       ]
      }
     ],
     "prompt_number": 2
    },
    {
     "cell_type": "heading",
     "level": 2,
     "metadata": {},
     "source": [
      "Example 5.3,Page number 5-24"
     ]
    },
    {
     "cell_type": "code",
     "collapsed": false,
     "input": [
      "import math\n",
      "\n",
      "#Given Data:\n",
      "m1=40*10**-3         #mass of bullet in kg\n",
      "m2=9.1*10**-31       #mass of electron in kg\n",
      "h=6.63*10**-34       #Planck's constant\n",
      "v=1100              #velocity of bullet and electron\n",
      "\n",
      "#Calculations:\n",
      "lamda1=h/(m1*v)        #de Broglie wavelength\n",
      "print\"de Broglie wavelength associated with bullet is =\",lamda1,\"m\"\n",
      "\n",
      "lamda2=h/(m2*v)        #de Broglie wavelength\n",
      "print\"de Broglie wavelength associated with electron is =\",lamda2,\"m\"\n",
      "\n",
      "print\"Wavelength of bullet is too small.Hence it can not be measured with help of diffraction effect.\"\n"
     ],
     "language": "python",
     "metadata": {},
     "outputs": [
      {
       "output_type": "stream",
       "stream": "stdout",
       "text": [
        " de Broglie wavelength associated with bullet is = 1.50681818182e-35 m\n",
        "de Broglie wavelength associated with electron is = 6.62337662338e-07 m\n",
        "Wavelength of bullet is too small.Hence it can not be measured with help of diffraction effect.\n"
       ]
      }
     ],
     "prompt_number": 4
    },
    {
     "cell_type": "heading",
     "level": 2,
     "metadata": {},
     "source": [
      "Example 5.4,Page number 5-24"
     ]
    },
    {
     "cell_type": "code",
     "collapsed": false,
     "input": [
      "import math\n",
      "\n",
      "#Given Data:\n",
      "V=100            #potential difference\n",
      "d=2.15*10**-10   #lattice spacing\n",
      "\n",
      "#Calculations:\n",
      "lamda=12.26*10**-10/(math.sqrt(V))          #wavelength associated with electron in meter\n",
      "\n",
      "#using bragg's law for first order  lamda=2d sin(theta)\n",
      "theta=math.degrees(math.asin(lamda/(2*d)))      #glancing angle in degrees\n",
      "print\"Glancing angle at which first reflection occurs is =\",theta,\"Degrees\"\n"
     ],
     "language": "python",
     "metadata": {},
     "outputs": [
      {
       "output_type": "stream",
       "stream": "stdout",
       "text": [
        "Glancing angle at which first reflection occurs is = 16.5657992687 Degrees\n"
       ]
      }
     ],
     "prompt_number": 5
    },
    {
     "cell_type": "heading",
     "level": 2,
     "metadata": {},
     "source": [
      "Example 5.5,Page number 5-25"
     ]
    },
    {
     "cell_type": "code",
     "collapsed": false,
     "input": [
      "import math\n",
      "\n",
      "#Given Data:\n",
      "mn=1.674*10**-27     #mass of neutron\n",
      "h=6.63*10**-34       #Planck's constant\n",
      "lamda=1*10**-10      #wavelength of neutron\n",
      "\n",
      "#Calculations:\n",
      "\n",
      "#we know,  lamda=h/sqrt(2*m*E)     #de Broglie wavelength\n",
      "E1=h**2/(2*mn*lamda**2)   #Energy of neutron in joules\n",
      "E=E1/(1.6*10**-19)        #Energy of neutron in electron-Volts\n",
      "\n",
      "print\"Energy of neutron is =\",E,\"eV\"\n"
     ],
     "language": "python",
     "metadata": {},
     "outputs": [
      {
       "output_type": "stream",
       "stream": "stdout",
       "text": [
        "Energy of neutron is = 0.0820581317204 eV\n"
       ]
      }
     ],
     "prompt_number": 2
    },
    {
     "cell_type": "heading",
     "level": 2,
     "metadata": {},
     "source": [
      "Example 5.6,Page number 5-25"
     ]
    },
    {
     "cell_type": "code",
     "collapsed": false,
     "input": [
      "import math\n",
      "\n",
      "#Given Data:\n",
      "mn=1.67*10**-27      #mass of neutron\n",
      "h=6.6*10**-34        #Planck's constant\n",
      "lamda=3*10**-10        #wavelength of neutron\n",
      "d=3.036*10**-10      #lattice spacing\n",
      "\n",
      "#Calculations:\n",
      "\n",
      "#we know,  lamda=h/sqrt(2*m*E)     #de Broglie wavelength\n",
      "E1=h**2/(2*mn*lamda**2)  #Energy of neutron in joules\n",
      "E=E1/(1.6*10**-19)    # Energy of neutron in electron-Volts\n",
      "print\"Energy of neutron is =\",E,\"eV\"\n",
      "\n",
      "#using bragg's law for first order  lamda=2d sin(theta)\n",
      "theta=math.degrees(math.asin(lamda/(2*d)))      #glancing angle in degrees\n",
      "print\" Glancing angle at which first orde reflection occurs is =\",theta,\"Degrees\"\n"
     ],
     "language": "python",
     "metadata": {},
     "outputs": [
      {
       "output_type": "stream",
       "stream": "stdout",
       "text": [
        "Energy of neutron is = 0.00905688622754 eV\n",
        " Glancing angle at which first orde reflection occurs is = 29.6085193042 Degrees\n"
       ]
      }
     ],
     "prompt_number": 4
    },
    {
     "cell_type": "heading",
     "level": 2,
     "metadata": {},
     "source": [
      "Example 5.7,Page number 5-26"
     ]
    },
    {
     "cell_type": "code",
     "collapsed": false,
     "input": [
      "import math\n",
      "\n",
      "#Given Data:\n",
      "m=9.108*10**-31       #mass of electron\n",
      "h=6.625*10**-34       #Planck's constant\n",
      "lamda=5*10**-7          #wavelength of electron\n",
      "\n",
      "#Calculations:\n",
      "\n",
      "#we know,  lamda=h/sqrt(2*m*E)     #de Broglie wavelength\n",
      "E1=h**2/(2*m*lamda**2)     #Energy of electron in joules\n",
      "E=E1/(1.6*10**-19)      #Energy of electron in electron-Volts\n",
      "print\"Energy of electron is =\",E,\"eV\"\n"
     ],
     "language": "python",
     "metadata": {},
     "outputs": [
      {
       "output_type": "stream",
       "stream": "stdout",
       "text": [
        "Energy of electron is = 6.02363650088e-06 eV\n"
       ]
      }
     ],
     "prompt_number": 5
    },
    {
     "cell_type": "heading",
     "level": 2,
     "metadata": {},
     "source": [
      "Example 5.8,Page number 5-27"
     ]
    },
    {
     "cell_type": "code",
     "collapsed": false,
     "input": [
      "import math\n",
      "\n",
      "#Given Data:\n",
      "mn=1.676*10**-27        #mass of neutron\n",
      "me=9.1*10**-31          #mass of electron\n",
      "h=6.625*10**-34         #Planck's constant\n",
      "\n",
      "#Calculations:\n",
      "#Part 1:\n",
      "En1=0.025              #Energy in eV of neutron\n",
      "En=En1*(1.6*10**-19)   #Energy in joules\n",
      "\n",
      "lamda1=h/math.sqrt(2*mn*En)     #wavelength of a beam of neutron\n",
      "print\"wavelength of a beam of neutron is =\",lamda1,\"m\"\n",
      "\n",
      "#Part 2:\n",
      "lamda2=2*10**-10            #wavelength of electron and photon\n",
      "\n",
      "#//we know,  lamda=h/sqrt(2*m*E)     #de Broglie wavelength\n",
      "Ee1=h**2/(2*me*lamda2**2)     #Energy of electron in joules\n",
      "Ee=Ee1/(1.6*10**-19)          #Energy of electron in electron-Volts\n",
      "print\"Energy of electron is =\",Ee,\"eV\"\n",
      "\n",
      "p1=h/lamda2               #momentum of electron\n",
      "print\" Momentum of electron is =\",p1,\"kg.m/s\"\n",
      "\n",
      "C=3*10**8                 #Velocity of light\n",
      "Ep=h*C/lamda2             #Energy of photon in joules\n",
      "print\"Energy of photon is =\",Ep,\"Joules\"\n",
      "\n",
      "p2=h/lamda2              #momentum of photon\n",
      "print\"Momentum of photon is =\",p2,\"kg.m/s\"\n"
     ],
     "language": "python",
     "metadata": {},
     "outputs": [
      {
       "output_type": "stream",
       "stream": "stdout",
       "text": [
        "wavelength of a beam of neutron is = 1.80927208246e-10 m\n",
        "Energy of electron is = 37.6808250343 eV\n",
        " Momentum of electron is = 3.3125e-24 kg.m/s\n",
        "Energy of photon is = 9.9375e-16 Joules\n",
        "Momentum of photon is = 3.3125e-24 kg.m/s\n"
       ]
      }
     ],
     "prompt_number": 7
    },
    {
     "cell_type": "heading",
     "level": 2,
     "metadata": {},
     "source": [
      "Example 5.9,Page number 5-28"
     ]
    },
    {
     "cell_type": "code",
     "collapsed": false,
     "input": [
      "import math\n",
      "\n",
      "#Given data:\n",
      "#We have alpha particle,neutron,proton and electron.\n",
      "\n",
      "#To find: shortest wavelength\n",
      "\n",
      "print\"We know, lamda=h/sqrt(2*m*E)     #de Broglie wavelength\"\n",
      "\n",
      "#Wavelength is inversely proportional to mass of particle for constant energy\n",
      "print\"i.e., Wavelength is inversely proportional to mass of particle for constant energy. \"\n",
      "\n",
      "print\"We have alpha particle,neutron,proton and electron.\"\n",
      "\n",
      "#AS,alpha particle has highest mass.Thus it will have shortest wavelength.\n",
      "print\"Out of above, alpha particle has highest mass.\"\n",
      "\n",
      "print\"Hence it will have shortest wavelength.\"\n"
     ],
     "language": "python",
     "metadata": {},
     "outputs": [
      {
       "output_type": "stream",
       "stream": "stdout",
       "text": [
        "We know, lamda=h/sqrt(2*m*E)     #de Broglie wavelength\n",
        "i.e., Wavelength is inversely proportional to mass of particle for constant energy. \n",
        "We have alpha particle,neutron,proton and electron.\n",
        "Out of above, alpha particle has highest mass.\n",
        "Hence it will have shortest wavelength.\n"
       ]
      }
     ],
     "prompt_number": 9
    },
    {
     "cell_type": "heading",
     "level": 2,
     "metadata": {},
     "source": [
      "Example 5.10,Page number 5-28"
     ]
    },
    {
     "cell_type": "code",
     "collapsed": false,
     "input": [
      "import math\n",
      "\n",
      "#Given Data:\n",
      "me=9.108*10**-31        # mass of electron\n",
      "mp=1.66*10**-27         # bmass of proton\n",
      "h=6.625*10**-34         # Planck's constant\n",
      "lamda=1*10**-10         # wavelength of electron and proton\n",
      "\n",
      "#Calculations:\n",
      "\n",
      "#we know,  lamda=h/sqrt(2*m*E)     #de Broglie wavelength\n",
      "Ee1=h**2/(2*me*lamda**2)           #Energy of electron in joules\n",
      "Ee=Ee1/(1.6*10**-19)               #Energy of electron in electron-Volts\n",
      "print\"Energy of electron is =\",Ee,\"eV\"\n",
      "\n",
      "Ep1=h**2/(2*mp*lamda**2)      #Energy of photon in joules\n",
      "Ep=Ep1/(1.6*10**-19)          #Energy of photon in electron-Volts\n",
      "print\"Energy of photon is =\",Ep,\"eV\"\n"
     ],
     "language": "python",
     "metadata": {},
     "outputs": [
      {
       "output_type": "stream",
       "stream": "stdout",
       "text": [
        "Energy of electron is = 150.590912522 eV\n",
        "Energy of photon is = 0.0826254235693 eV\n"
       ]
      }
     ],
     "prompt_number": 10
    },
    {
     "cell_type": "heading",
     "level": 2,
     "metadata": {},
     "source": [
      "Example 5.11,Page number 5-29"
     ]
    },
    {
     "cell_type": "code",
     "collapsed": false,
     "input": [
      "import math\n",
      "\n",
      "#Given Data:\n",
      "m1=50*10**-9         #mass of particle in kg\n",
      "m2=9.1*10**-31       #mass of electron in kg\n",
      "h=6.625*10**-34      #Planck's constant\n",
      "v1=1                #velocity of particle\n",
      "v2=3*10**6           #velocity of electron\n",
      "\n",
      "#Calculations:\n",
      "lamda1=h/(m1*v1)*10**10        #de Broglie wavelength\n",
      "print\"de Broglie wavelength associated with particle is =\",lamda1,\"Angstrom\"\n",
      "\n",
      "lamda2=h/(m2*v2)*10**10        #de Broglie wavelength\n",
      "print\"de Broglie wavelength associated with electron is =\",lamda2,\"Angstrom\"\n",
      "\n",
      "print\"Wavelength of electron is measurable.\"\n"
     ],
     "language": "python",
     "metadata": {},
     "outputs": [
      {
       "output_type": "stream",
       "stream": "stdout",
       "text": [
        "de Broglie wavelength associated with particle is = 1.325e-16 Angstrom\n",
        "de Broglie wavelength associated with electron is = 2.42673992674 Angstrom\n",
        "Wavelength of electron is measurable.\n"
       ]
      }
     ],
     "prompt_number": 13
    },
    {
     "cell_type": "heading",
     "level": 2,
     "metadata": {},
     "source": [
      "Example 5.12,Page number 5-29"
     ]
    },
    {
     "cell_type": "code",
     "collapsed": false,
     "input": [
      "import math\n",
      "\n",
      "#Given Data:\n",
      "me=9.1*10**-31           #mass of electron in kg\n",
      "h=6.63*10**-34          #Planck's constant\n",
      "\n",
      "#Calculations:\n",
      "\n",
      "E1=2*10**3              #Energy in eV of electron\n",
      "E=E1*(1.6*10**-19)      #Energy in joules\n",
      " \n",
      "lamda=h/math.sqrt(2*me*E)      #wavelength of electron\n",
      "print\"Wavelength of electron is =\",lamda,\"m\"\n"
     ],
     "language": "python",
     "metadata": {},
     "outputs": [
      {
       "output_type": "stream",
       "stream": "stdout",
       "text": [
        "Wavelength of electron is = 2.7472794985e-11 m\n"
       ]
      }
     ],
     "prompt_number": 1
    },
    {
     "cell_type": "heading",
     "level": 2,
     "metadata": {},
     "source": [
      "Example 5.13,Page number 5-30"
     ]
    },
    {
     "cell_type": "code",
     "collapsed": false,
     "input": [
      "import math\n",
      "\n",
      "#Given Data:\n",
      "me=9.1*10**-31            #mass of electron\n",
      "h=6.63*10**-34            #Planck's constant\n",
      "lamda=2*10**-10           #wavelength of electron and photon\n",
      "\n",
      "#Calculations:\n",
      "p1=h/lamda                #momentum of electron\n",
      "print\"Momentum of electron is =\",p1,\"kg.m/s\"\n",
      "\n",
      "Ee=p1**2/(2*me)          #Energy of electron in joules\n",
      "print\"Energy of electron is =\",Ee,\"Joules\"\n",
      "\n",
      "p2=h/lamda                #momentum of photon\n",
      "print\"Momentum of photon is =\",p2,\"kg.m/s\"\n",
      "\n",
      "c=3*10**8                #Velocity of light\n",
      "Ep=h*c/lamda             #Energy of photon in joules\n",
      "print\"Energy of photon is =\",Ep,\"Joules\"\n",
      "\n",
      "\n"
     ],
     "language": "python",
     "metadata": {},
     "outputs": [
      {
       "output_type": "stream",
       "stream": "stdout",
       "text": [
        "Momentum of electron is = 3.315e-24 kg.m/s\n",
        "Energy of electron is = 6.03803571429e-18 Joules\n",
        "Momentum of photon is = 3.315e-24 kg.m/s\n",
        "Energy of photon is = 9.945e-16 Joules\n"
       ]
      }
     ],
     "prompt_number": 2
    },
    {
     "cell_type": "heading",
     "level": 2,
     "metadata": {},
     "source": [
      "Example 5.14,Page number 5-31"
     ]
    },
    {
     "cell_type": "code",
     "collapsed": false,
     "input": [
      "import math\n",
      "\n",
      "#Given Data:\n",
      "m=1.676*10**-27            #mass of neutron\n",
      "h=6.625*10**-34            #Planck's constant\n",
      "lamda=1*10**-10            #wavelength of neutron\n",
      "\n",
      "#Calculations:\n",
      "C=3*10**8                 #Velocity of light\n",
      "Ep1=h*C/lamda             #Energy of photon in joules\n",
      "E1=Ep1/(1.6*10**-19)      #Energy of photon in electron-Volts\n",
      "print\"Energy of photon is =\",E1,\"eV\"\n",
      "\n",
      "#we know,  lamda=h/sqrt(2*m*E)     #de Broglie wavelength\n",
      "En1=h**2/(2*m*lamda**2)     #Energy of neutron in joules\n",
      "E2=En1/(1.6*10**-19)     #Energy of neutron in electron-Volts\n",
      "print\"Energy of neutron is =\",E2,\"eV\"\n",
      "\n",
      "R=E1/E2                 #Ratio of energies of proton to neutron\n",
      "print\"Ratio of energies of proton to neutron is =\",R\n"
     ],
     "language": "python",
     "metadata": {},
     "outputs": [
      {
       "output_type": "stream",
       "stream": "stdout",
       "text": [
        "Energy of photon is = 12421.875 eV\n",
        "Energy of neutron is = 0.0818366367094 eV\n",
        "Ratio of energies of proton to neutron is = 151788.679245\n"
       ]
      }
     ],
     "prompt_number": 3
    },
    {
     "cell_type": "heading",
     "level": 1,
     "metadata": {},
     "source": [
      "Example 5.14.1,Page number 5-36"
     ]
    },
    {
     "cell_type": "code",
     "collapsed": false,
     "input": [
      "import math\n",
      "\n",
      "#Given Data:\n",
      "v=900                  #velocity of electron in m/s\n",
      "delv=v*0.001/100       #uncertainity in velocity\n",
      "h=6.63*10**-34         #Planck's constant\n",
      "m=9.1*10**-31           #mass of an electron\n",
      "\n",
      "#Calculations:\n",
      "delp=m*delv            #uncertainity in the measured values of momentum\n",
      "\n",
      "#using heisenberg's uncertainity formula\n",
      "delx=h/(2*3.142*delp)    #uncertainity in its position\n",
      "print\"Uncertainity with which position of electron can be located is >=\",delx,\"m\"\n"
     ],
     "language": "python",
     "metadata": {},
     "outputs": [
      {
       "output_type": "stream",
       "stream": "stdout",
       "text": [
        "Uncertainity with which position of electron can be located is >= 0.0128823012337 m\n"
       ]
      }
     ],
     "prompt_number": 4
    },
    {
     "cell_type": "heading",
     "level": 2,
     "metadata": {},
     "source": [
      "Example 5.14.2,Page number 5-37"
     ]
    },
    {
     "cell_type": "code",
     "collapsed": false,
     "input": [
      "import math\n",
      "\n",
      "#Given Data:\n",
      "m=1.6*10**-27        #mass of proton in kg\n",
      "h=6.63*10**-34       #Planck's constant\n",
      "v=3./20*10**8         #velocity of particle\n",
      "\n",
      "#Calculations:\n",
      "lamda=h/(m*v)        #de Broglie wavelength\n",
      "print\"de Broglie wavelength associated with proton is =\",lamda,\"m\"\n"
     ],
     "language": "python",
     "metadata": {},
     "outputs": [
      {
       "output_type": "stream",
       "stream": "stdout",
       "text": [
        "de Broglie wavelength associated with proton is = 2.7625e-14 m\n"
       ]
      }
     ],
     "prompt_number": 6
    },
    {
     "cell_type": "heading",
     "level": 2,
     "metadata": {},
     "source": [
      "Example 5.14.3,Page number 5-37"
     ]
    },
    {
     "cell_type": "code",
     "collapsed": false,
     "input": [
      "import math\n",
      "\n",
      "#Given Data:\n",
      "m=1.676*10**-27        #mass of neutron\n",
      "h=6.634*10**-34        #Planck's constant\n",
      "\n",
      "#Calculations:\n",
      "E1=0.025              #Energy in eV of neutron\n",
      "E=E1*(1.6*10**-19)    #Energy in joules\n",
      "#As E=m*v**2/2\n",
      "v=math.sqrt(2*E/m)        #Velocity of neutron beam\n",
      "\n",
      "lamda=h/(m*v)          #wavelength of a beam of neutron\n",
      "print\"wavelength of a beam of neutron is =\",lamda,\"m\"\n"
     ],
     "language": "python",
     "metadata": {},
     "outputs": [
      {
       "output_type": "stream",
       "stream": "stdout",
       "text": [
        "wavelength of a beam of neutron is = 1.81172996152e-10 m\n"
       ]
      }
     ],
     "prompt_number": 8
    },
    {
     "cell_type": "heading",
     "level": 2,
     "metadata": {},
     "source": [
      "Example 5.14.4,Page number 5-37"
     ]
    },
    {
     "cell_type": "code",
     "collapsed": false,
     "input": [
      "import math\n",
      "\n",
      "#Given Data:\n",
      "delx=10*10**-9          #uncertainity in position of electron\n",
      "h=6.63*10**-34          #Planck's constant\n",
      "m=9.1*10**-31           #mass of an electron\n",
      "E=10**3*1.6*10**-19      #Energy of electron in joules\n",
      "\n",
      "#Calculations:\n",
      "p=math.sqrt(2*m*E)          #momentum of electron\n",
      "#using heisenberg's uncertainity formula\n",
      "delp=h/(2*math.pi*delx)    #uncertainity in the momentum\n",
      "\n",
      "P=delp/p*100           #percentage of uncertainity in momentum\n",
      "print\"Percentage of uncertainity in momentum of electron is =\",P,\"percent\"\n"
     ],
     "language": "python",
     "metadata": {},
     "outputs": [
      {
       "output_type": "stream",
       "stream": "stdout",
       "text": [
        "Percentage of uncertainity in momentum of electron is = 0.0618355139385 percent\n"
       ]
      }
     ],
     "prompt_number": 9
    },
    {
     "cell_type": "heading",
     "level": 2,
     "metadata": {},
     "source": [
      "Example 5.15,Page number 5-31"
     ]
    },
    {
     "cell_type": "code",
     "collapsed": false,
     "input": [
      "import math\n",
      "\n",
      "#Given Data:\n",
      "m=1.676*10**-27          #mass of neutron\n",
      "h=6.63*10**-34           #Planck's constant\n",
      "lamda=2*10**-12            #wavelength of neutron\n",
      "c=3*10**8                #Velocity of light\n",
      "\n",
      "#Calculations:\n",
      "p=h/lamda                 #momentum of neutron\n",
      "KE=p**2/(2*m)            #Kinetic Energy of neutron in joules\n",
      "print\"Kinetic Energy of electron is =\",KE,\"Joules\"\n",
      "\n",
      "#velocity of particle is same as group velocity. Thus,\n",
      "vg=p/m                  #group velocity\n",
      "print\"group velocity of neutron is =\",vg,\"m/s\"\n",
      "\n",
      "#using, vg*vp=c**2\n",
      "vp=c**2/vg               #phase velocity\n",
      "print\" phase velocity of neutron is =\",vp,\"m/s\"\n"
     ],
     "language": "python",
     "metadata": {},
     "outputs": [
      {
       "output_type": "stream",
       "stream": "stdout",
       "text": [
        "Kinetic Energy of electron is = 3.27840841289e-17 Joules\n",
        "group velocity of neutron is = 197792.362768 m/s\n",
        " phase velocity of neutron is = 4.55022624434e+11 m/s\n"
       ]
      }
     ],
     "prompt_number": 11
    },
    {
     "cell_type": "heading",
     "level": 2,
     "metadata": {},
     "source": [
      "Example 5.16,Page number 5-32"
     ]
    },
    {
     "cell_type": "code",
     "collapsed": false,
     "input": [
      "import math\n",
      "\n",
      "#Given Data:\n",
      "m=1.157*10**-30         #mass of particle in kg\n",
      "h=6.63*10**-34          #Planck's constant\n",
      "c=3*10**8               #Velocity of light\n",
      "\n",
      "#Calculations:\n",
      "E1=80                  #Energy in eV of particle\n",
      "E=E1*(1.6*10**-19)     #Energy in joules\n",
      " \n",
      "lamda=h/math.sqrt(2*m*E)     #wavelength of particle\n",
      "print\"Wavelength of particle is =\",lamda,\"m\"\n",
      "\n",
      "#Now,\n",
      "vg=h/(lamda*m)          #group velocity\n",
      "print\"Group velocity of particle is =\",vg,\"m/s\"\n",
      "\n",
      "#using, vg*vp=c**2\n",
      "vp=c**2/vg              #phase velocity\n",
      "print\"Phase velocity of particle is =\",vp,\"m/s\"\n"
     ],
     "language": "python",
     "metadata": {},
     "outputs": [
      {
       "output_type": "stream",
       "stream": "stdout",
       "text": [
        "Wavelength of particle is = 1.21822320075e-10 m\n",
        "Group velocity of particle is = 4703848.2563 m/s\n",
        "Phase velocity of particle is = 19133270270.7 m/s\n"
       ]
      }
     ],
     "prompt_number": 12
    },
    {
     "cell_type": "heading",
     "level": 2,
     "metadata": {},
     "source": [
      "Example 5.17,Page number 5-33"
     ]
    },
    {
     "cell_type": "code",
     "collapsed": false,
     "input": [
      "import math\n",
      "\n",
      "#Given Data:\n",
      "v=400                #velocity of electron in m/s\n",
      "delv=0.01/100       #uncertainity in velocity\n",
      "h=6.63*10**-34       #Planck's constant\n",
      "m=9.11*10**-31       #mass of an electron\n",
      "\n",
      "#Calculations:\n",
      "p=m*v                #momentum of an electron\n",
      "delp=p*delv          #uncertainity in the measured values of momentum\n",
      "\n",
      "#using heisenberg's uncertainity formula\n",
      "delx=h/(2*math.pi*delp)    #accuracy in its position\n",
      "print\"Accuracy in its position is >=\",delx,\"m\"\n"
     ],
     "language": "python",
     "metadata": {},
     "outputs": [
      {
       "output_type": "stream",
       "stream": "stdout",
       "text": [
        "Accuracy in its position is >= 0.00289571150576 m\n"
       ]
      }
     ],
     "prompt_number": 3
    },
    {
     "cell_type": "heading",
     "level": 2,
     "metadata": {},
     "source": [
      "Example 5.18,Page number 5-33"
     ]
    },
    {
     "cell_type": "code",
     "collapsed": false,
     "input": [
      "import math\n",
      "#Given Data:\n",
      "delx=10**-8             #maximum uncertainity in position of electron\n",
      "h=6.63*10**-34          #Planck's constant\n",
      "m=9.1*10**-31           #mass of an electron\n",
      "\n",
      "#Calculations:\n",
      "#using heisenberg's uncertainity formula\n",
      "delp=h/(2*math.pi*delx)    #minimum uncertainity in the measured values of momentum\n",
      "\n",
      "delv=delp/m            #minimum uncertainity in the velocity of an electron\n",
      "print\"Minimum uncertainity in the velocity of an electron is =\",delv,\"m/s\"\n"
     ],
     "language": "python",
     "metadata": {},
     "outputs": [
      {
       "output_type": "stream",
       "stream": "stdout",
       "text": [
        "Minimum uncertainity in the velocity of an electron is = 11595.5744253 m/s\n"
       ]
      }
     ],
     "prompt_number": 4
    },
    {
     "cell_type": "heading",
     "level": 2,
     "metadata": {},
     "source": [
      "Example 5.19,Page number 5-34"
     ]
    },
    {
     "cell_type": "code",
     "collapsed": false,
     "input": [
      "import math\n",
      "\n",
      "#Given Data:\n",
      "delv=2*10**4            #uncertainity in velocity\n",
      "h=6.63*10**-34          #Planck's constant\n",
      "m=9.1*10**-31           #mass of an electron\n",
      "\n",
      "#Calculations:\n",
      "delp=m*delv             #uncertainity in the measured values of momentum\n",
      "\n",
      "#using heisenberg's uncertainity formula\n",
      "delx=h/(2*math.pi*delp)    #accuracy in its position\n",
      "print\"Minimum space required by electron to be confined in an atom is >=\",delx,\"m\"\n"
     ],
     "language": "python",
     "metadata": {},
     "outputs": [
      {
       "output_type": "stream",
       "stream": "stdout",
       "text": [
        "Minimum space required by electron to be confined in an atom is >= 5.79778721263e-09 m\n"
       ]
      }
     ],
     "prompt_number": 5
    },
    {
     "cell_type": "heading",
     "level": 2,
     "metadata": {},
     "source": [
      "Example 5.20,Page number 5-34"
     ]
    },
    {
     "cell_type": "code",
     "collapsed": false,
     "input": [
      "import math\n",
      "\n",
      "#Given Data:\n",
      "delt=1.4*10**-10        #uncertainity in time spent by nucleus in excited state\n",
      "h=6.63*10**-34          #Planck's constant\n",
      "\n",
      "#Calculations:\n",
      "\n",
      "#using, delE*delt>= h/(2*math.pi)\n",
      "delE1= h/(2*math.pi*delt)       #uncertaininty in its energy in excited state in joules\n",
      "delE=delE1/(1.6*10**-19)     #uncertaininty in its energy in excited state in eV\n",
      "print\"Uncertaininty in its energy in excited state is >=\",delE,\"eV\"\n"
     ],
     "language": "python",
     "metadata": {},
     "outputs": [
      {
       "output_type": "stream",
       "stream": "stdout",
       "text": [
        "Uncertaininty in its energy in excited state is >= 4.71070211026e-06 eV\n"
       ]
      }
     ],
     "prompt_number": 6
    },
    {
     "cell_type": "heading",
     "level": 2,
     "metadata": {},
     "source": [
      "Example 5.21,Page number 5-35"
     ]
    },
    {
     "cell_type": "code",
     "collapsed": false,
     "input": [
      "import math\n",
      "\n",
      "#Given Data:\n",
      "a=2*10**-10             #width of potential well in m\n",
      "h=6.63*10**-34          #Planck's constant\n",
      "m=9.1*10**-31           #mass of an electron\n",
      "\n",
      "#Calculations:\n",
      "#we know equation for energy of an electron\n",
      "n0=1\n",
      "E01=n0**2*h**2/(8*m*a**2)   #Energy in ground state\n",
      "E0=E01/(1.6*10**-19)      #Energy in eV\n",
      "print\"Energy of an electron in ground state is=\",E0,\"eV\"\n",
      "\n",
      "n1=2\n",
      "E11=n1**2*h**2/(8*m*a**2)  #Energy in first excited state\n",
      "E1=E11/(1.6*10**-19)      #Energy in eV\n",
      "print\" Energy of an electron in first excited state is=\",E1,\"eV\"\n",
      "\n",
      "\n",
      "n2=3\n",
      "E21=n2**2*h**2/(8*m*a**2)   #Energy in second excited state\n",
      "E2=E21/(1.6*10**-19)      #Energy in eV\n",
      "print\"Energy of an electron in second excited state is=\",E2,\"eV\"\n"
     ],
     "language": "python",
     "metadata": {},
     "outputs": [
      {
       "output_type": "stream",
       "stream": "stdout",
       "text": [
        "Energy of an electron in ground state is= 9.43443080357 eV\n",
        " Energy of an electron in first excited state is= 37.7377232143 eV\n",
        "Energy of an electron in second excited state is= 84.9098772321 eV\n"
       ]
      }
     ],
     "prompt_number": 8
    },
    {
     "cell_type": "heading",
     "level": 2,
     "metadata": {},
     "source": [
      "Example 5.22,Page number 5-36"
     ]
    },
    {
     "cell_type": "code",
     "collapsed": false,
     "input": [
      "import math\n",
      "\n",
      "#Given Data:\n",
      "a=25*10**-10               #width of well\n",
      "delx=5*10**-10             #uncertainity in position of particle\n",
      "n=1                        #ground state\n",
      "\n",
      "#calculation:\n",
      "x1=a/2\n",
      "psi1=math.sqrt(2/a)*math.sin(n*math.pi/a*x1)\n",
      "P1=(psi1**2)*delx            #Probability of finding particle at distance of x1\n",
      "print\"Probability of finding particle at a distance of x1 is =\",P1\n",
      "\n",
      "x2=a/3\n",
      "psi2=math.sqrt(2/a)*math.sin(n*math.pi/a*x2)\n",
      "P2=(psi2**2)*delx             #Probability of finding particle at distance of x2\n",
      "print\"Probability of finding particle at a distance of x2 is =\",P2\n",
      "print\"(There is print mistake in book).\"\n",
      "\n",
      "x3=a\n",
      "psi3=math.sqrt(2/a)*math.sin(n*math.pi/a*x3)\n",
      "P3=(psi3**2)*delx             #Probability of finding particle at distance of x3\n",
      "print\"Probability of finding particle at a distance of x3 is =\",P3\n"
     ],
     "language": "python",
     "metadata": {},
     "outputs": [
      {
       "output_type": "stream",
       "stream": "stdout",
       "text": [
        "Probability of finding particle at a distance of x1 is = 0.4\n",
        "Probability of finding particle at a distance of x2 is = 0.3\n",
        "(There is print mistake in book).\n",
        "Probability of finding particle at a distance of x3 is = 5.99903913065e-33\n"
       ]
      }
     ],
     "prompt_number": 9
    },
    {
     "cell_type": "code",
     "collapsed": false,
     "input": [],
     "language": "python",
     "metadata": {},
     "outputs": []
    }
   ],
   "metadata": {}
  }
 ]
}