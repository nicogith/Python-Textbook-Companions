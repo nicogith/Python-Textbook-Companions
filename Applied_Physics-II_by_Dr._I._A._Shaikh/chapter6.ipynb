{
 "metadata": {
  "celltoolbar": "Raw Cell Format",
  "name": "",
  "signature": "sha256:bc506d3130781232c57938d478c5c5179ee56efb068c1be93d57258ec96fcd79"
 },
 "nbformat": 3,
 "nbformat_minor": 0,
 "worksheets": [
  {
   "cells": [
    {
     "cell_type": "heading",
     "level": 1,
     "metadata": {},
     "source": [
      "Chapter 6: Magnetic Materials and Circuits"
     ]
    },
    {
     "cell_type": "heading",
     "level": 2,
     "metadata": {},
     "source": [
      "Example 6.1,Page number 2-26"
     ]
    },
    {
     "cell_type": "code",
     "collapsed": false,
     "input": [
      "import math\n",
      "\n",
      "#Given Data:\n",
      "H=198                  #Magnetizing Force in Ampere per meter\n",
      "M=2300                 #Magnetization in Ampere per meter\n",
      "u0=4*math.pi*10**-7    #Permeability in vacuum\n",
      "\n",
      "#Calculations:\n",
      "#H=(B/u0)-M\n",
      "B=u0*(H+M)             #Flux Density\n",
      "ur=B/(u0*H)            #Relative Permeability\n",
      "\n",
      "print\"Corresponding Flux Density is =\",B,\"Wb/m^2\"\n",
      "print\"Relative Permeability is =\",ur\n"
     ],
     "language": "python",
     "metadata": {},
     "outputs": [
      {
       "output_type": "stream",
       "stream": "stdout",
       "text": [
        "Corresponding Flux Density is = 0.00313907937947 Wb/m^2\n",
        "Relative Permeability is = 12.6161616162\n"
       ]
      }
     ],
     "prompt_number": 1
    },
    {
     "cell_type": "heading",
     "level": 2,
     "metadata": {},
     "source": [
      "Example 6.2,Page number 2-26"
     ]
    },
    {
     "cell_type": "code",
     "collapsed": false,
     "input": [
      "import math\n",
      "\n",
      "#Given Data:\n",
      "x=3.7*10**-3           #Susceptibility at T=300 K\n",
      "T=300                  #Temperature in kelvin\n",
      "T1=250                 #Temperature in kelvin\n",
      "T2=600                 #Temperature in kelvin\n",
      "\n",
      "#Calculations:\n",
      "C=x*T                  #Curie's law\n",
      "ur1=C/T1               #Relative permeability at 250 K\n",
      "ur2=C/T2               #Relative permeability at 600 K\n",
      "\n",
      "print\"Relative Permeability at 250 K is =\",ur1\n",
      "print\"Relative Permeability at 600 K is =\",ur2\n"
     ],
     "language": "python",
     "metadata": {},
     "outputs": [
      {
       "output_type": "stream",
       "stream": "stdout",
       "text": [
        "Relative Permeability at 250 K is = 0.00444\n",
        "Relative Permeability at 600 K is = 0.00185\n"
       ]
      }
     ],
     "prompt_number": 2
    },
    {
     "cell_type": "heading",
     "level": 2,
     "metadata": {},
     "source": [
      "Example 6.3,Page number 2-27"
     ]
    },
    {
     "cell_type": "code",
     "collapsed": false,
     "input": [
      "import math\n",
      "\n",
      "#Given Data:\n",
      "u=0.8*10**-23          #Magnetic dipole moment of an atom in paramagnetic gas in J/T\n",
      "B=0.8                  #Magnetic field in tesla\n",
      "K=1.38*10**-23         #Boltzmann constant\n",
      "\n",
      "#To find Temperature at which Average thermal energy is equal to Magnetic energy \n",
      "#i.e. uB=3KT/2\n",
      "T=2*u*B/(3*K)          #Required temperature\n",
      "\n",
      "print\"Required temperature is =\",T,\"Kelvin\"\n"
     ],
     "language": "python",
     "metadata": {},
     "outputs": [
      {
       "output_type": "stream",
       "stream": "stdout",
       "text": [
        "Required temperature is = 0.309178743961 Kelvin\n"
       ]
      }
     ],
     "prompt_number": 3
    },
    {
     "cell_type": "heading",
     "level": 2,
     "metadata": {},
     "source": [
      "Example 6.4,Page number 2-27"
     ]
    },
    {
     "cell_type": "code",
     "collapsed": false,
     "input": [
      "import math\n",
      "\n",
      "#Given Data:\n",
      "T=27+273           #Temperature in kelvin\n",
      "B=0.5              #Magnetic field in tesla\n",
      "C=2*10**-3         #Curie's Constant\n",
      "u0=4*math.pi*10**-7    #Permeability in vacuum\n",
      "\n",
      "#  C=u0*M*T/B (Curie's law)\n",
      "M=C*B/(u0*T)      #Magnetization of material at 300 K\n",
      "\n",
      "print\"Magnetization of material at 300 K is =\",M,\"A/m\"\n"
     ],
     "language": "python",
     "metadata": {},
     "outputs": [
      {
       "output_type": "stream",
       "stream": "stdout",
       "text": [
        "Magnetization of material at 300 K is = 2.65258238486 A/m\n"
       ]
      }
     ],
     "prompt_number": 5
    },
    {
     "cell_type": "heading",
     "level": 2,
     "metadata": {},
     "source": [
      "Example 6.5,Page number 2-27"
     ]
    },
    {
     "cell_type": "code",
     "collapsed": false,
     "input": [
      "import math\n",
      "\n",
      "#Given Data:\n",
      "B=10.9*10**-5            #Horizontal component of B in wb/m^2\n",
      "u0=4*math.pi*10**-7     #Permeability in free space\n",
      "\n",
      "H=B/u0                  #Horizontal component of magnetic field\n",
      "print\"Horizontal component of magnetic field is =\",H,\"Ampere/meter\"\n",
      "print\"(Print mistake in unit in book)\"\n"
     ],
     "language": "python",
     "metadata": {},
     "outputs": [
      {
       "output_type": "stream",
       "stream": "stdout",
       "text": [
        "Horizontal component of magnetic field is = 86.7394439851 Ampere/meter\n",
        "(Print mistake in unit in book)\n"
       ]
      }
     ],
     "prompt_number": 7
    },
    {
     "cell_type": "heading",
     "level": 2,
     "metadata": {},
     "source": [
      "Example 6.6,Page number 2-28"
     ]
    },
    {
     "cell_type": "code",
     "collapsed": false,
     "input": [
      "import math\n",
      "\n",
      "#Given Data:\n",
      "u0=4*math.pi*10**-7     #Permeability in vacuum\n",
      "ur=900                  #Relative permeability of medium\n",
      "l=2                      #length in meter\n",
      "A=60*10**-4             #Crosss sectional area of ring in m^2\n",
      "phi=5.9*10**-3          #flux in weber\n",
      "n=700                   #Number of turns\n",
      "\n",
      "#Calculations:\n",
      "#We know, phi=B*A\n",
      "B=phi/A            #Flux density\n",
      "#But, B=u*H\n",
      "H=B/(u0*ur)        #Magnetic field strength\n",
      "\n",
      "I=H*l/n            #Required current\n",
      "print\"Current required to produce given flux is =\",I,\"Ampere\"\n"
     ],
     "language": "python",
     "metadata": {},
     "outputs": [
      {
       "output_type": "stream",
       "stream": "stdout",
       "text": [
        "Current required to produce given flux is = 2.48416445567 Ampere\n"
       ]
      }
     ],
     "prompt_number": 8
    },
    {
     "cell_type": "heading",
     "level": 2,
     "metadata": {},
     "source": [
      "Example 6.7,Page number 2-28"
     ]
    },
    {
     "cell_type": "code",
     "collapsed": false,
     "input": [
      "import math\n",
      "\n",
      "#Given Data:\n",
      "\n",
      "u0=4*math.pi*10**-7    #Permeability in vacuum\n",
      "ur=900                 #Relative permeability of medium\n",
      "r=25*10**-2            #radius of ring\n",
      "A=25*10**-4            #Crosss sectional area of ring in m^2\n",
      "Ag=1*10**-3            #Air gap\n",
      "phi=2.7*10**-3         #flux in weber\n",
      "N=400                  #Number of turns\n",
      "\n",
      "#Calculations:\n",
      "#We know, phi=B*A\n",
      "B=phi/A            #Flux density\n",
      "#But, B=u*H\n",
      "H=B/(u0*ur)        #Magnetic field strength\n",
      "L=H*2*math.pi*r+(B*Ag/u0)   #Total amp turns required (iron+air)\n",
      "I=L/N           #Required current\n",
      "\n",
      "print\"Current required to produce given flux is =\",I,\"Ampere\"\n"
     ],
     "language": "python",
     "metadata": {},
     "outputs": [
      {
       "output_type": "stream",
       "stream": "stdout",
       "text": [
        "Current required to produce given flux is = 5.89859173174 Ampere\n"
       ]
      }
     ],
     "prompt_number": 10
    },
    {
     "cell_type": "heading",
     "level": 2,
     "metadata": {},
     "source": [
      "Example 6.8,Page number 2-29"
     ]
    },
    {
     "cell_type": "code",
     "collapsed": false,
     "input": [
      "import math\n",
      "\n",
      "#Given Data:\n",
      "\n",
      "u0=4*math.pi*10**-7     #Permeability in vacuum\n",
      "A=0.2*10**-4            #Crosss sectional area of iron bar in m^2\n",
      "H=1600                  #magnetising field in A/m\n",
      "phi=2.4*10**-5          #Magnetic flux in weber\n",
      "\n",
      "\n",
      "#Calculations:\n",
      "#We know, phi=B*A\n",
      "B=phi/A            #Flux density\n",
      "u=B/H              #magnetic permeability\n",
      "ur=u/u0            #relative permeability\n",
      "xm=ur-1            #susceptibility of the iron bar\n",
      "\n",
      "print\"magnetic permeability of iron bar is =\",u,\"N/(A^2)\"\n",
      "print\"susceptibility of the iron bar is =\",xm\n"
     ],
     "language": "python",
     "metadata": {},
     "outputs": [
      {
       "output_type": "stream",
       "stream": "stdout",
       "text": [
        "magnetic permeability of iron bar is = 0.00075 N/(A^2)\n",
        "susceptibility of the iron bar is = 595.831036595\n"
       ]
      }
     ],
     "prompt_number": 11
    },
    {
     "cell_type": "heading",
     "level": 2,
     "metadata": {},
     "source": [
      "Example 6.9,Page number 2-29"
     ]
    },
    {
     "cell_type": "code",
     "collapsed": false,
     "input": [
      "import math\n",
      "\n",
      "#Given Data:\n",
      "u0=4*math.pi*10**-7       #Permeability in vacuum\n",
      "xm=948*10**-11            #susceptibility of the iron bar\n",
      "\n",
      "#Calculations:\n",
      "ur=1+xm            #relative permeability\n",
      "u=u0*ur            #permeability of medium\n",
      "\n",
      "print\"Relative Permeability of medium is =\",ur\n",
      "print\"Permeability of medium is =\",u,\"H/m\"\n",
      "\n"
     ],
     "language": "python",
     "metadata": {},
     "outputs": [
      {
       "output_type": "stream",
       "stream": "stdout",
       "text": [
        "Relative Permeability of medium is = 1.00000000948\n",
        "Permeability of medium is = 1.25663707335e-06 H/m\n"
       ]
      }
     ],
     "prompt_number": 13
    },
    {
     "cell_type": "heading",
     "level": 2,
     "metadata": {},
     "source": [
      "Example 6.10,Page number 2-30"
     ]
    },
    {
     "cell_type": "code",
     "collapsed": false,
     "input": [
      "import math\n",
      "\n",
      "#Given Data:\n",
      "B=2.5                #Magnetic field in tesla\n",
      "u0=4*math.pi*10**-7    #Permeability in free space\n",
      "i0=0.7               #current in the core\n",
      "ri=11*10**-2         #inner radii of core\n",
      "ro=12*10**-2         #outer radii of core\n",
      "\n",
      "#Calculations:\n",
      "r=(ri+ro)/2          #Average radii of core\n",
      "n=3000/(2*math.pi*r)    #Number of turns\n",
      "\n",
      "#We know, B=u0*ur*n*i0 .Thus,\n",
      "ur=B/(u0*n*i0)\n",
      "\n",
      "print\"Relative Permeability of medium is =\",ur\n"
     ],
     "language": "python",
     "metadata": {},
     "outputs": [
      {
       "output_type": "stream",
       "stream": "stdout",
       "text": [
        "Relative Permeability of medium is = 684.523809524\n"
       ]
      }
     ],
     "prompt_number": 14
    },
    {
     "cell_type": "heading",
     "level": 2,
     "metadata": {},
     "source": [
      "Example 6.11,Page number 2-31"
     ]
    },
    {
     "cell_type": "code",
     "collapsed": false,
     "input": [
      "import math\n",
      "\n",
      "#Given Data:\n",
      "B=1.0                #Flux density in tesla\n",
      "u0=4*math.pi*10**-7     #Permeability in free space\n",
      "i=2.0                #current in the core\n",
      "n=10*100             #n=N/l i.e. turns per meter\n",
      "\n",
      "#Calculations:\n",
      "H=n*i               #Magnetising force produced in wire\n",
      "print\"Magnetising force produced in wire is =\",H,\"Amp-turn/meter\"\n",
      "\n",
      "#We know that, B=u0(H+I).Thus,\n",
      "I=B/u0-H            #Magnetisation of material\n",
      "print\"Magnetisation of material is =\",I,\"Amp-turn/meter\"\n",
      "\n",
      "#u=B/H, i.e. ur*u0=B/H.\n",
      "ur=B/(u0*H)        #Relative permeability of core\n",
      "print\" Relative Permeability of core is =\",ur\n"
     ],
     "language": "python",
     "metadata": {},
     "outputs": [
      {
       "output_type": "stream",
       "stream": "stdout",
       "text": [
        "Magnetising force produced in wire is = 2000.0 Amp-turn/meter\n",
        "Magnetisation of material is = 793774.715459 Amp-turn/meter\n",
        " Relative Permeability of core is = 397.88735773\n"
       ]
      }
     ],
     "prompt_number": 15
    },
    {
     "cell_type": "heading",
     "level": 2,
     "metadata": {},
     "source": [
      "Example 6.12,Page number 2-31"
     ]
    },
    {
     "cell_type": "code",
     "collapsed": false,
     "input": [
      "import math\n",
      "\n",
      "#Given Data:\n",
      "M=40             #Mass of an iron core\n",
      "D=7.5*10**3      #Density of iron\n",
      "f=100            #Frequency\n",
      "A=3800*10**-1    #Loss due to Area of hysterisis loop in J/m^3\n",
      "\n",
      "#Calculations:\n",
      "V=M/D            #Volume of iron core\n",
      "L1=A*V           #Loss of energy in core per cycle\n",
      "print\"Loss of energy in core per cycles is =\",L1,\"joules\"\n",
      "\n",
      "N=f*60           #Number of cycles per minute\n",
      "L=L1*N           #Loss of energy per minute\n",
      "\n",
      "print\"Loss of energy per minute is =\",L,\"joules\"\n"
     ],
     "language": "python",
     "metadata": {},
     "outputs": [
      {
       "output_type": "stream",
       "stream": "stdout",
       "text": [
        "Loss of energy in core per cycles is = 2.02666666667 joules\n",
        "Loss of energy per minute is = 12160.0 joules\n"
       ]
      }
     ],
     "prompt_number": 16
    },
    {
     "cell_type": "heading",
     "level": 2,
     "metadata": {},
     "source": [
      "Example 6.13,Page number 2-32"
     ]
    },
    {
     "cell_type": "code",
     "collapsed": false,
     "input": [
      "import math\n",
      "\n",
      "#Given Data:\n",
      "u0=4*math.pi*10**-7     #Permeability in vacuum\n",
      "l=30*10**-2             #length in meter\n",
      "A=1*10**-4          #Crosss sectional area of ring in m^2\n",
      "phi=2*10**-6        #flux in weber\n",
      "N=300               #Number of turns\n",
      "I=0.032             #Current in winding\n",
      "\n",
      "#Calculations:\n",
      "#(i):\n",
      "B=phi/A             #Flux density\n",
      "print\"(i)Flux Density in the ring is =\",B,\"Wb/m^2\"\n",
      "\n",
      "#(ii):\n",
      "H=N*I/l            #Magnetic intensity\n",
      "print\"(ii)Magnetic intensity is =\",H,\"Amp-turn/meter\"\n",
      "\n",
      "#(iii):\n",
      "u=B/H              #Permeability of ring\n",
      "print\"(iii)Permeability of ring is =\",u,\" Wb/A-m\"\n",
      "ur=u/u0            #Relative permeability of ring\n",
      "print\"Relative Permeability of ring is =\",ur\n",
      "\n",
      "#(iv):\n",
      "xm=ur-1            #susceptibility of the ring\n",
      "print\"(iv)Magnetic susceptibility of the ring is =\",xm\n"
     ],
     "language": "python",
     "metadata": {},
     "outputs": [
      {
       "output_type": "stream",
       "stream": "stdout",
       "text": [
        "(i)Flux Density in the ring is = 0.02 Wb/m^2\n",
        "(ii)Magnetic intensity is = 32.0 Amp-turn/meter\n",
        "(iii)Permeability of ring is = 0.000625  Wb/A-m\n",
        "Relative Permeability of ring is = 497.359197162\n",
        "(iv)Magnetic susceptibility of the ring is = 496.359197162\n"
       ]
      }
     ],
     "prompt_number": 17
    },
    {
     "cell_type": "heading",
     "level": 2,
     "metadata": {},
     "source": [
      "Example 6.14,Page number 2-32"
     ]
    },
    {
     "cell_type": "code",
     "collapsed": false,
     "input": [
      "import math\n",
      "\n",
      "#Given Dta:\n",
      "M=12*10**3       #Mass of an iron core in grams\n",
      "D=7.5            #Density of iron in gm/cc\n",
      "f=50             #Frequency\n",
      "A=3000           #loss due to Area of hysterisis loop in ergs/cm^3\n",
      "\n",
      "#Calculations:\n",
      "V=M/D            #Volume of iron core\n",
      "L1=A*V           #Loss of energy in core per cycle\n",
      "\n",
      "L=L1*f*3600      #Loss of energy per hour\n",
      "\n",
      "print\"Loss of energy per hour is =\",L,\"Erg\"\n"
     ],
     "language": "python",
     "metadata": {},
     "outputs": [
      {
       "output_type": "stream",
       "stream": "stdout",
       "text": [
        "Loss of energy per hour is = 8.64e+11 Erg\n"
       ]
      }
     ],
     "prompt_number": 18
    },
    {
     "cell_type": "heading",
     "level": 2,
     "metadata": {},
     "source": [
      "Example 6.15,Page number 2-33"
     ]
    },
    {
     "cell_type": "code",
     "collapsed": false,
     "input": [
      "import math\n",
      "\n",
      "#Given Data:\n",
      "A=0.5*10**3            #Area of B-H loop in Joules per m^3\n",
      "V=10**-3               #Volume of specimen in m^3\n",
      "n=50                   #Frequency of a.c.\n",
      "\n",
      "#Calculations:\n",
      "H=n*V*A               #Hysteresis power loss\n",
      "\n",
      "print\"Hysteresis power loss is =\",H,\"Watt\"\n"
     ],
     "language": "python",
     "metadata": {},
     "outputs": [
      {
       "output_type": "stream",
       "stream": "stdout",
       "text": [
        "Hysteresis power loss is = 25.0 Watt\n"
       ]
      }
     ],
     "prompt_number": 19
    },
    {
     "cell_type": "heading",
     "level": 2,
     "metadata": {},
     "source": [
      "Example 6.16,Page number 2-33"
     ]
    },
    {
     "cell_type": "code",
     "collapsed": false,
     "input": [
      "import math\n",
      "\n",
      "#Given Data:\n",
      "u0=4*math.pi*10**-7     #Permeability in vacuum\n",
      "ur=1000             #Relative permeability of medium\n",
      "V=10**-4            #Volume of iron rod in m^3\n",
      "n=500               #Number of turns per meter\n",
      "i=0.5               #Current in windings of solenoid in Amperes\n",
      "\n",
      "#Calculations:\n",
      "#We know I=(ur-1)H\n",
      "#and H=ni , hence\n",
      "I=(ur-1)*n*i       #Intensity of magnetisation\n",
      "M=I*V              #Magnetic moment\n",
      "\n",
      "print\"Magnetic moment of the rod is =\",M,\"A-m^2\"\n",
      "\n",
      "\n"
     ],
     "language": "python",
     "metadata": {},
     "outputs": [
      {
       "output_type": "stream",
       "stream": "stdout",
       "text": [
        "Magnetic moment of the rod is = 24.975 A-m^2\n"
       ]
      }
     ],
     "prompt_number": 22
    },
    {
     "cell_type": "heading",
     "level": 2,
     "metadata": {},
     "source": [
      "Example 6.17,Page number 2-34"
     ]
    },
    {
     "cell_type": "code",
     "collapsed": false,
     "input": [
      "import math\n",
      "\n",
      "#Given Data:\n",
      "u0=4*math.pi*10**-7     #Permeability in vacuum\n",
      "ur=600             #Relative permeability of iron\n",
      "d=12*10**-2        #mean diameter of ring in m\n",
      "N=500              #Number of turns\n",
      "i=0.3              #Current in windings of solenoid in Amperes\n",
      "\n",
      "#Calculations:\n",
      "r=d/2              #Radius of ring\n",
      "\n",
      "B=u0*ur*N*i/(2*math.pi*r)     #Flux densityin the core\n",
      "print\"Flux densityin the core is =\",B,\"Wb/m^2\"\n",
      "\n",
      "H=B/(u0*ur)         #Magnetic intensity\n",
      "print\"Magnetic intensity is =\",H,\"Amp-turns/m\"\n",
      "\n",
      "#We know that, B=u0(H+I)\n",
      "I1=(B-u0*H)/u0      #magnetisation\n",
      "I2=u0*I1            #Electronic current loop\n",
      "\n",
      "I=I2/B*100          #Percentage flux density due to electroniuc loop currents\n",
      "print\"Percentage flux density due to electroniuc loop currents is =\",I,\"percent\"\n"
     ],
     "language": "python",
     "metadata": {},
     "outputs": [
      {
       "output_type": "stream",
       "stream": "stdout",
       "text": [
        "Flux densityin the core is = 0.3 Wb/m^2\n",
        "Magnetic intensity is = 397.88735773 Amp-turns/m\n",
        "Percentage flux density due to electroniuc loop currents is = 99.8333333333 percent\n"
       ]
      }
     ],
     "prompt_number": 23
    },
    {
     "cell_type": "heading",
     "level": 2,
     "metadata": {},
     "source": [
      "Example 6.18,Page number 2-35"
     ]
    },
    {
     "cell_type": "code",
     "collapsed": false,
     "input": [
      "import math\n",
      "\n",
      "#Given Data:\n",
      "\n",
      "u0=4*math.pi*10**-7   #Permeability in vacuum\n",
      "ur=900               #Relative permeability of iron ring\n",
      "d=40*10**-2          #diameter of ring\n",
      "l=5*10**-3           #air gap in the ring\n",
      "A=5.8*10**-4         #Crosss sectional area of ring in m^2\n",
      "phi=1.5*10**-4       #flux in weber\n",
      "N=600                #Number of turns\n",
      "\n",
      "#Calculations:\n",
      "r=d/2                #Radius of ring\n",
      "\n",
      "#We know, phi=B*A\n",
      "B=phi/A              #Flux density\n",
      "\n",
      "#But, B=u*H\n",
      "H=B/(u0*ur)          #Magnetic field strength\n",
      "\n",
      "m1=H*ur*l            #amp-turns in air gap\n",
      "m2=H*2*math.pi*r     #amp-turns by ring\n",
      "m=m1+m2              #total mmf(amp-turns) required\n",
      "\n",
      "I=m/N                #Required current\n",
      "print\"Current required to produce given flux is =\",I,\"Amperes\"\n"
     ],
     "language": "python",
     "metadata": {},
     "outputs": [
      {
       "output_type": "stream",
       "stream": "stdout",
       "text": [
        "Current required to produce given flux is = 2.19395891742 Amperes\n"
       ]
      }
     ],
     "prompt_number": 24
    },
    {
     "cell_type": "heading",
     "level": 2,
     "metadata": {},
     "source": [
      "Example 6.18.1,Page number 2-38"
     ]
    },
    {
     "cell_type": "code",
     "collapsed": false,
     "input": [
      "import math\n",
      "\n",
      "#Given Data:\n",
      "u0=4*math.pi*10**-7    #Permeability in vacuum\n",
      "X=-0.5*10**-5          #Magnetic susceptibility of silicon\n",
      "H=9.9*10**4            #Magnetic field intensity\n",
      "\n",
      "#Calculations:\n",
      "\n",
      "#As, X=I/H. thus,\n",
      "I=X*H                  #intensity of magnetisation\n",
      "print\"Intensity of magnetisation is =\",I\n",
      "\n",
      "B=u0*(H+I)             #Magnetic flux density\n",
      "print\"Magnetic flux density is =\",B,\"Wb/ m^2\"\n"
     ],
     "language": "python",
     "metadata": {},
     "outputs": [
      {
       "output_type": "stream",
       "stream": "stdout",
       "text": [
        "Intensity of magnetisation is = -0.495\n",
        "Magnetic flux density is = 0.124406447047 Wb/ m^2\n"
       ]
      }
     ],
     "prompt_number": 25
    },
    {
     "cell_type": "heading",
     "level": 2,
     "metadata": {},
     "source": [
      "Example 6.18.2,Page number 2-38"
     ]
    },
    {
     "cell_type": "code",
     "collapsed": false,
     "input": [
      "import math\n",
      "\n",
      "#Given Data:\n",
      "u0=4*math.pi*10**-7     #Permeability in vacuum\n",
      "ur=380              #Relative permeability\n",
      "d=20*10**-2         #diameter of solenoid in m\n",
      "r=d/2               #radius of ring in m\n",
      "A=5*10**-4           #Crosss sectional area of ring in m^2\n",
      "phi=2*10**-3         #flux in weber\n",
      "N=200                #Number of turns\n",
      "\n",
      "#Calculations:\n",
      "l=math.pi*d          #air gap in the ring\n",
      "S=(l/(u0*ur*A))      #Reluctance of iron ring\n",
      "print\"Reluctance of iron ring is =\",S,\"Amp-turn/ Wb \"\n",
      "\n",
      "#ohm's law for magnetic circuit is  phi=N*I/S. thus,\n",
      "I=S*phi/N            #required current\n",
      "print\"Current required to obtain given magnetic flux is =\",I,\"Amperes\"\n"
     ],
     "language": "python",
     "metadata": {},
     "outputs": [
      {
       "output_type": "stream",
       "stream": "stdout",
       "text": [
        "Reluctance of iron ring is = 2631578.94737 Amp-turn/ Wb \n",
        "Current required to obtain given magnetic flux is = 26.3157894737 Amperes\n"
       ]
      }
     ],
     "prompt_number": 27
    },
    {
     "cell_type": "heading",
     "level": 2,
     "metadata": {},
     "source": [
      "Example 6.18.3,Page number 2-39"
     ]
    },
    {
     "cell_type": "code",
     "collapsed": false,
     "input": [
      "import math\n",
      "\n",
      "#Given Values:\n",
      "u0=4*math.pi*10**-7     #Permeability in vacuum\n",
      "ur=1               #Relative permeability of air\n",
      "r=15*10**-2        #radius of ring in m\n",
      "A=6*10**-4         #Crosss sectional area of ring in m^2\n",
      "I=4                #Coil current in amp\n",
      "N=500              #Number of turns\n",
      "\n",
      "#Calculations:\n",
      "m=N*I              #MMF of coil\n",
      "print\"MMF of coil is =\",m,\"Ampere-turn\"\n",
      "\n",
      "l=2*math.pi*r      #air gap\n",
      "R=(l/(u0*ur*A))    #Reluctance of iron ring\n",
      "print\"Reluctance of iron ring is =\",R,\"Ampere-turn/Wb\"\n",
      "\n",
      "phi=m/R            #Magnetic flux\n",
      "print\"Magnetic flux is =\",phi,\"Weber\"\n",
      "\n",
      "B=phi/A            #Magnetic Flux density\n",
      "print\"Magnetic flux density is =\",B,\"Weber/m^2\"\n",
      "\n",
      "H=B/(u0*ur)        #Magnetic field intensity\n",
      "print\"Magnetic field intensity is =\",H,\"Amperes/m\"\n",
      "\n"
     ],
     "language": "python",
     "metadata": {},
     "outputs": [
      {
       "output_type": "stream",
       "stream": "stdout",
       "text": [
        "MMF of coil is = 2000 Ampere-turn\n",
        "Reluctance of iron ring is = 1250000000.0 Ampere-turn/Wb\n",
        "Magnetic flux is = 1.6e-06 Weber\n",
        "Magnetic flux density is = 0.00266666666667 Weber/m^2\n",
        "Magnetic field intensity is = 2122.06590789 Amperes/m\n"
       ]
      }
     ],
     "prompt_number": 28
    },
    {
     "cell_type": "heading",
     "level": 2,
     "metadata": {},
     "source": [
      "Example 6.19,Page number 2-36"
     ]
    },
    {
     "cell_type": "code",
     "collapsed": false,
     "input": [
      "import math\n",
      "\n",
      "#Given Data:\n",
      "u0=4*math.pi*10**-7     #Permeability in vacuum\n",
      "ur=6*10**-3         #Relative permeability of iron\n",
      "r=0.5               #radius of ring in m\n",
      "l=1*10**-2          #air gap in the ring\n",
      "A=5*10**-4          #Crosss sectional area of ring in m^2\n",
      "i=5                 #current in ampere\n",
      "N=900               #Number of turns\n",
      "\n",
      "#Calculations:\n",
      "S=(l/(u0*A))+((2*math.pi*r-l)/ur*A)     #Reluctance of iron\n",
      "print\"Reluctance of iron is =\",S,\"Ampere-turn/Wb\"\n",
      "\n",
      "m=N*i              #mmf produced\n",
      "print\"mmf produced is =\",m,\"Ampere-turn\"\n"
     ],
     "language": "python",
     "metadata": {},
     "outputs": [
      {
       "output_type": "stream",
       "stream": "stdout",
       "text": [
        "Reluctance of iron is = 15915494.5702 Ampere-turn/Wb\n",
        "mmf produced is = 4500 Ampere-turn\n"
       ]
      }
     ],
     "prompt_number": 29
    },
    {
     "cell_type": "heading",
     "level": 2,
     "metadata": {},
     "source": [
      "Example 6.20,Page number 2-36"
     ]
    },
    {
     "cell_type": "code",
     "collapsed": false,
     "input": [
      "import math\n",
      "\n",
      "#Given Data:\n",
      "H=5*10**3          #coercivity of bar magnet in amp/m\n",
      "l=10*10**-2        #length of solenoid in m\n",
      "N=50               #No of turns\n",
      "\n",
      "#Calculations:\n",
      "\n",
      "#We know that, H=NI/l ,hence\n",
      "I=l*H/N            #current through solenoid\n",
      "\n",
      "print\"Current through solenoid is =\",I,\"Amperes\"\n"
     ],
     "language": "python",
     "metadata": {},
     "outputs": [
      {
       "output_type": "stream",
       "stream": "stdout",
       "text": [
        "Current through solenoid is = 10.0 Amperes\n"
       ]
      }
     ],
     "prompt_number": 30
    },
    {
     "cell_type": "heading",
     "level": 2,
     "metadata": {},
     "source": [
      "Example 6.21,Page number 2-36"
     ]
    },
    {
     "cell_type": "code",
     "collapsed": false,
     "input": [
      "import math\n",
      "\n",
      "#Given Data:\n",
      "ur=1200            #Relative permeability of medium\n",
      "V=10**-3           #volume of iron rod\n",
      "N=5*10**2          #no of turns per m\n",
      "i=0.5              #current through solenoid in amp\n",
      "\n",
      "#Calculations:\n",
      "x=ur-1             #susceptibility of the ring\n",
      "H=N*i             #Magnetisisng field\n",
      "\n",
      "#We know, x=I/H\n",
      "I=x*H              #magnetisation\n",
      "\n",
      "#Also, I=M/V , thus\n",
      "M=I*V              #magnetic moment\n",
      "print\"Magnetic moment is =\",M,\"Ampere-turn-m^2\"\n"
     ],
     "language": "python",
     "metadata": {},
     "outputs": [
      {
       "output_type": "stream",
       "stream": "stdout",
       "text": [
        "Magnetic moment is = 299.75 Ampere-turn-m^2\n"
       ]
      }
     ],
     "prompt_number": 31
    },
    {
     "cell_type": "heading",
     "level": 2,
     "metadata": {},
     "source": [
      "Example 6.22,Page number 2-37"
     ]
    },
    {
     "cell_type": "code",
     "collapsed": false,
     "input": [
      "import math\n",
      "\n",
      "#Given Dta:\n",
      "ur=100            #Relative permeability of medium\n",
      "l=0.2             #length of iron rod\n",
      "d=10*10**-3       #diameter of solenoid in m\n",
      "N=300             #no of turns per m\n",
      "i=0.5             #current through solenoid in amp\n",
      "r=d/2             #radius of solenoid\n",
      "\n",
      "#Calculations:\n",
      "x=ur-1            #susceptibility of the ring\n",
      "H=N*i             #Magnetisisng field\n",
      "\n",
      "#We know, x=I/H\n",
      "I=x*H             #magnetisation\n",
      "\n",
      "V=math.pi*(r**2)*l     #volume of iron rod\n",
      "\n",
      "#Also, I=M/V , thus\n",
      "M=I*V             #magnetic moment\n",
      "print\"Magnetic moment is =\",M,\"Ampere-turn-m^2\"\n"
     ],
     "language": "python",
     "metadata": {},
     "outputs": [
      {
       "output_type": "stream",
       "stream": "stdout",
       "text": [
        "Magnetic moment is = 0.233263254529 Ampere-turn-m^2\n"
       ]
      }
     ],
     "prompt_number": 33
    },
    {
     "cell_type": "heading",
     "level": 2,
     "metadata": {},
     "source": [
      "Example 6.23,Page number 2-38"
     ]
    },
    {
     "cell_type": "code",
     "collapsed": false,
     "input": [
      "import math\n",
      "\n",
      "#Given Data:\n",
      "l=1.2              #length of circuit in meter\n",
      "u=7.3*10**-3       #permeability of silicon sheet\n",
      "A=100              #cross sectional area in cm^2\n",
      "N=150              #No of turns\n",
      "B=0.3              #magmetic field in Wb/m^2\n",
      "\n",
      "#Calculations:\n",
      "\n",
      "#We know, B=u*H\n",
      "H=B/u              #Magnetic field strength\n",
      "\n",
      "m=H*l              #amp-turns in air gap\n",
      "\n",
      "I1=m/N             #Required current\n",
      "print\"Current required to obtain given magnetic field is =\",I1,\"Amperes\"\n",
      "\n",
      "I=I1/A             #Required current per unit area\n",
      "print\"Current required per unit area to obtain given magnetic field is =\",I,\"Amperes\"\n"
     ],
     "language": "python",
     "metadata": {},
     "outputs": [
      {
       "output_type": "stream",
       "stream": "stdout",
       "text": [
        "Current required to obtain given magnetic field is = 0.328767123288 Amperes\n",
        "Current required per unit area to obtain given magnetic field is = 0.00328767123288 Amperes\n"
       ]
      }
     ],
     "prompt_number": 34
    }
   ],
   "metadata": {}
  }
 ]
}