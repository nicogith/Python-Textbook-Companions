{
 "metadata": {
  "celltoolbar": "Raw Cell Format",
  "name": "",
  "signature": "sha256:e413b3bea25c7729b7ae1f595bf0f843336be8c682782f6b92de1c93aa46ed9d"
 },
 "nbformat": 3,
 "nbformat_minor": 0,
 "worksheets": [
  {
   "cells": [
    {
     "cell_type": "heading",
     "level": 1,
     "metadata": {},
     "source": [
      "Chapter 4: Laser"
     ]
    },
    {
     "cell_type": "heading",
     "level": 2,
     "metadata": {},
     "source": [
      "Example 4.1,Page number 4-27"
     ]
    },
    {
     "cell_type": "code",
     "collapsed": false,
     "input": [
      "import math\n",
      "\n",
      "#Given Data:\n",
      "lamda=694.3*10**-9         #Wavelength in meter\n",
      "T=300                   #Temperature in Kelvin\n",
      "\n",
      "h=6.63*10**-34           #Planck's Constant\n",
      "c=3*10**8                #Velocity of light\n",
      "K=1.38*10**-21           #Boltzmann Constant\n",
      "\n",
      "#Calculations:\n",
      "delE= h*c/lamda           #Energy difference between two energy states N and N0\n",
      "\n",
      "#N=N0*e^-delE/(K*T)\n",
      "R=math.e**(-delE/(K*T))      #R=Ratio of N and N0 i.e.(R=N/N0)\n",
      "\n",
      "#(Printing mistake in textbook)\n",
      "#instead of e^-.692, it has taken e^-69.2\n",
      "\n",
      "print\"The ratio of population of two energy states is = \",R\n",
      "print\" (calculation mistake in book)\"\n"
     ],
     "language": "python",
     "metadata": {},
     "outputs": [
      {
       "output_type": "stream",
       "stream": "stdout",
       "text": [
        "The ratio of population of two energy states is =  0.500588928485\n",
        " (calculation mistake in book)\n"
       ]
      }
     ],
     "prompt_number": 1
    },
    {
     "cell_type": "heading",
     "level": 2,
     "metadata": {},
     "source": [
      "Example 4.2,Page number 4-28"
     ]
    },
    {
     "cell_type": "code",
     "collapsed": false,
     "input": [
      "\n",
      "import math\n",
      "\n",
      "#Given Data:\n",
      "lamda=6328*10**-10        #Wavelength in meter\n",
      "P=4.5*10**-3              #Power in watts\n",
      "h=6.63*10**-34           #Planck's Constant\n",
      "c=3*10**8                 #Velocity of light\n",
      "\n",
      "#Calculations:\n",
      "delE= h*c/lamda           #Energy difference\n",
      "#N*delE=P\n",
      "N=P/delE                #number of photons emitted per second\n",
      "\n",
      "print\"Number of photons emitted per second is =\",N\n",
      "\n"
     ],
     "language": "python",
     "metadata": {},
     "outputs": [
      {
       "output_type": "stream",
       "stream": "stdout",
       "text": [
        "Number of photons emitted per second is = 1.43167420814e+16\n"
       ]
      }
     ],
     "prompt_number": 3
    },
    {
     "cell_type": "heading",
     "level": 2,
     "metadata": {},
     "source": [
      "Example 4.3,Page number 4-29"
     ]
    },
    {
     "cell_type": "code",
     "collapsed": false,
     "input": [
      "import math\n",
      "\n",
      "#Given Data:\n",
      "lamda=780*10**-9           #Wavelength of photon in meter\n",
      "P=20*10**-3              #Power of each pulse in watts\n",
      "t=10*10**-9              #Duration of each pulse\n",
      "h=6.63*10**-34           #Planck's Constant\n",
      "c=3*10**8                #Velocity of light\n",
      "\n",
      "#Calculations:\n",
      "delE= h*c/lamda           #Energy of each photon\n",
      "E=P*t                   #Energy of each pulse\n",
      "\n",
      "N=E/delE                #Number of photons in each pulse\n",
      "print\"Number of photons in each pulse is =\",N\n"
     ],
     "language": "python",
     "metadata": {},
     "outputs": [
      {
       "output_type": "stream",
       "stream": "stdout",
       "text": [
        "Number of photons in each pulse is = 784313725.49\n"
       ]
      }
     ],
     "prompt_number": 6
    },
    {
     "cell_type": "code",
     "collapsed": false,
     "input": [],
     "language": "python",
     "metadata": {},
     "outputs": []
    }
   ],
   "metadata": {}
  }
 ]
}