{
 "metadata": {
  "celltoolbar": "Raw Cell Format",
  "name": "",
  "signature": "sha256:5f637d4fa0aa8bb3bc54a28134ac85a937c06f0d3a591f536de2719824a41f5c"
 },
 "nbformat": 3,
 "nbformat_minor": 0,
 "worksheets": [
  {
   "cells": [
    {
     "cell_type": "heading",
     "level": 1,
     "metadata": {},
     "source": [
      "Chapter 3: Optical Fibre"
     ]
    },
    {
     "cell_type": "heading",
     "level": 2,
     "metadata": {},
     "source": [
      "Example 3.1,Page number 3-19"
     ]
    },
    {
     "cell_type": "code",
     "collapsed": false,
     "input": [
      "import math\n",
      "\n",
      "#Given Data:\n",
      "n1=1.61                 #Core index\n",
      "n2=1.55                 #Cladding index\n",
      "\n",
      "#Calculations:\n",
      "NA=math.sqrt(n1**2-n2**2)      #Formula\n",
      "\n",
      "print\"Numerical Aperture of Fibre is = \",NA\n",
      "\n"
     ],
     "language": "python",
     "metadata": {},
     "outputs": [
      {
       "output_type": "stream",
       "stream": "stdout",
       "text": [
        "Numerical Aperture of Fibre is =  0.435430821142\n"
       ]
      }
     ],
     "prompt_number": 2
    },
    {
     "cell_type": "heading",
     "level": 2,
     "metadata": {},
     "source": [
      "Example 3.2,Page number 3-19"
     ]
    },
    {
     "cell_type": "code",
     "collapsed": false,
     "input": [
      "import math\n",
      "\n",
      "#Given Data:\n",
      "n1=1.65                 #Core index\n",
      "n2=1.53                 #Cladding index\n",
      "\n",
      "#Calculations:\n",
      "NA=math.sqrt(n1**2-n2**2)      #Formula\n",
      "\n",
      "print\"Numerical Aperture of Fibre is =\",NA\n"
     ],
     "language": "python",
     "metadata": {},
     "outputs": [
      {
       "output_type": "stream",
       "stream": "stdout",
       "text": [
        "Numerical Aperture of Fibre is = 0.617737808459\n"
       ]
      }
     ],
     "prompt_number": 3
    },
    {
     "cell_type": "heading",
     "level": 2,
     "metadata": {},
     "source": [
      "Example 3.3,Page number 3-19"
     ]
    },
    {
     "cell_type": "code",
     "collapsed": false,
     "input": [
      "import math\n",
      "\n",
      "#Given Data:\n",
      "n1=1.48                 #R.I. of Core\n",
      "n2=1.39                 #R.I. of Cladding\n",
      "\n",
      "#Calculations:\n",
      "NA=math.sqrt(n1**2-n2**2)      #Formula to find NA\n",
      "phi=math.asin(NA)*180/(3.1472)    #Acceptance angle\n",
      "\n",
      "print\"Numerical Aperture of Fibre is =\",NA\n",
      "print\"Acceptance angle of Fibre is =\",phi,\"degrees\""
     ],
     "language": "python",
     "metadata": {},
     "outputs": [
      {
       "output_type": "stream",
       "stream": "stdout",
       "text": [
        "Numerical Aperture of Fibre is = 0.508232230383\n",
        "Acceptance angle of Fibre is = 30.491727191 degrees\n"
       ]
      }
     ],
     "prompt_number": 8
    },
    {
     "cell_type": "heading",
     "level": 2,
     "metadata": {},
     "source": [
      "Example 3.4,Page number 3-20"
     ]
    },
    {
     "cell_type": "code",
     "collapsed": false,
     "input": [
      "import math\n",
      "\n",
      "#given data:\n",
      "u1=3.6        #Refractive Index of the Substance at 850 nm\n",
      "u2=3.4        #Refractive Index of the Substance at 1300 nm\n",
      "Vv=3*10**8     #Velocity of light in free space\n",
      "\n",
      "#Calculations:\n",
      "# i)Finding wavelength at 850 nm\n",
      "Vs1=Vv/u1             #Velocity of light in substance at 850 nm\n",
      "print\"Velocity of light in substance at 850 nm =\" ,Vs1,\"m/sec\"\n",
      "\n",
      "lam1=850*10**-9/u1    #Wavelength of light in substance at 850nm\n",
      "print\" Wavelength of light in substance at 850nm =\",lam1,\"m\"\n",
      "\n",
      "\n",
      "#ii)Finding wavelength at 1300 nm\n",
      "Vs2=Vv/u2            #Velocity of light in substance at 1300 nm\n",
      "print\"Velocity of light in substance at 1300 nm =\",Vs2,\" m/sec\"\n",
      "\n",
      "lam2=1300*10**-9/u2   #Wavelength of light in substance at 1300nm\n",
      "print\"Wavelength of light in substance at 1300nm =\" ,lam2,\"m \""
     ],
     "language": "python",
     "metadata": {},
     "outputs": [
      {
       "output_type": "stream",
       "stream": "stdout",
       "text": [
        "Velocity of light in substance at 850 nm = 83333333.3333 m/sec\n",
        " Wavelength of light in substance at 850nm = 2.36111111111e-07 m\n",
        "Velocity of light in substance at 1300 nm = 88235294.1176  m/sec\n",
        "Wavelength of light in substance at 1300nm = 3.82352941176e-07 m \n"
       ]
      }
     ],
     "prompt_number": 2
    },
    {
     "cell_type": "heading",
     "level": 2,
     "metadata": {},
     "source": [
      "Example 3.5,Page number 3-20"
     ]
    },
    {
     "cell_type": "code",
     "collapsed": false,
     "input": [
      "import math\n",
      "\n",
      "#Given Data:\n",
      "u1=1.5                  #R.I. of Core\n",
      "u2=1.45                 #R.I.of Cladding\n",
      "delta= (u1-u2)/u1          #Fractional Refractive index\n",
      "\n",
      "#Calculations:\n",
      "NA=u1*sqrt(2*delta)             #Formula to find NA\n",
      "theta0=math.asin(NA)*180/(3.1472)       #Acceptance angle\n",
      "thetac=math.asin(u2/u1)*180/(3.1472)   #Critical angle\n",
      "\n",
      "print\"Numerical Aperture of Fibre is =\",NA\n",
      "print\"Acceptance angle of Fibre is =\",theta0,\"degrees\" \n",
      "print\" Critical angle of Fibre is =\",thetac,\"degrees\" \n"
     ],
     "language": "python",
     "metadata": {},
     "outputs": [
      {
       "output_type": "stream",
       "stream": "stdout",
       "text": [
        "Numerical Aperture of Fibre is = 0.387298334621\n",
        "Acceptance angle of Fibre is = 22.7458994397 degrees\n",
        " Critical angle of Fibre is = 75.0309676099 degrees\n"
       ]
      }
     ],
     "prompt_number": 7
    },
    {
     "cell_type": "heading",
     "level": 2,
     "metadata": {},
     "source": [
      "Example 3.6,Page number 3-20"
     ]
    },
    {
     "cell_type": "code",
     "collapsed": false,
     "input": [
      "import math\n",
      "\n",
      "#Given Data:\n",
      "NA=0.22              # Numerical Aperture of Fibre\n",
      "delta=0.012          #Fractional index\n",
      "\n",
      "#Calculations:\n",
      "#Delta=(u1-u2)/u1\n",
      "u1=NA/math.sqrt(2*delta)  #Formula\n",
      "u2=u1-(u1*delta)     #Formula\n",
      "\n",
      "print\"Refractive Index of core of fibre is =\",u1\n",
      "print\"Refractive Index of cladding of fibre is =\",u2\n"
     ],
     "language": "python",
     "metadata": {},
     "outputs": [
      {
       "output_type": "stream",
       "stream": "stdout",
       "text": [
        "Refractive Index of core of fibre is = 1.42009389361\n",
        "Refractive Index of cladding of fibre is = 1.40305276689\n"
       ]
      }
     ],
     "prompt_number": 1
    },
    {
     "cell_type": "heading",
     "level": 2,
     "metadata": {},
     "source": [
      "Example 3.7,Page number 3-21"
     ]
    },
    {
     "cell_type": "code",
     "collapsed": false,
     "input": [
      "import math\n",
      "\n",
      "#Given Data:\n",
      "u1=1.466                 #R.I. of Core\n",
      "u2=1.46                  #R.I.of Cladding\n",
      "V=2.4                    #Cut off parameter\n",
      "lamda=0.8*10**-6            #wavelength in meter\n",
      "\n",
      "#Calculations:\n",
      "NA=math.sqrt(u1**2-u2**2)       #Formula to find Numerical Aperture\n",
      "print\"Numerical Aperture of Fibre is =\",NA\n",
      "#(printing mistake in book)printed answer is 1.13 but correct answer is 0.13\n",
      "print\"(printing mistake in book)\"\n",
      "\n",
      "# V = 2*3.142*a*NA / lamda\n",
      "a=V*lamda/(2*3.142*NA)   #core radius\n",
      "print\"Core radius of Fibre is (a) =\",a,\"m\"\n",
      "\n",
      "#w/a= 1.1\n",
      "w=1.1*a                  #Spot size\n",
      "print\"Spot size of Fibre is =\",w,\"m\"\n",
      "\n",
      "theta=2*lamda*180/3.142/(3.142*w)       #Divergence angle\n",
      "print\"Divergence angle of Fibre is =\",theta,\"degrees\"\n",
      "\n",
      "w10=lamda*10/(3.142*w)     #Spot size at 10 m\n",
      "print\"Spot size at 10 m of Fibre is =\",w10,\"m\"\n"
     ],
     "language": "python",
     "metadata": {},
     "outputs": [
      {
       "output_type": "stream",
       "stream": "stdout",
       "text": [
        "Numerical Aperture of Fibre is = 0.1324990566\n",
        "(printing mistake in book)\n",
        "Core radius of Fibre is (a) = 2.30596263706e-06 m\n",
        "Spot size of Fibre is = 2.53655890076e-06 m\n",
        "Divergence angle of Fibre is = 11.5009886523 degrees\n",
        "Spot size at 10 m of Fibre is = 1.00378073182 m\n"
       ]
      }
     ],
     "prompt_number": 5
    },
    {
     "cell_type": "heading",
     "level": 2,
     "metadata": {},
     "source": [
      "Example 3.8,Page number 3-21"
     ]
    },
    {
     "cell_type": "code",
     "collapsed": false,
     "input": [
      "import math\n",
      "\n",
      "#Given Data:\n",
      "w=98                   #Spot size in meter\n",
      "d=50*10**-6             #Core diameter in meter\n",
      "a=d/2                  #core radius\n",
      "u1=1.47                #R.I. of Core\n",
      "u2=1.45                #R.I.of Cladding\n",
      "lamda=0.85*10**-6         #Wavlength in meter\n",
      "NA=math.sqrt(u1**2-u2**2)     #Formula to find NA\n",
      "\n",
      "#Calculations:\n",
      "V=2*3.142*a*NA/lamda        #cut off parameter\n",
      "N=(V**2)/2               #Number of modes\n",
      "\n",
      "print\"Cut off parameter of Fibre is =\",V\n",
      "print\"Number of modes of Fibre is =\",N\n"
     ],
     "language": "python",
     "metadata": {},
     "outputs": [
      {
       "output_type": "stream",
       "stream": "stdout",
       "text": [
        "Cut off parameter of Fibre is = 44.6646240577\n",
        "Number of modes of Fibre is = 997.464321107\n"
       ]
      }
     ],
     "prompt_number": 6
    },
    {
     "cell_type": "heading",
     "level": 2,
     "metadata": {},
     "source": [
      "Example 3.9,Page number 3-21"
     ]
    },
    {
     "cell_type": "code",
     "collapsed": false,
     "input": [
      "import math\n",
      "\n",
      "#Given Data:\n",
      "u1=1.47                 #R.I. of Core\n",
      "u2=1.46                 #R.I.of Cladding\n",
      "lamda=1.3*10**-6           #wavelength in meter\n",
      "\n",
      "#Calculations:\n",
      "NA=math.sqrt(u1**2-u2**2)      #Formula to find Numerical Aperture\n",
      "\n",
      "#The condition for single mode is V<2.405\n",
      "#2*3.142*a*NA/lamda < 2.405\n",
      "\n",
      "a=2.405*lamda/(2*3.142*NA)   #Maximum radius of fibre\n",
      "\n",
      "print\"Maximum radius of Fibre is =\",a,\"meter\"\n"
     ],
     "language": "python",
     "metadata": {},
     "outputs": [
      {
       "output_type": "stream",
       "stream": "stdout",
       "text": [
        "Maximum radius of Fibre is = 2.90662126448e-06 meter\n"
       ]
      }
     ],
     "prompt_number": 7
    },
    {
     "cell_type": "heading",
     "level": 2,
     "metadata": {},
     "source": [
      "Example 3.10,Page number 3-22"
     ]
    },
    {
     "cell_type": "code",
     "collapsed": false,
     "input": [
      "import math\n",
      "\n",
      "#Given Data:\n",
      "u1=1.465                  #R.I. of Core\n",
      "u2=1.46                   #R.I.of Cladding\n",
      "lamda=1.25*10**-6            #operating wavelength\n",
      "\n",
      "#Calculations:\n",
      "delta=(u1-u2)/u1            #Fractional Refractive index\n",
      "print\"Fractional Refractive index of Fibre is =\",delta\n",
      "\n",
      "#For single mode propagation codition is \n",
      "# a/lamda < 1.4/(3.142*sqrt(u1(u1-u2)))\n",
      "\n",
      "a=lamda*1.4/(3.142*u1*math.sqrt(delta))      #core radius\n",
      "\n",
      "u=u1-(math.sqrt(2*delta)/(2*3.142*(a/lamda)))     #effective refractive index\n",
      "print\"Effective Refractive index for lowest mode propagation is =\",u\n"
     ],
     "language": "python",
     "metadata": {},
     "outputs": [
      {
       "output_type": "stream",
       "stream": "stdout",
       "text": [
        "Fractional Refractive index of Fibre is = 0.00341296928328\n",
        "Effective Refractive index for lowest mode propagation is = 1.46247461864\n"
       ]
      }
     ],
     "prompt_number": 8
    },
    {
     "cell_type": "heading",
     "level": 2,
     "metadata": {},
     "source": [
      "Example 3.11,Page number 3-22"
     ]
    },
    {
     "cell_type": "code",
     "collapsed": false,
     "input": [
      "import math\n",
      "\n",
      "#Given Data:\n",
      "u1=1.54                  #R.I. of Core\n",
      "u2=1.5                   #R.I.of Cladding\n",
      "lamda=1.3*10**-6            #wavelength in meter\n",
      "a=25*10**-6               #core radius in meter\n",
      "\n",
      "#Calculations:\n",
      "NA=math.sqrt(u1**2-u2**2)      #Formula to find Numerical Aperture\n",
      "\n",
      "V=2*3.142*a*NA/lamda         #cut off parameter\n",
      "print\"Cut off parameter of Fibre is =\",V\n",
      "\n",
      "N=(V**2)/2                #Number of modes\n",
      "print\" Number of modes of Fibre is =\",N\n"
     ],
     "language": "python",
     "metadata": {},
     "outputs": [
      {
       "output_type": "stream",
       "stream": "stdout",
       "text": [
        "Cut off parameter of Fibre is = 42.1404937865\n",
        " Number of modes of Fibre is = 887.910608284\n"
       ]
      }
     ],
     "prompt_number": 9
    },
    {
     "cell_type": "heading",
     "level": 2,
     "metadata": {},
     "source": [
      "Example 3.11.1,Page number 3-25"
     ]
    },
    {
     "cell_type": "code",
     "collapsed": false,
     "input": [
      "import math\n",
      "\n",
      "#Given Data:\n",
      "u1=1.52                  #R.I. of Core\n",
      "u2=1.5189                #R.I.of Cladding\n",
      "lamda=1.3*10**-6            #wavelength in meter\n",
      "d=29*10**-6               #core diameter in meter\n",
      "a=d/2\n",
      "\n",
      "#Calculations:\n",
      "NA=math.sqrt(u1**2-u2**2)     #Formula to find Numerical Aperture\n",
      "V=2*3.142*a*NA/lamda        #Normalised frequency\n",
      "Nm=(V**2)/2               #Number of modes\n",
      "\n",
      "print\"Normalised frequency of Fibre is (V)=\",V\n",
      "print\"The Maximum Number of modes the Fibre will support is (Nm) =\",Nm\n"
     ],
     "language": "python",
     "metadata": {},
     "outputs": [
      {
       "output_type": "stream",
       "stream": "stdout",
       "text": [
        "Normalised frequency of Fibre is (V)= 4.05242861605\n",
        "The Maximum Number of modes the Fibre will support is (Nm) = 8.2110888441\n"
       ]
      }
     ],
     "prompt_number": 11
    },
    {
     "cell_type": "heading",
     "level": 2,
     "metadata": {},
     "source": [
      "Example 3.12,Page number 3-22"
     ]
    },
    {
     "cell_type": "code",
     "collapsed": false,
     "input": [
      "import math\n",
      "\n",
      "#Given Data:\n",
      "u1=1.5                  #R.I. of Core\n",
      "d=10*10**-6              #diameter of core\n",
      "a=d/2                   #core radius\n",
      "lamda=1.3*10**-6           #wavelength\n",
      "V=2.405                 #cut off parameter for single mode\n",
      "\n",
      "#Calculations:\n",
      "\n",
      "#We know, V=2*3.142*a*NA/lamda\n",
      "NA=V*lamda/(2*3.142*a)       #Numerical Aperture\n",
      "\n",
      "theta=math.asin(NA)*180/3.142   #Acceptance angle\n",
      "print\"Acceptance angle of Fibre is =\",theta,\"Degrees\"\n",
      "\n",
      "#Also, NA=u1*sqrt(2*delta)\n",
      "delta=(NA/u1)**2/2           #Fractional index\n",
      "print\"Maximum Fractional Refractive index of Fibre is =\",delta\n",
      "\n",
      "#delta=(u1-u2)/u1\n",
      "u2=u1*(1-delta)             #R.I.of cladding\n",
      "print\"Refractive index of cladding of Fibre is =\",u2\n"
     ],
     "language": "python",
     "metadata": {},
     "outputs": [
      {
       "output_type": "stream",
       "stream": "stdout",
       "text": [
        "Acceptance angle of Fibre is = 5.71002346964 Degrees\n",
        "Maximum Fractional Refractive index of Fibre is = 0.00220035113094\n",
        "Refractive index of cladding of Fibre is = 1.4966994733\n"
       ]
      }
     ],
     "prompt_number": 13
    },
    {
     "cell_type": "heading",
     "level": 2,
     "metadata": {},
     "source": [
      "Example 3.13,Page number 3-23"
     ]
    },
    {
     "cell_type": "code",
     "collapsed": false,
     "input": [
      "import math\n",
      "\n",
      "#Given Data:\n",
      "n1=1.5               #R.I. of core\n",
      "delta=0.0005         #Fractional index difference\n",
      "\n",
      "#Calculations:\n",
      "#(a):\n",
      "#Delta=(u1-u2)/u1\n",
      "n2=n1-(n1*delta)     #R.I. of cladding\n",
      "print\"(a)Refractive Index of cladding of fibre is =\",n2\n",
      "\n",
      "#(b):\n",
      "phi=math.asin(n2/n1)*180/3.142        #Critical internal reflection angle\n",
      "print\"(b)Critical internal reflection angle of Fibre is =\",phi,\"degrees\"\n",
      "\n",
      "#(c):\n",
      "theta0=math.asin(math.sqrt(n1**2-n2**2))*180/3.142    #External critical Acceptance angle\n",
      "print\"(c)External critical Acceptance angle of Fibre is =\",theta0,\"degrees\"\n",
      "\n",
      "#(d):\n",
      "NA=n1*math.sqrt(2*delta)          #Formula to find Numerical Aperture\n",
      "print\"(d)Numerical Aperture of Fibre is =\",NA\n"
     ],
     "language": "python",
     "metadata": {},
     "outputs": [
      {
       "output_type": "stream",
       "stream": "stdout",
       "text": [
        "(a)Refractive Index of cladding of fibre is = 1.49925\n",
        "(b)Critical internal reflection angle of Fibre is = 88.1766396681 degrees\n",
        "(c)External critical Acceptance angle of Fibre is = 2.71810509125 degrees\n",
        "(d)Numerical Aperture of Fibre is = 0.0474341649025\n"
       ]
      }
     ],
     "prompt_number": 14
    },
    {
     "cell_type": "heading",
     "level": 2,
     "metadata": {},
     "source": [
      "Example 3.14,Page number 3-24"
     ]
    },
    {
     "cell_type": "code",
     "collapsed": false,
     "input": [
      "import math\n",
      "\n",
      "#Given Data:\n",
      "NA1=0.20              #Numerical Aperture of Fibre\n",
      "n2=1.59               #R.I. of cladding\n",
      "\n",
      "#Calculations:\n",
      "#NA=sqrt(n1**2-n2**2)\n",
      "#In air, n0=1\n",
      "n1=math.sqrt(NA1**2+n2**2)     #R.I.of core\n",
      "\n",
      "#Now, in water \n",
      "n0=1.33\n",
      "NA2=math.sqrt(n1**2-n2**2)/n0      #Numerical Aperture in water\n",
      "theta0=math.asin(NA2)*180/3.142    #Acceptance angle of fibre in water\n",
      "print\"Acceptance angle of Fibre in water is =\",theta0,\"degrees\"\n"
     ],
     "language": "python",
     "metadata": {},
     "outputs": [
      {
       "output_type": "stream",
       "stream": "stdout",
       "text": [
        "Acceptance angle of Fibre in water is = 8.6475921767 degrees\n"
       ]
      }
     ],
     "prompt_number": 15
    },
    {
     "cell_type": "heading",
     "level": 2,
     "metadata": {},
     "source": [
      "Example 3.15,Page number 3-24"
     ]
    },
    {
     "cell_type": "code",
     "collapsed": false,
     "input": [
      "import math\n",
      "\n",
      "#Given Data:\n",
      "n1=1.45             #R.I.of core\n",
      "n2=1.40             #R.I. of cladding\n",
      "\n",
      "#Calculations:\n",
      "NA=math.sqrt(n1**2-n2**2)   #Numerical Aperture\n",
      "print\"Numerical Aperture of Fibre is =\",NA\n",
      "\n",
      "theta0=math.asin(NA)*180/3.142    #Acceptance angle of fibre\n",
      "print\"Acceptance angle of Fibre is =\",theta0,\"degrees\"\n"
     ],
     "language": "python",
     "metadata": {},
     "outputs": [
      {
       "output_type": "stream",
       "stream": "stdout",
       "text": [
        "Numerical Aperture of Fibre is = 0.377491721764\n",
        "Acceptance angle of Fibre is = 22.1755250876 degrees\n"
       ]
      }
     ],
     "prompt_number": 16
    },
    {
     "cell_type": "heading",
     "level": 2,
     "metadata": {},
     "source": [
      "Example 3.16,Page number 3-24"
     ]
    },
    {
     "cell_type": "code",
     "collapsed": false,
     "input": [
      "import math\n",
      "\n",
      "#Given Data:\n",
      "NA=0.16             #Numerical Aperture of Fibre\n",
      "n1=1.45             #R.I. of core\n",
      "d=90*10**-6          #Core diameter\n",
      "\n",
      "#Calculations:\n",
      "#NA=sqrt(n1**2-n2**2)\n",
      "n2=math.sqrt(n1**2-NA**2)    #R.I.of cladding\n",
      "print\"(a)Refractive Index of cladding of fibre is =\",n2\n",
      "\n",
      "theta0=math.asin(NA)*180/3.142    #Acceptance angle of fibre\n",
      "print\"(b)Acceptance angle of Fibre is =\",theta0,\"degrees\"\n"
     ],
     "language": "python",
     "metadata": {},
     "outputs": [
      {
       "output_type": "stream",
       "stream": "stdout",
       "text": [
        "(a)Refractive Index of cladding of fibre is = 1.44114537782\n",
        "(b)Acceptance angle of Fibre is = 9.20570258795 degrees\n"
       ]
      }
     ],
     "prompt_number": 18
    },
    {
     "cell_type": "heading",
     "level": 2,
     "metadata": {},
     "source": [
      "Example 3.17,Page number 3-25"
     ]
    },
    {
     "cell_type": "code",
     "collapsed": false,
     "input": [
      "import math\n",
      "\n",
      "#Given Data:\n",
      "n1=1.48               #R.I. of core\n",
      "delta=0.055           #Realtive R.I.\n",
      "lamda=1*10**-6        #Wavelength of light\n",
      "a=50*10**-6           #core radius\n",
      "\n",
      "#Calculations:\n",
      "#Delta=(u1-u2)/u1\n",
      "n2=n1-(n1*delta)      #R.I. of cladding\n",
      "NA=n1*math.sqrt(2*delta)  #Formula to find Numerical Aperture\n",
      "print\"Numerical Aperture of Fibre is =\",NA\n",
      "\n",
      "\n",
      "theta0=math.asin(NA)*180/3.142     #Acceptance angle of fibre\n",
      "print\"Acceptance angle of Fibre is =\",theta0,\"degrees\"\n",
      "\n",
      "V=2*3.142*a*NA/lamda            #V number\n",
      "N=(V**2)/2                   #Number of guided modes\n",
      "\n",
      "#In book,instead of NA , value of delta is taken into calculation.\n",
      "#Thus there is calculation mistake in values of V and N.\n",
      "\n",
      "print\"V number of Fibre is =\",V\n",
      "print\"Number of guided mode of Fibre is =\",N\n",
      "print\"(Calculation mistake in book)\"\n"
     ],
     "language": "python",
     "metadata": {},
     "outputs": [
      {
       "output_type": "stream",
       "stream": "stdout",
       "text": [
        "Numerical Aperture of Fibre is = 0.490860468973\n",
        "Acceptance angle of Fibre is = 29.3933421943 degrees\n",
        "V number of Fibre is = 154.228359351\n",
        "Number of guided mode of Fibre is = 11893.1934141\n",
        "(Calculation mistake in book)\n"
       ]
      }
     ],
     "prompt_number": 19
    },
    {
     "cell_type": "code",
     "collapsed": false,
     "input": [],
     "language": "python",
     "metadata": {},
     "outputs": []
    }
   ],
   "metadata": {}
  }
 ]
}