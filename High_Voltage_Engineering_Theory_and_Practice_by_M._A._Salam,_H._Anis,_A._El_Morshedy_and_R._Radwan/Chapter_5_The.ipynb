{
 "cells": [
  {
   "cell_type": "markdown",
   "metadata": {},
   "source": [
    "# Chapter 5 The Corona Discharge"
   ]
  },
  {
   "cell_type": "markdown",
   "metadata": {},
   "source": [
    "## Example 5.6.2 pgno:173"
   ]
  },
  {
   "cell_type": "code",
   "execution_count": 1,
   "metadata": {
    "collapsed": false
   },
   "outputs": [
    {
     "name": "stdout",
     "output_type": "stream",
     "text": [
      "Part (a): based on equation 4.13\n",
      "Breakdown voltage = 9005.95 V or 9.00 kV\n",
      "\n",
      " Part (b):Corrsponding to an avelanche size of 10**8\n",
      "Breakdown voltage = 9688.17 V or 9.70 kV\n",
      "\n",
      " Part (c):According to criteria expressed by Equations 5.4 and 5.5\n",
      "Breakdown voltage = 9.40 kV or 9.20 kV\n"
     ]
    }
   ],
   "source": [
    "#Calculate breakdown voltage\n",
    "\n",
    "#(a)Based on equation 4.13\n",
    "p = 101.3 # kPa\n",
    "Ep = 2400.4/0.027\n",
    "E = p*Ep\n",
    "d = 1*10**-3 # 1 mm\n",
    "Vs1 = E*d\n",
    "print\"Part (a): based on equation 4.13\"\n",
    "print\"Breakdown voltage = %.2f V or %.2f kV\"%(Vs1,round(Vs1*10**-3))\n",
    "\n",
    "#(b)Corrsponding to an avelanche size of 10**8\n",
    "p = 101.3 # kPa\n",
    "Cp = Ep*0.027*p\n",
    "Vs2 = (18.42 + (Cp*10**-3))/0.027\n",
    "print\"\\n Part (b):Corrsponding to an avelanche size of 10**8\"\n",
    "print\"Breakdown voltage = %.2f V or %.2f kV\"%(Vs2,round(Vs2*10**-3,1))\n",
    "\n",
    "#(b)According to criteria expressed by Equations 5.4 and 5.5\n",
    "p = 101.3 # kPa\n",
    "Vs3a = 9.4\n",
    "Vs3b = 9.2\n",
    "print\"\\n Part (c):According to criteria expressed by Equations 5.4 and 5.5\"\n",
    "print\"Breakdown voltage = %.2f kV or %.2f kV\"%(Vs3a,Vs3b)\n",
    "\n",
    "#Answer may vary due to round off error"
   ]
  },
  {
   "cell_type": "markdown",
   "metadata": {},
   "source": [
    "## Example 5.6.3 pgno:174"
   ]
  },
  {
   "cell_type": "code",
   "execution_count": 2,
   "metadata": {
    "collapsed": false
   },
   "outputs": [
    {
     "name": "stdout",
     "output_type": "stream",
     "text": [
      "Part (a): based on equation 5.14\n",
      "Breakdown voltage = 27.018 kV or 45.030 kV\n",
      "\n",
      " Part (b):According to eqution 5.13\n",
      "Breakdown voltage = 27.700 V or 45.710 kV\n",
      "\n",
      " Part (c):According to criteria expressed by Equations 5.4 and 5.5\n",
      "Breakdown voltage = 27.700 kV or 45.500 kV\n"
     ]
    }
   ],
   "source": [
    "#Calculate breakdown voltage at atm pressure 3 and 5\n",
    "\n",
    "#(a)Based on equation 5.14\n",
    "p = 101.3 # kPa\n",
    "Ep = 2400.4/0.027\n",
    "E = p*Ep\n",
    "d = 1*10**-3 # 1 mm\n",
    "Vs13 = E*d*3 # at 3 atm\n",
    "Vs15 = E*d*5 # at 5 atm\n",
    "print\"Part (a): based on equation 5.14\"\n",
    "print\"Breakdown voltage = %.3f kV or %.3f kV\"%(Vs13*10**-3,round(Vs15*10**-3,2))\n",
    "\n",
    "#(b)According to eqution 5.13\n",
    "p = 101.3 # kPa\n",
    "Cp3 = Ep*0.027*p*3 # at 3 atm\n",
    "Vs23 = (18.42 + (Cp3*10**-3))/0.027\n",
    "Cp5 = Ep*0.027*p*5 # at 5 atm\n",
    "Vs25 = (18.42 + (Cp5*10**-3))/0.027\n",
    "print\"\\n Part (b):According to eqution 5.13\"\n",
    "print\"Breakdown voltage = %.3f V or %.3f kV\"%(Vs23*10**-3,round(Vs25*10**-3,2))\n",
    "\n",
    "#(b)According to criteria expressed by Equations 5.4 and 5.5\n",
    "p = 101.3 # kPa\n",
    "Vs3a = 27.73 # at 3 atm\n",
    "Vs3b = 45.5 # at 5 atm\n",
    "print\"\\n Part (c):According to criteria expressed by Equations 5.4 and 5.5\"\n",
    "print\"Breakdown voltage = %.3f kV or %.3f kV\"%(round(Vs3a,1),round(Vs3b,1))\n",
    "\n",
    "#Answer may vary due to round off error"
   ]
  },
  {
   "cell_type": "markdown",
   "metadata": {},
   "source": [
    "## Example 5.6.8 pgno:179"
   ]
  },
  {
   "cell_type": "code",
   "execution_count": 3,
   "metadata": {
    "collapsed": false
   },
   "outputs": [
    {
     "name": "stdout",
     "output_type": "stream",
     "text": [
      "E0 =  kVpeak/cm 39.0\n",
      "\n",
      " Part (a)\n",
      "The postive corona = 241.80 kVpeak\n",
      "The negative corona = 171.00 kV\n",
      "\n",
      " Part (b)\n",
      "The postive corona = 324.48 kVpeak\n",
      "The negative corona = 228.80 kV\n",
      "\n",
      " Part (c)\n",
      "The postive corona = 388.83 kVpeak\n",
      "The negative corona = 274.20 kV\n",
      "\n",
      " Part (d)\n",
      "The postive corona = 459.81 kVpeak\n",
      "The negative corona = 324.20 kV\n",
      "\n",
      " Part (d)\n",
      "The postive corona = 474.24 kVpeak\n",
      "The negative corona = 334.40 kV\n"
     ]
    }
   ],
   "source": [
    "#Calculate corona onset voltage\n",
    "\n",
    "s = 4 # cm\n",
    "r = 1 # cm\n",
    "D = 5*10**2 # cm\n",
    "dt = 1\n",
    "E0 = 30*dt*(1 + 0.3*(dt*r)**0.5)\n",
    "print\"E0 =  kVpeak/cm\",E0\n",
    "#using equations (5.18), the positive and negative corona\n",
    "En = 27.501 # kVpeak/cm\n",
    "#part a\n",
    "Vp1 = 6.2*E0\n",
    "Vn1 = 6.2*En\n",
    "print\"\\n Part (a)\"\n",
    "print\"The postive corona = %.2f kVpeak\"%Vp1\n",
    "print\"The negative corona = %.2f kV\"%round(Vn1)\n",
    "#part b\n",
    "Vp2 = 8.32*E0\n",
    "Vn2 = 8.32*En\n",
    "print\"\\n Part (b)\"\n",
    "print\"The postive corona = %.2f kVpeak\"%Vp2\n",
    "print\"The negative corona = %.2f kV\"%round(Vn2,1)\n",
    "#part c\n",
    "Vp3 = 9.97*E0\n",
    "Vn3 = 9.97*En\n",
    "print\"\\n Part (c)\"\n",
    "print\"The postive corona = %.2f kVpeak\"%Vp3\n",
    "print\"The negative corona = %.2f kV\"%round(Vn3,1)\n",
    "#part d\n",
    "Vp4 = 11.79*E0\n",
    "Vn4 = 11.79*En\n",
    "print\"\\n Part (d)\"\n",
    "print\"The postive corona = %.2f kVpeak\"%Vp4\n",
    "print\"The negative corona = %.2f kV\"%round(Vn4,1)\n",
    "#part e\n",
    "Vp5 = 12.16*E0\n",
    "Vn5 = 12.16*En\n",
    "print\"\\n Part (d)\"\n",
    "print\"The postive corona = %.2f kVpeak\"%Vp5\n",
    "print\"The negative corona = %.2f kV\"%round(Vn5,1)\n",
    "\n",
    "#Answer CONSIDERABLY vary due to round off error."
   ]
  },
  {
   "cell_type": "markdown",
   "metadata": {},
   "source": [
    "## Example 5.6.9 pgno:180"
   ]
  },
  {
   "cell_type": "code",
   "execution_count": 4,
   "metadata": {
    "collapsed": false
   },
   "outputs": [
    {
     "name": "stdout",
     "output_type": "stream",
     "text": [
      "Mean geometric distance between the conductors 6 m\n",
      "E0 = 39 kVpeak/cm\n",
      "V0peak = 249.5 kVpeak\n",
      "V0 = 175.90 kV\n"
     ]
    }
   ],
   "source": [
    "#Calculate corona onset voltage\n",
    "from math import log\n",
    "\n",
    "t = 5*5*8.66 # the three side of the trangle in m\n",
    "Deq = 6.004626#nthroot(t,3) \n",
    "dt = 1 #delta = 1 at standard temperature and pressure\n",
    "r = 1 #radius of the conductor\n",
    "En = 27.501 # kVpeak/cm\n",
    "E0 = 30*dt*(1. + 0.3*(dt*r)**0.5)\n",
    "V0peak = E0*log(Deq*10**2)\n",
    "V0 = En*log(Deq*10**2)\n",
    "\n",
    "print\"Mean geometric distance between the conductors %d m\"%Deq\n",
    "print\"E0 = %d kVpeak/cm\"%E0\n",
    "print\"V0peak = %.1f kVpeak\"%V0peak\n",
    "print\"V0 = %.2f kV\"%round(V0,1)\n",
    "\n",
    "#Answers may vary due to round off error"
   ]
  },
  {
   "cell_type": "markdown",
   "metadata": {},
   "source": [
    "## Example 5.6.10 pgno:180"
   ]
  },
  {
   "cell_type": "code",
   "execution_count": 5,
   "metadata": {
    "collapsed": false
   },
   "outputs": [
    {
     "name": "stdout",
     "output_type": "stream",
     "text": [
      "Reative air density = 0.955\n",
      "Corona onset field = 32.364 kVpeak/cm\n",
      "V0peak = 207.055207 kVpeak\n",
      "V0 = 175.943158 kV\n",
      "Ration of V0 = 1.563 \n",
      "Corona power loss Pc = 6.520 kW/km\n",
      "Corona current = 41.100 mA/Km\n"
     ]
    }
   ],
   "source": [
    "#Calculate corona power loss\n",
    "from math import log\n",
    "\n",
    "p = 75. # pressure\n",
    "t = 35. # temprature\n",
    "m1 = 0.92\n",
    "m2 = 0.95\n",
    "Deq = 6.004626 #nthroot(t,3) \n",
    "dt = (3.92*p)/(273+t) #Relative air density\n",
    "E0 = 30.*dt*(1. + 0.3*(dt)**0.5)*m1*m2\n",
    "En = 27.501 # kVpeak/cm\n",
    "Vph = (275.*10**3)/3**0.5\n",
    "V0peak = E0*log(Deq*10**2)\n",
    "V0 = En*log(Deq*10**2)\n",
    "V0ratio = 275./V0\n",
    "print\"Reative air density = %.3f\"%dt\n",
    "print\"Corona onset field = %.3f kVpeak/cm\"%E0\n",
    "print\"V0peak = %f kVpeak\"%V0peak\n",
    "print\"V0 = %f kV\"%V0\n",
    "print\"Ration of V0 = %.3f \"%V0ratio\n",
    "K = 0.05 # K factor\n",
    "Pc = (3.73*K*50*Vph**2)/(Deq*10**2)**2\n",
    "Cc = Pc*10**3/Vph\n",
    "print\"Corona power loss Pc = %.3f kW/km\"%(Pc*10**-5)\n",
    "print\"Corona current = %.3f mA/Km\"%round(Cc*10**-2,1)\n",
    "\n",
    "#Answer vary due to round off error\n",
    "#Some of the answers provided in the textbook are wrong"
   ]
  },
  {
   "cell_type": "markdown",
   "metadata": {},
   "source": [
    "## Example 5.6.11 pgno:180"
   ]
  },
  {
   "cell_type": "code",
   "execution_count": 6,
   "metadata": {
    "collapsed": false
   },
   "outputs": [
    {
     "name": "stdout",
     "output_type": "stream",
     "text": [
      "E0 = 28.4 kVpeak/cm or 20 kV/cm\n",
      "V0 = 426 kV\n",
      "V0 (line to line) = 737.8 kV\n",
      "Voltage (line to line) = 1312.5 kV\n",
      "Envelope radius = 5 cm\n"
     ]
    }
   ],
   "source": [
    "#Calculate corona onset voltage and effective corona envelope\n",
    "from math import log\n",
    "\n",
    "#(a) corona onset voltage\n",
    "r = 3.175 # cm\n",
    "h = 13 # m\n",
    "m= 0.9 # m1 and m2\n",
    "dt = 1 # Relative air density\n",
    "E0 = 30*dt*(1 + 0.3/(r)**0.5)*m*m\n",
    "V0 = 20*r*log(2*h*10**2/r)\n",
    "print\"E0 = %.1f kVpeak/cm or 20 kV/cm\"%E0\n",
    "print\"V0 = %.0f kV\"%V0\n",
    "print\"V0 (line to line) = %.1f kV\"%round(V0*(3)**0.5,1)\n",
    "\n",
    "#(b)Corona envelope at 2.5 p.u\n",
    "V = 2.5*525 # line to line voltage * 2.5\n",
    "print\"Voltage (line to line) = %.1f kV\"%V\n",
    "#Solving the equations in trail and error method\n",
    "print\"Envelope radius = 5 cm\"\n",
    "\n",
    "# Answers may vary due to round off error."
   ]
  }
 ],
 "metadata": {
  "kernelspec": {
   "display_name": "Python 2",
   "language": "python",
   "name": "python2"
  },
  "language_info": {
   "codemirror_mode": {
    "name": "ipython",
    "version": 2
   },
   "file_extension": ".py",
   "mimetype": "text/x-python",
   "name": "python",
   "nbconvert_exporter": "python",
   "pygments_lexer": "ipython2",
   "version": "2.7.10"
  }
 },
 "nbformat": 4,
 "nbformat_minor": 0
}
