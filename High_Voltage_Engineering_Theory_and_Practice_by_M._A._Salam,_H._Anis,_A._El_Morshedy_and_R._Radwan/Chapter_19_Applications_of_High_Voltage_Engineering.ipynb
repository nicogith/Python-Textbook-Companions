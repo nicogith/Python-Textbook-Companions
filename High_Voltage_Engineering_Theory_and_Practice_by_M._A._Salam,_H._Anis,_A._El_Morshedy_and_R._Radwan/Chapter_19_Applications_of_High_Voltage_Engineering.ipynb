{
 "cells": [
  {
   "cell_type": "markdown",
   "metadata": {},
   "source": [
    "# Chapter 19 Applications of High Voltage Engineering in Industries "
   ]
  },
  {
   "cell_type": "markdown",
   "metadata": {},
   "source": [
    "## Example 19.18.1 pgno:665"
   ]
  },
  {
   "cell_type": "code",
   "execution_count": 1,
   "metadata": {
    "collapsed": false
   },
   "outputs": [
    {
     "name": "stdout",
     "output_type": "stream",
     "text": [
      "\n",
      "The seperation between the particles = 1.633 m\n"
     ]
    }
   ],
   "source": [
    "#Determine the sepration between the particles\n",
    "\n",
    "# Based on the equations 19.6, 19.7, 19.8, 19.9 and 19.10\n",
    "E = 8*10**5 # V/m\n",
    "qm = 10*10**-6 # C/kg, qm = q/m\n",
    "y = -1 # m\n",
    "t = (1*2/9.8)\n",
    "x = 1./2.*qm*E*t\n",
    "print\"\\nThe seperation between the particles = %.3f m\"%round(2*x,3)\n",
    "\n",
    "# Answers may vary due to round off error"
   ]
  },
  {
   "cell_type": "markdown",
   "metadata": {},
   "source": [
    "## Example 19.18.2 pgno:667"
   ]
  },
  {
   "cell_type": "code",
   "execution_count": 2,
   "metadata": {
    "collapsed": false
   },
   "outputs": [
    {
     "name": "stdout",
     "output_type": "stream",
     "text": [
      "\n",
      " The pumping pressure P = 900 N/m**2\n"
     ]
    }
   ],
   "source": [
    "#Determine the pumping pressure\n",
    "\n",
    "p0 = 30*10**-3 # C/m**3\n",
    "V = 30*10**3 # V\n",
    "P = p0*V\n",
    "print\"\\n The pumping pressure P = %d N/m**2\"%P\n",
    "# Answers may vary due to round off error"
   ]
  },
  {
   "cell_type": "markdown",
   "metadata": {},
   "source": [
    "## Example 19.18.4 pgno:670"
   ]
  },
  {
   "cell_type": "code",
   "execution_count": 3,
   "metadata": {
    "collapsed": false
   },
   "outputs": [
    {
     "name": "stdout",
     "output_type": "stream",
     "text": [
      "\n",
      " The vertical displacement of the drop = 2.9e-03 m\n"
     ]
    }
   ],
   "source": [
    "#Determine the vertical displacement of the drop\n",
    "from math import pi\n",
    "\n",
    "d = 0.03*10**-3 # m\n",
    "p = 2000 # kg/m**3\n",
    "q = 100*10**-15 # C\n",
    "V0 = 3500. # V\n",
    "d2 = 2*10**-3 # m\n",
    "L1 = 15*10**-3 # m\n",
    "L2 = 12*10**-3 # m\n",
    "Vz = 25. # m/s\n",
    "\n",
    "m = 4./3.*pi*(1./2.*d)**3*p\n",
    "t0 = L1/Vz\n",
    "Vx0 = q*V0*t0/(m*d2)\n",
    "x0 = 1./2.*Vx0*t0\n",
    "t1 = (L1+L2)/Vz\n",
    "x1 = x0+Vx0*(t1-t0)\n",
    "print\"\\n The vertical displacement of the drop = %.1e m\"%round(x1,4)\n",
    " \n",
    "# Answers may vary due to round off error"
   ]
  },
  {
   "cell_type": "markdown",
   "metadata": {},
   "source": [
    "## Example 19.18.5 pgno672"
   ]
  },
  {
   "cell_type": "code",
   "execution_count": 4,
   "metadata": {
    "collapsed": false
   },
   "outputs": [
    {
     "name": "stdout",
     "output_type": "stream",
     "text": [
      "\n",
      " Ea = 9e+05 V/m\n",
      "\n",
      " Eb = 3e+05 V/m\n",
      "\n",
      " Charge density = 2.66 micro C/m**2\n"
     ]
    }
   ],
   "source": [
    "#Determine the electric stress and charge density\n",
    "\n",
    "a = 25*10**-6 # m\n",
    "b = 75*10**-6 # m\n",
    "Er = 2.8\n",
    "ps = 25*10**-6 # C/m**3\n",
    "E0 = 8.84*10**-12\n",
    "\n",
    "Ea = (b*ps)/(ps*E0+b*Er*E0)\n",
    "Eb = (a*ps)/(ps*E0+b*Er*E0) # the negative noation is removed to obtain positive answer as in the book \n",
    "psc = E0*Eb\n",
    "\n",
    "print\"\\n Ea = %.0e V/m\"%Ea\n",
    "print\"\\n Eb = %.0e V/m\"%Eb\n",
    "print\"\\n Charge density = %.2f micro C/m**2\"%(psc/10**-6)\n",
    "\n",
    "# Answers may vary due to round off error"
   ]
  },
  {
   "cell_type": "markdown",
   "metadata": {},
   "source": [
    "## Example 19.18.6 pgno:675"
   ]
  },
  {
   "cell_type": "code",
   "execution_count": 5,
   "metadata": {
    "collapsed": false
   },
   "outputs": [
    {
     "name": "stdout",
     "output_type": "stream",
     "text": [
      "\n",
      " Current density = 5.30e-08 A/m**2\n"
     ]
    }
   ],
   "source": [
    "#Determine the current density\n",
    "\n",
    "E0 = 8.84*10**-12\n",
    "Us = 1.5*10**-3*10**-4\n",
    "V = 100\n",
    "d3 = 10**-6 # d**3\n",
    "J = 4*E0*Us*V**2/d3\n",
    "print\"\\n Current density = %.2e A/m**2\"%J\n",
    "\n",
    "# Answer may vary due to round off error"
   ]
  },
  {
   "cell_type": "markdown",
   "metadata": {},
   "source": [
    "## Example 19.18.7 pgno:676"
   ]
  },
  {
   "cell_type": "code",
   "execution_count": 6,
   "metadata": {
    "collapsed": false
   },
   "outputs": [
    {
     "name": "stdout",
     "output_type": "stream",
     "text": [
      "\n",
      " Thickness of the dust layer = 1.77 mm\n"
     ]
    }
   ],
   "source": [
    "#Determine the thickness of dust layer\n",
    "\n",
    "Edb = 3*10**6\n",
    "E0 = 8.84*10**-12\n",
    "p0 = 15*10**-3\n",
    "d = Edb*E0/p0\n",
    "print\"\\n Thickness of the dust layer = %.2f mm\"%round(d*1000,5)\n",
    "\n",
    "# Answers may vary due to round off errors"
   ]
  },
  {
   "cell_type": "markdown",
   "metadata": {},
   "source": [
    "## Example 19.18.8 pgno:676"
   ]
  },
  {
   "cell_type": "code",
   "execution_count": 7,
   "metadata": {
    "collapsed": false
   },
   "outputs": [
    {
     "name": "stdout",
     "output_type": "stream",
     "text": [
      "\n",
      " Ion velocity = 7.1e+04 m/s\n",
      "\n",
      " Populsion force = 1.9715e-02 N\n"
     ]
    }
   ],
   "source": [
    "#Determine the velocity of the ejected ions and propolsion force\n",
    "from math import sqrt\n",
    "\n",
    "mi = 133*1.67*10**-27 # kg\n",
    "qi = 1.6*10**-19 # C\n",
    "Va = 3500 # V\n",
    "I = 0.2 # A\n",
    "vi = sqrt(2*qi*Va/mi)\n",
    "F = vi*mi*I/qi\n",
    "print\"\\n Ion velocity = %.1e m/s\"%vi\n",
    "print\"\\n Populsion force = %.4e N\"%F\n",
    "\n",
    "# Answers may vary due to round off errors"
   ]
  },
  {
   "cell_type": "markdown",
   "metadata": {},
   "source": [
    "## Example 19.18.9 pgno:667"
   ]
  },
  {
   "cell_type": "code",
   "execution_count": 8,
   "metadata": {
    "collapsed": false
   },
   "outputs": [
    {
     "name": "stdout",
     "output_type": "stream",
     "text": [
      "\n",
      " Velocity = 2 m/s2\n",
      "\n",
      " Position of the particle = 0.24 m\n"
     ]
    }
   ],
   "source": [
    "#Determine the position of the particle \n",
    "from math import sqrt\n",
    "\n",
    "V = 120*10**3 # applied voltage in V\n",
    "d = 0.6 #  space b/w the plates in m\n",
    "vd = 1.2 # vertical dimention in m \n",
    "qm = 10*10**-6 # charge to mass C/kg \n",
    "y = 4.9\n",
    "\n",
    "t0 = sqrt(vd/y)\n",
    "# based on eq 19.51 and 19.52\n",
    "dx2 = qm*V/d\n",
    "x = t0**2\n",
    "print\"\\n Velocity = %d m/s2\"%dx2\n",
    "print\"\\n Position of the particle = %.2f m\"%round(x,2)\n",
    "\n",
    "# Answer may vary due to round off error"
   ]
  },
  {
   "cell_type": "markdown",
   "metadata": {},
   "source": [
    "## Example 19.18.10 pgno:679"
   ]
  },
  {
   "cell_type": "code",
   "execution_count": 9,
   "metadata": {
    "collapsed": false
   },
   "outputs": [
    {
     "name": "stdout",
     "output_type": "stream",
     "text": [
      "\n",
      " The minimum voltage required for gnerating drops witha charge of 50 pC per drop = 11.81 kV\n"
     ]
    }
   ],
   "source": [
    "#Determine the minimum voltage required for gnerating drops witha charge of 50 pC per drop\n",
    "from math import pi,log\n",
    "\n",
    "q = 50*10**-12\n",
    "a = 25*10**-6\n",
    "b = 750*10**-6\n",
    "E0 = 8.84*10**-12\n",
    "r = 50*10**-6 \n",
    "V = (3.*q*b**2*log(b/a))/(7.*pi*E0*r**3)\n",
    "print\"\\n The minimum voltage required for gnerating drops witha charge of 50 pC per drop = %.2f kV\"%round(V*10**-6,2)\n",
    "\n",
    "# Answers may vary due to round off error"
   ]
  }
 ],
 "metadata": {
  "kernelspec": {
   "display_name": "Python 2",
   "language": "python",
   "name": "python2"
  },
  "language_info": {
   "codemirror_mode": {
    "name": "ipython",
    "version": 2
   },
   "file_extension": ".py",
   "mimetype": "text/x-python",
   "name": "python",
   "nbconvert_exporter": "python",
   "pygments_lexer": "ipython2",
   "version": "2.7.10"
  }
 },
 "nbformat": 4,
 "nbformat_minor": 0
}
