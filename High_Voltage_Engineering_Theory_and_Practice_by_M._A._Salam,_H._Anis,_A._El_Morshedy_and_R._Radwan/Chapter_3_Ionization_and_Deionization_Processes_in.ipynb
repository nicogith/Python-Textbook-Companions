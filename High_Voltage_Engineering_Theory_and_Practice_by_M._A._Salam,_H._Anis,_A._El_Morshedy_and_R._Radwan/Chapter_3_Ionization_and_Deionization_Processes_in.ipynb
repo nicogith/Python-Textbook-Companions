{
 "cells": [
  {
   "cell_type": "markdown",
   "metadata": {},
   "source": [
    "# Chapter 3 Ionization and Deionization Processes in gases"
   ]
  },
  {
   "cell_type": "markdown",
   "metadata": {},
   "source": [
    "## Exa 3.7.1 pg.no:103"
   ]
  },
  {
   "cell_type": "code",
   "execution_count": 1,
   "metadata": {
    "collapsed": false
   },
   "outputs": [
    {
     "name": "stdout",
     "output_type": "stream",
     "text": [
      "speed of oxygen molecule 483.561010 m/s\n"
     ]
    }
   ],
   "source": [
    "#speed of air molecules\n",
    "from math import sqrt\n",
    "\n",
    "# given data\n",
    "R=8314.;             # gas constant in J/kg . mol .K\n",
    "T=300.;              # temperature 27 deg C, 27+293=300K\n",
    "M=32.;               # oxygen is diatomic\n",
    "v = sqrt(3*R*(T/M));\n",
    "print \"speed of oxygen molecule %f m/s\" %v\n",
    "# Note: Value of R is given wrong in book\n",
    "# So answer in the book is wrong"
   ]
  },
  {
   "cell_type": "markdown",
   "metadata": {},
   "source": [
    "## Exa 3.7.2 pg.no:104"
   ]
  },
  {
   "cell_type": "code",
   "execution_count": 2,
   "metadata": {
    "collapsed": false
   },
   "outputs": [
    {
     "name": "stdout",
     "output_type": "stream",
     "text": [
      "volume of gas 1.533151e-03 mˆ3 \n",
      "total translational kinetic energy is 154.848250 J \n"
     ]
    }
   ],
   "source": [
    "#total translational KE\n",
    "# given data\n",
    "R=8314;              # gas constant in J/kg . mol .K\n",
    "T=298;               #in kelvin\n",
    "M=32;                # oxygen is diatomic\n",
    "m=2*10**-3;          # in kg\n",
    "p=1.01*10**5;        # 1 atm=1.01∗10ˆ5 N/m2\n",
    "G = (m*R*T)/(M*p);   #volume of gas\n",
    "x=(3/2)*p;           #no. of molecules per unit volume where x=N∗0.5∗m∗vˆ2 is given as (3/2)∗p)\n",
    "print\"volume of gas %e mˆ3 \"%G\n",
    "KE = x*G;            #total translational kinetic energy\n",
    "print\"total translational kinetic energy is %f J \"%KE\n",
    "# Note: Value of G is calculated in book is wrong"
   ]
  },
  {
   "cell_type": "markdown",
   "metadata": {},
   "source": [
    "## Exa 3.7.3 pg.no:104"
   ]
  },
  {
   "cell_type": "code",
   "execution_count": 3,
   "metadata": {
    "collapsed": false
   },
   "outputs": [
    {
     "name": "stdout",
     "output_type": "stream",
     "text": [
      "no . of molecules 2.753546e+19\n",
      "max pressure in chamber 0.117735 N/m2\n"
     ]
    }
   ],
   "source": [
    "#max pressure in chamber\n",
    "from math import pi\n",
    "\n",
    "# given data\n",
    "R=8314;           # gas constant in J/kg . mol .K\n",
    "T=300;            # temperature 27 deg C, 27+293=300K\n",
    "me=0.10;          #mean free path in meters\n",
    "rm=1.7*10**-10    #molecular radius in angstrom\n",
    "M=28 #im moleˆ−1\n",
    "m0=4.8*10**-26     #mass of nitrogen molecule\n",
    "N = 1/(4*pi*((rm)**2)*me); # no. of molecules in gas\n",
    "print\"no . of molecules %e\"%N \n",
    "p = ((N*m0)/M)*R*T; # max pressure in chamber in N/ m2\n",
    "print\"max pressure in chamber %f N/m2\"%p\n",
    "# Note: Calculation in the book is wrong So answer in the book is wrong"
   ]
  },
  {
   "cell_type": "markdown",
   "metadata": {},
   "source": [
    "## Exa 3.7.4 pg.no:105"
   ]
  },
  {
   "cell_type": "code",
   "execution_count": 4,
   "metadata": {
    "collapsed": false
   },
   "outputs": [
    {
     "name": "stdout",
     "output_type": "stream",
     "text": [
      "temperature 7.729469e+03 K\n"
     ]
    }
   ],
   "source": [
    "#temperature at which avg KE of He atoms in gas become 1 eV\n",
    "# given data\n",
    "v = 1.6*10**-19; # avg kinetic energy in j\n",
    "k = 1.38*10**-23 #boltzmann constant in J/K\n",
    "T = (2*v)/(3*k);\n",
    "print \"temperature %e K\"%T"
   ]
  },
  {
   "cell_type": "markdown",
   "metadata": {},
   "source": [
    "## Exa 3.7.5 pg.no:105"
   ]
  },
  {
   "cell_type": "code",
   "execution_count": 5,
   "metadata": {
    "collapsed": false
   },
   "outputs": [
    {
     "name": "stdout",
     "output_type": "stream",
     "text": [
      "volume of 1kg of helium is 11.147071 mˆ3\n"
     ]
    }
   ],
   "source": [
    "#volume of 1 kg of He\n",
    "# given data\n",
    "m = 1;          #in kg\n",
    "M=2.016;        #molecular weight of helium\n",
    "k =8314         # gas constant in J/kg \n",
    "p = 1.01*10**5;\n",
    "T = 273;        # in kelvin\n",
    "G = m*k*T/(M*p);#volume of 1kg of helium in mˆ3\n",
    "print\"volume of 1kg of helium is %f mˆ3\"%G"
   ]
  },
  {
   "cell_type": "markdown",
   "metadata": {},
   "source": [
    "## Exa 3.7.6 pg.no:105"
   ]
  },
  {
   "cell_type": "code",
   "execution_count": 6,
   "metadata": {
    "collapsed": false
   },
   "outputs": [
    {
     "name": "stdout",
     "output_type": "stream",
     "text": [
      "density of ions at distance equal to the mean free path 0.37 n0\n",
      "density of ions at distance equal to five times the mean free path 0.0067 n0\n"
     ]
    }
   ],
   "source": [
    "#density of ions at dist equal to mfp and five times mfp\n",
    "from math import exp\n",
    "\n",
    "# given data\n",
    "z1=-1;         #ion at a distance equal to mean free path , −x=mfp\n",
    "z2=-5;         #ion at a distance equal to five times the mean f r e e path , −x=5mfp\n",
    "#n0 is the density of ions at the origin\n",
    "n1 = exp(z1);  #density of ions at distance equal to the mean free path\n",
    "n2 = exp(z2);  #density of ions at distance equal to five times the mean free path\n",
    "print\"density of ions at distance equal to the mean free path %0.2f n0\"%n1\n",
    "print\"density of ions at distance equal to five times the mean free path %0.4f n0\"%n2"
   ]
  },
  {
   "cell_type": "markdown",
   "metadata": {},
   "source": [
    "## Exa 3.7.7 pg.no:105"
   ]
  },
  {
   "cell_type": "code",
   "execution_count": 7,
   "metadata": {
    "collapsed": false
   },
   "outputs": [
    {
     "name": "stdout",
     "output_type": "stream",
     "text": [
      "mean square velosity of helium atoms 1305 m/s\n"
     ]
    }
   ],
   "source": [
    "#mean square velocity of He atoms\n",
    "from math import sqrt\n",
    "\n",
    "# given data\n",
    "N = 178*10**-3     #gas density in kg/mˆ3\n",
    "p = 1.01*10**5     # pressure\n",
    "v = sqrt((3*p)/N); #mean square velosity of helium atoms\n",
    "print\"mean square velosity of helium atoms %d m/s\"%round(v)"
   ]
  },
  {
   "cell_type": "markdown",
   "metadata": {},
   "source": [
    "## Exa 3.7.8 pg.no:106"
   ]
  },
  {
   "cell_type": "code",
   "execution_count": 8,
   "metadata": {
    "collapsed": false
   },
   "outputs": [
    {
     "name": "stdout",
     "output_type": "stream",
     "text": [
      "energy of free electron 3.79 eV\n"
     ]
    }
   ],
   "source": [
    "#energy of free electrons\n",
    "# given data\n",
    "k =1.38e-21;     #boltzmanns constant\n",
    "T = 293;         # temperature in K\n",
    "e = 1.6*10** -19;\n",
    "E =(1.5*k*T)/e;\n",
    "print\"energy of free electron %.2f eV\"%E"
   ]
  },
  {
   "cell_type": "markdown",
   "metadata": {},
   "source": [
    "## Exa 3.7.9 pg.no:106"
   ]
  },
  {
   "cell_type": "code",
   "execution_count": 18,
   "metadata": {
    "collapsed": false
   },
   "outputs": [
    {
     "name": "stdout",
     "output_type": "stream",
     "text": [
      "no . of atoms 4.516800e+22 /cmˆ3 \n",
      "avg vokume occupied by one atom 2.213957e-23 cmˆ3\n",
      "avg seperation between atoms 2.807952e-08 cm\n"
     ]
    }
   ],
   "source": [
    "#avg separation of atoms and avg vol occupied by one atom\n",
    "from math import pow\n",
    "\n",
    "# given data\n",
    "d = 0.075;            #density of solid atomic hydrogen in g/cmˆ3\n",
    "N_A = 6.0224e23;      #1g of H consists of NA atoms\n",
    "N = N_A*d;             # number of atoms/cmˆ3\n",
    "print \"no . of atoms %e /cmˆ3 \"%N\n",
    "x = 1/N;              #avg volume occupied by one atom in cmˆ3\n",
    "y = pow(x,(1./3));        #avg seperation between atoms in cm\n",
    "print \"avg vokume occupied by one atom %e cmˆ3\"%x\n",
    "print \"avg seperation between atoms %e cm\"%y\n",
    "\n",
    "#answers may vary due to round off errors"
   ]
  },
  {
   "cell_type": "markdown",
   "metadata": {},
   "source": [
    "## Exa 3.7.10 pg.no:106"
   ]
  },
  {
   "cell_type": "code",
   "execution_count": 10,
   "metadata": {
    "collapsed": false
   },
   "outputs": [
    {
     "name": "stdout",
     "output_type": "stream",
     "text": [
      "photon enegy 62.250000 eV\n",
      "kinetic energy of photoelectron 48.650000 ev\n",
      " velosity of photoelectron 4.133874e+06 m/s\n"
     ]
    }
   ],
   "source": [
    "#KE in eV and velocity of phototelectron\n",
    "from math import sqrt\n",
    "\n",
    "# given data\n",
    "l=200*10**-10;# wavelength in angstrom\n",
    "h=4.15*10**-15;#planks constant\n",
    "c=3*10**8;#speed of light\n",
    "me=9.11*10**-31;\n",
    "BE=13.6;#binding energy in eV\n",
    "PE=(h*c)/l;# in eV\n",
    "print\"photon enegy %f eV\"%PE\n",
    "KE = PE-BE;#in eV\n",
    "print\"kinetic energy of photoelectron %f ev\"%KE\n",
    "ve=sqrt((2*KE*1.6*10**-19)/me);\n",
    "print\" velosity of photoelectron %e m/s\"%ve"
   ]
  },
  {
   "cell_type": "markdown",
   "metadata": {},
   "source": [
    "## Exa 3.7.11 pg.no:107"
   ]
  },
  {
   "cell_type": "code",
   "execution_count": 11,
   "metadata": {
    "collapsed": false
   },
   "outputs": [
    {
     "name": "stdout",
     "output_type": "stream",
     "text": [
      "absorption coefficient 0.0896 cmˆ−1\n"
     ]
    }
   ],
   "source": [
    "#liquid photon absorption coefficient\n",
    "from math import log\n",
    "\n",
    "# given data\n",
    "I = 1.;\n",
    "I0 = 6.;\n",
    "x=20;      #in cm\n",
    "u = -(1./x)*log(I/I0);\n",
    "print\"absorption coefficient %.4f cmˆ−1\"%u"
   ]
  },
  {
   "cell_type": "markdown",
   "metadata": {},
   "source": [
    "## Exa 3.7.12 pg.no:107"
   ]
  },
  {
   "cell_type": "code",
   "execution_count": 12,
   "metadata": {
    "collapsed": false
   },
   "outputs": [
    {
     "name": "stdout",
     "output_type": "stream",
     "text": [
      "binding energy of gas 12.450000 eV\n"
     ]
    }
   ],
   "source": [
    "#binding energy of the gas\n",
    "# given data\n",
    "c=3*10**8;\n",
    "h=4.15*10**-15;\n",
    "lmax =1000*10** -10;\n",
    "We=(c*h)/lmax;\n",
    "print\"binding energy of gas %f eV\"%We"
   ]
  },
  {
   "cell_type": "markdown",
   "metadata": {},
   "source": [
    "## Exa 3.7.14 pg.no:108"
   ]
  },
  {
   "cell_type": "code",
   "execution_count": 13,
   "metadata": {
    "collapsed": false
   },
   "outputs": [
    {
     "name": "stdout",
     "output_type": "stream",
     "text": [
      "no of gas molecules 3.527492e+22 atoms/mˆ3\n",
      "diameter of argon atom 2.769501e-10 m\n"
     ]
    }
   ],
   "source": [
    "#diameter of the argon atom\n",
    "from math import sqrt,pi\n",
    "\n",
    "# given data\n",
    "p=1.01*10**5/760;# 1 torr in N/m2\n",
    "k=1.38*10**-23;\n",
    "T=273; # in Kelvin\n",
    "n=85*10**2;#no of collisions per meter\n",
    "N=p/(k*T);\n",
    "print \"no of gas molecules %e atoms/mˆ3\"%N\n",
    "r_a=sqrt(n/(pi*N*1));\n",
    "print \"diameter of argon atom %e m\"%r_a"
   ]
  },
  {
   "cell_type": "markdown",
   "metadata": {},
   "source": [
    "## Exa 3.7.15 pg.no:109"
   ]
  },
  {
   "cell_type": "code",
   "execution_count": 14,
   "metadata": {
    "collapsed": false
   },
   "outputs": [
    {
     "name": "stdout",
     "output_type": "stream",
     "text": [
      "mobility of electrons 9375.000000 mˆ2/sV\n"
     ]
    }
   ],
   "source": [
    "#mobility of electrons\n",
    "# given data\n",
    "Ie=3;# current flow in amperes\n",
    "A=8*10**-4;#area of the electrodes in mˆ2\n",
    "V=20;#voltage across the electrodes\n",
    "d=0.8;#spacing between the electrodes in meters\n",
    "n_e=1*10**17;#electron density in mˆ−3\n",
    "e=1.6*10**-19;\n",
    "ke=(Ie*d)/(A*V*n_e*e);\n",
    "print\"mobility of electrons %f mˆ2/sV\"%ke"
   ]
  },
  {
   "cell_type": "markdown",
   "metadata": {},
   "source": [
    "## Exa 3.7.17 pg.no:110"
   ]
  },
  {
   "cell_type": "code",
   "execution_count": 15,
   "metadata": {
    "collapsed": false
   },
   "outputs": [
    {
     "name": "stdout",
     "output_type": "stream",
     "text": [
      "ion density 0.02m away 1.91e+09 ions/mˆ3 \n",
      "\n",
      "ion density −0.02m away 5.23e+12 ions/mˆ3 \n",
      "\n"
     ]
    }
   ],
   "source": [
    "#density point 02 m away in both directions at 25 deg C amperes\n",
    "from math import exp\n",
    "\n",
    "# given data\n",
    "E = 5; #electric field in V/m\n",
    "n_o = 10**11; #ion density in ions/m3\n",
    "T = 293; # in kelvin\n",
    "z = 0.02; #distance in meters\n",
    "e = 1.6*10**-19; #in couloumb\n",
    "k = 1.38*10**-23; # in m2 kg s−2 K−1\n",
    "n1 = n_o*exp((-e*E*z)/(k*T));# ion density away \n",
    "n2 = n_o*exp((e*E*z)/(k*T));# ion density away −0.02m\n",
    "print\"ion density 0.02m away %.2e ions/mˆ3 \\n\"%n1\n",
    "print\"ion density −0.02m away %.2e ions/mˆ3 \\n\"%n2"
   ]
  },
  {
   "cell_type": "markdown",
   "metadata": {},
   "source": [
    "## Exa 3.7.18 pg.no:110"
   ]
  },
  {
   "cell_type": "code",
   "execution_count": 16,
   "metadata": {
    "collapsed": false
   },
   "outputs": [
    {
     "name": "stdout",
     "output_type": "stream",
     "text": [
      "diameter before drift 3.03e-05 m \n",
      "\n",
      "diameter after drift 5.515e-03 m \n",
      "\n"
     ]
    }
   ],
   "source": [
    "#diameter of cloud after drifting a distance of point 05\n",
    "from math import sqrt\n",
    "\n",
    "# given data\n",
    "E = 250; #electric field in V/m\n",
    "r1 = 0.3*10**-3#intial diameter of cloud in meters \n",
    "k = 1.38*10**-23;#in m2 kg s−2 K−1\n",
    "T = 293; #in kelvin\n",
    "e = 1.6*10**-19;# in couloumb\n",
    "z = 0.05;#drift distance in meters\n",
    "r = (6*k*T*z)/(e*E);#diameter before drift\n",
    "print\"diameter before drift %.2e m \\n\"%r\n",
    "r2 = sqrt (r1**2 + r );#diamter after drifting a distance\n",
    "print\"diameter after drift %.3e m \\n\"%r2 \n",
    "# round off value calculated for r and r2"
   ]
  },
  {
   "cell_type": "markdown",
   "metadata": {},
   "source": [
    "## Exa 3.7.19 pg.no:111"
   ]
  },
  {
   "cell_type": "code",
   "execution_count": 17,
   "metadata": {
    "collapsed": false
   },
   "outputs": [
    {
     "name": "stdout",
     "output_type": "stream",
     "text": [
      "mean free path of electron in nitrogen 2.22e-04 m\n",
      "ionization potential of nitrogen 28.5 V\n"
     ]
    }
   ],
   "source": [
    "#a mean free path of electrons in nitrogen and b ionization potential of nitrogen\n",
    "# given data\n",
    "a = 9003.;#constant in m−1kPa−1 \n",
    "B = 256584.;#in V/m.kPa\n",
    "p = 0.5;#in kPa\n",
    "M = 1/(a*p);#mean free path in meters\n",
    "print\"mean free path of electron in nitrogen %.2e m\"%M\n",
    "Vi = B/a; #ionization potential of nitrogen\n",
    "print\"ionization potential of nitrogen %.1f V\"%Vi"
   ]
  }
 ],
 "metadata": {
  "kernelspec": {
   "display_name": "Python 2",
   "language": "python",
   "name": "python2"
  },
  "language_info": {
   "codemirror_mode": {
    "name": "ipython",
    "version": 2
   },
   "file_extension": ".py",
   "mimetype": "text/x-python",
   "name": "python",
   "nbconvert_exporter": "python",
   "pygments_lexer": "ipython2",
   "version": "2.7.10"
  }
 },
 "nbformat": 4,
 "nbformat_minor": 0
}
