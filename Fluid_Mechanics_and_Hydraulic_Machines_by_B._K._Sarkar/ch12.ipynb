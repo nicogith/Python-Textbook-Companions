{
 "metadata": {
  "name": "",
  "signature": "sha256:0b5d1bccf0455332d8d5a07c9417496fa58f8299e63a3ce7cb14b721d96c210d"
 },
 "nbformat": 3,
 "nbformat_minor": 0,
 "worksheets": [
  {
   "cells": [
    {
     "cell_type": "heading",
     "level": 1,
     "metadata": {},
     "source": [
      "Chapter 12 : Reaction Turbine"
     ]
    },
    {
     "cell_type": "heading",
     "level": 2,
     "metadata": {},
     "source": [
      "Example 12.1 Page No : 250"
     ]
    },
    {
     "cell_type": "code",
     "collapsed": false,
     "input": [
      "import math \n",
      "\n",
      "# Variables\n",
      "D1 = 0.6\n",
      "D2 = 0.3\n",
      "x2 = 90.\n",
      "B1 = 0.15\n",
      "N = 300./60\n",
      "x1 = 15.\n",
      "Vf1 = 3.\n",
      "\n",
      "# Calculations \n",
      "Vf2 = Vf1\n",
      "u1 = math.pi*D1*N\n",
      "u2 = math.pi*D2*N\n",
      "Vw1 = Vf1/math.tan(math.radians(x1))\n",
      "y1 = math.tan(math.radians(Vf1/(Vw1-u1)))\n",
      "Q = math.pi*D1*B1*Vf1\n",
      "w = 9810\n",
      "g = 9.81\n",
      "P = w*Q*Vw1*u1/(g*1000)\n",
      "\n",
      "# Results \n",
      "print \"blade angles, Power developed in Kw\",round(y1,4),round(P,4)\n"
     ],
     "language": "python",
     "metadata": {},
     "outputs": [
      {
       "output_type": "stream",
       "stream": "stdout",
       "text": [
        "blade angles, Power developed in Kw 0.0296 89.5063\n"
       ]
      }
     ],
     "prompt_number": 1
    },
    {
     "cell_type": "heading",
     "level": 2,
     "metadata": {},
     "source": [
      "Example 12.2 Page No : 251"
     ]
    },
    {
     "cell_type": "code",
     "collapsed": false,
     "input": [
      "\n",
      "# Variables\n",
      "D1 = 1.\n",
      "N = 200./60\n",
      "B1 = 0.15\n",
      "Vf1 = 3.\n",
      "Vf2 = Vf1\n",
      "x2 = 90.\n",
      "\n",
      "# Calculations \n",
      "Q = 3.142*D1*B1*Vf1\n",
      "u1 = 3.142*D1*N\n",
      "Vw1 = u1\n",
      "w = 9810\n",
      "g = 9.81\n",
      "P = (w*Q*Vw1*u1)/(g*1000)\n",
      "H = (Vw1*u1/g)+(Vf2*Vf2/(2*g))\n",
      "nh = Vw1*u1/(g*H)\n",
      "\n",
      "\n",
      "# Results \n",
      "print \"power developed in Kw,hydraulic efficiency\",round(P,3),round((nh*100),0),\"%\"\n"
     ],
     "language": "python",
     "metadata": {},
     "outputs": [
      {
       "output_type": "stream",
       "stream": "stdout",
       "text": [
        "power developed in Kw,hydraulic efficiency 155.092 96.0 %\n"
       ]
      }
     ],
     "prompt_number": 2
    },
    {
     "cell_type": "heading",
     "level": 2,
     "metadata": {},
     "source": [
      "Example 12.3 Page No : 253"
     ]
    },
    {
     "cell_type": "code",
     "collapsed": false,
     "input": [
      "import math \n",
      "\n",
      "# Variables\n",
      "D1 = 0.75\n",
      "D2 = 0.5\n",
      "x1 = 20.\n",
      "Vf1 = 3.\n",
      "Vf2 = 3.\n",
      "B1 = 0.15\n",
      "N = 250./60\n",
      "\n",
      "# Calculations \n",
      "u1 = math.pi*D1*N\n",
      "u2 = math.pi*D2*N\n",
      "Vw1 = Vf1/math.tan(math.radians(x1))\n",
      "y1 = math.degrees(math.atan(Vf1/(u1-Vw1)))\n",
      "y2 = math.degrees(math.atan(Vf2/u2))\n",
      "Q = 3.142*D1*B1*Vf1\n",
      "w = 9810\n",
      "g = 9.81\n",
      "P = w*Q*Vw1*u1/(g*1000)\n",
      "H = (Vw1*u1/g)+(Vf2*Vf2/(2*g))\n",
      "nh = Vw1*u1/(g*H)\n",
      "\n",
      "# Results \n",
      "print \"hydraulic efficiency : %.2f %% \\\n",
      "\\npower developed in Kw : %.2f \\\n",
      "\\nblade angle at inlet and outlet : %.3f and %.3f\"%(nh*100,P,y1,y2)\n",
      "\n",
      "# note : rounding off error."
     ],
     "language": "python",
     "metadata": {},
     "outputs": [
      {
       "output_type": "stream",
       "stream": "stdout",
       "text": [
        "hydraulic efficiency : 94.73 % \n",
        "power developed in Kw : 85.81 \n",
        "blade angle at inlet and outlet : 62.300 and 24.625\n"
       ]
      }
     ],
     "prompt_number": 6
    },
    {
     "cell_type": "heading",
     "level": 2,
     "metadata": {},
     "source": [
      "Example 12.4 Page No : 254"
     ]
    },
    {
     "cell_type": "code",
     "collapsed": false,
     "input": [
      "import math \n",
      "\n",
      "# Variables\n",
      "H = 150.\n",
      "Q = 6.\n",
      "N = 400./60\n",
      "D1 = 1.2\n",
      "x1 = 20.\n",
      "x2 = 90.\n",
      "B1 = 0.1\n",
      "\n",
      "# Calculations \n",
      "u1 = math.pi*D1*N\n",
      "Vf1 = Q/(math.pi*D1*B1)\n",
      "Vw1 = Vf1/math.tan(math.radians(x1))\n",
      "Vw2 = 0\n",
      "w = 9810\n",
      "g = 9.81\n",
      "P = w*Q*Vw1*u1/(g*1000)\n",
      "\n",
      "# Results \n",
      "print \"whirl component at inlet and outlet m/s : %.5f and %d \\\n",
      "\\npower developed in Kw : %.4f\"%(round(Vw1,5),Vw2,round(P,4))\n"
     ],
     "language": "python",
     "metadata": {},
     "outputs": [
      {
       "output_type": "stream",
       "stream": "stdout",
       "text": [
        "whirl component at inlet and outlet m/s : 43.72746 and 0 \n",
        "power developed in Kw : 6593.9458\n"
       ]
      }
     ],
     "prompt_number": 9
    },
    {
     "cell_type": "heading",
     "level": 2,
     "metadata": {},
     "source": [
      "Example 12.5 Page No : 256"
     ]
    },
    {
     "cell_type": "code",
     "collapsed": false,
     "input": [
      "import math \n",
      "\n",
      "# Variables\n",
      "D1 = 0.76\n",
      "D2 = 0.5\n",
      "x1 = 20.\n",
      "Vf1 = 4.\n",
      "Vf2 = Vf1\n",
      "B1 = 0.15\n",
      "N = 300./60\n",
      "\n",
      "# Calculations \n",
      "u1 = math.pi*D1*N\n",
      "u2 = math.pi*D2*N\n",
      "Vw1 = Vf1/math.tan(math.radians(x1))\n",
      "y1 = math.degrees(math.atan(Vf1/(u1-Vw1)))\n",
      "y2 = math.degrees(math.atan(Vf2/u2))\n",
      "Q = 3.142*D1*B1*Vf1\n",
      "w = 9810.\n",
      "g = 9.81\n",
      "P = w*Q*Vw1*u1/(g*1000)\n",
      "\n",
      "# Results \n",
      "print \"blade angle at inlet and outlet : %.2f and %.2f \\\n",
      "\\npower developed in Kw : %.2f\"%(y1,y2,P)\n"
     ],
     "language": "python",
     "metadata": {},
     "outputs": [
      {
       "output_type": "stream",
       "stream": "stdout",
       "text": [
        "blade angle at inlet and outlet : 76.66 and 26.99 \n",
        "power developed in Kw : 187.97\n"
       ]
      }
     ],
     "prompt_number": 13
    },
    {
     "cell_type": "heading",
     "level": 2,
     "metadata": {},
     "source": [
      "Example 12.6 Page No : 257"
     ]
    },
    {
     "cell_type": "code",
     "collapsed": false,
     "input": [
      "import math \n",
      "\n",
      "# Variables\n",
      "no = 0.8\n",
      "P = 147.*1000\n",
      "H = 10.\n",
      "g = 9.81\n",
      "\n",
      "# Calculations \n",
      "u1 = 0.95*(math.sqrt(2*g*H))\n",
      "Vf1 = 0.3*(math.sqrt(2*g*H))\n",
      "N = 160./60\n",
      "Vw2 = 0\n",
      "nh = (H-(0.2*H))/H\n",
      "Vw1 = nh*g*H/u1\n",
      "x1 = math.degrees(math.atan(Vf1/Vw1))\n",
      "y1 = math.degrees(math.atan(Vf1/(u1-Vw1)))\n",
      "D1 = u1/(math.pi*N)\n",
      "w = 9810.\n",
      "p = 147.*1000\n",
      "Q = p/(w*H*no)\n",
      "B1 = Q/(math.pi*D1*Vf1)\n",
      "\n",
      "# Results \n",
      "print \"guide blade angle : %.4f degrees \\\n",
      "\\nwheel vane angle : %.4f degrees \\\n",
      "\\ndiameter of wheel : %.7f m**3/s \\\n",
      "\\nwidth of wheel at inlet in cm : %.2f\"%(x1,y1,D1,B1*100)\n",
      "\n",
      "# note : rounding off error."
     ],
     "language": "python",
     "metadata": {},
     "outputs": [
      {
       "output_type": "stream",
       "stream": "stdout",
       "text": [
        "guide blade angle : 35.4699 degrees \n",
        "wheel vane angle : 29.5604 degrees \n",
        "diameter of wheel : 1.5883803 m**3/s \n",
        "width of wheel at inlet in cm : 8.93\n"
       ]
      }
     ],
     "prompt_number": 16
    },
    {
     "cell_type": "heading",
     "level": 2,
     "metadata": {},
     "source": [
      "Example 12.7 Page No : 259"
     ]
    },
    {
     "cell_type": "code",
     "collapsed": false,
     "input": [
      "import math \n",
      "\n",
      "# Variables\n",
      "sp = 25.*(10**6)\n",
      "H = 40.\n",
      "no = 0.9\n",
      "P = 25.*1000\n",
      "g = 9.81\n",
      "\n",
      "# Calculations \n",
      "u1 = 2*(math.sqrt(2*g*H))\n",
      "Vf1 = 0.6*(math.sqrt(2*g*H))\n",
      "w = 9810\n",
      "Q = sp/(w*no*H)\n",
      "De = (Q*4/(math.pi*Vf1*(1-(0.35**2))))**0.5\n",
      "Db = 0.35*De\n",
      "N = u1*60/(math.pi*De)\n",
      "Ns = N*(P**0.5)/(H**1.25)\n",
      "\n",
      "# Results \n",
      "print \"diameter of runner and boss : %.4f and %.4f m \\\n",
      "\\nspeed and specific speed of runner in r.p.m : %.2f and %.2f \"%(De,Db,N,Ns)\n",
      "\n",
      "# note: rounding off error."
     ],
     "language": "python",
     "metadata": {},
     "outputs": [
      {
       "output_type": "stream",
       "stream": "stdout",
       "text": [
        "diameter of runner and boss : 2.4720 and 0.8652 m \n",
        "speed and specific speed of runner in r.p.m : 432.87 and 680.39 \n"
       ]
      }
     ],
     "prompt_number": 18
    },
    {
     "cell_type": "heading",
     "level": 2,
     "metadata": {},
     "source": [
      "Example 12.8 Page No : 260"
     ]
    },
    {
     "cell_type": "code",
     "collapsed": false,
     "input": [
      "import math \n",
      "\n",
      "# Variables\n",
      "D = 4.5\n",
      "d = 2.\n",
      "P = 20608.\n",
      "N = 140./60\n",
      "H = 22.\n",
      "nh = 0.94\n",
      "w = 9810.\n",
      "g = 9.81\n",
      "no = 0.85\n",
      "\n",
      "# Calculations \n",
      "Q = P*1000/(w*no*H)\n",
      "Vf1 = Q*4/(math.pi*((D**2)-(d**2)))\n",
      "u1 = math.pi*D*N\n",
      "Vw1 = nh*g*H/u1\n",
      "x1 = math.degrees(math.atan(Vf1/Vw1))\n",
      "\n",
      "# Results \n",
      "print \"discharge through the turbine : %.4f m**3/s \\\n",
      "\\nguide blade angle at inlet : %d degrees\"%(Q,x1)\n"
     ],
     "language": "python",
     "metadata": {},
     "outputs": [
      {
       "output_type": "stream",
       "stream": "stdout",
       "text": [
        "discharge through the turbine : 112.3376 m**3/s \n",
        "guide blade angle at inlet : 55 degrees\n"
       ]
      }
     ],
     "prompt_number": 20
    },
    {
     "cell_type": "code",
     "collapsed": false,
     "input": [],
     "language": "python",
     "metadata": {},
     "outputs": []
    }
   ],
   "metadata": {}
  }
 ]
}