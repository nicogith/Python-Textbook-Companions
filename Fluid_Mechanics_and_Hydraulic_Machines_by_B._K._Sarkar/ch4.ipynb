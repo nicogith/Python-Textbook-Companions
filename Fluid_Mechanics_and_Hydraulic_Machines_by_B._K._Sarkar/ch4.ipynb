{
 "metadata": {
  "name": "",
  "signature": "sha256:33c973de032c4928bee62a1f4d5e7589d324d9f00e5e077d3c7727973049f86e"
 },
 "nbformat": 3,
 "nbformat_minor": 0,
 "worksheets": [
  {
   "cells": [
    {
     "cell_type": "heading",
     "level": 1,
     "metadata": {},
     "source": [
      "Chapter 4 : Flow Through Orifices"
     ]
    },
    {
     "cell_type": "heading",
     "level": 2,
     "metadata": {},
     "source": [
      "Example 4.2 Page No : 83"
     ]
    },
    {
     "cell_type": "code",
     "collapsed": false,
     "input": [
      "\n",
      "# Variables\n",
      "q = 0.0982\n",
      "d = 0.12\n",
      "H = 10.\n",
      "x = 4.5\n",
      "y = 0.54\n",
      "g = 9.81\n",
      "\n",
      "# Calculations \n",
      "Vth = (2*g*H)**0.5\n",
      "a = 3.142*d*d/4\n",
      "Qth = Vth*a\n",
      "Cd = q/Qth\n",
      "Cv = ((x*x)/(4*y*H))**0.5\n",
      "Cc = Cd/Cv\n",
      "\n",
      "# Results \n",
      "print \"Cd ,Cv, Cc  of the orifice\",round(Cd,4),round(Cv,3),round(Cc,2)\n"
     ],
     "language": "python",
     "metadata": {},
     "outputs": [
      {
       "output_type": "stream",
       "stream": "stdout",
       "text": [
        "Cd ,Cv, Cc  of the orifice 0.6198 0.968 0.64\n"
       ]
      }
     ],
     "prompt_number": 1
    },
    {
     "cell_type": "heading",
     "level": 2,
     "metadata": {},
     "source": [
      "Example 4.3 Page No : 83"
     ]
    },
    {
     "cell_type": "code",
     "collapsed": false,
     "input": [
      "\n",
      "# Variables\n",
      "D = 0.1\n",
      "d = 0.05\n",
      "q = 0.02\n",
      "A = 3.142*D*D/4\n",
      "g = 9.81\n",
      "w = 9810.\n",
      "p = 58.86*1000\n",
      "\n",
      "# Calculations \n",
      "v = q/A\n",
      "Vh = (v*v)/(2*g)\n",
      "Ph = p/w\n",
      "Th = Ph+Vh\n",
      "a = 3.142*d*d/4\n",
      "Cd = q/(a*((2*g*Th)**0.5))\n",
      "\n",
      "# Results \n",
      "print \"co-efficient of discharge\",round(Cd,3)\n",
      "\n"
     ],
     "language": "python",
     "metadata": {},
     "outputs": [
      {
       "output_type": "stream",
       "stream": "stdout",
       "text": [
        "co-efficient of discharge 0.914\n"
       ]
      }
     ],
     "prompt_number": 2
    },
    {
     "cell_type": "heading",
     "level": 2,
     "metadata": {},
     "source": [
      "Example 4.4 Page No : 85"
     ]
    },
    {
     "cell_type": "code",
     "collapsed": false,
     "input": [
      "\n",
      "# Variables\n",
      "Cd = 0.6\n",
      "H1 = 3.\n",
      "H2 = 4.\n",
      "b = 2.\n",
      "\n",
      "# Calculations \n",
      "g = 9.81\n",
      "Q = (2*Cd*b*((2*g)**0.5)*((H2*H2*H2)**0.5-(H1*H1*H1)**0.5))/3\n",
      "q1 = Q*1000\n",
      "\n",
      "# Results \n",
      "print \"dischsrge flow rate in litres/sec\",round(q1,1)\n"
     ],
     "language": "python",
     "metadata": {},
     "outputs": [
      {
       "output_type": "stream",
       "stream": "stdout",
       "text": [
        "dischsrge flow rate in litres/sec 9935.6\n"
       ]
      }
     ],
     "prompt_number": 3
    },
    {
     "cell_type": "heading",
     "level": 2,
     "metadata": {},
     "source": [
      "Example 4.5 Page No : 85"
     ]
    },
    {
     "cell_type": "code",
     "collapsed": false,
     "input": [
      "\n",
      "# Variables\n",
      "b = 0.75\n",
      "H1 = 2.25\n",
      "H2 = 2.5\n",
      "H = 0.5\n",
      "g = 9.81\n",
      "Cd = 0.62\n",
      "\n",
      "# Calculations \n",
      "Q = Cd*b*(H2-H1)*((2*g*H)**0.5)\n",
      "Q1 = Q*1000\n",
      "\n",
      "# Results \n",
      "print \"discherge through the orifice in litres/sec\",round(Q1,1)\n"
     ],
     "language": "python",
     "metadata": {},
     "outputs": [
      {
       "output_type": "stream",
       "stream": "stdout",
       "text": [
        "discherge through the orifice in litres/sec 364.1\n"
       ]
      }
     ],
     "prompt_number": 4
    },
    {
     "cell_type": "heading",
     "level": 2,
     "metadata": {},
     "source": [
      "Example 4.6 Page No : 86"
     ]
    },
    {
     "cell_type": "code",
     "collapsed": false,
     "input": [
      "\n",
      "# Variables\n",
      "b = 2.\n",
      "d = 3.\n",
      "H1 = 4.\n",
      "H2 = 7.\n",
      "\n",
      "# Calculations \n",
      "H = 0.8+H1\n",
      "Cd = 0.62\n",
      "g = 9.81\n",
      "Q1 = (2*Cd*b*((2*g)**0.5)*((H*H*H)**0.5-(H1*H1*H1)**0.5))/3\n",
      "Q2 = Cd*b*(H2-H)*((2*g*H)**0.5)\n",
      "Q = Q1+Q2\n",
      "q = Q*1000\n",
      "\n",
      "# Results \n",
      "print \"Discharge in litres/sec\",round(q,3)\n"
     ],
     "language": "python",
     "metadata": {},
     "outputs": [
      {
       "output_type": "stream",
       "stream": "stdout",
       "text": [
        "Discharge in litres/sec 35687.468\n"
       ]
      }
     ],
     "prompt_number": 5
    },
    {
     "cell_type": "heading",
     "level": 2,
     "metadata": {},
     "source": [
      "Example 4.7 Page No : 87"
     ]
    },
    {
     "cell_type": "code",
     "collapsed": false,
     "input": [
      "\n",
      "# Variables\n",
      "l = 20.\n",
      "b = 10.\n",
      "a = l*b\n",
      "H1 = 1.5\n",
      "Cd = 0.62\n",
      "H2 = 0\n",
      "T = 5.*60\n",
      "n = 4.\n",
      "g = 9.81\n",
      "\n",
      "# Calculations \n",
      "a1 = (2*a*((H1**0.5)-(H2**0.5)))/(Cd*T*((2*g)**0.5))\n",
      "d = ((4*a1)/(3.142*n))**0.5\n",
      "d1 = d*100\n",
      "\n",
      "# Results \n",
      "print \"diameter of the orifice in cm\",round(d1,1)\n"
     ],
     "language": "python",
     "metadata": {},
     "outputs": [
      {
       "output_type": "stream",
       "stream": "stdout",
       "text": [
        "diameter of the orifice in cm 43.5\n"
       ]
      }
     ],
     "prompt_number": 6
    },
    {
     "cell_type": "heading",
     "level": 2,
     "metadata": {},
     "source": [
      "Example 4.8 Page No : 88"
     ]
    },
    {
     "cell_type": "code",
     "collapsed": false,
     "input": [
      "\n",
      "# Variables\n",
      "l1 = 10.\n",
      "b1 = 5.\n",
      "l2 = 5.\n",
      "b2 = 2.5\n",
      "a1 = l1*b1\n",
      "a2 = l2*b2\n",
      "d = 0.2\n",
      "a = 3.142*d*d/4\n",
      "H1 = 4.\n",
      "g = 9.81\n",
      "q = 25.\n",
      "Cd = 0.62\n",
      "\n",
      "# Calculations \n",
      "h1 = q/a1\n",
      "h2 = q/a2\n",
      "H2 = H1-h1-h2\n",
      "T = (2*a1*a2*((H1)**0.5-(H2)**0.5))/(a*Cd*(a1+a2)*((2*g)**0.5))\n",
      "\n",
      "# Results \n",
      "print \"time taken to flow 25 m3 in sec\",round(T,1)\n"
     ],
     "language": "python",
     "metadata": {},
     "outputs": [
      {
       "output_type": "stream",
       "stream": "stdout",
       "text": [
        "time taken to flow 25 m3 in sec 179.7\n"
       ]
      }
     ],
     "prompt_number": 7
    },
    {
     "cell_type": "heading",
     "level": 2,
     "metadata": {},
     "source": [
      "Example 4.9 Page No : 89"
     ]
    },
    {
     "cell_type": "code",
     "collapsed": false,
     "input": [
      "import math\n",
      "\n",
      "# Variables\n",
      "Cd = 0.8\n",
      "D = 2.\n",
      "r = 1.\n",
      "H1 = 2.\n",
      "d = 0.1\n",
      "a = math.pi*d*d/4\n",
      "l = 8.\n",
      "g = 9.81\n",
      "\n",
      "# Calculations \n",
      "T = (4*l*((2*r)**1.5-(2*r-H1)**1.5))/(3*Cd*a*((2*g)**0.5))\n",
      "\n",
      "# Results \n",
      "print \"time taken for emptying the boiler in min\",round((T/60),1)\n",
      "\n",
      "# note : rounding off error."
     ],
     "language": "python",
     "metadata": {},
     "outputs": [
      {
       "output_type": "stream",
       "stream": "stdout",
       "text": [
        "time taken for emptying the boiler in min 18.1\n"
       ]
      }
     ],
     "prompt_number": 2
    },
    {
     "cell_type": "heading",
     "level": 2,
     "metadata": {},
     "source": [
      "Example 4.10 Page No : 89"
     ]
    },
    {
     "cell_type": "code",
     "collapsed": false,
     "input": [
      "\n",
      "# Variables\n",
      "r = 5.\n",
      "h1 = 5.\n",
      "d = 0.08\n",
      "a = 0.005\n",
      "h2 = h1-2\n",
      "\n",
      "# Calculations \n",
      "Cd = 0.6\n",
      "g = 9.81\n",
      "z = ((2*r*((h1**1.5)-(h2**1.5)))/3)-((((h1**2.5)-(h2**2.5)))/5)\n",
      "T = (z*2*3.142)/(Cd*a*((2*g)**0.5))\n",
      "\n",
      "# Results \n",
      "print \"time in seconds to lower the level by 2m\",round(T,0)\n"
     ],
     "language": "python",
     "metadata": {},
     "outputs": [
      {
       "output_type": "stream",
       "stream": "stdout",
       "text": [
        "time in seconds to lower the level by 2m 5620.0\n"
       ]
      }
     ],
     "prompt_number": 10
    },
    {
     "cell_type": "code",
     "collapsed": false,
     "input": [],
     "language": "python",
     "metadata": {},
     "outputs": []
    }
   ],
   "metadata": {}
  }
 ]
}