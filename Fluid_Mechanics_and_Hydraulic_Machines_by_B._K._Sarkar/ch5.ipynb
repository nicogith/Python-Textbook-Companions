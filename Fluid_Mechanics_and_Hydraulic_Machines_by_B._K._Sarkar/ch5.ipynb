{
 "metadata": {
  "name": "",
  "signature": "sha256:3ba83c4a558b39f0e29ab129afe92e29743f0b738fbd3a8e9c39956304967803"
 },
 "nbformat": 3,
 "nbformat_minor": 0,
 "worksheets": [
  {
   "cells": [
    {
     "cell_type": "heading",
     "level": 1,
     "metadata": {},
     "source": [
      "Chapter 5 : Notches and weirs"
     ]
    },
    {
     "cell_type": "heading",
     "level": 2,
     "metadata": {},
     "source": [
      "Example 5.1 Page No : 98"
     ]
    },
    {
     "cell_type": "code",
     "collapsed": false,
     "input": [
      "\n",
      "# Variables\n",
      "q = 0.2\n",
      "Cd = 0.62\n",
      "g = 9.81\n",
      "\n",
      "# Calculations \n",
      "# using the relation\n",
      "z = (3*q*(2**1.5))/(2*Cd*((2*g)**0.5))\n",
      "b = z**0.4\n",
      "\n",
      "# Results \n",
      "print \"the lenght of the notch in cm \",round((b*100),1)\n"
     ],
     "language": "python",
     "metadata": {},
     "outputs": [
      {
       "output_type": "stream",
       "stream": "stdout",
       "text": [
        "the lenght of the notch in cm  62.5\n"
       ]
      }
     ],
     "prompt_number": 1
    },
    {
     "cell_type": "heading",
     "level": 2,
     "metadata": {},
     "source": [
      "Example 5.2 Page No : 98"
     ]
    },
    {
     "cell_type": "code",
     "collapsed": false,
     "input": [
      "import math \n",
      "\n",
      "# Variables\n",
      "b = 1.\n",
      "H = 0.15\n",
      "Cd1 = 0.62\n",
      "x = 90.\n",
      "g = 9.81\n",
      "Cd2 = 0.58\n",
      "\n",
      "# Calculations \n",
      "Q1 = 2*Cd1*b*((2*g*H*H*H)**0.5)/3\n",
      "z = (15*Q1)/(8*Cd2*((2*g)**0.5)*(math.tan(math.radians(x/2))))\n",
      "H1 = z**0.4\n",
      "\n",
      "# Results \n",
      "print \"the depth over the traingular veir in cm\",round((H1*100),2)\n"
     ],
     "language": "python",
     "metadata": {},
     "outputs": [
      {
       "output_type": "stream",
       "stream": "stdout",
       "text": [
        "the depth over the traingular veir in cm 35.98\n"
       ]
      }
     ],
     "prompt_number": 2
    },
    {
     "cell_type": "heading",
     "level": 2,
     "metadata": {},
     "source": [
      "Example 5.3 Page No : 99"
     ]
    },
    {
     "cell_type": "code",
     "collapsed": false,
     "input": [
      "import math \n",
      "\n",
      "# Variables\n",
      "x = 90.\n",
      "Cd = 0.62            # co-efficient\n",
      "H = 0.36\n",
      "g = 9.81\n",
      "\n",
      "# Calculations \n",
      "Q = (8*Cd*math.tan(math.radians(x/2))*((2*g)**0.5)*(H**2.5))/15\n",
      "q = Q*1000\n",
      "\n",
      "# Results \n",
      "print \"the actual discharge in litres/sec\",round(q,2)\n"
     ],
     "language": "python",
     "metadata": {},
     "outputs": [
      {
       "output_type": "stream",
       "stream": "stdout",
       "text": [
        "the actual discharge in litres/sec 113.89\n"
       ]
      }
     ],
     "prompt_number": 3
    },
    {
     "cell_type": "heading",
     "level": 2,
     "metadata": {},
     "source": [
      "Example 5.4 Page No : 100"
     ]
    },
    {
     "cell_type": "code",
     "collapsed": false,
     "input": [
      "import math \n",
      "\n",
      "# Variables\n",
      "x = 90.\n",
      "H = 0.2\n",
      "b = 0.3\n",
      "Cd = 0.62\n",
      "g = 9.81\n",
      "\n",
      "# Calculations \n",
      "q1 = (8*Cd*math.tan(math.radians(x/2))*((2*g)**0.5)*(H**2.5))/15\n",
      "q2 = 2*Cd*b*((2*g*H*H*H)**0.5)/3\n",
      "q = q1+q2\n",
      "\n",
      "# Results \n",
      "print \"discharge over the trapezoidal notch in m3/sec\",round(q,6)\n"
     ],
     "language": "python",
     "metadata": {},
     "outputs": [
      {
       "output_type": "stream",
       "stream": "stdout",
       "text": [
        "discharge over the trapezoidal notch in m3/sec 0.075327\n"
       ]
      }
     ],
     "prompt_number": 4
    },
    {
     "cell_type": "heading",
     "level": 2,
     "metadata": {},
     "source": [
      "Example 5.5 Page No : 100"
     ]
    },
    {
     "cell_type": "code",
     "collapsed": false,
     "input": [
      "\n",
      "# Variables\n",
      "a = 20*(10**6)\n",
      "x = 0.03\n",
      "q = a*x\n",
      "qf = q*0.4/3600\n",
      "n = 2.\n",
      "H = 0.6\n",
      "\n",
      "# Calculations \n",
      "# using Francis formula \n",
      "L = (qf/(1.84*(H**1.5)))+(0.1*n*H)\n",
      "\n",
      "# Results \n",
      "print \"the lenght of the weir in m\",round(L,4)\n"
     ],
     "language": "python",
     "metadata": {},
     "outputs": [
      {
       "output_type": "stream",
       "stream": "stdout",
       "text": [
        "the lenght of the weir in m 78.0786\n"
       ]
      }
     ],
     "prompt_number": 5
    },
    {
     "cell_type": "heading",
     "level": 2,
     "metadata": {},
     "source": [
      "Example 5.6 Page No : 101"
     ]
    },
    {
     "cell_type": "code",
     "collapsed": false,
     "input": [
      "\n",
      "# Variables\n",
      "L = 36\n",
      "v1 = 2\n",
      "g = 9.81\n",
      "H = 1.2\n",
      "H1 = (v1*v1)/(2*g)\n",
      "n = 2*12\n",
      "w = 0.6\n",
      "Nv = 11\n",
      "\n",
      "# Calculations \n",
      "Lf = L-(Nv*w)\n",
      "Q = 1.84*(Lf-(0.1*n*(H+H1)))*((H+H1)**1.5-(H1**1.5))\n",
      "\n",
      "# Results \n",
      "print \"dischsrge over the weir in m3/sec\",round(Q,3)\n"
     ],
     "language": "python",
     "metadata": {},
     "outputs": [
      {
       "output_type": "stream",
       "stream": "stdout",
       "text": [
        "dischsrge over the weir in m3/sec 75.261\n"
       ]
      }
     ],
     "prompt_number": 6
    },
    {
     "cell_type": "heading",
     "level": 2,
     "metadata": {},
     "source": [
      "Example 5.7 Page No : 102"
     ]
    },
    {
     "cell_type": "code",
     "collapsed": false,
     "input": [
      "\n",
      "# Variables\n",
      "l = 0.77\n",
      "H = 0.39\n",
      "H1 = 0.6\n",
      "Dp = H+H1\n",
      "Cd = 0.623\n",
      "g = 9.81\n",
      "\n",
      "# Calculations \n",
      "Q = (2*Cd*l*((2*g*H*H*H)**0.5))/3\n",
      "v = Q/(l*Dp)\n",
      "Ha = (v*v)/(2*g)\n",
      "q = (2*Cd*l*((2*g)**0.5)*(((H+Ha)**1.5)-(Ha**1.5)))/3\n",
      "\n",
      "# Results \n",
      "print \"discharge in m3/sec\",round(q,6)\n"
     ],
     "language": "python",
     "metadata": {},
     "outputs": [
      {
       "output_type": "stream",
       "stream": "stdout",
       "text": [
        "discharge in m3/sec 0.357447\n"
       ]
      }
     ],
     "prompt_number": 7
    },
    {
     "cell_type": "heading",
     "level": 2,
     "metadata": {},
     "source": [
      "Example 5.8 Page No : 103"
     ]
    },
    {
     "cell_type": "code",
     "collapsed": false,
     "input": [
      "\n",
      "# Variables\n",
      "Q1 = 0.005\n",
      "Cd = 0.62\n",
      "g = 9.81\n",
      "Q2 = 0.75\n",
      "h = 0.07\n",
      "\n",
      "# Calculations \n",
      "z = (Q1*15)/(8*Cd*((2*g)**0.5)*(h**2.5))\n",
      "H = h*((Q2/Q1)**0.4)\n",
      "W = 2*H*z\n",
      "\n",
      "\n",
      "print \"width of the water surface in m\",round(W,3)\n"
     ],
     "language": "python",
     "metadata": {},
     "outputs": [
      {
       "output_type": "stream",
       "stream": "stdout",
       "text": [
        "width of the water surface in m 2.736\n"
       ]
      }
     ],
     "prompt_number": 8
    },
    {
     "cell_type": "heading",
     "level": 2,
     "metadata": {},
     "source": [
      "Example 5.9 Page No : 104"
     ]
    },
    {
     "cell_type": "code",
     "collapsed": false,
     "input": [
      "\n",
      "# Variables\n",
      "b = 4.\n",
      "H = 0.2\n",
      "Cd = 0.62\n",
      "g = 9.81\n",
      "\n",
      "# Calculations \n",
      "Q1 = 2*Cd*b*((2*g*H*H*H)**0.5)/3\n",
      "Q2 = (2*Cd*((2*g)**0.5)*(H**1.5)*(b-(0.2*H)))/3\n",
      "m = 0.405+(0.003/H)\n",
      "Q3 = m*b*((2*g)**0.5)*(H**1.5)\n",
      "\n",
      "# Results \n",
      "print \"discharge when end contraction are supressed in m3/sec\",round(Q1,3)\n",
      "print \"discharge when end contraction are taken into account by francis formula in m3/sec\",round(Q2,4)\n",
      "print \"discharge when end contraction are taken into account by bazin formula in m3/sec\",round(Q3,5)\n"
     ],
     "language": "python",
     "metadata": {},
     "outputs": [
      {
       "output_type": "stream",
       "stream": "stdout",
       "text": [
        "discharge when end contraction are supressed in m3/sec 0.655\n",
        "discharge when end contraction are taken into account by francis formula in m3/sec 0.6485\n",
        "discharge when end contraction are taken into account by bazin formula in m3/sec 0.66559\n"
       ]
      }
     ],
     "prompt_number": 9
    },
    {
     "cell_type": "heading",
     "level": 2,
     "metadata": {},
     "source": [
      "Example 5.10 Page No : 104"
     ]
    },
    {
     "cell_type": "code",
     "collapsed": false,
     "input": [
      "import math \n",
      "\n",
      "# Variables\n",
      "Cd = 0.6\n",
      "x = 45.\n",
      "H = 0.5\n",
      "g = 9.81\n",
      "\n",
      "# Calculations and Results\n",
      "q1 = (8*Cd*math.tan(math.radians(x/2))*((2*g)**0.5)*(H**2.5))/15\n",
      "\n",
      "print \"rate of flow over the rectangular notch in m3/sec\",round(q1,5)\n",
      "\n",
      "dq1 = 0.025\n",
      "dh = dq1*H/2.5\n",
      "h1 = H+dh\n",
      "h2 = H-dh\n",
      "print \"limiting values of head in centimeters\",h2*100,h1*100\n"
     ],
     "language": "python",
     "metadata": {},
     "outputs": [
      {
       "output_type": "stream",
       "stream": "stdout",
       "text": [
        "rate of flow over the rectangular notch in m3/sec 0.10379\n",
        "limiting values of head in centimeters 49.5 50.5\n"
       ]
      }
     ],
     "prompt_number": 5
    },
    {
     "cell_type": "heading",
     "level": 2,
     "metadata": {},
     "source": [
      "Example 5.11 Page No : 105"
     ]
    },
    {
     "cell_type": "code",
     "collapsed": false,
     "input": [
      "import math \n",
      "\n",
      "# Variables\n",
      "Cd = 0.6\n",
      "x = 90.\n",
      "q = 0.05\n",
      "g = 9.81\n",
      "\n",
      "# Calculations \n",
      "dh = 0.00025\n",
      "z = (15*q)/(8*Cd*((2*g)**0.5)*(math.tan(math.radians(x/2))))\n",
      "H = z**0.4\n",
      "error = 2.5*(dh/H)\n",
      "\n",
      "# Results \n",
      "print \"the percentage error in the discharge\",round((error),5)\n"
     ],
     "language": "python",
     "metadata": {},
     "outputs": [
      {
       "output_type": "stream",
       "stream": "stdout",
       "text": [
        "the percentage error in the discharge 0.00238\n"
       ]
      }
     ],
     "prompt_number": 9
    },
    {
     "cell_type": "code",
     "collapsed": false,
     "input": [],
     "language": "python",
     "metadata": {},
     "outputs": []
    }
   ],
   "metadata": {}
  }
 ]
}