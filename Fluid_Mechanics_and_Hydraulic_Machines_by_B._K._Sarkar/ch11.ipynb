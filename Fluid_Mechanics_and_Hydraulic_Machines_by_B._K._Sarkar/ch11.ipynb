{
 "metadata": {
  "name": "",
  "signature": "sha256:ef8a83f912d8b81107a82e5afb87ec1b0700272a7362a57c794757b82a1ddfa1"
 },
 "nbformat": 3,
 "nbformat_minor": 0,
 "worksheets": [
  {
   "cells": [
    {
     "cell_type": "heading",
     "level": 1,
     "metadata": {},
     "source": [
      "Chapter 11 : Impulse Turbine"
     ]
    },
    {
     "cell_type": "heading",
     "level": 2,
     "metadata": {},
     "source": [
      "Example 11.1 Page No : 233"
     ]
    },
    {
     "cell_type": "code",
     "collapsed": false,
     "input": [
      "\n",
      "# Variables\n",
      "P = 8820.*1000\n",
      "N = 600./60\n",
      "H = 500.\n",
      "Cv = 0.97\n",
      "Cu = 0.46\n",
      "no = 0.85\n",
      "w = 9810.\n",
      "g = 9.81\n",
      "\n",
      "# Calculations \n",
      "Q = P/(no*w*H)\n",
      "V1 = Cv*((2*g*H)**0.5)\n",
      "u = Cu*V1\n",
      "D = u/(3.142*N)\n",
      "d = D/15\n",
      "a = 3.142*d*d/4\n",
      "n = Q/(a*V1)\n",
      "n1 = round(n+1)\n",
      "\n",
      "# Results \n",
      "print \"discharge in m3/sec,wheel diameter in m, jet diameter in cm, number os jets \",round(Q,6),round(D,4),round(d*100,2),n1\n"
     ],
     "language": "python",
     "metadata": {},
     "outputs": [
      {
       "output_type": "stream",
       "stream": "stdout",
       "text": [
        "discharge in m3/sec,wheel diameter in m, jet diameter in cm, number os jets  2.115488 1.4066 9.38 4.0\n"
       ]
      }
     ],
     "prompt_number": 1
    },
    {
     "cell_type": "heading",
     "level": 2,
     "metadata": {},
     "source": [
      "Example 11.2 Page No : 235"
     ]
    },
    {
     "cell_type": "code",
     "collapsed": false,
     "input": [
      "import math \n",
      "\n",
      "# Variables\n",
      "H = 46.\n",
      "Q = 1.\n",
      "u1 = 15.\n",
      "y = 165.\n",
      "y2 = 180-y\n",
      "Cv = 0.975\n",
      "g = 9.81\n",
      "\n",
      "# Calculations \n",
      "V1 = ((2*g*H)**0.5)\n",
      "Vw1 = V1\n",
      "Vr1 = V1-u1\n",
      "Vr2 = Vr1\n",
      "Vw2 = (Vr2*(math.cos(math.radians(y2))))-u1\n",
      "w = 9810.\n",
      "P = (w*Q*(Vw1+Vw2)*u1)/(g*1000)\n",
      "n = P*1000/(w*Q*H)\n",
      "\n",
      "# Results \n",
      "print \"power developed in Kw and efficiency of the wheel\",round(P,3),round((n*100),3)\n"
     ],
     "language": "python",
     "metadata": {},
     "outputs": [
      {
       "output_type": "stream",
       "stream": "stdout",
       "text": [
        "power developed in Kw and efficiency of the wheel 443.571 98.296\n"
       ]
      }
     ],
     "prompt_number": 3
    },
    {
     "cell_type": "heading",
     "level": 2,
     "metadata": {},
     "source": [
      "Example 11.3 Page No : 236"
     ]
    },
    {
     "cell_type": "code",
     "collapsed": false,
     "input": [
      "import math \n",
      "\n",
      "# Variables\n",
      "H = 340.\n",
      "P = 4410.*1000\n",
      "N = 500./60\n",
      "Cv = 0.97\n",
      "no = 0.86\n",
      "w = 9810.\n",
      "g = 9.81\n",
      "\n",
      "# Calculations \n",
      "Q = P/(w*H*no)\n",
      "V1 = Cv*(math.sqrt(2*g*H))\n",
      "u = 0.45*V1\n",
      "D = u/(3.142*N)\n",
      "a = Q/V1\n",
      "\n",
      "# Results \n",
      "print \"mean diameter in m,jet area in m2\",round(D,4),round(a,7)\n"
     ],
     "language": "python",
     "metadata": {},
     "outputs": [
      {
       "output_type": "stream",
       "stream": "stdout",
       "text": [
        "mean diameter in m,jet area in m2 1.3616 0.0194058\n"
       ]
      }
     ],
     "prompt_number": 4
    },
    {
     "cell_type": "heading",
     "level": 2,
     "metadata": {},
     "source": [
      "Example 11.4 Page No : 237"
     ]
    },
    {
     "cell_type": "code",
     "collapsed": false,
     "input": [
      "import math \n",
      "\n",
      "# Variables\n",
      "H = 45.\n",
      "Q = 50./60\n",
      "u1 = 12.5\n",
      "y = 160.\n",
      "y2 = 180.-y\n",
      "Cv = 0.97\n",
      "g = 9.81\n",
      "\n",
      "# Calculations and Results\n",
      "V1 = Cv*((2*g*H)**0.5)\n",
      "Vw1 = V1\n",
      "Vr1 = V1-u1\n",
      "Vr2 = Vr1\n",
      "Vw2 = Vr2*(math.cos(math.radians(y2)))-u1\n",
      "w = 9810\n",
      "P = (w*Q*(Vw1+Vw2)*u1)/(g*1000)\n",
      "nh = (2*u1*(Vw1+Vw2))/(V1*V1)\n",
      "print \"power developed in Kw and hydraulic efficiency\",P,nh*100\n",
      "\n",
      "H1 = 50\n",
      "V11 = Cv*((2*g*H1)**0.5)\n",
      "Vw11 = V11\n",
      "Vr11 = V11-u1\n",
      "Vr21 = Vr11\n",
      "Vw21 = Vr21*(math.cos(math.radians(y2)))-u1\n",
      "w = 9810\n",
      "P = (w*Q*(Vw11+Vw21)*u1)/(g*1000)\n",
      "print \"Power developed in Kw if head is increased to 50\",P\n"
     ],
     "language": "python",
     "metadata": {},
     "outputs": [
      {
       "output_type": "stream",
       "stream": "stdout",
       "text": [
        "power developed in Kw and hydraulic efficiency 329.792686546 95.2790189845\n",
        "Power developed in Kw if head is increased to 50 361.293854458\n"
       ]
      }
     ],
     "prompt_number": 4
    },
    {
     "cell_type": "heading",
     "level": 2,
     "metadata": {},
     "source": [
      "Example 11.5 Page No : 237"
     ]
    },
    {
     "cell_type": "code",
     "collapsed": false,
     "input": [
      "import math\n",
      "\n",
      "# Variables\n",
      "H = 50.\n",
      "Q = 1.2\n",
      "u1 = 18.\n",
      "y = 160.\n",
      "y2 = 180-y\n",
      "Cv = 0.94\n",
      "g = 9.81\n",
      "\n",
      "# Calculations \n",
      "V1 = Cv*((2*g*H)**0.5)\n",
      "Vw1 = V1\n",
      "Vr1 = V1-u1\n",
      "Vr2 = Vr1\n",
      "Vw2 = Vr2*(math.cos(math.radians(y2)))-u1\n",
      "w = 9810\n",
      "P = (w*Q*(Vw1+Vw2)*u1)/(g*1000)\n",
      "n = P*1000/(w*Q*H)\n",
      "\n",
      "# Results \n",
      "print \"power developed in Kw and efficiency of the wheel\",P,n*100\n"
     ],
     "language": "python",
     "metadata": {},
     "outputs": [
      {
       "output_type": "stream",
       "stream": "stdout",
       "text": [
        "power developed in Kw and efficiency of the wheel 479.375537454 81.4433464923\n"
       ]
      }
     ],
     "prompt_number": 5
    },
    {
     "cell_type": "heading",
     "level": 2,
     "metadata": {},
     "source": [
      "Example 11.6 Page No : 238"
     ]
    },
    {
     "cell_type": "code",
     "collapsed": false,
     "input": [
      "import math \n",
      "\n",
      "# Variables\n",
      "D = 1.\n",
      "N = 1000./60\n",
      "H = 700.\n",
      "y = 165.\n",
      "y2 = 180-y\n",
      "Q = 0.1\n",
      "Cv = 0.97\n",
      "g = 9.81\n",
      "\n",
      "# Calculations \n",
      "u = D*math.pi*N\n",
      "V1 = Cv*(math.sqrt(2*g*H))\n",
      "nh = (2*u*(V1-u)*(1+(math.cos(math.radians(y2)))))/(V1*V1)\n",
      "\n",
      "# Results \n",
      "print \"hydraulic efficiency of the wheel\",round((nh*100),2),\"%\"\n",
      "\n",
      "# note : rounding off error"
     ],
     "language": "python",
     "metadata": {},
     "outputs": [
      {
       "output_type": "stream",
       "stream": "stdout",
       "text": [
        "hydraulic efficiency of the wheel 97.69 %\n"
       ]
      }
     ],
     "prompt_number": 2
    },
    {
     "cell_type": "heading",
     "level": 2,
     "metadata": {},
     "source": [
      "Example 11.7 Page No : 239"
     ]
    },
    {
     "cell_type": "code",
     "collapsed": false,
     "input": [
      "import math \n",
      "\n",
      "# Variables\n",
      "Hg = 500.\n",
      "hf = Hg/3\n",
      "H = Hg-hf\n",
      "Q = 2.\n",
      "y = 165.\n",
      "y2 = 180.-y\n",
      "g = 9.81\n",
      "w = 9810.\n",
      "Cv = 1.\n",
      "\n",
      "# Calculations \n",
      "V1 = Cv*(math.sqrt(2*g*H))\n",
      "u = 0.45*V1\n",
      "Vr1 = V1-u\n",
      "Vw1 = V1\n",
      "Vr2 = Vr1\n",
      "Vw2 = (Vr2*(math.cos(math.radians(y2))))-u\n",
      "W = w*Q*(Vw1+Vw2)*u/g\n",
      "P = W/1000\n",
      "nh = 2*u*(Vw1+Vw2)/(V1*V1)\n",
      "\n",
      "# Results \n",
      "print \"power given by the water to the runner in Kw : %.3f \\\n",
      "\\nHydraulic efficiency %.2f\"%(P,(nh*100)),\"%\"\n",
      "\n",
      "# note : rounding off error"
     ],
     "language": "python",
     "metadata": {},
     "outputs": [
      {
       "output_type": "stream",
       "stream": "stdout",
       "text": [
        "power given by the water to the runner in Kw : 6364.292 \n",
        "Hydraulic efficiency 97.31 %\n"
       ]
      }
     ],
     "prompt_number": 7
    },
    {
     "cell_type": "heading",
     "level": 2,
     "metadata": {},
     "source": [
      "Example 11.8 Page No : 240"
     ]
    },
    {
     "cell_type": "code",
     "collapsed": false,
     "input": [
      "import math \n",
      "\n",
      "# Variables\n",
      "L = 1600.\n",
      "H = 550.\n",
      "Dp = 1.2\n",
      "d = 0.18\n",
      "f = 0.006\n",
      "Cv = 0.97\n",
      "g = 9.81\n",
      "\n",
      "# Calculations \n",
      "V1 = Cv*(math.sqrt(2*g*H))\n",
      "a = math.pi*d*d/4\n",
      "Q = a*V1\n",
      "w = 9810\n",
      "P = (w*Q*V1*V1)/(2*g*1000)\n",
      "ap = math.pi*Dp*Dp/4\n",
      "Vp = Q/ap\n",
      "Hf = (4*f*L*Vp*Vp)/(Dp*2*g)\n",
      "Tp = 4*w*Q*(H+Hf)/1000\n",
      "\n",
      "# Results \n",
      "print \"power to each jet in Kw : %.1f \\\n",
      "\\ntotal power at reserviour i Kw : %.2f\"%(P,Tp)\n",
      "\n",
      "# note : rounding off error."
     ],
     "language": "python",
     "metadata": {},
     "outputs": [
      {
       "output_type": "stream",
       "stream": "stdout",
       "text": [
        "power to each jet in Kw : 13017.1 \n",
        "total power at reserviour i Kw : 56182.23\n"
       ]
      }
     ],
     "prompt_number": 11
    },
    {
     "cell_type": "heading",
     "level": 2,
     "metadata": {},
     "source": [
      "Example 11.9 Page No : 241"
     ]
    },
    {
     "cell_type": "code",
     "collapsed": false,
     "input": [
      "import math \n",
      "\n",
      "# Variables\n",
      "Q = 4.\n",
      "H = 250.\n",
      "L = 3000.\n",
      "n1 = 4.\n",
      "n = 0.91\n",
      "nh = 0.9\n",
      "Cv = 0.975\n",
      "f4 = 0.0045\n",
      "\n",
      "# Calculations \n",
      "hf = H-H*n\n",
      "Hn = H-hf\n",
      "g = 9.81\n",
      "w = 9810\n",
      "V1 = Cv*(math.sqrt(2*g*Hn))\n",
      "Pw = w*Q*V1*V1/(2*g*1000)\n",
      "Pt = nh*Pw\n",
      "q = Q/n1\n",
      "d = math.sqrt(4*q/(3.142*V1))\n",
      "D = ((f4*L*16*16)/(2*g*3.142*3.142*hf))**0.2\n",
      "\n",
      "# Results \n",
      "print \"power developed by turbine in Kw :  %.1f \\\n",
      "\\ndiameter jet and diameter of pipeline\"%(Pt),round(d,4),round(D,4)\n"
     ],
     "language": "python",
     "metadata": {},
     "outputs": [
      {
       "output_type": "stream",
       "stream": "stdout",
       "text": [
        "power developed by turbine in Kw :  7637.7 \n",
        "diameter jet and diameter of pipeline 0.1398 0.9547\n"
       ]
      }
     ],
     "prompt_number": 12
    },
    {
     "cell_type": "code",
     "collapsed": false,
     "input": [],
     "language": "python",
     "metadata": {},
     "outputs": []
    }
   ],
   "metadata": {}
  }
 ]
}