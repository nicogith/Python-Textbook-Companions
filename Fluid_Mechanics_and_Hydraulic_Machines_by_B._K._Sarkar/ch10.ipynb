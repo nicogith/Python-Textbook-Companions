{
 "metadata": {
  "name": "",
  "signature": "sha256:e622aaab4152afb43a745018655d3a8638f8ca2d38533a29b1d9f716597d102a"
 },
 "nbformat": 3,
 "nbformat_minor": 0,
 "worksheets": [
  {
   "cells": [
    {
     "cell_type": "heading",
     "level": 1,
     "metadata": {},
     "source": [
      "Chapter 10 : Centrifugal Pump"
     ]
    },
    {
     "cell_type": "heading",
     "level": 2,
     "metadata": {},
     "source": [
      "Example 10.1 Page No : 210"
     ]
    },
    {
     "cell_type": "code",
     "collapsed": false,
     "input": [
      "import math \n",
      "\n",
      "# Variables\n",
      "N = 900./60\n",
      "x1 = 90.\n",
      "D1 = 0.2\n",
      "D2 = 0.4\n",
      "n = 0.7\n",
      "g = 9.81\n",
      "u1 = math.pi*D1*N\n",
      "u2 = 2*u1 \t\t\t# as D2 = 2D1\n",
      "y1 = 20.\n",
      "\n",
      "# Calculations \n",
      "Vf1 = u1*math.tan(math.radians(y1))\n",
      "Vr1 = Vf1/math.sin(math.radians(y1))\n",
      "Vf2 = Vf1\n",
      "Vr2 = Vr1\n",
      "x = (Vr2*Vr2-Vf1*Vf1)**0.5\n",
      "Vw2 = u2-x\n",
      "B1 = 0.02\n",
      "Q = math.pi*D1*B1*Vf1\n",
      "H = Vw2*u2/g\n",
      "w = 9810\n",
      "P = (w*Q*Vw2*u2)/(g*1000)\n",
      "inputpower = (w*Q*H)/(1000*n)\n",
      "print \"discharge through the pump %.4f litre/s \\\n",
      "\\nheat developed %f m \\\n",
      "\\npower in Kw at outlet %.3f \\\n",
      "\\ninput power if overall efficiency is 70%% : %.4f kW\" \\\n",
      "%(Q*1000,H,P,inputpower)\n",
      "\n",
      "# note : rounding off error"
     ],
     "language": "python",
     "metadata": {},
     "outputs": [
      {
       "output_type": "stream",
       "stream": "stdout",
       "text": [
        "discharge through the pump 43.1069 litre/s \n",
        "heat developed 18.109366 m \n",
        "power in Kw at outlet 7.658 \n",
        "input power if overall efficiency is 70% : 10.9401 kW\n"
       ]
      }
     ],
     "prompt_number": 11
    },
    {
     "cell_type": "heading",
     "level": 2,
     "metadata": {},
     "source": [
      "Example 10.2 Page No : 212"
     ]
    },
    {
     "cell_type": "code",
     "collapsed": false,
     "input": [
      "\n",
      "# Variables\n",
      "Hs = 2.\n",
      "Hd = 20.\n",
      "Hfs = 1.\n",
      "Hfd = 5.\n",
      "Q = 1./60\n",
      "N = 1450./60\n",
      "ds = 0.1\n",
      "dd = ds\n",
      "n = 0.75\n",
      "g = 9.81\n",
      "w = 9810.\n",
      "\n",
      "# Calculations \n",
      "a = 3.142*ds*ds/4\n",
      "Vs = Q/a\n",
      "Vd = Vs\n",
      "Ht = Hs+Hd+Hfs+Hfd+(Vs*Vs/(2*g))+(Vd*Vd/(2*g))\n",
      "Pi = (w*Q*Ht)/(n*1000)\n",
      "Ns = ((N*(Q**0.5))/(Ht**0.75))*60\n",
      "\n",
      "# Results \n",
      "print \"total head developed by the pump,power input to the pump,specific speed of pump in r.p.m\",round(Ht,4),round(Pi,5),round(Ns,3)\n"
     ],
     "language": "python",
     "metadata": {},
     "outputs": [
      {
       "output_type": "stream",
       "stream": "stdout",
       "text": [
        "total head developed by the pump,power input to the pump,specific speed of pump in r.p.m 28.4589 6.20404 15.192\n"
       ]
      }
     ],
     "prompt_number": 2
    },
    {
     "cell_type": "heading",
     "level": 2,
     "metadata": {},
     "source": [
      "Example 10.3 Page No : 213"
     ]
    },
    {
     "cell_type": "code",
     "collapsed": false,
     "input": [
      "import math \n",
      "\n",
      "# Variables\n",
      "d2 = 0.6\n",
      "Q = 20./60\n",
      "N = 1400./60\n",
      "V1 = 2.8\n",
      "g = 9.81\n",
      "y2 = 30.\n",
      "w = 9810.\n",
      "Vf1 = V1\n",
      "Vf2 = V1\n",
      "\n",
      "# Calculations \n",
      "u2 = 3.142*d2*N\n",
      "x = Vf2/math.radians(math.tan(y2))\n",
      "Vw2 = u2-x\n",
      "Hm = Vw2*u2/g\n",
      "P = (w*Q*Hm)/1000\n",
      "\n",
      "# Results \n",
      "print \"head developed, pump power\",round(Hm,4),round(P,4)\n"
     ],
     "language": "python",
     "metadata": {},
     "outputs": [
      {
       "output_type": "stream",
       "stream": "stdout",
       "text": [
        "head developed, pump power 309.5484 1012.2231\n"
       ]
      }
     ],
     "prompt_number": 3
    },
    {
     "cell_type": "heading",
     "level": 2,
     "metadata": {},
     "source": [
      "Example 10.4 Page No : 214"
     ]
    },
    {
     "cell_type": "code",
     "collapsed": false,
     "input": [
      "\n",
      "# Variables\n",
      "N = 1450./60\n",
      "N1 = 1650./60\n",
      "H = 12.\n",
      "P = 6.\n",
      "\n",
      "# Calculations \n",
      "H1 = H*((N1/N)**2)\n",
      "P1 = P*((N1/N)**3)\n",
      "\n",
      "# Results \n",
      "print \"head developed and power required if pump runs at 1650 r.p.m\",round(H1,4),round(P1,4)\n"
     ],
     "language": "python",
     "metadata": {},
     "outputs": [
      {
       "output_type": "stream",
       "stream": "stdout",
       "text": [
        "head developed and power required if pump runs at 1650 r.p.m 15.5386 8.841\n"
       ]
      }
     ],
     "prompt_number": 4
    },
    {
     "cell_type": "heading",
     "level": 2,
     "metadata": {},
     "source": [
      "Example 10.5 Page No : 215"
     ]
    },
    {
     "cell_type": "code",
     "collapsed": false,
     "input": [
      "\n",
      "# Variables\n",
      "Q = 0.03\n",
      "Hs = 18.\n",
      "d = 0.1\n",
      "l = 90.\n",
      "n = 0.8\n",
      "w = 9810.\n",
      "a = 3.142*d*d/4\n",
      "f = 0.04\n",
      "g = 9.81\n",
      "\n",
      "# Calculations \n",
      "Vd = Q/a\n",
      "H1 = (4*f*l*Vd*Vd)/(d*2*g)+(Vd*Vd/(2*g))\n",
      "Hm = Hs+H1\n",
      "P = (w*Q*Hm)/(n*1000)\n",
      "\n",
      "# Results \n",
      "print \"power required to drive the pump\",round(P,3),\"kW\"\n"
     ],
     "language": "python",
     "metadata": {},
     "outputs": [
      {
       "output_type": "stream",
       "stream": "stdout",
       "text": [
        "power required to drive the pump 46.279 kW\n"
       ]
      }
     ],
     "prompt_number": 6
    },
    {
     "cell_type": "heading",
     "level": 2,
     "metadata": {},
     "source": [
      "Example 10.6 Page No : 216"
     ]
    },
    {
     "cell_type": "code",
     "collapsed": false,
     "input": [
      "\n",
      "# Variables\n",
      "Q = 0.04\n",
      "Hm = 30.\n",
      "n = 0.75\n",
      "w = 9810.\n",
      "\n",
      "# Calculations \n",
      "p = w*Q*Hm/1000\n",
      "P = p/n\n",
      "\n",
      "# Results \n",
      "print \"output power of the pump,power required to drive the motor\",p,P\n"
     ],
     "language": "python",
     "metadata": {},
     "outputs": [
      {
       "output_type": "stream",
       "stream": "stdout",
       "text": [
        "output power of the pump,power required to drive the motor 11.772 15.696\n"
       ]
      }
     ],
     "prompt_number": 6
    },
    {
     "cell_type": "heading",
     "level": 2,
     "metadata": {},
     "source": [
      "Example 10.7 Page No : 216"
     ]
    },
    {
     "cell_type": "code",
     "collapsed": false,
     "input": [
      "\n",
      "# Variables\n",
      "Q = 1.8/60\n",
      "d = 0.1\n",
      "n = 0.72\n",
      "Hs = 20.\n",
      "w = 9810.\n",
      "Hl = 8.\n",
      "\n",
      "# Calculations \n",
      "Hm = Hs+Hl\n",
      "p = (w*Hm*Q)/1000\n",
      "P = p/n\n",
      "print \"water power required to the pump,power required to run the pump\",p,P\n"
     ],
     "language": "python",
     "metadata": {},
     "outputs": [
      {
       "output_type": "stream",
       "stream": "stdout",
       "text": [
        "water power required to the pump,power required to run the pump 8.2404 11.445\n"
       ]
      }
     ],
     "prompt_number": 7
    },
    {
     "cell_type": "heading",
     "level": 2,
     "metadata": {},
     "source": [
      "Example 10.8 Page No : 217"
     ]
    },
    {
     "cell_type": "code",
     "collapsed": false,
     "input": [
      "import math \n",
      "\n",
      "# Variables\n",
      "d2 = 0.6\n",
      "Q = 15./60\n",
      "N = 1450./60\n",
      "V1 = 2.6\n",
      "g = 9.81\n",
      "y2 = 30.\n",
      "w = 9810.\n",
      "Vf1 = V1\n",
      "Vf2 = V1\n",
      "\n",
      "# Calculations \n",
      "u2 = math.pi*d2*N\n",
      "x = Vf2/math.tan(math.radians(y2))\n",
      "Vw2 = u2-x\n",
      "Hm = Vw2*u2/g\n",
      "P = (w*Q*Hm)/1000\n",
      "\n",
      "# Results \n",
      "print \"head developed, pump power\",round(Hm,4),round(P,4)\n"
     ],
     "language": "python",
     "metadata": {},
     "outputs": [
      {
       "output_type": "stream",
       "stream": "stdout",
       "text": [
        "head developed, pump power 190.6161 467.4859\n"
       ]
      }
     ],
     "prompt_number": 12
    },
    {
     "cell_type": "heading",
     "level": 2,
     "metadata": {},
     "source": [
      "Example 10.9 Page No : 217"
     ]
    },
    {
     "cell_type": "code",
     "collapsed": false,
     "input": [
      "\n",
      "# Variables\n",
      "Q = 0.05\n",
      "p = 392.4*1000\n",
      "n = 0.65\n",
      "s = 0.8\n",
      "w1 = 9810.\n",
      "\n",
      "# Calculations \n",
      "Hw = p/w1\n",
      "Hoil = p/(w1*s)\n",
      "Pw = (w1*Q*Hw)/(n*1000)\n",
      "Poil = (w1*s*Q*Hoil)/(n*1000)\n",
      "\n",
      "# Results \n",
      "print \"power in Kw to drive the pump with water and oil of s,p = 0.8\",round(Poil,6),round(Pw,6)\n"
     ],
     "language": "python",
     "metadata": {},
     "outputs": [
      {
       "output_type": "stream",
       "stream": "stdout",
       "text": [
        "power in Kw to drive the pump with water and oil of s,p = 0.8 30.184615 30.184615\n"
       ]
      }
     ],
     "prompt_number": 8
    },
    {
     "cell_type": "heading",
     "level": 2,
     "metadata": {},
     "source": [
      "Example 10.10 Page No : 218"
     ]
    },
    {
     "cell_type": "code",
     "collapsed": false,
     "input": [
      "import math \n",
      "\n",
      "# Variables\n",
      "Q = 0.118\n",
      "N = 1450./60\n",
      "Hm = 25.\n",
      "d2 = 0.25\n",
      "B2 = 0.05\n",
      "n = 0.75\n",
      "g = 9.81\n",
      "\n",
      "# Calculations \n",
      "u2 = math.pi*d2*N\n",
      "Vf2 = Q/(math.pi*d2*B2)\n",
      "Vw2 = g*Hm/(n*u2)\n",
      "y2 = math.degrees(math.atan(Vf2/(u2-Vw2)))\n",
      "\n",
      "# Results \n",
      "print \"vane angle in degree at the outer nperiphery of the impeller\",round(y2,2)\n",
      "\n",
      "# note : rounding off error\n"
     ],
     "language": "python",
     "metadata": {},
     "outputs": [
      {
       "output_type": "stream",
       "stream": "stdout",
       "text": [
        "vane angle in degree at the outer nperiphery of the impeller 59.75\n"
       ]
      }
     ],
     "prompt_number": 15
    },
    {
     "cell_type": "heading",
     "level": 2,
     "metadata": {},
     "source": [
      "Example 10.11 Page No : 219"
     ]
    },
    {
     "cell_type": "code",
     "collapsed": false,
     "input": [
      "import math \n",
      "\n",
      "# Variables\n",
      "Hm = 14.5\n",
      "N = 1000./60\n",
      "y2 = 30.\n",
      "d2 = 0.3\n",
      "B2 = 0.05\n",
      "g = 9.81\n",
      "n = 0.95\n",
      "\n",
      "# Calculations \n",
      "u2 = math.pi*d2*N\n",
      "Vw2 = g*Hm/(n*u2)\n",
      "Vf2 = (u2-Vw2)*math.tan(math.radians(y2))\n",
      "Q = math.pi*d2*B2*Vf2\n",
      "\n",
      "# Results \n",
      "print \"discharge of pump in m3/sec if manometric efficiency if 95%% : %.3f litre/s\"%(Q*1000)\n"
     ],
     "language": "python",
     "metadata": {},
     "outputs": [
      {
       "output_type": "stream",
       "stream": "stdout",
       "text": [
        "discharge of pump in m3/sec if manometric efficiency if 95% : 168.024 litre/s\n"
       ]
      }
     ],
     "prompt_number": 18
    },
    {
     "cell_type": "heading",
     "level": 2,
     "metadata": {},
     "source": [
      "Example 10.12 Page No : 220"
     ]
    },
    {
     "cell_type": "code",
     "collapsed": false,
     "input": [
      "import math \n",
      "\n",
      "# Variables\n",
      "d2 = 1.2\n",
      "N = 200./60\n",
      "Q = 1.88\n",
      "Hm = 6.\n",
      "y2 = 26.\n",
      "g = 9.81\n",
      "Vf2 = 2.5\n",
      "d1 = 0.6\n",
      "u2 = math.pi*d2*N\n",
      "\n",
      "# Calculations \n",
      "Vw2 = u2-(Vf2/math.tan(math.radians(y2)))\n",
      "n = g*Hm/(Vw2*u2)\n",
      "z1 = (math.pi*d2/60)**2\n",
      "z2 = (math.pi*d1/60)**2\n",
      "N1 = (Hm*2*g/(z1-z2))**0.5\n",
      "\n",
      "# Results \n",
      "print \"least speed to start pump : %.3f r.p.m \\\n",
      "\\nmanometric efficiency : %.2f %%\"%(N1,(n*100))\n"
     ],
     "language": "python",
     "metadata": {},
     "outputs": [
      {
       "output_type": "stream",
       "stream": "stdout",
       "text": [
        "least speed to start pump : 199.395 r.p.m \n",
        "manometric efficiency : 62.95 %\n"
       ]
      }
     ],
     "prompt_number": 21
    },
    {
     "cell_type": "heading",
     "level": 2,
     "metadata": {},
     "source": [
      "Example 10.13 Page No : 222"
     ]
    },
    {
     "cell_type": "code",
     "collapsed": false,
     "input": [
      "import math \n",
      "\n",
      "# Variables\n",
      "Q = 0.125\n",
      "Hm = 25.\n",
      "N = 660./60\n",
      "d2 = 0.6\n",
      "d1 = d2*0.5\n",
      "a = 0.06\n",
      "y2 = 45.\n",
      "g = 9.81\n",
      "\n",
      "# Calculations \n",
      "u2 = math.pi*d2*N\n",
      "u1 = u2*0.5\n",
      "Vf2 = Q/a\n",
      "Vw2 = u2-(Vf2/math.tan(math.radians(y2)))\n",
      "n = g*Hm/(Vw2*u2)\n",
      "Vf1 = Q/(a)\n",
      "y1 = math.degrees(math.atan(Vf1/u1))\n",
      "\n",
      "# Results \n",
      "print \"manometric efficiency %.2f %% \\\n",
      "\\nvane angle at inlet : %.2f degrees\"%((n*100),y1)\n",
      "\n",
      "# note : rounding off error."
     ],
     "language": "python",
     "metadata": {},
     "outputs": [
      {
       "output_type": "stream",
       "stream": "stdout",
       "text": [
        "manometric efficiency 63.42 % \n",
        "vane angle at inlet : 11.36 degrees\n"
       ]
      }
     ],
     "prompt_number": 26
    },
    {
     "cell_type": "heading",
     "level": 2,
     "metadata": {},
     "source": [
      "Example 10.14 Page No : 223"
     ]
    },
    {
     "cell_type": "code",
     "collapsed": false,
     "input": [
      "import math \n",
      "\n",
      "# Variables\n",
      "n = 3.\n",
      "d2 = 0.4\n",
      "B2 = 0.02\n",
      "y2 = 45.\n",
      "da = 0.1\n",
      "nm = 0.9\n",
      "w = 9810.\n",
      "no = 0.8\n",
      "g = 9.81\n",
      "N = 1000./60\n",
      "Q = 0.05\n",
      "\n",
      "# Calculations \n",
      "Vf2 = Q/(math.pi*d2*nm*B2)\n",
      "u2 = math.pi*d2*N\n",
      "Vw2 = u2-(Vf2/math.tan(math.radians(y2)))\n",
      "Hm = nm*Vw2*u2/g\n",
      "Ht = n*Hm\n",
      "P = w*Q*Ht/1000\n",
      "Ps = P/no\n",
      "\n",
      "# Results \n",
      "print \"shaft power in Kw %.2f\"%Ps\n"
     ],
     "language": "python",
     "metadata": {},
     "outputs": [
      {
       "output_type": "stream",
       "stream": "stdout",
       "text": [
        "shaft power in Kw 66.21\n"
       ]
      }
     ],
     "prompt_number": 28
    },
    {
     "cell_type": "heading",
     "level": 2,
     "metadata": {},
     "source": [
      "Example 10.15 Page No : 225"
     ]
    },
    {
     "cell_type": "code",
     "collapsed": false,
     "input": [
      "\n",
      "# Variables\n",
      "n = 6.\n",
      "Q = 0.12\n",
      "p = 5003.1*1000\n",
      "N = 1450./60\n",
      "w = 9810.\n",
      "\n",
      "# Calculations \n",
      "Ht = p/w\n",
      "h = Ht/n\n",
      "Ns = (N*(Q**0.5)/(h**0.75))*60\n",
      "\n",
      "# Results \n",
      "print \"radial impeller would be selected\",round(Ns,2)\n"
     ],
     "language": "python",
     "metadata": {},
     "outputs": [
      {
       "output_type": "stream",
       "stream": "stdout",
       "text": [
        "radial impeller would be selected 17.94\n"
       ]
      }
     ],
     "prompt_number": 12
    },
    {
     "cell_type": "heading",
     "level": 2,
     "metadata": {},
     "source": [
      "Example 10.16 Page No : 225"
     ]
    },
    {
     "cell_type": "code",
     "collapsed": false,
     "input": [
      "import math \n",
      "\n",
      "# Variables\n",
      "sg = 1.08\n",
      "w = 9810.*sg\n",
      "Q = 0.3\n",
      "H = 12.\n",
      "no = 0.75\n",
      "\n",
      "# Calculations \n",
      "P = w*Q*H/(no*1000)\n",
      "p = w*H\n",
      "\n",
      "# Results \n",
      "print \"power in Kw required by the pump,pressure developed by the pump in  N/m2\",round(P,3),p\n"
     ],
     "language": "python",
     "metadata": {},
     "outputs": [
      {
       "output_type": "stream",
       "stream": "stdout",
       "text": [
        "power in Kw required by the pump,pressure developed by the pump in  N/m2 50.855 127137.6\n"
       ]
      }
     ],
     "prompt_number": 13
    },
    {
     "cell_type": "heading",
     "level": 2,
     "metadata": {},
     "source": [
      "Example 10.17 Page No : 226"
     ]
    },
    {
     "cell_type": "code",
     "collapsed": false,
     "input": [
      "\n",
      "# Variables\n",
      "d1 = 0.3\n",
      "N1 = 2000./60\n",
      "Q1 = 3.\n",
      "Hm1 = 30.\n",
      "Q2 = 5.\n",
      "N2 = 1500./60\n",
      "Ht = 200.\n",
      "\n",
      "# Calculations \n",
      "Hm2 = ((N2/N1)*((Q2/Q1)**0.5)*(Hm1**0.75))**1.3333\n",
      "n = Ht/Hm2\n",
      "d2 = ((Hm2/Hm1)**0.5)*(N1/N2)*d1\n",
      "\n",
      "# Results \n",
      "print \"number of stages and diameter of each impeller in cm\",round(n,3),round((d2*100),2)\n"
     ],
     "language": "python",
     "metadata": {},
     "outputs": [
      {
       "output_type": "stream",
       "stream": "stdout",
       "text": [
        "number of stages and diameter of each impeller in cm 6.96 39.15\n"
       ]
      }
     ],
     "prompt_number": 14
    },
    {
     "cell_type": "code",
     "collapsed": false,
     "input": [],
     "language": "python",
     "metadata": {},
     "outputs": []
    }
   ],
   "metadata": {}
  }
 ]
}