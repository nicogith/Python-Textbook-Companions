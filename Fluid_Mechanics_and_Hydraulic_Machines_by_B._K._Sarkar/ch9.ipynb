{
 "metadata": {
  "name": "",
  "signature": "sha256:04bb97393d5fbbef8189e63f66336b0ac299ced6d9fe7802df79f548f7068027"
 },
 "nbformat": 3,
 "nbformat_minor": 0,
 "worksheets": [
  {
   "cells": [
    {
     "cell_type": "heading",
     "level": 1,
     "metadata": {},
     "source": [
      "Chapter 9 : Reciprocating Pump"
     ]
    },
    {
     "cell_type": "heading",
     "level": 2,
     "metadata": {},
     "source": [
      "Example 9.1 Page No : 191"
     ]
    },
    {
     "cell_type": "code",
     "collapsed": false,
     "input": [
      "import math \n",
      "\n",
      "# Variables\n",
      "D = 0.15   # cm\n",
      "S = 0.25   # cm\n",
      "N = 50.     # r.p.m\n",
      "Hs = 5.  # m\n",
      "Hd = 15     # m\n",
      "ns = .6     \n",
      "deltaD = 0.75\n",
      "w = 9810.\n",
      "\n",
      "# Calculations \n",
      "suction = w*math.pi*D**2*Hs/(4*ns) \n",
      "delivery = (w*math.pi*D**2*Hd)/(4*deltaD)\n",
      "p_required = ((suction+delivery)*S*N)/(1000*60)\n",
      "\n",
      "\n",
      "# Results \n",
      "print \"Power required by the pump : %.4f kW\"%p_required\n",
      "\n",
      "# note : book answer is wrong."
     ],
     "language": "python",
     "metadata": {},
     "outputs": [
      {
       "output_type": "stream",
       "stream": "stdout",
       "text": [
        "Power required by the pump : 1.0233 kW\n"
       ]
      }
     ],
     "prompt_number": 6
    },
    {
     "cell_type": "heading",
     "level": 2,
     "metadata": {},
     "source": [
      "Example 9.2 page no : 192"
     ]
    },
    {
     "cell_type": "code",
     "collapsed": false,
     "input": [
      "import math\n",
      "\n",
      "# Variables\n",
      "D = 0.18\n",
      "s = 0.36\n",
      "Hs = 3.\n",
      "Hd = 45.\n",
      "N = 50.\n",
      "n = 0.85\n",
      "\n",
      "# Calculations \n",
      "a = math.pi*D*D/4\n",
      "Q = (2*a*s*N)/60\n",
      "g = 9.81\n",
      "w = g*1000\n",
      "P = w*Q*(Hs+Hd)/(n*1000)\n",
      "\n",
      "# Results \n",
      "print \"power in kw required to drive the pump : %.3f\"%P\n"
     ],
     "language": "python",
     "metadata": {},
     "outputs": [
      {
       "output_type": "stream",
       "stream": "stdout",
       "text": [
        "power in kw required to drive the pump : 8.458\n"
       ]
      }
     ],
     "prompt_number": 8
    },
    {
     "cell_type": "heading",
     "level": 2,
     "metadata": {},
     "source": [
      "Example 9.3 pageno : 192"
     ]
    },
    {
     "cell_type": "code",
     "collapsed": false,
     "input": [
      "import math\n",
      "\n",
      "# Variables\n",
      "D = 0.15\n",
      "s = 0.3\n",
      "Hs = 3.\n",
      "Hd = 30.\n",
      "n = 0.8\n",
      "a = math.pi*D*D/4\n",
      "N = 60./60\n",
      "w = 9810.\n",
      "Q = 0.62/60\n",
      "\n",
      "# Calculations \n",
      "Qth = (2*a*s*N)\n",
      "slip = (Qth-Q)/Qth\n",
      "power = (w*Qth*(Hs+Hd))/(1000*n)\n",
      "\n",
      "# Results \n",
      "print \"power in Kw required to drive the pump : %.2f kW \\\n",
      "\\npercentage slip : %.3f %%\"%(round(power,2),round((slip*100),2))\n"
     ],
     "language": "python",
     "metadata": {},
     "outputs": [
      {
       "output_type": "stream",
       "stream": "stdout",
       "text": [
        "power in Kw required to drive the pump : 4.29 kW \n",
        "percentage slip : 2.540 %\n"
       ]
      }
     ],
     "prompt_number": 10
    },
    {
     "cell_type": "heading",
     "level": 2,
     "metadata": {},
     "source": [
      "Example 9.4 Page No : 193"
     ]
    },
    {
     "cell_type": "code",
     "collapsed": false,
     "input": [
      "import math\n",
      "\n",
      "# Variables\n",
      "D = 0.15          #mm\n",
      "s = 0.3           #mm \n",
      "N = 50./60        #r.p.m \n",
      "H = 25.           #m, height\n",
      "Qact = 0.0042     #liter/s   \n",
      "Ld = 22.          #m long  \n",
      "d = 0.1           #mm  \n",
      "\n",
      "# Calculations \n",
      "a = math.pi*D*D/4\n",
      "Qth = a*s*N\n",
      "w = 9810\n",
      "power = w*Qth*H/1000\n",
      "slip = (Qth-Qact)/Qth\n",
      "W = 2*math.pi*N\n",
      "a1 = math.pi*d*d/4\n",
      "g = 9.81\n",
      "Had = (Ld*a*W*W*s)/(g*a1*2)\n",
      "\n",
      "# Results \n",
      "print \"theoritical discharge : %.8f m**3/s \\\n",
      "\\ntheoritical power : %.5f kW  \\\n",
      "\\npercentage slip : %.2f %% \\\n",
      "\\nacceleration head : %.2f m\"%(Qth,round(power,5),round((slip*100),2),round(Had,2))\n"
     ],
     "language": "python",
     "metadata": {},
     "outputs": [
      {
       "output_type": "stream",
       "stream": "stdout",
       "text": [
        "theoritical discharge : 0.00441786 m**3/s \n",
        "theoritical power : 1.08348 kW  \n",
        "percentage slip : 4.93 % \n",
        "acceleration head : 20.75 m\n"
       ]
      }
     ],
     "prompt_number": 11
    },
    {
     "cell_type": "heading",
     "level": 2,
     "metadata": {},
     "source": [
      "Example 9.5 Page No : 194"
     ]
    },
    {
     "cell_type": "code",
     "collapsed": false,
     "input": [
      "import math\n",
      "\n",
      "# Variables\n",
      "s = 0.15        #m, strok length\n",
      "Ls = 7.         #7 pipe\n",
      "ds = 0.075      #cylinder    \n",
      "N = 75./60       \n",
      "Hs = 2.5        #m, water level\n",
      "z = 16./9        \n",
      "f = 0.01\n",
      "W = 2*math.pi*N\n",
      "g = 9.81\n",
      "\n",
      "# Calculations \n",
      "Has = Ls*z*W*W*ds/g\n",
      "H = Hs+Has\n",
      "H1 = Has-Hs\n",
      "Hfs = (4*f*Ls/(ds*2*g))*((z*W*ds)**2)\n",
      "H2 = Hfs+Hs\n",
      "\n",
      "# Results \n",
      "print \"pressure head:beginning of suction stroke : %.4f m \\\n",
      "\\nend of the suction stroke : %.4f m \\\n",
      "\\nmiddle of the suction stroke : %.4f m\"%(round(H,4),round(H1,4),round(H2,4))\n"
     ],
     "language": "python",
     "metadata": {},
     "outputs": [
      {
       "output_type": "stream",
       "stream": "stdout",
       "text": [
        "pressure head:beginning of suction stroke : 8.3688 m \n",
        "end of the suction stroke : 3.3688 m \n",
        "middle of the suction stroke : 2.7087 m\n"
       ]
      }
     ],
     "prompt_number": 13
    },
    {
     "cell_type": "heading",
     "level": 2,
     "metadata": {},
     "source": [
      "Example 9.6 Page No : 196"
     ]
    },
    {
     "cell_type": "code",
     "collapsed": false,
     "input": [
      "import math\n",
      "\n",
      "# Variables\n",
      "D = 0.08                #m diameter\n",
      "s = 0.15                #m stroke  \n",
      "Hs = 3.                 # water for sump\n",
      "ds = 0.03               #diameter  \n",
      "g = 9.81                 \n",
      "Ls = 4.5                \n",
      "p = 78.86*(1000)       #kN/m**2  \n",
      "w = 9810.                \n",
      "W = 2*math.pi/60\n",
      "\n",
      "# Calculations \n",
      "z = (D/ds)**2\n",
      "Hsep = p/w\n",
      "Habs = 10.3-Hsep\n",
      "Has = Hsep-Hs\n",
      "N = ((Has*g*2)/(z*W*W*s*Ls))**0.5\n",
      "\n",
      "# Results \n",
      "print \"maximium speed in rpm at which may run without separation\",round(N,2),\"r.p.m\"\n",
      "\n",
      "# note : rounding off error"
     ],
     "language": "python",
     "metadata": {},
     "outputs": [
      {
       "output_type": "stream",
       "stream": "stdout",
       "text": [
        "maximium speed in rpm at which may run without separation 43.34 r.p.m\n"
       ]
      }
     ],
     "prompt_number": 16
    },
    {
     "cell_type": "heading",
     "level": 2,
     "metadata": {},
     "source": [
      "Example 9.7 Page No : 197"
     ]
    },
    {
     "cell_type": "code",
     "collapsed": false,
     "input": [
      "import math\n",
      "\n",
      "# Variables\n",
      "Hs = 5.\n",
      "Ls = 10.\n",
      "D = 0.15             #m diameter\n",
      "d = 0.1              \n",
      "N = 30./60\n",
      "s = 0.15             #m delivery head\n",
      "g = 9.81\n",
      "W = 2*math.pi*N\n",
      "w = 9810.\n",
      "ha = 10.3\n",
      "\n",
      "# Calculations \n",
      "z = (D/d)**2\n",
      "H = (Ls*z*W*W*s/g)\n",
      "Ph = Hs+H\n",
      "Phabs = ha-Ph\n",
      "f = 0.01\n",
      "Hfs = (4*f*Ls/(d*2*g))*((z*W*s)**2)\n",
      "H1 = Hs+Hfs\n",
      "H1abs = ha-H1\n",
      "H2 = Hs-H\n",
      "H2abs = ha-H2\n",
      "Hd = 15.\n",
      "Ld = 25.\n",
      "H11 = (Ld*z*W*W*s/g)\n",
      "H12 = H11+Hd\n",
      "H12abs = ha+H12\n",
      "Hfd = (4*f*Ld/(d*2*g))*((z*W*s)**2)\n",
      "H22 = Hd+Hfd\n",
      "H22abs = ha+H22\n",
      "H3 = Hd-H11\n",
      "H3abs = ha+H3\n",
      "a = 3.142*D*D/4\n",
      "Q = a*s*2*N\n",
      "power = (w*Q*(Hs+Hd+(0.6666*Hfs)+Hfd*0.6666))/1000\n",
      "\n",
      "# Results \n",
      "print \"pressure head at middle and end of suction stroke\",round(H1abs,4),round(H2abs,4)\n",
      "print \"pressure head at beginning,middle,end of suction stroke\",round(H12abs,4),round(H22abs,3),round(H3abs,4)\n",
      "print \"power in Kw required to drive the pump\",round(power,3)\n",
      "\n",
      "# note : rounding off error."
     ],
     "language": "python",
     "metadata": {},
     "outputs": [
      {
       "output_type": "stream",
       "stream": "stdout",
       "text": [
        "pressure head at middle and end of suction stroke 5.0708 8.6955\n",
        "pressure head at beginning,middle,end of suction stroke 33.7888 25.873 16.8112\n",
        "power in Kw required to drive the pump 0.534\n"
       ]
      }
     ],
     "prompt_number": 17
    },
    {
     "cell_type": "code",
     "collapsed": false,
     "input": [],
     "language": "python",
     "metadata": {},
     "outputs": []
    }
   ],
   "metadata": {}
  }
 ]
}