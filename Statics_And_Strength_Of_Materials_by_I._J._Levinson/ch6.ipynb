{
 "metadata": {
  "name": "",
  "signature": "sha256:5eef56b3be475b00ee38a435583334aab5002f35094b33b8b203b9f08b619d7c"
 },
 "nbformat": 3,
 "nbformat_minor": 0,
 "worksheets": [
  {
   "cells": [
    {
     "cell_type": "heading",
     "level": 1,
     "metadata": {},
     "source": [
      "Chapter 6 : Friction"
     ]
    },
    {
     "cell_type": "heading",
     "level": 2,
     "metadata": {},
     "source": [
      "Example 6.1 Page No : 115"
     ]
    },
    {
     "cell_type": "code",
     "collapsed": false,
     "input": [
      "import math \n",
      "\t\t\t\n",
      "# Variables\n",
      "W = 100. \t\t\t#lb\n",
      "Frictioncoefficient = 0.65\n",
      "\t\t\t\n",
      "# Calculations\n",
      "A1 = math.degrees(math.atan(Frictioncoefficient))\n",
      "\t\t\t\n",
      "# Results\n",
      "print  'Maximum Incliantion = %.f degrees'%(A1)\n"
     ],
     "language": "python",
     "metadata": {},
     "outputs": [
      {
       "output_type": "stream",
       "stream": "stdout",
       "text": [
        "Maximum Incliantion = 33 degrees\n"
       ]
      }
     ],
     "prompt_number": 3
    },
    {
     "cell_type": "heading",
     "level": 2,
     "metadata": {},
     "source": [
      "Example 6.2 Page No : 115"
     ]
    },
    {
     "cell_type": "code",
     "collapsed": false,
     "input": [
      "import math \n",
      "\t\t\t\n",
      "# Variables\n",
      "W = 100.     \t\t\t#lb\n",
      "Frictioncoefficient = 0.40\n",
      "x = 3.\n",
      "y = 4.\n",
      "\t\t\t\n",
      "# Calculations\n",
      "Fmax = (W*y/(math.sqrt(x**2+y**2)))+Frictioncoefficient*W*x/(math.sqrt(x**2+y**2))\n",
      "Fmin =(W*y/(math.sqrt(x**2+y**2)))-Frictioncoefficient*W*x/(math.sqrt(x**2+y**2))\n",
      " \t\t\t\n",
      "# Results\n",
      "print  'Fmin = %.f lb'%(Fmin)\n",
      "print  'Fmax =%.f lb'%(Fmax)\n"
     ],
     "language": "python",
     "metadata": {},
     "outputs": [
      {
       "output_type": "stream",
       "stream": "stdout",
       "text": [
        "Fmin = 56 lb\n",
        "Fmax =104 lb\n"
       ]
      }
     ],
     "prompt_number": 2
    },
    {
     "cell_type": "heading",
     "level": 2,
     "metadata": {},
     "source": [
      "Example 6.3 Page No : 116"
     ]
    },
    {
     "cell_type": "code",
     "collapsed": false,
     "input": [
      "import math \n",
      "from numpy import linalg\n",
      "\t\t\t\n",
      "# Variables\n",
      "mus = 0.25\n",
      "d = 0.5 \t\t\t#in\n",
      "h = 3.   \t\t\t#in\n",
      "\t\t\t\n",
      "# Calculations\n",
      "A = [[1, -1],[mus, mus]]\n",
      "b = [0,1]\n",
      "c = linalg.solve(A,b)\n",
      "Na = c[0]\n",
      "Nb = c[1]\n",
      "d = -d*mus*Na+h*Na\n",
      "\t\t\t\n",
      "# Results\n",
      "print  'minimu distance = %.2f in'%(d)\n"
     ],
     "language": "python",
     "metadata": {},
     "outputs": [
      {
       "output_type": "stream",
       "stream": "stdout",
       "text": [
        "minimu distance = 5.75 in\n"
       ]
      }
     ],
     "prompt_number": 3
    },
    {
     "cell_type": "heading",
     "level": 2,
     "metadata": {},
     "source": [
      "Example 6.4 Page No : 118"
     ]
    },
    {
     "cell_type": "code",
     "collapsed": false,
     "input": [
      "import math \n",
      "\t\t\t\n",
      "# Variables\n",
      "Ft = 1000. \t\t\t#lb\n",
      "a1 = 5. \t\t\t#degrees\n",
      "mu = 0.30\n",
      "\t\t\t\n",
      "# Calculations\n",
      "R1 = Ft/math.cos(a1+math.tan(mu))\n",
      "F = R1*math.sin(a1)+math.tan(mu)+math.tan(mu)/math.sin(90-math.tan(mu))\n",
      "\t\t\t\n",
      "# Results\n",
      "print  'Forec required to start wedge = %.f lb'%(F)\n"
     ],
     "language": "python",
     "metadata": {},
     "outputs": [
      {
       "output_type": "stream",
       "stream": "stdout",
       "text": [
        "Forec required to start wedge = -1705 lb\n"
       ]
      }
     ],
     "prompt_number": 9
    },
    {
     "cell_type": "heading",
     "level": 2,
     "metadata": {},
     "source": [
      "Example 6.5 Page No : 120"
     ]
    },
    {
     "cell_type": "code",
     "collapsed": false,
     "input": [
      "\t\t\t\n",
      "import math \n",
      "\n",
      "# Variables\n",
      "W = 100. \t\t\t#lb\n",
      "n1 = 1/2.\n",
      "n2 = 3/2.\n",
      "mus = 0.40\n",
      "\t\t\t\n",
      "# Calculations\n",
      "Ts1 = W/(math.exp(mus*n1*2*math.pi))\n",
      "Ts2 =  W/(math.exp(mus*n2*2*math.pi)) \n",
      "\t\t\t\n",
      "# Results\n",
      "print  'Ts1 = %.2f lb'%(Ts1)\n",
      "print  'Ts2 =%.2f lb'%(Ts2)\n"
     ],
     "language": "python",
     "metadata": {},
     "outputs": [
      {
       "output_type": "stream",
       "stream": "stdout",
       "text": [
        "Ts1 = 28.46 lb\n",
        "Ts2 =2.31 lb\n"
       ]
      }
     ],
     "prompt_number": 10
    },
    {
     "cell_type": "heading",
     "level": 2,
     "metadata": {},
     "source": [
      "Example 6.6 Page No : 121"
     ]
    },
    {
     "cell_type": "code",
     "collapsed": false,
     "input": [
      "import math \n",
      "from numpy import linalg\n",
      "\t\t\t\n",
      "# Variables\n",
      "F = 20.\t\t\t#lb\n",
      "L1 = 6. \t\t\t#in\n",
      "L2 = 12. \t\t\t#in\n",
      "L3 = 24. \t\t\t#in\n",
      "mus = 0.60\n",
      "\t\t\t\n",
      "# Calculations\n",
      "A =[[1,-math.exp(mus*math.pi)],[(L1+L2),(L1)]]\n",
      "b =[0,F*(L1+L2+L3)]\n",
      "c = linalg.solve(A,b)\n",
      "TL = c[0]\n",
      "Ts = c[1]\n",
      "\t\t\t\n",
      "# Results\n",
      "print  'TL = %.2f lb'%(TL)\n",
      "print  'Ts = %.2f lb'%(Ts)\n",
      "\n",
      "# note : answers are slightly different because of rounding off errors.\n"
     ],
     "language": "python",
     "metadata": {},
     "outputs": [
      {
       "output_type": "stream",
       "stream": "stdout",
       "text": [
        "TL = 44.42 lb\n",
        "Ts = 6.74 lb\n"
       ]
      }
     ],
     "prompt_number": 5
    },
    {
     "cell_type": "heading",
     "level": 2,
     "metadata": {},
     "source": [
      "Example 6.7 Page No : 123"
     ]
    },
    {
     "cell_type": "code",
     "collapsed": false,
     "input": [
      "import math \n",
      "\t\t\t\n",
      "# Variables\n",
      "d = 24. \t\t\t#in\n",
      "mu = 0.05\n",
      "W = 2000. \t\t\t#lb\n",
      "\t\t\t\n",
      "# Calculations\n",
      "F = W*mu*2/d\n",
      "\t\t\t\n",
      "# Results\n",
      "print  'F = %.2f lb'%(F)\n"
     ],
     "language": "python",
     "metadata": {},
     "outputs": [
      {
       "output_type": "stream",
       "stream": "stdout",
       "text": [
        "F = 8.33 lb\n"
       ]
      }
     ],
     "prompt_number": 12
    },
    {
     "cell_type": "heading",
     "level": 2,
     "metadata": {},
     "source": [
      "Example 6.8 Page No : 124"
     ]
    },
    {
     "cell_type": "code",
     "collapsed": false,
     "input": [
      "import math \n",
      "\t\t\t\n",
      "# Variables\n",
      "F = 800. \t\t\t#lb\n",
      "muk = 0.10\n",
      "Do = 5. \t\t\t#in\n",
      "Di = 3. \t\t\t#in\n",
      "\t\t\t\n",
      "# Calculations\n",
      "M = 2*muk*F*((Do/2)**3-(Di/2)**3)/(3*((Do/2)**2-(Di/2)**2))\n",
      "\t\t\t\n",
      "# Results\n",
      "print  'M = %.f lb in'%(M)\n"
     ],
     "language": "python",
     "metadata": {},
     "outputs": [
      {
       "output_type": "stream",
       "stream": "stdout",
       "text": [
        "M = 163 lb in\n"
       ]
      }
     ],
     "prompt_number": 13
    }
   ],
   "metadata": {}
  }
 ]
}