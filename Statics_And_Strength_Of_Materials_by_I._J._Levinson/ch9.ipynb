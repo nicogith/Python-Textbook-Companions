{
 "metadata": {
  "name": "",
  "signature": "sha256:9125011b4afb20e4bcb070d525e10ee7f4e22999f77038ff5e818f0e6a9e5e7f"
 },
 "nbformat": 3,
 "nbformat_minor": 0,
 "worksheets": [
  {
   "cells": [
    {
     "cell_type": "heading",
     "level": 1,
     "metadata": {},
     "source": [
      "Chapter 9 : Concept of Strain"
     ]
    },
    {
     "cell_type": "heading",
     "level": 2,
     "metadata": {},
     "source": [
      "Example 9.1 Page No : 193"
     ]
    },
    {
     "cell_type": "code",
     "collapsed": false,
     "input": [
      "\n",
      "# Variables\n",
      "length =10  \t\t\t#ft\n",
      "delta =0.024 \t\t\t#in\n",
      "\n",
      "# Calculations\n",
      "epsilon =delta/(length*12)\n",
      "\n",
      "# Results\n",
      "print \"Axial strain =%.4f in/in\"%(epsilon)\n"
     ],
     "language": "python",
     "metadata": {},
     "outputs": [
      {
       "output_type": "stream",
       "stream": "stdout",
       "text": [
        "Axial strain =0.0002 in/in\n"
       ]
      }
     ],
     "prompt_number": 1
    },
    {
     "cell_type": "heading",
     "level": 2,
     "metadata": {},
     "source": [
      "Example 9.2 Page No : 194"
     ]
    },
    {
     "cell_type": "code",
     "collapsed": false,
     "input": [
      "import math \n",
      "\n",
      "# Variables\n",
      "drop = 5. \t\t\t#in\n",
      "width = 8. \t\t\t#ft\n",
      "\n",
      "# Calculations\n",
      "deltaMB =math.sqrt((width*12/2)**2 +drop**2) - (width*12/2)\n",
      "epsilon =deltaMB/(width*12/2)\n",
      "\n",
      "# Results\n",
      "print \"Strain in the wire = %.5f in/in\"%(epsilon)\n"
     ],
     "language": "python",
     "metadata": {},
     "outputs": [
      {
       "output_type": "stream",
       "stream": "stdout",
       "text": [
        "Strain in the wire = 0.00541 in/in\n"
       ]
      }
     ],
     "prompt_number": 3
    },
    {
     "cell_type": "heading",
     "level": 2,
     "metadata": {},
     "source": [
      "Example 9.3 Page no : 198"
     ]
    },
    {
     "cell_type": "code",
     "collapsed": false,
     "input": [
      "import math\n",
      "\n",
      "# variables and Calculations\n",
      "\n",
      "E = 30000./0.001\n",
      "deltaP1 = 66000.     # psi\n",
      "deltault = 116000    # psi\n",
      "deltarup = 103000    # psi\n",
      "\n",
      "Pf = round(deltarup*math.pi/4*0.505**2,-2)\n",
      "deltarup_ = round(Pf/(math.pi*0.425**2/4),-3)\n",
      "percent_elongation = (2.375 - 2)/2*100\n",
      "percent_reduction = ((math.pi*0.505**2/4) - (math.pi*0.425**2/4))/(math.pi*0.505**2/4) * 100\n",
      "\n",
      "# Results\n",
      "print \"E = %.1e psi\"%E\n",
      "print \"The load of failure Pf = %d lb\"%Pf\n",
      "print \"Rupture strength : %.d psi\"%deltarup_\n",
      "print \"Percent elongation = %.1f %%\"%percent_elongation\n",
      "print \"Percent reduction in area = %.1f %%\"%percent_reduction\n",
      "\n",
      "\n",
      "# note : last answer is wrong in book. please check."
     ],
     "language": "python",
     "metadata": {},
     "outputs": [
      {
       "output_type": "stream",
       "stream": "stdout",
       "text": [
        "E = 3.0e+07 psi\n",
        "The load of failure Pf = 20600 lb\n",
        "Rupture strength : 145000 psi\n",
        "Percent elongation = 18.8 %\n",
        "Percent reduction in area = 29.2 %\n"
       ]
      }
     ],
     "prompt_number": 15
    },
    {
     "cell_type": "heading",
     "level": 2,
     "metadata": {},
     "source": [
      "Example 9.4 Page No : 203"
     ]
    },
    {
     "cell_type": "code",
     "collapsed": false,
     "input": [
      "import math \n",
      "\n",
      "# Variables\n",
      "length =15. \t\t\t#in\n",
      "tension =5000. \t\t\t#lb\n",
      "UltStress =20000. \t\t\t#psi\n",
      "delta =0.005 \t\t\t#in\n",
      "\n",
      "# Calculations\n",
      "E =30*10**6 \t\t\t#psi\n",
      "A1 =tension/UltStress\n",
      "A2 =tension*length/(delta*E)\n",
      "if A1 >= A2:\n",
      "    A =A1\n",
      "else:\n",
      "    A =A2\n",
      "Dia =math.sqrt(4*A/math.pi)\n",
      "\n",
      "# Results\n",
      "print \"diameter required = %.3f in\"%( Dia)\n"
     ],
     "language": "python",
     "metadata": {},
     "outputs": [
      {
       "output_type": "stream",
       "stream": "stdout",
       "text": [
        "diameter required = 0.798 in\n"
       ]
      }
     ],
     "prompt_number": 4
    },
    {
     "cell_type": "heading",
     "level": 2,
     "metadata": {},
     "source": [
      "Example 9.5 Page No : 204"
     ]
    },
    {
     "cell_type": "code",
     "collapsed": false,
     "input": [
      "import math \n",
      "\n",
      "# Variables\n",
      "L1 =5.\n",
      "L2 =10.\n",
      "T1 =2.5\n",
      "T2 =5.\n",
      "T3 =5.\n",
      "T4 =5.\n",
      "T5 =2.5\n",
      "E =30.*10**6  \t\t\t#psi\n",
      "outDia =2.   \t\t\t#in\n",
      "\n",
      "# Calculations # Results\n",
      "inDia =1./8 \t\t\t#in\n",
      "RE =(T1+T2+T3+T4+T5)/2 \t\t\t#kips\n",
      "RA =RE\n",
      "GH =(RA*L2-T2*L1-T1*L2)/4\n",
      "print \"Stress in GH =%.1f kips\"%(GH)\n",
      "A =math.pi*(outDia**2-(outDia-2*inDia)**2)/4\n",
      "delta =GH*10**3 *(L1*12)/(E*A)\n",
      "print \" Deformation =%.3f in\"%(delta)\n",
      "sigma =GH*10**3 /A\n",
      "print \" Stress =%d psi\"%(round(sigma,-3))\n",
      "SF =65000/sigma\n",
      "print \" Factor of safety =%.3f \"%(SF)\n"
     ],
     "language": "python",
     "metadata": {},
     "outputs": [
      {
       "output_type": "stream",
       "stream": "stdout",
       "text": [
        "Stress in GH =12.5 kips\n",
        " Deformation =0.034 in\n",
        " Stress =17000 psi\n",
        " Factor of safety =3.829 \n"
       ]
      }
     ],
     "prompt_number": 19
    },
    {
     "cell_type": "heading",
     "level": 2,
     "metadata": {},
     "source": [
      "Example 9.6 Page No : 205"
     ]
    },
    {
     "cell_type": "code",
     "collapsed": false,
     "input": [
      "import math \n",
      "from numpy import linalg\n",
      "\t\t\t\n",
      "# Variables\n",
      "Es = 30.*10**6 \t\t\t#psi\n",
      "As = 1. \t\t\t#in**2\n",
      "Ea = 10.*10**6 \t\t\t#psi\n",
      "Aa = 2. \t\t\t#in**2\n",
      "Ls = 10. \t\t\t#ft\n",
      "La = 5. \t\t\t#ft\n",
      "\t\t\t\n",
      "# Calculations\n",
      "A =[[(Ls/(Es*As)) ,(-La/(Ea*Aa))],[1 ,1]]\n",
      "b = [0,1]\n",
      "c = linalg.solve(A,b)\n",
      "Fa = c[0]\n",
      "Fb = c[1]\n",
      "d = Fb*Ls\n",
      "\t\t\t\n",
      "# Results\n",
      "print  'distance = %.2f ft'%(d)\n"
     ],
     "language": "python",
     "metadata": {},
     "outputs": [
      {
       "output_type": "stream",
       "stream": "stdout",
       "text": [
        "distance = 5.71 ft\n"
       ]
      }
     ],
     "prompt_number": 6
    },
    {
     "cell_type": "heading",
     "level": 2,
     "metadata": {},
     "source": [
      "Example 9.7 Page No : 206"
     ]
    },
    {
     "cell_type": "code",
     "collapsed": false,
     "input": [
      "import math \n",
      "\n",
      "# Variables\n",
      "P =40000. \t\t\t#lb\n",
      "L =15. \t\t\t#in\n",
      "delta =0.0032 \t\t\t#in\n",
      "dia =4. \t\t\t#in\n",
      "axial =0.0032  \t\t\t#in\n",
      "lateral =0.00022  \t\t\t#in\n",
      "\n",
      "# Calculations # Results\n",
      "E =P*L/(delta*math.pi*(dia/2)**2)\n",
      "print \"Modulus of elasticity =%.2f psi\"%(E)\n",
      "Mu =lateral*L/(axial*dia)\n",
      "print \"Poisson ratio = %.2f\"%(Mu)\n"
     ],
     "language": "python",
     "metadata": {},
     "outputs": [
      {
       "output_type": "stream",
       "stream": "stdout",
       "text": [
        "Modulus of elasticity =14920775.91 psi\n",
        "Poisson ratio = 0.26\n"
       ]
      }
     ],
     "prompt_number": 6
    },
    {
     "cell_type": "heading",
     "level": 2,
     "metadata": {},
     "source": [
      "Example 9.8 Page No : 207"
     ]
    },
    {
     "cell_type": "code",
     "collapsed": false,
     "input": [
      "import math\n",
      "\n",
      "# Variables\n",
      "alpha =11.2*10**(-6) \t\t\t#in/in/F\n",
      "E =15*10**6 \t\t\t#psi\n",
      "L =60. \t\t\t#in\n",
      "deltaT1 =0.01 \t\t\t#in\n",
      "T2 =50 \t\t\t#F\n",
      "\n",
      "# Calculations # Results\n",
      "deltaT =deltaT1/(alpha*L)\n",
      "print \"The temperature increase necessary to cause free end to touch B =%.1f F\"%(deltaT)\n",
      "sigma =(alpha*L*T2-deltaT1)*E/L\n",
      "print \"Stress in the rod =%d psi\"%(sigma+1)\n"
     ],
     "language": "python",
     "metadata": {},
     "outputs": [
      {
       "output_type": "stream",
       "stream": "stdout",
       "text": [
        "The temperature increase necessary to cause free end to touch B =14.9 F\n",
        "Stress in the rod =5900 psi\n"
       ]
      }
     ],
     "prompt_number": 7
    },
    {
     "cell_type": "heading",
     "level": 2,
     "metadata": {},
     "source": [
      "\n",
      "Example 9.9 Page No : 208"
     ]
    },
    {
     "cell_type": "code",
     "collapsed": false,
     "input": [
      "\n",
      "# Variables\n",
      "weight =25000. \t\t\t#Kg\n",
      "A =2 \t\t\t        #sq.in\n",
      "alphaS =6.5*10**(-6) \t\t\t#in/in/F\n",
      "alphaB =11.2*10**(-6) \t\t\t#in/in/F\n",
      "Es =30*10**6 \t\t\t#psi\n",
      "Eb =15*10**6 \t\t\t#psi\n",
      "\n",
      "# Calculations # Results\n",
      "deltaT =weight/(Es*A*(alphaB-alphaS))\n",
      "print \"Net temperature drop =%.1f F\"%(deltaT)\n"
     ],
     "language": "python",
     "metadata": {},
     "outputs": [
      {
       "output_type": "stream",
       "stream": "stdout",
       "text": [
        "Net temperature drop =88.7 F\n"
       ]
      }
     ],
     "prompt_number": 8
    },
    {
     "cell_type": "heading",
     "level": 2,
     "metadata": {},
     "source": [
      "Example 9.10 Page No : 209"
     ]
    },
    {
     "cell_type": "code",
     "collapsed": false,
     "input": [
      "import math \n",
      "\n",
      "# Variables\n",
      "S =5. \t\t\t#in\n",
      "Al =6. \t\t\t#in\n",
      "alphaS =6.5*10**(-6) \t\t\t#in/in/F\n",
      "alphaAl =13.1*10**(-6) \t\t\t#in/in/F\n",
      "Es =30.*10**6 \t\t\t#psi\n",
      "EAl =10.*10**6 \t\t\t#psi\n",
      "As =1. \t\t\t#in**2\n",
      "AAl =2. \t\t\t#in**2\n",
      "T =50. \t\t\t#F\n",
      "dia =1 \t\t\t#in\n",
      "\n",
      "# Calculations # Results\n",
      "P =(alphaS*S*12*T + alphaAl*Al*12*T)/(S*12/(Es*As) + Al*12/(EAl*AAl))\n",
      "print \"Shearing force = %d lb\"%(round(P,-1))\n",
      "T =P/(math.pi*(dia/2.)**2)\n",
      "print \" The shear stress in the pin =%d psi\"%(round(T,-2))\n"
     ],
     "language": "python",
     "metadata": {},
     "outputs": [
      {
       "output_type": "stream",
       "stream": "stdout",
       "text": [
        "Shearing force = 11900 lb\n",
        " The shear stress in the pin =15200 psi\n"
       ]
      }
     ],
     "prompt_number": 21
    },
    {
     "cell_type": "heading",
     "level": 2,
     "metadata": {},
     "source": [
      "Example 9.11 Page No : 211"
     ]
    },
    {
     "cell_type": "code",
     "collapsed": false,
     "input": [
      "\n",
      "# Variables\n",
      "edge = 2. \t\t\t#in\n",
      "height =3. \t\t\t#in\n",
      "F = 20000. \t\t\t#lb\n",
      "deltaS = 0.00234 \t\t\t#in\n",
      "deltaA = 0.00088 \t\t\t#in\n",
      "\n",
      "# Calculations # Results\n",
      "E = F*height/(deltaA*edge*edge)\n",
      "print \"Modulus of elasticity = %.1e psi\"%(E)\n",
      "G =F*height/(deltaS*edge*edge)\n",
      "print \" Modulus of Rigidity = %.1e psi\"%(G)\n",
      "Mu =E/(2*G) -1\n",
      "print \" Poisson ratio = %.1f \"%(Mu)\n"
     ],
     "language": "python",
     "metadata": {},
     "outputs": [
      {
       "output_type": "stream",
       "stream": "stdout",
       "text": [
        "Modulus of elasticity = 1.7e+07 psi\n",
        " Modulus of Rigidity = 6.4e+06 psi\n",
        " Poisson ratio = 0.3 \n"
       ]
      }
     ],
     "prompt_number": 14
    }
   ],
   "metadata": {}
  }
 ]
}