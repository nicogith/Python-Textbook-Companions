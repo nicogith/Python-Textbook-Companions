{
 "metadata": {
  "name": "",
  "signature": "sha256:a09e16c002c633d5d63dac7b4f943159d57261807392bec341e8052ebf397939"
 },
 "nbformat": 3,
 "nbformat_minor": 0,
 "worksheets": [
  {
   "cells": [
    {
     "cell_type": "heading",
     "level": 1,
     "metadata": {},
     "source": [
      "Chapter 8 : Concept of Stress"
     ]
    },
    {
     "cell_type": "heading",
     "level": 2,
     "metadata": {},
     "source": [
      "Example 8.1 Page No : 158"
     ]
    },
    {
     "cell_type": "code",
     "collapsed": false,
     "input": [
      "\t\t\t\n",
      "# Variables\n",
      "F = -100 \t\t\t#lb\n",
      "x1 = 3 \t\t\t#in\n",
      "y = 6 \t\t\t#in\n",
      "x2 = 24 \t\t\t#in\n",
      "x3 = 12 \t\t\t#in\n",
      "\t\t\t\n",
      "# Calculations\n",
      "Force = -F\n",
      "Moment = -F*(x2+x1)\n",
      "Torque = -F*y\n",
      "\t\t\t\n",
      "# Results\n",
      "print  'Force = %.2f lb'%(Force)\n",
      "print  'Moment =%.2f lb.in'%(Moment)\n",
      "print  'Torque =%.2f lb.in'%(Torque)\n"
     ],
     "language": "python",
     "metadata": {},
     "outputs": [
      {
       "output_type": "stream",
       "stream": "stdout",
       "text": [
        "Force = 100.00 lb\n",
        "Moment =2700.00 lb.in\n",
        "Torque =600.00 lb.in\n"
       ]
      }
     ],
     "prompt_number": 1
    },
    {
     "cell_type": "heading",
     "level": 2,
     "metadata": {},
     "source": [
      "Example 8.2 Page No : 159"
     ]
    },
    {
     "cell_type": "code",
     "collapsed": false,
     "input": [
      "\t\t\t\n",
      "# Variables\n",
      "F = -5000. \t\t\t#lb\n",
      "D = 250. \t\t\t#lb/ft\n",
      "y1 = 4. \t\t\t#in\n",
      "y2 = 2. \t\t\t#in\n",
      "y3 = 5. \t\t\t#in\n",
      "y4 = 3. \t\t\t#in\n",
      "x = 3.   \t\t\t#in\n",
      "\t\t\t\n",
      "# Calculations\n",
      "Ax = -D*y1\n",
      "Ay = -F\n",
      "M = (D*y1*(y2+y3+y1/2.))-F*x\n",
      "\t\t\t\n",
      "# Results\n",
      "print  'Ax = %.2f lb'%(Ax)\n",
      "print  'Ay =%.2f lb'%(Ay)\n",
      "print  'M =%.2f lb.in'%(M)\n"
     ],
     "language": "python",
     "metadata": {},
     "outputs": [
      {
       "output_type": "stream",
       "stream": "stdout",
       "text": [
        "Ax = -1000.00 lb\n",
        "Ay =5000.00 lb\n",
        "M =24000.00 lb.in\n"
       ]
      }
     ],
     "prompt_number": 2
    },
    {
     "cell_type": "heading",
     "level": 2,
     "metadata": {},
     "source": [
      "Example 8.3 Page No : 160"
     ]
    },
    {
     "cell_type": "code",
     "collapsed": false,
     "input": [
      "import math \n",
      "\t\t\t\n",
      "# Variables\n",
      "P = 5    \t\t\t#kips\n",
      "angle = 30 \t\t\t#degrees\n",
      "\t\t\t\n",
      "# Calculations\n",
      "Fn = P*math.sin(math.radians(angle))\n",
      "Ft = P*math.cos(math.radians(angle))\n",
      "\t\t\t\n",
      "# Results\n",
      "print  'Fn = %.2f lb'%(Fn)\n",
      "print  'Ft =%.2f lb'%(Ft)\n"
     ],
     "language": "python",
     "metadata": {},
     "outputs": [
      {
       "output_type": "stream",
       "stream": "stdout",
       "text": [
        "Fn = 2.50 lb\n",
        "Ft =4.33 lb\n"
       ]
      }
     ],
     "prompt_number": 1
    },
    {
     "cell_type": "heading",
     "level": 2,
     "metadata": {},
     "source": [
      "Example 8.4 Page No : 162"
     ]
    },
    {
     "cell_type": "code",
     "collapsed": false,
     "input": [
      "import math \n",
      "\t\t\t\n",
      "# Variables\n",
      "p = 5.   \t\t\t#tons\n",
      "dt = 0.75 \t\t\t#in\n",
      "db = 0.5 \t\t\t#in\n",
      "b = 0.5 \t\t\t#in\n",
      "h = 2.   \t\t\t#in\n",
      "\t\t\t\n",
      "# Calculations\n",
      "Sc = p*2000/((math.pi/4)*(dt**2))\n",
      "Sr =  p*2000/(b*h)\n",
      "Sb =  p*2000/(2*(math.pi/4)*db**2)\n",
      "\t\t\t\n",
      "# Results\n",
      "print  'Stress in circular scetion = %.2f psi tension'%(round(Sc,-2))\n",
      "print  'Stress in rectangular section = %.2f psi tension'%(Sr)\n",
      "print  'Stress in bolt = %.2f psi tension'%(round(Sb,-2))\n"
     ],
     "language": "python",
     "metadata": {},
     "outputs": [
      {
       "output_type": "stream",
       "stream": "stdout",
       "text": [
        "Stress in circular scetion = 22600.00 psi tension\n",
        "Stress in rectangular section = 10000.00 psi tension\n",
        "Stress in bolt = 25500.00 psi tension\n"
       ]
      }
     ],
     "prompt_number": 3
    },
    {
     "cell_type": "heading",
     "level": 2,
     "metadata": {},
     "source": [
      "Example 8.5 Page No : 168"
     ]
    },
    {
     "cell_type": "code",
     "collapsed": false,
     "input": [
      "\t\t\t\n",
      "# Variables\n",
      "w = 8 \t\t\t#in\n",
      "wperft = 35. \t\t\t#lb/ft\n",
      "A = 10.3 \t\t\t#sq in\n",
      "F1 = 3. \t\t\t#tons\n",
      "F2 = 3. \t\t\t#tons\n",
      "F3 = -8. \t\t\t#tons\n",
      "F4 = -8. \t\t\t#tons\n",
      "F5 = -5. \t\t\t#tons\n",
      "F6 = -5. \t\t\t#tons\n",
      "Pl = 12. \t\t\t#in\n",
      "Pb = 12. \t\t\t#in\n",
      "\t\t\t\n",
      "# Calculations\n",
      "Sa = (F1+F2)*2000/A\n",
      "Sb = -(F3+F4+F1+F2)*2000/A\n",
      "Sc = -(F3+F4+F1+F2+F5+F6)*2000/A\n",
      "Sp = -(F3+F4+F1+F2+F5+F6)*2000/(Pl*Pb)\n",
      "\t\t\t\n",
      "# Results\n",
      "print  'Stress in a = %.2f psi tension'%(round(Sa,-1))\n",
      "print  'Stress in b = %.2f psi tension'%(round(Sb,-1))\n",
      "print  'Stress in c = %.2f psi tension'%(round(Sc,-1))\n",
      "print  'Stress in plate = %.f psi tension'%(Sp)\n"
     ],
     "language": "python",
     "metadata": {},
     "outputs": [
      {
       "output_type": "stream",
       "stream": "stdout",
       "text": [
        "Stress in a = 1170.00 psi tension\n",
        "Stress in b = 1940.00 psi tension\n",
        "Stress in c = 3880.00 psi tension\n",
        "Stress in plate = 278 psi tension\n"
       ]
      }
     ],
     "prompt_number": 7
    },
    {
     "cell_type": "heading",
     "level": 2,
     "metadata": {},
     "source": [
      "Example 8.6 Page No : 166"
     ]
    },
    {
     "cell_type": "code",
     "collapsed": false,
     "input": [
      "import math \n",
      "\t\t\t\n",
      "# Variables\n",
      "Ns = 8000. \t\t\t#psi\n",
      "Ss = 4000. \t\t\t#psi\n",
      "Ws = 25000. \t\t\t#psi\n",
      "angle = 30. \t\t\t#degrees\n",
      "L = 4. \t\t\t#in\n",
      "b = 1. \t\t\t#in\n",
      "\t\t\t\n",
      "# Calculations\n",
      "P = Ns*L*b/((math.cos(math.radians(2*angle)))**2)\n",
      "P1 = 2*Ss*L*b/(math.sin(math.radians(2*angle)))\n",
      "Pts = Ws*L*b\n",
      "e = P1/Pts\n",
      "\t\t\t\n",
      "# Results\n",
      "if (P<P1):\n",
      "    print  'P = %.2f lb'%(round(P,-3))\n",
      "else:\n",
      "    print  'P1 = %.2f lb'%(round(P1,-3))\n",
      "\n",
      "print  'efficiency of the joint = %.2f '%(e)\n"
     ],
     "language": "python",
     "metadata": {},
     "outputs": [
      {
       "output_type": "stream",
       "stream": "stdout",
       "text": [
        "P1 = 37000.00 lb\n",
        "efficiency of the joint = 0.37 \n"
       ]
      }
     ],
     "prompt_number": 10
    },
    {
     "cell_type": "heading",
     "level": 2,
     "metadata": {},
     "source": [
      "Example 8.7 Page No : 167"
     ]
    },
    {
     "cell_type": "code",
     "collapsed": false,
     "input": [
      "\t\t\t\n",
      "# Variables\n",
      "T = 15000 \t\t\t#psi\n",
      "h1 = 3 \t\t\t#in\n",
      "h2 = 2.5 \t\t\t#in\n",
      "t = 0.25 \t\t\t#in\n",
      "r = 5/16. \t\t\t#in\n",
      "d = 1. \t\t\t#in\n",
      "\t\t\t\n",
      "# Calculations\n",
      "P1 = T*(h1-d)*t/2.18\n",
      "P2 = T*h2*t/1.7\n",
      "if (P1<P2):\n",
      "    print  'Safe axial load = %.f lb'%(P1)\n",
      "else: \n",
      "    print  'Safe axial load = %.f lb'%(P2)\n"
     ],
     "language": "python",
     "metadata": {},
     "outputs": [
      {
       "output_type": "stream",
       "stream": "stdout",
       "text": [
        "Safe axial load = 3440 lb\n"
       ]
      }
     ],
     "prompt_number": 12
    },
    {
     "cell_type": "heading",
     "level": 2,
     "metadata": {},
     "source": [
      "Example 8.8 Page No : 174"
     ]
    },
    {
     "cell_type": "code",
     "collapsed": false,
     "input": [
      "\t\t\t\n",
      "# Variables\n",
      "d = 16.   \t\t\t#ft\n",
      "h = 24. \t    \t\t#ft\n",
      "P = 160. \t\t\t#lb/cu ft\n",
      "hs1 = 8. \t\t\t#ft\n",
      "hs2 = 8. \t\t\t#ft\n",
      "hs3 = 8. \t\t\t#ft\n",
      "Tsmax = 5000. \t\t\t#psi\n",
      "\t\t\t\n",
      "# Calculations\n",
      "SW = round(P/1728,4)\n",
      "P8 = round(SW*hs1*12,2)\n",
      "P16 = round(SW*(hs1+hs2)*12,1)\n",
      "P24 = round(SW*(hs1+hs2+hs3)*12,1)\n",
      "t8 = (P8*d*12)/(2*Tsmax)\n",
      "t16 = P16*d*12/(2*Tsmax)\n",
      "t24 = P24*d*12/(2*Tsmax)\n",
      "\t\t\t\n",
      "    \n",
      "# Results\n",
      "print  't8 = %.2f in'%(t8)\n",
      "print  't16 = %.2f in'%(t16)\n",
      "print  't24 = %.2f in'%(t24)\n",
      "\n",
      "# note : book answers are wrong. please check. "
     ],
     "language": "python",
     "metadata": {},
     "outputs": [
      {
       "output_type": "stream",
       "stream": "stdout",
       "text": [
        "t8 = 0.17 in\n",
        "t16 = 0.34 in\n",
        "t24 = 0.51 in\n"
       ]
      }
     ],
     "prompt_number": 19
    }
   ],
   "metadata": {}
  }
 ]
}