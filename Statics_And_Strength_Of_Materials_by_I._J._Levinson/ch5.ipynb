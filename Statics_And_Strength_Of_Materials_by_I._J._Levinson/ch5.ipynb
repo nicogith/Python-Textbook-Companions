{
 "metadata": {
  "name": "",
  "signature": "sha256:99441c9b87820b036679d4541d0d259ff9dba2feea52f8d659ae363ae4db1049"
 },
 "nbformat": 3,
 "nbformat_minor": 0,
 "worksheets": [
  {
   "cells": [
    {
     "cell_type": "heading",
     "level": 1,
     "metadata": {},
     "source": [
      "Chapter 5 : Force Analysis of Structures"
     ]
    },
    {
     "cell_type": "heading",
     "level": 2,
     "metadata": {},
     "source": [
      "Example 5.1 Page No : 98"
     ]
    },
    {
     "cell_type": "code",
     "collapsed": false,
     "input": [
      "\t\t\t\n",
      "import math \n",
      "# Variables\n",
      "Fc = -1000. \t\t\t#lb\n",
      "A = 60. \t\t\t#degrees\n",
      "E1 = 60. \t\t\t#degrees\n",
      "E2 = 60. \t\t\t#degrees\n",
      "D = 60. \t\t\t#degrees\n",
      "L1 = 10. \t\t\t#ft\n",
      "L2 = 10. \t\t\t#ft\n",
      "\t\t\t\n",
      "# Calculations\n",
      "Ax = 0\n",
      "Ay = (-Fc)*L1*math.cos(math.radians(D))/(L1+L2)\n",
      "Dy = -Fc-Ay\n",
      "Fab = Ay/math.sin(math.radians(A))\n",
      "Fae = Fab*math.cos(math.radians(A))\n",
      "Fbe = Fab*math.cos(90-E1)/math.cos(90-A)\n",
      "Fbc = Fab*math.sin(math.radians(90-A))+Fbe*math.sin(math.radians(90-E1))\n",
      "Fce = Fbc*math.cos(90-(180-E2-D))/math.cos(90-E2)\n",
      "Fde = Fae+Fbe*math.cos(math.radians(E1))+Fce*math.cos(math.radians(E2))\n",
      "Fcd = (-Fc-Fbc*math.cos(math.radians(90-E2-D)))/math.cos(math.radians(90-E1))\n",
      "\t\t\t\n",
      "# Results\n",
      "print  'Ax = %.3f lb'%(Ax)\n",
      "print  'Ay = %.2f lb'%(Ay)\n",
      "print  'Dy = %.3f lb'%(Dy) \n",
      "print  'Fab = %.1f lbcompression'%(Fab) \n",
      "print  'Fae = %.1f lbtension'%(Fae)\n",
      "print  'Fbe = %.1f lbtension'%(Fbe)  \n",
      "print  'Fbc = %.1f lbcompression'%(Fbc)\n",
      "print  'Fce = %.1f lbcompression'%(Fce)\n",
      "print  'Fde = %.1f lbtension'%(Fde)\n",
      "print  'Fcd = %.1f lbcompression'%(Fcd)\n"
     ],
     "language": "python",
     "metadata": {},
     "outputs": [
      {
       "output_type": "stream",
       "stream": "stdout",
       "text": [
        "Ax = 0.000 lb\n",
        "Ay = 250.00 lb\n",
        "Dy = 750.000 lb\n",
        "Fab = 288.7 lbcompression\n",
        "Fae = 144.3 lbtension\n",
        "Fbe = 288.7 lbtension\n",
        "Fbc = 288.7 lbcompression\n",
        "Fce = 288.7 lbcompression\n",
        "Fde = 433.0 lbtension\n",
        "Fcd = 866.0 lbcompression\n"
       ]
      }
     ],
     "prompt_number": 10
    },
    {
     "cell_type": "heading",
     "level": 2,
     "metadata": {},
     "source": [
      "Example 5.2 Page No : 103"
     ]
    },
    {
     "cell_type": "code",
     "collapsed": false,
     "input": [
      "\t\t\t\n",
      "# Variables\n",
      "W = -100. \t\t\t#lb\n",
      "angle = 45. \t\t\t#degrees\n",
      "x1 = 2. \t\t\t#ft\n",
      "x2 = 2. \t\t\t#ft\n",
      "y1 = 2. \t\t\t#ft\n",
      "y2 = 4. \t\t\t#ft\n",
      "Fx = 200. \t\t\t#lb\n",
      "\t\t\t\n",
      "# Calculations\n",
      "Cx = Fx*y1/y2\n",
      "Bx = Fx+Cx\n",
      "By = (y2*Bx+x1*(-W))/(x1+x2)\n",
      "Cy = By\n",
      "Ax = Bx\n",
      "Ay = W+By\n",
      "\t\t\t\n",
      "# Results\n",
      "print  'Ax = %.3f lb'%(Ax)\n",
      "print  'Ay = %.2f lb'%(Ay)\n",
      "print  'Bx = %.3f lb'%(Bx) \n",
      "print  'By = %.2f lb'%(By) \n",
      "print  'Cx = %.2f lb'%(Cx)\n",
      "print  'Cy = %.2f lb'%(Cy) \n"
     ],
     "language": "python",
     "metadata": {},
     "outputs": [
      {
       "output_type": "stream",
       "stream": "stdout",
       "text": [
        "Ax = 300.000 lb\n",
        "Ay = 250.00 lb\n",
        "Bx = 300.000 lb\n",
        "By = 350.00 lb\n",
        "Cx = 100.00 lb\n",
        "Cy = 350.00 lb\n"
       ]
      }
     ],
     "prompt_number": 2
    }
   ],
   "metadata": {}
  }
 ]
}