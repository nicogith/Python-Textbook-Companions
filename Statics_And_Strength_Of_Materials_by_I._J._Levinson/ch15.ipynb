{
 "metadata": {
  "name": "",
  "signature": "sha256:fe60a567abd9a722f9efaa797b5de23eaf91ae1c1b70917990ddaa017e213706"
 },
 "nbformat": 3,
 "nbformat_minor": 0,
 "worksheets": [
  {
   "cells": [
    {
     "cell_type": "heading",
     "level": 1,
     "metadata": {},
     "source": [
      "Chapter 15 : Welded, Bolted, and Riveted Connections"
     ]
    },
    {
     "cell_type": "heading",
     "level": 2,
     "metadata": {},
     "source": [
      "Example 15.1 Page No : 393"
     ]
    },
    {
     "cell_type": "code",
     "collapsed": false,
     "input": [
      "\t\t\t\n",
      "# Variables\n",
      "sigma = 20000. \t\t\t#psi\n",
      "b = 6. \t\t        \t#in\n",
      "h = 0.5 \t\t    \t#in\n",
      "p1 = 3750.\n",
      "\t\t\t\n",
      "# Calculations\n",
      "P = sigma*b*h\n",
      "L = (P-p1*b)/(2*p1)\n",
      "\t\t\t\n",
      "# Results\n",
      "print  'L = %.2f in'%(L)\n"
     ],
     "language": "python",
     "metadata": {},
     "outputs": [
      {
       "output_type": "stream",
       "stream": "stdout",
       "text": [
        "L = 5.00 in\n"
       ]
      }
     ],
     "prompt_number": 1
    },
    {
     "cell_type": "heading",
     "level": 2,
     "metadata": {},
     "source": [
      "Example 15.2 Page No : 294"
     ]
    },
    {
     "cell_type": "code",
     "collapsed": false,
     "input": [
      "from numpy import linalg\n",
      "\t\t\t\n",
      "# Variables\n",
      "P = 5000. \t\t\t#lb per in\n",
      "Tl = 75. \t\t\t#kips\n",
      "y1 = 2.63 \t\t\t#in\n",
      "y2 = 1.37 \t\t\t#in\n",
      "\t\t\t\n",
      "# Calculations\n",
      "A = [[P, P],[y1*P, -y2*P]]\n",
      "b = [Tl*10**3, 0]\n",
      "c = linalg.solve(A,b)\n",
      "L1 = c[0]\n",
      "L2 = c[1]\n",
      "\t\t\t\n",
      "# Results\n",
      "print  'L1 = %.2f in'%(L1)\n",
      "print  'L2 = %.2f in'%(L2)\n"
     ],
     "language": "python",
     "metadata": {},
     "outputs": [
      {
       "output_type": "stream",
       "stream": "stdout",
       "text": [
        "L1 = 5.14 in\n",
        "L2 = 9.86 in\n"
       ]
      }
     ],
     "prompt_number": 2
    },
    {
     "cell_type": "heading",
     "level": 2,
     "metadata": {},
     "source": [
      "Example 15.3 Page No : 397"
     ]
    },
    {
     "cell_type": "code",
     "collapsed": false,
     "input": [
      "import math \n",
      "\t\t\t\n",
      "# Variables\n",
      "d = 3./8 \t    \t\t#in\n",
      "d1 = 1./8 \t\t    \t#in\n",
      "y = 1. \t\t    \t    #in\n",
      "T = 15000. \t\t\t    #psi\n",
      "sigmab = 32000. \t\t\t#psi\n",
      "sigmat = 18000. \t\t\t#psi\n",
      "\t\t\t\n",
      "# Calculations\n",
      "Ps = math.pi*T*(d/2)**2\n",
      "Pt = sigmat*d1*(y-d)\n",
      "Pb = sigmab*d1*d\n",
      "Pmin =Ps\n",
      "sigma =T\n",
      "if(Pt<Pmin):\n",
      "    Pmin =Pt\n",
      "    sigma =sigmat\n",
      "else:\n",
      "    Pmin =Pb\n",
      "    sigma =sigmab\n",
      "\n",
      "e = Pmin*100/(sigma*d1*y)\n",
      "\t\t\t\n",
      "# Results\n",
      "print  'e = %.2f per cent'%(e)\n",
      "\n"
     ],
     "language": "python",
     "metadata": {},
     "outputs": [
      {
       "output_type": "stream",
       "stream": "stdout",
       "text": [
        "e = 62.50 per cent\n"
       ]
      }
     ],
     "prompt_number": 3
    },
    {
     "cell_type": "heading",
     "level": 2,
     "metadata": {},
     "source": [
      "Example 15.4 Page No : 398"
     ]
    },
    {
     "cell_type": "code",
     "collapsed": false,
     "input": [
      "import math \n",
      "\t\t\t\n",
      "# Variables\n",
      "d = 7./8 \t\t\t#in\n",
      "Ss = 15000. \t\t\t#psi\n",
      "Sb = 32000. \t\t\t#psi\n",
      "St = 20000. \t\t\t#psi\n",
      "n = 8.\n",
      "t = 3./8 \t\t\t#in\n",
      "l = 10. \t\t\t#in\n",
      "\t\t\t\n",
      "# Calculations\n",
      "Ps = Ss*math.pi*n*(d/2)**2\n",
      "Pb = Sb*math.pi*n*d*t\n",
      "Pt1 = St*(l-d*2)*t\n",
      "Pt2 = 4*St*(l-d*4)*t/3\n",
      "Pt3 = 4*St*(l-d*2)*t\n",
      "Pmin = Ps\n",
      "sigma = Ss\n",
      "if (Pb<Pmin):\n",
      "    Pmin =Pb\n",
      "    sigma =Sb\n",
      "elif (Pt1<Pmin):\n",
      "    Pmin =Pt1\n",
      "    sigma =St\n",
      "elif (Pt2<Pmin):\n",
      "    Pmin =Pt2\n",
      "    sigma =St\n",
      "elif (Pt3<Pmin):\n",
      "    Pmin =Pt3\n",
      "    sigma =St\n",
      "e = Pmin*100/(sigma*t*l)\n",
      "\t\t\t\n",
      "# Results\n",
      "print  'e = %.1f per cent'%(e)\n"
     ],
     "language": "python",
     "metadata": {},
     "outputs": [
      {
       "output_type": "stream",
       "stream": "stdout",
       "text": [
        "e = 82.5 per cent\n"
       ]
      }
     ],
     "prompt_number": 4
    },
    {
     "cell_type": "heading",
     "level": 2,
     "metadata": {},
     "source": [
      "Example 15.5 Page No : 400"
     ]
    },
    {
     "cell_type": "code",
     "collapsed": false,
     "input": [
      "\t\t\t\n",
      "# Variables\n",
      "n = 8.\n",
      "shear = 15. \t\t\t#ksi\n",
      "Dr = 7/8. \t\t\t#in\n",
      "Ss = 32. \t\t\t#ksi\n",
      "Ds = 40. \t\t\t#si\n",
      "D = 3/8. \t\t\t#in\n",
      "x = 0.504 \t\t\t#in\n",
      "pmin=0\n",
      "\t\t\t\n",
      "# Calculations\n",
      "Ps = shear*n*(Dr/2)**2\n",
      "Pb = Ds*(n/2)*x*Dr\n",
      "Pb1 = Ss*n*D*Dr\n",
      "pmin = Ps\n",
      "if (Pb<pmin):\n",
      "    Pmin = Pb\n",
      "else: \n",
      "    Pmin = Pb1    \n",
      "\t\t\t\n",
      "# Results\n",
      "print  'load capacity of connection = %.1f kips'%(Pb)\n"
     ],
     "language": "python",
     "metadata": {},
     "outputs": [
      {
       "output_type": "stream",
       "stream": "stdout",
       "text": [
        "load capacity of connection = 70.6 kips\n"
       ]
      }
     ],
     "prompt_number": 1
    },
    {
     "cell_type": "heading",
     "level": 2,
     "metadata": {},
     "source": [
      "Example 15.6 Page No : 401"
     ]
    },
    {
     "cell_type": "code",
     "collapsed": false,
     "input": [
      "import math \n",
      "\t\t\t\n",
      "# Variables\n",
      "T = 15000. \t\t\t#psi\n",
      "x1 = 3. \t\t\t#in\n",
      "x2 = 3. \t\t\t#in\n",
      "y1 = 3. \t\t\t#in\n",
      "y2 = 3. \t\t\t#in\n",
      "d = 0.5 \t\t\t#in\n",
      "n = 4.\n",
      "\t\t\t\n",
      "# Calculations\n",
      "P = T*(math.pi/4)*d**2/(math.sqrt((1/n)**2+(1/((math.sqrt(y1**2+y2**2)/y1)*n))**2+ \\\n",
      "(2*(1/n)*(1/(n*(math.sqrt(y1**2+y2**2))/y1))*math.cos(math.radians(45)))))\n",
      "P1 = T*(math.pi/4)*d**2/((1/n)+(y1/(n*y1)))\n",
      "if (P>P1):\n",
      "    print  'Stornger P = %.2f lb'%(P)\n",
      "else:\n",
      "    print  'Stornger  P = %.2f lb'%(P1)\n",
      "\n",
      "# note : answer is different because of rounding off error. please check."
     ],
     "language": "python",
     "metadata": {},
     "outputs": [
      {
       "output_type": "stream",
       "stream": "stdout",
       "text": [
        "Stornger P = 7450.94 lb\n"
       ]
      }
     ],
     "prompt_number": 3
    },
    {
     "cell_type": "heading",
     "level": 2,
     "metadata": {},
     "source": [
      "Example 15.7 Page No : 403"
     ]
    },
    {
     "cell_type": "code",
     "collapsed": false,
     "input": [
      "import math \n",
      "\t\t\t\n",
      "# Variables\n",
      "P = 5. \t\t\t#kips\n",
      "xab = 3. \t\t\t#in\n",
      "xbc = 6. \t\t\t#in\n",
      "xbp = 1. \t\t\t#in\n",
      "y = 6. \t\t\t#in\n",
      "n = 3.\n",
      "\t\t\t\n",
      "# Calculations\n",
      "Dl = P/3\n",
      "Pct = (6*P)/(((xab+xbp)*(xab+xbp)/(xbc-xbp))+(xbp/(xbc-xbp))+(xbc-xbp))\n",
      "R = math.sqrt(Pct**2+Dl**2)\n",
      "\t\t\t\n",
      "# Results\n",
      "print  'Greatest Load = %.2f kips'%(R)\n"
     ],
     "language": "python",
     "metadata": {},
     "outputs": [
      {
       "output_type": "stream",
       "stream": "stdout",
       "text": [
        "Greatest Load = 3.94 kips\n"
       ]
      }
     ],
     "prompt_number": 7
    }
   ],
   "metadata": {}
  }
 ]
}