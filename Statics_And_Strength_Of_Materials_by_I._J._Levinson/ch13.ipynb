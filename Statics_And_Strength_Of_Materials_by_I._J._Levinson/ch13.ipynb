{
 "metadata": {
  "name": "",
  "signature": "sha256:6b0b86bd9b0d0e04cc91f26a51f01e1dfca0b27db56af40f6330128871970df2"
 },
 "nbformat": 3,
 "nbformat_minor": 0,
 "worksheets": [
  {
   "cells": [
    {
     "cell_type": "heading",
     "level": 1,
     "metadata": {},
     "source": [
      "Chapter 13 : Deflection of Beams"
     ]
    },
    {
     "cell_type": "heading",
     "level": 2,
     "metadata": {},
     "source": [
      "Example 13.1 Page No : 313"
     ]
    },
    {
     "cell_type": "code",
     "collapsed": false,
     "input": [
      "\t\t\t\n",
      "# Variables\n",
      "E = 1.5*10**6\n",
      "F1 = -100. \t\t\t#lb\n",
      "F2 = -100. \t\t\t#lb\n",
      "x1 = 6 \t\t\t#in\n",
      "x2 = 6 \t\t\t#in\n",
      "Ina = 64 \t\t\t#in**4\n",
      "h1 = -600 \t\t\t#lb ft\n",
      "h2 = -1200 \t\t\t#lb ft\n",
      "xa1 = 10 \t\t\t# in\n",
      "xa2 = 8 \t\t\t#in\n",
      "\t\t\t\n",
      "# Calculations\n",
      "deltamax = ((1./2)*x1*xa1*h1+(1./2)*(x1+x2)*h2*xa2)*(1728)/(E*Ina)\n",
      "\t\t\t\n",
      "# Results\n",
      "print  'maximum deflection = %.2f in'%(deltamax)\n"
     ],
     "language": "python",
     "metadata": {},
     "outputs": [
      {
       "output_type": "stream",
       "stream": "stdout",
       "text": [
        "maximum deflection = -1.36 in\n"
       ]
      }
     ],
     "prompt_number": 1
    },
    {
     "cell_type": "heading",
     "level": 2,
     "metadata": {},
     "source": [
      "Example 13.2 Page No : 314"
     ]
    },
    {
     "cell_type": "code",
     "collapsed": false,
     "input": [
      "\t\t\t\n",
      "# Variables\n",
      "E = 1.5*10**6\n",
      "I = 50. \t    \t\t#in**4\n",
      "delta = -1. \t\t\t#in\n",
      "l = 8.       \t\t\t#ft\n",
      "\t\t\t\n",
      "# Calculations\n",
      "w = -delta*8*E*I/(l**4*1728)\n",
      "\t\t\t\n",
      "# Results\n",
      "print  'distributed weight = %.1f lb per ft'%(w)\n"
     ],
     "language": "python",
     "metadata": {},
     "outputs": [
      {
       "output_type": "stream",
       "stream": "stdout",
       "text": [
        "distributed weight = 84.8 lb per ft\n"
       ]
      }
     ],
     "prompt_number": 2
    },
    {
     "cell_type": "heading",
     "level": 2,
     "metadata": {},
     "source": [
      "Example 13.3 Page No : 315"
     ]
    },
    {
     "cell_type": "code",
     "collapsed": false,
     "input": [
      "\t\t\t\n",
      "# Variables\n",
      "W = 50. \t\t\t#lb/ft\n",
      "x = 5.  \t\t\t#ft\n",
      "x1 = 2. \t\t\t#ft\n",
      "\t\t\t\n",
      "# Calculations\n",
      "V = W*x\n",
      "M = W*((x/2)+x1)*x\n",
      "M1 = W*x*(x+x1)\n",
      "M2 = -M\n",
      "M3 = -W*x*x/2\n",
      "EIdeltamax = ((1./2)*(x+x1)*M1*((x+x1)/3))+(x+x1)*M2*((x+x1)/2)+(1./3)*x*M3*(x/4)\n",
      "\t\t\t\n",
      "# Results\n",
      "print  'maximum value of EIdeltax = %.1f lb ft**3'%(round(EIdeltamax,-2))\n"
     ],
     "language": "python",
     "metadata": {},
     "outputs": [
      {
       "output_type": "stream",
       "stream": "stdout",
       "text": [
        "maximum value of EIdeltax = -14600.0 lb ft**3\n"
       ]
      }
     ],
     "prompt_number": 2
    },
    {
     "cell_type": "heading",
     "level": 2,
     "metadata": {},
     "source": [
      "Example 13.5 Page No : 329"
     ]
    },
    {
     "cell_type": "code",
     "collapsed": false,
     "input": [
      "\t\t\t\n",
      "# Variables\n",
      "w = 180. \t\t\t#lb/ft\n",
      "l = 8.   \t\t\t#ft\n",
      "P = 1200. \t\t\t#lb\n",
      "b = 6.   \t\t\t#ft\n",
      "E = 3*10.**6\n",
      "I = 64. \t\t\t#in**4\n",
      "\t\t\t\n",
      "# Calculations\n",
      "delta = ((w*l**4)/(8))+((P*b**2)*(3*l-b)/(6))\n",
      "\t\t\t\n",
      "# Results\n",
      "print  'deflection of the free end = %.1fbyEI ft'%(round(delta,-3))\n"
     ],
     "language": "python",
     "metadata": {},
     "outputs": [
      {
       "output_type": "stream",
       "stream": "stdout",
       "text": [
        "deflection of the free end = 222000.0byEI ft\n"
       ]
      }
     ],
     "prompt_number": 3
    },
    {
     "cell_type": "heading",
     "level": 2,
     "metadata": {},
     "source": [
      "Example 13.6 Page No : 329"
     ]
    },
    {
     "cell_type": "code",
     "collapsed": false,
     "input": [
      "\t\t\t\n",
      "# Variables\n",
      "P = 6.  \t\t\t#kips\n",
      "w = 3. \t    \t\t#kips/ft\n",
      "L1 = 8. \t\t\t#ft\n",
      "L2 = 8. \t\t\t#ft\n",
      "\t\t\t\n",
      "# Calculations\n",
      "delta = (P*(L1+L2)**3/192)+(w*(L1+L2)**4/768)\n",
      "\t\t\t\n",
      "# Results\n",
      "print  'midspan value of deflection = %.1f kip ft**3'%(delta)\n"
     ],
     "language": "python",
     "metadata": {},
     "outputs": [
      {
       "output_type": "stream",
       "stream": "stdout",
       "text": [
        "midspan value of deflection = 384.0 kip ft**3\n"
       ]
      }
     ],
     "prompt_number": 5
    },
    {
     "cell_type": "heading",
     "level": 2,
     "metadata": {},
     "source": [
      "Example 13.7 Page No : 331"
     ]
    },
    {
     "cell_type": "code",
     "collapsed": false,
     "input": [
      "\t\t\t\n",
      "# Variables\n",
      "x1 = 3. \t\t\t#ft\n",
      "x2 = 3. \t\t\t#ft\n",
      "x3 = 3. \t\t\t#ft\n",
      "x4 = 3. \t\t\t#ft\n",
      "W1 = 4. \t\t\t#kips\n",
      "W2 = 8. \t\t\t#kips\n",
      "l = x1+x2+x3+x4\n",
      "\t\t\t\n",
      "# Calculations\n",
      "b = x2+x3+x4\n",
      "b1 = x4\n",
      "a = x1\n",
      "x = l/2\n",
      "P = (((W1*b*(l/b*(x-a)**3+(l**2-b**2)*x-x**3))/(6*l))+((W2*b1*x*(l**2-x**2-b1**2))/(6*l)))*(48/l**3)\n",
      "R1 = 3+2-(P/2)\n",
      "R2 = P\n",
      "R3 = 1+6-(P/2)\n",
      "\t\t\t\n",
      "# Results\n",
      "print  'R1 = %.3f kips'%(R1)\n",
      "print  'R2 =%.2f kips'%(R2)\n",
      "print  'R3 =%.3f kips'%(R3)\n"
     ],
     "language": "python",
     "metadata": {},
     "outputs": [
      {
       "output_type": "stream",
       "stream": "stdout",
       "text": [
        "R1 = 0.875 kips\n",
        "R2 =8.25 kips\n",
        "R3 =2.875 kips\n"
       ]
      }
     ],
     "prompt_number": 6
    },
    {
     "cell_type": "heading",
     "level": 2,
     "metadata": {},
     "source": [
      "Example 13.8 Page No : 333"
     ]
    },
    {
     "cell_type": "code",
     "collapsed": false,
     "input": [
      "from numpy import linalg\n",
      "\t\t\t\n",
      "# Variables\n",
      "P = 680. \t\t\t#lb\n",
      "K = 1000. \t\t\t#lb/in\n",
      "L = 6.  \t\t\t#ft\n",
      "E = 30.*10**6\n",
      "Ina = 1.728 \t\t\t#in**4\n",
      "\t\t\t\n",
      "# Calculations\n",
      "A = [[((L*12)**3/(3*E*Ina)),-(1/K)],[1,1]]\n",
      "b = [0,P]\n",
      "c = linalg.solve(A,b)\n",
      "Pb = c[0]\n",
      "Ps = c[1]\n",
      "\t\t\t\n",
      "# Results\n",
      "print  'Force in the spring = %.2f psi'%(Ps)\n"
     ],
     "language": "python",
     "metadata": {},
     "outputs": [
      {
       "output_type": "stream",
       "stream": "stdout",
       "text": [
        "Force in the spring = 480.00 psi\n"
       ]
      }
     ],
     "prompt_number": 7
    },
    {
     "cell_type": "heading",
     "level": 2,
     "metadata": {},
     "source": [
      "Example 13.9 Page No : 334"
     ]
    },
    {
     "cell_type": "code",
     "collapsed": false,
     "input": [
      "\t\t\t\n",
      "# Variables\n",
      "I = 1.5 \t\t\t#in**4\n",
      "Da = 0.5 \t\t\t#in\n",
      "E = 30.*10**6\n",
      "l = 60. \t\t\t#in\n",
      "\t\t\t\n",
      "# Calculations\n",
      "F = 6*Da*E*I/(l**3)\n",
      "\t\t\t\n",
      "# Results\n",
      "print  'F = %.2f lb'%(F)\n"
     ],
     "language": "python",
     "metadata": {},
     "outputs": [
      {
       "output_type": "stream",
       "stream": "stdout",
       "text": [
        "F = 625.00 lb\n"
       ]
      }
     ],
     "prompt_number": 8
    }
   ],
   "metadata": {}
  }
 ]
}