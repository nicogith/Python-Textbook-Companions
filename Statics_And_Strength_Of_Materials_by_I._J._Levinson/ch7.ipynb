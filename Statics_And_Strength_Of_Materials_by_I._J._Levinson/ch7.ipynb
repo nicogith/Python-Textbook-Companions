{
 "metadata": {
  "name": "",
  "signature": "sha256:6d5c5a5b4a7fbf142c8f73269283c1a7c9727f1534378705a70188b19e0c8c3e"
 },
 "nbformat": 3,
 "nbformat_minor": 0,
 "worksheets": [
  {
   "cells": [
    {
     "cell_type": "heading",
     "level": 1,
     "metadata": {},
     "source": [
      "Chapter 7 : Moment of Inertia"
     ]
    },
    {
     "cell_type": "heading",
     "level": 2,
     "metadata": {},
     "source": [
      "Example 7.1 Page No : 134"
     ]
    },
    {
     "cell_type": "code",
     "collapsed": false,
     "input": [
      "\t\t\t\n",
      "# Variables\n",
      "x1 = 3. \t\t\t#in\n",
      "x2 = 3. \t\t\t#in\n",
      "x3 = 3. \t\t\t#in\n",
      "x4 = 3. \t\t\t#in\n",
      "x5 = 5. \t\t\t#in\n",
      "x6 = 5. \t\t\t#in\n",
      "x7 = 5. \t\t\t#in\n",
      "x8 = 5. \t\t\t#in\n",
      "L1 = 1. \t\t\t#in\n",
      "L2 = 1. \t\t\t#in\n",
      "L3 = 1. \t\t\t#in\n",
      "L4 = 1. \t\t\t#in\n",
      "L5 = 1. \t\t\t#in\n",
      "L6 = 1. \t\t\t#in\n",
      "L7 = 1. \t\t\t#in\n",
      "L8 = 1. \t\t\t#in\n",
      "y = 7.5 \t\t\t#in\n",
      "\t\t\t\n",
      "# Calculations\n",
      "Ix1 = x1*L1*(y)**2\n",
      "Ix2 = x2*L2*(y-L2)**2\n",
      "Ix3 = x3*L3*(y-L3-L2)**2\n",
      "Ix4 = x4*L4*(y-L4-L3-L2)**2\n",
      "Ix5 = x5*L5*(y-L5-L4-L3-L2)**2\n",
      "Ix6 = x6*L6*(y-L6-L5-L4-L3-L2)**2\n",
      "Ix7 = x7*L7*(y-L7-L6-L5-L4-L3-L2)**2 \n",
      "Ix8 = x8*L8*(y-L8-L7-L6-L5-L4-L3-L2)**2\n",
      "Ix = Ix1+Ix2+Ix3+Ix4+Ix5+Ix6+Ix7+Ix8\n",
      "\t\t\t\n",
      "# Results\n",
      "print  'Ix = %.f in**4'%(Ix)\n"
     ],
     "language": "python",
     "metadata": {},
     "outputs": [
      {
       "output_type": "stream",
       "stream": "stdout",
       "text": [
        "Ix = 552 in**4\n"
       ]
      }
     ],
     "prompt_number": 1
    },
    {
     "cell_type": "heading",
     "level": 2,
     "metadata": {},
     "source": [
      "Example 7.2 Page No : 136"
     ]
    },
    {
     "cell_type": "code",
     "collapsed": false,
     "input": [
      "\t\t\t\n",
      "# Variables\n",
      "Iy = 60 \t\t\t#in**4\n",
      "A = 25 \t\t\t    #sq in\n",
      "x = 10 \t\t\t    #in\n",
      "\t\t\t\n",
      "# Calculations\n",
      "Ia = Iy+ A*x**2\n",
      "\t\t\t\n",
      "# Results\n",
      "print  'I = %.f in**4'%(Ia)\n"
     ],
     "language": "python",
     "metadata": {},
     "outputs": [
      {
       "output_type": "stream",
       "stream": "stdout",
       "text": [
        "I = 2560 in**4\n"
       ]
      }
     ],
     "prompt_number": 2
    },
    {
     "cell_type": "heading",
     "level": 2,
     "metadata": {},
     "source": [
      "Example 7.3 Page No : 137"
     ]
    },
    {
     "cell_type": "code",
     "collapsed": false,
     "input": [
      "import math \n",
      "\t\t\t\n",
      "# Variables\n",
      "L = 5    \t\t\t#in\n",
      "B = 12 \t    \t\t#in\n",
      "Ix = 227 \t\t\t#in**4\n",
      "Iy = 10 \t\t\t#in**4\n",
      "A = 10.2 \t\t\t#sq in\n",
      "\t\t\t\n",
      "# Calculations\n",
      "Kx = math.sqrt(Ix/A)\n",
      "Ky = math.sqrt(Iy/A)\n",
      "\t\t\t\n",
      "# Results\n",
      "print  'Radius of gyration wrt x = %.2f in'%(Kx)\n",
      "print  'Radius of gyration wrt y =%.2f in'%(Ky)\n"
     ],
     "language": "python",
     "metadata": {},
     "outputs": [
      {
       "output_type": "stream",
       "stream": "stdout",
       "text": [
        "Radius of gyration wrt x = 4.72 in\n",
        "Radius of gyration wrt y =0.99 in\n"
       ]
      }
     ],
     "prompt_number": 3
    },
    {
     "cell_type": "heading",
     "level": 2,
     "metadata": {},
     "source": [
      "Example 7.4 Page No : 138"
     ]
    },
    {
     "cell_type": "code",
     "collapsed": false,
     "input": [
      "\t\t\t\n",
      "# Variables\n",
      "L1 = 8. \t\t\t#in\n",
      "B1 = 1. \t\t\t#in\n",
      "L2 = 1. \t\t\t#in\n",
      "B2 = 6. \t\t\t#in\n",
      "L3 = 8. \t\t\t#in\n",
      "B3 = 1. \t\t\t#in\n",
      "\t\t\t\n",
      "# Calculations\n",
      "Iy = (B1*L1**3/12)+(B2*L2**3/12)+(B3*L3**3/12)\n",
      "Ix = (L1*B1**3/12)+L1*B1*((B2/2)+(B1/2))**2+(L2*B2**3/12)+(L3*B3**3/12)+L3*B3*((B2/2)+(B3/2))**2\n",
      "\t\t\t\n",
      "# Results\n",
      "print  'Ix = %.2f in**4'%(Ix)\n",
      "print  'Iy =%.2f in**4'%(Iy)\n"
     ],
     "language": "python",
     "metadata": {},
     "outputs": [
      {
       "output_type": "stream",
       "stream": "stdout",
       "text": [
        "Ix = 215.33 in**4\n",
        "Iy =85.83 in**4\n"
       ]
      }
     ],
     "prompt_number": 4
    },
    {
     "cell_type": "heading",
     "level": 2,
     "metadata": {},
     "source": [
      "Example 7.5 Page No : 140"
     ]
    },
    {
     "cell_type": "code",
     "collapsed": false,
     "input": [
      "import math \n",
      "\t\t\t\n",
      "# Variables\n",
      "H = 8. \t\t\t#in\n",
      "b = 6. \t\t\t#in\n",
      "d = 4. \t\t\t#in\n",
      "H1 = 5. \t\t\t#in\n",
      "\t\t\t\n",
      "# Calculations\n",
      "Ia1 = ((b*H**3)/12)+b*H*d**2\n",
      "Ia2 = math.pi*((d/2)**2)+math.pi*((d/2)**2)*(H1)**2\n",
      "I = Ia1-Ia2\n",
      "\t\t\t\n",
      "# Results\n",
      "print  'I = %.2f in**4'%(I)\n",
      "\n"
     ],
     "language": "python",
     "metadata": {},
     "outputs": [
      {
       "output_type": "stream",
       "stream": "stdout",
       "text": [
        "I = 697.27 in**4\n"
       ]
      }
     ],
     "prompt_number": 5
    },
    {
     "cell_type": "heading",
     "level": 2,
     "metadata": {},
     "source": [
      "Example 7.6 Page No : 141"
     ]
    },
    {
     "cell_type": "code",
     "collapsed": false,
     "input": [
      "import math \n",
      "\t\t\t\n",
      "# Variables\n",
      "W = 64.4 \t\t\t#lb\n",
      "I = 10   \t\t\t#slugft**2\n",
      "g = 32.2 \t\t\t#ft/sec**2\n",
      "\t\t\t\n",
      "# Calculations\n",
      "m = W/g\n",
      "k = math.sqrt(I/m)\n",
      "\t\t\t\n",
      "# Results\n",
      "print  'k = %.2f ft'%(k)\n"
     ],
     "language": "python",
     "metadata": {},
     "outputs": [
      {
       "output_type": "stream",
       "stream": "stdout",
       "text": [
        "k = 2.24 ft\n"
       ]
      }
     ],
     "prompt_number": 6
    },
    {
     "cell_type": "heading",
     "level": 2,
     "metadata": {},
     "source": [
      "Example 7.8 Page No : 142"
     ]
    },
    {
     "cell_type": "code",
     "collapsed": false,
     "input": [
      "import math \n",
      "\t\t\t\n",
      "# Variables\n",
      "d1 = 18. \t\t\t#in\n",
      "d2 = 10. \t\t\t#in\n",
      "d3 = 4. \t\t\t#in\n",
      "Wpercuin = 0.31 \t\t\t#lb\n",
      "L1 = 4. \t\t\t#in\n",
      "L2 = 8. \t\t\t#in\n",
      "g = 32.2 \t\t\t#ft/sec**2\n",
      "\t\t\t\n",
      "# Calculations\n",
      "m1 = math.pi*(d1/2)**2*L1*Wpercuin/g\n",
      "I1 = m1*(d1/24)**2/2\n",
      "m2 = math.pi*(d2/2)**2*L2*Wpercuin/g\n",
      "I2 = m2*(d2/24)**2/2\n",
      "m3 = math.pi*(d3/2**2)*(L1+L2)*Wpercuin/g\n",
      "I3 = m3*(d3/24)**2/2\n",
      "I = I1+I2-I3\n",
      "\t\t\t\n",
      "# Results\n",
      "print  'I = %.2f slug ft**2'%(I)\n",
      "\n"
     ],
     "language": "python",
     "metadata": {},
     "outputs": [
      {
       "output_type": "stream",
       "stream": "stdout",
       "text": [
        "I = 3.28 slug ft**2\n"
       ]
      }
     ],
     "prompt_number": 7
    }
   ],
   "metadata": {}
  }
 ]
}