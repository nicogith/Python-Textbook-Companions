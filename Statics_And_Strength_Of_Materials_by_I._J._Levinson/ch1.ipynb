{
 "metadata": {
  "name": "",
  "signature": "sha256:e8a178cfe4f176b57d4a8a5f7fd1354a20d5cbe9cf725d0ac6feec0b0641ec3e"
 },
 "nbformat": 3,
 "nbformat_minor": 0,
 "worksheets": [
  {
   "cells": [
    {
     "cell_type": "heading",
     "level": 1,
     "metadata": {},
     "source": [
      "Chapter 1 : Introduction"
     ]
    },
    {
     "cell_type": "heading",
     "level": 2,
     "metadata": {},
     "source": [
      "Example 1.1 Page No : 3"
     ]
    },
    {
     "cell_type": "code",
     "collapsed": false,
     "input": [
      "\n",
      "import math \n",
      "\n",
      "# Variables\n",
      "L = 20. \t\t\t#ft\n",
      "angle = 30.\t\t\t#degrees\n",
      "\n",
      "# Calculations\n",
      "d = L*math.sin(math.radians(angle))\n",
      "\n",
      "# Results\n",
      "print  'Desitance from foot of Ladder = %.2f ft'%(d)\n"
     ],
     "language": "python",
     "metadata": {},
     "outputs": [
      {
       "output_type": "stream",
       "stream": "stdout",
       "text": [
        "Desitance from foot of Ladder = 10.00 ft\n"
       ]
      }
     ],
     "prompt_number": 3
    },
    {
     "cell_type": "heading",
     "level": 2,
     "metadata": {},
     "source": [
      "Example 1.2 Page No : 5"
     ]
    },
    {
     "cell_type": "code",
     "collapsed": false,
     "input": [
      "import math \n",
      "\n",
      "\n",
      "# Variables\n",
      "a = 5.\n",
      "b = 12.\n",
      "angle = 60. \t\t\t#degrees\n",
      "\n",
      "# Calculations\n",
      "c = math.sqrt(a**2+b**2-2*a*b*math.cos(math.radians(angle)))\n",
      "\n",
      "# Results\n",
      "print  'c  = %.1f '%(c)\n"
     ],
     "language": "python",
     "metadata": {},
     "outputs": [
      {
       "output_type": "stream",
       "stream": "stdout",
       "text": [
        "c  = 10.4 \n"
       ]
      }
     ],
     "prompt_number": 4
    },
    {
     "cell_type": "heading",
     "level": 2,
     "metadata": {},
     "source": [
      "Example 1.3 Page No : 5"
     ]
    },
    {
     "cell_type": "code",
     "collapsed": false,
     "input": [
      "\t\t\t\n",
      "import math \n",
      "\n",
      "# Variables\n",
      "a = 5.\n",
      "b = 12.\n",
      "angle = 120. \t\t\t#degrees\n",
      "\t\t\t\n",
      "# Calculations\n",
      "c = math.sqrt(a**2+b**2-2*a*b*math.cos(math.radians(angle)))\n",
      "\t\t\t\n",
      "# Results\n",
      "print  'c  = %.1f '%(c)\n"
     ],
     "language": "python",
     "metadata": {},
     "outputs": [
      {
       "output_type": "stream",
       "stream": "stdout",
       "text": [
        "c  = 15.1 \n"
       ]
      }
     ],
     "prompt_number": 5
    },
    {
     "cell_type": "heading",
     "level": 2,
     "metadata": {},
     "source": [
      "Example 1.4 Page No : 6"
     ]
    },
    {
     "cell_type": "code",
     "collapsed": false,
     "input": [
      "import math \n",
      "\t\t\t\n",
      "# Variables\n",
      "b = 12.\n",
      "angle1 = 35. \t\t\t#degrees\n",
      "angle2 = 43. \t\t\t#degrees\n",
      "\t\t\t\n",
      "# Calculations\n",
      "angle3 = 180-angle1-angle2\n",
      "a = math.sin(math.radians(angle2))*b/math.sin(math.radians(angle3))\n",
      "c = a*math.sin(math.radians(angle1))/math.sin(math.radians(angle2))\n",
      "\t\t\t\n",
      "# Results\n",
      "print  'c  = %.2f '%(c)\n",
      "print  'a = %.2f.'%(a)\n"
     ],
     "language": "python",
     "metadata": {},
     "outputs": [
      {
       "output_type": "stream",
       "stream": "stdout",
       "text": [
        "c  = 7.04 \n",
        "a = 8.37.\n"
       ]
      }
     ],
     "prompt_number": 7
    },
    {
     "cell_type": "heading",
     "level": 2,
     "metadata": {},
     "source": [
      "Example 1.5 Page No : 7"
     ]
    },
    {
     "cell_type": "code",
     "collapsed": false,
     "input": [
      "import math \n",
      "\t\t\t\n",
      "# Variables\n",
      "Wofaninch = 0.29 \t\t\t#lb\n",
      "L = 3.5     \t    \t\t#ft\n",
      "width = 1.75 \t\t    \t#ft\n",
      "t = 1.   \t    \t\t    #in\n",
      "\t\t\t\n",
      "# Calculations\n",
      "W = L*width*t*12*12*Wofaninch\n",
      "\t\t\t\n",
      "# Results\n",
      "print  'W  = %.f lb'%(W)\n"
     ],
     "language": "python",
     "metadata": {},
     "outputs": [
      {
       "output_type": "stream",
       "stream": "stdout",
       "text": [
        "W  = 256 lb\n"
       ]
      }
     ],
     "prompt_number": 5
    },
    {
     "cell_type": "heading",
     "level": 2,
     "metadata": {},
     "source": [
      "Example 1.6 Page No : 7"
     ]
    },
    {
     "cell_type": "code",
     "collapsed": false,
     "input": [
      "import math \n",
      "\t\t\t\n",
      "# Variables\n",
      "V = 30. \t\t\t#mph\n",
      "\t\t\t\n",
      "# Calculations\n",
      "Vinfps = V*5280*(1./60)*(1./60)\n",
      "\t\t\t\n",
      "# Results\n",
      "print  'v  = %.f fps'%(Vinfps)\n"
     ],
     "language": "python",
     "metadata": {},
     "outputs": [
      {
       "output_type": "stream",
       "stream": "stdout",
       "text": [
        "v  = 44 fps\n"
       ]
      }
     ],
     "prompt_number": 6
    }
   ],
   "metadata": {}
  }
 ]
}