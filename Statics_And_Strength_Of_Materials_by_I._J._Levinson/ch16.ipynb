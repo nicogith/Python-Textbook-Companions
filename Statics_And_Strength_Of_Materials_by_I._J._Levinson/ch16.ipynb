{
 "metadata": {
  "name": "",
  "signature": "sha256:d708156611ec89eae1db1c06f5ba02ec9d179b4f495d97ecac600c0bd4aa5921"
 },
 "nbformat": 3,
 "nbformat_minor": 0,
 "worksheets": [
  {
   "cells": [
    {
     "cell_type": "heading",
     "level": 1,
     "metadata": {},
     "source": [
      "Chapter 16 : Columns"
     ]
    },
    {
     "cell_type": "heading",
     "level": 2,
     "metadata": {},
     "source": [
      "Example 16.1 Page No : 417"
     ]
    },
    {
     "cell_type": "code",
     "collapsed": false,
     "input": [
      "import math \n",
      "\t\t\t\n",
      "# Variables\n",
      "E = 10.*10**6 \t\t\t#psi\n",
      "ys = 6000. \t\t\t#psi\n",
      "\t\t\t\n",
      "# Calculations\n",
      "lbyr = math.sqrt(math.pi**2*E/ys)\n",
      "\t\t\t\n",
      "# Results\n",
      "print  'Slenderness Ratio = %.f '%(lbyr)\n",
      "\n"
     ],
     "language": "python",
     "metadata": {},
     "outputs": [
      {
       "output_type": "stream",
       "stream": "stdout",
       "text": [
        "Slenderness Ratio = 128 \n"
       ]
      }
     ],
     "prompt_number": 1
    },
    {
     "cell_type": "heading",
     "level": 2,
     "metadata": {},
     "source": [
      "Example 16.2 Page No : 417"
     ]
    },
    {
     "cell_type": "code",
     "collapsed": false,
     "input": [
      "import math \n",
      "\t\t\t\n",
      "# Variables\n",
      "fs = 3.\n",
      "W = 50. \t\t\t#kips\n",
      "l = 20. \t\t\t#ft\n",
      "E = 30.*10**6 \t\t\t#psi\n",
      "\t\t\t\n",
      "# Calculations\n",
      "Pcr = fs*W\n",
      "I = Pcr*10**3*(l*12)**2/(math.pi**2*E)\n",
      "r = 2.01\n",
      "lbyr = l*12/r\n",
      "\t\t\t\n",
      "# Results\n",
      "print  'Required I  = %.1f in**4'%(I)\n",
      "print  'slenderness ratio =%.f '%(lbyr)\n"
     ],
     "language": "python",
     "metadata": {},
     "outputs": [
      {
       "output_type": "stream",
       "stream": "stdout",
       "text": [
        "Required I  = 29.2 in**4\n",
        "slenderness ratio =119 \n"
       ]
      }
     ],
     "prompt_number": 3
    },
    {
     "cell_type": "heading",
     "level": 2,
     "metadata": {},
     "source": [
      "Example 16.3 Page No : 418"
     ]
    },
    {
     "cell_type": "code",
     "collapsed": false,
     "input": [
      "import math \n",
      "\n",
      "\t\t\t\n",
      "# Variables\n",
      "L1 = 18. \t\t\t#ft\n",
      "L2 = 9. \t\t\t#ft\n",
      "I1 = 12.1 \t\t\t#in**4\n",
      "I2 = 1.2 \t\t\t#in**4\n",
      "E = 30.*10**6 \t\t\t#psi\n",
      "\t\t\t\n",
      "# Calculations\n",
      "r1 = 2.05\n",
      "lbyr = L1*12/r1\n",
      "r2 = 0.65\n",
      "lbyr2 = L2*12/r2\n",
      "Pcr1 = math.pi**2*E*I1/(L1*12)**2\n",
      "Pcr2 = math.pi**2*E*I2/(L2*12)**2\n",
      "P = Pcr1/2.5\n",
      "P2 = Pcr2/2.5\n",
      "\t\t\t\n",
      "# Results\n",
      "print  'Design load of 1 = %.2f lb'%(round(P,-2))\n",
      "print  'Design load of 2 =%.2f lb'%(round(P2,-2))\n"
     ],
     "language": "python",
     "metadata": {},
     "outputs": [
      {
       "output_type": "stream",
       "stream": "stdout",
       "text": [
        "Design load of 1 = 30700.00 lb\n",
        "Design load of 2 =12200.00 lb\n"
       ]
      }
     ],
     "prompt_number": 5
    },
    {
     "cell_type": "heading",
     "level": 2,
     "metadata": {},
     "source": [
      "Example 16.4 Page No : 419"
     ]
    },
    {
     "cell_type": "code",
     "collapsed": false,
     "input": [
      "import math \n",
      "\t\t\t\n",
      "# Variables\n",
      "E = 30.*10**6\n",
      "syp = 30000. \t\t\t#psi\n",
      "I = 143.5 \t\t\t#in**4\n",
      "A = 7.32 \t\t\t#in\n",
      "\t\t\t\n",
      "# Calculations\n",
      "I1 = 2*I\n",
      "A1 = 2*A\n",
      "L = math.sqrt(2*math.pi**2*E*I1/(syp*A1))\n",
      "\t\t\t\n",
      "# Results\n",
      "print  'Critical length of the column = %.0f in'%(L)\n"
     ],
     "language": "python",
     "metadata": {},
     "outputs": [
      {
       "output_type": "stream",
       "stream": "stdout",
       "text": [
        "Critical length of the column = 622 in\n"
       ]
      }
     ],
     "prompt_number": 1
    },
    {
     "cell_type": "heading",
     "level": 2,
     "metadata": {},
     "source": [
      "Example 16.5 Page No : 421"
     ]
    },
    {
     "cell_type": "code",
     "collapsed": false,
     "input": [
      "import math \n",
      "\t\t\t\n",
      "# Variables\n",
      "x = 30. \t\t\t#in\n",
      "x1 = 10. \t\t\t#in\n",
      "E = 30.*10**6\n",
      "d = 0.5 \t\t\t#in\n",
      "syp = 60000. \t\t\t#psi\n",
      "y1 = 8. \t\t\t#in\n",
      "y2 = 2. \t\t\t#in\n",
      "\t\t\t\n",
      "# Calculations\n",
      "ratio = 0.8\n",
      "l = x+x1\n",
      "lr = ratio*l\n",
      "I = (math.pi*(d)**4)/64\n",
      "Pcr = math.pi**2*E*I/lr**2\n",
      "scr = Pcr/(math.pi*(d/2)**2)\n",
      "F = Pcr*y2/(y1+y2)\n",
      "\t\t\t\n",
      "# Results\n",
      "print  'Stress in the critical load = %.0f psi'%(round(scr,-1))\n",
      "print  'Critical force F =%.0f lb'%(F)\n"
     ],
     "language": "python",
     "metadata": {},
     "outputs": [
      {
       "output_type": "stream",
       "stream": "stdout",
       "text": [
        "Stress in the critical load = 4520 psi\n",
        "Critical force F =177 lb\n"
       ]
      }
     ],
     "prompt_number": 6
    },
    {
     "cell_type": "heading",
     "level": 2,
     "metadata": {},
     "source": [
      "Example 16.6 Page No : 423"
     ]
    },
    {
     "cell_type": "code",
     "collapsed": false,
     "input": [
      "import math \n",
      "\t\t\t\n",
      "# Variables\n",
      "l = 10. \t\t\t#ft\n",
      "Ys = 33000. \t\t\t#psi\n",
      "E = 30.*10**6\n",
      "A = 13.24 \t\t\t#in**4\n",
      "\t\t\t\n",
      "# Calculations\n",
      "r = 2.\n",
      "lbyr = l*12/r\n",
      "Cc = math.sqrt(2*math.pi**2*E/Ys)\n",
      "fs = 5./3+3*(lbyr)/(8*Cc)+(lbyr)**3/(5*Cc**3)\n",
      "Sa =((1-((lbyr)**2/(2*Cc**2)))*(Ys))/fs\n",
      "Pa = Sa*A\n",
      "\n",
      "\t\t\t\n",
      "# Results\n",
      "print  'Premissible load = %.f kips'%(Pa/1000)\n",
      "\n",
      "# note : rounding off error."
     ],
     "language": "python",
     "metadata": {},
     "outputs": [
      {
       "output_type": "stream",
       "stream": "stdout",
       "text": [
        "Premissible load = 212 kips\n"
       ]
      }
     ],
     "prompt_number": 10
    },
    {
     "cell_type": "heading",
     "level": 2,
     "metadata": {},
     "source": [
      "Example 16.7 Page No : 425"
     ]
    },
    {
     "cell_type": "code",
     "collapsed": false,
     "input": [
      "import math \n",
      "from sympy import Symbol,solve\n",
      "\t\t\t\n",
      "# Variables\n",
      "L = 12. \t\t\t#ft\n",
      "Po = 100. \t\t\t#kips\n",
      "e = 2. \t\t\t#ft\n",
      "ys = 42000. \t\t\t#psi\n",
      "A = 11.77 \t\t\t#in**2\n",
      "rmin = 195. \t\t\t#in\n",
      "Zmin = 11.0 \t\t\t#in**3\n",
      "lbyr = 74.2\n",
      "stress = 18. \t\t\t#ksi\n",
      "\t\t\t\n",
      "# Calculations\n",
      "#P = (stress-(Po/A)/((1/A)+((e*12)/Zmin)))\n",
      "P = Symbol(\"P\")\n",
      "eq = (((Po+P)/A) + (P*(e*L)/11))/stress - 1\n",
      "P = solve(eq,P)[0]\n",
      "\t\t\t\n",
      "# Results\n",
      "print  'Additional Load = %.2f kips '%(P)\n",
      "\n"
     ],
     "language": "python",
     "metadata": {},
     "outputs": [
      {
       "output_type": "stream",
       "stream": "stdout",
       "text": [
        "Additional Load = 4.19 kips \n"
       ]
      }
     ],
     "prompt_number": 1
    },
    {
     "cell_type": "heading",
     "level": 2,
     "metadata": {},
     "source": [
      "Example 16.8 Page No : 425"
     ]
    },
    {
     "cell_type": "code",
     "collapsed": false,
     "input": [
      "\t\t\t\n",
      "# Variables\n",
      "l = 15. \t\t\t#ft\n",
      "Al = 80. \t\t\t#kips\n",
      "El = 60. \t\t\t#kips\n",
      "Ys = 33. \t\t\t#ksi\n",
      "e = 4. \t\t\t#in\n",
      "\t\t\t\n",
      "# Calculations\n",
      "A = 14.4\n",
      "rmin = 2.54\n",
      "Zxx = 54.6\n",
      "lbyr = l*12/rmin\n",
      "Smax = ((Al+El)/A)+El*e/Zxx\n",
      "\t\t\t\n",
      "# Results\n",
      "print  'Maximum stress %.1f ksi'%(Smax)\n",
      "print (\"10 WF 49 is the suitable one\")\n"
     ],
     "language": "python",
     "metadata": {},
     "outputs": [
      {
       "output_type": "stream",
       "stream": "stdout",
       "text": [
        "Maximum stress 14.1 ksi\n",
        "10 WF 49 is the suitable one\n"
       ]
      }
     ],
     "prompt_number": 12
    }
   ],
   "metadata": {}
  }
 ]
}