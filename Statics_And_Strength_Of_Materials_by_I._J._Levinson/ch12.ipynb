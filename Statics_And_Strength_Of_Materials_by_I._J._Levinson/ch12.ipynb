{
 "metadata": {
  "name": "",
  "signature": "sha256:80d6cc3748bed03e9fd030c70419175672c3c9a4d62b5544fe9d0f908939d53e"
 },
 "nbformat": 3,
 "nbformat_minor": 0,
 "worksheets": [
  {
   "cells": [
    {
     "cell_type": "heading",
     "level": 1,
     "metadata": {},
     "source": [
      "Chapter 12 : Stresses in Beams"
     ]
    },
    {
     "cell_type": "heading",
     "level": 2,
     "metadata": {},
     "source": [
      "Example 12.1 Page No : 281"
     ]
    },
    {
     "cell_type": "code",
     "collapsed": false,
     "input": [
      "\t\t\t\n",
      "# Variables\n",
      "L = 20. \t\t\t#ft\n",
      "b1 = 12. \t\t\t#in\n",
      "h1 = 4. \t\t\t#in\n",
      "b2 = 4. \t\t\t#in\n",
      "h2 = 12. \t\t\t#in\n",
      "Fs = 1200. \t\t\t#psi\n",
      "La = 5. \t\t\t#ft\n",
      "Lb = 15. \t\t\t#ft\n",
      "\t\t\t\n",
      "# Calculations\n",
      "Ina = b1*h1**3/12\n",
      "P1 = (Fs*Ina*4)/((h1/2)*12*La*3)\n",
      "Ina1 = b2*h2**3/12\n",
      "P2 = (Fs*Ina1*4)/((h2/2)*12*La*3)\n",
      "\t\t\t\n",
      "# Results\n",
      "print  'P max in first case = %.0f lb'%(P1)\n",
      "print  'P max in second case = %.2f lb'%(P2)\n"
     ],
     "language": "python",
     "metadata": {},
     "outputs": [
      {
       "output_type": "stream",
       "stream": "stdout",
       "text": [
        "P max in first case = 853 lb\n",
        "P max in second case = 2560.00 lb\n"
       ]
      }
     ],
     "prompt_number": 1
    },
    {
     "cell_type": "heading",
     "level": 2,
     "metadata": {},
     "source": [
      "Example 12.2 Page No : 282"
     ]
    },
    {
     "cell_type": "code",
     "collapsed": false,
     "input": [
      "\t\t\t\n",
      "# Variables\n",
      "b = 0.5 \t\t\t#in\n",
      "h = 1./32 \t\t\t#in\n",
      "d = 4. \t\t\t#ft\n",
      "E = 30.*10**6\n",
      "\t\t\t\n",
      "# Calculations\n",
      "stress = E*(h/2)/((d/2)*12)\n",
      "Ina = b*h**3/12\n",
      "M = stress*Ina/(h/2)\n",
      "\t\t\t\n",
      "# Results\n",
      "print  'maximum stress = %.2f psi'%(round(stress,-2))\n",
      "print  'internal moment = %.2f lb in'%(M) \n"
     ],
     "language": "python",
     "metadata": {},
     "outputs": [
      {
       "output_type": "stream",
       "stream": "stdout",
       "text": [
        "maximum stress = 19500.00 psi\n",
        "internal moment = 1.59 lb in\n"
       ]
      }
     ],
     "prompt_number": 1
    },
    {
     "cell_type": "heading",
     "level": 2,
     "metadata": {},
     "source": [
      "Example 12.3 Page No : 283"
     ]
    },
    {
     "cell_type": "code",
     "collapsed": false,
     "input": [
      "\t\t\t\n",
      "# Variables\n",
      "W = 1000. \t\t\t#lb/ft\n",
      "L = 10. \t\t\t#in\n",
      "b1 = 4. \t\t\t#in\n",
      "h1 = 1. \t\t\t#in\n",
      "b2 = 1. \t\t\t#in\n",
      "h2 = 6. \t\t\t#in\n",
      "\t\t\t\n",
      "# Calculations\n",
      "Mmax = 12500 \t\t\t#lb ft\n",
      "y = ((b1*h1*h1/2)+(b2*h2*((h2/2)+h1)))/(b1*h1+b2*h2)\n",
      "Ina = round((b1*h1**3/12)+b1*h1*(y-h1/2)**2+(b2*h2**3/12)+b2*h2*(h1+h2-y-(h2/2))**2,1)\n",
      "sigmat = Mmax*12*y/Ina\n",
      "sigmac = Mmax*12*(h1+h2-y)/Ina\n",
      "\n",
      "\t\t\t\n",
      "# Results\n",
      "print  'maximum tensile stress = %.2f psi'%(round(sigmat,-1))\n",
      "print  'maximum compressive bending stress = %.2f psi'%(round(sigmac,-2)) \n"
     ],
     "language": "python",
     "metadata": {},
     "outputs": [
      {
       "output_type": "stream",
       "stream": "stdout",
       "text": [
        "maximum tensile stress = 8180.00 psi\n",
        "maximum compressive bending stress = 13800.00 psi\n"
       ]
      }
     ],
     "prompt_number": 5
    },
    {
     "cell_type": "heading",
     "level": 2,
     "metadata": {},
     "source": [
      "Example 12.4 Page No : 287"
     ]
    },
    {
     "cell_type": "code",
     "collapsed": false,
     "input": [
      "\t\t\t\n",
      "# Variables\n",
      "st = 1200. \t\t\t#psi\n",
      "sc = 100. \t\t\t#psi\n",
      "h = 12. \t\t\t#in\n",
      "b = 4. \t\t\t#in\n",
      "\t\t\t\n",
      "# Calculations\n",
      "I = b*h**3/12\n",
      "P1 = st*I/(b*12*(h/2))\n",
      "P2 = 2*sc*b*12/3\n",
      "if (P1<P2):\n",
      "    print  'Safe value of p = %.f lB'%(P1)\n",
      "else: \n",
      "    print  'Safe value of p = %.f lB'%(P2)\n"
     ],
     "language": "python",
     "metadata": {},
     "outputs": [
      {
       "output_type": "stream",
       "stream": "stdout",
       "text": [
        "Safe value of p = 2400 lB\n"
       ]
      }
     ],
     "prompt_number": 4
    },
    {
     "cell_type": "heading",
     "level": 2,
     "metadata": {},
     "source": [
      "Example 12.5 Page No : 287"
     ]
    },
    {
     "cell_type": "code",
     "collapsed": false,
     "input": [
      "\t\t\t\n",
      "# Variables\n",
      "W = 600. \t\t\t#lb/ft\n",
      "L1 = 8. \t\t\t#in\n",
      "L2 = 4. \t\t\t#in\n",
      "b = 6. \t\t\t#in\n",
      "h = 8. \t\t\t#in\n",
      "t = 1. \t\t\t#in\n",
      "\t\t\t\n",
      "# Calculations\n",
      "R1 = W*(L1+L2)*((L1+L2)/2)/L1\n",
      "R2 = W*(L1+L2)*(L1-(L1+L2)/2)/L1\n",
      "Vmax = 3000 \t\t\t#lb\n",
      "I = (b*h**3/12)-(L2*b**3/12)\n",
      "Ay = b*L2*(L2/2)-L2*b/2*b/4\n",
      "b = t+t\n",
      "Tmax = Vmax*Ay/(I*b)\n",
      "\t\t\t\n",
      "# Results\n",
      "print  'maximum shear stress = %.0f psi'%(Tmax) \n"
     ],
     "language": "python",
     "metadata": {},
     "outputs": [
      {
       "output_type": "stream",
       "stream": "stdout",
       "text": [
        "maximum shear stress = 245 psi\n"
       ]
      }
     ],
     "prompt_number": 2
    },
    {
     "cell_type": "heading",
     "level": 2,
     "metadata": {},
     "source": [
      "Example 12.6 Page No : 290"
     ]
    },
    {
     "cell_type": "code",
     "collapsed": false,
     "input": [
      "import math \n",
      "\t\t\t\n",
      "# Variables\n",
      "w = 4000. \t\t\t#lb/ft\n",
      "l = 20. \t\t\t#ft\n",
      "y = 0.96\n",
      "A = 4.18 \t\t\t#in**2\n",
      "Icq = 5.6 \t\t\t#in**4\n",
      "d = 28. \t\t\t#in\n",
      "b = 0.5 \t\t\t#in\n",
      "T = 8000. \t\t\t#psi\n",
      "d1 = 0.75 \t\t\t#in\n",
      "\t\t\t\n",
      "# Calculations\n",
      "V = w*l/2\n",
      "Ay = 2*A*((d/2)-y)\n",
      "I = b*d**3/12+4*(Icq+A*((d/2)-y)**2)\n",
      "p = (2*T*(math.pi/4)*d1**2*I)/(V*Ay)\n",
      "\t\t\t\n",
      "# Results\n",
      "print  'Rivet spacing = %.2f in'%(p) \n"
     ],
     "language": "python",
     "metadata": {},
     "outputs": [
      {
       "output_type": "stream",
       "stream": "stdout",
       "text": [
        "Rivet spacing = 6.13 in\n"
       ]
      }
     ],
     "prompt_number": 6
    },
    {
     "cell_type": "heading",
     "level": 2,
     "metadata": {},
     "source": [
      "Example 12.7 Page No : 293"
     ]
    },
    {
     "cell_type": "code",
     "collapsed": false,
     "input": [
      "\t\t\t\n",
      "# Variables\n",
      "Es = 30.*10**6\n",
      "Ew = 1.5*10**6\n",
      "w = 500. \t\t\t#lb per ft\n",
      "span = 12. \t\t\t#ft\n",
      "t = 0.25 \t\t\t#in\n",
      "h = 12. \t\t\t#in\n",
      "n = 3.\n",
      "b = 5. \t\t\t#in\n",
      "\t\t\t\n",
      "# Calculations\n",
      "bw = Es*t/Ew\n",
      "Ina = n*b*h**3/12\n",
      "M = (w*span*(h/2)*12)/4\n",
      "S = M*(h/2)/I\n",
      "Ss = Es*S/Ew\n",
      "bs = Ew*bw/Es\n",
      "Ina1 = n*t*h**3/12\n",
      "Ss1 = M*(h/2)/Ina1\n",
      "Sw = Ew*Ss1/Es\n",
      "\t\t\t\n",
      "# Results\n",
      "print  'Maximum bending stress in steel = %.3f psi'%(Ss1)\n",
      "print  'Maximum bending stress in wood = %.2f psi'%(Sw)\n"
     ],
     "language": "python",
     "metadata": {},
     "outputs": [
      {
       "output_type": "stream",
       "stream": "stdout",
       "text": [
        "Maximum bending stress in steel = 6000.000 psi\n",
        "Maximum bending stress in wood = 300.00 psi\n"
       ]
      }
     ],
     "prompt_number": 7
    },
    {
     "cell_type": "heading",
     "level": 2,
     "metadata": {},
     "source": [
      "Example 12.8 Page No : 294"
     ]
    },
    {
     "cell_type": "code",
     "collapsed": false,
     "input": [
      "import math \n",
      "\t\t\t\n",
      "# Variables\n",
      "Ss = 15000. \t\t\t#psi\n",
      "Sa = 6000.   \t\t\t#psi\n",
      "Es = 30.*10**6\n",
      "Ea = 10.*10**6\n",
      "Sl = 16. \t\t\t#ft\n",
      "ba = 3. \t\t\t#in\n",
      "ha = 8. \t\t\t#in\n",
      "hs = 1. \t\t\t#in\n",
      "b = 1.   \t\t\t#in\n",
      "\t\t\t\n",
      "# Calculations and Resuls\n",
      "bs = (Ea/Es)*ba\n",
      "Y = ((ba-b)*b*(hs/2)+(ha+b)*b*((ha/2)+(hs/2)))/(ba*b+ha*b)\n",
      "I = (ba*hs**3/12)+ba*hs*(Y-(hs/2))**2+((b*ha**3/12)+b*ha*(ha-Y-(ha/2))**2)\n",
      "w1 = Ss*I/(Y*(1./2)*ha*(ha)*12)\n",
      "Ss = Es*Sa/Ea\n",
      "w2 = Ss*I/((ha-Y)*(1./2)*ha*(ha)*12)\n",
      "if (w1<w2):\n",
      "    print  'Greatest uniformly distributed load = %d lb per ft'%(w1)\n",
      "else:\n",
      "    print  'Greatest uniformly distributed load = %d lb per ft'%(w2)\n",
      "\n",
      "# note : rounding off error"
     ],
     "language": "python",
     "metadata": {},
     "outputs": [
      {
       "output_type": "stream",
       "stream": "stdout",
       "text": [
        "Greatest uniformly distributed load = 781 lb per ft\n"
       ]
      }
     ],
     "prompt_number": 8
    },
    {
     "cell_type": "heading",
     "level": 2,
     "metadata": {},
     "source": [
      "Example 12.9 Page No : 297"
     ]
    },
    {
     "cell_type": "code",
     "collapsed": false,
     "input": [
      "import math \n",
      "\t\t\t\n",
      "# Variables\n",
      "M = 500000. \t\t\t#lb in\n",
      "r = 15.\n",
      "n = 3.\n",
      "b = 20. \t\t\t#in\n",
      "l = 12. \t\t\t#in\n",
      "As = 1. \t\t\t#in**2\n",
      "\t\t\t\n",
      "# Calculations\n",
      "At = r*As*n\n",
      "x = (-2*At+math.sqrt((2*At)**2+8*At*b*l))/(2*l)\n",
      "Ina = ((l*x**3)/3)+At*(b-x)**2\n",
      "Scmax = M*x/Ina\n",
      "Ssmax = r*M*(b-x)/Ina\n",
      "\t\t\t\n",
      "# Results\n",
      "print  'Maximum bending stress in concrete = %.0f psi'%(Scmax)\n",
      "print  'Maximum bending stress in steel = %.2f psi'%(Ssmax)\n",
      "\n",
      "# note : answer is accurate. please check with calculator."
     ],
     "language": "python",
     "metadata": {},
     "outputs": [
      {
       "output_type": "stream",
       "stream": "stdout",
       "text": [
        "Maximum bending stress in concrete = 542 psi\n",
        "Maximum bending stress in steel = 9815.22 psi\n"
       ]
      }
     ],
     "prompt_number": 9
    },
    {
     "cell_type": "heading",
     "level": 2,
     "metadata": {},
     "source": [
      "Example 12.10 Page No : 298"
     ]
    },
    {
     "cell_type": "code",
     "collapsed": false,
     "input": [
      "import math \n",
      "\t\t\t\n",
      "# Variables\n",
      "Sc = 800. \t\t\t#psi\n",
      "Ss = 18000. \t\t\t#psi\n",
      "ratio = 15.\n",
      "d = 5/8. \t\t\t#in\n",
      "l = 20. \t\t\t#in\n",
      "b = 10. \t\t\t#in\n",
      "\t\t\t\n",
      "# Calculations\n",
      "x = Sc*ratio*l/(Ss+Sc*ratio)\n",
      "As = b*x*(x/2)/((l-x)*ratio)\n",
      "Ina = (b*x**3/3)+ratio*As*(l-x)**2\n",
      "M = Sc*I/x\n",
      "N = As/(math.pi*(d/2)**2)\n",
      "\t\t\t\n",
      "# Results\n",
      "print  'Number of steel bars required = %.2f'%(N)\n",
      "print (\"it rounds to 6 bars\")\n"
     ],
     "language": "python",
     "metadata": {},
     "outputs": [
      {
       "output_type": "stream",
       "stream": "stdout",
       "text": [
        "Number of steel bars required = 5.79\n",
        "it rounds to 6 bars\n"
       ]
      }
     ],
     "prompt_number": 11
    }
   ],
   "metadata": {}
  }
 ]
}