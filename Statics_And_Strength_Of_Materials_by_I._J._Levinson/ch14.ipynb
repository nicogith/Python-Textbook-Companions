{
 "metadata": {
  "name": "",
  "signature": "sha256:94d59c04fa299edfd91c8fbcd74f6a447f3853008eda8e5b17fed905ae2575e6"
 },
 "nbformat": 3,
 "nbformat_minor": 0,
 "worksheets": [
  {
   "cells": [
    {
     "cell_type": "heading",
     "level": 1,
     "metadata": {},
     "source": [
      "Chapter 14 : Combined Loading"
     ]
    },
    {
     "cell_type": "heading",
     "level": 2,
     "metadata": {},
     "source": [
      "Example 14.1 Page No : 349"
     ]
    },
    {
     "cell_type": "code",
     "collapsed": false,
     "input": [
      "\t\t\t\n",
      "# Variables\n",
      "h = 6. \t    \t\t#in\n",
      "x1 = 7. \t\t\t#in\n",
      "x2 = 1. \t\t\t#in\n",
      "x3 = 2. \t\t\t#in\n",
      "P = 600. \t\t\t#lb\n",
      "\t\t\t\n",
      "# Calculations\n",
      "By = P*(x1+x2+x3)/(x1+x2)\n",
      "Bx = By*(x1+x2)/h\n",
      "Fx = Bx\n",
      "V = By-P\n",
      "M = -P*(x2+x3)+By*x2\n",
      "S1 = -Fx/(x3*h)\n",
      "I = x3*h**3/12\n",
      "S2 = -M*12*(h/2)/I\n",
      "Scmax = S1-S2\n",
      "Stmax = S1+S2\n",
      "\t\t\t\n",
      "# Results\n",
      "print  'Maximum tensile stress at  = %.1f psi'%(Scmax)\n",
      "print  'Maximum compressive stress at  = %.1f psi'%(Stmax)\n"
     ],
     "language": "python",
     "metadata": {},
     "outputs": [
      {
       "output_type": "stream",
       "stream": "stdout",
       "text": [
        "Maximum tensile stress at  = -1133.3 psi\n",
        "Maximum compressive stress at  = 966.7 psi\n"
       ]
      }
     ],
     "prompt_number": 1
    },
    {
     "cell_type": "heading",
     "level": 2,
     "metadata": {},
     "source": [
      "Example 14.2 Page No : 350"
     ]
    },
    {
     "cell_type": "code",
     "collapsed": false,
     "input": [
      "\t\t\t\n",
      "# Variables\n",
      "P = 10000. \t\t\t#lb\n",
      "A = 11.77 \t\t\t#in**2\n",
      "Z = 51.9 \t\t\t#in**3\n",
      "x = 5. \t\t\t#ft\n",
      "y = 12. \t\t\t#ft\n",
      "\t\t\t\n",
      "# Calculations\n",
      "S1 = round(-P/A)\n",
      "S2 = round(P*x*y/Z,-2)\n",
      "Sc = S1-S2\n",
      "St = S1+S2\n",
      "\n",
      "\t\t\t\n",
      "# Results\n",
      "print  'Axial stress at c = %.1f psi'%(Sc)\n",
      "print  'Axial stress at t = %.1f psi'%(St)\n"
     ],
     "language": "python",
     "metadata": {},
     "outputs": [
      {
       "output_type": "stream",
       "stream": "stdout",
       "text": [
        "Axial stress at c = -12450.0 psi\n",
        "Axial stress at t = 10750.0 psi\n"
       ]
      }
     ],
     "prompt_number": 3
    },
    {
     "cell_type": "heading",
     "level": 2,
     "metadata": {},
     "source": [
      "Example 14.3 Page No : 353"
     ]
    },
    {
     "cell_type": "code",
     "collapsed": false,
     "input": [
      "\t\t\t\n",
      "# Variables\n",
      "b = 6. \t\t    \t#in\n",
      "h = 12. \t\t\t#in\n",
      "l = 20. \t\t\t#ft\n",
      "P = 100000. \t\t#lb\n",
      "\t\t\t\n",
      "# Calculations\n",
      "S = -P/(b*h)\n",
      "S1 = l**2*6*12/(8*b*h**2)\n",
      "w = -S/S1\n",
      "\t\t\t\n",
      "# Results\n",
      "print  'Safe distributed load = %.0f lb per ft'%(w)\n"
     ],
     "language": "python",
     "metadata": {},
     "outputs": [
      {
       "output_type": "stream",
       "stream": "stdout",
       "text": [
        "Safe distributed load = 333 lb per ft\n"
       ]
      }
     ],
     "prompt_number": 1
    },
    {
     "cell_type": "heading",
     "level": 2,
     "metadata": {},
     "source": [
      "Example 14.4 Page No : 355"
     ]
    },
    {
     "cell_type": "code",
     "collapsed": false,
     "input": [
      "\t\t\t\n",
      "# Variables\n",
      "b = 4. \t\t\t#in\n",
      "h = 9. \t\t\t#in\n",
      "l = 6. \t\t\t#in\n",
      "Mx = 600. \t\t\t#lb\n",
      "My = 100. \t\t\t#lb\n",
      "\t\t\t\n",
      "# Calculations\n",
      "Zx = b*h**3/(12*h/2)\n",
      "Zy = b**3*h/(12*b/2)\n",
      "S1 = Mx*l*12/Zx\n",
      "S2 = My*b*12/Zy\n",
      "Sb = S1+S2\n",
      "Sd = -S1-S2\n",
      "\t\t\t\n",
      "# Results\n",
      "print  'Maximum stress = %.1f psi tension)'%(Sb)\n",
      "print  '  Maximum stress =%.1f psi compression)'%(Sd) \n",
      "\n",
      "\n"
     ],
     "language": "python",
     "metadata": {},
     "outputs": [
      {
       "output_type": "stream",
       "stream": "stdout",
       "text": [
        "Maximum stress = 1000.0 psi tension)\n",
        "  Maximum stress =-1000.0 psi compression)\n"
       ]
      }
     ],
     "prompt_number": 4
    },
    {
     "cell_type": "heading",
     "level": 2,
     "metadata": {},
     "source": [
      "Example 14.5 Page No : 356"
     ]
    },
    {
     "cell_type": "code",
     "collapsed": false,
     "input": [
      "import math \n",
      "\t\t\t\n",
      "# Variables\n",
      "d = 2. \t\t\t#in\n",
      "Px = -600. \t\t\t#lb\n",
      "Py = 1200. \t\t\t#lb\n",
      "x1 = 2. \t\t\t#in\n",
      "x2 = 2. \t\t\t#in\n",
      "x3 = 2. \t\t\t#in\n",
      "Ray = -400. \t\t\t#lb\n",
      "Rax = 400. \t\t\t#lb\n",
      "Rbx = 200. \t\t\t#lb\n",
      "Rby = -800. \t\t\t#lb\n",
      "\t\t\t\n",
      "# Calculations\n",
      "Mb = math.sqrt((Rax*x1)**2+(Ray*x1)**2)\n",
      "Mc =math.sqrt((Rbx*x3)**2+(Rby*x3)**2)\n",
      "if (Mb<Mc) :\n",
      "    M =Mc\n",
      "else: \n",
      "    M = Mb    \n",
      "\n",
      "Smax = M*12*64*(d/2)/(math.pi*d**4)\n",
      "\t\t\t\n",
      "# Results\n",
      "print  'Maximum normal stress = %.1f psi'%(round(Smax,-2)) \n",
      "\n"
     ],
     "language": "python",
     "metadata": {},
     "outputs": [
      {
       "output_type": "stream",
       "stream": "stdout",
       "text": [
        "Maximum normal stress = 25200.0 psi\n"
       ]
      }
     ],
     "prompt_number": 4
    },
    {
     "cell_type": "heading",
     "level": 2,
     "metadata": {},
     "source": [
      "Example 14.6 Page No : 359"
     ]
    },
    {
     "cell_type": "code",
     "collapsed": false,
     "input": [
      "\t\t\t\n",
      "# Variables\n",
      "P = 100. \t\t\t#kips\n",
      "M = 400. \t\t\t#kip in\n",
      "A = 14.7 \t\t\t#in**2\n",
      "Z = 80.7 \t\t\t#in**3\n",
      "\t\t\t\n",
      "# Calculations\n",
      "Smax = -(P*10**3)/A-(M*10**3)/Z\n",
      "Smin = -(P*10**3)/A+(M*10**3)/Z\n",
      "\t\t\t\n",
      "# Results\n",
      "print  'Maximum stress = %.1f psi'%(round(Smax,-2))\n",
      "print  'Minimum stress =%.1f psi'%(round(Smin,-1))\n"
     ],
     "language": "python",
     "metadata": {},
     "outputs": [
      {
       "output_type": "stream",
       "stream": "stdout",
       "text": [
        "Maximum stress = -11800.0 psi\n",
        "Minimum stress =-1850.0 psi\n"
       ]
      }
     ],
     "prompt_number": 5
    },
    {
     "cell_type": "heading",
     "level": 2,
     "metadata": {},
     "source": [
      "Example 14.7 Page No : 360"
     ]
    },
    {
     "cell_type": "code",
     "collapsed": false,
     "input": [
      "\t\t\t\n",
      "# Variables\n",
      "As = 1. \t\t\t#in**2\n",
      "Zs = 0.167 \t\t\t#in**3\n",
      "Ah = 1. \t\t\t#in**2\n",
      "Zh = 0.984 \t\t\t#in**3\n",
      "es = 0.5 \t\t\t#in\n",
      "eh = 0.5 \t\t\t#in\n",
      "\t\t\t\n",
      "# Calculations\n",
      "phbyps = (1/As+es/Zs)/(1/Ah+eh/Zh)\n",
      "\t\t\t\n",
      "# Results\n",
      "print  'ratio = %.1f'%(phbyps)\n"
     ],
     "language": "python",
     "metadata": {},
     "outputs": [
      {
       "output_type": "stream",
       "stream": "stdout",
       "text": [
        "ratio = 2.6\n"
       ]
      }
     ],
     "prompt_number": 7
    },
    {
     "cell_type": "heading",
     "level": 2,
     "metadata": {},
     "source": [
      "Example 14.8 Page No : 365"
     ]
    },
    {
     "cell_type": "code",
     "collapsed": false,
     "input": [
      "import math \n",
      "\t\t\t\n",
      "# Variables\n",
      "Sx = 1800. \t\t\t#psi\n",
      "Sy = 1000. \t\t\t#psi\n",
      "angle = 30. \t\t\t#degrees\n",
      "t = 0.25 \t\t\t#in\n",
      "t1 = 3. \t\t\t#in\n",
      "t2 = 5. \t\t\t#in\n",
      "\t\t\t\n",
      "# Calculations\n",
      "Sx1 = Sx/(t1*t)\n",
      "Sy1 = Sy/(t2*t)\n",
      "S = ((Sx+Sy)/2+((Sx-Sy)/2)*math.cos(math.radians(2*angle)))+(Sx-Sy)*math.cos(math.radians(2*angle))\n",
      "T = (Sx-Sy)*math.sin(math.radians(2*angle))\n",
      "\t\t\t\n",
      "# Results\n",
      "print  'S = %.1f psi'%(S)\n",
      "print  'T =%.f psi'%(T)\n"
     ],
     "language": "python",
     "metadata": {},
     "outputs": [
      {
       "output_type": "stream",
       "stream": "stdout",
       "text": [
        "S = 2000.0 psi\n",
        "T =693 psi\n"
       ]
      }
     ],
     "prompt_number": 7
    },
    {
     "cell_type": "heading",
     "level": 2,
     "metadata": {},
     "source": [
      "Example 14.9 Page No : 365"
     ]
    },
    {
     "cell_type": "code",
     "collapsed": false,
     "input": [
      "\t\t\t\n",
      "# Variables\n",
      "Sx = 1800. \t\t\t#lb\n",
      "Sy = 1000. \t\t\t#lb\n",
      "angle = 30. \t\t\t#degrees\n",
      "\t\t\t\n",
      "# Calculations\n",
      "Sa =-((Sx+Sy)/2+((Sx-Sy)/2)*math.cos(math.radians(2*angle)))*math.cos(math.radians(2*angle))-(Sx-Sy)\n",
      "Ta = -((Sx+Sy)/2+((Sx-Sy)/2)*math.cos(math.radians(2*angle)))*math.sin(math.radians(2*angle))\n",
      "Sb =((Sx+Sy)/2+((Sx-Sy)/2)*math.cos(math.radians(2*angle)))*math.cos(math.radians(2*angle))-(Sx-Sy)\n",
      "Tb = ((Sx+Sy)/2+((Sx-Sy)/2)*math.cos(math.radians(2*angle)))*math.sin(math.radians(2*angle))\n",
      "\t\t\t\n",
      "# Results\n",
      "print  'Sa = %.1f psi'%(Sa)\n",
      "print  'Sb =%.1f psi'%(Sb)\n",
      "print  'Ta =%.f psi'%(round(Ta,-1))\n",
      "print  'Tb =%.1f psi'%(round(Tb,-1))\n"
     ],
     "language": "python",
     "metadata": {},
     "outputs": [
      {
       "output_type": "stream",
       "stream": "stdout",
       "text": [
        "Sa = -1600.0 psi\n",
        "Sb =0.0 psi\n",
        "Ta =-1390 psi\n",
        "Tb =1390.0 psi\n"
       ]
      }
     ],
     "prompt_number": 8
    },
    {
     "cell_type": "heading",
     "level": 2,
     "metadata": {},
     "source": [
      "Example 14.10 Page No : 369"
     ]
    },
    {
     "cell_type": "code",
     "collapsed": false,
     "input": [
      "import math \n",
      "\n",
      "\t\t\n",
      "# Variables\n",
      "angle = 15. \t\t\t#degrees\n",
      "Tyx = -1000. \t\t\t#psi\n",
      "Txy = 1000. \t\t\t#psi\n",
      "\t\t\t\n",
      "# Calculations\n",
      "Sx = Txy*math.sin(math.radians(2*angle))\n",
      "Tx = Txy*math.cos(math.radians(2*angle))\n",
      "Sy = Tyx*math.sin(math.radians(2*angle))\n",
      "Ty = Tyx*math.cos(math.radians(2*angle))\n",
      "Sx1 = Txy\n",
      "Sy1 = Tyx\n",
      "Txy = 0\n",
      "\t\t\t\n",
      "# Results\n",
      "print  'Sx = %.1f psi'%(Sx)\n",
      "print  'Tx = %.1f psi'%(Tx)\n",
      "print  'Sy = %.1f psi'%(Sy)\n",
      "print  'Ty = %.1f psi'%(Ty)\n",
      "print  'Sx1 = %.1f psi'%(Sx1)\n",
      "print  'Sy1 = %.1f psi'%(Sy1)\n",
      "print  'Txy = %.1f psi'%(Txy)\n"
     ],
     "language": "python",
     "metadata": {},
     "outputs": [
      {
       "output_type": "stream",
       "stream": "stdout",
       "text": [
        "Sx = 500.0 psi\n",
        "Tx = 866.0 psi\n",
        "Sy = -500.0 psi\n",
        "Ty = -866.0 psi\n",
        "Sx1 = 1000.0 psi\n",
        "Sy1 = -1000.0 psi\n",
        "Txy = 0.0 psi\n"
       ]
      }
     ],
     "prompt_number": 9
    },
    {
     "cell_type": "heading",
     "level": 2,
     "metadata": {},
     "source": [
      "Example 14.11 Page No : 370"
     ]
    },
    {
     "cell_type": "code",
     "collapsed": false,
     "input": [
      "import math \n",
      "\t\t\t\n",
      "# Variables\n",
      "d = 4. \t\t\t#in\n",
      "n = 315. \t\t\t#rpm\n",
      "Ss = 8000. \t\t\t#psi\n",
      "Ns = 12000. \t\t\t#psi\n",
      "\t\t\t\n",
      "# Calculations\n",
      "T = Ss*d**4/(32*(d/2))\n",
      "hp = T*math.pi*n/63000\n",
      "\t\t\t\n",
      "# Results\n",
      "print  'T = %.1f pi lb in'%(T)\n",
      "print  'horsepower rating =%.1f hp'%(round(hp,-1))\n"
     ],
     "language": "python",
     "metadata": {},
     "outputs": [
      {
       "output_type": "stream",
       "stream": "stdout",
       "text": [
        "T = 32000.0 pi lb in\n",
        "horsepower rating =500.0 hp\n"
       ]
      }
     ],
     "prompt_number": 12
    },
    {
     "cell_type": "heading",
     "level": 2,
     "metadata": {},
     "source": [
      "Example 14.12 Page No : 372"
     ]
    },
    {
     "cell_type": "code",
     "collapsed": false,
     "input": [
      "import math \n",
      "\t\t\t\n",
      "# Variables\n",
      "Sx = 9. \t\t\t#ksi\n",
      "Sy = -5. \t\t\t#ksi\n",
      "Txy = 4. \t\t\t#ksi\n",
      "\t\t\t\n",
      "# Calculations\n",
      "R = math.sqrt(((Sx-Sy)/2)**2+Txy**2)\n",
      "Smax = ((Sx+Sy)/2)+R\n",
      "Smin = ((Sx+Sy)/2)-R\n",
      "ap1 = (1./2)*math.degrees(math.atan(2*Txy/(Sx-Sy)))\n",
      "ap2 = 90+ap1\n",
      "Sc = (Sx+Sy)/2\n",
      "Tc = R\n",
      "Sd = (Sx+Sy)/2\n",
      "Td = -R\n",
      "a1 = (90-2*ap1)/2\n",
      "a2 = 90+a1\n",
      "\t\t\t\n",
      "# Results\n",
      "print  'Smax = %.2f ksi'%(Smax)\n",
      "print  'Smin = %.2f ksi'%(Smin)\n",
      "print  'R = %.2f psi'%(R)\n",
      "print  'palne1 = %.2f degrees'%(ap1)\n",
      "print  'plane 2 = %.2f degrees'%(ap2)\n",
      "print  'Sc = %.2f ksi'%(Sc)\n",
      "print  'Sd = %.2f ksi'%(Sd)\n",
      "print  'Tc = %.2f ksi'%(Tc)\n",
      "print  'Td = %.2f ksi'%(Td)\n",
      "print  'palne1 = %.2f degrees'%(a1)\n",
      "print  'plane 2 = %.2f degrees'%(a2)\n",
      "\n",
      "# note : rounding off error."
     ],
     "language": "python",
     "metadata": {},
     "outputs": [
      {
       "output_type": "stream",
       "stream": "stdout",
       "text": [
        "Smax = 10.06 ksi\n",
        "Smin = -6.06 ksi\n",
        "R = 8.06 psi\n",
        "palne1 = 14.87 degrees\n",
        "plane 2 = 104.87 degrees\n",
        "Sc = 2.00 ksi\n",
        "Sd = 2.00 ksi\n",
        "Tc = 8.06 ksi\n",
        "Td = -8.06 ksi\n",
        "palne1 = 30.13 degrees\n",
        "plane 2 = 120.13 degrees\n"
       ]
      }
     ],
     "prompt_number": 16
    },
    {
     "cell_type": "heading",
     "level": 2,
     "metadata": {},
     "source": [
      "Example 14.13 Page No : 373"
     ]
    },
    {
     "cell_type": "code",
     "collapsed": false,
     "input": [
      "import math \n",
      "\t\t\t\n",
      "# Variables\n",
      "d = 4. \t\t        \t#in\n",
      "T = 40000. \t\t\t    #lb in\n",
      "Th = 20000. \t\t\t#lb in\n",
      "\t\t\t\n",
      "# Calculations\n",
      "t = round(T*(d/2)*32/(math.pi*d**4),-1)\n",
      "S = round(Th/(math.pi*(d/2)**2),-1)\n",
      "Smax = -(S/2)-math.sqrt(t**2+(S/2)**2)\n",
      "Tmax = math.sqrt(t**2+(S/2)**2)\n",
      "\n",
      "\t\t\t\n",
      "# Results\n",
      "print  'Maximum normal stress = %.f psi'%(Smax)\n",
      "print  'Maximum shearing stress =%.f psi'%(Tmax)\n"
     ],
     "language": "python",
     "metadata": {},
     "outputs": [
      {
       "output_type": "stream",
       "stream": "stdout",
       "text": [
        "Maximum normal stress = -4073 psi\n",
        "Maximum shearing stress =3278 psi\n"
       ]
      }
     ],
     "prompt_number": 21
    }
   ],
   "metadata": {}
  }
 ]
}