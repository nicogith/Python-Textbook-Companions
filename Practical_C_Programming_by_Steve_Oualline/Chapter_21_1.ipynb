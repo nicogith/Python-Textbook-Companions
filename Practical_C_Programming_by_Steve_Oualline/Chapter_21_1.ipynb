{
 "metadata": {
  "name": "",
  "signature": "sha256:519d4be291344b242a6ae999f129aea597642f5315e1fe947ec2b9d627dcc018"
 },
 "nbformat": 3,
 "nbformat_minor": 0,
 "worksheets": [
  {
   "cells": [
    {
     "cell_type": "heading",
     "level": 1,
     "metadata": {},
     "source": [
      "Chapter 21: C's dustier corners"
     ]
    },
    {
     "cell_type": "heading",
     "level": 3,
     "metadata": {},
     "source": [
      "Example 21.1, Page number: 401"
     ]
    },
    {
     "cell_type": "code",
     "collapsed": false,
     "input": [
      "\n",
      "# Variable declaration\n",
      "import sys\n",
      "line = 'a'\n",
      "\n",
      "# Calculation and result\n",
      "if (line == 'a') :\n",
      "   print ('Add\\n')\n",
      "elif (line == 'd') :\n",
      "   print ('Delete\\n')\n",
      "elif (line == 'q') :\n",
      "   print ('Quit\\n')\n",
      "   sys.exit(1)   \n",
      "else :\n",
      "   print ('Error:Bad command %c\\n' % line)"
     ],
     "language": "python",
     "metadata": {},
     "outputs": [
      {
       "output_type": "stream",
       "stream": "stdout",
       "text": [
        "Add\n",
        "\n"
       ]
      }
     ],
     "prompt_number": 1
    }
   ],
   "metadata": {}
  }
 ]
}