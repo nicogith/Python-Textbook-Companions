{
 "metadata": {
  "name": "",
  "signature": "sha256:2555ca3a1b68efa7cc762303e679c4f4dbb6d27bc5633d2ac8b64fe540cb2399"
 },
 "nbformat": 3,
 "nbformat_minor": 0,
 "worksheets": [
  {
   "cells": [
    {
     "cell_type": "heading",
     "level": 1,
     "metadata": {},
     "source": [
      "Chapter 7: Programming process"
     ]
    },
    {
     "cell_type": "heading",
     "level": 3,
     "metadata": {},
     "source": [
      "Example 7.1, Page number: 126"
     ]
    },
    {
     "cell_type": "code",
     "collapsed": false,
     "input": [
      "\n",
      "\n",
      "# Variable declaration\n",
      "result = 0\n",
      "i = 0\n",
      "\n",
      "# Calculation and result\n",
      "while (i < 3) :\n",
      "   print ('Result: %d' % result)\n",
      "   operator = '+'\n",
      "   value = 10\n",
      "\n",
      "   if operator == '+' :\n",
      "      result += value\n",
      "   else :\n",
      "      print ('Unknown operator %c' % operator)\n",
      "   i = i + 1         "
     ],
     "language": "python",
     "metadata": {},
     "outputs": [
      {
       "output_type": "stream",
       "stream": "stdout",
       "text": [
        "Result: 0\n",
        "Result: 10\n",
        "Result: 20\n"
       ]
      }
     ],
     "prompt_number": 1
    },
    {
     "cell_type": "heading",
     "level": 3,
     "metadata": {},
     "source": [
      "Example 7.2, Page number: 133"
     ]
    },
    {
     "cell_type": "code",
     "collapsed": false,
     "input": [
      "\n",
      "# Variable declaration\n",
      "result = 0\n",
      "i = 0\n",
      "\n",
      "# Calculation and result\n",
      "while (i < 3) :\n",
      "   print ('Result: %d' % result)\n",
      "   operator = '+'\n",
      "   value = 5\n",
      "\n",
      "   if operator == 'q' or operator == 'Q' :\n",
      "      break\n",
      "\n",
      "   if operator == '+' :\n",
      "      result += value\n",
      "\n",
      "   if operator == '-' :\n",
      "      result -= value\n",
      "\n",
      "   if operator == '*' :\n",
      "      result *= value\n",
      "\n",
      "   if operator == '/' :\n",
      "      if value == 0 :\n",
      "         print ('Error: Divide by zero')\n",
      "         print ('operation ignored') \n",
      "      else :\n",
      "         result /= value\n",
      "\n",
      "   i = i + 1"
     ],
     "language": "python",
     "metadata": {},
     "outputs": [
      {
       "output_type": "stream",
       "stream": "stdout",
       "text": [
        "Result: 0\n",
        "Result: 5\n",
        "Result: 10\n"
       ]
      }
     ],
     "prompt_number": 4
    },
    {
     "cell_type": "heading",
     "level": 3,
     "metadata": {},
     "source": [
      "Example 7.3, Page number: 140"
     ]
    },
    {
     "cell_type": "code",
     "collapsed": false,
     "input": [
      "\n",
      "import sys\n",
      "import random\n",
      "while (1) :\n",
      "\n",
      "   # random number to be guessed\n",
      "   number_to_guess = random.randrange (1, 101, 1)\n",
      "\n",
      "   # current lower limit of player's range\n",
      "   low_limit = 0\n",
      "\n",
      "   # current upper limit of player's range\n",
      "   high_limit = 100\n",
      "   \n",
      "   # number of times player guessed\n",
      "   guess_count = 0\n",
      "\n",
      "   while (1) :\n",
      "      \n",
      "      # tell user what the bounds are and get his guess\n",
      "      print ('Bounds %d - %d\\n' % (low_limit, high_limit))\n",
      "      print ('Value[%d]?' % guess_count)\n",
      "      \n",
      "      guess_count += 1\n",
      "\n",
      "      # number gotten from the player\n",
      "      player_number = 50\n",
      "\n",
      "      # did he guess right?\n",
      "      if (player_number == number_to_guess) :\n",
      "         break\n",
      "\n",
      "      # adjust bounds for next guess\n",
      "      if (player_number < number_to_guess) :\n",
      "         low_limit = player_number\n",
      "    \n",
      "      else :\n",
      "         high_limit = player_number\n",
      "\n",
      "   print ('Bingo\\n')"
     ],
     "language": "python",
     "metadata": {},
     "outputs": []
    }
   ],
   "metadata": {}
  }
 ]
}