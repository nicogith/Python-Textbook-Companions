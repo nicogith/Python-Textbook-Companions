{
 "metadata": {
  "name": "",
  "signature": "sha256:184261c50791da479b656a01719125426370a323ab51da034b4dc57d574572c3"
 },
 "nbformat": 3,
 "nbformat_minor": 0,
 "worksheets": [
  {
   "cells": [
    {
     "cell_type": "heading",
     "level": 1,
     "metadata": {},
     "source": [
      "Chapter 12: Advanced types"
     ]
    },
    {
     "cell_type": "heading",
     "level": 3,
     "metadata": {},
     "source": [
      "Example 12.1, Page number: 212"
     ]
    },
    {
     "cell_type": "code",
     "collapsed": false,
     "input": [
      "\n",
      "\n",
      "# Union declaration\n",
      "from ctypes import *\n",
      "class value (Union) :\n",
      "   _fields_ = [(\"i_value\", c_int),\n",
      "               (\"f_value\", c_float)]\n",
      "\n",
      "# Calculation and result\n",
      "data = value (3, 5.0)\n",
      "print (data.i_value, data.f_value)"
     ],
     "language": "python",
     "metadata": {},
     "outputs": [
      {
       "output_type": "stream",
       "stream": "stdout",
       "text": [
        "(1084227584, 5.0)\n"
       ]
      }
     ],
     "prompt_number": 1
    }
   ],
   "metadata": {}
  }
 ]
}