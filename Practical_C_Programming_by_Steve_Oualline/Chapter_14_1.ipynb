{
 "metadata": {
  "name": "",
  "signature": "sha256:aaf3603d1f605477459dd54990dcc4c8c154c9c808805468e92c30fde9487343"
 },
 "nbformat": 3,
 "nbformat_minor": 0,
 "worksheets": [
  {
   "cells": [
    {
     "cell_type": "heading",
     "level": 3,
     "metadata": {},
     "source": [
      "Chapter 14: File input/output"
     ]
    },
    {
     "cell_type": "heading",
     "level": 3,
     "metadata": {},
     "source": [
      "Example 14.1, Page number: 253"
     ]
    },
    {
     "cell_type": "code",
     "collapsed": false,
     "input": [
      "\n",
      "# Variable declaration\n",
      "import os\n",
      "count = 0\n",
      "in_file = open ('input.txt', 'r')\n",
      " \n",
      "# Calculation and result\n",
      "if not os.path.exists ('input.txt') :\n",
      "   print ('Cannot open input.txt\\n')\n",
      "\n",
      "while (1) :\n",
      "   ch = in_file.read(1)\n",
      "   if not ch :\n",
      "      break\n",
      "   count += 1\n",
      "\n",
      "print ('Number of characters in input.txt is %d\\n' % count)\n",
      "\n",
      "in_file.close()"
     ],
     "language": "python",
     "metadata": {},
     "outputs": [
      {
       "output_type": "stream",
       "stream": "stdout",
       "text": [
        "Number of characters in input.txt is 0\n",
        "\n"
       ]
      }
     ],
     "prompt_number": 2
    },
    {
     "cell_type": "heading",
     "level": 3,
     "metadata": {},
     "source": [
      "Example 14.3, Page number: 257"
     ]
    },
    {
     "cell_type": "code",
     "collapsed": false,
     "input": [
      "\n",
      "\n",
      "# Variable declaration\n",
      "import sys\n",
      "import os\n",
      "in_file = open ('input.txt', 'r')\n",
      " \n",
      "# Calculation and result\n",
      "if not os.path.exists ('input.txt') :\n",
      "   print ('Could not open file\\n')\n",
      "   sys.exit(1)\n",
      "print ('File found\\n')\n",
      "\n",
      "in_file.close()"
     ],
     "language": "python",
     "metadata": {},
     "outputs": [
      {
       "output_type": "stream",
       "stream": "stdout",
       "text": [
        "File found\n",
        "\n"
       ]
      }
     ],
     "prompt_number": 5
    },
    {
     "cell_type": "heading",
     "level": 3,
     "metadata": {},
     "source": [
      "Example 14.4, Page number: 260"
     ]
    },
    {
     "cell_type": "code",
     "collapsed": false,
     "input": [
      "\n",
      "# Variable declaration\n",
      "import sys\n",
      "import os\n",
      "out_file = open ('test.out', 'w')\n",
      " \n",
      "# Calculation and result\n",
      "if not os.path.exists ('test.out') :\n",
      "   print ('Cannot open output file\\n')\n",
      "   sys.exit(1)\n",
      "\n",
      "for cur_char in range (0, 128) :\n",
      "   out_file.write(str (cur_char))\n",
      "   out_file.write('\\n')\n",
      "\n",
      "out_file.close()"
     ],
     "language": "python",
     "metadata": {},
     "outputs": [],
     "prompt_number": 3
    },
    {
     "cell_type": "heading",
     "level": 3,
     "metadata": {},
     "source": [
      "Example 14.5, Page number: 267"
     ]
    },
    {
     "cell_type": "code",
     "collapsed": false,
     "input": [
      "\n",
      "\n",
      "# Variable declaration\n",
      "txt_file = open ('input.txt')\n",
      "\n",
      "source_content = txt_file.read()\n",
      "\n",
      "target = open ('output.txt', 'w')\n",
      "\n",
      "# Calculation and result\n",
      "target.write(source_content)\n",
      "print ('Content copied')\n",
      "\n",
      "target.close()"
     ],
     "language": "python",
     "metadata": {},
     "outputs": []
    }
   ],
   "metadata": {}
  }
 ]
}