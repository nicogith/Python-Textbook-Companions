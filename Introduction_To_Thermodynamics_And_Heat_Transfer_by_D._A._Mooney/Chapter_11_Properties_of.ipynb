{
 "cells": [
  {
   "cell_type": "markdown",
   "metadata": {
    "collapsed": true
   },
   "source": [
    "# Chapter 11: Properties of Gases"
   ]
  },
  {
   "cell_type": "markdown",
   "metadata": {
    "collapsed": true
   },
   "source": [
    "## Exa 11.1"
   ]
  },
  {
   "cell_type": "code",
   "execution_count": null,
   "metadata": {
    "collapsed": false
   },
   "outputs": [
    {
     "name": "stdout",
     "output_type": "stream",
     "text": [
      "Volume of the apparatus (cu ft) =  60.64\n"
     ]
    }
   ],
   "source": [
    "#A certain piece of apparatus of constant volume is filled with nitrogen \n",
    "#at 15 psia, 80 F. from a nitrogen bottle on a weighing scale exactly 3 lb \n",
    "#of nitrogen is added to the apparatus. The final pressure and temperature \n",
    "#are 25 psia, 75 F. Find the volume of the apparatus.\n",
    "import math\n",
    "#initialisation of variables\n",
    "P= 15. \t\t\t\t\t\t\t\t#psia\n",
    "T= 80. \t\t\t\t\t\t\t\t#F\n",
    "m= 3. \t\t\t\t\t\t\t\t#lb\n",
    "P1= 25.\t\t\t\t\t\t\t\t#psia\n",
    "T1= 75.\t\t\t\t\t\t\t\t#F\n",
    "#CALCULATIONS\n",
    "r= (P*(460+T1))/(P1*(T+460))\t\t#ratio\n",
    "m2= m/(1-r) \t\t\t\t\t\t#Mass 2\n",
    "V2= (m2*55.16*(460+T1))/(P1*144.) \t#Volume 2\n",
    "#RESULTS\n",
    "print '%s %.2f' %('Volume of the apparatus (cu ft) = ',V2)\n",
    "raw_input('press enter key to exit')"
   ]
  },
  {
   "cell_type": "markdown",
   "metadata": {
    "collapsed": true
   },
   "source": [
    "## Exa 11.2"
   ]
  },
  {
   "cell_type": "code",
   "execution_count": 1,
   "metadata": {
    "collapsed": false
   },
   "outputs": [
    {
     "name": "stdout",
     "output_type": "stream",
     "text": [
      "#Specific heat at constant pressure (Btu/lb R) =  0.217\n",
      " \n",
      "Specific heat at constant volume (Btu/lb R) =  0.155\n",
      " \n",
      "Specific heat at constant pressure 2 (Btu/lb R) =  0.235\n",
      " \n",
      "Specific heat at constant volume 2 (Btu/lb R) =  0.160\n",
      " \n",
      "Specific heat at constant pressure 3 (Btu/lb R) = 0.262\n",
      " \n",
      "Specific heat at constant volume 3 (Btu/lb R) =  0.200\n",
      "press enter key to exit\n"
     ]
    },
    {
     "data": {
      "text/plain": [
       "''"
      ]
     },
     "execution_count": 1,
     "metadata": {},
     "output_type": "execute_result"
    }
   ],
   "source": [
    "#Given that O2 has a gas constant of 48.3 and is a diatomic gas, compare its\n",
    "#actual Cp at 100, 500, 1500 F with the values computed from the simple KTG\n",
    "#initialisation of variables\n",
    "R= 48.3 \t\t\t\t\t#ft lb/lb R\n",
    "T= 100 \t\t\t\t\t\t#F\n",
    "T1= 500 \t\t\t\t\t#F\n",
    "T2= 1500 \t\t\t\t\t#F\n",
    "k= 1.4\n",
    "k1= 1.36\n",
    "k2= 1.31\n",
    "#CALCULATIONS\n",
    "dc= R/778. \t\t\t\t\t#Cp-Cv \n",
    "cp= (k/(k-1))*dc \t\t\t#Specific heat at constant pressure\n",
    "cv= cp/k \t\t\t\t\t#Specific heat at constant volume\n",
    "cp1= (k1/(k1-1))*dc \t\t#Specific heat at constant pressure 2\n",
    "cv1= cp/k1 \t\t\t\t\t#Specific heat at constant volume 2 \n",
    "cp2= (k2/(k2-1))*dc \t\t#Specific heat at constant pressure 3\n",
    "cv2= cp2/k2  \t\t\t\t#Specific heat at constant volume 3\n",
    "#RESULTS\n",
    "print '%s %.3f' %('#Specific heat at constant pressure (Btu/lb R) = ',cp)\n",
    "print '%s %.3f' %(' \\nSpecific heat at constant volume (Btu/lb R) = ',cv)\n",
    "print '%s %.3f' %(' \\nSpecific heat at constant pressure 2 (Btu/lb R) = ',cp1)\n",
    "print '%s %.3f' %(' \\nSpecific heat at constant volume 2 (Btu/lb R) = ',cv1)\n",
    "print '%s %.3f' %(' \\nSpecific heat at constant pressure 3 (Btu/lb R) =',cp2)\n",
    "print '%s %.3f' %(' \\nSpecific heat at constant volume 3 (Btu/lb R) = ',cv2)\n",
    "raw_input('press enter key to exit')"
   ]
  },
  {
   "cell_type": "markdown",
   "metadata": {
    "collapsed": true
   },
   "source": [
    "## Exa 11.4"
   ]
  },
  {
   "cell_type": "code",
   "execution_count": 2,
   "metadata": {
    "collapsed": false
   },
   "outputs": [
    {
     "name": "stdout",
     "output_type": "stream",
     "text": [
      "Enthalpy change (Btu/lb) =  -71.79\n",
      "press enter key to exit\n"
     ]
    },
    {
     "data": {
      "text/plain": [
       "''"
      ]
     },
     "execution_count": 2,
     "metadata": {},
     "output_type": "execute_result"
    }
   ],
   "source": [
    "#Nitrogen in a frictionless adiabatic process, expands from an initial state\n",
    "#of 100 psia, 140 F to a final pressure of 10 psia. How much does the enthalpy\n",
    "#change?\n",
    "import math\n",
    "#initialisation of variables\n",
    "P= 10. \t\t\t\t\t\t#psia\n",
    "P1= 100. \t\t\t\t\t#psia\n",
    "T= 140. \t\t\t\t\t#F\n",
    "k= 1.4\n",
    "R= 55.16 \t\t\t\t\t#ft lb/lb R\n",
    "#CALCULATIONS\n",
    "dh= (k*R*(T+460)/(k-1))*(math.pow((P/P1),((k-1)/k))-1)*(72./56000.)\n",
    "#RESULTS\n",
    "print '%s %.2f' %('Enthalpy change (Btu/lb) = ',dh)\n",
    "raw_input('press enter key to exit')"
   ]
  },
  {
   "cell_type": "markdown",
   "metadata": {
    "collapsed": true
   },
   "source": [
    "## Exa 11.5"
   ]
  },
  {
   "cell_type": "code",
   "execution_count": 3,
   "metadata": {
    "collapsed": false
   },
   "outputs": [
    {
     "name": "stdout",
     "output_type": "stream",
     "text": [
      "case 1\n",
      "\n",
      " change in volume = 23.66\n",
      "\n",
      " case 2\n",
      "\n",
      " change in volume (cu ft/lb) =  28.70\n",
      "At T1=2460 R, from table 1, case 3\n",
      "\n",
      " change in volume (cu ft/lb) =  28.79\n",
      "press enter key to exit\n"
     ]
    },
    {
     "data": {
      "text/plain": [
       "''"
      ]
     },
     "execution_count": 3,
     "metadata": {},
     "output_type": "execute_result"
    }
   ],
   "source": [
    "#Air initially at 100 psia, 2000 F, expands reversibly and adiabatically\n",
    "#to 15 psia. Find the change of enthalpy and of V by perfect gas laws, and\n",
    "#by variable specific heats using the gas tables\n",
    "import math\n",
    "#initialisation of variables\n",
    "P= 100 \t\t\t\t\t\t\t\t\t\t\t#psia\n",
    "P1= 15 \t\t\t\t\t\t\t\t\t\t\t#psia\n",
    "T= 2000 \t\t\t\t\t\t\t\t\t\t#F\n",
    "k= 1.4\n",
    "R= 53.34 \t\t\t\t\t\t\t\t\t\t#ft lb/lb R\n",
    "cp= 0.240 \t\t\t\t\t\t\t\t\t\t#Btu/lb R\n",
    "#CALCULATIONS\n",
    "v1= (R*(T+460)/(P*144))*math.pow((P/P1),(1/k))\t#Initial volume\n",
    "T1= (T+460)*(P1*v1/(P*(R*(T+460)/(P*144)))) \t#Initial temperature\n",
    "dh= cp*(T1-T) \t\t\t\t\t\t\t\t\t#Change in enthalpy\n",
    "dv= v1-(R*(T+460)/(P*144)) \t\t\t\t\t\t#Change in volume\n",
    "print('case 1')\n",
    "print '%s %.2f' %('\\n change in volume =', dv)\t\n",
    "print('\\n case 2')\n",
    "T2=1500 \t\t\t\t\t\t\t\t\t\t#F\n",
    "v2=R*(T+460)/(P*144)/0.241\t\t\t\t\t\t#Volume in case 2\n",
    "T2=(T2+460)*(P1*v2/(P*(R*(T2+460)/(P*144)))) \t#Temperature in case 2\n",
    "deltah=0.276*(T2-460-T) \t\t\t\t\t\t#Change in enthalpy\n",
    "dv2=v2-(R*(T+460)/(P*144)) \t\t\t\t\t\t#Change in volume\n",
    "print '%s %.2f' %('\\n change in volume (cu ft/lb) = ', dv2)\n",
    "print('At T1=2460 R, from table 1, case 3')\n",
    "h1=634.34\n",
    "pr1=407.3\n",
    "pr2=pr1*P1/P \t\t\t\t\t\t\t\t\t#pressure 2\n",
    "T2=1075 \t\t\t\t\t\t\t\t\t\t#F\n",
    "h2=378.44\n",
    "deltah=h2-h1 \t\t\t\t\t\t\t\t\t#Change in enthalpy\n",
    "v2=53.34*(T2+460)/(P1*144) \t\t\t\t\t\t#Final volume\n",
    "dv3=v2-(R*(T+460)/(P*144)) \t\t\t\t\t\t#Change in volume\n",
    "print '%s %.2f' %('\\n change in volume (cu ft/lb) = ',dv3)\n",
    "raw_input('press enter key to exit')"
   ]
  }
 ],
 "metadata": {
  "kernelspec": {
   "display_name": "Python 2",
   "language": "python",
   "name": "python2"
  },
  "language_info": {
   "codemirror_mode": {
    "name": "ipython",
    "version": 2
   },
   "file_extension": ".py",
   "mimetype": "text/x-python",
   "name": "python",
   "nbconvert_exporter": "python",
   "pygments_lexer": "ipython2",
   "version": "2.7.6"
  }
 },
 "nbformat": 4,
 "nbformat_minor": 0
}
