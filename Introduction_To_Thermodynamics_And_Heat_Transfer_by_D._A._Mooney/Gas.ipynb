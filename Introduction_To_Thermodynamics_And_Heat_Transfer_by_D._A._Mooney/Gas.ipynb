{
 "cells": [
  {
   "cell_type": "markdown",
   "metadata": {
    "collapsed": true
   },
   "source": [
    "# Chapter 15: Gas cycles"
   ]
  },
  {
   "cell_type": "markdown",
   "metadata": {
    "collapsed": true
   },
   "source": [
    "## Exa 15.1"
   ]
  },
  {
   "cell_type": "code",
   "execution_count": null,
   "metadata": {
    "collapsed": false
   },
   "outputs": [
    {
     "name": "stdout",
     "output_type": "stream",
     "text": [
      "Efficiency =  0.37\n",
      "Efficiency in case 2=  0.357\n"
     ]
    }
   ],
   "source": [
    "#Find the efficiency, and the work per pound of fluid circulated, for a \n",
    "#Baryton cycle working between pressures of 15 psia and 75 psia, if the \n",
    "#minimum temp. in the cycle is 550 R and the max. temp is 1700R?\n",
    "import math\n",
    "#initialisation of variables\n",
    "p= 15.\t\t\t\t\t\t\t\t\t#psia\n",
    "p1= 75.\t\t\t\t\t\t\t\t\t#psia\n",
    "T= 550. \t\t\t\t\t\t\t\t#R\n",
    "T1= 1700. \t\t\t\t\t\t\t\t#R\n",
    "k= 1.4\n",
    "#CALCULATIONS\n",
    "Ta= T*math.pow((p1/p),((k-1)/k))\t\t#Temperature at A\n",
    "Tc= T1/(math.pow((p1/p),((k-1)/k))) \t#Temperature at C\n",
    "cp= 0.24 \n",
    "Q1= cp*(T1-Ta) \t\t\t\t\t\t\t#Heat in 1\n",
    "Q2= cp*(Tc-T) \t\t\t\t\t\t\t#Heat in 2\n",
    "Wnet= Q1-Q2 \t\t\t\t\t\t\t#Work done\n",
    "n= Wnet/Q1 \t\t\t\t\t\t\t\t#efficiency\n",
    "hb= 422.59 \t\t\t\t\t\t\t\t#Btu/lb\n",
    "hc= 269.27 \t\t\t\t\t\t\t\t#Btu/lb\n",
    "ha= 208.41\t \t\t\t\t\t\t\t#Btu/lb\n",
    "hd= 131.46 \t\t\t\t\t\t\t\t#btu/lb\n",
    "Q1i= hb-ha\t\t\t\t\t\t\t\t#Heat in 1 case 2\n",
    "Q2i= hc-hd \t\t\t\t\t\t\t\t#Heat in 2 case 2\n",
    "Wnet1= Q1i-Q2i \t\t\t\t\t\t\t#work in case 2\n",
    "n1= Wnet1/Q1i \t\t\t\t\t\t\t#efficiency 2\n",
    "#RESULTS\n",
    "print '%s %.2f' %('Efficiency = ',n)\n",
    "print '%s %.3f' %( 'Efficiency in case 2= ',n1)\n",
    "raw_input('press enter key to exit')"
   ]
  },
  {
   "cell_type": "markdown",
   "metadata": {
    "collapsed": true
   },
   "source": [
    "## Exa 15.2"
   ]
  },
  {
   "cell_type": "code",
   "execution_count": 1,
   "metadata": {
    "collapsed": false
   },
   "outputs": [
    {
     "name": "stdout",
     "output_type": "stream",
     "text": [
      "Efficiency =  0.45\n",
      "press enter key to exit\n"
     ]
    },
    {
     "data": {
      "text/plain": [
       "''"
      ]
     },
     "execution_count": 1,
     "metadata": {},
     "output_type": "execute_result"
    }
   ],
   "source": [
    "#Repeat for example 1 for a cycle using a regenerator of 75% effectiveness\n",
    "#initialisation of variables\n",
    "import math\n",
    "p= 15. \t\t\t\t\t\t\t\t#psia\n",
    "p1= 75. \t\t\t\t\t\t\t#psia\n",
    "T= 550 \t\t\t\t\t\t\t\t#R\n",
    "T1= 1700 \t\t\t\t\t\t\t#R\n",
    "k= 1.4\n",
    "n= 75.\n",
    "cp= 0.24\n",
    "#CALCULATIONS\n",
    "Ta= T*math.pow((p1/p),((k-1)/k))\t#Temperature at A\n",
    "Tc= T1/(math.pow((p1/p),((k-1)/k)))\t#Temperature at C\n",
    "Ta1= (n/100.)*(Tc-Ta)+Ta \t\t\t#Temperature at A in case 2\n",
    "Tc1= Ta+Tc-Ta1 \t\t\t\t\t\t#Temperature at C in case 2\n",
    "Q1= cp*(T1-Ta1) \t\t\t\t\t#Heat in 1\n",
    "Q2= cp*(Tc1-T) \t\t\t\t\t\t#heat in 2\n",
    "Wnet= Q1-Q2 \t\t\t\t\t\t#Net work done\n",
    "n1= Wnet/Q1 \t\t\t\t\t\t#Efficiency\n",
    "#CALCULATIONS\n",
    "print '%s %.2f' %('Efficiency = ',n1)\n",
    "raw_input('press enter key to exit')"
   ]
  },
  {
   "cell_type": "markdown",
   "metadata": {
    "collapsed": true
   },
   "source": [
    "## Exa 15.3"
   ]
  },
  {
   "cell_type": "code",
   "execution_count": 2,
   "metadata": {
    "collapsed": false
   },
   "outputs": [
    {
     "name": "stdout",
     "output_type": "stream",
     "text": [
      "Efficiency =  0.181\n",
      " \n",
      " air rate  (lb air/hphr) =  52.04\n",
      " \n",
      " back work ratio =  1.87\n",
      "press enter key to exit\n"
     ]
    },
    {
     "data": {
      "text/plain": [
       "''"
      ]
     },
     "execution_count": 2,
     "metadata": {},
     "output_type": "execute_result"
    }
   ],
   "source": [
    "#Find the efficiency, air rate and back work ratio for a gas turbine plant\n",
    "#of the following description. T=60 F, p1=15. p2/p1=6; macchine efficiences\n",
    "#of compressor and turbine both 60%. LHV=18500. Turbine inlet temp=1450 F.\n",
    "#initialisation of variables\n",
    "h1= 124.27 \t\t\t#Btu/lb\n",
    "Pr1= 1.2147 \t\t#psia\n",
    "r= 6\n",
    "p4= 15. \t\t\t#psia\n",
    "p1= 15. \t\t\t#psia\n",
    "h2s= 197.5 \t\t\t#Btu/lb\n",
    "Wnet= 48.9 \t\t\t#Btu/lb air\n",
    "hs= 18500 \t\t\t#Btu/lb\n",
    "wfbywa= 0.0146 \t\t#lb fuel/lb sir\n",
    "W= 2545 \t\t\t#Btu/lb air\n",
    "dh=-91.5 \t\t\t#Btu/lb\n",
    "Wc= 91.5 \t\t\t#Btu/lb air\n",
    "#CALCULATIONS\n",
    "n= Wnet/(wfbywa*hs)\t#Efficiency\n",
    "n1= W/Wnet\t\t\t#Air rate\n",
    "n2= Wc/Wnet \t\t#Back work ratio\n",
    "#RESULTS\n",
    "print '%s %.3f' %('Efficiency = ',n)\n",
    "print '%s %.2f' %(' \\n air rate  (lb air/hphr) = ',n1)\n",
    "print '%s %.2f' %(' \\n back work ratio = ',n2)\n",
    "raw_input('press enter key to exit')"
   ]
  }
 ],
 "metadata": {
  "kernelspec": {
   "display_name": "Python 2",
   "language": "python",
   "name": "python2"
  },
  "language_info": {
   "codemirror_mode": {
    "name": "ipython",
    "version": 2
   },
   "file_extension": ".py",
   "mimetype": "text/x-python",
   "name": "python",
   "nbconvert_exporter": "python",
   "pygments_lexer": "ipython2",
   "version": "2.7.6"
  }
 },
 "nbformat": 4,
 "nbformat_minor": 0
}
