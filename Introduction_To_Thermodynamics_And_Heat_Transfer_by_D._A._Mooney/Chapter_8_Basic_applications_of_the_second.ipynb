{
 "cells": [
  {
   "cell_type": "markdown",
   "metadata": {
    "collapsed": true
   },
   "source": [
    "# Chapter 8: Basic applications of the second law"
   ]
  },
  {
   "cell_type": "markdown",
   "metadata": {
    "collapsed": true
   },
   "source": [
    "## Exa 8.1"
   ]
  },
  {
   "cell_type": "code",
   "execution_count": null,
   "metadata": {
    "collapsed": false
   },
   "outputs": [
    {
     "name": "stdout",
     "output_type": "stream",
     "text": [
      "Maximum thermal efficiency (percent) =  6.42\n"
     ]
    }
   ],
   "source": [
    "#It is proposed to obtain a power from the hot surface water of tropical seas\n",
    "#using the cold water from the depths as a sink for heat rejection. The surface\n",
    "#water is 85 F the deep water is at 50 F. In the light of the second law is such\n",
    "#scheme possible? If so, what is the max. thermal efficiency possible under law?\n",
    "#initialisation of variables\n",
    "T1= 85. \t\t\t\t\t#F\n",
    "T2= 50. \t\t\t\t\t#F\n",
    "#CALCULATIONS\n",
    "n= (T1-T2)/(T1+460)\t\t\t#Max. efficiency\n",
    "n1= n*100 \t\t\t\t\t#percentage\n",
    "#RESULTS\n",
    "print '%s %.2f' %('Maximum thermal efficiency (percent) = ',n1)\n",
    "raw_input('press enter key to exit')"
   ]
  },
  {
   "cell_type": "markdown",
   "metadata": {
    "collapsed": true
   },
   "source": [
    "## Exa 8.2"
   ]
  },
  {
   "cell_type": "code",
   "execution_count": 1,
   "metadata": {
    "collapsed": false
   },
   "outputs": [
    {
     "name": "stdout",
     "output_type": "stream",
     "text": [
      "Maximum thermal efficiency (percent) =  63.58\n",
      "press enter key to exit\n"
     ]
    },
    {
     "data": {
      "text/plain": [
       "''"
      ]
     },
     "execution_count": 1,
     "metadata": {},
     "output_type": "execute_result"
    }
   ],
   "source": [
    "#A proposed steam power plant will provide for supplying heat to steam at temp\n",
    "#upto 1050F. The temperature of heat rejection is about 90 F. It is stated that\n",
    "#the efficiency of the plant will approach 34%. Does this seem reasonable per law?\n",
    "#initialisation of variables\n",
    "T1= 1050. \t \t\t\t\t#F\n",
    "T2= 90. \t\t\t\t\t#F\n",
    "#CALCULATIONS\n",
    "n= (T1-T2)/(T1+460)\t\t\t#Efficiency\n",
    "n1= n*100 \t\t\t\t\t#Percentage\n",
    "#RESULTS\n",
    "print '%s %.2f' %('Maximum thermal efficiency (percent) = ',n1)\n",
    "raw_input('press enter key to exit')"
   ]
  },
  {
   "cell_type": "markdown",
   "metadata": {
    "collapsed": true
   },
   "source": [
    "## Exa 8.3"
   ]
  },
  {
   "cell_type": "code",
   "execution_count": 2,
   "metadata": {
    "collapsed": false
   },
   "outputs": [
    {
     "name": "stdout",
     "output_type": "stream",
     "text": [
      "Entropy change (Btu/Fabs) =  0.0430\n",
      "press enter key to exit\n"
     ]
    },
    {
     "data": {
      "text/plain": [
       "''"
      ]
     },
     "execution_count": 2,
     "metadata": {},
     "output_type": "execute_result"
    }
   ],
   "source": [
    "#How much does te entropy of a pound if air change when the air is heated \n",
    "#irreversibly from 1 atm pressure, 50 F to 1 atm, 150 F if the Cp=0.240?\n",
    "import math\n",
    "#initialisation of variables\n",
    "m= 1 \t\t\t\t\t\t\t\t\t\t\t#lb\n",
    "cp= 0.240 \t\t\t\t\t\t\t\t\t\t#btu/lb F\n",
    "T2= 150 \t\t\t\t\t\t\t\t\t\t#F\n",
    "T1= 50 \t\t\t\t\t\t\t\t\t\t\t#F\n",
    "#CALCULATIONS\n",
    "S= m*cp*(math.log(460.+T2)-math.log(460.+T1))\t#Entropy\n",
    "#RESULTS\n",
    "print '%s %.4f' %('Entropy change (Btu/Fabs) = ',S)\n",
    "raw_input('press enter key to exit')"
   ]
  },
  {
   "cell_type": "markdown",
   "metadata": {
    "collapsed": true
   },
   "source": [
    "## Exa 8.4"
   ]
  },
  {
   "cell_type": "code",
   "execution_count": 4,
   "metadata": {
    "collapsed": false
   },
   "outputs": [
    {
     "name": "stdout",
     "output_type": "stream",
     "text": [
      "Entropy change (Btu/Fabs) =  0.0430\n",
      "press enter key to exit\n"
     ]
    },
    {
     "data": {
      "text/plain": [
       "''"
      ]
     },
     "execution_count": 4,
     "metadata": {},
     "output_type": "execute_result"
    }
   ],
   "source": [
    "#If in the previous example, the process is adiabatic with work against friction\n",
    "#How much the entropy change during this process\n",
    "import math\n",
    "#initialisation of variables\n",
    "m= 1 \t\t\t\t\t\t\t\t\t\t\t#lb\n",
    "cp= 0.240 \t\t\t\t\t\t\t\t\t\t#btu/lb F\n",
    "T2= 150 \t\t\t\t\t\t\t\t\t\t#F\n",
    "T1= 50 \t\t\t\t\t\t\t\t\t\t\t#F\n",
    "#CALCULATIONS\n",
    "S= m*cp*(math.log(460.+T2)-math.log(460.+T1))\t#Entropy\n",
    "#RESULTS\n",
    "print '%s %.4f' %('Entropy change (Btu/Fabs) = ',S)\n",
    "#This result is same as the above since change in entropy does not depend on the process involved\n",
    "# but only on the initial and final states\n",
    "raw_input('press enter key to exit')"
   ]
  },
  {
   "cell_type": "markdown",
   "metadata": {
    "collapsed": true
   },
   "source": [
    "## Exa 8.5"
   ]
  },
  {
   "cell_type": "code",
   "execution_count": 3,
   "metadata": {
    "collapsed": false
   },
   "outputs": [
    {
     "name": "stdout",
     "output_type": "stream",
     "text": [
      "Total Entropy change (Btu/R) =  0.530\n",
      "press enter key to exit\n"
     ]
    },
    {
     "data": {
      "text/plain": [
       "''"
      ]
     },
     "execution_count": 3,
     "metadata": {},
     "output_type": "execute_result"
    }
   ],
   "source": [
    "#In a steam boiler, hot gases from a fire transfer heat to water which evaporates\n",
    "#at const. temp. In certain case the gases are cooled from 2000 F to 1000F while\n",
    "#the water evaportates to 400 F. the Cp=0.24 and L=826. No wastage. How much does\n",
    "#the entropy increase as a result of the irreversible heat transfer.?\n",
    "import math\n",
    "#initialisation of variables\n",
    "Q= 826 \t\t\t\t\t\t\t\t\t\t\t#Btu/lb\n",
    "T= 400.\t\t\t\t\t\t\t\t\t\t\t#F\n",
    "T1= 1000. \t\t\t\t\t\t\t\t\t\t#F\n",
    "T2= 2000. \t\t\t\t\t\t\t\t\t\t#F\n",
    "#CALCULATIONS\n",
    "Sw= Q/(T+460.)\t\t\t\t\t\t\t\t\t#Entropy change for water\n",
    "Sg= (Q/T1)*(math.log(T1+460)-math.log(T2+460))\t#Entropy change for gas\n",
    "S= Sw+Sg\t\t\t\t\t\t\t\t\t\t#Total entropy change\n",
    "#RESULTS\n",
    "print '%s %.3f' %('Total Entropy change (Btu/R) = ',S)\n",
    "raw_input('press enter key to exit')"
   ]
  },
  {
   "cell_type": "markdown",
   "metadata": {
    "collapsed": true
   },
   "source": [
    "## Exa 8.6"
   ]
  },
  {
   "cell_type": "code",
   "execution_count": 5,
   "metadata": {
    "collapsed": false
   },
   "outputs": [
    {
     "name": "stdout",
     "output_type": "stream",
     "text": [
      "Loss percent =  48\n",
      "press enter key to exit\n"
     ]
    },
    {
     "data": {
      "text/plain": [
       "''"
      ]
     },
     "execution_count": 5,
     "metadata": {},
     "output_type": "execute_result"
    }
   ],
   "source": [
    "#For the above example find the increase in unavailable energy due to the \n",
    "#irreversible heat transfer. Assume the temperature of the surroundings is 80 F?\n",
    "import math\n",
    "#initialisation of variables\n",
    "Q= 826.\t\t\t\t\t\t\t\t\t\t\t\t#Btu/lb\n",
    "T= 400.\t\t\t\t\t\t\t\t\t\t\t\t#F\n",
    "T1= 1000. \t\t\t\t\t\t\t\t\t\t\t#F\n",
    "T2= 2000. \t\t\t\t\t\t\t\t\t\t\t#F\n",
    "T3= 80.\t\t\t\t\t\t\t\t\t\t\t\t#F\n",
    "#CALCULATIONS\n",
    "Sw= Q/(T+460.)\t\t\t\t\t\t\t\t\t\t#Entropy change for water\n",
    "Sg= (Q/T1)*(math.log(T1+460)-math.log(T2+460))\t\t#Entropy change for gas\n",
    "S= Sw+Sg \t\t\t\t\t\t\t\t\t\t\t#Total entropy change\n",
    "Q1= (T3+460.)*S \t\t\t\t\t\t\t\t\t#Heat generated\n",
    "Q2= Q+(T3+460.)*Sg \t\t\t\t\t\t\t\t\t#Total heat\n",
    "n= Q1/Q2 \t\t\t\t\t\t\t\t\t\t\t#Efficiency\n",
    "n1= n*100 \t\t\t\t\t\t\t\t\t\t\t#Loss percent\n",
    "#RESULTS\n",
    "print '%s %d' %('Loss percent = ',n1)\n",
    "raw_input('press enter key to exit')"
   ]
  }
 ],
 "metadata": {
  "kernelspec": {
   "display_name": "Python 2",
   "language": "python",
   "name": "python2"
  },
  "language_info": {
   "codemirror_mode": {
    "name": "ipython",
    "version": 2
   },
   "file_extension": ".py",
   "mimetype": "text/x-python",
   "name": "python",
   "nbconvert_exporter": "python",
   "pygments_lexer": "ipython2",
   "version": "2.7.6"
  }
 },
 "nbformat": 4,
 "nbformat_minor": 0
}
