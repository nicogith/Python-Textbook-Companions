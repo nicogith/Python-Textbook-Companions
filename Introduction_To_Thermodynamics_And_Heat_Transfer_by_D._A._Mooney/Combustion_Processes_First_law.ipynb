{
 "cells": [
  {
   "cell_type": "markdown",
   "metadata": {
    "collapsed": true
   },
   "source": [
    "# Chapter 14: Combustion Processes First law analysis"
   ]
  },
  {
   "cell_type": "markdown",
   "metadata": {
    "collapsed": true
   },
   "source": [
    "## Exa 14.1"
   ]
  },
  {
   "cell_type": "code",
   "execution_count": 1,
   "metadata": {
    "collapsed": false
   },
   "outputs": [
    {
     "name": "stdout",
     "output_type": "stream",
     "text": [
      "Theoretical air for combustion (lb air per lb C8H18) =  15.06\n",
      "press enter key to exit\n"
     ]
    },
    {
     "data": {
      "text/plain": [
       "''"
      ]
     },
     "execution_count": 1,
     "metadata": {},
     "output_type": "execute_result"
    }
   ],
   "source": [
    "#Find the theoretical air for combustion of octane to CO2 and H2O\n",
    "#initialisation of variables\n",
    "M= 114 \t\t\t\t\t\t\t\t#lb\n",
    "Mo= 32 \t\t\t\t\t\t\t\t#lb\n",
    "Mn= 28 \t\t\t\t\t\t\t\t#lb\n",
    "Mc= 44 \t\t\t\t\t\t\t\t#lb\n",
    "Mw= 18 \t\t\t\t\t\t\t\t#lb\n",
    "#CALCULATIONS\n",
    "Ma= (12.5*Mo+(12.5)*(79./21.)*Mn)/114. #theoretical air\n",
    "#RESULTS\n",
    "print '%s %.2f' %('Theoretical air for combustion (lb air per lb C8H18) = ',Ma)\n",
    "raw_input('press enter key to exit')"
   ]
  },
  {
   "cell_type": "markdown",
   "metadata": {
    "collapsed": true
   },
   "source": [
    "## Exa 14.4"
   ]
  },
  {
   "cell_type": "code",
   "execution_count": 3,
   "metadata": {
    "collapsed": false
   },
   "outputs": [
    {
     "name": "stdout",
     "output_type": "stream",
     "text": [
      "Part b\n",
      "\n",
      " From steam tables\n",
      "\n",
      " Partial pressure of water (psia) =  1.78\n",
      "\n",
      " Dew point at the pressure (F) =  121.60\n",
      "\n",
      " Part c\n",
      "\n",
      " Partial pressure of water (psia) =  0.95\n",
      "\n",
      " The liquid water formed per pound of the fuel is (lb)  0.55\n"
     ]
    }
   ],
   "source": [
    "#Fuel oil containing 86 percent of carbon and 14 percent hydrogen by mass is to\n",
    "#be burned with 10% excess air. (b) If the pressure is 15 psia. What is the dew\n",
    "# point of the products? (c)If the products are cooled to 100 F at 15 psia how\n",
    "#much liquid water will condense per pound of fuel burned?\n",
    "#Initialization of variables\n",
    "MW=18. \t\t\t\t#gm/mol\n",
    "MCO2=44. \t\t\t#gm/mol\n",
    "MN2=28. \t\t\t#gm/mol\n",
    "MO2=32. \t\t\t#gm/mol\n",
    "P=15. \t\t\t\t#psia\n",
    "#calculations\n",
    "xw=(0.074/MW)/(0.184/MCO2 + 0.074/MW + 0.02/MO2 + 0.722/MN2)\n",
    "Pw=xw*P\n",
    "print '%s' %(\"Part b\")\n",
    "print '%s' %(\"\\n From steam tables\")\n",
    "T=121.6 \t\t\t#F\n",
    "print '%s %.2f' %('\\n Partial pressure of water (psia) = ',Pw)\n",
    "print '%s %.2f' %('\\n Dew point at the pressure (F) = ',T)\n",
    "print '%s' %(\"\\n Part c\")\n",
    "pw2=0.9492 \t\t\t#Pressure\n",
    "xw2=pw2/P\n",
    "y = MW*(0.0346*xw2/(1-xw2))\n",
    "diff=0.074-y\n",
    "lb=17.15 \t\t\t#lb/ lbm of products\n",
    "w=lb*diff\n",
    "print '%s %.2f' %('\\n Partial pressure of water (psia) = ',pw2)\n",
    "print '%s %.2f' %('\\n The liquid water formed per pound of the fuel is (lb) ',w)\n"
   ]
  },
  {
   "cell_type": "markdown",
   "metadata": {
    "collapsed": true
   },
   "source": [
    "## Exa 14.5"
   ]
  },
  {
   "cell_type": "code",
   "execution_count": null,
   "metadata": {
    "collapsed": false
   },
   "outputs": [
    {
     "name": "stdout",
     "output_type": "stream",
     "text": [
      "Heat Transfer from the system (Btu) = -13513.78\n"
     ]
    }
   ],
   "source": [
    "#The internal energy of reaction for burning carbon to CO2 at 68F is  -14087 . \n",
    "#Find the heat trasnferred when a system composed of 1 lb of C and 4 lb of O2\n",
    "#at 300 C burns at constant volume at a final temp of 1000 F . Cp=0.17\n",
    "#initialisation of variables\n",
    "mO2=1.33 \t\t\t\t\t\t\t\t\t\t#lb\n",
    "mCO2=3.67 \t\t\t\t\t\t\t\t\t\t#lb\n",
    "CvO2=0.155 \t\t\t\t\t\t\t\t\t\t#Btu/lb F\n",
    "CvCO2=0.165 \t\t\t\t\t\t\t\t\t#Btu/lb F\n",
    "Cc=0.170 \t\t\t\t\t\t\t\t\t\t#Btu/lb F\n",
    "t2=1000. \t\t\t\t\t\t\t\t\t\t#F\n",
    "tB=68. \t\t\t\t\t\t\t\t\t\t\t#F\n",
    "t=300. \t\t\t\t\t\t\t\t\t\t\t#F\n",
    "mC=1\n",
    "mO=4\n",
    "#Calculations\n",
    "deltaE1=mO2*CvO2*(t2-tB) + mCO2*CvCO2*(t2-tB)\t#Energy change\n",
    "deltaE2=mC*Cc*(tB-t) + mO*CvO2*(tB-t) \t\t\t#Energy change\n",
    "E= -14087 \t\t\t\t\t\t\t\t\t\t#Btu \n",
    "Q=deltaE1+E+deltaE2\t\t\t\t\t\t\t\t#Heat transfer\n",
    "#Results\n",
    "print '%s %.2f' %('Heat Transfer from the system (Btu) =',Q)\n",
    "raw_input('press enter key to exit')"
   ]
  },
  {
   "cell_type": "markdown",
   "metadata": {
    "collapsed": true
   },
   "source": [
    "## Exa 14.6"
   ]
  },
  {
   "cell_type": "code",
   "execution_count": 1,
   "metadata": {
    "collapsed": false
   },
   "outputs": [
    {
     "name": "stdout",
     "output_type": "stream",
     "text": [
      "Constant pressure heating value (Btu/lb formula wt) =  -242211.42\n",
      "press enter key to exit\n"
     ]
    },
    {
     "data": {
      "text/plain": [
       "''"
      ]
     },
     "execution_count": 1,
     "metadata": {},
     "output_type": "execute_result"
    }
   ],
   "source": [
    "#Given the reaction for burning of CO and the Cp=4344. Find the Cv?\n",
    "#initialisation of variables\n",
    "HV=4344 \t\t\t#Btu/lb\n",
    "m=56 \t\t\t\t#lb\n",
    "R=1.986 \t\t\t#Btu/lb mol R\n",
    "Tb=530 \t\t\t\t#R\n",
    "#Calculations\n",
    "HR=m*HV \t\t\t#Heat of reaction\n",
    "Eb=-HR-R*Tb*(2-3) \t#Heatin value\n",
    "print '%s %.2f' %('Constant pressure heating value (Btu/lb formula wt) = ',Eb)\n",
    "raw_input('press enter key to exit')"
   ]
  },
  {
   "cell_type": "markdown",
   "metadata": {
    "collapsed": true
   },
   "source": [
    "## Exa 14.7"
   ]
  },
  {
   "cell_type": "code",
   "execution_count": 2,
   "metadata": {
    "collapsed": false
   },
   "outputs": [
    {
     "name": "stdout",
     "output_type": "stream",
     "text": [
      "In case 1,Final temp (F) =  4940.02\n",
      "\n",
      " In case 2, Final temp (F) =  3986.47\n",
      "press enter key to exit\n"
     ]
    },
    {
     "data": {
      "text/plain": [
       "''"
      ]
     },
     "execution_count": 2,
     "metadata": {},
     "output_type": "execute_result"
    }
   ],
   "source": [
    "#Assume carbon burns with air in a steady flow process. If theoretical air\n",
    "#is used, calculate the products temp. for adiabatic combustion, assuming\n",
    "#the products have constant sp. heats of room temp. magnitude\n",
    "#initialisation of variables\n",
    "mC=1 \t\t\t\t\t\t\t\t\t#lb\n",
    "mO2=2.67\t\t\t\t \t\t\t\t#lb\n",
    "mN2=8.78 \t\t\t\t\t\t\t\t#lb\n",
    "mCO2=3.67 \t\t\t\t\t\t\t\t#lb\n",
    "mN2=8.78 \t\t\t\t\t\t\t\t#lb\n",
    "tB=77\t\t \t\t\t\t\t\t\t#F\n",
    "deltaH=14087 \t\t\t\t\t\t\t#Btu/lb\n",
    "CpCO2=0.196 \t\t\t\t\t\t\t#Btu/lb F\n",
    "CpCO2f=0.3 \t\t\t\t\t\t\t\t#Btu/lb F\n",
    "CpN2=0.248 \t\t\t\t\t\t\t\t#Btu/lb F\n",
    "CpN2f=0.285 \t\t\t\t\t\t\t#Btu/lb F\n",
    "#Calculations\n",
    "t2= tB+ deltaH/(mCO2*CpCO2 + mN2*CpN2)\t#Final temp in case 1\n",
    "t2f=tB+ deltaH/(mCO2*CpCO2f + mN2*CpN2f) #Final temp in case 2\n",
    "#Results\n",
    "print '%s %.2f' %('In case 1,Final temp (F) = ',t2)\n",
    "print '%s %.2f' %('\\n In case 2, Final temp (F) = ',t2f)\n",
    "raw_input('press enter key to exit')"
   ]
  },
  {
   "cell_type": "markdown",
   "metadata": {
    "collapsed": true
   },
   "source": [
    "## Exa 14.8"
   ]
  },
  {
   "cell_type": "code",
   "execution_count": 3,
   "metadata": {
    "collapsed": false
   },
   "outputs": [
    {
     "name": "stdout",
     "output_type": "stream",
     "text": [
      "Efficiency =  0.914\n",
      "press enter key to exit\n"
     ]
    },
    {
     "data": {
      "text/plain": [
       "''"
      ]
     },
     "execution_count": 3,
     "metadata": {},
     "output_type": "execute_result"
    }
   ],
   "source": [
    "#Suppose 1 pound of carbon burns at Cp so that 0.9 goes into CO2, 0.05lb goes \n",
    "#into CO and 0.05 emerges as unburned carbon; find the efficiency of the \n",
    "#combustion process\n",
    "#initialisation of variables\n",
    "HR=14087 \t\t#Btu\n",
    "HRC=3952 \t\t#Btu\n",
    "x1=0.9\n",
    "x2=0.05\n",
    "#Calculations\n",
    "HR1=x1*HR \t\t#Heat of reaction\n",
    "HR2=x2*HRC  \t#Heat of reaction\n",
    "e=(HR2+HR1)/HR \t#Efficiency\n",
    "#Results\n",
    "print '%s %.3f' %('Efficiency = ',e)\n",
    "raw_input('press enter key to exit')"
   ]
  },
  {
   "cell_type": "markdown",
   "metadata": {
    "collapsed": true
   },
   "source": [
    "## Exa 14.9"
   ]
  },
  {
   "cell_type": "code",
   "execution_count": 4,
   "metadata": {
    "collapsed": false
   },
   "outputs": [
    {
     "name": "stdout",
     "output_type": "stream",
     "text": [
      "efficiency =  0.75\n"
     ]
    }
   ],
   "source": [
    "#A steam generator produces 10000 lb/hr of steam at 150 psia, saturated vapor. \n",
    "#In addition, there is drawn off from the boiler 500 lb/hr of saturated liquid\n",
    "# at 150 psia as \"blow down\" The feed water is supplied to the boiler at 210 F.\n",
    "#Oil fuel having a hv of 19500 is burned in the furnace at the rate of 700 lb/hr.\n",
    "#Find the efficiency of the steam generator, as defined above.\n",
    "#initialisation of variables\n",
    "hvi=19500. \t\t\t\t\t#Btu/hr\n",
    "Q=10240000.\t\t\t\t\t#Btu/hr\n",
    "rate=700.\t\t\t\t\t#lb/hr\n",
    "#calculations\n",
    "Hv=rate*hvi\n",
    "efficiency=Q/Hv\n",
    "#results\n",
    "print '%s %.2f' %('efficiency = ',efficiency)"
   ]
  }
 ],
 "metadata": {
  "kernelspec": {
   "display_name": "Python 2",
   "language": "python",
   "name": "python2"
  },
  "language_info": {
   "codemirror_mode": {
    "name": "ipython",
    "version": 2
   },
   "file_extension": ".py",
   "mimetype": "text/x-python",
   "name": "python",
   "nbconvert_exporter": "python",
   "pygments_lexer": "ipython2",
   "version": "2.7.6"
  }
 },
 "nbformat": 4,
 "nbformat_minor": 0
}
