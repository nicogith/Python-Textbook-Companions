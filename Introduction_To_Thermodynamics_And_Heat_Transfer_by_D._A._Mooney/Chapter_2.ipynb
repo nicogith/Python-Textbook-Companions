{
 "cells": [
  {
   "cell_type": "markdown",
   "metadata": {
    "collapsed": true
   },
   "source": [
    "# Chapter 2: Work"
   ]
  },
  {
   "cell_type": "markdown",
   "metadata": {
    "collapsed": true
   },
   "source": [
    "## Exa 2.1"
   ]
  },
  {
   "cell_type": "code",
   "execution_count": null,
   "metadata": {
    "collapsed": false
   },
   "outputs": [
    {
     "name": "stdout",
     "output_type": "stream",
     "text": [
      "P dV work for this process (ft lb) =  39810.42\n"
     ]
    }
   ],
   "source": [
    "#A stationary fluid system is subjected to a process in which the pressure and\n",
    "#volume change according to the relation pv^1.4=C. The initial pressure and \n",
    "#volume are respectively 100 psia and 3 cu ft, the final pressure is 20 psia\n",
    "#Find the magnitude and direction of pdv work for this process\n",
    "import math\n",
    "#initialisation of variables\n",
    "P= 100. \t\t\t\t\t\t#psia\n",
    "V= 3. \t\t\t\t\t\t\t#cu ft\n",
    "P1= 20. \t\t\t\t\t\t#psia\n",
    "n= 1.4\n",
    "#CALCULATIONS\n",
    "V1= V*math.pow((P/P1),(1/n))\t#Final volume\n",
    "W= (P1*V1*144-P*V*144)/(1-n) \t#work done\n",
    "#144 is the conversion factor to convert in^2 to ft^2\n",
    "#RESULTS\n",
    "print '%s %.2f' %('P dV work for this process (ft lb) = ',W)\n",
    "raw_input('press enter key to exit')"
   ]
  },
  {
   "cell_type": "markdown",
   "metadata": {
    "collapsed": true
   },
   "source": [
    "## Exa 2.2"
   ]
  },
  {
   "cell_type": "code",
   "execution_count": null,
   "metadata": {
    "collapsed": false
   },
   "outputs": [
    {
     "name": "stdout",
     "output_type": "stream",
     "text": [
      "Total system work during the 1 minute period (ft lb) =  -13012.80\n"
     ]
    }
   ],
   "source": [
    "#In a stationary fluid system, a paddle wheel supplies work at the rate of\n",
    "#1 hp. During a certain period of 1 min, the system expands in volume from \n",
    "#1 cu.f t to 3 cu. ft. while the pressure remains constant at 69.4 psia.\n",
    "#Find the total system work during the 1 min period.\n",
    "#initialisation of variables\n",
    "W= 1 \t\t\t\t\t\t#hp\n",
    "P= 69.4 \t\t\t\t\t#psia\n",
    "V2= 3 \t\t\t\t\t\t#cu\n",
    "V1= 1 \t\t\t\t\t\t#cu\n",
    "#CALCULATIONS\n",
    "Wb=  -W*33000 \t\t\t\t#Paddle wheel work\n",
    "Wa= P*(V2-V1)*144 \t\t\t#Piston work\n",
    "Q= Wa+Wb \t\t\t\t\t#Total work\n",
    "#RESULTS\n",
    "print '%s %.2f' %('Total system work during the 1 minute period (ft lb) = ',Q)\n",
    "raw_input('press enter key to exit')"
   ]
  },
  {
   "cell_type": "markdown",
   "metadata": {
    "collapsed": true
   },
   "source": [
    "## Exa 2.3"
   ]
  },
  {
   "cell_type": "code",
   "execution_count": null,
   "metadata": {
    "collapsed": false
   },
   "outputs": [
    {
     "name": "stdout",
     "output_type": "stream",
     "text": [
      "Net work done by the fluid in the cylinder (ft lb) =  6335.55\n"
     ]
    }
   ],
   "source": [
    "#An engine has gone bore and stroke of 11 by 15 in. An indicator diagram \n",
    "#taken from this engine has an area of 1.60 sq. in. and the length of 2.4 in.\n",
    "#The k=80 psi per in. How much net work has been done by the fluid in the \n",
    "#cylinder upon the engine piston during the engine cycle represented by\n",
    "#the diagram.?\n",
    "import math\n",
    "#initialisation of variables\n",
    "r= 11. \t\t\t\t\t#in\n",
    "l= 15. \t\t\t\t\t#in\n",
    "A= 1.6 \t\t\t\t\t#in\n",
    "l1= 2.4 \t\t\t\t#in\n",
    "\n",
    "#CALCULATIONS\n",
    "a= math.pi*r*r/4. \t\t#Piston area \t\t\n",
    "L= l/12.\n",
    "Pm= (A/l1)*80 \t\t\t#Mean effective pressure\n",
    "W= a*L*Pm \t\t\t\t#Net work\n",
    "#RESULTS\n",
    "print '%s %.2f' %('Net work done by the fluid in the cylinder (ft lb) = ',W)\n",
    "raw_input('press enter key to exit')"
   ]
  }
 ],
 "metadata": {
  "kernelspec": {
   "display_name": "Python 2",
   "language": "python",
   "name": "python2"
  },
  "language_info": {
   "codemirror_mode": {
    "name": "ipython",
    "version": 2
   },
   "file_extension": ".py",
   "mimetype": "text/x-python",
   "name": "python",
   "nbconvert_exporter": "python",
   "pygments_lexer": "ipython2",
   "version": "2.7.6"
  }
 },
 "nbformat": 4,
 "nbformat_minor": 0
}
