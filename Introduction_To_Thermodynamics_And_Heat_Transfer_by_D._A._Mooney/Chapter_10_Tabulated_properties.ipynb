{
 "cells": [
  {
   "cell_type": "markdown",
   "metadata": {
    "collapsed": true
   },
   "source": [
    "# Chapter 10: Tabulated properties Steam Tables"
   ]
  },
  {
   "cell_type": "markdown",
   "metadata": {
    "collapsed": true
   },
   "source": [
    "## Exa 10.1"
   ]
  },
  {
   "cell_type": "code",
   "execution_count": 1,
   "metadata": {
    "collapsed": false
   },
   "outputs": [
    {
     "name": "stdout",
     "output_type": "stream",
     "text": [
      "Heat of vaporisation (Btu/lb) =  889.11\n",
      "press enter key to exit\n"
     ]
    },
    {
     "data": {
      "text/plain": [
       "''"
      ]
     },
     "execution_count": 1,
     "metadata": {},
     "output_type": "execute_result"
    }
   ],
   "source": [
    "#What is the heat of vaporization of water at 100 psia?\n",
    "#initialisation of variables\n",
    "p= 100\t\t\t\t\t\t\t\t\t#psia\n",
    "vg= 4.432 \t\t\t\t\t\t\t\t#cu ft/lb\n",
    "vf= 0.01744 \t\t\t\t\t\t\t#cu ft/lb\n",
    "T= 327.8 \t\t\t\t\t\t\t\t#F\n",
    "sfg= 1.1286 \t\t\t\t\t\t\t#Bu/lb R\n",
    "#CALCULATIONS\n",
    "Q=(T+460)*sfg\t\t\t\t\t\t\t#Heat of vaporisation\n",
    "#RESULTS\n",
    "print '%s %.2f' %('Heat of vaporisation (Btu/lb) = ',Q)\n",
    "raw_input('press enter key to exit')"
   ]
  },
  {
   "cell_type": "markdown",
   "metadata": {
    "collapsed": true
   },
   "source": [
    "## Exa 10.2"
   ]
  },
  {
   "cell_type": "code",
   "execution_count": null,
   "metadata": {
    "collapsed": false
   },
   "outputs": [
    {
     "name": "stdout",
     "output_type": "stream",
     "text": [
      "All the values are obtained from the steam tables\n",
      "Pressure (Psia) =  70.00\n",
      " \n",
      " Temperature (F) =  302.92\n",
      " \n",
      " Enthalpy (Btu/lb) =  1180.60\n"
     ]
    }
   ],
   "source": [
    "#Saturated Steam has entropy of 1.6315 Btu/lb R; What are its pressure,\n",
    "#temperature and enthalpy?\n",
    "#initialisation of variables\n",
    "S= 1.6315 \t\t\t\t\t\t#Btu/lb R\n",
    "#CALCULATIONS\n",
    "print '%s' %('All the values are obtained from the steam tables')\n",
    "P= 70 \t\t\t\t\t\t\t#psia\n",
    "t= 302.92 \t\t\t\t\t\t#F\n",
    "h= 1180.6 \t\t\t\t\t\t#Btu/lb\n",
    "#RESULTS\n",
    "print '%s %.2f' %('Pressure (Psia) = ',P)\n",
    "print '%s %.2f' % (' \\n Temperature (F) = ',t)\n",
    "print '%s %.2f' % (' \\n Enthalpy (Btu/lb) = ',h)\n",
    "raw_input('press enter key to exit')"
   ]
  },
  {
   "cell_type": "markdown",
   "metadata": {
    "collapsed": true
   },
   "source": [
    "## Exa 10.3"
   ]
  },
  {
   "cell_type": "code",
   "execution_count": 2,
   "metadata": {
    "collapsed": false
   },
   "outputs": [
    {
     "name": "stdout",
     "output_type": "stream",
     "text": [
      "Internal energy (Btu/lb) =  1087.70\n",
      "press enter key to exit\n"
     ]
    },
    {
     "data": {
      "text/plain": [
       "''"
      ]
     },
     "execution_count": 2,
     "metadata": {},
     "output_type": "execute_result"
    }
   ],
   "source": [
    "#What is the internal energy of saturated water vapor at 250F?\n",
    "#initialisation of variables\n",
    "T= 250 \t\t\t\t\t\t#F\n",
    "hg= 1164.0 \t\t\t\t\t#Btu/lb\n",
    "P= 29.825 \t\t\t\t\t#Psia\n",
    "Vg= 13.821 \t\t\t\t\t#cu ft/lb\n",
    "#CALCULATIONS\n",
    "ug= hg-(P*Vg*144./778.)     #Internal energy\n",
    "#RESULTS\n",
    "print '%s %.2f' %('Internal energy (Btu/lb) = ',ug)\n",
    "raw_input('press enter key to exit')"
   ]
  },
  {
   "cell_type": "markdown",
   "metadata": {
    "collapsed": true
   },
   "source": [
    "## Exa 10.4"
   ]
  },
  {
   "cell_type": "code",
   "execution_count": 1,
   "metadata": {
    "collapsed": false
   },
   "outputs": [
    {
     "name": "stdout",
     "output_type": "stream",
     "text": [
      "Volume (cu ft/lb) =  2.67\n",
      " \n",
      " Entropy (Btu/lb R) =  1.15\n",
      " \n",
      " Enthalpy (Btu/lb) =  831.68\n",
      "press enter key to exit\n"
     ]
    },
    {
     "data": {
      "text/plain": [
       "''"
      ]
     },
     "execution_count": 1,
     "metadata": {},
     "output_type": "execute_result"
    }
   ],
   "source": [
    "#Find the properties of a mixture of steam and liquid water at 100 psia, containing 40 percent liquid.\n",
    "#initialisation of variables\n",
    "P= 100 \t\t\t\t\t\t\t#psia\n",
    "n= 40\n",
    "vf= 0.01774 \t\t\t\t\t#cu ft/lb\n",
    "vg= 4.432 \t\t\t\t\t\t#cu ft/lb\n",
    "hf= 298.4 \t\t\t\t\t\t#Btu/lb\n",
    "hfg= 888.8 \t\t\t\t\t\t#Btu/lb\n",
    "sg= 1.6026 \t\t\t\t\t\t#Btu/lb R\n",
    "sfg= 1.1286 \t\t\t\t\t#Btu/lb R\n",
    "#CALCULATIONS\n",
    "vx= (n/100.)*vf+(1-(n/100.))*vg \t#Volume of mixture\n",
    "hx= hf+(1-(n/100.))*hfg\t\t\t#Enthalpy of mixture\n",
    "sx= sg-(n/100.)*sfg\t\t\t\t#Entropy of mixture\n",
    "#RESULTS\n",
    "print '%s %.2f' %('Volume (cu ft/lb) = ',vx)\n",
    "print '%s %.2f' %(' \\n Entropy (Btu/lb R) = ',sx)\n",
    "print '%s %.2f' %(' \\n Enthalpy (Btu/lb) = ',hx)\n",
    "raw_input('press enter key to exit')"
   ]
  },
  {
   "cell_type": "markdown",
   "metadata": {
    "collapsed": true
   },
   "source": [
    "## Exa 10.5"
   ]
  },
  {
   "cell_type": "code",
   "execution_count": 6,
   "metadata": {
    "collapsed": false
   },
   "outputs": [
    {
     "name": "stdout",
     "output_type": "stream",
     "text": [
      "Enthalpy (Btu/lb) =  1160.54\n",
      " \n",
      " Precise Enthalpy (Btu/lb) =  1160.54\n",
      "press enter key to exit\n"
     ]
    },
    {
     "data": {
      "text/plain": [
       "''"
      ]
     },
     "execution_count": 6,
     "metadata": {},
     "output_type": "execute_result"
    }
   ],
   "source": [
    "#Find the enthalpy of wet steam, 0.97 quality, at 100 psia.\n",
    "#initialisation of variables\n",
    "P= 100 \t\t\t\t\t#psia\n",
    "n= 0.97\n",
    "hf= 298.4 \t\t\t\t#Btu/lb\n",
    "hfg= 888.8 \t\t\t\t#Btu/lb\n",
    "hg= 1187.2 \t\t\t\t#Btu/lb\n",
    "#CALCULATIONS\n",
    "hx= hf+n*hfg\t\t\t#Enthalpy\n",
    "hx1= hg-(1-n)*hfg\t\t#Precise Enthalpy\n",
    "#RESULTS\n",
    "print '%s %.2f' % ('Enthalpy (Btu/lb) = ',hx)\n",
    "print '%s %.2f' % (' \\n Precise Enthalpy (Btu/lb) = ',hx1)\n",
    "raw_input('press enter key to exit')"
   ]
  },
  {
   "cell_type": "markdown",
   "metadata": {
    "collapsed": true
   },
   "source": [
    "## Exa 10.6"
   ]
  },
  {
   "cell_type": "code",
   "execution_count": 5,
   "metadata": {
    "collapsed": false
   },
   "outputs": [
    {
     "name": "stdout",
     "output_type": "stream",
     "text": [
      "Volume (cu ft/lb) =  25.38\n",
      " \n",
      " Entropy (Btu/lb R) =  1.71\n",
      " \n",
      " Enthalpy (Btu/lb) =  1117.23\n",
      "press enter key to exit\n"
     ]
    },
    {
     "data": {
      "text/plain": [
       "''"
      ]
     },
     "execution_count": 5,
     "metadata": {},
     "output_type": "execute_result"
    }
   ],
   "source": [
    "#Water at 15 psia has entropy of 1.7050 Btu/lb R. Find its enthalpy and volume.\n",
    "#initialisation of variables\n",
    "P= 15 \t\t\t\t\t#psia\n",
    "S= 1.7050 \t\t\t\t#Btu/lb R\n",
    "sg= 1.7549 \t\t\t\t#btu/lb R\n",
    "sfg= 1.4415 \t\t\t#Bru/lb R\n",
    "hg= 1150.8 \t\t\t\t#btu/lb\n",
    "hfg= 969.7 \t\t\t\t#Btu/lb\n",
    "vg= 26.29 \t\t\t\t#cu ft/lb\n",
    "vfg= 26.27 \t\t\t\t#cu ft/lb\n",
    "#CALCULATIONS\n",
    "n= (sg-S)/sfg \t\t\t#moisture fraction\n",
    "sx= sg-n*sfg\t\t\t#Entropy\n",
    "hx= hg-n*hfg\t\t\t#Enthalpy\n",
    "vx= vg-n*vfg\t\t\t#Volume\n",
    "#RESULTS\n",
    "print '%s %.2f' % ('Volume (cu ft/lb) = ',vx)\n",
    "print '%s %.2f' % (' \\n Entropy (Btu/lb R) = ',sx)\n",
    "print '%s %.2f' % (' \\n Enthalpy (Btu/lb) = ',hx)\n",
    "raw_input('press enter key to exit')"
   ]
  },
  {
   "cell_type": "markdown",
   "metadata": {
    "collapsed": true
   },
   "source": [
    "## Exa 10.10"
   ]
  },
  {
   "cell_type": "code",
   "execution_count": 4,
   "metadata": {
    "collapsed": false
   },
   "outputs": [
    {
     "name": "stdout",
     "output_type": "stream",
     "text": [
      "All the values are obtained from the steam tables\n",
      "Volume (cu ft/lb) =  0.01608\n",
      " \n",
      " Enthalpy (Btu/lb) =  70.67\n",
      "press enter key to exit\n"
     ]
    },
    {
     "data": {
      "text/plain": [
       "''"
      ]
     },
     "execution_count": 4,
     "metadata": {},
     "output_type": "execute_result"
    }
   ],
   "source": [
    "#Find the volume and enthalpy of liquid water at 100 F and 1000 psia.\n",
    "#initialisation of variables\n",
    "T= 100 \t\t\t\t\t\t#F\n",
    "P= 1000 \t\t\t\t\t#psia\n",
    "dv= -5.1/100000. \t\t\t#cu ft/lb\n",
    "dh= 2.70 \t\t\t\t\t#Btu/lb\n",
    "vf= 0.01613 \t\t\t\t#cu ft/lb\n",
    "hf= 67.97 \t\t\t\t\t#Btu/lb\n",
    "#CALCULATIONS\n",
    "print '%s' %(\"All the values are obtained from the steam tables\")\n",
    "h= dh+hf\t\t\t\t\t#Enthalpy\n",
    "v= dv+vf\t\t\t\t\t#Volume\n",
    "#RESULTS\n",
    "print '%s %.5f' %('Volume (cu ft/lb) = ',v)\n",
    "print '%s %.2f' %(' \\n Enthalpy (Btu/lb) = ',h)\n",
    "raw_input('press enter key to exit')"
   ]
  },
  {
   "cell_type": "markdown",
   "metadata": {
    "collapsed": true
   },
   "source": [
    "## Exa 10.11"
   ]
  },
  {
   "cell_type": "code",
   "execution_count": 3,
   "metadata": {
    "collapsed": false
   },
   "outputs": [
    {
     "name": "stdout",
     "output_type": "stream",
     "text": [
      "quality=  0.982\n",
      "press enter key to exit\n"
     ]
    },
    {
     "data": {
      "text/plain": [
       "''"
      ]
     },
     "execution_count": 3,
     "metadata": {},
     "output_type": "execute_result"
    }
   ],
   "source": [
    "#A sample of steam at 200 psia flows to a throttling calorimeter in which the \n",
    "#pressure is 15 psia and the temperature 280 F. Find the quality of the sample. \n",
    "#At 15 psia and 280 F the enthalpy is found in table 3 to be 1183.2 btu/lb. \t\n",
    "#initialisation of variables\n",
    "h1= 1183.2 \t\t\t\t#Btu/lb\n",
    "hg= 1198.4 \t\t\t\t#Btu/lb\n",
    "hfg= 843.0 \t\t\t\t#Btu/lb\n",
    "#CALCULATIONS\n",
    "n= 1-((hg-h1)/hfg)\t\t#Quality\n",
    "#RESULTS\n",
    "print '%s %.3f' %('quality= ',n)\n",
    "raw_input('press enter key to exit')"
   ]
  }
 ],
 "metadata": {
  "kernelspec": {
   "display_name": "Python 2",
   "language": "python",
   "name": "python2"
  },
  "language_info": {
   "codemirror_mode": {
    "name": "ipython",
    "version": 2
   },
   "file_extension": ".py",
   "mimetype": "text/x-python",
   "name": "python",
   "nbconvert_exporter": "python",
   "pygments_lexer": "ipython2",
   "version": "2.7.6"
  }
 },
 "nbformat": 4,
 "nbformat_minor": 0
}
