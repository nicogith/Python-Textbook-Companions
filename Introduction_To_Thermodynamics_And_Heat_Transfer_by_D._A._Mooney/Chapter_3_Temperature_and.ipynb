{
 "cells": [
  {
   "cell_type": "markdown",
   "metadata": {
    "collapsed": true
   },
   "source": [
    "# Chapter 3: Temperature and Heat"
   ]
  },
  {
   "cell_type": "markdown",
   "metadata": {
    "collapsed": true
   },
   "source": [
    "## Exa 3.1"
   ]
  },
  {
   "cell_type": "code",
   "execution_count": null,
   "metadata": {
    "collapsed": false
   },
   "outputs": [
    {
     "name": "stdout",
     "output_type": "stream",
     "text": [
      "Pounds of water needed per pound of iron (lb water/lb iron) =  1.92\n"
     ]
    }
   ],
   "source": [
    "#It is desired to cool iron parts from 500 F to 100 F by dropping them into \n",
    "#water intially at 75 F . The specific heat of the iron is 0.120 and the \n",
    "#specific heat of water may be assumed to be 1. Assuming that all the heat from\n",
    "#the iron goes to the water and tat none of the water evaporates and that none\n",
    "#of the water are needed per pound of iron?\n",
    "#initialisation of variables\n",
    "T2w= 100. \t\t\t\t\t\t\t\t#F\n",
    "T1w= 75. \t\t\t\t\t\t\t\t#F\n",
    "cw= 1. \t\t\t\t\t\t\t\t\t#Btu/lb F\n",
    "T2i= 100. \t\t\t\t\t\t\t\t#F\n",
    "T1i= 500. \t\t\t\t\t\t\t\t#F\n",
    "ci= 0.12 \t\t\t\t\t\t\t\t#Btu/lb F\n",
    "mi= 1\n",
    "#CALCULATIONS\n",
    "Mw= -mi*ci*(T2i-T1i)/(cw*(T2w-T1w)) \t#Mass of water required\n",
    "#RESULTS\n",
    "print '%s %.2f' %('Pounds of water needed per pound of iron (lb water/lb iron) = ',Mw)\n",
    "raw_input('press enter key to exit')"
   ]
  },
  {
   "cell_type": "markdown",
   "metadata": {
    "collapsed": true
   },
   "source": [
    "## Exa 3.2"
   ]
  },
  {
   "cell_type": "code",
   "execution_count": 1,
   "metadata": {
    "collapsed": false
   },
   "outputs": [
    {
     "name": "stdout",
     "output_type": "stream",
     "text": [
      "Net heat transferred to the system (Btu) =  -1292.27\n",
      "press enter key to exit\n"
     ]
    },
    {
     "data": {
      "text/plain": [
       "''"
      ]
     },
     "execution_count": 1,
     "metadata": {},
     "output_type": "execute_result"
    }
   ],
   "source": [
    "#The specific heat of a certain gas is given by the function. How much heat is\n",
    "#transferred from a system consisting of 5 lb of this gas to cool it at \n",
    "#constant pressure from 1540 F to 540 F?\n",
    "#initialisation of variables\n",
    "import math\n",
    "import scipy\n",
    "from scipy import integrate\n",
    "m=5. \t\t\t\t\t\t\t\t\t#lb\n",
    "T1=1540. +460 \t\t\t\t\t\t\t#R\n",
    "T2=540+460.\t\t\t\t\t\t\t\t#R\n",
    "#CALCULATIONS\n",
    "def cp(T):\n",
    "    cp=0.248+0.448*T*T/math.pow(10,8)\n",
    "    return cp;\n",
    "\n",
    "Qdot=scipy.integrate.quad(cp,T1,T2)\t\t#Heat\n",
    "Q=m*Qdot[0]\n",
    "#Results\n",
    "print '%s %.2f' %('Net heat transferred to the system (Btu) = ',Q)\n",
    "raw_input('press enter key to exit')"
   ]
  },
  {
   "cell_type": "markdown",
   "metadata": {
    "collapsed": true
   },
   "source": [
    "## Exa 3.3"
   ]
  },
  {
   "cell_type": "code",
   "execution_count": 2,
   "metadata": {
    "collapsed": false
   },
   "outputs": [
    {
     "name": "stdout",
     "output_type": "stream",
     "text": [
      "Heat required (Btu) =  3057.95\n",
      "press enter key to exit\n"
     ]
    },
    {
     "data": {
      "text/plain": [
       "''"
      ]
     },
     "execution_count": 2,
     "metadata": {},
     "output_type": "execute_result"
    }
   ],
   "source": [
    "#Ten pounds of solid sulfur at 70 C are to be heated at constant pressre until \n",
    "#it is a vapor at 1 atm pressure. How much heat is required?\n",
    "#initialisation of variables\n",
    "m= 10 \t\t\t\t#lb\n",
    "cp= 0.180 \t\t\t#Btu/lb F\n",
    "cp1= 0.235 \t\t\t#Btu/lb F\n",
    "L= 15.8 \t\t\t#btu/lb\n",
    "L1= 120 \t\t\t#btu/lb\n",
    "T1= 70 \t\t\t\t#F\n",
    "T2= 235 \t\t\t#F\n",
    "T3= 832 \t\t\t#F\n",
    "#CALCULATIONS\n",
    "Qa= m*cp*(T2-T1)\t#Heat to raise solid temperature\n",
    "Qb= m*L \t\t\t#Heat to melt solid \n",
    "Qc= m*cp1*(T3-T2)\t#Heat to raise liquid temperature\n",
    "Qd= m*L1 \t\t\t#Heat to vaporize liquid\n",
    "Q= Qa+Qb+Qc+Qd \t\t#Total Heat\n",
    "#RESULTS\n",
    "print '%s %.2f' %('Heat required (Btu) = ',Q)\n",
    "raw_input('press enter key to exit')"
   ]
  },
  {
   "cell_type": "markdown",
   "metadata": {
    "collapsed": true
   },
   "source": [
    "## Exa 3.4"
   ]
  },
  {
   "cell_type": "code",
   "execution_count": 3,
   "metadata": {
    "collapsed": false
   },
   "outputs": [
    {
     "name": "stdout",
     "output_type": "stream",
     "text": [
      "Ice weight (lb of ice) =  7.68\n",
      " \n",
      " Additional ice required (lb of ice) =  0.177\n",
      "press enter key to exit\n"
     ]
    },
    {
     "data": {
      "text/plain": [
       "''"
      ]
     },
     "execution_count": 3,
     "metadata": {},
     "output_type": "execute_result"
    }
   ],
   "source": [
    "#A piece of ice having aan intital temperature of 22 F is dropped into an \n",
    "#insulated tank, which contains 40 lb of water at 70 F. If the temperature \n",
    "#of water, after equilibrium is reached, is 40F, how many pounds did the ice\n",
    "#weigh? Assume no heat transfer with other bodies hs occured?\n",
    "#initialisation of variables\n",
    "m= 40 \t\t\t\t#lb\n",
    "m1= 10 \t\t\t\t#lb\n",
    "cp= 1.00 \t\t\t#Btu/lb F\n",
    "cp1= 0.501 \t\t\t#Btu/lb F\n",
    "cp2= 0.092 \t\t\t#Btu/lb F\n",
    "L= 143.3 \t\t\t#btu/lb\n",
    "L1= 120 \t\t\t#btu/lb\n",
    "T1= 22 \t\t\t\t#F\n",
    "T2= 32 \t\t\t\t#F\n",
    "T3= 40 \t\t\t\t#F\n",
    "T4= 70 \t\t\t\t#F\n",
    "#CALCULATIONS\n",
    "Qa= cp1*(T2-T1)\t\t#Heat to raise solid temperature\n",
    "Qb= L \t\t\t\t#Heat to melt solid\n",
    "Qc= cp*(T3-T2) \t\t#Heat to raise liquid temperature\n",
    "Qd= m*cp*(T3-T4) \t#Heat required to lower water from 70 to 40F\n",
    "mi= -Qd/(Qa+Qb+Qc)\t#Mass\n",
    "Qe= m1*cp2*(T3-T4) \t#Heat in case 2 due to copper\n",
    "mi1= -Qe/(Qa+Qb+Qc) #Mass in case 2\n",
    "#RESULTS\n",
    "print '%s %.2f' %('Ice weight (lb of ice) = ',mi)\n",
    "print '%s %.3f' %(' \\n Additional ice required (lb of ice) = ',mi1)\n",
    "raw_input('press enter key to exit')"
   ]
  }
 ],
 "metadata": {
  "kernelspec": {
   "display_name": "Python 2",
   "language": "python",
   "name": "python2"
  },
  "language_info": {
   "codemirror_mode": {
    "name": "ipython",
    "version": 2
   },
   "file_extension": ".py",
   "mimetype": "text/x-python",
   "name": "python",
   "nbconvert_exporter": "python",
   "pygments_lexer": "ipython2",
   "version": "2.7.6"
  }
 },
 "nbformat": 4,
 "nbformat_minor": 0
}
