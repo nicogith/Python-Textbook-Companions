{
 "cells": [
  {
   "cell_type": "markdown",
   "metadata": {
    "collapsed": true
   },
   "source": [
    "# Chapter 6: Flow Procesess First law analysis"
   ]
  },
  {
   "cell_type": "markdown",
   "metadata": {
    "collapsed": true
   },
   "source": [
    "## Exa 6.1"
   ]
  },
  {
   "cell_type": "code",
   "execution_count": 1,
   "metadata": {
    "collapsed": false
   },
   "outputs": [
    {
     "name": "stdout",
     "output_type": "stream",
     "text": [
      "Poweroutput (hp) =  219.56\n",
      "press enter key to exit\n"
     ]
    },
    {
     "data": {
      "text/plain": [
       "''"
      ]
     },
     "execution_count": 1,
     "metadata": {},
     "output_type": "execute_result"
    }
   ],
   "source": [
    "#A turbine operates under steady flow conditions, receiving steam at the \n",
    "#following state: P=170 psia, T=368.4 F and Cv=2.675, U=1111.9, v=6000 and z=10\n",
    "#Steam leaves at the following state: P=3 psia, T=141.5 F and Cv=100.9, \n",
    "#U=914.6, v=300 and z=0. heat loss=1000. Rate of flow=2500.what is  Power?\n",
    "import math\n",
    "#initialisation of variables\n",
    "u1= 1111.9 \t\t\t#Btu/lb\n",
    "p= 170\t\t\t \t#psia\n",
    "v1= 2.675 \t\t\t#cu ft/lb\n",
    "V1= 6000 \t\t\t#ft/min\n",
    "g0= 32.2 \t\t\t#ft/sec^2\n",
    "g= 32.2 \t\t\t#ft/sec^2\n",
    "z= 10 \t\t\t\t#ft\n",
    "Q= 1000\t\t\t\t#Btu/hr\n",
    "u2= 914.6 \t\t\t#Btu/lb\n",
    "p1= 3 \t\t\t\t#psia\n",
    "v2= 100.9 \t\t\t#cu ft/lb\n",
    "V2= 300 \t\t\t#ft/sec\n",
    "g0= 32.2 \t\t\t#ft/sec^2\n",
    "g= 32.2 \t\t\t#ft/sec^2\n",
    "z1= 0 \t\t\t\t#ft\n",
    "#CALCULATIONS\n",
    "#The numbers used are conversion factors for different units\n",
    "Wx= (u1+(p*v1*144./778.)+(math.pow((V1/60.),2)/(2*g*778))+(z/778.)-(Q/2500.)-u2-(p1*v2*144./778.)-((V2*V2)/(2*g*778.)))*2500.\n",
    "#RESULTS\n",
    "print '%s %.2f' %('Poweroutput (hp) = ',Wx*0.000393014779)\n",
    "#It is the conversion factor from btu/hr to hp\n",
    "raw_input('press enter key to exit')"
   ]
  },
  {
   "cell_type": "markdown",
   "metadata": {
    "collapsed": true
   },
   "source": [
    "## Exa 6.2"
   ]
  },
  {
   "cell_type": "code",
   "execution_count": null,
   "metadata": {
    "collapsed": false
   },
   "outputs": [
    {
     "name": "stdout",
     "output_type": "stream",
     "text": [
      "Steam supplied to the heater (lb/hr) =  1456.70\n"
     ]
    }
   ],
   "source": [
    "#A certain water heater operates under steady flow conditions receiving 500\n",
    "#of water at t=165F and enthalpy=132.9. The water is heated by mixing with steam \n",
    "#which is supplied to the heater at temp 215 F and enthalpy 1150. The mixture\n",
    "#leaves the heater as liquid water at temp 212 F, enthalpy 180. How many pounds\n",
    "#per hr of steam must be supplied to the heater? \n",
    "#initialisation of variables\n",
    "w1= 500 \t\t\t\t\t#lb/min\n",
    "h1= 132.9 \t\t\t\t\t#Btu/lb\n",
    "h2= 1150 \t\t\t\t\t#Btu/lb\n",
    "h3= 180 \t\t\t\t\t#Btu/lb\n",
    "#CALCULATIONS\n",
    "w2= w1*(h3-h1)*60/(h2-h3)\t#Steam supplied\n",
    "#RESULTS\n",
    "print '%s %.2f' %('Steam supplied to the heater (lb/hr) = ',w2)\n",
    "raw_input('press enter key to exit')"
   ]
  },
  {
   "cell_type": "markdown",
   "metadata": {
    "collapsed": true
   },
   "source": [
    "## Exa 6.3"
   ]
  },
  {
   "cell_type": "code",
   "execution_count": 1,
   "metadata": {
    "collapsed": false
   },
   "outputs": [
    {
     "name": "stdout",
     "output_type": "stream",
     "text": [
      "Average velovity at section1 (fps) =  939.56\n",
      " \n",
      " Average velovity at section2  (fps) =  1033.51\n",
      "\n",
      " rate of flow  (lb/sec) =  4.15\n",
      "press enter key to exit\n"
     ]
    },
    {
     "data": {
      "text/plain": [
       "''"
      ]
     },
     "execution_count": 1,
     "metadata": {},
     "output_type": "execute_result"
    }
   ],
   "source": [
    "#Steam is flowing steadily through a pipe 2 in in dia in which there is a \n",
    "#pressure drop due to friction. the pipe is thoroughly insulated so that \n",
    "#heat loss is neligible. At a certain section in the pipe, steam pressure\n",
    "#is 100 psia, the specific volume is 4.937 and enthalpy=1227.6. at another\n",
    "# section, downstream first, the corresopnding parameters are 90, 5.434 \n",
    "#and 1223.9. Find the average velocity at each of the sections mentioned, \n",
    "#the rate of flow\n",
    "import math\n",
    "#initialisation of variables\n",
    "h1= 1227.6 #Btu/lb\n",
    "h2= 1223.9 #Btu/lb\n",
    "g= 32.2 #ft/sec^2\n",
    "v1= 4.937 #cu ft/lb\n",
    "d= 2./12. #in\n",
    "A1=math.pi*d*d /4.\n",
    "#CALCULATIONS\n",
    "V1= math.sqrt((2*g*(h1-h2)*778)/((1.1)*1.1-1))\n",
    "V2= 1.1*V1\n",
    "w=A1*V1/v1\n",
    "#RESULTS\n",
    "print '%s %.2f' %('Average velovity at section1 (fps) = ',V1)\n",
    "print '%s %.2f' %(' \\n Average velovity at section2  (fps) = ',V2)\n",
    "print '%s %.2f' %('\\n rate of flow  (lb/sec) = ', w)\n",
    "raw_input('press enter key to exit')"
   ]
  }
 ],
 "metadata": {
  "kernelspec": {
   "display_name": "Python 2",
   "language": "python",
   "name": "python2"
  },
  "language_info": {
   "codemirror_mode": {
    "name": "ipython",
    "version": 2
   },
   "file_extension": ".py",
   "mimetype": "text/x-python",
   "name": "python",
   "nbconvert_exporter": "python",
   "pygments_lexer": "ipython2",
   "version": "2.7.6"
  }
 },
 "nbformat": 4,
 "nbformat_minor": 0
}
