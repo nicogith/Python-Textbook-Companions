{
 "cells": [
  {
   "cell_type": "markdown",
   "metadata": {
    "collapsed": true
   },
   "source": [
    "# Chapter 13: Vapor cycles"
   ]
  },
  {
   "cell_type": "markdown",
   "metadata": {
    "collapsed": true
   },
   "source": [
    "## Exa 13.1"
   ]
  },
  {
   "cell_type": "code",
   "execution_count": 1,
   "metadata": {
    "collapsed": false
   },
   "outputs": [
    {
     "name": "stdout",
     "output_type": "stream",
     "text": [
      "cycle efficency =  0.318\n",
      " \n",
      " steam rate (lb steam per hphr) =  6.01\n",
      "press enter key to exit\n"
     ]
    },
    {
     "data": {
      "text/plain": [
       "''"
      ]
     },
     "execution_count": 1,
     "metadata": {},
     "output_type": "execute_result"
    }
   ],
   "source": [
    "#A rankine cycle operates with steam conditions 200 psia,750 F and exhaust\n",
    "#pressure 1 psia. Find the heat supplied, the turbine work, and the pump work\n",
    "#per pound of steam. Find the cycle efficiency and steam rate?\n",
    "#initialisation of variables\n",
    "P= 1 \t\t\t\t\t\t#psia\n",
    "P1= 200 \t\t\t\t\t#psia\n",
    "T= 750 \t\t\t\t\t\t#F\n",
    "v3= 0.01614 \t\t\t\t#cu ft/lb\n",
    "h1= 1399.2 \t\t\t\t\t#Bu/lb\n",
    "h2= 976 \t\t\t\t\t#Btu/lb\n",
    "h3= 69.7 \t\t\t\t\t#Btu/lb\n",
    "#CALCULATIONS\n",
    "dh= v3*(144./778.)*(P1-P)\t#Change in enthalpy\n",
    "h4= h3+dh \t\t\t\t\t#Enthalpy 4 \n",
    "Q1= h1-h4\t\t\t\t\t#Heat\n",
    "Wt= h1-h2 \t\t\t\t\t#Work\n",
    "Wp= h4-h3 \t\t\t\t\t#Work\n",
    "n= (Wt-Wp)/Q1 \t\t\t\t#Efficiency\n",
    "w= 2545./Wt \t\t\t\t#Steam rate\n",
    "#RESULTS\n",
    "print '%s %.3f' %('cycle efficency = ',n)\n",
    "print '%s %.2f' %(' \\n steam rate (lb steam per hphr) = ',w)\n",
    "raw_input('press enter key to exit')"
   ]
  },
  {
   "cell_type": "markdown",
   "metadata": {
    "collapsed": true
   },
   "source": [
    "## Exa 13.2"
   ]
  },
  {
   "cell_type": "code",
   "execution_count": null,
   "metadata": {
    "collapsed": false
   },
   "outputs": [
    {
     "name": "stdout",
     "output_type": "stream",
     "text": [
      "Engine efficency =  0.752\n",
      " \n",
      " state  of the exhaust steam (Btu/lb) =  1081.075\n"
     ]
    }
   ],
   "source": [
    "#A turbine operating under the same steam conditions as given for the cycle\n",
    "#of example 1 has a measured steam rate 8. Find the engine efficiency of the\n",
    "#tuebine and the state of the exhaust steam.\n",
    "#initialisation of variables\n",
    "wt= 8. \t\t\t\t#lb/hphr\n",
    "h1= 1399.2 \t\t\t#Btu/lb\n",
    "h2s= 976. \t\t\t#Btu/lb\n",
    "h2= 976. \t\t\t#Btu/lb\n",
    "#CACLAULATIONS\n",
    "Wt= 2545./wt \t\t#Work per piund\n",
    "nt= Wt/(h1-h2s) \t#Efficiency\n",
    "h21= h1-Wt \t\t\t#State of echaust steam\n",
    "#RESULTS\n",
    "print '%s %.3f' %('Engine efficency = ',nt)\n",
    "print '%s %.3f' %(' \\n state  of the exhaust steam (Btu/lb) = ',h21)\n",
    "raw_input('press enter key to exit')"
   ]
  },
  {
   "cell_type": "markdown",
   "metadata": {
    "collapsed": true
   },
   "source": [
    "## Exa 13.3"
   ]
  },
  {
   "cell_type": "code",
   "execution_count": 1,
   "metadata": {
    "collapsed": false
   },
   "outputs": [
    {
     "name": "stdout",
     "output_type": "stream",
     "text": [
      "All the values have been obtained from steam tables and mollier chart\n",
      "h2 (Btu/lb) =  1307.05\n",
      "\n",
      " h4 (Btu/lb) =  1034.16\n",
      "\n",
      " For the first rankine cycle\n",
      "\n",
      " h7 (Btu/lb) =  935.18\n",
      "\n",
      " For the second rankine cycle\n",
      "\n",
      " h9 (Btu/lb) =  960.08\n",
      "\n",
      " Percentage Efficiency of reheat cycle compared to Rankine cycle for the first case = 6.93\n",
      "\n",
      " Percentage Efficiency of reheat cycle compared to Rankine cycle for the second case = 9.56\n",
      "press enter key to exit\n"
     ]
    },
    {
     "data": {
      "text/plain": [
       "''"
      ]
     },
     "execution_count": 1,
     "metadata": {},
     "output_type": "execute_result"
    }
   ],
   "source": [
    "#A reheat cycle is to operate with turbines of 85% efficiency, but otherwise\n",
    "#with idealized processes. the initial pressure is 2000 psia, and exhaust pressure\n",
    "#is 0.5 psia, reheat=400 psia. Max. temp=1000 F. find efficiency and steam rate\n",
    "#of this cycle. also of a rankine cycle working between 2000, 1000 and 0.5; also \n",
    "#of a rankine cycle between 1400,1000,0.5. this being taken as cycle of max.\n",
    "#permissible pressure without reheat. Use turbines oof 85% efficiecy in the rankine cycles\n",
    "import math\n",
    "print '%s' %('All the values have been obtained from steam tables and mollier chart')\n",
    "#initialisation of variables\n",
    "h1=1474.5 \t\t\t\t\t\t\t\t\t#btu/lb\n",
    "s1=1.5603 \t\t\t\t\t\t\t\t\t#btu/lb R\n",
    "h2s=1277.5 \t\t\t\t\t\t\t\t\t#btu/lb\n",
    "#Calculations and printfing\n",
    "h2=h1-0.85*(h1-h2s)\n",
    "print '%s %.2f' %('h2 (Btu/lb) = ',h2)\n",
    "h3=1522.4  \t\t\t\t\t\t\t\t\t#btu/lb\n",
    "s3=1.7623 \t\t\t\t\t\t\t\t\t#btu/lb R\n",
    "h4s=948 #btu/lb\n",
    "h4=h3- 0.85*(h3-h4s)\n",
    "print '%s %.2f' %('\\n h4 (Btu/lb) = ',h4)\n",
    "h5=47.6 \t\t\t\t\t\t\t\t\t#btu/lb\n",
    "h6=53.5 \t\t\t\t\t\t\t\t\t#btu/lb\n",
    "print ('\\n For the first rankine cycle')\n",
    "h7s=840 \t\t\t\t\t\t\t\t\t#btu/lb\n",
    "h7=h1-0.85*(h1-h7s)\n",
    "print '%s %.2f' %('\\n h7 (Btu/lb) = ',h7)\n",
    "print ('\\n For the second rankine cycle')\n",
    "h8=1493.2 \t\t\t\t\t\t\t\t\t#btu/lb\n",
    "s8=1.6903 \t\t\t\t\t\t\t\t\t#btu/lb R\n",
    "h9s=866 \t\t\t\t\t\t\t\t\t#btu/lb\n",
    "h9=h8-0.85*(h8-h9s)\n",
    "print '%s %.2f' %('\\n h9 (Btu/lb) = ',h9)\n",
    "h11=51.5 \t\t\t\t\t\t\t\t\t#btu/lb\n",
    "n1=0.401\n",
    "n2=0.375\n",
    "n3=0.366\n",
    "e1=(n1-n2)/n2 \t\t\t\t\t\t\t\t#Efficiency\n",
    "print '%s %.2f' %('\\n Percentage Efficiency of reheat cycle compared to Rankine cycle for the first case =',e1*100)\n",
    "e2=(n1-n3)/n3 \t\t\t\t\t\t\t\t#Efficiency\n",
    "print '%s %.2f' %('\\n Percentage Efficiency of reheat cycle compared to Rankine cycle for the second case =',e2*100)\n",
    "raw_input('press enter key to exit')"
   ]
  },
  {
   "cell_type": "markdown",
   "metadata": {
    "collapsed": true
   },
   "source": [
    "## Exa 13.4"
   ]
  },
  {
   "cell_type": "code",
   "execution_count": 2,
   "metadata": {
    "collapsed": false
   },
   "outputs": [
    {
     "name": "stdout",
     "output_type": "stream",
     "text": [
      "All the values have been obtained from steam tables and mollier chart\n",
      "Fraction of energy supplied =   0.91\n",
      " \n",
      " Fraction of energy supplied which appears as useful energy=  0.64\n",
      "press enter key to exit\n"
     ]
    },
    {
     "data": {
      "text/plain": [
       "''"
      ]
     },
     "execution_count": 2,
     "metadata": {},
     "output_type": "execute_result"
    }
   ],
   "source": [
    "#A steam plant operates with initial pressure 250 psia and temp 700 F and exhausts\n",
    "#to a heating system at 25 psia. the condensate from the heating system is \n",
    "#returned to the boiler plant at 150F, and the heating system utilizes for its\n",
    "#intended purpose 90% of the energy transferred from the steam it receives\n",
    "#(a) what fraction of energy supplied to the steam plant serves a useful purpose?\n",
    "#(b) If two separate steam plants had been setup to produce the same useful energy,\n",
    "#one to generate power through a cycle working between 250 psia, 700 F and 1 psia, \n",
    "#what fraction of energy supplied would have served a useful purpose?\n",
    "#initialisation of variables\n",
    "h1= 1371 \t\t#Btu/lb\n",
    "h2s= 1149 \t\t#Btu/lb\n",
    "h3= 118 \t\t#Btu/lb\n",
    "Q1= 1253 \t\t#Btu/lb\n",
    "W= 156. \t\t#Btu/lb\n",
    "Qw= 680. \t\t#Btu/lb\n",
    "#CALCULATIONS\n",
    "print '%s' %('All the values have been obtained from steam tables and mollier chart')\n",
    "Qh= h1-W-h3 \t#Heat\n",
    "y= W+0.9*Qh \t#useful energy\n",
    "r= y/Q1 \t\t#fraction \n",
    "x= Qh+Qw \t\t#total input\n",
    "z= y/x \t\t\t#fraction\n",
    "#RESULTS\n",
    "print '%s %.2f' %('Fraction of energy supplied =  ',r)\n",
    "print '%s %.2f' %(' \\n Fraction of energy supplied which appears as useful energy= ',z)\n",
    "raw_input('press enter key to exit')"
   ]
  }
 ],
 "metadata": {
  "kernelspec": {
   "display_name": "Python 2",
   "language": "python",
   "name": "python2"
  },
  "language_info": {
   "codemirror_mode": {
    "name": "ipython",
    "version": 2
   },
   "file_extension": ".py",
   "mimetype": "text/x-python",
   "name": "python",
   "nbconvert_exporter": "python",
   "pygments_lexer": "ipython2",
   "version": "2.7.6"
  }
 },
 "nbformat": 4,
 "nbformat_minor": 0
}
