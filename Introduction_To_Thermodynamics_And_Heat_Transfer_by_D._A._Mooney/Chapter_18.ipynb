{
 "cells": [
  {
   "cell_type": "markdown",
   "metadata": {
    "collapsed": true
   },
   "source": [
    "# Chapter 18: Refrigeration"
   ]
  },
  {
   "cell_type": "markdown",
   "metadata": {
    "collapsed": true
   },
   "source": [
    "## Exa 18.1"
   ]
  },
  {
   "cell_type": "code",
   "execution_count": null,
   "metadata": {
    "collapsed": false
   },
   "outputs": [
    {
     "name": "stdout",
     "output_type": "stream",
     "text": [
      "coefficient of performance of carnot =  6.05\n",
      " \n",
      " coefficient of performance =  5.23\n",
      " \n",
      " Piston displacement (cu ft/min) =  4.48\n"
     ]
    }
   ],
   "source": [
    "#A refrigiration plant is to operate with an evaporator saturation temp. is 0 F\n",
    "#while rempvin 10000 From a cold room. The condenser is to be cooled by water so \n",
    "#that the saturation temp. can be kept at 76 F. the refrigirant is ammonia\n",
    "#(a) Assuming the plant works on a cycle like that, find its coefficient of \n",
    "#performance and ompare this with the one of a carnot engine\n",
    "#(b) If the volumetric efficiency if the compressor is 70% how much piston\n",
    "#displacement per min will be needed?\n",
    "import math\n",
    "#initialisation of variables\n",
    "T2 = 0 \t\t\t\t\t#F\n",
    "T1= 76.  \t\t\t\t#F\n",
    "h1= 611.8 \t\t\t\t#Btu/lb\n",
    "h4= 127.4 \t\t\t\t#Btu/lb\n",
    "h2= 704.4 \t\t\t\t#Btu/lb\n",
    "x= 10000 \t\t\t\t#Btu/hr\n",
    "v1= 9.116 \t\t\t\t#cu ft/lb\n",
    "n=70.\n",
    "#CALCULATIONS\n",
    "CP= (T2+460)/(T1-T2) \t#Carnot efficiency\n",
    "CP1= (h1-h4)/(h2-h1) \t#coefficient of performance\n",
    "w= (x/60.)/(h1-h4) \t\t#Work done\n",
    "PD=(w*v1)/(n/100.) \t\t#Piston displacement\n",
    "#RESULTS\n",
    "print '%s %.2f' %('coefficient of performance of carnot = ',CP)\n",
    "print '%s %.2f' %(' \\n coefficient of performance = ',CP1)\n",
    "print '%s %.2f' %(' \\n Piston displacement (cu ft/min) = ',PD)\n",
    "raw_input('press enter key to exit')"
   ]
  }
 ],
 "metadata": {
  "kernelspec": {
   "display_name": "Python 2",
   "language": "python",
   "name": "python2"
  },
  "language_info": {
   "codemirror_mode": {
    "name": "ipython",
    "version": 2
   },
   "file_extension": ".py",
   "mimetype": "text/x-python",
   "name": "python",
   "nbconvert_exporter": "python",
   "pygments_lexer": "ipython2",
   "version": "2.7.6"
  }
 },
 "nbformat": 4,
 "nbformat_minor": 0
}
