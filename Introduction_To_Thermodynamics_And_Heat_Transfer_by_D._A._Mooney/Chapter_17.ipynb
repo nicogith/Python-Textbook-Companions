{
 "cells": [
  {
   "cell_type": "markdown",
   "metadata": {
    "collapsed": true
   },
   "source": [
    "# Chapter 17: Gas compression"
   ]
  },
  {
   "cell_type": "markdown",
   "metadata": {
    "collapsed": true
   },
   "source": [
    "## Exa 17.1"
   ]
  },
  {
   "cell_type": "code",
   "execution_count": null,
   "metadata": {
    "collapsed": false
   },
   "outputs": [
    {
     "name": "stdout",
     "output_type": "stream",
     "text": [
      "Heat transfered from the airin each case (Btu/lb) =  -16.01\n"
     ]
    }
   ],
   "source": [
    "#tests on a reciproacating air compressers with water-cooled cylinders show\n",
    "#that it is practical to cool the air sufficently during compression to \n",
    "#correspond to a polytropic exponenent n in the vicinity of 1.3. Compare\n",
    "#the work per pound of air compressed from 15 psia, 80 F to 90 psia, according\n",
    "#to three processes: reversible adiabatic, reversible isothermal, and reversible\n",
    "#pv^1.3=c. Find the heat transferred from the air in each case\n",
    "import math\n",
    "#initialisation of variables\n",
    "R= 53.31\n",
    "T= 80 \t\t\t\t\t\t\t\t\t\t\t\t\t\t\t\t#F\n",
    "P2= 90. \t\t\t\t\t\t\t\t\t\t\t\t\t\t\t#psia\n",
    "P1= 15. \t\t\t\t\t\t\t\t\t\t\t\t\t\t\t#psia\n",
    "n= 1.4\n",
    "n1= 1.3\n",
    "cv= 0.171\n",
    "#CALCULATIONS\n",
    "Wk= (n/(n-1))*R*(T+460)*(math.pow((P2/P1),((n-1)/n))-1)\t\t\t\t#Work in 1\n",
    "Wn= (n1/(n1-1))*R*(T+460)*(math.pow((P2/P1),((n1-1)/n1))-1) \t\t#Work in 2 \n",
    "Wt= R*(T+460)*math.log(P2/P1)\t\t\t\t\t\t\t\t\t\t#Work in 3\n",
    "Q= cv*0.778*((n-n1)/(1-n1))*(T+460)*(math.pow((P2/P1),((n-1)/n))-1) #Heat \n",
    "#RESULTS\n",
    "print '%s %.2f' %('Heat transfered from the airin each case (Btu/lb) = ',Q)\n",
    "raw_input('press enter key to exit')"
   ]
  },
  {
   "cell_type": "markdown",
   "metadata": {
    "collapsed": true
   },
   "source": [
    "## Exa 17.2"
   ]
  },
  {
   "cell_type": "code",
   "execution_count": 1,
   "metadata": {
    "collapsed": false
   },
   "outputs": [
    {
     "name": "stdout",
     "output_type": "stream",
     "text": [
      "Thermal effeciency =  0.81\n",
      " \n",
      " Isothermal effeciency=  1.05\n",
      "press enter key to exit\n"
     ]
    },
    {
     "data": {
      "text/plain": [
       "''"
      ]
     },
     "execution_count": 1,
     "metadata": {},
     "output_type": "execute_result"
    }
   ],
   "source": [
    "#For the conditions of example 1 find the adiabatic efficiency and the isothermal\n",
    "#efficiency of the reversible polytropic compressor\n",
    "import math\n",
    "#initialisation of variables\n",
    "R= 53.31\n",
    "T= 80 \t\t\t\t\t\t\t\t\t\t\t\t\t\t\t#F\n",
    "P2= 90. \t\t\t\t\t\t\t\t\t\t\t\t\t\t#psia\n",
    "P1= 15. \t\t\t\t\t\t\t\t\t\t\t\t\t\t#psia\n",
    "n= 1.4\n",
    "n1= 1.3\n",
    "cv= 0.171\n",
    "#CALCULATIONS\n",
    "Wk= (n/(n-1))*R*(T+460)*(math.pow((P2/P1),((n-1)/n))-1)\t\t\t#Work in 1\n",
    "Wn= (n1/(n1-1))*R*(T+460)*(math.pow((P2/P1),((n1-1)/n1))-1)\t\t#Work in 2 \n",
    "Wt= R*(T+460)*math.log(P2/P1) \t\t\t\t\t\t\t\t\t#Work in 3\n",
    "nc= Wt/Wn \t\t\t\t\t\t\t\t\t\t\t\t\t\t#Thermal efficiency\n",
    "nc1=Wk/Wn \t\t\t\t\t\t\t\t\t\t\t\t\t\t#Isothermal effeciency\n",
    "##RESULTS\n",
    "print '%s %.2f' %('Thermal effeciency = ',nc)\n",
    "print '%s %.2f' %(' \\n Isothermal effeciency= ',nc1)\n",
    "raw_input('press enter key to exit')"
   ]
  },
  {
   "cell_type": "markdown",
   "metadata": {
    "collapsed": true
   },
   "source": [
    "## Exa 17.3"
   ]
  },
  {
   "cell_type": "code",
   "execution_count": 2,
   "metadata": {
    "collapsed": false
   },
   "outputs": [
    {
     "name": "stdout",
     "output_type": "stream",
     "text": [
      "Heat transferred (Btu/lb) =  -24.77\n",
      "press enter key to exit\n"
     ]
    },
    {
     "data": {
      "text/plain": [
       "''"
      ]
     },
     "execution_count": 2,
     "metadata": {},
     "output_type": "execute_result"
    }
   ],
   "source": [
    "#For the same initial state and final pressure as in ex.1, a real compressor\n",
    "#has an efficiency of 95% on the adiabatic basis. The initial and final states\n",
    "#correspond to a polytropic compression with n=1.3. Find the heat transferred\n",
    "#per pound of air\n",
    "import math\n",
    "#initialisation of variables\n",
    "R= 53.31\n",
    "T= 80 \t\t\t\t\t\t\t\t\t\t\t\t\t\t\t#F\n",
    "P2= 90. \t\t\t\t\t\t\t\t\t\t\t\t\t\t#psia\n",
    "P1= 15. \t\t\t\t\t\t\t\t\t\t\t\t\t\t#psia\n",
    "n= 1.4\n",
    "cp= 0.240\n",
    "nc= 0.95\n",
    "n1= 1.3\n",
    "#CALCULATIONS\n",
    "Wk= (n/(n-1))*(R)*(T+460)*(math.pow((P2/P1),((n-1)/n))-1)\t\t#Work in 1\n",
    "Wx= -Wk/nc \t\t\t\t\t\t\t\t\t\t\t\t\t\t#Work in 2\n",
    "dh= cp*(T+460)*(math.pow((P2/P1),((n1-1)/n1))-1) \t\t\t\t#Enthalpy transferred \n",
    "Q= dh+(Wx/778.) \t\t\t\t\t\t\t\t\t\t\t\t#Heat\n",
    "#RESULTS\n",
    "print '%s %.2f' %('Heat transferred (Btu/lb) = ',Q)\n",
    "raw_input('press enter key to exit')"
   ]
  },
  {
   "cell_type": "markdown",
   "metadata": {
    "collapsed": true
   },
   "source": [
    "## Exa 17.4"
   ]
  },
  {
   "cell_type": "code",
   "execution_count": 3,
   "metadata": {
    "collapsed": false
   },
   "outputs": [
    {
     "name": "stdout",
     "output_type": "stream",
     "text": [
      "single-stage compression =  0.745\n",
      " \n",
      " two-stage compression =  0.937\n",
      "press enter key to exit\n"
     ]
    },
    {
     "data": {
      "text/plain": [
       "''"
      ]
     },
     "execution_count": 3,
     "metadata": {},
     "output_type": "execute_result"
    }
   ],
   "source": [
    "#A gas is to be compressed from 5 psia to 83.5 psia. It is known that cooling\n",
    "#correspondin to the polytropic exponent of 1.25 is practical and the clearance \n",
    "#of the available compressors is 3%. Compare the volumetric efficencies to be \n",
    "#anticipated for (a) single-stage compression, and (b)two-stage compression,with\n",
    "#equal pressure ratios in the stages.\n",
    "import math\n",
    "#initialisation of variables\n",
    "P1= 83.5\t\t\t\t\t\t\t\t\t\t\t\t#psia\n",
    "P2= 5. \t\t\t\t\t\t\t\t\t\t\t\t\t#psia\n",
    "n= 3. \t\t\t\t\t\t\t\t\t\t\t\t\t#percent\n",
    "n1= 1.25\n",
    "#CALCULATIONS\n",
    "nv= 1-(n/100.)*(math.pow((P1/P2),(1/n1))-1)\t\t\t\t#Efficiency of single stage\n",
    "nv1= 1-(n/100.)*(math.sqrt(math.pow((P1/P2),(1/n1)))-1) #efficiency of two-stage\n",
    "#RESULTS\n",
    "print '%s %.3f' %('single-stage compression = ',nv)\n",
    "print '%s %.3f' %(' \\n two-stage compression = ',nv1)\n",
    "raw_input('press enter key to exit')"
   ]
  }
 ],
 "metadata": {
  "kernelspec": {
   "display_name": "Python 2",
   "language": "python",
   "name": "python2"
  },
  "language_info": {
   "codemirror_mode": {
    "name": "ipython",
    "version": 2
   },
   "file_extension": ".py",
   "mimetype": "text/x-python",
   "name": "python",
   "nbconvert_exporter": "python",
   "pygments_lexer": "ipython2",
   "version": "2.7.6"
  }
 },
 "nbformat": 4,
 "nbformat_minor": 0
}
