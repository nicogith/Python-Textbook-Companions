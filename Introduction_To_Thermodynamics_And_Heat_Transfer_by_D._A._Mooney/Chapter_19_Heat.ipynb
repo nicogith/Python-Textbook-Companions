{
 "cells": [
  {
   "cell_type": "markdown",
   "metadata": {
    "collapsed": true
   },
   "source": [
    "# Chapter 19: Heat Transmission"
   ]
  },
  {
   "cell_type": "markdown",
   "metadata": {
    "collapsed": true
   },
   "source": [
    "## Exa 19.2"
   ]
  },
  {
   "cell_type": "code",
   "execution_count": null,
   "metadata": {
    "collapsed": false
   },
   "outputs": [
    {
     "name": "stdout",
     "output_type": "stream",
     "text": [
      "Rate of heat flow (Btu/hr) =  14.55\n",
      " \n",
      " Temperature at the interface (F) =  40.61\n"
     ]
    }
   ],
   "source": [
    "#A large flat wall consists of two well bonded layers of material 8 in thick\n",
    "#and 1 in thick. The 8 in thick layer is concrete having a k=0.50. and the 1- in \n",
    "#k=0.02. The surface temp is  -20 F. and the surface temp. of concrete is 60 F. \n",
    "#Find the rate of heat flow per unit area, the temperature at the interface\n",
    "#between the two layers and the resistances per unit area of the two layers\n",
    "import math\n",
    "#initialisation of variables\n",
    "t= 8. \t\t\t\t\t\t\t#in\n",
    "t1= 1. \t\t\t\t\t\t\t#in\n",
    "k= 0.50 \t\t\t\t\t\t#Btu/hr ft F\n",
    "k1= 0.02 \t\t\t\t\t\t#Btu/hr ft F\n",
    "A= 1 \t\t\t\t\t\t\t#ft^2\n",
    "T= 60 \t\t\t\t\t\t\t#F\n",
    "T1= -20 \t\t\t\t\t\t#F\n",
    "#CALCULATIONS\n",
    "Rc= (t/12.)/(k*A)\t\t\t\t#Resistance 1\n",
    "Rf= (t1/12.)/(k1*A)\t\t\t\t#Resistance 2\n",
    "R= Rc+Rf \t\t\t\t\t\t#Total resistance\n",
    "q= (T-T1)/R \t\t\t\t\t#Heat\n",
    "T2= (T+(Rc/Rf)*T1)/(1+(Rc/Rf)) \t#temp of the interface\n",
    "#RESULTS\n",
    "print '%s %.2f' %('Rate of heat flow (Btu/hr) = ',q)\n",
    "print '%s %.2f' %(' \\n Temperature at the interface (F) = ',T2)\n",
    "raw_input('press enter key to exit')"
   ]
  },
  {
   "cell_type": "markdown",
   "metadata": {
    "collapsed": true
   },
   "source": [
    "## Exa 19.3"
   ]
  },
  {
   "cell_type": "code",
   "execution_count": 1,
   "metadata": {
    "collapsed": false
   },
   "outputs": [
    {
     "name": "stdout",
     "output_type": "stream",
     "text": [
      "Temperature at the interface (F) =  133.055520\n",
      "press enter key to exit\n"
     ]
    },
    {
     "data": {
      "text/plain": [
       "''"
      ]
     },
     "execution_count": 1,
     "metadata": {},
     "output_type": "execute_result"
    }
   ],
   "source": [
    "#A steel pipe of 10 in inside dia. and 0.375 in. wall thickness carries steam \n",
    "#at 500 f. The pipe is covered by 2 in of insulation to reduce heat losses to\n",
    "#surroundings at 80 F. It is known from tests that the convection coefficients\n",
    "#for inside and outside are 2500 and 1.6. to protect personnel it is desired\n",
    "#that the outside shouldn't exceed 140 f. If ksteel=26. and insulation is 0.045. \n",
    "#will the 2 in thickness of insulation meet the requirement?\n",
    "import math\n",
    "#initialisation of variables\n",
    "h1= 2500. \t\t\t\t\t\t\t#Btu/sq ft hr F\n",
    "r= 10. \t\t\t\t\t\t\t\t#in\n",
    "t= 0.375 \t\t\t\t\t\t\t#in\n",
    "Ts= 500. \t\t\t\t\t\t\t#F\n",
    "Ta= 80. \t\t\t\t\t\t\t#F\n",
    "r2= 5.375 \t\t\t\t\t\t\t#in\n",
    "r1= 5. \t\t\t\t\t\t\t\t#in\n",
    "r3= 7.375 \t\t\t\t\t\t\t#in\n",
    "kp= 26. \t\t\t\t\t\t\t#Btu ft/hr\n",
    "ki= 0.045 \t\t\t\t\t\t\t#Btu ft/hr\n",
    "h1= 2500. \t\t\t\t\t\t\t#Btu/sq ft hr F\n",
    "h3= 1.6 \t\t\t\t\t\t\t#Btu/sq ft hr F\n",
    "r4= 14.750\n",
    "#CALCULATIONS\n",
    "R1= 1/(h1*math.pi*(r/12.))\t\t\t#Resistance 1\n",
    "Rp= math.log(r2/r1)/(2*math.pi*kp) \t#Resistance 2\n",
    "Ri= math.log(r3/r2)/(2*math.pi*ki) \t#Resistance 3\n",
    "R3= 1/(h3*math.pi*(r4/12.)) \t\t#Resistance 4\n",
    "R0= R1+Rp+Ri+R3 \t\t\t\t\t#Total reistance\n",
    "T3=Ta+ (Ts-Ta)*R3/R0 \t\t\t\t#Interface temp.\n",
    "#RESULTS\n",
    "print '%s %.6f' %('Temperature at the interface (F) = ',T3)\n",
    "raw_input('press enter key to exit')"
   ]
  },
  {
   "cell_type": "markdown",
   "metadata": {
    "collapsed": true
   },
   "source": [
    "## Exa 19.4"
   ]
  },
  {
   "cell_type": "code",
   "execution_count": 2,
   "metadata": {
    "collapsed": false
   },
   "outputs": [
    {
     "name": "stdout",
     "output_type": "stream",
     "text": [
      "1000000.0\n",
      "Water flow rate (lb/hr) =  25000.00\n",
      " \n",
      " Area of heat transfer surface (sq ft) =  337.89\n",
      " \n",
      " temperature of the oil (F) =  131.11\n",
      " \n",
      " flow rate (lb/hr) =  50000.00\n",
      "press enter key to exit\n"
     ]
    },
    {
     "data": {
      "text/plain": [
       "''"
      ]
     },
     "execution_count": 2,
     "metadata": {},
     "output_type": "execute_result"
    }
   ],
   "source": [
    "#Lubricating oil is to be cooled from 170 F to 120 F by water ssupplied at 100F.\n",
    "#Inorder to minimize the water requirement it is desired, if possible to have\n",
    "#water rise to 140F, the highest permissible temp. The oil flow rate is 40000.\n",
    "#the oil cp=0.5 and U=120. (b) Find the water flow rate for the counter flow\n",
    "#operation. (c) Find the heat transfer surface required for the counter flow.\n",
    "#(d) with the water flow rate found in (b), to what temp. could the oil be \n",
    "#cooled in a parallel exchanger of unlimited area (e) In the exchanger of (d)\n",
    "#how much water flow would be required to cool oil to 120F?\n",
    "import math\n",
    "#initialisation of variables\n",
    "wh= 40000. \t\t\t\t\t\t\t\t\t#lb.hr\n",
    "cph= 0.5 \t\t\t\t\t\t\t\t\t#Btu/lb F\n",
    "th1= 170. \t\t\t\t\t\t\t\t\t#F\n",
    "th2= 120. \t\t\t\t\t\t\t\t\t#F\n",
    "cpc= 1 \t\t\t\t\t\t\t\t\t\t#Btu/lb F\n",
    "tc2= 140. \t\t\t\t\t\t\t\t\t#F\n",
    "tc1= 100. \t\t\t\t\t\t\t\t\t#F\n",
    "t= 140 \t\t\t\t\t\t\t\t\t\t#F\n",
    "U= 120 \t\t\t\t\t\t\t\t\t\t#Btu/sq ft hr F\n",
    "#CALCULATIONS\n",
    "dh= t-th2 \t\t\t\t\t\t\t\t\t#Change in temp. for hot\n",
    "dc= tc2-tc1 \t\t\t\t\t\t\t\t#Change in temp. for cold\n",
    "wc= (wh*cph*(th1-th2))/(cpc*dc) \t\t\t#weight of cold\n",
    "dtm= (-(tc1-th2)-(th1-tc2))/math.log((-tc1+th2)/(th1-tc2)) #lmtd\n",
    "q= wh*cph*(th1-th2) \t\t\t\t\t\t#heat\n",
    "print(q)\n",
    "A= q/(U*dtm) \t\t\t\t\t\t\t\t#area\n",
    "th2= ((wh/wc)*(cph/cpc)*th1+tc1)/((wh/wc)*(cph/cpc)+1)#Hot final\n",
    "wc1= (wh*cph*(th1-th2))/(cpc*(th2-tc1)) \t#weight of cold final\n",
    "#RESULTS\n",
    "print '%s %.2f' %('Water flow rate (lb/hr) = ',wc)\n",
    "print '%s %.2f' %(' \\n Area of heat transfer surface (sq ft) = ',A)\n",
    "print '%s %.2f' %(' \\n temperature of the oil (F) = ',th2)\n",
    "print '%s %.2f' %(' \\n flow rate (lb/hr) = ',wc1*2)\n",
    "raw_input('press enter key to exit')"
   ]
  },
  {
   "cell_type": "markdown",
   "metadata": {
    "collapsed": true
   },
   "source": [
    "## Exa 19.5"
   ]
  },
  {
   "cell_type": "code",
   "execution_count": 3,
   "metadata": {
    "collapsed": false
   },
   "outputs": [
    {
     "name": "stdout",
     "output_type": "stream",
     "text": [
      "Film coefficient (Btu/sq ft hr F) =  14.59\n",
      "press enter key to exit\n"
     ]
    },
    {
     "data": {
      "text/plain": [
       "''"
      ]
     },
     "execution_count": 3,
     "metadata": {},
     "output_type": "execute_result"
    }
   ],
   "source": [
    "#Find the film coefficient for airr flowing at 100 fps thru a tube of 1 in outside\n",
    "#diameter and 18 gage thickness , if the avg. bulk air temp. is 600F, the pressure\n",
    "#is 1 atm,a nd the tube wall is 200 F?\n",
    "import math\n",
    "#initialisation of variables\n",
    "Tw= 200. \t\t\t#F\n",
    "Ta= 600. \t\t\t#F\n",
    "V= 100 \t\t\t\t#fps\n",
    "Di= 0.902 \t\t\t#in\n",
    "d= 0.0375 \t\t\t#lb/cu ft\n",
    "u= 0.000020 \t\t#lbm/sec\n",
    "cp= 0.25 \t\t\t#Btu/lb F\n",
    "k= 0.027 \t\t\t#Btu/sq ft hr\n",
    "#CALCULATIONS\n",
    "NRe= (Di*V*d)/(u*12)#Reynolds number \n",
    "Npr= 0.66 \t\t\t#prandtl number\n",
    "h= k*0.023*math.pow(NRe,0.8)*math.pow(Npr,0.4)*12/Di \n",
    "#RESULTS\n",
    "print '%s %.2f' %('Film coefficient (Btu/sq ft hr F) = ',h)\n",
    "raw_input('press enter key to exit')"
   ]
  },
  {
   "cell_type": "markdown",
   "metadata": {
    "collapsed": true
   },
   "source": [
    "## Exa 19.6"
   ]
  },
  {
   "cell_type": "code",
   "execution_count": 4,
   "metadata": {
    "collapsed": false
   },
   "outputs": [
    {
     "name": "stdout",
     "output_type": "stream",
     "text": [
      "Film coefficient (Btu/sq ft hr F) =  14.38\n",
      "press enter key to exit\n"
     ]
    },
    {
     "data": {
      "text/plain": [
       "''"
      ]
     },
     "execution_count": 4,
     "metadata": {},
     "output_type": "execute_result"
    }
   ],
   "source": [
    "#Find the film coefficient for the conditions of example 5, using eq. 17\n",
    "import math\n",
    "#initialisation of variables\n",
    "Tw= 200 \t\t\t\t\t#F\n",
    "Ta= 600 \t\t\t\t\t#F\n",
    "cpb= 0.25 \t\t\t\t\t# Btu/lb F\n",
    "tf= 0.68\n",
    "uf= 0.000017 \t\t\t\t#lbm/sec ft\n",
    "D= 0.902 \t\t\t\t\t#in\n",
    "V= 100. \t\t\t\t\t#fps\n",
    "d= 0.0375 \t\t\t\t\t#lb/cu ft\n",
    "#CALCULATIONS\n",
    "Nre= (D/12.)*V*d/uf\t\t\t#reynolds number\n",
    "Npr= 0.68 \t\t\t\t\t#prandtl number\n",
    "h= cpb*V*3600*d*0.023/(math.pow(Nre,0.2)*math.pow(Npr,(2./3.)))\n",
    "#RESULTS\n",
    "print '%s %.2f' %('Film coefficient (Btu/sq ft hr F) = ',h)\n",
    "raw_input('press enter key to exit')"
   ]
  },
  {
   "cell_type": "markdown",
   "metadata": {
    "collapsed": true
   },
   "source": [
    "## Exa 19.7"
   ]
  },
  {
   "cell_type": "code",
   "execution_count": 5,
   "metadata": {
    "collapsed": false
   },
   "outputs": [
    {
     "name": "stdout",
     "output_type": "stream",
     "text": [
      "Heat loss (Btu/hr) =  140.52\n",
      " \n",
      " hr (Btu/sq ft hr F) =  1.18\n",
      " \n",
      " hc (Btu/sq ft hr F) =  1.24\n",
      "press enter key to exit\n"
     ]
    },
    {
     "data": {
      "text/plain": [
       "''"
      ]
     },
     "execution_count": 5,
     "metadata": {},
     "output_type": "execute_result"
    }
   ],
   "source": [
    "#An uninsulated 3 in steam pipe passes through a room in which the air and all\n",
    "#solid surfaces are at an average temp. of 70 F. If the surface temp. of the \n",
    "#steam pipe is 200F, estimate the heat loss per foot of pipe by radiation and\n",
    "# compare the relative magnitudes of losses by radiation and by free convection.\n",
    "import math\n",
    "#initialisation of variables\n",
    "A1= 0.916 \t\t\t#ft^2\n",
    "e1= 0.8\n",
    "s= 0.173 \t\t\t#BTU s^-1 in^-2 R^-4\n",
    "T= 200 \t\t\t\t#F\n",
    "T1= 70 \t\t\t\t#F\n",
    "D= 0.292\n",
    "#CALCULATIONS\n",
    "q= (A1/math.pow(10,6))*e1*s*((math.pow((T+460),4)/100.)-(math.pow((T1+460),4)/100.))\n",
    "hr= q/(A1*(T-T1))\t#Coefficient of convection\n",
    "hc= 0.27*math.pow(((T-T1)/D),0.25) #free convection coefficient\n",
    "#RESULTS\n",
    "print '%s %.2f' %('Heat loss (Btu/hr) = ',q)\n",
    "print '%s %.2f' %(' \\n hr (Btu/sq ft hr F) = ',hr)\n",
    "print '%s %.2f' %(' \\n hc (Btu/sq ft hr F) = ',hc)\n",
    "raw_input('press enter key to exit')"
   ]
  },
  {
   "cell_type": "markdown",
   "metadata": {
    "collapsed": true
   },
   "source": [
    "## Exa 19.8"
   ]
  },
  {
   "cell_type": "code",
   "execution_count": 6,
   "metadata": {
    "collapsed": false
   },
   "outputs": [
    {
     "name": "stdout",
     "output_type": "stream",
     "text": [
      "Heat loss (Btu/hr) =  9683.74\n",
      "press enter key to exit\n"
     ]
    },
    {
     "data": {
      "text/plain": [
       "''"
      ]
     },
     "execution_count": 6,
     "metadata": {},
     "output_type": "execute_result"
    }
   ],
   "source": [
    "#A peep hole in the furnace wall of 13.5 in thickness is 8 in. square. the inside \n",
    "#of the furnace is at uniform temp. of 1500 F and the external surroundings are at\n",
    "#120 F. estimate the rate of heat loss by radiation through the open peep hole?  \n",
    "import math\n",
    "#initialisation of variables\n",
    "T= 120. \t\t\t\t\t#F\n",
    "T1= 1500. \t\t\t\t\t#F\n",
    "A= 64./144.\n",
    "F= 0.86\n",
    "Fe= 1\n",
    "s= 0.173 \t\t\t\t\t#BTU s^-1 in^-2 R^-4\n",
    "#CALCULATIONS\n",
    "q= (A/math.pow(10,6))*F*Fe*s*((math.pow((T1+460),4)/100.)-(math.pow((T+460),4)/100.))\n",
    "#RESULTS\n",
    "print '%s %.2f' %('Heat loss (Btu/hr) = ',q)\n",
    "raw_input('press enter key to exit')"
   ]
  }
 ],
 "metadata": {
  "kernelspec": {
   "display_name": "Python 2",
   "language": "python",
   "name": "python2"
  },
  "language_info": {
   "codemirror_mode": {
    "name": "ipython",
    "version": 2
   },
   "file_extension": ".py",
   "mimetype": "text/x-python",
   "name": "python",
   "nbconvert_exporter": "python",
   "pygments_lexer": "ipython2",
   "version": "2.7.6"
  }
 },
 "nbformat": 4,
 "nbformat_minor": 0
}
