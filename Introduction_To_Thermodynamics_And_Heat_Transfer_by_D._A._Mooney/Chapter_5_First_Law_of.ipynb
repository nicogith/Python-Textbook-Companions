{
 "cells": [
  {
   "cell_type": "markdown",
   "metadata": {
    "collapsed": true
   },
   "source": [
    "# Chapter 5: First Law of Thermodynamics"
   ]
  },
  {
   "cell_type": "markdown",
   "metadata": {
    "collapsed": true
   },
   "source": [
    "## Exa 5.1"
   ]
  },
  {
   "cell_type": "code",
   "execution_count": 1,
   "metadata": {
    "collapsed": false
   },
   "outputs": [
    {
     "name": "stdout",
     "output_type": "stream",
     "text": [
      "Change in internal energy of the gas (Btu) =  -20.82\n",
      "press enter key to exit\n"
     ]
    },
    {
     "data": {
      "text/plain": [
       "''"
      ]
     },
     "execution_count": 1,
     "metadata": {},
     "output_type": "execute_result"
    }
   ],
   "source": [
    "#A stationary mass of gas is compressed without friction from an intial state\n",
    "#of 10 cu ft abd 15 psia to a final state of 5 cu ft and 15 psia, the pressure\n",
    "#remaining constant during the process. How much does the internal energy of \n",
    "#the gs change?\n",
    "#initialisation of variables\n",
    "p= 15 \t\t\t\t\t\t\t\t#psia\n",
    "V2= 5 \t\t\t\t\t\t\t\t#cu\n",
    "V1= 10 \t\t\t\t\t\t\t\t#cu\n",
    "E= 34.7 \t\t\t\t\t\t\t#Btu\n",
    "#CALCULATIONS\n",
    "dE= -E-((p*(V2-V1)*144.)/(778.))\t#Change in internal energy\n",
    "#RESULTS\n",
    "print '%s %.2f' %('Change in internal energy of the gas (Btu) = ',dE)\n",
    "raw_input('press enter key to exit')"
   ]
  },
  {
   "cell_type": "markdown",
   "metadata": {
    "collapsed": true
   },
   "source": [
    "## Exa 5.2"
   ]
  },
  {
   "cell_type": "code",
   "execution_count": null,
   "metadata": {
    "collapsed": false
   },
   "outputs": [
    {
     "name": "stdout",
     "output_type": "stream",
     "text": [
      "Change in internal enenrgy (Btu) =  -50.00\n"
     ]
    }
   ],
   "source": [
    "#A stationary system of conctant volume experience a temperature rise of 35 F\n",
    "#when a certain process occurs. The heat transferred in the proccess is 34 btu. \n",
    "#The specific heat at constant volume for the pure substance in the system is\n",
    "# 1.2, and the system contains 2 lb of substance. Determine the internal \n",
    "#energy change and the work done?\n",
    "#initialisation of variables\n",
    "m= 2 \t\t\t#lb\n",
    "T2= 35 \t\t\t#F\n",
    "cv= 1.2 \t\t#Btu/lb F\n",
    "Q= 34 \t\t\t#Btu\n",
    "#CALCULATIONS\n",
    "U= m*cv*T2\t\t#Internal energy\n",
    "W= Q-U \t\t\t#Work done\n",
    "#RESULTS\n",
    "print '%s %.2f' %('Change in internal enenrgy (Btu) = ',W)\n",
    "raw_input('press enter key to exit')"
   ]
  },
  {
   "cell_type": "markdown",
   "metadata": {
    "collapsed": true
   },
   "source": [
    "## Exa 5.3"
   ]
  },
  {
   "cell_type": "code",
   "execution_count": 1,
   "metadata": {
    "collapsed": false
   },
   "outputs": [
    {
     "name": "stdout",
     "output_type": "stream",
     "text": [
      "From keenan and keyes steam tables\n",
      "The second method follows the same procedure hence the same calculations are used\n",
      "Change in internal enenrgy (Btu) =  670.96\n",
      "press enter key to exit\n"
     ]
    },
    {
     "data": {
      "text/plain": [
       "''"
      ]
     },
     "execution_count": 1,
     "metadata": {},
     "output_type": "execute_result"
    }
   ],
   "source": [
    "#In the steam tables,it is set forth that during the evaporation of 1 lb\n",
    "#of water at 500 psia and 467.01 F the V increases from 0.0197 to 0.9278,\n",
    "#while the enthalpy increases from 449.4 to 1204.4. How much work is done by\n",
    "#a stationary system consisting of 1 lb of water when, because of an inflow \n",
    "#heat, the system changes from liquid to vapor at 500 psia. How much does the\n",
    "#internal energy change?\n",
    "#initialisation of variables\n",
    "print  '%s' %('From keenan and keyes steam tables')\n",
    "p= 500 \t\t\t\t#psia\n",
    "V2= 0.9278 \t\t\t#cu ft/lb\n",
    "V1= 0.0197 \t\t\t#cu ft/lb\n",
    "h= 1204.4 \t\t\t#Btu/lb\n",
    "h1= 449.4 \t\t\t#Btu/lb\n",
    "#CALCULATIONS\n",
    "W= p*144*(V2-V1)\t#Work done\n",
    "U= h-h1-(W/778.) \t#Internal energy\n",
    "#RESULTS\n",
    "print '%s' %('The second method follows the same procedure hence the same calculations are used')\n",
    "print '%s %.2f' %('Change in internal enenrgy (Btu) = ',U)\n",
    "raw_input('press enter key to exit')"
   ]
  },
  {
   "cell_type": "markdown",
   "metadata": {
    "collapsed": true
   },
   "source": [
    "## Exa 5.4"
   ]
  },
  {
   "cell_type": "code",
   "execution_count": 3,
   "metadata": {
    "collapsed": false
   },
   "outputs": [
    {
     "name": "stdout",
     "output_type": "stream",
     "text": [
      "Change in internal enenrgy (Btu) =  -50.82\n",
      " \n",
      " Work done (Btu) =  529.37\n",
      " \n",
      " Heat generated (Btu) =  478.55\n",
      " \n",
      " Work done (Btu) =  80.82\n",
      "The answers given in the textbook are wrong.please calculate them personally.\n",
      "press enter key to exit\n"
     ]
    },
    {
     "data": {
      "text/plain": [
       "''"
      ]
     },
     "execution_count": 3,
     "metadata": {},
     "output_type": "execute_result"
    }
   ],
   "source": [
    "#The internal energy of a certain susbtance is given by u= 0.48pv + 35.\n",
    "#A system composed of 3 lb of this substance expands from an intial pressure\n",
    "#of 75 psia and volume of 6 to a final pressure of 15 psia in a process in \n",
    "#which pressure and volume are related by pv^1.2=c. \n",
    "#(a)If the expression is frictionless, determine Q, U and W for the process.\n",
    "#(b) In another proccess the same system again exmapns according to the same \n",
    "#initial state to the same final state as in part a but the heat in this case\n",
    "#is 30 btu. Find the work for this process\n",
    "import math\n",
    "#initialisation of variables\n",
    "m= 3 \t\t\t\t\t\t\t\t\t\t#lb\n",
    "V1= 6 \t\t\t\t\t\t\t\t\t\t#cu ft\n",
    "p1= 75. \t\t\t\t\t\t\t\t\t#psia\n",
    "p2= 15. \t\t\t\t\t\t\t\t\t#psia\n",
    "n= 1.2\n",
    "Q1= 30 \t\t\t\t\t\t\t\t\t\t#Btu\n",
    "#CALCULATIONS\n",
    "V2= V1*math.pow((p1/p2),(1/n)) \t\t\t\t#Final volume\n",
    "U= (m/3)*(0.480*p2*V2+35-0.480*p1*V1-35) \t#Internal energy\n",
    "W= (p2*V2-p1*V1)/(1-n) \t\t\t\t\t\t#Work done\n",
    "Q= U+W \t\t\t\t\t\t\t\t\t\t#Enthalpy\n",
    "W1= Q1-U \t\t\t\t\t\t\t\t\t#Work done in case 2\n",
    "#RESULTS\n",
    "print '%s %.2f' %('Change in internal enenrgy (Btu) = ',U)\n",
    "print '%s %.2f' %(' \\n Work done (Btu) = ',W)\n",
    "print '%s %.2f' %(' \\n Heat generated (Btu) = ',Q)\n",
    "print '%s %.2f' %(' \\n Work done (Btu) = ',W1)\n",
    "print '%s' %('The answers given in the textbook are wrong.please calculate them personally.')\n",
    "raw_input('press enter key to exit')"
   ]
  }
 ],
 "metadata": {
  "kernelspec": {
   "display_name": "Python 2",
   "language": "python",
   "name": "python2"
  },
  "language_info": {
   "codemirror_mode": {
    "name": "ipython",
    "version": 2
   },
   "file_extension": ".py",
   "mimetype": "text/x-python",
   "name": "python",
   "nbconvert_exporter": "python",
   "pygments_lexer": "ipython2",
   "version": "2.7.6"
  }
 },
 "nbformat": 4,
 "nbformat_minor": 0
}
