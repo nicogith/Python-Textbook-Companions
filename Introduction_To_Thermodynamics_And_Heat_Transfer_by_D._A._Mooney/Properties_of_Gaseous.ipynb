{
 "cells": [
  {
   "cell_type": "markdown",
   "metadata": {
    "collapsed": true
   },
   "source": [
    "# Chapter 12: Properties of Gaseous Mixtures"
   ]
  },
  {
   "cell_type": "markdown",
   "metadata": {
    "collapsed": true
   },
   "source": [
    "## Exa 12.1"
   ]
  },
  {
   "cell_type": "code",
   "execution_count": null,
   "metadata": {
    "collapsed": false
   },
   "outputs": [
    {
     "name": "stdout",
     "output_type": "stream",
     "text": [
      "relative humidity=  0.59\n",
      " \n",
      " specific humidity (lb vapour/lb air) =  0.0090\n"
     ]
    }
   ],
   "source": [
    "#In a dew point apparatus a metal beaer is cooled by gradually adding ice water\n",
    "#to the water initally in the beaker at room temp. The moisture from the room\n",
    "#circulating around the beaker beins to condense on the beaker when its temp\n",
    "#is 70 F and the pressure is 15 psia, find (1) the partial pressure of water\n",
    "#vapor in the room air and (2) the parts by mass of the same.\n",
    "#initialisation of variables\n",
    "P= 15.0 \t\t\t\t#psia\n",
    "T= 55 \t\t\t\t\t#F\n",
    "P1= 0.2141 \t\t\t\t#psia\n",
    "ma= 29. \t\t\t\t#lb\n",
    "mb= 18. \t\t\t\t#lb\n",
    "P2= 0.2141 \t\t\t\t#psia\n",
    "P3= 0.3631 \t\t\t\t#psia\n",
    "#CALCULATIONS\n",
    "dp= P-P1 \t\t\t\t#Change in pressure\n",
    "r= (dp*ma)/(P1*mb) \t\t#parts by mass\n",
    "r1= r/(r+1) \t\t\t#ratio\n",
    "r2= 1/(r+1) \t\t\t#ratio\n",
    "r4= r2/r1 \t\t\t\t#specific humidity\n",
    "P= P2/P3 \t\t\t\t#relative humidity\n",
    "#RESULTS\n",
    "print '%s %.2f' %('relative humidity= ',P)\n",
    "print '%s %.4f' %(' \\n specific humidity (lb vapour/lb air) = ',r4)\n",
    "raw_input('press enter key to exit')"
   ]
  },
  {
   "cell_type": "markdown",
   "metadata": {
    "collapsed": true
   },
   "source": [
    "## Exa 12.2"
   ]
  },
  {
   "cell_type": "code",
   "execution_count": 1,
   "metadata": {
    "collapsed": false
   },
   "outputs": [
    {
     "name": "stdout",
     "output_type": "stream",
     "text": [
      "Pounds of water vapour enter the furnance per pound of dry air (lb vapour/lb air) =  0.0163\n",
      "press enter key to exit\n"
     ]
    },
    {
     "data": {
      "text/plain": [
       "''"
      ]
     },
     "execution_count": 1,
     "metadata": {},
     "output_type": "execute_result"
    }
   ],
   "source": [
    "#Air supplied to a furnacce has RH 75%, T=80 F and P=10 in of water. The\n",
    "#barometer reads 29.5 in of mercury. How many pounds of water vapor enter\n",
    "#the furnace per pound of dry air?\n",
    "#initialisation of variables\n",
    "h= 29.5 \t\t\t\t#in\n",
    "n= 75.\n",
    "T= 80 \t\t\t\t\t#F\n",
    "h1= 10 \t\t\t\t\t#in\n",
    "mw= 0.380*18\n",
    "ma= 14.47*29\n",
    "d= 13.6 \t\t\t\t#kg/m^3\n",
    "P= 0.5069 \t\t\t\t#psi\n",
    "#CALCULATIONS\n",
    "Pw= (n/100.)*P \t\t\t#partial pressure\n",
    "P= (h+(h1/d))*(0.491) \t#Total pressure\n",
    "pa= P-Pw \t\t\t\t#partial pressure of air\n",
    "r= mw/ma \t\t\t\t# pounds of water\n",
    "#RESULTS\n",
    "print '%s %.4f' %('Pounds of water vapour enter the furnance per pound of dry air (lb vapour/lb air) = ',r)\n",
    "raw_input('press enter key to exit')"
   ]
  },
  {
   "cell_type": "markdown",
   "metadata": {
    "collapsed": true
   },
   "source": [
    "## Exa 12.3"
   ]
  },
  {
   "cell_type": "code",
   "execution_count": 2,
   "metadata": {
    "collapsed": false
   },
   "outputs": [
    {
     "name": "stdout",
     "output_type": "stream",
     "text": [
      "relative humidity (lb water/lb dry air) =  0.00923\n"
     ]
    }
   ],
   "source": [
    "#A mixture of air and water vapor at 75 F and 14.7 psia has RH 0.5; find its\n",
    "#specific humidity and its dew-point temp.?\n",
    "#initialisation of variables\n",
    "n= 0.5\n",
    "T= 75 \t\t\t#F\n",
    "P= 14.7 \t\t#psia\n",
    "pg= 0.4298 \t\t#psia\n",
    "pw= 0.2149 \t\t#psia\n",
    "#CALCULATIONS\n",
    "pw1= n*pg \t\t#partial pressure of water\n",
    "pa= P-pw1 \t\t#partial pressure of air\n",
    "r= 0.622*pw/pa \t#RH\n",
    "#RESULTS\n",
    "print '%s %.5f' %('relative humidity (lb water/lb dry air) = ',r)\n"
   ]
  },
  {
   "cell_type": "markdown",
   "metadata": {
    "collapsed": true
   },
   "source": [
    "## Exa 12.4"
   ]
  },
  {
   "cell_type": "code",
   "execution_count": 3,
   "metadata": {
    "collapsed": false
   },
   "outputs": [
    {
     "name": "stdout",
     "output_type": "stream",
     "text": [
      "Method 1\n",
      "\n",
      " In method 1, Enthalpy (Btu/lb of dry air) =  12.37\n",
      "\n",
      " Method 2\n",
      "In method 2, Enthalpy (btu/lb of dry air) =  12.38\n",
      "press enter key to exit\n"
     ]
    },
    {
     "data": {
      "text/plain": [
       "''"
      ]
     },
     "execution_count": 3,
     "metadata": {},
     "output_type": "execute_result"
    }
   ],
   "source": [
    "#In the process shown, the air is received at 1 atm, 40 F and Rh 60% and it is\n",
    "#desired to discharge it at 70 F, RH 50%. How much water at 45F must be supplied\n",
    "#per pound of dry air passing through the apparatus?\n",
    "#initialisation of variables\n",
    "r2= 0.0078 \t\t\t\t\t\t#lb water /lb dry air\n",
    "r1= 0.0032 \t\t\t\t\t\t#lb water /lb dry air\n",
    "h2= 25.33 \t\t\t\t\t\t#Btu/lb\n",
    "h1= 12.9 \t\t\t\t\t\t#Btu/lb\n",
    "pg= 0.1217 \t\t\t\t\t\t#psia\n",
    "p= 14.7 \t\t\t\t\t\t#psia\n",
    "h3= 13 \t\t\t\t\t\t\t#Btu/lb\n",
    "n= 60.\n",
    "t2=70.\n",
    "t1=40.\n",
    "cpa=0.240\n",
    "R2= 0.00788 \t\t\t\t\t#lb/lb of dry air\n",
    "w1= 0.00477 \t\t\t\t\t#lb/lb of dry air\n",
    "#CALCULATIONS\n",
    "print '%s' %('Method 1')\n",
    "w= r2-r1 \t\t\t\t\t\t#water to be supplied\n",
    "q= h2-h1-w*h3 \t\t\t\t\t#energy supplied\n",
    "print '%s %.2f' %('\\n In method 1, Enthalpy (Btu/lb of dry air) = ',q)\n",
    "print('\\n Method 2')\n",
    "R1= 0.622*(n/100.)*(pg/(p-pg))\t#Gamma 1 \n",
    "R2=0.00788\t\t\t\t\t\t#Gamma 2\n",
    "w2=R2-R1 \t\t\t\t\t\t#weight 2\n",
    "#All constants are obtained from steam tables\n",
    "Q=cpa*(t2-t1)+R2*(1092.6)-R1*(1079.6) -w2*h3\n",
    "print '%s %.2f' %('In method 2, Enthalpy (btu/lb of dry air) = ',Q)\n",
    "raw_input('press enter key to exit')"
   ]
  },
  {
   "cell_type": "markdown",
   "metadata": {
    "collapsed": true
   },
   "source": [
    "## Exa 12.5"
   ]
  },
  {
   "cell_type": "code",
   "execution_count": 4,
   "metadata": {
    "collapsed": false
   },
   "outputs": [
    {
     "name": "stdout",
     "output_type": "stream",
     "text": [
      "The mixture must be cooled to the dew point temperature (F) =  55.30\n",
      "Heat removed by the cooling coil (Btu/lb dry air)=  -8.87\n",
      "Heat supplied by the heating coil (Btu/lb dry air)=  3.63\n",
      "Fraction of heat removed in the coil =  0.46\n",
      "press enter key to exit\n"
     ]
    },
    {
     "data": {
      "text/plain": [
       "''"
      ]
     },
     "execution_count": 4,
     "metadata": {},
     "output_type": "execute_result"
    }
   ],
   "source": [
    "#Air at 1 am,75F,70% relative humidity is to be brought to 70 F and 60 % RH\n",
    "#. To what temp. must the mixture be cooled?How much heat must be removed by \n",
    "#the cooling coil and how much be supplied by the heatin coil per pound of dry\n",
    "#air?what fraction of the heat removed in the cooling coil is required to cool\n",
    "#and condense the water removed?\n",
    "#initialisation of variables\n",
    "P= 1. \t\t\t \t#atm\n",
    "n= 70.\n",
    "T= 75 \t\t\t\t#F\n",
    "T1= 70 \t\t\t\t#F\n",
    "Td=55.3 \t\t\t#F\n",
    "r1= 0.0131 \t\t\t#lb water/lb dry air\n",
    "r2= 0.0093 \t\t\t#lb water/lb dry air\n",
    "h1= 32.36 \t\t\t#Btu/lb dry air\n",
    "h2= 27.03 \t\t\t#Btu/lb dry air\n",
    "hd2= 23.40 \t\t\t#Btu/lb dry air\n",
    "hf= 23.4 \t\t\t#Btu/lb dry liquid\n",
    "hg= 1094.5 \t\t\t#Btu/lb dry liquid\n",
    "#CALCULATIONS\n",
    "R1= r1-r2\t\t\t#Gamma 1 \n",
    "Qc= hd2-h1+R1*hf \t#Cooling\n",
    "Qh= h2-hd2 \t\t\t#Heating\n",
    "x= R1*(hg-hf)  \t\t#Mole fraction\n",
    "y= x/(-Qc) \t\t\t#fraction of heat removed\n",
    "#RESULTS\n",
    "print '%s %.2f' %('The mixture must be cooled to the dew point temperature (F) = ',Td)\n",
    "print '%s %.2f' %('Heat removed by the cooling coil (Btu/lb dry air)= ',Qc)\n",
    "print '%s %.2f' %('Heat supplied by the heating coil (Btu/lb dry air)= ',Qh)\n",
    "print '%s %.2f' %('Fraction of heat removed in the coil = ',y)\n",
    "raw_input('press enter key to exit')"
   ]
  }
 ],
 "metadata": {
  "kernelspec": {
   "display_name": "Python 2",
   "language": "python",
   "name": "python2"
  },
  "language_info": {
   "codemirror_mode": {
    "name": "ipython",
    "version": 2
   },
   "file_extension": ".py",
   "mimetype": "text/x-python",
   "name": "python",
   "nbconvert_exporter": "python",
   "pygments_lexer": "ipython2",
   "version": "2.7.6"
  }
 },
 "nbformat": 4,
 "nbformat_minor": 0
}
