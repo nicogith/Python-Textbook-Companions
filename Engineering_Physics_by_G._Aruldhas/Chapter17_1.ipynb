{
 "metadata": {
  "name": "",
  "signature": "sha256:d4400dbe9ddae05e5ab81173c9df50e2e9dde25edf961941bd9c8dc15f5a6fe1"
 },
 "nbformat": 3,
 "nbformat_minor": 0,
 "worksheets": [
  {
   "cells": [
    {
     "cell_type": "heading",
     "level": 1,
     "metadata": {},
     "source": [
      "17: Ultrasonics"
     ]
    },
    {
     "cell_type": "heading",
     "level": 2,
     "metadata": {},
     "source": [
      "Example number 17.1, Page number 352"
     ]
    },
    {
     "cell_type": "code",
     "collapsed": false,
     "input": [
      "\n",
      "\n",
      "#importing modules\n",
      "import math\n",
      "from __future__ import division\n",
      "\n",
      "#Variable declaration\n",
      "f = 3;        #Fundamental vibrational frequency of quartz crystal(MHz)\n",
      "Y = 7.9*10**10;       #Young's modulus of quartz(N/m**2)\n",
      "rho = 2650;      #Density of quartz(kg/m**3)\n",
      "\n",
      "#Calculation\n",
      "f = f*10**6;    #Fundamental vibrational frequency of quartz crystal(Hz)\n",
      "l = 1/(2*f)*math.sqrt(Y/rho);    #Thickness of vibrating quartz at resonance(m)\n",
      "l = l*10**3;       #Thickness of vibrating quartz at resonance(mm)\n",
      "l = math.ceil(l*100)/100;     #rounding off the value of l to 2 decimals\n",
      "\n",
      "#Result\n",
      "print \"The thickness of vibrating quartz at resonance is\",l, \"mm\""
     ],
     "language": "python",
     "metadata": {},
     "outputs": [
      {
       "output_type": "stream",
       "stream": "stdout",
       "text": [
        "The thickness of vibrating quartz at resonance is 0.91 mm\n"
       ]
      }
     ],
     "prompt_number": 1
    },
    {
     "cell_type": "code",
     "collapsed": false,
     "input": [],
     "language": "python",
     "metadata": {},
     "outputs": []
    }
   ],
   "metadata": {}
  }
 ]
}