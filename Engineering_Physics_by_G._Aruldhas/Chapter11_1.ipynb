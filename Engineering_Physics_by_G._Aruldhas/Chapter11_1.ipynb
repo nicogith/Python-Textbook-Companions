{
 "metadata": {
  "name": "",
  "signature": "sha256:ecf05dc207884a73f4d33d07fdee310eee827214d9664476e0cf941cf4d4f512"
 },
 "nbformat": 3,
 "nbformat_minor": 0,
 "worksheets": [
  {
   "cells": [
    {
     "cell_type": "heading",
     "level": 1,
     "metadata": {},
     "source": [
      "11: Lasers"
     ]
    },
    {
     "cell_type": "heading",
     "level": 2,
     "metadata": {},
     "source": [
      "Example number 11.1, Page number 249"
     ]
    },
    {
     "cell_type": "code",
     "collapsed": false,
     "input": [
      "\n",
      "#importing modules\n",
      "import math\n",
      "from __future__ import division\n",
      "\n",
      "#Variable declaration\n",
      "h = 6.626*10**-34;     #Planck's constant(Js)\n",
      "c = 3*10**8;     #Speed of light in free space(m/s)\n",
      "k = 1.38*10**-23;     #Boltzmann constant(J/K)\n",
      "T = 300;     #Temperature at absolute scale(K)\n",
      "lamda1 = 5500;     #Wavelength of visible light(A)\n",
      "lamda2 = 10**-2;     #Wavelength of microwave(m)\n",
      "\n",
      "#Calculation\n",
      "lamda1 = lamda1*10**-10;     #Wavelength of visible light(m)\n",
      "rate_ratio = math.exp(h*c/(lamda1*k*T))-1;    #Ratio of spontaneous emission to stimulated emission\n",
      "rate_ratio1 = math.exp(h*c/(lamda2*k*T))-1;     #Ratio of spontaneous emission to stimulated emission\n",
      "rate_ratio1 = math.ceil(rate_ratio1*10**5)/10**5;     #rounding off the value of rate_ratio1 to 5 decimals\n",
      "\n",
      "#Result\n",
      "print \"The ratio of spontaneous emission to stimulated emission for visible region is\",rate_ratio\n",
      "print \"The ratio of spontaneous emission to stimulated emission for microwave region is\", rate_ratio1"
     ],
     "language": "python",
     "metadata": {},
     "outputs": [
      {
       "output_type": "stream",
       "stream": "stdout",
       "text": [
        "The ratio of spontaneous emission to stimulated emission for visible region is 8.19422217477e+37\n",
        "The ratio of spontaneous emission to stimulated emission for microwave region is 0.00482\n"
       ]
      }
     ],
     "prompt_number": 3
    },
    {
     "cell_type": "heading",
     "level": 2,
     "metadata": {},
     "source": [
      "Example number 11.2, Page number 250"
     ]
    },
    {
     "cell_type": "code",
     "collapsed": false,
     "input": [
      "\n",
      "\n",
      "#importing modules\n",
      "import math\n",
      "from __future__ import division\n",
      "\n",
      "#Variable declaration\n",
      "e = 1.6*10**-19;   #Energy equivalent of 1 eV(J/eV)\n",
      "h = 6.626*10**-34;    #Planck's constant(Js)\n",
      "c = 3*10**8;    #Speed of light in free space(m/s)\n",
      "lamda = 690;    #Wavelength of laser light(nm)\n",
      "E_lower = 30.5;    #Energy of lower state(eV)\n",
      "\n",
      "#Calculation\n",
      "lamda = lamda*10**-9;     #Wavelength of laser light(m)\n",
      "E = h*c/lamda;    #Energy of the laser light(J)\n",
      "E = E/e;     #Energy of the laser light(eV)\n",
      "E_ex = E_lower + E;    #Energy of excited state of laser system(eV)\n",
      "E_ex = math.ceil(E_ex*10**2)/10**2;     #rounding off the value of E_ex to 2 decimals\n",
      "\n",
      "#Result\n",
      "print \"The energy of excited state of laser system is\",E_ex, \"eV\""
     ],
     "language": "python",
     "metadata": {},
     "outputs": [
      {
       "output_type": "stream",
       "stream": "stdout",
       "text": [
        "The energy of excited state of laser system is 32.31 eV\n"
       ]
      }
     ],
     "prompt_number": 4
    },
    {
     "cell_type": "heading",
     "level": 2,
     "metadata": {},
     "source": [
      "Example number 11.3, Page number 250"
     ]
    },
    {
     "cell_type": "code",
     "collapsed": false,
     "input": [
      "\n",
      "#importing modules\n",
      "import math\n",
      "from __future__ import division\n",
      "import numpy as np\n",
      "\n",
      "#Variable declaration\n",
      "h = 6.626*10**-34;     #Planck's constant(Js)\n",
      "k = 1.38*10**-23;      #Boltzmann constant(J/K)\n",
      "\n",
      "#Calculation\n",
      "#Stimulated Emission = Spontaneous Emission <=> exp(h*f/(k*T))-1 = 1 i.e.\n",
      "#f/T = log(2)*k/h = A\n",
      "A =  np.log(2)*k/h;     #Frequency per unit temperature(Hz/K)\n",
      "A = A/10**10;\n",
      "A = math.ceil(A*10**3)/10**3;     #rounding off the value of A to 3 decimals\n",
      "\n",
      "#Result\n",
      "print \"The stimulated emission equals spontaneous emission iff f/T =\",A,\"*10**10 Hz/k\""
     ],
     "language": "python",
     "metadata": {},
     "outputs": [
      {
       "output_type": "stream",
       "stream": "stdout",
       "text": [
        "The stimulated emission equals spontaneous emission iff f/T = 1.444 *10**10 Hz/k\n"
       ]
      }
     ],
     "prompt_number": 7
    },
    {
     "cell_type": "heading",
     "level": 2,
     "metadata": {},
     "source": [
      "Example number 11.4, Page number 250"
     ]
    },
    {
     "cell_type": "code",
     "collapsed": false,
     "input": [
      "\n",
      "\n",
      "#importing modules\n",
      "import math\n",
      "from __future__ import division\n",
      "\n",
      "#Variable declaration\n",
      "lamda = 500;     #Wavelength of laser light(nm)\n",
      "f = 15;     #Focal length of the lens(cm)\n",
      "d = 2;      #Diameter of the aperture of source(cm)\n",
      "P = 5;      #Power of the laser(mW)\n",
      "\n",
      "#Calculation\n",
      "P =  P*10**-3;    #Power of the laser(W)\n",
      "lamda = lamda*10**-9;      #Wavelength of laser light(m)\n",
      "d = d*10**-2;      #Diameter of the aperture of source(m)\n",
      "f = f*10**-2;      #Focal length of the lens(m)\n",
      "a = d/2;    #Radius of the aperture of source(m)\n",
      "A = math.pi*lamda**2*f**2/a**2;     #Area of the spot at the focal plane, metre square\n",
      "I = P/A;     #Intensity at the focus(W/m**2)\n",
      "I = I/10**7;\n",
      "I = math.ceil(I*10**4)/10**4;     #rounding off the value of I to 1 decimal\n",
      "\n",
      "#Result\n",
      "print \"The area of the spot at the focal plane is\",A, \"m**2\"\n",
      "print \"The intensity at the focus is\",I,\"*10**7 W/m**2\""
     ],
     "language": "python",
     "metadata": {},
     "outputs": [
      {
       "output_type": "stream",
       "stream": "stdout",
       "text": [
        "The area of the spot at the focal plane is 1.76714586764e-10 m**2\n",
        "The intensity at the focus is 2.8295 *10**7 W/m**2\n"
       ]
      }
     ],
     "prompt_number": 14
    },
    {
     "cell_type": "heading",
     "level": 2,
     "metadata": {},
     "source": [
      "Example number 11.5, Page number 251"
     ]
    },
    {
     "cell_type": "code",
     "collapsed": false,
     "input": [
      "\n",
      "\n",
      "#importing modules\n",
      "import math\n",
      "from __future__ import division\n",
      "\n",
      "#Variable declaration\n",
      "h = 6.626*10**-34;     #Planck's constant(Js)\n",
      "c = 3*10**8;     #Speed of light in free space(m/s)\n",
      "lamda = 1064;    #Wavelength of laser light(nm)\n",
      "P = 0.8;    #Average power output per laser pulse(W)\n",
      "dt = 25;    #Pulse width of laser(ms)\n",
      "\n",
      "#Calculation\n",
      "dt = dt*10**-3;       #Pulse width of laser(s)\n",
      "lamda = lamda*10**-9;     #Wavelength of laser light(m)\n",
      "E = P*dt;   #Energy released per pulse(J)\n",
      "E1 = E*10**3;\n",
      "N = E/(h*c/lamda);    #Number of photons in a pulse\n",
      "\n",
      "#Result\n",
      "print \"The energy released per pulse is\",E1,\"*10**-3 J\"\n",
      "print \"The number of photons in a pulse is\", N\n"
     ],
     "language": "python",
     "metadata": {},
     "outputs": [
      {
       "output_type": "stream",
       "stream": "stdout",
       "text": [
        "The energy released per pulse is 20.0 *10**-3 J\n",
        "The number of photons in a pulse is 1.07053023443e+17\n"
       ]
      }
     ],
     "prompt_number": 17
    },
    {
     "cell_type": "heading",
     "level": 2,
     "metadata": {},
     "source": [
      "Example number 11.6, Page number 251"
     ]
    },
    {
     "cell_type": "code",
     "collapsed": false,
     "input": [
      "\n",
      "#importing modules\n",
      "import math\n",
      "from __future__ import division\n",
      "\n",
      "#Variable declaration\n",
      "lamda = 693;     #Wavelength of laser beam(nm)\n",
      "D = 3;       #Diameter of laser beam(mm)\n",
      "d = 300;    #Height of a satellite above the surface of earth(km)\n",
      "\n",
      "#Calculation\n",
      "D = D*10**-3;    #Diameter of laser beam(m)\n",
      "lamda = lamda*10**-9;     #Wavelength of laser beam(m)\n",
      "d = d*10**3;     #Height of a satellite above the surface of earth(m)\n",
      "d_theta = 1.22*lamda/D;    #Angular spread of laser beam(rad)\n",
      "dtheta = d_theta*10**4;\n",
      "dtheta = math.ceil(dtheta*10**2)/10**2;     #rounding off the value of dtheta to 2 decimals\n",
      "a = d_theta*d;      #Diameter of the beam on the satellite(m)\n",
      "a = math.ceil(a*10)/10;     #rounding off the value of a to 1 decimal\n",
      "\n",
      "#Result\n",
      "print \"The height of a satellite above the surface of earth is\",dtheta,\"*10**-4 rad\"\n",
      "print \"The diameter of the beam on the satellite is\",a, \"m\"\n"
     ],
     "language": "python",
     "metadata": {},
     "outputs": [
      {
       "output_type": "stream",
       "stream": "stdout",
       "text": [
        "The height of a satellite above the surface of earth is 2.82 *10**-4 rad\n",
        "The diameter of the beam on the satellite is 84.6 m\n"
       ]
      }
     ],
     "prompt_number": 25
    },
    {
     "cell_type": "code",
     "collapsed": false,
     "input": [],
     "language": "python",
     "metadata": {},
     "outputs": []
    }
   ],
   "metadata": {}
  }
 ]
}