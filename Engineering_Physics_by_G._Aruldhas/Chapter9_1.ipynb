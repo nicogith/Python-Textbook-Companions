{
 "metadata": {
  "name": "",
  "signature": "sha256:d58e11c98e937b7ff914fc9567035f99fc6ab344053f332f140829887d0ef6cc"
 },
 "nbformat": 3,
 "nbformat_minor": 0,
 "worksheets": [
  {
   "cells": [
    {
     "cell_type": "heading",
     "level": 1,
     "metadata": {},
     "source": [
      "9: Quantum Mechanics"
     ]
    },
    {
     "cell_type": "heading",
     "level": 2,
     "metadata": {},
     "source": [
      "Example number 9.1, Page number 202"
     ]
    },
    {
     "cell_type": "code",
     "collapsed": false,
     "input": [
      "\n",
      "\n",
      "#importing modules\n",
      "import math\n",
      "from __future__ import division\n",
      "\n",
      "#Variable declaration\n",
      "V = 100;     #Accelerating potential for electron(volt)\n",
      "\n",
      "#Calculation\n",
      "lamda = math.sqrt(150/V)*10**-10;     #de-Broglie wavelength of electron(m)\n",
      "\n",
      "#Result\n",
      "print \"The De-Broglie wavelength of electron is\",lamda, \"m\""
     ],
     "language": "python",
     "metadata": {},
     "outputs": [
      {
       "output_type": "stream",
       "stream": "stdout",
       "text": [
        "The De-Broglie wavelength of electron is 1.22474487139e-10 m\n"
       ]
      }
     ],
     "prompt_number": 1
    },
    {
     "cell_type": "heading",
     "level": 2,
     "metadata": {},
     "source": [
      "Example number 9.2, Page number 203"
     ]
    },
    {
     "cell_type": "code",
     "collapsed": false,
     "input": [
      "\n",
      "\n",
      "#importing modules\n",
      "import math\n",
      "from __future__ import division\n",
      "\n",
      "#Variable declaration\n",
      "e = 1.6*10**-19;     #Energy equivalent of 1 eV(J/eV)\n",
      "h = 6.626*10**-34;    #Planck's constant(Js)\n",
      "m = 9.11*10**-31;     #Mass of the electron(kg)\n",
      "Ek = 10;     #Kinetic energy of electron(eV)\n",
      "\n",
      "#Calculation\n",
      "p = math.sqrt(2*m*Ek*e);     #Momentum of the electron(kg-m/s)\n",
      "lamda = h/p ;     #de-Broglie wavelength of electron from De-Broglie relation(m)\n",
      "lamda = lamda*10**9;     #de-Broglie wavelength of electron from De-Broglie relation(nm)\n",
      "lamda = math.ceil(lamda*10**2)/10**2;     #rounding off the value of lamda to 2 decimals\n",
      "\n",
      "#Result\n",
      "print \"The de-Broglie wavelength of electron is\",lamda, \"nm\""
     ],
     "language": "python",
     "metadata": {},
     "outputs": [
      {
       "output_type": "stream",
       "stream": "stdout",
       "text": [
        "The de-Broglie wavelength of electron is 0.39 nm\n"
       ]
      }
     ],
     "prompt_number": 2
    },
    {
     "cell_type": "heading",
     "level": 2,
     "metadata": {},
     "source": [
      "Example number 9.3, Page number 203. theoritical proof"
     ]
    },
    {
     "cell_type": "heading",
     "level": 2,
     "metadata": {},
     "source": [
      "Example number 9.4, Page number 203"
     ]
    },
    {
     "cell_type": "code",
     "collapsed": false,
     "input": [
      "\n",
      "\n",
      "#importing modules\n",
      "import math\n",
      "from __future__ import division\n",
      "\n",
      "#Variable declaration\n",
      "h = 6.626*10**-34;      #Planck's constant(Js)\n",
      "m = 9.11*10**-31;       #Mass of the electron(kg)\n",
      "v = 1.1*10**6;     #Speed of the electron(m/s)\n",
      "pr = 0.1;        #precision in percent\n",
      "\n",
      "#Calculation\n",
      "p = m*v;     #Momentum of the electron(kg-m/s)\n",
      "dp = pr/100*p;    #Uncertainty in momentum(kg-m/s)\n",
      "h_bar = h/(2*math.pi);     #Reduced Planck's constant(Js)\n",
      "dx = h_bar/(2*dp);         #Uncertainty in position(m)\n",
      "\n",
      "#Result\n",
      "print \"The uncertainty in position of electron is\",dx, \"m\""
     ],
     "language": "python",
     "metadata": {},
     "outputs": [
      {
       "output_type": "stream",
       "stream": "stdout",
       "text": [
        "The uncertainty in position of electron is 5.26175358211e-08 m\n"
       ]
      }
     ],
     "prompt_number": 3
    },
    {
     "cell_type": "heading",
     "level": 2,
     "metadata": {},
     "source": [
      "Example number 9.5, Page number 203"
     ]
    },
    {
     "cell_type": "code",
     "collapsed": false,
     "input": [
      "\n",
      "\n",
      "#importing modules\n",
      "import math\n",
      "from __future__ import division\n",
      "\n",
      "#Variable declaration\n",
      "e = 1.6*10**-19;     #Energy equivalent of 1 eV(J/eV)\n",
      "h = 6.626*10**-34;    #Planck's constant(Js)\n",
      "dt = 10**-8;      #Uncertainty in time(s)\n",
      "\n",
      "#Calculation\n",
      "h_bar = h/(2*math.pi);    #Reduced Planck's constant(Js)\n",
      "dE = h_bar/(2*dt*e);       #Uncertainty in energy of the excited state(m)\n",
      "\n",
      "#Result\n",
      "print \"The uncertainty in energy of the excited state is\",dE, \"eV\"\n",
      "\n",
      "#answer given in the book is wrong"
     ],
     "language": "python",
     "metadata": {},
     "outputs": [
      {
       "output_type": "stream",
       "stream": "stdout",
       "text": [
        "The uncertainty in energy of the excited state is 3.2955020404e-08 eV\n"
       ]
      }
     ],
     "prompt_number": 4
    },
    {
     "cell_type": "heading",
     "level": 2,
     "metadata": {},
     "source": [
      "Example number 9.6, Page number 204"
     ]
    },
    {
     "cell_type": "code",
     "collapsed": false,
     "input": [
      "\n",
      "\n",
      "#importing modules\n",
      "import math\n",
      "from __future__ import division\n",
      "\n",
      "#Variable declaration\n",
      "c = 3*10**8;      #Speed of light(m/s)\n",
      "dt = 10**-8;      #Average lifetime(s)\n",
      "lamda = 400;    #Wavelength of spectral line(nm)\n",
      "\n",
      "#Calculation\n",
      "lamda = lamda*10**-9;      #Wavelength of spectral line(m)\n",
      "#From Heisenberg uncertainty principle,\n",
      "#dE = h_bar/(2*dt) and also dE = h*c/lambda^2*d_lambda, which give\n",
      "#h_bar/(2*dt) = h*c/lambda^2*d_lambda, solving for d_lambda\n",
      "d_lamda = (lamda**2)/(4*math.pi*c*dt);     #Width of spectral line(m)\n",
      "\n",
      "#Result\n",
      "print \"The width of spectral line is\",d_lamda, \"m\""
     ],
     "language": "python",
     "metadata": {},
     "outputs": [
      {
       "output_type": "stream",
       "stream": "stdout",
       "text": [
        "The width of spectral line is 4.24413181578e-15 m\n"
       ]
      }
     ],
     "prompt_number": 5
    },
    {
     "cell_type": "heading",
     "level": 2,
     "metadata": {},
     "source": [
      "Example number 9.7, Page number 204. theoritical proof"
     ]
    },
    {
     "cell_type": "heading",
     "level": 2,
     "metadata": {},
     "source": [
      "Example number 9.8, Page number 204. theoritical proof"
     ]
    },
    {
     "cell_type": "heading",
     "level": 2,
     "metadata": {},
     "source": [
      "Example number 9.9, Page number 205. theoritical proof"
     ]
    },
    {
     "cell_type": "heading",
     "level": 2,
     "metadata": {},
     "source": [
      "Example number 9.10, Page number 205. theoritical proof"
     ]
    },
    {
     "cell_type": "heading",
     "level": 2,
     "metadata": {},
     "source": [
      "Example number 9.11, Page number 205. theoritical proof"
     ]
    },
    {
     "cell_type": "heading",
     "level": 2,
     "metadata": {},
     "source": [
      "Example number 9.12, Page number 206. theoritical proof"
     ]
    },
    {
     "cell_type": "heading",
     "level": 2,
     "metadata": {},
     "source": [
      "Example number 9.13, Page number 206. theoritical proof "
     ]
    },
    {
     "cell_type": "heading",
     "level": 2,
     "metadata": {},
     "source": [
      "Example number 9.14, Page number 207"
     ]
    },
    {
     "cell_type": "code",
     "collapsed": false,
     "input": [
      "\n",
      "\n",
      "#importing modules\n",
      "import math\n",
      "from __future__ import division\n",
      "from scipy.integrate import quad\n",
      "\n",
      "#Variable declaration\n",
      "a = 2*10**-10;    # Width of 1D box(m)\n",
      "x1=0;    # Position of first extreme of the box(m)\n",
      "x2=1*10**-10;   # Position of second extreme of the box(m)\n",
      "\n",
      "#Calculation\n",
      "def intg(x):\n",
      "    return ((2/a)*(math.sin(2*math.pi*x/a))**2)\n",
      "S=quad(intg,x1,x2)[0]\n",
      "\n",
      "#Result\n",
      "print \"The probability of finding the electron between x = 0 and x = 10**-10 is\",S"
     ],
     "language": "python",
     "metadata": {},
     "outputs": [
      {
       "output_type": "stream",
       "stream": "stdout",
       "text": [
        "The probability of finding the electron between x = 0 and x = 10**-10 is 0.5\n"
       ]
      }
     ],
     "prompt_number": 7
    },
    {
     "cell_type": "code",
     "collapsed": false,
     "input": [],
     "language": "python",
     "metadata": {},
     "outputs": []
    }
   ],
   "metadata": {}
  }
 ]
}