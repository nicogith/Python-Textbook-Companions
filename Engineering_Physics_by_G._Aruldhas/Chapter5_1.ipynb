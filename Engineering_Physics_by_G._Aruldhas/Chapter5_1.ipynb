{
 "metadata": {
  "name": "",
  "signature": "sha256:d6b4557b658267af4573aff55394c33f7ae58a19c1bc5291838cb933f306de2e"
 },
 "nbformat": 3,
 "nbformat_minor": 0,
 "worksheets": [
  {
   "cells": [
    {
     "cell_type": "heading",
     "level": 1,
     "metadata": {},
     "source": [
      "5: Polarization"
     ]
    },
    {
     "cell_type": "heading",
     "level": 2,
     "metadata": {},
     "source": [
      "Example number 5.1, Page number 113"
     ]
    },
    {
     "cell_type": "code",
     "collapsed": false,
     "input": [
      "\n",
      "\n",
      "#importing modules\n",
      "from __future__ import division\n",
      "import math\n",
      "\n",
      "#Variable declaration\n",
      "mew_g = 1.72;    #Refractive index of glass\n",
      "mew_w = 4/3;      #Refractive index of water\n",
      "\n",
      "#Calculation\n",
      "#For polarization to occur on flint glass, tan(i) = mew_g/mew_w\n",
      "#Solving for i\n",
      "i_g = math.atan(mew_g/mew_w);      #angle of incidence for complete polarization for flint glass(rad)\n",
      "a = 180/math.pi;       #conversion factor from radians to degrees\n",
      "i_g = i_g*a;      #angle of incidence(degrees)\n",
      "i_g = math.ceil(i_g*10**2)/10**2;     #rounding off the value of i_g to 2 decimals\n",
      "#For polarization to occur on water, tan(i) = mew_w/mew_g\n",
      "#Solving for i\n",
      "i_w = math.atan(mew_w/mew_g);     #angle of incidence for complete polarization for water(rad)\n",
      "i_w = i_w*a;       #angle of incidence(degrees)\n",
      "i_w = math.ceil(i_w*10**3)/10**3;     #rounding off the value of i_w to 3 decimals\n",
      "\n",
      "#Result\n",
      "print \"The angle of incidence for complete polarization to occur on flint glass is\",i_g, \"degrees\"\n",
      "print \"The angle of incidence for complete polarization to occur on water is\",i_w, \"degrees\""
     ],
     "language": "python",
     "metadata": {},
     "outputs": [
      {
       "output_type": "stream",
       "stream": "stdout",
       "text": [
        "The angle of incidence for complete polarization to occur on flint glass is 52.22 degrees\n",
        "The angle of incidence for complete polarization to occur on water is 37.783 degrees\n"
       ]
      }
     ],
     "prompt_number": 5
    },
    {
     "cell_type": "heading",
     "level": 2,
     "metadata": {},
     "source": [
      "Example number 5.2, Page number 113"
     ]
    },
    {
     "cell_type": "code",
     "collapsed": false,
     "input": [
      "\n",
      "\n",
      "#importing modules\n",
      "from __future__ import division\n",
      "import math\n",
      "\n",
      "#Variable declaration\n",
      "I0 = 1;    #For simplicity, we assume the intensity of light falling on the second Nicol prism to be unity(W/m**2)\n",
      "theta = 30;    #Angle through which the crossed Nicol is rotated(degrees)\n",
      "\n",
      "#Calculation\n",
      "theeta = 90-theta;     #angle between the planes of transmission after rotating through 30 degrees\n",
      "a = math.pi/180;           #conversion factor from degrees to radians\n",
      "theeta = theeta*a;     ##angle between the planes of transmission(rad)\n",
      "I = I0*math.cos(theeta)**2;    #Intensity of the emerging light from second Nicol(W/m**2)\n",
      "T = (I/(2*I0))*100;    #Percentage transmission of incident light\n",
      "T = math.ceil(T*100)/100;     #rounding off the value of T to 2 decimals\n",
      "\n",
      "#Result\n",
      "print \"The percentage transmission of incident light after emerging through the Nicol prism is\",T, \"%\""
     ],
     "language": "python",
     "metadata": {},
     "outputs": [
      {
       "output_type": "stream",
       "stream": "stdout",
       "text": [
        "The percentage transmission of incident light after emerging through the Nicol prism is 12.51 %\n"
       ]
      }
     ],
     "prompt_number": 6
    },
    {
     "cell_type": "heading",
     "level": 2,
     "metadata": {},
     "source": [
      "Example number 5.3, Page number 113"
     ]
    },
    {
     "cell_type": "code",
     "collapsed": false,
     "input": [
      "\n",
      "\n",
      "#importing modules\n",
      "from __future__ import division\n",
      "import math\n",
      "\n",
      "#Variable declaration\n",
      "lamda = 6000;    #Wavelength of incident light(A)\n",
      "mew_e = 1.55;    #Refractive index of extraordinary ray\n",
      "mew_o = 1.54;     #Refractive index of ordinary ray\n",
      "\n",
      "#Calculation\n",
      "lamda = lamda*10**-8;      #Wavelength of incident light(cm)\n",
      "t = lamda/(4*(mew_e-mew_o));    #Thickness of Quarter Wave plate of positive crystal(cm)\n",
      "\n",
      "#Result\n",
      "print \"The thickness of Quarter Wave plate is\",t, \"cm\""
     ],
     "language": "python",
     "metadata": {},
     "outputs": [
      {
       "output_type": "stream",
       "stream": "stdout",
       "text": [
        "The thickness of Quarter Wave plate is 0.0015 cm\n"
       ]
      }
     ],
     "prompt_number": 7
    },
    {
     "cell_type": "heading",
     "level": 2,
     "metadata": {},
     "source": [
      "Example number 5.4, Page number 114"
     ]
    },
    {
     "cell_type": "code",
     "collapsed": false,
     "input": [
      "\n",
      "\n",
      "#Calculation\n",
      "#the thickness of a half wave plate of calcite for wavelength lamda is\n",
      "#t = lamda/(2*(mew_e - mew_o)) = (2*lamda)/(4*(mew_e - mew_o))\n",
      "\n",
      "#Result\n",
      "print \"The half wave plate for lamda will behave as a quarter wave plate for 2*lamda for negligible variation of refractive index with wavelength\""
     ],
     "language": "python",
     "metadata": {},
     "outputs": [
      {
       "output_type": "stream",
       "stream": "stdout",
       "text": [
        "The half wave plate for lamda will behave as a quarter wave plate for 2*lamda for negligible variation of refractive index with wavelength\n"
       ]
      }
     ],
     "prompt_number": 8
    },
    {
     "cell_type": "heading",
     "level": 2,
     "metadata": {},
     "source": [
      "Example number 5.5, Page number 114"
     ]
    },
    {
     "cell_type": "code",
     "collapsed": false,
     "input": [
      "\n",
      "#importing modules\n",
      "from __future__ import division\n",
      "import math\n",
      "\n",
      "#Variable declaration\n",
      "lamda = 500;    #Wavelength of incident light(nm)\n",
      "mew_e = 1.5508;    #Refractive index of extraordinary ray\n",
      "mew_o = 1.5418;     #Refractive index of ordinary ray\n",
      "t = 0.032;     #Thickness of quartz plate(mm)\n",
      "\n",
      "#Calculation\n",
      "lamda = lamda*10**-9;     #Wavelength of incident light(m)\n",
      "t = t*10**-3;     #Thickness of quartz plate(m)\n",
      "dx = (mew_e - mew_o)*t;    #Path difference between E-ray and O-ray(m)\n",
      "dphi = (2*math.pi)/lamda*dx;    #Phase retardation for quartz for given wavelength(rad)\n",
      "dphi = dphi/math.pi;\n",
      "\n",
      "#Result\n",
      "print \"The phase retardation for quartz for given wavelength is\",dphi, \"pi rad\""
     ],
     "language": "python",
     "metadata": {},
     "outputs": [
      {
       "output_type": "stream",
       "stream": "stdout",
       "text": [
        "The phase retardation for quartz for given wavelength is 1.152 pi rad\n"
       ]
      }
     ],
     "prompt_number": 9
    },
    {
     "cell_type": "heading",
     "level": 2,
     "metadata": {},
     "source": [
      "Example number 5.6, Page number 114"
     ]
    },
    {
     "cell_type": "code",
     "collapsed": false,
     "input": [
      "\n",
      "\n",
      "#importing modules\n",
      "import math\n",
      "\n",
      "#Variable declaration\n",
      "C = 52;    #Critical angle for total internal reflection(degrees)\n",
      "\n",
      "#Calculation\n",
      "a = math.pi/180;           #conversion factor from degrees to radians\n",
      "C = C*a;      #Critical angle for total internal reflection(rad)\n",
      "#From Brewster's law, math.tan(i_B) = 1_mew_2\n",
      "#Also math.sin(C) = 1_mew_2, so that math.tan(i_B) = math.sin(C), solving for i_B\n",
      "i_B = math.atan(math.sin(C));    #Brewster angle at the boundary(rad)\n",
      "b = 180/math.pi;           #conversion factor from radians to degrees\n",
      "i_B = i_B*b;     #Brewster angle at the boundary(degrees)\n",
      "\n",
      "#Result\n",
      "print \"The Brewster angle at the boundary between two materials is\",int(i_B), \"degrees\""
     ],
     "language": "python",
     "metadata": {},
     "outputs": [
      {
       "output_type": "stream",
       "stream": "stdout",
       "text": [
        "The Brewster angle at the boundary between two materials is 38 degrees\n"
       ]
      }
     ],
     "prompt_number": 13
    },
    {
     "cell_type": "code",
     "collapsed": false,
     "input": [],
     "language": "python",
     "metadata": {},
     "outputs": [],
     "prompt_number": 10
    }
   ],
   "metadata": {}
  }
 ]
}