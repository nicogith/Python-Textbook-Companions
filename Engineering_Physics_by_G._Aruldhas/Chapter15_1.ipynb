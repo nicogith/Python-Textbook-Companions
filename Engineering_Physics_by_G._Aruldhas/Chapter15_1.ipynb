{
 "metadata": {
  "name": "",
  "signature": "sha256:2292e5def6e87e01b63e6b748e8fe3955bb5676e5121c51dac319cd9531c4833"
 },
 "nbformat": 3,
 "nbformat_minor": 0,
 "worksheets": [
  {
   "cells": [
    {
     "cell_type": "heading",
     "level": 1,
     "metadata": {},
     "source": [
      "15: Thermal Properties "
     ]
    },
    {
     "cell_type": "heading",
     "level": 2,
     "metadata": {},
     "source": [
      "Example number 15.1, Page number 323"
     ]
    },
    {
     "cell_type": "code",
     "collapsed": false,
     "input": [
      "\n",
      "\n",
      "#importing modules\n",
      "import math\n",
      "from __future__ import division\n",
      "\n",
      "#Variable declaration\n",
      "k = 1.38*10**-23;      #Boltzmann constant(J/K)\n",
      "h = 6.626*10**-34;      #Planck's constant(Js)\n",
      "f_D = 64*10**11;         #Debye frequency for Al(Hz)\n",
      "\n",
      "#Calculation\n",
      "theta_D = h*f_D/k;     #Debye temperature(K)\n",
      "theta_D = math.ceil(theta_D*10)/10;     #rounding off the value of theta_D to 1 decimal\n",
      "\n",
      "#Result\n",
      "print \"The Debye temperature of aluminium is\",theta_D, \"K\""
     ],
     "language": "python",
     "metadata": {},
     "outputs": [
      {
       "output_type": "stream",
       "stream": "stdout",
       "text": [
        "The Debye temperature of aluminium is 307.3 K\n"
       ]
      }
     ],
     "prompt_number": 2
    },
    {
     "cell_type": "heading",
     "level": 2,
     "metadata": {},
     "source": [
      "Example number 15.2, Page number 323"
     ]
    },
    {
     "cell_type": "code",
     "collapsed": false,
     "input": [
      "\n",
      "\n",
      "#importing modules\n",
      "import math\n",
      "from __future__ import division\n",
      "\n",
      "#Variable declaration\n",
      "N = 6.02*10**26;    #Avogadro's number(per kmol)\n",
      "k = 1.38*10**-23;    #Boltzmann constant(J/K)\n",
      "h = 6.626*10**-34;    #Planck's constant(Js)\n",
      "f_D = 40.5*10**12;     #Debye frequency for Al(Hz)\n",
      "T = 30;        #Temperature of carbon(Ks)\n",
      "\n",
      "#Calculation\n",
      "theta_D = h*f_D/k;      #Debye temperature(K)\n",
      "C_l = 12/5*math.pi**4*N*k*(T/theta_D)**3;       #Lattice specific heat of carbon(J/k-mol/K)\n",
      "C_l = math.ceil(C_l*10**3)/10**3;     #rounding off the value of C_l to 3 decimals\n",
      "\n",
      "#Result\n",
      "print \"The lattice specific heat of carbon is\",C_l, \"J/k-mol/K\"\n",
      "\n",
      "#answer given in the book is wrong in the 2nd decimal"
     ],
     "language": "python",
     "metadata": {},
     "outputs": [
      {
       "output_type": "stream",
       "stream": "stdout",
       "text": [
        "The lattice specific heat of carbon is 7.132 J/k-mol/K\n"
       ]
      }
     ],
     "prompt_number": 3
    },
    {
     "cell_type": "heading",
     "level": 2,
     "metadata": {},
     "source": [
      "Example number 15.3, Page number 323"
     ]
    },
    {
     "cell_type": "code",
     "collapsed": false,
     "input": [
      "\n",
      "\n",
      "#importing modules\n",
      "import math\n",
      "from __future__ import division\n",
      "\n",
      "#Variable declaration\n",
      "k = 1.38*10**-23;       #Boltzmann constant(J/K)\n",
      "h = 6.626*10**-34;      #Planck's constant(Js)\n",
      "theta_E = 1990;        #Einstein temperature of Cu(K)\n",
      "\n",
      "#Calculation\n",
      "f_E = k*theta_E/h;     #Einstein frequency for Cu(K)\n",
      "\n",
      "#Result\n",
      "print \"The Einstein frequency for Cu is\",f_E, \"Hz\"\n",
      "print \"The frequency falls in the near infrared region\""
     ],
     "language": "python",
     "metadata": {},
     "outputs": [
      {
       "output_type": "stream",
       "stream": "stdout",
       "text": [
        "The Einstein frequency for Cu is 4.14458194989e+13 Hz\n",
        "The frequency falls in the near infrared region\n"
       ]
      }
     ],
     "prompt_number": 4
    },
    {
     "cell_type": "heading",
     "level": 2,
     "metadata": {},
     "source": [
      "Example number 15.4, Page number 323"
     ]
    },
    {
     "cell_type": "code",
     "collapsed": false,
     "input": [
      "\n",
      "\n",
      "#importing modules\n",
      "import math\n",
      "from __future__ import division\n",
      "\n",
      "#Variable declaration\n",
      "e = 1.6*10**-19;     #Energy equivalent of 1 eV(J/eV)\n",
      "N = 6.02*10**23;      #Avogadro's number(per mol)\n",
      "T = 0.05;       #Temperature of Cu(K)\n",
      "E_F = 7;       #Fermi energy of Cu(eV)\n",
      "k = 1.38*10**-23;     #Boltzmann constant(J/K)\n",
      "h = 6.626*10**-34;     #Planck's constant(Js)\n",
      "theta_D = 348;      #Debye temperature of Cu(K)\n",
      "\n",
      "#Calculation\n",
      "C_e = math.pi**2*N*k**2*T/(2*E_F*e);     #Electronic heat capacity of Cu(J/mol/K)\n",
      "C_V = (12/5)*math.pi**4*(N*k)*(T/theta_D)**3;      #Lattice heat capacity of Cu(J/mol/K)\n",
      "\n",
      "#Result\n",
      "print \"The electronic heat capacity of Cu is\",C_e, \"J/mol/K\"\n",
      "print \"The lattice heat capacity of Cu is\",C_V, \"J/mol/K\"\n",
      "\n",
      "#answer for lattice heat capacity given in the book is wrong"
     ],
     "language": "python",
     "metadata": {},
     "outputs": [
      {
       "output_type": "stream",
       "stream": "stdout",
       "text": [
        "The electronic heat capacity of Cu is 2.52566877726e-05 J/mol/K\n",
        "The lattice heat capacity of Cu is 5.76047891492e-09 J/mol/K\n"
       ]
      }
     ],
     "prompt_number": 5
    },
    {
     "cell_type": "heading",
     "level": 2,
     "metadata": {},
     "source": [
      "Example number 15.5, Page number 324"
     ]
    },
    {
     "cell_type": "code",
     "collapsed": false,
     "input": [
      "\n",
      "\n",
      "#importing modules\n",
      "import math\n",
      "from __future__ import division\n",
      "\n",
      "#Variable declaration\n",
      "T = 1;      #For simplicity assume temperature to be unity(K)\n",
      "R = 1;      #For simplicity assume molar gas constant to be unity(J/mol/K)\n",
      "theta_E = T;    #Einstein temperature(K)\n",
      "\n",
      "#Calculation\n",
      "C_V = 3*R*(theta_E/T)**2*math.exp(theta_E/T)/(math.exp(theta_E/T)-1)**2;    #Einstein lattice specific heat(J/mol/K)\n",
      "C_V = C_V/3;\n",
      "C_V = math.ceil(C_V*10**3)/10**3;     #rounding off the value of C_V to 3 decimals\n",
      "\n",
      "#Result\n",
      "print \"The Einstein lattice specific heat is\",C_V, \"X 3R\""
     ],
     "language": "python",
     "metadata": {},
     "outputs": [
      {
       "output_type": "stream",
       "stream": "stdout",
       "text": [
        "The Einstein lattice specific heat is 0.921 X 3R\n"
       ]
      }
     ],
     "prompt_number": 6
    },
    {
     "cell_type": "heading",
     "level": 2,
     "metadata": {},
     "source": [
      "Example number 15.6, Page number 324"
     ]
    },
    {
     "cell_type": "code",
     "collapsed": false,
     "input": [
      "\n",
      "\n",
      "#importing modules\n",
      "import math\n",
      "from __future__ import division\n",
      "\n",
      "#Variable declaration\n",
      "e = 1.6*10**-19;      #Energy equivalent of 1 eV(J/eV)\n",
      "v = 2;     #Valency of Zn atom\n",
      "N = v*6.02*10**23;      #Avogadro's number(per mol)\n",
      "T = 300;     #Temperature of Zn(K)\n",
      "E_F = 9.38;     #Fermi energy of Zn(eV)\n",
      "k = 1.38*10**-23;    #Boltzmann constant(J/K)\n",
      "h = 6.626*10**-34;    #Planck's constant(Js)\n",
      "\n",
      "#Calculation\n",
      "N = v*6.02*10**23;      #Avogadro's number(per mol)\n",
      "C_e = math.pi**2*N*k**2*T/(2*E_F*e);    #Electronic heat capacity of Zn(J/mol/K)\n",
      "C_e = math.ceil(C_e*10**4)/10**4;     #rounding off the value of C_e to 4 decimals\n",
      "\n",
      "#Result\n",
      "print \"The molar electronic heat capacity of zinc is\",C_e, \"J/mol/K\""
     ],
     "language": "python",
     "metadata": {},
     "outputs": [
      {
       "output_type": "stream",
       "stream": "stdout",
       "text": [
        "The molar electronic heat capacity of zinc is 0.2262 J/mol/K\n"
       ]
      }
     ],
     "prompt_number": 8
    },
    {
     "cell_type": "code",
     "collapsed": false,
     "input": [],
     "language": "python",
     "metadata": {},
     "outputs": []
    }
   ],
   "metadata": {}
  }
 ]
}