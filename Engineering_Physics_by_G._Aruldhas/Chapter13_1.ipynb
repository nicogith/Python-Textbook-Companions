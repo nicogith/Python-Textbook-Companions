{
 "metadata": {
  "name": "",
  "signature": "sha256:23fe0a698ddd73a9b73b082e06aebc62f797877523bf19c5324fc5a8330a2aa8"
 },
 "nbformat": 3,
 "nbformat_minor": 0,
 "worksheets": [
  {
   "cells": [
    {
     "cell_type": "heading",
     "level": 1,
     "metadata": {},
     "source": [
      "13: Dielectric Properties of Materials"
     ]
    },
    {
     "cell_type": "heading",
     "level": 2,
     "metadata": {},
     "source": [
      "Example number 13.1, Page number 287"
     ]
    },
    {
     "cell_type": "code",
     "collapsed": false,
     "input": [
      "\n",
      "#importing modules\n",
      "import math\n",
      "\n",
      "#Variable declaration\n",
      "epsilon_0 = 8.85*10**-12;    #Absolute electrical permittivity of free space(F/m)\n",
      "R = 0.52;       #Radius of hydrogen atom(A)\n",
      "n = 9.7*10**26;      #Number density of hydrogen(per metre cube)\n",
      "\n",
      "#Calculation\n",
      "R = R*10**-10;       #Radius of hydrogen atom(m)\n",
      "alpha_e = 4*math.pi*epsilon_0*R**3;      #Electronic polarizability of hydrogen atom(Fm**2)\n",
      "\n",
      "#Result\n",
      "print \"The electronic polarizability of hydrogen atom is\", alpha_e, \"Fm**2\""
     ],
     "language": "python",
     "metadata": {},
     "outputs": [
      {
       "output_type": "stream",
       "stream": "stdout",
       "text": [
        "The electronic polarizability of hydrogen atom is 1.56373503182e-41 Fm**2\n"
       ]
      }
     ],
     "prompt_number": 1
    },
    {
     "cell_type": "heading",
     "level": 2,
     "metadata": {},
     "source": [
      "Example number 13.2, Page number 287"
     ]
    },
    {
     "cell_type": "code",
     "collapsed": false,
     "input": [
      "\n",
      "\n",
      "#importing modules\n",
      "import math\n",
      "from __future__ import division\n",
      "\n",
      "#Variable declaration\n",
      "epsilon_0 = 8.854*10**-12;    #Absolute electrical permittivity of free space(F/m)\n",
      "A = 100;      #Area of a plate of parallel plate capacitor(cm**2)\n",
      "d = 1;     #Distance between the plates of the capacitor(cm)\n",
      "V = 100;    #Potential applied to the plates of the capacitor(V)\n",
      "\n",
      "#Calculation\n",
      "A= A*10**-4;     #Area of a plate of parallel plate capacitor(m**2)\n",
      "d = d*10**-2;     #Distance between the plates of the capacitor(m)\n",
      "C = epsilon_0*A/d;     #Capacitance of parallel plate capacitor(F)\n",
      "Q = C*V;      #Charge on the plates of the capacitor(C)\n",
      "\n",
      "#Result\n",
      "print \"The capacitance of parallel plate capacitor is\",C, \"F\"\n",
      "print \"The charge on the plates of the capacitor is\",Q, \"C\"\n"
     ],
     "language": "python",
     "metadata": {},
     "outputs": [
      {
       "output_type": "stream",
       "stream": "stdout",
       "text": [
        "The capacitance of parallel plate capacitor is 8.854e-12 F\n",
        "The charge on the plates of the capacitor is 8.854e-10 C\n"
       ]
      }
     ],
     "prompt_number": 2
    },
    {
     "cell_type": "heading",
     "level": 2,
     "metadata": {},
     "source": [
      "Example number 13.3, Page number 288"
     ]
    },
    {
     "cell_type": "code",
     "collapsed": false,
     "input": [
      "\n",
      "\n",
      "#importing modules\n",
      "import math\n",
      "from __future__ import division\n",
      "\n",
      "#Variable declaration\n",
      "epsilon_0 = 8.854*10**-12;     #Absolute electrical permittivity of free space(F/m)\n",
      "epsilon_r = 5.0;     #Dielectric constant of the material between the plates of capacitor\n",
      "V = 15;      #Potential difference applied between the plates of the capacitor(V)\n",
      "d = 1.5;     #Separation between the plates of the capacitor(mm)\n",
      "\n",
      "#Calculation\n",
      "d = d*10**-3;      #Separation between the plates of the capacitor(m)\n",
      "#Electric displacement, D = epsilon_0*epsilon_r*E, as E = V/d, so \n",
      "D = epsilon_0*epsilon_r*V/d;      #Dielectric displacement(C/m**2)\n",
      "\n",
      "#Result\n",
      "print \"The dielectric displacement is\",D, \"C/m**2\""
     ],
     "language": "python",
     "metadata": {},
     "outputs": [
      {
       "output_type": "stream",
       "stream": "stdout",
       "text": [
        "The dielectric displacement is 4.427e-07 C/m**2\n"
       ]
      }
     ],
     "prompt_number": 3
    },
    {
     "cell_type": "heading",
     "level": 2,
     "metadata": {},
     "source": [
      "Example number 13.4, Page number 288"
     ]
    },
    {
     "cell_type": "code",
     "collapsed": false,
     "input": [
      "\n",
      "\n",
      "#importing modules\n",
      "import math\n",
      "from __future__ import division\n",
      "\n",
      "#Variable declaration\n",
      "epsilon_0 = 8.854*10**-12;      #Absolute electrical permittivity of free space(F/m)\n",
      "N = 3*10**28;       #Number density of solid elemental dielectric(atoms/metre cube)\n",
      "alpha_e = 10**-40;      #Electronic polarizability(Fm**2)\n",
      "\n",
      "#Calculation\n",
      "epsilon_r = 1 + (N*alpha_e/epsilon_0);      #Relative dielectric constant of the material\n",
      "epsilon_r = math.ceil(epsilon_r*10**3)/10**3;     #rounding off the value of epsilon_r to 3 decimals\n",
      "\n",
      "#Result\n",
      "print \"The Relative dielectric constant of the material is\",epsilon_r\n"
     ],
     "language": "python",
     "metadata": {},
     "outputs": [
      {
       "output_type": "stream",
       "stream": "stdout",
       "text": [
        "The Relative dielectric constant of the material is 1.339\n"
       ]
      }
     ],
     "prompt_number": 5
    },
    {
     "cell_type": "heading",
     "level": 2,
     "metadata": {},
     "source": [
      "Example number 13.5, Page number 288"
     ]
    },
    {
     "cell_type": "code",
     "collapsed": false,
     "input": [
      "\n",
      "#importing modules\n",
      "import math\n",
      "from __future__ import division\n",
      "\n",
      "#Variable declaration\n",
      "N_A = 6.02*10**23;     #Avogadro's number(per mole)\n",
      "epsilon_0 = 8.854*10**-12;     #Absolute electrical permittivity of free space(F/m)\n",
      "epsilon_r = 3.75;      #Relative dielectric constant\n",
      "d = 2050;      #Density of sulphur(kg/metre cube)\n",
      "y = 1/3;      #Internal field constant\n",
      "M = 32;      #Atomic weight of sulphur(g/mol)\n",
      "\n",
      "#Calculation\n",
      "N = N_A*10**3*d/M;      #Number density of atoms of sulphur(per metre cube)\n",
      "#Lorentz relation for local fields give E_local = E + P/(3*epsilon_0) which gives\n",
      "#(epsilon_r - 1)/(epsilon_r + 2) = N*alpha_e/(3*epsilon_0), solving for alpha_e\n",
      "alpha_e = (epsilon_r - 1)/(epsilon_r + 2)*3*epsilon_0/N;      #Electronic polarizability of sulphur(Fm**2)\n",
      "\n",
      "#Result\n",
      "print \"The electronic polarizability of sulphur is\",alpha_e, \"Fm**2\""
     ],
     "language": "python",
     "metadata": {},
     "outputs": [
      {
       "output_type": "stream",
       "stream": "stdout",
       "text": [
        "The electronic polarizability of sulphur is 3.2940125351e-40 Fm**2\n"
       ]
      }
     ],
     "prompt_number": 6
    },
    {
     "cell_type": "heading",
     "level": 2,
     "metadata": {},
     "source": [
      "Example number 13.6, Page number 289"
     ]
    },
    {
     "cell_type": "code",
     "collapsed": false,
     "input": [
      "\n",
      "#importing modules\n",
      "import math\n",
      "from __future__ import division\n",
      "\n",
      "#Variable declaration\n",
      "N = 3*10**28;      #Number density of atoms of dielectric material(per metre cube)\n",
      "epsilon_0 = 8.854*10**-12;     #Absolute electrical permittivity of free space(F/m)\n",
      "n = 1.6;     #Refractive index of dielectric material\n",
      "\n",
      "#Calculation\n",
      "#As (n^2 - 1)/(n^2 + 2) = N*alpha_e/(3*epsilon_0), solving for alpha_e\n",
      "alpha_e = (n**2 - 1)/(n**2 + 2)*3*epsilon_0/N;      #Electronic polarizability of dielectric material(Fm**2)\n",
      "\n",
      "#Result\n",
      "print \"The electronic polarizability of dielectric material is\",alpha_e, \"Fm**2\""
     ],
     "language": "python",
     "metadata": {},
     "outputs": [
      {
       "output_type": "stream",
       "stream": "stdout",
       "text": [
        "The electronic polarizability of dielectric material is 3.029e-40 Fm**2\n"
       ]
      }
     ],
     "prompt_number": 8
    },
    {
     "cell_type": "heading",
     "level": 2,
     "metadata": {},
     "source": [
      "Example number 13.7, Page number 289"
     ]
    },
    {
     "cell_type": "code",
     "collapsed": false,
     "input": [
      "\n",
      "\n",
      "#importing modules\n",
      "import math\n",
      "from __future__ import division\n",
      "\n",
      "#Variable declaration\n",
      "epsilon_r = 4.9;       #Absolute relative dielectric constant of material(F/m)\n",
      "n = 1.6;       #Refractive index of dielectric material\n",
      "\n",
      "#Calculation\n",
      "#As (n^2 - 1)/(n^2 + 2)*(alpha_e + alpha_i)/alpha_e = N*(alpha_e + alpha_i)/(3*epsilon_0) = (epsilon_r - 1)/(epsilon_r + 2)\n",
      "#let alpha_ratio = alpha_i/alpha_e\n",
      "alpha_ratio = ((epsilon_r - 1)/(epsilon_r + 2)*(n**2 + 2)/(n**2 - 1) - 1)**(-1);  #Ratio of electronic polarizability to ionic polarizability\n",
      "alpha_ratio = math.ceil(alpha_ratio*10**3)/10**3;     #rounding off the value of alpha_ratio to 3 decimals\n",
      "\n",
      "#Result\n",
      "print \"The ratio of electronic polarizability to ionic polarizability is\",alpha_ratio"
     ],
     "language": "python",
     "metadata": {},
     "outputs": [
      {
       "output_type": "stream",
       "stream": "stdout",
       "text": [
        "The ratio of electronic polarizability to ionic polarizability is 1.534\n"
       ]
      }
     ],
     "prompt_number": 9
    },
    {
     "cell_type": "code",
     "collapsed": false,
     "input": [],
     "language": "python",
     "metadata": {},
     "outputs": []
    }
   ],
   "metadata": {}
  }
 ]
}