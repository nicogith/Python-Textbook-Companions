{
 "metadata": {
  "name": "",
  "signature": "sha256:396480b86092e159711151589922125e5821f00167a65ea8819e3cd4725bf191"
 },
 "nbformat": 3,
 "nbformat_minor": 0,
 "worksheets": [
  {
   "cells": [
    {
     "cell_type": "heading",
     "level": 1,
     "metadata": {},
     "source": [
      "14: Magnetic Properties of Materials"
     ]
    },
    {
     "cell_type": "heading",
     "level": 2,
     "metadata": {},
     "source": [
      "Example number 14.1, Page number 306"
     ]
    },
    {
     "cell_type": "code",
     "collapsed": false,
     "input": [
      "\n",
      "\n",
      "#importing modules\n",
      "import math\n",
      "from __future__ import division\n",
      "\n",
      "#Variable declaration\n",
      "N = 6.02*10**23;      #Avogadro's number(per mole)\n",
      "A = 56;      #Atomic weight of the substance(g/mole)\n",
      "d = 7.9;     #Density of the substance(g/cm**3)\n",
      "m_B = 9.27*10**-24;     #Bohr's Magneton(J/T)\n",
      "\n",
      "#Calculation\n",
      "m = 2.2*m_B;       #Magnetic moment of substance(J/T)\n",
      "n = d*N/A ;      #Number of atoms per unit volume of the substance(per cm**3)\n",
      "n = n*10**6;     #Number of atoms per unit volume of the substance(per m**3)\n",
      "M = n*m;         #Spontaneous magnetisation of the substance(A/m)\n",
      "M = M/10**6;\n",
      "M = math.ceil(M*10**3)/10**3;     #rounding off the value of M to 3 decimals\n",
      "\n",
      "#Result\n",
      "print \"The spontaneous magnetisation of the substance is\",M,\"*10**6 A/m\""
     ],
     "language": "python",
     "metadata": {},
     "outputs": [
      {
       "output_type": "stream",
       "stream": "stdout",
       "text": [
        "The spontaneous magnetisation of the substance is 1.732 *10**6 A/m\n"
       ]
      }
     ],
     "prompt_number": 5
    },
    {
     "cell_type": "heading",
     "level": 2,
     "metadata": {},
     "source": [
      "Example number 14.2, Page number 307"
     ]
    },
    {
     "cell_type": "code",
     "collapsed": false,
     "input": [
      "\n",
      "\n",
      "#importing modules\n",
      "import math\n",
      "from __future__ import division\n",
      "\n",
      "#Variable declaration\n",
      "H = 200;        #Field strength to which the ferromagnetic material is subjected(A/m)\n",
      "M = 3100;       #Magnetisation of the ferromagnetic material(A/m)\n",
      "\n",
      "#Calculation\n",
      "chi = M/H;      #Magnetic susceptibility\n",
      "mew_r = 1 + chi;    #Relative permeability of ferromagnetic material\n",
      "\n",
      "#Result\n",
      "print \"The relative permeability of ferromagnetic material is\",mew_r"
     ],
     "language": "python",
     "metadata": {},
     "outputs": [
      {
       "output_type": "stream",
       "stream": "stdout",
       "text": [
        "The relative permeability of ferromagnetic material is 16.5\n"
       ]
      }
     ],
     "prompt_number": 6
    },
    {
     "cell_type": "heading",
     "level": 2,
     "metadata": {},
     "source": [
      "Example number 14.3, Page number 307"
     ]
    },
    {
     "cell_type": "code",
     "collapsed": false,
     "input": [
      "\n",
      "\n",
      "#importing modules\n",
      "import math\n",
      "from __future__ import division\n",
      "\n",
      "#Variable declaration\n",
      "H = 300;        #Field strength to which the ferromagnetic material is subjected(A/m)\n",
      "M = 4400;       #Magnetisation of the ferromagnetic material(A/m)\n",
      "\n",
      "#Calculation\n",
      "chi = M/H;      #Magnetic susceptibility\n",
      "mew_r = 1 + chi;    #Relative permeability of ferromagnetic material\n",
      "mew_r = math.ceil(mew_r*100)/100;     #rounding off the value of mew_r to 2 decimals\n",
      "\n",
      "#Result\n",
      "print \"The relative permeability of ferromagnetic material is\",mew_r\n"
     ],
     "language": "python",
     "metadata": {},
     "outputs": [
      {
       "output_type": "stream",
       "stream": "stdout",
       "text": [
        "The relative permeability of ferromagnetic material is 15.67\n"
       ]
      }
     ],
     "prompt_number": 7
    },
    {
     "cell_type": "heading",
     "level": 2,
     "metadata": {},
     "source": [
      "Example number 14.4, Page number 307"
     ]
    },
    {
     "cell_type": "code",
     "collapsed": false,
     "input": [
      "\n",
      "\n",
      "#importing modules\n",
      "import math\n",
      "\n",
      "#Variable declaration\n",
      "mew_0 = 4*math.pi*10**-7;       #Magnetic permeability of free space(Tm/A)\n",
      "H = 10000;         #Field strength to which the diamagnetic material is subjected(A/m)\n",
      "chi = -0.4*10**-5;       #Magnetic susceptibility\n",
      "\n",
      "#Calculation\n",
      "M = chi*H;        #Magnetisation of the diamagnetic material(A/m)\n",
      "B = mew_0*(H + M);      #Magnetic flux density of diamagnetic material(T)\n",
      "B = math.ceil(B*10**4)/10**4;     #rounding off the value of B to 4 decimals\n",
      "\n",
      "#Result\n",
      "print \"The magnetisation of diamagnetic material is\",M, \"A/m\"\n",
      "print \"The magnetic flux density of diamagnetic material is\",B, \"T\""
     ],
     "language": "python",
     "metadata": {},
     "outputs": [
      {
       "output_type": "stream",
       "stream": "stdout",
       "text": [
        "The magnetisation of diamagnetic material is -0.04 A/m\n",
        "The magnetic flux density of diamagnetic material is 0.0126 T\n"
       ]
      }
     ],
     "prompt_number": 8
    },
    {
     "cell_type": "heading",
     "level": 2,
     "metadata": {},
     "source": [
      "Example number 14.5, Page number 307"
     ]
    },
    {
     "cell_type": "code",
     "collapsed": false,
     "input": [
      "\n",
      "\n",
      "#importing modules\n",
      "import math\n",
      "from __future__ import division\n",
      "\n",
      "#Variable declaration\n",
      "mew_0 = 4*math.pi*10**-7;      #Magnetic permeability of free space(Tm/A)\n",
      "H = 1.2*10**5;      #Field strength to which the diamagnetic material is subjected(A/m)\n",
      "chi = -4.2*10**-6;      #Magnetic susceptibility\n",
      "\n",
      "#Calculation\n",
      "M = chi*H;      #Magnetisation of the diamagnetic material(A/m)\n",
      "B = mew_0*(H + M);     #Magnetic flux density of diamagnetic material(T)\n",
      "B = math.ceil(B*10**3)/10**3;     #rounding off the value of B to 3 decimals\n",
      "mew_r = M/H + 1;       #The relative permeability of diamagnetic material\n",
      "mew_r = math.ceil(mew_r*10**6)/10**6;     #rounding off the value of mew_r to 6 decimals\n",
      "\n",
      "#Result\n",
      "print \"The magnetisation of diamagnetic material is\",M, \"A/m\"\n",
      "print \"The magnetic flux density of diamagnetic material is\",B, \"T\"\n",
      "print \"The relative permeability of diamagnetic material is\",mew_r\n"
     ],
     "language": "python",
     "metadata": {},
     "outputs": [
      {
       "output_type": "stream",
       "stream": "stdout",
       "text": [
        "The magnetisation of diamagnetic material is -0.504 A/m\n",
        "The magnetic flux density of diamagnetic material is 0.151 T\n",
        "The relative permeability of diamagnetic material is 0.999996\n"
       ]
      }
     ],
     "prompt_number": 10
    },
    {
     "cell_type": "heading",
     "level": 2,
     "metadata": {},
     "source": [
      "Example number 14.6, Page number 308"
     ]
    },
    {
     "cell_type": "code",
     "collapsed": false,
     "input": [
      "\n",
      "\n",
      "#importing modules\n",
      "import math\n",
      "from __future__ import division\n",
      "\n",
      "#Variable declaration\n",
      "chi = 5.6*10**-6;      #Magnetic susceptibility of diamagnetic material\n",
      "m = 9.1*10**-31;      #Mass of an electron(kg)\n",
      "mew_0 = 4*math.pi*10**-7;      #Magnetic permeability of free space(Tm/A)\n",
      "Z = 1;      #Atomic number\n",
      "e = 1.6*10**-19;     #Electronic charge(C)\n",
      "a = 2.53;     #Lattice parameter of bcc structure(A)\n",
      "\n",
      "#Calculation\n",
      "a = a*10**-10;    #Lattice parameter of bcc structure(m)\n",
      "N = 2/a**3;       #The number of electrons per unit volume(per metre cube)\n",
      "r = math.sqrt(chi*6*m/(mew_0*Z*e**2*N));    #Mean radius of body centered cubic structure(m)\n",
      "r = r*10**10;      #Mean radius of body centered cubic structure(A)\n",
      "r = math.ceil(r*100)/100;     #rounding off the value of r to 2 decimals\n",
      "\n",
      "#Result\n",
      "print \"The mean radius of body centered cubic structure is\",r, \"A\""
     ],
     "language": "python",
     "metadata": {},
     "outputs": [
      {
       "output_type": "stream",
       "stream": "stdout",
       "text": [
        "The mean radius of body centered cubic structure is 0.88 A\n"
       ]
      }
     ],
     "prompt_number": 11
    },
    {
     "cell_type": "heading",
     "level": 2,
     "metadata": {},
     "source": [
      "Example number 14.7, Page number 308"
     ]
    },
    {
     "cell_type": "code",
     "collapsed": false,
     "input": [
      "\n",
      "#importing modules\n",
      "import math\n",
      "from __future__ import division\n",
      "\n",
      "#Variable declaration\n",
      "mew_0 = 4*math.pi*10**-7;     #Magnetic permeability of free space(Tm/A)\n",
      "N_A = 6.02*10**26;       #Avogadro's number(per kmol)\n",
      "rho = 4370;       #Density of paramegnetic salt(kg/metre cube)\n",
      "M = 168.5;      #Molecular weight of paramagnetic salt(g/mol)\n",
      "T = 27;     #Temperature of paramagnetic salt(C)\n",
      "H = 2*10**5;     #Field strength to which the  paramagnetic salt is subjected(A/m)\n",
      "mew_B = 9.27*10**-24;      #Bohr's magneton(Am**2)\n",
      "p = 2;          #Number of Bohr magnetons per molecule\n",
      "k = 1.38*10**-23;      #Boltzmann constant(J/K)\n",
      "\n",
      "#Calculation\n",
      "T = T+273;     #Temperature of paramagnetic salt(K)\n",
      "N = rho*N_A/M;       #Total density of atoms in the paramagnetic salt(per meter cube)\n",
      "chi_para = mew_0*N*p**2*mew_B**2/(3*k*T);      #Magnetic susceptibility of paramagnetic salt\n",
      "chi_para = chi_para*10**4;\n",
      "chi_para = math.ceil(chi_para*10**2)/10**2;     #rounding off the value of chi_para to 2 decimals\n",
      "M = chi*H;       #Magnetisation of paramagnetic salt(A/m)\n",
      "M = math.ceil(M*10)/10;     #rounding off the value of M to 1 decimal\n",
      "\n",
      "#Result\n",
      "print \"The magnetic susceptibility of paramagnetic salt is\",chi_para,\"*10**-4\"\n",
      "print \"The magnetisation of paramagnetic salt is\",M, \"A/m\"\n",
      "\n",
      "#answer for magnetisation is not given in the textbook"
     ],
     "language": "python",
     "metadata": {},
     "outputs": [
      {
       "output_type": "stream",
       "stream": "stdout",
       "text": [
        "The magnetic susceptibility of paramagnetic salt is 5.43 *10**-4\n",
        "The magnetisation of paramagnetic salt is 1.2 A/m\n"
       ]
      }
     ],
     "prompt_number": 14
    },
    {
     "cell_type": "code",
     "collapsed": false,
     "input": [],
     "language": "python",
     "metadata": {},
     "outputs": []
    }
   ],
   "metadata": {}
  }
 ]
}