{
 "metadata": {
  "name": "",
  "signature": "sha256:7388a73b9b3de996a0d87179cb12d51f5ad7f3cb764b14aa844019e8d2cdb4ea"
 },
 "nbformat": 3,
 "nbformat_minor": 0,
 "worksheets": [
  {
   "cells": [
    {
     "cell_type": "heading",
     "level": 1,
     "metadata": {},
     "source": [
      "7: Superconductivity"
     ]
    },
    {
     "cell_type": "heading",
     "level": 2,
     "metadata": {},
     "source": [
      "Example number 7.1, Page number 152"
     ]
    },
    {
     "cell_type": "code",
     "collapsed": false,
     "input": [
      "\n",
      "\n",
      "#importing modules\n",
      "from __future__ import division\n",
      "import math\n",
      "\n",
      "#Variable declaration\n",
      "Tc=3.722;      #critical temperature(K)\n",
      "T=2;          #temperature(K)\n",
      "Bc_0=0.0305;     #critical field(T)\n",
      "\n",
      "#Calculation\n",
      "Bc_T=Bc_0*(1-(T/Tc)**2);     #critical field at 2K(T)\n",
      "Bc_T = math.ceil(Bc_T*10**4)/10**4;     #rounding off the value of Bc_T to 4 decimals\n",
      "\n",
      "#Result\n",
      "print \"The critical field at 2K is\",Bc_T, \"T\""
     ],
     "language": "python",
     "metadata": {},
     "outputs": [
      {
       "output_type": "stream",
       "stream": "stdout",
       "text": [
        "The critical field at 2K is 0.0217 T\n"
       ]
      }
     ],
     "prompt_number": 1
    },
    {
     "cell_type": "heading",
     "level": 2,
     "metadata": {},
     "source": [
      "Example number 7.2, Page number 152"
     ]
    },
    {
     "cell_type": "code",
     "collapsed": false,
     "input": [
      "\n",
      "#importing modules\n",
      "from __future__ import division\n",
      "import math\n",
      "\n",
      "#Variable declaration\n",
      "V = 1;     #DC voltage applied across the Josephson junction(micro-volt)\n",
      "e = 1.6*10**-19;    #Charge on an electron(C)\n",
      "h = 6.626*10**-34;    #Planck's constant(Js)\n",
      "\n",
      "#Calculation\n",
      "V = V*10**-6;     #DC voltage applied across the Josephson junction(V)\n",
      "f = 2*e*V/h;      #Frequency of Josephson current(Hz)\n",
      "f = f*10**-6;      #Frequency of Josephson current(MHz)\n",
      "f = math.ceil(f*10**2)/10**2;     #rounding off the value of f to 2 decimals\n",
      "\n",
      "#Result\n",
      "print \"The frequency of Josephson current is\",f, \"MHz\""
     ],
     "language": "python",
     "metadata": {},
     "outputs": [
      {
       "output_type": "stream",
       "stream": "stdout",
       "text": [
        "The frequency of Josephson current is 482.95 MHz\n"
       ]
      }
     ],
     "prompt_number": 2
    },
    {
     "cell_type": "heading",
     "level": 2,
     "metadata": {},
     "source": [
      "Example number 7.3, Page number 152"
     ]
    },
    {
     "cell_type": "code",
     "collapsed": false,
     "input": [
      "`\n",
      "\n",
      "#importing modules\n",
      "from __future__ import division\n",
      "import math\n",
      "\n",
      "#Variable declaration\n",
      "T_c = 0.517;    #Critical temperature for cadmium(K)\n",
      "k = 1.38*10**-23;    #Boltzmann constant(J/K)\n",
      "e = 1.6*10**-19;     #Energy equivalent of 1 eV(J/eV)\n",
      "\n",
      "#Calculation\n",
      "E_g = 3.5*k*T_c/e;    #Superconducting energy gap at absolute zero(eV)\n",
      "E_g = E_g*10**4;\n",
      "E_g = math.ceil(E_g*10**3)/10**3;     #rounding off the value of E_g to 3 decimals\n",
      "\n",
      "#Result\n",
      "print \"The superconducting energy gap for Cd at absolute zero is\",E_g,\"*10**-4 eV\""
     ],
     "language": "python",
     "metadata": {},
     "outputs": [
      {
       "output_type": "stream",
       "stream": "stdout",
       "text": [
        "The superconducting energy gap for Cd at absolute zero is 1.561 *10**-4 eV\n"
       ]
      }
     ],
     "prompt_number": 8
    },
    {
     "cell_type": "heading",
     "level": 2,
     "metadata": {},
     "source": [
      "Example number 7.4, Page number 152"
     ]
    },
    {
     "cell_type": "code",
     "collapsed": false,
     "input": [
      "\n",
      "\n",
      "#importing modules\n",
      "from __future__ import division\n",
      "import math\n",
      "\n",
      "#Variable declaration\n",
      "e = 1.6*10**-19;    #Energy equivalent of 1 eV(J/eV)\n",
      "c = 3*10**8;     #Speed of light in free space(m/s)\n",
      "h = 6.626*10**-34;    #Planck's constant(Js)\n",
      "E_g = 1.5*10**-4;     #Superconducting energy gap for a material(eV)\n",
      "\n",
      "#Calculation\n",
      "#As E_g = h*new = h*c/lamda, solving for lambda\n",
      "lamda = h*c/(E_g*e);    #Wavelength of photon to break up a Cooper-pair(m)\n",
      "lamda = lamda*10**3;\n",
      "lamda = math.ceil(lamda*10**3)/10**3;     #rounding off the value of lamda to 3 decimals\n",
      "\n",
      "#Result\n",
      "print \"The wavelength of photon to break up a Cooper-pair is\",lamda,\"*10**-3 m\""
     ],
     "language": "python",
     "metadata": {},
     "outputs": [
      {
       "output_type": "stream",
       "stream": "stdout",
       "text": [
        "The wavelength of photon to break up a Cooper-pair is 8.283 *10**-3 m\n"
       ]
      }
     ],
     "prompt_number": 12
    },
    {
     "cell_type": "heading",
     "level": 2,
     "metadata": {},
     "source": [
      "Example number 7.5, Page number 153"
     ]
    },
    {
     "cell_type": "code",
     "collapsed": false,
     "input": [
      "\n",
      "\n",
      "#importing modules\n",
      "from __future__ import division\n",
      "import math\n",
      "\n",
      "#Variable declaration\n",
      "lambda_0 = 37;     #Penetration depth of lead at 0 kelvin(nm)\n",
      "T_c = 7.193;      #Critical temperature of superconducting transition for lead(kelvin)\n",
      "T = 5.2;        #Temperature at which penetration depth for lead becomes lambda_T(kelvin) \n",
      "\n",
      "#Calculation\n",
      "lambda_T = lambda_0*(1-(T/T_c)**4)**(-1/2);     #Penetration depth of lead at 5.2 kelvin(nm)\n",
      "lambda_T = math.ceil(lambda_T*10)/10;     #rounding off the value of lamda_T to 1 decimal\n",
      "\n",
      "#Result\n",
      "print \"The penetration depth of lead is\",lambda_T, \"nm\""
     ],
     "language": "python",
     "metadata": {},
     "outputs": [
      {
       "output_type": "stream",
       "stream": "stdout",
       "text": [
        "The penetration depth of lead is 43.4 nm\n"
       ]
      }
     ],
     "prompt_number": 13
    },
    {
     "cell_type": "heading",
     "level": 2,
     "metadata": {},
     "source": [
      "Example number 7.6, Page number 153"
     ]
    },
    {
     "cell_type": "code",
     "collapsed": false,
     "input": [
      "\n",
      "\n",
      "#importing modules\n",
      "from __future__ import division\n",
      "import math\n",
      "\n",
      "#Variable declaration\n",
      "M1 = 199;    #Mass of an isotope of mercury(amu)\n",
      "T_C1 = 4.185;    #Transition temperature of the isoptope of Hg(K)\n",
      "T_C2 = 4.153;    #Transition temperature of another isoptope of Hg(K)\n",
      "alpha = 0.5;     #Isotope coefficient\n",
      "\n",
      "#Calculation\n",
      "M2 = M1*(T_C1/T_C2)**(1/alpha);    #Mass of another isotope of mercury(amu)\n",
      "M2 = math.ceil(M2*100)/100;     #rounding off the value of M2 to 2 decimals\n",
      "\n",
      "#Result\n",
      "print \"The mass of another isotope of mercury is\",M2, \"amu\""
     ],
     "language": "python",
     "metadata": {},
     "outputs": [
      {
       "output_type": "stream",
       "stream": "stdout",
       "text": [
        "The mass of another isotope of mercury is 202.08 amu\n"
       ]
      }
     ],
     "prompt_number": 16
    },
    {
     "cell_type": "code",
     "collapsed": false,
     "input": [],
     "language": "python",
     "metadata": {},
     "outputs": []
    }
   ],
   "metadata": {}
  }
 ]
}