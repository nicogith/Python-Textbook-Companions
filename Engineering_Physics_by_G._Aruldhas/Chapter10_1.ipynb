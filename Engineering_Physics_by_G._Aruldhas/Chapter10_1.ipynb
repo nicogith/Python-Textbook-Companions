{
 "metadata": {
  "name": "",
  "signature": "sha256:78b8d610d2cc37c12bbe36fc70ba217f440b3e2b1b7e7cbb3aa498d471c77bb0"
 },
 "nbformat": 3,
 "nbformat_minor": 0,
 "worksheets": [
  {
   "cells": [
    {
     "cell_type": "heading",
     "level": 1,
     "metadata": {},
     "source": [
      "10: Statistical Mechanics"
     ]
    },
    {
     "cell_type": "heading",
     "level": 2,
     "metadata": {},
     "source": [
      "Example number 10.1, Page number 222"
     ]
    },
    {
     "cell_type": "code",
     "collapsed": false,
     "input": [
      "\n",
      "\n",
      "#importing modules\n",
      "from __future__ import division\n",
      "import math\n",
      "\n",
      "#Variable declaration\n",
      "k = 1.38*10**-23;    #Boltzmann constant(J/K)\n",
      "e = 1.6*10**-19;     #Energy equivalent of 1 eV(J/eV)\n",
      "g1 = 2;    #The degeneracy of ground state\n",
      "g2 = 8;    #The degeneracy of excited state\n",
      "delta_E = 10.2;     #Energy of excited state above the ground state(eV)\n",
      "T = 6000;    #Temperature of the state(K)\n",
      "\n",
      "#Calculation\n",
      "D_ratio = g2/g1;    #Ratio of degeneracy of states\n",
      "x = k*T/e;\n",
      "N_ratio = D_ratio*math.exp(-delta_E/x);     #Ratio of occupancy of the excited to the ground state\n",
      "\n",
      "#Result\n",
      "print \"The ratio of occupancy of the excited to the ground state is\",N_ratio"
     ],
     "language": "python",
     "metadata": {},
     "outputs": [
      {
       "output_type": "stream",
       "stream": "stdout",
       "text": [
        "The ratio of occupancy of the excited to the ground state is 1.10167326887e-08\n"
       ]
      }
     ],
     "prompt_number": 1
    },
    {
     "cell_type": "heading",
     "level": 2,
     "metadata": {},
     "source": [
      "Example number 10.2, Page number 222"
     ]
    },
    {
     "cell_type": "code",
     "collapsed": false,
     "input": [
      "\n",
      "a = 10/2;\n",
      "#enegy of 10 bosons is E = (10*pi**2*h**2)/(2*m*a**2) = (5*pi**2*h**2)/(m*a**2)\n",
      "\n",
      "#Result\n",
      "print \"enegy of 10 bosons is E = \",int(a),\"(pi**2*h**2)/(m*a**2)\""
     ],
     "language": "python",
     "metadata": {},
     "outputs": [
      {
       "output_type": "stream",
       "stream": "stdout",
       "text": [
        "enegy of 10 bosons is E =  5 (pi**2*h**2)/(m*a**2)\n"
       ]
      }
     ],
     "prompt_number": 5
    },
    {
     "cell_type": "heading",
     "level": 2,
     "metadata": {},
     "source": [
      "Example number 10.3, Page number 223"
     ]
    },
    {
     "cell_type": "code",
     "collapsed": false,
     "input": [
      "\n",
      "\n",
      "#importing modules\n",
      "import math\n",
      "\n",
      "#Variable declaration\n",
      "n1=1;    #1st level\n",
      "n2=2;    #2nd level\n",
      "n3=3;    #3rd level\n",
      "n4=4;    #4th level\n",
      "n5=5;    #5th level\n",
      "\n",
      "#Calculation\n",
      "#an energy level can accomodate only 2 fermions. hence there will be 2 fermions in each level\n",
      "#thus total ground state energy will be E = (2*E1)+(2*E2)+(2*E3)+(2*E4)+E5\n",
      "#let X = ((pi**2)*(h**2)/(2*m*a**2)). E = X*((2*n1**2)+(2*n2**2)+(2*n3**2)+(2*n4**2)+(n5**2))\n",
      "A = (2*n1**2)+(2*n2**2)+(2*n3**2)+(2*n4**2)+(n5**2);\n",
      "#thus E = A*X\n",
      "\n",
      "#Result\n",
      "print \"the ground state energy of the system is\",A,\"(pi**2)*(h**2)/(2*m*a**2)\""
     ],
     "language": "python",
     "metadata": {},
     "outputs": [
      {
       "output_type": "stream",
       "stream": "stdout",
       "text": [
        "the ground state energy of the system is 85 (pi**2)*(h**2)/(2*m*a**2)\n"
       ]
      }
     ],
     "prompt_number": 6
    },
    {
     "cell_type": "heading",
     "level": 2,
     "metadata": {},
     "source": [
      "Example number 10.4, Page number 223"
     ]
    },
    {
     "cell_type": "code",
     "collapsed": false,
     "input": [
      "\n",
      "\n",
      "#importing modules\n",
      "import math\n",
      "from __future__ import division\n",
      "\n",
      "#Variable declaration\n",
      "e = 1.6*10**-19;    #Energy equivalent of 1 eV(J/eV)\n",
      "N_A = 6.02*10**23;    #Avogadro's number\n",
      "h = 6.626*10**-34;    #Planck's constant(Js)\n",
      "me = 9.1*10**-31;    #Mass of electron(kg)\n",
      "rho = 10.5;    #Density of silver(g/cm)\n",
      "m = 108;    #Molecular mass of silver(g/mol)\n",
      "\n",
      "#Calculation\n",
      "N_D = rho*N_A/m;    #Number density of conduction electrons(per cm**3)\n",
      "N_D = N_D*10**6;    #Number density of conduction electrons(per m**3)\n",
      "E_F = ((h**2)/(8*me))*(3/math.pi*N_D)**(2/3);     #fermi energy(J)\n",
      "E_F = E_F/e;          #fermi energy(eV)\n",
      "E_F = math.ceil(E_F*10**2)/10**2;     #rounding off the value of E_F to 2 decimals\n",
      "\n",
      "#Result\n",
      "print \"The number density of conduction electrons is\",N_D, \"per metre cube\"\n",
      "print \"The Fermi energy of silver is\",E_F, \"eV\""
     ],
     "language": "python",
     "metadata": {},
     "outputs": [
      {
       "output_type": "stream",
       "stream": "stdout",
       "text": [
        "The number density of conduction electrons is 5.85277777778e+28 per metre cube\n",
        "The Fermi energy of silver is 5.51 eV\n"
       ]
      }
     ],
     "prompt_number": 7
    },
    {
     "cell_type": "heading",
     "level": 2,
     "metadata": {},
     "source": [
      "Example number 10.5, Page number 224"
     ]
    },
    {
     "cell_type": "code",
     "collapsed": false,
     "input": [
      "\n",
      "#importing modules\n",
      "import math\n",
      "from __future__ import division\n",
      "\n",
      "#Variable declaration\n",
      "N_A = 6.02*10**23;     #Avogadro's number\n",
      "k = 1.38*10**-23;      #Boltzmann constant(J/K)\n",
      "T = 293;     #Temperature of sodium(K)\n",
      "E_F = 3.24;    #Fermi energy of sodium(eV)\n",
      "e = 1.6*10**-19;    #Energy equivalent of 1 eV(J/eV)\n",
      "\n",
      "#Calculation\n",
      "C_v = math.pi**2*N_A*k**2*T/(2*E_F*e);     #Molar specific heat of sodium(per mole)\n",
      "C_v = math.ceil(C_v*10**2)/10**2;     #rounding off the value of C_v to 2 decimals\n",
      "\n",
      "#Result\n",
      "print \"The electronic contribution to molar specific heat of sodium is\",C_v, \"per mole\""
     ],
     "language": "python",
     "metadata": {},
     "outputs": [
      {
       "output_type": "stream",
       "stream": "stdout",
       "text": [
        "The electronic contribution to molar specific heat of sodium is 0.32 per mole\n"
       ]
      }
     ],
     "prompt_number": 8
    },
    {
     "cell_type": "heading",
     "level": 2,
     "metadata": {},
     "source": [
      "Example number 10.6, Page number 224"
     ]
    },
    {
     "cell_type": "code",
     "collapsed": false,
     "input": [
      "\n",
      "#importing modules\n",
      "import math\n",
      "from __future__ import division\n",
      "\n",
      "#Variable declaration\n",
      "e = 1.6*10**-19;    #Energy equivalent of 1 eV(J/eV)\n",
      "h = 6.626*10**-34;     #Planck's constant(Js)\n",
      "m = 9.1*10**-31;       #Mass of the electron(kg)\n",
      "N_D = 18.1*10**28;       #Number density of conduction electrons in Al(per metre cube)\n",
      "\n",
      "#Calculation\n",
      "E_F = h**2/(8*m)*(3/math.pi*N_D)**(2/3);     #N_D = N/V. Fermi energy of aluminium(J)\n",
      "E_F = E_F/e;      #Fermi energy of aluminium(eV)\n",
      "E_F = math.ceil(E_F*10**3)/10**3;     #rounding off the value of E_F to 3 decimals\n",
      "Em_0 = 3/5*E_F;     #Mean energy of  the electron at 0K(eV)\n",
      "Em_0 = math.ceil(Em_0*10**3)/10**3;     #rounding off the value of Em_0 to 3 decimals\n",
      "\n",
      "#Result\n",
      "print \"The Fermi energy of aluminium is\",E_F, \"eV\"\n",
      "print \"The mean energy of  the electron is\",Em_0, \"eV\""
     ],
     "language": "python",
     "metadata": {},
     "outputs": [
      {
       "output_type": "stream",
       "stream": "stdout",
       "text": [
        "The Fermi energy of aluminium is 11.696 eV\n",
        "The mean energy of  the electron is 7.018 eV\n"
       ]
      }
     ],
     "prompt_number": 9
    },
    {
     "cell_type": "code",
     "collapsed": false,
     "input": [],
     "language": "python",
     "metadata": {},
     "outputs": []
    }
   ],
   "metadata": {}
  }
 ]
}