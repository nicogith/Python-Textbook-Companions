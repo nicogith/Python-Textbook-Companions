{
 "metadata": {
  "name": "",
  "signature": "sha256:c2afbaf4a700c8f5f48d1946053d882d86bb1b0270a68b2bbedc639668ea43be"
 },
 "nbformat": 3,
 "nbformat_minor": 0,
 "worksheets": [
  {
   "cells": [
    {
     "cell_type": "heading",
     "level": 1,
     "metadata": {},
     "source": [
      "18: Acoustics of Buildings"
     ]
    },
    {
     "cell_type": "heading",
     "level": 2,
     "metadata": {},
     "source": [
      "Example number 18.1, Page number 361"
     ]
    },
    {
     "cell_type": "code",
     "collapsed": false,
     "input": [
      "\n",
      "\n",
      "#importing modules\n",
      "import math\n",
      "from __future__ import division\n",
      "\n",
      "#Variable declaration\n",
      "r = 200;       #Distance of the point of reduction from the source(m)\n",
      "I_0 = 10**-12;    #Final intensity of sound(W/m**2)\n",
      "I_f = 60;        #Intensity gain of sound at the point of reduction(dB)\n",
      "\n",
      "#Calculation\n",
      "#As A_I = 10*log10(I/I_0), solving for I\n",
      "I = I_0*10**(I_f/10);      #Initial Intensity of sound(W/m**2)\n",
      "P = 4*math.pi*r**2*I;      #Output power of the sound source(W)\n",
      "P = math.ceil(P*100)/100;     #rounding off the value of P to 2 decimals\n",
      "\n",
      "#Result\n",
      "print \"The output power of the sound source is\",P, \"W\""
     ],
     "language": "python",
     "metadata": {},
     "outputs": [
      {
       "output_type": "stream",
       "stream": "stdout",
       "text": [
        "The output power of the sound source is 0.51 W\n"
       ]
      }
     ],
     "prompt_number": 1
    },
    {
     "cell_type": "heading",
     "level": 2,
     "metadata": {},
     "source": [
      "Example number 18.2, Page number 361"
     ]
    },
    {
     "cell_type": "code",
     "collapsed": false,
     "input": [
      "\n",
      "\n",
      "#importing modules\n",
      "import math\n",
      "from __future__ import division\n",
      "import numpy as np\n",
      "\n",
      "#Variable declaration\n",
      "I1 = 1;    #For simplicity assume first intensity level to be unity(W/m**2)\n",
      "\n",
      "#Calculation\n",
      "I2 = 2*I1;    #Intensity level after doubling(W/m**2)\n",
      "dA_I = 10*np.log10(I2/I1);    #Difference in gain level(dB)\n",
      "\n",
      "#Result\n",
      "print \"The sound intensity level is increased by\",int(dA_I), \"dB\""
     ],
     "language": "python",
     "metadata": {},
     "outputs": [
      {
       "output_type": "stream",
       "stream": "stdout",
       "text": [
        "The sound intensity level is increased by 3 dB\n"
       ]
      }
     ],
     "prompt_number": 3
    },
    {
     "cell_type": "heading",
     "level": 2,
     "metadata": {},
     "source": [
      "Example number 18.3, Page number 361"
     ]
    },
    {
     "cell_type": "code",
     "collapsed": false,
     "input": [
      "\n",
      "#importing modules\n",
      "import math\n",
      "from __future__ import division\n",
      "\n",
      "#Variable declaration\n",
      "V = 8000;    #Volume of the hall(m**3)\n",
      "T = 1.5;     #Reverbration time of the hall(s)\n",
      "\n",
      "#Calculation\n",
      "alpha_s = 0.167*V/T;     #Sabine Formula giving total absorption of sound in the hall(OWU)\n",
      "alpha_s = math.ceil(alpha_s*10)/10;     #rounding off the value of alpha_s to 1 decimal\n",
      "\n",
      "#Result\n",
      "print \"The total absorption of sound in the hall is\",alpha_s, \"OWU\"\n"
     ],
     "language": "python",
     "metadata": {},
     "outputs": [
      {
       "output_type": "stream",
       "stream": "stdout",
       "text": [
        "The total absorption of sound in the hall is 890.7 OWU\n"
       ]
      }
     ],
     "prompt_number": 4
    },
    {
     "cell_type": "heading",
     "level": 2,
     "metadata": {},
     "source": [
      "Example number 18.4, Page number 362"
     ]
    },
    {
     "cell_type": "code",
     "collapsed": false,
     "input": [
      "\n",
      "\n",
      "\n",
      "#importing modules\n",
      "import math\n",
      "from __future__ import division\n",
      "\n",
      "#Variable declaration\n",
      "V = 25*20*8;       #Volume of the hall(m**3)\n",
      "T = 4;     #Reverbration time of the hall(s)\n",
      "\n",
      "#Calculation\n",
      "S = 2*(25*20+25*8+20*8);    #Total surface area of the hall(m**2)\n",
      "alpha = 0.167*V/(T*S);     #Sabine Formule giving total absorption in the hall(OWU)\n",
      "alpha = math.ceil(alpha*10**4)/10**4;     #rounding off the value of alpha to 4 decimals\n",
      "\n",
      "#Result\n",
      "print \"The average absorption coefficient of the surfaces is\",alpha, \"OWU/m**2\"\n"
     ],
     "language": "python",
     "metadata": {},
     "outputs": [
      {
       "output_type": "stream",
       "stream": "stdout",
       "text": [
        "The average absorption coefficient of the surfaces is 0.0971 OWU/m**2\n"
       ]
      }
     ],
     "prompt_number": 5
    },
    {
     "cell_type": "heading",
     "level": 2,
     "metadata": {},
     "source": [
      "Example number 18.5, Page number 362"
     ]
    },
    {
     "cell_type": "code",
     "collapsed": false,
     "input": [
      "\n",
      "\n",
      "#importing modules\n",
      "import math\n",
      "from __future__ import division\n",
      "\n",
      "#Variable declaration\n",
      "V = 475;      #Volume of the hall(m**3)\n",
      "A_f = 100;     #Area of the floor(m**2)\n",
      "A_c = 100;     #Area of the ceiling(m**2)\n",
      "A_w = 200;     #Area of the wall(m**2)\n",
      "alpha_w = 0.025;     #Absorption coefficients of the wall(OWU/m**2)\n",
      "alpha_c = 0.02;      #Absorption coefficients of the ceiling(OWU/m**2)\n",
      "alpha_f = 0.55;      #Absorption coefficients of the floor(OWU/m**2)\n",
      "\n",
      "#Calculation\n",
      "alpha_s = (A_w*alpha_w)+(A_c*alpha_c)+(A_f*alpha_f);    \n",
      "T = 0.167*V/alpha_s;    #Sabine Formula for reverbration time(s)\n",
      "T = math.ceil(T*100)/100;     #rounding off the value of T to 2 decimals\n",
      "\n",
      "#Result\n",
      "print \"The reverbration time for the hall is\",T, \"s\"\n"
     ],
     "language": "python",
     "metadata": {},
     "outputs": [
      {
       "output_type": "stream",
       "stream": "stdout",
       "text": [
        "The reverbration time for the hall is 1.28 s\n"
       ]
      }
     ],
     "prompt_number": 6
    },
    {
     "cell_type": "heading",
     "level": 2,
     "metadata": {},
     "source": [
      "Example number 18.6, Page number 362"
     ]
    },
    {
     "cell_type": "code",
     "collapsed": false,
     "input": [
      "\n",
      "\n",
      "#importing modules\n",
      "import math\n",
      "from __future__ import division\n",
      "\n",
      "#Variable declaration\n",
      "I0 = 1;    #For simplicity assume initial sound intensity to be unity(W/m**2)\n",
      "A_I1 = 80;   #First intensity gain of sound(dB)\n",
      "A_I2 = 70;   #Second intensity gain of sound(dB)\n",
      "\n",
      "#Calculation\n",
      "#As A_I = 10*log10(I/I_0), solving for I1 and I2\n",
      "I1 = 10**(A_I1/10)*I0;    #First intensity of sound(W/m**2)\n",
      "I2 = 10**(A_I2/10)*I0;    #Second intensity of sound(W/m**2)\n",
      "I = I1 + I2;     #Resultant intensity level of sound(W/m**2)\n",
      "A_I = 10*np.log10(I/I0);    #Intensity gain of resultant sound(dB)\n",
      "A_I = math.ceil(A_I*10**3)/10**3;     #rounding off the value of A_I to 3 decimals\n",
      "\n",
      "#Result\n",
      "print \"The intensity gain of resultant sound is\",A_I, \"dB\"\n",
      "\n",
      "#answer given in the book is wrong"
     ],
     "language": "python",
     "metadata": {},
     "outputs": [
      {
       "output_type": "stream",
       "stream": "stdout",
       "text": [
        "The intensity gain of resultant sound is 80.414 dB\n"
       ]
      }
     ],
     "prompt_number": 7
    },
    {
     "cell_type": "code",
     "collapsed": false,
     "input": [],
     "language": "python",
     "metadata": {},
     "outputs": []
    }
   ],
   "metadata": {}
  }
 ]
}