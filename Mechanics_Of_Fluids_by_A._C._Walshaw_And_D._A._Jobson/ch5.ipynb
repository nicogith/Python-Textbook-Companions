{
 "metadata": {
  "name": ""
 },
 "nbformat": 3,
 "nbformat_minor": 0,
 "worksheets": [
  {
   "cells": [
    {
     "cell_type": "heading",
     "level": 1,
     "metadata": {},
     "source": [
      "Chapter 5 : Elements of Similarity; Notches and Weirs"
     ]
    },
    {
     "cell_type": "heading",
     "level": 3,
     "metadata": {},
     "source": [
      "Example 5.1.1 page no : 104"
     ]
    },
    {
     "cell_type": "code",
     "collapsed": false,
     "input": [
      "\n",
      "#initialisation of variables\n",
      "\n",
      "w= 1100. \t\t\t#rev/min\n",
      "Q= 1. \t\t\t#ft**3/min\n",
      "r= 2. \t\t\t#in\n",
      "\t\t\t\n",
      "#CALCULATIONS\n",
      "Q1= r**2*Q\n",
      "N= w/r\n",
      "\t\t\t\n",
      "#RESULTS\n",
      "print  'allowable speed = %.f rev/min'%(N)\n"
     ],
     "language": "python",
     "metadata": {},
     "outputs": [
      {
       "output_type": "stream",
       "stream": "stdout",
       "text": [
        "allowable speed = 550 rev/min\n"
       ]
      }
     ],
     "prompt_number": 1
    },
    {
     "cell_type": "heading",
     "level": 3,
     "metadata": {},
     "source": [
      "Example 5.2.2 page no : 107"
     ]
    },
    {
     "cell_type": "code",
     "collapsed": false,
     "input": [
      "\n",
      "#initialisation of variables\n",
      "import math \n",
      "\n",
      "n= 15. \t\t\t#knots\n",
      "\t\t\t\n",
      "#CALCULATIONS\n",
      "Um= n/math.sqrt(36.)\n",
      "\t\t\t\n",
      "#RESULTS\n",
      "print  ' speed = %.1f knots'%(Um)\n"
     ],
     "language": "python",
     "metadata": {},
     "outputs": [
      {
       "output_type": "stream",
       "stream": "stdout",
       "text": [
        " speed = 2.5 knots\n"
       ]
      }
     ],
     "prompt_number": 2
    },
    {
     "cell_type": "heading",
     "level": 3,
     "metadata": {},
     "source": [
      "Example 5.3.1 page no : 109\n"
     ]
    },
    {
     "cell_type": "code",
     "collapsed": false,
     "input": [
      "\n",
      "#initialisation of variables\n",
      "import math \n",
      "\n",
      "r= 1./64\n",
      "t= 75. \t\t\t#sec\n",
      "\t\t\t\n",
      "#CALCULATIONS\n",
      "R= math.sqrt((1./r))\n",
      "tfs= R*t/60.\n",
      "\t\t\t\n",
      "#RESULTS\n",
      "print  'time = %.f min'%(tfs)\n"
     ],
     "language": "python",
     "metadata": {},
     "outputs": [
      {
       "output_type": "stream",
       "stream": "stdout",
       "text": [
        "time = 10 min\n"
       ]
      }
     ],
     "prompt_number": 3
    },
    {
     "cell_type": "heading",
     "level": 3,
     "metadata": {},
     "source": [
      "Example 5.5.2 page no : 115"
     ]
    },
    {
     "cell_type": "code",
     "collapsed": false,
     "input": [
      "\n",
      "#initialisation of variables\n",
      "import math \n",
      "g= 32.2 \t\t\t#ft/sec**2\n",
      "\t\t\t\n",
      "#CALCULATIONS\n",
      "C = 15.*0.305*(12)**(5./2)/(8.*8.05*60)\n",
      "\n",
      "\n",
      "#RESULTS\n",
      "print  'numerical value of proportional constant = %.2f '%(C)\n"
     ],
     "language": "python",
     "metadata": {},
     "outputs": [
      {
       "output_type": "stream",
       "stream": "stdout",
       "text": [
        "numerical value of proportional constant = 0.59 \n"
       ]
      }
     ],
     "prompt_number": 2
    },
    {
     "cell_type": "heading",
     "level": 3,
     "metadata": {},
     "source": [
      "Example 5.6.2 page no : 117"
     ]
    },
    {
     "cell_type": "code",
     "collapsed": false,
     "input": [
      "    \n",
      "#initialisation of variables\n",
      "import math \n",
      "\n",
      "A= 9. \t\t\t#ft**2\n",
      "A1= 50000. \t\t\t#yd**2\n",
      "l= 12. \t\t\t#ft\n",
      "H1= 2. \t\t\t#ft\n",
      "H2= 3. \t\t\t#in\n",
      "g= 32.2 \t\t\t#ft**2/sec\n",
      "\t\t\t\n",
      "#CALCULATIONS\n",
      "t= round((A*A1*2./(0.4*math.sqrt(2.*g)*l))*((H2/12.)**-0.5-(H1)**-0.5),-2)\n",
      "\t\t\t\n",
      "#RESULTS\n",
      "print  ' time required = %.f sec '%(t)\n"
     ],
     "language": "python",
     "metadata": {},
     "outputs": [
      {
       "output_type": "stream",
       "stream": "stdout",
       "text": [
        " time required = 30200 sec \n"
       ]
      }
     ],
     "prompt_number": 8
    },
    {
     "cell_type": "heading",
     "level": 3,
     "metadata": {},
     "source": [
      "Example 5.8.1 page no : 121"
     ]
    },
    {
     "cell_type": "code",
     "collapsed": false,
     "input": [
      "\n",
      "#initialisation of variables\n",
      "import math \n",
      "\n",
      "A= 5. \t\t\t#ft**2\n",
      "c= 0.6\n",
      "g= 32.2 \t\t#ft/sec**2\n",
      "H= 6. \t\t\t#in\n",
      "\t\t\t\n",
      "#CALCULATIONS\n",
      "Q= 0.6*(8./15)*60*math.sqrt(2*g)*(H/12)**2.5\n",
      "u= 0.455/A\n",
      "h= u**2./(2*g)\n",
      "\t\t\t\n",
      "#RESULTS\n",
      "print  ' Discharge= %.1f ft**3/sec'%(Q)\n",
      "print  '  mean approach velocity = %.3f ft/sec'%(u)\n",
      "print  '  kinetic head = %.6f ft'%(h)\n"
     ],
     "language": "python",
     "metadata": {},
     "outputs": [
      {
       "output_type": "stream",
       "stream": "stdout",
       "text": [
        " Discharge= 27.2 ft**3/sec\n",
        "  mean approach velocity = 0.091 ft/sec\n",
        "  kinetic head = 0.000129 ft\n"
       ]
      }
     ],
     "prompt_number": 6
    }
   ],
   "metadata": {}
  }
 ]
}