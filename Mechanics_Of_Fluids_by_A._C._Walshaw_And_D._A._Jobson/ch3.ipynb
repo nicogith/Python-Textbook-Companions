{
 "metadata": {
  "name": ""
 },
 "nbformat": 3,
 "nbformat_minor": 0,
 "worksheets": [
  {
   "cells": [
    {
     "cell_type": "heading",
     "level": 1,
     "metadata": {},
     "source": [
      "Chapter 3 : The Measurement of Fluid Pressure"
     ]
    },
    {
     "cell_type": "heading",
     "level": 3,
     "metadata": {},
     "source": [
      "Example 3.1.1 page no : 52"
     ]
    },
    {
     "cell_type": "code",
     "collapsed": false,
     "input": [
      "\n",
      "#initialisation of variables\n",
      "\n",
      "p= 14.7 \t\t#lbf/in**2\n",
      "p1= 5. \t\t\t#lbf/in**2\n",
      "w= 62.3 \t\t#lbf/ft**3\n",
      "h= 30. \t\t\t#ft\n",
      "\t\t\t\n",
      "#CALCULATIONS\n",
      "hmax= (p-p1)*144/w\n",
      "hmin= h-hmax\n",
      "\t\t\t\n",
      "#RESULTS\n",
      "print  ' Minimum depth of the water= %.1f ft'%(hmin)\n"
     ],
     "language": "python",
     "metadata": {},
     "outputs": [
      {
       "output_type": "stream",
       "stream": "stdout",
       "text": [
        " Minimum depth of the water= 7.6 ft\n"
       ]
      }
     ],
     "prompt_number": 1
    },
    {
     "cell_type": "heading",
     "level": 3,
     "metadata": {},
     "source": [
      "Example 3.2.1 page no : 56"
     ]
    },
    {
     "cell_type": "code",
     "collapsed": false,
     "input": [
      "\n",
      "#initialisation of variables\n",
      "import math \n",
      "T= 20. \t\t\t#C\n",
      "h= 1. \t\t\t#cm\n",
      "dw= 1. \t\t\t#gf/cm**3\n",
      "dm= 13.6 \t\t\t#gf/cm**3\n",
      "g= 981. \t\t\t#dyne\n",
      "Tw= 74. \t\t\t#dyne/cm\n",
      "Tm= 465. \t\t\t#dyne/cm\n",
      "\t\t\t\n",
      "#CALCULATIONS\n",
      "hw= (4*Tw)/(dw*g*(h/10))\n",
      "hm= (4*Tm*math.cos(math.radians(130)))/(dm*g*(h/10))\n",
      "\t\t\t\n",
      "#RESULTS\n",
      "print  'capillary rise of water= %.1f cm'%(hw)\n",
      "print  'capillary rise of mercury= %.2f cm'%(hm)\n",
      "print 'In a tube 1 cm bore, which is about the size used in gauges in mant engineering \\n \\\n",
      "recorders, the figures would be %.0f mm and %.2f mm'%(hw,hm)\n",
      "# answers may vary because of rounding error and inbuilt function."
     ],
     "language": "python",
     "metadata": {},
     "outputs": [
      {
       "output_type": "stream",
       "stream": "stdout",
       "text": [
        "capillary rise of water= 3.0 cm\n",
        "capillary rise of mercury= -0.90 cm\n",
        "In a tube 1 cm bore, which is about the size used in gauges in mant engineering \n",
        " recorders, the figures would be 3 mm and -0.90 mm\n"
       ]
      }
     ],
     "prompt_number": 1
    },
    {
     "cell_type": "heading",
     "level": 3,
     "metadata": {},
     "source": [
      "Example 3.4.1 page no : 62"
     ]
    },
    {
     "cell_type": "code",
     "collapsed": false,
     "input": [
      "\n",
      "#initialisation of variables\n",
      "\n",
      "w1= 0.81\n",
      "w2= 0.80\n",
      "r= 40.\n",
      "\t\t\t\n",
      "#CALCULATIONS\n",
      "l1 = 2*w1/(w1-w2)\n",
      "a1= (2*w1)/(w1-w2+(1/r)*(w1+w2))\n",
      "\t\t\t\n",
      "#RESULTS\n",
      "print  'limiting ratio= %.1f '%(l1)\n",
      "print 'Actual ratio = %.1f'%a1"
     ],
     "language": "python",
     "metadata": {},
     "outputs": [
      {
       "output_type": "stream",
       "stream": "stdout",
       "text": [
        "limiting ratio= 162.0 \n",
        "Actual ratio = 32.2\n"
       ]
      }
     ],
     "prompt_number": 5
    },
    {
     "cell_type": "heading",
     "level": 3,
     "metadata": {},
     "source": [
      "Example 3.4.2 page no : 62"
     ]
    },
    {
     "cell_type": "code",
     "collapsed": false,
     "input": [
      "\n",
      "\n",
      "#initialisation of variables\n",
      "\n",
      "dh= 1. \t\t\t#in\n",
      "a= 1/40.        # area\n",
      "A = 1           # in.\n",
      "s= 0.9          # gravity\n",
      "w= 62.3 \t\t#lb/ft**3\n",
      "#A = 1728\n",
      "\t\t\t\n",
      "#CALCULATIONS\n",
      "sensitivity = (A/(w*((A+a)-s*(A-a))))*1728\n",
      "dpbyw= dh*((1+a)-s*(1-a))\n",
      "dp= w*dpbyw/1728.\n",
      "\t\t\t\n",
      "#RESULTS\n",
      "print \"Sensitivity = %.2f in/lbf\"%sensitivity\n",
      "print  'pressure difference = %.2e lbf/in**2 '%(dp)\n",
      "\n",
      "\n",
      "#Answer in the textbook is wrong\n"
     ],
     "language": "python",
     "metadata": {},
     "outputs": [
      {
       "output_type": "stream",
       "stream": "stdout",
       "text": [
        "Sensitivity = 188.05 in/lbf\n",
        "pressure difference = 5.32e-03 lbf/in**2 \n"
       ]
      }
     ],
     "prompt_number": 2
    },
    {
     "cell_type": "heading",
     "level": 3,
     "metadata": {},
     "source": [
      "Example 3.5.1 pageno : 65"
     ]
    },
    {
     "cell_type": "code",
     "collapsed": false,
     "input": [
      "\n",
      "#initialisation of variables\n",
      "\n",
      "x= 1. \t\t\t#in\n",
      "y= 10. \t\t\t#in\n",
      "r= 40.\n",
      "\t\t\t\n",
      "#CALCULATIONS\n",
      "dbyh= 1/((x/y)+(1/r))\n",
      "\n",
      "#RESULTS\n",
      "print  'magnification factor= %.f '%(dbyh)\n"
     ],
     "language": "python",
     "metadata": {},
     "outputs": [
      {
       "output_type": "stream",
       "stream": "stdout",
       "text": [
        "magnification factor= 8 \n"
       ]
      }
     ],
     "prompt_number": 11
    },
    {
     "cell_type": "heading",
     "level": 3,
     "metadata": {},
     "source": [
      "Example 3.5.2 page no : 65"
     ]
    },
    {
     "cell_type": "code",
     "collapsed": false,
     "input": [
      "\n",
      "%matplotlib inline\n",
      "\n",
      "from matplotlib.pyplot import *\n",
      "\n",
      "#initialisation of variables\n",
      "\n",
      "p= 0.005 \t\t\t#lbf/in**2\n",
      "w= 62.4 \t\t\t#lbf/ft**3\n",
      "h= 1. \t\t\t#in\n",
      "pressure = [0,9.04,19.08,27.16,36.16,45.20,54.24]\n",
      "scale = [1.2,3.1,5.1,6.3,8.6,10.9,13.1]\n",
      "\n",
      "#CALCULATIONS\n",
      "p= w*h/1728.\n",
      "plot(scale,pressure)\n",
      "plot(scale,pressure,'go-')\n",
      "xlabel(\"Scale reading\")\n",
      "ylabel(\"Additional pressure\")\n",
      "suptitle(\"Calibration of micromanometer\")\n",
      "axis([0,20,0,60])\n",
      "\t\t\t\n",
      "#RESULTS\n",
      "print  ' pressure difference = %.4f lbf/in**2 '%(p)\n"
     ],
     "language": "python",
     "metadata": {},
     "outputs": [
      {
       "output_type": "stream",
       "stream": "stdout",
       "text": [
        "Populating the interactive namespace from numpy and matplotlib\n",
        " pressure difference = 0.0361 lbf/in**2 \n"
       ]
      },
      {
       "output_type": "stream",
       "stream": "stderr",
       "text": [
        "WARNING: pylab import has clobbered these variables: ['draw_if_interactive']\n",
        "`%pylab --no-import-all` prevents importing * from pylab and numpy\n"
       ]
      },
      {
       "metadata": {},
       "output_type": "display_data",
       "png": "[encoded data removed]",
       "text": [
        "<matplotlib.figure.Figure at 0x2bbc890>"
       ]
      }
     ],
     "prompt_number": 24
    }
   ],
   "metadata": {}
  }
 ]
}