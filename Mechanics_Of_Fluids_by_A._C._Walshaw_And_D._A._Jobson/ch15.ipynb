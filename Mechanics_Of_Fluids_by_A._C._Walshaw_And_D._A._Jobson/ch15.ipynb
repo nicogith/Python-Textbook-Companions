{
 "metadata": {
  "name": ""
 },
 "nbformat": 3,
 "nbformat_minor": 0,
 "worksheets": [
  {
   "cells": [
    {
     "cell_type": "heading",
     "level": 1,
     "metadata": {},
     "source": [
      "Chapter 15 : Positive-displacement Machines"
     ]
    },
    {
     "cell_type": "heading",
     "level": 3,
     "metadata": {},
     "source": [
      "Example 15.2.1 page no : 490"
     ]
    },
    {
     "cell_type": "code",
     "collapsed": false,
     "input": [
      "\n",
      "import math \n",
      "#initialisation of variables\n",
      "B= 34. \t\t\t#ft\n",
      "z= 6. \t\t\t#ft\n",
      "g= 32.2 \t\t\t#ft/sec**2\n",
      "d= 6. \t\t\t#in\n",
      "do= 2. \t\t\t#in\n",
      "l= 6. \t\t\t#ft\n",
      "l1= 0.04\n",
      "\t\t\t\n",
      "#CALCULATIONS\n",
      "s= math.sqrt((g*do**2*(B-6-z))/(l*d**2*(d/12)))\n",
      "s1= s*60/(2*math.pi)\n",
      "hf= l1*(l/(2*g*(do/12)))*(d**2*s*d/(12*do**2))**2\n",
      "\t\t\t\n",
      "#RESULTS\n",
      "print  ' maximum friction head= %.2f ft'%(hf)\n"
     ],
     "language": "python",
     "metadata": {},
     "outputs": [
      {
       "output_type": "stream",
       "stream": "stdout",
       "text": [
        " maximum friction head= 11.88 ft\n"
       ]
      }
     ],
     "prompt_number": 1
    },
    {
     "cell_type": "heading",
     "level": 3,
     "metadata": {},
     "source": [
      "Example 15.3.1 pageno : 493"
     ]
    },
    {
     "cell_type": "code",
     "collapsed": false,
     "input": [
      "\n",
      "import math \n",
      "#initialisation of variables\n",
      "f= 0.01\n",
      "l= 160. \t\t\t#ft\n",
      "g= 32.2 \t\t\t#ft/sec**2\n",
      "d1= 10. \t\t\t#in\n",
      "d2= 4.5 \t\t\t#in\n",
      "w= 62.3 \t\t\t#lbf/ft**3\n",
      "v= 60. \t\t\t#rev/min\n",
      "\t\t\t\n",
      "#CALCULATIONS\n",
      "hf= (4*f*l/(2*g*(d2/12)))*(d1**2*3*2*math.pi/(4*d2**2))**2\n",
      "h1= (2*hf/3)\n",
      "r= (d1**2*3/(d2**2*2))\n",
      "h= (4*f*l*r**2/(2*g*(d2/12)))\n",
      "W= (math.pi*d1**2*1.5*w*10*v/(4*1444))\n",
      "hp= W*(h1-h)/33000.\n",
      "\t\t\t\n",
      "#RESULTS\n",
      "print  ' Horse power saved= %.1f h.p'%(hp)\n"
     ],
     "language": "python",
     "metadata": {},
     "outputs": [
      {
       "output_type": "stream",
       "stream": "stdout",
       "text": [
        " Horse power saved= 7.5 h.p\n"
       ]
      }
     ],
     "prompt_number": 2
    },
    {
     "cell_type": "heading",
     "level": 3,
     "metadata": {},
     "source": [
      "Example 15.4.1 page no : 496"
     ]
    },
    {
     "cell_type": "code",
     "collapsed": false,
     "input": [
      "\n",
      "import math \n",
      "#initialisation of variables\n",
      "d= 12. \t\t\t#in\n",
      "n= 3.\n",
      "l= 24. \t\t\t#in\n",
      "w= 1100. \t\t\t#gallons\n",
      "l1= 380.\t\t\t#ft\n",
      "l2= 4. \t\t\t#ft\n",
      "l3=56. \t\t\t#ft\n",
      "\t\t\t\n",
      "#CALCULATIONS\n",
      "r= 0.98*n*math.pi*(d/12)**2*(l/12.)\n",
      "Q= w/6.23\n",
      "C= Q/r\n",
      "p= w*10*(l1+l2+l3)/(0.9*33000.)\n",
      "\t\t\t\n",
      "#RESULTS\n",
      "print  ' Horse power required to drive= %.f h.p'%(p)\n"
     ],
     "language": "python",
     "metadata": {},
     "outputs": [
      {
       "output_type": "stream",
       "stream": "stdout",
       "text": [
        " Horse power required to drive= 163 h.p\n"
       ]
      }
     ],
     "prompt_number": 3
    }
   ],
   "metadata": {}
  }
 ]
}