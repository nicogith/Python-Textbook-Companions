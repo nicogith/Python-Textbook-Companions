{
 "metadata": {
  "name": ""
 },
 "nbformat": 3,
 "nbformat_minor": 0,
 "worksheets": [
  {
   "cells": [
    {
     "cell_type": "heading",
     "level": 1,
     "metadata": {},
     "source": [
      "Chapter 9 : Similarity and Dimensional Analysis"
     ]
    },
    {
     "cell_type": "heading",
     "level": 3,
     "metadata": {},
     "source": [
      "Example 9.1.1 page no : 219"
     ]
    },
    {
     "cell_type": "code",
     "collapsed": false,
     "input": [
      "\n",
      "#initialisation of variables\n",
      "\n",
      "pm= 1.6 \t\t\t#lb/ft**3\n",
      "vm= 6.2*10**-6 \t\t#ft**2/sec\n",
      "R= 1.8 \t\t\t    #lbf\n",
      "um= 100. \t\t\t#ft/sec\n",
      "p= 64. \t\t\t    #lb/ft**3\n",
      "v= 1.7*10**-5 \t    #ft^2/sec\n",
      "lm_by_l= 1/10. \t\t#ft\n",
      "\t\t\t\n",
      "#CALCULATIONS\n",
      "u= (um*lm_by_l*v)/vm\n",
      "u_knot= ((um*lm_by_l*v)/vm)/1.98  #knot\n",
      "F_by_Fm = (p/pm)*(1/lm_by_l)**2*(u/um)**2\n",
      "F= F_by_Fm*R\n",
      "\t\t\t\n",
      "#RESULTS\n",
      "print ' speed of torpedo in sea water = %.1f knot'%u_knot\n",
      "print  ' resistance= %.f lbf '%(F)\n",
      "print (1/lm_by_l)**2\n"
     ],
     "language": "python",
     "metadata": {},
     "outputs": [
      {
       "output_type": "stream",
       "stream": "stdout",
       "text": [
        " speed of torpedo in sea water = 13.8 knot\n",
        " resistance= 541 lbf \n",
        "100.0\n"
       ]
      }
     ],
     "prompt_number": 7
    },
    {
     "cell_type": "heading",
     "level": 3,
     "metadata": {},
     "source": [
      "Example 9.2.1 page no : 222"
     ]
    },
    {
     "cell_type": "code",
     "collapsed": false,
     "input": [
      "\n",
      "#initialisation of variables\n",
      "import math \n",
      "\n",
      "S= 5. \t\t\t#ft\n",
      "F= 70. \t\t\t#lbf\n",
      "B= 4. \t\t\t#degrees\n",
      "l= 1. \t\t\t#ft\n",
      "d= 0.002378 \t\t\t#slug/ft**3\n",
      "u= 120. \t\t\t#ft/sec\n",
      "\t\t\t\n",
      "#CALCULATIONS\n",
      "L= F*math.cos(math.radians(B))\n",
      "D=F*math.sin(math.radians(B))\n",
      "S1= S*l\n",
      "p= 0.5*d*u**2\n",
      "Cl= L/(p*S1)\n",
      "Cd= D/(p*S1)\n",
      "\t\t\t\n",
      "#RESULTS\n",
      "print  ' coefficient of lift= %.2f'%(Cl)\n",
      "print  '  coefficient of drag= %.4f'%(Cd)\n"
     ],
     "language": "python",
     "metadata": {},
     "outputs": [
      {
       "output_type": "stream",
       "stream": "stdout",
       "text": [
        " coefficient of lift= 0.82\n",
        "  coefficient of drag= 0.0570\n"
       ]
      }
     ],
     "prompt_number": 8
    },
    {
     "cell_type": "heading",
     "level": 3,
     "metadata": {},
     "source": [
      "Example 9.2.2 page no : 225"
     ]
    },
    {
     "cell_type": "code",
     "collapsed": false,
     "input": [
      "\n",
      "#initialisation of variables\n",
      "import math \n",
      "\n",
      "A= 600. \t\t\t#ft**2\n",
      "W= 40. \t\t\t#lbf/ft**2\n",
      "n= 75. \t\t\t#percent\n",
      "r= 10.\n",
      "v= 300. \t\t\t#miles/hour\n",
      "\t\t\t\n",
      "#CALCULATIONS\n",
      "L= W*A\n",
      "D= L/r\n",
      "P= D*v*5280./(60.*33000)\n",
      "hp= P*100./n\n",
      "\t\t\t\n",
      "#RESULTS\n",
      "print  ' brake horse-power of the engines= %.f h.p'%(hp)\n"
     ],
     "language": "python",
     "metadata": {},
     "outputs": [
      {
       "output_type": "stream",
       "stream": "stdout",
       "text": [
        " brake horse-power of the engines= 2560 h.p\n"
       ]
      }
     ],
     "prompt_number": 9
    },
    {
     "cell_type": "heading",
     "level": 3,
     "metadata": {},
     "source": [
      "Example 9.2.4 page no : 226"
     ]
    },
    {
     "cell_type": "code",
     "collapsed": false,
     "input": [
      "\n",
      "#initialisation of variables\n",
      "W = 22400            # lbf\n",
      "p = 0.002378         # slug/ft^3\n",
      "S = 500.             # ft**2\n",
      "b = 398.             \n",
      "a = 293\n",
      "D1 = 1530.           # lbf\n",
      "U = 200.           \n",
      "\n",
      "\n",
      "# Calculation\n",
      "#Part a\n",
      "U1 = round((2*W/(p*S)),-2)**(1./2) * (b/a)**(1./4)\n",
      "P1 = round((D1 * U1)/550)\n",
      "\n",
      "#Part b\n",
      "Umph = U1*0.681818                   # ft/sec to m.p.h\n",
      "D = round(round((D1/2)*((U/Umph)**2 + (Umph/U)**2),1))\n",
      "P = round(D*U*5280./(60*33000),-1)\n",
      "U = .76 * U1\n",
      "D = (D1/2.)*((U/Umph)**2 + (Umph/U)**2)\n",
      "power = round((D * U)*5280./(60*33000),-2)\n",
      "\n",
      "# Part c\n",
      "min_power = .76 * U\n",
      "# Results\n",
      "print \"a)Power expended for minumum drag is = %.1f h.p.\"%P1\n",
      "print \"  Speed for minimum power is U = %.1f m.p.h\"%U\n",
      "print \"b)Drag for minimum power is = %.0f lbf\"%D\n",
      "print \"  The minimum power is = %.0f h.p.\"%power\n",
      "print \"c) Speed for minimum power is U = %.1f m.p.h\"%min_power\n",
      "print \"Answers in book are wrong. Please calculate manually.\""
     ],
     "language": "python",
     "metadata": {},
     "outputs": [
      {
       "output_type": "stream",
       "stream": "stdout",
       "text": [
        "a)Power expended for minumum drag is = 583.0 h.p.\n",
        "  Speed for minimum power is U = 159.3 m.p.h\n",
        "b)Drag for minimum power is = 1566 lbf\n",
        "  The minimum power is = 700 h.p.\n",
        "c) Speed for minimum power is U = 121.1 m.p.h\n",
        "Answers in book are wrong. Please calculate manually.\n"
       ]
      }
     ],
     "prompt_number": 1
    },
    {
     "cell_type": "heading",
     "level": 3,
     "metadata": {},
     "source": [
      "Example 9.3.1 page no :231"
     ]
    },
    {
     "cell_type": "code",
     "collapsed": false,
     "input": [
      "\n",
      "#initialisation of variables\n",
      "\n",
      "va= 0.2\n",
      "r= 1./1.25\n",
      "r1= 1./50\n",
      "P= 20. \t\t\t#atm\n",
      "v= 400. \t\t\t#m.p.h\n",
      "\t\t\t\n",
      "#CALCULATIONS\n",
      "Um= v*va/(P*r*r1)\n",
      "\t\t\t\n",
      "#RESULTS\n",
      "print  ' Speed of air= %.f m.p.h'%(Um)\n"
     ],
     "language": "python",
     "metadata": {},
     "outputs": [
      {
       "output_type": "stream",
       "stream": "stdout",
       "text": [
        " Speed of air= 250 m.p.h\n"
       ]
      }
     ],
     "prompt_number": 17
    },
    {
     "cell_type": "heading",
     "level": 3,
     "metadata": {},
     "source": [
      "Example 9.4.1 page no : 234"
     ]
    },
    {
     "cell_type": "code",
     "collapsed": false,
     "input": [
      "\n",
      "import math \n",
      "#initialisation of variables\n",
      "\n",
      "\n",
      "U= 30. \t\t\t#ft/sec\n",
      "g= 32.2 \t\t\t#ft/sec**2\n",
      "l= 500.\t\t\t#ft\n",
      "r= 1./25\n",
      "\t\t\t\n",
      "#CALCULATIONS\n",
      "F=(U**2./(l*g))\n",
      "R= math.sqrt(r)\n",
      "Um= U*R\n",
      "\t\t\t\n",
      "#RESULTS\n",
      "print  ' Froude number= %.4f '%(F)\n",
      "print  '  speed= %.f ft/sec'%(Um)\n"
     ],
     "language": "python",
     "metadata": {},
     "outputs": [
      {
       "output_type": "stream",
       "stream": "stdout",
       "text": [
        " Froude number= 0.0559 \n",
        "  speed= 6 ft/sec\n"
       ]
      }
     ],
     "prompt_number": 48
    },
    {
     "cell_type": "heading",
     "level": 3,
     "metadata": {},
     "source": [
      "Example 9.4.2 pageno : 234"
     ]
    },
    {
     "cell_type": "code",
     "collapsed": false,
     "input": [
      "\n",
      "import math \n",
      "#initialisation of variables\n",
      "\n",
      "R1= 9.5 \t\t\t#lbf\n",
      "f1= 0.01\n",
      "S1= 22. \t\t\t#ft**2\n",
      "U1= 5.3\n",
      "n= 1.825\n",
      "l= 540.\t\t\t#ft\n",
      "l1= 15. \t\t\t#ft\n",
      "C= 0.0087\t\t\t#lbf/ft**2\n",
      "\t\t\t\n",
      "#CALCULATIONS\n",
      "Rr1= round(R1-f1*S1*U1**n,1)\n",
      "U= U1*math.sqrt(l/l1)\n",
      "r= (l/l1)**3.\n",
      "Rr= round(r*Rr1,-3)\n",
      "Rf= C*(l/l1)**2*S1*U**n\n",
      "R= Rr+Rf\n",
      "P= R*U*1.69/550.\n",
      "\n",
      "\n",
      "#RESULTS\n",
      "print  ' propulsive power= %.f h.p'%(P)\n",
      "print 'Answer in book is wrong.'"
     ],
     "language": "python",
     "metadata": {},
     "outputs": [
      {
       "output_type": "stream",
       "stream": "stdout",
       "text": [
        " propulsive power= 35755 h.p\n",
        "Answer in book is wrong.\n"
       ]
      }
     ],
     "prompt_number": 58
    },
    {
     "cell_type": "heading",
     "level": 3,
     "metadata": {},
     "source": [
      "Example 9.5.1 pageno : 237"
     ]
    },
    {
     "cell_type": "code",
     "collapsed": false,
     "input": [
      "\n",
      "import math \n",
      "#initialisation of variables\n",
      "\n",
      "s= 20. \t\t\t#ft\n",
      "u= 10. \t\t\t#ft/sec\n",
      "t= 1. \t\t\t#sec\n",
      "\t\t\t\n",
      "#CALCULATIONS\n",
      "r= s/u*t\n",
      "a= r*u/t\n",
      "\t\t\t\n",
      "#RESULTS\n",
      "print  ' constant accelaration= %.f ft/sec**2'%(a)\n"
     ],
     "language": "python",
     "metadata": {},
     "outputs": [
      {
       "output_type": "stream",
       "stream": "stdout",
       "text": [
        " constant accelaration= 20 ft/sec**2\n"
       ]
      }
     ],
     "prompt_number": 18
    },
    {
     "cell_type": "heading",
     "level": 3,
     "metadata": {},
     "source": [
      "Example 9.5.2 pageno : 237"
     ]
    },
    {
     "cell_type": "code",
     "collapsed": false,
     "input": [
      "\n",
      "#initialisation of variables\n",
      "a= 20. \t\t\t#ft/sec**2\n",
      "s= 20.\t\t\t#ft\n",
      "u= 10. \t\t\t#ft/sec\n",
      "\t\t\t\n",
      "#CALCULATIONS\n",
      "P= a*s/u**2.\n",
      "t= s*2/(u*P)\n",
      "\t\t\t\n",
      "#RESULTS\n",
      "print  ' time taken= %.f sec'%(t)\n"
     ],
     "language": "python",
     "metadata": {},
     "outputs": [
      {
       "output_type": "stream",
       "stream": "stdout",
       "text": [
        " time taken= 1 sec\n"
       ]
      }
     ],
     "prompt_number": 60
    },
    {
     "cell_type": "heading",
     "level": 3,
     "metadata": {},
     "source": [
      "Example 9.6.1 page no : 242\n"
     ]
    },
    {
     "cell_type": "code",
     "collapsed": false,
     "input": [
      "\n",
      "#initialisation of variables\n",
      "\n",
      "s= 0.8\n",
      "l= 1.\t\t\t#ft\n",
      "r= 8.\n",
      "\t\t\t\n",
      "#CALCULATIONS\n",
      "Hw= (s/r)**(2./3)*l\n",
      "Qw= 1.5*Hw**(2.5)\n",
      "R= (1./Hw)**2.5\n",
      "Q= Qw*R\n",
      "\t\t\t\n",
      "#RESULTS\n",
      "print  ' depth of water= %.3f ft'%(Hw)\n",
      "print  '  rate of flow of fluid= %.1f ft**3/sec'%(Q)\n"
     ],
     "language": "python",
     "metadata": {},
     "outputs": [
      {
       "output_type": "stream",
       "stream": "stdout",
       "text": [
        " depth of water= 0.215 ft\n",
        "  rate of flow of fluid= 1.5 ft**3/sec\n"
       ]
      }
     ],
     "prompt_number": 61
    },
    {
     "cell_type": "heading",
     "level": 3,
     "metadata": {},
     "source": [
      "Example 9.6.3 pageno : 244"
     ]
    },
    {
     "cell_type": "code",
     "collapsed": false,
     "input": [
      "\n",
      "#initialisation of variables\n",
      "\n",
      "Q1= 140. \t\t\t#gallons\n",
      "h= 3. \t\t\t#in\n",
      "r= 16.\n",
      "\t\t\t\n",
      "#CALCULATIONS\n",
      "H= h*r/12.\n",
      "Q2= round(Q1*H**5.,-3)\n",
      "\t\t\t\n",
      "#RESULTS\n",
      "print  ' corresponding head over the full-scale wier= %.f ft'%(H)\n",
      "print  '  discharge over the latter= %.f gal/min'%(Q2)\n"
     ],
     "language": "python",
     "metadata": {},
     "outputs": [
      {
       "output_type": "stream",
       "stream": "stdout",
       "text": [
        " corresponding head over the full-scale wier= 4 ft\n",
        "  discharge over the latter= 143000 gal/min\n"
       ]
      }
     ],
     "prompt_number": 63
    },
    {
     "cell_type": "heading",
     "level": 3,
     "metadata": {},
     "source": [
      "Example 9.7.1 page no: 248"
     ]
    },
    {
     "cell_type": "code",
     "collapsed": false,
     "input": [
      "\n",
      "#initialisation of variables\n",
      "\n",
      "r= 0.448\n",
      "R= 0.868\n",
      "r1= 0.152\n",
      "R1= 0.807\n",
      "\t\t\t\n",
      "#CALCULATIONS\n",
      "P= R**3./r**2.\n",
      "U= R/r\n",
      "P1= R1**3./r1**2.\n",
      "U1= R1/r1\n",
      "\t\t\t\n",
      "#RESULTS\n",
      "print  ' power ratio in case 1= %.2f '%(P)\n",
      "print  '  velocity ratio in case 1= %.2f '%(U)\n",
      "print  '  power ratio in case 2= %.2f '%(P1)\n",
      "print  '  velocity ratio in case 2= %.1f '%(U1)\n"
     ],
     "language": "python",
     "metadata": {},
     "outputs": [
      {
       "output_type": "stream",
       "stream": "stdout",
       "text": [
        " power ratio in case 1= 3.26 \n",
        "  velocity ratio in case 1= 1.94 \n",
        "  power ratio in case 2= 22.75 \n",
        "  velocity ratio in case 2= 5.3 \n"
       ]
      }
     ],
     "prompt_number": 64
    },
    {
     "cell_type": "heading",
     "level": 3,
     "metadata": {},
     "source": [
      "Example 9.7.2 page no : 249"
     ]
    },
    {
     "cell_type": "code",
     "collapsed": false,
     "input": [
      "\n",
      "import math \n",
      "\n",
      "#initialisation of variables\n",
      "w= 1. \t\t\t#gf/cm**3\n",
      "Ss= 7.8\n",
      "Sl= 0.9\n",
      "D= 1. \t\t\t#cm\n",
      "D1= 0.1 \t\t\t#cm\n",
      "g= 981. \t\t\t#cm/sec**2\n",
      "\t\t\t\n",
      "#CALCULATIONS\n",
      "F= w*(Ss-Sl)*4.*math.pi*D**3./(3.*8000)\n",
      "v= F*g/(3*math.pi*D1*2.)\n",
      "\t\t\t\n",
      "#RESULTS\n",
      "print  ' coefficient of viscosity= %.2f poise'%(v)\n"
     ],
     "language": "python",
     "metadata": {},
     "outputs": [
      {
       "output_type": "stream",
       "stream": "stdout",
       "text": [
        " coefficient of viscosity= 1.88 poise\n"
       ]
      }
     ],
     "prompt_number": 65
    },
    {
     "cell_type": "heading",
     "level": 3,
     "metadata": {},
     "source": [
      "Example 9.7.4 page no : 251"
     ]
    },
    {
     "cell_type": "code",
     "collapsed": false,
     "input": [
      "\n",
      "#initialisation of variables\n",
      "\n",
      "T= 15. \t\t\t#C\n",
      "T1= -44. \t\t\t#C\n",
      "P= 24. \t\t\t#atm\n",
      "s= 0.374\n",
      "m= 6. \t\t\t#tonf\n",
      "\t\t\t\n",
      "#CALCULATIONS\n",
      "r= ((T+273.)/(T1+273))**0.75\n",
      "R= P/s\n",
      "R1= r**2./R\n",
      "F= R1*m*2240.\n",
      "\t\t\t\n",
      "#RESULTS\n",
      "print  ' lift force= %.1f lbf'%(F)\n"
     ],
     "language": "python",
     "metadata": {},
     "outputs": [
      {
       "output_type": "stream",
       "stream": "stdout",
       "text": [
        " lift force= 295.4 lbf\n"
       ]
      }
     ],
     "prompt_number": 66
    },
    {
     "cell_type": "heading",
     "level": 3,
     "metadata": {},
     "source": [
      "Example 9.7.5 page no : 253\n"
     ]
    },
    {
     "cell_type": "code",
     "collapsed": false,
     "input": [
      "\n",
      "#initialisation of variables\n",
      "\n",
      "u= 80. \t\t\t#ft/sec\n",
      "n= 62.\n",
      "r= 1./4\n",
      "v= 11. \t\t\t#ft**3\n",
      "w= 62.3\t\t\t#lbf/ft**3\n",
      "p= 2. \t\t\t#lbf/in**2\n",
      "\t\t\t\n",
      "#CALCULATIONS\n",
      "uw= u*n/(r*v*w)\n",
      "R= v*w*(uw/u)**2.\n",
      "P= r**2.*p/R\n",
      "\t\t\t\n",
      "#RESULTS\n",
      "print  ' water velocity= %.f ft/sec'%(uw)\n",
      "print  '  pressure drop= %.5f lbf/in**2 per ft'%(P)\n"
     ],
     "language": "python",
     "metadata": {},
     "outputs": [
      {
       "output_type": "stream",
       "stream": "stdout",
       "text": [
        " water velocity= 29 ft/sec\n",
        "  pressure drop= 0.00139 lbf/in**2 per ft\n"
       ]
      }
     ],
     "prompt_number": 67
    },
    {
     "cell_type": "heading",
     "level": 3,
     "metadata": {},
     "source": [
      "Example 9.8.3 pageno : 259"
     ]
    },
    {
     "cell_type": "code",
     "collapsed": false,
     "input": [
      "\n",
      "#initialisation of variables\n",
      "\n",
      "N= 1800. \t\t\t#rev/min\n",
      "Vm= 60. \t\t\t#mile/hour\n",
      "V= 300. \t\t\t#mile/hour\n",
      "r= 10.\n",
      "\t\t\t\n",
      "#CALCULATIONS\n",
      "Nm= N*Vm*r/V\n",
      "\t\t\t\n",
      "#RESULTS\n",
      "print  ' rotary speed= %.f rev/min'%(Nm)\n"
     ],
     "language": "python",
     "metadata": {},
     "outputs": [
      {
       "output_type": "stream",
       "stream": "stdout",
       "text": [
        " rotary speed= 3600 rev/min\n"
       ]
      }
     ],
     "prompt_number": 68
    }
   ],
   "metadata": {}
  }
 ]
}