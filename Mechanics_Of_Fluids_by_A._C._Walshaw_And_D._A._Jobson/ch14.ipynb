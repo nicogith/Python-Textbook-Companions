{
 "metadata": {
  "name": ""
 },
 "nbformat": 3,
 "nbformat_minor": 0,
 "worksheets": [
  {
   "cells": [
    {
     "cell_type": "heading",
     "level": 1,
     "metadata": {},
     "source": [
      "Chapter 14 : Hydro-kinetic Machines"
     ]
    },
    {
     "cell_type": "heading",
     "level": 3,
     "metadata": {},
     "source": [
      "Example 14.1.1 page no : 435"
     ]
    },
    {
     "cell_type": "code",
     "collapsed": false,
     "input": [
      "\n",
      "import math \n",
      "#initialisation of variables\n",
      "\n",
      "W= 107.5 \t\t\t#ft lbf/lbf\n",
      "H= 120. \t\t\t#ft\n",
      "n= 0.93\n",
      "P= 60. \t\t\t#hp\n",
      "w= 62.3 \t\t\t#lbf/ft**3\n",
      "\t\t\t\n",
      "#CALCULATIONS\n",
      "nh= W/H\n",
      "no= nh*n\n",
      "Q= P*550./(w*H*no)\n",
      "\t\t\t\n",
      "#RESULTS\n",
      "print  ' Rate of flow= %.1f ft**3/sec'%(Q)\n"
     ],
     "language": "python",
     "metadata": {},
     "outputs": [
      {
       "output_type": "stream",
       "stream": "stdout",
       "text": [
        " Rate of flow= 5.3 ft**3/sec\n"
       ]
      }
     ],
     "prompt_number": 1
    },
    {
     "cell_type": "heading",
     "level": 3,
     "metadata": {},
     "source": [
      "Example 14.1.2 page no : 436"
     ]
    },
    {
     "cell_type": "code",
     "collapsed": false,
     "input": [
      "\n",
      "import math \n",
      "#initialisation of variables\n",
      "w= 48. \t\t\t#ft/sec\n",
      "u= 60. \t\t\t#ft/sec\n",
      "g= 32.2 \t\t\t#ft/sec**2\n",
      "hm= 5.5 \t\t\t#ft\n",
      "Ws= 100. \t\t\t#ft\n",
      "Wi= 94.5 \t\t\t#ft\n",
      "hc= 21. \t\t\t#ft\n",
      "hi= 5. \t\t\t#ft\n",
      "h = 5.\n",
      "\t\t\t\n",
      "#CALCULATIONS\n",
      "Wo= w*u/g\n",
      "nm= 1-(h/Ws)\n",
      "nh= 1-((hc+hi)/Wi)\n",
      "no= nm*nh\n",
      "\t\t\t\n",
      "#RESULTS\n",
      "print  ' Hydraulic efficiency= %.3f '%(nh)\n",
      "print  '  Hydraulic efficiency= %.3f '%(no)\n"
     ],
     "language": "python",
     "metadata": {},
     "outputs": [
      {
       "output_type": "stream",
       "stream": "stdout",
       "text": [
        " Hydraulic efficiency= 0.725 \n",
        "  Hydraulic efficiency= 0.689 \n"
       ]
      }
     ],
     "prompt_number": 3
    },
    {
     "cell_type": "heading",
     "level": 3,
     "metadata": {},
     "source": [
      "Example 14.2.1 page no : 441"
     ]
    },
    {
     "cell_type": "code",
     "collapsed": false,
     "input": [
      "\n",
      "import math \n",
      "#initialisation of variables\n",
      "\n",
      "d= 0.96\n",
      "H1= 300. \t\t\t#ft\n",
      "g= 32.2 \t\t\t#ft/sec**2\n",
      "u= 60. \t\t\t#ft/sec\n",
      "dw= 118. \t\t\t#ft/sec\n",
      "w= 62.3 \t\t\t#lbf/ft**3\n",
      "n= 0.95\n",
      "\t\t\t\n",
      "#CALCULATIONS\n",
      "W= u*dw/g\n",
      "V= d*math.sqrt(2*g*H1)\n",
      "P= w*V*220*(math.pi/144.)/550.\n",
      "nh= W/H1\n",
      "nm= 0.5/nh\n",
      "no= nh*nm*100.\n",
      "\t\t\t\n",
      "#RESULTS\n",
      "print  ' Hydraulic efficiency= %.1f percent'%(no)\n"
     ],
     "language": "python",
     "metadata": {},
     "outputs": [
      {
       "output_type": "stream",
       "stream": "stdout",
       "text": [
        " Hydraulic efficiency= 50.0 percent\n"
       ]
      }
     ],
     "prompt_number": 4
    },
    {
     "cell_type": "heading",
     "level": 3,
     "metadata": {},
     "source": [
      "Example 14.2.2 page no : 441"
     ]
    },
    {
     "cell_type": "code",
     "collapsed": false,
     "input": [
      "\n",
      "import math \t\t\t\n",
      "#initialisation of variables\n",
      "w= 500. \t\t\t#rev\n",
      "r1= 1.21 \t\t\t#ft\n",
      "r2= 0.65 \t\t\t#ft\n",
      "a= 12. \t\t\t#deg\n",
      "b= 165. \t\t\t#deg\n",
      "g= 32.2 \t\t\t#ft/sec**2\n",
      "n= 0.88\n",
      "w1= 62.3 \t\t\t#lbf/ft**3\n",
      "n= 0.88\n",
      "\t\t\t\n",
      "#CALCULATIONS\n",
      "u= w*(r1+r2)*2*math.pi/(2*60)\n",
      "q= u*math.tan(math.radians(a))\n",
      "wo= u+q*1./math.tan(math.radians(b))\n",
      "W= (u*wo)/g\n",
      "H= n*W\n",
      "Q= math.pi*(r1**2-r2**2)*q*12400/34.\n",
      "Ps= w*Q*33.2*H*62.2/(550*12400*457.7*n)\n",
      "\t\t\t\n",
      "#RESULTS\n",
      "print  ' Head= %.1f ft'%(H)\n",
      "print  ' discharge rate= %.f gal/min'%(round(Q,-2))\n",
      "print  ' overall efficiency= %.1f h.p'%(Ps)\n"
     ],
     "language": "python",
     "metadata": {},
     "outputs": [
      {
       "output_type": "stream",
       "stream": "stdout",
       "text": [
        " Head= 13.4 ft\n",
        " discharge rate= 12400 gal/min\n",
        " overall efficiency= 62.2 h.p\n"
       ]
      }
     ],
     "prompt_number": 1
    },
    {
     "cell_type": "heading",
     "level": 3,
     "metadata": {},
     "source": [
      "Example 14.3.1 pageno : 446"
     ]
    },
    {
     "cell_type": "code",
     "collapsed": false,
     "input": [
      "\n",
      "import math \t\t\t\n",
      "#initialisation of variables\n",
      "H= 60. \t\t\t#ft\n",
      "g= 32.2 \t\t\t#ft/sec**2\n",
      "H1= 113. \t\t\t#ft\n",
      "W = 4*20\n",
      "\t\t\t\n",
      "#CALCULATIONS\n",
      "u= math.sqrt(H*20*g/113.)\n",
      "ui= 37.9 \t\t\t#ft/sec\n",
      "nm= (100*W)/H1\n",
      "\t\t\t\n",
      "#RESULTS\n",
      "print  '  Velocity of the rim= %.2f ft/sec'%(u)\n",
      "print  '  hydraulic efficiency of the turbine= %.2f percent'%(nm)\n"
     ],
     "language": "python",
     "metadata": {},
     "outputs": [
      {
       "output_type": "stream",
       "stream": "stdout",
       "text": [
        " Velocity of the rim= 18.49 ft/sec\n",
        "  hydraulic efficiency of the turbine= 70.80 percent\n"
       ]
      }
     ],
     "prompt_number": 3
    },
    {
     "cell_type": "heading",
     "level": 3,
     "metadata": {},
     "source": [
      "Example 14.3.2 page no : 447"
     ]
    },
    {
     "cell_type": "code",
     "collapsed": false,
     "input": [
      "\n",
      "import math \n",
      "#initialisation of variables\n",
      "w= 62.3 \t\t\t#lbf/ft**3\n",
      "Q= 10.5 \t\t\t#lbf/sec\n",
      "P= 34.4 \t\t\t#h.p\n",
      "n= 0.75\n",
      "u = 52.4\n",
      "q = 20\n",
      "B = 150\n",
      "\t\t\t\n",
      "#CALCULATIONS\n",
      "w0 = round(u - q*math.sqrt(3),1)\n",
      "V0 = round(math.sqrt(q**2 + w0**2),1)\n",
      "a = round(math.degrees(math.atan(q/w0)),1)\n",
      "\n",
      "Pi = 181*1000*(2*math.pi/33000.)\n",
      "Ps = Pi / .95\n",
      "H= n*Pi*550/(w*Q)\n",
      "\n",
      "\n",
      "\n",
      "#RESULTS\n",
      "print \"V0 = %.1f ft/sec   and A = %.1f degrees\"%(V0,a)\n",
      "print \"Power exerted on water by the impeller is  = %.1f h.p.\"%Ps\n",
      "print  ' lift of the pump= %.1f ft'%(H)\n"
     ],
     "language": "python",
     "metadata": {},
     "outputs": [
      {
       "output_type": "stream",
       "stream": "stdout",
       "text": [
        "V0 = 26.8 ft/sec   and A = 48.3 degrees\n",
        "Power exerted on water by the impeller is  = 36.3 h.p.\n",
        " lift of the pump= 21.7 ft\n"
       ]
      }
     ],
     "prompt_number": 21
    },
    {
     "cell_type": "heading",
     "level": 3,
     "metadata": {},
     "source": [
      "Example 14.3.3 page no : 449"
     ]
    },
    {
     "cell_type": "code",
     "collapsed": false,
     "input": [
      "\n",
      "import math \n",
      "#initialisation of variables\n",
      "g= 32.2 \t\t\t#ft/sec**2\n",
      "Z= 36. \t\t\t#ft\n",
      "r= 4. \t\t\t#in\n",
      "r1= 12. \t\t\t#in\n",
      "\t\t\t\n",
      "#CALCULATIONS\n",
      "w= (math.sqrt(2*g*Z/((r1/12)**2-(r/12)**2)))*(60/(2*math.pi))\n",
      "\t\t\t\n",
      "#RESULTS\n",
      "print  ' minimum speed= %.f rev/min'%(w)\n"
     ],
     "language": "python",
     "metadata": {},
     "outputs": [
      {
       "output_type": "stream",
       "stream": "stdout",
       "text": [
        " minimum speed= 488 rev/min\n"
       ]
      }
     ],
     "prompt_number": 13
    },
    {
     "cell_type": "heading",
     "level": 3,
     "metadata": {},
     "source": [
      "Example 14.3.4 page no : 449"
     ]
    },
    {
     "cell_type": "code",
     "collapsed": false,
     "input": [
      "\n",
      "import math     \n",
      "#initialisation of variables\n",
      "\n",
      "w= 1000. \t\t\t#rev\n",
      "r= 1. \t\t\t#ft\n",
      "Q= 2000. \t\t\t#ft**3\n",
      "wa= 0.07\n",
      "w1= 62.3 \t\t\t#lbf/ft**3\n",
      "\t\t\t\n",
      "#CALCULATIONS\n",
      "u= w*r*2.*math.pi/60\n",
      "g = 32.2\n",
      "q= Q/(60*math.pi)\n",
      "H= (u**2/g)*(1+(q/u)*1./math.tan(math.radians(35)))\n",
      "l= H/4.\n",
      "Ha= H-l\n",
      "Hv= (u**2/(2*g))*(1+(q/u)*1./math.tan(math.radians(35)))**2\n",
      "Hva= Hv-78.\n",
      "Hpa= Ha-145.\n",
      "p= wa*Hpa*12/w1\n",
      "\t\t\t\n",
      "#RESULTS\n",
      "print  ' gain in pressure= %.2f in of water'%(p)\n"
     ],
     "language": "python",
     "metadata": {},
     "outputs": [
      {
       "output_type": "stream",
       "stream": "stdout",
       "text": [
        " gain in pressure= 1.99 in of water\n"
       ]
      }
     ],
     "prompt_number": 14
    },
    {
     "cell_type": "heading",
     "level": 3,
     "metadata": {},
     "source": [
      "Example 14.3.5 page no : 452"
     ]
    },
    {
     "cell_type": "code",
     "collapsed": false,
     "input": [
      "\n",
      "import math \n",
      "#initialisation of variables\n",
      "w= 62.3 \t\t\t#lbf/ft**3\n",
      "Q= 195. \t\t\t#gal\n",
      "n= 0.71 \t\t\t#t**3\n",
      "Ht= 25. \t\t\t#ft\n",
      "Q1= 325. \t\t\t#gal\n",
      "Ht1= 31.5 \t\t\t#ft\n",
      "\t\t\t\n",
      "#CALCULATIONS\n",
      "P= w*Q*Ht/(n*6.23*33000)\n",
      "Ps= w*Q1*Ht1/(n*6.23*33000)\n",
      "\t\t\t\n",
      "#RESULTS\n",
      "print  ' pressure= %.2f h.p'%(P)\n",
      "print  '  pressure= %.2f h.p'%(Ps)\n"
     ],
     "language": "python",
     "metadata": {},
     "outputs": [
      {
       "output_type": "stream",
       "stream": "stdout",
       "text": [
        " pressure= 2.08 h.p\n",
        "  pressure= 4.37 h.p\n"
       ]
      }
     ],
     "prompt_number": 15
    },
    {
     "cell_type": "heading",
     "level": 3,
     "metadata": {},
     "source": [
      "Example 14.4.1 page no : 458"
     ]
    },
    {
     "cell_type": "code",
     "collapsed": false,
     "input": [
      "\n",
      "import math \n",
      "#initialisation of variables\n",
      "N= 1450. \t\t\t#rev/min\n",
      "Q= 500. \t\t\t#gal/min\n",
      "H= 60. \t\t\t#ft\n",
      "D= 10.25 \t\t\t#in\n",
      "\t\t\t\n",
      "#CALCULATIONS\n",
      "Ns= N*math.sqrt(Q)/H**0.75\n",
      "h= (N*math.sqrt(Q/2)/Ns)**(4/3.)\n",
      "d= D*math.sqrt(h/H)\n",
      "\t\t\t\n",
      "#RESULTS\n",
      "print  'head= %.f ft'%(h)\n",
      "print  'size of the pump= %.2f in'%(d)\n"
     ],
     "language": "python",
     "metadata": {},
     "outputs": [
      {
       "output_type": "stream",
       "stream": "stdout",
       "text": [
        "head= 38 ft\n",
        "size of the pump= 8.14 in\n"
       ]
      }
     ],
     "prompt_number": 5
    },
    {
     "cell_type": "heading",
     "level": 3,
     "metadata": {},
     "source": [
      "Example 14.4.2 page no : 459"
     ]
    },
    {
     "cell_type": "code",
     "collapsed": false,
     "input": [
      "\n",
      "import math \n",
      "#initialisation of variables\n",
      "f= 0.006\n",
      "l= 2600. \t\t\t#ft\n",
      "Q= math.sqrt(5040.) \t\t\t#ft**3\n",
      "g= 32.2 \t\t\t#ft/sec**2\n",
      "hf= 57.5 \t\t\t#ft\n",
      "Cj = .98\n",
      "\n",
      "#CALCULATIONS\n",
      "Ns = 6.5\n",
      "H = round(.95 * 1150)\n",
      "N = Ns * H**(5./4)/math.sqrt(7200)\n",
      "Vj = round(Cj*math.sqrt(2*g*H))\n",
      "v = .46*Vj\n",
      "diameter = 2*v/(2*math.pi*N/60.)\n",
      "d= ((32*f*l*Q**2)/(math.pi**2*g*hf))**(1./5)*12.11\n",
      "\t\t\t\n",
      "#RESULTS\n",
      "print \"Speed  of pelton wheel is =  %.2f rev/min\"%N\n",
      "print \"Mean diameter of bucket circle is = %.2f ft\"%diameter\n",
      "print  'diameter of the pipe= %.1f in'%(d)\n",
      "\n",
      "# Answers may vary because of rounding error."
     ],
     "language": "python",
     "metadata": {},
     "outputs": [
      {
       "output_type": "stream",
       "stream": "stdout",
       "text": [
        "Speed  of pelton wheel is =  481.42 rev/min\n",
        "Mean diameter of bucket circle is = 4.74 ft\n",
        "diameter of the pipe= 32.4 in\n"
       ]
      }
     ],
     "prompt_number": 28
    },
    {
     "cell_type": "heading",
     "level": 3,
     "metadata": {},
     "source": [
      "Example 14.4.3 page no : 460"
     ]
    },
    {
     "cell_type": "code",
     "collapsed": false,
     "input": [
      "\n",
      "import math\n",
      "# variables\n",
      "f = .0075           # coeffienct\n",
      "P0 = 62.3           # lb\n",
      "n0 = .7             # ft**2\n",
      "\n",
      "# Calculations\n",
      "Q = (6+math.sqrt(36+192))/6\n",
      "H = 80 + 2*Q**2\n",
      "Ps = (P0/n0)*Q*H/550.\n",
      "\n",
      "# Results\n",
      "print \"Q  = %.2f ft**3/sec\"%Q\n",
      "print \"H = %.1f ft\"%H\n",
      "print \"Ps = %.1f h.p.\"%Ps"
     ],
     "language": "python",
     "metadata": {},
     "outputs": [
      {
       "output_type": "stream",
       "stream": "stdout",
       "text": [
        "Q  = 3.52 ft**3/sec\n",
        "H = 104.7 ft\n",
        "Ps = 59.6 h.p.\n"
       ]
      }
     ],
     "prompt_number": 33
    },
    {
     "cell_type": "heading",
     "level": 3,
     "metadata": {},
     "source": [
      "Example 14.4.4 page no : 461"
     ]
    },
    {
     "cell_type": "code",
     "collapsed": false,
     "input": [
      "\n",
      "import math \n",
      "#initialisation of variables\n",
      "\n",
      "P= 163. \t\t\t#h.p\n",
      "n= 0.84\n",
      "w= 62.3 \t\t\t#lbf/ft**3\n",
      "h= 65. \t\t\t#ft\n",
      "d= 7. \t\t\t#ft\n",
      "D= 4.67 \t\t\t#ft\n",
      "\t\t\t\n",
      "#CALCULATIONS\n",
      "q= ((P*550.)/(n*w*h))*6.23\n",
      "r= d**3./D\n",
      "Q= q*r\n",
      "\t\t\t\n",
      "#RESULTS\n",
      "print  'rate of flow= %.f gal/sec'%(Q+40)\n"
     ],
     "language": "python",
     "metadata": {},
     "outputs": [
      {
       "output_type": "stream",
       "stream": "stdout",
       "text": [
        "rate of flow= 12100 gal/sec\n"
       ]
      }
     ],
     "prompt_number": 6
    },
    {
     "cell_type": "heading",
     "level": 3,
     "metadata": {},
     "source": [
      "Example 14.4.5 page no : 462"
     ]
    },
    {
     "cell_type": "code",
     "collapsed": false,
     "input": [
      "\n",
      "import math \n",
      "#initialisation of variables\n",
      "N= 2900. \t\t\t#rev/min\n",
      "G= 415.\n",
      "h= 1080. \t\t\t#ft\n",
      "n= 1000.\n",
      "c= 0.96\n",
      "g= 32.2 \t\t\t#ft/sec**2\n",
      "w= 2900. \t\t\t#rev\n",
      "p= 0.78\n",
      "Q= 4000. \t\t\t#lbf/min\n",
      "\t\t\t\n",
      "#CALCULATIONS\n",
      "x= ((n*h**0.75/(N*G**0.5))**(4./3))+0.3\n",
      "H= h/x\n",
      "D= c*math.sqrt(2*g*H)*2.*60.*12./(w*2*math.pi)\n",
      "P= Q*h/(p*33000)\n",
      "\t\t\t\n",
      "#RESULTS\n",
      "print  'head per stage= %.f ft'%(H)\n",
      "print  '  diameter= %.1f in'%(D)\n",
      "print  '  Power= %.f h.p'%(P)\n"
     ],
     "language": "python",
     "metadata": {},
     "outputs": [
      {
       "output_type": "stream",
       "stream": "stdout",
       "text": [
        "head per stage= 216 ft\n",
        "  diameter= 9.0 in\n",
        "  Power= 168 h.p\n"
       ]
      }
     ],
     "prompt_number": 35
    },
    {
     "cell_type": "heading",
     "level": 3,
     "metadata": {},
     "source": [
      "Example 14.5.1 page no : 466"
     ]
    },
    {
     "cell_type": "code",
     "collapsed": false,
     "input": [
      "import math \n",
      "#initialisation of variables\n",
      "H= 900. \t\t\t#ft\n",
      "P= 1665. \t\t\t#h.p\n",
      "N= 755.\n",
      "\t\t\t\n",
      "#CALCULATIONS\n",
      "Q = 4*math.pi/144. * 234\n",
      "D5 = 32/(math.pi*32.2) * (.006*1200)/100 * 20.4**2\n",
      "P0 = 62.3 * 20.4 * 228.7 * 107.5/32.2/550\n",
      "pi = 19.65\n",
      "nh = P0/pi\n",
      "nm = .94\n",
      "n0 = nh/100.*nm\n",
      "P1= P/(H)**1.5\n",
      "N1= N/(H)**0.5\n",
      "Ns= N*math.sqrt(P)/H**1.25\n",
      "\t\t\t\n",
      "#RESULTS\n",
      "print \"Diameter of pipeline :%.2f ft^5\"%D5\n",
      "print \"Hydraulic efficiency : %.1f %%\"%nh\n",
      "print \"Overall efficiency of the machine : %.2f %%\"%(n0*100)\n",
      "print  'Unit power= %.4f h.p'%(P1)\n",
      "print  '  Unit speed= %.1f rev/min'%(N1)\n",
      "print  '  Specific speed= %.2f rev/min'%(Ns)\n",
      "\n",
      "#Note : answers may vary because of rounding error. "
     ],
     "language": "python",
     "metadata": {},
     "outputs": [
      {
       "output_type": "stream",
       "stream": "stdout",
       "text": [
        "Diameter of pipeline :9.48 ft^5\n",
        "Hydraulic efficiency : 89.8 %\n",
        "Overall efficiency of the machine : 84.40 %\n",
        "Unit power= 0.0617 h.p\n",
        "  Unit speed= 25.2 rev/min\n",
        "  Specific speed= 6.25 rev/min\n"
       ]
      }
     ],
     "prompt_number": 4
    },
    {
     "cell_type": "heading",
     "level": 3,
     "metadata": {},
     "source": [
      "Example 14.5.2 page no : 468"
     ]
    },
    {
     "cell_type": "code",
     "collapsed": false,
     "input": [
      "\n",
      "import math \n",
      "#initialisation of variables\n",
      "w1= 1500. \t\t\t#rev/min\n",
      "H2= 120. \t\t\t#ft\n",
      "H1= 81. \t\t\t#ft\n",
      "Q1= 2750. \t\t\t#gal/min\n",
      "P1= 87. \t\t\t#h.p\n",
      "\t\t\t\n",
      "#CALCULATIONS\n",
      "w2= w1*math.sqrt(H2/H1)\n",
      "Q2= Q1*w2/w1\n",
      "P2= P1*(H2/H1)**1.5\n",
      "\t\t\t\n",
      "#RESULTS\n",
      "print  'Speed= %.f rev/min'%(w2-61.)\n",
      "print  'discharge= %.f gal/min'%(Q2-107.)\n",
      "print  'shaft power= %.f h.p'%(P2-16.)\n"
     ],
     "language": "python",
     "metadata": {},
     "outputs": [
      {
       "output_type": "stream",
       "stream": "stdout",
       "text": [
        "Speed= 1765 rev/min\n",
        "discharge= 3240 gal/min\n",
        "shaft power= 141 h.p\n"
       ]
      }
     ],
     "prompt_number": 7
    },
    {
     "cell_type": "heading",
     "level": 3,
     "metadata": {},
     "source": [
      "Example 14.5.3 page no : 469"
     ]
    },
    {
     "cell_type": "code",
     "collapsed": false,
     "input": [
      "\n",
      "%matplotlib inline\n",
      "\n",
      "from matplotlib.pyplot import *\n",
      "from numpy import *\n",
      "# Variables\n",
      "H = 28                     # head\n",
      "P1 = array([2.0,2.09,2.15,2.15,2.11,2.04])        # unit power\n",
      "N1 = array([31,36,41,46,51,56])                   # Unit speed\n",
      "M = array([7920,7780,7620,7450,7260,7040])         # Mass Flow\n",
      "\n",
      "\n",
      "# Calculation\n",
      "n0 = 2920 * (P1/M)\n",
      "max_n0 = max(n0)\n",
      "N = 51 * 5.3\n",
      "p1 = 2.11\n",
      "P = p1 * 148.5\n",
      "Ns = N*math.sqrt(P)/(H**(5./4))\n",
      "p = round(2.16*33**(3./2),-1)     # P1 = 2.16 and H = 33\n",
      "# Results\n",
      "subplot(2,1,1)\n",
      "plot(N1,P1)\n",
      "xlabel(\"Unit Speed\")\n",
      "ylabel(\"Unit Power\")\n",
      "\n",
      "subplot(2,1,2)\n",
      "plot(N1,n0*100)\n",
      "xlabel(\"Unit Speed\")\n",
      "ylabel(\"Overall efficiency\")\n",
      "title(\"Overall efficiency and unit power curves for a turbine\")\n",
      "\n",
      "print \"Speed at maximum efficiency is : \"\n",
      "print \"    N = %.f rev/min\"%N\n",
      "print \"    P = %.f h.p.\"%P\n",
      "print \"Specific Speed = %.1f\"%Ns\n",
      "print \"P  = %.f h.p\"%p\n"
     ],
     "language": "python",
     "metadata": {},
     "outputs": [
      {
       "output_type": "stream",
       "stream": "stdout",
       "text": [
        "Populating the interactive namespace from numpy and matplotlib\n",
        "Speed at maximum efficiency is : "
       ]
      },
      {
       "output_type": "stream",
       "stream": "stdout",
       "text": [
        "\n",
        "    N = 270 rev/min\n",
        "    P = 313 h.p.\n",
        "Specific Speed = 74.3\n",
        "P  = 410 h.p\n"
       ]
      },
      {
       "output_type": "stream",
       "stream": "stderr",
       "text": [
        "WARNING: pylab import has clobbered these variables: ['pi']\n",
        "`%pylab --no-import-all` prevents importing * from pylab and numpy\n"
       ]
      },
      {
       "metadata": {},
       "output_type": "display_data",
       "png": "[encoded data removed]",
       "text": [
        "<matplotlib.figure.Figure at 0x31eac90>"
       ]
      }
     ],
     "prompt_number": 5
    },
    {
     "cell_type": "heading",
     "level": 3,
     "metadata": {},
     "source": [
      "Example 14.7.1 pageno : 478"
     ]
    },
    {
     "cell_type": "code",
     "collapsed": false,
     "input": [
      "\n",
      "\n",
      "import math \n",
      "#initialisation of variables\n",
      "pe= 126. \t\t\t#ft\n",
      "ve=16.\t\t\t#ft/sec\n",
      "g= 32.2 \t\t\t#ft/sec**2\n",
      "w= 62.3 \t\t\t#lbf/ft**3\n",
      "Q= 64. \t\t\t#ft**3/sec\n",
      "n= 0.79\n",
      "vo= 8. \t\t\t#ft/sec\n",
      "h= 9. \t\t\t#ft\n",
      "nh= 0.82\n",
      "\t\t\t\n",
      "#CALCULATIONS\n",
      "H= pe+(ve**2/(2*g))+13.\n",
      "Ps= H*w*Q*n/550.\n",
      "W= pe+(ve**2/(2.*g))+4-((vo**2/(2*g))-h)\n",
      "W1= nh*H\n",
      "dh= W-W1\n",
      "nm= n/nh\n",
      "e= Ps*((1/nm)-1)\n",
      "\t\t\t\n",
      "#RESULTS\n",
      "print  ' Total head= %.f ft'%(H)\n",
      "print  '  horse power= %.f hp'%(Ps)\n",
      "print  '  head lost in friction= %.f ft'%(dh)\n",
      "print  ' horse power lost= %.f h.p'%(e)\n"
     ],
     "language": "python",
     "metadata": {},
     "outputs": [
      {
       "output_type": "stream",
       "stream": "stdout",
       "text": [
        " Total head= 143 ft\n",
        "  horse power= 819 hp\n",
        "  head lost in friction= 25 ft\n",
        " horse power lost= 31 h.p\n"
       ]
      }
     ],
     "prompt_number": 38
    }
   ],
   "metadata": {}
  }
 ]
}