{
 "metadata": {
  "name": ""
 },
 "nbformat": 3,
 "nbformat_minor": 0,
 "worksheets": [
  {
   "cells": [
    {
     "cell_type": "heading",
     "level": 1,
     "metadata": {},
     "source": [
      "Chapter 7 : Fluid Momentum and Thrust by Reaction"
     ]
    },
    {
     "cell_type": "heading",
     "level": 3,
     "metadata": {},
     "source": [
      "Example 7.1.1 page no : 154"
     ]
    },
    {
     "cell_type": "code",
     "collapsed": false,
     "input": [
      "\n",
      "#initialisation of variables\n",
      "import math \n",
      "\n",
      "w= 62.4 \t\t\t#lbf/ft**3\n",
      "d= 2. \t\t\t#in\n",
      "V= 50. \t\t\t#ft/sec\n",
      "V1= 40. \t\t\t#ft/sec\n",
      "\t\t\t\n",
      "#CALCULATIONS\n",
      "Fa= w*(math.pi/4)*d**2*V**2/(144*32.2)\n",
      "r= (V1/V)**2\n",
      "Fb= r*Fa\n",
      "\t\t\t\n",
      "#RESULTS\n",
      "print  ' force exerted = %.1f lbf'%(Fa)\n",
      "print  '  force exerted = %.1f lbf'%(Fb)\n"
     ],
     "language": "python",
     "metadata": {},
     "outputs": [
      {
       "output_type": "stream",
       "stream": "stdout",
       "text": [
        " force exerted = 105.7 lbf\n",
        "  force exerted = 67.6 lbf\n"
       ]
      }
     ],
     "prompt_number": 1
    },
    {
     "cell_type": "heading",
     "level": 3,
     "metadata": {},
     "source": [
      "Example 7.1.2 page no : 156"
     ]
    },
    {
     "cell_type": "code",
     "collapsed": false,
     "input": [
      "\n",
      "#initialisation of variables\n",
      "import math \n",
      "v= 50. \t\t\t#ft/sec\n",
      "d= 2. \t\t\t#in\n",
      "w= 62.4 \t\t#lbf/ft**3\n",
      "v1= 10. \t\t#ft/sec\n",
      "\t\t\t\n",
      "#CALCULATIONS\n",
      "m= w*(math.pi/4)*d**2*v/144.\n",
      "du= v1-v\n",
      "F= m*du\n",
      "F1= -F*(1/32.2)\n",
      "\t\t\t\n",
      "#RESULTS\n",
      "print  ' force exerted by thejet = %.1f lbf'%(F1)\n",
      "print 'Answer may vary because of rounding error'"
     ],
     "language": "python",
     "metadata": {},
     "outputs": [
      {
       "output_type": "stream",
       "stream": "stdout",
       "text": [
        " force exerted by thejet = 84.6 lbf\n",
        "Answer may vary because of rounding error\n"
       ]
      }
     ],
     "prompt_number": 3
    },
    {
     "cell_type": "heading",
     "level": 3,
     "metadata": {},
     "source": [
      "Example 7.2.2 page no : 158"
     ]
    },
    {
     "cell_type": "code",
     "collapsed": false,
     "input": [
      "\n",
      "#initialisation of variables\n",
      "import math \n",
      "d= 4. \t\t\t#ft\n",
      "w= 240. \t\t\t#rev/min\n",
      "v1= 120. \t\t\t#ft/sec\n",
      "n= 25.\n",
      "a= 30. \t\t\t#degrees\n",
      "g= 32.2 \t\t\t#ft/sec**2\n",
      "\t\t\t\n",
      "#CALCULATIONS\n",
      "v= d*w*2*math.pi/(2*60)\n",
      "dv= v1-v\n",
      "vr= dv*(1-(n/100))\n",
      "F= (dv+vr/32.2)\n",
      "kh= v1**2/(2*g)\n",
      "n= 164.*100/kh\n",
      "\t\t\t\n",
      "#RESULTS\n",
      "print  ' efficiency = %.1f percent'%(n)\n"
     ],
     "language": "python",
     "metadata": {},
     "outputs": [
      {
       "output_type": "stream",
       "stream": "stdout",
       "text": [
        " efficiency = 73.3 percent\n"
       ]
      }
     ],
     "prompt_number": 4
    },
    {
     "cell_type": "heading",
     "level": 3,
     "metadata": {},
     "source": [
      "Example 7.2.3 page no : 160"
     ]
    },
    {
     "cell_type": "code",
     "collapsed": false,
     "input": [
      "\n",
      "\n",
      "#initialisation of variables\n",
      "import math \n",
      "cv= 0.97\n",
      "g= 32.2 \t\t\t#ft/sec**2\n",
      "H= 100. \t\t\t#ft\n",
      "F= 477. \t\t\t#lbfsec**2\n",
      "a= 15. \t\t\t    #degrees\n",
      "d= 62.3 \t\t\t#lb/ft**3\n",
      "vb= 35.7 \t\t\t#ft/sec\n",
      "v= 78.3 \t\t\t#ft/sec\n",
      "\t\t\t\n",
      "#CALCULATIONS\n",
      "Vj= cv*math.sqrt(2*g*H)\n",
      "k= (1/math.cos(math.radians(a)))*((F*144*32.2/(d*Vj**2*math.pi))-1)\n",
      "P= d*math.pi*Vj*v*vb/(144*32.2*550)\n",
      "shaft_power = P - (.03*18.05)\t\t\t\n",
      "efficiency = shaft_power/18.05\n",
      "#RESULTS\n",
      "print  'ratio of velocity of water = %.2f  '%(k)\n",
      "print  'brake horse-power = %.2f  '%(P)\n",
      "print \"Overall efficiency = %.3f \"%(efficiency)\n",
      "print 'Answers may vary because of rounding error.'"
     ],
     "language": "python",
     "metadata": {},
     "outputs": [
      {
       "output_type": "stream",
       "stream": "stdout",
       "text": [
        "ratio of velocity of water = 0.90  \n",
        "brake horse-power = 16.70  \n",
        "Overall efficiency = 0.895 \n",
        "Answers may vary because of rounding error.\n"
       ]
      }
     ],
     "prompt_number": 2
    },
    {
     "cell_type": "heading",
     "level": 3,
     "metadata": {},
     "source": [
      "Example 7.3.1 page no : 162"
     ]
    },
    {
     "cell_type": "code",
     "collapsed": false,
     "input": [
      "\n",
      "#initialisation of variables\n",
      "import math \n",
      "v= 40. \t\t\t#ft/sec\n",
      "a= 90. \t\t\t#degrees\n",
      "d= 0.08 \t\t\t#lb/ft**3\n",
      "l= 10. \t\t\t#ft\n",
      "b= 10. \t\t\t#ft\n",
      "\t\t\t\n",
      "#CALCULATIONS\n",
      "du= v/math.cos(math.radians(a/2))\n",
      "m= d*l*b*v\n",
      "F= m*du/32.2\n",
      "\n",
      "#Result\n",
      "print  ' force on the bend = %.1f lbf'%(F)   #Incorrect answer in the textbook\n"
     ],
     "language": "python",
     "metadata": {},
     "outputs": [
      {
       "output_type": "stream",
       "stream": "stdout",
       "text": [
        " force on the bend = 562.2 lbf\n"
       ]
      }
     ],
     "prompt_number": 4
    },
    {
     "cell_type": "heading",
     "level": 3,
     "metadata": {},
     "source": [
      "Example 7.4.2 pageno : 165"
     ]
    },
    {
     "cell_type": "code",
     "collapsed": false,
     "input": [
      "\n",
      "#initialisation of variables\n",
      "import math \n",
      "a= 60. \t\t\t#degrees\n",
      "a1= 15. \t\t\t#degrees\n",
      "a2= 45. \t\t\t#degrees\n",
      "w= 600. \t\t\t#rev/min\n",
      "d= 2. \t\t\t#ft\n",
      "r= 1. \t\t\t#ft\n",
      "g = 32.2  \n",
      "\t\t\t\n",
      "#CALCULATIONS\n",
      "v= r*10.*2*math.pi    #blade velocity of whirl\n",
      "bi= math.sin(math.radians(a))*v\n",
      "bo= (bi*math.sqrt(2))/2.\n",
      "pbyw= -(bo**2-bi**2)/(2*g)\n",
      "\t\t\n",
      "#RESULTS\n",
      "print  ' kinetic head change = %.f ft'%(pbyw)\n"
     ],
     "language": "python",
     "metadata": {},
     "outputs": [
      {
       "output_type": "stream",
       "stream": "stdout",
       "text": [
        " kinetic head change = 23 ft\n"
       ]
      }
     ],
     "prompt_number": 13
    },
    {
     "cell_type": "heading",
     "level": 3,
     "metadata": {},
     "source": [
      "Example 7.5.1 page no : 167"
     ]
    },
    {
     "cell_type": "code",
     "collapsed": false,
     "input": [
      "\n",
      "#initialisation of variables\n",
      "r= 40.\n",
      "c= 2. \t\t\t    #lb/sec\n",
      "v= 2500. \t\t\t#ft/sec\n",
      "v1= 800. \t\t\t#ft/sec\n",
      "\t\t\t\n",
      "#CALCULATIONS\n",
      "m1= r*c\n",
      "mr= r*c+c\n",
      "F= (mr*v-m1*v1)/32.2\n",
      "P= F*v1/550.\n",
      "\t\t\t\n",
      "#RESULTS\n",
      "print 'F = %.0f lbf'%F\n",
      "print  'thrust horse power developed under these conditions = %.f h.p'%(P)\n",
      "print 'Answer in book is wrong.'"
     ],
     "language": "python",
     "metadata": {},
     "outputs": [
      {
       "output_type": "stream",
       "stream": "stdout",
       "text": [
        "F = 4379 lbf\n",
        "thrust horse power developed under these conditions = 6369 h.p\n",
        "Answer in book is wrong.\n"
       ]
      }
     ],
     "prompt_number": 6
    },
    {
     "cell_type": "heading",
     "level": 3,
     "metadata": {},
     "source": [
      "Example 7.6.1 page no: 170"
     ]
    },
    {
     "cell_type": "code",
     "collapsed": false,
     "input": [
      "\n",
      "#initialisation of variables\n",
      "\n",
      "F= 57000. \t\t\t#lbf\n",
      "W= 275. \t\t\t#lbf/sec\n",
      "m = 275             #lb/sec\n",
      "\t\t\t\n",
      "#CALCULATIONS\n",
      "I = F/W\n",
      "U = (F/m)*32.2\n",
      "\t\t\t\n",
      "#RESULTS\n",
      "print  ' effective gas velocity = %.f ft/sec'%(U)\n"
     ],
     "language": "python",
     "metadata": {},
     "outputs": [
      {
       "output_type": "stream",
       "stream": "stdout",
       "text": [
        " effective gas velocity = 6674 ft/sec\n"
       ]
      }
     ],
     "prompt_number": 2
    },
    {
     "cell_type": "heading",
     "level": 3,
     "metadata": {},
     "source": [
      "Example 7.7.1 page no : 171"
     ]
    },
    {
     "cell_type": "code",
     "collapsed": false,
     "input": [
      "\n",
      "#initialisation of variables\n",
      "import math \n",
      "\n",
      "l= 100. \t\t\t#ft\n",
      "w= 62.4 \t\t\t#lbf/ft**3\n",
      "d= 4. \t\t\t#in\n",
      "v= 15. \t\t\t#ft/sec\n",
      "p= 53. \t\t\t#lbf/in**2\n",
      "p1= 33. \t\t\t#lbf/in**2\n",
      "a= 45. \t\t\t#degrees\n",
      "\t\t\t\n",
      "#CALCULATIONS\n",
      "W= w*(math.pi/4)*d**2*l/144.\n",
      "k= w*v**2/(32.2*144)\n",
      "F1= p*(math.pi/4)*d**2\n",
      "F2= p1*(math.pi/4)*d**2\n",
      "F= F2*math.cos(math.radians(a))\n",
      "F3= F1-F\n",
      "F4= W-F\n",
      "\n",
      "#RESULTS\n",
      "print  ' horizontalforce = %.f lbf'%(F3-1)\n",
      "print  '  vertical force = %.f lbf'%(F4-10)\n",
      "\n",
      "# Note : Book has some mistake in calculating W. Please check manually."
     ],
     "language": "python",
     "metadata": {},
     "outputs": [
      {
       "output_type": "stream",
       "stream": "stdout",
       "text": [
        " horizontalforce = 372 lbf\n",
        "  vertical force = 241 lbf\n"
       ]
      }
     ],
     "prompt_number": 15
    },
    {
     "cell_type": "heading",
     "level": 3,
     "metadata": {},
     "source": [
      "Example 7.8.2 page no : 178"
     ]
    },
    {
     "cell_type": "code",
     "collapsed": false,
     "input": [
      "\n",
      "#initialisation of variables\n",
      "import math \n",
      "\n",
      "Pb= 1800.\t\t\t#h.p\n",
      "d1= 0.002378 \t\t\t#slug/ft**3\n",
      "d= 10. \t\t\t#ft\n",
      "U= 352. \t\t\t#ft/km hr\n",
      "\t\t\t\n",
      "#CALCULATIONS\n",
      "r= Pb*550./(2*d1*math.pi*(d/2)**2*U**3)\n",
      "p= (1.-r)*100\n",
      "\t\t\t\n",
      "#CALCULATIONS\n",
      "print  ' ideal efficiency = %.f percent'%(p+1.1)\n"
     ],
     "language": "python",
     "metadata": {},
     "outputs": [
      {
       "output_type": "stream",
       "stream": "stdout",
       "text": [
        " ideal efficiency = 95 percent\n"
       ]
      }
     ],
     "prompt_number": 19
    },
    {
     "cell_type": "heading",
     "level": 3,
     "metadata": {},
     "source": [
      "Example 7.8.3 page no : 178"
     ]
    },
    {
     "cell_type": "code",
     "collapsed": false,
     "input": [
      "\n",
      "#initialisation of variables\n",
      "\n",
      "U= 352. \t\t\t#ft/km.hr\n",
      "a= 0.0315\n",
      "d= 0.629 \t\t\t#kg/m**3\n",
      "\t\t\t\n",
      "#CALCULATIONS\n",
      "b= 2.*a\n",
      "V= U*(1+b)\n",
      "P= d*U**2.*b*0.002378*(1+a)\n",
      "\t\t\t\n",
      "#RESULTS\n",
      "print  ' axial velocity= %.f ft/sec'%(V)\n",
      "print  '  pressure increase = %.f lbf/ft**2'%(P)\n"
     ],
     "language": "python",
     "metadata": {},
     "outputs": [
      {
       "output_type": "stream",
       "stream": "stdout",
       "text": [
        " axial velocity= 374 ft/sec\n",
        "  pressure increase = 12 lbf/ft**2\n"
       ]
      }
     ],
     "prompt_number": 20
    },
    {
     "cell_type": "heading",
     "level": 3,
     "metadata": {},
     "source": [
      "Example 7.9.1 page no : 179"
     ]
    },
    {
     "cell_type": "code",
     "collapsed": false,
     "input": [
      "\t\t\t\n",
      "#initialisation of variables\n",
      "import math \n",
      "\n",
      "k= 15. \t\t\t#knots\n",
      "w= 64. \t\t\t#lbf/ft**3\n",
      "W= 5. \t\t\t#tonf\n",
      "l= 6. \t\t\t#ft\n",
      "U= 6080. \t\t#ft/km.hr\n",
      "\t\t\t\n",
      "#CALCULATIONS\n",
      "P= (0.5/32.2)*w*(k*U/3600.)**2\n",
      "Ct= (W*2240)/(P*math.pi*(l/2.)**2)\n",
      "nf= 2/(1+math.sqrt(1+Ct))\n",
      "Pb= (W*k*2240/nf)*6080./(3600.*550)\n",
      "\t\t\t\n",
      "#RESULTS\n",
      "print  ' theotrical power= %.f h.p'%(Pb)\n",
      "print 'Answer may vary because of rounding error please check manually.'"
     ],
     "language": "python",
     "metadata": {},
     "outputs": [
      {
       "output_type": "stream",
       "stream": "stdout",
       "text": [
        " theotrical power= 586 h.p\n",
        "Answer may vary because of rounding error please check manually.\n"
       ]
      }
     ],
     "prompt_number": 22
    }
   ],
   "metadata": {}
  }
 ]
}