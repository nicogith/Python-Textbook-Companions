{
 "metadata": {
  "name": ""
 },
 "nbformat": 3,
 "nbformat_minor": 0,
 "worksheets": [
  {
   "cells": [
    {
     "cell_type": "heading",
     "level": 1,
     "metadata": {},
     "source": [
      "Chapter 10 : Steady Flow in Pipes and Channels"
     ]
    },
    {
     "cell_type": "heading",
     "level": 3,
     "metadata": {},
     "source": [
      "Example 10.1.1 page no : 269"
     ]
    },
    {
     "cell_type": "code",
     "collapsed": false,
     "input": [
      "\n",
      "import math \n",
      "#initialisation of variables\n",
      "Q= 450. \t\t\t#ft**3/sec\n",
      "k= 0.5\n",
      "i= 1./2000\n",
      "C= 105. \t\t\t#ft**1/2/sec\n",
      "\t\t\t\n",
      "#CALCULATIONS\n",
      "d= (((Q*math.sqrt(2./i))/(2*math.sqrt(1+k**2-k)*C))**(2./5))*(5.41/7.55)\n",
      "b= d/2.\n",
      "s= d*math.sqrt(1+k**2.)\n",
      "\t\t\t\n",
      "#RESULTS\n",
      "print  ' vertical= %.2f ft'%(d)\n",
      "print  '  horizontal= %.2f ft'%(s)\n"
     ],
     "language": "python",
     "metadata": {},
     "outputs": [
      {
       "output_type": "stream",
       "stream": "stdout",
       "text": [
        " vertical= 5.41 ft\n",
        "  horizontal= 6.05 ft\n"
       ]
      }
     ],
     "prompt_number": 1
    },
    {
     "cell_type": "heading",
     "level": 3,
     "metadata": {},
     "source": [
      "Example 10.2.2 page no : 275"
     ]
    },
    {
     "cell_type": "code",
     "collapsed": false,
     "input": [
      "\n",
      "import math \n",
      "\n",
      "#initialisation of variables\n",
      "\n",
      "d= 6. \t\t\t#ft\n",
      "C= 95. \t\t\t#ft**0.5/sec\n",
      "i= 1./800\n",
      "m= 1.705 \t\t\t#ft\n",
      "a= 15.16\n",
      "g= 32.2 \t\t\t#ft**2/sec\n",
      "alpha = 15.30      # degree\t\t\t\n",
      "\n",
      "#CALCULATIONS\n",
      "theta = int(180 + 2*alpha)\n",
      "A= ((d/2)**2./2)*(((theta*math.pi)/180)+math.sin(math.radians(2*a)))\n",
      "u= C*math.sqrt(m*i)\n",
      "Q= A*u\n",
      "f= (2*g)/C**2.\n",
      "\t\t\t\n",
      "#RESULTS\n",
      "print  ' rate of volumetric flow= %.1f ft**3/sec'%(Q)\n",
      "print  '  resistance factor= %.5f '%(f)\n"
     ],
     "language": "python",
     "metadata": {},
     "outputs": [
      {
       "output_type": "stream",
       "stream": "stdout",
       "text": [
        " rate of volumetric flow= 82.3 ft**3/sec\n",
        "  resistance factor= 0.00714 \n"
       ]
      }
     ],
     "prompt_number": 5
    },
    {
     "cell_type": "heading",
     "level": 3,
     "metadata": {},
     "source": [
      "Example 10.3.1 page no : 277"
     ]
    },
    {
     "cell_type": "code",
     "collapsed": false,
     "input": [
      "\n",
      "import math \n",
      "#initialisation of variables\n",
      "\n",
      "m= 6. \t\t\t#lb/sec\n",
      "w= 62.3\t\t\t#lb/ft**3\n",
      "s= 0.9\n",
      "l= 2500. \t\t\t#ft\n",
      "u= 0.115\n",
      "r= 8. \t\t\t#ft\n",
      "g= 32.2 \t\t\t#ft/sec**2\n",
      "\n",
      "#CALCULATIONS\n",
      "uc = round(2300*u/.25 * 1/(s*w),1)\n",
      "v = round(m/(s*w) * 1./(math.pi/4 *1./16),2)\n",
      "p1p2 = (r*u)/math.pi * l * 64**2 * 6 /(s*w*g)\n",
      "dp= 8.*u*l*r**4*m/(math.pi*s*w*g)\n",
      "P= m*dp/(s*w*550.)\n",
      "\t\t\t\n",
      "#RESULTS\n",
      "print  ' Critical Velocity is = %.1f ft/sec'%uc\n",
      "print  ' Actual Velocity is = %.2f ft/sec'%v\n",
      "print  ' Power required= %.f h.p'%(P)\n",
      "\n",
      "# Note : Answers may vary because of rounding error. Please calculate manually."
     ],
     "language": "python",
     "metadata": {},
     "outputs": [
      {
       "output_type": "stream",
       "stream": "stdout",
       "text": [
        " Critical Velocity is = 18.9 ft/sec\n",
        " Actual Velocity is = 2.18 ft/sec\n",
        " Power required= 2 h.p\n"
       ]
      }
     ],
     "prompt_number": 5
    },
    {
     "cell_type": "heading",
     "level": 3,
     "metadata": {},
     "source": [
      "Example 10.4.1 page no: 282"
     ]
    },
    {
     "cell_type": "code",
     "collapsed": false,
     "input": [
      "\n",
      "import math \n",
      "#initialisation of variables\n",
      "p= 0.0024 \t\t\t#slug/ft**3\n",
      "u= 10. \t\t\t#ft/sec\n",
      "v= 3.75*10**-7 \t\t\t#slug\n",
      "d= 0.25\t\t\t#in\n",
      "u1= 100. \t\t\t#ft/sec\n",
      "\t\t\t\n",
      "#CALCULATIONS\n",
      "R= round(u*d*p/(12.*v),-1)\n",
      "f= round(16./R,3)\n",
      "F1= f*p*u**2*math.pi*d/(2*12.)\n",
      "R1= R*10.\n",
      "f1= 0.0791/R1**0.25\n",
      "F2= f1*p*u1**2*math.pi*d/(2*12*10.)\n",
      "C= F2/F1\n",
      "\t\t\t\n",
      "#RESULTS\n",
      "print  '  Raynolds number = %.0f'%R\n",
      "print  '  resistance coefficient = %.2f '%(f)\n",
      "print  '  Drag force per foot length = %.2e lbf/ft'%(F1)\n",
      "print  '  Ratio of skin-friction drag forces per ft  = %.2f '%(C)\n"
     ],
     "language": "python",
     "metadata": {},
     "outputs": [
      {
       "output_type": "stream",
       "stream": "stdout",
       "text": [
        "  Raynolds number = 1330\n",
        "  resistance coefficient = 0.01 \n",
        "  Drag force per foot length = 9.42e-05 lbf/ft\n",
        "  Ratio of skin-friction drag forces per ft  = 6.14 \n"
       ]
      }
     ],
     "prompt_number": 22
    },
    {
     "cell_type": "heading",
     "level": 3,
     "metadata": {},
     "source": [
      "Example 10.4.2 pageno : 283\n"
     ]
    },
    {
     "cell_type": "code",
     "collapsed": false,
     "input": [
      "\n",
      "import math \n",
      "#initialisation of variables\n",
      "\n",
      "Q= 0.7\t\t\t#ft**3/sec\n",
      "a= 16.\n",
      "n= 0.65\n",
      "P= 5. \t\t\t#h.p\n",
      "l= 3000. \t\t\t#ft\n",
      "g= 32.2 \t\t\t#ft**2/sec \n",
      "d= 0.85 \t\t\t#gm/cc\n",
      "d1= 0.5 \t\t\t#ft\n",
      "\t\t\t\n",
      "#CALCULATIONS\n",
      "u= Q*a/math.pi\n",
      "u1= n*P*550.*g/(8*math.pi*u**2*l)\n",
      "v= u1/d\n",
      "R= round(u*d1*30.5**2/1.05,-1)\n",
      "\t\t\t\n",
      "#RESULTS\n",
      "print \"Coefficient of viscosity is = %.2f ft/sec\"%u\n",
      "print  ' Reynolds number= %.f '%(R)\n"
     ],
     "language": "python",
     "metadata": {},
     "outputs": [
      {
       "output_type": "stream",
       "stream": "stdout",
       "text": [
        "Coefficient of viscosity is = 3.57 ft/sec\n",
        " Reynolds number= 1580 \n"
       ]
      }
     ],
     "prompt_number": 25
    },
    {
     "cell_type": "heading",
     "level": 3,
     "metadata": {},
     "source": [
      "Example 10.4.3 page no : 285"
     ]
    },
    {
     "cell_type": "code",
     "collapsed": false,
     "input": [
      "\n",
      "import math \t\t\t\n",
      "#initialisation of variables\n",
      "\n",
      "u1= 80. \t\t\t#ft/sec\n",
      "c= 62.\n",
      "s= 0.25\n",
      "l= 11. \t\t\t#ft\n",
      "w= 62.3 \t\t\t#lb/ft**3\n",
      "u1= 80. \t\t\t#ft/sec\n",
      "d= 2. \t\t\t#lbf/in**2\n",
      "\t\t\t\n",
      "#CALCULATIONS\n",
      "u= u1*c/(l*w*s)\n",
      "P= ((u1/u)**2)*s*d*144./(l*w)\n",
      "\t\t\t\n",
      "#RESULTS\n",
      "print  ' water velocity = %.2f ft/sec'%(u)\n",
      "print  ' w pressure drop = %.3f lbf/ft**2 per ft length'%(P)\n"
     ],
     "language": "python",
     "metadata": {},
     "outputs": [
      {
       "output_type": "stream",
       "stream": "stdout",
       "text": [
        " water velocity = 28.95 ft/sec\n",
        " w pressure drop = 0.802 lbf/ft**2 per ft length\n"
       ]
      }
     ],
     "prompt_number": 27
    }
   ],
   "metadata": {}
  }
 ]
}