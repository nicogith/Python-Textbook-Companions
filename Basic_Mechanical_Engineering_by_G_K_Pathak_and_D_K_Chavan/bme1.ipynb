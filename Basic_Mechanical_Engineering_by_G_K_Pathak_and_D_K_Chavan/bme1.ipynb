{
 "metadata": {
  "name": "",
  "signature": "sha256:24b9eaeeeddeacc3199362b9156ae9de4a4fc79ba4c35797142cfcc4a54f627a"
 },
 "nbformat": 3,
 "nbformat_minor": 0,
 "worksheets": [
  {
   "cells": [
    {
     "cell_type": "heading",
     "level": 1,
     "metadata": {},
     "source": [
      "Chapter 1: Fundamental Concepts and Definitions"
     ]
    },
    {
     "cell_type": "heading",
     "level": 2,
     "metadata": {},
     "source": [
      "Example 1.1 Page No. 34"
     ]
    },
    {
     "cell_type": "code",
     "collapsed": false,
     "input": [
      "\n",
      "p=700\t\t  #pressure of fluid in kN/m**2\n",
      "v1=0.28\t\t#Initial volume of fluid in m**3\n",
      "v2=1.68\t\t#Final volume of fluid in m**3\n",
      "\n",
      "#Calculations\n",
      "W=p*(v2-v1)\t#Work done in kJ\n",
      "\n",
      "#Output\n",
      "print'The Work done is',round(W,1),'KJ or',round(W/1000,3),'MJ'\n"
     ],
     "language": "python",
     "metadata": {},
     "outputs": [
      {
       "output_type": "stream",
       "stream": "stdout",
       "text": [
        "The Work done is 980.0 KJ or 0.98 MJ\n"
       ]
      }
     ],
     "prompt_number": 4
    },
    {
     "cell_type": "heading",
     "level": 2,
     "metadata": {},
     "source": [
      "Example 1.2 Page No.35"
     ]
    },
    {
     "cell_type": "code",
     "collapsed": false,
     "input": [
      "\n",
      "p1=138.0\t\t#Initial pressure of gas in kN/m**2\n",
      "p2=690.0\t\t#Final pressure of gas in kN/m**2\n",
      "v1=0.112\t\t#Initial volume in m**3\n",
      "\n",
      "#Calculations\n",
      "P=p1/p2\t\t#Pressure ratio\n",
      "v2=v1*(P**(1/1.4))\t#Final volume of gas in m**3\n",
      "\n",
      "#Output\n",
      "print'The new volume of the gas is',round(v2,3),\"m**3\"\n"
     ],
     "language": "python",
     "metadata": {},
     "outputs": [
      {
       "output_type": "stream",
       "stream": "stdout",
       "text": [
        "The new volume of the gas is 0.035 m**3\n"
       ]
      }
     ],
     "prompt_number": 9
    },
    {
     "cell_type": "heading",
     "level": 2,
     "metadata": {},
     "source": [
      "Example 1.3 Page No. 35"
     ]
    },
    {
     "cell_type": "code",
     "collapsed": false,
     "input": [
      "\n",
      "p1=2070\t\t#Initial pressure of gas in kN/m**2\n",
      "p2=207\t\t#Final pressure of gas in kN/m**2\n",
      "v1=0.014\t\t#Initial volume of gas in m**3\n",
      "n=1.35\t\t#constant\n",
      "\n",
      "#Calculations\n",
      "P=p1/p2\t\t#Pressure ratio\n",
      "v2=v1*(P**(1/1.35))\t#Final volume of gas in m**3\n",
      "W=(p1*v1-p2*v2)/(n-1)\t#Work done in kJ\n",
      "\n",
      "#Output\n",
      "print'(a)Final volume of gas ',round(v2,3),\"m**3 \"\n",
      "print'(b)Work done by the gas during the expansion is',round(W,2),\"kJ\"\n"
     ],
     "language": "python",
     "metadata": {},
     "outputs": [
      {
       "output_type": "stream",
       "stream": "stdout",
       "text": [
        "(a)Final volume of gas  0.077 m**3 \n",
        "(b)Work done by the gas during the expansion is 37.22 kJ\n"
       ]
      }
     ],
     "prompt_number": 5
    },
    {
     "cell_type": "heading",
     "level": 2,
     "metadata": {},
     "source": [
      "Example 1.4 Page No.36"
     ]
    },
    {
     "cell_type": "code",
     "collapsed": false,
     "input": [
      "\n",
      "v1=0.056\t\t#Initial volume of gas in m**3\n",
      "v2=0.007\t\t#Final volume of gas in m**3\n",
      "p1=100\t\t#Initial perssure compressed Isothermally in kN/m**2\n",
      "\n",
      "#Calculations\n",
      "p2=(p1*v1)/v2\t#Final pressure in kN/m**2\n",
      "W=p1*v1*(math.log(v2/v1))\t#Work done in kJ\n",
      "\n",
      "#Output\n",
      "print'(a)Final pressure is',round(p2,0),\"kN/m**2 \"\n",
      "print'(b)The work done on gas is',round(-W,2), \"kJ\"\n"
     ],
     "language": "python",
     "metadata": {},
     "outputs": [
      {
       "output_type": "stream",
       "stream": "stdout",
       "text": [
        "(a)Final pressure is 800.0 kN/m**2 \n",
        "(b)The work done on gas is 11.64 kJ\n"
       ]
      }
     ],
     "prompt_number": 6
    },
    {
     "cell_type": "heading",
     "level": 2,
     "metadata": {},
     "source": [
      " Example 1.5 Page No. 37"
     ]
    },
    {
     "cell_type": "code",
     "collapsed": false,
     "input": [
      "\n",
      "v1=1.0\t\t#Initial volume in m**3\n",
      "v2=3.0\t\t#Final volume in m**3\n",
      "\n",
      "#Calculations\n",
      "import math\n",
      "W=10**5*(((v2**3-v1**3)/3)+8*(math.log(v2/v1)))\t#Work done in J\n",
      "\n",
      "#Output\n",
      "print'The work done is',round(W,0),\"Nm\"\n"
     ],
     "language": "python",
     "metadata": {},
     "outputs": [
      {
       "output_type": "stream",
       "stream": "stdout",
       "text": [
        "The work done is 1745556.0 Nm\n"
       ]
      }
     ],
     "prompt_number": 7
    },
    {
     "cell_type": "heading",
     "level": 2,
     "metadata": {},
     "source": [
      "Example 1.6 Page No. 38"
     ]
    },
    {
     "cell_type": "code",
     "collapsed": false,
     "input": [
      "\n",
      "v1=0.2\t#Initial volume in m**3\n",
      "v2=0.5\t#Final volume in m**3\n",
      "\n",
      "#Calculations\n",
      "W=1500*(((v2**2-v1**2)/200)+(v2-v1))/1000\t#Work done in kJ\n",
      "\n",
      "#Output\n",
      "print'The work done by the gas is',round(W,4),\"KJ\"\n"
     ],
     "language": "python",
     "metadata": {},
     "outputs": [
      {
       "output_type": "stream",
       "stream": "stdout",
       "text": [
        "The work done by the gas is 0.4516 KJ\n"
       ]
      }
     ],
     "prompt_number": 8
    },
    {
     "cell_type": "heading",
     "level": 2,
     "metadata": {},
     "source": [
      "Example 1.8 Page No. 39"
     ]
    },
    {
     "cell_type": "code",
     "collapsed": false,
     "input": [
      "\n",
      "v1=1.5\t\t#Initial volume in m**3\n",
      "v2=2\t\t#Final volume in m**3\n",
      "w1=2\t\t#Work receiving in Nm\n",
      "p=6\t\t#constsnt pressure of gas in N/m**2\n",
      "\n",
      "#Calculations\n",
      "w2=p*(v2-v1)\t#Work done in Nm\n",
      "W=w2-w1\t\t#Net work done by the system in Nm\n",
      "\n",
      "#Output\n",
      "print'Net work done by the system is',round(W,2),\"Nm\"\n"
     ],
     "language": "python",
     "metadata": {},
     "outputs": [
      {
       "output_type": "stream",
       "stream": "stdout",
       "text": [
        "Net work done by the system is 1.0 Nm\n"
       ]
      }
     ],
     "prompt_number": 20
    },
    {
     "cell_type": "heading",
     "level": 2,
     "metadata": {},
     "source": [
      "Example 1.9 Page No. 40"
     ]
    },
    {
     "cell_type": "code",
     "collapsed": false,
     "input": [
      "\n",
      "d=13596\t\t#Density of Hg in kg/m**3\n",
      "g=9.806\t\t#gravity in m/sec**2\n",
      "z=760.0\t\t#Barometer pressure in mm of Hg\n",
      "Pv=40.0\t\t#Vaccum pressure in cm\n",
      "dw=1000.0\t\t#Density of water in kg/m**3\n",
      "Zw=1.5\t\t#Level of water in m\n",
      "\n",
      "#Calculations\n",
      "p=(d*g*z)/10**6\t#Pressure in kPa\n",
      "p1=(80/76.0)*p\t#Pressure in kPa\n",
      "Pa=p-Pv\t\t#Absolute pressure in kPa\n",
      "p2=(36/76.0)*p\t#Pressure in kPa\n",
      "p3=(dw*g*Zw)/1000.0\t\t#pressure in kPa\n",
      "p4=(5.2*10**5)/1000.0\t#pressure in kPa\n",
      "\n",
      "#Output\n",
      "print'(a)Pressure of 80cm of Hg is',round(p1,2),\"kPa\" \n",
      "print'(b)Pressure of 40cm of Hg vaccum is',round(p2,2), \"kPa \"\n",
      "print'(c)Pressure due to 1.5m of water coloumn is',round(p3*1000,4),\"N/m**2or Pa\" \n",
      "print'(d)Pressure in kPa for 5.2bar is',round(p4,2),\"kPa\"\n"
     ],
     "language": "python",
     "metadata": {},
     "outputs": [
      {
       "output_type": "stream",
       "stream": "stdout",
       "text": [
        "(a)Pressure of 80cm of Hg is 106.66 kPa\n",
        "(b)Pressure of 40cm of Hg vaccum is 48.0 kPa \n",
        "(c)Pressure due to 1.5m of water coloumn is 14709.0 N/m**2or Pa\n",
        "(d)Pressure in kPa for 5.2bar is 520.0 kPa\n"
       ]
      }
     ],
     "prompt_number": 10
    },
    {
     "cell_type": "heading",
     "level": 2,
     "metadata": {},
     "source": [
      "Example 1.10 Page No.41"
     ]
    },
    {
     "cell_type": "code",
     "collapsed": false,
     "input": [
      "\n",
      "z=750\t\t#Barometric pressure in mm of Hg\n",
      "g=9.81\t\t#Gravity in m/sec**2\n",
      "Pa=101.325\t#one atm pressure in kN/m**2\n",
      "Pg=3.3\t\t#Pressure in atm\n",
      "Pf=3.2\t\t#Pressure in m of water\n",
      "d=13596\t\t#Density of Hg in kg/m**3\n",
      "\n",
      "#calculations\n",
      "Pp=(d*g*z)/10**6\t\t     #Pressure in kPa\n",
      "p1=(d*g*0.55)/1000.0\t\t #Pressure in kPa\n",
      "p2=Pp+(Pg*101.325)\t       #Pressure in kPa\n",
      "p3=Pp+(Pf*g*100)/1000.0\t#Pressure in kPa\n",
      "p4=4.6*100\t\t           #Pressure in kPa\n",
      "\n",
      "#Output\n",
      "print'(a)Pressure of 55cm of Hg (Abs)',round(p1,1),\"KPa\"\n",
      "print'(b)Pressure at 3.3 atm (Gauge)',round(p2,1),\"kPa\" \n",
      "print'(c)Pressure of 3.2m of water (Gauge)',round(p3,1),\"kPa\" \n",
      "print'NOTE: In the book there is mistake in calculation p3 '\n",
      "print'(d)Pressure of 4.6bar (Abs)',round(p4,1),\"kPa\"\n"
     ],
     "language": "python",
     "metadata": {},
     "outputs": [
      {
       "output_type": "stream",
       "stream": "stdout",
       "text": [
        "(a)Pressure of 55cm of Hg (Abs) 73.4 KPa\n",
        "(b)Pressure at 3.3 atm (Gauge) 434.4 kPa\n",
        "(c)Pressure of 3.2m of water (Gauge) 103.2 kPa\n",
        "NOTE: In the book there is mistake in calculation p3 \n",
        "(d)Pressure of 4.6bar (Abs) 460.0 kPa\n"
       ]
      }
     ],
     "prompt_number": 13
    },
    {
     "cell_type": "heading",
     "level": 2,
     "metadata": {},
     "source": [
      "Example 1.11 Page No. 42"
     ]
    },
    {
     "cell_type": "code",
     "collapsed": false,
     "input": [
      "\n",
      "Zw=50\t\t#Manometer reading of water in cm\n",
      "Zo=763\t\t#Atmospheric pressure in mm of Hg\n",
      "d=13.6*10**3\t#Density of Hg in kg/m**3\n",
      "dw=1000\t\t#Density of water in kg/m**3\n",
      "g=9.81\t\t#Gravity in m/sec**2\n",
      "\n",
      "#Calculations\n",
      "Pa=(d*g*Zo)/10**6\t\t#Atmospheric pressure in kPa\n",
      "Pg=(dw*g*Zw)/10**5\t#Gauge pressure in kPa\n",
      "Pab=Pa+Pg\t\t#Absolute pressure in kPa\n",
      "\n",
      "#Output\n",
      "print'Absolute pressure is',round(Pab,2),\"kPa\"\n"
     ],
     "language": "python",
     "metadata": {},
     "outputs": [
      {
       "output_type": "stream",
       "stream": "stdout",
       "text": [
        "Absolute pressure is 106.7 kPa\n"
       ]
      }
     ],
     "prompt_number": 4
    },
    {
     "cell_type": "heading",
     "level": 2,
     "metadata": {},
     "source": [
      "Example 1.12 Page No. 42"
     ]
    },
    {
     "cell_type": "code",
     "collapsed": false,
     "input": [
      "\n",
      "Z=70\t\t\t#Vaccum gauge reading in cm of Hg\n",
      "Pa=101.325\t\t#Atmospheric pressure in kPa\n",
      "d=13.6*10**3\t\t#Density of Hg in kg/m**3\n",
      "g=9.81\t\t\t#Gravity in m/sec**2\n",
      "\n",
      "#Calculations\n",
      "Pv=(d*g*Z)/10**5\t\t#Vaccum pressure in kPa\n",
      "Pab=Pa-Pv\t\t#Absolute pressure in kPa\n",
      "\n",
      "#Output\n",
      "print'Absolute pressure is',round(Pab,2),\"kPa\"\n"
     ],
     "language": "python",
     "metadata": {},
     "outputs": [
      {
       "output_type": "stream",
       "stream": "stdout",
       "text": [
        "Absolute pressure is 7.93 kPa\n"
       ]
      }
     ],
     "prompt_number": 5
    },
    {
     "cell_type": "heading",
     "level": 2,
     "metadata": {},
     "source": [
      "Example 1.13 Page No. 43"
     ]
    },
    {
     "cell_type": "code",
     "collapsed": false,
     "input": [
      "\n",
      "Pv=30\t\t#Vaccum pressure in kPa\n",
      "Z=755\t\t#Barometer reading in mm of Hg\n",
      "d=13590\t\t#Density of Hg in kg/m**3\n",
      "g=9.81\t\t#Gravity in m/sec**2\n",
      "\n",
      "#calculations \n",
      "Pa=(d*g*Z)/10**6\t#Atmospheric perssure in kPa\n",
      "Pab=Pa-Pv\t#Absolute pressure in kPa\n",
      "\n",
      "#Output\n",
      "print'Asolute pressure in the tank is',round(Pab,2),\"kPa\"\n"
     ],
     "language": "python",
     "metadata": {},
     "outputs": [
      {
       "output_type": "stream",
       "stream": "stdout",
       "text": [
        "Asolute pressure in the tank is 70.66 kPa\n"
       ]
      }
     ],
     "prompt_number": 6
    },
    {
     "cell_type": "heading",
     "level": 2,
     "metadata": {},
     "source": [
      "Example 1.14 Page No. 43"
     ]
    },
    {
     "cell_type": "code",
     "collapsed": false,
     "input": [
      " \n",
      "Z=0.562\t\t#Level of open limb in m\n",
      "Z1=0.761\t\t#Barometer reading in m of Hg\n",
      "g=9.79\t\t#Gravity in m/sec**2\n",
      "d=13640\t\t#Density of Hg in kg/m**2\n",
      "\n",
      "#Calculations\n",
      "Pa=(d*g*Z1)/1000.0\t#Atmospheric pressure in kPa\n",
      "Ph=(d*g*Z)/1000.0\t#Pressure exercterd due to height in kPa\n",
      "Pab=Pa+Ph\t#Absolute pressure in kPa\n",
      "\n",
      "#Output\n",
      "print'The gas pressure is',round(Pab,3),\"kN/m**2\"\n"
     ],
     "language": "python",
     "metadata": {},
     "outputs": [
      {
       "output_type": "stream",
       "stream": "stdout",
       "text": [
        "The gas pressure is 176.668 kN/m**2\n"
       ]
      }
     ],
     "prompt_number": 14
    },
    {
     "cell_type": "heading",
     "level": 2,
     "metadata": {},
     "source": [
      "Example 1.15 Page No. 44"
     ]
    },
    {
     "cell_type": "code",
     "collapsed": false,
     "input": [
      "\n",
      "d=13.596*10**3\t#Density of Hg in kg/m**3\n",
      "dl=800\t\t#Density of liquid in kg/m**3\n",
      "Z=30\t\t#Level of the liquid in the arm in cm\n",
      "Z1=0.75\t\t#Barometric pressure in m\n",
      "g=9.81\t\t#Gravity in m/sec**2\n",
      "\n",
      "#Calculatins\n",
      "Pg=(dl*g*Z)/10**7\t#Gauge pressure in bar\n",
      "Pa=(d*g*Z1)/10**5\t#Atmospheric pressure in bar\n",
      "Pab=Pa+Pg           #Absolute pressure in bar\n",
      "\n",
      "#Output\n",
      "print'Absolute pressure of the gas is',round(Pab,2),\"bar\"\n",
      "print'NOTE:In the book there is calculation mistake in last step'"
     ],
     "language": "python",
     "metadata": {},
     "outputs": [
      {
       "output_type": "stream",
       "stream": "stdout",
       "text": [
        "Absolute pressure of the gas is 1.02 bar\n",
        "NOTE:In the book there is calculation mistake in last step\n"
       ]
      }
     ],
     "prompt_number": 16
    },
    {
     "cell_type": "heading",
     "level": 2,
     "metadata": {},
     "source": [
      "Example 1.16 Page No. 45"
     ]
    },
    {
     "cell_type": "code",
     "collapsed": false,
     "input": [
      "\n",
      "Z1=0.17\t\t#Level of liquid in m\n",
      "Z=0.76\t\t#Barometer readings in m\n",
      "d=13596\t\t#Density of Hg in kg/m**3\n",
      "g=9.806\t\t#Gravity in m/sec**2\n",
      "s=0.8\t\t#Specific gravity \n",
      "d1=1000\t\t#Density of water in kg/m**3\n",
      "\n",
      "#Calculations\n",
      "dl=s*d1\t\t#Density of given liquid in kg/m**3\n",
      "Pa=d*g*Z\t\t#Atmospheric pressure in N/m**2\n",
      "p=dl*g*Z1\t#Pressure in N/m**2\n",
      "Pab=(Pa-p)/10**5\t#Absolute pressure in bar\n",
      "\n",
      "#Output\n",
      "print'Absolute pressure of the gas is',round(Pab),\"bar\"\n"
     ],
     "language": "python",
     "metadata": {},
     "outputs": [
      {
       "output_type": "stream",
       "stream": "stdout",
       "text": [
        "Absolute pressure of the gas is 1.0 bar\n"
       ]
      }
     ],
     "prompt_number": 18
    },
    {
     "cell_type": "heading",
     "level": 2,
     "metadata": {},
     "source": [
      "Example 1.17 Page No. 46"
     ]
    },
    {
     "cell_type": "code",
     "collapsed": false,
     "input": [
      "\n",
      "g=9.806\t\t#Gravity in m/sec**2\n",
      "d=13596\t\t#Density of Hg in kg/m**3\n",
      "Z=9.75\t\t#Level of Hg in cm\n",
      "dw=1000\t\t#Density of water in kg/m**3\n",
      "Zw=0.034\t\t#Coloumn of condensate in m\n",
      "Zo=0.76\t\t#Atmospheric pressure in m of Hg\n",
      "\n",
      "#Calculations\n",
      "P=dw*g*Zw\t       #Pressure in N/m**2\n",
      "Pa=d*g*Zo\t       #Atmospheric pressure in N/m**2\n",
      "Pg=(d*g*Z)/100.0\t#Gauge pressure in N/m**2\n",
      "Pab=(Pa+Pg-P)/10**5\t#Absolute pressure in bar\n",
      "\n",
      "#Output\n",
      "print'Pressure due to height is',round(P,3),'N/m**2'\n",
      "print'Atmospheric Pressure is ',round(Pa,0),'N/m**2'\n",
      "print'Absolute pressure of steam is',round(Pab,4),\"bar\"\n"
     ],
     "language": "python",
     "metadata": {},
     "outputs": [
      {
       "output_type": "stream",
       "stream": "stdout",
       "text": [
        "Pressure due to height is 333.404 N/m**2\n",
        "Atmospheric Pressure is  101325.0 N/m**2\n",
        "Absolute pressure of steam is 1.1399 bar\n"
       ]
      }
     ],
     "prompt_number": 23
    },
    {
     "cell_type": "heading",
     "level": 2,
     "metadata": {},
     "source": [
      "Example 1.18 Page No. 47"
     ]
    },
    {
     "cell_type": "code",
     "collapsed": false,
     "input": [
      "\n",
      "g=9.7\t\t    #Gravity in m/sec**2\n",
      "d=13.69*10**3\t#Density of Hg in kg/m**3\n",
      "dw=1000\t\t  #Density of water in kg/m**3\n",
      "Pa=98\t    \t#Atmospheric pressure in kPa\n",
      "Z=0.6\t    \t#Manometer level difference in m of Hg\n",
      "Zw=0.04\t\t  #Water coloumn level in m\n",
      "\n",
      "#Calculations \n",
      "Pw=(dw*g*Zw)/1000.0\t#Pressure due to water in kPa\n",
      "Pg=(d*g*Z)/1000.0\t\t#Pressure in kPa\n",
      "Pab1=Pa+Pg-Pw\t\t#Absolute pressure in kPa\n",
      "Pab=Pab1/100.0\t\t #Absolute pressure in bar\n",
      "\n",
      "#Output \n",
      "print'The absolute pressure of steam is',round(Pab,2),\"bar\"\n"
     ],
     "language": "python",
     "metadata": {},
     "outputs": [
      {
       "output_type": "stream",
       "stream": "stdout",
       "text": [
        "The absolute pressure of steam is 1.77 bar\n"
       ]
      }
     ],
     "prompt_number": 16
    },
    {
     "cell_type": "heading",
     "level": 2,
     "metadata": {},
     "source": [
      "Example 1.19 Page No. 48"
     ]
    },
    {
     "cell_type": "code",
     "collapsed": false,
     "input": [
      "\n",
      "Z=0.76\t\t#Actual height of mercury coloumn in m\n",
      "g=9.806\t\t#Gravity in m/sec**2\n",
      "d=13596\t\t#Density of Hg in kg/m**3\n",
      "dw=1000\t\t#Density of water in kg/m**3\n",
      "Zw=0.035\t\t#Height of condensate coloumn in m\n",
      "Zh=0.10\t\t#Height of mercury coloumn in m\n",
      "\n",
      "#Calculations\n",
      "Pa=d*g*Z\t\t#Atmospheric pressure in N/m**2\n",
      "Pw=dw*g*Zw\t#Pressure due to water in N/m**2\n",
      "Ph=d*g*Zh\t#Pressure due to Hg in N/m**2\n",
      "Pab=(Pa+Ph-Pw)/10**5\t#Absolute pressure in bar\n",
      "\n",
      "#Output \n",
      "print'Absolute pressure of steam in the pipe is',round(Pab,2),\"bar\"\n"
     ],
     "language": "python",
     "metadata": {},
     "outputs": [
      {
       "output_type": "stream",
       "stream": "stdout",
       "text": [
        "Absolute pressure of steam in the pipe is 1.14 bar\n"
       ]
      }
     ],
     "prompt_number": 17
    },
    {
     "cell_type": "heading",
     "level": 2,
     "metadata": {},
     "source": [
      "Example 1.20Page No. 49"
     ]
    },
    {
     "cell_type": "code",
     "collapsed": false,
     "input": [
      "\n",
      "dk=800\t\t#Density of kerosene in kg/m**3\n",
      "g=9.81\t\t#gravity in m/sec**2\n",
      "Zk=0.051\t\t#Kerosene vapour on Hg coloumn in m\n",
      "d=13600\t\t#Density of Hg in kg/m**3\n",
      "Zh=0.1\t\t#Hg level in m\n",
      "Z=0.755\t\t#Atmospheric pressure in m of Hg\n",
      "\n",
      "#Calculations\n",
      "Pk=dk*g*Zk\t\t       #Pressure of kerosene in N/m**2\n",
      "Pa=d*g*Z\t\t         #Atmospheric pressure in N/m**2\n",
      "Ph=d*g*Zh            \t#Pressure due to Hg in N/m**2\n",
      "Pab=(Pa+Ph-Pk)/1000.0\t#Absolute pressure in kPa\n",
      "\n",
      "#Output \n",
      "print'Absolute pressure of vapour is ',round(Pab,2),\"kPa\"\n"
     ],
     "language": "python",
     "metadata": {},
     "outputs": [
      {
       "output_type": "stream",
       "stream": "stdout",
       "text": [
        "Absolute pressure of vapour is  113.67 kPa\n"
       ]
      }
     ],
     "prompt_number": 19
    },
    {
     "cell_type": "heading",
     "level": 2,
     "metadata": {},
     "source": [
      "Example 1.21 Page No. 50"
     ]
    },
    {
     "cell_type": "code",
     "collapsed": false,
     "input": [
      "\n",
      "d=13596\t\t#Density of Hg in kg/m**3\n",
      "g=9.806\t\t#Gravity in m/sec**2\n",
      "df=0.8*1000\t#Density of fluid in kg/m**3\n",
      "Z=0.76\t\t#Atmospheric pressure in m of Hg\n",
      "Zf=0.3\t\t#Height of fluid coloumn in m\n",
      "\n",
      "#Calculations\n",
      "Pa=d*g*Z\t\t#Atmospheric perssure in N/m**2\n",
      "P=df*g*Zf\t#Pressure due to fluid in N/m**2\n",
      "Pab=(Pa+P)/10**5\t#Absolute pressure in bar\n",
      "Zh=((Pab*10**5-Pa)/(d*g))*100\t#Difference between the height of Hg coloumn in 2 arms in m\n",
      "\n",
      "#Output\n",
      "print'(a)The Absolute pressure of the gas in pipe line Pab',round(Pab,2),\" bar\" \n",
      "print'(b)If the fluid used is Hg then the difference of height of Hg coloumn in the 2 arms is',round(Zh,2),\"cm\"\n"
     ],
     "language": "python",
     "metadata": {},
     "outputs": [
      {
       "output_type": "stream",
       "stream": "stdout",
       "text": [
        " (a)The Absolute pressure of the gas in pipe line Pab 1.04  bar\n",
        "(b)If the fluid used is Hg then the difference of height of Hg coloumn in the 2 arms is 1.77 cm\n"
       ]
      }
     ],
     "prompt_number": 21
    },
    {
     "cell_type": "heading",
     "level": 2,
     "metadata": {},
     "source": [
      "Example 1.22 Page No. 51"
     ]
    },
    {
     "cell_type": "code",
     "collapsed": false,
     "input": [
      "\n",
      "Pa=1\t\t#Atmospheric pressure in bar\n",
      "g=9.81\t\t#Gravity in m/sec**2\n",
      "do=0.8*1000\t#Density of oil in kg/m**3\n",
      "Zo=0.8\t\t#Level of oil in m\n",
      "dw=1000\t\t#Density of water in kg/m**3\n",
      "Zw=0.65\t\t#Level of water in m\n",
      "d=13.6*10**3\t#Density of Hg in kg/m**3\n",
      "Z=0.45\t\t#Level of Hg in m\n",
      "\n",
      "#Calculations\n",
      "Po=(do*g*Zo)/10**5\t#Pressure of oil in bar\n",
      "Pw=(dw*g*Zw)/10**5\t#Pressure of water in bar\n",
      "P=(d*g*Z)/10**5\t\t#Pressure of Hg in bar\n",
      "Pab=Pa+Po+Pw+P\t\t#Pressure at the bottom of the coloumn in bar\n",
      "Pow=Pa+Po\t\t#Pressure at the interface of oil and water in bar\n",
      "Poh=Pa+Po+Pw\t\t#Pressure at the interface of water and Hg\n",
      "\n",
      "#Output\n",
      "print'(a)Pressure at the bottom of the coloumn is',round(Pab,2),\"bar\" \n",
      "print'(b)Pressure at the inter surface of oil and water ia',round(Pow,3),\"bar \" \n",
      "print'(c)Pressure at the inter surface of water and Hg ',round(Poh,3),\"bar\"\n"
     ],
     "language": "python",
     "metadata": {},
     "outputs": [
      {
       "output_type": "stream",
       "stream": "stdout",
       "text": [
        "(a)Pressure at the bottom of the coloumn is 1.73 bar\n",
        "(b)Pressure at the inter surface of oil and water ia 1.063 bar \n",
        "(c)Pressure at the inter surface of water and Hg  1.127 bar\n"
       ]
      }
     ],
     "prompt_number": 24
    },
    {
     "cell_type": "heading",
     "level": 2,
     "metadata": {},
     "source": [
      "Example 1.23 Page No. 52"
     ]
    },
    {
     "cell_type": "code",
     "collapsed": false,
     "input": [
      "\n",
      "Z=0.76\t\t#Barometer reading in m\n",
      "g=9.81\t\t#Gravity in m/sec**2\n",
      "d=13.6*10**3\t#Density of Hg in kg/m**3\n",
      "Pab=1.2*10**5\t#Absolute pressure in N/m**2\n",
      "do=0.8*1000\t#Density of oil in kg/m**3\n",
      "dw=1000\t\t#Density of water in kg/m**3\n",
      "dh=13.6*10**3\t#Density of Hg in kg/m**3\n",
      "\n",
      "#calculations\n",
      "Pa=dh*g*Z\t#Atmospheric pressure in N/m**2\n",
      "Pg=Pab-Pa\t#Gauge pressure in N/m**2\n",
      "Zo=Pg/(do*g)\t#Height of oil in manometer in m\n",
      "Pw=Pab-Pa\t#Pressure exercted by water in N/m**2\n",
      "Zw=Pw/(dw*g)\t#Height of water in manometer in m\n",
      "P=Pab-Pa\t\t#Pressure of Hg in N/m**2\n",
      "Zh=P/(d*g)\t#Height of Hg in manometer in m\n",
      "\n",
      "#Output\n",
      "print'(a)The height of fluid for oil Manometer',round(Zo,2),\"m \"\n",
      "print'(b)The height of fluid for water Manometer ia',round(Zw,2),\"m\" \n",
      "print'(c)The height of fluid for Hg Manometer is',round(Zh,3),\"m\"\n"
     ],
     "language": "python",
     "metadata": {},
     "outputs": [
      {
       "output_type": "stream",
       "stream": "stdout",
       "text": [
        "(a)The height of fluid for oil Manometer 2.37 m \n",
        "(b)The height of fluid for water Manometer ia 1.9 m\n",
        "(c)The height of fluid for Hg Manometer is 0.139 m\n"
       ]
      }
     ],
     "prompt_number": 26
    },
    {
     "cell_type": "heading",
     "level": 2,
     "metadata": {},
     "source": [
      "Example 1.24 Page No. 54"
     ]
    },
    {
     "cell_type": "code",
     "collapsed": false,
     "input": [
      "\n",
      "Zg=0.753\t\t#Barometer reading at ground level in m\n",
      "Zp=0.690\t\t#Pilots barometer reading in the plane in m\n",
      "d=13600\t\t#Density of Hg in kg/m**3\n",
      "g=9.81\t\t #Gravity in m/sec**2\n",
      "da=1.25\t\t#Density of air in kg/m**3\n",
      "\n",
      "#Calculations\n",
      "Pg=d*g*Zg\t#Pressure at ground level in N/m**2\n",
      "Pp=d*g*Zp\t#Pressure at plane level in N/m**2\n",
      "P=Pg-Pp\t\t#Change of pressure at ground level and that of plane level in N/m**2\n",
      "Za=P/(da*g)\t#Altitude of plane from ground in m\n",
      "\n",
      "#Output \n",
      "print'The altitude of the plane from ground level is',round(Za,1),\"m\"\n"
     ],
     "language": "python",
     "metadata": {},
     "outputs": [
      {
       "output_type": "stream",
       "stream": "stdout",
       "text": [
        "The altitude of the plane from ground level is 685.4 m\n"
       ]
      }
     ],
     "prompt_number": 26
    },
    {
     "cell_type": "heading",
     "level": 2,
     "metadata": {},
     "source": [
      "Example 1.25 Page No. 54"
     ]
    },
    {
     "cell_type": "code",
     "collapsed": false,
     "input": [
      "\n",
      "dw=1000\t\t#Density of water in kg/m**3\n",
      "dh=13590\t\t#Density of Hg in kg/m**3\n",
      "Pa=400\t\t#Pressure at A in kPa\n",
      "g=9.81\t\t#Gravity in N/m**2\n",
      "Zw1=2.5\t\t#First level of water in m\n",
      "Zw2=0.4\t\t#Second level of water in m\n",
      "Zh=0.6\t\t#Level of Hg in m\n",
      "\n",
      "#Calculations \n",
      "Pw1=dw*g*Zw1\t#First level of water pressure in N/m**2\n",
      "Pw2=dw*g*Zw2\t#Second level of water pressure in n/m**2\n",
      "Ph=dh*g*Zh\t#Pressure of Hg in N/m**2\n",
      "Pb=((Pa*1000)+Pw1+Pw2-Ph)/1000\t#Pressure exercted at B in kPa\n",
      "\n",
      "#Output\n",
      "print'Pressure exercted at B is',round(Pb,2),\"KPa\"\n"
     ],
     "language": "python",
     "metadata": {},
     "outputs": [
      {
       "output_type": "stream",
       "stream": "stdout",
       "text": [
        "Pressure exercted at B is 348.46 KPa\n"
       ]
      }
     ],
     "prompt_number": 29
    },
    {
     "cell_type": "heading",
     "level": 2,
     "metadata": {},
     "source": [
      "Example 1.26 Page No. 55"
     ]
    },
    {
     "cell_type": "code",
     "collapsed": false,
     "input": [
      "\n",
      "do=0.902*10**3\t#Density of oil in kg/m**3\n",
      "Pg=2*10**5\t #Gauge pressure in N/m**2\n",
      "g=9.81\t\t #Gravity in m/sec**2\n",
      "ho=2\t\t   #Level of oil in m\n",
      "d=2\t\t    #Diameter of cylinder in m\n",
      "pi=3.141595\t#Constant value of pi\n",
      "\n",
      "#Calculations\n",
      "A=(pi/4.0)*d**2   #Area of cylinder \n",
      "Po=do*g*ho\t    # Pressure due to oil in N/m**2\n",
      "W=(Pg+Po)*A\t   #Weight of the piston in N\n",
      "\n",
      "#Output\n",
      "print'The total weight of piston and slab is',round(W,2),\"N\"\n"
     ],
     "language": "python",
     "metadata": {},
     "outputs": [
      {
       "output_type": "stream",
       "stream": "stdout",
       "text": [
        "The total weight of piston and slab is 683916.56 N\n"
       ]
      }
     ],
     "prompt_number": 27
    },
    {
     "cell_type": "heading",
     "level": 2,
     "metadata": {},
     "source": [
      "Example 1.27 Page No. 56"
     ]
    },
    {
     "cell_type": "code",
     "collapsed": false,
     "input": [
      "\n",
      "m=21\t\t#Mass of piston in kg\n",
      "P1=600\t\t#Pressure in the pipe 1 in kPa\n",
      "P2=170\t\t#Pressure in the pipe 2 in kPa\n",
      "d1=0.10\t\t#Diameter of the piston 1 in m\n",
      "d2=0.20\t\t#Diameter of the piston 2 in m\n",
      "pi=3.14155\t#Constant value of pi\n",
      "\n",
      "#Calculations\n",
      "F=(m*9.81)/1000\t\t#Force due to mass in kN\n",
      "F1=(pi/4)*d1**2*P1\t\t#Force 1 acting on 10 cm diameter piston in kN\n",
      "F2=(pi/4)*(d2**2-d1**2)*P2\t#Force 2 acting on 20 cm diameter piston in kN\n",
      "F3=F+F1+F2\t\t#Total downward force in kN\n",
      "P3=F3/((pi/4)*d2**2)\t#Pressure 3 in the gas in kPa\n",
      "\n",
      "#Output\n",
      "print'The pressure in the gas is ',round(P3,2),\"KPa\"\n"
     ],
     "language": "python",
     "metadata": {},
     "outputs": [
      {
       "output_type": "stream",
       "stream": "stdout",
       "text": [
        "The pressure in the gas is  284.06 KPa\n"
       ]
      }
     ],
     "prompt_number": 35
    },
    {
     "cell_type": "heading",
     "level": 2,
     "metadata": {},
     "source": [
      "Example 1.28 Page No. 57"
     ]
    },
    {
     "cell_type": "code",
     "collapsed": false,
     "input": [
      "\n",
      "P1=0.755\t\t#Barometric reading at the bottom of the building in m\n",
      "P2=0.73\t\t#Barometric reading at the top of the building in m\n",
      "da=1.18\t\t#Density of air in kg/m**3\n",
      "g=9.81\t\t#Gravitalional constant in m/sec**2\n",
      "d=13600\t\t#Density of Hg in kg/m**3\n",
      "\n",
      "#Calculations\n",
      "h=((P1-P2)*d*g)/(da*g)  #The height of the building in m\n",
      "\n",
      "#Output\n",
      "print'The height of the building ',round(h,1),\"m\"\n"
     ],
     "language": "python",
     "metadata": {},
     "outputs": [
      {
       "output_type": "stream",
       "stream": "stdout",
       "text": [
        "The height of the building  288.1 m\n"
       ]
      }
     ],
     "prompt_number": 37
    },
    {
     "cell_type": "heading",
     "level": 2,
     "metadata": {},
     "source": [
      "Example 1.29 Page No. 58"
     ]
    },
    {
     "cell_type": "code",
     "collapsed": false,
     "input": [
      "\n",
      "PA=200\t\t#Gauge pressure reading for A in kPa\n",
      "PB=120\t\t#Gauge pressure reading for B in kPa\n",
      "hb=750\t\t#Barometer reading in mm of Hg\n",
      "g=9.806\t\t#Gravitational constant in m/sec**2\n",
      "d=13597\t\t#Density of Hg in barometer in kg/m**3\n",
      "\n",
      "#Calculations\n",
      "Pa=d*g*hb/10**6\t#Atmospheric pressure in kPa\n",
      "Pab1=PA+Pa\t#Absolute pressure in container A in kPa\n",
      "Pab2=PB+Pab1\t#Absolute pressure in container B in kPa\n",
      "\n",
      "#Output \n",
      "print'(a)The absolute pressure in the container A is',round(Pab1,1),\"kPa\" \n",
      "print'(b)The absolute pressure in the container B is ',round(Pab2,2),\"kPa\"\n"
     ],
     "language": "python",
     "metadata": {},
     "outputs": [
      {
       "output_type": "stream",
       "stream": "stdout",
       "text": [
        "(a)The absolute pressure in the container A is 300.0 kPa\n",
        "(b)The absolute pressure in the container B is  420.0 kPa\n"
       ]
      }
     ],
     "prompt_number": 38
    },
    {
     "cell_type": "heading",
     "level": 2,
     "metadata": {},
     "source": [
      "Example 1.30 Page No. 59"
     ]
    },
    {
     "cell_type": "code",
     "collapsed": false,
     "input": [
      "\n",
      "C1=40\t\t #Temperature 1 in degree centigrade\n",
      "C2=-20\t\t#Temperature 2 in degree centigrade \n",
      "\n",
      "#calculations\n",
      "F1=((C1/100.0)*180)+32\t#Temperature 1 in Fahrenheit\n",
      "F2=((C2/100.0)*180)+32\t#Temperature 2 in Fahrenheit\n",
      "\n",
      "#Output\n",
      "print'(a)Temperature after converting 40 degree C is',round(F1,2),\"F\"\n",
      "print'(b)Temperature after convertibg -20 degree C is ',round(F2,2),\"F\"\n"
     ],
     "language": "python",
     "metadata": {},
     "outputs": [
      {
       "output_type": "stream",
       "stream": "stdout",
       "text": [
        "(a)Temperature after converting 40 degree C is 104.0 F\n",
        "(b)Temperature after convertibg -20 degree C is  -4.0 F\n"
       ]
      }
     ],
     "prompt_number": 27
    },
    {
     "cell_type": "heading",
     "level": 2,
     "metadata": {},
     "source": [
      "Example 1.31 Page No. 59"
     ]
    },
    {
     "cell_type": "code",
     "collapsed": false,
     "input": [
      "\n",
      "C=(-32/180.0)/((1/100.0)-(1/180.0))\t#Centrigade temperature in degree C\n",
      "F=C\t\t\t#Fahrenheit temperature in degree Fahrenheit\n",
      "\n",
      "print'The temperature which has the same value on both the centrigrade and fahrenheit scales is',C\n"
     ],
     "language": "python",
     "metadata": {},
     "outputs": [
      {
       "output_type": "stream",
       "stream": "stdout",
       "text": [
        "The temperature which has the same value on both the centrigrade and fahrenheit scales is -40.0\n"
       ]
      }
     ],
     "prompt_number": 40
    },
    {
     "cell_type": "heading",
     "level": 2,
     "metadata": {},
     "source": [
      "Example 1.32 Page No. 59"
     ]
    },
    {
     "cell_type": "code",
     "collapsed": false,
     "input": [
      "\n",
      "P1=1.5\t\t#Thermometric properties at ice point\n",
      "P2=7.5\t\t#Thermometric properties at steam point\n",
      "P3=3.5\t\t#Thermometric property\n",
      "\n",
      "#Calculations\n",
      "import math\n",
      "M = array([[math.log(P2), 1], [math.log(P1), 1]])\n",
      "N=([100,0])\n",
      "X=inv(M)*N #Inverse matrix\n",
      "a=X[0,0]\n",
      "b=X[1,0]\n",
      "t=(a*math.log(P3)+b)\t#Required temperature in degree C\n",
      "\n",
      "#Output\n",
      "print'The required temperature is ',round(t,2),\"C\"\n"
     ],
     "language": "python",
     "metadata": {},
     "outputs": [
      {
       "output_type": "stream",
       "stream": "stdout",
       "text": [
        "The required temperature is  52.65 C\n"
       ]
      }
     ],
     "prompt_number": 1
    },
    {
     "cell_type": "heading",
     "level": 2,
     "metadata": {},
     "source": [
      "Example 1.33 Page No. 60"
     ]
    },
    {
     "cell_type": "code",
     "collapsed": false,
     "input": [
      "\n",
      "T1=100\n",
      "T2=300             #Temperature of ice and steam point in the scale\n",
      "P1=1.86\t\t      #Values of thermometric properties at ice point nad steam point respectively\n",
      "P2=6.8\n",
      "P=2.5\t\t\t  #Thermometric property\n",
      "\n",
      "#Calculations\n",
      "import math\n",
      "#aln(P2)+b=300     #Costants in the temprature scale reading, a and b\n",
      "#aln(P1)+b=100\n",
      "#Solving above two equations\n",
      "a=(T2-T1)/(math.log(P2/P1))   \n",
      "b=T2-a*math.log(P2)\n",
      "t=(a*math.log(P)+b)\t#Required temperature in degree C\n",
      "\n",
      "#Output\n",
      "print'Temperature corresponding to the thermometric property is ',round(t,1),\"C\"\n"
     ],
     "language": "python",
     "metadata": {},
     "outputs": [
      {
       "output_type": "stream",
       "stream": "stdout",
       "text": [
        "Temperature corresponding to the thermometric property is  145.6 C\n"
       ]
      }
     ],
     "prompt_number": 21
    },
    {
     "cell_type": "heading",
     "level": 2,
     "metadata": {},
     "source": [
      "Example 1.34 Page No. 60"
     ]
    },
    {
     "cell_type": "code",
     "collapsed": false,
     "input": [
      "\n",
      "p1=32.0\t\t #Pressure in mm of Hg at triple point of water\n",
      "p2=76.0\t\t #Pressure in mm of Hg above atmospheric pressure\n",
      "p3=752.0\t\t#Barometric pressure in mm of Hg\n",
      "T=273.16\t\t#Triple point of water in K\n",
      "\n",
      "#Calculations\n",
      "P1=p3+p1\t#Total pressure in mm of Hg\n",
      "P2=p2+p3\t#Total pressure in mm of Hg\n",
      "T2=((T*P2)/P1)-273.16\t#Temperture in degree C\n",
      "\n",
      "#Output\n",
      "print'Temperature is ',round(T2,2),\"C\"\n",
      "\n"
     ],
     "language": "python",
     "metadata": {},
     "outputs": [
      {
       "output_type": "stream",
       "stream": "stdout",
       "text": [
        "Temperature is  15.33 C\n"
       ]
      }
     ],
     "prompt_number": 20
    },
    {
     "cell_type": "heading",
     "level": 2,
     "metadata": {},
     "source": [
      "Example 1.35 Page No.61"
     ]
    },
    {
     "cell_type": "code",
     "collapsed": false,
     "input": [
      "\n",
      "T1=32\t\t#Temperatures of ice point and steam point respectively\n",
      "T2=212\n",
      "P1=1.86\t\t    #P values at ice point and steam point respectively\n",
      "P2=6.81\n",
      "P=2.5\t\t\t#Reading on the thermometer\n",
      "\n",
      "#Calculations\n",
      "import math\n",
      "#aln(P1)+b=32     #Costants in the given temprature scale reading, a and b\n",
      "#aln(P2)+b=212\n",
      "#Solving above two equations\n",
      "a=(T2-T1)/(math.log(P2/P1))   \n",
      "b=T2-a*math.log(P2)\n",
      "t=(a*math.log(P)+b)\t#Required temperature in degree C\n",
      "\n",
      "#Output\n",
      "print'Temperature corresponding to the thermometric property is ',round(t,0),\"C\"\n"
     ],
     "language": "python",
     "metadata": {},
     "outputs": [
      {
       "output_type": "stream",
       "stream": "stdout",
       "text": [
        "Temperature corresponding to the thermometric property is  73.0 C\n"
       ]
      }
     ],
     "prompt_number": 39
    },
    {
     "cell_type": "code",
     "collapsed": false,
     "input": [],
     "language": "python",
     "metadata": {},
     "outputs": []
    }
   ],
   "metadata": {}
  }
 ]
}