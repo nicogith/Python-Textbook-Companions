{
 "metadata": {
  "name": "",
  "signature": "sha256:3005e9f014df5b80be5a0d9ce99c3166f00b45b3269e9a4b1d59ef8c3aeabae4"
 },
 "nbformat": 3,
 "nbformat_minor": 0,
 "worksheets": [
  {
   "cells": [
    {
     "cell_type": "heading",
     "level": 1,
     "metadata": {},
     "source": [
      "Chapter 6:Introduction to Heat Transfer"
     ]
    },
    {
     "cell_type": "heading",
     "level": 2,
     "metadata": {},
     "source": [
      "Example 6.1 Page no:221"
     ]
    },
    {
     "cell_type": "code",
     "collapsed": false,
     "input": [
      "\n",
      "\n",
      "#Input data\n",
      "t1=270\t\t#Temperature inside surface of the furnace wall in degree centigrade\n",
      "t3=20\t\t#Temperature outside surface is dissipating heat by convection into air in degree centigrade\n",
      "L=0.04\t\t#Thickness of the wall in m\n",
      "K=1.2\t\t#Thermal conductivity of wall in W/m-K\n",
      "t2=70\t\t#Temperature of outside surface should not exceed in degree centigrade\n",
      "A=1\t\t #Assuming area in m**2\n",
      "\n",
      "#Calculations\n",
      "Q1=(K*A*(t1-t2))/(L)\t#Heat transfer through the furnace wall in W\n",
      "hc=(Q1)/(A*(t2-t3))\t\t#Heat transfer coefficient in W/m**2K\n",
      "\n",
      "#Output\n",
      "print\"The minimum value of heat transfer coefficient at the outer surface is\",hc,\"W/m**2K\"\n"
     ],
     "language": "python",
     "metadata": {},
     "outputs": [
      {
       "output_type": "stream",
       "stream": "stdout",
       "text": [
        "The minimum value of heat transfer coefficient at the outer surface is 120.0 W/m**2K\n"
       ]
      }
     ],
     "prompt_number": 2
    },
    {
     "cell_type": "heading",
     "level": 2,
     "metadata": {},
     "source": [
      "Example 6.2 page no:222"
     ]
    },
    {
     "cell_type": "code",
     "collapsed": false,
     "input": [
      "\n",
      "\n",
      "#Input data\n",
      "t1=30\t\t #Normal temperature of black body in degree centigrade\n",
      "t2=100\t\t#Heated temperature of black body in degree centigrade\n",
      "s=20.52*10**-8\t#Stefan Boltzmann constant in kJ/hrK**4\n",
      "A=1\t\t   #Assume area in m**2\n",
      "\n",
      "#Calculations\n",
      "T1=273+t1\t#Black body temperatures in kelvin K\n",
      "T2=273+t2\t#Heated temperature of black body in kelvin K\n",
      "E=s*(T2**4-T1**4)\t#Increase of emissive power in kJ/hr\n",
      "\n",
      "#Output\n",
      "print'The change in its emissive power',round(E,4),\"kJ/hr\"\n"
     ],
     "language": "python",
     "metadata": {},
     "outputs": [
      {
       "output_type": "stream",
       "stream": "stdout",
       "text": [
        "The change in its emissive power 2242.4228 kJ/hr\n"
       ]
      }
     ],
     "prompt_number": 82
    },
    {
     "cell_type": "heading",
     "level": 2,
     "metadata": {},
     "source": [
      "Example 6.3 page no:222"
     ]
    },
    {
     "cell_type": "code",
     "collapsed": false,
     "input": [
      "\n",
      "\n",
      "#Input data\n",
      "L=0.012   \t#Wall thickness of a mild steel tank in m\n",
      "t1=100.0\t\t#Temperature of water in tank in degree centigrade\n",
      "t4=20.0\t \t#Atmospheric temperature of air in degree centigrade\n",
      "K=50.0\t\t  #Thermal conductivity of mild steel in W/m-K\n",
      "hi=2850.0\t\t#Convection heat transfer coefficient on water side in W/m**2-K\n",
      "ho=10.0\t\t#Convection heat transfer coefficient on air side in W/m**2-K\n",
      "Q1=60.0    \t#Heat trasfer from the incandicent lamp in W\n",
      "s=5.67*10**-8\t#Stefan boltzmann constant in W/m**2/K**4\n",
      "T1=2500.0\t   #Lamp surface temperature in K\n",
      "T2=300.0\t\t#Room temperature in K\n",
      "A=1.0\t\t   #Assuming area in m**2\n",
      "\n",
      "#Calculations\n",
      "T=t1-t4\t\t#Temperature difference in degree centigrade\n",
      "Q=(T)/((1/hi)+(L/K)+(1/ho))\t#Rate of heat loss per m**2 area of surface of tank in W\n",
      "t3=(Q/(ho*A))+(t4)\t\t#Temperature of the outside surface in degree centigrade\n",
      "U=(Q)/(A*T)\t\t#Overall Heat transfer coefficient in W/m**2/K\n",
      "a=(Q1)/(s*(T1**4-T2**4))\t#surface area of the coil in m**2\n",
      "a1=a*10**6#Surface area of the coil in mm**2\n",
      "\n",
      "#Output\n",
      "print'(a) The rate of heat loss per sq m area of the tank is',round(Q,2),\" W \"\n",
      "print '(b) Overall heat transfer coefficient is ',round(U,2),\" W/m**2/K\" \n",
      "print '(c) Temperature of the outside surface of tank is ',round(t3,2),\"C\" \n",
      "print '(d)The surface area of the coil is ',round(a1,3),\"mm**2\"\n"
     ],
     "language": "python",
     "metadata": {},
     "outputs": [
      {
       "output_type": "stream",
       "stream": "stdout",
       "text": [
        "(a) The rate of heat loss per sq m area of the tank is 795.3  W \n",
        "(b) Overall heat transfer coefficient is  9.94  W/m**2/K\n",
        "(c) Temperature of the outside surface of tank is  99.53 C\n",
        "(d)The surface area of the coil is  27.096 mm**2\n"
       ]
      }
     ],
     "prompt_number": 83
    },
    {
     "cell_type": "heading",
     "level": 2,
     "metadata": {},
     "source": [
      "Example 6.4 page no:225"
     ]
    },
    {
     "cell_type": "code",
     "collapsed": false,
     "input": [
      "\n",
      "\n",
      "#Input data\n",
      "A1=3.5\t\t#Area of the boiler plate in m**2\n",
      "X2=0.02\t\t#Thickness of the plate in m\n",
      "K2=50.0\t\t#Thermal conductivity of plate in W/m-K\n",
      "X1=0.002\t  #Thickness of layer inside boiler in m\n",
      "K1=1.0\t\t  #Thermal conductivity of layer in W/m-K\n",
      "t1=250.0\t\t#The hot gas temperature of the plate in degree centigrade\n",
      "t3=200.0\t\t#Temperature of cold air in degree centigrade\n",
      "\n",
      "#Calculations \n",
      "T=t1-t3\t\t#Temperature difference in degree centigrade\n",
      "Q=(T*A1)/((X1/K1)+(X2/K2))\t#Rate of heat loss in W\n",
      "Q1=Q/1000\t\t#Rate of heat loss in kJ/s\n",
      "Q2=Q1*3600\t\t#Rate of heat loss in kJ/hr\n",
      "\n",
      "#Output\n",
      "print'(a)Rate of heat loss is',round(Q1,2),\" kJ/s \"\n",
      "print'(b)Rate of heat loss per hour is',round(Q2,2),\"kJ/hr\"\n"
     ],
     "language": "python",
     "metadata": {},
     "outputs": [
      {
       "output_type": "stream",
       "stream": "stdout",
       "text": [
        "(a)Rate of heat loss is 72.92  kJ/s \n",
        "(b)Rate of heat loss per hour is 262500.0 kJ/hr\n"
       ]
      }
     ],
     "prompt_number": 84
    },
    {
     "cell_type": "heading",
     "level": 2,
     "metadata": {},
     "source": [
      "Example 6.5 page no:226"
     ]
    },
    {
     "cell_type": "code",
     "collapsed": false,
     "input": [
      "\n",
      "\n",
      "#Input data \n",
      "L1=0.225\t\t#Thickness of the brick in m\n",
      "K1=4.984\t\t#Thermal conductivity of brick in kJ/hr m C/m\n",
      "L2=0.125\t\t#Thickness of insulating brick in m\n",
      "K2=0.623\t\t#Thermal conductivity of insulating brick in kJ/hr m C /m\n",
      "Ti=1650.0\t\t#Temperature inside the furnace in degree centigrade\n",
      "hl=245.28\t\t#Conductance at inside wall in kJ/hr m**2 C\n",
      "ho=40.88\t\t#Conductance at outside wall in kJ/hr m**2 C\n",
      "To=27.0\t\t#Temperature of surrounding atmosphere in degree centigrade \n",
      "\n",
      "#Calculations \n",
      "R=((1.0/hl)+(L1/K1)+(L2/K2)+(1.0/ho))\t#Total resistance of the wall in C hr/kJ\n",
      "q=(Ti-To)/R\t\t\t#Rate of heat loss per m**2 of the wall in kJ/hr m**2\n",
      "T1=Ti-(q*(1.0/hl))\t\t\t#Inner surface temperature in degree centigrade\n",
      "T3=Ti-(q*((1.0/hl)+(L1/K1)+(L2/K2)))\t#Outer surface temperature in degree centigrade\n",
      "\n",
      "#Output\n",
      "print'(a)The rate of heat loss per sq m of the wall is',round(q,1), \"kJ/hr m**2\"\n",
      "print'(b)The temperature at the inner surface is',round(T1,2),\"C\" \n",
      "print'(c)The temperature at the outer surface is',round(T3,2),\"C\"\n"
     ],
     "language": "python",
     "metadata": {},
     "outputs": [
      {
       "output_type": "stream",
       "stream": "stdout",
       "text": [
        "(a)The rate of heat loss per sq m of the wall is 5916.3 kJ/hr m**2\n",
        "(b)The temperature at the inner surface is 1625.88 C\n",
        "(c)The temperature at the outer surface is 171.72 C\n"
       ]
      }
     ],
     "prompt_number": 85
    },
    {
     "cell_type": "heading",
     "level": 2,
     "metadata": {},
     "source": [
      "Example 6.6 page no:227"
     ]
    },
    {
     "cell_type": "code",
     "collapsed": false,
     "input": [
      "\n",
      "#Input data\n",
      "x=0.3\t\t#Thickness of the wall in degree centigrade\n",
      "t1=24.0\t\t#Inside surface temperature of the wall in degree centigrade\n",
      "t2=-6\t\t#Outside temperature of wall in degree centigrade\n",
      "h=2.75\t\t#Height of the wall in m\n",
      "L=6.1\t\t#Length of the wall in m\n",
      "K=2.6\t\t#Coefficient of conductivity of brick in kJ/hr m C\n",
      "\n",
      "#Calculations \n",
      "A=h*L\t\t#Area of the wall in m**2\n",
      "A=round(A,1)\n",
      "T=t2-t1\t\t#Temperature difference in degree centigrade\n",
      "q=(K*A*(-T))/(x)\t#Heat transfer by conduction in kJ/hr\n",
      "R=(t1-t2)/q\t#Resistance of the wall in C hr/kJ\n",
      "C=1.0/R\t\t#Conductance of the wall in kJ/m C\n",
      "\n",
      "#Output\n",
      "print'(a)The heat transfer by conduction through the wall is',q, \"kJ/hr\"\n",
      "print'(b)Resistance of the wall is',round(R,5),\"C hr/kJ\"\n",
      "print'(C)Conductance of the wall is',round(C,1),\"kJ/m C\""
     ],
     "language": "python",
     "metadata": {},
     "outputs": [
      {
       "output_type": "stream",
       "stream": "stdout",
       "text": [
        "(a)The heat transfer by conduction through the wall is 4368.0 kJ/hr\n",
        "(b)Resistance of the wall is 0.00687 C hr/kJ\n",
        "(C)Conductance of the wall is 145.6 kJ/m C\n"
       ]
      }
     ],
     "prompt_number": 86
    },
    {
     "cell_type": "heading",
     "level": 2,
     "metadata": {},
     "source": [
      "Example 6.8 page no:230"
     ]
    },
    {
     "cell_type": "code",
     "collapsed": false,
     "input": [
      "\n",
      "T=300\t\t#Temperature of the earth as a black body in K\n",
      "s=20.52*10**-8\t#Stefan Boltzmann constant in kJ/hr m**2 T**4\n",
      "\n",
      "#Calculations \n",
      "Q=s*T**4\t#Heat received by unit area on the earths surface perpendicular to solar rays in kJ/hr\n",
      "\n",
      "#Output\n",
      "print'Heat received by the unit area of earths surface',round(Q,2),\"kJ/hr\"\n"
     ],
     "language": "python",
     "metadata": {},
     "outputs": [
      {
       "output_type": "stream",
       "stream": "stdout",
       "text": [
        "Heat received by the unit area of earths surface 1662.12 kJ/hr\n"
       ]
      }
     ],
     "prompt_number": 87
    },
    {
     "cell_type": "heading",
     "level": 2,
     "metadata": {},
     "source": [
      "Example 6.9 page no:230"
     ]
    },
    {
     "cell_type": "code",
     "collapsed": false,
     "input": [
      "\n",
      "\n",
      "#Input data\n",
      "D=0.07\t\t  # Diameter of the steel tube in m\n",
      "L=3.0\t\t   #Length of the steel tube\n",
      "t1=227.0\t\t#Temperature of the steel tube in m\n",
      "t2=27.0\t \t#Temperature of the room in degree centigrade\n",
      "s=20.52*10**-8\t#Stefan Boltzmann constant in kJ/hr m**2 T**4\n",
      "pi=3.1428\t\t#Constant value of pi\n",
      "\n",
      "#Calculations \n",
      "A=2*pi*D*L\t  #Surface area of the tube in m**2\n",
      "Q=(A)*(s)*((t1+273)**4-(t2+273)**4)\t#Loss of heat by radiation in kJ/hr\n",
      "Q1=Q/3600.0\t #Loss of heat by radiation in kW\n",
      "\n",
      "#Output\n",
      "print'The loss of heat by radiation from steel tube is',round(Q1,3),\"KW\"\n"
     ],
     "language": "python",
     "metadata": {},
     "outputs": [
      {
       "output_type": "stream",
       "stream": "stdout",
       "text": [
        "The loss of heat by radiation from steel tube is 4.093 KW\n"
       ]
      }
     ],
     "prompt_number": 88
    },
    {
     "cell_type": "heading",
     "level": 2,
     "metadata": {},
     "source": [
      "Example 6.10 page no:231"
     ]
    },
    {
     "cell_type": "code",
     "collapsed": false,
     "input": [
      "\n",
      "#Input data\n",
      "T1=7.0\t\t #Inside temperature of refrigerator in degree centigrade \n",
      "T0=28.0\t\t#Temperature in the kitchen in degree centigrade\n",
      "K1=40.0\t\t#Thermal conductivity of mild steel in W/mC\n",
      "x1=0.03\t\t#Thickness of mild sheets in m\n",
      "K3=40.0\t\t#Thermal conductivity of the mild steel in W/mC\n",
      "x3=0.03\t\t#Thickness of another side mild sheet in m\n",
      "x2=0.05\t\t#Thickness of glass wool insulated in m\n",
      "hi=10.0\t\t#Heat transfer coefficient in the inner surface of refrigerator in W/m**2 C\n",
      "ho=12.5\t\t#Heat transfer coefficient in the outer surface of refrigerator in W/m**2 C\n",
      "K2=0.04\t\t#Thermal conductivity of glass in W/mC\n",
      "\n",
      "#Calculations\n",
      "Q=(T1-T0)/((1/hi)+(x1/K1)+(x2/K2)+(x3/K3)+(1/ho))\t#Heat transfer per unit area in W/m**2\n",
      "\n",
      "#Output\n",
      "print'The rate of heat removed from the refrigirator ',round(Q,3),\"W/m**2\"\n"
     ],
     "language": "python",
     "metadata": {},
     "outputs": [
      {
       "output_type": "stream",
       "stream": "stdout",
       "text": [
        "The rate of heat removed from the refrigirator  -14.67 W/m**2\n"
       ]
      }
     ],
     "prompt_number": 89
    },
    {
     "cell_type": "heading",
     "level": 2,
     "metadata": {},
     "source": [
      "Example 6.11 page no:232"
     ]
    },
    {
     "cell_type": "code",
     "collapsed": false,
     "input": [
      "\n",
      "#Input data\n",
      "x1=0.2\t \t#Thickness of the fire brick\n",
      "x2=0.2\t \t#Thickness of the common brick\n",
      "Ti=1400.0  \t#Temperature of hot gases in the inner surface of the brick in degree centigrade\n",
      "To=50.0\t\t#Temperature of gases in the outer surface of the brick in degree centigrade\n",
      "h1=16.5\t\t#Convection heat transfer coefficient on gas side in W/mC\n",
      "h2=17.5\t\t#radiation heat transfer coefficient on gas side in W/mC\n",
      "h3=12.5\t\t#Convection heat transfer coefficient on outer side in W/mC\n",
      "h4=6.5 \t\t#Radiation heat transfer coeeficient on outer side in W/mC\n",
      "K1=4.0 \t\t#Thermal conductivity of fire brick in W/mC\n",
      "K2=0.65\t\t#Thermal conductivity of common brick in W/mC\n",
      "\n",
      "#Calculations \n",
      "hi=h1+h2\t\t#Total heat transfer coefficient in inner \n",
      "ho=h3+h4\t\t#Total heat transfer coefficient in outer \n",
      "Q=(Ti-To)/((1/hi)+(x1/K1)+(x2/K2)+(1/ho))\t#Heat flow through the furnace composite wall per unit area in W/m**2\n",
      "Q1=Q/1000\n",
      "T1=Ti-(Q/hi)\t#Temperature at the inside of the fire brick \n",
      "T2=T1-(Q*(x1/K1))#Maximum temperature to which common brick is subjected in degree centigrade\n",
      "\n",
      "#Output\n",
      "print'(a)Heat loss per m**2 area of the furnace wall is',round(Q)/1000,\"kW/m**2\" \n",
      "print'(b)Maximum temperature to which common brick is subjec',round(T1,3),\"C\" \n",
      "print'(c)similarly on other side is',round(T2,3),\"C\"\n"
     ],
     "language": "python",
     "metadata": {},
     "outputs": [
      {
       "output_type": "stream",
       "stream": "stdout",
       "text": [
        "(a)Heat loss per m**2 area of the furnace wall is 3.07 kW/m**2\n",
        "(b)Maximum temperature to which common brick is subjec 1309.705 C\n",
        "(c)similarly on other side is 1156.204 C\n"
       ]
      }
     ],
     "prompt_number": 90
    },
    {
     "cell_type": "heading",
     "level": 2,
     "metadata": {},
     "source": [
      "Example 6.12 page no:234"
     ]
    },
    {
     "cell_type": "code",
     "collapsed": false,
     "input": [
      "\n",
      "\n",
      "#Input data\n",
      "K1=0.93\t\t#Thermal conductivity of fire clay in W/mC\n",
      "K2=0.13\t\t#Thermal conductivity of diatomite brick in W/mC\n",
      "K3=0.7\t\t#Thermal conductivity of red brick in W/mC\n",
      "x1=0.12\t\t#Thickness of fire clay in m\n",
      "x2=0.05\t\t#Thickness of diatomite in m\n",
      "x3=0.25\t\t#Thickness of brick in m\n",
      "T=1\t\t#Assume the difference between temperature in degree centigrade\n",
      "\n",
      "#Calculations\n",
      "Q=(T)/((x1/K1)+(x2/K2)+(x3/K3))\t#The heat flow per unit area in W/m**2\n",
      "X3=K3*((T/Q)-(x1/K1))\t\t#Thickness of the red brick layer in m\n",
      "X=X3*100\t\t\t#Thickness of the red brick layer in cm\n",
      "\n",
      "#Output\n",
      "print'The thickness of the red brick layer is',round(X,3),\"cm\"\n"
     ],
     "language": "python",
     "metadata": {},
     "outputs": [
      {
       "output_type": "stream",
       "stream": "stdout",
       "text": [
        "The thickness of the red brick layer is 51.923 cm\n"
       ]
      }
     ],
     "prompt_number": 91
    },
    {
     "cell_type": "heading",
     "level": 2,
     "metadata": {},
     "source": [
      "Example 6.13 page no:235"
     ]
    },
    {
     "cell_type": "code",
     "collapsed": false,
     "input": [
      "\n",
      "\n",
      "#Input data\n",
      "R1=0.06\t\t#Thickness of material layer in m\n",
      "R2=0.12\t\t#Thickness of the two insulating materials in m\n",
      "R3=0.16\t\t#Thickness of material layers with pipe in m\n",
      "K1=0.24\t\t#Thermal conductivity of one layer in W/mC\n",
      "K2=0.4\t\t #Thermal conductivity of another layer in W/mC\n",
      "L=60.0\t\t #Length of the pipe in m\n",
      "hi=60.0\t\t#Heat transfer coefficient inside in W/m**2C\n",
      "ho=12.0\t\t#Heat transfer coefficient outside in W/m**2C\n",
      "ti=65.0\t\t#Temperature of hot air flowing in pipe in degree centigrade\n",
      "to=20.0\t\t#Atmospheric temperature in degree centigrade\n",
      "pi=3.1428\t  #Constant value of pi\n",
      "\n",
      "#Calculations\n",
      "Q=(ti-to)*(2*pi*L)/((1/(hi*R1))+(math.log(R2/R1)/(K1))+(math.log(R3/R2)/(K2))+(1/(ho*R3)))\t#Rate of heat loss in W\n",
      "Q1=Q/1000\t#Rate of heat loss in kW\n",
      "\n",
      "#Output\n",
      "print'The rate of heat loss is',round(Q1,4),\"kW\"\n"
     ],
     "language": "python",
     "metadata": {},
     "outputs": [
      {
       "output_type": "stream",
       "stream": "stdout",
       "text": [
        "The rate of heat loss is 3.8519 kW\n"
       ]
      }
     ],
     "prompt_number": 92
    },
    {
     "cell_type": "heading",
     "level": 2,
     "metadata": {},
     "source": [
      "Example 6.14 page no:237"
     ]
    },
    {
     "cell_type": "code",
     "collapsed": false,
     "input": [
      "\n",
      "#Input data\n",
      "R1=8.0\t\t  #Inner radius of the pipe in cm\n",
      "R2=8.5\t\t  #Outter radius of the pipe in cm\n",
      "x1=3.0\t\t  #Thickness of first layer in cm\n",
      "x2=5.0\t\t  #Thickness of second layer in cm\n",
      "T1=300.0\t\t#Inner surface temperature of the steam pipe in degree centigrade\n",
      "pi=3.1428\t   #Constant value of pi \n",
      "T4=50.0\t\t #Temperature at outer surface of insulation in degree centigrade\n",
      "L=1.0\t\t   #Length of the pipe in m\n",
      "K1=50.0\t \t#Thermal conductivity of pipe in W/mC\n",
      "K2=0.15\t \t#Thermal conductivity of first layer in W/mC\n",
      "K3=0.08\t \t#Thermal conductivity of second layer in W/mC\n",
      "h=2751.0\t\t#Enthalpy of dry and saturated steam at 300 degree centigrade in kJ/kg\n",
      "q=40.0\t  \t#Quantity of steam flow in gm/hr\n",
      "hf=1345.0\t\t#Enthalpy of fluid at 300 degree centigrade in kJ/kg\n",
      "hfg=1406.0\t\t#enthalpy at 300 degree centigrade in kJ/kg\n",
      "\n",
      "#Calculations\n",
      "R3=R2+x1\t#Radius of pipe with first layer\n",
      "R4=R3+x2\t#Radius of pipe with two layers\n",
      "Q=(2*pi*L*(T1-T4))/((math.log(R2/R1)/(K1))+(math.log(R3/R2)/(K2))+(math.log(R4/R3)/(K3)))\n",
      "Q1=Q/1000\t#Quantity of heat loss per meter length of pipe in kW\n",
      "Q2=Q1*3600\t#Quantity of heat loss per meter length of pipe in kJ/hr\n",
      "hg=((h)-(Q2/q))\t#Enthalpy of steam in kJ/kg\n",
      "x=(hg-hf)/(hfg)\t#Dryness fraction of steam\n",
      "\n",
      "#Output\n",
      "print'(a)The quantity of heat lost per meter length of steam pipe is',round(Q,2),\"W/m or\",round(Q*3600/1000),\"kJ/hr\"\n",
      "print'(b)The quantity of steam coming out of one meter length pipe is',round(x,4),\"gm/h\"\n"
     ],
     "language": "python",
     "metadata": {},
     "outputs": [
      {
       "output_type": "stream",
       "stream": "stdout",
       "text": [
        "(a)The quantity of heat lost per meter length of steam pipe is 240.68 W/m or 866.0 kJ/hr\n",
        "(b)The quantity of steam coming out of one meter length pipe is 0.9846 gm/h\n"
       ]
      }
     ],
     "prompt_number": 93
    },
    {
     "cell_type": "heading",
     "level": 2,
     "metadata": {},
     "source": [
      "Example 6.15 page no:238"
     ]
    },
    {
     "cell_type": "code",
     "collapsed": false,
     "input": [
      "\n",
      "\n",
      "#Input data\n",
      "x=0.3\t\t#Thickness of brick wall in m\n",
      "ti=24.0\t\t#Inside surface temperature of wall in degree centigrade\n",
      "to=-6.0\t\t#Outside surface temperature of wall in degree centigrade\n",
      "h=2.75\t\t#Height of the wall in m\n",
      "L=6.1\t\t#Length of the wall in m\n",
      "K=2.6\t\t#Thermal conductivity of brick material in kJ/m hr C\n",
      "\n",
      "#Calculations\n",
      "T=ti-to\t\t#Temperature difference across the wall in degree centigrade\n",
      "A=h*L\t\t#Area of the wall in m**2\n",
      "Q=(K*A*T)/(x)\t#Heat transfer through conduction by the wall per hour in kJ/hr\n",
      "R=T/Q\t\t#Resistance of the wall in hr C/kJ\n",
      "C=1.0/R\t\t#Conductance of the wall in kJ/hr C\n",
      "\n",
      "#Output\n",
      "print'(a)The heat transfer by conduction through the wall is',round(Q),\"kJ/hr \"\n",
      "print'(b)The resistance of the wall is ',round(R,5),\"Chr/Kj \"      \n",
      "print'  The conductance of the wall is',round(C,1), \"kJ/hr C \"\n"
     ],
     "language": "python",
     "metadata": {},
     "outputs": [
      {
       "output_type": "stream",
       "stream": "stdout",
       "text": [
        "(a)The heat transfer by conduction through the wall is 4362.0 kJ/hr \n",
        "(b)The resistance of the wall is  0.00688 Chr/Kj \n",
        "  The conductance of the wall is 145.4 kJ/hr C \n"
       ]
      }
     ],
     "prompt_number": 94
    },
    {
     "cell_type": "heading",
     "level": 2,
     "metadata": {},
     "source": [
      "Example 6.16 page no:240"
     ]
    },
    {
     "cell_type": "code",
     "collapsed": false,
     "input": [
      "\n",
      "\n",
      "#Input data\n",
      "x1=0.3     \t#Thickness of refractory bricks in m\n",
      "K1=5.66\t\t#Thermal conductivity of refractory bricks in kJ/hr mC\n",
      "t1=1650.0\t\t#Inner surface temperature of the wall in degree centigrade\n",
      "t2=320.0\t \t#Outside surface temperature of the wall in degree centigrade\n",
      "x2=0.3\t \t#Thickness of insulating brick in m\n",
      "K2=1.26\t\t#Thermal conductivity of insulating brick in kJ/hr mC\n",
      "A=1.0\t  \t#unit surface area in m**2\n",
      "t3=27.0\t\t#Outside surface temperature of the brick in degree centigrade\n",
      "\n",
      "#Calculations \n",
      "T1=t1-t2\t\t#Temperature difference in degree centigrade\n",
      "Q1=(K1*A*T1)/(x1)\t#Heat loss without insulation in kJ/hr/m**2\n",
      "R1=(K1*A)/(x1)\t#Heat loss for the change in temperature for refractory brick wall material in kJ/hrC\n",
      "R2=(K2*A)/(x2)\t#Heat loss for the change in temperature for insulated brick wall material kJ/hrC\n",
      "Q2=(t1-t3)/((1.0/R1)+(1.0/R2))\t#Heat loss with insulation in kJ/hr/m**2\n",
      "Q3=Q1-Q2\t\t#Reduction in heat loss through the wall in kJ/hr/m**2\n",
      "\n",
      "#Output\n",
      "print'The reduction in heat loss through the wall is ',round(Q3,1),\"kJ/hr/m**2\"\n",
      "print\"\\nNOTE:Answer wrongly written in book as 1951.4\"\n"
     ],
     "language": "python",
     "metadata": {},
     "outputs": [
      {
       "output_type": "stream",
       "stream": "stdout",
       "text": [
        "The reduction in heat loss through the wall is  19517.2 kJ/hr/m**2\n",
        "\n",
        "NOTE:Answer wrongly written in book as 1951.4\n"
       ]
      }
     ],
     "prompt_number": 95
    },
    {
     "cell_type": "heading",
     "level": 2,
     "metadata": {},
     "source": [
      "Example 6.17 page no:241"
     ]
    },
    {
     "cell_type": "code",
     "collapsed": false,
     "input": [
      "\n",
      "\n",
      "#Input data\n",
      "L=4.6\t \t  #Length of the wall in m\n",
      "b=2.3\t   \t#Breadth of the wall in m\n",
      "x1=0.025\t\t#Thickness of the wood in m\n",
      "x2=0.075\t\t#Thickness of the cork slabbing in m\n",
      "x3=0.115\t\t#Thickness of the brick in m\n",
      "t1=18.0\t\t #Exterior temperature of the wall in degree centigrade\n",
      "t4=-20.0\t\t#Interior temperature of the wall in degree centigrade\n",
      "K1=7.5 \t\t #Thermal conductivity of the wood in kJ/hr mC\n",
      "K2=1.9 \t\t #Thermal conductivity of the wood in kJ/hr.mC\n",
      "K3=41.0\t\t #Thermal conductivity of the brick in kJ/hr mC\n",
      "\n",
      "#Calculations\n",
      "A=L*b\t\t#Area of the wall in m**2\n",
      "R1=(K1*A)/(x1)\t#Heat loss for the change in temperature for insulated wood material in kJ/hrC\n",
      "R2=(K2*A)/(x2)\t#Heat loss for the change in temperature for cork material in kJ/hrC\n",
      "R3=(K3*A)/(x3)\t#Heat loss for the change in temperature for brick in kJ/hrC\n",
      "Q=(t1-t4)/((1.0/R1)+(1.0/R2)+(1.0/R3))\t#Heat loss with insulation in kJ/hr\n",
      "Q1=Q*24.0\t\t#Heat loss with insulation in kJ/24hr\n",
      "t2=t1-(Q/R1)\t#Interface temperature t2 in degree centigrade \n",
      "t3=t2-(Q/R2)\t#Interface temperature t3 in degree centigrade\n",
      "\n",
      "#Output \n",
      "print'(a)The leakage through the wall per 24 hours is',round(Q,2),\"kJ/hr=\",round(Q,2)*24 \n",
      "print'(b)Temperature at the interface is',round(t2,3),\"C\"   \n",
      "print'(c)Temperature at interface ',round(t3,3),\"C\"\n"
     ],
     "language": "python",
     "metadata": {},
     "outputs": [
      {
       "output_type": "stream",
       "stream": "stdout",
       "text": [
        "(a)The leakage through the wall per 24 hours is 8814.37 kJ/hr= 211544.88\n",
        "(b)Temperature at the interface is 15.223 C\n",
        "(c)Temperature at interface  -17.663 C\n"
       ]
      }
     ],
     "prompt_number": 96
    },
    {
     "cell_type": "heading",
     "level": 2,
     "metadata": {},
     "source": [
      "Example 6.18 page no:243"
     ]
    },
    {
     "cell_type": "code",
     "collapsed": false,
     "input": [
      "\n",
      "\n",
      "#Input data\n",
      "L=0.3\t\t#Thickness of the wall in m\n",
      "ti=320\t\t#Inner surface temperature in degree centigrade\n",
      "to=38\t\t#Outer surface temperature in degree centigrade\n",
      "A=1\t\t#Assume unit area in m**2\n",
      "\n",
      "#Calculations\n",
      "Q=(A/L)*((0.01256/2)*(ti**2-to**2)-(4.2/3)*10**-6*(ti**3-to**3))  #Heat loss per sq metre of surface area\n",
      "\n",
      "#Output\n",
      "print'The heat loss per sq metre of surface area for a furnace wall is',round(Q,2),\"kJ/hr/m**2 \"\n"
     ],
     "language": "python",
     "metadata": {},
     "outputs": [
      {
       "output_type": "stream",
       "stream": "stdout",
       "text": [
        "The heat loss per sq metre of surface area for a furnace wall is 1960.68 kJ/hr/m**2 \n"
       ]
      }
     ],
     "prompt_number": 97
    },
    {
     "cell_type": "heading",
     "level": 2,
     "metadata": {},
     "source": [
      "Example 6.19 page no:245"
     ]
    },
    {
     "cell_type": "code",
     "collapsed": false,
     "input": [
      "#Input data\n",
      "d=11.5\t\t#Outer diameter of steam pipe line in cm\n",
      "t1=5.0\t\t#Thickness of first layer in cm\n",
      "K1=0.222\t\t#Thermal conductivity of first layer in kJ/hr mC\n",
      "t2=3.0\t\t#Thickness of second layer in cm\n",
      "pi=3.1428\t\t#Constant value of pi\n",
      "K2=3.14\t\t#Thermal conductivity of second layer in kJ/hr mC\n",
      "T1=235\t\t#Outside surface temperature of steam pipe in degree centigrade\n",
      "T3=38\t\t#Outer surface of lagging in degree centigrade\n",
      "L=1.0\t\t#Length of the pipe in m\n",
      "\n",
      "#Calculations\n",
      "I=math.log((d+(2*t1))/d)\t\t\t#For inner layer calculation\n",
      "O=math.log((d+(2*t1)+(2*t2))/(d+(2*t1)))\t\t#For outer layer calculations\n",
      "R1=(2.0*pi*L*K1)/I\t\t#Heat loss for change in temperature for first insulated material in kJ/hC\n",
      "R2=(2.0*pi*L*K2)/O\t\t#Heat loss for the change in temperature for second insulated material in kJ/hC\n",
      "Q=(T1-T3)/(1.0/R1+1.0/R2)\t#Heat loss per metre length of pipe per hr in kJ/hr\n",
      "T2=T1-(Q/R1)#Temperature between the two layers of insulation in degree centigrade\n",
      "\n",
      "#Output\n",
      "print'(a)The heat loss per metre length of pipe per hr is',round(Q,2),\" kJ/hr\" \n",
      "print'(b)Temperature between the two layers of insulation is',round(T2,2),\"C\"\n"
     ],
     "language": "python",
     "metadata": {},
     "outputs": [
      {
       "output_type": "stream",
       "stream": "stdout",
       "text": [
        "(a)The heat loss per metre length of pipe per hr is 427.45  kJ/hr\n",
        "(b)Temperature between the two layers of insulation is 43.33 C\n"
       ]
      }
     ],
     "prompt_number": 98
    },
    {
     "cell_type": "heading",
     "level": 2,
     "metadata": {},
     "source": [
      "Example 6.20 page no:247"
     ]
    },
    {
     "cell_type": "code",
     "collapsed": false,
     "input": [
      "\n",
      "#Input data\n",
      "t1=24.0    \t#Temperature at the outside surface in degree centigrade \n",
      "t4=-15.0   \t#Temperature at the inner surface in degree centigrade\n",
      "A=1.0  \t\t#Assuming unit area in m**2\n",
      "K1=23.2\t\t#Thermal conductivity of steel in W/mC\n",
      "K2=0.014\t\t#Thermal conductivity of glasswood in W/mC\n",
      "K3=0.052\t\t#Thermal conductivity of plywood in W/mC\n",
      "x1=0.0015\t\t#Thickness of steel sheet at outer surface in m\n",
      "x2=0.02\t\t#Thickness of glasswood in between in m\n",
      "x3=0.01\t\t#Thickness of plywood at a inner surface in m\n",
      "\n",
      "#Calculations\n",
      "R1=(K1*A)/x1\t#Heat loss for the change in temperature for first insulated material\n",
      "R2=(K2*A)/x2\t#Heat loss for the change in temperature for second insulated material\n",
      "R3=(K3*A)/x3\t#Heat loss for the change in temperature for third insulated material\n",
      "Q=(t1-t4)/(1/R1+1/R2+1/R3)\t#The rate of heat flow in W/m**2\n",
      "\n",
      "#Output\n",
      "print'The rate of heat flow is',round(Q,2),\"W/m**2 \"\n"
     ],
     "language": "python",
     "metadata": {},
     "outputs": [
      {
       "output_type": "stream",
       "stream": "stdout",
       "text": [
        "The rate of heat flow is 24.06 W/m**2 \n"
       ]
      }
     ],
     "prompt_number": 21
    }
   ],
   "metadata": {}
  }
 ]
}