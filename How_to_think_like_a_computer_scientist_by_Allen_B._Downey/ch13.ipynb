{
 "metadata": {
  "name": "ch13"
 },
 "nbformat": 3,
 "nbformat_minor": 0,
 "worksheets": [
  {
   "cells": [
    {
     "cell_type": "heading",
     "level": 1,
     "metadata": {},
     "source": "Chapter 13 : Objects of Vectors"
    },
    {
     "cell_type": "heading",
     "level": 3,
     "metadata": {},
     "source": "example 13.1 page no: 137\n"
    },
    {
     "cell_type": "code",
     "collapsed": false,
     "input": "'''\nexample 13.1 page no: 137\n'''\nclass Suit:\n    CLUBS = 0\n    DIAMOND = 1\n    HEARTS = 2\n    SPADES = 3\n\nclass Rank:    \n    ACE=1\n    TWO = 2\n    THREE = 3\n    FOUR =4\n    FIVE = 5\n    SIX = 6\n    SEVEN = 7\n    EIGHT = 8\n    NINE= 9\n    TEN = 10\n    JACK = 11 \n    QUEEN = 12\n    KING =13\n        \nclass Card:\n    def __init__(self,s=None,r=None):\n        if s==None:\n            self.suit = 0\n            self.rank = 0\n        else:\n            self.suit = s; \n            self.rank = r;\n\n    def print_(self):\n        suits = [\"Clubs\",\"Diamonds\",\"Hearts\",\"Spades\"]\n        ranks = [\"Ace\",\"2\",\"3\",\"4\",\"5\",\"6\",\"7\",\"8\",\"9\",\"10\",\"Jack\",\"Queen\",\"King\"]\n        print  ranks[self.rank] , \" of \" , suits[self.suit] \n\ndeck = []\n\nfor suit in range(Suit.SPADES):\n    for rank in range(Rank.KING):\n        a = Card(suit,rank)\n        deck.append(a)\n        \n\nfor i in deck:\n    i.print_()        ",
     "language": "python",
     "metadata": {},
     "outputs": [
      {
       "output_type": "stream",
       "stream": "stdout",
       "text": "Ace  of  Clubs\n2  of  Clubs\n3  of  Clubs\n4  of  Clubs\n5  of  Clubs\n6  of  Clubs\n7  of  Clubs\n8  of  Clubs\n9  of  Clubs\n10  of  Clubs\nJack  of  Clubs\nQueen  of  Clubs\nKing  of  Clubs\nAce  of  Diamonds\n2  of  Diamonds\n3  of  Diamonds\n4  of  Diamonds\n5  of  Diamonds\n6  of  Diamonds\n7  of  Diamonds\n8  of  Diamonds\n9  of  Diamonds\n10  of  Diamonds\nJack  of  Diamonds\nQueen  of  Diamonds\nKing  of  Diamonds\nAce  of  Hearts\n2  of  Hearts\n3  of  Hearts\n4  of  Hearts\n5  of  Hearts\n6  of  Hearts\n7  of  Hearts\n8  of  Hearts\n9  of  Hearts\n10  of  Hearts\nJack  of  Hearts\nQueen  of  Hearts\nKing  of  Hearts\n"
      }
     ],
     "prompt_number": 1
    },
    {
     "cell_type": "heading",
     "level": 3,
     "metadata": {},
     "source": "example 13.2 page no : 140\n"
    },
    {
     "cell_type": "code",
     "collapsed": false,
     "input": "'''\nexample 13.2 page no : 140\n'''\nclass Suit:\n    CLUBS = 0\n    DIAMOND = 1\n    HEARTS = 2\n    SPADES = 3\n\nclass Rank:    \n    ACE=1\n    TWO = 2\n    THREE = 3\n    FOUR =4\n    FIVE = 5\n    SIX = 6\n    SEVEN = 7\n    EIGHT = 8\n    NINE= 9\n    TEN = 10\n    JACK = 11 \n    QUEEN = 12\n    KING =13\n\nclass Card:\n    def __init__(self,s=None,r=None):\n        if s==None:\n            self.suit = 0\n            self.rank = 0\n        else:\n            self.suit = s; \n            self.rank = r;\n\n    def print_(self):\n        suits = [\"Clubs\",\"Diamonds\",\"Hearts\",\"Spades\"]\n        ranks = [\"Ace\",\"2\",\"3\",\"4\",\"5\",\"6\",\"7\",\"8\",\"9\",\"10\",\"Jack\",\"Queen\",\"King\"]\n        print  ranks[self.rank] , \" of \" , suits[self.suit] \n\nclass Deck:\n    def __init__(self,n=None):\n        self.cards = []\n        if n ==None:\n            size = 52\n        else:\n            size = n\n                                 \n        for suit in range(Suit.SPADES):\n            for rank in range(Rank.KING):\n                a = Card(suit,rank)\n                self.cards.append(a)\n\n    def print_(self):\n        for i in self.cards:\n            i.print_()\n\nd = Deck(52)\nd.print_()\n",
     "language": "python",
     "metadata": {},
     "outputs": [
      {
       "output_type": "stream",
       "stream": "stdout",
       "text": "Ace  of  Clubs\n2  of  Clubs\n3  of  Clubs\n4  of  Clubs\n5  of  Clubs\n6  of  Clubs\n7  of  Clubs\n8  of  Clubs\n9  of  Clubs\n10  of  Clubs\nJack  of  Clubs\nQueen  of  Clubs\nKing  of  Clubs\nAce  of  Diamonds\n2  of  Diamonds\n3  of  Diamonds\n4  of  Diamonds\n5  of  Diamonds\n6  of  Diamonds\n7  of  Diamonds\n8  of  Diamonds\n9  of  Diamonds\n10  of  Diamonds\nJack  of  Diamonds\nQueen  of  Diamonds\nKing  of  Diamonds\nAce  of  Hearts\n2  of  Hearts\n3  of  Hearts\n4  of  Hearts\n5  of  Hearts\n6  of  Hearts\n7  of  Hearts\n8  of  Hearts\n9  of  Hearts\n10  of  Hearts\nJack  of  Hearts\nQueen  of  Hearts\nKing  of  Hearts\n"
      }
     ],
     "prompt_number": 2
    },
    {
     "cell_type": "heading",
     "level": 3,
     "metadata": {},
     "source": "example 13.3 page no : 142\n"
    },
    {
     "cell_type": "code",
     "collapsed": false,
     "input": "'''\nexample 13.3 page no : 142\n'''\n\nclass Card:\n    def __init__(self,s=None,r=None):\n        if s==None:\n            self.suit = 0\n            self.rank = 0\n        else:\n            self.suit = s; \n            self.rank = r;\n\n    def print_(self):\n        suits = [\"Clubs\",\"Diamonds\",\"Hearts\",\"Spades\"]\n        ranks = [\"Ace\",\"2\",\"3\",\"4\",\"5\",\"6\",\"7\",\"8\",\"9\",\"10\",\"Jack\",\"Queen\",\"King\"]\n        print  ranks[self.rank] , \" of \" , suits[self.suit] \n\n    def equals(self,c2):\n        return (self.rank == c2.rank and self.suit == c2.suit);\n        \n    def find(self,deck):\n        for i in range(len(deck.cards)):\n            if self.equals(deck.cards[i]):\n                return i\n        return -1;\n\nclass Deck:\n    def __init__(self,n=None):\n        self.cards = []\n        if n ==None:\n            size = 52\n        else:\n            size = n\n                                 \n        for suit in range(4):\n            for rank in range(13):\n                a = Card(suit,rank)\n                self.cards.append(a)\n\n    def print_(self):\n        for i in self.cards:\n            i.print_()\n\nd = Deck()\na = Card(1,11)\nprint a.find(d)",
     "language": "python",
     "metadata": {},
     "outputs": [
      {
       "output_type": "stream",
       "stream": "stdout",
       "text": "24\n"
      }
     ],
     "prompt_number": 3
    },
    {
     "cell_type": "heading",
     "level": 3,
     "metadata": {},
     "source": "example 13.4 page no :144\n"
    },
    {
     "cell_type": "code",
     "collapsed": false,
     "input": "'''\nexample 13.4 page no :144\n'''\n\nclass Card:\n    def __init__(self,s=None,r=None):\n        if s==None:\n            self.suit = 0\n            self.rank = 0\n        else:\n            self.suit = s; \n            self.rank = r;\n\n    def print_(self):\n        suits = [\"Clubs\",\"Diamonds\",\"Hearts\",\"Spades\"]\n        ranks = [\"Ace\",\"2\",\"3\",\"4\",\"5\",\"6\",\"7\",\"8\",\"9\",\"10\",\"Jack\",\"Queen\",\"King\"]\n        print  ranks[self.rank] , \" of \" , suits[self.suit] \n\n    def equals(self,c2):\n        return (self.rank == c2.rank and self.suit == c2.suit);\n        \n    def find(self,deck):\n        for i in range(len(deck.cards)):\n            if self.equals(deck.cards[i]):\n                return i\n        return -1;\n\nclass Deck:\n    def __init__(self,n=None):\n        self.cards = []\n        if n ==None:\n            size = 52\n        else:\n            size = n\n            return\n                                 \n        for suit in range(4):\n            for rank in range(13):\n                a = Card(suit,rank)\n                self.cards.append(a)\n\n    def print_(self):\n        for i in self.cards:\n            i.print_()\n            \n    def subdeck(self,low,high):\n        sub = Deck(high-low+1)\n        for i in range(len(sub.cards)):\n            sub.cards.append(self.cards[low+i])\n        return sub;\n\ndeck = Deck()\nhand1 = deck.subdeck (0, 4);\nhand2 = deck.subdeck (5, 9);\npack = deck.subdeck (10, 51);\n\n",
     "language": "python",
     "metadata": {},
     "outputs": [],
     "prompt_number": 4
    },
    {
     "cell_type": "heading",
     "level": 3,
     "metadata": {},
     "source": "example 13.5 page no : 146\n"
    },
    {
     "cell_type": "code",
     "collapsed": false,
     "input": "'''\nexample 13.5 page no : 146\n'''\nclass Card:\n    def __init__(self,s=None,r=None):\n        if s==None:\n            self.suit = 0\n            self.rank = 0\n        else:\n            self.suit = s; \n            self.rank = r;\n\n    def print_(self):\n        suits = [\"Clubs\",\"Diamonds\",\"Hearts\",\"Spades\"]\n        ranks = [\"Ace\",\"2\",\"3\",\"4\",\"5\",\"6\",\"7\",\"8\",\"9\",\"10\",\"Jack\",\"Queen\",\"King\"]\n        print  ranks[self.rank] , \" of \" , suits[self.suit] \n\n    def equals(self,c2):\n        return (self.rank == c2.rank and self.suit == c2.suit);\n        \n    def find(self,deck):\n        for i in range(len(deck.cards)):\n            if self.equals(deck.cards[i]):\n                return i\n        return -1;\n\nclass Deck:\n    def __init__(self,n=None):\n        self.cards = []\n        if n ==None:\n            size = 52\n        else:\n            size = n\n            return\n                                 \n        for suit in range(4):\n            for rank in range(13):\n                a = Card(suit,rank)\n                self.cards.append(a)\n\n    def print_(self):\n        for i in self.cards:\n            i.print_()\n            \n    def merge(self,d2):\n        # create a new deck big enough for all the cards\n        result = Deck (len(d1.cards)+ len(d2.cards));\n        # use the index i to keep track of where we are in\n        # the first deck, and the index j for the second deck\n        i = 0;\n        j = 0;\n        # the index k traverses the result deck\n        return result;",
     "language": "python",
     "metadata": {},
     "outputs": [],
     "prompt_number": 5
    },
    {
     "cell_type": "code",
     "collapsed": false,
     "input": "",
     "language": "python",
     "metadata": {},
     "outputs": []
    }
   ],
   "metadata": {}
  }
 ]
}