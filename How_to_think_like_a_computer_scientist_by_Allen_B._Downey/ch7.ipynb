{
 "metadata": {
  "name": "ch7"
 },
 "nbformat": 3,
 "nbformat_minor": 0,
 "worksheets": [
  {
   "cells": [
    {
     "cell_type": "heading",
     "level": 1,
     "metadata": {},
     "source": "Chapter 7 : Strings and things"
    },
    {
     "cell_type": "heading",
     "level": 3,
     "metadata": {},
     "source": "example 7.1 page no : 69\n"
    },
    {
     "cell_type": "code",
     "collapsed": false,
     "input": "'''\nexample 7.1 page no : 69\n'''\n\nfruit = \"banana\"\nindex = 0\nwhile(index < len(fruit)):\n    letter = fruit[index]\n    print letter\n    index = index + 1",
     "language": "python",
     "metadata": {},
     "outputs": [
      {
       "output_type": "stream",
       "stream": "stdout",
       "text": "b\na\nn\na\nn\na\n"
      }
     ],
     "prompt_number": 1
    },
    {
     "cell_type": "heading",
     "level": 3,
     "metadata": {},
     "source": "example 7.2 page no :71\n"
    },
    {
     "cell_type": "code",
     "collapsed": false,
     "input": "'''\nexample 7.2 page no :71\n'''\n\ndef find(s,c,i):\n    while (i<len(s)):\n        if (s[i] == c): return i\n        i = i + 1\n    return -1;\n    \nprint find(\"banana\",'b',0)\nprint find(\"banana\",'b',3)",
     "language": "python",
     "metadata": {},
     "outputs": [
      {
       "output_type": "stream",
       "stream": "stdout",
       "text": "0\n-1\n"
      }
     ],
     "prompt_number": 2
    },
    {
     "cell_type": "heading",
     "level": 3,
     "metadata": {},
     "source": "example 7.3 page no : 71\n"
    },
    {
     "cell_type": "code",
     "collapsed": false,
     "input": "'''\nexample 7.3 page no : 71\n'''\n\nfruit = \"banana\"\nlength = len(fruit)\ncount = 0\nindex = 0\nwhile (index < length):\n    if (fruit[index] == 'a'):\n        count = count + 1\n    index = index + 1\nprint count ",
     "language": "python",
     "metadata": {},
     "outputs": [
      {
       "output_type": "stream",
       "stream": "stdout",
       "text": "3\n"
      }
     ],
     "prompt_number": 3
    },
    {
     "cell_type": "heading",
     "level": 3,
     "metadata": {},
     "source": "example 7.4 page no : 72\n"
    },
    {
     "cell_type": "code",
     "collapsed": false,
     "input": "'''\nexample 7.4 page no : 72\n'''\n\nfruit = \"banana\";\nbakedGood = \" nut bread\";\ndessert = fruit + bakedGood;\nprint dessert",
     "language": "python",
     "metadata": {},
     "outputs": [
      {
       "output_type": "stream",
       "stream": "stdout",
       "text": "banana nut bread\n"
      }
     ],
     "prompt_number": 4
    },
    {
     "cell_type": "heading",
     "level": 3,
     "metadata": {},
     "source": "example 7.5 page no :73\n"
    },
    {
     "cell_type": "code",
     "collapsed": false,
     "input": "'''\nexample 7.5 page no :73\n'''\n\nsuffix = \"ack\"\nletter = 'J'\nwhile (letter <= 'Q'):\n    print letter + suffix \n    c = ord(letter) + 1\n    letter = chr(c)",
     "language": "python",
     "metadata": {},
     "outputs": [
      {
       "output_type": "stream",
       "stream": "stdout",
       "text": "Jack\nKack\nLack\nMack\nNack\nOack\nPack\nQack\n"
      }
     ],
     "prompt_number": 5
    },
    {
     "cell_type": "heading",
     "level": 3,
     "metadata": {},
     "source": "example 7.6 page no :74\n"
    },
    {
     "cell_type": "code",
     "collapsed": false,
     "input": "'''\nexample 7.6 page no :74\n'''\nword = \"Zebra\"\n\nif (word < \"banana\"):\n    print \"Your word, \" , word , \", comes before banana.\"\nelif (word > \"banana\"):\n    print \"Your word, \" , word , \", comes after banana.\" \nelse:\n    print \"Yes, we have no bananas!\" ",
     "language": "python",
     "metadata": {},
     "outputs": [
      {
       "output_type": "stream",
       "stream": "stdout",
       "text": "Your word,  Zebra , comes before banana.\n"
      }
     ],
     "prompt_number": 1
    },
    {
     "cell_type": "heading",
     "level": 3,
     "metadata": {},
     "source": "Example 7.7 page no : 75"
    },
    {
     "cell_type": "code",
     "collapsed": false,
     "input": "a = 'a'\nprint a.upper()",
     "language": "python",
     "metadata": {},
     "outputs": [
      {
       "output_type": "stream",
       "stream": "stdout",
       "text": "A\n"
      }
     ],
     "prompt_number": 2
    },
    {
     "cell_type": "code",
     "collapsed": false,
     "input": "",
     "language": "python",
     "metadata": {},
     "outputs": []
    }
   ],
   "metadata": {}
  }
 ]
}