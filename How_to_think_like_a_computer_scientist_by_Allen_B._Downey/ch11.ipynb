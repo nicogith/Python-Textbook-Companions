{
 "metadata": {
  "name": "ch11"
 },
 "nbformat": 3,
 "nbformat_minor": 0,
 "worksheets": [
  {
   "cells": [
    {
     "cell_type": "heading",
     "level": 1,
     "metadata": {},
     "source": "CHAPTER 11 : MEMBER FUNCTIONS"
    },
    {
     "cell_type": "heading",
     "level": 3,
     "metadata": {},
     "source": "example 11.1 page no :112\n"
    },
    {
     "cell_type": "code",
     "collapsed": false,
     "input": "'''\nexample 11.1 page no :112\n'''\nclass Time:\n    def __init__(self,h,m,s):\n        self.hour = h\n        self.minute = m\n        self.second = s\n\n    def printTime(self):\n        print self.hour , \":\" , self.minute , \":\" , self.second\n        print \"Time is \" , self.hour , \" hour \" , self.minute , \" minutes \" , self.second \n\n\nc = Time( 9, 14, 30.0 )\nc.printTime ()",
     "language": "python",
     "metadata": {},
     "outputs": [
      {
       "output_type": "stream",
       "stream": "stdout",
       "text": "9 : 14 : 30.0\nTime is  9  hour  14  minutes  30.0\n"
      }
     ],
     "prompt_number": 1
    },
    {
     "cell_type": "heading",
     "level": 3,
     "metadata": {},
     "source": "example 11.2 page  no :114\n"
    },
    {
     "cell_type": "code",
     "collapsed": false,
     "input": "'''\nexample 11.2 page  no :114\n'''\nclass Time:\n    def __init__(self,h,m,s):\n        self.hour = h\n        self.minute = m\n        self.second = s\n\n    def printTime(self):\n        print self.hour , \":\" , self.minute , \":\" , self.second\n        print \"Time is \" , self.hour , \" hour \" , self.minute , \" minutes \" , self.second \n\n    def increment (self,secs):\n        self.second += secs\n        while (self.second >= 60.0):\n            self.second -= 60.0;\n            self.minute += 1;\n\n        while (self.minute >= 60):\n            self.minute -= 60.0;\n            self.hour += 1;\n\nc = Time (9, 14, 30.0)\nc.increment (500.0);\nc.printTime ();",
     "language": "python",
     "metadata": {},
     "outputs": [
      {
       "output_type": "stream",
       "stream": "stdout",
       "text": "9 : 22 : 50.0\nTime is  9  hour  22  minutes  50.0\n"
      }
     ],
     "prompt_number": 2
    },
    {
     "cell_type": "heading",
     "level": 3,
     "metadata": {},
     "source": "example 11.3 page no :115\n"
    },
    {
     "cell_type": "code",
     "collapsed": false,
     "input": "'''\nexample 11.3 page no :115\n'''\nclass Time:\n    def __init__(self,h,m,s):\n        self.hour = h\n        self.minute = m\n        self.second = s\n\n    def printTime(self):\n        print self.hour , \":\" , self.minute , \":\" , self.second\n        print \"Time is \" , self.hour , \" hour \" , self.minute , \" minutes \" , self.second \n\n    def convertToSeconds(self):\n        minutes = self.hour * 60 + self.minute;\n        seconds = minutes * 60 + self.second;\n        return seconds;\n\n\nc = Time (9, 14, 30.0)\nprint c.convertToSeconds()",
     "language": "python",
     "metadata": {},
     "outputs": [
      {
       "output_type": "stream",
       "stream": "stdout",
       "text": "33270.0\n"
      }
     ],
     "prompt_number": 3
    },
    {
     "cell_type": "heading",
     "level": 3,
     "metadata": {},
     "source": "example 11.4 page no :115\n"
    },
    {
     "cell_type": "code",
     "collapsed": false,
     "input": "'''\nexample 11.4 page no :115\n'''\n\n\nclass Time:\n    def __init__(self,h,m,s):\n        self.hour = h\n        self.minute = m\n        self.second = s\n\n    def printTime(self):\n        print self.hour , \":\" , self.minute , \":\" , self.second\n        print \"Time is \" , self.hour , \" hour \" , self.minute , \" minutes \" , self.second \n\n    def convertToSeconds(self):\n        minutes = self.hour * 60 + self.minute;\n        seconds = minutes * 60 + self.second;\n        return seconds;\n\n    def after (self,time2):\n        if (self.hour > time2.hour):\n            return True;\n        if (self.hour < time2.hour): \n            return False;\n        if (self.minute > time2.minute): \n            return True;\n        if (self.minute < time2.minute):\n            return False;\n        if (self.second > time2.second): \n            return True;\n        return False;\n\nt1 = Time( 11, 59, 3.14159 )\nt2 = Time( 12, 42, 3.234 )\n\nif (t2.after(t1)):\n    print \"The bread will be done after it starts.\" ",
     "language": "python",
     "metadata": {},
     "outputs": [
      {
       "output_type": "stream",
       "stream": "stdout",
       "text": "The bread will be done after it starts.\n"
      }
     ],
     "prompt_number": 4
    },
    {
     "cell_type": "heading",
     "level": 3,
     "metadata": {},
     "source": "example 11.5 page no :116\n"
    },
    {
     "cell_type": "code",
     "collapsed": false,
     "input": "'''\nexample 11.5 page no :116\n'''\n\nclass Time:\n    def __init__(self,h,m=None,s=None):\n        if m==None:\n            self.hour = int (secs / 3600.0);\n            secs -= self.hour * 3600.0;\n            self.minute = int (secs / 60.0);  \n            secs -= self.minute * 60.0;\n            self.second = secs;\n        else:\n            self.hour = h\n            self.minute = m\n            self.second = s\n\n    def printTime(self):\n        print self.hour , \":\" , self.minute , \":\" , self.second\n        print \"Time is \" , self.hour , \" hour \" , self.minute , \" minutes \" , self.second \n\nc = Time (9, 14, 30.0)\nc.printTime()",
     "language": "python",
     "metadata": {},
     "outputs": [
      {
       "output_type": "stream",
       "stream": "stdout",
       "text": "9 : 14 : 30.0\nTime is  9  hour  14  minutes  30.0\n"
      }
     ],
     "prompt_number": 5
    },
    {
     "cell_type": "heading",
     "level": 3,
     "metadata": {},
     "source": "example 11.6 page no : 117\n"
    },
    {
     "cell_type": "code",
     "collapsed": false,
     "input": "'''\nexample 11.6 page no : 117\n'''\nclass Time:\n    def __init__(self,h,m,s):\n        self.hour = h\n        self.minute = m\n        self.second = s\n\n    def printTime(self):\n        print self.hour , \":\" , self.minute , \":\" , self.second\n        print \"Time is \" , self.hour , \" hour \" , self.minute , \" minutes \" , self.second \n\nc = Time (9, 14, 30.0)\nc.printTime()",
     "language": "python",
     "metadata": {},
     "outputs": [
      {
       "output_type": "stream",
       "stream": "stdout",
       "text": "9 : 14 : 30.0\nTime is  9  hour  14  minutes  30.0\n"
      }
     ],
     "prompt_number": 6
    },
    {
     "cell_type": "heading",
     "level": 3,
     "metadata": {},
     "source": "example 11.7 page no :119\n"
    },
    {
     "cell_type": "code",
     "collapsed": false,
     "input": "'''\nexample 11.7 page no :119\n'''\nclass Time:\n    def __init__(self,h,m=None,s=None):\n        if m==None:\n            self.hour = int (secs / 3600.0);\n            secs -= self.hour * 3600.0;\n            self.minute = int (secs / 60.0);  \n            secs -= self.minute * 60.0;\n            self.second = secs;\n        else:\n            self.hour = h\n            self.minute = m\n            self.second = s\n\n    def printTime(self):\n        print self.hour , \":\" , self.minute , \":\" , self.second\n        print \"Time is \" , self.hour , \" hour \" , self.minute , \" minutes \" , self.second \n\n    def after (self,time2):\n        if (self.hour > time2.hour):\n            return True;\n        if (self.hour < time2.hour): \n            return False;\n        if (self.minute > time2.minute): \n            return True;\n        if (self.minute < time2.minute):\n            return False;\n        if (self.second > time2.second): \n            return True;\n        return False;\n\n    def convertToSeconds(self):\n        minutes = self.hour * 60 + self.minute;\n        seconds = minutes * 60 + self.second;\n        return seconds;\n\n    def increment (self,secs):\n        self.second += secs\n        while (self.second >= 60.0):\n            self.second -= 60.0;\n            self.minute += 1;\n\n        while (self.minute >= 60):\n            self.minute -= 60.0;\n            self.hour += 1;\n\n    def add(self,t2):\n        a = t2.convertToSeconds()\n        self.increment(a)\n\nc = Time(9, 14, 30.0)\nc.increment (500.0);\nc.printTime();\nb = Time(3, 35, 0.0);\ncurent = c\nc.add(b)\nd = c\nd.printTime()\nif(d.after(curent)):\n    print \"The bread will be done after it starts.\" ",
     "language": "python",
     "metadata": {},
     "outputs": [
      {
       "output_type": "stream",
       "stream": "stdout",
       "text": "9 : 22 : 50.0\nTime is  9  hour  22  minutes  50.0\n12 : 57.0 : 50.0\nTime is  12  hour  57.0  minutes  50.0\n"
      }
     ],
     "prompt_number": 7
    },
    {
     "cell_type": "code",
     "collapsed": false,
     "input": "",
     "language": "python",
     "metadata": {},
     "outputs": []
    }
   ],
   "metadata": {}
  }
 ]
}