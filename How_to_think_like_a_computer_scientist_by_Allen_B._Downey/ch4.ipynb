{
 "metadata": {
  "name": "ch4"
 },
 "nbformat": 3,
 "nbformat_minor": 0,
 "worksheets": [
  {
   "cells": [
    {
     "cell_type": "heading",
     "level": 1,
     "metadata": {},
     "source": "Chapter 4 : Conditionals and recursion"
    },
    {
     "cell_type": "heading",
     "level": 3,
     "metadata": {},
     "source": "example 4.1 page no :34"
    },
    {
     "cell_type": "code",
     "collapsed": false,
     "input": "'''\nexample 4.1 page no :34\n'''\n\ndef printParity (x):\n    if (x%2 == 0):\n        print \"x is even\" \n    else:\n        print \"x is odd\" \n\nprintParity (17)",
     "language": "python",
     "metadata": {},
     "outputs": [
      {
       "output_type": "stream",
       "stream": "stdout",
       "text": "x is odd\n"
      }
     ],
     "prompt_number": 1
    },
    {
     "cell_type": "heading",
     "level": 3,
     "metadata": {},
     "source": "example 4.2 page no :36"
    },
    {
     "cell_type": "code",
     "collapsed": false,
     "input": "'''\nexample 4.2 page no :36\n'''\nimport math\n\ndef printLogarithm (x):\n    if (x <= 0.0):\n        print \"Positive numbers only, please.\" \n        return;\n    result = math.log(x);\n    print \"The log of x is \" , result;\n\nprintLogarithm(-1)\nprintLogarithm(5)",
     "language": "python",
     "metadata": {},
     "outputs": [
      {
       "output_type": "stream",
       "stream": "stdout",
       "text": "Positive numbers only, please.\nThe log of x is  1.60943791243\n"
      }
     ],
     "prompt_number": 2
    },
    {
     "cell_type": "heading",
     "level": 3,
     "metadata": {},
     "source": "example 4.3 page no : 37"
    },
    {
     "cell_type": "code",
     "collapsed": false,
     "input": "'''\nexample 4.3 page no : 37\n'''\n\ndef countdown (n):\n    if (n == 0):\n        print  \"Blastoff!\" \n    else:\n        print n\n        countdown (n-1)\n\ncountdown(5)",
     "language": "python",
     "metadata": {},
     "outputs": [
      {
       "output_type": "stream",
       "stream": "stdout",
       "text": "5\n4\n3\n2\n1\nBlastoff!\n"
      }
     ],
     "prompt_number": 3
    },
    {
     "cell_type": "heading",
     "level": 3,
     "metadata": {},
     "source": "example  4.4\n"
    },
    {
     "cell_type": "code",
     "collapsed": false,
     "input": "'''\nexample  4.4\n'''\nimport math\ndef printLogarithm(x):\n    if (x <= 0.0):\n        print \"Positive numbers only, please.\" << endl;\n        return;\n    result = math.log(x)\n    print \"The log of x is \" , result;\n\ndef countdown (n) :\n    if (n == 0):\n        print \"Blastoff!\"\n    else:\n        print n\n        countdown (n-1);\n\n\ncountdown (3);\nprintLogarithm(10)",
     "language": "python",
     "metadata": {},
     "outputs": [
      {
       "output_type": "stream",
       "stream": "stdout",
       "text": "3\n2\n1\nBlastoff!\nThe log of x is  2.30258509299\n"
      }
     ],
     "prompt_number": 4
    },
    {
     "cell_type": "code",
     "collapsed": false,
     "input": "",
     "language": "python",
     "metadata": {},
     "outputs": []
    }
   ],
   "metadata": {}
  }
 ]
}