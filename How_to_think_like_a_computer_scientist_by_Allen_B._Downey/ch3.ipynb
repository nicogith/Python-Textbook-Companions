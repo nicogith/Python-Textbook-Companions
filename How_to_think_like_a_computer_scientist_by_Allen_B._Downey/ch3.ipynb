{
 "metadata": {
  "name": "ch3"
 },
 "nbformat": 3,
 "nbformat_minor": 0,
 "worksheets": [
  {
   "cells": [
    {
     "cell_type": "heading",
     "level": 1,
     "metadata": {},
     "source": "Chapter 3 : Function"
    },
    {
     "cell_type": "heading",
     "level": 3,
     "metadata": {},
     "source": "example 3.1 page no :25"
    },
    {
     "cell_type": "code",
     "collapsed": false,
     "input": "'''\nexample 3.1 page no :25\n'''\n\ndef newLine ():\n    print ''\n\n\nprint \"First Line.\" \nnewLine ()\nprint \"Second Line.\" ",
     "language": "python",
     "metadata": {},
     "outputs": [
      {
       "output_type": "stream",
       "stream": "stdout",
       "text": "First Line.\n\nSecond Line.\n"
      }
     ],
     "prompt_number": 1
    },
    {
     "cell_type": "heading",
     "level": 3,
     "metadata": {},
     "source": "example 3.2 page no :25"
    },
    {
     "cell_type": "code",
     "collapsed": false,
     "input": "'''\nexample 3.2 page no :25\n'''\ndef newLine ():\n    print ''\n\nprint \"First Line.\" \nnewLine ()\nnewLine ()\nnewLine ()\nprint \"Second Line.\" ",
     "language": "python",
     "metadata": {},
     "outputs": [
      {
       "output_type": "stream",
       "stream": "stdout",
       "text": "First Line.\n\n\n\nSecond Line.\n"
      }
     ],
     "prompt_number": 2
    },
    {
     "cell_type": "heading",
     "level": 3,
     "metadata": {},
     "source": "example 3.3 page no :26"
    },
    {
     "cell_type": "code",
     "collapsed": false,
     "input": "'''\nexample 3.3 page no :26\n'''\n\n\ndef newLine ():\n    print ''\n\n\ndef threeLine ():\n    newLine (); \n    newLine ();\n    newLine ();\n    \nprint \"First Line.\" \nthreeLine()\nprint \"Second Line.\" ",
     "language": "python",
     "metadata": {},
     "outputs": [
      {
       "output_type": "stream",
       "stream": "stdout",
       "text": "First Line.\n\n\n\nSecond Line.\n"
      }
     ],
     "prompt_number": 3
    },
    {
     "cell_type": "heading",
     "level": 3,
     "metadata": {},
     "source": "example 3.4 page no :28"
    },
    {
     "cell_type": "code",
     "collapsed": false,
     "input": "# -*- coding: UTF-8 -*-\n'''\nexample 3.4 page no :28\n'''\n\ndef printTwice (phil):\n    print phil , phil\n\n\nprintTwice ('a');\n\n",
     "language": "python",
     "metadata": {},
     "outputs": [
      {
       "output_type": "stream",
       "stream": "stdout",
       "text": "a a\n"
      }
     ],
     "prompt_number": 4
    },
    {
     "cell_type": "heading",
     "level": 3,
     "metadata": {},
     "source": "example 3.5 page no :28"
    },
    {
     "cell_type": "code",
     "collapsed": false,
     "input": "# -*- coding: UTF-8 -*-\n'''\nexample 3.5 page no :28\n'''\n\n\ndef printTwice (phil):\n    print phil , phil\n\nargument = 'b'  \nprintTwice (argument);",
     "language": "python",
     "metadata": {},
     "outputs": [
      {
       "output_type": "stream",
       "stream": "stdout",
       "text": "b b\n"
      }
     ],
     "prompt_number": 5
    },
    {
     "cell_type": "code",
     "collapsed": false,
     "input": "",
     "language": "python",
     "metadata": {},
     "outputs": []
    }
   ],
   "metadata": {}
  }
 ]
}