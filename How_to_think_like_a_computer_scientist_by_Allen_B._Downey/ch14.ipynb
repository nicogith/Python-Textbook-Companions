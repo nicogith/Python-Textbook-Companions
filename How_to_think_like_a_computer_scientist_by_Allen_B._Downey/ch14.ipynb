{
 "metadata": {
  "name": "ch14"
 },
 "nbformat": 3,
 "nbformat_minor": 0,
 "worksheets": [
  {
   "cells": [
    {
     "cell_type": "heading",
     "level": 1,
     "metadata": {},
     "source": "Chapter 14 : Classes and invariants"
    },
    {
     "cell_type": "heading",
     "level": 3,
     "metadata": {},
     "source": "example 14.1 page no :149\n"
    },
    {
     "cell_type": "code",
     "collapsed": false,
     "input": "'''\nexample 14.1 page no :149\n'''\n\nclass Card:\n    def __init__(self,s=None,r=None):\n        if s==None:\n            self.suit = 0\n            self.rank = 0\n        else:\n            self.suit = s; \n            self.rank = r;\n\n    def getRank (self):\n        return self.rank\n        \n    def getSuit (self):\n        return self.suit\n    \n    def setRank(self,r):\n        self.rank = r        \n\n    def setSuit (self, s):\n        self.suit = s",
     "language": "python",
     "metadata": {},
     "outputs": [],
     "prompt_number": 1
    },
    {
     "cell_type": "heading",
     "level": 3,
     "metadata": {},
     "source": "example 14.2 page no :151\n"
    },
    {
     "cell_type": "code",
     "collapsed": false,
     "input": "'''\nexample 14.2 page no :151\ndefining class \n'''\n\nclass Complex:\n    def __init__(self,r=None,i=None):\n        if r==None:\n            pass\n        else:\n            self.real = r\n            self.imag = i",
     "language": "python",
     "metadata": {},
     "outputs": [],
     "prompt_number": 2
    },
    {
     "cell_type": "heading",
     "level": 3,
     "metadata": {},
     "source": "example 14.3 page no : 152\n"
    },
    {
     "cell_type": "code",
     "collapsed": false,
     "input": "'''\nexample 14.3 page no : 152\n'''\nimport math\nclass Complex:\n    def __init__(self,r=None,i=None):\n        if r==None:\n            self.real = 0\n            self.imag = 0\n            self.polar = False\n            self.cartesian = False\n        else:\n            self.real = r\n            self.imag = i\n            self.cartesian = True\n            self.polar = True\n        self.mag = 0\n        self.theta = 0\n\n    def getReal (self):\n        if (self.cartesian == False):\n            self.calculateCartesian ();\n        return self.real;\n        \n    def getImag(self):\n        return self.imag\n\n    def calculateCartesian (self):\n        self.real = self.mag * math.cos(self.theta);\n        self.imag = self.mag * math.sin (self.theta);   \n        self.cartesian = True;\n\n    def printCartesian (self):\n        print self.getReal() , \" + \" , self.getImag() , \"i\"\n\n    def printPolar(self):\n        print self.mag , \" e^ \" , self.theta , \"i\"\n\n\nc1 = Complex(2.0, 3.0);\nc1.printCartesian();\nc1.printPolar();",
     "language": "python",
     "metadata": {},
     "outputs": [
      {
       "output_type": "stream",
       "stream": "stdout",
       "text": "2.0  +  3.0 i\n0  e^  0 i\n"
      }
     ],
     "prompt_number": 3
    },
    {
     "cell_type": "heading",
     "level": 3,
     "metadata": {},
     "source": "example 14.4 page no : 155\n"
    },
    {
     "cell_type": "code",
     "collapsed": false,
     "input": "'''\nexample 14.4 page no : 155\n'''\nclass Complex:\n    def __init__(self,r=None,i=None):\n        if r==None:\n            self.real = 0\n            self.imag = 0\n            self.polar = False\n            self.cartesian = False\n        else:\n            self.real = r\n            self.imag = i\n            self.cartesian = True\n            self.polar = True\n        self.mag = 0\n        self.theta = 0\n        \n    def getReal (self):\n        if (self.cartesian == False):\n            self.calculateCartesian ();\n        return self.real;\n        \n    def getImag(self):\n        return self.imag\n\n\n    def add(self,b):\n        real = self.getReal() + b.getReal();\n        imag = self.getImag() + b.getImag();\n        s = Complex(real, imag);\n        return s\n\n    def printCartesian (self):\n        print self.getReal() , \" + \" , self.getImag() , \"i\"\n\nc1 = Complex(2.0, 3.0);\nc2 = Complex(3.0, 4.0);\ns = c1.add (c2);\ns.printCartesian();",
     "language": "python",
     "metadata": {},
     "outputs": [
      {
       "output_type": "stream",
       "stream": "stdout",
       "text": "5.0  +  7.0 i\n"
      }
     ],
     "prompt_number": 4
    },
    {
     "cell_type": "heading",
     "level": 3,
     "metadata": {},
     "source": "example 14.5 page no :156\n"
    },
    {
     "cell_type": "code",
     "collapsed": false,
     "input": "'''\nexample 14.5 page no :156\n'''\nimport math\nclass Complex:\n    def __init__(self,r=None,i=None):\n        if r==None:\n            self.real = 0\n            self.imag = 0\n            self.polar = False\n            self.cartesian = False\n        else:\n            self.real = r\n            self.imag = i\n            self.cartesian = True\n            self.polar = True\n        self.mag = 0\n        self.theta = 0\n        \n    def getReal (self):\n        if (self.cartesian == False):\n            self.calculateCartesian ();\n        return self.real;\n        \n    def getImag(self):\n        return self.imag\n\n    def calculateCartesian (self):\n        self.real = self.mag * math.cos(self.theta);\n        self.imag = self.mag * math.sin (self.theta);   \n        self.cartesian = True;\n\n\n    def printCartesian (self):\n        print self.getReal() , \" + \" , self.getImag() , \"i\"\n\n    def mult(self,b):\n        mag = self.mag * b.mag\n        theta = self.theta + b.theta\n        product = Complex()\n        product.setPolar (mag, theta);\n        return product;\n\n    def setPolar(self,m,t):\n        self.mag = m\n        self.theta = t;\n        self.cartesian = False\n        self.polar = True;\n\n",
     "language": "python",
     "metadata": {},
     "outputs": [],
     "prompt_number": 8
    },
    {
     "cell_type": "heading",
     "level": 3,
     "metadata": {},
     "source": "example 14.6 page no :159\n"
    },
    {
     "cell_type": "code",
     "collapsed": false,
     "input": "'''\nexample 14.6 page no :159\ndefining class Complex\n'''\n\nclass Complex:\n    def __init__(self,r=None,i=None):\n        if r==None:\n            self.real = 0\n            self.imag = 0\n            self.polar = False\n            self.cartesian = False\n        else:\n            self.real = r\n            self.imag = i\n            self.cartesian = True\n            self.polar = True\n        self.mag = 0\n        self.theta = 0\n        \n    def getReal (self):\n        if (self.cartesian == False):\n            self.calculateCartesian ();\n        return self.real;\n        \n    def getImag(self):\n        return self.imag\n\n    def printCartesian (self):\n        print self.getReal() , \" + \" , self.getImag() , \"i\"\n\n    def mult(self,b):\n        mag = self.mag * b.mag\n        theta = a.theta + b.theta\n        product = Complex()\n        product.setPolar (mag, theta);\n        return product;\n\n    def setPolar(self,m,t):\n        self.mag = m\n        self.theta = t;\n        self.cartesian = False\n        self.polar = true;\n",
     "language": "python",
     "metadata": {},
     "outputs": [],
     "prompt_number": 9
    },
    {
     "cell_type": "code",
     "collapsed": false,
     "input": "",
     "language": "python",
     "metadata": {},
     "outputs": []
    }
   ],
   "metadata": {}
  }
 ]
}