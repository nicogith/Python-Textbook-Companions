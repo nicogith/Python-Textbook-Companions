{
 "metadata": {
  "name": ""
 },
 "nbformat": 3,
 "nbformat_minor": 0,
 "worksheets": [
  {
   "cells": [
    {
     "cell_type": "heading",
     "level": 2,
     "metadata": {},
     "source": [
      "CHAPTER 7 TRANSISTOR FUNDAMENTALS"
     ]
    },
    {
     "cell_type": "heading",
     "level": 2,
     "metadata": {},
     "source": [
      "Example 7-1, Page 228"
     ]
    },
    {
     "cell_type": "code",
     "collapsed": false,
     "input": [
      "\n",
      "VCC=30                  #collector voltage(V)\n",
      "RC=3                    #Collector resistance (KOhm)\n",
      "\n",
      "ICsat=VCC/RC            #Saturation current(mA)\n",
      "VCEc=VCC                #VCE cutoff voltage(V)\n",
      "\n",
      "print 'Saturation current IC(saturation) = ',ICsat,'mA'\n",
      "print 'Collector emitter cutoff VCE(cutoff) = ',VCEc,'V'"
     ],
     "language": "python",
     "metadata": {},
     "outputs": [
      {
       "output_type": "stream",
       "stream": "stdout",
       "text": [
        "Saturation current IC(saturation) =  10 mA\n",
        "Collector emitter cutoff VCE(cutoff) =  30 V\n"
       ]
      }
     ],
     "prompt_number": 2
    },
    {
     "cell_type": "heading",
     "level": 2,
     "metadata": {},
     "source": [
      "Example 7-2, Page 228"
     ]
    },
    {
     "cell_type": "code",
     "collapsed": false,
     "input": [
      "\n",
      "VCC=9                  #collector voltage(V)\n",
      "RC=3                    #Collector resistance(KOhm)\n",
      "\n",
      "ICsat=VCC/RC            #Saturation current(mA)\n",
      "VCEc=VCC                #VCE cutoff voltage(V)\n",
      "\n",
      "print 'Saturation current IC(saturation) = ',ICsat,'mA'\n",
      "print 'Collector emitter cutoff VCE(cutoff) = ',VCEc,'V'"
     ],
     "language": "python",
     "metadata": {},
     "outputs": [
      {
       "output_type": "stream",
       "stream": "stdout",
       "text": [
        "Saturation current IC(saturation) =  3 mA\n",
        "Collector emitter cutoff VCE(cutoff) =  9 V\n"
       ]
      }
     ],
     "prompt_number": 3
    },
    {
     "cell_type": "heading",
     "level": 2,
     "metadata": {},
     "source": [
      "Example 7-3, Page 229"
     ]
    },
    {
     "cell_type": "code",
     "collapsed": false,
     "input": [
      "\n",
      "VCC=15                  #collector voltage(V)\n",
      "RC=1                    #Collector resistance(KOhm)\n",
      "\n",
      "ICsat=VCC/RC            #Saturation current(mA)\n",
      "VCEc=VCC                #VCE cutoff voltage(V)\n",
      "\n",
      "print 'Saturation current IC(saturation) = ',ICsat,'mA'\n",
      "print 'Collector emitter cutoff VCE(cutoff) = ',VCEc,'V'"
     ],
     "language": "python",
     "metadata": {},
     "outputs": [
      {
       "output_type": "stream",
       "stream": "stdout",
       "text": [
        "Saturation current IC(saturation) =  15 mA\n",
        "Collector emitter cutoff VCE(cutoff) =  15 V\n"
       ]
      }
     ],
     "prompt_number": 4
    },
    {
     "cell_type": "heading",
     "level": 2,
     "metadata": {},
     "source": [
      "Example 7-4, Page 229"
     ]
    },
    {
     "cell_type": "code",
     "collapsed": false,
     "input": [
      "\n",
      "VCC=15                  #collector voltage(V)\n",
      "RC=3                    #Collector resistance(KOhm)\n",
      "\n",
      "ICsat=VCC/RC            #Saturation current(mA)\n",
      "VCEc=VCC                #VCE cutoff voltage(V)\n",
      "\n",
      "print 'Saturation current IC(saturation) = ',ICsat,'mA'\n",
      "print 'Collector emitter cutoff VCE(cutoff) = ',VCEc,'V'"
     ],
     "language": "python",
     "metadata": {},
     "outputs": [
      {
       "output_type": "stream",
       "stream": "stdout",
       "text": [
        "Saturation current IC(saturation) =  5 mA\n",
        "Collector emitter cutoff VCE(cutoff) =  15 V\n"
       ]
      }
     ],
     "prompt_number": 5
    },
    {
     "cell_type": "heading",
     "level": 2,
     "metadata": {},
     "source": [
      "Example 7-5, Page 232"
     ]
    },
    {
     "cell_type": "code",
     "collapsed": false,
     "input": [
      "\n",
      "VCC=15.0                 #collector voltage(V)\n",
      "RC=3                     #collector resistance (KOhm)\n",
      "VBB=15.0                 #base voltage(V)\n",
      "RB=1                     #base resistance (MOhm)\n",
      "Bdc=100                  #current gain\n",
      "\n",
      "IB1=(VBB/RB)             #base current(uA)\n",
      "IC1=Bdc*IB1/1000         #Collector current(mA)\n",
      "VCE1=VCC-(IC1*RC)        #Collector-emitter voltage(V)\n",
      "\n",
      "IB2=((VBB-0.7)/RB)       #base current(uA)\n",
      "IC2=Bdc*IB2/1000         #Collector current(mA)\n",
      "VCE2=VCC-(IC2*RC)        #Collector-emitter voltage(V)\n",
      "\n",
      "print 'Collector emitter voltage VCE1 = ',VCE1,'V'\n",
      "print 'For second approx., collector emitter voltage VCE2 = ',VCE2,'V'"
     ],
     "language": "python",
     "metadata": {},
     "outputs": [
      {
       "output_type": "stream",
       "stream": "stdout",
       "text": [
        "Collector emitter voltage VCE1 =  10.5 V\n",
        "For second approx., collector emitter voltage VCE2 =  10.71 V\n"
       ]
      }
     ],
     "prompt_number": 20
    },
    {
     "cell_type": "heading",
     "level": 2,
     "metadata": {},
     "source": [
      "Example 7-6, Page 235"
     ]
    },
    {
     "cell_type": "code",
     "collapsed": false,
     "input": [
      "\n",
      "VCC=20.0                 #collector voltage(V)\n",
      "RC=10                    #collector resistance (KOhm)\n",
      "VBB=10.0                 #base voltage(V)\n",
      "RB=1                     #base resistance (MOhm)\n",
      "Bdc=50                   #current gain\n",
      "\n",
      "IB=(VBB/RB)             #base current(uA)\n",
      "IC=Bdc*IB/1000          #Collector current(mA)\n",
      "VCE=VCC-(IC*RC)         #Collector-emitter voltage(V)\n",
      "\n",
      "print 'Collector emitter voltage VCE = ',VCE,'V'\n",
      "print 'So, transistor is in active region.'"
     ],
     "language": "python",
     "metadata": {},
     "outputs": [
      {
       "output_type": "stream",
       "stream": "stdout",
       "text": [
        "Collector emitter voltage VCE =  15.0 V\n",
        "So, transistor is in active region\n"
       ]
      }
     ],
     "prompt_number": 22
    },
    {
     "cell_type": "heading",
     "level": 2,
     "metadata": {},
     "source": [
      "Example 7-7, Page 235"
     ]
    },
    {
     "cell_type": "code",
     "collapsed": false,
     "input": [
      "\n",
      "VCC=20.0                 #collector voltage(V)\n",
      "RC=5                     #collector resistance (KOhm)\n",
      "VBB=10.0                 #base voltage(V)\n",
      "RB=100                   #base resistance(KOhm)\n",
      "Bdco=50                  #old current gain\n",
      "\n",
      "ICsat=VCC/RC             #Saturation current(mA)\n",
      "IB=VBB/RB                #base current(mA)\n",
      "IC=Bdc*IB/1000           #Collector current(mA)\n",
      "VCE=VCC-(IC*RC)          #Collector-emitter voltage(V)\n",
      "Bdcn=ICsat/IB            #New current gain\n",
      "   \n",
      "\n",
      "print 'ICsat = ',ICsat,'mA'\n",
      "print 'Bdc = ',int(Bdcn)\n",
      "print 'Current can not be more than ICsat So, current gain will decrease.'\n",
      "print 'So, transistor has two current gain: active region & saturation region.'"
     ],
     "language": "python",
     "metadata": {},
     "outputs": [
      {
       "output_type": "stream",
       "stream": "stdout",
       "text": [
        "ICsat =  4.0 mA\n",
        "Bdc =  40\n",
        "Current can not be more than ICsat So, current gain will decrease.\n",
        "So, transistor has two current gain: active region & saturation region.\n"
       ]
      }
     ],
     "prompt_number": 32
    },
    {
     "cell_type": "heading",
     "level": 2,
     "metadata": {},
     "source": [
      "Example 7-8, Page 236"
     ]
    },
    {
     "cell_type": "code",
     "collapsed": false,
     "input": [
      "\n",
      "VCC=5.0                  #collector voltage(V)\n",
      "ICEO=50                  #Collector leakage current(nA)\n",
      "RC=1                     #collector resistance (KOhm)\n",
      "VBB=10.0                 #base voltage(V)\n",
      "RB=10                    #base resistance(KOhm)\n",
      "VCEs=0.15                #VCE saturation(V)\n",
      "\n",
      "VCE=VCC-((ICEO*RC)*10**-6)        #Collector-emitter voltage(V)\n",
      "\n",
      "print 'Two values of output voltage are 0 and 5 V'\n",
      "print 'first voltage is voltage across saturated transistor = ',VCEs,'V' \n",
      "print 'Second voltage is: VCE = ',round(VCE,2),'V'"
     ],
     "language": "python",
     "metadata": {},
     "outputs": [
      {
       "output_type": "stream",
       "stream": "stdout",
       "text": [
        "Two values of output voltage are 0 and 5 V\n",
        "first voltage is voltage across saturated transistor =  0.15 V\n",
        "Second voltage is: VCE =  5.0 V\n"
       ]
      }
     ],
     "prompt_number": 1
    },
    {
     "cell_type": "heading",
     "level": 2,
     "metadata": {},
     "source": [
      "Example 7-9, Page 239"
     ]
    },
    {
     "cell_type": "code",
     "collapsed": false,
     "input": [
      "\n",
      "VCC=15                  #collector voltage(V)\n",
      "VBB=5                   #Base voltage(V)\n",
      "RC=2                    #collector resistance (KOhm)\n",
      "VBE=0.7                 #base voltage(V)\n",
      "RB=100                  #base resistance(KOhm)\n",
      "RE=1                    #emitter resistance(KOhm)\n",
      "\n",
      "\n",
      "VE=VBB-VBE               #Emitter voltage(V)\n",
      "IE=(VE/RE)               #emitter current(mA)\n",
      "IC=IE                    #Collector current(mA)\n",
      "VC=VCC-(IC*RC)           #Collector-emitter voltage(V)\n",
      "VCE=VC-VE                #Collector-emitter voltage(V)\n",
      "   \n",
      "\n",
      "print 'Emitter current IE = ',IE,'mA'\n",
      "print 'Emitter voltage VE = ',VE,'V'\n",
      "print 'Collector emitter voltage VCE = ',VCE,'V'"
     ],
     "language": "python",
     "metadata": {},
     "outputs": [
      {
       "output_type": "stream",
       "stream": "stdout",
       "text": [
        "Emitter current IE =  4.3 mA\n",
        "Emitter voltage VE =  4.3 V\n",
        "Collector emitter voltage VCE =  2.1 V\n"
       ]
      }
     ],
     "prompt_number": 42
    },
    {
     "cell_type": "heading",
     "level": 2,
     "metadata": {},
     "source": [
      "Example 7-10, Page 242"
     ]
    },
    {
     "cell_type": "code",
     "collapsed": false,
     "input": [
      "\n",
      "VCC=20                   #collector voltage(V)\n",
      "VBB=15                   #Base voltage(V)\n",
      "VBE=0.7                  #base voltage(V)\n",
      "RE=1.5                   #emitter resistance(KOhm)\n",
      "IE=25.0                    #emitter current(mA)\n",
      "\n",
      "VE=IE*RE                         #emitter current(mA)\n",
      "RE=(VBB/IE)*1000                 #emitter resistance(KOhm)\n",
      "RE2=((VBB-VBE)/IE)*1000          #emitter resistance(KOhm)\n",
      "   \n",
      "print 'Emitter voltage VE = ',VE,'V'\n",
      "print 'Emitter resistance RE = ',RE,'Ohm'\n",
      "print 'Emitter resistance RE2 = ',RE2,'Ohm'"
     ],
     "language": "python",
     "metadata": {},
     "outputs": [
      {
       "output_type": "stream",
       "stream": "stdout",
       "text": [
        "Emitter voltage VE =  37.5 V\n",
        "Emitter resistance RE =  600.0 Ohm\n",
        "Emitter resistance RE2 =  572.0 Ohm\n"
       ]
      }
     ],
     "prompt_number": 48
    }
   ],
   "metadata": {}
  }
 ]
}