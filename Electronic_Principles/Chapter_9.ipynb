{
 "metadata": {
  "name": ""
 },
 "nbformat": 3,
 "nbformat_minor": 0,
 "worksheets": [
  {
   "cells": [
    {
     "cell_type": "heading",
     "level": 2,
     "metadata": {},
     "source": [
      "CHAPTER 9 AC MODELS"
     ]
    },
    {
     "cell_type": "heading",
     "level": 2,
     "metadata": {},
     "source": [
      "Example 9-1, Page 289"
     ]
    },
    {
     "cell_type": "code",
     "collapsed": false,
     "input": [
      "\n",
      "import math\n",
      "\n",
      "f=20                  #frequency(Hz)\n",
      "R=2                   #Resistance(KOhm)\n",
      "\n",
      "XC=0.1*R                     #Capacitive reactance(Ohm)\n",
      "C=(1/(2*math.pi*f*XC))*1000     #Capacitance(uF)\n",
      "\n",
      "print 'Capacitance C = ',round(C,2),'uF'"
     ],
     "language": "python",
     "metadata": {},
     "outputs": [
      {
       "output_type": "stream",
       "stream": "stdout",
       "text": [
        "Capacitance C =  39.79 uF\n"
       ]
      }
     ],
     "prompt_number": 8
    },
    {
     "cell_type": "heading",
     "level": 2,
     "metadata": {},
     "source": [
      "Example 9-2, Page 293"
     ]
    },
    {
     "cell_type": "code",
     "collapsed": false,
     "input": [
      "import math\n",
      "\n",
      "f=1                      #frequency(KHz)\n",
      "R1=600                   #Resistance1(Ohm)\n",
      "R2=1000                  #Resistance2(Ohm)\n",
      "\n",
      "\n",
      "RTH=R1*R2/(R1+R2)            #Thevenin resistance(Ohm)\n",
      "XC=0.1*RTH                   #Capacitive reactance(Ohm)\n",
      "C=(1/(2*math.pi*f*XC))*1000     #Capacitance(uF)\n",
      "\n",
      "print 'Capacitance C = ',round(C,2),'uF'"
     ],
     "language": "python",
     "metadata": {},
     "outputs": [
      {
       "output_type": "stream",
       "stream": "stdout",
       "text": [
        "Capacitance C =  4.24 uF\n"
       ]
      }
     ],
     "prompt_number": 7
    },
    {
     "cell_type": "heading",
     "level": 2,
     "metadata": {},
     "source": [
      "Example 9-3, Page 297"
     ]
    },
    {
     "cell_type": "code",
     "collapsed": false,
     "input": [
      "\n",
      "VCC=10                  #collector voltage(V)\n",
      "RE=1                    #Emitter resistance(KOhm)\n",
      "VBE=0.7                 #Base-emitter voltage drop(V)\n",
      "VEE=2                   #Emitter supply voltage(V)\n",
      "\n",
      "IEQ=(VEE-VBE)/RE        #Q point emitter current(mA)\n",
      "iepp=0.1*IEQ*1000       #small signal emitter current(uA) \n",
      "\n",
      "print 'Q point emitter current IEQ = ',IEQ,'mA'\n",
      "print 'Small signal emitter current iepp = ',iepp,'uApp'"
     ],
     "language": "python",
     "metadata": {},
     "outputs": [
      {
       "output_type": "stream",
       "stream": "stdout",
       "text": [
        "Q point emitter current IEQ =  1.3 mA\n",
        "Small signal emitter current iepp =  130.0 uApp\n"
       ]
      }
     ],
     "prompt_number": 6
    },
    {
     "cell_type": "heading",
     "level": 2,
     "metadata": {},
     "source": [
      "Example 9-4, Page 301"
     ]
    },
    {
     "cell_type": "code",
     "collapsed": false,
     "input": [
      "\n",
      "VCC=30                  #Supply voltage(V)\n",
      "RC=5                    #Collector resistance (KOhm)\n",
      "RL=100                  #Emitter resistance (KOhm)\n",
      "RB=1                    #Base resistance (MOhm)\n",
      "VBE=0.7                 #Base-emitter voltage drop(V)\n",
      "Bdc=100                 #current gain\n",
      "\n",
      "IB=(VCC-VBE)/RB         #Base current(mA)\n",
      "IE=Bdc*IB/1000          #Emitter current(mA)\n",
      "re=25/IE                #AC resistance(Ohm)\n",
      "\n",
      "print 'Emitter current IE = ',IE,'mA'\n",
      "print 'AC resistance re\\' = ',round(re,2),'Ohm'"
     ],
     "language": "python",
     "metadata": {},
     "outputs": [
      {
       "output_type": "stream",
       "stream": "stdout",
       "text": [
        "Emitter current IE =  2.93 mA\n",
        "AC resistance re' =  8.53 Ohm\n"
       ]
      }
     ],
     "prompt_number": 3
    },
    {
     "cell_type": "heading",
     "level": 2,
     "metadata": {},
     "source": [
      "Example 9-5, Page 302"
     ]
    },
    {
     "cell_type": "code",
     "collapsed": false,
     "input": [
      "\n",
      "VCC=10                  #collector voltage(V)\n",
      "RC=3.6                  #Collector resistance (KOhm)\n",
      "RE=1                    #Emitter resistance (KOhm)\n",
      "R1=10                   #Base resistance1 (KOhm)\n",
      "R2=2.2                  #Base resistance2 (KOhm)\n",
      "VBE=0.7                 #Base-emitter voltage drop(V)\n",
      "\n",
      "VBB=(R2/(R1+R2))*VCC    #Base voltage(V)\n",
      "VE=VBB-VBE              #Emitter voltage(V)\n",
      "IE=VE/RE                #Emitter current(mA)\n",
      "re=25/IE                #AC resistance(Ohm)\n",
      "\n",
      "print 'Emitter current IE = ',round(IE,2),'mA'\n",
      "print 'AC resistance re\\' = ',round(re,2),'Ohm'"
     ],
     "language": "python",
     "metadata": {},
     "outputs": [
      {
       "output_type": "stream",
       "stream": "stdout",
       "text": [
        "Emitter current IE =  1.1 mA\n",
        "AC resistance re' =  22.66 Ohm\n"
       ]
      }
     ],
     "prompt_number": 4
    },
    {
     "cell_type": "heading",
     "level": 2,
     "metadata": {},
     "source": [
      "Example 9-6, Page 302"
     ]
    },
    {
     "cell_type": "code",
     "collapsed": false,
     "input": [
      "\n",
      "VCC=10                  #collector voltage(V)\n",
      "RC=3.6                  #Collector resistance (KOhm)\n",
      "RE=1                    #Emitter resistance (KOhm)\n",
      "RB=2.7                  #Base resistance (KOhm)\n",
      "VBE=0.7                 #Base-emitter voltage drop(V)\n",
      "VEE=2                   #emitter voltage(V)\n",
      "\n",
      "VE=VEE-VBE              #Emitter to ground voltage(V)\n",
      "IE=VE/RE                #Emitter current(mA)\n",
      "re=25/IE                #AC resistance(Ohm)\n",
      "\n",
      "print 'Emitter current IE = ',IE,'mA'\n",
      "print 'AC resistance re\\' = ',round(re,2),'Ohm'"
     ],
     "language": "python",
     "metadata": {},
     "outputs": [
      {
       "output_type": "stream",
       "stream": "stdout",
       "text": [
        "Emitter current IE =  1.3 mA\n",
        "AC resistance re' =  19.23 Ohm\n"
       ]
      }
     ],
     "prompt_number": 5
    },
    {
     "cell_type": "code",
     "collapsed": false,
     "input": [],
     "language": "python",
     "metadata": {},
     "outputs": []
    }
   ],
   "metadata": {}
  }
 ]
}