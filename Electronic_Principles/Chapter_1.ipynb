{
 "metadata": {
  "name": ""
 },
 "nbformat": 3,
 "nbformat_minor": 0,
 "worksheets": [
  {
   "cells": [
    {
     "cell_type": "heading",
     "level": 2,
     "metadata": {},
     "source": [
      "CHAPTER 1 INTRODUCTION"
     ]
    },
    {
     "cell_type": "heading",
     "level": 2,
     "metadata": {},
     "source": [
      "Example 1-1, Page 9"
     ]
    },
    {
     "cell_type": "code",
     "collapsed": false,
     "input": [
      "\n",
      "Rs=50              #source resistance(Ohm)\n",
      "\n",
      "RL=100*Rs/1000     #Minimum Load resistance(KOhm)\n",
      "\n",
      "print 'Minimum Load resistance =',RL,'KOhm'"
     ],
     "language": "python",
     "metadata": {},
     "outputs": [
      {
       "output_type": "stream",
       "stream": "stdout",
       "text": [
        "Minimum Load resistance = 5 KOhm\n"
       ]
      }
     ],
     "prompt_number": 1
    },
    {
     "cell_type": "heading",
     "level": 2,
     "metadata": {},
     "source": [
      "Example 1-2, Page 12"
     ]
    },
    {
     "cell_type": "code",
     "collapsed": false,
     "input": [
      "\n",
      "Is=0.002              #Current source(A)\n",
      "Rs=10000000           #internal resistance(Ohm)\n",
      "\n",
      "Rl_Max=0.01*Rs/1000   #Maximum load resistance(KOhm)\n",
      "\n",
      "print 'With 100:1 Rule, Maximum Load resistance =',Rl_Max,'KOhm'\n",
      "print 'Stiff range for current source is load resistance from 0 KOhm to',Rl_Max,'KOhm'"
     ],
     "language": "python",
     "metadata": {},
     "outputs": [
      {
       "output_type": "stream",
       "stream": "stdout",
       "text": [
        "With 100:1 Rule, Maximum Load resistance = 100.0 KOhm\n",
        "Stiff range for current source is load resistance from 0 KOhm to 100.0 KOhm\n"
       ]
      }
     ],
     "prompt_number": 2
    },
    {
     "cell_type": "heading",
     "level": 2,
     "metadata": {},
     "source": [
      "Example 1-3, Page 13"
     ]
    },
    {
     "cell_type": "code",
     "collapsed": false,
     "input": [
      "\n",
      "Il=0.002   #current source(A)\n",
      "Rl=10000   #load resistance(Ohm)\n",
      "\n",
      "Vl=Il*Rl   #load voltage(V)\n",
      "\n",
      "print 'Load Voltage =',Vl,'V'"
     ],
     "language": "python",
     "metadata": {},
     "outputs": [
      {
       "output_type": "stream",
       "stream": "stdout",
       "text": [
        "Load Voltage = 20.0 V\n"
       ]
      }
     ],
     "prompt_number": 1
    },
    {
     "cell_type": "heading",
     "level": 2,
     "metadata": {},
     "source": [
      "Example 1-4, Page 14"
     ]
    },
    {
     "cell_type": "code",
     "collapsed": false,
     "input": [
      "\n",
      "print 'As per figure 1-9a, Calculate Thevenin resistor by opening load resistor'\n",
      "\n",
      "Vs=72    #source voltage\n",
      "R1=6     #Resistance (KOhm)\n",
      "R2=3     #Resistance (KOhm)\n",
      "R3=4     #Resistance (KOhm)\n",
      "\n",
      "Ro=R1+R2 #Resistance (KOhm)\n",
      "I=Vs/Ro\n",
      "Vab=R2*Vs/(R1+R2)         #Thevenin voltage(V)\n",
      "Rth=((R1*R2)/(R1+R2))+R3  #Thevenin Resistance(KOhm)\n",
      "\n",
      "print 'After removing Rl current flowing through 6KOhm is',I,'mA'\n",
      "print 'Thevenin Voltage Vth =',Vab,'V'\n",
      "print 'Calculating Thevenin Resistance with considering R1 & R2 in parallel'\n",
      "print 'Thevenin Resistance =',Rth,'KOhm'"
     ],
     "language": "python",
     "metadata": {},
     "outputs": [
      {
       "output_type": "stream",
       "stream": "stdout",
       "text": [
        "As per figure 1-9a, Calculate Thevenin resistor by opening load resistor\n",
        "After removing Rl current flowing through 6KOhm is 8 mA\n",
        "Thevenin Voltage Vth = 24 V\n",
        "Calculating Thevenin Resistance with considering R1 & R2 in parallel\n",
        "Thevenin Resistance = 6 KOhm\n"
       ]
      }
     ],
     "prompt_number": 3
    },
    {
     "cell_type": "heading",
     "level": 2,
     "metadata": {},
     "source": [
      "Example 1-5, Page 15"
     ]
    },
    {
     "cell_type": "code",
     "collapsed": false,
     "input": [
      "\n",
      "Vs=72    #source voltage\n",
      "R1=2     #resistance1 (KOhm)\n",
      "R2=2     #resistance1 (KOhm)\n",
      "R3=1     #resistance1 (KOhm)\n",
      "R4=2     #resistance1 (KOhm)\n",
      "R5=1     #resistance1 (KOhm)\n",
      "R6=2     #resistance1 (KOhm)\n",
      "R7=0.5   #resistance1 (KOhm)\n",
      "RL=1     #load resistance (KOhm)\n",
      "\n",
      "Vth=9                     #Thevenin voltage(V)\n",
      "Rth=1.5                   #Thevenin resistance(KOhm)\n",
      "\n",
      "print 'Thevenin Voltage Vth =',Vth,'V'\n",
      "print 'Thevenin Resistance =',Rth,'KOhm'"
     ],
     "language": "python",
     "metadata": {},
     "outputs": [
      {
       "output_type": "stream",
       "stream": "stdout",
       "text": [
        "Thevenin Voltage Vth = 9 V\n",
        "Thevenin Resistance = 1.5 KOhm\n"
       ]
      }
     ],
     "prompt_number": 2
    },
    {
     "cell_type": "heading",
     "level": 2,
     "metadata": {},
     "source": [
      "Example 1-6, Page 19"
     ]
    },
    {
     "cell_type": "code",
     "collapsed": false,
     "input": [
      "\n",
      "Vs=10    #source voltage\n",
      "Rs=2     #series source resistance (KOhm)\n",
      "\n",
      "IN=Vs/Rs                  #Norton current(mA)\n",
      "Rp=Rs                     #parallel source resistance(KOhm)\n",
      "\n",
      "print 'Norton current IN =',IN,'mA'\n",
      "print 'Norton Resistance =',Rp,'KOhm'"
     ],
     "language": "python",
     "metadata": {},
     "outputs": [
      {
       "output_type": "stream",
       "stream": "stdout",
       "text": [
        "Norton current IN = 5 mA\n",
        "Norton Resistance = 2 KOhm\n"
       ]
      }
     ],
     "prompt_number": 1
    },
    {
     "cell_type": "code",
     "collapsed": false,
     "input": [],
     "language": "python",
     "metadata": {},
     "outputs": []
    }
   ],
   "metadata": {}
  }
 ]
}