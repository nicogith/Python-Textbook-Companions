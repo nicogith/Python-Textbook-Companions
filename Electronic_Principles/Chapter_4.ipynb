{
 "metadata": {
  "name": ""
 },
 "nbformat": 3,
 "nbformat_minor": 0,
 "worksheets": [
  {
   "cells": [
    {
     "cell_type": "heading",
     "level": 2,
     "metadata": {},
     "source": [
      "CHAPTER 4 DIODE CIRCUITS"
     ]
    },
    {
     "cell_type": "heading",
     "level": 2,
     "metadata": {},
     "source": [
      "Example 4-1, Page 92"
     ]
    },
    {
     "cell_type": "code",
     "collapsed": false,
     "input": [
      "\n",
      "import math\n",
      "\n",
      "Vrms=10             #RMS Value of sine wave(V)\n",
      "f=60                #frequency(Hz)\n",
      "\n",
      "Vp=Vrms/0.707       #peak source voltage(V)\n",
      "Vpout=Vp            #peak load voltage(V)\n",
      "Vdc=Vp/math.pi      #dc load voltage(V)\n",
      "Vpouts=Vp-0.7       #peak load voltage in 2nd approx.\n",
      "Vdc=Vpouts/math.pi  #dc load voltage(V)\n",
      "\n",
      "print 'Vp=',round(Vp,2),'V'\n",
      "print 'With an ideal diode, Vpout =',round(Vpout,2),'V'\n",
      "print 'DC load voltage, Vdc =',round(Vdc,2),'V'\n",
      "print 'With second approximation, Vpout =',round(Vpouts,2),'V'\n",
      "print 'DC load voltage, Vdc =',round(Vdc,2),'V'"
     ],
     "language": "python",
     "metadata": {},
     "outputs": [
      {
       "output_type": "stream",
       "stream": "stdout",
       "text": [
        "Vp= 14.14 V\n",
        "With an ideal diode, Vpout = 14.14 V\n",
        "DC load voltage, Vdc = 4.28 V\n",
        "With second approximation, Vpout = 13.44 V\n",
        "DC load voltage, Vdc = 4.28 V\n"
       ]
      }
     ],
     "prompt_number": 6
    },
    {
     "cell_type": "heading",
     "level": 2,
     "metadata": {},
     "source": [
      "Example 4-2, Page 94"
     ]
    },
    {
     "cell_type": "code",
     "collapsed": false,
     "input": [
      "\n",
      "import math\n",
      "\n",
      "Vs=120                 #supply voltage(V)\n",
      "\n",
      "V2=Vs/5                #Secondary voltage(V)\n",
      "Vp=V2/0.707            #peak secondary voltage\n",
      "Vpout=Vp               #peak load voltage(V)\n",
      "Vdc1=Vp/math.pi        #dc load voltage(V)\n",
      "Vpouts=Vp-0.7          #peak load voltage in 2nd approx.(V)\n",
      "Vdc2=Vpouts/math.pi    #dc load voltage(V)\n",
      "\n",
      "print 'As per fig.4-5, Transformer turns ratio is 5:1'\n",
      "print 'V2=',round(V2,2),'V'\n",
      "print 'Vp=',round(Vp,2),'V'\n",
      "print 'With an ideal diode, Vpout =',round(Vpout,2),'V'\n",
      "print 'DC load voltage, Vdc =',round(Vdc1,2),'V'\n",
      "print 'With second approximation, Vpout =',round(Vpouts,2),'V'\n",
      "print 'DC load voltage, Vdc =',round(Vdc2,2),'V'"
     ],
     "language": "python",
     "metadata": {},
     "outputs": [
      {
       "output_type": "stream",
       "stream": "stdout",
       "text": [
        "As per fig.4-5, Transformer turns ratio is 5:1\n",
        "V2= 24.0 V\n",
        "Vp= 33.95 V\n",
        "With an ideal diode, Vpout = 33.95 V\n",
        "DC load voltage, Vdc = 10.81 V\n",
        "With second approximation, Vpout = 33.25 V\n",
        "DC load voltage, Vdc = 10.58 V\n"
       ]
      }
     ],
     "prompt_number": 10
    },
    {
     "cell_type": "heading",
     "level": 2,
     "metadata": {},
     "source": [
      "Example 4-3, Page 97"
     ]
    },
    {
     "cell_type": "code",
     "collapsed": false,
     "input": [
      "\n",
      "Vrms=120             #RMS value of supply(V)\n",
      "N12=10               #turn ratio\n",
      "\n",
      "Vp1=Vrms/0.707       #peak primary voltage(V)\n",
      "Vp2=Vp1/N12          #peak secondary voltage(V)\n",
      "Vpin=0.5*Vp2         #input voltage(V)\n",
      "Vpout=Vpin           #Output voltage (V)\n",
      "Vpouts=Vpin-0.7      #Output voltage in 2nd approx.(V)\n",
      "\n",
      "print 'Peak primary voltage Vp1=',round(Vp1,2),'V'\n",
      "print 'Peak secondary voltage Vp2=',round(Vp2,2),'V'\n",
      "print 'Due to center-tap,' \n",
      "print 'input voltage to each half-wave rectifier is only half the secondary voltage:'\n",
      "print 'With an ideal diode, Vpout =',round(Vpout,2),'V'\n",
      "print 'With second approximation, Vpout =',round(Vpouts,2),'V'"
     ],
     "language": "python",
     "metadata": {},
     "outputs": [
      {
       "output_type": "stream",
       "stream": "stdout",
       "text": [
        "Peak primary voltage Vp1= 169.73 V\n",
        "Peak secondary voltage Vp2= 16.97 V\n",
        "Due to center-tap,\n",
        "input voltage to each half-wave rectifier is only half the secondary voltage:\n",
        "With an ideal diode, Vpout = 8.49 V\n",
        "With second approximation, Vpout = 7.79 V\n"
       ]
      }
     ],
     "prompt_number": 11
    },
    {
     "cell_type": "heading",
     "level": 2,
     "metadata": {},
     "source": [
      "Example 4-4, Page 99"
     ]
    },
    {
     "cell_type": "code",
     "collapsed": false,
     "input": [
      "\n",
      "Vrms=120                 #RMS value of supply(V)\n",
      "N12=10                   #turn ratio\n",
      "\n",
      "Vp1=Vrms/0.707           #peak primary voltage(V)\n",
      "Vp2=Vp1/N12              #peak secondary voltage(V)\n",
      "Vpin=0.5*Vp2             #input voltage(V)\n",
      "Vpout=Vpin               #Output voltage(V)\n",
      "Vpouts=Vpin-0.7          #Output voltage in 2nd approx.(V)\n",
      "\n",
      "print 'Peak primary voltage Vp1=',round(Vp1,2),'V'\n",
      "print 'Peak secondary voltage Vp2=',round(Vp2,2),'V'\n",
      "print 'Due to one of the diodes were open, load voltage will be the half wave signal'\n",
      "print 'But still peak of half wave signal is same as prior case'\n",
      "print 'With an ideal diode, Vpout =',round(Vpout,2),'V'\n",
      "print 'With second approximation, Vpout =',round(Vpouts,2),'V'"
     ],
     "language": "python",
     "metadata": {},
     "outputs": [
      {
       "output_type": "stream",
       "stream": "stdout",
       "text": [
        "Peak primary voltage Vp1= 169.73 V\n",
        "Peak secondary voltage Vp2= 16.97 V\n",
        "Due to one of the diodes were open, load voltage will be the half wave signal\n",
        "But still peak of half wave signal is same as prior case\n",
        "With an ideal diode, Vpout = 8.49 V\n",
        "With second approximation, Vpout = 7.79 V\n"
       ]
      }
     ],
     "prompt_number": 12
    },
    {
     "cell_type": "heading",
     "level": 2,
     "metadata": {},
     "source": [
      "Example 4-5, Page 102"
     ]
    },
    {
     "cell_type": "code",
     "collapsed": false,
     "input": [
      "\n",
      "Vrms=120            #RMS value of supply(V)\n",
      "N12=10              #turn ratio\n",
      "\n",
      "Vp1=Vrms/0.707      #peak primary voltage(V)\n",
      "Vp2=Vp1/N12         #peak secondary voltage(V)\n",
      "Vpout=Vp2           #Output voltage(V)\n",
      "\n",
      "print 'Peak primary voltage Vp1=',round(Vp1,2),'V'\n",
      "print 'Peak secondary voltage Vp2=',round(Vp2,2),'V'\n",
      "print 'secondary voltage is input of rectifier'\n",
      "print 'With an ideal diode, Vpout =',round(Vpout,2),'V'"
     ],
     "language": "python",
     "metadata": {},
     "outputs": [
      {
       "output_type": "stream",
       "stream": "stdout",
       "text": [
        "Peak primary voltage Vp1= 169.73 V\n",
        "Peak secondary voltage Vp2= 16.97 V\n",
        "secondary voltage is input of rectifier\n",
        "With an ideal diode, Vpout = 16.97 V\n"
       ]
      }
     ],
     "prompt_number": 13
    },
    {
     "cell_type": "heading",
     "level": 2,
     "metadata": {},
     "source": [
      "Example 4-6, Page 108"
     ]
    },
    {
     "cell_type": "code",
     "collapsed": false,
     "input": [
      "\n",
      "Vrms=120               #RMS value of supply(V)\n",
      "N12=5                  #turn ratio\n",
      "RL=5                   #Load resistance(KOhm)\n",
      "C=100                  #Capacitance(uF)\n",
      "f=60                   #Frequency(Hz)\n",
      "\n",
      "V2=Vrms/N12            #RMS secondary voltage(V)\n",
      "Vp=V2/0.707            #peak secondary voltage(V)\n",
      "VL=Vp                  #dc load voltage(V)\n",
      "IL=VL/RL               #Load current(mA)\n",
      "VR=(IL/(f*C))*(10**3)  #ripple voltage(V)\n",
      "\n",
      "print 'RMS secondary voltage V2=',V2,'V'\n",
      "print 'Peak secondary voltage Vp=',round(Vp,2),'V'\n",
      "print 'with ideal diode and small ripple, dc load voltage, VL =',round(VL,2),'V'\n",
      "print 'To calculate ripple get, dc load current,'\n",
      "print 'DC Load current IL=',round(IL,2),'mA'\n",
      "print 'As per ripple formula,'\n",
      "print 'Ripple voltage VR=',round(VR,2),'V'"
     ],
     "language": "python",
     "metadata": {},
     "outputs": [
      {
       "output_type": "stream",
       "stream": "stdout",
       "text": [
        "RMS secondary voltage V2= 24 V\n",
        "Peak secondary voltage Vp= 33.95 V\n",
        "with ideal diode and small ripple, dc load voltage, VL = 33.95 V\n",
        "To calculate ripple get, dc load current,\n",
        "DC Load current IL= 6.79 mA\n",
        "As per ripple formula,\n",
        "Ripple voltage VR= 1.13 V\n"
       ]
      }
     ],
     "prompt_number": 14
    },
    {
     "cell_type": "heading",
     "level": 2,
     "metadata": {},
     "source": [
      "Example 4-7, Page 109"
     ]
    },
    {
     "cell_type": "code",
     "collapsed": false,
     "input": [
      "\n",
      "Vrms=120                 #RMS value of supply(V)\n",
      "N12=5                    #turn ratio\n",
      "RL=5                     #Load resistance(KOhm)\n",
      "C=100                    #Capacitance(uF)\n",
      "f=60                     #Frequency(Hz)\n",
      "\n",
      "V2=Vrms/N12              #RMS secondary voltage(V)\n",
      "Vp=V2/0.707              #peak secondary voltage(V)\n",
      "VL=Vp/2                  #dc load voltage(V)\n",
      "IL=VL/RL                 #Load current(mA)\n",
      "VR=(IL/(2*f*C))*(10**3)  #ripple voltage(V)\n",
      "\n",
      "print 'RMS secondary voltage V2=',V2,'V'\n",
      "print 'Peak secondary voltage Vp=',round(Vp,2),'V'\n",
      "print 'Half this voltage is input to each half-wave section, with ideal diode and small ripple, dc load voltage, VL =',round(VL,2),'V'\n",
      "print 'But, due to 0.7V across conducting diode actual dc voltage is, VL =',round((VL-0.7),2),'V'\n",
      "print 'To calculate ripple get, dc load current,'\n",
      "print 'DC Load current IL=',round(IL,2),'mA'\n",
      "print 'As per ripple formula,'\n",
      "print 'Ripple voltage VR=',round(VR,2),'V'"
     ],
     "language": "python",
     "metadata": {},
     "outputs": [
      {
       "output_type": "stream",
       "stream": "stdout",
       "text": [
        "RMS secondary voltage V2= 24 V\n",
        "Peak secondary voltage Vp= 33.95 V\n",
        "Half this voltage is input to each half-wave section, with ideal diode and small ripple, dc load voltage, VL = 16.97 V\n",
        "But, due to 0.7V across conducting diode actual dc voltage is, VL = 16.27 V\n",
        "To calculate ripple get, dc load current,\n",
        "DC Load current IL= 3.39 mA\n",
        "As per ripple formula,\n",
        "Ripple voltage VR= 0.28 V\n"
       ]
      }
     ],
     "prompt_number": 15
    },
    {
     "cell_type": "heading",
     "level": 2,
     "metadata": {},
     "source": [
      "Example 4-8, Page 110"
     ]
    },
    {
     "cell_type": "code",
     "collapsed": false,
     "input": [
      "\n",
      "Vrms=120                 #RMS value of supply(V)\n",
      "N12=5                    #turn ratio\n",
      "RL=5                     #Load resistance(KOhm)\n",
      "C=100                    #Capacitance(uF)\n",
      "f=60                     #Frequency(Hz)\n",
      "\n",
      "V2=Vrms/N12              #RMS secondary voltage(V)\n",
      "Vp=V2/0.707              #peak secondary voltage(V)\n",
      "VL=Vp                    #dc load voltage(V)\n",
      "IL=VL/RL                 #Load current(mA)\n",
      "VR=(IL/(2*f*C))*(10**3)  #ripple voltage(V)\n",
      "\n",
      "print 'RMS secondary voltage V2=',V2,'V'\n",
      "print 'Peak secondary voltage Vp=',round(Vp,2),'V'\n",
      "print 'with ideal diode and small ripple, dc load voltage, VL =',round(VL,2),'V'\n",
      "print 'But, due to 1.4V across two conducting diodes actual dc voltage is, VL =',round((VL-1.4),2),'V'\n",
      "print 'To calculate ripple get, dc load current,'\n",
      "print 'DC Load current IL=',round(IL,2),'mA'\n",
      "print 'As per ripple formula,'\n",
      "print 'Ripple voltage VR=',round(VR,2),'V'"
     ],
     "language": "python",
     "metadata": {},
     "outputs": [
      {
       "output_type": "stream",
       "stream": "stdout",
       "text": [
        "RMS secondary voltage V2= 24 V\n",
        "Peak secondary voltage Vp= 33.95 V\n",
        "with ideal diode and small ripple, dc load voltage, VL = 33.95 V\n",
        "But, due to 1.4V across two conducting diodes actual dc voltage is, VL = 32.55 V\n",
        "To calculate ripple get, dc load current,\n",
        "DC Load current IL= 6.79 mA\n",
        "As per ripple formula,\n",
        "Ripple voltage VR= 0.57 V\n"
       ]
      }
     ],
     "prompt_number": 16
    },
    {
     "cell_type": "heading",
     "level": 2,
     "metadata": {},
     "source": [
      "Example 4-9, Page 111"
     ]
    },
    {
     "cell_type": "code",
     "collapsed": false,
     "input": [
      "\n",
      "Vrms=120                 #RMS value of supply(V)\n",
      "N12=15                   #turn ratio\n",
      "RL=0.5                   #Load resistance(KOhm)\n",
      "C=4700                   #Capacitance(uF)\n",
      "f=60                     #Frequency(Hz)\n",
      "\n",
      "V2=Vrms/N12              #RMS secondary voltage(V)\n",
      "Vp=V2/0.707              #peak secondary voltage(V)\n",
      "VL=Vp-1.4                    #dc load voltage(V)\n",
      "IL=VL/RL                 #Load current(mA)\n",
      "VR=(IL/(2*f*C))*(10**3)  #ripple voltage(V)\n",
      "\n",
      "print 'RMS secondary voltage V2=',V2,'V'\n",
      "print 'Peak secondary voltage Vp=',round(Vp,2),'V'\n",
      "print 'with ideal diode and small ripple & due to 1.4V across two conducting diodes actual dc voltage is, VL =',round(VL,2),'V'\n",
      "print 'To calculate ripple get, dc load current,'\n",
      "print 'DC Load current IL=',round(IL,2),'mA'\n",
      "print 'As per ripple formula,'\n",
      "print 'Ripple voltage VR=',round((VR*1000),2),'mV'"
     ],
     "language": "python",
     "metadata": {},
     "outputs": [
      {
       "output_type": "stream",
       "stream": "stdout",
       "text": [
        "RMS secondary voltage V2= 8 V\n",
        "Peak secondary voltage Vp= 11.32 V\n",
        "with ideal diode and small ripple & due to 1.4V across two conducting diodes actual dc voltage is, VL = 9.92 V\n",
        "To calculate ripple get, dc load current,\n",
        "DC Load current IL= 19.83 mA\n",
        "As per ripple formula,\n",
        "Ripple voltage VR= 35.16 mV\n"
       ]
      }
     ],
     "prompt_number": 17
    },
    {
     "cell_type": "heading",
     "level": 2,
     "metadata": {},
     "source": [
      "Example 4-10, Page 114"
     ]
    },
    {
     "cell_type": "code",
     "collapsed": false,
     "input": [
      "\n",
      "Vrms=120                 #RMS value of supply(V)\n",
      "N12=8                    #turn ratio\n",
      "f=60                     #Frequency(Hz)\n",
      "\n",
      "V2=Vrms/N12              #RMS secondary voltage(V)\n",
      "Vp=V2/0.707              #peak secondary voltage(V)\n",
      "PIV = Vp                 #Peak Inverse Voltage(V)\n",
      "\n",
      "print 'RMS secondary voltage V2=',V2,'V'\n",
      "print 'Peak inverse voltage PIV =',round(PIV,2),'V'\n",
      "print 'PIV << breakdown voltage(50V), So, it is safe to use IN4001'"
     ],
     "language": "python",
     "metadata": {},
     "outputs": [
      {
       "output_type": "stream",
       "stream": "stdout",
       "text": [
        "RMS secondary voltage V2= 15 V\n",
        "Peak inverse voltage PIV = 21.22 V\n",
        "PIV << breakdown voltage(50V), So, it is safe to use IN4001\n"
       ]
      }
     ],
     "prompt_number": 18
    },
    {
     "cell_type": "code",
     "collapsed": false,
     "input": [],
     "language": "python",
     "metadata": {},
     "outputs": []
    }
   ],
   "metadata": {}
  }
 ]
}