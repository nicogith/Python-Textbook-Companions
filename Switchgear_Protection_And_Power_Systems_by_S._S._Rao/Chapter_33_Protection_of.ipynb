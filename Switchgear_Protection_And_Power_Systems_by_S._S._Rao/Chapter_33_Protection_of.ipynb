{
 "cells": [
  {
   "cell_type": "markdown",
   "metadata": {},
   "source": [
    "# Chapter 33 Protection of Genrators"
   ]
  },
  {
   "cell_type": "markdown",
   "metadata": {},
   "source": [
    "## Example 33_1 pgno:624"
   ]
  },
  {
   "cell_type": "code",
   "execution_count": 5,
   "metadata": {
    "collapsed": false
   },
   "outputs": [
    {
     "name": "stdout",
     "output_type": "stream",
     "text": [
      "the resistance to be added=ohms 1.94\n"
     ]
    }
   ],
   "source": [
    "from math import sqrt\n",
    "v=11e3/sqrt(3);\n",
    "v=round(v);\n",
    "r=5e6;\n",
    "per=20;\n",
    "i=r/(3*v);\n",
    "i=round(i);\n",
    "i0=i*25/100;\n",
    "R=per*v/(i0*1000);\n",
    "R=round(R*100)/100;\n",
    "print\"the resistance to be added=ohms\",R\n"
   ]
  },
  {
   "cell_type": "markdown",
   "metadata": {},
   "source": [
    "## Example 33_2 pgno:625"
   ]
  },
  {
   "cell_type": "code",
   "execution_count": 6,
   "metadata": {
    "collapsed": false
   },
   "outputs": [
    {
     "name": "stdout",
     "output_type": "stream",
     "text": [
      "the percentage of unprotected winding=percent 65.3589838486\n",
      "Resistance for 90percent winding protection=ohms 2.88675134595\n"
     ]
    }
   ],
   "source": [
    "from math import sqrt\n",
    "v=10e3/sqrt(3);\n",
    "R=10.;\n",
    "i=1.;\n",
    "ct=1000./5.;\n",
    "ip=i*ct;\n",
    "per=R*ip*100./v;\n",
    "p=10.;\n",
    "res=p/100.*v/ip;\n",
    "print\"the percentage of unprotected winding=percent\",100-(per)\n",
    "print\"Resistance for 90percent winding protection=ohms\",res\n"
   ]
  },
  {
   "cell_type": "markdown",
   "metadata": {},
   "source": [
    "## Example 33_3 pgno:625"
   ]
  },
  {
   "cell_type": "code",
   "execution_count": 7,
   "metadata": {
    "collapsed": false
   },
   "outputs": [
    {
     "name": "stdout",
     "output_type": "stream",
     "text": [
      "percentage of unprotected winding for earth fault=percent 11.6\n"
     ]
    }
   ],
   "source": [
    "from math import sqrt\n",
    "per=.2;\n",
    "r=10e6;\n",
    "R=7;\n",
    "v=11e3;\n",
    "i=r/(sqrt(3)*v);\n",
    "i=round(i);\n",
    "i0=per*i;\n",
    "v=v/sqrt(3);\n",
    "p=R*i0/v*100;\n",
    "p=round(p*10)/10;\n",
    "print\"percentage of unprotected winding for earth fault=percent\",p\n"
   ]
  },
  {
   "cell_type": "markdown",
   "metadata": {},
   "source": [
    "## Example 33_5 pgno:626"
   ]
  },
  {
   "cell_type": "code",
   "execution_count": 8,
   "metadata": {
    "collapsed": false
   },
   "outputs": [
    {
     "name": "stdout",
     "output_type": "stream",
     "text": [
      "the neutral earthing resistance=ohms 3.14\n"
     ]
    }
   ],
   "source": [
    "from math import sqrt\n",
    "i=200.;\n",
    "c=.1;\n",
    "v=11e3/sqrt(3);\n",
    "per=.15;\n",
    "x=per*v/(i);\n",
    "ru=c*x;\n",
    "vi=v*c;\n",
    "y=vi/i;\n",
    "r=sqrt((y**2)-(ru**2));\n",
    "r=round(r*100)/100;\n",
    "print\"the neutral earthing resistance=ohms\",r\n"
   ]
  },
  {
   "cell_type": "code",
   "execution_count": null,
   "metadata": {
    "collapsed": true
   },
   "outputs": [],
   "source": []
  },
  {
   "cell_type": "code",
   "execution_count": null,
   "metadata": {
    "collapsed": true
   },
   "outputs": [],
   "source": []
  }
 ],
 "metadata": {
  "kernelspec": {
   "display_name": "Python 2",
   "language": "python",
   "name": "python2"
  },
  "language_info": {
   "codemirror_mode": {
    "name": "ipython",
    "version": 2
   },
   "file_extension": ".py",
   "mimetype": "text/x-python",
   "name": "python",
   "nbconvert_exporter": "python",
   "pygments_lexer": "ipython2",
   "version": "2.7.9"
  }
 },
 "nbformat": 4,
 "nbformat_minor": 0
}
