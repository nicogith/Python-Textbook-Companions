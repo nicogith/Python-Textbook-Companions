{
 "metadata": {
  "name": ""
 },
 "nbformat": 3,
 "nbformat_minor": 0,
 "worksheets": [
  {
   "cells": [
    {
     "cell_type": "heading",
     "level": 1,
     "metadata": {},
     "source": [
      "Chapter 6:Lubricants"
     ]
    },
    {
     "cell_type": "heading",
     "level": 2,
     "metadata": {},
     "source": [
      "Example no:1,Page no:141"
     ]
    },
    {
     "cell_type": "code",
     "collapsed": false,
     "input": [
      "#Variable declaration\n",
      "d=760.0 #viscocity of Pennysylvanian oil in s at 37C#\n",
      "a=528.0 #viscocity of lubricating oil in s at 37C#\n",
      "c=480.0 #viscocity of Gulf oil in s at 37C#\n",
      "\n",
      "#Calculation\n",
      "V=((d-a)/(d-c))*(100) #formula of viscocity index#\n",
      "\n",
      "#Result\n",
      "print\"Viscocity index of the lubricating oil is \",round(V ,1)"
     ],
     "language": "python",
     "metadata": {},
     "outputs": [
      {
       "output_type": "stream",
       "stream": "stdout",
       "text": [
        "Viscocity index of the lubricating oil is  82.9\n"
       ]
      }
     ],
     "prompt_number": 1
    },
    {
     "cell_type": "heading",
     "level": 2,
     "metadata": {},
     "source": [
      "Example no:2,Page no:144"
     ]
    },
    {
     "cell_type": "code",
     "collapsed": false,
     "input": [
      "#Variable declaration\n",
      "s=0.86 #specific gravity of lubricating oil#\n",
      "\n",
      "#Calculation\n",
      "A=(141.5/s)-131.5 #formula of API gravity#\n",
      "\n",
      "#Result\n",
      "print\"The gravity of lubricating oil is \",round(A)"
     ],
     "language": "python",
     "metadata": {},
     "outputs": [
      {
       "output_type": "stream",
       "stream": "stdout",
       "text": [
        "The gravity of lubricating oil is  33.0\n"
       ]
      }
     ],
     "prompt_number": 2
    }
   ],
   "metadata": {}
  }
 ]
}