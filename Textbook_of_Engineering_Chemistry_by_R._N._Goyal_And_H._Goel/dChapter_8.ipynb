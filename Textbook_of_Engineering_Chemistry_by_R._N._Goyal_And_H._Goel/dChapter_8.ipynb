{
 "metadata": {
  "name": ""
 },
 "nbformat": 3,
 "nbformat_minor": 0,
 "worksheets": [
  {
   "cells": [
    {
     "cell_type": "heading",
     "level": 1,
     "metadata": {},
     "source": [
      "Chapter 8: Fuels & Combustion"
     ]
    },
    {
     "cell_type": "heading",
     "level": 2,
     "metadata": {},
     "source": [
      "Example no:1,Page no:188"
     ]
    },
    {
     "cell_type": "code",
     "collapsed": false,
     "input": [
      "#Variable declaration\n",
      "WC=1.508 #weight of coal sample in grams#\n",
      "WH110=1.478 #weight of sample after heating at 110 degrees in grams#\n",
      "m=WC-WH110 #weight of moisture in the sample#\n",
      "\n",
      "#Calculation\n",
      "pm=m*100/WC #percentage of moisture in the sample#\n",
      "WH950=1.068 #weight of sample after heating at 950 degrees in grams#\n",
      "vm=WH110-WH950 #volatile matter in grams#\n",
      "pvm=vm*100/WC #percentage of voltaile matter#\n",
      "\n",
      "#Result\n",
      "print'Weight of moisture in the sample=',m,\"g\"\n",
      "print'Percentage of moisture in the sample=',round(pm,2),\"%\"\n",
      "print'\\nWeight of volatile matter in the sample=',vm,\"g\"\n",
      "print'Percentage of volatile matter in the sample=',round(pvm,2),\"%\"\n"
     ],
     "language": "python",
     "metadata": {},
     "outputs": [
      {
       "output_type": "stream",
       "stream": "stdout",
       "text": [
        "Weight of moisture in the sample= 0.03 g\n",
        "Percentage of moisture in the sample= 1.99 %\n",
        "\n",
        "Weight of volatile matter in the sample= 0.41 g\n",
        "Percentage of volatile matter in the sample= 27.19 %\n"
       ]
      }
     ],
     "prompt_number": 1
    },
    {
     "cell_type": "heading",
     "level": 2,
     "metadata": {},
     "source": [
      "Example no:2,Page no:192"
     ]
    },
    {
     "cell_type": "code",
     "collapsed": false,
     "input": [
      "#Variable declaration\n",
      "CR=7.8 #compression ratio for first case#\n",
      "E1=1.0-(1.0/CR)**0.258 #Energy efficiency corresponding to CR value 7.8#\n",
      "CR=9.5 #compreesion ratio for second case#\n",
      "\n",
      "#Calculation\n",
      "E2=1.0-(1.0/CR)**0.258 #Energy efficiency corresponding to CR value 9.5#\n",
      "IE=E2-E1 #Increase in efficiency#\n",
      "PIE=round(IE,2)*100.0/round(E2,3) #percentage of increase in efficiency#\n",
      "\n",
      "#Result\n",
      "print'\\nIncrease in efficiency=IE=%f',round(IE,2)\n",
      "print'\\nPercentage of increase in efficiency=PIE=%f',PIE,\"%\"\n",
      "print \"NOTE:Calculation mistake in book for % increase\""
     ],
     "language": "python",
     "metadata": {},
     "outputs": [
      {
       "output_type": "stream",
       "stream": "stdout",
       "text": [
        "\n",
        "Increase in efficiency=IE=%f 0.03\n",
        "\n",
        "Percentage of increase in efficiency=PIE=%f 6.80272108844 %\n",
        "NOTE:Calculation mistake in book for % increase\n"
       ]
      }
     ],
     "prompt_number": 2
    },
    {
     "cell_type": "heading",
     "level": 2,
     "metadata": {},
     "source": [
      "Example no:3,Page no:196"
     ]
    },
    {
     "cell_type": "code",
     "collapsed": false,
     "input": [
      "#Variable declaration\n",
      "C=3.0 #weight of carbon in 1kg of coal sample in Kimath.lograms#\n",
      "WO2=C*32/12.0 #weight of oxygen in carbon sample in Kimath.lograms#\n",
      "\n",
      "#Calculation\n",
      "WA=WO2*100/23.0 #weight of air in the carbon sample in Kimath.lograms#\n",
      "MA=WA/28.92 #mol of air in kimath.lograms#\n",
      "VA=MA*22.4 #Volume of air required in m3 air#\n",
      "\n",
      "#Result\n",
      "print'weight of air required for combustion of carbon=',round(WA,1),\"kg\"\n",
      "print'\\nVolume of air required=',round(VA,1),\"m**3 air\""
     ],
     "language": "python",
     "metadata": {},
     "outputs": [
      {
       "output_type": "stream",
       "stream": "stdout",
       "text": [
        "weight of air required for combustion of carbon= 34.8 kg\n",
        "\n",
        "Volume of air required= 26.9 m**3 air\n"
       ]
      }
     ],
     "prompt_number": 3
    },
    {
     "cell_type": "heading",
     "level": 2,
     "metadata": {},
     "source": [
      "Example no:4,Page no:196"
     ]
    },
    {
     "cell_type": "code",
     "collapsed": false,
     "input": [
      "#Variable declaration\n",
      "CO=0.46 #volume of carbon monoxide in 1kg of gas sample in m3#\n",
      "C2H2=0.020 #volume of C2H2 in 1kg of gas sample in m3#\n",
      "CH4=0.1 #volume of CH4 in 1kg of gas sample in m3#\n",
      "N2=0.01 #volume of nytrogen in 1kg of gas sample in m3#\n",
      "H2=0.40 #volume of hydrogen in 1kg of gas sample in m3#\n",
      "\n",
      "#Calculation\n",
      "VA=0.68*(100/21.0) #volume of air needed in m3#\n",
      "\n",
      "#Result\n",
      "print'\\nVolume of air needed=',round(VA,3),\"m**3\"\n",
      "\n",
      "\n"
     ],
     "language": "python",
     "metadata": {},
     "outputs": [
      {
       "output_type": "stream",
       "stream": "stdout",
       "text": [
        "\n",
        "Volume of air needed= 3.238 m**3\n"
       ]
      }
     ],
     "prompt_number": 4
    },
    {
     "cell_type": "heading",
     "level": 2,
     "metadata": {},
     "source": [
      "Example no:5,Page no:197"
     ]
    },
    {
     "cell_type": "code",
     "collapsed": false,
     "input": [
      "#Variable declaration\n",
      "C=624.0 #weight of carbon in 1kg of coal sample in grams#\n",
      "O=69.0 #weight of oxygen in 1kg of coal sample in grams#\n",
      "S=8.0 #weight of Sulphur in 1kg of coal sample in grams#\n",
      "N=12.0 #weight of nytrogen in 1kg of coal sample in grams#\n",
      "H=41.0 #weight of hydrogen in 1kg of coal sample in grams#\n",
      "CO2=129 #weight of CO2 in 1kg of coal sample in grams#\n",
      "CO=2.0 #weight of CO in 1kg of coal sample in grams#\n",
      "\n",
      "#Calculation\n",
      "MO=C*32/12.0+H*16/2.0+S*32/32.0-O #minimum weight of oxygen needed in grams#\n",
      "MA=MO*0.1/23 #minimum weight of air needed in kimath.lograms#\n",
      "\n",
      "WC=CO2*(12/44.0)+CO*(12/28.0) #weight of C in fuel gas/kg#\n",
      "WF=C/WC #Weight of fuel gas/kg of coal in g#\n",
      "O2=2*16/28.0 #O2 needed to convert CO to CO2 in Kg#\n",
      "RWO2=(61.0-O2)/1000.0 #remaining weight of O2/kg of fuel gas in Kg#\n",
      "WO2=WF*RWO2 #weight of O2 obtained by burning 1kg coal in kg#\n",
      "AR=WO2*100/23.0 #air required in kimath.lograms#\n",
      "WAS=MA+AR #weight of air actually supplied/kg coal burnt in kg#\n",
      "\n",
      "#Result\n",
      "print'(i)  Weight of air theoretically needed=',round(MA,3),\"kg\"\n",
      "print'\\n(ii)  Weight of C in fuel gas/kg=',round(WC ,2),\"g\"\n",
      "print'\\n     Weight of fuel gas/kg of coal=',round(WF,3),\"kg\"\n",
      "print'\\n(iii)  Weight of air actually supplied/kg coal burnt',round(WAS,1),\"kg air\"\n",
      "\n"
     ],
     "language": "python",
     "metadata": {},
     "outputs": [
      {
       "output_type": "stream",
       "stream": "stdout",
       "text": [
        "(i)  Weight of air theoretically needed= 8.396 kg\n",
        "\n",
        "(ii)  Weight of C in fuel gas/kg= 36.04 g\n",
        "\n",
        "     Weight of fuel gas/kg of coal= 17.315 kg\n",
        "\n",
        "(iii)  Weight of air actually supplied/kg coal burnt 12.9 kg air\n"
       ]
      }
     ],
     "prompt_number": 5
    },
    {
     "cell_type": "heading",
     "level": 2,
     "metadata": {},
     "source": [
      "Example no:6,Page no:202"
     ]
    },
    {
     "cell_type": "code",
     "collapsed": false,
     "input": [
      "#Variable declaration\n",
      "w=1080.0 #quantity of water in grams#\n",
      "W=150.0 #Water equivalent of calorimeter in grams#\n",
      "x=0.681 #quantity of fuel carried out in combustion in grams#\n",
      "dt=3.61 #rise in temperature of water in degree C#\n",
      "\n",
      "#Calculation\n",
      "Q=(w+W)*(dt)/x #calorific value of the fuel in cal per grams#\n",
      "\n",
      "#Result\n",
      "print'Calorific value of the fuel=',round(Q,1),\"cal/g =\",round(Q/1000,3),\"kcal/g\""
     ],
     "language": "python",
     "metadata": {},
     "outputs": [
      {
       "output_type": "stream",
       "stream": "stdout",
       "text": [
        "Calorific value of the fuel= 6520.3 cal/g = 6.52 kcal/g\n"
       ]
      }
     ],
     "prompt_number": 6
    },
    {
     "cell_type": "heading",
     "level": 2,
     "metadata": {},
     "source": [
      "Example no:7,Page no:202"
     ]
    },
    {
     "cell_type": "code",
     "collapsed": false,
     "input": [
      "#Variable declaration\n",
      "w=1080.0 #quantity of water taken in grams#\n",
      "W=150.0 #Water equivalent of calorimeter in grams#\n",
      "m=0.681 #weight of coal taken or mass of fuel in grams#\n",
      "dt=3.61 #rise in temperature of water in degree C#\n",
      "AC=50.0 #Acid correction in calories#\n",
      "FC=5.0 #Fuse wire correction in calories#\n",
      "CC=0.05 #cooling correction in calories#\n",
      "\n",
      "#Calculation\n",
      "GCV=((w+W)*(dt+CC)-(AC+FC))/m #Gross calorific value of the sample in cal per grams#\n",
      "\n",
      "#Result\n",
      "print'Gross Calorific value of the fuel=',round(GCV,1),\"cal/g =\",round(GCV/1000,3),\"kcal/g\"\n"
     ],
     "language": "python",
     "metadata": {},
     "outputs": [
      {
       "output_type": "stream",
       "stream": "stdout",
       "text": [
        "Gross Calorific value of the fuel= 6529.8 cal/g = 6.53 kcal/g\n"
       ]
      }
     ],
     "prompt_number": 7
    },
    {
     "cell_type": "heading",
     "level": 2,
     "metadata": {},
     "source": [
      "Example no:8,Page no:203"
     ]
    },
    {
     "cell_type": "code",
     "collapsed": false,
     "input": [
      "#Variable declaration\n",
      "C=90.2 #percentage of carbon#\n",
      "O=2.9 #percentage of oxygen#\n",
      "H=2.40 #percentage of hydrogen#\n",
      "\n",
      "#Calculation\n",
      "GCV=(8080.0*C+34400.0*(H-O/8.0))/100.0 #Gross calorific value of the sample in cal per grams#\n",
      "\n",
      "#Result\n",
      "print\"\\nGross Calorific value of the fuel=%.2e\"%GCV,\"cal/g\"\n"
     ],
     "language": "python",
     "metadata": {},
     "outputs": [
      {
       "output_type": "stream",
       "stream": "stdout",
       "text": [
        "\n",
        "Gross Calorific value of the fuel=7.99e+03 cal/g\n"
       ]
      }
     ],
     "prompt_number": 8
    },
    {
     "cell_type": "heading",
     "level": 2,
     "metadata": {},
     "source": [
      "Example no:9,Page no:210"
     ]
    },
    {
     "cell_type": "code",
     "collapsed": false,
     "input": [
      "#Variable declaration\n",
      "a=0.9 #absorptivity#\n",
      "e=0.04 #emissivity#\n",
      "P=750 #Sun light energy available in W/m2#\n",
      "Q=5.67*10**-8 #conductivity \n",
      "import math\n",
      "\n",
      "#Calculation\n",
      "T4=a*P/(Q*e) \n",
      "T=math.pow(T4,1.0/4.0)\n",
      "\n",
      "#Result\n",
      "print'Maximum temeperature that can be achieved=',round(T,1),\"K\" \n"
     ],
     "language": "python",
     "metadata": {},
     "outputs": [
      {
       "output_type": "stream",
       "stream": "stdout",
       "text": [
        "Maximum temeperature that can be achieved= 738.6 K\n"
       ]
      }
     ],
     "prompt_number": 9
    },
    {
     "cell_type": "heading",
     "level": 2,
     "metadata": {},
     "source": [
      "Example no:8.1,Page no:212"
     ]
    },
    {
     "cell_type": "code",
     "collapsed": false,
     "input": [
      "#Variable declaration\n",
      "w=1500 #quantity of water in grams#\n",
      "W=125 #Water equivalent of calorimeter in grams#\n",
      "x=1.050 #quantity of fuel carried out in combustion in grams#\n",
      "t1=25 #initial temperature of water in degree C#\n",
      "t2=27.8 #final temperature of water in degree C#\n",
      "\n",
      "#Calculation\n",
      "Q=(w+W)*(t2-t1)/x #calorific value of the fuel in cal per grams#\n",
      "\n",
      "#Result\n",
      "print'Calorific value of the fuel=',round(Q/1000,1),\"kcal/g\""
     ],
     "language": "python",
     "metadata": {},
     "outputs": [
      {
       "output_type": "stream",
       "stream": "stdout",
       "text": [
        "Calorific value of the fuel= 4.3 kcal/g\n"
       ]
      }
     ],
     "prompt_number": 10
    },
    {
     "cell_type": "heading",
     "level": 2,
     "metadata": {},
     "source": [
      "Example no:8.2,Page no:212"
     ]
    },
    {
     "cell_type": "code",
     "collapsed": false,
     "input": [
      "from scipy.optimize import fsolve\n",
      "\n",
      "#Variable declaration\n",
      "C=90.0 #percentage of carbon#\n",
      "O=3.0 #percentage of oxygen#\n",
      "S=0.5 #percentage of sulphur#\n",
      "N=0.5 #percentage of nytrogen#\n",
      "LCV=8500 #Law calorific value#\n",
      "#Calculation\n",
      "def f(H):\n",
      "    GCV1=LCV+(9*H/100.0)*587\n",
      "    GCV2=(8080.0*C+34500*(H-O/8.0)+2240*S)/100.0 #Gross calorific value of the sample in cal per grams#\n",
      "    return(GCV1-GCV2)\n",
      "h=fsolve(f,1)\n",
      "GCV=LCV+(9*h/100.0)*587\n",
      "\n",
      "#Result\n",
      "print'percentage of hydrogen=H=',round(h[0],1),\"%\"\n",
      "print'\\nGross Calorific value of the fuel=',round(GCV[0]),\"kcal/g\"\n"
     ],
     "language": "python",
     "metadata": {},
     "outputs": [
      {
       "output_type": "stream",
       "stream": "stdout",
       "text": [
        "percentage of hydrogen=H= 4.6 %\n",
        "\n",
        "Gross Calorific value of the fuel= 8743.0 kcal/g\n"
       ]
      }
     ],
     "prompt_number": 7
    },
    {
     "cell_type": "heading",
     "level": 2,
     "metadata": {},
     "source": [
      "Example no:8.3,Page no:213"
     ]
    },
    {
     "cell_type": "code",
     "collapsed": false,
     "input": [
      "#Variable declaration\n",
      "w=500.0 #quantity of water taken in grams#\n",
      "W=2000.0 #Water equivalent of calorimeter in grams#\n",
      "m=1.000 #weight of coal taken or mass of fuel in grams#\n",
      "t1=24.0 #initial temperature of water in degree C#\n",
      "t2=26.2 #final temperature of water in degree C#\n",
      "AC=50.0 #Acid correction in calories#\n",
      "FC=10.0 #Fuse wire correction in calories#\n",
      "CC=0.0 #cooling correction in calories#\n",
      "\n",
      "#Calculation\n",
      "GCV=((w+W)*(t2-t1+CC)-(AC+FC))/m #Gross calorific value of the sample in cal per grams#\n",
      "H=6.0 #percentage of hydrogen#\n",
      "C=93.0 #percentage of carbon#\n",
      "LCV=GCV-(9*H*580/100.0) #Net calorific value of the sample in cal per gram#\n",
      "\n",
      "#Result\n",
      "print'Gross Calorific value of the fuel=',GCV,\"cal/g\"\n",
      "print'Net calorific value of the sample=LCV=',LCV,\"cal/g\"\n",
      "print\"\\nNOTE:Calculation mistake in book,wrongly written as 5540 and 5226.8\""
     ],
     "language": "python",
     "metadata": {},
     "outputs": [
      {
       "output_type": "stream",
       "stream": "stdout",
       "text": [
        "Gross Calorific value of the fuel= 5440.0 cal/g\n",
        "Net calorific value of the sample=LCV= 5126.8 cal/g\n",
        "\n",
        "NOTE:Calculation mistake in book,wrongly written as 5540 and 5226.8\n"
       ]
      }
     ],
     "prompt_number": 13
    },
    {
     "cell_type": "heading",
     "level": 2,
     "metadata": {},
     "source": [
      "Example no:8.4,Page no:213"
     ]
    },
    {
     "cell_type": "code",
     "collapsed": false,
     "input": [
      "#Variable declaration\n",
      "WC=1.5642 #weight of coal sample in grams#\n",
      "WH110=1.5022 #weight of sample after heating at 110 degrees in grams#\n",
      "\n",
      "#Calculation\n",
      "m=WC-WH110 #weight of moisture in the sample#\n",
      "pm=m*100/WC #percentage of moisture in the sample#\n",
      "WH950=0.7628 #weight of sample after heating at 950 degrees in grams#\n",
      "vm=WH110-WH950 #volatile matter in grams#\n",
      "pvm=vm*100/WC #percentage of voltaile matter#\n",
      "ac=0.2140 #Ash content left in the last in grams#\n",
      "pac=ac*100/WC #percentage of Ash content laft#\n",
      "pfc=100-(pm+pvm-pac) #percentage of fixaed carbon#\n",
      "\n",
      "#Result\n",
      "print'\\npercentage of fixed carbon in the sample=',round(pfc,2),\"%\"\n"
     ],
     "language": "python",
     "metadata": {},
     "outputs": [
      {
       "output_type": "stream",
       "stream": "stdout",
       "text": [
        "\n",
        "percentage of fixed carbon in the sample= 62.45 %\n"
       ]
      }
     ],
     "prompt_number": 14
    },
    {
     "cell_type": "heading",
     "level": 2,
     "metadata": {},
     "source": [
      "Example no:8.5,Page no:214"
     ]
    },
    {
     "cell_type": "code",
     "collapsed": false,
     "input": [
      "#Variable declaration\n",
      "WBaSO4=0.0482 #weight of BaSO4 in grams#\n",
      "W=0.5248 #weight of sample in grams#\n",
      "\n",
      "#Calculation\n",
      "PS=32*WBaSO4*100/(233*W) #percentage of sulphur in the sample#\n",
      "\n",
      "#Result\n",
      "print'Percentage of sulphur in the sample=',round(PS,2),\"%\""
     ],
     "language": "python",
     "metadata": {},
     "outputs": [
      {
       "output_type": "stream",
       "stream": "stdout",
       "text": [
        "Percentage of sulphur in the sample= 1.26 %\n"
       ]
      }
     ],
     "prompt_number": 15
    },
    {
     "cell_type": "heading",
     "level": 2,
     "metadata": {},
     "source": [
      "Example no:8.6,Page no:215"
     ]
    },
    {
     "cell_type": "code",
     "collapsed": false,
     "input": [
      "#Variable declaration\n",
      "W=10 #weight of Water heated of calorimeter in Kimath.lograms#\n",
      "V=0.1 #volume of gas used in metrecube#\n",
      "t1=22 #inlet temperature of water in degree C#\n",
      "t2=30 #outlet temperature of water in degree C#\n",
      "#Calculation\n",
      "GCV=W*(t2-t1)/V #Gross calorific value of the sample in Kilocal per metre3#\n",
      "L=580 #latent heat of water in cal/g#\n",
      "Ws=0.025 #weight of steam condensed in grams#\n",
      "LCV=GCV-(Ws*L/V) #Net calorific value of the sample in Kcal per meter3#\n",
      "\n",
      "#Result\n",
      "print'Gross Calorific value of the fuel=',GCV ,\"Kcal/m3\"\n",
      "print'\\nNet calorific value of the sample=',LCV,\"Kcal/m3\""
     ],
     "language": "python",
     "metadata": {},
     "outputs": [
      {
       "output_type": "stream",
       "stream": "stdout",
       "text": [
        "Gross Calorific value of the fuel= 800.0 Kcal/m3\n",
        "\n",
        "Net calorific value of the sample= 655.0 Kcal/m3\n"
       ]
      }
     ],
     "prompt_number": 16
    },
    {
     "cell_type": "heading",
     "level": 2,
     "metadata": {},
     "source": [
      "Example no:8.7,Page no:215"
     ]
    },
    {
     "cell_type": "code",
     "collapsed": false,
     "input": [
      "#Variable declaration\n",
      "C=90.0 #percentage of carbon#\n",
      "O=3.0 #percentage of oxygen#\n",
      "S=0.5 #percentage of sulphur#\n",
      "N=0.5 #percentage of nytrogen#\n",
      "H=3.5 #percentage of hydrogen#\n",
      "H2O=0.1 #percentage of H2O#\n",
      "#Calculation\n",
      "AO=900*32.0/12.0+35*16.0/2.0+5*32.0/32.0 #amount of oxygen required in grams#\n",
      "AN=2655*100/23.0 #amount of air needed in grams#\n",
      "\n",
      "#Result\n",
      "print'\\nAmount of air needed=',round(AN/1000,3),\"kg\"\n"
     ],
     "language": "python",
     "metadata": {},
     "outputs": [
      {
       "output_type": "stream",
       "stream": "stdout",
       "text": [
        "\n",
        "Amount of air needed= 11.543 kg\n"
       ]
      }
     ],
     "prompt_number": 17
    },
    {
     "cell_type": "heading",
     "level": 2,
     "metadata": {},
     "source": [
      "Example no:8.8,Page no:216"
     ]
    },
    {
     "cell_type": "code",
     "collapsed": false,
     "input": [
      "#Variable declaration\n",
      "CH4=0.14 #volume of CH4 in 1m3 volume of gaseous fuel in m3#\n",
      "H2=0.32 #volume of H2 in 1m3 volume of gaseous fuel in m3#\n",
      "N2=0.40 #volume of N2 in 1m3 volume of gaseous fuel in m3#\n",
      "O2=0.14 #volume of O2 in 1m3 volume of gaseous fuel in m3#\n",
      "\n",
      "#Calculation\n",
      "V_ch4=O2*2\n",
      "v_H2=H2*0.5\n",
      "Total_O2=V_ch4+v_H2\n",
      "Net_O2=(Total_O2-O2)*1000     # Net O2 needed  in L\n",
      "V_req=Net_O2*(100/21.0)*(125/100.0)\n",
      "\n",
      "#Result\n",
      "print\"Volume of air required assuming 21% =\",round(V_req,1),\"L\""
     ],
     "language": "python",
     "metadata": {},
     "outputs": [
      {
       "output_type": "stream",
       "stream": "stdout",
       "text": [
        "Volume of air required assuming 21% = 1785.7 L\n"
       ]
      }
     ],
     "prompt_number": 18
    },
    {
     "cell_type": "heading",
     "level": 2,
     "metadata": {},
     "source": [
      "Example no:8.9,Page no:216"
     ]
    },
    {
     "cell_type": "code",
     "collapsed": false,
     "input": [
      "#Variable declaration\n",
      "C=750.0 #weight of carbon in 1kg of coal sample in grams#\n",
      "O=121.0 #weight of oxygen in 1kg of coal sample in grams#\n",
      "A=45.0 #weight of Ash in 1kg of coal sample in grams#\n",
      "N=32.0 #weight of nytrogen in 1kg of coal sample in grams#\n",
      "H=52.0 #weight of hydrogen in 1kg of coal sample in grams#\n",
      "\n",
      "#Calculation\n",
      "MO=C*32/12+H*16/2-O #minimum weight of oxygen needed in grams#\n",
      "MA=MO*100/23 #minimum weight of air needed in grams#\n",
      "GCV=(808*C+3450*(H-O/8))/100 #Gross calorific value of the sample in cal per grams#\n",
      "LCV=GCV-0.09*H*0.1*587 #law calorific value of the sample in cal/gram#\n",
      "\n",
      "\n",
      "#Result\n",
      "print'\\nGross Calorific value of the fuel=',round(GCV,2),\"kcal/g\"\n",
      "print'\\nNet calorific value of the sample',round(LCV),\"kcal/g\"\n"
     ],
     "language": "python",
     "metadata": {},
     "outputs": [
      {
       "output_type": "stream",
       "stream": "stdout",
       "text": [
        "\n",
        "Gross Calorific value of the fuel= 7332.19 kcal/g\n",
        "\n",
        "Net calorific value of the sample 7057.0 kcal/g\n"
       ]
      }
     ],
     "prompt_number": 19
    },
    {
     "cell_type": "heading",
     "level": 2,
     "metadata": {},
     "source": [
      "Example no:8.10,Page no:217"
     ]
    },
    {
     "cell_type": "code",
     "collapsed": false,
     "input": [
      "#Variable declaration\n",
      "C=810.0 #weight of carbon in 1kg of coal sample in grams#\n",
      "O=80.0 #weight of oxygen in 1kg of coal sample in grams#\n",
      "S=10.0 #weight of Sulphur in 1kg of coal sample in grams#\n",
      "N=10.0 #weight of nytrogen in 1kg of coal sample in grams#\n",
      "H=50.0 #weight of hydrogen in 1kg of coal sample in grams#\n",
      "\n",
      "#Calculation\n",
      "MO=C*32/12.0+H*16/2.0+S*32/32.0 #minimum weight of oxygen needed in grams#\n",
      "MA=2490*100/23.0 #minimum weight of air needed in grams#\n",
      "print'\\nminimum amount of air needed=',round(MA/1000,3) ,\"kg\"\n",
      "NF=10+MA*0.77 #weight of nitrogen present in the products in grams#\n",
      "WD=2970.0+20.0+8346.0 #total weight of dry products in grams#\n",
      "PCO2=2970*100/WD #percentage composition of CO2#\n",
      "print'\\nPercentage composition of CO2=',round(PCO2 ,2),\"%\"\n",
      "PSO2=20*100/WD #percentage composition of SO2#\n",
      "print'\\nPercentage composition of SO2=',round(PSO2 ,3),\"%\"\n",
      "PN2=8346*100/WD #percentage composition of N2#\n",
      "\n",
      "#Result\n",
      "print'\\nPercentage composition of N2=',round(PN2,2),\"%\"\n",
      "\n"
     ],
     "language": "python",
     "metadata": {},
     "outputs": [
      {
       "output_type": "stream",
       "stream": "stdout",
       "text": [
        "\n",
        "minimum amount of air needed= 10.826 kg\n",
        "\n",
        "Percentage composition of CO2= 26.2 %\n",
        "\n",
        "Percentage composition of SO2= 0.176 %\n",
        "\n",
        "Percentage composition of N2= 73.62 %\n"
       ]
      }
     ],
     "prompt_number": 20
    },
    {
     "cell_type": "heading",
     "level": 2,
     "metadata": {},
     "source": [
      "Example no:8.11,Page no:219"
     ]
    },
    {
     "cell_type": "code",
     "collapsed": false,
     "input": [
      "#Variable declaration\n",
      "CO=0.205 #volume of carbon monoxide in 1kg of gas sample in m3#\n",
      "CO2=0.060 #volume of CO2 in 1kg of gas sample in m3#\n",
      "CH4=0.042 #volume of CH4 in 1kg of gas sample in m3#\n",
      "N=0.501 #volume of nytrogen in 1kg of gas sample in m3#\n",
      "H2=0.194 #volume of hydrogen in 1kg of gas sample in m3#\n",
      "\n",
      "#Calculation\n",
      "VA=0.283*(100/21)*(130/100) #volume of air needed in m3#\n",
      "VDCO2=0.06+0.205*1+0.042*1 #volume of dry products containig CO2 formed in m3#\n",
      "VDN2=0.501+1.752*79/100 #volume of dry products containig N2 formed in m3#\n",
      "VDO2=1.755*21/100 #volume of dry products containig O2 formed in m3#\n",
      "TVD=VDCO2+VDN2+VDO2 #total volume of dry products formed in m3#\n",
      "PDCO2=VDCO2*100/TVD #percentage of dry products containig CO2 formed#\n",
      "PDN2=VDN2*100/TVD #percentage of dry products containig N2 formed#\n",
      "PDO2=VDO2*100/TVD #percentage of dry products containig O2 formed#\n",
      "\n",
      "\n",
      "#Result\n",
      "print'\\nPercentage of dry products containing CO2 formed=',round(PDCO2,2),\"%\"\n",
      "print'\\nPercentage of dry products containing N2 formed=',round(PDN2 ,2),\"%\"\n",
      "print'\\nPercentage of dry products containing O2 formed=',round(PDO2 ,2),\"%\"\n",
      "\n",
      "\n"
     ],
     "language": "python",
     "metadata": {},
     "outputs": [
      {
       "output_type": "stream",
       "stream": "stdout",
       "text": [
        "\n",
        "Percentage of dry products containing CO2 formed= 11.99 %\n",
        "\n",
        "Percentage of dry products containing N2 formed= 73.62 %\n",
        "\n",
        "Percentage of dry products containing O2 formed= 14.39 %\n"
       ]
      }
     ],
     "prompt_number": 21
    },
    {
     "cell_type": "heading",
     "level": 2,
     "metadata": {},
     "source": [
      "Example no:8.12,Page no:220"
     ]
    },
    {
     "cell_type": "code",
     "collapsed": false,
     "input": [
      "#Variable declaration\n",
      "C=780.0 #weight of carbon in 1kg of coal sample in grams#\n",
      "O=120.0 #weight of oxygen in 1kg of coal sample in grams#\n",
      "S=12.0 #weight of Sulphur in 1kg of coal sample in grams#\n",
      "N=21.0 #weight of nytrogen in 1kg of coal sample in grams#\n",
      "H=41.0 #weight of hydrogen in 1kg of coal sample in grams#\n",
      "\n",
      "#Calculation\n",
      "MO=C*32/12+H*16/2+S*32/32-O #minimum weight of oxygen needed in grams#\n",
      "MA=MO*100/23.0 #minimum weight of air needed in grams#\n",
      "\n",
      "#Result\n",
      "print'minimum weight of oxygen needed=',MO/1000,\"kg\"\n",
      "print'\\nminimum amount of air needed=',MA/1000,\"kg\"\n",
      "\n"
     ],
     "language": "python",
     "metadata": {},
     "outputs": [
      {
       "output_type": "stream",
       "stream": "stdout",
       "text": [
        "minimum weight of oxygen needed= 2.3 kg\n",
        "\n",
        "minimum amount of air needed= 10.0 kg\n"
       ]
      }
     ],
     "prompt_number": 22
    },
    {
     "cell_type": "heading",
     "level": 2,
     "metadata": {},
     "source": [
      "Example no:8.13,Page no:220"
     ]
    },
    {
     "cell_type": "code",
     "collapsed": false,
     "input": [
      "#Variable declaration\n",
      "C=1.5 #weight of carbon in 1kg of coal sample in Kimath.lograms#\n",
      "\n",
      "#Calculation\n",
      "WO2=C*32/12 #weight of oxygen in carbon sample in Kimath.lograms#\n",
      "WA=WO2*100/23 #weight of air in the carbon sample in Kimath.lograms#\n",
      "O2_4000=22.4/32.0*4000    #Volume in 4000 g oxygen\n",
      "V=100/21.0*O2_4000        #Volume of air with 21 % O2\n",
      "\n",
      "#Result\n",
      "print'\\nweight of air in the carbon sample=',round(WA,2),\"kg\" \n",
      "print \"Volume of air is\",round(V/1000,2),\"m^3\""
     ],
     "language": "python",
     "metadata": {},
     "outputs": [
      {
       "output_type": "stream",
       "stream": "stdout",
       "text": [
        "\n",
        "weight of air in the carbon sample= 17.39 kg\n",
        "Volume of air is 13.33 m^3\n"
       ]
      }
     ],
     "prompt_number": 23
    }
   ],
   "metadata": {}
  }
 ]
}