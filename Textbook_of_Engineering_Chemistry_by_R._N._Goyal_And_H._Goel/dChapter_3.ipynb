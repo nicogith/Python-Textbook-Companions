{
 "metadata": {
  "name": ""
 },
 "nbformat": 3,
 "nbformat_minor": 0,
 "worksheets": [
  {
   "cells": [
    {
     "cell_type": "heading",
     "level": 1,
     "metadata": {},
     "source": [
      "Chapter 3:Chemical Kinetics & Catalysis"
     ]
    },
    {
     "cell_type": "heading",
     "level": 2,
     "metadata": {},
     "source": [
      "Example no:1,Page no:69"
     ]
    },
    {
     "cell_type": "code",
     "collapsed": false,
     "input": [
      "import math\n",
      "from scipy.optimize import fsolve\n",
      "#Variable declaration\n",
      "A0=0.25      #[M]\n",
      "At=0.15      #[M]\n",
      "k=6.7*10**-4\n",
      "\n",
      "#Calculation\n",
      "def f(t):\n",
      "    x=math.log10(A0/At)-(k*t)/2.303\n",
      "    return(x)\n",
      "t=fsolve(f,1)\n",
      "\n",
      "#Result\n",
      "print\"Time taken to decrease concentration is%.3e\"%t[0],\"s (approx)\"\n",
      "print\"NOTE: Approximate value taken in book\"\n",
      "\n",
      "    "
     ],
     "language": "python",
     "metadata": {},
     "outputs": [
      {
       "output_type": "stream",
       "stream": "stdout",
       "text": [
        "Time taken to decrease concentration is7.626e+02 s (approx)\n",
        "NOTE: Approximate value taken in book\n"
       ]
      }
     ],
     "prompt_number": 1
    },
    {
     "cell_type": "heading",
     "level": 2,
     "metadata": {},
     "source": [
      "Example no:2,Page no:71"
     ]
    },
    {
     "cell_type": "code",
     "collapsed": false,
     "input": [
      "#Variable declaration\n",
      "#Initially:\n",
      "A=0.1         #Concentration of A\n",
      "B=0.1         #Concentration of B\n",
      "rate=5.5*10**-6     #Rate of reaction initial in M/s\n",
      "x=2             #exponent\n",
      "y=1             #exponent\n",
      "\n",
      "#Calculation\n",
      "order=x+y        #Reaction order\n",
      "k=rate/((A**x)*(B**y))        #Rate law constant in [M**2/s]\n",
      "\n",
      "#Result\n",
      "print\"The rate law is k=rate/(A**2)*(B)\"\n",
      "print\"\\nRate constant is %.2e\"%k,\"M**2/s\"\n"
     ],
     "language": "python",
     "metadata": {},
     "outputs": [
      {
       "output_type": "stream",
       "stream": "stdout",
       "text": [
        "The rate law is k=rate/(A**2)*(B)\n",
        "\n",
        "Rate constant is 5.50e-03 M**2/s\n"
       ]
      }
     ],
     "prompt_number": 2
    },
    {
     "cell_type": "heading",
     "level": 2,
     "metadata": {},
     "source": [
      "Example no:3,Page no:76"
     ]
    },
    {
     "cell_type": "code",
     "collapsed": false,
     "input": [
      "#Variable declaration\n",
      "\n",
      "T=[700.0,730.0,760.0,790.0]             #Temperature in [K]\n",
      "k=[0.011,0.035,0.195,0.343]      #rate constants in [L/mol s]\n",
      "import numpy \n",
      "onebyT=numpy.reciprocal(T)      #Reciprocal of temperature\n",
      "log_k=numpy.log10(k)             #log of k\n",
      "R=8.30*10**-3       #[kJ/kmol]\n",
      "\n",
      "#Calculation\n",
      "%matplotlib inline\n",
      "import matplotlib.pyplot as plt\n",
      "plt.plot(onebyT,log_k)\n",
      "plt.ylabel('$log k$')\n",
      "plt.xlabel('$1/T$')\n",
      "plt.title('1/T vs log k\\n')\n",
      "slope,intercept=np.polyfit(onebyT,log_k,1)\n",
      "print\"Slope is\",slope\n",
      "plt.show()\n",
      "slope=-9.9*10**3       #Slope given in book [K]\n",
      "E_star=slope*(-2.303*R)     #Activation energy in [kJ/mol]\n",
      "\n",
      "#Result\n",
      "print\"Activation energy of reaction is\",round(E_star,1),\"kJ/mol\"\n",
      "print\"NOTE that in book slope is approximated as 9.9*10**3 K\""
     ],
     "language": "python",
     "metadata": {},
     "outputs": [
      {
       "output_type": "stream",
       "stream": "stdout",
       "text": [
        "Populating the interactive namespace from numpy and matplotlib\n",
        "Slope is"
       ]
      },
      {
       "output_type": "stream",
       "stream": "stdout",
       "text": [
        " -9663.82327366\n"
       ]
      },
      {
       "metadata": {},
       "output_type": "display_data",
       "png": "[encoded data removed]",
       "text": [
        "<matplotlib.figure.Figure at 0x7a19438>"
       ]
      },
      {
       "output_type": "stream",
       "stream": "stdout",
       "text": [
        "Activation energy of reaction is 189.2 kJ/mol\n",
        "NOTE that in book slope is approximated as 9.9*10**3 K\n"
       ]
      }
     ],
     "prompt_number": 1
    },
    {
     "cell_type": "heading",
     "level": 2,
     "metadata": {},
     "source": [
      "Example no:3.2,Page no:86"
     ]
    },
    {
     "cell_type": "code",
     "collapsed": false,
     "input": [
      "#Variable declaration\n",
      "T1=10.0 #in min\n",
      "T2=20.0 #in min\n",
      "a=25.0 #amount of KMnO4 in ml at t=0min#\n",
      "a1=20.0 #amount of KMnO4 in ml at t=10min or a-x value at t=10#\n",
      "a2=15.7 #a-x value at t=20min#\n",
      "import math\n",
      "\n",
      "#Calculation\n",
      "k1=(2.303/T1)*math.log10(a/a1) #formula of rate constant for first order reaction#\n",
      "print\"At t=10min rate constant k=\",round(k1,5),\"/min\"\n",
      "k2=(2.303/T2)*math.log10(a/a2) #rate constant formula#\n",
      "\n",
      "#Result\n",
      "print\"\\nAt t=20min rate constant k=\",round(k2,5),\"/min\" \n",
      "print\"\\nNOTE:Calculation mistake in book\"\n",
      "print\"\\nIf we calculate the rate constant at other t values we will see that k values are almost constnat\""
     ],
     "language": "python",
     "metadata": {},
     "outputs": [
      {
       "output_type": "stream",
       "stream": "stdout",
       "text": [
        "At t=10min rate constant k= 0.02232 /min\n",
        "\n",
        "At t=20min rate constant k= 0.02326 /min\n",
        "\n",
        "NOTE:Calculation mistake in book\n",
        "\n",
        "If we calculate the rate constant at other t values we will see that k values are almost constnat\n"
       ]
      }
     ],
     "prompt_number": 2
    },
    {
     "cell_type": "heading",
     "level": 2,
     "metadata": {},
     "source": [
      "Example no:3.3,Page no:87"
     ]
    },
    {
     "cell_type": "code",
     "collapsed": false,
     "input": [
      "#Variable declaration\n",
      "T=40.5 #in min#\n",
      "R1=25.0 #percentage of decomposed reactant#\n",
      "import math\n",
      "\n",
      "#Calculation\n",
      "R2=100.0-R1 #percentage of left out reactant which is a-x value#\n",
      "R3=100.0/R2 #value of a/(a-x)#\n",
      "K=(2.303/T)*math.log10(R3) #formula of rate constant for first order reaction#\n",
      "\n",
      "#Result\n",
      "print\"The rate constant of the reaction is %.2e\"%K,\"/min\" \n"
     ],
     "language": "python",
     "metadata": {},
     "outputs": [
      {
       "output_type": "stream",
       "stream": "stdout",
       "text": [
        "The rate constant of the reaction is 7.10e-03 /min\n"
       ]
      }
     ],
     "prompt_number": 3
    },
    {
     "cell_type": "heading",
     "level": 2,
     "metadata": {},
     "source": [
      "Example no:3.4,Page no:87"
     ]
    },
    {
     "cell_type": "code",
     "collapsed": false,
     "input": [
      "#Variable declaration\n",
      "pi=0.0 #pressure of N2 at t=0#\n",
      "t1=2.0 \n",
      "t2=8.0 \n",
      "t3=16.0 \n",
      "t4=24.0 \n",
      "t5=50.0 \n",
      "pf=34.0 #pressure of N2 at infinity#\n",
      "p1=1.6 #pressure of N2 at t=2min#\n",
      "p2=6.2 #pressure of N2 at t=8min#\n",
      "p3=11.2 #pressure Of N2 at t=16min#\n",
      "p4=15.5 #pressure of N2 at t=24min#\n",
      "p5=24.4 #pressure of N2 at t=50min#\n",
      "import math\n",
      "\n",
      "#Calculation\n",
      "a=pf-pi #value of a#\n",
      "a1=pf-p1 #a-x value at t=2min#\n",
      "a2=pf-p2 #a-x value at t=8min#\n",
      "a3=pf-p3 #a-x value at t=16min#\n",
      "a4=pf-p4 #a-x value at t=24min#\n",
      "a5=pf-p5 #a-x value at t=50min#\n",
      "k1=(1/t1)*math.log(a/a1) #rate constant at t=2min#\n",
      "k2=(1/t2)*math.log(a/a2) #rate constant at t=8min#\n",
      "k3=(1/t3)*math.log(a/a3) #rate constant at t=16min#\n",
      "k4=(1/t4)*math.log(a/a4) #rate constant at t=24min#\n",
      "k5=(1/t5)*math.log(a/a5) #rate constant at t=50min#\n",
      "k=(k1+k2+k3+k4+k5)/5 \n",
      "\n",
      "#Result\n",
      "print\"Time(min):   2\\t\\t8\\t\\t16\\t\\t24\\t\\t50\"\n",
      "print\"k1 per min  %.2e\\t\"%k1,\"%.2e\\t\"%k2,\"%.2e\\t\"%k3,\"%.3e\\t\"%k4,\"%.2e\"%k5\n",
      "print\"\\nAverage rate constant is %.3e\"%k,\"min^-1\""
     ],
     "language": "python",
     "metadata": {},
     "outputs": [
      {
       "output_type": "stream",
       "stream": "stdout",
       "text": [
        "Time(min):   2\t\t8\t\t16\t\t24\t\t50\n",
        "k1 per min  2.41e-02\t2.52e-02\t2.50e-02\t2.536e-02\t2.53e-02\n",
        "\n",
        "Average rate constant is 2.498e-02 min^-1\n"
       ]
      }
     ],
     "prompt_number": 4
    },
    {
     "cell_type": "heading",
     "level": 1,
     "metadata": {},
     "source": [
      "Example no:3.5.,Page no:88"
     ]
    },
    {
     "cell_type": "code",
     "collapsed": false,
     "input": [
      "#Variable declaration\n",
      "t1=0 \n",
      "t2=4.89 \n",
      "t3=10.07 \n",
      "t4=23.66 \n",
      "v1=47.65 #ml of alkali used  at t=0min or a value#\n",
      "v2=38.92 #ml of alkali used or a-x value at t=4.89min#\n",
      "v3=32.62 #ml of alkali used or a-x value at t=10.07min#\n",
      "v4=22.58 #ml of alkali used or a-x value at t=23.66min#\n",
      "\n",
      "#Calculation\n",
      "x2=v1-v2 #x value at t=4.89min#\n",
      "x3=v1-v3 #x value at t=10.07min#\n",
      "x4=v1-v4 #x value at t=23.66min#\n",
      "k22=(1/t2)*(x2/(v1*v2)) #rate constant for second order equation#\n",
      "\n",
      "#Result\n",
      "print\"Rate constant k2 value at t=\",t2,\"min is \",round(k22,6),\"/min\"\n",
      "k23=(1/t3)*(x3/(v1*v3)) #rate constant for second order equation#\n",
      "print\"\\nRate constant k2 value at t=\",t3,\"min is \",round(k23,6),\"/min\"\n",
      "k24=(1/t4)*(x4/(v1*v4)) #rate constant for second order equation#\n",
      "print\"\\nRate constant k2 value at t=\",t4,\"min is\",round(k24,5),\"/min\" \n",
      "print\"\\nAlmost constant values of k2 indicate that reaction is second order\""
     ],
     "language": "python",
     "metadata": {},
     "outputs": [
      {
       "output_type": "stream",
       "stream": "stdout",
       "text": [
        "Rate constant k2 value at t= 4.89 min is  0.000963 /min\n",
        "\n",
        "Rate constant k2 value at t= 10.07 min is  0.00096 /min\n",
        "\n",
        "Rate constant k2 value at t= 23.66 min is 0.00098 /min\n",
        "\n",
        "Almost constant values of k2 indicate that reaction is second order\n"
       ]
      }
     ],
     "prompt_number": 5
    },
    {
     "cell_type": "heading",
     "level": 2,
     "metadata": {},
     "source": [
      "Example no:3.6,Page no:88"
     ]
    },
    {
     "cell_type": "code",
     "collapsed": false,
     "input": [
      "#Variable declaration\n",
      "t=1590 #half life of given radio active element in years#\n",
      "\n",
      "#Calculation\n",
      "k=0.693/t #formula of decay constant for first order reactions#\n",
      "\n",
      "#Result\n",
      "print\"the value of decay constant is \",round(k,6),\"/year\""
     ],
     "language": "python",
     "metadata": {},
     "outputs": [
      {
       "output_type": "stream",
       "stream": "stdout",
       "text": [
        "the value of decay constant is  0.000436 /year\n"
       ]
      }
     ],
     "prompt_number": 6
    },
    {
     "cell_type": "heading",
     "level": 2,
     "metadata": {},
     "source": [
      "Example no:3.8,Page no:89"
     ]
    },
    {
     "cell_type": "code",
     "collapsed": false,
     "input": [
      "#Variable declaration\n",
      "t1=5.0 \n",
      "t2=15.0 \n",
      "t3=25.0 \n",
      "t4=45.0 \n",
      "a=37.0 #volume of KMnO4 in cm**3 at t=0 or value of a#\n",
      "a1=29.8 #volume of KMnO4 in cm**3 or a-x value at t=5min#\n",
      "a2=19.6 #volume of KMnO4 in cm**3 or a-x value at t=15min#\n",
      "a3=12.3 #volume of KMnO4 in cm**3 or a-x value at t=25min#\n",
      "a4=5.0 #volume of KMnO4 in cm**3 or a-x value at t=45min#\n",
      "import math\n",
      "\n",
      "#Calculation\n",
      "k1=(2.303/t1)*math.log10(a/a1) \n",
      "print\"\\nRate constant value at t=5min is %.3e\"%k1,\"min**-1\"\n",
      "k2=(2.303/t2)*math.log10(a/a2) \n",
      "print\"\\nRate constant value at t=15min is %.3e\"%k2,\"min**-1\"\n",
      "k3=(2.303/t3)*math.log10(a/a3) \n",
      "print\"\\nRate constant value at t=25min is %.3e\"%k3,\"min**-1\"\n",
      "k4=(2.303/t4)*math.log10(a/a4) \n",
      "print\"\\nRate constant value at t=45min is %.3e\"%k4,\"min**-1\"\n",
      "print\"\\nAs the different values of k are nearly same,the reaction is of first oredr.\"\n",
      "k=(k1+k2+k3+k4)/4.0 \n",
      "\n",
      "#Result\n",
      "print\"\\nThe average value of k is %.3e\"%k,\"min**-1\""
     ],
     "language": "python",
     "metadata": {},
     "outputs": [
      {
       "output_type": "stream",
       "stream": "stdout",
       "text": [
        "\n",
        "Rate constant value at t=5min is 4.329e-02 min**-1\n",
        "\n",
        "Rate constant value at t=15min is 4.237e-02 min**-1\n",
        "\n",
        "Rate constant value at t=25min is 4.406e-02 min**-1\n",
        "\n",
        "Rate constant value at t=45min is 4.449e-02 min**-1\n",
        "\n",
        "As the different values of k are nearly same,the reaction is of first oredr.\n",
        "\n",
        "The average value of k is 4.355e-02 min**-1\n"
       ]
      }
     ],
     "prompt_number": 7
    },
    {
     "cell_type": "heading",
     "level": 2,
     "metadata": {},
     "source": [
      "Example no:3.9,Page no:89"
     ]
    },
    {
     "cell_type": "code",
     "collapsed": false,
     "input": [
      "#Variable declaration\n",
      "k=6.0*10**-4 #rate constant of first order decomposition of N2O5 in CCl4 in /min#\n",
      "\n",
      "#Calculation\n",
      "#Part-a#\n",
      "k1=k/60.0 \n",
      "#Part-b#\n",
      "t=0.693/k \n",
      "\n",
      "#Result\n",
      "print\"(a) Rate constant in terms of seconds is \",k1,\"/s\"\n",
      "print\"\\n(b) Half life of the reaction is %.2e\"%t,\"min\"\n",
      "print\"NOTE:Slight rounding off in book in final answer\""
     ],
     "language": "python",
     "metadata": {},
     "outputs": [
      {
       "output_type": "stream",
       "stream": "stdout",
       "text": [
        "(a) Rate constant in terms of seconds is  1e-05 /s\n",
        "\n",
        "(b) Half life of the reaction is 1.15e+03 min\n",
        "NOTE:Slight rounding off in book in final answer\n"
       ]
      }
     ],
     "prompt_number": 8
    },
    {
     "cell_type": "heading",
     "level": 2,
     "metadata": {},
     "source": [
      "Example no:3.10,Page no:90"
     ]
    },
    {
     "cell_type": "code",
     "collapsed": false,
     "input": [
      "#Variable declaration\n",
      "t1=40.0 \n",
      "t2=80.0 \n",
      "t3=120.0 \n",
      "t4=160.0 \n",
      "t5=240.0 \n",
      "vi=0.0 #volume of oxygen collected at constant pressure in ml at t=0#\n",
      "v1=15.6 #volume of oxygen collected at constant pressure in ml at t=40#\n",
      "v2=27.6 #volume of oxygen collected at constant pressure in ml at t=80#\n",
      "v3=37.7 #volume of oxygen collected at constant pressure in ml at t=120#\n",
      "v4=45.8 #volume of oxygen collected at constant pressure in ml at t=160#\n",
      "v5=58.3 #volume of oxygen collected at constant pressure in ml at t=200#\n",
      "vf=84.6 #volume of oxygen collected at constant pressure in ml at t=infinity#\n",
      "import math\n",
      "\n",
      "#Calculation\n",
      "a=vf-vi #the initial concentration of N2O5 in solution i.e a#\n",
      "a1=vf-v1 #a-x value at t=40min#\n",
      "a2=vf-v2 #a-x value at t=80min#\n",
      "a3=vf-v3 #a-x value at t=120min#\n",
      "a4=vf-v4 #a-x value at t=160min#\n",
      "a5=vf-v5 #a-x value at t=200min#\n",
      "k1=(1.0/t1)*math.log(a/a1) \n",
      "k2=(1.0/t2)*math.log(a/a2) \n",
      "k3=(1.0/t3)*math.log(a/a3) \n",
      "k4=(1.0/t4)*math.log(a/a4) \n",
      "k5=(1.0/t5)*math.log(a/a5) \n",
      "\n",
      "#Result\n",
      "print\"Time(min):   40\\t\\t80\\t\\t120\\t\\t160\\t\\t240\"\n",
      "print\"k1 per min  %.2e\\t\"%k1,\"%.2e\\t\"%k2,\"%.2e\\t\"%k3,\"%.3e\\t\"%k4,\"%.2e\"%k5\n",
      "print\"\\nNOTE:Calculation mistake in book in calculating a4,it should be 38.8\"\n",
      "print\"\\nAs k value is fairly constant the reaction is first order\""
     ],
     "language": "python",
     "metadata": {},
     "outputs": [
      {
       "output_type": "stream",
       "stream": "stdout",
       "text": [
        "Time(min):   40\t\t80\t\t120\t\t160\t\t240\n",
        "k1 per min  5.10e-03\t4.94e-03\t4.92e-03\t4.872e-03\t4.87e-03\n",
        "\n",
        "NOTE:Calculation mistake in book in calculating a4,it should be 38.8\n",
        "\n",
        "As k value is fairly constant the reaction is first order\n"
       ]
      }
     ],
     "prompt_number": 9
    },
    {
     "cell_type": "heading",
     "level": 2,
     "metadata": {},
     "source": [
      "Example no:3.11,Page no:90"
     ]
    },
    {
     "cell_type": "code",
     "collapsed": false,
     "input": [
      "#Variable declaration\n",
      "t1=120.0 #time in sec#\n",
      "t2=240.0 \n",
      "t3=530.0 \n",
      "t4=600.0 \n",
      "a=0.05 #initial concentration#\n",
      "x1=32.95 #extent of reaction or x value at t=120sce#\n",
      "x2=48.8 #extent of reaction or x value at t=240sce#\n",
      "x3=69.0 #extent of reaction or x value at t=530sce#\n",
      "x4=70.35 #extent of reaction or x value at t=600sce#\n",
      "a1=100.0-x1 #extent of left out or a-x value at t=120sec#\n",
      "a2=100.0-x2 #extent of left out or a-x value at t=240sec#\n",
      "a3=100.0-x3 #extent of left out or a-x value at t=530sec#\n",
      "a4=100.0-x4 #extent of left out or a-x value at t=600sec#\n",
      "\n",
      "#Calculation\n",
      "k1=(1.0/(a*t1))*(x1/a1) \n",
      "print\"Rate constant value at t=120sec is %.2e\"%k1,\"dm**3 mol**-1.s**-1\"\n",
      "k2=(1.0/(a*t2))*(x2/a2) \n",
      "print\"\\nRate constant value at t=240sec is %.2e\"%k2,\"dm**3 mol**-1.s**-1\"\n",
      "k3=(1.0/(a*t3))*(x3/a3) \n",
      "print\"\\nRate constant value at t=530sec is %.2e\"%k3,\"dm**3 mol**-1.s**-1\"\n",
      "k4=(1.0/(a*t4))*(x4/a4) \n",
      "print\"\\nRate constant value at t=600sec is %.2e\"%k4,\"dm**3 mol**-1.s**-1\"\n",
      "k=(k1+k2+k3+k4)/4.0 \n",
      "\n",
      "#Result\n",
      "print\"\\n\\nAverage value of rate constant is %.1e\"%k,\"dm**3 mol**-1.s**-1\"\n"
     ],
     "language": "python",
     "metadata": {},
     "outputs": [
      {
       "output_type": "stream",
       "stream": "stdout",
       "text": [
        "Rate constant value at t=120sec is 8.19e-02 dm**3 mol**-1.s**-1\n",
        "\n",
        "Rate constant value at t=240sec is 7.94e-02 dm**3 mol**-1.s**-1\n",
        "\n",
        "Rate constant value at t=530sec is 8.40e-02 dm**3 mol**-1.s**-1\n",
        "\n",
        "Rate constant value at t=600sec is 7.91e-02 dm**3 mol**-1.s**-1\n",
        "\n",
        "\n",
        "Average value of rate constant is 8.1e-02 dm**3 mol**-1.s**-1\n"
       ]
      }
     ],
     "prompt_number": 10
    },
    {
     "cell_type": "heading",
     "level": 2,
     "metadata": {},
     "source": [
      "Example no:3.13,Page no:91"
     ]
    },
    {
     "cell_type": "code",
     "collapsed": false,
     "input": [
      "#Variable declaration\n",
      "t1=75.0 #time in min#\n",
      "t2=119.0 \n",
      "t3=183.0 \n",
      "vi=9.62 #volume of alkali used in ml at t=0min#\n",
      "v1=12.10 #volume of alkali used in ml at t=75min#\n",
      "v2=13.10 #volume of alkali used in ml at t=119min#\n",
      "v3=14.75 #volume of alkali used in ml at t=183min#\n",
      "vf=21.05 #volume of alkali used in ml at t=infinity#\n",
      "import math\n",
      "\n",
      "#Calculation\n",
      "k1=(1.0/t1)*math.log((vf-vi)/(vf-v1)) #formula of rate constant for first order reactions#\n",
      "k2=(1.0/t2)*math.log((vf-vi)/(vf-v2)) \n",
      "k3=(1.0/t3)*math.log((vf-vi)/(vf-v3)) \n",
      "\n",
      "#Result\n",
      "print\"\\nRate constant value at t=75min is \",round(k1,6),\"min**-1\"\n",
      "print\"\\nRate constant value at t=119min is \",round(k2,6),\"min**-1\"\n",
      "print\"\\nRate constant value at t=183min is \",round(k3,6),\"min**-1\"\n",
      "\n",
      "print\"\\nNOTE:Slight Calculation mistake in book in k calculation above\" \n",
      "print\"\\nAn almost constant value of k shows that the hydrolysis of ethyl acetateis a first order reaction\"\n",
      "\n"
     ],
     "language": "python",
     "metadata": {},
     "outputs": [
      {
       "output_type": "stream",
       "stream": "stdout",
       "text": [
        "\n",
        "Rate constant value at t=75min is  0.003261 min**-1\n",
        "\n",
        "Rate constant value at t=119min is  0.003051 min**-1\n",
        "\n",
        "Rate constant value at t=183min is  0.003255 min**-1\n",
        "\n",
        "NOTE:Slight Calculation mistake in book in k calculation above\n",
        "\n",
        "An almost constant value of k shows that the hydrolysis of ethyl acetateis a first order reaction\n"
       ]
      }
     ],
     "prompt_number": 11
    },
    {
     "cell_type": "heading",
     "level": 2,
     "metadata": {},
     "source": [
      "Example no:3.14,Page no:92"
     ]
    },
    {
     "cell_type": "code",
     "collapsed": false,
     "input": [
      "#Variable declaration\n",
      "t=15 #the half time of given first order reaction in min#\n",
      "k=0.693/t #formula of rate constant#\n",
      "print\"The rate constant value of the given first order reaction is  is\",k,\"min**-1\"\n",
      "a=100 #percentage of initial concentration#\n",
      "x=80 #percentage of completed reaction#\n",
      "import math\n",
      "\n",
      "#Calculation\n",
      "a1=a-x #percentage of left out concentration#\n",
      "t1=(2.303/k)*(math.log10(a/a1)) #formula to find time taken#\n",
      "t2=t1*60 \n",
      "\n",
      "#Result\n",
      "print\"\\nThe time taken to complete 80 percentage of the reaction is  \",round(t1,2),\"min or\",round(t2),\"sec\""
     ],
     "language": "python",
     "metadata": {},
     "outputs": [
      {
       "output_type": "stream",
       "stream": "stdout",
       "text": [
        "The rate constant value of the given first order reaction is  is 0.0462 min**-1\n",
        "\n",
        "The time taken to complete 80 percentage of the reaction is   34.84 min or 2091.0 sec\n"
       ]
      }
     ],
     "prompt_number": 12
    },
    {
     "cell_type": "heading",
     "level": 2,
     "metadata": {},
     "source": [
      "Example no:3.15,Page no:92"
     ]
    },
    {
     "cell_type": "code",
     "collapsed": false,
     "input": [
      "#Variable declaration\n",
      "t1=6.18 #time in min#\n",
      "t2=18.0 \n",
      "t3=27.05 \n",
      "ri=24.09 #rotation in degrees when t=0min#\n",
      "r1=21.4 #rotation in degrees when t=6.18min#\n",
      "r2=17.7 #rotation in degrees when t=18min#\n",
      "r3=15.0 #rotation in degrees when t=27.05min#\n",
      "rf=-10.74 #rotation in degrees when t=infinity#\n",
      "import math\n",
      "\n",
      "#Calculation\n",
      "a=ri-rf #a value#\n",
      "a1=r1-rf #a-x value at t=6.18min#\n",
      "a2=r2-rf #a-x value at t=18min#\n",
      "a3=r3-rf #a-x value at t=27.05min#\n",
      "k1=(2.303/t1)*math.log10(a/a1) \n",
      "k2=(2.303/t2)*math.log10(a/a2) \n",
      "k3=(2.303/t3)*math.log10(a/a3) \n",
      "\n",
      "#Result\n",
      "print\"Rate constant value at t=\",t1,\"min %.3e\"%k1,\"min**-1\"\n",
      "print\"\\nRate constant value at t=\",t2,\"min %.3e\"%k2,\"min**-1\"\n",
      "print\"\\nRate constant value at t=\",t3,\"min %.3e\"%k3,\"min**-1\"\n",
      "\n",
      "print\"\\nNOTE:Again,Calculation mistake in book\"\n",
      "print\"\\nSince rate constant values are nearly same,hence reaction is of first order\"\n"
     ],
     "language": "python",
     "metadata": {},
     "outputs": [
      {
       "output_type": "stream",
       "stream": "stdout",
       "text": [
        "Rate constant value at t= 6.18 min 1.301e-02 min**-1\n",
        "\n",
        "Rate constant value at t= 18.0 min 1.126e-02 min**-1\n",
        "\n",
        "Rate constant value at t= 27.05 min 1.118e-02 min**-1\n",
        "\n",
        "NOTE:Again,Calculation mistake in book\n",
        "\n",
        "Since rate constant values are nearly same,hence reaction is of first order\n"
       ]
      }
     ],
     "prompt_number": 13
    },
    {
     "cell_type": "heading",
     "level": 2,
     "metadata": {},
     "source": [
      "Example no:3.16,Page no:93"
     ]
    },
    {
     "cell_type": "code",
     "collapsed": false,
     "input": [
      "#Variable declaration\n",
      "t1=10.0#time in min#\n",
      "t2=20.0 \n",
      "t3=30.0 \n",
      "t4=40.0 \n",
      "ri=32.4 #rotation in degrees when t=0min#\n",
      "r1=28.8 #rotation in degrees when t=10min#\n",
      "r2=25.5 #rotation in degrees when t=20min#\n",
      "r3=22.4 #rotation in degrees when t=30min#\n",
      "r4=19.6 #rotation in degrees when t=40min#\n",
      "rf=-11.1 #rotation in degrees when t=0min#\n",
      "import math\n",
      "\n",
      "#Calculation\n",
      "a=ri-rf #a value#\n",
      "a1=r1-rf #a-x value at t=10min#\n",
      "a2=r2-rf #a-x value at t=20min#\n",
      "a3=r3-rf #a-x value at t=30min#\n",
      "a4=r4-rf #a-x value at t=40min#\n",
      "k1=(1.0/t1)*math.log(a/a1) \n",
      "k2=(1.0/t2)*math.log(a/a2) \n",
      "k3=(1.0/t3)*math.log(a/a3) \n",
      "k4=(1.0/t4)*math.log(a/a4) \n",
      "\n",
      "#Result\n",
      "print\"Rate constant value at t=10min \",round(k1,6),\"min**-1\"\n",
      "print\"\\nRate constant value at t=20min \",round(k2,6),\"min**-1\"\n",
      "print\"\\nRate constant value at t=30min \",round(k3,6),\"min**-1\"\n",
      "print\"\\nRate constant value at t=40min \",round(k4,6),\"min**-1\"\n",
      "print\"\\nSince rate constant values are nearly same,hence inversion of sucrose is of first order\""
     ],
     "language": "python",
     "metadata": {},
     "outputs": [
      {
       "output_type": "stream",
       "stream": "stdout",
       "text": [
        "Rate constant value at t=10min  0.008638 min**-1\n",
        "\n",
        "Rate constant value at t=20min  0.008636 min**-1\n",
        "\n",
        "Rate constant value at t=30min  0.008707 min**-1\n",
        "\n",
        "Rate constant value at t=40min  0.008712 min**-1\n",
        "\n",
        "Since rate constant values are nearly same,hence inversion of sucrose is of first order\n"
       ]
      }
     ],
     "prompt_number": 14
    },
    {
     "cell_type": "heading",
     "level": 2,
     "metadata": {},
     "source": [
      "Example no:3.17,Page no:93"
     ]
    },
    {
     "cell_type": "code",
     "collapsed": false,
     "input": [
      "#Variable declaration\n",
      "T1=27.0 #initial temparature in C#\n",
      "T1=T1+273 #in kelvin#\n",
      "Tr=10.0 #rise in temparature#\n",
      "T2=T1+Tr #final temparature in kelvin#\n",
      "r=2.0 #ratio of final to initial rates of chemical reactions(k1/k2)#\n",
      "R=8.314 #value of constant R in J/K.mol#\n",
      "import math\n",
      "\n",
      "#Calculation\n",
      "E=math.log(r)*R*305*295/Tr #from equation k=A*e**(-E/R*T)#\n",
      "\n",
      "#Result\n",
      "print\"Activation energy of the reaction is \",round(E/1000,2),\"kJ/mol\"\n"
     ],
     "language": "python",
     "metadata": {},
     "outputs": [
      {
       "output_type": "stream",
       "stream": "stdout",
       "text": [
        "Activation energy of the reaction is  51.85 kJ/mol\n"
       ]
      }
     ],
     "prompt_number": 15
    },
    {
     "cell_type": "heading",
     "level": 2,
     "metadata": {},
     "source": [
      "Example no:3.18,Page no:94"
     ]
    },
    {
     "cell_type": "code",
     "collapsed": false,
     "input": [
      "#Variable declaration\n",
      "k=4.5*10**3 #value of k in /sec of a first order reaction at 1C#\n",
      "E=58*10**3 #activation energy in J/mol#\n",
      "T=1 #temperature in C#\n",
      "T1=T+273 #in kelvin#\n",
      "R=8.314 #value of constant R in J/K.mol#\n",
      "import math\n",
      "\n",
      "#Calculation\n",
      "lA=math.log10(k)+(E/(2.303*R*T1)) \n",
      "k1=10**4 #value of k in /sec at some temperature#\n",
      "a=math.log10(k1) \n",
      "b=lA-a \n",
      "T2=E/(2.303*R*b) \n",
      "\n",
      "#Result\n",
      "print\"The temperature at which k=1*10**4/sec is\",round(T2),\"K\""
     ],
     "language": "python",
     "metadata": {},
     "outputs": [
      {
       "output_type": "stream",
       "stream": "stdout",
       "text": [
        "The temperature at which k=1*10**4/sec is 283.0 K\n"
       ]
      }
     ],
     "prompt_number": 16
    },
    {
     "cell_type": "heading",
     "level": 2,
     "metadata": {},
     "source": [
      "Example no:3.19,Page no:94"
     ]
    },
    {
     "cell_type": "code",
     "collapsed": false,
     "input": [
      "#Variable declaration\n",
      "T1=300.0 #temperature in kelvin#\n",
      "t1=20.0 #half time of chemical reaction in min at T=300K#\n",
      "T2=350.0 #temperature in kelvin#\n",
      "t2=5.0 #half time of chemical reaction in min at T=350K#\n",
      "import math\n",
      "\n",
      "#Calculation\n",
      "k1=0.6932/t1 \n",
      "k2=0.6932/t2 \n",
      "l=math.log10(k2/k1) \n",
      "R=8.314 #value of constant R in J/K.mol#\n",
      "E=l*2.303*R*T1*T2/(T2-T1) \n",
      "\n",
      "#Result\n",
      "print\"Rate constant of the reaction at T=300k is \",k1,\"/min\" \n",
      "print\"\\nRate constant of the reaction at T=350k is \",k2,\"/min\"\n",
      "print\"\\nActivation energy of the reaction is\",E,\"J/mol OR\",round(E/1000,1),\"kJ/mol\""
     ],
     "language": "python",
     "metadata": {},
     "outputs": [
      {
       "output_type": "stream",
       "stream": "stdout",
       "text": [
        "Rate constant of the reaction at T=300k is  0.03466 /min\n",
        "\n",
        "Rate constant of the reaction at T=350k is  0.13864 /min\n",
        "\n",
        "Activation energy of the reaction is 24208.2291076 J/mol OR 24.2 kJ/mol\n"
       ]
      }
     ],
     "prompt_number": 17
    },
    {
     "cell_type": "heading",
     "level": 2,
     "metadata": {},
     "source": [
      "Example no:3.20,Page no:94"
     ]
    },
    {
     "cell_type": "code",
     "collapsed": false,
     "input": [
      "#Variable declaration\n",
      "R=8.314 #value of constant R in J/K.mol#\n",
      "H=1.25*10**4 #value of E/(2.303*R).It is given in the question#\n",
      "\n",
      "#Calculation\n",
      "\n",
      "#Part-i#\n",
      "E=H*2.303*R \n",
      "la=14.34 #value of math.log(a)#\n",
      "T=670 #temperature in kelvin#\n",
      "#Part-ii#\n",
      "lk=la-(H/T) \n",
      "k=10**lk \n",
      "\n",
      "#Result\n",
      "print\"(i)  Activation energy is  %.2e\"%E,\"J mol**-1 or\",round(E/1000),\"kJ mol**-1\"\n",
      "print\"\\n(ii)  Rate constant at 670K is %.1e\"%k,\"s**-1\""
     ],
     "language": "python",
     "metadata": {},
     "outputs": [
      {
       "output_type": "stream",
       "stream": "stdout",
       "text": [
        "(i)  Activation energy is  2.39e+05 J mol**-1 or 239.0 kJ mol**-1\n",
        "\n",
        "(ii)  Rate constant at 670K is 4.8e-05 s**-1\n"
       ]
      }
     ],
     "prompt_number": 18
    },
    {
     "cell_type": "heading",
     "level": 2,
     "metadata": {},
     "source": [
      "Example no:3.21,Page no:95"
     ]
    },
    {
     "cell_type": "code",
     "collapsed": false,
     "input": [
      "#Variable declaration\n",
      "Ti=27.0 #given temperature in C#\n",
      "T1=Ti+273.0 #in kelvin#\n",
      "t1=T1-5\n",
      "Tr=10.0 #rise in temperature#\n",
      "import math\n",
      "\n",
      "#Calculation\n",
      "T2=T1+Tr \n",
      "t2=T2-5\n",
      "k=3.0 #value of k1/k2#\n",
      "R=8.314 #value of constant R in J/K.mol#\n",
      "E=math.log(k)*R*t1*t2/(T2-T1) \n",
      "\n",
      "#Result\n",
      "print\"Activation energy of the reaction is\",round(E),\"J mol**-1 or\",round(E/1000,2),\"kJ mol**-1\""
     ],
     "language": "python",
     "metadata": {},
     "outputs": [
      {
       "output_type": "stream",
       "stream": "stdout",
       "text": [
        "Activation energy of the reaction is 82182.0 J mol**-1 or 82.18 kJ mol**-1\n"
       ]
      }
     ],
     "prompt_number": 19
    }
   ],
   "metadata": {}
  }
 ]
}