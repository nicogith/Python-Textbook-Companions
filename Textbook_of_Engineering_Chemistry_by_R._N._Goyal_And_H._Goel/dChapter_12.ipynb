{
 "metadata": {
  "name": ""
 },
 "nbformat": 3,
 "nbformat_minor": 0,
 "worksheets": [
  {
   "cells": [
    {
     "cell_type": "heading",
     "level": 1,
     "metadata": {},
     "source": [
      "Chapter 12:Coordination Chemistry"
     ]
    },
    {
     "cell_type": "heading",
     "level": 2,
     "metadata": {},
     "source": [
      "Example no:1,Page no:310"
     ]
    },
    {
     "cell_type": "code",
     "collapsed": false,
     "input": [
      "#Variable declaration\n",
      "atomic_no=27       #Atomic on of Co\n",
      "oxdn_state=3       #Oxidation state of Co\n",
      "ele_donated=6*27   #Electron donated by ligand\n",
      "\n",
      "#Calculation\n",
      "EAN=atomic_no-oxdn_state+ele_donated       #Effective atomic no\n",
      "\n",
      "#Result\n",
      "print\"Effective Atomic no of [Co(NH3)6]Cl3 is \",EAN,\"which is equal to atomic no of Kr\""
     ],
     "language": "python",
     "metadata": {},
     "outputs": [
      {
       "output_type": "stream",
       "stream": "stdout",
       "text": [
        "Effective Atomic no of [Co(NH3)6]Cl3 is  186 which is equal to atomic no of Kr\n"
       ]
      }
     ],
     "prompt_number": 1
    }
   ],
   "metadata": {}
  }
 ]
}