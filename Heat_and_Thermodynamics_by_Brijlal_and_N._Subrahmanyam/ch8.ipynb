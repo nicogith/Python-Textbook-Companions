{
 "metadata": {
  "name": "",
  "signature": "sha256:e30b9c00a7a64c549fe856050903690b0947bb9d968fe683f359ed69004ad2d0"
 },
 "nbformat": 3,
 "nbformat_minor": 0,
 "worksheets": [
  {
   "cells": [
    {
     "cell_type": "heading",
     "level": 1,
     "metadata": {},
     "source": [
      "Chapter 8  :  Transmission of Heat"
     ]
    },
    {
     "cell_type": "heading",
     "level": 2,
     "metadata": {},
     "source": [
      "Example 8.1  Page No : 462"
     ]
    },
    {
     "cell_type": "code",
     "collapsed": false,
     "input": [
      "\n",
      "# Input data\n",
      "l1 = 10.  # Length of the copper rod in cm\n",
      "l2 = 4.  # Length of the iron rod in cm\n",
      "K1 = 0.9  # The thermal conductivity of copper\n",
      "\n",
      "# Calculations\n",
      "K2 = (l2**2 / l1**2) * K1  # The Thermal conductivity of iron\n",
      "\n",
      "# Output\n",
      "print 'The thermal conductivity of iron is K2 = %3.3f ' % (K2)\n"
     ],
     "language": "python",
     "metadata": {},
     "outputs": [
      {
       "output_type": "stream",
       "stream": "stdout",
       "text": [
        "The thermal conductivity of iron is K2 = 0.144 \n"
       ]
      }
     ],
     "prompt_number": 1
    },
    {
     "cell_type": "heading",
     "level": 2,
     "metadata": {},
     "source": [
      "Example 8.2  Page No : 469"
     ]
    },
    {
     "cell_type": "code",
     "collapsed": false,
     "input": [
      "\n",
      "# Input data\n",
      "K = 0.2  # The thermal conductivity of the plate\n",
      "d = 0.2  # The thickness of the plate in cm\n",
      "A = 20.  # The area of the plate in cm**2\n",
      "T = 100.  # The temperature difference in degree centigrade\n",
      "t = 60.  # The given time in seconds\n",
      "\n",
      "# Calculations\n",
      "# The quantity of heat that will flow through the plate in one minute in cal\n",
      "Q = (K * A * T * t) / d\n",
      "\n",
      "# Output\n",
      "print 'The quantity of heat that will flow through the plate in one minute is Q = %3.4g cal ' % (Q)\n"
     ],
     "language": "python",
     "metadata": {},
     "outputs": [
      {
       "output_type": "stream",
       "stream": "stdout",
       "text": [
        "The quantity of heat that will flow through the plate in one minute is Q = 1.2e+05 cal \n"
       ]
      }
     ],
     "prompt_number": 2
    },
    {
     "cell_type": "heading",
     "level": 2,
     "metadata": {},
     "source": [
      "Example 8.3  Page No : 473"
     ]
    },
    {
     "cell_type": "code",
     "collapsed": false,
     "input": [
      "\n",
      "# Input data\n",
      "l = 30.  # The length of the bar in cm\n",
      "A = 5.  # The uniform area of cross section of a bar in cm**2\n",
      "ta = 200.  # The temperature maintained at the end A in degree centigrade\n",
      "tc = 0.  # The temperature maintained at the end C in degree centigrade\n",
      "Kc = 0.9  # The thermal conductivity of copper\n",
      "Ki = 0.12  # The thermal conductivity of iron\n",
      "\n",
      "# Calculations\n",
      "# The temperature after the steady state is reached in degree centigrade\n",
      "T = ((Kc * A * ta) + (Ki * A * tc)) / ((Kc + Ki) * A)\n",
      "# The rate of flow of heat along the bar when the steady state is reached\n",
      "# in cal/sec\n",
      "Q = (Kc * A * (ta - T)) / (l / 2)\n",
      "\n",
      "# Output\n",
      "print 'The rate of flow of heat along the bar when the steady state is reached is Q = %3.2f cal/s ' % (Q)\n"
     ],
     "language": "python",
     "metadata": {},
     "outputs": [
      {
       "output_type": "stream",
       "stream": "stdout",
       "text": [
        "The rate of flow of heat along the bar when the steady state is reached is Q = 7.06 cal/s \n"
       ]
      }
     ],
     "prompt_number": 3
    },
    {
     "cell_type": "heading",
     "level": 2,
     "metadata": {},
     "source": [
      "Example 8.4  Page No : 477"
     ]
    },
    {
     "cell_type": "code",
     "collapsed": false,
     "input": [
      "\n",
      "# Input data\n",
      "d1 = 1.75  # The thickness of the wood in cm\n",
      "d2 = 3.  # The thickness of the cork in cm\n",
      "t2 = 0.  # The temperature of the inner surface of the cork in degree centigrade\n",
      "t1 = 12.  # The temperature of the outer surface of the wood in degree centigrade\n",
      "K1 = 0.0006  # The thermal conductivity of wood\n",
      "K2 = 0.00012  # The thermal conductivity of cork\n",
      "\n",
      "# Calculations\n",
      "# The temperature of the interface in degree centigrade\n",
      "T = (((K1 * t1) / d1) + ((K2 * t2) / d2)) / ((K1 / d1) + (K2 / d2))\n",
      "\n",
      "# Output\n",
      "print 'The temperature of the interface is T = %3.2f degree centigrade ' % (T)\n"
     ],
     "language": "python",
     "metadata": {},
     "outputs": [
      {
       "output_type": "stream",
       "stream": "stdout",
       "text": [
        "The temperature of the interface is T = 10.75 degree centigrade \n"
       ]
      }
     ],
     "prompt_number": 4
    },
    {
     "cell_type": "heading",
     "level": 2,
     "metadata": {},
     "source": [
      "Example 8.5  Page No : 483"
     ]
    },
    {
     "cell_type": "code",
     "collapsed": false,
     "input": [
      "\n",
      "# Input data\n",
      "x1 = 3.  # The thickness of the ice layer on the surface of a pond in cm\n",
      "x = 1.  # The increase in the thickness of the ice when the temperature is maintained at -20 degree centigrade in mm\n",
      "# The increased thickness of the ice layer on the surface of a pond in cm\n",
      "x2 = x1 + (x / 10)\n",
      "T = -20  # The temperature of the surrounding air in degree centigrade\n",
      "d = 0.91  # The density of ice at 0 degree centigrade in g/cm**3\n",
      "L = 80.  # The latent heat of ice in cal/g\n",
      "K = 0.005  # The thermal conductivity of ice\n",
      "\n",
      "# Calculations\n",
      "# The time taken to increase its thickness by 1 mm in sec\n",
      "t = ((d * L) / (2 * K * (-T))) * (x2**2 - x1**2)\n",
      "t1 = t / 60  # The time taken to increase its thickness by 1 mm in min\n",
      "\n",
      "# Output\n",
      "print 'The time taken to increase its thickness by 1 mm is t = %3.2f s' % (t)\n"
     ],
     "language": "python",
     "metadata": {},
     "outputs": [
      {
       "output_type": "stream",
       "stream": "stdout",
       "text": [
        "The time taken to increase its thickness by 1 mm is t = 222.04 s\n"
       ]
      }
     ],
     "prompt_number": 5
    },
    {
     "cell_type": "heading",
     "level": 2,
     "metadata": {},
     "source": [
      "Example 8.6  Page No : 485"
     ]
    },
    {
     "cell_type": "code",
     "collapsed": false,
     "input": [
      "\n",
      "# Input data\n",
      "x1 = 10.  # The thickness of the ice layer on the surface of a pond in cm\n",
      "x = 5.  # The increase in the thickness of the ice when the temperature is maintained at -10 degree centigrade in cm\n",
      "# The increased thickness of the ice layer on the surface of a pond in cm\n",
      "x2 = x1 + (x)\n",
      "T = -10  # The temperature of the surrounding air in degree centigrade\n",
      "d = 0.90  # The density of ice at 0 degree centigrade in g/cm**3\n",
      "L = 80.  # The latent heat of ice in cal/g\n",
      "K = 0.005  # The thermal conductivity of ice\n",
      "\n",
      "# Calculations\n",
      "# The time taken to increase its thickness by 5 cm in sec\n",
      "t = ((d * L) / (2 * K * (-T))) * (x2**2 - x1**2)\n",
      "# The time taken to increase its thickness by 5 cm in hours\n",
      "t1 = t / (60. * 60)\n",
      "\n",
      "# Output\n",
      "print 'The time taken to increase its thickness by 5 cm is t = %3.0g s (or) %3.0f hours' % (t, t1)\n"
     ],
     "language": "python",
     "metadata": {},
     "outputs": [
      {
       "output_type": "stream",
       "stream": "stdout",
       "text": [
        "The time taken to increase its thickness by 5 cm is t = 9e+04 s (or)  25 hours\n"
       ]
      }
     ],
     "prompt_number": 6
    },
    {
     "cell_type": "heading",
     "level": 2,
     "metadata": {},
     "source": [
      "Example 8.7  Page No : 490"
     ]
    },
    {
     "cell_type": "code",
     "collapsed": false,
     "input": [
      "\n",
      "# input data\n",
      "# The temperature maintained on one sphere (black body radiat(or) in K\n",
      "T1 = 300.\n",
      "# The temperature maintained on another sphere (black body radiat(or) in K\n",
      "T2 = 200.\n",
      "s = 5.672 * 10**-8  # Stefans constant in M.K.S units\n",
      "\n",
      "# Calculations\n",
      "# The net rate of energy transfer between the two spheres in watts/m**2\n",
      "R = s * (T1**4 - T2**4)\n",
      "\n",
      "# output\n",
      "print 'The net rate of energy transfer between the two spheres is R = %3.2f watts/m^2' % (R)\n"
     ],
     "language": "python",
     "metadata": {},
     "outputs": [
      {
       "output_type": "stream",
       "stream": "stdout",
       "text": [
        "The net rate of energy transfer between the two spheres is R = 368.68 watts/m^2\n"
       ]
      }
     ],
     "prompt_number": 7
    },
    {
     "cell_type": "heading",
     "level": 2,
     "metadata": {},
     "source": [
      "Example 8.8  Page No : 495"
     ]
    },
    {
     "cell_type": "code",
     "collapsed": false,
     "input": [
      "import math\n",
      "# Input data\n",
      "T1 = 400.  # The given temperature of a black body in K\n",
      "T2 = 4000.  # The given temperature of a black body in K\n",
      "s = 5.672 * 10**-8  # Stefans constant in M.K.S units\n",
      "\n",
      "# Calculations\n",
      "R1 = s * T1**4  # The radiant emittance of a black body at 400 k in watts/m**2\n",
      "# The radiant emittance of a black body at 4000 k in kilo-watts/m**2\n",
      "R2 = (s * T2**4) / 1000\n",
      "\n",
      "# Output\n",
      "print 'The Radiant emittance of a black body at a temperature of ,\\n (i) 400 K  is  R = %3.0f watts/m^2 \\n (ii) 4000 K  is  R = %3.0f kilo-watts/m^2' % (R1, R2)\n"
     ],
     "language": "python",
     "metadata": {},
     "outputs": [
      {
       "output_type": "stream",
       "stream": "stdout",
       "text": [
        "The Radiant emittance of a black body at a temperature of ,\n",
        " (i) 400 K  is  R = 1452 watts/m^2 \n",
        " (ii) 4000 K  is  R = 14520 kilo-watts/m^2\n"
       ]
      }
     ],
     "prompt_number": 8
    },
    {
     "cell_type": "heading",
     "level": 2,
     "metadata": {},
     "source": [
      "Example 8.9  Page No : 500"
     ]
    },
    {
     "cell_type": "code",
     "collapsed": false,
     "input": [
      "# Input data\n",
      "e = 0.35  # The relative emittance of tungsten\n",
      "A = 10.**-3  # The surface area of a tungsten sphere in m**2\n",
      "T1 = 300.  # The temperature of the walls in K\n",
      "T2 = 3000.  # The temperature to be maintained by the sphere in K\n",
      "s = 5.672 * 10**-8  # Stefans constant in M.K.S units\n",
      "\n",
      "# Calculations\n",
      "# The power input required to maintain the sphere at 3000 K in watts\n",
      "R = s * A * e * (T2**4 - T1**4)\n",
      "\n",
      "# Output\n",
      "print 'The power input required to maintain the sphere at 3000 K is R = %3.0f watts' % (R)\n"
     ],
     "language": "python",
     "metadata": {},
     "outputs": [
      {
       "output_type": "stream",
       "stream": "stdout",
       "text": [
        "The power input required to maintain the sphere at 3000 K is R = 1608 watts\n"
       ]
      }
     ],
     "prompt_number": 9
    },
    {
     "cell_type": "heading",
     "level": 2,
     "metadata": {},
     "source": [
      "Example 8.10  Page No : 507"
     ]
    },
    {
     "cell_type": "code",
     "collapsed": false,
     "input": [
      "# Input data\n",
      "e = 0.1  # The relative emittance of an aluminium foil\n",
      "T1 = 300.  # The temperature of one sphere in K\n",
      "T2 = 200.  # The temperature of another sphere in K\n",
      "s = 5.672 * 10**-8  # Stefans constant in M.K.S units\n",
      "\n",
      "# Calculations\n",
      "# The temperature of the foil after the steady state is reached in K\n",
      "x = (((T1**4 + T2**4) / 2)**(1. / 4))\n",
      "# The rate of energy transfer between one of the spheres and foil in watts/m**2\n",
      "R = e * s * (T1**4 - x**4)\n",
      "\n",
      "# Output\n",
      "print '1)The temperature of the foil after the steady state reached is x = %3.1f K  \\\n",
      "\\n2)The rate of energy transfer between the sphere and the foil is R = %3.1f watts/m^2' % (x, R)\n"
     ],
     "language": "python",
     "metadata": {},
     "outputs": [
      {
       "output_type": "stream",
       "stream": "stdout",
       "text": [
        "1)The temperature of the foil after the steady state reached is x = 263.9 K  \n",
        "2)The rate of energy transfer between the sphere and the foil is R = 18.4 watts/m^2\n"
       ]
      }
     ],
     "prompt_number": 11
    },
    {
     "cell_type": "heading",
     "level": 2,
     "metadata": {},
     "source": [
      "Example 8.11  Page No : 513"
     ]
    },
    {
     "cell_type": "code",
     "collapsed": false,
     "input": [
      "# Input data\n",
      "A = 5. * 10**-5  # The surface area of the filament in m**2\n",
      "e = 0.85  # The relative emittance of the filament\n",
      "s = 5.672 * 10**-8  # Stefans constant in M.K.S units\n",
      "t = 60.  # The time in seconds\n",
      "T = 2000.  # The temperature of the filament of an incandescent lamp in K\n",
      "\n",
      "# Calculations\n",
      "E = A * e * s * t * (T**4)  # The energy radiated from the filament in joules\n",
      "\n",
      "# Output\n",
      "print 'The energy radiated from the filament is E = %3.0f joules ' % (E)\n"
     ],
     "language": "python",
     "metadata": {},
     "outputs": [
      {
       "output_type": "stream",
       "stream": "stdout",
       "text": [
        "The energy radiated from the filament is E = 2314 joules \n"
       ]
      }
     ],
     "prompt_number": 12
    },
    {
     "cell_type": "heading",
     "level": 2,
     "metadata": {},
     "source": [
      "Example 8.12  Page No : 520"
     ]
    },
    {
     "cell_type": "code",
     "collapsed": false,
     "input": [
      "# Input data\n",
      "E = 1.53 * 10**5  # The energy radiated from an iron furnace in calories per hour\n",
      "A = 10.**-4  # The cross section area of an iron furnace in m**2\n",
      "e = 0.8  # The relative emittance of the furnace\n",
      "t = 3600.  # The time in seconds\n",
      "s = 1.36 * 10**-8  # Stefans constant in cal/m**2-s-K**4\n",
      "\n",
      "# Calculations\n",
      "T = ((E) / (A * e * s * t))**(1. / 4)  # The temperature of the furnace in K\n",
      "\n",
      "# Output\n",
      "print 'The temperature of the furnace is T = %3.0f K ' % (T)\n"
     ],
     "language": "python",
     "metadata": {},
     "outputs": [
      {
       "output_type": "stream",
       "stream": "stdout",
       "text": [
        "The temperature of the furnace is T = 2500 K \n"
       ]
      }
     ],
     "prompt_number": 13
    },
    {
     "cell_type": "heading",
     "level": 2,
     "metadata": {},
     "source": [
      "Example 8.13  Page No : 524"
     ]
    },
    {
     "cell_type": "code",
     "collapsed": false,
     "input": [
      "# Input data\n",
      "S = 2.3  # Solar constant in cal/cm**2/minute\n",
      "r = 7. * 10**10  # The radius of the sun in cm\n",
      "R = 1.5 * 10**13  # The distance between the sun and the earth in cm\n",
      "s = 1.37 * 10**-12  # Stefans constant in cal/cm**2/s\n",
      "\n",
      "# Calculations\n",
      "E = (S / 60) * (R / r)**(2)  # The energy radiated from the sun in cal/s\n",
      "T = (E / s)**(1. / 4)  # The black body temperature of the sun in K\n",
      "\n",
      "# Output\n",
      "print 'The black body temperature of the sun is T = %3.0f K ' % (T)\n"
     ],
     "language": "python",
     "metadata": {},
     "outputs": [
      {
       "output_type": "stream",
       "stream": "stdout",
       "text": [
        "The black body temperature of the sun is T = 5987 K \n"
       ]
      }
     ],
     "prompt_number": 14
    }
   ],
   "metadata": {}
  }
 ]
}