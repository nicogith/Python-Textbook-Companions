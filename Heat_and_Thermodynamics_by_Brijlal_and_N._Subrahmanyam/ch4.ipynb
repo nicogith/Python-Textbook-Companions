{
 "metadata": {
  "name": "",
  "signature": "sha256:6c1a77947ef3aadf1ffc1910414edb715436af612d196c62287eaa1f52dff688"
 },
 "nbformat": 3,
 "nbformat_minor": 0,
 "worksheets": [
  {
   "cells": [
    {
     "cell_type": "heading",
     "level": 1,
     "metadata": {},
     "source": [
      "Chapter 4 : Change of State\n"
     ]
    },
    {
     "cell_type": "heading",
     "level": 2,
     "metadata": {},
     "source": [
      "Example 4.1  Page No : 106"
     ]
    },
    {
     "cell_type": "code",
     "collapsed": false,
     "input": [
      "\n",
      "# Input data\n",
      "m = 1000.  # Mass of Ice in gms\n",
      "Sp = 0.5  # Specific heat of Ice in cal/g-K\n",
      "t1 = -10  # Initial temperature of Ice in degree centigrade\n",
      "t2 = 0.  # The final temperature of Ice in degree centigrade\n",
      "Li = 80.  # Latent heat of fusion of ice in cals per gram\n",
      "Ls = 540.  # Latent heat of fusion of steam in cals per gram\n",
      "\n",
      "# Calculations\n",
      "h1 = m * -t1 * Sp  # Heat required to raise the temperature of Ice in cals\n",
      "h2 = m * Li  # Heat required to melt ice at 0 degree centigrade in cals\n",
      "h3 = m * 100  # Heat required to raise the temperature of water from 0 to 100 degree centigrade in cals\n",
      "h4 = m * Ls  # Heat required to convert water into steam at 100 degree centigrade in cals\n",
      "T = h1 + h2 + h3 + h4  # Total quantity of heat required in cals\n",
      "\n",
      "# Output\n",
      "print 'Total quantity of heat required is %3.0f cals ' % (T)\n"
     ],
     "language": "python",
     "metadata": {},
     "outputs": [
      {
       "output_type": "stream",
       "stream": "stdout",
       "text": [
        "Total quantity of heat required is 725000 cals \n"
       ]
      }
     ],
     "prompt_number": 1
    },
    {
     "cell_type": "heading",
     "level": 2,
     "metadata": {},
     "source": [
      "Example 4.2  Page No : 112"
     ]
    },
    {
     "cell_type": "code",
     "collapsed": false,
     "input": [
      "\n",
      "# Input data\n",
      "m = 1.  # Mass of steam in gms\n",
      "Ls = 537.  # Latent heat of fusion of steam in cal per gram\n",
      "mi = 100.  # mass of ice in gms\n",
      "Li = 80.  # Latent heat of fusion of ice in cal per gram\n",
      "\n",
      "# Calculations\n",
      "h1 = m * Ls  # Heat given out by one gram of steam when converted from steam into water at 100 degree centigrade in cals\n",
      "h2 = 1. * 100  # Heat given out by one gram of water when cooled from 100 to 0 degree centigrade in cals\n",
      "h = h1 + h2  # Total quantity of heat given out by one gram of steam in cals\n",
      "m = h / Li  # The amount of Ice melted in gms\n",
      "\n",
      "# Output\n",
      "print 'The amount of Ice melted is m = %3.2f gms ' % (m)\n"
     ],
     "language": "python",
     "metadata": {},
     "outputs": [
      {
       "output_type": "stream",
       "stream": "stdout",
       "text": [
        "The amount of Ice melted is m = 7.96 gms \n"
       ]
      }
     ],
     "prompt_number": 2
    },
    {
     "cell_type": "heading",
     "level": 2,
     "metadata": {},
     "source": [
      "Example 4.3  Page No : 115"
     ]
    },
    {
     "cell_type": "code",
     "collapsed": false,
     "input": [
      "\n",
      "# Input data\n",
      "m = 100.  # Mass of water in gms\n",
      "tw = 40.  # The temperature of water in degree centigrade\n",
      "mi = 52.  # Mass of Ice in gms\n",
      "Lw = 100.  # Latent heat of fusion of water in cals per gram\n",
      "Li = 80.  # Latent heat of fusion of Ice in cals per gram\n",
      "\n",
      "# Calculations\n",
      "h = Lw * tw  # Heat lost by water when its temperature falls from 40 to 0 degree centigrade in cals\n",
      "hi = mi * Li  # Heat gained by Ice in cals\n",
      "hg = h  # The amount of heat gained by Ice in cals\n",
      "ml = (hg / Li)  # The amount of Ice melted in gms\n",
      "M = mi - ml  # The amount of ice remaining in gms\n",
      "W = m + (mi - M)  # The amount of water in gms\n",
      "\n",
      "# Output\n",
      "print 'The remaining Ice is %3.0f g \\n Hence the result will be %3.0f g of Ice and %3.0f g of water at 0 degree centigrade ' % (M, M, W)\n"
     ],
     "language": "python",
     "metadata": {},
     "outputs": [
      {
       "output_type": "stream",
       "stream": "stdout",
       "text": [
        "The remaining Ice is   2 g \n",
        " Hence the result will be   2 g of Ice and 150 g of water at 0 degree centigrade \n"
       ]
      }
     ],
     "prompt_number": 3
    },
    {
     "cell_type": "heading",
     "level": 2,
     "metadata": {},
     "source": [
      "Example 4.4  Page No : 121"
     ]
    },
    {
     "cell_type": "code",
     "collapsed": false,
     "input": [
      "\n",
      "# Input data\n",
      "m = 100.  # Let the mass of water in gms\n",
      "t = 15.  # Time taken for an electric kettle to heat a certain quantity of water from 0 to 100 degree centigrade in minutes\n",
      "T = 80.  # Time taken to turn all the water at 100 degree centigrade into steam in minutes\n",
      "Lw = 100.  # Latent heat of fusion of water in cals per gram\n",
      "\n",
      "# Calculations\n",
      "h1 = m * Lw  # Heat required to raise its temperature from 0 to 100 degree centigrade in cals\n",
      "h2 = h1  # Heat produced by electric kettle in 15 minutes in cals\n",
      "h3 = h2 / 15  # Heat produced by electric kettle in 1 minute in cals\n",
      "h4 = h3 * 80  # Heat produced by electric kettle in 80 minutes in cals\n",
      "L = h4 / m  # Latent heat of steam in cal/g\n",
      "\n",
      "# Output\n",
      "print 'The latent heat of steam is L = %3.2f cal/g ' % (L)\n"
     ],
     "language": "python",
     "metadata": {},
     "outputs": [
      {
       "output_type": "stream",
       "stream": "stdout",
       "text": [
        "The latent heat of steam is L = 533.33 cal/g \n"
       ]
      }
     ],
     "prompt_number": 4
    },
    {
     "cell_type": "heading",
     "level": 2,
     "metadata": {},
     "source": [
      "Example 4.5  Page No : 123"
     ]
    },
    {
     "cell_type": "code",
     "collapsed": false,
     "input": [
      "\n",
      "# Input data\n",
      "m = 50.  # Mass of water in gms\n",
      "t1 = 15.  # Initial temperature in degree centigrade\n",
      "t2 = -20  # Final temperature in degree centigrade\n",
      "Sp = 0.5  # Specific heat of Ice in cal/g-K\n",
      "Li = 80.  # Latent heat of fusion of Ice in cals per gram\n",
      "\n",
      "# Calculations\n",
      "h1 = m * 1 * t1  # Heat removed in cooling water from 15 to 0 degree centigrade in cal\n",
      "h2 = m * Li  # Heat removed in converting water into Ice at 0 degree centigrade in cal\n",
      "h3 = m * Sp * -t2  # Heat removed in cooling ice from 0 to -20 degree centigrade in cal\n",
      "H = h1 + h2 + h3  # Total heat removed in one hour in cal\n",
      "H1 = H / 60  # Heat removed per minute in cal/minute\n",
      "\n",
      "# Output\n",
      "print 'The Quantity of heat removed per minute is %3.1f cal/minute ' % (H1)\n"
     ],
     "language": "python",
     "metadata": {},
     "outputs": [
      {
       "output_type": "stream",
       "stream": "stdout",
       "text": [
        "The Quantity of heat removed per minute is 87.5 cal/minute \n"
       ]
      }
     ],
     "prompt_number": 5
    },
    {
     "cell_type": "heading",
     "level": 2,
     "metadata": {},
     "source": [
      "Example 4.6  Page No : 128"
     ]
    },
    {
     "cell_type": "code",
     "collapsed": false,
     "input": [
      "# Input data\n",
      "M = 20.  # Mass of the substance in g\n",
      "t = 100.  # The temperature of the substance in degree centigrade\n",
      "a = 1. / 100  # Area of cross section in cm**2\n",
      "l = 5.  # The length of the coloumn through which liquid moves in cm\n",
      "V1 = 1000.  # The volume of water in cm**3\n",
      "V2 = 1090.  # The volume of Ice from the volume of water on freezing in cm**3\n",
      "Li = 80.  # Latent heat of Ice in cals per gram\n",
      "\n",
      "# Calculations\n",
      "V = V2 - V1  # The decrease in volume of Ice in cm**3\n",
      "Vi = V / 1000  # The decrease in volume when one gram of ice melts in cm**3\n",
      "v = l * a  # Decrease in volume in cm**3\n",
      "# Specific heat of the substance incal/g degree centigrade\n",
      "S = (Li * v) / (Vi * M * t)\n",
      "\n",
      "# Output\n",
      "print 'The specific heat of the substance is %3.3f cal/g.degree centigrade ' % (S)\n"
     ],
     "language": "python",
     "metadata": {},
     "outputs": [
      {
       "output_type": "stream",
       "stream": "stdout",
       "text": [
        "The specific heat of the substance is 0.022 cal/g.degree centigrade \n"
       ]
      }
     ],
     "prompt_number": 6
    },
    {
     "cell_type": "heading",
     "level": 2,
     "metadata": {},
     "source": [
      "Example 4.7  Page No : 132"
     ]
    },
    {
     "cell_type": "code",
     "collapsed": false,
     "input": [
      "# Input data\n",
      "M = 27.  # The mass of the substance in g\n",
      "t = 100.  # The temperature of the substance in degree centigrade\n",
      "a = 3. / 100  # Area of cross section in cm**2\n",
      "l = 10.  # The length of the coloumn through which liquid moves in cm\n",
      "Li = 80.  # Latent heat of Ice in cals per gram\n",
      "V1 = 1000.  # The volume of water in cm**3\n",
      "V2 = 1090.  # The volume of Ice from the volume of water on freezing in cm**3\n",
      "\n",
      "# Calculations\n",
      "v = l * a  # Decrease in volume in cm**3\n",
      "V = V2 - V1  # The decrease in volume of Ice in cm**3\n",
      "Vi = V / 1000  # The decrease in volume when one gram of ice melts in cm**3\n",
      "# Specific heat of the substance incal/g degree centigrade\n",
      "S = (Li * v) / (Vi * M * t)\n",
      "\n",
      "# Output\n",
      "print 'The specific heat of the substance is %3.3f cal/g.degree centigrade ' % (S)\n"
     ],
     "language": "python",
     "metadata": {},
     "outputs": [
      {
       "output_type": "stream",
       "stream": "stdout",
       "text": [
        "The specific heat of the substance is 0.099 cal/g.degree centigrade \n"
       ]
      }
     ],
     "prompt_number": 7
    },
    {
     "cell_type": "heading",
     "level": 2,
     "metadata": {},
     "source": [
      "Example 4.8  Page No : 134"
     ]
    },
    {
     "cell_type": "code",
     "collapsed": false,
     "input": [
      "\n",
      "# Input data\n",
      "t = 16.5  # The temperature of air in degree centigrade\n",
      "d = 6.5  # The dew point in degree centigrade\n",
      "s1 = 7.05  # S.V.P at 6 degree centigrade in mm\n",
      "s2 = 7.51  # S.V.P at 7 degree centigrade in mm\n",
      "s3 = 13.62  # S.V.P at 16 degree centigrade in mm\n",
      "s4 = 14.42  # S.V.P at 17 degree centigrade in mm\n",
      "\n",
      "# Calculations\n",
      "s5 = (s1 + s2) / 2  # S.V.P at 6.5 degree centigrade in mm\n",
      "s6 = (s3 + s4) / 2  # S.V.P at 16.5 degree centigrade in mm\n",
      "R = (s5 / s6) * 100  # Relative humidity of air in percent\n",
      "\n",
      "# Output\n",
      "print 'The percentage relative humidity of air is R.H = %3.1f percent ' % (R)\n"
     ],
     "language": "python",
     "metadata": {},
     "outputs": [
      {
       "output_type": "stream",
       "stream": "stdout",
       "text": [
        "The percentage relative humidity of air is R.H = 51.9 percent \n"
       ]
      }
     ],
     "prompt_number": 8
    },
    {
     "cell_type": "heading",
     "level": 2,
     "metadata": {},
     "source": [
      "Example 4.9  Page No : 140"
     ]
    },
    {
     "cell_type": "code",
     "collapsed": false,
     "input": [
      "\n",
      "# Input data\n",
      "R = 52.  # The relative humidity of air in percent\n",
      "t = 20.  # The temperature of air in degree centigrade\n",
      "s1 = 17.5  # S.V.P of water at 20 degree centigrade in mm\n",
      "s2 = 9.2  # S.V.P of water at 10 degree centigrade in mm\n",
      "s3 = 8.6  # S.V.P of water at 9 degree centigrade in mm\n",
      "\n",
      "# Calculations\n",
      "s4 = (R / 100) * s1  # S.V.P at dew point in mm\n",
      "s5 = s2 - s3  # S.V.P for 1 degree centigrade difference in mm\n",
      "# The dew point temperature in degree centigrade\n",
      "d = 9. + ((s4 - s3) / (s2 - s3))\n",
      "\n",
      "# Output\n",
      "print 'The dew point temperature is %3.2f degree centigrade ' % (d)\n"
     ],
     "language": "python",
     "metadata": {},
     "outputs": [
      {
       "output_type": "stream",
       "stream": "stdout",
       "text": [
        "The dew point temperature is 9.83 degree centigrade \n"
       ]
      }
     ],
     "prompt_number": 9
    }
   ],
   "metadata": {}
  }
 ]
}