{
 "metadata": {
  "name": "",
  "signature": "sha256:981d9d414fb3ccab1f09efa00cc14135798c564e57ce294278994d4eafe77df4"
 },
 "nbformat": 3,
 "nbformat_minor": 0,
 "worksheets": [
  {
   "cells": [
    {
     "cell_type": "heading",
     "level": 1,
     "metadata": {},
     "source": [
      "Chapter 3 : Calorimetry\n"
     ]
    },
    {
     "cell_type": "heading",
     "level": 2,
     "metadata": {},
     "source": [
      "Example 3.1  Page No : 49"
     ]
    },
    {
     "cell_type": "code",
     "collapsed": false,
     "input": [
      "import math\n",
      "# Input data\n",
      "T = 5.  # Time taken for a liquid to cool from 80 to 50 degree centigrade in minutes\n",
      "t11 = 80.  # The initial temperature of the liquid in degree centigrade\n",
      "t12 = 50.  # The final temperature of the liquid in degree centigrade\n",
      "t21 = 60.  # If the initial temperature of the liquid in degree centigrade\n",
      "t22 = 30.  # If the final temperature of the liquid in degree centigrade\n",
      "ts = 20.  # The temperature of the surrounding in degree centigrade\n",
      "\n",
      "# Calculations\n",
      "# The time taken for the liquid to cool from 60 to 30 degree centigrade in\n",
      "# minutes\n",
      "T1 = ((math.log((t22 - ts) / (t21 - ts))) /\n",
      "      (math.log((t12 - ts) / (t11 - ts)))) * T\n",
      "\n",
      "# Output\n",
      "print 'The time taken for a liquid to cool from 60 to 30 degree centigrade is t = %3.0f minutes ' % (T1)\n"
     ],
     "language": "python",
     "metadata": {},
     "outputs": [
      {
       "output_type": "stream",
       "stream": "stdout",
       "text": [
        "The time taken for a liquid to cool from 60 to 30 degree centigrade is t =  10 minutes \n"
       ]
      }
     ],
     "prompt_number": 1
    },
    {
     "cell_type": "heading",
     "level": 2,
     "metadata": {},
     "source": [
      "Example 3.2  Page No : 55"
     ]
    },
    {
     "cell_type": "code",
     "collapsed": false,
     "input": [
      "\n",
      "# Input data\n",
      "dw = 1.  # The density of water in g/cm**3\n",
      "da = 0.8  # The density of alcohol in g/cm**3\n",
      "t1 = 100.  # The time taken for the water to cool from 50 to 40 degree centigrade in seconds\n",
      "t2 = 74.  # The time taken for the alcohol to cool from 50 to 40 degree centigrade in seconds\n",
      "V = 1.  # Let the volume of either liquid be in cm**3\n",
      "\n",
      "# Calculations\n",
      "m = V * dw  # The mass of water in g\n",
      "M = V * da  # The mass of alcohol in g\n",
      "w = V  # Water equivalent of each calorimeter in cm**3\n",
      "# The specific heat of alcohol in calorie/g-K\n",
      "C = ((((m + w) * t2) / (M * t1)) - (w / M))\n",
      "\n",
      "# Output\n",
      "print 'The specific heat of alcohol is C = %3.1f calorie/g-K' % (C)\n"
     ],
     "language": "python",
     "metadata": {},
     "outputs": [
      {
       "output_type": "stream",
       "stream": "stdout",
       "text": [
        "The specific heat of alcohol is C = 0.6 calorie/g-K\n"
       ]
      }
     ],
     "prompt_number": 2
    },
    {
     "cell_type": "heading",
     "level": 2,
     "metadata": {},
     "source": [
      "Example 3.3  Page No : 61"
     ]
    },
    {
     "cell_type": "code",
     "collapsed": false,
     "input": [
      "import math\n",
      "# Input data\n",
      "t = 5.  # Time taken for a body to cool from 60 to 40 degree centigrade in minutes\n",
      "t11 = 60.  # The initial temperature of the body in degree centigrade\n",
      "t12 = 40.  # The final temperature of the body in degree centigrade\n",
      "ts = 10.  # The temperature of the surrounding in degree centigrade\n",
      "\n",
      "# Calculations\n",
      "# The constant value for the first case at ts\n",
      "K = math.log((t12 - ts) / (t11 - ts))\n",
      "# The temperature after the next 5 minutes in degree centigrade\n",
      "x = ((math.exp(K)) * (t12 - ts)) + ts\n",
      "\n",
      "# Output\n",
      "print 'The temperature after the next 5 minutes is x = %3.0f degree centigrade ' % (x)\n"
     ],
     "language": "python",
     "metadata": {},
     "outputs": [
      {
       "output_type": "stream",
       "stream": "stdout",
       "text": [
        "The temperature after the next 5 minutes is x =  28 degree centigrade \n"
       ]
      }
     ],
     "prompt_number": 3
    },
    {
     "cell_type": "heading",
     "level": 2,
     "metadata": {},
     "source": [
      "Example 3.4  Page No : 63"
     ]
    },
    {
     "cell_type": "code",
     "collapsed": false,
     "input": [
      "import math\n",
      "# Input data\n",
      "T = 4.  # Time taken for a liquid to cool from 70 to 50 degree centigrade in minutes\n",
      "t11 = 70.  # The initial temperature of the liquid in degree centigrade\n",
      "t12 = 50.  # The final temperature of the liquid in degree centigrade\n",
      "t21 = 50.  # If the initial temperature of the liquid in degree centigrade\n",
      "t22 = 40.  # If the final temperature of the liquid in degree centigrade\n",
      "ts = 25.  # The temperature of the surrounding in degree centigrade\n",
      "\n",
      "# Calculations\n",
      "# The time taken for the liquid to cool from 50 to 40 degree centigrade in\n",
      "# minutes\n",
      "T1 = ((math.log((t22 - ts) / (t21 - ts))) /\n",
      "      (math.log((t12 - ts) / (t11 - ts)))) * T\n",
      "\n",
      "# Output\n",
      "print 'The time taken for a liquid to cool from 50 to 40 degree centigrade is t = %3.3f minutes ' % (T1)\n"
     ],
     "language": "python",
     "metadata": {},
     "outputs": [
      {
       "output_type": "stream",
       "stream": "stdout",
       "text": [
        "The time taken for a liquid to cool from 50 to 40 degree centigrade is t = 3.476 minutes \n"
       ]
      }
     ],
     "prompt_number": 4
    },
    {
     "cell_type": "heading",
     "level": 2,
     "metadata": {},
     "source": [
      "Example 3.5  Page No : 67"
     ]
    },
    {
     "cell_type": "code",
     "collapsed": false,
     "input": [
      "import math\n",
      "# Input data\n",
      "t = 6.  # Time taken for a liquid to cool from 80 to 60 degree centigrade in minutes\n",
      "T = 10.  # To find the temperature after the time in minutes\n",
      "t11 = 80.  # The initial temperature of the liquid in degree centigrade\n",
      "t12 = 60.  # The final temperature of the liquid in degree centigrade\n",
      "ts = 30.  # The temperature of the surrounding in degree centigrade\n",
      "\n",
      "# Calculations\n",
      "# The constant value for the first case at ts\n",
      "K = (math.log((t12 - ts) / (t11 - ts))) / (-t)\n",
      "# The temperature after the next 10 minutes in degree centigrade\n",
      "x = ((math.exp(-T * K)) * (t12 - ts)) + ts\n",
      "\n",
      "# Output\n",
      "print 'The temperature after the next 10 minutes is x = %3.2f degree centigrade ' % (x)\n"
     ],
     "language": "python",
     "metadata": {},
     "outputs": [
      {
       "output_type": "stream",
       "stream": "stdout",
       "text": [
        "The temperature after the next 10 minutes is x = 42.80 degree centigrade \n"
       ]
      }
     ],
     "prompt_number": 5
    },
    {
     "cell_type": "heading",
     "level": 2,
     "metadata": {},
     "source": [
      "Example 3.6  Page No : 69"
     ]
    },
    {
     "cell_type": "code",
     "collapsed": false,
     "input": [
      "import math\n",
      "# Input data\n",
      "t = 5.  # The time taken for a body to cool from 80 to 64 degree centigrade in minutes\n",
      "t11 = 80.  # The initial temperature of the body in degree centigrade\n",
      "t12 = 64.  # The final temperature of the body in degree centigrade\n",
      "t21 = 52.  # The temperature of the body after 10 minutes in degree centigrade\n",
      "T = 10.  # The time taken for a body to cool from 80 to 52 degree centigrade in minutes\n",
      "T1 = 15.  # To find the temperature after the time in minutes\n",
      "\n",
      "# Calculations\n",
      "# The temperature of the surroundings in degree centigrade\n",
      "ts = ((t21 * t11) - (t12**2)) / (t11 + t21 - (2 * t12))\n",
      "# The constant value for the first case at ts\n",
      "K = (math.log((t21 - ts) / (t12 - ts)))\n",
      "# The temperature after the next 15 minutes in degree centigrade\n",
      "x = ((math.exp(K)) * (t21 - ts)) + ts\n",
      "\n",
      "# Output\n",
      "print '(1)The temperature of the surroundings is %3.0f degree centigrade \\n (2)The temperature after the 15 minutes is %3.0f degree centigrade ' % (ts, x)\n"
     ],
     "language": "python",
     "metadata": {},
     "outputs": [
      {
       "output_type": "stream",
       "stream": "stdout",
       "text": [
        "(1)The temperature of the surroundings is  16 degree centigrade \n",
        " (2)The temperature after the 15 minutes is  43 degree centigrade \n"
       ]
      }
     ],
     "prompt_number": 6
    },
    {
     "cell_type": "heading",
     "level": 2,
     "metadata": {},
     "source": [
      "Example 3.7  Page No : 76"
     ]
    },
    {
     "cell_type": "code",
     "collapsed": false,
     "input": [
      "\n",
      "# Input data\n",
      "t2 = 2.  # The time taken for the liquid to cool from 50 to 40 degree centigrade in minutes\n",
      "t11 = 50.  # The initial temperature of the liquid in degree centigrade\n",
      "t12 = 40.  # The final temperature of the liquid in degree centigrade\n",
      "t1 = 5.  # The time taken for the water to cool from 50 to 40 degree centigrade in minutes\n",
      "m = 100.  # The mass of water in gms\n",
      "M = 85.  # The mass of liquid in gms\n",
      "w = 10.  # Water equivalent of the vessel in gms\n",
      "\n",
      "# Calculations\n",
      "# The specific heat of a liquid in calories/g-K\n",
      "C = (((m + w) * (t2 * 60)) / (M * (t1 * 60))) - (w / M)\n",
      "\n",
      "# Output\n",
      "print 'The specific heat of a liquid is C = %3.1f calories/g-K' % (C)\n"
     ],
     "language": "python",
     "metadata": {},
     "outputs": [
      {
       "output_type": "stream",
       "stream": "stdout",
       "text": [
        "The specific heat of a liquid is C = 0.4 calories/g-K\n"
       ]
      }
     ],
     "prompt_number": 7
    },
    {
     "cell_type": "heading",
     "level": 2,
     "metadata": {},
     "source": [
      "Example 3.8  Page No : 79"
     ]
    },
    {
     "cell_type": "code",
     "collapsed": false,
     "input": [
      "\n",
      "# Input data\n",
      "V = 22400.  # The volume of One gram molecule of a gas at N.T.P in cm**3\n",
      "p = 76.  # The pressure in cm of Hg\n",
      "T = 273.  # The temperature in K\n",
      "\n",
      "# Calculations\n",
      "P = p * 13.6 * 981  # The pressure in dynes/cm**2\n",
      "# The universal gas constant for one gram molecule of a gas in ergs/mole-K\n",
      "R = (P * V) / T\n",
      "\n",
      "# Output\n",
      "print 'The universal gas constant for one gram molecule of a gas is R = %3.4g ergs/mole-K' % (R)\n"
     ],
     "language": "python",
     "metadata": {},
     "outputs": [
      {
       "output_type": "stream",
       "stream": "stdout",
       "text": [
        "The universal gas constant for one gram molecule of a gas is R = 8.32e+07 ergs/mole-K\n"
       ]
      }
     ],
     "prompt_number": 8
    },
    {
     "cell_type": "heading",
     "level": 2,
     "metadata": {},
     "source": [
      "Example 3.9  Page No : 83"
     ]
    },
    {
     "cell_type": "code",
     "collapsed": false,
     "input": [
      "\n",
      "# Input data\n",
      "Cp = 0.23  # Specific heat of air at constant pressure\n",
      "J = 4.2 * 10**7  # The amount of energy in ergs/cal\n",
      "d = 1.293  # The density of air at N.T.P in g/litre\n",
      "p = 76.  # The pressure in cm of Hg\n",
      "T = 273.  # The temperature in K\n",
      "\n",
      "# Calculations\n",
      "P = p * 13.6 * 980  # The pressure in dynes/cm**2\n",
      "V = (1000 / d)  # Volume of one gram of air at N.T.P in cm**3\n",
      "r = (P * V) / T  # The gas constant for one gram of a gas in ergs/g-K\n",
      "Cv = Cp - (r / J)  # Specific heat of air at constant volume\n",
      "\n",
      "# Output\n",
      "print 'The specific heat of air at constant volume is Cv = %3.4f ' % (Cv)\n"
     ],
     "language": "python",
     "metadata": {},
     "outputs": [
      {
       "output_type": "stream",
       "stream": "stdout",
       "text": [
        "The specific heat of air at constant volume is Cv = 0.1617 \n"
       ]
      }
     ],
     "prompt_number": 9
    },
    {
     "cell_type": "heading",
     "level": 2,
     "metadata": {},
     "source": [
      "Example 3.10  Page No : 88"
     ]
    },
    {
     "cell_type": "code",
     "collapsed": false,
     "input": [
      "\n",
      "# Input data\n",
      "w = 4.  # The Molecular weight of helium\n",
      "v = 22400.  # The volume of one gram molecule of a gas at N.T.P in cm**3\n",
      "p = 76.  # The pressure in cm of Hg\n",
      "T = 273.  # The temperature in K\n",
      "J = 4.2 * 10**7  # The amount of energy in ergs/cal\n",
      "\n",
      "# Calculations\n",
      "V = (v / w)  # The volume of one gram of helium at N.T.P in cm**3\n",
      "P = p * 13.6 * 980  # The pressure in dynes/cm**2\n",
      "r = (P * V) / T  # The gas constant for one gram of a gas in ergs/g-K\n",
      "C = r / J  # The difference in the two specific heats of one gram of helium\n",
      "\n",
      "# Output\n",
      "print 'The difference in the two specific heats of one gram of helium is Cp-Cv = %3.4f' % (C)\n"
     ],
     "language": "python",
     "metadata": {},
     "outputs": [
      {
       "output_type": "stream",
       "stream": "stdout",
       "text": [
        "The difference in the two specific heats of one gram of helium is Cp-Cv = 0.4947\n"
       ]
      }
     ],
     "prompt_number": 10
    },
    {
     "cell_type": "heading",
     "level": 2,
     "metadata": {},
     "source": [
      "Example 3.11  Page No : 94"
     ]
    },
    {
     "cell_type": "code",
     "collapsed": false,
     "input": [
      "\n",
      "# Input data\n",
      "V = 25.  # Volume of gasoline consumed by an engine in litres/hour\n",
      "cv = 6. * 10**6  # The calorific value of gasoline in calories/litre\n",
      "P = 35.  # The output of the engine in kilowatts\n",
      "\n",
      "# Calculations\n",
      "h = V * cv  # Total heat produced by gasoline in one hour in calories\n",
      "H = h / 3600  # Heat produced per second in cal/s\n",
      "I = H * 4.2  # Heat produced per second in joules/s or watts\n",
      "E = ((P * 1000) / I) * 100  # The efficiency in percent\n",
      "\n",
      "# Output\n",
      "print 'The efficiency of the engine is %3.0f percent ' % (E)\n"
     ],
     "language": "python",
     "metadata": {},
     "outputs": [
      {
       "output_type": "stream",
       "stream": "stdout",
       "text": [
        "The efficiency of the engine is  20 percent \n"
       ]
      }
     ],
     "prompt_number": 11
    }
   ],
   "metadata": {}
  }
 ]
}