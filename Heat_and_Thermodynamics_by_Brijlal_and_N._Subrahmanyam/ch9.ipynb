{
 "metadata": {
  "name": "",
  "signature": "sha256:59f62381f66cbca4a196ab6265ddc26dab20eb89b5dc4aa0a9dce649360298a2"
 },
 "nbformat": 3,
 "nbformat_minor": 0,
 "worksheets": [
  {
   "cells": [
    {
     "cell_type": "heading",
     "level": 1,
     "metadata": {},
     "source": [
      "Chapter 9 : Statistical Thermodynamics\n"
     ]
    },
    {
     "cell_type": "heading",
     "level": 2,
     "metadata": {},
     "source": [
      "Example 9.1  Page No : 542"
     ]
    },
    {
     "cell_type": "code",
     "collapsed": false,
     "input": [
      "\n",
      "# Input data\n",
      "N = 6000.  # Number of particles in a system\n",
      "e = 3.  # The number of energy states with equal spacing\n",
      "n1 = 3000.  # Number of particles in the lower level\n",
      "n2 = 2500.  # Number of particles in the middle level\n",
      "n3 = 500.  # Number of particles in the upper level\n",
      "n11 = 3001.  # Number of particles in the lower level in the second case\n",
      "n22 = 2498.  # Number of particles in the middle level in the second case\n",
      "n33 = 501.  # Number of particles in the upper level in the second case\n",
      "g = 1.  # Let us assume the probability of locating a particle in a certain energy state is one\n",
      "\n",
      "# Calculations\n",
      "P1 = 1. / (2500. * 2499)  # The probability in the first case\n",
      "P2 = 1. / (3001. * 501)  # The probability in the second case\n",
      "P = P2 / P1  # Comparing the relative probabilities\n",
      "\n",
      "# Output\n",
      "print 'By comparing the relative probabilities P = %3.1f  \\n (It means the transfer of one particle from the middle to the\\n upper and the lower state has changed the probability by a factor %3.1f \\n Hence both the distributions are not near the equilibrium state)' % (P, P)\n"
     ],
     "language": "python",
     "metadata": {},
     "outputs": [
      {
       "output_type": "stream",
       "stream": "stdout",
       "text": [
        "By comparing the relative probabilities P = 4.2  \n",
        " (It means the transfer of one particle from the middle to the\n",
        " upper and the lower state has changed the probability by a factor 4.2 \n",
        " Hence both the distributions are not near the equilibrium state)\n"
       ]
      }
     ],
     "prompt_number": 1
    }
   ],
   "metadata": {}
  }
 ]
}