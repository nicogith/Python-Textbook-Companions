{
 "metadata": {
  "name": "",
  "signature": "sha256:aa2f91c2f42af9bd29c5a63bcbda9bd795d5bebbc97e6261dcc647ef07ee9847"
 },
 "nbformat": 3,
 "nbformat_minor": 0,
 "worksheets": [
  {
   "cells": [
    {
     "cell_type": "heading",
     "level": 1,
     "metadata": {},
     "source": [
      "Chapter 1 : Thermometry"
     ]
    },
    {
     "cell_type": "heading",
     "level": 2,
     "metadata": {},
     "source": [
      "Example 1.11  Page No : 7"
     ]
    },
    {
     "cell_type": "code",
     "collapsed": false,
     "input": [
      "# Input data\n",
      "R0 = 5.5  # The resistance of a platinum wire at 0 degree centigrade in ohms\n",
      "R100 = 7.5  # The resistance of a platinum wire at 100 degree centigrade in ohms\n",
      "R444 = 14.5  # The resistance of a platinum wire at 444.5 degree centigrade in ohms\n",
      "\n",
      "# Calculations\n",
      "# The value of beta in per degree centigrade square\n",
      "b = ((900 - (2. * 444.6)) / (5.5 * 444.6 * 100 * 344.6))\n",
      "# The value of alpha in per degree centigrade\n",
      "a = (2 / (5.5 * 100)) - (100 * (b))\n",
      "\n",
      "# Output\n",
      "print 'The values are b = %3.4g degree centigrade square \\n   and a = %3g degree centigrade ' % (b, a)\n"
     ],
     "language": "python",
     "metadata": {},
     "outputs": [
      {
       "output_type": "stream",
       "stream": "stdout",
       "text": [
        "The values are b = 1.282e-07 degree centigrade square \n",
        "   and a = 0.00362355 degree centigrade \n"
       ]
      }
     ],
     "prompt_number": 1
    }
   ],
   "metadata": {}
  }
 ]
}