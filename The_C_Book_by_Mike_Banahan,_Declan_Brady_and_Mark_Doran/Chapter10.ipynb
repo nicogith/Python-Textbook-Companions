{
 "metadata": {
  "name": "",
  "signature": "sha256:718ee87bab5f20ada0600af1b92a2d7b62afe1693e2a69cefc7d579af27447ac"
 },
 "nbformat": 3,
 "nbformat_minor": 0,
 "worksheets": [
  {
   "cells": [
    {
     "cell_type": "heading",
     "level": 1,
     "metadata": {},
     "source": [
      "Chapter 10: Complete Programs in C"
     ]
    },
    {
     "cell_type": "heading",
     "level": 2,
     "metadata": {},
     "source": [
      "Example 10.1, page no. 307"
     ]
    },
    {
     "cell_type": "code",
     "collapsed": false,
     "input": [
      "\n",
      "import sys\n",
      "\n",
      "print sys.argv"
     ],
     "language": "python",
     "metadata": {},
     "outputs": [
      {
       "output_type": "stream",
       "stream": "stdout",
       "text": [
        "['-c', '-f', '/home/jovina/.ipython/profile_default/security/kernel-089d1845-2d63-42aa-b2c8-880183965d4f.json', 'jay_parikh/ipython_komal/', \"--IPKernelApp.parent_appname='ipython-notebook'\", '--profile-dir', '/home/jovina/.ipython/profile_default', '--parent=1']\n"
       ]
      }
     ],
     "prompt_number": 1
    }
   ],
   "metadata": {}
  }
 ]
}