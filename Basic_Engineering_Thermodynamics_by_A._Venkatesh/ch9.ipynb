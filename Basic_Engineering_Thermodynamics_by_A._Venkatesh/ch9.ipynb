{
 "metadata": {
  "name": "",
  "signature": "sha256:db9190b16f5381a0273b385245ae5408db2539c1355e253496c8d01bc2f77490"
 },
 "nbformat": 3,
 "nbformat_minor": 0,
 "worksheets": [
  {
   "cells": [
    {
     "cell_type": "heading",
     "level": 1,
     "metadata": {},
     "source": [
      "Chapter 9 : Ideal Gas and Ideal Gas Mixtures"
     ]
    },
    {
     "cell_type": "heading",
     "level": 2,
     "metadata": {},
     "source": [
      "Example 9.1 Page No : 253"
     ]
    },
    {
     "cell_type": "code",
     "collapsed": false,
     "input": [
      "\t\t\t\n",
      "# Variables\n",
      "m = 6. \t\t\t#kg \t\t\t#mass of nitrogen\n",
      "M = 28. \t\t\t#kg/kmol \t\t\t#molar mass of nitrogen\n",
      "R = 8314.3 \t\t\t#kg/kmol\n",
      "p = 1e5 \t\t\t#Pa \t\t\t#pressure\n",
      "T = 27.+273 \t\t\t#K \t\t\t#temperature\n",
      "\t\t\t\n",
      "# Calculations and Results\n",
      "V = m*R*T/(p*M)\n",
      "print \"Volume occupied by nitrogen = %.3f m**3\"%(V)\n"
     ],
     "language": "python",
     "metadata": {},
     "outputs": [
      {
       "output_type": "stream",
       "stream": "stdout",
       "text": [
        "Volume occupied by nitrogen = 5.345 m**3\n"
       ]
      }
     ],
     "prompt_number": 1
    },
    {
     "cell_type": "heading",
     "level": 2,
     "metadata": {},
     "source": [
      "Example 9.2 Page No : 253"
     ]
    },
    {
     "cell_type": "code",
     "collapsed": false,
     "input": [
      "\t\t\t\n",
      "# Variables\n",
      "p1 = 10. \t\t\t#bar \t\t\t#inital pressure\n",
      "T1 = 273.+227 \t\t\t#K \t\t\t#inital temperature\n",
      "v1 = 0.01 \t\t\t#m**3 \t\t\t#initial volume\n",
      "p2 = 1. \t\t\t#bar \t\t\t#final pressure\n",
      "T2 = 273.+27 \t\t\t#K \t\t\t#final temperature\n",
      "\t\t\t\n",
      "# Calculations and Results\n",
      "v2 = (p1/p2)*(T2/T1)*v1 \t\t\t#m**3 \t\t\t#final volume\n",
      "print \"Final volume = %.2f m**3\"%(v2)\n"
     ],
     "language": "python",
     "metadata": {},
     "outputs": [
      {
       "output_type": "stream",
       "stream": "stdout",
       "text": [
        "Final volume = 0.06 m**3\n"
       ]
      }
     ],
     "prompt_number": 2
    },
    {
     "cell_type": "heading",
     "level": 2,
     "metadata": {},
     "source": [
      "Example 9.3 Page No : 255"
     ]
    },
    {
     "cell_type": "code",
     "collapsed": false,
     "input": [
      "\t\t\t\n",
      "# Variables\n",
      "p = 1. \t\t\t#bar \t\t\t#pressure\n",
      "T = 50.+273 \t\t\t#\u00b0C \t\t\t#temperature\n",
      "h = 324.6 \t\t\t#kJ/kg \t\t\t#enthalpy\n",
      "R = 8.3143 \t\t\t#kJ/kmolK\n",
      "M = 28.97 \t\t\t#kg/kmol\n",
      "\n",
      "#Part (a)\n",
      "print \"Part a\";\n",
      "u = h - (R/M)*T \t\t\t#kJ/kg \t\t\t#internal energy\n",
      "print \"Internal energy = %.1f kJ/kg\"%(u)\n",
      "\n",
      "#Part (b)\n",
      "print \"Part b:i\";\n",
      "u = h - (R/M)*T \t\t\t#kJ/kg \t\t\t#internal energy\n",
      "print \"Enthalpy = %.1f kJ/kg\"%(h)\n",
      "print \"Internal energy = %.1f kJ/kg\"%(u)\n",
      "print \"Part b:ii\";\n",
      "u = h - (R/M)*T \t\t\t#kJ/kg \t\t\t#internal energy\n",
      "print \"Enthalpy = %.1f kJ/kg\"%(h)\n",
      "print \"Internal energy = %.1f kJ/kg\"%(u)\n"
     ],
     "language": "python",
     "metadata": {},
     "outputs": [
      {
       "output_type": "stream",
       "stream": "stdout",
       "text": [
        "Part a\n",
        "Internal energy = 231.9 kJ/kg\n",
        "Part b:i\n",
        "Enthalpy = 324.6 kJ/kg\n",
        "Internal energy = 231.9 kJ/kg\n",
        "Part b:ii\n",
        "Enthalpy = 324.6 kJ/kg\n",
        "Internal energy = 231.9 kJ/kg\n"
       ]
      }
     ],
     "prompt_number": 3
    },
    {
     "cell_type": "heading",
     "level": 2,
     "metadata": {},
     "source": [
      "Example 9.4 Page No : 256"
     ]
    },
    {
     "cell_type": "code",
     "collapsed": false,
     "input": [
      "\t\t\t\n",
      "# Variables\n",
      "Cv = 718 \t\t\t#J/kgK \t\t\t#specific at constant volume\n",
      "M = 28.97 \t\t\t#kg/kmol \t\t\t#molar mass of air\n",
      "R = 8314.3 \t\t\t#J/kmolK\n",
      "\t\t\t\n",
      "# Calculations and Results\n",
      "Cp = (R/M)+Cv \t\t\t#J/kgK \t\t\t#specific heat at constant pressure\n",
      "print \"Specific heat at constant pressure = %.0f J/kg K\"%(Cp)\n"
     ],
     "language": "python",
     "metadata": {},
     "outputs": [
      {
       "output_type": "stream",
       "stream": "stdout",
       "text": [
        "Specific heat at constant pressure = 1005 J/kg K\n"
       ]
      }
     ],
     "prompt_number": 1
    },
    {
     "cell_type": "heading",
     "level": 2,
     "metadata": {},
     "source": [
      "Example 9.5 Page No : 258"
     ]
    },
    {
     "cell_type": "code",
     "collapsed": false,
     "input": [
      "import math \n",
      "from scipy.integrate import quad \n",
      "\t\t\t\n",
      "# Variables\n",
      "p1 = 1. \t\t\t#bar \t\t\t#initial pressure\n",
      "T1 = 27.+273 \t\t\t#K \t\t\t#initial temperature\n",
      "p2 = 10. \t\t\t#bar \t\t\t#final pressure\n",
      "T2 = 327.+273 \t\t\t#K \t\t\t#final temperature\n",
      "\t\t\t\n",
      "# Calculations and Results\n",
      "#Part(a)\n",
      "print \"Part a\";\n",
      "\n",
      "def f2(T): \n",
      "\t return 1.4-18.3*(T/100)**(-1.5)+38.3*(T/100)**(-2)-29.3*(T/100)**(-3)\n",
      "\n",
      "delta_h =  quad(f2,T1,T2)[0]\n",
      "\n",
      "print \"Increase in specific enthalpy = %.2f kJ/kg\"%(delta_h)\n",
      "\n",
      "#Part(b)\n",
      "print \"Part b\";\n",
      "\n",
      "def f3(T): \n",
      "\t return 1.042\n",
      "\n",
      "delta_h =  quad(f3,T1,T2)[0]\n",
      "\n",
      "print \"Increase in specific enthalpy at Cp = 1.042 kJ/kgK) = %.2f kJ/kg\"%(delta_h)\n"
     ],
     "language": "python",
     "metadata": {},
     "outputs": [
      {
       "output_type": "stream",
       "stream": "stdout",
       "text": [
        "Part a\n",
        "Increase in specific enthalpy = 317.34 kJ/kg\n",
        "Part b\n",
        "Increase in specific enthalpy at Cp = 1.042 kJ/kgK) = 312.60 kJ/kg\n"
       ]
      }
     ],
     "prompt_number": 5
    },
    {
     "cell_type": "heading",
     "level": 2,
     "metadata": {},
     "source": [
      "Example 9.6 Page No : 268"
     ]
    },
    {
     "cell_type": "code",
     "collapsed": false,
     "input": [
      "%matplotlib inline\n",
      "\n",
      "from numpy import *\n",
      "from matplotlib.pyplot import *\n",
      "import math \n",
      "\t\t\t\n",
      "# Variables\n",
      "Cp = 1005. \t\t\t#J/kgK \t\t\t#specific heat at constant pressure\n",
      "Cv = 718. \t\t\t#J/kgK \t\t\t#specific heat at constant volume\n",
      "m = 1. \t\t\t#kg \t\t\t#mass of air\n",
      "T1 = (27.+273) \t\t\t#K \t\t\t#initial temperature\n",
      "p1 = 1e5 \t\t\t#Pa \t\t\t#initial pressure\n",
      "p2 = p1/2. \t\t\t#Pa \t\t\t#final pressure\n",
      "\n",
      "\t\t\t\n",
      "# Calculations and Results\n",
      "#Part(a)\n",
      "print \"Parta\";\n",
      "R = Cp-Cv \t\t\t#J/kgK\n",
      "V1_a = m*R*T1/p1 \t\t\t#m**3 \t\t\t#initial volume\n",
      "V2_a = V1_a \t\t\t#m**3 \t\t\t#final volume\n",
      "T2 = p2*V2_a/(m*R) \t\t\t#K \t\t\t#final temperature\n",
      "print \"Final temperature,T2 = %.1f K\"%(T2)\n",
      "\n",
      "#Part(b)\n",
      "print \"Partb\";\n",
      "V1_b = m*R*T1/p1 \t\t\t#m**3 \t\t\t#initial volume\n",
      "V2_b = V1_b*(p1/p2) \t\t\t#m**3 \t\t\t#final volume\n",
      "#Isothermal process => T1 = T2\n",
      "print \"Final temperature,T2 = %.1f K\"%(T1)\n",
      "\n",
      "#Part(c)\n",
      "print \"Partc\";\n",
      "R = Cp-Cv \t\t\t#J/kgK\n",
      "y = Cp/Cv\n",
      "V1_c = m*R*T1/p1 \t\t\t#m**3 \t\t\t#initial volume\n",
      "V2_c = V1_c*(p1/p2)**(1/y) \t\t\t#m**3 \t\t\t#final volume\n",
      "T2 = p2*V2_c/(m*R) \t\t\t#K \t\t\t#final temperature\n",
      "print \"Final temperature,T2 = %.0f K\"%(T2)\n",
      "\n",
      "#P-V diagram\n",
      "P = [p1*1e-5, p2*1e-5]\n",
      "V = [V1_a ,V1_a]\n",
      "plot(V,P,'b')       \t\t\t#plot for part(a)\n",
      "\n",
      "V = linspace(V1_b,V2_b,100)\n",
      "P = (p1*1e-5*V1_b)/V\n",
      "plot(V,P,'g')      \t\t\t#plot for part(b)\n",
      "\n",
      "V = linspace(V1_c,V2_c,100)\n",
      "P = (p1*1e-5*V1_c**y)/V**y\n",
      "plot(V,P,'r')     \t\t\t#plot for part(c)\n",
      "xlabel('Volume in m**3')\n",
      "ylabel('Pressure in bar')\n",
      "suptitle('p-V diagram sought in example 9.6')\n",
      "#legends(['Part (a)';'Part (b)';'Part (c)'],[2 3 5],opt=1)\n"
     ],
     "language": "python",
     "metadata": {},
     "outputs": [
      {
       "output_type": "stream",
       "stream": "stdout",
       "text": [
        "Parta\n",
        "Final temperature,T2 = 150.0 K\n",
        "Partb\n",
        "Final temperature,T2 = 300.0 K\n",
        "Partc\n",
        "Final temperature,T2 = 246 K\n"
       ]
      },
      {
       "metadata": {},
       "output_type": "pyout",
       "prompt_number": 1,
       "text": [
        "<matplotlib.text.Text at 0x1100b2a90>"
       ]
      },
      {
       "metadata": {},
       "output_type": "display_data",
       "png": "[encoded data removed]",
       "text": [
        "<matplotlib.figure.Figure at 0x112341d50>"
       ]
      }
     ],
     "prompt_number": 1
    },
    {
     "cell_type": "heading",
     "level": 2,
     "metadata": {},
     "source": [
      "Example 9.7 Page No : 270"
     ]
    },
    {
     "cell_type": "code",
     "collapsed": false,
     "input": [
      "import math \n",
      "from numpy.linalg import solve\n",
      "\t\t\t\n",
      "# Variables\n",
      "p1 = 10e6 \t\t\t#N/m**2 \t\t\t#initial pressure\n",
      "T1 = 273.+27 \t\t\t#K \t\t\t#inital temperature\n",
      "V1 = 50.e-3 \t\t\t#m**3 \t\t\t#inital volume\n",
      "M = 28. \t\t\t#g/mol \t\t\t#molecular mass\n",
      "R = 8314.3/M \t\t\t#J/kgK\n",
      "y = 1.4 \t\t\t#gamma\n",
      "\n",
      "\t\t\t\n",
      "# Calculations and Results\n",
      "#Part(a)\n",
      "print 'Parta';\n",
      "m = (p1*V1)/(R*T1)\n",
      "print \"Mass of nitrogen stored in bottle = %.3f kg\"%(m)\n",
      "\n",
      "#Part(b):(i)\n",
      "print 'Partb:i';\n",
      "p2 = 15e6 \t\t\t#N/m**2 \t\t\t#final pressure\n",
      "V2 = V1 \t\t\t#m**3 \t\t\t#final volume\n",
      "T2 = (p2*V2)/(m*R)\n",
      "print \"Temperature of nitrogen at maximum permitted temperature = %.1f K\"%(T2)\n",
      "\n",
      "#Part(b):(ii)\n",
      "print 'Partb:ii';\n",
      "C = solve([[1, -1.4],[1, -1]],[[0],[R]]) \t\t\t#J/kgK \t\t\t#C = [Cp;Cv]\n",
      "delta_U = m*C[1]*(T2-T1)*.001 \t\t\t#kJ \t\t\t#Change in internal energy\n",
      "print \"Change in internal energy = %.1f kJ\"%(delta_U)\n",
      "\n",
      "#Part(b):(iii)\n",
      "print 'Partb:iii';\n",
      "delta_H = m*C[0]*(T2-T1)*.001 \t\t\t#kJ \t\t\t#Change in enthalpy\n",
      "print \"Change in enthalpy = %.1f kJ\"%(delta_H)\n",
      "\n",
      "#Part(b):(iv)\n",
      "print 'Partb:iv';\n",
      "delta_S = m*(C[1]*math.log(T2/T1)+R*math.log(V2/V1))*.001 \t\t\t#kJ/K \t\t\t#Change in entropy\n",
      "print \"Change in entropy = %.4f kJ/K\"%(delta_S)\n"
     ],
     "language": "python",
     "metadata": {},
     "outputs": [
      {
       "output_type": "stream",
       "stream": "stdout",
       "text": [
        "Parta\n",
        "Mass of nitrogen stored in bottle = 5.613 kg\n",
        "Partb:i\n",
        "Temperature of nitrogen at maximum permitted temperature = 450.0 K\n",
        "Partb:ii\n",
        "Change in internal energy = 625.0 kJ\n",
        "Partb:iii\n",
        "Change in enthalpy = 875.0 kJ\n",
        "Partb:iv\n",
        "Change in entropy = 1.6894 kJ/K\n"
       ]
      }
     ],
     "prompt_number": 10
    },
    {
     "cell_type": "heading",
     "level": 2,
     "metadata": {},
     "source": [
      "Example 9.8 Page No : 271"
     ]
    },
    {
     "cell_type": "code",
     "collapsed": false,
     "input": [
      "import math \n",
      "\n",
      "\t\t\t\n",
      "# Variables\n",
      "T1 = 800. \t\t\t#K \t\t\t#initial temperature\n",
      "p1 = 1.5e6 \t\t\t#N/m**2 \t\t\t#initial pressure\n",
      "T2 = 540. \t\t\t#K \t\t\t#final temperature\n",
      "T2s = 485. \t\t\t#K \t\t\t#final temperature for reversible process\n",
      "Q = 0. \t\t\t#adiabatic process\n",
      "y = 1.4\n",
      "Cv = 718. \t\t\t#J/kgK \t\t\t#specific heat at constant volume\n",
      "\n",
      "\t\t\t\n",
      "# Calculations and Results\n",
      "delta_U = Cv*(T2-T1) \t\t\t#kJ/kg \t\t\t#change in internal energy\n",
      "W = (Q-delta_U)*.001 \t\t\t#kJ/kg \t\t\t#work done per kilogram\n",
      "print \"Work done per kilogram = %.1f kJ/kg\"%(W);\n",
      "\n",
      "p2 = p1*(T2s/T1)**(y/(y-1)) \t\t\t#N/m**2 \t\t\t#final pressure\n",
      "delta_S = (y*Cv)*math.log(T2/T1)-(y*Cv-Cv)*math.log(p2/p1)\n",
      "print \"Change in entropy = %.3f kJ/kgK\"%(delta_S*.001)\n"
     ],
     "language": "python",
     "metadata": {},
     "outputs": [
      {
       "output_type": "stream",
       "stream": "stdout",
       "text": [
        "Work done per kilogram = 186.7 kJ/kg\n",
        "Change in entropy = 0.108 kJ/kgK\n"
       ]
      }
     ],
     "prompt_number": 11
    },
    {
     "cell_type": "heading",
     "level": 2,
     "metadata": {},
     "source": [
      "Example 9.9 Page No : 279"
     ]
    },
    {
     "cell_type": "code",
     "collapsed": false,
     "input": [
      "import math \n",
      "\t\t\t\n",
      "# Variables\n",
      "xCO2 = 0.1 \t\t\t#mole fraction of CO2\n",
      "xO2 = .09 \t\t\t#mole fraction of O2\n",
      "xCO = 0.01 \t\t\t#mole fraction of CO\n",
      "xN2 = 0.8 \t\t\t#mole fraction of N2\n",
      "\n",
      "\t\t\t\n",
      "# Calculations and Results\n",
      "M = xCO2*44 + xO2*32 + xCO*28 + xN2*28 \t\t\t#kg/kmol \t\t\t#avg. molar mass\n",
      "R = 8314.3/M \t\t\t#J/kgK \t\t\t#gas constant\n",
      "yCO2 = xCO2*(44/M) \t\t\t#mass fraction of CO2\n",
      "yO2 = xO2*(32/M) \t\t\t#mass fraction of O2\n",
      "yCO = xCO*(28/M) \t\t\t#mass fraction of CO\n",
      "yN2 = xN2*(28/M) \t\t\t#mass fraction of N2\n",
      "\n",
      "print \"Molar Mass = %.2f kg/kmol\"%(M);\n",
      "print \"Gas constant = %.1f J/kgK\"%(R);\n",
      "print \"Mass fraction of CO2 = %.4f \"%(yCO2);\n",
      "print \"Mass fraction of O2 = %.4f \"%(yO2);\n",
      "print \"Mass fraction of CO = %.4f \"%(yCO);\n",
      "print \"Mass fraction of N2 = %.4f \"%(yN2);\n"
     ],
     "language": "python",
     "metadata": {},
     "outputs": [
      {
       "output_type": "stream",
       "stream": "stdout",
       "text": [
        "Molar Mass = 29.96 kg/kmol\n",
        "Gas constant = 277.5 J/kgK\n",
        "Mass fraction of CO2 = 0.1469 \n",
        "Mass fraction of O2 = 0.0961 \n",
        "Mass fraction of CO = 0.0093 \n",
        "Mass fraction of N2 = 0.7477 \n"
       ]
      }
     ],
     "prompt_number": 12
    },
    {
     "cell_type": "heading",
     "level": 2,
     "metadata": {},
     "source": [
      "Example 9.10 Page No : 280"
     ]
    },
    {
     "cell_type": "code",
     "collapsed": false,
     "input": [
      "import math \n",
      "\n",
      "# variables\n",
      "m = 1.9 \t\t\t#kg\n",
      "T = 273.+20 \t\t\t#K\n",
      "p = 150.e3 \t\t\t#Pa\n",
      "yO2 = 0.1 \t\t\t#mass fraction of O2\n",
      "yN2 = 0.75 \t\t\t#mass fraction of N2\n",
      "yCO2 = 0.12 \t\t\t#mass fraction of CO2\n",
      "yCO = 0.03 \t\t\t#mass fraction of CO\n",
      "\n",
      "\t\t\t\n",
      "# Calculations and Results\n",
      "#Part(a)\n",
      "print \"Parta\";\n",
      "M = 1/((yO2/32)+(yN2/28)+(yCO/28)+(yCO2/44)) \t\t\t#kg/kmol \t\t\t#molar mass\n",
      "print \"Molar mass = %.2f kg/kmol \"%(M)\n",
      "R = 8314.3/M \t\t\t#J/kgK \t\t\t#Gas constant\n",
      "print \"Gas constant = %.2f J/kgK \"%(R)\n",
      "V = m*R*T/p \t\t\t#m**3 \t\t\t#Volume\n",
      "\n",
      "#Part(b)\n",
      "print \"Partb\"\n",
      "xO2 = yO2*(M/32) \t\t\t#mole fraction O2\n",
      "print \"Mole fraction of O2 = %.3f\"%(xO2)\n",
      "pO2 = xO2*p \t\t\t#partial pressure O2\n",
      "print \"Partial pressure of O2 = %.2f kPa\"%(pO2*.001)\n",
      "VO2 = xO2*V \t\t\t#partial volume of O2\n",
      "print \"Partial volume of O2 = %.4f m**3\"%(VO2)\n",
      "\n",
      "\n",
      "xN2 = yN2*(M/28) \t\t\t#mole fraction N2\n",
      "print \"Mole fraction of N2 = %.3f\"%(xN2)\n",
      "pN2 = xN2*p \t\t\t#partial pressure N2\n",
      "print \"Partial pressure of N2 = %.2f kPa\"%(pN2*.001)\n",
      "VN2 = xN2*V \t\t\t#partial volume of N2\n",
      "print \"Partial volume of N2 = %.4f m**3\"%(VN2)\n",
      "\n",
      "\n",
      "xCO2 = yCO2*(M/44) \t\t\t#mole fraction CO2\n",
      "print \"Mole fraction of CO2 = %.3f\"%(xCO2)\n",
      "pCO2 = xCO2*p \t\t\t#partial pressure CO2\n",
      "print \"Partial pressure of CO2 = %.2f kPa\"%(pCO2*.001)\n",
      "VCO2 = xCO2*V \t\t\t#partial volume of CO2\n",
      "print \"Partial volume of CO2 = %.4f m**3\"%(VCO2)\n",
      "\n",
      "\n",
      "xCO = yCO*(M/28) \t\t\t#mole fraction CO\n",
      "print \"Mole fraction of CO = %.3f\"%(xCO)\n",
      "pCO = xCO*p \t\t\t#partial pressure CO\n",
      "print \"Partial pressure of CO = %.2f kPa\"%(pCO*.001)\n",
      "VCO = xCO*V \t\t\t#partial volume of CO\n",
      "print \"Partial volume of CO = %.4f m**3\"%(VCO)\n",
      "\n",
      "# note : rounding off error"
     ],
     "language": "python",
     "metadata": {},
     "outputs": [
      {
       "output_type": "stream",
       "stream": "stdout",
       "text": [
        "Parta\n",
        "Molar mass = 29.67 kg/kmol \n",
        "Gas constant = 280.27 J/kgK \n",
        "Partb\n",
        "Mole fraction of O2 = 0.093\n",
        "Partial pressure of O2 = 13.91 kPa\n",
        "Partial volume of O2 = 0.0964 m**3\n",
        "Mole fraction of N2 = 0.795\n",
        "Partial pressure of N2 = 119.19 kPa\n",
        "Partial volume of N2 = 0.8265 m**3\n",
        "Mole fraction of CO2 = 0.081\n",
        "Partial pressure of CO2 = 12.14 kPa\n",
        "Partial volume of CO2 = 0.0842 m**3\n",
        "Mole fraction of CO = 0.032\n",
        "Partial pressure of CO = 4.77 kPa\n",
        "Partial volume of CO = 0.0331 m**3\n"
       ]
      }
     ],
     "prompt_number": 2
    },
    {
     "cell_type": "heading",
     "level": 2,
     "metadata": {},
     "source": [
      "Example 9.11 Page No : 283"
     ]
    },
    {
     "cell_type": "code",
     "collapsed": false,
     "input": [
      "import math \n",
      "from numpy.linalg import solve\n",
      "\t\t\t\n",
      "# Variables\n",
      "R = 1841. \t\t\t#J/kgK \t\t\t#Gas constant\n",
      "Cp = 6310. \t\t\t#J/kgK \t\t\t#specific heat at constant pressure\n",
      "MN = 28. \t\t\t#kg/kmol \t\t\t#molar mass N2\n",
      "MH = 2. \t\t\t#kg/kmol \t\t\t#molar mass H2\n",
      "CpN = 1042. \t\t\t#J/kgK \t\t\t#specific heat of N2\n",
      "CpH = 14210. \t\t\t#J/kgK \t\t\t#specific heat of H2\n",
      "\n",
      "\t\t\t\n",
      "# Calculations and Results\n",
      "Y = solve([[8314.3/MN, 8314.3/MH],[CpN, CpH]],[[R],[ Cp]])\n",
      "YN = round(Y[0],1) \t\t\t#mass fraction of N2\n",
      "YH = round(Y[1],1) \t\t\t#mass fraction of H2\n",
      "XN = YN*(8314.3/(R*MN)) \t\t\t#volume fraction of N2\n",
      "XH = YH*(8314.3/(R*MH)) \t\t\t#volume fraction of H2\n",
      "print \"Mass fraction of N2 = %.1f \"%(YN)\n",
      "print \"Mass fraction of H2 = %.1f \"%(YH)\n",
      "print \"Volume fraction of N2 = %.4f \"%(XN)\n",
      "print \"Volume fraction of H2 = %.4f \"%(XH)\n",
      "\n",
      "# note : rounding off error"
     ],
     "language": "python",
     "metadata": {},
     "outputs": [
      {
       "output_type": "stream",
       "stream": "stdout",
       "text": [
        "Mass fraction of N2 = 0.6 \n",
        "Mass fraction of H2 = 0.4 \n",
        "Volume fraction of N2 = 0.0968 \n",
        "Volume fraction of H2 = 0.9032 \n"
       ]
      }
     ],
     "prompt_number": 10
    },
    {
     "cell_type": "heading",
     "level": 2,
     "metadata": {},
     "source": [
      "Example 9.12 Page No : 284"
     ]
    },
    {
     "cell_type": "code",
     "collapsed": false,
     "input": [
      "import math \n",
      "\t\t\t\n",
      "# Variables\n",
      "m = 1.9 \t\t\t#kg\n",
      "T = 273.+20 \t\t\t#K\n",
      "p = 150. \t\t\t#kPa\n",
      "pdat = 100. \t\t\t#kPa \t\t\t#datum pressure\n",
      "Tdat = 273. \t\t\t#K \t\t\t#datum temperature\n",
      "yO2 = 0.1 \t\t\t#mass fraction of O2\n",
      "yN2 = 0.75 \t\t\t#mass fraction of N2\n",
      "yCO2 = 0.12 \t\t\t#mass fraction of CO2\n",
      "yCO = 0.03 \t\t\t#mass fraction of CO\n",
      "xO2 = 0.093 \t\t\t#mole fraction of O2\n",
      "xN2 = 0.795 \t\t\t#mole fraction of N2\n",
      "xCO2 = 0.081 \t\t\t#mole fraction of CO2\n",
      "xCO = 0.031 \t\t\t#mole fraction of CO\n",
      "R = 280.22 \t\t\t#J/kgK\n",
      "M = 29.67 \t\t\t#kg/kmol \t\t\t#mixture molar mass\n",
      "CpO2=0.922 \t\t\t#kJ/kgK\n",
      "CpN2=1.042 \t\t\t#kJ/kgK\n",
      "CpCO2=0.842 \t\t\t#kJ/kgK\n",
      "CpCO=1.041 \t\t\t#kJ/kgK\n",
      "\n",
      "#Part(a)\n",
      "print \"Parta\";\n",
      "Cp = yN2*CpN2 + yO2*CpO2 + yCO2*CpCO2 + yCO*CpCO \t\t\t#kJ/kgK \t\t\t# specific heat of mixture at constant pressure\n",
      "Cv = Cp - R*.001 \t\t\t#specific heat of mixture at constant volume\n",
      "print \"Cp = %.3f kJ/kgK\"%(Cp)\n",
      "print \"Cv = %.4f kJ/kgK\"%(Cv) \n",
      "\n",
      "#Part(b)\n",
      "print \"Partb\";\n",
      "U = m*(Cv*(T-Tdat)) \t\t\t#kJ \t\t\t#internal energy\n",
      "print \"Internal energy = %.2f kJ\"%(U)\n",
      "\n",
      "#Part(c)\n",
      "print \"Partc\"\n",
      "H = U + m*R*T*.001 \t\t\t#kJ \t\t\t#enthalpy\n",
      "print \"Enthalpy = %.1f kJ\"%(H)\n",
      "\n",
      "#Part(d)\n",
      "print \"Partd\"\n",
      "SO2 = CpO2*math.log(T/Tdat)-(8.3143/32)*math.log(xO2*(p/pdat)) \t\t\t#kJ/kgK \t\t\t#entropy of O2\n",
      "SN2 = CpN2*math.log(T/Tdat)-(8.3143/28)*math.log(xN2*(p/pdat)) \t\t\t#kJ/kgK \t\t\t#entropy of N2\n",
      "SCO2 = CpCO2*math.log(T/Tdat)-(8.3143/44)*math.log(xCO2*(p/pdat)) \t\t\t#kJ/kgK \t\t\t#entropy of CO2\n",
      "SCO = CpCO*math.log(T/Tdat)-(8.3143/28)*math.log(xCO*(p/pdat)) \t\t\t#kJ/kgK \t\t\t#entropy of CO\n",
      "\n",
      "S = m*(yO2*SO2+yN2*SN2+yCO2*SCO2+yCO*SCO) \t\t\t#kJ/K \t\t\t#entropy\n",
      "print \"Entropy = %.4f kJ/K\"%(S)\n"
     ],
     "language": "python",
     "metadata": {},
     "outputs": [
      {
       "output_type": "stream",
       "stream": "stdout",
       "text": [
        "Parta\n",
        "Cp = 1.006 kJ/kgK\n",
        "Cv = 0.7258 kJ/kgK\n",
        "Partb\n",
        "Internal energy = 27.58 kJ\n",
        "Partc\n",
        "Enthalpy = 183.6 kJ\n",
        "Partd\n",
        "Entropy = 0.3006 kJ/K\n"
       ]
      }
     ],
     "prompt_number": 15
    },
    {
     "cell_type": "heading",
     "level": 2,
     "metadata": {},
     "source": [
      "Example 9.13 Page No : 288"
     ]
    },
    {
     "cell_type": "code",
     "collapsed": false,
     "input": [
      "import math \n",
      "\t\t\t\n",
      "# Variables\n",
      "V_He = 0.3 \t\t\t#m**3 \t\t\t#volume of Helium\n",
      "p_He = 20e5 \t\t\t#Pa \t\t\t#pressure of Helium\n",
      "T_He = 273.+30 \t\t\t#K \t\t\t#Temperature of Helium\n",
      "V_O2 = 0.7 \t\t\t#m**3 \t\t\t#volume of O2\n",
      "p_O2 = 6e5 \t\t\t#Pa \t\t\t#pressure of O2\n",
      "T_O2 = 273.+2 \t\t\t#K Temperature of O2\n",
      "R_He = 2077. \t\t\t#J/kgK\n",
      "R_O2 = 260. \t\t\t#J/kgK\n",
      "Cv_He = 3116. \t\t\t#J/kgK\n",
      "Cv_O2 = 662. \t\t\t#J/kgK\n",
      "\t\t\t\n",
      "# Calculations and Results\n",
      "m_He = (p_He*V_He)/(R_He*T_He) \t\t\t#kg \t\t\t#mass of Helium\n",
      "m_O2 = (p_O2*V_O2)/(R_O2*T_O2) \t\t\t#kg \t\t\t#mass of O2\n",
      "T_ad = (m_He*Cv_He*T_He+m_O2*Cv_O2*T_O2)/(m_He*Cv_He+m_O2*Cv_O2) \t\t\t#K \t\t\t#Temperature after mixing\n",
      "T_final = 300 \t\t\t#K \t\t\t#final temperature\n",
      "Q = (Cv_He*m_He+Cv_O2*m_O2)*(T_final-T_ad) \t\t\t#J \t\t\t#Magnitude of heat transfer\n",
      "print \"Magnitude of heat transfer = %.2f kJ\"%(Q*.001)\n"
     ],
     "language": "python",
     "metadata": {},
     "outputs": [
      {
       "output_type": "stream",
       "stream": "stdout",
       "text": [
        "Magnitude of heat transfer = 88.30 kJ\n"
       ]
      }
     ],
     "prompt_number": 16
    },
    {
     "cell_type": "heading",
     "level": 2,
     "metadata": {},
     "source": [
      "Example 9.14 Page No : 289"
     ]
    },
    {
     "cell_type": "code",
     "collapsed": false,
     "input": [
      "import math \n",
      "\t\t\t\n",
      "# Variables\n",
      "T_E = (273.+20) \t\t\t#K \t\t\t#temperature of ethane\n",
      "p_E = 200. \t\t\t#kPa \t\t\t#pressure of ethane\n",
      "T_M = 273.+45 \t\t\t#K \t\t\t#temperature of methane\n",
      "p_M = 200. \t\t\t#kPa \t\t\t#pressure of methane\n",
      "m_E = 9. \t\t\t#kg/s \t\t\t#mass rate of ethane\n",
      "m_M = 4.5 \t\t\t#kg/s \t\t\t#mass rate of methane\n",
      "Cp_E = 1766. \t\t\t#J/kgK \t\t\t#specific heat of ethane\n",
      "Cp_M = 2254. \t\t\t#J/kgK \t\t\t#specific heat of methane\n",
      "\n",
      "\t\t\t\n",
      "# Calculations and Results\n",
      "#Part(a)\n",
      "print \"Parta\";\n",
      "T = (m_E*Cp_E*T_E+m_M*Cp_M*T_M)/(m_E*Cp_E+m_M*Cp_M) \t\t\t#K \t\t\t#mixture temperature\n",
      "print \"Mixture temperature = %.1f K\"%(T)\n",
      "\n",
      "#Part(b)\n",
      "print \"Partb\";\n",
      "R_E = 8314.3/30 \t\t\t#J/kgK \t\t\t#gas constant for ethane\n",
      "R_M = 8314.3/16 \t\t\t#J/kgK \t\t\t#gas constant for methane\n",
      "R = (m_E/(m_E+m_M))*R_E+(m_M/(m_E+m_M))*R_M \t\t\t#J/kgK \t\t\t#gas constant of mixture\n",
      "M = 8314.3/R \t\t\t#kg/kmol \t\t\t#mixture molar mass\n",
      "x_E = (m_E/(m_E+m_M))*(M/30) \t\t\t#mole fraction of ethane\n",
      "x_M = (m_M/(m_E+m_M))*(M/16) \t\t\t#mole fraction of methane\n",
      "\n",
      "delta_S_E = Cp_E*math.log(T/T_E) - R_E*math.log(x_E) \t\t\t#J/kgK \t\t\t#change in entropy of ethane\n",
      "delta_S_M = Cp_M*math.log(T/T_M) - R_M*math.log(x_M) \t\t\t#J/kgK \t\t\t#change in entropy of methane\n",
      "\n",
      "print \"Rate of entropy production = %.4f kJ/sK\"%((m_E*delta_S_E+m_M*delta_S_M)*.001)\n",
      "\n",
      "# note : rounding off error"
     ],
     "language": "python",
     "metadata": {},
     "outputs": [
      {
       "output_type": "stream",
       "stream": "stdout",
       "text": [
        "Parta\n",
        "Mixture temperature = 302.7 K\n",
        "Partb\n",
        "Rate of entropy production = 3.3681 kJ/sK\n"
       ]
      }
     ],
     "prompt_number": 11
    }
   ],
   "metadata": {}
  }
 ]
}