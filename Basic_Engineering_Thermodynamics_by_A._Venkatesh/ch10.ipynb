{
 "metadata": {
  "name": "",
  "signature": "sha256:1a81913d8f306ac03dbac9653a74d59c865e73e675c11ff3c8d84de998d79d37"
 },
 "nbformat": 3,
 "nbformat_minor": 0,
 "worksheets": [
  {
   "cells": [
    {
     "cell_type": "heading",
     "level": 1,
     "metadata": {},
     "source": [
      "Chapter 10 : Properties of Pure Substance - Water"
     ]
    },
    {
     "cell_type": "heading",
     "level": 2,
     "metadata": {},
     "source": [
      "Example 10.1 Page No : 333"
     ]
    },
    {
     "cell_type": "code",
     "collapsed": false,
     "input": [
      "import math \n",
      "\t\t\t\n",
      "# Variables\n",
      "m = 1.5 \t\t\t#kg \t\t\t#mass of wet steam\n",
      "mf = 0.08*m \t\t\t#kg \t\t\t#mass of liquid in wet steam\n",
      "\t\t\t\n",
      "# Calculations and Results\n",
      "x = (m-mf)/m \t\t\t#dryness fraction of mixture\n",
      "print \"Dryness fraction of mixture = %.2f\"%(x)\n"
     ],
     "language": "python",
     "metadata": {},
     "outputs": [
      {
       "output_type": "stream",
       "stream": "stdout",
       "text": [
        "Dryness fraction of mixture = 0.92\n"
       ]
      }
     ],
     "prompt_number": 1
    },
    {
     "cell_type": "heading",
     "level": 2,
     "metadata": {},
     "source": [
      "Example 10.2 Page No : 333"
     ]
    },
    {
     "cell_type": "code",
     "collapsed": false,
     "input": [
      "import math \n",
      "\n",
      "\t\t\t\n",
      "# Variables\n",
      "x = 0.85 \t\t\t#quality of steam\n",
      "print \"The ratio of mass of saturated liquid to saturated steam = %.5f\"%((1-x)/x)\n"
     ],
     "language": "python",
     "metadata": {},
     "outputs": [
      {
       "output_type": "stream",
       "stream": "stdout",
       "text": [
        "The ratio of mass of saturated liquid to saturated steam = 0.17647\n"
       ]
      }
     ],
     "prompt_number": 2
    },
    {
     "cell_type": "heading",
     "level": 2,
     "metadata": {},
     "source": [
      "Example 10.3 Page No : 350"
     ]
    },
    {
     "cell_type": "code",
     "collapsed": false,
     "input": [
      "import math \n",
      "\n",
      "# Variables\n",
      "p1 = 200. \t\t\t#kPa \t\t\t#initial pressure\n",
      "t1 = 100. \t\t\t#\u00b0C \t\t\t#initial temperature\n",
      "ts = 120.23 \t\t\t#\u00b0C \t\t\t#saturated steam temperature\n",
      "\n",
      "\t\t\t\n",
      "# Calculations and Results\n",
      "#From steam table\n",
      "v1 = 0.001044 \t\t\t#m**3/kg \t\t\t#volume per kilogram of water \n",
      "h1 = 419 \t\t\t#kJ/kg \t\t\t#enthalpy per kilogram of water\n",
      "s1 = 1.3068 \t\t\t#kJ/kg \t\t\t#entropy per kilogram of water\n",
      "u1 = h1-p1*v1 \t\t\t#kJ/kg \t\t\t#internal energy per kilogram of water\n",
      "print \"Volume per kilogram of water = %.6f m**3/kg\"%(v1)\n",
      "print \"Enthalpy per kilogram of water = %.1f kJ/kg\"%(h1)\n",
      "print \"Entropy per kilogram of water = %.4f kJ/kgK\"%(s1)\n",
      "print \"Internal energy per kilogram of water = %.1f kJ/kg\"%(u1)\n",
      "\n"
     ],
     "language": "python",
     "metadata": {},
     "outputs": [
      {
       "output_type": "stream",
       "stream": "stdout",
       "text": [
        "Volume per kilogram of water = 0.001044 m**3/kg\n",
        "Enthalpy per kilogram of water = 419.0 kJ/kg\n",
        "Entropy per kilogram of water = 1.3068 kJ/kgK\n",
        "Internal energy per kilogram of water = 418.8 kJ/kg\n"
       ]
      }
     ],
     "prompt_number": 3
    },
    {
     "cell_type": "heading",
     "level": 2,
     "metadata": {},
     "source": [
      "Example 10.4 Page No : 350"
     ]
    },
    {
     "cell_type": "code",
     "collapsed": false,
     "input": [
      "import math\n",
      "\t\t\t\n",
      "# Variables\n",
      "p1 = 500. \t\t\t#kPa \t\t\t#initial pressure\n",
      "s1 = 1.3625 \t\t\t#initial entropy\n",
      "\n",
      "\t\t\t\n",
      "# Calculations and Results\n",
      "#Using Method 2:\n",
      "Ts = 424.28 \t\t\t#K \t\t\t#temperature at 500kPa\n",
      "sf = 1.8606 \t\t\t#kJ/kgK \t\t\t#entropy at 500kPa\n",
      "Cwat = 4.189 \t\t\t#kJ/kgK \t\t\t#specific heat of water\n",
      "T1 = round((math.exp((sf-s1)/Cwat)/Ts)**-1) \t\t\t#K\n",
      "print \"Temperature = %.2f \u00b0C\"%(T1-273)\n",
      "v1 = 0.001 \t\t\t#m**3/kg \t\t\t#volume per kg water\n",
      "h1 = (640.21 - Cwat*(151.86-T1+273)) \t\t\t# kJ/kg \t\t\t#Enthalpy per kg water\n",
      "u1 = h1 - p1*v1 \t\t\t#kJ/kg \t\t\t#internal energy per kg water\n",
      "print \"Volume per kg water = %f m**3/kg\"%(v1)\n",
      "print \"Enthalpy per kg water = %.1f kJ/kg\"%(h1)\n",
      "print \"Internal energy per kg water = %.1f kJ/kg\"%(u1)\n",
      "\n",
      "# note : rounding off error. please check."
     ],
     "language": "python",
     "metadata": {},
     "outputs": [
      {
       "output_type": "stream",
       "stream": "stdout",
       "text": [
        "Temperature = 104.00 \u00b0C\n",
        "Volume per kg water = 0.001000 m**3/kg\n",
        "Enthalpy per kg water = 439.7 kJ/kg\n",
        "Internal energy per kg water = 439.2 kJ/kg\n"
       ]
      }
     ],
     "prompt_number": 3
    },
    {
     "cell_type": "heading",
     "level": 2,
     "metadata": {},
     "source": [
      "Example 10.5 Page No : 353"
     ]
    },
    {
     "cell_type": "code",
     "collapsed": false,
     "input": [
      "\t\t\t\n",
      "# Variables\n",
      "t = 50. \t\t\t#\u00b0C \t\t\t#temperature of water\n",
      "h = 209.31 \t\t\t#kJ/kg\n",
      "\t\t\t\n",
      "# Calculations and Results\n",
      "#From saturated property table\n",
      "p = 12.35 \t\t\t#kPa\n",
      "v = 0.001012 \t\t\t#m**3/kg\n",
      "u = h - p*v \t\t\t#kJ/kg\n",
      "s = 0.7037 \t\t\t#kJ/kg\n",
      "print \"Pressure = %.2f kPa\"%(p)\n",
      "print \"Volume per kg water = %.6f m**3/kg\"%(v)\n",
      "print \"Internal energy per kg water = %.1f kJ/kg\"%(u)\n",
      "print \"Entropy per kg water = %.4f kJ/kgK\"%(s)\n"
     ],
     "language": "python",
     "metadata": {},
     "outputs": [
      {
       "output_type": "stream",
       "stream": "stdout",
       "text": [
        "Pressure = 12.35 kPa\n",
        "Volume per kg water = 0.001012 m**3/kg\n",
        "Internal energy per kg water = 209.3 kJ/kg\n",
        "Entropy per kg water = 0.7037 kJ/kgK\n"
       ]
      }
     ],
     "prompt_number": 5
    },
    {
     "cell_type": "heading",
     "level": 2,
     "metadata": {},
     "source": [
      "Example 10.6 Page No : 353"
     ]
    },
    {
     "cell_type": "code",
     "collapsed": false,
     "input": [
      "\t\t\t\n",
      "# Variables\n",
      "p = 12. \t\t\t#bar \t\t\t#pressure of steam leaving boiler\n",
      "h = 2705. \t\t\t#kJ/kg \t\t\t#Enthalpy of steam\n",
      "\t\t\t\n",
      "# Calculations and Results\n",
      "#From pressure based saturated property table, at p = 12bar\n",
      "hf = 798.64 \t\t\t#kJ/kg\n",
      "hg = 2784.8 \t\t\t#kJ/kg\n",
      "x = (h-hf)/(hg-hf) \t\t\t#Dryness fraction\n",
      "v = (1-x)*0.001139 + (x)*0.1633 \t\t\t#m**3/kg\n",
      "s = (1-x)*2.2165 + (x)*6.5233 \t\t\t#m**3/kgK\n",
      "u = h - p*v*100 \t\t\t#kJ/kg\n",
      "print \"Volume per kg water = %.4f m**3/kg\"%(v)\n",
      "print \"Internal energy per kg water = %.0f kJ/kg\"%(u)\n",
      "print \"Entropy per kg water = %.3f kJ/kgK\"%(s)\n"
     ],
     "language": "python",
     "metadata": {},
     "outputs": [
      {
       "output_type": "stream",
       "stream": "stdout",
       "text": [
        "Volume per kg water = 0.1568 m**3/kg\n",
        "Internal energy per kg water = 2517 kJ/kg\n",
        "Entropy per kg water = 6.350 kJ/kgK\n"
       ]
      }
     ],
     "prompt_number": 1
    },
    {
     "cell_type": "heading",
     "level": 2,
     "metadata": {},
     "source": [
      "Example 10.7 Page No : 354"
     ]
    },
    {
     "cell_type": "code",
     "collapsed": false,
     "input": [
      "\t\t\t\n",
      "# Variables\n",
      "p = 15 \t\t\t#bar\n",
      "u = 2594.5 \t\t\t#kJ/kg\n",
      "\t\t\t\n",
      "# Calculations and Results\n",
      "#From saturated steam table based on pressure at p = 15 bar\n",
      "hf = 844.87 \t\t\t#kJ/kg\n",
      "hg = 2792.1 \t\t\t#kJ/kg\n",
      "vf = 0.001154 \t\t\t#m**3/kg\n",
      "vg = 0.13177 \t\t\t#m**3/kg\n",
      "uf = hf-100*p*vf \t\t\t#kJ/kg\n",
      "ug = hg-100*p*vg \t\t\t#kJ/kg\n",
      "\n",
      "if u-ug<0.1 :\n",
      "    print \"Temperature = %.2f \u00b0C\"%(198.32)\n",
      "    print \"Volume per kg water = %.5f m**3/kg\"%(vg)\n",
      "    print \"Enthalpy per kg water = %.1f kJ/kg\"%(hg)\n",
      "    print \"Internal energy per kg water = %.1f kJ/kg\"%(ug)\n",
      "    print \"Entropy per kg water = %.4f kJ/kgK\"%(6.4448)\n",
      "\n"
     ],
     "language": "python",
     "metadata": {},
     "outputs": [
      {
       "output_type": "stream",
       "stream": "stdout",
       "text": [
        "Temperature = 198.32 \u00b0C\n",
        "Volume per kg water = 0.13177 m**3/kg\n",
        "Enthalpy per kg water = 2792.1 kJ/kg\n",
        "Internal energy per kg water = 2594.4 kJ/kg\n",
        "Entropy per kg water = 6.4448 kJ/kgK\n"
       ]
      }
     ],
     "prompt_number": 2
    },
    {
     "cell_type": "heading",
     "level": 2,
     "metadata": {},
     "source": [
      "Example 10.8 Page No : 355"
     ]
    },
    {
     "cell_type": "code",
     "collapsed": false,
     "input": [
      "# Variables\n",
      "p = 10e6 \t\t\t#Pa\n",
      "t = 550. \t\t\t#\u00b0C\n",
      "\t\t\t\n",
      "# Calculations and Results\n",
      "#From superheated property table\n",
      "v_500 = 0.03279 \t\t\t#m**3/kg\n",
      "v_600 = 0.03837 \t\t\t#m**3/kg\n",
      "v_550 = v_500 + (v_500-v_600)/(500-600)*(550-500) \t\t\t#m**3/kg\n",
      "h_500 = 3373.6 \t\t\t#kJ/kg\n",
      "h_600 = 3625.3 \t\t\t#kJ/kg\n",
      "h_550 = h_500 + (h_500-h_600)/(500-600)*(550-500) \t\t\t#kJ/kg\n",
      "s_500 = 6.5965 \t\t\t#kJ/kgK\n",
      "s_600 = 6.9028 \t\t\t#kJ/kgK\n",
      "s_550 = s_500 + (s_500-s_600)/(500-600)*(550-500) \t\t\t#kJ/kgK\n",
      "print \"Volume per kg water = %.6f m**3/kg\"%(v_550)\n",
      "print \"Enthalpy per kg water = %.1f kJ/kg\"%(h_550)\n",
      "print \"Entropy per kg water = %.4f kJ/kgK\"%(s_550)\n",
      "\n"
     ],
     "language": "python",
     "metadata": {},
     "outputs": [
      {
       "output_type": "stream",
       "stream": "stdout",
       "text": [
        "Volume per kg water = 0.035580 m**3/kg\n",
        "Enthalpy per kg water = 3499.4 kJ/kg\n",
        "Entropy per kg water = 6.7496 kJ/kgK\n"
       ]
      }
     ],
     "prompt_number": 8
    },
    {
     "cell_type": "heading",
     "level": 2,
     "metadata": {},
     "source": [
      "Example 10.9 Page No : 355"
     ]
    },
    {
     "cell_type": "code",
     "collapsed": false,
     "input": [
      "\n",
      "\t\t\t\n",
      "# Variables\n",
      "t = 250. \t\t\t#\u00b0C \n",
      "h = 2855.8 \t\t\t#kJ/kg\n",
      "\n",
      "#From superheated property table\n",
      "p = 3e6 \t\t\t#Pa\n",
      "v = 0.07058 \t\t\t#m**3/kg\n",
      "s = 6.2871 \t\t\t#kJ/kgK\n",
      "u = h - p*v*.001 \t\t\t#kJ/kg\n",
      "print \"Pressure = %.1f MPa\"%(p*1e-6)\n",
      "print \"Volume per kilogram of water = %.5f m**3/kg\"%(v)\n",
      "print \"Enthalpy per kilogram of water = %.1f kJ/kg\"%(h)\n",
      "print \"Entropy per kilogram of water = %.4f kJ/kgK\"%(s)\n",
      "print \"Internal energy per kilogram of water = %.0f kJ/kg\"%(u)\n",
      "\n"
     ],
     "language": "python",
     "metadata": {},
     "outputs": [
      {
       "output_type": "stream",
       "stream": "stdout",
       "text": [
        "Pressure = 3.0 MPa\n",
        "Volume per kilogram of water = 0.07058 m**3/kg\n",
        "Enthalpy per kilogram of water = 2855.8 kJ/kg\n",
        "Entropy per kilogram of water = 6.2871 kJ/kgK\n",
        "Internal energy per kilogram of water = 2644 kJ/kg\n"
       ]
      }
     ],
     "prompt_number": 3
    },
    {
     "cell_type": "heading",
     "level": 2,
     "metadata": {},
     "source": [
      "Example 10.10 Page No : 359"
     ]
    },
    {
     "cell_type": "code",
     "collapsed": false,
     "input": [
      "\n",
      "# variables\n",
      "p = 2. \t\t\t#bar\n",
      "m = 0.16 \t\t\t#kg\n",
      "V = 0.1 \t\t\t#m**3\n",
      "\t\t\t\n",
      "# Calculations and Results\n",
      "#refereing to the saturation temperature corresponding to 2bar\n",
      "v = V/m \t\t\t#m**3/kg\n",
      "vf = 0.001061 \t\t\t#m**3/kg\n",
      "vg = 0.8857 \t\t\t#m**3/kg\n",
      "print 'Specific volume at saturated liquid phase vf) = %.6f m**3/kg '%(vf)\n",
      "print 'Specific volume at saturated vapor phase vg) = %.6f m**3/kg '%(vg)\n",
      "    \n",
      "if v<vg and v>vf :\n",
      "    print 'The temperature of the steam must be equal to saturation temperature corresponding to 2 bar'\n",
      "    print \"Temperature of steam = %.2f \u00b0C\"%(120.23)\n"
     ],
     "language": "python",
     "metadata": {},
     "outputs": [
      {
       "output_type": "stream",
       "stream": "stdout",
       "text": [
        "Specific volume at saturated liquid phase vf) = 0.001061 m**3/kg \n",
        "Specific volume at saturated vapor phase vg) = 0.885700 m**3/kg \n",
        "The temperature of the steam must be equal to saturation temperature corresponding to 2 bar\n",
        "Temperature of steam = 120.23 \u00b0C\n"
       ]
      }
     ],
     "prompt_number": 10
    },
    {
     "cell_type": "heading",
     "level": 2,
     "metadata": {},
     "source": [
      "Example 10.11 Page No : 360"
     ]
    },
    {
     "cell_type": "code",
     "collapsed": false,
     "input": [
      "\t\t\t\n",
      "# Variables\n",
      "p1 = 2. \t\t\t#bar\n",
      "v1 = 0.624 \t\t\t#m**3/kg\n",
      "t = 120.23 \t\t\t#\u00b0C\n",
      "m = 0.16 \t\t\t#kg\n",
      "\t\t\t\n",
      "# Calculations and Results\n",
      "vf = 0.001061 \t\t\t#m**3/kg\n",
      "vg = 0.8857 \t\t\t#m**3/kg\n",
      "x1 = (v1-vf)/(vg-vf) \t\t\t#Dryness fraction\n",
      "hf = 504.68 \t\t\t#kJ/kg\n",
      "hg = 2706.6 \t\t\t#kJ/kg\n",
      "h1 = (1-x1)*hf + x1*hg \t\t\t#kJ/kg\n",
      "u1 = h1 - p1*v1*100\t\t\t#kJ/kg\n",
      "\n",
      "v2 = v1 \t\t\t#m**3/kg\n",
      "vf = 0.001044 \t\t\t#m**3/kg\n",
      "vg = 1.673 \t\t\t#m**3/kg\n",
      "x2 = (v1-vf)/(vg-vf) \t\t\t#Dryness fraction\n",
      "hf = 419. \t\t\t#kJ/kg\n",
      "hg = 2676. \t\t\t#kJ/kg\n",
      "h2 = (1-x2)*hf + x2*hg \t\t\t#kJ/kg\n",
      "p2 = 1.010325 \t\t\t#bar\n",
      "u2 = h2 - (p2*100)*v2 \t\t\t#kJ/kg\n",
      "print \"Heat rejected from steam = %.1f kJ\"%(m*(u2-u1))\n",
      "\n"
     ],
     "language": "python",
     "metadata": {},
     "outputs": [
      {
       "output_type": "stream",
       "stream": "stdout",
       "text": [
        "Heat rejected from steam = -117.4 kJ\n"
       ]
      }
     ],
     "prompt_number": 9
    },
    {
     "cell_type": "heading",
     "level": 2,
     "metadata": {},
     "source": [
      "Example 10.12 Page No : 361"
     ]
    },
    {
     "cell_type": "code",
     "collapsed": false,
     "input": [
      "\t\t\t\n",
      "# Variables\n",
      "m =0.1  \t\t\t#kg\n",
      "p1 = 10. \t\t\t#bar \n",
      "p2 = 1. \t\t\t#bar\n",
      "\t\t\t\n",
      "# Calculations and Results\n",
      "#From saturated steam table\n",
      "v1 = 0.1944 \t\t\t#m**3/kg\n",
      "v2 = (p1/p2)**(1/1.3)*v1 \t\t\t#m**3/kg\n",
      "W = m*(p1*v1-p2*v2)*100/(1.3-1) \t\t\t#kJ\n",
      "print \"Work during expansion process = %.2f kJ\"%(W)\n",
      "h1 = 2778.1 \t\t\t#kJ/kg\n",
      "u1 = (h1 - p1*v1*100) \t\t\t#kJ/kg\n",
      "\n",
      "vf = 0.001043 \t\t\t#m**3/kg\n",
      "vg = 1.694 \t\t\t#m**3/kg\n",
      "x2 = (v2-vf)/(vg-vf) \t\t\t#Dryness fraction\n",
      "hf = 417.33 \t\t\t#kJ/kg\n",
      "hg = 2675.5 \t\t\t#kJ/kg\n",
      "h2 = (1-x2)*hf + x2*hg \t\t\t#kJ/kg\n",
      "u2 = h2 - p2*v2*100 \t\t\t#kJ/kg\n",
      "print \"Heat rejected from steam = %.2f kJ\"%(W+m*(u2-u1))\n",
      "\n",
      "# note : rounding off error"
     ],
     "language": "python",
     "metadata": {},
     "outputs": [
      {
       "output_type": "stream",
       "stream": "stdout",
       "text": [
        "Work during expansion process = 26.71 kJ\n",
        "Heat rejected from steam = -49.07 kJ\n"
       ]
      }
     ],
     "prompt_number": 11
    },
    {
     "cell_type": "heading",
     "level": 2,
     "metadata": {},
     "source": [
      "Example 10.13 Page No : 362"
     ]
    },
    {
     "cell_type": "code",
     "collapsed": false,
     "input": [
      "# Variables\n",
      "p1 = 10. \t\t\t#bar\n",
      "t1 = 300. \t\t\t#\u00b0C\n",
      "V1 = 50. \t\t\t#m/s\n",
      "p2 = 1. \t\t\t#bar\n",
      "m = 1.2 \t\t\t#kg/s\n",
      "\n",
      "\t\t\t\n",
      "# Calculations and Results\n",
      "\t\t\t#From superheated steam table\n",
      "h1 = 3051.2 \t\t\t#kJ/kg\n",
      "s1 = 7.1228 \t\t\t#kJ/kgK\n",
      "p2 = 1 \t\t\t#bar\n",
      "s2 = s1 \t\t\t#kJ/kgK\n",
      "\n",
      "sf = 1.3025 \t\t\t#kJ/kgK\n",
      "sg = 7.3593 \t\t\t#kJ/kgK\n",
      "x2 = (s2-sf)/(sg-sf) \t\t\t#Dryness fraction\n",
      "hf = 417.44 \t\t\t#kJ/kg\n",
      "hg = 2675.5 \t\t\t#kJ/kg\n",
      "h2 = (1-x2)*hf + x2*hg \t\t\t#kJ/kg\n",
      "vf = 0.001043 \t\t\t#m**3/kg\n",
      "vg = 1.694 \t\t\t#m**3/kg\n",
      "v2 = (1-x2)*vf + x2*vg \t\t\t#m**3/kg\n",
      "V2 = (2*(1000*(h1-h2))+V1**2)**0.5 \t\t\t#m/s\n",
      "A2 = m*v2/V2*10000\t\t\t#cm**3\n",
      "print \"The exit area of the nozzle = %.1f cm**2\"%(A2)\n"
     ],
     "language": "python",
     "metadata": {},
     "outputs": [
      {
       "output_type": "stream",
       "stream": "stdout",
       "text": [
        "The exit area of the nozzle = 20.3 cm**2\n"
       ]
      }
     ],
     "prompt_number": 13
    },
    {
     "cell_type": "heading",
     "level": 2,
     "metadata": {},
     "source": [
      "Example 10.14 Page No : 363"
     ]
    },
    {
     "cell_type": "code",
     "collapsed": false,
     "input": [
      "\t\t\t\n",
      "# Variables\n",
      "m1 = 0.2 \t\t\t#kg/s\n",
      "p = 4. \t\t\t#bar\n",
      "\t\t\t\n",
      "# Calculations and Results\n",
      "#From superheated steam table\n",
      "h1 = 2752.8 \t\t\t#kJ/kg\n",
      "h2 = 209.31 \t\t\t#kJ/kg\n",
      "h3 = 604.73 \t\t\t#kJ/kg\n",
      "\n",
      "m2 = (m1*h1-m1*h3)/(h3-h2) \t\t\t#kg/s\n",
      "print \"The flow rate of feed water into the heater = %.3f kg/s\"%(m2)\n"
     ],
     "language": "python",
     "metadata": {},
     "outputs": [
      {
       "output_type": "stream",
       "stream": "stdout",
       "text": [
        "The flow rate of feed water into the heater = 1.086 kg/s\n"
       ]
      }
     ],
     "prompt_number": 14
    }
   ],
   "metadata": {}
  }
 ]
}