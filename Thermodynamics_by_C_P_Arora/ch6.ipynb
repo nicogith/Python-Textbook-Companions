{
 "metadata": {
  "name": "",
  "signature": "sha256:5459d630b29dbbdfd93621a60c527ff0a5f89773e97a2a1d2563ab75e7bd7c03"
 },
 "nbformat": 3,
 "nbformat_minor": 0,
 "worksheets": [
  {
   "cells": [
    {
     "cell_type": "heading",
     "level": 1,
     "metadata": {},
     "source": [
      "Chapter 6 : Properties of Steam"
     ]
    },
    {
     "cell_type": "heading",
     "level": 2,
     "metadata": {},
     "source": [
      "Example 6.1 Page No : 14"
     ]
    },
    {
     "cell_type": "code",
     "collapsed": false,
     "input": [
      "import math \n",
      "\t\t\t\n",
      "# Variables :\n",
      "m = 2.; \t\t\t#Kg\n",
      "p = 8.;\t    \t\t#bar\n",
      "H = 5535.;\t\t\t#KJ\n",
      "\n",
      "# Calculations and Results\n",
      "h = H/m;\t\t\t#KJ/Kg\n",
      "hg = 2767.5;\t\t#KJ/Kg\n",
      "print \"Specific Enthalpy in KJ/Kg : %.1f\"%h\n",
      "print \"Given Enthalpy in KJ/Kg : %.1f\"%hg\n",
      "print (\"Given enthalpy  =  specific enthalpy. System is dry saturated.\");\n",
      "\n",
      "m = 1;\t\t\t#Kg\n",
      "p = 2550*10**3/10**5;\t\t\t#bar\n",
      "v = 0.2742;\t\t\t#m**3/Kg\n",
      "print \"Specific volume in m**3/Kg : %.4f\"%v\n",
      "vg = 0.078352;\t\t\t#m**3\n",
      "print \"Given specific volume in m**3/Kg : %.4f\"%vg\n",
      "\n",
      "Ts = 225+273;\t\t\t#K\n",
      "print (\"Since v>vg. System is super heated.\");\n",
      "Tsup = v/vg*Ts;\t\t\t#K\n",
      "print \"Temperature of super heated steam in degree C :%.1f\"%(Tsup-273)\n",
      "\n",
      "m = 1;\t\t\t#Kg\n",
      "p = 60;\t\t\t#bar\n",
      "h = 2470.73;\t\t\t#KJ/Kg\n",
      "print \"Enthalpy in KJ/Kg : %.1f\"%h\n",
      "\n",
      "hg = 2475;\t\t\t#KJ/Kg\n",
      "print \"Given enthalpy in KJ/Kg : %.1f\"%hg\n",
      "print (\"Since h>hg. System is in vapour state.\");\n",
      "\t\t\t#let x be the dryness fraction\n",
      "\t\t\t#h = hf+x*hg\n",
      "hf = 1213.69;\t\t\t#KJ/Kg\n",
      "hfg = 1517.3;\t\t\t#KJ/Kg\n",
      "x = (h-hf)/hfg;\n",
      "print \"Dryness fraction : %.1f\"%x\n",
      "\t\t\t#Steam table is used to get some data.\n"
     ],
     "language": "python",
     "metadata": {},
     "outputs": [
      {
       "output_type": "stream",
       "stream": "stdout",
       "text": [
        "Specific Enthalpy in KJ/Kg : 2767.5\n",
        "Given Enthalpy in KJ/Kg : 2767.5\n",
        "Given enthalpy  =  specific enthalpy. System is dry saturated.\n",
        "Specific volume in m**3/Kg : 0.2742\n",
        "Given specific volume in m**3/Kg : 0.0784\n",
        "Since v>vg. System is super heated.\n",
        "Temperature of super heated steam in degree C :1469.8\n",
        "Enthalpy in KJ/Kg : 2470.7\n",
        "Given enthalpy in KJ/Kg : 2475.0\n",
        "Since h>hg. System is in vapour state.\n",
        "Dryness fraction : 0.8\n"
       ]
      }
     ],
     "prompt_number": 1
    },
    {
     "cell_type": "heading",
     "level": 2,
     "metadata": {},
     "source": [
      "Example 6.2 Page No : 16"
     ]
    },
    {
     "cell_type": "code",
     "collapsed": false,
     "input": [
      "\t\t\t\n",
      "# Variables :\n",
      "p = 5;\t\t\t#bar\n",
      "x = 0.98;\n",
      "ts = 151.84;\t\t\t#degree C\n",
      "hf = 652.8;\t\t\t#KJ/Kg\n",
      "hfg = 2098;\t\t\t#KJ/Kg\n",
      "vg = 0.373;\t\t\t#m**3/Kg\n",
      "\n",
      "# Calculations and Results\n",
      "print \"Temperature of steam in degree C : %.2f\"%ts\n",
      "h = hf+x*hfg;\t\t\t#KJ/Kg\n",
      "print \"Enthalpy of steam in KJ/Kg : %.2f\"%h\n",
      "v = x*vg;\t\t\t#m**3/Kg\n",
      "print \"Specific volume in m**3/Kg ; %.4f\"%v\n",
      "\t\t\t#Steam table is used to get some data.\n"
     ],
     "language": "python",
     "metadata": {},
     "outputs": [
      {
       "output_type": "stream",
       "stream": "stdout",
       "text": [
        "Temperature of steam in degree C : 151.84\n",
        "Enthalpy of steam in KJ/Kg : 2708.84\n",
        "Specific volume in m**3/Kg ; 0.3655\n"
       ]
      }
     ],
     "prompt_number": 2
    },
    {
     "cell_type": "heading",
     "level": 2,
     "metadata": {},
     "source": [
      "Example 6.3 Page No : 16"
     ]
    },
    {
     "cell_type": "code",
     "collapsed": false,
     "input": [
      "\t\t\t\n",
      "# Variables :\n",
      "m = 1;\t\t\t#Kg\n",
      "p = 12;\t\t\t#bar\n",
      "x = 0.95;\n",
      "ts = 187.96;\t\t\t#degree C\n",
      "vg = 0.1632;\t\t\t#m**3/Kg\n",
      "hf = 814.7;\t\t\t#KJ/Kg\n",
      "hfg = 1970.7;\t\t\t#KJ/Kg\n",
      "\n",
      "# Calculations and Results\n",
      "print \"Temperature of steam in degree C : \",ts\n",
      "\n",
      "v = x*vg;\t\t\t#m**3/Kg\n",
      "print \"Specific volume in m**3/Kg ; \",v\n",
      "h = hf+x*hfg;\t\t\t#KJ/Kg\n",
      "print \"Enthalpy of steam in KJ/Kg : %.1f\"%h\n",
      "u = h-p*10**5*v/1000;\t\t\t#KJ/Kg\n",
      "print \"Internal energy in KJ/Kg : %.1f\"%u\n",
      "\t\t\t#Steam table is used to get some data.\n"
     ],
     "language": "python",
     "metadata": {},
     "outputs": [
      {
       "output_type": "stream",
       "stream": "stdout",
       "text": [
        "Temperature of steam in degree C :  187.96\n",
        "Specific volume in m**3/Kg ;  0.15504\n",
        "Enthalpy of steam in KJ/Kg : 2686.9\n",
        "Internal energy in KJ/Kg : 2500.8\n"
       ]
      }
     ],
     "prompt_number": 3
    },
    {
     "cell_type": "heading",
     "level": 2,
     "metadata": {},
     "source": [
      "Example 6.4 Page No : 16"
     ]
    },
    {
     "cell_type": "code",
     "collapsed": false,
     "input": [
      "\t\t\t\n",
      "# Variables :\n",
      "m = 1.;\t\t        \t#Kg\n",
      "p = 8.;\t\t\t        #bar\n",
      "Tsup = 280.;\t\t\t#degree C\n",
      "h1 = 2950.4;\t\t\t#KJ/Kg(at 250 degree C)\n",
      "h2 = 3057.3;\t\t\t#KJ/Kg(at 300 degree C)\n",
      "Tsup1 = 250.;\t\t\t#degree C\n",
      "Tsup2 = 300.;\t\t\t#degree C\n",
      "\n",
      "# Calculations and Results\n",
      "hsup = h1+(h2-h1)/(Tsup2-Tsup1)*(Tsup-Tsup1);\t\t\t#KJ/Kg\n",
      "print \"Specific enthalpy in KJ/Kg : %.1f\"%hsup\n",
      "\n",
      "v1 = 0.293;\t\t\t#m**3/Kg(at 250 degree C)\n",
      "v2 = 0.324;\t\t\t#m**3/Kg(at 300 degree C)\n",
      "vsup = v1+(v2-v1)/(Tsup2-Tsup1)*(Tsup-Tsup1);\t\t\t#m**3/Kg\n",
      "print \"Specific volume in m**3/Kg : \",vsup\n",
      "\n",
      "S1 = 7.04;\t\t\t#KJ/KgK(at 250 degree C)\n",
      "S2 = 7.235;\t\t\t#KJ/KgK(at 300 degree C)\n",
      "Ssup = S1+(S2-S1)/(Tsup2-Tsup1)*(Tsup-Tsup1)\n",
      "print \"Specific enthalpy in KJ/KgK : \",Ssup\n",
      "\n",
      "#Steam table is used to get some data.\n"
     ],
     "language": "python",
     "metadata": {},
     "outputs": [
      {
       "output_type": "stream",
       "stream": "stdout",
       "text": [
        "Specific enthalpy in KJ/Kg : 3014.5\n",
        "Specific volume in m**3/Kg :  0.3116\n",
        "Specific enthalpy in KJ/KgK :  7.157\n"
       ]
      }
     ],
     "prompt_number": 4
    },
    {
     "cell_type": "heading",
     "level": 2,
     "metadata": {},
     "source": [
      "Example 6.5 Page No : 17"
     ]
    },
    {
     "cell_type": "code",
     "collapsed": false,
     "input": [
      "\t\t\t\n",
      "# Variables :\n",
      "p1 = 0.1;\t\t\t#bar\n",
      "p2 = 0.1;\t\t\t#bar\n",
      "x1 = 0.95;\n",
      "t3 = 20.;\t\t\t#degree C\n",
      "t2 = 35.;\t\t\t#degree C\n",
      "t4 = 45.;\t\t\t#degree C\n",
      "hf1 = 191.8;\t\t\t#KJ/Kg\n",
      "hfg1 = 2397.9;\t\t\t#KJ/Kg\n",
      "\n",
      "# Calculations\n",
      "h1 = hf1+x1*hfg1;\t\t\t#KJ/kg\n",
      "h2 = 188.4;\t\t\t#KJ/Kg(at 45 degree C)\n",
      "h3 = 83.9;\t\t\t#KJ/Kg(at 20 degree C)\n",
      "h4 = 146.6;\t\t\t#KJ/Kg(at 35 degree C)\n",
      "#m1*(h1-h2) = mw*(h4-h3)\n",
      "mwBYm1 = (h1-h2)/(h4-h3);\t\t\t#Kg of water/Kg of steam\n",
      "\n",
      "# Results\n",
      "print \"Ratio of mass flow rate of cooling water to condensing steam(Kg of water/Kg of steam): %.3f\"%mwBYm1\n",
      "\t\t\t#Steam table is used to get some data.\n"
     ],
     "language": "python",
     "metadata": {},
     "outputs": [
      {
       "output_type": "stream",
       "stream": "stdout",
       "text": [
        "Ratio of mass flow rate of cooling water to condensing steam(Kg of water/Kg of steam): 36.386\n"
       ]
      }
     ],
     "prompt_number": 5
    },
    {
     "cell_type": "heading",
     "level": 2,
     "metadata": {},
     "source": [
      "Example 6.6 Page No : 18"
     ]
    },
    {
     "cell_type": "code",
     "collapsed": false,
     "input": [
      "\t\t\t\n",
      "# Variables :\n",
      "V = 3.;\t\t\t#m**3\n",
      "t = 200.;\t\t\t#degree C\n",
      "Pat = 1.;\t\t\t#bar\n",
      "Pgauge = 7.;\t\t\t#bar\n",
      "P = Pgauge+Pat;\t\t\t#bar\n",
      "ts = 170.41;\t\t\t#degree C\n",
      "tsup = t;\t\t\t#degree C\n",
      "vsup = 0.261;\t\t\t#m**3/Kg\n",
      "hsup = 2838.6;\t\t\t#KJ/Kg\n",
      "\n",
      "# Calculations and Results\n",
      "m = V/vsup;\t\t\t#Kg\n",
      "H = m*hsup;\t\t\t#KJ\n",
      "print \"Total Enthalpy in KJ : %.2f\"%H\n",
      "#H = U+p*V\n",
      "U = H-P*10**5*V/1000;\t\t\t#KJ\n",
      "print \"Total internal energy of system in KJ : %.2f\"%U\n",
      "print \"Mass of steam in Kg : %.3f\"%m\n",
      "\t\t\t#Steam table is used to get some data.\n"
     ],
     "language": "python",
     "metadata": {},
     "outputs": [
      {
       "output_type": "stream",
       "stream": "stdout",
       "text": [
        "Total Enthalpy in KJ : 32627.59\n",
        "Total internal energy of system in KJ : 30227.59\n",
        "Mass of steam in Kg : 11.494\n"
       ]
      }
     ],
     "prompt_number": 1
    },
    {
     "cell_type": "heading",
     "level": 2,
     "metadata": {},
     "source": [
      "Example 6.7 Page No : 18"
     ]
    },
    {
     "cell_type": "code",
     "collapsed": false,
     "input": [
      "\t\t\t\n",
      "# Variables :\n",
      "mw = 1.;\t\t\t#Kg\n",
      "m_steam = 39.;\t\t\t#mass of dry steam in Kg\n",
      "\n",
      "# Calculations\n",
      "ms = mw+m_steam;\t\t\t#Kg\n",
      "x = m_steam/ms;\t\t\t#dryness fraction\n",
      "\n",
      "# Results\n",
      "print \"Dryness fraction ; \",x\n"
     ],
     "language": "python",
     "metadata": {},
     "outputs": [
      {
       "output_type": "stream",
       "stream": "stdout",
       "text": [
        "Dryness fraction ;  0.975\n"
       ]
      }
     ],
     "prompt_number": 7
    },
    {
     "cell_type": "heading",
     "level": 2,
     "metadata": {},
     "source": [
      "Example 6.8 Page No : 18"
     ]
    },
    {
     "cell_type": "code",
     "collapsed": false,
     "input": [
      "\t\t\t\n",
      "# Variables :\n",
      "m = 10.;\t\t\t#Kg\n",
      "p = 10.;\t\t\t#bar\n",
      "x = 0.9;\n",
      "t1 = 20.;\t\t\t#degree C\n",
      "hf = 762.6;\t\t\t#KJ/Kg\n",
      "hfg = 2013.6;\t\t\t#KJ/Kg\n",
      "\n",
      "# Calculations and Results\n",
      "H = m*(hf+x*hfg);\t\t\t#KJ;\n",
      "print \"Enthalpy of wet steam in KJ : \",H\n",
      "\n",
      "hf1 = 83.9;\t\t\t#KJ/Kg(at 20 degree C)\n",
      "Hf1 = m*hf1;\t\t\t#KJ\n",
      "HeatAdded = H-Hf1;\t\t\t#KJ\n",
      "print \"Heat added in KJ : \",HeatAdded\n",
      "\n",
      "#Steam table is used to get some data.\n"
     ],
     "language": "python",
     "metadata": {},
     "outputs": [
      {
       "output_type": "stream",
       "stream": "stdout",
       "text": [
        "Enthalpy of wet steam in KJ :  25748.4\n",
        "Heat added in KJ :  24909.4\n"
       ]
      }
     ],
     "prompt_number": 8
    },
    {
     "cell_type": "heading",
     "level": 2,
     "metadata": {},
     "source": [
      "Example 6.9 Page No : 19"
     ]
    },
    {
     "cell_type": "code",
     "collapsed": false,
     "input": [
      "\t\t\t\n",
      "# Variables :\n",
      "t = 50.;\t\t\t#degree C\n",
      "p1 = 13.;\t\t\t#bar\n",
      "Cpw = 4.187;\t\t\t#KJ/KgK\n",
      "Cp = 0.0535;\t\t\t#KJ/KgK\n",
      "x1 = 0.97;\n",
      "hf = Cpw*(t-0);\t\t\t#KJ/Kg\n",
      "hf1 = 814.7;\t\t\t#KJ/Kg(at p1 = 13 bar)\n",
      "hfg1 = 1970.7;\t\t\t#KJ/Kg(at p1 = 13 bar)\n",
      "hg1 = 2785.4;\t\t\t#KJ/Kg(at p1 = 13 bar)\n",
      "\n",
      "# Calculations and Results\n",
      "Q = hf1+x1*hfg1-hf;\t\t\t#KJ/Kg\n",
      "print \"Heat required to produce steam in KJ/Kg : %.2f\"%Q\n",
      "Q1 = hg1-hf;\t\t\t#KJ/Kg\n",
      "print \"Heat required to produce dry saturated steam in KJ/Kg : \",Q1\n",
      "tsup1SUBts1 = 40;\t\t\t#degree C\n",
      "Q2 = hg1+Cp*(tsup1SUBts1)-hf;\t\t\t#KJ/Kg\n",
      "print \"Heat required to produce super heated steam in KJ/Kg : \",Q2\n",
      "\t\t\t#Steam table is used to get some data.\n",
      "\t\t\t#Ans is wrong in the book for last part.\n"
     ],
     "language": "python",
     "metadata": {},
     "outputs": [
      {
       "output_type": "stream",
       "stream": "stdout",
       "text": [
        "Heat required to produce steam in KJ/Kg : 2516.93\n",
        "Heat required to produce dry saturated steam in KJ/Kg :  2576.05\n",
        "Heat required to produce super heated steam in KJ/Kg :  2578.19\n"
       ]
      }
     ],
     "prompt_number": 7
    },
    {
     "cell_type": "heading",
     "level": 2,
     "metadata": {},
     "source": [
      "Example 6.10 Page No : 19"
     ]
    },
    {
     "cell_type": "code",
     "collapsed": false,
     "input": [
      "\t\t\t\n",
      "# Variables :\n",
      "p = 8;\t\t\t#bar\n",
      "x = 0.8;\n",
      "vf = 0.001115;\t\t\t#m**3/kg\n",
      "vg = 0.24;\t\t\t#m**3/kg\n",
      "hf = 720.9;\t\t\t#kJ/kg(at p = 8 bar)\n",
      "hfg = 2046.5;\t\t\t#kJ/kg(at p = 8 bar)\n",
      "m = 1;\t\t\t#kg\n",
      "\n",
      "# Calculations and Results\n",
      "We = 100*p*(x*vg-vf);\t\t\t#kJ/kg\n",
      "print \"External workdone during evaporation in kJ/kg : %.2f\"%We\n",
      "\n",
      "Q = x*hfg-We;\t\t\t#KJ\n",
      "print \"External latent heat of steam in kJ: %.2f\"%Q\n",
      "\n",
      "\t\t\t#Steam table is used to get some data.\n",
      "\t\t\t#Ans is wrong in the book for last part.\n"
     ],
     "language": "python",
     "metadata": {},
     "outputs": [
      {
       "output_type": "stream",
       "stream": "stdout",
       "text": [
        "External workdone during evaporation in kJ/kg : 152.71\n",
        "External latent heat of steam in kJ: 1484.49\n"
       ]
      }
     ],
     "prompt_number": 8
    },
    {
     "cell_type": "heading",
     "level": 2,
     "metadata": {},
     "source": [
      "Example 6.11 Page No : 20"
     ]
    },
    {
     "cell_type": "code",
     "collapsed": false,
     "input": [
      "\t\t\t\n",
      "# Variables :\n",
      "p1 = 20.;\t\t\t#bar\n",
      "Tsup1 = 350.;\t\t\t#degree C\n",
      "m1 = 1.;\t\t\t#Kg\n",
      "p2 = 20.;\t\t\t#bar\n",
      "m2 = 1.;\t\t\t#Kg\n",
      "p3 = p1;\t\t\t#bar\n",
      "Tsup3 = 250.;\t\t\t#degree C\n",
      "m3 = m1+m2;\t\t\t#Kg\n",
      "Cp = 2.25;\t\t\t#KJ/Kg\n",
      "hg1 = 2797.2;\t\t\t#KJ/Kg(at p = 20 bar)\n",
      "hg2 = hg1;\t\t\t#KJ/Kg(at p = 20 bar)\n",
      "hg3 = hg1;\t\t\t#KJ/Kg(at p = 20 bar)\n",
      "ts1 = 212.37;\t\t\t#degree C\n",
      "ts2 = ts1;\t\t\t#degree C\n",
      "ts3 = ts1;\t\t\t#degree C\n",
      "\n",
      "# Calculations and Results\n",
      "#m1*h1+m2*h2 = m3*h3\n",
      "h2 = (m3*(hg3+Cp*(Tsup3-ts3))-m1*(hg1+Cp*(Tsup1-ts1)))/m2;\t\t\t#KJ/Kg\n",
      "print \"Enthalpy of boiler2 in KJ/Kg :  %.2f\"%h2\n",
      "print \"hg2(KJ/Kg)  : \",hg2\n",
      "print (\"steam is wet because h2<hg2\")\n",
      "\t\t\t#h2 = hf2+x2*hfg2\t\t\t# as steam is wet because h2<hg2\n",
      "hf2 = 908.6;\t\t\t#KJ/Kg\n",
      "hfg2 = 1888.6;\t\t\t#KJ/Kg\n",
      "x2 = (h2-hf2)/hfg2;\t\t\t#\n",
      "print \"Dryness : %.5f\"%x2\n",
      "\t\t\t#Steam table is used to get some data.\n",
      "\t\t\t#Ans is wrong in the book.\n"
     ],
     "language": "python",
     "metadata": {},
     "outputs": [
      {
       "output_type": "stream",
       "stream": "stdout",
       "text": [
        "Enthalpy of boiler2 in KJ/Kg :  2656.87\n",
        "hg2(KJ/Kg)  :  2797.2\n",
        "steam is wet because h2<hg2\n",
        "Dryness : 0.92569\n"
       ]
      }
     ],
     "prompt_number": 9
    },
    {
     "cell_type": "heading",
     "level": 2,
     "metadata": {},
     "source": [
      "Example 6.12 Page No : 20"
     ]
    },
    {
     "cell_type": "code",
     "collapsed": false,
     "input": [
      "\t\t\t\n",
      "# Variables :\n",
      "m = 2.;\t\t\t#Kg\n",
      "p = 8.;\t\t\t#bar\n",
      "x = 0.8;\n",
      "hf = 720.9;\t\t\t#KJ/Kg(at p = 8 bar)\n",
      "hfg = 2046.5;\t\t\t#KJ/Kg(at p = 8 bar)\n",
      "\n",
      "# Calculations and Results\n",
      "h = hf+x*hfg;\t\t\t    #KJ/Kg\n",
      "H = m*h;\t\t\t        #KJ\n",
      "print \"Total enthalpy of steam in KJ : \",H\n",
      "\n",
      "Vg = 0.227;\t\t\t        #m**3/Kg\n",
      "V = m*x*Vg;\t\t\t        #m**3\n",
      "print \"Volume in m**3 : \",V\n",
      "\n",
      "We = p*10**5*V/1000;\t\t\t#KJ\n",
      "print \"External work of evaporation in KJ : \",We\n",
      "\n",
      "U = H-We;\t\t\t        #KJ\n",
      "print \"Total internal energy in KJ : \",U\n",
      "\n",
      "Sf = 2.061;\t\t    \t    #KJ/K\n",
      "Sfg = 4.578;\t\t    \t#KJ/K\n",
      "S = m*(Sf+x*Sfg);\t\t\t#KJ/K\n",
      "print \"Total entropy in KJ/K : \",S\n",
      "\t\t\t#Steam table is used to get some data.\n"
     ],
     "language": "python",
     "metadata": {},
     "outputs": [
      {
       "output_type": "stream",
       "stream": "stdout",
       "text": [
        "Total enthalpy of steam in KJ :  4716.2\n",
        "Volume in m**3 :  0.3632\n",
        "External work of evaporation in KJ :  290.56\n",
        "Total internal energy in KJ :  4425.64\n",
        "Total entropy in KJ/K :  11.4468\n"
       ]
      }
     ],
     "prompt_number": 12
    },
    {
     "cell_type": "heading",
     "level": 2,
     "metadata": {},
     "source": [
      "Example 6.13 Page No : 21"
     ]
    },
    {
     "cell_type": "code",
     "collapsed": false,
     "input": [
      "\t\t\t\n",
      "# Variables :\n",
      "p1 = 600.;\t\t\t#KPa\n",
      "p1 = p1/100.;\t\t\t#bar\n",
      "T1 = 200.;\t\t\t#degree C\n",
      "Vsup1 = 0.352;\t\t\t#m**3/Kg(at 6 bar)\n",
      "V1 = Vsup1;\t\t\t#m**3/Kg\n",
      "V2 = V1;\t\t\t#m**3(system is at consmath.tant volume)\n",
      "Vg2 = V2;\t\t\t#m**3/Kg(For dry saturated)\n",
      "Tsup1 = 153.3;\t\t\t#degree C\n",
      "Tsup2 = 154.8;\t\t\t#degree C\n",
      "vg1 = 0.34844;\t\t\t#m**3/Kg\n",
      "vg2 = 0.36106;\t\t\t#m**3/Kg\n",
      "\n",
      "# Calculations and Results\n",
      "ts2 = Tsup1+(Tsup2-Tsup1)/(vg2-vg1)*(V1-vg1);\t\t\t#degree C\n",
      "print \"Temperature at which steam begins to condense in degree C : %.2f\"%ts2\n",
      "\n",
      "pg1 = 5.2;\t\t\t#bar\n",
      "pg2 = 5.4;\t\t\t#bar\n",
      "p2 = pg1+(pg2-pg1)/(Tsup2-Tsup1)*(ts2-Tsup1);\t\t\t#bar\n",
      "print \"Pressure in bar is : %.3f\"%p2\n",
      "\t\t\t#Some data is taken from steam table.\n"
     ],
     "language": "python",
     "metadata": {},
     "outputs": [
      {
       "output_type": "stream",
       "stream": "stdout",
       "text": [
        "Temperature at which steam begins to condense in degree C : 153.72\n",
        "Pressure in bar is : 5.256\n"
       ]
      }
     ],
     "prompt_number": 10
    },
    {
     "cell_type": "heading",
     "level": 2,
     "metadata": {},
     "source": [
      "Example 6.14 Page No : 23"
     ]
    },
    {
     "cell_type": "code",
     "collapsed": false,
     "input": [
      "\t\t\t\n",
      "# Variables :\n",
      "m = 2.;\t\t\t#Kg\n",
      "p1 = 15.;\t\t\t#bar\n",
      "p2 = 15.;\t\t\t#bar\n",
      "Tsup1 = 250.;\t\t\t#degree C\n",
      "T1 = Tsup1;\t\t\t#degree C\n",
      "V1 = 0.152;\t\t\t#m**3/Kg(at 15 bar)\n",
      "hf2 = 844.7;\t\t\t#KJ/Kg(at p = 15 bar)\n",
      "hg2 = 2789.9;\t\t\t#KJ/Kg(at p = 15 bar)\n",
      "hfg2 = 1945.2;\t\t\t#KJ/Kg(at p = 15 bar)\n",
      "h1 = 2923.;\t\t\t#KJ/Kg\n",
      "Vg2 = 0.1317;\t\t\t#m**3/Kg(at 15 bar)\n",
      "x2 = 0.6;\t\t\t#dry\n",
      "\n",
      "# Calculations and Results\n",
      "h2 = hf2+x2*hfg2;\t\t\t#KJ/Kg\n",
      "V2 = x2*Vg2;\t\t\t#m**3/Kg\n",
      "w = (p2*V2-p1*V1)*10**5/10**3;\t\t\t#KJ/Kg\n",
      "W = m*w;\t\t\t#KJ\n",
      "print \"Total work done in KJ : \",W\n",
      "\n",
      "H2subH1 = m*(h2-h1);\t\t\t#KJ/Kg\n",
      "print \"Change in enthalpy in KJ/Kg : %.1f\"%H2subH1\n",
      "\n",
      "Q = H2subH1;\t\t\t#KJ\n",
      "print \"Heat transfered in KJ : %.1f\"%Q\n",
      "\t\t\t#Steam table is used to get some data.\n"
     ],
     "language": "python",
     "metadata": {},
     "outputs": [
      {
       "output_type": "stream",
       "stream": "stdout",
       "text": [
        "Total work done in KJ :  -218.94\n",
        "Change in enthalpy in KJ/Kg : -1822.4\n",
        "Heat transfered in KJ : -1822.4\n"
       ]
      }
     ],
     "prompt_number": 11
    },
    {
     "cell_type": "heading",
     "level": 2,
     "metadata": {},
     "source": [
      "Example 6.15 Page No : 24"
     ]
    },
    {
     "cell_type": "code",
     "collapsed": false,
     "input": [
      "\n",
      "# Variables :\n",
      "p_gauge = 15.;\t\t\t#bar\n",
      "p_at = 750.;\t\t\t#mm of Hg\n",
      "p_at = p_at/760.*1.01325;\t\t\t#bar\n",
      "p = p_gauge+p_at;\t\t\t#bar\n",
      "ms = 200.;\t\t\t#Kg/hr\n",
      "Cpw = 4.187;\t\t\t#KJ/KgK\n",
      "t1 = 80.;\t\t\t#degree C\n",
      "hf1 = Cpw*t1;\t\t\t#KJ/Kg\n",
      "hf2 = 858.6;\t\t\t#KJ/Kg(at p = 16 bar)\n",
      "hg2 = 2791.8;\t\t\t#KJ/Kg(at p = 16 bar)\n",
      "hfg2 = 1933.2;\t\t\t#KJ/Kg(at p = 16 bar)\n",
      "ts = 201.37;\t\t\t#degree C\n",
      "x2 = 0.8;\t\t\t#dry\n",
      "\n",
      "# Calculations and Results\n",
      "h2 = hf2+x2*hfg2;\t\t\t#KJ/Kg\n",
      "q = ms*(h2-hf1);\t\t\t#KJ/hr\n",
      "q = q/3600;\t\t\t#KJ/s\n",
      "print \"Heat transfer in boiler in KJ/s : %.3f\"%q\n",
      "\n",
      "tsup = ts+t1;\t\t\t#degree C\n",
      "Cp = 2.2;\t\t\t#KJ/KgK\n",
      "hsup3 = hg2+Cp*(tsup-ts);\t\t\t#KJ/Kg\n",
      "qsup = ms*(hsup3-h2)/3600;\t\t\t#KJ/s\n",
      "print \"Heat transfered in superheated steam in KJ/s : %.3f\"%qsup\n",
      "\n",
      "Vg = 0.1237;\t\t\t#m**3/Kg(at 16 bar)\n",
      "Ts = 201.37+273;\t\t\t#K\n",
      "Tsup = tsup+273;\t\t\t#K\n",
      "Vsup = Tsup/Ts*Vg;\t\t\t#m**3/Kg\n",
      "density = 1/Vsup;\t\t\t#Kg/m**3\n",
      "print \"Density of steam in Kg/m**3 : %.3f\"%density\n",
      "\t\t\t#Steam table is used to get some data.\n"
     ],
     "language": "python",
     "metadata": {},
     "outputs": [
      {
       "output_type": "stream",
       "stream": "stdout",
       "text": [
        "Heat transfer in boiler in KJ/s : 115.011\n",
        "Heat transfered in superheated steam in KJ/s : 31.258\n",
        "Density of steam in Kg/m**3 : 6.917\n"
       ]
      }
     ],
     "prompt_number": 12
    },
    {
     "cell_type": "heading",
     "level": 2,
     "metadata": {},
     "source": [
      "Example 6.16 Page No : 27"
     ]
    },
    {
     "cell_type": "code",
     "collapsed": false,
     "input": [
      "\t\t\t\n",
      "# Variables :\n",
      "m = 1.5;\t\t\t#Kg\n",
      "p1 = 5;\t\t\t#bar\n",
      "x1 = 0.8;\t\t\t#dry\n",
      "x2 = 0.4;\t\t\t#dry\n",
      "Vg1 = 0.373;\t\t\t#m**3/Kg(at 5 bar)\n",
      "hf1 = 640.1;\t\t\t#KJ/Kg(at p = 5 bar)\n",
      "hfg1 = 2107.4;\t\t\t#KJ/Kg(at p = 5 bar)\n",
      "Vg2 = x1/x2*Vg1;\t\t\t#m**3/Kg\n",
      "p2 = 4.;\t\t\t#bar(at Vg2 = 0.746)\n",
      "hf2 = 529.6;\t\t\t#KJ/Kg(at p = 4 bar)\n",
      "hfg2 = 2184.9;\t\t\t#KJ/Kg(at p = 4 bar)\n",
      "\n",
      "# Calculations\n",
      "V1 = x1*Vg1;\t\t    \t#m**3/Kg\n",
      "V2 = V1;\t\t\t        #m**3/Kg\n",
      "h1 = hf1+x1*hfg1;\t\t\t#KJ/Kg\n",
      "h2 = hf2+x2*hfg2;\t\t\t#KJ/Kg\n",
      "Q = m*((h2-h1)-100*(p2*V2-p1*V1));\t\t\t#KJ\n",
      "\n",
      "# Results\n",
      "print \"Quantity of heat in KJ : \",Q\n",
      "\t\t\t#Steam table is used to get some data.\n"
     ],
     "language": "python",
     "metadata": {},
     "outputs": [
      {
       "output_type": "stream",
       "stream": "stdout",
       "text": [
        "Quantity of heat in KJ :  -1338.93\n"
       ]
      }
     ],
     "prompt_number": 16
    },
    {
     "cell_type": "heading",
     "level": 2,
     "metadata": {},
     "source": [
      "Example 6.17 Page No : 27"
     ]
    },
    {
     "cell_type": "code",
     "collapsed": false,
     "input": [
      "\t\t\t\n",
      "# Variables :\n",
      "p1 = 1;\t\t\t#bar\n",
      "x1 = 0.523;\t\t\t#dry\n",
      "Vg1 = 1.694;\t\t\t#m**3/Kg(at 1 bar)\n",
      "hf1 = 417.5;\t\t\t#KJ/Kg(at p = 1 bar)\n",
      "hfg1 = 2258;\t\t\t#KJ/Kg(at p = 1 bar)\n",
      "\n",
      "# Calculations\n",
      "h1 = hf1+x1*hfg1;\t\t\t#KJ/Kg\n",
      "V1 = x1*Vg1;\t\t\t#m**3/Kg\n",
      "V2 = V1;\t\t\t#m**3/Kg(Consmath.tant volume process)\n",
      "Vg2 = V2;\t\t\t#m**3/Kg\n",
      "p2 = 2;\t\t\t#bar;\t\t\t#at Vg2 from steam table\n",
      "hg2 = 2706.3;\t\t\t#KJ/Kg(at 2 bar)\n",
      "h2 = hg2;\t\t\t#KJ/Kg\n",
      "W = 0;\t\t\t#KJ/Kg of steam\n",
      "q = W+(h2-h1)-100*(p2*V2-p1*V1);\t\t\t#KJ/Kg\n",
      "\n",
      "# Results\n",
      "print \"Heat transfered in KJ/Kg : %.1f\"%q\n",
      "\n",
      "#Steam table is used to get some data.\n"
     ],
     "language": "python",
     "metadata": {},
     "outputs": [
      {
       "output_type": "stream",
       "stream": "stdout",
       "text": [
        "Heat transfered in KJ/Kg : 1019.3\n"
       ]
      }
     ],
     "prompt_number": 13
    },
    {
     "cell_type": "heading",
     "level": 2,
     "metadata": {},
     "source": [
      "Example 6.18 Page No : 28"
     ]
    },
    {
     "cell_type": "code",
     "collapsed": false,
     "input": [
      "\t\t\t\n",
      "# Variables :\n",
      "V1 = 0.9;\t\t\t#m**3\n",
      "p1 = 8;\t\t\t#bar\n",
      "x1 = 0.9;\t\t\t#dry\n",
      "p2 = 4;\t\t\t#bar\n",
      "Vg1 = 0.24;\t\t\t#m**3/Kg(at 8 bar)\n",
      "hf1 = 720.9;\t\t\t#KJ/Kg(at p = 8 bar)\n",
      "hfg1 = 2046.5;\t\t\t#KJ/Kg(at p = 8 bar)\n",
      "Vg2 = 0.462;\t\t\t#m**3/Kg(at 4 bar)\n",
      "hf2 = 604.7;\t\t\t#KJ/Kg(at p = 4 bar)\n",
      "hfg2 = 2132.9;\t\t\t#KJ/Kg(at p = 4 bar)\n",
      "\n",
      "# Calculations and Results\n",
      "#h1 = h2 : hf1+x1*hfg1 = hf2+x2*hfg2\n",
      "x2 = ((hf1+x1*hfg1)-hf2)/hfg2;\t\t\t#dry\n",
      "print \"Dryness fraction of steam : %.3f\"%x2\n",
      "\n",
      "m1 = V1/x1/Vg1;\t\t\t#Kg\n",
      "V2 = V1;\t\t\t#m**3\n",
      "m2 = V2/x2/Vg2;\t\t\t#Kg\n",
      "m = m1-m2;\t\t\t#Kg\n",
      "print \"Mass of steam blown off in Kg : %.4f\"%m\n",
      "\t\t\t#Steam table is used to get some data.\n"
     ],
     "language": "python",
     "metadata": {},
     "outputs": [
      {
       "output_type": "stream",
       "stream": "stdout",
       "text": [
        "Dryness fraction of steam : 0.918\n",
        "Mass of steam blown off in Kg : 2.0447\n"
       ]
      }
     ],
     "prompt_number": 14
    },
    {
     "cell_type": "heading",
     "level": 2,
     "metadata": {},
     "source": [
      "Example 6.19 Page No : 31"
     ]
    },
    {
     "cell_type": "code",
     "collapsed": false,
     "input": [
      "import math \n",
      "\t\t\t\n",
      "# Variables :\n",
      "m = 5.;\t\t\t#Kg\n",
      "p1 = 10.;\t\t\t#bar\n",
      "x1 = 0.9;\t\t\t#dry\n",
      "p2 = 4.;\t\t\t#bar\n",
      "ts1 = 179.88;\t\t\t#degree C(at 10 bar)\n",
      "print \"Final condition of steam,(Temperature in degree C) : \",ts1\n",
      "\n",
      "Vg1 = 0.1943;\t\t\t#m**3/Kg(at 8 bar)\n",
      "hf1 = 762.6;\t\t\t#KJ/Kg(at p = 10 bar)\n",
      "hfg1 = 2013.6;\t\t\t#KJ/Kg(at p = 10 bar)\n",
      "h1 = hf1+x1*hfg1;\t\t\t#KJ/Kg\n",
      "V1 = x1*Vg1;\t\t\t#KJ/kg\n",
      "u1 = h1-p1*V1*10**5/1000;\t\t\t#KJ/Kg\n",
      "U1 = m*u1;\t\t\t#KJ\n",
      "Tsup2 = 179.88;\t\t\t#degree C\n",
      "t11 = 150;\t\t\t#degree C\n",
      "h11 = 2752;\t\t\t#KJ/Kg(at 4bar,150 degree C)\n",
      "v11 = 0.471;\t\t\t#m**3/Kg(at 4bar,150 degree C)\n",
      "s11 = 6.929;\t\t\t#KJ/KgK(at 4bar,150 degree C)\n",
      "t22 = 200;\t\t\t#degree C\n",
      "h22 = 2860.4;\t\t\t#KJ/Kg(at 4bar,200 degree C)\n",
      "v22 = 0.534;\t\t\t#m**3/Kg(at 4bar,200 degree C)\n",
      "s22 = 7.171;\t\t\t#KJ/KgK(at 4bar,200 degree C)\n",
      "h2 = h11+(h22-h11)/(t22-t11)*(ts1-t11);\t\t\t#KJ/Kg\n",
      "v2 = v11+(v22-v11)/(t22-t11)*(ts1-t11);\t\t\t#m**3/Kg\n",
      "s2 = s11+(s22-s11)/(t22-t11)*(ts1-t11);\t\t\t#m**3\n",
      "u2 = h2-p2*10**5*v2/1000;\t\t\t#KJ/Kg\n",
      "U2 = m*u2;\t\t\t#KJ\n",
      "deltaU = U2-U1;\t\t\t#KJ\n",
      "print \"Change in internal energy in KJ : %.1f\"%deltaU\n",
      "\n",
      "sf1 = 2.138;\t\t\t#KJ/KgK\n",
      "sfg1 = 4.445;\t\t\t#KJ/Kg\n",
      "s1 = (sf1+x1*sfg1);\t\t\t#KJ/KgK\n",
      "deltaS = m*(s2-s1);\t\t\t#KJ/K\n",
      "Q = (ts1+273)*(deltaS);\t\t\t#KJ\n",
      "print \"Heat transfer in KJ : %.1f\"%Q\n",
      "\n",
      "W = Q-deltaU;\t\t\t#KJ\n",
      "print \"Workdone in KJ : %.1f\"%W\n",
      "\t\t\t#Steam table is used to get some data.\n",
      "\t\t\t#Answer is not accurate in the book.\n"
     ],
     "language": "python",
     "metadata": {},
     "outputs": [
      {
       "output_type": "stream",
       "stream": "stdout",
       "text": [
        "Final condition of steam,(Temperature in degree C) :  179.88\n",
        "Change in internal energy in KJ : 1066.8\n",
        "Heat transfer in KJ : 2117.5\n",
        "Workdone in KJ : 1050.7\n"
       ]
      }
     ],
     "prompt_number": 15
    },
    {
     "cell_type": "heading",
     "level": 2,
     "metadata": {},
     "source": [
      "Example 6.20 Page No : 33"
     ]
    },
    {
     "cell_type": "code",
     "collapsed": false,
     "input": [
      "import math \n",
      "\t\t\t\n",
      "# Variables :\n",
      "m = 2.;\t\t\t#Kg\n",
      "p1 = 15.;\t\t\t#bar\n",
      "V1 = 0.3;\t\t\t#m**3\n",
      "p2 = 1.5;\t\t\t#bar\n",
      "v1 = V1/m;\t\t\t#m**3/Kg\n",
      "\n",
      "# Calculations and Results\n",
      "#p1*v1**(1.3) = p2*v2**(1.3)\n",
      "v2 = math.exp((math.log(p1)+1.3*math.log(v1)-math.log(p2))/1.3);\t\t\t#m**3/Kg\n",
      "Vg2 = 1.1635;\t\t\t#m**3/Kg(at 1.5 bar)\n",
      "x2 = v2/Vg2;\t\t\t#dry\n",
      "print \"Dryness of steam : %.4f\"%x2\n",
      "n = 1.3;\n",
      "W = m*(p1*v1-p2*v2)*10**5/(n-1);\t\t\t#J\n",
      "W = W/1000;\t\t\t#KJ\n",
      "print \"Workdone in KJ : %.1f\"%W\n",
      "\t\t\t#Steam table is used to get some data.\n",
      "\t\t\t#Answer is wrong in the book.\n"
     ],
     "language": "python",
     "metadata": {},
     "outputs": [
      {
       "output_type": "stream",
       "stream": "stdout",
       "text": [
        "Dryness of steam : 0.7578\n",
        "Workdone in KJ : 618.3\n"
       ]
      }
     ],
     "prompt_number": 17
    },
    {
     "cell_type": "heading",
     "level": 2,
     "metadata": {},
     "source": [
      "Example 6.21 Page No : 36"
     ]
    },
    {
     "cell_type": "code",
     "collapsed": false,
     "input": [
      "\t\t\t\n",
      "# Variables :\n",
      "m1 = 5.;\t\t\t#Kg\n",
      "p1 = 5.;\t\t\t#bar\n",
      "Tsup1 = 200.;\t\t\t#degree C\n",
      "p2 = 0.1;\t\t\t#bar\n",
      "h1 = 2855;\t\t\t#KJ/Kg(from molliers diagram)\n",
      "h2 = 2235;\t\t\t#KJ/Kg(from molliers diagram)\n",
      "\n",
      "# Calculations\n",
      "W = m1*(h1-h2);\t\t\t#KJ\n",
      "\n",
      "# Results\n",
      "print \"Workdone in KJ : \",W\n",
      "\t\t\t#Steam table is used to get some data.\n"
     ],
     "language": "python",
     "metadata": {},
     "outputs": [
      {
       "output_type": "stream",
       "stream": "stdout",
       "text": [
        "Workdone in KJ :  3100.0\n"
       ]
      }
     ],
     "prompt_number": 21
    },
    {
     "cell_type": "heading",
     "level": 2,
     "metadata": {},
     "source": [
      "Example 6.22 Page No : 37"
     ]
    },
    {
     "cell_type": "code",
     "collapsed": false,
     "input": [
      "\t\t\t\n",
      "# Variables :\n",
      "p1 = 160.;\t\t\t#bar\n",
      "Tsup1 = 550.;\t\t\t#degree C(from steam table)\n",
      "q = 0.;\t\t\t#adiabatic process\n",
      "deltaS = 0.1;\t\t\t#KJ/KgK\n",
      "p2 = 0.2;\t\t\t#bar\n",
      "t11 = 500.;\t\t\t#degree C\n",
      "t22 = 600.;\t\t\t#degree C\n",
      "h11 = 3297.1;\t\t\t#KJ/Kg(at 4bar,500 degree C)\n",
      "h22 = 3571.;\t\t\t#KJ/Kg(at 4bar,600 degree C)\n",
      "\n",
      "# Calculations\n",
      "h1 = h11+(h22-h11)/(t22-t11)*(Tsup1-t11);\t\t\t#KJ/Kg\n",
      "s11 = 6.305;\t\t\t#KJ/KgK(at 4bar,500 degree C)\n",
      "s22 = 6.639;\t\t\t#KJ/KgK(at 4bar,600 degree C)\n",
      "s1 = s11+(s22-s11)/(t22-t11)*(Tsup1-t11);\t\t\t#KJ/KgK\n",
      "s2 = deltaS+s1;\t\t\t#KJ/KgK\n",
      "hf2 = 251.4;\t\t\t#KJ/Kg(at 0.2 bar)\n",
      "hfg2 = 2358.2;\t\t\t#KJ/Kg(at 0.2 bar)\n",
      "sf2 = 0.832;\t\t\t#KJ/KgK(at 0.2 bar)\n",
      "sfg2 = 7.077;\t\t\t#KJ/KgK(at 0.2 bar)\n",
      "\t\t\t#s2 = sf2+x2*sfg2\n",
      "x2 = (s2-sf2)/sfg2;\t\t\t#dryness\n",
      "h2 = hf2+x2*hfg2;\t\t\t#KJ\n",
      "Wsf_a = h1-h2;\t\t\t#KJ/Kg\n",
      "\n",
      "# Results\n",
      "print \"Actual Work of expansion in KJ : %.1f\"%Wsf_a\n",
      "\t\t\t#Steam table is used to get some data.\n"
     ],
     "language": "python",
     "metadata": {},
     "outputs": [
      {
       "output_type": "stream",
       "stream": "stdout",
       "text": [
        "Actual Work of expansion in KJ : 1270.0\n"
       ]
      }
     ],
     "prompt_number": 18
    },
    {
     "cell_type": "heading",
     "level": 2,
     "metadata": {},
     "source": [
      "Example 6.23 Page No : 37"
     ]
    },
    {
     "cell_type": "code",
     "collapsed": false,
     "input": [
      "\t\t\t\n",
      "# Variables :\n",
      "mdot = 2.;\t\t\t#Kg/s\n",
      "p1 = 10.;\t\t\t#bar\n",
      "Tsup1 = 200.;\t\t\t#degree C(from steam table)\n",
      "p2 = 1.;\t\t\t#bar\n",
      "h1 = 2826.8;\t\t\t#KJ/Kg(at 10bar,200 degree C)\n",
      "S1 = 6.692;\t\t\t#KJ/KgK(at 10bar,200 degree C)\n",
      "ts2 = 99.63;\t\t\t#degree C(at 1bar)\n",
      "Vg2 = 1.694;\t\t\t#m**3/Kg(at 1bar)\n",
      "hf2 = 417.5;\t\t\t#KJ/Kg(at 1bar)\n",
      "hfg2 = 2258.;\t\t\t#KJ/Kg(at 1bar)\n",
      "sf2 = 1.303;\t\t\t#KJ/KgK(at 1bar)\n",
      "sfg2 = 6.057;\t\t\t#KJ/KgK(at 1bar)\n",
      "\n",
      "# Calculations\n",
      "#S1 = sf2+x2*sfg2\n",
      "x2 = (S1-sf2)/sfg2;\t\t\t#dryness\n",
      "V3 = x2*Vg2;\t\t\t#m**3/Kg\n",
      "t2 = ts2;\t\t\t#degree C\n",
      "S2 = S1;\t\t\t#KJ/KgK\n",
      "Qdot = 0;\t\t\t#KJ\n",
      "h2 = hf2+x2*hfg2;\t\t\t#KJ/Kg\n",
      "Wsf_dot = Qdot-mdot*((h2-h1));\t\t\t#KJ/Kg\n",
      "\n",
      "# Results\n",
      "print \"Final specific volume, v2 = %.4f m**3/kg\"%V3\n",
      "print \"Final temperature , t2 = %.2f C\"%t2\n",
      "print \"Final specific entropy, S2 = %.3f kJ/kg K\"%S2\n",
      "print \"Work output of turbine in KJ/s or W : %.1f\"%Wsf_dot\n",
      "\n",
      "#Steam table is used to get some data.\n"
     ],
     "language": "python",
     "metadata": {},
     "outputs": [
      {
       "output_type": "stream",
       "stream": "stdout",
       "text": [
        "Final specific volume, v2 = 1.5072 m**3/kg\n",
        "Final temperature , t2 = 99.63 C\n",
        "Final specific entropy, S2 = 6.692 kJ/kg K\n",
        "Work output of turbine in KJ/s or W : 800.6\n"
       ]
      }
     ],
     "prompt_number": 3
    },
    {
     "cell_type": "heading",
     "level": 2,
     "metadata": {},
     "source": [
      "Example 6.24 Page No : 39"
     ]
    },
    {
     "cell_type": "code",
     "collapsed": false,
     "input": [
      "\t\t\t\n",
      "# Variables :\n",
      "p1 = 7.;\t\t\t#bar\n",
      "x1 = 0.8;\t\t\t#dryness\n",
      "p2 = 1.;\t\t\t#bar\n",
      "hf1 = 697.;\t\t\t#KJ/Kg(at 7bar)\n",
      "hfg1 = 2064.9;\t\t\t#KJ/Kg(at 7bar)\n",
      "hf2 = 417.5;\t\t\t#KJ/Kg(at 1bar)\n",
      "hfg2 = 2258;\t\t\t#KJ/Kg(at 1bar)\n",
      "\n",
      "# Calculations and Results\n",
      "#hf1+x1*hfg1 = hf2+x2*hfg2\n",
      "x2 = (hf1+x1*hfg1-hf2)/hfg2;\t\t\t#dryness\n",
      "print \"Final conditio of steam(dryness) : %.4f\"%x2\n",
      "\n",
      "sf2 = 1.303;\t\t\t#KJ/Kg(at 1bar)\n",
      "sfg2 = 6.057;\t\t\t#KJ/Kg(at 1bar)\n",
      "sf1 = 1.992;\t\t\t#KJ/Kg(at 7bar)\n",
      "sfg1 = 4.713;\t\t\t#KJ/Kg(at 7bar)\n",
      "deltaS = (sf2+x2*sfg2)-(sf1+x1*sfg1)\n",
      "print \"Change in entropy in KJ/KgK : %.4f\"%deltaS\n",
      "print \"Entropy change of surroundings = %.4f KJ/kg K\"%(deltaS + 0)\n",
      "#Steam table is used to get some data.\n"
     ],
     "language": "python",
     "metadata": {},
     "outputs": [
      {
       "output_type": "stream",
       "stream": "stdout",
       "text": [
        "Final conditio of steam(dryness) : 0.8554\n",
        "Change in entropy in KJ/KgK : 0.7216\n",
        "Entropy change of surroundings = 0.7216 KJ/kg K\n"
       ]
      }
     ],
     "prompt_number": 2
    },
    {
     "cell_type": "heading",
     "level": 2,
     "metadata": {},
     "source": [
      "Example 6.25 Page No : 40"
     ]
    },
    {
     "cell_type": "code",
     "collapsed": false,
     "input": [
      "\n",
      "# Variables :\n",
      "p1 = 10.;\t\t\t#bar\n",
      "x1 = 0.9;\t\t\t#dryness\n",
      "p2 = 1.;\t\t\t#bar\n",
      "hf1 = 762.6;\t\t\t#KJ/Kg(at 10bar)\n",
      "hfg1 = 2013.6;\t\t\t#KJ/Kg(at 10bar)\n",
      "\n",
      "# Calculations\n",
      "h1 = hf1+x1*hfg1;\t\t\t#KJ/Kg\n",
      "h2 = h1;\t\t\t#KJ/Kg\n",
      "hg2 = h2;\t\t\t#KJ/Kg\n",
      "p2 = 0.075;\t\t\t#bar(from steam table)\n",
      "\n",
      "# Results\n",
      "print \"Pressure at exit in bar : \",p2\n",
      "\t\t\t#Steam table is used to get some data.\n"
     ],
     "language": "python",
     "metadata": {},
     "outputs": [
      {
       "output_type": "stream",
       "stream": "stdout",
       "text": [
        "Pressure at exit in bar :  0.075\n"
       ]
      }
     ],
     "prompt_number": 25
    },
    {
     "cell_type": "heading",
     "level": 2,
     "metadata": {},
     "source": [
      "Example 6.26 Page No : 40"
     ]
    },
    {
     "cell_type": "code",
     "collapsed": false,
     "input": [
      "import math \n",
      "\t\t\t\n",
      "# Variables :\n",
      "m1dot = 3.;\t\t\t#Kg/min\n",
      "p1 = 10.;\t\t\t#bar\n",
      "Tsup1 = 250.;\t\t\t#degree C\n",
      "m2dot = 5.;\t\t\t#Kg/min\n",
      "p2 = 10.;\t\t\t#bar\n",
      "x2 = 0.7;\t\t\t#dryness\n",
      "p3 = 10.;\t\t\t#bar\n",
      "p4 = 5.;\t\t\t#bar\n",
      "p5 = 2.;\t\t\t#bar\n",
      "m3dot = m1dot+m2dot;\t\t\t#Kg/min\n",
      "hsup1 = 2826.8;\t\t\t#KJ/Kg(at 10bar)\n",
      "hf2 = 762.6;\t\t\t#KJ/Kg(at 10bar)\n",
      "hf3 = 762.6;\t\t\t#KJ/Kg(at 10bar)\n",
      "hfg2 = 2013.6;\t\t\t#KJ/Kg(at 10bar)\n",
      "hfg3 = 2013.6;\t\t\t#KJ/Kg(at 10bar)\n",
      "\n",
      "# Calculations and Results\n",
      "#m1dot*hsup1+m2dot*(hf2+x2*hfg2) = m3dot*(hf3+x3*hfg3)\n",
      "x3 = ((m1dot*hsup1+m2dot*(hf2+x2*hfg2))/m3dot-hf3)/hfg3;\t\t\t#dryness\n",
      "print \"State of steam after mixing(dryness) : %.2f\"%x3\n",
      "\n",
      "x4 = 0.838;\t\t\t#dryness(from molliers diagram)\n",
      "print \"State of steam after throttling(dryness) : %.3f\"%x4\n",
      "\n",
      "sf3 = 2.138;\t\t\t#KJ/KgK(From steam table\n",
      "sfg3 = 4.445;\t\t\t#KJ/KgK(From steam table\n",
      "sf4 = 1.860;\t\t\t#KJ/KgK(From steam table)\n",
      "sfg4 = 4.959;\t\t\t#KJ/KgK(From steam table\n",
      "s4SUBs3 = m3dot/60*((sf4+x4*sfg4)-(sf3+x3*sfg3));\t\t\t#KJ/Kg\n",
      "print \"Increase in entropy due to throttling in KJ/KgK : %.5f\"%s4SUBs3\n",
      "\n",
      "h4 = 2405;\t\t\t#KJ/Kg(from Molliers diagram)\n",
      "h5 = 2265;\t\t\t#KJ/Kg(from Molliers diagram)\n",
      "x5 = 0.802;\t\t\t#dryness\n",
      "C4 = 0;\t\t\t#m/s(from S.F.E.E)\n",
      "\t\t\t#h4+C4**2/2/1000 = h5+C5**2/2/1000\n",
      "C5 = math.sqrt((h4+C4**2/2/1000-h5)*2*1000);\t\t\t#m/s\n",
      "p5 = 2;\t\t\t#bar(from steam table)\n",
      "Vg5 = 0.885;\t\t\t#m**3/Kg(from steam table)\n",
      "\t\t\t#mdot/60 = A5*C5/x5/Vg5\n",
      "A5 = m3dot/60/C5*x5*Vg5;\t\t\t#m**2\n",
      "print \"Exit area of nozzle in cm**2 : %.4f\"%(A5*10**4)\n",
      "\t\t\t#Steam table is used to get some data.\n"
     ],
     "language": "python",
     "metadata": {},
     "outputs": [
      {
       "output_type": "stream",
       "stream": "stdout",
       "text": [
        "State of steam after mixing(dryness) : 0.82\n",
        "State of steam after throttling(dryness) : 0.838\n",
        "Increase in entropy due to throttling in KJ/KgK : 0.02989\n",
        "Exit area of nozzle in cm**2 : 1.7885\n"
       ]
      }
     ],
     "prompt_number": 22
    },
    {
     "cell_type": "heading",
     "level": 2,
     "metadata": {},
     "source": [
      "Example 6.27 Page No : 47"
     ]
    },
    {
     "cell_type": "code",
     "collapsed": false,
     "input": [
      "\t\t\t\n",
      "# Variables :\n",
      "ms = 5.;\t\t\t#Kg\n",
      "m2 = 140.;\t\t\t#Kg\n",
      "p = 10.;\t\t\t#bar\n",
      "mc = 20.;\t\t\t#KJ/K\n",
      "t1 = 20.;\t\t\t#degree C\n",
      "mwdot = 20.;\t\t\t#Kg\n",
      "t2 = 40.;\t\t\t#degree C\n",
      "Cpw = 4.19;\t\t\t#KJ/KgK\n",
      "hfg = 2021.4;\t\t\t#KJ/Kg(at 10bar)\n",
      "ts = 179.88;\t\t\t#degree C\n",
      "\n",
      "# Calculations\n",
      "#ms*(x*hfg)+ms*Cpw*(ts-t2) = m2*Cpw*(t2-t1)+mc*(t2-t1)\n",
      "x = (m2*Cpw*(t2-t1)+mc*(t2-t1)-ms*Cpw*(ts-t2))/ms/hfg;\t\t\t#dryness\n",
      "\n",
      "# Results\n",
      "print \"Dryness fraction of steam : %.4f\"%x\n",
      "\n",
      "\t\t\t#Steam table is used to get some data.\n"
     ],
     "language": "python",
     "metadata": {},
     "outputs": [
      {
       "output_type": "stream",
       "stream": "stdout",
       "text": [
        "Dryness fraction of steam : 0.9104\n"
       ]
      }
     ],
     "prompt_number": 23
    },
    {
     "cell_type": "heading",
     "level": 2,
     "metadata": {},
     "source": [
      "Example 6.28 Page No : 47"
     ]
    },
    {
     "cell_type": "code",
     "collapsed": false,
     "input": [
      "\t\t\t\n",
      "# Variables :\n",
      "p1 = 15.;\t\t\t#bar\n",
      "p2 = 15.;\t\t\t#bar\n",
      "p3 = 1.;\t\t\t#bar\n",
      "Tsup3 = 150.;\t\t\t#degree C\n",
      "mw = 0.2;\t\t\t#Kg/min\n",
      "ms = 10.;\t\t\t#Kg/min\n",
      "\n",
      "# Calculations and Results\n",
      "x1 = ms/(ms+mw);\t\t\t#dryness\n",
      "print \"Dryness factor of steam : %.4f\"%x1\n",
      "\n",
      "hf2 = 844.7;\t\t\t#KJ/Kg(from steam table,at 15 bar)\n",
      "hfg2 = 1945.2;\t\t\t#KJ/Kg(from steam table,at 15 bar)\n",
      "hsup3 = 2776.3;\t\t\t#KJ/Kg(from steam table,at 15 bar)\n",
      "\t\t\t#hsup3 = hf2+x2*hfg2;\t\t\t#KJ/Kg\n",
      "x2 = (hsup3-hf2)/hfg2;\t\t\t#KJ/Kg\n",
      "x = x1*x2;\t\t\t#dryness\n",
      "print \"Dryness fraction in the mains : %.4f\"%x\n",
      "\n",
      "\t\t\t#Steam table is used to get some data.\n"
     ],
     "language": "python",
     "metadata": {},
     "outputs": [
      {
       "output_type": "stream",
       "stream": "stdout",
       "text": [
        "Dryness factor of steam : 0.9804\n",
        "Dryness fraction in the mains : 0.9735\n"
       ]
      }
     ],
     "prompt_number": 24
    },
    {
     "cell_type": "heading",
     "level": 2,
     "metadata": {},
     "source": [
      "Example 6.29 Page No : 48"
     ]
    },
    {
     "cell_type": "code",
     "collapsed": false,
     "input": [
      "\t\t\t\n",
      "# Variables :\n",
      "p1 = 1.;\t\t\t#MPa\n",
      "p2 = 100.;\t\t\t#KPa\n",
      "p1 = p1*10**6./10**5;\t\t\t#bar\n",
      "p2 = p2*10**3./10**5;\t\t\t#bar\n",
      "hf1 = 762.5;\t\t\t#KJ/Kg(from steam table)\n",
      "hfg2 = 2013.6;\t\t\t#KJ/Kg(from steam table)\n",
      "hg2 = 2675.5;\t\t\t#KJ/Kg(from steam table)\n",
      "\n",
      "# Calculations\n",
      "#hg2 = hf1+x1*hfg2;\t\t\t#KJ/Kg\n",
      "x1 = (hg2-hf1)/hfg2;\t\t\t#\n",
      "\n",
      "# Results\n",
      "print \"Dryness fraction in the mains : %.2f\"%x1\n",
      "\n",
      "\t\t\t#Steam table is used to get some data.\n"
     ],
     "language": "python",
     "metadata": {},
     "outputs": [
      {
       "output_type": "stream",
       "stream": "stdout",
       "text": [
        "Dryness fraction in the mains : 0.95\n"
       ]
      }
     ],
     "prompt_number": 25
    },
    {
     "cell_type": "heading",
     "level": 2,
     "metadata": {},
     "source": [
      "Example 6.30 Page No : 49"
     ]
    },
    {
     "cell_type": "code",
     "collapsed": false,
     "input": [
      "\t\t\t\n",
      "# Variables :\n",
      "p1 = 900.;\t\t\t#KN/m**2\n",
      "p2 = 900.;\t\t\t#KN/m**2\n",
      "p3 = 0.1013;\t\t\t#MN/m**2\n",
      "p1 = p1/10.**2;\t\t\t#bar\n",
      "p3 = p2/10.**2;\t\t\t#bar\n",
      "p3 = p3*10.**6/10**5;\t\t\t#bar\n",
      "Tsup3 = 115.;\t\t\t#degree C\n",
      "ms = 1.8;\t\t\t#Kg\n",
      "mw = 0.16;\t\t\t#Kg\n",
      "\n",
      "# Calculations\n",
      "x1 = ms/(ms+mw);\t\t\t#dryness\n",
      "hf2 = 742.6;\t\t\t#KJ/Kg(from steam table)\n",
      "hfg2 = 2029.5;\t\t\t#KJ/Kg(from steam table)\n",
      "hg3 = 2676;\t\t\t#KJ/Kg(from steam table)\n",
      "Ts3 = 100;\t\t\t#degree C\n",
      "Cp = 2;\t\t\t#KJ/KgK\n",
      "\t\t\t#hf2+x2*hfg2 = hg3+Cp*(Tsup3-Ts3);\t\t\t#KJ/Kg\n",
      "x2 = (hg3+Cp*(Tsup3-Ts3)-hf2)/hfg2;\t\t\t#KJ/Kg\n",
      "x = x1*x2;\t\t\t#dryness\n",
      "\n",
      "# Results\n",
      "print \"Dryness fraction of steam in mains : %.4f\"%x\n",
      "\n",
      "#Steam table is used to get some data.\n"
     ],
     "language": "python",
     "metadata": {},
     "outputs": [
      {
       "output_type": "stream",
       "stream": "stdout",
       "text": [
        "Dryness fraction of steam in mains : 0.8885\n"
       ]
      }
     ],
     "prompt_number": 26
    },
    {
     "cell_type": "heading",
     "level": 2,
     "metadata": {},
     "source": [
      "Example 6.31 Page No : 49"
     ]
    },
    {
     "cell_type": "code",
     "collapsed": false,
     "input": [
      "\t\t\t\n",
      "# Variables :\n",
      "p1 = 1.5;\t\t\t#MPa\n",
      "p1 = p1*10**6/10**5;\t\t\t#bar\n",
      "p2 = p1;\t\t\t#bar\n",
      "p3 = 0.1;\t\t\t#MPa\n",
      "p3 = p3*10**6/10**5;\t\t\t#bar\n",
      "Tsup3 = 110;\t\t\t#degree C\n",
      "Vw = 0.15;\t\t\t#litres\n",
      "Vw = 0.15*10**-3;\t\t\t#m**3 at 70 degree C\n",
      "ms = 3.24;\t\t\t#Kg\n",
      "Vf = 0.001023;\t\t\t#m**3/Kg\n",
      "mw = Vw/Vf;\t\t\t#Kg\n",
      "x1 = ms/(ms+mw);\t\t\t#dryness\n",
      "hf2 = 844.7;\t\t\t#KJ/Kg(from steam table)\n",
      "hfg2 = 1945.2;\t\t\t#KJ/Kg(from steam table)\n",
      "hg3 = 2675;\t\t\t#KJ/Kg(from steam table)\n",
      "Ts3 = 99.63;\t\t\t#degree C\n",
      "Cp = 2;\t\t\t#KJ/KgK\n",
      "\n",
      "# Calculations\n",
      "#hf2+x2*hfg2 = hg3+Cp*(Tsup3-Ts3);\t\t\t#KJ/Kg\n",
      "x2 = (hg3+Cp*(Tsup3-Ts3)-hf2)/hfg2;\t\t\t#KJ/Kg\n",
      "x = x1*x2;\t\t\t#dryness\n",
      "\n",
      "# Results\n",
      "print \"Quality of steam in pipe line(Dryness fraction) : %.4f\"%x\n",
      "\t\t\t#Steam table is used to get some data.\n"
     ],
     "language": "python",
     "metadata": {},
     "outputs": [
      {
       "output_type": "stream",
       "stream": "stdout",
       "text": [
        "Quality of steam in pipe line(Dryness fraction) : 0.9104\n"
       ]
      }
     ],
     "prompt_number": 27
    },
    {
     "cell_type": "heading",
     "level": 2,
     "metadata": {},
     "source": [
      "Example 6.32 Page No : 50"
     ]
    },
    {
     "cell_type": "code",
     "collapsed": false,
     "input": [
      "\t\t\t\n",
      "# Variables :\n",
      "p1 = 1.5;\t\t\t#MPa\n",
      "p1 = p1*10**6/10**5;\t\t\t#bar\n",
      "p_gauge = 7;\t\t\t#bar\n",
      "p_at = 1;\t\t\t#bar\n",
      "p2 = p_gauge+p_at;\t\t\t#bar\n",
      "p3 = 1;\t\t\t#bar\n",
      "Tsup3 = 110;\t\t\t#degree C\n",
      "mw = 3.5;\t\t\t#Kg\n",
      "ms = 48;\t\t\t#Kg\n",
      "Cp = 2.1;\t\t\t#KJ/KgK\n",
      "x1 = ms/(ms+mw);\t\t\t#dryness\n",
      "hf2 = 720.9;\t\t\t#KJ/Kg(from steam table)\n",
      "hfg2 = 2059.3;\t\t\t#KJ/Kg(from steam table)\n",
      "hg3 = 2675.5;\t\t\t#KJ/Kg(from steam table)\n",
      "Ts3 = 99.63;\t\t\t#degree C\n",
      "\n",
      "# Calculations\n",
      "#hf2+x2*hfg2 = hg3+Cp*(Tsup3-Ts3);\t\t\t#KJ/Kg\n",
      "x2 = (hg3+Cp*(Tsup3-Ts3)-hf2)/hfg2;\t\t\t#KJ/Kg\n",
      "x = x1*x2;\t\t\t#dryness\n",
      "\n",
      "# Results\n",
      "print \"Quality of steam in pipe line(Dryness fraction) : %.4f\"%x\n",
      "\t\t\t#Steam table is used to get some data.\n"
     ],
     "language": "python",
     "metadata": {},
     "outputs": [
      {
       "output_type": "stream",
       "stream": "stdout",
       "text": [
        "Quality of steam in pipe line(Dryness fraction) : 0.8945\n"
       ]
      }
     ],
     "prompt_number": 28
    },
    {
     "cell_type": "heading",
     "level": 2,
     "metadata": {},
     "source": [
      "Example 6.33 Page No : 54"
     ]
    },
    {
     "cell_type": "code",
     "collapsed": false,
     "input": [
      "\n",
      "\t\t\t\n",
      "# Variables :\n",
      "p1 = 20;\t\t\t#bar\n",
      "Tsup3 = 360;\t\t\t#degree C\n",
      "pb = 0.08;\t\t\t#bar\n",
      "m = 1;\t\t\t#Kg\n",
      "hf1 = 173.9;\t\t\t#KJ/Kg(from steam table)\n",
      "h1 = hf1;\t\t\t#KJ/Kg\n",
      "wp = (p1-pb)/10;\t\t\t#KJ/Kg\n",
      "h2 = h1+wp;\t\t\t#KJ/Kg\n",
      "h3 = 3160.62;\t\t\t#KJ/Kg(from steam table)\n",
      "S3 = 6.994;\t\t\t#KJ/Kg\n",
      "Sf4 = 0.593;\t\t\t#KJ/Kg(from steam table)\n",
      "Sfg4 = 7.637;\t\t\t#KJ/Kg(from steam table)\n",
      "S3 = 6.994;\t\t\t#KJ/Kg\n",
      "#S3 = S4 = Sf4+x4*Sfg4\n",
      "x4 = (S3-Sf4)/Sfg4;\t\t\t#dryness\n",
      "hf4 = 173.9;\t\t\t#KJ/Kg(from steam table)\n",
      "hfg4 = 2403.2;\t\t\t#KJ/Kg(from steam table)\n",
      "\n",
      "# Calculations and Results\n",
      "h4 = hf4+x4*hfg4;\t\t\t#KJ/Kg\n",
      "Ws = h3-h4-wp;\t\t\t#KJ/Kg\n",
      "print \"Net work done in KJ/Kg : %.3f\"%Ws\n",
      "\n",
      "EtaR = Ws/(h3-h2)*100;\t\t\t#%\n",
      "print \"Rankine efficiency in  %% : %.2f\"%EtaR\n",
      "\n",
      "#Steam table is used to get some data.\n"
     ],
     "language": "python",
     "metadata": {},
     "outputs": [
      {
       "output_type": "stream",
       "stream": "stdout",
       "text": [
        "Net work done in KJ/Kg : 970.471\n",
        "Rankine efficiency in  % : 32.51\n"
       ]
      }
     ],
     "prompt_number": 30
    },
    {
     "cell_type": "heading",
     "level": 2,
     "metadata": {},
     "source": [
      "Example 6.34 Page No : 56"
     ]
    },
    {
     "cell_type": "code",
     "collapsed": false,
     "input": [
      "\t\t\t\n",
      "# Variables :\n",
      "p1 = 80;\t\t\t#bar\n",
      "Tsup3 = 350;\t\t\t#degree C\n",
      "pb = 712.5/760*1.01325;\t\t\t#bar\n",
      "mdot = 2;\t\t\t#Kg/s\n",
      "#mdot = 1;\t\t\t#Kg\n",
      "h3 = 2964.;\t\t\t#KJ/Kg(Molliers diagram)\n",
      "h4 = 2184.;\t\t\t#KJ/Kg(Molliers diagram)\n",
      "\n",
      "# Calculations and Results\n",
      "WT = h3-h4;\t\t\t#KJ/Kg\n",
      "WTdot = mdot*WT;\t\t\t#KW\n",
      "print \"Total turbine work in KW : \",WTdot\n",
      "\n",
      "wp = (p1-pb)/10;\t\t\t#KJ/Kg\n",
      "hf1 = 411.35;\t\t\t#KJ/Kg(from steam table)\n",
      "h1 = hf1;\t\t\t#KJ/Kg\n",
      "h2 = h1+wp;\t\t\t#KJ/Kg\n",
      "qi = h3-h2;\t\t\t#KJ/Kg\n",
      "EtaR = (WT-wp)/qi*100;\t\t\t#%\n",
      "print \"Rankine efficiency in  %% : %.2f\"%EtaR\n",
      "\n",
      "#Steam table is used to get some data.\n"
     ],
     "language": "python",
     "metadata": {},
     "outputs": [
      {
       "output_type": "stream",
       "stream": "stdout",
       "text": [
        "Total turbine work in KW :  1560.0\n",
        "Rankine efficiency in  % : 30.34\n"
       ]
      }
     ],
     "prompt_number": 31
    },
    {
     "cell_type": "heading",
     "level": 2,
     "metadata": {},
     "source": [
      "Example 6.35 Page No : 57"
     ]
    },
    {
     "cell_type": "code",
     "collapsed": false,
     "input": [
      "\n",
      "# Variables :\n",
      "p1 = 30.\t    \t\t#bar\n",
      "Tsup3 = 350.\t\t\t#degree C\n",
      "pb = 0.5;\t\t\t#bar\n",
      "h1 = 340.5;\t\t\t#KJ/Kg(from steam table, at 0.5 bar)\n",
      "Vw = 0.001;\t\t\t#m**3/Kg\n",
      "wp = (p1-pb)*10**5*Vw/1000;\t\t\t#KJ/Kg\n",
      "h2 = h1+wp;\t\t\t#KJ/Kg\n",
      "h3 = 2854.8;\t\t\t#KJ/Kg(from steam table, at 30 bar)\n",
      "S3 = 6.286;\t\t\t#KJ/KgK\n",
      "S4 = S3;\t\t\t#KJ/KgK\n",
      "Sf4 = 1.091;\t\t\t#KJ/KgK\n",
      "Sfg4 = 6.503;\t\t\t#KJ/KgK\n",
      "\n",
      "# Calculations and Results\n",
      "#S4 = Sf4+x4*Sfg4\n",
      "x4 = (S4-Sf4)/Sfg4;\t\t\t#dryness\n",
      "print \"Dryness fraction of steam entering in condenser : %.3f\"%x4\n",
      "hf4 = 340.5;\t\t\t#KJ/Kg(from steam table)\n",
      "hfg4 = 2305.4;\t\t\t#KJ/Kg(from steam table)\n",
      "h4 = hf4+x4*hfg4;\t\t\t#KJ/Kg\n",
      "q = h3-h2;\t\t\t#\n",
      "print \"Heat supplied to stem in boiler in KJ : %.2f\"%q\n",
      "\n",
      "Ws = h3-h4-(h2-h1);\t\t\t#KJ/Kg\n",
      "print \"Work done in KJ/Kg : %.2f\"%Ws\n",
      "\n",
      "steam_rate = 3600/Ws;\t\t\t#KJ/KWh\n",
      "print \"Steam rate per in KJ/Kwh :  %.3f\"%steam_rate\n",
      "\n",
      "EtaR = Ws/(h3-h2)*100;\t\t\t#%\n",
      "print \"Rankine efficiency in  %% : %.2f\"%EtaR\n",
      "\t\t\t#Steam table is used to get some data.\n"
     ],
     "language": "python",
     "metadata": {},
     "outputs": [
      {
       "output_type": "stream",
       "stream": "stdout",
       "text": [
        "Dryness fraction of steam entering in condenser : 0.799\n",
        "Heat supplied to stem in boiler in KJ : 2511.35\n",
        "Work done in KJ/Kg : 669.65\n",
        "Steam rate per in KJ/Kwh :  5.376\n",
        "Rankine efficiency in  % : 26.67\n"
       ]
      }
     ],
     "prompt_number": 32
    }
   ],
   "metadata": {}
  }
 ]
}