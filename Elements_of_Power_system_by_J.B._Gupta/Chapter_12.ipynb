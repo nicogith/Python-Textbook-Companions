{
 "metadata": {
  "name": "",
  "signature": "sha256:c04662c5bd4f38db1beb13d324aa5f4b0617ec914f453499de17aa02ac050633"
 },
 "nbformat": 3,
 "nbformat_minor": 0,
 "worksheets": [
  {
   "cells": [
    {
     "cell_type": "heading",
     "level": 1,
     "metadata": {},
     "source": [
      "Chapter 12 - NEUTRAL GROUNDING"
     ]
    },
    {
     "cell_type": "heading",
     "level": 2,
     "metadata": {},
     "source": [
      "Ecample E1 - Pg 311"
     ]
    },
    {
     "cell_type": "code",
     "collapsed": false,
     "input": [
      "#calculate Reactance of coil\n",
      "#Given data :\n",
      "import math\n",
      "f=50.##Supply frequency in Hz\n",
      "C=4.5*10.**-6##in Farad\n",
      "Omega_L=1./3./2./math.pi/f/C##in ohm\n",
      "print '%s %.2f' %(\"Reactance of coil (ohm) :\",Omega_L)#\n"
     ],
     "language": "python",
     "metadata": {},
     "outputs": [
      {
       "output_type": "stream",
       "stream": "stdout",
       "text": [
        "Reactance of coil (ohm) : 235.79\n"
       ]
      }
     ],
     "prompt_number": 1
    },
    {
     "cell_type": "heading",
     "level": 2,
     "metadata": {},
     "source": [
      "Ecample E2 - Pg 311"
     ]
    },
    {
     "cell_type": "code",
     "collapsed": false,
     "input": [
      "#calculate Necessary Inductance of peterson coil,Rating of supressor coil in MVA\n",
      "#Given data :\n",
      "import math\n",
      "V=132.*1000.##V\n",
      "f=50.##Hz\n",
      "r=10./1000.##m\n",
      "d1=4.##m\n",
      "d2=4.##m\n",
      "d3=d1+d2##m\n",
      "epsilon_o=8.854*10.**-12##constant\n",
      "l_tl=192.*1000.##length of transmission line in m\n",
      "C=2.*math.pi*epsilon_o/math.log((d1*d2*d3)**(1./3.)/r)*l_tl##in Farad\n",
      "L=1./3./(2.*math.pi*f)**2./C##H\n",
      "print '%s %.3f' %(\"Necessary Inductance of peterson coil in H : \",L)#\n",
      "VP=V/math.sqrt(3.)##V\n",
      "IL=VP/(2.*math.pi*f)/L##A\n",
      "Rating=VP*IL/1000.##kVA\n",
      "print '%s %.2f' %(\"Rating of supressor coil in MVA :\",Rating/1000)#\n"
     ],
     "language": "python",
     "metadata": {},
     "outputs": [
      {
       "output_type": "stream",
       "stream": "stdout",
       "text": [
        "Necessary Inductance of peterson coil in H :  1.968\n",
        "Rating of supressor coil in MVA : 9.40\n"
       ]
      }
     ],
     "prompt_number": 2
    }
   ],
   "metadata": {}
  }
 ]
}