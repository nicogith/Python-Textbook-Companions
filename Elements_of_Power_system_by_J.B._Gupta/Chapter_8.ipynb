{
 "metadata": {
  "name": "",
  "signature": "sha256:6d073c49f372dda47c7aa22d6e606de390e394a91f8374089b05d9ccb3405267"
 },
 "nbformat": 3,
 "nbformat_minor": 0,
 "worksheets": [
  {
   "cells": [
    {
     "cell_type": "heading",
     "level": 1,
     "metadata": {},
     "source": [
      "Chapter 8 - ELECTROSTATIC AND ELECTROMAGNETIC INTERFERENCE WITH COMMUNICATION LINES"
     ]
    },
    {
     "cell_type": "heading",
     "level": 2,
     "metadata": {},
     "source": [
      "Example E1 - Pg 203"
     ]
    },
    {
     "cell_type": "code",
     "collapsed": false,
     "input": [
      "#calculate Voltage induced per Km in the line in Volt\n",
      "import math\n",
      "#Given data :\n",
      "f=50.##Hz\n",
      "hor_con=1.2##horizontal configuration spacing in m\n",
      "x=0.85##telephone line location below power line in meter\n",
      "I=120.##current in power line in A\n",
      "d=0.4##spacing between conductors in meter\n",
      "dAD=math.sqrt(x**2.+((hor_con+d)/2.)**2.)##m\n",
      "dAC=math.sqrt(x**2.+((hor_con-d)/2.)**2.)##m\n",
      "dBD=dAC##m\n",
      "dBC=dAD##m\n",
      "M=d*math.log(math.sqrt(dAD*dBC/dAC/dBD))##mh/km\n",
      "Vm=2*math.pi*f*M*10.**-3*I##V\n",
      "print '%s %.3f' %(\"Voltage induced per Km in the line in Volt :\",Vm)#\n"
     ],
     "language": "python",
     "metadata": {},
     "outputs": [
      {
       "output_type": "stream",
       "stream": "stdout",
       "text": [
        "Voltage induced per Km in the line in Volt : 3.275\n"
       ]
      }
     ],
     "prompt_number": 1
    },
    {
     "cell_type": "heading",
     "level": 2,
     "metadata": {},
     "source": [
      "Example E2 - Pg 205"
     ]
    },
    {
     "cell_type": "code",
     "collapsed": false,
     "input": [
      "#calculate \n",
      "import math\n",
      "#Given data :\n",
      "f=50.##HzdAP=AO+5##m\n",
      "l=200.##km\n",
      "V=132.*1000.##V\n",
      "Load=28000.##kW\n",
      "pf=0.85##lagging power factor\n",
      "r=5./1000.##radius of conductor in m\n",
      "#From the figure given in question\n",
      "AO=math.sqrt(4.**2.-2.**2.)##m\n",
      "dAP=AO+5.##m\n",
      "dAQ=dAP+1.##m\n",
      "dBP=math.sqrt(5.**2.+2.**2.)##m\n",
      "dBQ=math.sqrt(6.**2.+2.**2.)##m\n",
      "MA=0.2*math.log(dAQ/dAP)##mH/km\n",
      "MB=0.2*math.log(dBQ/dBP)##mH/km\n",
      "MC=MB##mH/km\n",
      "M=MB-MA##mH/km(MA,MB and Mc are print '%s %.2f' %laced by 120 degree)\n",
      "I=Load*1000./math.sqrt(3.)/V/pf##A\n",
      "Vm=2.*math.pi*f*M*10.**-3.*I##V/km\n",
      "Vm1=Vm*l##V(For whole route)\n",
      "print '%s %.1f' %(\"Induced Voltage(For whole route) in Volts : \",Vm1)#\n",
      "VA=V/math.sqrt(3.)##V\n",
      "VB=V/math.sqrt(3.)##V\n",
      "hA=20.+AO##m\n",
      "VPA=VA*math.log((2.*hA-dAP)/dAP)/math.log((2.*hA-r)/r)##V\n",
      "VPB=VB*math.log((2.*hA-dBP)/dBP)/math.log((2.*hA-r)/r)##V\n",
      "VPC=VPB##V\n",
      "VP=VPB-VPA##V\n",
      "print '%s %.f' %(\"Potential of telephone conductor in Volts :\",VP)#\n",
      "#Answer in the book is wrong due to little accuracy as compared to scilab.\n"
     ],
     "language": "python",
     "metadata": {},
     "outputs": [
      {
       "output_type": "stream",
       "stream": "stdout",
       "text": [
        "Induced Voltage(For whole route) in Volts :  88.9\n",
        "Potential of telephone conductor in Volts : 4409\n"
       ]
      }
     ],
     "prompt_number": 2
    }
   ],
   "metadata": {}
  }
 ]
}