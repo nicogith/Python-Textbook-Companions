{
 "metadata": {
  "name": "",
  "signature": "sha256:818ef23f34385ee54f8d5672494c60336bc18fcc46f244fceb4d0fa90c810f66"
 },
 "nbformat": 3,
 "nbformat_minor": 0,
 "worksheets": [
  {
   "cells": [
    {
     "cell_type": "heading",
     "level": 1,
     "metadata": {},
     "source": [
      "Chapter 4 - INDUCTANCE AND CAPACITANCE OF TRANSMISSION LINES"
     ]
    },
    {
     "cell_type": "heading",
     "level": 2,
     "metadata": {},
     "source": [
      "Example E1 - Pg 85"
     ]
    },
    {
     "cell_type": "code",
     "collapsed": false,
     "input": [
      "#calculate Loop inductance,Reactance of transmission line\n",
      "#Given data :\n",
      "import math\n",
      "f=50.##Hz\n",
      "d=1.*100.##cm\n",
      "r=1.25/2.##cm\n",
      "r_dash=r*0.7788##cm\n",
      "L=0.4*math.log(d/r_dash)##mH\n",
      "print '%s %.2f' %(\"Loop inductance per km(mH)\",L)#\n",
      "XL=2.*math.pi*f*L*10.**-3.##ohm/Km\n",
      "print '%s %.3f' %(\"Reactance of transmission line(ohm/km)\",XL)#\n"
     ],
     "language": "python",
     "metadata": {},
     "outputs": [
      {
       "output_type": "stream",
       "stream": "stdout",
       "text": [
        "Loop inductance per km(mH) 2.13\n",
        "Reactance of transmission line(ohm/km) 0.669\n"
       ]
      }
     ],
     "prompt_number": 1
    },
    {
     "cell_type": "heading",
     "level": 2,
     "metadata": {},
     "source": [
      "Example E2 - Pg 85"
     ]
    },
    {
     "cell_type": "code",
     "collapsed": false,
     "input": [
      "#calculate Loop inductance\n",
      "#Given data :\n",
      "import math\n",
      "f=50.##Hz\n",
      "a=10.##cm**2\n",
      "l=500./1000.##km\n",
      "r=math.sqrt(a/math.pi)##cm\n",
      "d=5.*100.##cm\n",
      "r_dash=r*0.7788##cm\n",
      "L=0.4*math.log(d/r_dash)*l##mH\n",
      "print '%s %.3f' %(\"Loop inductance per km(mH)\",L)#\n"
     ],
     "language": "python",
     "metadata": {},
     "outputs": [
      {
       "output_type": "stream",
       "stream": "stdout",
       "text": [
        "Loop inductance per km(mH) 1.177\n"
       ]
      }
     ],
     "prompt_number": 2
    },
    {
     "cell_type": "heading",
     "level": 2,
     "metadata": {},
     "source": [
      "Example E3 - Pg 85"
     ]
    },
    {
     "cell_type": "code",
     "collapsed": false,
     "input": [
      "#calculate Loop inductance per km of copper conductor line,Loop inductance per km of steel conductor line\n",
      "#Given data :\n",
      "import math\n",
      "r=1./2.##cm\n",
      "d=1.*100.##cm\n",
      "mu=50.##relative permeability\n",
      "r_dash=r*0.7788##cm\n",
      "L_cu=.1+0.4*math.log(d/r)##mH\n",
      "print '%s %.2f' %(\"Loop inductance per km of copper conductor line(mH)\",L_cu)#\n",
      "L_steel=(mu+4.*math.log(d/r))*10.**-7.*10.**3.##mH\n",
      "print '%s %.2f' %(\"Loop inductance per km of steel conductor line(mH)\",L_steel*10**3)#\n"
     ],
     "language": "python",
     "metadata": {},
     "outputs": [
      {
       "output_type": "stream",
       "stream": "stdout",
       "text": [
        "Loop inductance per km of copper conductor line(mH) 2.22\n",
        "Loop inductance per km of steel conductor line(mH) 7.12\n"
       ]
      }
     ],
     "prompt_number": 3
    },
    {
     "cell_type": "heading",
     "level": 2,
     "metadata": {},
     "source": [
      "Example E4 - Pg 86"
     ]
    },
    {
     "cell_type": "code",
     "collapsed": false,
     "input": [
      "#calculate Geometric mean radius\n",
      "#Given data :\n",
      "import math\n",
      "r=3.##mm\n",
      "d11=r##mm\n",
      "d12=2.*r##mm\n",
      "d34=2.*r##mm\n",
      "d16=2.*r##mm\n",
      "d17=2.*r##mm\n",
      "d14=4.*r##mm\n",
      "d13=math.sqrt(d14**2.-d34**2.)##mm\n",
      "d15=d13##mm\n",
      "Ds1=(0.7788*d11*d12*d13*d14*d15*d16*d17)**(1./7.)##mm\n",
      "Ds2=Ds1##mm\n",
      "Ds3=Ds1##mm\n",
      "Ds4=Ds1##mm\n",
      "Ds5=Ds1##mm\n",
      "Ds6=Ds1##mm\n",
      "Ds7=(2.*r*0.7788*d11*d12*d13*2.*r*2.*r)**(1./7.)##mm\n",
      "Ds=(Ds1*Ds2*Ds3*Ds4*Ds5*Ds6*Ds7)**(1./7.)##mm\n",
      "print '%s %.3f' %(\"Geometric mean radius(mm)\",Ds)#\n",
      "#Answer in the book is wrong\n"
     ],
     "language": "python",
     "metadata": {},
     "outputs": [
      {
       "output_type": "stream",
       "stream": "stdout",
       "text": [
        "Geometric mean radius(mm) 6.367\n"
       ]
      }
     ],
     "prompt_number": 4
    },
    {
     "cell_type": "heading",
     "level": 2,
     "metadata": {},
     "source": [
      "Example E5 - Pg 86"
     ]
    },
    {
     "cell_type": "code",
     "collapsed": false,
     "input": [
      "#calculate Loop inductance of line\n",
      "#Given data :\n",
      "import math\n",
      "r=1.2##cm\n",
      "rdash=0.7788*r##cm\n",
      "d12=0.12*100.##cm\n",
      "d11dash=(0.2+1.2)*100.##cm\n",
      "d22dash=(0.2+1.2)*100.##cm\n",
      "d12dash=(0.2+1.2+0.2)*100.##cm\n",
      "d21dash=(1.2)*100.##cm\n",
      "Dm=(d11dash*d12dash*d21dash*d22dash)**(1./4.)##cm\n",
      "d11=0.93456##cm\n",
      "d22=0.93456##cm\n",
      "d12=20.##cm\n",
      "d21=20.##cm\n",
      "Ds=(d11*d12*d21*d22)**(1./4.)##cm\n",
      "L=0.4*math.log(Dm/Ds)##mH/km\n",
      "print '%s %.3f' %(\"Loop inductance of line(mH/km)\",L)#\n"
     ],
     "language": "python",
     "metadata": {},
     "outputs": [
      {
       "output_type": "stream",
       "stream": "stdout",
       "text": [
        "Loop inductance of line(mH/km) 1.389\n"
       ]
      }
     ],
     "prompt_number": 5
    },
    {
     "cell_type": "heading",
     "level": 2,
     "metadata": {},
     "source": [
      "Example E6 - Pg 87"
     ]
    },
    {
     "cell_type": "code",
     "collapsed": false,
     "input": [
      "#calculate Loop inductance of line\n",
      "#Given data :\n",
      "import math\n",
      "r=2./2.##cm\n",
      "rdash=0.7788*r##cm\n",
      "d12=0.12*100##cm\n",
      "d11dash=300.##cm\n",
      "d12dash=math.sqrt(300.**2.+100.**2.)##cm\n",
      "d21dash=d12dash##cm\n",
      "d22dash=d11dash##cm\n",
      "d11=rdash##cm\n",
      "d22=rdash##cm\n",
      "d12=100.##cm\n",
      "d21=100.##cm\n",
      "Dm=(d11dash*d12dash*d21dash*d22dash)**(1./4.)##cm\n",
      "Ds=(d11*d12*d21*d22)**(1./4.)##cm\n",
      "L=0.4*math.log(Dm/Ds)##mH/km\n",
      "print '%s %.3f' %(\"Loop inductance of line(mH/km)\",L)#\n"
     ],
     "language": "python",
     "metadata": {},
     "outputs": [
      {
       "output_type": "stream",
       "stream": "stdout",
       "text": [
        "Loop inductance of line(mH/km) 1.421\n"
       ]
      }
     ],
     "prompt_number": 6
    },
    {
     "cell_type": "heading",
     "level": 2,
     "metadata": {},
     "source": [
      " Example E7 - Pg 89"
     ]
    },
    {
     "cell_type": "code",
     "collapsed": false,
     "input": [
      "#calculate Inductance per phase \n",
      "#Given data :\n",
      "import math\n",
      "r=1.24/2##cm\n",
      "rdash=0.7788*r##cm\n",
      "d=2.*100.##cm\n",
      "L=0.2*math.log(d/rdash)##mH\n",
      "print '%s %.3f' %(\"Inductance per phase per km(mH)\",L)#\n"
     ],
     "language": "python",
     "metadata": {},
     "outputs": [
      {
       "output_type": "stream",
       "stream": "stdout",
       "text": [
        "Inductance per phase per km(mH) 1.205\n"
       ]
      }
     ],
     "prompt_number": 7
    },
    {
     "cell_type": "heading",
     "level": 2,
     "metadata": {},
     "source": [
      "Example E8 - Pg 89"
     ]
    },
    {
     "cell_type": "code",
     "collapsed": false,
     "input": [
      "#calculate Inductance per phase\n",
      "#Given data :\n",
      "import math\n",
      "r=(20./2.)/10.##cm\n",
      "d1=4.*100.##cm\n",
      "d2=5.*100.##cm\n",
      "d3=6.*100.##cm\n",
      "rdash=0.7788*r##cm\n",
      "L=0.2*math.log((d1*d2*d3)**(1./3.)/rdash)##mH\n",
      "print '%s %.2f' %(\"Inductance per phase(mH)\",L)#\n"
     ],
     "language": "python",
     "metadata": {},
     "outputs": [
      {
       "output_type": "stream",
       "stream": "stdout",
       "text": [
        "Inductance per phase(mH) 1.29\n"
       ]
      }
     ],
     "prompt_number": 8
    },
    {
     "cell_type": "heading",
     "level": 2,
     "metadata": {},
     "source": [
      "Example E9 - Pg 90"
     ]
    },
    {
     "cell_type": "code",
     "collapsed": false,
     "input": [
      "#calculate Inductance per km of phase1,phase2,phase3\n",
      "#Given data :\n",
      "import math\n",
      "r=4./2.##cm\n",
      "rdash=0.7788*r##cm\n",
      "d=300.##cm\n",
      "d3=6.*100.##cm\n",
      "LAr=0.2*(math.log(d/rdash)+1./2.*math.log(2.))\n",
      "LAi=0.866*math.log(2.)##mH\n",
      "print '%s' %(\"Inductance per km of phase1(mH)\")#\n",
      "print '%.4f %s %.2f' %(LAr,'-j',LAi)\n",
      "LB=0.2*math.log(d/rdash)##mH\n",
      "print '%s %.3f' %(\"Inductance per km of phase2(mH)\",LB)#\n",
      "LCr=0.2*(math.log(d/rdash)+1./2.*math.log(2.))\n",
      "LCi=0.866*math.log(2.)##mH\n",
      "print '%s' %(\"Inductance per km of phase3(mH)\")#\n",
      "print '%.4f %s %.2f' %(LCr,'+j',LCi)\n"
     ],
     "language": "python",
     "metadata": {},
     "outputs": [
      {
       "output_type": "stream",
       "stream": "stdout",
       "text": [
        "Inductance per km of phase1(mH)\n",
        "1.1214 -j 0.60\n",
        "Inductance per km of phase2(mH) 1.052\n",
        "Inductance per km of phase3(mH)\n",
        "1.1214 +j 0.60\n"
       ]
      }
     ],
     "prompt_number": 9
    },
    {
     "cell_type": "heading",
     "level": 2,
     "metadata": {},
     "source": [
      "Example E10 - Pg 90"
     ]
    },
    {
     "cell_type": "code",
     "collapsed": false,
     "input": [
      "#calculate Spacing between adjacent conductors\n",
      "import math\n",
      "#Given data :\n",
      "r=1.2/2.*10.##mm\n",
      "rdash=0.7788*r##mm\n",
      "d=3.5*1000.##mm\n",
      "L=2.*10.**-7.*math.log(d/rdash)##H/m\n",
      "Lav=1./3.*(L+L+L)##H/m\n",
      "d=rdash*math.exp(Lav/(2.*10.**-7.)-1./3.*math.log(2.))##mm\n",
      "print '%s %.4e' %(\"Spacing between adjacent conductors(m)\",d/1000.)#\n"
     ],
     "language": "python",
     "metadata": {},
     "outputs": [
      {
       "output_type": "stream",
       "stream": "stdout",
       "text": [
        "Spacing between adjacent conductors(m) 2.7780e+00\n"
       ]
      }
     ],
     "prompt_number": 10
    },
    {
     "cell_type": "heading",
     "level": 2,
     "metadata": {},
     "source": [
      "Example E11 - Pg 94"
     ]
    },
    {
     "cell_type": "code",
     "collapsed": false,
     "input": [
      "#calculate Spacing between adjacent conductors\n",
      "import math\n",
      "#Given data :\n",
      "r=20.##mm\n",
      "rdash=0.7788*r##mm\n",
      "d=7.*1000.##mm\n",
      "L=10**-7*math.log(math.sqrt(3.)/2.*d/rdash)##H/m\n",
      "print '%s %.4f' %(\"Spacing between adjacent conductors(mH)\",L*10.**3./10.**-3.)#\n"
     ],
     "language": "python",
     "metadata": {},
     "outputs": [
      {
       "output_type": "stream",
       "stream": "stdout",
       "text": [
        "Spacing between adjacent conductors(mH) 0.5964\n"
       ]
      }
     ],
     "prompt_number": 11
    },
    {
     "cell_type": "heading",
     "level": 2,
     "metadata": {},
     "source": [
      "Example E12 - Pg 94"
     ]
    },
    {
     "cell_type": "code",
     "collapsed": false,
     "input": [
      "#calculate Inductance per phase\n",
      "import math \n",
      "#Given data :\n",
      "r=0.9##cm\n",
      "rdash=0.7788*r*10.**-2.##m\n",
      "daa_dash=math.sqrt(6.**2.+6.**2.)##m\n",
      "dbb_dash=7.##m\n",
      "dcc_dash=daa_dash##m\n",
      "daa=rdash##m\n",
      "d_adash_adash=rdash##m\n",
      "d_adash_a=daa_dash##m\n",
      "Dsa=(daa*daa_dash*d_adash_adash*d_adash_a)**(1./4.)##m\n",
      "Dsb=(daa*7.)**(1./2.)##m\n",
      "Dsc=(daa*daa_dash)**(1./2.)##m\n",
      "Ds=(Dsa*Dsb*Dsc)**(1./3.)##m\n",
      "dab=math.sqrt(3.**2.+0.5**2.)##m\n",
      "dab_dash=math.sqrt(3.**2.+6.5**2.)##m\n",
      "d_adash_b=math.sqrt(3.**2.+6.5**2.)##m\n",
      "d_adash_bdash=math.sqrt(3.**2.+0.5**2.)##m\n",
      "Dab=(dab*dab_dash*d_adash_b*d_adash_bdash)**(1./4.)##m\n",
      "Dbc=((dab*dab_dash)**2.)**(1./4.)##m\n",
      "Dca=((6.*6.)**2.)**(1./4.)##m\n",
      "Dm=(Dab*Dbc*Dca)**(1./3.)##m\n",
      "L=0.2*math.log(Dm/Ds)##mH/km\n",
      "print '%s %.4f' %(\"Inductance per phase(mH/km)\",L)#\n"
     ],
     "language": "python",
     "metadata": {},
     "outputs": [
      {
       "output_type": "stream",
       "stream": "stdout",
       "text": [
        "Inductance per phase(mH/km) 0.6135\n"
       ]
      }
     ],
     "prompt_number": 12
    },
    {
     "cell_type": "heading",
     "level": 2,
     "metadata": {},
     "source": [
      "Example E13 - Pg 95"
     ]
    },
    {
     "cell_type": "code",
     "collapsed": false,
     "input": [
      "#calculate GMD,Deq or Dm,Inductance of 100 km line,Using Alternate method, Inductance of 100 km line\n",
      "import math\n",
      "#Given data :\n",
      "r=5./2.##mm\n",
      "rdash=2.176*r*10.**-3.##m\n",
      "daa_dash=math.sqrt(6**2+16**2)##m\n",
      "dbb_dash=6.##m\n",
      "dcc_dash=daa_dash##m\n",
      "dab=8.##m\n",
      "dab_dash=math.sqrt(6.**2.+8.**2.)##m\n",
      "dbc=8.##m\n",
      "dbc_dash=math.sqrt(6.**2.+8.**2.)##m\n",
      "dca=16.##m\n",
      "dca_dash=6.##m\n",
      "Dsa=math.sqrt(rdash*daa_dash)##m\n",
      "Dsb=math.sqrt(rdash*dbb_dash)##m\n",
      "Dsc=math.sqrt(rdash*dcc_dash)##m\n",
      "Ds=(Dsa*Dsb*Dsc)**(1/3)##m\n",
      "print '%s %.2f' %(\"GMD(m) : \",Ds)#\n",
      "Dab=(dab*dab_dash)**(1./2.)##m\n",
      "Dbc=(dbc*dbc_dash)**(1./2.)##m\n",
      "Dca=(dca*dca_dash)**(1./2.)##m\n",
      "Dm=(Dab*Dbc*Dca)**(1./3.)##m\n",
      "print '%s %.2f' %(\"Deq or Dm(m) : \",Dm)#\n",
      "L=0.2*math.log(Dm/Ds)##mH/km\n",
      "L=L*10.**-3.*100.##H(for 100 km line)\n",
      "print '%s %.4f' %(\"Inductance of 100 km line(H)\",L)#\n",
      "#/Alternate method is given below\n",
      "d1=dab##m\n",
      "d2=dca_dash##m\n",
      "L=0.2*math.log(2.**(1./6.))*math.sqrt(d1/rdash)*((d1**2.+d2**2.)/(4.*d1**2.+d2**2.))**(1./6.)##mH\n",
      "L=L*10.**-3.*100.##H(for 100 km line)\n",
      "print '%s %.4f' %(\"Using Alternate method, Inductance of 100 km line(H)\",L)#\n"
     ],
     "language": "python",
     "metadata": {},
     "outputs": [
      {
       "output_type": "stream",
       "stream": "stdout",
       "text": [
        "GMD(m) :  1.00\n",
        "Deq or Dm(m) :  9.22\n",
        "Inductance of 100 km line(H) 0.0444\n",
        "Using Alternate method, Inductance of 100 km line(H) 0.0741\n"
       ]
      }
     ],
     "prompt_number": 13
    },
    {
     "cell_type": "heading",
     "level": 2,
     "metadata": {},
     "source": [
      "Example E14 - Pg 97"
     ]
    },
    {
     "cell_type": "code",
     "collapsed": false,
     "input": [
      "#calculate Inductance per phase\n",
      "import math\n",
      "#Given data :\n",
      "r=5./2.##cm\n",
      "rdash=0.7788*r*10.**-2.##m\n",
      "d=6.5##m\n",
      "s=0.4##m\n",
      "Ds=math.sqrt(rdash*s)##m\n",
      "dab=6.5##m\n",
      "dab_dash=6.9##m\n",
      "d_adash_b=6.1##m\n",
      "d_adash_bdash=6.5##m\n",
      "Dab=(dab*dab_dash*d_adash_b*d_adash_bdash)**(1./4.)##m\n",
      "Dbc=Dab##m\n",
      "dca=13.##m\n",
      "dca_dash=12.6##m\n",
      "d_cdash_a=13.4##m\n",
      "d_cdash_adash=13.##m\n",
      "Dca=(dca*dca_dash*d_cdash_a*d_cdash_adash)**(1./4.)##m\n",
      "Dm=(Dab*Dbc*Dca)**(1./3.)##m\n",
      "L=0.2*math.log(Dm/Ds)##mH/km\n",
      "print '%s %.3f' %(\"Inductance per phase(mH/km)\",L)#\n"
     ],
     "language": "python",
     "metadata": {},
     "outputs": [
      {
       "output_type": "stream",
       "stream": "stdout",
       "text": [
        "Inductance per phase(mH/km) 0.906\n"
       ]
      }
     ],
     "prompt_number": 14
    },
    {
     "cell_type": "heading",
     "level": 2,
     "metadata": {},
     "source": [
      "Example E15 - Pg 98"
     ]
    },
    {
     "cell_type": "code",
     "collapsed": false,
     "input": [
      "#calculate Inductive reactance of bundled conductor line,Inductive reactance with single conductor\n",
      "import math\n",
      "#Given data :\n",
      "f=50.##Hz\n",
      "r=3.5/2.##cm\n",
      "rdash=0.7788*r*10.**-2.##m\n",
      "d=7.##m\n",
      "s=40./100.##m\n",
      "Ds=math.sqrt(rdash*s)##m\n",
      "dab=7.##m\n",
      "dab_dash=7.4##m\n",
      "d_adash_b=6.6##m\n",
      "d_adash_bdash=7.##m\n",
      "Dab=(dab*dab_dash*d_adash_b*d_adash_bdash)**(1./4.)##m\n",
      "Dbc=Dab##m\n",
      "dca=14.##m\n",
      "dca_dash=13.6##m\n",
      "d_cdash_a=14.4##m\n",
      "d_cdash_adash=14.##m\n",
      "Dca=(dca*dca_dash*d_cdash_a*d_cdash_adash)**(1./4.)##m\n",
      "Dm=(Dab*Dbc*Dca)**(1./3.)##m\n",
      "L=0.2*math.log(Dm/Ds)##mH/km\n",
      "XL=2*math.pi*f*L*10.**-3.##ohm/km\n",
      "print '%s %.2f' %(\"Inductive reactance of bundled conductor line(ohm/km)\",XL)#\n",
      "#Equivalent single conductor\n",
      "n=2#\n",
      "r1=math.sqrt(n*math.pi*r**2./math.pi)##m\n",
      "r1dash=0.7788*r1*10.**-2.##m\n",
      "Dm1=(Dab*Dbc*Dca)**(1./3.)##m\n",
      "L1=0.2*math.log(Dm1/r1dash)##mH/km\n",
      "XL1=2*math.pi*f*L1*10.**-3.##ohm/km\n",
      "print '%s %.3f' %(\"Inductive reactance with single conductor(ohm/km)\",XL1)#\n"
     ],
     "language": "python",
     "metadata": {},
     "outputs": [
      {
       "output_type": "stream",
       "stream": "stdout",
       "text": [
        "Inductive reactance of bundled conductor line(ohm/km) 0.30\n",
        "Inductive reactance with single conductor(ohm/km) 0.385\n"
       ]
      }
     ],
     "prompt_number": 15
    },
    {
     "cell_type": "heading",
     "level": 2,
     "metadata": {},
     "source": [
      "Example E16 - Pg 102"
     ]
    },
    {
     "cell_type": "code",
     "collapsed": false,
     "input": [
      "#calculate Capacitance of line\n",
      "import math\n",
      "#Given data :\n",
      "r=15./2.##mm\n",
      "d=1.5*1000.##mm\n",
      "l=30.##km\n",
      "epsilon_o=8.854*10.**-12.##permitivity\n",
      "C=math.pi*epsilon_o/math.log(d/r)*l*1000.##F\n",
      "print '%s %.4f' %(\"Capacitance of line(micro F)\",C*10**6)#\n"
     ],
     "language": "python",
     "metadata": {},
     "outputs": [
      {
       "output_type": "stream",
       "stream": "stdout",
       "text": [
        "Capacitance of line(micro F) 0.1575\n"
       ]
      }
     ],
     "prompt_number": 16
    },
    {
     "cell_type": "heading",
     "level": 2,
     "metadata": {},
     "source": [
      "Example E17 - Pg 105"
     ]
    },
    {
     "cell_type": "code",
     "collapsed": false,
     "input": [
      "#calculate Capacitance of line\n",
      "#Given data :\n",
      "import math\n",
      "r=2./2.##cm\n",
      "d=2.5*100.##cm\n",
      "l=100.##km\n",
      "epsilon_o=8.854*10.**-12.##permitivity\n",
      "C=2*math.pi*epsilon_o/math.log(d/r)*l*1000.##F\n",
      "print '%s %.4f' %(\"Capacitance of line(micro F)\",C*10.**6.)#\n"
     ],
     "language": "python",
     "metadata": {},
     "outputs": [
      {
       "output_type": "stream",
       "stream": "stdout",
       "text": [
        "Capacitance of line(micro F) 1.0075\n"
       ]
      }
     ],
     "prompt_number": 17
    },
    {
     "cell_type": "heading",
     "level": 2,
     "metadata": {},
     "source": [
      "Example E18 - Pg 105"
     ]
    },
    {
     "cell_type": "code",
     "collapsed": false,
     "input": [
      "#calculate Capacitance of line\n",
      "import math\n",
      "#Given data :\n",
      "r=2./2./100.##m\n",
      "d1=3.5##m\n",
      "d2=5.##m\n",
      "d3=8.##m\n",
      "epsilon_o=8.854*10.**-12.##permitivity\n",
      "CN=2.*math.pi*epsilon_o*1000/math.log((d1*d2*d3)**(1./3.)/r)##F\n",
      "print '%s %.4f' %(\"Capacitance of line(micro F)\",CN*10.**6.)#\n"
     ],
     "language": "python",
     "metadata": {},
     "outputs": [
      {
       "output_type": "stream",
       "stream": "stdout",
       "text": [
        "Capacitance of line(micro F) 0.0089\n"
       ]
      }
     ],
     "prompt_number": 18
    },
    {
     "cell_type": "heading",
     "level": 2,
     "metadata": {},
     "source": [
      "Example E19 - Pg 105"
     ]
    },
    {
     "cell_type": "code",
     "collapsed": false,
     "input": [
      "#calculate Capacitance per phase per meter  line,Charging current per phase\n",
      "import math\n",
      "#Given data :\n",
      "f=50.##Hz\n",
      "VL=220.##KV\n",
      "r=20./2./1000.##m\n",
      "d1=3.##m\n",
      "d2=3.##m\n",
      "d3=6.##m\n",
      "epsilon_o=8.854*10.**-12.##permitivity\n",
      "CN=2.*math.pi*epsilon_o/math.log((d1*d2*d3)**(1./3.)/r)##F\n",
      "print '%s %.4e' %(\"Capacitance per phase per meter  line(F)\",CN)#\n",
      "Vph=VL*1000./math.sqrt(3.)##V\n",
      "Ic=2.*math.pi*f*CN*Vph##A\n",
      "print '%s %.3f' %(\"Charging current per phase(mA) : \",Ic*1000.)#\n"
     ],
     "language": "python",
     "metadata": {},
     "outputs": [
      {
       "output_type": "stream",
       "stream": "stdout",
       "text": [
        "Capacitance per phase per meter  line(F) 9.3737e-12\n",
        "Charging current per phase(mA) :  0.374\n"
       ]
      }
     ],
     "prompt_number": 19
    },
    {
     "cell_type": "heading",
     "level": 2,
     "metadata": {},
     "source": [
      "Example E20 - Pg 106"
     ]
    },
    {
     "cell_type": "code",
     "collapsed": false,
     "input": [
      "#calculate Capacitance per phase per meter  line,Charging current per phase\n",
      "import math\n",
      "#Given data :\n",
      "f=50.##Hz\n",
      "VL=110.##kV\n",
      "r=1.05/2.##cm\n",
      "d1=3.5##m\n",
      "d2=3.5##m\n",
      "d3=7.##m\n",
      "epsilon_o=8.854*10.**-12.##permitivity\n",
      "CN=2.*math.pi*epsilon_o/math.log((d1*d2*d3)**(1./3.)*100./r)##F\n",
      "print '%s %.2e' %(\"Capacitance per phase per meter  line(F)\",CN)#\n",
      "Vph=VL*1000./math.sqrt(3.)##V\n",
      "Ic=2.*math.pi*f*CN*Vph##A/m\n",
      "print '%s %.3f' %(\"Charging current per phase(A/km) : \",Ic/10**-3)#\n"
     ],
     "language": "python",
     "metadata": {},
     "outputs": [
      {
       "output_type": "stream",
       "stream": "stdout",
       "text": [
        "Capacitance per phase per meter  line(F) 8.26e-12\n",
        "Charging current per phase(A/km) :  0.165\n"
       ]
      }
     ],
     "prompt_number": 20
    },
    {
     "cell_type": "heading",
     "level": 2,
     "metadata": {},
     "source": [
      "Example E21 - Pg 108"
     ]
    },
    {
     "cell_type": "code",
     "collapsed": false,
     "input": [
      "#calculate Capacitive reactance too neutral,Charging current\n",
      "import math\n",
      "#Given data :\n",
      "r=2.5/2.*10.**-2.##m\n",
      "VL=132.##KV\n",
      "epsilon_o=8.85*10.**-12.##permitivity\n",
      "f=50.##Hz\n",
      "dRRdash=math.sqrt(7.**2.+(4.+4.)**2.)##m\n",
      "dBBdash=dRRdash##m\n",
      "dYYdash=9.##m\n",
      "DSR=math.sqrt(r*dRRdash)##m\n",
      "DSY=math.sqrt(r*dYYdash)##m\n",
      "DSB=math.sqrt(r*dBBdash)##m\n",
      "Ds=(DSR*DSB*DSY)**(1./3.)##m\n",
      "dRY=math.sqrt(4.**2.+(4.5-3.5)**2.)##m\n",
      "dRYdash=math.sqrt((9.-1.)**2.+4.**2.)##m\n",
      "dRdashY=math.sqrt((9.-1.)**2.+4.**2.)##m\n",
      "dRdashYdash=math.sqrt(4.**2.+(4.5-3.5)**2.)##m\n",
      "DRY=(dRY*dRYdash*dRdashY*dRdashYdash)**(1./4.)##m\n",
      "DYB=((dRY*dRYdash)**2.)**(1./4.)##m\n",
      "DBR=((8.*7.)**2.)**(1./4.)##m\n",
      "Dm=(DRY*DYB*DBR)**(1./3.)##m\n",
      "C=2*math.pi*epsilon_o/math.log(Dm/Ds)##F/m\n",
      "C=C/10.**-3.##F/km\n",
      "X=1./(2.*math.pi*f*C)##ohm\n",
      "print '%s %.3f' %(\"Capacitive reactance too neutral(kohm) : \",X/1000.)#\n",
      "Vph=VL*1000./math.sqrt(3.)##Volt\n",
      "Ic=2.*math.pi*f*C*Vph##A\n",
      "print '%s %.4f' %(\"Charging current(A/km)\",Ic)#\n"
     ],
     "language": "python",
     "metadata": {},
     "outputs": [
      {
       "output_type": "stream",
       "stream": "stdout",
       "text": [
        "Capacitive reactance too neutral(kohm) :  166.599\n",
        "Charging current(A/km) 0.4574\n"
       ]
      }
     ],
     "prompt_number": 21
    },
    {
     "cell_type": "heading",
     "level": 2,
     "metadata": {},
     "source": [
      "Example E22 - Pg 109"
     ]
    },
    {
     "cell_type": "code",
     "collapsed": false,
     "input": [
      "#calculate Capacitance of 100 km line\n",
      "import math\n",
      "#Given data :\n",
      "d1=8.##m\n",
      "d2=6.##m\n",
      "epsilon_o=8.854*10.**-12.##permitivity\n",
      "r=3.*5./2.*10.**-3.##m\n",
      "C=4*math.pi*epsilon_o/math.log(2.**(1./3.)*d1/r*((d1**2.+d2**2.)/(4.*d1**2.+d2**2.)**(1./3.)))##F/m\n",
      "C100=C*100.*1000.*10.**6.##microF\n",
      "print '%s %.3f' %(\"Capacitance of 100 km line(micro Farad) : \",C100)#\n",
      "#answer in the textbook is wrong.\n"
     ],
     "language": "python",
     "metadata": {},
     "outputs": [
      {
       "output_type": "stream",
       "stream": "stdout",
       "text": [
        "Capacitance of 100 km line(micro Farad) :  1.122\n"
       ]
      }
     ],
     "prompt_number": 22
    },
    {
     "cell_type": "heading",
     "level": 2,
     "metadata": {},
     "source": [
      "Example E23 - Pg 110"
     ]
    },
    {
     "cell_type": "code",
     "collapsed": false,
     "input": [
      "#calculate Capacitance,Charging currentimport math\n",
      "#Given data :\n",
      "import math\n",
      "VL=132.##kV\n",
      "f=50.##Hz\n",
      "r=5./2.##cm\n",
      "rdash=0.7788*r*10.**-2.##m\n",
      "d=6.5##m\n",
      "s=0.4##m\n",
      "epsilon_o=8.854*10.**-12.##permitivity\n",
      "Ds=math.sqrt(rdash*s)##m\n",
      "dab=6.5##m\n",
      "dab_dash=6.9##m\n",
      "d_adash_b=6.1##m\n",
      "d_adash_bdash=6.5##m\n",
      "Dab=(dab*dab_dash*d_adash_b*d_adash_bdash)**(1./4.)##m\n",
      "Dbc=Dab##m\n",
      "dca=13.##m\n",
      "dca_dash=12.6##m\n",
      "d_cdash_a=13.4##m\n",
      "d_cdash_adash=13.##m\n",
      "Dca=(dca*dca_dash*d_cdash_a*d_cdash_adash)**(1./4.)##m\n",
      "Dm=(Dab*Dbc*Dca)**(1./3.)##m\n",
      "L=0.2*math.log(Dm/Ds)##mH/km\n",
      "C=2*math.pi*epsilon_o/math.log(Dm/Ds)##F/m\n",
      "C=C/10.**-3.##F/km\n",
      "print '%s %.2e' %(\"Capacitance per km(F/km) : \",C)#\n",
      "Vph=VL*1000./math.sqrt(3)##Volt\n",
      "Ic=2*math.pi*f*C*Vph##A/km\n",
      "print '%s %.1f' %(\"Charging current per km(A/km) : \",Ic)#\n"
     ],
     "language": "python",
     "metadata": {},
     "outputs": [
      {
       "output_type": "stream",
       "stream": "stdout",
       "text": [
        "Capacitance per km(F/km) :  1.23e-08\n",
        "Charging current per km(A/km) :  0.3\n"
       ]
      }
     ],
     "prompt_number": 23
    },
    {
     "cell_type": "heading",
     "level": 2,
     "metadata": {},
     "source": [
      "Example E24 - Pg 112"
     ]
    },
    {
     "cell_type": "code",
     "collapsed": false,
     "input": [
      "#calculate One conductor ACSR moose conductor line,Inductive reactance per Km per phase(ohm) :,Capacitivetive reactance per Km per phase(Mohm),Three conductor bundled line\n",
      "#calculate Inductive reactance per km per phase(ohm)\n",
      "#calculate Capacitivetive reactance per km per phase(Mohm)\n",
      "import math\n",
      "#Given data :\n",
      "VL=132.##kV\n",
      "f=50.##Hz\n",
      "r=31.8/2##mm\n",
      "rdash=0.7788*r##mm\n",
      "d=10.*1000.##mm\n",
      "epsilon_o=8.854*10**-12##permitivity\n",
      "print '%s' %(\"One conductor ACSR moose conductor line : \")#\n",
      "LAr=0.2*(math.log(d/rdash)+1./2.*math.log(2.))\n",
      "LAi=0.866*math.log(2.)##mH/km\n",
      "LB=0.2*math.log(d/rdash)##mH/km\n",
      "LCr=0.2*(math.log(d/rdash)+1./2.*math.log(2.))\n",
      "LCi=0.866*math.log(2.)##mH/km\n",
      "Lav=(LAr+LAi+LB+LCr+LCi)/3.##mH/km\n",
      "XL=2*math.pi*f*Lav*10.**-3.##ohm\n",
      "print '%s %.3f' %(\"Inductive reactance per Km per phase(ohm) : \",XL)#\n",
      "d1=10.##m\n",
      "d2=10.##m\n",
      "d3=20.##m\n",
      "CN=2.*math.pi*epsilon_o/math.log((d1*d2*d3)**(1./3.)/(rdash*10.**-3.))/10.**3.##F/km\n",
      "XC=1./(2.*math.pi*f*CN*10.**6.)##ohm\n",
      "print '%s %.3f' %(\"Capacitivetive reactance per Km per phase(Mohm) : \",XC/10**6)#\n",
      "print '%s' %(\"Three conductor bundled line : \")#\n",
      "S=40./100.##m\n",
      "Ds=(rdash*10.**-3.*S**2.)**(1./3.)##m\n",
      "Deq=(d1*d2*d3)**(1./3.)##m\n",
      "Ldash=0.2*math.log(Deq/Ds)##mH/km\n",
      "XLdash=2*math.pi*f*Ldash*10.**-3.##ohm\n",
      "print '%s %.3f' %(\"Inductive reactance per km per phase(ohm) : \",XLdash)#\n",
      "Ds=(r*10.**-3.*S**2.)**(1./3.)##m\n",
      "Cdash=2.*math.pi*epsilon_o*10.**3./math.log(Deq/Ds)##microF/km\n",
      "XC=1./(2.*math.pi*f*Cdash)/10.**6.##Mohm\n",
      "print '%s %.3f' %(\"Capacitivetive reactance per km per phase(Mohm) : \",XC)#\n"
     ],
     "language": "python",
     "metadata": {},
     "outputs": [
      {
       "output_type": "stream",
       "stream": "stdout",
       "text": [
        "One conductor ACSR moose conductor line : \n",
        "Inductive reactance per Km per phase(ohm) :  0.561\n",
        "Capacitivetive reactance per Km per phase(Mohm) :  0.396\n",
        "Three conductor bundled line : \n",
        "Inductive reactance per km per phase(ohm) :  0.290\n",
        "Capacitivetive reactance per km per phase(Mohm) :  0.259\n"
       ]
      }
     ],
     "prompt_number": 24
    },
    {
     "cell_type": "heading",
     "level": 2,
     "metadata": {},
     "source": [
      "Example E25 - Pg 114"
     ]
    },
    {
     "cell_type": "code",
     "collapsed": false,
     "input": [
      "#calculate Capacitance per km of line\n",
      "import math\n",
      "#Given data :\n",
      "r=1.5/2.##cm\n",
      "d=3.*100.##cm\n",
      "h=6.*100.##cm\n",
      "epsilon_o=8.854*10.**-12.##permitivity\n",
      "C=math.pi*epsilon_o/math.log(d/(1.+d**2./4./h**2.)**r)*10.**3.##F\n",
      "print '%s %.3e' %(\"Capacitance per km of line(F) : \",C)#\n"
     ],
     "language": "python",
     "metadata": {},
     "outputs": [
      {
       "output_type": "stream",
       "stream": "stdout",
       "text": [
        "Capacitance per km of line(F) :  4.916e-09\n"
       ]
      }
     ],
     "prompt_number": 25
    },
    {
     "cell_type": "heading",
     "level": 2,
     "metadata": {},
     "source": [
      "Example E26 - Pg 114"
     ]
    },
    {
     "cell_type": "code",
     "collapsed": false,
     "input": [
      "#calculate Part(i) Capacitance per phase per meter length,Part(ii) Capacitance per phase per meter length\n",
      "import math\n",
      "#Given data :\n",
      "r=2./100.##m\n",
      "d1=4.##m\n",
      "d2=4.##m\n",
      "d3=8.##m\n",
      "epsilon_o=8.854*10.**-12.##permitivity\n",
      "CN=2.*math.pi*epsilon_o/math.log((d1*d2*d3)**(1./3.)/r)##F\n",
      "print '%s %.3e' %(\"Part(i) Capacitance per phase per meter length(F) : \",CN)#\n",
      "h1=20.##m\n",
      "h2=20.##m\n",
      "h3=20.##m\n",
      "h12=math.sqrt(20.**2.+4.**2.)##m\n",
      "h23=math.sqrt(20.**2.+4.**2.)##m\n",
      "h31=math.sqrt(20.**2.+8.**2.)##m\n",
      "Deq=(d1*d2*d3)**(1./3.)##m\n",
      "CN=2.*math.pi*epsilon_o/(math.log(Deq/r)-math.log((h12*h23*h31/h1/h2/h3)**(1./3.)) )##F\n",
      "print '%s %.3e' %(\"Part(ii) Capacitance per phase per meter length(F) : \",CN)#\n"
     ],
     "language": "python",
     "metadata": {},
     "outputs": [
      {
       "output_type": "stream",
       "stream": "stdout",
       "text": [
        "Part(i) Capacitance per phase per meter length(F) :  1.006e-11\n",
        "Part(ii) Capacitance per phase per meter length(F) :  1.013e-11\n"
       ]
      }
     ],
     "prompt_number": 26
    }
   ],
   "metadata": {}
  }
 ]
}