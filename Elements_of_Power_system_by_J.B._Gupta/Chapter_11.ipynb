{
 "metadata": {
  "name": "",
  "signature": "sha256:7b666e4f5f0e7854294a9805411c57beda0a7d1ca3061910d81bfa32dc9c6672"
 },
 "nbformat": 3,
 "nbformat_minor": 0,
 "worksheets": [
  {
   "cells": [
    {
     "cell_type": "heading",
     "level": 1,
     "metadata": {},
     "source": [
      "Chapter 11 - INSULATED CABLES "
     ]
    },
    {
     "cell_type": "heading",
     "level": 2,
     "metadata": {},
     "source": [
      "Example E1 - Pg 273"
     ]
    },
    {
     "cell_type": "code",
     "collapsed": false,
     "input": [
      "#calculate Insulation resistance of cable\n",
      "#Given data :\n",
      "import math\n",
      "rho=5.*10.**14.*10.**-2##ohm-m\n",
      "l=5.*1000.##m\n",
      "r1=1.25##m\n",
      "r2=r1+1.##m\n",
      "R_ins=rho/(2.*math.pi*l)*math.log(r2/r1)##ohm\n",
      "print '%s %.2f' %(\"Insulation resistance of cable(Mohm) :\",R_ins/10.**6.)#\n"
     ],
     "language": "python",
     "metadata": {},
     "outputs": [
      {
       "output_type": "stream",
       "stream": "stdout",
       "text": [
        "Insulation resistance of cable(Mohm) : 93.55\n"
       ]
      }
     ],
     "prompt_number": 1
    },
    {
     "cell_type": "heading",
     "level": 2,
     "metadata": {},
     "source": [
      "Example E2 - Pg 274"
     ]
    },
    {
     "cell_type": "code",
     "collapsed": false,
     "input": [
      "#calculate Insulation resistance of cable\n",
      "#Given data :\n",
      "import math\n",
      "rho=5.*10.**14.*10.**-2##ohm-m\n",
      "l=5.*1000.##m\n",
      "r1=2.5##m\n",
      "r2=r1+1.##m\n",
      "R_ins=rho/(2.*math.pi*l)*math.log(r2/r1)##ohm\n",
      "print '%s %.2f' %(\"Insulation resistance of cable(Mohm) :\",R_ins/10.**6.)#\n"
     ],
     "language": "python",
     "metadata": {},
     "outputs": [
      {
       "output_type": "stream",
       "stream": "stdout",
       "text": [
        "Insulation resistance of cable(Mohm) : 53.55\n"
       ]
      }
     ],
     "prompt_number": 2
    },
    {
     "cell_type": "heading",
     "level": 2,
     "metadata": {},
     "source": [
      "Example E3 - Pg 274"
     ]
    },
    {
     "cell_type": "code",
     "collapsed": false,
     "input": [
      "#calculate Resistivity\n",
      "#Given data :\n",
      "import math\n",
      "l=3000.##cm\n",
      "d1=1.5##cm\n",
      "r1=d1/2.##cm\n",
      "d2=5.##cm\n",
      "r2=d2/2.##cm\n",
      "R_INS=1800.##Mohm\n",
      "rho=R_INS*10**6*(2*math.pi*l)/math.log(r2/r1)##ohm-m\n",
      "print '%s %.2e' %(\"Resistivity (ohm-m) :\",rho)#\n"
     ],
     "language": "python",
     "metadata": {},
     "outputs": [
      {
       "output_type": "stream",
       "stream": "stdout",
       "text": [
        "Resistivity (ohm-m) : 2.82e+13\n"
       ]
      }
     ],
     "prompt_number": 3
    },
    {
     "cell_type": "heading",
     "level": 2,
     "metadata": {},
     "source": [
      "Example E4 - Pg 276"
     ]
    },
    {
     "cell_type": "code",
     "collapsed": false,
     "input": [
      "#calculate Maximum electrostatic stress,Minimum electrostatic stress,Capacitance per km length,Charging Current per phase per km length\n",
      "#Given data :\n",
      "import math\n",
      "V1=11000.##Volt\n",
      "f=50.##Hz\n",
      "a=0.645##cm**2\n",
      "d=math.sqrt(4.*a/math.pi)##cm\n",
      "d=d/100.##m\n",
      "D=2.18/100.##m\n",
      "epsilon_r=3.5##relative permitivity\n",
      "V=V1*math.sqrt(2.)/math.sqrt(3.)##V(assuming 3 phase system)\n",
      "gmax=2.*V/d/math.log(D/d)##V/m\n",
      "gmax=gmax/10.**5.##KV/cm\n",
      "print '%s %.2f' %(\"Maximum electrostatic stress(kV/cm)\",gmax)#\n",
      "gmin=2.*V/D/math.log(D/d)##V/m\n",
      "gmin=gmin/10.**5.##kV/cm\n",
      "print '%s %.3f' %(\"Minimum electrostatic stress(kV/cm)\",gmin)#\n",
      "C=0.024*epsilon_r/math.log10(D/d)##micro F\n",
      "print '%s %.2e' %(\"Capacitance per km length(F)\",C*10.**-6)##\n",
      "Vp=V1/math.sqrt(3.)##V\n",
      "Ic=2.*math.pi*f*C*10.**-6*Vp##A\n",
      "print '%s %.2f' %(\"Charging Current per phase per km length(A)\",Ic)#\n"
     ],
     "language": "python",
     "metadata": {},
     "outputs": [
      {
       "output_type": "stream",
       "stream": "stdout",
       "text": [
        "Maximum electrostatic stress(kV/cm) 22.58\n",
        "Minimum electrostatic stress(kV/cm) 9.387\n",
        "Capacitance per km length(F) 2.20e-07\n",
        "Charging Current per phase per km length(A) 0.44\n"
       ]
      }
     ],
     "prompt_number": 4
    },
    {
     "cell_type": "heading",
     "level": 2,
     "metadata": {},
     "source": [
      "Example E5 - Pg 277"
     ]
    },
    {
     "cell_type": "code",
     "collapsed": false,
     "input": [
      "#calculate Maximum electrostatic stress,Total charging\n",
      "import math\n",
      "#Given data :\n",
      "VL=33.*1000.##Volt\n",
      "f=50.##Hz\n",
      "l=3.4##km\n",
      "d=2.5##cm\n",
      "radial_thick=0.6##cm\n",
      "epsilon_r=3.1##relative permitivity\n",
      "V=VL*math.sqrt(2.)/math.sqrt(3.)##V(assuming 3 phase system)\n",
      "D=d+2.*radial_thick##cm\n",
      "D=D/100.##cm\n",
      "d=d/100.##m\n",
      "gmax=2.*V/d/math.log(D/d)##V/m\n",
      "print '%s %.2e' %(\"Maximum electrostatic stress(V/m)\",gmax)#\n",
      "C=0.024*epsilon_r*l/math.log10(D/d)##micro F\n",
      "Vp=VL/math.sqrt(3.)##V\n",
      "Ic=2.*math.pi*f*C*10.**-6*Vp##A\n",
      "kVA=math.sqrt(3.)*VL*Ic*10.**-3##kVAR\n",
      "print '%s %.2f' %(\"Total charging kVA(kVAR)\",kVA)#\n"
     ],
     "language": "python",
     "metadata": {},
     "outputs": [
      {
       "output_type": "stream",
       "stream": "stdout",
       "text": [
        "Maximum electrostatic stress(V/m) 5.50e+06\n",
        "Total charging kVA(kVAR) 508.29\n"
       ]
      }
     ],
     "prompt_number": 5
    },
    {
     "cell_type": "heading",
     "level": 2,
     "metadata": {},
     "source": [
      "Example E6 - Pg 278"
     ]
    },
    {
     "cell_type": "code",
     "collapsed": false,
     "input": [
      "#calculate Diameter of conductor,Internal diameter of sheath\n",
      "import math\n",
      "#Given data :\n",
      "VL=10.*1000.##Volt\n",
      "Emax=23.##kV/cm\n",
      "gmax=Emax*10.**5.##V/m\n",
      "d=2.*VL/gmax##m\n",
      "print '%s %.1f' %(\"Diameter of conductor(mm)\",d*10.**3.)#\n",
      "D=math.e*d##m\n",
      "print '%s %.2f' %(\"Internal diameter of sheath(mm)\",D*10.**3.)#\n"
     ],
     "language": "python",
     "metadata": {},
     "outputs": [
      {
       "output_type": "stream",
       "stream": "stdout",
       "text": [
        "Diameter of conductor(mm) 8.7\n",
        "Internal diameter of sheath(mm) 23.64\n"
       ]
      }
     ],
     "prompt_number": 23
    },
    {
     "cell_type": "heading",
     "level": 2,
     "metadata": {},
     "source": [
      "Example E7 - Pg 278"
     ]
    },
    {
     "cell_type": "code",
     "collapsed": false,
     "input": [
      "#calculate Diameter of conductor,Internal diameter of sheath\n",
      "import math\n",
      "#Given data :\n",
      "VL=132.*1000.##Volt\n",
      "gmax=60.##kV/cm(peak)\n",
      "gmax=gmax/math.sqrt(2.)*10.**5.##V/m(rms)\n",
      "V=VL/math.sqrt(3.)##Volt\n",
      "d=2.*V/gmax##m\n",
      "print '%s %.1f' %(\"Diameter of conductor(mm)\",d*10.**3.)#\n",
      "D=math.e*d##m\n",
      "print '%s %.2f' %(\"Internal diameter of sheath(mm)\",D*10.**3.)#\n"
     ],
     "language": "python",
     "metadata": {},
     "outputs": [
      {
       "output_type": "stream",
       "stream": "stdout",
       "text": [
        "Diameter of conductor(mm) 35.9\n",
        "Internal diameter of sheath(mm) 97.66\n"
       ]
      }
     ],
     "prompt_number": 24
    },
    {
     "cell_type": "heading",
     "level": 2,
     "metadata": {},
     "source": [
      "Example E8 - Pg 280"
     ]
    },
    {
     "cell_type": "code",
     "collapsed": false,
     "input": [
      "#calculate RMS value of max safe working voltage\n",
      "import math\n",
      "#Given data :\n",
      "r=0.5##cm\n",
      "R=3.5##cm\n",
      "r1=1.##cm\n",
      "g1max=34.##kV/cm(peak)\n",
      "epsilon_r=5.##relative permitivity\n",
      "g2max=g1max*r/r1/epsilon_r##kV/cm(peak)\n",
      "Vpeak=r*g1max*math.log(r1/r)+r1*g2max*math.log(R/r1)##kV\n",
      "Vrms=Vpeak/math.sqrt(2.)##kV\n",
      "print '%s %.2f' %(\"RMS value of max safe working voltage(kV)\",Vrms)#\n"
     ],
     "language": "python",
     "metadata": {},
     "outputs": [
      {
       "output_type": "stream",
       "stream": "stdout",
       "text": [
        "RMS value of max safe working voltage(kV) 11.34\n"
       ]
      }
     ],
     "prompt_number": 8
    },
    {
     "cell_type": "heading",
     "level": 2,
     "metadata": {},
     "source": [
      "Example E9 - Pg 281"
     ]
    },
    {
     "cell_type": "code",
     "collapsed": false,
     "input": [
      "##calculate Radial thickness of inner dielectric,Radial thickness of outer dielectric,Maximum working voltage\n",
      "import math\n",
      "#Given data :\n",
      "g1max=60.##kV/cm\n",
      "g2max=50.##kV/cm\n",
      "epsilon_r1=4.##relative permitivity\n",
      "epsilon_r2=2.5##relative permitivity\n",
      "D=5.##cm(sheat inside diameter)\n",
      "d=1.##cm\n",
      "#g1max/g2max=epsilon_r2*d1/(epsilon_r1*d)\n",
      "d1=g1max/g2max/epsilon_r2*(epsilon_r1*d)##cm\n",
      "t_inner=(d1-d)/2.##cm\n",
      "print '%s %.1f' %(\"Radial thickness of inner dielectric(mm)\",t_inner*10.)#\n",
      "t_outer=(D-d1)/2.##cm\n",
      "print '%s %.1f' %(\"Radial thickness of outer dielectric(mm)\",t_outer*10.)#\n",
      "Vpeak=g1max/2.*d*math.log(d1/d)+g2max/2*d1*math.log(D/d1)##kV\n",
      "Vrms=Vpeak/math.sqrt(2.)##kV\n",
      "print '%s %.2f' %(\"Maximum working voltage(rms in kV)\",Vrms)#\n"
     ],
     "language": "python",
     "metadata": {},
     "outputs": [
      {
       "output_type": "stream",
       "stream": "stdout",
       "text": [
        "Radial thickness of inner dielectric(mm) 4.6\n",
        "Radial thickness of outer dielectric(mm) 15.4\n",
        "Maximum working voltage(rms in kV) 46.32\n"
       ]
      }
     ],
     "prompt_number": 25
    },
    {
     "cell_type": "heading",
     "level": 2,
     "metadata": {},
     "source": [
      "Example E10 - Pg 281"
     ]
    },
    {
     "cell_type": "code",
     "collapsed": false,
     "input": [
      "##calculate Working voltage(rms) for the cable\n",
      "#Given data :\n",
      "import math\n",
      "r=1.##cm\n",
      "R=2.5##cm\n",
      "d=2.*r##cm\n",
      "D=2.*R##cm\n",
      "epsilon_r1=5.##relative permitivity\n",
      "epsilon_r2=4.##relative permitivity\n",
      "epsilon_r3=3.##relative permitivity\n",
      "gmax=40.##KV/cm\n",
      "#epsilon_r1*d=epsilon_r2*d1=epsilon_r3*d2\n",
      "d1=(epsilon_r1/epsilon_r2)*d##cm\n",
      "d2=(epsilon_r1/epsilon_r3)*d##cm\n",
      "Vpeak=gmax/2.*(d*math.log(d1/d)+d1*math.log(d2/d1)+d2*math.log(D/d2))##kV\n",
      "Vrms=Vpeak/math.sqrt(2.)##kV\n",
      "print '%s %.1f' %(\"Working voltage(rms) for the cable (kV)\",Vrms)#\n"
     ],
     "language": "python",
     "metadata": {},
     "outputs": [
      {
       "output_type": "stream",
       "stream": "stdout",
       "text": [
        "Working voltage(rms) for the cable (kV) 35.6\n"
       ]
      }
     ],
     "prompt_number": 26
    },
    {
     "cell_type": "heading",
     "level": 2,
     "metadata": {},
     "source": [
      "Example E11 - Pg 282"
     ]
    },
    {
     "cell_type": "code",
     "collapsed": false,
     "input": [
      "#calculate Potential gradient at the surface of conductor,Maximum stress in the outer dielectric,Stress at the surface of outer dielectric\n",
      "import math\n",
      "#Given data :\n",
      "Vs=66.##kV\n",
      "d=1.##cm\n",
      "d1=1.+2.*1.##cm\n",
      "D=3.+2.*1.##cm\n",
      "epsilon_r1=3.##relative permitivity\n",
      "epsilon_r2=2.5##relative permitivity\n",
      "g2maxBYg1max=d*epsilon_r1/(d1*epsilon_r2)#\n",
      "Vmax=Vs*math.sqrt(2.)/math.sqrt(3.)##kV\n",
      "#Vmax=g1max*d/2*log(d1/d)+g2max*d1/2*log(D/d1)##kV\n",
      "g1max=Vmax/(d/2.*math.log(d1/d)+g2maxBYg1max*d1/2.*math.log(D/d1))##kV/cm\n",
      "print '%s %.f' %(\"Potential gradient at the surface of conductor(kV/cm)\",g1max)#\n",
      "g2max=g1max*g2maxBYg1max##kV/cm\n",
      "print '%s %.1f' %(\"Maximum stress in the outer dielectric(kV/cm)\",g2max)#\n",
      "Stress=g2max*d1/D##kV/cm\n",
      "print '%s %.2f' %(\"Stress at the surface of outer dielectric(kV/cm)\",Stress)#\n"
     ],
     "language": "python",
     "metadata": {},
     "outputs": [
      {
       "output_type": "stream",
       "stream": "stdout",
       "text": [
        "Potential gradient at the surface of conductor(kV/cm) 63\n",
        "Maximum stress in the outer dielectric(kV/cm) 25.2\n",
        "Stress at the surface of outer dielectric(kV/cm) 15.11\n"
       ]
      }
     ],
     "prompt_number": 27
    },
    {
     "cell_type": "heading",
     "level": 2,
     "metadata": {},
     "source": [
      "Example E12 - Pg 282"
     ]
    },
    {
     "cell_type": "code",
     "collapsed": false,
     "input": [
      "#calculate Potential gradient at the surface of conductor,Maximum stress in the outer dielectric\n",
      "import math\n",
      "#Given data :\n",
      "Vs=66.##kV\n",
      "d=2.##cm\n",
      "d1=2.+2.*1.##cm\n",
      "D=4.+2.*1.##cm\n",
      "epsilon_r1=5.##relative permitivity\n",
      "epsilon_r2=3.##relative permitivity\n",
      "g2maxBYg1max=d*epsilon_r1/(d1*epsilon_r2)#\n",
      "Vmax=Vs*math.sqrt(2.)/math.sqrt(3.)##kV\n",
      "#Vmax=g1max*d/2*log(d1/d)+g2max*d1/2*log(D/d1)##kV\n",
      "g1max=Vmax/(d/2.*math.log(d1/d)+g2maxBYg1max*d1/2.*math.log(D/d1))##kV/cm\n",
      "print '%s %.2f' %(\"Potential gradient at the surface of conductor(kV/cm)\",g1max)#\n",
      "g2max=g1max*g2maxBYg1max##kV/cm\n",
      "print '%s %.1f' %(\"Maximum stress in the outer dielectric(kV/cm)\",g2max)#\n"
     ],
     "language": "python",
     "metadata": {},
     "outputs": [
      {
       "output_type": "stream",
       "stream": "stdout",
       "text": [
        "Potential gradient at the surface of conductor(kV/cm) 39.37\n",
        "Maximum stress in the outer dielectric(kV/cm) 32.8\n"
       ]
      }
     ],
     "prompt_number": 28
    },
    {
     "cell_type": "heading",
     "level": 2,
     "metadata": {},
     "source": [
      "Example E13 - Pg 283"
     ]
    },
    {
     "cell_type": "code",
     "collapsed": false,
     "input": [
      "#calculate Inner diameter of lead sheath\n",
      "import math\n",
      "#Given data :\n",
      "Vs=66.##kV\n",
      "r=0.5##cm\n",
      "g1max=50.##kV/cm\n",
      "g2max=40.##kV/cm\n",
      "g3max=30.##kV/cm\n",
      "epsilon_r1=4.##relative permitivity\n",
      "epsilon_r2=4.##relative permitivity\n",
      "epsilon_r3=2.5##relative permitivity\n",
      "#Q=2*%pi*epsilon0*epsilon_r1*r*g1max=2*%pi*epsilon0*epsilon_r2*r*g2max=2*%pi*epsilon0*epsilon_r3*r*g3max\n",
      "r1=epsilon_r1*r*g1max/(epsilon_r2*g2max)##cm\n",
      "r2=epsilon_r2*r1*g2max/(epsilon_r3*g3max)##cm\n",
      "Vmax=Vs*math.sqrt(2.)##kV\n",
      "#Vmax=g1max*r*log(r1/r)+g2max*r1*log(r2/r1)+g3max*r2*log(R/r2)##kV\n",
      "R=math.exp((Vmax-g1max*r*math.log(r1/r)-g2max*r1*math.log(r2/r1))/g3max/r2)*r2##cm\n",
      "D=2.*R##cm\n",
      "print '%s %.1f' %(\"Inner diameter of lead sheath(cm)\",D)#\n"
     ],
     "language": "python",
     "metadata": {},
     "outputs": [
      {
       "output_type": "stream",
       "stream": "stdout",
       "text": [
        "Inner diameter of lead sheath(cm) 14.9\n"
       ]
      }
     ],
     "prompt_number": 29
    },
    {
     "cell_type": "heading",
     "level": 2,
     "metadata": {},
     "source": [
      "Example E14 - Pg 283"
     ]
    },
    {
     "cell_type": "code",
     "collapsed": false,
     "input": [
      "#calculate Voltage between sheath & intersheath\n",
      "import math \n",
      "#Given data :\n",
      "Vrms=66.##kV\n",
      "Vmax=Vrms*math.sqrt(2.)##kV\n",
      "gmax=60.##kV/cm\n",
      "d=2.*Vmax/math.e/gmax##cm\n",
      "d1=math.e*d##cm\n",
      "V1=Vrms/math.e##kV\n",
      "dV=Vrms-V1##kV(Voltage between sheath & intersheath)\n",
      "print '%s %.2f' %(\"Voltage between sheath & intersheath(kV)\",dV)#\n"
     ],
     "language": "python",
     "metadata": {},
     "outputs": [
      {
       "output_type": "stream",
       "stream": "stdout",
       "text": [
        "Voltage between sheath & intersheath(kV) 41.72\n"
       ]
      }
     ],
     "prompt_number": 14
    },
    {
     "cell_type": "heading",
     "level": 2,
     "metadata": {},
     "source": [
      "Example E15 - Pg 284"
     ]
    },
    {
     "cell_type": "code",
     "collapsed": false,
     "input": [
      "#calculate Maximum stress without intersheath,Peak voltage on 1st intersheath,Peak voltage on 2nd intersheath\n",
      "import math\n",
      "#Given data :\n",
      "Vs=66.##kV\n",
      "Vmax=Vs*math.sqrt(2.)/math.sqrt(3.)##kV\n",
      "D=6.##cm\n",
      "d=2.5##cm\n",
      "d1=math.e*d##cm\n",
      "gmax=2.*Vmax/d/math.log(D/d)##kV/cm\n",
      "print '%s %.2f' %(\"Maximum stress without intersheath(kV/cm)\",gmax)#\n",
      "#d1/d=d2/d1=D/d2=alfa(say)\n",
      "alfa=(D/d)**(1./3.)#\n",
      "d1=alfa*d##cm\n",
      "d2=alfa*d1##cm\n",
      "gmax=Vmax/(d/2*math.log(d1/d)+d1/2.*math.log(d2/d1)+d2/2.*math.log(D/d2))##kV/cm\n",
      "V1max=gmax*d/2.*math.log(d1/d)##kV\n",
      "V2max=gmax*d1/2.*math.log(d2/d1)##kV\n",
      "Vpeak1=Vmax-V1max##kV\n",
      "print '%s %.4f' %(\"Peak voltage on 1st intersheath(kV)\",Vpeak1)#\n",
      "Vpeak2=Vpeak1-V2max##kV\n",
      "print '%s %.4f' %(\"Peak voltage on 2nd intersheath(kV)\",Vpeak2)#\n"
     ],
     "language": "python",
     "metadata": {},
     "outputs": [
      {
       "output_type": "stream",
       "stream": "stdout",
       "text": [
        "Maximum stress without intersheath(kV/cm) 49.24\n",
        "Peak voltage on 1st intersheath(kV) 40.8452\n",
        "Peak voltage on 2nd intersheath(kV) 23.3815\n"
       ]
      }
     ],
     "prompt_number": 15
    },
    {
     "cell_type": "heading",
     "level": 2,
     "metadata": {},
     "source": [
      "Example E16 - Pg 286"
     ]
    },
    {
     "cell_type": "code",
     "collapsed": false,
     "input": [
      "#calculate Capacitance of core to neutral,Capacitance between any two core,Charging current per phase\n",
      "import math\n",
      "#Given data :\n",
      "Vs=11.##kV\n",
      "f=50.##Hz\n",
      "l=2.5*1000.##m\n",
      "C_all3=1.8##micro F\n",
      "Cdash=1.5##micro F(2*Cc+Cs)\n",
      "Cs=C_all3/3.##micro F\n",
      "Cc=(Cdash-Cs)/2.##micro F\n",
      "C_N=3.*Cc+Cs##micro F\n",
      "print '%s %.2f' %(\"Capacitance of core to neutral(micro F)\",C_N)#\n",
      "C_2=C_N/2.##micro F\n",
      "print '%s %.3f' %(\"Capacitance between any two core(micro F)\",C_2)#\n",
      "Vp=Vs*1000./math.sqrt(3.)##Volt\n",
      "Ic=2.*math.pi*f*Vp*C_N*10.**-6##A\n",
      "print '%s %.2f' %(\"Charging current per phase(A)\",Ic)#\n"
     ],
     "language": "python",
     "metadata": {},
     "outputs": [
      {
       "output_type": "stream",
       "stream": "stdout",
       "text": [
        "Capacitance of core to neutral(micro F) 1.95\n",
        "Capacitance between any two core(micro F) 0.975\n",
        "Charging current per phase(A) 3.89\n"
       ]
      }
     ],
     "prompt_number": 16
    },
    {
     "cell_type": "heading",
     "level": 2,
     "metadata": {},
     "source": [
      "Example E17 - Pg 287"
     ]
    },
    {
     "cell_type": "code",
     "collapsed": false,
     "input": [
      "#calculate kVA taken by the cable\n",
      "import math\n",
      "#Given data :\n",
      "l=10.##km\n",
      "Vs=10.##kV\n",
      "f=50.##Hz\n",
      "C=0.3##micro F/km(between any two core)\n",
      "C2=l*C##micro F(between any two core)\n",
      "C_N=2.*C2##micro F\n",
      "Vp=Vs*1000./math.sqrt(3.)##Volt\n",
      "Ic=2.*math.pi*f*Vp*C_N*10.**-6##A\n",
      "kVA=3.*Vp*Ic/1000.##kVAR\n",
      "print '%s %.1f' %(\"kVA taken by the cable(kVAR)\",kVA)#\n"
     ],
     "language": "python",
     "metadata": {},
     "outputs": [
      {
       "output_type": "stream",
       "stream": "stdout",
       "text": [
        "kVA taken by the cable(kVAR) 188.5\n"
       ]
      }
     ],
     "prompt_number": 30
    },
    {
     "cell_type": "heading",
     "level": 2,
     "metadata": {},
     "source": [
      "Example E18 - Pg 287"
     ]
    },
    {
     "cell_type": "code",
     "collapsed": false,
     "input": [
      "#calculate Capacitance between any two cores,Capacitance between any two shorted conductors and third conductor\n",
      "import math\n",
      "#Given data :\n",
      "Cs3=1.##micro F/km(between shorted conductor)\n",
      "Cs=Cs3/3.##micro F\n",
      "Cdash=0.6##micro F(Cdash=2*Cc+Cs : between two shorted conductor)\n",
      "Cc=(Cdash-Cs)/2.##micro F\n",
      "C2=1./2.*(3*Cc+Cs)##micro F\n",
      "print '%s %.4f' %(\"Capacitance between any two cores(micro F)\",C2)#\n",
      "C2dash=2.*Cc+2./3.*Cs##micro F\n",
      "print '%s %.3f' %(\"Capacitance between any two shorted conductors and third conductor(micro F)\",C2dash)#\n"
     ],
     "language": "python",
     "metadata": {},
     "outputs": [
      {
       "output_type": "stream",
       "stream": "stdout",
       "text": [
        "Capacitance between any two cores(micro F) 0.3667\n",
        "Capacitance between any two shorted conductors and third conductor(micro F) 0.489\n"
       ]
      }
     ],
     "prompt_number": 31
    },
    {
     "cell_type": "heading",
     "level": 2,
     "metadata": {},
     "source": [
      "Example E19 - Pg 287"
     ]
    },
    {
     "cell_type": "code",
     "collapsed": false,
     "input": [
      "#calculate Total charging kVAR,Maximum stress in the cable\n",
      "import math\n",
      "#Given data :\n",
      "Vs=33.##kV\n",
      "f=50.##Hz\n",
      "l=3.4##km\n",
      "d=2.5##cm\n",
      "D=d+2.*0.6##cm\n",
      "epsilon_r=3.1##relative permitivity\n",
      "C=0.024*epsilon_r/math.log10(D/d)*l*1000.*1000.*10.**-6## F/phase\n",
      "Vp=Vs*1000./math.sqrt(3.)##Volt\n",
      "Ic=2.*math.pi*f*C*10.**-6*Vp##A\n",
      "kVAR=3.*Vp*Ic*10.**-3##kVAR\n",
      "print '%s %.2f' %(\"Total charging kVAR : \",kVAR)#\n",
      "Emax=Vp/(d/2.*math.log(D/d))*10.**-3##kV/cm\n",
      "print '%s %.2f' %(\"Maximum stress in the cable(kV/cm) \",Emax)#\n"
     ],
     "language": "python",
     "metadata": {},
     "outputs": [
      {
       "output_type": "stream",
       "stream": "stdout",
       "text": [
        "Total charging kVAR :  508.29\n",
        "Maximum stress in the cable(kV/cm)  38.88\n"
       ]
      }
     ],
     "prompt_number": 19
    },
    {
     "cell_type": "heading",
     "level": 2,
     "metadata": {},
     "source": [
      "Example E20 - Pg 291"
     ]
    },
    {
     "cell_type": "code",
     "collapsed": false,
     "input": [
      "#calculate Capacitance of the cable,Charging current,Dielectric loss,Equivalent insulation resistance\n",
      "import math\n",
      "#Given data :\n",
      "Vs=11.##kV\n",
      "f=50.##Hz\n",
      "D=2.##cm\n",
      "d=0.5##cm\n",
      "epsilon_r=3.5##relative permitivity\n",
      "pf=0.05##power factor\n",
      "C=0.024*epsilon_r/math.log10(D/d)*10.**-6## F/km\n",
      "print '%s %.4f' %(\"Capacitance of the cable(micro F)\",C*10.**6.)#\n",
      "Vp=Vs*1000./math.sqrt(3.)##Volt\n",
      "Ic=2.*math.pi*f*C*Vp##A\n",
      "print '%s %.3f' %(\"Charging current(A)\",Ic)#\n",
      "fi=math.acos(pf) *180./math.pi##degree\n",
      "dela= 90.-fi##degree(Dielectric loss angle)\n",
      "loss_dielectric=2*math.pi*f*C*Vp**2*math.tan(dela*math.pi/180.)##W\n",
      "print '%s %.1f' %(\"Dielectric loss(W)\",loss_dielectric)#\n",
      "R_INS=Vp**2./loss_dielectric##ohm\n",
      "print '%s %.3f' %(\"Equivalent insulation resistance(Mohm)\",R_INS/10.**6.)#\n"
     ],
     "language": "python",
     "metadata": {},
     "outputs": [
      {
       "output_type": "stream",
       "stream": "stdout",
       "text": [
        "Capacitance of the cable(micro F) 0.1395\n",
        "Charging current(A) 0.278\n",
        "Dielectric loss(W) 88.5\n",
        "Equivalent insulation resistance(Mohm) 0.456\n"
       ]
      }
     ],
     "prompt_number": 21
    },
    {
     "cell_type": "heading",
     "level": 2,
     "metadata": {},
     "source": [
      "Example E21 - Pg 292"
     ]
    },
    {
     "cell_type": "code",
     "collapsed": false,
     "input": [
      "#calculate Loss angle,No load current drawn by cable\n",
      "import math \n",
      "#Given data :\n",
      "Vs=11.##kV\n",
      "f=50.##Hz\n",
      "C_N_by_2=2.5##micro F(between 2 core 1 core shorted)\n",
      "C_N=C_N_by_2*2.##micro F\n",
      "Vp=Vs*1000./math.sqrt(3.)##Volt\n",
      "Ic=2.*math.pi*f*Vp*C_N*10.**-6##A\n",
      "R_INS2=810.##kohm\n",
      "R_INS=R_INS2/2.##kohm\n",
      "dela=math.atan(1./(R_INS*10.**3.*2.*math.pi*f*C_N*10.**-6)) *180/math.pi##degree\n",
      "print '%s %.2f' %(\"Loss angle(degree)\",dela)#\n",
      "Ie=Vp/R_INS/1000.##A\n",
      "I=math.sqrt(Ic**2.+Ie**2.)##A\n",
      "print '%s %.3f' %(\"No load current drawn by cable(A)\",I)#\n"
     ],
     "language": "python",
     "metadata": {},
     "outputs": [
      {
       "output_type": "stream",
       "stream": "stdout",
       "text": [
        "Loss angle(degree) 0.09\n",
        "No load current drawn by cable(A) 9.976\n"
       ]
      }
     ],
     "prompt_number": 22
    }
   ],
   "metadata": {}
  }
 ]
}