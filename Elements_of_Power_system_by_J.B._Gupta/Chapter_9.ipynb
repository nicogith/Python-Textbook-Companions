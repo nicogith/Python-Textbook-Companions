{
 "metadata": {
  "name": "",
  "signature": "sha256:3ce27a1ffc85e51aa7fc37d88fef9ce130fae45889a6045109b8b780c88a7574"
 },
 "nbformat": 3,
 "nbformat_minor": 0,
 "worksheets": [
  {
   "cells": [
    {
     "cell_type": "heading",
     "level": 1,
     "metadata": {},
     "source": [
      "Chapter 9 - OVERHEAD LINE INSULATORS"
     ]
    },
    {
     "cell_type": "heading",
     "level": 2,
     "metadata": {},
     "source": [
      "Example E1 - Pg 220"
     ]
    },
    {
     "cell_type": "code",
     "collapsed": false,
     "input": [
      "#calculate Voltage across the first,second,third,fourth,fifth,sixth unit\n",
      "import math\n",
      "#Given data :\n",
      "C1=1.##\n",
      "C=6.#\n",
      "K=C1/C#\n",
      "V2byV1=(1.+K)#\n",
      "V3byV1=(1.+3.*K+K**2.)#\n",
      "V4byV1=(1.+6.*K+5.*K**2.+K**3.)#\n",
      "#I5=I4+i4#\n",
      "#omega*C*V5=omega*C*V4+omega*C1*(V1+V2+V3+V4)\n",
      "V5byV1=1.+10.*K+15.*K**2.+7.*K**3.+K**4.\n",
      "VbyV1=1+V2byV1+V3byV1+V4byV1+V5byV1#\n",
      "V1byV=1/VbyV1#\n",
      "print '%s %.3f %s' %(\"Voltage across the first unit is \",V1byV*100,\" % of V\")#\n",
      "print '%s %.3f  %s' %(\"Voltage across the seconf unit is \",V2byV1*V1byV*100,\" % of V\")#\n",
      "print '%s %.3f  %s' %(\"Voltage across the third unit is \",V3byV1*V1byV*100,\" % of V\")#\n",
      "print '%s %.3f  %s' %(\"Voltage across the fourth unit is \",V4byV1*V1byV*100,\" % of V\")#\n",
      "print '%s %.3f  %s' %(\"Voltage across the bottom most unit is \",V5byV1*V1byV*100,\" % of V\")#\n",
      "n=5##no. of unit\n",
      "Strinf_eff=1/n/(V5byV1*V1byV)##%\n",
      "print '%s %.2f' %(\"String Efficiency(%)\",Strinf_eff*100.)#\n"
     ],
     "language": "python",
     "metadata": {},
     "outputs": [
      {
       "output_type": "stream",
       "stream": "stdout",
       "text": [
        "Voltage across the first unit is  11.168  % of V\n",
        "Voltage across the seconf unit is  13.029   % of V\n",
        "Voltage across the third unit is  17.062   % of V\n",
        "Voltage across the fourth unit is  23.938   % of V\n",
        "Voltage across the bottom most unit is  34.804   % of V\n",
        "String Efficiency(%) 0.00\n"
       ]
      }
     ],
     "prompt_number": 1
    },
    {
     "cell_type": "heading",
     "level": 2,
     "metadata": {},
     "source": [
      "Example E2 - Pg 221"
     ]
    },
    {
     "cell_type": "code",
     "collapsed": false,
     "input": [
      "#calculate Voltage across the first,second,third,fourth,fifth,sixth unit\n",
      "import math\n",
      "#Given data :\n",
      "C1=1.##\n",
      "C=10.#\n",
      "K=C1/C#\n",
      "V2byV1=(1.+K)#\n",
      "V3byV1=(1.+3.*K+K**2.)#\n",
      "V4byV1=(1.+6.*K+5.*K**2.+K**3.)#\n",
      "V5byV1=1.+10.*K+15.*K**2.+7.*K**3.+K**4.\n",
      "#I6=I5+i5#\n",
      "#omega*C*V6=omega*C*V5+omega*C1*(V1+V2+V3+V4+V5)\n",
      "V6byV1=V5byV1+K*(1.+V2byV1+V3byV1+V4byV1+V5byV1)#\n",
      "VbyV1=1.+V2byV1+V3byV1+V4byV1+V5byV1+V6byV1#\n",
      "V1byV=1./VbyV1#\n",
      "print '%s %.3f %s' %(\"Voltage across the first unit is \",V1byV*100,\" % of V\")#\n",
      "print '%s %.3f %s' %(\"Voltage across the seconf unit is \",V2byV1*V1byV*100,\" % of V\")#\n",
      "print '%s %.3f %s' %(\"Voltage across the third unit is \",V3byV1*V1byV*100,\" % of V\")#\n",
      "print '%s %.3f %s' %(\"Voltage across the fourth unit is \",V4byV1*V1byV*100,\" % of V\")#\n",
      "print '%s %.3f %s' %(\"Voltage across the fifth unit is \",V5byV1*V1byV*100,\" % of V\")#\n",
      "print '%s %.3f %s' %(\"Voltage across the sixth unit is \",V6byV1*V1byV*100,\" % of V\")#\n",
      "n=6##no. of unit\n",
      "Strinf_eff=1/n/(V6byV1*V1byV)##%\n",
      "print '%s %.2f' %(\"String Efficiency(%)\",Strinf_eff*100)#\n"
     ],
     "language": "python",
     "metadata": {},
     "outputs": [
      {
       "output_type": "stream",
       "stream": "stdout",
       "text": [
        "Voltage across the first unit is  9.904  % of V\n",
        "Voltage across the seconf unit is  10.894  % of V\n",
        "Voltage across the third unit is  12.974  % of V\n",
        "Voltage across the fourth unit is  16.351  % of V\n",
        "Voltage across the fifth unit is  21.364  % of V\n",
        "Voltage across the sixth unit is  28.513  % of V\n",
        "String Efficiency(%) 0.00\n"
       ]
      }
     ],
     "prompt_number": 2
    },
    {
     "cell_type": "heading",
     "level": 2,
     "metadata": {},
     "source": [
      "Example E3 - Pg 222"
     ]
    },
    {
     "cell_type": "code",
     "collapsed": false,
     "input": [
      "#calculate Part(i) Percentage String Efficiency,Part(ii) Percentage String Efficiency\n",
      "import math\n",
      "#Given data :\n",
      "V=66.##kV\n",
      "#Part(i)\n",
      "n=5.##no. of uniits\n",
      "K=1./5.##shunt to mutual capacitance ratio\n",
      "V1=V/(5.+20.*K+21.*K**2.+8.*K**3.+K**4.)##kV\n",
      "V5=V1*(1.+10.*K+15.*K**2.+7.*K**3.+K**4.)##kV\n",
      "Strinf_eff=V/n/V5#\n",
      "print '%s %.2f' %(\"Part(i) Percentage String Efficiency(%)\",Strinf_eff*100.)#\n",
      "#Part(ii)\n",
      "n=5.##no. of uniits\n",
      "K=1./6.##shunt to mutual capacitance ratio\n",
      "V1=V/(5.+20.*K+21.*K**2.+8.*K**3.+K**4.)##kV\n",
      "V5=V1*(1.+10.*K+15.*K**2.+7.*K**3.+K**4.)##kV\n",
      "Strinf_eff=V/n/V5#\n",
      "print '%s %.2f' %(\"Part(ii) Percentage String Efficiency(%)\",Strinf_eff*100)#\n"
     ],
     "language": "python",
     "metadata": {},
     "outputs": [
      {
       "output_type": "stream",
       "stream": "stdout",
       "text": [
        "Part(i) Percentage String Efficiency(%) 54.16\n",
        "Part(ii) Percentage String Efficiency(%) 57.46\n"
       ]
      }
     ],
     "prompt_number": 3
    },
    {
     "cell_type": "heading",
     "level": 2,
     "metadata": {},
     "source": [
      "Example E4 - Pg 223"
     ]
    },
    {
     "cell_type": "code",
     "collapsed": false,
     "input": [
      "#calculate Voltage across top most unit(kV),Voltage across middle unit(kV),Percentage String Efficiency(%)\n",
      "import math\n",
      "#Given data :\n",
      "Vs=20.##kV\n",
      "n=3.##no. of uniits\n",
      "K=0.1##shunt to mutual capacitance ratio\n",
      "V3=Vs##kV\n",
      "V1=V3/(1.+3.*K+K**2.)##kV\n",
      "print '%s %.3f' %(\"Voltage across top most unit(kV)\",V1)#\n",
      "V2=V1*(1.+K)##kV\n",
      "print '%s %.3f' %(\"Voltage across middle unit(kV)\",V2)#\n",
      "V=V1+V2+V3##kV\n",
      "Strinf_eff=V/n/V3#\n",
      "print '%s %.3f' %(\"Percentage String Efficiency(%)\",Strinf_eff*100.)#\n"
     ],
     "language": "python",
     "metadata": {},
     "outputs": [
      {
       "output_type": "stream",
       "stream": "stdout",
       "text": [
        "Voltage across top most unit(kV) 15.267\n",
        "Voltage across middle unit(kV) 16.794\n",
        "Percentage String Efficiency(%) 86.768\n"
       ]
      }
     ],
     "prompt_number": 4
    },
    {
     "cell_type": "heading",
     "level": 2,
     "metadata": {},
     "source": [
      "Example E5 - Pg 223"
     ]
    },
    {
     "cell_type": "code",
     "collapsed": false,
     "input": [
      "#calculate Maximum safe working voltage(kV)\n",
      "import math\n",
      "#Given data :\n",
      "Vs=17.5##kV\n",
      "n=3.##no. of uniits\n",
      "K=1./8.##shunt to mutual capacitance ratio\n",
      "V3=Vs##kV\n",
      "V1=V3/(1.+3.*K+K**2.)##kV\n",
      "V2=V1*(1.+K)##kV\n",
      "V=V1+V2+V3##kV\n",
      "#Strinf_eff=V/n/V3#\n",
      "print '%s %.2f' %(\"Maximum safe working voltage(kV)\",V)#\n"
     ],
     "language": "python",
     "metadata": {},
     "outputs": [
      {
       "output_type": "stream",
       "stream": "stdout",
       "text": [
        "Maximum safe working voltage(kV) 44.24\n"
       ]
      }
     ],
     "prompt_number": 5
    },
    {
     "cell_type": "heading",
     "level": 2,
     "metadata": {},
     "source": [
      "Example E6 - Pg 224"
     ]
    },
    {
     "cell_type": "code",
     "collapsed": false,
     "input": [
      "#calculate Maximum safe working voltage,Percentage String Efficiency\n",
      "import math\n",
      "#Given data :\n",
      "Vs=12.##kV\n",
      "n=4.##no. of uniits\n",
      "K=0.1##shunt to mutual capacitance ratio\n",
      "V4=Vs##kV\n",
      "V1=V4/(1.+6.*K+5.*K**2.+K**3.)##kV\n",
      "V2=V1*(1.+K)##kV\n",
      "V3=V1*(1.+3.*K+K**2.)##kV\n",
      "V=V1+V2+V3+V4##kV\n",
      "print '%s %.2f' %(\"Maximum safe working voltage(kV)\",V)#\n",
      "Strinf_eff=V/n/V4#\n",
      "print '%s %.3f' %(\"Percentage String Efficiency(%)\",Strinf_eff*100)#\n"
     ],
     "language": "python",
     "metadata": {},
     "outputs": [
      {
       "output_type": "stream",
       "stream": "stdout",
       "text": [
        "Maximum safe working voltage(kV) 36.78\n",
        "Percentage String Efficiency(%) 76.635\n"
       ]
      }
     ],
     "prompt_number": 6
    },
    {
     "cell_type": "heading",
     "level": 2,
     "metadata": {},
     "source": [
      "Example E7 - Pg 224"
     ]
    },
    {
     "cell_type": "code",
     "collapsed": false,
     "input": [
      "#calculate Maximum safe working voltage\n",
      "import math\n",
      "#Given data :\n",
      "Vs=11.##kV\n",
      "n=5.##no. of uniits\n",
      "K=0.1##shunt to mutual capacitance ratio\n",
      "V5=Vs##kV\n",
      "V1=V5/(1.+10.*K+15.*K**2.+7.*K**3.+K**4.)##kV\n",
      "V2=V1*(1.+K)##kV\n",
      "V3=V1*(1.+3.*K+K**2.)##kV\n",
      "V4=V1*(1.+6.*K+5.*K**2.+K**3.)##kV\n",
      "V=V1+V2+V3+V4+V5##kV\n",
      "print '%s %.1f' %(\"Maximum safe working voltage(kV)\",V)#\n"
     ],
     "language": "python",
     "metadata": {},
     "outputs": [
      {
       "output_type": "stream",
       "stream": "stdout",
       "text": [
        "Maximum safe working voltage(kV) 36.8\n"
       ]
      }
     ],
     "prompt_number": 7
    },
    {
     "cell_type": "heading",
     "level": 2,
     "metadata": {},
     "source": [
      "Example E8 - Pg 225"
     ]
    },
    {
     "cell_type": "code",
     "collapsed": false,
     "input": [
      "#calculate Voltage between conductors(kV),Percentage String Efficiency(%)\n",
      "import math\n",
      "import numpy\n",
      "from numpy import roots\n",
      "#Given data :\n",
      "V2=15.##kV\n",
      "V3=21.##kV\n",
      "n=4.##no. of uniits\n",
      "#V3/V2=(1+3*K+K**2)/(1+K)\n",
      "#K**2*V2+K*(V3+3*V2)-V2+V3=0#\n",
      "p=([V2, -V3+3.*V2, V2-V3])#\n",
      "K=numpy.roots(p)#\n",
      "K=K[1]##Taking +ve value\n",
      "V1=V2/(1.+K)##kV\n",
      "V4=(1.+6.*K+5.*K**2.+K**3.)*V1##kV\n",
      "V=V1+V2+V3+V4##kV\n",
      "VL=math.sqrt(3.)*V##kV\n",
      "print '%s %.1f' %(\"Voltage between conductors(kV)\",VL)#\n",
      "Strinf_eff=V/n/V4#\n",
      "print '%s %.2f' %(\"Percentage String Efficiency(%)\",Strinf_eff*100.)#\n"
     ],
     "language": "python",
     "metadata": {},
     "outputs": [
      {
       "output_type": "stream",
       "stream": "stdout",
       "text": [
        "Voltage between conductors(kV) 138.4\n",
        "Percentage String Efficiency(%) 63.19\n"
       ]
      }
     ],
     "prompt_number": 8
    },
    {
     "cell_type": "heading",
     "level": 2,
     "metadata": {},
     "source": [
      "Example E9 - Pg 228"
     ]
    },
    {
     "cell_type": "code",
     "collapsed": false,
     "input": [
      "#calculate C2,C3,C4,C5,C6\n",
      "import math\n",
      "#Given data :\n",
      "K=0.1##shunt to mutual capacitance ratio\n",
      "CbyC1=10.#\n",
      "C2byC1=(1.+K)*CbyC1#\n",
      "C3byC1=(1.+3.*K)*CbyC1#\n",
      "C4byC1=(1.+6.*K)*CbyC1#\n",
      "print '%s %.2f %s' %(\"C2 is \",C2byC1,\" times of C1\")#\n",
      "print '%s %.2f %s' %(\"C3 is \",C3byC1,\" times of C1\")#\n",
      "print '%s %.2f %s' %(\"C4 is \",C4byC1,\" times of C1\")#\n",
      "#I5=I4+i4\n",
      "#omega*C5*v=omega*C4*v+omega*C1*4*v\n",
      "C5byC1=(1.+10.*K)*CbyC1#\n",
      "print '%s %.2f %s' %(\"C5 is \",C5byC1,\" times of C1\")#\n",
      "#I6=I5+i5\n",
      "#omega*C6*v=omega*C5*v+omega*C1*5*v\n",
      "C6byC1=(1.+15.*K)*CbyC1#\n",
      "print '%s %.2f %s' %(\"C6 is \",C6byC1,\" times of C1\")#\n"
     ],
     "language": "python",
     "metadata": {},
     "outputs": [
      {
       "output_type": "stream",
       "stream": "stdout",
       "text": [
        "C2 is  11.00  times of C1\n",
        "C3 is  13.00  times of C1\n",
        "C4 is  16.00  times of C1\n",
        "C5 is  20.00  times of C1\n",
        "C6 is  25.00  times of C1\n"
       ]
      }
     ],
     "prompt_number": 9
    },
    {
     "cell_type": "heading",
     "level": 2,
     "metadata": {},
     "source": [
      "Example E10 - Pg 229"
     ]
    },
    {
     "cell_type": "code",
     "collapsed": false,
     "input": [
      "#calculate C1,C2,C3,C4,C5,C6,C7\n",
      "import math\n",
      "#Given data :\n",
      "n=8.##no. of units\n",
      "p=[1 ,2, 3, 4, 5, 6, 7, 8]#\n",
      "#Cp=p*C/(n-p)\n",
      "C1byC=1/(n-p[0])#\n",
      "C2byC=2/(n-p[1])#\n",
      "C3byC=3/(n-p[2])#\n",
      "C4byC=4/(n-p[3])#\n",
      "C5byC=5/(n-p[4])#\n",
      "C6byC=6/(n-p[5])#\n",
      "C7byC=7/(n-p[6])#\n",
      "print '%s %.2f %s' %(\"C1 is \",C1byC,\" times of C\")#\n",
      "print '%s %.2f %s' %(\"C2 is \",C2byC,\" times of C\")#\n",
      "print '%s %.2f %s' %(\"C3 is \",C3byC,\" times of C\")#\n",
      "print '%s %.2f %s' %(\"C4 is \",C4byC,\" times of C\")#\n",
      "print '%s %.2f %s' %(\"C5 is \",C5byC,\" times of C\")#\n",
      "print '%s %.2f %s' %(\"C6 is \",C6byC,\" times of C\")#\n",
      "print '%s %.2f %s' %(\"C7 is \",C7byC,\" times of C\")#\n"
     ],
     "language": "python",
     "metadata": {},
     "outputs": [
      {
       "output_type": "stream",
       "stream": "stdout",
       "text": [
        "C1 is  0.14  times of C\n",
        "C2 is  0.33  times of C\n",
        "C3 is  0.60  times of C\n",
        "C4 is  1.00  times of C\n",
        "C5 is  1.67  times of C\n",
        "C6 is  3.00  times of C\n",
        "C7 is  7.00  times of C\n"
       ]
      }
     ],
     "prompt_number": 10
    },
    {
     "cell_type": "heading",
     "level": 2,
     "metadata": {},
     "source": [
      "Example E11 - Pg"
     ]
    },
    {
     "cell_type": "code",
     "collapsed": false,
     "input": [
      "#calculate String efficiency in % is\n",
      "import math\n",
      "#Given data :\n",
      "v2byv1=25./23.25##ratio(By Kirchoff law)\n",
      "v3byv1=1.65/1.1625##ratio(By Kirchoff law)\n",
      "Vbyv1=1.+v2byv1+v3byv1##ratio(Final voltage between line conductor & earth)\n",
      "v1byV=1./Vbyv1##ratio\n",
      "v2byV=v2byv1*v1byV##ratio\n",
      "v3byV=v3byv1*v1byV##ratio\n",
      "eff=1./3./v3byV*100.##string efficiency in %(V/3/v3)\n",
      "print '%s %.1f' %(\"String efficiency in % is \",eff)#\n"
     ],
     "language": "python",
     "metadata": {},
     "outputs": [
      {
       "output_type": "stream",
       "stream": "stdout",
       "text": [
        "String efficiency in % is  82.1\n"
       ]
      }
     ],
     "prompt_number": 11
    },
    {
     "cell_type": "heading",
     "level": 2,
     "metadata": {},
     "source": [
      "Example E12 - Pg"
     ]
    },
    {
     "cell_type": "code",
     "collapsed": false,
     "input": [
      "#calculate Voltage onn the line end unit in kV,Capacitance required\n",
      "import math\n",
      "#Given data :\n",
      "V=20.##kV\n",
      "\n",
      "#Cmutual=C##F\n",
      "CmutualBYC=1.#\n",
      "#Cshunt=C/5##F\n",
      "CshuntBYC=1./5.#\n",
      "#I2=I1+i1#omega*C*V2=omega*C*V1+omega*Cshunt*V1\n",
      "V2BYV1=1.+CshuntBYC#\n",
      "V3BYV2=1.##a V2=V3\n",
      "#V=V1+V2+V3\n",
      "V1=V/(V3BYV2+V2BYV1+V2BYV1)##kV\n",
      "V2=V2BYV1*V1##kV\n",
      "V3=V2##kV\n",
      "print '%s %.2f' %(\"Voltage onn the line end unit in kV : \",V3)#\n",
      "#I3+ix=I2+i2\n",
      "CxBYC=(V2+CshuntBYC*(V1+V2)-V3)/V3#\n",
      "print '%s %.2f %s' %(\"Capacitance required is \",CxBYC,\"C(in F).\")#\n"
     ],
     "language": "python",
     "metadata": {},
     "outputs": [
      {
       "output_type": "stream",
       "stream": "stdout",
       "text": [
        "Voltage onn the line end unit in kV :  7.06\n",
        "Capacitance required is  0.37 C(in F).\n"
       ]
      }
     ],
     "prompt_number": 12
    }
   ],
   "metadata": {}
  }
 ]
}