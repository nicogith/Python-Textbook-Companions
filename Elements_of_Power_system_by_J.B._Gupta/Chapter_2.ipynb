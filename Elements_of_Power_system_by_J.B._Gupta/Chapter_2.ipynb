{
 "metadata": {
  "name": "",
  "signature": "sha256:58c36c7b9784275db9287ae8c79867925c020abc46926776ba50c0c166f1d15f"
 },
 "nbformat": 3,
 "nbformat_minor": 0,
 "worksheets": [
  {
   "cells": [
    {
     "cell_type": "heading",
     "level": 1,
     "metadata": {},
     "source": [
      "Chapter 2 - SUPPLY SYSTEM"
     ]
    },
    {
     "cell_type": "heading",
     "level": 2,
     "metadata": {},
     "source": [
      "Example E1 - Pg 40"
     ]
    },
    {
     "cell_type": "code",
     "collapsed": false,
     "input": [
      "#calculate saving in copper\n",
      "#Given data :\n",
      "VL1=220.##Volts\n",
      "VL2=400.##Volts\n",
      "print '%s' %(\"We know, W=I**2*2*R=(P/VL)**2*2*rho*l/a\")#\n",
      "print '%s ' %(\"a=(P/VL)**2*2*rho*l/(I**2*2*R)\")#\n",
      "print '%s' %(\"v=2*(P/VL)**2*2*rho*l/(I1**2*2)*l\")#\n",
      "saving=(2./(VL1)**2.-2./(VL2)**2.)/(2./(VL1)**2.)*100.##%\n",
      "print '%s %.2f' %(\"% saving in copper : \",saving)#\n"
     ],
     "language": "python",
     "metadata": {},
     "outputs": [
      {
       "output_type": "stream",
       "stream": "stdout",
       "text": [
        "We know, W=I**2*2*R=(P/VL)**2*2*rho*l/a\n",
        "a=(P/VL)**2*2*rho*l/(I**2*2*R) \n",
        "v=2*(P/VL)**2*2*rho*l/(I1**2*2)*l\n",
        "% saving in copper :  69.75\n"
       ]
      }
     ],
     "prompt_number": 1
    },
    {
     "cell_type": "heading",
     "level": 2,
     "metadata": {},
     "source": [
      "Example E2 - pg 51"
     ]
    },
    {
     "cell_type": "code",
     "collapsed": false,
     "input": [
      "#calculate 3-phase four wire system material required\n",
      "print '%s' %(\"Two wire dc system : \")#\n",
      "print '%s' %(\"I1=P/V & W=2*I1**2*R1=2*P**2*rho*l/V**2/a1\")#\n",
      "print '%s' %(\"Therefore, Volume required, v1 is 2*a1*l=4*P**2*rho*l**2/V**2/W\")#\n",
      "print '%s ' %(\"Three phase four wire system : \")#\n",
      "print '%s ' %(\"I2=P/3/Vas Power by each phase is P/3 & W=3*I1**2*R2=P**2*rho*l/3/V**2/a2\")#\n",
      "print '%s ' %(\"Therefore, Volume required, v2 is 3.5*a2*l=3.5*P**2*rho*l**2/3/V**2/W\")#\n",
      "v2BYv1=3.5/3./4.##\n",
      "print '%s %.3f %s' %(\"For 3-phase four wire system material required is \",v2BYv1,\" times the material required in two wire system.\")#\n"
     ],
     "language": "python",
     "metadata": {},
     "outputs": [
      {
       "output_type": "stream",
       "stream": "stdout",
       "text": [
        "Two wire dc system : \n",
        "I1=P/V & W=2*I1**2*R1=2*P**2*rho*l/V**2/a1\n",
        "Therefore, Volume required, v1 is 2*a1*l=4*P**2*rho*l**2/V**2/W\n",
        "Three phase four wire system :  \n",
        "I2=P/3/Vas Power by each phase is P/3 & W=3*I1**2*R2=P**2*rho*l/3/V**2/a2 \n",
        "Therefore, Volume required, v2 is 3.5*a2*l=3.5*P**2*rho*l**2/3/V**2/W \n",
        "For 3-phase four wire system material required is  0.292  times the material required in two wire system.\n"
       ]
      }
     ],
     "prompt_number": 2
    },
    {
     "cell_type": "heading",
     "level": 2,
     "metadata": {},
     "source": [
      "Example E3 - Pg 52"
     ]
    },
    {
     "cell_type": "code",
     "collapsed": false,
     "input": [
      "#calculate Additional load that can be tranmitted by converting sigle to 3-phase line\n",
      "import math\n",
      "print '%s ' %(\"For single phase ac system, P1=V*I1*cosd(fi) watts & W1=2*I1**2*R watts\")#\n",
      "print '%s ' %(\"Line losses=W1/P1*100=2*I1**2*R*100/V/I1/cosd(fi)\")#\n",
      "print '%s ' %(\"For three phase ac system, P2=sqrt(3)*V*I2*cosd(fi) watts & W2=3*I2**2*R watts\")#\n",
      "print '%s ' %(\"Line losses=W2/P2*100=3*I2**2*R*100/sqrt(3)/V/I2/cosd(fi)\")#\n",
      "#on equating  W1/P1*100.=W2/P2*100.\n",
      "I2BYI1=2*math.sqrt(3.)/3.#\n",
      "P1=100\n",
      "P2=2*P1#\n",
      "Add_load=P2-P1#\n",
      "Percent_add_load=(P2-P1)/P1*100##%\n",
      "print '%s %.2f' %(\"Additional load that can be tranmitted by converting sigle to 3-phase line in %\",Percent_add_load)#\n"
     ],
     "language": "python",
     "metadata": {},
     "outputs": [
      {
       "output_type": "stream",
       "stream": "stdout",
       "text": [
        "For single phase ac system, P1=V*I1*cosd(fi) watts & W1=2*I1**2*R watts \n",
        "Line losses=W1/P1*100=2*I1**2*R*100/V/I1/cosd(fi) \n",
        "For three phase ac system, P2=sqrt(3)*V*I2*cosd(fi) watts & W2=3*I2**2*R watts \n",
        "Line losses=W2/P2*100=3*I2**2*R*100/sqrt(3)/V/I2/cosd(fi) \n",
        "Additional load that can be tranmitted by converting sigle to 3-phase line in % 100.00\n"
       ]
      }
     ],
     "prompt_number": 3
    },
    {
     "cell_type": "heading",
     "level": 2,
     "metadata": {},
     "source": [
      "Example E4 - Pg 53 "
     ]
    },
    {
     "cell_type": "code",
     "collapsed": false,
     "input": [
      "#calculate Extra power that can be supplied\n",
      "print '%s' %(\"For three wire dc system, line current I1=(VS-VL)/R & P1=2*VL*I1=2*VL*(VS-VL)/R\")#\n",
      "print '%s' %(\"For four wire three phase ac system, line current I2=(VS-VL)/R & P2=3*VL*I2*pf=3*VL*(VS-VL)/R\")#\n",
      "#P2=3/2*2*VL*(VS-VL)/R##It implies that P2=3/2*P1\n",
      "P1=100#\n",
      "P2=3./2.*P1#\n",
      "Diff=P2-P1#\n",
      "Percent_Diff=(Diff/P1*100)##%\n",
      "print '%s %.2f' %(\"Extra power that can be supplied in %\",Percent_Diff)#\n"
     ],
     "language": "python",
     "metadata": {},
     "outputs": [
      {
       "output_type": "stream",
       "stream": "stdout",
       "text": [
        "For three wire dc system, line current I1=(VS-VL)/R & P1=2*VL*I1=2*VL*(VS-VL)/R\n",
        "For four wire three phase ac system, line current I2=(VS-VL)/R & P2=3*VL*I2*pf=3*VL*(VS-VL)/R\n",
        "Extra power that can be supplied in % 50.00\n"
       ]
      }
     ],
     "prompt_number": 4
    },
    {
     "cell_type": "heading",
     "level": 2,
     "metadata": {},
     "source": [
      "Example E5 - Pg 53"
     ]
    },
    {
     "cell_type": "code",
     "collapsed": false,
     "input": [
      "#calculate the Additional load\n",
      "pf=0.9##power factor\n",
      "print '%s' %(\"Three wire dc system : \")#\n",
      "print '%s' %(\"P1=2*I1*V & %P1loss=2*I1**2*R/(2*I1*V)*100=100*I1*R/V\")#\n",
      "print '%s' %(\"Three phase 4-wire ac system : \")#\n",
      "print '%s' %(\"P2=3*I1**2*V*pf & %P2loss=3*I2**2*R/(3*I2*V*pf)*100=100*I12*R/pf/V\")#\n",
      "#on equating P1loss=P2loss#\n",
      "I2BYI1=100*pf/100##ratio\n",
      "#P2=3*I2*V*pf\n",
      "P2BYI1V=3.*pf*I2BYI1#\n",
      "P2BYP1=P2BYI1V/2.#\n",
      "#LoadIncrease=(P2-P1)*100/P1#\n",
      "LoadIncrease=(P2BYP1-1.)*100.##%\n",
      "print '%s %.2f' %(\"% Additional load : \",LoadIncrease)#\n"
     ],
     "language": "python",
     "metadata": {},
     "outputs": [
      {
       "output_type": "stream",
       "stream": "stdout",
       "text": [
        "Three wire dc system : \n",
        "P1=2*I1*V & %P1loss=2*I1**2*R/(2*I1*V)*100=100*I1*R/V\n",
        "Three phase 4-wire ac system : \n",
        "P2=3*I1**2*V*pf & %P2loss=3*I2**2*R/(3*I2*V*pf)*100=100*I12*R/pf/V\n",
        "% Additional load :  21.50\n"
       ]
      }
     ],
     "prompt_number": 5
    },
    {
     "cell_type": "heading",
     "level": 2,
     "metadata": {},
     "source": [
      "Example E6 - Pg 57"
     ]
    },
    {
     "cell_type": "code",
     "collapsed": false,
     "input": [
      "#calculate Weight of copper required for 3 conductors of 100 km length\n",
      "#Given data :\n",
      "import math\n",
      "Pin=100.##MW\n",
      "VL=380.##kV\n",
      "d=100.##km\n",
      "R=0.045##ohm/cm**2/km\n",
      "w=0.01##kg/cm**3\n",
      "Eta=90.##efficiency %\n",
      "cosfi=1.#\n",
      "IL=Pin*10.**6./math.sqrt(3.)/VL/10.**3./cosfi##Ampere\n",
      "W=Pin*(1-Eta/100)##MW\n",
      "LineLoss=W*10**6/3##Watts/conductor\n",
      "R1=LineLoss/IL**2##in ohm\n",
      "R2=R1/d##resistance per conductor per km\n",
      "a=R/R2##in cm**2\n",
      "volume=a*d*1000##cm**3 per km run\n",
      "weight=w*volume##kg per km run\n",
      "w3=3.*d*weight##kg(weight of copper required for 3 conductors for 100 km)\n",
      "print '%s %.2f' %(\"Weight of copper required for 3 conductors of 100 km length(in kg) : \",w3)#\n",
      "#Answer in the book is not accurate.\n"
     ],
     "language": "python",
     "metadata": {},
     "outputs": [
      {
       "output_type": "stream",
       "stream": "stdout",
       "text": [
        "Weight of copper required for 3 conductors of 100 km length(in kg) :  9349.03\n"
       ]
      }
     ],
     "prompt_number": 6
    }
   ],
   "metadata": {}
  }
 ]
}