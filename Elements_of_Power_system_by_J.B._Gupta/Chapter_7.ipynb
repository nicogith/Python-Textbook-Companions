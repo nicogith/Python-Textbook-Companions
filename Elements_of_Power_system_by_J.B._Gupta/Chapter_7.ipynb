{
 "metadata": {
  "name": "",
  "signature": "sha256:7a4739840eca82c1ce9eed121a54d5060bb7d710089eb77f452cc47ec3867eee"
 },
 "nbformat": 3,
 "nbformat_minor": 0,
 "worksheets": [
  {
   "cells": [
    {
     "cell_type": "heading",
     "level": 1,
     "metadata": {},
     "source": [
      "Chapter 7 - CORONA"
     ]
    },
    {
     "cell_type": "heading",
     "level": 2,
     "metadata": {},
     "source": [
      "Example E1 - Pg 189"
     ]
    },
    {
     "cell_type": "code",
     "collapsed": false,
     "input": [
      "#calculate Line Voltage for comencing of corena(in kV)\n",
      "import math\n",
      "#Given data :\n",
      "r=1.##cm\n",
      "d=4.##meter\n",
      "g0=30./math.sqrt(2.)##kV/cm\n",
      "LineVoltage=math.sqrt(3.)*g0*r*math.log(d*100./r)##kV\n",
      "print '%s %.2f' %(\"Line Voltage for comencing of corena(in kV) :\",round(LineVoltage))#\n"
     ],
     "language": "python",
     "metadata": {},
     "outputs": [
      {
       "output_type": "stream",
       "stream": "stdout",
       "text": [
        "Line Voltage for comencing of corena(in kV) : 220.00\n"
       ]
      }
     ],
     "prompt_number": 1
    },
    {
     "cell_type": "heading",
     "level": 2,
     "metadata": {},
     "source": [
      "Example E2 - Pg 190"
     ]
    },
    {
     "cell_type": "code",
     "collapsed": false,
     "input": [
      "#calculate Disruptive critical voltage from line to line(kV rms)\n",
      "import math\n",
      "#Given data :\n",
      "Ph=3.##phase\n",
      "V=220.##kV\n",
      "f=50.##Hz\n",
      "r=1.2##cm\n",
      "d=2.##meter\n",
      "mo=0.96##Irregularity factor\n",
      "t=20.##degree C\n",
      "T=t+273.##K\n",
      "b=72.2##cm\n",
      "go=21.1##kV rms/cm\n",
      "dela=3.92*b/T##Air density factor\n",
      "Vdo=go*dela*mo*r*math.log(d*100./r)##in kV\n",
      "Vdo_line=math.sqrt(3.)*Vdo##in kV\n",
      "print '%s %.2f' %(\"Disruptive critical voltage from line to line(kV rms) : \",round(Vdo_line))#\n"
     ],
     "language": "python",
     "metadata": {},
     "outputs": [
      {
       "output_type": "stream",
       "stream": "stdout",
       "text": [
        "Disruptive critical voltage from line to line(kV rms) :  208.00\n"
       ]
      }
     ],
     "prompt_number": 2
    },
    {
     "cell_type": "heading",
     "level": 2,
     "metadata": {},
     "source": [
      "Example E3 - Pg 190"
     ]
    },
    {
     "cell_type": "code",
     "collapsed": false,
     "input": [
      "#calculate Spacing between conductors in meter\n",
      "import math\n",
      "#Given data :\n",
      "V=132.##kV\n",
      "r=2./2.##cm\n",
      "Vexceed=210.##kV(rms)\n",
      "go=30000./math.sqrt(2.)##Volts/cm\n",
      "go=go/1000.##kV/cm\n",
      "Vdo=Vexceed/math.sqrt(3.)##Volt\n",
      "mo=1.##assumed \n",
      "dela=1.##assumed air density factor\n",
      "#Formula : Vdo=go*del*mo*r*log(d*100/r)##in kV\n",
      "d=math.exp(Vdo/go/dela/mo/r)*r##cm\n",
      "print '%s %.2f' %(\"Spacing between conductors in meter : \",d*10**-2)#\n"
     ],
     "language": "python",
     "metadata": {},
     "outputs": [
      {
       "output_type": "stream",
       "stream": "stdout",
       "text": [
        "Spacing between conductors in meter :  3.04\n"
       ]
      }
     ],
     "prompt_number": 3
    },
    {
     "cell_type": "heading",
     "level": 2,
     "metadata": {},
     "source": [
      "Example E4 - Pg 190"
     ]
    },
    {
     "cell_type": "code",
     "collapsed": false,
     "input": [
      "#calculate Minimum Diameter of conductor by Hit & Trial method(cm)\n",
      "import math\n",
      "import numpy\n",
      "#Given data :\n",
      "Ph=3.##phase\n",
      "V=132.##kV\n",
      "f=50.##Hz\n",
      "d=3.##meter\n",
      "d=d*100.##in cm\n",
      "go=21.21##kV/cm : assumed\n",
      "mo=0.85##assumed \n",
      "dela=0.95##assumed air density factor\n",
      "Vdo=V/math.sqrt(3.)##kV\n",
      "#Formula : Vdo=go*del*mo*r*log(d*100/r)##in kV\n",
      "#r*log(d/r)=Vdo/go/del/mo: solving\n",
      "#Implementing Hit & Trial method\n",
      "w=numpy.zeros(200)\n",
      "\n",
      "w[0]=.1\n",
      "for i in range (1,200):\n",
      "\tw[i]=.1+w[i-1];\n",
      "\n",
      "for r in w:\n",
      "    if round(r*math.log(d/r))==round(Vdo/go/dela/mo):\n",
      "        print '%s %.2f' %(\"Minimum Diameter of conductor by Hit & Trial method(cm) : \",2*r)#\n",
      "        break"
     ],
     "language": "python",
     "metadata": {},
     "outputs": [
      {
       "output_type": "stream",
       "stream": "stdout",
       "text": [
        "Minimum Diameter of conductor by Hit & Trial method(cm) :  1.20\n"
       ]
      }
     ],
     "prompt_number": 1
    },
    {
     "cell_type": "heading",
     "level": 2,
     "metadata": {},
     "source": [
      "Example E5 - Pg 191"
     ]
    },
    {
     "cell_type": "code",
     "collapsed": false,
     "input": [
      "#calculate g1max(kV/cm)\n",
      "import math\n",
      "#Given data :\n",
      "r=2.5/2.##cm\n",
      "epsilon_r=4.##constant\n",
      "r1=3./2.##cm\n",
      "r2=9./2.##cm\n",
      "V=20.##kV(rms)\n",
      "#Formula : gmax=q/(2*epsilon*r)\n",
      "g2maxBYg1max=r/epsilon_r/r1##unitless\n",
      "#Formula : V=g1max*r*log(r1/r)+g2max*r1*log(r2/r1)\n",
      "g1max=V/(r*math.log(r1/r)+g2maxBYg1max*r1*math.log(r2/r1))##in kV/cm\n",
      "print '%s %.2f' %(\"g1max(kV/cm) = \",g1max)#\n",
      "print '%s' %(\"Corona will be present.g1max > go\")#\n"
     ],
     "language": "python",
     "metadata": {},
     "outputs": [
      {
       "output_type": "stream",
       "stream": "stdout",
       "text": [
        "g1max(kV/cm) =  35.01\n",
        "Corona will be present.g1max > go\n"
       ]
      }
     ],
     "prompt_number": 4
    },
    {
     "cell_type": "heading",
     "level": 2,
     "metadata": {},
     "source": [
      "Example E6 - Pg 192"
     ]
    },
    {
     "cell_type": "code",
     "collapsed": false,
     "input": [
      "#calculate Line to line visual critical voltage for local corona(kV-rms),Line to line visual critical voltage for general corona(kV-rms)\n",
      "import math\n",
      "#Given data :\n",
      "Ph=3.##phase\n",
      "r=10.4/2##mm\n",
      "r=r/10.##in cm\n",
      "d=2.5##meter\n",
      "d=d*100.##in cm\n",
      "t=21.##degree C\n",
      "T=t+273.##K\n",
      "b=73.6##cm-Hg\n",
      "mo=0.85# \n",
      "mv_l=0.7#\n",
      "mv_g=0.8#\n",
      "go=21.21##kV/cm : assumed\n",
      "dela=3.92*b/T##Air density factor\n",
      "#Formula : Vdo=go*del*mo*r*log(d*100/r)##kV\n",
      "Vdo=go*dela*mo*r*math.log(d/r)##kV\n",
      "Vdo_line=math.sqrt(3.)*Vdo##kV\n",
      "Vvo=go*dela*mv_l*r*(1+.3/math.sqrt(dela*r))*math.log(d/r)##kV\n",
      "Vvo_line_local=Vvo*math.sqrt(3.)##kV(rms)\n",
      "print '%s %.1f' %(\"Line to line visual critical voltage for local corona(kV-rms)  : \",Vvo_line_local)\n",
      "Vvo_line_general=Vvo_line_local*mv_g/mv_l##kV(rms)\n",
      "print '%s %.f' %(\"Line to line visual critical voltage for general corona(kV-rms)  : \",Vvo_line_general)\n",
      "#Note : Answer in the book is not accurate.\n"
     ],
     "language": "python",
     "metadata": {},
     "outputs": [
      {
       "output_type": "stream",
       "stream": "stdout",
       "text": [
        "Line to line visual critical voltage for local corona(kV-rms)  :  115.1\n",
        "Line to line visual critical voltage for general corona(kV-rms)  :  132\n"
       ]
      }
     ],
     "prompt_number": 5
    },
    {
     "cell_type": "heading",
     "level": 2,
     "metadata": {},
     "source": [
      "Example E7 - Pg 193"
     ]
    },
    {
     "cell_type": "code",
     "collapsed": false,
     "input": [
      "#calculate Corona Loss at 113 kV in kW ,Disruptive critical voltage between lines(kV)\n",
      "#Given data :\n",
      "import math\n",
      "Pc1=53.##in kW\n",
      "V1=106.##in kV\n",
      "Pc2=98.##in kW\n",
      "V2=110.9##in kV\n",
      "Vph1=V1/math.sqrt(3.)##in kV\n",
      "Vph2=V2/math.sqrt(3.)##in kV\n",
      "#Formula : Pc=3*244/del*(f+25)*sqrt(r/d)*(Vph-Vdo)**2*10**-5##kW/Km\n",
      "print '%s' %(\"Using proportionality : Pc is proportional to (Vph-Vdo)**2\")#\n",
      "print '%s' %(\"We have, Pc1/Pc2 = (Vph1-Vdo)**2/(Vph2-Vdo)**2\")#\n",
      "Vdo=(Vph1-math.sqrt(Pc1/Pc2)*(Vph2))/(1-math.sqrt(Pc1/Pc2))#\n",
      "V3=113.##in kV\n",
      "Vph3=V3/math.sqrt(3.)##in kV\n",
      "Pc3=Pc2*(Vph3-Vdo)**2./(Vph2-Vdo)**2##in kW\n",
      "print '%s %.1f' %(\"Corona Loss at 113 kV in kW : \",Pc3)#\n",
      "VLine=math.sqrt(3.)*Vdo##in kV\n",
      "print '%s %.1f' %(\"Disruptive critical voltage between lines(kV):  \",VLine)#\n"
     ],
     "language": "python",
     "metadata": {},
     "outputs": [
      {
       "output_type": "stream",
       "stream": "stdout",
       "text": [
        "Using proportionality : Pc is proportional to (Vph-Vdo)**2\n",
        "We have, Pc1/Pc2 = (Vph1-Vdo)**2/(Vph2-Vdo)**2\n",
        "Corona Loss at 113 kV in kW :  121.5\n",
        "Disruptive critical voltage between lines(kV):   92.4\n"
       ]
      }
     ],
     "prompt_number": 6
    },
    {
     "cell_type": "heading",
     "level": 2,
     "metadata": {},
     "source": [
      "Example E8 - Pg 194"
     ]
    },
    {
     "cell_type": "code",
     "collapsed": false,
     "input": [
      "#calculate Total corona loss under foul weather condition using Peek formula in kW,Total corona loss under foul weather condition using Peterson formula in kW \n",
      "import math\n",
      "#Given data :\n",
      "f=50.##Hz\n",
      "l=160.##km\n",
      "r=1.036/2.##cm\n",
      "d=2.44*100.##cm\n",
      "g0=21.1##kV/cm(rms)\n",
      "m0=0.85##irregularity factor\n",
      "mv=0.72##roughness factor\n",
      "b=73.15##cm\n",
      "t=26.6##degree C\n",
      "dela=3.92*b/(273.+t)##air density factor\n",
      "Vd0=g0*dela*m0*r*math.log(d/r)##kV(rms)\n",
      "print '%s %.2f' %(\"Critical disruptive voltage(rms) in kV : \",Vd0)#\n",
      "Vv0=g0*dela*mv*r*(1+0.3/math.sqrt(dela*r))*math.log(d/r)##kV\n",
      "print '%s %.1f' %(\"Visual Critical voltage(rms) in kV : \",Vv0)#\n",
      "Vph=110./math.sqrt(3.)##in kV\n",
      "Pc_dash=d/dela*(f+25)*math.sqrt(r/d)*(Vph-0.8*Vd0)**2*10**-5##kW/km/phase\n",
      "T_Corona_loss=l*3*Pc_dash##kW\n",
      "print '%s %.f' %(\"Total corona loss under foul weather condition using Peek formula in kW : \",T_Corona_loss)#\n",
      "VphBYVd0=Vph/Vd0/0.8#\n",
      "K=0.46##constant\n",
      "Corona_loss=21*10**-5*f*Vph**2*K/(math.log10(d/r))**2##kW/km/phase\n",
      "T_corona_loss=Corona_loss*3*l##kW\n",
      "print '%s %.1f' %(\"Total corona loss under foul weather condition using Peterson formula in kW : \",T_corona_loss)#\n"
     ],
     "language": "python",
     "metadata": {},
     "outputs": [
      {
       "output_type": "stream",
       "stream": "stdout",
       "text": [
        "Critical disruptive voltage(rms) in kV :  54.73\n",
        "Visual Critical voltage(rms) in kV :  66.1\n",
        "Total corona loss under foul weather condition using Peek formula in kW :  1645\n",
        "Total corona loss under foul weather condition using Peterson formula in kW :  1308.7\n"
       ]
      }
     ],
     "prompt_number": 7
    },
    {
     "cell_type": "heading",
     "level": 2,
     "metadata": {},
     "source": [
      "Example E9 - Pg 195"
     ]
    },
    {
     "cell_type": "code",
     "collapsed": false,
     "input": [
      "#calculate Power loss due to corona for fair weather condition,Total corona loss using Peek formula in kW,Total corona loss under foul weather condition using Peterson formula in kW \n",
      "import math\n",
      "#given data :\n",
      "f=50.##Hz\n",
      "l=175.##km\n",
      "r=1./2.##cm\n",
      "d=3.*100.##cm\n",
      "g0=21.1##kV/cm(rms)\n",
      "m0=0.85##irregularity factor\n",
      "mv=0.72##roughness factor\n",
      "mv_dash=0.82##roughness factor\n",
      "b=74.##cm\n",
      "t=26.##degree C\n",
      "Vph=110./math.sqrt(3.)##kV\n",
      "dela=3.92*b/(273.+t)##air density factor\n",
      "Vd0=g0*dela*m0*r*math.log(d/r)##kV(rms)\n",
      "Vvo=g0*dela*mv*r*(1.+0.3/math.sqrt(dela*r))*math.log(d/r)##kV rms\n",
      "Vvo_dash=Vvo*mv_dash/mv##kV rms\n",
      "Pc=244./dela*(f+25.)*math.sqrt(r/d)*(Vph-Vd0)**2.*10.**-5##kW/Km/phase\n",
      "T_CoronaLoss=Pc*l*3.##kW\n",
      "print '%s' %(\"Power loss due to corona for fair weather condition : \")#\n",
      "print '%s %.f' %(\"Total corona loss using Peek formula in kW : \",T_CoronaLoss)#\n",
      "K=0.0713##constant for Vph/Vdo=1.142\n",
      "Pc=21.*10.**-5*f*Vph**2./(math.log10(d/r))**2.*K##kW/Km/phase\n",
      "T_CoronaLoss=Pc*l*3##kW\n",
      "print '%s %.1f' %(\"According Peterson formula, Total corona loss for 175 km 3-phase line(kW): \",T_CoronaLoss)#\n",
      "print '%s' %(\"Power loss due to corona for stormy weather condition : \")#\n",
      "Vd0=0.8*Vd0##kV\n",
      "Pc_dash=l*3.*244./dela*(f+25.)*math.sqrt(r/d)*(Vph-Vd0)**2.*10.**-5##kW/Km/phase\n",
      "print '%s %.f' %(\"Total corona loss using Peek formula in kW : \",Pc_dash)#\n",
      "K=0.395##constant for Vph/Vdo=1.42\n",
      "Pc=21.*10.**-5*f*Vph**2./(math.log10(d/r))**2.*K##kW/Km/phase\n",
      "T_CoronaLoss=Pc*l*3.##kW\n",
      "print '%s %.f' %(\"According Peterson formula, Total corona loss for 175 km 3-phase line(kW): \",T_CoronaLoss)#\n",
      "#Answer is wrong in the book for corona loss fair weather condition using Peek formula.\n"
     ],
     "language": "python",
     "metadata": {},
     "outputs": [
      {
       "output_type": "stream",
       "stream": "stdout",
       "text": [
        "Power loss due to corona for fair weather condition : \n",
        "Total corona loss using Peek formula in kW :  249\n",
        "According Peterson formula, Total corona loss for 175 km 3-phase line(kW):  205.4\n",
        "Power loss due to corona for stormy weather condition : \n",
        "Total corona loss using Peek formula in kW :  1457\n",
        "According Peterson formula, Total corona loss for 175 km 3-phase line(kW):  1138\n"
       ]
      }
     ],
     "prompt_number": 8
    }
   ],
   "metadata": {}
  }
 ]
}