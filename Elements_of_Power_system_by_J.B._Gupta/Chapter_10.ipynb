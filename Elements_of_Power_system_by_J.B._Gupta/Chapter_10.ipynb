{
 "metadata": {
  "name": "",
  "signature": "sha256:1ed2c66761e5c24becdae0bef9d3fd6079b2eecb8e7b4c62bdcfe4d4af9edc70"
 },
 "nbformat": 3,
 "nbformat_minor": 0,
 "worksheets": [
  {
   "cells": [
    {
     "cell_type": "heading",
     "level": 1,
     "metadata": {},
     "source": [
      "Chapter 10 - MECHANICAL DESIGN OF TRANSMISISON LINES"
     ]
    },
    {
     "cell_type": "heading",
     "level": 2,
     "metadata": {},
     "source": [
      "Example E1 - Pg 246"
     ]
    },
    {
     "cell_type": "code",
     "collapsed": false,
     "input": [
      "#calculate maximum sag\n",
      "import math\n",
      "#Given data :\n",
      "L=200.#**m\n",
      "w=0.7#**kg\n",
      "T=1400.#**kg\n",
      "S=w*L**2./(8.*T)#**,m\n",
      "print '%s %.2f' %(\"maximum sag(m) :\",S)#\n"
     ],
     "language": "python",
     "metadata": {},
     "outputs": [
      {
       "output_type": "stream",
       "stream": "stdout",
       "text": [
        "maximum sag(m) : 2.50\n"
       ]
      }
     ],
     "prompt_number": 1
    },
    {
     "cell_type": "heading",
     "level": 2,
     "metadata": {},
     "source": [
      "Example E2 - Pg 247"
     ]
    },
    {
     "cell_type": "code",
     "collapsed": false,
     "input": [
      "#calculate Height above the ground\n",
      "import math\n",
      "#Given data :\n",
      "W=680.##kg/km\n",
      "L=260.##m\n",
      "U_strength=3100.##kg\n",
      "SF=2.##safety factor\n",
      "Clearance=10.##m\n",
      "T=U_strength/SF##kg\n",
      "w=W/1000.##kg\n",
      "S=w*L**2./(8.*T)##,m\n",
      "h=Clearance+S##m\n",
      "print '%s %.1f' %(\"Height above the ground(m) :\",h)#\n"
     ],
     "language": "python",
     "metadata": {},
     "outputs": [
      {
       "output_type": "stream",
       "stream": "stdout",
       "text": [
        "Height above the ground(m) : 13.7\n"
       ]
      }
     ],
     "prompt_number": 2
    },
    {
     "cell_type": "heading",
     "level": 2,
     "metadata": {},
     "source": [
      "Example E3 - Pg 247"
     ]
    },
    {
     "cell_type": "code",
     "collapsed": false,
     "input": [
      "#calculate Horizontal component of tension,Maximum sag,Sag will be half at the point where x coordinate(in m) will be\n",
      "import math\n",
      "import numpy \n",
      "from numpy import roots\n",
      "#Given data :\n",
      "w=700./1000.##kg/m\n",
      "L=300.##m\n",
      "Tmax=3500.##kg\n",
      "\n",
      "S_T0=w*L**2./8.##,m\n",
      "#Tmax=T0+w*S\n",
      "#T0**2-T0*Tmax-w*S_T0=0\n",
      "polynomial=([1, -Tmax, -w*S_T0])#\n",
      "T0=numpy.roots(polynomial)##kg\n",
      "T0=T0[0]##+ve sign taken\n",
      "print '%s %.2f' %(\"Horizontal component of tension in kg is : \",T0)#\n",
      "S=S_T0/T0##m\n",
      "print '%s %.4f' %(\"Maximum sag in m : \",S)#\n",
      "y=S/2.##m\n",
      "x=math.sqrt(2.*y*T0/w)##m\n",
      "print '%s %.f' %(\"Sag will be half at the point where x coordinate(in m) will be : \",x)#\n"
     ],
     "language": "python",
     "metadata": {},
     "outputs": [
      {
       "output_type": "stream",
       "stream": "stdout",
       "text": [
        "Horizontal component of tension in kg is :  3501.57\n",
        "Maximum sag in m :  2.2490\n",
        "Sag will be half at the point where x coordinate(in m) will be :  106\n"
       ]
      }
     ],
     "prompt_number": 2
    },
    {
     "cell_type": "heading",
     "level": 2,
     "metadata": {},
     "source": [
      "Example E4 - Pg 248"
     ]
    },
    {
     "cell_type": "code",
     "collapsed": false,
     "input": [
      "#calculate Maximum sag \n",
      "import math\n",
      "#Given data :\n",
      "L=150.##m\n",
      "wc=1.##kg\n",
      "A=1.25##cm**2\n",
      "U_stress=4200.##kg/cm**2\n",
      "Pw=100.##kg/m**2(Wind pressure)\n",
      "SF=4.##factor of safety\n",
      "W_stress=U_stress/SF##kg/cm**2\n",
      "T=W_stress*A##kg\n",
      "d=math.sqrt(A/(math.pi/4.))##cm\n",
      "w_w=Pw*d*10.**-2##kg\n",
      "wr=math.sqrt(wc**2.+w_w**2.)##kg\n",
      "S=wr*L**2./8./T##m\n",
      "print '%s %.2f' %(\"Maximum sag(m)\",S)#\n"
     ],
     "language": "python",
     "metadata": {},
     "outputs": [
      {
       "output_type": "stream",
       "stream": "stdout",
       "text": [
        "Maximum sag(m) 3.45\n"
       ]
      }
     ],
     "prompt_number": 3
    },
    {
     "cell_type": "heading",
     "level": 2,
     "metadata": {},
     "source": [
      "Example E5 - Pg 248"
     ]
    },
    {
     "cell_type": "code",
     "collapsed": false,
     "input": [
      "#calculate Sag(meter)\n",
      "import math\n",
      "#Given data :\n",
      "L=160.##m\n",
      "d=0.95##cm\n",
      "wc=0.65##kg/m\n",
      "U_stress=4250.##kg/cm**2\n",
      "Pw=40.##kg/m**2(Wind pressure)\n",
      "SF=5.##factor of safety\n",
      "W_stress=U_stress/SF##kg/cm**2\n",
      "T=W_stress*math.pi/4.*d**2.##kg\n",
      "w_w=Pw*d*10.**-2##kg\n",
      "wr=math.sqrt(wc**2.+w_w**2.)##kg\n",
      "S=wr*L**2./8./T##m\n",
      "print '%s %.2f' %(\"Sag(meter)\",round(S))#\n"
     ],
     "language": "python",
     "metadata": {},
     "outputs": [
      {
       "output_type": "stream",
       "stream": "stdout",
       "text": [
        "Sag(meter) 4.00\n"
       ]
      }
     ],
     "prompt_number": 4
    },
    {
     "cell_type": "heading",
     "level": 2,
     "metadata": {},
     "source": [
      "Example E6 - Pg 248"
     ]
    },
    {
     "cell_type": "code",
     "collapsed": false,
     "input": [
      "#calculate Sag in still air,Maximum Sag\n",
      "import math\n",
      "#Given data :\n",
      "L=180.##m\n",
      "D=1.27##cm\n",
      "Pw=33.7##kg/m**2(Wind pressure)\n",
      "r=1.25##cm\n",
      "wc=1.13##kg/cm**2\n",
      "U_stress=4220.##kg/cm**2\n",
      "SF=5.##factor of safety\n",
      "W_stress=U_stress/SF##kg/cm**2\n",
      "T=W_stress*math.pi/4.*D**2.##kg\n",
      "S=wc*L**2./8./T##msag in air\n",
      "print '%s %.2f' %(\"Sag in still air(meter)\",S)#\n",
      "w1=2890.3*r*10.**-2*(D+r)*10.**-2##kg/m\n",
      "w_w=Pw*(D+2.*r)*10.**-2##kg\n",
      "wr=math.sqrt((wc+w1)**2.+w_w**2.)##kg\n",
      "Smax=wr*L**2./8./T##msag in air\n",
      "print '%s %.3f' %(\"Maximum Sag(meter)\",Smax)#\n"
     ],
     "language": "python",
     "metadata": {},
     "outputs": [
      {
       "output_type": "stream",
       "stream": "stdout",
       "text": [
        "Sag in still air(meter) 4.28\n",
        "Maximum Sag(meter) 9.105\n"
       ]
      }
     ],
     "prompt_number": 5
    },
    {
     "cell_type": "heading",
     "level": 2,
     "metadata": {},
     "source": [
      "Example E7 - Pg 249"
     ]
    },
    {
     "cell_type": "code",
     "collapsed": false,
     "input": [
      "#calculate Maximum Sag \n",
      "import math\n",
      "#Given data :\n",
      "D=19.5##mm\n",
      "wc=0.85##kg/m\n",
      "L=275.##m\n",
      "Pw=39.##kg/m**2(Wind pressure)\n",
      "r=13.##mm\n",
      "U_stress=8000.##kg/cm**2\n",
      "SF=2.##factor of safety\n",
      "rho_i=910.##kg/m**3(density of ice)\n",
      "T=U_stress/SF##kg\n",
      "wi=rho_i*math.pi*r*10.**-3*(D+r)*10.**-3##kg\n",
      "w_w=Pw*(D+2.*r)*10.**-3##kg\n",
      "wr=math.sqrt((wc+wi)**2.+w_w**2)##kg\n",
      "Smax=wr*L**2./8./T##msag in air\n",
      "print '%s %.3f' %(\"Maximum Sag(meter)\",Smax)#\n"
     ],
     "language": "python",
     "metadata": {},
     "outputs": [
      {
       "output_type": "stream",
       "stream": "stdout",
       "text": [
        "Maximum Sag(meter) 6.422\n"
       ]
      }
     ],
     "prompt_number": 6
    },
    {
     "cell_type": "heading",
     "level": 2,
     "metadata": {},
     "source": [
      "Example E8 - Pg 249"
     ]
    },
    {
     "cell_type": "code",
     "collapsed": false,
     "input": [
      "#calculate \n",
      "import math\n",
      "#Given data :\n",
      "wc=1.##kg/m\n",
      "L=280.##m\n",
      "D=20.##mm\n",
      "r=10.##mm\n",
      "Pw=40.##kg/m**2(Wind pressure)\n",
      "rho_i=910.##kg/m**3(density of ice)\n",
      "U_stress=10000.##kg/cm**2\n",
      "SF=2.##factor of safety\n",
      "wi=rho_i*math.pi*r*10.**-3*(D+r)*10.**-3##kg\n",
      "w_w=Pw*(D+2.*r)*10.**-3##kg\n",
      "wr=math.sqrt((wc+wi)**2.+w_w**2.)##kg(Resultant force per m length of conductor)\n",
      "T=U_stress/SF##kg\n",
      "Smax=wr*L**2./8./T##msag in air\n",
      "print '%s %.1f' %(\"Maximum Sag(meter)\",Smax)#\n"
     ],
     "language": "python",
     "metadata": {},
     "outputs": [
      {
       "output_type": "stream",
       "stream": "stdout",
       "text": [
        "Maximum Sag(meter) 4.8\n"
       ]
      }
     ],
     "prompt_number": 7
    },
    {
     "cell_type": "heading",
     "level": 2,
     "metadata": {},
     "source": [
      "Example E9 - Pg 250"
     ]
    },
    {
     "cell_type": "code",
     "collapsed": false,
     "input": [
      "#calculate Sag in inclined direction,Sag in vertical direction,Height of lowest cross arm\n",
      "import math\n",
      "#Given data :\n",
      "L=250.##m\n",
      "D=1.42##cm\n",
      "wc=1.09##kg/m\n",
      "Pw=37.8##kg/m**2(Wind pressure)\n",
      "r=1.25##cm\n",
      "Lis=1.43##m(insulator string length)\n",
      "Clearance=7.62##m\n",
      "rho_i=913.5##kg/m**3(density of ice)\n",
      "stress=1050.##kg/cm**2\n",
      "T=stress*math.pi/4.*D**2##kg\n",
      "wi=rho_i*math.pi*r*10.**-2*(D+r)*10.**-2##kg\n",
      "w_w=Pw*(D+2.*r)*10.**-2##kg\n",
      "wr=math.sqrt((wc+wi)**2+w_w**2.)##kg(Resultant force per m length of conductor)\n",
      "Smax=wr*L**2./8./T##max sag in air\n",
      "print '%s %.4f' %(\"Sag in inclined direction(meter)\",Smax)#\n",
      "Sdash=Smax*(wc+wi)/wr##max sag in air\n",
      "print '%s %.2f' %(\"Sag in vertical direction(meter)\",Sdash)#\n",
      "h=Clearance+Sdash+Lis##m\n",
      "print '%s %.2f' %(\"Height of lowest cross arm(m)\",h)#\n"
     ],
     "language": "python",
     "metadata": {},
     "outputs": [
      {
       "output_type": "stream",
       "stream": "stdout",
       "text": [
        "Sag in inclined direction(meter) 11.8756\n",
        "Sag in vertical direction(meter) 9.62\n",
        "Height of lowest cross arm(m) 18.67\n"
       ]
      }
     ],
     "prompt_number": 8
    },
    {
     "cell_type": "heading",
     "level": 2,
     "metadata": {},
     "source": [
      "Example E10 - Pg 250"
     ]
    },
    {
     "cell_type": "code",
     "collapsed": false,
     "input": [
      "#calculate Distance of lowest point,minimum point of catenary above the ground\n",
      "import math\n",
      "#Given data :\n",
      "wc=0.35##kg/m\n",
      "stress=800.##kg/cm**2\n",
      "L=160.##m\n",
      "SF=2.##safety factor\n",
      "h=70.-65.##m\n",
      "T=stress/SF##kg\n",
      "x=L/2.+T*h/(wc*L)##m\n",
      "print '%s %.2f' %(\"Distance of lowest point(m)\",x)#\n",
      "S1=wc*x**2/SF/T##max sag in air\n",
      "xmin=70.-S1##m\n",
      "print '%s %.4f' %(\"minimum point of catenary above the ground(m)\",xmin)#\n"
     ],
     "language": "python",
     "metadata": {},
     "outputs": [
      {
       "output_type": "stream",
       "stream": "stdout",
       "text": [
        "Distance of lowest point(m) 115.71\n",
        "minimum point of catenary above the ground(m) 64.1420\n"
       ]
      }
     ],
     "prompt_number": 9
    },
    {
     "cell_type": "heading",
     "level": 2,
     "metadata": {},
     "source": [
      "Example E11 - Pg 251"
     ]
    },
    {
     "cell_type": "code",
     "collapsed": false,
     "input": [
      "#calculate Slant sag,Vertical Sag\n",
      "import math\n",
      "#Given data :\n",
      "L=200.##m\n",
      "h=10.##m\n",
      "D=2.##cm\n",
      "wc=2.3##kg/m\n",
      "Pw=57.5##kg/m**2(wind pressure)\n",
      "SF=4.##safety factor\n",
      "stress=4220.##kg/cm**2\n",
      "w_w=Pw*D*10.**-2##kg\n",
      "wr=math.sqrt(wc**2.+w_w**2.)##kg\n",
      "f=stress/SF##kg/cm**2\n",
      "T=f*math.pi/4.*D**2.##kg\n",
      "x=L/2.-T*h/(wr*L)##m\n",
      "S1=wr*x**2./2./T##max sag in air\n",
      "print '%s %.4f' %(\"Slant sag(m)\",S1)#\n",
      "Sdash=wc*x**2./2./T##vertical sag\n",
      "print '%s %.4f' %(\"Vertical Sag(meter)\",Sdash)#\n"
     ],
     "language": "python",
     "metadata": {},
     "outputs": [
      {
       "output_type": "stream",
       "stream": "stdout",
       "text": [
        "Slant sag(m) 0.4904\n",
        "Vertical Sag(meter) 0.4386\n"
       ]
      }
     ],
     "prompt_number": 10
    },
    {
     "cell_type": "heading",
     "level": 2,
     "metadata": {},
     "source": [
      "Example E12 - Pg 251"
     ]
    },
    {
     "cell_type": "code",
     "collapsed": false,
     "input": [
      "#calculate Vertical Sag\n",
      "import math\n",
      "#Given data :\n",
      "wc=1.925##kg/m\n",
      "A=2.2##cm**2\n",
      "f=8000.##kg/cm**2\n",
      "L=600.##m\n",
      "h=15.##m\n",
      "D=2.##cm\n",
      "SF=5.##safety factor\n",
      "wi=1.##kg(load)\n",
      "w=wi+wc##kg\n",
      "T=f*A/SF##kg\n",
      "x=L/2.-T*h/(w*L)##m\n",
      "S2=w*(L-x)**2./2./T##m\n",
      "print '%s %.2f' %(\"Vertical Sag(meter)\",S2)#\n"
     ],
     "language": "python",
     "metadata": {},
     "outputs": [
      {
       "output_type": "stream",
       "stream": "stdout",
       "text": [
        "Vertical Sag(meter) 45.27\n"
       ]
      }
     ],
     "prompt_number": 11
    },
    {
     "cell_type": "heading",
     "level": 2,
     "metadata": {},
     "source": [
      "Example E13 - Pg 252"
     ]
    },
    {
     "cell_type": "code",
     "collapsed": false,
     "input": [
      "#calculate Mid point P is \"+string(Point_P)+\" meter below point B or \"+string(80-Point_P)+\" meter above the water level\n",
      "import math\n",
      "#Given data :\n",
      "h=80.-50.##m\n",
      "L=300.##m\n",
      "T=2000.##kg\n",
      "w=0.844##kg/m\n",
      "x=L/2.-T*h/(w*L)##m\n",
      "d_PO=L/2.-x##m\n",
      "d_BO=L-x##m\n",
      "Smid=w*(L/2.-x)**2./2./T##m\n",
      "S2=w*(L-x)**2./2./T##m\n",
      "Point_P=S2-Smid##m\n",
      "print '%s %.3f %s %.3f %s' %(\"Mid point P is \",Point_P,\" meter below point B or \",80-Point_P,\" meter above the water level.\")#\n"
     ],
     "language": "python",
     "metadata": {},
     "outputs": [
      {
       "output_type": "stream",
       "stream": "stdout",
       "text": [
        "Mid point P is  19.747  meter below point B or  60.253  meter above the water level.\n"
       ]
      }
     ],
     "prompt_number": 12
    },
    {
     "cell_type": "heading",
     "level": 2,
     "metadata": {},
     "source": [
      "Example E14 - Pg 252"
     ]
    },
    {
     "cell_type": "code",
     "collapsed": false,
     "input": [
      "#calculate Stringing Tension\n",
      "import math\n",
      "#Given data :\n",
      "S1=25.##m\n",
      "S2=75.##m\n",
      "Point_P=45.##m\n",
      "L1=250.##m\n",
      "L2=125.##m(mid point)\n",
      "w=0.7##kg/m\n",
      "h1=S2-S1##m(for points A & B)\n",
      "h2=Point_P-S1##m(for points A & B)\n",
      "#h1=w*L1/2/T*[L1-2*x]\n",
      "#h2=w*L2/2/T*[L2-2*x]\n",
      "x=(L1-h1/h2/L1*L2*L2)/(-h1/h2/L1*L2*2.+2.)##m\n",
      "T=(L1-2.*x)/(h1/w/L1*2.)##kg\n",
      "print '%s %.2f' %(\"Stringing Tension(kg)\",T)#\n"
     ],
     "language": "python",
     "metadata": {},
     "outputs": [
      {
       "output_type": "stream",
       "stream": "stdout",
       "text": [
        "Stringing Tension(kg) 1093.75\n"
       ]
      }
     ],
     "prompt_number": 13
    },
    {
     "cell_type": "heading",
     "level": 2,
     "metadata": {},
     "source": [
      "Example E15 - Pg 253"
     ]
    },
    {
     "cell_type": "code",
     "collapsed": false,
     "input": [
      "#calculate Clearance of the lowest point from ground,Minimum clearance\n",
      "import math\n",
      "#Given data :\n",
      "L=300.##m\n",
      "slope=1./20.#\n",
      "w=0.80##kg/m\n",
      "hl=30.##m\n",
      "T0=1500.##kg\n",
      "CD=L##m\n",
      "tan_alfa=slope#\n",
      "ED=CD*tan_alfa##m\n",
      "AC=hl##m\n",
      "BE=hl##m\n",
      "BD=BE+ED##m\n",
      "#S1=w*x1**2/2/T0##m\n",
      "#S2=w*(L-x1)**2/2/T0##m\n",
      "h=15.##m\n",
      "ED=h##m\n",
      "x1=L/2.-T0*h/w/L##m\n",
      "S1=w*x1**2./2./T0##m\n",
      "S2=w*(L-x1)**2./2./T0##m\n",
      "OG=AC-S1-x1*tan_alfa##m\n",
      "Clearance=OG##m\n",
      "print '%s %.5f' %(\"Clearance of the lowest point from ground(m)\",Clearance)#\n",
      "#y=x*tan_alfa-OG##m\n",
      "#C1=w*x**2/2/T0-(x/20-OG)\n",
      "x=T0/20./w##m(Byy putting dC1/dx=0)\n",
      "C1=w*x**2./2./T0-(x/20.-OG)##m\n",
      "print '%s %.2f' %(\"Minimum clearance(m)\",C1)#\n"
     ],
     "language": "python",
     "metadata": {},
     "outputs": [
      {
       "output_type": "stream",
       "stream": "stdout",
       "text": [
        "Clearance of the lowest point from ground(m) 26.34375\n",
        "Minimum clearance(m) 24.00\n"
       ]
      }
     ],
     "prompt_number": 14
    },
    {
     "cell_type": "heading",
     "level": 2,
     "metadata": {},
     "source": [
      "Example E16 - Pg 255"
     ]
    },
    {
     "cell_type": "code",
     "collapsed": false,
     "input": [
      "#calculate Sag at erection\n",
      "import math\n",
      "import numpy\n",
      "from numpy import roots\n",
      "#Given data :\n",
      "L=250.##m\n",
      "D=19.5##mm\n",
      "A=2.25*10.**-4##m**2.\n",
      "wc=0.85##kg/m\n",
      "t1=35.##degree C\n",
      "t2=5.##degree C\n",
      "Pw=38.5##kg/m**2\n",
      "alfa=18.44*10.**-6##per degree C\n",
      "E=9320.##kg/mm**2\n",
      "E=9320.*10.**6.##kg/m**2\n",
      "Breaking_Load=8000.##kg\n",
      "SF=2.##Safety factor\n",
      "T1=Breaking_Load/SF##kg\n",
      "f1=T1/A##kg/m**2\n",
      "w_w=Pw*D*10.**-2##kg\n",
      "w1=math.sqrt(wc**2.+w_w**2.)##kg\n",
      "w2=wc#\n",
      "#f2**2.*[(f2-f1)+w1*L**2.*E/24./f1**2./A**2.+(t2-t1)*E]=w2*L**2.*E/24./A**2.\n",
      "#f2**3-f2**2.*f1-w2*L**2.*E/24./A**2.=0\n",
      "P=([1, -1.0674*10.**7, 0, -3463.84*10.**17.])#\n",
      "f2=numpy.roots(P)#\n",
      "f2=numpy.real(f2[0])##kg/m**2\n",
      "S=w2*L**2./8./f2/A##m\n",
      "print '%s %.1f' %(\"Sag at erection(m)\",S)#\n"
     ],
     "language": "python",
     "metadata": {},
     "outputs": [
      {
       "output_type": "stream",
       "stream": "stdout",
       "text": [
        "Sag at erection(m) 2.3\n"
       ]
      }
     ],
     "prompt_number": 15
    }
   ],
   "metadata": {}
  }
 ]
}