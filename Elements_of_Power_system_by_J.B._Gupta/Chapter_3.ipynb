{
 "metadata": {
  "name": "",
  "signature": "sha256:8ef5a6db25d3ca5636ebb9bdfef72dd38c306363688bdeed8ee7c50c70ef98c0"
 },
 "nbformat": 3,
 "nbformat_minor": 0,
 "worksheets": [
  {
   "cells": [
    {
     "cell_type": "heading",
     "level": 1,
     "metadata": {},
     "source": [
      "Chapter 3 - TRANSMISSION LINES"
     ]
    },
    {
     "cell_type": "heading",
     "level": 2,
     "metadata": {},
     "source": [
      "Example E1 - Pg 66"
     ]
    },
    {
     "cell_type": "code",
     "collapsed": false,
     "input": [
      "#calculate Weight of copper required,Alluminium required\n",
      "#Given data :\n",
      "import math\n",
      "P=30.*10.**6.##W\n",
      "pf=0.8##lagging power factor\n",
      "VL=132.*1000.##V\n",
      "l=120.*1000.##m\n",
      "Eta=90./100.##Efficiency\n",
      "rho_Cu=1.78*10.**-8.##ohm-m\n",
      "D_Cu=8.9*10.**3.##kg/m**3\n",
      "rho_Al=2.6*10.**-8.##ohm-m\n",
      "D_Al=2.*10.**3.##kg/m**3\n",
      "IL=P/(math.sqrt(3.)*VL*pf)##A\n",
      "#W=3.*IL**2.*rho*l/a=(1-Eta)*P\n",
      "a_Cu=(3.*IL**2.*rho_Cu*l)/(1.-Eta)/P##m**2\n",
      "V_Cu=3.*a_Cu*l##m**3\n",
      "Wt_Cu=V_Cu*D_Cu##kg\n",
      "print '%s %.2f' %(\"Weight of copper required(kg)\",Wt_Cu)#\n",
      "a_Al=(3.*IL**2.*rho_Al*l)/(1.-Eta)/P##m**2\n",
      "V_Al=3.*a_Al*l## m**3\n",
      "Wt_Al=V_Al*D_Al##kg\n",
      "print '%s %.2f' %(\"Weight of Alluminium required(kg)\",Wt_Al)#\n",
      "#Answer in the textbook is not accurate.\n"
     ],
     "language": "python",
     "metadata": {},
     "outputs": [
      {
       "output_type": "stream",
       "stream": "stdout",
       "text": [
        "Weight of copper required(kg) 184114.15\n",
        "Weight of Alluminium required(kg) 60433.88\n"
       ]
      }
     ],
     "prompt_number": 1
    },
    {
     "cell_type": "heading",
     "level": 2,
     "metadata": {},
     "source": [
      "Example E2 - Pg 70"
     ]
    },
    {
     "cell_type": "code",
     "collapsed": false,
     "input": [
      "#calculate Most economical cross sectional area\n",
      "#Given data :\n",
      "import math\n",
      "a=100.#\n",
      "cost=90.*a+20.##Rs./m\n",
      "i=10.##%(interest and depreciation)\n",
      "l=2.##km\n",
      "cost_E=4.##paise/unit\n",
      "Im=250.##A\n",
      "a=1.##cm**2\n",
      "rho_c=0.173##ohm/km/cm**2\n",
      "l2=1.*1000.##km\n",
      "R=rho_c*l/a##ohm\n",
      "W=2.*Im**2.*R##W\n",
      "Eloss=W/1000.*365.*24./2.##per annum(kWh)\n",
      "P3BYa=cost_E/100.*Eloss##Rs\n",
      "Cc=90.*a*l*1000.##Rs(capital cost of feeder cable)\n",
      "P2a=Cc*i/100.##Rs\n",
      "#P2a=P3BYa##For most economical cross section\n",
      "a=math.sqrt(P3BYa*a/(P2a/a))##cm**2\n",
      "print '%s %.3f' %(\"Most economical cross sectional area in cm**2 : \",a)#\n"
     ],
     "language": "python",
     "metadata": {},
     "outputs": [
      {
       "output_type": "stream",
       "stream": "stdout",
       "text": [
        "Most economical cross sectional area in cm**2 :  0.649\n"
       ]
      }
     ],
     "prompt_number": 2
    },
    {
     "cell_type": "heading",
     "level": 2,
     "metadata": {},
     "source": [
      "Example E3 - Pg 71"
     ]
    },
    {
     "cell_type": "code",
     "collapsed": false,
     "input": [
      "#calculate Best current density\n",
      "#Given data :\n",
      "import math\n",
      "t=2600.##hour\n",
      "Con_Cost=3.##Rs/kg(conductor cost)\n",
      "R=1.78*10.**-8.##ohm-m\n",
      "D=6200.##kg/m**3\n",
      "E_Cost=10./100.##Rs/unit(energy cost)\n",
      "i=12.##%(interest and depreciation)\n",
      "a=100.##mm**2    ##cross sectional area\n",
      "W=a*1000.*D/1000./1000.##kg/km(Weight of conductor of 1km length)\n",
      "cost=Con_Cost*W##Rs./km(cost of conductor of 1km length)\n",
      "In_Dep=cost*i/100.##Rs(Annual interest and depreciation per conductor per km)\n",
      "In_DepBYa=In_Dep/a#\n",
      "I=100.##A\n",
      "E_lost_aBY_Isqr=R*1000./10.**-6.*t/1000.##Energy lost/annum/km/conductor\n",
      "E_lost_cost_aBY_Isqr=E_Cost*E_lost_aBY_Isqr##Rs/annum\n",
      "#In_Dep=E_lost_cost##For most economical cross section\n",
      "IBYa=math.sqrt((In_DepBYa))/(E_lost_cost_aBY_Isqr)##cm**2\n",
      "print '%s %.2f' %(\"Best current density in A/mm**2 : \",IBYa)#\n",
      "#Answer in the textbook is not accurate.\n"
     ],
     "language": "python",
     "metadata": {},
     "outputs": [
      {
       "output_type": "stream",
       "stream": "stdout",
       "text": [
        "Best current density in A/mm**2 :  0.32\n"
       ]
      }
     ],
     "prompt_number": 3
    },
    {
     "cell_type": "heading",
     "level": 2,
     "metadata": {},
     "source": [
      "Example E4 - Pg 71"
     ]
    },
    {
     "cell_type": "code",
     "collapsed": false,
     "input": [
      "#calculate Diameter of conductor,Most economical current density\n",
      "#Given data :\n",
      "import math\n",
      "V=11.##kV\n",
      "P=1500.##kW\n",
      "pf=0.8##lagging power factor\n",
      "t=300.*8.##hours\n",
      "a=100.##cross section area\n",
      "Cc=8000.+20000.*a#Rs/km\n",
      "R=0.173/a##ohm/km\n",
      "E_lost_cost=2./100.##Rs/unit\n",
      "i=12.##%(interest and depreciation)\n",
      "Cc_var=20000.*a#Rs/km(variable cost)\n",
      "P2a=Cc_var*i/100.##Rs/km\n",
      "P2=P2a/a#\n",
      "I=P/math.sqrt(3.)/V/pf##A\n",
      "W=3.*I**2.*R##W\n",
      "E_loss=W/1000.*t##kWh\n",
      "P3BYa=E_lost_cost*E_loss##Rs\n",
      "#P2a=P3BYa##For most economical cross section\n",
      "a=math.sqrt((P3BYa))/(P2)##cm**2\n",
      "d=math.sqrt(4.*a/math.pi)##cm\n",
      "dela=I/a;##A/cm**2\n",
      "print '%s %.2f' %(\"Diameter of conductor in cm : \",d)#\n",
      "print '%s %.2f' %(\"Most economical current density in A/cm**2 : \",dela)#\n"
     ],
     "language": "python",
     "metadata": {},
     "outputs": [
      {
       "output_type": "stream",
       "stream": "stdout",
       "text": [
        "Diameter of conductor in cm :  0.03\n",
        "Most economical current density in A/cm**2 :  152057.18\n"
       ]
      }
     ],
     "prompt_number": 4
    },
    {
     "cell_type": "heading",
     "level": 2,
     "metadata": {},
     "source": [
      "Example E5 - Pg 72"
     ]
    },
    {
     "cell_type": "code",
     "collapsed": false,
     "input": [
      "#Exa 3.5\n",
      "#Given data :\n",
      "import math\n",
      "a=100.##cross section area\n",
      "I=100.##Current\n",
      "Cc=500.+2000.*a#Rs/km\n",
      "i=12.##%(interest and depreciation)\n",
      "E_lost_cost=5./100.##Rs/kWh\n",
      "rho=1.78*10.**-8.##ohm-cm\n",
      "load_factor=0.12#\n",
      "Cc_var=2000.*a#Rs/km(variable cost)\n",
      "P2a=Cc_var*i/100.##Rs/km\n",
      "P2=P2a/a#\n",
      "R_into_a=rho*1000./(10.**-4.)##ohm\n",
      "W_into_a=I**2*R_into_a##W\n",
      "E_loss_into_a=W_into_a*load_factor/1000.*8760.##kWh\n",
      "P3BYIsqr=E_lost_cost*E_loss_into_a/I**2##Rs\n",
      "#P2a=P3BYa##For most economical cross section\n",
      "IBYa=math.sqrt((P2))/(P3BYIsqr)##cm**2\n",
      "print '%s %.2f' %(\"Most economical current density in A/cm**2 : \",IBYa)#\n"
     ],
     "language": "python",
     "metadata": {},
     "outputs": [
      {
       "output_type": "stream",
       "stream": "stdout",
       "text": [
        "Most economical current density in A/cm**2 :  1655.89\n"
       ]
      }
     ],
     "prompt_number": 5
    },
    {
     "cell_type": "heading",
     "level": 2,
     "metadata": {},
     "source": [
      "Example E6 - Pg 73"
     ]
    },
    {
     "cell_type": "code",
     "collapsed": false,
     "input": [
      "#Exa 3.6\n",
      "#Given data :\n",
      "import math\n",
      "A=100.##cross section area\n",
      "I=100.##Current\n",
      "Cc=500.+2000.*A#Rs/km\n",
      "load_factor=0.12#\n",
      "i=12.##%(depreciation)\n",
      "E_lost_cost=0.05##Rs/kWh\n",
      "R=0.17/A##ohm/km\n",
      "Cc_var=2000.*A#Rs/km(variable cost)\n",
      "P2A=Cc_var*i/100.##Rs/km\n",
      "P2=P2A/A#\n",
      "R_into_A=R*A##ohm\n",
      "W_into_A_BY_Isqr=R_into_A##W\n",
      "E_loss_into_A_BY_Isqr=W_into_A_BY_Isqr*load_factor/1000.*8760.##kWh\n",
      "P3BYIsqr=E_lost_cost*E_loss_into_A_BY_Isqr##Rs\n",
      "#P2a=P3BYa##For most economical cross section\n",
      "IBYa=math.sqrt((P2))/(P3BYIsqr)##cm**2\n",
      "print '%s %.2f' %(\"Most economical current density in A/cm**2 : \",IBYa)#\n",
      "#Answer in the textbook is wrong.\n"
     ],
     "language": "python",
     "metadata": {},
     "outputs": [
      {
       "output_type": "stream",
       "stream": "stdout",
       "text": [
        "Most economical current density in A/cm**2 :  1733.81\n"
       ]
      }
     ],
     "prompt_number": 6
    },
    {
     "cell_type": "heading",
     "level": 2,
     "metadata": {},
     "source": [
      "Example E7 - Pg 73"
     ]
    },
    {
     "cell_type": "code",
     "collapsed": false,
     "input": [
      "#calculate Most economical cross sectional area\n",
      "#Given data :\n",
      "import math\n",
      "P1=1000.##kW\n",
      "pf1=0.8##\n",
      "t1=10.##hours\n",
      "P2=500.##kW\n",
      "pf2=0.9##\n",
      "t2=8.##hours\n",
      "P3=100.##kW\n",
      "pf3=1.##\n",
      "t3=6.##hours\n",
      "a=100.##cross section area\n",
      "I=100.##Current\n",
      "L=100.##length in km\n",
      "CcBYL=(8000.*a+1500.)#Rs/km(variable cost)\n",
      "i=10.##%(depreciation)\n",
      "E_lost_cost=80./100.##Rs/kWh\n",
      "rho=1.72*10.**-6.##ohm-cm\n",
      "Cc_varBYL=8000.*a*i/100.#Rs/km(variable cost)\n",
      "I1=P1*1000./math.sqrt(3.)/10000./pf1##A\n",
      "I2=P2*1000./math.sqrt(3.)/10000./pf2##A\n",
      "I3=P3*1000./math.sqrt(3.)/10000./pf3##A\n",
      "R_into_a_BY_L=rho*1000.*100.##ohm\n",
      "W_into_A_BY_Isqr=R_into_a_BY_L##W\n",
      "E_loss_into_A_BY_L=3*R_into_a_BY_L*(I1**2*t1+I2**2*t2+I3**2*t3)*365./1000.##kWh\n",
      "E_loss_cost_into_A_BY_L=E_loss_into_A_BY_L*E_lost_cost##Rs\n",
      "#Cc_var=E_loss_cost##For most economical cross section\n",
      "a=math.sqrt((E_loss_cost_into_A_BY_L))/(Cc_varBYL/a)##cm**2\n",
      "print '%s %.2f' %(\"Most economical cross sectional area in cm**2 : \",a)#\n"
     ],
     "language": "python",
     "metadata": {},
     "outputs": [
      {
       "output_type": "stream",
       "stream": "stdout",
       "text": [
        "Most economical cross sectional area in cm**2 :  0.12\n"
       ]
      }
     ],
     "prompt_number": 7
    }
   ],
   "metadata": {}
  }
 ]
}