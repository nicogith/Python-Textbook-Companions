{
 "metadata": {
  "name": "",
  "signature": "sha256:a3257cf5589919f02234d6cf7ed2bf5fce234214f8f5ed548e011fbbc2b55a9f"
 },
 "nbformat": 3,
 "nbformat_minor": 0,
 "worksheets": [
  {
   "cells": [
    {
     "cell_type": "heading",
     "level": 1,
     "metadata": {},
     "source": [
      "Chapter 2:Heat Conduction in Solids"
     ]
    },
    {
     "cell_type": "heading",
     "level": 2,
     "metadata": {},
     "source": [
      "Example 2.1 , Page no:27"
     ]
    },
    {
     "cell_type": "code",
     "collapsed": false,
     "input": [
      "import math\n",
      "from __future__ import division\n",
      "\n",
      "#Variable declaration\n",
      "di=0.02; #inner radius m\n",
      "do=0.04; #inner radius m\n",
      "ri=di/2; #inner radius m\n",
      "ro=do/2; #inner radius m\n",
      "k=0.58; #thermal conductivity of tube material w/m K\n",
      "ti=70; #degree C\n",
      "to=100; #degree C\n",
      "l=1; #per unit length m\n",
      "\n",
      "#calculations\n",
      "q=l*2*(3.14)*k*(ti-to)/math.log(ro/ri);\n",
      "\n",
      "#result\n",
      "print\"Heat flow per unit length is\",round(q,4),\"W/m\";"
     ],
     "language": "python",
     "metadata": {},
     "outputs": [
      {
       "output_type": "stream",
       "stream": "stdout",
       "text": [
        "Heat flow per unit length is -157.6462 W/m\n"
       ]
      }
     ],
     "prompt_number": 1
    },
    {
     "cell_type": "heading",
     "level": 2,
     "metadata": {},
     "source": [
      "Example 2.2 , Page no:31"
     ]
    },
    {
     "cell_type": "code",
     "collapsed": false,
     "input": [
      "import math\n",
      "from __future__ import division\n",
      "\n",
      "#Variable declaration\n",
      "di=0.02; #inner radius\n",
      "do=0.04; #outer radius\n",
      "ri=di/2; #inner radius\n",
      "ro=do/2; #outer radius\n",
      "k=0.58; #thermal conductivity of tube material\n",
      "ti=70; #degree C\n",
      "to=100; #degree C\n",
      "l=1; #per unit length\n",
      "h=5000; #W/m^2 K\n",
      "\n",
      "#calculations\n",
      "Rthtube=(math.log(ro/ri))/(2*3.14*k*l); #thermal resistance of tube per unit length\n",
      "Rthcond=1/(3.14*do*l*h); #thermal resistance of condensing steam per unit length\n",
      "q=l*2*(3.14)*k*(ti-100)/math.log(ro/ri); #heat flow rate per unit meter \n",
      "\n",
      "#result\n",
      "print\"Thermal resistance of tube per unit length is\",round(Rthtube,4),\"K/W\";\n",
      "print\"Thermal resistance of condensing steam perunit length is\",round(Rthcond,5),\"K/W\";\n",
      "print\"Heat flow per unit length is\",round(q,4),\"K/W\";"
     ],
     "language": "python",
     "metadata": {},
     "outputs": [
      {
       "output_type": "stream",
       "stream": "stdout",
       "text": [
        "Thermal resistance of tube per unit length is 0.1903 K/W\n",
        "Thermal resistance of condensing steam perunit length is 0.00159 K/W\n",
        "Heat flow per unit length is -157.6462 K/W\n"
       ]
      }
     ],
     "prompt_number": 2
    },
    {
     "cell_type": "heading",
     "level": 2,
     "metadata": {},
     "source": [
      "Example 2.3 , Page no:31"
     ]
    },
    {
     "cell_type": "code",
     "collapsed": false,
     "input": [
      "import math\n",
      "from __future__ import division\n",
      "\n",
      "#Variable declaration\n",
      "hw=140; #heat transfer coefficient on water side\n",
      "ho=150; #heat transfer coefficient on oil side\n",
      "k=30; #thermal conductivity\n",
      "ro=0.1; #inner diameter of GI pipe on inside\n",
      "ri=0.008; #outer diameter of GI pipe on inside\n",
      "l=1; #per unit length\n",
      "\n",
      "#calculations\n",
      "RinnerGI=math.log((ro/ri))/(2*3.14*k*l); #Thermal resistance of inner GI pipe\n",
      "Roilside=1/(ho*3.14*2*ri*l); #Thermal resistanceon the oil side per unit length\n",
      "Rwaterside=1/(hw*3.14*2*ro*l); #Thermal resistanceon the water side per unit length\n",
      "\n",
      "#result\n",
      "print\"Thermal resistance of inner GI pipe =\",round(RinnerGI,5),\"K/W\";\n",
      "print\"Thermal resistance on the oil side perunit length =\",round(Roilside,5),\"K/W\";\n",
      "print\"Thermal resistance on cold water side per unit length =\",round(Rwaterside,5),\"K/W\";\n",
      "print\"So,Engineer in-charge has made a bad decision\";"
     ],
     "language": "python",
     "metadata": {},
     "outputs": [
      {
       "output_type": "stream",
       "stream": "stdout",
       "text": [
        "Thermal resistance of inner GI pipe = 0.01341 K/W\n",
        "Thermal resistance on the oil side perunit length = 0.1327 K/W\n",
        "Thermal resistance on cold water side per unit length = 0.01137 K/W\n",
        "So,Engineer in-charge has made a bad decision\n"
       ]
      }
     ],
     "prompt_number": 3
    },
    {
     "cell_type": "heading",
     "level": 2,
     "metadata": {},
     "source": [
      "Example 2.4 , Page no:32"
     ]
    },
    {
     "cell_type": "code",
     "collapsed": false,
     "input": [
      "import math\n",
      "from __future__ import division\n",
      "\n",
      "#Variable declaration\n",
      "ti=300; #Internal temp of hot gas in degree Celsius\n",
      "od=0.1; #Outer diameter of long metal pipe in meters\n",
      "i_d=0.04; #Internal diamtere of long metal pipe in meters\n",
      "ki=0.052; #thermal conductivity of mineral wood in W/mK\n",
      "to=50; #Outer surface temperature in degree celsius\n",
      "hi=29; #heat transfer coefficient in the inner side in W/m^2 K\n",
      "ho=12; #heat transfer coefficient in the outer pipe W/m^2 K\n",
      "t=25; # Surrounding temperature in degree celsius\n",
      "\n",
      "#Calculation\n",
      "#Determination of thickness of insulation\n",
      "#By solving the following two equations by trial and error method for r3\n",
      "#q_L=2*3.14*0.047*(t1-t)/(1/hi+(0.047/ki)*2.303*math.log(r3/od/2)+(0.047/h0*r3));\n",
      "#q_L=2*3.14*h0*(to-t);\n",
      "#By trial and error we get\n",
      "r3=0.082; #in m\n",
      "t=r3-(od/2);\n",
      "#Heat loss per unit length\n",
      "q=600*(22/7)*r3;\n",
      "\n",
      "#Result\n",
      "print\"Thickness of insulation =\",t*100,\"cm\";\n",
      "print\"Heat loss per unit length =\",round(q,1),\"W/m\";"
     ],
     "language": "python",
     "metadata": {},
     "outputs": [
      {
       "output_type": "stream",
       "stream": "stdout",
       "text": [
        "Thickness of insulation = 3.2 cm\n",
        "Heat loss per unit length = 154.6 W/m\n"
       ]
      }
     ],
     "prompt_number": 4
    },
    {
     "cell_type": "heading",
     "level": 2,
     "metadata": {},
     "source": [
      "Example 2.5 , Page no:34"
     ]
    },
    {
     "cell_type": "code",
     "collapsed": false,
     "input": [
      "import math\n",
      "from __future__ import division\n",
      "import matplotlib.pyplot as plt\n",
      "import numpy as np\n",
      "\n",
      "#Variable declaration\n",
      "ti=90; #Temp on inner side in degree celsius\n",
      "to=30; #Temp on outer side in degree celsius\n",
      "hi=500; #heat transfer coeffcient in W/m^2 K\n",
      "ho=10; #heat transfer coeffcient in W/m^2 K\n",
      "i_d=0.016; #Internal diameter in meters\n",
      "od=0.02; #Outer diameter in meters\n",
      "from pylab import *\n",
      "%matplotlib inline\n",
      "\n",
      "\n",
      "#Calculation\n",
      "r3=np.linspace (0.01,0.06,12);\n",
      "t=[0,0.5,1,1.5,2,2.5,3,3.5,4,4.5,5,5.5]\n",
      "q_L=(2*(3.14)*(i_d/2)*(ti-to))/((1/hi)+(0.008/0.2)*np.log(r3/0.01) + (0.008/r3*(1/ho)));\n",
      "\n",
      "#Result\n",
      "print \"Insulaion thickness (cm)\", \"     r3 (m)\",\"      Heat loss rate per meter (W/m)  \"   \n",
      "print \"      \",t[0],\"                    \",0.01,\"                    \",round(q_L[0],1),\"(roundoff error)\"\n",
      "print \"      \",t[1],\"                  \",0.015,\"                   \",  round(q_L[1],1),\"(roundoff error)\"\n",
      "print \"      \",t[2],\"                    \",0.02,\"                    \",round(q_L[2],1),\"(roundoff error)\"\n",
      "print \"      \",t[4],\"                    \",0.03,\"                    \",round(q_L[4],1),\"(roundoff error)\"\n",
      "print \"      \",t[6],\"                    \",0.04,\"                    \",round(q_L[6],1),\"(roundoff error)\"\n",
      "print \"      \",t[8],\"                    \",0.05,\"                    \",round(q_L[8],1),\"(roundoff error)\"\n",
      "print \"      \",t[10],\"                    \",0.06,\"                    \",round(q_L[10],1),\"(roundoff error)\"\n",
      "plt.plot (t,q_L);\n",
      "plt.title (\"Variation of heat loss rate with insulation thickness\");\n",
      "plt.xlabel(\" Insulation thickness in cm\");\n",
      "plt.ylabel(\" Heat Loss in W/m \");\n",
      "plt.show();"
     ],
     "language": "python",
     "metadata": {},
     "outputs": [
      {
       "output_type": "stream",
       "stream": "stdout",
       "text": [
        "Insulaion thickness (cm)      r3 (m)       Heat loss rate per meter (W/m)  \n",
        "       0                      0.01                      36.8 (roundoff error)\n",
        "       0.5                    0.015                     41.9 (roundoff error)\n",
        "       1                      0.02                      43.2 (roundoff error)\n",
        "       2                      0.03                      42.0 (roundoff error)\n",
        "       3                      0.04                      39.6 (roundoff error)\n",
        "       4                      0.05                      37.4 (roundoff error)\n",
        "       5                      0.06                      35.5 (roundoff error)\n"
       ]
      },
      {
       "metadata": {},
       "output_type": "display_data",
       "png": "[encoded data removed]",
       "text": [
        "<matplotlib.figure.Figure at 0x4db9850>"
       ]
      }
     ],
     "prompt_number": 5
    },
    {
     "cell_type": "heading",
     "level": 2,
     "metadata": {},
     "source": [
      "Example 2.6 , Page no:34"
     ]
    },
    {
     "cell_type": "code",
     "collapsed": false,
     "input": [
      "import math\n",
      "from __future__ import division\n",
      "\n",
      "#Variable declaration\n",
      "hnatural = 10; #heat transfer coefficient for natural \n",
      "hforced = 50; #heat transfer coefficient for forced\n",
      "k1 = 0.2; #thermal conductivity\n",
      "k2 = 0.05; #thermal conductivity\n",
      "\n",
      "#result\n",
      "print\"critical radius of insulation in cm\";\n",
      "print\"\\n                h=10             h=50\";\n",
      "print\"\\nAsbestos       \",k1 *100/ hnatural,\"           \",                 k1*100/ hforced;\n",
      "print\"\\nMineral wool   \",k2 *100/ hnatural,\"           \",             k2*100/ hforced;"
     ],
     "language": "python",
     "metadata": {},
     "outputs": [
      {
       "output_type": "stream",
       "stream": "stdout",
       "text": [
        "critical radius of insulation in cm\n",
        "\n",
        "                h=10             h=50\n",
        "\n",
        "Asbestos        2.0             0.4\n",
        "\n",
        "Mineral wool    0.5             0.1\n"
       ]
      }
     ],
     "prompt_number": 6
    },
    {
     "cell_type": "heading",
     "level": 2,
     "metadata": {},
     "source": [
      "Example 2.7 , Page no:43"
     ]
    },
    {
     "cell_type": "code",
     "collapsed": false,
     "input": [
      "import math\n",
      "from __future__ import division\n",
      "\n",
      "#Variable declaration\n",
      "h=5; #Height\n",
      "l=10; #Length\n",
      "t=1; #thickness\n",
      "k=1.05; #W/m K\n",
      "q=58; #W/m^3\n",
      "t1=35; #c\n",
      "h=11.6; #Heat transfer coefficient\n",
      "\n",
      "#calculations\n",
      "b=t/2;\n",
      "tmax=t1+q*b*(b/(2*k)+1/h);\n",
      "\n",
      "#result\n",
      "print\"Maximum Temperature =\",round(tmax,3),\"degree c\";"
     ],
     "language": "python",
     "metadata": {},
     "outputs": [
      {
       "output_type": "stream",
       "stream": "stdout",
       "text": [
        "Maximum Temperature = 44.405 degree c\n"
       ]
      }
     ],
     "prompt_number": 7
    },
    {
     "cell_type": "heading",
     "level": 2,
     "metadata": {},
     "source": [
      "Example 2.8 , Page no:47"
     ]
    },
    {
     "cell_type": "code",
     "collapsed": false,
     "input": [
      "import math\n",
      "from __future__ import division\n",
      "\n",
      "#Variable declaration\n",
      "#The bar will have two dimensional variation in temperature\n",
      "#the differential equation is subject to boundary conditions\n",
      "x1 = 0; #cm\n",
      "Tx1 = 30; #C\n",
      "x2 = 5; #cm\n",
      "Tx2 = 30; #C\n",
      "y1 = 0; #cm\n",
      "Ty1 = 30; #C\n",
      "y2 = 10; #cm\n",
      "Ty2 = 130; #C\n",
      "\n",
      "#substituting theta = T-30 and using eqn 2.6.11\n",
      "#putting x = 2.5cm and y = 5cm in infinite summation series\n",
      "n = 1;\n",
      "x1 = (1- math.cos ( 3.14*3.14/180 *n))/( math.sinh (2*3.14* 3.14/180 *n))*math.sin(n**(3.14*3.14/180 /2))*math.sinh (n*3.14*3.14/180);\n",
      "\n",
      "n = 3;\n",
      "x2 = (1- math.cos ( 3.14*3.14/180 *n))/( math.sinh (2*3.14* 3.14/180 *n))*math.sin(n**(3.14*3.14/180 /2))*math.sinh (n*3.14*3.14/180);\n",
      "\n",
      "n = 5;\n",
      "x3 = (1- math.cos ( 3.14*3.14/180 *n))/( math.sinh (2*3.14* 3.14/180 *n))*math.sin(n**(3.14*3.14/180 /2))*math.sinh (n*3.14*3.14/180);\n",
      "\n",
      "x = x1+x3+x3;\n",
      "T = x *100+30;\n",
      "\n",
      "#result\n",
      "print \"Steady statetemper a ture= \",T,\"c   (roundoff error)\";"
     ],
     "language": "python",
     "metadata": {},
     "outputs": [
      {
       "output_type": "stream",
       "stream": "stdout",
       "text": [
        "Steady statetemper a ture=  33.1695223665 c   (roundoff error)\n"
       ]
      }
     ],
     "prompt_number": 8
    },
    {
     "cell_type": "heading",
     "level": 2,
     "metadata": {},
     "source": [
      "Example 2.9 , Page no:51"
     ]
    },
    {
     "cell_type": "code",
     "collapsed": false,
     "input": [
      "import math\n",
      "from __future__ import division\n",
      "\n",
      "#Variable declaration\n",
      "k = 330; #thermal conductivity\n",
      "a = 95*10**(-6); #thermal expansion coefficient\n",
      "R = 0.01; #radius in meters\n",
      "To = 77; #temperature in kelvins\n",
      "Tf = 273+50; #temperature in kelvins\n",
      "theta1 = To - Tf; \n",
      "T = 273+10; ##temperature in kelvins\n",
      "theta = T - Tf;\n",
      "h = 20; #heat transfer coefficient in W/m^2 K\n",
      "\n",
      "print\"Theta1 =\",theta1,\"K\";\n",
      "print\"Theta =\",theta,\"K\";\n",
      "print\"v/A =\",R/2,\"m\";\n",
      "print\"k/a =\",round((k/a)*10**(-6),4),\"*10^(6)J/m^3 K\";\n",
      "\n",
      "time =(k/a)*(R/2)/h*math.log(theta1/theta);\n",
      "\n",
      "print\"Time taken by the rod to heat up =\",round(time,1),\"secs\";\n",
      "\n",
      "Bi = h*R/k;\n",
      "\n",
      "#result\n",
      "print\"Biot number Bi =\",round(Bi*10**4,2),\"*10^(-4)\";\n",
      "print\"Since Biot number is much less than 0.1,therefore assumption that internal temper a ture gradients are negligible is a good one\";"
     ],
     "language": "python",
     "metadata": {},
     "outputs": [
      {
       "output_type": "stream",
       "stream": "stdout",
       "text": [
        "Theta1 = -246 K\n",
        "Theta = -40 K\n",
        "v/A = 0.005 m\n",
        "k/a = 3.4737 *10^(6)J/m^3 K\n",
        "Time taken by the rod to heat up = 1577.4 secs\n",
        "Biot number Bi = 6.06 *10^(-4)\n",
        "Since Biot number is much less than 0.1,therefore assumption that internal temper a ture gradients are negligible is a good one\n"
       ]
      }
     ],
     "prompt_number": 9
    },
    {
     "cell_type": "heading",
     "level": 2,
     "metadata": {},
     "source": [
      "Example 2.10(1) , Page no:58"
     ]
    },
    {
     "cell_type": "code",
     "collapsed": false,
     "input": [
      "import math\n",
      "from __future__ import division\n",
      "\n",
      "#Variable declaration\n",
      "b = 0.005; #m\n",
      "t = 5*60; #time, [sec]\n",
      "Th = 200; #C\n",
      "Tw = 20 ; #C\n",
      "h = 150; #W/m^2 K\n",
      "rho = 2200; #kg/m^3\n",
      "Cp = 1050; #J/kg K\n",
      "k = 0.4; #W/m K\n",
      "ratiob0 = 0.12; \n",
      "ratiob1 = 0.48; \n",
      "lambda1b = 1.0498; \n",
      "\n",
      "#calculations\n",
      "theta = Th - Tw;\n",
      "Biotno = h*b/k;\n",
      "a = k/( rho*Cp); #alpha\n",
      "Fourierno = a*t/b**2;\n",
      "thetaxb0 = theta*ratiob0;\n",
      "Txb0 = thetaxb0+Tw;\n",
      "thetaxb1 = theta*ratiob1 ;\n",
      "Txb1 = thetaxb1+Tw ;\n",
      "\n",
      "x = (2*math.sin((lambda1b)))/(lambda1b+((math.sin((lambda1b)))*(math.cos((lambda1b)))));\n",
      "thetaxb0 = theta*x*(math.exp((-lambda1b**2)*Fourierno));\n",
      "Txb0 = thetaxb0+Tw;\n",
      "\n",
      "#result\n",
      "print\"Temperature at b=0 is\",round(Txb0,4),\"degree\";"
     ],
     "language": "python",
     "metadata": {},
     "outputs": [
      {
       "output_type": "stream",
       "stream": "stdout",
       "text": [
        "Temperature at b=0 is 41.3418 degree\n"
       ]
      }
     ],
     "prompt_number": 10
    },
    {
     "cell_type": "heading",
     "level": 2,
     "metadata": {},
     "source": [
      "Example 2.10(2) , Page no:58"
     ]
    },
    {
     "cell_type": "code",
     "collapsed": false,
     "input": [
      "import math\n",
      "from __future__ import division\n",
      "\n",
      "#Variable declaration\n",
      "b = 0.005; #m\n",
      "t = 5*60; #time, [sec]\n",
      "Th = 200; #C\n",
      "Tw = 20; #C\n",
      "h = 150; #W/m^2 K\n",
      "rho = 2200; #kg/m^3\n",
      "Cp = 1050; #J/kg K\n",
      "k = 0.4; #W/m K\n",
      "ratiob0 = 0.12;\n",
      "ratiob1 = 0.48;\n",
      "lambda1b = 1.0498;\n",
      "\n",
      "#calculations\n",
      "theta = Th - Tw;\n",
      "Biotno = h*b/k;\n",
      "a = k/( rho *Cp);\n",
      "Fourierno = a*t/b**2;\n",
      "thetaxb0 = theta * ratiob0;\n",
      "Txb0 = thetaxb0 + Tw;\n",
      "thetaxb1 = theta * ratiob1;\n",
      "Txb1 = thetaxb1 + Tw;\n",
      "x = 2*math.sin(((lambda1b)))/(lambda1b + (math.sin(((lambda1b))))*(math.cos((lambda1b))));\n",
      "thetaxb1 = thetaxb0*(math.cos (lambda1b *1));\n",
      "Txb1 = thetaxb1+Tw;\n",
      "\n",
      "#result\n",
      "print\"Temperature at b=1 is\",round(Txb1,3),\"degree C\\n\";"
     ],
     "language": "python",
     "metadata": {},
     "outputs": [
      {
       "output_type": "stream",
       "stream": "stdout",
       "text": [
        "Temperature at b=1 is 30.751 degree C\n",
        "\n"
       ]
      }
     ],
     "prompt_number": 11
    },
    {
     "cell_type": "heading",
     "level": 2,
     "metadata": {},
     "source": [
      "Example 2.11(1) , Page no:65"
     ]
    },
    {
     "cell_type": "code",
     "collapsed": false,
     "input": [
      "import math\n",
      "from __future__ import division\n",
      "\n",
      "#Variable declaration\n",
      "D = 0.05 ; #m\n",
      "To = 450 ; #degree C\n",
      "Tf = 90 ; #degree C\n",
      "T = 150 ; #degree C\n",
      "h = 115 ; #W/m^2 K\n",
      "rho = 8000 ; #kg/m^3\n",
      "Cp = 0.42*1000 ;  #kg/m^3\n",
      "k = 46 ; #W/m K\n",
      "R = D/2; \n",
      "\n",
      "#calculations\n",
      "t1 = rho*Cp*R /(3* h)* math.log ((To -Tf)/(T-Tf)); #sec\n",
      "t1min = t1 /60 ; #min\n",
      "\n",
      "#result\n",
      "print\"Time taken by the centre of the ball to reach 150 degree C if internal gradients are neglected is\",round(t1,4),\"seconds i.e.\",round(t1min,4),\"minutes\";"
     ],
     "language": "python",
     "metadata": {},
     "outputs": [
      {
       "output_type": "stream",
       "stream": "stdout",
       "text": [
        "Time taken by the centre of the ball to reach 150 degree C if internal gradients are neglected is 436.2545 seconds i.e. 7.2709 minutes\n"
       ]
      }
     ],
     "prompt_number": 12
    },
    {
     "cell_type": "heading",
     "level": 2,
     "metadata": {},
     "source": [
      "Example 2.11(2) , Page no:65"
     ]
    },
    {
     "cell_type": "code",
     "collapsed": false,
     "input": [
      "import math\n",
      "from __future__ import division\n",
      "\n",
      "#Variable declaration\n",
      "D = 0.05 ; #m\n",
      "To = 450 ; #degree C\n",
      "Tf = 90 ; #degree C\n",
      "T = 150 ; #degree C\n",
      "h = 115 ; #W/m^2 K\n",
      "rho = 8000 ; #kg/m^3\n",
      "Cp = 0.42*1000 ;  #kg/m^3\n",
      "k = 46 ; #W/m K\n",
      "R = D/2;\n",
      "lambda1R = 0.430;\n",
      "y = 5;\n",
      "\n",
      "#calculations\n",
      "ratio = (T-Tf)/( To - Tf);\n",
      "Bi = h*R/k;\n",
      "x = 2* (math.sin(lambda1R)- lambda1R * math.cos(lambda1R))/ (lambda1R - math.sin ( lambda1R)*math.cos( lambda1R));\n",
      "t=(math.log (ratio/x))/(-1*(k/(Cp*rho*R**2))*lambda1R**2);\n",
      "tmin = t /60;\n",
      "\n",
      "#result\n",
      "print\"Time taken by the centre of the ball to reach 150 degree\" \n",
      "print \"C if internal temperature gradients are not neglected is\",round(t,3),\"seconds i.e\",round(tmin,3),\"min   (roundoff error)\";"
     ],
     "language": "python",
     "metadata": {},
     "outputs": [
      {
       "output_type": "stream",
       "stream": "stdout",
       "text": [
        "Time taken by the centre of the ball to reach 150 degree\n",
        "C if internal temperature gradients are not neglected is 446.95 seconds i.e 7.449 min   (roundoff error)\n"
       ]
      }
     ],
     "prompt_number": 13
    },
    {
     "cell_type": "heading",
     "level": 2,
     "metadata": {},
     "source": [
      "Example 2.12 , Page no:67"
     ]
    },
    {
     "cell_type": "code",
     "collapsed": false,
     "input": [
      "import math\n",
      "from __future__ import division\n",
      "\n",
      "#Variable declaration\n",
      "a = 0.12 ; #m\n",
      "T = 400 ; #C\n",
      "To = 25 ; #C\n",
      "t = 100/60 ; #hour\n",
      "h = 10 ; #W/m^2 K\n",
      "k = 1.0 ; #W/m K\n",
      "alpha = 3.33*10** -3 ; #m^2/h\n",
      "ratiox = 0.82 ;\n",
      "ratioy = 0.41;\n",
      "ratioz = 0.30;\n",
      "\n",
      "#calculations\n",
      "x1 = h*a/k ;\n",
      "x2 = k/(h*a);\n",
      "x3 = alpha *t/a**2;\n",
      "totalratio = ratiox * ratioy * ratioz ;\n",
      "Tcentre = To + totalratio *(T-To) ;\n",
      "ratiox = 1.1310* math.exp ( -(0.9036**2) *0.385) ;\n",
      "ratioy = 1.0701* math.exp ( -(0.6533**2) *2.220) ;\n",
      "ratioz = 1.0580* math.exp ( -(0.5932**2) *3.469) ;\n",
      "ratio = ratiox * ratioy * ratioz ;\n",
      "Tcentre = To + totalratio *(T-To) ;\n",
      "\n",
      "#result\n",
      "print\"Temperature at the centre of the brick =\",round(Tcentre,3),\"degree c\";\n",
      "print\"Alternatively, obtaining Biot number and values of lambda1b and using eqn 2.7.20, we get\";\n",
      "print\"Temperature at the centre of the brick =\",round(Tcentre,3),\"degree c\";"
     ],
     "language": "python",
     "metadata": {},
     "outputs": [
      {
       "output_type": "stream",
       "stream": "stdout",
       "text": [
        "Temperature at the centre of the brick = 62.822 degree c\n",
        "Alternatively, obtaining Biot number and values of lambda1b and using eqn 2.7.20, we get\n",
        "Temperature at the centre of the brick = 62.822 degree c\n"
       ]
      }
     ],
     "prompt_number": 14
    },
    {
     "cell_type": "heading",
     "level": 2,
     "metadata": {},
     "source": [
      "Example 2.13(1) , Page no:73"
     ]
    },
    {
     "cell_type": "code",
     "collapsed": false,
     "input": [
      "import math\n",
      "from __future__ import division\n",
      "\n",
      "#Variable declaration\n",
      "D = 0.003 ; #m\n",
      "L = 0.03 ; #m\n",
      "h = 10 ; #W/m^2\n",
      "Tf = 20 ; #C\n",
      "T1 = 120 ; #C\n",
      "k = 350 ; #W/m K\n",
      "\n",
      "#calculations\n",
      "m = (4* h/(k*D)) **(1/2) ;\n",
      "ml = m *0.03 ;\n",
      "T = Tf + (T1 -Tf)/ math.cosh (m*L);\n",
      "\n",
      "#result\n",
      "print\"ml=\",round(ml,4);\n",
      "print\"Temperature at the tip of fin made of copper is\",round(T,4),\"degree c\";"
     ],
     "language": "python",
     "metadata": {},
     "outputs": [
      {
       "output_type": "stream",
       "stream": "stdout",
       "text": [
        "ml= 0.1852\n",
        "Temperature at the tip of fin made of copper is 118.3099 degree c\n"
       ]
      }
     ],
     "prompt_number": 15
    },
    {
     "cell_type": "heading",
     "level": 2,
     "metadata": {},
     "source": [
      "Example 2.13(2) , Page no:73"
     ]
    },
    {
     "cell_type": "code",
     "collapsed": false,
     "input": [
      "import math\n",
      "from __future__ import division\n",
      "\n",
      "#Variable declaration\n",
      "D = 0.003 ; #m\n",
      "l = 0.03 ; #m\n",
      "h = 10 ; #W/m^2\n",
      "Tf = 20 ; #C\n",
      "T1 = 120 ; #C\n",
      "k = 15 ; #W/m K\n",
      "\n",
      "#calculations\n",
      "m = (4*h/(k*D)) **(1/2) ;\n",
      "ml = m *0.03 ;\n",
      "T = Tf + (T1 -Tf)/ math.cosh (m*l);\n",
      "\n",
      "#result\n",
      "print\"ml=\",round(ml,4);\n",
      "print\"Temperature at the tip of fin made of steel is\",round(T,4),\"degree c\";"
     ],
     "language": "python",
     "metadata": {},
     "outputs": [
      {
       "output_type": "stream",
       "stream": "stdout",
       "text": [
        "ml= 0.8944\n",
        "Temperature at the tip of fin made of steel is 90.058 degree c\n"
       ]
      }
     ],
     "prompt_number": 16
    },
    {
     "cell_type": "heading",
     "level": 2,
     "metadata": {},
     "source": [
      "Example 2.13(3) , Page no:73"
     ]
    },
    {
     "cell_type": "code",
     "collapsed": false,
     "input": [
      "import math\n",
      "from __future__ import division\n",
      "\n",
      "#Variable declaration\n",
      "D = 0.003 ; #m\n",
      "L = 0.03 ; #m\n",
      "h = 10 ; #W/m^2\n",
      "Tf = 20 ; #C\n",
      "T1 = 120 ; #C\n",
      "k = 0.35 ; #W/m K\n",
      "\n",
      "#calculations\n",
      "m = (4* h/(k*D)) **(1/2) ;\n",
      "mL = m *0.03 ;\n",
      "T = Tf + (T1 -Tf)/ math.cosh (m*L);\n",
      "\n",
      "#result\n",
      "print\"ml=\",round(mL,4);\n",
      "print\"Temperature at the tip of fin made of teflon is\",round(T,4),\"degree c\";"
     ],
     "language": "python",
     "metadata": {},
     "outputs": [
      {
       "output_type": "stream",
       "stream": "stdout",
       "text": [
        "ml= 5.8554\n",
        "Temperature at the tip of fin made of teflon is 20.5729 degree c\n"
       ]
      }
     ],
     "prompt_number": 17
    },
    {
     "cell_type": "heading",
     "level": 2,
     "metadata": {},
     "source": [
      "Example 2.14 , Page no:74"
     ]
    },
    {
     "cell_type": "code",
     "collapsed": false,
     "input": [
      "import math\n",
      "from __future__ import division\n",
      "\n",
      "#Variable declaration\n",
      "L = 0.02 ; #M\n",
      "t = 0.002 ; #M\n",
      "b = 0.2 ; #M\n",
      "theta1 = 200 ; #C\n",
      "h = 15 ; #W/m^2 K\n",
      "k = 45 ; #W/m K\n",
      "\n",
      "#calculations\n",
      "Bi = h*(t /2) /k ;\n",
      "P = 2*( b+t); #m\n",
      "A = b*t ;\n",
      "mL = math.sqrt((h*P)/(A*k))*L;\n",
      "n = math.tanh(mL)/mL;\n",
      "qloss = n*h *40.4*2*10**-4*200;\n",
      "\n",
      "#result\n",
      "print\"Fin Effectiveness =\",round(n,3);\n",
      "print\"Heat loss rate from fin surface =\",round(qloss,3);"
     ],
     "language": "python",
     "metadata": {},
     "outputs": [
      {
       "output_type": "stream",
       "stream": "stdout",
       "text": [
        "Fin Effectiveness = 0.957\n",
        "Heat loss rate from fin surface = 23.207\n"
       ]
      }
     ],
     "prompt_number": 18
    },
    {
     "cell_type": "heading",
     "level": 2,
     "metadata": {},
     "source": [
      "Example 2.15 , Page no:74"
     ]
    },
    {
     "cell_type": "code",
     "collapsed": false,
     "input": [
      "import math\n",
      "from __future__ import division\n",
      "\n",
      "#Variable declaration\n",
      "h = 15 ; #W/m^2 .K\n",
      "k = 300; #W/m.K\n",
      "T = 200; #C\n",
      "Tsurr = 30; #C\n",
      "d = .01; #M\n",
      "L = .1; #M #\n",
      "A = .5*.5; #M^2\n",
      "n = 100; #Number of Pins\n",
      "\n",
      "#calculations\n",
      "Bi = h*d /2/ k; #Biot Number\n",
      "mL = (h *4/ k/d) **.5* L; \n",
      "zi = math.tanh (mL)/mL;\n",
      "Res1 = 1/h/A; #Thermal resistance without fins\n",
      "Res2 = 1/(h*(A - n*3.14 /4* d**2 + zi *(n* 3.14 *d*L))); #Thermal resistance with fins\n",
      "delRes = Res1 - Res2 ; #heat transfer rate\n",
      "q = (T- Tsurr )/ Res2 - (T- Tsurr )/ Res1 ;\n",
      "\n",
      "#result\n",
      "print\"Decrease in thermal resistaneat surface\",round(delRes,4),\"k/w\",\"\\nIncrease in heattransfer rate\",round(q,1);"
     ],
     "language": "python",
     "metadata": {},
     "outputs": [
      {
       "output_type": "stream",
       "stream": "stdout",
       "text": [
        "Decrease in thermal resistaneat surface 0.1425 k/w \n",
        "Increase in heattransfer rate 731.3\n"
       ]
      }
     ],
     "prompt_number": 19
    }
   ],
   "metadata": {}
  }
 ]
}